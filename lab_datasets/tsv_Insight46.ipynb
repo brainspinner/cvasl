{
 "cells": [
  {
   "cell_type": "markdown",
   "id": "87984282-43de-4b73-b855-343b03ddf8c0",
   "metadata": {},
   "source": [
    "# Assembling the Inight 46 dataset"
   ]
  },
  {
   "cell_type": "markdown",
   "id": "d486a3fe-a689-43db-b6b6-fd3caac895ec",
   "metadata": {},
   "source": [
    "### Import libraries"
   ]
  },
  {
   "cell_type": "code",
   "execution_count": null,
   "id": "d376ff33-33fa-4b75-a30e-29ba4c8b28eb",
   "metadata": {
    "tags": []
   },
   "outputs": [],
   "source": [
    "import os       # using operating system dependent functionality (folders)\n",
    "import pandas as pd # data analysis and manipulation\n",
    "import numpy as np    # numerical computing (manipulating and performing operations on arrays of data)\n",
    "import matplotlib.pyplot as plt\n",
    "import glob\n",
    "import sys\n",
    "sys.path.insert(0, '../') # path to functions\n",
    "import cvasl.seperated as sep\n",
    "from cvasl.file_handler import Config\n"
   ]
  },
  {
   "cell_type": "markdown",
   "id": "d2e6cb44-b8b7-4823-8f41-ccb9c2792de7",
   "metadata": {},
   "source": [
    "## Read data into pandas dataframe\n",
    "\n",
    "How do we define which files should be used together?\n",
    "options:\n",
    "- all files in folder\n",
    "- based on suffix (e.g. \"n=895_06-Feb-2023_PVC2.tsv\")\n",
    "- check first columns to see whether it matches\n",
    "\n",
    "For now, we will will use the first option, approved by Mathijs on 26th June 2023"
   ]
  },
  {
   "cell_type": "code",
   "execution_count": null,
   "id": "76c37516-5591-4aed-b994-8e9d6caae572",
   "metadata": {
    "tags": []
   },
   "outputs": [],
   "source": [
    "experiment_folder= 'Insight46'"
   ]
  },
  {
   "cell_type": "code",
   "execution_count": null,
   "id": "5ad9bf4f-345d-482c-8408-b17131b1c1d0",
   "metadata": {
    "tags": []
   },
   "outputs": [],
   "source": [
    "config = Config()\n",
    "root_directory = config.get_directory('raw_data')\n",
    "if os.path.isdir(os.path.join(root_directory, experiment_folder)):\n",
    "    print(\"this folder exists, we will take tsv from here\")\n",
    "else: \n",
    "    print(\"this folder does not seem to exist, try typing again\")"
   ]
  },
  {
   "cell_type": "code",
   "execution_count": null,
   "id": "aac0771c-e6c9-463c-9914-f435b39d3d5c",
   "metadata": {
    "tags": []
   },
   "outputs": [],
   "source": [
    "root_directory = config.get_directory('raw_data')\n",
    "tsv_path = os.path.join(root_directory, experiment_folder)\n",
    "\n",
    "tsv_files = [os.path.join(tsv_path, file) for file in os.listdir(tsv_path) if file.endswith('.tsv')]\n",
    "tsv_files"
   ]
  },
  {
   "cell_type": "code",
   "execution_count": null,
   "id": "c2c8c1d7-b976-452d-ab83-885899986f6d",
   "metadata": {
    "tags": []
   },
   "outputs": [],
   "source": [
    "# root_directory = config.get_directory('raw_data')\n",
    "# tsv_path = os.path.join(root_directory, experiment_folder)\n",
    "\n",
    "# tsv_files = [os.path.join(tsv_path, file) for file in os.listdir(tsv_path) if file.endswith('.tsv')]\n",
    "# tsv_files"
   ]
  },
  {
   "cell_type": "code",
   "execution_count": null,
   "id": "e26957ad-491a-4ea1-aa61-4fe63e964642",
   "metadata": {
    "tags": []
   },
   "outputs": [],
   "source": [
    "#CoV files -> COV values NOT \n",
    "tsv_files_for_cov = []\n",
    "basics = []\n",
    "for file in os.listdir(tsv_path):\n",
    "    if file.startswith('CoV') and file.endswith('.tsv'):\n",
    "        tsv_files_for_cov.append(os.path.join(tsv_path, file))\n",
    "    elif file.endswith('.tsv'):\n",
    "        basics.append(os.path.join(tsv_path, file))\n",
    "basics      "
   ]
  },
  {
   "cell_type": "code",
   "execution_count": null,
   "id": "e4ce1141-b4bc-4f6b-a56b-4f9300e80997",
   "metadata": {
    "tags": []
   },
   "outputs": [],
   "source": [
    "# Read files in selected folder into dataframes\n",
    "cov_dataframes = [pd.read_csv(file, sep='\\t', header=[0]) for file in tsv_files_for_cov]\n",
    "# make a sample\n",
    "sample_cov_df = cov_dataframes[2] # example of COV file\n",
    "cols_cov = sample_cov_df.columns\n",
    "#look at sample\n",
    "sample_cov_df"
   ]
  },
  {
   "cell_type": "code",
   "execution_count": null,
   "id": "4b50d49d-3c52-4ad1-b6c0-e31fb8b5a625",
   "metadata": {
    "tags": []
   },
   "outputs": [],
   "source": [
    "# Read files in selected folder into dataframes\n",
    "basic_dataframes = [pd.read_csv(file, sep='\\t', header=[0]) for file in basics]\n",
    "# make a sample\n",
    "sample_basic_df = basic_dataframes[2] # example of COV file\n",
    "cols_basic = sample_basic_df.columns\n",
    "#look at sample\n",
    "sample_basic_df"
   ]
  },
  {
   "cell_type": "code",
   "execution_count": null,
   "id": "25cb74bc-30b9-4c3a-b2d8-5a4519e1e507",
   "metadata": {
    "tags": []
   },
   "outputs": [],
   "source": [
    "# Read ALL files in selected folder into dataframes\n",
    "dataframes = [pd.read_csv(file, sep='\\t', header=[0]) for file in tsv_files]\n",
    "# make a sample\n",
    "sample_df = dataframes[2] # example of file\n",
    "cols = sample_df.columns\n",
    "#look at sample\n",
    "#sample_df"
   ]
  },
  {
   "cell_type": "code",
   "execution_count": null,
   "id": "d2e44412-1aa0-4900-b496-816c6200c66a",
   "metadata": {
    "tags": []
   },
   "outputs": [],
   "source": [
    "list_all_basic_column = []\n",
    "for frame in basic_dataframes:\n",
    "    list_columns = frame.columns.to_list()\n",
    "    for x in list_columns:\n",
    "        if x not in list_all_basic_column:\n",
    "            list_all_basic_column.append(x)\n",
    "list_all_basic_column"
   ]
  },
  {
   "cell_type": "code",
   "execution_count": null,
   "id": "f509fbe9-4a86-43b2-b252-3fdbb376c339",
   "metadata": {
    "tags": []
   },
   "outputs": [],
   "source": [
    "list_all_cov_column = []\n",
    "for frame in cov_dataframes:\n",
    "    list_columns = frame.columns.to_list()\n",
    "    for x in list_columns:\n",
    "        if x not in list_all_cov_column:\n",
    "            list_all_cov_column.append(x)\n",
    "#list_all_cov_column"
   ]
  },
  {
   "cell_type": "code",
   "execution_count": null,
   "id": "e67349da-1a7c-48c8-b284-fdb55ccf5b1f",
   "metadata": {
    "tags": []
   },
   "outputs": [],
   "source": [
    "# we transform one of the COV, we need to transform all of them\n",
    "for frame in cov_dataframes:\n",
    "    print(frame.columns)"
   ]
  },
  {
   "cell_type": "code",
   "execution_count": null,
   "id": "25193895-15ac-4476-9b73-27661e55f470",
   "metadata": {
    "tags": []
   },
   "outputs": [],
   "source": [
    "#cov_dataframes[0]"
   ]
  },
  {
   "cell_type": "code",
   "execution_count": null,
   "id": "9552bd28-93c7-4717-bb17-81f263da39b5",
   "metadata": {
    "tags": []
   },
   "outputs": [],
   "source": [
    "# for column in cov_dataframes[1].columns:\n",
    "#     print(column)\n",
    "    "
   ]
  },
  {
   "cell_type": "code",
   "execution_count": null,
   "id": "e569d226-12fd-430c-9a5a-97dbdc6f6870",
   "metadata": {},
   "outputs": [],
   "source": [
    "dict_0 = {\n",
    "    'participant_id' : 'participant_id', #\n",
    "    'session' : 'session', #,\n",
    "    'LongitudinalTimePoint' : 'LongitudinalTimePoint', #\n",
    "    'SubjectNList' : 'SubjectNList', #\n",
    "    'Site' : 'Site', #\n",
    "    'GM_vol' : 'GM_vol', #\n",
    "    'WM_vol' : 'WM_vol' ,#\n",
    "    'CSF_vol' : 'CSF_vol', #\n",
    "    'GM_ICVRatio' : 'GM_ICVRatio', #\n",
    "    'GMWM_ICVRatio' : 'GMWM_ICVRatio', #\n",
    "    'WMH_vol' : 'WMH_vol',#\n",
    "    'WMH_count' : 'WMH_count', # to here\n",
    "    'MeanMotion':'mean_motion',\n",
    "    'DeepWM_B' : 'DeepWM_B_cov',\n",
    "    'DeepWM_L' : 'DeepWM_L_cov',\n",
    "    'DeepWM_R' : 'DeepWM_R_cov',\n",
    "       }\n",
    "dict_1 = {\n",
    "    'participant_id' : 'participant_id', #\n",
    "    'session' : 'session', #,\n",
    "    'LongitudinalTimePoint' : 'LongitudinalTimePoint', #\n",
    "    'SubjectNList' : 'SubjectNList', #\n",
    "    'Site' : 'Site', #\n",
    "    'GM_vol' : 'GM_vol', #\n",
    "    'WM_vol' : 'WM_vol' ,#\n",
    "    'CSF_vol' : 'CSF_vol', #\n",
    "    'GM_ICVRatio' : 'GM_ICVRatio', #\n",
    "    'GMWM_ICVRatio' : 'GMWM_ICVRatio', #\n",
    "    'WMH_vol' : 'WMH_vol',#\n",
    "    'WMH_count' : 'WMH_count', # to here\n",
    "    'MeanMotion' : 'MeanMotion_COV?', # does this one have a COV? needs to check with scientisst\n",
    "    'TL_hippocampus_B' : 'TL_hippocampus_B_cov',\n",
    "    'TL_hippocampus_L' : 'TL_hippocampus_L_cov',\n",
    "    'TL_hippocampus_R' : 'TL_hippocampus_R_cov',\n",
    "    'TL_amygdala_B' : 'TL_amygdala_B_cov',\n",
    "    'TL_amygdala_L' : 'TL_amygdala_L_cov',\n",
    "    'TL_amygdala_R' : 'TL_amygdala_R_cov',\n",
    "    'TL_anterior_temporal_lobe_medial_part_B': 'TL_anterior_temporal_lobe_medial_part_B_cov', \n",
    "    'TL_anterior_temporal_lobe_medial_part_L': 'TL_anterior_temporal_lobe_medial_part_L_cov',\n",
    "    'TL_anterior_temporal_lobe_medial_part_R': 'TL_anterior_temporal_lobe_medial_part_R_cov',\n",
    "    'TL_anterior_temporal_lobe_lateral_part_B': 'TL_anterior_temporal_lobe_lateral_part_B_cov',\n",
    "    'TL_anterior_temporal_lobe_lateral_part_L': 'TL_anterior_temporal_lobe_lateral_part_L_cov',\n",
    "    'TL_anterior_temporal_lobe_lateral_part_R': 'TL_anterior_temporal_lobe_lateral_part_R_cov',\n",
    "    'TL_parahippocampal_and_ambient_gyrus_B' :'TL_parahippocampal_and_ambient_gyrus_B_cov',\n",
    "    'TL_parahippocampal_and_ambient_gyrus_L' :'TL_parahippocampal_and_ambient_gyrus_L_cov',\n",
    "    'TL_parahippocampal_and_ambient_gyrus_R' :'TL_parahippocampal_and_ambient_gyrus_R_cov',\n",
    "    'TL_superior_temporal_gyrus_middle_part_B' : 'TL_superior_temporal_gyrus_middle_part_B_cov',\n",
    "    'TL_superior_temporal_gyrus_middle_part_L' : 'TL_superior_temporal_gyrus_middle_part_L_cov',\n",
    "    'TL_superior_temporal_gyrus_middle_part_R' : 'TL_superior_temporal_gyrus_middle_part_R_cov',\n",
    "    'TL_middle_and_inferior_temporal_gyrus_B' : 'TL_middle_and_inferior_temporal_gyrus_B_cov',\n",
    "    'TL_middle_and_inferior_temporal_gyrus_L' : 'TL_middle_and_inferior_temporal_gyrus_L_cov',\n",
    "    'TL_middle_and_inferior_temporal_gyrus_R' : 'TL_middle_and_inferior_temporal_gyrus_R_cov',\n",
    "    'TL_fusiform_gyrus_B' : 'TL_fusiform_gyrus_B_cov',\n",
    "    'TL_fusiform_gyrus_L' : 'TL_fusiform_gyrus_L_cov',\n",
    "    'TL_fusiform_gyrus_R' : 'TL_fusiform_gyrus_R_cov',\n",
    "    'cerebellum_B' : 'cerebellum_B_cov',\n",
    "    'cerebellum_L' : 'cerebellum_L_cov',\n",
    "    'cerebellum_R' : 'cerebellum_R_cov',\n",
    "    'brainstem_excluding_substantia_nigra_B' : 'brainstem_excluding_substantia_nigra_B_cov',\n",
    "    'brainstem_excluding_substantia_nigra_L' : 'brainstem_excluding_substantia_nigra_L_cov',\n",
    "    'brainstem_excluding_substantia_nigra_R' : 'brainstem_excluding_substantia_nigra_R_cov',\n",
    "    'insula_posterior_long_gyrus_B' : 'insula_posterior_long_gyrus_B_cov',\n",
    "    'insula_posterior_long_gyrus_L' : 'insula_posterior_long_gyrus_L_cov',\n",
    "    'insula_posterior_long_gyrus_R' : 'insula_posterior_long_gyrus_R_cov',\n",
    "    'OL_lateral_remainder_occipital_lobe_B' : 'OL_lateral_remainder_occipital_lobe_B_cov',\n",
    "    'OL_lateral_remainder_occipital_lobe_L' : 'OL_lateral_remainder_occipital_lobe_L_cov',\n",
    "    'OL_lateral_remainder_occipital_lobe_R' : 'OL_lateral_remainder_occipital_lobe_R_cov',\n",
    "    'CG_anterior_cingulate_gyrus_B' : 'CG_anterior_cingulate_gyrus_B_cov',\n",
    "    'CG_anterior_cingulate_gyrus_L' : 'CG_anterior_cingulate_gyrus_L_cov',\n",
    "    'CG_anterior_cingulate_gyrus_R' : 'CG_anterior_cingulate_gyrus_R_cov',\n",
    "    'CG_posterior_cingulate_gyrus_B' : 'CG_posterior_cingulate_gyrus_B_cov',\n",
    "    'CG_posterior_cingulate_gyrus_L' : 'CG_posterior_cingulate_gyrus_L_cov',\n",
    "    'CG_posterior_cingulate_gyrus_R' : 'CG_posterior_cingulate_gyrus_R_cov',\n",
    "    'FL_middle_frontal_gyrus_B' : 'FL_middle_frontal_gyrus_B_cov',\n",
    "    'FL_middle_frontal_gyrus_L' : 'FL_middle_frontal_gyrus_L_cov',\n",
    "    'FL_middle_frontal_gyrus_R' : 'FL_middle_frontal_gyrus_R_cov',\n",
    "    'TL_posterior_temporal_lobe_B' : 'TL_posterior_temporal_lobe_B_cov',\n",
    "    'TL_posterior_temporal_lobe_L' : 'TL_posterior_temporal_lobe_L_cov',\n",
    "    'TL_posterior_temporal_lobe_R' : 'TL_posterior_temporal_lobe_R_cov',\n",
    "    'PL_angular_gyrus_B' : 'PL_angular_gyrus_B_cov',\n",
    "    'PL_angular_gyrus_L' : 'PL_angular_gyrus_L_cov',\n",
    "    'PL_angular_gyrus_R' : 'PL_angular_gyrus_R_cov',\n",
    "    'caudate_nucleus_B' : 'caudate_nucleus_B_cov',\n",
    "    'caudate_nucleus_L' : 'caudate_nucleus_L_cov',\n",
    "    'caudate_nucleus_R' : 'caudate_nucleus_R_cov',\n",
    "    'nucleus_accumbens_B' : 'nucleus_accumbens_B_cov',\n",
    "    'nucleus_accumbens_L' : 'nucleus_accumbens_L_cov',\n",
    "    'nucleus_accumbens_R' : 'nucleus_accumbens_R_cov',\n",
    "    'putamen_B' : 'putamen_B_cov',\n",
    "    'putamen_L' : 'putamen_L_cov',\n",
    "    'putamen_R' : 'putamen_R_cov',\n",
    "    'thalamus_B' : 'thalamus_B_cov',\n",
    "    'thalamus_L' : 'thalamus_L_cov',\n",
    "    'thalamus_R' : 'thalamus_R_cov',\n",
    "    'pallidum_B' : 'pallidum_B_cov',\n",
    "    'pallidum_L' : 'pallidum_L_cov',\n",
    "    'pallidum_R' : 'pallidum_R_cov',\n",
    "    'corpus_callosum_B' : 'corpus_callosum_B_cov',\n",
    "    'corpus_callosum_L' : 'corpus_callosum_L_cov',\n",
    "    'corpus_callosum_R' : 'corpus_callosum_R_cov',\n",
    "    'Lateral_ventricle_excluding_temporal_horn_B' : 'Lateral_ventricle_excluding_temporal_horn_B_cov',\n",
    "    'Lateral_ventricle_excluding_temporal_horn_L' : 'Lateral_ventricle_excluding_temporal_horn_L_cov',\n",
    "    'Lateral_ventricle_excluding_temporal_horn_R' : 'Lateral_ventricle_excluding_temporal_horn_R_cov',\n",
    "    'Lateral_ventricle_temporal_horn_B' : 'Lateral_ventricle_temporal_horn_B_cov',\n",
    "    'Lateral_ventricle_temporal_horn_L' : 'Lateral_ventricle_temporal_horn_L_cov',\n",
    "    'Lateral_ventricle_temporal_horn_R' : 'Lateral_ventricle_temporal_horn_R_cov',\n",
    "    'Third_ventricle_B' : 'Third_ventricle_B_cov',\n",
    "    'Third_ventricle_L' : 'Third_ventricle_L_cov',\n",
    "    'Third_ventricle_R' : 'Third_ventricle_R_cov',\n",
    "    'FL_precentral_gyrus_B' : 'FL_precentral_gyrus_B_cov',\n",
    "    'FL_precentral_gyrus_L' : 'FL_precentral_gyrus_L_cov',\n",
    "    'FL_precentral_gyrus_R' : 'FL_precentral_gyrus_R_cov',\n",
    "    'FL_straight_gyrus_B' : 'FL_straight_gyrus_B_cov',\n",
    "    'FL_straight_gyrus_L' : 'FL_straight_gyrus_L_cov',\n",
    "    'FL_straight_gyrus_R' : 'FL_straight_gyrus_R_cov',\n",
    "    'FL_anterior_orbital_gyrus_B' : 'FL_anterior_orbital_gyrus_B_cov',\n",
    "    'FL_anterior_orbital_gyrus_L' : 'FL_anterior_orbital_gyrus_L_cov',\n",
    "    'FL_anterior_orbital_gyrus_R' : 'FL_anterior_orbital_gyrus_R_cov',\n",
    "    'FL_inferior_frontal_gyrus_B' : 'FL_inferior_frontal_gyrus_B_cov',\n",
    "    'FL_inferior_frontal_gyrus_L' : 'FL_inferior_frontal_gyrus_L_cov',\n",
    "    'FL_inferior_frontal_gyrus_R' : 'FL_inferior_frontal_gyrus_R_cov',\n",
    "    'FL_superior_frontal_gyrus_B' : 'FL_superior_frontal_gyrus_B_cov',\n",
    "    'FL_superior_frontal_gyrus_L' : 'FL_superior_frontal_gyrus_L_cov',\n",
    "    'FL_superior_frontal_gyrus_R' : 'FL_superior_frontal_gyrus_R_cov',\n",
    "    'PL_postcentral_gyrus_B' : 'PL_postcentral_gyrus_B_cov',\n",
    "    'PL_postcentral_gyrus_L' : 'PL_postcentral_gyrus_L_cov',\n",
    "    'PL_postcentral_gyrus_R' : 'PL_postcentral_gyrus_R_cov',\n",
    "    'PL_superior_parietal_gyrus_B' : 'PL_superior_parietal_gyrus_B_cov',\n",
    "    'PL_superior_parietal_gyrus_L' : 'PL_superior_parietal_gyrus_L_cov',\n",
    "    'PL_superior_parietal_gyrus_R' : 'PL_superior_parietal_gyrus_R_cov',\n",
    "    'OL_lingual_gyrus_B' : 'OL_lingual_gyrus_B_cov',\n",
    "    'OL_lingual_gyrus_L' : 'OL_lingual_gyrus_L_cov',\n",
    "    'OL_lingual_gyrus_R' : 'OL_lingual_gyrus_R_cov',\n",
    "    'OL_cuneus_B' : 'OL_cuneus_B_cov',\n",
    "    'OL_cuneus_L' : 'OL_cuneus_L_cov',\n",
    "    'OL_cuneus_R' : 'OL_cuneus_R_cov',\n",
    "    'FL_medial_orbital_gyrus_B' : 'FL_medial_orbital_gyrus_B_cov',\n",
    "    'FL_medial_orbital_gyrus_L' : 'FL_medial_orbital_gyrus_L_cov',\n",
    "    'FL_medial_orbital_gyrus_R' : 'FL_medial_orbital_gyrus_R_cov',\n",
    "    'FL_lateral_orbital_gyrus_B' : 'FL_lateral_orbital_gyrus_B_cov',\n",
    "    'FL_lateral_orbital_gyrus_L' : 'FL_lateral_orbital_gyrus_L_cov',\n",
    "    'FL_lateral_orbital_gyrus_R' : 'FL_lateral_orbital_gyrus_R_cov',\n",
    "    'FL_posterior_orbital_gyrus_B' : 'FL_posterior_orbital_gyrus_B_cov',\n",
    "    'FL_posterior_orbital_gyrus_L' : 'FL_posterior_orbital_gyrus_L_cov',\n",
    "    'FL_posterior_orbital_gyrus_R' : 'FL_posterior_orbital_gyrus_R_cov',\n",
    "    'substantia_nigra_B' : 'substantia_nigra_B_cov',\n",
    "    'substantia_nigra_L' : 'substantia_nigra_L_cov',\n",
    "    'substantia_nigra_R' : 'substantia_nigra_R_cov',\n",
    "    'FL_subgenual_frontal_cortex_B' : 'FL_subgenual_frontal_cortex_B_cov',\n",
    "    'FL_subgenual_frontal_cortex_L' : 'FL_subgenual_frontal_cortex_L_cov',\n",
    "    'FL_subgenual_frontal_cortex_R' : 'FL_subgenual_frontal_cortex_R_cov',\n",
    "    'FL_subcallosal_area_B' : 'FL_subcallosal_area_B_cov',\n",
    "    'FL_subcallosal_area_L' : 'FL_subcallosal_area_L_cov',\n",
    "    'FL_subcallosal_area_R' : 'FL_subcallosal_area_R_cov',\n",
    "    'FL_pre-subgenual_frontal_cortex_B' : 'FL_pre-subgenual_frontal_cortex_B_cov',\n",
    "    'FL_pre-subgenual_frontal_cortex_L' : 'FL_pre-subgenual_frontal_cortex_L_cov',\n",
    "    'FL_pre-subgenual_frontal_cortex_R' : 'FL_pre-subgenual_frontal_cortex_R_cov',\n",
    "    'TL_superior_temporal_gyrus_anterior_part_B' : 'TL_superior_temporal_gyrus_anterior_part_B_cov',\n",
    "    'TL_superior_temporal_gyrus_anterior_part_L' : 'TL_superior_temporal_gyrus_anterior_part_L_cov',\n",
    "    'TL_superior_temporal_gyrus_anterior_part_R' : 'TL_superior_temporal_gyrus_anterior_part_R_cov',\n",
    "    'PL_supramarginal_gyrus_B' : 'PL_supramarginal_gyrus_B_cov',\n",
    "    'PL_supramarginal_gyrus_L' : 'PL_supramarginal_gyrus_L_cov',\n",
    "    'PL_supramarginal_gyrus_R' : 'PL_supramarginal_gyrus_R_cov',\n",
    "    'insula_anterior_short_gyrus_B' : 'insula_anterior_short_gyrus_B_cov',\n",
    "    'insula_anterior_short_gyrus_L' : 'insula_anterior_short_gyrus_L_cov',\n",
    "    'insula_anterior_short_gyrus_R' : 'insula_anterior_short_gyrus_R_cov',\n",
    "    'insula_middle_short_gyrus_B' : 'insula_middle_short_gyrus_B_cov',\n",
    "    'insula_middle_short_gyrus_L' : 'insula_middle_short_gyrus_L_cov',\n",
    "    'insula_middle_short_gyrus_R' : 'insula_middle_short_gyrus_R_cov',\n",
    "    'insula_posterior_short_gyrus_B' : 'insula_posterior_short_gyrus_B_cov',\n",
    "    'insula_posterior_short_gyrus_L' : 'insula_posterior_short_gyrus_L_cov',\n",
    "    'insula_posterior_short_gyrus_R' : 'insula_posterior_short_gyrus_R_cov',\n",
    "    'insula_anterior_inferior_cortex_B' : 'insula_anterior_inferior_cortex_B_cov',\n",
    "    'insula_anterior_inferior_cortex_L' : 'insula_anterior_inferior_cortex_L_cov',\n",
    "    'insula_anterior_inferior_cortex_R' : 'insula_anterior_inferior_cortex_R_cov',\n",
    "    'insula_anterior_long_gyrus_B' : 'insula_anterior_long_gyrus_B_cov',\n",
    "    'insula_anterior_long_gyrus_L' : 'insula_anterior_long_gyrus_L_cov',\n",
    "    'insula_anterior_long_gyrus_R' : 'insula_anterior_long_gyrus_R_cov',\n",
    "         }\n",
    "\n",
    "dict_2 = {\n",
    "    'participant_id' : 'participant_id', #\n",
    "    'session' : 'session', #,\n",
    "    'LongitudinalTimePoint' : 'LongitudinalTimePoint', #\n",
    "    'SubjectNList' : 'SubjectNList', #\n",
    "    'Site' : 'Site', #\n",
    "    'GM_vol' : 'GM_vol', #\n",
    "    'WM_vol' : 'WM_vol' ,#\n",
    "    'CSF_vol' : 'CSF_vol', #\n",
    "    'GM_ICVRatio' : 'GM_ICVRatio', #\n",
    "    'GMWM_ICVRatio' : 'GMWM_ICVRatio', #\n",
    "    'WMH_vol' : 'WMH_vol',#\n",
    "    'WMH_count' : 'WMH_count', # to here\n",
    "    'ACA_B' : 'ACA_B_cov',\n",
    "    'ACA_L' : 'ACA_L_cov',\n",
    "    'ACA_R' : 'ACA_R_cov',\n",
    "    'MCA_B' : 'MCA_B_cov',\n",
    "    'MCA_L' : 'MCA_L_cov',\n",
    "    'MCA_R' : 'MCA_R_cov',\n",
    "    'PCA_B' : 'PCA_B_cov',\n",
    "    'PCA_L' : 'PCA_L_cov',\n",
    "    'PCA_R' : 'PCA_R_cov',\n",
    "       }\n",
    "dict_3 = {\n",
    "    'participant_id' : 'participant_id', #\n",
    "    'session' : 'session', #,\n",
    "    'LongitudinalTimePoint' : 'LongitudinalTimePoint', #\n",
    "    'SubjectNList' : 'SubjectNList', #\n",
    "    'Site' : 'Site', #\n",
    "    'GM_vol' : 'GM_vol', #\n",
    "    'WM_vol' : 'WM_vol' ,#\n",
    "    'CSF_vol' : 'CSF_vol', #\n",
    "    'GM_ICVRatio' : 'GM_ICVRatio', #\n",
    "    'GMWM_ICVRatio' : 'GMWM_ICVRatio', #\n",
    "    'WMH_vol' : 'WMH_vol',#\n",
    "    'WMH_count' : 'WMH_count', # to here\n",
    "    'ACA_proximal_B' : 'ACA_proximal_B_cov', #\n",
    "    'ACA_proximal_L' : 'ACA_proximal_L_cov', #\n",
    "    'ACA_proximal_R' : 'ACA_proximal_R_cov', #\n",
    "    'ACA_intermediate_B' : 'ACA_intermediate_B_cov' ,#\n",
    "    'ACA_intermediate_L' : 'ACA_intermediate_L_cov' ,#\n",
    "    'ACA_intermediate_R' : 'ACA_intermediate_R_cov' ,#\n",
    "    'ACA_distal_B' : 'ACA_distal_B_cov', #\n",
    "    'ACA_distal_R' : 'ACA_distal_R_cov', #\n",
    "    'MCA_proximal_B' : 'MCA_proximal_B_cov' ,#\n",
    "    'MCA_proximal_L' : 'MCA_proximal_L_cov' ,#\n",
    "    'MCA_proximal_R' : 'MCA_proximal_R_cov' ,#\n",
    "    'MCA_intermediate_B' : 'MCA_intermediate_B_cov',#\n",
    "    'MCA_intermediate_L' : 'MCA_intermediate_L_cov',#\n",
    "    'MCA_intermediate_R' : 'MCA_intermediate_R_cov',#\n",
    "    'MCA_distal_B' : 'MCA_distal_B_cov',#\n",
    "    'MCA_distal_L' : 'MCA_distal_L_cov',#\n",
    "    'MCA_distal_R' : 'MCA_distal_R_cov',#\n",
    "    'PCA_proximal_B' : 'PCA_proximal_B_cov',#\n",
    "    'PCA_proximal_L' : 'PCA_proximal_L_cov',#\n",
    "    'PCA_proximal_R' : 'PCA_proximal_R_cov',#\n",
    "    'PCA_intermediate_B' : 'PCA_intermediate_B_cov',#\n",
    "    'PCA_intermediate_L' : 'PCA_intermediate_L_cov',\n",
    "    'PCA_intermediate_R' : 'PCA_intermediate_R_cov',\n",
    "    'PCA_distal_B' : 'PCA_distal_B_cov',\n",
    "    'PCA_distal_L' : 'PCA_distal_L_cov',\n",
    "    'PCA_distal_R' : 'PCA_distal_R_cov',\n",
    "       }\n",
    "dict_4 = {\n",
    "    'participant_id' : 'participant_id', #\n",
    "    'session' : 'session', #,\n",
    "    'LongitudinalTimePoint' : 'LongitudinalTimePoint', #\n",
    "    'SubjectNList' : 'SubjectNList', #\n",
    "    'Site' : 'Site', #\n",
    "    'GM_vol' : 'GM_vol', #\n",
    "    'WM_vol' : 'WM_vol' ,#\n",
    "    'CSF_vol' : 'CSF_vol', #\n",
    "    'GM_ICVRatio' : 'GM_ICVRatio', #\n",
    "    'GMWM_ICVRatio' : 'GMWM_ICVRatio', #\n",
    "    'WMH_vol' : 'WMH_vol',#\n",
    "    'WMH_count' : 'WMH_count', # to here\n",
    "    'TotalGM_B' : 'TotalGM_B_cov',\n",
    "    'TotalGM_L' : 'TotalGM_L_cov',\n",
    "    'TotalGM_R' : 'TotalGM_R_cov',\n",
    "       }\n",
    "\n",
    "cov_dataframes[0].rename(columns=dict_0,\n",
    "          inplace=True)\n",
    "cov_dataframes[1].rename(columns=dict_1,\n",
    "          inplace=True)\n",
    "cov_dataframes[2].rename(columns=dict_2,\n",
    "          inplace=True)\n",
    "cov_dataframes[3].rename(columns=dict_3,\n",
    "          inplace=True)\n",
    "cov_dataframes[4].rename(columns=dict_4,\n",
    "          inplace=True)\n",
    "cov_dataframes[0]"
   ]
  },
  {
   "cell_type": "code",
   "execution_count": null,
   "id": "731099fb-600a-4c3d-893c-3b2fb885501e",
   "metadata": {},
   "outputs": [],
   "source": [
    "numbr = 0\n",
    "for frame in cov_dataframes:\n",
    "    filepath = '../open_work/internal_results/stitchy/insight46_cov' \n",
    "    filename = os.path.join(filepath,str(numbr+1)) \n",
    "    if not os.path.exists(filepath):\n",
    "    # if filder doesn't exist, create it\n",
    "        os.makedirs(filepath)\n",
    "    frame.to_csv((filename +'.tsv'), sep=\"\\t\")\n",
    "    numbr +=1"
   ]
  },
  {
   "cell_type": "code",
   "execution_count": null,
   "id": "2dea67d5-7820-4365-9b9a-6f59bff64d21",
   "metadata": {},
   "outputs": [],
   "source": [
    "numbr = 0\n",
    "for frame in basic_dataframes:\n",
    "    filepath = '../open_work/internal_results/stitchy/insight46_basics' \n",
    "    filename = os.path.join(filepath,str(numbr+1)) \n",
    "    if not os.path.exists(filepath):\n",
    "    # if filder doesn't exist, create it\n",
    "        os.makedirs(filepath)\n",
    "    frame.to_csv((filename +'.tsv'), sep=\"\\t\")\n",
    "    numbr +=1"
   ]
  },
  {
   "cell_type": "code",
   "execution_count": null,
   "id": "755f21b5-40cd-4eb6-a081-9ab34ea73310",
   "metadata": {
    "tags": []
   },
   "outputs": [],
   "source": [
    "cov_tsv_folder_made = '../open_work/internal_results/stitchy/mri_cov'\n",
    "cov_identical_columns = sep.check_identical_columns(cov_tsv_folder_made)\n",
    "cov_identical_columns"
   ]
  },
  {
   "cell_type": "code",
   "execution_count": null,
   "id": "e438baf2-6806-464d-ba2d-05d37c013668",
   "metadata": {
    "tags": []
   },
   "outputs": [],
   "source": [
    "basics_tsv_folder_made = '../open_work/internal_results/stitchy/mri_basics'\n",
    "basics_identical_columns = sep.check_identical_columns(basics_tsv_folder_made)\n",
    "basics_identical_columns"
   ]
  },
  {
   "cell_type": "code",
   "execution_count": null,
   "id": "18da9fc1-d044-4443-a6e3-877940ed9d02",
   "metadata": {
    "tags": []
   },
   "outputs": [],
   "source": [
    "# now we need to make a super dataframes list\n",
    "super_dataframes = basic_dataframes +cov_dataframes\n",
    "len(super_dataframes)"
   ]
  },
  {
   "cell_type": "code",
   "execution_count": null,
   "id": "b386fab9-f234-426b-ba65-776424633f01",
   "metadata": {
    "tags": []
   },
   "outputs": [],
   "source": [
    "identical_columns = sep.check_identical_columns(basics_tsv_folder_made)"
   ]
  },
  {
   "cell_type": "code",
   "execution_count": null,
   "id": "4fc4707c-c599-41a6-b694-bf55cc515c34",
   "metadata": {
    "tags": []
   },
   "outputs": [],
   "source": [
    "stitched = sample_basic_df[identical_columns].copy()\n",
    "stitched"
   ]
  },
  {
   "cell_type": "code",
   "execution_count": null,
   "id": "847279f8-f68d-42a3-94c4-895c5fe531f1",
   "metadata": {
    "tags": []
   },
   "outputs": [],
   "source": [
    "n_identical = stitched.shape[1]\n",
    "n_identical"
   ]
  },
  {
   "cell_type": "code",
   "execution_count": null,
   "id": "bae2d8ac-27ad-41cd-984e-1255c91100c4",
   "metadata": {
    "tags": []
   },
   "outputs": [],
   "source": [
    "for df in super_dataframes:\n",
    "    for col in df.columns[n_identical:]:\n",
    "        stitched[col] = df[col]\n",
    "\n",
    "stitched.columns"
   ]
  },
  {
   "cell_type": "markdown",
   "id": "935b82c1-cafd-4210-89ed-f3b2229672cc",
   "metadata": {},
   "source": [
    "# Add a step to get rid of second visits #TODO"
   ]
  },
  {
   "cell_type": "code",
   "execution_count": null,
   "id": "9a63b417-6eeb-4689-aae6-3c4171d97691",
   "metadata": {
    "tags": []
   },
   "outputs": [],
   "source": [
    "# Read files into dataframes\n",
    "dataframes = [pd.read_csv(file, sep='\\t', header=[0,1], index_col=0) for file in tsv_files]\n",
    "sample_df = dataframes[0]\n",
    "cols = sample_df.columns\n",
    "sample_df"
   ]
  },
  {
   "cell_type": "markdown",
   "id": "ae2ef75b-a586-40b8-bcb1-c8908f60007e",
   "metadata": {
    "tags": []
   },
   "source": [
    "## Copy identical columns from any file\n",
    "\n",
    "we could also read it from the data, but if it's always the same, we can just define it here"
   ]
  },
  {
   "cell_type": "code",
   "execution_count": null,
   "id": "8d905672-bacd-4c9c-bdeb-59bd8446bf5f",
   "metadata": {
    "tags": []
   },
   "outputs": [],
   "source": [
    "identical_columns = sep.check_identical_columns(tsv_path)"
   ]
  },
  {
   "cell_type": "code",
   "execution_count": null,
   "id": "84c60377-e0f1-4d87-a513-3f81cc24d857",
   "metadata": {
    "tags": []
   },
   "outputs": [],
   "source": [
    "identical_columns"
   ]
  },
  {
   "cell_type": "code",
   "execution_count": null,
   "id": "88f04733-95a0-41fc-be40-6330f1979258",
   "metadata": {
    "tags": []
   },
   "outputs": [],
   "source": [
    "stitched = sample_df[identical_columns].copy()"
   ]
  },
  {
   "cell_type": "code",
   "execution_count": null,
   "id": "b32a6def-f104-4b37-be98-2231f3a91910",
   "metadata": {
    "tags": []
   },
   "outputs": [],
   "source": [
    "n_identical = stitched.shape[1]"
   ]
  },
  {
   "cell_type": "code",
   "execution_count": null,
   "id": "54b22a1b-9639-40f2-bb5d-9f45aaf09ffc",
   "metadata": {
    "tags": []
   },
   "outputs": [],
   "source": [
    "stitched['renumber'] = stitched.index"
   ]
  },
  {
   "cell_type": "code",
   "execution_count": null,
   "id": "5754c816-579f-40f9-8028-1675ba8c5a71",
   "metadata": {
    "tags": []
   },
   "outputs": [],
   "source": [
    "#stitched.shape"
   ]
  },
  {
   "cell_type": "markdown",
   "id": "ce9e759f-dd39-4f9b-bd3c-fd2df1dc4962",
   "metadata": {},
   "source": [
    "### Here is where we add the different parts to stitched"
   ]
  },
  {
   "cell_type": "code",
   "execution_count": null,
   "id": "e01be87e-b0e2-478c-8554-e0b7124d2ffa",
   "metadata": {
    "tags": []
   },
   "outputs": [],
   "source": [
    "for df in dataframes:\n",
    "    for col in df.columns[n_identical:]:\n",
    "        stitched[col] = df[col]\n",
    "\n",
    "stitched.columns"
   ]
  },
  {
   "cell_type": "code",
   "execution_count": null,
   "id": "1f5c1b96-e2c1-4a1b-a0d5-806e9d8172b6",
   "metadata": {},
   "outputs": [],
   "source": [
    "len(stitched.columns)"
   ]
  },
  {
   "cell_type": "markdown",
   "id": "b3e59721-1b7c-4f7d-9a45-b2ee09f4655e",
   "metadata": {
    "tags": []
   },
   "source": [
    "# Here we note that we have 392 columns...a hand check shows this is possible. Lots pf brain areas left, right and both. But needs discussion with scientists"
   ]
  },
  {
   "cell_type": "markdown",
   "id": "f43758df-6f6c-4893-ba59-80d8323449a3",
   "metadata": {},
   "source": [
    "## Here we can should get rid of second visits, but what we see is that session was not in the common columns. We will get rid of all second time points, and people ending in _2. And mention to scientists"
   ]
  },
  {
   "cell_type": "code",
   "execution_count": null,
   "id": "f2ac2603-d8a3-406b-be01-338b896d0f8d",
   "metadata": {
    "tags": []
   },
   "outputs": [],
   "source": [
    "#stitched"
   ]
  },
  {
   "cell_type": "code",
   "execution_count": null,
   "id": "38ab8ae8-7617-4470-a0b7-b50ba79c2763",
   "metadata": {
    "tags": []
   },
   "outputs": [],
   "source": [
    "stitched = stitched.loc[stitched[('LongitudinalTimePoint',           'integer')] == 'TimePoint_1']"
   ]
  },
  {
   "cell_type": "code",
   "execution_count": null,
   "id": "c07408dc-1b5c-4e6b-b725-b1720ed2101c",
   "metadata": {
    "tags": []
   },
   "outputs": [],
   "source": [
    "stitched[(              'session',               '...')].unique()"
   ]
  },
  {
   "cell_type": "code",
   "execution_count": null,
   "id": "e42e4e46-ed63-408d-88cf-90b8f370f69a",
   "metadata": {},
   "outputs": [],
   "source": [
    "## In this dataset e see that there were no double session. We got lucky."
   ]
  },
  {
   "cell_type": "code",
   "execution_count": null,
   "id": "cdf42a40-b5a3-4b79-9e66-3c890085e990",
   "metadata": {
    "tags": []
   },
   "outputs": [],
   "source": [
    "stitched.columns"
   ]
  },
  {
   "cell_type": "code",
   "execution_count": null,
   "id": "2266fffa-4ed0-4523-b725-121a47d94800",
   "metadata": {
    "tags": []
   },
   "outputs": [],
   "source": [
    "sexage_path = os.path.join(root_directory, 'age_data', 'Age_sex_Insight46.csv')\n",
    "sexage_df = pd.read_csv(sexage_path, index_col=0)\n",
    "sexage_df['renumber'] = sexage_df.index\n",
    "sexage_df['renumber'] = sexage_df['renumber'].apply(str)\n",
    "\n",
    "#sexage_df['renumber']\n",
    "# tp 2 then + '2_1' if 1 then 1_1\n",
    "sexage_df"
   ]
  },
  {
   "cell_type": "markdown",
   "id": "f41fd9ad-3c01-4c86-929f-c34f31221fb1",
   "metadata": {},
   "source": [
    "## Here we take the pattient ID and align it with our other frame's index by putting sub and _1"
   ]
  },
  {
   "cell_type": "code",
   "execution_count": null,
   "id": "809cec89-d481-4550-ad7a-c3517efe7b7c",
   "metadata": {
    "tags": []
   },
   "outputs": [],
   "source": [
    "sexage_df['renumber'] = \"sub_\" +sexage_df['renumber'] + \"_1\"\n",
    "sexage_df"
   ]
  },
  {
   "cell_type": "code",
   "execution_count": null,
   "id": "2b0b54af-ed06-4d2f-847e-4f414d68ee27",
   "metadata": {
    "tags": []
   },
   "outputs": [],
   "source": [
    "sexage_df =  sep.recode_sex(sexage_df, 'sex')\n",
    "sexage_df['sex'] = sexage_df['sex_encoded']\n",
    "sexage_df"
   ]
  },
  {
   "cell_type": "code",
   "execution_count": null,
   "id": "73ea930b-9925-4493-b6cd-b6cc07195c4a",
   "metadata": {
    "tags": []
   },
   "outputs": [],
   "source": [
    "#len(sexage_df.renumber.unique())"
   ]
  },
  {
   "cell_type": "code",
   "execution_count": null,
   "id": "05b2d413-d43a-4003-948e-a64a977a9e1b",
   "metadata": {
    "tags": []
   },
   "outputs": [],
   "source": [
    "#len(sexage_df.renumber)"
   ]
  },
  {
   "cell_type": "markdown",
   "id": "bdb295d9-eb7b-4fb2-b835-de1c530b8c11",
   "metadata": {},
   "source": [
    "# In patient brain info framepatient ID, we may be looking at _1 or _2. But the data contained only one sexage row per patient. So we only deal with first visits Insight46"
   ]
  },
  {
   "cell_type": "code",
   "execution_count": null,
   "id": "efd3bf23-4674-4fd1-aa98-9d1640f7da6a",
   "metadata": {
    "tags": []
   },
   "outputs": [],
   "source": [
    "stitched = stitched.reset_index(drop=True)\n",
    "sexage_df = sexage_df.reset_index(drop=True)\n",
    "result = pd.concat([stitched, sexage_df], axis=1, join=\"inner\")\n",
    "result"
   ]
  },
  {
   "cell_type": "code",
   "execution_count": null,
   "id": "d02176e4-07e0-4b0d-be21-d81bdea72272",
   "metadata": {
    "tags": []
   },
   "outputs": [],
   "source": [
    "result.columns = [c[0]  for c in result.columns]\n",
    "result.columns"
   ]
  },
  {
   "cell_type": "code",
   "execution_count": null,
   "id": "5816f794-b425-4d0c-8daa-da492a72185f",
   "metadata": {
    "tags": []
   },
   "outputs": [],
   "source": [
    "for n in result.columns:\n",
    "    print(n)"
   ]
  },
  {
   "cell_type": "code",
   "execution_count": null,
   "id": "6be446f2-4e27-4081-8faf-fec5b9c582b5",
   "metadata": {},
   "outputs": [],
   "source": [
    "result = result.rename(columns={\"a\": \"Age\", \"s\": \"Sex\"})\n"
   ]
  },
  {
   "cell_type": "code",
   "execution_count": null,
   "id": "9ff1ae73-07fc-49ae-8358-ee40abfed874",
   "metadata": {},
   "outputs": [],
   "source": [
    "result = result.loc[:,~result.columns.duplicated()].copy()"
   ]
  },
  {
   "cell_type": "markdown",
   "id": "b00e81ca-3a69-433a-8724-7b96536d62f7",
   "metadata": {},
   "source": [
    "## A bit more examination"
   ]
  },
  {
   "cell_type": "code",
   "execution_count": null,
   "id": "e20b20c2-82b5-4898-b2f8-8e7cd5832206",
   "metadata": {
    "tags": []
   },
   "outputs": [],
   "source": [
    "result.columns"
   ]
  },
  {
   "cell_type": "code",
   "execution_count": null,
   "id": "934649a2-f67c-4445-b240-3f5aa5fd6f14",
   "metadata": {
    "tags": []
   },
   "outputs": [],
   "source": [
    "result"
   ]
  },
  {
   "cell_type": "markdown",
   "id": "25230b6e-718b-4e5e-b0c3-514356818bc1",
   "metadata": {},
   "source": [
    "## check that we have only one timepoint in dataset"
   ]
  },
  {
   "cell_type": "code",
   "execution_count": null,
   "id": "0f2b3d40-e153-46a4-8792-0a4b65f50586",
   "metadata": {},
   "outputs": [],
   "source": [
    "result.LongitudinalTimePoint.unique()"
   ]
  },
  {
   "cell_type": "markdown",
   "id": "f80a0bb8-d030-4f75-81bb-202d3089868e",
   "metadata": {},
   "source": [
    "## Save off file"
   ]
  },
  {
   "cell_type": "code",
   "execution_count": null,
   "id": "94a6a7f1-9334-43e7-8d4f-d7eeb254042a",
   "metadata": {
    "tags": []
   },
   "outputs": [],
   "source": [
    "filepath = '../open_work/internal_results' \n",
    "filename = os.path.join(filepath,'Insight46_stitched.csv') \n",
    "if not os.path.exists(filepath):\n",
    "    # if filder doesn't exist, create it\n",
    "    os.makedirs(filepath)\n",
    "result.to_csv(filename)  "
   ]
  },
  {
   "cell_type": "code",
   "execution_count": null,
   "id": "757c26d6-b32d-4d4f-9191-6eb0729bfdc0",
   "metadata": {},
   "outputs": [],
   "source": []
  }
 ],
 "metadata": {
  "kernelspec": {
   "display_name": "Python 3 (ipykernel)",
   "language": "python",
   "name": "python3"
  },
  "language_info": {
   "codemirror_mode": {
    "name": "ipython",
    "version": 3
   },
   "file_extension": ".py",
   "mimetype": "text/x-python",
   "name": "python",
   "nbconvert_exporter": "python",
   "pygments_lexer": "ipython3",
   "version": "3.9.16"
  }
 },
 "nbformat": 4,
 "nbformat_minor": 5
}
