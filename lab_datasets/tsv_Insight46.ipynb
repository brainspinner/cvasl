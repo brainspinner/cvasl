{
 "cells": [
  {
   "cell_type": "markdown",
   "id": "87984282-43de-4b73-b855-343b03ddf8c0",
   "metadata": {},
   "source": [
    "# Assembling the Insight 46 dataset"
   ]
  },
  {
   "cell_type": "markdown",
   "id": "93c2efb6-9475-4ee0-af71-dd0f468d0bcc",
   "metadata": {},
   "source": [
    "This notebook assembles the Insight-46 dataset, however, uses only partial volume corrected values for certain ASL values.\n",
    "This is due to the file set given where no uncorrrected values were in the set."
   ]
  },
  {
   "cell_type": "markdown",
   "id": "d486a3fe-a689-43db-b6b6-fd3caac895ec",
   "metadata": {},
   "source": [
    "### Import libraries"
   ]
  },
  {
   "cell_type": "code",
   "execution_count": null,
   "id": "d376ff33-33fa-4b75-a30e-29ba4c8b28eb",
   "metadata": {
    "tags": []
   },
   "outputs": [],
   "source": [
    "import os       # using operating system dependent functionality (folders)\n",
    "import pandas as pd # data analysis and manipulation\n",
    "import numpy as np    # numerical computing (manipulating and performing operations on arrays of data)\n",
    "import matplotlib.pyplot as plt\n",
    "import glob\n",
    "import sys\n",
    "\n",
    "sys.path.insert(0, '../') # path to functions\n",
    "import cvasl.seperated as sep\n",
    "from cvasl.file_handler import Config"
   ]
  },
  {
   "cell_type": "markdown",
   "id": "d2e6cb44-b8b7-4823-8f41-ccb9c2792de7",
   "metadata": {},
   "source": [
    "## Read data into pandas dataframe\n",
    "\n",
    "How do we define which files should be used together?\n",
    "options:\n",
    "- all files in folder\n",
    "- based on suffix (e.g. \"n=895_06-Feb-2023_PVC2.tsv\")\n",
    "- check first columns to see whether it matches\n",
    "\n",
    "For now, we will will use the first option, approved by Mathijs on 26th June 2023"
   ]
  },
  {
   "cell_type": "code",
   "execution_count": null,
   "id": "76c37516-5591-4aed-b994-8e9d6caae572",
   "metadata": {
    "tags": []
   },
   "outputs": [],
   "source": [
    "experiment_folder= 'Insight_final/pvc2_only'"
   ]
  },
  {
   "cell_type": "code",
   "execution_count": null,
   "id": "5ad9bf4f-345d-482c-8408-b17131b1c1d0",
   "metadata": {
    "tags": []
   },
   "outputs": [],
   "source": [
    "config = Config.from_file()\n",
    "\n",
    "root_directory = config.get_directory('raw_data')\n",
    "if os.path.isdir(os.path.join(root_directory, experiment_folder)):\n",
    "    print(\"this folder exists, we will take tsv from here\")\n",
    "else: \n",
    "    print(\"this folder does not seem to exist, try typing again\")"
   ]
  },
  {
   "cell_type": "code",
   "execution_count": null,
   "id": "aac0771c-e6c9-463c-9914-f435b39d3d5c",
   "metadata": {
    "tags": []
   },
   "outputs": [],
   "source": [
    "root_directory = config.get_directory('raw_data')\n",
    "tsv_path = os.path.join(root_directory, experiment_folder)\n",
    "\n",
    "tsv_files = [os.path.join(tsv_path, file) for file in os.listdir(tsv_path) if file.endswith('.tsv')]\n",
    "tsv_files"
   ]
  },
  {
   "cell_type": "markdown",
   "id": "8ef03e71-4e80-4ccd-baf9-e821a68294d3",
   "metadata": {
    "tags": []
   },
   "source": [
    "## we need to add code here for PVC0 and PVC2, if we want a notebook for making file with uncorrected volumes as well"
   ]
  },
  {
   "cell_type": "code",
   "execution_count": null,
   "id": "e26957ad-491a-4ea1-aa61-4fe63e964642",
   "metadata": {
    "tags": []
   },
   "outputs": [],
   "source": [
    "#CoV files -> COV values NOT \n",
    "tsv_files_for_cov = []\n",
    "basics = []\n",
    "for file in os.listdir(tsv_path):\n",
    "    if file.startswith('CoV') and file.endswith('.tsv'):\n",
    "        tsv_files_for_cov.append(os.path.join(tsv_path, file))\n",
    "    elif file.endswith('.tsv'):\n",
    "        basics.append(os.path.join(tsv_path, file))\n",
    "basics      "
   ]
  },
  {
   "cell_type": "code",
   "execution_count": null,
   "id": "e68920d2-0c19-4e90-82b8-e8c2e9faeccb",
   "metadata": {
    "tags": []
   },
   "outputs": [],
   "source": [
    "tsv_files_for_cov"
   ]
  },
  {
   "cell_type": "code",
   "execution_count": null,
   "id": "e4ce1141-b4bc-4f6b-a56b-4f9300e80997",
   "metadata": {
    "tags": []
   },
   "outputs": [],
   "source": [
    "# Read files in selected folder into dataframes\n",
    "cov_dataframes = [pd.read_csv(file, sep='\\t', header=[0]) for file in tsv_files_for_cov]\n",
    "# make a sample\n",
    "sample_cov_df = cov_dataframes[2] # example of COV file\n",
    "cols_cov = sample_cov_df.columns\n",
    "#look at sample\n",
    "sample_cov_df"
   ]
  },
  {
   "cell_type": "code",
   "execution_count": null,
   "id": "4b50d49d-3c52-4ad1-b6c0-e31fb8b5a625",
   "metadata": {
    "tags": []
   },
   "outputs": [],
   "source": [
    "# Read files in selected folder into dataframes\n",
    "basic_dataframes = [pd.read_csv(file, sep='\\t', header=[0]) for file in basics]\n",
    "# make a sample\n",
    "sample_basic_df = basic_dataframes[2] # example of COV file\n",
    "cols_basic = sample_basic_df.columns\n",
    "#look at sample\n",
    "sample_basic_df"
   ]
  },
  {
   "cell_type": "code",
   "execution_count": null,
   "id": "25cb74bc-30b9-4c3a-b2d8-5a4519e1e507",
   "metadata": {
    "tags": []
   },
   "outputs": [],
   "source": [
    "# Read ALL files in selected folder into dataframes\n",
    "dataframes = [pd.read_csv(file, sep='\\t', header=[0]) for file in tsv_files]\n",
    "# make a sample\n",
    "sample_df = dataframes[2] # example of file\n",
    "cols = sample_df.columns\n",
    "#look at sample\n",
    "sample_df"
   ]
  },
  {
   "cell_type": "code",
   "execution_count": null,
   "id": "d2e44412-1aa0-4900-b496-816c6200c66a",
   "metadata": {
    "tags": []
   },
   "outputs": [],
   "source": [
    "list_all_basic_column = []\n",
    "for frame in basic_dataframes:\n",
    "    list_columns = frame.columns.to_list()\n",
    "    for x in list_columns:\n",
    "        if x not in list_all_basic_column:\n",
    "            list_all_basic_column.append(x)\n",
    "list_all_basic_column"
   ]
  },
  {
   "cell_type": "code",
   "execution_count": null,
   "id": "f509fbe9-4a86-43b2-b252-3fdbb376c339",
   "metadata": {
    "tags": []
   },
   "outputs": [],
   "source": [
    "list_all_cov_column = []\n",
    "for frame in cov_dataframes:\n",
    "    list_columns = frame.columns.to_list()\n",
    "    for x in list_columns:\n",
    "        if x not in list_all_cov_column:\n",
    "            list_all_cov_column.append(x)\n",
    "list_all_cov_column"
   ]
  },
  {
   "cell_type": "code",
   "execution_count": null,
   "id": "3c51e6bf-4744-40e7-ab2f-1ee98ff54a72",
   "metadata": {
    "tags": []
   },
   "outputs": [],
   "source": [
    "len(list_all_basic_column)"
   ]
  },
  {
   "cell_type": "code",
   "execution_count": null,
   "id": "a833eff4-c4ba-4444-b620-3f4089e15a04",
   "metadata": {
    "tags": []
   },
   "outputs": [],
   "source": [
    "len(list_all_cov_column)"
   ]
  },
  {
   "cell_type": "code",
   "execution_count": null,
   "id": "e67349da-1a7c-48c8-b284-fdb55ccf5b1f",
   "metadata": {
    "tags": []
   },
   "outputs": [],
   "source": [
    "# we transform one of the COV, we need to transform all of them\n",
    "for frame in cov_dataframes:\n",
    "    print(frame.columns)"
   ]
  },
  {
   "cell_type": "code",
   "execution_count": null,
   "id": "25193895-15ac-4476-9b73-27661e55f470",
   "metadata": {
    "tags": []
   },
   "outputs": [],
   "source": [
    "#cov_dataframes[0]"
   ]
  },
  {
   "cell_type": "code",
   "execution_count": null,
   "id": "9552bd28-93c7-4717-bb17-81f263da39b5",
   "metadata": {
    "tags": []
   },
   "outputs": [],
   "source": [
    "# for column in cov_dataframes[1].columns:\n",
    "#     print(column)\n",
    "    "
   ]
  },
  {
   "cell_type": "code",
   "execution_count": null,
   "id": "e569d226-12fd-430c-9a5a-97dbdc6f6870",
   "metadata": {},
   "outputs": [],
   "source": [
    "dict_0 = {\n",
    "    'participant_id' : 'participant_id', #\n",
    "    'session' : 'session', #,\n",
    "    'LongitudinalTimePoint' : 'LongitudinalTimePoint', #\n",
    "    'SubjectNList' : 'SubjectNList', #\n",
    "    'Site' : 'Site', #\n",
    "    'GM_vol' : 'GM_vol', #\n",
    "    'WM_vol' : 'WM_vol' ,#\n",
    "    'CSF_vol' : 'CSF_vol', #\n",
    "    'GM_ICVRatio' : 'GM_ICVRatio', #\n",
    "    'GMWM_ICVRatio' : 'GMWM_ICVRatio', #\n",
    "    'WMH_vol' : 'WMH_vol',#\n",
    "    'WMH_count' : 'WMH_count', # to here\n",
    "    'MeanMotion':'mean_motion',\n",
    "    'DeepWM_B' : 'DeepWM_B_cov',\n",
    "    'DeepWM_L' : 'DeepWM_L_cov',\n",
    "    'DeepWM_R' : 'DeepWM_R_cov',\n",
    "       }\n",
    "\n",
    "\n",
    "dict_1 = {\n",
    "    'participant_id' : 'participant_id', #\n",
    "    'session' : 'session', #,\n",
    "    'LongitudinalTimePoint' : 'LongitudinalTimePoint', #\n",
    "    'SubjectNList' : 'SubjectNList', #\n",
    "    'Site' : 'Site', #\n",
    "    'GM_vol' : 'GM_vol', #\n",
    "    'WM_vol' : 'WM_vol' ,#\n",
    "    'CSF_vol' : 'CSF_vol', #\n",
    "    'GM_ICVRatio' : 'GM_ICVRatio', #\n",
    "    'GMWM_ICVRatio' : 'GMWM_ICVRatio', #\n",
    "    'WMH_vol' : 'WMH_vol',#\n",
    "    'WMH_count' : 'WMH_count', # to here\n",
    "    'MeanMotion':'mean_motion',\n",
    "    'ACA_B' : 'ACA_B_cov',\n",
    "    'ACA_L' : 'ACA_L_cov',\n",
    "    'ACA_R' : 'ACA_R_cov',\n",
    "    'MCA_B' : 'MCA_B_cov',\n",
    "    'MCA_L' : 'MCA_L_cov',\n",
    "    'MCA_R' : 'MCA_R_cov',\n",
    "    'PCA_B' : 'PCA_B_cov',\n",
    "    'PCA_L' : 'PCA_L_cov',\n",
    "    'PCA_R' : 'PCA_R_cov',\n",
    "       }\n",
    "\n",
    "\n",
    "dict_2 = {\n",
    "    'participant_id' : 'participant_id', #\n",
    "    'session' : 'session', #,\n",
    "    'LongitudinalTimePoint' : 'LongitudinalTimePoint', #\n",
    "    'SubjectNList' : 'SubjectNList', #\n",
    "    'Site' : 'Site', #\n",
    "    'GM_vol' : 'GM_vol', #\n",
    "    'WM_vol' : 'WM_vol' ,#\n",
    "    'CSF_vol' : 'CSF_vol', #\n",
    "    'GM_ICVRatio' : 'GM_ICVRatio', #\n",
    "    'GMWM_ICVRatio' : 'GMWM_ICVRatio', #\n",
    "    'WMH_vol' : 'WMH_vol',#\n",
    "    'WMH_count' : 'WMH_count', # to here\n",
    "    'MeanMotion':'mean_motion',\n",
    "    'TotalGM_B' : 'TotalGM_B_cov',\n",
    "    'TotalGM_L' : 'TotalGM_L_cov',\n",
    "    'TotalGM_R' : 'TotalGM_R_cov',\n",
    "       }\n",
    "\n",
    "\n",
    "cov_dataframes[0].rename(columns=dict_0,\n",
    "          inplace=True)\n",
    "cov_dataframes[1].rename(columns=dict_1,\n",
    "          inplace=True)\n",
    "cov_dataframes[2].rename(columns=dict_2,\n",
    "          inplace=True)\n",
    "\n",
    "cov_dataframes[0]"
   ]
  },
  {
   "cell_type": "code",
   "execution_count": null,
   "id": "f8c99dc2-e715-4c84-a9f6-a75d0c015bde",
   "metadata": {
    "tags": []
   },
   "outputs": [],
   "source": [
    "cov_dataframes[1]"
   ]
  },
  {
   "cell_type": "code",
   "execution_count": null,
   "id": "ef0ef2be-7e3a-4b78-93b1-0b9387031260",
   "metadata": {
    "tags": []
   },
   "outputs": [],
   "source": [
    "cov_dataframes[2]"
   ]
  },
  {
   "cell_type": "code",
   "execution_count": null,
   "id": "b6d45005-9715-4516-aeb2-a6a687af805d",
   "metadata": {
    "tags": []
   },
   "outputs": [],
   "source": [
    "#df = pd.concat([cov_dataframes[2], cov_dataframes_plus[1]], axis=1)"
   ]
  },
  {
   "cell_type": "code",
   "execution_count": null,
   "id": "9de1c925-79b1-4dec-bcd8-3fc2fd927aa9",
   "metadata": {
    "tags": []
   },
   "outputs": [],
   "source": [
    "#df.columns"
   ]
  },
  {
   "cell_type": "code",
   "execution_count": null,
   "id": "4a1e89f0-e7fa-4d32-b743-fa814ab02a24",
   "metadata": {},
   "outputs": [],
   "source": [
    "# df = cov_dataframes[2]\n",
    "# df['equal'] = df['GM_vol'] == cov_dataframes[1]['GM_vol']\n",
    "# df"
   ]
  },
  {
   "cell_type": "code",
   "execution_count": null,
   "id": "731099fb-600a-4c3d-893c-3b2fb885501e",
   "metadata": {},
   "outputs": [],
   "source": [
    "numbr = 0\n",
    "for frame in cov_dataframes:\n",
    "    filepath = '../open_work/internal_results/stitchy/insight46_cov' \n",
    "    filename = os.path.join(filepath,str(numbr+1)) \n",
    "    if not os.path.exists(filepath):\n",
    "    # if folder doesn't exist, create it\n",
    "        os.makedirs(filepath)\n",
    "    frame.to_csv((filename +'.tsv'), sep=\"\\t\")\n",
    "    print(frame.columns)\n",
    "    numbr +=1"
   ]
  },
  {
   "cell_type": "code",
   "execution_count": null,
   "id": "b544371d-37b9-4daa-9e9c-91d05786387d",
   "metadata": {
    "tags": []
   },
   "outputs": [],
   "source": [
    "pd.read_csv( os.path.join(filepath,'2.tsv'))"
   ]
  },
  {
   "cell_type": "code",
   "execution_count": null,
   "id": "2dea67d5-7820-4365-9b9a-6f59bff64d21",
   "metadata": {},
   "outputs": [],
   "source": [
    "numbr = 0\n",
    "for frame in basic_dataframes:\n",
    "    filepath = '../open_work/internal_results/stitchy/insight46_basics' \n",
    "    filename = os.path.join(filepath,str(numbr+1)) \n",
    "    if not os.path.exists(filepath):\n",
    "    # if folder doesn't exist, create it\n",
    "        os.makedirs(filepath)\n",
    "    frame.to_csv((filename +'.tsv'), sep=\"\\t\")\n",
    "    numbr +=1"
   ]
  },
  {
   "cell_type": "code",
   "execution_count": null,
   "id": "755f21b5-40cd-4eb6-a081-9ab34ea73310",
   "metadata": {
    "tags": []
   },
   "outputs": [],
   "source": [
    "cov_tsv_folder_made = '../open_work/internal_results/stitchy/insight46_cov' \n",
    "cov_identical_columns = sep.check_identical_columns(cov_tsv_folder_made)\n",
    "cov_identical_columns"
   ]
  },
  {
   "cell_type": "code",
   "execution_count": null,
   "id": "e438baf2-6806-464d-ba2d-05d37c013668",
   "metadata": {
    "tags": []
   },
   "outputs": [],
   "source": [
    "basics_tsv_folder_made = '../open_work/internal_results/stitchy/insight46_basics'\n",
    "basics_identical_columns = sep.check_identical_columns(basics_tsv_folder_made)\n",
    "basics_identical_columns"
   ]
  },
  {
   "cell_type": "code",
   "execution_count": null,
   "id": "18da9fc1-d044-4443-a6e3-877940ed9d02",
   "metadata": {
    "tags": []
   },
   "outputs": [],
   "source": [
    "# now we need to make a super dataframes list\n",
    "super_dataframes = basic_dataframes +cov_dataframes\n",
    "len(super_dataframes)"
   ]
  },
  {
   "cell_type": "code",
   "execution_count": null,
   "id": "b386fab9-f234-426b-ba65-776424633f01",
   "metadata": {
    "tags": []
   },
   "outputs": [],
   "source": [
    "identical_columns = sep.check_identical_columns(basics_tsv_folder_made)"
   ]
  },
  {
   "cell_type": "code",
   "execution_count": null,
   "id": "4fc4707c-c599-41a6-b694-bf55cc515c34",
   "metadata": {
    "tags": []
   },
   "outputs": [],
   "source": [
    "stitched = sample_basic_df[identical_columns].copy()\n",
    "stitched"
   ]
  },
  {
   "cell_type": "code",
   "execution_count": null,
   "id": "847279f8-f68d-42a3-94c4-895c5fe531f1",
   "metadata": {
    "tags": []
   },
   "outputs": [],
   "source": [
    "n_identical = stitched.shape[1]\n",
    "n_identical"
   ]
  },
  {
   "cell_type": "code",
   "execution_count": null,
   "id": "bae2d8ac-27ad-41cd-984e-1255c91100c4",
   "metadata": {
    "tags": []
   },
   "outputs": [],
   "source": [
    "for df in super_dataframes:\n",
    "    for col in df.columns[n_identical:]:\n",
    "        stitched[col] = df[col]\n",
    "\n",
    "stitched.columns"
   ]
  },
  {
   "cell_type": "code",
   "execution_count": null,
   "id": "13a3a289-a9e8-4e16-8658-8238557f4b9d",
   "metadata": {
    "tags": []
   },
   "outputs": [],
   "source": [
    "len(stitched.columns)"
   ]
  },
  {
   "cell_type": "code",
   "execution_count": null,
   "id": "fdff2a1f-29ab-4056-865f-4a5ecfda4a87",
   "metadata": {
    "tags": []
   },
   "outputs": [],
   "source": [
    "# now we can get rid of double header\n",
    "stitched = stitched[1:]\n",
    "#stitched"
   ]
  },
  {
   "cell_type": "code",
   "execution_count": null,
   "id": "2620f013-1234-44e5-abb9-8196763f695b",
   "metadata": {
    "tags": []
   },
   "outputs": [],
   "source": [
    "stitched['session'].unique()"
   ]
  },
  {
   "cell_type": "code",
   "execution_count": null,
   "id": "79d3271a-720a-4d9b-9c1f-b504f071bc9e",
   "metadata": {
    "tags": []
   },
   "outputs": [],
   "source": [
    "stitched['LongitudinalTimePoint'].unique()"
   ]
  },
  {
   "cell_type": "markdown",
   "id": "935b82c1-cafd-4210-89ed-f3b2229672cc",
   "metadata": {},
   "source": [
    "# So here we see that we have two time points, we need to see if we have ages on the second time point, and otherwise eliminate it...\n",
    "\n",
    "but for today Monday October 30th 2023, we will eliminate LongitudinalTimePoint2"
   ]
  },
  {
   "cell_type": "code",
   "execution_count": null,
   "id": "cfefb573-34eb-4373-9385-bbbaccd82884",
   "metadata": {
    "tags": []
   },
   "outputs": [],
   "source": [
    "sexage_path = os.path.join(root_directory, 'age_data', 'Age_sex_Insight46.csv')\n",
    "sexage_df = pd.read_csv(sexage_path, index_col=0)\n",
    "sexage_df['renumber'] = sexage_df.index\n",
    "sexage_df['renumber'] = sexage_df['renumber'].apply(str)\n",
    "sexage_df"
   ]
  },
  {
   "cell_type": "markdown",
   "id": "16d2f368-3e8b-49db-b6ea-270ebb4c2c09",
   "metadata": {},
   "source": [
    "# Below we eliminate the second date scans"
   ]
  },
  {
   "cell_type": "code",
   "execution_count": null,
   "id": "4dde2233-d6bb-402e-a3bc-44f6e5041b90",
   "metadata": {
    "tags": []
   },
   "outputs": [],
   "source": [
    "stitched =stitched[stitched['LongitudinalTimePoint'].str.contains(\"1\")]"
   ]
  },
  {
   "cell_type": "code",
   "execution_count": null,
   "id": "d2c4a951-9bef-49ee-ba14-b81262167a98",
   "metadata": {
    "tags": []
   },
   "outputs": [],
   "source": [
    "stitched['LongitudinalTimePoint'].unique()"
   ]
  },
  {
   "cell_type": "code",
   "execution_count": null,
   "id": "a91ecc3f-f8f5-4ffa-b013-296593f89b9f",
   "metadata": {
    "tags": []
   },
   "outputs": [],
   "source": [
    "stitched.columns"
   ]
  },
  {
   "cell_type": "code",
   "execution_count": null,
   "id": "226a3526-bfbf-40f0-9573-e55d0a6e3f38",
   "metadata": {
    "tags": []
   },
   "outputs": [],
   "source": [
    "# sexage_path = os.path.join(root_directory, 'age_data', 'Age_sex_Insight46.csv')\n",
    "# sexage_df = pd.read_csv(sexage_path, index_col=0)\n",
    "# sexage_df['renumber'] = sexage_df.index\n",
    "# sexage_df['renumber'] = sexage_df['renumber'].apply(str)\n",
    "# sexage_df"
   ]
  },
  {
   "cell_type": "code",
   "execution_count": null,
   "id": "c464536c-39a9-4699-957a-51c3dcb0696d",
   "metadata": {},
   "outputs": [],
   "source": [
    "## So in this case, to repeat, we only have the age at scan date number one. We eliminated the other second scans"
   ]
  },
  {
   "cell_type": "code",
   "execution_count": null,
   "id": "f7f9b918-7df5-46b6-9c99-9cc640a32051",
   "metadata": {
    "tags": []
   },
   "outputs": [],
   "source": [
    "stitched = stitched.reset_index(drop=False)\n",
    "stitched"
   ]
  },
  {
   "cell_type": "code",
   "execution_count": null,
   "id": "878daf64-162b-4fca-9f50-96257c9ffb73",
   "metadata": {
    "tags": []
   },
   "outputs": [],
   "source": [
    "len(stitched.participant_id.unique())"
   ]
  },
  {
   "cell_type": "code",
   "execution_count": null,
   "id": "6fde446a-636b-4641-b527-042e4499c55c",
   "metadata": {
    "tags": []
   },
   "outputs": [],
   "source": [
    "stitched.participant_id"
   ]
  },
  {
   "cell_type": "code",
   "execution_count": null,
   "id": "3d6915eb-a9ff-445d-8b4c-385a51c37e05",
   "metadata": {
    "tags": []
   },
   "outputs": [],
   "source": [
    "stitched['renumber'] = stitched['participant_id']\n",
    "stitched.head(3)"
   ]
  },
  {
   "cell_type": "code",
   "execution_count": null,
   "id": "469355ac-5004-423f-b0b5-3b2c3e8b6d3b",
   "metadata": {
    "tags": []
   },
   "outputs": [],
   "source": [
    "sexage_df = sexage_df.reset_index(drop=True)\n",
    "sexage_df = sexage_df.rename(columns={\"ageatscandate_i46p1\": \"age\"})"
   ]
  },
  {
   "cell_type": "code",
   "execution_count": null,
   "id": "cbd8d253-a611-4522-bbbb-de1fac110322",
   "metadata": {
    "tags": []
   },
   "outputs": [],
   "source": [
    "sexage_df.head(3)"
   ]
  },
  {
   "cell_type": "code",
   "execution_count": null,
   "id": "8f4517eb-5b21-4c5a-8623-d05ee2878b67",
   "metadata": {
    "tags": []
   },
   "outputs": [],
   "source": [
    "sexage_df = sep.recode_sex(sexage_df, 'sex')\n",
    "sexage_df['sex'] = sexage_df['sex_encoded']\n",
    "sexage_df"
   ]
  },
  {
   "cell_type": "code",
   "execution_count": null,
   "id": "fa7cf71d-d1b7-45da-bde0-8fa003852900",
   "metadata": {
    "tags": []
   },
   "outputs": [],
   "source": [
    "sexage_df['renumber'] = \"sub-\" + sexage_df['renumber'] +\"_1\"# sub-59080_1\n",
    "sexage_df"
   ]
  },
  {
   "cell_type": "code",
   "execution_count": null,
   "id": "f2f2b32e-814e-4569-b400-8239380008a4",
   "metadata": {
    "tags": []
   },
   "outputs": [],
   "source": [
    "result = stitched.merge(sexage_df, on=\"renumber\")\n",
    "result"
   ]
  },
  {
   "cell_type": "code",
   "execution_count": null,
   "id": "0d3622f9-91db-4dd7-b2e6-4db68fdf0800",
   "metadata": {
    "tags": []
   },
   "outputs": [],
   "source": [
    "# just in case there are duplicates in there\n",
    "result = result.loc[:,~result.columns.duplicated()].copy()"
   ]
  },
  {
   "cell_type": "markdown",
   "id": "cea93742-d5fd-4a9f-88d1-918d841cf219",
   "metadata": {},
   "source": [
    "## conform to new standard"
   ]
  },
  {
   "cell_type": "code",
   "execution_count": null,
   "id": "f5c20f9f-3d79-4404-b43a-28ac6431bbed",
   "metadata": {
    "tags": []
   },
   "outputs": [],
   "source": [
    "standard_path = '../researcher_interface/sample_sep_values/showable_standard.csv'\n"
   ]
  },
  {
   "cell_type": "code",
   "execution_count": null,
   "id": "2898629e-df89-4fe9-b309-baed660ab037",
   "metadata": {
    "tags": []
   },
   "outputs": [],
   "source": [
    "standard = pd.read_csv(standard_path)\n",
    "set_standard = set(standard.columns.to_list())"
   ]
  },
  {
   "cell_type": "code",
   "execution_count": null,
   "id": "28052f10-5056-445c-bcfb-7fbd2f438614",
   "metadata": {
    "tags": []
   },
   "outputs": [],
   "source": [
    "result.columns = result.columns.str.lower()\n",
    "set_results= set(result.columns.to_list())\n",
    "\n",
    "z = set_results.intersection(set_standard) \n",
    "#z"
   ]
  },
  {
   "cell_type": "code",
   "execution_count": null,
   "id": "f125b293-5e3e-43dc-9645-90c45037d04a",
   "metadata": {
    "tags": []
   },
   "outputs": [],
   "source": [
    "for f in result.columns:\n",
    "    print(f)"
   ]
  },
  {
   "cell_type": "code",
   "execution_count": null,
   "id": "8be75e49-2f7e-44b7-9ee4-2026a5f41c99",
   "metadata": {
    "tags": []
   },
   "outputs": [],
   "source": [
    "# shift column 'Name' to first position\n",
    "first_column = result.pop('participant_id')\n",
    "  \n",
    "# insert column using insert(position,column_name,\n",
    "# first_column) function\n",
    "result.insert(0, 'participant_id', first_column)\n",
    "result['participant_id'] = result['participant_id']+'_ses-1_run-1'\n",
    "result"
   ]
  },
  {
   "cell_type": "code",
   "execution_count": null,
   "id": "2a88ba2f-23c5-4f89-aa14-ed0db99845b2",
   "metadata": {
    "tags": []
   },
   "outputs": [],
   "source": [
    "result['session_id'] = result['session']\n",
    "second_column = result.pop('session_id')\n",
    "result.insert(1, 'session_id', second_column)\n",
    "result['site'] = \"MRI\"\n",
    "result['run_id'] = result['longitudinaltimepoint']\n",
    "#result"
   ]
  },
  {
   "cell_type": "markdown",
   "id": "1a0ca49d-9271-49fb-a89b-c33b824d3593",
   "metadata": {
    "tags": []
   },
   "source": [
    "## Here we need to confirm with scientists that the MRI are all \"reshuffled/normed\"  values in the ASL"
   ]
  },
  {
   "cell_type": "code",
   "execution_count": null,
   "id": "631bf7f4-2e06-4986-ba98-40220d08eb40",
   "metadata": {
    "tags": []
   },
   "outputs": [],
   "source": [
    "result['gm_icv_ratio'] = result['gm_icvratio']\n",
    "result['gmwm_icv_ratio'] = result['gm_icvratio']\n",
    "result['cbf_gm_pvc0'] = 'NaN' \n",
    "result['cbf_gm_pvc2']=  result['totalgm_b'] \n",
    "result['cbf_wm_pvc0']= 'NaN'\n",
    "result['cbf_wm_pvc2']= result['deepwm_b']\n",
    "result['cbf_aca_pvc0'] =  'NaN'\n",
    "result['cbf_mca_pvc0']  = 'NaN'\n",
    "result['cbf_pca_pvc0'] =  'NaN'\n",
    "result['cbf_aca_pvc2']  = result['aca_b']\n",
    "result['cbf_mca_pvc2']  = result['mca_b']\n",
    "result['cbf_pca_pvc2']  = result['pca_b']"
   ]
  },
  {
   "cell_type": "code",
   "execution_count": null,
   "id": "01711e68-e439-4701-9e1a-819354a7230a",
   "metadata": {
    "tags": []
   },
   "outputs": [],
   "source": [
    "# for - need to check with student and scientists!\n",
    "result['cov_gm_pvc0'] =  'NaN' # correct does not exist\n",
    "# result['cov_gm_pvc2']  = result[]\n",
    "result['cov_wm_pvc0']  = 'NaN' # does not exist\n",
    "# result['cov_wm_pvc2']  = result[]\n",
    "result['cov_aca_pvc0'] =  'NaN'# does not exist\n",
    "result['cov_mca_pvc0']  = 'NaN'# does not exist\n",
    "result['cov_pca_pvc0']  = 'NaN'# does not exist\n",
    "result['cov_aca_pvc2'] = result['aca_b_cov']\n",
    "result['cov_mca_pvc2'] = result['mca_b_cov']\n",
    "result['cov_pca_pvc2'] = result['pca_b_cov']\n",
    "\n"
   ]
  },
  {
   "cell_type": "code",
   "execution_count": null,
   "id": "960ccad9-7c9d-4c20-81e4-8ed62d77a0c6",
   "metadata": {},
   "outputs": [],
   "source": [
    "# for f in result.columns:\n",
    "#     print(f)\n"
   ]
  },
  {
   "cell_type": "code",
   "execution_count": null,
   "id": "b07685a8-3101-4791-9b74-ac26ad2e9f19",
   "metadata": {
    "tags": []
   },
   "outputs": [],
   "source": [
    "# we added a bunch of columns \n",
    "len(result.columns)"
   ]
  },
  {
   "cell_type": "code",
   "execution_count": null,
   "id": "06c6ffe5-3892-4cbd-b275-48447b741e2d",
   "metadata": {
    "tags": []
   },
   "outputs": [],
   "source": [
    "sex_mapping = {1:'F',0:'M',}\n",
    "results = result.assign(sex = result.sex.map(sex_mapping))\n",
    "results"
   ]
  },
  {
   "cell_type": "code",
   "execution_count": null,
   "id": "8abd0560-46e6-48d8-bfb9-729e12137f3a",
   "metadata": {
    "tags": []
   },
   "outputs": [],
   "source": [
    "standard.columns"
   ]
  },
  {
   "cell_type": "code",
   "execution_count": null,
   "id": "b2a24c2c-28c7-4283-88d1-dd230b8da37f",
   "metadata": {
    "tags": []
   },
   "outputs": [],
   "source": [
    "# shift columns to  position\n",
    "third_column = results.pop('run_id')\n",
    "fourth_column = results.pop('age')\n",
    "fifth_column = results.pop('sex')\n",
    "sixth_column = results.pop('site')\n",
    "seventh_column = results.pop('gm_vol')\n",
    "eight_column = results.pop('wm_vol')\n",
    "ninth_column = results.pop('csf_vol')\n",
    "tenth_column = results.pop('gm_icv_ratio')\n",
    "eleventh_column = results.pop('gmwm_icv_ratio')\n",
    "twelvth_column = results.pop('wmh_vol')\n",
    "thirteenth_column = results.pop('wmh_count')\n",
    "\n",
    "results.insert(2, 'run_id', third_column)\n",
    "results.insert(3, 'age', fourth_column)\n",
    "results.insert(4, 'sex', fifth_column)\n",
    "results.insert(5, 'site', sixth_column)\n",
    "results.insert(6, 'gm_vol', seventh_column)\n",
    "results.insert(7, 'wm_vol', eight_column)\n",
    "results.insert(8, 'csf_vol', ninth_column)\n",
    "results.insert(9, 'gm_ivc_ratio',tenth_column)\n",
    "results.insert(10, 'gmwm_ivc_ratio',eleventh_column)\n",
    "results.insert(11, 'wmh_vol',twelvth_column)\n",
    "results.insert(12, 'wmh_count',thirteenth_column)\n",
    "\n",
    "\n",
    "results"
   ]
  },
  {
   "cell_type": "code",
   "execution_count": null,
   "id": "ef648d80-e55c-448e-8dad-80c5e7c0332f",
   "metadata": {
    "tags": []
   },
   "outputs": [],
   "source": [
    "results = results.drop(['index', 'subjectnlist','session','longitudinaltimepoint','gmwm_icvratio','gm_icvratio'], axis=1) "
   ]
  },
  {
   "cell_type": "code",
   "execution_count": null,
   "id": "5263f5c7-fdc1-4fdc-bb12-93e4f8543ea6",
   "metadata": {
    "tags": []
   },
   "outputs": [],
   "source": [
    "standard.columns"
   ]
  },
  {
   "cell_type": "code",
   "execution_count": null,
   "id": "528adae7-bfa2-473f-8564-b58226731249",
   "metadata": {
    "tags": []
   },
   "outputs": [],
   "source": [
    "results.columns[:30]"
   ]
  },
  {
   "cell_type": "code",
   "execution_count": null,
   "id": "ccd318ed-d1b0-44a1-ac62-377c9adc57cc",
   "metadata": {
    "tags": []
   },
   "outputs": [],
   "source": [
    "head_columns = results.columns[:13]\n",
    "middle_columns = results.columns[13:393]\n",
    "tail_columns = results.columns[393:]"
   ]
  },
  {
   "cell_type": "code",
   "execution_count": null,
   "id": "362035ba-f5bf-40c9-a1e0-d0ae9c065b26",
   "metadata": {},
   "outputs": [],
   "source": [
    "#middle_columns"
   ]
  },
  {
   "cell_type": "code",
   "execution_count": null,
   "id": "b56384a5-03ad-40b1-8a49-e49c9a56109e",
   "metadata": {
    "tags": []
   },
   "outputs": [],
   "source": [
    "#tail_columns"
   ]
  },
  {
   "cell_type": "code",
   "execution_count": null,
   "id": "d80b9ff7-0bd9-4706-b371-a133b76de98d",
   "metadata": {
    "tags": []
   },
   "outputs": [],
   "source": [
    "f_results = pd.concat([results[head_columns],results[tail_columns],results[middle_columns]], axis=1)\n",
    "f_results.columns"
   ]
  },
  {
   "cell_type": "code",
   "execution_count": null,
   "id": "1ec5a267-8b1d-46a1-bc61-fef4e7bfeb74",
   "metadata": {
    "tags": []
   },
   "outputs": [],
   "source": [
    "for column in f_results.columns:\n",
    "    print(column)"
   ]
  },
  {
   "cell_type": "code",
   "execution_count": null,
   "id": "d5eae7b7-faaf-40c6-98a3-249b717900b0",
   "metadata": {
    "tags": []
   },
   "outputs": [],
   "source": [
    "for column in f_results.columns[6:]:\n",
    "    #print(column)\n",
    "    f_results[column] = pd.to_numeric(f_results[column], errors = 'coerce')\n"
   ]
  },
  {
   "cell_type": "code",
   "execution_count": null,
   "id": "4bcc443c-d918-4a08-9f95-63637fecf429",
   "metadata": {
    "tags": []
   },
   "outputs": [],
   "source": [
    "sep.check_sex_dimorph_expectations(f_results)"
   ]
  },
  {
   "cell_type": "code",
   "execution_count": null,
   "id": "127ab954-e9c7-400b-9c76-346cc2b31947",
   "metadata": {
    "tags": []
   },
   "outputs": [],
   "source": [
    "len(f_results.columns.to_list())"
   ]
  },
  {
   "cell_type": "code",
   "execution_count": null,
   "id": "0859770d-0195-4105-8ada-477fd8548858",
   "metadata": {
    "tags": []
   },
   "outputs": [],
   "source": [
    "#sep.relate_columns_graphs_numeric(f_results, 'age')"
   ]
  },
  {
   "cell_type": "markdown",
   "id": "5fdcb744-74e2-4aed-8631-743013c540e6",
   "metadata": {
    "tags": []
   },
   "source": [
    "## Here outliers are tricky- we should wait until we can sort out only healthy, maybe?"
   ]
  },
  {
   "cell_type": "code",
   "execution_count": null,
   "id": "b8dd23d0-66d9-4d08-9e54-ae3c69d01b16",
   "metadata": {
    "tags": []
   },
   "outputs": [],
   "source": [
    "doubled_outliers =sep.find_outliers_by_list(f_results, f_results.columns.to_list()[6:], 2.5)"
   ]
  },
  {
   "cell_type": "code",
   "execution_count": null,
   "id": "0562840f-4169-422b-a3e4-efa4fd57f946",
   "metadata": {
    "tags": []
   },
   "outputs": [],
   "source": [
    "len(doubled_outliers)"
   ]
  },
  {
   "cell_type": "markdown",
   "id": "1fb42e0a-acc7-4dfd-b0be-9fa4b81c1756",
   "metadata": {},
   "source": [
    "## save outliers"
   ]
  },
  {
   "cell_type": "code",
   "execution_count": null,
   "id": "b01adaea-7cce-4a17-ade8-08542aec9b62",
   "metadata": {
    "tags": []
   },
   "outputs": [],
   "source": [
    "filepath = '../open_work/internal_results' \n",
    "filename = os.path.join(filepath,'possible_outliers_from_Insight46.csv') \n",
    "if not os.path.exists(filepath):\n",
    "    # if filder doesn't exist, create it\n",
    "    os.makedirs(filepath)\n",
    "doubled_outliers.to_csv(filename)  "
   ]
  },
  {
   "cell_type": "markdown",
   "id": "410844f2-1292-4a58-ba48-9ebf3dda6090",
   "metadata": {},
   "source": [
    "# save final file"
   ]
  },
  {
   "cell_type": "code",
   "execution_count": null,
   "id": "238b9a96-0ea3-4a46-b499-c5f416052fd2",
   "metadata": {
    "tags": []
   },
   "outputs": [],
   "source": [
    "filepath = '../open_work/internal_results' \n",
    "filename = os.path.join(filepath,'inisight46_all_stitched_conformed.csv') \n",
    "if not os.path.exists(filepath):\n",
    "    # if filder doesn't exist, create it\n",
    "    os.makedirs(filepath)\n",
    "f_results.to_csv(filename)  "
   ]
  },
  {
   "cell_type": "code",
   "execution_count": null,
   "id": "7a6487b6-a9f4-45c1-9699-d5eb8f1c0d79",
   "metadata": {},
   "outputs": [],
   "source": [
    "f_results.columns"
   ]
  },
  {
   "cell_type": "code",
   "execution_count": null,
   "id": "4d5a7709-cc90-49ce-92b9-a699991d3821",
   "metadata": {
    "tags": []
   },
   "outputs": [],
   "source": []
  },
  {
   "cell_type": "code",
   "execution_count": null,
   "id": "e25957e4-421a-49da-bd27-dcc304ffad26",
   "metadata": {},
   "outputs": [],
   "source": []
  }
 ],
 "metadata": {
  "kernelspec": {
   "display_name": "Python 3 (ipykernel)",
   "language": "python",
   "name": "python3"
  },
  "language_info": {
   "codemirror_mode": {
    "name": "ipython",
    "version": 3
   },
   "file_extension": ".py",
   "mimetype": "text/x-python",
   "name": "python",
   "nbconvert_exporter": "python",
   "pygments_lexer": "ipython3",
   "version": "3.9.18"
  }
 },
 "nbformat": 4,
 "nbformat_minor": 5
}
