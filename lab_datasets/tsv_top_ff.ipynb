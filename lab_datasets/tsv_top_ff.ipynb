{
 "cells": [
  {
   "cell_type": "markdown",
   "id": "2405823f-49e8-4f3e-b46b-47f40c08e2ef",
   "metadata": {},
   "source": [
    "# Assembling the TOP dataset"
   ]
  },
  {
   "cell_type": "markdown",
   "id": "e2d87276-e396-4df9-ad80-2d96c3fdb18b",
   "metadata": {},
   "source": [
    "### Import libraries"
   ]
  },
  {
   "cell_type": "code",
   "execution_count": null,
   "id": "90d0e40d-2937-4a83-8abd-c16d774a2e96",
   "metadata": {
    "tags": []
   },
   "outputs": [],
   "source": [
    "import os       # using operating system dependent functionality (folders)\n",
    "import pandas as pd # data analysis and manipulation\n",
    "import numpy as np    # numerical computing (manipulating and performing operations on arrays of data)\n",
    "import matplotlib.pyplot as plt\n",
    "import glob\n",
    "import sys\n",
    "sys.path.insert(0, '../') # path to functions\n",
    "import cvasl.seperated as sep\n",
    "from cvasl.file_handler import Config"
   ]
  },
  {
   "cell_type": "markdown",
   "id": "ee83d5a3-eea4-4d72-867a-e940032617b5",
   "metadata": {},
   "source": [
    "## Read data into pandas dataframe\n",
    "\n",
    "How do we define which files should be used together?\n",
    "options:\n",
    "- all files in folder\n",
    "- based on suffix (e.g. \"n=895_06-Feb-2023_PVC2.tsv\")\n",
    "- check first columns to see whether it matches\n",
    "\n",
    "For now, we will will use the first option, approved by Mathijs on 26th June 2023"
   ]
  },
  {
   "cell_type": "code",
   "execution_count": null,
   "id": "1df22b95-3e45-41fd-a99e-b64f33600216",
   "metadata": {
    "tags": []
   },
   "outputs": [],
   "source": [
    "experiment_folder= 'TOP'"
   ]
  },
  {
   "cell_type": "code",
   "execution_count": null,
   "id": "5ad9bf4f-345d-482c-8408-b17131b1c1d0",
   "metadata": {
    "tags": []
   },
   "outputs": [],
   "source": [
    "config = Config()\n",
    "root_directory = config.get_directory('raw_data')\n",
    "if os.path.isdir(os.path.join(root_directory, experiment_folder)):\n",
    "    print(\"this folder exists, we will take tsv from here\")\n",
    "else: \n",
    "    print(\"this folder does not seem to exist, try typing again\")"
   ]
  },
  {
   "cell_type": "code",
   "execution_count": null,
   "id": "c2c8c1d7-b976-452d-ab83-885899986f6d",
   "metadata": {
    "tags": []
   },
   "outputs": [],
   "source": [
    "root_directory = config.get_directory('raw_data')\n",
    "tsv_path = os.path.join(root_directory, experiment_folder)\n",
    "\n",
    "tsv_files = [os.path.join(tsv_path, file) for file in os.listdir(tsv_path) if file.endswith('.tsv')]\n",
    "tsv_files"
   ]
  },
  {
   "cell_type": "markdown",
   "id": "52e7d056-2af3-4181-a214-6bba9f6dc390",
   "metadata": {},
   "source": [
    "# Add a step to get rid of second visits #TODO"
   ]
  },
  {
   "cell_type": "code",
   "execution_count": null,
   "id": "9a63b417-6eeb-4689-aae6-3c4171d97691",
   "metadata": {
    "tags": []
   },
   "outputs": [],
   "source": [
    "# Read files into dataframes\n",
    "dataframes = [pd.read_csv(file, sep='\\t', header=[0]) for file in tsv_files]\n",
    "sample_df = dataframes[2]\n",
    "cols = sample_df.columns\n",
    "sample_df"
   ]
  },
  {
   "cell_type": "code",
   "execution_count": null,
   "id": "3a28e08c-96fe-4b03-bcaf-a7242cbe2283",
   "metadata": {},
   "outputs": [],
   "source": [
    "numbr = 0\n",
    "for frame in dataframes:\n",
    "    filepath = '../open_work/internal_results/stitchy' \n",
    "    filename = os.path.join(filepath,str(numbr+1)) \n",
    "    if not os.path.exists(filepath):\n",
    "    # if filder doesn't exist, create it\n",
    "        os.makedirs(filepath)\n",
    "    frame.to_csv((filename +'.tsv'), sep=\"\\t\")\n",
    "    numbr +=1"
   ]
  },
  {
   "cell_type": "markdown",
   "id": "0f18779a-6687-4566-9809-a2be2d762f87",
   "metadata": {
    "tags": []
   },
   "source": [
    "## Copy identical columns from any file\n",
    "\n",
    "we could also read it from the data, but if it's always the same, we can just define it here"
   ]
  },
  {
   "cell_type": "code",
   "execution_count": null,
   "id": "ba72197f-a59a-41e0-baca-0c7d049e9a8f",
   "metadata": {
    "tags": []
   },
   "outputs": [],
   "source": [
    "tsv_folder_made = '../open_work/internal_results/stitchy'\n",
    "identical_columns = sep.check_identical_columns(tsv_folder_made)"
   ]
  },
  {
   "cell_type": "code",
   "execution_count": null,
   "id": "d6c53f9a-8c5e-4a8a-a669-66bd8b6c600f",
   "metadata": {
    "tags": []
   },
   "outputs": [],
   "source": [
    "identical_columns"
   ]
  },
  {
   "cell_type": "code",
   "execution_count": null,
   "id": "059d21bb-311b-49c8-9386-6d438307545c",
   "metadata": {
    "tags": []
   },
   "outputs": [],
   "source": [
    "sample_df.columns"
   ]
  },
  {
   "cell_type": "code",
   "execution_count": null,
   "id": "d12b9e06-2286-4c72-94a3-14efc2483e3d",
   "metadata": {
    "tags": []
   },
   "outputs": [],
   "source": [
    "#identical_columns"
   ]
  },
  {
   "cell_type": "code",
   "execution_count": null,
   "id": "984c5eb5-38a6-4b2e-8adc-f747485a22f2",
   "metadata": {
    "tags": []
   },
   "outputs": [],
   "source": [
    "stitched = sample_df[identical_columns].copy()"
   ]
  },
  {
   "cell_type": "code",
   "execution_count": null,
   "id": "8676098b-5c2f-4c22-9685-a5e53d49d71e",
   "metadata": {
    "tags": []
   },
   "outputs": [],
   "source": [
    "n_identical = stitched.shape[1]"
   ]
  },
  {
   "cell_type": "code",
   "execution_count": null,
   "id": "8f463b84-eb2e-4e4f-9997-084db275dba8",
   "metadata": {},
   "outputs": [],
   "source": []
  },
  {
   "cell_type": "code",
   "execution_count": null,
   "id": "0ed89349-3da2-4efe-a1a9-c81312d2c127",
   "metadata": {
    "tags": []
   },
   "outputs": [],
   "source": [
    "#stitched['renumber'] = stitched.index"
   ]
  },
  {
   "cell_type": "code",
   "execution_count": null,
   "id": "2765dfb9-9aa7-4566-880b-178b9addf0b5",
   "metadata": {
    "tags": []
   },
   "outputs": [],
   "source": [
    "#stitched.shape"
   ]
  },
  {
   "cell_type": "code",
   "execution_count": null,
   "id": "ac8dbb26-d83b-4d48-8c7e-34ab1fb5edc9",
   "metadata": {},
   "outputs": [],
   "source": [
    "#Here we need to add back in patient ID"
   ]
  },
  {
   "cell_type": "code",
   "execution_count": null,
   "id": "a52186bf-20be-4eaf-9cb7-ee8db8fea4d8",
   "metadata": {},
   "outputs": [],
   "source": []
  },
  {
   "cell_type": "code",
   "execution_count": null,
   "id": "32208142-45e1-4d06-be9d-e7d25a8ce57b",
   "metadata": {},
   "outputs": [],
   "source": []
  },
  {
   "cell_type": "code",
   "execution_count": null,
   "id": "83c85ddf-2251-4197-95f1-0267391c2e49",
   "metadata": {},
   "outputs": [],
   "source": []
  },
  {
   "cell_type": "code",
   "execution_count": null,
   "id": "56972484-8de4-4454-9571-c7055606d222",
   "metadata": {},
   "outputs": [],
   "source": []
  },
  {
   "cell_type": "code",
   "execution_count": null,
   "id": "e5d51a0a-2bbe-44a5-8613-58d00bedffd7",
   "metadata": {},
   "outputs": [],
   "source": []
  },
  {
   "cell_type": "code",
   "execution_count": null,
   "id": "998bdf16-dc75-48ce-ad9b-29d967c8357d",
   "metadata": {},
   "outputs": [],
   "source": []
  },
  {
   "cell_type": "code",
   "execution_count": null,
   "id": "19f33353-5529-4b5b-b272-580432e0e19e",
   "metadata": {},
   "outputs": [],
   "source": []
  },
  {
   "cell_type": "code",
   "execution_count": null,
   "id": "9e0ec6c8-70de-4a01-8eba-7e605d913780",
   "metadata": {},
   "outputs": [],
   "source": []
  },
  {
   "cell_type": "markdown",
   "id": "c00af7ca-921e-4658-a944-606a18b0ceeb",
   "metadata": {},
   "source": [
    "### Here is where we add the different parts to stitched"
   ]
  },
  {
   "cell_type": "code",
   "execution_count": null,
   "id": "d1627767-28fc-4cfe-901c-d433c4344431",
   "metadata": {
    "tags": []
   },
   "outputs": [],
   "source": [
    "for df in dataframes:\n",
    "    for col in df.columns[n_identical:]:\n",
    "        stitched[col] = df[col]\n",
    "\n",
    "stitched.columns"
   ]
  },
  {
   "cell_type": "code",
   "execution_count": null,
   "id": "f4133a1c-61a3-40ac-bdfd-3758985d3c0b",
   "metadata": {},
   "outputs": [],
   "source": []
  },
  {
   "cell_type": "markdown",
   "id": "47acde57-f198-4cec-a901-a96125eb2363",
   "metadata": {},
   "source": [
    "## Here we can should get rid of second visits, but what we see is that session was not in the common columns. We will get rid of all second time points, and people ending in _2. And mention to scientists"
   ]
  },
  {
   "cell_type": "code",
   "execution_count": null,
   "id": "f2ac2603-d8a3-406b-be01-338b896d0f8d",
   "metadata": {
    "tags": []
   },
   "outputs": [],
   "source": [
    "#stitched"
   ]
  },
  {
   "cell_type": "code",
   "execution_count": null,
   "id": "38ab8ae8-7617-4470-a0b7-b50ba79c2763",
   "metadata": {
    "tags": []
   },
   "outputs": [],
   "source": [
    "#stitched = stitched.loc[stitched[('LongitudinalTimePoint',           'integer')] == 'TimePoint_1']"
   ]
  },
  {
   "cell_type": "code",
   "execution_count": null,
   "id": "8b050677-dac1-463d-9bec-455efada352a",
   "metadata": {
    "tags": []
   },
   "outputs": [],
   "source": [
    "stitched"
   ]
  },
  {
   "cell_type": "code",
   "execution_count": null,
   "id": "b069338b-1d04-4c38-8ec0-1437ce9371ca",
   "metadata": {
    "tags": []
   },
   "outputs": [],
   "source": [
    "stitched.columns"
   ]
  },
  {
   "cell_type": "code",
   "execution_count": null,
   "id": "7e13864d-1f99-4a8f-980c-b45c926a4207",
   "metadata": {
    "tags": []
   },
   "outputs": [],
   "source": [
    "stitched = stitched[1:]\n",
    "#stitched"
   ]
  },
  {
   "cell_type": "code",
   "execution_count": null,
   "id": "c07408dc-1b5c-4e6b-b725-b1720ed2101c",
   "metadata": {
    "tags": []
   },
   "outputs": [],
   "source": [
    "stitched['session'].unique()"
   ]
  },
  {
   "cell_type": "code",
   "execution_count": null,
   "id": "f1de25bf-4f14-4627-848b-3f07a085320e",
   "metadata": {
    "tags": []
   },
   "outputs": [],
   "source": [
    "#stitched.columns"
   ]
  },
  {
   "cell_type": "code",
   "execution_count": null,
   "id": "c3d00297-a6e3-4830-9e49-00c3c2c74464",
   "metadata": {
    "tags": []
   },
   "outputs": [],
   "source": [
    "stitched['LongitudinalTimePoint'].unique()"
   ]
  },
  {
   "cell_type": "markdown",
   "id": "2d1c10e9-9a4f-4396-b8a6-400736f5f7b0",
   "metadata": {},
   "source": [
    "## So in this dataset we have one longitudinal timepoint, and one type of session. no need to filter down away from this"
   ]
  },
  {
   "cell_type": "code",
   "execution_count": null,
   "id": "1993ec9c-f044-4d44-b984-110c1c47e97f",
   "metadata": {},
   "outputs": [],
   "source": []
  },
  {
   "cell_type": "code",
   "execution_count": null,
   "id": "cdf42a40-b5a3-4b79-9e66-3c890085e990",
   "metadata": {
    "tags": []
   },
   "outputs": [],
   "source": [
    "stitched.columns"
   ]
  },
  {
   "cell_type": "code",
   "execution_count": null,
   "id": "2266fffa-4ed0-4523-b725-121a47d94800",
   "metadata": {
    "tags": []
   },
   "outputs": [],
   "source": [
    "sexage_path = os.path.join(root_directory, 'age_data', 'Age_sex_TOP.csv')\n",
    "sexage_df = pd.read_csv(sexage_path, index_col=0)\n",
    "sexage_df['renumber'] = sexage_df.index\n",
    "sexage_df['renumber'] = sexage_df['renumber'].apply(str)\n",
    "\n",
    "sexage_df"
   ]
  },
  {
   "cell_type": "markdown",
   "id": "945646de-14a2-4e90-a8e0-27bf2264ac68",
   "metadata": {},
   "source": [
    "## Here we take the patient ID and align it with our other frame's index"
   ]
  },
  {
   "cell_type": "code",
   "execution_count": null,
   "id": "adb78f96-0ea5-4756-b15f-b52ea6c54b55",
   "metadata": {
    "tags": []
   },
   "outputs": [],
   "source": [
    "stitched = stitched.reset_index(drop=False)\n",
    "stitched"
   ]
  },
  {
   "cell_type": "code",
   "execution_count": null,
   "id": "8d547d03-b731-4cdc-9ddd-d166db5a150c",
   "metadata": {
    "tags": []
   },
   "outputs": [],
   "source": [
    "#stitched = sep.concat_double_header(stitched)"
   ]
  },
  {
   "cell_type": "code",
   "execution_count": null,
   "id": "9ec2dba0-c40f-4e94-8379-70eaa157a988",
   "metadata": {
    "tags": []
   },
   "outputs": [],
   "source": [
    "stitched.renumber"
   ]
  },
  {
   "cell_type": "code",
   "execution_count": null,
   "id": "93b3dec3-df8d-4c11-b090-2b057796f82d",
   "metadata": {
    "tags": []
   },
   "outputs": [],
   "source": [
    "#print(type(stitched['renumber'][9]))"
   ]
  },
  {
   "cell_type": "code",
   "execution_count": null,
   "id": "a24a4b6f-32a5-4a6a-aea5-de5342f7d16c",
   "metadata": {},
   "outputs": [],
   "source": []
  },
  {
   "cell_type": "code",
   "execution_count": null,
   "id": "00cdde8d-93f6-4da2-9c30-acb15793a6d8",
   "metadata": {
    "tags": []
   },
   "outputs": [],
   "source": [
    "stitched['renumber'] = stitched['renumber'].astype('string')"
   ]
  },
  {
   "cell_type": "code",
   "execution_count": null,
   "id": "4f69fb72-d5cc-4737-afdb-67d0f7f4fb25",
   "metadata": {
    "tags": []
   },
   "outputs": [],
   "source": [
    "stitched['index']"
   ]
  },
  {
   "cell_type": "code",
   "execution_count": null,
   "id": "d9a14a2d-f8d7-4594-ac9e-d3eaea3723eb",
   "metadata": {
    "tags": []
   },
   "outputs": [],
   "source": [
    "sexage_df = sexage_df.reset_index(drop=True)\n",
    "sexage_df"
   ]
  },
  {
   "cell_type": "code",
   "execution_count": null,
   "id": "6f53fa6b-a551-4ccb-8e30-bc7cf2a789b6",
   "metadata": {
    "tags": []
   },
   "outputs": [],
   "source": [
    "stitched.columns"
   ]
  },
  {
   "cell_type": "code",
   "execution_count": null,
   "id": "cd32c069-f4b5-46e0-8e19-37262338cf6d",
   "metadata": {
    "tags": []
   },
   "outputs": [],
   "source": [
    "result = stitched.merge(sexage_df, on=\"renumber\")\n",
    "result"
   ]
  },
  {
   "cell_type": "code",
   "execution_count": null,
   "id": "e62a6644-9ff6-470b-b7d8-6d4faea79aa7",
   "metadata": {
    "tags": []
   },
   "outputs": [],
   "source": [
    "result"
   ]
  },
  {
   "cell_type": "code",
   "execution_count": null,
   "id": "3c0c5291-268b-403a-85fc-f80818c2eca5",
   "metadata": {
    "tags": []
   },
   "outputs": [],
   "source": [
    "result"
   ]
  },
  {
   "cell_type": "code",
   "execution_count": null,
   "id": "483399b9-9d12-4b0e-a634-a5f8af4d76d0",
   "metadata": {},
   "outputs": [],
   "source": [
    "result.columns"
   ]
  },
  {
   "cell_type": "code",
   "execution_count": null,
   "id": "bda98b60-c9dd-4ed4-b42d-d2eaa1e51e14",
   "metadata": {},
   "outputs": [],
   "source": [
    "result = result.loc[:,~result.columns.duplicated()].copy()"
   ]
  },
  {
   "cell_type": "markdown",
   "id": "b8fdd4fe-ed1b-4bc9-ba28-4af2edbfa5da",
   "metadata": {},
   "source": [
    "## Conform file to new standard"
   ]
  },
  {
   "cell_type": "markdown",
   "id": "4286584a-3dcf-4e8a-b28e-01c0f2bd01a1",
   "metadata": {},
   "source": [
    "### example of new standard (from M.D. on 23/08/2023)"
   ]
  },
  {
   "cell_type": "code",
   "execution_count": null,
   "id": "40d1355f-b0a5-4fed-b78b-c8afe3084439",
   "metadata": {
    "tags": []
   },
   "outputs": [],
   "source": [
    "standard_folder = 'standard' "
   ]
  },
  {
   "cell_type": "code",
   "execution_count": null,
   "id": "071b6f66-b134-4773-8f19-620b6e1f0ff2",
   "metadata": {
    "tags": []
   },
   "outputs": [],
   "source": [
    "standard_path = os.path.join(root_directory, standard_folder,'participants_CBA.csv')\n",
    "#standard_path_file = standard_path"
   ]
  },
  {
   "cell_type": "code",
   "execution_count": null,
   "id": "aef8dd56-0654-4cf9-94fc-a116cda7b034",
   "metadata": {
    "tags": []
   },
   "outputs": [],
   "source": [
    "standard = pd.read_csv(standard_path)\n",
    "standard"
   ]
  },
  {
   "cell_type": "code",
   "execution_count": null,
   "id": "df75d0b1-fd58-4ecb-ad05-fcfbc4c81fce",
   "metadata": {
    "tags": []
   },
   "outputs": [],
   "source": [
    "result.columns = result.columns.str.lower()\n",
    "result"
   ]
  },
  {
   "cell_type": "markdown",
   "id": "ee9abd15-8aac-47f6-ac36-e608aff5c2e9",
   "metadata": {},
   "source": [
    "## Save off file"
   ]
  },
  {
   "cell_type": "code",
   "execution_count": null,
   "id": "94a6a7f1-9334-43e7-8d4f-d7eeb254042a",
   "metadata": {
    "tags": []
   },
   "outputs": [],
   "source": [
    "filepath = '../open_work/internal_results' \n",
    "filename = os.path.join(filepath,'top_stitched_conformed.csv') \n",
    "if not os.path.exists(filepath):\n",
    "    # if filder doesn't exist, create it\n",
    "    os.makedirs(filepath)\n",
    "result.to_csv(filename)  "
   ]
  },
  {
   "cell_type": "code",
   "execution_count": null,
   "id": "d72f0192-1768-41e6-bdf4-0fcc5198d234",
   "metadata": {},
   "outputs": [],
   "source": []
  }
 ],
 "metadata": {
  "kernelspec": {
   "display_name": "Python 3 (ipykernel)",
   "language": "python",
   "name": "python3"
  },
  "language_info": {
   "codemirror_mode": {
    "name": "ipython",
    "version": 3
   },
   "file_extension": ".py",
   "mimetype": "text/x-python",
   "name": "python",
   "nbconvert_exporter": "python",
   "pygments_lexer": "ipython3",
   "version": "3.9.16"
  }
 },
 "nbformat": 4,
 "nbformat_minor": 5
}
