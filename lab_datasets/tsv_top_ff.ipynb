{
 "cells": [
  {
   "cell_type": "markdown",
   "id": "2405823f-49e8-4f3e-b46b-47f40c08e2ef",
   "metadata": {},
   "source": [
    "# Assembling the TOP dataset"
   ]
  },
  {
   "cell_type": "markdown",
   "id": "e2d87276-e396-4df9-ad80-2d96c3fdb18b",
   "metadata": {},
   "source": [
    "### Import libraries"
   ]
  },
  {
   "cell_type": "code",
   "execution_count": null,
   "id": "90d0e40d-2937-4a83-8abd-c16d774a2e96",
   "metadata": {
    "tags": []
   },
   "outputs": [],
   "source": [
    "import os       # using operating system dependent functionality (folders)\n",
    "import pandas as pd # data analysis and manipulation\n",
    "import numpy as np    # numerical computing (manipulating and performing operations on arrays of data)\n",
    "import matplotlib.pyplot as plt\n",
    "import glob\n",
    "import sys\n",
    "sys.path.insert(0, '../') # path to functions\n",
    "import cvasl.seperated as sep\n",
    "from cvasl.file_handler import Config"
   ]
  },
  {
   "cell_type": "markdown",
   "id": "ee83d5a3-eea4-4d72-867a-e940032617b5",
   "metadata": {},
   "source": [
    "## Read data into pandas dataframe\n",
    "\n",
    "How do we define which files should be used together?\n",
    "options:\n",
    "- all files in folder\n",
    "- based on suffix (e.g. \"n=895_06-Feb-2023_PVC2.tsv\")\n",
    "- check first columns to see whether it matches\n",
    "\n",
    "For now, we will will use the first option, approved by Mathijs on 26th June 2023"
   ]
  },
  {
   "cell_type": "code",
   "execution_count": null,
   "id": "1df22b95-3e45-41fd-a99e-b64f33600216",
   "metadata": {
    "tags": []
   },
   "outputs": [],
   "source": [
    "experiment_folder= 'TOP'"
   ]
  },
  {
   "cell_type": "code",
   "execution_count": null,
   "id": "5ad9bf4f-345d-482c-8408-b17131b1c1d0",
   "metadata": {
    "tags": []
   },
   "outputs": [],
   "source": [
    "config = Config()\n",
    "root_directory = config.get_directory('raw_data')\n",
    "if os.path.isdir(os.path.join(root_directory, experiment_folder)):\n",
    "    print(\"this folder exists, we will take tsv from here\")\n",
    "else: \n",
    "    print(\"this folder does not seem to exist, try typing again\")"
   ]
  },
  {
   "cell_type": "code",
   "execution_count": null,
   "id": "c2c8c1d7-b976-452d-ab83-885899986f6d",
   "metadata": {
    "tags": []
   },
   "outputs": [],
   "source": [
    "root_directory = config.get_directory('raw_data')\n",
    "tsv_path = os.path.join(root_directory, experiment_folder)\n",
    "\n",
    "tsv_files = [os.path.join(tsv_path, file) for file in os.listdir(tsv_path) if file.endswith('.tsv')]\n",
    "tsv_files"
   ]
  },
  {
   "cell_type": "code",
   "execution_count": null,
   "id": "9a63b417-6eeb-4689-aae6-3c4171d97691",
   "metadata": {
    "tags": []
   },
   "outputs": [],
   "source": [
    "# Read files in selected folder into dataframes\n",
    "dataframes = [pd.read_csv(file, sep='\\t', header=[0]) for file in tsv_files]\n",
    "# make a sample\n",
    "sample_df = dataframes[2]\n",
    "cols = sample_df.columns\n",
    "#look at sample\n",
    "sample_df"
   ]
  },
  {
   "cell_type": "markdown",
   "id": "2b937738-dbc3-4ca4-9533-6f3d94c142a0",
   "metadata": {
    "tags": []
   },
   "source": [
    "## Below we will see how many different columns should be in our final dataframe except sex and age, which we add from anotehr frame"
   ]
  },
  {
   "cell_type": "code",
   "execution_count": null,
   "id": "2f0c9b61-50bd-432c-b0e3-896e7ad38d65",
   "metadata": {
    "tags": []
   },
   "outputs": [],
   "source": [
    "list_all_column = []\n",
    "for frame in dataframes:\n",
    "    list_columns = frame.columns.to_list()\n",
    "    for x in list_columns:\n",
    "        if x not in list_all_column:\n",
    "            list_all_column.append(x)\n",
    "len(list_all_column)"
   ]
  },
  {
   "cell_type": "code",
   "execution_count": null,
   "id": "7caf175f-abde-4e20-8a2d-0867525183c6",
   "metadata": {
    "tags": []
   },
   "outputs": [],
   "source": [
    "#len(list_all_column)"
   ]
  },
  {
   "cell_type": "markdown",
   "id": "2d37086c-c619-4af3-a5a1-2fd4340212fd",
   "metadata": {},
   "source": [
    "### Below we take all the dataframes and put them into tsv files in a specific folder"
   ]
  },
  {
   "cell_type": "code",
   "execution_count": null,
   "id": "3a28e08c-96fe-4b03-bcaf-a7242cbe2283",
   "metadata": {},
   "outputs": [],
   "source": [
    "numbr = 0\n",
    "for frame in dataframes:\n",
    "    filepath = '../open_work/internal_results/stitchy' \n",
    "    filename = os.path.join(filepath,str(numbr+1)) \n",
    "    if not os.path.exists(filepath):\n",
    "    # if filder doesn't exist, create it\n",
    "        os.makedirs(filepath)\n",
    "    frame.to_csv((filename +'.tsv'), sep=\"\\t\")\n",
    "    numbr +=1"
   ]
  },
  {
   "cell_type": "markdown",
   "id": "0f18779a-6687-4566-9809-a2be2d762f87",
   "metadata": {
    "tags": []
   },
   "source": [
    "## Copy identical columns from any file\n",
    "\n",
    "we could also read it from the data, but if it's always the same, we can just define it here"
   ]
  },
  {
   "cell_type": "code",
   "execution_count": null,
   "id": "ba72197f-a59a-41e0-baca-0c7d049e9a8f",
   "metadata": {
    "tags": []
   },
   "outputs": [],
   "source": [
    "tsv_folder_made = '../open_work/internal_results/stitchy'\n",
    "identical_columns = sep.check_identical_columns(tsv_folder_made)"
   ]
  },
  {
   "cell_type": "code",
   "execution_count": null,
   "id": "d6c53f9a-8c5e-4a8a-a669-66bd8b6c600f",
   "metadata": {
    "tags": []
   },
   "outputs": [],
   "source": [
    "identical_columns"
   ]
  },
  {
   "cell_type": "code",
   "execution_count": null,
   "id": "059d21bb-311b-49c8-9386-6d438307545c",
   "metadata": {
    "tags": []
   },
   "outputs": [],
   "source": [
    "#sample_df.columns"
   ]
  },
  {
   "cell_type": "code",
   "execution_count": null,
   "id": "984c5eb5-38a6-4b2e-8adc-f747485a22f2",
   "metadata": {
    "tags": []
   },
   "outputs": [],
   "source": [
    "stitched = sample_df[identical_columns].copy()"
   ]
  },
  {
   "cell_type": "code",
   "execution_count": null,
   "id": "8676098b-5c2f-4c22-9685-a5e53d49d71e",
   "metadata": {
    "tags": []
   },
   "outputs": [],
   "source": [
    "n_identical = stitched.shape[1]"
   ]
  },
  {
   "cell_type": "code",
   "execution_count": null,
   "id": "8f463b84-eb2e-4e4f-9997-084db275dba8",
   "metadata": {},
   "outputs": [],
   "source": [
    "stitched"
   ]
  },
  {
   "cell_type": "markdown",
   "id": "c00af7ca-921e-4658-a944-606a18b0ceeb",
   "metadata": {},
   "source": [
    "### Here is where we add the different parts to stitched"
   ]
  },
  {
   "cell_type": "code",
   "execution_count": null,
   "id": "d1627767-28fc-4cfe-901c-d433c4344431",
   "metadata": {
    "tags": []
   },
   "outputs": [],
   "source": [
    "for df in dataframes:\n",
    "    for col in df.columns[n_identical:]:\n",
    "        stitched[col] = df[col]\n",
    "\n",
    "stitched.columns"
   ]
  },
  {
   "cell_type": "code",
   "execution_count": null,
   "id": "f4133a1c-61a3-40ac-bdfd-3758985d3c0b",
   "metadata": {},
   "outputs": [],
   "source": [
    "len(stitched.columns)"
   ]
  },
  {
   "cell_type": "markdown",
   "id": "47acde57-f198-4cec-a901-a96125eb2363",
   "metadata": {},
   "source": [
    "## Here we can should get rid of second visits, but what we see is that session was not in the common columns. We will get rid of all second time points, and people ending in _2. And mention to scientists"
   ]
  },
  {
   "cell_type": "code",
   "execution_count": null,
   "id": "b069338b-1d04-4c38-8ec0-1437ce9371ca",
   "metadata": {
    "tags": []
   },
   "outputs": [],
   "source": [
    "#stitched.columns"
   ]
  },
  {
   "cell_type": "code",
   "execution_count": null,
   "id": "7e13864d-1f99-4a8f-980c-b45c926a4207",
   "metadata": {
    "tags": []
   },
   "outputs": [],
   "source": [
    "stitched = stitched[1:]\n",
    "#stitched"
   ]
  },
  {
   "cell_type": "code",
   "execution_count": null,
   "id": "c07408dc-1b5c-4e6b-b725-b1720ed2101c",
   "metadata": {
    "tags": []
   },
   "outputs": [],
   "source": [
    "stitched['session'].unique()"
   ]
  },
  {
   "cell_type": "code",
   "execution_count": null,
   "id": "c3d00297-a6e3-4830-9e49-00c3c2c74464",
   "metadata": {
    "tags": []
   },
   "outputs": [],
   "source": [
    "stitched['LongitudinalTimePoint'].unique()"
   ]
  },
  {
   "cell_type": "markdown",
   "id": "85bed795-9742-4127-b6a8-82dc0298ad70",
   "metadata": {},
   "source": [
    "### so due the fact they are all on first visit, first session, we can write this into p[atient id LATER"
   ]
  },
  {
   "cell_type": "markdown",
   "id": "2d1c10e9-9a4f-4396-b8a6-400736f5f7b0",
   "metadata": {},
   "source": [
    "## So in this dataset we have one longitudinal timepoint, and one type of session. no need to filter down away from this"
   ]
  },
  {
   "cell_type": "code",
   "execution_count": null,
   "id": "cdf42a40-b5a3-4b79-9e66-3c890085e990",
   "metadata": {
    "tags": []
   },
   "outputs": [],
   "source": [
    "stitched.columns"
   ]
  },
  {
   "cell_type": "code",
   "execution_count": null,
   "id": "2266fffa-4ed0-4523-b725-121a47d94800",
   "metadata": {
    "tags": []
   },
   "outputs": [],
   "source": [
    "sexage_path = os.path.join(root_directory, 'age_data', 'Age_sex_TOP.csv')\n",
    "sexage_df = pd.read_csv(sexage_path, index_col=0)\n",
    "sexage_df['renumber'] = sexage_df.index\n",
    "sexage_df['renumber'] = sexage_df['renumber'].apply(str)\n",
    "sexage_df"
   ]
  },
  {
   "cell_type": "markdown",
   "id": "945646de-14a2-4e90-a8e0-27bf2264ac68",
   "metadata": {},
   "source": [
    "## Here we take the patient ID and align it with our other frame's index"
   ]
  },
  {
   "cell_type": "code",
   "execution_count": null,
   "id": "adb78f96-0ea5-4756-b15f-b52ea6c54b55",
   "metadata": {
    "tags": []
   },
   "outputs": [],
   "source": [
    "stitched = stitched.reset_index(drop=False)\n",
    "stitched"
   ]
  },
  {
   "cell_type": "code",
   "execution_count": null,
   "id": "07c2ae0a-b4c3-4e00-aefa-ab738853668d",
   "metadata": {
    "tags": []
   },
   "outputs": [],
   "source": [
    "len(stitched.participant_id.unique())"
   ]
  },
  {
   "cell_type": "code",
   "execution_count": null,
   "id": "9ec2dba0-c40f-4e94-8379-70eaa157a988",
   "metadata": {
    "tags": []
   },
   "outputs": [],
   "source": [
    "stitched['renumber'] = stitched['participant_id']"
   ]
  },
  {
   "cell_type": "code",
   "execution_count": null,
   "id": "d9a14a2d-f8d7-4594-ac9e-d3eaea3723eb",
   "metadata": {
    "tags": []
   },
   "outputs": [],
   "source": [
    "sexage_df = sexage_df.reset_index(drop=True)\n",
    "sexage_df"
   ]
  },
  {
   "cell_type": "code",
   "execution_count": null,
   "id": "6f53fa6b-a551-4ccb-8e30-bc7cf2a789b6",
   "metadata": {
    "tags": []
   },
   "outputs": [],
   "source": [
    "#stitched.columns"
   ]
  },
  {
   "cell_type": "code",
   "execution_count": null,
   "id": "cd32c069-f4b5-46e0-8e19-37262338cf6d",
   "metadata": {
    "tags": []
   },
   "outputs": [],
   "source": [
    "result = stitched.merge(sexage_df, on=\"renumber\")\n",
    "result"
   ]
  },
  {
   "cell_type": "code",
   "execution_count": null,
   "id": "e62a6644-9ff6-470b-b7d8-6d4faea79aa7",
   "metadata": {
    "tags": []
   },
   "outputs": [],
   "source": [
    "result"
   ]
  },
  {
   "cell_type": "code",
   "execution_count": null,
   "id": "bda98b60-c9dd-4ed4-b42d-d2eaa1e51e14",
   "metadata": {},
   "outputs": [],
   "source": [
    "# just in case there are duplicates in there\n",
    "result = result.loc[:,~result.columns.duplicated()].copy()"
   ]
  },
  {
   "cell_type": "code",
   "execution_count": null,
   "id": "6aad8915-fbac-4ee4-95b8-8ca803315485",
   "metadata": {},
   "outputs": [],
   "source": [
    "result"
   ]
  },
  {
   "cell_type": "code",
   "execution_count": null,
   "id": "2839c8ef-f5f7-44b3-9098-3fe113f70548",
   "metadata": {},
   "outputs": [],
   "source": []
  },
  {
   "cell_type": "markdown",
   "id": "b8fdd4fe-ed1b-4bc9-ba28-4af2edbfa5da",
   "metadata": {},
   "source": [
    "## Conform file to new standard"
   ]
  },
  {
   "cell_type": "markdown",
   "id": "4286584a-3dcf-4e8a-b28e-01c0f2bd01a1",
   "metadata": {},
   "source": [
    "### example of new standard (from M.D. on 23/08/2023)"
   ]
  },
  {
   "cell_type": "code",
   "execution_count": null,
   "id": "071b6f66-b134-4773-8f19-620b6e1f0ff2",
   "metadata": {
    "tags": []
   },
   "outputs": [],
   "source": [
    "standard_path = '../researcher_interface/sample_sep_values/showable_standard.csv'\n"
   ]
  },
  {
   "cell_type": "raw",
   "id": "6cd81153-1932-4d9a-8476-9d77a59d3b5b",
   "metadata": {},
   "source": []
  },
  {
   "cell_type": "code",
   "execution_count": null,
   "id": "aef8dd56-0654-4cf9-94fc-a116cda7b034",
   "metadata": {
    "tags": []
   },
   "outputs": [],
   "source": [
    "standard = pd.read_csv(standard_path)\n",
    "set_standard = set(standard.columns.to_list())"
   ]
  },
  {
   "cell_type": "code",
   "execution_count": null,
   "id": "142d32c9-921f-4c55-aa86-251f30204a36",
   "metadata": {
    "tags": []
   },
   "outputs": [],
   "source": [
    "result.columns = result.columns.str.lower()\n",
    "set_results= set(result.columns.to_list())\n",
    "\n",
    "z = set_results.intersection(set_standard) \n",
    "#z"
   ]
  },
  {
   "cell_type": "code",
   "execution_count": null,
   "id": "e0b424c9-103b-47af-9a68-dfb81d26bce2",
   "metadata": {
    "tags": []
   },
   "outputs": [],
   "source": [
    "# # show values that are not as in template, may need recoding\n",
    "# set_results - z"
   ]
  },
  {
   "cell_type": "code",
   "execution_count": null,
   "id": "3674ed7a-659e-479c-969e-c83256028d1b",
   "metadata": {
    "tags": []
   },
   "outputs": [],
   "source": [
    "#standard.columns"
   ]
  },
  {
   "cell_type": "code",
   "execution_count": null,
   "id": "0e4f3632-c2e2-46a8-8529-2b7ac2a5cda1",
   "metadata": {
    "tags": []
   },
   "outputs": [],
   "source": [
    "#result.columns"
   ]
  },
  {
   "cell_type": "code",
   "execution_count": null,
   "id": "73455ab7-c0e6-43a1-8fca-33a55a93720b",
   "metadata": {
    "tags": []
   },
   "outputs": [],
   "source": [
    "# shift column 'Name' to first position\n",
    "first_column = result.pop('participant_id')\n",
    "  \n",
    "# insert column using insert(position,column_name,\n",
    "# first_column) function\n",
    "result.insert(0, 'participant_id', first_column)\n",
    "result['participant_id'] = result['participant_id']+'_ses-1_run-1'\n",
    "#result"
   ]
  },
  {
   "cell_type": "code",
   "execution_count": null,
   "id": "f324ca34-fd76-4e83-b533-23750e4052c6",
   "metadata": {
    "tags": []
   },
   "outputs": [],
   "source": [
    "#standard.columns"
   ]
  },
  {
   "cell_type": "code",
   "execution_count": null,
   "id": "27b19e69-ffb0-4cd9-9421-94177df8f014",
   "metadata": {
    "tags": []
   },
   "outputs": [],
   "source": [
    "result['session_id'] = result['session']\n",
    "second_column = result.pop('session_id')\n",
    "result.insert(1, 'session_id', second_column)\n",
    "result['site'] = \"TOP\"\n",
    "result['run_id'] = result['longitudinaltimepoint']\n",
    "#result"
   ]
  },
  {
   "cell_type": "code",
   "execution_count": null,
   "id": "ca58114f-6394-439d-907b-876664ca9e8b",
   "metadata": {
    "tags": []
   },
   "outputs": [],
   "source": [
    "#standard.columns"
   ]
  },
  {
   "cell_type": "code",
   "execution_count": null,
   "id": "1d97fdf3-f435-4c20-afe5-1c5db2f81aaa",
   "metadata": {},
   "outputs": [],
   "source": [
    "result['gm_icv_ratio'] = result['gm_icvratio']\n",
    "result['gmwm_icv_ratio'] = result['gm_icvratio']\n",
    "result['cbf_gm_pvc0'] = result['totalgm_b'] \n",
    "result['cbf_gm_pvc2']= 'NaN'\n",
    "result['cbf_wm_pvc0']= result['deepwm_b']\n",
    "result['cbf_wm_pvc2']= 'NaN'\n",
    "result['cbf_aca_pvc0'] =  result['aca_b']\n",
    "result['cbf_mca_pvc0']  = result['mca_b']\n",
    "result['cbf_pca_pvc0'] =  result['pca_b']\n",
    "result['cbf_aca_pvc2']  = 'NaN'\n",
    "result['cbf_mca_pvc2']  = 'NaN'\n",
    "result['cbf_pca_pvc2']  = 'NaN'\n",
    "result['cov_gm_pvc0'] =  'NaN'\n",
    "result['cov_gm_pvc2']  = 'NaN'\n",
    "result['cov_wm_pvc0']  = 'NaN'\n",
    "result['cov_wm_pvc2']  = 'NaN'\n",
    "result['cov_aca_pvc0'] =  'NaN'\n",
    "result['cov_mca_pvc0']  = 'NaN'\n",
    "result['cov_pca_pvc0']  = 'NaN'\n",
    "result['cov_aca_pvc2'] = 'NaN'\n",
    "result['cov_mca_pvc2'] = 'NaN'\n",
    "result['cov_pca_pvc2'] = 'NaN'\n",
    "\n",
    "\n",
    "     "
   ]
  },
  {
   "cell_type": "code",
   "execution_count": null,
   "id": "ab79fab0-f2f7-497c-9985-6d61abf3d99a",
   "metadata": {
    "tags": []
   },
   "outputs": [],
   "source": [
    "result.columns\n"
   ]
  },
  {
   "cell_type": "code",
   "execution_count": null,
   "id": "35b6e00c-8d9f-4305-a7e1-e64312420ad5",
   "metadata": {
    "tags": []
   },
   "outputs": [],
   "source": [
    "# we added a bunch of columns \n",
    "len(result.columns)"
   ]
  },
  {
   "cell_type": "code",
   "execution_count": null,
   "id": "1c648976-0f35-423c-aee7-6570bdce4dd5",
   "metadata": {
    "tags": []
   },
   "outputs": [],
   "source": [
    "# set_results= set(result.columns.to_list())\n",
    "\n",
    "# z = set_results.intersection(set_standard) \n",
    "# new_result_columns = []\n",
    "# for listable in z:\n",
    "#     new_result_columns.append(listable)\n",
    "# new_results = result[new_result_columns]\n",
    "# new_results.columns"
   ]
  },
  {
   "cell_type": "code",
   "execution_count": null,
   "id": "9bd30669-8d86-4cac-aeb4-fdd86324841a",
   "metadata": {
    "tags": []
   },
   "outputs": [],
   "source": [
    "# standard.columns[:33]"
   ]
  },
  {
   "cell_type": "code",
   "execution_count": null,
   "id": "c2dad314-9836-4dda-8219-6d3588e3b662",
   "metadata": {
    "tags": []
   },
   "outputs": [],
   "source": [
    "# new_results = new_results[standard.columns[:33]]\n",
    "# new_results"
   ]
  },
  {
   "cell_type": "code",
   "execution_count": null,
   "id": "0e96ad70-8a4b-4391-9b7f-0166c7dd123b",
   "metadata": {},
   "outputs": [],
   "source": [
    "sex_mapping = {0:'F',1:'M',}\n",
    "results = result.assign(sex = result.sex.map(sex_mapping))\n",
    "results"
   ]
  },
  {
   "cell_type": "markdown",
   "id": "25773d3a-5653-4e7d-bd9d-9b30a84b6cb5",
   "metadata": {},
   "source": [
    "## here need to reorder the columns again"
   ]
  },
  {
   "cell_type": "code",
   "execution_count": null,
   "id": "ab83ae14-b03c-4a81-84b5-81155a3a7f3a",
   "metadata": {
    "tags": []
   },
   "outputs": [],
   "source": [
    "standard.columns"
   ]
  },
  {
   "cell_type": "code",
   "execution_count": null,
   "id": "adc524b0-6f26-42ec-9844-86cef49e0bdd",
   "metadata": {
    "tags": []
   },
   "outputs": [],
   "source": [
    "results.columns"
   ]
  },
  {
   "cell_type": "code",
   "execution_count": null,
   "id": "c398d83d-1ce9-4bdf-bf7b-7b012560b062",
   "metadata": {
    "tags": []
   },
   "outputs": [],
   "source": [
    "len(results.columns)"
   ]
  },
  {
   "cell_type": "code",
   "execution_count": null,
   "id": "094002be-e9fa-466e-ab60-6e6213ae4044",
   "metadata": {
    "tags": []
   },
   "outputs": [],
   "source": [
    "# shift columns to  position\n",
    "third_column = results.pop('run_id')\n",
    "fourth_column = results.pop('age')\n",
    "fifth_column = results.pop('sex')\n",
    "sixth_column = results.pop('site')\n",
    "seventh_column = results.pop('gm_vol')\n",
    "eight_column = results.pop('wm_vol')\n",
    "ninth_column = results.pop('csf_vol')\n",
    "tenth_column = results.pop('gm_icv_ratio')\n",
    "eleventh_column = results.pop('gmwm_icv_ratio')\n",
    "twelvth_column = results.pop('wmh_vol')\n",
    "thirteenth_column = results.pop('wmh_count')\n",
    "\n",
    "#last_column = results.pop('index')\n",
    "\n",
    "results.insert(2, 'run_id', third_column)\n",
    "results.insert(3, 'age', fourth_column)\n",
    "results.insert(4, 'sex', fifth_column)\n",
    "results.insert(5, 'site', sixth_column)\n",
    "results.insert(6, 'gm_vol', seventh_column)\n",
    "results.insert(7, 'wm_vol', eight_column)\n",
    "results.insert(8, 'csf_vol', ninth_column)\n",
    "results.insert(9, 'gm_ivc_ratio',tenth_column)\n",
    "results.insert(10, 'gmwm_ivc_ratio',eleventh_column)\n",
    "results.insert(11, 'wmh_vol',twelvth_column)\n",
    "results.insert(12, 'wmh_count',thirteenth_column)\n",
    "#results.insert(82, 'index', last_column)\n",
    "\n",
    "results"
   ]
  },
  {
   "cell_type": "code",
   "execution_count": null,
   "id": "24b9cd70-bca5-4246-9f8c-17aa988abd24",
   "metadata": {
    "tags": []
   },
   "outputs": [],
   "source": [
    "results = results.drop(['index', 'subjectnlist','session','longitudinaltimepoint', 'tp','gmwm_icvratio','gm_icvratio'], axis=1) "
   ]
  },
  {
   "cell_type": "code",
   "execution_count": null,
   "id": "5b0675d2-2263-4010-80b3-5d4a5e692bb9",
   "metadata": {
    "tags": []
   },
   "outputs": [],
   "source": [
    "for column in results.columns:\n",
    "    print(column, type(results[column][9]))"
   ]
  },
  {
   "cell_type": "markdown",
   "id": "ad6a7d84-8198-402b-ad10-6b6653e6aa15",
   "metadata": {},
   "source": [
    "## now take last 20 columns, and put them after wmh count\n",
    "not done yet"
   ]
  },
  {
   "cell_type": "code",
   "execution_count": null,
   "id": "86f9dbeb-55eb-4439-a357-98e195f59efe",
   "metadata": {
    "tags": []
   },
   "outputs": [],
   "source": [
    "for column in results.columns[6:]:\n",
    "    #print(column)\n",
    "    results[column] = pd.to_numeric(results[column], errors = 'coerce')\n"
   ]
  },
  {
   "cell_type": "code",
   "execution_count": null,
   "id": "5562a374-4145-4465-a9ba-ab4896649183",
   "metadata": {
    "tags": []
   },
   "outputs": [],
   "source": [
    "results"
   ]
  },
  {
   "cell_type": "code",
   "execution_count": null,
   "id": "f9d16312-a18b-4b69-b6cc-34a28e3bc909",
   "metadata": {
    "tags": []
   },
   "outputs": [],
   "source": [
    "\n",
    "def highlight_cols(s):\n",
    "    color = 'red'\n",
    "    return 'background-color: %s' % color\n",
    "\n",
    "\n",
    "\n",
    "\n",
    "def find_outliers_by_list(dataframe, column_list):\n",
    "    \"\"\"\n",
    "    This function finds the outliers in terms of anything outside two\n",
    "    standard deviations\n",
    "    from the mean on a list of specific specific column,\n",
    "    then returns these rows of the dataframe.\n",
    "    :param dataframe: whole dataframe on dataset\n",
    "    :type dataframe: ~pandas.DataFrame\n",
    "    :param column_list: list of relevant columns\n",
    "    :type column_list: list\n",
    "    :returns: dataframe of outliers\n",
    "    :rtype: ~pandas.DataFrame\n",
    "    \"\"\"\n",
    "    outlier_frames = []\n",
    "    for column_n in column_list:\n",
    "        mean = dataframe[column_n].mean()\n",
    "        std = dataframe[column_n].std()\n",
    "        values = dataframe[column_n].abs() - abs(mean + 2 * std)\n",
    "        outliers = dataframe[values > 0]\n",
    "        #outliers.style.applymap(highlight_cols, subset=pd.IndexSlice[:, [column_n]])\n",
    "        #outliers.style.set_properties(subset=[column_n], **{'background-color': 'green'})\n",
    "        outlier_frames.append(outliers)\n",
    "        \n",
    "    outlier_super = pd.concat(outlier_frames)\n",
    "    return outlier_super\n",
    "\n",
    "\n",
    "def check_sex_dimorph_expectations(dataframe):\n",
    "    \"\"\"\n",
    "    This function checks that men\n",
    "    as expected have larger brains than women\n",
    "    in a given dataframe.\n",
    "    \"\"\"\n",
    "    ladies = dataframe[dataframe['sex'] == 'F']\n",
    "    men = dataframe[dataframe['sex'] == 'M']\n",
    "    print('You have', len(ladies)/len(men), 'times as many ladies than men')\n",
    "    if ladies.gm_vol.mean() < men.gm_vol.mean():\n",
    "        print('As expected men have larger grey matter')\n",
    "    if ladies.wm_vol.mean() < men.wm_vol.mean():\n",
    "        print('As expected men have larger white matter')\n",
    "    if ladies.gm_vol.mean() >= men.gm_vol.mean():\n",
    "        print(\n",
    "            'Caution, average female grey matter may be \\\n",
    "                  at similar or larger size than men'\n",
    "        )\n",
    "    if ladies.wm_vol.mean() >= men.wm_vol.mean():\n",
    "        print(\n",
    "            'Caution, average female white matter may be \\\n",
    "                  at similar or larger size than men'\n",
    "        )\n",
    "    if ladies.gm_vol.mean() >= men.gm_vol.mean() \\\n",
    "            or ladies.wm_vol.mean() >= men.wm_vol.mean():\n",
    "        bad_data = dataframe\n",
    "    else:\n",
    "        bad_data = 0\n",
    "    return bad_data"
   ]
  },
  {
   "cell_type": "code",
   "execution_count": null,
   "id": "554b1354-a62d-4447-85db-901d97cac610",
   "metadata": {
    "tags": []
   },
   "outputs": [],
   "source": [
    "check_sex_dimorph_expectations(results)"
   ]
  },
  {
   "cell_type": "code",
   "execution_count": null,
   "id": "d9602a2e-3cb8-46a1-8a2a-96b7f6c3e493",
   "metadata": {
    "tags": []
   },
   "outputs": [],
   "source": [
    "len(results.columns.to_list())"
   ]
  },
  {
   "cell_type": "code",
   "execution_count": null,
   "id": "3b79850f-67f2-494f-8ee1-384d6b9d5147",
   "metadata": {
    "tags": []
   },
   "outputs": [],
   "source": [
    "# maybe examine graphs?\n",
    "sep.relate_columns_graphs(results, 'age')"
   ]
  },
  {
   "cell_type": "code",
   "execution_count": null,
   "id": "f5b30c65-6acd-4372-95bc-0f06e02c37f2",
   "metadata": {
    "tags": []
   },
   "outputs": [],
   "source": [
    "find_outliers_by_list(results, results.columns.to_list()[6:])"
   ]
  },
  {
   "cell_type": "markdown",
   "id": "ee9abd15-8aac-47f6-ac36-e608aff5c2e9",
   "metadata": {},
   "source": [
    "## Save off file"
   ]
  },
  {
   "cell_type": "code",
   "execution_count": null,
   "id": "94a6a7f1-9334-43e7-8d4f-d7eeb254042a",
   "metadata": {
    "tags": []
   },
   "outputs": [],
   "source": [
    "filepath = '../open_work/internal_results' \n",
    "filename = os.path.join(filepath,'top_stitched_conformed.csv') \n",
    "if not os.path.exists(filepath):\n",
    "    # if filder doesn't exist, create it\n",
    "    os.makedirs(filepath)\n",
    "results.to_csv(filename)  "
   ]
  },
  {
   "cell_type": "code",
   "execution_count": null,
   "id": "d72f0192-1768-41e6-bdf4-0fcc5198d234",
   "metadata": {},
   "outputs": [],
   "source": []
  }
 ],
 "metadata": {
  "kernelspec": {
   "display_name": "Python 3 (ipykernel)",
   "language": "python",
   "name": "python3"
  },
  "language_info": {
   "codemirror_mode": {
    "name": "ipython",
    "version": 3
   },
   "file_extension": ".py",
   "mimetype": "text/x-python",
   "name": "python",
   "nbconvert_exporter": "python",
   "pygments_lexer": "ipython3",
   "version": "3.9.16"
  }
 },
 "nbformat": 4,
 "nbformat_minor": 5
}
