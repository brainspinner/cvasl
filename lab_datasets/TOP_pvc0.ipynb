{
 "cells": [
  {
   "cell_type": "code",
   "execution_count": null,
   "id": "1f18b645-4e7e-4cbe-b682-ce1b12210383",
   "metadata": {},
   "outputs": [],
   "source": []
  },
  {
   "cell_type": "markdown",
   "id": "cbcaafda-6a0c-499f-9a65-703a3cb5e38a",
   "metadata": {},
   "source": [
    "# Assembling the TOP dataset: partial volume uncorrected only"
   ]
  },
  {
   "cell_type": "markdown",
   "id": "6e9246d8-a4ce-43bd-a78e-14c5d3c22cc5",
   "metadata": {},
   "source": [
    "This notebook assembles the TOP dataset, however, uses only partial volume corrected values for certain ASL values.\n",
    "This is due to the file set given where uncorrrected values were in the set."
   ]
  },
  {
   "cell_type": "markdown",
   "id": "22158e93-2c81-4dd8-978b-0fc1c6f336ae",
   "metadata": {},
   "source": [
    "### Import libraries"
   ]
  },
  {
   "cell_type": "code",
   "execution_count": null,
   "id": "5ae28a64-bfa7-4728-abd6-26859569c39f",
   "metadata": {
    "tags": []
   },
   "outputs": [],
   "source": [
    "import os       # using operating system dependent functionality (folders)\n",
    "import pandas as pd # data analysis and manipulation\n",
    "import numpy as np    # numerical computing (manipulating and performing operations on arrays of data)\n",
    "import matplotlib.pyplot as plt\n",
    "import glob\n",
    "import sys\n",
    "sys.path.insert(0, '../') # path to functions\n",
    "import cvasl.seperated as sep\n",
    "from cvasl.file_handler import Config"
   ]
  },
  {
   "cell_type": "markdown",
   "id": "050a3477-72a5-44a1-ad3e-47da16eb3ed2",
   "metadata": {},
   "source": [
    "## Read data into pandas dataframe\n",
    "\n",
    "How do we define which files should be used together?\n",
    "options:\n",
    "- all files in folder\n",
    "- based on suffix (e.g. \"n=895_06-Feb-2023_PVC0.tsv\")\n",
    "- check first columns to see whether it matches\n",
    "\n",
    "For now, we will will use the first option, approved by Mathijs on 26th June 2023"
   ]
  },
  {
   "cell_type": "code",
   "execution_count": null,
   "id": "1b600125-9f8c-4d88-b2d8-55732aebc44a",
   "metadata": {
    "tags": []
   },
   "outputs": [],
   "source": [
    "experiment_folder= 'TOP_all'"
   ]
  },
  {
   "cell_type": "markdown",
   "id": "c7854a09-a690-47d5-8d21-e01fbf6ee4a4",
   "metadata": {},
   "source": [
    "# We use a config file, you do not have to..."
   ]
  },
  {
   "cell_type": "code",
   "execution_count": null,
   "id": "31cc397a-636a-489b-9824-4d39de5a51a1",
   "metadata": {
    "tags": []
   },
   "outputs": [],
   "source": [
    "# this is the alternative block to block 3 to run if you have no config file"
   ]
  },
  {
   "cell_type": "code",
   "execution_count": null,
   "id": "f19a1957-80ac-4cfa-8964-5d39f6a68c99",
   "metadata": {
    "tags": []
   },
   "outputs": [],
   "source": [
    "# parsed_here = 'C:/your_path/not_pushed/data_anonymized/' # example of a hard-coded path you would feed\n",
    "# config = Config.no_file({ 'bids': parsed_here})\n",
    "# root_directory = config.get_directory('bids')\n",
    "# if os.path.isdir(os.path.join(root_directory, experiment_folder)):\n",
    "#     print(\"this folder exists, we will take tsv from here\")\n",
    "# else: \n",
    "#     print(\"this folder does not seem to exist, try typing again\")"
   ]
  },
  {
   "cell_type": "code",
   "execution_count": null,
   "id": "a130ccf3-668e-416c-80aa-27595e270675",
   "metadata": {
    "tags": []
   },
   "outputs": [],
   "source": [
    "\n",
    "config = Config.from_file()\n",
    "root_directory = config.get_directory('raw_data')\n",
    "if os.path.isdir(os.path.join(root_directory, experiment_folder)):\n",
    "    print(\"this folder exists, we will take tsv from here\")\n",
    "else: \n",
    "    print(\"this folder does not seem to exist, try typing again\")"
   ]
  },
  {
   "cell_type": "code",
   "execution_count": null,
   "id": "0d6b8b03-0065-4cf0-81ae-e58c3b41a6d2",
   "metadata": {
    "tags": []
   },
   "outputs": [],
   "source": [
    "print((os.path.join(root_directory, experiment_folder)))"
   ]
  },
  {
   "cell_type": "code",
   "execution_count": null,
   "id": "2e4fafac-fa52-480c-af52-b5066dff7cd9",
   "metadata": {
    "tags": []
   },
   "outputs": [],
   "source": [
    "#root_directory = config.get_directory('raw_data')\n",
    "tsv_path = os.path.join(root_directory, experiment_folder)\n",
    "\n",
    "tsv_files = [os.path.join(tsv_path, file) for file in os.listdir(tsv_path) if file.endswith('_PVC0.tsv')]\n",
    "tsv_files"
   ]
  },
  {
   "cell_type": "markdown",
   "id": "583fdf04-9c41-4b03-8c52-1b56ecbf1679",
   "metadata": {},
   "source": [
    "## we must add code here to handle PVC0 \n",
    "if and only if we later want to cover a set with uncorrected volume (PVC0) files."
   ]
  },
  {
   "cell_type": "code",
   "execution_count": null,
   "id": "804d615b-0933-4e34-bfa3-ebb7d5c219b7",
   "metadata": {
    "tags": []
   },
   "outputs": [],
   "source": [
    "# [TOP_all\\\\CoV_qCBF_StandardSpace_DeepWM_n=895_28-Jul-2023_PVC2.tsv',\n",
    "#  TOP_all\\\\CoV_qCBF_StandardSpace_Tatu_ACA_MCA_PCA_n=895_28-Jul-2023_PVC2.tsv',\n",
    "#  TOP_all\\\\CoV_qCBF_StandardSpace_TotalGM_n=895_28-Jul-2023_PVC2.tsv',\n",
    "#  TOP_all\\\\mean_qCBF_StandardSpace_DeepWM_n=895_28-Jul-2023_PVC2.tsv',\n",
    "#  TOP_all\\\\mean_qCBF_StandardSpace_Tatu_ACA_MCA_PCA_n=895_28-Jul-2023_PVC2.tsv',\n",
    "#  TOP_all\\\\mean_qCBF_StandardSpace_TotalGM_n=895_28-Jul-2023_PVC2.tsv']"
   ]
  },
  {
   "cell_type": "code",
   "execution_count": null,
   "id": "004849df-4ce4-4dd7-913d-93b9d684eef2",
   "metadata": {
    "tags": []
   },
   "outputs": [],
   "source": [
    "len(tsv_files)"
   ]
  },
  {
   "cell_type": "code",
   "execution_count": null,
   "id": "153013da-950a-49c5-9488-bfb41664bc7b",
   "metadata": {
    "tags": []
   },
   "outputs": [],
   "source": [
    "#CoV files -> COV values NOT \n",
    "tsv_files_for_cov = []\n",
    "basics = []\n",
    "for file in os.listdir(tsv_path):\n",
    "    if file.startswith('CoV') and file.endswith('.tsv'):\n",
    "        tsv_files_for_cov.append(os.path.join(tsv_path, file))\n",
    "    elif file.endswith('.tsv'):\n",
    "        basics.append(os.path.join(tsv_path, file))\n",
    "basics      "
   ]
  },
  {
   "cell_type": "code",
   "execution_count": null,
   "id": "e8466c1b-5ee3-479f-a91c-b3530b914e7e",
   "metadata": {
    "tags": []
   },
   "outputs": [],
   "source": [
    "# Read files in selected folder into dataframes\n",
    "cov_dataframes = [pd.read_csv(file, sep='\\t', header=[0]) for file in tsv_files_for_cov]\n",
    "# make a sample\n",
    "sample_cov_df = cov_dataframes[2] # example of COV file\n",
    "cols_cov = sample_cov_df.columns\n",
    "#look at sample\n",
    "sample_cov_df"
   ]
  },
  {
   "cell_type": "code",
   "execution_count": null,
   "id": "b930dfb8-9ae6-4a66-91d6-168fc64ba390",
   "metadata": {
    "tags": []
   },
   "outputs": [],
   "source": [
    "len(sample_cov_df)"
   ]
  },
  {
   "cell_type": "code",
   "execution_count": null,
   "id": "06535cd8-71bf-4da5-bff0-3f8449a9f9b7",
   "metadata": {
    "tags": []
   },
   "outputs": [],
   "source": [
    "# Read files in selected folder into dataframes\n",
    "basic_dataframes = [pd.read_csv(file, sep='\\t', header=[0]) for file in basics]\n",
    "# make a sample\n",
    "sample_basic_df = basic_dataframes[2] # example of COV file\n",
    "cols_basic = sample_basic_df.columns\n",
    "#look at sample\n",
    "sample_basic_df"
   ]
  },
  {
   "cell_type": "code",
   "execution_count": null,
   "id": "044a4e38-ff03-4e63-b748-7a2b33f9fb1a",
   "metadata": {
    "tags": []
   },
   "outputs": [],
   "source": [
    "# Read ALL files in selected folder into dataframes\n",
    "dataframes = [pd.read_csv(file, sep='\\t', header=[0]) for file in tsv_files]\n",
    "# make a sample\n",
    "sample_df = dataframes[2] # example of file\n",
    "cols = sample_df.columns\n",
    "#look at sample\n",
    "#sample_df"
   ]
  },
  {
   "cell_type": "markdown",
   "id": "4d820f7b-8cf5-4551-ab24-70d9750ef151",
   "metadata": {
    "tags": []
   },
   "source": [
    "## Below we can see some different columns should be in our final dataframe except sex and age, which we add from another frame.\n",
    "## These lists have some overlap as some values are CoV values that are in are basic values"
   ]
  },
  {
   "cell_type": "code",
   "execution_count": null,
   "id": "b9e717b5-60e7-4245-a902-e44d52d97ab6",
   "metadata": {
    "tags": []
   },
   "outputs": [],
   "source": []
  },
  {
   "cell_type": "code",
   "execution_count": null,
   "id": "87d1353f-9315-4f8d-af30-a921f7af4de8",
   "metadata": {
    "tags": []
   },
   "outputs": [],
   "source": [
    "list_all_basic_column = []\n",
    "for frame in basic_dataframes:\n",
    "    list_columns = frame.columns.to_list()\n",
    "    for x in list_columns:\n",
    "        if x not in list_all_basic_column:\n",
    "            list_all_basic_column.append(x)\n",
    "#list_all_basic_column"
   ]
  },
  {
   "cell_type": "code",
   "execution_count": null,
   "id": "b220f88e-551c-4e0b-b05f-09f84e8b6922",
   "metadata": {
    "tags": []
   },
   "outputs": [],
   "source": [
    "list_all_cov_column = []\n",
    "for frame in cov_dataframes:\n",
    "    list_columns = frame.columns.to_list()\n",
    "    for x in list_columns:\n",
    "        if x not in list_all_cov_column:\n",
    "            list_all_cov_column.append(x)\n",
    "#list_all_cov_column"
   ]
  },
  {
   "cell_type": "markdown",
   "id": "9c2cfda8-9fa2-4f85-96cf-8502311d4bf8",
   "metadata": {
    "tags": []
   },
   "source": [
    "# Below a function for COV columns to add _cov to name if units are SD/mean"
   ]
  },
  {
   "cell_type": "markdown",
   "id": "0627e959-12e6-429d-9841-4cd70ce1295f",
   "metadata": {
    "tags": []
   },
   "source": [
    "# need to get all cov_columns?"
   ]
  },
  {
   "cell_type": "code",
   "execution_count": null,
   "id": "ea23bec3-c96d-45c1-9cac-ce2632b99fc8",
   "metadata": {
    "tags": []
   },
   "outputs": [],
   "source": [
    "# we transform one of the COV, we need to transform all of them\n",
    "for frame in cov_dataframes:\n",
    "    print(frame.columns)"
   ]
  },
  {
   "cell_type": "code",
   "execution_count": null,
   "id": "885f70ce-0ee1-405b-b9a1-dba9036a2663",
   "metadata": {
    "tags": []
   },
   "outputs": [],
   "source": [
    "dict_0 = {\n",
    "    'participant_id' : 'participant_id', #\n",
    "    'session' : 'session', #,\n",
    "    'LongitudinalTimePoint' : 'LongitudinalTimePoint', #\n",
    "    'SubjectNList' : 'SubjectNList', #\n",
    "    'Site' : 'Site', #\n",
    "    'GM_vol' : 'GM_vol', #\n",
    "    'WM_vol' : 'WM_vol' ,#\n",
    "    'CSF_vol' : 'CSF_vol', #\n",
    "    'GM_ICVRatio' : 'GM_ICVRatio', #\n",
    "    'GMWM_ICVRatio' : 'GMWM_ICVRatio', #\n",
    "    'WMH_vol' : 'WMH_vol',#\n",
    "    'WMH_count' : 'WMH_count', # to here\n",
    "    'DeepWM_B' : 'DeepWM_B_cov',\n",
    "    'DeepWM_L' : 'DeepWM_L_cov',\n",
    "    'DeepWM_R' : 'DeepWM_R_cov',\n",
    "       }\n",
    "\n",
    "dict_1 = {\n",
    "    'participant_id' : 'participant_id', #\n",
    "    'session' : 'session', #,\n",
    "    'LongitudinalTimePoint' : 'LongitudinalTimePoint', #\n",
    "    'SubjectNList' : 'SubjectNList', #\n",
    "    'Site' : 'Site', #\n",
    "    'GM_vol' : 'GM_vol', #\n",
    "    'WM_vol' : 'WM_vol' ,#\n",
    "    'CSF_vol' : 'CSF_vol', #\n",
    "    'GM_ICVRatio' : 'GM_ICVRatio', #\n",
    "    'GMWM_ICVRatio' : 'GMWM_ICVRatio', #\n",
    "    'WMH_vol' : 'WMH_vol',#\n",
    "    'WMH_count' : 'WMH_count', # to here\n",
    "    'DeepWM_B' : 'DeepWM_B_cov',\n",
    "    'DeepWM_L' : 'DeepWM_L_cov',\n",
    "    'DeepWM_R' : 'DeepWM_R_cov',\n",
    "       }\n",
    "\n",
    "\n",
    "\n",
    "dict_2 = {\n",
    "    'participant_id' : 'participant_id', #\n",
    "    'session' : 'session', #,\n",
    "    'LongitudinalTimePoint' : 'LongitudinalTimePoint', #\n",
    "    'SubjectNList' : 'SubjectNList', #\n",
    "    'Site' : 'Site', #\n",
    "    'GM_vol' : 'GM_vol', #\n",
    "    'WM_vol' : 'WM_vol' ,#\n",
    "    'CSF_vol' : 'CSF_vol', #\n",
    "    'GM_ICVRatio' : 'GM_ICVRatio', #\n",
    "    'GMWM_ICVRatio' : 'GMWM_ICVRatio', #\n",
    "    'WMH_vol' : 'WMH_vol',#\n",
    "    'WMH_count' : 'WMH_count', # to here\n",
    "    'ACA_B' : 'ACA_B_cov',\n",
    "    'ACA_L' : 'ACA_L_cov',\n",
    "    'ACA_R' : 'ACA_R_cov',\n",
    "    'MCA_B' : 'MCA_B_cov',\n",
    "    'MCA_L' : 'MCA_L_cov',\n",
    "    'MCA_R' : 'MCA_R_cov',\n",
    "    'PCA_B' : 'PCA_B_cov',\n",
    "    'PCA_L' : 'PCA_L_cov',\n",
    "    'PCA_R' : 'PCA_R_cov',\n",
    "       }\n",
    "\n",
    "    \n",
    "    \n",
    "dict_3 = {\n",
    "    'participant_id' : 'participant_id', #\n",
    "    'session' : 'session', #,\n",
    "    'LongitudinalTimePoint' : 'LongitudinalTimePoint', #\n",
    "    'SubjectNList' : 'SubjectNList', #\n",
    "    'Site' : 'Site', #\n",
    "    'GM_vol' : 'GM_vol', #\n",
    "    'WM_vol' : 'WM_vol' ,#\n",
    "    'CSF_vol' : 'CSF_vol', #\n",
    "    'GM_ICVRatio' : 'GM_ICVRatio', #\n",
    "    'GMWM_ICVRatio' : 'GMWM_ICVRatio', #\n",
    "    'WMH_vol' : 'WMH_vol',#\n",
    "    'WMH_count' : 'WMH_count', # to here\n",
    "    'ACA_B' : 'ACA_B_cov',\n",
    "    'ACA_L' : 'ACA_L_cov',\n",
    "    'ACA_R' : 'ACA_R_cov',\n",
    "    'MCA_B' : 'MCA_B_cov',\n",
    "    'MCA_L' : 'MCA_L_cov',\n",
    "    'MCA_R' : 'MCA_R_cov',\n",
    "    'PCA_B' : 'PCA_B_cov',\n",
    "    'PCA_L' : 'PCA_L_cov',\n",
    "    'PCA_R' : 'PCA_R_cov',\n",
    "       }\n",
    "\n",
    "dict_4 = {\n",
    "    'participant_id' : 'participant_id', #\n",
    "    'session' : 'session', #,\n",
    "    'LongitudinalTimePoint' : 'LongitudinalTimePoint', #\n",
    "    'SubjectNList' : 'SubjectNList', #\n",
    "    'Site' : 'Site', #\n",
    "    'GM_vol' : 'GM_vol', #\n",
    "    'WM_vol' : 'WM_vol' ,#\n",
    "    'CSF_vol' : 'CSF_vol', #\n",
    "    'GM_ICVRatio' : 'GM_ICVRatio', #\n",
    "    'GMWM_ICVRatio' : 'GMWM_ICVRatio', #\n",
    "    'WMH_vol' : 'WMH_vol',#\n",
    "    'WMH_count' : 'WMH_count', # to here\n",
    "    'TotalGM_B' : 'TotalGM_B_cov',\n",
    "    'TotalGM_L' : 'TotalGM_L_cov',\n",
    "    'TotalGM_R' : 'TotalGM_R_cov',\n",
    "       }\n",
    "                \n",
    "dict_5 = {\n",
    "    'participant_id' : 'participant_id', #\n",
    "    'session' : 'session', #,\n",
    "    'LongitudinalTimePoint' : 'LongitudinalTimePoint', #\n",
    "    'SubjectNList' : 'SubjectNList', #\n",
    "    'Site' : 'Site', #\n",
    "    'GM_vol' : 'GM_vol', #\n",
    "    'WM_vol' : 'WM_vol' ,#\n",
    "    'CSF_vol' : 'CSF_vol', #\n",
    "    'GM_ICVRatio' : 'GM_ICVRatio', #\n",
    "    'GMWM_ICVRatio' : 'GMWM_ICVRatio', #\n",
    "    'WMH_vol' : 'WMH_vol',#\n",
    "    'WMH_count' : 'WMH_count', # to here\n",
    "    'TotalGM_B' : 'TotalGM_B_cov',\n",
    "    'TotalGM_L' : 'TotalGM_L_cov',\n",
    "    'TotalGM_R' : 'TotalGM_R_cov',\n",
    "       }\n",
    "cov_dataframes[0].rename(columns=dict_0,\n",
    "          inplace=True)\n",
    "cov_dataframes[1].rename(columns=dict_1,\n",
    "          inplace=True)\n",
    "cov_dataframes[2].rename(columns=dict_2,\n",
    "          inplace=True)\n",
    "cov_dataframes[3].rename(columns=dict_3,\n",
    "          inplace=True)\n",
    "cov_dataframes[4].rename(columns=dict_4,\n",
    "          inplace=True)\n",
    "cov_dataframes[5].rename(columns=dict_5,\n",
    "          inplace=True)\n",
    "cov_dataframes[0]"
   ]
  },
  {
   "cell_type": "markdown",
   "id": "d6b598c9-721c-4ef4-9a27-bf9e4ad971e4",
   "metadata": {},
   "source": [
    "### Below we take all the dataframes and put them into tsv files in a specific folder"
   ]
  },
  {
   "cell_type": "code",
   "execution_count": null,
   "id": "eb509e8c-933a-4a10-acc9-0e9c78663215",
   "metadata": {
    "tags": []
   },
   "outputs": [],
   "source": [
    "#cov_dataframes[3].columns"
   ]
  },
  {
   "cell_type": "code",
   "execution_count": null,
   "id": "a4075da9-19d0-4ca8-9df0-27f6e9e38e1b",
   "metadata": {
    "tags": []
   },
   "outputs": [],
   "source": [
    "numbr = 0\n",
    "for frame in cov_dataframes:\n",
    "    filepath = '../open_work/internal_results/stitchy/cov' \n",
    "    filename = os.path.join(filepath,str(numbr+1)) \n",
    "    if not os.path.exists(filepath):\n",
    "    # if filder doesn't exist, create it\n",
    "        os.makedirs(filepath)\n",
    "    frame.to_csv((filename +'.tsv'), sep=\"\\t\")\n",
    "    numbr +=1"
   ]
  },
  {
   "cell_type": "code",
   "execution_count": null,
   "id": "5593455a-8f66-48de-8ca7-b948b925bda0",
   "metadata": {
    "tags": []
   },
   "outputs": [],
   "source": [
    "numbr = 0\n",
    "for frame in basic_dataframes:\n",
    "    filepath = '../open_work/internal_results/stitchy/basics' \n",
    "    filename = os.path.join(filepath,str(numbr+1)) \n",
    "    if not os.path.exists(filepath):\n",
    "    # if filder doesn't exist, create it\n",
    "        os.makedirs(filepath)\n",
    "    frame.to_csv((filename +'.tsv'), sep=\"\\t\")\n",
    "    numbr +=1"
   ]
  },
  {
   "cell_type": "code",
   "execution_count": null,
   "id": "0dac237e-3fcc-4d2e-a4b3-cd23734511ad",
   "metadata": {
    "tags": []
   },
   "outputs": [],
   "source": [
    "cov_tsv_folder_made = '../open_work/internal_results/stitchy/cov'\n",
    "cov_identical_columns = sep.check_identical_columns(cov_tsv_folder_made)\n",
    "cov_identical_columns"
   ]
  },
  {
   "cell_type": "code",
   "execution_count": null,
   "id": "c50688ad-7f35-4fba-ba9c-b203c1adc11e",
   "metadata": {
    "tags": []
   },
   "outputs": [],
   "source": [
    "basics_tsv_folder_made = '../open_work/internal_results/stitchy/basics'\n",
    "basics_identical_columns = sep.check_identical_columns(basics_tsv_folder_made)\n",
    "basics_identical_columns"
   ]
  },
  {
   "cell_type": "code",
   "execution_count": null,
   "id": "272b699b-d0c1-4fb2-a040-853d238135a2",
   "metadata": {
    "tags": []
   },
   "outputs": [],
   "source": [
    "# now we need to make a super dataframes list\n",
    "super_dataframes = basic_dataframes +cov_dataframes\n",
    "len(super_dataframes)"
   ]
  },
  {
   "cell_type": "markdown",
   "id": "2c0a2e79-ab60-412b-94ae-f699dea6fbc2",
   "metadata": {
    "tags": []
   },
   "source": [
    "## Copy identical columns from any file\n",
    "\n",
    "we could also read it from the data, but if it's always the same, we can just define it here"
   ]
  },
  {
   "cell_type": "code",
   "execution_count": null,
   "id": "7e724589-6c3c-48f0-827d-41f1d778e811",
   "metadata": {
    "tags": []
   },
   "outputs": [],
   "source": [
    "# tsv_folder_made = '../open_work/internal_results/stitchy'\n",
    "identical_columns = sep.check_identical_columns(basics_tsv_folder_made)"
   ]
  },
  {
   "cell_type": "code",
   "execution_count": null,
   "id": "67b1a7cd-9fc6-426f-ac42-386d8bbf336d",
   "metadata": {
    "tags": []
   },
   "outputs": [],
   "source": [
    "#identical_columns"
   ]
  },
  {
   "cell_type": "code",
   "execution_count": null,
   "id": "ca31116f-c2fb-42b8-93b4-6a1f3299c95d",
   "metadata": {
    "tags": []
   },
   "outputs": [],
   "source": [
    "#sample_df.columns"
   ]
  },
  {
   "cell_type": "code",
   "execution_count": null,
   "id": "34cb4966-d878-4eef-9c48-b135b328496d",
   "metadata": {
    "tags": []
   },
   "outputs": [],
   "source": [
    "stitched = sample_basic_df[identical_columns].copy()"
   ]
  },
  {
   "cell_type": "code",
   "execution_count": null,
   "id": "c7435ca0-3c74-41cd-a7ce-f2516e7847a4",
   "metadata": {
    "tags": []
   },
   "outputs": [],
   "source": [
    "len(stitched)"
   ]
  },
  {
   "cell_type": "code",
   "execution_count": null,
   "id": "07aac162-0151-4264-b87a-2cabb805b649",
   "metadata": {
    "tags": []
   },
   "outputs": [],
   "source": [
    "n_identical = stitched.shape[1]"
   ]
  },
  {
   "cell_type": "code",
   "execution_count": null,
   "id": "10f88b8b-888e-47b2-a6b3-44a40617db8b",
   "metadata": {
    "tags": []
   },
   "outputs": [],
   "source": [
    "stitched"
   ]
  },
  {
   "cell_type": "markdown",
   "id": "fabea490-9a86-4627-8340-b634d3db5389",
   "metadata": {},
   "source": [
    "### Here is where we add the different parts to stitched"
   ]
  },
  {
   "cell_type": "code",
   "execution_count": null,
   "id": "1979a43d-5ed7-4330-a0c8-26326f7e58f3",
   "metadata": {
    "tags": []
   },
   "outputs": [],
   "source": [
    "for df in super_dataframes:\n",
    "    for col in df.columns[n_identical:]:\n",
    "        stitched[col] = df[col]\n",
    "\n",
    "stitched.columns"
   ]
  },
  {
   "cell_type": "code",
   "execution_count": null,
   "id": "4b532384-ada3-45d0-b1e8-bda25025eb7e",
   "metadata": {
    "tags": []
   },
   "outputs": [],
   "source": [
    "len(stitched.columns)"
   ]
  },
  {
   "cell_type": "markdown",
   "id": "dd1a5eb3-5541-4a34-be11-34a9885babbd",
   "metadata": {},
   "source": [
    "## Here we can should get rid of second visits, but what we see is that session was not in the common columns. We will NOT get rid of all second time points, and people ending in _2. And mention to scientists..turns out to be a mute point"
   ]
  },
  {
   "cell_type": "code",
   "execution_count": null,
   "id": "7a761bd5-bedf-4f31-8a9e-cc3ee0e68cb7",
   "metadata": {
    "tags": []
   },
   "outputs": [],
   "source": [
    "#stitched.columns"
   ]
  },
  {
   "cell_type": "code",
   "execution_count": null,
   "id": "69a93383-9560-4163-b981-4a20242ee829",
   "metadata": {
    "tags": []
   },
   "outputs": [],
   "source": [
    "# now we can get rid of double header\n",
    "stitched = stitched[1:]\n",
    "#stitched"
   ]
  },
  {
   "cell_type": "code",
   "execution_count": null,
   "id": "da78d200-03a8-4cc4-9d17-8a9a7a55a01c",
   "metadata": {
    "tags": []
   },
   "outputs": [],
   "source": [
    "stitched['session'].unique()"
   ]
  },
  {
   "cell_type": "code",
   "execution_count": null,
   "id": "b48f18e7-d42f-4cc3-aa04-f99ca369d3e3",
   "metadata": {
    "tags": []
   },
   "outputs": [],
   "source": [
    "stitched['LongitudinalTimePoint'].unique()"
   ]
  },
  {
   "cell_type": "markdown",
   "id": "79abec45-faa0-4b62-9b0a-9691bef8adc2",
   "metadata": {},
   "source": [
    "### so due the fact they are all on first visit, first session, we can write this into p[atient id LATER"
   ]
  },
  {
   "cell_type": "markdown",
   "id": "f1b73312-eccc-4143-9a81-9139efd1be8b",
   "metadata": {},
   "source": [
    "## So in this dataset we have one longitudinal timepoint, and one type of session. no need to filter down away from this"
   ]
  },
  {
   "cell_type": "code",
   "execution_count": null,
   "id": "4fe49315-8ff1-4c18-b902-c5eca968ab47",
   "metadata": {
    "tags": []
   },
   "outputs": [],
   "source": [
    "stitched.columns"
   ]
  },
  {
   "cell_type": "code",
   "execution_count": null,
   "id": "9a4a18b8-046f-4010-9611-a58148acde87",
   "metadata": {
    "tags": []
   },
   "outputs": [],
   "source": [
    "sexage_path = os.path.join(root_directory, 'age_data', 'Age_sex_TOP.csv')\n",
    "sexage_df = pd.read_csv(sexage_path, index_col=0)\n",
    "print(len(sexage_df))\n",
    "sexage_df['renumber'] = sexage_df.index\n",
    "sexage_df['renumber'] = sexage_df['renumber'].apply(str)\n",
    "sexage_df"
   ]
  },
  {
   "cell_type": "markdown",
   "id": "57f39c74-fe00-48a7-9213-f0702dee93bb",
   "metadata": {},
   "source": [
    "## Here we take the patient ID and align it with our other frame's index"
   ]
  },
  {
   "cell_type": "code",
   "execution_count": null,
   "id": "6d6c12d9-4d0b-4b3d-9621-02b7e833f4f0",
   "metadata": {
    "tags": []
   },
   "outputs": [],
   "source": [
    "stitched = stitched.reset_index(drop=False)\n",
    "stitched"
   ]
  },
  {
   "cell_type": "code",
   "execution_count": null,
   "id": "d432313b-e10f-4217-bbd4-53cd9cc30005",
   "metadata": {
    "tags": []
   },
   "outputs": [],
   "source": [
    "len(stitched.participant_id.unique())"
   ]
  },
  {
   "cell_type": "code",
   "execution_count": null,
   "id": "f4cbf310-4d59-439f-9e98-24c1ed23e538",
   "metadata": {
    "tags": []
   },
   "outputs": [],
   "source": [
    "stitched['renumber'] = stitched['participant_id']"
   ]
  },
  {
   "cell_type": "code",
   "execution_count": null,
   "id": "d946035f-89f0-4c6b-941d-fe05b07351c3",
   "metadata": {
    "tags": []
   },
   "outputs": [],
   "source": [
    "sexage_df = sexage_df.reset_index(drop=True)\n",
    "sexage_df"
   ]
  },
  {
   "cell_type": "code",
   "execution_count": null,
   "id": "e8664f96-7df6-40a9-9923-adad15ecf8cb",
   "metadata": {
    "tags": []
   },
   "outputs": [],
   "source": [
    "#stitched.columns"
   ]
  },
  {
   "cell_type": "code",
   "execution_count": null,
   "id": "5e12a9ca-ee73-4244-a95e-43b112b447a7",
   "metadata": {
    "tags": []
   },
   "outputs": [],
   "source": [
    "result = stitched.merge(sexage_df, on=\"renumber\")\n",
    "result"
   ]
  },
  {
   "cell_type": "code",
   "execution_count": null,
   "id": "4d8cb5e0-b52a-4854-9b79-f902dbdc5bf9",
   "metadata": {
    "tags": []
   },
   "outputs": [],
   "source": [
    "result"
   ]
  },
  {
   "cell_type": "code",
   "execution_count": null,
   "id": "807d1753-3dff-4a99-a5eb-4a1d92c0f38e",
   "metadata": {},
   "outputs": [],
   "source": [
    "# just in case there are duplicates in there\n",
    "result = result.loc[:,~result.columns.duplicated()].copy()"
   ]
  },
  {
   "cell_type": "code",
   "execution_count": null,
   "id": "ed37534d-10a8-4ad5-b47a-fc936df3dfdc",
   "metadata": {},
   "outputs": [],
   "source": [
    "result"
   ]
  },
  {
   "cell_type": "markdown",
   "id": "c40e915d-491b-4d4e-8a60-c63ba967988a",
   "metadata": {},
   "source": [
    "## Conform file to new standard"
   ]
  },
  {
   "cell_type": "markdown",
   "id": "8cf244c0-fa89-44a8-9625-ac7c18be4fb3",
   "metadata": {},
   "source": [
    "### example of new standard (from M.D. on 23/08/2023)"
   ]
  },
  {
   "cell_type": "code",
   "execution_count": null,
   "id": "00b093b6-bdf9-4903-b3fa-0f7626a75844",
   "metadata": {
    "tags": []
   },
   "outputs": [],
   "source": [
    "standard_path = '../researcher_interface/sample_sep_values/showable_standard.csv'\n"
   ]
  },
  {
   "cell_type": "code",
   "execution_count": null,
   "id": "543444e5-2c77-4f5b-91a0-ff6f07c3afe3",
   "metadata": {
    "tags": []
   },
   "outputs": [],
   "source": [
    "standard = pd.read_csv(standard_path)\n",
    "set_standard = set(standard.columns.to_list())"
   ]
  },
  {
   "cell_type": "code",
   "execution_count": null,
   "id": "c56e8b4b-9871-4003-a8cc-7503f96db5ea",
   "metadata": {
    "tags": []
   },
   "outputs": [],
   "source": [
    "result.columns = result.columns.str.lower()\n",
    "set_results= set(result.columns.to_list())\n",
    "\n",
    "z = set_results.intersection(set_standard) \n",
    "#z"
   ]
  },
  {
   "cell_type": "code",
   "execution_count": null,
   "id": "ffdd6c93-e641-4785-9d8c-6bee98d5b2b9",
   "metadata": {
    "tags": []
   },
   "outputs": [],
   "source": [
    "for f in result.columns:\n",
    "    print(f)"
   ]
  },
  {
   "cell_type": "code",
   "execution_count": null,
   "id": "fc71367d-e501-440f-ae47-c416da6bc00c",
   "metadata": {
    "tags": []
   },
   "outputs": [],
   "source": [
    "# shift column 'Name' to first position\n",
    "first_column = result.pop('participant_id')\n",
    "  \n",
    "# insert column using insert(position,column_name,\n",
    "# first_column) function\n",
    "result.insert(0, 'participant_id', first_column)\n",
    "result['participant_id'] = result['participant_id']+'_ses-1_run-1'\n",
    "#result"
   ]
  },
  {
   "cell_type": "code",
   "execution_count": null,
   "id": "8a71d0f6-ab6e-44e2-bf44-7dfa46026678",
   "metadata": {
    "tags": []
   },
   "outputs": [],
   "source": [
    "#standard.columns"
   ]
  },
  {
   "cell_type": "code",
   "execution_count": null,
   "id": "35a4cceb-ccc0-46e6-bceb-40209bec2aad",
   "metadata": {
    "tags": []
   },
   "outputs": [],
   "source": [
    "result['session_id'] = result['session']\n",
    "second_column = result.pop('session_id')\n",
    "result.insert(1, 'session_id', second_column)\n",
    "result['site'] = \"TOP\"\n",
    "result['run_id'] = result['longitudinaltimepoint']\n",
    "#result"
   ]
  },
  {
   "cell_type": "code",
   "execution_count": null,
   "id": "033d9083-8fc3-4200-b8c2-c11b700c88ad",
   "metadata": {
    "tags": []
   },
   "outputs": [],
   "source": [
    "#standard.columns"
   ]
  },
  {
   "cell_type": "code",
   "execution_count": null,
   "id": "a5adddf0-086a-45cb-995b-925fdea1c86e",
   "metadata": {},
   "outputs": [],
   "source": [
    "result['gm_icv_ratio'] = result['gm_icvratio']\n",
    "result['gmwm_icv_ratio'] = result['gmwm_icvratio']\n",
    "result['cbf_gm_pvc0'] = 'NaN' \n",
    "result['cbf_gm_pvc2']=  result['totalgm_b'] \n",
    "result['cbf_wm_pvc0']= 'NaN'\n",
    "result['cbf_wm_pvc2']= result['deepwm_b']\n",
    "result['cbf_aca_pvc0'] =  'NaN'\n",
    "result['cbf_mca_pvc0']  = 'NaN'\n",
    "result['cbf_pca_pvc0'] =  'NaN'\n",
    "result['cbf_aca_pvc2']  = result['aca_b']\n",
    "result['cbf_mca_pvc2']  = result['mca_b']\n",
    "result['cbf_pca_pvc2']  = result['pca_b']"
   ]
  },
  {
   "cell_type": "code",
   "execution_count": null,
   "id": "a29f9727-c1a8-4405-93c5-48f005dfc5af",
   "metadata": {},
   "outputs": [],
   "source": [
    "# for - need to check with student and scientists!\n",
    "result['cov_gm_pvc0'] =  'NaN' # correct does not exist\n",
    "# result['cov_gm_pvc2']  = result[]\n",
    "result['cov_wm_pvc0']  = 'NaN' # does not exist\n",
    "# result['cov_wm_pvc2']  = result[]\n",
    "result['cov_aca_pvc0'] =  'NaN'# does not exist\n",
    "result['cov_mca_pvc0']  = 'NaN'# does not exist\n",
    "result['cov_pca_pvc0']  = 'NaN'# does not exist\n",
    "result['cov_aca_pvc2'] = result['aca_b_cov']\n",
    "result['cov_mca_pvc2'] = result['mca_b_cov']\n",
    "result['cov_pca_pvc2'] = result['pca_b_cov']\n",
    "\n",
    "\n",
    "     # 'ACA_proximal_B_cov',\n",
    "     #   'ACA_proximal_L_cov', 'ACA_proximal_R_cov', 'ACA_intermediate_B_cov',\n",
    "     #   'ACA_intermediate_L_cov', 'ACA_intermediate_R_cov', 'ACA_distal_B_cov',\n",
    "     #   'ACA_distal_R_cov', 'MCA_proximal_B_cov', 'MCA_proximal_L_cov',\n",
    "     #   'MCA_proximal_R_cov', 'MCA_intermediate_B_cov',\n",
    "     #   'MCA_intermediate_L_cov', 'MCA_intermediate_R_cov', 'MCA_distal_B_cov',\n",
    "     #   'MCA_distal_L_cov', 'MCA_distal_R_cov', 'PCA_proximal_B_cov',\n",
    "     #   'PCA_proximal_L_cov', 'PCA_proximal_R_cov', 'PCA_intermediate_B_cov',\n",
    "     #   'PCA_intermediate_L_cov', 'PCA_intermediate_R_cov', 'PCA_distal_B_cov',\n",
    "     #   'PCA_distal_L_cov', 'PCA_distal_R_cov'"
   ]
  },
  {
   "cell_type": "code",
   "execution_count": null,
   "id": "ec74f005-1ca9-4b64-9794-60dce4e41b9b",
   "metadata": {
    "tags": []
   },
   "outputs": [],
   "source": [
    "for f in result.columns:\n",
    "    print(f)\n"
   ]
  },
  {
   "cell_type": "code",
   "execution_count": null,
   "id": "91023771-acfe-4a7e-b90c-d8f8263ace7e",
   "metadata": {
    "tags": []
   },
   "outputs": [],
   "source": [
    "# we added a bunch of columns \n",
    "len(result.columns)"
   ]
  },
  {
   "cell_type": "code",
   "execution_count": null,
   "id": "90f0353a-dde8-4712-8d7f-157b61196b3b",
   "metadata": {
    "tags": []
   },
   "outputs": [],
   "source": [
    "# set_results= set(result.columns.to_list())\n",
    "\n",
    "# z = set_results.intersection(set_standard) \n",
    "# new_result_columns = []\n",
    "# for listable in z:\n",
    "#     new_result_columns.append(listable)\n",
    "# new_results = result[new_result_columns]\n",
    "# new_results.columns"
   ]
  },
  {
   "cell_type": "code",
   "execution_count": null,
   "id": "0b0fe3d0-779b-4333-b8e1-1758c48872a1",
   "metadata": {
    "tags": []
   },
   "outputs": [],
   "source": [
    "# standard.columns[:33]"
   ]
  },
  {
   "cell_type": "code",
   "execution_count": null,
   "id": "809c16a6-a19f-4df8-bbe4-5414c254e3d3",
   "metadata": {
    "tags": []
   },
   "outputs": [],
   "source": [
    "# new_results = new_results[standard.columns[:33]]\n",
    "# new_results"
   ]
  },
  {
   "cell_type": "code",
   "execution_count": null,
   "id": "131bfbc2-797d-405f-bdcc-fd0c3b74d7cb",
   "metadata": {},
   "outputs": [],
   "source": [
    "sex_mapping = {0:'F',1:'M',}\n",
    "results = result.assign(sex = result.sex.map(sex_mapping))\n",
    "results"
   ]
  },
  {
   "cell_type": "markdown",
   "id": "e88b0de7-d12e-413d-8246-66ba7f300ac6",
   "metadata": {},
   "source": [
    "## here need to reorder the columns again"
   ]
  },
  {
   "cell_type": "code",
   "execution_count": null,
   "id": "382e4de2-c95e-42eb-9517-75f4919b7ce2",
   "metadata": {
    "tags": []
   },
   "outputs": [],
   "source": [
    "standard.columns"
   ]
  },
  {
   "cell_type": "code",
   "execution_count": null,
   "id": "c5b59cbf-52db-4234-a0ad-76d11fa7088f",
   "metadata": {
    "tags": []
   },
   "outputs": [],
   "source": [
    "#results.columns"
   ]
  },
  {
   "cell_type": "code",
   "execution_count": null,
   "id": "4414ad22-e9e6-4e5d-b23c-b245e9ad1b0c",
   "metadata": {
    "tags": []
   },
   "outputs": [],
   "source": [
    "len(results.columns)"
   ]
  },
  {
   "cell_type": "code",
   "execution_count": null,
   "id": "818fdb7e-5cda-4abc-a3b2-3f30843e4da0",
   "metadata": {
    "tags": []
   },
   "outputs": [],
   "source": [
    "# shift columns to  position\n",
    "third_column = results.pop('run_id')\n",
    "fourth_column = results.pop('age')\n",
    "fifth_column = results.pop('sex')\n",
    "sixth_column = results.pop('site')\n",
    "seventh_column = results.pop('gm_vol')\n",
    "eight_column = results.pop('wm_vol')\n",
    "ninth_column = results.pop('csf_vol')\n",
    "tenth_column = results.pop('gm_icv_ratio')\n",
    "eleventh_column = results.pop('gmwm_icv_ratio')\n",
    "twelvth_column = results.pop('wmh_vol')\n",
    "thirteenth_column = results.pop('wmh_count')\n",
    "\n",
    "#last_column = results.pop('index')\n",
    "\n",
    "results.insert(2, 'run_id', third_column)\n",
    "results.insert(3, 'age', fourth_column)\n",
    "results.insert(4, 'sex', fifth_column)\n",
    "results.insert(5, 'site', sixth_column)\n",
    "results.insert(6, 'gm_vol', seventh_column)\n",
    "results.insert(7, 'wm_vol', eight_column)\n",
    "results.insert(8, 'csf_vol', ninth_column)\n",
    "results.insert(9, 'gm_ivc_ratio',tenth_column)\n",
    "results.insert(10, 'gmwm_ivc_ratio',eleventh_column)\n",
    "results.insert(11, 'wmh_vol',twelvth_column)\n",
    "results.insert(12, 'wmh_count',thirteenth_column)\n",
    "#results.insert(82, 'index', last_column)\n",
    "\n",
    "results"
   ]
  },
  {
   "cell_type": "code",
   "execution_count": null,
   "id": "1cf7b191-5a47-4a0f-8271-75e2942a963b",
   "metadata": {
    "tags": []
   },
   "outputs": [],
   "source": [
    "results = results.drop(['index', 'subjectnlist','session','longitudinaltimepoint', 'tp','gmwm_icvratio','gm_icvratio'], axis=1) "
   ]
  },
  {
   "cell_type": "code",
   "execution_count": null,
   "id": "7e4790ef-ef6f-4668-8f71-121962518981",
   "metadata": {
    "tags": []
   },
   "outputs": [],
   "source": [
    "results"
   ]
  },
  {
   "cell_type": "code",
   "execution_count": null,
   "id": "334a0dd8-2a0e-4725-8e27-3fc812f7c46e",
   "metadata": {
    "tags": []
   },
   "outputs": [],
   "source": [
    "# for column in results.columns:\n",
    "#     print(column, type(results[column][9]))\n",
    "standard.columns"
   ]
  },
  {
   "cell_type": "code",
   "execution_count": null,
   "id": "8bae27bf-9b2e-492b-bf73-76d0bb601e12",
   "metadata": {
    "tags": []
   },
   "outputs": [],
   "source": [
    "for f in results.columns:\n",
    "    print(f)"
   ]
  },
  {
   "cell_type": "code",
   "execution_count": null,
   "id": "362f7a6b-9c26-453d-8382-50fdd2bc5254",
   "metadata": {
    "tags": []
   },
   "outputs": [],
   "source": [
    "len(results.columns)"
   ]
  },
  {
   "cell_type": "markdown",
   "id": "ccf4231b-0150-4bcf-9ac5-23b57ea6aae1",
   "metadata": {},
   "source": [
    "## now take last 20 columns, and put them after wmh count\n",
    "## generally reorder columns!\n",
    "not done yet"
   ]
  },
  {
   "cell_type": "code",
   "execution_count": null,
   "id": "e201f46d-b92b-4b92-8d79-7672895539a0",
   "metadata": {
    "tags": []
   },
   "outputs": [],
   "source": []
  },
  {
   "cell_type": "code",
   "execution_count": null,
   "id": "a5ea5d58-b3b5-418d-9c5c-56c47cb3e528",
   "metadata": {
    "tags": []
   },
   "outputs": [],
   "source": [
    "head_columns = results.columns[:13]\n",
    "middle_columns = results.columns[13:97]\n",
    "tail_columns = results.columns[97:]"
   ]
  },
  {
   "cell_type": "code",
   "execution_count": null,
   "id": "75c71269-86b1-4c49-b95b-e72f20072067",
   "metadata": {
    "tags": []
   },
   "outputs": [],
   "source": [
    "f_results = pd.concat([results[head_columns],results[tail_columns],results[middle_columns]], axis=1)\n",
    "f_results.columns"
   ]
  },
  {
   "cell_type": "code",
   "execution_count": null,
   "id": "ee5a28ca-2b10-4ee9-9d50-0ee22eb97c81",
   "metadata": {
    "tags": []
   },
   "outputs": [],
   "source": [
    "for column in f_results.columns:\n",
    "    print(column)"
   ]
  },
  {
   "cell_type": "code",
   "execution_count": null,
   "id": "b1599036-7ec4-4844-b994-78a53d8b086c",
   "metadata": {
    "tags": []
   },
   "outputs": [],
   "source": [
    "for column in f_results.columns[6:]:\n",
    "    #print(column)\n",
    "    f_results[column] = pd.to_numeric(f_results[column], errors = 'coerce')\n"
   ]
  },
  {
   "cell_type": "code",
   "execution_count": null,
   "id": "40df6717-5122-4253-a619-3cbb2bac1b73",
   "metadata": {
    "tags": []
   },
   "outputs": [],
   "source": [
    "f_results"
   ]
  },
  {
   "cell_type": "code",
   "execution_count": null,
   "id": "f8994354-2cf0-4e03-aacc-818ebceadd90",
   "metadata": {
    "tags": []
   },
   "outputs": [],
   "source": [
    "sep.check_sex_dimorph_expectations(f_results)"
   ]
  },
  {
   "cell_type": "code",
   "execution_count": null,
   "id": "c9ce31b4-103b-4cdd-9afc-9288449ba96e",
   "metadata": {
    "tags": []
   },
   "outputs": [],
   "source": [
    "len(f_results.columns.to_list())"
   ]
  },
  {
   "cell_type": "code",
   "execution_count": null,
   "id": "10c78f71-602b-4975-9e8a-ec7925fd03a6",
   "metadata": {
    "tags": []
   },
   "outputs": [],
   "source": [
    "# # maybe examine bigger graphs?\n",
    "# numeric_results = results.iloc[:, 2:55]\n",
    "# numeric_results = numeric_results.drop('sex', axis= 1) \n",
    "# numeric_results = numeric_results.drop('site', axis= 1) \n",
    "# #numeric_results = numeric_results.drop('renumber', axis= 1) \n",
    "# #numeric_results = numeric_results.dropna(axis=0) \n",
    "# sep.relate_columns_graphs(numeric_results, 'age')"
   ]
  },
  {
   "cell_type": "code",
   "execution_count": null,
   "id": "b47b0bc3-80eb-427a-b465-6740b2fa61ac",
   "metadata": {
    "tags": []
   },
   "outputs": [],
   "source": [
    "sep.relate_columns_graphs_numeric(f_results, 'age')"
   ]
  },
  {
   "cell_type": "code",
   "execution_count": null,
   "id": "e6117c2c-5b2a-4ef9-b09d-7741c58edc80",
   "metadata": {
    "tags": []
   },
   "outputs": [],
   "source": [
    "doubled_outliers =sep.find_outliers_by_list(f_results, f_results.columns.to_list()[6:], 2)"
   ]
  },
  {
   "cell_type": "code",
   "execution_count": null,
   "id": "425b29b1-81a6-4063-a45d-3c330e407048",
   "metadata": {
    "tags": []
   },
   "outputs": [],
   "source": [
    "doubled_outliers"
   ]
  },
  {
   "cell_type": "markdown",
   "id": "b5961346-853d-4a9b-b587-8a5923f3899f",
   "metadata": {},
   "source": [
    "## Save outlier for M."
   ]
  },
  {
   "cell_type": "code",
   "execution_count": null,
   "id": "d30ef42e-bd45-44ce-9844-3cc1179764b2",
   "metadata": {
    "tags": []
   },
   "outputs": [],
   "source": [
    "filepath = '../open_work/internal_results' \n",
    "filename = os.path.join(filepath,'more_possible_outliers.csv') \n",
    "if not os.path.exists(filepath):\n",
    "    # if filder doesn't exist, create it\n",
    "    os.makedirs(filepath)\n",
    "doubled_outliers.to_csv(filename)  "
   ]
  },
  {
   "cell_type": "markdown",
   "id": "45b49f1c-d798-441d-b74c-d1d60828d49b",
   "metadata": {},
   "source": [
    "## Save off file of data"
   ]
  },
  {
   "cell_type": "code",
   "execution_count": null,
   "id": "a72555cd-4f2a-43b4-bf91-014669e1bf60",
   "metadata": {
    "tags": []
   },
   "outputs": [],
   "source": [
    "filepath = '../open_work/internal_results' \n",
    "filename = os.path.join(filepath,'top_stitched_conformed.csv') \n",
    "if not os.path.exists(filepath):\n",
    "    # if filder doesn't exist, create it\n",
    "    os.makedirs(filepath)\n",
    "f_results.to_csv(filename)  "
   ]
  },
  {
   "cell_type": "code",
   "execution_count": null,
   "id": "c8867c25-7fd9-4a74-b41f-678da558fd3a",
   "metadata": {
    "tags": []
   },
   "outputs": [],
   "source": [
    "# for f in f_results.columns: \n",
    "#     print(f)"
   ]
  },
  {
   "cell_type": "code",
   "execution_count": null,
   "id": "9edaa340-dc34-4243-b3a6-e2edd414bf0f",
   "metadata": {},
   "outputs": [],
   "source": [
    "# f_results[['gm_ivc_ratio','gmwm_ivc_ratio']]"
   ]
  },
  {
   "cell_type": "code",
   "execution_count": null,
   "id": "9cb2dbf8-9e88-4f92-9dba-b1c0f1280ee9",
   "metadata": {},
   "outputs": [],
   "source": []
  }
 ],
 "metadata": {
  "kernelspec": {
   "display_name": "Python 3 (ipykernel)",
   "language": "python",
   "name": "python3"
  },
  "language_info": {
   "codemirror_mode": {
    "name": "ipython",
    "version": 3
   },
   "file_extension": ".py",
   "mimetype": "text/x-python",
   "name": "python",
   "nbconvert_exporter": "python",
   "pygments_lexer": "ipython3",
   "version": "3.9.18"
  }
 },
 "nbformat": 4,
 "nbformat_minor": 5
}
