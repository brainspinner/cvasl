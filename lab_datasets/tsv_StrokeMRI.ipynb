{
 "cells": [
  {
   "cell_type": "markdown",
   "id": "2405823f-49e8-4f3e-b46b-47f40c08e2ef",
   "metadata": {},
   "source": [
    "# Assembling the StrokeMRI dataset"
   ]
  },
  {
   "cell_type": "markdown",
   "id": "e2d87276-e396-4df9-ad80-2d96c3fdb18b",
   "metadata": {},
   "source": [
    "### Import libraries"
   ]
  },
  {
   "cell_type": "code",
   "execution_count": null,
   "id": "90d0e40d-2937-4a83-8abd-c16d774a2e96",
   "metadata": {
    "tags": []
   },
   "outputs": [],
   "source": [
    "import os       # using operating system dependent functionality (folders)\n",
    "import pandas as pd # data analysis and manipulation\n",
    "import numpy as np    # numerical computing (manipulating and performing operations on arrays of data)\n",
    "import matplotlib.pyplot as plt\n",
    "import glob\n",
    "import sys\n",
    "sys.path.insert(0, '../') # path to functions\n",
    "import cvasl.seperated as sep\n",
    "from cvasl.file_handler import Config\n"
   ]
  },
  {
   "cell_type": "markdown",
   "id": "ee83d5a3-eea4-4d72-867a-e940032617b5",
   "metadata": {},
   "source": [
    "## Read data into pandas dataframe\n",
    "\n",
    "How do we define which files should be used together?\n",
    "options:\n",
    "- all files in folder\n",
    "- based on suffix (e.g. \"n=895_06-Feb-2023_PVC2.tsv\")\n",
    "- check first columns to see whether it matches\n",
    "\n",
    "For now, we will will use the first option, approved by Mathijs on 26th June 2023"
   ]
  },
  {
   "cell_type": "code",
   "execution_count": null,
   "id": "1df22b95-3e45-41fd-a99e-b64f33600216",
   "metadata": {},
   "outputs": [],
   "source": [
    "experiment_folder= 'StrokeMRI'"
   ]
  },
  {
   "cell_type": "code",
   "execution_count": null,
   "id": "0a181feb-607e-42c6-bcbf-8cf1370c75e0",
   "metadata": {
    "tags": []
   },
   "outputs": [],
   "source": [
    "## TTo be recompleted after vacation"
   ]
  }
 ],
 "metadata": {
  "kernelspec": {
   "display_name": "Python 3 (ipykernel)",
   "language": "python",
   "name": "python3"
  },
  "language_info": {
   "codemirror_mode": {
    "name": "ipython",
    "version": 3
   },
   "file_extension": ".py",
   "mimetype": "text/x-python",
   "name": "python",
   "nbconvert_exporter": "python",
   "pygments_lexer": "ipython3",
   "version": "3.9.16"
  }
 },
 "nbformat": 4,
 "nbformat_minor": 5
}
