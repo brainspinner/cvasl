{
 "cells": [
  {
   "cell_type": "code",
   "execution_count": null,
   "id": "3ece9b40-716b-49cf-9107-83bc6f0a92af",
   "metadata": {},
   "outputs": [],
   "source": [
    "needs to rewrite to split cbf and cov before splitting pvc0 and pvc2"
   ]
  },
  {
   "cell_type": "markdown",
   "id": "3b6402b3-a41a-4e48-9dc4-17221b3bb5cc",
   "metadata": {},
   "source": [
    "# Sabre PVC_0 and PVC_2 data set conglomeration and sewing"
   ]
  },
  {
   "cell_type": "markdown",
   "id": "8ec4e5b7-3aa2-4368-ad3d-7d4f0867852e",
   "metadata": {},
   "source": [
    "Import neccesary libraries"
   ]
  },
  {
   "cell_type": "code",
   "execution_count": null,
   "id": "17a44390-ddc3-444d-b5ac-0ef948d72b1e",
   "metadata": {
    "tags": []
   },
   "outputs": [],
   "source": [
    "import os       # using operating system dependent functionality (folders)\n",
    "import pandas as pd # data analysis and manipulation\n",
    "import numpy as np    # numerical computing (manipulating and performing operations on arrays of data)\n",
    "import matplotlib.pyplot as plt\n",
    "import glob\n",
    "import sys\n",
    "sys.path.insert(0, '../../') # path to functions\n",
    "import cvasl.seperated as sep\n",
    "from cvasl.file_handler import Config"
   ]
  },
  {
   "cell_type": "markdown",
   "id": "37b5cfdd-cc40-4879-a7ce-a53aa8ec2b10",
   "metadata": {
    "tags": []
   },
   "source": [
    "Import data"
   ]
  },
  {
   "cell_type": "code",
   "execution_count": null,
   "id": "ae0b1f01-b06e-4468-bffe-e7f9c3c335f8",
   "metadata": {
    "tags": []
   },
   "outputs": [],
   "source": [
    "experiment_folder= 'SABRE_final'"
   ]
  },
  {
   "cell_type": "code",
   "execution_count": null,
   "id": "abc90288-38a1-4a69-9e2f-7b1c3c6a5456",
   "metadata": {
    "tags": []
   },
   "outputs": [],
   "source": [
    "config = Config.from_file()\n",
    "root_directory = config.get_directory('raw_data')\n",
    "if os.path.isdir(os.path.join(root_directory, experiment_folder)):\n",
    "    print(\"this folder exists, we will take tsv from here\")\n",
    "else: \n",
    "    print(\"this folder does not seem to exist, try typing again\")"
   ]
  },
  {
   "cell_type": "markdown",
   "id": "b7c38bdf-1dcc-4b92-a2f6-3a06e334f1f5",
   "metadata": {},
   "source": [
    "# Filter down by PVC datasets on"
   ]
  },
  {
   "cell_type": "code",
   "execution_count": null,
   "id": "b779f37a-3392-4b51-9aaf-284280251c26",
   "metadata": {
    "tags": []
   },
   "outputs": [],
   "source": [
    "root_directory = config.get_directory('raw_data')\n",
    "tsv_path = os.path.join(root_directory, experiment_folder)\n",
    "\n",
    "tsv_files = [os.path.join(tsv_path, file) for file in os.listdir(tsv_path) if file.endswith('.tsv')]\n",
    "tsv_files"
   ]
  },
  {
   "cell_type": "code",
   "execution_count": null,
   "id": "ce5e9d7d-f0e2-4b90-bc70-233661b2a313",
   "metadata": {
    "tags": []
   },
   "outputs": [],
   "source": [
    "tsv_files_pvc2 = [os.path.join(tsv_path, file) for file in os.listdir(tsv_path) if file.endswith('PVC2.tsv')]\n",
    "#tsv_files_pvc2"
   ]
  },
  {
   "cell_type": "code",
   "execution_count": null,
   "id": "aa81e822-b41b-4c5c-ba19-69591ecb083f",
   "metadata": {
    "tags": []
   },
   "outputs": [],
   "source": [
    "tsv_files_pvc0 = [os.path.join(tsv_path, file) for file in os.listdir(tsv_path) if file.endswith('PVC0.tsv')]\n",
    "#tsv_files_pvc0"
   ]
  },
  {
   "cell_type": "markdown",
   "id": "40c211ce-0f89-4384-9568-ae26f33a044b",
   "metadata": {},
   "source": [
    "# now we will make only a PVC2 dataset"
   ]
  },
  {
   "cell_type": "code",
   "execution_count": null,
   "id": "bb05bbea-3d1c-4804-ae14-6f039a5530c0",
   "metadata": {
    "tags": []
   },
   "outputs": [],
   "source": [
    "tsv_files_for_cov_pvc2 = []\n",
    "basics = []\n",
    "tsv_files_for_cov_pvc0 = []\n",
    "\n",
    "for file in os.listdir(tsv_path):\n",
    "    if file.startswith('CoV') and file.endswith('PVC2.tsv'):\n",
    "        tsv_files_for_cov_pvc2.append(os.path.join(tsv_path, file))\n",
    "    elif file.endswith('PVC2.tsv'):\n",
    "        basics.append(os.path.join(tsv_path, file))\n",
    "    elif file.endswith('PVC0.tsv'):\n",
    "        tsv_files_for_cov_pvc0.append(os.path.join(tsv_path, file))\n",
    "tsv_files_for_cov_pvc0"
   ]
  },
  {
   "cell_type": "code",
   "execution_count": null,
   "id": "d742307e-9485-4b64-9e08-6fc4a541343a",
   "metadata": {
    "tags": []
   },
   "outputs": [],
   "source": [
    "# Read files in selected folder into dataframes\n",
    "##tsv_files_for_cov_pvc2 = []\n",
    "cov_dataframes_pvc2 = [pd.read_csv(file, sep='\\t', header=[0]) for file in tsv_files_for_cov_pvc2]\n",
    "# make a sample\n",
    "sample_cov_df_pvc2 = cov_dataframes_pvc2[1] # example of COV file\n",
    "cols_cov_pvc2 = sample_cov_df_pvc2.columns\n",
    "#look at sample\n",
    "sample_cov_df_pvc2"
   ]
  },
  {
   "cell_type": "code",
   "execution_count": null,
   "id": "895e0171-9cad-4995-b1d9-c836b3fe7746",
   "metadata": {
    "tags": []
   },
   "outputs": [],
   "source": [
    "# Read files in selected folder into dataframes\n",
    "##tsv_files_for_cov_pvc2 = []\n",
    "cov_dataframes_pvc0 = [pd.read_csv(file, sep='\\t', header=[0]) for file in tsv_files_for_cov_pvc0]\n",
    "# make a sample\n",
    "sample_cov_df_pvc0 = cov_dataframes_pvc0[1] # example of COV file\n",
    "cols_cov_pvc0 = sample_cov_df_pvc0.columns\n",
    "#look at sample\n",
    "sample_cov_df_pvc0"
   ]
  },
  {
   "cell_type": "code",
   "execution_count": null,
   "id": "7aa7791d-c154-4f42-b090-e52b8c95bbfa",
   "metadata": {
    "tags": []
   },
   "outputs": [],
   "source": [
    "# Read files in selected folder into dataframes\n",
    "basic_dataframes = [pd.read_csv(file, sep='\\t', header=[0]) for file in basics]\n",
    "# make a sample\n",
    "sample_basic_df = basic_dataframes[2] # example of COV file\n",
    "cols_basic = sample_basic_df.columns\n",
    "#look at sample\n",
    "sample_basic_df"
   ]
  },
  {
   "cell_type": "code",
   "execution_count": null,
   "id": "ab84ad14-0251-4448-bfab-3a29388df58d",
   "metadata": {
    "tags": []
   },
   "outputs": [],
   "source": [
    "# Read ALL files in selected folder into dataframes\n",
    "dataframes = [pd.read_csv(file, sep='\\t', header=[0]) for file in tsv_files]\n",
    "# make a sample\n",
    "sample_df = dataframes[2] # example of file\n",
    "cols = sample_df.columns\n",
    "#look at sample\n",
    "#sample_df"
   ]
  },
  {
   "cell_type": "code",
   "execution_count": null,
   "id": "acdb8c29-8fb6-4859-8a4b-18bedb0c0d67",
   "metadata": {
    "tags": []
   },
   "outputs": [],
   "source": [
    "list_all_basic_column = []\n",
    "for frame in basic_dataframes:\n",
    "    list_columns = frame.columns.to_list()\n",
    "    for x in list_columns:\n",
    "        if x not in list_all_basic_column:\n",
    "            list_all_basic_column.append(x)\n",
    "#list_all_basic_column"
   ]
  },
  {
   "cell_type": "code",
   "execution_count": null,
   "id": "b3e72375-08ef-4035-b82e-2ba621aa7d8f",
   "metadata": {
    "tags": []
   },
   "outputs": [],
   "source": [
    "list_all_cov_column_pvc2 = []\n",
    "for frame in cov_dataframes_pvc2:\n",
    "    list_columns = frame.columns.to_list()\n",
    "    for x in list_columns:\n",
    "        if x not in list_all_cov_column:\n",
    "            list_all_cov_column_pvc2.append(x)\n",
    "list_all_cov_column_pvc2"
   ]
  },
  {
   "cell_type": "code",
   "execution_count": null,
   "id": "8ef003e4-f470-4e75-afa4-205d0d1bc0f8",
   "metadata": {
    "tags": []
   },
   "outputs": [],
   "source": [
    "list_all_cov_column_pvc0 = []\n",
    "for frame in cov_dataframes_pvc0:\n",
    "    list_columns = frame.columns.to_list()\n",
    "    for x in list_columns:\n",
    "        if x not in list_all_cov_column_pvc0:\n",
    "            list_all_cov_column_pvc0.append(x)\n",
    "list_all_cov_column_pvc0"
   ]
  },
  {
   "cell_type": "code",
   "execution_count": null,
   "id": "0b9e06fc-de22-44d4-a5b2-71383cdbe643",
   "metadata": {
    "tags": []
   },
   "outputs": [],
   "source": [
    "# we transform one of the COV, we need to transform all of them\n",
    "for frame in cov_dataframes_pvc0:\n",
    "    print(frame.columns)"
   ]
  },
  {
   "cell_type": "code",
   "execution_count": null,
   "id": "95293440-4795-47f7-a5ec-c73e955b694a",
   "metadata": {
    "tags": []
   },
   "outputs": [],
   "source": [
    "Seems we have a bit of duplication on PVC0 in Sabre"
   ]
  },
  {
   "cell_type": "code",
   "execution_count": null,
   "id": "13f21db5-e20f-4898-a671-ddc5a4ca32cf",
   "metadata": {},
   "outputs": [],
   "source": [
    "pvc0_dict_0 = {\n",
    "    'participant_id' : 'participant_id', #\n",
    "    'session' : 'session', #,\n",
    "    'LongitudinalTimePoint' : 'LongitudinalTimePoint', #\n",
    "    'SubjectNList' : 'SubjectNList', #\n",
    "    'Site' : 'Site', #\n",
    "    'GM_vol' : 'GM_vol', #\n",
    "    'WM_vol' : 'WM_vol' ,#\n",
    "    'CSF_vol' : 'CSF_vol', #\n",
    "    'GM_ICVRatio' : 'GM_ICVRatio', #\n",
    "    'GMWM_ICVRatio' : 'GMWM_ICVRatio', # to here\n",
    "    'WMH_vol' : 'WMH_vol',#\n",
    "    'WMH_count' : 'WMH_count', # to here\n",
    "    'MeanMotion' : 'mean_motion_pvc0',#\n",
    "    'DeepWM_B' : 'DeepWM_B_cov_pvc0',\n",
    "    'DeepWM_L' : 'DeepWM_L_cov_pvc0',\n",
    "    'DeepWM_R' : 'DeepWM_R_cov_pvc0',\n",
    "       }\n",
    "pvc0_dict_1 = {\n",
    "    'participant_id' : 'participant_id', #\n",
    "    'session' : 'session', #,\n",
    "    'LongitudinalTimePoint' : 'LongitudinalTimePoint', #\n",
    "    'SubjectNList' : 'SubjectNList', #\n",
    "    'Site' : 'Site', #\n",
    "    'GM_vol' : 'GM_vol', #\n",
    "    'WM_vol' : 'WM_vol' ,#\n",
    "    'CSF_vol' : 'CSF_vol', #\n",
    "    'GM_ICVRatio' : 'GM_ICVRatio', #\n",
    "    'GMWM_ICVRatio' : 'GMWM_ICVRatio', # to here\n",
    "    'WMH_vol' : 'WMH_vol',#\n",
    "    'WMH_count' : 'WMH_count', # to here\n",
    "    'MeanMotion' : 'mean_motion_pvc0',#\n",
    "    'ACA_B' : 'ACA_B_cov_pvc0',\n",
    "    'ACA_L' : 'ACA_L_cov_pvc0',\n",
    "    'ACA_R' : 'ACA_R_cov_pvc0',\n",
    "    'MCA_B' : 'MCA_B_cov_pvc0',\n",
    "    'MCA_L' : 'MCA_L_cov_pvc0',\n",
    "    'MCA_R' : 'MCA_R_cov_pvc0',\n",
    "    'PCA_B' : 'PCA_B_cov_pvc0',\n",
    "    'PCA_L' : 'PCA_L_cov_pvc0',\n",
    "    'PCA_R' : 'PCA_R_cov_pvc0',\n",
    "       }\n",
    "pvc0_dict_2 = {\n",
    "    'participant_id' : 'participant_id', #\n",
    "    'session' : 'session', #,\n",
    "    'LongitudinalTimePoint' : 'LongitudinalTimePoint', #\n",
    "    'SubjectNList' : 'SubjectNList', #\n",
    "    'Site' : 'Site', #\n",
    "    'GM_vol' : 'GM_vol', #\n",
    "    'WM_vol' : 'WM_vol' ,#\n",
    "    'CSF_vol' : 'CSF_vol', #\n",
    "    'GM_ICVRatio' : 'GM_ICVRatio', #\n",
    "    'GMWM_ICVRatio' : 'GMWM_ICVRatio', # to here\n",
    "    'WMH_vol' : 'WMH_vol',#\n",
    "    'WMH_count' : 'WMH_count', # to here\n",
    "    'MeanMotion' : 'mean_motion',#\n",
    "    'TotalGM_B' : 'TotalGM_B_cov',\n",
    "    'TotalGM_L' : 'TotalGM_L_cov',\n",
    "    'TotalGM_R' : 'TotalGM_R_cov',\n",
    "       }\n",
    "\n",
    "pvc0_dict_3 = {\n",
    "    'participant_id' : 'participant_id', #\n",
    "    'session' : 'session', #,\n",
    "    'LongitudinalTimePoint' : 'LongitudinalTimePoint', #\n",
    "    'SubjectNList' : 'SubjectNList', #\n",
    "    'Site' : 'Site', #\n",
    "    'GM_vol' : 'GM_vol', #\n",
    "    'WM_vol' : 'WM_vol' ,#\n",
    "    'CSF_vol' : 'CSF_vol', #\n",
    "    'GM_ICVRatio' : 'GM_ICVRatio', #\n",
    "    'GMWM_ICVRatio' : 'GMWM_ICVRatio', # to here\n",
    "    'WMH_vol' : 'WMH_vol',#\n",
    "    'WMH_count' : 'WMH_count', # to here\n",
    "    'MeanMotion' : 'mean_motion_pvc0',#\n",
    "    'DeepWM_B' : 'DeepWM_B_cov_pvc0',\n",
    "    'DeepWM_L' : 'DeepWM_L_cov_pvc0',\n",
    "    'DeepWM_R' : 'DeepWM_R_cov_pvc0',\n",
    "       }\n",
    "\n",
    "cov_dataframes[0].rename(columns=dict_0,\n",
    "          inplace=True)\n",
    "cov_dataframes[1].rename(columns=dict_1,\n",
    "          inplace=True)\n",
    "cov_dataframes[2].rename(columns=dict_2,\n",
    "          inplace=True)\n",
    "\n",
    "cov_dataframes[0]"
   ]
  },
  {
   "cell_type": "code",
   "execution_count": null,
   "id": "5fb4b1d8-1e6c-4de2-8e3b-e53b25ae2591",
   "metadata": {
    "tags": []
   },
   "outputs": [],
   "source": [
    "dict_0 = {\n",
    "    'participant_id' : 'participant_id', #\n",
    "    'session' : 'session', #,\n",
    "    'LongitudinalTimePoint' : 'LongitudinalTimePoint', #\n",
    "    'SubjectNList' : 'SubjectNList', #\n",
    "    'Site' : 'Site', #\n",
    "    'GM_vol' : 'GM_vol', #\n",
    "    'WM_vol' : 'WM_vol' ,#\n",
    "    'CSF_vol' : 'CSF_vol', #\n",
    "    'GM_ICVRatio' : 'GM_ICVRatio', #\n",
    "    'GMWM_ICVRatio' : 'GMWM_ICVRatio', # to here\n",
    "    'WMH_vol' : 'WMH_vol',#\n",
    "    'WMH_count' : 'WMH_count', # to here\n",
    "    'MeanMotion' : 'mean_motion',#\n",
    "    'DeepWM_B' : 'DeepWM_B_cov',\n",
    "    'DeepWM_L' : 'DeepWM_L_cov',\n",
    "    'DeepWM_R' : 'DeepWM_R_cov',\n",
    "       }\n",
    "dict_1 = {\n",
    "    'participant_id' : 'participant_id', #\n",
    "    'session' : 'session', #,\n",
    "    'LongitudinalTimePoint' : 'LongitudinalTimePoint', #\n",
    "    'SubjectNList' : 'SubjectNList', #\n",
    "    'Site' : 'Site', #\n",
    "    'GM_vol' : 'GM_vol', #\n",
    "    'WM_vol' : 'WM_vol' ,#\n",
    "    'CSF_vol' : 'CSF_vol', #\n",
    "    'GM_ICVRatio' : 'GM_ICVRatio', #\n",
    "    'GMWM_ICVRatio' : 'GMWM_ICVRatio', # to here\n",
    "    'WMH_vol' : 'WMH_vol',#\n",
    "    'WMH_count' : 'WMH_count', # to here\n",
    "    'MeanMotion' : 'mean_motion',#\n",
    "    'ACA_B' : 'ACA_B_cov',\n",
    "    'ACA_L' : 'ACA_L_cov',\n",
    "    'ACA_R' : 'ACA_R_cov',\n",
    "    'MCA_B' : 'MCA_B_cov',\n",
    "    'MCA_L' : 'MCA_L_cov',\n",
    "    'MCA_R' : 'MCA_R_cov',\n",
    "    'PCA_B' : 'PCA_B_cov',\n",
    "    'PCA_L' : 'PCA_L_cov',\n",
    "    'PCA_R' : 'PCA_R_cov',\n",
    "       }\n",
    "dict_2 = {\n",
    "    'participant_id' : 'participant_id', #\n",
    "    'session' : 'session', #,\n",
    "    'LongitudinalTimePoint' : 'LongitudinalTimePoint', #\n",
    "    'SubjectNList' : 'SubjectNList', #\n",
    "    'Site' : 'Site', #\n",
    "    'GM_vol' : 'GM_vol', #\n",
    "    'WM_vol' : 'WM_vol' ,#\n",
    "    'CSF_vol' : 'CSF_vol', #\n",
    "    'GM_ICVRatio' : 'GM_ICVRatio', #\n",
    "    'GMWM_ICVRatio' : 'GMWM_ICVRatio', # to here\n",
    "    'WMH_vol' : 'WMH_vol',#\n",
    "    'WMH_count' : 'WMH_count', # to here\n",
    "    'MeanMotion' : 'mean_motion',#\n",
    "    'TotalGM_B' : 'TotalGM_B_cov',\n",
    "    'TotalGM_L' : 'TotalGM_L_cov',\n",
    "    'TotalGM_R' : 'TotalGM_R_cov',\n",
    "       }\n",
    "\n",
    "cov_dataframes[0].rename(columns=dict_0,\n",
    "          inplace=True)\n",
    "cov_dataframes[1].rename(columns=dict_1,\n",
    "          inplace=True)\n",
    "cov_dataframes[2].rename(columns=dict_2,\n",
    "          inplace=True)\n",
    "\n",
    "cov_dataframes[0]"
   ]
  },
  {
   "cell_type": "code",
   "execution_count": null,
   "id": "154c3885-184f-455f-b3d9-c63b0e3ee6d7",
   "metadata": {
    "tags": []
   },
   "outputs": [],
   "source": [
    "numbr = 0\n",
    "for frame in cov_dataframes:\n",
    "    filepath = '../open_work/internal_results/stitchy/SABRE_pvc2/cov' \n",
    "    filename = os.path.join(filepath,str(numbr+1)) \n",
    "    if not os.path.exists(filepath):\n",
    "    # if filder doesn't exist, create it\n",
    "        os.makedirs(filepath)\n",
    "    frame.to_csv((filename +'.tsv'), sep=\"\\t\")\n",
    "    numbr +=1"
   ]
  },
  {
   "cell_type": "code",
   "execution_count": null,
   "id": "5a4236ca-0a6e-4460-81e4-6ab1b6094689",
   "metadata": {
    "tags": []
   },
   "outputs": [],
   "source": [
    "numbr = 0\n",
    "for frame in basic_dataframes:\n",
    "    filepath = '../open_work/internal_results/stitchy/SABRE_pvc2/basics' \n",
    "    filename = os.path.join(filepath,str(numbr+1)) \n",
    "    if not os.path.exists(filepath):\n",
    "    # if filder doesn't exist, create it\n",
    "        os.makedirs(filepath)\n",
    "    frame.to_csv((filename +'.tsv'), sep=\"\\t\")\n",
    "    numbr +=1"
   ]
  },
  {
   "cell_type": "code",
   "execution_count": null,
   "id": "0277889e-714c-48c5-a492-ddb055aeba03",
   "metadata": {
    "tags": []
   },
   "outputs": [],
   "source": [
    "cov_tsv_folder_made = '../open_work/internal_results/stitchy/SABRE_pvc2/cov'\n",
    "cov_identical_columns = sep.check_identical_columns(cov_tsv_folder_made)\n",
    "print(cov_identical_columns)\n",
    "print(len(cov_identical_columns))"
   ]
  },
  {
   "cell_type": "code",
   "execution_count": null,
   "id": "01a81a4e-0237-4025-9052-0a141f354484",
   "metadata": {
    "tags": []
   },
   "outputs": [],
   "source": [
    "basics_tsv_folder_made = '../open_work/internal_results/stitchy/basics'\n",
    "basics_identical_columns = sep.check_identical_columns(basics_tsv_folder_made)\n",
    "print(basics_identical_columns)\n",
    "print(len(basics_identical_columns))"
   ]
  },
  {
   "cell_type": "markdown",
   "id": "4e1942d8-bb56-4657-98e4-49f2e53e94a4",
   "metadata": {
    "tags": []
   },
   "source": [
    "## here we note that our identical columns are not the same between the two datasets...not is one a subset of the other...but could be if we get rid of mean motion\n",
    "\n",
    "So we will get rid of mean motion and add it back later"
   ]
  },
  {
   "cell_type": "code",
   "execution_count": null,
   "id": "6e3251c0-6a0b-4345-b319-0a61ffa36caa",
   "metadata": {
    "tags": []
   },
   "outputs": [],
   "source": [
    "# now we need to make a super dataframes list\n",
    "super_dataframes = basic_dataframes +cov_dataframes\n",
    "len(super_dataframes)"
   ]
  },
  {
   "cell_type": "code",
   "execution_count": null,
   "id": "9a979d8a-0a11-4485-a498-56ec3c59af2c",
   "metadata": {
    "tags": []
   },
   "outputs": [],
   "source": [
    "identical_columns = sep.check_identical_columns(basics_tsv_folder_made)\n",
    "identical_columns"
   ]
  },
  {
   "cell_type": "code",
   "execution_count": null,
   "id": "4e194c70-2e67-4ce8-902e-4975e4e60611",
   "metadata": {
    "tags": []
   },
   "outputs": [],
   "source": []
  },
  {
   "cell_type": "code",
   "execution_count": null,
   "id": "0f6ea625-25ab-48b2-9c97-0e8b11b0ab39",
   "metadata": {
    "tags": []
   },
   "outputs": [],
   "source": [
    "stitched = sample_basic_df[identical_columns].copy()"
   ]
  },
  {
   "cell_type": "code",
   "execution_count": null,
   "id": "8cbeeb46-1fbb-480e-ba68-d8ecfb6e2eb3",
   "metadata": {
    "tags": []
   },
   "outputs": [],
   "source": [
    "n_identical = stitched.shape[1]\n",
    "#n_identical"
   ]
  },
  {
   "cell_type": "code",
   "execution_count": null,
   "id": "c5de2510-da4e-4391-9746-af0254d49f2d",
   "metadata": {},
   "outputs": [],
   "source": [
    "# Now let's add the different parts in together"
   ]
  },
  {
   "cell_type": "code",
   "execution_count": null,
   "id": "ee365fa1-de93-4967-a53d-031a8e5860e1",
   "metadata": {
    "tags": []
   },
   "outputs": [],
   "source": [
    "for df in super_dataframes:\n",
    "    for col in df.columns[n_identical:]:\n",
    "        stitched[col] = df[col]\n",
    "\n",
    "stitched.columns"
   ]
  },
  {
   "cell_type": "code",
   "execution_count": null,
   "id": "fa04ccb4-3970-4ecc-8527-c4909087a109",
   "metadata": {
    "tags": []
   },
   "outputs": [],
   "source": [
    "len(stitched.columns)"
   ]
  },
  {
   "cell_type": "code",
   "execution_count": null,
   "id": "e7575b82-71a4-49b1-bf44-f6330a62acd9",
   "metadata": {
    "tags": []
   },
   "outputs": [],
   "source": [
    "# now we can get rid of double header\n",
    "stitched = stitched[1:]\n",
    "#stitched"
   ]
  },
  {
   "cell_type": "code",
   "execution_count": null,
   "id": "50e5d38e-6f7b-4548-8194-e5cdca92a8d5",
   "metadata": {
    "tags": []
   },
   "outputs": [],
   "source": [
    "stitched['session'].unique()"
   ]
  },
  {
   "cell_type": "code",
   "execution_count": null,
   "id": "d83619e2-0aef-4e1c-b97e-73d519d1f310",
   "metadata": {
    "tags": []
   },
   "outputs": [],
   "source": [
    "stitched['LongitudinalTimePoint'].unique()"
   ]
  },
  {
   "cell_type": "markdown",
   "id": "525b5b9b-5ddd-46c8-a755-45f4ec8a4de7",
   "metadata": {},
   "source": [
    "So in this set we had only one scan per visit, and only one visit per patient. Great..."
   ]
  },
  {
   "cell_type": "code",
   "execution_count": null,
   "id": "358fada0-60d7-441b-acc2-d9216870bfd5",
   "metadata": {
    "tags": []
   },
   "outputs": [],
   "source": [
    "#now we need to find the new sexage_path \n",
    "\n",
    "csv_files = [os.path.join(tsv_path, file) for file in os.listdir(tsv_path) if file.endswith('.csv')]\n",
    "csv_files"
   ]
  },
  {
   "cell_type": "code",
   "execution_count": null,
   "id": "968fec3c-3258-472e-a92e-509a275d8fe3",
   "metadata": {
    "tags": []
   },
   "outputs": [],
   "source": [
    "sexage_df = pd.read_csv(csv_files[0], index_col=0)\n",
    "sexage_df['renumber'] = sexage_df.index\n",
    "sexage_df['renumber'] = sexage_df['renumber'].apply(str)\n",
    "#sexage_df"
   ]
  },
  {
   "cell_type": "code",
   "execution_count": null,
   "id": "4d59085e-479b-4c61-a3cd-979d6f432648",
   "metadata": {
    "tags": []
   },
   "outputs": [],
   "source": [
    "sexage_df['TP'].unique()"
   ]
  },
  {
   "cell_type": "code",
   "execution_count": null,
   "id": "8701ae21-d217-48bb-9b9a-bfc5a296227e",
   "metadata": {
    "tags": []
   },
   "outputs": [],
   "source": [
    "sexage_df['Sex'].unique()"
   ]
  },
  {
   "cell_type": "markdown",
   "id": "a61385bb-f841-4e85-b79e-13bc8df717c4",
   "metadata": {},
   "source": [
    "## SO here we have to align the patient IDs"
   ]
  },
  {
   "cell_type": "code",
   "execution_count": null,
   "id": "34122105-a1b8-4be8-87b9-ce7349a71eb2",
   "metadata": {
    "tags": []
   },
   "outputs": [],
   "source": [
    "sexage_df"
   ]
  },
  {
   "cell_type": "code",
   "execution_count": null,
   "id": "97ddd1ff-2e96-4b8a-b108-df0a4b28384d",
   "metadata": {},
   "outputs": [],
   "source": []
  },
  {
   "cell_type": "code",
   "execution_count": null,
   "id": "8fb69ca7-d335-4422-b2b3-2473fd7573f8",
   "metadata": {
    "tags": []
   },
   "outputs": [],
   "source": [
    "sexage_df.Sex.unique()"
   ]
  },
  {
   "cell_type": "code",
   "execution_count": null,
   "id": "335a6272-14f4-4ab5-ba3c-7a6b760fdc67",
   "metadata": {
    "tags": []
   },
   "outputs": [],
   "source": [
    "stitched['renumber'] = stitched['participant_id']\n",
    "stitched"
   ]
  },
  {
   "cell_type": "code",
   "execution_count": null,
   "id": "051e12e0-c4ba-4205-af63-8245e4b7c090",
   "metadata": {
    "tags": []
   },
   "outputs": [],
   "source": [
    "sexage_df = sexage_df.reset_index(drop=True)\n",
    "sexage_df"
   ]
  },
  {
   "cell_type": "code",
   "execution_count": null,
   "id": "c13d21e0-6ddf-47f3-845e-07d9d986844c",
   "metadata": {},
   "outputs": [],
   "source": [
    "sexage_df['renumber'] = \"sub-\" + sexage_df['renumber'] +\"_\" + sexage_df['TP'].astype('str')"
   ]
  },
  {
   "cell_type": "code",
   "execution_count": null,
   "id": "134a534a-8365-4ac0-ab58-f96d23219d84",
   "metadata": {},
   "outputs": [],
   "source": [
    "sexage_df"
   ]
  },
  {
   "cell_type": "code",
   "execution_count": null,
   "id": "a00f3b43-f0a9-4995-bc10-a4e83e812869",
   "metadata": {},
   "outputs": [],
   "source": [
    "result = stitched.merge(sexage_df, on=\"renumber\")\n",
    "result"
   ]
  },
  {
   "cell_type": "code",
   "execution_count": null,
   "id": "c307470c-c738-46fd-b85b-10cc8bc6f267",
   "metadata": {
    "tags": []
   },
   "outputs": [],
   "source": [
    "# just in case there are duplicates in there\n",
    "result = result.loc[:,~result.columns.duplicated()].copy()"
   ]
  },
  {
   "cell_type": "markdown",
   "id": "3ba22cf0-d4e3-43c7-93fc-c965287c0e9f",
   "metadata": {
    "tags": []
   },
   "source": [
    "# confirm to standard"
   ]
  },
  {
   "cell_type": "code",
   "execution_count": null,
   "id": "b3a1e5a7-01e2-4ed3-b5b4-9d82ea0c345c",
   "metadata": {
    "tags": []
   },
   "outputs": [],
   "source": [
    "standard_path = '../researcher_interface/sample_sep_values/showable_standard.csv'\n",
    "standard = pd.read_csv(standard_path)\n",
    "set_standard = set(standard.columns.to_list())"
   ]
  },
  {
   "cell_type": "code",
   "execution_count": null,
   "id": "ce84f8d6-26f2-4c36-865c-17592d1a2821",
   "metadata": {},
   "outputs": [],
   "source": [
    "result.columns = result.columns.str.lower()\n",
    "set_results= set(result.columns.to_list())\n",
    "\n",
    "z = set_results.intersection(set_standard) \n",
    "z"
   ]
  },
  {
   "cell_type": "code",
   "execution_count": null,
   "id": "529b027d-c19d-4c8b-ac13-eced399b49bc",
   "metadata": {
    "tags": []
   },
   "outputs": [],
   "source": [
    "for f in result.columns:\n",
    "    print(f)"
   ]
  },
  {
   "cell_type": "markdown",
   "id": "e0ad2897-0ed5-4f96-bcab-db049055fb0a",
   "metadata": {},
   "source": [
    "## because in this case everything was session # 1 , run # 1 , we can just hard code that into the participant ID"
   ]
  },
  {
   "cell_type": "code",
   "execution_count": null,
   "id": "d535fc97-0d2c-477d-9e70-b10ba0b424ab",
   "metadata": {
    "tags": []
   },
   "outputs": [],
   "source": [
    "# shift column 'Name' to first position\n",
    "first_column = result.pop('participant_id')\n",
    "  \n",
    "# insert column using insert(position,column_name,\n",
    "# first_column) function\n",
    "result.insert(0, 'participant_id', first_column)\n",
    "result['participant_id'] = result['participant_id']+'_ses-1_run-1'\n",
    "result"
   ]
  },
  {
   "cell_type": "code",
   "execution_count": null,
   "id": "aafd476f-a19b-4be7-b9be-b042a5b53e5b",
   "metadata": {
    "tags": []
   },
   "outputs": [],
   "source": [
    "result['session_id'] = result['session']\n",
    "second_column = result.pop('session_id')\n",
    "result.insert(1, 'session_id', second_column)\n",
    "result['site'] = \"SABRE\"\n",
    "result['run_id'] = result['longitudinaltimepoint']\n",
    "#result"
   ]
  },
  {
   "cell_type": "code",
   "execution_count": null,
   "id": "f96dd2f6-80d2-4d6a-81a2-73ab3260a54f",
   "metadata": {},
   "outputs": [],
   "source": [
    "result['gm_icv_ratio'] = result['gm_icvratio']\n",
    "result['gmwm_icv_ratio'] = result['gm_icvratio']\n",
    "result['cbf_gm_pvc0'] = 'NaN' \n",
    "result['cbf_gm_pvc2']=  result['totalgm_b'] \n",
    "result['cbf_wm_pvc0']= 'NaN'\n",
    "result['cbf_wm_pvc2']= result['deepwm_b']\n",
    "result['cbf_aca_pvc0'] =  'NaN'\n",
    "result['cbf_mca_pvc0']  = 'NaN'\n",
    "result['cbf_pca_pvc0'] =  'NaN'\n",
    "result['cbf_aca_pvc2']  = result['aca_b']\n",
    "result['cbf_mca_pvc2']  = result['mca_b']\n",
    "result['cbf_pca_pvc2']  = result['pca_b']"
   ]
  },
  {
   "cell_type": "code",
   "execution_count": null,
   "id": "c5a27323-61ad-494b-8b51-c999a69cb033",
   "metadata": {
    "tags": []
   },
   "outputs": [],
   "source": [
    "\n",
    "result['cov_gm_pvc0'] =  'NaN' # corrected exist, but later\n",
    "# result['cov_gm_pvc2']  = result[]\n",
    "result['cov_wm_pvc0']  = 'NaN' # doesexist\n",
    "# result['cov_wm_pvc2']  = result[]\n",
    "result['cov_aca_pvc0'] =  'NaN'# does exist\n",
    "result['cov_mca_pvc0']  = 'NaN'# does exist\n",
    "result['cov_pca_pvc0']  = 'NaN'# does exist\n",
    "result['cov_aca_pvc2'] = result['aca_b_cov']\n",
    "result['cov_mca_pvc2'] = result['mca_b_cov']\n",
    "result['cov_pca_pvc2'] = result['pca_b_cov']\n",
    "\n"
   ]
  },
  {
   "cell_type": "code",
   "execution_count": null,
   "id": "a5df3fd9-f9fa-4b98-a19e-58171bcadd64",
   "metadata": {
    "tags": []
   },
   "outputs": [],
   "source": [
    "for f in result.columns:\n",
    "    print(f)\n"
   ]
  },
  {
   "cell_type": "code",
   "execution_count": null,
   "id": "8beeef1a-39e7-4c02-abad-88016973cbad",
   "metadata": {
    "tags": []
   },
   "outputs": [],
   "source": [
    "result['age'] = result['id.1']"
   ]
  },
  {
   "cell_type": "code",
   "execution_count": null,
   "id": "5b0185ca-96fd-4b68-a75c-e55d796b063f",
   "metadata": {
    "tags": []
   },
   "outputs": [],
   "source": [
    "sex_mapping = {2:'F',1:'M',}\n",
    "results = result.assign(sex = result.sex.map(sex_mapping))\n",
    "results"
   ]
  },
  {
   "cell_type": "code",
   "execution_count": null,
   "id": "c284311b-339b-4795-b5cf-035123241d93",
   "metadata": {
    "tags": []
   },
   "outputs": [],
   "source": [
    "# shift columns to  position\n",
    "third_column = results.pop('run_id')\n",
    "fourth_column = results.pop('age')\n",
    "fifth_column = results.pop('sex')\n",
    "sixth_column = results.pop('site')\n",
    "seventh_column = results.pop('gm_vol')\n",
    "eight_column = results.pop('wm_vol')\n",
    "ninth_column = results.pop('csf_vol')\n",
    "tenth_column = results.pop('gm_icv_ratio')\n",
    "eleventh_column = results.pop('gmwm_icv_ratio')\n",
    "twelvth_column = results.pop('wmh_vol')\n",
    "thirteenth_column = results.pop('wmh_count')\n",
    "\n",
    "#last_column = results.pop('index')\n",
    "\n",
    "results.insert(2, 'run_id', third_column)\n",
    "results.insert(3, 'age', fourth_column)\n",
    "results.insert(4, 'sex', fifth_column)\n",
    "results.insert(5, 'site', sixth_column)\n",
    "results.insert(6, 'gm_vol', seventh_column)\n",
    "results.insert(7, 'wm_vol', eight_column)\n",
    "results.insert(8, 'csf_vol', ninth_column)\n",
    "results.insert(9, 'gm_ivc_ratio',tenth_column)\n",
    "results.insert(10, 'gmwm_ivc_ratio',eleventh_column)\n",
    "results.insert(11, 'wmh_vol',twelvth_column)\n",
    "results.insert(12, 'wmh_count',thirteenth_column)\n",
    "#results.insert(82, 'index', last_column)\n",
    "\n",
    "results"
   ]
  },
  {
   "cell_type": "code",
   "execution_count": null,
   "id": "6968e1bb-a02b-426a-8854-52b5c0342a25",
   "metadata": {
    "tags": []
   },
   "outputs": [],
   "source": [
    "results.columns"
   ]
  },
  {
   "cell_type": "code",
   "execution_count": null,
   "id": "ea969e75-f2dc-4601-80e3-a3a1040f302e",
   "metadata": {
    "tags": []
   },
   "outputs": [],
   "source": [
    "results = results.drop(['subjectnlist','id.1','renumber','session','longitudinaltimepoint', 'tp','gmwm_icvratio','gm_icvratio'], axis=1) "
   ]
  },
  {
   "cell_type": "code",
   "execution_count": null,
   "id": "7e0bb31a-2373-4288-81d6-41bd9996f9da",
   "metadata": {
    "tags": []
   },
   "outputs": [],
   "source": [
    "\n",
    "standard.columns"
   ]
  },
  {
   "cell_type": "code",
   "execution_count": null,
   "id": "4f253403-7115-4488-a4f9-369c55965f70",
   "metadata": {
    "tags": []
   },
   "outputs": [],
   "source": [
    "results.columns"
   ]
  },
  {
   "cell_type": "code",
   "execution_count": null,
   "id": "b00b8bf8-cd8c-4003-972a-25bce30a2584",
   "metadata": {
    "tags": []
   },
   "outputs": [],
   "source": [
    "# reorg results to format\n",
    "head_columns = results.columns[:13]\n",
    "middle_columns = results.columns[13:43]\n",
    "tail_columns = results.columns[43:]\n",
    "f_results = pd.concat([results[head_columns],results[tail_columns],results[middle_columns]], axis=1)\n",
    "f_results.columns"
   ]
  },
  {
   "cell_type": "code",
   "execution_count": null,
   "id": "e1c1407d-7011-4c73-bbfc-f08c5c22bb7e",
   "metadata": {
    "tags": []
   },
   "outputs": [],
   "source": [
    "f_results.sex.unique()"
   ]
  },
  {
   "cell_type": "code",
   "execution_count": null,
   "id": "e5125988-a562-4b4a-a48d-6a38beee1c2d",
   "metadata": {
    "tags": []
   },
   "outputs": [],
   "source": [
    "for column in f_results.columns[6:]:\n",
    "    #print(column)\n",
    "    f_results[column] = pd.to_numeric(f_results[column], errors = 'coerce')\n"
   ]
  },
  {
   "cell_type": "code",
   "execution_count": null,
   "id": "d5930513-c1e1-4c42-8b05-77207ff0c33f",
   "metadata": {
    "tags": []
   },
   "outputs": [],
   "source": [
    "sep.check_sex_dimorph_expectations(f_results)"
   ]
  },
  {
   "cell_type": "code",
   "execution_count": null,
   "id": "d33c59b9-039e-45a3-909a-ecb16903998e",
   "metadata": {
    "tags": []
   },
   "outputs": [],
   "source": [
    "sep.relate_columns_graphs_numeric(f_results, 'age')"
   ]
  },
  {
   "cell_type": "markdown",
   "id": "8b1befe9-6427-4727-adf6-2abe9a58725a",
   "metadata": {},
   "source": [
    "# So somewhere in there there are negative numbers...this should not exist...\n",
    "let's find how"
   ]
  },
  {
   "cell_type": "code",
   "execution_count": null,
   "id": "6bd49da6-e8a4-4106-9000-53fe411ac676",
   "metadata": {
    "tags": []
   },
   "outputs": [],
   "source": [
    "f_results.describe()"
   ]
  },
  {
   "cell_type": "markdown",
   "id": "f71c4d6f-a7d0-4789-8247-f9c439528638",
   "metadata": {
    "tags": []
   },
   "source": [
    "# So some of the soefficient of variations are negative. Is this really possible?\n",
    "\n",
    "Must be discussed with scientists"
   ]
  },
  {
   "cell_type": "code",
   "execution_count": null,
   "id": "4a7916c5-2598-4199-ae8c-356fd08a6bbc",
   "metadata": {
    "tags": []
   },
   "outputs": [],
   "source": [
    "doubled_outliers =sep.find_outliers_by_list(f_results, f_results.columns.to_list()[6:], 2.5)"
   ]
  },
  {
   "cell_type": "code",
   "execution_count": null,
   "id": "7c7f4c1a-7495-4799-a68b-5de0b22d9b9c",
   "metadata": {
    "tags": []
   },
   "outputs": [],
   "source": [
    "doubled_outliers"
   ]
  },
  {
   "cell_type": "code",
   "execution_count": null,
   "id": "dae2b3b2-0330-40c2-9602-9487c70c3bea",
   "metadata": {
    "tags": []
   },
   "outputs": [],
   "source": [
    "filepath = '../open_work/internal_results' \n",
    "filename = os.path.join(filepath,'possible_outliers_from_SABRE.csv') \n",
    "if not os.path.exists(filepath):\n",
    "    # if filder doesn't exist, create it\n",
    "    os.makedirs(filepath)\n",
    "doubled_outliers.to_csv(filename)  "
   ]
  },
  {
   "cell_type": "markdown",
   "id": "1d9492a6-c93c-437c-b324-dffe04747538",
   "metadata": {},
   "source": [
    "save final file"
   ]
  },
  {
   "cell_type": "code",
   "execution_count": null,
   "id": "d616809b-ee26-48e1-8478-42ee01c42fbf",
   "metadata": {
    "tags": []
   },
   "outputs": [],
   "source": [
    "filepath = '../open_work/internal_results' \n",
    "filename = os.path.join(filepath,'SABRE_pvc2_stitched_conformed.csv') \n",
    "if not os.path.exists(filepath):\n",
    "    # if filder doesn't exist, create it\n",
    "    os.makedirs(filepath)\n",
    "f_results.to_csv(filename)  "
   ]
  },
  {
   "cell_type": "code",
   "execution_count": null,
   "id": "66f43a6d-9049-4569-93d8-0eab381ebfbd",
   "metadata": {},
   "outputs": [],
   "source": []
  }
 ],
 "metadata": {
  "kernelspec": {
   "display_name": "Python 3 (ipykernel)",
   "language": "python",
   "name": "python3"
  },
  "language_info": {
   "codemirror_mode": {
    "name": "ipython",
    "version": 3
   },
   "file_extension": ".py",
   "mimetype": "text/x-python",
   "name": "python",
   "nbconvert_exporter": "python",
   "pygments_lexer": "ipython3",
   "version": "3.9.18"
  }
 },
 "nbformat": 4,
 "nbformat_minor": 5
}
