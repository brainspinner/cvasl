{
 "cells": [
  {
   "cell_type": "markdown",
   "id": "7525a520-cad3-46c1-b4eb-418b6c2ee552",
   "metadata": {},
   "source": [
    "# Clean PVC2 datasets\n",
    "\n",
    "This notebooks takes the TOP, Stroke MRI, Insight 46 and SABRE datasets, and cleans them down to the relavant parameters for an ML model using only corrected ASL values.\n",
    "\n",
    "Then we show some preliminary correlations and ML"
   ]
  },
  {
   "cell_type": "code",
   "execution_count": null,
   "id": "53bc6094-59f4-4b8c-bdd4-31bff0abc754",
   "metadata": {
    "tags": []
   },
   "outputs": [],
   "source": [
    "import os       # using operating system dependent functionality (folders)\n",
    "import sys\n",
    "\n",
    "import glob\n",
    "\n",
    "import pandas as pd # data analysis and manipulation\n",
    "import numpy as np    # numerical computing (manipulating and performing operations on arrays of data)\n",
    "import matplotlib.pyplot as plt\n",
    "\n",
    "# demo stuff\n",
    "import ipywidgets as widgets\n",
    "import seaborn \n",
    "\n",
    "# ml stuff\n",
    "from sklearn.model_selection import train_test_split\n",
    "from sklearn.preprocessing import StandardScaler\n",
    "from sklearn.svm import SVC\n",
    "from sklearn.metrics import accuracy_score\n",
    "from sklearn.linear_model import LogisticRegression\n",
    "from sklearn.linear_model import LinearRegression\n",
    "from sklearn import linear_model\n",
    "from sklearn import tree\n",
    "from sklearn import metrics\n",
    "from sklearn.linear_model import SGDRegressor\n",
    "from sklearn.metrics import confusion_matrix\n",
    "from sklearn.metrics import mean_absolute_error\n",
    "import joblib\n",
    "\n",
    "sys.path.insert(0, '../') # path to functions\n",
    "import cvasl.seperated as sep\n",
    "from cvasl.file_handler import Config"
   ]
  },
  {
   "cell_type": "code",
   "execution_count": null,
   "id": "32054dc4-f951-4a1e-8a78-d948598287c3",
   "metadata": {
    "tags": []
   },
   "outputs": [],
   "source": [
    "unclean_TOP = pd.read_csv('../open_work/internal_results/top_stitched_conformed.csv ')\n",
    "unclean_StrokeMRI = pd.read_csv('../open_work/internal_results/mri_stitched_conformed.csv')\n",
    "unclean_Insight46 = pd.read_csv('../open_work/internal_results/inisight46_all_stitched_conformed.csv')\n",
    "unclean_SABRE = pd.read_csv('../open_work/internal_results/SABRE_pvc2_stitched_conformed.csv')"
   ]
  },
  {
   "cell_type": "code",
   "execution_count": null,
   "id": "f3b85a2d-aa63-4daa-9e6c-85b070bf3020",
   "metadata": {
    "tags": []
   },
   "outputs": [],
   "source": [
    "unclean_TOP.head(130).tail(50)"
   ]
  },
  {
   "cell_type": "code",
   "execution_count": null,
   "id": "2f82d9f9-43f4-42d5-acc4-92188531fd2a",
   "metadata": {
    "tags": []
   },
   "outputs": [],
   "source": [
    "list_of_parameters = [\n",
    "    'participant_id', \n",
    "    'age',\n",
    "    'sex',\n",
    "    'gm_vol',\n",
    "    'wm_vol',\n",
    "    'csf_vol',\n",
    "    'gm_ivc_ratio',\n",
    "    'gmwm_ivc_ratio',\n",
    "    'wmh_vol',\n",
    "    'wmh_count',\n",
    "    'deepwm_b_cov',\n",
    "    'aca_b_cov',\n",
    "    'mca_b_cov',\n",
    "    'pca_b_cov',\n",
    "    'totalgm_b_cov',\n",
    "    'deepwm_b', # we presume this is cbf, needs a check\n",
    "    'aca_b', # we presume this is cbf, needs a check\n",
    "    'mca_b', # we presume this is cbf, needs a check\n",
    "    'pca_b', # we presume this is cbf, needs a check\n",
    "    'totalgm_b', # we presume this is cbf, needs a check\n",
    "]"
   ]
  },
  {
   "cell_type": "code",
   "execution_count": null,
   "id": "451ddaca-d52b-483c-85bf-fb549107b07f",
   "metadata": {
    "tags": []
   },
   "outputs": [],
   "source": [
    "TOP = unclean_TOP[list_of_parameters]\n",
    "StrokeMRI = unclean_StrokeMRI[list_of_parameters]\n",
    "Insight46 = unclean_Insight46[list_of_parameters]\n",
    "SABRE = unclean_SABRE[list_of_parameters]"
   ]
  },
  {
   "cell_type": "code",
   "execution_count": null,
   "id": "b1ee964e-44f6-432f-a145-d84fef76aaf5",
   "metadata": {
    "tags": []
   },
   "outputs": [],
   "source": [
    "# now let's drop all our NAN rows from each dataframe\n",
    "TOP =   TOP.dropna()\n",
    "StrokeMRI = StrokeMRI.dropna()#\n",
    "Insight46 = Insight46.dropna()#\n",
    "SABRE =  SABRE.dropna()#"
   ]
  },
  {
   "cell_type": "code",
   "execution_count": null,
   "id": "75c00bd9-6799-4f4b-9bf5-5ee92aa6e60f",
   "metadata": {
    "tags": []
   },
   "outputs": [],
   "source": [
    "# now let's drop the two from TOP we know are problematic\n",
    "# subject 239 and 1038\n",
    "TOP.head(450).tail(50)\n",
    "filtered_bad1 = TOP[TOP[\"participant_id\"].str.contains(\"sub-0239_1_ses-1_run-1\")]\n",
    "filtered_bad2 = TOP[TOP[\"participant_id\"].str.contains(\"1038\")]\n",
    "print(filtered_bad1, filtered_bad2)"
   ]
  },
  {
   "cell_type": "code",
   "execution_count": null,
   "id": "dfa9d613-bf43-44d9-aad4-32e99f4e9453",
   "metadata": {
    "tags": []
   },
   "outputs": [],
   "source": [
    "TOP =TOP.drop([87,442])\n"
   ]
  },
  {
   "cell_type": "code",
   "execution_count": null,
   "id": "b5231d94-4a0a-458f-8564-3ca73eba8fa7",
   "metadata": {
    "tags": []
   },
   "outputs": [],
   "source": [
    "# Now we have a clean TOP with sex mapped correctly, we can now look at out datasets for correlations"
   ]
  },
  {
   "cell_type": "code",
   "execution_count": null,
   "id": "b1a75029-a378-4e88-8192-1da3b2de8e7b",
   "metadata": {
    "tags": []
   },
   "outputs": [],
   "source": [
    "## pick and visualize correlations"
   ]
  },
  {
   "cell_type": "code",
   "execution_count": null,
   "id": "25a5ed6d-eef5-4f33-bf91-f0872a732ab2",
   "metadata": {
    "tags": []
   },
   "outputs": [],
   "source": [
    "#our_data = input()"
   ]
  },
  {
   "cell_type": "code",
   "execution_count": null,
   "id": "bbf53219-0819-4600-ba9a-20ebbefb9f8e",
   "metadata": {
    "tags": []
   },
   "outputs": [],
   "source": [
    "features = widgets.SelectMultiple(\n",
    "    options=TOP.columns.tolist(),\n",
    "    value=['gm_vol'],\n",
    "    #rows=10,\n",
    "    description='Features',\n",
    "    disabled=False\n",
    ")\n",
    "features"
   ]
  },
  {
   "cell_type": "code",
   "execution_count": null,
   "id": "471e500d-d888-40c0-b8a0-c4628c7d64dd",
   "metadata": {
    "tags": []
   },
   "outputs": [],
   "source": [
    "features_list = list(features.value)\n",
    "\n",
    "features_list\n"
   ]
  },
  {
   "cell_type": "markdown",
   "id": "96dfa0a1-9c4f-41b4-a6e9-4eb7e51362b4",
   "metadata": {},
   "source": [
    "## Note you can also just hard-code in your picked features\n",
    "\n",
    "['gm_vol', 'wm_vol', 'csf_vol', 'gm_ivc_ratio', 'gmwm_ivc_ratio', 'wmh_vol']\n",
    "gives a pretty good result"
   ]
  },
  {
   "cell_type": "code",
   "execution_count": null,
   "id": "cc796400-7fdf-47e7-90d9-23335db5b912",
   "metadata": {
    "tags": []
   },
   "outputs": [],
   "source": [
    "# now choose a label\n",
    "label = widgets.Dropdown(\n",
    "    options= TOP.columns.tolist(),# our_data.columns.tolist(),\n",
    "    value='age',\n",
    "    #rows=10,\n",
    "    description='label',\n",
    "    disabled=False\n",
    ")\n",
    "label"
   ]
  },
  {
   "cell_type": "code",
   "execution_count": null,
   "id": "8c10a494-1cf9-4c3b-8f42-8b63892c03e4",
   "metadata": {
    "tags": []
   },
   "outputs": [],
   "source": [
    "x_column = [label.value]\n",
    "full_matrix = features_list + x_column"
   ]
  },
  {
   "cell_type": "code",
   "execution_count": null,
   "id": "dae134bf-9d3d-41ec-bf45-db1751789a23",
   "metadata": {
    "tags": []
   },
   "outputs": [],
   "source": [
    "TOP[full_matrix]"
   ]
  },
  {
   "cell_type": "markdown",
   "id": "fb2882a7-7462-4a7c-a1d8-088ef5c69acc",
   "metadata": {},
   "source": [
    "Note: pandas will default correlation method to ='pearson'. Needs discussion with scientsts if other correlation is better. Types kendall and spearman are avalable.\n",
    "\n"
   ]
  },
  {
   "cell_type": "code",
   "execution_count": null,
   "id": "8bc833c0-dd1b-4431-8c52-190640653ec1",
   "metadata": {
    "tags": []
   },
   "outputs": [],
   "source": [
    "# Now we need to flip the sex back to numbers for a correlation\n",
    "sex_mapping = {'F':0,'M':1}\n",
    "TOP = TOP.assign(sex = TOP.sex.map(sex_mapping))\n",
    "TOP"
   ]
  },
  {
   "cell_type": "code",
   "execution_count": null,
   "id": "777274fe-548f-4720-8588-15054cc784f0",
   "metadata": {
    "tags": []
   },
   "outputs": [],
   "source": [
    "%matplotlib inline\n",
    "seaborn.heatmap(TOP[full_matrix].corr(), annot = True)"
   ]
  },
  {
   "cell_type": "markdown",
   "id": "46938b2e-1946-4d03-a379-7183d32062f4",
   "metadata": {},
   "source": [
    "# Now a lot of exciting correlations with everything.. \n",
    "Not everything correlates well but we see age correlations with GM volume, and negatively\n",
    "This is what we would expect"
   ]
  },
  {
   "cell_type": "code",
   "execution_count": null,
   "id": "5c96a7f2-8e31-4037-8631-62120ac39eca",
   "metadata": {
    "tags": []
   },
   "outputs": [],
   "source": [
    "ml_matrix = TOP[full_matrix]"
   ]
  },
  {
   "cell_type": "code",
   "execution_count": null,
   "id": "e470948c-c09d-4595-a41e-5158193c8616",
   "metadata": {
    "tags": []
   },
   "outputs": [],
   "source": [
    "ml_matrix"
   ]
  },
  {
   "cell_type": "code",
   "execution_count": null,
   "id": "56cf8da3-683e-4564-8104-33c41e0b4197",
   "metadata": {
    "tags": []
   },
   "outputs": [],
   "source": [
    "X = ml_matrix.drop('age', axis =1)\n",
    "X = X.values\n",
    "X = X.astype('float')"
   ]
  },
  {
   "cell_type": "code",
   "execution_count": null,
   "id": "0d938ee5-b0ab-4f09-8fbd-7cd7058a00e0",
   "metadata": {
    "tags": []
   },
   "outputs": [],
   "source": [
    "y = ml_matrix['age'].values\n",
    "y=y.astype('float')\n"
   ]
  },
  {
   "cell_type": "code",
   "execution_count": null,
   "id": "c80d0d2f-9e56-4c0b-b653-35b537d2a84f",
   "metadata": {
    "tags": []
   },
   "outputs": [],
   "source": [
    "X_train, X_test, y_train, y_test = train_test_split(X, y, test_size=0.2, random_state=42)"
   ]
  },
  {
   "cell_type": "code",
   "execution_count": null,
   "id": "7035ed19-814d-4509-b496-e829787ff45d",
   "metadata": {
    "tags": []
   },
   "outputs": [],
   "source": [
    "X_train.shape"
   ]
  },
  {
   "cell_type": "code",
   "execution_count": null,
   "id": "8be5b18e-ab0d-44c8-bb8b-cde81409810b",
   "metadata": {
    "tags": []
   },
   "outputs": [],
   "source": [
    "# scale\n",
    "sc = StandardScaler()\n",
    "sc.fit(X_train)\n",
    "X_train = sc.transform(X_train)\n",
    "X_test = sc.transform(X_test)"
   ]
  },
  {
   "cell_type": "code",
   "execution_count": null,
   "id": "9eac3a06-f0f8-4a85-b8cf-b422fd743e37",
   "metadata": {
    "tags": []
   },
   "outputs": [],
   "source": [
    "# Maybe we want a drop down to pick the algorithm?"
   ]
  },
  {
   "cell_type": "code",
   "execution_count": null,
   "id": "6814be76-3400-42a8-b4fa-cd67b9fc04ae",
   "metadata": {
    "tags": []
   },
   "outputs": [],
   "source": [
    "linr = LinearRegression()\n",
    "linr.fit(X_train, y_train)"
   ]
  },
  {
   "cell_type": "code",
   "execution_count": null,
   "id": "ea2da28f-2551-413d-bd80-4b52f4c6e4f5",
   "metadata": {
    "tags": []
   },
   "outputs": [],
   "source": [
    "y_pred = linr.predict(X_test)"
   ]
  },
  {
   "cell_type": "code",
   "execution_count": null,
   "id": "b57f4e15-0798-46d1-ac62-84446518340c",
   "metadata": {
    "tags": []
   },
   "outputs": [],
   "source": [
    "print('R2 score Linear regression: %.3f' % linr.score(X_test,y_test))\n",
    "print('Explained variance score: %.3f'  % metrics.explained_variance_score(y_test, y_pred))"
   ]
  },
  {
   "cell_type": "code",
   "execution_count": null,
   "id": "4502d715-cc64-4d8c-935b-aff5892534a9",
   "metadata": {
    "tags": []
   },
   "outputs": [],
   "source": [
    "y_pred"
   ]
  },
  {
   "cell_type": "code",
   "execution_count": null,
   "id": "4406e354-1998-4071-94ae-470fa633d59b",
   "metadata": {
    "tags": []
   },
   "outputs": [],
   "source": [
    "y_test"
   ]
  },
  {
   "cell_type": "code",
   "execution_count": null,
   "id": "7d08dd64-f7a6-4e67-8ade-a7043f1846c6",
   "metadata": {
    "tags": []
   },
   "outputs": [],
   "source": [
    "mean_absolute_error(y_test, y_pred)"
   ]
  },
  {
   "cell_type": "markdown",
   "id": "5a46ea8a-d12f-4941-b643-8cfe2b547007",
   "metadata": {},
   "source": [
    "## So why not just train on all features and see if it is better"
   ]
  },
  {
   "cell_type": "code",
   "execution_count": null,
   "id": "fab0eddd-f608-4427-a1b4-ed645e2557aa",
   "metadata": {
    "tags": []
   },
   "outputs": [],
   "source": []
  },
  {
   "cell_type": "code",
   "execution_count": null,
   "id": "c5d75dff-818a-4ef2-acb9-857538f6a847",
   "metadata": {},
   "outputs": [],
   "source": []
  },
  {
   "cell_type": "code",
   "execution_count": null,
   "id": "79f753cf-a4dd-4940-937f-1db63251207e",
   "metadata": {
    "tags": []
   },
   "outputs": [],
   "source": [
    "ml_matrix = TOP.drop('participant_id', axis=1)\n",
    "X = ml_matrix.drop('age', axis =1)\n",
    "X = X.values\n",
    "X = X.astype('float')"
   ]
  },
  {
   "cell_type": "code",
   "execution_count": null,
   "id": "c6b3ffbe-7923-4d50-ab9a-96edb111d51f",
   "metadata": {
    "tags": []
   },
   "outputs": [],
   "source": []
  },
  {
   "cell_type": "code",
   "execution_count": null,
   "id": "5f6bac40-e980-4be2-86b7-389258014280",
   "metadata": {
    "tags": []
   },
   "outputs": [],
   "source": [
    "y = ml_matrix['age'].values\n",
    "y=y.astype('float')\n"
   ]
  },
  {
   "cell_type": "code",
   "execution_count": null,
   "id": "5d366a29-c184-4e41-b534-dbfa2d773002",
   "metadata": {
    "tags": []
   },
   "outputs": [],
   "source": [
    "X_train, X_test, y_train, y_test = train_test_split(X, y, test_size=0.2, random_state=42)"
   ]
  },
  {
   "cell_type": "code",
   "execution_count": null,
   "id": "e0dfa18c-7676-40bd-a950-d8ca2a816c01",
   "metadata": {
    "tags": []
   },
   "outputs": [],
   "source": [
    "# scale\n",
    "sc = StandardScaler()\n",
    "sc.fit(X_train)\n",
    "X_train = sc.transform(X_train)\n",
    "X_test = sc.transform(X_test)"
   ]
  },
  {
   "cell_type": "code",
   "execution_count": null,
   "id": "33a2de86-728a-4a5f-b830-c2fbac22dd36",
   "metadata": {
    "tags": []
   },
   "outputs": [],
   "source": [
    "linr = LinearRegression()\n",
    "linr.fit(X_train, y_train)"
   ]
  },
  {
   "cell_type": "code",
   "execution_count": null,
   "id": "140d0f35-2957-4b0d-a652-bd0950ea8a86",
   "metadata": {
    "tags": []
   },
   "outputs": [],
   "source": [
    "y_pred = linr.predict(X_test)"
   ]
  },
  {
   "cell_type": "code",
   "execution_count": null,
   "id": "f28f8089-200c-4b9d-a2bb-a63579824f0a",
   "metadata": {
    "tags": []
   },
   "outputs": [],
   "source": [
    "print('R2 score Linear regression: %.3f' % linr.score(X_test,y_test))\n",
    "print('Explained variance score: %.3f'  % metrics.explained_variance_score(y_test, y_pred))\n",
    "print('The mean absolute error: %.3f' % mean_absolute_error(y_test, y_pred))"
   ]
  },
  {
   "cell_type": "markdown",
   "id": "ff2275dd-5a52-47a0-b8ec-bd0c3ad21b4b",
   "metadata": {
    "tags": []
   },
   "source": [
    "# So now we have our simple baseline model, and we can save it and apply to the other datasets"
   ]
  },
  {
   "cell_type": "code",
   "execution_count": null,
   "id": "d4f56c5b-16ff-4302-b628-6f4d5b113369",
   "metadata": {
    "tags": []
   },
   "outputs": [],
   "source": [
    "saving =widgets.ToggleButton(\n",
    "    value=False,\n",
    "    description='Click me to save model',\n",
    "    disabled=False,\n",
    "    button_style='success', #\n",
    "    tooltip='Description',\n",
    "    icon='check' # \n",
    ")\n",
    "\n",
    "saving"
   ]
  },
  {
   "cell_type": "code",
   "execution_count": null,
   "id": "144ff397-4f67-4ae7-ab0e-5c72817c446e",
   "metadata": {
    "tags": []
   },
   "outputs": [],
   "source": [
    "if saving.value:\n",
    "    print('You need to name your file, then hit enter')\n",
    "    file_given_name = input()\n",
    "    "
   ]
  },
  {
   "cell_type": "code",
   "execution_count": null,
   "id": "a386a498-05d3-4ac4-8e9d-9fa41d793855",
   "metadata": {
    "tags": []
   },
   "outputs": [],
   "source": [
    "# check if model folder exists and if not , then create\n",
    "model_folder = '../result_models/'\n",
    "if not os.path.exists(model_folder):\n",
    "    os.makedirs(model_folder)"
   ]
  },
  {
   "cell_type": "code",
   "execution_count": null,
   "id": "35c5a967-3134-4522-9902-27036f62ad31",
   "metadata": {
    "tags": []
   },
   "outputs": [],
   "source": [
    "# save off file\n",
    "joblib.dump(linr, ('../result_models/'+file_given_name+ '.sav'))\n",
    "    "
   ]
  },
  {
   "cell_type": "markdown",
   "id": "ae2a8813-ce46-4d34-91b3-acd9752cc065",
   "metadata": {},
   "source": [
    "Baseline model was at '../result_models/TOP_based_lr.sav'\n",
    "R2 score Linear regression: 0.576\n",
    "Explained variance score: 0.577\n",
    "The mean absolute error: 5.181"
   ]
  },
  {
   "cell_type": "code",
   "execution_count": null,
   "id": "b91b329e-5f2d-4b08-abc6-a6af35e0510d",
   "metadata": {},
   "outputs": [],
   "source": [
    "# Logistic regressio means we need to map to ints at a minimal, but this is a bad algorithm choice"
   ]
  },
  {
   "cell_type": "code",
   "execution_count": null,
   "id": "0d75211d-e65c-47c7-845d-e8cc53a0d52d",
   "metadata": {
    "tags": []
   },
   "outputs": [],
   "source": []
  },
  {
   "cell_type": "code",
   "execution_count": null,
   "id": "47eed077-e64c-4588-a3e4-e92e182fe857",
   "metadata": {},
   "outputs": [],
   "source": []
  }
 ],
 "metadata": {
  "kernelspec": {
   "display_name": "Python 3 (ipykernel)",
   "language": "python",
   "name": "python3"
  },
  "language_info": {
   "codemirror_mode": {
    "name": "ipython",
    "version": 3
   },
   "file_extension": ".py",
   "mimetype": "text/x-python",
   "name": "python",
   "nbconvert_exporter": "python",
   "pygments_lexer": "ipython3",
   "version": "3.9.18"
  }
 },
 "nbformat": 4,
 "nbformat_minor": 5
}
