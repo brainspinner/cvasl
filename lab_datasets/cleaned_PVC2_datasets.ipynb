{
 "cells": [
  {
   "cell_type": "markdown",
   "id": "7525a520-cad3-46c1-b4eb-418b6c2ee552",
   "metadata": {},
   "source": [
    "# Clean PVC2 datasets\n",
    "\n",
    "This notebooks takes the TOP, Stroke MRI, Insight 46 and SABRE datasets, and cleans them down to the relavant parameters for an ML model using only corrected ASL values.\n",
    "\n",
    "Then we show some preliminary correlations and ML"
   ]
  },
  {
   "cell_type": "code",
   "execution_count": null,
   "id": "53bc6094-59f4-4b8c-bdd4-31bff0abc754",
   "metadata": {
    "tags": []
   },
   "outputs": [],
   "source": [
    "import os       # using operating system dependent functionality (folders)\n",
    "import sys\n",
    "\n",
    "import glob\n",
    "\n",
    "import pandas as pd # data analysis and manipulation\n",
    "import numpy as np    # numerical computing (manipulating and performing operations on arrays of data)\n",
    "import matplotlib.pyplot as plt\n",
    "\n",
    "# demo stuff\n",
    "import ipywidgets as widgets\n",
    "import seaborn \n",
    "\n",
    "# ml stuff\n",
    "from sklearn.model_selection import train_test_split\n",
    "from sklearn.preprocessing import StandardScaler\n",
    "from sklearn.svm import SVC\n",
    "from sklearn.metrics import accuracy_score\n",
    "from sklearn.linear_model import LogisticRegression\n",
    "from sklearn.linear_model import LinearRegression\n",
    "from sklearn import linear_model\n",
    "from sklearn import tree\n",
    "from sklearn import metrics\n",
    "from sklearn.linear_model import SGDRegressor\n",
    "from sklearn.metrics import confusion_matrix\n",
    "from sklearn.metrics import mean_absolute_error\n",
    "import joblib\n",
    "\n",
    "sys.path.insert(0, '../') # path to functions\n",
    "import cvasl.seperated as sep\n",
    "from cvasl.file_handler import Config"
   ]
  },
  {
   "cell_type": "code",
   "execution_count": null,
   "id": "32054dc4-f951-4a1e-8a78-d948598287c3",
   "metadata": {
    "tags": []
   },
   "outputs": [],
   "source": [
    "unclean_TOP = pd.read_csv('../open_work/internal_results/top_stitched_conformed.csv ')\n",
    "unclean_StrokeMRI = pd.read_csv('../open_work/internal_results/mri_stitched_conformed.csv')\n",
    "unclean_Insight46 = pd.read_csv('../open_work/internal_results/inisight46_all_stitched_conformed.csv')\n",
    "unclean_SABRE = pd.read_csv('../open_work/internal_results/SABRE_pvc2_stitched_conformed.csv')"
   ]
  },
  {
   "cell_type": "code",
   "execution_count": null,
   "id": "93e555ac-3662-4477-9b93-d87f443646bd",
   "metadata": {
    "tags": []
   },
   "outputs": [],
   "source": [
    "len(unclean_Insight46)"
   ]
  },
  {
   "cell_type": "code",
   "execution_count": null,
   "id": "f3b85a2d-aa63-4daa-9e6c-85b070bf3020",
   "metadata": {
    "tags": []
   },
   "outputs": [],
   "source": [
    "unclean_TOP.head(130).tail(50)"
   ]
  },
  {
   "cell_type": "code",
   "execution_count": null,
   "id": "2f82d9f9-43f4-42d5-acc4-92188531fd2a",
   "metadata": {
    "tags": []
   },
   "outputs": [],
   "source": [
    "list_of_parameters = [\n",
    "    'participant_id', \n",
    "    'age',\n",
    "    'sex',\n",
    "    'gm_vol',\n",
    "    'wm_vol',\n",
    "    'csf_vol',\n",
    "    'gm_ivc_ratio',\n",
    "    'gmwm_ivc_ratio',\n",
    "    'wmh_vol',\n",
    "    'wmh_count',\n",
    "    'deepwm_b_cov',\n",
    "    'aca_b_cov',\n",
    "    'mca_b_cov',\n",
    "    'pca_b_cov',\n",
    "    'totalgm_b_cov',\n",
    "    'deepwm_b', # we presume this is cbf, needs a check\n",
    "    'aca_b', # we presume this is cbf, needs a check\n",
    "    'mca_b', # we presume this is cbf, needs a check\n",
    "    'pca_b', # we presume this is cbf, needs a check\n",
    "    'totalgm_b', # we presume this is cbf, needs a check\n",
    "]"
   ]
  },
  {
   "cell_type": "code",
   "execution_count": null,
   "id": "451ddaca-d52b-483c-85bf-fb549107b07f",
   "metadata": {
    "tags": []
   },
   "outputs": [],
   "source": [
    "TOP = unclean_TOP[list_of_parameters]\n",
    "StrokeMRI = unclean_StrokeMRI[list_of_parameters]\n",
    "Insight46 = unclean_Insight46[list_of_parameters]\n",
    "SABRE = unclean_SABRE[list_of_parameters]"
   ]
  },
  {
   "cell_type": "code",
   "execution_count": null,
   "id": "b1ee964e-44f6-432f-a145-d84fef76aaf5",
   "metadata": {
    "tags": []
   },
   "outputs": [],
   "source": [
    "# now let's drop all our NAN rows from each dataframe\n",
    "TOP =   TOP.dropna()\n",
    "StrokeMRI = StrokeMRI.dropna()#\n",
    "Insight46 = Insight46.dropna()#\n",
    "SABRE =  SABRE.dropna()#"
   ]
  },
  {
   "cell_type": "code",
   "execution_count": null,
   "id": "75c00bd9-6799-4f4b-9bf5-5ee92aa6e60f",
   "metadata": {
    "tags": []
   },
   "outputs": [],
   "source": [
    "# now let's drop the two from TOP we know are problematic\n",
    "# subject 239 and 1038\n",
    "TOP.head(450).tail(50)\n",
    "filtered_bad1 = TOP[TOP[\"participant_id\"].str.contains(\"sub-0239_1_ses-1_run-1\")]\n",
    "filtered_bad2 = TOP[TOP[\"participant_id\"].str.contains(\"1038\")]\n",
    "print(filtered_bad1, filtered_bad2)"
   ]
  },
  {
   "cell_type": "code",
   "execution_count": null,
   "id": "dfa9d613-bf43-44d9-aad4-32e99f4e9453",
   "metadata": {
    "tags": []
   },
   "outputs": [],
   "source": [
    "TOP =TOP.drop([87,442])\n"
   ]
  },
  {
   "cell_type": "code",
   "execution_count": null,
   "id": "a40fc4f5-a130-463c-90b8-c8bf688e0e41",
   "metadata": {
    "tags": []
   },
   "outputs": [],
   "source": [
    "# now we will clean the strokeMRI dataset\n",
    "#StrokeMRI.head(450).tail(50)\n",
    "\n",
    "filtered_bad_mri = StrokeMRI[StrokeMRI[\"participant_id\"].str.contains(\"59365\")]\n",
    "print(filtered_bad_mri)"
   ]
  },
  {
   "cell_type": "code",
   "execution_count": null,
   "id": "56eb3f28-8522-47b6-a77a-96ac37b4e0bf",
   "metadata": {
    "tags": []
   },
   "outputs": [],
   "source": [
    "StrokeMRI =StrokeMRI.drop([470,471])"
   ]
  },
  {
   "cell_type": "code",
   "execution_count": null,
   "id": "fd3b2399-acd1-4134-9040-98b3f05f9d33",
   "metadata": {
    "tags": []
   },
   "outputs": [],
   "source": [
    "# TOP = TOP.drop(TOP.columns[0],axis=1)\n",
    "# StrokeMRI =StrokeMRI.drop(StrokeMRI.columns[0],axis=1)"
   ]
  },
  {
   "cell_type": "code",
   "execution_count": null,
   "id": "579905eb-126f-4f75-a24e-1d85a1ddc109",
   "metadata": {
    "tags": []
   },
   "outputs": [],
   "source": [
    "TOP"
   ]
  },
  {
   "cell_type": "code",
   "execution_count": null,
   "id": "b256af0b-3743-4486-b3b7-40845827bc07",
   "metadata": {
    "tags": []
   },
   "outputs": [],
   "source": [
    "# for f in SABRE.participant_id:\n",
    "#     print(f)"
   ]
  },
  {
   "cell_type": "code",
   "execution_count": null,
   "id": "7786dc31-3aca-48e7-bf88-aee620145778",
   "metadata": {
    "tags": []
   },
   "outputs": [],
   "source": []
  },
  {
   "cell_type": "code",
   "execution_count": null,
   "id": "8e437fa5-7c6b-43d8-a97f-2772df62c830",
   "metadata": {
    "tags": []
   },
   "outputs": [],
   "source": [
    "filtered_bad_sabre = SABRE[SABRE[\"participant_id\"].str.contains( \"180106|164058|24646|501418|600137|502441|265542|225223|95329|68503|34935|229151|501636|500904|373519|256870|24328|234940|2341\")]\n",
    "print(filtered_bad_sabre)"
   ]
  },
  {
   "cell_type": "code",
   "execution_count": null,
   "id": "f2820434-a59b-4151-9e43-84a90a3849a0",
   "metadata": {
    "tags": []
   },
   "outputs": [],
   "source": [
    "SABRE = SABRE.drop(list(filtered_bad_sabre.index))\n",
    "#SABRE.tail(600).head(10)"
   ]
  },
  {
   "cell_type": "markdown",
   "id": "affbdf29-7375-47f4-ae50-4f6f64461a5f",
   "metadata": {
    "tags": []
   },
   "source": [
    "## Now we have a clean TOP and StrokeMRI with sex mapped correctly, we can now look at out datasets for correlations;\n",
    "\n",
    "let's save off the PVC2 files "
   ]
  },
  {
   "cell_type": "code",
   "execution_count": null,
   "id": "f5de5462-4a09-42ed-9229-b32910e3a26b",
   "metadata": {
    "tags": []
   },
   "outputs": [],
   "source": [
    "# filepath = '../open_work/internal_results/cleaned_pvc2s/' \n",
    "# filename = os.path.join(filepath,'SABRE_pvc2_cleaned.csv') \n",
    "# if not os.path.exists(filepath):\n",
    "#     # if filder doesn't exist, create it\n",
    "#     os.makedirs(filepath)\n",
    "# SABRE.to_csv(filename)  "
   ]
  },
  {
   "cell_type": "code",
   "execution_count": null,
   "id": "03a94651-d19c-4bb9-931a-26454b6c42ed",
   "metadata": {
    "tags": []
   },
   "outputs": [],
   "source": [
    "# filepath = '../open_work/internal_results/cleaned_pvc2s/' \n",
    "# filename = os.path.join(filepath,'Insight46_pvc2c.csv') \n",
    "# if not os.path.exists(filepath):\n",
    "#     # if filder doesn't exist, create it\n",
    "#     os.makedirs(filepath)\n",
    "# Insight46.to_csv(filename)  "
   ]
  },
  {
   "cell_type": "code",
   "execution_count": null,
   "id": "60f53e68-4e15-4d94-862c-ebc6ed2f44fd",
   "metadata": {
    "tags": []
   },
   "outputs": [],
   "source": [
    "# filepath = '../open_work/internal_results/cleaned_pvc2s/' \n",
    "# filename = os.path.join(filepath,'TOP_pvc2c.csv') \n",
    "# if not os.path.exists(filepath):\n",
    "#     # if filder doesn't exist, create it\n",
    "#     os.makedirs(filepath)\n",
    "# TOP.to_csv(filename)  "
   ]
  },
  {
   "cell_type": "code",
   "execution_count": null,
   "id": "a16be38d-4310-45cf-ae84-a947b9296887",
   "metadata": {
    "tags": []
   },
   "outputs": [],
   "source": [
    "# filepath = '../open_work/internal_results/cleaned_pvc2s/' \n",
    "# filename = os.path.join(filepath,'StrokeMRI_pvc2c.csv') \n",
    "# if not os.path.exists(filepath):\n",
    "#     # if filder doesn't exist, create it\n",
    "#     os.makedirs(filepath)\n",
    "# StrokeMRI.to_csv(filename)  "
   ]
  },
  {
   "cell_type": "markdown",
   "id": "76991147-c485-437e-82e7-78324c9c8d95",
   "metadata": {
    "tags": []
   },
   "source": [
    "## pick and visualize correlations"
   ]
  },
  {
   "cell_type": "code",
   "execution_count": null,
   "id": "25a5ed6d-eef5-4f33-bf91-f0872a732ab2",
   "metadata": {
    "tags": []
   },
   "outputs": [],
   "source": [
    "#our_data = input()"
   ]
  },
  {
   "cell_type": "code",
   "execution_count": null,
   "id": "bbf53219-0819-4600-ba9a-20ebbefb9f8e",
   "metadata": {
    "tags": []
   },
   "outputs": [],
   "source": [
    "features = widgets.SelectMultiple(\n",
    "    options=TOP.columns.tolist(),\n",
    "    value=['gm_vol'],\n",
    "    #rows=10,\n",
    "    description='Features',\n",
    "    disabled=False\n",
    ")\n",
    "features"
   ]
  },
  {
   "cell_type": "code",
   "execution_count": null,
   "id": "471e500d-d888-40c0-b8a0-c4628c7d64dd",
   "metadata": {
    "tags": []
   },
   "outputs": [],
   "source": [
    "features_list = list(features.value)\n",
    "\n",
    "features_list\n"
   ]
  },
  {
   "cell_type": "markdown",
   "id": "96dfa0a1-9c4f-41b4-a6e9-4eb7e51362b4",
   "metadata": {},
   "source": [
    "## Note you can also just hard-code in your picked features\n",
    "\n",
    "['gm_vol', 'wm_vol', 'csf_vol', 'gm_ivc_ratio', 'gmwm_ivc_ratio', 'wmh_vol']\n",
    "gives a pretty good result"
   ]
  },
  {
   "cell_type": "code",
   "execution_count": null,
   "id": "cc796400-7fdf-47e7-90d9-23335db5b912",
   "metadata": {
    "tags": []
   },
   "outputs": [],
   "source": [
    "# now choose a label\n",
    "label = widgets.Dropdown(\n",
    "    options= TOP.columns.tolist(),# our_data.columns.tolist(),\n",
    "    value='age',\n",
    "    #rows=10,\n",
    "    description='label',\n",
    "    disabled=False\n",
    ")\n",
    "label"
   ]
  },
  {
   "cell_type": "code",
   "execution_count": null,
   "id": "8c10a494-1cf9-4c3b-8f42-8b63892c03e4",
   "metadata": {
    "tags": []
   },
   "outputs": [],
   "source": [
    "x_column = [label.value]\n",
    "full_matrix = features_list + x_column"
   ]
  },
  {
   "cell_type": "code",
   "execution_count": null,
   "id": "dae134bf-9d3d-41ec-bf45-db1751789a23",
   "metadata": {
    "tags": []
   },
   "outputs": [],
   "source": [
    "TOP[full_matrix]"
   ]
  },
  {
   "cell_type": "markdown",
   "id": "fb2882a7-7462-4a7c-a1d8-088ef5c69acc",
   "metadata": {},
   "source": [
    "Note: pandas will default correlation method to ='pearson'. Needs discussion with scientsts if other correlation is better. Types kendall and spearman are avalable.\n",
    "\n"
   ]
  },
  {
   "cell_type": "code",
   "execution_count": null,
   "id": "8bc833c0-dd1b-4431-8c52-190640653ec1",
   "metadata": {
    "tags": []
   },
   "outputs": [],
   "source": [
    "# Now we need to flip the sex back to numbers for a correlation\n",
    "sex_mapping = {'F':0,'M':1}\n",
    "TOP = TOP.assign(sex = TOP.sex.map(sex_mapping))\n",
    "TOP"
   ]
  },
  {
   "cell_type": "code",
   "execution_count": null,
   "id": "777274fe-548f-4720-8588-15054cc784f0",
   "metadata": {
    "tags": []
   },
   "outputs": [],
   "source": [
    "%matplotlib inline\n",
    "seaborn.heatmap(TOP[full_matrix].corr(), annot = True)"
   ]
  },
  {
   "cell_type": "markdown",
   "id": "46938b2e-1946-4d03-a379-7183d32062f4",
   "metadata": {},
   "source": [
    "# Now a lot of exciting correlations with everything.. \n",
    "Not everything correlates well but we see age correlations with GM volume, and negatively\n",
    "This is what we would expect"
   ]
  },
  {
   "cell_type": "code",
   "execution_count": null,
   "id": "5c96a7f2-8e31-4037-8631-62120ac39eca",
   "metadata": {
    "tags": []
   },
   "outputs": [],
   "source": [
    "ml_matrix = TOP[full_matrix]"
   ]
  },
  {
   "cell_type": "code",
   "execution_count": null,
   "id": "e470948c-c09d-4595-a41e-5158193c8616",
   "metadata": {
    "tags": []
   },
   "outputs": [],
   "source": [
    "ml_matrix"
   ]
  },
  {
   "cell_type": "code",
   "execution_count": null,
   "id": "56cf8da3-683e-4564-8104-33c41e0b4197",
   "metadata": {
    "tags": []
   },
   "outputs": [],
   "source": [
    "X = ml_matrix.drop('age', axis =1)\n",
    "X = X.values\n",
    "X = X.astype('float')"
   ]
  },
  {
   "cell_type": "code",
   "execution_count": null,
   "id": "0d938ee5-b0ab-4f09-8fbd-7cd7058a00e0",
   "metadata": {
    "tags": []
   },
   "outputs": [],
   "source": [
    "y = ml_matrix['age'].values\n",
    "y=y.astype('float')\n"
   ]
  },
  {
   "cell_type": "code",
   "execution_count": null,
   "id": "c80d0d2f-9e56-4c0b-b653-35b537d2a84f",
   "metadata": {
    "tags": []
   },
   "outputs": [],
   "source": [
    "X_train, X_test, y_train, y_test = train_test_split(X, y, test_size=0.25, random_state=12)"
   ]
  },
  {
   "cell_type": "code",
   "execution_count": null,
   "id": "7035ed19-814d-4509-b496-e829787ff45d",
   "metadata": {
    "tags": []
   },
   "outputs": [],
   "source": [
    "X_train.shape"
   ]
  },
  {
   "cell_type": "code",
   "execution_count": null,
   "id": "8be5b18e-ab0d-44c8-bb8b-cde81409810b",
   "metadata": {
    "tags": []
   },
   "outputs": [],
   "source": [
    "# # scale\n",
    "# sc = StandardScaler()\n",
    "# sc.fit(X_train)\n",
    "# X_train = sc.transform(X_train)\n",
    "# X_test = sc.transform(X_test)"
   ]
  },
  {
   "cell_type": "code",
   "execution_count": null,
   "id": "9eac3a06-f0f8-4a85-b8cf-b422fd743e37",
   "metadata": {
    "tags": []
   },
   "outputs": [],
   "source": [
    "# Maybe we want a drop down to pick the algorithm?"
   ]
  },
  {
   "cell_type": "code",
   "execution_count": null,
   "id": "6814be76-3400-42a8-b4fa-cd67b9fc04ae",
   "metadata": {
    "tags": []
   },
   "outputs": [],
   "source": [
    "linr = LinearRegression()\n",
    "linr.fit(X_train, y_train)"
   ]
  },
  {
   "cell_type": "code",
   "execution_count": null,
   "id": "ea2da28f-2551-413d-bd80-4b52f4c6e4f5",
   "metadata": {
    "tags": []
   },
   "outputs": [],
   "source": [
    "y_pred = linr.predict(X_test)"
   ]
  },
  {
   "cell_type": "code",
   "execution_count": null,
   "id": "b57f4e15-0798-46d1-ac62-84446518340c",
   "metadata": {
    "tags": []
   },
   "outputs": [],
   "source": [
    "print('R2 score Linear regression: %.3f' % linr.score(X_test,y_test))\n",
    "print('Explained variance score: %.3f'  % metrics.explained_variance_score(y_test, y_pred))\n",
    "print('MAE: % .3f' % mean_absolute_error(y_test, y_pred))"
   ]
  },
  {
   "cell_type": "code",
   "execution_count": null,
   "id": "4502d715-cc64-4d8c-935b-aff5892534a9",
   "metadata": {
    "tags": []
   },
   "outputs": [],
   "source": [
    "#y_pred"
   ]
  },
  {
   "cell_type": "code",
   "execution_count": null,
   "id": "4406e354-1998-4071-94ae-470fa633d59b",
   "metadata": {
    "tags": []
   },
   "outputs": [],
   "source": [
    "#y_test"
   ]
  },
  {
   "cell_type": "code",
   "execution_count": null,
   "id": "a965e495-f225-4b9b-b442-06fe6711e11d",
   "metadata": {
    "tags": []
   },
   "outputs": [],
   "source": []
  },
  {
   "cell_type": "code",
   "execution_count": null,
   "id": "6c28c728-aa71-4c31-b258-07d752a5e6e3",
   "metadata": {
    "tags": []
   },
   "outputs": [],
   "source": [
    "plt.figure(figsize=(10,10))\n",
    "plt.scatter(y_test, y_pred, c='crimson')\n",
    "plt.yscale('log')\n",
    "plt.xscale('log')\n",
    "\n",
    "p1 = max(max(y_pred), max(y_test))\n",
    "p2 = min(min(y_pred), min(y_test))\n",
    "plt.plot([p1, p2], [p1, p2], 'b-')\n",
    "plt.xlabel('True Values', fontsize=15)\n",
    "plt.ylabel('Predictions', fontsize=15)\n",
    "plt.axis('equal')\n",
    "plt.show()"
   ]
  },
  {
   "cell_type": "markdown",
   "id": "5a46ea8a-d12f-4941-b643-8cfe2b547007",
   "metadata": {},
   "source": [
    "## So why not just train on all features and see if it is better"
   ]
  },
  {
   "cell_type": "code",
   "execution_count": null,
   "id": "fab0eddd-f608-4427-a1b4-ed645e2557aa",
   "metadata": {
    "tags": []
   },
   "outputs": [],
   "source": []
  },
  {
   "cell_type": "code",
   "execution_count": null,
   "id": "c5d75dff-818a-4ef2-acb9-857538f6a847",
   "metadata": {},
   "outputs": [],
   "source": []
  },
  {
   "cell_type": "code",
   "execution_count": null,
   "id": "79f753cf-a4dd-4940-937f-1db63251207e",
   "metadata": {
    "tags": []
   },
   "outputs": [],
   "source": [
    "ml_matrix = TOP.drop('participant_id', axis=1)\n",
    "X = ml_matrix.drop('age', axis =1)\n",
    "X = X.values\n",
    "X = X.astype('float')"
   ]
  },
  {
   "cell_type": "code",
   "execution_count": null,
   "id": "c6b3ffbe-7923-4d50-ab9a-96edb111d51f",
   "metadata": {
    "tags": []
   },
   "outputs": [],
   "source": []
  },
  {
   "cell_type": "code",
   "execution_count": null,
   "id": "5f6bac40-e980-4be2-86b7-389258014280",
   "metadata": {
    "tags": []
   },
   "outputs": [],
   "source": [
    "y = ml_matrix['age'].values\n",
    "y=y.astype('float')\n"
   ]
  },
  {
   "cell_type": "code",
   "execution_count": null,
   "id": "5d366a29-c184-4e41-b534-dbfa2d773002",
   "metadata": {
    "tags": []
   },
   "outputs": [],
   "source": [
    "X_train, X_test, y_train, y_test = train_test_split(X, y, test_size=0.25, random_state=12)"
   ]
  },
  {
   "cell_type": "code",
   "execution_count": null,
   "id": "e0dfa18c-7676-40bd-a950-d8ca2a816c01",
   "metadata": {
    "tags": []
   },
   "outputs": [],
   "source": [
    "# # scale\n",
    "# sc = StandardScaler()\n",
    "# sc.fit(X_train)\n",
    "# X_train = sc.transform(X_train)\n",
    "# X_test = sc.transform(X_test)"
   ]
  },
  {
   "cell_type": "code",
   "execution_count": null,
   "id": "33a2de86-728a-4a5f-b830-c2fbac22dd36",
   "metadata": {
    "tags": []
   },
   "outputs": [],
   "source": [
    "linr = LinearRegression()\n",
    "linr.fit(X_train, y_train)"
   ]
  },
  {
   "cell_type": "code",
   "execution_count": null,
   "id": "140d0f35-2957-4b0d-a652-bd0950ea8a86",
   "metadata": {
    "tags": []
   },
   "outputs": [],
   "source": [
    "y_pred = linr.predict(X_test)"
   ]
  },
  {
   "cell_type": "code",
   "execution_count": null,
   "id": "f28f8089-200c-4b9d-a2bb-a63579824f0a",
   "metadata": {
    "tags": []
   },
   "outputs": [],
   "source": [
    "print('R2 score Linear regression: %.3f' % linr.score(X_test,y_test))\n",
    "print('Explained variance score: %.3f'  % metrics.explained_variance_score(y_test, y_pred))\n",
    "print('The mean absolute error: %.3f' % mean_absolute_error(y_test, y_pred))"
   ]
  },
  {
   "cell_type": "code",
   "execution_count": null,
   "id": "4ca66e2e-30d2-496e-aa06-a70f1c8aa7fe",
   "metadata": {
    "tags": []
   },
   "outputs": [],
   "source": [
    "plt.figure(figsize=(10,10))\n",
    "plt.scatter(y_test, y_pred, c='crimson')\n",
    "#plt.yscale('log')\n",
    "#plt.xscale('log')\n",
    "\n",
    "p1 = max(max(y_pred), max(y_test))\n",
    "p2 = min(min(y_pred), min(y_test))\n",
    "plt.plot([p1, p2], [p1, p2], 'b-')\n",
    "plt.xlabel('True Values', fontsize=15)\n",
    "plt.ylabel('Predictions', fontsize=15)\n",
    "plt.axis('equal')\n",
    "plt.show()"
   ]
  },
  {
   "cell_type": "code",
   "execution_count": null,
   "id": "cde4e73e-ed8b-4e09-8cde-dfbb545918fa",
   "metadata": {
    "tags": []
   },
   "outputs": [],
   "source": [
    "llreg = linear_model.LassoLars(alpha=0.01)\n",
    "llreg.fit(X_train, y_train)"
   ]
  },
  {
   "cell_type": "code",
   "execution_count": null,
   "id": "e27adf91-c490-489b-9e1f-2c177487717e",
   "metadata": {
    "tags": []
   },
   "outputs": [],
   "source": [
    "y_pred = llreg.predict(X_test)\n",
    "print('R2 score Linear regression: %.3f' % llreg.score(X_test,y_test))\n",
    "print('Explained variance score: %.3f'  % metrics.explained_variance_score(y_test, y_pred))\n",
    "print('The mean absolute error: %.3f' % mean_absolute_error(y_test, y_pred))"
   ]
  },
  {
   "cell_type": "markdown",
   "id": "ff2275dd-5a52-47a0-b8ec-bd0c3ad21b4b",
   "metadata": {
    "tags": []
   },
   "source": [
    "# So now we have our simple baseline model, and we can save it and apply to the other datasets"
   ]
  },
  {
   "cell_type": "code",
   "execution_count": null,
   "id": "d4f56c5b-16ff-4302-b628-6f4d5b113369",
   "metadata": {
    "tags": []
   },
   "outputs": [],
   "source": [
    "saving =widgets.ToggleButton(\n",
    "    value=False,\n",
    "    description='Click me to save model',\n",
    "    disabled=False,\n",
    "    button_style='success', #\n",
    "    tooltip='Description',\n",
    "    icon='check' # \n",
    ")\n",
    "\n",
    "saving"
   ]
  },
  {
   "cell_type": "code",
   "execution_count": null,
   "id": "144ff397-4f67-4ae7-ab0e-5c72817c446e",
   "metadata": {
    "tags": []
   },
   "outputs": [],
   "source": [
    "if saving.value:\n",
    "    print('You need to name your file, then hit enter')\n",
    "    file_given_name = input()\n",
    "    "
   ]
  },
  {
   "cell_type": "code",
   "execution_count": null,
   "id": "a386a498-05d3-4ac4-8e9d-9fa41d793855",
   "metadata": {
    "tags": []
   },
   "outputs": [],
   "source": [
    "# check if model folder exists and if not , then create\n",
    "model_folder = '../result_models/'\n",
    "if not os.path.exists(model_folder):\n",
    "    os.makedirs(model_folder)"
   ]
  },
  {
   "cell_type": "markdown",
   "id": "d6219fca-d379-485e-9490-529569395319",
   "metadata": {},
   "source": [
    "# optional model saving below"
   ]
  },
  {
   "cell_type": "code",
   "execution_count": null,
   "id": "35c5a967-3134-4522-9902-27036f62ad31",
   "metadata": {
    "tags": []
   },
   "outputs": [],
   "source": [
    "# save off file\n",
    "joblib.dump(linr, ('../result_models/'+file_given_name+ '.sav'))\n",
    "    "
   ]
  },
  {
   "cell_type": "markdown",
   "id": "ae2a8813-ce46-4d34-91b3-acd9752cc065",
   "metadata": {},
   "source": [
    "# Baseline model is at '../result_models/TOP_based_lr.sav'\n",
    "\n",
    "Simplest Linear Regression\n",
    "\n",
    "R2 score Linear regression: 0.576\n",
    "\n",
    "Explained variance score: 0.577\n",
    "\n",
    "The mean absolute error: 5.181"
   ]
  },
  {
   "cell_type": "markdown",
   "id": "0864669c-bfd1-4000-aee7-c48eb1c398b1",
   "metadata": {},
   "source": [
    "now we can ask how this does with our other dataset"
   ]
  },
  {
   "cell_type": "code",
   "execution_count": null,
   "id": "352ffc06-7084-4f07-8cbd-cd026073e5db",
   "metadata": {
    "tags": []
   },
   "outputs": [],
   "source": [
    "StrokeMRI"
   ]
  },
  {
   "cell_type": "code",
   "execution_count": null,
   "id": "9b4d4f33-c696-465a-ba04-d75eac396cf7",
   "metadata": {
    "tags": []
   },
   "outputs": [],
   "source": [
    "sex_mapping = {'F':0,'M':1}\n",
    "StrokeMRI = StrokeMRI.assign(sex = StrokeMRI.sex.map(sex_mapping))\n",
    "StrokeMRI"
   ]
  },
  {
   "cell_type": "code",
   "execution_count": null,
   "id": "b4e08ff4-c8c6-4622-8c99-3ba4ccc61375",
   "metadata": {
    "tags": []
   },
   "outputs": [],
   "source": [
    "mri_ml_matrix = StrokeMRI.drop('participant_id', axis=1)\n",
    "X_mri = mri_ml_matrix.drop('age', axis =1)\n",
    "X_mri = X_mri.values\n",
    "X_mri = X_mri.astype('float')\n",
    "y_mri = mri_ml_matrix['age'].values\n",
    "y_mri=y_mri.astype('float')"
   ]
  },
  {
   "cell_type": "code",
   "execution_count": null,
   "id": "5ecb3208-011c-48b8-b91c-ba3d8013eddf",
   "metadata": {
    "tags": []
   },
   "outputs": [],
   "source": [
    "X_mri_train, X_mri_test, y_mri_train, y_mri_test = train_test_split(X_mri, y_mri, test_size=0.8, random_state=42)"
   ]
  },
  {
   "cell_type": "code",
   "execution_count": null,
   "id": "4d46a6e1-15a5-4c5c-beb4-a6d0acaf9c9b",
   "metadata": {},
   "outputs": [],
   "source": [
    "# # scale\n",
    "# sc = StandardScaler()\n",
    "# sc.fit(X_mri_train)\n",
    "# X_mri_train = sc.transform(X_mri_train)\n",
    "# X_mri_test = sc.transform(X_mri_test)"
   ]
  },
  {
   "cell_type": "code",
   "execution_count": null,
   "id": "f16116f5-a389-4638-ba7e-48bc273a39a0",
   "metadata": {
    "tags": []
   },
   "outputs": [],
   "source": [
    "y_mri_pred = linr.predict(X_mri_test)"
   ]
  },
  {
   "cell_type": "code",
   "execution_count": null,
   "id": "71e7aa10-1fa1-4580-bc96-bc9d79996ab6",
   "metadata": {
    "tags": []
   },
   "outputs": [],
   "source": [
    "print('R2 score Linear regression: %.3f' % linr.score(X_mri_test,y_mri_test))\n",
    "print('Explained variance score: %.3f'  % metrics.explained_variance_score(y_mri_test, y_mri_pred))\n",
    "print('The mean absolute error: %.3f' % mean_absolute_error(y_mri_test, y_mri_pred))"
   ]
  },
  {
   "cell_type": "code",
   "execution_count": null,
   "id": "74ec6a6c-9e08-48be-b02e-c99fe9c06d24",
   "metadata": {
    "tags": []
   },
   "outputs": [],
   "source": [
    "#y_mri_test"
   ]
  },
  {
   "cell_type": "code",
   "execution_count": null,
   "id": "f7c25336-d180-48cc-89ea-7a44aca24989",
   "metadata": {
    "tags": []
   },
   "outputs": [],
   "source": [
    "plt.figure(figsize=(10,10))\n",
    "plt.scatter(y_mri_test, y_mri_pred, c='purple')\n",
    "plt.scatter(y_test, y_pred, c='yellow')\n",
    "#plt.yscale('log')\n",
    "#plt.xscale('log')\n",
    "\n",
    "p1 = max(max(y_mri_pred), max(y_mri_test))\n",
    "p2 = min(min(y_mri_pred), min(y_mri_test))\n",
    "plt.plot([p1, p2], [p1, p2], 'b-')\n",
    "plt.xlabel('True Values', fontsize=15)\n",
    "plt.ylabel('Predictions', fontsize=15)\n",
    "plt.axis('equal')\n",
    "plt.title('TOP based model')\n",
    "plt.show()"
   ]
  },
  {
   "cell_type": "code",
   "execution_count": null,
   "id": "20090141-5d20-4568-829c-d9b7e9e1b835",
   "metadata": {},
   "outputs": [],
   "source": [
    "#print('The mean absolute error: %.3f' % mean_absolute_error(y_test, y_pred))"
   ]
  },
  {
   "cell_type": "code",
   "execution_count": null,
   "id": "c446c78d-866a-46d7-aa15-47bcf371935d",
   "metadata": {},
   "outputs": [],
   "source": [
    "## This is bad... we need to understand where this went off. In the end wea will probably make a mixed model, but"
   ]
  },
  {
   "cell_type": "code",
   "execution_count": null,
   "id": "5531c926-3be5-4f57-92df-15ffd63fbb96",
   "metadata": {
    "tags": []
   },
   "outputs": [],
   "source": [
    "y_mri_pred = llreg.predict(X_mri_test)\n",
    "print('R2 score Lasso regression: %.3f' % llreg.score(X_mri_test,y_mri_test))\n",
    "print('Explained variance score: %.3f'  % metrics.explained_variance_score(y_mri_test, y_mri_pred))\n",
    "print('The mean absolute error: %.3f' % mean_absolute_error(y_mri_test, y_mri_pred))"
   ]
  },
  {
   "cell_type": "code",
   "execution_count": null,
   "id": "90730758-10ed-4474-b2b2-a58298f44cae",
   "metadata": {
    "tags": []
   },
   "outputs": [],
   "source": [
    "plt.figure(figsize=(10,10))\n",
    "plt.scatter(y_mri_test, y_mri_pred, c='crimson')\n",
    "#plt.yscale('log')\n",
    "#plt.xscale('log')\n",
    "\n",
    "p1 = max(max(y_mri_pred), max(y_mri_test))\n",
    "p2 = min(min(y_mri_pred), min(y_mri_test))\n",
    "plt.plot([p1, p2], [p1, p2], 'b-')\n",
    "plt.xlabel('True Values', fontsize=15)\n",
    "plt.ylabel('Predictions', fontsize=15)\n",
    "plt.axis('equal')\n",
    "plt.show()"
   ]
  },
  {
   "cell_type": "code",
   "execution_count": null,
   "id": "74700585-b598-44b9-94b3-b956ba1f7900",
   "metadata": {
    "tags": []
   },
   "outputs": [],
   "source": [
    "StrokeMRI.columns"
   ]
  },
  {
   "cell_type": "code",
   "execution_count": null,
   "id": "4a19d52a-a207-43e0-8527-53b266936d51",
   "metadata": {
    "tags": []
   },
   "outputs": [],
   "source": [
    "%matplotlib inline\n",
    "seaborn.heatmap(StrokeMRI[['age', 'sex', 'gm_vol', 'wm_vol', 'csf_vol',\n",
    "       'gm_ivc_ratio', 'gmwm_ivc_ratio', 'wmh_vol', 'wmh_count',\n",
    "       'deepwm_b_cov', 'aca_b_cov', 'mca_b_cov', 'pca_b_cov', 'totalgm_b_cov',\n",
    "       'deepwm_b', 'aca_b', 'mca_b', 'pca_b', 'totalgm_b']].corr(), annot = True)"
   ]
  },
  {
   "cell_type": "code",
   "execution_count": null,
   "id": "fbf0b7e4-c260-4005-8e48-6dded63b78bd",
   "metadata": {
    "tags": []
   },
   "outputs": [],
   "source": [
    "%matplotlib inline\n",
    "seaborn.heatmap(TOP[['age', 'sex', 'gm_vol', 'wm_vol', 'csf_vol',\n",
    "       'gm_ivc_ratio', 'gmwm_ivc_ratio', 'wmh_vol', 'wmh_count',\n",
    "       'deepwm_b_cov', 'aca_b_cov', 'mca_b_cov', 'pca_b_cov', 'totalgm_b_cov',\n",
    "       'deepwm_b', 'aca_b', 'mca_b', 'pca_b', 'totalgm_b']].corr(), annot = True)"
   ]
  },
  {
   "cell_type": "code",
   "execution_count": null,
   "id": "db1de5f3-4578-4026-b537-45418bfdf7e2",
   "metadata": {
    "tags": []
   },
   "outputs": [],
   "source": [
    "TOP[['age', 'sex', 'gm_vol', 'wm_vol', 'csf_vol',\n",
    "       'gm_ivc_ratio', 'gmwm_ivc_ratio', 'wmh_vol', 'wmh_count',\n",
    "       'deepwm_b_cov', 'aca_b_cov', 'mca_b_cov', 'pca_b_cov', 'totalgm_b_cov',\n",
    "       'deepwm_b', 'aca_b', 'mca_b', 'pca_b', 'totalgm_b']].corr() - StrokeMRI[['age', 'sex', 'gm_vol', 'wm_vol', 'csf_vol',\n",
    "       'gm_ivc_ratio', 'gmwm_ivc_ratio', 'wmh_vol', 'wmh_count',\n",
    "       'deepwm_b_cov', 'aca_b_cov', 'mca_b_cov', 'pca_b_cov', 'totalgm_b_cov',\n",
    "       'deepwm_b', 'aca_b', 'mca_b', 'pca_b', 'totalgm_b']].corr()"
   ]
  },
  {
   "cell_type": "code",
   "execution_count": null,
   "id": "0b73f8c3-364a-491c-bee4-543bdce8b3d7",
   "metadata": {
    "tags": []
   },
   "outputs": [],
   "source": [
    "TOP.age.min(), TOP.age.max()"
   ]
  },
  {
   "cell_type": "code",
   "execution_count": null,
   "id": "8dbbfaca-f98b-4c91-ae92-faf83f9df563",
   "metadata": {
    "tags": []
   },
   "outputs": [],
   "source": [
    "StrokeMRI.age.min(), StrokeMRI.age.max()"
   ]
  },
  {
   "cell_type": "markdown",
   "id": "6a3654eb-e9b5-4efe-bade-826f1cdc92ea",
   "metadata": {},
   "source": [
    "let's make a miniStrokeMRI cut down to ages close to TOP"
   ]
  },
  {
   "cell_type": "code",
   "execution_count": null,
   "id": "b91b329e-5f2d-4b08-abc6-a6af35e0510d",
   "metadata": {},
   "outputs": [],
   "source": [
    "# Logistic regressio means we need to map to ints at a minimal, but this is a bad algorithm choice"
   ]
  },
  {
   "cell_type": "code",
   "execution_count": null,
   "id": "0d75211d-e65c-47c7-845d-e8cc53a0d52d",
   "metadata": {
    "tags": []
   },
   "outputs": [],
   "source": [
    "ministroke = StrokeMRI\n",
    "ministroke = ministroke[ministroke['age'] > 59.78]\n",
    "ministroke"
   ]
  },
  {
   "cell_type": "markdown",
   "id": "98252627-f393-4e0c-8ff1-5e65de0d29c7",
   "metadata": {
    "tags": []
   },
   "source": [
    "So about 60% of our data matches the TOP age range"
   ]
  },
  {
   "cell_type": "code",
   "execution_count": null,
   "id": "eba065e9-4e8f-406d-b063-65970fe9045a",
   "metadata": {
    "tags": []
   },
   "outputs": [],
   "source": [
    "mini_ml_matrix = ministroke.drop('participant_id', axis=1)\n",
    "X_mini = mini_ml_matrix.drop('age', axis =1)\n",
    "X_mini = X_mini.values\n",
    "X_mini = X_mini.astype('float')\n",
    "y_mini = mini_ml_matrix['age'].values\n",
    "y_mini=y_mini.astype('float')"
   ]
  },
  {
   "cell_type": "code",
   "execution_count": null,
   "id": "7bf105f3-ec18-41f8-915e-492b73c2ebd7",
   "metadata": {
    "tags": []
   },
   "outputs": [],
   "source": [
    "X_mini_train, X_mini_test, y_mini_train, y_mini_test = train_test_split(X_mini, y_mini, test_size=0.8, random_state=42)"
   ]
  },
  {
   "cell_type": "code",
   "execution_count": null,
   "id": "98ee18f8-2c72-4fcd-91a9-57bdaf992136",
   "metadata": {
    "tags": []
   },
   "outputs": [],
   "source": [
    "y_mini_pred = linr.predict(X_mini_test)"
   ]
  },
  {
   "cell_type": "code",
   "execution_count": null,
   "id": "8fce3b5b-f913-41d6-888c-005ffd10ae41",
   "metadata": {
    "tags": []
   },
   "outputs": [],
   "source": [
    "print('R2 score Linear regression: %.3f' % linr.score(X_mini_test,y_mini_test))\n",
    "print('Explained variance score: %.3f'  % metrics.explained_variance_score(y_mini_test, y_mini_pred))\n",
    "print('The mean absolute error: %.3f' % mean_absolute_error(y_mini_test, y_mini_pred))"
   ]
  },
  {
   "cell_type": "markdown",
   "id": "6b4475cb-0ec9-4e04-9b7c-292d344d4084",
   "metadata": {
    "tags": []
   },
   "source": [
    "# The model gets better, but is very off, I suspect we have coded the values differently on some columns"
   ]
  },
  {
   "cell_type": "code",
   "execution_count": null,
   "id": "84bc0b68-8220-461c-9aba-a9276434888f",
   "metadata": {
    "tags": []
   },
   "outputs": [],
   "source": [
    "TOP.describe()"
   ]
  },
  {
   "cell_type": "markdown",
   "id": "86cb1ccb-748d-4f10-95d3-871387d5cdbd",
   "metadata": {},
   "source": [
    "TOP still has some outlying data that needs to be cleaned out before the model is made... judging from the maxes"
   ]
  },
  {
   "cell_type": "code",
   "execution_count": null,
   "id": "45d48a93-9ca7-4124-9d89-4e7e6c3a5da0",
   "metadata": {
    "tags": []
   },
   "outputs": [],
   "source": [
    "StrokeMRI.describe()"
   ]
  },
  {
   "cell_type": "code",
   "execution_count": null,
   "id": "64597f0b-dadf-49f9-8b28-0853fe55c68d",
   "metadata": {
    "tags": []
   },
   "outputs": [],
   "source": [
    "TOP.describe() - StrokeMRI.describe()"
   ]
  },
  {
   "cell_type": "code",
   "execution_count": null,
   "id": "143cae84-c84d-4dce-b5ab-4e6f02adc5eb",
   "metadata": {
    "tags": []
   },
   "outputs": [],
   "source": [
    "top_too_high_by_totalgm =TOP[TOP['deepwm_b'] > 120]\n",
    "top_too_high_by_totalgm"
   ]
  },
  {
   "cell_type": "code",
   "execution_count": null,
   "id": "b398b1b5-bd34-4e8d-b5cd-d931f13bdec5",
   "metadata": {
    "tags": []
   },
   "outputs": [],
   "source": [
    "top_too_low_by_totalgm =TOP[TOP['deepw_b'] <30]\n",
    "top_too_low_by_totalgm"
   ]
  },
  {
   "cell_type": "code",
   "execution_count": null,
   "id": "abbf5949-a558-40c3-ac62-62dd513a5e42",
   "metadata": {
    "tags": []
   },
   "outputs": [],
   "source": [
    "TOP.sort_values('wmh_count', ascending=False)[:10]"
   ]
  },
  {
   "cell_type": "code",
   "execution_count": null,
   "id": "21d1720f-5c31-420f-bb5b-15c22ab675d8",
   "metadata": {},
   "outputs": [],
   "source": []
  },
  {
   "cell_type": "code",
   "execution_count": null,
   "id": "169c39da-d050-4322-947f-015fbdff1787",
   "metadata": {},
   "outputs": [],
   "source": []
  }
 ],
 "metadata": {
  "kernelspec": {
   "display_name": "Python 3 (ipykernel)",
   "language": "python",
   "name": "python3"
  },
  "language_info": {
   "codemirror_mode": {
    "name": "ipython",
    "version": 3
   },
   "file_extension": ".py",
   "mimetype": "text/x-python",
   "name": "python",
   "nbconvert_exporter": "python",
   "pygments_lexer": "ipython3",
   "version": "3.11.6"
  }
 },
 "nbformat": 4,
 "nbformat_minor": 5
}
