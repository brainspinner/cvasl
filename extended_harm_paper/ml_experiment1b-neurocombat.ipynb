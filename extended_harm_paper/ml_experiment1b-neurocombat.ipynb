{
 "cells": [
  {
   "cell_type": "markdown",
   "id": "17c2670f-473c-4541-ad14-b8c9ab69460a",
   "metadata": {},
   "source": [
    "# ML testing: experiment #1b- harmonized with neurocombat\n",
    "\n",
    "This notebook involves testing for the MRI conference abstract. This notebook shows harmonized StrokeMRI and TOP based models, and how they perform on each other, once harmonized by neurcombat"
   ]
  },
  {
   "cell_type": "markdown",
   "id": "2b7bd5c3-e693-4914-913a-5fcb66e42682",
   "metadata": {
    "tags": []
   },
   "source": [
    "Data: StrokeMRI, TOP\n",
    "\n",
    "Harmonisation: neurocombat\n",
    "\n",
    "Training data: StrokeMRI and/or TOP\n",
    "\n",
    "Testing data: StrokeMRI and/or TOP test subsets\n",
    "\n",
    "Futher data applied to: none\n",
    "\n",
    "Validation method: K-fold double-stratified\n",
    "\n",
    "Brain-age algorithms: LR, lasso, extra trees, elasticCV net fully tested (but not optimized parameters), additionals partly\n",
    "\n",
    "Outputs: ? what do we want to have here?"
   ]
  },
  {
   "cell_type": "markdown",
   "id": "8ce48aa5-f972-4526-9147-b1cf9dd2d520",
   "metadata": {
    "tags": []
   },
   "source": [
    "### import libraries"
   ]
  },
  {
   "cell_type": "code",
   "execution_count": 1,
   "id": "e9e6bc02-836a-4ce0-9372-4d68955c2255",
   "metadata": {
    "tags": []
   },
   "outputs": [],
   "source": [
    "import os       # using operating system dependent functionality (folders)\n",
    "import sys\n",
    "import glob\n",
    "from functools import reduce\n",
    "\n",
    "import pandas as pd # data analysis and manipulation\n",
    "import numpy as np    # numerical computing (manipulating and performing operations on arrays of data)\n",
    "import matplotlib.pyplot as plt\n",
    " \n",
    "# # demo stuff\n",
    "import ipywidgets as widgets\n",
    "from ipywidgets import interactive\n",
    "# import seaborn \n",
    "\n",
    "# ml stuff\n",
    "from sklearn.model_selection import train_test_split\n",
    "from sklearn.preprocessing import StandardScaler\n",
    "from sklearn.svm import SVC\n",
    "from sklearn.metrics import accuracy_score\n",
    "from sklearn.linear_model import LogisticRegression\n",
    "from sklearn.linear_model import LinearRegression\n",
    "from sklearn import linear_model\n",
    "from sklearn import tree\n",
    "from sklearn import metrics\n",
    "from sklearn.linear_model import SGDRegressor\n",
    "from sklearn.metrics import confusion_matrix\n",
    "from sklearn.metrics import mean_absolute_error\n",
    "#from sklearn.neighbors import KNeighborsClassifier\n",
    "from sklearn.neural_network import MLPRegressor\n",
    "from sklearn.svm import SVR\n",
    "from sklearn.linear_model import ElasticNetCV\n",
    "from sklearn.ensemble import ExtraTreesRegressor\n",
    "\n",
    "import joblib\n",
    "\n",
    "sys.path.insert(0, '../') # path to functions\n",
    "import cvasl.seperated as sep\n",
    "from cvasl.file_handler import Config"
   ]
  },
  {
   "cell_type": "markdown",
   "id": "4e33d332-690f-4eaa-88ab-cebccdd592b4",
   "metadata": {
    "tags": []
   },
   "source": [
    "### import data"
   ]
  },
  {
   "cell_type": "code",
   "execution_count": 2,
   "id": "3a06909f-f7a2-4fe4-851f-d3ed89fbf36f",
   "metadata": {
    "tags": []
   },
   "outputs": [],
   "source": [
    "filepath_mri = 'harmonizations/harm_results/' \n",
    "filename_mri = os.path.join(filepath_mri,'neuro_harm_mri_for_1.csv') \n",
    "\n",
    "filepath_top = 'harmonizations/harm_results/' \n",
    "filename_top = os.path.join(filepath_top,'neuro_harm_top_for_1.csv') "
   ]
  },
  {
   "cell_type": "code",
   "execution_count": 3,
   "id": "802a336b-5978-42d4-9a9f-21df2566a6bb",
   "metadata": {
    "tags": []
   },
   "outputs": [],
   "source": [
    "TOP = pd.read_csv(filename_top)\n",
    "StrokeMRI = pd.read_csv(filename_mri)"
   ]
  },
  {
   "cell_type": "code",
   "execution_count": 4,
   "id": "165089aa-51d3-4c52-9993-cec3f50b91ad",
   "metadata": {
    "tags": []
   },
   "outputs": [],
   "source": [
    "TOP = TOP.drop(TOP.columns[0],axis=1)\n",
    "StrokeMRI = StrokeMRI.drop(StrokeMRI.columns[0],axis=1)\n",
    "#StrokeMRI"
   ]
  },
  {
   "cell_type": "code",
   "execution_count": 5,
   "id": "3e05c98b-fe23-4e56-a808-b01f0169a4c8",
   "metadata": {
    "tags": []
   },
   "outputs": [],
   "source": [
    "TOP.columns = TOP.columns.str.lower() \n",
    "StrokeMRI.columns = StrokeMRI.columns.str.lower() "
   ]
  },
  {
   "cell_type": "code",
   "execution_count": 6,
   "id": "0ae63f17-d738-4878-b969-f88b3b6da5e6",
   "metadata": {
    "tags": []
   },
   "outputs": [
    {
     "data": {
      "text/html": [
       "<div>\n",
       "<style scoped>\n",
       "    .dataframe tbody tr th:only-of-type {\n",
       "        vertical-align: middle;\n",
       "    }\n",
       "\n",
       "    .dataframe tbody tr th {\n",
       "        vertical-align: top;\n",
       "    }\n",
       "\n",
       "    .dataframe thead th {\n",
       "        text-align: right;\n",
       "    }\n",
       "</style>\n",
       "<table border=\"1\" class=\"dataframe\">\n",
       "  <thead>\n",
       "    <tr style=\"text-align: right;\">\n",
       "      <th></th>\n",
       "      <th>participant_id</th>\n",
       "      <th>age</th>\n",
       "      <th>sex</th>\n",
       "      <th>gm_vol</th>\n",
       "      <th>wm_vol</th>\n",
       "      <th>csf_vol</th>\n",
       "      <th>gm_icvratio</th>\n",
       "      <th>gmwm_icvratio</th>\n",
       "      <th>wmhvol_wmvol</th>\n",
       "      <th>wmh_count</th>\n",
       "      <th>deepwm_b_cov</th>\n",
       "      <th>aca_b_cov</th>\n",
       "      <th>mca_b_cov</th>\n",
       "      <th>pca_b_cov</th>\n",
       "      <th>totalgm_b_cov</th>\n",
       "      <th>deepwm_b_cbf</th>\n",
       "      <th>aca_b_cbf</th>\n",
       "      <th>mca_b_cbf</th>\n",
       "      <th>pca_b_cbf</th>\n",
       "      <th>totalgm_b_cbf</th>\n",
       "    </tr>\n",
       "  </thead>\n",
       "  <tbody>\n",
       "    <tr>\n",
       "      <th>0</th>\n",
       "      <td>sub-0668_1</td>\n",
       "      <td>50.40</td>\n",
       "      <td>1.0</td>\n",
       "      <td>0.644113</td>\n",
       "      <td>0.485854</td>\n",
       "      <td>0.264304</td>\n",
       "      <td>0.461805</td>\n",
       "      <td>0.810731</td>\n",
       "      <td>-0.001404</td>\n",
       "      <td>16.788085</td>\n",
       "      <td>0.269229</td>\n",
       "      <td>0.177786</td>\n",
       "      <td>0.212513</td>\n",
       "      <td>0.258577</td>\n",
       "      <td>0.247661</td>\n",
       "      <td>25.196563</td>\n",
       "      <td>90.142975</td>\n",
       "      <td>80.430985</td>\n",
       "      <td>58.711880</td>\n",
       "      <td>71.928822</td>\n",
       "    </tr>\n",
       "    <tr>\n",
       "      <th>1</th>\n",
       "      <td>sub-0532_1</td>\n",
       "      <td>37.02</td>\n",
       "      <td>1.0</td>\n",
       "      <td>0.718871</td>\n",
       "      <td>0.594901</td>\n",
       "      <td>0.318537</td>\n",
       "      <td>0.441834</td>\n",
       "      <td>0.808033</td>\n",
       "      <td>0.005061</td>\n",
       "      <td>26.012756</td>\n",
       "      <td>0.255105</td>\n",
       "      <td>0.176826</td>\n",
       "      <td>0.239043</td>\n",
       "      <td>0.214080</td>\n",
       "      <td>0.240495</td>\n",
       "      <td>24.483328</td>\n",
       "      <td>100.132081</td>\n",
       "      <td>89.082044</td>\n",
       "      <td>67.735298</td>\n",
       "      <td>79.457272</td>\n",
       "    </tr>\n",
       "    <tr>\n",
       "      <th>2</th>\n",
       "      <td>sub-0529_1</td>\n",
       "      <td>30.57</td>\n",
       "      <td>1.0</td>\n",
       "      <td>0.669161</td>\n",
       "      <td>0.459851</td>\n",
       "      <td>0.288956</td>\n",
       "      <td>0.473672</td>\n",
       "      <td>0.797081</td>\n",
       "      <td>0.015829</td>\n",
       "      <td>21.355558</td>\n",
       "      <td>0.276498</td>\n",
       "      <td>0.196674</td>\n",
       "      <td>0.210583</td>\n",
       "      <td>0.197991</td>\n",
       "      <td>0.220279</td>\n",
       "      <td>26.141089</td>\n",
       "      <td>106.826247</td>\n",
       "      <td>97.274207</td>\n",
       "      <td>71.929599</td>\n",
       "      <td>85.744065</td>\n",
       "    </tr>\n",
       "  </tbody>\n",
       "</table>\n",
       "</div>"
      ],
      "text/plain": [
       "  participant_id    age  sex    gm_vol    wm_vol   csf_vol  gm_icvratio  \\\n",
       "0     sub-0668_1  50.40  1.0  0.644113  0.485854  0.264304     0.461805   \n",
       "1     sub-0532_1  37.02  1.0  0.718871  0.594901  0.318537     0.441834   \n",
       "2     sub-0529_1  30.57  1.0  0.669161  0.459851  0.288956     0.473672   \n",
       "\n",
       "   gmwm_icvratio  wmhvol_wmvol  wmh_count  deepwm_b_cov  aca_b_cov  mca_b_cov  \\\n",
       "0       0.810731     -0.001404  16.788085      0.269229   0.177786   0.212513   \n",
       "1       0.808033      0.005061  26.012756      0.255105   0.176826   0.239043   \n",
       "2       0.797081      0.015829  21.355558      0.276498   0.196674   0.210583   \n",
       "\n",
       "   pca_b_cov  totalgm_b_cov  deepwm_b_cbf   aca_b_cbf  mca_b_cbf  pca_b_cbf  \\\n",
       "0   0.258577       0.247661     25.196563   90.142975  80.430985  58.711880   \n",
       "1   0.214080       0.240495     24.483328  100.132081  89.082044  67.735298   \n",
       "2   0.197991       0.220279     26.141089  106.826247  97.274207  71.929599   \n",
       "\n",
       "   totalgm_b_cbf  \n",
       "0      71.928822  \n",
       "1      79.457272  \n",
       "2      85.744065  "
      ]
     },
     "execution_count": 6,
     "metadata": {},
     "output_type": "execute_result"
    }
   ],
   "source": [
    "# # Now we need to flip the sex back to numbers for a correlation\n",
    "# sex_mapping = {'F':0,'M':1}\n",
    "# TOP = TOP.assign(sex = TOP.sex.map(sex_mapping))\n",
    "TOP.head(3)"
   ]
  },
  {
   "cell_type": "code",
   "execution_count": 7,
   "id": "29d4dd0e-6015-4979-a51b-2f0594fba3cb",
   "metadata": {
    "tags": []
   },
   "outputs": [
    {
     "data": {
      "text/html": [
       "<div>\n",
       "<style scoped>\n",
       "    .dataframe tbody tr th:only-of-type {\n",
       "        vertical-align: middle;\n",
       "    }\n",
       "\n",
       "    .dataframe tbody tr th {\n",
       "        vertical-align: top;\n",
       "    }\n",
       "\n",
       "    .dataframe thead th {\n",
       "        text-align: right;\n",
       "    }\n",
       "</style>\n",
       "<table border=\"1\" class=\"dataframe\">\n",
       "  <thead>\n",
       "    <tr style=\"text-align: right;\">\n",
       "      <th></th>\n",
       "      <th>participant_id</th>\n",
       "      <th>age</th>\n",
       "      <th>sex</th>\n",
       "      <th>gm_vol</th>\n",
       "      <th>wm_vol</th>\n",
       "      <th>csf_vol</th>\n",
       "      <th>gm_icvratio</th>\n",
       "      <th>gmwm_icvratio</th>\n",
       "      <th>wmhvol_wmvol</th>\n",
       "      <th>wmh_count</th>\n",
       "      <th>deepwm_b_cov</th>\n",
       "      <th>aca_b_cov</th>\n",
       "      <th>mca_b_cov</th>\n",
       "      <th>pca_b_cov</th>\n",
       "      <th>totalgm_b_cov</th>\n",
       "      <th>deepwm_b_cbf</th>\n",
       "      <th>aca_b_cbf</th>\n",
       "      <th>mca_b_cbf</th>\n",
       "      <th>pca_b_cbf</th>\n",
       "      <th>totalgm_b_cbf</th>\n",
       "    </tr>\n",
       "  </thead>\n",
       "  <tbody>\n",
       "    <tr>\n",
       "      <th>0</th>\n",
       "      <td>sub-5917601_1</td>\n",
       "      <td>70.713706</td>\n",
       "      <td>1.0</td>\n",
       "      <td>0.646423</td>\n",
       "      <td>0.439237</td>\n",
       "      <td>0.446310</td>\n",
       "      <td>0.418752</td>\n",
       "      <td>0.707111</td>\n",
       "      <td>0.023474</td>\n",
       "      <td>20.282829</td>\n",
       "      <td>0.307419</td>\n",
       "      <td>0.238407</td>\n",
       "      <td>0.199460</td>\n",
       "      <td>0.302574</td>\n",
       "      <td>0.262404</td>\n",
       "      <td>74.772396</td>\n",
       "      <td>89.276397</td>\n",
       "      <td>79.650183</td>\n",
       "      <td>62.680388</td>\n",
       "      <td>69.156034</td>\n",
       "    </tr>\n",
       "    <tr>\n",
       "      <th>1</th>\n",
       "      <td>sub-5931802_1</td>\n",
       "      <td>47.583562</td>\n",
       "      <td>1.0</td>\n",
       "      <td>0.639722</td>\n",
       "      <td>0.498391</td>\n",
       "      <td>0.315831</td>\n",
       "      <td>0.439477</td>\n",
       "      <td>0.781853</td>\n",
       "      <td>0.006808</td>\n",
       "      <td>26.008071</td>\n",
       "      <td>0.234268</td>\n",
       "      <td>0.168788</td>\n",
       "      <td>0.198894</td>\n",
       "      <td>0.191304</td>\n",
       "      <td>0.207276</td>\n",
       "      <td>34.905357</td>\n",
       "      <td>93.831345</td>\n",
       "      <td>84.560377</td>\n",
       "      <td>69.094420</td>\n",
       "      <td>75.511610</td>\n",
       "    </tr>\n",
       "    <tr>\n",
       "      <th>2</th>\n",
       "      <td>sub-5911901_1</td>\n",
       "      <td>74.104110</td>\n",
       "      <td>1.0</td>\n",
       "      <td>0.565678</td>\n",
       "      <td>0.488417</td>\n",
       "      <td>0.447893</td>\n",
       "      <td>0.375995</td>\n",
       "      <td>0.700929</td>\n",
       "      <td>0.040916</td>\n",
       "      <td>39.950425</td>\n",
       "      <td>0.204109</td>\n",
       "      <td>0.180748</td>\n",
       "      <td>0.221134</td>\n",
       "      <td>0.271064</td>\n",
       "      <td>0.223909</td>\n",
       "      <td>37.496158</td>\n",
       "      <td>75.070813</td>\n",
       "      <td>62.169504</td>\n",
       "      <td>61.036010</td>\n",
       "      <td>60.905200</td>\n",
       "    </tr>\n",
       "  </tbody>\n",
       "</table>\n",
       "</div>"
      ],
      "text/plain": [
       "  participant_id        age  sex    gm_vol    wm_vol   csf_vol  gm_icvratio  \\\n",
       "0  sub-5917601_1  70.713706  1.0  0.646423  0.439237  0.446310     0.418752   \n",
       "1  sub-5931802_1  47.583562  1.0  0.639722  0.498391  0.315831     0.439477   \n",
       "2  sub-5911901_1  74.104110  1.0  0.565678  0.488417  0.447893     0.375995   \n",
       "\n",
       "   gmwm_icvratio  wmhvol_wmvol  wmh_count  deepwm_b_cov  aca_b_cov  mca_b_cov  \\\n",
       "0       0.707111      0.023474  20.282829      0.307419   0.238407   0.199460   \n",
       "1       0.781853      0.006808  26.008071      0.234268   0.168788   0.198894   \n",
       "2       0.700929      0.040916  39.950425      0.204109   0.180748   0.221134   \n",
       "\n",
       "   pca_b_cov  totalgm_b_cov  deepwm_b_cbf  aca_b_cbf  mca_b_cbf  pca_b_cbf  \\\n",
       "0   0.302574       0.262404     74.772396  89.276397  79.650183  62.680388   \n",
       "1   0.191304       0.207276     34.905357  93.831345  84.560377  69.094420   \n",
       "2   0.271064       0.223909     37.496158  75.070813  62.169504  61.036010   \n",
       "\n",
       "   totalgm_b_cbf  \n",
       "0      69.156034  \n",
       "1      75.511610  \n",
       "2      60.905200  "
      ]
     },
     "execution_count": 7,
     "metadata": {},
     "output_type": "execute_result"
    }
   ],
   "source": [
    "# StrokeMRI = StrokeMRI.assign(sex = StrokeMRI.sex.map(sex_mapping))\n",
    "StrokeMRI.head(3)"
   ]
  },
  {
   "cell_type": "code",
   "execution_count": 8,
   "id": "0b39104b-bd17-49e6-ac7b-c9023b08d6a7",
   "metadata": {
    "tags": []
   },
   "outputs": [
    {
     "data": {
      "application/vnd.jupyter.widget-view+json": {
       "model_id": "5080a3939453477898200674dea78fc4",
       "version_major": 2,
       "version_minor": 0
      },
      "text/plain": [
       "ToggleButton(value=False, description='Click me if features logged', icon='check', tooltip='Description')"
      ]
     },
     "execution_count": 8,
     "metadata": {},
     "output_type": "execute_result"
    }
   ],
   "source": [
    "#give a checkbox for out put folder\n",
    "loged_feat = widgets.ToggleButton(\n",
    "    value=False,\n",
    "    description='Click me if features logged',\n",
    "    disabled=False,\n",
    "    button_style='', # 'success', 'info', 'warning', 'danger' or ''\n",
    "    tooltip='Description',\n",
    "    icon='check' # (FontAwesome names without the `fa-` prefix)\n",
    ")\n",
    "loged_feat"
   ]
  },
  {
   "cell_type": "code",
   "execution_count": null,
   "id": "9732cc87-86ee-4b29-88f1-6f9dc1343f07",
   "metadata": {},
   "outputs": [],
   "source": []
  },
  {
   "cell_type": "code",
   "execution_count": 9,
   "id": "89f9c14f-e617-4f5c-96e9-ef01d4f154ca",
   "metadata": {
    "tags": []
   },
   "outputs": [
    {
     "data": {
      "text/plain": [
       "False"
      ]
     },
     "execution_count": 9,
     "metadata": {},
     "output_type": "execute_result"
    }
   ],
   "source": [
    "loged_feat.value"
   ]
  },
  {
   "cell_type": "code",
   "execution_count": 10,
   "id": "1c04a7b2-e128-41df-82b1-3eeaa97657dc",
   "metadata": {
    "tags": []
   },
   "outputs": [],
   "source": [
    "if loged_feat.value == False:\n",
    "    output_folder = '1b_no_log_outputs'\n",
    "else:\n",
    "    output_folder = '1b_loged_outputs'\n",
    "\n",
    "os.makedirs(output_folder, exist_ok=True)"
   ]
  },
  {
   "cell_type": "markdown",
   "id": "c761d603-d738-4cf7-81d0-6e85d995bac0",
   "metadata": {},
   "source": [
    "## Build ML models based on neurocombat StrokeMRI"
   ]
  },
  {
   "cell_type": "code",
   "execution_count": 11,
   "id": "b62c8355-3372-4d8c-af41-a9485113b0dd",
   "metadata": {
    "tags": []
   },
   "outputs": [],
   "source": [
    "ml_matrix = StrokeMRI.drop('participant_id', axis=1)\n",
    "X = ml_matrix.drop('age', axis =1)\n",
    "X = X.values\n",
    "X = X.astype('float')\n",
    "y = ml_matrix['age'].values\n",
    "y=y.astype('float')\n"
   ]
  },
  {
   "cell_type": "code",
   "execution_count": 12,
   "id": "38b25f53-f633-46eb-a1cc-991ddaceaef1",
   "metadata": {
    "tags": []
   },
   "outputs": [
    {
     "name": "stderr",
     "output_type": "stream",
     "text": [
      "C:\\Projects\\cvasl\\extended_harm_paper\\..\\cvasl\\seperated.py:1055: FutureWarning: The behavior of DataFrame concatenation with empty or all-NA entries is deprecated. In a future version, this will no longer exclude empty or all-NA columns when determining the result dtypes. To retain the old behavior, exclude the relevant entries before the concat operation.\n",
      "  mod_results = pd.concat([mod_results, mod_results_current_fold])\n",
      "C:\\Projects\\cvasl\\extended_harm_paper\\..\\cvasl\\seperated.py:1055: FutureWarning: The behavior of DataFrame concatenation with empty or all-NA entries is deprecated. In a future version, this will no longer exclude empty or all-NA columns when determining the result dtypes. To retain the old behavior, exclude the relevant entries before the concat operation.\n",
      "  mod_results = pd.concat([mod_results, mod_results_current_fold])\n",
      "C:\\Projects\\cvasl\\extended_harm_paper\\..\\cvasl\\seperated.py:1055: FutureWarning: The behavior of DataFrame concatenation with empty or all-NA entries is deprecated. In a future version, this will no longer exclude empty or all-NA columns when determining the result dtypes. To retain the old behavior, exclude the relevant entries before the concat operation.\n",
      "  mod_results = pd.concat([mod_results, mod_results_current_fold])\n",
      "C:\\Projects\\cvasl\\extended_harm_paper\\..\\cvasl\\seperated.py:1055: FutureWarning: The behavior of DataFrame concatenation with empty or all-NA entries is deprecated. In a future version, this will no longer exclude empty or all-NA columns when determining the result dtypes. To retain the old behavior, exclude the relevant entries before the concat operation.\n",
      "  mod_results = pd.concat([mod_results, mod_results_current_fold])\n",
      "C:\\Projects\\cvasl\\extended_harm_paper\\..\\cvasl\\seperated.py:1055: FutureWarning: The behavior of DataFrame concatenation with empty or all-NA entries is deprecated. In a future version, this will no longer exclude empty or all-NA columns when determining the result dtypes. To retain the old behavior, exclude the relevant entries before the concat operation.\n",
      "  mod_results = pd.concat([mod_results, mod_results_current_fold])\n"
     ]
    }
   ],
   "source": [
    "linr_k_frame, linr_y_frame, models = sep.stratified_cat_and_cont_categories_shuffle_split('linear regression', 'neuro_harm_mri_linr', LinearRegression(), ml_matrix, X, y)"
   ]
  },
  {
   "cell_type": "code",
   "execution_count": 13,
   "id": "68b55928-35f9-4e4b-8628-bc167cdb6e88",
   "metadata": {
    "tags": []
   },
   "outputs": [
    {
     "data": {
      "text/html": [
       "<div>\n",
       "<style scoped>\n",
       "    .dataframe tbody tr th:only-of-type {\n",
       "        vertical-align: middle;\n",
       "    }\n",
       "\n",
       "    .dataframe tbody tr th {\n",
       "        vertical-align: top;\n",
       "    }\n",
       "\n",
       "    .dataframe thead th {\n",
       "        text-align: right;\n",
       "    }\n",
       "</style>\n",
       "<table border=\"1\" class=\"dataframe\">\n",
       "  <thead>\n",
       "    <tr style=\"text-align: right;\">\n",
       "      <th></th>\n",
       "      <th>algorithm</th>\n",
       "      <th>fold</th>\n",
       "      <th>file_name</th>\n",
       "      <th>mae</th>\n",
       "      <th>r2</th>\n",
       "      <th>explained_variance</th>\n",
       "    </tr>\n",
       "  </thead>\n",
       "  <tbody>\n",
       "    <tr>\n",
       "      <th>0</th>\n",
       "      <td>linear regression-0</td>\n",
       "      <td>0</td>\n",
       "      <td>neuro_harm_mri_linr.0</td>\n",
       "      <td>5.373840</td>\n",
       "      <td>0.757510</td>\n",
       "      <td>0.757885</td>\n",
       "    </tr>\n",
       "    <tr>\n",
       "      <th>0</th>\n",
       "      <td>linear regression-1</td>\n",
       "      <td>1</td>\n",
       "      <td>neuro_harm_mri_linr.1</td>\n",
       "      <td>5.305093</td>\n",
       "      <td>0.778802</td>\n",
       "      <td>0.789353</td>\n",
       "    </tr>\n",
       "    <tr>\n",
       "      <th>0</th>\n",
       "      <td>linear regression-2</td>\n",
       "      <td>2</td>\n",
       "      <td>neuro_harm_mri_linr.2</td>\n",
       "      <td>6.035910</td>\n",
       "      <td>0.701419</td>\n",
       "      <td>0.701479</td>\n",
       "    </tr>\n",
       "    <tr>\n",
       "      <th>0</th>\n",
       "      <td>linear regression-3</td>\n",
       "      <td>3</td>\n",
       "      <td>neuro_harm_mri_linr.3</td>\n",
       "      <td>5.730579</td>\n",
       "      <td>0.751178</td>\n",
       "      <td>0.751189</td>\n",
       "    </tr>\n",
       "    <tr>\n",
       "      <th>0</th>\n",
       "      <td>linear regression-4</td>\n",
       "      <td>4</td>\n",
       "      <td>neuro_harm_mri_linr.4</td>\n",
       "      <td>5.325815</td>\n",
       "      <td>0.786023</td>\n",
       "      <td>0.786033</td>\n",
       "    </tr>\n",
       "  </tbody>\n",
       "</table>\n",
       "</div>"
      ],
      "text/plain": [
       "             algorithm fold              file_name       mae        r2  \\\n",
       "0  linear regression-0    0  neuro_harm_mri_linr.0  5.373840  0.757510   \n",
       "0  linear regression-1    1  neuro_harm_mri_linr.1  5.305093  0.778802   \n",
       "0  linear regression-2    2  neuro_harm_mri_linr.2  6.035910  0.701419   \n",
       "0  linear regression-3    3  neuro_harm_mri_linr.3  5.730579  0.751178   \n",
       "0  linear regression-4    4  neuro_harm_mri_linr.4  5.325815  0.786023   \n",
       "\n",
       "   explained_variance  \n",
       "0            0.757885  \n",
       "0            0.789353  \n",
       "0            0.701479  \n",
       "0            0.751189  \n",
       "0            0.786033  "
      ]
     },
     "execution_count": 13,
     "metadata": {},
     "output_type": "execute_result"
    }
   ],
   "source": [
    "linr_k_frame"
   ]
  },
  {
   "cell_type": "code",
   "execution_count": 14,
   "id": "b8506d3f-4c5e-4174-9849-56b8bd5f7a9c",
   "metadata": {
    "tags": []
   },
   "outputs": [],
   "source": [
    "linr_k_frame.to_csv(output_folder + '/neuro_harmonized_mri_linr_k_frame.csv')"
   ]
  },
  {
   "cell_type": "code",
   "execution_count": 15,
   "id": "b438ae2a-b66d-4d26-b379-b9f6378b703a",
   "metadata": {
    "tags": []
   },
   "outputs": [
    {
     "data": {
      "text/html": [
       "<div>\n",
       "<style scoped>\n",
       "    .dataframe tbody tr th:only-of-type {\n",
       "        vertical-align: middle;\n",
       "    }\n",
       "\n",
       "    .dataframe tbody tr th {\n",
       "        vertical-align: top;\n",
       "    }\n",
       "\n",
       "    .dataframe thead th {\n",
       "        text-align: right;\n",
       "    }\n",
       "</style>\n",
       "<table border=\"1\" class=\"dataframe\">\n",
       "  <thead>\n",
       "    <tr style=\"text-align: right;\">\n",
       "      <th></th>\n",
       "      <th>algorithm</th>\n",
       "      <th>file_name</th>\n",
       "      <th>mae</th>\n",
       "      <th>r2</th>\n",
       "      <th>explained_variance</th>\n",
       "    </tr>\n",
       "  </thead>\n",
       "  <tbody>\n",
       "    <tr>\n",
       "      <th>0</th>\n",
       "      <td>0    linear regression-0\n",
       "0    linear regressio...</td>\n",
       "      <td>0    neuro_harm_mri_linr.0\n",
       "0    neuro_harm_mri...</td>\n",
       "      <td>5.554247</td>\n",
       "      <td>0.754986</td>\n",
       "      <td>0.757188</td>\n",
       "    </tr>\n",
       "  </tbody>\n",
       "</table>\n",
       "</div>"
      ],
      "text/plain": [
       "                                           algorithm  \\\n",
       "0  0    linear regression-0\n",
       "0    linear regressio...   \n",
       "\n",
       "                                           file_name       mae        r2  \\\n",
       "0  0    neuro_harm_mri_linr.0\n",
       "0    neuro_harm_mri...  5.554247  0.754986   \n",
       "\n",
       "   explained_variance  \n",
       "0            0.757188  "
      ]
     },
     "execution_count": 15,
     "metadata": {},
     "output_type": "execute_result"
    }
   ],
   "source": [
    "avg_linr = sep.avg_k_folds(linr_k_frame)\n",
    "avg_linr"
   ]
  },
  {
   "cell_type": "code",
   "execution_count": 16,
   "id": "cc070a73-3794-40da-9feb-8201cff99996",
   "metadata": {
    "tags": []
   },
   "outputs": [
    {
     "data": {
      "text/html": [
       "<div>\n",
       "<style scoped>\n",
       "    .dataframe tbody tr th:only-of-type {\n",
       "        vertical-align: middle;\n",
       "    }\n",
       "\n",
       "    .dataframe tbody tr th {\n",
       "        vertical-align: top;\n",
       "    }\n",
       "\n",
       "    .dataframe thead th {\n",
       "        text-align: right;\n",
       "    }\n",
       "</style>\n",
       "<table border=\"1\" class=\"dataframe\">\n",
       "  <thead>\n",
       "    <tr style=\"text-align: right;\">\n",
       "      <th></th>\n",
       "      <th>y_test</th>\n",
       "      <th>y_pred</th>\n",
       "    </tr>\n",
       "  </thead>\n",
       "  <tbody>\n",
       "    <tr>\n",
       "      <th>0</th>\n",
       "      <td>44.509589</td>\n",
       "      <td>48.489600</td>\n",
       "    </tr>\n",
       "    <tr>\n",
       "      <th>1</th>\n",
       "      <td>66.471233</td>\n",
       "      <td>58.724097</td>\n",
       "    </tr>\n",
       "    <tr>\n",
       "      <th>2</th>\n",
       "      <td>46.084932</td>\n",
       "      <td>48.392709</td>\n",
       "    </tr>\n",
       "    <tr>\n",
       "      <th>3</th>\n",
       "      <td>73.564384</td>\n",
       "      <td>68.104044</td>\n",
       "    </tr>\n",
       "    <tr>\n",
       "      <th>4</th>\n",
       "      <td>51.357923</td>\n",
       "      <td>42.861305</td>\n",
       "    </tr>\n",
       "    <tr>\n",
       "      <th>...</th>\n",
       "      <td>...</td>\n",
       "      <td>...</td>\n",
       "    </tr>\n",
       "    <tr>\n",
       "      <th>140</th>\n",
       "      <td>74.191257</td>\n",
       "      <td>62.269679</td>\n",
       "    </tr>\n",
       "    <tr>\n",
       "      <th>141</th>\n",
       "      <td>67.515068</td>\n",
       "      <td>64.031025</td>\n",
       "    </tr>\n",
       "    <tr>\n",
       "      <th>142</th>\n",
       "      <td>49.827375</td>\n",
       "      <td>58.660132</td>\n",
       "    </tr>\n",
       "    <tr>\n",
       "      <th>143</th>\n",
       "      <td>71.254795</td>\n",
       "      <td>69.712890</td>\n",
       "    </tr>\n",
       "    <tr>\n",
       "      <th>144</th>\n",
       "      <td>66.884767</td>\n",
       "      <td>63.407601</td>\n",
       "    </tr>\n",
       "  </tbody>\n",
       "</table>\n",
       "<p>725 rows × 2 columns</p>\n",
       "</div>"
      ],
      "text/plain": [
       "        y_test     y_pred\n",
       "0    44.509589  48.489600\n",
       "1    66.471233  58.724097\n",
       "2    46.084932  48.392709\n",
       "3    73.564384  68.104044\n",
       "4    51.357923  42.861305\n",
       "..         ...        ...\n",
       "140  74.191257  62.269679\n",
       "141  67.515068  64.031025\n",
       "142  49.827375  58.660132\n",
       "143  71.254795  69.712890\n",
       "144  66.884767  63.407601\n",
       "\n",
       "[725 rows x 2 columns]"
      ]
     },
     "execution_count": 16,
     "metadata": {},
     "output_type": "execute_result"
    }
   ],
   "source": [
    "linr_y_frame"
   ]
  },
  {
   "cell_type": "code",
   "execution_count": 17,
   "id": "eeec7baa-b00b-478e-8d7d-a6ff24c6fd3e",
   "metadata": {
    "tags": []
   },
   "outputs": [],
   "source": [
    "linr_y_frame.to_csv(output_folder + '/neuro_harmonized_mri_linr_y_frame.csv')"
   ]
  },
  {
   "cell_type": "code",
   "execution_count": 18,
   "id": "30941bb3-c7d1-4e0d-8372-63194cef8f6c",
   "metadata": {
    "tags": []
   },
   "outputs": [
    {
     "data": {
      "text/html": [
       "<style>#sk-container-id-1 {color: black;}#sk-container-id-1 pre{padding: 0;}#sk-container-id-1 div.sk-toggleable {background-color: white;}#sk-container-id-1 label.sk-toggleable__label {cursor: pointer;display: block;width: 100%;margin-bottom: 0;padding: 0.3em;box-sizing: border-box;text-align: center;}#sk-container-id-1 label.sk-toggleable__label-arrow:before {content: \"▸\";float: left;margin-right: 0.25em;color: #696969;}#sk-container-id-1 label.sk-toggleable__label-arrow:hover:before {color: black;}#sk-container-id-1 div.sk-estimator:hover label.sk-toggleable__label-arrow:before {color: black;}#sk-container-id-1 div.sk-toggleable__content {max-height: 0;max-width: 0;overflow: hidden;text-align: left;background-color: #f0f8ff;}#sk-container-id-1 div.sk-toggleable__content pre {margin: 0.2em;color: black;border-radius: 0.25em;background-color: #f0f8ff;}#sk-container-id-1 input.sk-toggleable__control:checked~div.sk-toggleable__content {max-height: 200px;max-width: 100%;overflow: auto;}#sk-container-id-1 input.sk-toggleable__control:checked~label.sk-toggleable__label-arrow:before {content: \"▾\";}#sk-container-id-1 div.sk-estimator input.sk-toggleable__control:checked~label.sk-toggleable__label {background-color: #d4ebff;}#sk-container-id-1 div.sk-label input.sk-toggleable__control:checked~label.sk-toggleable__label {background-color: #d4ebff;}#sk-container-id-1 input.sk-hidden--visually {border: 0;clip: rect(1px 1px 1px 1px);clip: rect(1px, 1px, 1px, 1px);height: 1px;margin: -1px;overflow: hidden;padding: 0;position: absolute;width: 1px;}#sk-container-id-1 div.sk-estimator {font-family: monospace;background-color: #f0f8ff;border: 1px dotted black;border-radius: 0.25em;box-sizing: border-box;margin-bottom: 0.5em;}#sk-container-id-1 div.sk-estimator:hover {background-color: #d4ebff;}#sk-container-id-1 div.sk-parallel-item::after {content: \"\";width: 100%;border-bottom: 1px solid gray;flex-grow: 1;}#sk-container-id-1 div.sk-label:hover label.sk-toggleable__label {background-color: #d4ebff;}#sk-container-id-1 div.sk-serial::before {content: \"\";position: absolute;border-left: 1px solid gray;box-sizing: border-box;top: 0;bottom: 0;left: 50%;z-index: 0;}#sk-container-id-1 div.sk-serial {display: flex;flex-direction: column;align-items: center;background-color: white;padding-right: 0.2em;padding-left: 0.2em;position: relative;}#sk-container-id-1 div.sk-item {position: relative;z-index: 1;}#sk-container-id-1 div.sk-parallel {display: flex;align-items: stretch;justify-content: center;background-color: white;position: relative;}#sk-container-id-1 div.sk-item::before, #sk-container-id-1 div.sk-parallel-item::before {content: \"\";position: absolute;border-left: 1px solid gray;box-sizing: border-box;top: 0;bottom: 0;left: 50%;z-index: -1;}#sk-container-id-1 div.sk-parallel-item {display: flex;flex-direction: column;z-index: 1;position: relative;background-color: white;}#sk-container-id-1 div.sk-parallel-item:first-child::after {align-self: flex-end;width: 50%;}#sk-container-id-1 div.sk-parallel-item:last-child::after {align-self: flex-start;width: 50%;}#sk-container-id-1 div.sk-parallel-item:only-child::after {width: 0;}#sk-container-id-1 div.sk-dashed-wrapped {border: 1px dashed gray;margin: 0 0.4em 0.5em 0.4em;box-sizing: border-box;padding-bottom: 0.4em;background-color: white;}#sk-container-id-1 div.sk-label label {font-family: monospace;font-weight: bold;display: inline-block;line-height: 1.2em;}#sk-container-id-1 div.sk-label-container {text-align: center;}#sk-container-id-1 div.sk-container {/* jupyter's `normalize.less` sets `[hidden] { display: none; }` but bootstrap.min.css set `[hidden] { display: none !important; }` so we also need the `!important` here to be able to override the default hidden behavior on the sphinx rendered scikit-learn.org. See: https://github.com/scikit-learn/scikit-learn/issues/21755 */display: inline-block !important;position: relative;}#sk-container-id-1 div.sk-text-repr-fallback {display: none;}</style><div id=\"sk-container-id-1\" class=\"sk-top-container\"><div class=\"sk-text-repr-fallback\"><pre>LinearRegression()</pre><b>In a Jupyter environment, please rerun this cell to show the HTML representation or trust the notebook. <br />On GitHub, the HTML representation is unable to render, please try loading this page with nbviewer.org.</b></div><div class=\"sk-container\" hidden><div class=\"sk-item\"><div class=\"sk-estimator sk-toggleable\"><input class=\"sk-toggleable__control sk-hidden--visually\" id=\"sk-estimator-id-1\" type=\"checkbox\" checked><label for=\"sk-estimator-id-1\" class=\"sk-toggleable__label sk-toggleable__label-arrow\">LinearRegression</label><div class=\"sk-toggleable__content\"><pre>LinearRegression()</pre></div></div></div></div></div>"
      ],
      "text/plain": [
       "LinearRegression()"
      ]
     },
     "execution_count": 18,
     "metadata": {},
     "output_type": "execute_result"
    }
   ],
   "source": [
    "linr = models[0]\n",
    "linr[0]"
   ]
  },
  {
   "cell_type": "code",
   "execution_count": 19,
   "id": "5a2029b1-6758-4f63-9f69-37ae9b4b53a4",
   "metadata": {
    "tags": []
   },
   "outputs": [],
   "source": [
    "# check if model folder exists and if not , then create\n",
    "model_folder = '../result_models/'\n",
    "if not os.path.exists(model_folder):\n",
    "    os.makedirs(model_folder)"
   ]
  },
  {
   "cell_type": "code",
   "execution_count": 20,
   "id": "38457549-93e9-40f5-9b61-106ac0867bb2",
   "metadata": {
    "tags": []
   },
   "outputs": [],
   "source": [
    "## optional save models\n",
    "#joblib.dump(linr[0], ('../result_models/'+ 'neuro_harm_mri_linr0.sav'))\n",
    "#joblib.dump(linr[1], ('../result_models/'+ 'neuro_harm_mri_linr1.sav'))\n",
    "#joblib.dump(linr[2], ('../result_models/'+ 'neuro_harm_mri_linr2.sav'))\n",
    "#joblib.dump(linr[3], ('../result_models/'+ 'neuro_harm_mri_linr3.sav'))\n",
    "#joblib.dump(linr[4], ('../result_models/'+ 'neuro_harm_mri_linr4.sav'))"
   ]
  },
  {
   "cell_type": "code",
   "execution_count": 21,
   "id": "2fd550f0-6b41-4c28-8945-0e86f237cdd3",
   "metadata": {
    "tags": []
   },
   "outputs": [
    {
     "name": "stderr",
     "output_type": "stream",
     "text": [
      "C:\\Projects\\cvasl\\extended_harm_paper\\..\\cvasl\\seperated.py:1055: FutureWarning: The behavior of DataFrame concatenation with empty or all-NA entries is deprecated. In a future version, this will no longer exclude empty or all-NA columns when determining the result dtypes. To retain the old behavior, exclude the relevant entries before the concat operation.\n",
      "  mod_results = pd.concat([mod_results, mod_results_current_fold])\n",
      "C:\\Projects\\cvasl\\extended_harm_paper\\..\\cvasl\\seperated.py:1055: FutureWarning: The behavior of DataFrame concatenation with empty or all-NA entries is deprecated. In a future version, this will no longer exclude empty or all-NA columns when determining the result dtypes. To retain the old behavior, exclude the relevant entries before the concat operation.\n",
      "  mod_results = pd.concat([mod_results, mod_results_current_fold])\n",
      "C:\\Projects\\cvasl\\extended_harm_paper\\..\\cvasl\\seperated.py:1055: FutureWarning: The behavior of DataFrame concatenation with empty or all-NA entries is deprecated. In a future version, this will no longer exclude empty or all-NA columns when determining the result dtypes. To retain the old behavior, exclude the relevant entries before the concat operation.\n",
      "  mod_results = pd.concat([mod_results, mod_results_current_fold])\n",
      "C:\\Projects\\cvasl\\extended_harm_paper\\..\\cvasl\\seperated.py:1055: FutureWarning: The behavior of DataFrame concatenation with empty or all-NA entries is deprecated. In a future version, this will no longer exclude empty or all-NA columns when determining the result dtypes. To retain the old behavior, exclude the relevant entries before the concat operation.\n",
      "  mod_results = pd.concat([mod_results, mod_results_current_fold])\n",
      "C:\\Projects\\cvasl\\extended_harm_paper\\..\\cvasl\\seperated.py:1055: FutureWarning: The behavior of DataFrame concatenation with empty or all-NA entries is deprecated. In a future version, this will no longer exclude empty or all-NA columns when determining the result dtypes. To retain the old behavior, exclude the relevant entries before the concat operation.\n",
      "  mod_results = pd.concat([mod_results, mod_results_current_fold])\n"
     ]
    },
    {
     "data": {
      "text/html": [
       "<div>\n",
       "<style scoped>\n",
       "    .dataframe tbody tr th:only-of-type {\n",
       "        vertical-align: middle;\n",
       "    }\n",
       "\n",
       "    .dataframe tbody tr th {\n",
       "        vertical-align: top;\n",
       "    }\n",
       "\n",
       "    .dataframe thead th {\n",
       "        text-align: right;\n",
       "    }\n",
       "</style>\n",
       "<table border=\"1\" class=\"dataframe\">\n",
       "  <thead>\n",
       "    <tr style=\"text-align: right;\">\n",
       "      <th></th>\n",
       "      <th>algorithm</th>\n",
       "      <th>fold</th>\n",
       "      <th>file_name</th>\n",
       "      <th>mae</th>\n",
       "      <th>r2</th>\n",
       "      <th>explained_variance</th>\n",
       "    </tr>\n",
       "  </thead>\n",
       "  <tbody>\n",
       "    <tr>\n",
       "      <th>0</th>\n",
       "      <td>lasso regression-0</td>\n",
       "      <td>0</td>\n",
       "      <td>neuro_harm_mri_llreg.0</td>\n",
       "      <td>5.677430</td>\n",
       "      <td>0.730529</td>\n",
       "      <td>0.731040</td>\n",
       "    </tr>\n",
       "    <tr>\n",
       "      <th>0</th>\n",
       "      <td>lasso regression-1</td>\n",
       "      <td>1</td>\n",
       "      <td>neuro_harm_mri_llreg.1</td>\n",
       "      <td>5.437946</td>\n",
       "      <td>0.768940</td>\n",
       "      <td>0.777349</td>\n",
       "    </tr>\n",
       "    <tr>\n",
       "      <th>0</th>\n",
       "      <td>lasso regression-2</td>\n",
       "      <td>2</td>\n",
       "      <td>neuro_harm_mri_llreg.2</td>\n",
       "      <td>6.168479</td>\n",
       "      <td>0.674264</td>\n",
       "      <td>0.674291</td>\n",
       "    </tr>\n",
       "    <tr>\n",
       "      <th>0</th>\n",
       "      <td>lasso regression-3</td>\n",
       "      <td>3</td>\n",
       "      <td>neuro_harm_mri_llreg.3</td>\n",
       "      <td>6.109054</td>\n",
       "      <td>0.716987</td>\n",
       "      <td>0.717172</td>\n",
       "    </tr>\n",
       "    <tr>\n",
       "      <th>0</th>\n",
       "      <td>lasso regression-4</td>\n",
       "      <td>4</td>\n",
       "      <td>neuro_harm_mri_llreg.4</td>\n",
       "      <td>5.466647</td>\n",
       "      <td>0.773761</td>\n",
       "      <td>0.773768</td>\n",
       "    </tr>\n",
       "  </tbody>\n",
       "</table>\n",
       "</div>"
      ],
      "text/plain": [
       "            algorithm fold               file_name       mae        r2  \\\n",
       "0  lasso regression-0    0  neuro_harm_mri_llreg.0  5.677430  0.730529   \n",
       "0  lasso regression-1    1  neuro_harm_mri_llreg.1  5.437946  0.768940   \n",
       "0  lasso regression-2    2  neuro_harm_mri_llreg.2  6.168479  0.674264   \n",
       "0  lasso regression-3    3  neuro_harm_mri_llreg.3  6.109054  0.716987   \n",
       "0  lasso regression-4    4  neuro_harm_mri_llreg.4  5.466647  0.773761   \n",
       "\n",
       "   explained_variance  \n",
       "0            0.731040  \n",
       "0            0.777349  \n",
       "0            0.674291  \n",
       "0            0.717172  \n",
       "0            0.773768  "
      ]
     },
     "execution_count": 21,
     "metadata": {},
     "output_type": "execute_result"
    }
   ],
   "source": [
    "llreg_k_frame, llreg_y_frame, models = sep.stratified_cat_and_cont_categories_shuffle_split('lasso regression', 'neuro_harm_mri_llreg',  linear_model.LassoLars(alpha=0.01), ml_matrix, X, y)\n",
    "llreg_k_frame"
   ]
  },
  {
   "cell_type": "code",
   "execution_count": 22,
   "id": "5e1638e5-57bc-447f-94f2-b5f9c631f5f9",
   "metadata": {
    "tags": []
   },
   "outputs": [],
   "source": [
    "llreg_k_frame.to_csv(output_folder + '/neuro_harmonized_mri_llreg_k_frame.csv')"
   ]
  },
  {
   "cell_type": "code",
   "execution_count": 23,
   "id": "677564bc-7d69-4961-a7e4-563117cf9999",
   "metadata": {
    "tags": []
   },
   "outputs": [
    {
     "data": {
      "text/html": [
       "<div>\n",
       "<style scoped>\n",
       "    .dataframe tbody tr th:only-of-type {\n",
       "        vertical-align: middle;\n",
       "    }\n",
       "\n",
       "    .dataframe tbody tr th {\n",
       "        vertical-align: top;\n",
       "    }\n",
       "\n",
       "    .dataframe thead th {\n",
       "        text-align: right;\n",
       "    }\n",
       "</style>\n",
       "<table border=\"1\" class=\"dataframe\">\n",
       "  <thead>\n",
       "    <tr style=\"text-align: right;\">\n",
       "      <th></th>\n",
       "      <th>algorithm</th>\n",
       "      <th>file_name</th>\n",
       "      <th>mae</th>\n",
       "      <th>r2</th>\n",
       "      <th>explained_variance</th>\n",
       "    </tr>\n",
       "  </thead>\n",
       "  <tbody>\n",
       "    <tr>\n",
       "      <th>0</th>\n",
       "      <td>0    lasso regression-0\n",
       "0    lasso regression-...</td>\n",
       "      <td>0    neuro_harm_mri_llreg.0\n",
       "0    neuro_harm_mr...</td>\n",
       "      <td>5.771911</td>\n",
       "      <td>0.732896</td>\n",
       "      <td>0.734724</td>\n",
       "    </tr>\n",
       "  </tbody>\n",
       "</table>\n",
       "</div>"
      ],
      "text/plain": [
       "                                           algorithm  \\\n",
       "0  0    lasso regression-0\n",
       "0    lasso regression-...   \n",
       "\n",
       "                                           file_name       mae        r2  \\\n",
       "0  0    neuro_harm_mri_llreg.0\n",
       "0    neuro_harm_mr...  5.771911  0.732896   \n",
       "\n",
       "   explained_variance  \n",
       "0            0.734724  "
      ]
     },
     "execution_count": 23,
     "metadata": {},
     "output_type": "execute_result"
    }
   ],
   "source": [
    "avg_llreg = sep.avg_k_folds(llreg_k_frame)\n",
    "avg_llreg"
   ]
  },
  {
   "cell_type": "code",
   "execution_count": 24,
   "id": "16b37956-2e32-4c2b-bb26-956c6951dd54",
   "metadata": {
    "tags": []
   },
   "outputs": [
    {
     "data": {
      "text/html": [
       "<div>\n",
       "<style scoped>\n",
       "    .dataframe tbody tr th:only-of-type {\n",
       "        vertical-align: middle;\n",
       "    }\n",
       "\n",
       "    .dataframe tbody tr th {\n",
       "        vertical-align: top;\n",
       "    }\n",
       "\n",
       "    .dataframe thead th {\n",
       "        text-align: right;\n",
       "    }\n",
       "</style>\n",
       "<table border=\"1\" class=\"dataframe\">\n",
       "  <thead>\n",
       "    <tr style=\"text-align: right;\">\n",
       "      <th></th>\n",
       "      <th>y_test</th>\n",
       "      <th>y_pred</th>\n",
       "    </tr>\n",
       "  </thead>\n",
       "  <tbody>\n",
       "    <tr>\n",
       "      <th>0</th>\n",
       "      <td>44.509589</td>\n",
       "      <td>48.425238</td>\n",
       "    </tr>\n",
       "    <tr>\n",
       "      <th>1</th>\n",
       "      <td>66.471233</td>\n",
       "      <td>58.853288</td>\n",
       "    </tr>\n",
       "    <tr>\n",
       "      <th>2</th>\n",
       "      <td>46.084932</td>\n",
       "      <td>49.096615</td>\n",
       "    </tr>\n",
       "    <tr>\n",
       "      <th>3</th>\n",
       "      <td>73.564384</td>\n",
       "      <td>67.734372</td>\n",
       "    </tr>\n",
       "    <tr>\n",
       "      <th>4</th>\n",
       "      <td>51.357923</td>\n",
       "      <td>43.020244</td>\n",
       "    </tr>\n",
       "    <tr>\n",
       "      <th>...</th>\n",
       "      <td>...</td>\n",
       "      <td>...</td>\n",
       "    </tr>\n",
       "    <tr>\n",
       "      <th>140</th>\n",
       "      <td>74.191257</td>\n",
       "      <td>63.534075</td>\n",
       "    </tr>\n",
       "    <tr>\n",
       "      <th>141</th>\n",
       "      <td>67.515068</td>\n",
       "      <td>64.372385</td>\n",
       "    </tr>\n",
       "    <tr>\n",
       "      <th>142</th>\n",
       "      <td>49.827375</td>\n",
       "      <td>61.403330</td>\n",
       "    </tr>\n",
       "    <tr>\n",
       "      <th>143</th>\n",
       "      <td>71.254795</td>\n",
       "      <td>71.495612</td>\n",
       "    </tr>\n",
       "    <tr>\n",
       "      <th>144</th>\n",
       "      <td>66.884767</td>\n",
       "      <td>64.957468</td>\n",
       "    </tr>\n",
       "  </tbody>\n",
       "</table>\n",
       "<p>725 rows × 2 columns</p>\n",
       "</div>"
      ],
      "text/plain": [
       "        y_test     y_pred\n",
       "0    44.509589  48.425238\n",
       "1    66.471233  58.853288\n",
       "2    46.084932  49.096615\n",
       "3    73.564384  67.734372\n",
       "4    51.357923  43.020244\n",
       "..         ...        ...\n",
       "140  74.191257  63.534075\n",
       "141  67.515068  64.372385\n",
       "142  49.827375  61.403330\n",
       "143  71.254795  71.495612\n",
       "144  66.884767  64.957468\n",
       "\n",
       "[725 rows x 2 columns]"
      ]
     },
     "execution_count": 24,
     "metadata": {},
     "output_type": "execute_result"
    }
   ],
   "source": [
    "llreg_y_frame"
   ]
  },
  {
   "cell_type": "code",
   "execution_count": 25,
   "id": "ab60d46f-4d45-4a1f-af21-e05e4d33928b",
   "metadata": {
    "tags": []
   },
   "outputs": [],
   "source": [
    "llreg_y_frame.to_csv(output_folder + '/neuro_harmonized_mri_llreg_y_frame.csv')"
   ]
  },
  {
   "cell_type": "code",
   "execution_count": 26,
   "id": "145e276b-3be5-49bd-969c-2b9ed9dddece",
   "metadata": {
    "tags": []
   },
   "outputs": [
    {
     "data": {
      "text/html": [
       "<style>#sk-container-id-2 {color: black;}#sk-container-id-2 pre{padding: 0;}#sk-container-id-2 div.sk-toggleable {background-color: white;}#sk-container-id-2 label.sk-toggleable__label {cursor: pointer;display: block;width: 100%;margin-bottom: 0;padding: 0.3em;box-sizing: border-box;text-align: center;}#sk-container-id-2 label.sk-toggleable__label-arrow:before {content: \"▸\";float: left;margin-right: 0.25em;color: #696969;}#sk-container-id-2 label.sk-toggleable__label-arrow:hover:before {color: black;}#sk-container-id-2 div.sk-estimator:hover label.sk-toggleable__label-arrow:before {color: black;}#sk-container-id-2 div.sk-toggleable__content {max-height: 0;max-width: 0;overflow: hidden;text-align: left;background-color: #f0f8ff;}#sk-container-id-2 div.sk-toggleable__content pre {margin: 0.2em;color: black;border-radius: 0.25em;background-color: #f0f8ff;}#sk-container-id-2 input.sk-toggleable__control:checked~div.sk-toggleable__content {max-height: 200px;max-width: 100%;overflow: auto;}#sk-container-id-2 input.sk-toggleable__control:checked~label.sk-toggleable__label-arrow:before {content: \"▾\";}#sk-container-id-2 div.sk-estimator input.sk-toggleable__control:checked~label.sk-toggleable__label {background-color: #d4ebff;}#sk-container-id-2 div.sk-label input.sk-toggleable__control:checked~label.sk-toggleable__label {background-color: #d4ebff;}#sk-container-id-2 input.sk-hidden--visually {border: 0;clip: rect(1px 1px 1px 1px);clip: rect(1px, 1px, 1px, 1px);height: 1px;margin: -1px;overflow: hidden;padding: 0;position: absolute;width: 1px;}#sk-container-id-2 div.sk-estimator {font-family: monospace;background-color: #f0f8ff;border: 1px dotted black;border-radius: 0.25em;box-sizing: border-box;margin-bottom: 0.5em;}#sk-container-id-2 div.sk-estimator:hover {background-color: #d4ebff;}#sk-container-id-2 div.sk-parallel-item::after {content: \"\";width: 100%;border-bottom: 1px solid gray;flex-grow: 1;}#sk-container-id-2 div.sk-label:hover label.sk-toggleable__label {background-color: #d4ebff;}#sk-container-id-2 div.sk-serial::before {content: \"\";position: absolute;border-left: 1px solid gray;box-sizing: border-box;top: 0;bottom: 0;left: 50%;z-index: 0;}#sk-container-id-2 div.sk-serial {display: flex;flex-direction: column;align-items: center;background-color: white;padding-right: 0.2em;padding-left: 0.2em;position: relative;}#sk-container-id-2 div.sk-item {position: relative;z-index: 1;}#sk-container-id-2 div.sk-parallel {display: flex;align-items: stretch;justify-content: center;background-color: white;position: relative;}#sk-container-id-2 div.sk-item::before, #sk-container-id-2 div.sk-parallel-item::before {content: \"\";position: absolute;border-left: 1px solid gray;box-sizing: border-box;top: 0;bottom: 0;left: 50%;z-index: -1;}#sk-container-id-2 div.sk-parallel-item {display: flex;flex-direction: column;z-index: 1;position: relative;background-color: white;}#sk-container-id-2 div.sk-parallel-item:first-child::after {align-self: flex-end;width: 50%;}#sk-container-id-2 div.sk-parallel-item:last-child::after {align-self: flex-start;width: 50%;}#sk-container-id-2 div.sk-parallel-item:only-child::after {width: 0;}#sk-container-id-2 div.sk-dashed-wrapped {border: 1px dashed gray;margin: 0 0.4em 0.5em 0.4em;box-sizing: border-box;padding-bottom: 0.4em;background-color: white;}#sk-container-id-2 div.sk-label label {font-family: monospace;font-weight: bold;display: inline-block;line-height: 1.2em;}#sk-container-id-2 div.sk-label-container {text-align: center;}#sk-container-id-2 div.sk-container {/* jupyter's `normalize.less` sets `[hidden] { display: none; }` but bootstrap.min.css set `[hidden] { display: none !important; }` so we also need the `!important` here to be able to override the default hidden behavior on the sphinx rendered scikit-learn.org. See: https://github.com/scikit-learn/scikit-learn/issues/21755 */display: inline-block !important;position: relative;}#sk-container-id-2 div.sk-text-repr-fallback {display: none;}</style><div id=\"sk-container-id-2\" class=\"sk-top-container\"><div class=\"sk-text-repr-fallback\"><pre>LassoLars(alpha=0.01)</pre><b>In a Jupyter environment, please rerun this cell to show the HTML representation or trust the notebook. <br />On GitHub, the HTML representation is unable to render, please try loading this page with nbviewer.org.</b></div><div class=\"sk-container\" hidden><div class=\"sk-item\"><div class=\"sk-estimator sk-toggleable\"><input class=\"sk-toggleable__control sk-hidden--visually\" id=\"sk-estimator-id-2\" type=\"checkbox\" checked><label for=\"sk-estimator-id-2\" class=\"sk-toggleable__label sk-toggleable__label-arrow\">LassoLars</label><div class=\"sk-toggleable__content\"><pre>LassoLars(alpha=0.01)</pre></div></div></div></div></div>"
      ],
      "text/plain": [
       "LassoLars(alpha=0.01)"
      ]
     },
     "execution_count": 26,
     "metadata": {},
     "output_type": "execute_result"
    }
   ],
   "source": [
    "llreg = models[0]\n",
    "llreg[0]"
   ]
  },
  {
   "cell_type": "code",
   "execution_count": 27,
   "id": "ea0576e1-178d-4be7-abe3-1f67f3e02e52",
   "metadata": {
    "tags": []
   },
   "outputs": [],
   "source": [
    "## optional save models\n",
    "#joblib.dump(llreg[0], ('../result_models/'+ 'neuro_harm_mri_llreg0.sav'))\n",
    "#joblib.dump(llreg[1], ('../result_models/'+ 'neuro_harm_mri_llreg1.sav'))\n",
    "#joblib.dump(llreg[2], ('../result_models/'+ 'neuro_harm_mri_llreg2.sav'))\n",
    "#joblib.dump(llreg[3], ('../result_models/'+ 'neuro_harm_mri_llreg3.sav'))\n",
    "#joblib.dump(llreg[4], ('../result_models/'+ 'neuro_harm_mri_llreg4.sav'))"
   ]
  },
  {
   "cell_type": "code",
   "execution_count": 28,
   "id": "0599ec3d-1885-4f70-9416-2621433da782",
   "metadata": {
    "tags": []
   },
   "outputs": [
    {
     "name": "stderr",
     "output_type": "stream",
     "text": [
      "C:\\Projects\\cvasl\\extended_harm_paper\\..\\cvasl\\seperated.py:1055: FutureWarning: The behavior of DataFrame concatenation with empty or all-NA entries is deprecated. In a future version, this will no longer exclude empty or all-NA columns when determining the result dtypes. To retain the old behavior, exclude the relevant entries before the concat operation.\n",
      "  mod_results = pd.concat([mod_results, mod_results_current_fold])\n",
      "C:\\Projects\\cvasl\\extended_harm_paper\\..\\cvasl\\seperated.py:1055: FutureWarning: The behavior of DataFrame concatenation with empty or all-NA entries is deprecated. In a future version, this will no longer exclude empty or all-NA columns when determining the result dtypes. To retain the old behavior, exclude the relevant entries before the concat operation.\n",
      "  mod_results = pd.concat([mod_results, mod_results_current_fold])\n",
      "C:\\Projects\\cvasl\\extended_harm_paper\\..\\cvasl\\seperated.py:1055: FutureWarning: The behavior of DataFrame concatenation with empty or all-NA entries is deprecated. In a future version, this will no longer exclude empty or all-NA columns when determining the result dtypes. To retain the old behavior, exclude the relevant entries before the concat operation.\n",
      "  mod_results = pd.concat([mod_results, mod_results_current_fold])\n",
      "C:\\Projects\\cvasl\\extended_harm_paper\\..\\cvasl\\seperated.py:1055: FutureWarning: The behavior of DataFrame concatenation with empty or all-NA entries is deprecated. In a future version, this will no longer exclude empty or all-NA columns when determining the result dtypes. To retain the old behavior, exclude the relevant entries before the concat operation.\n",
      "  mod_results = pd.concat([mod_results, mod_results_current_fold])\n",
      "C:\\Projects\\cvasl\\extended_harm_paper\\..\\cvasl\\seperated.py:1055: FutureWarning: The behavior of DataFrame concatenation with empty or all-NA entries is deprecated. In a future version, this will no longer exclude empty or all-NA columns when determining the result dtypes. To retain the old behavior, exclude the relevant entries before the concat operation.\n",
      "  mod_results = pd.concat([mod_results, mod_results_current_fold])\n"
     ]
    },
    {
     "data": {
      "text/html": [
       "<div>\n",
       "<style scoped>\n",
       "    .dataframe tbody tr th:only-of-type {\n",
       "        vertical-align: middle;\n",
       "    }\n",
       "\n",
       "    .dataframe tbody tr th {\n",
       "        vertical-align: top;\n",
       "    }\n",
       "\n",
       "    .dataframe thead th {\n",
       "        text-align: right;\n",
       "    }\n",
       "</style>\n",
       "<table border=\"1\" class=\"dataframe\">\n",
       "  <thead>\n",
       "    <tr style=\"text-align: right;\">\n",
       "      <th></th>\n",
       "      <th>algorithm</th>\n",
       "      <th>fold</th>\n",
       "      <th>file_name</th>\n",
       "      <th>mae</th>\n",
       "      <th>r2</th>\n",
       "      <th>explained_variance</th>\n",
       "    </tr>\n",
       "  </thead>\n",
       "  <tbody>\n",
       "    <tr>\n",
       "      <th>0</th>\n",
       "      <td>decision tree-0</td>\n",
       "      <td>0</td>\n",
       "      <td>neuro_harm_mri_dtree.0</td>\n",
       "      <td>5.150051</td>\n",
       "      <td>0.762224</td>\n",
       "      <td>0.763275</td>\n",
       "    </tr>\n",
       "    <tr>\n",
       "      <th>0</th>\n",
       "      <td>decision tree-1</td>\n",
       "      <td>1</td>\n",
       "      <td>neuro_harm_mri_dtree.1</td>\n",
       "      <td>5.633059</td>\n",
       "      <td>0.770467</td>\n",
       "      <td>0.779987</td>\n",
       "    </tr>\n",
       "    <tr>\n",
       "      <th>0</th>\n",
       "      <td>decision tree-2</td>\n",
       "      <td>2</td>\n",
       "      <td>neuro_harm_mri_dtree.2</td>\n",
       "      <td>5.642214</td>\n",
       "      <td>0.724239</td>\n",
       "      <td>0.725160</td>\n",
       "    </tr>\n",
       "    <tr>\n",
       "      <th>0</th>\n",
       "      <td>decision tree-3</td>\n",
       "      <td>3</td>\n",
       "      <td>neuro_harm_mri_dtree.3</td>\n",
       "      <td>5.240820</td>\n",
       "      <td>0.771683</td>\n",
       "      <td>0.773889</td>\n",
       "    </tr>\n",
       "    <tr>\n",
       "      <th>0</th>\n",
       "      <td>decision tree-4</td>\n",
       "      <td>4</td>\n",
       "      <td>neuro_harm_mri_dtree.4</td>\n",
       "      <td>5.575503</td>\n",
       "      <td>0.729054</td>\n",
       "      <td>0.729160</td>\n",
       "    </tr>\n",
       "  </tbody>\n",
       "</table>\n",
       "</div>"
      ],
      "text/plain": [
       "         algorithm fold               file_name       mae        r2  \\\n",
       "0  decision tree-0    0  neuro_harm_mri_dtree.0  5.150051  0.762224   \n",
       "0  decision tree-1    1  neuro_harm_mri_dtree.1  5.633059  0.770467   \n",
       "0  decision tree-2    2  neuro_harm_mri_dtree.2  5.642214  0.724239   \n",
       "0  decision tree-3    3  neuro_harm_mri_dtree.3  5.240820  0.771683   \n",
       "0  decision tree-4    4  neuro_harm_mri_dtree.4  5.575503  0.729054   \n",
       "\n",
       "   explained_variance  \n",
       "0            0.763275  \n",
       "0            0.779987  \n",
       "0            0.725160  \n",
       "0            0.773889  \n",
       "0            0.729160  "
      ]
     },
     "execution_count": 28,
     "metadata": {},
     "output_type": "execute_result"
    }
   ],
   "source": [
    "dtree_k_frame, dtree_y_frame, models = sep.stratified_cat_and_cont_categories_shuffle_split('decision tree', 'neuro_harm_mri_dtree',  tree.DecisionTreeRegressor(), ml_matrix, X, y)\n",
    "dtree_k_frame"
   ]
  },
  {
   "cell_type": "code",
   "execution_count": 29,
   "id": "091a9366-e436-4bb0-b883-e0d522f510c5",
   "metadata": {
    "tags": []
   },
   "outputs": [],
   "source": [
    "dtree_k_frame.to_csv(output_folder + '/neuro_harmonized_mri_dtree_k_frame.csv')"
   ]
  },
  {
   "cell_type": "code",
   "execution_count": 30,
   "id": "ca644340-de30-41a8-8018-db9f5b8c36d5",
   "metadata": {
    "tags": []
   },
   "outputs": [
    {
     "data": {
      "text/html": [
       "<div>\n",
       "<style scoped>\n",
       "    .dataframe tbody tr th:only-of-type {\n",
       "        vertical-align: middle;\n",
       "    }\n",
       "\n",
       "    .dataframe tbody tr th {\n",
       "        vertical-align: top;\n",
       "    }\n",
       "\n",
       "    .dataframe thead th {\n",
       "        text-align: right;\n",
       "    }\n",
       "</style>\n",
       "<table border=\"1\" class=\"dataframe\">\n",
       "  <thead>\n",
       "    <tr style=\"text-align: right;\">\n",
       "      <th></th>\n",
       "      <th>algorithm</th>\n",
       "      <th>file_name</th>\n",
       "      <th>mae</th>\n",
       "      <th>r2</th>\n",
       "      <th>explained_variance</th>\n",
       "    </tr>\n",
       "  </thead>\n",
       "  <tbody>\n",
       "    <tr>\n",
       "      <th>0</th>\n",
       "      <td>0    decision tree-0\n",
       "0    decision tree-1\n",
       "0   ...</td>\n",
       "      <td>0    neuro_harm_mri_dtree.0\n",
       "0    neuro_harm_mr...</td>\n",
       "      <td>5.44833</td>\n",
       "      <td>0.751533</td>\n",
       "      <td>0.754294</td>\n",
       "    </tr>\n",
       "  </tbody>\n",
       "</table>\n",
       "</div>"
      ],
      "text/plain": [
       "                                           algorithm  \\\n",
       "0  0    decision tree-0\n",
       "0    decision tree-1\n",
       "0   ...   \n",
       "\n",
       "                                           file_name      mae        r2  \\\n",
       "0  0    neuro_harm_mri_dtree.0\n",
       "0    neuro_harm_mr...  5.44833  0.751533   \n",
       "\n",
       "   explained_variance  \n",
       "0            0.754294  "
      ]
     },
     "execution_count": 30,
     "metadata": {},
     "output_type": "execute_result"
    }
   ],
   "source": [
    "avg_dtree = sep.avg_k_folds(dtree_k_frame)\n",
    "avg_dtree"
   ]
  },
  {
   "cell_type": "code",
   "execution_count": 31,
   "id": "778f2a66-3cbe-424d-8cf0-1e0f74e576af",
   "metadata": {
    "tags": []
   },
   "outputs": [
    {
     "data": {
      "text/html": [
       "<div>\n",
       "<style scoped>\n",
       "    .dataframe tbody tr th:only-of-type {\n",
       "        vertical-align: middle;\n",
       "    }\n",
       "\n",
       "    .dataframe tbody tr th {\n",
       "        vertical-align: top;\n",
       "    }\n",
       "\n",
       "    .dataframe thead th {\n",
       "        text-align: right;\n",
       "    }\n",
       "</style>\n",
       "<table border=\"1\" class=\"dataframe\">\n",
       "  <thead>\n",
       "    <tr style=\"text-align: right;\">\n",
       "      <th></th>\n",
       "      <th>y_test</th>\n",
       "      <th>y_pred</th>\n",
       "    </tr>\n",
       "  </thead>\n",
       "  <tbody>\n",
       "    <tr>\n",
       "      <th>0</th>\n",
       "      <td>44.509589</td>\n",
       "      <td>42.248881</td>\n",
       "    </tr>\n",
       "    <tr>\n",
       "      <th>1</th>\n",
       "      <td>66.471233</td>\n",
       "      <td>59.706849</td>\n",
       "    </tr>\n",
       "    <tr>\n",
       "      <th>2</th>\n",
       "      <td>46.084932</td>\n",
       "      <td>37.568763</td>\n",
       "    </tr>\n",
       "    <tr>\n",
       "      <th>3</th>\n",
       "      <td>73.564384</td>\n",
       "      <td>68.106849</td>\n",
       "    </tr>\n",
       "    <tr>\n",
       "      <th>4</th>\n",
       "      <td>51.357923</td>\n",
       "      <td>48.872049</td>\n",
       "    </tr>\n",
       "    <tr>\n",
       "      <th>...</th>\n",
       "      <td>...</td>\n",
       "      <td>...</td>\n",
       "    </tr>\n",
       "    <tr>\n",
       "      <th>140</th>\n",
       "      <td>74.191257</td>\n",
       "      <td>79.210959</td>\n",
       "    </tr>\n",
       "    <tr>\n",
       "      <th>141</th>\n",
       "      <td>67.515068</td>\n",
       "      <td>64.367123</td>\n",
       "    </tr>\n",
       "    <tr>\n",
       "      <th>142</th>\n",
       "      <td>49.827375</td>\n",
       "      <td>51.052055</td>\n",
       "    </tr>\n",
       "    <tr>\n",
       "      <th>143</th>\n",
       "      <td>71.254795</td>\n",
       "      <td>71.060274</td>\n",
       "    </tr>\n",
       "    <tr>\n",
       "      <th>144</th>\n",
       "      <td>66.884767</td>\n",
       "      <td>70.098361</td>\n",
       "    </tr>\n",
       "  </tbody>\n",
       "</table>\n",
       "<p>725 rows × 2 columns</p>\n",
       "</div>"
      ],
      "text/plain": [
       "        y_test     y_pred\n",
       "0    44.509589  42.248881\n",
       "1    66.471233  59.706849\n",
       "2    46.084932  37.568763\n",
       "3    73.564384  68.106849\n",
       "4    51.357923  48.872049\n",
       "..         ...        ...\n",
       "140  74.191257  79.210959\n",
       "141  67.515068  64.367123\n",
       "142  49.827375  51.052055\n",
       "143  71.254795  71.060274\n",
       "144  66.884767  70.098361\n",
       "\n",
       "[725 rows x 2 columns]"
      ]
     },
     "execution_count": 31,
     "metadata": {},
     "output_type": "execute_result"
    }
   ],
   "source": [
    "dtree_y_frame"
   ]
  },
  {
   "cell_type": "code",
   "execution_count": 32,
   "id": "aaf6bac8-011b-4386-a269-c518b9ed6d24",
   "metadata": {
    "tags": []
   },
   "outputs": [],
   "source": [
    "dtree_y_frame.to_csv(output_folder + '/neuro_harmonized_mri_dtree_y_frame.csv')"
   ]
  },
  {
   "cell_type": "code",
   "execution_count": 33,
   "id": "5b70d456-593f-4385-bd67-a42edfe850e0",
   "metadata": {
    "tags": []
   },
   "outputs": [
    {
     "data": {
      "text/html": [
       "<style>#sk-container-id-3 {color: black;}#sk-container-id-3 pre{padding: 0;}#sk-container-id-3 div.sk-toggleable {background-color: white;}#sk-container-id-3 label.sk-toggleable__label {cursor: pointer;display: block;width: 100%;margin-bottom: 0;padding: 0.3em;box-sizing: border-box;text-align: center;}#sk-container-id-3 label.sk-toggleable__label-arrow:before {content: \"▸\";float: left;margin-right: 0.25em;color: #696969;}#sk-container-id-3 label.sk-toggleable__label-arrow:hover:before {color: black;}#sk-container-id-3 div.sk-estimator:hover label.sk-toggleable__label-arrow:before {color: black;}#sk-container-id-3 div.sk-toggleable__content {max-height: 0;max-width: 0;overflow: hidden;text-align: left;background-color: #f0f8ff;}#sk-container-id-3 div.sk-toggleable__content pre {margin: 0.2em;color: black;border-radius: 0.25em;background-color: #f0f8ff;}#sk-container-id-3 input.sk-toggleable__control:checked~div.sk-toggleable__content {max-height: 200px;max-width: 100%;overflow: auto;}#sk-container-id-3 input.sk-toggleable__control:checked~label.sk-toggleable__label-arrow:before {content: \"▾\";}#sk-container-id-3 div.sk-estimator input.sk-toggleable__control:checked~label.sk-toggleable__label {background-color: #d4ebff;}#sk-container-id-3 div.sk-label input.sk-toggleable__control:checked~label.sk-toggleable__label {background-color: #d4ebff;}#sk-container-id-3 input.sk-hidden--visually {border: 0;clip: rect(1px 1px 1px 1px);clip: rect(1px, 1px, 1px, 1px);height: 1px;margin: -1px;overflow: hidden;padding: 0;position: absolute;width: 1px;}#sk-container-id-3 div.sk-estimator {font-family: monospace;background-color: #f0f8ff;border: 1px dotted black;border-radius: 0.25em;box-sizing: border-box;margin-bottom: 0.5em;}#sk-container-id-3 div.sk-estimator:hover {background-color: #d4ebff;}#sk-container-id-3 div.sk-parallel-item::after {content: \"\";width: 100%;border-bottom: 1px solid gray;flex-grow: 1;}#sk-container-id-3 div.sk-label:hover label.sk-toggleable__label {background-color: #d4ebff;}#sk-container-id-3 div.sk-serial::before {content: \"\";position: absolute;border-left: 1px solid gray;box-sizing: border-box;top: 0;bottom: 0;left: 50%;z-index: 0;}#sk-container-id-3 div.sk-serial {display: flex;flex-direction: column;align-items: center;background-color: white;padding-right: 0.2em;padding-left: 0.2em;position: relative;}#sk-container-id-3 div.sk-item {position: relative;z-index: 1;}#sk-container-id-3 div.sk-parallel {display: flex;align-items: stretch;justify-content: center;background-color: white;position: relative;}#sk-container-id-3 div.sk-item::before, #sk-container-id-3 div.sk-parallel-item::before {content: \"\";position: absolute;border-left: 1px solid gray;box-sizing: border-box;top: 0;bottom: 0;left: 50%;z-index: -1;}#sk-container-id-3 div.sk-parallel-item {display: flex;flex-direction: column;z-index: 1;position: relative;background-color: white;}#sk-container-id-3 div.sk-parallel-item:first-child::after {align-self: flex-end;width: 50%;}#sk-container-id-3 div.sk-parallel-item:last-child::after {align-self: flex-start;width: 50%;}#sk-container-id-3 div.sk-parallel-item:only-child::after {width: 0;}#sk-container-id-3 div.sk-dashed-wrapped {border: 1px dashed gray;margin: 0 0.4em 0.5em 0.4em;box-sizing: border-box;padding-bottom: 0.4em;background-color: white;}#sk-container-id-3 div.sk-label label {font-family: monospace;font-weight: bold;display: inline-block;line-height: 1.2em;}#sk-container-id-3 div.sk-label-container {text-align: center;}#sk-container-id-3 div.sk-container {/* jupyter's `normalize.less` sets `[hidden] { display: none; }` but bootstrap.min.css set `[hidden] { display: none !important; }` so we also need the `!important` here to be able to override the default hidden behavior on the sphinx rendered scikit-learn.org. See: https://github.com/scikit-learn/scikit-learn/issues/21755 */display: inline-block !important;position: relative;}#sk-container-id-3 div.sk-text-repr-fallback {display: none;}</style><div id=\"sk-container-id-3\" class=\"sk-top-container\"><div class=\"sk-text-repr-fallback\"><pre>DecisionTreeRegressor()</pre><b>In a Jupyter environment, please rerun this cell to show the HTML representation or trust the notebook. <br />On GitHub, the HTML representation is unable to render, please try loading this page with nbviewer.org.</b></div><div class=\"sk-container\" hidden><div class=\"sk-item\"><div class=\"sk-estimator sk-toggleable\"><input class=\"sk-toggleable__control sk-hidden--visually\" id=\"sk-estimator-id-3\" type=\"checkbox\" checked><label for=\"sk-estimator-id-3\" class=\"sk-toggleable__label sk-toggleable__label-arrow\">DecisionTreeRegressor</label><div class=\"sk-toggleable__content\"><pre>DecisionTreeRegressor()</pre></div></div></div></div></div>"
      ],
      "text/plain": [
       "DecisionTreeRegressor()"
      ]
     },
     "execution_count": 33,
     "metadata": {},
     "output_type": "execute_result"
    }
   ],
   "source": [
    "dtree = models[0]\n",
    "dtree[0]"
   ]
  },
  {
   "cell_type": "code",
   "execution_count": 34,
   "id": "71e691b9-4b7b-446b-84d8-1f4ce5ae4a08",
   "metadata": {
    "tags": []
   },
   "outputs": [
    {
     "name": "stderr",
     "output_type": "stream",
     "text": [
      "C:\\Projects\\cvasl\\extended_harm_paper\\..\\cvasl\\seperated.py:1055: FutureWarning: The behavior of DataFrame concatenation with empty or all-NA entries is deprecated. In a future version, this will no longer exclude empty or all-NA columns when determining the result dtypes. To retain the old behavior, exclude the relevant entries before the concat operation.\n",
      "  mod_results = pd.concat([mod_results, mod_results_current_fold])\n",
      "C:\\Users\\CandaceMoore\\miniconda3\\envs\\mriland\\Lib\\site-packages\\sklearn\\neural_network\\_multilayer_perceptron.py:691: ConvergenceWarning: Stochastic Optimizer: Maximum iterations (700) reached and the optimization hasn't converged yet.\n",
      "  warnings.warn(\n",
      "C:\\Projects\\cvasl\\extended_harm_paper\\..\\cvasl\\seperated.py:1055: FutureWarning: The behavior of DataFrame concatenation with empty or all-NA entries is deprecated. In a future version, this will no longer exclude empty or all-NA columns when determining the result dtypes. To retain the old behavior, exclude the relevant entries before the concat operation.\n",
      "  mod_results = pd.concat([mod_results, mod_results_current_fold])\n",
      "C:\\Projects\\cvasl\\extended_harm_paper\\..\\cvasl\\seperated.py:1055: FutureWarning: The behavior of DataFrame concatenation with empty or all-NA entries is deprecated. In a future version, this will no longer exclude empty or all-NA columns when determining the result dtypes. To retain the old behavior, exclude the relevant entries before the concat operation.\n",
      "  mod_results = pd.concat([mod_results, mod_results_current_fold])\n",
      "C:\\Projects\\cvasl\\extended_harm_paper\\..\\cvasl\\seperated.py:1055: FutureWarning: The behavior of DataFrame concatenation with empty or all-NA entries is deprecated. In a future version, this will no longer exclude empty or all-NA columns when determining the result dtypes. To retain the old behavior, exclude the relevant entries before the concat operation.\n",
      "  mod_results = pd.concat([mod_results, mod_results_current_fold])\n",
      "C:\\Projects\\cvasl\\extended_harm_paper\\..\\cvasl\\seperated.py:1055: FutureWarning: The behavior of DataFrame concatenation with empty or all-NA entries is deprecated. In a future version, this will no longer exclude empty or all-NA columns when determining the result dtypes. To retain the old behavior, exclude the relevant entries before the concat operation.\n",
      "  mod_results = pd.concat([mod_results, mod_results_current_fold])\n"
     ]
    },
    {
     "data": {
      "text/html": [
       "<div>\n",
       "<style scoped>\n",
       "    .dataframe tbody tr th:only-of-type {\n",
       "        vertical-align: middle;\n",
       "    }\n",
       "\n",
       "    .dataframe tbody tr th {\n",
       "        vertical-align: top;\n",
       "    }\n",
       "\n",
       "    .dataframe thead th {\n",
       "        text-align: right;\n",
       "    }\n",
       "</style>\n",
       "<table border=\"1\" class=\"dataframe\">\n",
       "  <thead>\n",
       "    <tr style=\"text-align: right;\">\n",
       "      <th></th>\n",
       "      <th>algorithm</th>\n",
       "      <th>fold</th>\n",
       "      <th>file_name</th>\n",
       "      <th>mae</th>\n",
       "      <th>r2</th>\n",
       "      <th>explained_variance</th>\n",
       "    </tr>\n",
       "  </thead>\n",
       "  <tbody>\n",
       "    <tr>\n",
       "      <th>0</th>\n",
       "      <td>MLP regression-0</td>\n",
       "      <td>0</td>\n",
       "      <td>neuro_harm_mri_regr.0</td>\n",
       "      <td>7.971571</td>\n",
       "      <td>0.475850</td>\n",
       "      <td>0.476062</td>\n",
       "    </tr>\n",
       "    <tr>\n",
       "      <th>0</th>\n",
       "      <td>MLP regression-1</td>\n",
       "      <td>1</td>\n",
       "      <td>neuro_harm_mri_regr.1</td>\n",
       "      <td>7.668439</td>\n",
       "      <td>0.543956</td>\n",
       "      <td>0.545398</td>\n",
       "    </tr>\n",
       "    <tr>\n",
       "      <th>0</th>\n",
       "      <td>MLP regression-2</td>\n",
       "      <td>2</td>\n",
       "      <td>neuro_harm_mri_regr.2</td>\n",
       "      <td>8.023781</td>\n",
       "      <td>0.481628</td>\n",
       "      <td>0.494080</td>\n",
       "    </tr>\n",
       "    <tr>\n",
       "      <th>0</th>\n",
       "      <td>MLP regression-3</td>\n",
       "      <td>3</td>\n",
       "      <td>neuro_harm_mri_regr.3</td>\n",
       "      <td>8.273465</td>\n",
       "      <td>0.437140</td>\n",
       "      <td>0.437145</td>\n",
       "    </tr>\n",
       "    <tr>\n",
       "      <th>0</th>\n",
       "      <td>MLP regression-4</td>\n",
       "      <td>4</td>\n",
       "      <td>neuro_harm_mri_regr.4</td>\n",
       "      <td>8.267472</td>\n",
       "      <td>0.461758</td>\n",
       "      <td>0.462236</td>\n",
       "    </tr>\n",
       "  </tbody>\n",
       "</table>\n",
       "</div>"
      ],
      "text/plain": [
       "          algorithm fold              file_name       mae        r2  \\\n",
       "0  MLP regression-0    0  neuro_harm_mri_regr.0  7.971571  0.475850   \n",
       "0  MLP regression-1    1  neuro_harm_mri_regr.1  7.668439  0.543956   \n",
       "0  MLP regression-2    2  neuro_harm_mri_regr.2  8.023781  0.481628   \n",
       "0  MLP regression-3    3  neuro_harm_mri_regr.3  8.273465  0.437140   \n",
       "0  MLP regression-4    4  neuro_harm_mri_regr.4  8.267472  0.461758   \n",
       "\n",
       "   explained_variance  \n",
       "0            0.476062  \n",
       "0            0.545398  \n",
       "0            0.494080  \n",
       "0            0.437145  \n",
       "0            0.462236  "
      ]
     },
     "execution_count": 34,
     "metadata": {},
     "output_type": "execute_result"
    }
   ],
   "source": [
    "regr_k_frame, regr_y_frame, models = sep.stratified_cat_and_cont_categories_shuffle_split('MLP regression', 'neuro_harm_mri_regr',   MLPRegressor(random_state=1, max_iter=700), ml_matrix, X, y)\n",
    "regr_k_frame"
   ]
  },
  {
   "cell_type": "code",
   "execution_count": 35,
   "id": "768c40b2-ae7e-47c8-9f41-219c59911af3",
   "metadata": {
    "tags": []
   },
   "outputs": [],
   "source": [
    "regr_k_frame.to_csv('neuro_harmonized_mri_regr_k_frame.csv')"
   ]
  },
  {
   "cell_type": "code",
   "execution_count": 36,
   "id": "9f0bdbe6-c986-4ec9-bc24-b49ead575431",
   "metadata": {
    "tags": []
   },
   "outputs": [
    {
     "data": {
      "text/html": [
       "<div>\n",
       "<style scoped>\n",
       "    .dataframe tbody tr th:only-of-type {\n",
       "        vertical-align: middle;\n",
       "    }\n",
       "\n",
       "    .dataframe tbody tr th {\n",
       "        vertical-align: top;\n",
       "    }\n",
       "\n",
       "    .dataframe thead th {\n",
       "        text-align: right;\n",
       "    }\n",
       "</style>\n",
       "<table border=\"1\" class=\"dataframe\">\n",
       "  <thead>\n",
       "    <tr style=\"text-align: right;\">\n",
       "      <th></th>\n",
       "      <th>algorithm</th>\n",
       "      <th>file_name</th>\n",
       "      <th>mae</th>\n",
       "      <th>r2</th>\n",
       "      <th>explained_variance</th>\n",
       "    </tr>\n",
       "  </thead>\n",
       "  <tbody>\n",
       "    <tr>\n",
       "      <th>0</th>\n",
       "      <td>0    MLP regression-0\n",
       "0    MLP regression-1\n",
       "0 ...</td>\n",
       "      <td>0    neuro_harm_mri_regr.0\n",
       "0    neuro_harm_mri...</td>\n",
       "      <td>8.040946</td>\n",
       "      <td>0.480066</td>\n",
       "      <td>0.482984</td>\n",
       "    </tr>\n",
       "  </tbody>\n",
       "</table>\n",
       "</div>"
      ],
      "text/plain": [
       "                                           algorithm  \\\n",
       "0  0    MLP regression-0\n",
       "0    MLP regression-1\n",
       "0 ...   \n",
       "\n",
       "                                           file_name       mae        r2  \\\n",
       "0  0    neuro_harm_mri_regr.0\n",
       "0    neuro_harm_mri...  8.040946  0.480066   \n",
       "\n",
       "   explained_variance  \n",
       "0            0.482984  "
      ]
     },
     "execution_count": 36,
     "metadata": {},
     "output_type": "execute_result"
    }
   ],
   "source": [
    "avg_regr = sep.avg_k_folds(regr_k_frame)\n",
    "avg_regr"
   ]
  },
  {
   "cell_type": "code",
   "execution_count": 37,
   "id": "849643ac-d25a-46a8-bba2-a0538a7a81eb",
   "metadata": {
    "tags": []
   },
   "outputs": [
    {
     "data": {
      "text/html": [
       "<div>\n",
       "<style scoped>\n",
       "    .dataframe tbody tr th:only-of-type {\n",
       "        vertical-align: middle;\n",
       "    }\n",
       "\n",
       "    .dataframe tbody tr th {\n",
       "        vertical-align: top;\n",
       "    }\n",
       "\n",
       "    .dataframe thead th {\n",
       "        text-align: right;\n",
       "    }\n",
       "</style>\n",
       "<table border=\"1\" class=\"dataframe\">\n",
       "  <thead>\n",
       "    <tr style=\"text-align: right;\">\n",
       "      <th></th>\n",
       "      <th>y_test</th>\n",
       "      <th>y_pred</th>\n",
       "    </tr>\n",
       "  </thead>\n",
       "  <tbody>\n",
       "    <tr>\n",
       "      <th>0</th>\n",
       "      <td>44.509589</td>\n",
       "      <td>44.971256</td>\n",
       "    </tr>\n",
       "    <tr>\n",
       "      <th>1</th>\n",
       "      <td>66.471233</td>\n",
       "      <td>58.063427</td>\n",
       "    </tr>\n",
       "    <tr>\n",
       "      <th>2</th>\n",
       "      <td>46.084932</td>\n",
       "      <td>65.116196</td>\n",
       "    </tr>\n",
       "    <tr>\n",
       "      <th>3</th>\n",
       "      <td>73.564384</td>\n",
       "      <td>60.878527</td>\n",
       "    </tr>\n",
       "    <tr>\n",
       "      <th>4</th>\n",
       "      <td>51.357923</td>\n",
       "      <td>48.231072</td>\n",
       "    </tr>\n",
       "    <tr>\n",
       "      <th>...</th>\n",
       "      <td>...</td>\n",
       "      <td>...</td>\n",
       "    </tr>\n",
       "    <tr>\n",
       "      <th>140</th>\n",
       "      <td>74.191257</td>\n",
       "      <td>57.235406</td>\n",
       "    </tr>\n",
       "    <tr>\n",
       "      <th>141</th>\n",
       "      <td>67.515068</td>\n",
       "      <td>60.986316</td>\n",
       "    </tr>\n",
       "    <tr>\n",
       "      <th>142</th>\n",
       "      <td>49.827375</td>\n",
       "      <td>54.256574</td>\n",
       "    </tr>\n",
       "    <tr>\n",
       "      <th>143</th>\n",
       "      <td>71.254795</td>\n",
       "      <td>68.718767</td>\n",
       "    </tr>\n",
       "    <tr>\n",
       "      <th>144</th>\n",
       "      <td>66.884767</td>\n",
       "      <td>59.490567</td>\n",
       "    </tr>\n",
       "  </tbody>\n",
       "</table>\n",
       "<p>725 rows × 2 columns</p>\n",
       "</div>"
      ],
      "text/plain": [
       "        y_test     y_pred\n",
       "0    44.509589  44.971256\n",
       "1    66.471233  58.063427\n",
       "2    46.084932  65.116196\n",
       "3    73.564384  60.878527\n",
       "4    51.357923  48.231072\n",
       "..         ...        ...\n",
       "140  74.191257  57.235406\n",
       "141  67.515068  60.986316\n",
       "142  49.827375  54.256574\n",
       "143  71.254795  68.718767\n",
       "144  66.884767  59.490567\n",
       "\n",
       "[725 rows x 2 columns]"
      ]
     },
     "execution_count": 37,
     "metadata": {},
     "output_type": "execute_result"
    }
   ],
   "source": [
    "regr_y_frame"
   ]
  },
  {
   "cell_type": "code",
   "execution_count": 38,
   "id": "0aaea4dc-1cb7-4216-8244-8dfb937dff87",
   "metadata": {
    "tags": []
   },
   "outputs": [],
   "source": [
    "regr_y_frame.to_csv(output_folder + '/neuro_harmonized_mri_regr_y_frame.csv')"
   ]
  },
  {
   "cell_type": "code",
   "execution_count": 39,
   "id": "f79b5801-370f-45bd-b584-7392de04e995",
   "metadata": {
    "tags": []
   },
   "outputs": [
    {
     "data": {
      "text/html": [
       "<style>#sk-container-id-4 {color: black;}#sk-container-id-4 pre{padding: 0;}#sk-container-id-4 div.sk-toggleable {background-color: white;}#sk-container-id-4 label.sk-toggleable__label {cursor: pointer;display: block;width: 100%;margin-bottom: 0;padding: 0.3em;box-sizing: border-box;text-align: center;}#sk-container-id-4 label.sk-toggleable__label-arrow:before {content: \"▸\";float: left;margin-right: 0.25em;color: #696969;}#sk-container-id-4 label.sk-toggleable__label-arrow:hover:before {color: black;}#sk-container-id-4 div.sk-estimator:hover label.sk-toggleable__label-arrow:before {color: black;}#sk-container-id-4 div.sk-toggleable__content {max-height: 0;max-width: 0;overflow: hidden;text-align: left;background-color: #f0f8ff;}#sk-container-id-4 div.sk-toggleable__content pre {margin: 0.2em;color: black;border-radius: 0.25em;background-color: #f0f8ff;}#sk-container-id-4 input.sk-toggleable__control:checked~div.sk-toggleable__content {max-height: 200px;max-width: 100%;overflow: auto;}#sk-container-id-4 input.sk-toggleable__control:checked~label.sk-toggleable__label-arrow:before {content: \"▾\";}#sk-container-id-4 div.sk-estimator input.sk-toggleable__control:checked~label.sk-toggleable__label {background-color: #d4ebff;}#sk-container-id-4 div.sk-label input.sk-toggleable__control:checked~label.sk-toggleable__label {background-color: #d4ebff;}#sk-container-id-4 input.sk-hidden--visually {border: 0;clip: rect(1px 1px 1px 1px);clip: rect(1px, 1px, 1px, 1px);height: 1px;margin: -1px;overflow: hidden;padding: 0;position: absolute;width: 1px;}#sk-container-id-4 div.sk-estimator {font-family: monospace;background-color: #f0f8ff;border: 1px dotted black;border-radius: 0.25em;box-sizing: border-box;margin-bottom: 0.5em;}#sk-container-id-4 div.sk-estimator:hover {background-color: #d4ebff;}#sk-container-id-4 div.sk-parallel-item::after {content: \"\";width: 100%;border-bottom: 1px solid gray;flex-grow: 1;}#sk-container-id-4 div.sk-label:hover label.sk-toggleable__label {background-color: #d4ebff;}#sk-container-id-4 div.sk-serial::before {content: \"\";position: absolute;border-left: 1px solid gray;box-sizing: border-box;top: 0;bottom: 0;left: 50%;z-index: 0;}#sk-container-id-4 div.sk-serial {display: flex;flex-direction: column;align-items: center;background-color: white;padding-right: 0.2em;padding-left: 0.2em;position: relative;}#sk-container-id-4 div.sk-item {position: relative;z-index: 1;}#sk-container-id-4 div.sk-parallel {display: flex;align-items: stretch;justify-content: center;background-color: white;position: relative;}#sk-container-id-4 div.sk-item::before, #sk-container-id-4 div.sk-parallel-item::before {content: \"\";position: absolute;border-left: 1px solid gray;box-sizing: border-box;top: 0;bottom: 0;left: 50%;z-index: -1;}#sk-container-id-4 div.sk-parallel-item {display: flex;flex-direction: column;z-index: 1;position: relative;background-color: white;}#sk-container-id-4 div.sk-parallel-item:first-child::after {align-self: flex-end;width: 50%;}#sk-container-id-4 div.sk-parallel-item:last-child::after {align-self: flex-start;width: 50%;}#sk-container-id-4 div.sk-parallel-item:only-child::after {width: 0;}#sk-container-id-4 div.sk-dashed-wrapped {border: 1px dashed gray;margin: 0 0.4em 0.5em 0.4em;box-sizing: border-box;padding-bottom: 0.4em;background-color: white;}#sk-container-id-4 div.sk-label label {font-family: monospace;font-weight: bold;display: inline-block;line-height: 1.2em;}#sk-container-id-4 div.sk-label-container {text-align: center;}#sk-container-id-4 div.sk-container {/* jupyter's `normalize.less` sets `[hidden] { display: none; }` but bootstrap.min.css set `[hidden] { display: none !important; }` so we also need the `!important` here to be able to override the default hidden behavior on the sphinx rendered scikit-learn.org. See: https://github.com/scikit-learn/scikit-learn/issues/21755 */display: inline-block !important;position: relative;}#sk-container-id-4 div.sk-text-repr-fallback {display: none;}</style><div id=\"sk-container-id-4\" class=\"sk-top-container\"><div class=\"sk-text-repr-fallback\"><pre>MLPRegressor(max_iter=700, random_state=1)</pre><b>In a Jupyter environment, please rerun this cell to show the HTML representation or trust the notebook. <br />On GitHub, the HTML representation is unable to render, please try loading this page with nbviewer.org.</b></div><div class=\"sk-container\" hidden><div class=\"sk-item\"><div class=\"sk-estimator sk-toggleable\"><input class=\"sk-toggleable__control sk-hidden--visually\" id=\"sk-estimator-id-4\" type=\"checkbox\" checked><label for=\"sk-estimator-id-4\" class=\"sk-toggleable__label sk-toggleable__label-arrow\">MLPRegressor</label><div class=\"sk-toggleable__content\"><pre>MLPRegressor(max_iter=700, random_state=1)</pre></div></div></div></div></div>"
      ],
      "text/plain": [
       "MLPRegressor(max_iter=700, random_state=1)"
      ]
     },
     "execution_count": 39,
     "metadata": {},
     "output_type": "execute_result"
    }
   ],
   "source": [
    "regr = models[0]\n",
    "regr[0]"
   ]
  },
  {
   "cell_type": "markdown",
   "id": "31fbc11a-3260-40f9-8bdd-cc68b52e2f30",
   "metadata": {},
   "source": [
    "### Note I'm not actually saving the mlp or svr models here because they are not the best performers. if neccesary this can be added"
   ]
  },
  {
   "cell_type": "code",
   "execution_count": 40,
   "id": "c91cc8da-cbfc-4887-863d-8ad46abdaab3",
   "metadata": {
    "tags": []
   },
   "outputs": [
    {
     "name": "stderr",
     "output_type": "stream",
     "text": [
      "C:\\Projects\\cvasl\\extended_harm_paper\\..\\cvasl\\seperated.py:1055: FutureWarning: The behavior of DataFrame concatenation with empty or all-NA entries is deprecated. In a future version, this will no longer exclude empty or all-NA columns when determining the result dtypes. To retain the old behavior, exclude the relevant entries before the concat operation.\n",
      "  mod_results = pd.concat([mod_results, mod_results_current_fold])\n",
      "C:\\Projects\\cvasl\\extended_harm_paper\\..\\cvasl\\seperated.py:1055: FutureWarning: The behavior of DataFrame concatenation with empty or all-NA entries is deprecated. In a future version, this will no longer exclude empty or all-NA columns when determining the result dtypes. To retain the old behavior, exclude the relevant entries before the concat operation.\n",
      "  mod_results = pd.concat([mod_results, mod_results_current_fold])\n",
      "C:\\Projects\\cvasl\\extended_harm_paper\\..\\cvasl\\seperated.py:1055: FutureWarning: The behavior of DataFrame concatenation with empty or all-NA entries is deprecated. In a future version, this will no longer exclude empty or all-NA columns when determining the result dtypes. To retain the old behavior, exclude the relevant entries before the concat operation.\n",
      "  mod_results = pd.concat([mod_results, mod_results_current_fold])\n",
      "C:\\Projects\\cvasl\\extended_harm_paper\\..\\cvasl\\seperated.py:1055: FutureWarning: The behavior of DataFrame concatenation with empty or all-NA entries is deprecated. In a future version, this will no longer exclude empty or all-NA columns when determining the result dtypes. To retain the old behavior, exclude the relevant entries before the concat operation.\n",
      "  mod_results = pd.concat([mod_results, mod_results_current_fold])\n",
      "C:\\Projects\\cvasl\\extended_harm_paper\\..\\cvasl\\seperated.py:1055: FutureWarning: The behavior of DataFrame concatenation with empty or all-NA entries is deprecated. In a future version, this will no longer exclude empty or all-NA columns when determining the result dtypes. To retain the old behavior, exclude the relevant entries before the concat operation.\n",
      "  mod_results = pd.concat([mod_results, mod_results_current_fold])\n"
     ]
    },
    {
     "data": {
      "text/html": [
       "<div>\n",
       "<style scoped>\n",
       "    .dataframe tbody tr th:only-of-type {\n",
       "        vertical-align: middle;\n",
       "    }\n",
       "\n",
       "    .dataframe tbody tr th {\n",
       "        vertical-align: top;\n",
       "    }\n",
       "\n",
       "    .dataframe thead th {\n",
       "        text-align: right;\n",
       "    }\n",
       "</style>\n",
       "<table border=\"1\" class=\"dataframe\">\n",
       "  <thead>\n",
       "    <tr style=\"text-align: right;\">\n",
       "      <th></th>\n",
       "      <th>algorithm</th>\n",
       "      <th>fold</th>\n",
       "      <th>file_name</th>\n",
       "      <th>mae</th>\n",
       "      <th>r2</th>\n",
       "      <th>explained_variance</th>\n",
       "    </tr>\n",
       "  </thead>\n",
       "  <tbody>\n",
       "    <tr>\n",
       "      <th>0</th>\n",
       "      <td>support vector reg poly2-0</td>\n",
       "      <td>0</td>\n",
       "      <td>neuro_harm_mri_svrp2.0</td>\n",
       "      <td>9.545380</td>\n",
       "      <td>0.200884</td>\n",
       "      <td>0.257404</td>\n",
       "    </tr>\n",
       "    <tr>\n",
       "      <th>0</th>\n",
       "      <td>support vector reg poly2-1</td>\n",
       "      <td>1</td>\n",
       "      <td>neuro_harm_mri_svrp2.1</td>\n",
       "      <td>10.312173</td>\n",
       "      <td>0.193176</td>\n",
       "      <td>0.265809</td>\n",
       "    </tr>\n",
       "    <tr>\n",
       "      <th>0</th>\n",
       "      <td>support vector reg poly2-2</td>\n",
       "      <td>2</td>\n",
       "      <td>neuro_harm_mri_svrp2.2</td>\n",
       "      <td>9.115738</td>\n",
       "      <td>0.219991</td>\n",
       "      <td>0.302282</td>\n",
       "    </tr>\n",
       "    <tr>\n",
       "      <th>0</th>\n",
       "      <td>support vector reg poly2-3</td>\n",
       "      <td>3</td>\n",
       "      <td>neuro_harm_mri_svrp2.3</td>\n",
       "      <td>9.669318</td>\n",
       "      <td>0.249324</td>\n",
       "      <td>0.291507</td>\n",
       "    </tr>\n",
       "    <tr>\n",
       "      <th>0</th>\n",
       "      <td>support vector reg poly2-4</td>\n",
       "      <td>4</td>\n",
       "      <td>neuro_harm_mri_svrp2.4</td>\n",
       "      <td>9.930957</td>\n",
       "      <td>0.238869</td>\n",
       "      <td>0.293164</td>\n",
       "    </tr>\n",
       "  </tbody>\n",
       "</table>\n",
       "</div>"
      ],
      "text/plain": [
       "                    algorithm fold               file_name        mae  \\\n",
       "0  support vector reg poly2-0    0  neuro_harm_mri_svrp2.0   9.545380   \n",
       "0  support vector reg poly2-1    1  neuro_harm_mri_svrp2.1  10.312173   \n",
       "0  support vector reg poly2-2    2  neuro_harm_mri_svrp2.2   9.115738   \n",
       "0  support vector reg poly2-3    3  neuro_harm_mri_svrp2.3   9.669318   \n",
       "0  support vector reg poly2-4    4  neuro_harm_mri_svrp2.4   9.930957   \n",
       "\n",
       "         r2  explained_variance  \n",
       "0  0.200884            0.257404  \n",
       "0  0.193176            0.265809  \n",
       "0  0.219991            0.302282  \n",
       "0  0.249324            0.291507  \n",
       "0  0.238869            0.293164  "
      ]
     },
     "execution_count": 40,
     "metadata": {},
     "output_type": "execute_result"
    }
   ],
   "source": [
    "svrp2_k_frame, svrp2_y_frame, models = sep.stratified_cat_and_cont_categories_shuffle_split('support vector reg poly2', 'neuro_harm_mri_svrp2',   SVR(C=1.0, kernel='poly', degree =2, epsilon=0.2), ml_matrix, X, y)\n",
    "svrp2_k_frame"
   ]
  },
  {
   "cell_type": "code",
   "execution_count": 41,
   "id": "9dc22122-3d64-4d25-baca-8555510438ea",
   "metadata": {
    "tags": []
   },
   "outputs": [],
   "source": [
    "svrp2_k_frame.to_csv(output_folder + '/neuro_harmonized_mri_svrp2_k_frame.csv')"
   ]
  },
  {
   "cell_type": "code",
   "execution_count": 42,
   "id": "055b3896-0bbc-4434-98d8-6b27419f5404",
   "metadata": {
    "tags": []
   },
   "outputs": [
    {
     "data": {
      "text/html": [
       "<div>\n",
       "<style scoped>\n",
       "    .dataframe tbody tr th:only-of-type {\n",
       "        vertical-align: middle;\n",
       "    }\n",
       "\n",
       "    .dataframe tbody tr th {\n",
       "        vertical-align: top;\n",
       "    }\n",
       "\n",
       "    .dataframe thead th {\n",
       "        text-align: right;\n",
       "    }\n",
       "</style>\n",
       "<table border=\"1\" class=\"dataframe\">\n",
       "  <thead>\n",
       "    <tr style=\"text-align: right;\">\n",
       "      <th></th>\n",
       "      <th>algorithm</th>\n",
       "      <th>file_name</th>\n",
       "      <th>mae</th>\n",
       "      <th>r2</th>\n",
       "      <th>explained_variance</th>\n",
       "    </tr>\n",
       "  </thead>\n",
       "  <tbody>\n",
       "    <tr>\n",
       "      <th>0</th>\n",
       "      <td>0    support vector reg poly2-0\n",
       "0    support v...</td>\n",
       "      <td>0    neuro_harm_mri_svrp2.0\n",
       "0    neuro_harm_mr...</td>\n",
       "      <td>9.714713</td>\n",
       "      <td>0.220449</td>\n",
       "      <td>0.282033</td>\n",
       "    </tr>\n",
       "  </tbody>\n",
       "</table>\n",
       "</div>"
      ],
      "text/plain": [
       "                                           algorithm  \\\n",
       "0  0    support vector reg poly2-0\n",
       "0    support v...   \n",
       "\n",
       "                                           file_name       mae        r2  \\\n",
       "0  0    neuro_harm_mri_svrp2.0\n",
       "0    neuro_harm_mr...  9.714713  0.220449   \n",
       "\n",
       "   explained_variance  \n",
       "0            0.282033  "
      ]
     },
     "execution_count": 42,
     "metadata": {},
     "output_type": "execute_result"
    }
   ],
   "source": [
    "avg_svrp2 = sep.avg_k_folds(svrp2_k_frame)\n",
    "avg_svrp2"
   ]
  },
  {
   "cell_type": "code",
   "execution_count": 43,
   "id": "96e59196-4faa-4817-80e3-66c8a022efdd",
   "metadata": {
    "tags": []
   },
   "outputs": [
    {
     "data": {
      "text/html": [
       "<div>\n",
       "<style scoped>\n",
       "    .dataframe tbody tr th:only-of-type {\n",
       "        vertical-align: middle;\n",
       "    }\n",
       "\n",
       "    .dataframe tbody tr th {\n",
       "        vertical-align: top;\n",
       "    }\n",
       "\n",
       "    .dataframe thead th {\n",
       "        text-align: right;\n",
       "    }\n",
       "</style>\n",
       "<table border=\"1\" class=\"dataframe\">\n",
       "  <thead>\n",
       "    <tr style=\"text-align: right;\">\n",
       "      <th></th>\n",
       "      <th>y_test</th>\n",
       "      <th>y_pred</th>\n",
       "    </tr>\n",
       "  </thead>\n",
       "  <tbody>\n",
       "    <tr>\n",
       "      <th>0</th>\n",
       "      <td>44.509589</td>\n",
       "      <td>58.532441</td>\n",
       "    </tr>\n",
       "    <tr>\n",
       "      <th>1</th>\n",
       "      <td>66.471233</td>\n",
       "      <td>69.074798</td>\n",
       "    </tr>\n",
       "    <tr>\n",
       "      <th>2</th>\n",
       "      <td>46.084932</td>\n",
       "      <td>56.511949</td>\n",
       "    </tr>\n",
       "    <tr>\n",
       "      <th>3</th>\n",
       "      <td>73.564384</td>\n",
       "      <td>64.963975</td>\n",
       "    </tr>\n",
       "    <tr>\n",
       "      <th>4</th>\n",
       "      <td>51.357923</td>\n",
       "      <td>63.785075</td>\n",
       "    </tr>\n",
       "    <tr>\n",
       "      <th>...</th>\n",
       "      <td>...</td>\n",
       "      <td>...</td>\n",
       "    </tr>\n",
       "    <tr>\n",
       "      <th>140</th>\n",
       "      <td>74.191257</td>\n",
       "      <td>60.843281</td>\n",
       "    </tr>\n",
       "    <tr>\n",
       "      <th>141</th>\n",
       "      <td>67.515068</td>\n",
       "      <td>62.439014</td>\n",
       "    </tr>\n",
       "    <tr>\n",
       "      <th>142</th>\n",
       "      <td>49.827375</td>\n",
       "      <td>65.462966</td>\n",
       "    </tr>\n",
       "    <tr>\n",
       "      <th>143</th>\n",
       "      <td>71.254795</td>\n",
       "      <td>67.447645</td>\n",
       "    </tr>\n",
       "    <tr>\n",
       "      <th>144</th>\n",
       "      <td>66.884767</td>\n",
       "      <td>65.898892</td>\n",
       "    </tr>\n",
       "  </tbody>\n",
       "</table>\n",
       "<p>725 rows × 2 columns</p>\n",
       "</div>"
      ],
      "text/plain": [
       "        y_test     y_pred\n",
       "0    44.509589  58.532441\n",
       "1    66.471233  69.074798\n",
       "2    46.084932  56.511949\n",
       "3    73.564384  64.963975\n",
       "4    51.357923  63.785075\n",
       "..         ...        ...\n",
       "140  74.191257  60.843281\n",
       "141  67.515068  62.439014\n",
       "142  49.827375  65.462966\n",
       "143  71.254795  67.447645\n",
       "144  66.884767  65.898892\n",
       "\n",
       "[725 rows x 2 columns]"
      ]
     },
     "execution_count": 43,
     "metadata": {},
     "output_type": "execute_result"
    }
   ],
   "source": [
    "svrp2_y_frame"
   ]
  },
  {
   "cell_type": "code",
   "execution_count": 44,
   "id": "d276f7f1-d799-470d-92c8-9dc9a41e5169",
   "metadata": {
    "tags": []
   },
   "outputs": [],
   "source": [
    "svrp2_y_frame.to_csv(output_folder + '/neuro_harmonized_mrisvrp2_y_frame.csv')"
   ]
  },
  {
   "cell_type": "code",
   "execution_count": 45,
   "id": "a3baf5e9-27a5-46bc-822b-bd6a480958e4",
   "metadata": {
    "tags": []
   },
   "outputs": [
    {
     "data": {
      "text/html": [
       "<style>#sk-container-id-5 {color: black;}#sk-container-id-5 pre{padding: 0;}#sk-container-id-5 div.sk-toggleable {background-color: white;}#sk-container-id-5 label.sk-toggleable__label {cursor: pointer;display: block;width: 100%;margin-bottom: 0;padding: 0.3em;box-sizing: border-box;text-align: center;}#sk-container-id-5 label.sk-toggleable__label-arrow:before {content: \"▸\";float: left;margin-right: 0.25em;color: #696969;}#sk-container-id-5 label.sk-toggleable__label-arrow:hover:before {color: black;}#sk-container-id-5 div.sk-estimator:hover label.sk-toggleable__label-arrow:before {color: black;}#sk-container-id-5 div.sk-toggleable__content {max-height: 0;max-width: 0;overflow: hidden;text-align: left;background-color: #f0f8ff;}#sk-container-id-5 div.sk-toggleable__content pre {margin: 0.2em;color: black;border-radius: 0.25em;background-color: #f0f8ff;}#sk-container-id-5 input.sk-toggleable__control:checked~div.sk-toggleable__content {max-height: 200px;max-width: 100%;overflow: auto;}#sk-container-id-5 input.sk-toggleable__control:checked~label.sk-toggleable__label-arrow:before {content: \"▾\";}#sk-container-id-5 div.sk-estimator input.sk-toggleable__control:checked~label.sk-toggleable__label {background-color: #d4ebff;}#sk-container-id-5 div.sk-label input.sk-toggleable__control:checked~label.sk-toggleable__label {background-color: #d4ebff;}#sk-container-id-5 input.sk-hidden--visually {border: 0;clip: rect(1px 1px 1px 1px);clip: rect(1px, 1px, 1px, 1px);height: 1px;margin: -1px;overflow: hidden;padding: 0;position: absolute;width: 1px;}#sk-container-id-5 div.sk-estimator {font-family: monospace;background-color: #f0f8ff;border: 1px dotted black;border-radius: 0.25em;box-sizing: border-box;margin-bottom: 0.5em;}#sk-container-id-5 div.sk-estimator:hover {background-color: #d4ebff;}#sk-container-id-5 div.sk-parallel-item::after {content: \"\";width: 100%;border-bottom: 1px solid gray;flex-grow: 1;}#sk-container-id-5 div.sk-label:hover label.sk-toggleable__label {background-color: #d4ebff;}#sk-container-id-5 div.sk-serial::before {content: \"\";position: absolute;border-left: 1px solid gray;box-sizing: border-box;top: 0;bottom: 0;left: 50%;z-index: 0;}#sk-container-id-5 div.sk-serial {display: flex;flex-direction: column;align-items: center;background-color: white;padding-right: 0.2em;padding-left: 0.2em;position: relative;}#sk-container-id-5 div.sk-item {position: relative;z-index: 1;}#sk-container-id-5 div.sk-parallel {display: flex;align-items: stretch;justify-content: center;background-color: white;position: relative;}#sk-container-id-5 div.sk-item::before, #sk-container-id-5 div.sk-parallel-item::before {content: \"\";position: absolute;border-left: 1px solid gray;box-sizing: border-box;top: 0;bottom: 0;left: 50%;z-index: -1;}#sk-container-id-5 div.sk-parallel-item {display: flex;flex-direction: column;z-index: 1;position: relative;background-color: white;}#sk-container-id-5 div.sk-parallel-item:first-child::after {align-self: flex-end;width: 50%;}#sk-container-id-5 div.sk-parallel-item:last-child::after {align-self: flex-start;width: 50%;}#sk-container-id-5 div.sk-parallel-item:only-child::after {width: 0;}#sk-container-id-5 div.sk-dashed-wrapped {border: 1px dashed gray;margin: 0 0.4em 0.5em 0.4em;box-sizing: border-box;padding-bottom: 0.4em;background-color: white;}#sk-container-id-5 div.sk-label label {font-family: monospace;font-weight: bold;display: inline-block;line-height: 1.2em;}#sk-container-id-5 div.sk-label-container {text-align: center;}#sk-container-id-5 div.sk-container {/* jupyter's `normalize.less` sets `[hidden] { display: none; }` but bootstrap.min.css set `[hidden] { display: none !important; }` so we also need the `!important` here to be able to override the default hidden behavior on the sphinx rendered scikit-learn.org. See: https://github.com/scikit-learn/scikit-learn/issues/21755 */display: inline-block !important;position: relative;}#sk-container-id-5 div.sk-text-repr-fallback {display: none;}</style><div id=\"sk-container-id-5\" class=\"sk-top-container\"><div class=\"sk-text-repr-fallback\"><pre>SVR(degree=2, epsilon=0.2, kernel=&#x27;poly&#x27;)</pre><b>In a Jupyter environment, please rerun this cell to show the HTML representation or trust the notebook. <br />On GitHub, the HTML representation is unable to render, please try loading this page with nbviewer.org.</b></div><div class=\"sk-container\" hidden><div class=\"sk-item\"><div class=\"sk-estimator sk-toggleable\"><input class=\"sk-toggleable__control sk-hidden--visually\" id=\"sk-estimator-id-5\" type=\"checkbox\" checked><label for=\"sk-estimator-id-5\" class=\"sk-toggleable__label sk-toggleable__label-arrow\">SVR</label><div class=\"sk-toggleable__content\"><pre>SVR(degree=2, epsilon=0.2, kernel=&#x27;poly&#x27;)</pre></div></div></div></div></div>"
      ],
      "text/plain": [
       "SVR(degree=2, epsilon=0.2, kernel='poly')"
      ]
     },
     "execution_count": 45,
     "metadata": {},
     "output_type": "execute_result"
    }
   ],
   "source": [
    "svrp2 = models[0]\n",
    "svrp2[0]"
   ]
  },
  {
   "cell_type": "code",
   "execution_count": 46,
   "id": "2a471418-62fe-488a-9bb6-ff2f9c6a0af0",
   "metadata": {
    "tags": []
   },
   "outputs": [
    {
     "name": "stderr",
     "output_type": "stream",
     "text": [
      "C:\\Projects\\cvasl\\extended_harm_paper\\..\\cvasl\\seperated.py:1055: FutureWarning: The behavior of DataFrame concatenation with empty or all-NA entries is deprecated. In a future version, this will no longer exclude empty or all-NA columns when determining the result dtypes. To retain the old behavior, exclude the relevant entries before the concat operation.\n",
      "  mod_results = pd.concat([mod_results, mod_results_current_fold])\n",
      "C:\\Projects\\cvasl\\extended_harm_paper\\..\\cvasl\\seperated.py:1055: FutureWarning: The behavior of DataFrame concatenation with empty or all-NA entries is deprecated. In a future version, this will no longer exclude empty or all-NA columns when determining the result dtypes. To retain the old behavior, exclude the relevant entries before the concat operation.\n",
      "  mod_results = pd.concat([mod_results, mod_results_current_fold])\n",
      "C:\\Projects\\cvasl\\extended_harm_paper\\..\\cvasl\\seperated.py:1055: FutureWarning: The behavior of DataFrame concatenation with empty or all-NA entries is deprecated. In a future version, this will no longer exclude empty or all-NA columns when determining the result dtypes. To retain the old behavior, exclude the relevant entries before the concat operation.\n",
      "  mod_results = pd.concat([mod_results, mod_results_current_fold])\n",
      "C:\\Projects\\cvasl\\extended_harm_paper\\..\\cvasl\\seperated.py:1055: FutureWarning: The behavior of DataFrame concatenation with empty or all-NA entries is deprecated. In a future version, this will no longer exclude empty or all-NA columns when determining the result dtypes. To retain the old behavior, exclude the relevant entries before the concat operation.\n",
      "  mod_results = pd.concat([mod_results, mod_results_current_fold])\n",
      "C:\\Projects\\cvasl\\extended_harm_paper\\..\\cvasl\\seperated.py:1055: FutureWarning: The behavior of DataFrame concatenation with empty or all-NA entries is deprecated. In a future version, this will no longer exclude empty or all-NA columns when determining the result dtypes. To retain the old behavior, exclude the relevant entries before the concat operation.\n",
      "  mod_results = pd.concat([mod_results, mod_results_current_fold])\n"
     ]
    },
    {
     "data": {
      "text/html": [
       "<div>\n",
       "<style scoped>\n",
       "    .dataframe tbody tr th:only-of-type {\n",
       "        vertical-align: middle;\n",
       "    }\n",
       "\n",
       "    .dataframe tbody tr th {\n",
       "        vertical-align: top;\n",
       "    }\n",
       "\n",
       "    .dataframe thead th {\n",
       "        text-align: right;\n",
       "    }\n",
       "</style>\n",
       "<table border=\"1\" class=\"dataframe\">\n",
       "  <thead>\n",
       "    <tr style=\"text-align: right;\">\n",
       "      <th></th>\n",
       "      <th>algorithm</th>\n",
       "      <th>fold</th>\n",
       "      <th>file_name</th>\n",
       "      <th>mae</th>\n",
       "      <th>r2</th>\n",
       "      <th>explained_variance</th>\n",
       "    </tr>\n",
       "  </thead>\n",
       "  <tbody>\n",
       "    <tr>\n",
       "      <th>0</th>\n",
       "      <td>elasticnetCV-0</td>\n",
       "      <td>0</td>\n",
       "      <td>neuro_harm_mix_eregr.0</td>\n",
       "      <td>7.691023</td>\n",
       "      <td>0.502325</td>\n",
       "      <td>0.502356</td>\n",
       "    </tr>\n",
       "    <tr>\n",
       "      <th>0</th>\n",
       "      <td>elasticnetCV-1</td>\n",
       "      <td>1</td>\n",
       "      <td>neuro_harm_mix_eregr.1</td>\n",
       "      <td>8.324058</td>\n",
       "      <td>0.467740</td>\n",
       "      <td>0.481695</td>\n",
       "    </tr>\n",
       "    <tr>\n",
       "      <th>0</th>\n",
       "      <td>elasticnetCV-2</td>\n",
       "      <td>2</td>\n",
       "      <td>neuro_harm_mix_eregr.2</td>\n",
       "      <td>7.802488</td>\n",
       "      <td>0.469198</td>\n",
       "      <td>0.471463</td>\n",
       "    </tr>\n",
       "    <tr>\n",
       "      <th>0</th>\n",
       "      <td>elasticnetCV-3</td>\n",
       "      <td>3</td>\n",
       "      <td>neuro_harm_mix_eregr.3</td>\n",
       "      <td>8.467579</td>\n",
       "      <td>0.435746</td>\n",
       "      <td>0.441641</td>\n",
       "    </tr>\n",
       "    <tr>\n",
       "      <th>0</th>\n",
       "      <td>elasticnetCV-4</td>\n",
       "      <td>4</td>\n",
       "      <td>neuro_harm_mix_eregr.4</td>\n",
       "      <td>7.797014</td>\n",
       "      <td>0.531952</td>\n",
       "      <td>0.533054</td>\n",
       "    </tr>\n",
       "  </tbody>\n",
       "</table>\n",
       "</div>"
      ],
      "text/plain": [
       "        algorithm fold               file_name       mae        r2  \\\n",
       "0  elasticnetCV-0    0  neuro_harm_mix_eregr.0  7.691023  0.502325   \n",
       "0  elasticnetCV-1    1  neuro_harm_mix_eregr.1  8.324058  0.467740   \n",
       "0  elasticnetCV-2    2  neuro_harm_mix_eregr.2  7.802488  0.469198   \n",
       "0  elasticnetCV-3    3  neuro_harm_mix_eregr.3  8.467579  0.435746   \n",
       "0  elasticnetCV-4    4  neuro_harm_mix_eregr.4  7.797014  0.531952   \n",
       "\n",
       "   explained_variance  \n",
       "0            0.502356  \n",
       "0            0.481695  \n",
       "0            0.471463  \n",
       "0            0.441641  \n",
       "0            0.533054  "
      ]
     },
     "execution_count": 46,
     "metadata": {},
     "output_type": "execute_result"
    }
   ],
   "source": [
    "eregr_k_frame, eregr_y_frame, models = sep.stratified_cat_and_cont_categories_shuffle_split('elasticnetCV', 'neuro_harm_mix_eregr',  ElasticNetCV(cv=5, random_state=12), ml_matrix, X, y)\n",
    "eregr_k_frame"
   ]
  },
  {
   "cell_type": "code",
   "execution_count": 47,
   "id": "6326422f-09d9-4a36-9cfb-e54f3e23e75e",
   "metadata": {
    "tags": []
   },
   "outputs": [],
   "source": [
    "eregr_k_frame.to_csv(output_folder + '/neuro_harmonized_eregr_k_frame.csv')"
   ]
  },
  {
   "cell_type": "code",
   "execution_count": 48,
   "id": "06e0c0c7-6ed3-4e31-b2c9-744a04243b1a",
   "metadata": {
    "tags": []
   },
   "outputs": [
    {
     "data": {
      "text/html": [
       "<div>\n",
       "<style scoped>\n",
       "    .dataframe tbody tr th:only-of-type {\n",
       "        vertical-align: middle;\n",
       "    }\n",
       "\n",
       "    .dataframe tbody tr th {\n",
       "        vertical-align: top;\n",
       "    }\n",
       "\n",
       "    .dataframe thead th {\n",
       "        text-align: right;\n",
       "    }\n",
       "</style>\n",
       "<table border=\"1\" class=\"dataframe\">\n",
       "  <thead>\n",
       "    <tr style=\"text-align: right;\">\n",
       "      <th></th>\n",
       "      <th>algorithm</th>\n",
       "      <th>file_name</th>\n",
       "      <th>mae</th>\n",
       "      <th>r2</th>\n",
       "      <th>explained_variance</th>\n",
       "    </tr>\n",
       "  </thead>\n",
       "  <tbody>\n",
       "    <tr>\n",
       "      <th>0</th>\n",
       "      <td>0    elasticnetCV-0\n",
       "0    elasticnetCV-1\n",
       "0    e...</td>\n",
       "      <td>0    neuro_harm_mix_eregr.0\n",
       "0    neuro_harm_mi...</td>\n",
       "      <td>8.016432</td>\n",
       "      <td>0.481392</td>\n",
       "      <td>0.486042</td>\n",
       "    </tr>\n",
       "  </tbody>\n",
       "</table>\n",
       "</div>"
      ],
      "text/plain": [
       "                                           algorithm  \\\n",
       "0  0    elasticnetCV-0\n",
       "0    elasticnetCV-1\n",
       "0    e...   \n",
       "\n",
       "                                           file_name       mae        r2  \\\n",
       "0  0    neuro_harm_mix_eregr.0\n",
       "0    neuro_harm_mi...  8.016432  0.481392   \n",
       "\n",
       "   explained_variance  \n",
       "0            0.486042  "
      ]
     },
     "execution_count": 48,
     "metadata": {},
     "output_type": "execute_result"
    }
   ],
   "source": [
    "avg_eregr = sep.avg_k_folds(eregr_k_frame)\n",
    "avg_eregr"
   ]
  },
  {
   "cell_type": "code",
   "execution_count": 49,
   "id": "55292d3c-377f-439a-ac56-3d1e41d547d7",
   "metadata": {
    "tags": []
   },
   "outputs": [
    {
     "data": {
      "text/html": [
       "<div>\n",
       "<style scoped>\n",
       "    .dataframe tbody tr th:only-of-type {\n",
       "        vertical-align: middle;\n",
       "    }\n",
       "\n",
       "    .dataframe tbody tr th {\n",
       "        vertical-align: top;\n",
       "    }\n",
       "\n",
       "    .dataframe thead th {\n",
       "        text-align: right;\n",
       "    }\n",
       "</style>\n",
       "<table border=\"1\" class=\"dataframe\">\n",
       "  <thead>\n",
       "    <tr style=\"text-align: right;\">\n",
       "      <th></th>\n",
       "      <th>y_test</th>\n",
       "      <th>y_pred</th>\n",
       "    </tr>\n",
       "  </thead>\n",
       "  <tbody>\n",
       "    <tr>\n",
       "      <th>0</th>\n",
       "      <td>44.509589</td>\n",
       "      <td>48.501642</td>\n",
       "    </tr>\n",
       "    <tr>\n",
       "      <th>1</th>\n",
       "      <td>66.471233</td>\n",
       "      <td>65.156220</td>\n",
       "    </tr>\n",
       "    <tr>\n",
       "      <th>2</th>\n",
       "      <td>46.084932</td>\n",
       "      <td>53.896036</td>\n",
       "    </tr>\n",
       "    <tr>\n",
       "      <th>3</th>\n",
       "      <td>73.564384</td>\n",
       "      <td>65.086669</td>\n",
       "    </tr>\n",
       "    <tr>\n",
       "      <th>4</th>\n",
       "      <td>51.357923</td>\n",
       "      <td>50.672770</td>\n",
       "    </tr>\n",
       "    <tr>\n",
       "      <th>...</th>\n",
       "      <td>...</td>\n",
       "      <td>...</td>\n",
       "    </tr>\n",
       "    <tr>\n",
       "      <th>140</th>\n",
       "      <td>74.191257</td>\n",
       "      <td>53.700513</td>\n",
       "    </tr>\n",
       "    <tr>\n",
       "      <th>141</th>\n",
       "      <td>67.515068</td>\n",
       "      <td>60.542611</td>\n",
       "    </tr>\n",
       "    <tr>\n",
       "      <th>142</th>\n",
       "      <td>49.827375</td>\n",
       "      <td>60.339480</td>\n",
       "    </tr>\n",
       "    <tr>\n",
       "      <th>143</th>\n",
       "      <td>71.254795</td>\n",
       "      <td>70.870900</td>\n",
       "    </tr>\n",
       "    <tr>\n",
       "      <th>144</th>\n",
       "      <td>66.884767</td>\n",
       "      <td>58.339656</td>\n",
       "    </tr>\n",
       "  </tbody>\n",
       "</table>\n",
       "<p>725 rows × 2 columns</p>\n",
       "</div>"
      ],
      "text/plain": [
       "        y_test     y_pred\n",
       "0    44.509589  48.501642\n",
       "1    66.471233  65.156220\n",
       "2    46.084932  53.896036\n",
       "3    73.564384  65.086669\n",
       "4    51.357923  50.672770\n",
       "..         ...        ...\n",
       "140  74.191257  53.700513\n",
       "141  67.515068  60.542611\n",
       "142  49.827375  60.339480\n",
       "143  71.254795  70.870900\n",
       "144  66.884767  58.339656\n",
       "\n",
       "[725 rows x 2 columns]"
      ]
     },
     "execution_count": 49,
     "metadata": {},
     "output_type": "execute_result"
    }
   ],
   "source": [
    "eregr_y_frame"
   ]
  },
  {
   "cell_type": "code",
   "execution_count": 50,
   "id": "45413ec7-2c95-4643-b391-938405b54653",
   "metadata": {
    "tags": []
   },
   "outputs": [],
   "source": [
    "eregr_y_frame.to_csv(output_folder + '/neuro_harmonized_mri_eregr_y_frame.csv')"
   ]
  },
  {
   "cell_type": "code",
   "execution_count": 51,
   "id": "eacc0e2e-f9b9-443a-bc82-b06a5327b391",
   "metadata": {
    "tags": []
   },
   "outputs": [
    {
     "data": {
      "text/html": [
       "<style>#sk-container-id-6 {color: black;}#sk-container-id-6 pre{padding: 0;}#sk-container-id-6 div.sk-toggleable {background-color: white;}#sk-container-id-6 label.sk-toggleable__label {cursor: pointer;display: block;width: 100%;margin-bottom: 0;padding: 0.3em;box-sizing: border-box;text-align: center;}#sk-container-id-6 label.sk-toggleable__label-arrow:before {content: \"▸\";float: left;margin-right: 0.25em;color: #696969;}#sk-container-id-6 label.sk-toggleable__label-arrow:hover:before {color: black;}#sk-container-id-6 div.sk-estimator:hover label.sk-toggleable__label-arrow:before {color: black;}#sk-container-id-6 div.sk-toggleable__content {max-height: 0;max-width: 0;overflow: hidden;text-align: left;background-color: #f0f8ff;}#sk-container-id-6 div.sk-toggleable__content pre {margin: 0.2em;color: black;border-radius: 0.25em;background-color: #f0f8ff;}#sk-container-id-6 input.sk-toggleable__control:checked~div.sk-toggleable__content {max-height: 200px;max-width: 100%;overflow: auto;}#sk-container-id-6 input.sk-toggleable__control:checked~label.sk-toggleable__label-arrow:before {content: \"▾\";}#sk-container-id-6 div.sk-estimator input.sk-toggleable__control:checked~label.sk-toggleable__label {background-color: #d4ebff;}#sk-container-id-6 div.sk-label input.sk-toggleable__control:checked~label.sk-toggleable__label {background-color: #d4ebff;}#sk-container-id-6 input.sk-hidden--visually {border: 0;clip: rect(1px 1px 1px 1px);clip: rect(1px, 1px, 1px, 1px);height: 1px;margin: -1px;overflow: hidden;padding: 0;position: absolute;width: 1px;}#sk-container-id-6 div.sk-estimator {font-family: monospace;background-color: #f0f8ff;border: 1px dotted black;border-radius: 0.25em;box-sizing: border-box;margin-bottom: 0.5em;}#sk-container-id-6 div.sk-estimator:hover {background-color: #d4ebff;}#sk-container-id-6 div.sk-parallel-item::after {content: \"\";width: 100%;border-bottom: 1px solid gray;flex-grow: 1;}#sk-container-id-6 div.sk-label:hover label.sk-toggleable__label {background-color: #d4ebff;}#sk-container-id-6 div.sk-serial::before {content: \"\";position: absolute;border-left: 1px solid gray;box-sizing: border-box;top: 0;bottom: 0;left: 50%;z-index: 0;}#sk-container-id-6 div.sk-serial {display: flex;flex-direction: column;align-items: center;background-color: white;padding-right: 0.2em;padding-left: 0.2em;position: relative;}#sk-container-id-6 div.sk-item {position: relative;z-index: 1;}#sk-container-id-6 div.sk-parallel {display: flex;align-items: stretch;justify-content: center;background-color: white;position: relative;}#sk-container-id-6 div.sk-item::before, #sk-container-id-6 div.sk-parallel-item::before {content: \"\";position: absolute;border-left: 1px solid gray;box-sizing: border-box;top: 0;bottom: 0;left: 50%;z-index: -1;}#sk-container-id-6 div.sk-parallel-item {display: flex;flex-direction: column;z-index: 1;position: relative;background-color: white;}#sk-container-id-6 div.sk-parallel-item:first-child::after {align-self: flex-end;width: 50%;}#sk-container-id-6 div.sk-parallel-item:last-child::after {align-self: flex-start;width: 50%;}#sk-container-id-6 div.sk-parallel-item:only-child::after {width: 0;}#sk-container-id-6 div.sk-dashed-wrapped {border: 1px dashed gray;margin: 0 0.4em 0.5em 0.4em;box-sizing: border-box;padding-bottom: 0.4em;background-color: white;}#sk-container-id-6 div.sk-label label {font-family: monospace;font-weight: bold;display: inline-block;line-height: 1.2em;}#sk-container-id-6 div.sk-label-container {text-align: center;}#sk-container-id-6 div.sk-container {/* jupyter's `normalize.less` sets `[hidden] { display: none; }` but bootstrap.min.css set `[hidden] { display: none !important; }` so we also need the `!important` here to be able to override the default hidden behavior on the sphinx rendered scikit-learn.org. See: https://github.com/scikit-learn/scikit-learn/issues/21755 */display: inline-block !important;position: relative;}#sk-container-id-6 div.sk-text-repr-fallback {display: none;}</style><div id=\"sk-container-id-6\" class=\"sk-top-container\"><div class=\"sk-text-repr-fallback\"><pre>ElasticNetCV(cv=5, random_state=12)</pre><b>In a Jupyter environment, please rerun this cell to show the HTML representation or trust the notebook. <br />On GitHub, the HTML representation is unable to render, please try loading this page with nbviewer.org.</b></div><div class=\"sk-container\" hidden><div class=\"sk-item\"><div class=\"sk-estimator sk-toggleable\"><input class=\"sk-toggleable__control sk-hidden--visually\" id=\"sk-estimator-id-6\" type=\"checkbox\" checked><label for=\"sk-estimator-id-6\" class=\"sk-toggleable__label sk-toggleable__label-arrow\">ElasticNetCV</label><div class=\"sk-toggleable__content\"><pre>ElasticNetCV(cv=5, random_state=12)</pre></div></div></div></div></div>"
      ],
      "text/plain": [
       "ElasticNetCV(cv=5, random_state=12)"
      ]
     },
     "execution_count": 51,
     "metadata": {},
     "output_type": "execute_result"
    }
   ],
   "source": [
    "eregr = models[0]\n",
    "eregr[0]"
   ]
  },
  {
   "cell_type": "code",
   "execution_count": 52,
   "id": "c84cf3b8-df5a-40fc-ae32-95351b328193",
   "metadata": {
    "tags": []
   },
   "outputs": [
    {
     "name": "stderr",
     "output_type": "stream",
     "text": [
      "C:\\Projects\\cvasl\\extended_harm_paper\\..\\cvasl\\seperated.py:1055: FutureWarning: The behavior of DataFrame concatenation with empty or all-NA entries is deprecated. In a future version, this will no longer exclude empty or all-NA columns when determining the result dtypes. To retain the old behavior, exclude the relevant entries before the concat operation.\n",
      "  mod_results = pd.concat([mod_results, mod_results_current_fold])\n",
      "C:\\Projects\\cvasl\\extended_harm_paper\\..\\cvasl\\seperated.py:1055: FutureWarning: The behavior of DataFrame concatenation with empty or all-NA entries is deprecated. In a future version, this will no longer exclude empty or all-NA columns when determining the result dtypes. To retain the old behavior, exclude the relevant entries before the concat operation.\n",
      "  mod_results = pd.concat([mod_results, mod_results_current_fold])\n",
      "C:\\Projects\\cvasl\\extended_harm_paper\\..\\cvasl\\seperated.py:1055: FutureWarning: The behavior of DataFrame concatenation with empty or all-NA entries is deprecated. In a future version, this will no longer exclude empty or all-NA columns when determining the result dtypes. To retain the old behavior, exclude the relevant entries before the concat operation.\n",
      "  mod_results = pd.concat([mod_results, mod_results_current_fold])\n",
      "C:\\Projects\\cvasl\\extended_harm_paper\\..\\cvasl\\seperated.py:1055: FutureWarning: The behavior of DataFrame concatenation with empty or all-NA entries is deprecated. In a future version, this will no longer exclude empty or all-NA columns when determining the result dtypes. To retain the old behavior, exclude the relevant entries before the concat operation.\n",
      "  mod_results = pd.concat([mod_results, mod_results_current_fold])\n",
      "C:\\Projects\\cvasl\\extended_harm_paper\\..\\cvasl\\seperated.py:1055: FutureWarning: The behavior of DataFrame concatenation with empty or all-NA entries is deprecated. In a future version, this will no longer exclude empty or all-NA columns when determining the result dtypes. To retain the old behavior, exclude the relevant entries before the concat operation.\n",
      "  mod_results = pd.concat([mod_results, mod_results_current_fold])\n"
     ]
    },
    {
     "data": {
      "text/html": [
       "<div>\n",
       "<style scoped>\n",
       "    .dataframe tbody tr th:only-of-type {\n",
       "        vertical-align: middle;\n",
       "    }\n",
       "\n",
       "    .dataframe tbody tr th {\n",
       "        vertical-align: top;\n",
       "    }\n",
       "\n",
       "    .dataframe thead th {\n",
       "        text-align: right;\n",
       "    }\n",
       "</style>\n",
       "<table border=\"1\" class=\"dataframe\">\n",
       "  <thead>\n",
       "    <tr style=\"text-align: right;\">\n",
       "      <th></th>\n",
       "      <th>algorithm</th>\n",
       "      <th>fold</th>\n",
       "      <th>file_name</th>\n",
       "      <th>mae</th>\n",
       "      <th>r2</th>\n",
       "      <th>explained_variance</th>\n",
       "    </tr>\n",
       "  </thead>\n",
       "  <tbody>\n",
       "    <tr>\n",
       "      <th>0</th>\n",
       "      <td>extra trees-0</td>\n",
       "      <td>0</td>\n",
       "      <td>neuro_harm_mri_etreg.0</td>\n",
       "      <td>3.590285</td>\n",
       "      <td>0.899469</td>\n",
       "      <td>0.899472</td>\n",
       "    </tr>\n",
       "    <tr>\n",
       "      <th>0</th>\n",
       "      <td>extra trees-1</td>\n",
       "      <td>1</td>\n",
       "      <td>neuro_harm_mri_etreg.1</td>\n",
       "      <td>4.012978</td>\n",
       "      <td>0.884934</td>\n",
       "      <td>0.890215</td>\n",
       "    </tr>\n",
       "    <tr>\n",
       "      <th>0</th>\n",
       "      <td>extra trees-2</td>\n",
       "      <td>2</td>\n",
       "      <td>neuro_harm_mri_etreg.2</td>\n",
       "      <td>4.514413</td>\n",
       "      <td>0.847289</td>\n",
       "      <td>0.847290</td>\n",
       "    </tr>\n",
       "    <tr>\n",
       "      <th>0</th>\n",
       "      <td>extra trees-3</td>\n",
       "      <td>3</td>\n",
       "      <td>neuro_harm_mri_etreg.3</td>\n",
       "      <td>3.980705</td>\n",
       "      <td>0.877118</td>\n",
       "      <td>0.877615</td>\n",
       "    </tr>\n",
       "    <tr>\n",
       "      <th>0</th>\n",
       "      <td>extra trees-4</td>\n",
       "      <td>4</td>\n",
       "      <td>neuro_harm_mri_etreg.4</td>\n",
       "      <td>4.042529</td>\n",
       "      <td>0.873652</td>\n",
       "      <td>0.873864</td>\n",
       "    </tr>\n",
       "  </tbody>\n",
       "</table>\n",
       "</div>"
      ],
      "text/plain": [
       "       algorithm fold               file_name       mae        r2  \\\n",
       "0  extra trees-0    0  neuro_harm_mri_etreg.0  3.590285  0.899469   \n",
       "0  extra trees-1    1  neuro_harm_mri_etreg.1  4.012978  0.884934   \n",
       "0  extra trees-2    2  neuro_harm_mri_etreg.2  4.514413  0.847289   \n",
       "0  extra trees-3    3  neuro_harm_mri_etreg.3  3.980705  0.877118   \n",
       "0  extra trees-4    4  neuro_harm_mri_etreg.4  4.042529  0.873652   \n",
       "\n",
       "   explained_variance  \n",
       "0            0.899472  \n",
       "0            0.890215  \n",
       "0            0.847290  \n",
       "0            0.877615  \n",
       "0            0.873864  "
      ]
     },
     "execution_count": 52,
     "metadata": {},
     "output_type": "execute_result"
    }
   ],
   "source": [
    "etreg_k_frame, etreg_y_frame, models = sep.stratified_cat_and_cont_categories_shuffle_split('extra trees', 'neuro_harm_mri_etreg',  ExtraTreesRegressor(n_estimators=100, random_state=0), ml_matrix, X, y)\n",
    "etreg_k_frame"
   ]
  },
  {
   "cell_type": "code",
   "execution_count": 53,
   "id": "3064afd4-17a2-4cfd-9d6b-84a18cd61e48",
   "metadata": {
    "tags": []
   },
   "outputs": [],
   "source": [
    "etreg_k_frame.to_csv(output_folder + '/neuro_haromized_etreg_k_frame.csv')"
   ]
  },
  {
   "cell_type": "code",
   "execution_count": 54,
   "id": "e515bf94-3e1f-4b1b-a5d1-a149fdbe4855",
   "metadata": {
    "tags": []
   },
   "outputs": [
    {
     "data": {
      "text/html": [
       "<div>\n",
       "<style scoped>\n",
       "    .dataframe tbody tr th:only-of-type {\n",
       "        vertical-align: middle;\n",
       "    }\n",
       "\n",
       "    .dataframe tbody tr th {\n",
       "        vertical-align: top;\n",
       "    }\n",
       "\n",
       "    .dataframe thead th {\n",
       "        text-align: right;\n",
       "    }\n",
       "</style>\n",
       "<table border=\"1\" class=\"dataframe\">\n",
       "  <thead>\n",
       "    <tr style=\"text-align: right;\">\n",
       "      <th></th>\n",
       "      <th>algorithm</th>\n",
       "      <th>file_name</th>\n",
       "      <th>mae</th>\n",
       "      <th>r2</th>\n",
       "      <th>explained_variance</th>\n",
       "    </tr>\n",
       "  </thead>\n",
       "  <tbody>\n",
       "    <tr>\n",
       "      <th>0</th>\n",
       "      <td>0    extra trees-0\n",
       "0    extra trees-1\n",
       "0    ext...</td>\n",
       "      <td>0    neuro_harm_mri_etreg.0\n",
       "0    neuro_harm_mr...</td>\n",
       "      <td>4.028182</td>\n",
       "      <td>0.876492</td>\n",
       "      <td>0.877691</td>\n",
       "    </tr>\n",
       "  </tbody>\n",
       "</table>\n",
       "</div>"
      ],
      "text/plain": [
       "                                           algorithm  \\\n",
       "0  0    extra trees-0\n",
       "0    extra trees-1\n",
       "0    ext...   \n",
       "\n",
       "                                           file_name       mae        r2  \\\n",
       "0  0    neuro_harm_mri_etreg.0\n",
       "0    neuro_harm_mr...  4.028182  0.876492   \n",
       "\n",
       "   explained_variance  \n",
       "0            0.877691  "
      ]
     },
     "execution_count": 54,
     "metadata": {},
     "output_type": "execute_result"
    }
   ],
   "source": [
    "avg_etreg = sep.avg_k_folds(etreg_k_frame)\n",
    "avg_etreg"
   ]
  },
  {
   "cell_type": "code",
   "execution_count": 55,
   "id": "15a28a6e-5c05-44a8-88a0-0715b4b71679",
   "metadata": {
    "tags": []
   },
   "outputs": [
    {
     "data": {
      "text/html": [
       "<div>\n",
       "<style scoped>\n",
       "    .dataframe tbody tr th:only-of-type {\n",
       "        vertical-align: middle;\n",
       "    }\n",
       "\n",
       "    .dataframe tbody tr th {\n",
       "        vertical-align: top;\n",
       "    }\n",
       "\n",
       "    .dataframe thead th {\n",
       "        text-align: right;\n",
       "    }\n",
       "</style>\n",
       "<table border=\"1\" class=\"dataframe\">\n",
       "  <thead>\n",
       "    <tr style=\"text-align: right;\">\n",
       "      <th></th>\n",
       "      <th>y_test</th>\n",
       "      <th>y_pred</th>\n",
       "    </tr>\n",
       "  </thead>\n",
       "  <tbody>\n",
       "    <tr>\n",
       "      <th>0</th>\n",
       "      <td>44.509589</td>\n",
       "      <td>38.719941</td>\n",
       "    </tr>\n",
       "    <tr>\n",
       "      <th>1</th>\n",
       "      <td>66.471233</td>\n",
       "      <td>61.389943</td>\n",
       "    </tr>\n",
       "    <tr>\n",
       "      <th>2</th>\n",
       "      <td>46.084932</td>\n",
       "      <td>46.160282</td>\n",
       "    </tr>\n",
       "    <tr>\n",
       "      <th>3</th>\n",
       "      <td>73.564384</td>\n",
       "      <td>66.299276</td>\n",
       "    </tr>\n",
       "    <tr>\n",
       "      <th>4</th>\n",
       "      <td>51.357923</td>\n",
       "      <td>42.679370</td>\n",
       "    </tr>\n",
       "    <tr>\n",
       "      <th>...</th>\n",
       "      <td>...</td>\n",
       "      <td>...</td>\n",
       "    </tr>\n",
       "    <tr>\n",
       "      <th>140</th>\n",
       "      <td>74.191257</td>\n",
       "      <td>70.968873</td>\n",
       "    </tr>\n",
       "    <tr>\n",
       "      <th>141</th>\n",
       "      <td>67.515068</td>\n",
       "      <td>67.431710</td>\n",
       "    </tr>\n",
       "    <tr>\n",
       "      <th>142</th>\n",
       "      <td>49.827375</td>\n",
       "      <td>48.989407</td>\n",
       "    </tr>\n",
       "    <tr>\n",
       "      <th>143</th>\n",
       "      <td>71.254795</td>\n",
       "      <td>72.464504</td>\n",
       "    </tr>\n",
       "    <tr>\n",
       "      <th>144</th>\n",
       "      <td>66.884767</td>\n",
       "      <td>67.022628</td>\n",
       "    </tr>\n",
       "  </tbody>\n",
       "</table>\n",
       "<p>725 rows × 2 columns</p>\n",
       "</div>"
      ],
      "text/plain": [
       "        y_test     y_pred\n",
       "0    44.509589  38.719941\n",
       "1    66.471233  61.389943\n",
       "2    46.084932  46.160282\n",
       "3    73.564384  66.299276\n",
       "4    51.357923  42.679370\n",
       "..         ...        ...\n",
       "140  74.191257  70.968873\n",
       "141  67.515068  67.431710\n",
       "142  49.827375  48.989407\n",
       "143  71.254795  72.464504\n",
       "144  66.884767  67.022628\n",
       "\n",
       "[725 rows x 2 columns]"
      ]
     },
     "execution_count": 55,
     "metadata": {},
     "output_type": "execute_result"
    }
   ],
   "source": [
    "etreg_y_frame"
   ]
  },
  {
   "cell_type": "code",
   "execution_count": 56,
   "id": "fd44626a-42f5-4297-81da-b4de8001134e",
   "metadata": {
    "tags": []
   },
   "outputs": [],
   "source": [
    "etreg_y_frame.to_csv(output_folder + '/neuro_harmonized_etreg_y_frame.csv')"
   ]
  },
  {
   "cell_type": "code",
   "execution_count": 57,
   "id": "50856e14-5fe2-40e0-ac54-14042140f94b",
   "metadata": {
    "tags": []
   },
   "outputs": [
    {
     "data": {
      "text/html": [
       "<style>#sk-container-id-7 {color: black;}#sk-container-id-7 pre{padding: 0;}#sk-container-id-7 div.sk-toggleable {background-color: white;}#sk-container-id-7 label.sk-toggleable__label {cursor: pointer;display: block;width: 100%;margin-bottom: 0;padding: 0.3em;box-sizing: border-box;text-align: center;}#sk-container-id-7 label.sk-toggleable__label-arrow:before {content: \"▸\";float: left;margin-right: 0.25em;color: #696969;}#sk-container-id-7 label.sk-toggleable__label-arrow:hover:before {color: black;}#sk-container-id-7 div.sk-estimator:hover label.sk-toggleable__label-arrow:before {color: black;}#sk-container-id-7 div.sk-toggleable__content {max-height: 0;max-width: 0;overflow: hidden;text-align: left;background-color: #f0f8ff;}#sk-container-id-7 div.sk-toggleable__content pre {margin: 0.2em;color: black;border-radius: 0.25em;background-color: #f0f8ff;}#sk-container-id-7 input.sk-toggleable__control:checked~div.sk-toggleable__content {max-height: 200px;max-width: 100%;overflow: auto;}#sk-container-id-7 input.sk-toggleable__control:checked~label.sk-toggleable__label-arrow:before {content: \"▾\";}#sk-container-id-7 div.sk-estimator input.sk-toggleable__control:checked~label.sk-toggleable__label {background-color: #d4ebff;}#sk-container-id-7 div.sk-label input.sk-toggleable__control:checked~label.sk-toggleable__label {background-color: #d4ebff;}#sk-container-id-7 input.sk-hidden--visually {border: 0;clip: rect(1px 1px 1px 1px);clip: rect(1px, 1px, 1px, 1px);height: 1px;margin: -1px;overflow: hidden;padding: 0;position: absolute;width: 1px;}#sk-container-id-7 div.sk-estimator {font-family: monospace;background-color: #f0f8ff;border: 1px dotted black;border-radius: 0.25em;box-sizing: border-box;margin-bottom: 0.5em;}#sk-container-id-7 div.sk-estimator:hover {background-color: #d4ebff;}#sk-container-id-7 div.sk-parallel-item::after {content: \"\";width: 100%;border-bottom: 1px solid gray;flex-grow: 1;}#sk-container-id-7 div.sk-label:hover label.sk-toggleable__label {background-color: #d4ebff;}#sk-container-id-7 div.sk-serial::before {content: \"\";position: absolute;border-left: 1px solid gray;box-sizing: border-box;top: 0;bottom: 0;left: 50%;z-index: 0;}#sk-container-id-7 div.sk-serial {display: flex;flex-direction: column;align-items: center;background-color: white;padding-right: 0.2em;padding-left: 0.2em;position: relative;}#sk-container-id-7 div.sk-item {position: relative;z-index: 1;}#sk-container-id-7 div.sk-parallel {display: flex;align-items: stretch;justify-content: center;background-color: white;position: relative;}#sk-container-id-7 div.sk-item::before, #sk-container-id-7 div.sk-parallel-item::before {content: \"\";position: absolute;border-left: 1px solid gray;box-sizing: border-box;top: 0;bottom: 0;left: 50%;z-index: -1;}#sk-container-id-7 div.sk-parallel-item {display: flex;flex-direction: column;z-index: 1;position: relative;background-color: white;}#sk-container-id-7 div.sk-parallel-item:first-child::after {align-self: flex-end;width: 50%;}#sk-container-id-7 div.sk-parallel-item:last-child::after {align-self: flex-start;width: 50%;}#sk-container-id-7 div.sk-parallel-item:only-child::after {width: 0;}#sk-container-id-7 div.sk-dashed-wrapped {border: 1px dashed gray;margin: 0 0.4em 0.5em 0.4em;box-sizing: border-box;padding-bottom: 0.4em;background-color: white;}#sk-container-id-7 div.sk-label label {font-family: monospace;font-weight: bold;display: inline-block;line-height: 1.2em;}#sk-container-id-7 div.sk-label-container {text-align: center;}#sk-container-id-7 div.sk-container {/* jupyter's `normalize.less` sets `[hidden] { display: none; }` but bootstrap.min.css set `[hidden] { display: none !important; }` so we also need the `!important` here to be able to override the default hidden behavior on the sphinx rendered scikit-learn.org. See: https://github.com/scikit-learn/scikit-learn/issues/21755 */display: inline-block !important;position: relative;}#sk-container-id-7 div.sk-text-repr-fallback {display: none;}</style><div id=\"sk-container-id-7\" class=\"sk-top-container\"><div class=\"sk-text-repr-fallback\"><pre>ExtraTreesRegressor(random_state=0)</pre><b>In a Jupyter environment, please rerun this cell to show the HTML representation or trust the notebook. <br />On GitHub, the HTML representation is unable to render, please try loading this page with nbviewer.org.</b></div><div class=\"sk-container\" hidden><div class=\"sk-item\"><div class=\"sk-estimator sk-toggleable\"><input class=\"sk-toggleable__control sk-hidden--visually\" id=\"sk-estimator-id-7\" type=\"checkbox\" checked><label for=\"sk-estimator-id-7\" class=\"sk-toggleable__label sk-toggleable__label-arrow\">ExtraTreesRegressor</label><div class=\"sk-toggleable__content\"><pre>ExtraTreesRegressor(random_state=0)</pre></div></div></div></div></div>"
      ],
      "text/plain": [
       "ExtraTreesRegressor(random_state=0)"
      ]
     },
     "execution_count": 57,
     "metadata": {},
     "output_type": "execute_result"
    }
   ],
   "source": [
    "etreg = models[0]\n",
    "etreg[0]"
   ]
  },
  {
   "cell_type": "code",
   "execution_count": 58,
   "id": "23a77557-3a44-4146-a3b4-1604b803441c",
   "metadata": {
    "tags": []
   },
   "outputs": [],
   "source": [
    "## optional save models\n",
    "#joblib.dump(etreg[0], ('../result_models/'+ 'neuro_harm_mri_etreg0.sav'))\n",
    "#joblib.dump(etreg[1], ('../result_models/'+ 'neuro_harm_mri_etreg1.sav'))\n",
    "#joblib.dump(etreg[2], ('../result_models/'+ 'neuro_harm_mri_etreg2.sav'))\n",
    "#joblib.dump(etreg[3], ('../result_models/'+ 'neuro_harm_mri_etreg3.sav'))\n",
    "#joblib.dump(etreg[4], ('../result_models/'+ 'neuro_harm_mri_etreg4.sav'))"
   ]
  },
  {
   "cell_type": "markdown",
   "id": "13dea877-0cea-49ac-8d39-7ad3072e4c28",
   "metadata": {},
   "source": [
    "Show results ON AVERAGE for each model"
   ]
  },
  {
   "cell_type": "code",
   "execution_count": 59,
   "id": "0cf667b7-dfc0-4f48-adb0-9f85941bf9e9",
   "metadata": {
    "tags": []
   },
   "outputs": [
    {
     "data": {
      "text/html": [
       "<div>\n",
       "<style scoped>\n",
       "    .dataframe tbody tr th:only-of-type {\n",
       "        vertical-align: middle;\n",
       "    }\n",
       "\n",
       "    .dataframe tbody tr th {\n",
       "        vertical-align: top;\n",
       "    }\n",
       "\n",
       "    .dataframe thead th {\n",
       "        text-align: right;\n",
       "    }\n",
       "</style>\n",
       "<table border=\"1\" class=\"dataframe\">\n",
       "  <thead>\n",
       "    <tr style=\"text-align: right;\">\n",
       "      <th></th>\n",
       "      <th>algorithm</th>\n",
       "      <th>file_name</th>\n",
       "      <th>mae</th>\n",
       "      <th>r2</th>\n",
       "      <th>explained_variance</th>\n",
       "    </tr>\n",
       "  </thead>\n",
       "  <tbody>\n",
       "    <tr>\n",
       "      <th>0</th>\n",
       "      <td>0    linear regression-0\n",
       "0    linear regressio...</td>\n",
       "      <td>0    neuro_harm_mri_linr.0\n",
       "0    neuro_harm_mri...</td>\n",
       "      <td>5.554247</td>\n",
       "      <td>0.754986</td>\n",
       "      <td>0.757188</td>\n",
       "    </tr>\n",
       "    <tr>\n",
       "      <th>0</th>\n",
       "      <td>0    lasso regression-0\n",
       "0    lasso regression-...</td>\n",
       "      <td>0    neuro_harm_mri_llreg.0\n",
       "0    neuro_harm_mr...</td>\n",
       "      <td>5.771911</td>\n",
       "      <td>0.732896</td>\n",
       "      <td>0.734724</td>\n",
       "    </tr>\n",
       "    <tr>\n",
       "      <th>0</th>\n",
       "      <td>0    decision tree-0\n",
       "0    decision tree-1\n",
       "0   ...</td>\n",
       "      <td>0    neuro_harm_mri_dtree.0\n",
       "0    neuro_harm_mr...</td>\n",
       "      <td>5.448330</td>\n",
       "      <td>0.751533</td>\n",
       "      <td>0.754294</td>\n",
       "    </tr>\n",
       "    <tr>\n",
       "      <th>0</th>\n",
       "      <td>0    MLP regression-0\n",
       "0    MLP regression-1\n",
       "0 ...</td>\n",
       "      <td>0    neuro_harm_mri_regr.0\n",
       "0    neuro_harm_mri...</td>\n",
       "      <td>8.040946</td>\n",
       "      <td>0.480066</td>\n",
       "      <td>0.482984</td>\n",
       "    </tr>\n",
       "    <tr>\n",
       "      <th>0</th>\n",
       "      <td>0    support vector reg poly2-0\n",
       "0    support v...</td>\n",
       "      <td>0    neuro_harm_mri_svrp2.0\n",
       "0    neuro_harm_mr...</td>\n",
       "      <td>9.714713</td>\n",
       "      <td>0.220449</td>\n",
       "      <td>0.282033</td>\n",
       "    </tr>\n",
       "    <tr>\n",
       "      <th>0</th>\n",
       "      <td>0    elasticnetCV-0\n",
       "0    elasticnetCV-1\n",
       "0    e...</td>\n",
       "      <td>0    neuro_harm_mix_eregr.0\n",
       "0    neuro_harm_mi...</td>\n",
       "      <td>8.016432</td>\n",
       "      <td>0.481392</td>\n",
       "      <td>0.486042</td>\n",
       "    </tr>\n",
       "    <tr>\n",
       "      <th>0</th>\n",
       "      <td>0    extra trees-0\n",
       "0    extra trees-1\n",
       "0    ext...</td>\n",
       "      <td>0    neuro_harm_mri_etreg.0\n",
       "0    neuro_harm_mr...</td>\n",
       "      <td>4.028182</td>\n",
       "      <td>0.876492</td>\n",
       "      <td>0.877691</td>\n",
       "    </tr>\n",
       "  </tbody>\n",
       "</table>\n",
       "</div>"
      ],
      "text/plain": [
       "                                           algorithm  \\\n",
       "0  0    linear regression-0\n",
       "0    linear regressio...   \n",
       "0  0    lasso regression-0\n",
       "0    lasso regression-...   \n",
       "0  0    decision tree-0\n",
       "0    decision tree-1\n",
       "0   ...   \n",
       "0  0    MLP regression-0\n",
       "0    MLP regression-1\n",
       "0 ...   \n",
       "0  0    support vector reg poly2-0\n",
       "0    support v...   \n",
       "0  0    elasticnetCV-0\n",
       "0    elasticnetCV-1\n",
       "0    e...   \n",
       "0  0    extra trees-0\n",
       "0    extra trees-1\n",
       "0    ext...   \n",
       "\n",
       "                                           file_name       mae        r2  \\\n",
       "0  0    neuro_harm_mri_linr.0\n",
       "0    neuro_harm_mri...  5.554247  0.754986   \n",
       "0  0    neuro_harm_mri_llreg.0\n",
       "0    neuro_harm_mr...  5.771911  0.732896   \n",
       "0  0    neuro_harm_mri_dtree.0\n",
       "0    neuro_harm_mr...  5.448330  0.751533   \n",
       "0  0    neuro_harm_mri_regr.0\n",
       "0    neuro_harm_mri...  8.040946  0.480066   \n",
       "0  0    neuro_harm_mri_svrp2.0\n",
       "0    neuro_harm_mr...  9.714713  0.220449   \n",
       "0  0    neuro_harm_mix_eregr.0\n",
       "0    neuro_harm_mi...  8.016432  0.481392   \n",
       "0  0    neuro_harm_mri_etreg.0\n",
       "0    neuro_harm_mr...  4.028182  0.876492   \n",
       "\n",
       "   explained_variance  \n",
       "0            0.757188  \n",
       "0            0.734724  \n",
       "0            0.754294  \n",
       "0            0.482984  \n",
       "0            0.282033  \n",
       "0            0.486042  \n",
       "0            0.877691  "
      ]
     },
     "execution_count": 59,
     "metadata": {},
     "output_type": "execute_result"
    }
   ],
   "source": [
    "mri_based_neuro_harmonized_on_testmri =pd.concat([avg_linr,\n",
    "                   avg_llreg,\n",
    "                   avg_dtree,\n",
    "                   avg_regr,\n",
    "                   avg_svrp2,\n",
    "                   avg_eregr,\n",
    "                   avg_etreg],\n",
    "                  axis=0)\n",
    "mri_based_neuro_harmonized_on_testmri"
   ]
  },
  {
   "cell_type": "code",
   "execution_count": 60,
   "id": "853f1b08-5ca3-41ca-ba59-2d2b44799a15",
   "metadata": {
    "tags": []
   },
   "outputs": [],
   "source": [
    "mri_based_neuro_harmonized_on_testmri.to_csv(output_folder + '/mri_based_neuro_harmonized_on_testmri_AVERAGES.csv')"
   ]
  },
  {
   "cell_type": "markdown",
   "id": "d480d24e-c026-44ce-ba1d-0bfdad06b96b",
   "metadata": {},
   "source": [
    "## Now we will build  models based on the whole  neurocombat harmonized StrokeMRI dataset, and apply them to TOP . "
   ]
  },
  {
   "cell_type": "code",
   "execution_count": 61,
   "id": "6c191cec-1cb6-4607-95fe-06abe90a926a",
   "metadata": {
    "tags": []
   },
   "outputs": [],
   "source": [
    "ml_matrix = StrokeMRI.drop('participant_id', axis=1)\n",
    "X = ml_matrix.drop('age', axis =1)\n",
    "X = X.values\n",
    "X = X.astype('float')\n",
    "y = ml_matrix['age'].values\n",
    "y=y.astype('float')\n"
   ]
  },
  {
   "cell_type": "code",
   "execution_count": 62,
   "id": "a9d97f90-d8b1-4311-9be4-f59a42aa7cb6",
   "metadata": {
    "tags": []
   },
   "outputs": [],
   "source": [
    "# now we decide to do no test train split, rather take all\n",
    "X_train = X\n",
    "y_train = y"
   ]
  },
  {
   "cell_type": "code",
   "execution_count": 63,
   "id": "59e649de-dc95-45cb-800a-77a6f0609be0",
   "metadata": {
    "tags": []
   },
   "outputs": [
    {
     "data": {
      "text/html": [
       "<style>#sk-container-id-8 {color: black;}#sk-container-id-8 pre{padding: 0;}#sk-container-id-8 div.sk-toggleable {background-color: white;}#sk-container-id-8 label.sk-toggleable__label {cursor: pointer;display: block;width: 100%;margin-bottom: 0;padding: 0.3em;box-sizing: border-box;text-align: center;}#sk-container-id-8 label.sk-toggleable__label-arrow:before {content: \"▸\";float: left;margin-right: 0.25em;color: #696969;}#sk-container-id-8 label.sk-toggleable__label-arrow:hover:before {color: black;}#sk-container-id-8 div.sk-estimator:hover label.sk-toggleable__label-arrow:before {color: black;}#sk-container-id-8 div.sk-toggleable__content {max-height: 0;max-width: 0;overflow: hidden;text-align: left;background-color: #f0f8ff;}#sk-container-id-8 div.sk-toggleable__content pre {margin: 0.2em;color: black;border-radius: 0.25em;background-color: #f0f8ff;}#sk-container-id-8 input.sk-toggleable__control:checked~div.sk-toggleable__content {max-height: 200px;max-width: 100%;overflow: auto;}#sk-container-id-8 input.sk-toggleable__control:checked~label.sk-toggleable__label-arrow:before {content: \"▾\";}#sk-container-id-8 div.sk-estimator input.sk-toggleable__control:checked~label.sk-toggleable__label {background-color: #d4ebff;}#sk-container-id-8 div.sk-label input.sk-toggleable__control:checked~label.sk-toggleable__label {background-color: #d4ebff;}#sk-container-id-8 input.sk-hidden--visually {border: 0;clip: rect(1px 1px 1px 1px);clip: rect(1px, 1px, 1px, 1px);height: 1px;margin: -1px;overflow: hidden;padding: 0;position: absolute;width: 1px;}#sk-container-id-8 div.sk-estimator {font-family: monospace;background-color: #f0f8ff;border: 1px dotted black;border-radius: 0.25em;box-sizing: border-box;margin-bottom: 0.5em;}#sk-container-id-8 div.sk-estimator:hover {background-color: #d4ebff;}#sk-container-id-8 div.sk-parallel-item::after {content: \"\";width: 100%;border-bottom: 1px solid gray;flex-grow: 1;}#sk-container-id-8 div.sk-label:hover label.sk-toggleable__label {background-color: #d4ebff;}#sk-container-id-8 div.sk-serial::before {content: \"\";position: absolute;border-left: 1px solid gray;box-sizing: border-box;top: 0;bottom: 0;left: 50%;z-index: 0;}#sk-container-id-8 div.sk-serial {display: flex;flex-direction: column;align-items: center;background-color: white;padding-right: 0.2em;padding-left: 0.2em;position: relative;}#sk-container-id-8 div.sk-item {position: relative;z-index: 1;}#sk-container-id-8 div.sk-parallel {display: flex;align-items: stretch;justify-content: center;background-color: white;position: relative;}#sk-container-id-8 div.sk-item::before, #sk-container-id-8 div.sk-parallel-item::before {content: \"\";position: absolute;border-left: 1px solid gray;box-sizing: border-box;top: 0;bottom: 0;left: 50%;z-index: -1;}#sk-container-id-8 div.sk-parallel-item {display: flex;flex-direction: column;z-index: 1;position: relative;background-color: white;}#sk-container-id-8 div.sk-parallel-item:first-child::after {align-self: flex-end;width: 50%;}#sk-container-id-8 div.sk-parallel-item:last-child::after {align-self: flex-start;width: 50%;}#sk-container-id-8 div.sk-parallel-item:only-child::after {width: 0;}#sk-container-id-8 div.sk-dashed-wrapped {border: 1px dashed gray;margin: 0 0.4em 0.5em 0.4em;box-sizing: border-box;padding-bottom: 0.4em;background-color: white;}#sk-container-id-8 div.sk-label label {font-family: monospace;font-weight: bold;display: inline-block;line-height: 1.2em;}#sk-container-id-8 div.sk-label-container {text-align: center;}#sk-container-id-8 div.sk-container {/* jupyter's `normalize.less` sets `[hidden] { display: none; }` but bootstrap.min.css set `[hidden] { display: none !important; }` so we also need the `!important` here to be able to override the default hidden behavior on the sphinx rendered scikit-learn.org. See: https://github.com/scikit-learn/scikit-learn/issues/21755 */display: inline-block !important;position: relative;}#sk-container-id-8 div.sk-text-repr-fallback {display: none;}</style><div id=\"sk-container-id-8\" class=\"sk-top-container\"><div class=\"sk-text-repr-fallback\"><pre>LinearRegression()</pre><b>In a Jupyter environment, please rerun this cell to show the HTML representation or trust the notebook. <br />On GitHub, the HTML representation is unable to render, please try loading this page with nbviewer.org.</b></div><div class=\"sk-container\" hidden><div class=\"sk-item\"><div class=\"sk-estimator sk-toggleable\"><input class=\"sk-toggleable__control sk-hidden--visually\" id=\"sk-estimator-id-8\" type=\"checkbox\" checked><label for=\"sk-estimator-id-8\" class=\"sk-toggleable__label sk-toggleable__label-arrow\">LinearRegression</label><div class=\"sk-toggleable__content\"><pre>LinearRegression()</pre></div></div></div></div></div>"
      ],
      "text/plain": [
       "LinearRegression()"
      ]
     },
     "execution_count": 63,
     "metadata": {},
     "output_type": "execute_result"
    }
   ],
   "source": [
    "MRIlinr = LinearRegression()\n",
    "MRIlinr.fit(X_train, y_train)"
   ]
  },
  {
   "cell_type": "code",
   "execution_count": 64,
   "id": "1d6ea896-1c0c-4b8c-b236-1a38d0114395",
   "metadata": {
    "tags": []
   },
   "outputs": [
    {
     "data": {
      "text/html": [
       "<style>#sk-container-id-9 {color: black;}#sk-container-id-9 pre{padding: 0;}#sk-container-id-9 div.sk-toggleable {background-color: white;}#sk-container-id-9 label.sk-toggleable__label {cursor: pointer;display: block;width: 100%;margin-bottom: 0;padding: 0.3em;box-sizing: border-box;text-align: center;}#sk-container-id-9 label.sk-toggleable__label-arrow:before {content: \"▸\";float: left;margin-right: 0.25em;color: #696969;}#sk-container-id-9 label.sk-toggleable__label-arrow:hover:before {color: black;}#sk-container-id-9 div.sk-estimator:hover label.sk-toggleable__label-arrow:before {color: black;}#sk-container-id-9 div.sk-toggleable__content {max-height: 0;max-width: 0;overflow: hidden;text-align: left;background-color: #f0f8ff;}#sk-container-id-9 div.sk-toggleable__content pre {margin: 0.2em;color: black;border-radius: 0.25em;background-color: #f0f8ff;}#sk-container-id-9 input.sk-toggleable__control:checked~div.sk-toggleable__content {max-height: 200px;max-width: 100%;overflow: auto;}#sk-container-id-9 input.sk-toggleable__control:checked~label.sk-toggleable__label-arrow:before {content: \"▾\";}#sk-container-id-9 div.sk-estimator input.sk-toggleable__control:checked~label.sk-toggleable__label {background-color: #d4ebff;}#sk-container-id-9 div.sk-label input.sk-toggleable__control:checked~label.sk-toggleable__label {background-color: #d4ebff;}#sk-container-id-9 input.sk-hidden--visually {border: 0;clip: rect(1px 1px 1px 1px);clip: rect(1px, 1px, 1px, 1px);height: 1px;margin: -1px;overflow: hidden;padding: 0;position: absolute;width: 1px;}#sk-container-id-9 div.sk-estimator {font-family: monospace;background-color: #f0f8ff;border: 1px dotted black;border-radius: 0.25em;box-sizing: border-box;margin-bottom: 0.5em;}#sk-container-id-9 div.sk-estimator:hover {background-color: #d4ebff;}#sk-container-id-9 div.sk-parallel-item::after {content: \"\";width: 100%;border-bottom: 1px solid gray;flex-grow: 1;}#sk-container-id-9 div.sk-label:hover label.sk-toggleable__label {background-color: #d4ebff;}#sk-container-id-9 div.sk-serial::before {content: \"\";position: absolute;border-left: 1px solid gray;box-sizing: border-box;top: 0;bottom: 0;left: 50%;z-index: 0;}#sk-container-id-9 div.sk-serial {display: flex;flex-direction: column;align-items: center;background-color: white;padding-right: 0.2em;padding-left: 0.2em;position: relative;}#sk-container-id-9 div.sk-item {position: relative;z-index: 1;}#sk-container-id-9 div.sk-parallel {display: flex;align-items: stretch;justify-content: center;background-color: white;position: relative;}#sk-container-id-9 div.sk-item::before, #sk-container-id-9 div.sk-parallel-item::before {content: \"\";position: absolute;border-left: 1px solid gray;box-sizing: border-box;top: 0;bottom: 0;left: 50%;z-index: -1;}#sk-container-id-9 div.sk-parallel-item {display: flex;flex-direction: column;z-index: 1;position: relative;background-color: white;}#sk-container-id-9 div.sk-parallel-item:first-child::after {align-self: flex-end;width: 50%;}#sk-container-id-9 div.sk-parallel-item:last-child::after {align-self: flex-start;width: 50%;}#sk-container-id-9 div.sk-parallel-item:only-child::after {width: 0;}#sk-container-id-9 div.sk-dashed-wrapped {border: 1px dashed gray;margin: 0 0.4em 0.5em 0.4em;box-sizing: border-box;padding-bottom: 0.4em;background-color: white;}#sk-container-id-9 div.sk-label label {font-family: monospace;font-weight: bold;display: inline-block;line-height: 1.2em;}#sk-container-id-9 div.sk-label-container {text-align: center;}#sk-container-id-9 div.sk-container {/* jupyter's `normalize.less` sets `[hidden] { display: none; }` but bootstrap.min.css set `[hidden] { display: none !important; }` so we also need the `!important` here to be able to override the default hidden behavior on the sphinx rendered scikit-learn.org. See: https://github.com/scikit-learn/scikit-learn/issues/21755 */display: inline-block !important;position: relative;}#sk-container-id-9 div.sk-text-repr-fallback {display: none;}</style><div id=\"sk-container-id-9\" class=\"sk-top-container\"><div class=\"sk-text-repr-fallback\"><pre>LassoLars(alpha=0.01)</pre><b>In a Jupyter environment, please rerun this cell to show the HTML representation or trust the notebook. <br />On GitHub, the HTML representation is unable to render, please try loading this page with nbviewer.org.</b></div><div class=\"sk-container\" hidden><div class=\"sk-item\"><div class=\"sk-estimator sk-toggleable\"><input class=\"sk-toggleable__control sk-hidden--visually\" id=\"sk-estimator-id-9\" type=\"checkbox\" checked><label for=\"sk-estimator-id-9\" class=\"sk-toggleable__label sk-toggleable__label-arrow\">LassoLars</label><div class=\"sk-toggleable__content\"><pre>LassoLars(alpha=0.01)</pre></div></div></div></div></div>"
      ],
      "text/plain": [
       "LassoLars(alpha=0.01)"
      ]
     },
     "execution_count": 64,
     "metadata": {},
     "output_type": "execute_result"
    }
   ],
   "source": [
    "MRIllreg = linear_model.LassoLars(alpha=0.01)\n",
    "MRIllreg.fit(X_train, y_train)"
   ]
  },
  {
   "cell_type": "code",
   "execution_count": 65,
   "id": "32f3c938-9605-47d0-8406-0bb796f43e1e",
   "metadata": {
    "tags": []
   },
   "outputs": [
    {
     "data": {
      "text/html": [
       "<style>#sk-container-id-10 {color: black;}#sk-container-id-10 pre{padding: 0;}#sk-container-id-10 div.sk-toggleable {background-color: white;}#sk-container-id-10 label.sk-toggleable__label {cursor: pointer;display: block;width: 100%;margin-bottom: 0;padding: 0.3em;box-sizing: border-box;text-align: center;}#sk-container-id-10 label.sk-toggleable__label-arrow:before {content: \"▸\";float: left;margin-right: 0.25em;color: #696969;}#sk-container-id-10 label.sk-toggleable__label-arrow:hover:before {color: black;}#sk-container-id-10 div.sk-estimator:hover label.sk-toggleable__label-arrow:before {color: black;}#sk-container-id-10 div.sk-toggleable__content {max-height: 0;max-width: 0;overflow: hidden;text-align: left;background-color: #f0f8ff;}#sk-container-id-10 div.sk-toggleable__content pre {margin: 0.2em;color: black;border-radius: 0.25em;background-color: #f0f8ff;}#sk-container-id-10 input.sk-toggleable__control:checked~div.sk-toggleable__content {max-height: 200px;max-width: 100%;overflow: auto;}#sk-container-id-10 input.sk-toggleable__control:checked~label.sk-toggleable__label-arrow:before {content: \"▾\";}#sk-container-id-10 div.sk-estimator input.sk-toggleable__control:checked~label.sk-toggleable__label {background-color: #d4ebff;}#sk-container-id-10 div.sk-label input.sk-toggleable__control:checked~label.sk-toggleable__label {background-color: #d4ebff;}#sk-container-id-10 input.sk-hidden--visually {border: 0;clip: rect(1px 1px 1px 1px);clip: rect(1px, 1px, 1px, 1px);height: 1px;margin: -1px;overflow: hidden;padding: 0;position: absolute;width: 1px;}#sk-container-id-10 div.sk-estimator {font-family: monospace;background-color: #f0f8ff;border: 1px dotted black;border-radius: 0.25em;box-sizing: border-box;margin-bottom: 0.5em;}#sk-container-id-10 div.sk-estimator:hover {background-color: #d4ebff;}#sk-container-id-10 div.sk-parallel-item::after {content: \"\";width: 100%;border-bottom: 1px solid gray;flex-grow: 1;}#sk-container-id-10 div.sk-label:hover label.sk-toggleable__label {background-color: #d4ebff;}#sk-container-id-10 div.sk-serial::before {content: \"\";position: absolute;border-left: 1px solid gray;box-sizing: border-box;top: 0;bottom: 0;left: 50%;z-index: 0;}#sk-container-id-10 div.sk-serial {display: flex;flex-direction: column;align-items: center;background-color: white;padding-right: 0.2em;padding-left: 0.2em;position: relative;}#sk-container-id-10 div.sk-item {position: relative;z-index: 1;}#sk-container-id-10 div.sk-parallel {display: flex;align-items: stretch;justify-content: center;background-color: white;position: relative;}#sk-container-id-10 div.sk-item::before, #sk-container-id-10 div.sk-parallel-item::before {content: \"\";position: absolute;border-left: 1px solid gray;box-sizing: border-box;top: 0;bottom: 0;left: 50%;z-index: -1;}#sk-container-id-10 div.sk-parallel-item {display: flex;flex-direction: column;z-index: 1;position: relative;background-color: white;}#sk-container-id-10 div.sk-parallel-item:first-child::after {align-self: flex-end;width: 50%;}#sk-container-id-10 div.sk-parallel-item:last-child::after {align-self: flex-start;width: 50%;}#sk-container-id-10 div.sk-parallel-item:only-child::after {width: 0;}#sk-container-id-10 div.sk-dashed-wrapped {border: 1px dashed gray;margin: 0 0.4em 0.5em 0.4em;box-sizing: border-box;padding-bottom: 0.4em;background-color: white;}#sk-container-id-10 div.sk-label label {font-family: monospace;font-weight: bold;display: inline-block;line-height: 1.2em;}#sk-container-id-10 div.sk-label-container {text-align: center;}#sk-container-id-10 div.sk-container {/* jupyter's `normalize.less` sets `[hidden] { display: none; }` but bootstrap.min.css set `[hidden] { display: none !important; }` so we also need the `!important` here to be able to override the default hidden behavior on the sphinx rendered scikit-learn.org. See: https://github.com/scikit-learn/scikit-learn/issues/21755 */display: inline-block !important;position: relative;}#sk-container-id-10 div.sk-text-repr-fallback {display: none;}</style><div id=\"sk-container-id-10\" class=\"sk-top-container\"><div class=\"sk-text-repr-fallback\"><pre>ElasticNetCV(cv=5, random_state=17)</pre><b>In a Jupyter environment, please rerun this cell to show the HTML representation or trust the notebook. <br />On GitHub, the HTML representation is unable to render, please try loading this page with nbviewer.org.</b></div><div class=\"sk-container\" hidden><div class=\"sk-item\"><div class=\"sk-estimator sk-toggleable\"><input class=\"sk-toggleable__control sk-hidden--visually\" id=\"sk-estimator-id-10\" type=\"checkbox\" checked><label for=\"sk-estimator-id-10\" class=\"sk-toggleable__label sk-toggleable__label-arrow\">ElasticNetCV</label><div class=\"sk-toggleable__content\"><pre>ElasticNetCV(cv=5, random_state=17)</pre></div></div></div></div></div>"
      ],
      "text/plain": [
       "ElasticNetCV(cv=5, random_state=17)"
      ]
     },
     "execution_count": 65,
     "metadata": {},
     "output_type": "execute_result"
    }
   ],
   "source": [
    "MRIeregr = ElasticNetCV(cv=5, random_state=17)\n",
    "MRIeregr.fit(X_train, y_train)\n"
   ]
  },
  {
   "cell_type": "code",
   "execution_count": 66,
   "id": "1bd442fd-c7f8-4271-be26-d696af4b8183",
   "metadata": {
    "tags": []
   },
   "outputs": [
    {
     "data": {
      "text/html": [
       "<style>#sk-container-id-11 {color: black;}#sk-container-id-11 pre{padding: 0;}#sk-container-id-11 div.sk-toggleable {background-color: white;}#sk-container-id-11 label.sk-toggleable__label {cursor: pointer;display: block;width: 100%;margin-bottom: 0;padding: 0.3em;box-sizing: border-box;text-align: center;}#sk-container-id-11 label.sk-toggleable__label-arrow:before {content: \"▸\";float: left;margin-right: 0.25em;color: #696969;}#sk-container-id-11 label.sk-toggleable__label-arrow:hover:before {color: black;}#sk-container-id-11 div.sk-estimator:hover label.sk-toggleable__label-arrow:before {color: black;}#sk-container-id-11 div.sk-toggleable__content {max-height: 0;max-width: 0;overflow: hidden;text-align: left;background-color: #f0f8ff;}#sk-container-id-11 div.sk-toggleable__content pre {margin: 0.2em;color: black;border-radius: 0.25em;background-color: #f0f8ff;}#sk-container-id-11 input.sk-toggleable__control:checked~div.sk-toggleable__content {max-height: 200px;max-width: 100%;overflow: auto;}#sk-container-id-11 input.sk-toggleable__control:checked~label.sk-toggleable__label-arrow:before {content: \"▾\";}#sk-container-id-11 div.sk-estimator input.sk-toggleable__control:checked~label.sk-toggleable__label {background-color: #d4ebff;}#sk-container-id-11 div.sk-label input.sk-toggleable__control:checked~label.sk-toggleable__label {background-color: #d4ebff;}#sk-container-id-11 input.sk-hidden--visually {border: 0;clip: rect(1px 1px 1px 1px);clip: rect(1px, 1px, 1px, 1px);height: 1px;margin: -1px;overflow: hidden;padding: 0;position: absolute;width: 1px;}#sk-container-id-11 div.sk-estimator {font-family: monospace;background-color: #f0f8ff;border: 1px dotted black;border-radius: 0.25em;box-sizing: border-box;margin-bottom: 0.5em;}#sk-container-id-11 div.sk-estimator:hover {background-color: #d4ebff;}#sk-container-id-11 div.sk-parallel-item::after {content: \"\";width: 100%;border-bottom: 1px solid gray;flex-grow: 1;}#sk-container-id-11 div.sk-label:hover label.sk-toggleable__label {background-color: #d4ebff;}#sk-container-id-11 div.sk-serial::before {content: \"\";position: absolute;border-left: 1px solid gray;box-sizing: border-box;top: 0;bottom: 0;left: 50%;z-index: 0;}#sk-container-id-11 div.sk-serial {display: flex;flex-direction: column;align-items: center;background-color: white;padding-right: 0.2em;padding-left: 0.2em;position: relative;}#sk-container-id-11 div.sk-item {position: relative;z-index: 1;}#sk-container-id-11 div.sk-parallel {display: flex;align-items: stretch;justify-content: center;background-color: white;position: relative;}#sk-container-id-11 div.sk-item::before, #sk-container-id-11 div.sk-parallel-item::before {content: \"\";position: absolute;border-left: 1px solid gray;box-sizing: border-box;top: 0;bottom: 0;left: 50%;z-index: -1;}#sk-container-id-11 div.sk-parallel-item {display: flex;flex-direction: column;z-index: 1;position: relative;background-color: white;}#sk-container-id-11 div.sk-parallel-item:first-child::after {align-self: flex-end;width: 50%;}#sk-container-id-11 div.sk-parallel-item:last-child::after {align-self: flex-start;width: 50%;}#sk-container-id-11 div.sk-parallel-item:only-child::after {width: 0;}#sk-container-id-11 div.sk-dashed-wrapped {border: 1px dashed gray;margin: 0 0.4em 0.5em 0.4em;box-sizing: border-box;padding-bottom: 0.4em;background-color: white;}#sk-container-id-11 div.sk-label label {font-family: monospace;font-weight: bold;display: inline-block;line-height: 1.2em;}#sk-container-id-11 div.sk-label-container {text-align: center;}#sk-container-id-11 div.sk-container {/* jupyter's `normalize.less` sets `[hidden] { display: none; }` but bootstrap.min.css set `[hidden] { display: none !important; }` so we also need the `!important` here to be able to override the default hidden behavior on the sphinx rendered scikit-learn.org. See: https://github.com/scikit-learn/scikit-learn/issues/21755 */display: inline-block !important;position: relative;}#sk-container-id-11 div.sk-text-repr-fallback {display: none;}</style><div id=\"sk-container-id-11\" class=\"sk-top-container\"><div class=\"sk-text-repr-fallback\"><pre>ExtraTreesRegressor(random_state=0)</pre><b>In a Jupyter environment, please rerun this cell to show the HTML representation or trust the notebook. <br />On GitHub, the HTML representation is unable to render, please try loading this page with nbviewer.org.</b></div><div class=\"sk-container\" hidden><div class=\"sk-item\"><div class=\"sk-estimator sk-toggleable\"><input class=\"sk-toggleable__control sk-hidden--visually\" id=\"sk-estimator-id-11\" type=\"checkbox\" checked><label for=\"sk-estimator-id-11\" class=\"sk-toggleable__label sk-toggleable__label-arrow\">ExtraTreesRegressor</label><div class=\"sk-toggleable__content\"><pre>ExtraTreesRegressor(random_state=0)</pre></div></div></div></div></div>"
      ],
      "text/plain": [
       "ExtraTreesRegressor(random_state=0)"
      ]
     },
     "execution_count": 66,
     "metadata": {},
     "output_type": "execute_result"
    }
   ],
   "source": [
    "MRIetreg = ExtraTreesRegressor(n_estimators=100, random_state=0)\n",
    "MRIetreg.fit(X_train, y_train)"
   ]
  },
  {
   "cell_type": "code",
   "execution_count": 67,
   "id": "70266253-a9bf-4e36-84bc-2915004d16a7",
   "metadata": {
    "tags": []
   },
   "outputs": [],
   "source": [
    "##  Save these four best models"
   ]
  },
  {
   "cell_type": "code",
   "execution_count": 68,
   "id": "34a0db45-ab19-49d3-ac56-bbfdf0528920",
   "metadata": {
    "tags": []
   },
   "outputs": [],
   "source": [
    "\n",
    "## optional save models\n",
    "#joblib.dump(MRIlinr, ('../result_models/' + 'neuro_harm_whole_mri_linr.sav'))\n",
    "#joblib.dump(MRIllreg, ('../result_models/'+ 'neuro_harm_whole_mri_llreg1.sav'))\n",
    "#joblib.dump(MRIeregr, ('../result_models/'+ 'neuro_harm_whole_mri_eregr3.sav'))\n",
    "#joblib.dump(MRIetreg, ('../result_models/'+ 'neuro_harm_whole_mri_etreg4.sav'))"
   ]
  },
  {
   "cell_type": "markdown",
   "id": "21b0853a-2d01-48b3-82a7-5c133acc9358",
   "metadata": {},
   "source": [
    "# Running whole MRI model over TOP dataset"
   ]
  },
  {
   "cell_type": "code",
   "execution_count": 69,
   "id": "8b1f97eb-89fd-43e0-af4e-6653d2f054f4",
   "metadata": {
    "tags": []
   },
   "outputs": [],
   "source": [
    "top_ml_matrix = TOP.drop('participant_id', axis=1)\n",
    "X_top = top_ml_matrix.drop('age', axis =1)\n",
    "X_top = X_top.values\n",
    "X_top = X_top.astype('float')\n",
    "y_top = top_ml_matrix['age'].values\n",
    "y_top=y_top.astype('float')"
   ]
  },
  {
   "cell_type": "code",
   "execution_count": 70,
   "id": "3d8df8dd-1a14-4cf4-90c2-53b1511041e4",
   "metadata": {
    "tags": []
   },
   "outputs": [],
   "source": [
    "X_top_test = X_top\n",
    "y_top_test = y_top\n"
   ]
  },
  {
   "cell_type": "code",
   "execution_count": 71,
   "id": "09d377ae-74d7-4707-9a88-c6f7908b16e8",
   "metadata": {
    "tags": []
   },
   "outputs": [],
   "source": [
    "y_top_pred = MRIlinr.predict(X_top_test)"
   ]
  },
  {
   "cell_type": "code",
   "execution_count": 72,
   "id": "c36f5995-2942-40a3-8a9d-d89c4a6277c6",
   "metadata": {
    "tags": []
   },
   "outputs": [],
   "source": [
    "# print('R2 score Linear regression: %.3f' % linr.score(X_top_test,y_top_test))\n",
    "# print('Explained variance score: %.3f'  % metrics.explained_variance_score(y_top_test, y_top_pred))\n",
    "# print('The mean absolute error: %.3f' % mean_absolute_error(y_top_test, y_top_pred))"
   ]
  },
  {
   "cell_type": "code",
   "execution_count": 73,
   "id": "da202a14-ce66-440c-9bd0-2c3f17f1e074",
   "metadata": {
    "tags": []
   },
   "outputs": [],
   "source": [
    "data= [[\n",
    "    'linear regression',\n",
    "    'neuro_harm_whole_mri_linr.sav',\n",
    "    mean_absolute_error(y_top_test, y_top_pred),\n",
    "    MRIlinr.score(X_top_test,y_top_test),\n",
    "    metrics.explained_variance_score(y_top_test, y_top_pred)]]\n",
    "linr_results = pd.DataFrame(data, columns=['algorithm','file_name','mae', 'r2', 'explained_variance'])\n",
    "#linr_results"
   ]
  },
  {
   "cell_type": "code",
   "execution_count": 74,
   "id": "7303ab89-fcdc-47cf-b804-20ba0b6597e9",
   "metadata": {
    "tags": []
   },
   "outputs": [
    {
     "data": {
      "text/html": [
       "<div>\n",
       "<style scoped>\n",
       "    .dataframe tbody tr th:only-of-type {\n",
       "        vertical-align: middle;\n",
       "    }\n",
       "\n",
       "    .dataframe tbody tr th {\n",
       "        vertical-align: top;\n",
       "    }\n",
       "\n",
       "    .dataframe thead th {\n",
       "        text-align: right;\n",
       "    }\n",
       "</style>\n",
       "<table border=\"1\" class=\"dataframe\">\n",
       "  <thead>\n",
       "    <tr style=\"text-align: right;\">\n",
       "      <th></th>\n",
       "      <th>index</th>\n",
       "      <th>y_test_real_age</th>\n",
       "      <th>linr_y_pred_age</th>\n",
       "    </tr>\n",
       "  </thead>\n",
       "  <tbody>\n",
       "    <tr>\n",
       "      <th>0</th>\n",
       "      <td>0</td>\n",
       "      <td>50.40</td>\n",
       "      <td>46.425855</td>\n",
       "    </tr>\n",
       "    <tr>\n",
       "      <th>1</th>\n",
       "      <td>1</td>\n",
       "      <td>37.02</td>\n",
       "      <td>44.037350</td>\n",
       "    </tr>\n",
       "    <tr>\n",
       "      <th>2</th>\n",
       "      <td>2</td>\n",
       "      <td>30.57</td>\n",
       "      <td>38.356746</td>\n",
       "    </tr>\n",
       "    <tr>\n",
       "      <th>3</th>\n",
       "      <td>3</td>\n",
       "      <td>47.05</td>\n",
       "      <td>40.944554</td>\n",
       "    </tr>\n",
       "    <tr>\n",
       "      <th>4</th>\n",
       "      <td>4</td>\n",
       "      <td>44.63</td>\n",
       "      <td>44.470173</td>\n",
       "    </tr>\n",
       "    <tr>\n",
       "      <th>...</th>\n",
       "      <td>...</td>\n",
       "      <td>...</td>\n",
       "      <td>...</td>\n",
       "    </tr>\n",
       "    <tr>\n",
       "      <th>524</th>\n",
       "      <td>524</td>\n",
       "      <td>33.55</td>\n",
       "      <td>42.969257</td>\n",
       "    </tr>\n",
       "    <tr>\n",
       "      <th>525</th>\n",
       "      <td>525</td>\n",
       "      <td>44.43</td>\n",
       "      <td>50.040332</td>\n",
       "    </tr>\n",
       "    <tr>\n",
       "      <th>526</th>\n",
       "      <td>526</td>\n",
       "      <td>45.60</td>\n",
       "      <td>43.185934</td>\n",
       "    </tr>\n",
       "    <tr>\n",
       "      <th>527</th>\n",
       "      <td>527</td>\n",
       "      <td>46.20</td>\n",
       "      <td>46.648731</td>\n",
       "    </tr>\n",
       "    <tr>\n",
       "      <th>528</th>\n",
       "      <td>528</td>\n",
       "      <td>43.46</td>\n",
       "      <td>48.081413</td>\n",
       "    </tr>\n",
       "  </tbody>\n",
       "</table>\n",
       "<p>529 rows × 3 columns</p>\n",
       "</div>"
      ],
      "text/plain": [
       "     index  y_test_real_age  linr_y_pred_age\n",
       "0        0            50.40        46.425855\n",
       "1        1            37.02        44.037350\n",
       "2        2            30.57        38.356746\n",
       "3        3            47.05        40.944554\n",
       "4        4            44.63        44.470173\n",
       "..     ...              ...              ...\n",
       "524    524            33.55        42.969257\n",
       "525    525            44.43        50.040332\n",
       "526    526            45.60        43.185934\n",
       "527    527            46.20        46.648731\n",
       "528    528            43.46        48.081413\n",
       "\n",
       "[529 rows x 3 columns]"
      ]
     },
     "execution_count": 74,
     "metadata": {},
     "output_type": "execute_result"
    }
   ],
   "source": [
    "linr_y_test = y_top_test\n",
    "linr_y_pred = y_top_pred\n",
    "linr_compare = pd.DataFrame(\n",
    "    {'y_test_real_age': linr_y_test,\n",
    "     'linr_y_pred_age': linr_y_pred,\n",
    "    })\n",
    "linr_compare = linr_compare.reset_index()\n",
    "linr_compare"
   ]
  },
  {
   "cell_type": "code",
   "execution_count": 75,
   "id": "6252087f-367c-4cb6-a801-143d7f05033c",
   "metadata": {
    "tags": []
   },
   "outputs": [],
   "source": [
    "linr_compare.to_csv(output_folder + '/whole_neuro_harm_mri_linr_compare_on_top.csv')"
   ]
  },
  {
   "cell_type": "code",
   "execution_count": 76,
   "id": "9f6894d0-ef17-45bc-a408-1d4e7039866d",
   "metadata": {
    "tags": []
   },
   "outputs": [],
   "source": [
    "y_top_pred = MRIllreg.predict(X_top_test)"
   ]
  },
  {
   "cell_type": "code",
   "execution_count": 77,
   "id": "bfcb3eec-eacf-4442-b3b3-03dca6be5539",
   "metadata": {
    "tags": []
   },
   "outputs": [
    {
     "data": {
      "text/html": [
       "<div>\n",
       "<style scoped>\n",
       "    .dataframe tbody tr th:only-of-type {\n",
       "        vertical-align: middle;\n",
       "    }\n",
       "\n",
       "    .dataframe tbody tr th {\n",
       "        vertical-align: top;\n",
       "    }\n",
       "\n",
       "    .dataframe thead th {\n",
       "        text-align: right;\n",
       "    }\n",
       "</style>\n",
       "<table border=\"1\" class=\"dataframe\">\n",
       "  <thead>\n",
       "    <tr style=\"text-align: right;\">\n",
       "      <th></th>\n",
       "      <th>algorithm</th>\n",
       "      <th>file_name</th>\n",
       "      <th>mae</th>\n",
       "      <th>r2</th>\n",
       "      <th>explained_variance</th>\n",
       "    </tr>\n",
       "  </thead>\n",
       "  <tbody>\n",
       "    <tr>\n",
       "      <th>0</th>\n",
       "      <td>lasso regression</td>\n",
       "      <td>neuro_harm_whole_mri_llreg.sav</td>\n",
       "      <td>7.670351</td>\n",
       "      <td>0.070876</td>\n",
       "      <td>0.604403</td>\n",
       "    </tr>\n",
       "  </tbody>\n",
       "</table>\n",
       "</div>"
      ],
      "text/plain": [
       "          algorithm                       file_name       mae        r2  \\\n",
       "0  lasso regression  neuro_harm_whole_mri_llreg.sav  7.670351  0.070876   \n",
       "\n",
       "   explained_variance  \n",
       "0            0.604403  "
      ]
     },
     "execution_count": 77,
     "metadata": {},
     "output_type": "execute_result"
    }
   ],
   "source": [
    "data= [[\n",
    "    'lasso regression',\n",
    "    'neuro_harm_whole_mri_llreg.sav',\n",
    "    mean_absolute_error(y_top_test, y_top_pred),\n",
    "    MRIllreg.score(X_top_test,y_top_test),\n",
    "    metrics.explained_variance_score(y_top_test, y_top_pred)]]\n",
    "llreg_results = pd.DataFrame(data, columns=['algorithm','file_name','mae', 'r2', 'explained_variance'])\n",
    "llreg_results"
   ]
  },
  {
   "cell_type": "code",
   "execution_count": 78,
   "id": "fb8a1428-3f96-4370-9e03-8b9d6a2ddca2",
   "metadata": {
    "tags": []
   },
   "outputs": [
    {
     "data": {
      "text/html": [
       "<div>\n",
       "<style scoped>\n",
       "    .dataframe tbody tr th:only-of-type {\n",
       "        vertical-align: middle;\n",
       "    }\n",
       "\n",
       "    .dataframe tbody tr th {\n",
       "        vertical-align: top;\n",
       "    }\n",
       "\n",
       "    .dataframe thead th {\n",
       "        text-align: right;\n",
       "    }\n",
       "</style>\n",
       "<table border=\"1\" class=\"dataframe\">\n",
       "  <thead>\n",
       "    <tr style=\"text-align: right;\">\n",
       "      <th></th>\n",
       "      <th>y_test_real_age</th>\n",
       "      <th>linr_y_pred_age</th>\n",
       "    </tr>\n",
       "  </thead>\n",
       "  <tbody>\n",
       "    <tr>\n",
       "      <th>0</th>\n",
       "      <td>50.40</td>\n",
       "      <td>45.766892</td>\n",
       "    </tr>\n",
       "    <tr>\n",
       "      <th>1</th>\n",
       "      <td>37.02</td>\n",
       "      <td>43.622200</td>\n",
       "    </tr>\n",
       "    <tr>\n",
       "      <th>2</th>\n",
       "      <td>30.57</td>\n",
       "      <td>40.746230</td>\n",
       "    </tr>\n",
       "    <tr>\n",
       "      <th>3</th>\n",
       "      <td>47.05</td>\n",
       "      <td>41.877371</td>\n",
       "    </tr>\n",
       "    <tr>\n",
       "      <th>4</th>\n",
       "      <td>44.63</td>\n",
       "      <td>46.493809</td>\n",
       "    </tr>\n",
       "    <tr>\n",
       "      <th>...</th>\n",
       "      <td>...</td>\n",
       "      <td>...</td>\n",
       "    </tr>\n",
       "    <tr>\n",
       "      <th>524</th>\n",
       "      <td>33.55</td>\n",
       "      <td>45.755038</td>\n",
       "    </tr>\n",
       "    <tr>\n",
       "      <th>525</th>\n",
       "      <td>44.43</td>\n",
       "      <td>52.760915</td>\n",
       "    </tr>\n",
       "    <tr>\n",
       "      <th>526</th>\n",
       "      <td>45.60</td>\n",
       "      <td>45.912453</td>\n",
       "    </tr>\n",
       "    <tr>\n",
       "      <th>527</th>\n",
       "      <td>46.20</td>\n",
       "      <td>48.727915</td>\n",
       "    </tr>\n",
       "    <tr>\n",
       "      <th>528</th>\n",
       "      <td>43.46</td>\n",
       "      <td>50.871839</td>\n",
       "    </tr>\n",
       "  </tbody>\n",
       "</table>\n",
       "<p>529 rows × 2 columns</p>\n",
       "</div>"
      ],
      "text/plain": [
       "     y_test_real_age  linr_y_pred_age\n",
       "0              50.40        45.766892\n",
       "1              37.02        43.622200\n",
       "2              30.57        40.746230\n",
       "3              47.05        41.877371\n",
       "4              44.63        46.493809\n",
       "..               ...              ...\n",
       "524            33.55        45.755038\n",
       "525            44.43        52.760915\n",
       "526            45.60        45.912453\n",
       "527            46.20        48.727915\n",
       "528            43.46        50.871839\n",
       "\n",
       "[529 rows x 2 columns]"
      ]
     },
     "execution_count": 78,
     "metadata": {},
     "output_type": "execute_result"
    }
   ],
   "source": [
    "llreg_y_test = y_top_test\n",
    "llreg_y_pred = y_top_pred\n",
    "llreg_compare = pd.DataFrame(\n",
    "    {'y_test_real_age': llreg_y_test,\n",
    "     'linr_y_pred_age': llreg_y_pred,\n",
    "    })\n",
    "#llreg_compare = llreg_compare.reset_index()\n",
    "llreg_compare"
   ]
  },
  {
   "cell_type": "code",
   "execution_count": 79,
   "id": "827b54c9-0440-4fe5-98fb-bf1114ca3bde",
   "metadata": {
    "tags": []
   },
   "outputs": [],
   "source": [
    "llreg_compare.to_csv(output_folder + '/whole_neuroharm_mri_llreg_compare_on_top.csv')"
   ]
  },
  {
   "cell_type": "code",
   "execution_count": 80,
   "id": "037db863-8963-4a3c-8bab-c8bd994b2bde",
   "metadata": {
    "tags": []
   },
   "outputs": [],
   "source": [
    "y_top_pred = MRIeregr.predict(X_top_test)"
   ]
  },
  {
   "cell_type": "code",
   "execution_count": 81,
   "id": "4e12b8ac-d562-48d9-b6e0-5c4cd397001e",
   "metadata": {
    "tags": []
   },
   "outputs": [],
   "source": [
    "data= [[\n",
    "    'elasticnetCV',\n",
    "    'neuro_harm_whole_mri_linr.sav',\n",
    "    mean_absolute_error(y_top_test, y_top_pred),\n",
    "    MRIeregr.score(X_top_test,y_top_test),\n",
    "    metrics.explained_variance_score(y_top_test, y_top_pred)]]\n",
    "eregr_results = pd.DataFrame(data, columns=['algorithm','file_name','mae', 'r2', 'explained_variance'])\n",
    "#eregr_results"
   ]
  },
  {
   "cell_type": "code",
   "execution_count": 82,
   "id": "c2584b1c-869b-46b9-abc0-fdf6c513e4fe",
   "metadata": {
    "tags": []
   },
   "outputs": [
    {
     "data": {
      "text/html": [
       "<div>\n",
       "<style scoped>\n",
       "    .dataframe tbody tr th:only-of-type {\n",
       "        vertical-align: middle;\n",
       "    }\n",
       "\n",
       "    .dataframe tbody tr th {\n",
       "        vertical-align: top;\n",
       "    }\n",
       "\n",
       "    .dataframe thead th {\n",
       "        text-align: right;\n",
       "    }\n",
       "</style>\n",
       "<table border=\"1\" class=\"dataframe\">\n",
       "  <thead>\n",
       "    <tr style=\"text-align: right;\">\n",
       "      <th></th>\n",
       "      <th>y_test_real_age</th>\n",
       "      <th>linr_y_pred_age</th>\n",
       "    </tr>\n",
       "  </thead>\n",
       "  <tbody>\n",
       "    <tr>\n",
       "      <th>0</th>\n",
       "      <td>50.40</td>\n",
       "      <td>50.373300</td>\n",
       "    </tr>\n",
       "    <tr>\n",
       "      <th>1</th>\n",
       "      <td>37.02</td>\n",
       "      <td>48.480570</td>\n",
       "    </tr>\n",
       "    <tr>\n",
       "      <th>2</th>\n",
       "      <td>30.57</td>\n",
       "      <td>44.109027</td>\n",
       "    </tr>\n",
       "    <tr>\n",
       "      <th>3</th>\n",
       "      <td>47.05</td>\n",
       "      <td>54.034342</td>\n",
       "    </tr>\n",
       "    <tr>\n",
       "      <th>4</th>\n",
       "      <td>44.63</td>\n",
       "      <td>54.742495</td>\n",
       "    </tr>\n",
       "    <tr>\n",
       "      <th>...</th>\n",
       "      <td>...</td>\n",
       "      <td>...</td>\n",
       "    </tr>\n",
       "    <tr>\n",
       "      <th>524</th>\n",
       "      <td>33.55</td>\n",
       "      <td>54.191813</td>\n",
       "    </tr>\n",
       "    <tr>\n",
       "      <th>525</th>\n",
       "      <td>44.43</td>\n",
       "      <td>53.498214</td>\n",
       "    </tr>\n",
       "    <tr>\n",
       "      <th>526</th>\n",
       "      <td>45.60</td>\n",
       "      <td>53.896299</td>\n",
       "    </tr>\n",
       "    <tr>\n",
       "      <th>527</th>\n",
       "      <td>46.20</td>\n",
       "      <td>55.052826</td>\n",
       "    </tr>\n",
       "    <tr>\n",
       "      <th>528</th>\n",
       "      <td>43.46</td>\n",
       "      <td>51.948776</td>\n",
       "    </tr>\n",
       "  </tbody>\n",
       "</table>\n",
       "<p>529 rows × 2 columns</p>\n",
       "</div>"
      ],
      "text/plain": [
       "     y_test_real_age  linr_y_pred_age\n",
       "0              50.40        50.373300\n",
       "1              37.02        48.480570\n",
       "2              30.57        44.109027\n",
       "3              47.05        54.034342\n",
       "4              44.63        54.742495\n",
       "..               ...              ...\n",
       "524            33.55        54.191813\n",
       "525            44.43        53.498214\n",
       "526            45.60        53.896299\n",
       "527            46.20        55.052826\n",
       "528            43.46        51.948776\n",
       "\n",
       "[529 rows x 2 columns]"
      ]
     },
     "execution_count": 82,
     "metadata": {},
     "output_type": "execute_result"
    }
   ],
   "source": [
    "eregr_y_test = y_top_test\n",
    "eregr_y_pred = y_top_pred\n",
    "eregr_compare = pd.DataFrame(\n",
    "    {'y_test_real_age': eregr_y_test,\n",
    "     'linr_y_pred_age': eregr_y_pred,\n",
    "    })\n",
    "#eregr_compare = eregr_compare.reset_index()\n",
    "eregr_compare"
   ]
  },
  {
   "cell_type": "code",
   "execution_count": 83,
   "id": "fb5f4380-0e58-4f04-9179-e971d11250f3",
   "metadata": {
    "tags": []
   },
   "outputs": [],
   "source": [
    "eregr_compare.to_csv(output_folder + '/whole_neuro_harm_mri_eregr_compare_on_top.csv')"
   ]
  },
  {
   "cell_type": "code",
   "execution_count": 84,
   "id": "6a14f717-b25e-4b82-bc5c-766539af9367",
   "metadata": {
    "tags": []
   },
   "outputs": [],
   "source": [
    "y_top_pred = MRIetreg.predict(X_top_test)"
   ]
  },
  {
   "cell_type": "code",
   "execution_count": 85,
   "id": "26fd8e4a-27e5-4a4f-9c8e-a4f715d83110",
   "metadata": {
    "tags": []
   },
   "outputs": [],
   "source": [
    "data= [[\n",
    "    'extra trees',\n",
    "    'neruo_harm_mri_linr.sav',\n",
    "    mean_absolute_error(y_top_test, y_top_pred),\n",
    "    MRIetreg.score(X_top_test,y_top_test),\n",
    "    metrics.explained_variance_score(y_top_test, y_top_pred)]]\n",
    "etreg_results = pd.DataFrame(data, columns=['algorithm','file_name','mae', 'r2', 'explained_variance'])\n",
    "#etreg_results"
   ]
  },
  {
   "cell_type": "code",
   "execution_count": 86,
   "id": "df8f1ceb-2491-49a7-a169-2ca2dc31e6a9",
   "metadata": {
    "tags": []
   },
   "outputs": [
    {
     "data": {
      "text/html": [
       "<div>\n",
       "<style scoped>\n",
       "    .dataframe tbody tr th:only-of-type {\n",
       "        vertical-align: middle;\n",
       "    }\n",
       "\n",
       "    .dataframe tbody tr th {\n",
       "        vertical-align: top;\n",
       "    }\n",
       "\n",
       "    .dataframe thead th {\n",
       "        text-align: right;\n",
       "    }\n",
       "</style>\n",
       "<table border=\"1\" class=\"dataframe\">\n",
       "  <thead>\n",
       "    <tr style=\"text-align: right;\">\n",
       "      <th></th>\n",
       "      <th>y_test_real_age</th>\n",
       "      <th>linr_y_pred_age</th>\n",
       "    </tr>\n",
       "  </thead>\n",
       "  <tbody>\n",
       "    <tr>\n",
       "      <th>0</th>\n",
       "      <td>50.40</td>\n",
       "      <td>32.612278</td>\n",
       "    </tr>\n",
       "    <tr>\n",
       "      <th>1</th>\n",
       "      <td>37.02</td>\n",
       "      <td>44.629771</td>\n",
       "    </tr>\n",
       "    <tr>\n",
       "      <th>2</th>\n",
       "      <td>30.57</td>\n",
       "      <td>46.680123</td>\n",
       "    </tr>\n",
       "    <tr>\n",
       "      <th>3</th>\n",
       "      <td>47.05</td>\n",
       "      <td>38.943151</td>\n",
       "    </tr>\n",
       "    <tr>\n",
       "      <th>4</th>\n",
       "      <td>44.63</td>\n",
       "      <td>45.987756</td>\n",
       "    </tr>\n",
       "    <tr>\n",
       "      <th>...</th>\n",
       "      <td>...</td>\n",
       "      <td>...</td>\n",
       "    </tr>\n",
       "    <tr>\n",
       "      <th>524</th>\n",
       "      <td>33.55</td>\n",
       "      <td>50.281091</td>\n",
       "    </tr>\n",
       "    <tr>\n",
       "      <th>525</th>\n",
       "      <td>44.43</td>\n",
       "      <td>42.662737</td>\n",
       "    </tr>\n",
       "    <tr>\n",
       "      <th>526</th>\n",
       "      <td>45.60</td>\n",
       "      <td>33.084001</td>\n",
       "    </tr>\n",
       "    <tr>\n",
       "      <th>527</th>\n",
       "      <td>46.20</td>\n",
       "      <td>33.164025</td>\n",
       "    </tr>\n",
       "    <tr>\n",
       "      <th>528</th>\n",
       "      <td>43.46</td>\n",
       "      <td>40.948925</td>\n",
       "    </tr>\n",
       "  </tbody>\n",
       "</table>\n",
       "<p>529 rows × 2 columns</p>\n",
       "</div>"
      ],
      "text/plain": [
       "     y_test_real_age  linr_y_pred_age\n",
       "0              50.40        32.612278\n",
       "1              37.02        44.629771\n",
       "2              30.57        46.680123\n",
       "3              47.05        38.943151\n",
       "4              44.63        45.987756\n",
       "..               ...              ...\n",
       "524            33.55        50.281091\n",
       "525            44.43        42.662737\n",
       "526            45.60        33.084001\n",
       "527            46.20        33.164025\n",
       "528            43.46        40.948925\n",
       "\n",
       "[529 rows x 2 columns]"
      ]
     },
     "execution_count": 86,
     "metadata": {},
     "output_type": "execute_result"
    }
   ],
   "source": [
    "etreg_y_test = y_top_test\n",
    "etreg_y_pred = y_top_pred\n",
    "etreg_compare = pd.DataFrame(\n",
    "    {'y_test_real_age': etreg_y_test,\n",
    "     'linr_y_pred_age': etreg_y_pred,\n",
    "    })\n",
    "#etreg_compare = etreg_compare.reset_index()\n",
    "etreg_compare"
   ]
  },
  {
   "cell_type": "code",
   "execution_count": 87,
   "id": "f709c42b-3486-41b6-964c-17e297089933",
   "metadata": {
    "tags": []
   },
   "outputs": [],
   "source": [
    "etreg_compare.to_csv(output_folder + '/whole_neuro_harm_mri_etreg_compare_on_top.csv')"
   ]
  },
  {
   "cell_type": "code",
   "execution_count": 88,
   "id": "ac3ab2b6-601a-41b8-b395-41f0c45b8ea4",
   "metadata": {
    "tags": []
   },
   "outputs": [
    {
     "data": {
      "text/html": [
       "<div>\n",
       "<style scoped>\n",
       "    .dataframe tbody tr th:only-of-type {\n",
       "        vertical-align: middle;\n",
       "    }\n",
       "\n",
       "    .dataframe tbody tr th {\n",
       "        vertical-align: top;\n",
       "    }\n",
       "\n",
       "    .dataframe thead th {\n",
       "        text-align: right;\n",
       "    }\n",
       "</style>\n",
       "<table border=\"1\" class=\"dataframe\">\n",
       "  <thead>\n",
       "    <tr style=\"text-align: right;\">\n",
       "      <th></th>\n",
       "      <th>algorithm</th>\n",
       "      <th>file_name</th>\n",
       "      <th>mae</th>\n",
       "      <th>r2</th>\n",
       "      <th>explained_variance</th>\n",
       "    </tr>\n",
       "  </thead>\n",
       "  <tbody>\n",
       "    <tr>\n",
       "      <th>0</th>\n",
       "      <td>linear regression</td>\n",
       "      <td>neuro_harm_whole_mri_linr.sav</td>\n",
       "      <td>7.355296</td>\n",
       "      <td>0.125719</td>\n",
       "      <td>0.526631</td>\n",
       "    </tr>\n",
       "    <tr>\n",
       "      <th>0</th>\n",
       "      <td>lasso regression</td>\n",
       "      <td>neuro_harm_whole_mri_llreg.sav</td>\n",
       "      <td>7.670351</td>\n",
       "      <td>0.070876</td>\n",
       "      <td>0.604403</td>\n",
       "    </tr>\n",
       "    <tr>\n",
       "      <th>0</th>\n",
       "      <td>elasticnetCV</td>\n",
       "      <td>neuro_harm_whole_mri_linr.sav</td>\n",
       "      <td>14.507150</td>\n",
       "      <td>-1.928793</td>\n",
       "      <td>0.337210</td>\n",
       "    </tr>\n",
       "    <tr>\n",
       "      <th>0</th>\n",
       "      <td>extra trees</td>\n",
       "      <td>neruo_harm_mri_linr.sav</td>\n",
       "      <td>10.304266</td>\n",
       "      <td>-0.753124</td>\n",
       "      <td>-0.607283</td>\n",
       "    </tr>\n",
       "  </tbody>\n",
       "</table>\n",
       "</div>"
      ],
      "text/plain": [
       "           algorithm                       file_name        mae        r2  \\\n",
       "0  linear regression   neuro_harm_whole_mri_linr.sav   7.355296  0.125719   \n",
       "0   lasso regression  neuro_harm_whole_mri_llreg.sav   7.670351  0.070876   \n",
       "0       elasticnetCV   neuro_harm_whole_mri_linr.sav  14.507150 -1.928793   \n",
       "0        extra trees         neruo_harm_mri_linr.sav  10.304266 -0.753124   \n",
       "\n",
       "   explained_variance  \n",
       "0            0.526631  \n",
       "0            0.604403  \n",
       "0            0.337210  \n",
       "0           -0.607283  "
      ]
     },
     "execution_count": 88,
     "metadata": {},
     "output_type": "execute_result"
    }
   ],
   "source": [
    "mri_based_neurocombat_harmonized_on_top =pd.concat([linr_results,\n",
    "                   llreg_results,\n",
    "                   eregr_results,\n",
    "                  etreg_results],\n",
    "                  axis=0)\n",
    "mri_based_neurocombat_harmonized_on_top"
   ]
  },
  {
   "cell_type": "markdown",
   "id": "df71938d-b22c-4ba9-bbeb-582d1933583d",
   "metadata": {},
   "source": [
    "## Now we will run the exact opposite process.\n",
    "1. We will explore TOP based models via k-folded results, \n",
    "2. We will make a general unahrmonized TOP model (based off all TOP)\n",
    "3. We will apply the best of these model to the StrokeMRI dataset"
   ]
  },
  {
   "cell_type": "markdown",
   "id": "8aaa7610-6680-456d-b565-caaa9d717c70",
   "metadata": {},
   "source": [
    "### Build ML models based on neruocombat harmonized TOP "
   ]
  },
  {
   "cell_type": "code",
   "execution_count": 89,
   "id": "bed4d1ea-b224-4ac5-8773-adefce51f156",
   "metadata": {
    "tags": []
   },
   "outputs": [],
   "source": [
    "ml_matrix = TOP.drop('participant_id', axis=1)\n",
    "X = ml_matrix.drop('age', axis =1)\n",
    "X = X.values\n",
    "X = X.astype('float')\n",
    "y = ml_matrix['age'].values\n",
    "y=y.astype('float')\n"
   ]
  },
  {
   "cell_type": "code",
   "execution_count": 90,
   "id": "80981c39-c805-428d-bc22-5c0f383d230e",
   "metadata": {
    "tags": []
   },
   "outputs": [
    {
     "name": "stderr",
     "output_type": "stream",
     "text": [
      "C:\\Projects\\cvasl\\extended_harm_paper\\..\\cvasl\\seperated.py:1055: FutureWarning: The behavior of DataFrame concatenation with empty or all-NA entries is deprecated. In a future version, this will no longer exclude empty or all-NA columns when determining the result dtypes. To retain the old behavior, exclude the relevant entries before the concat operation.\n",
      "  mod_results = pd.concat([mod_results, mod_results_current_fold])\n",
      "C:\\Projects\\cvasl\\extended_harm_paper\\..\\cvasl\\seperated.py:1055: FutureWarning: The behavior of DataFrame concatenation with empty or all-NA entries is deprecated. In a future version, this will no longer exclude empty or all-NA columns when determining the result dtypes. To retain the old behavior, exclude the relevant entries before the concat operation.\n",
      "  mod_results = pd.concat([mod_results, mod_results_current_fold])\n",
      "C:\\Projects\\cvasl\\extended_harm_paper\\..\\cvasl\\seperated.py:1055: FutureWarning: The behavior of DataFrame concatenation with empty or all-NA entries is deprecated. In a future version, this will no longer exclude empty or all-NA columns when determining the result dtypes. To retain the old behavior, exclude the relevant entries before the concat operation.\n",
      "  mod_results = pd.concat([mod_results, mod_results_current_fold])\n",
      "C:\\Projects\\cvasl\\extended_harm_paper\\..\\cvasl\\seperated.py:1055: FutureWarning: The behavior of DataFrame concatenation with empty or all-NA entries is deprecated. In a future version, this will no longer exclude empty or all-NA columns when determining the result dtypes. To retain the old behavior, exclude the relevant entries before the concat operation.\n",
      "  mod_results = pd.concat([mod_results, mod_results_current_fold])\n",
      "C:\\Projects\\cvasl\\extended_harm_paper\\..\\cvasl\\seperated.py:1055: FutureWarning: The behavior of DataFrame concatenation with empty or all-NA entries is deprecated. In a future version, this will no longer exclude empty or all-NA columns when determining the result dtypes. To retain the old behavior, exclude the relevant entries before the concat operation.\n",
      "  mod_results = pd.concat([mod_results, mod_results_current_fold])\n"
     ]
    }
   ],
   "source": [
    "linr_k_frame, linr_y_frame, models = sep.stratified_cat_and_cont_categories_shuffle_split('linear regression', 'neuro_harm_top_linr', LinearRegression(), ml_matrix, X, y)"
   ]
  },
  {
   "cell_type": "code",
   "execution_count": 91,
   "id": "9a017fbf-dc30-4405-bb18-dbb385bebf8e",
   "metadata": {
    "tags": []
   },
   "outputs": [
    {
     "data": {
      "text/html": [
       "<div>\n",
       "<style scoped>\n",
       "    .dataframe tbody tr th:only-of-type {\n",
       "        vertical-align: middle;\n",
       "    }\n",
       "\n",
       "    .dataframe tbody tr th {\n",
       "        vertical-align: top;\n",
       "    }\n",
       "\n",
       "    .dataframe thead th {\n",
       "        text-align: right;\n",
       "    }\n",
       "</style>\n",
       "<table border=\"1\" class=\"dataframe\">\n",
       "  <thead>\n",
       "    <tr style=\"text-align: right;\">\n",
       "      <th></th>\n",
       "      <th>algorithm</th>\n",
       "      <th>fold</th>\n",
       "      <th>file_name</th>\n",
       "      <th>mae</th>\n",
       "      <th>r2</th>\n",
       "      <th>explained_variance</th>\n",
       "    </tr>\n",
       "  </thead>\n",
       "  <tbody>\n",
       "    <tr>\n",
       "      <th>0</th>\n",
       "      <td>linear regression-0</td>\n",
       "      <td>0</td>\n",
       "      <td>neuro_harm_top_linr.0</td>\n",
       "      <td>3.979226</td>\n",
       "      <td>0.760218</td>\n",
       "      <td>0.774403</td>\n",
       "    </tr>\n",
       "    <tr>\n",
       "      <th>0</th>\n",
       "      <td>linear regression-1</td>\n",
       "      <td>1</td>\n",
       "      <td>neuro_harm_top_linr.1</td>\n",
       "      <td>5.940799</td>\n",
       "      <td>-7.899934</td>\n",
       "      <td>-7.833667</td>\n",
       "    </tr>\n",
       "    <tr>\n",
       "      <th>0</th>\n",
       "      <td>linear regression-2</td>\n",
       "      <td>2</td>\n",
       "      <td>neuro_harm_top_linr.2</td>\n",
       "      <td>3.875055</td>\n",
       "      <td>0.704843</td>\n",
       "      <td>0.705457</td>\n",
       "    </tr>\n",
       "    <tr>\n",
       "      <th>0</th>\n",
       "      <td>linear regression-3</td>\n",
       "      <td>3</td>\n",
       "      <td>neuro_harm_top_linr.3</td>\n",
       "      <td>3.996717</td>\n",
       "      <td>0.748827</td>\n",
       "      <td>0.751523</td>\n",
       "    </tr>\n",
       "    <tr>\n",
       "      <th>0</th>\n",
       "      <td>linear regression-4</td>\n",
       "      <td>4</td>\n",
       "      <td>neuro_harm_top_linr.4</td>\n",
       "      <td>4.136950</td>\n",
       "      <td>0.732303</td>\n",
       "      <td>0.735114</td>\n",
       "    </tr>\n",
       "  </tbody>\n",
       "</table>\n",
       "</div>"
      ],
      "text/plain": [
       "             algorithm fold              file_name       mae        r2  \\\n",
       "0  linear regression-0    0  neuro_harm_top_linr.0  3.979226  0.760218   \n",
       "0  linear regression-1    1  neuro_harm_top_linr.1  5.940799 -7.899934   \n",
       "0  linear regression-2    2  neuro_harm_top_linr.2  3.875055  0.704843   \n",
       "0  linear regression-3    3  neuro_harm_top_linr.3  3.996717  0.748827   \n",
       "0  linear regression-4    4  neuro_harm_top_linr.4  4.136950  0.732303   \n",
       "\n",
       "   explained_variance  \n",
       "0            0.774403  \n",
       "0           -7.833667  \n",
       "0            0.705457  \n",
       "0            0.751523  \n",
       "0            0.735114  "
      ]
     },
     "execution_count": 91,
     "metadata": {},
     "output_type": "execute_result"
    }
   ],
   "source": [
    "linr_k_frame"
   ]
  },
  {
   "cell_type": "code",
   "execution_count": 92,
   "id": "28ac9ab2-892a-4c27-a91b-f9330ee36649",
   "metadata": {
    "tags": []
   },
   "outputs": [],
   "source": [
    "linr_k_frame.to_csv(output_folder + '/neuro_harmonized_top_linr_k_frame.csv')"
   ]
  },
  {
   "cell_type": "code",
   "execution_count": 93,
   "id": "b660e8ac-7cbe-41c7-85dc-c4be01a4b144",
   "metadata": {
    "tags": []
   },
   "outputs": [
    {
     "data": {
      "text/html": [
       "<div>\n",
       "<style scoped>\n",
       "    .dataframe tbody tr th:only-of-type {\n",
       "        vertical-align: middle;\n",
       "    }\n",
       "\n",
       "    .dataframe tbody tr th {\n",
       "        vertical-align: top;\n",
       "    }\n",
       "\n",
       "    .dataframe thead th {\n",
       "        text-align: right;\n",
       "    }\n",
       "</style>\n",
       "<table border=\"1\" class=\"dataframe\">\n",
       "  <thead>\n",
       "    <tr style=\"text-align: right;\">\n",
       "      <th></th>\n",
       "      <th>algorithm</th>\n",
       "      <th>file_name</th>\n",
       "      <th>mae</th>\n",
       "      <th>r2</th>\n",
       "      <th>explained_variance</th>\n",
       "    </tr>\n",
       "  </thead>\n",
       "  <tbody>\n",
       "    <tr>\n",
       "      <th>0</th>\n",
       "      <td>0    linear regression-0\n",
       "0    linear regressio...</td>\n",
       "      <td>0    neuro_harm_top_linr.0\n",
       "0    neuro_harm_top...</td>\n",
       "      <td>4.385749</td>\n",
       "      <td>-0.990749</td>\n",
       "      <td>-0.973434</td>\n",
       "    </tr>\n",
       "  </tbody>\n",
       "</table>\n",
       "</div>"
      ],
      "text/plain": [
       "                                           algorithm  \\\n",
       "0  0    linear regression-0\n",
       "0    linear regressio...   \n",
       "\n",
       "                                           file_name       mae        r2  \\\n",
       "0  0    neuro_harm_top_linr.0\n",
       "0    neuro_harm_top...  4.385749 -0.990749   \n",
       "\n",
       "   explained_variance  \n",
       "0           -0.973434  "
      ]
     },
     "execution_count": 93,
     "metadata": {},
     "output_type": "execute_result"
    }
   ],
   "source": [
    "avg_linr = sep.avg_k_folds(linr_k_frame)\n",
    "avg_linr"
   ]
  },
  {
   "cell_type": "code",
   "execution_count": 94,
   "id": "278ec534-af4d-4b43-acfa-498085069bb4",
   "metadata": {
    "tags": []
   },
   "outputs": [
    {
     "data": {
      "text/html": [
       "<div>\n",
       "<style scoped>\n",
       "    .dataframe tbody tr th:only-of-type {\n",
       "        vertical-align: middle;\n",
       "    }\n",
       "\n",
       "    .dataframe tbody tr th {\n",
       "        vertical-align: top;\n",
       "    }\n",
       "\n",
       "    .dataframe thead th {\n",
       "        text-align: right;\n",
       "    }\n",
       "</style>\n",
       "<table border=\"1\" class=\"dataframe\">\n",
       "  <thead>\n",
       "    <tr style=\"text-align: right;\">\n",
       "      <th></th>\n",
       "      <th>y_test</th>\n",
       "      <th>y_pred</th>\n",
       "    </tr>\n",
       "  </thead>\n",
       "  <tbody>\n",
       "    <tr>\n",
       "      <th>0</th>\n",
       "      <td>21.26</td>\n",
       "      <td>24.769312</td>\n",
       "    </tr>\n",
       "    <tr>\n",
       "      <th>1</th>\n",
       "      <td>30.75</td>\n",
       "      <td>34.256825</td>\n",
       "    </tr>\n",
       "    <tr>\n",
       "      <th>2</th>\n",
       "      <td>41.66</td>\n",
       "      <td>44.234658</td>\n",
       "    </tr>\n",
       "    <tr>\n",
       "      <th>3</th>\n",
       "      <td>31.64</td>\n",
       "      <td>36.896013</td>\n",
       "    </tr>\n",
       "    <tr>\n",
       "      <th>4</th>\n",
       "      <td>37.87</td>\n",
       "      <td>42.936674</td>\n",
       "    </tr>\n",
       "    <tr>\n",
       "      <th>...</th>\n",
       "      <td>...</td>\n",
       "      <td>...</td>\n",
       "    </tr>\n",
       "    <tr>\n",
       "      <th>128</th>\n",
       "      <td>22.95</td>\n",
       "      <td>28.374716</td>\n",
       "    </tr>\n",
       "    <tr>\n",
       "      <th>129</th>\n",
       "      <td>40.28</td>\n",
       "      <td>42.229713</td>\n",
       "    </tr>\n",
       "    <tr>\n",
       "      <th>130</th>\n",
       "      <td>44.15</td>\n",
       "      <td>43.709509</td>\n",
       "    </tr>\n",
       "    <tr>\n",
       "      <th>131</th>\n",
       "      <td>21.42</td>\n",
       "      <td>29.071398</td>\n",
       "    </tr>\n",
       "    <tr>\n",
       "      <th>132</th>\n",
       "      <td>32.58</td>\n",
       "      <td>37.046393</td>\n",
       "    </tr>\n",
       "  </tbody>\n",
       "</table>\n",
       "<p>665 rows × 2 columns</p>\n",
       "</div>"
      ],
      "text/plain": [
       "     y_test     y_pred\n",
       "0     21.26  24.769312\n",
       "1     30.75  34.256825\n",
       "2     41.66  44.234658\n",
       "3     31.64  36.896013\n",
       "4     37.87  42.936674\n",
       "..      ...        ...\n",
       "128   22.95  28.374716\n",
       "129   40.28  42.229713\n",
       "130   44.15  43.709509\n",
       "131   21.42  29.071398\n",
       "132   32.58  37.046393\n",
       "\n",
       "[665 rows x 2 columns]"
      ]
     },
     "execution_count": 94,
     "metadata": {},
     "output_type": "execute_result"
    }
   ],
   "source": [
    "linr_y_frame"
   ]
  },
  {
   "cell_type": "code",
   "execution_count": 95,
   "id": "ec8d5f44-ac0a-4a13-9686-92374ce9d86e",
   "metadata": {
    "tags": []
   },
   "outputs": [],
   "source": [
    "linr_y_frame.to_csv(output_folder + '/neuro_harmonized_top_linr_y_frame.csv')"
   ]
  },
  {
   "cell_type": "code",
   "execution_count": 96,
   "id": "1e4e3ff5-5671-47eb-ab33-50c867b005e4",
   "metadata": {
    "tags": []
   },
   "outputs": [
    {
     "data": {
      "text/html": [
       "<style>#sk-container-id-12 {color: black;}#sk-container-id-12 pre{padding: 0;}#sk-container-id-12 div.sk-toggleable {background-color: white;}#sk-container-id-12 label.sk-toggleable__label {cursor: pointer;display: block;width: 100%;margin-bottom: 0;padding: 0.3em;box-sizing: border-box;text-align: center;}#sk-container-id-12 label.sk-toggleable__label-arrow:before {content: \"▸\";float: left;margin-right: 0.25em;color: #696969;}#sk-container-id-12 label.sk-toggleable__label-arrow:hover:before {color: black;}#sk-container-id-12 div.sk-estimator:hover label.sk-toggleable__label-arrow:before {color: black;}#sk-container-id-12 div.sk-toggleable__content {max-height: 0;max-width: 0;overflow: hidden;text-align: left;background-color: #f0f8ff;}#sk-container-id-12 div.sk-toggleable__content pre {margin: 0.2em;color: black;border-radius: 0.25em;background-color: #f0f8ff;}#sk-container-id-12 input.sk-toggleable__control:checked~div.sk-toggleable__content {max-height: 200px;max-width: 100%;overflow: auto;}#sk-container-id-12 input.sk-toggleable__control:checked~label.sk-toggleable__label-arrow:before {content: \"▾\";}#sk-container-id-12 div.sk-estimator input.sk-toggleable__control:checked~label.sk-toggleable__label {background-color: #d4ebff;}#sk-container-id-12 div.sk-label input.sk-toggleable__control:checked~label.sk-toggleable__label {background-color: #d4ebff;}#sk-container-id-12 input.sk-hidden--visually {border: 0;clip: rect(1px 1px 1px 1px);clip: rect(1px, 1px, 1px, 1px);height: 1px;margin: -1px;overflow: hidden;padding: 0;position: absolute;width: 1px;}#sk-container-id-12 div.sk-estimator {font-family: monospace;background-color: #f0f8ff;border: 1px dotted black;border-radius: 0.25em;box-sizing: border-box;margin-bottom: 0.5em;}#sk-container-id-12 div.sk-estimator:hover {background-color: #d4ebff;}#sk-container-id-12 div.sk-parallel-item::after {content: \"\";width: 100%;border-bottom: 1px solid gray;flex-grow: 1;}#sk-container-id-12 div.sk-label:hover label.sk-toggleable__label {background-color: #d4ebff;}#sk-container-id-12 div.sk-serial::before {content: \"\";position: absolute;border-left: 1px solid gray;box-sizing: border-box;top: 0;bottom: 0;left: 50%;z-index: 0;}#sk-container-id-12 div.sk-serial {display: flex;flex-direction: column;align-items: center;background-color: white;padding-right: 0.2em;padding-left: 0.2em;position: relative;}#sk-container-id-12 div.sk-item {position: relative;z-index: 1;}#sk-container-id-12 div.sk-parallel {display: flex;align-items: stretch;justify-content: center;background-color: white;position: relative;}#sk-container-id-12 div.sk-item::before, #sk-container-id-12 div.sk-parallel-item::before {content: \"\";position: absolute;border-left: 1px solid gray;box-sizing: border-box;top: 0;bottom: 0;left: 50%;z-index: -1;}#sk-container-id-12 div.sk-parallel-item {display: flex;flex-direction: column;z-index: 1;position: relative;background-color: white;}#sk-container-id-12 div.sk-parallel-item:first-child::after {align-self: flex-end;width: 50%;}#sk-container-id-12 div.sk-parallel-item:last-child::after {align-self: flex-start;width: 50%;}#sk-container-id-12 div.sk-parallel-item:only-child::after {width: 0;}#sk-container-id-12 div.sk-dashed-wrapped {border: 1px dashed gray;margin: 0 0.4em 0.5em 0.4em;box-sizing: border-box;padding-bottom: 0.4em;background-color: white;}#sk-container-id-12 div.sk-label label {font-family: monospace;font-weight: bold;display: inline-block;line-height: 1.2em;}#sk-container-id-12 div.sk-label-container {text-align: center;}#sk-container-id-12 div.sk-container {/* jupyter's `normalize.less` sets `[hidden] { display: none; }` but bootstrap.min.css set `[hidden] { display: none !important; }` so we also need the `!important` here to be able to override the default hidden behavior on the sphinx rendered scikit-learn.org. See: https://github.com/scikit-learn/scikit-learn/issues/21755 */display: inline-block !important;position: relative;}#sk-container-id-12 div.sk-text-repr-fallback {display: none;}</style><div id=\"sk-container-id-12\" class=\"sk-top-container\"><div class=\"sk-text-repr-fallback\"><pre>LinearRegression()</pre><b>In a Jupyter environment, please rerun this cell to show the HTML representation or trust the notebook. <br />On GitHub, the HTML representation is unable to render, please try loading this page with nbviewer.org.</b></div><div class=\"sk-container\" hidden><div class=\"sk-item\"><div class=\"sk-estimator sk-toggleable\"><input class=\"sk-toggleable__control sk-hidden--visually\" id=\"sk-estimator-id-12\" type=\"checkbox\" checked><label for=\"sk-estimator-id-12\" class=\"sk-toggleable__label sk-toggleable__label-arrow\">LinearRegression</label><div class=\"sk-toggleable__content\"><pre>LinearRegression()</pre></div></div></div></div></div>"
      ],
      "text/plain": [
       "LinearRegression()"
      ]
     },
     "execution_count": 96,
     "metadata": {},
     "output_type": "execute_result"
    }
   ],
   "source": [
    "linr = models[0]\n",
    "linr[0]"
   ]
  },
  {
   "cell_type": "code",
   "execution_count": 97,
   "id": "82b0e503-7d9d-4b76-a3ed-716bfb714efd",
   "metadata": {
    "tags": []
   },
   "outputs": [],
   "source": [
    "# check if model folder exists and if not , then create\n",
    "model_folder = '../result_models/'\n",
    "if not os.path.exists(model_folder):\n",
    "    os.makedirs(model_folder)"
   ]
  },
  {
   "cell_type": "code",
   "execution_count": 98,
   "id": "287385a6-2ebc-483f-b0c0-1e33a649dfdc",
   "metadata": {
    "tags": []
   },
   "outputs": [],
   "source": [
    "## optional save models\n",
    "#joblib.dump(linr[0], ('../result_models/'+ 'neuro_harm_top_linr0.sav'))\n",
    "#joblib.dump(linr[1], ('../result_models/'+ 'neuro_harm_top_linr1.sav'))\n",
    "#joblib.dump(linr[2], ('../result_models/'+ 'neuro_harm_top_linr2.sav'))\n",
    "#joblib.dump(linr[3], ('../result_models/'+ 'neuro_harm_top_linr3.sav'))\n",
    "#joblib.dump(linr[4], ('../result_models/'+ 'neuro_harm_top_linr4.sav'))"
   ]
  },
  {
   "cell_type": "code",
   "execution_count": 99,
   "id": "51ef8c46-e4cb-401a-866c-0d6d597baa5c",
   "metadata": {
    "tags": []
   },
   "outputs": [
    {
     "name": "stderr",
     "output_type": "stream",
     "text": [
      "C:\\Projects\\cvasl\\extended_harm_paper\\..\\cvasl\\seperated.py:1055: FutureWarning: The behavior of DataFrame concatenation with empty or all-NA entries is deprecated. In a future version, this will no longer exclude empty or all-NA columns when determining the result dtypes. To retain the old behavior, exclude the relevant entries before the concat operation.\n",
      "  mod_results = pd.concat([mod_results, mod_results_current_fold])\n",
      "C:\\Projects\\cvasl\\extended_harm_paper\\..\\cvasl\\seperated.py:1055: FutureWarning: The behavior of DataFrame concatenation with empty or all-NA entries is deprecated. In a future version, this will no longer exclude empty or all-NA columns when determining the result dtypes. To retain the old behavior, exclude the relevant entries before the concat operation.\n",
      "  mod_results = pd.concat([mod_results, mod_results_current_fold])\n",
      "C:\\Projects\\cvasl\\extended_harm_paper\\..\\cvasl\\seperated.py:1055: FutureWarning: The behavior of DataFrame concatenation with empty or all-NA entries is deprecated. In a future version, this will no longer exclude empty or all-NA columns when determining the result dtypes. To retain the old behavior, exclude the relevant entries before the concat operation.\n",
      "  mod_results = pd.concat([mod_results, mod_results_current_fold])\n",
      "C:\\Projects\\cvasl\\extended_harm_paper\\..\\cvasl\\seperated.py:1055: FutureWarning: The behavior of DataFrame concatenation with empty or all-NA entries is deprecated. In a future version, this will no longer exclude empty or all-NA columns when determining the result dtypes. To retain the old behavior, exclude the relevant entries before the concat operation.\n",
      "  mod_results = pd.concat([mod_results, mod_results_current_fold])\n",
      "C:\\Projects\\cvasl\\extended_harm_paper\\..\\cvasl\\seperated.py:1055: FutureWarning: The behavior of DataFrame concatenation with empty or all-NA entries is deprecated. In a future version, this will no longer exclude empty or all-NA columns when determining the result dtypes. To retain the old behavior, exclude the relevant entries before the concat operation.\n",
      "  mod_results = pd.concat([mod_results, mod_results_current_fold])\n"
     ]
    },
    {
     "data": {
      "text/html": [
       "<div>\n",
       "<style scoped>\n",
       "    .dataframe tbody tr th:only-of-type {\n",
       "        vertical-align: middle;\n",
       "    }\n",
       "\n",
       "    .dataframe tbody tr th {\n",
       "        vertical-align: top;\n",
       "    }\n",
       "\n",
       "    .dataframe thead th {\n",
       "        text-align: right;\n",
       "    }\n",
       "</style>\n",
       "<table border=\"1\" class=\"dataframe\">\n",
       "  <thead>\n",
       "    <tr style=\"text-align: right;\">\n",
       "      <th></th>\n",
       "      <th>algorithm</th>\n",
       "      <th>fold</th>\n",
       "      <th>file_name</th>\n",
       "      <th>mae</th>\n",
       "      <th>r2</th>\n",
       "      <th>explained_variance</th>\n",
       "    </tr>\n",
       "  </thead>\n",
       "  <tbody>\n",
       "    <tr>\n",
       "      <th>0</th>\n",
       "      <td>lasso regression-0</td>\n",
       "      <td>0</td>\n",
       "      <td>neuro_harm_top_llreg.0</td>\n",
       "      <td>4.229660</td>\n",
       "      <td>0.725736</td>\n",
       "      <td>0.735865</td>\n",
       "    </tr>\n",
       "    <tr>\n",
       "      <th>0</th>\n",
       "      <td>lasso regression-1</td>\n",
       "      <td>1</td>\n",
       "      <td>neuro_harm_top_llreg.1</td>\n",
       "      <td>6.087008</td>\n",
       "      <td>-7.749052</td>\n",
       "      <td>-7.683032</td>\n",
       "    </tr>\n",
       "    <tr>\n",
       "      <th>0</th>\n",
       "      <td>lasso regression-2</td>\n",
       "      <td>2</td>\n",
       "      <td>neuro_harm_top_llreg.2</td>\n",
       "      <td>3.966091</td>\n",
       "      <td>0.702588</td>\n",
       "      <td>0.702690</td>\n",
       "    </tr>\n",
       "    <tr>\n",
       "      <th>0</th>\n",
       "      <td>lasso regression-3</td>\n",
       "      <td>3</td>\n",
       "      <td>neuro_harm_top_llreg.3</td>\n",
       "      <td>4.318321</td>\n",
       "      <td>0.715457</td>\n",
       "      <td>0.720175</td>\n",
       "    </tr>\n",
       "    <tr>\n",
       "      <th>0</th>\n",
       "      <td>lasso regression-4</td>\n",
       "      <td>4</td>\n",
       "      <td>neuro_harm_top_llreg.4</td>\n",
       "      <td>4.430447</td>\n",
       "      <td>0.693619</td>\n",
       "      <td>0.695462</td>\n",
       "    </tr>\n",
       "  </tbody>\n",
       "</table>\n",
       "</div>"
      ],
      "text/plain": [
       "            algorithm fold               file_name       mae        r2  \\\n",
       "0  lasso regression-0    0  neuro_harm_top_llreg.0  4.229660  0.725736   \n",
       "0  lasso regression-1    1  neuro_harm_top_llreg.1  6.087008 -7.749052   \n",
       "0  lasso regression-2    2  neuro_harm_top_llreg.2  3.966091  0.702588   \n",
       "0  lasso regression-3    3  neuro_harm_top_llreg.3  4.318321  0.715457   \n",
       "0  lasso regression-4    4  neuro_harm_top_llreg.4  4.430447  0.693619   \n",
       "\n",
       "   explained_variance  \n",
       "0            0.735865  \n",
       "0           -7.683032  \n",
       "0            0.702690  \n",
       "0            0.720175  \n",
       "0            0.695462  "
      ]
     },
     "execution_count": 99,
     "metadata": {},
     "output_type": "execute_result"
    }
   ],
   "source": [
    "llreg_k_frame, llreg_y_frame, models = sep.stratified_cat_and_cont_categories_shuffle_split('lasso regression', 'neuro_harm_top_llreg',  linear_model.LassoLars(alpha=0.01), ml_matrix, X, y)\n",
    "llreg_k_frame"
   ]
  },
  {
   "cell_type": "code",
   "execution_count": 100,
   "id": "66c9bfd9-38e4-4dc1-b986-6a4cae851952",
   "metadata": {
    "tags": []
   },
   "outputs": [],
   "source": [
    "llreg_k_frame.to_csv(output_folder + '/neuro_harmonized_top_llreg_k_frame.csv')"
   ]
  },
  {
   "cell_type": "code",
   "execution_count": 101,
   "id": "ec52351c-5f10-4370-88bf-04fb3850859d",
   "metadata": {
    "tags": []
   },
   "outputs": [
    {
     "data": {
      "text/html": [
       "<div>\n",
       "<style scoped>\n",
       "    .dataframe tbody tr th:only-of-type {\n",
       "        vertical-align: middle;\n",
       "    }\n",
       "\n",
       "    .dataframe tbody tr th {\n",
       "        vertical-align: top;\n",
       "    }\n",
       "\n",
       "    .dataframe thead th {\n",
       "        text-align: right;\n",
       "    }\n",
       "</style>\n",
       "<table border=\"1\" class=\"dataframe\">\n",
       "  <thead>\n",
       "    <tr style=\"text-align: right;\">\n",
       "      <th></th>\n",
       "      <th>algorithm</th>\n",
       "      <th>file_name</th>\n",
       "      <th>mae</th>\n",
       "      <th>r2</th>\n",
       "      <th>explained_variance</th>\n",
       "    </tr>\n",
       "  </thead>\n",
       "  <tbody>\n",
       "    <tr>\n",
       "      <th>0</th>\n",
       "      <td>0    lasso regression-0\n",
       "0    lasso regression-...</td>\n",
       "      <td>0    neuro_harm_top_llreg.0\n",
       "0    neuro_harm_to...</td>\n",
       "      <td>4.606305</td>\n",
       "      <td>-0.98233</td>\n",
       "      <td>-0.965768</td>\n",
       "    </tr>\n",
       "  </tbody>\n",
       "</table>\n",
       "</div>"
      ],
      "text/plain": [
       "                                           algorithm  \\\n",
       "0  0    lasso regression-0\n",
       "0    lasso regression-...   \n",
       "\n",
       "                                           file_name       mae       r2  \\\n",
       "0  0    neuro_harm_top_llreg.0\n",
       "0    neuro_harm_to...  4.606305 -0.98233   \n",
       "\n",
       "   explained_variance  \n",
       "0           -0.965768  "
      ]
     },
     "execution_count": 101,
     "metadata": {},
     "output_type": "execute_result"
    }
   ],
   "source": [
    "avg_llreg = sep.avg_k_folds(llreg_k_frame)\n",
    "avg_llreg"
   ]
  },
  {
   "cell_type": "code",
   "execution_count": 102,
   "id": "e4cb04d6-bd61-4e00-8835-e036efa595fb",
   "metadata": {
    "tags": []
   },
   "outputs": [
    {
     "data": {
      "text/html": [
       "<div>\n",
       "<style scoped>\n",
       "    .dataframe tbody tr th:only-of-type {\n",
       "        vertical-align: middle;\n",
       "    }\n",
       "\n",
       "    .dataframe tbody tr th {\n",
       "        vertical-align: top;\n",
       "    }\n",
       "\n",
       "    .dataframe thead th {\n",
       "        text-align: right;\n",
       "    }\n",
       "</style>\n",
       "<table border=\"1\" class=\"dataframe\">\n",
       "  <thead>\n",
       "    <tr style=\"text-align: right;\">\n",
       "      <th></th>\n",
       "      <th>y_test</th>\n",
       "      <th>y_pred</th>\n",
       "    </tr>\n",
       "  </thead>\n",
       "  <tbody>\n",
       "    <tr>\n",
       "      <th>0</th>\n",
       "      <td>21.26</td>\n",
       "      <td>25.210756</td>\n",
       "    </tr>\n",
       "    <tr>\n",
       "      <th>1</th>\n",
       "      <td>30.75</td>\n",
       "      <td>34.120374</td>\n",
       "    </tr>\n",
       "    <tr>\n",
       "      <th>2</th>\n",
       "      <td>41.66</td>\n",
       "      <td>43.544281</td>\n",
       "    </tr>\n",
       "    <tr>\n",
       "      <th>3</th>\n",
       "      <td>31.64</td>\n",
       "      <td>38.008597</td>\n",
       "    </tr>\n",
       "    <tr>\n",
       "      <th>4</th>\n",
       "      <td>37.87</td>\n",
       "      <td>43.222901</td>\n",
       "    </tr>\n",
       "    <tr>\n",
       "      <th>...</th>\n",
       "      <td>...</td>\n",
       "      <td>...</td>\n",
       "    </tr>\n",
       "    <tr>\n",
       "      <th>128</th>\n",
       "      <td>22.95</td>\n",
       "      <td>30.770361</td>\n",
       "    </tr>\n",
       "    <tr>\n",
       "      <th>129</th>\n",
       "      <td>40.28</td>\n",
       "      <td>41.010344</td>\n",
       "    </tr>\n",
       "    <tr>\n",
       "      <th>130</th>\n",
       "      <td>44.15</td>\n",
       "      <td>41.615041</td>\n",
       "    </tr>\n",
       "    <tr>\n",
       "      <th>131</th>\n",
       "      <td>21.42</td>\n",
       "      <td>30.542464</td>\n",
       "    </tr>\n",
       "    <tr>\n",
       "      <th>132</th>\n",
       "      <td>32.58</td>\n",
       "      <td>37.114676</td>\n",
       "    </tr>\n",
       "  </tbody>\n",
       "</table>\n",
       "<p>665 rows × 2 columns</p>\n",
       "</div>"
      ],
      "text/plain": [
       "     y_test     y_pred\n",
       "0     21.26  25.210756\n",
       "1     30.75  34.120374\n",
       "2     41.66  43.544281\n",
       "3     31.64  38.008597\n",
       "4     37.87  43.222901\n",
       "..      ...        ...\n",
       "128   22.95  30.770361\n",
       "129   40.28  41.010344\n",
       "130   44.15  41.615041\n",
       "131   21.42  30.542464\n",
       "132   32.58  37.114676\n",
       "\n",
       "[665 rows x 2 columns]"
      ]
     },
     "execution_count": 102,
     "metadata": {},
     "output_type": "execute_result"
    }
   ],
   "source": [
    "llreg_y_frame"
   ]
  },
  {
   "cell_type": "code",
   "execution_count": 103,
   "id": "5a957fe8-6dc1-46bf-8d2f-1c8d9e912e28",
   "metadata": {
    "tags": []
   },
   "outputs": [],
   "source": [
    "llreg_y_frame.to_csv(output_folder + '/neuro_harmonized_top_llreg_y_frame.csv')"
   ]
  },
  {
   "cell_type": "code",
   "execution_count": 104,
   "id": "7c1ade1c-67ff-44d5-b618-8b1b20290b1d",
   "metadata": {
    "tags": []
   },
   "outputs": [
    {
     "data": {
      "text/html": [
       "<style>#sk-container-id-13 {color: black;}#sk-container-id-13 pre{padding: 0;}#sk-container-id-13 div.sk-toggleable {background-color: white;}#sk-container-id-13 label.sk-toggleable__label {cursor: pointer;display: block;width: 100%;margin-bottom: 0;padding: 0.3em;box-sizing: border-box;text-align: center;}#sk-container-id-13 label.sk-toggleable__label-arrow:before {content: \"▸\";float: left;margin-right: 0.25em;color: #696969;}#sk-container-id-13 label.sk-toggleable__label-arrow:hover:before {color: black;}#sk-container-id-13 div.sk-estimator:hover label.sk-toggleable__label-arrow:before {color: black;}#sk-container-id-13 div.sk-toggleable__content {max-height: 0;max-width: 0;overflow: hidden;text-align: left;background-color: #f0f8ff;}#sk-container-id-13 div.sk-toggleable__content pre {margin: 0.2em;color: black;border-radius: 0.25em;background-color: #f0f8ff;}#sk-container-id-13 input.sk-toggleable__control:checked~div.sk-toggleable__content {max-height: 200px;max-width: 100%;overflow: auto;}#sk-container-id-13 input.sk-toggleable__control:checked~label.sk-toggleable__label-arrow:before {content: \"▾\";}#sk-container-id-13 div.sk-estimator input.sk-toggleable__control:checked~label.sk-toggleable__label {background-color: #d4ebff;}#sk-container-id-13 div.sk-label input.sk-toggleable__control:checked~label.sk-toggleable__label {background-color: #d4ebff;}#sk-container-id-13 input.sk-hidden--visually {border: 0;clip: rect(1px 1px 1px 1px);clip: rect(1px, 1px, 1px, 1px);height: 1px;margin: -1px;overflow: hidden;padding: 0;position: absolute;width: 1px;}#sk-container-id-13 div.sk-estimator {font-family: monospace;background-color: #f0f8ff;border: 1px dotted black;border-radius: 0.25em;box-sizing: border-box;margin-bottom: 0.5em;}#sk-container-id-13 div.sk-estimator:hover {background-color: #d4ebff;}#sk-container-id-13 div.sk-parallel-item::after {content: \"\";width: 100%;border-bottom: 1px solid gray;flex-grow: 1;}#sk-container-id-13 div.sk-label:hover label.sk-toggleable__label {background-color: #d4ebff;}#sk-container-id-13 div.sk-serial::before {content: \"\";position: absolute;border-left: 1px solid gray;box-sizing: border-box;top: 0;bottom: 0;left: 50%;z-index: 0;}#sk-container-id-13 div.sk-serial {display: flex;flex-direction: column;align-items: center;background-color: white;padding-right: 0.2em;padding-left: 0.2em;position: relative;}#sk-container-id-13 div.sk-item {position: relative;z-index: 1;}#sk-container-id-13 div.sk-parallel {display: flex;align-items: stretch;justify-content: center;background-color: white;position: relative;}#sk-container-id-13 div.sk-item::before, #sk-container-id-13 div.sk-parallel-item::before {content: \"\";position: absolute;border-left: 1px solid gray;box-sizing: border-box;top: 0;bottom: 0;left: 50%;z-index: -1;}#sk-container-id-13 div.sk-parallel-item {display: flex;flex-direction: column;z-index: 1;position: relative;background-color: white;}#sk-container-id-13 div.sk-parallel-item:first-child::after {align-self: flex-end;width: 50%;}#sk-container-id-13 div.sk-parallel-item:last-child::after {align-self: flex-start;width: 50%;}#sk-container-id-13 div.sk-parallel-item:only-child::after {width: 0;}#sk-container-id-13 div.sk-dashed-wrapped {border: 1px dashed gray;margin: 0 0.4em 0.5em 0.4em;box-sizing: border-box;padding-bottom: 0.4em;background-color: white;}#sk-container-id-13 div.sk-label label {font-family: monospace;font-weight: bold;display: inline-block;line-height: 1.2em;}#sk-container-id-13 div.sk-label-container {text-align: center;}#sk-container-id-13 div.sk-container {/* jupyter's `normalize.less` sets `[hidden] { display: none; }` but bootstrap.min.css set `[hidden] { display: none !important; }` so we also need the `!important` here to be able to override the default hidden behavior on the sphinx rendered scikit-learn.org. See: https://github.com/scikit-learn/scikit-learn/issues/21755 */display: inline-block !important;position: relative;}#sk-container-id-13 div.sk-text-repr-fallback {display: none;}</style><div id=\"sk-container-id-13\" class=\"sk-top-container\"><div class=\"sk-text-repr-fallback\"><pre>LassoLars(alpha=0.01)</pre><b>In a Jupyter environment, please rerun this cell to show the HTML representation or trust the notebook. <br />On GitHub, the HTML representation is unable to render, please try loading this page with nbviewer.org.</b></div><div class=\"sk-container\" hidden><div class=\"sk-item\"><div class=\"sk-estimator sk-toggleable\"><input class=\"sk-toggleable__control sk-hidden--visually\" id=\"sk-estimator-id-13\" type=\"checkbox\" checked><label for=\"sk-estimator-id-13\" class=\"sk-toggleable__label sk-toggleable__label-arrow\">LassoLars</label><div class=\"sk-toggleable__content\"><pre>LassoLars(alpha=0.01)</pre></div></div></div></div></div>"
      ],
      "text/plain": [
       "LassoLars(alpha=0.01)"
      ]
     },
     "execution_count": 104,
     "metadata": {},
     "output_type": "execute_result"
    }
   ],
   "source": [
    "llreg = models[0]\n",
    "llreg[0]"
   ]
  },
  {
   "cell_type": "code",
   "execution_count": 105,
   "id": "e39084ba-30fc-4956-9277-257730567eea",
   "metadata": {
    "tags": []
   },
   "outputs": [],
   "source": [
    "## optional save models\n",
    "#joblib.dump(llreg[0], ('../result_models/'+ 'neuro_harm_top_llreg0.sav'))\n",
    "#joblib.dump(llreg[1], ('../result_models/'+ 'neuro_harm_top_llreg1.sav'))\n",
    "#joblib.dump(llreg[2], ('../result_models/'+ 'neuro_harm_top_llreg2.sav'))\n",
    "#joblib.dump(llreg[3], ('../result_models/'+ 'neuro_harm_top_llreg3.sav'))\n",
    "#joblib.dump(llreg[4], ('../result_models/'+ 'neuro_harm_top_llreg4.sav'))"
   ]
  },
  {
   "cell_type": "code",
   "execution_count": 106,
   "id": "94a60e3b-2dbd-47ff-ac17-6abe1cbaf922",
   "metadata": {
    "tags": []
   },
   "outputs": [
    {
     "name": "stderr",
     "output_type": "stream",
     "text": [
      "C:\\Projects\\cvasl\\extended_harm_paper\\..\\cvasl\\seperated.py:1055: FutureWarning: The behavior of DataFrame concatenation with empty or all-NA entries is deprecated. In a future version, this will no longer exclude empty or all-NA columns when determining the result dtypes. To retain the old behavior, exclude the relevant entries before the concat operation.\n",
      "  mod_results = pd.concat([mod_results, mod_results_current_fold])\n",
      "C:\\Projects\\cvasl\\extended_harm_paper\\..\\cvasl\\seperated.py:1055: FutureWarning: The behavior of DataFrame concatenation with empty or all-NA entries is deprecated. In a future version, this will no longer exclude empty or all-NA columns when determining the result dtypes. To retain the old behavior, exclude the relevant entries before the concat operation.\n",
      "  mod_results = pd.concat([mod_results, mod_results_current_fold])\n",
      "C:\\Projects\\cvasl\\extended_harm_paper\\..\\cvasl\\seperated.py:1055: FutureWarning: The behavior of DataFrame concatenation with empty or all-NA entries is deprecated. In a future version, this will no longer exclude empty or all-NA columns when determining the result dtypes. To retain the old behavior, exclude the relevant entries before the concat operation.\n",
      "  mod_results = pd.concat([mod_results, mod_results_current_fold])\n",
      "C:\\Projects\\cvasl\\extended_harm_paper\\..\\cvasl\\seperated.py:1055: FutureWarning: The behavior of DataFrame concatenation with empty or all-NA entries is deprecated. In a future version, this will no longer exclude empty or all-NA columns when determining the result dtypes. To retain the old behavior, exclude the relevant entries before the concat operation.\n",
      "  mod_results = pd.concat([mod_results, mod_results_current_fold])\n",
      "C:\\Projects\\cvasl\\extended_harm_paper\\..\\cvasl\\seperated.py:1055: FutureWarning: The behavior of DataFrame concatenation with empty or all-NA entries is deprecated. In a future version, this will no longer exclude empty or all-NA columns when determining the result dtypes. To retain the old behavior, exclude the relevant entries before the concat operation.\n",
      "  mod_results = pd.concat([mod_results, mod_results_current_fold])\n"
     ]
    },
    {
     "data": {
      "text/html": [
       "<div>\n",
       "<style scoped>\n",
       "    .dataframe tbody tr th:only-of-type {\n",
       "        vertical-align: middle;\n",
       "    }\n",
       "\n",
       "    .dataframe tbody tr th {\n",
       "        vertical-align: top;\n",
       "    }\n",
       "\n",
       "    .dataframe thead th {\n",
       "        text-align: right;\n",
       "    }\n",
       "</style>\n",
       "<table border=\"1\" class=\"dataframe\">\n",
       "  <thead>\n",
       "    <tr style=\"text-align: right;\">\n",
       "      <th></th>\n",
       "      <th>algorithm</th>\n",
       "      <th>fold</th>\n",
       "      <th>file_name</th>\n",
       "      <th>mae</th>\n",
       "      <th>r2</th>\n",
       "      <th>explained_variance</th>\n",
       "    </tr>\n",
       "  </thead>\n",
       "  <tbody>\n",
       "    <tr>\n",
       "      <th>0</th>\n",
       "      <td>decision tree-0</td>\n",
       "      <td>0</td>\n",
       "      <td>neuro_harm_top_dtree.0</td>\n",
       "      <td>5.230376</td>\n",
       "      <td>0.585434</td>\n",
       "      <td>0.587183</td>\n",
       "    </tr>\n",
       "    <tr>\n",
       "      <th>0</th>\n",
       "      <td>decision tree-1</td>\n",
       "      <td>1</td>\n",
       "      <td>neuro_harm_top_dtree.1</td>\n",
       "      <td>5.003308</td>\n",
       "      <td>0.546271</td>\n",
       "      <td>0.549006</td>\n",
       "    </tr>\n",
       "    <tr>\n",
       "      <th>0</th>\n",
       "      <td>decision tree-2</td>\n",
       "      <td>2</td>\n",
       "      <td>neuro_harm_top_dtree.2</td>\n",
       "      <td>5.348947</td>\n",
       "      <td>0.354419</td>\n",
       "      <td>0.354655</td>\n",
       "    </tr>\n",
       "    <tr>\n",
       "      <th>0</th>\n",
       "      <td>decision tree-3</td>\n",
       "      <td>3</td>\n",
       "      <td>neuro_harm_top_dtree.3</td>\n",
       "      <td>5.556391</td>\n",
       "      <td>0.482213</td>\n",
       "      <td>0.483139</td>\n",
       "    </tr>\n",
       "    <tr>\n",
       "      <th>0</th>\n",
       "      <td>decision tree-4</td>\n",
       "      <td>4</td>\n",
       "      <td>neuro_harm_top_dtree.4</td>\n",
       "      <td>4.920451</td>\n",
       "      <td>0.532895</td>\n",
       "      <td>0.574757</td>\n",
       "    </tr>\n",
       "  </tbody>\n",
       "</table>\n",
       "</div>"
      ],
      "text/plain": [
       "         algorithm fold               file_name       mae        r2  \\\n",
       "0  decision tree-0    0  neuro_harm_top_dtree.0  5.230376  0.585434   \n",
       "0  decision tree-1    1  neuro_harm_top_dtree.1  5.003308  0.546271   \n",
       "0  decision tree-2    2  neuro_harm_top_dtree.2  5.348947  0.354419   \n",
       "0  decision tree-3    3  neuro_harm_top_dtree.3  5.556391  0.482213   \n",
       "0  decision tree-4    4  neuro_harm_top_dtree.4  4.920451  0.532895   \n",
       "\n",
       "   explained_variance  \n",
       "0            0.587183  \n",
       "0            0.549006  \n",
       "0            0.354655  \n",
       "0            0.483139  \n",
       "0            0.574757  "
      ]
     },
     "execution_count": 106,
     "metadata": {},
     "output_type": "execute_result"
    }
   ],
   "source": [
    "dtree_k_frame, dtree_y_frame, models = sep.stratified_cat_and_cont_categories_shuffle_split('decision tree', 'neuro_harm_top_dtree',  tree.DecisionTreeRegressor(), ml_matrix, X, y)\n",
    "dtree_k_frame"
   ]
  },
  {
   "cell_type": "code",
   "execution_count": 107,
   "id": "832fc6da-e5b1-444f-8829-2d269608d4c9",
   "metadata": {
    "tags": []
   },
   "outputs": [],
   "source": [
    "dtree_k_frame.to_csv(output_folder + '/neuro_harmonized_top_dtree_k_frame.csv')"
   ]
  },
  {
   "cell_type": "code",
   "execution_count": 108,
   "id": "e252e7d6-c54d-439e-9124-b61a70f40211",
   "metadata": {
    "tags": []
   },
   "outputs": [
    {
     "data": {
      "text/html": [
       "<div>\n",
       "<style scoped>\n",
       "    .dataframe tbody tr th:only-of-type {\n",
       "        vertical-align: middle;\n",
       "    }\n",
       "\n",
       "    .dataframe tbody tr th {\n",
       "        vertical-align: top;\n",
       "    }\n",
       "\n",
       "    .dataframe thead th {\n",
       "        text-align: right;\n",
       "    }\n",
       "</style>\n",
       "<table border=\"1\" class=\"dataframe\">\n",
       "  <thead>\n",
       "    <tr style=\"text-align: right;\">\n",
       "      <th></th>\n",
       "      <th>algorithm</th>\n",
       "      <th>file_name</th>\n",
       "      <th>mae</th>\n",
       "      <th>r2</th>\n",
       "      <th>explained_variance</th>\n",
       "    </tr>\n",
       "  </thead>\n",
       "  <tbody>\n",
       "    <tr>\n",
       "      <th>0</th>\n",
       "      <td>0    decision tree-0\n",
       "0    decision tree-1\n",
       "0   ...</td>\n",
       "      <td>0    neuro_harm_top_dtree.0\n",
       "0    neuro_harm_to...</td>\n",
       "      <td>5.211895</td>\n",
       "      <td>0.500247</td>\n",
       "      <td>0.509748</td>\n",
       "    </tr>\n",
       "  </tbody>\n",
       "</table>\n",
       "</div>"
      ],
      "text/plain": [
       "                                           algorithm  \\\n",
       "0  0    decision tree-0\n",
       "0    decision tree-1\n",
       "0   ...   \n",
       "\n",
       "                                           file_name       mae        r2  \\\n",
       "0  0    neuro_harm_top_dtree.0\n",
       "0    neuro_harm_to...  5.211895  0.500247   \n",
       "\n",
       "   explained_variance  \n",
       "0            0.509748  "
      ]
     },
     "execution_count": 108,
     "metadata": {},
     "output_type": "execute_result"
    }
   ],
   "source": [
    "avg_dtree = sep.avg_k_folds(dtree_k_frame)\n",
    "avg_dtree"
   ]
  },
  {
   "cell_type": "code",
   "execution_count": 109,
   "id": "ea68e30b-c536-4f58-bf72-52804a8fd4ef",
   "metadata": {
    "tags": []
   },
   "outputs": [
    {
     "data": {
      "text/html": [
       "<div>\n",
       "<style scoped>\n",
       "    .dataframe tbody tr th:only-of-type {\n",
       "        vertical-align: middle;\n",
       "    }\n",
       "\n",
       "    .dataframe tbody tr th {\n",
       "        vertical-align: top;\n",
       "    }\n",
       "\n",
       "    .dataframe thead th {\n",
       "        text-align: right;\n",
       "    }\n",
       "</style>\n",
       "<table border=\"1\" class=\"dataframe\">\n",
       "  <thead>\n",
       "    <tr style=\"text-align: right;\">\n",
       "      <th></th>\n",
       "      <th>y_test</th>\n",
       "      <th>y_pred</th>\n",
       "    </tr>\n",
       "  </thead>\n",
       "  <tbody>\n",
       "    <tr>\n",
       "      <th>0</th>\n",
       "      <td>21.26</td>\n",
       "      <td>30.28</td>\n",
       "    </tr>\n",
       "    <tr>\n",
       "      <th>1</th>\n",
       "      <td>30.75</td>\n",
       "      <td>34.88</td>\n",
       "    </tr>\n",
       "    <tr>\n",
       "      <th>2</th>\n",
       "      <td>41.66</td>\n",
       "      <td>40.65</td>\n",
       "    </tr>\n",
       "    <tr>\n",
       "      <th>3</th>\n",
       "      <td>31.64</td>\n",
       "      <td>39.44</td>\n",
       "    </tr>\n",
       "    <tr>\n",
       "      <th>4</th>\n",
       "      <td>37.87</td>\n",
       "      <td>41.94</td>\n",
       "    </tr>\n",
       "    <tr>\n",
       "      <th>...</th>\n",
       "      <td>...</td>\n",
       "      <td>...</td>\n",
       "    </tr>\n",
       "    <tr>\n",
       "      <th>128</th>\n",
       "      <td>22.95</td>\n",
       "      <td>31.72</td>\n",
       "    </tr>\n",
       "    <tr>\n",
       "      <th>129</th>\n",
       "      <td>40.28</td>\n",
       "      <td>41.30</td>\n",
       "    </tr>\n",
       "    <tr>\n",
       "      <th>130</th>\n",
       "      <td>44.15</td>\n",
       "      <td>45.50</td>\n",
       "    </tr>\n",
       "    <tr>\n",
       "      <th>131</th>\n",
       "      <td>21.42</td>\n",
       "      <td>24.74</td>\n",
       "    </tr>\n",
       "    <tr>\n",
       "      <th>132</th>\n",
       "      <td>32.58</td>\n",
       "      <td>32.53</td>\n",
       "    </tr>\n",
       "  </tbody>\n",
       "</table>\n",
       "<p>665 rows × 2 columns</p>\n",
       "</div>"
      ],
      "text/plain": [
       "     y_test  y_pred\n",
       "0     21.26   30.28\n",
       "1     30.75   34.88\n",
       "2     41.66   40.65\n",
       "3     31.64   39.44\n",
       "4     37.87   41.94\n",
       "..      ...     ...\n",
       "128   22.95   31.72\n",
       "129   40.28   41.30\n",
       "130   44.15   45.50\n",
       "131   21.42   24.74\n",
       "132   32.58   32.53\n",
       "\n",
       "[665 rows x 2 columns]"
      ]
     },
     "execution_count": 109,
     "metadata": {},
     "output_type": "execute_result"
    }
   ],
   "source": [
    "dtree_y_frame"
   ]
  },
  {
   "cell_type": "code",
   "execution_count": 110,
   "id": "7bebe82f-2f38-43b6-a70c-9770de76f53b",
   "metadata": {
    "tags": []
   },
   "outputs": [],
   "source": [
    "dtree_y_frame.to_csv(output_folder + '/neuro_harmonized_top_dtree_y_frame.csv')"
   ]
  },
  {
   "cell_type": "code",
   "execution_count": 111,
   "id": "c864e07f-af8c-4e39-8163-b6bce6a289eb",
   "metadata": {
    "tags": []
   },
   "outputs": [
    {
     "data": {
      "text/html": [
       "<style>#sk-container-id-14 {color: black;}#sk-container-id-14 pre{padding: 0;}#sk-container-id-14 div.sk-toggleable {background-color: white;}#sk-container-id-14 label.sk-toggleable__label {cursor: pointer;display: block;width: 100%;margin-bottom: 0;padding: 0.3em;box-sizing: border-box;text-align: center;}#sk-container-id-14 label.sk-toggleable__label-arrow:before {content: \"▸\";float: left;margin-right: 0.25em;color: #696969;}#sk-container-id-14 label.sk-toggleable__label-arrow:hover:before {color: black;}#sk-container-id-14 div.sk-estimator:hover label.sk-toggleable__label-arrow:before {color: black;}#sk-container-id-14 div.sk-toggleable__content {max-height: 0;max-width: 0;overflow: hidden;text-align: left;background-color: #f0f8ff;}#sk-container-id-14 div.sk-toggleable__content pre {margin: 0.2em;color: black;border-radius: 0.25em;background-color: #f0f8ff;}#sk-container-id-14 input.sk-toggleable__control:checked~div.sk-toggleable__content {max-height: 200px;max-width: 100%;overflow: auto;}#sk-container-id-14 input.sk-toggleable__control:checked~label.sk-toggleable__label-arrow:before {content: \"▾\";}#sk-container-id-14 div.sk-estimator input.sk-toggleable__control:checked~label.sk-toggleable__label {background-color: #d4ebff;}#sk-container-id-14 div.sk-label input.sk-toggleable__control:checked~label.sk-toggleable__label {background-color: #d4ebff;}#sk-container-id-14 input.sk-hidden--visually {border: 0;clip: rect(1px 1px 1px 1px);clip: rect(1px, 1px, 1px, 1px);height: 1px;margin: -1px;overflow: hidden;padding: 0;position: absolute;width: 1px;}#sk-container-id-14 div.sk-estimator {font-family: monospace;background-color: #f0f8ff;border: 1px dotted black;border-radius: 0.25em;box-sizing: border-box;margin-bottom: 0.5em;}#sk-container-id-14 div.sk-estimator:hover {background-color: #d4ebff;}#sk-container-id-14 div.sk-parallel-item::after {content: \"\";width: 100%;border-bottom: 1px solid gray;flex-grow: 1;}#sk-container-id-14 div.sk-label:hover label.sk-toggleable__label {background-color: #d4ebff;}#sk-container-id-14 div.sk-serial::before {content: \"\";position: absolute;border-left: 1px solid gray;box-sizing: border-box;top: 0;bottom: 0;left: 50%;z-index: 0;}#sk-container-id-14 div.sk-serial {display: flex;flex-direction: column;align-items: center;background-color: white;padding-right: 0.2em;padding-left: 0.2em;position: relative;}#sk-container-id-14 div.sk-item {position: relative;z-index: 1;}#sk-container-id-14 div.sk-parallel {display: flex;align-items: stretch;justify-content: center;background-color: white;position: relative;}#sk-container-id-14 div.sk-item::before, #sk-container-id-14 div.sk-parallel-item::before {content: \"\";position: absolute;border-left: 1px solid gray;box-sizing: border-box;top: 0;bottom: 0;left: 50%;z-index: -1;}#sk-container-id-14 div.sk-parallel-item {display: flex;flex-direction: column;z-index: 1;position: relative;background-color: white;}#sk-container-id-14 div.sk-parallel-item:first-child::after {align-self: flex-end;width: 50%;}#sk-container-id-14 div.sk-parallel-item:last-child::after {align-self: flex-start;width: 50%;}#sk-container-id-14 div.sk-parallel-item:only-child::after {width: 0;}#sk-container-id-14 div.sk-dashed-wrapped {border: 1px dashed gray;margin: 0 0.4em 0.5em 0.4em;box-sizing: border-box;padding-bottom: 0.4em;background-color: white;}#sk-container-id-14 div.sk-label label {font-family: monospace;font-weight: bold;display: inline-block;line-height: 1.2em;}#sk-container-id-14 div.sk-label-container {text-align: center;}#sk-container-id-14 div.sk-container {/* jupyter's `normalize.less` sets `[hidden] { display: none; }` but bootstrap.min.css set `[hidden] { display: none !important; }` so we also need the `!important` here to be able to override the default hidden behavior on the sphinx rendered scikit-learn.org. See: https://github.com/scikit-learn/scikit-learn/issues/21755 */display: inline-block !important;position: relative;}#sk-container-id-14 div.sk-text-repr-fallback {display: none;}</style><div id=\"sk-container-id-14\" class=\"sk-top-container\"><div class=\"sk-text-repr-fallback\"><pre>DecisionTreeRegressor()</pre><b>In a Jupyter environment, please rerun this cell to show the HTML representation or trust the notebook. <br />On GitHub, the HTML representation is unable to render, please try loading this page with nbviewer.org.</b></div><div class=\"sk-container\" hidden><div class=\"sk-item\"><div class=\"sk-estimator sk-toggleable\"><input class=\"sk-toggleable__control sk-hidden--visually\" id=\"sk-estimator-id-14\" type=\"checkbox\" checked><label for=\"sk-estimator-id-14\" class=\"sk-toggleable__label sk-toggleable__label-arrow\">DecisionTreeRegressor</label><div class=\"sk-toggleable__content\"><pre>DecisionTreeRegressor()</pre></div></div></div></div></div>"
      ],
      "text/plain": [
       "DecisionTreeRegressor()"
      ]
     },
     "execution_count": 111,
     "metadata": {},
     "output_type": "execute_result"
    }
   ],
   "source": [
    "dtree = models[0]\n",
    "dtree[0]"
   ]
  },
  {
   "cell_type": "code",
   "execution_count": 112,
   "id": "34366522-f7b3-44a1-8985-7b8f87330c19",
   "metadata": {
    "tags": []
   },
   "outputs": [
    {
     "name": "stderr",
     "output_type": "stream",
     "text": [
      "C:\\Projects\\cvasl\\extended_harm_paper\\..\\cvasl\\seperated.py:1055: FutureWarning: The behavior of DataFrame concatenation with empty or all-NA entries is deprecated. In a future version, this will no longer exclude empty or all-NA columns when determining the result dtypes. To retain the old behavior, exclude the relevant entries before the concat operation.\n",
      "  mod_results = pd.concat([mod_results, mod_results_current_fold])\n",
      "C:\\Projects\\cvasl\\extended_harm_paper\\..\\cvasl\\seperated.py:1055: FutureWarning: The behavior of DataFrame concatenation with empty or all-NA entries is deprecated. In a future version, this will no longer exclude empty or all-NA columns when determining the result dtypes. To retain the old behavior, exclude the relevant entries before the concat operation.\n",
      "  mod_results = pd.concat([mod_results, mod_results_current_fold])\n",
      "C:\\Projects\\cvasl\\extended_harm_paper\\..\\cvasl\\seperated.py:1055: FutureWarning: The behavior of DataFrame concatenation with empty or all-NA entries is deprecated. In a future version, this will no longer exclude empty or all-NA columns when determining the result dtypes. To retain the old behavior, exclude the relevant entries before the concat operation.\n",
      "  mod_results = pd.concat([mod_results, mod_results_current_fold])\n",
      "C:\\Users\\CandaceMoore\\miniconda3\\envs\\mriland\\Lib\\site-packages\\sklearn\\neural_network\\_multilayer_perceptron.py:691: ConvergenceWarning: Stochastic Optimizer: Maximum iterations (700) reached and the optimization hasn't converged yet.\n",
      "  warnings.warn(\n",
      "C:\\Projects\\cvasl\\extended_harm_paper\\..\\cvasl\\seperated.py:1055: FutureWarning: The behavior of DataFrame concatenation with empty or all-NA entries is deprecated. In a future version, this will no longer exclude empty or all-NA columns when determining the result dtypes. To retain the old behavior, exclude the relevant entries before the concat operation.\n",
      "  mod_results = pd.concat([mod_results, mod_results_current_fold])\n",
      "C:\\Projects\\cvasl\\extended_harm_paper\\..\\cvasl\\seperated.py:1055: FutureWarning: The behavior of DataFrame concatenation with empty or all-NA entries is deprecated. In a future version, this will no longer exclude empty or all-NA columns when determining the result dtypes. To retain the old behavior, exclude the relevant entries before the concat operation.\n",
      "  mod_results = pd.concat([mod_results, mod_results_current_fold])\n"
     ]
    },
    {
     "data": {
      "text/html": [
       "<div>\n",
       "<style scoped>\n",
       "    .dataframe tbody tr th:only-of-type {\n",
       "        vertical-align: middle;\n",
       "    }\n",
       "\n",
       "    .dataframe tbody tr th {\n",
       "        vertical-align: top;\n",
       "    }\n",
       "\n",
       "    .dataframe thead th {\n",
       "        text-align: right;\n",
       "    }\n",
       "</style>\n",
       "<table border=\"1\" class=\"dataframe\">\n",
       "  <thead>\n",
       "    <tr style=\"text-align: right;\">\n",
       "      <th></th>\n",
       "      <th>algorithm</th>\n",
       "      <th>fold</th>\n",
       "      <th>file_name</th>\n",
       "      <th>mae</th>\n",
       "      <th>r2</th>\n",
       "      <th>explained_variance</th>\n",
       "    </tr>\n",
       "  </thead>\n",
       "  <tbody>\n",
       "    <tr>\n",
       "      <th>0</th>\n",
       "      <td>MLP regression-0</td>\n",
       "      <td>0</td>\n",
       "      <td>neuro_harm_top_regr.0</td>\n",
       "      <td>5.175578</td>\n",
       "      <td>0.588204</td>\n",
       "      <td>0.588305</td>\n",
       "    </tr>\n",
       "    <tr>\n",
       "      <th>0</th>\n",
       "      <td>MLP regression-1</td>\n",
       "      <td>1</td>\n",
       "      <td>neuro_harm_top_regr.1</td>\n",
       "      <td>9.069018</td>\n",
       "      <td>-18.665297</td>\n",
       "      <td>-18.550246</td>\n",
       "    </tr>\n",
       "    <tr>\n",
       "      <th>0</th>\n",
       "      <td>MLP regression-2</td>\n",
       "      <td>2</td>\n",
       "      <td>neuro_harm_top_regr.2</td>\n",
       "      <td>4.914676</td>\n",
       "      <td>0.500836</td>\n",
       "      <td>0.501344</td>\n",
       "    </tr>\n",
       "    <tr>\n",
       "      <th>0</th>\n",
       "      <td>MLP regression-3</td>\n",
       "      <td>3</td>\n",
       "      <td>neuro_harm_top_regr.3</td>\n",
       "      <td>5.738360</td>\n",
       "      <td>0.508471</td>\n",
       "      <td>0.511603</td>\n",
       "    </tr>\n",
       "    <tr>\n",
       "      <th>0</th>\n",
       "      <td>MLP regression-4</td>\n",
       "      <td>4</td>\n",
       "      <td>neuro_harm_top_regr.4</td>\n",
       "      <td>5.721145</td>\n",
       "      <td>0.497922</td>\n",
       "      <td>0.500268</td>\n",
       "    </tr>\n",
       "  </tbody>\n",
       "</table>\n",
       "</div>"
      ],
      "text/plain": [
       "          algorithm fold              file_name       mae         r2  \\\n",
       "0  MLP regression-0    0  neuro_harm_top_regr.0  5.175578   0.588204   \n",
       "0  MLP regression-1    1  neuro_harm_top_regr.1  9.069018 -18.665297   \n",
       "0  MLP regression-2    2  neuro_harm_top_regr.2  4.914676   0.500836   \n",
       "0  MLP regression-3    3  neuro_harm_top_regr.3  5.738360   0.508471   \n",
       "0  MLP regression-4    4  neuro_harm_top_regr.4  5.721145   0.497922   \n",
       "\n",
       "   explained_variance  \n",
       "0            0.588305  \n",
       "0          -18.550246  \n",
       "0            0.501344  \n",
       "0            0.511603  \n",
       "0            0.500268  "
      ]
     },
     "execution_count": 112,
     "metadata": {},
     "output_type": "execute_result"
    }
   ],
   "source": [
    "regr_k_frame, regr_y_frame, models = sep.stratified_cat_and_cont_categories_shuffle_split('MLP regression', 'neuro_harm_top_regr',   MLPRegressor(random_state=1, max_iter=700), ml_matrix, X, y)\n",
    "regr_k_frame"
   ]
  },
  {
   "cell_type": "code",
   "execution_count": 113,
   "id": "a03c836a-20b2-4b93-84a4-9c6a3c1d8658",
   "metadata": {
    "tags": []
   },
   "outputs": [],
   "source": [
    "regr_k_frame.to_csv(output_folder + '/neuro_harmonized_top_regr_k_frame.csv')"
   ]
  },
  {
   "cell_type": "code",
   "execution_count": 114,
   "id": "a8d13fee-6545-4853-a297-8c51973a0f47",
   "metadata": {
    "tags": []
   },
   "outputs": [
    {
     "data": {
      "text/html": [
       "<div>\n",
       "<style scoped>\n",
       "    .dataframe tbody tr th:only-of-type {\n",
       "        vertical-align: middle;\n",
       "    }\n",
       "\n",
       "    .dataframe tbody tr th {\n",
       "        vertical-align: top;\n",
       "    }\n",
       "\n",
       "    .dataframe thead th {\n",
       "        text-align: right;\n",
       "    }\n",
       "</style>\n",
       "<table border=\"1\" class=\"dataframe\">\n",
       "  <thead>\n",
       "    <tr style=\"text-align: right;\">\n",
       "      <th></th>\n",
       "      <th>algorithm</th>\n",
       "      <th>file_name</th>\n",
       "      <th>mae</th>\n",
       "      <th>r2</th>\n",
       "      <th>explained_variance</th>\n",
       "    </tr>\n",
       "  </thead>\n",
       "  <tbody>\n",
       "    <tr>\n",
       "      <th>0</th>\n",
       "      <td>0    MLP regression-0\n",
       "0    MLP regression-1\n",
       "0 ...</td>\n",
       "      <td>0    neuro_harm_top_regr.0\n",
       "0    neuro_harm_top...</td>\n",
       "      <td>6.123755</td>\n",
       "      <td>-3.313973</td>\n",
       "      <td>-3.289745</td>\n",
       "    </tr>\n",
       "  </tbody>\n",
       "</table>\n",
       "</div>"
      ],
      "text/plain": [
       "                                           algorithm  \\\n",
       "0  0    MLP regression-0\n",
       "0    MLP regression-1\n",
       "0 ...   \n",
       "\n",
       "                                           file_name       mae        r2  \\\n",
       "0  0    neuro_harm_top_regr.0\n",
       "0    neuro_harm_top...  6.123755 -3.313973   \n",
       "\n",
       "   explained_variance  \n",
       "0           -3.289745  "
      ]
     },
     "execution_count": 114,
     "metadata": {},
     "output_type": "execute_result"
    }
   ],
   "source": [
    "avg_regr = sep.avg_k_folds(regr_k_frame)\n",
    "avg_regr"
   ]
  },
  {
   "cell_type": "code",
   "execution_count": 115,
   "id": "89dc63ae-afcc-4d7a-b07c-dd4466230c01",
   "metadata": {
    "tags": []
   },
   "outputs": [
    {
     "data": {
      "text/html": [
       "<div>\n",
       "<style scoped>\n",
       "    .dataframe tbody tr th:only-of-type {\n",
       "        vertical-align: middle;\n",
       "    }\n",
       "\n",
       "    .dataframe tbody tr th {\n",
       "        vertical-align: top;\n",
       "    }\n",
       "\n",
       "    .dataframe thead th {\n",
       "        text-align: right;\n",
       "    }\n",
       "</style>\n",
       "<table border=\"1\" class=\"dataframe\">\n",
       "  <thead>\n",
       "    <tr style=\"text-align: right;\">\n",
       "      <th></th>\n",
       "      <th>y_test</th>\n",
       "      <th>y_pred</th>\n",
       "    </tr>\n",
       "  </thead>\n",
       "  <tbody>\n",
       "    <tr>\n",
       "      <th>0</th>\n",
       "      <td>21.26</td>\n",
       "      <td>29.569763</td>\n",
       "    </tr>\n",
       "    <tr>\n",
       "      <th>1</th>\n",
       "      <td>30.75</td>\n",
       "      <td>38.485599</td>\n",
       "    </tr>\n",
       "    <tr>\n",
       "      <th>2</th>\n",
       "      <td>41.66</td>\n",
       "      <td>36.531063</td>\n",
       "    </tr>\n",
       "    <tr>\n",
       "      <th>3</th>\n",
       "      <td>31.64</td>\n",
       "      <td>37.812753</td>\n",
       "    </tr>\n",
       "    <tr>\n",
       "      <th>4</th>\n",
       "      <td>37.87</td>\n",
       "      <td>40.614137</td>\n",
       "    </tr>\n",
       "    <tr>\n",
       "      <th>...</th>\n",
       "      <td>...</td>\n",
       "      <td>...</td>\n",
       "    </tr>\n",
       "    <tr>\n",
       "      <th>128</th>\n",
       "      <td>22.95</td>\n",
       "      <td>32.018706</td>\n",
       "    </tr>\n",
       "    <tr>\n",
       "      <th>129</th>\n",
       "      <td>40.28</td>\n",
       "      <td>38.261211</td>\n",
       "    </tr>\n",
       "    <tr>\n",
       "      <th>130</th>\n",
       "      <td>44.15</td>\n",
       "      <td>38.975832</td>\n",
       "    </tr>\n",
       "    <tr>\n",
       "      <th>131</th>\n",
       "      <td>21.42</td>\n",
       "      <td>33.262887</td>\n",
       "    </tr>\n",
       "    <tr>\n",
       "      <th>132</th>\n",
       "      <td>32.58</td>\n",
       "      <td>38.682430</td>\n",
       "    </tr>\n",
       "  </tbody>\n",
       "</table>\n",
       "<p>665 rows × 2 columns</p>\n",
       "</div>"
      ],
      "text/plain": [
       "     y_test     y_pred\n",
       "0     21.26  29.569763\n",
       "1     30.75  38.485599\n",
       "2     41.66  36.531063\n",
       "3     31.64  37.812753\n",
       "4     37.87  40.614137\n",
       "..      ...        ...\n",
       "128   22.95  32.018706\n",
       "129   40.28  38.261211\n",
       "130   44.15  38.975832\n",
       "131   21.42  33.262887\n",
       "132   32.58  38.682430\n",
       "\n",
       "[665 rows x 2 columns]"
      ]
     },
     "execution_count": 115,
     "metadata": {},
     "output_type": "execute_result"
    }
   ],
   "source": [
    "regr_y_frame"
   ]
  },
  {
   "cell_type": "code",
   "execution_count": 116,
   "id": "cde0f482-a15d-4cba-ab51-c56d0cc72953",
   "metadata": {
    "tags": []
   },
   "outputs": [],
   "source": [
    "regr_y_frame.to_csv(output_folder + '/neuro_harmonized_top_regr_y_frame.csv')"
   ]
  },
  {
   "cell_type": "code",
   "execution_count": 117,
   "id": "2d668f4e-fd4c-4ea4-af98-ce7f3a6362ed",
   "metadata": {
    "tags": []
   },
   "outputs": [
    {
     "data": {
      "text/html": [
       "<style>#sk-container-id-15 {color: black;}#sk-container-id-15 pre{padding: 0;}#sk-container-id-15 div.sk-toggleable {background-color: white;}#sk-container-id-15 label.sk-toggleable__label {cursor: pointer;display: block;width: 100%;margin-bottom: 0;padding: 0.3em;box-sizing: border-box;text-align: center;}#sk-container-id-15 label.sk-toggleable__label-arrow:before {content: \"▸\";float: left;margin-right: 0.25em;color: #696969;}#sk-container-id-15 label.sk-toggleable__label-arrow:hover:before {color: black;}#sk-container-id-15 div.sk-estimator:hover label.sk-toggleable__label-arrow:before {color: black;}#sk-container-id-15 div.sk-toggleable__content {max-height: 0;max-width: 0;overflow: hidden;text-align: left;background-color: #f0f8ff;}#sk-container-id-15 div.sk-toggleable__content pre {margin: 0.2em;color: black;border-radius: 0.25em;background-color: #f0f8ff;}#sk-container-id-15 input.sk-toggleable__control:checked~div.sk-toggleable__content {max-height: 200px;max-width: 100%;overflow: auto;}#sk-container-id-15 input.sk-toggleable__control:checked~label.sk-toggleable__label-arrow:before {content: \"▾\";}#sk-container-id-15 div.sk-estimator input.sk-toggleable__control:checked~label.sk-toggleable__label {background-color: #d4ebff;}#sk-container-id-15 div.sk-label input.sk-toggleable__control:checked~label.sk-toggleable__label {background-color: #d4ebff;}#sk-container-id-15 input.sk-hidden--visually {border: 0;clip: rect(1px 1px 1px 1px);clip: rect(1px, 1px, 1px, 1px);height: 1px;margin: -1px;overflow: hidden;padding: 0;position: absolute;width: 1px;}#sk-container-id-15 div.sk-estimator {font-family: monospace;background-color: #f0f8ff;border: 1px dotted black;border-radius: 0.25em;box-sizing: border-box;margin-bottom: 0.5em;}#sk-container-id-15 div.sk-estimator:hover {background-color: #d4ebff;}#sk-container-id-15 div.sk-parallel-item::after {content: \"\";width: 100%;border-bottom: 1px solid gray;flex-grow: 1;}#sk-container-id-15 div.sk-label:hover label.sk-toggleable__label {background-color: #d4ebff;}#sk-container-id-15 div.sk-serial::before {content: \"\";position: absolute;border-left: 1px solid gray;box-sizing: border-box;top: 0;bottom: 0;left: 50%;z-index: 0;}#sk-container-id-15 div.sk-serial {display: flex;flex-direction: column;align-items: center;background-color: white;padding-right: 0.2em;padding-left: 0.2em;position: relative;}#sk-container-id-15 div.sk-item {position: relative;z-index: 1;}#sk-container-id-15 div.sk-parallel {display: flex;align-items: stretch;justify-content: center;background-color: white;position: relative;}#sk-container-id-15 div.sk-item::before, #sk-container-id-15 div.sk-parallel-item::before {content: \"\";position: absolute;border-left: 1px solid gray;box-sizing: border-box;top: 0;bottom: 0;left: 50%;z-index: -1;}#sk-container-id-15 div.sk-parallel-item {display: flex;flex-direction: column;z-index: 1;position: relative;background-color: white;}#sk-container-id-15 div.sk-parallel-item:first-child::after {align-self: flex-end;width: 50%;}#sk-container-id-15 div.sk-parallel-item:last-child::after {align-self: flex-start;width: 50%;}#sk-container-id-15 div.sk-parallel-item:only-child::after {width: 0;}#sk-container-id-15 div.sk-dashed-wrapped {border: 1px dashed gray;margin: 0 0.4em 0.5em 0.4em;box-sizing: border-box;padding-bottom: 0.4em;background-color: white;}#sk-container-id-15 div.sk-label label {font-family: monospace;font-weight: bold;display: inline-block;line-height: 1.2em;}#sk-container-id-15 div.sk-label-container {text-align: center;}#sk-container-id-15 div.sk-container {/* jupyter's `normalize.less` sets `[hidden] { display: none; }` but bootstrap.min.css set `[hidden] { display: none !important; }` so we also need the `!important` here to be able to override the default hidden behavior on the sphinx rendered scikit-learn.org. See: https://github.com/scikit-learn/scikit-learn/issues/21755 */display: inline-block !important;position: relative;}#sk-container-id-15 div.sk-text-repr-fallback {display: none;}</style><div id=\"sk-container-id-15\" class=\"sk-top-container\"><div class=\"sk-text-repr-fallback\"><pre>MLPRegressor(max_iter=700, random_state=1)</pre><b>In a Jupyter environment, please rerun this cell to show the HTML representation or trust the notebook. <br />On GitHub, the HTML representation is unable to render, please try loading this page with nbviewer.org.</b></div><div class=\"sk-container\" hidden><div class=\"sk-item\"><div class=\"sk-estimator sk-toggleable\"><input class=\"sk-toggleable__control sk-hidden--visually\" id=\"sk-estimator-id-15\" type=\"checkbox\" checked><label for=\"sk-estimator-id-15\" class=\"sk-toggleable__label sk-toggleable__label-arrow\">MLPRegressor</label><div class=\"sk-toggleable__content\"><pre>MLPRegressor(max_iter=700, random_state=1)</pre></div></div></div></div></div>"
      ],
      "text/plain": [
       "MLPRegressor(max_iter=700, random_state=1)"
      ]
     },
     "execution_count": 117,
     "metadata": {},
     "output_type": "execute_result"
    }
   ],
   "source": [
    "regr = models[0]\n",
    "regr[0]"
   ]
  },
  {
   "cell_type": "markdown",
   "id": "d198e999-79eb-41ec-bd57-d8269b9c4904",
   "metadata": {},
   "source": [
    "### Note I'm not actually saving the mlp or svr models here because they are not the best performers. if neccesary this can be added"
   ]
  },
  {
   "cell_type": "code",
   "execution_count": 118,
   "id": "58ea797e-8561-41cd-9b61-a7f14909c1fc",
   "metadata": {
    "tags": []
   },
   "outputs": [
    {
     "name": "stderr",
     "output_type": "stream",
     "text": [
      "C:\\Projects\\cvasl\\extended_harm_paper\\..\\cvasl\\seperated.py:1055: FutureWarning: The behavior of DataFrame concatenation with empty or all-NA entries is deprecated. In a future version, this will no longer exclude empty or all-NA columns when determining the result dtypes. To retain the old behavior, exclude the relevant entries before the concat operation.\n",
      "  mod_results = pd.concat([mod_results, mod_results_current_fold])\n",
      "C:\\Projects\\cvasl\\extended_harm_paper\\..\\cvasl\\seperated.py:1055: FutureWarning: The behavior of DataFrame concatenation with empty or all-NA entries is deprecated. In a future version, this will no longer exclude empty or all-NA columns when determining the result dtypes. To retain the old behavior, exclude the relevant entries before the concat operation.\n",
      "  mod_results = pd.concat([mod_results, mod_results_current_fold])\n",
      "C:\\Projects\\cvasl\\extended_harm_paper\\..\\cvasl\\seperated.py:1055: FutureWarning: The behavior of DataFrame concatenation with empty or all-NA entries is deprecated. In a future version, this will no longer exclude empty or all-NA columns when determining the result dtypes. To retain the old behavior, exclude the relevant entries before the concat operation.\n",
      "  mod_results = pd.concat([mod_results, mod_results_current_fold])\n",
      "C:\\Projects\\cvasl\\extended_harm_paper\\..\\cvasl\\seperated.py:1055: FutureWarning: The behavior of DataFrame concatenation with empty or all-NA entries is deprecated. In a future version, this will no longer exclude empty or all-NA columns when determining the result dtypes. To retain the old behavior, exclude the relevant entries before the concat operation.\n",
      "  mod_results = pd.concat([mod_results, mod_results_current_fold])\n",
      "C:\\Projects\\cvasl\\extended_harm_paper\\..\\cvasl\\seperated.py:1055: FutureWarning: The behavior of DataFrame concatenation with empty or all-NA entries is deprecated. In a future version, this will no longer exclude empty or all-NA columns when determining the result dtypes. To retain the old behavior, exclude the relevant entries before the concat operation.\n",
      "  mod_results = pd.concat([mod_results, mod_results_current_fold])\n"
     ]
    },
    {
     "data": {
      "text/html": [
       "<div>\n",
       "<style scoped>\n",
       "    .dataframe tbody tr th:only-of-type {\n",
       "        vertical-align: middle;\n",
       "    }\n",
       "\n",
       "    .dataframe tbody tr th {\n",
       "        vertical-align: top;\n",
       "    }\n",
       "\n",
       "    .dataframe thead th {\n",
       "        text-align: right;\n",
       "    }\n",
       "</style>\n",
       "<table border=\"1\" class=\"dataframe\">\n",
       "  <thead>\n",
       "    <tr style=\"text-align: right;\">\n",
       "      <th></th>\n",
       "      <th>algorithm</th>\n",
       "      <th>fold</th>\n",
       "      <th>file_name</th>\n",
       "      <th>mae</th>\n",
       "      <th>r2</th>\n",
       "      <th>explained_variance</th>\n",
       "    </tr>\n",
       "  </thead>\n",
       "  <tbody>\n",
       "    <tr>\n",
       "      <th>0</th>\n",
       "      <td>support vector reg poly2-0</td>\n",
       "      <td>0</td>\n",
       "      <td>neuro_harm_top_svrp2.0</td>\n",
       "      <td>8.063488</td>\n",
       "      <td>0.142657</td>\n",
       "      <td>0.143016</td>\n",
       "    </tr>\n",
       "    <tr>\n",
       "      <th>0</th>\n",
       "      <td>support vector reg poly2-1</td>\n",
       "      <td>1</td>\n",
       "      <td>neuro_harm_top_svrp2.1</td>\n",
       "      <td>9.199649</td>\n",
       "      <td>-4.067374</td>\n",
       "      <td>-4.051096</td>\n",
       "    </tr>\n",
       "    <tr>\n",
       "      <th>0</th>\n",
       "      <td>support vector reg poly2-2</td>\n",
       "      <td>2</td>\n",
       "      <td>neuro_harm_top_svrp2.2</td>\n",
       "      <td>7.082794</td>\n",
       "      <td>0.134321</td>\n",
       "      <td>0.134576</td>\n",
       "    </tr>\n",
       "    <tr>\n",
       "      <th>0</th>\n",
       "      <td>support vector reg poly2-3</td>\n",
       "      <td>3</td>\n",
       "      <td>neuro_harm_top_svrp2.3</td>\n",
       "      <td>7.843937</td>\n",
       "      <td>0.131621</td>\n",
       "      <td>0.136108</td>\n",
       "    </tr>\n",
       "    <tr>\n",
       "      <th>0</th>\n",
       "      <td>support vector reg poly2-4</td>\n",
       "      <td>4</td>\n",
       "      <td>neuro_harm_top_svrp2.4</td>\n",
       "      <td>7.729475</td>\n",
       "      <td>0.107319</td>\n",
       "      <td>0.109921</td>\n",
       "    </tr>\n",
       "  </tbody>\n",
       "</table>\n",
       "</div>"
      ],
      "text/plain": [
       "                    algorithm fold               file_name       mae  \\\n",
       "0  support vector reg poly2-0    0  neuro_harm_top_svrp2.0  8.063488   \n",
       "0  support vector reg poly2-1    1  neuro_harm_top_svrp2.1  9.199649   \n",
       "0  support vector reg poly2-2    2  neuro_harm_top_svrp2.2  7.082794   \n",
       "0  support vector reg poly2-3    3  neuro_harm_top_svrp2.3  7.843937   \n",
       "0  support vector reg poly2-4    4  neuro_harm_top_svrp2.4  7.729475   \n",
       "\n",
       "         r2  explained_variance  \n",
       "0  0.142657            0.143016  \n",
       "0 -4.067374           -4.051096  \n",
       "0  0.134321            0.134576  \n",
       "0  0.131621            0.136108  \n",
       "0  0.107319            0.109921  "
      ]
     },
     "execution_count": 118,
     "metadata": {},
     "output_type": "execute_result"
    }
   ],
   "source": [
    "svrp2_k_frame, svrp2_y_frame, models = sep.stratified_cat_and_cont_categories_shuffle_split('support vector reg poly2', 'neuro_harm_top_svrp2',   SVR(C=1.0, kernel='poly', degree =2, epsilon=0.2), ml_matrix, X, y)\n",
    "svrp2_k_frame"
   ]
  },
  {
   "cell_type": "code",
   "execution_count": 119,
   "id": "b87fe601-9218-4a9c-920e-198379b94992",
   "metadata": {
    "tags": []
   },
   "outputs": [],
   "source": [
    "svrp2_k_frame.to_csv(output_folder + '/neuro_harmonized_top_svrp2_k_frame.csv')"
   ]
  },
  {
   "cell_type": "code",
   "execution_count": 120,
   "id": "faa31eaf-1702-4e67-8c88-619f33f295c2",
   "metadata": {
    "tags": []
   },
   "outputs": [
    {
     "data": {
      "text/html": [
       "<div>\n",
       "<style scoped>\n",
       "    .dataframe tbody tr th:only-of-type {\n",
       "        vertical-align: middle;\n",
       "    }\n",
       "\n",
       "    .dataframe tbody tr th {\n",
       "        vertical-align: top;\n",
       "    }\n",
       "\n",
       "    .dataframe thead th {\n",
       "        text-align: right;\n",
       "    }\n",
       "</style>\n",
       "<table border=\"1\" class=\"dataframe\">\n",
       "  <thead>\n",
       "    <tr style=\"text-align: right;\">\n",
       "      <th></th>\n",
       "      <th>algorithm</th>\n",
       "      <th>file_name</th>\n",
       "      <th>mae</th>\n",
       "      <th>r2</th>\n",
       "      <th>explained_variance</th>\n",
       "    </tr>\n",
       "  </thead>\n",
       "  <tbody>\n",
       "    <tr>\n",
       "      <th>0</th>\n",
       "      <td>0    support vector reg poly2-0\n",
       "0    support v...</td>\n",
       "      <td>0    neuro_harm_top_svrp2.0\n",
       "0    neuro_harm_to...</td>\n",
       "      <td>7.983868</td>\n",
       "      <td>-0.710291</td>\n",
       "      <td>-0.705495</td>\n",
       "    </tr>\n",
       "  </tbody>\n",
       "</table>\n",
       "</div>"
      ],
      "text/plain": [
       "                                           algorithm  \\\n",
       "0  0    support vector reg poly2-0\n",
       "0    support v...   \n",
       "\n",
       "                                           file_name       mae        r2  \\\n",
       "0  0    neuro_harm_top_svrp2.0\n",
       "0    neuro_harm_to...  7.983868 -0.710291   \n",
       "\n",
       "   explained_variance  \n",
       "0           -0.705495  "
      ]
     },
     "execution_count": 120,
     "metadata": {},
     "output_type": "execute_result"
    }
   ],
   "source": [
    "avg_svrp2 = sep.avg_k_folds(svrp2_k_frame)\n",
    "avg_svrp2"
   ]
  },
  {
   "cell_type": "code",
   "execution_count": 121,
   "id": "42d11abe-8f2f-49d0-a597-9f02274c68f4",
   "metadata": {
    "tags": []
   },
   "outputs": [
    {
     "data": {
      "text/html": [
       "<div>\n",
       "<style scoped>\n",
       "    .dataframe tbody tr th:only-of-type {\n",
       "        vertical-align: middle;\n",
       "    }\n",
       "\n",
       "    .dataframe tbody tr th {\n",
       "        vertical-align: top;\n",
       "    }\n",
       "\n",
       "    .dataframe thead th {\n",
       "        text-align: right;\n",
       "    }\n",
       "</style>\n",
       "<table border=\"1\" class=\"dataframe\">\n",
       "  <thead>\n",
       "    <tr style=\"text-align: right;\">\n",
       "      <th></th>\n",
       "      <th>y_test</th>\n",
       "      <th>y_pred</th>\n",
       "    </tr>\n",
       "  </thead>\n",
       "  <tbody>\n",
       "    <tr>\n",
       "      <th>0</th>\n",
       "      <td>21.26</td>\n",
       "      <td>37.810885</td>\n",
       "    </tr>\n",
       "    <tr>\n",
       "      <th>1</th>\n",
       "      <td>30.75</td>\n",
       "      <td>38.017114</td>\n",
       "    </tr>\n",
       "    <tr>\n",
       "      <th>2</th>\n",
       "      <td>41.66</td>\n",
       "      <td>36.068921</td>\n",
       "    </tr>\n",
       "    <tr>\n",
       "      <th>3</th>\n",
       "      <td>31.64</td>\n",
       "      <td>37.036776</td>\n",
       "    </tr>\n",
       "    <tr>\n",
       "      <th>4</th>\n",
       "      <td>37.87</td>\n",
       "      <td>38.576758</td>\n",
       "    </tr>\n",
       "    <tr>\n",
       "      <th>...</th>\n",
       "      <td>...</td>\n",
       "      <td>...</td>\n",
       "    </tr>\n",
       "    <tr>\n",
       "      <th>128</th>\n",
       "      <td>22.95</td>\n",
       "      <td>35.889160</td>\n",
       "    </tr>\n",
       "    <tr>\n",
       "      <th>129</th>\n",
       "      <td>40.28</td>\n",
       "      <td>37.823123</td>\n",
       "    </tr>\n",
       "    <tr>\n",
       "      <th>130</th>\n",
       "      <td>44.15</td>\n",
       "      <td>37.954370</td>\n",
       "    </tr>\n",
       "    <tr>\n",
       "      <th>131</th>\n",
       "      <td>21.42</td>\n",
       "      <td>36.765821</td>\n",
       "    </tr>\n",
       "    <tr>\n",
       "      <th>132</th>\n",
       "      <td>32.58</td>\n",
       "      <td>36.842131</td>\n",
       "    </tr>\n",
       "  </tbody>\n",
       "</table>\n",
       "<p>665 rows × 2 columns</p>\n",
       "</div>"
      ],
      "text/plain": [
       "     y_test     y_pred\n",
       "0     21.26  37.810885\n",
       "1     30.75  38.017114\n",
       "2     41.66  36.068921\n",
       "3     31.64  37.036776\n",
       "4     37.87  38.576758\n",
       "..      ...        ...\n",
       "128   22.95  35.889160\n",
       "129   40.28  37.823123\n",
       "130   44.15  37.954370\n",
       "131   21.42  36.765821\n",
       "132   32.58  36.842131\n",
       "\n",
       "[665 rows x 2 columns]"
      ]
     },
     "execution_count": 121,
     "metadata": {},
     "output_type": "execute_result"
    }
   ],
   "source": [
    "svrp2_y_frame"
   ]
  },
  {
   "cell_type": "code",
   "execution_count": 122,
   "id": "e414bb2f-bac1-4f13-ae25-b27e7573738c",
   "metadata": {
    "tags": []
   },
   "outputs": [],
   "source": [
    "svrp2_y_frame.to_csv(output_folder + '/neuro_harmonized_top_svrp2_y_frame.csv')"
   ]
  },
  {
   "cell_type": "code",
   "execution_count": 123,
   "id": "1d289815-b0ba-47c5-92e7-edc9b2c8039b",
   "metadata": {
    "tags": []
   },
   "outputs": [
    {
     "data": {
      "text/html": [
       "<style>#sk-container-id-16 {color: black;}#sk-container-id-16 pre{padding: 0;}#sk-container-id-16 div.sk-toggleable {background-color: white;}#sk-container-id-16 label.sk-toggleable__label {cursor: pointer;display: block;width: 100%;margin-bottom: 0;padding: 0.3em;box-sizing: border-box;text-align: center;}#sk-container-id-16 label.sk-toggleable__label-arrow:before {content: \"▸\";float: left;margin-right: 0.25em;color: #696969;}#sk-container-id-16 label.sk-toggleable__label-arrow:hover:before {color: black;}#sk-container-id-16 div.sk-estimator:hover label.sk-toggleable__label-arrow:before {color: black;}#sk-container-id-16 div.sk-toggleable__content {max-height: 0;max-width: 0;overflow: hidden;text-align: left;background-color: #f0f8ff;}#sk-container-id-16 div.sk-toggleable__content pre {margin: 0.2em;color: black;border-radius: 0.25em;background-color: #f0f8ff;}#sk-container-id-16 input.sk-toggleable__control:checked~div.sk-toggleable__content {max-height: 200px;max-width: 100%;overflow: auto;}#sk-container-id-16 input.sk-toggleable__control:checked~label.sk-toggleable__label-arrow:before {content: \"▾\";}#sk-container-id-16 div.sk-estimator input.sk-toggleable__control:checked~label.sk-toggleable__label {background-color: #d4ebff;}#sk-container-id-16 div.sk-label input.sk-toggleable__control:checked~label.sk-toggleable__label {background-color: #d4ebff;}#sk-container-id-16 input.sk-hidden--visually {border: 0;clip: rect(1px 1px 1px 1px);clip: rect(1px, 1px, 1px, 1px);height: 1px;margin: -1px;overflow: hidden;padding: 0;position: absolute;width: 1px;}#sk-container-id-16 div.sk-estimator {font-family: monospace;background-color: #f0f8ff;border: 1px dotted black;border-radius: 0.25em;box-sizing: border-box;margin-bottom: 0.5em;}#sk-container-id-16 div.sk-estimator:hover {background-color: #d4ebff;}#sk-container-id-16 div.sk-parallel-item::after {content: \"\";width: 100%;border-bottom: 1px solid gray;flex-grow: 1;}#sk-container-id-16 div.sk-label:hover label.sk-toggleable__label {background-color: #d4ebff;}#sk-container-id-16 div.sk-serial::before {content: \"\";position: absolute;border-left: 1px solid gray;box-sizing: border-box;top: 0;bottom: 0;left: 50%;z-index: 0;}#sk-container-id-16 div.sk-serial {display: flex;flex-direction: column;align-items: center;background-color: white;padding-right: 0.2em;padding-left: 0.2em;position: relative;}#sk-container-id-16 div.sk-item {position: relative;z-index: 1;}#sk-container-id-16 div.sk-parallel {display: flex;align-items: stretch;justify-content: center;background-color: white;position: relative;}#sk-container-id-16 div.sk-item::before, #sk-container-id-16 div.sk-parallel-item::before {content: \"\";position: absolute;border-left: 1px solid gray;box-sizing: border-box;top: 0;bottom: 0;left: 50%;z-index: -1;}#sk-container-id-16 div.sk-parallel-item {display: flex;flex-direction: column;z-index: 1;position: relative;background-color: white;}#sk-container-id-16 div.sk-parallel-item:first-child::after {align-self: flex-end;width: 50%;}#sk-container-id-16 div.sk-parallel-item:last-child::after {align-self: flex-start;width: 50%;}#sk-container-id-16 div.sk-parallel-item:only-child::after {width: 0;}#sk-container-id-16 div.sk-dashed-wrapped {border: 1px dashed gray;margin: 0 0.4em 0.5em 0.4em;box-sizing: border-box;padding-bottom: 0.4em;background-color: white;}#sk-container-id-16 div.sk-label label {font-family: monospace;font-weight: bold;display: inline-block;line-height: 1.2em;}#sk-container-id-16 div.sk-label-container {text-align: center;}#sk-container-id-16 div.sk-container {/* jupyter's `normalize.less` sets `[hidden] { display: none; }` but bootstrap.min.css set `[hidden] { display: none !important; }` so we also need the `!important` here to be able to override the default hidden behavior on the sphinx rendered scikit-learn.org. See: https://github.com/scikit-learn/scikit-learn/issues/21755 */display: inline-block !important;position: relative;}#sk-container-id-16 div.sk-text-repr-fallback {display: none;}</style><div id=\"sk-container-id-16\" class=\"sk-top-container\"><div class=\"sk-text-repr-fallback\"><pre>SVR(degree=2, epsilon=0.2, kernel=&#x27;poly&#x27;)</pre><b>In a Jupyter environment, please rerun this cell to show the HTML representation or trust the notebook. <br />On GitHub, the HTML representation is unable to render, please try loading this page with nbviewer.org.</b></div><div class=\"sk-container\" hidden><div class=\"sk-item\"><div class=\"sk-estimator sk-toggleable\"><input class=\"sk-toggleable__control sk-hidden--visually\" id=\"sk-estimator-id-16\" type=\"checkbox\" checked><label for=\"sk-estimator-id-16\" class=\"sk-toggleable__label sk-toggleable__label-arrow\">SVR</label><div class=\"sk-toggleable__content\"><pre>SVR(degree=2, epsilon=0.2, kernel=&#x27;poly&#x27;)</pre></div></div></div></div></div>"
      ],
      "text/plain": [
       "SVR(degree=2, epsilon=0.2, kernel='poly')"
      ]
     },
     "execution_count": 123,
     "metadata": {},
     "output_type": "execute_result"
    }
   ],
   "source": [
    "svrp2 = models[0]\n",
    "svrp2[0]"
   ]
  },
  {
   "cell_type": "code",
   "execution_count": 124,
   "id": "9dd50b50-a975-43eb-968e-19be2b3f54df",
   "metadata": {
    "tags": []
   },
   "outputs": [
    {
     "name": "stderr",
     "output_type": "stream",
     "text": [
      "C:\\Projects\\cvasl\\extended_harm_paper\\..\\cvasl\\seperated.py:1055: FutureWarning: The behavior of DataFrame concatenation with empty or all-NA entries is deprecated. In a future version, this will no longer exclude empty or all-NA columns when determining the result dtypes. To retain the old behavior, exclude the relevant entries before the concat operation.\n",
      "  mod_results = pd.concat([mod_results, mod_results_current_fold])\n",
      "C:\\Projects\\cvasl\\extended_harm_paper\\..\\cvasl\\seperated.py:1055: FutureWarning: The behavior of DataFrame concatenation with empty or all-NA entries is deprecated. In a future version, this will no longer exclude empty or all-NA columns when determining the result dtypes. To retain the old behavior, exclude the relevant entries before the concat operation.\n",
      "  mod_results = pd.concat([mod_results, mod_results_current_fold])\n",
      "C:\\Projects\\cvasl\\extended_harm_paper\\..\\cvasl\\seperated.py:1055: FutureWarning: The behavior of DataFrame concatenation with empty or all-NA entries is deprecated. In a future version, this will no longer exclude empty or all-NA columns when determining the result dtypes. To retain the old behavior, exclude the relevant entries before the concat operation.\n",
      "  mod_results = pd.concat([mod_results, mod_results_current_fold])\n",
      "C:\\Projects\\cvasl\\extended_harm_paper\\..\\cvasl\\seperated.py:1055: FutureWarning: The behavior of DataFrame concatenation with empty or all-NA entries is deprecated. In a future version, this will no longer exclude empty or all-NA columns when determining the result dtypes. To retain the old behavior, exclude the relevant entries before the concat operation.\n",
      "  mod_results = pd.concat([mod_results, mod_results_current_fold])\n",
      "C:\\Projects\\cvasl\\extended_harm_paper\\..\\cvasl\\seperated.py:1055: FutureWarning: The behavior of DataFrame concatenation with empty or all-NA entries is deprecated. In a future version, this will no longer exclude empty or all-NA columns when determining the result dtypes. To retain the old behavior, exclude the relevant entries before the concat operation.\n",
      "  mod_results = pd.concat([mod_results, mod_results_current_fold])\n"
     ]
    },
    {
     "data": {
      "text/html": [
       "<div>\n",
       "<style scoped>\n",
       "    .dataframe tbody tr th:only-of-type {\n",
       "        vertical-align: middle;\n",
       "    }\n",
       "\n",
       "    .dataframe tbody tr th {\n",
       "        vertical-align: top;\n",
       "    }\n",
       "\n",
       "    .dataframe thead th {\n",
       "        text-align: right;\n",
       "    }\n",
       "</style>\n",
       "<table border=\"1\" class=\"dataframe\">\n",
       "  <thead>\n",
       "    <tr style=\"text-align: right;\">\n",
       "      <th></th>\n",
       "      <th>algorithm</th>\n",
       "      <th>fold</th>\n",
       "      <th>file_name</th>\n",
       "      <th>mae</th>\n",
       "      <th>r2</th>\n",
       "      <th>explained_variance</th>\n",
       "    </tr>\n",
       "  </thead>\n",
       "  <tbody>\n",
       "    <tr>\n",
       "      <th>0</th>\n",
       "      <td>elasticnetCV-0</td>\n",
       "      <td>0</td>\n",
       "      <td>neuro_harm_top_eregr.0</td>\n",
       "      <td>7.373563</td>\n",
       "      <td>0.270913</td>\n",
       "      <td>0.270913</td>\n",
       "    </tr>\n",
       "    <tr>\n",
       "      <th>0</th>\n",
       "      <td>elasticnetCV-1</td>\n",
       "      <td>1</td>\n",
       "      <td>neuro_harm_top_eregr.1</td>\n",
       "      <td>8.536638</td>\n",
       "      <td>-16.621591</td>\n",
       "      <td>-16.468855</td>\n",
       "    </tr>\n",
       "    <tr>\n",
       "      <th>0</th>\n",
       "      <td>elasticnetCV-2</td>\n",
       "      <td>2</td>\n",
       "      <td>neuro_harm_top_eregr.2</td>\n",
       "      <td>6.492187</td>\n",
       "      <td>0.252980</td>\n",
       "      <td>0.255882</td>\n",
       "    </tr>\n",
       "    <tr>\n",
       "      <th>0</th>\n",
       "      <td>elasticnetCV-3</td>\n",
       "      <td>3</td>\n",
       "      <td>neuro_harm_top_eregr.3</td>\n",
       "      <td>7.275052</td>\n",
       "      <td>0.240154</td>\n",
       "      <td>0.244065</td>\n",
       "    </tr>\n",
       "    <tr>\n",
       "      <th>0</th>\n",
       "      <td>elasticnetCV-4</td>\n",
       "      <td>4</td>\n",
       "      <td>neuro_harm_top_eregr.4</td>\n",
       "      <td>7.099334</td>\n",
       "      <td>0.218236</td>\n",
       "      <td>0.219443</td>\n",
       "    </tr>\n",
       "  </tbody>\n",
       "</table>\n",
       "</div>"
      ],
      "text/plain": [
       "        algorithm fold               file_name       mae         r2  \\\n",
       "0  elasticnetCV-0    0  neuro_harm_top_eregr.0  7.373563   0.270913   \n",
       "0  elasticnetCV-1    1  neuro_harm_top_eregr.1  8.536638 -16.621591   \n",
       "0  elasticnetCV-2    2  neuro_harm_top_eregr.2  6.492187   0.252980   \n",
       "0  elasticnetCV-3    3  neuro_harm_top_eregr.3  7.275052   0.240154   \n",
       "0  elasticnetCV-4    4  neuro_harm_top_eregr.4  7.099334   0.218236   \n",
       "\n",
       "   explained_variance  \n",
       "0            0.270913  \n",
       "0          -16.468855  \n",
       "0            0.255882  \n",
       "0            0.244065  \n",
       "0            0.219443  "
      ]
     },
     "execution_count": 124,
     "metadata": {},
     "output_type": "execute_result"
    }
   ],
   "source": [
    "eregr_k_frame, eregr_y_frame, models = sep.stratified_cat_and_cont_categories_shuffle_split('elasticnetCV', 'neuro_harm_top_eregr',  ElasticNetCV(cv=5, random_state=12), ml_matrix, X, y)\n",
    "eregr_k_frame"
   ]
  },
  {
   "cell_type": "code",
   "execution_count": 125,
   "id": "219fe0ee-df70-495a-af67-5286b38f04f1",
   "metadata": {
    "tags": []
   },
   "outputs": [],
   "source": [
    "eregr_k_frame.to_csv(output_folder + '/neuro_harmonized_top_eregr_k_frame.csv')"
   ]
  },
  {
   "cell_type": "code",
   "execution_count": 126,
   "id": "05d7b9c5-3489-4ebf-a880-ec3981d3233b",
   "metadata": {
    "tags": []
   },
   "outputs": [
    {
     "data": {
      "text/html": [
       "<div>\n",
       "<style scoped>\n",
       "    .dataframe tbody tr th:only-of-type {\n",
       "        vertical-align: middle;\n",
       "    }\n",
       "\n",
       "    .dataframe tbody tr th {\n",
       "        vertical-align: top;\n",
       "    }\n",
       "\n",
       "    .dataframe thead th {\n",
       "        text-align: right;\n",
       "    }\n",
       "</style>\n",
       "<table border=\"1\" class=\"dataframe\">\n",
       "  <thead>\n",
       "    <tr style=\"text-align: right;\">\n",
       "      <th></th>\n",
       "      <th>algorithm</th>\n",
       "      <th>file_name</th>\n",
       "      <th>mae</th>\n",
       "      <th>r2</th>\n",
       "      <th>explained_variance</th>\n",
       "    </tr>\n",
       "  </thead>\n",
       "  <tbody>\n",
       "    <tr>\n",
       "      <th>0</th>\n",
       "      <td>0    elasticnetCV-0\n",
       "0    elasticnetCV-1\n",
       "0    e...</td>\n",
       "      <td>0    neuro_harm_top_eregr.0\n",
       "0    neuro_harm_to...</td>\n",
       "      <td>7.355355</td>\n",
       "      <td>-3.127861</td>\n",
       "      <td>-3.095711</td>\n",
       "    </tr>\n",
       "  </tbody>\n",
       "</table>\n",
       "</div>"
      ],
      "text/plain": [
       "                                           algorithm  \\\n",
       "0  0    elasticnetCV-0\n",
       "0    elasticnetCV-1\n",
       "0    e...   \n",
       "\n",
       "                                           file_name       mae        r2  \\\n",
       "0  0    neuro_harm_top_eregr.0\n",
       "0    neuro_harm_to...  7.355355 -3.127861   \n",
       "\n",
       "   explained_variance  \n",
       "0           -3.095711  "
      ]
     },
     "execution_count": 126,
     "metadata": {},
     "output_type": "execute_result"
    }
   ],
   "source": [
    "avg_eregr = sep.avg_k_folds(eregr_k_frame)\n",
    "avg_eregr"
   ]
  },
  {
   "cell_type": "code",
   "execution_count": 127,
   "id": "7169ac3f-b4b6-4ba2-b134-d1d19b20fa7a",
   "metadata": {
    "tags": []
   },
   "outputs": [
    {
     "data": {
      "text/html": [
       "<div>\n",
       "<style scoped>\n",
       "    .dataframe tbody tr th:only-of-type {\n",
       "        vertical-align: middle;\n",
       "    }\n",
       "\n",
       "    .dataframe tbody tr th {\n",
       "        vertical-align: top;\n",
       "    }\n",
       "\n",
       "    .dataframe thead th {\n",
       "        text-align: right;\n",
       "    }\n",
       "</style>\n",
       "<table border=\"1\" class=\"dataframe\">\n",
       "  <thead>\n",
       "    <tr style=\"text-align: right;\">\n",
       "      <th></th>\n",
       "      <th>y_test</th>\n",
       "      <th>y_pred</th>\n",
       "    </tr>\n",
       "  </thead>\n",
       "  <tbody>\n",
       "    <tr>\n",
       "      <th>0</th>\n",
       "      <td>21.26</td>\n",
       "      <td>37.018209</td>\n",
       "    </tr>\n",
       "    <tr>\n",
       "      <th>1</th>\n",
       "      <td>30.75</td>\n",
       "      <td>38.186611</td>\n",
       "    </tr>\n",
       "    <tr>\n",
       "      <th>2</th>\n",
       "      <td>41.66</td>\n",
       "      <td>34.723788</td>\n",
       "    </tr>\n",
       "    <tr>\n",
       "      <th>3</th>\n",
       "      <td>31.64</td>\n",
       "      <td>35.357204</td>\n",
       "    </tr>\n",
       "    <tr>\n",
       "      <th>4</th>\n",
       "      <td>37.87</td>\n",
       "      <td>39.152056</td>\n",
       "    </tr>\n",
       "    <tr>\n",
       "      <th>...</th>\n",
       "      <td>...</td>\n",
       "      <td>...</td>\n",
       "    </tr>\n",
       "    <tr>\n",
       "      <th>128</th>\n",
       "      <td>22.95</td>\n",
       "      <td>33.006853</td>\n",
       "    </tr>\n",
       "    <tr>\n",
       "      <th>129</th>\n",
       "      <td>40.28</td>\n",
       "      <td>37.938408</td>\n",
       "    </tr>\n",
       "    <tr>\n",
       "      <th>130</th>\n",
       "      <td>44.15</td>\n",
       "      <td>38.455808</td>\n",
       "    </tr>\n",
       "    <tr>\n",
       "      <th>131</th>\n",
       "      <td>21.42</td>\n",
       "      <td>34.765851</td>\n",
       "    </tr>\n",
       "    <tr>\n",
       "      <th>132</th>\n",
       "      <td>32.58</td>\n",
       "      <td>35.692456</td>\n",
       "    </tr>\n",
       "  </tbody>\n",
       "</table>\n",
       "<p>665 rows × 2 columns</p>\n",
       "</div>"
      ],
      "text/plain": [
       "     y_test     y_pred\n",
       "0     21.26  37.018209\n",
       "1     30.75  38.186611\n",
       "2     41.66  34.723788\n",
       "3     31.64  35.357204\n",
       "4     37.87  39.152056\n",
       "..      ...        ...\n",
       "128   22.95  33.006853\n",
       "129   40.28  37.938408\n",
       "130   44.15  38.455808\n",
       "131   21.42  34.765851\n",
       "132   32.58  35.692456\n",
       "\n",
       "[665 rows x 2 columns]"
      ]
     },
     "execution_count": 127,
     "metadata": {},
     "output_type": "execute_result"
    }
   ],
   "source": [
    "eregr_y_frame"
   ]
  },
  {
   "cell_type": "code",
   "execution_count": 128,
   "id": "7317caca-0ce5-4bf5-9f29-eb16c2a61a3a",
   "metadata": {
    "tags": []
   },
   "outputs": [],
   "source": [
    "eregr_y_frame.to_csv(output_folder + '/neuro_harmonized_top_eregr_y_frame.csv')"
   ]
  },
  {
   "cell_type": "code",
   "execution_count": 129,
   "id": "d10882f0-9556-4eca-9e5d-cf38f107ecd3",
   "metadata": {
    "tags": []
   },
   "outputs": [
    {
     "data": {
      "text/html": [
       "<style>#sk-container-id-17 {color: black;}#sk-container-id-17 pre{padding: 0;}#sk-container-id-17 div.sk-toggleable {background-color: white;}#sk-container-id-17 label.sk-toggleable__label {cursor: pointer;display: block;width: 100%;margin-bottom: 0;padding: 0.3em;box-sizing: border-box;text-align: center;}#sk-container-id-17 label.sk-toggleable__label-arrow:before {content: \"▸\";float: left;margin-right: 0.25em;color: #696969;}#sk-container-id-17 label.sk-toggleable__label-arrow:hover:before {color: black;}#sk-container-id-17 div.sk-estimator:hover label.sk-toggleable__label-arrow:before {color: black;}#sk-container-id-17 div.sk-toggleable__content {max-height: 0;max-width: 0;overflow: hidden;text-align: left;background-color: #f0f8ff;}#sk-container-id-17 div.sk-toggleable__content pre {margin: 0.2em;color: black;border-radius: 0.25em;background-color: #f0f8ff;}#sk-container-id-17 input.sk-toggleable__control:checked~div.sk-toggleable__content {max-height: 200px;max-width: 100%;overflow: auto;}#sk-container-id-17 input.sk-toggleable__control:checked~label.sk-toggleable__label-arrow:before {content: \"▾\";}#sk-container-id-17 div.sk-estimator input.sk-toggleable__control:checked~label.sk-toggleable__label {background-color: #d4ebff;}#sk-container-id-17 div.sk-label input.sk-toggleable__control:checked~label.sk-toggleable__label {background-color: #d4ebff;}#sk-container-id-17 input.sk-hidden--visually {border: 0;clip: rect(1px 1px 1px 1px);clip: rect(1px, 1px, 1px, 1px);height: 1px;margin: -1px;overflow: hidden;padding: 0;position: absolute;width: 1px;}#sk-container-id-17 div.sk-estimator {font-family: monospace;background-color: #f0f8ff;border: 1px dotted black;border-radius: 0.25em;box-sizing: border-box;margin-bottom: 0.5em;}#sk-container-id-17 div.sk-estimator:hover {background-color: #d4ebff;}#sk-container-id-17 div.sk-parallel-item::after {content: \"\";width: 100%;border-bottom: 1px solid gray;flex-grow: 1;}#sk-container-id-17 div.sk-label:hover label.sk-toggleable__label {background-color: #d4ebff;}#sk-container-id-17 div.sk-serial::before {content: \"\";position: absolute;border-left: 1px solid gray;box-sizing: border-box;top: 0;bottom: 0;left: 50%;z-index: 0;}#sk-container-id-17 div.sk-serial {display: flex;flex-direction: column;align-items: center;background-color: white;padding-right: 0.2em;padding-left: 0.2em;position: relative;}#sk-container-id-17 div.sk-item {position: relative;z-index: 1;}#sk-container-id-17 div.sk-parallel {display: flex;align-items: stretch;justify-content: center;background-color: white;position: relative;}#sk-container-id-17 div.sk-item::before, #sk-container-id-17 div.sk-parallel-item::before {content: \"\";position: absolute;border-left: 1px solid gray;box-sizing: border-box;top: 0;bottom: 0;left: 50%;z-index: -1;}#sk-container-id-17 div.sk-parallel-item {display: flex;flex-direction: column;z-index: 1;position: relative;background-color: white;}#sk-container-id-17 div.sk-parallel-item:first-child::after {align-self: flex-end;width: 50%;}#sk-container-id-17 div.sk-parallel-item:last-child::after {align-self: flex-start;width: 50%;}#sk-container-id-17 div.sk-parallel-item:only-child::after {width: 0;}#sk-container-id-17 div.sk-dashed-wrapped {border: 1px dashed gray;margin: 0 0.4em 0.5em 0.4em;box-sizing: border-box;padding-bottom: 0.4em;background-color: white;}#sk-container-id-17 div.sk-label label {font-family: monospace;font-weight: bold;display: inline-block;line-height: 1.2em;}#sk-container-id-17 div.sk-label-container {text-align: center;}#sk-container-id-17 div.sk-container {/* jupyter's `normalize.less` sets `[hidden] { display: none; }` but bootstrap.min.css set `[hidden] { display: none !important; }` so we also need the `!important` here to be able to override the default hidden behavior on the sphinx rendered scikit-learn.org. See: https://github.com/scikit-learn/scikit-learn/issues/21755 */display: inline-block !important;position: relative;}#sk-container-id-17 div.sk-text-repr-fallback {display: none;}</style><div id=\"sk-container-id-17\" class=\"sk-top-container\"><div class=\"sk-text-repr-fallback\"><pre>ElasticNetCV(cv=5, random_state=12)</pre><b>In a Jupyter environment, please rerun this cell to show the HTML representation or trust the notebook. <br />On GitHub, the HTML representation is unable to render, please try loading this page with nbviewer.org.</b></div><div class=\"sk-container\" hidden><div class=\"sk-item\"><div class=\"sk-estimator sk-toggleable\"><input class=\"sk-toggleable__control sk-hidden--visually\" id=\"sk-estimator-id-17\" type=\"checkbox\" checked><label for=\"sk-estimator-id-17\" class=\"sk-toggleable__label sk-toggleable__label-arrow\">ElasticNetCV</label><div class=\"sk-toggleable__content\"><pre>ElasticNetCV(cv=5, random_state=12)</pre></div></div></div></div></div>"
      ],
      "text/plain": [
       "ElasticNetCV(cv=5, random_state=12)"
      ]
     },
     "execution_count": 129,
     "metadata": {},
     "output_type": "execute_result"
    }
   ],
   "source": [
    "eregr = models[0]\n",
    "eregr[0]"
   ]
  },
  {
   "cell_type": "code",
   "execution_count": 130,
   "id": "4f35b7a5-99f8-42e2-826f-8cecd29ee015",
   "metadata": {
    "tags": []
   },
   "outputs": [
    {
     "name": "stderr",
     "output_type": "stream",
     "text": [
      "C:\\Projects\\cvasl\\extended_harm_paper\\..\\cvasl\\seperated.py:1055: FutureWarning: The behavior of DataFrame concatenation with empty or all-NA entries is deprecated. In a future version, this will no longer exclude empty or all-NA columns when determining the result dtypes. To retain the old behavior, exclude the relevant entries before the concat operation.\n",
      "  mod_results = pd.concat([mod_results, mod_results_current_fold])\n",
      "C:\\Projects\\cvasl\\extended_harm_paper\\..\\cvasl\\seperated.py:1055: FutureWarning: The behavior of DataFrame concatenation with empty or all-NA entries is deprecated. In a future version, this will no longer exclude empty or all-NA columns when determining the result dtypes. To retain the old behavior, exclude the relevant entries before the concat operation.\n",
      "  mod_results = pd.concat([mod_results, mod_results_current_fold])\n",
      "C:\\Projects\\cvasl\\extended_harm_paper\\..\\cvasl\\seperated.py:1055: FutureWarning: The behavior of DataFrame concatenation with empty or all-NA entries is deprecated. In a future version, this will no longer exclude empty or all-NA columns when determining the result dtypes. To retain the old behavior, exclude the relevant entries before the concat operation.\n",
      "  mod_results = pd.concat([mod_results, mod_results_current_fold])\n",
      "C:\\Projects\\cvasl\\extended_harm_paper\\..\\cvasl\\seperated.py:1055: FutureWarning: The behavior of DataFrame concatenation with empty or all-NA entries is deprecated. In a future version, this will no longer exclude empty or all-NA columns when determining the result dtypes. To retain the old behavior, exclude the relevant entries before the concat operation.\n",
      "  mod_results = pd.concat([mod_results, mod_results_current_fold])\n",
      "C:\\Projects\\cvasl\\extended_harm_paper\\..\\cvasl\\seperated.py:1055: FutureWarning: The behavior of DataFrame concatenation with empty or all-NA entries is deprecated. In a future version, this will no longer exclude empty or all-NA columns when determining the result dtypes. To retain the old behavior, exclude the relevant entries before the concat operation.\n",
      "  mod_results = pd.concat([mod_results, mod_results_current_fold])\n"
     ]
    },
    {
     "data": {
      "text/html": [
       "<div>\n",
       "<style scoped>\n",
       "    .dataframe tbody tr th:only-of-type {\n",
       "        vertical-align: middle;\n",
       "    }\n",
       "\n",
       "    .dataframe tbody tr th {\n",
       "        vertical-align: top;\n",
       "    }\n",
       "\n",
       "    .dataframe thead th {\n",
       "        text-align: right;\n",
       "    }\n",
       "</style>\n",
       "<table border=\"1\" class=\"dataframe\">\n",
       "  <thead>\n",
       "    <tr style=\"text-align: right;\">\n",
       "      <th></th>\n",
       "      <th>algorithm</th>\n",
       "      <th>fold</th>\n",
       "      <th>file_name</th>\n",
       "      <th>mae</th>\n",
       "      <th>r2</th>\n",
       "      <th>explained_variance</th>\n",
       "    </tr>\n",
       "  </thead>\n",
       "  <tbody>\n",
       "    <tr>\n",
       "      <th>0</th>\n",
       "      <td>extra trees-0</td>\n",
       "      <td>0</td>\n",
       "      <td>neuro_harm_top_etreg.0</td>\n",
       "      <td>3.830780</td>\n",
       "      <td>0.770955</td>\n",
       "      <td>0.773368</td>\n",
       "    </tr>\n",
       "    <tr>\n",
       "      <th>0</th>\n",
       "      <td>extra trees-1</td>\n",
       "      <td>1</td>\n",
       "      <td>neuro_harm_top_etreg.1</td>\n",
       "      <td>3.679490</td>\n",
       "      <td>0.770494</td>\n",
       "      <td>0.770561</td>\n",
       "    </tr>\n",
       "    <tr>\n",
       "      <th>0</th>\n",
       "      <td>extra trees-2</td>\n",
       "      <td>2</td>\n",
       "      <td>neuro_harm_top_etreg.2</td>\n",
       "      <td>3.561830</td>\n",
       "      <td>0.746806</td>\n",
       "      <td>0.747022</td>\n",
       "    </tr>\n",
       "    <tr>\n",
       "      <th>0</th>\n",
       "      <td>extra trees-3</td>\n",
       "      <td>3</td>\n",
       "      <td>neuro_harm_top_etreg.3</td>\n",
       "      <td>4.024142</td>\n",
       "      <td>0.744218</td>\n",
       "      <td>0.745178</td>\n",
       "    </tr>\n",
       "    <tr>\n",
       "      <th>0</th>\n",
       "      <td>extra trees-4</td>\n",
       "      <td>4</td>\n",
       "      <td>neuro_harm_top_etreg.4</td>\n",
       "      <td>3.539871</td>\n",
       "      <td>0.779604</td>\n",
       "      <td>0.783521</td>\n",
       "    </tr>\n",
       "  </tbody>\n",
       "</table>\n",
       "</div>"
      ],
      "text/plain": [
       "       algorithm fold               file_name       mae        r2  \\\n",
       "0  extra trees-0    0  neuro_harm_top_etreg.0  3.830780  0.770955   \n",
       "0  extra trees-1    1  neuro_harm_top_etreg.1  3.679490  0.770494   \n",
       "0  extra trees-2    2  neuro_harm_top_etreg.2  3.561830  0.746806   \n",
       "0  extra trees-3    3  neuro_harm_top_etreg.3  4.024142  0.744218   \n",
       "0  extra trees-4    4  neuro_harm_top_etreg.4  3.539871  0.779604   \n",
       "\n",
       "   explained_variance  \n",
       "0            0.773368  \n",
       "0            0.770561  \n",
       "0            0.747022  \n",
       "0            0.745178  \n",
       "0            0.783521  "
      ]
     },
     "execution_count": 130,
     "metadata": {},
     "output_type": "execute_result"
    }
   ],
   "source": [
    "etreg_k_frame, etreg_y_frame, models = sep.stratified_cat_and_cont_categories_shuffle_split('extra trees', 'neuro_harm_top_etreg',  ExtraTreesRegressor(n_estimators=100, random_state=0), ml_matrix, X, y)\n",
    "etreg_k_frame"
   ]
  },
  {
   "cell_type": "code",
   "execution_count": 131,
   "id": "26faf749-2df8-4cab-bece-ff8d3d510ae7",
   "metadata": {
    "tags": []
   },
   "outputs": [],
   "source": [
    "etreg_k_frame.to_csv(output_folder + '/neuro_haromized_top_etreg_k_frame.csv')"
   ]
  },
  {
   "cell_type": "code",
   "execution_count": 132,
   "id": "8c28cef5-ca7e-403a-83f2-1641b04e1c42",
   "metadata": {
    "tags": []
   },
   "outputs": [
    {
     "data": {
      "text/html": [
       "<div>\n",
       "<style scoped>\n",
       "    .dataframe tbody tr th:only-of-type {\n",
       "        vertical-align: middle;\n",
       "    }\n",
       "\n",
       "    .dataframe tbody tr th {\n",
       "        vertical-align: top;\n",
       "    }\n",
       "\n",
       "    .dataframe thead th {\n",
       "        text-align: right;\n",
       "    }\n",
       "</style>\n",
       "<table border=\"1\" class=\"dataframe\">\n",
       "  <thead>\n",
       "    <tr style=\"text-align: right;\">\n",
       "      <th></th>\n",
       "      <th>algorithm</th>\n",
       "      <th>file_name</th>\n",
       "      <th>mae</th>\n",
       "      <th>r2</th>\n",
       "      <th>explained_variance</th>\n",
       "    </tr>\n",
       "  </thead>\n",
       "  <tbody>\n",
       "    <tr>\n",
       "      <th>0</th>\n",
       "      <td>0    extra trees-0\n",
       "0    extra trees-1\n",
       "0    ext...</td>\n",
       "      <td>0    neuro_harm_top_etreg.0\n",
       "0    neuro_harm_to...</td>\n",
       "      <td>3.727223</td>\n",
       "      <td>0.762416</td>\n",
       "      <td>0.76393</td>\n",
       "    </tr>\n",
       "  </tbody>\n",
       "</table>\n",
       "</div>"
      ],
      "text/plain": [
       "                                           algorithm  \\\n",
       "0  0    extra trees-0\n",
       "0    extra trees-1\n",
       "0    ext...   \n",
       "\n",
       "                                           file_name       mae        r2  \\\n",
       "0  0    neuro_harm_top_etreg.0\n",
       "0    neuro_harm_to...  3.727223  0.762416   \n",
       "\n",
       "   explained_variance  \n",
       "0             0.76393  "
      ]
     },
     "execution_count": 132,
     "metadata": {},
     "output_type": "execute_result"
    }
   ],
   "source": [
    "avg_etreg = sep.avg_k_folds(etreg_k_frame)\n",
    "avg_etreg"
   ]
  },
  {
   "cell_type": "code",
   "execution_count": 133,
   "id": "4c5ea545-4945-46eb-9105-c96b4b412da9",
   "metadata": {
    "tags": []
   },
   "outputs": [
    {
     "data": {
      "text/html": [
       "<div>\n",
       "<style scoped>\n",
       "    .dataframe tbody tr th:only-of-type {\n",
       "        vertical-align: middle;\n",
       "    }\n",
       "\n",
       "    .dataframe tbody tr th {\n",
       "        vertical-align: top;\n",
       "    }\n",
       "\n",
       "    .dataframe thead th {\n",
       "        text-align: right;\n",
       "    }\n",
       "</style>\n",
       "<table border=\"1\" class=\"dataframe\">\n",
       "  <thead>\n",
       "    <tr style=\"text-align: right;\">\n",
       "      <th></th>\n",
       "      <th>y_test</th>\n",
       "      <th>y_pred</th>\n",
       "    </tr>\n",
       "  </thead>\n",
       "  <tbody>\n",
       "    <tr>\n",
       "      <th>0</th>\n",
       "      <td>21.26</td>\n",
       "      <td>26.6389</td>\n",
       "    </tr>\n",
       "    <tr>\n",
       "      <th>1</th>\n",
       "      <td>30.75</td>\n",
       "      <td>31.2344</td>\n",
       "    </tr>\n",
       "    <tr>\n",
       "      <th>2</th>\n",
       "      <td>41.66</td>\n",
       "      <td>39.5583</td>\n",
       "    </tr>\n",
       "    <tr>\n",
       "      <th>3</th>\n",
       "      <td>31.64</td>\n",
       "      <td>37.0102</td>\n",
       "    </tr>\n",
       "    <tr>\n",
       "      <th>4</th>\n",
       "      <td>37.87</td>\n",
       "      <td>45.4427</td>\n",
       "    </tr>\n",
       "    <tr>\n",
       "      <th>...</th>\n",
       "      <td>...</td>\n",
       "      <td>...</td>\n",
       "    </tr>\n",
       "    <tr>\n",
       "      <th>128</th>\n",
       "      <td>22.95</td>\n",
       "      <td>29.1843</td>\n",
       "    </tr>\n",
       "    <tr>\n",
       "      <th>129</th>\n",
       "      <td>40.28</td>\n",
       "      <td>42.3808</td>\n",
       "    </tr>\n",
       "    <tr>\n",
       "      <th>130</th>\n",
       "      <td>44.15</td>\n",
       "      <td>44.8041</td>\n",
       "    </tr>\n",
       "    <tr>\n",
       "      <th>131</th>\n",
       "      <td>21.42</td>\n",
       "      <td>29.9308</td>\n",
       "    </tr>\n",
       "    <tr>\n",
       "      <th>132</th>\n",
       "      <td>32.58</td>\n",
       "      <td>35.1081</td>\n",
       "    </tr>\n",
       "  </tbody>\n",
       "</table>\n",
       "<p>665 rows × 2 columns</p>\n",
       "</div>"
      ],
      "text/plain": [
       "     y_test   y_pred\n",
       "0     21.26  26.6389\n",
       "1     30.75  31.2344\n",
       "2     41.66  39.5583\n",
       "3     31.64  37.0102\n",
       "4     37.87  45.4427\n",
       "..      ...      ...\n",
       "128   22.95  29.1843\n",
       "129   40.28  42.3808\n",
       "130   44.15  44.8041\n",
       "131   21.42  29.9308\n",
       "132   32.58  35.1081\n",
       "\n",
       "[665 rows x 2 columns]"
      ]
     },
     "execution_count": 133,
     "metadata": {},
     "output_type": "execute_result"
    }
   ],
   "source": [
    "etreg_y_frame"
   ]
  },
  {
   "cell_type": "code",
   "execution_count": 134,
   "id": "672f9426-e53f-4e27-a6b1-62ba1c7fc5e7",
   "metadata": {
    "tags": []
   },
   "outputs": [],
   "source": [
    "etreg_y_frame.to_csv(output_folder + '/neuro_harmonized_top_etreg_y_frame.csv')"
   ]
  },
  {
   "cell_type": "code",
   "execution_count": 135,
   "id": "32825aa1-4910-429a-964a-2b98945dead2",
   "metadata": {
    "tags": []
   },
   "outputs": [
    {
     "data": {
      "text/html": [
       "<style>#sk-container-id-18 {color: black;}#sk-container-id-18 pre{padding: 0;}#sk-container-id-18 div.sk-toggleable {background-color: white;}#sk-container-id-18 label.sk-toggleable__label {cursor: pointer;display: block;width: 100%;margin-bottom: 0;padding: 0.3em;box-sizing: border-box;text-align: center;}#sk-container-id-18 label.sk-toggleable__label-arrow:before {content: \"▸\";float: left;margin-right: 0.25em;color: #696969;}#sk-container-id-18 label.sk-toggleable__label-arrow:hover:before {color: black;}#sk-container-id-18 div.sk-estimator:hover label.sk-toggleable__label-arrow:before {color: black;}#sk-container-id-18 div.sk-toggleable__content {max-height: 0;max-width: 0;overflow: hidden;text-align: left;background-color: #f0f8ff;}#sk-container-id-18 div.sk-toggleable__content pre {margin: 0.2em;color: black;border-radius: 0.25em;background-color: #f0f8ff;}#sk-container-id-18 input.sk-toggleable__control:checked~div.sk-toggleable__content {max-height: 200px;max-width: 100%;overflow: auto;}#sk-container-id-18 input.sk-toggleable__control:checked~label.sk-toggleable__label-arrow:before {content: \"▾\";}#sk-container-id-18 div.sk-estimator input.sk-toggleable__control:checked~label.sk-toggleable__label {background-color: #d4ebff;}#sk-container-id-18 div.sk-label input.sk-toggleable__control:checked~label.sk-toggleable__label {background-color: #d4ebff;}#sk-container-id-18 input.sk-hidden--visually {border: 0;clip: rect(1px 1px 1px 1px);clip: rect(1px, 1px, 1px, 1px);height: 1px;margin: -1px;overflow: hidden;padding: 0;position: absolute;width: 1px;}#sk-container-id-18 div.sk-estimator {font-family: monospace;background-color: #f0f8ff;border: 1px dotted black;border-radius: 0.25em;box-sizing: border-box;margin-bottom: 0.5em;}#sk-container-id-18 div.sk-estimator:hover {background-color: #d4ebff;}#sk-container-id-18 div.sk-parallel-item::after {content: \"\";width: 100%;border-bottom: 1px solid gray;flex-grow: 1;}#sk-container-id-18 div.sk-label:hover label.sk-toggleable__label {background-color: #d4ebff;}#sk-container-id-18 div.sk-serial::before {content: \"\";position: absolute;border-left: 1px solid gray;box-sizing: border-box;top: 0;bottom: 0;left: 50%;z-index: 0;}#sk-container-id-18 div.sk-serial {display: flex;flex-direction: column;align-items: center;background-color: white;padding-right: 0.2em;padding-left: 0.2em;position: relative;}#sk-container-id-18 div.sk-item {position: relative;z-index: 1;}#sk-container-id-18 div.sk-parallel {display: flex;align-items: stretch;justify-content: center;background-color: white;position: relative;}#sk-container-id-18 div.sk-item::before, #sk-container-id-18 div.sk-parallel-item::before {content: \"\";position: absolute;border-left: 1px solid gray;box-sizing: border-box;top: 0;bottom: 0;left: 50%;z-index: -1;}#sk-container-id-18 div.sk-parallel-item {display: flex;flex-direction: column;z-index: 1;position: relative;background-color: white;}#sk-container-id-18 div.sk-parallel-item:first-child::after {align-self: flex-end;width: 50%;}#sk-container-id-18 div.sk-parallel-item:last-child::after {align-self: flex-start;width: 50%;}#sk-container-id-18 div.sk-parallel-item:only-child::after {width: 0;}#sk-container-id-18 div.sk-dashed-wrapped {border: 1px dashed gray;margin: 0 0.4em 0.5em 0.4em;box-sizing: border-box;padding-bottom: 0.4em;background-color: white;}#sk-container-id-18 div.sk-label label {font-family: monospace;font-weight: bold;display: inline-block;line-height: 1.2em;}#sk-container-id-18 div.sk-label-container {text-align: center;}#sk-container-id-18 div.sk-container {/* jupyter's `normalize.less` sets `[hidden] { display: none; }` but bootstrap.min.css set `[hidden] { display: none !important; }` so we also need the `!important` here to be able to override the default hidden behavior on the sphinx rendered scikit-learn.org. See: https://github.com/scikit-learn/scikit-learn/issues/21755 */display: inline-block !important;position: relative;}#sk-container-id-18 div.sk-text-repr-fallback {display: none;}</style><div id=\"sk-container-id-18\" class=\"sk-top-container\"><div class=\"sk-text-repr-fallback\"><pre>ExtraTreesRegressor(random_state=0)</pre><b>In a Jupyter environment, please rerun this cell to show the HTML representation or trust the notebook. <br />On GitHub, the HTML representation is unable to render, please try loading this page with nbviewer.org.</b></div><div class=\"sk-container\" hidden><div class=\"sk-item\"><div class=\"sk-estimator sk-toggleable\"><input class=\"sk-toggleable__control sk-hidden--visually\" id=\"sk-estimator-id-18\" type=\"checkbox\" checked><label for=\"sk-estimator-id-18\" class=\"sk-toggleable__label sk-toggleable__label-arrow\">ExtraTreesRegressor</label><div class=\"sk-toggleable__content\"><pre>ExtraTreesRegressor(random_state=0)</pre></div></div></div></div></div>"
      ],
      "text/plain": [
       "ExtraTreesRegressor(random_state=0)"
      ]
     },
     "execution_count": 135,
     "metadata": {},
     "output_type": "execute_result"
    }
   ],
   "source": [
    "etreg = models[0]\n",
    "etreg[0]"
   ]
  },
  {
   "cell_type": "code",
   "execution_count": 136,
   "id": "5f77ab55-a25f-42b1-a004-bd709625c6b0",
   "metadata": {
    "tags": []
   },
   "outputs": [],
   "source": [
    "## optional save models\n",
    "#joblib.dump(etreg[0], ('../result_models/'+ 'neuro_harm_top_etreg0.sav'))\n",
    "#joblib.dump(etreg[1], ('../result_models/'+ 'neuro_harm_top_etreg1.sav'))\n",
    "#joblib.dump(etreg[2], ('../result_models/'+ 'neuro_harm_top_etreg2.sav'))\n",
    "#joblib.dump(etreg[3], ('../result_models/'+ 'neuro_harm_top_etreg3.sav'))\n",
    "#joblib.dump(etreg[4], ('../result_models/'+ 'neuro_harm_top_etreg4.sav'))"
   ]
  },
  {
   "cell_type": "markdown",
   "id": "63b7a9b2-e911-4a34-9cd4-205d99afb710",
   "metadata": {},
   "source": [
    "Show results ON AVERAGE for each model"
   ]
  },
  {
   "cell_type": "code",
   "execution_count": 137,
   "id": "fe8db746-fe86-47a7-a7d2-2af9f95865de",
   "metadata": {
    "tags": []
   },
   "outputs": [
    {
     "data": {
      "text/html": [
       "<div>\n",
       "<style scoped>\n",
       "    .dataframe tbody tr th:only-of-type {\n",
       "        vertical-align: middle;\n",
       "    }\n",
       "\n",
       "    .dataframe tbody tr th {\n",
       "        vertical-align: top;\n",
       "    }\n",
       "\n",
       "    .dataframe thead th {\n",
       "        text-align: right;\n",
       "    }\n",
       "</style>\n",
       "<table border=\"1\" class=\"dataframe\">\n",
       "  <thead>\n",
       "    <tr style=\"text-align: right;\">\n",
       "      <th></th>\n",
       "      <th>algorithm</th>\n",
       "      <th>file_name</th>\n",
       "      <th>mae</th>\n",
       "      <th>r2</th>\n",
       "      <th>explained_variance</th>\n",
       "    </tr>\n",
       "  </thead>\n",
       "  <tbody>\n",
       "    <tr>\n",
       "      <th>0</th>\n",
       "      <td>0    linear regression-0\n",
       "0    linear regressio...</td>\n",
       "      <td>0    neuro_harm_top_linr.0\n",
       "0    neuro_harm_top...</td>\n",
       "      <td>4.385749</td>\n",
       "      <td>-0.990749</td>\n",
       "      <td>-0.973434</td>\n",
       "    </tr>\n",
       "    <tr>\n",
       "      <th>0</th>\n",
       "      <td>0    lasso regression-0\n",
       "0    lasso regression-...</td>\n",
       "      <td>0    neuro_harm_top_llreg.0\n",
       "0    neuro_harm_to...</td>\n",
       "      <td>4.606305</td>\n",
       "      <td>-0.982330</td>\n",
       "      <td>-0.965768</td>\n",
       "    </tr>\n",
       "    <tr>\n",
       "      <th>0</th>\n",
       "      <td>0    decision tree-0\n",
       "0    decision tree-1\n",
       "0   ...</td>\n",
       "      <td>0    neuro_harm_top_dtree.0\n",
       "0    neuro_harm_to...</td>\n",
       "      <td>5.211895</td>\n",
       "      <td>0.500247</td>\n",
       "      <td>0.509748</td>\n",
       "    </tr>\n",
       "    <tr>\n",
       "      <th>0</th>\n",
       "      <td>0    MLP regression-0\n",
       "0    MLP regression-1\n",
       "0 ...</td>\n",
       "      <td>0    neuro_harm_top_regr.0\n",
       "0    neuro_harm_top...</td>\n",
       "      <td>6.123755</td>\n",
       "      <td>-3.313973</td>\n",
       "      <td>-3.289745</td>\n",
       "    </tr>\n",
       "    <tr>\n",
       "      <th>0</th>\n",
       "      <td>0    support vector reg poly2-0\n",
       "0    support v...</td>\n",
       "      <td>0    neuro_harm_top_svrp2.0\n",
       "0    neuro_harm_to...</td>\n",
       "      <td>7.983868</td>\n",
       "      <td>-0.710291</td>\n",
       "      <td>-0.705495</td>\n",
       "    </tr>\n",
       "    <tr>\n",
       "      <th>0</th>\n",
       "      <td>0    elasticnetCV-0\n",
       "0    elasticnetCV-1\n",
       "0    e...</td>\n",
       "      <td>0    neuro_harm_top_eregr.0\n",
       "0    neuro_harm_to...</td>\n",
       "      <td>7.355355</td>\n",
       "      <td>-3.127861</td>\n",
       "      <td>-3.095711</td>\n",
       "    </tr>\n",
       "    <tr>\n",
       "      <th>0</th>\n",
       "      <td>0    extra trees-0\n",
       "0    extra trees-1\n",
       "0    ext...</td>\n",
       "      <td>0    neuro_harm_top_etreg.0\n",
       "0    neuro_harm_to...</td>\n",
       "      <td>3.727223</td>\n",
       "      <td>0.762416</td>\n",
       "      <td>0.763930</td>\n",
       "    </tr>\n",
       "  </tbody>\n",
       "</table>\n",
       "</div>"
      ],
      "text/plain": [
       "                                           algorithm  \\\n",
       "0  0    linear regression-0\n",
       "0    linear regressio...   \n",
       "0  0    lasso regression-0\n",
       "0    lasso regression-...   \n",
       "0  0    decision tree-0\n",
       "0    decision tree-1\n",
       "0   ...   \n",
       "0  0    MLP regression-0\n",
       "0    MLP regression-1\n",
       "0 ...   \n",
       "0  0    support vector reg poly2-0\n",
       "0    support v...   \n",
       "0  0    elasticnetCV-0\n",
       "0    elasticnetCV-1\n",
       "0    e...   \n",
       "0  0    extra trees-0\n",
       "0    extra trees-1\n",
       "0    ext...   \n",
       "\n",
       "                                           file_name       mae        r2  \\\n",
       "0  0    neuro_harm_top_linr.0\n",
       "0    neuro_harm_top...  4.385749 -0.990749   \n",
       "0  0    neuro_harm_top_llreg.0\n",
       "0    neuro_harm_to...  4.606305 -0.982330   \n",
       "0  0    neuro_harm_top_dtree.0\n",
       "0    neuro_harm_to...  5.211895  0.500247   \n",
       "0  0    neuro_harm_top_regr.0\n",
       "0    neuro_harm_top...  6.123755 -3.313973   \n",
       "0  0    neuro_harm_top_svrp2.0\n",
       "0    neuro_harm_to...  7.983868 -0.710291   \n",
       "0  0    neuro_harm_top_eregr.0\n",
       "0    neuro_harm_to...  7.355355 -3.127861   \n",
       "0  0    neuro_harm_top_etreg.0\n",
       "0    neuro_harm_to...  3.727223  0.762416   \n",
       "\n",
       "   explained_variance  \n",
       "0           -0.973434  \n",
       "0           -0.965768  \n",
       "0            0.509748  \n",
       "0           -3.289745  \n",
       "0           -0.705495  \n",
       "0           -3.095711  \n",
       "0            0.763930  "
      ]
     },
     "execution_count": 137,
     "metadata": {},
     "output_type": "execute_result"
    }
   ],
   "source": [
    "top_based_neuro_harmonized_on_testtop =pd.concat([avg_linr,\n",
    "                   avg_llreg,\n",
    "                   avg_dtree,\n",
    "                   avg_regr,\n",
    "                   avg_svrp2,\n",
    "                   avg_eregr,\n",
    "                   avg_etreg],\n",
    "                  axis=0)\n",
    "top_based_neuro_harmonized_on_testtop"
   ]
  },
  {
   "cell_type": "code",
   "execution_count": 138,
   "id": "bfdf399a-2d28-45bf-9477-70ef273072f2",
   "metadata": {
    "tags": []
   },
   "outputs": [],
   "source": [
    "top_based_neuro_harmonized_on_testtop.to_csv(output_folder + '/top_based_neuro_harmonized_on_topt_AVERAGES.csv')"
   ]
  },
  {
   "cell_type": "markdown",
   "id": "b2066ec9-2eb8-4b3f-92c2-f898170023d0",
   "metadata": {},
   "source": [
    "## Now we will build  models based on the whole harmonized StrokeTOP dataset, and apply them to StrokeMRI. "
   ]
  },
  {
   "cell_type": "code",
   "execution_count": 139,
   "id": "af493611-4677-45b0-89c4-d2ec17eff6b0",
   "metadata": {
    "tags": []
   },
   "outputs": [],
   "source": [
    "ml_matrix = TOP.drop('participant_id', axis=1)\n",
    "X = ml_matrix.drop('age', axis =1)\n",
    "X = X.values\n",
    "X = X.astype('float')\n",
    "y = ml_matrix['age'].values\n",
    "y=y.astype('float')"
   ]
  },
  {
   "cell_type": "code",
   "execution_count": 140,
   "id": "28b6a152-5ab1-495a-aa8e-b6405608a4b4",
   "metadata": {
    "tags": []
   },
   "outputs": [],
   "source": [
    "# now we decide to do no test train split, rather take all\n",
    "X_train = X\n",
    "y_train = y"
   ]
  },
  {
   "cell_type": "code",
   "execution_count": 141,
   "id": "ed620175-a37f-495c-a718-5c2b86eff5b8",
   "metadata": {
    "tags": []
   },
   "outputs": [
    {
     "data": {
      "text/html": [
       "<style>#sk-container-id-19 {color: black;}#sk-container-id-19 pre{padding: 0;}#sk-container-id-19 div.sk-toggleable {background-color: white;}#sk-container-id-19 label.sk-toggleable__label {cursor: pointer;display: block;width: 100%;margin-bottom: 0;padding: 0.3em;box-sizing: border-box;text-align: center;}#sk-container-id-19 label.sk-toggleable__label-arrow:before {content: \"▸\";float: left;margin-right: 0.25em;color: #696969;}#sk-container-id-19 label.sk-toggleable__label-arrow:hover:before {color: black;}#sk-container-id-19 div.sk-estimator:hover label.sk-toggleable__label-arrow:before {color: black;}#sk-container-id-19 div.sk-toggleable__content {max-height: 0;max-width: 0;overflow: hidden;text-align: left;background-color: #f0f8ff;}#sk-container-id-19 div.sk-toggleable__content pre {margin: 0.2em;color: black;border-radius: 0.25em;background-color: #f0f8ff;}#sk-container-id-19 input.sk-toggleable__control:checked~div.sk-toggleable__content {max-height: 200px;max-width: 100%;overflow: auto;}#sk-container-id-19 input.sk-toggleable__control:checked~label.sk-toggleable__label-arrow:before {content: \"▾\";}#sk-container-id-19 div.sk-estimator input.sk-toggleable__control:checked~label.sk-toggleable__label {background-color: #d4ebff;}#sk-container-id-19 div.sk-label input.sk-toggleable__control:checked~label.sk-toggleable__label {background-color: #d4ebff;}#sk-container-id-19 input.sk-hidden--visually {border: 0;clip: rect(1px 1px 1px 1px);clip: rect(1px, 1px, 1px, 1px);height: 1px;margin: -1px;overflow: hidden;padding: 0;position: absolute;width: 1px;}#sk-container-id-19 div.sk-estimator {font-family: monospace;background-color: #f0f8ff;border: 1px dotted black;border-radius: 0.25em;box-sizing: border-box;margin-bottom: 0.5em;}#sk-container-id-19 div.sk-estimator:hover {background-color: #d4ebff;}#sk-container-id-19 div.sk-parallel-item::after {content: \"\";width: 100%;border-bottom: 1px solid gray;flex-grow: 1;}#sk-container-id-19 div.sk-label:hover label.sk-toggleable__label {background-color: #d4ebff;}#sk-container-id-19 div.sk-serial::before {content: \"\";position: absolute;border-left: 1px solid gray;box-sizing: border-box;top: 0;bottom: 0;left: 50%;z-index: 0;}#sk-container-id-19 div.sk-serial {display: flex;flex-direction: column;align-items: center;background-color: white;padding-right: 0.2em;padding-left: 0.2em;position: relative;}#sk-container-id-19 div.sk-item {position: relative;z-index: 1;}#sk-container-id-19 div.sk-parallel {display: flex;align-items: stretch;justify-content: center;background-color: white;position: relative;}#sk-container-id-19 div.sk-item::before, #sk-container-id-19 div.sk-parallel-item::before {content: \"\";position: absolute;border-left: 1px solid gray;box-sizing: border-box;top: 0;bottom: 0;left: 50%;z-index: -1;}#sk-container-id-19 div.sk-parallel-item {display: flex;flex-direction: column;z-index: 1;position: relative;background-color: white;}#sk-container-id-19 div.sk-parallel-item:first-child::after {align-self: flex-end;width: 50%;}#sk-container-id-19 div.sk-parallel-item:last-child::after {align-self: flex-start;width: 50%;}#sk-container-id-19 div.sk-parallel-item:only-child::after {width: 0;}#sk-container-id-19 div.sk-dashed-wrapped {border: 1px dashed gray;margin: 0 0.4em 0.5em 0.4em;box-sizing: border-box;padding-bottom: 0.4em;background-color: white;}#sk-container-id-19 div.sk-label label {font-family: monospace;font-weight: bold;display: inline-block;line-height: 1.2em;}#sk-container-id-19 div.sk-label-container {text-align: center;}#sk-container-id-19 div.sk-container {/* jupyter's `normalize.less` sets `[hidden] { display: none; }` but bootstrap.min.css set `[hidden] { display: none !important; }` so we also need the `!important` here to be able to override the default hidden behavior on the sphinx rendered scikit-learn.org. See: https://github.com/scikit-learn/scikit-learn/issues/21755 */display: inline-block !important;position: relative;}#sk-container-id-19 div.sk-text-repr-fallback {display: none;}</style><div id=\"sk-container-id-19\" class=\"sk-top-container\"><div class=\"sk-text-repr-fallback\"><pre>LinearRegression()</pre><b>In a Jupyter environment, please rerun this cell to show the HTML representation or trust the notebook. <br />On GitHub, the HTML representation is unable to render, please try loading this page with nbviewer.org.</b></div><div class=\"sk-container\" hidden><div class=\"sk-item\"><div class=\"sk-estimator sk-toggleable\"><input class=\"sk-toggleable__control sk-hidden--visually\" id=\"sk-estimator-id-19\" type=\"checkbox\" checked><label for=\"sk-estimator-id-19\" class=\"sk-toggleable__label sk-toggleable__label-arrow\">LinearRegression</label><div class=\"sk-toggleable__content\"><pre>LinearRegression()</pre></div></div></div></div></div>"
      ],
      "text/plain": [
       "LinearRegression()"
      ]
     },
     "execution_count": 141,
     "metadata": {},
     "output_type": "execute_result"
    }
   ],
   "source": [
    "TOPlinr = LinearRegression()\n",
    "TOPlinr.fit(X_train, y_train)"
   ]
  },
  {
   "cell_type": "code",
   "execution_count": 142,
   "id": "85054bbf-0d54-418b-9ffa-5c1fdee9d1fe",
   "metadata": {
    "tags": []
   },
   "outputs": [
    {
     "data": {
      "text/html": [
       "<style>#sk-container-id-20 {color: black;}#sk-container-id-20 pre{padding: 0;}#sk-container-id-20 div.sk-toggleable {background-color: white;}#sk-container-id-20 label.sk-toggleable__label {cursor: pointer;display: block;width: 100%;margin-bottom: 0;padding: 0.3em;box-sizing: border-box;text-align: center;}#sk-container-id-20 label.sk-toggleable__label-arrow:before {content: \"▸\";float: left;margin-right: 0.25em;color: #696969;}#sk-container-id-20 label.sk-toggleable__label-arrow:hover:before {color: black;}#sk-container-id-20 div.sk-estimator:hover label.sk-toggleable__label-arrow:before {color: black;}#sk-container-id-20 div.sk-toggleable__content {max-height: 0;max-width: 0;overflow: hidden;text-align: left;background-color: #f0f8ff;}#sk-container-id-20 div.sk-toggleable__content pre {margin: 0.2em;color: black;border-radius: 0.25em;background-color: #f0f8ff;}#sk-container-id-20 input.sk-toggleable__control:checked~div.sk-toggleable__content {max-height: 200px;max-width: 100%;overflow: auto;}#sk-container-id-20 input.sk-toggleable__control:checked~label.sk-toggleable__label-arrow:before {content: \"▾\";}#sk-container-id-20 div.sk-estimator input.sk-toggleable__control:checked~label.sk-toggleable__label {background-color: #d4ebff;}#sk-container-id-20 div.sk-label input.sk-toggleable__control:checked~label.sk-toggleable__label {background-color: #d4ebff;}#sk-container-id-20 input.sk-hidden--visually {border: 0;clip: rect(1px 1px 1px 1px);clip: rect(1px, 1px, 1px, 1px);height: 1px;margin: -1px;overflow: hidden;padding: 0;position: absolute;width: 1px;}#sk-container-id-20 div.sk-estimator {font-family: monospace;background-color: #f0f8ff;border: 1px dotted black;border-radius: 0.25em;box-sizing: border-box;margin-bottom: 0.5em;}#sk-container-id-20 div.sk-estimator:hover {background-color: #d4ebff;}#sk-container-id-20 div.sk-parallel-item::after {content: \"\";width: 100%;border-bottom: 1px solid gray;flex-grow: 1;}#sk-container-id-20 div.sk-label:hover label.sk-toggleable__label {background-color: #d4ebff;}#sk-container-id-20 div.sk-serial::before {content: \"\";position: absolute;border-left: 1px solid gray;box-sizing: border-box;top: 0;bottom: 0;left: 50%;z-index: 0;}#sk-container-id-20 div.sk-serial {display: flex;flex-direction: column;align-items: center;background-color: white;padding-right: 0.2em;padding-left: 0.2em;position: relative;}#sk-container-id-20 div.sk-item {position: relative;z-index: 1;}#sk-container-id-20 div.sk-parallel {display: flex;align-items: stretch;justify-content: center;background-color: white;position: relative;}#sk-container-id-20 div.sk-item::before, #sk-container-id-20 div.sk-parallel-item::before {content: \"\";position: absolute;border-left: 1px solid gray;box-sizing: border-box;top: 0;bottom: 0;left: 50%;z-index: -1;}#sk-container-id-20 div.sk-parallel-item {display: flex;flex-direction: column;z-index: 1;position: relative;background-color: white;}#sk-container-id-20 div.sk-parallel-item:first-child::after {align-self: flex-end;width: 50%;}#sk-container-id-20 div.sk-parallel-item:last-child::after {align-self: flex-start;width: 50%;}#sk-container-id-20 div.sk-parallel-item:only-child::after {width: 0;}#sk-container-id-20 div.sk-dashed-wrapped {border: 1px dashed gray;margin: 0 0.4em 0.5em 0.4em;box-sizing: border-box;padding-bottom: 0.4em;background-color: white;}#sk-container-id-20 div.sk-label label {font-family: monospace;font-weight: bold;display: inline-block;line-height: 1.2em;}#sk-container-id-20 div.sk-label-container {text-align: center;}#sk-container-id-20 div.sk-container {/* jupyter's `normalize.less` sets `[hidden] { display: none; }` but bootstrap.min.css set `[hidden] { display: none !important; }` so we also need the `!important` here to be able to override the default hidden behavior on the sphinx rendered scikit-learn.org. See: https://github.com/scikit-learn/scikit-learn/issues/21755 */display: inline-block !important;position: relative;}#sk-container-id-20 div.sk-text-repr-fallback {display: none;}</style><div id=\"sk-container-id-20\" class=\"sk-top-container\"><div class=\"sk-text-repr-fallback\"><pre>LassoLars(alpha=0.01)</pre><b>In a Jupyter environment, please rerun this cell to show the HTML representation or trust the notebook. <br />On GitHub, the HTML representation is unable to render, please try loading this page with nbviewer.org.</b></div><div class=\"sk-container\" hidden><div class=\"sk-item\"><div class=\"sk-estimator sk-toggleable\"><input class=\"sk-toggleable__control sk-hidden--visually\" id=\"sk-estimator-id-20\" type=\"checkbox\" checked><label for=\"sk-estimator-id-20\" class=\"sk-toggleable__label sk-toggleable__label-arrow\">LassoLars</label><div class=\"sk-toggleable__content\"><pre>LassoLars(alpha=0.01)</pre></div></div></div></div></div>"
      ],
      "text/plain": [
       "LassoLars(alpha=0.01)"
      ]
     },
     "execution_count": 142,
     "metadata": {},
     "output_type": "execute_result"
    }
   ],
   "source": [
    "TOPllreg = linear_model.LassoLars(alpha=0.01)\n",
    "TOPllreg.fit(X_train, y_train)"
   ]
  },
  {
   "cell_type": "code",
   "execution_count": 143,
   "id": "27c850f6-c88d-4c25-8143-e50e90acb39e",
   "metadata": {
    "tags": []
   },
   "outputs": [
    {
     "data": {
      "text/html": [
       "<style>#sk-container-id-21 {color: black;}#sk-container-id-21 pre{padding: 0;}#sk-container-id-21 div.sk-toggleable {background-color: white;}#sk-container-id-21 label.sk-toggleable__label {cursor: pointer;display: block;width: 100%;margin-bottom: 0;padding: 0.3em;box-sizing: border-box;text-align: center;}#sk-container-id-21 label.sk-toggleable__label-arrow:before {content: \"▸\";float: left;margin-right: 0.25em;color: #696969;}#sk-container-id-21 label.sk-toggleable__label-arrow:hover:before {color: black;}#sk-container-id-21 div.sk-estimator:hover label.sk-toggleable__label-arrow:before {color: black;}#sk-container-id-21 div.sk-toggleable__content {max-height: 0;max-width: 0;overflow: hidden;text-align: left;background-color: #f0f8ff;}#sk-container-id-21 div.sk-toggleable__content pre {margin: 0.2em;color: black;border-radius: 0.25em;background-color: #f0f8ff;}#sk-container-id-21 input.sk-toggleable__control:checked~div.sk-toggleable__content {max-height: 200px;max-width: 100%;overflow: auto;}#sk-container-id-21 input.sk-toggleable__control:checked~label.sk-toggleable__label-arrow:before {content: \"▾\";}#sk-container-id-21 div.sk-estimator input.sk-toggleable__control:checked~label.sk-toggleable__label {background-color: #d4ebff;}#sk-container-id-21 div.sk-label input.sk-toggleable__control:checked~label.sk-toggleable__label {background-color: #d4ebff;}#sk-container-id-21 input.sk-hidden--visually {border: 0;clip: rect(1px 1px 1px 1px);clip: rect(1px, 1px, 1px, 1px);height: 1px;margin: -1px;overflow: hidden;padding: 0;position: absolute;width: 1px;}#sk-container-id-21 div.sk-estimator {font-family: monospace;background-color: #f0f8ff;border: 1px dotted black;border-radius: 0.25em;box-sizing: border-box;margin-bottom: 0.5em;}#sk-container-id-21 div.sk-estimator:hover {background-color: #d4ebff;}#sk-container-id-21 div.sk-parallel-item::after {content: \"\";width: 100%;border-bottom: 1px solid gray;flex-grow: 1;}#sk-container-id-21 div.sk-label:hover label.sk-toggleable__label {background-color: #d4ebff;}#sk-container-id-21 div.sk-serial::before {content: \"\";position: absolute;border-left: 1px solid gray;box-sizing: border-box;top: 0;bottom: 0;left: 50%;z-index: 0;}#sk-container-id-21 div.sk-serial {display: flex;flex-direction: column;align-items: center;background-color: white;padding-right: 0.2em;padding-left: 0.2em;position: relative;}#sk-container-id-21 div.sk-item {position: relative;z-index: 1;}#sk-container-id-21 div.sk-parallel {display: flex;align-items: stretch;justify-content: center;background-color: white;position: relative;}#sk-container-id-21 div.sk-item::before, #sk-container-id-21 div.sk-parallel-item::before {content: \"\";position: absolute;border-left: 1px solid gray;box-sizing: border-box;top: 0;bottom: 0;left: 50%;z-index: -1;}#sk-container-id-21 div.sk-parallel-item {display: flex;flex-direction: column;z-index: 1;position: relative;background-color: white;}#sk-container-id-21 div.sk-parallel-item:first-child::after {align-self: flex-end;width: 50%;}#sk-container-id-21 div.sk-parallel-item:last-child::after {align-self: flex-start;width: 50%;}#sk-container-id-21 div.sk-parallel-item:only-child::after {width: 0;}#sk-container-id-21 div.sk-dashed-wrapped {border: 1px dashed gray;margin: 0 0.4em 0.5em 0.4em;box-sizing: border-box;padding-bottom: 0.4em;background-color: white;}#sk-container-id-21 div.sk-label label {font-family: monospace;font-weight: bold;display: inline-block;line-height: 1.2em;}#sk-container-id-21 div.sk-label-container {text-align: center;}#sk-container-id-21 div.sk-container {/* jupyter's `normalize.less` sets `[hidden] { display: none; }` but bootstrap.min.css set `[hidden] { display: none !important; }` so we also need the `!important` here to be able to override the default hidden behavior on the sphinx rendered scikit-learn.org. See: https://github.com/scikit-learn/scikit-learn/issues/21755 */display: inline-block !important;position: relative;}#sk-container-id-21 div.sk-text-repr-fallback {display: none;}</style><div id=\"sk-container-id-21\" class=\"sk-top-container\"><div class=\"sk-text-repr-fallback\"><pre>ElasticNetCV(cv=5, random_state=17)</pre><b>In a Jupyter environment, please rerun this cell to show the HTML representation or trust the notebook. <br />On GitHub, the HTML representation is unable to render, please try loading this page with nbviewer.org.</b></div><div class=\"sk-container\" hidden><div class=\"sk-item\"><div class=\"sk-estimator sk-toggleable\"><input class=\"sk-toggleable__control sk-hidden--visually\" id=\"sk-estimator-id-21\" type=\"checkbox\" checked><label for=\"sk-estimator-id-21\" class=\"sk-toggleable__label sk-toggleable__label-arrow\">ElasticNetCV</label><div class=\"sk-toggleable__content\"><pre>ElasticNetCV(cv=5, random_state=17)</pre></div></div></div></div></div>"
      ],
      "text/plain": [
       "ElasticNetCV(cv=5, random_state=17)"
      ]
     },
     "execution_count": 143,
     "metadata": {},
     "output_type": "execute_result"
    }
   ],
   "source": [
    "TOPeregr = ElasticNetCV(cv=5, random_state=17)\n",
    "TOPeregr.fit(X_train, y_train)"
   ]
  },
  {
   "cell_type": "code",
   "execution_count": 144,
   "id": "5ed15811-5115-4579-b9e6-8c7b5461248e",
   "metadata": {
    "tags": []
   },
   "outputs": [
    {
     "data": {
      "text/html": [
       "<style>#sk-container-id-22 {color: black;}#sk-container-id-22 pre{padding: 0;}#sk-container-id-22 div.sk-toggleable {background-color: white;}#sk-container-id-22 label.sk-toggleable__label {cursor: pointer;display: block;width: 100%;margin-bottom: 0;padding: 0.3em;box-sizing: border-box;text-align: center;}#sk-container-id-22 label.sk-toggleable__label-arrow:before {content: \"▸\";float: left;margin-right: 0.25em;color: #696969;}#sk-container-id-22 label.sk-toggleable__label-arrow:hover:before {color: black;}#sk-container-id-22 div.sk-estimator:hover label.sk-toggleable__label-arrow:before {color: black;}#sk-container-id-22 div.sk-toggleable__content {max-height: 0;max-width: 0;overflow: hidden;text-align: left;background-color: #f0f8ff;}#sk-container-id-22 div.sk-toggleable__content pre {margin: 0.2em;color: black;border-radius: 0.25em;background-color: #f0f8ff;}#sk-container-id-22 input.sk-toggleable__control:checked~div.sk-toggleable__content {max-height: 200px;max-width: 100%;overflow: auto;}#sk-container-id-22 input.sk-toggleable__control:checked~label.sk-toggleable__label-arrow:before {content: \"▾\";}#sk-container-id-22 div.sk-estimator input.sk-toggleable__control:checked~label.sk-toggleable__label {background-color: #d4ebff;}#sk-container-id-22 div.sk-label input.sk-toggleable__control:checked~label.sk-toggleable__label {background-color: #d4ebff;}#sk-container-id-22 input.sk-hidden--visually {border: 0;clip: rect(1px 1px 1px 1px);clip: rect(1px, 1px, 1px, 1px);height: 1px;margin: -1px;overflow: hidden;padding: 0;position: absolute;width: 1px;}#sk-container-id-22 div.sk-estimator {font-family: monospace;background-color: #f0f8ff;border: 1px dotted black;border-radius: 0.25em;box-sizing: border-box;margin-bottom: 0.5em;}#sk-container-id-22 div.sk-estimator:hover {background-color: #d4ebff;}#sk-container-id-22 div.sk-parallel-item::after {content: \"\";width: 100%;border-bottom: 1px solid gray;flex-grow: 1;}#sk-container-id-22 div.sk-label:hover label.sk-toggleable__label {background-color: #d4ebff;}#sk-container-id-22 div.sk-serial::before {content: \"\";position: absolute;border-left: 1px solid gray;box-sizing: border-box;top: 0;bottom: 0;left: 50%;z-index: 0;}#sk-container-id-22 div.sk-serial {display: flex;flex-direction: column;align-items: center;background-color: white;padding-right: 0.2em;padding-left: 0.2em;position: relative;}#sk-container-id-22 div.sk-item {position: relative;z-index: 1;}#sk-container-id-22 div.sk-parallel {display: flex;align-items: stretch;justify-content: center;background-color: white;position: relative;}#sk-container-id-22 div.sk-item::before, #sk-container-id-22 div.sk-parallel-item::before {content: \"\";position: absolute;border-left: 1px solid gray;box-sizing: border-box;top: 0;bottom: 0;left: 50%;z-index: -1;}#sk-container-id-22 div.sk-parallel-item {display: flex;flex-direction: column;z-index: 1;position: relative;background-color: white;}#sk-container-id-22 div.sk-parallel-item:first-child::after {align-self: flex-end;width: 50%;}#sk-container-id-22 div.sk-parallel-item:last-child::after {align-self: flex-start;width: 50%;}#sk-container-id-22 div.sk-parallel-item:only-child::after {width: 0;}#sk-container-id-22 div.sk-dashed-wrapped {border: 1px dashed gray;margin: 0 0.4em 0.5em 0.4em;box-sizing: border-box;padding-bottom: 0.4em;background-color: white;}#sk-container-id-22 div.sk-label label {font-family: monospace;font-weight: bold;display: inline-block;line-height: 1.2em;}#sk-container-id-22 div.sk-label-container {text-align: center;}#sk-container-id-22 div.sk-container {/* jupyter's `normalize.less` sets `[hidden] { display: none; }` but bootstrap.min.css set `[hidden] { display: none !important; }` so we also need the `!important` here to be able to override the default hidden behavior on the sphinx rendered scikit-learn.org. See: https://github.com/scikit-learn/scikit-learn/issues/21755 */display: inline-block !important;position: relative;}#sk-container-id-22 div.sk-text-repr-fallback {display: none;}</style><div id=\"sk-container-id-22\" class=\"sk-top-container\"><div class=\"sk-text-repr-fallback\"><pre>ExtraTreesRegressor(random_state=0)</pre><b>In a Jupyter environment, please rerun this cell to show the HTML representation or trust the notebook. <br />On GitHub, the HTML representation is unable to render, please try loading this page with nbviewer.org.</b></div><div class=\"sk-container\" hidden><div class=\"sk-item\"><div class=\"sk-estimator sk-toggleable\"><input class=\"sk-toggleable__control sk-hidden--visually\" id=\"sk-estimator-id-22\" type=\"checkbox\" checked><label for=\"sk-estimator-id-22\" class=\"sk-toggleable__label sk-toggleable__label-arrow\">ExtraTreesRegressor</label><div class=\"sk-toggleable__content\"><pre>ExtraTreesRegressor(random_state=0)</pre></div></div></div></div></div>"
      ],
      "text/plain": [
       "ExtraTreesRegressor(random_state=0)"
      ]
     },
     "execution_count": 144,
     "metadata": {},
     "output_type": "execute_result"
    }
   ],
   "source": [
    "TOPetreg = ExtraTreesRegressor(n_estimators=100, random_state=0)\n",
    "TOPetreg.fit(X_train, y_train)"
   ]
  },
  {
   "cell_type": "markdown",
   "id": "b1e2da0f-40c9-46aa-9559-966fab9615e8",
   "metadata": {
    "tags": []
   },
   "source": [
    "##  Save these four best models"
   ]
  },
  {
   "cell_type": "code",
   "execution_count": 145,
   "id": "88080b33-5f92-4718-90d9-994fc75fdd5b",
   "metadata": {
    "tags": []
   },
   "outputs": [],
   "source": [
    "## optional save models\n",
    "#joblib.dump(TOPlinr, ('../result_models/' + 'neuro_harm_whole_top_linr.sav'))\n",
    "#joblib.dump(TOPllreg, ('../result_models/'+ 'neuro_harm_whole_top_llreg1.sav'))\n",
    "#joblib.dump(TOPeregr, ('../result_models/'+ 'neuro_harm_whole_top_eregr3.sav'))\n",
    "#joblib.dump(TOPetreg, ('../result_models/'+ 'neuro_harm_whole_top_etreg4.sav'))"
   ]
  },
  {
   "cell_type": "markdown",
   "id": "17e6797a-b1c4-4587-8255-c1a274056cd9",
   "metadata": {},
   "source": [
    "# Running whole TOP model over MRI dataset"
   ]
  },
  {
   "cell_type": "code",
   "execution_count": 146,
   "id": "58270c70-d51a-4698-8e39-8aec5d3070d8",
   "metadata": {
    "tags": []
   },
   "outputs": [],
   "source": [
    "mri_ml_matrix = StrokeMRI.drop('participant_id', axis=1)\n",
    "X_mri = mri_ml_matrix.drop('age', axis =1)\n",
    "X_mri = X_mri.values\n",
    "X_mri = X_mri.astype('float')\n",
    "y_mri = mri_ml_matrix['age'].values\n",
    "y_mri= y_mri.astype('float')"
   ]
  },
  {
   "cell_type": "code",
   "execution_count": 147,
   "id": "c22a6eb7-7de4-4fbb-afb6-6e208392348e",
   "metadata": {
    "tags": []
   },
   "outputs": [],
   "source": [
    "X_mri_test = X_mri\n",
    "y_mri_test = y_mri\n"
   ]
  },
  {
   "cell_type": "code",
   "execution_count": 148,
   "id": "13002f7e-b403-4615-b180-1454d027d307",
   "metadata": {
    "tags": []
   },
   "outputs": [],
   "source": [
    "y_mri_pred = TOPlinr.predict(X_mri_test)"
   ]
  },
  {
   "cell_type": "code",
   "execution_count": 149,
   "id": "534dbf58-0b0c-4b0e-909e-54437fbc44cd",
   "metadata": {
    "tags": []
   },
   "outputs": [],
   "source": [
    "data= [[\n",
    "    'linear regression',\n",
    "    'neuro_harm_whole_top_linr.sav',\n",
    "    mean_absolute_error(y_mri_test, y_mri_pred),\n",
    "    TOPlinr.score(X_mri_test,y_mri_test),\n",
    "    metrics.explained_variance_score(y_mri_test, y_mri_pred)]]\n",
    "linr_results = pd.DataFrame(data, columns=['algorithm','file_name','mae', 'r2', 'explained_variance'])\n",
    "#linr_results"
   ]
  },
  {
   "cell_type": "code",
   "execution_count": 150,
   "id": "593a7024-6f93-4e83-b916-cf7193221684",
   "metadata": {
    "tags": []
   },
   "outputs": [
    {
     "data": {
      "text/html": [
       "<div>\n",
       "<style scoped>\n",
       "    .dataframe tbody tr th:only-of-type {\n",
       "        vertical-align: middle;\n",
       "    }\n",
       "\n",
       "    .dataframe tbody tr th {\n",
       "        vertical-align: top;\n",
       "    }\n",
       "\n",
       "    .dataframe thead th {\n",
       "        text-align: right;\n",
       "    }\n",
       "</style>\n",
       "<table border=\"1\" class=\"dataframe\">\n",
       "  <thead>\n",
       "    <tr style=\"text-align: right;\">\n",
       "      <th></th>\n",
       "      <th>y_test_real_age</th>\n",
       "      <th>linr_y_pred_age</th>\n",
       "    </tr>\n",
       "  </thead>\n",
       "  <tbody>\n",
       "    <tr>\n",
       "      <th>0</th>\n",
       "      <td>70.713706</td>\n",
       "      <td>59.769904</td>\n",
       "    </tr>\n",
       "    <tr>\n",
       "      <th>1</th>\n",
       "      <td>47.583562</td>\n",
       "      <td>47.708161</td>\n",
       "    </tr>\n",
       "    <tr>\n",
       "      <th>2</th>\n",
       "      <td>74.104110</td>\n",
       "      <td>50.787772</td>\n",
       "    </tr>\n",
       "    <tr>\n",
       "      <th>3</th>\n",
       "      <td>68.843836</td>\n",
       "      <td>39.045269</td>\n",
       "    </tr>\n",
       "    <tr>\n",
       "      <th>4</th>\n",
       "      <td>61.978082</td>\n",
       "      <td>48.231217</td>\n",
       "    </tr>\n",
       "    <tr>\n",
       "      <th>...</th>\n",
       "      <td>...</td>\n",
       "      <td>...</td>\n",
       "    </tr>\n",
       "    <tr>\n",
       "      <th>573</th>\n",
       "      <td>67.178082</td>\n",
       "      <td>52.232948</td>\n",
       "    </tr>\n",
       "    <tr>\n",
       "      <th>574</th>\n",
       "      <td>67.794521</td>\n",
       "      <td>50.059484</td>\n",
       "    </tr>\n",
       "    <tr>\n",
       "      <th>575</th>\n",
       "      <td>54.769863</td>\n",
       "      <td>44.513889</td>\n",
       "    </tr>\n",
       "    <tr>\n",
       "      <th>576</th>\n",
       "      <td>66.639344</td>\n",
       "      <td>50.658988</td>\n",
       "    </tr>\n",
       "    <tr>\n",
       "      <th>577</th>\n",
       "      <td>45.336986</td>\n",
       "      <td>37.176805</td>\n",
       "    </tr>\n",
       "  </tbody>\n",
       "</table>\n",
       "<p>578 rows × 2 columns</p>\n",
       "</div>"
      ],
      "text/plain": [
       "     y_test_real_age  linr_y_pred_age\n",
       "0          70.713706        59.769904\n",
       "1          47.583562        47.708161\n",
       "2          74.104110        50.787772\n",
       "3          68.843836        39.045269\n",
       "4          61.978082        48.231217\n",
       "..               ...              ...\n",
       "573        67.178082        52.232948\n",
       "574        67.794521        50.059484\n",
       "575        54.769863        44.513889\n",
       "576        66.639344        50.658988\n",
       "577        45.336986        37.176805\n",
       "\n",
       "[578 rows x 2 columns]"
      ]
     },
     "execution_count": 150,
     "metadata": {},
     "output_type": "execute_result"
    }
   ],
   "source": [
    "linr_y_test = y_mri_test\n",
    "linr_y_pred = y_mri_pred\n",
    "linr_compare = pd.DataFrame(\n",
    "    {'y_test_real_age': linr_y_test,\n",
    "     'linr_y_pred_age': linr_y_pred,\n",
    "    })\n",
    "#linr_compare = linr_compare.reset_index()\n",
    "linr_compare"
   ]
  },
  {
   "cell_type": "code",
   "execution_count": 151,
   "id": "8f9f7c30-eb1a-4bd9-a4b8-19214150eced",
   "metadata": {
    "tags": []
   },
   "outputs": [],
   "source": [
    "linr_compare.to_csv(output_folder + '/whole_neuro-_harm_top_linr_compare_on_mti.csv')"
   ]
  },
  {
   "cell_type": "code",
   "execution_count": 152,
   "id": "05a656da-8593-44f4-becf-07789df67474",
   "metadata": {
    "tags": []
   },
   "outputs": [],
   "source": [
    "y_mri_pred = TOPllreg.predict(X_mri_test)"
   ]
  },
  {
   "cell_type": "code",
   "execution_count": 153,
   "id": "5d88fe6b-1ec5-457a-80e1-f6767f0da768",
   "metadata": {
    "tags": []
   },
   "outputs": [
    {
     "data": {
      "text/html": [
       "<div>\n",
       "<style scoped>\n",
       "    .dataframe tbody tr th:only-of-type {\n",
       "        vertical-align: middle;\n",
       "    }\n",
       "\n",
       "    .dataframe tbody tr th {\n",
       "        vertical-align: top;\n",
       "    }\n",
       "\n",
       "    .dataframe thead th {\n",
       "        text-align: right;\n",
       "    }\n",
       "</style>\n",
       "<table border=\"1\" class=\"dataframe\">\n",
       "  <thead>\n",
       "    <tr style=\"text-align: right;\">\n",
       "      <th></th>\n",
       "      <th>algorithm</th>\n",
       "      <th>file_name</th>\n",
       "      <th>mae</th>\n",
       "      <th>r2</th>\n",
       "      <th>explained_variance</th>\n",
       "    </tr>\n",
       "  </thead>\n",
       "  <tbody>\n",
       "    <tr>\n",
       "      <th>0</th>\n",
       "      <td>lasso regression</td>\n",
       "      <td>neuro_harm_whole_top_llreg.sav</td>\n",
       "      <td>14.89184</td>\n",
       "      <td>-0.544803</td>\n",
       "      <td>0.437229</td>\n",
       "    </tr>\n",
       "  </tbody>\n",
       "</table>\n",
       "</div>"
      ],
      "text/plain": [
       "          algorithm                       file_name       mae        r2  \\\n",
       "0  lasso regression  neuro_harm_whole_top_llreg.sav  14.89184 -0.544803   \n",
       "\n",
       "   explained_variance  \n",
       "0            0.437229  "
      ]
     },
     "execution_count": 153,
     "metadata": {},
     "output_type": "execute_result"
    }
   ],
   "source": [
    "data= [[\n",
    "    'lasso regression',\n",
    "    'neuro_harm_whole_top_llreg.sav',\n",
    "    mean_absolute_error(y_mri_test, y_mri_pred),\n",
    "    TOPllreg.score(X_mri_test,y_mri_test),\n",
    "    metrics.explained_variance_score(y_mri_test, y_mri_pred)]]\n",
    "llreg_results = pd.DataFrame(data, columns=['algorithm','file_name','mae', 'r2', 'explained_variance'])\n",
    "llreg_results"
   ]
  },
  {
   "cell_type": "code",
   "execution_count": 154,
   "id": "54dba885-ad51-4cf1-befd-9d052be4f03e",
   "metadata": {
    "tags": []
   },
   "outputs": [
    {
     "data": {
      "text/html": [
       "<div>\n",
       "<style scoped>\n",
       "    .dataframe tbody tr th:only-of-type {\n",
       "        vertical-align: middle;\n",
       "    }\n",
       "\n",
       "    .dataframe tbody tr th {\n",
       "        vertical-align: top;\n",
       "    }\n",
       "\n",
       "    .dataframe thead th {\n",
       "        text-align: right;\n",
       "    }\n",
       "</style>\n",
       "<table border=\"1\" class=\"dataframe\">\n",
       "  <thead>\n",
       "    <tr style=\"text-align: right;\">\n",
       "      <th></th>\n",
       "      <th>y_test_real_age</th>\n",
       "      <th>linr_y_pred_age</th>\n",
       "    </tr>\n",
       "  </thead>\n",
       "  <tbody>\n",
       "    <tr>\n",
       "      <th>0</th>\n",
       "      <td>70.713706</td>\n",
       "      <td>69.965647</td>\n",
       "    </tr>\n",
       "    <tr>\n",
       "      <th>1</th>\n",
       "      <td>47.583562</td>\n",
       "      <td>48.221902</td>\n",
       "    </tr>\n",
       "    <tr>\n",
       "      <th>2</th>\n",
       "      <td>74.104110</td>\n",
       "      <td>60.468991</td>\n",
       "    </tr>\n",
       "    <tr>\n",
       "      <th>3</th>\n",
       "      <td>68.843836</td>\n",
       "      <td>46.068648</td>\n",
       "    </tr>\n",
       "    <tr>\n",
       "      <th>4</th>\n",
       "      <td>61.978082</td>\n",
       "      <td>50.307780</td>\n",
       "    </tr>\n",
       "    <tr>\n",
       "      <th>...</th>\n",
       "      <td>...</td>\n",
       "      <td>...</td>\n",
       "    </tr>\n",
       "    <tr>\n",
       "      <th>573</th>\n",
       "      <td>67.178082</td>\n",
       "      <td>57.440137</td>\n",
       "    </tr>\n",
       "    <tr>\n",
       "      <th>574</th>\n",
       "      <td>67.794521</td>\n",
       "      <td>53.367508</td>\n",
       "    </tr>\n",
       "    <tr>\n",
       "      <th>575</th>\n",
       "      <td>54.769863</td>\n",
       "      <td>49.840629</td>\n",
       "    </tr>\n",
       "    <tr>\n",
       "      <th>576</th>\n",
       "      <td>66.639344</td>\n",
       "      <td>54.166383</td>\n",
       "    </tr>\n",
       "    <tr>\n",
       "      <th>577</th>\n",
       "      <td>45.336986</td>\n",
       "      <td>36.812506</td>\n",
       "    </tr>\n",
       "  </tbody>\n",
       "</table>\n",
       "<p>578 rows × 2 columns</p>\n",
       "</div>"
      ],
      "text/plain": [
       "     y_test_real_age  linr_y_pred_age\n",
       "0          70.713706        69.965647\n",
       "1          47.583562        48.221902\n",
       "2          74.104110        60.468991\n",
       "3          68.843836        46.068648\n",
       "4          61.978082        50.307780\n",
       "..               ...              ...\n",
       "573        67.178082        57.440137\n",
       "574        67.794521        53.367508\n",
       "575        54.769863        49.840629\n",
       "576        66.639344        54.166383\n",
       "577        45.336986        36.812506\n",
       "\n",
       "[578 rows x 2 columns]"
      ]
     },
     "execution_count": 154,
     "metadata": {},
     "output_type": "execute_result"
    }
   ],
   "source": [
    "llreg_y_test = y_mri_test\n",
    "llreg_y_pred = y_mri_pred\n",
    "llreg_compare = pd.DataFrame(\n",
    "    {'y_test_real_age': llreg_y_test,\n",
    "     'linr_y_pred_age': llreg_y_pred,\n",
    "    })\n",
    "#llreg_compare = llreg_compare.reset_index()\n",
    "llreg_compare"
   ]
  },
  {
   "cell_type": "code",
   "execution_count": 155,
   "id": "efa01949-8c6a-42bd-90eb-5206058a13e7",
   "metadata": {
    "tags": []
   },
   "outputs": [],
   "source": [
    "llreg_compare.to_csv(output_folder + '/whole_neuro_harm_top_llreg_compare_on_mri.csv')"
   ]
  },
  {
   "cell_type": "code",
   "execution_count": 156,
   "id": "09cc2d37-72ff-4d0d-9bd3-6e0f0841ee8a",
   "metadata": {
    "tags": []
   },
   "outputs": [],
   "source": [
    "y_mri_pred = TOPeregr.predict(X_mri_test)"
   ]
  },
  {
   "cell_type": "code",
   "execution_count": 157,
   "id": "aaee7ca2-2c91-4bbf-8b66-cd07d6d4246a",
   "metadata": {
    "tags": []
   },
   "outputs": [],
   "source": [
    "data= [[\n",
    "    'elasticnetCV',\n",
    "    'neuro_harm_whole_top_linr.sav',\n",
    "    mean_absolute_error(y_mri_test, y_mri_pred),\n",
    "    TOPeregr.score(X_mri_test,y_mri_test),\n",
    "    metrics.explained_variance_score(y_mri_test, y_mri_pred)]]\n",
    "eregr_results = pd.DataFrame(data, columns=['algorithm','file_name','mae', 'r2', 'explained_variance'])\n",
    "#eregr_results"
   ]
  },
  {
   "cell_type": "code",
   "execution_count": 158,
   "id": "dbf88ae4-811e-4c83-b57a-839bb1ab1772",
   "metadata": {
    "tags": []
   },
   "outputs": [
    {
     "data": {
      "text/html": [
       "<div>\n",
       "<style scoped>\n",
       "    .dataframe tbody tr th:only-of-type {\n",
       "        vertical-align: middle;\n",
       "    }\n",
       "\n",
       "    .dataframe tbody tr th {\n",
       "        vertical-align: top;\n",
       "    }\n",
       "\n",
       "    .dataframe thead th {\n",
       "        text-align: right;\n",
       "    }\n",
       "</style>\n",
       "<table border=\"1\" class=\"dataframe\">\n",
       "  <thead>\n",
       "    <tr style=\"text-align: right;\">\n",
       "      <th></th>\n",
       "      <th>y_test_real_age</th>\n",
       "      <th>linr_y_pred_age</th>\n",
       "    </tr>\n",
       "  </thead>\n",
       "  <tbody>\n",
       "    <tr>\n",
       "      <th>0</th>\n",
       "      <td>70.713706</td>\n",
       "      <td>59.042759</td>\n",
       "    </tr>\n",
       "    <tr>\n",
       "      <th>1</th>\n",
       "      <td>47.583562</td>\n",
       "      <td>39.513585</td>\n",
       "    </tr>\n",
       "    <tr>\n",
       "      <th>2</th>\n",
       "      <td>74.104110</td>\n",
       "      <td>48.810421</td>\n",
       "    </tr>\n",
       "    <tr>\n",
       "      <th>3</th>\n",
       "      <td>68.843836</td>\n",
       "      <td>43.408929</td>\n",
       "    </tr>\n",
       "    <tr>\n",
       "      <th>4</th>\n",
       "      <td>61.978082</td>\n",
       "      <td>34.101805</td>\n",
       "    </tr>\n",
       "    <tr>\n",
       "      <th>...</th>\n",
       "      <td>...</td>\n",
       "      <td>...</td>\n",
       "    </tr>\n",
       "    <tr>\n",
       "      <th>573</th>\n",
       "      <td>67.178082</td>\n",
       "      <td>45.806459</td>\n",
       "    </tr>\n",
       "    <tr>\n",
       "      <th>574</th>\n",
       "      <td>67.794521</td>\n",
       "      <td>42.738157</td>\n",
       "    </tr>\n",
       "    <tr>\n",
       "      <th>575</th>\n",
       "      <td>54.769863</td>\n",
       "      <td>45.963562</td>\n",
       "    </tr>\n",
       "    <tr>\n",
       "      <th>576</th>\n",
       "      <td>66.639344</td>\n",
       "      <td>45.699180</td>\n",
       "    </tr>\n",
       "    <tr>\n",
       "      <th>577</th>\n",
       "      <td>45.336986</td>\n",
       "      <td>33.282568</td>\n",
       "    </tr>\n",
       "  </tbody>\n",
       "</table>\n",
       "<p>578 rows × 2 columns</p>\n",
       "</div>"
      ],
      "text/plain": [
       "     y_test_real_age  linr_y_pred_age\n",
       "0          70.713706        59.042759\n",
       "1          47.583562        39.513585\n",
       "2          74.104110        48.810421\n",
       "3          68.843836        43.408929\n",
       "4          61.978082        34.101805\n",
       "..               ...              ...\n",
       "573        67.178082        45.806459\n",
       "574        67.794521        42.738157\n",
       "575        54.769863        45.963562\n",
       "576        66.639344        45.699180\n",
       "577        45.336986        33.282568\n",
       "\n",
       "[578 rows x 2 columns]"
      ]
     },
     "execution_count": 158,
     "metadata": {},
     "output_type": "execute_result"
    }
   ],
   "source": [
    "eregr_y_test = y_mri_test\n",
    "eregr_y_pred = y_mri_pred\n",
    "eregr_compare = pd.DataFrame(\n",
    "    {'y_test_real_age': eregr_y_test,\n",
    "     'linr_y_pred_age': eregr_y_pred,\n",
    "    })\n",
    "eregr_compare"
   ]
  },
  {
   "cell_type": "code",
   "execution_count": 159,
   "id": "ca9ba457-4abb-40a4-9bc6-f1647c94294d",
   "metadata": {
    "tags": []
   },
   "outputs": [],
   "source": [
    "eregr_compare.to_csv(output_folder + '/whole_neuro_harm_top_eregr_compare_on_mri.csv')"
   ]
  },
  {
   "cell_type": "code",
   "execution_count": 160,
   "id": "c3386d48-4204-4d35-bba9-34bfa6d3c50d",
   "metadata": {
    "tags": []
   },
   "outputs": [],
   "source": [
    "y_mri_pred = TOPetreg.predict(X_mri_test)"
   ]
  },
  {
   "cell_type": "code",
   "execution_count": 161,
   "id": "318f285d-936a-4e5a-b132-26946b564962",
   "metadata": {
    "tags": []
   },
   "outputs": [],
   "source": [
    "data= [[\n",
    "    'extra trees',\n",
    "    'neuro_harm_mri_linr.sav',\n",
    "    mean_absolute_error(y_mri_test, y_mri_pred),\n",
    "    TOPetreg.score(X_mri_test,y_mri_test),\n",
    "    metrics.explained_variance_score(y_mri_test, y_mri_pred)]]\n",
    "etreg_results = pd.DataFrame(data, columns=['algorithm','file_name','mae', 'r2', 'explained_variance'])\n",
    "#etreg_results"
   ]
  },
  {
   "cell_type": "code",
   "execution_count": 162,
   "id": "284677d1-1862-403c-88c7-7b9001d9d61f",
   "metadata": {
    "tags": []
   },
   "outputs": [
    {
     "data": {
      "text/html": [
       "<div>\n",
       "<style scoped>\n",
       "    .dataframe tbody tr th:only-of-type {\n",
       "        vertical-align: middle;\n",
       "    }\n",
       "\n",
       "    .dataframe tbody tr th {\n",
       "        vertical-align: top;\n",
       "    }\n",
       "\n",
       "    .dataframe thead th {\n",
       "        text-align: right;\n",
       "    }\n",
       "</style>\n",
       "<table border=\"1\" class=\"dataframe\">\n",
       "  <thead>\n",
       "    <tr style=\"text-align: right;\">\n",
       "      <th></th>\n",
       "      <th>y_test_real_age</th>\n",
       "      <th>linr_y_pred_age</th>\n",
       "    </tr>\n",
       "  </thead>\n",
       "  <tbody>\n",
       "    <tr>\n",
       "      <th>0</th>\n",
       "      <td>70.713706</td>\n",
       "      <td>48.9110</td>\n",
       "    </tr>\n",
       "    <tr>\n",
       "      <th>1</th>\n",
       "      <td>47.583562</td>\n",
       "      <td>40.7414</td>\n",
       "    </tr>\n",
       "    <tr>\n",
       "      <th>2</th>\n",
       "      <td>74.104110</td>\n",
       "      <td>50.4111</td>\n",
       "    </tr>\n",
       "    <tr>\n",
       "      <th>3</th>\n",
       "      <td>68.843836</td>\n",
       "      <td>48.1517</td>\n",
       "    </tr>\n",
       "    <tr>\n",
       "      <th>4</th>\n",
       "      <td>61.978082</td>\n",
       "      <td>41.5862</td>\n",
       "    </tr>\n",
       "    <tr>\n",
       "      <th>...</th>\n",
       "      <td>...</td>\n",
       "      <td>...</td>\n",
       "    </tr>\n",
       "    <tr>\n",
       "      <th>573</th>\n",
       "      <td>67.178082</td>\n",
       "      <td>48.7266</td>\n",
       "    </tr>\n",
       "    <tr>\n",
       "      <th>574</th>\n",
       "      <td>67.794521</td>\n",
       "      <td>50.7632</td>\n",
       "    </tr>\n",
       "    <tr>\n",
       "      <th>575</th>\n",
       "      <td>54.769863</td>\n",
       "      <td>45.9259</td>\n",
       "    </tr>\n",
       "    <tr>\n",
       "      <th>576</th>\n",
       "      <td>66.639344</td>\n",
       "      <td>49.3995</td>\n",
       "    </tr>\n",
       "    <tr>\n",
       "      <th>577</th>\n",
       "      <td>45.336986</td>\n",
       "      <td>38.3801</td>\n",
       "    </tr>\n",
       "  </tbody>\n",
       "</table>\n",
       "<p>578 rows × 2 columns</p>\n",
       "</div>"
      ],
      "text/plain": [
       "     y_test_real_age  linr_y_pred_age\n",
       "0          70.713706          48.9110\n",
       "1          47.583562          40.7414\n",
       "2          74.104110          50.4111\n",
       "3          68.843836          48.1517\n",
       "4          61.978082          41.5862\n",
       "..               ...              ...\n",
       "573        67.178082          48.7266\n",
       "574        67.794521          50.7632\n",
       "575        54.769863          45.9259\n",
       "576        66.639344          49.3995\n",
       "577        45.336986          38.3801\n",
       "\n",
       "[578 rows x 2 columns]"
      ]
     },
     "execution_count": 162,
     "metadata": {},
     "output_type": "execute_result"
    }
   ],
   "source": [
    "etreg_y_test = y_mri_test\n",
    "etreg_y_pred = y_mri_pred\n",
    "etreg_compare = pd.DataFrame(\n",
    "    {'y_test_real_age': etreg_y_test,\n",
    "     'linr_y_pred_age': etreg_y_pred,\n",
    "    })\n",
    "#etreg_compare = etreg_compare.reset_index()\n",
    "etreg_compare"
   ]
  },
  {
   "cell_type": "code",
   "execution_count": 163,
   "id": "5c6be3cb-540a-4a90-9bb3-0f1aeb898ee5",
   "metadata": {
    "tags": []
   },
   "outputs": [],
   "source": [
    "etreg_compare.to_csv(output_folder + '/whole_neuro_harm_top_etreg_compare_on_mri.csv')"
   ]
  },
  {
   "cell_type": "markdown",
   "id": "95b6f8ad-28db-4451-a414-01d409792004",
   "metadata": {},
   "source": [
    "compile csvs of results"
   ]
  },
  {
   "cell_type": "code",
   "execution_count": 164,
   "id": "764cb0e6-824c-4412-9fdc-f9dedfad354a",
   "metadata": {
    "tags": []
   },
   "outputs": [
    {
     "data": {
      "text/html": [
       "<div>\n",
       "<style scoped>\n",
       "    .dataframe tbody tr th:only-of-type {\n",
       "        vertical-align: middle;\n",
       "    }\n",
       "\n",
       "    .dataframe tbody tr th {\n",
       "        vertical-align: top;\n",
       "    }\n",
       "\n",
       "    .dataframe thead th {\n",
       "        text-align: right;\n",
       "    }\n",
       "</style>\n",
       "<table border=\"1\" class=\"dataframe\">\n",
       "  <thead>\n",
       "    <tr style=\"text-align: right;\">\n",
       "      <th></th>\n",
       "      <th>algorithm</th>\n",
       "      <th>file_name</th>\n",
       "      <th>mae</th>\n",
       "      <th>r2</th>\n",
       "      <th>explained_variance</th>\n",
       "    </tr>\n",
       "  </thead>\n",
       "  <tbody>\n",
       "    <tr>\n",
       "      <th>0</th>\n",
       "      <td>linear regression</td>\n",
       "      <td>neuro_harm_whole_top_linr.sav</td>\n",
       "      <td>19.200313</td>\n",
       "      <td>-1.773389</td>\n",
       "      <td>-0.106785</td>\n",
       "    </tr>\n",
       "    <tr>\n",
       "      <th>0</th>\n",
       "      <td>lasso regression</td>\n",
       "      <td>neuro_harm_whole_top_llreg.sav</td>\n",
       "      <td>14.891840</td>\n",
       "      <td>-0.544803</td>\n",
       "      <td>0.437229</td>\n",
       "    </tr>\n",
       "    <tr>\n",
       "      <th>0</th>\n",
       "      <td>elasticnetCV</td>\n",
       "      <td>neuro_harm_whole_top_linr.sav</td>\n",
       "      <td>20.541108</td>\n",
       "      <td>-1.602038</td>\n",
       "      <td>0.297321</td>\n",
       "    </tr>\n",
       "    <tr>\n",
       "      <th>0</th>\n",
       "      <td>extra trees</td>\n",
       "      <td>neuro_harm_mri_linr.sav</td>\n",
       "      <td>17.128253</td>\n",
       "      <td>-0.895971</td>\n",
       "      <td>0.356594</td>\n",
       "    </tr>\n",
       "  </tbody>\n",
       "</table>\n",
       "</div>"
      ],
      "text/plain": [
       "           algorithm                       file_name        mae        r2  \\\n",
       "0  linear regression   neuro_harm_whole_top_linr.sav  19.200313 -1.773389   \n",
       "0   lasso regression  neuro_harm_whole_top_llreg.sav  14.891840 -0.544803   \n",
       "0       elasticnetCV   neuro_harm_whole_top_linr.sav  20.541108 -1.602038   \n",
       "0        extra trees         neuro_harm_mri_linr.sav  17.128253 -0.895971   \n",
       "\n",
       "   explained_variance  \n",
       "0           -0.106785  \n",
       "0            0.437229  \n",
       "0            0.297321  \n",
       "0            0.356594  "
      ]
     },
     "execution_count": 164,
     "metadata": {},
     "output_type": "execute_result"
    }
   ],
   "source": [
    "top_based_neuro_harmonized_on_mri =pd.concat([linr_results,\n",
    "                   llreg_results,\n",
    "                   eregr_results,\n",
    "                  etreg_results],\n",
    "                  axis=0)\n",
    "top_based_neuro_harmonized_on_mri"
   ]
  },
  {
   "cell_type": "code",
   "execution_count": 165,
   "id": "5ff1a87d-87b9-44e5-9b7b-4f1140927ff8",
   "metadata": {
    "tags": []
   },
   "outputs": [],
   "source": [
    "top_based_neuro_harmonized_on_mri.to_csv(output_folder + '/whole_top_based_neuro_harmonized_on_mri.csv')"
   ]
  },
  {
   "cell_type": "code",
   "execution_count": null,
   "id": "c39fe68c-ad0d-4e34-adb1-c81ad5a85324",
   "metadata": {},
   "outputs": [],
   "source": []
  }
 ],
 "metadata": {
  "kernelspec": {
   "display_name": "Python 3 (ipykernel)",
   "language": "python",
   "name": "python3"
  },
  "language_info": {
   "codemirror_mode": {
    "name": "ipython",
    "version": 3
   },
   "file_extension": ".py",
   "mimetype": "text/x-python",
   "name": "python",
   "nbconvert_exporter": "python",
   "pygments_lexer": "ipython3",
   "version": "3.11.6"
  }
 },
 "nbformat": 4,
 "nbformat_minor": 5
}
