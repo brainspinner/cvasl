{
 "cells": [
  {
   "cell_type": "code",
   "execution_count": null,
   "id": "0aa7a6cd-2766-49f2-ad78-bd038f145fbd",
   "metadata": {
    "vscode": {
     "languageId": "r"
    }
   },
   "outputs": [],
   "source": [
    "#sys.path.insert(0, '../../')\n",
    "source('../../cvasl/vendor/ComBat++/combatPP.R') #as pluscombat\n",
    "source(\"../../cvasl/vendor/ComBat++/utils.R\")"
   ]
  },
  {
   "cell_type": "code",
   "execution_count": null,
   "id": "cb229252-ded2-43c6-ba79-a181ac064242",
   "metadata": {
    "vscode": {
     "languageId": "r"
    }
   },
   "outputs": [],
   "source": [
    "library(matrixStats)"
   ]
  },
  {
   "cell_type": "code",
   "execution_count": null,
   "id": "b3e6452a-2787-49c7-9844-eaf9a2c7002b",
   "metadata": {
    "vscode": {
     "languageId": "r"
    }
   },
   "outputs": [],
   "source": [
    "TOP <- read.csv('../our_datasets/TOP/TrainingDataComplete.csv')\n",
    "\n",
    " \n",
    "head(TOP, 4)"
   ]
  },
  {
   "cell_type": "code",
   "execution_count": null,
   "id": "c885484b-2d9a-4dfd-9c6e-867fec7ba690",
   "metadata": {
    "vscode": {
     "languageId": "r"
    }
   },
   "outputs": [],
   "source": [
    "MRI <- read.csv('../our_datasets/StrokeMRI/TrainingDataComplete.csv')\n",
    "head(MRI, 4)"
   ]
  },
  {
   "cell_type": "code",
   "execution_count": null,
   "id": "0e5cfaa8-21d8-4982-a04e-84077aa54eef",
   "metadata": {
    "vscode": {
     "languageId": "r"
    }
   },
   "outputs": [],
   "source": [
    "HELIUS <- read.csv('../our_datasets/EDIS/TrainingDataComplete.csv')\n",
    "#HELIUS <- read.csv('../our_datasets/HELIUS/TrainingDataComplete.csv')\n",
    "head(HELIUS, 4)"
   ]
  },
  {
   "cell_type": "code",
   "execution_count": null,
   "id": "c3fcb4e4-4ea7-4969-9799-b5114e2d4cb5",
   "metadata": {
    "vscode": {
     "languageId": "r"
    }
   },
   "outputs": [],
   "source": [
    "TOPMRI<- rbind(TOP, MRI)\n",
    "conditions <- c(1)\n",
    "replacement_values <- c(0)\n",
    "# Use replace() \n",
    "TOPMRI$Site <- replace(TOPMRI$Site, TOPMRI$Site %in% conditions, replacement_values)\n",
    "head(TOPMRI, 3)"
   ]
  },
  {
   "cell_type": "code",
   "execution_count": null,
   "id": "529ba383-3f85-4493-ada7-e29615e98305",
   "metadata": {
    "vscode": {
     "languageId": "r"
    }
   },
   "outputs": [],
   "source": [
    "fused_dat <- rbind(TOPMRI, HELIUS)\n",
    "head(fused_dat, 3)"
   ]
  },
  {
   "cell_type": "code",
   "execution_count": null,
   "id": "598a20fa-c4b4-41a3-a924-daf5b92c60cf",
   "metadata": {
    "vscode": {
     "languageId": "r"
    }
   },
   "outputs": [],
   "source": [
    "age <- c((fused_dat['Age']))\n",
    "age <- as.numeric(unlist(age))\n",
    "print(typeof(age))"
   ]
  },
  {
   "cell_type": "code",
   "execution_count": null,
   "id": "831b4fe5-6cc5-4bfa-b157-1f6a247e4079",
   "metadata": {
    "vscode": {
     "languageId": "r"
    }
   },
   "outputs": [],
   "source": [
    "#age <- c((fused_dat['Age'])) # Continuous variable\n",
    "sex <- c((fused_dat['Sex']))\n",
    "sex <- as.numeric(unlist(sex))\n",
    "sex <- as.factor(sex) # Categorical variable\n",
    "mod <- model.matrix(~age+sex)\n"
   ]
  },
  {
   "cell_type": "code",
   "execution_count": null,
   "id": "d8350f89-326a-4ef9-84e1-3d413cd81c51",
   "metadata": {
    "vscode": {
     "languageId": "r"
    }
   },
   "outputs": [],
   "source": [
    "batchvector <- c(fused_dat['Site'])\n",
    "batchvector <- as.numeric(unlist(batchvector))"
   ]
  },
  {
   "cell_type": "code",
   "execution_count": null,
   "id": "fefcd500-43a7-4372-8542-c8843bcc796f",
   "metadata": {
    "vscode": {
     "languageId": "r"
    }
   },
   "outputs": [],
   "source": [
    "head(fused_dat)"
   ]
  },
  {
   "cell_type": "code",
   "execution_count": null,
   "id": "14fa4658-d8d7-4d14-a27c-8a4be24a6af7",
   "metadata": {
    "vscode": {
     "languageId": "r"
    }
   },
   "outputs": [],
   "source": [
    "fused_dat_m1 <- fused_dat[,-1]\n",
    "fused_dat_m1 <- fused_dat_m1[,-1]\n",
    "fused_dat_m1 <- fused_dat_m1[,-1]\n",
    "fused_dat_m1 <- fused_dat_m1[,-1]\n",
    "fused_dat_m1 <- fused_dat_m1[,-1]\n",
    "head(fused_dat_m1, 3)"
   ]
  },
  {
   "cell_type": "code",
   "execution_count": null,
   "id": "f932f51a-c4f3-4b6c-b946-a950a9a2b342",
   "metadata": {
    "vscode": {
     "languageId": "r"
    }
   },
   "outputs": [],
   "source": [
    "ta <- t(fused_dat_m1) "
   ]
  },
  {
   "cell_type": "code",
   "execution_count": null,
   "id": "6b13c3f4-40c6-491b-8136-6c76f8a4554c",
   "metadata": {
    "vscode": {
     "languageId": "r"
    }
   },
   "outputs": [],
   "source": [
    "#combatPP(ta, batchvector)"
   ]
  },
  {
   "cell_type": "code",
   "execution_count": null,
   "id": "ebee9ed9-c436-4765-907f-15340f666ee0",
   "metadata": {
    "vscode": {
     "languageId": "r"
    }
   },
   "outputs": [],
   "source": [
    "data.harmonized <-combatPP(ta,  mod=mod, batchvector) # need to add mod=mod"
   ]
  },
  {
   "cell_type": "code",
   "execution_count": null,
   "id": "87ee8b83-375f-4c38-9019-ba2d16a75e81",
   "metadata": {
    "vscode": {
     "languageId": "r"
    }
   },
   "outputs": [],
   "source": [
    "#data.harmonized"
   ]
  },
  {
   "cell_type": "code",
   "execution_count": null,
   "id": "31a3cc68-a5e4-4845-8a5e-90f21d894874",
   "metadata": {
    "vscode": {
     "languageId": "r"
    }
   },
   "outputs": [],
   "source": [
    "new_df <- data.harmonized$dat.combat"
   ]
  },
  {
   "cell_type": "code",
   "execution_count": null,
   "id": "13ed1bd7-325d-435a-a4cc-cc6395f65e32",
   "metadata": {
    "vscode": {
     "languageId": "r"
    }
   },
   "outputs": [],
   "source": [
    "head(fused_dat)"
   ]
  },
  {
   "cell_type": "code",
   "execution_count": null,
   "id": "0ea7a20a-2b4d-4eb3-8446-f79d39f05604",
   "metadata": {
    "vscode": {
     "languageId": "r"
    }
   },
   "outputs": [],
   "source": [
    "fused_dat_front <- fused_dat[c(1:5)]\n",
    "head(fused_dat_front,3) "
   ]
  },
  {
   "cell_type": "code",
   "execution_count": null,
   "id": "ef0cc40f-6842-4343-a04c-63bbf8e370bf",
   "metadata": {
    "vscode": {
     "languageId": "r"
    }
   },
   "outputs": [],
   "source": [
    "rollback <- t(new_df)\n",
    "head(rollback, 3)\n"
   ]
  },
  {
   "cell_type": "code",
   "execution_count": null,
   "id": "0edb5f63-fb1c-4b71-a416-791fa4006acd",
   "metadata": {
    "vscode": {
     "languageId": "r"
    }
   },
   "outputs": [],
   "source": [
    "harmonized_set <- cbind(fused_dat_front, rollback)"
   ]
  },
  {
   "cell_type": "code",
   "execution_count": null,
   "id": "bc848770-2211-4d7f-8ac6-47aec4788791",
   "metadata": {
    "vscode": {
     "languageId": "r"
    }
   },
   "outputs": [],
   "source": [
    "head(harmonized_set)"
   ]
  },
  {
   "cell_type": "code",
   "execution_count": null,
   "id": "328fc364-d64f-4dc6-ad39-373b176fd25b",
   "metadata": {
    "vscode": {
     "languageId": "r"
    }
   },
   "outputs": [],
   "source": [
    "harmonized_topmri <- harmonized_set[which(harmonized_set['Site'] == 0),] \n",
    "head(harmonized_topmri,3)"
   ]
  },
  {
   "cell_type": "code",
   "execution_count": null,
   "id": "78b379fb-2ba8-4312-a95d-82e51c02bc4b",
   "metadata": {
    "vscode": {
     "languageId": "r"
    }
   },
   "outputs": [],
   "source": [
    "harmonized_HELIUS <- harmonized_set[which(harmonized_set['Site'] == 1),] \n",
    "head(harmonized_HELIUS,3)"
   ]
  },
  {
   "cell_type": "code",
   "execution_count": null,
   "id": "72001e60-d1c6-4eac-b785-b7e2d3946a51",
   "metadata": {
    "vscode": {
     "languageId": "r"
    }
   },
   "outputs": [],
   "source": [
    "# now save as csvs\n",
    "write.csv(harmonized_topmri, \"harm_results/plus/plus_harmonized_topmri_v_HELIUS.csv\")\n",
    "write.csv(harmonized_HELIUS, \"harm_results/plus/plus_harmonized_HELIUS_from_v1.csv\")"
   ]
  },
  {
   "cell_type": "code",
   "execution_count": null,
   "id": "d22414b5-d984-42a0-a0ae-16030041426d",
   "metadata": {
    "vscode": {
     "languageId": "r"
    }
   },
   "outputs": [],
   "source": []
  },
  {
   "cell_type": "markdown",
   "id": "9e344175-a124-45ec-ad4d-425b1f4f7b68",
   "metadata": {},
   "source": [
    "# Now let'try a 5 way"
   ]
  },
  {
   "cell_type": "code",
   "execution_count": null,
   "id": "abe8aed3-b4b9-4d9f-8dec-e9b9cd23d6c3",
   "metadata": {},
   "outputs": [],
   "source": [
    "head(TOPMRI, 3)"
   ]
  },
  {
   "cell_type": "code",
   "execution_count": null,
   "id": "f1711212-f0f4-4869-974f-3b827a87ff2f",
   "metadata": {},
   "outputs": [],
   "source": [
    "head(HELIUS)"
   ]
  },
  {
   "cell_type": "code",
   "execution_count": null,
   "id": "20a42de3-ef15-420a-b317-4aa238ea14ba",
   "metadata": {},
   "outputs": [],
   "source": [
    "EDIS <- read.csv('../our_datasets/EDIS/TrainingDataComplete.csv')\n",
    "conditions <- c(1)\n",
    "replacement_values <- c(2)\n",
    "# Use replace() \n",
    "EDIS$Site <- replace(EDIS$Site, EDIS$Site %in% conditions, replacement_values)\n",
    "head(EDIS, 4)"
   ]
  },
  {
   "cell_type": "code",
   "execution_count": null,
   "id": "a344e302-55a9-4122-9fd3-bee9e66cd937",
   "metadata": {},
   "outputs": [],
   "source": [
    "SABRE <- read.csv('../our_datasets/SABRE/TrainingDataComplete.csv')\n",
    "conditions <- c(1)\n",
    "replacement_values <- c(3)\n",
    "# Use replace() \n",
    "SABRE$Site <- replace(SABRE$Site, SABRE$Site %in% conditions, replacement_values)\n",
    "head(SABRE, 4)"
   ]
  },
  {
   "cell_type": "code",
   "execution_count": null,
   "id": "bd6147cf-9e46-4c00-870a-c763cabf1bdb",
   "metadata": {},
   "outputs": [],
   "source": [
    "INSI <- read.csv('../our_datasets/Insight46/TrainingDataComplete.csv')\n",
    "conditions <- c(1)\n",
    "replacement_values <- c(4)\n",
    "# Use replace() \n",
    "INSI$Site <- replace(INSI$Site, INSI$Site %in% conditions, replacement_values)\n",
    "head(INSI, 4)"
   ]
  },
  {
   "cell_type": "code",
   "execution_count": null,
   "id": "8101dfe5-f681-4039-8c0d-dcfee6a230b0",
   "metadata": {},
   "outputs": [],
   "source": []
  },
  {
   "cell_type": "code",
   "execution_count": null,
   "id": "c6f111af-120d-4f68-a0d2-a911ad261538",
   "metadata": {
    "vscode": {
     "languageId": "r"
    }
   },
   "outputs": [],
   "source": [
    "five_fused_dat <- rbind(TOPMRI, HELIUS, INSI, SABRE,EDIS)\n",
    "head(five_fused_dat, 3)"
   ]
  },
  {
   "cell_type": "code",
   "execution_count": null,
   "id": "cc0e5b61-dbaa-4f37-90cc-7d66f9f8e741",
   "metadata": {
    "vscode": {
     "languageId": "r"
    }
   },
   "outputs": [],
   "source": [
    "age <- c((five_fused_dat['Age']))\n",
    "age <- as.numeric(unlist(age))\n",
    "print(typeof(age))"
   ]
  },
  {
   "cell_type": "code",
   "execution_count": null,
   "id": "85a36920-b1e1-4332-a124-50d54976b9aa",
   "metadata": {
    "vscode": {
     "languageId": "r"
    }
   },
   "outputs": [],
   "source": [
    "#age <- c((fused_dat['Age'])) # Continuous variable\n",
    "sex <- c((five_fused_dat['Sex']))\n",
    "sex <- as.numeric(unlist(sex))\n",
    "sex <- as.factor(sex) # Categorical variable\n",
    "mod <- model.matrix(~age+sex)\n"
   ]
  },
  {
   "cell_type": "code",
   "execution_count": null,
   "id": "7a4600b9-f8d9-4cdc-b711-07a7749846da",
   "metadata": {
    "vscode": {
     "languageId": "r"
    }
   },
   "outputs": [],
   "source": [
    "five_batchvector <- c(five_fused_dat['Site'])\n",
    "five_batchvector <- as.numeric(unlist(five_batchvector))"
   ]
  },
  {
   "cell_type": "code",
   "execution_count": null,
   "id": "ddef1aae-aee9-4c22-be41-41298d941579",
   "metadata": {
    "vscode": {
     "languageId": "r"
    }
   },
   "outputs": [],
   "source": [
    "head(five_fused_dat)"
   ]
  },
  {
   "cell_type": "code",
   "execution_count": null,
   "id": "bfd7c471-1157-4a44-8c72-b0c97200b1b7",
   "metadata": {},
   "outputs": [],
   "source": []
  },
  {
   "cell_type": "code",
   "execution_count": null,
   "id": "6ded3c63-da7a-4ac7-8f36-1b446e4c6d9f",
   "metadata": {
    "vscode": {
     "languageId": "r"
    }
   },
   "outputs": [],
   "source": [
    "five_fused_dat_m1 <- five_fused_dat[,-1]\n",
    "five_fused_dat_m1 <- five_fused_dat_m1[,-1]\n",
    "five_fused_dat_m1 <- five_fused_dat_m1[,-1]\n",
    "five_fused_dat_m1 <- five_fused_dat_m1[,-1]\n",
    "five_fused_dat_m1 <- five_fused_dat_m1[,-1]\n",
    "head(five_fused_dat_m1, 3)"
   ]
  },
  {
   "cell_type": "code",
   "execution_count": null,
   "id": "1fa86c86-ee89-4f30-8ae9-873fbf3f2be6",
   "metadata": {
    "vscode": {
     "languageId": "r"
    }
   },
   "outputs": [],
   "source": [
    "ta5 <- t(five_fused_dat_m1) "
   ]
  },
  {
   "cell_type": "code",
   "execution_count": null,
   "id": "10d4ef96-b339-4687-a65b-eea3b9409ba2",
   "metadata": {
    "vscode": {
     "languageId": "r"
    }
   },
   "outputs": [],
   "source": [
    "#combatPP(ta, batchvector)"
   ]
  },
  {
   "cell_type": "code",
   "execution_count": null,
   "id": "43140530-e07b-4bd3-a1d7-b64ff5db7dee",
   "metadata": {
    "vscode": {
     "languageId": "r"
    }
   },
   "outputs": [],
   "source": [
    "data.harmonized <-combatPP(ta5,  mod=mod, five_batchvector) # need to add mod=mod"
   ]
  },
  {
   "cell_type": "code",
   "execution_count": null,
   "id": "7105e6d9-f24f-4f12-909d-57c66095b3a0",
   "metadata": {
    "vscode": {
     "languageId": "r"
    }
   },
   "outputs": [],
   "source": [
    "#data.harmonized"
   ]
  },
  {
   "cell_type": "code",
   "execution_count": null,
   "id": "23373c44-fa9c-4dfd-9992-bc97e5d9c9db",
   "metadata": {
    "vscode": {
     "languageId": "r"
    }
   },
   "outputs": [],
   "source": [
    "new_df5 <- data.harmonized$dat.combat"
   ]
  },
  {
   "cell_type": "code",
   "execution_count": null,
   "id": "ac16e7bd-cc96-402a-806a-ed95d98fd986",
   "metadata": {
    "vscode": {
     "languageId": "r"
    }
   },
   "outputs": [],
   "source": [
    "head(five_fused_dat)"
   ]
  },
  {
   "cell_type": "code",
   "execution_count": null,
   "id": "b50c9d82-2a04-4d15-a192-c6969f7a552c",
   "metadata": {},
   "outputs": [],
   "source": []
  },
  {
   "cell_type": "code",
   "execution_count": null,
   "id": "f5810527-5cfe-4a59-a8b6-86937c748f55",
   "metadata": {
    "vscode": {
     "languageId": "r"
    }
   },
   "outputs": [],
   "source": [
    "five_fused_dat_front <- five_fused_dat[c(1:5)]\n",
    "head(five_fused_dat_front,3) "
   ]
  },
  {
   "cell_type": "code",
   "execution_count": null,
   "id": "4dafe4c3-dbaf-4b7c-a84b-d1198f610a37",
   "metadata": {
    "vscode": {
     "languageId": "r"
    }
   },
   "outputs": [],
   "source": [
    "rollback5 <- t(new_df5)\n",
    "head(rollback5, 3)\n"
   ]
  },
  {
   "cell_type": "code",
   "execution_count": null,
   "id": "f1da5b47-4009-42d2-8a19-0f28db28cf45",
   "metadata": {
    "vscode": {
     "languageId": "r"
    }
   },
   "outputs": [],
   "source": [
    "five_harmonized_set <- cbind(five_fused_dat_front, rollback5)"
   ]
  },
  {
   "cell_type": "code",
   "execution_count": null,
   "id": "99f8d4d7-7489-4074-9519-9cf37b635edb",
   "metadata": {
    "vscode": {
     "languageId": "r"
    }
   },
   "outputs": [],
   "source": [
    "head(five_harmonized_set)"
   ]
  },
  {
   "cell_type": "code",
   "execution_count": null,
   "id": "38ff6c76-8292-4154-874d-ac2657e61f9e",
   "metadata": {
    "vscode": {
     "languageId": "r"
    }
   },
   "outputs": [],
   "source": [
    "harmonized5_topmri <- five_harmonized_set[which(five_harmonized_set['Site'] == 0),] \n",
    "head(harmonized5_topmri,3)"
   ]
  },
  {
   "cell_type": "code",
   "execution_count": null,
   "id": "55c6a2f1-b0a6-4c03-ad86-32f709ba7650",
   "metadata": {},
   "outputs": [],
   "source": [
    "harmonized5_helius <- five_harmonized_set[which(five_harmonized_set['Site'] == 1),] \n",
    "head(harmonized5_helius,3)"
   ]
  },
  {
   "cell_type": "code",
   "execution_count": null,
   "id": "4d1381cb-5e18-4815-8f39-1a23c8c62d58",
   "metadata": {},
   "outputs": [],
   "source": [
    "harmonized5_insight <- five_harmonized_set[which(five_harmonized_set['Site'] == 4),] \n",
    "head(harmonized5_insight,3)"
   ]
  },
  {
   "cell_type": "code",
   "execution_count": null,
   "id": "dc0fd3b9-2477-4596-9590-f610cdea0929",
   "metadata": {},
   "outputs": [],
   "source": [
    "harmonized5_edis <- five_harmonized_set[which(five_harmonized_set['Site'] == 2),] \n",
    "head(harmonized5_edis,3)"
   ]
  },
  {
   "cell_type": "code",
   "execution_count": null,
   "id": "ddcb8b6d-a918-4947-9568-bc256125153c",
   "metadata": {},
   "outputs": [],
   "source": [
    "harmonized5_sabre <- five_harmonized_set[which(five_harmonized_set['Site'] == 3),] \n",
    "head(harmonized5_sabre,3)"
   ]
  },
  {
   "cell_type": "code",
   "execution_count": null,
   "id": "0fcbe78c-6649-4307-a652-5d3154262868",
   "metadata": {},
   "outputs": [],
   "source": [
    "# now save as csvs\n",
    "write.csv(harmonized5_topmri, \"harm_results/plus/plus_harmonized5_topmri.csv\")\n",
    "write.csv(harmonized5_helius, \"harm_results/plus/plus_harmonized5_helius.csv\")\n",
    "write.csv(harmonized5_sabre, \"harm_results/plus/plus_harmonized5_sabre.csv\")\n",
    "write.csv(harmonized5_insight, \"harm_results/plus/plus_harmonized5_insight.csv\")\n",
    "write.csv(harmonized5_edis, \"harm_results/plus/plus_harmonized5_edis.csv\")"
   ]
  },
  {
   "cell_type": "code",
   "execution_count": null,
   "id": "a7f9b2a1-67a2-4518-a289-31ae7341ffb3",
   "metadata": {},
   "outputs": [],
   "source": []
  },
  {
   "cell_type": "code",
   "execution_count": null,
   "id": "7610c072-9fd9-4df5-9292-e5eb65700e40",
   "metadata": {},
   "outputs": [],
   "source": []
  }
 ],
 "metadata": {
  "kernelspec": {
   "display_name": "R",
   "language": "R",
   "name": "ir"
  },
  "language_info": {
   "codemirror_mode": "r",
   "file_extension": ".r",
   "mimetype": "text/x-r-source",
   "name": "R",
   "pygments_lexer": "r",
   "version": "4.1.3"
  }
 },
 "nbformat": 4,
 "nbformat_minor": 5
}
