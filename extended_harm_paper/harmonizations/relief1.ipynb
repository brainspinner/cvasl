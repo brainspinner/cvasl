{
 "cells": [
  {
   "cell_type": "markdown",
   "id": "543aef94-f306-4830-b650-015f141d2912",
   "metadata": {},
   "source": [
    "# Relief harmonizations"
   ]
  },
  {
   "cell_type": "code",
   "execution_count": null,
   "id": "f03f8f23-f457-4eaa-ba51-636cef38128c",
   "metadata": {},
   "outputs": [],
   "source": [
    "#sys.path.insert(0, '../../')\n",
    "source('../../cvasl/vendor/RELIEF/RELIEF.R') #add relief"
   ]
  },
  {
   "cell_type": "markdown",
   "id": "d0918682-3449-46c1-abcb-5fa83f70f7a7",
   "metadata": {},
   "source": [
    "## harmonization of just TOP and MRI for 1 notebooks"
   ]
  },
  {
   "cell_type": "code",
   "execution_count": null,
   "id": "010cab70-51ef-4311-b88b-847d215be94d",
   "metadata": {},
   "outputs": [],
   "source": [
    "library(RcppCNPy)\n",
    "data <- npyLoad(\"top_vs_mri_data_for_relief.npy\")\n",
    "head(data)"
   ]
  },
  {
   "cell_type": "code",
   "execution_count": null,
   "id": "f479189e-36d0-4918-9a7d-06ccef70087f",
   "metadata": {},
   "outputs": [],
   "source": [
    "covars <- read.csv('top_vs_mri_covars_for_relief.csv')"
   ]
  },
  {
   "cell_type": "code",
   "execution_count": null,
   "id": "f5627d45-a22f-42cf-b808-3996c13cdfca",
   "metadata": {},
   "outputs": [],
   "source": [
    "# specify sex as categorical\n",
    "#categorical_cols = ['sex']\n",
    "# To specify the name of the variable that encodes for the scanner/batch covariate:\n",
    "batch_col_mine <- 'batch'\n",
    "#our_continuous_col=['age']\n",
    "#Harmonization step:\n",
    "# relieved = neuroCombat(dat=data,\n",
    "#     batch=batch_col_mine,\n",
    "#     continuous_cols=our_continuous_col,\n",
    "#     categorical_cols=categorical_cols)[\"data\"]\n",
    "\n",
    "relief.harmonized = relief(\n",
    "    dat=data,\n",
    "    batch=batch_col_mine,\n",
    "    mod=NULL\n",
    ")"
   ]
  },
  {
   "cell_type": "code",
   "execution_count": null,
   "id": "bd39e8e1-f4be-4221-b0c9-e48c8a0e5a77",
   "metadata": {},
   "outputs": [],
   "source": []
  },
  {
   "cell_type": "code",
   "execution_count": null,
   "id": "a1a431a9-6e1f-4f15-9aac-9426fb34373a",
   "metadata": {},
   "outputs": [],
   "source": []
  },
  {
   "cell_type": "code",
   "execution_count": null,
   "id": "90bbb270-c13a-4a5e-8525-e7a25b4eada2",
   "metadata": {},
   "outputs": [],
   "source": []
  },
  {
   "cell_type": "code",
   "execution_count": null,
   "id": "3baeb9c7-58c3-4bd7-bfaf-539f976ede12",
   "metadata": {},
   "outputs": [],
   "source": []
  },
  {
   "cell_type": "code",
   "execution_count": null,
   "id": "b0128152-610f-4ffe-a32f-4f191880c1ce",
   "metadata": {},
   "outputs": [],
   "source": []
  },
  {
   "cell_type": "code",
   "execution_count": null,
   "id": "aea56e03-ea7b-4603-9bbd-955a0895e471",
   "metadata": {},
   "outputs": [],
   "source": []
  },
  {
   "cell_type": "code",
   "execution_count": null,
   "id": "12cb1eff-4ddf-4082-80d2-eacec31c271a",
   "metadata": {},
   "outputs": [],
   "source": []
  },
  {
   "cell_type": "code",
   "execution_count": null,
   "id": "5aec9725-5628-4894-b968-9ef7525ee123",
   "metadata": {},
   "outputs": [],
   "source": []
  },
  {
   "cell_type": "code",
   "execution_count": null,
   "id": "51be116f-d6ef-43e6-b003-530ae6e216fd",
   "metadata": {},
   "outputs": [],
   "source": []
  },
  {
   "cell_type": "code",
   "execution_count": null,
   "id": "d1f8015b-910e-49b3-aee6-c83a9811502b",
   "metadata": {},
   "outputs": [],
   "source": []
  },
  {
   "cell_type": "code",
   "execution_count": null,
   "id": "2c051600-9392-4dd4-9d06-ce83128655de",
   "metadata": {
    "vscode": {
     "languageId": "r"
    }
   },
   "outputs": [],
   "source": [
    "EDIS <- read.csv('../our_datasets/EDIS/TrainingDataComplete.csv')\n",
    "head(EDIS, 4)"
   ]
  },
  {
   "cell_type": "code",
   "execution_count": null,
   "id": "a158fa02-6209-4727-a749-7910809f10fc",
   "metadata": {},
   "outputs": [],
   "source": []
  },
  {
   "cell_type": "code",
   "execution_count": null,
   "id": "8d3c82db-1d50-4276-959c-dfaa51924704",
   "metadata": {},
   "outputs": [],
   "source": []
  }
 ],
 "metadata": {
  "kernelspec": {
   "display_name": "R",
   "language": "R",
   "name": "ir"
  },
  "language_info": {
   "codemirror_mode": "r",
   "file_extension": ".r",
   "mimetype": "text/x-r-source",
   "name": "R",
   "pygments_lexer": "r",
   "version": "4.1.3"
  }
 },
 "nbformat": 4,
 "nbformat_minor": 5
}
