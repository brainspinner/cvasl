{
 "cells": [
  {
   "cell_type": "markdown",
   "id": "543aef94-f306-4830-b650-015f141d2912",
   "metadata": {},
   "source": [
    "# Relief harmonizations"
   ]
  },
  {
   "cell_type": "code",
   "execution_count": null,
   "id": "f03f8f23-f457-4eaa-ba51-636cef38128c",
   "metadata": {},
   "outputs": [],
   "source": [
    "source('../../cvasl/vendor/RELIEF/RELIEF.R') #add relief"
   ]
  },
  {
   "cell_type": "code",
   "execution_count": null,
   "id": "38a46988-79b7-48ed-a365-922b1abbb01b",
   "metadata": {},
   "outputs": [],
   "source": [
    "library(MASS)\n",
    "library(Matrix)\n",
    "library(denoiseR)\n",
    "library(RcppCNPy)"
   ]
  },
  {
   "cell_type": "code",
   "execution_count": null,
   "id": "010cab70-51ef-4311-b88b-847d215be94d",
   "metadata": {},
   "outputs": [],
   "source": [
    "data <- npyLoad(\"dat_var_for_RELIEF5.npy\")\n",
    "head(data)"
   ]
  },
  {
   "cell_type": "code",
   "execution_count": null,
   "id": "b4b490da-022f-47bb-9b4d-40047b511bb0",
   "metadata": {},
   "outputs": [],
   "source": [
    "data"
   ]
  },
  {
   "cell_type": "code",
   "execution_count": null,
   "id": "f479189e-36d0-4918-9a7d-06ccef70087f",
   "metadata": {},
   "outputs": [],
   "source": [
    "covars <- read.csv('bath_and_mod_forRELIEF5.csv')\n",
    "head(covars)"
   ]
  },
  {
   "cell_type": "code",
   "execution_count": null,
   "id": "659fefc3-8953-4c0d-b693-fc9849ff0113",
   "metadata": {},
   "outputs": [],
   "source": []
  },
  {
   "cell_type": "code",
   "execution_count": null,
   "id": "495e2a1b-77b8-4e90-96f1-dd03b63a2d7b",
   "metadata": {},
   "outputs": [],
   "source": [
    "# batch_col_mine <- covars['batch']\n",
    "# batch_col_miner <- data.frame(batch_col_mine)\n",
    "# tail(batch_col_miner)"
   ]
  },
  {
   "cell_type": "code",
   "execution_count": null,
   "id": "cd14f4dc-f321-442d-8db3-2b160d7f33d8",
   "metadata": {},
   "outputs": [],
   "source": [
    "#library(english)\n",
    "# batch_col_miner$batch<-as.character(batch_col_miner$batch)\n",
    "# tail(batch_col_miner)"
   ]
  },
  {
   "cell_type": "code",
   "execution_count": null,
   "id": "4fb20730-2bd7-46bb-a6c7-f8521bace12a",
   "metadata": {},
   "outputs": [],
   "source": [
    "tail(covars)"
   ]
  },
  {
   "cell_type": "code",
   "execution_count": null,
   "id": "bef298e2-d28f-4a02-bde4-ff199810e4c8",
   "metadata": {},
   "outputs": [],
   "source": [
    "covars_only  <- covars[,-(1:2)]   \n",
    "head(covars_only)"
   ]
  },
  {
   "cell_type": "code",
   "execution_count": null,
   "id": "448c5966-4ef2-4796-b66f-a969c6380e15",
   "metadata": {},
   "outputs": [],
   "source": [
    "covars_only_matrix <-data.matrix(covars_only)"
   ]
  },
  {
   "cell_type": "code",
   "execution_count": null,
   "id": "b29fc85d-5857-4b14-86ea-9649f0764e82",
   "metadata": {},
   "outputs": [],
   "source": [
    "head(covars_only_matrix)"
   ]
  },
  {
   "cell_type": "code",
   "execution_count": null,
   "id": "f5627d45-a22f-42cf-b808-3996c13cdfca",
   "metadata": {},
   "outputs": [],
   "source": [
    "relief.harmonized = relief(\n",
    "    dat=data,\n",
    "    batch=covars$batch,\n",
    "    mod=covars_only_matrix\n",
    ")"
   ]
  },
  {
   "cell_type": "code",
   "execution_count": null,
   "id": "2d972042-b5ab-4ac1-8bba-dd8bed30683c",
   "metadata": {},
   "outputs": [],
   "source": [
    "head(relief.harmonized)"
   ]
  },
  {
   "cell_type": "code",
   "execution_count": null,
   "id": "ca1b5a87-7f2b-4456-b27d-bee62acb8481",
   "metadata": {},
   "outputs": [],
   "source": [
    "outcomes_harmonized <- relief.harmonized$dat.relief\n",
    "head(outcomes_harmonized)"
   ]
  },
  {
   "cell_type": "code",
   "execution_count": null,
   "id": "c3dada05-38d7-40f4-a4a0-32309d4342f9",
   "metadata": {},
   "outputs": [],
   "source": [
    "dim(outcomes_harmonized)"
   ]
  },
  {
   "cell_type": "code",
   "execution_count": null,
   "id": "bd39e8e1-f4be-4221-b0c9-e48c8a0e5a77",
   "metadata": {},
   "outputs": [],
   "source": [
    "dim(data)"
   ]
  },
  {
   "cell_type": "code",
   "execution_count": null,
   "id": "a1a431a9-6e1f-4f15-9aac-9426fb34373a",
   "metadata": {},
   "outputs": [],
   "source": [
    "dim(covars)"
   ]
  },
  {
   "cell_type": "code",
   "execution_count": null,
   "id": "90bbb270-c13a-4a5e-8525-e7a25b4eada2",
   "metadata": {},
   "outputs": [],
   "source": [
    "dim(covars_only)"
   ]
  },
  {
   "cell_type": "code",
   "execution_count": null,
   "id": "3baeb9c7-58c3-4bd7-bfaf-539f976ede12",
   "metadata": {},
   "outputs": [],
   "source": []
  },
  {
   "cell_type": "code",
   "execution_count": null,
   "id": "b0128152-610f-4ffe-a32f-4f191880c1ce",
   "metadata": {},
   "outputs": [],
   "source": []
  },
  {
   "cell_type": "code",
   "execution_count": null,
   "id": "aea56e03-ea7b-4603-9bbd-955a0895e471",
   "metadata": {},
   "outputs": [],
   "source": []
  },
  {
   "cell_type": "code",
   "execution_count": null,
   "id": "12cb1eff-4ddf-4082-80d2-eacec31c271a",
   "metadata": {},
   "outputs": [],
   "source": []
  },
  {
   "cell_type": "code",
   "execution_count": null,
   "id": "5aec9725-5628-4894-b968-9ef7525ee123",
   "metadata": {},
   "outputs": [],
   "source": []
  },
  {
   "cell_type": "code",
   "execution_count": null,
   "id": "51be116f-d6ef-43e6-b003-530ae6e216fd",
   "metadata": {},
   "outputs": [],
   "source": []
  },
  {
   "cell_type": "code",
   "execution_count": null,
   "id": "d1f8015b-910e-49b3-aee6-c83a9811502b",
   "metadata": {},
   "outputs": [],
   "source": []
  },
  {
   "cell_type": "code",
   "execution_count": null,
   "id": "2c051600-9392-4dd4-9d06-ce83128655de",
   "metadata": {
    "vscode": {
     "languageId": "r"
    }
   },
   "outputs": [],
   "source": [
    "EDIS <- read.csv('../our_datasets/EDIS/TrainingDataComplete.csv')\n",
    "head(EDIS, 4)"
   ]
  },
  {
   "cell_type": "code",
   "execution_count": null,
   "id": "a158fa02-6209-4727-a749-7910809f10fc",
   "metadata": {},
   "outputs": [],
   "source": []
  },
  {
   "cell_type": "code",
   "execution_count": null,
   "id": "8d3c82db-1d50-4276-959c-dfaa51924704",
   "metadata": {},
   "outputs": [],
   "source": []
  }
 ],
 "metadata": {
  "kernelspec": {
   "display_name": "R",
   "language": "R",
   "name": "ir"
  },
  "language_info": {
   "codemirror_mode": "r",
   "file_extension": ".r",
   "mimetype": "text/x-r-source",
   "name": "R",
   "pygments_lexer": "r",
   "version": "3.6.3"
  }
 },
 "nbformat": 4,
 "nbformat_minor": 5
}
