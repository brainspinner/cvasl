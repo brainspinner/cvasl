{
 "cells": [
  {
   "cell_type": "markdown",
   "id": "543aef94-f306-4830-b650-015f141d2912",
   "metadata": {},
   "source": [
    "# Relief harmonizations"
   ]
  },
  {
   "cell_type": "markdown",
   "id": "073aeefd-d5da-4ce5-b11a-d4b4f09db9ce",
   "metadata": {},
   "source": [
    "## This notebook prepares matrixes with the RELIEF algorithm, they have final processing in python.\n",
    "Input data comes from neurocombat notebooks, output data must be created in relief_processing_notebooks"
   ]
  },
  {
   "cell_type": "code",
   "execution_count": null,
   "id": "f03f8f23-f457-4eaa-ba51-636cef38128c",
   "metadata": {},
   "outputs": [],
   "source": [
    "source('../../cvasl/vendor/RELIEF/RELIEF.R') #add relief"
   ]
  },
  {
   "cell_type": "code",
   "execution_count": null,
   "id": "38a46988-79b7-48ed-a365-922b1abbb01b",
   "metadata": {},
   "outputs": [],
   "source": [
    "library(MASS)\n",
    "library(Matrix)\n",
    "library(denoiseR)\n",
    "library(RcppCNPy)"
   ]
  },
  {
   "cell_type": "code",
   "execution_count": null,
   "id": "010cab70-51ef-4311-b88b-847d215be94d",
   "metadata": {},
   "outputs": [],
   "source": [
    "data <- npyLoad(\"dat_var_for_RELIEF5.npy\")\n",
    "head(data)"
   ]
  },
  {
   "cell_type": "code",
   "execution_count": null,
   "id": "b4b490da-022f-47bb-9b4d-40047b511bb0",
   "metadata": {},
   "outputs": [],
   "source": [
    "#data"
   ]
  },
  {
   "cell_type": "code",
   "execution_count": null,
   "id": "4fc811a3-a684-4b8a-a39b-5ff8f88d16b1",
   "metadata": {},
   "outputs": [],
   "source": [
    "mother_of_data <- read.csv('all_togeherf5.csv')\n",
    "head(mother_of_data)"
   ]
  },
  {
   "cell_type": "code",
   "execution_count": null,
   "id": "8a69e000-904d-4a70-8d8c-d91cda24ac91",
   "metadata": {},
   "outputs": [],
   "source": [
    "dim(mother_of_data)"
   ]
  },
  {
   "cell_type": "code",
   "execution_count": null,
   "id": "f479189e-36d0-4918-9a7d-06ccef70087f",
   "metadata": {},
   "outputs": [],
   "source": [
    "covars <- read.csv('bath_and_mod_forRELIEF5.csv')\n",
    "head(covars)"
   ]
  },
  {
   "cell_type": "code",
   "execution_count": null,
   "id": "659fefc3-8953-4c0d-b693-fc9849ff0113",
   "metadata": {},
   "outputs": [],
   "source": []
  },
  {
   "cell_type": "code",
   "execution_count": null,
   "id": "495e2a1b-77b8-4e90-96f1-dd03b63a2d7b",
   "metadata": {},
   "outputs": [],
   "source": [
    "# batch_col_mine <- covars['batch']\n",
    "# batch_col_miner <- data.frame(batch_col_mine)\n",
    "# tail(batch_col_miner)"
   ]
  },
  {
   "cell_type": "code",
   "execution_count": null,
   "id": "cd14f4dc-f321-442d-8db3-2b160d7f33d8",
   "metadata": {},
   "outputs": [],
   "source": [
    "#library(english)\n",
    "# batch_col_miner$batch<-as.character(batch_col_miner$batch)\n",
    "# tail(batch_col_miner)"
   ]
  },
  {
   "cell_type": "code",
   "execution_count": null,
   "id": "4fb20730-2bd7-46bb-a6c7-f8521bace12a",
   "metadata": {},
   "outputs": [],
   "source": [
    "tail(covars)"
   ]
  },
  {
   "cell_type": "code",
   "execution_count": null,
   "id": "bef298e2-d28f-4a02-bde4-ff199810e4c8",
   "metadata": {},
   "outputs": [],
   "source": [
    "covars_only  <- covars[,-(1:2)]   \n",
    "head(covars_only)"
   ]
  },
  {
   "cell_type": "code",
   "execution_count": null,
   "id": "448c5966-4ef2-4796-b66f-a969c6380e15",
   "metadata": {},
   "outputs": [],
   "source": [
    "covars_only_matrix <-data.matrix(covars_only)"
   ]
  },
  {
   "cell_type": "code",
   "execution_count": null,
   "id": "b29fc85d-5857-4b14-86ea-9649f0764e82",
   "metadata": {},
   "outputs": [],
   "source": [
    "head(covars_only_matrix)"
   ]
  },
  {
   "cell_type": "code",
   "execution_count": null,
   "id": "f5627d45-a22f-42cf-b808-3996c13cdfca",
   "metadata": {},
   "outputs": [],
   "source": [
    "relief.harmonized = relief(\n",
    "    dat=data,\n",
    "    batch=covars$batch,\n",
    "    mod=covars_only_matrix\n",
    ")"
   ]
  },
  {
   "cell_type": "code",
   "execution_count": null,
   "id": "2d972042-b5ab-4ac1-8bba-dd8bed30683c",
   "metadata": {},
   "outputs": [],
   "source": [
    "#head(relief.harmonized)"
   ]
  },
  {
   "cell_type": "code",
   "execution_count": null,
   "id": "ca1b5a87-7f2b-4456-b27d-bee62acb8481",
   "metadata": {},
   "outputs": [],
   "source": [
    "outcomes_harmonized <- relief.harmonized$dat.relief\n",
    "head(outcomes_harmonized)"
   ]
  },
  {
   "cell_type": "code",
   "execution_count": null,
   "id": "43f84ddf-667d-40cb-9d56-989e46a9a62c",
   "metadata": {},
   "outputs": [],
   "source": [
    "write.csv(outcomes_harmonized, \"relief1_for5_results.csv\") "
   ]
  },
  {
   "cell_type": "code",
   "execution_count": null,
   "id": "3baeb9c7-58c3-4bd7-bfaf-539f976ede12",
   "metadata": {},
   "outputs": [],
   "source": []
  },
  {
   "cell_type": "code",
   "execution_count": null,
   "id": "b0128152-610f-4ffe-a32f-4f191880c1ce",
   "metadata": {},
   "outputs": [],
   "source": []
  },
  {
   "cell_type": "code",
   "execution_count": null,
   "id": "aea56e03-ea7b-4603-9bbd-955a0895e471",
   "metadata": {},
   "outputs": [],
   "source": []
  },
  {
   "cell_type": "code",
   "execution_count": null,
   "id": "12cb1eff-4ddf-4082-80d2-eacec31c271a",
   "metadata": {},
   "outputs": [],
   "source": []
  },
  {
   "cell_type": "code",
   "execution_count": null,
   "id": "5aec9725-5628-4894-b968-9ef7525ee123",
   "metadata": {},
   "outputs": [],
   "source": []
  }
 ],
 "metadata": {
  "kernelspec": {
   "display_name": "R",
   "language": "R",
   "name": "ir"
  },
  "language_info": {
   "codemirror_mode": "r",
   "file_extension": ".r",
   "mimetype": "text/x-r-source",
   "name": "R",
   "pygments_lexer": "r",
   "version": "3.6.3"
  }
 },
 "nbformat": 4,
 "nbformat_minor": 5
}
