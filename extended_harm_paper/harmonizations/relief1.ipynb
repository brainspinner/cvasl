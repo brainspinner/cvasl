{
 "cells": [
  {
   "cell_type": "markdown",
   "id": "543aef94-f306-4830-b650-015f141d2912",
   "metadata": {},
   "source": [
    "# Relief harmonizations"
   ]
  },
  {
   "cell_type": "markdown",
   "id": "073aeefd-d5da-4ce5-b11a-d4b4f09db9ce",
   "metadata": {},
   "source": [
    "## This notebook prepares matrixes with the RELIEF algorithm, they have final processing in python.\n",
    "Input data comes from neurocombat notebooks, output data must be created in relief_processing_notebooks"
   ]
  },
  {
   "cell_type": "code",
   "execution_count": null,
   "id": "f03f8f23-f457-4eaa-ba51-636cef38128c",
   "metadata": {},
   "outputs": [],
   "source": [
    "source('../../cvasl/vendor/RELIEF/RELIEF.R') #add relief"
   ]
  },
  {
   "cell_type": "code",
   "execution_count": null,
   "id": "38a46988-79b7-48ed-a365-922b1abbb01b",
   "metadata": {},
   "outputs": [],
   "source": [
    "library(MASS)\n",
    "library(Matrix)\n",
    "library(denoiseR)\n",
    "library(RcppCNPy)"
   ]
  },
  {
   "cell_type": "code",
   "execution_count": null,
   "id": "010cab70-51ef-4311-b88b-847d215be94d",
   "metadata": {},
   "outputs": [],
   "source": [
    "data5 <- npyLoad(\"dat_var_for_RELIEF5.npy\")\n",
    "head(data5)"
   ]
  },
  {
   "cell_type": "code",
   "execution_count": null,
   "id": "f479189e-36d0-4918-9a7d-06ccef70087f",
   "metadata": {},
   "outputs": [],
   "source": [
    "covars5 <- read.csv('bath_and_mod_forRELIEF5.csv')\n",
    "head(covars5)"
   ]
  },
  {
   "cell_type": "code",
   "execution_count": null,
   "id": "4fb20730-2bd7-46bb-a6c7-f8521bace12a",
   "metadata": {},
   "outputs": [],
   "source": [
    "tail(covars5)"
   ]
  },
  {
   "cell_type": "code",
   "execution_count": null,
   "id": "bef298e2-d28f-4a02-bde4-ff199810e4c8",
   "metadata": {},
   "outputs": [],
   "source": [
    "covars_only5  <- covars5[,-(1:2)]   \n",
    "head(covars_only5)"
   ]
  },
  {
   "cell_type": "code",
   "execution_count": null,
   "id": "448c5966-4ef2-4796-b66f-a969c6380e15",
   "metadata": {},
   "outputs": [],
   "source": [
    "covars_only_matrix5 <-data.matrix(covars_only5)"
   ]
  },
  {
   "cell_type": "code",
   "execution_count": null,
   "id": "b29fc85d-5857-4b14-86ea-9649f0764e82",
   "metadata": {},
   "outputs": [],
   "source": [
    "head(covars_only_matrix5)"
   ]
  },
  {
   "cell_type": "code",
   "execution_count": null,
   "id": "f5627d45-a22f-42cf-b808-3996c13cdfca",
   "metadata": {},
   "outputs": [],
   "source": [
    "relief.harmonized = relief(\n",
    "    dat=data5,\n",
    "    batch=covars5$batch,\n",
    "    mod=covars_only_matrix5\n",
    ")"
   ]
  },
  {
   "cell_type": "code",
   "execution_count": null,
   "id": "ca1b5a87-7f2b-4456-b27d-bee62acb8481",
   "metadata": {},
   "outputs": [],
   "source": [
    "outcomes_harmonized5 <- relief.harmonized$dat.relief\n",
    "head(outcomes_harmonized5)"
   ]
  },
  {
   "cell_type": "code",
   "execution_count": null,
   "id": "43f84ddf-667d-40cb-9d56-989e46a9a62c",
   "metadata": {},
   "outputs": [],
   "source": [
    "write.csv(outcomes_harmonized5, \"relief1_for5_results.csv\") "
   ]
  },
  {
   "cell_type": "code",
   "execution_count": null,
   "id": "3baeb9c7-58c3-4bd7-bfaf-539f976ede12",
   "metadata": {},
   "outputs": [],
   "source": []
  },
  {
   "cell_type": "code",
   "execution_count": null,
   "id": "dffba4e7-9ce6-4bc6-9e6c-c9f5647cfc95",
   "metadata": {},
   "outputs": [],
   "source": [
    "data_edis <- npyLoad('dat_var_for_RELIEF_topmri_v_edis.npy')\n",
    "head(data_edis)"
   ]
  },
  {
   "cell_type": "code",
   "execution_count": null,
   "id": "79c6256b-765c-48a9-88f4-71cf18e3af55",
   "metadata": {},
   "outputs": [],
   "source": [
    "covars_edis <- read.csv('bath_and_mod_forRELIEF_EDIS_TOPMRI.csv')\n",
    "head(covars_edis)"
   ]
  },
  {
   "cell_type": "code",
   "execution_count": null,
   "id": "0af62747-a67a-4d86-842f-e476e91ce5a6",
   "metadata": {},
   "outputs": [],
   "source": [
    "tail(covars_edis)"
   ]
  },
  {
   "cell_type": "code",
   "execution_count": null,
   "id": "fb4b9b6d-f755-49b0-8d6c-dc43186782f0",
   "metadata": {},
   "outputs": [],
   "source": [
    "covars_only_edis  <- covars_edis[,-(1:2)]   \n",
    "head(covars_only_edis)"
   ]
  },
  {
   "cell_type": "code",
   "execution_count": null,
   "id": "28a6296b-dd71-450f-ade1-fec379ff4a0d",
   "metadata": {},
   "outputs": [],
   "source": [
    "covars_only_matrix_edis <-data.matrix(covars_only_edis)"
   ]
  },
  {
   "cell_type": "code",
   "execution_count": null,
   "id": "3567b604-33f3-4efb-b647-b50014781b34",
   "metadata": {},
   "outputs": [],
   "source": [
    "head(covars_only_matrix_edis)"
   ]
  },
  {
   "cell_type": "code",
   "execution_count": null,
   "id": "76454fb4-c7f6-42e6-b307-ba2d5695b8f0",
   "metadata": {},
   "outputs": [],
   "source": [
    "relief.harmonized = relief(\n",
    "    dat=data_edis,\n",
    "    batch=covars_edis$batch,\n",
    "    mod=covars_only_matrix_edis\n",
    ")"
   ]
  },
  {
   "cell_type": "code",
   "execution_count": null,
   "id": "6c2e6178-e146-4387-a7a7-4f783c51d32f",
   "metadata": {},
   "outputs": [],
   "source": [
    "outcomes_harmonized_edis <- relief.harmonized$dat.relief\n",
    "head(outcomes_harmonized_edis)"
   ]
  },
  {
   "cell_type": "code",
   "execution_count": null,
   "id": "3a3eddf0-7bca-403c-8465-db1a5c47a6e0",
   "metadata": {},
   "outputs": [],
   "source": [
    "write.csv(outcomes_harmonized_edis, \"relief1_for_edis_results.csv\") "
   ]
  },
  {
   "cell_type": "code",
   "execution_count": null,
   "id": "b0128152-610f-4ffe-a32f-4f191880c1ce",
   "metadata": {},
   "outputs": [],
   "source": []
  },
  {
   "cell_type": "code",
   "execution_count": null,
   "id": "aea56e03-ea7b-4603-9bbd-955a0895e471",
   "metadata": {},
   "outputs": [],
   "source": []
  },
  {
   "cell_type": "code",
   "execution_count": null,
   "id": "12cb1eff-4ddf-4082-80d2-eacec31c271a",
   "metadata": {},
   "outputs": [],
   "source": []
  },
  {
   "cell_type": "code",
   "execution_count": null,
   "id": "5aec9725-5628-4894-b968-9ef7525ee123",
   "metadata": {},
   "outputs": [],
   "source": []
  }
 ],
 "metadata": {
  "kernelspec": {
   "display_name": "R",
   "language": "R",
   "name": "ir"
  },
  "language_info": {
   "codemirror_mode": "r",
   "file_extension": ".r",
   "mimetype": "text/x-r-source",
   "name": "R",
   "pygments_lexer": "r",
   "version": "3.6.3"
  }
 },
 "nbformat": 4,
 "nbformat_minor": 5
}
