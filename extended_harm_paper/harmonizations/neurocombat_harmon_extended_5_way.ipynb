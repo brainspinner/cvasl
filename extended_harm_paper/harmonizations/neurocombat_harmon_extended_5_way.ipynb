{
 "cells": [
  {
   "cell_type": "code",
   "execution_count": null,
   "id": "7bcbec16-2a08-48d4-845a-dfe0beda1e59",
   "metadata": {},
   "outputs": [],
   "source": [
    "STOP # this needs re-writing, as it was meant to handle 2 not 5"
   ]
  },
  {
   "cell_type": "markdown",
   "id": "7a33816b-aebe-4619-ad1f-a13d8d1e1c08",
   "metadata": {},
   "source": [
    "# Neurocombat TOPMRI and HELIUS harmonized datasets"
   ]
  },
  {
   "cell_type": "markdown",
   "id": "7f765dc9-a0ac-498a-8c6a-72d1dbf11ad5",
   "metadata": {},
   "source": [
    "Note this must be run in the `neuron` or `neuron_go` environment"
   ]
  },
  {
   "cell_type": "markdown",
   "id": "0b8443b2-c77a-4cde-80cc-d17253eeda50",
   "metadata": {
    "tags": []
   },
   "source": [
    "## import libraries"
   ]
  },
  {
   "cell_type": "code",
   "execution_count": null,
   "id": "6c43d78c-4b3d-4483-aa81-6155993812c1",
   "metadata": {
    "tags": []
   },
   "outputs": [],
   "source": [
    "import os\n",
    "import sys\n",
    "\n",
    "import pandas as pd\n",
    "import numpy as np\n",
    "\n",
    "from neuroCombat import neuroCombat\n",
    "\n",
    "sys.path.insert(0, '../../') # path to functions\n",
    "\n",
    "import cvasl.harmony as har"
   ]
  },
  {
   "cell_type": "markdown",
   "id": "47358f71-117f-4423-be78-bf1334bad921",
   "metadata": {},
   "source": [
    "## We read in our data\n"
   ]
  },
  {
   "cell_type": "code",
   "execution_count": null,
   "id": "602e3571-f710-4f75-a7a0-d4bc1ce1051e",
   "metadata": {
    "tags": []
   },
   "outputs": [],
   "source": [
    "# Datasets for this work\n",
    "EDIS_path = '../our_datasets/EDIS/'\n",
    "HELIUS_path = '../our_datasets/HELIUS/'\n",
    "Insight46_path = '../our_datasets/Insight46/'\n",
    "HELIUS_path = '../our_datasets/HELIUS/'\n",
    "SABRE_path = '../our_datasets/SABRE/'\n",
    "MRI_path = '../our_datasets/StrokeMRI/'\n",
    "TOP_path = '../our_datasets/TOP/'\n",
    "file_name = 'TrainingDataComplete.csv'\n",
    "\n",
    "TOP_file = os.path.join(TOP_path, file_name)\n",
    "MRI_file = os.path.join(MRI_path, file_name)\n",
    "EDIS_file = os.path.join(EDIS_path, file_name)\n",
    "SABRE_file = os.path.join(SABRE_path, file_name)\n",
    "Insight46_file = os.path.join(Insight46_path, file_name)\n",
    "HELIUS_file = os.path.join(HELIUS_path, file_name)\n",
    "\n",
    "TOP = pd.read_csv(TOP_file, index_col=0 )\n",
    "MRI = pd.read_csv(MRI_file, index_col=0)\n",
    "HELIUS = pd.read_csv(HELIUS_file, index_col=0) # \n",
    "EDIS = pd.read_csv(EDIS_file, index_col=0 )\n",
    "SABRE = pd.read_csv(SABRE_file, index_col=0)\n",
    "INSI = pd.read_csv(Insight46_file, index_col=0) # "
   ]
  },
  {
   "cell_type": "code",
   "execution_count": null,
   "id": "6a50f51b-b85e-4d25-8b60-b7ab17f4f0ed",
   "metadata": {},
   "outputs": [],
   "source": []
  },
  {
   "cell_type": "code",
   "execution_count": null,
   "id": "2085e344-a375-437b-9d49-77a418d22ab9",
   "metadata": {},
   "outputs": [],
   "source": [
    "## We found there is one aprticipant from two seperate sights (HELIUS and SABRE) named the same. There fore we will show and switch this"
   ]
  },
  {
   "cell_type": "code",
   "execution_count": null,
   "id": "74a4a9f2-70ed-44de-ab36-c795c6f85716",
   "metadata": {},
   "outputs": [],
   "source": [
    "HELIUS[HELIUS['participant_id']=='sub-153852_1']"
   ]
  },
  {
   "cell_type": "code",
   "execution_count": null,
   "id": "8f5688e8-b53c-4eae-aa21-9a22bd540d40",
   "metadata": {},
   "outputs": [],
   "source": [
    "SABRE[SABRE['participant_id']=='sub-153852_1']"
   ]
  },
  {
   "cell_type": "code",
   "execution_count": null,
   "id": "d24623d7-9d4d-47e4-a75c-d4e40f1ed38f",
   "metadata": {
    "tags": []
   },
   "outputs": [],
   "source": [
    "HELIUS.loc[HELIUS['participant_id']=='sub-153852_1', 'participant_id'] = 'sub-153852_1H'"
   ]
  },
  {
   "cell_type": "code",
   "execution_count": null,
   "id": "8e0369ca-5f66-4944-90fd-834e5d3bb8fa",
   "metadata": {
    "tags": []
   },
   "outputs": [],
   "source": [
    "HELIUS.Sex.unique()"
   ]
  },
  {
   "cell_type": "code",
   "execution_count": null,
   "id": "3d9ba5be-896c-4930-b1d6-4db9b3a57892",
   "metadata": {
    "tags": []
   },
   "outputs": [],
   "source": [
    "HELIUS.head(3)"
   ]
  },
  {
   "cell_type": "code",
   "execution_count": null,
   "id": "081358a6-b1ed-47e0-8c58-8bd0eb4bab51",
   "metadata": {
    "tags": []
   },
   "outputs": [],
   "source": [
    "sex_mapping = {1:0,2:1}\n",
    "\n",
    "EDIS = EDIS.assign(Sex = EDIS.Sex.map(sex_mapping))\n",
    "EDIS.head(3)"
   ]
  },
  {
   "cell_type": "code",
   "execution_count": null,
   "id": "35f35750-0844-4d34-8bf5-b6fd8b53d457",
   "metadata": {
    "tags": []
   },
   "outputs": [],
   "source": [
    "INSI = INSI.assign(Sex = INSI.Sex.map(sex_mapping))\n",
    "INSI.head(3)"
   ]
  },
  {
   "cell_type": "code",
   "execution_count": null,
   "id": "9cae0de2-5009-4035-8e6d-824efa153cef",
   "metadata": {
    "tags": []
   },
   "outputs": [],
   "source": [
    "SABRE = SABRE.assign(Sex = SABRE.Sex.map(sex_mapping))\n",
    "SABRE.head(3)"
   ]
  },
  {
   "cell_type": "code",
   "execution_count": null,
   "id": "d9e8545e-992e-494d-b75c-7e422eeaa58f",
   "metadata": {
    "tags": []
   },
   "outputs": [],
   "source": [
    "TOP = TOP.drop(['Site', 'ID'], axis= 1)\n",
    "TOP.head(3)"
   ]
  },
  {
   "cell_type": "code",
   "execution_count": null,
   "id": "c944d6f3-40af-4b64-a44c-90868bc7bdcf",
   "metadata": {
    "tags": []
   },
   "outputs": [],
   "source": [
    "MRI = MRI.drop(['Site', 'ID'],axis = 1)\n",
    "MRI.tail(3)"
   ]
  },
  {
   "cell_type": "code",
   "execution_count": null,
   "id": "aad5657e-bba7-494f-b030-0aa1472d5d99",
   "metadata": {
    "tags": []
   },
   "outputs": [],
   "source": [
    "TOPMRI = pd.concat([MRI ,TOP])\n",
    "TOPMRI.head(3)"
   ]
  },
  {
   "cell_type": "code",
   "execution_count": null,
   "id": "d78c5075-13e1-438a-ba6e-647595ddba3a",
   "metadata": {
    "tags": []
   },
   "outputs": [],
   "source": [
    "HELIUS = HELIUS.drop(['Site', 'ID'],axis = 1)\n",
    "HELIUS.tail(3)"
   ]
  },
  {
   "cell_type": "code",
   "execution_count": null,
   "id": "df406aba-52f0-45bb-bcd0-e4326ea24eca",
   "metadata": {
    "tags": []
   },
   "outputs": [],
   "source": [
    "EDIS = EDIS.drop(['Site', 'ID'],axis = 1)\n",
    "INSI = INSI.drop(['Site', 'ID'],axis = 1)\n",
    "SABRE = SABRE.drop(['Site', 'ID'],axis = 1)"
   ]
  },
  {
   "cell_type": "code",
   "execution_count": null,
   "id": "357ec336-5bfb-4f56-a927-9f1771d25183",
   "metadata": {
    "tags": []
   },
   "outputs": [],
   "source": [
    "EDIS.columns"
   ]
  },
  {
   "cell_type": "code",
   "execution_count": null,
   "id": "f6c16949-4cf3-4800-bdcd-4b24c691f5ab",
   "metadata": {
    "tags": []
   },
   "outputs": [],
   "source": [
    "TOPMRI.shape"
   ]
  },
  {
   "cell_type": "markdown",
   "id": "039dae14-0757-4d41-a879-1469ef1b6de4",
   "metadata": {},
   "source": [
    "# neurocombat prep"
   ]
  },
  {
   "cell_type": "code",
   "execution_count": null,
   "id": "afb9b058",
   "metadata": {
    "tags": []
   },
   "outputs": [],
   "source": [
    "both_togetherF, ftF, btF, feature_dictF, len1, len2 = har.prep_for_neurocombat(TOPMRI, HELIUS)"
   ]
  },
  {
   "cell_type": "code",
   "execution_count": null,
   "id": "79944499-16f6-41c4-801e-e453efb0eb56",
   "metadata": {
    "tags": []
   },
   "outputs": [],
   "source": [
    "both_togetherF"
   ]
  },
  {
   "cell_type": "code",
   "execution_count": null,
   "id": "0994afd5-bd15-4b70-88b3-e64fb297e81f",
   "metadata": {
    "tags": []
   },
   "outputs": [],
   "source": [
    "# our_mri_data = pd.read_csv(filename_mri)\n",
    "# our_top_data = pd.read_csv(filename_top)"
   ]
  },
  {
   "cell_type": "code",
   "execution_count": null,
   "id": "bb5f07aa-d902-4997-be96-32f9383f6074",
   "metadata": {
    "tags": []
   },
   "outputs": [],
   "source": [
    "# # save off csv\n",
    "# both_together.to_csv('both_top_mri_together.csv')"
   ]
  },
  {
   "cell_type": "code",
   "execution_count": null,
   "id": "add96e2c-ad39-4a97-bedb-62c3c67ef7c5",
   "metadata": {
    "tags": []
   },
   "outputs": [],
   "source": [
    "# # make and save of csv of features only\n",
    "# features_only = both_together[2:]\n",
    "# #features_only.to_csv('features_only_top_mri.csv')"
   ]
  },
  {
   "cell_type": "code",
   "execution_count": null,
   "id": "6c9d178c",
   "metadata": {
    "tags": []
   },
   "outputs": [],
   "source": [
    "ftF.to_csv('ftF_top_mri_HELIUS.csv')"
   ]
  },
  {
   "cell_type": "code",
   "execution_count": null,
   "id": "7c219d10-f86a-41b7-9cad-6f0dda6534ba",
   "metadata": {
    "tags": []
   },
   "outputs": [],
   "source": [
    "data = np.genfromtxt('ftF_top_mri_HELIUS.csv', delimiter=\",\", skip_header=1)\n",
    "data = data[:, 1:]\n",
    "data"
   ]
  },
  {
   "cell_type": "code",
   "execution_count": null,
   "id": "287a155a-ea1a-4004-99c9-b270738eb8ca",
   "metadata": {
    "tags": []
   },
   "outputs": [],
   "source": [
    "TOPMRI.head(3)"
   ]
  },
  {
   "cell_type": "code",
   "execution_count": null,
   "id": "0db3c98c-c98e-48a0-a2e2-4276d621d5b9",
   "metadata": {
    "tags": []
   },
   "outputs": [],
   "source": [
    "both_togetherF.head(3)"
   ]
  },
  {
   "cell_type": "code",
   "execution_count": null,
   "id": "0822a85f",
   "metadata": {
    "tags": []
   },
   "outputs": [],
   "source": [
    "# Specifying the batch (scanner variable) as well as a sex covariate to preserve:\n",
    "first_columns_as_one = [1] * len1\n",
    "last_columns_as_two = [2] * len2\n",
    "covars = {'batch':first_columns_as_one + last_columns_as_two,\n",
    "          #'Site': both_togetherF.loc['Site',:].values.tolist(), \n",
    "          'Sex':both_togetherF.loc['Sex',:].values.tolist(),\n",
    "           'Age':both_togetherF.loc['Age',:].values.tolist(),} \n",
    "covars = pd.DataFrame(covars) "
   ]
  },
  {
   "cell_type": "code",
   "execution_count": null,
   "id": "54d72053-ae95-4468-b363-07c867b1bdfd",
   "metadata": {
    "tags": []
   },
   "outputs": [],
   "source": [
    "covars"
   ]
  },
  {
   "cell_type": "code",
   "execution_count": null,
   "id": "32d459af-9566-49bd-9aee-d057da30c005",
   "metadata": {},
   "outputs": [],
   "source": []
  },
  {
   "cell_type": "code",
   "execution_count": null,
   "id": "2cf35776-4dcc-4992-bc8f-085a3da3e19a",
   "metadata": {},
   "outputs": [],
   "source": []
  },
  {
   "cell_type": "code",
   "execution_count": null,
   "id": "d74b6300-db76-446d-b8e9-30d924c5ab90",
   "metadata": {},
   "outputs": [],
   "source": []
  },
  {
   "cell_type": "code",
   "execution_count": null,
   "id": "a34c2d02-0290-42af-9bb4-9aa147110577",
   "metadata": {},
   "outputs": [],
   "source": []
  },
  {
   "cell_type": "code",
   "execution_count": null,
   "id": "37e175c3-4334-45ae-8a0a-97827ca49ed6",
   "metadata": {},
   "outputs": [],
   "source": []
  },
  {
   "cell_type": "code",
   "execution_count": null,
   "id": "6f4ee2aa-8c62-450b-83c7-63d897e58474",
   "metadata": {},
   "outputs": [],
   "source": []
  },
  {
   "cell_type": "code",
   "execution_count": null,
   "id": "06282a63-797a-41bc-89de-8892e3e0bfaf",
   "metadata": {},
   "outputs": [],
   "source": []
  },
  {
   "cell_type": "code",
   "execution_count": null,
   "id": "9eeb54ca-ae2a-4031-afca-0a68d3f12bbb",
   "metadata": {},
   "outputs": [],
   "source": []
  },
  {
   "cell_type": "code",
   "execution_count": null,
   "id": "c9b12ab3-c95d-400a-8d59-6f2cc0169570",
   "metadata": {
    "tags": []
   },
   "outputs": [],
   "source": [
    "# specifify sex as categorical\n",
    "categorical_cols = ['Sex']\n",
    "# To specify the name of the variable that encodes for the scanner/batch covariate:\n",
    "batch_col_mine = 'batch'\n",
    "our_continuous_col=['Age']\n",
    "#Harmonization step:\n",
    "data_combat = neuroCombat(dat=data,\n",
    "    covars=covars,\n",
    "    batch_col=batch_col_mine,\n",
    "    continuous_cols=our_continuous_col,\n",
    "    categorical_cols=categorical_cols)[\"data\"]\n",
    "\n",
    "# (n_dat, covars, batch_col, continuous_cols=continuous_cols,\n",
    "#                                     categorical_cols=categorical_cols)"
   ]
  },
  {
   "cell_type": "code",
   "execution_count": null,
   "id": "1081f339-db19-4920-b672-034732bb683d",
   "metadata": {
    "tags": []
   },
   "outputs": [],
   "source": [
    "neurocombat = pd.DataFrame(data_combat)\n",
    "neurocombat"
   ]
  },
  {
   "cell_type": "code",
   "execution_count": null,
   "id": "e13498a9-4d84-448d-a0db-a0306d4cd22c",
   "metadata": {
    "tags": []
   },
   "outputs": [],
   "source": [
    "topperF = har.make_topper(btF,'Age', 'Sex')"
   ]
  },
  {
   "cell_type": "code",
   "execution_count": null,
   "id": "4221e474-acd6-4a77-be9f-20f283015f18",
   "metadata": {
    "tags": []
   },
   "outputs": [],
   "source": [
    "bottom = neurocombat.reset_index(drop=False)\n",
    "bottom = bottom.rename(columns={\"index\": \"char\"})\n",
    "bottom.columns = topperF.columns"
   ]
  },
  {
   "cell_type": "code",
   "execution_count": null,
   "id": "e777f7f0-c411-477e-bedb-aef5bd99e3c8",
   "metadata": {
    "tags": []
   },
   "outputs": [],
   "source": [
    "back_together = pd.concat([topperF, bottom])\n",
    "back_together = back_together.T\n",
    "#back_together"
   ]
  },
  {
   "cell_type": "code",
   "execution_count": null,
   "id": "fbeeec53-6d33-4fa2-a173-de19b79c435b",
   "metadata": {
    "tags": []
   },
   "outputs": [],
   "source": [
    "new_header = back_together.iloc[0] #grab the first row for the header\n",
    "back_together.columns = new_header #set the header row as the df header\n",
    "back_together = back_together[1:]\n",
    "#back_together"
   ]
  },
  {
   "cell_type": "code",
   "execution_count": null,
   "id": "ad7e09a3-00b4-48e5-aa29-a33247ebfa90",
   "metadata": {
    "tags": []
   },
   "outputs": [],
   "source": [
    "back_together.head(3)"
   ]
  },
  {
   "cell_type": "code",
   "execution_count": null,
   "id": "57dbb033-c216-4df9-b1e4-db93783c4e7b",
   "metadata": {
    "tags": []
   },
   "outputs": [],
   "source": [
    "neuro_harm_HELIUS =back_together.tail(len2)\n",
    "neuro_harm_topmri =back_together.head(len1)"
   ]
  },
  {
   "cell_type": "code",
   "execution_count": null,
   "id": "ce61d0b9-28fd-43c1-ba3f-8b43453ecd0b",
   "metadata": {
    "tags": []
   },
   "outputs": [],
   "source": [
    "neuro_harm_topmri = neuro_harm_topmri.rename(feature_dictF, axis='columns')\n",
    "neuro_harm_HELIUS = neuro_harm_HELIUS.rename(feature_dictF, axis='columns')"
   ]
  },
  {
   "cell_type": "code",
   "execution_count": null,
   "id": "505c6c00-9797-4490-9fe8-07eb0e936010",
   "metadata": {
    "tags": []
   },
   "outputs": [],
   "source": []
  },
  {
   "cell_type": "code",
   "execution_count": null,
   "id": "37f3ac5b-f8e0-4ec0-a2b0-b7408abf5a89",
   "metadata": {
    "tags": []
   },
   "outputs": [],
   "source": [
    "neuro_harm_HELIUS = neuro_harm_HELIUS.reset_index()\n",
    "neuro_harm_HELIUS = neuro_harm_HELIUS.rename(columns={\"index\": \"participant_id\"})\n",
    "neuro_harm_HELIUS"
   ]
  },
  {
   "cell_type": "markdown",
   "id": "3120740b-8e9d-4aae-bc85-3157566df23c",
   "metadata": {},
   "source": [
    "Save off to harmonized csv files"
   ]
  },
  {
   "cell_type": "code",
   "execution_count": null,
   "id": "73cda0f9-6879-467a-83c7-713921e1e885",
   "metadata": {
    "tags": []
   },
   "outputs": [],
   "source": [
    "neuro_harm_topmri = neuro_harm_topmri.reset_index()\n",
    "neuro_harm_topmri = neuro_harm_topmri.rename(columns={\"index\": \"participant_id\"})\n",
    "neuro_harm_topmri"
   ]
  },
  {
   "cell_type": "code",
   "execution_count": null,
   "id": "613ddb0a-008a-42d4-a6a9-c88be60e8f21",
   "metadata": {
    "tags": []
   },
   "outputs": [],
   "source": [
    "neuro_harm_HELIUS.to_csv('harm_results/neuro_harm_HELIUS.csv')\n",
    "neuro_harm_topmri.to_csv('harm_results/neuro_harm_topmri_from_HELIUS.csv')"
   ]
  },
  {
   "cell_type": "code",
   "execution_count": null,
   "id": "c74857fd-5530-4c8e-96b0-eb951effee60",
   "metadata": {
    "tags": []
   },
   "outputs": [],
   "source": [
    "#neuro_harm_HELIUS.columns"
   ]
  },
  {
   "cell_type": "code",
   "execution_count": null,
   "id": "f40fecb1-8fef-42a9-8a65-c94724ce0858",
   "metadata": {
    "tags": []
   },
   "outputs": [],
   "source": [
    "number_columns = ['Age', 'Sex', 'GM_vol', 'WM_vol', 'CSF_vol',\n",
    "       'GM_ICVRatio', 'GMWM_ICVRatio', 'WMHvol_WMvol', 'WMH_count',\n",
    "       'ACA_B_CoV', 'MCA_B_CoV', 'PCA_B_CoV', 'TotalGM_B_CoV',\n",
    "       'ACA_B_CBF', 'MCA_B_CBF', 'PCA_B_CBF', 'TotalGM_B_CBF',]"
   ]
  },
  {
   "cell_type": "markdown",
   "id": "bdcb03f2-ccf3-47a8-89b9-c4a7bf26b1a6",
   "metadata": {},
   "source": [
    "# Data quality check"
   ]
  },
  {
   "cell_type": "code",
   "execution_count": null,
   "id": "135ff6dc-465e-4625-bb05-46eff02306dc",
   "metadata": {
    "tags": []
   },
   "outputs": [],
   "source": [
    "TOPMRI"
   ]
  },
  {
   "cell_type": "code",
   "execution_count": null,
   "id": "17da85ab-ba4e-4739-b7bf-9bd3632f7a1f",
   "metadata": {
    "tags": []
   },
   "outputs": [],
   "source": [
    "neuro_harm_topmri"
   ]
  },
  {
   "cell_type": "code",
   "execution_count": null,
   "id": "ae754821-8292-49d2-8533-ab98c866c07e",
   "metadata": {
    "tags": []
   },
   "outputs": [],
   "source": [
    "neuro_harm_HELIUS.isna().sum().sum()"
   ]
  },
  {
   "cell_type": "code",
   "execution_count": null,
   "id": "0c455742-4296-462c-877e-1f2742d1eb5e",
   "metadata": {
    "tags": []
   },
   "outputs": [],
   "source": [
    "neuro_harm_topmri.isna().sum().sum()"
   ]
  },
  {
   "cell_type": "code",
   "execution_count": null,
   "id": "f8086e1c-ca54-4d5d-af69-df1b5a2c2ddf",
   "metadata": {
    "tags": []
   },
   "outputs": [],
   "source": [
    "#neuro_harm_top.head(3)\n",
    "(neuro_harm_HELIUS[number_columns] < 0).sum()"
   ]
  },
  {
   "cell_type": "code",
   "execution_count": null,
   "id": "135a1a3a-cc9d-4ec5-8580-b82a1c41bbf2",
   "metadata": {
    "tags": []
   },
   "outputs": [],
   "source": [
    "(neuro_harm_topmri[number_columns] < 0).sum()"
   ]
  },
  {
   "cell_type": "code",
   "execution_count": null,
   "id": "4b881541-b0fe-4261-a52e-637a3909fd7d",
   "metadata": {},
   "outputs": [],
   "source": []
  },
  {
   "cell_type": "code",
   "execution_count": null,
   "id": "7325b72f-655d-45df-9bbd-b82a232cc00a",
   "metadata": {},
   "outputs": [],
   "source": []
  },
  {
   "cell_type": "code",
   "execution_count": null,
   "id": "dc5b1312-870e-449a-9cad-bfce2383a038",
   "metadata": {},
   "outputs": [],
   "source": []
  },
  {
   "cell_type": "code",
   "execution_count": null,
   "id": "3d10f876-a72a-4f3f-8071-02e8a3cf32e3",
   "metadata": {},
   "outputs": [],
   "source": []
  }
 ],
 "metadata": {
  "kernelspec": {
   "display_name": "Python 3 (ipykernel)",
   "language": "python",
   "name": "python3"
  },
  "language_info": {
   "codemirror_mode": {
    "name": "ipython",
    "version": 3
   },
   "file_extension": ".py",
   "mimetype": "text/x-python",
   "name": "python",
   "nbconvert_exporter": "python",
   "pygments_lexer": "ipython3",
   "version": "3.7.12"
  }
 },
 "nbformat": 4,
 "nbformat_minor": 5
}
