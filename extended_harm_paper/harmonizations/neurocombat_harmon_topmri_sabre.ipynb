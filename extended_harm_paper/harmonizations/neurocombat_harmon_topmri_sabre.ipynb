{
 "cells": [
  {
   "cell_type": "markdown",
   "id": "7a33816b-aebe-4619-ad1f-a13d8d1e1c08",
   "metadata": {},
   "source": [
    "# Neurocombat TOP-StrokeMRI (TOPMRI) and SABRE harmonized datasets"
   ]
  },
  {
   "cell_type": "markdown",
   "id": "7f765dc9-a0ac-498a-8c6a-72d1dbf11ad5",
   "metadata": {},
   "source": [
    "Note this must be run in the `neuron` environment"
   ]
  },
  {
   "cell_type": "markdown",
   "id": "0b8443b2-c77a-4cde-80cc-d17253eeda50",
   "metadata": {
    "tags": []
   },
   "source": [
    "## import libraries"
   ]
  },
  {
   "cell_type": "code",
   "execution_count": null,
   "id": "6c43d78c-4b3d-4483-aa81-6155993812c1",
   "metadata": {
    "tags": []
   },
   "outputs": [],
   "source": [
    "import os\n",
    "\n",
    "import pandas as pd\n",
    "import numpy as np\n",
    "\n",
    "from neuroCombat import neuroCombat"
   ]
  },
  {
   "cell_type": "markdown",
   "id": "47358f71-117f-4423-be78-bf1334bad921",
   "metadata": {},
   "source": [
    "## Let's see how we would apply this to our data\n",
    "We will have to flip it on it's side to make it work"
   ]
  },
  {
   "cell_type": "code",
   "execution_count": null,
   "id": "b3f0435c-df16-408e-a483-e7e30a32320d",
   "metadata": {
    "tags": []
   },
   "outputs": [],
   "source": [
    "filepath = '../open_work/internal_results/cleaned_pvc2s/' \n",
    "filename_mri = os.path.join(filepath,'StrokeMRI_pvc2c.csv') \n",
    "filename_top = os.path.join(filepath,'TOP_pvc2c.csv') \n",
    "filename_sabre =  os.path.join(filepath,'SABRE_pvc2_cleaned.csv') "
   ]
  },
  {
   "cell_type": "code",
   "execution_count": null,
   "id": "602e3571-f710-4f75-a7a0-d4bc1ce1051e",
   "metadata": {
    "tags": []
   },
   "outputs": [],
   "source": [
    "our_mri_data = pd.read_csv(filename_mri)\n",
    "our_top_data = pd.read_csv(filename_top)\n",
    "our_sabre_data = pd.read_csv(filename_sabre)\n",
    "our_sabre_data.head(3)"
   ]
  },
  {
   "cell_type": "code",
   "execution_count": null,
   "id": "8a8bcbba-ea30-4149-8e32-fbc58064a11c",
   "metadata": {
    "tags": []
   },
   "outputs": [],
   "source": [
    "shared_columns = our_mri_data.columns\n",
    "our_sabre_data = our_sabre_data[shared_columns]\n",
    "our_sabre_data.head(3)"
   ]
  },
  {
   "cell_type": "code",
   "execution_count": null,
   "id": "438772bb-b231-4655-ad81-4a6de7b22ba5",
   "metadata": {
    "tags": []
   },
   "outputs": [],
   "source": [
    "our_sabre_data.isna().sum()"
   ]
  },
  {
   "cell_type": "code",
   "execution_count": null,
   "id": "e95f4888-6381-4910-ac7e-0501b8794879",
   "metadata": {
    "tags": []
   },
   "outputs": [],
   "source": [
    "our_mri_data.head(3)"
   ]
  },
  {
   "cell_type": "code",
   "execution_count": null,
   "id": "7d94db77-1273-433f-88d3-f72856e7e964",
   "metadata": {
    "tags": []
   },
   "outputs": [],
   "source": [
    "our_topmri_data = pd.concat([our_mri_data , our_top_data ])\n",
    "our_topmri_data.head(3)"
   ]
  },
  {
   "cell_type": "code",
   "execution_count": null,
   "id": "02d60845-ae9c-4220-9314-79631140d597",
   "metadata": {
    "tags": []
   },
   "outputs": [],
   "source": [
    "our_topmri_data.isna().sum()"
   ]
  },
  {
   "cell_type": "code",
   "execution_count": null,
   "id": "6a861193-ac25-4993-aacc-781e942a710c",
   "metadata": {
    "tags": []
   },
   "outputs": [],
   "source": [
    "our_topmri_data.to_csv('topmri_for_sabre.csv')"
   ]
  },
  {
   "cell_type": "code",
   "execution_count": null,
   "id": "a6f0b98d-df4a-4aed-9ade-f6721b961574",
   "metadata": {
    "tags": []
   },
   "outputs": [],
   "source": [
    "filename_topmri = 'topmri_for_sabre.csv'"
   ]
  },
  {
   "cell_type": "code",
   "execution_count": null,
   "id": "318acdb5",
   "metadata": {
    "tags": []
   },
   "outputs": [],
   "source": [
    "def prep_for_neurocombat(dataframename1, dataframename2):\n",
    "    \"\"\"\n",
    "    This function takes two dataframes in the cvasl format,\n",
    "    then turns them into three items needed for the \n",
    "    neurocombat algorithm with re-identification.\n",
    "    \n",
    "    \"\"\"\n",
    "    our_1_frame = pd.read_csv(dataframename1)\n",
    "    our_2_frame = pd.read_csv(dataframename2)\n",
    "    two_selection = our_2_frame.drop(['Unnamed: 0'],axis=1)\n",
    "    one_selection = our_1_frame.drop(['Unnamed: 0'],axis=1)\n",
    "    one_selection = one_selection.set_index('participant_id')\n",
    "    two_selection = two_selection.set_index('participant_id')\n",
    "    one_selection = one_selection.T\n",
    "    two_selection = two_selection.T\n",
    "    both_togetherF = pd.concat([one_selection, two_selection], axis=1, join=\"inner\")\n",
    "    print(\"Nan count\",both_togetherF.isna().sum().sum())\n",
    "    features_only = both_togetherF[2:]\n",
    "    dictionary_features_len = len(features_only.T.columns)\n",
    "    number = 0\n",
    "    made_keys = [] \n",
    "    made_vals = [] \n",
    "    for n in features_only.T.columns:\n",
    "\n",
    "        made_keys.append(number)\n",
    "        made_vals.append(n)\n",
    "        number +=1\n",
    "    feature_dictF = dict(map(lambda i,j : (i,j) , made_keys,made_vals))\n",
    "    ftF = features_only.reset_index()\n",
    "    ftF = ftF.rename(columns={\"index\": \"A\"})\n",
    "    ftF = ftF.drop(['A'], axis=1)\n",
    "    ftF = ftF.dropna()\n",
    "    btF = both_togetherF.reset_index()\n",
    "    btF = btF.rename(columns={\"index\": \"A\"})\n",
    "    btF = btF.drop(['A'], axis=1)\n",
    "    btF = btF.dropna()\n",
    "    len1 = len(one_selection.columns)\n",
    "    len2 = len(two_selection.columns)\n",
    "    return both_togetherF, ftF, btF, feature_dictF, len1, len2"
   ]
  },
  {
   "cell_type": "code",
   "execution_count": null,
   "id": "afb9b058",
   "metadata": {
    "tags": []
   },
   "outputs": [],
   "source": [
    "both_togetherF, ftF, btF, feature_dictF, len1, len2 = prep_for_neurocombat(filename_topmri, filename_sabre)"
   ]
  },
  {
   "cell_type": "code",
   "execution_count": null,
   "id": "6c9d178c",
   "metadata": {
    "tags": []
   },
   "outputs": [],
   "source": [
    "ftF.to_csv('ftF_topmri_sabre.csv')"
   ]
  },
  {
   "cell_type": "code",
   "execution_count": null,
   "id": "7c219d10-f86a-41b7-9cad-6f0dda6534ba",
   "metadata": {
    "tags": []
   },
   "outputs": [],
   "source": [
    "data = np.genfromtxt('ftF_topmri_sabre.csv', delimiter=\",\", skip_header=1)\n",
    "data = data[:, 1:]\n",
    "data"
   ]
  },
  {
   "cell_type": "code",
   "execution_count": null,
   "id": "0822a85f",
   "metadata": {
    "tags": []
   },
   "outputs": [],
   "source": [
    "# Specifying the batch (scanner variable) as well as a sex covariate to preserve:\n",
    "first_columns_as_one = [1] * len1\n",
    "last_columns_as_two = [2] * len2\n",
    "covars = {'batch':first_columns_as_one + last_columns_as_two,\n",
    "          'sex':both_togetherF.loc['sex',:].values.tolist(),\n",
    "           'age':both_togetherF.loc['age',:].values.tolist(),} \n",
    "covars = pd.DataFrame(covars) "
   ]
  },
  {
   "cell_type": "code",
   "execution_count": null,
   "id": "c9b12ab3-c95d-400a-8d59-6f2cc0169570",
   "metadata": {
    "tags": []
   },
   "outputs": [],
   "source": [
    "# specifify sex as categorical\n",
    "categorical_cols = ['sex']\n",
    "# To specify the name of the variable that encodes for the scanner/batch covariate:\n",
    "batch_col_mine = 'batch'\n",
    "our_continuous_col=['age']\n",
    "#Harmonization step:\n",
    "data_combat = neuroCombat(dat=data,\n",
    "    covars=covars,\n",
    "    batch_col=batch_col_mine,\n",
    "    continuous_cols=our_continuous_col,\n",
    "    categorical_cols=categorical_cols)[\"data\"]\n",
    "\n",
    "# (n_dat, covars, batch_col, continuous_cols=continuous_cols,\n",
    "#                                     categorical_cols=categorical_cols)"
   ]
  },
  {
   "cell_type": "code",
   "execution_count": null,
   "id": "1081f339-db19-4920-b672-034732bb683d",
   "metadata": {
    "tags": []
   },
   "outputs": [],
   "source": [
    "neurocombat = pd.DataFrame(data_combat)\n",
    "neurocombat"
   ]
  },
  {
   "cell_type": "code",
   "execution_count": null,
   "id": "1e338673-9a75-4673-83fd-de4628184213",
   "metadata": {
    "tags": []
   },
   "outputs": [],
   "source": [
    "def make_topper(btF, row0,row1):\n",
    "    \"\"\"\n",
    "    This function makes top rows for something harmonized\n",
    "    out of the btF part produced with prep_for_neurocombat(dataframename1, dataframename2)\n",
    "    \"\"\"\n",
    "    topperF = btF.head(2)\n",
    "    topperF = topperF.rename_axis(None, axis=\"columns\")\n",
    "    topperF = topperF.reset_index(drop=False)\n",
    "    topperF = topperF.rename(columns={\"index\": \"char\"})\n",
    "    topperF['char'][0] = row0#'age'\n",
    "    topperF['char'][1] = row1#'sex'\n",
    "    return topperF"
   ]
  },
  {
   "cell_type": "code",
   "execution_count": null,
   "id": "e13498a9-4d84-448d-a0db-a0306d4cd22c",
   "metadata": {
    "tags": []
   },
   "outputs": [],
   "source": [
    "topperF = make_topper(btF,'age', 'sex')"
   ]
  },
  {
   "cell_type": "code",
   "execution_count": null,
   "id": "4221e474-acd6-4a77-be9f-20f283015f18",
   "metadata": {
    "tags": []
   },
   "outputs": [],
   "source": [
    "bottom = neurocombat.reset_index(drop=False)\n",
    "bottom = bottom.rename(columns={\"index\": \"char\"})\n",
    "bottom.columns = topperF.columns"
   ]
  },
  {
   "cell_type": "code",
   "execution_count": null,
   "id": "e777f7f0-c411-477e-bedb-aef5bd99e3c8",
   "metadata": {
    "tags": []
   },
   "outputs": [],
   "source": [
    "back_together = pd.concat([topperF, bottom])\n",
    "back_together = back_together.T\n",
    "#back_together"
   ]
  },
  {
   "cell_type": "code",
   "execution_count": null,
   "id": "fbeeec53-6d33-4fa2-a173-de19b79c435b",
   "metadata": {
    "tags": []
   },
   "outputs": [],
   "source": [
    "new_header = back_together.iloc[0] #grab the first row for the header\n",
    "back_together.columns = new_header #set the header row as the df header\n",
    "back_together = back_together[1:]\n",
    "#back_together"
   ]
  },
  {
   "cell_type": "code",
   "execution_count": null,
   "id": "ad7e09a3-00b4-48e5-aa29-a33247ebfa90",
   "metadata": {
    "tags": []
   },
   "outputs": [],
   "source": [
    "back_together.head(3)"
   ]
  },
  {
   "cell_type": "code",
   "execution_count": null,
   "id": "57dbb033-c216-4df9-b1e4-db93783c4e7b",
   "metadata": {
    "tags": []
   },
   "outputs": [],
   "source": [
    "neuro_harm_sabre =back_together.tail(len2)\n",
    "neuro_harm_topmri =back_together.head(len1)"
   ]
  },
  {
   "cell_type": "code",
   "execution_count": null,
   "id": "ce61d0b9-28fd-43c1-ba3f-8b43453ecd0b",
   "metadata": {
    "tags": []
   },
   "outputs": [],
   "source": [
    "neuro_harm_topmri = neuro_harm_topmri.rename(feature_dictF, axis='columns')\n",
    "neuro_harm_sabre = neuro_harm_sabre.rename(feature_dictF, axis='columns')"
   ]
  },
  {
   "cell_type": "code",
   "execution_count": null,
   "id": "37f3ac5b-f8e0-4ec0-a2b0-b7408abf5a89",
   "metadata": {
    "tags": []
   },
   "outputs": [],
   "source": [
    "neuro_harm_topmri = neuro_harm_topmri.reset_index()\n",
    "neuro_harm_topmri = neuro_harm_topmri.rename(columns={\"index\": \"participant_id\"})\n",
    "neuro_harm_topmri"
   ]
  },
  {
   "cell_type": "markdown",
   "id": "3120740b-8e9d-4aae-bc85-3157566df23c",
   "metadata": {},
   "source": [
    "Save off to harmonized csv files"
   ]
  },
  {
   "cell_type": "code",
   "execution_count": null,
   "id": "73cda0f9-6879-467a-83c7-713921e1e885",
   "metadata": {
    "tags": []
   },
   "outputs": [],
   "source": [
    "neuro_harm_sabre = neuro_harm_sabre.reset_index()\n",
    "neuro_harm_sabre = neuro_harm_sabre.rename(columns={\"index\": \"participant_id\"})\n",
    "neuro_harm_sabre"
   ]
  },
  {
   "cell_type": "code",
   "execution_count": null,
   "id": "613ddb0a-008a-42d4-a6a9-c88be60e8f21",
   "metadata": {
    "tags": []
   },
   "outputs": [],
   "source": [
    "neuro_harm_topmri.to_csv('newly/neuro_harm_topmri_4sabre.csv')\n",
    "neuro_harm_sabre.to_csv('newly/neuro_harm_sabre_4topmri.csv')"
   ]
  },
  {
   "cell_type": "code",
   "execution_count": null,
   "id": "f8086e1c-ca54-4d5d-af69-df1b5a2c2ddf",
   "metadata": {
    "tags": []
   },
   "outputs": [],
   "source": [
    "neuro_harm_topmri.isna().sum()"
   ]
  },
  {
   "cell_type": "code",
   "execution_count": null,
   "id": "5ead85a6-cad2-4a3e-a6f5-b693433e7b7b",
   "metadata": {
    "tags": []
   },
   "outputs": [],
   "source": [
    "neuro_harm_sabre.isna().sum()"
   ]
  },
  {
   "cell_type": "code",
   "execution_count": null,
   "id": "9fcceebd-4a88-485e-bf51-711c6baa3ee6",
   "metadata": {},
   "outputs": [],
   "source": [
    "#(rerun 10/11/2023)"
   ]
  }
 ],
 "metadata": {
  "kernelspec": {
   "display_name": "Python 3 (ipykernel)",
   "language": "python",
   "name": "python3"
  },
  "language_info": {
   "codemirror_mode": {
    "name": "ipython",
    "version": 3
   },
   "file_extension": ".py",
   "mimetype": "text/x-python",
   "name": "python",
   "nbconvert_exporter": "python",
   "pygments_lexer": "ipython3",
   "version": "3.7.12"
  }
 },
 "nbformat": 4,
 "nbformat_minor": 5
}
