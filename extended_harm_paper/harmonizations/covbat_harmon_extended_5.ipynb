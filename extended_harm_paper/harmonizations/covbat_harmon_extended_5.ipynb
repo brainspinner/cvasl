{
 "cells": [
  {
   "cell_type": "markdown",
   "id": "8a467049-3206-4855-8ad6-600380c4246e",
   "metadata": {},
   "source": [
    "# COVbat 5 way TOP and StrokeMRI  vs. EDIS , Insight, Helius and SABRE harmonized datasets"
   ]
  },
  {
   "cell_type": "markdown",
   "id": "839b8a35-f605-4dd3-87fd-21225a1e283d",
   "metadata": {},
   "source": [
    "Note this must be run in the `covbat` environment. Environment file inside vendor/covbat"
   ]
  },
  {
   "cell_type": "markdown",
   "id": "ed964448-ecd7-47ac-a2d4-ca180dafcf97",
   "metadata": {
    "tags": []
   },
   "source": [
    "## import libraries"
   ]
  },
  {
   "cell_type": "code",
   "execution_count": null,
   "id": "3222a056-e620-4321-9abb-fdc1d8638658",
   "metadata": {
    "tags": []
   },
   "outputs": [],
   "source": [
    "import os\n",
    "import sys\n",
    "\n",
    "import pandas as pd\n",
    "import numpy as np\n",
    "\n",
    "import patsy\n",
    "\n",
    "sys.path.insert(0, '../../') # path to functions\n",
    "\n",
    "import cvasl.harmony as har\n",
    "import cvasl.vendor.covbat.covbat as covbat"
   ]
  },
  {
   "cell_type": "markdown",
   "id": "0436952e-a09c-47bf-b5eb-f8843ba9cd0c",
   "metadata": {},
   "source": [
    "import data"
   ]
  },
  {
   "cell_type": "code",
   "execution_count": null,
   "id": "3f635a8f-68be-40e1-9c2f-649575458f03",
   "metadata": {
    "tags": []
   },
   "outputs": [],
   "source": [
    "# # Datasets for this work\n",
    "# MRI_path = '../our_datasets/StrokeMRI/'\n",
    "# TOP_path = '../our_datasets/TOP/'\n",
    "# EDIS_path = '../our_datasets/EDIS/'\n",
    "# file_name = 'TrainingDataComplete.csv'\n",
    "\n",
    "# TOP_file = os.path.join(TOP_path, file_name)\n",
    "# MRI_file = os.path.join(MRI_path, file_name)\n",
    "# EDIS_file = os.path.join(EDIS_path, file_name)\n",
    "\n",
    "# TOP = pd.read_csv(TOP_file, index_col=0)\n",
    "# MRI = pd.read_csv(MRI_file, index_col=0)\n",
    "# EDIS = pd.read_csv(EDIS_file, index_col=0)"
   ]
  },
  {
   "cell_type": "code",
   "execution_count": null,
   "id": "af4b8d5c-cffd-4d06-aa6e-7f1730295af9",
   "metadata": {
    "tags": []
   },
   "outputs": [],
   "source": [
    "Insight46_path = '../our_datasets/Insight46/'\n",
    "MRI_path = '../our_datasets/StrokeMRI/'\n",
    "TOP_path = '../our_datasets/TOP/'\n",
    "SABRE_path = '../our_datasets/SABRE/'\n",
    "EDIS_path = '../our_datasets/EDIS/'\n",
    "HELIUS_path = '../our_datasets/HELIUS/'\n",
    "file_name = 'TrainingDataComplete.csv'\n",
    "\n",
    "TOP_file = os.path.join(TOP_path, file_name)\n",
    "MRI_file = os.path.join(MRI_path, file_name)\n",
    "SABRE_file = os.path.join(SABRE_path, file_name)\n",
    "EDIS_file = os.path.join(EDIS_path, file_name)\n",
    "Insight46_file = os.path.join(Insight46_path, file_name)\n",
    "HELIUS_file = os.path.join(HELIUS_path, file_name)\n",
    "\n",
    "TOP = pd.read_csv(TOP_file, index_col=0)\n",
    "MRI = pd.read_csv(MRI_file, index_col=0)\n",
    "Insight46 = pd.read_csv(Insight46_file, index_col=0)\n",
    "SABRE = pd.read_csv(SABRE_file, index_col=0)\n",
    "EDIS = pd.read_csv(EDIS_file, index_col=0)\n",
    "HELIUS = pd.read_csv(HELIUS_file, index_col=0)"
   ]
  },
  {
   "cell_type": "code",
   "execution_count": null,
   "id": "20ea6dd6-789a-4c00-90a3-c1583b4e27cf",
   "metadata": {},
   "outputs": [],
   "source": []
  },
  {
   "cell_type": "code",
   "execution_count": null,
   "id": "2a5c363c-7f58-41b6-9e79-a58d2a535534",
   "metadata": {},
   "outputs": [],
   "source": [
    "## We found there is one aprticipant from two seperate sights (HELIUS and SABRE) named the same. There fore we will show and switch this"
   ]
  },
  {
   "cell_type": "code",
   "execution_count": null,
   "id": "13843f30-c3a1-4844-887a-4d04086aee75",
   "metadata": {},
   "outputs": [],
   "source": [
    "HELIUS[HELIUS['participant_id']=='sub-153852_1']"
   ]
  },
  {
   "cell_type": "code",
   "execution_count": null,
   "id": "5d863124-58e7-4c43-9430-f596974fd782",
   "metadata": {},
   "outputs": [],
   "source": [
    "SABRE[SABRE['participant_id']=='sub-153852_1']"
   ]
  },
  {
   "cell_type": "code",
   "execution_count": null,
   "id": "4d450965-09cb-431c-94c7-7feb8907bf57",
   "metadata": {},
   "outputs": [],
   "source": [
    "HELIUS.loc[HELIUS['participant_id']=='sub-153852_1', 'participant_id'] = 'sub-153852_1H'"
   ]
  },
  {
   "cell_type": "code",
   "execution_count": null,
   "id": "92a0835b-2ace-47c1-997a-a8f6d18a5ac0",
   "metadata": {},
   "outputs": [],
   "source": [
    "EDIS.head(3)"
   ]
  },
  {
   "cell_type": "code",
   "execution_count": null,
   "id": "608ec2a3-ccc0-419c-b805-3bc8e6b273ea",
   "metadata": {},
   "outputs": [],
   "source": [
    "sex_mapping = {1:0,2:1}\n",
    "EDIS = EDIS.assign(Sex = EDIS.Sex.map(sex_mapping))\n",
    "EDIS.head(3)"
   ]
  },
  {
   "cell_type": "code",
   "execution_count": null,
   "id": "c9345594-1e09-4b90-b21e-2e9f25a4b4c2",
   "metadata": {
    "tags": []
   },
   "outputs": [],
   "source": [
    "SABRE = SABRE.assign(Sex = SABRE.Sex.map(sex_mapping))\n",
    "SABRE.head(3)"
   ]
  },
  {
   "cell_type": "code",
   "execution_count": null,
   "id": "0e3ec147-ddc8-4ffb-b2da-cf5f99379088",
   "metadata": {
    "tags": []
   },
   "outputs": [],
   "source": [
    "Insight46 = Insight46.assign(Sex = Insight46.Sex.map(sex_mapping))\n",
    "Insight46.head(3)"
   ]
  },
  {
   "cell_type": "code",
   "execution_count": null,
   "id": "7a76b928-493e-4a5a-b371-ace9e38bd3c7",
   "metadata": {
    "tags": []
   },
   "outputs": [],
   "source": [
    "TOP = TOP.drop([ 'ID'], axis= 1)\n",
    "\n",
    "TOP.head(3)"
   ]
  },
  {
   "cell_type": "code",
   "execution_count": null,
   "id": "b51c65fe-1f52-40b7-816a-5aeb4e126a2b",
   "metadata": {
    "tags": []
   },
   "outputs": [],
   "source": [
    "MRI = MRI.drop(['ID'],axis = 1)\n",
    "MRI.tail(5)"
   ]
  },
  {
   "cell_type": "code",
   "execution_count": null,
   "id": "81bec2bb-f48e-4382-a714-b002c9643e3a",
   "metadata": {
    "tags": []
   },
   "outputs": [],
   "source": [
    "EDIS = EDIS.drop(['ID'],axis = 1)\n",
    "EDIS['Site'] = 1\n",
    "EDIS.tail(5)"
   ]
  },
  {
   "cell_type": "code",
   "execution_count": null,
   "id": "8a2dca69-bd93-4506-88ba-52d6815059f7",
   "metadata": {
    "tags": []
   },
   "outputs": [],
   "source": [
    "HELIUS = HELIUS.drop(['ID'],axis = 1)\n",
    "HELIUS['Site'] = 2\n",
    "HELIUS.tail(5)"
   ]
  },
  {
   "cell_type": "code",
   "execution_count": null,
   "id": "91eaf629-37a2-4534-9f47-f6b78aedc73a",
   "metadata": {
    "tags": []
   },
   "outputs": [],
   "source": [
    "SABRE = SABRE.drop(['ID'],axis = 1)\n",
    "SABRE['Site'] = 3\n",
    "SABRE.tail(3)"
   ]
  },
  {
   "cell_type": "code",
   "execution_count": null,
   "id": "50a10254-c59f-4825-88d8-0f7994d9154e",
   "metadata": {
    "tags": []
   },
   "outputs": [],
   "source": [
    "Insight46 = Insight46.drop(['ID'],axis = 1)\n",
    "Insight46['Site'] = 4\n",
    "Insight46.tail(5)"
   ]
  },
  {
   "cell_type": "code",
   "execution_count": null,
   "id": "1b0c93e9-0df3-4be3-af13-a33b913c9244",
   "metadata": {
    "tags": []
   },
   "outputs": [],
   "source": [
    "TOPMRI = pd.concat([TOP, MRI])\n",
    "TOPMRI['Site'] = 0\n",
    "TOPMRI.head(3) "
   ]
  },
  {
   "cell_type": "code",
   "execution_count": null,
   "id": "201d8af7-8db3-4dba-aab6-b33616cbdbd4",
   "metadata": {
    "tags": []
   },
   "outputs": [],
   "source": [
    "TOPMRI.tail(3)"
   ]
  },
  {
   "cell_type": "code",
   "execution_count": null,
   "id": "04175fe0-c328-4794-8206-e19344c93c62",
   "metadata": {
    "tags": []
   },
   "outputs": [],
   "source": [
    "datasets = [TOPMRI, EDIS, SABRE, HELIUS, Insight46]"
   ]
  },
  {
   "cell_type": "code",
   "execution_count": null,
   "id": "4a5cb271-3455-4564-98ab-864cb37ae28a",
   "metadata": {
    "tags": []
   },
   "outputs": [],
   "source": [
    "ALLFIVE = pd.concat(datasets)"
   ]
  },
  {
   "cell_type": "code",
   "execution_count": null,
   "id": "6f4ed55a-b18d-47ed-a41e-e7a7e4c315d0",
   "metadata": {},
   "outputs": [],
   "source": [
    "ALLFIVE"
   ]
  },
  {
   "cell_type": "code",
   "execution_count": null,
   "id": "5b2885ff-e1ee-4299-be9c-3b1bbe064312",
   "metadata": {},
   "outputs": [],
   "source": []
  },
  {
   "cell_type": "code",
   "execution_count": null,
   "id": "002f349f-e86b-4a3f-8c09-327efde239d2",
   "metadata": {
    "tags": []
   },
   "outputs": [],
   "source": [
    "phenoALLFIVE = ALLFIVE[['participant_id','Age', 'Sex', 'Site']]\n",
    "phenoALLFIVE = phenoALLFIVE.set_index('participant_id')\n",
    "print(len(phenoALLFIVE))\n",
    "phenoALLFIVE.head(3)"
   ]
  },
  {
   "cell_type": "code",
   "execution_count": null,
   "id": "2b87fbcb-3d84-4450-ba23-fd6bae3e152f",
   "metadata": {
    "tags": []
   },
   "outputs": [],
   "source": [
    "dat_ALLFIVE = ALLFIVE.set_index('participant_id')\n",
    "print(len(dat_ALLFIVE))\n",
    "dat_ALLFIVE = dat_ALLFIVE.T "
   ]
  },
  {
   "cell_type": "code",
   "execution_count": null,
   "id": "22cbba5f-f55a-4094-8488-1f4f64eb55b5",
   "metadata": {
    "tags": []
   },
   "outputs": [],
   "source": [
    "dat_ALLFIVE.head(3)"
   ]
  },
  {
   "cell_type": "code",
   "execution_count": null,
   "id": "5f1baead-11ca-4892-8d66-dfd25dea8b9a",
   "metadata": {
    "tags": []
   },
   "outputs": [],
   "source": [
    "print(len(phenoALLFIVE))\n",
    "phenoALLFIVE.head(3)"
   ]
  },
  {
   "cell_type": "code",
   "execution_count": null,
   "id": "df97a462-c1e0-44e7-b116-ded1c2be1dbd",
   "metadata": {
    "tags": []
   },
   "outputs": [],
   "source": [
    "phenoALLFIVE.isna().sum()"
   ]
  },
  {
   "cell_type": "code",
   "execution_count": null,
   "id": "5b8731ab-632b-49cc-b5ce-a7086b00bc5e",
   "metadata": {
    "tags": []
   },
   "outputs": [],
   "source": [
    "modZ = patsy.dmatrix(\"~ Age + Sex\", phenoALLFIVE, return_type=\"dataframe\")\n",
    "print(len(modZ))\n",
    "modZ.head(3)\n"
   ]
  },
  {
   "cell_type": "code",
   "execution_count": null,
   "id": "1de4880d-b625-4e7c-be72-6b901bded27b",
   "metadata": {
    "tags": []
   },
   "outputs": [],
   "source": [
    "dat_ALLFIVE.head(2)\n"
   ]
  },
  {
   "cell_type": "code",
   "execution_count": null,
   "id": "0c2ead3e-5dfa-4f71-9ed5-c23cc52e468c",
   "metadata": {
    "tags": []
   },
   "outputs": [],
   "source": [
    "#dat_ALLFIVE.tail(17)"
   ]
  },
  {
   "cell_type": "code",
   "execution_count": null,
   "id": "a6e78be8-da55-4155-a2d8-e884cb6e2790",
   "metadata": {
    "tags": []
   },
   "outputs": [],
   "source": [
    "phenoALLFIVE['Site']"
   ]
  },
  {
   "cell_type": "code",
   "execution_count": null,
   "id": "68e20e17-712b-4cd5-9883-2dd4acd681bb",
   "metadata": {
    "tags": []
   },
   "outputs": [],
   "source": [
    "modZ.head(3)"
   ]
  },
  {
   "cell_type": "code",
   "execution_count": null,
   "id": "82f6dc50-5429-4e04-9173-9c0a783ca381",
   "metadata": {
    "tags": []
   },
   "outputs": [],
   "source": [
    "#modZ.isna().sum()\n",
    "dat_ALLFIVE.tail(17)"
   ]
  },
  {
   "cell_type": "code",
   "execution_count": null,
   "id": "dfda0866-1c48-462c-8b60-f65e121ce8b6",
   "metadata": {
    "tags": []
   },
   "outputs": [],
   "source": [
    "modZ.shape"
   ]
  },
  {
   "cell_type": "markdown",
   "id": "d86e1069-b61d-4265-8e0f-6282d27b6b11",
   "metadata": {},
   "source": [
    "# There appears to be a bug in the covbat code...needs further investigation\n",
    "\n",
    "cells below are not running"
   ]
  },
  {
   "cell_type": "code",
   "execution_count": null,
   "id": "4959bc6d-140e-4e11-9930-aa0570c9a871",
   "metadata": {
    "tags": []
   },
   "outputs": [],
   "source": [
    "covbatALLFIVE = covbat.combat(dat_ALLFIVE.tail(17), phenoALLFIVE['Site'],  model=modZ, numerical_covariates =\"Age\")"
   ]
  },
  {
   "cell_type": "code",
   "execution_count": null,
   "id": "68f3ffcb-6456-47a3-aa73-189f3dc03904",
   "metadata": {
    "tags": []
   },
   "outputs": [],
   "source": [
    "dat_ALLFIVE.head(3)"
   ]
  },
  {
   "cell_type": "code",
   "execution_count": null,
   "id": "de83fe44-8f2c-4683-813a-d1357c1df128",
   "metadata": {
    "tags": []
   },
   "outputs": [],
   "source": [
    "covbatALLFIVE = covbatALLFIVE[2:]\n",
    "covbatALLFIVE.head(3)"
   ]
  },
  {
   "cell_type": "code",
   "execution_count": null,
   "id": "3cb59647-e924-4711-b6c2-0fdca36228bb",
   "metadata": {},
   "outputs": [],
   "source": []
  },
  {
   "cell_type": "code",
   "execution_count": null,
   "id": "c572a409-54cc-46c4-859f-577114acc736",
   "metadata": {
    "tags": []
   },
   "outputs": [],
   "source": [
    "covbatALLFIVE = pd.concat([dat_ALLFIVE.head(3), covbatALLFIVE])\n",
    "covbatALLFIVE = covbatALLFIVE.T\n",
    "covbatALLFIVE = covbatALLFIVE.reset_index()"
   ]
  },
  {
   "cell_type": "code",
   "execution_count": null,
   "id": "ba4333ae-d654-423a-9508-cbe194860f57",
   "metadata": {
    "tags": []
   },
   "outputs": [],
   "source": [
    "covbatALLFIVE"
   ]
  },
  {
   "cell_type": "code",
   "execution_count": null,
   "id": "32ae8f19-df5c-4c5d-bcf4-20bd9a8e4e38",
   "metadata": {
    "tags": []
   },
   "outputs": [],
   "source": [
    "TOPMRI_adjusted = covbatALLFIVE[covbatALLFIVE['Site'] == 0]\n",
    "EDIS_adjusted   = covbatALLFIVE[covbatALLFIVE['Site'] == 1] \n",
    "HELIUS_adjusted = covbatALLFIVE[covbatALLFIVE['Site'] == 2] \n",
    "SABRE_adjusted  = covbatALLFIVE[covbatALLFIVE['Site'] == 3] \n",
    "Insight_adjusted= covbatALLFIVE[covbatALLFIVE['Site'] == 4] "
   ]
  },
  {
   "cell_type": "code",
   "execution_count": null,
   "id": "7e046adf-7bdf-4787-8873-8d4bf937c364",
   "metadata": {
    "tags": []
   },
   "outputs": [],
   "source": [
    "# sites = [TOPMRI_adjusted, \n",
    "#          EDIS_adjusted,\n",
    "#          HELIUS_adjusted, \n",
    "#          SABRE_adjusted,\n",
    "#          Insight_adjusted]\n",
    "# for site in sites:\n",
    "#     #print(site)\n",
    "#     site = site.drop('Site', axis=1)\n",
    "#     print(site)\n",
    "\n",
    "    "
   ]
  },
  {
   "cell_type": "code",
   "execution_count": null,
   "id": "360b21e0-cdd1-42a2-8e10-b36a3ec1a0ff",
   "metadata": {},
   "outputs": [],
   "source": []
  },
  {
   "cell_type": "code",
   "execution_count": null,
   "id": "38542826-fd08-4ac8-b103-4e9ae51ebf70",
   "metadata": {},
   "outputs": [],
   "source": []
  },
  {
   "cell_type": "code",
   "execution_count": null,
   "id": "9685ed95-aee9-444b-be43-b1e3f2a0bd40",
   "metadata": {},
   "outputs": [],
   "source": [
    "TOPMRI_adjusted.head(3)"
   ]
  },
  {
   "cell_type": "code",
   "execution_count": null,
   "id": "f83167df-95bd-452b-9e3f-c1e791238e1c",
   "metadata": {
    "tags": []
   },
   "outputs": [],
   "source": [
    "TOPMRI_adjusted = TOPMRI_adjusted.drop('Site', axis=1)\n",
    "TOPMRI_adjusted.head(3)"
   ]
  },
  {
   "cell_type": "code",
   "execution_count": null,
   "id": "b8061154-2474-4a9b-99d1-8168ee8f2985",
   "metadata": {
    "tags": []
   },
   "outputs": [],
   "source": [
    "EDIS_adjusted = EDIS_adjusted.drop('Site', axis=1)\n",
    "EDIS_adjusted.tail(3)"
   ]
  },
  {
   "cell_type": "code",
   "execution_count": null,
   "id": "0adbce54-f710-4402-9b7d-cb6393f74e0a",
   "metadata": {},
   "outputs": [],
   "source": [
    "SABRE_adjusted = SABRE_adjusted.drop('Site', axis=1)\n",
    "SABRE_adjusted.tail(3)"
   ]
  },
  {
   "cell_type": "code",
   "execution_count": null,
   "id": "f66f107b-e740-4d85-9a1b-df87cc3c9c7c",
   "metadata": {},
   "outputs": [],
   "source": [
    "HELIUS_adjusted = HELIUS_adjusted.drop('Site', axis=1)\n",
    "HELIUS_adjusted.tail(3)"
   ]
  },
  {
   "cell_type": "code",
   "execution_count": null,
   "id": "59e70449-d63c-42d1-8786-f97d2cf9e6b2",
   "metadata": {},
   "outputs": [],
   "source": [
    "Insight_adjusted = Insight_adjusted.drop('Site', axis=1)\n",
    "Insight_adjusted.tail(3)"
   ]
  },
  {
   "cell_type": "code",
   "execution_count": null,
   "id": "22791a4f-a165-471c-b54e-f4c3303f0868",
   "metadata": {
    "tags": []
   },
   "outputs": [],
   "source": [
    "TOPMRI_adjusted.to_csv('harm_results/covbat/topmri_covbat_a_edis.csv')\n",
    "EDIS_adjusted.to_csv('harm_results/covbat/edis_covbat_a_topmri.csv')\n",
    "SABRE_adjusted.to_csv('harm_results/covbat/sabre_covbat_a_edis.csv')\n",
    "Insight_adjusted.to_csv('harm_results/covbat/insight_covbat_a_topmri.csv')\n",
    "HELIUS_adjusted.to_csv('harm_results/covbat/helius_covbat_a_edis.csv')\n"
   ]
  },
  {
   "cell_type": "code",
   "execution_count": null,
   "id": "ee44557b-f0df-4554-ad00-0e19a52b13fd",
   "metadata": {},
   "outputs": [],
   "source": []
  }
 ],
 "metadata": {
  "kernelspec": {
   "display_name": "Python 3 (ipykernel)",
   "language": "python",
   "name": "python3"
  },
  "language_info": {
   "codemirror_mode": {
    "name": "ipython",
    "version": 3
   },
   "file_extension": ".py",
   "mimetype": "text/x-python",
   "name": "python",
   "nbconvert_exporter": "python",
   "pygments_lexer": "ipython3",
   "version": "3.11.7"
  }
 },
 "nbformat": 4,
 "nbformat_minor": 5
}
