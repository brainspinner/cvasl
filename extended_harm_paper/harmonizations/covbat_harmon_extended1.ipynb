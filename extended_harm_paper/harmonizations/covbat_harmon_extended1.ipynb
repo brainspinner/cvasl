{
 "cells": [
  {
   "cell_type": "markdown",
   "id": "8a467049-3206-4855-8ad6-600380c4246e",
   "metadata": {},
   "source": [
    "# COVbat TOP and StrokeMRI harmonized datasets"
   ]
  },
  {
   "cell_type": "markdown",
   "id": "839b8a35-f605-4dd3-87fd-21225a1e283d",
   "metadata": {},
   "source": [
    "Note this must be run in the `covbat` environment. ENvironment file inside vendor/covbat"
   ]
  },
  {
   "cell_type": "markdown",
   "id": "ed964448-ecd7-47ac-a2d4-ca180dafcf97",
   "metadata": {
    "tags": []
   },
   "source": [
    "## import libraries"
   ]
  },
  {
   "cell_type": "code",
   "execution_count": null,
   "id": "3222a056-e620-4321-9abb-fdc1d8638658",
   "metadata": {
    "tags": []
   },
   "outputs": [],
   "source": [
    "import os\n",
    "import sys\n",
    "\n",
    "import pandas as pd\n",
    "import numpy as np\n",
    "\n",
    "import patsy\n",
    "\n",
    "sys.path.insert(0, '../../') # path to functions\n",
    "\n",
    "import cvasl.harmony as har\n",
    "import cvasl.vendor.covbat.covbat as covbat"
   ]
  },
  {
   "cell_type": "markdown",
   "id": "0436952e-a09c-47bf-b5eb-f8843ba9cd0c",
   "metadata": {},
   "source": [
    "impo##rt data"
   ]
  },
  {
   "cell_type": "code",
   "execution_count": null,
   "id": "3f635a8f-68be-40e1-9c2f-649575458f03",
   "metadata": {
    "tags": []
   },
   "outputs": [],
   "source": [
    "# Datasets for this work\n",
    "MRI_path = '../our_datasets/StrokeMRI/'\n",
    "TOP_path = '../our_datasets/TOP/'\n",
    "file_name = 'TrainingDataComplete.csv'\n",
    "\n",
    "TOP_file = os.path.join(TOP_path, file_name)\n",
    "MRI_file = os.path.join(MRI_path, file_name)\n",
    "\n",
    "TOP = pd.read_csv(TOP_file, index_col=0)\n",
    "MRI = pd.read_csv(MRI_file, index_col=0)"
   ]
  },
  {
   "cell_type": "code",
   "execution_count": null,
   "id": "7a76b928-493e-4a5a-b371-ace9e38bd3c7",
   "metadata": {
    "tags": []
   },
   "outputs": [],
   "source": [
    "TOP = TOP.drop([ 'ID'], axis= 1)\n",
    "TOP['Site'] = 0\n",
    "TOP.head(3)"
   ]
  },
  {
   "cell_type": "code",
   "execution_count": null,
   "id": "b51c65fe-1f52-40b7-816a-5aeb4e126a2b",
   "metadata": {
    "tags": []
   },
   "outputs": [],
   "source": [
    "MRI = MRI.drop(['ID'],axis = 1)\n",
    "MRI.tail(5)"
   ]
  },
  {
   "cell_type": "code",
   "execution_count": null,
   "id": "1b0c93e9-0df3-4be3-af13-a33b913c9244",
   "metadata": {
    "tags": []
   },
   "outputs": [],
   "source": [
    "TOPMRI = pd.concat([TOP, MRI])\n",
    "\n",
    "TOPMRI.head(3) "
   ]
  },
  {
   "cell_type": "code",
   "execution_count": null,
   "id": "201d8af7-8db3-4dba-aab6-b33616cbdbd4",
   "metadata": {
    "tags": []
   },
   "outputs": [],
   "source": [
    "TOPMRI.tail(3)"
   ]
  },
  {
   "cell_type": "code",
   "execution_count": null,
   "id": "002f349f-e86b-4a3f-8c09-327efde239d2",
   "metadata": {
    "tags": []
   },
   "outputs": [],
   "source": [
    "phenoTOPMRI = TOPMRI[['participant_id','Age', 'Sex', 'Site']]\n",
    "phenoTOPMRI = phenoTOPMRI.set_index('participant_id')\n",
    "phenoTOPMRI.head(3)"
   ]
  },
  {
   "cell_type": "code",
   "execution_count": null,
   "id": "2b87fbcb-3d84-4450-ba23-fd6bae3e152f",
   "metadata": {
    "tags": []
   },
   "outputs": [],
   "source": [
    "dat_TOPMRI = TOPMRI.set_index('participant_id')\n",
    "dat_TOPMRI = dat_TOPMRI.T "
   ]
  },
  {
   "cell_type": "code",
   "execution_count": null,
   "id": "22cbba5f-f55a-4094-8488-1f4f64eb55b5",
   "metadata": {
    "tags": []
   },
   "outputs": [],
   "source": [
    "dat_TOPMRI.head(3)"
   ]
  },
  {
   "cell_type": "code",
   "execution_count": null,
   "id": "5f1baead-11ca-4892-8d66-dfd25dea8b9a",
   "metadata": {
    "tags": []
   },
   "outputs": [],
   "source": [
    "phenoTOPMRI.head(3)"
   ]
  },
  {
   "cell_type": "code",
   "execution_count": null,
   "id": "5b8731ab-632b-49cc-b5ce-a7086b00bc5e",
   "metadata": {
    "tags": []
   },
   "outputs": [],
   "source": [
    "modZ = patsy.dmatrix(\"~ Age + Sex\", phenoTOPMRI, return_type=\"dataframe\")\n",
    "modZ.head(3)"
   ]
  },
  {
   "cell_type": "code",
   "execution_count": null,
   "id": "4959bc6d-140e-4e11-9930-aa0570c9a871",
   "metadata": {
    "tags": []
   },
   "outputs": [],
   "source": [
    "covbatTOPMRI = covbat.combat(dat_TOPMRI.tail(17), phenoTOPMRI['Site'],  model=modZ, numerical_covariates =\"Age\")"
   ]
  },
  {
   "cell_type": "code",
   "execution_count": null,
   "id": "3aa90618-9db8-493e-9d9f-953436b18b38",
   "metadata": {
    "tags": []
   },
   "outputs": [],
   "source": [
    "covbatTOPMRI = covbatTOPMRI[2:] "
   ]
  },
  {
   "cell_type": "code",
   "execution_count": null,
   "id": "68f3ffcb-6456-47a3-aa73-189f3dc03904",
   "metadata": {
    "tags": []
   },
   "outputs": [],
   "source": [
    "dat_TOPMRI.head(3)"
   ]
  },
  {
   "cell_type": "code",
   "execution_count": null,
   "id": "c572a409-54cc-46c4-859f-577114acc736",
   "metadata": {
    "tags": []
   },
   "outputs": [],
   "source": [
    "covbatTOPMRI = pd.concat([dat_TOPMRI.head(3), covbatTOPMRI])\n",
    "covbatTOPMRI = covbatTOPMRI.T\n",
    "covbatTOPMRI = covbatTOPMRI.reset_index()"
   ]
  },
  {
   "cell_type": "code",
   "execution_count": null,
   "id": "ba4333ae-d654-423a-9508-cbe194860f57",
   "metadata": {
    "tags": []
   },
   "outputs": [],
   "source": [
    "covbatTOPMRI"
   ]
  },
  {
   "cell_type": "code",
   "execution_count": null,
   "id": "32ae8f19-df5c-4c5d-bcf4-20bd9a8e4e38",
   "metadata": {
    "tags": []
   },
   "outputs": [],
   "source": [
    "TOP_adjusted = covbatTOPMRI[covbatTOPMRI['Site'] == 0]\n",
    "MRI_adjusted = covbatTOPMRI[covbatTOPMRI['Site'] == 1] "
   ]
  },
  {
   "cell_type": "code",
   "execution_count": null,
   "id": "f83167df-95bd-452b-9e3f-c1e791238e1c",
   "metadata": {
    "tags": []
   },
   "outputs": [],
   "source": [
    "TOP_adjusted = TOP_adjusted.drop('Site', axis=1)\n",
    "TOP_adjusted.head(3)"
   ]
  },
  {
   "cell_type": "code",
   "execution_count": null,
   "id": "b8061154-2474-4a9b-99d1-8168ee8f2985",
   "metadata": {
    "tags": []
   },
   "outputs": [],
   "source": [
    "MRI_adjusted = MRI_adjusted.drop('Site', axis=1)\n",
    "MRI_adjusted.tail(3)"
   ]
  },
  {
   "cell_type": "code",
   "execution_count": null,
   "id": "22791a4f-a165-471c-b54e-f4c3303f0868",
   "metadata": {
    "tags": []
   },
   "outputs": [],
   "source": [
    "TOP_adjusted.to_csv('harm_results/covbat/top_covbat_a_mri.csv')\n",
    "MRI_adjusted.to_csv('harm_results/covbat/mri_covbat_a_top.csv')"
   ]
  },
  {
   "cell_type": "code",
   "execution_count": null,
   "id": "ee44557b-f0df-4554-ad00-0e19a52b13fd",
   "metadata": {},
   "outputs": [],
   "source": []
  }
 ],
 "metadata": {
  "kernelspec": {
   "display_name": "Python 3 (ipykernel)",
   "language": "python",
   "name": "python3"
  },
  "language_info": {
   "codemirror_mode": {
    "name": "ipython",
    "version": 3
   },
   "file_extension": ".py",
   "mimetype": "text/x-python",
   "name": "python",
   "nbconvert_exporter": "python",
   "pygments_lexer": "ipython3",
   "version": "3.11.7"
  }
 },
 "nbformat": 4,
 "nbformat_minor": 5
}
