{
 "cells": [
  {
   "cell_type": "markdown",
   "id": "8a467049-3206-4855-8ad6-600380c4246e",
   "metadata": {},
   "source": [
    "# COVbat TOP and StrokeMRI  vs. Insight46 harmonized datasets"
   ]
  },
  {
   "cell_type": "markdown",
   "id": "839b8a35-f605-4dd3-87fd-21225a1e283d",
   "metadata": {},
   "source": [
    "Note this must be run in the `covbat` environment. Environment file inside vendor/covbat"
   ]
  },
  {
   "cell_type": "markdown",
   "id": "ed964448-ecd7-47ac-a2d4-ca180dafcf97",
   "metadata": {
    "tags": []
   },
   "source": [
    "## import libraries"
   ]
  },
  {
   "cell_type": "code",
   "execution_count": null,
   "id": "3222a056-e620-4321-9abb-fdc1d8638658",
   "metadata": {
    "tags": []
   },
   "outputs": [],
   "source": [
    "import os\n",
    "import sys\n",
    "\n",
    "import pandas as pd\n",
    "import numpy as np\n",
    "\n",
    "import patsy\n",
    "\n",
    "sys.path.insert(0, '../../') # path to functions\n",
    "\n",
    "import cvasl.harmony as har\n",
    "import cvasl.vendor.covbat.covbat as covbat"
   ]
  },
  {
   "cell_type": "markdown",
   "id": "0436952e-a09c-47bf-b5eb-f8843ba9cd0c",
   "metadata": {},
   "source": [
    "impo##rt data"
   ]
  },
  {
   "cell_type": "code",
   "execution_count": null,
   "id": "3f635a8f-68be-40e1-9c2f-649575458f03",
   "metadata": {
    "tags": []
   },
   "outputs": [],
   "source": [
    "# Datasets for this work\n",
    "MRI_path = '../our_datasets/StrokeMRI/'\n",
    "TOP_path = '../our_datasets/TOP/'\n",
    "Insight_path = '../our_datasets/Insight46/'\n",
    "file_name = 'TrainingDataComplete.csv'\n",
    "\n",
    "TOP_file = os.path.join(TOP_path, file_name)\n",
    "MRI_file = os.path.join(MRI_path, file_name)\n",
    "Insight_file = os.path.join(Insight_path, file_name)\n",
    "\n",
    "TOP = pd.read_csv(TOP_file)\n",
    "MRI = pd.read_csv(MRI_file)\n",
    "Insight = pd.read_csv(Insight_file)"
   ]
  },
  {
   "cell_type": "code",
   "execution_count": null,
   "id": "92a0835b-2ace-47c1-997a-a8f6d18a5ac0",
   "metadata": {},
   "outputs": [],
   "source": [
    "Insight.head(3)"
   ]
  },
  {
   "cell_type": "code",
   "execution_count": null,
   "id": "608ec2a3-ccc0-419c-b805-3bc8e6b273ea",
   "metadata": {},
   "outputs": [],
   "source": [
    "sex_mapping = {1:0,2:1}\n",
    "Insight = Insight.assign(Sex = Insight.Sex.map(sex_mapping))\n",
    "Insight.head(3)"
   ]
  },
  {
   "cell_type": "code",
   "execution_count": null,
   "id": "7a76b928-493e-4a5a-b371-ace9e38bd3c7",
   "metadata": {
    "tags": []
   },
   "outputs": [],
   "source": [
    "TOP = TOP.drop([ 'ID'], axis= 1)\n",
    "\n",
    "TOP.head(3)"
   ]
  },
  {
   "cell_type": "code",
   "execution_count": null,
   "id": "b51c65fe-1f52-40b7-816a-5aeb4e126a2b",
   "metadata": {
    "tags": []
   },
   "outputs": [],
   "source": [
    "MRI = MRI.drop(['ID'],axis = 1)\n",
    "MRI.tail(5)"
   ]
  },
  {
   "cell_type": "code",
   "execution_count": null,
   "id": "81bec2bb-f48e-4382-a714-b002c9643e3a",
   "metadata": {
    "tags": []
   },
   "outputs": [],
   "source": [
    "Insight = Insight.drop(['ID'],axis = 1)\n",
    "Insight['Site'] = 4\n",
    "Insight.tail(5)"
   ]
  },
  {
   "cell_type": "code",
   "execution_count": null,
   "id": "1b0c93e9-0df3-4be3-af13-a33b913c9244",
   "metadata": {
    "tags": []
   },
   "outputs": [],
   "source": [
    "TOPMRI = pd.concat([TOP, MRI])\n",
    "TOPMRI['Site'] = 2\n",
    "TOPMRI.head(3) "
   ]
  },
  {
   "cell_type": "code",
   "execution_count": null,
   "id": "201d8af7-8db3-4dba-aab6-b33616cbdbd4",
   "metadata": {
    "tags": []
   },
   "outputs": [],
   "source": [
    "TOPMRI.tail(3)"
   ]
  },
  {
   "cell_type": "code",
   "execution_count": null,
   "id": "4a5cb271-3455-4564-98ab-864cb37ae28a",
   "metadata": {
    "tags": []
   },
   "outputs": [],
   "source": [
    "TOPMRIInsight = pd.concat([TOPMRI, Insight])"
   ]
  },
  {
   "cell_type": "code",
   "execution_count": null,
   "id": "6f4ed55a-b18d-47ed-a41e-e7a7e4c315d0",
   "metadata": {},
   "outputs": [],
   "source": []
  },
  {
   "cell_type": "code",
   "execution_count": null,
   "id": "5b2885ff-e1ee-4299-be9c-3b1bbe064312",
   "metadata": {},
   "outputs": [],
   "source": []
  },
  {
   "cell_type": "code",
   "execution_count": null,
   "id": "002f349f-e86b-4a3f-8c09-327efde239d2",
   "metadata": {
    "tags": []
   },
   "outputs": [],
   "source": [
    "phenoTOPMRIInsight = TOPMRIInsight[['participant_id','Age', 'Sex', 'Site']]\n",
    "phenoTOPMRIInsight = phenoTOPMRIInsight.set_index('participant_id')\n",
    "phenoTOPMRIInsight.head(3)"
   ]
  },
  {
   "cell_type": "code",
   "execution_count": null,
   "id": "2b87fbcb-3d84-4450-ba23-fd6bae3e152f",
   "metadata": {
    "tags": []
   },
   "outputs": [],
   "source": [
    "dat_TOPMRIInsight = TOPMRIInsight.set_index('participant_id')\n",
    "dat_TOPMRIInsight = dat_TOPMRIInsight.T "
   ]
  },
  {
   "cell_type": "code",
   "execution_count": null,
   "id": "22cbba5f-f55a-4094-8488-1f4f64eb55b5",
   "metadata": {
    "tags": []
   },
   "outputs": [],
   "source": [
    "dat_TOPMRIInsight.head(3)"
   ]
  },
  {
   "cell_type": "code",
   "execution_count": null,
   "id": "5f1baead-11ca-4892-8d66-dfd25dea8b9a",
   "metadata": {
    "tags": []
   },
   "outputs": [],
   "source": [
    "phenoTOPMRIInsight.head(3)"
   ]
  },
  {
   "cell_type": "code",
   "execution_count": null,
   "id": "5b8731ab-632b-49cc-b5ce-a7086b00bc5e",
   "metadata": {
    "tags": []
   },
   "outputs": [],
   "source": [
    "modZ = patsy.dmatrix(\"~ Age + Sex\", phenoTOPMRIInsight, return_type=\"dataframe\")\n",
    "modZ.head(3)"
   ]
  },
  {
   "cell_type": "code",
   "execution_count": null,
   "id": "4959bc6d-140e-4e11-9930-aa0570c9a871",
   "metadata": {
    "tags": []
   },
   "outputs": [],
   "source": [
    "covbatTOPMRIInsight = covbat.combat(dat_TOPMRIInsight.tail(17), phenoTOPMRIInsight['Site'],  model=modZ, numerical_covariates =\"Age\")"
   ]
  },
  {
   "cell_type": "code",
   "execution_count": null,
   "id": "68f3ffcb-6456-47a3-aa73-189f3dc03904",
   "metadata": {
    "tags": []
   },
   "outputs": [],
   "source": [
    "dat_TOPMRIInsight.head(3)"
   ]
  },
  {
   "cell_type": "code",
   "execution_count": null,
   "id": "c572a409-54cc-46c4-859f-577114acc736",
   "metadata": {
    "tags": []
   },
   "outputs": [],
   "source": [
    "covbatTOPMRIInsight = pd.concat([dat_TOPMRIInsight.head(3), covbatTOPMRIInsight])\n",
    "covbatTOPMRIInsight = covbatTOPMRIInsight.T\n",
    "covbatTOPMRIInsight = covbatTOPMRIInsight.reset_index()"
   ]
  },
  {
   "cell_type": "code",
   "execution_count": null,
   "id": "ba4333ae-d654-423a-9508-cbe194860f57",
   "metadata": {
    "tags": []
   },
   "outputs": [],
   "source": [
    "covbatTOPMRIInsight"
   ]
  },
  {
   "cell_type": "code",
   "execution_count": null,
   "id": "32ae8f19-df5c-4c5d-bcf4-20bd9a8e4e38",
   "metadata": {
    "tags": []
   },
   "outputs": [],
   "source": [
    "TOPMRI_adjusted = covbatTOPMRIInsight[covbatTOPMRIInsight['Site'] == 2]\n",
    "Insight_adjusted   = covbatTOPMRIInsight[covbatTOPMRIInsight['Site'] == 3] "
   ]
  },
  {
   "cell_type": "code",
   "execution_count": null,
   "id": "f83167df-95bd-452b-9e3f-c1e791238e1c",
   "metadata": {
    "tags": []
   },
   "outputs": [],
   "source": [
    "TOPMRI_adjusted = TOPMRI_adjusted.drop('Site', axis=1)\n",
    "TOPMRI_adjusted.head(3)"
   ]
  },
  {
   "cell_type": "code",
   "execution_count": null,
   "id": "b8061154-2474-4a9b-99d1-8168ee8f2985",
   "metadata": {
    "tags": []
   },
   "outputs": [],
   "source": [
    "Insight_adjusted = Insight_adjusted.drop('Site', axis=1)\n",
    "Insight_adjusted.tail(3)"
   ]
  },
  {
   "cell_type": "code",
   "execution_count": null,
   "id": "22791a4f-a165-471c-b54e-f4c3303f0868",
   "metadata": {
    "tags": []
   },
   "outputs": [],
   "source": [
    "TOPMRI_adjusted.to_csv('harm_results/covbat/topmri_covbat_a_insight.csv')\n",
    "Insight_adjusted.to_csv('harm_results/covbat/insight_covbat_a_topmri.csv')"
   ]
  },
  {
   "cell_type": "code",
   "execution_count": null,
   "id": "ee44557b-f0df-4554-ad00-0e19a52b13fd",
   "metadata": {},
   "outputs": [],
   "source": []
  }
 ],
 "metadata": {
  "kernelspec": {
   "display_name": "Python 3 (ipykernel)",
   "language": "python",
   "name": "python3"
  },
  "language_info": {
   "codemirror_mode": {
    "name": "ipython",
    "version": 3
   },
   "file_extension": ".py",
   "mimetype": "text/x-python",
   "name": "python",
   "nbconvert_exporter": "python",
   "pygments_lexer": "ipython3",
   "version": "3.11.6"
  }
 },
 "nbformat": 4,
 "nbformat_minor": 5
}
