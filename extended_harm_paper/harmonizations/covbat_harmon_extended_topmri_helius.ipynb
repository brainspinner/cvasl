{
 "cells": [
  {
   "cell_type": "markdown",
   "id": "8a467049-3206-4855-8ad6-600380c4246e",
   "metadata": {},
   "source": [
    "# COVbat TOP and StrokeMRI  vs. HELIUS harmonized datasets"
   ]
  },
  {
   "cell_type": "markdown",
   "id": "839b8a35-f605-4dd3-87fd-21225a1e283d",
   "metadata": {},
   "source": [
    "Note this must be run in the `covbat` environment. Environment file inside vendor/covbat"
   ]
  },
  {
   "cell_type": "markdown",
   "id": "ed964448-ecd7-47ac-a2d4-ca180dafcf97",
   "metadata": {
    "tags": []
   },
   "source": [
    "## import libraries"
   ]
  },
  {
   "cell_type": "code",
   "execution_count": null,
   "id": "3222a056-e620-4321-9abb-fdc1d8638658",
   "metadata": {
    "tags": []
   },
   "outputs": [],
   "source": [
    "import os\n",
    "import sys\n",
    "\n",
    "import pandas as pd\n",
    "import numpy as np\n",
    "\n",
    "import patsy\n",
    "\n",
    "sys.path.insert(0, '../../') # path to functions\n",
    "\n",
    "import cvasl.harmony as har\n",
    "import cvasl.vendor.covbat.covbat as covbat"
   ]
  },
  {
   "cell_type": "markdown",
   "id": "0436952e-a09c-47bf-b5eb-f8843ba9cd0c",
   "metadata": {},
   "source": [
    "impo##rt data"
   ]
  },
  {
   "cell_type": "code",
   "execution_count": null,
   "id": "3f635a8f-68be-40e1-9c2f-649575458f03",
   "metadata": {
    "tags": []
   },
   "outputs": [],
   "source": [
    "# Datasets for this work\n",
    "MRI_path = '../our_datasets/StrokeMRI/'\n",
    "TOP_path = '../our_datasets/TOP/'\n",
    "\n",
    "HELIUS_path = '../our_datasets/HELIUS/'\n",
    "file_name = 'TrainingDataComplete.csv'\n",
    "\n",
    "TOP_file = os.path.join(TOP_path, file_name)\n",
    "MRI_file = os.path.join(MRI_path, file_name)\n",
    "HELIUS_file = os.path.join(HELIUS_path, file_name)\n",
    "\n",
    "TOP = pd.read_csv(TOP_file, index_col=0)\n",
    "MRI = pd.read_csv(MRI_file, index_col=0)\n",
    "HELIUS = pd.read_csv(HELIUS_file, index_col=0)"
   ]
  },
  {
   "cell_type": "code",
   "execution_count": null,
   "id": "92a0835b-2ace-47c1-997a-a8f6d18a5ac0",
   "metadata": {},
   "outputs": [],
   "source": [
    "HELIUS.head(3)"
   ]
  },
  {
   "cell_type": "code",
   "execution_count": null,
   "id": "608ec2a3-ccc0-419c-b805-3bc8e6b273ea",
   "metadata": {},
   "outputs": [],
   "source": [
    "# sex_mapping = {1:0,2:1}\n",
    "# HELIUS = HELIUS.assign(Sex = HELIUS.Sex.map(sex_mapping))\n",
    "# HELIUS.head(3)"
   ]
  },
  {
   "cell_type": "code",
   "execution_count": null,
   "id": "7a76b928-493e-4a5a-b371-ace9e38bd3c7",
   "metadata": {
    "tags": []
   },
   "outputs": [],
   "source": [
    "TOP = TOP.drop([ 'ID'], axis= 1)\n",
    "\n",
    "TOP.head(3)"
   ]
  },
  {
   "cell_type": "code",
   "execution_count": null,
   "id": "b51c65fe-1f52-40b7-816a-5aeb4e126a2b",
   "metadata": {
    "tags": []
   },
   "outputs": [],
   "source": [
    "MRI = MRI.drop(['ID'],axis = 1)\n",
    "MRI.tail(5)"
   ]
  },
  {
   "cell_type": "code",
   "execution_count": null,
   "id": "81bec2bb-f48e-4382-a714-b002c9643e3a",
   "metadata": {
    "tags": []
   },
   "outputs": [],
   "source": [
    "HELIUS = HELIUS.drop(['ID'],axis = 1)\n",
    "HELIUS['Site'] = 3\n",
    "HELIUS.tail(5)"
   ]
  },
  {
   "cell_type": "code",
   "execution_count": null,
   "id": "1b0c93e9-0df3-4be3-af13-a33b913c9244",
   "metadata": {
    "tags": []
   },
   "outputs": [],
   "source": [
    "TOPMRI = pd.concat([TOP, MRI])\n",
    "TOPMRI['Site'] = 2\n",
    "TOPMRI.head(3) "
   ]
  },
  {
   "cell_type": "code",
   "execution_count": null,
   "id": "201d8af7-8db3-4dba-aab6-b33616cbdbd4",
   "metadata": {
    "tags": []
   },
   "outputs": [],
   "source": [
    "TOPMRI.tail(3)"
   ]
  },
  {
   "cell_type": "code",
   "execution_count": null,
   "id": "4a5cb271-3455-4564-98ab-864cb37ae28a",
   "metadata": {
    "tags": []
   },
   "outputs": [],
   "source": [
    "TOPMRIHELIUS= pd.concat([TOPMRI, HELIUS])\n",
    "len(TOPMRIHELIUS)"
   ]
  },
  {
   "cell_type": "code",
   "execution_count": null,
   "id": "efdf88d4-bb66-4544-aae7-3cafe5430150",
   "metadata": {},
   "outputs": [],
   "source": []
  },
  {
   "cell_type": "code",
   "execution_count": null,
   "id": "002f349f-e86b-4a3f-8c09-327efde239d2",
   "metadata": {
    "tags": []
   },
   "outputs": [],
   "source": [
    "phenoTOPMRIHELIUS = TOPMRIHELIUS[['participant_id','Age', 'Sex', 'Site']]\n",
    "phenoTOPMRIHELIUS = phenoTOPMRIHELIUS.set_index('participant_id')\n",
    "print(len(phenoTOPMRIHELIUS))\n",
    "phenoTOPMRIHELIUS.head(3)"
   ]
  },
  {
   "cell_type": "code",
   "execution_count": null,
   "id": "2b87fbcb-3d84-4450-ba23-fd6bae3e152f",
   "metadata": {
    "tags": []
   },
   "outputs": [],
   "source": [
    "dat_TOPMRIHELIUS = TOPMRIHELIUS.set_index('participant_id')\n",
    "dat_TOPMRIHELIUS = dat_TOPMRIHELIUS.T "
   ]
  },
  {
   "cell_type": "code",
   "execution_count": null,
   "id": "22cbba5f-f55a-4094-8488-1f4f64eb55b5",
   "metadata": {
    "tags": []
   },
   "outputs": [],
   "source": [
    "dat_TOPMRIHELIUS.head(3)"
   ]
  },
  {
   "cell_type": "code",
   "execution_count": null,
   "id": "5f1baead-11ca-4892-8d66-dfd25dea8b9a",
   "metadata": {
    "tags": []
   },
   "outputs": [],
   "source": [
    "print(len(phenoTOPMRIHELIUS))\n",
    "phenoTOPMRIHELIUS.head(3)\n"
   ]
  },
  {
   "cell_type": "code",
   "execution_count": null,
   "id": "4b69f6e0-188b-4553-8314-b254c74973ab",
   "metadata": {
    "tags": []
   },
   "outputs": [],
   "source": [
    "phenoTOPMRIHELIUS.isna().sum()"
   ]
  },
  {
   "cell_type": "code",
   "execution_count": null,
   "id": "5b8731ab-632b-49cc-b5ce-a7086b00bc5e",
   "metadata": {
    "tags": []
   },
   "outputs": [],
   "source": [
    "modZ = patsy.dmatrix(\"~ Age + Sex\", phenoTOPMRIHELIUS, return_type=\"dataframe\")\n",
    "modZ.head(3)"
   ]
  },
  {
   "cell_type": "code",
   "execution_count": null,
   "id": "c12725b6-7af7-4e56-9ab6-6473fe9619a4",
   "metadata": {
    "tags": []
   },
   "outputs": [],
   "source": [
    "len(modZ)"
   ]
  },
  {
   "cell_type": "code",
   "execution_count": null,
   "id": "aa3148c8-6534-47c7-a9a7-e827da10d23a",
   "metadata": {
    "tags": []
   },
   "outputs": [],
   "source": []
  },
  {
   "cell_type": "code",
   "execution_count": null,
   "id": "b69f1309-bb1a-464d-879a-7e9fe4ff1ec7",
   "metadata": {
    "tags": []
   },
   "outputs": [],
   "source": [
    "dat_TOPMRIHELIUS"
   ]
  },
  {
   "cell_type": "code",
   "execution_count": null,
   "id": "8d757d9a-ef60-47b0-8807-51d15f6716e5",
   "metadata": {
    "tags": []
   },
   "outputs": [],
   "source": [
    "phenoTOPMRIHELIUS['Site']"
   ]
  },
  {
   "cell_type": "code",
   "execution_count": null,
   "id": "2e79276c-b299-4303-9534-77fadd003d51",
   "metadata": {
    "tags": []
   },
   "outputs": [],
   "source": [
    "modZ"
   ]
  },
  {
   "cell_type": "code",
   "execution_count": null,
   "id": "4959bc6d-140e-4e11-9930-aa0570c9a871",
   "metadata": {
    "tags": []
   },
   "outputs": [],
   "source": [
    "covbatTOPMRIHELIUS = covbat.combat(dat_TOPMRIHELIUS.tail(17), phenoTOPMRIHELIUS['Site'],  model=modZ, numerical_covariates =\"Age\")"
   ]
  },
  {
   "cell_type": "code",
   "execution_count": null,
   "id": "68f3ffcb-6456-47a3-aa73-189f3dc03904",
   "metadata": {
    "tags": []
   },
   "outputs": [],
   "source": [
    "dat_TOPMRIHELIUS.head(3)"
   ]
  },
  {
   "cell_type": "code",
   "execution_count": null,
   "id": "ffefbf12-99d9-402c-bbf9-5ac148bcee2f",
   "metadata": {
    "tags": []
   },
   "outputs": [],
   "source": [
    "covbatTOPMRIHELIUS = covbatTOPMRIHELIUS[2:]\n",
    "covbatTOPMRIHELIUS.head(3)\n",
    "# covbatTOPMRIEDIS = covbatTOPMRIEDIS[2:]\n",
    "# covbatTOPMRIEDIS"
   ]
  },
  {
   "cell_type": "code",
   "execution_count": null,
   "id": "c572a409-54cc-46c4-859f-577114acc736",
   "metadata": {
    "tags": []
   },
   "outputs": [],
   "source": [
    "covbatTOPMRIHELIUS = pd.concat([dat_TOPMRIHELIUS.head(3), covbatTOPMRIHELIUS])\n",
    "covbatTOPMRIHELIUS = covbatTOPMRIHELIUS.T\n",
    "covbatTOPMRIHELIUS = covbatTOPMRIHELIUS.reset_index()"
   ]
  },
  {
   "cell_type": "code",
   "execution_count": null,
   "id": "ba4333ae-d654-423a-9508-cbe194860f57",
   "metadata": {
    "tags": []
   },
   "outputs": [],
   "source": [
    "covbatTOPMRIHELIUS"
   ]
  },
  {
   "cell_type": "code",
   "execution_count": null,
   "id": "32ae8f19-df5c-4c5d-bcf4-20bd9a8e4e38",
   "metadata": {
    "tags": []
   },
   "outputs": [],
   "source": [
    "TOPMRI_adjusted = covbatTOPMRIHELIUS[covbatTOPMRIHELIUS['Site'] == 2]\n",
    "HELIUS_adjusted   = covbatTOPMRIHELIUS[covbatTOPMRIHELIUS['Site'] == 3] "
   ]
  },
  {
   "cell_type": "code",
   "execution_count": null,
   "id": "f83167df-95bd-452b-9e3f-c1e791238e1c",
   "metadata": {
    "tags": []
   },
   "outputs": [],
   "source": [
    "TOPMRI_adjusted = TOPMRI_adjusted.drop('Site', axis=1)\n",
    "TOPMRI_adjusted.head(3)"
   ]
  },
  {
   "cell_type": "code",
   "execution_count": null,
   "id": "b8061154-2474-4a9b-99d1-8168ee8f2985",
   "metadata": {
    "tags": []
   },
   "outputs": [],
   "source": [
    "HELIUS_adjusted = HELIUS_adjusted.drop('Site', axis=1)\n",
    "HELIUS_adjusted.tail(3)"
   ]
  },
  {
   "cell_type": "code",
   "execution_count": null,
   "id": "22791a4f-a165-471c-b54e-f4c3303f0868",
   "metadata": {
    "tags": []
   },
   "outputs": [],
   "source": [
    "TOPMRI_adjusted.to_csv('harm_results/covbat/topmri_covbat_a_helius.csv')\n",
    "HELIUS_adjusted.to_csv('harm_results/covbat/helius_covbat_a_topmri.csv')"
   ]
  },
  {
   "cell_type": "code",
   "execution_count": null,
   "id": "ee44557b-f0df-4554-ad00-0e19a52b13fd",
   "metadata": {},
   "outputs": [],
   "source": []
  },
  {
   "cell_type": "code",
   "execution_count": null,
   "id": "e6cb31c1-f645-4e33-8071-c1c2c7d3a8d8",
   "metadata": {},
   "outputs": [],
   "source": []
  }
 ],
 "metadata": {
  "kernelspec": {
   "display_name": "Python 3 (ipykernel)",
   "language": "python",
   "name": "python3"
  },
  "language_info": {
   "codemirror_mode": {
    "name": "ipython",
    "version": 3
   },
   "file_extension": ".py",
   "mimetype": "text/x-python",
   "name": "python",
   "nbconvert_exporter": "python",
   "pygments_lexer": "ipython3",
   "version": "3.11.7"
  }
 },
 "nbformat": 4,
 "nbformat_minor": 5
}
