{
 "cells": [
  {
   "cell_type": "markdown",
   "id": "f36ee053-28e7-429b-9450-12a810862433",
   "metadata": {},
   "source": [
    "# essence of neurharmony"
   ]
  },
  {
   "cell_type": "markdown",
   "id": "f23c84fd-9a09-4f08-bce8-02c6416e5944",
   "metadata": {},
   "source": [
    "testing for functions and command line"
   ]
  },
  {
   "cell_type": "markdown",
   "id": "af431249-21ae-45a7-b6d4-07cf4ab45df5",
   "metadata": {},
   "source": [
    "functions to make features array and covariates\n"
   ]
  },
  {
   "cell_type": "code",
   "execution_count": null,
   "id": "d8bf9165-4e90-4f47-afa0-684a148f9d96",
   "metadata": {},
   "outputs": [],
   "source": [
    "import os\n",
    "import sys\n",
    "from neuroHarmonize import harmonizationLearn\n",
    "import pandas as pd\n",
    "import numpy as np\n",
    "\n",
    "sys.path.insert(0, '../../') # path to functions\n",
    "\n",
    "import cvasl.harm2 as harm2"
   ]
  },
  {
   "cell_type": "code",
   "execution_count": null,
   "id": "c86cc005-243e-4122-bbca-2c48bd353204",
   "metadata": {
    "tags": []
   },
   "outputs": [],
   "source": [
    "Insight46_path = '../our_datasets/Insight46/'\n",
    "MRI_path = '../our_datasets/StrokeMRI/'\n",
    "TOP_path = '../our_datasets/TOP/'\n",
    "SABRE_path = '../our_datasets/SABRE/'\n",
    "EDIS_path = '../our_datasets/EDIS/'\n",
    "HELIUS_path = '../our_datasets/HELIUS/'\n",
    "file_name = 'TrainingDataComplete.csv'\n",
    "\n",
    "TOP_file = os.path.join(TOP_path, file_name)\n",
    "MRI_file = os.path.join(MRI_path, file_name)\n",
    "SABRE_file = os.path.join(SABRE_path, file_name)\n",
    "EDIS_file = os.path.join(EDIS_path, file_name)\n",
    "Insight46_file = os.path.join(Insight46_path, file_name)\n",
    "HELIUS_file = os.path.join(HELIUS_path, file_name)\n",
    "\n",
    "TOP = pd.read_csv(TOP_file, index_col=0)\n",
    "MRI = pd.read_csv(MRI_file, index_col=0)\n",
    "Insight46 = pd.read_csv(Insight46_file, index_col=0)\n",
    "SABRE = pd.read_csv(SABRE_file, index_col=0)\n",
    "EDIS = pd.read_csv(EDIS_file, index_col=0)\n",
    "HELIUS = pd.read_csv(HELIUS_file, index_col=0)"
   ]
  },
  {
   "cell_type": "code",
   "execution_count": null,
   "id": "03254edb-a204-43c5-86a8-6b7c022269e4",
   "metadata": {
    "tags": []
   },
   "outputs": [],
   "source": [
    "Insight46.Sex"
   ]
  },
  {
   "cell_type": "code",
   "execution_count": null,
   "id": "e06610c6-092c-4f55-956f-2d9113d36a03",
   "metadata": {
    "tags": []
   },
   "outputs": [],
   "source": [
    "sex_mapping = {1:0,2:1}\n",
    "Insight46 = Insight46.assign(Sex = Insight46.Sex.map(sex_mapping))\n",
    "SABRE = SABRE.assign(Sex = SABRE.Sex.map(sex_mapping))\n",
    "EDIS = EDIS.assign(Sex = EDIS.Sex.map(sex_mapping))\n",
    "Insight46.head(3)"
   ]
  },
  {
   "cell_type": "code",
   "execution_count": null,
   "id": "521d821f-d16c-4744-86c0-853a7902f804",
   "metadata": {
    "tags": []
   },
   "outputs": [],
   "source": [
    "HELIUS.tail(3)"
   ]
  },
  {
   "cell_type": "code",
   "execution_count": null,
   "id": "696763ee-25ae-43d1-aa0d-c5e5fb4a28b6",
   "metadata": {
    "tags": []
   },
   "outputs": [],
   "source": [
    "TOP['Site'] = 0\n",
    "MRI['Site'] = 1\n",
    "MRI.head(3)"
   ]
  },
  {
   "cell_type": "code",
   "execution_count": null,
   "id": "5d6e3fc1-d2ef-45e6-977c-2eaebb7a092e",
   "metadata": {
    "tags": []
   },
   "outputs": [],
   "source": [
    "## We found there is one aprticipant from two seperate sights (HELIUS and SABRE) named the same. There fore we will show and switch this"
   ]
  },
  {
   "cell_type": "code",
   "execution_count": null,
   "id": "f4692b5c-629e-40ec-946f-3cc6c386228b",
   "metadata": {
    "tags": []
   },
   "outputs": [],
   "source": [
    "HELIUS[HELIUS['participant_id']=='sub-153852_1']"
   ]
  },
  {
   "cell_type": "code",
   "execution_count": null,
   "id": "abe53965-5319-4901-ada5-4c92c4eb4cee",
   "metadata": {
    "tags": []
   },
   "outputs": [],
   "source": [
    "SABRE[SABRE['participant_id']=='sub-153852_1']"
   ]
  },
  {
   "cell_type": "code",
   "execution_count": null,
   "id": "378f5dc2-9f54-426c-bcba-ce70ffe14c89",
   "metadata": {
    "tags": []
   },
   "outputs": [],
   "source": [
    "HELIUS.loc[HELIUS['participant_id']=='sub-153852_1', 'participant_id'] = 'sub-153852_1H'"
   ]
  },
  {
   "cell_type": "code",
   "execution_count": null,
   "id": "718d6724-2a6f-45bf-8870-fdd34f642146",
   "metadata": {
    "tags": []
   },
   "outputs": [],
   "source": [
    "TOP.head(3)"
   ]
  },
  {
   "cell_type": "markdown",
   "id": "617f2614-6583-45e8-8b52-68306e50d30b",
   "metadata": {
    "tags": []
   },
   "source": [
    "# Here we will harmonize just TOP and StrokeMRI"
   ]
  },
  {
   "cell_type": "code",
   "execution_count": null,
   "id": "6909e5f8-3b27-4558-a88f-cda6ccdf80a4",
   "metadata": {
    "tags": []
   },
   "outputs": [],
   "source": [
    "# take top and mri and concat to one dataset\n",
    "TOPMRI = pd.concat([TOP, MRI])\n",
    "TOPMRI.head(3) "
   ]
  },
  {
   "cell_type": "code",
   "execution_count": null,
   "id": "52a10d15-cec1-4eb6-b571-abd055d75e5b",
   "metadata": {
    "tags": []
   },
   "outputs": [],
   "source": [
    "TOPMRI.tail(3)"
   ]
  },
  {
   "cell_type": "code",
   "execution_count": null,
   "id": "97ef742b-9f9a-488a-a751-66d2f41f4171",
   "metadata": {},
   "outputs": [],
   "source": [
    "# def feat_array_and_covariates_neuroharmony(list_datasets):\n",
    "#     total_datasets = len(list_datasets)\n",
    "#     for dataset in list_datasets:\n",
    "#         #print(list(enumerate(list_datasets)))\n",
    "#         tuples = list(enumerate(list_datasets)))\n",
    "#         dataset['site'] ="
   ]
  },
  {
   "cell_type": "code",
   "execution_count": null,
   "id": "4eb04fcc-f230-4a37-acac-a3e583e1cec6",
   "metadata": {},
   "outputs": [],
   "source": [
    "#feat_array_and_covariates_neuroharmony([TOP, MRI])"
   ]
  },
  {
   "cell_type": "code",
   "execution_count": null,
   "id": "42427076-9657-4cc5-b002-67c263e2adf5",
   "metadata": {},
   "outputs": [],
   "source": [
    "TOPMRI"
   ]
  },
  {
   "cell_type": "code",
   "execution_count": null,
   "id": "b6c791d6-9e53-43d7-b079-f73e2519716d",
   "metadata": {},
   "outputs": [],
   "source": [
    "def neuroharmony_apply(stuck_together_datasets, list_of_covariates, list_features_to_harmonize):\n",
    "    stuck_together_datasets_covariates = stuck_together_datasets[ list_of_covariates]\n",
    "    covariates = stuck_together_datasets_covariates.rename(columns={'Site': 'SITE'}) # should expand to accept siteor get rid of?\n",
    "    harmonizable_features = stuck_together_datasets[list_features_to_harmonize]\n",
    "    features_array = np.array(harmonizable_features)\n",
    "    my_model, my_data_adj = harmonizationLearn(features_array, covariates)\n",
    "    neuroharmonized_ = pd.DataFrame(\n",
    "        my_data_adj, \n",
    "        columns =list_features_to_harmonize)\n",
    "    \n",
    "    neuroharmonized_ =pd.concat([neuroharmonized_, stuck_together_datasets_covariates.reset_index()], axis=1)\n",
    "    neuroharmonized_ = neuroharmonized_.drop('index', axis=1)\n",
    "    return neuroharmonized_, stuck_together_datasets_covariates, features_array\n",
    "    "
   ]
  },
  {
   "cell_type": "code",
   "execution_count": null,
   "id": "e365fae4-aab5-4418-bc82-03b9acc54466",
   "metadata": {},
   "outputs": [],
   "source": [
    "harm2.neuroharmony_apply(TOPMRI, ['Age', 'Sex', 'Site'],['GM_vol', 'WM_vol', 'CSF_vol', 'GM_ICVRatio'])[0]"
   ]
  },
  {
   "cell_type": "code",
   "execution_count": null,
   "id": "f81eabbb-ee3d-468e-a138-8882520549aa",
   "metadata": {},
   "outputs": [],
   "source": []
  }
 ],
 "metadata": {
  "kernelspec": {
   "display_name": "Python 3 (ipykernel)",
   "language": "python",
   "name": "python3"
  },
  "language_info": {
   "codemirror_mode": {
    "name": "ipython",
    "version": 3
   },
   "file_extension": ".py",
   "mimetype": "text/x-python",
   "name": "python",
   "nbconvert_exporter": "python",
   "pygments_lexer": "ipython3",
   "version": "3.12.1"
  }
 },
 "nbformat": 4,
 "nbformat_minor": 5
}
