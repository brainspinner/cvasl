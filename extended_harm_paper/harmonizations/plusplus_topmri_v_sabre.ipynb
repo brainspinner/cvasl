{
 "cells": [
  {
   "cell_type": "markdown",
   "id": "0",
   "metadata": {},
   "source": [
    "# COmbat++ harmonization SAbre and TOPMRI 2 way"
   ]
  },
  {
   "cell_type": "code",
   "execution_count": null,
   "id": "1",
   "metadata": {},
   "outputs": [],
   "source": [
    "#sys.path.insert(0, '../../')\n",
    "source('../../cvasl/vendor/ComBat++/combatPP.R') #as pluscombat\n",
    "source(\"../../cvasl/vendor/ComBat++/utils.R\")"
   ]
  },
  {
   "cell_type": "code",
   "execution_count": null,
   "id": "2",
   "metadata": {},
   "outputs": [],
   "source": [
    "library(matrixStats)"
   ]
  },
  {
   "cell_type": "code",
   "execution_count": null,
   "id": "3",
   "metadata": {},
   "outputs": [],
   "source": [
    "TOP <- read.csv('../our_datasets/TOP/TrainingDataComplete.csv')\n",
    "\n",
    " \n",
    "head(TOP, 4)"
   ]
  },
  {
   "cell_type": "code",
   "execution_count": null,
   "id": "4",
   "metadata": {},
   "outputs": [],
   "source": [
    "MRI <- read.csv('../our_datasets/StrokeMRI/TrainingDataComplete.csv')\n",
    "head(MRI, 4)"
   ]
  },
  {
   "cell_type": "code",
   "execution_count": null,
   "id": "5",
   "metadata": {},
   "outputs": [],
   "source": [
    "SABRE <- read.csv('../our_datasets/SABRE/TrainingDataComplete.csv')\n",
    "head(SABRE, 4)"
   ]
  },
  {
   "cell_type": "code",
   "execution_count": null,
   "id": "6",
   "metadata": {},
   "outputs": [],
   "source": [
    "# recode sex in SABRE dataset\n",
    "\n",
    "conditions <- c( 1, 2)\n",
    "replacement_values <- c(1, 0)\n",
    "SABRE$Sex <- replace(SABRE$Sex, SABRE$Sex %in% conditions, replacement_values)\n",
    "head(SABRE,4)"
   ]
  },
  {
   "cell_type": "code",
   "execution_count": null,
   "id": "7",
   "metadata": {},
   "outputs": [],
   "source": [
    "TOPMRI<- rbind(TOP, MRI)\n",
    "conditions <- c(1)\n",
    "replacement_values <- c(0)\n",
    "# Use replace() \n",
    "TOPMRI$Site <- replace(TOPMRI$Site, TOPMRI$Site %in% conditions, replacement_values)\n",
    "head(TOPMRI, 3)"
   ]
  },
  {
   "cell_type": "code",
   "execution_count": null,
   "id": "8",
   "metadata": {},
   "outputs": [],
   "source": [
    "fused_dat <- rbind(TOPMRI, SABRE)\n",
    "head(fused_dat, 3)"
   ]
  },
  {
   "cell_type": "code",
   "execution_count": null,
   "id": "9",
   "metadata": {},
   "outputs": [],
   "source": [
    "age <- c((fused_dat['Age']))\n",
    "age <- as.numeric(unlist(age))\n",
    "print(typeof(age))"
   ]
  },
  {
   "cell_type": "code",
   "execution_count": null,
   "id": "10",
   "metadata": {},
   "outputs": [],
   "source": [
    "#age <- c((fused_dat['Age'])) # Continuous variable\n",
    "sex <- c((fused_dat['Sex']))\n",
    "sex <- as.numeric(unlist(sex))\n",
    "sex <- as.factor(sex) # Categorical variable\n",
    "mod <- model.matrix(~age+sex)\n"
   ]
  },
  {
   "cell_type": "code",
   "execution_count": null,
   "id": "11",
   "metadata": {},
   "outputs": [],
   "source": [
    "batchvector <- c(fused_dat['Site'])\n",
    "batchvector <- as.numeric(unlist(batchvector))"
   ]
  },
  {
   "cell_type": "code",
   "execution_count": null,
   "id": "12",
   "metadata": {},
   "outputs": [],
   "source": [
    "head(fused_dat)"
   ]
  },
  {
   "cell_type": "code",
   "execution_count": null,
   "id": "13",
   "metadata": {},
   "outputs": [],
   "source": [
    "fused_dat_m1 <- fused_dat[,-1]\n",
    "fused_dat_m1 <- fused_dat_m1[,-1]\n",
    "fused_dat_m1 <- fused_dat_m1[,-1]\n",
    "fused_dat_m1 <- fused_dat_m1[,-1]\n",
    "fused_dat_m1 <- fused_dat_m1[,-1]\n",
    "fused_dat_m1 <- fused_dat_m1[,-1]\n",
    "head(fused_dat_m1, 3)"
   ]
  },
  {
   "cell_type": "code",
   "execution_count": null,
   "id": "14",
   "metadata": {},
   "outputs": [],
   "source": [
    "ta <- t(fused_dat_m1) "
   ]
  },
  {
   "cell_type": "code",
   "execution_count": null,
   "id": "15",
   "metadata": {},
   "outputs": [],
   "source": [
    "#combatPP(ta, batchvector)"
   ]
  },
  {
   "cell_type": "code",
   "execution_count": null,
   "id": "16",
   "metadata": {},
   "outputs": [],
   "source": [
    "data.harmonized <-combatPP(ta,  mod=mod, batchvector) # need to add mod=mod"
   ]
  },
  {
   "cell_type": "code",
   "execution_count": null,
   "id": "17",
   "metadata": {},
   "outputs": [],
   "source": [
    "#data.harmonized"
   ]
  },
  {
   "cell_type": "code",
   "execution_count": null,
   "id": "18",
   "metadata": {},
   "outputs": [],
   "source": [
    "new_df <- data.harmonized$dat.combat"
   ]
  },
  {
   "cell_type": "code",
   "execution_count": null,
   "id": "19",
   "metadata": {},
   "outputs": [],
   "source": [
    "head(fused_dat)"
   ]
  },
  {
   "cell_type": "code",
   "execution_count": null,
   "id": "20",
   "metadata": {},
   "outputs": [],
   "source": [
    "fused_dat_front <- fused_dat[c(1:6)]\n",
    "fused_dat_front "
   ]
  },
  {
   "cell_type": "code",
   "execution_count": null,
   "id": "21",
   "metadata": {},
   "outputs": [],
   "source": [
    "rollback <- t(new_df)\n",
    "head(rollback)\n"
   ]
  },
  {
   "cell_type": "code",
   "execution_count": null,
   "id": "22",
   "metadata": {},
   "outputs": [],
   "source": [
    "harmonized_set <- cbind(fused_dat_front, rollback)"
   ]
  },
  {
   "cell_type": "code",
   "execution_count": null,
   "id": "23",
   "metadata": {},
   "outputs": [],
   "source": [
    "head(harmonized_set)"
   ]
  },
  {
   "cell_type": "code",
   "execution_count": null,
   "id": "24",
   "metadata": {},
   "outputs": [],
   "source": [
    "harmonized_topmri <- harmonized_set[which(harmonized_set['Site'] == 0),] \n",
    "head(harmonized_topmri,3)"
   ]
  },
  {
   "cell_type": "code",
   "execution_count": null,
   "id": "25",
   "metadata": {},
   "outputs": [],
   "source": [
    "harmonized_sabre <- harmonized_set[which(harmonized_set['Site'] == 1),] \n",
    "head(harmonized_sabre,3)"
   ]
  },
  {
   "cell_type": "code",
   "execution_count": null,
   "id": "26",
   "metadata": {},
   "outputs": [],
   "source": [
    "# now save as csvs\n",
    "write.csv(harmonized_topmri, \"harm_results/plus/plus_harmonized_topmri_v_sabre.csv\")\n",
    "write.csv(harmonized_sabre, \"harm_results/plus/plus_harmonized_sabre_from_v_topmri.csv\")"
   ]
  },
  {
   "cell_type": "code",
   "execution_count": null,
   "id": "27",
   "metadata": {},
   "outputs": [],
   "source": []
  },
  {
   "cell_type": "code",
   "execution_count": null,
   "id": "28",
   "metadata": {},
   "outputs": [],
   "source": []
  }
 ],
 "metadata": {
  "kernelspec": {
   "display_name": "R",
   "language": "R",
   "name": "ir"
  },
  "language_info": {
   "codemirror_mode": "r",
   "file_extension": ".r",
   "mimetype": "text/x-r-source",
   "name": "R",
   "pygments_lexer": "r",
   "version": "4.1.3"
  }
 },
 "nbformat": 4,
 "nbformat_minor": 5
}
