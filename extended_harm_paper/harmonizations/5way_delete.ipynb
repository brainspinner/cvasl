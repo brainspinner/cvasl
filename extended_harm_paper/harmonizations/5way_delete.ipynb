{
 "cells": [
  {
   "cell_type": "code",
   "execution_count": null,
   "id": "56bd92eb-4f59-4611-ba7b-4bf5c5a96c24",
   "metadata": {
    "tags": []
   },
   "outputs": [],
   "source": [
    "import os\n",
    "import sys\n",
    "\n",
    "import pandas as pd\n",
    "import numpy as np\n",
    "\n",
    "from neuroCombat import neuroCombat\n",
    "\n",
    "sys.path.insert(0, '../../') # path to functions\n",
    "\n",
    "import cvasl.harmony as har"
   ]
  },
  {
   "cell_type": "code",
   "execution_count": null,
   "id": "9179be72-2614-4cca-89f0-97b6b22e5061",
   "metadata": {
    "tags": []
   },
   "outputs": [],
   "source": [
    "# Datasets for this work\n",
    "EDIS_path = '../our_datasets/EDIS/'\n",
    "HELIUS_path = '../our_datasets/HELIUS/'\n",
    "Insight46_path = '../our_datasets/Insight46/'\n",
    "HELIUS_path = '../our_datasets/HELIUS/'\n",
    "SABRE_path = '../our_datasets/SABRE/'\n",
    "MRI_path = '../our_datasets/StrokeMRI/'\n",
    "TOP_path = '../our_datasets/TOP/'\n",
    "file_name = 'TrainingDataComplete.csv'\n",
    "\n",
    "TOP_file = os.path.join(TOP_path, file_name)\n",
    "MRI_file = os.path.join(MRI_path, file_name)\n",
    "EDIS_file = os.path.join(EDIS_path, file_name)\n",
    "SABRE_file = os.path.join(SABRE_path, file_name)\n",
    "Insight46_file = os.path.join(Insight46_path, file_name)\n",
    "HELIUS_file = os.path.join(HELIUS_path, file_name)\n",
    "\n",
    "TOP = pd.read_csv(TOP_file, index_col=0 )\n",
    "MRI = pd.read_csv(MRI_file, index_col=0)\n",
    "HELIUS = pd.read_csv(HELIUS_file, index_col=0) # \n",
    "EDIS = pd.read_csv(EDIS_file, index_col=0 )\n",
    "SABRE = pd.read_csv(SABRE_file, index_col=0)\n",
    "INSI = pd.read_csv(Insight46_file, index_col=0) # "
   ]
  },
  {
   "cell_type": "code",
   "execution_count": null,
   "id": "fd181dae-b9e4-4b72-b164-d80b74d318ff",
   "metadata": {},
   "outputs": [],
   "source": []
  },
  {
   "cell_type": "code",
   "execution_count": null,
   "id": "ae160041-2f54-41d1-9b34-1ce9fbdc1979",
   "metadata": {},
   "outputs": [],
   "source": [
    "HELIUS[HELIUS['participant_id']=='sub-153852_1']"
   ]
  },
  {
   "cell_type": "code",
   "execution_count": null,
   "id": "b609fb72-0221-41ef-af22-8f8bc82e3f16",
   "metadata": {},
   "outputs": [],
   "source": [
    "SABRE[SABRE['participant_id']=='sub-153852_1']"
   ]
  },
  {
   "cell_type": "code",
   "execution_count": null,
   "id": "e3ec2833-fc15-410d-b0b5-4a6be58c1cb1",
   "metadata": {
    "tags": []
   },
   "outputs": [],
   "source": [
    "HELIUS.loc[HELIUS['participant_id']=='sub-153852_1', 'participant_id'] = 'sub-153852_1H'"
   ]
  },
  {
   "cell_type": "code",
   "execution_count": null,
   "id": "850090b4-5ee2-4c63-b0b7-595ee79f6803",
   "metadata": {
    "tags": []
   },
   "outputs": [],
   "source": [
    "HELIUS.Sex.unique()"
   ]
  },
  {
   "cell_type": "code",
   "execution_count": null,
   "id": "c690c9bc-572b-47b6-9757-465d206a5831",
   "metadata": {
    "tags": []
   },
   "outputs": [],
   "source": [
    "HELIUS.head(3)"
   ]
  },
  {
   "cell_type": "code",
   "execution_count": null,
   "id": "1295670c-d9eb-4d5b-96c1-229f43e7c5dd",
   "metadata": {
    "tags": []
   },
   "outputs": [],
   "source": [
    "sex_mapping = {1:0,2:1}\n",
    "\n",
    "EDIS = EDIS.assign(Sex = EDIS.Sex.map(sex_mapping))\n",
    "EDIS.head(3)"
   ]
  },
  {
   "cell_type": "code",
   "execution_count": null,
   "id": "1c579068-f12a-483e-ac19-2389ce77b23f",
   "metadata": {
    "tags": []
   },
   "outputs": [],
   "source": [
    "INSI = INSI.assign(Sex = INSI.Sex.map(sex_mapping))\n",
    "INSI.head(3)"
   ]
  },
  {
   "cell_type": "code",
   "execution_count": null,
   "id": "98a04a73-1ad8-40e0-9bfb-83504c416f92",
   "metadata": {
    "tags": []
   },
   "outputs": [],
   "source": [
    "SABRE = SABRE.assign(Sex = SABRE.Sex.map(sex_mapping))\n",
    "SABRE.head(3)"
   ]
  },
  {
   "cell_type": "code",
   "execution_count": null,
   "id": "52d93f02-681f-4ba3-a972-795bc3648567",
   "metadata": {
    "tags": []
   },
   "outputs": [],
   "source": [
    "TOP = TOP.drop(['Site', 'ID'], axis= 1)\n",
    "TOP.head(3)"
   ]
  },
  {
   "cell_type": "code",
   "execution_count": null,
   "id": "ed529e33-be08-4fe6-be54-a9399abbeb30",
   "metadata": {
    "tags": []
   },
   "outputs": [],
   "source": [
    "MRI = MRI.drop(['Site', 'ID'],axis = 1)\n",
    "MRI.tail(3)"
   ]
  },
  {
   "cell_type": "code",
   "execution_count": null,
   "id": "cfe13cca-78b2-49ca-a5a2-9f1fc3a288e2",
   "metadata": {
    "tags": []
   },
   "outputs": [],
   "source": [
    "TOPMRI = pd.concat([MRI ,TOP])\n",
    "TOPMRI.head(3)"
   ]
  },
  {
   "cell_type": "code",
   "execution_count": null,
   "id": "8d29c20d-5c1d-4286-8ded-4c41abb2b0b9",
   "metadata": {
    "tags": []
   },
   "outputs": [],
   "source": [
    "HELIUS = HELIUS.drop(['Site', 'ID'],axis = 1)\n",
    "HELIUS.tail(3)"
   ]
  },
  {
   "cell_type": "code",
   "execution_count": null,
   "id": "4bef3904-b98d-457e-b2fd-d5c756be606d",
   "metadata": {},
   "outputs": [],
   "source": []
  },
  {
   "cell_type": "code",
   "execution_count": null,
   "id": "62097bed-542a-4cfc-81c5-46abcb081da6",
   "metadata": {
    "tags": []
   },
   "outputs": [],
   "source": [
    "EDIS = EDIS.drop(['Site', 'ID'],axis = 1)\n",
    "INSI = INSI.drop(['Site', 'ID'],axis = 1)\n",
    "SABRE = SABRE.drop(['Site', 'ID'],axis = 1)"
   ]
  },
  {
   "cell_type": "code",
   "execution_count": null,
   "id": "01c28e72-8aa8-48fc-a35a-b6070ba4251b",
   "metadata": {},
   "outputs": [],
   "source": [
    "\n",
    "def prep_for_neurocombat_5way(dataframe1, dataframe2, dataframe3, dataframe4, dataframe5):\n",
    "    \"\"\"\n",
    "    This function takes five dataframes in the cvasl format,\n",
    "    then turns them into the items needed for the\n",
    "    neurocombat algorithm with re-identification.\n",
    "\n",
    "    :param dataframe1: frame variable\n",
    "    :type frame: `~pandas.DataFrame`\n",
    "    :param dataframe2: frame variable\n",
    "    :type frame: `~pandas.DataFrame`\n",
    "\n",
    "    :returns: dataframes for neurocombat algorithm and ints of some legnths\n",
    "    :rtype: tuple\n",
    "    \"\"\"\n",
    "    # TODO:(makeda) make so it can take frame name or frame\n",
    "    \n",
    "    two_selection = dataframe2\n",
    "    one_selection = dataframe1\n",
    "    three_selection = dataframe3\n",
    "    four_selection = dataframe4\n",
    "    five_selection = dataframe5\n",
    "    #one_selection = dataframe1\n",
    "    \n",
    "    # set index to participant IDs\n",
    "    one_selection = one_selection.set_index('participant_id')\n",
    "    two_selection = two_selection.set_index('participant_id')\n",
    "    three_selection= three_selection.set_index('participant_id')\n",
    "    four_selection = four_selection.set_index('participant_id')\n",
    "    five_selection = five_selection.set_index('participant_id')\n",
    "    \n",
    "    #turn dataframes on side\n",
    "    one_selection = one_selection.T\n",
    "    two_selection = two_selection.T\n",
    "    three_selection =three_selection.T\n",
    "    four_selection = four_selection.T\n",
    "    five_selection = five_selection.T\n",
    "    \n",
    "    # concat the two dataframes\n",
    "    all_togetherF = pd.concat(\n",
    "        [one_selection, two_selection, three_selection, four_selection, five_selection],\n",
    "        axis=1,\n",
    "        join=\"inner\",\n",
    "    )\n",
    "    \n",
    "    #print(\"Nan count\", both_togetherF.isna().sum().sum())\n",
    "    # create a feautures only frame (no age, no sex)\n",
    "    features_only = all_togetherF[2:]\n",
    "    ##print(features_only)\n",
    "    dictionary_features_len = len(features_only.T.columns)\n",
    "    number = 0\n",
    "    made_keys = []\n",
    "    made_vals = []\n",
    "    for n in features_only.T.columns:\n",
    "\n",
    "        made_keys.append(number)\n",
    "        made_vals.append(n)\n",
    "        number += 1\n",
    "    feature_dictF = dict(map(lambda i, j: (i, j), made_keys, made_vals))\n",
    "    ftF = features_only.reset_index()\n",
    "    ftF = ftF.rename(columns={\"index\": \"A\"})\n",
    "    ftF = ftF.drop(['A'], axis=1)\n",
    "    ftF = ftF.dropna()\n",
    "    btF = all_togetherF.reset_index()\n",
    "    btF = btF.rename(columns={\"index\": \"A\"})\n",
    "    btF = btF.drop(['A'], axis=1)\n",
    "    btF = btF.dropna()\n",
    "    len1 = len(one_selection.columns)\n",
    "    len2 = len(two_selection.columns)\n",
    "    len3 = len(three_selection.columns)\n",
    "    len4 = len(four_selection.columns)\n",
    "    len5 = len(five_selection.columns)\n",
    "    \n",
    "    return all_togetherF, ftF, btF, feature_dictF, len1, len2, len3, len4, len5"
   ]
  },
  {
   "cell_type": "code",
   "execution_count": null,
   "id": "98191c20-a138-41c4-8881-90c6233560ae",
   "metadata": {
    "tags": []
   },
   "outputs": [],
   "source": [
    "all_togetherF, ftF, btF, feature_dictF, len1, len2, len3, len4, len5 = prep_for_neurocombat_5way(TOPMRI, HELIUS, EDIS, SABRE, INSI)"
   ]
  },
  {
   "cell_type": "code",
   "execution_count": null,
   "id": "baa2f517-c603-45b9-8be0-5fd416874a24",
   "metadata": {},
   "outputs": [],
   "source": [
    "all_togetherF, ftF, btF, feature_dictF, len1, len2, len3, len4, len5 = har.prep_for_neurocombat_5way(TOPMRI, HELIUS, EDIS, SABRE, INSI)"
   ]
  },
  {
   "cell_type": "markdown",
   "id": "1c929dd6-94df-4bd3-8a01-2c78b7230162",
   "metadata": {
    "tags": []
   },
   "source": [
    "ftF is what is stripped down to the pure array"
   ]
  },
  {
   "cell_type": "code",
   "execution_count": null,
   "id": "f6014589-afd3-4312-9c14-350a17252fc0",
   "metadata": {
    "tags": []
   },
   "outputs": [],
   "source": [
    "all_togetherF"
   ]
  },
  {
   "cell_type": "code",
   "execution_count": null,
   "id": "e770068e-1198-4910-bd29-dbf95defb2af",
   "metadata": {
    "tags": []
   },
   "outputs": [],
   "source": [
    "#both_togetherF"
   ]
  },
  {
   "cell_type": "code",
   "execution_count": null,
   "id": "3bae37ee-3ccb-4ae9-b858-816bd413d831",
   "metadata": {
    "tags": []
   },
   "outputs": [],
   "source": [
    "ftF.to_csv('ftF_top5.csv')"
   ]
  },
  {
   "cell_type": "code",
   "execution_count": null,
   "id": "739cc558-8219-42bc-bf2e-fdd37c084f45",
   "metadata": {
    "tags": []
   },
   "outputs": [],
   "source": [
    "data = np.genfromtxt('ftF_top5.csv', delimiter=\",\", skip_header=1)\n",
    "data = data[:, 1:]\n",
    "data"
   ]
  },
  {
   "cell_type": "code",
   "execution_count": null,
   "id": "c074a847-0dcb-4d63-8df6-8615a0b01ed6",
   "metadata": {
    "tags": []
   },
   "outputs": [],
   "source": [
    "data.shape"
   ]
  },
  {
   "cell_type": "code",
   "execution_count": null,
   "id": "13646440-4d7b-4190-9376-d7a724e2d3fb",
   "metadata": {
    "tags": []
   },
   "outputs": [],
   "source": [
    "# Specifying the batch (scanner variable) as well as a sex covariate to preserve:\n",
    "first_columns_as_one = [1] * len1\n",
    "second_columns_as_two = [2] * len2\n",
    "third_columns_as_three = [3] * len3\n",
    "fourth_columns_as_four = [4] * len4\n",
    "fifth_columns_as_five = [5] * len5\n",
    "covars = {'batch':first_columns_as_one + second_columns_as_two + third_columns_as_three + fourth_columns_as_four + fifth_columns_as_five,\n",
    "          #'Site': both_togetherF.loc['Site',:].values.tolist(), \n",
    "          'Sex':all_togetherF.loc['Sex',:].values.tolist(),\n",
    "           'Age':all_togetherF.loc['Age',:].values.tolist(),} \n",
    "covars = pd.DataFrame(covars) "
   ]
  },
  {
   "cell_type": "code",
   "execution_count": null,
   "id": "efccb21b-dfdf-490b-b4bc-a9439562ba1b",
   "metadata": {
    "tags": []
   },
   "outputs": [],
   "source": [
    "# specifify sex as categorical\n",
    "categorical_cols = ['Sex']\n",
    "# To specify the name of the variable that encodes for the scanner/batch covariate:\n",
    "batch_col_mine = 'batch'\n",
    "our_continuous_col=['Age']\n",
    "#Harmonization step:\n",
    "data_combat = neuroCombat(dat=data,\n",
    "    covars=covars,\n",
    "    batch_col=batch_col_mine,\n",
    "    continuous_cols=our_continuous_col,\n",
    "    categorical_cols=categorical_cols)[\"data\"]\n",
    "\n",
    "# (n_dat, covars, batch_col, continuous_cols=continuous_cols,\n",
    "#                                     categorical_cols=categorical_cols)"
   ]
  },
  {
   "cell_type": "code",
   "execution_count": null,
   "id": "b7c91f0d-1aa6-4ec4-b07b-184872ff9e21",
   "metadata": {
    "tags": []
   },
   "outputs": [],
   "source": [
    "neurocombat = pd.DataFrame(data_combat)\n",
    "neurocombat"
   ]
  },
  {
   "cell_type": "code",
   "execution_count": null,
   "id": "2278bb28-5d5b-4a8b-98fa-0a9afea7f12e",
   "metadata": {
    "tags": []
   },
   "outputs": [],
   "source": [
    "topperF = har.make_topper(btF,'Age', 'Sex')"
   ]
  },
  {
   "cell_type": "code",
   "execution_count": null,
   "id": "698de14f-30e8-441e-b606-02174d7c9f15",
   "metadata": {
    "tags": []
   },
   "outputs": [],
   "source": [
    "bottom = neurocombat.reset_index(drop=False)\n",
    "bottom = bottom.rename(columns={\"index\": \"char\"})\n",
    "bottom.columns = topperF.columns"
   ]
  },
  {
   "cell_type": "code",
   "execution_count": null,
   "id": "be39425f-a60b-4806-b700-482c63c65b69",
   "metadata": {
    "tags": []
   },
   "outputs": [],
   "source": [
    "back_together = pd.concat([topperF, bottom])\n",
    "back_together = back_together.T\n",
    "#back_together"
   ]
  },
  {
   "cell_type": "code",
   "execution_count": null,
   "id": "e17e802a-0a46-4ab0-be54-a5ac54de0ba4",
   "metadata": {
    "tags": []
   },
   "outputs": [],
   "source": [
    "back_together"
   ]
  },
  {
   "cell_type": "code",
   "execution_count": null,
   "id": "91bf2486-43eb-47e9-bc20-6c39dfafad4b",
   "metadata": {
    "tags": []
   },
   "outputs": [],
   "source": [
    "new_header = back_together.iloc[0] #grab the first row for the header\n",
    "back_together.columns = new_header #set the header row as the df header\n",
    "back_together = back_together[1:]\n",
    "#back_together"
   ]
  },
  {
   "cell_type": "code",
   "execution_count": null,
   "id": "eb926aac-58b5-4f14-ae8c-06e693dd14b2",
   "metadata": {
    "tags": []
   },
   "outputs": [],
   "source": [
    "len5"
   ]
  },
  {
   "cell_type": "code",
   "execution_count": null,
   "id": "e33fa3d5-e895-45f7-878b-a49382ab36e4",
   "metadata": {
    "tags": []
   },
   "outputs": [],
   "source": [
    "neuro_harm_topmri =back_together.head(len1)\n",
    "neuro_harm_HELIUS =back_together.head(len1+len2).tail(len2)\n",
    "neuro_harm_EDIS =back_together.head(len1+len2+ len3).tail(len3)\n",
    "neuro_harm_SABRE =back_together.head(len1+len2+ len3 +len4).tail(len4)\n",
    "neuro_harm_INSI =back_together.head(len1+len2+ len3 +len4+ len5).tail(len5)"
   ]
  },
  {
   "cell_type": "code",
   "execution_count": null,
   "id": "207f33b4-1ea4-4bd0-817a-4f0d59a3bc03",
   "metadata": {
    "tags": []
   },
   "outputs": [],
   "source": [
    "neuro_harm_INSI"
   ]
  },
  {
   "cell_type": "code",
   "execution_count": null,
   "id": "27dfdffe-e166-4d7f-84ba-543c6ab8b786",
   "metadata": {
    "tags": []
   },
   "outputs": [],
   "source": [
    "neuro_harm_EDIS"
   ]
  },
  {
   "cell_type": "code",
   "execution_count": null,
   "id": "70ddfe42-da9c-40cc-a563-2a2c7f377ece",
   "metadata": {
    "tags": []
   },
   "outputs": [],
   "source": [
    "neuro_harm_SABRE"
   ]
  },
  {
   "cell_type": "code",
   "execution_count": null,
   "id": "9167d334-269b-4028-a5c1-c7e360e9562d",
   "metadata": {
    "tags": []
   },
   "outputs": [],
   "source": [
    "neuro_harm_topmri"
   ]
  },
  {
   "cell_type": "code",
   "execution_count": null,
   "id": "61fbdfea-d226-4e84-84b0-63d0f7b4da54",
   "metadata": {
    "tags": []
   },
   "outputs": [],
   "source": []
  },
  {
   "cell_type": "code",
   "execution_count": null,
   "id": "e8ba0560-1f92-4b67-98c7-905b03b6fedb",
   "metadata": {},
   "outputs": [],
   "source": []
  },
  {
   "cell_type": "code",
   "execution_count": null,
   "id": "f8f53739-bfc5-401b-8e03-cb1d5549a66a",
   "metadata": {},
   "outputs": [],
   "source": []
  }
 ],
 "metadata": {
  "kernelspec": {
   "display_name": "Python 3 (ipykernel)",
   "language": "python",
   "name": "python3"
  },
  "language_info": {
   "codemirror_mode": {
    "name": "ipython",
    "version": 3
   },
   "file_extension": ".py",
   "mimetype": "text/x-python",
   "name": "python",
   "nbconvert_exporter": "python",
   "pygments_lexer": "ipython3",
   "version": "3.7.12"
  }
 },
 "nbformat": 4,
 "nbformat_minor": 5
}
