{
 "cells": [
  {
   "cell_type": "markdown",
   "id": "0",
   "metadata": {},
   "source": [
    "# Autocombat TOP and StrokeMRI vs. SABRE harmonized datasets"
   ]
  },
  {
   "cell_type": "markdown",
   "id": "1",
   "metadata": {},
   "source": [
    "Note this must be run in the `comscan6` environment"
   ]
  },
  {
   "cell_type": "markdown",
   "id": "2",
   "metadata": {
    "tags": []
   },
   "source": [
    "## import libraries"
   ]
  },
  {
   "cell_type": "code",
   "execution_count": null,
   "id": "3",
   "metadata": {
    "tags": []
   },
   "outputs": [],
   "source": [
    "import os\n",
    "import sys\n",
    "\n",
    "import pandas as pd\n",
    "import numpy as np\n",
    "\n",
    "sys.path.insert(0, '../../') # path to functions\n",
    "\n",
    "import cvasl.harmony as har\n",
    "import cvasl.vendor.comscan.neurocombat as autocombat"
   ]
  },
  {
   "cell_type": "markdown",
   "id": "4",
   "metadata": {},
   "source": [
    "## Let's see how we would apply this to our data\n",
    "We will have to flip it on it's side to make it work"
   ]
  },
  {
   "cell_type": "code",
   "execution_count": null,
   "id": "5",
   "metadata": {
    "tags": []
   },
   "outputs": [],
   "source": [
    "# Datasets for this work\n",
    "MRI_path = '../our_datasets/StrokeMRI/'\n",
    "TOP_path = '../our_datasets/TOP/'\n",
    "SABRE_path = '../our_datasets/SABRE/'\n",
    "file_name = 'TrainingDataComplete.csv'\n",
    "\n",
    "TOP_file = os.path.join(TOP_path, file_name)\n",
    "MRI_file = os.path.join(MRI_path, file_name)\n",
    "SABRE_file = os.path.join(SABRE_path, file_name)\n",
    "\n",
    "TOP = pd.read_csv(TOP_file, index_col=0)\n",
    "MRI = pd.read_csv(MRI_file, index_col=0)\n",
    "SABRE = pd.read_csv(SABRE_file, index_col=0)"
   ]
  },
  {
   "cell_type": "code",
   "execution_count": null,
   "id": "6",
   "metadata": {},
   "outputs": [],
   "source": [
    "sex_mapping = {1:0,2:1}\n",
    "SABRE = SABRE.assign(Sex = SABRE.Sex.map(sex_mapping))"
   ]
  },
  {
   "cell_type": "code",
   "execution_count": null,
   "id": "7",
   "metadata": {
    "tags": []
   },
   "outputs": [],
   "source": [
    "TOP = TOP.drop([ 'ID'], axis= 1)\n",
    "TOP.head(3)"
   ]
  },
  {
   "cell_type": "code",
   "execution_count": null,
   "id": "8",
   "metadata": {
    "tags": []
   },
   "outputs": [],
   "source": [
    "MRI = MRI.drop(['ID'],axis = 1)\n",
    "MRI.tail(5)"
   ]
  },
  {
   "cell_type": "code",
   "execution_count": null,
   "id": "9",
   "metadata": {
    "tags": []
   },
   "outputs": [],
   "source": [
    "SABRE = SABRE.drop(['ID'],axis = 1)\n",
    "SABRE.tail(5)"
   ]
  },
  {
   "cell_type": "code",
   "execution_count": null,
   "id": "10",
   "metadata": {
    "tags": []
   },
   "outputs": [],
   "source": [
    "TOPMRI = pd.concat([TOP, MRI])\n",
    "TOPMRI['Site'] = 0\n",
    "TOPMRI.head(3) "
   ]
  },
  {
   "cell_type": "code",
   "execution_count": null,
   "id": "11",
   "metadata": {
    "tags": []
   },
   "outputs": [],
   "source": [
    "TOPMRI.columns = TOPMRI.columns.str.lower()"
   ]
  },
  {
   "cell_type": "code",
   "execution_count": null,
   "id": "12",
   "metadata": {
    "tags": []
   },
   "outputs": [],
   "source": [
    "SABRE.columns = SABRE.columns.str.lower()"
   ]
  },
  {
   "cell_type": "code",
   "execution_count": null,
   "id": "13",
   "metadata": {
    "tags": []
   },
   "outputs": [],
   "source": [
    "TOPMRISABRE = pd.concat([TOPMRI, SABRE])\n",
    "TOPMRISABRE"
   ]
  },
  {
   "cell_type": "code",
   "execution_count": null,
   "id": "14",
   "metadata": {
    "tags": []
   },
   "outputs": [],
   "source": [
    "TOPMRISABRE['decade']=(TOPMRISABRE['age']/10).round()\n",
    "#TOPMRI['decade']"
   ]
  },
  {
   "cell_type": "code",
   "execution_count": null,
   "id": "15",
   "metadata": {
    "tags": []
   },
   "outputs": [],
   "source": [
    "TOPMRISABRE = TOPMRISABRE.sort_values(by='age')\n",
    "TOPMRISABRE.reset_index(inplace=True)\n",
    "TOPMRISABRE['fine_grain'] = TOPMRISABRE['age'].rolling(2).sum()/2\n",
    "#TOPMRISABEW"
   ]
  },
  {
   "cell_type": "code",
   "execution_count": null,
   "id": "16",
   "metadata": {
    "tags": []
   },
   "outputs": [],
   "source": [
    "TOPMRISABRE[2:].fine_grain.iloc[::2] = TOPMRISABRE[:].fine_grain.iloc[1::2]\n",
    "#TOPMRI['fine_grain']"
   ]
  },
  {
   "cell_type": "code",
   "execution_count": null,
   "id": "17",
   "metadata": {
    "tags": []
   },
   "outputs": [],
   "source": [
    "TOPMRISABRE['fine_grain'][0] = TOPMRISABRE['fine_grain'][1]\n",
    "TOPMRISABRE['fine_grain']"
   ]
  },
  {
   "cell_type": "code",
   "execution_count": null,
   "id": "18",
   "metadata": {
    "tags": []
   },
   "outputs": [],
   "source": [
    "TOPMRISABRE['decade'].unique()"
   ]
  },
  {
   "cell_type": "code",
   "execution_count": null,
   "id": "19",
   "metadata": {
    "tags": []
   },
   "outputs": [],
   "source": [
    "TOPMRISABRE.columns"
   ]
  },
  {
   "cell_type": "code",
   "execution_count": null,
   "id": "20",
   "metadata": {
    "tags": []
   },
   "outputs": [],
   "source": [
    "combat = autocombat.Combat(\n",
    "    features=[ 'gm_vol', 'wm_vol', 'csf_vol',\n",
    "       'gm_icvratio', 'gmwm_icvratio', 'wmhvol_wmvol', 'wmh_count',\n",
    "       'aca_b_cov', 'mca_b_cov', 'pca_b_cov', 'totalgm_b_cov',\n",
    "       'aca_b_cbf', 'mca_b_cbf', 'pca_b_cbf', 'totalgm_b_cbf',],\n",
    "    sites=[ \"site\"], discrete_covariates=['sex'],continuous_covariates=['decade'],)\n",
    "\n",
    "fg_combat = autocombat.Combat(\n",
    "    features=[ 'gm_vol', 'wm_vol', 'csf_vol',\n",
    "       'gm_icvratio', 'gmwm_icvratio', 'wmhvol_wmvol', 'wmh_count',\n",
    "       'aca_b_cov', 'mca_b_cov', 'pca_b_cov', 'totalgm_b_cov',\n",
    "       'aca_b_cbf', 'mca_b_cbf', 'pca_b_cbf', 'totalgm_b_cbf',],\n",
    "    sites=[ \"site\"], discrete_covariates=['sex'],continuous_covariates=['fine_grain'],)\n"
   ]
  },
  {
   "cell_type": "code",
   "execution_count": null,
   "id": "21",
   "metadata": {},
   "outputs": [],
   "source": [
    "print(combat.fit(TOPMRISABRE))\n",
    "print(fg_combat.fit(TOPMRISABRE))"
   ]
  },
  {
   "cell_type": "code",
   "execution_count": null,
   "id": "22",
   "metadata": {},
   "outputs": [],
   "source": [
    "print(combat.gamma_star_)\n",
    "print(fg_combat.gamma_star_)"
   ]
  },
  {
   "cell_type": "code",
   "execution_count": null,
   "id": "23",
   "metadata": {},
   "outputs": [],
   "source": [
    "transformed_TOPMRISABRE= combat.transform(TOPMRISABRE)\n",
    "transformed_TOPMRISABRE.head(3)"
   ]
  },
  {
   "cell_type": "code",
   "execution_count": null,
   "id": "24",
   "metadata": {},
   "outputs": [],
   "source": [
    "fg_transformed_TOPMRISABRE= fg_combat.transform(TOPMRISABRE)\n",
    "fg_transformed_TOPMRISABRE.head(3)"
   ]
  },
  {
   "cell_type": "code",
   "execution_count": null,
   "id": "25",
   "metadata": {
    "tags": []
   },
   "outputs": [],
   "source": [
    "TOPMRISABRE.head(3)"
   ]
  },
  {
   "cell_type": "code",
   "execution_count": null,
   "id": "26",
   "metadata": {
    "tags": []
   },
   "outputs": [],
   "source": [
    "transformed_TOPMRISABRE= combat.transform(TOPMRISABRE)\n",
    "transformed_TOPMRISABRE.head(3)"
   ]
  },
  {
   "cell_type": "code",
   "execution_count": null,
   "id": "27",
   "metadata": {
    "tags": []
   },
   "outputs": [],
   "source": [
    "fg_transformed_TOPMRISABRE= fg_combat.transform(TOPMRISABRE)\n",
    "fg_transformed_TOPMRISABRE.head(3)"
   ]
  },
  {
   "cell_type": "code",
   "execution_count": null,
   "id": "28",
   "metadata": {
    "tags": []
   },
   "outputs": [],
   "source": [
    "transformed_TOPMRISABRE.columns"
   ]
  },
  {
   "cell_type": "code",
   "execution_count": null,
   "id": "29",
   "metadata": {
    "tags": []
   },
   "outputs": [],
   "source": [
    "TOPMRI_transformed = transformed_TOPMRISABRE[ transformed_TOPMRISABRE['site']==0]\n",
    "TOPMRI_transformed = TOPMRI_transformed.drop(['site', 'decade','fine_grain', 'index'], axis=1)\n",
    "TOPMRI_transformed.head(3)"
   ]
  },
  {
   "cell_type": "code",
   "execution_count": null,
   "id": "30",
   "metadata": {
    "tags": []
   },
   "outputs": [],
   "source": [
    "fg_TOPMRI_transformed = fg_transformed_TOPMRISABRE[ fg_transformed_TOPMRISABRE['site']==0]\n",
    "fg_TOPMRI_transformed = fg_TOPMRI_transformed .drop(['site', 'decade','fine_grain', 'index'], axis=1)\n",
    "fg_TOPMRI_transformed.head(3)"
   ]
  },
  {
   "cell_type": "code",
   "execution_count": null,
   "id": "31",
   "metadata": {
    "tags": []
   },
   "outputs": [],
   "source": [
    "SABRE_transformed = transformed_TOPMRISABRE[ transformed_TOPMRISABRE['site']==1]\n",
    "SABRE_transformed = SABRE_transformed.drop(['site', 'decade', 'index', 'fine_grain'], axis=1)\n",
    "SABRE_transformed.head(3)"
   ]
  },
  {
   "cell_type": "code",
   "execution_count": null,
   "id": "32",
   "metadata": {
    "tags": []
   },
   "outputs": [],
   "source": [
    "fg_SABRE_transformed = fg_transformed_TOPMRISABRE[fg_transformed_TOPMRISABRE['site']==1]\n",
    "fg_SABRE_transformed = fg_SABRE_transformed.drop(['site', 'decade', 'index', 'fine_grain'], axis=1)\n",
    "fg_SABRE_transformed.head(3)"
   ]
  },
  {
   "cell_type": "code",
   "execution_count": null,
   "id": "33",
   "metadata": {
    "tags": []
   },
   "outputs": [],
   "source": [
    "TOPMRI_transformed.to_csv('harm_results/autocombat/autocom_harm_topmri_v_s.csv')\n",
    "SABRE_transformed.to_csv('harm_results/autocombat/autocom_harm_sabre.csv')\n",
    "\n",
    "fg_TOPMRI_transformed.to_csv('harm_results/autocombat/fg_autocom_harm_topmri_v_s.csv')\n",
    "fg_SABRE_transformed.to_csv('harm_results/autocombat/fg_autocom_harm_sabre1.csv')"
   ]
  },
  {
   "cell_type": "markdown",
   "id": "34",
   "metadata": {},
   "source": [
    "# Data quality check"
   ]
  },
  {
   "cell_type": "code",
   "execution_count": null,
   "id": "35",
   "metadata": {
    "tags": []
   },
   "outputs": [],
   "source": [
    "TOPMRI_transformed.isna().sum().sum()"
   ]
  },
  {
   "cell_type": "code",
   "execution_count": null,
   "id": "36",
   "metadata": {
    "tags": []
   },
   "outputs": [],
   "source": [
    "SABRE_transformed.isna().sum().sum()"
   ]
  },
  {
   "cell_type": "code",
   "execution_count": null,
   "id": "37",
   "metadata": {
    "tags": []
   },
   "outputs": [],
   "source": [
    "number_columns = ['sex', 'gm_vol', 'wm_vol', 'csf_vol',\n",
    "       'gm_icvratio', 'gmwm_icvratio', 'wmhvol_wmvol', 'wmh_count',\n",
    "       'aca_b_cov', 'mca_b_cov', 'pca_b_cov', 'totalgm_b_cov',\n",
    "       'aca_b_cbf', 'mca_b_cbf', 'pca_b_cbf', 'totalgm_b_cbf',]"
   ]
  },
  {
   "cell_type": "code",
   "execution_count": null,
   "id": "38",
   "metadata": {
    "tags": []
   },
   "outputs": [],
   "source": [
    "#neuro_harm_top.head(3)\n",
    "(TOPMRI_transformed[number_columns] < 0).sum()"
   ]
  },
  {
   "cell_type": "code",
   "execution_count": null,
   "id": "39",
   "metadata": {
    "tags": []
   },
   "outputs": [],
   "source": [
    "(SABRE_transformed[number_columns] < 0).sum()"
   ]
  },
  {
   "cell_type": "code",
   "execution_count": null,
   "id": "40",
   "metadata": {
    "tags": []
   },
   "outputs": [],
   "source": [
    "SABRE_transformed"
   ]
  },
  {
   "cell_type": "markdown",
   "id": "41",
   "metadata": {},
   "source": [
    "## So some variables are again problematic, becuas they are negative"
   ]
  },
  {
   "cell_type": "markdown",
   "id": "42",
   "metadata": {
    "tags": []
   },
   "source": [
    " We will wait about logging it until we see other columns we may want to log across all datasets"
   ]
  }
 ],
 "metadata": {
  "kernelspec": {
   "display_name": "Python 3 (ipykernel)",
   "language": "python",
   "name": "python3"
  },
  "language_info": {
   "codemirror_mode": {
    "name": "ipython",
    "version": 3
   },
   "file_extension": ".py",
   "mimetype": "text/x-python",
   "name": "python",
   "nbconvert_exporter": "python",
   "pygments_lexer": "ipython3",
   "version": "3.7.12"
  }
 },
 "nbformat": 4,
 "nbformat_minor": 5
}
