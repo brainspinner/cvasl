{
 "cells": [
  {
   "cell_type": "markdown",
   "id": "fd86f536-129b-427b-a2fb-8744acdc1c14",
   "metadata": {},
   "source": [
    "# Neuroharmonize datasets"
   ]
  },
  {
   "cell_type": "markdown",
   "id": "9997da3b-8443-4c79-ac52-af5736e26e13",
   "metadata": {},
   "source": [
    "This is a notebook to apply neuroHarmonize: a ComBat-GAM  non-linear allowing algorithm over our data to create neuroHarmonized datasets. It should be run in the `neurogamy` environment."
   ]
  },
  {
   "cell_type": "code",
   "execution_count": null,
   "id": "03b5ca10-ae41-4ae2-9f28-452ee020fe9e",
   "metadata": {
    "tags": []
   },
   "outputs": [],
   "source": [
    "import os\n",
    "from neuroHarmonize import harmonizationLearn\n",
    "import pandas as pd\n",
    "import numpy as np"
   ]
  },
  {
   "cell_type": "code",
   "execution_count": null,
   "id": "eac7021f-6e63-48db-80cc-d5f949b08983",
   "metadata": {},
   "outputs": [],
   "source": [
    "Insight46_path = '../our_datasets/Insight46/'\n",
    "MRI_path = '../our_datasets/StrokeMRI/'\n",
    "TOP_path = '../our_datasets/TOP/'\n",
    "SABRE_path = '../our_datasets/SABRE/'\n",
    "EDIS_path = '../our_datasets/EDIS/'\n",
    "HELIUS_path = '../our_datasets/HELIUS/'\n",
    "file_name = 'TrainingDataComplete.csv'\n",
    "\n",
    "TOP_file = os.path.join(TOP_path, file_name)\n",
    "MRI_file = os.path.join(MRI_path, file_name)\n",
    "SABRE_file = os.path.join(SABRE_path, file_name)\n",
    "EDIS_file = os.path.join(EDIS_path, file_name)\n",
    "Insight46_file = os.path.join(Insight46_path, file_name)\n",
    "HELIUS_file = os.path.join(HELIUS_path, file_name)\n",
    "\n",
    "TOP = pd.read_csv(TOP_file)\n",
    "MRI = pd.read_csv(MRI_file)\n",
    "Insight46 = pd.read_csv(Insight46_file)\n",
    "SABRE = pd.read_csv(SABRE_file)\n",
    "EDIS = pd.read_csv(EDIS_file)\n",
    "\n",
    "## the below must be changed to produce real HELIUS\n",
    "HELIUS = pd.read_csv(EDIS_file)"
   ]
  },
  {
   "cell_type": "code",
   "execution_count": null,
   "id": "d28dd61c-51da-4eba-b014-8b656bde7e3e",
   "metadata": {},
   "outputs": [],
   "source": [
    "sex_mapping = {1:0,2:1}\n",
    "Insight = Insight46.assign(Sex = Insight46.Sex.map(sex_mapping))\n",
    "SABRE = SABRE.assign(Sex = SABRE.Sex.map(sex_mapping))\n",
    "EDIS = EDIS.assign(Sex = EDIS.Sex.map(sex_mapping))\n",
    "HELIUS = HELIUS.assign(Sex = HELIUS.Sex.map(sex_mapping))\n",
    "Insight.head(3)"
   ]
  },
  {
   "cell_type": "code",
   "execution_count": null,
   "id": "38162ef2-bf66-455c-9291-56c00f34f9f5",
   "metadata": {
    "tags": []
   },
   "outputs": [],
   "source": [
    "HELIUS.tail(3)"
   ]
  },
  {
   "cell_type": "code",
   "execution_count": null,
   "id": "481d0bec-fe99-4fc3-9cb7-a6a04e906220",
   "metadata": {
    "tags": []
   },
   "outputs": [],
   "source": [
    "TOP['Site'] = 0\n",
    "MRI['Site'] = 1\n",
    "MRI.head(3)"
   ]
  },
  {
   "cell_type": "code",
   "execution_count": null,
   "id": "54986713-1103-4abc-b3d4-0de51c15849b",
   "metadata": {},
   "outputs": [],
   "source": [
    "TOP.head(3)"
   ]
  },
  {
   "cell_type": "markdown",
   "id": "df0aefd6-b695-4c74-90f8-78910afe58a8",
   "metadata": {
    "tags": []
   },
   "source": [
    "# Here we will harmonize just TOP and StrokeMRI"
   ]
  },
  {
   "cell_type": "code",
   "execution_count": null,
   "id": "2053e1f0-d9dd-4595-8c98-b151f64c2549",
   "metadata": {
    "tags": []
   },
   "outputs": [],
   "source": [
    "TOPMRI = pd.concat([TOP, MRI])\n",
    "TOPMRI.head(3) "
   ]
  },
  {
   "cell_type": "code",
   "execution_count": null,
   "id": "19850b8d-14ec-4119-91f7-987d8e07b57c",
   "metadata": {},
   "outputs": [],
   "source": [
    "TOPMRI.tail(3)"
   ]
  },
  {
   "cell_type": "code",
   "execution_count": null,
   "id": "36ee3f92-6da1-4846-abd4-ad25b1c3c0d9",
   "metadata": {},
   "outputs": [],
   "source": [
    "TOPMRI.columns"
   ]
  },
  {
   "cell_type": "code",
   "execution_count": null,
   "id": "5ea6d100-e29f-4de4-a7fb-b6522a15201a",
   "metadata": {},
   "outputs": [],
   "source": [
    "TOPMRI.columns= TOPMRI.columns.str.lower()"
   ]
  },
  {
   "cell_type": "code",
   "execution_count": null,
   "id": "ce04d94a-6a94-47c7-8b3c-35fe6051a592",
   "metadata": {},
   "outputs": [],
   "source": [
    "common_features = ['gm_vol', 'wm_vol',\n",
    "       'csf_vol', 'gm_icvratio', 'gmwm_icvratio', 'wmhvol_wmvol', 'wmh_count',\n",
    "       'deepwm_b_cov', 'aca_b_cov', 'mca_b_cov', 'pca_b_cov', 'totalgm_b_cov',\n",
    "       'deepwm_b_cbf', 'aca_b_cbf', 'mca_b_cbf', 'pca_b_cbf', 'totalgm_b_cbf']"
   ]
  },
  {
   "cell_type": "code",
   "execution_count": null,
   "id": "3db841b7-678c-4e09-af54-6270ddee4f54",
   "metadata": {},
   "outputs": [],
   "source": [
    "TOPMRI_features = TOPMRI[common_features]\n",
    "TOPMRI_covariates = TOPMRI[['age', 'sex','site']]\n",
    "TOPMRI_covariates = TOPMRI_covariates.rename(columns={'site': 'SITE'})\n",
    "TOPMRI_covariates.head(3)"
   ]
  },
  {
   "cell_type": "code",
   "execution_count": null,
   "id": "74d86adc-95b7-47f4-892d-0280f3b6a3d1",
   "metadata": {},
   "outputs": [],
   "source": [
    "#TOPMRI_covariates.reset_index()"
   ]
  },
  {
   "cell_type": "code",
   "execution_count": null,
   "id": "a2634ceb-7c82-41dc-b1a9-ec7ccc88a740",
   "metadata": {},
   "outputs": [],
   "source": [
    "TOPMRI_features_array = np.array(TOPMRI_features)\n",
    "TOPMRI_features_array\n"
   ]
  },
  {
   "cell_type": "code",
   "execution_count": null,
   "id": "7153672b-9250-497b-b0f0-8c29f1ad6977",
   "metadata": {},
   "outputs": [],
   "source": [
    "# run harmonization and PUT the adjusted data into my_ad_data vaiable\n",
    "my_model, my_data_adj = harmonizationLearn(TOPMRI_features_array, TOPMRI_covariates)"
   ]
  },
  {
   "cell_type": "code",
   "execution_count": null,
   "id": "6148d845-0629-4b36-865e-e3379b05c63f",
   "metadata": {},
   "outputs": [],
   "source": [
    "# turn adjusted data into dataframe with column names, then add covariates, then participant IDs\n",
    "neuroharmonized_topmri = pd.DataFrame(\n",
    "    my_data_adj, \n",
    "    columns = ['gm_vol', 'wm_vol',\n",
    "       'csf_vol', 'gm_icvratio', 'gmwm_icvratio', 'wmhvol_wmvol', 'wmh_count',\n",
    "       'deepwm_b_cov', 'aca_b_cov', 'mca_b_cov', 'pca_b_cov', 'totalgm_b_cov',\n",
    "       'deepwm_b_cbf', 'aca_b_cbf', 'mca_b_cbf', 'pca_b_cbf', 'totalgm_b_cbf']\n",
    ")\n",
    "\n",
    "\n",
    "neuroharmonized_topmri =pd.concat([neuroharmonized_topmri, TOPMRI_covariates.reset_index()], axis=1)\n",
    "neuroharmonized_topmri = neuroharmonized_topmri.drop('index', axis=1)\n",
    "neuroharmonized_topmri = pd.concat([neuroharmonized_topmri, TOPMRI.participant_id.reset_index()], axis=1)\n",
    "neuroharmonized_topmri = neuroharmonized_topmri.drop('index', axis=1)\n",
    "neuroharmonized_topmri.head(3)"
   ]
  },
  {
   "cell_type": "code",
   "execution_count": null,
   "id": "e2252038-8b95-4e8c-b4fe-589afad8af96",
   "metadata": {},
   "outputs": [],
   "source": [
    "# create adjusted csvs\n",
    "top_neuroharm_to_stroke = neuroharmonized_topmri[neuroharmonized_topmri.SITE == 0]\n",
    "stroke_neuroharm_to_top = neuroharmonized_topmri[neuroharmonized_topmri.SITE == 1] "
   ]
  },
  {
   "cell_type": "code",
   "execution_count": null,
   "id": "f44f1ec5-3d22-4846-bb1f-f8365ae2ad22",
   "metadata": {},
   "outputs": [],
   "source": [
    "TOP.head(3)"
   ]
  },
  {
   "cell_type": "code",
   "execution_count": null,
   "id": "d9871566-a5f2-4306-9ee8-a6b353c007b7",
   "metadata": {},
   "outputs": [],
   "source": [
    "# reorganize to familair pattern\n",
    "column_to_move1 = stroke_neuroharm_to_top.pop(\"participant_id\")\n",
    "column_to_move2 = stroke_neuroharm_to_top.pop(\"age\")\n",
    "column_to_move3 = stroke_neuroharm_to_top.pop(\"sex\")\n",
    "tcolumn_to_move1 = top_neuroharm_to_stroke.pop(\"participant_id\")\n",
    "tcolumn_to_move2 = top_neuroharm_to_stroke.pop(\"age\")\n",
    "tcolumn_to_move3 = top_neuroharm_to_stroke.pop(\"sex\")\n",
    "stroke_neuroharm_to_top.insert(0, \"participant_id\", column_to_move1)\n",
    "stroke_neuroharm_to_top.insert(1, \"age\", column_to_move2)\n",
    "stroke_neuroharm_to_top.insert(2, \"sex\", column_to_move3)\n",
    "top_neuroharm_to_stroke.insert(0, \"participant_id\", tcolumn_to_move1)\n",
    "top_neuroharm_to_stroke.insert(1, \"age\", tcolumn_to_move2)\n",
    "top_neuroharm_to_stroke.insert(2, \"sex\", tcolumn_to_move3)"
   ]
  },
  {
   "cell_type": "code",
   "execution_count": null,
   "id": "c4c140b9-422f-4e4e-a45c-191035dec2a1",
   "metadata": {},
   "outputs": [],
   "source": [
    "top_neuroharm_to_stroke = top_neuroharm_to_stroke.drop('SITE', axis=1)\n",
    "stroke_neuroharm_to_top = stroke_neuroharm_to_top.drop('SITE', axis=1)\n",
    "stroke_neuroharm_to_top.columns"
   ]
  },
  {
   "cell_type": "code",
   "execution_count": null,
   "id": "19b12217-e073-449e-aab7-e23a008fa441",
   "metadata": {},
   "outputs": [],
   "source": [
    "top_neuroharm_to_stroke.to_csv('harm_results/neurocharm/top_neuroharm_to_stroke.csv')\n",
    "stroke_neuroharm_to_top.to_csv('harm_results/neurocharm/stroke_neuroharm_to_top.csv')"
   ]
  },
  {
   "cell_type": "code",
   "execution_count": null,
   "id": "616289a2-e886-4e53-8a8f-26dfa6d23a45",
   "metadata": {
    "tags": []
   },
   "outputs": [],
   "source": [
    "print(type(top_neuroharm_to_stroke))"
   ]
  },
  {
   "cell_type": "code",
   "execution_count": null,
   "id": "7f29c6b3-851d-44ef-a878-eacacbd83d63",
   "metadata": {
    "tags": []
   },
   "outputs": [],
   "source": [
    "# (sabre_vs_topmri_only[['gm_vol', 'wm_vol', 'csf_vol',\n",
    "#        'gm_icvratio', 'gmwm_icvratio', 'wmhvol_wmvol', 'wmh_count',\n",
    "#        'deepwm_b_cov', 'aca_b_cov', 'mca_b_cov', 'pca_b_cov', 'totalgm_b_cov',\n",
    "#        'deepwm_b_cbf', 'aca_b_cbf', 'mca_b_cbf', 'pca_b_cbf', 'totalgm_b_cbf',]] <0).sum()"
   ]
  },
  {
   "cell_type": "markdown",
   "id": "8da1e854-0fc4-4216-a32b-3329a642eff3",
   "metadata": {},
   "source": [
    "# Now we join top and StrokeMRI to one dataset and harmonize to other datasets individually"
   ]
  },
  {
   "cell_type": "code",
   "execution_count": null,
   "id": "e19f53dc-a041-4b23-9ef0-69212008f6d1",
   "metadata": {},
   "outputs": [],
   "source": [
    "unified_TOPMRI = TOPMRI.copy(deep=True)\n",
    "unified_TOPMRI = unified_TOPMRI.reset_index()\n",
    "unified_TOPMRI['site'] = 0\n",
    "unified_TOPMRI= unified_TOPMRI.drop('index', axis=1)\n",
    "unified_TOPMRI.head(3)"
   ]
  },
  {
   "cell_type": "code",
   "execution_count": null,
   "id": "6a6ee293-a097-4f14-b616-b6c7056b6022",
   "metadata": {},
   "outputs": [],
   "source": [
    "#SABRE = SABRE.drop('Unnamed: 0', axis=1)\n",
    "#SABRE = SABRE.assign(sex = SABRE.sex.map(sex_mapping))\n",
    "#SABRE['site'] = 2\n",
    "SABRE.columns = SABRE.columns.str.lower()\n",
    "SABRE.head(2) "
   ]
  },
  {
   "cell_type": "code",
   "execution_count": null,
   "id": "8a5fe91e-5c36-4310-8d71-fcc351f9c406",
   "metadata": {},
   "outputs": [],
   "source": [
    "SABRE['site'] = 2\n",
    "SABRE.head(3)"
   ]
  },
  {
   "cell_type": "code",
   "execution_count": null,
   "id": "07415423-41a2-4842-ae58-099ad6d75107",
   "metadata": {},
   "outputs": [],
   "source": [
    "TOPMRIvsSABRE= pd.concat([unified_TOPMRI, SABRE])\n",
    "TOPMRIvsSABRE = TOPMRIvsSABRE.reset_index()"
   ]
  },
  {
   "cell_type": "code",
   "execution_count": null,
   "id": "33d8b2fc-6c13-4960-a7fc-0d8e9de16041",
   "metadata": {},
   "outputs": [],
   "source": [
    "TOPMRIvsSABRE.columns"
   ]
  },
  {
   "cell_type": "code",
   "execution_count": null,
   "id": "eb34ccca-f591-4dd8-afd6-8e206c8534e8",
   "metadata": {},
   "outputs": [],
   "source": [
    "TOPMRIvsSABRE_covariates = TOPMRIvsSABRE[['age', 'sex','site']]\n",
    "TOPMRIvsSABRE_covariates = TOPMRIvsSABRE_covariates.rename(columns={'site': 'SITE'})\n",
    "TOPMRIvsSABRE_covariates.head(3)"
   ]
  },
  {
   "cell_type": "code",
   "execution_count": null,
   "id": "3e4a287e-adfd-461c-b5b8-4a4c4ea24783",
   "metadata": {},
   "outputs": [],
   "source": [
    " TOPMRIvsSABRE_features = TOPMRIvsSABRE[common_features]\n",
    "TOPMRIvsSABRE_features_array = np.array(TOPMRIvsSABRE_features)"
   ]
  },
  {
   "cell_type": "code",
   "execution_count": null,
   "id": "2d6adf91-903c-4b3e-a2ba-5f0cc35c876e",
   "metadata": {},
   "outputs": [],
   "source": [
    "my_model2, my_data_adj2 = harmonizationLearn(TOPMRIvsSABRE_features_array, TOPMRIvsSABRE_covariates)"
   ]
  },
  {
   "cell_type": "code",
   "execution_count": null,
   "id": "442c2a44-7f7e-4629-aeee-1c191a1e8e52",
   "metadata": {},
   "outputs": [],
   "source": [
    "my_data_adj2"
   ]
  },
  {
   "cell_type": "code",
   "execution_count": null,
   "id": "d95ef251-3db6-40ac-bbb6-3e1b662166a6",
   "metadata": {},
   "outputs": [],
   "source": [
    "# turn adjusted data into dataframe with column names, then add covariates, then participant IDs\n",
    "neuroharmonized_topmrivsabre = pd.DataFrame(\n",
    "    my_data_adj2, \n",
    "    columns = common_features\n",
    ")\n",
    "neuroharmonized_topmrivsabre =pd.concat([neuroharmonized_topmrivsabre, TOPMRIvsSABRE_covariates.reset_index()], axis=1)\n",
    "neuroharmonized_topmrivsabre = neuroharmonized_topmrivsabre.drop('index', axis=1)\n",
    "neuroharmonized_topmrivsabre = pd.concat([neuroharmonized_topmrivsabre, TOPMRIvsSABRE.participant_id.reset_index()], axis=1)\n",
    "neuroharmonized_topmrivsabre = neuroharmonized_topmrivsabre.drop('index', axis=1)\n",
    "neuroharmonized_topmrivsabre.head(3)"
   ]
  },
  {
   "cell_type": "code",
   "execution_count": null,
   "id": "0498e9e8-6ae4-4aa2-9991-1567e24659e6",
   "metadata": {},
   "outputs": [],
   "source": [
    "# reorganize to familair pattern\n",
    "column_to_move1 = neuroharmonized_topmrivsabre.pop(\"participant_id\")\n",
    "column_to_move2 = neuroharmonized_topmrivsabre.pop(\"age\")\n",
    "column_to_move3 = neuroharmonized_topmrivsabre.pop(\"sex\")\n",
    "neuroharmonized_topmrivsabre.insert(0, \"participant_id\", column_to_move1)\n",
    "neuroharmonized_topmrivsabre.insert(1, \"age\", column_to_move2)\n",
    "neuroharmonized_topmrivsabre.insert(2, \"sex\", column_to_move3)"
   ]
  },
  {
   "cell_type": "code",
   "execution_count": null,
   "id": "95aecced-a954-491e-ba25-1378c8244fc4",
   "metadata": {},
   "outputs": [],
   "source": [
    "# create adjusted csvs\n",
    "sabre_vs_topmri_only = neuroharmonized_topmrivsabre[neuroharmonized_topmrivsabre.SITE == 2]\n",
    "topmri_vs_sabre_only = neuroharmonized_topmrivsabre[neuroharmonized_topmrivsabre.SITE == 0] "
   ]
  },
  {
   "cell_type": "code",
   "execution_count": null,
   "id": "13134cd6-3f44-4b74-bf0d-b444cbf3895b",
   "metadata": {},
   "outputs": [],
   "source": [
    "#topmri_vs_sabre_only"
   ]
  },
  {
   "cell_type": "code",
   "execution_count": null,
   "id": "c569dd7f-9fde-4d2f-bc03-204ab04bfa6a",
   "metadata": {},
   "outputs": [],
   "source": [
    "sabre_vs_topmri_only = sabre_vs_topmri_only.drop('SITE', axis=1)\n",
    "topmri_vs_sabre_only  = topmri_vs_sabre_only .drop('SITE', axis=1)\n",
    "#topmri_vs_sabre_only.columns"
   ]
  },
  {
   "cell_type": "code",
   "execution_count": null,
   "id": "ee408ef3-edad-4b1d-9dcc-4072bb6b1960",
   "metadata": {},
   "outputs": [],
   "source": [
    "#sabre_vs_topmri_only"
   ]
  },
  {
   "cell_type": "code",
   "execution_count": null,
   "id": "057c54f5-e3d0-4833-a879-72dfc1cdba6f",
   "metadata": {},
   "outputs": [],
   "source": [
    "sabre_vs_topmri_only.to_csv('harm_results/neurocharm/sabre_vs_topmri_only.csv') \n",
    "topmri_vs_sabre_only.to_csv('harm_results/neurocharm/topmri_vs_sabre_only.csv') "
   ]
  },
  {
   "cell_type": "code",
   "execution_count": null,
   "id": "c2df55ec-3a49-43f3-97d0-0fbee97ae209",
   "metadata": {
    "tags": []
   },
   "outputs": [],
   "source": [
    "#"
   ]
  },
  {
   "cell_type": "code",
   "execution_count": null,
   "id": "7f6a9a4d-4764-4c4e-88ed-29c30859bf4b",
   "metadata": {},
   "outputs": [],
   "source": [
    "Insight46['Site'] = 3\n",
    "Insight46.head(2) "
   ]
  },
  {
   "cell_type": "code",
   "execution_count": null,
   "id": "8d87ee84-93c0-45ab-af13-de52b20f1f01",
   "metadata": {},
   "outputs": [],
   "source": [
    "Insight46.columns = Insight46.columns.str.lower()"
   ]
  },
  {
   "cell_type": "code",
   "execution_count": null,
   "id": "792eb16d-8c02-4d06-a154-cf1631bf9f4b",
   "metadata": {},
   "outputs": [],
   "source": [
    "TOPMRIvsInsight46= pd.concat([unified_TOPMRI, Insight46])\n",
    "TOPMRIvsInsight46 = TOPMRIvsInsight46.reset_index()"
   ]
  },
  {
   "cell_type": "code",
   "execution_count": null,
   "id": "6d529fad-0615-4f8a-af5d-0592926bcaed",
   "metadata": {},
   "outputs": [],
   "source": [
    "TOPMRIvsInsight_covariates = TOPMRIvsInsight46[['age', 'sex','site']]\n",
    "TOPMRIvsInsight_covariates = TOPMRIvsInsight_covariates .rename(columns={'site': 'SITE'})\n",
    "TOPMRIvsInsight_covariates.head(3)"
   ]
  },
  {
   "cell_type": "code",
   "execution_count": null,
   "id": "5cbe2bcd-b891-47ff-b6c8-3ed30d50a0c3",
   "metadata": {},
   "outputs": [],
   "source": [
    " TOPMRIvsInsight_features = TOPMRIvsInsight46[common_features]\n",
    "TOPMRIvsInsight_features_array = np.array(TOPMRIvsInsight_features)"
   ]
  },
  {
   "cell_type": "code",
   "execution_count": null,
   "id": "c137bb28-481e-457b-88be-7d238ccff30e",
   "metadata": {},
   "outputs": [],
   "source": [
    "my_model3, my_data_adj3 = harmonizationLearn(TOPMRIvsInsight_features_array, TOPMRIvsInsight_covariates)"
   ]
  },
  {
   "cell_type": "code",
   "execution_count": null,
   "id": "5f86de32-d9e6-4dcb-b18f-cd94ba32ab4d",
   "metadata": {},
   "outputs": [],
   "source": [
    "my_data_adj3"
   ]
  },
  {
   "cell_type": "code",
   "execution_count": null,
   "id": "3e1917de-4fb8-4ced-bf19-496863c74aab",
   "metadata": {},
   "outputs": [],
   "source": [
    "# turn adjusted data into dataframe with column names, then add covariates, then participant IDs\n",
    "neuroharmonized_topmrivinsight = pd.DataFrame(\n",
    "    my_data_adj3, \n",
    "    columns = common_features\n",
    ")\n",
    "neuroharmonized_topmrivinsight = pd.concat([neuroharmonized_topmrivinsight, TOPMRIvsInsight_covariates.reset_index()], axis=1)\n",
    "neuroharmonized_topmrivinsight = neuroharmonized_topmrivinsight.drop('index', axis=1)\n",
    "neuroharmonized_topmrivinsight = pd.concat([neuroharmonized_topmrivinsight, TOPMRIvsInsight46.participant_id.reset_index()], axis=1)\n",
    "neuroharmonized_topmrivinsight = neuroharmonized_topmrivinsight.drop('index', axis=1)\n",
    "neuroharmonized_topmrivinsight.head(3)"
   ]
  },
  {
   "cell_type": "code",
   "execution_count": null,
   "id": "a9ca3cda-f8b5-4a81-81cf-9faa8f3460ef",
   "metadata": {
    "tags": []
   },
   "outputs": [],
   "source": [
    "#neuroharmonized_topmrivinsight"
   ]
  },
  {
   "cell_type": "code",
   "execution_count": null,
   "id": "c1870a1a-f49e-434f-bf62-0542e0e4f0b7",
   "metadata": {},
   "outputs": [],
   "source": [
    "# reorganize to familair pattern\n",
    "column_to_move1 = neuroharmonized_topmrivinsight.pop(\"participant_id\")\n",
    "column_to_move2 = neuroharmonized_topmrivinsight.pop(\"age\")\n",
    "column_to_move3 = neuroharmonized_topmrivinsight.pop(\"sex\")\n",
    "neuroharmonized_topmrivinsight.insert(0, \"participant_id\", column_to_move1)\n",
    "neuroharmonized_topmrivinsight.insert(1, \"age\", column_to_move2)\n",
    "neuroharmonized_topmrivinsight.insert(2, \"sex\", column_to_move3)"
   ]
  },
  {
   "cell_type": "code",
   "execution_count": null,
   "id": "1e75554a-4108-481c-ac85-882be23af348",
   "metadata": {},
   "outputs": [],
   "source": [
    "# create adjusted csvs\n",
    "insight_vs_topmri_only = neuroharmonized_topmrivinsight[neuroharmonized_topmrivinsight.SITE == 3]\n",
    "topmri_vs_insight_only = neuroharmonized_topmrivinsight[neuroharmonized_topmrivinsight.SITE == 0] "
   ]
  },
  {
   "cell_type": "code",
   "execution_count": null,
   "id": "e22bab6f-04f9-4220-bd31-6002a8b02c4e",
   "metadata": {},
   "outputs": [],
   "source": [
    "insight_vs_topmri_only  = insight_vs_topmri_only.drop('SITE', axis=1)\n",
    "topmri_vs_insight_only  = topmri_vs_insight_only.drop('SITE', axis=1)\n"
   ]
  },
  {
   "cell_type": "code",
   "execution_count": null,
   "id": "e2731a7b-7529-4224-a20c-97f40f63e8fd",
   "metadata": {
    "tags": []
   },
   "outputs": [],
   "source": [
    "\n",
    "#insight_vs_topmri_only"
   ]
  },
  {
   "cell_type": "code",
   "execution_count": null,
   "id": "2db39b00-b917-4b3b-8645-ab8b3cbce064",
   "metadata": {},
   "outputs": [],
   "source": [
    "insight_vs_topmri_only.to_csv('harm_results/neurocharm/insight_vs_topmri_only.csv') \n",
    "topmri_vs_insight_only.to_csv('harm_results/neurocharm/topmri_vs_insight_only.csv') "
   ]
  },
  {
   "cell_type": "code",
   "execution_count": null,
   "id": "877b9483-598c-4f0f-8ad8-be4c45cf95a0",
   "metadata": {},
   "outputs": [],
   "source": [
    "EDIS['Site'] = 4\n",
    "EDIS.head(2) "
   ]
  },
  {
   "cell_type": "code",
   "execution_count": null,
   "id": "915e9853-ac51-45bf-926e-ad5c7357f1f8",
   "metadata": {},
   "outputs": [],
   "source": [
    "EDIS.columns = EDIS.columns.str.lower()"
   ]
  },
  {
   "cell_type": "code",
   "execution_count": null,
   "id": "d3f683e1-b30e-4f81-9e52-fbe1ee8a7869",
   "metadata": {},
   "outputs": [],
   "source": [
    "TOPMRIvsEDIS = pd.concat([unified_TOPMRI, EDIS])\n",
    "TOPMRIvsEDIS = TOPMRIvsEDIS.reset_index()"
   ]
  },
  {
   "cell_type": "code",
   "execution_count": null,
   "id": "a3eaee7c-79ff-42be-ad8c-3ebe369910d1",
   "metadata": {},
   "outputs": [],
   "source": [
    "TOPMRIvsEDIS_covariates = TOPMRIvsEDIS[['age', 'sex','site']]\n",
    "TOPMRIvsEDIS_covariates = TOPMRIvsEDIS_covariates .rename(columns={'site': 'SITE'})\n",
    "TOPMRIvsEDIS_covariates.head(3)"
   ]
  },
  {
   "cell_type": "code",
   "execution_count": null,
   "id": "1638150a-d1d8-47bb-895a-cf9d478cefe1",
   "metadata": {},
   "outputs": [],
   "source": [
    "TOPMRIvsEDIS_features = TOPMRIvsEDIS[common_features]\n",
    "TOPMRIvsEDIS_features_array = np.array(TOPMRIvsEDIS_features)"
   ]
  },
  {
   "cell_type": "code",
   "execution_count": null,
   "id": "c40e1b53-2829-475d-98cf-0096fae0000c",
   "metadata": {},
   "outputs": [],
   "source": [
    "my_model4, my_data_adj4 = harmonizationLearn(TOPMRIvsEDIS_features_array, TOPMRIvsEDIS_covariates)"
   ]
  },
  {
   "cell_type": "code",
   "execution_count": null,
   "id": "6e1f5e7b-cfa6-4fe7-90ce-bc5d1283e702",
   "metadata": {},
   "outputs": [],
   "source": [
    "my_data_adj4"
   ]
  },
  {
   "cell_type": "code",
   "execution_count": null,
   "id": "a32bfd70-e620-46d8-8c87-d86ab3109dd5",
   "metadata": {},
   "outputs": [],
   "source": [
    "# turn adjusted data into dataframe with column names, then add covariates, then participant IDs\n",
    "neuroharmonized_topmrivedis = pd.DataFrame(\n",
    "    my_data_adj4, \n",
    "    columns = common_features\n",
    ")\n",
    "neuroharmonized_topmrivedis = pd.concat([neuroharmonized_topmrivedis, TOPMRIvsEDIS_covariates.reset_index()], axis=1)\n",
    "neuroharmonized_topmrivedis = neuroharmonized_topmrivedis.drop('index', axis=1)\n",
    "neuroharmonized_topmrivedis = pd.concat([neuroharmonized_topmrivedis, TOPMRIvsEDIS.participant_id.reset_index()], axis=1)\n",
    "neuroharmonized_topmrivedis = neuroharmonized_topmrivedis.drop('index', axis=1)\n",
    "neuroharmonized_topmrivedis.head(3)"
   ]
  },
  {
   "cell_type": "code",
   "execution_count": null,
   "id": "cfaa75a2-a94b-4d7f-8944-32d3d839c93a",
   "metadata": {},
   "outputs": [],
   "source": []
  },
  {
   "cell_type": "code",
   "execution_count": null,
   "id": "b2c486e1-a090-47b9-8111-e3966cc5855f",
   "metadata": {},
   "outputs": [],
   "source": [
    "# reorganize to familair pattern\n",
    "column_to_move1 = neuroharmonized_topmrivedis.pop(\"participant_id\")\n",
    "column_to_move2 = neuroharmonized_topmrivedis.pop(\"age\")\n",
    "column_to_move3 = neuroharmonized_topmrivedis.pop(\"sex\")\n",
    "neuroharmonized_topmrivedis.insert(0, \"participant_id\", column_to_move1)\n",
    "neuroharmonized_topmrivedis.insert(1, \"age\", column_to_move2)\n",
    "neuroharmonized_topmrivedis.insert(2, \"sex\", column_to_move3)"
   ]
  },
  {
   "cell_type": "code",
   "execution_count": null,
   "id": "e9e825a5-f1bc-4846-aaf9-4c62d65c21d2",
   "metadata": {},
   "outputs": [],
   "source": [
    "# create adjusted csvs\n",
    "edis_vs_topmri_only = neuroharmonized_topmrivedis[neuroharmonized_topmrivedis.SITE == 4]\n",
    "topmri_vs_edis_only = neuroharmonized_topmrivedis[neuroharmonized_topmrivedis.SITE == 0] "
   ]
  },
  {
   "cell_type": "code",
   "execution_count": null,
   "id": "bea2fc60-c0fa-441a-934b-bac2b9a57aea",
   "metadata": {},
   "outputs": [],
   "source": [
    "edis_vs_topmri_only  = edis_vs_topmri_only.drop('SITE', axis=1)\n",
    "topmri_vs_edis_only  = topmri_vs_edis_only.drop('SITE', axis=1)\n"
   ]
  },
  {
   "cell_type": "code",
   "execution_count": null,
   "id": "c520bc08-8d4b-4983-8d11-7c655a0baa5c",
   "metadata": {
    "tags": []
   },
   "outputs": [],
   "source": [
    "#edis_vs_topmri_only"
   ]
  },
  {
   "cell_type": "code",
   "execution_count": null,
   "id": "08ccd687-baca-417f-bb81-75fa69d6ad27",
   "metadata": {},
   "outputs": [],
   "source": [
    "edis_vs_topmri_only.to_csv('harm_results/neurocharm/edis_vs_topmri_only.csv') \n",
    "topmri_vs_edis_only.to_csv('harm_results/neurocharm/topmri_vs_edis_only.csv') "
   ]
  },
  {
   "cell_type": "code",
   "execution_count": null,
   "id": "15f1b1df-ab09-4e3c-96ac-4b541dc2bb29",
   "metadata": {},
   "outputs": [],
   "source": []
  },
  {
   "cell_type": "code",
   "execution_count": null,
   "id": "3b0b4e27-501e-40f6-a1d2-6c73b34b4b25",
   "metadata": {},
   "outputs": [],
   "source": [
    "HELIUS['Site'] = 5\n",
    "HELIUS.head(2) "
   ]
  },
  {
   "cell_type": "code",
   "execution_count": null,
   "id": "3ed21d78-ad3e-43a9-91ea-3295ae9e132b",
   "metadata": {},
   "outputs": [],
   "source": [
    "HELIUS.columns = HELIUS.columns.str.lower()"
   ]
  },
  {
   "cell_type": "code",
   "execution_count": null,
   "id": "a8496451-e17a-46f6-8898-605321fce0e1",
   "metadata": {},
   "outputs": [],
   "source": [
    "TOPMRIvsHELIUS = pd.concat([unified_TOPMRI, HELIUS])\n",
    "TOPMRIvsHELIUS = TOPMRIvsHELIUS.reset_index()"
   ]
  },
  {
   "cell_type": "code",
   "execution_count": null,
   "id": "8fbd8d2e-4c67-4753-9f9d-f990ae719986",
   "metadata": {},
   "outputs": [],
   "source": [
    "TOPMRIvsHELIUS_covariates = TOPMRIvsHELIUS[['age', 'sex','site']]\n",
    "TOPMRIvsHELIUS_covariates = TOPMRIvsHELIUS_covariates .rename(columns={'site': 'SITE'})\n",
    "TOPMRIvsHELIUS_covariates.head(3)"
   ]
  },
  {
   "cell_type": "code",
   "execution_count": null,
   "id": "9b3afe8f-0e96-46c1-849e-f9b2908383f4",
   "metadata": {},
   "outputs": [],
   "source": [
    "TOPMRIvsHELIUS_features = TOPMRIvsHELIUS[common_features]\n",
    "TOPMRIvsHELIUS_features_array = np.array(TOPMRIvsHELIUS_features)"
   ]
  },
  {
   "cell_type": "code",
   "execution_count": null,
   "id": "a49fd6b9-2884-4f15-8852-37503594f281",
   "metadata": {},
   "outputs": [],
   "source": [
    "my_model5, my_data_adj5 = harmonizationLearn(TOPMRIvsHELIUS_features_array, TOPMRIvsHELIUS_covariates)"
   ]
  },
  {
   "cell_type": "code",
   "execution_count": null,
   "id": "dee815bc-29ac-417a-9056-af06ac72fb97",
   "metadata": {},
   "outputs": [],
   "source": [
    "my_data_adj5"
   ]
  },
  {
   "cell_type": "code",
   "execution_count": null,
   "id": "55e696df-1a0d-4f97-ae20-e91fbdf44424",
   "metadata": {},
   "outputs": [],
   "source": [
    "# turn adjusted data into dataframe with column names, then add covariates, then participant IDs\n",
    "neuroharmonized_topmrivhelius = pd.DataFrame(\n",
    "    my_data_adj5, \n",
    "    columns = common_features\n",
    ")\n",
    "neuroharmonized_topmrivhelius = pd.concat([neuroharmonized_topmrivhelius, TOPMRIvsHELIUS_covariates.reset_index()], axis=1)\n",
    "neuroharmonized_topmrivhelius = neuroharmonized_topmrivhelius.drop('index', axis=1)\n",
    "neuroharmonized_topmrivhelius = pd.concat([neuroharmonized_topmrivhelius, TOPMRIvsHELIUS.participant_id.reset_index()], axis=1)\n",
    "neuroharmonized_topmrivhelius = neuroharmonized_topmrivhelius.drop('index', axis=1)\n",
    "neuroharmonized_topmrivhelius.head(3)"
   ]
  },
  {
   "cell_type": "code",
   "execution_count": null,
   "id": "9aeb2bad-b832-4121-bd32-a58a172b1e4d",
   "metadata": {},
   "outputs": [],
   "source": [
    "# reorganize to familair pattern\n",
    "column_to_move1 = neuroharmonized_topmrivhelius.pop(\"participant_id\")\n",
    "column_to_move2 = neuroharmonized_topmrivhelius.pop(\"age\")\n",
    "column_to_move3 = neuroharmonized_topmrivhelius.pop(\"sex\")\n",
    "neuroharmonized_topmrivhelius.insert(0, \"participant_id\", column_to_move1)\n",
    "neuroharmonized_topmrivhelius.insert(1, \"age\", column_to_move2)\n",
    "neuroharmonized_topmrivhelius.insert(2, \"sex\", column_to_move3)"
   ]
  },
  {
   "cell_type": "code",
   "execution_count": null,
   "id": "b5ac7ef7-314c-4724-a4c4-fea5874898f9",
   "metadata": {
    "tags": []
   },
   "outputs": [],
   "source": [
    "neuroharmonized_topmrivhelius"
   ]
  },
  {
   "cell_type": "code",
   "execution_count": null,
   "id": "cd4fd42e-43c5-433c-b0d0-66d7a580d69f",
   "metadata": {},
   "outputs": [],
   "source": [
    "# create adjusted csvs\n",
    "helius_vs_topmri_only = neuroharmonized_topmrivhelius[neuroharmonized_topmrivhelius.SITE == 5]\n",
    "topmri_vs_helius_only = neuroharmonized_topmrivhelius[neuroharmonized_topmrivhelius.SITE == 0] "
   ]
  },
  {
   "cell_type": "code",
   "execution_count": null,
   "id": "6c31fd48-8e02-4a76-9358-bc5f903753a0",
   "metadata": {},
   "outputs": [],
   "source": [
    "helius_vs_topmri_only  = helius_vs_topmri_only.drop('SITE', axis=1)\n",
    "topmri_vs_helius_only  = topmri_vs_helius_only.drop('SITE', axis=1)\n"
   ]
  },
  {
   "cell_type": "code",
   "execution_count": null,
   "id": "536aed6a-244f-424b-baf0-edb94bae5fd1",
   "metadata": {
    "tags": []
   },
   "outputs": [],
   "source": [
    "helius_vs_topmri_only"
   ]
  },
  {
   "cell_type": "code",
   "execution_count": null,
   "id": "cf0cc13c-4f9c-4eba-bb93-2d70177a86ca",
   "metadata": {},
   "outputs": [],
   "source": [
    "helius_vs_topmri_only.to_csv('harm_results/neurocharm/helius_vs_topmri_only.csv') \n",
    "topmri_vs_helius_only.to_csv('harm_results/neurocharm/topmri_vs_helius_only.csv') "
   ]
  },
  {
   "cell_type": "markdown",
   "id": "f133e172-8d2e-40a0-be25-fd93457a6b17",
   "metadata": {},
   "source": [
    "# Now we will do five way harmonization- TOPMRI vs. SAbre vs. Insigh46 vs. EDIS vs. others"
   ]
  },
  {
   "cell_type": "code",
   "execution_count": null,
   "id": "f7d4a4e9-6769-4358-82d7-95b80ceaf6cf",
   "metadata": {},
   "outputs": [],
   "source": [
    "#this is all pending from here forward, we await the permissions on the other dataset"
   ]
  },
  {
   "cell_type": "code",
   "execution_count": null,
   "id": "f2b2659c-7d68-4d4c-839f-b455762a66c3",
   "metadata": {},
   "outputs": [],
   "source": [
    "TOPMRIvsSABRvsInisghvsEDISvsHELIUS = pd.concat([unified_TOPMRI, SABRE, Insight46, EDIS, HELIUS])\n",
    "TOPMRIvsSABRvsInisghvsEDISvsHELIUS = TOPMRIvsSABRvsInisghvsEDISvsHELIUS.reset_index()"
   ]
  },
  {
   "cell_type": "code",
   "execution_count": null,
   "id": "cb4e0373-c448-4247-90e9-99c3e4c408f6",
   "metadata": {},
   "outputs": [],
   "source": [
    "TOPMRIvsSABRvsInisghvsEDISvsHELIUS_covariates = TOPMRIvsSABRvsInisghvsEDISvsHELIUS[['age', 'sex','site']]\n",
    "TOPMRIvsSABRvsInisghvsEDISvsHELIUS_covariates = TOPMRIvsSABRvsInisghvsEDISvsHELIUS_covariates.rename(columns={'site': 'SITE'})\n",
    "TOPMRIvsSABRvsInisghvsEDISvsHELIUS_covariates.head(3)"
   ]
  },
  {
   "cell_type": "code",
   "execution_count": null,
   "id": "361a75eb-9385-489e-a0f1-eaa5e2ca6815",
   "metadata": {},
   "outputs": [],
   "source": [
    "TOPMRIvsSABRvsInisghvsEDISvsHELIUS.columns"
   ]
  },
  {
   "cell_type": "code",
   "execution_count": null,
   "id": "24a2408a-a610-4405-b95e-43e21fb27524",
   "metadata": {},
   "outputs": [],
   "source": [
    "TOPMRIvsSABRvsInisghvsEDISvsHELIUS_features = TOPMRIvsSABRvsInisghvsEDISvsHELIUS[[ \n",
    "     'gm_vol',\n",
    "       'wm_vol', 'csf_vol', 'gm_icvratio', 'gmwm_icvratio', 'wmhvol_wmvol',\n",
    "       'wmh_count', 'deepwm_b_cov', 'aca_b_cov', 'mca_b_cov', 'pca_b_cov',\n",
    "       'totalgm_b_cov', 'deepwm_b_cbf', 'aca_b_cbf', 'mca_b_cbf', 'pca_b_cbf',\n",
    "       'totalgm_b_cbf'\n",
    "]]\n",
    "TOPMRIvsSABRvsInisghvsEDISvsHELIUS_features_array = np.array(TOPMRIvsSABRvsInisghvsEDISvsHELIUS_features)"
   ]
  },
  {
   "cell_type": "code",
   "execution_count": null,
   "id": "af032a97-a583-446d-9b0c-3d376637a2c0",
   "metadata": {},
   "outputs": [],
   "source": [
    "my_modelA, my_data_adjA = harmonizationLearn(TOPMRIvsSABRvsInisghvsEDISvsHELIUS_features_array, TOPMRIvsSABRvsInisghvsEDISvsHELIUS_covariates)"
   ]
  },
  {
   "cell_type": "code",
   "execution_count": null,
   "id": "d0d9e69a-3728-4415-8b5e-4661a11b8b55",
   "metadata": {},
   "outputs": [],
   "source": [
    "my_data_adjA"
   ]
  },
  {
   "cell_type": "code",
   "execution_count": null,
   "id": "9f644770-cc6c-4d15-982d-d9e97ae087c8",
   "metadata": {},
   "outputs": [],
   "source": [
    "# turn adjusted data into dataframe with column names, then add covariates, then participant IDs\n",
    "neuroharmonized_A= pd.DataFrame(\n",
    "    my_data_adjA, \n",
    "    columns = ['gm_vol',\n",
    "       'wm_vol', 'csf_vol', 'gm_icvratio', 'gmwm_icvratio', 'wmhvol_wmvol',\n",
    "       'wmh_count', 'deepwm_b_cov', 'aca_b_cov', 'mca_b_cov', 'pca_b_cov',\n",
    "       'totalgm_b_cov', 'deepwm_b_cbf', 'aca_b_cbf', 'mca_b_cbf', 'pca_b_cbf',\n",
    "       'totalgm_b_cbf']\n",
    ")\n",
    "neuroharmonized_A =pd.concat([neuroharmonized_A, TOPMRIvsSABRvsInisghvsEDISvsHELIUS_covariates .reset_index()], axis=1)\n",
    "neuroharmonized_A = neuroharmonized_A.drop('index', axis=1)\n",
    "neuroharmonized_A = pd.concat([neuroharmonized_A, TOPMRIvsSABRvsInisghvsEDISvsHELIUS.participant_id.reset_index()], axis=1)\n",
    "neuroharmonized_A = neuroharmonized_A.drop('index', axis=1)\n",
    "neuroharmonized_A.head(3)"
   ]
  },
  {
   "cell_type": "code",
   "execution_count": null,
   "id": "02c6e2b9-fcd4-42ad-ab13-e3c4420f4d38",
   "metadata": {},
   "outputs": [],
   "source": [
    "# reorganize to familair pattern\n",
    "column_to_move1 = neuroharmonized_A.pop(\"participant_id\")\n",
    "column_to_move2 = neuroharmonized_A.pop(\"age\")\n",
    "column_to_move3 = neuroharmonized_A.pop(\"sex\")\n",
    "neuroharmonized_A.insert(0, \"participant_id\", column_to_move1)\n",
    "neuroharmonized_A.insert(1, \"age\", column_to_move2)\n",
    "neuroharmonized_A.insert(2, \"sex\", column_to_move3)"
   ]
  },
  {
   "cell_type": "code",
   "execution_count": null,
   "id": "31b3a188-354a-4476-bacb-34ca41064f27",
   "metadata": {},
   "outputs": [],
   "source": [
    "# create adjusted csvs\n",
    "insight_vs_topmri_5way= neuroharmonized_A[neuroharmonized_A.SITE == 3]\n",
    "sabre_vs_topmri_5way = neuroharmonized_A[neuroharmonized_A.SITE == 2]\n",
    "topmri_vs_sabre_5way = neuroharmonized_A[neuroharmonized_A.SITE == 0] \n",
    "edis_vs_topmri_5way= neuroharmonized_A[neuroharmonized_A.SITE == 4]\n",
    "helius_vs_topmri_5way = neuroharmonized_A[neuroharmonized_A.SITE == 5]"
   ]
  },
  {
   "cell_type": "code",
   "execution_count": null,
   "id": "213f2569-6de5-4c35-9ba9-2aeb5c848336",
   "metadata": {},
   "outputs": [],
   "source": [
    "insight_vs_topmri_5way = insight_vs_topmri_5way.drop('SITE', axis=1)\n",
    "sabre_vs_topmri_5way = sabre_vs_topmri_5way.drop('SITE', axis=1) \n",
    "topmri_vs_sabre_5way = topmri_vs_sabre_5way.drop('SITE', axis=1)  \n",
    "\n",
    "edis_vs_topmri_5way = edis_vs_topmri_5way.drop('SITE', axis=1) \n",
    "helius_vs_topmri_5way = helius_vs_topmri_5way.drop('SITE', axis=1) "
   ]
  },
  {
   "cell_type": "code",
   "execution_count": null,
   "id": "92bf067a-737a-468c-a4c1-6009ea2b464f",
   "metadata": {},
   "outputs": [],
   "source": [
    "helius_vs_topmri_5way "
   ]
  },
  {
   "cell_type": "code",
   "execution_count": null,
   "id": "79baaf72-e5a1-43e8-b07a-a34e7e2e34c5",
   "metadata": {},
   "outputs": [],
   "source": [
    "insight_vs_topmri_5way.to_csv('harm_results/neurocharm/insight_vs_topmri_5way.csv')\n",
    "helius_vs_topmri_5way.to_csv('harm_results/neurocharm/helius_vs_topmri_5way.csv')\n",
    "sabre_vs_topmri_5way.to_csv('harm_results/neurocharm/sabre_vs_topmri_5way.csv')\n",
    "topmri_vs_sabre_5way.to_csv('harm_results/neurocharm/topmri_vs_sabre_5way.csv')\n",
    "edis_vs_topmri_5way.to_csv('harm_results/neurocharm/edis_vs_topmri_5way.csv')"
   ]
  },
  {
   "cell_type": "code",
   "execution_count": null,
   "id": "9ccc97fb-d0f4-435b-8ef1-9f1d6826c350",
   "metadata": {},
   "outputs": [],
   "source": []
  }
 ],
 "metadata": {
  "kernelspec": {
   "display_name": "Python 3 (ipykernel)",
   "language": "python",
   "name": "python3"
  },
  "language_info": {
   "codemirror_mode": {
    "name": "ipython",
    "version": 3
   },
   "file_extension": ".py",
   "mimetype": "text/x-python",
   "name": "python",
   "nbconvert_exporter": "python",
   "pygments_lexer": "ipython3",
   "version": "3.12.1"
  }
 },
 "nbformat": 4,
 "nbformat_minor": 5
}
