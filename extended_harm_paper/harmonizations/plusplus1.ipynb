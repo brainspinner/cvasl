{
 "cells": [
  {
   "cell_type": "code",
   "execution_count": 1,
   "id": "0aa7a6cd-2766-49f2-ad78-bd038f145fbd",
   "metadata": {},
   "outputs": [],
   "source": [
    "#sys.path.insert(0, '../../')\n",
    "source('../../cvasl/vendor/ComBat++/combatPP.R') #as pluscombat\n",
    "source(\"../../cvasl/vendor/ComBat++/utils.R\")"
   ]
  },
  {
   "cell_type": "code",
   "execution_count": 2,
   "id": "cb229252-ded2-43c6-ba79-a181ac064242",
   "metadata": {},
   "outputs": [],
   "source": [
    "library(matrixStats)"
   ]
  },
  {
   "cell_type": "code",
   "execution_count": 3,
   "id": "b3e6452a-2787-49c7-9844-eaf9a2c7002b",
   "metadata": {},
   "outputs": [
    {
     "data": {
      "text/html": [
       "<pre class=language-r><code>function (x, df1, df2, ncp, log = FALSE) \n",
       "{\n",
       "<span style=white-space:pre-wrap>    if (missing(ncp)) </span>\n",
       "<span style=white-space:pre-wrap>        .Call(C_df, x, df1, df2, log)</span>\n",
       "<span style=white-space:pre-wrap>    else .Call(C_dnf, x, df1, df2, ncp, log)</span>\n",
       "}</code></pre>"
      ],
      "text/latex": [
       "\\begin{minted}{r}\n",
       "function (x, df1, df2, ncp, log = FALSE) \n",
       "\\{\n",
       "    if (missing(ncp)) \n",
       "        .Call(C\\_df, x, df1, df2, log)\n",
       "    else .Call(C\\_dnf, x, df1, df2, ncp, log)\n",
       "\\}\n",
       "\\end{minted}"
      ],
      "text/markdown": [
       "```r\n",
       "function (x, df1, df2, ncp, log = FALSE) \n",
       "{\n",
       "    if (missing(ncp)) \n",
       "        .Call(C_df, x, df1, df2, log)\n",
       "    else .Call(C_dnf, x, df1, df2, ncp, log)\n",
       "}\n",
       "```"
      ],
      "text/plain": [
       "function (x, df1, df2, ncp, log = FALSE) \n",
       "{\n",
       "    if (missing(ncp)) \n",
       "        .Call(C_df, x, df1, df2, log)\n",
       "    else .Call(C_dnf, x, df1, df2, ncp, log)\n",
       "}\n",
       "<bytecode: 0x000000001dd736d0>\n",
       "<environment: namespace:stats>"
      ]
     },
     "metadata": {},
     "output_type": "display_data"
    },
    {
     "data": {
      "text/html": [
       "<table class=\"dataframe\">\n",
       "<caption>A data.frame: 4 × 22</caption>\n",
       "<thead>\n",
       "\t<tr><th></th><th scope=col>participant_id</th><th scope=col>ID</th><th scope=col>Age</th><th scope=col>Sex</th><th scope=col>Site</th><th scope=col>GM_vol</th><th scope=col>WM_vol</th><th scope=col>CSF_vol</th><th scope=col>GM_ICVRatio</th><th scope=col>GMWM_ICVRatio</th><th scope=col>...</th><th scope=col>DeepWM_B_CoV</th><th scope=col>ACA_B_CoV</th><th scope=col>MCA_B_CoV</th><th scope=col>PCA_B_CoV</th><th scope=col>TotalGM_B_CoV</th><th scope=col>DeepWM_B_CBF</th><th scope=col>ACA_B_CBF</th><th scope=col>MCA_B_CBF</th><th scope=col>PCA_B_CBF</th><th scope=col>TotalGM_B_CBF</th></tr>\n",
       "\t<tr><th></th><th scope=col>&lt;chr&gt;</th><th scope=col>&lt;int&gt;</th><th scope=col>&lt;dbl&gt;</th><th scope=col>&lt;int&gt;</th><th scope=col>&lt;dbl&gt;</th><th scope=col>&lt;dbl&gt;</th><th scope=col>&lt;dbl&gt;</th><th scope=col>&lt;dbl&gt;</th><th scope=col>&lt;dbl&gt;</th><th scope=col>&lt;dbl&gt;</th><th scope=col>...</th><th scope=col>&lt;dbl&gt;</th><th scope=col>&lt;dbl&gt;</th><th scope=col>&lt;dbl&gt;</th><th scope=col>&lt;dbl&gt;</th><th scope=col>&lt;dbl&gt;</th><th scope=col>&lt;dbl&gt;</th><th scope=col>&lt;dbl&gt;</th><th scope=col>&lt;dbl&gt;</th><th scope=col>&lt;dbl&gt;</th><th scope=col>&lt;dbl&gt;</th></tr>\n",
       "</thead>\n",
       "<tbody>\n",
       "\t<tr><th scope=row>1</th><td>sub-0668_1</td><td>287</td><td>50.40</td><td>1</td><td>0</td><td>0.64252</td><td>0.48470</td><td>0.26711</td><td>0.46081</td><td>0.80843</td><td>...</td><td>0.26694</td><td>0.17747</td><td>0.20996</td><td>0.24951</td><td>0.24191</td><td>24.9902</td><td> 90.5294</td><td>80.9975</td><td>57.9326</td><td>72.1759</td></tr>\n",
       "\t<tr><th scope=row>2</th><td>sub-0532_1</td><td>222</td><td>37.02</td><td>1</td><td>0</td><td>0.71890</td><td>0.59546</td><td>0.31236</td><td>0.44193</td><td>0.80798</td><td>...</td><td>0.25342</td><td>0.17620</td><td>0.23222</td><td>0.21187</td><td>0.23518</td><td>24.2061</td><td>101.2955</td><td>90.3336</td><td>67.8547</td><td>80.1958</td></tr>\n",
       "\t<tr><th scope=row>3</th><td>sub-0529_1</td><td>220</td><td>30.57</td><td>1</td><td>0</td><td>0.66610</td><td>0.45798</td><td>0.28326</td><td>0.47330</td><td>0.79873</td><td>...</td><td>0.27421</td><td>0.19233</td><td>0.20855</td><td>0.19810</td><td>0.21863</td><td>26.5891</td><td>108.6481</td><td>99.6353</td><td>72.4565</td><td>87.2374</td></tr>\n",
       "\t<tr><th scope=row>4</th><td>sub-0393_1</td><td>168</td><td>47.05</td><td>1</td><td>0</td><td>0.65366</td><td>0.50449</td><td>0.22497</td><td>0.47260</td><td>0.83735</td><td>...</td><td>0.25614</td><td>0.18299</td><td>0.22545</td><td>0.20645</td><td>0.24245</td><td>27.4124</td><td> 92.8599</td><td>81.2144</td><td>61.5686</td><td>73.7697</td></tr>\n",
       "</tbody>\n",
       "</table>\n"
      ],
      "text/latex": [
       "A data.frame: 4 × 22\n",
       "\\begin{tabular}{r|lllllllllllllllllllll}\n",
       "  & participant\\_id & ID & Age & Sex & Site & GM\\_vol & WM\\_vol & CSF\\_vol & GM\\_ICVRatio & GMWM\\_ICVRatio & ... & DeepWM\\_B\\_CoV & ACA\\_B\\_CoV & MCA\\_B\\_CoV & PCA\\_B\\_CoV & TotalGM\\_B\\_CoV & DeepWM\\_B\\_CBF & ACA\\_B\\_CBF & MCA\\_B\\_CBF & PCA\\_B\\_CBF & TotalGM\\_B\\_CBF\\\\\n",
       "  & <chr> & <int> & <dbl> & <int> & <dbl> & <dbl> & <dbl> & <dbl> & <dbl> & <dbl> & ... & <dbl> & <dbl> & <dbl> & <dbl> & <dbl> & <dbl> & <dbl> & <dbl> & <dbl> & <dbl>\\\\\n",
       "\\hline\n",
       "\t1 & sub-0668\\_1 & 287 & 50.40 & 1 & 0 & 0.64252 & 0.48470 & 0.26711 & 0.46081 & 0.80843 & ... & 0.26694 & 0.17747 & 0.20996 & 0.24951 & 0.24191 & 24.9902 &  90.5294 & 80.9975 & 57.9326 & 72.1759\\\\\n",
       "\t2 & sub-0532\\_1 & 222 & 37.02 & 1 & 0 & 0.71890 & 0.59546 & 0.31236 & 0.44193 & 0.80798 & ... & 0.25342 & 0.17620 & 0.23222 & 0.21187 & 0.23518 & 24.2061 & 101.2955 & 90.3336 & 67.8547 & 80.1958\\\\\n",
       "\t3 & sub-0529\\_1 & 220 & 30.57 & 1 & 0 & 0.66610 & 0.45798 & 0.28326 & 0.47330 & 0.79873 & ... & 0.27421 & 0.19233 & 0.20855 & 0.19810 & 0.21863 & 26.5891 & 108.6481 & 99.6353 & 72.4565 & 87.2374\\\\\n",
       "\t4 & sub-0393\\_1 & 168 & 47.05 & 1 & 0 & 0.65366 & 0.50449 & 0.22497 & 0.47260 & 0.83735 & ... & 0.25614 & 0.18299 & 0.22545 & 0.20645 & 0.24245 & 27.4124 &  92.8599 & 81.2144 & 61.5686 & 73.7697\\\\\n",
       "\\end{tabular}\n"
      ],
      "text/markdown": [
       "\n",
       "A data.frame: 4 × 22\n",
       "\n",
       "| <!--/--> | participant_id &lt;chr&gt; | ID &lt;int&gt; | Age &lt;dbl&gt; | Sex &lt;int&gt; | Site &lt;dbl&gt; | GM_vol &lt;dbl&gt; | WM_vol &lt;dbl&gt; | CSF_vol &lt;dbl&gt; | GM_ICVRatio &lt;dbl&gt; | GMWM_ICVRatio &lt;dbl&gt; | ... ... | DeepWM_B_CoV &lt;dbl&gt; | ACA_B_CoV &lt;dbl&gt; | MCA_B_CoV &lt;dbl&gt; | PCA_B_CoV &lt;dbl&gt; | TotalGM_B_CoV &lt;dbl&gt; | DeepWM_B_CBF &lt;dbl&gt; | ACA_B_CBF &lt;dbl&gt; | MCA_B_CBF &lt;dbl&gt; | PCA_B_CBF &lt;dbl&gt; | TotalGM_B_CBF &lt;dbl&gt; |\n",
       "|---|---|---|---|---|---|---|---|---|---|---|---|---|---|---|---|---|---|---|---|---|---|\n",
       "| 1 | sub-0668_1 | 287 | 50.40 | 1 | 0 | 0.64252 | 0.48470 | 0.26711 | 0.46081 | 0.80843 | ... | 0.26694 | 0.17747 | 0.20996 | 0.24951 | 0.24191 | 24.9902 |  90.5294 | 80.9975 | 57.9326 | 72.1759 |\n",
       "| 2 | sub-0532_1 | 222 | 37.02 | 1 | 0 | 0.71890 | 0.59546 | 0.31236 | 0.44193 | 0.80798 | ... | 0.25342 | 0.17620 | 0.23222 | 0.21187 | 0.23518 | 24.2061 | 101.2955 | 90.3336 | 67.8547 | 80.1958 |\n",
       "| 3 | sub-0529_1 | 220 | 30.57 | 1 | 0 | 0.66610 | 0.45798 | 0.28326 | 0.47330 | 0.79873 | ... | 0.27421 | 0.19233 | 0.20855 | 0.19810 | 0.21863 | 26.5891 | 108.6481 | 99.6353 | 72.4565 | 87.2374 |\n",
       "| 4 | sub-0393_1 | 168 | 47.05 | 1 | 0 | 0.65366 | 0.50449 | 0.22497 | 0.47260 | 0.83735 | ... | 0.25614 | 0.18299 | 0.22545 | 0.20645 | 0.24245 | 27.4124 |  92.8599 | 81.2144 | 61.5686 | 73.7697 |\n",
       "\n"
      ],
      "text/plain": [
       "  participant_id ID  Age   Sex Site GM_vol  WM_vol  CSF_vol GM_ICVRatio\n",
       "1 sub-0668_1     287 50.40 1   0    0.64252 0.48470 0.26711 0.46081    \n",
       "2 sub-0532_1     222 37.02 1   0    0.71890 0.59546 0.31236 0.44193    \n",
       "3 sub-0529_1     220 30.57 1   0    0.66610 0.45798 0.28326 0.47330    \n",
       "4 sub-0393_1     168 47.05 1   0    0.65366 0.50449 0.22497 0.47260    \n",
       "  GMWM_ICVRatio ... DeepWM_B_CoV ACA_B_CoV MCA_B_CoV PCA_B_CoV TotalGM_B_CoV\n",
       "1 0.80843       ... 0.26694      0.17747   0.20996   0.24951   0.24191      \n",
       "2 0.80798       ... 0.25342      0.17620   0.23222   0.21187   0.23518      \n",
       "3 0.79873       ... 0.27421      0.19233   0.20855   0.19810   0.21863      \n",
       "4 0.83735       ... 0.25614      0.18299   0.22545   0.20645   0.24245      \n",
       "  DeepWM_B_CBF ACA_B_CBF MCA_B_CBF PCA_B_CBF TotalGM_B_CBF\n",
       "1 24.9902       90.5294  80.9975   57.9326   72.1759      \n",
       "2 24.2061      101.2955  90.3336   67.8547   80.1958      \n",
       "3 26.5891      108.6481  99.6353   72.4565   87.2374      \n",
       "4 27.4124       92.8599  81.2144   61.5686   73.7697      "
      ]
     },
     "metadata": {},
     "output_type": "display_data"
    }
   ],
   "source": [
    "TOP <- read.csv('../our_datasets/TOP/TrainingDataComplete.csv')\n",
    "# manipulate TOP site to zero\n",
    "# Define the conditions and replacement values\n",
    "conditions <- c(1)\n",
    "replacement_values <- c(0)\n",
    "# Use replace() \n",
    "TOP$Site <- replace(TOP$Site, TOP$Site %in% conditions, replacement_values)\n",
    " \n",
    "head(TOP, 4)"
   ]
  },
  {
   "cell_type": "code",
   "execution_count": 4,
   "id": "c885484b-2d9a-4dfd-9c6e-867fec7ba690",
   "metadata": {},
   "outputs": [
    {
     "data": {
      "text/html": [
       "<table class=\"dataframe\">\n",
       "<caption>A data.frame: 4 × 22</caption>\n",
       "<thead>\n",
       "\t<tr><th></th><th scope=col>participant_id</th><th scope=col>ID</th><th scope=col>Age</th><th scope=col>Sex</th><th scope=col>Site</th><th scope=col>GM_vol</th><th scope=col>WM_vol</th><th scope=col>CSF_vol</th><th scope=col>GM_ICVRatio</th><th scope=col>GMWM_ICVRatio</th><th scope=col>...</th><th scope=col>DeepWM_B_CoV</th><th scope=col>ACA_B_CoV</th><th scope=col>MCA_B_CoV</th><th scope=col>PCA_B_CoV</th><th scope=col>TotalGM_B_CoV</th><th scope=col>DeepWM_B_CBF</th><th scope=col>ACA_B_CBF</th><th scope=col>MCA_B_CBF</th><th scope=col>PCA_B_CBF</th><th scope=col>TotalGM_B_CBF</th></tr>\n",
       "\t<tr><th></th><th scope=col>&lt;chr&gt;</th><th scope=col>&lt;int&gt;</th><th scope=col>&lt;dbl&gt;</th><th scope=col>&lt;int&gt;</th><th scope=col>&lt;int&gt;</th><th scope=col>&lt;dbl&gt;</th><th scope=col>&lt;dbl&gt;</th><th scope=col>&lt;dbl&gt;</th><th scope=col>&lt;dbl&gt;</th><th scope=col>&lt;dbl&gt;</th><th scope=col>...</th><th scope=col>&lt;dbl&gt;</th><th scope=col>&lt;dbl&gt;</th><th scope=col>&lt;dbl&gt;</th><th scope=col>&lt;dbl&gt;</th><th scope=col>&lt;dbl&gt;</th><th scope=col>&lt;dbl&gt;</th><th scope=col>&lt;dbl&gt;</th><th scope=col>&lt;dbl&gt;</th><th scope=col>&lt;dbl&gt;</th><th scope=col>&lt;dbl&gt;</th></tr>\n",
       "</thead>\n",
       "<tbody>\n",
       "\t<tr><th scope=row>1</th><td>sub-5917601_1</td><td>160</td><td>70.71371</td><td>1</td><td>1</td><td>0.64526</td><td>0.44079</td><td>0.45182</td><td>0.41958</td><td>0.70620</td><td>...</td><td>0.31076</td><td>0.24649</td><td>0.19975</td><td>0.31453</td><td>0.26806</td><td>46.5507</td><td>87.7219</td><td>77.3645</td><td>61.7552</td><td>67.7197</td></tr>\n",
       "\t<tr><th scope=row>2</th><td>sub-5931802_1</td><td>395</td><td>47.58356</td><td>1</td><td>1</td><td>0.64172</td><td>0.49929</td><td>0.31811</td><td>0.43980</td><td>0.78199</td><td>...</td><td>0.23524</td><td>0.16798</td><td>0.19892</td><td>0.18919</td><td>0.20567</td><td>29.2374</td><td>92.8927</td><td>83.1294</td><td>68.1315</td><td>74.5787</td></tr>\n",
       "\t<tr><th scope=row>3</th><td>sub-5911901_1</td><td> 58</td><td>74.10411</td><td>1</td><td>1</td><td>0.56755</td><td>0.48915</td><td>0.45260</td><td>0.37604</td><td>0.70013</td><td>...</td><td>0.20449</td><td>0.18084</td><td>0.22435</td><td>0.27827</td><td>0.22334</td><td>30.9324</td><td>75.6066</td><td>63.4006</td><td>60.2426</td><td>60.9976</td></tr>\n",
       "\t<tr><th scope=row>4</th><td>sub-5910201_1</td><td> 30</td><td>68.84384</td><td>0</td><td>1</td><td>0.63760</td><td>0.49391</td><td>0.44339</td><td>0.40485</td><td>0.71846</td><td>...</td><td>0.27186</td><td>0.17948</td><td>0.21439</td><td>0.23005</td><td>0.22330</td><td>24.7733</td><td>72.2877</td><td>63.6202</td><td>49.5712</td><td>56.4924</td></tr>\n",
       "</tbody>\n",
       "</table>\n"
      ],
      "text/latex": [
       "A data.frame: 4 × 22\n",
       "\\begin{tabular}{r|lllllllllllllllllllll}\n",
       "  & participant\\_id & ID & Age & Sex & Site & GM\\_vol & WM\\_vol & CSF\\_vol & GM\\_ICVRatio & GMWM\\_ICVRatio & ... & DeepWM\\_B\\_CoV & ACA\\_B\\_CoV & MCA\\_B\\_CoV & PCA\\_B\\_CoV & TotalGM\\_B\\_CoV & DeepWM\\_B\\_CBF & ACA\\_B\\_CBF & MCA\\_B\\_CBF & PCA\\_B\\_CBF & TotalGM\\_B\\_CBF\\\\\n",
       "  & <chr> & <int> & <dbl> & <int> & <int> & <dbl> & <dbl> & <dbl> & <dbl> & <dbl> & ... & <dbl> & <dbl> & <dbl> & <dbl> & <dbl> & <dbl> & <dbl> & <dbl> & <dbl> & <dbl>\\\\\n",
       "\\hline\n",
       "\t1 & sub-5917601\\_1 & 160 & 70.71371 & 1 & 1 & 0.64526 & 0.44079 & 0.45182 & 0.41958 & 0.70620 & ... & 0.31076 & 0.24649 & 0.19975 & 0.31453 & 0.26806 & 46.5507 & 87.7219 & 77.3645 & 61.7552 & 67.7197\\\\\n",
       "\t2 & sub-5931802\\_1 & 395 & 47.58356 & 1 & 1 & 0.64172 & 0.49929 & 0.31811 & 0.43980 & 0.78199 & ... & 0.23524 & 0.16798 & 0.19892 & 0.18919 & 0.20567 & 29.2374 & 92.8927 & 83.1294 & 68.1315 & 74.5787\\\\\n",
       "\t3 & sub-5911901\\_1 &  58 & 74.10411 & 1 & 1 & 0.56755 & 0.48915 & 0.45260 & 0.37604 & 0.70013 & ... & 0.20449 & 0.18084 & 0.22435 & 0.27827 & 0.22334 & 30.9324 & 75.6066 & 63.4006 & 60.2426 & 60.9976\\\\\n",
       "\t4 & sub-5910201\\_1 &  30 & 68.84384 & 0 & 1 & 0.63760 & 0.49391 & 0.44339 & 0.40485 & 0.71846 & ... & 0.27186 & 0.17948 & 0.21439 & 0.23005 & 0.22330 & 24.7733 & 72.2877 & 63.6202 & 49.5712 & 56.4924\\\\\n",
       "\\end{tabular}\n"
      ],
      "text/markdown": [
       "\n",
       "A data.frame: 4 × 22\n",
       "\n",
       "| <!--/--> | participant_id &lt;chr&gt; | ID &lt;int&gt; | Age &lt;dbl&gt; | Sex &lt;int&gt; | Site &lt;int&gt; | GM_vol &lt;dbl&gt; | WM_vol &lt;dbl&gt; | CSF_vol &lt;dbl&gt; | GM_ICVRatio &lt;dbl&gt; | GMWM_ICVRatio &lt;dbl&gt; | ... ... | DeepWM_B_CoV &lt;dbl&gt; | ACA_B_CoV &lt;dbl&gt; | MCA_B_CoV &lt;dbl&gt; | PCA_B_CoV &lt;dbl&gt; | TotalGM_B_CoV &lt;dbl&gt; | DeepWM_B_CBF &lt;dbl&gt; | ACA_B_CBF &lt;dbl&gt; | MCA_B_CBF &lt;dbl&gt; | PCA_B_CBF &lt;dbl&gt; | TotalGM_B_CBF &lt;dbl&gt; |\n",
       "|---|---|---|---|---|---|---|---|---|---|---|---|---|---|---|---|---|---|---|---|---|---|\n",
       "| 1 | sub-5917601_1 | 160 | 70.71371 | 1 | 1 | 0.64526 | 0.44079 | 0.45182 | 0.41958 | 0.70620 | ... | 0.31076 | 0.24649 | 0.19975 | 0.31453 | 0.26806 | 46.5507 | 87.7219 | 77.3645 | 61.7552 | 67.7197 |\n",
       "| 2 | sub-5931802_1 | 395 | 47.58356 | 1 | 1 | 0.64172 | 0.49929 | 0.31811 | 0.43980 | 0.78199 | ... | 0.23524 | 0.16798 | 0.19892 | 0.18919 | 0.20567 | 29.2374 | 92.8927 | 83.1294 | 68.1315 | 74.5787 |\n",
       "| 3 | sub-5911901_1 |  58 | 74.10411 | 1 | 1 | 0.56755 | 0.48915 | 0.45260 | 0.37604 | 0.70013 | ... | 0.20449 | 0.18084 | 0.22435 | 0.27827 | 0.22334 | 30.9324 | 75.6066 | 63.4006 | 60.2426 | 60.9976 |\n",
       "| 4 | sub-5910201_1 |  30 | 68.84384 | 0 | 1 | 0.63760 | 0.49391 | 0.44339 | 0.40485 | 0.71846 | ... | 0.27186 | 0.17948 | 0.21439 | 0.23005 | 0.22330 | 24.7733 | 72.2877 | 63.6202 | 49.5712 | 56.4924 |\n",
       "\n"
      ],
      "text/plain": [
       "  participant_id ID  Age      Sex Site GM_vol  WM_vol  CSF_vol GM_ICVRatio\n",
       "1 sub-5917601_1  160 70.71371 1   1    0.64526 0.44079 0.45182 0.41958    \n",
       "2 sub-5931802_1  395 47.58356 1   1    0.64172 0.49929 0.31811 0.43980    \n",
       "3 sub-5911901_1   58 74.10411 1   1    0.56755 0.48915 0.45260 0.37604    \n",
       "4 sub-5910201_1   30 68.84384 0   1    0.63760 0.49391 0.44339 0.40485    \n",
       "  GMWM_ICVRatio ... DeepWM_B_CoV ACA_B_CoV MCA_B_CoV PCA_B_CoV TotalGM_B_CoV\n",
       "1 0.70620       ... 0.31076      0.24649   0.19975   0.31453   0.26806      \n",
       "2 0.78199       ... 0.23524      0.16798   0.19892   0.18919   0.20567      \n",
       "3 0.70013       ... 0.20449      0.18084   0.22435   0.27827   0.22334      \n",
       "4 0.71846       ... 0.27186      0.17948   0.21439   0.23005   0.22330      \n",
       "  DeepWM_B_CBF ACA_B_CBF MCA_B_CBF PCA_B_CBF TotalGM_B_CBF\n",
       "1 46.5507      87.7219   77.3645   61.7552   67.7197      \n",
       "2 29.2374      92.8927   83.1294   68.1315   74.5787      \n",
       "3 30.9324      75.6066   63.4006   60.2426   60.9976      \n",
       "4 24.7733      72.2877   63.6202   49.5712   56.4924      "
      ]
     },
     "metadata": {},
     "output_type": "display_data"
    }
   ],
   "source": [
    "MRI <- read.csv('../our_datasets/StrokeMRI/TrainingDataComplete.csv')\n",
    "head(MRI, 4)"
   ]
  },
  {
   "cell_type": "code",
   "execution_count": 5,
   "id": "529ba383-3f85-4493-ada7-e29615e98305",
   "metadata": {},
   "outputs": [
    {
     "data": {
      "text/html": [
       "<table class=\"dataframe\">\n",
       "<caption>A data.frame: 3 × 22</caption>\n",
       "<thead>\n",
       "\t<tr><th></th><th scope=col>participant_id</th><th scope=col>ID</th><th scope=col>Age</th><th scope=col>Sex</th><th scope=col>Site</th><th scope=col>GM_vol</th><th scope=col>WM_vol</th><th scope=col>CSF_vol</th><th scope=col>GM_ICVRatio</th><th scope=col>GMWM_ICVRatio</th><th scope=col>...</th><th scope=col>DeepWM_B_CoV</th><th scope=col>ACA_B_CoV</th><th scope=col>MCA_B_CoV</th><th scope=col>PCA_B_CoV</th><th scope=col>TotalGM_B_CoV</th><th scope=col>DeepWM_B_CBF</th><th scope=col>ACA_B_CBF</th><th scope=col>MCA_B_CBF</th><th scope=col>PCA_B_CBF</th><th scope=col>TotalGM_B_CBF</th></tr>\n",
       "\t<tr><th></th><th scope=col>&lt;chr&gt;</th><th scope=col>&lt;int&gt;</th><th scope=col>&lt;dbl&gt;</th><th scope=col>&lt;int&gt;</th><th scope=col>&lt;dbl&gt;</th><th scope=col>&lt;dbl&gt;</th><th scope=col>&lt;dbl&gt;</th><th scope=col>&lt;dbl&gt;</th><th scope=col>&lt;dbl&gt;</th><th scope=col>&lt;dbl&gt;</th><th scope=col>...</th><th scope=col>&lt;dbl&gt;</th><th scope=col>&lt;dbl&gt;</th><th scope=col>&lt;dbl&gt;</th><th scope=col>&lt;dbl&gt;</th><th scope=col>&lt;dbl&gt;</th><th scope=col>&lt;dbl&gt;</th><th scope=col>&lt;dbl&gt;</th><th scope=col>&lt;dbl&gt;</th><th scope=col>&lt;dbl&gt;</th><th scope=col>&lt;dbl&gt;</th></tr>\n",
       "</thead>\n",
       "<tbody>\n",
       "\t<tr><th scope=row>1</th><td>sub-0668_1</td><td>287</td><td>50.40</td><td>1</td><td>0</td><td>0.64252</td><td>0.48470</td><td>0.26711</td><td>0.46081</td><td>0.80843</td><td>...</td><td>0.26694</td><td>0.17747</td><td>0.20996</td><td>0.24951</td><td>0.24191</td><td>24.9902</td><td> 90.5294</td><td>80.9975</td><td>57.9326</td><td>72.1759</td></tr>\n",
       "\t<tr><th scope=row>2</th><td>sub-0532_1</td><td>222</td><td>37.02</td><td>1</td><td>0</td><td>0.71890</td><td>0.59546</td><td>0.31236</td><td>0.44193</td><td>0.80798</td><td>...</td><td>0.25342</td><td>0.17620</td><td>0.23222</td><td>0.21187</td><td>0.23518</td><td>24.2061</td><td>101.2955</td><td>90.3336</td><td>67.8547</td><td>80.1958</td></tr>\n",
       "\t<tr><th scope=row>3</th><td>sub-0529_1</td><td>220</td><td>30.57</td><td>1</td><td>0</td><td>0.66610</td><td>0.45798</td><td>0.28326</td><td>0.47330</td><td>0.79873</td><td>...</td><td>0.27421</td><td>0.19233</td><td>0.20855</td><td>0.19810</td><td>0.21863</td><td>26.5891</td><td>108.6481</td><td>99.6353</td><td>72.4565</td><td>87.2374</td></tr>\n",
       "</tbody>\n",
       "</table>\n"
      ],
      "text/latex": [
       "A data.frame: 3 × 22\n",
       "\\begin{tabular}{r|lllllllllllllllllllll}\n",
       "  & participant\\_id & ID & Age & Sex & Site & GM\\_vol & WM\\_vol & CSF\\_vol & GM\\_ICVRatio & GMWM\\_ICVRatio & ... & DeepWM\\_B\\_CoV & ACA\\_B\\_CoV & MCA\\_B\\_CoV & PCA\\_B\\_CoV & TotalGM\\_B\\_CoV & DeepWM\\_B\\_CBF & ACA\\_B\\_CBF & MCA\\_B\\_CBF & PCA\\_B\\_CBF & TotalGM\\_B\\_CBF\\\\\n",
       "  & <chr> & <int> & <dbl> & <int> & <dbl> & <dbl> & <dbl> & <dbl> & <dbl> & <dbl> & ... & <dbl> & <dbl> & <dbl> & <dbl> & <dbl> & <dbl> & <dbl> & <dbl> & <dbl> & <dbl>\\\\\n",
       "\\hline\n",
       "\t1 & sub-0668\\_1 & 287 & 50.40 & 1 & 0 & 0.64252 & 0.48470 & 0.26711 & 0.46081 & 0.80843 & ... & 0.26694 & 0.17747 & 0.20996 & 0.24951 & 0.24191 & 24.9902 &  90.5294 & 80.9975 & 57.9326 & 72.1759\\\\\n",
       "\t2 & sub-0532\\_1 & 222 & 37.02 & 1 & 0 & 0.71890 & 0.59546 & 0.31236 & 0.44193 & 0.80798 & ... & 0.25342 & 0.17620 & 0.23222 & 0.21187 & 0.23518 & 24.2061 & 101.2955 & 90.3336 & 67.8547 & 80.1958\\\\\n",
       "\t3 & sub-0529\\_1 & 220 & 30.57 & 1 & 0 & 0.66610 & 0.45798 & 0.28326 & 0.47330 & 0.79873 & ... & 0.27421 & 0.19233 & 0.20855 & 0.19810 & 0.21863 & 26.5891 & 108.6481 & 99.6353 & 72.4565 & 87.2374\\\\\n",
       "\\end{tabular}\n"
      ],
      "text/markdown": [
       "\n",
       "A data.frame: 3 × 22\n",
       "\n",
       "| <!--/--> | participant_id &lt;chr&gt; | ID &lt;int&gt; | Age &lt;dbl&gt; | Sex &lt;int&gt; | Site &lt;dbl&gt; | GM_vol &lt;dbl&gt; | WM_vol &lt;dbl&gt; | CSF_vol &lt;dbl&gt; | GM_ICVRatio &lt;dbl&gt; | GMWM_ICVRatio &lt;dbl&gt; | ... ... | DeepWM_B_CoV &lt;dbl&gt; | ACA_B_CoV &lt;dbl&gt; | MCA_B_CoV &lt;dbl&gt; | PCA_B_CoV &lt;dbl&gt; | TotalGM_B_CoV &lt;dbl&gt; | DeepWM_B_CBF &lt;dbl&gt; | ACA_B_CBF &lt;dbl&gt; | MCA_B_CBF &lt;dbl&gt; | PCA_B_CBF &lt;dbl&gt; | TotalGM_B_CBF &lt;dbl&gt; |\n",
       "|---|---|---|---|---|---|---|---|---|---|---|---|---|---|---|---|---|---|---|---|---|---|\n",
       "| 1 | sub-0668_1 | 287 | 50.40 | 1 | 0 | 0.64252 | 0.48470 | 0.26711 | 0.46081 | 0.80843 | ... | 0.26694 | 0.17747 | 0.20996 | 0.24951 | 0.24191 | 24.9902 |  90.5294 | 80.9975 | 57.9326 | 72.1759 |\n",
       "| 2 | sub-0532_1 | 222 | 37.02 | 1 | 0 | 0.71890 | 0.59546 | 0.31236 | 0.44193 | 0.80798 | ... | 0.25342 | 0.17620 | 0.23222 | 0.21187 | 0.23518 | 24.2061 | 101.2955 | 90.3336 | 67.8547 | 80.1958 |\n",
       "| 3 | sub-0529_1 | 220 | 30.57 | 1 | 0 | 0.66610 | 0.45798 | 0.28326 | 0.47330 | 0.79873 | ... | 0.27421 | 0.19233 | 0.20855 | 0.19810 | 0.21863 | 26.5891 | 108.6481 | 99.6353 | 72.4565 | 87.2374 |\n",
       "\n"
      ],
      "text/plain": [
       "  participant_id ID  Age   Sex Site GM_vol  WM_vol  CSF_vol GM_ICVRatio\n",
       "1 sub-0668_1     287 50.40 1   0    0.64252 0.48470 0.26711 0.46081    \n",
       "2 sub-0532_1     222 37.02 1   0    0.71890 0.59546 0.31236 0.44193    \n",
       "3 sub-0529_1     220 30.57 1   0    0.66610 0.45798 0.28326 0.47330    \n",
       "  GMWM_ICVRatio ... DeepWM_B_CoV ACA_B_CoV MCA_B_CoV PCA_B_CoV TotalGM_B_CoV\n",
       "1 0.80843       ... 0.26694      0.17747   0.20996   0.24951   0.24191      \n",
       "2 0.80798       ... 0.25342      0.17620   0.23222   0.21187   0.23518      \n",
       "3 0.79873       ... 0.27421      0.19233   0.20855   0.19810   0.21863      \n",
       "  DeepWM_B_CBF ACA_B_CBF MCA_B_CBF PCA_B_CBF TotalGM_B_CBF\n",
       "1 24.9902       90.5294  80.9975   57.9326   72.1759      \n",
       "2 24.2061      101.2955  90.3336   67.8547   80.1958      \n",
       "3 26.5891      108.6481  99.6353   72.4565   87.2374      "
      ]
     },
     "metadata": {},
     "output_type": "display_data"
    }
   ],
   "source": [
    "fused_dat <- rbind(TOP, MRI)\n",
    "head(fused_dat, 3)"
   ]
  },
  {
   "cell_type": "code",
   "execution_count": 6,
   "id": "598a20fa-c4b4-41a3-a924-daf5b92c60cf",
   "metadata": {},
   "outputs": [
    {
     "name": "stdout",
     "output_type": "stream",
     "text": [
      "[1] \"double\"\n"
     ]
    }
   ],
   "source": [
    "age <- c((fused_dat['Age']))\n",
    "age <- as.numeric(unlist(age))\n",
    "print(typeof(age))"
   ]
  },
  {
   "cell_type": "code",
   "execution_count": 7,
   "id": "831b4fe5-6cc5-4bfa-b157-1f6a247e4079",
   "metadata": {},
   "outputs": [],
   "source": [
    "#age <- c((fused_dat['Age'])) # Continuous variable\n",
    "sex <- c((fused_dat['Sex']))\n",
    "sex <- as.numeric(unlist(sex))\n",
    "sex <- as.factor(sex) # Categorical variable\n",
    "mod <- model.matrix(~age+sex)\n"
   ]
  },
  {
   "cell_type": "code",
   "execution_count": 8,
   "id": "d8350f89-326a-4ef9-84e1-3d413cd81c51",
   "metadata": {},
   "outputs": [],
   "source": [
    "batchvector <- c(fused_dat['Site'])\n",
    "batchvector <- as.numeric(unlist(batchvector))"
   ]
  },
  {
   "cell_type": "code",
   "execution_count": 9,
   "id": "fefcd500-43a7-4372-8542-c8843bcc796f",
   "metadata": {},
   "outputs": [
    {
     "data": {
      "text/html": [
       "<table class=\"dataframe\">\n",
       "<caption>A data.frame: 6 × 22</caption>\n",
       "<thead>\n",
       "\t<tr><th></th><th scope=col>participant_id</th><th scope=col>ID</th><th scope=col>Age</th><th scope=col>Sex</th><th scope=col>Site</th><th scope=col>GM_vol</th><th scope=col>WM_vol</th><th scope=col>CSF_vol</th><th scope=col>GM_ICVRatio</th><th scope=col>GMWM_ICVRatio</th><th scope=col>...</th><th scope=col>DeepWM_B_CoV</th><th scope=col>ACA_B_CoV</th><th scope=col>MCA_B_CoV</th><th scope=col>PCA_B_CoV</th><th scope=col>TotalGM_B_CoV</th><th scope=col>DeepWM_B_CBF</th><th scope=col>ACA_B_CBF</th><th scope=col>MCA_B_CBF</th><th scope=col>PCA_B_CBF</th><th scope=col>TotalGM_B_CBF</th></tr>\n",
       "\t<tr><th></th><th scope=col>&lt;chr&gt;</th><th scope=col>&lt;int&gt;</th><th scope=col>&lt;dbl&gt;</th><th scope=col>&lt;int&gt;</th><th scope=col>&lt;dbl&gt;</th><th scope=col>&lt;dbl&gt;</th><th scope=col>&lt;dbl&gt;</th><th scope=col>&lt;dbl&gt;</th><th scope=col>&lt;dbl&gt;</th><th scope=col>&lt;dbl&gt;</th><th scope=col>...</th><th scope=col>&lt;dbl&gt;</th><th scope=col>&lt;dbl&gt;</th><th scope=col>&lt;dbl&gt;</th><th scope=col>&lt;dbl&gt;</th><th scope=col>&lt;dbl&gt;</th><th scope=col>&lt;dbl&gt;</th><th scope=col>&lt;dbl&gt;</th><th scope=col>&lt;dbl&gt;</th><th scope=col>&lt;dbl&gt;</th><th scope=col>&lt;dbl&gt;</th></tr>\n",
       "</thead>\n",
       "<tbody>\n",
       "\t<tr><th scope=row>1</th><td>sub-0668_1</td><td>287</td><td>50.40</td><td>1</td><td>0</td><td>0.64252</td><td>0.48470</td><td>0.26711</td><td>0.46081</td><td>0.80843</td><td>...</td><td>0.26694</td><td>0.17747</td><td>0.20996</td><td>0.24951</td><td>0.24191</td><td>24.9902</td><td> 90.5294</td><td>80.9975</td><td>57.9326</td><td>72.1759</td></tr>\n",
       "\t<tr><th scope=row>2</th><td>sub-0532_1</td><td>222</td><td>37.02</td><td>1</td><td>0</td><td>0.71890</td><td>0.59546</td><td>0.31236</td><td>0.44193</td><td>0.80798</td><td>...</td><td>0.25342</td><td>0.17620</td><td>0.23222</td><td>0.21187</td><td>0.23518</td><td>24.2061</td><td>101.2955</td><td>90.3336</td><td>67.8547</td><td>80.1958</td></tr>\n",
       "\t<tr><th scope=row>3</th><td>sub-0529_1</td><td>220</td><td>30.57</td><td>1</td><td>0</td><td>0.66610</td><td>0.45798</td><td>0.28326</td><td>0.47330</td><td>0.79873</td><td>...</td><td>0.27421</td><td>0.19233</td><td>0.20855</td><td>0.19810</td><td>0.21863</td><td>26.5891</td><td>108.6481</td><td>99.6353</td><td>72.4565</td><td>87.2374</td></tr>\n",
       "\t<tr><th scope=row>4</th><td>sub-0393_1</td><td>168</td><td>47.05</td><td>1</td><td>0</td><td>0.65366</td><td>0.50449</td><td>0.22497</td><td>0.47260</td><td>0.83735</td><td>...</td><td>0.25614</td><td>0.18299</td><td>0.22545</td><td>0.20645</td><td>0.24245</td><td>27.4124</td><td> 92.8599</td><td>81.2144</td><td>61.5686</td><td>73.7697</td></tr>\n",
       "\t<tr><th scope=row>5</th><td>sub-0593_1</td><td>244</td><td>44.63</td><td>1</td><td>0</td><td>0.66182</td><td>0.48806</td><td>0.27842</td><td>0.46336</td><td>0.80507</td><td>...</td><td>0.23118</td><td>0.18738</td><td>0.19636</td><td>0.20306</td><td>0.20339</td><td>23.9605</td><td> 83.5410</td><td>77.6834</td><td>67.6360</td><td>71.2309</td></tr>\n",
       "\t<tr><th scope=row>6</th><td>sub-0736_1</td><td>311</td><td>53.59</td><td>0</td><td>0</td><td>0.69935</td><td>0.53171</td><td>0.44340</td><td>0.41766</td><td>0.73520</td><td>...</td><td>0.23950</td><td>0.18346</td><td>0.23072</td><td>0.22404</td><td>0.22465</td><td>24.6117</td><td> 79.3888</td><td>69.4498</td><td>56.2757</td><td>64.1842</td></tr>\n",
       "</tbody>\n",
       "</table>\n"
      ],
      "text/latex": [
       "A data.frame: 6 × 22\n",
       "\\begin{tabular}{r|lllllllllllllllllllll}\n",
       "  & participant\\_id & ID & Age & Sex & Site & GM\\_vol & WM\\_vol & CSF\\_vol & GM\\_ICVRatio & GMWM\\_ICVRatio & ... & DeepWM\\_B\\_CoV & ACA\\_B\\_CoV & MCA\\_B\\_CoV & PCA\\_B\\_CoV & TotalGM\\_B\\_CoV & DeepWM\\_B\\_CBF & ACA\\_B\\_CBF & MCA\\_B\\_CBF & PCA\\_B\\_CBF & TotalGM\\_B\\_CBF\\\\\n",
       "  & <chr> & <int> & <dbl> & <int> & <dbl> & <dbl> & <dbl> & <dbl> & <dbl> & <dbl> & ... & <dbl> & <dbl> & <dbl> & <dbl> & <dbl> & <dbl> & <dbl> & <dbl> & <dbl> & <dbl>\\\\\n",
       "\\hline\n",
       "\t1 & sub-0668\\_1 & 287 & 50.40 & 1 & 0 & 0.64252 & 0.48470 & 0.26711 & 0.46081 & 0.80843 & ... & 0.26694 & 0.17747 & 0.20996 & 0.24951 & 0.24191 & 24.9902 &  90.5294 & 80.9975 & 57.9326 & 72.1759\\\\\n",
       "\t2 & sub-0532\\_1 & 222 & 37.02 & 1 & 0 & 0.71890 & 0.59546 & 0.31236 & 0.44193 & 0.80798 & ... & 0.25342 & 0.17620 & 0.23222 & 0.21187 & 0.23518 & 24.2061 & 101.2955 & 90.3336 & 67.8547 & 80.1958\\\\\n",
       "\t3 & sub-0529\\_1 & 220 & 30.57 & 1 & 0 & 0.66610 & 0.45798 & 0.28326 & 0.47330 & 0.79873 & ... & 0.27421 & 0.19233 & 0.20855 & 0.19810 & 0.21863 & 26.5891 & 108.6481 & 99.6353 & 72.4565 & 87.2374\\\\\n",
       "\t4 & sub-0393\\_1 & 168 & 47.05 & 1 & 0 & 0.65366 & 0.50449 & 0.22497 & 0.47260 & 0.83735 & ... & 0.25614 & 0.18299 & 0.22545 & 0.20645 & 0.24245 & 27.4124 &  92.8599 & 81.2144 & 61.5686 & 73.7697\\\\\n",
       "\t5 & sub-0593\\_1 & 244 & 44.63 & 1 & 0 & 0.66182 & 0.48806 & 0.27842 & 0.46336 & 0.80507 & ... & 0.23118 & 0.18738 & 0.19636 & 0.20306 & 0.20339 & 23.9605 &  83.5410 & 77.6834 & 67.6360 & 71.2309\\\\\n",
       "\t6 & sub-0736\\_1 & 311 & 53.59 & 0 & 0 & 0.69935 & 0.53171 & 0.44340 & 0.41766 & 0.73520 & ... & 0.23950 & 0.18346 & 0.23072 & 0.22404 & 0.22465 & 24.6117 &  79.3888 & 69.4498 & 56.2757 & 64.1842\\\\\n",
       "\\end{tabular}\n"
      ],
      "text/markdown": [
       "\n",
       "A data.frame: 6 × 22\n",
       "\n",
       "| <!--/--> | participant_id &lt;chr&gt; | ID &lt;int&gt; | Age &lt;dbl&gt; | Sex &lt;int&gt; | Site &lt;dbl&gt; | GM_vol &lt;dbl&gt; | WM_vol &lt;dbl&gt; | CSF_vol &lt;dbl&gt; | GM_ICVRatio &lt;dbl&gt; | GMWM_ICVRatio &lt;dbl&gt; | ... ... | DeepWM_B_CoV &lt;dbl&gt; | ACA_B_CoV &lt;dbl&gt; | MCA_B_CoV &lt;dbl&gt; | PCA_B_CoV &lt;dbl&gt; | TotalGM_B_CoV &lt;dbl&gt; | DeepWM_B_CBF &lt;dbl&gt; | ACA_B_CBF &lt;dbl&gt; | MCA_B_CBF &lt;dbl&gt; | PCA_B_CBF &lt;dbl&gt; | TotalGM_B_CBF &lt;dbl&gt; |\n",
       "|---|---|---|---|---|---|---|---|---|---|---|---|---|---|---|---|---|---|---|---|---|---|\n",
       "| 1 | sub-0668_1 | 287 | 50.40 | 1 | 0 | 0.64252 | 0.48470 | 0.26711 | 0.46081 | 0.80843 | ... | 0.26694 | 0.17747 | 0.20996 | 0.24951 | 0.24191 | 24.9902 |  90.5294 | 80.9975 | 57.9326 | 72.1759 |\n",
       "| 2 | sub-0532_1 | 222 | 37.02 | 1 | 0 | 0.71890 | 0.59546 | 0.31236 | 0.44193 | 0.80798 | ... | 0.25342 | 0.17620 | 0.23222 | 0.21187 | 0.23518 | 24.2061 | 101.2955 | 90.3336 | 67.8547 | 80.1958 |\n",
       "| 3 | sub-0529_1 | 220 | 30.57 | 1 | 0 | 0.66610 | 0.45798 | 0.28326 | 0.47330 | 0.79873 | ... | 0.27421 | 0.19233 | 0.20855 | 0.19810 | 0.21863 | 26.5891 | 108.6481 | 99.6353 | 72.4565 | 87.2374 |\n",
       "| 4 | sub-0393_1 | 168 | 47.05 | 1 | 0 | 0.65366 | 0.50449 | 0.22497 | 0.47260 | 0.83735 | ... | 0.25614 | 0.18299 | 0.22545 | 0.20645 | 0.24245 | 27.4124 |  92.8599 | 81.2144 | 61.5686 | 73.7697 |\n",
       "| 5 | sub-0593_1 | 244 | 44.63 | 1 | 0 | 0.66182 | 0.48806 | 0.27842 | 0.46336 | 0.80507 | ... | 0.23118 | 0.18738 | 0.19636 | 0.20306 | 0.20339 | 23.9605 |  83.5410 | 77.6834 | 67.6360 | 71.2309 |\n",
       "| 6 | sub-0736_1 | 311 | 53.59 | 0 | 0 | 0.69935 | 0.53171 | 0.44340 | 0.41766 | 0.73520 | ... | 0.23950 | 0.18346 | 0.23072 | 0.22404 | 0.22465 | 24.6117 |  79.3888 | 69.4498 | 56.2757 | 64.1842 |\n",
       "\n"
      ],
      "text/plain": [
       "  participant_id ID  Age   Sex Site GM_vol  WM_vol  CSF_vol GM_ICVRatio\n",
       "1 sub-0668_1     287 50.40 1   0    0.64252 0.48470 0.26711 0.46081    \n",
       "2 sub-0532_1     222 37.02 1   0    0.71890 0.59546 0.31236 0.44193    \n",
       "3 sub-0529_1     220 30.57 1   0    0.66610 0.45798 0.28326 0.47330    \n",
       "4 sub-0393_1     168 47.05 1   0    0.65366 0.50449 0.22497 0.47260    \n",
       "5 sub-0593_1     244 44.63 1   0    0.66182 0.48806 0.27842 0.46336    \n",
       "6 sub-0736_1     311 53.59 0   0    0.69935 0.53171 0.44340 0.41766    \n",
       "  GMWM_ICVRatio ... DeepWM_B_CoV ACA_B_CoV MCA_B_CoV PCA_B_CoV TotalGM_B_CoV\n",
       "1 0.80843       ... 0.26694      0.17747   0.20996   0.24951   0.24191      \n",
       "2 0.80798       ... 0.25342      0.17620   0.23222   0.21187   0.23518      \n",
       "3 0.79873       ... 0.27421      0.19233   0.20855   0.19810   0.21863      \n",
       "4 0.83735       ... 0.25614      0.18299   0.22545   0.20645   0.24245      \n",
       "5 0.80507       ... 0.23118      0.18738   0.19636   0.20306   0.20339      \n",
       "6 0.73520       ... 0.23950      0.18346   0.23072   0.22404   0.22465      \n",
       "  DeepWM_B_CBF ACA_B_CBF MCA_B_CBF PCA_B_CBF TotalGM_B_CBF\n",
       "1 24.9902       90.5294  80.9975   57.9326   72.1759      \n",
       "2 24.2061      101.2955  90.3336   67.8547   80.1958      \n",
       "3 26.5891      108.6481  99.6353   72.4565   87.2374      \n",
       "4 27.4124       92.8599  81.2144   61.5686   73.7697      \n",
       "5 23.9605       83.5410  77.6834   67.6360   71.2309      \n",
       "6 24.6117       79.3888  69.4498   56.2757   64.1842      "
      ]
     },
     "metadata": {},
     "output_type": "display_data"
    }
   ],
   "source": [
    "head(fused_dat)"
   ]
  },
  {
   "cell_type": "code",
   "execution_count": 10,
   "id": "14fa4658-d8d7-4d14-a27c-8a4be24a6af7",
   "metadata": {},
   "outputs": [
    {
     "data": {
      "text/html": [
       "<table class=\"dataframe\">\n",
       "<caption>A data.frame: 3 × 17</caption>\n",
       "<thead>\n",
       "\t<tr><th></th><th scope=col>GM_vol</th><th scope=col>WM_vol</th><th scope=col>CSF_vol</th><th scope=col>GM_ICVRatio</th><th scope=col>GMWM_ICVRatio</th><th scope=col>WMHvol_WMvol</th><th scope=col>WMH_count</th><th scope=col>DeepWM_B_CoV</th><th scope=col>ACA_B_CoV</th><th scope=col>MCA_B_CoV</th><th scope=col>PCA_B_CoV</th><th scope=col>TotalGM_B_CoV</th><th scope=col>DeepWM_B_CBF</th><th scope=col>ACA_B_CBF</th><th scope=col>MCA_B_CBF</th><th scope=col>PCA_B_CBF</th><th scope=col>TotalGM_B_CBF</th></tr>\n",
       "\t<tr><th></th><th scope=col>&lt;dbl&gt;</th><th scope=col>&lt;dbl&gt;</th><th scope=col>&lt;dbl&gt;</th><th scope=col>&lt;dbl&gt;</th><th scope=col>&lt;dbl&gt;</th><th scope=col>&lt;dbl&gt;</th><th scope=col>&lt;int&gt;</th><th scope=col>&lt;dbl&gt;</th><th scope=col>&lt;dbl&gt;</th><th scope=col>&lt;dbl&gt;</th><th scope=col>&lt;dbl&gt;</th><th scope=col>&lt;dbl&gt;</th><th scope=col>&lt;dbl&gt;</th><th scope=col>&lt;dbl&gt;</th><th scope=col>&lt;dbl&gt;</th><th scope=col>&lt;dbl&gt;</th><th scope=col>&lt;dbl&gt;</th></tr>\n",
       "</thead>\n",
       "<tbody>\n",
       "\t<tr><th scope=row>1</th><td>0.64252</td><td>0.48470</td><td>0.26711</td><td>0.46081</td><td>0.80843</td><td>0.0045059</td><td>18</td><td>0.26694</td><td>0.17747</td><td>0.20996</td><td>0.24951</td><td>0.24191</td><td>24.9902</td><td> 90.5294</td><td>80.9975</td><td>57.9326</td><td>72.1759</td></tr>\n",
       "\t<tr><th scope=row>2</th><td>0.71890</td><td>0.59546</td><td>0.31236</td><td>0.44193</td><td>0.80798</td><td>0.0025006</td><td>24</td><td>0.25342</td><td>0.17620</td><td>0.23222</td><td>0.21187</td><td>0.23518</td><td>24.2061</td><td>101.2955</td><td>90.3336</td><td>67.8547</td><td>80.1958</td></tr>\n",
       "\t<tr><th scope=row>3</th><td>0.66610</td><td>0.45798</td><td>0.28326</td><td>0.47330</td><td>0.79873</td><td>0.0051443</td><td>20</td><td>0.27421</td><td>0.19233</td><td>0.20855</td><td>0.19810</td><td>0.21863</td><td>26.5891</td><td>108.6481</td><td>99.6353</td><td>72.4565</td><td>87.2374</td></tr>\n",
       "</tbody>\n",
       "</table>\n"
      ],
      "text/latex": [
       "A data.frame: 3 × 17\n",
       "\\begin{tabular}{r|lllllllllllllllll}\n",
       "  & GM\\_vol & WM\\_vol & CSF\\_vol & GM\\_ICVRatio & GMWM\\_ICVRatio & WMHvol\\_WMvol & WMH\\_count & DeepWM\\_B\\_CoV & ACA\\_B\\_CoV & MCA\\_B\\_CoV & PCA\\_B\\_CoV & TotalGM\\_B\\_CoV & DeepWM\\_B\\_CBF & ACA\\_B\\_CBF & MCA\\_B\\_CBF & PCA\\_B\\_CBF & TotalGM\\_B\\_CBF\\\\\n",
       "  & <dbl> & <dbl> & <dbl> & <dbl> & <dbl> & <dbl> & <int> & <dbl> & <dbl> & <dbl> & <dbl> & <dbl> & <dbl> & <dbl> & <dbl> & <dbl> & <dbl>\\\\\n",
       "\\hline\n",
       "\t1 & 0.64252 & 0.48470 & 0.26711 & 0.46081 & 0.80843 & 0.0045059 & 18 & 0.26694 & 0.17747 & 0.20996 & 0.24951 & 0.24191 & 24.9902 &  90.5294 & 80.9975 & 57.9326 & 72.1759\\\\\n",
       "\t2 & 0.71890 & 0.59546 & 0.31236 & 0.44193 & 0.80798 & 0.0025006 & 24 & 0.25342 & 0.17620 & 0.23222 & 0.21187 & 0.23518 & 24.2061 & 101.2955 & 90.3336 & 67.8547 & 80.1958\\\\\n",
       "\t3 & 0.66610 & 0.45798 & 0.28326 & 0.47330 & 0.79873 & 0.0051443 & 20 & 0.27421 & 0.19233 & 0.20855 & 0.19810 & 0.21863 & 26.5891 & 108.6481 & 99.6353 & 72.4565 & 87.2374\\\\\n",
       "\\end{tabular}\n"
      ],
      "text/markdown": [
       "\n",
       "A data.frame: 3 × 17\n",
       "\n",
       "| <!--/--> | GM_vol &lt;dbl&gt; | WM_vol &lt;dbl&gt; | CSF_vol &lt;dbl&gt; | GM_ICVRatio &lt;dbl&gt; | GMWM_ICVRatio &lt;dbl&gt; | WMHvol_WMvol &lt;dbl&gt; | WMH_count &lt;int&gt; | DeepWM_B_CoV &lt;dbl&gt; | ACA_B_CoV &lt;dbl&gt; | MCA_B_CoV &lt;dbl&gt; | PCA_B_CoV &lt;dbl&gt; | TotalGM_B_CoV &lt;dbl&gt; | DeepWM_B_CBF &lt;dbl&gt; | ACA_B_CBF &lt;dbl&gt; | MCA_B_CBF &lt;dbl&gt; | PCA_B_CBF &lt;dbl&gt; | TotalGM_B_CBF &lt;dbl&gt; |\n",
       "|---|---|---|---|---|---|---|---|---|---|---|---|---|---|---|---|---|---|\n",
       "| 1 | 0.64252 | 0.48470 | 0.26711 | 0.46081 | 0.80843 | 0.0045059 | 18 | 0.26694 | 0.17747 | 0.20996 | 0.24951 | 0.24191 | 24.9902 |  90.5294 | 80.9975 | 57.9326 | 72.1759 |\n",
       "| 2 | 0.71890 | 0.59546 | 0.31236 | 0.44193 | 0.80798 | 0.0025006 | 24 | 0.25342 | 0.17620 | 0.23222 | 0.21187 | 0.23518 | 24.2061 | 101.2955 | 90.3336 | 67.8547 | 80.1958 |\n",
       "| 3 | 0.66610 | 0.45798 | 0.28326 | 0.47330 | 0.79873 | 0.0051443 | 20 | 0.27421 | 0.19233 | 0.20855 | 0.19810 | 0.21863 | 26.5891 | 108.6481 | 99.6353 | 72.4565 | 87.2374 |\n",
       "\n"
      ],
      "text/plain": [
       "  GM_vol  WM_vol  CSF_vol GM_ICVRatio GMWM_ICVRatio WMHvol_WMvol WMH_count\n",
       "1 0.64252 0.48470 0.26711 0.46081     0.80843       0.0045059    18       \n",
       "2 0.71890 0.59546 0.31236 0.44193     0.80798       0.0025006    24       \n",
       "3 0.66610 0.45798 0.28326 0.47330     0.79873       0.0051443    20       \n",
       "  DeepWM_B_CoV ACA_B_CoV MCA_B_CoV PCA_B_CoV TotalGM_B_CoV DeepWM_B_CBF\n",
       "1 0.26694      0.17747   0.20996   0.24951   0.24191       24.9902     \n",
       "2 0.25342      0.17620   0.23222   0.21187   0.23518       24.2061     \n",
       "3 0.27421      0.19233   0.20855   0.19810   0.21863       26.5891     \n",
       "  ACA_B_CBF MCA_B_CBF PCA_B_CBF TotalGM_B_CBF\n",
       "1  90.5294  80.9975   57.9326   72.1759      \n",
       "2 101.2955  90.3336   67.8547   80.1958      \n",
       "3 108.6481  99.6353   72.4565   87.2374      "
      ]
     },
     "metadata": {},
     "output_type": "display_data"
    }
   ],
   "source": [
    "fused_dat_m1 <- fused_dat[,-1]\n",
    "fused_dat_m1 <- fused_dat_m1[,-1]\n",
    "fused_dat_m1 <- fused_dat_m1[,-1]\n",
    "fused_dat_m1 <- fused_dat_m1[,-1]\n",
    "fused_dat_m1 <- fused_dat_m1[,-1]\n",
    "head(fused_dat_m1, 3)"
   ]
  },
  {
   "cell_type": "code",
   "execution_count": 11,
   "id": "f932f51a-c4f3-4b6c-b946-a950a9a2b342",
   "metadata": {},
   "outputs": [],
   "source": [
    "ta <- t(fused_dat_m1) "
   ]
  },
  {
   "cell_type": "code",
   "execution_count": 12,
   "id": "6b13c3f4-40c6-491b-8136-6c76f8a4554c",
   "metadata": {},
   "outputs": [],
   "source": [
    "#combatPP(ta, batchvector)"
   ]
  },
  {
   "cell_type": "code",
   "execution_count": 13,
   "id": "ebee9ed9-c436-4765-907f-15340f666ee0",
   "metadata": {},
   "outputs": [
    {
     "name": "stdout",
     "output_type": "stream",
     "text": [
      "[combat] Performing ComBat with empirical Bayes\n",
      "[combat] Found 2 batches\n",
      "[combat] Adjusting for 2 covariate(s) or covariate level(s)\n",
      "[combat] Standardizing Data across features\n",
      "[combat] Fitting L/S model and finding priors\n",
      "[combat] Finding parametric adjustments\n",
      "[combat] Adjusting the Data\n"
     ]
    }
   ],
   "source": [
    "data.harmonized <-combatPP(ta,  mod=mod, batchvector) # need to add mod=mod"
   ]
  },
  {
   "cell_type": "code",
   "execution_count": 14,
   "id": "87ee8b83-375f-4c38-9019-ba2d16a75e81",
   "metadata": {},
   "outputs": [],
   "source": [
    "#data.harmonized"
   ]
  },
  {
   "cell_type": "code",
   "execution_count": 15,
   "id": "31a3cc68-a5e4-4845-8a5e-90f21d894874",
   "metadata": {},
   "outputs": [],
   "source": [
    "new_df <- data.harmonized$dat.combat"
   ]
  },
  {
   "cell_type": "code",
   "execution_count": 16,
   "id": "13ed1bd7-325d-435a-a4cc-cc6395f65e32",
   "metadata": {},
   "outputs": [
    {
     "data": {
      "text/html": [
       "<table class=\"dataframe\">\n",
       "<caption>A data.frame: 6 × 22</caption>\n",
       "<thead>\n",
       "\t<tr><th></th><th scope=col>participant_id</th><th scope=col>ID</th><th scope=col>Age</th><th scope=col>Sex</th><th scope=col>Site</th><th scope=col>GM_vol</th><th scope=col>WM_vol</th><th scope=col>CSF_vol</th><th scope=col>GM_ICVRatio</th><th scope=col>GMWM_ICVRatio</th><th scope=col>...</th><th scope=col>DeepWM_B_CoV</th><th scope=col>ACA_B_CoV</th><th scope=col>MCA_B_CoV</th><th scope=col>PCA_B_CoV</th><th scope=col>TotalGM_B_CoV</th><th scope=col>DeepWM_B_CBF</th><th scope=col>ACA_B_CBF</th><th scope=col>MCA_B_CBF</th><th scope=col>PCA_B_CBF</th><th scope=col>TotalGM_B_CBF</th></tr>\n",
       "\t<tr><th></th><th scope=col>&lt;chr&gt;</th><th scope=col>&lt;int&gt;</th><th scope=col>&lt;dbl&gt;</th><th scope=col>&lt;int&gt;</th><th scope=col>&lt;dbl&gt;</th><th scope=col>&lt;dbl&gt;</th><th scope=col>&lt;dbl&gt;</th><th scope=col>&lt;dbl&gt;</th><th scope=col>&lt;dbl&gt;</th><th scope=col>&lt;dbl&gt;</th><th scope=col>...</th><th scope=col>&lt;dbl&gt;</th><th scope=col>&lt;dbl&gt;</th><th scope=col>&lt;dbl&gt;</th><th scope=col>&lt;dbl&gt;</th><th scope=col>&lt;dbl&gt;</th><th scope=col>&lt;dbl&gt;</th><th scope=col>&lt;dbl&gt;</th><th scope=col>&lt;dbl&gt;</th><th scope=col>&lt;dbl&gt;</th><th scope=col>&lt;dbl&gt;</th></tr>\n",
       "</thead>\n",
       "<tbody>\n",
       "\t<tr><th scope=row>1</th><td>sub-0668_1</td><td>287</td><td>50.40</td><td>1</td><td>0</td><td>0.64252</td><td>0.48470</td><td>0.26711</td><td>0.46081</td><td>0.80843</td><td>...</td><td>0.26694</td><td>0.17747</td><td>0.20996</td><td>0.24951</td><td>0.24191</td><td>24.9902</td><td> 90.5294</td><td>80.9975</td><td>57.9326</td><td>72.1759</td></tr>\n",
       "\t<tr><th scope=row>2</th><td>sub-0532_1</td><td>222</td><td>37.02</td><td>1</td><td>0</td><td>0.71890</td><td>0.59546</td><td>0.31236</td><td>0.44193</td><td>0.80798</td><td>...</td><td>0.25342</td><td>0.17620</td><td>0.23222</td><td>0.21187</td><td>0.23518</td><td>24.2061</td><td>101.2955</td><td>90.3336</td><td>67.8547</td><td>80.1958</td></tr>\n",
       "\t<tr><th scope=row>3</th><td>sub-0529_1</td><td>220</td><td>30.57</td><td>1</td><td>0</td><td>0.66610</td><td>0.45798</td><td>0.28326</td><td>0.47330</td><td>0.79873</td><td>...</td><td>0.27421</td><td>0.19233</td><td>0.20855</td><td>0.19810</td><td>0.21863</td><td>26.5891</td><td>108.6481</td><td>99.6353</td><td>72.4565</td><td>87.2374</td></tr>\n",
       "\t<tr><th scope=row>4</th><td>sub-0393_1</td><td>168</td><td>47.05</td><td>1</td><td>0</td><td>0.65366</td><td>0.50449</td><td>0.22497</td><td>0.47260</td><td>0.83735</td><td>...</td><td>0.25614</td><td>0.18299</td><td>0.22545</td><td>0.20645</td><td>0.24245</td><td>27.4124</td><td> 92.8599</td><td>81.2144</td><td>61.5686</td><td>73.7697</td></tr>\n",
       "\t<tr><th scope=row>5</th><td>sub-0593_1</td><td>244</td><td>44.63</td><td>1</td><td>0</td><td>0.66182</td><td>0.48806</td><td>0.27842</td><td>0.46336</td><td>0.80507</td><td>...</td><td>0.23118</td><td>0.18738</td><td>0.19636</td><td>0.20306</td><td>0.20339</td><td>23.9605</td><td> 83.5410</td><td>77.6834</td><td>67.6360</td><td>71.2309</td></tr>\n",
       "\t<tr><th scope=row>6</th><td>sub-0736_1</td><td>311</td><td>53.59</td><td>0</td><td>0</td><td>0.69935</td><td>0.53171</td><td>0.44340</td><td>0.41766</td><td>0.73520</td><td>...</td><td>0.23950</td><td>0.18346</td><td>0.23072</td><td>0.22404</td><td>0.22465</td><td>24.6117</td><td> 79.3888</td><td>69.4498</td><td>56.2757</td><td>64.1842</td></tr>\n",
       "</tbody>\n",
       "</table>\n"
      ],
      "text/latex": [
       "A data.frame: 6 × 22\n",
       "\\begin{tabular}{r|lllllllllllllllllllll}\n",
       "  & participant\\_id & ID & Age & Sex & Site & GM\\_vol & WM\\_vol & CSF\\_vol & GM\\_ICVRatio & GMWM\\_ICVRatio & ... & DeepWM\\_B\\_CoV & ACA\\_B\\_CoV & MCA\\_B\\_CoV & PCA\\_B\\_CoV & TotalGM\\_B\\_CoV & DeepWM\\_B\\_CBF & ACA\\_B\\_CBF & MCA\\_B\\_CBF & PCA\\_B\\_CBF & TotalGM\\_B\\_CBF\\\\\n",
       "  & <chr> & <int> & <dbl> & <int> & <dbl> & <dbl> & <dbl> & <dbl> & <dbl> & <dbl> & ... & <dbl> & <dbl> & <dbl> & <dbl> & <dbl> & <dbl> & <dbl> & <dbl> & <dbl> & <dbl>\\\\\n",
       "\\hline\n",
       "\t1 & sub-0668\\_1 & 287 & 50.40 & 1 & 0 & 0.64252 & 0.48470 & 0.26711 & 0.46081 & 0.80843 & ... & 0.26694 & 0.17747 & 0.20996 & 0.24951 & 0.24191 & 24.9902 &  90.5294 & 80.9975 & 57.9326 & 72.1759\\\\\n",
       "\t2 & sub-0532\\_1 & 222 & 37.02 & 1 & 0 & 0.71890 & 0.59546 & 0.31236 & 0.44193 & 0.80798 & ... & 0.25342 & 0.17620 & 0.23222 & 0.21187 & 0.23518 & 24.2061 & 101.2955 & 90.3336 & 67.8547 & 80.1958\\\\\n",
       "\t3 & sub-0529\\_1 & 220 & 30.57 & 1 & 0 & 0.66610 & 0.45798 & 0.28326 & 0.47330 & 0.79873 & ... & 0.27421 & 0.19233 & 0.20855 & 0.19810 & 0.21863 & 26.5891 & 108.6481 & 99.6353 & 72.4565 & 87.2374\\\\\n",
       "\t4 & sub-0393\\_1 & 168 & 47.05 & 1 & 0 & 0.65366 & 0.50449 & 0.22497 & 0.47260 & 0.83735 & ... & 0.25614 & 0.18299 & 0.22545 & 0.20645 & 0.24245 & 27.4124 &  92.8599 & 81.2144 & 61.5686 & 73.7697\\\\\n",
       "\t5 & sub-0593\\_1 & 244 & 44.63 & 1 & 0 & 0.66182 & 0.48806 & 0.27842 & 0.46336 & 0.80507 & ... & 0.23118 & 0.18738 & 0.19636 & 0.20306 & 0.20339 & 23.9605 &  83.5410 & 77.6834 & 67.6360 & 71.2309\\\\\n",
       "\t6 & sub-0736\\_1 & 311 & 53.59 & 0 & 0 & 0.69935 & 0.53171 & 0.44340 & 0.41766 & 0.73520 & ... & 0.23950 & 0.18346 & 0.23072 & 0.22404 & 0.22465 & 24.6117 &  79.3888 & 69.4498 & 56.2757 & 64.1842\\\\\n",
       "\\end{tabular}\n"
      ],
      "text/markdown": [
       "\n",
       "A data.frame: 6 × 22\n",
       "\n",
       "| <!--/--> | participant_id &lt;chr&gt; | ID &lt;int&gt; | Age &lt;dbl&gt; | Sex &lt;int&gt; | Site &lt;dbl&gt; | GM_vol &lt;dbl&gt; | WM_vol &lt;dbl&gt; | CSF_vol &lt;dbl&gt; | GM_ICVRatio &lt;dbl&gt; | GMWM_ICVRatio &lt;dbl&gt; | ... ... | DeepWM_B_CoV &lt;dbl&gt; | ACA_B_CoV &lt;dbl&gt; | MCA_B_CoV &lt;dbl&gt; | PCA_B_CoV &lt;dbl&gt; | TotalGM_B_CoV &lt;dbl&gt; | DeepWM_B_CBF &lt;dbl&gt; | ACA_B_CBF &lt;dbl&gt; | MCA_B_CBF &lt;dbl&gt; | PCA_B_CBF &lt;dbl&gt; | TotalGM_B_CBF &lt;dbl&gt; |\n",
       "|---|---|---|---|---|---|---|---|---|---|---|---|---|---|---|---|---|---|---|---|---|---|\n",
       "| 1 | sub-0668_1 | 287 | 50.40 | 1 | 0 | 0.64252 | 0.48470 | 0.26711 | 0.46081 | 0.80843 | ... | 0.26694 | 0.17747 | 0.20996 | 0.24951 | 0.24191 | 24.9902 |  90.5294 | 80.9975 | 57.9326 | 72.1759 |\n",
       "| 2 | sub-0532_1 | 222 | 37.02 | 1 | 0 | 0.71890 | 0.59546 | 0.31236 | 0.44193 | 0.80798 | ... | 0.25342 | 0.17620 | 0.23222 | 0.21187 | 0.23518 | 24.2061 | 101.2955 | 90.3336 | 67.8547 | 80.1958 |\n",
       "| 3 | sub-0529_1 | 220 | 30.57 | 1 | 0 | 0.66610 | 0.45798 | 0.28326 | 0.47330 | 0.79873 | ... | 0.27421 | 0.19233 | 0.20855 | 0.19810 | 0.21863 | 26.5891 | 108.6481 | 99.6353 | 72.4565 | 87.2374 |\n",
       "| 4 | sub-0393_1 | 168 | 47.05 | 1 | 0 | 0.65366 | 0.50449 | 0.22497 | 0.47260 | 0.83735 | ... | 0.25614 | 0.18299 | 0.22545 | 0.20645 | 0.24245 | 27.4124 |  92.8599 | 81.2144 | 61.5686 | 73.7697 |\n",
       "| 5 | sub-0593_1 | 244 | 44.63 | 1 | 0 | 0.66182 | 0.48806 | 0.27842 | 0.46336 | 0.80507 | ... | 0.23118 | 0.18738 | 0.19636 | 0.20306 | 0.20339 | 23.9605 |  83.5410 | 77.6834 | 67.6360 | 71.2309 |\n",
       "| 6 | sub-0736_1 | 311 | 53.59 | 0 | 0 | 0.69935 | 0.53171 | 0.44340 | 0.41766 | 0.73520 | ... | 0.23950 | 0.18346 | 0.23072 | 0.22404 | 0.22465 | 24.6117 |  79.3888 | 69.4498 | 56.2757 | 64.1842 |\n",
       "\n"
      ],
      "text/plain": [
       "  participant_id ID  Age   Sex Site GM_vol  WM_vol  CSF_vol GM_ICVRatio\n",
       "1 sub-0668_1     287 50.40 1   0    0.64252 0.48470 0.26711 0.46081    \n",
       "2 sub-0532_1     222 37.02 1   0    0.71890 0.59546 0.31236 0.44193    \n",
       "3 sub-0529_1     220 30.57 1   0    0.66610 0.45798 0.28326 0.47330    \n",
       "4 sub-0393_1     168 47.05 1   0    0.65366 0.50449 0.22497 0.47260    \n",
       "5 sub-0593_1     244 44.63 1   0    0.66182 0.48806 0.27842 0.46336    \n",
       "6 sub-0736_1     311 53.59 0   0    0.69935 0.53171 0.44340 0.41766    \n",
       "  GMWM_ICVRatio ... DeepWM_B_CoV ACA_B_CoV MCA_B_CoV PCA_B_CoV TotalGM_B_CoV\n",
       "1 0.80843       ... 0.26694      0.17747   0.20996   0.24951   0.24191      \n",
       "2 0.80798       ... 0.25342      0.17620   0.23222   0.21187   0.23518      \n",
       "3 0.79873       ... 0.27421      0.19233   0.20855   0.19810   0.21863      \n",
       "4 0.83735       ... 0.25614      0.18299   0.22545   0.20645   0.24245      \n",
       "5 0.80507       ... 0.23118      0.18738   0.19636   0.20306   0.20339      \n",
       "6 0.73520       ... 0.23950      0.18346   0.23072   0.22404   0.22465      \n",
       "  DeepWM_B_CBF ACA_B_CBF MCA_B_CBF PCA_B_CBF TotalGM_B_CBF\n",
       "1 24.9902       90.5294  80.9975   57.9326   72.1759      \n",
       "2 24.2061      101.2955  90.3336   67.8547   80.1958      \n",
       "3 26.5891      108.6481  99.6353   72.4565   87.2374      \n",
       "4 27.4124       92.8599  81.2144   61.5686   73.7697      \n",
       "5 23.9605       83.5410  77.6834   67.6360   71.2309      \n",
       "6 24.6117       79.3888  69.4498   56.2757   64.1842      "
      ]
     },
     "metadata": {},
     "output_type": "display_data"
    }
   ],
   "source": [
    "head(fused_dat)"
   ]
  },
  {
   "cell_type": "code",
   "execution_count": 17,
   "id": "0ea7a20a-2b4d-4eb3-8446-f79d39f05604",
   "metadata": {},
   "outputs": [
    {
     "data": {
      "text/html": [
       "<table class=\"dataframe\">\n",
       "<caption>A data.frame: 1107 × 5</caption>\n",
       "<thead>\n",
       "\t<tr><th scope=col>participant_id</th><th scope=col>ID</th><th scope=col>Age</th><th scope=col>Sex</th><th scope=col>Site</th></tr>\n",
       "\t<tr><th scope=col>&lt;chr&gt;</th><th scope=col>&lt;int&gt;</th><th scope=col>&lt;dbl&gt;</th><th scope=col>&lt;int&gt;</th><th scope=col>&lt;dbl&gt;</th></tr>\n",
       "</thead>\n",
       "<tbody>\n",
       "\t<tr><td>sub-0668_1</td><td>287</td><td>50.40</td><td>1</td><td>0</td></tr>\n",
       "\t<tr><td>sub-0532_1</td><td>222</td><td>37.02</td><td>1</td><td>0</td></tr>\n",
       "\t<tr><td>sub-0529_1</td><td>220</td><td>30.57</td><td>1</td><td>0</td></tr>\n",
       "\t<tr><td>sub-0393_1</td><td>168</td><td>47.05</td><td>1</td><td>0</td></tr>\n",
       "\t<tr><td>sub-0593_1</td><td>244</td><td>44.63</td><td>1</td><td>0</td></tr>\n",
       "\t<tr><td>sub-0736_1</td><td>311</td><td>53.59</td><td>0</td><td>0</td></tr>\n",
       "\t<tr><td>sub-0847_1</td><td>349</td><td>36.08</td><td>0</td><td>0</td></tr>\n",
       "\t<tr><td>sub-0205_1</td><td> 78</td><td>28.74</td><td>0</td><td>0</td></tr>\n",
       "\t<tr><td>sub-0340_1</td><td>143</td><td>46.76</td><td>0</td><td>0</td></tr>\n",
       "\t<tr><td>sub-1119_1</td><td>499</td><td>35.95</td><td>0</td><td>0</td></tr>\n",
       "\t<tr><td>sub-0128_1</td><td> 52</td><td>26.95</td><td>1</td><td>0</td></tr>\n",
       "\t<tr><td>sub-0373_1</td><td>156</td><td>48.92</td><td>0</td><td>0</td></tr>\n",
       "\t<tr><td>sub-0748_1</td><td>317</td><td>43.81</td><td>0</td><td>0</td></tr>\n",
       "\t<tr><td>sub-0573_1</td><td>239</td><td>51.24</td><td>1</td><td>0</td></tr>\n",
       "\t<tr><td>sub-1020_1</td><td>429</td><td>31.84</td><td>0</td><td>0</td></tr>\n",
       "\t<tr><td>sub-0634_1</td><td>265</td><td>34.56</td><td>1</td><td>0</td></tr>\n",
       "\t<tr><td>sub-1073_1</td><td>466</td><td>38.08</td><td>1</td><td>0</td></tr>\n",
       "\t<tr><td>sub-0649_1</td><td>274</td><td>37.16</td><td>1</td><td>0</td></tr>\n",
       "\t<tr><td>sub-0332_1</td><td>140</td><td>20.75</td><td>0</td><td>0</td></tr>\n",
       "\t<tr><td>sub-1106_1</td><td>490</td><td>23.01</td><td>0</td><td>0</td></tr>\n",
       "\t<tr><td>sub-1021_1</td><td>430</td><td>30.94</td><td>0</td><td>0</td></tr>\n",
       "\t<tr><td>sub-0361_1</td><td>153</td><td>31.47</td><td>0</td><td>0</td></tr>\n",
       "\t<tr><td>sub-0362_1</td><td>154</td><td>39.36</td><td>1</td><td>0</td></tr>\n",
       "\t<tr><td>sub-0762_1</td><td>321</td><td>39.44</td><td>1</td><td>0</td></tr>\n",
       "\t<tr><td>sub-0809_1</td><td>331</td><td>43.24</td><td>1</td><td>0</td></tr>\n",
       "\t<tr><td>sub-0185_1</td><td> 73</td><td>25.39</td><td>1</td><td>0</td></tr>\n",
       "\t<tr><td>sub-0898_1</td><td>384</td><td>24.94</td><td>1</td><td>0</td></tr>\n",
       "\t<tr><td>sub-0977_1</td><td>410</td><td>50.52</td><td>0</td><td>0</td></tr>\n",
       "\t<tr><td>sub-0857_1</td><td>355</td><td>57.39</td><td>0</td><td>0</td></tr>\n",
       "\t<tr><td>sub-0250_1</td><td> 94</td><td>27.73</td><td>0</td><td>0</td></tr>\n",
       "\t<tr><td>...</td><td>...</td><td>...</td><td>...</td><td>...</td></tr>\n",
       "\t<tr><td>sub-5942801_1</td><td>568</td><td>67.01644</td><td>1</td><td>1</td></tr>\n",
       "\t<tr><td>sub-5929501_1</td><td>358</td><td>83.24384</td><td>0</td><td>1</td></tr>\n",
       "\t<tr><td>sub-5913402_1</td><td> 86</td><td>50.18082</td><td>1</td><td>1</td></tr>\n",
       "\t<tr><td>sub-5943401_1</td><td>575</td><td>67.51507</td><td>1</td><td>1</td></tr>\n",
       "\t<tr><td>sub-5929701_1</td><td>362</td><td>67.26575</td><td>1</td><td>1</td></tr>\n",
       "\t<tr><td>sub-5925401_1</td><td>288</td><td>30.78356</td><td>0</td><td>1</td></tr>\n",
       "\t<tr><td>sub-5922902_1</td><td>248</td><td>60.24932</td><td>0</td><td>1</td></tr>\n",
       "\t<tr><td>sub-5936501_1</td><td>471</td><td>68.17534</td><td>1</td><td>1</td></tr>\n",
       "\t<tr><td>sub-5921601_1</td><td>225</td><td>72.77056</td><td>1</td><td>1</td></tr>\n",
       "\t<tr><td>sub-5926601_1</td><td>309</td><td>25.56557</td><td>1</td><td>1</td></tr>\n",
       "\t<tr><td>sub-5938102_1</td><td>500</td><td>61.97218</td><td>1</td><td>1</td></tr>\n",
       "\t<tr><td>sub-5916001_1</td><td>133</td><td>52.84579</td><td>0</td><td>1</td></tr>\n",
       "\t<tr><td>sub-5914201_1</td><td>100</td><td>46.17761</td><td>1</td><td>1</td></tr>\n",
       "\t<tr><td>sub-5931102_1</td><td>383</td><td>80.68493</td><td>0</td><td>1</td></tr>\n",
       "\t<tr><td>sub-5936301_1</td><td>467</td><td>62.93699</td><td>1</td><td>1</td></tr>\n",
       "\t<tr><td>sub-5938202_1</td><td>502</td><td>68.22740</td><td>1</td><td>1</td></tr>\n",
       "\t<tr><td>sub-5938802_1</td><td>512</td><td>75.18356</td><td>0</td><td>1</td></tr>\n",
       "\t<tr><td>sub-5935701_1</td><td>458</td><td>57.22466</td><td>1</td><td>1</td></tr>\n",
       "\t<tr><td>sub-5942802_1</td><td>569</td><td>68.13425</td><td>1</td><td>1</td></tr>\n",
       "\t<tr><td>sub-5919801_1</td><td>197</td><td>49.39071</td><td>1</td><td>1</td></tr>\n",
       "\t<tr><td>sub-5929602_1</td><td>361</td><td>45.28493</td><td>1</td><td>1</td></tr>\n",
       "\t<tr><td>sub-5941102_1</td><td>547</td><td>73.42466</td><td>1</td><td>1</td></tr>\n",
       "\t<tr><td>sub-5928202_1</td><td>337</td><td>33.32877</td><td>0</td><td>1</td></tr>\n",
       "\t<tr><td>sub-5919401_1</td><td>190</td><td>70.09836</td><td>1</td><td>1</td></tr>\n",
       "\t<tr><td>sub-5929802_1</td><td>364</td><td>59.03836</td><td>0</td><td>1</td></tr>\n",
       "\t<tr><td>sub-5928501_1</td><td>342</td><td>67.17808</td><td>1</td><td>1</td></tr>\n",
       "\t<tr><td>sub-5910502_1</td><td> 37</td><td>67.79452</td><td>1</td><td>1</td></tr>\n",
       "\t<tr><td>sub-5931002_1</td><td>381</td><td>54.76986</td><td>0</td><td>1</td></tr>\n",
       "\t<tr><td>sub-5925701_1</td><td>294</td><td>66.63934</td><td>1</td><td>1</td></tr>\n",
       "\t<tr><td>sub-5934201_1</td><td>436</td><td>45.33699</td><td>1</td><td>1</td></tr>\n",
       "</tbody>\n",
       "</table>\n"
      ],
      "text/latex": [
       "A data.frame: 1107 × 5\n",
       "\\begin{tabular}{lllll}\n",
       " participant\\_id & ID & Age & Sex & Site\\\\\n",
       " <chr> & <int> & <dbl> & <int> & <dbl>\\\\\n",
       "\\hline\n",
       "\t sub-0668\\_1 & 287 & 50.40 & 1 & 0\\\\\n",
       "\t sub-0532\\_1 & 222 & 37.02 & 1 & 0\\\\\n",
       "\t sub-0529\\_1 & 220 & 30.57 & 1 & 0\\\\\n",
       "\t sub-0393\\_1 & 168 & 47.05 & 1 & 0\\\\\n",
       "\t sub-0593\\_1 & 244 & 44.63 & 1 & 0\\\\\n",
       "\t sub-0736\\_1 & 311 & 53.59 & 0 & 0\\\\\n",
       "\t sub-0847\\_1 & 349 & 36.08 & 0 & 0\\\\\n",
       "\t sub-0205\\_1 &  78 & 28.74 & 0 & 0\\\\\n",
       "\t sub-0340\\_1 & 143 & 46.76 & 0 & 0\\\\\n",
       "\t sub-1119\\_1 & 499 & 35.95 & 0 & 0\\\\\n",
       "\t sub-0128\\_1 &  52 & 26.95 & 1 & 0\\\\\n",
       "\t sub-0373\\_1 & 156 & 48.92 & 0 & 0\\\\\n",
       "\t sub-0748\\_1 & 317 & 43.81 & 0 & 0\\\\\n",
       "\t sub-0573\\_1 & 239 & 51.24 & 1 & 0\\\\\n",
       "\t sub-1020\\_1 & 429 & 31.84 & 0 & 0\\\\\n",
       "\t sub-0634\\_1 & 265 & 34.56 & 1 & 0\\\\\n",
       "\t sub-1073\\_1 & 466 & 38.08 & 1 & 0\\\\\n",
       "\t sub-0649\\_1 & 274 & 37.16 & 1 & 0\\\\\n",
       "\t sub-0332\\_1 & 140 & 20.75 & 0 & 0\\\\\n",
       "\t sub-1106\\_1 & 490 & 23.01 & 0 & 0\\\\\n",
       "\t sub-1021\\_1 & 430 & 30.94 & 0 & 0\\\\\n",
       "\t sub-0361\\_1 & 153 & 31.47 & 0 & 0\\\\\n",
       "\t sub-0362\\_1 & 154 & 39.36 & 1 & 0\\\\\n",
       "\t sub-0762\\_1 & 321 & 39.44 & 1 & 0\\\\\n",
       "\t sub-0809\\_1 & 331 & 43.24 & 1 & 0\\\\\n",
       "\t sub-0185\\_1 &  73 & 25.39 & 1 & 0\\\\\n",
       "\t sub-0898\\_1 & 384 & 24.94 & 1 & 0\\\\\n",
       "\t sub-0977\\_1 & 410 & 50.52 & 0 & 0\\\\\n",
       "\t sub-0857\\_1 & 355 & 57.39 & 0 & 0\\\\\n",
       "\t sub-0250\\_1 &  94 & 27.73 & 0 & 0\\\\\n",
       "\t ... & ... & ... & ... & ...\\\\\n",
       "\t sub-5942801\\_1 & 568 & 67.01644 & 1 & 1\\\\\n",
       "\t sub-5929501\\_1 & 358 & 83.24384 & 0 & 1\\\\\n",
       "\t sub-5913402\\_1 &  86 & 50.18082 & 1 & 1\\\\\n",
       "\t sub-5943401\\_1 & 575 & 67.51507 & 1 & 1\\\\\n",
       "\t sub-5929701\\_1 & 362 & 67.26575 & 1 & 1\\\\\n",
       "\t sub-5925401\\_1 & 288 & 30.78356 & 0 & 1\\\\\n",
       "\t sub-5922902\\_1 & 248 & 60.24932 & 0 & 1\\\\\n",
       "\t sub-5936501\\_1 & 471 & 68.17534 & 1 & 1\\\\\n",
       "\t sub-5921601\\_1 & 225 & 72.77056 & 1 & 1\\\\\n",
       "\t sub-5926601\\_1 & 309 & 25.56557 & 1 & 1\\\\\n",
       "\t sub-5938102\\_1 & 500 & 61.97218 & 1 & 1\\\\\n",
       "\t sub-5916001\\_1 & 133 & 52.84579 & 0 & 1\\\\\n",
       "\t sub-5914201\\_1 & 100 & 46.17761 & 1 & 1\\\\\n",
       "\t sub-5931102\\_1 & 383 & 80.68493 & 0 & 1\\\\\n",
       "\t sub-5936301\\_1 & 467 & 62.93699 & 1 & 1\\\\\n",
       "\t sub-5938202\\_1 & 502 & 68.22740 & 1 & 1\\\\\n",
       "\t sub-5938802\\_1 & 512 & 75.18356 & 0 & 1\\\\\n",
       "\t sub-5935701\\_1 & 458 & 57.22466 & 1 & 1\\\\\n",
       "\t sub-5942802\\_1 & 569 & 68.13425 & 1 & 1\\\\\n",
       "\t sub-5919801\\_1 & 197 & 49.39071 & 1 & 1\\\\\n",
       "\t sub-5929602\\_1 & 361 & 45.28493 & 1 & 1\\\\\n",
       "\t sub-5941102\\_1 & 547 & 73.42466 & 1 & 1\\\\\n",
       "\t sub-5928202\\_1 & 337 & 33.32877 & 0 & 1\\\\\n",
       "\t sub-5919401\\_1 & 190 & 70.09836 & 1 & 1\\\\\n",
       "\t sub-5929802\\_1 & 364 & 59.03836 & 0 & 1\\\\\n",
       "\t sub-5928501\\_1 & 342 & 67.17808 & 1 & 1\\\\\n",
       "\t sub-5910502\\_1 &  37 & 67.79452 & 1 & 1\\\\\n",
       "\t sub-5931002\\_1 & 381 & 54.76986 & 0 & 1\\\\\n",
       "\t sub-5925701\\_1 & 294 & 66.63934 & 1 & 1\\\\\n",
       "\t sub-5934201\\_1 & 436 & 45.33699 & 1 & 1\\\\\n",
       "\\end{tabular}\n"
      ],
      "text/markdown": [
       "\n",
       "A data.frame: 1107 × 5\n",
       "\n",
       "| participant_id &lt;chr&gt; | ID &lt;int&gt; | Age &lt;dbl&gt; | Sex &lt;int&gt; | Site &lt;dbl&gt; |\n",
       "|---|---|---|---|---|\n",
       "| sub-0668_1 | 287 | 50.40 | 1 | 0 |\n",
       "| sub-0532_1 | 222 | 37.02 | 1 | 0 |\n",
       "| sub-0529_1 | 220 | 30.57 | 1 | 0 |\n",
       "| sub-0393_1 | 168 | 47.05 | 1 | 0 |\n",
       "| sub-0593_1 | 244 | 44.63 | 1 | 0 |\n",
       "| sub-0736_1 | 311 | 53.59 | 0 | 0 |\n",
       "| sub-0847_1 | 349 | 36.08 | 0 | 0 |\n",
       "| sub-0205_1 |  78 | 28.74 | 0 | 0 |\n",
       "| sub-0340_1 | 143 | 46.76 | 0 | 0 |\n",
       "| sub-1119_1 | 499 | 35.95 | 0 | 0 |\n",
       "| sub-0128_1 |  52 | 26.95 | 1 | 0 |\n",
       "| sub-0373_1 | 156 | 48.92 | 0 | 0 |\n",
       "| sub-0748_1 | 317 | 43.81 | 0 | 0 |\n",
       "| sub-0573_1 | 239 | 51.24 | 1 | 0 |\n",
       "| sub-1020_1 | 429 | 31.84 | 0 | 0 |\n",
       "| sub-0634_1 | 265 | 34.56 | 1 | 0 |\n",
       "| sub-1073_1 | 466 | 38.08 | 1 | 0 |\n",
       "| sub-0649_1 | 274 | 37.16 | 1 | 0 |\n",
       "| sub-0332_1 | 140 | 20.75 | 0 | 0 |\n",
       "| sub-1106_1 | 490 | 23.01 | 0 | 0 |\n",
       "| sub-1021_1 | 430 | 30.94 | 0 | 0 |\n",
       "| sub-0361_1 | 153 | 31.47 | 0 | 0 |\n",
       "| sub-0362_1 | 154 | 39.36 | 1 | 0 |\n",
       "| sub-0762_1 | 321 | 39.44 | 1 | 0 |\n",
       "| sub-0809_1 | 331 | 43.24 | 1 | 0 |\n",
       "| sub-0185_1 |  73 | 25.39 | 1 | 0 |\n",
       "| sub-0898_1 | 384 | 24.94 | 1 | 0 |\n",
       "| sub-0977_1 | 410 | 50.52 | 0 | 0 |\n",
       "| sub-0857_1 | 355 | 57.39 | 0 | 0 |\n",
       "| sub-0250_1 |  94 | 27.73 | 0 | 0 |\n",
       "| ... | ... | ... | ... | ... |\n",
       "| sub-5942801_1 | 568 | 67.01644 | 1 | 1 |\n",
       "| sub-5929501_1 | 358 | 83.24384 | 0 | 1 |\n",
       "| sub-5913402_1 |  86 | 50.18082 | 1 | 1 |\n",
       "| sub-5943401_1 | 575 | 67.51507 | 1 | 1 |\n",
       "| sub-5929701_1 | 362 | 67.26575 | 1 | 1 |\n",
       "| sub-5925401_1 | 288 | 30.78356 | 0 | 1 |\n",
       "| sub-5922902_1 | 248 | 60.24932 | 0 | 1 |\n",
       "| sub-5936501_1 | 471 | 68.17534 | 1 | 1 |\n",
       "| sub-5921601_1 | 225 | 72.77056 | 1 | 1 |\n",
       "| sub-5926601_1 | 309 | 25.56557 | 1 | 1 |\n",
       "| sub-5938102_1 | 500 | 61.97218 | 1 | 1 |\n",
       "| sub-5916001_1 | 133 | 52.84579 | 0 | 1 |\n",
       "| sub-5914201_1 | 100 | 46.17761 | 1 | 1 |\n",
       "| sub-5931102_1 | 383 | 80.68493 | 0 | 1 |\n",
       "| sub-5936301_1 | 467 | 62.93699 | 1 | 1 |\n",
       "| sub-5938202_1 | 502 | 68.22740 | 1 | 1 |\n",
       "| sub-5938802_1 | 512 | 75.18356 | 0 | 1 |\n",
       "| sub-5935701_1 | 458 | 57.22466 | 1 | 1 |\n",
       "| sub-5942802_1 | 569 | 68.13425 | 1 | 1 |\n",
       "| sub-5919801_1 | 197 | 49.39071 | 1 | 1 |\n",
       "| sub-5929602_1 | 361 | 45.28493 | 1 | 1 |\n",
       "| sub-5941102_1 | 547 | 73.42466 | 1 | 1 |\n",
       "| sub-5928202_1 | 337 | 33.32877 | 0 | 1 |\n",
       "| sub-5919401_1 | 190 | 70.09836 | 1 | 1 |\n",
       "| sub-5929802_1 | 364 | 59.03836 | 0 | 1 |\n",
       "| sub-5928501_1 | 342 | 67.17808 | 1 | 1 |\n",
       "| sub-5910502_1 |  37 | 67.79452 | 1 | 1 |\n",
       "| sub-5931002_1 | 381 | 54.76986 | 0 | 1 |\n",
       "| sub-5925701_1 | 294 | 66.63934 | 1 | 1 |\n",
       "| sub-5934201_1 | 436 | 45.33699 | 1 | 1 |\n",
       "\n"
      ],
      "text/plain": [
       "     participant_id ID  Age      Sex Site\n",
       "1    sub-0668_1     287 50.40    1   0   \n",
       "2    sub-0532_1     222 37.02    1   0   \n",
       "3    sub-0529_1     220 30.57    1   0   \n",
       "4    sub-0393_1     168 47.05    1   0   \n",
       "5    sub-0593_1     244 44.63    1   0   \n",
       "6    sub-0736_1     311 53.59    0   0   \n",
       "7    sub-0847_1     349 36.08    0   0   \n",
       "8    sub-0205_1      78 28.74    0   0   \n",
       "9    sub-0340_1     143 46.76    0   0   \n",
       "10   sub-1119_1     499 35.95    0   0   \n",
       "11   sub-0128_1      52 26.95    1   0   \n",
       "12   sub-0373_1     156 48.92    0   0   \n",
       "13   sub-0748_1     317 43.81    0   0   \n",
       "14   sub-0573_1     239 51.24    1   0   \n",
       "15   sub-1020_1     429 31.84    0   0   \n",
       "16   sub-0634_1     265 34.56    1   0   \n",
       "17   sub-1073_1     466 38.08    1   0   \n",
       "18   sub-0649_1     274 37.16    1   0   \n",
       "19   sub-0332_1     140 20.75    0   0   \n",
       "20   sub-1106_1     490 23.01    0   0   \n",
       "21   sub-1021_1     430 30.94    0   0   \n",
       "22   sub-0361_1     153 31.47    0   0   \n",
       "23   sub-0362_1     154 39.36    1   0   \n",
       "24   sub-0762_1     321 39.44    1   0   \n",
       "25   sub-0809_1     331 43.24    1   0   \n",
       "26   sub-0185_1      73 25.39    1   0   \n",
       "27   sub-0898_1     384 24.94    1   0   \n",
       "28   sub-0977_1     410 50.52    0   0   \n",
       "29   sub-0857_1     355 57.39    0   0   \n",
       "30   sub-0250_1      94 27.73    0   0   \n",
       "...  ...            ... ...      ... ... \n",
       "1078 sub-5942801_1  568 67.01644 1   1   \n",
       "1079 sub-5929501_1  358 83.24384 0   1   \n",
       "1080 sub-5913402_1   86 50.18082 1   1   \n",
       "1081 sub-5943401_1  575 67.51507 1   1   \n",
       "1082 sub-5929701_1  362 67.26575 1   1   \n",
       "1083 sub-5925401_1  288 30.78356 0   1   \n",
       "1084 sub-5922902_1  248 60.24932 0   1   \n",
       "1085 sub-5936501_1  471 68.17534 1   1   \n",
       "1086 sub-5921601_1  225 72.77056 1   1   \n",
       "1087 sub-5926601_1  309 25.56557 1   1   \n",
       "1088 sub-5938102_1  500 61.97218 1   1   \n",
       "1089 sub-5916001_1  133 52.84579 0   1   \n",
       "1090 sub-5914201_1  100 46.17761 1   1   \n",
       "1091 sub-5931102_1  383 80.68493 0   1   \n",
       "1092 sub-5936301_1  467 62.93699 1   1   \n",
       "1093 sub-5938202_1  502 68.22740 1   1   \n",
       "1094 sub-5938802_1  512 75.18356 0   1   \n",
       "1095 sub-5935701_1  458 57.22466 1   1   \n",
       "1096 sub-5942802_1  569 68.13425 1   1   \n",
       "1097 sub-5919801_1  197 49.39071 1   1   \n",
       "1098 sub-5929602_1  361 45.28493 1   1   \n",
       "1099 sub-5941102_1  547 73.42466 1   1   \n",
       "1100 sub-5928202_1  337 33.32877 0   1   \n",
       "1101 sub-5919401_1  190 70.09836 1   1   \n",
       "1102 sub-5929802_1  364 59.03836 0   1   \n",
       "1103 sub-5928501_1  342 67.17808 1   1   \n",
       "1104 sub-5910502_1   37 67.79452 1   1   \n",
       "1105 sub-5931002_1  381 54.76986 0   1   \n",
       "1106 sub-5925701_1  294 66.63934 1   1   \n",
       "1107 sub-5934201_1  436 45.33699 1   1   "
      ]
     },
     "metadata": {},
     "output_type": "display_data"
    }
   ],
   "source": [
    "fused_dat_front <- fused_dat[c(1:5)]\n",
    "fused_dat_front "
   ]
  },
  {
   "cell_type": "code",
   "execution_count": 18,
   "id": "ef0cc40f-6842-4343-a04c-63bbf8e370bf",
   "metadata": {},
   "outputs": [
    {
     "data": {
      "text/html": [
       "<table class=\"dataframe\">\n",
       "<caption>A matrix: 6 × 17 of type dbl</caption>\n",
       "<thead>\n",
       "\t<tr><th scope=col>GM_vol</th><th scope=col>WM_vol</th><th scope=col>CSF_vol</th><th scope=col>GM_ICVRatio</th><th scope=col>GMWM_ICVRatio</th><th scope=col>WMHvol_WMvol</th><th scope=col>WMH_count</th><th scope=col>DeepWM_B_CoV</th><th scope=col>ACA_B_CoV</th><th scope=col>MCA_B_CoV</th><th scope=col>PCA_B_CoV</th><th scope=col>TotalGM_B_CoV</th><th scope=col>DeepWM_B_CBF</th><th scope=col>ACA_B_CBF</th><th scope=col>MCA_B_CBF</th><th scope=col>PCA_B_CBF</th><th scope=col>TotalGM_B_CBF</th></tr>\n",
       "</thead>\n",
       "<tbody>\n",
       "\t<tr><td>0.6441125</td><td>0.4858536</td><td>0.2643043</td><td>0.4618047</td><td>0.8107313</td><td>-0.001403545</td><td>16.78808</td><td>0.2692293</td><td>0.1777865</td><td>0.2125135</td><td>0.2585771</td><td>0.2476614</td><td>25.19656</td><td> 90.14298</td><td>80.43099</td><td>58.71188</td><td>71.92882</td></tr>\n",
       "\t<tr><td>0.7188706</td><td>0.5949008</td><td>0.3185373</td><td>0.4418336</td><td>0.8080333</td><td> 0.005060728</td><td>26.01276</td><td>0.2551045</td><td>0.1768259</td><td>0.2390432</td><td>0.2140798</td><td>0.2404949</td><td>24.48333</td><td>100.13208</td><td>89.08204</td><td>67.73530</td><td>79.45727</td></tr>\n",
       "\t<tr><td>0.6691610</td><td>0.4598505</td><td>0.2889560</td><td>0.4736719</td><td>0.7970810</td><td> 0.015829116</td><td>21.35556</td><td>0.2764979</td><td>0.1966736</td><td>0.2105830</td><td>0.1979906</td><td>0.2202788</td><td>26.14109</td><td>106.82625</td><td>97.27421</td><td>71.92960</td><td>85.74407</td></tr>\n",
       "\t<tr><td>0.6551914</td><td>0.5053502</td><td>0.2193601</td><td>0.4737273</td><td>0.8410769</td><td> 0.005656065</td><td>29.00141</td><td>0.2580349</td><td>0.1846283</td><td>0.2310467</td><td>0.2062162</td><td>0.2486700</td><td>26.91629</td><td> 92.32685</td><td>80.82058</td><td>61.95945</td><td>73.46712</td></tr>\n",
       "\t<tr><td>0.6633024</td><td>0.4892323</td><td>0.2787128</td><td>0.4641468</td><td>0.8061850</td><td> 0.005813374</td><td>39.80354</td><td>0.2322276</td><td>0.1900590</td><td>0.1961363</td><td>0.2023566</td><td>0.1997030</td><td>24.38764</td><td> 84.34623</td><td>78.01291</td><td>67.25803</td><td>71.49006</td></tr>\n",
       "\t<tr><td>0.7007976</td><td>0.5331290</td><td>0.4500379</td><td>0.4180754</td><td>0.7339382</td><td>-0.006714054</td><td>37.71562</td><td>0.2405922</td><td>0.1813356</td><td>0.2353617</td><td>0.2271615</td><td>0.2221804</td><td>24.88325</td><td> 79.63703</td><td>69.87538</td><td>56.35080</td><td>64.25409</td></tr>\n",
       "</tbody>\n",
       "</table>\n"
      ],
      "text/latex": [
       "A matrix: 6 × 17 of type dbl\n",
       "\\begin{tabular}{lllllllllllllllll}\n",
       " GM\\_vol & WM\\_vol & CSF\\_vol & GM\\_ICVRatio & GMWM\\_ICVRatio & WMHvol\\_WMvol & WMH\\_count & DeepWM\\_B\\_CoV & ACA\\_B\\_CoV & MCA\\_B\\_CoV & PCA\\_B\\_CoV & TotalGM\\_B\\_CoV & DeepWM\\_B\\_CBF & ACA\\_B\\_CBF & MCA\\_B\\_CBF & PCA\\_B\\_CBF & TotalGM\\_B\\_CBF\\\\\n",
       "\\hline\n",
       "\t 0.6441125 & 0.4858536 & 0.2643043 & 0.4618047 & 0.8107313 & -0.001403545 & 16.78808 & 0.2692293 & 0.1777865 & 0.2125135 & 0.2585771 & 0.2476614 & 25.19656 &  90.14298 & 80.43099 & 58.71188 & 71.92882\\\\\n",
       "\t 0.7188706 & 0.5949008 & 0.3185373 & 0.4418336 & 0.8080333 &  0.005060728 & 26.01276 & 0.2551045 & 0.1768259 & 0.2390432 & 0.2140798 & 0.2404949 & 24.48333 & 100.13208 & 89.08204 & 67.73530 & 79.45727\\\\\n",
       "\t 0.6691610 & 0.4598505 & 0.2889560 & 0.4736719 & 0.7970810 &  0.015829116 & 21.35556 & 0.2764979 & 0.1966736 & 0.2105830 & 0.1979906 & 0.2202788 & 26.14109 & 106.82625 & 97.27421 & 71.92960 & 85.74407\\\\\n",
       "\t 0.6551914 & 0.5053502 & 0.2193601 & 0.4737273 & 0.8410769 &  0.005656065 & 29.00141 & 0.2580349 & 0.1846283 & 0.2310467 & 0.2062162 & 0.2486700 & 26.91629 &  92.32685 & 80.82058 & 61.95945 & 73.46712\\\\\n",
       "\t 0.6633024 & 0.4892323 & 0.2787128 & 0.4641468 & 0.8061850 &  0.005813374 & 39.80354 & 0.2322276 & 0.1900590 & 0.1961363 & 0.2023566 & 0.1997030 & 24.38764 &  84.34623 & 78.01291 & 67.25803 & 71.49006\\\\\n",
       "\t 0.7007976 & 0.5331290 & 0.4500379 & 0.4180754 & 0.7339382 & -0.006714054 & 37.71562 & 0.2405922 & 0.1813356 & 0.2353617 & 0.2271615 & 0.2221804 & 24.88325 &  79.63703 & 69.87538 & 56.35080 & 64.25409\\\\\n",
       "\\end{tabular}\n"
      ],
      "text/markdown": [
       "\n",
       "A matrix: 6 × 17 of type dbl\n",
       "\n",
       "| GM_vol | WM_vol | CSF_vol | GM_ICVRatio | GMWM_ICVRatio | WMHvol_WMvol | WMH_count | DeepWM_B_CoV | ACA_B_CoV | MCA_B_CoV | PCA_B_CoV | TotalGM_B_CoV | DeepWM_B_CBF | ACA_B_CBF | MCA_B_CBF | PCA_B_CBF | TotalGM_B_CBF |\n",
       "|---|---|---|---|---|---|---|---|---|---|---|---|---|---|---|---|---|\n",
       "| 0.6441125 | 0.4858536 | 0.2643043 | 0.4618047 | 0.8107313 | -0.001403545 | 16.78808 | 0.2692293 | 0.1777865 | 0.2125135 | 0.2585771 | 0.2476614 | 25.19656 |  90.14298 | 80.43099 | 58.71188 | 71.92882 |\n",
       "| 0.7188706 | 0.5949008 | 0.3185373 | 0.4418336 | 0.8080333 |  0.005060728 | 26.01276 | 0.2551045 | 0.1768259 | 0.2390432 | 0.2140798 | 0.2404949 | 24.48333 | 100.13208 | 89.08204 | 67.73530 | 79.45727 |\n",
       "| 0.6691610 | 0.4598505 | 0.2889560 | 0.4736719 | 0.7970810 |  0.015829116 | 21.35556 | 0.2764979 | 0.1966736 | 0.2105830 | 0.1979906 | 0.2202788 | 26.14109 | 106.82625 | 97.27421 | 71.92960 | 85.74407 |\n",
       "| 0.6551914 | 0.5053502 | 0.2193601 | 0.4737273 | 0.8410769 |  0.005656065 | 29.00141 | 0.2580349 | 0.1846283 | 0.2310467 | 0.2062162 | 0.2486700 | 26.91629 |  92.32685 | 80.82058 | 61.95945 | 73.46712 |\n",
       "| 0.6633024 | 0.4892323 | 0.2787128 | 0.4641468 | 0.8061850 |  0.005813374 | 39.80354 | 0.2322276 | 0.1900590 | 0.1961363 | 0.2023566 | 0.1997030 | 24.38764 |  84.34623 | 78.01291 | 67.25803 | 71.49006 |\n",
       "| 0.7007976 | 0.5331290 | 0.4500379 | 0.4180754 | 0.7339382 | -0.006714054 | 37.71562 | 0.2405922 | 0.1813356 | 0.2353617 | 0.2271615 | 0.2221804 | 24.88325 |  79.63703 | 69.87538 | 56.35080 | 64.25409 |\n",
       "\n"
      ],
      "text/plain": [
       "     GM_vol    WM_vol    CSF_vol   GM_ICVRatio GMWM_ICVRatio WMHvol_WMvol\n",
       "[1,] 0.6441125 0.4858536 0.2643043 0.4618047   0.8107313     -0.001403545\n",
       "[2,] 0.7188706 0.5949008 0.3185373 0.4418336   0.8080333      0.005060728\n",
       "[3,] 0.6691610 0.4598505 0.2889560 0.4736719   0.7970810      0.015829116\n",
       "[4,] 0.6551914 0.5053502 0.2193601 0.4737273   0.8410769      0.005656065\n",
       "[5,] 0.6633024 0.4892323 0.2787128 0.4641468   0.8061850      0.005813374\n",
       "[6,] 0.7007976 0.5331290 0.4500379 0.4180754   0.7339382     -0.006714054\n",
       "     WMH_count DeepWM_B_CoV ACA_B_CoV MCA_B_CoV PCA_B_CoV TotalGM_B_CoV\n",
       "[1,] 16.78808  0.2692293    0.1777865 0.2125135 0.2585771 0.2476614    \n",
       "[2,] 26.01276  0.2551045    0.1768259 0.2390432 0.2140798 0.2404949    \n",
       "[3,] 21.35556  0.2764979    0.1966736 0.2105830 0.1979906 0.2202788    \n",
       "[4,] 29.00141  0.2580349    0.1846283 0.2310467 0.2062162 0.2486700    \n",
       "[5,] 39.80354  0.2322276    0.1900590 0.1961363 0.2023566 0.1997030    \n",
       "[6,] 37.71562  0.2405922    0.1813356 0.2353617 0.2271615 0.2221804    \n",
       "     DeepWM_B_CBF ACA_B_CBF MCA_B_CBF PCA_B_CBF TotalGM_B_CBF\n",
       "[1,] 25.19656      90.14298 80.43099  58.71188  71.92882     \n",
       "[2,] 24.48333     100.13208 89.08204  67.73530  79.45727     \n",
       "[3,] 26.14109     106.82625 97.27421  71.92960  85.74407     \n",
       "[4,] 26.91629      92.32685 80.82058  61.95945  73.46712     \n",
       "[5,] 24.38764      84.34623 78.01291  67.25803  71.49006     \n",
       "[6,] 24.88325      79.63703 69.87538  56.35080  64.25409     "
      ]
     },
     "metadata": {},
     "output_type": "display_data"
    }
   ],
   "source": [
    "rollback <- t(new_df)\n",
    "head(rollback)\n"
   ]
  },
  {
   "cell_type": "code",
   "execution_count": 19,
   "id": "0edb5f63-fb1c-4b71-a416-791fa4006acd",
   "metadata": {},
   "outputs": [],
   "source": [
    "harmonized_set <- cbind(fused_dat_front, rollback)"
   ]
  },
  {
   "cell_type": "code",
   "execution_count": 20,
   "id": "bc848770-2211-4d7f-8ac6-47aec4788791",
   "metadata": {},
   "outputs": [
    {
     "data": {
      "text/html": [
       "<table class=\"dataframe\">\n",
       "<caption>A data.frame: 6 × 22</caption>\n",
       "<thead>\n",
       "\t<tr><th></th><th scope=col>participant_id</th><th scope=col>ID</th><th scope=col>Age</th><th scope=col>Sex</th><th scope=col>Site</th><th scope=col>GM_vol</th><th scope=col>WM_vol</th><th scope=col>CSF_vol</th><th scope=col>GM_ICVRatio</th><th scope=col>GMWM_ICVRatio</th><th scope=col>...</th><th scope=col>DeepWM_B_CoV</th><th scope=col>ACA_B_CoV</th><th scope=col>MCA_B_CoV</th><th scope=col>PCA_B_CoV</th><th scope=col>TotalGM_B_CoV</th><th scope=col>DeepWM_B_CBF</th><th scope=col>ACA_B_CBF</th><th scope=col>MCA_B_CBF</th><th scope=col>PCA_B_CBF</th><th scope=col>TotalGM_B_CBF</th></tr>\n",
       "\t<tr><th></th><th scope=col>&lt;chr&gt;</th><th scope=col>&lt;int&gt;</th><th scope=col>&lt;dbl&gt;</th><th scope=col>&lt;int&gt;</th><th scope=col>&lt;dbl&gt;</th><th scope=col>&lt;dbl&gt;</th><th scope=col>&lt;dbl&gt;</th><th scope=col>&lt;dbl&gt;</th><th scope=col>&lt;dbl&gt;</th><th scope=col>&lt;dbl&gt;</th><th scope=col>...</th><th scope=col>&lt;dbl&gt;</th><th scope=col>&lt;dbl&gt;</th><th scope=col>&lt;dbl&gt;</th><th scope=col>&lt;dbl&gt;</th><th scope=col>&lt;dbl&gt;</th><th scope=col>&lt;dbl&gt;</th><th scope=col>&lt;dbl&gt;</th><th scope=col>&lt;dbl&gt;</th><th scope=col>&lt;dbl&gt;</th><th scope=col>&lt;dbl&gt;</th></tr>\n",
       "</thead>\n",
       "<tbody>\n",
       "\t<tr><th scope=row>1</th><td>sub-0668_1</td><td>287</td><td>50.40</td><td>1</td><td>0</td><td>0.6441125</td><td>0.4858536</td><td>0.2643043</td><td>0.4618047</td><td>0.8107313</td><td>...</td><td>0.2692293</td><td>0.1777865</td><td>0.2125135</td><td>0.2585771</td><td>0.2476614</td><td>25.19656</td><td> 90.14298</td><td>80.43099</td><td>58.71188</td><td>71.92882</td></tr>\n",
       "\t<tr><th scope=row>2</th><td>sub-0532_1</td><td>222</td><td>37.02</td><td>1</td><td>0</td><td>0.7188706</td><td>0.5949008</td><td>0.3185373</td><td>0.4418336</td><td>0.8080333</td><td>...</td><td>0.2551045</td><td>0.1768259</td><td>0.2390432</td><td>0.2140798</td><td>0.2404949</td><td>24.48333</td><td>100.13208</td><td>89.08204</td><td>67.73530</td><td>79.45727</td></tr>\n",
       "\t<tr><th scope=row>3</th><td>sub-0529_1</td><td>220</td><td>30.57</td><td>1</td><td>0</td><td>0.6691610</td><td>0.4598505</td><td>0.2889560</td><td>0.4736719</td><td>0.7970810</td><td>...</td><td>0.2764979</td><td>0.1966736</td><td>0.2105830</td><td>0.1979906</td><td>0.2202788</td><td>26.14109</td><td>106.82625</td><td>97.27421</td><td>71.92960</td><td>85.74407</td></tr>\n",
       "\t<tr><th scope=row>4</th><td>sub-0393_1</td><td>168</td><td>47.05</td><td>1</td><td>0</td><td>0.6551914</td><td>0.5053502</td><td>0.2193601</td><td>0.4737273</td><td>0.8410769</td><td>...</td><td>0.2580349</td><td>0.1846283</td><td>0.2310467</td><td>0.2062162</td><td>0.2486700</td><td>26.91629</td><td> 92.32685</td><td>80.82058</td><td>61.95945</td><td>73.46712</td></tr>\n",
       "\t<tr><th scope=row>5</th><td>sub-0593_1</td><td>244</td><td>44.63</td><td>1</td><td>0</td><td>0.6633024</td><td>0.4892323</td><td>0.2787128</td><td>0.4641468</td><td>0.8061850</td><td>...</td><td>0.2322276</td><td>0.1900590</td><td>0.1961363</td><td>0.2023566</td><td>0.1997030</td><td>24.38764</td><td> 84.34623</td><td>78.01291</td><td>67.25803</td><td>71.49006</td></tr>\n",
       "\t<tr><th scope=row>6</th><td>sub-0736_1</td><td>311</td><td>53.59</td><td>0</td><td>0</td><td>0.7007976</td><td>0.5331290</td><td>0.4500379</td><td>0.4180754</td><td>0.7339382</td><td>...</td><td>0.2405922</td><td>0.1813356</td><td>0.2353617</td><td>0.2271615</td><td>0.2221804</td><td>24.88325</td><td> 79.63703</td><td>69.87538</td><td>56.35080</td><td>64.25409</td></tr>\n",
       "</tbody>\n",
       "</table>\n"
      ],
      "text/latex": [
       "A data.frame: 6 × 22\n",
       "\\begin{tabular}{r|lllllllllllllllllllll}\n",
       "  & participant\\_id & ID & Age & Sex & Site & GM\\_vol & WM\\_vol & CSF\\_vol & GM\\_ICVRatio & GMWM\\_ICVRatio & ... & DeepWM\\_B\\_CoV & ACA\\_B\\_CoV & MCA\\_B\\_CoV & PCA\\_B\\_CoV & TotalGM\\_B\\_CoV & DeepWM\\_B\\_CBF & ACA\\_B\\_CBF & MCA\\_B\\_CBF & PCA\\_B\\_CBF & TotalGM\\_B\\_CBF\\\\\n",
       "  & <chr> & <int> & <dbl> & <int> & <dbl> & <dbl> & <dbl> & <dbl> & <dbl> & <dbl> & ... & <dbl> & <dbl> & <dbl> & <dbl> & <dbl> & <dbl> & <dbl> & <dbl> & <dbl> & <dbl>\\\\\n",
       "\\hline\n",
       "\t1 & sub-0668\\_1 & 287 & 50.40 & 1 & 0 & 0.6441125 & 0.4858536 & 0.2643043 & 0.4618047 & 0.8107313 & ... & 0.2692293 & 0.1777865 & 0.2125135 & 0.2585771 & 0.2476614 & 25.19656 &  90.14298 & 80.43099 & 58.71188 & 71.92882\\\\\n",
       "\t2 & sub-0532\\_1 & 222 & 37.02 & 1 & 0 & 0.7188706 & 0.5949008 & 0.3185373 & 0.4418336 & 0.8080333 & ... & 0.2551045 & 0.1768259 & 0.2390432 & 0.2140798 & 0.2404949 & 24.48333 & 100.13208 & 89.08204 & 67.73530 & 79.45727\\\\\n",
       "\t3 & sub-0529\\_1 & 220 & 30.57 & 1 & 0 & 0.6691610 & 0.4598505 & 0.2889560 & 0.4736719 & 0.7970810 & ... & 0.2764979 & 0.1966736 & 0.2105830 & 0.1979906 & 0.2202788 & 26.14109 & 106.82625 & 97.27421 & 71.92960 & 85.74407\\\\\n",
       "\t4 & sub-0393\\_1 & 168 & 47.05 & 1 & 0 & 0.6551914 & 0.5053502 & 0.2193601 & 0.4737273 & 0.8410769 & ... & 0.2580349 & 0.1846283 & 0.2310467 & 0.2062162 & 0.2486700 & 26.91629 &  92.32685 & 80.82058 & 61.95945 & 73.46712\\\\\n",
       "\t5 & sub-0593\\_1 & 244 & 44.63 & 1 & 0 & 0.6633024 & 0.4892323 & 0.2787128 & 0.4641468 & 0.8061850 & ... & 0.2322276 & 0.1900590 & 0.1961363 & 0.2023566 & 0.1997030 & 24.38764 &  84.34623 & 78.01291 & 67.25803 & 71.49006\\\\\n",
       "\t6 & sub-0736\\_1 & 311 & 53.59 & 0 & 0 & 0.7007976 & 0.5331290 & 0.4500379 & 0.4180754 & 0.7339382 & ... & 0.2405922 & 0.1813356 & 0.2353617 & 0.2271615 & 0.2221804 & 24.88325 &  79.63703 & 69.87538 & 56.35080 & 64.25409\\\\\n",
       "\\end{tabular}\n"
      ],
      "text/markdown": [
       "\n",
       "A data.frame: 6 × 22\n",
       "\n",
       "| <!--/--> | participant_id &lt;chr&gt; | ID &lt;int&gt; | Age &lt;dbl&gt; | Sex &lt;int&gt; | Site &lt;dbl&gt; | GM_vol &lt;dbl&gt; | WM_vol &lt;dbl&gt; | CSF_vol &lt;dbl&gt; | GM_ICVRatio &lt;dbl&gt; | GMWM_ICVRatio &lt;dbl&gt; | ... ... | DeepWM_B_CoV &lt;dbl&gt; | ACA_B_CoV &lt;dbl&gt; | MCA_B_CoV &lt;dbl&gt; | PCA_B_CoV &lt;dbl&gt; | TotalGM_B_CoV &lt;dbl&gt; | DeepWM_B_CBF &lt;dbl&gt; | ACA_B_CBF &lt;dbl&gt; | MCA_B_CBF &lt;dbl&gt; | PCA_B_CBF &lt;dbl&gt; | TotalGM_B_CBF &lt;dbl&gt; |\n",
       "|---|---|---|---|---|---|---|---|---|---|---|---|---|---|---|---|---|---|---|---|---|---|\n",
       "| 1 | sub-0668_1 | 287 | 50.40 | 1 | 0 | 0.6441125 | 0.4858536 | 0.2643043 | 0.4618047 | 0.8107313 | ... | 0.2692293 | 0.1777865 | 0.2125135 | 0.2585771 | 0.2476614 | 25.19656 |  90.14298 | 80.43099 | 58.71188 | 71.92882 |\n",
       "| 2 | sub-0532_1 | 222 | 37.02 | 1 | 0 | 0.7188706 | 0.5949008 | 0.3185373 | 0.4418336 | 0.8080333 | ... | 0.2551045 | 0.1768259 | 0.2390432 | 0.2140798 | 0.2404949 | 24.48333 | 100.13208 | 89.08204 | 67.73530 | 79.45727 |\n",
       "| 3 | sub-0529_1 | 220 | 30.57 | 1 | 0 | 0.6691610 | 0.4598505 | 0.2889560 | 0.4736719 | 0.7970810 | ... | 0.2764979 | 0.1966736 | 0.2105830 | 0.1979906 | 0.2202788 | 26.14109 | 106.82625 | 97.27421 | 71.92960 | 85.74407 |\n",
       "| 4 | sub-0393_1 | 168 | 47.05 | 1 | 0 | 0.6551914 | 0.5053502 | 0.2193601 | 0.4737273 | 0.8410769 | ... | 0.2580349 | 0.1846283 | 0.2310467 | 0.2062162 | 0.2486700 | 26.91629 |  92.32685 | 80.82058 | 61.95945 | 73.46712 |\n",
       "| 5 | sub-0593_1 | 244 | 44.63 | 1 | 0 | 0.6633024 | 0.4892323 | 0.2787128 | 0.4641468 | 0.8061850 | ... | 0.2322276 | 0.1900590 | 0.1961363 | 0.2023566 | 0.1997030 | 24.38764 |  84.34623 | 78.01291 | 67.25803 | 71.49006 |\n",
       "| 6 | sub-0736_1 | 311 | 53.59 | 0 | 0 | 0.7007976 | 0.5331290 | 0.4500379 | 0.4180754 | 0.7339382 | ... | 0.2405922 | 0.1813356 | 0.2353617 | 0.2271615 | 0.2221804 | 24.88325 |  79.63703 | 69.87538 | 56.35080 | 64.25409 |\n",
       "\n"
      ],
      "text/plain": [
       "  participant_id ID  Age   Sex Site GM_vol    WM_vol    CSF_vol   GM_ICVRatio\n",
       "1 sub-0668_1     287 50.40 1   0    0.6441125 0.4858536 0.2643043 0.4618047  \n",
       "2 sub-0532_1     222 37.02 1   0    0.7188706 0.5949008 0.3185373 0.4418336  \n",
       "3 sub-0529_1     220 30.57 1   0    0.6691610 0.4598505 0.2889560 0.4736719  \n",
       "4 sub-0393_1     168 47.05 1   0    0.6551914 0.5053502 0.2193601 0.4737273  \n",
       "5 sub-0593_1     244 44.63 1   0    0.6633024 0.4892323 0.2787128 0.4641468  \n",
       "6 sub-0736_1     311 53.59 0   0    0.7007976 0.5331290 0.4500379 0.4180754  \n",
       "  GMWM_ICVRatio ... DeepWM_B_CoV ACA_B_CoV MCA_B_CoV PCA_B_CoV TotalGM_B_CoV\n",
       "1 0.8107313     ... 0.2692293    0.1777865 0.2125135 0.2585771 0.2476614    \n",
       "2 0.8080333     ... 0.2551045    0.1768259 0.2390432 0.2140798 0.2404949    \n",
       "3 0.7970810     ... 0.2764979    0.1966736 0.2105830 0.1979906 0.2202788    \n",
       "4 0.8410769     ... 0.2580349    0.1846283 0.2310467 0.2062162 0.2486700    \n",
       "5 0.8061850     ... 0.2322276    0.1900590 0.1961363 0.2023566 0.1997030    \n",
       "6 0.7339382     ... 0.2405922    0.1813356 0.2353617 0.2271615 0.2221804    \n",
       "  DeepWM_B_CBF ACA_B_CBF MCA_B_CBF PCA_B_CBF TotalGM_B_CBF\n",
       "1 25.19656      90.14298 80.43099  58.71188  71.92882     \n",
       "2 24.48333     100.13208 89.08204  67.73530  79.45727     \n",
       "3 26.14109     106.82625 97.27421  71.92960  85.74407     \n",
       "4 26.91629      92.32685 80.82058  61.95945  73.46712     \n",
       "5 24.38764      84.34623 78.01291  67.25803  71.49006     \n",
       "6 24.88325      79.63703 69.87538  56.35080  64.25409     "
      ]
     },
     "metadata": {},
     "output_type": "display_data"
    }
   ],
   "source": [
    "head(harmonized_set)"
   ]
  },
  {
   "cell_type": "code",
   "execution_count": 21,
   "id": "328fc364-d64f-4dc6-ad39-373b176fd25b",
   "metadata": {},
   "outputs": [
    {
     "data": {
      "text/html": [
       "<table class=\"dataframe\">\n",
       "<caption>A data.frame: 3 × 22</caption>\n",
       "<thead>\n",
       "\t<tr><th></th><th scope=col>participant_id</th><th scope=col>ID</th><th scope=col>Age</th><th scope=col>Sex</th><th scope=col>Site</th><th scope=col>GM_vol</th><th scope=col>WM_vol</th><th scope=col>CSF_vol</th><th scope=col>GM_ICVRatio</th><th scope=col>GMWM_ICVRatio</th><th scope=col>...</th><th scope=col>DeepWM_B_CoV</th><th scope=col>ACA_B_CoV</th><th scope=col>MCA_B_CoV</th><th scope=col>PCA_B_CoV</th><th scope=col>TotalGM_B_CoV</th><th scope=col>DeepWM_B_CBF</th><th scope=col>ACA_B_CBF</th><th scope=col>MCA_B_CBF</th><th scope=col>PCA_B_CBF</th><th scope=col>TotalGM_B_CBF</th></tr>\n",
       "\t<tr><th></th><th scope=col>&lt;chr&gt;</th><th scope=col>&lt;int&gt;</th><th scope=col>&lt;dbl&gt;</th><th scope=col>&lt;int&gt;</th><th scope=col>&lt;dbl&gt;</th><th scope=col>&lt;dbl&gt;</th><th scope=col>&lt;dbl&gt;</th><th scope=col>&lt;dbl&gt;</th><th scope=col>&lt;dbl&gt;</th><th scope=col>&lt;dbl&gt;</th><th scope=col>...</th><th scope=col>&lt;dbl&gt;</th><th scope=col>&lt;dbl&gt;</th><th scope=col>&lt;dbl&gt;</th><th scope=col>&lt;dbl&gt;</th><th scope=col>&lt;dbl&gt;</th><th scope=col>&lt;dbl&gt;</th><th scope=col>&lt;dbl&gt;</th><th scope=col>&lt;dbl&gt;</th><th scope=col>&lt;dbl&gt;</th><th scope=col>&lt;dbl&gt;</th></tr>\n",
       "</thead>\n",
       "<tbody>\n",
       "\t<tr><th scope=row>1</th><td>sub-0668_1</td><td>287</td><td>50.40</td><td>1</td><td>0</td><td>0.6441125</td><td>0.4858536</td><td>0.2643043</td><td>0.4618047</td><td>0.8107313</td><td>...</td><td>0.2692293</td><td>0.1777865</td><td>0.2125135</td><td>0.2585771</td><td>0.2476614</td><td>25.19656</td><td> 90.14298</td><td>80.43099</td><td>58.71188</td><td>71.92882</td></tr>\n",
       "\t<tr><th scope=row>2</th><td>sub-0532_1</td><td>222</td><td>37.02</td><td>1</td><td>0</td><td>0.7188706</td><td>0.5949008</td><td>0.3185373</td><td>0.4418336</td><td>0.8080333</td><td>...</td><td>0.2551045</td><td>0.1768259</td><td>0.2390432</td><td>0.2140798</td><td>0.2404949</td><td>24.48333</td><td>100.13208</td><td>89.08204</td><td>67.73530</td><td>79.45727</td></tr>\n",
       "\t<tr><th scope=row>3</th><td>sub-0529_1</td><td>220</td><td>30.57</td><td>1</td><td>0</td><td>0.6691610</td><td>0.4598505</td><td>0.2889560</td><td>0.4736719</td><td>0.7970810</td><td>...</td><td>0.2764979</td><td>0.1966736</td><td>0.2105830</td><td>0.1979906</td><td>0.2202788</td><td>26.14109</td><td>106.82625</td><td>97.27421</td><td>71.92960</td><td>85.74407</td></tr>\n",
       "</tbody>\n",
       "</table>\n"
      ],
      "text/latex": [
       "A data.frame: 3 × 22\n",
       "\\begin{tabular}{r|lllllllllllllllllllll}\n",
       "  & participant\\_id & ID & Age & Sex & Site & GM\\_vol & WM\\_vol & CSF\\_vol & GM\\_ICVRatio & GMWM\\_ICVRatio & ... & DeepWM\\_B\\_CoV & ACA\\_B\\_CoV & MCA\\_B\\_CoV & PCA\\_B\\_CoV & TotalGM\\_B\\_CoV & DeepWM\\_B\\_CBF & ACA\\_B\\_CBF & MCA\\_B\\_CBF & PCA\\_B\\_CBF & TotalGM\\_B\\_CBF\\\\\n",
       "  & <chr> & <int> & <dbl> & <int> & <dbl> & <dbl> & <dbl> & <dbl> & <dbl> & <dbl> & ... & <dbl> & <dbl> & <dbl> & <dbl> & <dbl> & <dbl> & <dbl> & <dbl> & <dbl> & <dbl>\\\\\n",
       "\\hline\n",
       "\t1 & sub-0668\\_1 & 287 & 50.40 & 1 & 0 & 0.6441125 & 0.4858536 & 0.2643043 & 0.4618047 & 0.8107313 & ... & 0.2692293 & 0.1777865 & 0.2125135 & 0.2585771 & 0.2476614 & 25.19656 &  90.14298 & 80.43099 & 58.71188 & 71.92882\\\\\n",
       "\t2 & sub-0532\\_1 & 222 & 37.02 & 1 & 0 & 0.7188706 & 0.5949008 & 0.3185373 & 0.4418336 & 0.8080333 & ... & 0.2551045 & 0.1768259 & 0.2390432 & 0.2140798 & 0.2404949 & 24.48333 & 100.13208 & 89.08204 & 67.73530 & 79.45727\\\\\n",
       "\t3 & sub-0529\\_1 & 220 & 30.57 & 1 & 0 & 0.6691610 & 0.4598505 & 0.2889560 & 0.4736719 & 0.7970810 & ... & 0.2764979 & 0.1966736 & 0.2105830 & 0.1979906 & 0.2202788 & 26.14109 & 106.82625 & 97.27421 & 71.92960 & 85.74407\\\\\n",
       "\\end{tabular}\n"
      ],
      "text/markdown": [
       "\n",
       "A data.frame: 3 × 22\n",
       "\n",
       "| <!--/--> | participant_id &lt;chr&gt; | ID &lt;int&gt; | Age &lt;dbl&gt; | Sex &lt;int&gt; | Site &lt;dbl&gt; | GM_vol &lt;dbl&gt; | WM_vol &lt;dbl&gt; | CSF_vol &lt;dbl&gt; | GM_ICVRatio &lt;dbl&gt; | GMWM_ICVRatio &lt;dbl&gt; | ... ... | DeepWM_B_CoV &lt;dbl&gt; | ACA_B_CoV &lt;dbl&gt; | MCA_B_CoV &lt;dbl&gt; | PCA_B_CoV &lt;dbl&gt; | TotalGM_B_CoV &lt;dbl&gt; | DeepWM_B_CBF &lt;dbl&gt; | ACA_B_CBF &lt;dbl&gt; | MCA_B_CBF &lt;dbl&gt; | PCA_B_CBF &lt;dbl&gt; | TotalGM_B_CBF &lt;dbl&gt; |\n",
       "|---|---|---|---|---|---|---|---|---|---|---|---|---|---|---|---|---|---|---|---|---|---|\n",
       "| 1 | sub-0668_1 | 287 | 50.40 | 1 | 0 | 0.6441125 | 0.4858536 | 0.2643043 | 0.4618047 | 0.8107313 | ... | 0.2692293 | 0.1777865 | 0.2125135 | 0.2585771 | 0.2476614 | 25.19656 |  90.14298 | 80.43099 | 58.71188 | 71.92882 |\n",
       "| 2 | sub-0532_1 | 222 | 37.02 | 1 | 0 | 0.7188706 | 0.5949008 | 0.3185373 | 0.4418336 | 0.8080333 | ... | 0.2551045 | 0.1768259 | 0.2390432 | 0.2140798 | 0.2404949 | 24.48333 | 100.13208 | 89.08204 | 67.73530 | 79.45727 |\n",
       "| 3 | sub-0529_1 | 220 | 30.57 | 1 | 0 | 0.6691610 | 0.4598505 | 0.2889560 | 0.4736719 | 0.7970810 | ... | 0.2764979 | 0.1966736 | 0.2105830 | 0.1979906 | 0.2202788 | 26.14109 | 106.82625 | 97.27421 | 71.92960 | 85.74407 |\n",
       "\n"
      ],
      "text/plain": [
       "  participant_id ID  Age   Sex Site GM_vol    WM_vol    CSF_vol   GM_ICVRatio\n",
       "1 sub-0668_1     287 50.40 1   0    0.6441125 0.4858536 0.2643043 0.4618047  \n",
       "2 sub-0532_1     222 37.02 1   0    0.7188706 0.5949008 0.3185373 0.4418336  \n",
       "3 sub-0529_1     220 30.57 1   0    0.6691610 0.4598505 0.2889560 0.4736719  \n",
       "  GMWM_ICVRatio ... DeepWM_B_CoV ACA_B_CoV MCA_B_CoV PCA_B_CoV TotalGM_B_CoV\n",
       "1 0.8107313     ... 0.2692293    0.1777865 0.2125135 0.2585771 0.2476614    \n",
       "2 0.8080333     ... 0.2551045    0.1768259 0.2390432 0.2140798 0.2404949    \n",
       "3 0.7970810     ... 0.2764979    0.1966736 0.2105830 0.1979906 0.2202788    \n",
       "  DeepWM_B_CBF ACA_B_CBF MCA_B_CBF PCA_B_CBF TotalGM_B_CBF\n",
       "1 25.19656      90.14298 80.43099  58.71188  71.92882     \n",
       "2 24.48333     100.13208 89.08204  67.73530  79.45727     \n",
       "3 26.14109     106.82625 97.27421  71.92960  85.74407     "
      ]
     },
     "metadata": {},
     "output_type": "display_data"
    }
   ],
   "source": [
    "harmonized_top <- harmonized_set[which(harmonized_set['Site'] == 0),] \n",
    "head(harmonized_top,3)"
   ]
  },
  {
   "cell_type": "code",
   "execution_count": 22,
   "id": "78b379fb-2ba8-4312-a95d-82e51c02bc4b",
   "metadata": {},
   "outputs": [
    {
     "data": {
      "text/html": [
       "<table class=\"dataframe\">\n",
       "<caption>A data.frame: 3 × 22</caption>\n",
       "<thead>\n",
       "\t<tr><th></th><th scope=col>participant_id</th><th scope=col>ID</th><th scope=col>Age</th><th scope=col>Sex</th><th scope=col>Site</th><th scope=col>GM_vol</th><th scope=col>WM_vol</th><th scope=col>CSF_vol</th><th scope=col>GM_ICVRatio</th><th scope=col>GMWM_ICVRatio</th><th scope=col>...</th><th scope=col>DeepWM_B_CoV</th><th scope=col>ACA_B_CoV</th><th scope=col>MCA_B_CoV</th><th scope=col>PCA_B_CoV</th><th scope=col>TotalGM_B_CoV</th><th scope=col>DeepWM_B_CBF</th><th scope=col>ACA_B_CBF</th><th scope=col>MCA_B_CBF</th><th scope=col>PCA_B_CBF</th><th scope=col>TotalGM_B_CBF</th></tr>\n",
       "\t<tr><th></th><th scope=col>&lt;chr&gt;</th><th scope=col>&lt;int&gt;</th><th scope=col>&lt;dbl&gt;</th><th scope=col>&lt;int&gt;</th><th scope=col>&lt;dbl&gt;</th><th scope=col>&lt;dbl&gt;</th><th scope=col>&lt;dbl&gt;</th><th scope=col>&lt;dbl&gt;</th><th scope=col>&lt;dbl&gt;</th><th scope=col>&lt;dbl&gt;</th><th scope=col>...</th><th scope=col>&lt;dbl&gt;</th><th scope=col>&lt;dbl&gt;</th><th scope=col>&lt;dbl&gt;</th><th scope=col>&lt;dbl&gt;</th><th scope=col>&lt;dbl&gt;</th><th scope=col>&lt;dbl&gt;</th><th scope=col>&lt;dbl&gt;</th><th scope=col>&lt;dbl&gt;</th><th scope=col>&lt;dbl&gt;</th><th scope=col>&lt;dbl&gt;</th></tr>\n",
       "</thead>\n",
       "<tbody>\n",
       "\t<tr><th scope=row>530</th><td>sub-5917601_1</td><td>160</td><td>70.71371</td><td>1</td><td>1</td><td>0.6464231</td><td>0.4392368</td><td>0.4463098</td><td>0.4187517</td><td>0.7071114</td><td>...</td><td>0.3074185</td><td>0.2384074</td><td>0.1994602</td><td>0.3025742</td><td>0.2624043</td><td>74.77240</td><td>89.27640</td><td>79.65018</td><td>62.68039</td><td>69.15603</td></tr>\n",
       "\t<tr><th scope=row>531</th><td>sub-5931802_1</td><td>395</td><td>47.58356</td><td>1</td><td>1</td><td>0.6397223</td><td>0.4983909</td><td>0.3158307</td><td>0.4394769</td><td>0.7818526</td><td>...</td><td>0.2342675</td><td>0.1687875</td><td>0.1988938</td><td>0.1913044</td><td>0.2072759</td><td>34.90536</td><td>93.83134</td><td>84.56038</td><td>69.09442</td><td>75.51161</td></tr>\n",
       "\t<tr><th scope=row>532</th><td>sub-5911901_1</td><td> 58</td><td>74.10411</td><td>1</td><td>1</td><td>0.5656783</td><td>0.4884173</td><td>0.4478931</td><td>0.3759947</td><td>0.7009286</td><td>...</td><td>0.2041087</td><td>0.1807482</td><td>0.2211341</td><td>0.2710636</td><td>0.2239090</td><td>37.49616</td><td>75.07081</td><td>62.16950</td><td>61.03601</td><td>60.90520</td></tr>\n",
       "</tbody>\n",
       "</table>\n"
      ],
      "text/latex": [
       "A data.frame: 3 × 22\n",
       "\\begin{tabular}{r|lllllllllllllllllllll}\n",
       "  & participant\\_id & ID & Age & Sex & Site & GM\\_vol & WM\\_vol & CSF\\_vol & GM\\_ICVRatio & GMWM\\_ICVRatio & ... & DeepWM\\_B\\_CoV & ACA\\_B\\_CoV & MCA\\_B\\_CoV & PCA\\_B\\_CoV & TotalGM\\_B\\_CoV & DeepWM\\_B\\_CBF & ACA\\_B\\_CBF & MCA\\_B\\_CBF & PCA\\_B\\_CBF & TotalGM\\_B\\_CBF\\\\\n",
       "  & <chr> & <int> & <dbl> & <int> & <dbl> & <dbl> & <dbl> & <dbl> & <dbl> & <dbl> & ... & <dbl> & <dbl> & <dbl> & <dbl> & <dbl> & <dbl> & <dbl> & <dbl> & <dbl> & <dbl>\\\\\n",
       "\\hline\n",
       "\t530 & sub-5917601\\_1 & 160 & 70.71371 & 1 & 1 & 0.6464231 & 0.4392368 & 0.4463098 & 0.4187517 & 0.7071114 & ... & 0.3074185 & 0.2384074 & 0.1994602 & 0.3025742 & 0.2624043 & 74.77240 & 89.27640 & 79.65018 & 62.68039 & 69.15603\\\\\n",
       "\t531 & sub-5931802\\_1 & 395 & 47.58356 & 1 & 1 & 0.6397223 & 0.4983909 & 0.3158307 & 0.4394769 & 0.7818526 & ... & 0.2342675 & 0.1687875 & 0.1988938 & 0.1913044 & 0.2072759 & 34.90536 & 93.83134 & 84.56038 & 69.09442 & 75.51161\\\\\n",
       "\t532 & sub-5911901\\_1 &  58 & 74.10411 & 1 & 1 & 0.5656783 & 0.4884173 & 0.4478931 & 0.3759947 & 0.7009286 & ... & 0.2041087 & 0.1807482 & 0.2211341 & 0.2710636 & 0.2239090 & 37.49616 & 75.07081 & 62.16950 & 61.03601 & 60.90520\\\\\n",
       "\\end{tabular}\n"
      ],
      "text/markdown": [
       "\n",
       "A data.frame: 3 × 22\n",
       "\n",
       "| <!--/--> | participant_id &lt;chr&gt; | ID &lt;int&gt; | Age &lt;dbl&gt; | Sex &lt;int&gt; | Site &lt;dbl&gt; | GM_vol &lt;dbl&gt; | WM_vol &lt;dbl&gt; | CSF_vol &lt;dbl&gt; | GM_ICVRatio &lt;dbl&gt; | GMWM_ICVRatio &lt;dbl&gt; | ... ... | DeepWM_B_CoV &lt;dbl&gt; | ACA_B_CoV &lt;dbl&gt; | MCA_B_CoV &lt;dbl&gt; | PCA_B_CoV &lt;dbl&gt; | TotalGM_B_CoV &lt;dbl&gt; | DeepWM_B_CBF &lt;dbl&gt; | ACA_B_CBF &lt;dbl&gt; | MCA_B_CBF &lt;dbl&gt; | PCA_B_CBF &lt;dbl&gt; | TotalGM_B_CBF &lt;dbl&gt; |\n",
       "|---|---|---|---|---|---|---|---|---|---|---|---|---|---|---|---|---|---|---|---|---|---|\n",
       "| 530 | sub-5917601_1 | 160 | 70.71371 | 1 | 1 | 0.6464231 | 0.4392368 | 0.4463098 | 0.4187517 | 0.7071114 | ... | 0.3074185 | 0.2384074 | 0.1994602 | 0.3025742 | 0.2624043 | 74.77240 | 89.27640 | 79.65018 | 62.68039 | 69.15603 |\n",
       "| 531 | sub-5931802_1 | 395 | 47.58356 | 1 | 1 | 0.6397223 | 0.4983909 | 0.3158307 | 0.4394769 | 0.7818526 | ... | 0.2342675 | 0.1687875 | 0.1988938 | 0.1913044 | 0.2072759 | 34.90536 | 93.83134 | 84.56038 | 69.09442 | 75.51161 |\n",
       "| 532 | sub-5911901_1 |  58 | 74.10411 | 1 | 1 | 0.5656783 | 0.4884173 | 0.4478931 | 0.3759947 | 0.7009286 | ... | 0.2041087 | 0.1807482 | 0.2211341 | 0.2710636 | 0.2239090 | 37.49616 | 75.07081 | 62.16950 | 61.03601 | 60.90520 |\n",
       "\n"
      ],
      "text/plain": [
       "    participant_id ID  Age      Sex Site GM_vol    WM_vol    CSF_vol  \n",
       "530 sub-5917601_1  160 70.71371 1   1    0.6464231 0.4392368 0.4463098\n",
       "531 sub-5931802_1  395 47.58356 1   1    0.6397223 0.4983909 0.3158307\n",
       "532 sub-5911901_1   58 74.10411 1   1    0.5656783 0.4884173 0.4478931\n",
       "    GM_ICVRatio GMWM_ICVRatio ... DeepWM_B_CoV ACA_B_CoV MCA_B_CoV PCA_B_CoV\n",
       "530 0.4187517   0.7071114     ... 0.3074185    0.2384074 0.1994602 0.3025742\n",
       "531 0.4394769   0.7818526     ... 0.2342675    0.1687875 0.1988938 0.1913044\n",
       "532 0.3759947   0.7009286     ... 0.2041087    0.1807482 0.2211341 0.2710636\n",
       "    TotalGM_B_CoV DeepWM_B_CBF ACA_B_CBF MCA_B_CBF PCA_B_CBF TotalGM_B_CBF\n",
       "530 0.2624043     74.77240     89.27640  79.65018  62.68039  69.15603     \n",
       "531 0.2072759     34.90536     93.83134  84.56038  69.09442  75.51161     \n",
       "532 0.2239090     37.49616     75.07081  62.16950  61.03601  60.90520     "
      ]
     },
     "metadata": {},
     "output_type": "display_data"
    }
   ],
   "source": [
    "harmonized_mri <- harmonized_set[which(harmonized_set['Site'] == 1),] \n",
    "head(harmonized_mri,3)"
   ]
  },
  {
   "cell_type": "code",
   "execution_count": 23,
   "id": "72001e60-d1c6-4eac-b785-b7e2d3946a51",
   "metadata": {},
   "outputs": [],
   "source": [
    "# now save as csvs\n",
    "write.csv(harmonized_top, \"harm_results/plus/plus_harmonized_top_from_v1.csv\")\n",
    "write.csv(harmonized_mri, \"harm_results/plus/plus_harmonized_mri_from_v1.csv\")"
   ]
  },
  {
   "cell_type": "code",
   "execution_count": null,
   "id": "d22414b5-d984-42a0-a0ae-16030041426d",
   "metadata": {},
   "outputs": [],
   "source": []
  }
 ],
 "metadata": {
  "kernelspec": {
   "display_name": "R",
   "language": "R",
   "name": "ir"
  },
  "language_info": {
   "codemirror_mode": "r",
   "file_extension": ".r",
   "mimetype": "text/x-r-source",
   "name": "R",
   "pygments_lexer": "r",
   "version": "4.1.3"
  }
 },
 "nbformat": 4,
 "nbformat_minor": 5
}
