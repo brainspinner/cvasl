{
 "cells": [
  {
   "cell_type": "markdown",
   "id": "7a33816b-aebe-4619-ad1f-a13d8d1e1c08",
   "metadata": {},
   "source": [
    "# Neurocombat TOPMRI and EDIS harmonized datasets"
   ]
  },
  {
   "cell_type": "markdown",
   "id": "7f765dc9-a0ac-498a-8c6a-72d1dbf11ad5",
   "metadata": {},
   "source": [
    "Note this must be run in the `neuron` or `neuron_go` environment"
   ]
  },
  {
   "cell_type": "markdown",
   "id": "0b8443b2-c77a-4cde-80cc-d17253eeda50",
   "metadata": {
    "tags": []
   },
   "source": [
    "## import libraries"
   ]
  },
  {
   "cell_type": "code",
   "execution_count": null,
   "id": "6c43d78c-4b3d-4483-aa81-6155993812c1",
   "metadata": {
    "tags": []
   },
   "outputs": [],
   "source": [
    "import os\n",
    "import sys\n",
    "\n",
    "import pandas as pd\n",
    "import numpy as np\n",
    "\n",
    "from neuroCombat import neuroCombat\n",
    "\n",
    "sys.path.insert(0, '../../') # path to functions\n",
    "\n",
    "import cvasl.harmony as har"
   ]
  },
  {
   "cell_type": "markdown",
   "id": "47358f71-117f-4423-be78-bf1334bad921",
   "metadata": {},
   "source": [
    "## Let's see how we would apply this to our data\n",
    "We will have to flip it on it's side to make it work"
   ]
  },
  {
   "cell_type": "code",
   "execution_count": null,
   "id": "602e3571-f710-4f75-a7a0-d4bc1ce1051e",
   "metadata": {
    "tags": []
   },
   "outputs": [],
   "source": [
    "#pd.read_csv(filename_mri)# Datasets for this work\n",
    "EDIS_path = '../our_datasets/EDIS/'\n",
    "MRI_path = '../our_datasets/StrokeMRI/'\n",
    "TOP_path = '../our_datasets/TOP/'\n",
    "file_name = 'TrainingDataComplete.csv'\n",
    "\n",
    "TOP_file = os.path.join(TOP_path, file_name)\n",
    "MRI_file = os.path.join(MRI_path, file_name)\n",
    "EDIS_file = os.path.join(EDIS_path, file_name)\n",
    "\n",
    "\n",
    "TOP = pd.read_csv(TOP_file)\n",
    "MRI = pd.read_csv(MRI_file)\n",
    "EDE = pd.read_csv(EDIS_file)"
   ]
  },
  {
   "cell_type": "code",
   "execution_count": null,
   "id": "d9e8545e-992e-494d-b75c-7e422eeaa58f",
   "metadata": {
    "tags": []
   },
   "outputs": [],
   "source": [
    "TOP = TOP.drop(['Site', 'ID'], axis= 1)\n",
    "TOP.head(3)"
   ]
  },
  {
   "cell_type": "code",
   "execution_count": null,
   "id": "c944d6f3-40af-4b64-a44c-90868bc7bdcf",
   "metadata": {
    "tags": []
   },
   "outputs": [],
   "source": [
    "MRI = MRI.drop(['Site', 'ID'],axis = 1)\n",
    "MRI.tail(3)"
   ]
  },
  {
   "cell_type": "code",
   "execution_count": null,
   "id": "aad5657e-bba7-494f-b030-0aa1472d5d99",
   "metadata": {
    "tags": []
   },
   "outputs": [],
   "source": [
    "TOPMRI = pd.concat([MRI ,TOP])\n",
    "TOPMRI.head(3)"
   ]
  },
  {
   "cell_type": "code",
   "execution_count": null,
   "id": "d78c5075-13e1-438a-ba6e-647595ddba3a",
   "metadata": {},
   "outputs": [],
   "source": [
    "EDE = EDE.drop(['Site', 'ID'],axis = 1)\n",
    "EDE.tail(3)"
   ]
  },
  {
   "cell_type": "code",
   "execution_count": null,
   "id": "f6c16949-4cf3-4800-bdcd-4b24c691f5ab",
   "metadata": {
    "tags": []
   },
   "outputs": [],
   "source": [
    "TOPMRI.shape"
   ]
  },
  {
   "cell_type": "code",
   "execution_count": null,
   "id": "afb9b058",
   "metadata": {
    "tags": []
   },
   "outputs": [],
   "source": [
    "both_togetherF, ftF, btF, feature_dictF, len1, len2 = har.prep_for_neurocombat(TOPMRI, EDE)"
   ]
  },
  {
   "cell_type": "code",
   "execution_count": null,
   "id": "79944499-16f6-41c4-801e-e453efb0eb56",
   "metadata": {
    "tags": []
   },
   "outputs": [],
   "source": [
    "#both_togetherF.head(3)"
   ]
  },
  {
   "cell_type": "code",
   "execution_count": null,
   "id": "0994afd5-bd15-4b70-88b3-e64fb297e81f",
   "metadata": {
    "tags": []
   },
   "outputs": [],
   "source": [
    "# our_mri_data = pd.read_csv(filename_mri)\n",
    "# our_top_data = pd.read_csv(filename_top)"
   ]
  },
  {
   "cell_type": "code",
   "execution_count": null,
   "id": "bb5f07aa-d902-4997-be96-32f9383f6074",
   "metadata": {
    "tags": []
   },
   "outputs": [],
   "source": [
    "# # save off csv\n",
    "# both_together.to_csv('both_top_mri_together.csv')"
   ]
  },
  {
   "cell_type": "code",
   "execution_count": null,
   "id": "add96e2c-ad39-4a97-bedb-62c3c67ef7c5",
   "metadata": {
    "tags": []
   },
   "outputs": [],
   "source": [
    "# # make and save of csv of features only\n",
    "# features_only = both_together[2:]\n",
    "# #features_only.to_csv('features_only_top_mri.csv')"
   ]
  },
  {
   "cell_type": "code",
   "execution_count": null,
   "id": "6c9d178c",
   "metadata": {
    "tags": []
   },
   "outputs": [],
   "source": [
    "ftF.to_csv('ftF_top_mri_insight.csv')"
   ]
  },
  {
   "cell_type": "code",
   "execution_count": null,
   "id": "7c219d10-f86a-41b7-9cad-6f0dda6534ba",
   "metadata": {
    "tags": []
   },
   "outputs": [],
   "source": [
    "data = np.genfromtxt('ftF_top_mri_insight.csv', delimiter=\",\", skip_header=1)\n",
    "data = data[:, 1:]\n",
    "data"
   ]
  },
  {
   "cell_type": "code",
   "execution_count": null,
   "id": "287a155a-ea1a-4004-99c9-b270738eb8ca",
   "metadata": {
    "tags": []
   },
   "outputs": [],
   "source": [
    "TOPMRI.head(3)"
   ]
  },
  {
   "cell_type": "code",
   "execution_count": null,
   "id": "0db3c98c-c98e-48a0-a2e2-4276d621d5b9",
   "metadata": {
    "tags": []
   },
   "outputs": [],
   "source": [
    "both_togetherF.head(3)"
   ]
  },
  {
   "cell_type": "code",
   "execution_count": null,
   "id": "0822a85f",
   "metadata": {
    "tags": []
   },
   "outputs": [],
   "source": [
    "# Specifying the batch (scanner variable) as well as a sex covariate to preserve:\n",
    "first_columns_as_one = [1] * len1\n",
    "last_columns_as_two = [2] * len2\n",
    "covars = {'batch':first_columns_as_one + last_columns_as_two,\n",
    "          #'Site': both_togetherF.loc['Site',:].values.tolist(), \n",
    "          'Sex':both_togetherF.loc['Sex',:].values.tolist(),\n",
    "           'Age':both_togetherF.loc['Age',:].values.tolist(),} \n",
    "covars = pd.DataFrame(covars) "
   ]
  },
  {
   "cell_type": "code",
   "execution_count": null,
   "id": "c9b12ab3-c95d-400a-8d59-6f2cc0169570",
   "metadata": {
    "tags": []
   },
   "outputs": [],
   "source": [
    "# specifify sex as categorical\n",
    "categorical_cols = ['Sex']\n",
    "# To specify the name of the variable that encodes for the scanner/batch covariate:\n",
    "batch_col_mine = 'batch'\n",
    "our_continuous_col=['Age']\n",
    "#Harmonization step:\n",
    "data_combat = neuroCombat(dat=data,\n",
    "    covars=covars,\n",
    "    batch_col=batch_col_mine,\n",
    "    continuous_cols=our_continuous_col,\n",
    "    categorical_cols=categorical_cols)[\"data\"]\n",
    "\n",
    "# (n_dat, covars, batch_col, continuous_cols=continuous_cols,\n",
    "#                                     categorical_cols=categorical_cols)"
   ]
  },
  {
   "cell_type": "code",
   "execution_count": null,
   "id": "1081f339-db19-4920-b672-034732bb683d",
   "metadata": {
    "tags": []
   },
   "outputs": [],
   "source": [
    "neurocombat = pd.DataFrame(data_combat)\n",
    "neurocombat"
   ]
  },
  {
   "cell_type": "code",
   "execution_count": null,
   "id": "e13498a9-4d84-448d-a0db-a0306d4cd22c",
   "metadata": {
    "tags": []
   },
   "outputs": [],
   "source": [
    "topperF = har.make_topper(btF,'Age', 'Sex')"
   ]
  },
  {
   "cell_type": "code",
   "execution_count": null,
   "id": "4221e474-acd6-4a77-be9f-20f283015f18",
   "metadata": {
    "tags": []
   },
   "outputs": [],
   "source": [
    "bottom = neurocombat.reset_index(drop=False)\n",
    "bottom = bottom.rename(columns={\"index\": \"char\"})\n",
    "bottom.columns = topperF.columns"
   ]
  },
  {
   "cell_type": "code",
   "execution_count": null,
   "id": "e777f7f0-c411-477e-bedb-aef5bd99e3c8",
   "metadata": {
    "tags": []
   },
   "outputs": [],
   "source": [
    "back_together = pd.concat([topperF, bottom])\n",
    "back_together = back_together.T\n",
    "#back_together"
   ]
  },
  {
   "cell_type": "code",
   "execution_count": null,
   "id": "fbeeec53-6d33-4fa2-a173-de19b79c435b",
   "metadata": {
    "tags": []
   },
   "outputs": [],
   "source": [
    "new_header = back_together.iloc[0] #grab the first row for the header\n",
    "back_together.columns = new_header #set the header row as the df header\n",
    "back_together = back_together[1:]\n",
    "#back_together"
   ]
  },
  {
   "cell_type": "code",
   "execution_count": null,
   "id": "ad7e09a3-00b4-48e5-aa29-a33247ebfa90",
   "metadata": {
    "tags": []
   },
   "outputs": [],
   "source": [
    "back_together.head(3)"
   ]
  },
  {
   "cell_type": "code",
   "execution_count": null,
   "id": "57dbb033-c216-4df9-b1e4-db93783c4e7b",
   "metadata": {
    "tags": []
   },
   "outputs": [],
   "source": [
    "neuro_harm_edis =back_together.tail(len2)\n",
    "neuro_harm_topmri =back_together.head(len1)"
   ]
  },
  {
   "cell_type": "code",
   "execution_count": null,
   "id": "ce61d0b9-28fd-43c1-ba3f-8b43453ecd0b",
   "metadata": {
    "tags": []
   },
   "outputs": [],
   "source": [
    "neuro_harm_topmri_v_e = neuro_harm_topmri.rename(feature_dictF, axis='columns')\n",
    "neuro_harm_edis = neuro_harm_edis.rename(feature_dictF, axis='columns')"
   ]
  },
  {
   "cell_type": "code",
   "execution_count": null,
   "id": "505c6c00-9797-4490-9fe8-07eb0e936010",
   "metadata": {
    "tags": []
   },
   "outputs": [],
   "source": []
  },
  {
   "cell_type": "code",
   "execution_count": null,
   "id": "37f3ac5b-f8e0-4ec0-a2b0-b7408abf5a89",
   "metadata": {
    "tags": []
   },
   "outputs": [],
   "source": [
    "neuro_harm_edis = neuro_harm_edis.reset_index()\n",
    "neuro_harm_edis = neuro_harm_edis.rename(columns={\"index\": \"participant_id\"})\n",
    "neuro_harm_edis"
   ]
  },
  {
   "cell_type": "markdown",
   "id": "3120740b-8e9d-4aae-bc85-3157566df23c",
   "metadata": {},
   "source": [
    "Save off to harmonized csv files"
   ]
  },
  {
   "cell_type": "code",
   "execution_count": null,
   "id": "73cda0f9-6879-467a-83c7-713921e1e885",
   "metadata": {
    "tags": []
   },
   "outputs": [],
   "source": [
    "neuro_harm_topmri_v_e = neuro_harm_topmri_v_e.reset_index()\n",
    "neuro_harm_topmri_v_e = neuro_harm_topmri_v_e.rename(columns={\"index\": \"participant_id\"})\n",
    "neuro_harm_topmri_v_e"
   ]
  },
  {
   "cell_type": "code",
   "execution_count": null,
   "id": "613ddb0a-008a-42d4-a6a9-c88be60e8f21",
   "metadata": {
    "tags": []
   },
   "outputs": [],
   "source": [
    "neuro_harm_edis.to_csv('harm_results/neuro_harm_edis.csv')\n",
    "neuro_harm_topmri_v_e.to_csv('harm_results/neuro_harm_topmri_v_i.csv')"
   ]
  },
  {
   "cell_type": "code",
   "execution_count": null,
   "id": "c74857fd-5530-4c8e-96b0-eb951effee60",
   "metadata": {
    "tags": []
   },
   "outputs": [],
   "source": [
    "#neuro_harm_sabre.columns"
   ]
  },
  {
   "cell_type": "code",
   "execution_count": null,
   "id": "f40fecb1-8fef-42a9-8a65-c94724ce0858",
   "metadata": {
    "tags": []
   },
   "outputs": [],
   "source": [
    "number_columns = ['Age', 'Sex', 'GM_vol', 'WM_vol', 'CSF_vol',\n",
    "       'GM_ICVRatio', 'GMWM_ICVRatio', 'WMHvol_WMvol', 'WMH_count',\n",
    "       'DeepWM_B_CoV', 'ACA_B_CoV', 'MCA_B_CoV', 'PCA_B_CoV', 'TotalGM_B_CoV',\n",
    "       'DeepWM_B_CBF', 'ACA_B_CBF', 'MCA_B_CBF', 'PCA_B_CBF', 'TotalGM_B_CBF',]"
   ]
  },
  {
   "cell_type": "markdown",
   "id": "bdcb03f2-ccf3-47a8-89b9-c4a7bf26b1a6",
   "metadata": {},
   "source": [
    "# Data quality check"
   ]
  },
  {
   "cell_type": "code",
   "execution_count": null,
   "id": "135ff6dc-465e-4625-bb05-46eff02306dc",
   "metadata": {
    "tags": []
   },
   "outputs": [],
   "source": [
    "TOPMRI"
   ]
  },
  {
   "cell_type": "code",
   "execution_count": null,
   "id": "17da85ab-ba4e-4739-b7bf-9bd3632f7a1f",
   "metadata": {
    "tags": []
   },
   "outputs": [],
   "source": [
    "neuro_harm_topmri_v_e"
   ]
  },
  {
   "cell_type": "code",
   "execution_count": null,
   "id": "ae754821-8292-49d2-8533-ab98c866c07e",
   "metadata": {
    "tags": []
   },
   "outputs": [],
   "source": [
    "neuro_harm_edis.isna().sum().sum()"
   ]
  },
  {
   "cell_type": "code",
   "execution_count": null,
   "id": "0c455742-4296-462c-877e-1f2742d1eb5e",
   "metadata": {
    "tags": []
   },
   "outputs": [],
   "source": [
    "neuro_harm_topmri.isna().sum().sum()"
   ]
  },
  {
   "cell_type": "code",
   "execution_count": null,
   "id": "f8086e1c-ca54-4d5d-af69-df1b5a2c2ddf",
   "metadata": {
    "tags": []
   },
   "outputs": [],
   "source": [
    "#neuro_harm_top.head(3)\n",
    "(neuro_harm_edis[number_columns] < 0).sum()"
   ]
  },
  {
   "cell_type": "code",
   "execution_count": null,
   "id": "135a1a3a-cc9d-4ec5-8580-b82a1c41bbf2",
   "metadata": {
    "tags": []
   },
   "outputs": [],
   "source": [
    "(neuro_harm_topmri_v_e[number_columns] < 0).sum()"
   ]
  },
  {
   "cell_type": "code",
   "execution_count": null,
   "id": "4b881541-b0fe-4261-a52e-637a3909fd7d",
   "metadata": {},
   "outputs": [],
   "source": []
  },
  {
   "cell_type": "code",
   "execution_count": null,
   "id": "7325b72f-655d-45df-9bbd-b82a232cc00a",
   "metadata": {},
   "outputs": [],
   "source": []
  },
  {
   "cell_type": "code",
   "execution_count": null,
   "id": "dc5b1312-870e-449a-9cad-bfce2383a038",
   "metadata": {},
   "outputs": [],
   "source": []
  },
  {
   "cell_type": "code",
   "execution_count": null,
   "id": "3d10f876-a72a-4f3f-8071-02e8a3cf32e3",
   "metadata": {},
   "outputs": [],
   "source": []
  },
  {
   "cell_type": "markdown",
   "id": "0433b537-ac0d-4b48-b38f-d8cc9276a9cd",
   "metadata": {},
   "source": [
    "## So this new variable (WMHvol_WMvol ) is again problematic, BUT ALSO MORE \n",
    "\n",
    "specifically:\n",
    "\n",
    "DeepWM_B_CoV      \n",
    "ACA_B_CoV         \n",
    "MCA_B_CoV         \n",
    "PCA_B_CoV         \n",
    "TotalGM_B_CoV     \n",
    "DeepWM_B_CoV     \n",
    "DeepWM_B_CBF     "
   ]
  },
  {
   "cell_type": "code",
   "execution_count": null,
   "id": "6029bcbf-1a8e-4612-a7e6-dba934774f94",
   "metadata": {
    "tags": []
   },
   "outputs": [],
   "source": [
    " We will wait about logging it until we see other columns we may want to log across all datasets"
   ]
  },
  {
   "cell_type": "code",
   "execution_count": null,
   "id": "f2ae6e7f-bce9-4f77-a9de-f2f802128b3c",
   "metadata": {
    "tags": []
   },
   "outputs": [],
   "source": [
    "# mri_selection = MRI\n",
    "# rename_dict = {\n",
    "#     'Age': 'age_unharm', # will be the key on merge\n",
    "#     'Sex':'sex_unharm',\n",
    "#     'GM_vol' :'gm_vol_unharm',\n",
    "#     'WM_vol' :'wm_vol_unharm',\n",
    "#     'CSF_vol':'csf_vol_unharm',\n",
    "#     'gm_ivc_ratio': 'gm_ivc_ratio_unharm',\n",
    "#     'gmwm_ivc_ratio': 'gmwm_ivc_ratio_unharm',\n",
    "#     'wmh_vol' :'wmh_vol_unharm',\n",
    "#     'wmh_count' : 'wmh_count_unharm',\n",
    "#     'deepwm_b_cov':'deepwm_b_cov_unharm',\n",
    "#     'aca_b_cov': 'aca_b_cov_unharm',\n",
    "#     'mca_b_cov': 'mca_b_cov_unharm',\n",
    "#     'pca_b_cov': 'pca_b_cov_unharm',\n",
    "#     'totalgm_b_cov':'totalgm_b_cov_unharm',\n",
    "#     'deepwm_b':'deepwm_b_unharm',\n",
    "#     'aca_b':'aca_b_unharm',\n",
    "#     'mca_b':'mca_b_unharm',\n",
    "#     'pca_b':'pca_b_unharm',\n",
    "#     'totalgm_b':'totalgm_b_unharm', \n",
    "\n",
    "# }\n",
    "# mri_selection = mri_selection.rename(columns = rename_dict)\n",
    "# mri_selection = mri_selection.merge(neuro_harm_mri, how= 'inner',)\n",
    "# mri_selection"
   ]
  },
  {
   "cell_type": "code",
   "execution_count": null,
   "id": "5456d6a1-c855-4908-af72-f98611fa77b3",
   "metadata": {
    "tags": []
   },
   "outputs": [],
   "source": [
    "# top_selection = TOP\n",
    "\n",
    "# top_selection = top_selection.rename(columns = rename_dict)\n",
    "# top_selection = top_selection.merge(neuro_harm_top, how= 'inner',)\n",
    "# top_selection.columns"
   ]
  },
  {
   "cell_type": "code",
   "execution_count": null,
   "id": "8246194d-fb2b-4010-851c-17831e8fea49",
   "metadata": {
    "tags": []
   },
   "outputs": [],
   "source": [
    "# top_selection.to_csv('top_before_after_neurocombat2way.csv')\n",
    "# mri_selection.to_csv('mri_before_after_neurocombat2way.csv')"
   ]
  },
  {
   "cell_type": "markdown",
   "id": "560aefeb-461c-41d2-b8d7-0689cc56cfe8",
   "metadata": {},
   "source": [
    "Here we will also save off a version without white matter columns...optional"
   ]
  },
  {
   "cell_type": "code",
   "execution_count": null,
   "id": "cf896328-4b17-4d72-9ac1-c533a56777c9",
   "metadata": {
    "tags": []
   },
   "outputs": [],
   "source": []
  },
  {
   "cell_type": "code",
   "execution_count": null,
   "id": "2e9829a6-f5ce-408e-8c33-d631e30147b6",
   "metadata": {
    "tags": []
   },
   "outputs": [],
   "source": [
    "# neuro_harm_mri_less = neuro_harm_mri.drop(columns=['wmh_vol', 'wmh_count'])\n",
    "# neuro_harm_top_less = neuro_harm_top.drop(columns=['wmh_vol', 'wmh_count'])\n",
    "# neuro_harm_mri_less.to_csv('less_neuro_harm_mri_mon.csv')\n",
    "# neuro_harm_top_less.to_csv('less_neuro_harm_top_mon.csv')"
   ]
  },
  {
   "cell_type": "markdown",
   "id": "3a5db039",
   "metadata": {},
   "source": [
    "# Investigate neurocombat results"
   ]
  },
  {
   "cell_type": "code",
   "execution_count": null,
   "id": "9ed2ca84-469f-4590-930d-8641fbd98847",
   "metadata": {
    "tags": []
   },
   "outputs": [],
   "source": [
    "# neuro_harm_mri.head(3) "
   ]
  },
  {
   "cell_type": "markdown",
   "id": "c528109f-d367-48c1-a4d9-54c9d16c48af",
   "metadata": {},
   "source": [
    "## We see neuroharmoney added negative numbers \n"
   ]
  },
  {
   "cell_type": "markdown",
   "id": "9274bc7e-4934-45aa-902b-2a2120b0718f",
   "metadata": {},
   "source": [
    "## let's see how many negative numbers we have"
   ]
  },
  {
   "cell_type": "code",
   "execution_count": null,
   "id": "6ea3fc95-ede0-4d9d-bc1f-e8c0808052e7",
   "metadata": {
    "tags": []
   },
   "outputs": [],
   "source": [
    "# number_columns = ['gm_vol',\n",
    "#                   'wm_vol',\n",
    "#                   'csf_vol',\n",
    "#                   'gm_ivc_ratio', \n",
    "#                   'gmwm_ivc_ratio',\n",
    "#                   'wmh_vol',\n",
    "#                   'wmh_count',\n",
    "#                   'deepwm_b_cov',\n",
    "#                   'aca_b_cov',\n",
    "#                   'mca_b_cov',\n",
    "#                   'pca_b_cov',\n",
    "#                   'totalgm_b_cov',\n",
    "#                   'deepwm_b',\n",
    "#                   'aca_b',\n",
    "#                   'mca_b',\n",
    "#                   'pca_b',\n",
    "#                   'totalgm_b',]"
   ]
  },
  {
   "cell_type": "code",
   "execution_count": null,
   "id": "13aecde2-42b9-431a-940c-d679c3802cf7",
   "metadata": {
    "tags": []
   },
   "outputs": [],
   "source": [
    "# (neuro_harm_mri[number_columns] < 0).sum()"
   ]
  },
  {
   "cell_type": "code",
   "execution_count": null,
   "id": "2f2e6c44-3d4c-4222-8b28-5f732cca8f07",
   "metadata": {
    "tags": []
   },
   "outputs": [],
   "source": [
    "# #our_top_data.head(3)\n",
    "# big_top = our_top_data.rename(columns={\"Unnamed: 0\": \"level_0\"})\n",
    "# big_top.head(3)"
   ]
  },
  {
   "cell_type": "code",
   "execution_count": null,
   "id": "ba0ea7a9-07e1-4b66-999b-1f4c92881636",
   "metadata": {
    "tags": []
   },
   "outputs": [],
   "source": [
    "# new_harm_top = neuro_harm_top.reset_index()\n",
    "# new_harm_top = new_harm_top.reset_index()\n",
    "# new_harm_top = new_harm_top.rename(columns={\"index\": \"participant_id\"})\n",
    "# new_harm_top.head(3) "
   ]
  },
  {
   "cell_type": "code",
   "execution_count": null,
   "id": "b57303a4-cc46-47d0-83b7-18764545b715",
   "metadata": {
    "tags": []
   },
   "outputs": [],
   "source": [
    "# # difference in harmonized and original - raw\n",
    "# raw_differences = big_top[number_columns] - new_harm_top[number_columns]"
   ]
  },
  {
   "cell_type": "code",
   "execution_count": null,
   "id": "53014c63-6150-48d9-b2ae-b8e9069aa886",
   "metadata": {
    "tags": []
   },
   "outputs": [],
   "source": [
    "# # difference in harmonized and original - raw\n",
    "# differences = (big_top[number_columns] - new_harm_top[number_columns])/big_top[number_columns]\n",
    "# differences"
   ]
  },
  {
   "cell_type": "code",
   "execution_count": null,
   "id": "3be4a3c3-bfcb-4acf-b905-3805657b6a80",
   "metadata": {
    "tags": []
   },
   "outputs": [],
   "source": [
    "# differences_n = differences.apply(pd.to_numeric) #"
   ]
  },
  {
   "cell_type": "code",
   "execution_count": null,
   "id": "a552bfad-c9b7-4323-bfba-3ae8bd540359",
   "metadata": {
    "tags": []
   },
   "outputs": [],
   "source": [
    "# differences_n.describe()"
   ]
  },
  {
   "cell_type": "markdown",
   "id": "bcf7f258-5ee6-4e8d-8b0b-12b55e38b6e9",
   "metadata": {},
   "source": [
    "## Now we can use the versions of TOP and StrokeMRI with log base 10 revision of white matter hyperintensity count, as well as white matter hyperintensity  volume... must be discussed with scientsis"
   ]
  },
  {
   "cell_type": "code",
   "execution_count": null,
   "id": "3c7418f2-9fe2-4f61-b8c8-97a8b912358d",
   "metadata": {
    "tags": []
   },
   "outputs": [],
   "source": [
    "# log_filepath = '../open_work/internal_results/loggy/' \n",
    "# # this needs to be redone, due to bad column\n",
    "# log_filename_mri = os.path.join(log_filepath,'stroke_loged_mon.csv') \n",
    "# log_filename_top = os.path.join(log_filepath,'top_loged_mon.csv') "
   ]
  },
  {
   "cell_type": "code",
   "execution_count": null,
   "id": "a483539b-effb-4dc0-8999-0fec98e6b0f4",
   "metadata": {
    "tags": []
   },
   "outputs": [],
   "source": [
    "#log_mri_data = pd.read_csv(log_filename_mri)\n",
    "#log_top_data = pd.read_csv(log_filename_top)"
   ]
  },
  {
   "cell_type": "code",
   "execution_count": null,
   "id": "ba0818b1",
   "metadata": {
    "tags": []
   },
   "outputs": [],
   "source": [
    "# log_both_togetherF, log_ftF, log_btF, log_feature_dictF, log_len1, log_len2 = prep_for_neurocombat(\n",
    "#     log_filename_mri,\n",
    "#     log_filename_top)"
   ]
  },
  {
   "cell_type": "code",
   "execution_count": null,
   "id": "1d34b711-1237-40d4-ae60-9e28c3a217ff",
   "metadata": {
    "tags": []
   },
   "outputs": [],
   "source": [
    "# # make and save of csv of features only\n",
    "# log_features_only = log_both_together[2:]\n",
    "# #log_features_only.to_csv('log_features_only_top_mri.csv')"
   ]
  },
  {
   "cell_type": "code",
   "execution_count": null,
   "id": "282735a0-b085-4ffa-b347-dfeac2083904",
   "metadata": {
    "tags": []
   },
   "outputs": [],
   "source": [
    "# log_ftF.to_csv('log_ftF_top_mri.csv')"
   ]
  },
  {
   "cell_type": "code",
   "execution_count": null,
   "id": "d9d6b7a4-16d4-4119-927d-3a11116aeff5",
   "metadata": {
    "tags": []
   },
   "outputs": [],
   "source": [
    "# log_data = np.genfromtxt('log_ftF_top_mri.csv', delimiter=\",\", skip_header=1)\n",
    "# log_data = log_data[:, 1:]"
   ]
  },
  {
   "cell_type": "code",
   "execution_count": null,
   "id": "630c2040-a7ab-4af2-96dc-e1d05ef1a5e9",
   "metadata": {
    "tags": []
   },
   "outputs": [],
   "source": [
    "# # Specifying the batch (scanner variable) as well as a sex covariate to preserve:\n",
    "# first_columns_as_one = [1] * log_len1\n",
    "# last_columns_as_two = [2] * log_len2\n",
    "# covars = {'batch':first_columns_as_one + last_columns_as_two,\n",
    "#           'sex':log_both_togetherF.loc['sex',:].values.tolist(),\n",
    "#            'age':log_both_togetherF.loc['age',:].values.tolist(),} \n",
    "# covars = pd.DataFrame(covars) "
   ]
  },
  {
   "cell_type": "code",
   "execution_count": null,
   "id": "114a74da-fc9a-466e-ae4e-08d83aa3256e",
   "metadata": {
    "tags": []
   },
   "outputs": [],
   "source": [
    "# # specifify sex as categorical\n",
    "# categorical_cols = ['sex']\n",
    "# # To specify the name of the variable that encodes for the scanner/batch covariate:\n",
    "# batch_col_mine = 'batch'\n",
    "\n",
    "# #Harmonization step:\n",
    "# log_data_combat = neuroCombat(dat=log_data,\n",
    "#     covars=covars,\n",
    "#     batch_col=batch_col_mine,\n",
    "#     continuous_cols=our_continuous_col,\n",
    "#     categorical_cols=categorical_cols)[\"data\"]"
   ]
  },
  {
   "cell_type": "code",
   "execution_count": null,
   "id": "2797e7f4-800e-43a9-ad00-09011323cbd5",
   "metadata": {
    "tags": []
   },
   "outputs": [],
   "source": [
    "log_data_combat"
   ]
  },
  {
   "cell_type": "code",
   "execution_count": null,
   "id": "e219cd5c-2911-45f4-954b-54f01eb960d4",
   "metadata": {
    "tags": []
   },
   "outputs": [],
   "source": [
    "log_neurocombat = pd.DataFrame(log_data_combat)\n",
    "#log_neurocombat"
   ]
  },
  {
   "cell_type": "code",
   "execution_count": null,
   "id": "b7c53787-6636-4b02-9e76-97bae2017379",
   "metadata": {
    "tags": []
   },
   "outputs": [],
   "source": [
    "log_topperF = make_topper(log_btF,'age', 'sex')"
   ]
  },
  {
   "cell_type": "code",
   "execution_count": null,
   "id": "3b64b914-2c72-46a7-8950-f33cbd81a89a",
   "metadata": {
    "tags": []
   },
   "outputs": [],
   "source": [
    "log_bottom = log_neurocombat.reset_index(drop=False)\n",
    "log_bottom = log_bottom.rename(columns={\"index\": \"char\"})\n",
    "log_bottom.columns = log_topperF.columns\n",
    "#log_bottom"
   ]
  },
  {
   "cell_type": "code",
   "execution_count": null,
   "id": "37659124-7793-4d8e-9831-b2f067245c98",
   "metadata": {
    "tags": []
   },
   "outputs": [],
   "source": [
    "log_back_together = pd.concat([log_topperF, log_bottom])\n",
    "log_back_together = log_back_together.T\n",
    "#log_back_together"
   ]
  },
  {
   "cell_type": "code",
   "execution_count": null,
   "id": "bbf8f68c-6f56-4cbd-83cf-123647218175",
   "metadata": {
    "tags": []
   },
   "outputs": [],
   "source": [
    "log_new_header = log_back_together.iloc[0] #grab the first row for the header\n",
    "log_back_together.columns = new_header #set the header row as the df header\n",
    "log_back_together = log_back_together[1:]\n",
    "#log_back_together"
   ]
  },
  {
   "cell_type": "code",
   "execution_count": null,
   "id": "522191ea-d7a2-4a7b-acf5-e6147a1397f6",
   "metadata": {
    "tags": []
   },
   "outputs": [],
   "source": [
    "log_back_together.head(514).tail(5)"
   ]
  },
  {
   "cell_type": "code",
   "execution_count": null,
   "id": "1ae9271e-a5df-4e1d-b0bf-38c791010d68",
   "metadata": {
    "tags": []
   },
   "outputs": [],
   "source": [
    "log_back_together.tail(527).head(5)"
   ]
  },
  {
   "cell_type": "code",
   "execution_count": null,
   "id": "08b406b7-8fce-4a83-989d-f4c3a39f21ba",
   "metadata": {
    "tags": []
   },
   "outputs": [],
   "source": []
  },
  {
   "cell_type": "code",
   "execution_count": null,
   "id": "6e20a3f6-8a25-4b3b-b90a-2a7438d83e12",
   "metadata": {
    "tags": []
   },
   "outputs": [],
   "source": [
    "log_neuro_harm_top =log_back_together.tail(log_len2)\n",
    "log_neuro_harm_mri =log_back_together.head(log_len1)"
   ]
  },
  {
   "cell_type": "code",
   "execution_count": null,
   "id": "719a887a-439c-476a-b4a6-2bf9ab3bba78",
   "metadata": {
    "tags": []
   },
   "outputs": [],
   "source": [
    "log_neuro_harm_top = log_neuro_harm_top.rename(log_feature_dictF, axis='columns')\n",
    "log_neuro_harm_mri = log_neuro_harm_mri.rename(log_feature_dictF, axis='columns')"
   ]
  },
  {
   "cell_type": "code",
   "execution_count": null,
   "id": "a3bb1c10-4e88-422f-b380-6a542e315796",
   "metadata": {
    "tags": []
   },
   "outputs": [],
   "source": [
    "(log_neuro_harm_mri[number_columns] < 0).sum()"
   ]
  },
  {
   "cell_type": "code",
   "execution_count": null,
   "id": "6c3bd1fe-8280-42d0-a3cc-290abfe7f83c",
   "metadata": {
    "tags": []
   },
   "outputs": [],
   "source": [
    "## There are still negative numbers in the outcome...but there is a difference"
   ]
  },
  {
   "cell_type": "code",
   "execution_count": null,
   "id": "55be6d53-d807-4397-b41d-23e7ad352ab9",
   "metadata": {
    "tags": []
   },
   "outputs": [],
   "source": [
    "# log_neuro_harm_mri.to_csv('log_neuro_harm_mri_mon.csv')\n",
    "# log_neuro_harm_top.to_csv('log_neuro_harm_top_mon.csv')"
   ]
  },
  {
   "cell_type": "code",
   "execution_count": null,
   "id": "40b3e8c1-1016-42f9-94c5-bc5d3b502ce4",
   "metadata": {
    "tags": []
   },
   "outputs": [],
   "source": [
    "log_neuro_harm_mri.head(3)"
   ]
  },
  {
   "cell_type": "code",
   "execution_count": null,
   "id": "dd71d58e-5374-40ba-9c6d-cbd93c9f49cb",
   "metadata": {
    "tags": []
   },
   "outputs": [],
   "source": [
    "neuro_harm_mri.head(3)"
   ]
  },
  {
   "cell_type": "code",
   "execution_count": null,
   "id": "0fbf4d5c-1688-4b05-809c-be65178e25ea",
   "metadata": {
    "tags": []
   },
   "outputs": [],
   "source": [
    "dif_log_to_reg = log_neuro_harm_mri[number_columns] - neuro_harm_mri[number_columns]\n",
    "dif_log_to_reg "
   ]
  },
  {
   "cell_type": "code",
   "execution_count": null,
   "id": "1204dc18-151c-4d18-b13e-e538620cbcb3",
   "metadata": {
    "tags": []
   },
   "outputs": [],
   "source": [
    "dif_log_to_reg.sum().sum()"
   ]
  },
  {
   "cell_type": "markdown",
   "id": "f0e42b6c-2454-4163-be64-a5f075e46097",
   "metadata": {},
   "source": [
    "# So changing the two columns to theirlog made la difference in the harmarmonized outcomes...now let's look at how this plays out when we make models..."
   ]
  }
 ],
 "metadata": {
  "kernelspec": {
   "display_name": "Python 3 (ipykernel)",
   "language": "python",
   "name": "python3"
  },
  "language_info": {
   "codemirror_mode": {
    "name": "ipython",
    "version": 3
   },
   "file_extension": ".py",
   "mimetype": "text/x-python",
   "name": "python",
   "nbconvert_exporter": "python",
   "pygments_lexer": "ipython3",
   "version": "3.7.12"
  }
 },
 "nbformat": 4,
 "nbformat_minor": 5
}
