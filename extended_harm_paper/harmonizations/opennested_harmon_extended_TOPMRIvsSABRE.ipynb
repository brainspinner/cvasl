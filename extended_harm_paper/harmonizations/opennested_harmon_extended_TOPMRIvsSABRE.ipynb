{
 "cells": [
  {
   "cell_type": "markdown",
   "id": "2bf90854-4c4f-4013-aa62-c1fedbfce12a",
   "metadata": {},
   "source": [
    "# Open nested combat: TOP and StrokeMRI combined (topmri) and SABRE open nested-harmonized datasets"
   ]
  },
  {
   "cell_type": "markdown",
   "id": "ae28b996-87d9-4110-ad3d-9a6393a2e8c7",
   "metadata": {},
   "source": [
    "Note this must be run in the `opnc` environment"
   ]
  },
  {
   "cell_type": "markdown",
   "id": "4bca85bf-5df5-42b3-a8ad-ee70a56ec024",
   "metadata": {},
   "source": [
    "## import libraries"
   ]
  },
  {
   "cell_type": "code",
   "execution_count": null,
   "id": "55992d1d-6d8f-4b5c-ab71-034efc850f94",
   "metadata": {
    "tags": []
   },
   "outputs": [],
   "source": [
    "import os\n",
    "import sys\n",
    "#from itertools import permutations\n",
    "\n",
    "import pandas as pd\n",
    "import numpy as np\n",
    "import matplotlib.pyplot as plt\n",
    "import seaborn as sns\n",
    "import ipywidgets as widgets\n",
    "\n",
    "\n",
    "from sklearn.preprocessing import LabelEncoder\n",
    "\n",
    "\n",
    "sys.path.insert(0, '../../') # path to cvasl functions\n",
    "import cvasl.seperated as sep\n",
    "import cvasl.harmony as har"
   ]
  },
  {
   "cell_type": "markdown",
   "id": "fbc9b26c-ea22-4e5b-8eb7-5a3e0be29168",
   "metadata": {},
   "source": [
    "## Read in our data"
   ]
  },
  {
   "cell_type": "code",
   "execution_count": null,
   "id": "bb23e1a6-a4ad-4e4c-8f05-75a3c643b1df",
   "metadata": {},
   "outputs": [],
   "source": [
    "# EDIS_path = '../our_datasets/EDIS/'\n",
    "# HELIUS_path = '../our_datasets/HELIUS/'\n",
    "# Insight46_path = '../our_datasets/Insight46/'\n",
    "SABRE_path = '../our_datasets/SABRE/'\n",
    "MRI_path = '../our_datasets/StrokeMRI/'\n",
    "TOP_path = '../our_datasets/TOP/'\n",
    "file_name = 'TrainingDataComplete.csv'\n",
    "\n",
    "TOP_file = os.path.join(TOP_path, file_name)\n",
    "MRI_file = os.path.join(MRI_path, file_name)\n",
    "#EDIS_file = os.path.join(EDIS_path, file_name)\n",
    "#HELIUS_file = os.path.join(HELIUS_path, file_name)\n",
    "#Insight46_file = os.path.join(Insight46_path, file_name)\n",
    "SABRE_file = os.path.join(SABRE_path, file_name)\n",
    "\n",
    "# EDIS = pd.read_csv(EDIS_file)\n",
    "# #HELIUS = pd.read_csv(HELIUS_file)\n",
    "# Insight46 = pd.read_csv(Insight46_file)\n",
    "# SABRE = pd.read_csv(SABRE_file)\n",
    "TOP = pd.read_csv(TOP_file)\n",
    "MRI = pd.read_csv(MRI_file)\n",
    "SABRE = pd.read_csv(SABRE_file)"
   ]
  },
  {
   "cell_type": "code",
   "execution_count": null,
   "id": "8072a76b-20ca-400f-8952-59becade87b9",
   "metadata": {
    "tags": []
   },
   "outputs": [],
   "source": [
    "TOP.head(3)"
   ]
  },
  {
   "cell_type": "code",
   "execution_count": null,
   "id": "cf7c9f8e-6f41-4eb2-a904-122da69bc33a",
   "metadata": {
    "tags": []
   },
   "outputs": [],
   "source": [
    "MRI.tail(3)"
   ]
  },
  {
   "cell_type": "code",
   "execution_count": null,
   "id": "197a684e-3e9e-4983-b0aa-a8a8ecf2b9fb",
   "metadata": {
    "tags": []
   },
   "outputs": [],
   "source": [
    "topmri = pd.concat([MRI ,TOP])\n",
    "topmri.head(3)"
   ]
  },
  {
   "cell_type": "code",
   "execution_count": null,
   "id": "69301207-4d3f-49f9-9bcd-46bb2df18116",
   "metadata": {},
   "outputs": [],
   "source": [
    "SABRE.tail(3)"
   ]
  },
  {
   "cell_type": "code",
   "execution_count": null,
   "id": "86a5ed04-6ec7-4ced-8cd6-a7230c3ffe0e",
   "metadata": {
    "tags": []
   },
   "outputs": [],
   "source": [
    "topmri.shape"
   ]
  },
  {
   "cell_type": "code",
   "execution_count": null,
   "id": "68d56e12-dce9-470b-810e-6b6cea8002f8",
   "metadata": {
    "tags": []
   },
   "outputs": [],
   "source": [
    "topmri.columns = topmri.columns.str.lower()\n",
    "topmri = topmri.drop(['site', 'id'], axis= 1)\n",
    "topmri.head(3)"
   ]
  },
  {
   "cell_type": "code",
   "execution_count": null,
   "id": "61d1e26e-9550-41d6-ba4d-47e1ff12c645",
   "metadata": {
    "tags": []
   },
   "outputs": [],
   "source": [
    "SABRE.columns = SABRE.columns.str.lower()\n",
    "SABRE = SABRE.drop(['site', 'id'], axis= 1)\n",
    "SABRE.tail(3)"
   ]
  },
  {
   "cell_type": "code",
   "execution_count": null,
   "id": "0a09f3eb-f20d-4c2e-8d19-3ac7b11a1a80",
   "metadata": {
    "tags": []
   },
   "outputs": [],
   "source": [
    "topmri_batch_testing_df = topmri[['participant_id','age', 'sex']]\n",
    "topmri_batch_testing_df['site'] = 0\n",
    "column_to_move = topmri_batch_testing_df.pop(\"site\")\n",
    "topmri_batch_testing_df.insert(1, \"site\", column_to_move)\n",
    "topmri_batch_testing_df.head(3)"
   ]
  },
  {
   "cell_type": "code",
   "execution_count": null,
   "id": "c9a7c549-532a-4978-ae38-7197f359cc44",
   "metadata": {
    "tags": []
   },
   "outputs": [],
   "source": [
    "sabre_batch_testing_df = SABRE[['participant_id','age', 'sex']]\n",
    "sabre_batch_testing_df['site'] = 1\n",
    "column_to_move = sabre_batch_testing_df.pop(\"site\")\n",
    "sabre_batch_testing_df.insert(1, \"site\", column_to_move)\n",
    "sabre_batch_testing_df.head(3)"
   ]
  },
  {
   "cell_type": "code",
   "execution_count": null,
   "id": "41370878-82cb-479c-9f08-620ab8b48cde",
   "metadata": {
    "tags": []
   },
   "outputs": [],
   "source": [
    "batch_testing_df = pd.concat([topmri_batch_testing_df, sabre_batch_testing_df], ignore_index=True)\n",
    "#batch_testing_df = sep.recode_sex_to_numeric(batch_testing_df)\n",
    "batch_testing_df.tail(5)"
   ]
  },
  {
   "cell_type": "code",
   "execution_count": null,
   "id": "6f9bbd5b-e355-4907-bf04-3ef556c2b9af",
   "metadata": {
    "tags": []
   },
   "outputs": [],
   "source": [
    "# Loading in batch effects\n",
    "batch_testing_list = ['site']\n",
    "# Loading in clinical covariates\n",
    "categorical_testing_cols = ['sex']\n",
    "continuous_testing_cols = ['age']"
   ]
  },
  {
   "cell_type": "code",
   "execution_count": null,
   "id": "8c38e140-dd2e-4f93-aa86-bece3e1e8817",
   "metadata": {
    "tags": []
   },
   "outputs": [],
   "source": [
    "# ASL\n",
    "data_testing_df = pd.concat([topmri,SABRE])\n",
    "#data_testing_df = # ASL\n",
    "data_testing_df = data_testing_df.drop(columns=['age','sex'])  \n",
    "data_testing_df.tail(3)"
   ]
  },
  {
   "cell_type": "code",
   "execution_count": null,
   "id": "06f7994d-b0b7-4bde-b18b-e30fabc051b0",
   "metadata": {
    "tags": []
   },
   "outputs": [],
   "source": [
    "data_testing_df = data_testing_df.reset_index(drop=True)\n",
    "data_testing_df = data_testing_df.dropna()\n",
    "data_testing_df = data_testing_df.merge(batch_testing_df['participant_id'], \n",
    "                                        left_on='participant_id', right_on='participant_id')\n",
    "dat_testing = data_testing_df.iloc[:, 1:]\n",
    "dat_testing = dat_testing.T.apply(pd.to_numeric)\n",
    "caseno_testing = data_testing_df['participant_id']\n",
    "covars_testing = batch_testing_df.drop('participant_id',1)"
   ]
  },
  {
   "cell_type": "code",
   "execution_count": null,
   "id": "c09f8cea-14b3-487e-bfc8-490c74a3edbc",
   "metadata": {
    "tags": []
   },
   "outputs": [],
   "source": [
    "data_testing_df.columns"
   ]
  },
  {
   "cell_type": "code",
   "execution_count": null,
   "id": "0973c2a6-4c00-4302-9a7f-5d8c75162a05",
   "metadata": {
    "tags": []
   },
   "outputs": [],
   "source": [
    "# Merging batch effects, clinical covariates\n",
    "covars_testing_string = pd.DataFrame()\n",
    "covars_testing_string[categorical_testing_cols] = covars_testing[categorical_testing_cols].copy()\n",
    "covars_testing_quant = covars_testing[continuous_testing_cols]\n",
    "#covars_testing_quant"
   ]
  },
  {
   "cell_type": "code",
   "execution_count": null,
   "id": "9b5e5cff-53d4-4911-9577-f5533282bcfc",
   "metadata": {
    "tags": []
   },
   "outputs": [],
   "source": [
    "# Encoding categorical variables\n",
    "covars_testing_cat = pd.DataFrame()\n",
    "for col_testing in covars_testing_string:\n",
    "    stringcol_testing = covars_testing_string[col_testing]\n",
    "    le = LabelEncoder()\n",
    "    le.fit(list(stringcol_testing))\n",
    "    covars_testing_cat[col_testing] = le.transform(stringcol_testing)\n",
    "#covars_testing_cat"
   ]
  },
  {
   "cell_type": "code",
   "execution_count": null,
   "id": "8ec799b2-fca4-41be-af0c-4de5261abd47",
   "metadata": {
    "tags": []
   },
   "outputs": [],
   "source": [
    "covars_testing_final = pd.concat([covars_testing_cat, covars_testing_quant], axis=1)\n",
    "#covars_testing_final"
   ]
  },
  {
   "cell_type": "code",
   "execution_count": null,
   "id": "f0c35975-9d23-40e3-9e53-ee0880f2aff9",
   "metadata": {
    "tags": []
   },
   "outputs": [],
   "source": [
    "# # # FOR GMM COMBAT VARIANTS:\n",
    "# # # Adding GMM Split to batch effects\n",
    "filepath2 = 'Testing/OPPNComBat/ResultTesting'\n",
    "if not os.path.exists(filepath2):\n",
    "    os.makedirs(filepath2)\n",
    "gmm_testing_df = har.GMMSplit(dat_testing, caseno_testing, filepath2)"
   ]
  },
  {
   "cell_type": "code",
   "execution_count": null,
   "id": "57a7067f-7114-46c8-a16e-7c25b520b968",
   "metadata": {
    "tags": []
   },
   "outputs": [],
   "source": [
    "batch_testing_df.head(2)"
   ]
  },
  {
   "cell_type": "code",
   "execution_count": null,
   "id": "e0ed37ca-6a09-4378-aa48-c4f9a93ba514",
   "metadata": {
    "tags": []
   },
   "outputs": [],
   "source": [
    "gmm_testing_df.head(2)"
   ]
  },
  {
   "cell_type": "code",
   "execution_count": null,
   "id": "f03f0de1-21ab-4c3a-8f07-441117117ff5",
   "metadata": {
    "tags": []
   },
   "outputs": [],
   "source": [
    "gmm_testing_df_merge = batch_testing_df.merge(gmm_testing_df, right_on='Patient', left_on='participant_id')\n",
    "gmm_testing_df_merge['GMM'] = gmm_testing_df_merge['Grouping'] \n",
    "gmm_testing_df_merge"
   ]
  },
  {
   "cell_type": "code",
   "execution_count": null,
   "id": "6dd7318d-14fd-46b4-8b12-5024277497b0",
   "metadata": {
    "tags": []
   },
   "outputs": [],
   "source": [
    "covars_testing_final = gmm_testing_df_merge.drop(['participant_id','Patient','Grouping'],1)\n",
    "categorical_testing_cols = categorical_testing_cols + ['GMM']"
   ]
  },
  {
   "cell_type": "code",
   "execution_count": null,
   "id": "14f79195-e71f-4b2b-8809-c06a8975ebab",
   "metadata": {
    "tags": []
   },
   "outputs": [],
   "source": [
    "output_testing_df = har.OPNestedComBat(dat_testing,\n",
    "                                   covars_testing_final,\n",
    "                                   batch_testing_list,\n",
    "                                   filepath2, categorical_cols=categorical_testing_cols,\n",
    "                                  continuous_cols=continuous_testing_cols)"
   ]
  },
  {
   "cell_type": "code",
   "execution_count": null,
   "id": "b4600536-fc33-4aa5-870a-fa2f7e2e3d7b",
   "metadata": {
    "tags": []
   },
   "outputs": [],
   "source": [
    "write_testing_df = pd.concat([caseno_testing, output_testing_df], axis=1) \n",
    "write_testing_df.to_csv(filepath2+'/Mfeatures_testing_NestedComBat.csv') # write results fo file\n",
    "dat_testing_input = dat_testing.transpose()\n",
    "dat_testing_input.to_csv(filepath2+'/Mfeatures_input_testing_NestedComBat.csv')\n",
    "covars_testing_final.to_csv(filepath2+'/Mcovars_input_testing_NestedComBat.csv')"
   ]
  },
  {
   "cell_type": "code",
   "execution_count": null,
   "id": "9081a712-9e21-458d-a8dd-d9c771235d54",
   "metadata": {
    "tags": []
   },
   "outputs": [],
   "source": [
    "# write harmonized dataset \n",
    "complete_harmonised = pd.concat([write_testing_df, covars_testing_final], axis=1) \n",
    "complete_harmonised.head(3)"
   ]
  },
  {
   "cell_type": "code",
   "execution_count": null,
   "id": "3a70103c-8b93-4fed-9024-db41690cd9d3",
   "metadata": {
    "tags": []
   },
   "outputs": [],
   "source": [
    "complete_harmonised.columns"
   ]
  },
  {
   "cell_type": "markdown",
   "id": "94c514d1-6fcc-4376-a95e-4f907f38f870",
   "metadata": {},
   "source": [
    "# split dataframe back up into parts for running\n",
    "## from complete_harmonised"
   ]
  },
  {
   "cell_type": "code",
   "execution_count": null,
   "id": "b8494cdf-d3f2-466f-aaf2-61d3278469e3",
   "metadata": {
    "tags": []
   },
   "outputs": [],
   "source": [
    "sabre_opn_harmonized = complete_harmonised[complete_harmonised['site'] == 1]\n",
    "sabre_opn_harmonized = sabre_opn_harmonized.drop(columns=['site', 'GMM',])\n",
    "sabre_opn_harmonized.head(3)"
   ]
  },
  {
   "cell_type": "code",
   "execution_count": null,
   "id": "68ce936f-6d59-411f-a648-be43a6a15a46",
   "metadata": {
    "tags": []
   },
   "outputs": [],
   "source": [
    "topmri_opn_harmonized = complete_harmonised[complete_harmonised['site'] == 0]\n",
    "topmri_opn_harmonized = topmri_opn_harmonized.drop(columns=['site', 'GMM',])\n",
    "#top_opn_harmonized.head(3)"
   ]
  },
  {
   "cell_type": "code",
   "execution_count": null,
   "id": "ab7abbee-6855-4773-9309-4efdc9081afd",
   "metadata": {
    "tags": []
   },
   "outputs": [],
   "source": [
    "topmri_opn_harmonized.to_csv('harm_results/open_nested_combat/topmri_opn_harmonized_to_sab.csv')\n",
    "sabre_opn_harmonized.to_csv('harm_results/open_nested_combat/sabre_opn_harmonized.csv')"
   ]
  },
  {
   "cell_type": "markdown",
   "id": "f02df667-a5ba-49b1-873b-6ce96ff4bfa5",
   "metadata": {},
   "source": [
    "## further investigation and graphing"
   ]
  },
  {
   "cell_type": "code",
   "execution_count": null,
   "id": "9ed62668-ba9e-44cf-bde4-5c306658c996",
   "metadata": {
    "tags": []
   },
   "outputs": [],
   "source": [
    "sabre_opn_harmonized.head(3)"
   ]
  },
  {
   "cell_type": "code",
   "execution_count": null,
   "id": "5a4b9aab-a0f2-4e0e-a52d-123e9a8d7e9a",
   "metadata": {
    "tags": []
   },
   "outputs": [],
   "source": [
    "SABRE.columns"
   ]
  },
  {
   "cell_type": "code",
   "execution_count": null,
   "id": "5050ddcd-7cdd-4f3a-88c2-df21c201734b",
   "metadata": {
    "tags": []
   },
   "outputs": [],
   "source": [
    "sabre_opn_harmonized.columns"
   ]
  },
  {
   "cell_type": "code",
   "execution_count": null,
   "id": "fd5385b3-318c-46f7-a853-3a391d2594b8",
   "metadata": {
    "tags": []
   },
   "outputs": [],
   "source": [
    "complete_harmonised.columns"
   ]
  },
  {
   "cell_type": "code",
   "execution_count": null,
   "id": "2f009950-687d-49b6-aa67-53bfa36b7992",
   "metadata": {
    "tags": []
   },
   "outputs": [],
   "source": [
    "complete_nonharmonised = pd.concat([caseno_testing, dat_testing_input], axis=1) \n",
    "complete_nonharmonised = pd.concat([complete_nonharmonised, covars_testing_final], axis=1) \n",
    "complete_nonharmonised.columns"
   ]
  },
  {
   "cell_type": "code",
   "execution_count": null,
   "id": "3d7e6795-6054-4949-aba8-29fbe914adf7",
   "metadata": {
    "tags": []
   },
   "outputs": [],
   "source": [
    "complete_harmonised['harmonization'] = 'H'\n",
    "\n",
    "complete_nonharmonised['harmonization'] = 'UH'"
   ]
  },
  {
   "cell_type": "code",
   "execution_count": null,
   "id": "bc06c61c-f38a-4d95-8fce-125993365470",
   "metadata": {
    "tags": []
   },
   "outputs": [],
   "source": [
    "feature_list = ['gm_vol', 'wm_vol', 'csf_vol',\n",
    "       'gm_icvratio', 'gmwm_icvratio', 'wmhvol_wmvol', 'wmh_count',\n",
    "       'deepwm_b_cov', 'aca_b_cov', 'mca_b_cov', 'pca_b_cov', 'totalgm_b_cov',\n",
    "       'deepwm_b_cbf', 'aca_b_cbf', 'mca_b_cbf', 'pca_b_cbf', 'totalgm_b_cbf']\n",
    "har.compare_harm_multi_site_violins(\n",
    "        complete_nonharmonised,\n",
    "        complete_harmonised,\n",
    "        feature_list\n",
    ")"
   ]
  },
  {
   "cell_type": "markdown",
   "id": "44c93f79-bc80-4761-9c1a-dfc6068acb21",
   "metadata": {},
   "source": [
    "<!-- # split dataframe back up into parts for running\n",
    "## from complete_harmonised -->"
   ]
  },
  {
   "cell_type": "code",
   "execution_count": null,
   "id": "22cc7260-3a9c-49e3-b42a-08d7cf1e5a66",
   "metadata": {},
   "outputs": [],
   "source": []
  },
  {
   "cell_type": "code",
   "execution_count": null,
   "id": "cda7b5ff-b2e5-4512-9840-901a989584c1",
   "metadata": {},
   "outputs": [],
   "source": []
  }
 ],
 "metadata": {
  "kernelspec": {
   "display_name": "Python 3 (ipykernel)",
   "language": "python",
   "name": "python3"
  },
  "language_info": {
   "codemirror_mode": {
    "name": "ipython",
    "version": 3
   },
   "file_extension": ".py",
   "mimetype": "text/x-python",
   "name": "python",
   "nbconvert_exporter": "python",
   "pygments_lexer": "ipython3",
   "version": "3.7.12"
  }
 },
 "nbformat": 4,
 "nbformat_minor": 5
}
