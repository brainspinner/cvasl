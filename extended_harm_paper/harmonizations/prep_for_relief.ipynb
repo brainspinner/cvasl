{
 "cells": [
  {
   "cell_type": "markdown",
   "id": "bfdd5227-83b8-4aec-a577-3563f5e97903",
   "metadata": {},
   "source": [
    "# Relief Prep and examination\n",
    "\n",
    "This notebook prepares data to be used for the relief algorithm (implemented in R) but with Python run in the mrilanding environment\n"
   ]
  },
  {
   "cell_type": "code",
   "execution_count": null,
   "id": "dacc5a83-c06e-47c1-8863-858993b3cfe3",
   "metadata": {
    "tags": []
   },
   "outputs": [],
   "source": [
    "import os\n",
    "import sys\n",
    "import pandas as pd\n",
    "import numpy as np\n",
    "\n",
    "sys.path.insert(0, '../../') # path to functions\n",
    "\n",
    "import cvasl.harmony as har"
   ]
  },
  {
   "cell_type": "markdown",
   "id": "0b4661db-4242-4b89-b59d-83f64b3c892c",
   "metadata": {},
   "source": [
    "## Let's see how we would apply this to our data\n",
    "We will have to flip it on it's side to make it work"
   ]
  },
  {
   "cell_type": "code",
   "execution_count": null,
   "id": "58bd3bf6-ce4a-47f4-85eb-6831af3f28c6",
   "metadata": {
    "tags": []
   },
   "outputs": [],
   "source": [
    "# Datasets for this work\n",
    "\n",
    "MRI_path = '../our_datasets/StrokeMRI/'\n",
    "TOP_path = '../our_datasets/TOP/'\n",
    "file_name = 'TrainingDataComplete.csv'\n",
    "\n",
    "TOP_file = os.path.join(TOP_path, file_name)\n",
    "MRI_file = os.path.join(MRI_path, file_name)\n",
    "\n",
    "TOP = pd.read_csv(TOP_file, index_col=0)\n",
    "MRI = pd.read_csv(MRI_file, index_col=0)"
   ]
  },
  {
   "cell_type": "code",
   "execution_count": null,
   "id": "7f9a6faa-7882-49d6-b720-04028b53cd33",
   "metadata": {
    "tags": []
   },
   "outputs": [],
   "source": [
    "TOP = TOP.drop(['Site', 'ID'], axis= 1)\n",
    "TOP.head(3)"
   ]
  },
  {
   "cell_type": "code",
   "execution_count": null,
   "id": "782fb74b-fece-4b82-889a-6f4ef56cb017",
   "metadata": {
    "tags": []
   },
   "outputs": [],
   "source": [
    "MRI = MRI.drop(['Site', 'ID'],axis = 1)\n",
    "MRI.tail(5)"
   ]
  },
  {
   "cell_type": "code",
   "execution_count": null,
   "id": "b863842e-16f3-40b9-8849-7befb187573e",
   "metadata": {
    "tags": []
   },
   "outputs": [],
   "source": [
    "both_togetherF, ftF, btF, feature_dictF, len1, len2 = har.prep_for_neurocombat(MRI, TOP)"
   ]
  },
  {
   "cell_type": "code",
   "execution_count": null,
   "id": "443af79c-8fbd-40e1-bda7-8f00029817c2",
   "metadata": {
    "tags": []
   },
   "outputs": [],
   "source": [
    "both_togetherF"
   ]
  },
  {
   "cell_type": "code",
   "execution_count": null,
   "id": "685de92d-272c-4602-a7e5-755bbbf3f082",
   "metadata": {
    "tags": []
   },
   "outputs": [],
   "source": [
    "ftF.to_csv('ftF_top_mri.csv')"
   ]
  },
  {
   "cell_type": "code",
   "execution_count": null,
   "id": "facdbe21-4f7f-4e22-853a-944d46ab3658",
   "metadata": {
    "tags": []
   },
   "outputs": [],
   "source": [
    "data = np.genfromtxt('ftF_top_mri.csv', delimiter=\",\", skip_header=1)\n",
    "data = data[:, 1:]\n",
    "data"
   ]
  },
  {
   "cell_type": "code",
   "execution_count": null,
   "id": "d09b68c5-e4ce-437e-896f-577013487b01",
   "metadata": {},
   "outputs": [],
   "source": [
    "np.save('top_vs_mri_data_for_relief.npy', data, allow_pickle=True, fix_imports=True)"
   ]
  },
  {
   "cell_type": "code",
   "execution_count": null,
   "id": "54489de7-e44f-4772-9b3c-7a3103e70ce1",
   "metadata": {
    "tags": []
   },
   "outputs": [],
   "source": [
    "both_togetherF.head(3)"
   ]
  },
  {
   "cell_type": "code",
   "execution_count": null,
   "id": "c692e420-d321-4ccb-b796-f07847caff17",
   "metadata": {
    "tags": []
   },
   "outputs": [],
   "source": [
    "# Specifying the batch (scanner variable) as well as a sex covariate to preserve:\n",
    "first_columns_as_one = [1] * len1\n",
    "last_columns_as_two = [2] * len2\n",
    "covars = {'batch':first_columns_as_one + last_columns_as_two,\n",
    "          #'Site': both_togetherF.loc['Site',:].values.tolist(), \n",
    "          'Sex':both_togetherF.loc['Sex',:].values.tolist(),\n",
    "           'Age':both_togetherF.loc['Age',:].values.tolist(),} \n",
    "covars = pd.DataFrame(covars) "
   ]
  },
  {
   "cell_type": "code",
   "execution_count": null,
   "id": "8789507d-9caa-4955-a213-c967f9096c77",
   "metadata": {},
   "outputs": [],
   "source": [
    "covars"
   ]
  },
  {
   "cell_type": "code",
   "execution_count": null,
   "id": "5be144a2-6040-452e-87ac-dbc1374760a6",
   "metadata": {},
   "outputs": [],
   "source": [
    "covars.to_csv('top_vs_mri_covars_for_relief.csv')"
   ]
  },
  {
   "cell_type": "code",
   "execution_count": null,
   "id": "32c8eb83-fe2c-49de-a593-3b146ab61d0b",
   "metadata": {
    "tags": []
   },
   "outputs": [],
   "source": [
    "# specifify sex as categorical\n",
    "categorical_cols = ['Sex']\n",
    "# To specify the name of the variable that encodes for the scanner/batch covariate:\n",
    "batch_col_mine = 'batch'\n",
    "our_continuous_col=['Age']\n",
    "#Harmonization step:\n",
    "\n",
    "\n",
    "# (n_dat, covars, batch_col, continuous_cols=continuous_cols,\n",
    "#                                     categorical_cols=categorical_cols)"
   ]
  }
 ],
 "metadata": {
  "kernelspec": {
   "display_name": "Python 3 (ipykernel)",
   "language": "python",
   "name": "python3"
  },
  "language_info": {
   "codemirror_mode": {
    "name": "ipython",
    "version": 3
   },
   "file_extension": ".py",
   "mimetype": "text/x-python",
   "name": "python",
   "nbconvert_exporter": "python",
   "pygments_lexer": "ipython3",
   "version": "3.9.18"
  }
 },
 "nbformat": 4,
 "nbformat_minor": 5
}
