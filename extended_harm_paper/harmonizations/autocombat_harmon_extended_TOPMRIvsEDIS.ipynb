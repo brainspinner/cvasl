{
 "cells": [
  {
   "cell_type": "markdown",
   "id": "7a33816b-aebe-4619-ad1f-a13d8d1e1c08",
   "metadata": {},
   "source": [
    "# Autocombat TOP and StrokeMRI vs. EDIS harmonized datasets"
   ]
  },
  {
   "cell_type": "markdown",
   "id": "7f765dc9-a0ac-498a-8c6a-72d1dbf11ad5",
   "metadata": {},
   "source": [
    "Note this must be run in the `comscan6` environment"
   ]
  },
  {
   "cell_type": "markdown",
   "id": "0b8443b2-c77a-4cde-80cc-d17253eeda50",
   "metadata": {
    "tags": []
   },
   "source": [
    "## import libraries"
   ]
  },
  {
   "cell_type": "code",
   "execution_count": null,
   "id": "6c43d78c-4b3d-4483-aa81-6155993812c1",
   "metadata": {
    "tags": []
   },
   "outputs": [],
   "source": [
    "import os\n",
    "import sys\n",
    "\n",
    "import pandas as pd\n",
    "import numpy as np\n",
    "\n",
    "sys.path.insert(0, '../../') # path to functions\n",
    "\n",
    "import cvasl.harmony as har\n",
    "import cvasl.vendor.comscan.neurocombat as autocombat"
   ]
  },
  {
   "cell_type": "markdown",
   "id": "47358f71-117f-4423-be78-bf1334bad921",
   "metadata": {},
   "source": [
    "## Let's see how we would apply this to our data\n",
    "We will have to flip it on it's side to make it work"
   ]
  },
  {
   "cell_type": "code",
   "execution_count": null,
   "id": "602e3571-f710-4f75-a7a0-d4bc1ce1051e",
   "metadata": {
    "tags": []
   },
   "outputs": [],
   "source": [
    "# Datasets for this work\n",
    "MRI_path = '../our_datasets/StrokeMRI/'\n",
    "TOP_path = '../our_datasets/TOP/'\n",
    "EDIS_path = '../our_datasets/EDIS/'\n",
    "file_name = 'TrainingDataComplete.csv'\n",
    "\n",
    "TOP_file = os.path.join(TOP_path, file_name)\n",
    "MRI_file = os.path.join(MRI_path, file_name)\n",
    "EDIS_file = os.path.join(EDIS_path, file_name)\n",
    "\n",
    "TOP = pd.read_csv(TOP_file,index_col=0)\n",
    "MRI = pd.read_csv(MRI_file,index_col=0)\n",
    "EDIS = pd.read_csv(EDIS_file,index_col=0)"
   ]
  },
  {
   "cell_type": "code",
   "execution_count": null,
   "id": "50996f31-97e4-480d-9a72-22aa6ac768ea",
   "metadata": {},
   "outputs": [],
   "source": [
    "sex_mapping = {1:0,2:1}\n",
    "EDIS = EDIS.assign(Sex = EDIS.Sex.map(sex_mapping))\n",
    "EDIS.head(3)"
   ]
  },
  {
   "cell_type": "code",
   "execution_count": null,
   "id": "d9e8545e-992e-494d-b75c-7e422eeaa58f",
   "metadata": {
    "tags": []
   },
   "outputs": [],
   "source": [
    "TOP = TOP.drop([ 'ID'], axis= 1)\n",
    "TOP.head(3)"
   ]
  },
  {
   "cell_type": "code",
   "execution_count": null,
   "id": "c944d6f3-40af-4b64-a44c-90868bc7bdcf",
   "metadata": {
    "tags": []
   },
   "outputs": [],
   "source": [
    "MRI = MRI.drop(['ID'],axis = 1)\n",
    "MRI.tail(5)"
   ]
  },
  {
   "cell_type": "code",
   "execution_count": null,
   "id": "287a155a-ea1a-4004-99c9-b270738eb8ca",
   "metadata": {
    "tags": []
   },
   "outputs": [],
   "source": [
    "EDIS = EDIS.drop(['ID'],axis = 1)\n",
    "EDIS.tail(5)"
   ]
  },
  {
   "cell_type": "code",
   "execution_count": null,
   "id": "b2ed47be-80b3-4568-8005-e1de70078f7b",
   "metadata": {
    "tags": []
   },
   "outputs": [],
   "source": [
    "TOPMRI = pd.concat([TOP, MRI])\n",
    "TOPMRI['Site'] = 0\n",
    "TOPMRI.head(3) "
   ]
  },
  {
   "cell_type": "code",
   "execution_count": null,
   "id": "27dddcbd-3d25-4be0-9f43-bde052a367c0",
   "metadata": {
    "tags": []
   },
   "outputs": [],
   "source": [
    "TOPMRI.columns = TOPMRI.columns.str.lower()"
   ]
  },
  {
   "cell_type": "code",
   "execution_count": null,
   "id": "7cd37469-1a6b-4dec-b217-689f30914f2b",
   "metadata": {
    "tags": []
   },
   "outputs": [],
   "source": [
    "EDIS.columns = EDIS.columns.str.lower()"
   ]
  },
  {
   "cell_type": "code",
   "execution_count": null,
   "id": "3a0ccb0b-8513-47c6-9a79-4c2670d601a1",
   "metadata": {
    "tags": []
   },
   "outputs": [],
   "source": [
    "TOPMRIEDIS = pd.concat([TOPMRI, EDIS])\n",
    "TOPMRIEDIS"
   ]
  },
  {
   "cell_type": "code",
   "execution_count": null,
   "id": "3799cd18-d975-4737-9146-2aaf739364f9",
   "metadata": {
    "tags": []
   },
   "outputs": [],
   "source": [
    "TOPMRIEDIS['decade']=(TOPMRIEDIS['age']/10).round()\n",
    "#TOPMRI['decade']"
   ]
  },
  {
   "cell_type": "code",
   "execution_count": null,
   "id": "106bd48a-766f-497c-b998-b28a56c43c3d",
   "metadata": {
    "tags": []
   },
   "outputs": [],
   "source": [
    "TOPMRIEDIS = TOPMRIEDIS.sort_values(by='age')\n",
    "TOPMRIEDIS.reset_index(inplace=True)\n",
    "TOPMRIEDIS['fine_grain'] = TOPMRIEDIS['age'].rolling(2).sum()/2\n",
    "TOPMRIEDIS"
   ]
  },
  {
   "cell_type": "code",
   "execution_count": null,
   "id": "4b28ed30-06a2-4ceb-9782-3fb67dddacf4",
   "metadata": {
    "tags": []
   },
   "outputs": [],
   "source": [
    "TOPMRIEDIS[2:].fine_grain.iloc[::2] = TOPMRIEDIS[:].fine_grain.iloc[1::2]\n",
    "#TOPMRI['fine_grain']"
   ]
  },
  {
   "cell_type": "code",
   "execution_count": null,
   "id": "eda81eec-6293-46fc-9f08-b374be3d0439",
   "metadata": {
    "tags": []
   },
   "outputs": [],
   "source": [
    "TOPMRIEDIS['fine_grain'][0] = TOPMRIEDIS['fine_grain'][1]\n",
    "TOPMRIEDIS['fine_grain']"
   ]
  },
  {
   "cell_type": "code",
   "execution_count": null,
   "id": "5bfcbef4-c8ca-41ff-bd01-66c9fff2992e",
   "metadata": {
    "tags": []
   },
   "outputs": [],
   "source": [
    "TOPMRIEDIS['decade'].unique()"
   ]
  },
  {
   "cell_type": "code",
   "execution_count": null,
   "id": "e42d3acc-8710-4dd8-aba2-4e0be3400aa9",
   "metadata": {
    "tags": []
   },
   "outputs": [],
   "source": [
    "TOPMRIEDIS.columns"
   ]
  },
  {
   "cell_type": "code",
   "execution_count": null,
   "id": "eca1a491-e4be-4f8d-a046-c148ae0bb502",
   "metadata": {
    "tags": []
   },
   "outputs": [],
   "source": [
    "combat = autocombat.Combat(\n",
    "    features=[ 'gm_vol', 'wm_vol', 'csf_vol',\n",
    "       'gm_icvratio', 'gmwm_icvratio', 'wmhvol_wmvol', 'wmh_count',\n",
    "        'aca_b_cov', 'mca_b_cov', 'pca_b_cov', 'totalgm_b_cov',\n",
    "        'aca_b_cbf', 'mca_b_cbf', 'pca_b_cbf', 'totalgm_b_cbf',],\n",
    "    sites=[ \"site\"], discrete_covariates=['sex'],continuous_covariates=['decade'],)\n",
    "\n",
    "fg_combat = autocombat.Combat(\n",
    "    features=[ 'gm_vol', 'wm_vol', 'csf_vol',\n",
    "       'gm_icvratio', 'gmwm_icvratio', 'wmhvol_wmvol', 'wmh_count',\n",
    "       'aca_b_cov', 'mca_b_cov', 'pca_b_cov', 'totalgm_b_cov',\n",
    "       'aca_b_cbf', 'mca_b_cbf', 'pca_b_cbf', 'totalgm_b_cbf',],\n",
    "    sites=[ \"site\"], discrete_covariates=['sex'],continuous_covariates=['fine_grain'],)\n"
   ]
  },
  {
   "cell_type": "code",
   "execution_count": null,
   "id": "ec8e1258-aee9-4fba-89c7-1b06ce1d16c9",
   "metadata": {
    "tags": []
   },
   "outputs": [],
   "source": [
    "print(combat.fit(TOPMRIEDIS))\n",
    "print(fg_combat.fit(TOPMRIEDIS))"
   ]
  },
  {
   "cell_type": "code",
   "execution_count": null,
   "id": "7168b26c-bc64-4295-aadb-cf41371fb04c",
   "metadata": {
    "tags": []
   },
   "outputs": [],
   "source": [
    "print(combat.gamma_star_)\n",
    "print(fg_combat.gamma_star_)"
   ]
  },
  {
   "cell_type": "code",
   "execution_count": null,
   "id": "b2d202f8-e4a8-4e13-8325-0c2028d9b081",
   "metadata": {
    "tags": []
   },
   "outputs": [],
   "source": [
    "transformed_TOPMRIEDIS= combat.transform(TOPMRIEDIS)\n",
    "transformed_TOPMRIEDIS.head(3)"
   ]
  },
  {
   "cell_type": "code",
   "execution_count": null,
   "id": "2bc32b31-418e-498f-aae4-9a975477e071",
   "metadata": {
    "tags": []
   },
   "outputs": [],
   "source": [
    "fg_transformed_TOPMRIEDIS= fg_combat.transform(TOPMRIEDIS)\n",
    "fg_transformed_TOPMRIEDIS.head(3)"
   ]
  },
  {
   "cell_type": "code",
   "execution_count": null,
   "id": "ea172a6e-71d1-4383-a965-81bc3a73054d",
   "metadata": {
    "tags": []
   },
   "outputs": [],
   "source": [
    "TOPMRIEDIS.head(3)"
   ]
  },
  {
   "cell_type": "code",
   "execution_count": null,
   "id": "f3e2348d-d1bb-4586-bbc0-f0fc73fbbb37",
   "metadata": {
    "tags": []
   },
   "outputs": [],
   "source": [
    "transformed_TOPMRIEDIS= combat.transform(TOPMRIEDIS)\n",
    "transformed_TOPMRIEDIS.head(3)"
   ]
  },
  {
   "cell_type": "code",
   "execution_count": null,
   "id": "163c9483-a7c6-4745-a60a-eafeef449c26",
   "metadata": {
    "tags": []
   },
   "outputs": [],
   "source": [
    "fg_transformed_TOPMRIEDIS= fg_combat.transform(TOPMRIEDIS)\n",
    "fg_transformed_TOPMRIEDIS.head(3)"
   ]
  },
  {
   "cell_type": "code",
   "execution_count": null,
   "id": "4ae23c53-a545-4122-834d-4925e04eb7b1",
   "metadata": {
    "tags": []
   },
   "outputs": [],
   "source": [
    "transformed_TOPMRIEDIS.columns"
   ]
  },
  {
   "cell_type": "code",
   "execution_count": null,
   "id": "0cc933c7-af00-4156-8433-a34e35c2834c",
   "metadata": {
    "tags": []
   },
   "outputs": [],
   "source": [
    "TOPMRI_transformed = transformed_TOPMRIEDIS[ transformed_TOPMRIEDIS['site']==0]\n",
    "TOPMRI_transformed = TOPMRI_transformed.drop(['site', 'decade','fine_grain', 'index'], axis=1)\n",
    "TOPMRI_transformed.head(3)"
   ]
  },
  {
   "cell_type": "code",
   "execution_count": null,
   "id": "c12c573e-b153-4db5-92d7-7ae991824d3d",
   "metadata": {
    "tags": []
   },
   "outputs": [],
   "source": [
    "fg_TOPMRI_transformed = fg_transformed_TOPMRIEDIS[ fg_transformed_TOPMRIEDIS['site']==0]\n",
    "fg_TOPMRI_transformed = fg_TOPMRI_transformed .drop(['site', 'decade','fine_grain', 'index'], axis=1)\n",
    "fg_TOPMRI_transformed.head(3)"
   ]
  },
  {
   "cell_type": "code",
   "execution_count": null,
   "id": "0153b72a-55fe-4d39-9b90-e02171eeb50b",
   "metadata": {
    "tags": []
   },
   "outputs": [],
   "source": [
    "EDIS_transformed = transformed_TOPMRIEDIS[ transformed_TOPMRIEDIS['site']==1]\n",
    "EDIS_transformed = EDIS_transformed.drop(['site', 'decade', 'index', 'fine_grain'], axis=1)\n",
    "EDIS_transformed.head(3)"
   ]
  },
  {
   "cell_type": "code",
   "execution_count": null,
   "id": "159c7f7e-6966-4032-9d09-adc68b080de5",
   "metadata": {
    "tags": []
   },
   "outputs": [],
   "source": [
    "fg_EDIS_transformed = fg_transformed_TOPMRIEDIS[fg_transformed_TOPMRIEDIS['site']==1]\n",
    "fg_EDIS_transformed = fg_EDIS_transformed.drop(['site', 'decade', 'index', 'fine_grain'], axis=1)\n",
    "fg_EDIS_transformed.head(3)"
   ]
  },
  {
   "cell_type": "code",
   "execution_count": null,
   "id": "90b48da2-5a47-4bab-8f85-8e02ac3975f6",
   "metadata": {
    "tags": []
   },
   "outputs": [],
   "source": [
    "TOPMRI_transformed.to_csv('harm_results/autocombat/autocom_harm_topmri_v_e.csv')\n",
    "EDIS_transformed.to_csv('harm_results/autocombat/autocom_harm_EDIS.csv')\n",
    "\n",
    "fg_TOPMRI_transformed.to_csv('harm_results/autocombat/fg_autocom_harm_topmri_v_e.csv')\n",
    "fg_EDIS_transformed.to_csv('harm_results/autocombat/fg_autocom_harm_EDIS1.csv')"
   ]
  },
  {
   "cell_type": "markdown",
   "id": "bdcb03f2-ccf3-47a8-89b9-c4a7bf26b1a6",
   "metadata": {},
   "source": [
    "# Data quality check"
   ]
  },
  {
   "cell_type": "code",
   "execution_count": null,
   "id": "ae754821-8292-49d2-8533-ab98c866c07e",
   "metadata": {
    "tags": []
   },
   "outputs": [],
   "source": [
    "TOPMRI_transformed.isna().sum().sum()"
   ]
  },
  {
   "cell_type": "code",
   "execution_count": null,
   "id": "0c455742-4296-462c-877e-1f2742d1eb5e",
   "metadata": {
    "tags": []
   },
   "outputs": [],
   "source": [
    "EDIS_transformed.isna().sum().sum()"
   ]
  },
  {
   "cell_type": "code",
   "execution_count": null,
   "id": "30581e3e-2f20-4209-b516-b5b3d35dab55",
   "metadata": {
    "tags": []
   },
   "outputs": [],
   "source": [
    "number_columns = ['sex', 'gm_vol', 'wm_vol', 'csf_vol',\n",
    "       'gm_icvratio', 'gmwm_icvratio', 'wmhvol_wmvol', 'wmh_count',\n",
    "       'aca_b_cov', 'mca_b_cov', 'pca_b_cov', 'totalgm_b_cov',\n",
    "        'aca_b_cbf', 'mca_b_cbf', 'pca_b_cbf', 'totalgm_b_cbf',]"
   ]
  },
  {
   "cell_type": "code",
   "execution_count": null,
   "id": "f8086e1c-ca54-4d5d-af69-df1b5a2c2ddf",
   "metadata": {
    "tags": []
   },
   "outputs": [],
   "source": [
    "#neuro_harm_top.head(3)\n",
    "(TOPMRI_transformed[number_columns] < 0).sum()"
   ]
  },
  {
   "cell_type": "code",
   "execution_count": null,
   "id": "135a1a3a-cc9d-4ec5-8580-b82a1c41bbf2",
   "metadata": {
    "tags": []
   },
   "outputs": [],
   "source": [
    "(EDIS_transformed[number_columns] < 0).sum()"
   ]
  },
  {
   "cell_type": "code",
   "execution_count": null,
   "id": "d2c853c8-6213-4f24-8b35-caba4e208f8d",
   "metadata": {
    "tags": []
   },
   "outputs": [],
   "source": [
    "EDIS_transformed"
   ]
  },
  {
   "cell_type": "markdown",
   "id": "0433b537-ac0d-4b48-b38f-d8cc9276a9cd",
   "metadata": {},
   "source": [
    "## So some variables are again problematic, becuas they are negative"
   ]
  },
  {
   "cell_type": "markdown",
   "id": "c573aad9-bc89-4b0d-8773-c097f2bed564",
   "metadata": {
    "tags": []
   },
   "source": [
    " We will wait about logging it until we see other columns we may want to log across all datasets"
   ]
  },
  {
   "cell_type": "code",
   "execution_count": null,
   "id": "c73763e3-5a00-497e-b46f-6ca27e6ebf09",
   "metadata": {},
   "outputs": [],
   "source": []
  }
 ],
 "metadata": {
  "kernelspec": {
   "display_name": "Python 3 (ipykernel)",
   "language": "python",
   "name": "python3"
  },
  "language_info": {
   "codemirror_mode": {
    "name": "ipython",
    "version": 3
   },
   "file_extension": ".py",
   "mimetype": "text/x-python",
   "name": "python",
   "nbconvert_exporter": "python",
   "pygments_lexer": "ipython3",
   "version": "3.7.12"
  }
 },
 "nbformat": 4,
 "nbformat_minor": 5
}
