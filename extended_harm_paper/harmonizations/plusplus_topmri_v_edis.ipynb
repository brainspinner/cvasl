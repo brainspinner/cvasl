{
 "cells": [
  {
   "cell_type": "code",
   "execution_count": null,
   "id": "0aa7a6cd-2766-49f2-ad78-bd038f145fbd",
   "metadata": {
    "vscode": {
     "languageId": "r"
    }
   },
   "outputs": [],
   "source": [
    "#sys.path.insert(0, '../../')\n",
    "source('../../cvasl/vendor/ComBat++/combatPP.R') #as pluscombat\n",
    "source(\"../../cvasl/vendor/ComBat++/utils.R\")"
   ]
  },
  {
   "cell_type": "code",
   "execution_count": null,
   "id": "cb229252-ded2-43c6-ba79-a181ac064242",
   "metadata": {
    "vscode": {
     "languageId": "r"
    }
   },
   "outputs": [],
   "source": [
    "library(matrixStats)"
   ]
  },
  {
   "cell_type": "code",
   "execution_count": null,
   "id": "b3e6452a-2787-49c7-9844-eaf9a2c7002b",
   "metadata": {
    "vscode": {
     "languageId": "r"
    }
   },
   "outputs": [],
   "source": [
    "TOP <- read.csv('../our_datasets/TOP/TrainingDataComplete.csv')\n",
    "\n",
    " \n",
    "head(TOP, 4)"
   ]
  },
  {
   "cell_type": "code",
   "execution_count": null,
   "id": "c885484b-2d9a-4dfd-9c6e-867fec7ba690",
   "metadata": {
    "vscode": {
     "languageId": "r"
    }
   },
   "outputs": [],
   "source": [
    "MRI <- read.csv('../our_datasets/StrokeMRI/TrainingDataComplete.csv')\n",
    "head(MRI, 4)"
   ]
  },
  {
   "cell_type": "code",
   "execution_count": null,
   "id": "0e5cfaa8-21d8-4982-a04e-84077aa54eef",
   "metadata": {
    "vscode": {
     "languageId": "r"
    }
   },
   "outputs": [],
   "source": [
    "EDIS <- read.csv('../our_datasets/EDIS/TrainingDataComplete.csv')\n",
    "head(EDIS, 4)"
   ]
  },
  {
   "cell_type": "code",
   "execution_count": null,
   "id": "c3fcb4e4-4ea7-4969-9799-b5114e2d4cb5",
   "metadata": {
    "vscode": {
     "languageId": "r"
    }
   },
   "outputs": [],
   "source": [
    "TOPMRI<- rbind(TOP, MRI)\n",
    "conditions <- c(1)\n",
    "replacement_values <- c(0)\n",
    "# Use replace() \n",
    "TOPMRI$Site <- replace(TOPMRI$Site, TOPMRI$Site %in% conditions, replacement_values)\n",
    "head(TOPMRI, 3)"
   ]
  },
  {
   "cell_type": "code",
   "execution_count": null,
   "id": "529ba383-3f85-4493-ada7-e29615e98305",
   "metadata": {
    "vscode": {
     "languageId": "r"
    }
   },
   "outputs": [],
   "source": [
    "fused_dat <- rbind(TOPMRI, EDIS)\n",
    "head(fused_dat, 3)"
   ]
  },
  {
   "cell_type": "code",
   "execution_count": null,
   "id": "598a20fa-c4b4-41a3-a924-daf5b92c60cf",
   "metadata": {
    "vscode": {
     "languageId": "r"
    }
   },
   "outputs": [],
   "source": [
    "age <- c((fused_dat['Age']))\n",
    "age <- as.numeric(unlist(age))\n",
    "print(typeof(age))"
   ]
  },
  {
   "cell_type": "code",
   "execution_count": null,
   "id": "831b4fe5-6cc5-4bfa-b157-1f6a247e4079",
   "metadata": {
    "vscode": {
     "languageId": "r"
    }
   },
   "outputs": [],
   "source": [
    "#age <- c((fused_dat['Age'])) # Continuous variable\n",
    "sex <- c((fused_dat['Sex']))\n",
    "sex <- as.numeric(unlist(sex))\n",
    "sex <- as.factor(sex) # Categorical variable\n",
    "mod <- model.matrix(~age+sex)\n"
   ]
  },
  {
   "cell_type": "code",
   "execution_count": null,
   "id": "d8350f89-326a-4ef9-84e1-3d413cd81c51",
   "metadata": {
    "vscode": {
     "languageId": "r"
    }
   },
   "outputs": [],
   "source": [
    "batchvector <- c(fused_dat['Site'])\n",
    "batchvector <- as.numeric(unlist(batchvector))"
   ]
  },
  {
   "cell_type": "code",
   "execution_count": null,
   "id": "fefcd500-43a7-4372-8542-c8843bcc796f",
   "metadata": {
    "vscode": {
     "languageId": "r"
    }
   },
   "outputs": [],
   "source": [
    "head(fused_dat)"
   ]
  },
  {
   "cell_type": "code",
   "execution_count": null,
   "id": "14fa4658-d8d7-4d14-a27c-8a4be24a6af7",
   "metadata": {
    "vscode": {
     "languageId": "r"
    }
   },
   "outputs": [],
   "source": [
    "fused_dat_m1 <- fused_dat[,-1]\n",
    "fused_dat_m1 <- fused_dat_m1[,-1]\n",
    "fused_dat_m1 <- fused_dat_m1[,-1]\n",
    "fused_dat_m1 <- fused_dat_m1[,-1]\n",
    "fused_dat_m1 <- fused_dat_m1[,-1]\n",
    "head(fused_dat_m1, 3)"
   ]
  },
  {
   "cell_type": "code",
   "execution_count": null,
   "id": "f932f51a-c4f3-4b6c-b946-a950a9a2b342",
   "metadata": {
    "vscode": {
     "languageId": "r"
    }
   },
   "outputs": [],
   "source": [
    "ta <- t(fused_dat_m1) "
   ]
  },
  {
   "cell_type": "code",
   "execution_count": null,
   "id": "6b13c3f4-40c6-491b-8136-6c76f8a4554c",
   "metadata": {
    "vscode": {
     "languageId": "r"
    }
   },
   "outputs": [],
   "source": [
    "#combatPP(ta, batchvector)"
   ]
  },
  {
   "cell_type": "code",
   "execution_count": null,
   "id": "ebee9ed9-c436-4765-907f-15340f666ee0",
   "metadata": {
    "vscode": {
     "languageId": "r"
    }
   },
   "outputs": [],
   "source": [
    "data.harmonized <-combatPP(ta,  mod=mod, batchvector) # need to add mod=mod"
   ]
  },
  {
   "cell_type": "code",
   "execution_count": null,
   "id": "87ee8b83-375f-4c38-9019-ba2d16a75e81",
   "metadata": {
    "vscode": {
     "languageId": "r"
    }
   },
   "outputs": [],
   "source": [
    "#data.harmonized"
   ]
  },
  {
   "cell_type": "code",
   "execution_count": null,
   "id": "31a3cc68-a5e4-4845-8a5e-90f21d894874",
   "metadata": {
    "vscode": {
     "languageId": "r"
    }
   },
   "outputs": [],
   "source": [
    "new_df <- data.harmonized$dat.combat"
   ]
  },
  {
   "cell_type": "code",
   "execution_count": null,
   "id": "13ed1bd7-325d-435a-a4cc-cc6395f65e32",
   "metadata": {
    "vscode": {
     "languageId": "r"
    }
   },
   "outputs": [],
   "source": [
    "head(fused_dat)"
   ]
  },
  {
   "cell_type": "code",
   "execution_count": null,
   "id": "0ea7a20a-2b4d-4eb3-8446-f79d39f05604",
   "metadata": {
    "vscode": {
     "languageId": "r"
    }
   },
   "outputs": [],
   "source": [
    "fused_dat_front <- fused_dat[c(1:5)]\n",
    "head(fused_dat_front,3) "
   ]
  },
  {
   "cell_type": "code",
   "execution_count": null,
   "id": "ef0cc40f-6842-4343-a04c-63bbf8e370bf",
   "metadata": {
    "vscode": {
     "languageId": "r"
    }
   },
   "outputs": [],
   "source": [
    "rollback <- t(new_df)\n",
    "head(rollback, 3)\n"
   ]
  },
  {
   "cell_type": "code",
   "execution_count": null,
   "id": "0edb5f63-fb1c-4b71-a416-791fa4006acd",
   "metadata": {
    "vscode": {
     "languageId": "r"
    }
   },
   "outputs": [],
   "source": [
    "harmonized_set <- cbind(fused_dat_front, rollback)"
   ]
  },
  {
   "cell_type": "code",
   "execution_count": null,
   "id": "bc848770-2211-4d7f-8ac6-47aec4788791",
   "metadata": {
    "vscode": {
     "languageId": "r"
    }
   },
   "outputs": [],
   "source": [
    "head(harmonized_set)"
   ]
  },
  {
   "cell_type": "code",
   "execution_count": null,
   "id": "328fc364-d64f-4dc6-ad39-373b176fd25b",
   "metadata": {
    "vscode": {
     "languageId": "r"
    }
   },
   "outputs": [],
   "source": [
    "harmonized_topmri <- harmonized_set[which(harmonized_set['Site'] == 0),] \n",
    "head(harmonized_topmri,3)"
   ]
  },
  {
   "cell_type": "code",
   "execution_count": null,
   "id": "78b379fb-2ba8-4312-a95d-82e51c02bc4b",
   "metadata": {
    "vscode": {
     "languageId": "r"
    }
   },
   "outputs": [],
   "source": [
    "harmonized_edis <- harmonized_set[which(harmonized_set['Site'] == 1),] \n",
    "head(harmonized_edis,3)"
   ]
  },
  {
   "cell_type": "code",
   "execution_count": null,
   "id": "72001e60-d1c6-4eac-b785-b7e2d3946a51",
   "metadata": {
    "vscode": {
     "languageId": "r"
    }
   },
   "outputs": [],
   "source": [
    "# now save as csvs\n",
    "write.csv(harmonized_topmri, \"harm_results/plus/plus_harmonized_topmri_v_edis.csv\")\n",
    "write.csv(harmonized_edis, \"harm_results/plus/plus_harmonized_edis_from_v1.csv\")"
   ]
  },
  {
   "cell_type": "code",
   "execution_count": null,
   "id": "d22414b5-d984-42a0-a0ae-16030041426d",
   "metadata": {
    "vscode": {
     "languageId": "r"
    }
   },
   "outputs": [],
   "source": []
  }
 ],
 "metadata": {
  "kernelspec": {
   "display_name": "R",
   "language": "R",
   "name": "ir"
  },
  "language_info": {
   "codemirror_mode": "r",
   "file_extension": ".r",
   "mimetype": "text/x-r-source",
   "name": "R",
   "pygments_lexer": "r",
   "version": "4.1.3"
  }
 },
 "nbformat": 4,
 "nbformat_minor": 5
}
