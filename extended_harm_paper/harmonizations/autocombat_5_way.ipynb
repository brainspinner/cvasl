{
 "cells": [
  {
   "cell_type": "markdown",
   "id": "20281fa8-3de8-46de-bf9c-8ee1abd9938e",
   "metadata": {},
   "source": [
    "# Autocombat  5 way harmonized datasets"
   ]
  },
  {
   "cell_type": "markdown",
   "id": "9decc087-20f0-4682-b4eb-a6e227ee4f94",
   "metadata": {},
   "source": [
    "Note this must be run in the `comscan6` environment"
   ]
  },
  {
   "cell_type": "markdown",
   "id": "a9e61c62-8b8a-49bf-8049-653308acc5f0",
   "metadata": {
    "tags": []
   },
   "source": [
    "## import libraries"
   ]
  },
  {
   "cell_type": "code",
   "execution_count": null,
   "id": "16f2d6ec-9016-43fe-8175-c1b65bb6961a",
   "metadata": {
    "tags": []
   },
   "outputs": [],
   "source": [
    "import os\n",
    "import sys\n",
    "\n",
    "import pandas as pd\n",
    "import numpy as np\n",
    "\n",
    "sys.path.insert(0, '../../') # path to functions\n",
    "\n",
    "import cvasl.harmony as har\n",
    "import cvasl.vendor.comscan.neurocombat as autocombat"
   ]
  },
  {
   "cell_type": "markdown",
   "id": "bb87349a-1050-4c01-8db0-b3aa4ab3b20b",
   "metadata": {},
   "source": [
    "## Let's see how we would apply this to our data\n",
    "We will have to flip it on it's side to make it work"
   ]
  },
  {
   "cell_type": "code",
   "execution_count": null,
   "id": "b5177dc0-2fab-4782-bb82-59be6e39476e",
   "metadata": {
    "tags": []
   },
   "outputs": [],
   "source": [
    "# Datasets for this work\n",
    "Insight46_path = '../our_datasets/Insight46/'\n",
    "MRI_path = '../our_datasets/StrokeMRI/'\n",
    "TOP_path = '../our_datasets/TOP/'\n",
    "SABRE_path = '../our_datasets/SABRE/'\n",
    "EDIS_path = '../our_datasets/EDIS/'\n",
    "HELIUS_path = '../our_datasets/HELIUS/'\n",
    "file_name = 'TrainingDataComplete.csv'\n",
    "\n",
    "TOP_file = os.path.join(TOP_path, file_name)\n",
    "MRI_file = os.path.join(MRI_path, file_name)\n",
    "SABRE_file = os.path.join(SABRE_path, file_name)\n",
    "EDIS_file = os.path.join(EDIS_path, file_name)\n",
    "Insight46_file = os.path.join(Insight46_path, file_name)\n",
    "HELIUS_file = os.path.join(HELIUS_path, file_name)\n",
    "\n",
    "TOP = pd.read_csv(TOP_file,index_col=0)\n",
    "MRI = pd.read_csv(MRI_file,index_col=0)\n",
    "Insight46 = pd.read_csv(Insight46_file,index_col=0)\n",
    "SABRE = pd.read_csv(SABRE_file,index_col=0)\n",
    "EDIS = pd.read_csv(EDIS_file,index_col=0)\n",
    "HELIUS = pd.read_csv(HELIUS_file,index_col=0)"
   ]
  },
  {
   "cell_type": "markdown",
   "id": "a2d32bda-55c8-4250-9cc3-302d38d18437",
   "metadata": {},
   "source": [
    "### re-assign sex where neccesary"
   ]
  },
  {
   "cell_type": "code",
   "execution_count": null,
   "id": "21b63a22-c9ad-4da9-9633-e3edde8c21a2",
   "metadata": {},
   "outputs": [],
   "source": [
    "sex_mapping = {1:0,2:1}\n",
    "Insight46 = Insight46.assign(Sex = Insight46.Sex.map(sex_mapping))\n",
    "Insight46.head(3)"
   ]
  },
  {
   "cell_type": "code",
   "execution_count": null,
   "id": "724a84f2-e297-4234-a753-e933767a5f8b",
   "metadata": {
    "tags": []
   },
   "outputs": [],
   "source": [
    "EDIS = EDIS.assign(Sex = EDIS.Sex.map(sex_mapping))\n",
    "EDIS.head(3)"
   ]
  },
  {
   "cell_type": "code",
   "execution_count": null,
   "id": "e07ae850-208d-4db6-a72a-36dd0d2b5f90",
   "metadata": {
    "tags": []
   },
   "outputs": [],
   "source": [
    "SABRE = SABRE.assign(Sex = SABRE.Sex.map(sex_mapping))\n",
    "SABRE.head(3)"
   ]
  },
  {
   "cell_type": "code",
   "execution_count": null,
   "id": "dda29c58-86a1-401c-b09a-1b3d7af453c9",
   "metadata": {},
   "outputs": [],
   "source": [
    "### drop ID columns"
   ]
  },
  {
   "cell_type": "code",
   "execution_count": null,
   "id": "7e8cf89a-bcf7-40c5-ae4e-3bdd9c067e6b",
   "metadata": {
    "tags": []
   },
   "outputs": [],
   "source": [
    "TOP = TOP.drop([ 'ID'], axis= 1)\n",
    "TOP.head(3)"
   ]
  },
  {
   "cell_type": "code",
   "execution_count": null,
   "id": "604e59aa-8e3c-49ef-ac92-7051f6759b9e",
   "metadata": {
    "tags": []
   },
   "outputs": [],
   "source": [
    "MRI = MRI.drop(['ID'],axis = 1)\n",
    "MRI.tail(5)"
   ]
  },
  {
   "cell_type": "code",
   "execution_count": null,
   "id": "746756c3-ad25-4f30-8bf9-5bc750a0ce8b",
   "metadata": {
    "tags": []
   },
   "outputs": [],
   "source": [
    "EDIS = EDIS.drop(['ID'],axis = 1)\n",
    "EDIS.tail(5)"
   ]
  },
  {
   "cell_type": "code",
   "execution_count": null,
   "id": "c03c93b3-4616-4c0e-a28e-07bb28c8538e",
   "metadata": {
    "tags": []
   },
   "outputs": [],
   "source": [
    "SABRE = SABRE.drop(['ID'],axis = 1)\n",
    "SABRE.tail(5)"
   ]
  },
  {
   "cell_type": "code",
   "execution_count": null,
   "id": "4895193d-0d39-48fa-bec5-15c50874af7e",
   "metadata": {
    "tags": []
   },
   "outputs": [],
   "source": [
    "HELIUS = HELIUS.drop(['ID'],axis = 1)\n",
    "HELIUS.tail(5)"
   ]
  },
  {
   "cell_type": "code",
   "execution_count": null,
   "id": "18d6a8ea-9fdd-4bb1-a4b5-d0f4223df1ec",
   "metadata": {
    "tags": []
   },
   "outputs": [],
   "source": [
    "Insight46 = Insight46.drop(['ID'],axis = 1)\n",
    "Insight46.tail(5)"
   ]
  },
  {
   "cell_type": "code",
   "execution_count": null,
   "id": "234bc7f3-d7cc-4e15-8951-b7408ff318b4",
   "metadata": {
    "tags": []
   },
   "outputs": [],
   "source": [
    "TOPMRI = pd.concat([TOP, MRI])\n",
    "TOPMRI['Site'] = 0\n",
    "TOPMRI.head(3) "
   ]
  },
  {
   "cell_type": "code",
   "execution_count": null,
   "id": "15782084-f653-408e-8f40-096b634f5a4d",
   "metadata": {
    "tags": []
   },
   "outputs": [],
   "source": [
    "datasets = [TOPMRI, HELIUS, SABRE, EDIS, Insight46]\n",
    "for everyone in datasets:\n",
    "    everyone.columns =  everyone.columns.str.lower()\n",
    "TOPMRI.head(3)"
   ]
  },
  {
   "cell_type": "code",
   "execution_count": null,
   "id": "754575c1-ebc5-49ed-9d6b-864333a4dfe2",
   "metadata": {
    "tags": []
   },
   "outputs": [],
   "source": [
    "TOPMRI['site'] = 0\n",
    "EDIS['site'] = 1\n",
    "HELIUS['site'] = 2\n",
    "SABRE['site'] = 3\n",
    "Insight46['site'] = 4"
   ]
  },
  {
   "cell_type": "code",
   "execution_count": null,
   "id": "5845f82e-1f38-4205-aaf2-315c512e4152",
   "metadata": {
    "tags": []
   },
   "outputs": [],
   "source": [
    "FIVEDATA = pd.concat(datasets)\n"
   ]
  },
  {
   "cell_type": "code",
   "execution_count": null,
   "id": "6095ddb2-fc35-4878-91c6-105010bafdad",
   "metadata": {
    "tags": []
   },
   "outputs": [],
   "source": [
    "FIVEDATA['decade']=(FIVEDATA['age']/10).round()\n",
    "#FIVEDATA['decade']"
   ]
  },
  {
   "cell_type": "code",
   "execution_count": null,
   "id": "9e1aea9d-60b5-4e62-9c09-54a5392def0b",
   "metadata": {
    "tags": []
   },
   "outputs": [],
   "source": [
    "FIVEDATA = FIVEDATA.sort_values(by='age')\n",
    "FIVEDATA.reset_index(inplace=True)\n",
    "FIVEDATA['fine_grain'] = FIVEDATA['age'].rolling(2).sum()/2\n",
    "FIVEDATA"
   ]
  },
  {
   "cell_type": "code",
   "execution_count": null,
   "id": "326d905a-1c05-4b5a-b376-d84c620fd012",
   "metadata": {},
   "outputs": [],
   "source": [
    "FIVEDATA.fine_grain"
   ]
  },
  {
   "cell_type": "code",
   "execution_count": null,
   "id": "9bb42799-7b76-4bdc-b375-46e7fc127cf6",
   "metadata": {
    "tags": []
   },
   "outputs": [],
   "source": [
    "FIVEDATA[:].fine_grain.iloc[::2] = FIVEDATA[:].fine_grain.iloc[1::2]\n",
    "FIVEDATA['fine_grain']"
   ]
  },
  {
   "cell_type": "code",
   "execution_count": null,
   "id": "6ee2ba74-abb7-45a0-aa13-a1d7ecc99c19",
   "metadata": {
    "tags": []
   },
   "outputs": [],
   "source": []
  },
  {
   "cell_type": "code",
   "execution_count": null,
   "id": "8e970234-8524-420b-86c9-3dfd8d50aea1",
   "metadata": {
    "tags": []
   },
   "outputs": [],
   "source": [
    "#FIVEDATA['fine_grain'][-1] = FIVEDATA['fine_grain'][-2]"
   ]
  },
  {
   "cell_type": "code",
   "execution_count": null,
   "id": "4b05792e-8cb6-4e6e-a7bf-ccb8b2165652",
   "metadata": {
    "tags": []
   },
   "outputs": [],
   "source": [
    "FIVEDATA['decade'].unique()"
   ]
  },
  {
   "cell_type": "code",
   "execution_count": null,
   "id": "ffb2451c-0599-4b81-bc16-0c808d67707e",
   "metadata": {
    "tags": []
   },
   "outputs": [],
   "source": [
    "FIVEDATA.columns"
   ]
  },
  {
   "cell_type": "code",
   "execution_count": null,
   "id": "4694c4c5-44b5-4d4b-83f9-6f20fcf30a87",
   "metadata": {
    "tags": []
   },
   "outputs": [],
   "source": [
    "combat = autocombat.Combat(\n",
    "    features=[ 'gm_vol', 'wm_vol', 'csf_vol',\n",
    "       'gm_icvratio', 'gmwm_icvratio', 'wmhvol_wmvol', 'wmh_count',\n",
    "        'aca_b_cov', 'mca_b_cov', 'pca_b_cov', 'totalgm_b_cov',\n",
    "        'aca_b_cbf', 'mca_b_cbf', 'pca_b_cbf', 'totalgm_b_cbf',],\n",
    "    sites=[ \"site\"], discrete_covariates=['sex'],continuous_covariates=['decade'],)\n",
    "\n",
    "fg_combat = autocombat.Combat(\n",
    "    features=[ 'gm_vol', 'wm_vol', 'csf_vol',\n",
    "       'gm_icvratio', 'gmwm_icvratio', 'wmhvol_wmvol', 'wmh_count',\n",
    "       'aca_b_cov', 'mca_b_cov', 'pca_b_cov', 'totalgm_b_cov',\n",
    "       'aca_b_cbf', 'mca_b_cbf', 'pca_b_cbf', 'totalgm_b_cbf',],\n",
    "    sites=[ \"site\"], discrete_covariates=['sex'],continuous_covariates=['fine_grain'],)\n"
   ]
  },
  {
   "cell_type": "code",
   "execution_count": null,
   "id": "80f057c4-be6d-4e01-aced-8e172ce671e6",
   "metadata": {},
   "outputs": [],
   "source": []
  },
  {
   "cell_type": "code",
   "execution_count": null,
   "id": "bbf67c1c-18fe-4c4b-ba4d-71d418408d73",
   "metadata": {
    "tags": []
   },
   "outputs": [],
   "source": [
    "print(combat.fit(FIVEDATA))\n",
    "print(fg_combat.fit(FIVEDATA))"
   ]
  },
  {
   "cell_type": "code",
   "execution_count": null,
   "id": "35808c8d-9ced-4334-a9c7-e706e5d65f6f",
   "metadata": {
    "tags": []
   },
   "outputs": [],
   "source": [
    "print(combat.gamma_star_)\n",
    "print(fg_combat.gamma_star_)"
   ]
  },
  {
   "cell_type": "code",
   "execution_count": null,
   "id": "5c7b0f17-93b7-42f3-8ec5-2e5876e2ff4b",
   "metadata": {
    "tags": []
   },
   "outputs": [],
   "source": [
    "transformed_FIVEDATA= combat.transform(FIVEDATA)\n",
    "transformed_FIVEDATA.head(3)"
   ]
  },
  {
   "cell_type": "code",
   "execution_count": null,
   "id": "b1db2c22-bd70-4152-a1b7-95f83f27ec49",
   "metadata": {
    "tags": []
   },
   "outputs": [],
   "source": [
    "fg_transformed_FIVEDATA= fg_combat.transform(FIVEDATA)\n",
    "fg_transformed_FIVEDATA.head(3)"
   ]
  },
  {
   "cell_type": "code",
   "execution_count": null,
   "id": "fc9f5674-7224-485a-ac1e-92a723533569",
   "metadata": {
    "tags": []
   },
   "outputs": [],
   "source": [
    "FIVEDATA.head(3)"
   ]
  },
  {
   "cell_type": "code",
   "execution_count": null,
   "id": "2c4a4575-291e-4fd8-a8be-85cfed21837b",
   "metadata": {},
   "outputs": [],
   "source": []
  },
  {
   "cell_type": "code",
   "execution_count": null,
   "id": "01a962aa-fb16-442a-8076-d0ea83e4d1d4",
   "metadata": {
    "tags": []
   },
   "outputs": [],
   "source": [
    "TOPMRI_transformed = transformed_FIVEDATA[ transformed_FIVEDATA['site']==0]\n",
    "TOPMRI_transformed = TOPMRI_transformed.drop(['site', 'decade','fine_grain', 'index'], axis=1)\n",
    "TOPMRI_transformed.head(3)"
   ]
  },
  {
   "cell_type": "code",
   "execution_count": null,
   "id": "7326cfa0-9f3e-451e-93b2-24f46a7df2bf",
   "metadata": {
    "tags": []
   },
   "outputs": [],
   "source": [
    "fg_TOPMRI_transformed = fg_transformed_FIVEDATA[fg_transformed_FIVEDATA['site']==0]\n",
    "fg_TOPMRI_transformed = fg_TOPMRI_transformed .drop(['site', 'decade','fine_grain', 'index'], axis=1)\n",
    "fg_TOPMRI_transformed.head(3)"
   ]
  },
  {
   "cell_type": "code",
   "execution_count": null,
   "id": "80ca69b6-a32d-48db-b1c4-076551779c1e",
   "metadata": {
    "tags": []
   },
   "outputs": [],
   "source": [
    "EDIS_transformed = transformed_FIVEDATA[ transformed_FIVEDATA['site']==1]\n",
    "EDIS_transformed = EDIS_transformed.drop(['site', 'decade', 'index', 'fine_grain'], axis=1)\n",
    "EDIS_transformed.head(3)"
   ]
  },
  {
   "cell_type": "code",
   "execution_count": null,
   "id": "f55e3570-70b3-472a-af7a-16fea8f852c9",
   "metadata": {
    "tags": []
   },
   "outputs": [],
   "source": [
    "HELIUS_transformed = transformed_FIVEDATA[ transformed_FIVEDATA['site']==2]\n",
    "HELIUS_transformed = HELIUS_transformed.drop(['site', 'decade', 'index', 'fine_grain'], axis=1)\n",
    "HELIUS_transformed.head(3)"
   ]
  },
  {
   "cell_type": "code",
   "execution_count": null,
   "id": "2a1b1dae-cf52-4e0e-974d-71650208aaa6",
   "metadata": {
    "tags": []
   },
   "outputs": [],
   "source": [
    "SABRE_transformed = transformed_FIVEDATA[ transformed_FIVEDATA['site']==3]\n",
    "SABRE_transformed = SABRE_transformed.drop(['site', 'decade', 'index', 'fine_grain'], axis=1)\n",
    "SABRE_transformed.head(3)"
   ]
  },
  {
   "cell_type": "code",
   "execution_count": null,
   "id": "4e4f1d04-6e2e-4a69-9dde-f2cac3f68c72",
   "metadata": {
    "tags": []
   },
   "outputs": [],
   "source": [
    "Insight_transformed = transformed_FIVEDATA[ transformed_FIVEDATA['site']==4]\n",
    "Insight_transformed = Insight_transformed.drop(['site', 'decade', 'index', 'fine_grain'], axis=1)\n",
    "Insight_transformed.head(3)"
   ]
  },
  {
   "cell_type": "code",
   "execution_count": null,
   "id": "550f833e-53a3-42f0-b502-3e0eb229f852",
   "metadata": {
    "tags": []
   },
   "outputs": [],
   "source": [
    "fg_EDIS_transformed = fg_transformed_FIVEDATA[fg_transformed_FIVEDATA['site']==1]\n",
    "fg_EDIS_transformed = fg_EDIS_transformed.drop(['site', 'decade', 'index', 'fine_grain'], axis=1)\n",
    "fg_EDIS_transformed.head(3)"
   ]
  },
  {
   "cell_type": "code",
   "execution_count": null,
   "id": "f683659b-e0cd-425c-bb43-ac6efed95abc",
   "metadata": {
    "tags": []
   },
   "outputs": [],
   "source": [
    "fg_HELIUS_transformed = fg_transformed_FIVEDATA[fg_transformed_FIVEDATA['site']==2]\n",
    "fg_HELIUS_transformed = fg_HELIUS_transformed.drop(['site', 'decade', 'index', 'fine_grain'], axis=1)\n",
    "fg_HELIUS_transformed.head(3)"
   ]
  },
  {
   "cell_type": "code",
   "execution_count": null,
   "id": "301a5997-f38b-4f03-accc-d08f58ad32cc",
   "metadata": {
    "tags": []
   },
   "outputs": [],
   "source": [
    "fg_SABRE_transformed = fg_transformed_FIVEDATA[fg_transformed_FIVEDATA['site']==3]\n",
    "fg_SABRE_transformed = fg_SABRE_transformed.drop(['site', 'decade', 'index', 'fine_grain'], axis=1)\n",
    "fg_SABRE_transformed.head(3)"
   ]
  },
  {
   "cell_type": "code",
   "execution_count": null,
   "id": "db1a6526-0caf-4492-90e1-c31b15e66f9b",
   "metadata": {
    "tags": []
   },
   "outputs": [],
   "source": [
    "fg_Insight_transformed = fg_transformed_FIVEDATA[fg_transformed_FIVEDATA['site']==4]\n",
    "fg_Insight_transformed = fg_Insight_transformed.drop(['site', 'decade', 'index', 'fine_grain'], axis=1)\n",
    "fg_Insight_transformed.head(3)"
   ]
  },
  {
   "cell_type": "code",
   "execution_count": null,
   "id": "28da188c-5972-452b-aae0-22961da79b70",
   "metadata": {
    "tags": []
   },
   "outputs": [],
   "source": [
    "TOPMRI_transformed.to_csv('harm_results/autocombat/5autocom5_harm_topmri_v_e.csv')\n",
    "EDIS_transformed.to_csv('harm_results/autocombat/5autocom5_harm_EDIS.csv')\n",
    "HELIUS_transformed.to_csv('harm_results/autocombat/5autocom5_harm_HELIUS.csv')\n",
    "SABRE_transformed.to_csv('harm_results/autocombat/5autocom5_harm_SABRE.csv')\n",
    "Insight_transformed.to_csv('harm_results/autocombat/5autocom5_harm_Insight.csv')\n",
    "\n",
    "fg_TOPMRI_transformed.to_csv('harm_results/autocombat/5fg_autocom5_harm_topmri_v_e.csv')\n",
    "fg_EDIS_transformed.to_csv('harm_results/autocombat/5fg_autocom5_harm_EDIS1.csv')\n",
    "fg_HELIUS_transformed.to_csv('harm_results/autocombat/5fg_autocom5_harm_HELIUS.csv')\n",
    "fg_SABRE_transformed.to_csv('harm_results/autocombat/5fg_autocom5_harm_SABRE.csv')\n",
    "fg_Insight_transformed.to_csv('harm_results/autocombat/5fg_autocom5_harm_Insight.csv')"
   ]
  },
  {
   "cell_type": "code",
   "execution_count": null,
   "id": "408de73c-2290-449c-a8e8-c8cc400b54ce",
   "metadata": {},
   "outputs": [],
   "source": []
  }
 ],
 "metadata": {
  "kernelspec": {
   "display_name": "Python 3 (ipykernel)",
   "language": "python",
   "name": "python3"
  },
  "language_info": {
   "codemirror_mode": {
    "name": "ipython",
    "version": 3
   },
   "file_extension": ".py",
   "mimetype": "text/x-python",
   "name": "python",
   "nbconvert_exporter": "python",
   "pygments_lexer": "ipython3",
   "version": "3.7.12"
  }
 },
 "nbformat": 4,
 "nbformat_minor": 5
}
