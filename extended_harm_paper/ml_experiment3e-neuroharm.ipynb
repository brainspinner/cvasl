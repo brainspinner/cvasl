{
 "cells": [
  {
   "cell_type": "markdown",
   "id": "e8edc98e-5785-4d1c-baed-02bfc4721f60",
   "metadata": {},
   "source": [
    "# ML testing: experiment #3e- harmonized with neuroHarmonize (neurocombat-GAM)\n",
    "\n",
    "This notebook involves testing for the clinical harmonization paper. This notebook shows mixed_dataset (TOP + StrokeMRI) based models with neuroHarmonize harmonization to Insight 46 and Sabre datasets (the strokeMRI and TOP become one dataset)"
   ]
  },
  {
   "cell_type": "markdown",
   "id": "2f1c7d50-f2c6-4c5a-82ee-6788157d80fb",
   "metadata": {},
   "source": [
    "Data: StrokeMRI, TOP, SABRE, Insight46, EDIS, (HELIUS pending)\n",
    "\n",
    "Harmonisation: neuroHarmonize\n",
    "\n",
    "Training data: NORMENT whichh is StrokeMRI and TOP togehter\n",
    "\n",
    "Testing data: test set from NORMENT\n",
    "\n",
    "Futher data applied to: SABRE, Insight46, EDIS, (HELIUS pending)\n",
    "\n",
    "Validation method: K-fold, double-stratified\n",
    "\n",
    "Brain-age algorithms: LR, lasso, extra trees, elasticCV net fully tested (but not optimized parameters), additionals partly\n",
    "\n",
    "Outputs: SubjectID, real age, predicted age of validation and testing sets"
   ]
  },
  {
   "cell_type": "markdown",
   "id": "be45db67-b24a-409e-bb35-ca468a779ec2",
   "metadata": {
    "tags": []
   },
   "source": [
    "### import libraries"
   ]
  },
  {
   "cell_type": "code",
   "execution_count": 1,
   "id": "514ef9ea-48df-4f68-b440-77ee12cddefe",
   "metadata": {
    "tags": []
   },
   "outputs": [],
   "source": [
    "import os       # using operating system dependent functionality (folders)\n",
    "import sys\n",
    "\n",
    "import glob\n",
    "from functools import reduce\n",
    "\n",
    "import pandas as pd # data analysis and manipulation\n",
    "import numpy as np    # numerical computing (manipulating and performing operations on arrays of data)\n",
    "import matplotlib.pyplot as plt\n",
    "\n",
    "# # demo stuff\n",
    "# import ipywidgets as widgets\n",
    "# import seaborn \n",
    "\n",
    "# ml stuff\n",
    "from sklearn.model_selection import train_test_split\n",
    "from sklearn.preprocessing import StandardScaler\n",
    "#from sklearn.svm import SVC\n",
    "from sklearn.metrics import accuracy_score\n",
    "#from sklearn.linear_model import LogisticRegression\n",
    "from sklearn.linear_model import LinearRegression\n",
    "from sklearn import linear_model\n",
    "from sklearn import tree\n",
    "from sklearn import metrics\n",
    "from sklearn.linear_model import SGDRegressor\n",
    "from sklearn.metrics import confusion_matrix\n",
    "from sklearn.metrics import mean_absolute_error\n",
    "from sklearn.neighbors import KNeighborsClassifier\n",
    "from sklearn.svm import SVR\n",
    "from sklearn.neural_network import MLPRegressor\n",
    "from sklearn.linear_model import ElasticNetCV\n",
    "from sklearn.ensemble import ExtraTreesRegressor\n",
    "from sklearn.model_selection import StratifiedShuffleSplit\n",
    "from sklearn.model_selection import cross_val_score\n",
    "\n",
    "import joblib\n",
    "\n",
    "sys.path.insert(0, '../') # path to functions\n",
    "import cvasl.seperated as sep\n",
    "from cvasl.file_handler import Config"
   ]
  },
  {
   "cell_type": "markdown",
   "id": "b0e7da24-0537-44b4-85fb-e69c68c5ec9a",
   "metadata": {
    "tags": []
   },
   "source": [
    "### import data"
   ]
  },
  {
   "cell_type": "code",
   "execution_count": 2,
   "id": "5c2a832f-0e28-4000-9f9e-65edb0e578bc",
   "metadata": {
    "tags": []
   },
   "outputs": [
    {
     "ename": "FileNotFoundError",
     "evalue": "[Errno 2] No such file or directory: '/home/radv/mdijsselhof/my-scratch/CBAdatasets/eScience/our_datasets/TOP/TrainingDataComplete.csv'",
     "output_type": "error",
     "traceback": [
      "\u001b[1;31m---------------------------------------------------------------------------\u001b[0m",
      "\u001b[1;31mFileNotFoundError\u001b[0m                         Traceback (most recent call last)",
      "Cell \u001b[1;32mIn[2], line 36\u001b[0m\n\u001b[0;32m     34\u001b[0m \u001b[38;5;66;03m#StrokeMRI = StrokeMRI.drop(StrokeMRI.columns[0],axis=1)\u001b[39;00m\n\u001b[0;32m     35\u001b[0m Insight46 \u001b[38;5;241m=\u001b[39m Insight46\u001b[38;5;241m.\u001b[39mdrop(Insight46\u001b[38;5;241m.\u001b[39mcolumns[\u001b[38;5;241m0\u001b[39m],axis\u001b[38;5;241m=\u001b[39m\u001b[38;5;241m1\u001b[39m)\n\u001b[1;32m---> 36\u001b[0m IDS_TOP \u001b[38;5;241m=\u001b[39m  \u001b[43mpd\u001b[49m\u001b[38;5;241;43m.\u001b[39;49m\u001b[43mread_csv\u001b[49m\u001b[43m(\u001b[49m\u001b[43mfilename_top_for_ids\u001b[49m\u001b[43m)\u001b[49m\n\u001b[0;32m     37\u001b[0m IDS_MRI \u001b[38;5;241m=\u001b[39m  pd\u001b[38;5;241m.\u001b[39mread_csv(filename_mri_for_ids)\n",
      "File \u001b[1;32m~\\miniconda3\\envs\\mrilanding\\lib\\site-packages\\pandas\\io\\parsers\\readers.py:912\u001b[0m, in \u001b[0;36mread_csv\u001b[1;34m(filepath_or_buffer, sep, delimiter, header, names, index_col, usecols, dtype, engine, converters, true_values, false_values, skipinitialspace, skiprows, skipfooter, nrows, na_values, keep_default_na, na_filter, verbose, skip_blank_lines, parse_dates, infer_datetime_format, keep_date_col, date_parser, date_format, dayfirst, cache_dates, iterator, chunksize, compression, thousands, decimal, lineterminator, quotechar, quoting, doublequote, escapechar, comment, encoding, encoding_errors, dialect, on_bad_lines, delim_whitespace, low_memory, memory_map, float_precision, storage_options, dtype_backend)\u001b[0m\n\u001b[0;32m    899\u001b[0m kwds_defaults \u001b[38;5;241m=\u001b[39m _refine_defaults_read(\n\u001b[0;32m    900\u001b[0m     dialect,\n\u001b[0;32m    901\u001b[0m     delimiter,\n\u001b[1;32m   (...)\u001b[0m\n\u001b[0;32m    908\u001b[0m     dtype_backend\u001b[38;5;241m=\u001b[39mdtype_backend,\n\u001b[0;32m    909\u001b[0m )\n\u001b[0;32m    910\u001b[0m kwds\u001b[38;5;241m.\u001b[39mupdate(kwds_defaults)\n\u001b[1;32m--> 912\u001b[0m \u001b[38;5;28;01mreturn\u001b[39;00m \u001b[43m_read\u001b[49m\u001b[43m(\u001b[49m\u001b[43mfilepath_or_buffer\u001b[49m\u001b[43m,\u001b[49m\u001b[43m \u001b[49m\u001b[43mkwds\u001b[49m\u001b[43m)\u001b[49m\n",
      "File \u001b[1;32m~\\miniconda3\\envs\\mrilanding\\lib\\site-packages\\pandas\\io\\parsers\\readers.py:577\u001b[0m, in \u001b[0;36m_read\u001b[1;34m(filepath_or_buffer, kwds)\u001b[0m\n\u001b[0;32m    574\u001b[0m _validate_names(kwds\u001b[38;5;241m.\u001b[39mget(\u001b[38;5;124m\"\u001b[39m\u001b[38;5;124mnames\u001b[39m\u001b[38;5;124m\"\u001b[39m, \u001b[38;5;28;01mNone\u001b[39;00m))\n\u001b[0;32m    576\u001b[0m \u001b[38;5;66;03m# Create the parser.\u001b[39;00m\n\u001b[1;32m--> 577\u001b[0m parser \u001b[38;5;241m=\u001b[39m TextFileReader(filepath_or_buffer, \u001b[38;5;241m*\u001b[39m\u001b[38;5;241m*\u001b[39mkwds)\n\u001b[0;32m    579\u001b[0m \u001b[38;5;28;01mif\u001b[39;00m chunksize \u001b[38;5;129;01mor\u001b[39;00m iterator:\n\u001b[0;32m    580\u001b[0m     \u001b[38;5;28;01mreturn\u001b[39;00m parser\n",
      "File \u001b[1;32m~\\miniconda3\\envs\\mrilanding\\lib\\site-packages\\pandas\\io\\parsers\\readers.py:1407\u001b[0m, in \u001b[0;36mTextFileReader.__init__\u001b[1;34m(self, f, engine, **kwds)\u001b[0m\n\u001b[0;32m   1404\u001b[0m     \u001b[38;5;28mself\u001b[39m\u001b[38;5;241m.\u001b[39moptions[\u001b[38;5;124m\"\u001b[39m\u001b[38;5;124mhas_index_names\u001b[39m\u001b[38;5;124m\"\u001b[39m] \u001b[38;5;241m=\u001b[39m kwds[\u001b[38;5;124m\"\u001b[39m\u001b[38;5;124mhas_index_names\u001b[39m\u001b[38;5;124m\"\u001b[39m]\n\u001b[0;32m   1406\u001b[0m \u001b[38;5;28mself\u001b[39m\u001b[38;5;241m.\u001b[39mhandles: IOHandles \u001b[38;5;241m|\u001b[39m \u001b[38;5;28;01mNone\u001b[39;00m \u001b[38;5;241m=\u001b[39m \u001b[38;5;28;01mNone\u001b[39;00m\n\u001b[1;32m-> 1407\u001b[0m \u001b[38;5;28mself\u001b[39m\u001b[38;5;241m.\u001b[39m_engine \u001b[38;5;241m=\u001b[39m \u001b[38;5;28;43mself\u001b[39;49m\u001b[38;5;241;43m.\u001b[39;49m\u001b[43m_make_engine\u001b[49m\u001b[43m(\u001b[49m\u001b[43mf\u001b[49m\u001b[43m,\u001b[49m\u001b[43m \u001b[49m\u001b[38;5;28;43mself\u001b[39;49m\u001b[38;5;241;43m.\u001b[39;49m\u001b[43mengine\u001b[49m\u001b[43m)\u001b[49m\n",
      "File \u001b[1;32m~\\miniconda3\\envs\\mrilanding\\lib\\site-packages\\pandas\\io\\parsers\\readers.py:1661\u001b[0m, in \u001b[0;36mTextFileReader._make_engine\u001b[1;34m(self, f, engine)\u001b[0m\n\u001b[0;32m   1659\u001b[0m     \u001b[38;5;28;01mif\u001b[39;00m \u001b[38;5;124m\"\u001b[39m\u001b[38;5;124mb\u001b[39m\u001b[38;5;124m\"\u001b[39m \u001b[38;5;129;01mnot\u001b[39;00m \u001b[38;5;129;01min\u001b[39;00m mode:\n\u001b[0;32m   1660\u001b[0m         mode \u001b[38;5;241m+\u001b[39m\u001b[38;5;241m=\u001b[39m \u001b[38;5;124m\"\u001b[39m\u001b[38;5;124mb\u001b[39m\u001b[38;5;124m\"\u001b[39m\n\u001b[1;32m-> 1661\u001b[0m \u001b[38;5;28mself\u001b[39m\u001b[38;5;241m.\u001b[39mhandles \u001b[38;5;241m=\u001b[39m \u001b[43mget_handle\u001b[49m\u001b[43m(\u001b[49m\n\u001b[0;32m   1662\u001b[0m \u001b[43m    \u001b[49m\u001b[43mf\u001b[49m\u001b[43m,\u001b[49m\n\u001b[0;32m   1663\u001b[0m \u001b[43m    \u001b[49m\u001b[43mmode\u001b[49m\u001b[43m,\u001b[49m\n\u001b[0;32m   1664\u001b[0m \u001b[43m    \u001b[49m\u001b[43mencoding\u001b[49m\u001b[38;5;241;43m=\u001b[39;49m\u001b[38;5;28;43mself\u001b[39;49m\u001b[38;5;241;43m.\u001b[39;49m\u001b[43moptions\u001b[49m\u001b[38;5;241;43m.\u001b[39;49m\u001b[43mget\u001b[49m\u001b[43m(\u001b[49m\u001b[38;5;124;43m\"\u001b[39;49m\u001b[38;5;124;43mencoding\u001b[39;49m\u001b[38;5;124;43m\"\u001b[39;49m\u001b[43m,\u001b[49m\u001b[43m \u001b[49m\u001b[38;5;28;43;01mNone\u001b[39;49;00m\u001b[43m)\u001b[49m\u001b[43m,\u001b[49m\n\u001b[0;32m   1665\u001b[0m \u001b[43m    \u001b[49m\u001b[43mcompression\u001b[49m\u001b[38;5;241;43m=\u001b[39;49m\u001b[38;5;28;43mself\u001b[39;49m\u001b[38;5;241;43m.\u001b[39;49m\u001b[43moptions\u001b[49m\u001b[38;5;241;43m.\u001b[39;49m\u001b[43mget\u001b[49m\u001b[43m(\u001b[49m\u001b[38;5;124;43m\"\u001b[39;49m\u001b[38;5;124;43mcompression\u001b[39;49m\u001b[38;5;124;43m\"\u001b[39;49m\u001b[43m,\u001b[49m\u001b[43m \u001b[49m\u001b[38;5;28;43;01mNone\u001b[39;49;00m\u001b[43m)\u001b[49m\u001b[43m,\u001b[49m\n\u001b[0;32m   1666\u001b[0m \u001b[43m    \u001b[49m\u001b[43mmemory_map\u001b[49m\u001b[38;5;241;43m=\u001b[39;49m\u001b[38;5;28;43mself\u001b[39;49m\u001b[38;5;241;43m.\u001b[39;49m\u001b[43moptions\u001b[49m\u001b[38;5;241;43m.\u001b[39;49m\u001b[43mget\u001b[49m\u001b[43m(\u001b[49m\u001b[38;5;124;43m\"\u001b[39;49m\u001b[38;5;124;43mmemory_map\u001b[39;49m\u001b[38;5;124;43m\"\u001b[39;49m\u001b[43m,\u001b[49m\u001b[43m \u001b[49m\u001b[38;5;28;43;01mFalse\u001b[39;49;00m\u001b[43m)\u001b[49m\u001b[43m,\u001b[49m\n\u001b[0;32m   1667\u001b[0m \u001b[43m    \u001b[49m\u001b[43mis_text\u001b[49m\u001b[38;5;241;43m=\u001b[39;49m\u001b[43mis_text\u001b[49m\u001b[43m,\u001b[49m\n\u001b[0;32m   1668\u001b[0m \u001b[43m    \u001b[49m\u001b[43merrors\u001b[49m\u001b[38;5;241;43m=\u001b[39;49m\u001b[38;5;28;43mself\u001b[39;49m\u001b[38;5;241;43m.\u001b[39;49m\u001b[43moptions\u001b[49m\u001b[38;5;241;43m.\u001b[39;49m\u001b[43mget\u001b[49m\u001b[43m(\u001b[49m\u001b[38;5;124;43m\"\u001b[39;49m\u001b[38;5;124;43mencoding_errors\u001b[39;49m\u001b[38;5;124;43m\"\u001b[39;49m\u001b[43m,\u001b[49m\u001b[43m \u001b[49m\u001b[38;5;124;43m\"\u001b[39;49m\u001b[38;5;124;43mstrict\u001b[39;49m\u001b[38;5;124;43m\"\u001b[39;49m\u001b[43m)\u001b[49m\u001b[43m,\u001b[49m\n\u001b[0;32m   1669\u001b[0m \u001b[43m    \u001b[49m\u001b[43mstorage_options\u001b[49m\u001b[38;5;241;43m=\u001b[39;49m\u001b[38;5;28;43mself\u001b[39;49m\u001b[38;5;241;43m.\u001b[39;49m\u001b[43moptions\u001b[49m\u001b[38;5;241;43m.\u001b[39;49m\u001b[43mget\u001b[49m\u001b[43m(\u001b[49m\u001b[38;5;124;43m\"\u001b[39;49m\u001b[38;5;124;43mstorage_options\u001b[39;49m\u001b[38;5;124;43m\"\u001b[39;49m\u001b[43m,\u001b[49m\u001b[43m \u001b[49m\u001b[38;5;28;43;01mNone\u001b[39;49;00m\u001b[43m)\u001b[49m\u001b[43m,\u001b[49m\n\u001b[0;32m   1670\u001b[0m \u001b[43m\u001b[49m\u001b[43m)\u001b[49m\n\u001b[0;32m   1671\u001b[0m \u001b[38;5;28;01massert\u001b[39;00m \u001b[38;5;28mself\u001b[39m\u001b[38;5;241m.\u001b[39mhandles \u001b[38;5;129;01mis\u001b[39;00m \u001b[38;5;129;01mnot\u001b[39;00m \u001b[38;5;28;01mNone\u001b[39;00m\n\u001b[0;32m   1672\u001b[0m f \u001b[38;5;241m=\u001b[39m \u001b[38;5;28mself\u001b[39m\u001b[38;5;241m.\u001b[39mhandles\u001b[38;5;241m.\u001b[39mhandle\n",
      "File \u001b[1;32m~\\miniconda3\\envs\\mrilanding\\lib\\site-packages\\pandas\\io\\common.py:859\u001b[0m, in \u001b[0;36mget_handle\u001b[1;34m(path_or_buf, mode, encoding, compression, memory_map, is_text, errors, storage_options)\u001b[0m\n\u001b[0;32m    854\u001b[0m \u001b[38;5;28;01melif\u001b[39;00m \u001b[38;5;28misinstance\u001b[39m(handle, \u001b[38;5;28mstr\u001b[39m):\n\u001b[0;32m    855\u001b[0m     \u001b[38;5;66;03m# Check whether the filename is to be opened in binary mode.\u001b[39;00m\n\u001b[0;32m    856\u001b[0m     \u001b[38;5;66;03m# Binary mode does not support 'encoding' and 'newline'.\u001b[39;00m\n\u001b[0;32m    857\u001b[0m     \u001b[38;5;28;01mif\u001b[39;00m ioargs\u001b[38;5;241m.\u001b[39mencoding \u001b[38;5;129;01mand\u001b[39;00m \u001b[38;5;124m\"\u001b[39m\u001b[38;5;124mb\u001b[39m\u001b[38;5;124m\"\u001b[39m \u001b[38;5;129;01mnot\u001b[39;00m \u001b[38;5;129;01min\u001b[39;00m ioargs\u001b[38;5;241m.\u001b[39mmode:\n\u001b[0;32m    858\u001b[0m         \u001b[38;5;66;03m# Encoding\u001b[39;00m\n\u001b[1;32m--> 859\u001b[0m         handle \u001b[38;5;241m=\u001b[39m \u001b[38;5;28;43mopen\u001b[39;49m\u001b[43m(\u001b[49m\n\u001b[0;32m    860\u001b[0m \u001b[43m            \u001b[49m\u001b[43mhandle\u001b[49m\u001b[43m,\u001b[49m\n\u001b[0;32m    861\u001b[0m \u001b[43m            \u001b[49m\u001b[43mioargs\u001b[49m\u001b[38;5;241;43m.\u001b[39;49m\u001b[43mmode\u001b[49m\u001b[43m,\u001b[49m\n\u001b[0;32m    862\u001b[0m \u001b[43m            \u001b[49m\u001b[43mencoding\u001b[49m\u001b[38;5;241;43m=\u001b[39;49m\u001b[43mioargs\u001b[49m\u001b[38;5;241;43m.\u001b[39;49m\u001b[43mencoding\u001b[49m\u001b[43m,\u001b[49m\n\u001b[0;32m    863\u001b[0m \u001b[43m            \u001b[49m\u001b[43merrors\u001b[49m\u001b[38;5;241;43m=\u001b[39;49m\u001b[43merrors\u001b[49m\u001b[43m,\u001b[49m\n\u001b[0;32m    864\u001b[0m \u001b[43m            \u001b[49m\u001b[43mnewline\u001b[49m\u001b[38;5;241;43m=\u001b[39;49m\u001b[38;5;124;43m\"\u001b[39;49m\u001b[38;5;124;43m\"\u001b[39;49m\u001b[43m,\u001b[49m\n\u001b[0;32m    865\u001b[0m \u001b[43m        \u001b[49m\u001b[43m)\u001b[49m\n\u001b[0;32m    866\u001b[0m     \u001b[38;5;28;01melse\u001b[39;00m:\n\u001b[0;32m    867\u001b[0m         \u001b[38;5;66;03m# Binary mode\u001b[39;00m\n\u001b[0;32m    868\u001b[0m         handle \u001b[38;5;241m=\u001b[39m \u001b[38;5;28mopen\u001b[39m(handle, ioargs\u001b[38;5;241m.\u001b[39mmode)\n",
      "\u001b[1;31mFileNotFoundError\u001b[0m: [Errno 2] No such file or directory: '/home/radv/mdijsselhof/my-scratch/CBAdatasets/eScience/our_datasets/TOP/TrainingDataComplete.csv'"
     ]
    }
   ],
   "source": [
    "filepath_mri_for_ids = os.path.join('/home/radv/mdijsselhof/my-scratch/CBAdatasets/eScience/','our_datasets/StrokeMRI/') \n",
    "filename_mri_for_ids = os.path.join(filepath_mri_for_ids,'TrainingDataComplete.csv') \n",
    "\n",
    "filepath_top_for_ids = os.path.join('/home/radv/mdijsselhof/my-scratch/CBAdatasets/eScience/','our_datasets/TOP/')\n",
    "filename_top_for_ids = os.path.join(filepath_top_for_ids,'TrainingDataComplete.csv') \n",
    "\n",
    "\n",
    "\n",
    "filepath_topmri = 'harmonizations/harm_results/neurocharm/' \n",
    "filename_topmri = os.path.join(filepath_topmri,'topmri_vs_sabre_5way.csv') \n",
    "\n",
    "filepath_sabre = 'harmonizations/harm_results/neurocharm/'\n",
    "filename_sabre = os.path.join(filepath_topmri,'sabre_vs_topmri_5way.csv') \n",
    "\n",
    "filepath_insight46 = 'harmonizations/harm_results/neurocharm/'\n",
    "filename_insight46 =  os.path.join(filepath_topmri,'insight_vs_topmri_5way.csv') \n",
    "\n",
    "filepath_edis = filepath_sabre\n",
    "filename_edis =  os.path.join(filepath_sabre,'edis_vs_topmri_5way.csv') \n",
    "# \n",
    "filepath_helius = filepath_sabre\n",
    "filename_helius =  os.path.join(filepath_sabre,'helius_vs_topmri_5way.csv') \n",
    "\n",
    "\n",
    "\n",
    "# read in data\n",
    "\n",
    "TOPMRI = pd.read_csv(filename_topmri)\n",
    "SABRE = pd.read_csv(filename_sabre)\n",
    "Insight46 = pd.read_csv(filename_insight46)\n",
    "# take extra column off\n",
    "TOPMRI = TOPMRI.drop(TOPMRI.columns[0],axis=1)\n",
    "SABRE = SABRE.drop(SABRE.columns[0],axis=1)\n",
    "#StrokeMRI = StrokeMRI.drop(StrokeMRI.columns[0],axis=1)\n",
    "Insight46 = Insight46.drop(Insight46.columns[0],axis=1)\n",
    "IDS_TOP =  pd.read_csv(filename_top_for_ids)\n",
    "IDS_MRI =  pd.read_csv(filename_mri_for_ids)"
   ]
  },
  {
   "cell_type": "code",
   "execution_count": null,
   "id": "53882dc1-a18e-4de6-8832-519880f14cde",
   "metadata": {
    "tags": []
   },
   "outputs": [],
   "source": [
    "TOPMRI.columns"
   ]
  },
  {
   "cell_type": "code",
   "execution_count": null,
   "id": "0a517951-ce5f-45c4-8c7c-8428d6696a0a",
   "metadata": {
    "tags": []
   },
   "outputs": [],
   "source": [
    "#SABRE"
   ]
  },
  {
   "cell_type": "code",
   "execution_count": null,
   "id": "61fa79d5-1fa5-401d-9ffd-1fb2762e03a2",
   "metadata": {
    "tags": []
   },
   "outputs": [],
   "source": [
    "# # Now we need to flip the sex back to numbers for a correlation\n",
    "# sex_mapping = {'F':0,'M':1}\n",
    "# TOPMRI = TOPMRI.assign(sex = TOPMRI.sex.map(sex_mapping))\n",
    "# TOPMRI.head(3)"
   ]
  },
  {
   "cell_type": "code",
   "execution_count": null,
   "id": "0c902084-c9b8-49a7-aab3-00b86c8a9726",
   "metadata": {
    "tags": []
   },
   "outputs": [],
   "source": [
    "# Insight46 = Insight46.assign(sex = Insight46.sex.map(sex_mapping))\n",
    "# #Insight46.head(3)"
   ]
  },
  {
   "cell_type": "code",
   "execution_count": null,
   "id": "ca8cbc27-dd08-48d1-b3b7-95289e48670b",
   "metadata": {
    "tags": []
   },
   "outputs": [],
   "source": [
    "coly = TOPMRI.columns\n",
    "#SABRE = SABRE.assign(sex = SABRE.sex.map(sex_mapping))\n",
    "SABRE = SABRE[coly]\n",
    "SABRE.head(3)"
   ]
  },
  {
   "cell_type": "code",
   "execution_count": null,
   "id": "5727753a-f363-48c8-ac61-cd17e88e7eda",
   "metadata": {
    "tags": []
   },
   "outputs": [],
   "source": [
    "TOPMRI.shape"
   ]
  },
  {
   "cell_type": "code",
   "execution_count": null,
   "id": "03e5abc7-4056-4e3e-849a-a80adcbc7645",
   "metadata": {
    "tags": []
   },
   "outputs": [],
   "source": [
    "SABRE.shape"
   ]
  },
  {
   "cell_type": "code",
   "execution_count": null,
   "id": "38548448-86cc-42bc-9d18-f4575fbd91d1",
   "metadata": {
    "tags": []
   },
   "outputs": [],
   "source": [
    "SABRE =SABRE.dropna()\n",
    "#SABRE.isna().sum()"
   ]
  },
  {
   "cell_type": "markdown",
   "id": "df9a9850-d70d-47ba-9754-dd0345061d40",
   "metadata": {},
   "source": [
    "# Now we need to break up the TOP and MRI datasets as well, and format them like the others"
   ]
  },
  {
   "cell_type": "code",
   "execution_count": null,
   "id": "0bc77985-9a12-46fc-970d-1e3c0ff780fb",
   "metadata": {
    "tags": []
   },
   "outputs": [],
   "source": [
    "set_top_ids = set(IDS_TOP.participant_id)\n",
    "set_mri_ids = set(IDS_MRI.participant_id)\n",
    "StrokeMRI = TOPMRI[TOPMRI['participant_id'].isin(list(set_mri_ids))]\n",
    "TOP = TOPMRI[TOPMRI['participant_id'].isin(list(set_top_ids))]\n",
    "TOP.head(3)"
   ]
  },
  {
   "cell_type": "code",
   "execution_count": null,
   "id": "6e755c84-ff13-43ba-933d-22d56b1ded12",
   "metadata": {
    "tags": []
   },
   "outputs": [],
   "source": [
    "# StrokeMRI = StrokeMRI.assign(sex = StrokeMRI.sex.map(sex_mapping))\n",
    "# StrokeMRI.head(3)"
   ]
  },
  {
   "cell_type": "code",
   "execution_count": null,
   "id": "c56a2b92-7302-434a-bc15-1fcd859a13af",
   "metadata": {
    "tags": []
   },
   "outputs": [],
   "source": [
    "StrokeMRI"
   ]
  },
  {
   "cell_type": "code",
   "execution_count": null,
   "id": "1461b00d-2c3f-4516-ad00-35dff6b128a5",
   "metadata": {
    "tags": []
   },
   "outputs": [],
   "source": [
    "#TOP = TOP.assign(sex = TOP.sex.map(sex_mapping))\n",
    "TOP.head(3)"
   ]
  },
  {
   "cell_type": "code",
   "execution_count": null,
   "id": "b9efbca7-4d32-4371-94ea-42cd3cb9ba3b",
   "metadata": {
    "tags": []
   },
   "outputs": [],
   "source": [
    "# check for any duplicated patients between stroke and mri\n",
    "strokers = set(StrokeMRI.participant_id)\n",
    "topers = set(TOP.participant_id)\n",
    "z = strokers.intersection(topers)\n",
    "print(z) "
   ]
  },
  {
   "cell_type": "code",
   "execution_count": null,
   "id": "e59d0741-040c-4265-a2b5-5dfbd37214e1",
   "metadata": {
    "tags": []
   },
   "outputs": [],
   "source": [
    "# make mixed StrokeMRI and TOP dataset\n",
    "#mixed_data = pd.concat([TOP, StrokeMRI], sort=False)\n",
    "mixed_data = TOPMRI"
   ]
  },
  {
   "cell_type": "code",
   "execution_count": null,
   "id": "f22816db-5644-4757-8a0a-787e7b87624d",
   "metadata": {
    "tags": []
   },
   "outputs": [],
   "source": [
    "mixed_data.shape"
   ]
  },
  {
   "cell_type": "code",
   "execution_count": null,
   "id": "aa8be0b5-78b0-4863-9180-054dfbafc3df",
   "metadata": {
    "tags": []
   },
   "outputs": [],
   "source": [
    "mixed_data.head()"
   ]
  },
  {
   "cell_type": "code",
   "execution_count": null,
   "id": "94ba79c5-6d4c-47bc-874f-9fee0647d962",
   "metadata": {
    "tags": []
   },
   "outputs": [],
   "source": [
    "output_folder = '3_NeuroHarmonize'\n",
    "\n",
    "os.makedirs(output_folder, exist_ok=True)"
   ]
  },
  {
   "cell_type": "markdown",
   "id": "f0c08947-d926-416e-92c4-7a644618a456",
   "metadata": {},
   "source": [
    "## Build ML models"
   ]
  },
  {
   "cell_type": "code",
   "execution_count": null,
   "id": "0e8b41eb-3b29-46e2-9627-85627d2d7da8",
   "metadata": {
    "tags": []
   },
   "outputs": [],
   "source": [
    "ml_matrix = mixed_data.drop('participant_id', axis=1)\n",
    "X = ml_matrix.drop('age', axis =1)\n",
    "X = X.values\n",
    "y = ml_matrix['age'].values\n",
    "y=y.astype('float')"
   ]
  },
  {
   "cell_type": "code",
   "execution_count": null,
   "id": "2a8cf471-55c9-4d99-8379-f83d2a69701b",
   "metadata": {
    "tags": []
   },
   "outputs": [],
   "source": [
    "linr_k_frame, linr_y_frame, models = sep.stratified_cat_and_cont_categories_shuffle_split('linear regression', 'req_neuroharm_mix_linr', LinearRegression(), ml_matrix, X[:,1:], y)"
   ]
  },
  {
   "cell_type": "code",
   "execution_count": null,
   "id": "7ff12459-1935-4999-9b3d-82602f802e9a",
   "metadata": {
    "tags": []
   },
   "outputs": [],
   "source": [
    "linr_k_frame"
   ]
  },
  {
   "cell_type": "code",
   "execution_count": null,
   "id": "94ce29f7-42f7-415c-a9f4-881c7993f619",
   "metadata": {
    "tags": []
   },
   "outputs": [],
   "source": [
    "linr_k_frame.to_csv(output_folder + 'linr_k_frame_neuroHarmonize_harm.csv')"
   ]
  },
  {
   "cell_type": "code",
   "execution_count": null,
   "id": "2082e609-ae7d-4dcb-9fc8-140b6161398a",
   "metadata": {
    "tags": []
   },
   "outputs": [],
   "source": [
    "avg_linr = sep.avg_k_folds(linr_k_frame)\n",
    "avg_linr"
   ]
  },
  {
   "cell_type": "code",
   "execution_count": null,
   "id": "b0133c79-6eaa-45d6-bc65-1c65fcf2947f",
   "metadata": {
    "tags": []
   },
   "outputs": [],
   "source": [
    "linr_y_frame.to_csv(output_folder + 'linr_y_frame_neuroHarmonize_harm.csv')\n",
    "linr_y_frame"
   ]
  },
  {
   "cell_type": "code",
   "execution_count": null,
   "id": "cd2f9ed2-027c-4655-bd16-ace93cab8709",
   "metadata": {
    "tags": []
   },
   "outputs": [],
   "source": [
    "linr_y_frame.to_csv(output_folder + 'linr_y_frame_neuroHarmonize_harm.csv')"
   ]
  },
  {
   "cell_type": "code",
   "execution_count": null,
   "id": "c3b05bdb-866c-4e1d-ac49-ca0a9af68bb5",
   "metadata": {
    "tags": []
   },
   "outputs": [],
   "source": [
    "linr = models[0]\n",
    "linr[0]"
   ]
  },
  {
   "cell_type": "code",
   "execution_count": null,
   "id": "5a2029b1-6758-4f63-9f69-37ae9b4b53a4",
   "metadata": {
    "tags": []
   },
   "outputs": [],
   "source": [
    "# check if model folder exists and if not , then create\n",
    "model_folder = '../result_models/'\n",
    "if not os.path.exists(model_folder):\n",
    "    os.makedirs(model_folder)"
   ]
  },
  {
   "cell_type": "code",
   "execution_count": null,
   "id": "38457549-93e9-40f5-9b61-106ac0867bb2",
   "metadata": {
    "tags": []
   },
   "outputs": [],
   "source": [
    "## optional save models\n",
    "#joblib.dump(linr[0], ('../result_models/'+ 'neuroharm_mix_linr0.sav'))\n",
    "#joblib.dump(linr[1], ('../result_models/'+ 'neuroharm_mix_linr1.sav'))\n",
    "#joblib.dump(linr[2], ('../result_models/'+ 'neuroharm_mix_linr2.sav'))\n",
    "#joblib.dump(linr[3], ('../result_models/'+ 'neuroharm_mix_linr3.sav'))\n",
    "#joblib.dump(linr[4], ('../result_models/'+ 'neuroharm_mix_linr4.sav'))"
   ]
  },
  {
   "cell_type": "code",
   "execution_count": null,
   "id": "2fd550f0-6b41-4c28-8945-0e86f237cdd3",
   "metadata": {
    "tags": []
   },
   "outputs": [],
   "source": [
    "llreg_k_frame, llreg_y_frame, models = sep.stratified_cat_and_cont_categories_shuffle_split('lasso regression', 'unharm_mix_llreg',  linear_model.LassoLars(alpha=0.01), ml_matrix, X[:,1:], y)\n",
    "llreg_k_frame"
   ]
  },
  {
   "cell_type": "code",
   "execution_count": null,
   "id": "46abddfe-e9ae-4f08-b869-5fc5d3dbda14",
   "metadata": {
    "tags": []
   },
   "outputs": [],
   "source": [
    "llreg_k_frame.to_csv(output_folder + 'llreg_k_frame_neuroHarmonize_harm.csv')"
   ]
  },
  {
   "cell_type": "code",
   "execution_count": null,
   "id": "677564bc-7d69-4961-a7e4-563117cf9999",
   "metadata": {
    "tags": []
   },
   "outputs": [],
   "source": [
    "avg_llreg = sep.avg_k_folds(llreg_k_frame)\n",
    "avg_llreg"
   ]
  },
  {
   "cell_type": "code",
   "execution_count": null,
   "id": "16b37956-2e32-4c2b-bb26-956c6951dd54",
   "metadata": {
    "tags": []
   },
   "outputs": [],
   "source": [
    "llreg_y_frame"
   ]
  },
  {
   "cell_type": "code",
   "execution_count": null,
   "id": "a558c561-1c3e-41f8-b7bb-3cfa85aecada",
   "metadata": {
    "tags": []
   },
   "outputs": [],
   "source": [
    "llreg_y_frame.to_csv(output_folder + 'llreg_y_frame_neuroHarmonize_harm.csv')"
   ]
  },
  {
   "cell_type": "code",
   "execution_count": null,
   "id": "5ef586e4-4a58-4c39-86bc-1a7062b2615a",
   "metadata": {
    "tags": []
   },
   "outputs": [],
   "source": [
    "llreg = models[0]\n",
    "llreg[0]"
   ]
  },
  {
   "cell_type": "code",
   "execution_count": null,
   "id": "771f7170-67c2-42e0-a0e3-a0c35203f206",
   "metadata": {
    "tags": []
   },
   "outputs": [],
   "source": [
    "## optional save models\n",
    "#joblib.dump(linr[0], ('../result_models/'+ 'neuroharm_mix_linr0.sav'))\n",
    "#joblib.dump(linr[1], ('../result_models/'+ 'neuroharm_mix_linr1.sav'))\n",
    "#joblib.dump(linr[2], ('../result_models/'+ 'neuroharm_mix_linr2.sav'))\n",
    "#joblib.dump(linr[3], ('../result_models/'+ 'neuroharm_mix_linr3.sav'))\n",
    "#joblib.dump(linr[4], ('../result_models/'+ 'neuroharm_mix_linr4.sav'))"
   ]
  },
  {
   "cell_type": "code",
   "execution_count": null,
   "id": "bdfcdfe1-a080-42f9-89bc-2d0ee14f08d1",
   "metadata": {
    "tags": []
   },
   "outputs": [],
   "source": [
    "dtree_k_frame, dtree_y_frame, models = sep.stratified_cat_and_cont_categories_shuffle_split('decision tree', 'unharm_mix_dtree',  tree.DecisionTreeRegressor(), ml_matrix, X[:,1:], y)\n",
    "dtree_k_frame"
   ]
  },
  {
   "cell_type": "code",
   "execution_count": null,
   "id": "cbbaceeb-2a59-4b71-a31d-847e8923a626",
   "metadata": {
    "tags": []
   },
   "outputs": [],
   "source": [
    "dtree_k_frame.to_csv(output_folder + 'dtree_k_frame_neuroHarmonize_harm.csv')"
   ]
  },
  {
   "cell_type": "code",
   "execution_count": null,
   "id": "789640fb-2a27-435e-ac25-50ef1015e215",
   "metadata": {
    "tags": []
   },
   "outputs": [],
   "source": [
    "avg_dtree = sep.avg_k_folds(dtree_k_frame)\n",
    "avg_dtree"
   ]
  },
  {
   "cell_type": "code",
   "execution_count": null,
   "id": "fad10001-55db-4c26-a2bc-a8a2bbcf5dd7",
   "metadata": {
    "tags": []
   },
   "outputs": [],
   "source": [
    "dtree_y_frame"
   ]
  },
  {
   "cell_type": "code",
   "execution_count": null,
   "id": "919ad464-3185-4060-af96-610eff249880",
   "metadata": {
    "tags": []
   },
   "outputs": [],
   "source": [
    "dtree_y_frame.to_csv(output_folder + 'dtree_y_frame_neuroHarmonize_harm.csv')"
   ]
  },
  {
   "cell_type": "code",
   "execution_count": null,
   "id": "31cc0344-f68d-44c4-afd4-d9ee1b4b6ac4",
   "metadata": {
    "tags": []
   },
   "outputs": [],
   "source": [
    "dtree = models[0]\n",
    "dtree[0]"
   ]
  },
  {
   "cell_type": "code",
   "execution_count": null,
   "id": "ff9bc510-7768-4fb0-b7c9-9ccb29a03431",
   "metadata": {
    "tags": []
   },
   "outputs": [],
   "source": [
    "regr_k_frame, regr_y_frame, models = sep.stratified_cat_and_cont_categories_shuffle_split('MLP regression', 'unharm_mix_regr',   MLPRegressor(random_state=1, max_iter=700), ml_matrix, X[:,1:], y)\n",
    "regr_k_frame"
   ]
  },
  {
   "cell_type": "code",
   "execution_count": null,
   "id": "02504ba2-9d88-4ef8-8c7f-c5b572fe96a6",
   "metadata": {
    "tags": []
   },
   "outputs": [],
   "source": [
    "regr_k_frame.to_csv(output_folder + 'regr_k_frame_neuroHarmonize_harm.csv')"
   ]
  },
  {
   "cell_type": "code",
   "execution_count": null,
   "id": "33e2d523-3a35-4a4a-913b-196cf9dff8e0",
   "metadata": {
    "tags": []
   },
   "outputs": [],
   "source": [
    "avg_regr = sep.avg_k_folds(regr_k_frame)\n",
    "avg_regr"
   ]
  },
  {
   "cell_type": "code",
   "execution_count": null,
   "id": "8653b179-eb05-45d3-82fd-83bee512bb96",
   "metadata": {
    "tags": []
   },
   "outputs": [],
   "source": [
    "regr_y_frame"
   ]
  },
  {
   "cell_type": "code",
   "execution_count": null,
   "id": "c15d707a-5f9a-45a9-ba0f-0be5b1a9df6e",
   "metadata": {
    "tags": []
   },
   "outputs": [],
   "source": [
    "regr_y_frame.to_csv(output_folder + 'regr_y_frame_neuroHarmonize_harm.csv')"
   ]
  },
  {
   "cell_type": "code",
   "execution_count": null,
   "id": "134f09b0-87ab-4910-b25a-9679e24d0100",
   "metadata": {
    "tags": []
   },
   "outputs": [],
   "source": [
    "regr = models[0]\n",
    "regr[0]"
   ]
  },
  {
   "cell_type": "code",
   "execution_count": null,
   "id": "4255d797-bcd4-4323-bac5-393c539cd4fd",
   "metadata": {
    "tags": []
   },
   "outputs": [],
   "source": [
    "svrp2_k_frame, svrp2_y_frame, models = sep.stratified_cat_and_cont_categories_shuffle_split('support vector reg poly2', 'unharm_mix_svrp2',   SVR(C=1.0, kernel='poly', degree =2, epsilon=0.2), ml_matrix, X[:,1:], y)\n",
    "svrp2_k_frame"
   ]
  },
  {
   "cell_type": "code",
   "execution_count": null,
   "id": "c35222e5-a276-4187-9f4e-4ce2f59baee5",
   "metadata": {
    "tags": []
   },
   "outputs": [],
   "source": [
    "svrp2_k_frame.to_csv(output_folder + 'svrp2_k_frame_neuroHarmonize_harm.csv')"
   ]
  },
  {
   "cell_type": "code",
   "execution_count": null,
   "id": "cd4d587b-0386-413b-a1d8-2210e62a8e5f",
   "metadata": {
    "tags": []
   },
   "outputs": [],
   "source": [
    "avg_svrp2 = sep.avg_k_folds(svrp2_k_frame)\n",
    "avg_svrp2"
   ]
  },
  {
   "cell_type": "code",
   "execution_count": null,
   "id": "93c133a2-fc16-4558-8f0e-d348b6d4b950",
   "metadata": {
    "tags": []
   },
   "outputs": [],
   "source": [
    "svrp2_y_frame"
   ]
  },
  {
   "cell_type": "code",
   "execution_count": null,
   "id": "542d2bec-b870-451b-9c89-2c98d6324eae",
   "metadata": {
    "tags": []
   },
   "outputs": [],
   "source": [
    "svrp2_y_frame.to_csv(output_folder + 'svrp2_y_frame_neuroHarmonize_harm.csv')"
   ]
  },
  {
   "cell_type": "code",
   "execution_count": null,
   "id": "559c3544-c9ac-46a4-94d1-ea9bd597c63a",
   "metadata": {
    "tags": []
   },
   "outputs": [],
   "source": [
    "svrp2 = models[0]\n",
    "svrp2[0]"
   ]
  },
  {
   "cell_type": "code",
   "execution_count": null,
   "id": "61060fc3-0e43-4efc-ad98-a7914137adec",
   "metadata": {
    "tags": []
   },
   "outputs": [],
   "source": [
    "eregr_k_frame, eregr_y_frame, models = sep.stratified_cat_and_cont_categories_shuffle_split('elasticnetCV', 'unharm_mix_eregr',  ElasticNetCV(cv=5, random_state=12), ml_matrix, X[:,1:], y)\n",
    "eregr_k_frame"
   ]
  },
  {
   "cell_type": "code",
   "execution_count": null,
   "id": "163fa474-0978-48c5-ba7d-d79038319fed",
   "metadata": {
    "tags": []
   },
   "outputs": [],
   "source": [
    "eregr_k_frame.to_csv(output_folder + 'eregr_k_frame_neuroHarmonize_harm.csv')"
   ]
  },
  {
   "cell_type": "code",
   "execution_count": null,
   "id": "ce1bb2eb-b10b-4a04-9d30-f96fa1e1ff3b",
   "metadata": {
    "tags": []
   },
   "outputs": [],
   "source": [
    "avg_eregr = sep.avg_k_folds(eregr_k_frame)\n",
    "avg_eregr"
   ]
  },
  {
   "cell_type": "code",
   "execution_count": null,
   "id": "ab97ad53-ab96-4eb3-9c4a-80bc6093bb86",
   "metadata": {
    "tags": []
   },
   "outputs": [],
   "source": [
    "eregr_y_frame"
   ]
  },
  {
   "cell_type": "code",
   "execution_count": null,
   "id": "d3dac004-7b05-4fb6-a124-8c02bd432f22",
   "metadata": {
    "tags": []
   },
   "outputs": [],
   "source": [
    "eregr_y_frame.to_csv(output_folder + 'eregr_y_frame_neuroHarmonize_harm.csv')"
   ]
  },
  {
   "cell_type": "code",
   "execution_count": null,
   "id": "5cc6f720-a67e-4354-b036-4533b08f2000",
   "metadata": {
    "tags": []
   },
   "outputs": [],
   "source": [
    "eregr = models[0]\n",
    "eregr[0]"
   ]
  },
  {
   "cell_type": "code",
   "execution_count": null,
   "id": "10a28950-8781-416b-8224-e0b14716900b",
   "metadata": {
    "tags": []
   },
   "outputs": [],
   "source": [
    "etreg_k_frame, etreg_y_frame, models = sep.stratified_cat_and_cont_categories_shuffle_split('extra trees', 'unharm_mix_etreg',  ExtraTreesRegressor(n_estimators=100, random_state=0), ml_matrix, X[:,1:], y)\n",
    "etreg_k_frame"
   ]
  },
  {
   "cell_type": "code",
   "execution_count": null,
   "id": "e9e5bfdc-1716-4f5c-851c-141a0583d957",
   "metadata": {
    "tags": []
   },
   "outputs": [],
   "source": [
    "etreg_k_frame.to_csv(output_folder + 'etreg_k_frame_neuroHarmonize_harm.csv')"
   ]
  },
  {
   "cell_type": "code",
   "execution_count": null,
   "id": "54cb4f91-5126-4971-b5eb-57cd2dcce9b5",
   "metadata": {
    "tags": []
   },
   "outputs": [],
   "source": [
    "avg_etreg = sep.avg_k_folds(etreg_k_frame)\n",
    "avg_etreg"
   ]
  },
  {
   "cell_type": "code",
   "execution_count": null,
   "id": "7b074414-9bc5-4d73-ba5c-671d4b9fe854",
   "metadata": {
    "tags": []
   },
   "outputs": [],
   "source": [
    "etreg_y_frame"
   ]
  },
  {
   "cell_type": "code",
   "execution_count": null,
   "id": "ed83e2b9-17f7-4349-909a-5c1ea652b87e",
   "metadata": {
    "tags": []
   },
   "outputs": [],
   "source": [
    "etreg_y_frame.to_csv(output_folder + 'etreg_y_frame_neuroHarmonize_harm.csv')"
   ]
  },
  {
   "cell_type": "code",
   "execution_count": null,
   "id": "24a210ff-abd1-4a33-8d59-da26e937ca0a",
   "metadata": {
    "tags": []
   },
   "outputs": [],
   "source": [
    "etreg = models[0]\n",
    "etreg[0]"
   ]
  },
  {
   "cell_type": "code",
   "execution_count": null,
   "id": "011b5aee-6c87-48fe-96be-93decfd2f2bf",
   "metadata": {
    "tags": []
   },
   "outputs": [],
   "source": [
    "## optional save models\n",
    "#joblib.dump(etreg[0], ('../result_models/'+ 'neuroharm_mix_etreg0.sav'))\n",
    "#joblib.dump(etreg[1], ('../result_models/'+ 'neuroharm_mix_etreg1.sav'))\n",
    "#joblib.dump(etreg[2], ('../result_models/'+ 'neuroharm_mix_etreg2.sav'))\n",
    "#joblib.dump(etreg[3], ('../result_models/'+ 'neuroharm_mix_etreg3.sav'))\n",
    "#joblib.dump(etreg[4], ('../result_models/'+ 'neuroharm_mix_etreg4.sav'))"
   ]
  },
  {
   "cell_type": "markdown",
   "id": "010653f4-8e57-454a-aaaf-4fa6991ab63c",
   "metadata": {},
   "source": [
    "Show results ON AVERAGE for each model"
   ]
  },
  {
   "cell_type": "code",
   "execution_count": null,
   "id": "23f651de-64b1-44c5-9bbb-ce606c51aa9f",
   "metadata": {
    "tags": []
   },
   "outputs": [],
   "source": [
    "mixed_based_neuro_harmonized_on_testmix =pd.concat([avg_linr,\n",
    "                   avg_llreg,\n",
    "                   avg_dtree,\n",
    "                   avg_regr,\n",
    "                   avg_svrp2,\n",
    "                   avg_eregr,\n",
    "                   avg_etreg],\n",
    "                  axis=0)\n",
    "mixed_based_neuro_harmonized_on_testmix"
   ]
  },
  {
   "cell_type": "code",
   "execution_count": null,
   "id": "5c596467-d829-466a-b89c-e06a590e9040",
   "metadata": {
    "tags": []
   },
   "outputs": [],
   "source": [
    "mixed_based_neuro_harmonized_on_testmix.to_csv(output_folder + 'mixed_based_neuro_harmonized_on_testmix.csv')"
   ]
  },
  {
   "cell_type": "markdown",
   "id": "335561d1-d08d-42c8-a609-88d24e5d5b8e",
   "metadata": {},
   "source": [
    "# Running mixed model over SABRE dataset"
   ]
  },
  {
   "cell_type": "markdown",
   "id": "dd9fe7cc-6afb-4f4d-aa20-35d4d6238d3d",
   "metadata": {},
   "source": [
    "## Here we will do an example of running  models made of the entire StrokeMRI and TOP dataset mixed as one"
   ]
  },
  {
   "cell_type": "markdown",
   "id": "d589fe7c-0e57-4e35-b108-f83a32e68863",
   "metadata": {
    "tags": []
   },
   "source": [
    "#### Build new models"
   ]
  },
  {
   "cell_type": "code",
   "execution_count": null,
   "id": "678c5c90-f4e2-4da4-9eb3-c9c8aa450ac5",
   "metadata": {
    "tags": []
   },
   "outputs": [],
   "source": [
    "TOPMRI.head(3)"
   ]
  },
  {
   "cell_type": "code",
   "execution_count": null,
   "id": "f4908495-c71c-4e57-8fd3-e7e049ec29d7",
   "metadata": {
    "tags": []
   },
   "outputs": [],
   "source": [
    "TOPMRI.shape"
   ]
  },
  {
   "cell_type": "code",
   "execution_count": null,
   "id": "67e5d614-aeeb-45cb-84c8-0b73a512bd14",
   "metadata": {
    "tags": []
   },
   "outputs": [],
   "source": [
    "SABRE.shape"
   ]
  },
  {
   "cell_type": "code",
   "execution_count": null,
   "id": "a76c6c60-29e7-4ab8-98a8-9e969e2348ae",
   "metadata": {
    "tags": []
   },
   "outputs": [],
   "source": [
    "SABRE.columns"
   ]
  },
  {
   "cell_type": "code",
   "execution_count": null,
   "id": "eaf98a88-c155-45c6-a78f-c17fc3e0cf75",
   "metadata": {
    "tags": []
   },
   "outputs": [],
   "source": [
    "TOPMRI.columns"
   ]
  },
  {
   "cell_type": "code",
   "execution_count": null,
   "id": "e858ce7d-8da7-41e2-b92b-111485afa697",
   "metadata": {
    "tags": []
   },
   "outputs": [],
   "source": [
    "ml_matrix = TOPMRI.drop('participant_id', axis=1)\n",
    "X = ml_matrix.drop('age', axis =1)\n",
    "X = X.values\n",
    "X = X.astype('float')\n",
    "y = ml_matrix['age'].values\n",
    "y=y.astype('float')"
   ]
  },
  {
   "cell_type": "code",
   "execution_count": null,
   "id": "9b2f7283-a05d-411a-82f4-6df5dcf3216c",
   "metadata": {
    "tags": []
   },
   "outputs": [],
   "source": [
    "# now we decide to do no test train split, rather take all\n",
    "X_train = X\n",
    "y_train = y"
   ]
  },
  {
   "cell_type": "code",
   "execution_count": null,
   "id": "649bf038-fb3c-419c-8385-dd478c30d042",
   "metadata": {
    "tags": []
   },
   "outputs": [],
   "source": [
    "MIXlinr = LinearRegression()\n",
    "MIXlinr.fit(X_train, y_train)"
   ]
  },
  {
   "cell_type": "code",
   "execution_count": null,
   "id": "5d4a180c-930a-4f7e-9e4d-03776b64ac44",
   "metadata": {
    "tags": []
   },
   "outputs": [],
   "source": [
    "MIXllreg = linear_model.LassoLars(alpha=0.01)\n",
    "MIXllreg.fit(X_train, y_train)"
   ]
  },
  {
   "cell_type": "code",
   "execution_count": null,
   "id": "3daae9f9-f5dd-49a1-8488-0b754288b78f",
   "metadata": {
    "tags": []
   },
   "outputs": [],
   "source": [
    "MIXeregr = ElasticNetCV(cv=5, random_state=17)\n",
    "MIXeregr.fit(X_train, y_train)\n"
   ]
  },
  {
   "cell_type": "code",
   "execution_count": null,
   "id": "96720f02-42e7-4100-819d-791e9c6e75e9",
   "metadata": {
    "tags": []
   },
   "outputs": [],
   "source": [
    "MIXetreg = ExtraTreesRegressor(n_estimators=100, random_state=0)\n",
    "MIXetreg.fit(X_train, y_train)"
   ]
  },
  {
   "cell_type": "code",
   "execution_count": null,
   "id": "f184d4bd-d652-4fe4-aff3-9305b3dcdfab",
   "metadata": {
    "tags": []
   },
   "outputs": [],
   "source": [
    "##  Save these four best models"
   ]
  },
  {
   "cell_type": "code",
   "execution_count": null,
   "id": "b3af3169-f33a-4097-b802-faca8ac35282",
   "metadata": {
    "tags": []
   },
   "outputs": [],
   "source": [
    "## optional save models\n",
    "#joblib.dump(MIXlinr, ('../result_models/'+  'neuro_harm_mix_MIXlinr.sav'))\n",
    "#joblib.dump(MIXllreg, ('../result_models/'+ 'neuro_harmm_mix_MIXllreg.sav'))\n",
    "#joblib.dump(MIXeregr, ('../result_models/'+ 'neuro_harm_mix_MIXeregr.sav'))\n",
    "#joblib.dump(MIXetreg, ('../result_models/'+ 'neuro_harm_mix_MIXetreg.sav'))"
   ]
  },
  {
   "cell_type": "code",
   "execution_count": null,
   "id": "4541d92f-cf01-4f5a-97cb-6ba4b4c4b0f9",
   "metadata": {
    "tags": []
   },
   "outputs": [],
   "source": [
    "sabre_ml_matrix = SABRE.drop('participant_id', axis=1)\n",
    "X_sabre = sabre_ml_matrix.drop('age', axis =1)\n",
    "X_sabre = X_sabre.values\n",
    "X_sabre = X_sabre.astype('float')\n",
    "y_sabre = sabre_ml_matrix['age'].values\n",
    "y_sabre=y_sabre.astype('float')"
   ]
  },
  {
   "cell_type": "code",
   "execution_count": null,
   "id": "35936c03-d11e-456f-9883-3ab5c7da1fd9",
   "metadata": {
    "tags": []
   },
   "outputs": [],
   "source": [
    "X_sabre_test = X_sabre\n",
    "y_sabre_test = y_sabre"
   ]
  },
  {
   "cell_type": "code",
   "execution_count": null,
   "id": "f1358a3f-ca42-434b-8f43-bb6ac2a12daf",
   "metadata": {
    "tags": []
   },
   "outputs": [],
   "source": [
    "y_sabre_pred = MIXlinr.predict(X_sabre_test)"
   ]
  },
  {
   "cell_type": "code",
   "execution_count": null,
   "id": "6e5993c5-1d7e-4850-88c9-aad5b7e0c24e",
   "metadata": {
    "tags": []
   },
   "outputs": [],
   "source": [
    "data= [[\n",
    "    'Linear Reg',\n",
    "    'unharm_mix_linr0.sav',\n",
    "    mean_absolute_error(y_sabre_test, y_sabre_pred),\n",
    "    MIXlinr.score(X_sabre_test,y_sabre_test),\n",
    "    metrics.explained_variance_score(y_sabre_test, y_sabre_pred)]]\n",
    "linr_results_sabre = pd.DataFrame(data, columns=['algorithm','file_name','mae', 'r2', 'explained_variance'])\n",
    "linr_results_sabre"
   ]
  },
  {
   "cell_type": "code",
   "execution_count": null,
   "id": "cb2b4ade-6a6b-4d5a-afdb-a983d8123576",
   "metadata": {
    "tags": []
   },
   "outputs": [],
   "source": [
    "data = {'real': y_sabre_test, 'predicted': y_sabre_pred}\n",
    "y_frame_linr_sabre = pd.DataFrame(data)\n",
    "y_frame_linr_sabre"
   ]
  },
  {
   "cell_type": "code",
   "execution_count": null,
   "id": "4770f05f-3e13-4683-9291-1a2a3dbe4ac4",
   "metadata": {
    "tags": []
   },
   "outputs": [],
   "source": [
    "y_frame_linr_sabre.to_csv(output_folder + 'y_frame_linr_sabre_neuroHarmonize_harm.csv')"
   ]
  },
  {
   "cell_type": "code",
   "execution_count": null,
   "id": "2c88fdc5-bf6b-4269-af94-b7ef2aceab7f",
   "metadata": {
    "tags": []
   },
   "outputs": [],
   "source": [
    "y_sabre_pred = MIXllreg.predict(X_sabre_test)"
   ]
  },
  {
   "cell_type": "code",
   "execution_count": null,
   "id": "3d6d882e-a2b1-4aea-b121-f256425fd927",
   "metadata": {
    "tags": []
   },
   "outputs": [],
   "source": [
    "data= [[\n",
    "    'Lasso',\n",
    "    'unharm_mix_lassor0.sav',\n",
    "    mean_absolute_error(y_sabre_test, y_sabre_pred),\n",
    "    MIXllreg.score(X_sabre_test,y_sabre_test),\n",
    "    metrics.explained_variance_score(y_sabre_test, y_sabre_pred)]]\n",
    "llreg_results_sabre = pd.DataFrame(data, columns=['algorithm','file_name','mae', 'r2', 'explained_variance'])\n",
    "llreg_results_sabre"
   ]
  },
  {
   "cell_type": "code",
   "execution_count": null,
   "id": "a5b5e69a-7299-4e27-ac4a-fab61b8a3f82",
   "metadata": {
    "tags": []
   },
   "outputs": [],
   "source": [
    "data = {'real': y_sabre_test, 'predicted': y_sabre_pred}\n",
    "y_frame_llreg_sabre = pd.DataFrame(data)\n",
    "y_frame_llreg_sabre"
   ]
  },
  {
   "cell_type": "code",
   "execution_count": null,
   "id": "6037ddb4-32a7-4a2d-b10a-5bdbf6207f44",
   "metadata": {
    "tags": []
   },
   "outputs": [],
   "source": [
    "y_frame_llreg_sabre.to_csv(output_folder + 'y_frame_llreg_sabre_neuroHarmonize_harm.csv')"
   ]
  },
  {
   "cell_type": "code",
   "execution_count": null,
   "id": "1f291391-1fc2-483a-a20d-28aee059c53b",
   "metadata": {
    "tags": []
   },
   "outputs": [],
   "source": [
    "y_sabre_pred = MIXeregr.predict(X_sabre_test)"
   ]
  },
  {
   "cell_type": "code",
   "execution_count": null,
   "id": "0aa78f2a-5de4-43c4-b326-f59d7ec9b2ef",
   "metadata": {
    "tags": []
   },
   "outputs": [],
   "source": [
    "data= [[\n",
    "    'ElasticnetCV',\n",
    "    'harm_mix_elasticregr.sav',\n",
    "    mean_absolute_error(y_sabre_test, y_sabre_pred),\n",
    "    MIXeregr.score(X_sabre_test,y_sabre_test),\n",
    "    metrics.explained_variance_score(y_sabre_test, y_sabre_pred)]]\n",
    "eregr_results_sabre = pd.DataFrame(data, columns=['algorithm','file_name','mae', 'r2', 'explained_variance'])\n",
    "eregr_results_sabre"
   ]
  },
  {
   "cell_type": "code",
   "execution_count": null,
   "id": "e402811e-90fe-4666-87fd-42639ddfc9e6",
   "metadata": {
    "tags": []
   },
   "outputs": [],
   "source": [
    "data = {'real': y_sabre_test, 'predicted': y_sabre_pred}\n",
    "y_frame_eregr_sabre = pd.DataFrame(data)\n",
    "y_frame_eregr_sabre"
   ]
  },
  {
   "cell_type": "code",
   "execution_count": null,
   "id": "5eea397e-8ba2-46e6-aa72-5299f74c55f4",
   "metadata": {
    "tags": []
   },
   "outputs": [],
   "source": [
    "y_frame_eregr_sabre.to_csv(output_folder + 'y_frame_eregr_sabre_neuroHarmonize_harm.csv')"
   ]
  },
  {
   "cell_type": "code",
   "execution_count": null,
   "id": "83b9e294-b91f-4965-a9ec-71a9f2098de1",
   "metadata": {
    "tags": []
   },
   "outputs": [],
   "source": [
    "y_sabre_pred = MIXetreg.predict(X_sabre_test)"
   ]
  },
  {
   "cell_type": "code",
   "execution_count": null,
   "id": "a461bfd1-bbfe-46ba-905c-e9279da37432",
   "metadata": {
    "tags": []
   },
   "outputs": [],
   "source": [
    "data= [[\n",
    "    'Extra trees',\n",
    "    'harm_mix_etreg.sav',\n",
    "    mean_absolute_error(y_sabre_test, y_sabre_pred),\n",
    "    MIXetreg.score(X_sabre_test,y_sabre_test),\n",
    "    metrics.explained_variance_score(y_sabre_test, y_sabre_pred)]]\n",
    "etreg_results_sabre = pd.DataFrame(data, columns=['algorithm','file_name','mae', 'r2', 'explained_variance'])\n",
    "etreg_results_sabre"
   ]
  },
  {
   "cell_type": "code",
   "execution_count": null,
   "id": "ac524ce4-6808-496b-b9b9-481b6479e886",
   "metadata": {
    "tags": []
   },
   "outputs": [],
   "source": [
    "data = {'real': y_sabre_test, 'predicted': y_sabre_pred}\n",
    "y_frame_etregr_sabre = pd.DataFrame(data)\n",
    "y_frame_etregr_sabre"
   ]
  },
  {
   "cell_type": "code",
   "execution_count": null,
   "id": "580fe45c-6428-4465-951d-851d251a1e37",
   "metadata": {
    "tags": []
   },
   "outputs": [],
   "source": [
    "y_frame_etregr_sabre.to_csv(output_folder + 'y_frame_etregr_sabre_neuroHarmonize_harm.csv')"
   ]
  },
  {
   "cell_type": "code",
   "execution_count": null,
   "id": "372532aa-b0af-4c75-bb71-b22fce54cc10",
   "metadata": {
    "tags": []
   },
   "outputs": [],
   "source": [
    "mix_based_neuroHarmonize_on_sabre =pd.concat([linr_results_sabre,\n",
    "                   llreg_results_sabre,\n",
    "                   eregr_results_sabre,\n",
    "                  etreg_results_sabre],\n",
    "                  axis=0)\n",
    "mix_based_neuroHarmonize_on_sabre"
   ]
  },
  {
   "cell_type": "code",
   "execution_count": null,
   "id": "cddc58e4-76cb-420c-8ba8-a07552a7096d",
   "metadata": {
    "tags": []
   },
   "outputs": [],
   "source": [
    "mix_based_neuroHarmonize_on_sabre.to_csv(output_folder + 'mix_based_neuroHarmonize_on_sabre.csv')"
   ]
  },
  {
   "cell_type": "markdown",
   "id": "643a2b97-1246-4efb-9291-498b8adf606d",
   "metadata": {},
   "source": [
    "# Running mixed model over Insight46 dataset"
   ]
  },
  {
   "cell_type": "markdown",
   "id": "c24060d3-81f2-4bfb-aee6-ef9042bef95c",
   "metadata": {},
   "source": [
    "## Here we will do an example of running allthe [0] models"
   ]
  },
  {
   "cell_type": "code",
   "execution_count": null,
   "id": "5f2bae9e-f6c1-4c54-b01f-bb4eb228c121",
   "metadata": {
    "tags": []
   },
   "outputs": [],
   "source": [
    "insight_ml_matrix = Insight46.drop('participant_id', axis=1)\n",
    "X_insight = insight_ml_matrix.drop('age', axis =1)\n",
    "X_insight = X_insight.values\n",
    "X_insight = X_insight.astype('float')\n",
    "y_insight = insight_ml_matrix['age'].values\n",
    "y_insight= y_insight.astype('float')"
   ]
  },
  {
   "cell_type": "code",
   "execution_count": null,
   "id": "4c42319d-fe4d-4786-9ec9-54b0809a40dd",
   "metadata": {
    "tags": []
   },
   "outputs": [],
   "source": [
    "X_insight_test = X_insight\n",
    "y_insight_test = y_insight"
   ]
  },
  {
   "cell_type": "code",
   "execution_count": null,
   "id": "42bd7c73-cf15-4e24-98d2-dc84cbdfd341",
   "metadata": {
    "tags": []
   },
   "outputs": [],
   "source": [
    "y_insight_pred = MIXlinr.predict(X_insight_test)"
   ]
  },
  {
   "cell_type": "code",
   "execution_count": null,
   "id": "82ad38c7-49c7-455d-b2b0-ac4c1fa0a49a",
   "metadata": {
    "tags": []
   },
   "outputs": [],
   "source": [
    "data= [[\n",
    "    'Linear Reg',\n",
    "    'neuroharm_mix_linr0.sav',\n",
    "    mean_absolute_error(y_insight_test, y_insight_pred),\n",
    "    MIXlinr.score(X_insight_test,y_insight_test),\n",
    "    metrics.explained_variance_score(y_insight_test, y_insight_pred)]]\n",
    "linr_results_insight = pd.DataFrame(data, columns=['algorithm','file_name','mae', 'r2', 'explained_variance'])\n",
    "linr_results_insight"
   ]
  },
  {
   "cell_type": "code",
   "execution_count": null,
   "id": "ad393371-6d37-4ab8-88ea-52c87b2f16f1",
   "metadata": {
    "tags": []
   },
   "outputs": [],
   "source": [
    "data = {'real': y_insight_test, 'predicted': y_insight_pred}\n",
    "y_frame_linr_insight = pd.DataFrame(data)\n",
    "y_frame_linr_insight"
   ]
  },
  {
   "cell_type": "code",
   "execution_count": null,
   "id": "6f82d394-fd25-47e2-a272-699c60dbed50",
   "metadata": {
    "tags": []
   },
   "outputs": [],
   "source": [
    "y_frame_linr_insight.to_csv(output_folder + 'y_frame_linr_insight_neuroHarmonize_harm.csv')"
   ]
  },
  {
   "cell_type": "code",
   "execution_count": null,
   "id": "d8e8db53-ee07-45dc-9b10-56744505445f",
   "metadata": {
    "tags": []
   },
   "outputs": [],
   "source": [
    "y_insight_pred = MIXllreg.predict(X_insight_test)"
   ]
  },
  {
   "cell_type": "code",
   "execution_count": null,
   "id": "8afdfb64-e596-418c-b160-e32d55ba5bc7",
   "metadata": {
    "tags": []
   },
   "outputs": [],
   "source": [
    "data= [[\n",
    "    'Lasso',\n",
    "    'neuroharm_mix_lassor0.sav',\n",
    "    mean_absolute_error(y_insight_test, y_insight_pred),\n",
    "    MIXllreg.score(X_insight_test,y_insight_test),\n",
    "    metrics.explained_variance_score(y_insight_test, y_insight_pred)]]\n",
    "llreg_results_insight = pd.DataFrame(data, columns=['algorithm','file_name','mae', 'r2', 'explained_variance'])\n",
    "llreg_results_insight"
   ]
  },
  {
   "cell_type": "code",
   "execution_count": null,
   "id": "2939ac22-531b-4850-bfc5-63d480aec109",
   "metadata": {
    "tags": []
   },
   "outputs": [],
   "source": [
    "data = {'real': y_insight_test, 'predicted': y_insight_pred}\n",
    "y_frame_llreg_insight = pd.DataFrame(data)\n",
    "y_frame_llreg_insight"
   ]
  },
  {
   "cell_type": "code",
   "execution_count": null,
   "id": "52927fa4-47b9-4b8b-92e1-1cf37a0fb538",
   "metadata": {
    "tags": []
   },
   "outputs": [],
   "source": [
    "y_frame_llreg_insight.to_csv(output_folder + 'y_frame_llreg_insight_neuroHarmonize_harm.csv')"
   ]
  },
  {
   "cell_type": "code",
   "execution_count": null,
   "id": "8b6c730c-edb7-41a7-9c25-cb9fde019ac1",
   "metadata": {
    "tags": []
   },
   "outputs": [],
   "source": [
    "y_insight_pred = MIXeregr.predict(X_insight_test)"
   ]
  },
  {
   "cell_type": "code",
   "execution_count": null,
   "id": "a5e4906c-6e64-4cb7-a9e2-53c02ad1c838",
   "metadata": {
    "tags": []
   },
   "outputs": [],
   "source": [
    "data= [[\n",
    "    'ElasticnetCV',\n",
    "    'neuroharm_mix_elasticregr.sav',\n",
    "    mean_absolute_error(y_insight_test, y_insight_pred),\n",
    "    MIXeregr.score(X_insight_test,y_insight_test),\n",
    "    metrics.explained_variance_score(y_insight_test, y_insight_pred)]]\n",
    "eregr_results_insight = pd.DataFrame(data, columns=['algorithm','file_name','mae', 'r2', 'explained_variance'])\n",
    "eregr_results_insight"
   ]
  },
  {
   "cell_type": "code",
   "execution_count": null,
   "id": "cb590c30-ccc5-4fa0-80ff-792a7ad8a3d3",
   "metadata": {
    "tags": []
   },
   "outputs": [],
   "source": [
    "data = {'real': y_insight_test, 'predicted': y_insight_pred}\n",
    "y_frame_eregr_insight = pd.DataFrame(data)\n",
    "y_frame_eregr_insight"
   ]
  },
  {
   "cell_type": "code",
   "execution_count": null,
   "id": "0fe55428-c65c-4960-87d6-5b25b9c04b39",
   "metadata": {
    "tags": []
   },
   "outputs": [],
   "source": [
    "y_frame_eregr_insight.to_csv(output_folder + 'y_frame_eregr_insight_neuroHarmonize_harm.csv')"
   ]
  },
  {
   "cell_type": "code",
   "execution_count": null,
   "id": "b5359618-4501-4bb8-9550-673eb3cd45df",
   "metadata": {
    "tags": []
   },
   "outputs": [],
   "source": [
    "y_insight_pred = MIXetreg.predict(X_insight_test)"
   ]
  },
  {
   "cell_type": "code",
   "execution_count": null,
   "id": "942eea1e-720b-4de9-95cc-b5ede54cb44f",
   "metadata": {
    "tags": []
   },
   "outputs": [],
   "source": [
    "data= [[\n",
    "    'Extra trees',\n",
    "    'neuroharm_mix_etreg.sav',\n",
    "    mean_absolute_error(y_insight_test, y_insight_pred),\n",
    "    MIXetreg.score(X_insight_test,y_insight_test),\n",
    "    metrics.explained_variance_score(y_insight_test, y_insight_pred)]]\n",
    "etreg_results_insight = pd.DataFrame(data, columns=['algorithm','file_name','mae', 'r2', 'explained_variance'])\n",
    "etreg_results_insight"
   ]
  },
  {
   "cell_type": "code",
   "execution_count": null,
   "id": "67c47485-9cf5-4193-85de-3548ef214648",
   "metadata": {
    "tags": []
   },
   "outputs": [],
   "source": [
    "data = {'real': y_insight_test, 'predicted': y_insight_pred}\n",
    "y_frame_etreg_insight = pd.DataFrame(data)\n",
    "y_frame_etreg_insight"
   ]
  },
  {
   "cell_type": "code",
   "execution_count": null,
   "id": "59f0a5e9-c3a6-42f8-8a40-8684e7e67d65",
   "metadata": {
    "tags": []
   },
   "outputs": [],
   "source": [
    "y_frame_etreg_insight.to_csv(output_folder + 'y_frame_etreg_insight_neuroHarmonize_harm.csv')"
   ]
  },
  {
   "cell_type": "code",
   "execution_count": null,
   "id": "94f68e7c-6f54-47bc-8679-9c4b19629ae0",
   "metadata": {
    "tags": []
   },
   "outputs": [],
   "source": [
    "mix_based_neuroHarmonize_on_insight =pd.concat([linr_results_insight,\n",
    "                   llreg_results_insight,\n",
    "                   eregr_results_insight,\n",
    "                   etreg_results_insight],\n",
    "                  axis=0)\n",
    "mix_based_neuroHarmonize_on_insight"
   ]
  },
  {
   "cell_type": "code",
   "execution_count": null,
   "id": "066b9518-4dc5-40b9-9391-2c0b3cc8b14e",
   "metadata": {
    "tags": []
   },
   "outputs": [],
   "source": [
    "mix_based_neuroHarmonize_on_insight.to_csv(output_folder + 'mix_based_neuroHarmonize_on_insight.csv')"
   ]
  },
  {
   "cell_type": "code",
   "execution_count": null,
   "id": "f9a90039-a07d-4d42-b1d9-b332e9635a12",
   "metadata": {},
   "outputs": [],
   "source": []
  }
 ],
 "metadata": {
  "kernelspec": {
   "display_name": "Python 3 (ipykernel)",
   "language": "python",
   "name": "python3"
  },
  "language_info": {
   "codemirror_mode": {
    "name": "ipython",
    "version": 3
   },
   "file_extension": ".py",
   "mimetype": "text/x-python",
   "name": "python",
   "nbconvert_exporter": "python",
   "pygments_lexer": "ipython3",
   "version": "3.9.18"
  }
 },
 "nbformat": 4,
 "nbformat_minor": 5
}
