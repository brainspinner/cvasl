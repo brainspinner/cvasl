{
 "cells": [
  {
   "cell_type": "markdown",
   "id": "0",
   "metadata": {},
   "source": [
    "# ML testing: experiment #3e- harmonized with neuroHarmonize (neurocombat-GAM)\n",
    "\n",
    "This notebook involves testing for the MRI research of the cvasl team. This notebook shows mixed_dataset (TOP + StrokeMRI) based models with neurocombat harmonization to Insight 46 and Sabre datasets (the strokeMRI and TOP become one dataset)"
   ]
  },
  {
   "cell_type": "markdown",
   "id": "1",
   "metadata": {},
   "source": [
    "Data: StrokeMRI, TOP, SABRE, Insight46, EDIS, and HELIUS pending\n",
    "\n",
    "Harmonisation: neuroHarmonize\n",
    "\n",
    "Training data: Norment whichh is StrokeMRI and TOP togehter\n",
    "\n",
    "Testing data: test set from Norment\n",
    "\n",
    "Futher data applied to: SABRE, Insight46, EDIS, and HELIUS pending\n",
    "\n",
    "Validation method: K-fold, double-stratified\n",
    "\n",
    "Brain-age algorithms: LR, lasso, extra trees, elasticCV net fully tested (but not optimized parameters), additionals partly\n",
    "\n",
    "Outputs: ? what do we want to have here?"
   ]
  },
  {
   "cell_type": "markdown",
   "id": "2",
   "metadata": {
    "tags": []
   },
   "source": [
    "### import libraries"
   ]
  },
  {
   "cell_type": "code",
   "execution_count": null,
   "id": "3",
   "metadata": {
    "tags": []
   },
   "outputs": [],
   "source": [
    "import os       # using operating system dependent functionality (folders)\n",
    "import sys\n",
    "\n",
    "import glob\n",
    "from functools import reduce\n",
    "\n",
    "import pandas as pd # data analysis and manipulation\n",
    "import numpy as np    # numerical computing (manipulating and performing operations on arrays of data)\n",
    "import matplotlib.pyplot as plt\n",
    "\n",
    "# # demo stuff\n",
    "import ipywidgets as widgets\n",
    "# import seaborn \n",
    "\n",
    "# ml stuff\n",
    "from sklearn.model_selection import train_test_split\n",
    "from sklearn.preprocessing import StandardScaler\n",
    "#from sklearn.svm import SVC\n",
    "from sklearn.metrics import accuracy_score\n",
    "#from sklearn.linear_model import LogisticRegression\n",
    "from sklearn.linear_model import LinearRegression\n",
    "from sklearn import linear_model\n",
    "from sklearn import tree\n",
    "from sklearn import metrics\n",
    "from sklearn.linear_model import SGDRegressor\n",
    "from sklearn.metrics import confusion_matrix\n",
    "from sklearn.metrics import mean_absolute_error\n",
    "from sklearn.neighbors import KNeighborsClassifier\n",
    "from sklearn.svm import SVR\n",
    "from sklearn.neural_network import MLPRegressor\n",
    "from sklearn.linear_model import ElasticNetCV\n",
    "from sklearn.ensemble import ExtraTreesRegressor\n",
    "from sklearn.model_selection import StratifiedShuffleSplit\n",
    "from sklearn.model_selection import cross_val_score\n",
    "\n",
    "import joblib\n",
    "\n",
    "sys.path.insert(0, '../') # path to functions\n",
    "import cvasl.seperated as sep\n",
    "from cvasl.file_handler import Config"
   ]
  },
  {
   "cell_type": "markdown",
   "id": "4",
   "metadata": {
    "tags": []
   },
   "source": [
    "### import data"
   ]
  },
  {
   "cell_type": "code",
   "execution_count": null,
   "id": "5",
   "metadata": {
    "tags": []
   },
   "outputs": [],
   "source": [
    "filepath_mri_for_ids = 'our_datasets/StrokeMRI/' \n",
    "filename_mri_for_ids = os.path.join(filepath_mri_for_ids,'TrainingDataComplete.csv') \n",
    "\n",
    "filepath_top_for_ids = 'our_datasets/TOP/' \n",
    "filename_top_for_ids = os.path.join(filepath_top_for_ids,'TrainingDataComplete.csv') \n",
    "\n",
    "\n",
    "\n",
    "filepath_topmri = 'harmonizations/harm_results/neurocharm/' \n",
    "filename_topmri = os.path.join(filepath_topmri,'topmri_vs_sabre_5way.csv') \n",
    "\n",
    "filepath_sabre = 'harmonizations/harm_results/neurocharm/'\n",
    "filename_sabre = os.path.join(filepath_topmri,'sabre_vs_topmri_5way.csv') \n",
    "\n",
    "filepath_insight46 = 'harmonizations/harm_results/neurocharm/'\n",
    "filename_insight46 =  os.path.join(filepath_topmri,'insight_vs_topmri_5way.csv') \n",
    "\n",
    "filepath_edis = filepath_sabre\n",
    "filename_edis =  os.path.join(filepath_sabre,'edis_vs_topmri_5way.csv') \n",
    "\n",
    "filepath_helius = filepath_sabre\n",
    "filename_helius =  os.path.join(filepath_sabre,'helius_vs_topmri_5way.csv') \n",
    "\n",
    "# read in data\n",
    "TOPMRI = pd.read_csv(filename_topmri, index_col=0)\n",
    "SABRE = pd.read_csv(filename_sabre, index_col=0)\n",
    "Insight46 = pd.read_csv(filename_insight46, index_col=0)\n",
    "EDIS = pd.read_csv(filename_edis, index_col=0)\n",
    "HELIUS =pd.read_csv(filename_helius, index_col=0)\n",
    "# ids top and mri\n",
    "IDS_TOP =  pd.read_csv(filename_top_for_ids)\n",
    "IDS_MRI =  pd.read_csv(filename_mri_for_ids)"
   ]
  },
  {
   "cell_type": "code",
   "execution_count": null,
   "id": "6",
   "metadata": {
    "tags": []
   },
   "outputs": [],
   "source": [
    "TOPMRI.columns"
   ]
  },
  {
   "cell_type": "code",
   "execution_count": null,
   "id": "7",
   "metadata": {
    "tags": []
   },
   "outputs": [],
   "source": [
    "#SABRE"
   ]
  },
  {
   "cell_type": "code",
   "execution_count": null,
   "id": "8",
   "metadata": {
    "tags": []
   },
   "outputs": [],
   "source": []
  },
  {
   "cell_type": "code",
   "execution_count": null,
   "id": "9",
   "metadata": {
    "tags": []
   },
   "outputs": [],
   "source": [
    "# Insight46 = Insight46.assign(sex = Insight46.sex.map(sex_mapping))\n",
    "# #Insight46.head(3)"
   ]
  },
  {
   "cell_type": "code",
   "execution_count": null,
   "id": "11",
   "metadata": {
    "tags": []
   },
   "outputs": [],
   "source": [
    "TOPMRI.shape"
   ]
  },
  {
   "cell_type": "code",
   "execution_count": null,
   "id": "12",
   "metadata": {
    "tags": []
   },
   "outputs": [],
   "source": [
    "Insight46.sex"
   ]
  },
  {
   "cell_type": "code",
   "execution_count": null,
   "id": "81c4cd4e-a6cb-4dfe-bb62-6b3d7b25f442",
   "metadata": {},
   "outputs": [],
   "source": []
  },
  {
   "cell_type": "markdown",
   "id": "2a2cb939-4d0f-4ddf-8b4c-e1ca880ff593",
   "metadata": {},
   "source": [
    "## Make a dropbox for outputs"
   ]
  },
  {
   "cell_type": "code",
   "execution_count": null,
   "id": "4e8813f7-413d-4dd1-8448-e79a1e90d015",
   "metadata": {
    "tags": []
   },
   "outputs": [],
   "source": [
    "#give a checkbox for out put folder\n",
    "loged_feat = widgets.ToggleButton(\n",
    "    value=False,\n",
    "    description='Click me if some features logged',\n",
    "    disabled=False,\n",
    "    button_style='', # 'success', 'info', 'warning', 'danger' or ''\n",
    "    tooltip='Description',\n",
    "    icon='check' # (FontAwesome names without the `fa-` prefix)\n",
    ")\n",
    "loged_feat"
   ]
  },
  {
   "cell_type": "code",
   "execution_count": null,
   "id": "053db518-fb9d-4040-9e61-ff32d9c23f38",
   "metadata": {
    "tags": []
   },
   "outputs": [],
   "source": [
    "loged_feat.value"
   ]
  },
  {
   "cell_type": "code",
   "execution_count": null,
   "id": "84a23b78-4e9c-44be-aa8e-9608d9154f75",
   "metadata": {
    "tags": []
   },
   "outputs": [],
   "source": [
    "if loged_feat.value == False:\n",
    "    output_folder = '3e_no_log_outputs'\n",
    "else:\n",
    "    output_folder = '3e_loged_outputs'\n",
    "\n",
    "os.makedirs(output_folder, exist_ok=True)"
   ]
  },
  {
   "cell_type": "markdown",
   "id": "14",
   "metadata": {},
   "source": [
    "# Now we need to break up the top and MRI datasets as well, and format them like the others"
   ]
  },
  {
   "cell_type": "code",
   "execution_count": null,
   "id": "15",
   "metadata": {
    "tags": []
   },
   "outputs": [],
   "source": [
    "set_top_ids = set(IDS_TOP.participant_id)\n",
    "set_mri_ids = set(IDS_MRI.participant_id)\n",
    "StrokeMRI = TOPMRI[TOPMRI['participant_id'].isin(list(set_mri_ids))]\n",
    "TOP = TOPMRI[TOPMRI['participant_id'].isin(list(set_top_ids))]\n",
    "TOP.head(3)"
   ]
  },
  {
   "cell_type": "code",
   "execution_count": null,
   "id": "16",
   "metadata": {
    "tags": []
   },
   "outputs": [],
   "source": [
    "# StrokeMRI = StrokeMRI.assign(sex = StrokeMRI.sex.map(sex_mapping))\n",
    "# StrokeMRI.head(3)"
   ]
  },
  {
   "cell_type": "code",
   "execution_count": null,
   "id": "17",
   "metadata": {
    "tags": []
   },
   "outputs": [],
   "source": [
    "StrokeMRI"
   ]
  },
  {
   "cell_type": "code",
   "execution_count": null,
   "id": "18",
   "metadata": {
    "tags": []
   },
   "outputs": [],
   "source": [
    "#TOP = TOP.assign(sex = TOP.sex.map(sex_mapping))\n",
    "TOP.head(3)"
   ]
  },
  {
   "cell_type": "code",
   "execution_count": null,
   "id": "3cb914eb-2555-47f3-8d88-0c2288f53541",
   "metadata": {
    "tags": []
   },
   "outputs": [],
   "source": [
    "# check for any duplicated patients between helius and sabre\n",
    "heliu = set(HELIUS.participant_id)\n",
    "sabrs = set(SABRE.participant_id)\n",
    "z = sabrs.intersection(heliu)\n",
    "print(z) "
   ]
  },
  {
   "cell_type": "code",
   "execution_count": null,
   "id": "19",
   "metadata": {
    "tags": []
   },
   "outputs": [],
   "source": [
    "# check for any duplicated patients between stroke and mri\n",
    "strokers = set(StrokeMRI.participant_id)\n",
    "topers = set(TOP.participant_id)\n",
    "z = strokers.intersection(topers)\n",
    "print(z) "
   ]
  },
  {
   "cell_type": "code",
   "execution_count": null,
   "id": "20",
   "metadata": {
    "tags": []
   },
   "outputs": [],
   "source": [
    "# make mixed StrokeMRI and TOP dataset\n",
    "#mixed_data = pd.concat([TOP, StrokeMRI], sort=False)\n",
    "mixed_data = TOPMRI"
   ]
  },
  {
   "cell_type": "code",
   "execution_count": null,
   "id": "21",
   "metadata": {
    "tags": []
   },
   "outputs": [],
   "source": [
    "mixed_data.shape"
   ]
  },
  {
   "cell_type": "code",
   "execution_count": null,
   "id": "22",
   "metadata": {
    "tags": []
   },
   "outputs": [],
   "source": [
    "mixed_data.head()"
   ]
  },
  {
   "cell_type": "markdown",
   "id": "23",
   "metadata": {},
   "source": [
    "## Build ML models"
   ]
  },
  {
   "cell_type": "code",
   "execution_count": null,
   "id": "24",
   "metadata": {
    "tags": []
   },
   "outputs": [],
   "source": [
    "ml_matrix = mixed_data.drop('participant_id', axis=1)\n",
    "X = ml_matrix.drop('age', axis =1)\n",
    "X = X.values\n",
    "y = ml_matrix['age'].values\n",
    "y=y.astype('float')"
   ]
  },
  {
   "cell_type": "code",
   "execution_count": null,
   "id": "25",
   "metadata": {
    "tags": []
   },
   "outputs": [],
   "source": [
    "linr_k_frame, linr_y_frame, models = sep.stratified_cat_and_cont_categories_shuffle_split('linear regression', 'req_neuroharm_mix_linr', LinearRegression(), ml_matrix, X[:,1:], y)"
   ]
  },
  {
   "cell_type": "code",
   "execution_count": null,
   "id": "26",
   "metadata": {
    "tags": []
   },
   "outputs": [],
   "source": [
    "linr_k_frame"
   ]
  },
  {
   "cell_type": "code",
   "execution_count": null,
   "id": "27",
   "metadata": {
    "tags": []
   },
   "outputs": [],
   "source": [
    "linr_k_frame.to_csv(output_folder +'/linr_k_frame_neuro_harm.csv')"
   ]
  },
  {
   "cell_type": "code",
   "execution_count": null,
   "id": "28",
   "metadata": {
    "tags": []
   },
   "outputs": [],
   "source": [
    "avg_linr = sep.avg_k_folds(linr_k_frame)\n",
    "avg_linr"
   ]
  },
  {
   "cell_type": "code",
   "execution_count": null,
   "id": "29",
   "metadata": {
    "tags": []
   },
   "outputs": [],
   "source": [
    "linr_y_frame.to_csv('linr_y_frame_neuro_harm.csv')\n",
    "linr_y_frame"
   ]
  },
  {
   "cell_type": "code",
   "execution_count": null,
   "id": "30",
   "metadata": {
    "tags": []
   },
   "outputs": [],
   "source": [
    "linr_y_frame.to_csv(output_folder +'/linr_y_frame_neuro_harm.csv')"
   ]
  },
  {
   "cell_type": "code",
   "execution_count": null,
   "id": "31",
   "metadata": {
    "tags": []
   },
   "outputs": [],
   "source": [
    "linr = models[0]\n",
    "linr[0]"
   ]
  },
  {
   "cell_type": "code",
   "execution_count": null,
   "id": "32",
   "metadata": {
    "tags": []
   },
   "outputs": [],
   "source": [
    "# check if model folder exists and if not , then create\n",
    "model_folder = '../result_models/'\n",
    "if not os.path.exists(model_folder):\n",
    "    os.makedirs(model_folder)"
   ]
  },
  {
   "cell_type": "code",
   "execution_count": null,
   "id": "33",
   "metadata": {
    "tags": []
   },
   "outputs": [],
   "source": [
    "## optional save models\n",
    "#joblib.dump(linr[0], ('../result_models/'+ 'neuroharm_mix_linr0.sav'))\n",
    "#joblib.dump(linr[1], ('../result_models/'+ 'neuroharm_mix_linr1.sav'))\n",
    "#joblib.dump(linr[2], ('../result_models/'+ 'neuroharm_mix_linr2.sav'))\n",
    "#joblib.dump(linr[3], ('../result_models/'+ 'neuroharm_mix_linr3.sav'))\n",
    "#joblib.dump(linr[4], ('../result_models/'+ 'neuroharm_mix_linr4.sav'))"
   ]
  },
  {
   "cell_type": "code",
   "execution_count": null,
   "id": "34",
   "metadata": {
    "tags": []
   },
   "outputs": [],
   "source": [
    "llreg_k_frame, llreg_y_frame, models = sep.stratified_cat_and_cont_categories_shuffle_split('lasso regression', 'unharm_mix_llreg',  linear_model.LassoLars(alpha=0.01), ml_matrix, X[:,1:], y)\n",
    "llreg_k_frame"
   ]
  },
  {
   "cell_type": "code",
   "execution_count": null,
   "id": "35",
   "metadata": {
    "tags": []
   },
   "outputs": [],
   "source": [
    "llreg_k_frame.to_csv(output_folder +'/llreg_k_frame_neuro_harm.csv')"
   ]
  },
  {
   "cell_type": "code",
   "execution_count": null,
   "id": "36",
   "metadata": {
    "tags": []
   },
   "outputs": [],
   "source": [
    "avg_llreg = sep.avg_k_folds(llreg_k_frame)\n",
    "avg_llreg"
   ]
  },
  {
   "cell_type": "code",
   "execution_count": null,
   "id": "37",
   "metadata": {
    "tags": []
   },
   "outputs": [],
   "source": [
    "llreg_y_frame"
   ]
  },
  {
   "cell_type": "code",
   "execution_count": null,
   "id": "38",
   "metadata": {
    "tags": []
   },
   "outputs": [],
   "source": [
    "llreg_y_frame.to_csv(output_folder +'/llreg_y_frame_neuro_harm.csv')"
   ]
  },
  {
   "cell_type": "code",
   "execution_count": null,
   "id": "39",
   "metadata": {
    "tags": []
   },
   "outputs": [],
   "source": [
    "llreg = models[0]\n",
    "llreg[0]"
   ]
  },
  {
   "cell_type": "code",
   "execution_count": null,
   "id": "40",
   "metadata": {
    "tags": []
   },
   "outputs": [],
   "source": [
    "## optional save models\n",
    "#joblib.dump(linr[0], ('../result_models/'+ 'neuroharm_mix_linr0.sav'))\n",
    "#joblib.dump(linr[1], ('../result_models/'+ 'neuroharm_mix_linr1.sav'))\n",
    "#joblib.dump(linr[2], ('../result_models/'+ 'neuroharm_mix_linr2.sav'))\n",
    "#joblib.dump(linr[3], ('../result_models/'+ 'neuroharm_mix_linr3.sav'))\n",
    "#joblib.dump(linr[4], ('../result_models/'+ 'neuroharm_mix_linr4.sav'))"
   ]
  },
  {
   "cell_type": "code",
   "execution_count": null,
   "id": "41",
   "metadata": {
    "tags": []
   },
   "outputs": [],
   "source": [
    "dtree_k_frame, dtree_y_frame, models = sep.stratified_cat_and_cont_categories_shuffle_split('decision tree', 'unharm_mix_dtree',  tree.DecisionTreeRegressor(), ml_matrix, X[:,1:], y)\n",
    "dtree_k_frame"
   ]
  },
  {
   "cell_type": "code",
   "execution_count": null,
   "id": "42",
   "metadata": {
    "tags": []
   },
   "outputs": [],
   "source": [
    "dtree_k_frame.to_csv(output_folder +'/dtree_k_frame_neuro_harm.csv')"
   ]
  },
  {
   "cell_type": "code",
   "execution_count": null,
   "id": "43",
   "metadata": {
    "tags": []
   },
   "outputs": [],
   "source": [
    "avg_dtree = sep.avg_k_folds(dtree_k_frame)\n",
    "avg_dtree"
   ]
  },
  {
   "cell_type": "code",
   "execution_count": null,
   "id": "44",
   "metadata": {
    "tags": []
   },
   "outputs": [],
   "source": [
    "dtree_y_frame"
   ]
  },
  {
   "cell_type": "code",
   "execution_count": null,
   "id": "45",
   "metadata": {
    "tags": []
   },
   "outputs": [],
   "source": [
    "dtree_y_frame.to_csv(output_folder +'/dtree_y_frame_neuro_harm.csv')"
   ]
  },
  {
   "cell_type": "code",
   "execution_count": null,
   "id": "46",
   "metadata": {
    "tags": []
   },
   "outputs": [],
   "source": [
    "dtree = models[0]\n",
    "dtree[0]"
   ]
  },
  {
   "cell_type": "code",
   "execution_count": null,
   "id": "47",
   "metadata": {
    "tags": []
   },
   "outputs": [],
   "source": [
    "regr_k_frame, regr_y_frame, models = sep.stratified_cat_and_cont_categories_shuffle_split('MLP regression', 'unharm_mix_regr',   MLPRegressor(random_state=1, max_iter=700), ml_matrix, X[:,1:], y)\n",
    "regr_k_frame"
   ]
  },
  {
   "cell_type": "code",
   "execution_count": null,
   "id": "48",
   "metadata": {
    "tags": []
   },
   "outputs": [],
   "source": [
    "regr_k_frame.to_csv(output_folder +'/regr_k_frame_neuro_harm.csv')"
   ]
  },
  {
   "cell_type": "code",
   "execution_count": null,
   "id": "49",
   "metadata": {
    "tags": []
   },
   "outputs": [],
   "source": [
    "avg_regr = sep.avg_k_folds(regr_k_frame)\n",
    "avg_regr"
   ]
  },
  {
   "cell_type": "code",
   "execution_count": null,
   "id": "50",
   "metadata": {
    "tags": []
   },
   "outputs": [],
   "source": [
    "regr_y_frame"
   ]
  },
  {
   "cell_type": "code",
   "execution_count": null,
   "id": "51",
   "metadata": {
    "tags": []
   },
   "outputs": [],
   "source": [
    "regr_y_frame.to_csv(output_folder +'/regr_y_frame_neuro_harm.csv')"
   ]
  },
  {
   "cell_type": "code",
   "execution_count": null,
   "id": "52",
   "metadata": {
    "tags": []
   },
   "outputs": [],
   "source": [
    "regr = models[0]\n",
    "regr[0]"
   ]
  },
  {
   "cell_type": "code",
   "execution_count": null,
   "id": "53",
   "metadata": {
    "tags": []
   },
   "outputs": [],
   "source": [
    "svrp2_k_frame, svrp2_y_frame, models = sep.stratified_cat_and_cont_categories_shuffle_split('support vector reg poly2', 'unharm_mix_svrp2',   SVR(C=1.0, kernel='poly', degree =2, epsilon=0.2), ml_matrix, X[:,1:], y)\n",
    "svrp2_k_frame"
   ]
  },
  {
   "cell_type": "code",
   "execution_count": null,
   "id": "54",
   "metadata": {
    "tags": []
   },
   "outputs": [],
   "source": [
    "svrp2_k_frame.to_csv(output_folder +'/svrp2_k_frame_neuro_harm.csv')"
   ]
  },
  {
   "cell_type": "code",
   "execution_count": null,
   "id": "55",
   "metadata": {
    "tags": []
   },
   "outputs": [],
   "source": [
    "avg_svrp2 = sep.avg_k_folds(svrp2_k_frame)\n",
    "avg_svrp2"
   ]
  },
  {
   "cell_type": "code",
   "execution_count": null,
   "id": "56",
   "metadata": {
    "tags": []
   },
   "outputs": [],
   "source": [
    "svrp2_y_frame"
   ]
  },
  {
   "cell_type": "code",
   "execution_count": null,
   "id": "57",
   "metadata": {
    "tags": []
   },
   "outputs": [],
   "source": [
    "svrp2_y_frame.to_csv(output_folder +'/svrp2_y_frame_neuro_hamr.csv')"
   ]
  },
  {
   "cell_type": "code",
   "execution_count": null,
   "id": "58",
   "metadata": {
    "tags": []
   },
   "outputs": [],
   "source": [
    "svrp2 = models[0]\n",
    "svrp2[0]"
   ]
  },
  {
   "cell_type": "code",
   "execution_count": null,
   "id": "59",
   "metadata": {
    "tags": []
   },
   "outputs": [],
   "source": [
    "eregr_k_frame, eregr_y_frame, models = sep.stratified_cat_and_cont_categories_shuffle_split('elasticnetCV', 'unharm_mix_eregr',  ElasticNetCV(cv=5, random_state=12), ml_matrix, X[:,1:], y)\n",
    "eregr_k_frame"
   ]
  },
  {
   "cell_type": "code",
   "execution_count": null,
   "id": "60",
   "metadata": {
    "tags": []
   },
   "outputs": [],
   "source": [
    "eregr_k_frame.to_csv(output_folder +'/eregr_k_frame_neuro_harm.csv')"
   ]
  },
  {
   "cell_type": "code",
   "execution_count": null,
   "id": "61",
   "metadata": {
    "tags": []
   },
   "outputs": [],
   "source": [
    "avg_eregr = sep.avg_k_folds(eregr_k_frame)\n",
    "avg_eregr"
   ]
  },
  {
   "cell_type": "code",
   "execution_count": null,
   "id": "62",
   "metadata": {
    "tags": []
   },
   "outputs": [],
   "source": [
    "eregr_y_frame"
   ]
  },
  {
   "cell_type": "code",
   "execution_count": null,
   "id": "63",
   "metadata": {
    "tags": []
   },
   "outputs": [],
   "source": [
    "eregr_y_frame.to_csv(output_folder +'/eregr_y_frame_neuro_harm.csv')"
   ]
  },
  {
   "cell_type": "code",
   "execution_count": null,
   "id": "64",
   "metadata": {
    "tags": []
   },
   "outputs": [],
   "source": [
    "eregr = models[0]\n",
    "eregr[0]"
   ]
  },
  {
   "cell_type": "code",
   "execution_count": null,
   "id": "65",
   "metadata": {
    "tags": []
   },
   "outputs": [],
   "source": [
    "etreg_k_frame, etreg_y_frame, models = sep.stratified_cat_and_cont_categories_shuffle_split('extra trees', 'unharm_mix_etreg',  ExtraTreesRegressor(n_estimators=100, random_state=0), ml_matrix, X[:,1:], y)\n",
    "etreg_k_frame"
   ]
  },
  {
   "cell_type": "code",
   "execution_count": null,
   "id": "66",
   "metadata": {
    "tags": []
   },
   "outputs": [],
   "source": [
    "etreg_k_frame.to_csv(output_folder +'/etreg_k_frame_neuro_harm.csv')"
   ]
  },
  {
   "cell_type": "code",
   "execution_count": null,
   "id": "67",
   "metadata": {
    "tags": []
   },
   "outputs": [],
   "source": [
    "avg_etreg = sep.avg_k_folds(etreg_k_frame)\n",
    "avg_etreg"
   ]
  },
  {
   "cell_type": "code",
   "execution_count": null,
   "id": "68",
   "metadata": {
    "tags": []
   },
   "outputs": [],
   "source": [
    "etreg_y_frame"
   ]
  },
  {
   "cell_type": "code",
   "execution_count": null,
   "id": "69",
   "metadata": {
    "tags": []
   },
   "outputs": [],
   "source": [
    "etreg_y_frame.to_csv(output_folder +'/etreg_y_frame_neuro_harm.csv')"
   ]
  },
  {
   "cell_type": "code",
   "execution_count": null,
   "id": "70",
   "metadata": {
    "tags": []
   },
   "outputs": [],
   "source": [
    "etreg = models[0]\n",
    "etreg[0]"
   ]
  },
  {
   "cell_type": "code",
   "execution_count": null,
   "id": "71",
   "metadata": {
    "tags": []
   },
   "outputs": [],
   "source": [
    "## optional save models\n",
    "#joblib.dump(etreg[0], ('../result_models/'+ 'neuroharm_mix_etreg0.sav'))\n",
    "#joblib.dump(etreg[1], ('../result_models/'+ 'neuroharm_mix_etreg1.sav'))\n",
    "#joblib.dump(etreg[2], ('../result_models/'+ 'neuroharm_mix_etreg2.sav'))\n",
    "#joblib.dump(etreg[3], ('../result_models/'+ 'neuroharm_mix_etreg3.sav'))\n",
    "#joblib.dump(etreg[4], ('../result_models/'+ 'neuroharm_mix_etreg4.sav'))"
   ]
  },
  {
   "cell_type": "markdown",
   "id": "72",
   "metadata": {},
   "source": [
    "Show results ON AVERAGE for each model"
   ]
  },
  {
   "cell_type": "code",
   "execution_count": null,
   "id": "73",
   "metadata": {
    "tags": []
   },
   "outputs": [],
   "source": [
    "mixed_based_neuro_harmonized_on_testmix =pd.concat([avg_linr,\n",
    "                   avg_llreg,\n",
    "                   avg_dtree,\n",
    "                   avg_regr,\n",
    "                   avg_svrp2,\n",
    "                   avg_eregr,\n",
    "                   avg_etreg],\n",
    "                  axis=0)\n",
    "mixed_based_neuro_harmonized_on_testmix"
   ]
  },
  {
   "cell_type": "code",
   "execution_count": null,
   "id": "74",
   "metadata": {
    "tags": []
   },
   "outputs": [],
   "source": [
    "mixed_based_neuro_harmonized_on_testmix.to_csv(output_folder +'/mixed_based_neuro_harmonized_on_testmix.csv')"
   ]
  },
  {
   "cell_type": "markdown",
   "id": "75",
   "metadata": {},
   "source": [
    "# Running mixed model over SABRE dataset"
   ]
  },
  {
   "cell_type": "markdown",
   "id": "76",
   "metadata": {},
   "source": [
    "## Here we will do an example of running  models made of the entire StrokeMRI and TOP dataset mixed as one"
   ]
  },
  {
   "cell_type": "markdown",
   "id": "77",
   "metadata": {
    "tags": []
   },
   "source": [
    "#### Build new models"
   ]
  },
  {
   "cell_type": "code",
   "execution_count": null,
   "id": "78",
   "metadata": {
    "tags": []
   },
   "outputs": [],
   "source": [
    "TOPMRI.head(3)"
   ]
  },
  {
   "cell_type": "code",
   "execution_count": null,
   "id": "79",
   "metadata": {
    "tags": []
   },
   "outputs": [],
   "source": [
    "TOPMRI.shape"
   ]
  },
  {
   "cell_type": "code",
   "execution_count": null,
   "id": "80",
   "metadata": {
    "tags": []
   },
   "outputs": [],
   "source": [
    "SABRE.shape"
   ]
  },
  {
   "cell_type": "code",
   "execution_count": null,
   "id": "81",
   "metadata": {
    "tags": []
   },
   "outputs": [],
   "source": [
    "SABRE.columns"
   ]
  },
  {
   "cell_type": "code",
   "execution_count": null,
   "id": "82",
   "metadata": {
    "tags": []
   },
   "outputs": [],
   "source": [
    "TOPMRI.columns"
   ]
  },
  {
   "cell_type": "code",
   "execution_count": null,
   "id": "83",
   "metadata": {
    "tags": []
   },
   "outputs": [],
   "source": [
    "ml_matrix = TOPMRI.drop('participant_id', axis=1)\n",
    "X = ml_matrix.drop('age', axis =1)\n",
    "X = X.values\n",
    "X = X.astype('float')\n",
    "y = ml_matrix['age'].values\n",
    "y=y.astype('float')"
   ]
  },
  {
   "cell_type": "code",
   "execution_count": null,
   "id": "84",
   "metadata": {
    "tags": []
   },
   "outputs": [],
   "source": [
    "# now we decide to do no test train split, rather take all\n",
    "X_train = X\n",
    "y_train = y"
   ]
  },
  {
   "cell_type": "code",
   "execution_count": null,
   "id": "85",
   "metadata": {
    "tags": []
   },
   "outputs": [],
   "source": [
    "MIXlinr = LinearRegression()\n",
    "MIXlinr.fit(X_train, y_train)"
   ]
  },
  {
   "cell_type": "code",
   "execution_count": null,
   "id": "86",
   "metadata": {
    "tags": []
   },
   "outputs": [],
   "source": [
    "MIXllreg = linear_model.LassoLars(alpha=0.01)\n",
    "MIXllreg.fit(X_train, y_train)"
   ]
  },
  {
   "cell_type": "code",
   "execution_count": null,
   "id": "87",
   "metadata": {
    "tags": []
   },
   "outputs": [],
   "source": [
    "MIXeregr = ElasticNetCV(cv=5, random_state=17)\n",
    "MIXeregr.fit(X_train, y_train)\n"
   ]
  },
  {
   "cell_type": "code",
   "execution_count": null,
   "id": "88",
   "metadata": {
    "tags": []
   },
   "outputs": [],
   "source": [
    "MIXetreg = ExtraTreesRegressor(n_estimators=100, random_state=0)\n",
    "MIXetreg.fit(X_train, y_train)"
   ]
  },
  {
   "cell_type": "code",
   "execution_count": null,
   "id": "89",
   "metadata": {
    "tags": []
   },
   "outputs": [],
   "source": [
    "##  Save these four best models"
   ]
  },
  {
   "cell_type": "code",
   "execution_count": null,
   "id": "90",
   "metadata": {
    "tags": []
   },
   "outputs": [],
   "source": [
    "## optional save models\n",
    "#joblib.dump(MIXlinr, ('../result_models/'+  'neuro_harm_mix_MIXlinr.sav'))\n",
    "#joblib.dump(MIXllreg, ('../result_models/'+ 'neuro_harmm_mix_MIXllreg.sav'))\n",
    "#joblib.dump(MIXeregr, ('../result_models/'+ 'neuro_harm_mix_MIXeregr.sav'))\n",
    "#joblib.dump(MIXetreg, ('../result_models/'+ 'neuro_harm_mix_MIXetreg.sav'))"
   ]
  },
  {
   "cell_type": "code",
   "execution_count": null,
   "id": "91",
   "metadata": {
    "tags": []
   },
   "outputs": [],
   "source": [
    "sabre_ml_matrix = SABRE.drop('participant_id', axis=1)\n",
    "X_sabre = sabre_ml_matrix.drop('age', axis =1)\n",
    "X_sabre = X_sabre.values\n",
    "X_sabre = X_sabre.astype('float')\n",
    "y_sabre = sabre_ml_matrix['age'].values\n",
    "y_sabre=y_sabre.astype('float')"
   ]
  },
  {
   "cell_type": "code",
   "execution_count": null,
   "id": "92",
   "metadata": {
    "tags": []
   },
   "outputs": [],
   "source": [
    "X_sabre_test = X_sabre\n",
    "y_sabre_test = y_sabre"
   ]
  },
  {
   "cell_type": "code",
   "execution_count": null,
   "id": "93",
   "metadata": {
    "tags": []
   },
   "outputs": [],
   "source": [
    "y_sabre_pred = MIXlinr.predict(X_sabre_test)"
   ]
  },
  {
   "cell_type": "code",
   "execution_count": null,
   "id": "94",
   "metadata": {
    "tags": []
   },
   "outputs": [],
   "source": [
    "data= [[\n",
    "    'Linear Reg',\n",
    "    'unharm_mix_linr0.sav',\n",
    "    mean_absolute_error(y_sabre_test, y_sabre_pred),\n",
    "    MIXlinr.score(X_sabre_test,y_sabre_test),\n",
    "    metrics.explained_variance_score(y_sabre_test, y_sabre_pred)]]\n",
    "linr_results_sabre = pd.DataFrame(data, columns=['algorithm','file_name','mae', 'r2', 'explained_variance'])\n",
    "linr_results_sabre"
   ]
  },
  {
   "cell_type": "code",
   "execution_count": null,
   "id": "95",
   "metadata": {
    "tags": []
   },
   "outputs": [],
   "source": [
    "data = {'real': y_sabre_test, 'predicted': y_sabre_pred}\n",
    "y_frame_linr_sabre = pd.DataFrame(data)\n",
    "y_frame_linr_sabre"
   ]
  },
  {
   "cell_type": "code",
   "execution_count": null,
   "id": "96",
   "metadata": {
    "tags": []
   },
   "outputs": [],
   "source": [
    "y_frame_linr_sabre.to_csv(output_folder +'/y_frame_linr_sabre_neuro_harm.csv')"
   ]
  },
  {
   "cell_type": "code",
   "execution_count": null,
   "id": "97",
   "metadata": {
    "tags": []
   },
   "outputs": [],
   "source": [
    "y_sabre_pred = MIXllreg.predict(X_sabre_test)"
   ]
  },
  {
   "cell_type": "code",
   "execution_count": null,
   "id": "98",
   "metadata": {
    "tags": []
   },
   "outputs": [],
   "source": [
    "data= [[\n",
    "    'Lasso',\n",
    "    'unharm_mix_lassor0.sav',\n",
    "    mean_absolute_error(y_sabre_test, y_sabre_pred),\n",
    "    MIXllreg.score(X_sabre_test,y_sabre_test),\n",
    "    metrics.explained_variance_score(y_sabre_test, y_sabre_pred)]]\n",
    "llreg_results_sabre = pd.DataFrame(data, columns=['algorithm','file_name','mae', 'r2', 'explained_variance'])\n",
    "llreg_results_sabre"
   ]
  },
  {
   "cell_type": "code",
   "execution_count": null,
   "id": "99",
   "metadata": {
    "tags": []
   },
   "outputs": [],
   "source": [
    "data = {'real': y_sabre_test, 'predicted': y_sabre_pred}\n",
    "y_frame_llreg_sabre = pd.DataFrame(data)\n",
    "y_frame_llreg_sabre"
   ]
  },
  {
   "cell_type": "code",
   "execution_count": null,
   "id": "100",
   "metadata": {
    "tags": []
   },
   "outputs": [],
   "source": [
    "y_frame_llreg_sabre.to_csv(output_folder +'/y_frame_llreg_sabre_neuro_harm.csv')"
   ]
  },
  {
   "cell_type": "code",
   "execution_count": null,
   "id": "101",
   "metadata": {
    "tags": []
   },
   "outputs": [],
   "source": [
    "y_sabre_pred = MIXeregr.predict(X_sabre_test)"
   ]
  },
  {
   "cell_type": "code",
   "execution_count": null,
   "id": "102",
   "metadata": {
    "tags": []
   },
   "outputs": [],
   "source": [
    "data= [[\n",
    "    'ElasticnetCV',\n",
    "    'harm_mix_elasticregr.sav',\n",
    "    mean_absolute_error(y_sabre_test, y_sabre_pred),\n",
    "    MIXeregr.score(X_sabre_test,y_sabre_test),\n",
    "    metrics.explained_variance_score(y_sabre_test, y_sabre_pred)]]\n",
    "eregr_results_sabre = pd.DataFrame(data, columns=['algorithm','file_name','mae', 'r2', 'explained_variance'])\n",
    "eregr_results_sabre"
   ]
  },
  {
   "cell_type": "code",
   "execution_count": null,
   "id": "103",
   "metadata": {
    "tags": []
   },
   "outputs": [],
   "source": [
    "data = {'real': y_sabre_test, 'predicted': y_sabre_pred}\n",
    "y_frame_eregr_sabre = pd.DataFrame(data)\n",
    "y_frame_eregr_sabre"
   ]
  },
  {
   "cell_type": "code",
   "execution_count": null,
   "id": "104",
   "metadata": {
    "tags": []
   },
   "outputs": [],
   "source": [
    "y_frame_eregr_sabre.to_csv(output_folder +'/y_frame_eregr_sabre_neuro_harm.csv')"
   ]
  },
  {
   "cell_type": "code",
   "execution_count": null,
   "id": "105",
   "metadata": {
    "tags": []
   },
   "outputs": [],
   "source": [
    "y_sabre_pred = MIXetreg.predict(X_sabre_test)"
   ]
  },
  {
   "cell_type": "code",
   "execution_count": null,
   "id": "106",
   "metadata": {
    "tags": []
   },
   "outputs": [],
   "source": [
    "data= [[\n",
    "    'Extra trees',\n",
    "    'harm_mix_etreg.sav',\n",
    "    mean_absolute_error(y_sabre_test, y_sabre_pred),\n",
    "    MIXetreg.score(X_sabre_test,y_sabre_test),\n",
    "    metrics.explained_variance_score(y_sabre_test, y_sabre_pred)]]\n",
    "etreg_results_sabre = pd.DataFrame(data, columns=['algorithm','file_name','mae', 'r2', 'explained_variance'])\n",
    "etreg_results_sabre"
   ]
  },
  {
   "cell_type": "code",
   "execution_count": null,
   "id": "107",
   "metadata": {
    "tags": []
   },
   "outputs": [],
   "source": [
    "data = {'real': y_sabre_test, 'predicted': y_sabre_pred}\n",
    "y_frame_etregr_sabre = pd.DataFrame(data)\n",
    "y_frame_etregr_sabre"
   ]
  },
  {
   "cell_type": "code",
   "execution_count": null,
   "id": "108",
   "metadata": {
    "tags": []
   },
   "outputs": [],
   "source": [
    "y_frame_etregr_sabre.to_csv(output_folder +'/y_frame_etregr_sabre_neuro_harm.csv')"
   ]
  },
  {
   "cell_type": "code",
   "execution_count": null,
   "id": "109",
   "metadata": {
    "tags": []
   },
   "outputs": [],
   "source": [
    "mix_based_neuroharmonized_on_sabre =pd.concat([linr_results_sabre,\n",
    "                   llreg_results_sabre,\n",
    "                   eregr_results_sabre,\n",
    "                  etreg_results_sabre],\n",
    "                  axis=0)\n",
    "mix_based_neuroharmonized_on_sabre"
   ]
  },
  {
   "cell_type": "code",
   "execution_count": null,
   "id": "110",
   "metadata": {
    "tags": []
   },
   "outputs": [],
   "source": [
    "mix_based_neuroharmonized_on_sabre.to_csv(output_folder +'/mix_based_neuroharmonized_on_sabre.csv')"
   ]
  },
  {
   "cell_type": "markdown",
   "id": "111",
   "metadata": {},
   "source": [
    "# Running mixed model over Insight46 dataset"
   ]
  },
  {
   "cell_type": "code",
   "execution_count": null,
   "id": "113",
   "metadata": {
    "tags": []
   },
   "outputs": [],
   "source": [
    "insight_ml_matrix = Insight46.drop('participant_id', axis=1)\n",
    "X_insight = insight_ml_matrix.drop('age', axis =1)\n",
    "X_insight = X_insight.values\n",
    "X_insight = X_insight.astype('float')\n",
    "y_insight = insight_ml_matrix['age'].values\n",
    "y_insight= y_insight.astype('float')"
   ]
  },
  {
   "cell_type": "code",
   "execution_count": null,
   "id": "114",
   "metadata": {
    "tags": []
   },
   "outputs": [],
   "source": [
    "X_insight_test = X_insight\n",
    "y_insight_test = y_insight"
   ]
  },
  {
   "cell_type": "code",
   "execution_count": null,
   "id": "115",
   "metadata": {
    "tags": []
   },
   "outputs": [],
   "source": [
    "y_insight_pred = MIXlinr.predict(X_insight_test)"
   ]
  },
  {
   "cell_type": "code",
   "execution_count": null,
   "id": "116",
   "metadata": {
    "tags": []
   },
   "outputs": [],
   "source": [
    "data= [[\n",
    "    'Linear Reg',\n",
    "    'neuroharm_mix_linr0.sav',\n",
    "    mean_absolute_error(y_insight_test, y_insight_pred),\n",
    "    MIXlinr.score(X_insight_test,y_insight_test),\n",
    "    metrics.explained_variance_score(y_insight_test, y_insight_pred)]]\n",
    "linr_results_insight = pd.DataFrame(data, columns=['algorithm','file_name','mae', 'r2', 'explained_variance'])\n",
    "linr_results_insight"
   ]
  },
  {
   "cell_type": "code",
   "execution_count": null,
   "id": "117",
   "metadata": {
    "tags": []
   },
   "outputs": [],
   "source": [
    "data = {'real': y_insight_test, 'predicted': y_insight_pred}\n",
    "y_frame_linr_insight = pd.DataFrame(data)\n",
    "y_frame_linr_insight"
   ]
  },
  {
   "cell_type": "code",
   "execution_count": null,
   "id": "118",
   "metadata": {
    "tags": []
   },
   "outputs": [],
   "source": [
    "y_frame_linr_insight.to_csv(output_folder +'/y_frame_linr_insight_neuro_harm.csv')"
   ]
  },
  {
   "cell_type": "code",
   "execution_count": null,
   "id": "119",
   "metadata": {
    "tags": []
   },
   "outputs": [],
   "source": [
    "y_insight_pred = MIXllreg.predict(X_insight_test)"
   ]
  },
  {
   "cell_type": "code",
   "execution_count": null,
   "id": "120",
   "metadata": {
    "tags": []
   },
   "outputs": [],
   "source": [
    "data= [[\n",
    "    'Lasso',\n",
    "    'neuroharm_mix_lassor0.sav',\n",
    "    mean_absolute_error(y_insight_test, y_insight_pred),\n",
    "    MIXllreg.score(X_insight_test,y_insight_test),\n",
    "    metrics.explained_variance_score(y_insight_test, y_insight_pred)]]\n",
    "llreg_results_insight = pd.DataFrame(data, columns=['algorithm','file_name','mae', 'r2', 'explained_variance'])\n",
    "llreg_results_insight"
   ]
  },
  {
   "cell_type": "code",
   "execution_count": null,
   "id": "121",
   "metadata": {
    "tags": []
   },
   "outputs": [],
   "source": [
    "data = {'real': y_insight_test, 'predicted': y_insight_pred}\n",
    "y_frame_llreg_insight = pd.DataFrame(data)\n",
    "y_frame_llreg_insight"
   ]
  },
  {
   "cell_type": "code",
   "execution_count": null,
   "id": "122",
   "metadata": {
    "tags": []
   },
   "outputs": [],
   "source": [
    "y_frame_llreg_insight.to_csv(output_folder +'/y_frame_llreg_insight_neuro_harm.csv')"
   ]
  },
  {
   "cell_type": "code",
   "execution_count": null,
   "id": "123",
   "metadata": {
    "tags": []
   },
   "outputs": [],
   "source": [
    "y_insight_pred = MIXeregr.predict(X_insight_test)"
   ]
  },
  {
   "cell_type": "code",
   "execution_count": null,
   "id": "124",
   "metadata": {
    "tags": []
   },
   "outputs": [],
   "source": [
    "data= [[\n",
    "    'ElasticnetCV',\n",
    "    'neuroharm_mix_elasticregr.sav',\n",
    "    mean_absolute_error(y_insight_test, y_insight_pred),\n",
    "    MIXeregr.score(X_insight_test,y_insight_test),\n",
    "    metrics.explained_variance_score(y_insight_test, y_insight_pred)]]\n",
    "eregr_results_insight = pd.DataFrame(data, columns=['algorithm','file_name','mae', 'r2', 'explained_variance'])\n",
    "eregr_results_insight"
   ]
  },
  {
   "cell_type": "code",
   "execution_count": null,
   "id": "125",
   "metadata": {
    "tags": []
   },
   "outputs": [],
   "source": [
    "data = {'real': y_insight_test, 'predicted': y_insight_pred}\n",
    "y_frame_eregr_insight = pd.DataFrame(data)\n",
    "y_frame_eregr_insight"
   ]
  },
  {
   "cell_type": "code",
   "execution_count": null,
   "id": "126",
   "metadata": {
    "tags": []
   },
   "outputs": [],
   "source": [
    "y_frame_eregr_insight.to_csv(output_folder +'/y_frame_eregr_insight_neuro_harm.csv')"
   ]
  },
  {
   "cell_type": "code",
   "execution_count": null,
   "id": "127",
   "metadata": {
    "tags": []
   },
   "outputs": [],
   "source": [
    "y_insight_pred = MIXetreg.predict(X_insight_test)"
   ]
  },
  {
   "cell_type": "code",
   "execution_count": null,
   "id": "128",
   "metadata": {
    "tags": []
   },
   "outputs": [],
   "source": [
    "data= [[\n",
    "    'Extra trees',\n",
    "    'neuroharm_mix_etreg.sav',\n",
    "    mean_absolute_error(y_insight_test, y_insight_pred),\n",
    "    MIXetreg.score(X_insight_test,y_insight_test),\n",
    "    metrics.explained_variance_score(y_insight_test, y_insight_pred)]]\n",
    "etreg_results_insight = pd.DataFrame(data, columns=['algorithm','file_name','mae', 'r2', 'explained_variance'])\n",
    "etreg_results_insight"
   ]
  },
  {
   "cell_type": "code",
   "execution_count": null,
   "id": "129",
   "metadata": {
    "tags": []
   },
   "outputs": [],
   "source": [
    "data = {'real': y_insight_test, 'predicted': y_insight_pred}\n",
    "y_frame_etreg_insight = pd.DataFrame(data)\n",
    "y_frame_etreg_insight"
   ]
  },
  {
   "cell_type": "code",
   "execution_count": null,
   "id": "130",
   "metadata": {
    "tags": []
   },
   "outputs": [],
   "source": [
    "y_frame_etreg_insight.to_csv(output_folder +'/y_frame_etreg_insight_neuro_harm.csv')"
   ]
  },
  {
   "cell_type": "code",
   "execution_count": null,
   "id": "131",
   "metadata": {
    "tags": []
   },
   "outputs": [],
   "source": [
    "mix_based_neuroharmonized_on_insight =pd.concat([linr_results_insight,\n",
    "                   llreg_results_insight,\n",
    "                   eregr_results_insight,\n",
    "                   etreg_results_insight],\n",
    "                  axis=0)\n",
    "mix_based_neuroharmonized_on_insight"
   ]
  },
  {
   "cell_type": "code",
   "execution_count": null,
   "id": "132",
   "metadata": {
    "tags": []
   },
   "outputs": [],
   "source": [
    "mix_based_neuroharmonized_on_insight.to_csv(output_folder +'/mix_based_neuroharmonized_on_insight.csv')"
   ]
  },
  {
   "cell_type": "markdown",
   "id": "8ff37a12-e40f-41fa-b6c1-2b80f9b6addb",
   "metadata": {},
   "source": [
    "# Run over HELIUS"
   ]
  },
  {
   "cell_type": "code",
   "execution_count": null,
   "id": "392b6bac-9f5c-432d-9796-11118bbfb86d",
   "metadata": {},
   "outputs": [],
   "source": []
  },
  {
   "cell_type": "code",
   "execution_count": null,
   "id": "803feb7e-cd76-4bb7-8955-6d6f2a6df181",
   "metadata": {
    "tags": []
   },
   "outputs": [],
   "source": [
    "helius_ml_matrix = HELIUS.drop('participant_id', axis=1)\n",
    "X_helius = helius_ml_matrix.drop('age', axis =1)\n",
    "X_helius = X_helius.values\n",
    "X_helius = X_helius.astype('float')\n",
    "y_helius = helius_ml_matrix['age'].values\n",
    "y_helius= y_helius.astype('float')"
   ]
  },
  {
   "cell_type": "code",
   "execution_count": null,
   "id": "d05016bf-4f4e-43b7-8736-3391e03c7e80",
   "metadata": {
    "tags": []
   },
   "outputs": [],
   "source": [
    "X_helius_test = X_helius\n",
    "y_helius_test = y_helius"
   ]
  },
  {
   "cell_type": "code",
   "execution_count": null,
   "id": "cf47554d-426d-42c4-97e0-3f3b97e2b25b",
   "metadata": {
    "tags": []
   },
   "outputs": [],
   "source": [
    "y_helius_pred = MIXlinr.predict(X_helius_test)"
   ]
  },
  {
   "cell_type": "code",
   "execution_count": null,
   "id": "f9e4ab72-cd84-4030-88c6-7c3c33689bfe",
   "metadata": {
    "tags": []
   },
   "outputs": [],
   "source": [
    "data= [[\n",
    "    'Linear Reg',\n",
    "    'neuroharm_mix_linr0.sav',\n",
    "    mean_absolute_error(y_helius_test, y_helius_pred),\n",
    "    MIXlinr.score(X_helius_test,y_helius_test),\n",
    "    metrics.explained_variance_score(y_helius_test, y_helius_pred)]]\n",
    "linr_results_helius = pd.DataFrame(data, columns=['algorithm','file_name','mae', 'r2', 'explained_variance'])\n",
    "linr_results_helius"
   ]
  },
  {
   "cell_type": "code",
   "execution_count": null,
   "id": "edb4d1c3-acd8-478a-9aa4-69cbd4b77704",
   "metadata": {
    "tags": []
   },
   "outputs": [],
   "source": [
    "data = {'real': y_helius_test, 'predicted': y_helius_pred}\n",
    "y_frame_linr_helius = pd.DataFrame(data)\n",
    "y_frame_linr_helius"
   ]
  },
  {
   "cell_type": "code",
   "execution_count": null,
   "id": "7e83dfa9-01ff-4b0f-9061-cf7b5fb076d6",
   "metadata": {
    "tags": []
   },
   "outputs": [],
   "source": [
    "y_frame_linr_helius.to_csv(output_folder +'/y_frame_linr_helius_neuro_harm.csv')"
   ]
  },
  {
   "cell_type": "code",
   "execution_count": null,
   "id": "18101f35-dad5-456d-b2d3-8e38b75db412",
   "metadata": {
    "tags": []
   },
   "outputs": [],
   "source": [
    "y_helius_pred = MIXllreg.predict(X_helius_test)"
   ]
  },
  {
   "cell_type": "code",
   "execution_count": null,
   "id": "a81f7e9d-aef1-47a7-99ae-9b0e461e3738",
   "metadata": {
    "tags": []
   },
   "outputs": [],
   "source": [
    "data= [[\n",
    "    'Lasso',\n",
    "    'neuroharm_mix_lassor0.sav',\n",
    "    mean_absolute_error(y_helius_test, y_helius_pred),\n",
    "    MIXllreg.score(X_helius_test,y_helius_test),\n",
    "    metrics.explained_variance_score(y_helius_test, y_helius_pred)]]\n",
    "llreg_results_helius = pd.DataFrame(data, columns=['algorithm','file_name','mae', 'r2', 'explained_variance'])\n",
    "llreg_results_helius"
   ]
  },
  {
   "cell_type": "code",
   "execution_count": null,
   "id": "60d3b198-b746-48dd-8095-d7a89bb134fe",
   "metadata": {
    "tags": []
   },
   "outputs": [],
   "source": [
    "data = {'real': y_helius_test, 'predicted': y_helius_pred}\n",
    "y_frame_llreg_helius = pd.DataFrame(data)\n",
    "y_frame_llreg_helius"
   ]
  },
  {
   "cell_type": "code",
   "execution_count": null,
   "id": "1fd40ab6-60c4-472d-a0e9-4d8b0b584be7",
   "metadata": {
    "tags": []
   },
   "outputs": [],
   "source": [
    "y_frame_llreg_helius.to_csv(output_folder +'/y_frame_llreg_helius_neuro_harm.csv')"
   ]
  },
  {
   "cell_type": "code",
   "execution_count": null,
   "id": "7603e1f2-9922-4079-a2ac-0573c5332180",
   "metadata": {
    "tags": []
   },
   "outputs": [],
   "source": [
    "y_helius_pred = MIXeregr.predict(X_helius_test)"
   ]
  },
  {
   "cell_type": "code",
   "execution_count": null,
   "id": "7852aa0e-2a29-48e3-b7e8-be557f204471",
   "metadata": {
    "tags": []
   },
   "outputs": [],
   "source": [
    "data= [[\n",
    "    'ElasticnetCV',\n",
    "    'neuroharm_mix_elasticregr.sav',\n",
    "    mean_absolute_error(y_helius_test, y_helius_pred),\n",
    "    MIXeregr.score(X_helius_test,y_helius_test),\n",
    "    metrics.explained_variance_score(y_helius_test, y_helius_pred)]]\n",
    "eregr_results_helius = pd.DataFrame(data, columns=['algorithm','file_name','mae', 'r2', 'explained_variance'])\n",
    "eregr_results_helius"
   ]
  },
  {
   "cell_type": "code",
   "execution_count": null,
   "id": "87881d93-d6c3-4748-930f-88b651ee4e74",
   "metadata": {
    "tags": []
   },
   "outputs": [],
   "source": [
    "data = {'real': y_helius_test, 'predicted': y_helius_pred}\n",
    "y_frame_eregr_helius = pd.DataFrame(data)\n",
    "y_frame_eregr_helius"
   ]
  },
  {
   "cell_type": "code",
   "execution_count": null,
   "id": "96034d5a-8ea2-4199-a945-4ccf489608e7",
   "metadata": {
    "tags": []
   },
   "outputs": [],
   "source": [
    "y_frame_eregr_helius.to_csv(output_folder +'/y_frame_eregr_helius_neuro_harm.csv')"
   ]
  },
  {
   "cell_type": "code",
   "execution_count": null,
   "id": "5d87caa5-b70b-4ccd-b3b2-4c7e973fd041",
   "metadata": {
    "tags": []
   },
   "outputs": [],
   "source": [
    "y_helius_pred = MIXetreg.predict(X_helius_test)"
   ]
  },
  {
   "cell_type": "code",
   "execution_count": null,
   "id": "a7d18800-b467-408c-a6be-345254da12a4",
   "metadata": {
    "tags": []
   },
   "outputs": [],
   "source": [
    "data= [[\n",
    "    'Extra trees',\n",
    "    'neuroharm_mix_etreg.sav',\n",
    "    mean_absolute_error(y_helius_test, y_helius_pred),\n",
    "    MIXetreg.score(X_helius_test,y_helius_test),\n",
    "    metrics.explained_variance_score(y_helius_test, y_helius_pred)]]\n",
    "etreg_results_helius = pd.DataFrame(data, columns=['algorithm','file_name','mae', 'r2', 'explained_variance'])\n",
    "etreg_results_helius"
   ]
  },
  {
   "cell_type": "code",
   "execution_count": null,
   "id": "e209bffd-3ef7-4599-bb55-20197f6ac973",
   "metadata": {
    "tags": []
   },
   "outputs": [],
   "source": [
    "data = {'real': y_helius_test, 'predicted': y_helius_pred}\n",
    "y_frame_etreg_helius = pd.DataFrame(data)\n",
    "y_frame_etreg_helius"
   ]
  },
  {
   "cell_type": "code",
   "execution_count": null,
   "id": "b15b8564-1b11-4295-9a4a-c030d50544ad",
   "metadata": {
    "tags": []
   },
   "outputs": [],
   "source": [
    "y_frame_etreg_helius.to_csv(output_folder +'/y_frame_etreg_helius_neuro_harm.csv')"
   ]
  },
  {
   "cell_type": "code",
   "execution_count": null,
   "id": "2cd6895d-02bd-4dbc-bffc-ec797d253b98",
   "metadata": {
    "tags": []
   },
   "outputs": [],
   "source": [
    "mix_based_neuroharmonized_on_helius =pd.concat([linr_results_helius,\n",
    "                   llreg_results_helius,\n",
    "                   eregr_results_helius,\n",
    "                   etreg_results_helius],\n",
    "                  axis=0)\n",
    "mix_based_neuroharmonized_on_helius"
   ]
  },
  {
   "cell_type": "code",
   "execution_count": null,
   "id": "92ffa9e5-5e89-44e2-ac12-8259f36190cd",
   "metadata": {
    "tags": []
   },
   "outputs": [],
   "source": [
    "mix_based_neuroharmonized_on_helius.to_csv(output_folder +'/mix_based_neuroharmonized_on_helius.csv')"
   ]
  },
  {
   "cell_type": "markdown",
   "id": "dd737f56-8f60-4bd2-a935-e67adc166572",
   "metadata": {
    "tags": []
   },
   "source": [
    "# Run over EDIS"
   ]
  },
  {
   "cell_type": "code",
   "execution_count": null,
   "id": "bbe50c99-e543-44e3-88a7-b9620a131cbd",
   "metadata": {},
   "outputs": [],
   "source": []
  },
  {
   "cell_type": "code",
   "execution_count": null,
   "id": "c67ce1f4-1647-4a6d-9792-a2ec92ec1236",
   "metadata": {
    "tags": []
   },
   "outputs": [],
   "source": [
    "edis_ml_matrix = EDIS.drop('participant_id', axis=1)\n",
    "X_edis = edis_ml_matrix.drop('age', axis =1)\n",
    "X_edis = X_edis.values\n",
    "X_edis = X_edis.astype('float')\n",
    "y_edis = edis_ml_matrix['age'].values\n",
    "y_edis=y_edis.astype('float')"
   ]
  },
  {
   "cell_type": "code",
   "execution_count": null,
   "id": "cdec69f8-199c-4311-8f75-0ffd4f616767",
   "metadata": {
    "tags": []
   },
   "outputs": [],
   "source": [
    "X_edis_test = X_edis\n",
    "y_edis_test = y_edis"
   ]
  },
  {
   "cell_type": "code",
   "execution_count": null,
   "id": "27cedf33-0077-4f0e-84f1-b70602bda91a",
   "metadata": {
    "tags": []
   },
   "outputs": [],
   "source": [
    "y_edis_pred = MIXlinr.predict(X_edis_test)"
   ]
  },
  {
   "cell_type": "code",
   "execution_count": null,
   "id": "4731e38c-d52a-4753-b477-7c5189f2ed03",
   "metadata": {
    "tags": []
   },
   "outputs": [],
   "source": [
    "data= [[\n",
    "    'Linear Reg',\n",
    "    'neuroharm_mix_linr0.sav',\n",
    "    mean_absolute_error(y_edis_test, y_edis_pred),\n",
    "    MIXlinr.score(X_edis_test,y_edis_test),\n",
    "    metrics.explained_variance_score(y_edis_test, y_edis_pred)]]\n",
    "linr_results_edis = pd.DataFrame(data, columns=['algorithm','file_name','mae', 'r2', 'explained_variance'])\n",
    "linr_results_edis"
   ]
  },
  {
   "cell_type": "code",
   "execution_count": null,
   "id": "48788104-fe13-4396-9f45-56050aec3e98",
   "metadata": {
    "tags": []
   },
   "outputs": [],
   "source": [
    "data = {'real': y_edis_test, 'predicted': y_edis_pred}\n",
    "y_frame_linr_edis = pd.DataFrame(data)\n",
    "y_frame_linr_edis"
   ]
  },
  {
   "cell_type": "code",
   "execution_count": null,
   "id": "481637d7-82a5-4248-b4db-e03117a56364",
   "metadata": {
    "tags": []
   },
   "outputs": [],
   "source": [
    "y_frame_linr_edis.to_csv(output_folder +'/y_frame_linr_edis_neuro_harm.csv')"
   ]
  },
  {
   "cell_type": "code",
   "execution_count": null,
   "id": "77eb0b54-62c4-4b61-838b-e1811c76ab14",
   "metadata": {
    "tags": []
   },
   "outputs": [],
   "source": [
    "y_edis_pred = MIXllreg.predict(X_edis_test)"
   ]
  },
  {
   "cell_type": "code",
   "execution_count": null,
   "id": "cc6b6068-8dfd-4653-9fe2-3b9a6169de16",
   "metadata": {
    "tags": []
   },
   "outputs": [],
   "source": [
    "data= [[\n",
    "    'Lasso',\n",
    "    'neuroharm_mix_lassor0.sav',\n",
    "    mean_absolute_error(y_edis_test, y_edis_pred),\n",
    "    MIXllreg.score(X_edis_test,y_edis_test),\n",
    "    metrics.explained_variance_score(y_edis_test, y_edis_pred)]]\n",
    "llreg_results_edis = pd.DataFrame(data, columns=['algorithm','file_name','mae', 'r2', 'explained_variance'])\n",
    "llreg_results_edis"
   ]
  },
  {
   "cell_type": "code",
   "execution_count": null,
   "id": "b3e0175a-ec81-40f8-9cac-6fbef8ff1811",
   "metadata": {
    "tags": []
   },
   "outputs": [],
   "source": [
    "data = {'real': y_edis_test, 'predicted': y_edis_pred}\n",
    "y_frame_llreg_edis = pd.DataFrame(data)\n",
    "y_frame_llreg_edis"
   ]
  },
  {
   "cell_type": "code",
   "execution_count": null,
   "id": "45641eed-7d79-45f9-8043-e06082784979",
   "metadata": {
    "tags": []
   },
   "outputs": [],
   "source": [
    "y_frame_llreg_edis.to_csv(output_folder +'/y_frame_llreg_edis_neuro_harm.csv')"
   ]
  },
  {
   "cell_type": "code",
   "execution_count": null,
   "id": "906d221f-d293-41d3-ae44-80e24bfdffe1",
   "metadata": {
    "tags": []
   },
   "outputs": [],
   "source": [
    "y_edis_pred = MIXeregr.predict(X_edis_test)"
   ]
  },
  {
   "cell_type": "code",
   "execution_count": null,
   "id": "03300849-bdbf-4a6d-8f9e-8ba4b122dc8f",
   "metadata": {
    "tags": []
   },
   "outputs": [],
   "source": [
    "data= [[\n",
    "    'ElasticnetCV',\n",
    "    'neuroharm_mix_elasticregr.sav',\n",
    "    mean_absolute_error(y_edis_test, y_edis_pred),\n",
    "    MIXeregr.score(X_edis_test,y_edis_test),\n",
    "    metrics.explained_variance_score(y_edis_test, y_edis_pred)]]\n",
    "eregr_results_edis = pd.DataFrame(data, columns=['algorithm','file_name','mae', 'r2', 'explained_variance'])\n",
    "eregr_results_edis"
   ]
  },
  {
   "cell_type": "code",
   "execution_count": null,
   "id": "5222ee1f-4176-481b-83a1-f6939d454930",
   "metadata": {
    "tags": []
   },
   "outputs": [],
   "source": [
    "data = {'real': y_edis_test, 'predicted': y_edis_pred}\n",
    "y_frame_eregr_edis = pd.DataFrame(data)\n",
    "y_frame_eregr_edis"
   ]
  },
  {
   "cell_type": "code",
   "execution_count": null,
   "id": "d7284098-1c4e-4f5b-8f87-ca96868b26aa",
   "metadata": {
    "tags": []
   },
   "outputs": [],
   "source": [
    "y_frame_eregr_edis.to_csv(output_folder +'/y_frame_eregr_edis_neuro_harm.csv')"
   ]
  },
  {
   "cell_type": "code",
   "execution_count": null,
   "id": "5c57d017-558d-4780-a880-90da337a750c",
   "metadata": {
    "tags": []
   },
   "outputs": [],
   "source": [
    "y_edis_pred = MIXetreg.predict(X_edis_test)"
   ]
  },
  {
   "cell_type": "code",
   "execution_count": null,
   "id": "d58a31f3-c8dc-4bc9-87cd-4117325f2955",
   "metadata": {
    "tags": []
   },
   "outputs": [],
   "source": [
    "data= [[\n",
    "    'Extra trees',\n",
    "    'neuroharm_mix_etreg.sav',\n",
    "    mean_absolute_error(y_edis_test, y_edis_pred),\n",
    "    MIXetreg.score(X_edis_test,y_edis_test),\n",
    "    metrics.explained_variance_score(y_edis_test, y_edis_pred)]]\n",
    "etreg_results_edis = pd.DataFrame(data, columns=['algorithm','file_name','mae', 'r2', 'explained_variance'])\n",
    "etreg_results_edis"
   ]
  },
  {
   "cell_type": "code",
   "execution_count": null,
   "id": "0d12ed82-fc16-4256-a2ab-0fb5dd89533b",
   "metadata": {
    "tags": []
   },
   "outputs": [],
   "source": [
    "data = {'real': y_edis_test, 'predicted': y_edis_pred}\n",
    "y_frame_etreg_edis = pd.DataFrame(data)\n",
    "y_frame_etreg_edis"
   ]
  },
  {
   "cell_type": "code",
   "execution_count": null,
   "id": "d088c02e-f9e9-4c5a-922f-abfc6b363b74",
   "metadata": {
    "tags": []
   },
   "outputs": [],
   "source": [
    "y_frame_etreg_edis.to_csv(output_folder +'/y_frame_etreg_edis_neuro_harm.csv')"
   ]
  },
  {
   "cell_type": "code",
   "execution_count": null,
   "id": "9089a2b8-784d-4ef8-851d-f8acdf9ab960",
   "metadata": {
    "tags": []
   },
   "outputs": [],
   "source": [
    "mix_based_neuroharmonized_on_edis =pd.concat([linr_results_edis,\n",
    "                   llreg_results_edis,\n",
    "                   eregr_results_edis,\n",
    "                   etreg_results_edis],\n",
    "                  axis=0)\n",
    "mix_based_neuroharmonized_on_edis"
   ]
  },
  {
   "cell_type": "code",
   "execution_count": null,
   "id": "e600e1eb-efb8-458c-bf57-78bd7882fc83",
   "metadata": {
    "tags": []
   },
   "outputs": [],
   "source": [
    "mix_based_neuroharmonized_on_edis.to_csv(output_folder +'/mix_based_neuroharmonized_on_edis.csv')"
   ]
  },
  {
   "cell_type": "code",
   "execution_count": null,
   "id": "50499306-151b-41d3-8603-e06ea3beb3a6",
   "metadata": {},
   "outputs": [],
   "source": []
  }
 ],
 "metadata": {
  "kernelspec": {
   "display_name": "Python 3 (ipykernel)",
   "language": "python",
   "name": "python3"
  },
  "language_info": {
   "codemirror_mode": {
    "name": "ipython",
    "version": 3
   },
   "file_extension": ".py",
   "mimetype": "text/x-python",
   "name": "python",
   "nbconvert_exporter": "python",
   "pygments_lexer": "ipython3",
   "version": "3.9.18"
  }
 },
 "nbformat": 4,
 "nbformat_minor": 5
}
