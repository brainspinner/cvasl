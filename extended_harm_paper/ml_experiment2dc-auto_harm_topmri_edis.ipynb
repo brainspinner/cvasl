{
 "cells": [
  {
   "cell_type": "markdown",
   "id": "17c2670f-473c-4541-ad14-b8c9ab69460a",
   "metadata": {},
   "source": [
    "# ML testing: experiment #2dc- harmonized with auto combat (TOPMRI on EDIS)\n",
    "\n",
    "This notebook involves testing of the autoombat algorithm and ML for age prediction. This notebook shows harmonized StrokeMRI+TOP based models, and how they perform on EDIS.  The autocombat algorithm requires that samples are not unique even in continous variables. Therefore before harmonization, a variable for age group was created, and then removed after harmonization. Age group can currently be split by tens or by twos, a more fine grained split. A widget allows the choice. \n"
   ]
  },
  {
   "cell_type": "markdown",
   "id": "2abe2373-1d7d-4120-af17-5d8bbd90d040",
   "metadata": {},
   "source": [
    "Data: StrokeMRI, TOP, Insight-46\n",
    "\n",
    "Harmonisation: Auto-combat\n",
    "\n",
    "Training data: StrokeMRI and TOP together\n",
    "\n",
    "Testing data: StrokeMRI and TOP together, test subsets\n",
    "\n",
    "Futher data applied to: EDIS\n",
    "\n",
    "Validation method: K-fold double-stratified\n",
    "\n",
    "Brain-age algorithms: LR, lasso, extra trees, elasticCV net fully tested (but not optimized parameters), additionals partly\n",
    "\n",
    "Outputs: ? what do we want to have here?"
   ]
  },
  {
   "cell_type": "markdown",
   "id": "8ce48aa5-f972-4526-9147-b1cf9dd2d520",
   "metadata": {
    "tags": []
   },
   "source": [
    "### import libraries"
   ]
  },
  {
   "cell_type": "code",
   "execution_count": null,
   "id": "e9e6bc02-836a-4ce0-9372-4d68955c2255",
   "metadata": {
    "tags": []
   },
   "outputs": [],
   "source": [
    "import os       # using operating system dependent functionality (folders)\n",
    "import sys\n",
    "import glob\n",
    "from functools import reduce\n",
    "\n",
    "import pandas as pd # data analysis and manipulation\n",
    "import numpy as np    # numerical computing (manipulating and performing operations on arrays of data)\n",
    "import matplotlib.pyplot as plt\n",
    "\n",
    "# # demo stuff\n",
    "import ipywidgets as widgets\n",
    "# import seaborn \n",
    "\n",
    "# ml stuff\n",
    "from sklearn.model_selection import train_test_split\n",
    "from sklearn.preprocessing import StandardScaler\n",
    "from sklearn.svm import SVC\n",
    "from sklearn.metrics import accuracy_score\n",
    "from sklearn.linear_model import LogisticRegression\n",
    "from sklearn.linear_model import LinearRegression\n",
    "from sklearn import linear_model\n",
    "from sklearn import tree\n",
    "from sklearn import metrics\n",
    "from sklearn.linear_model import SGDRegressor\n",
    "from sklearn.metrics import confusion_matrix\n",
    "from sklearn.metrics import mean_absolute_error\n",
    "#from sklearn.neighbors import KNeighborsClassifier\n",
    "from sklearn.neural_network import MLPRegressor\n",
    "from sklearn.svm import SVR\n",
    "from sklearn.linear_model import ElasticNetCV\n",
    "from sklearn.ensemble import ExtraTreesRegressor\n",
    "\n",
    "import joblib\n",
    "\n",
    "sys.path.insert(0, '../') # path to functions\n",
    "import cvasl.seperated as sep\n",
    "from cvasl.file_handler import Config"
   ]
  },
  {
   "cell_type": "markdown",
   "id": "4e33d332-690f-4eaa-88ab-cebccdd592b4",
   "metadata": {
    "tags": []
   },
   "source": [
    "### import data"
   ]
  },
  {
   "cell_type": "code",
   "execution_count": null,
   "id": "15d1b62a-2894-433b-a6a1-eb2b5d60fe97",
   "metadata": {},
   "outputs": [],
   "source": []
  },
  {
   "cell_type": "code",
   "execution_count": null,
   "id": "83b8231f-6914-46a4-a87f-6b4c33ebb6cc",
   "metadata": {
    "tags": []
   },
   "outputs": [],
   "source": [
    "# pick how you want the data split by age for autocombat \n",
    "possibilities = ['split_into_tens','split_into_twos']\n",
    "\n",
    "split = widgets.Dropdown(options= possibilities,\n",
    "                    value='split_into_tens',\n",
    "                    description='split on age',\n",
    "                    disabled=False)\n",
    "split"
   ]
  },
  {
   "cell_type": "code",
   "execution_count": null,
   "id": "864e8bca-cbc7-46b7-96ed-f84f5ce32db6",
   "metadata": {
    "tags": []
   },
   "outputs": [],
   "source": [
    "filepath = 'harmonizations/harm_results/autocombat/'  \n",
    "\n",
    "if split.value == 'split_into_tens':\n",
    "    filename_topmri = os.path.join(filepath, 'autocom_harm_topmri_v_e.csv')\n",
    "    filename_edis = os.path.join(filepath,'autocom_harm_edis.csv') \n",
    "else: \n",
    "    filename_topmri = os.path.join(filepath, 'fg_autocom_harm_topmri_v_e.csv')\n",
    "    filename_edis = os.path.join(filepath,'fg_autocom_harm_edis1.csv') "
   ]
  },
  {
   "cell_type": "code",
   "execution_count": null,
   "id": "802a336b-5978-42d4-9a9f-21df2566a6bb",
   "metadata": {
    "tags": []
   },
   "outputs": [],
   "source": [
    "TOPMRI = pd.read_csv(filename_topmri)\n",
    "EDIS= pd.read_csv(filename_edis)"
   ]
  },
  {
   "cell_type": "code",
   "execution_count": null,
   "id": "165089aa-51d3-4c52-9993-cec3f50b91ad",
   "metadata": {
    "tags": []
   },
   "outputs": [],
   "source": [
    "TOPMRI = TOPMRI.drop(TOPMRI.columns[0],axis=1)\n",
    "EDIS = EDIS.drop(EDIS.columns[0],axis=1)\n",
    "EDIS.head(3)"
   ]
  },
  {
   "cell_type": "code",
   "execution_count": null,
   "id": "175b2d4f-2c3f-4886-a750-0b701a3f6071",
   "metadata": {
    "tags": []
   },
   "outputs": [],
   "source": [
    "TOPMRI.head(3)"
   ]
  },
  {
   "cell_type": "markdown",
   "id": "c761d603-d738-4cf7-81d0-6e85d995bac0",
   "metadata": {},
   "source": [
    "## Build ML models based on auto combat StrokeMRI-TOP mixed set (TOPMRI)"
   ]
  },
  {
   "cell_type": "code",
   "execution_count": null,
   "id": "b62c8355-3372-4d8c-af41-a9485113b0dd",
   "metadata": {
    "tags": []
   },
   "outputs": [],
   "source": [
    "ml_matrix = TOPMRI.drop('participant_id', axis=1)\n",
    "X = ml_matrix.drop('age', axis =1)\n",
    "X = X.values\n",
    "X = X.astype('float')\n",
    "y = ml_matrix['age'].values\n",
    "y=y.astype('float')"
   ]
  },
  {
   "cell_type": "code",
   "execution_count": null,
   "id": "38b25f53-f633-46eb-a1cc-991ddaceaef1",
   "metadata": {
    "tags": []
   },
   "outputs": [],
   "source": [
    "linr_k_frame, linr_y_frame, models = sep.stratified_cat_and_cont_categories_shuffle_split('linear regression', 'auto_harm_topmri_linr', LinearRegression(), ml_matrix, X, y)"
   ]
  },
  {
   "cell_type": "code",
   "execution_count": null,
   "id": "68b55928-35f9-4e4b-8628-bc167cdb6e88",
   "metadata": {
    "tags": []
   },
   "outputs": [],
   "source": [
    "linr_k_frame"
   ]
  },
  {
   "cell_type": "code",
   "execution_count": null,
   "id": "b8506d3f-4c5e-4174-9849-56b8bd5f7a9c",
   "metadata": {
    "tags": []
   },
   "outputs": [],
   "source": [
    "linr_k_frame.to_csv('auto_harmonized_topmri_linr_k_frame.csv')"
   ]
  },
  {
   "cell_type": "code",
   "execution_count": null,
   "id": "b438ae2a-b66d-4d26-b379-b9f6378b703a",
   "metadata": {
    "tags": []
   },
   "outputs": [],
   "source": [
    "avg_linr = sep.avg_k_folds(linr_k_frame)\n",
    "avg_linr"
   ]
  },
  {
   "cell_type": "code",
   "execution_count": null,
   "id": "cc070a73-3794-40da-9feb-8201cff99996",
   "metadata": {
    "tags": []
   },
   "outputs": [],
   "source": [
    "linr_y_frame"
   ]
  },
  {
   "cell_type": "code",
   "execution_count": null,
   "id": "eeec7baa-b00b-478e-8d7d-a6ff24c6fd3e",
   "metadata": {
    "tags": []
   },
   "outputs": [],
   "source": [
    "linr_y_frame.to_csv('auto_harmonized_topmri_linr_y_frame.csv')"
   ]
  },
  {
   "cell_type": "code",
   "execution_count": null,
   "id": "30941bb3-c7d1-4e0d-8372-63194cef8f6c",
   "metadata": {
    "tags": []
   },
   "outputs": [],
   "source": [
    "linr = models[0]\n",
    "linr[0]"
   ]
  },
  {
   "cell_type": "code",
   "execution_count": null,
   "id": "5a2029b1-6758-4f63-9f69-37ae9b4b53a4",
   "metadata": {
    "tags": []
   },
   "outputs": [],
   "source": [
    "# check if model folder exists and if not , then create\n",
    "model_folder = '../result_models/'\n",
    "if not os.path.exists(model_folder):\n",
    "    os.makedirs(model_folder)"
   ]
  },
  {
   "cell_type": "code",
   "execution_count": null,
   "id": "38457549-93e9-40f5-9b61-106ac0867bb2",
   "metadata": {
    "tags": []
   },
   "outputs": [],
   "source": [
    "## optional save models\n",
    "#joblib.dump(linr[0], ('../result_models/'+ 'auto_harm_topmri_EDIS_linr0.sav'))\n",
    "#joblib.dump(linr[1], ('../result_models/'+ 'auto_harm_topmri_EDIS_linr1.sav'))\n",
    "#joblib.dump(linr[2], ('../result_models/'+ 'auto_harm_topmri_EDIS_linr2.sav'))\n",
    "#joblib.dump(linr[3], ('../result_models/'+ 'auto_harm_topmri_EDIS_linr3.sav'))\n",
    "#joblib.dump(linr[4], ('../result_models/'+ 'auto_harm_topmri_EDIS_linr4.sav'))"
   ]
  },
  {
   "cell_type": "code",
   "execution_count": null,
   "id": "2fd550f0-6b41-4c28-8945-0e86f237cdd3",
   "metadata": {
    "tags": []
   },
   "outputs": [],
   "source": [
    "llreg_k_frame, llreg_y_frame, models = sep.stratified_cat_and_cont_categories_shuffle_split('lasso regression', 'auto_harm_topmri_llreg',  linear_model.LassoLars(alpha=0.01), ml_matrix, X, y)\n",
    "llreg_k_frame"
   ]
  },
  {
   "cell_type": "code",
   "execution_count": null,
   "id": "5e1638e5-57bc-447f-94f2-b5f9c631f5f9",
   "metadata": {
    "tags": []
   },
   "outputs": [],
   "source": [
    "llreg_k_frame.to_csv('auto_harmonized_topmri_llreg_k_frame.csv')"
   ]
  },
  {
   "cell_type": "code",
   "execution_count": null,
   "id": "677564bc-7d69-4961-a7e4-563117cf9999",
   "metadata": {
    "tags": []
   },
   "outputs": [],
   "source": [
    "avg_llreg = sep.avg_k_folds(llreg_k_frame)\n",
    "avg_llreg"
   ]
  },
  {
   "cell_type": "code",
   "execution_count": null,
   "id": "16b37956-2e32-4c2b-bb26-956c6951dd54",
   "metadata": {
    "tags": []
   },
   "outputs": [],
   "source": [
    "llreg_y_frame"
   ]
  },
  {
   "cell_type": "code",
   "execution_count": null,
   "id": "ab60d46f-4d45-4a1f-af21-e05e4d33928b",
   "metadata": {
    "tags": []
   },
   "outputs": [],
   "source": [
    "llreg_y_frame.to_csv('auto_harmonized_topmri_llreg_y_frame.csv')"
   ]
  },
  {
   "cell_type": "code",
   "execution_count": null,
   "id": "145e276b-3be5-49bd-969c-2b9ed9dddece",
   "metadata": {
    "tags": []
   },
   "outputs": [],
   "source": [
    "llreg = models[0]\n",
    "llreg[0]"
   ]
  },
  {
   "cell_type": "code",
   "execution_count": null,
   "id": "ea0576e1-178d-4be7-abe3-1f67f3e02e52",
   "metadata": {
    "tags": []
   },
   "outputs": [],
   "source": [
    "## optional save models\n",
    "#joblib.dump(llreg[0], ('../result_models/'+ 'auto_harm_topmri_EDIS_llreg0.sav'))\n",
    "#joblib.dump(llreg[1], ('../result_models/'+ 'auto_harm_topmri_EDIS_llreg1.sav'))\n",
    "#joblib.dump(llreg[2], ('../result_models/'+ 'auto_harm_topmri_EDIS_llreg2.sav'))\n",
    "#joblib.dump(llreg[3], ('../result_models/'+ 'auto_harm_topmri_EDIS_llreg3.sav'))\n",
    "#joblib.dump(llreg[4], ('../result_models/'+ 'auto_harm_topmri_EDIS_llreg4.sav'))"
   ]
  },
  {
   "cell_type": "code",
   "execution_count": null,
   "id": "0599ec3d-1885-4f70-9416-2621433da782",
   "metadata": {
    "tags": []
   },
   "outputs": [],
   "source": [
    "dtree_k_frame, dtree_y_frame, models = sep.stratified_cat_and_cont_categories_shuffle_split('decision tree', 'auto_harm_topmri_dtree',  tree.DecisionTreeRegressor(), ml_matrix, X, y)\n",
    "dtree_k_frame"
   ]
  },
  {
   "cell_type": "code",
   "execution_count": null,
   "id": "091a9366-e436-4bb0-b883-e0d522f510c5",
   "metadata": {
    "tags": []
   },
   "outputs": [],
   "source": [
    "dtree_k_frame.to_csv('auto_harmonized_topmri_dtree_k_frame.csv')"
   ]
  },
  {
   "cell_type": "code",
   "execution_count": null,
   "id": "ca644340-de30-41a8-8018-db9f5b8c36d5",
   "metadata": {
    "tags": []
   },
   "outputs": [],
   "source": [
    "avg_dtree = sep.avg_k_folds(dtree_k_frame)\n",
    "avg_dtree"
   ]
  },
  {
   "cell_type": "code",
   "execution_count": null,
   "id": "778f2a66-3cbe-424d-8cf0-1e0f74e576af",
   "metadata": {
    "tags": []
   },
   "outputs": [],
   "source": [
    "dtree_y_frame"
   ]
  },
  {
   "cell_type": "code",
   "execution_count": null,
   "id": "aaf6bac8-011b-4386-a269-c518b9ed6d24",
   "metadata": {
    "tags": []
   },
   "outputs": [],
   "source": [
    "dtree_y_frame.to_csv('auto_harmonized_topmri_dtree_y_frame.csv')"
   ]
  },
  {
   "cell_type": "code",
   "execution_count": null,
   "id": "5b70d456-593f-4385-bd67-a42edfe850e0",
   "metadata": {
    "tags": []
   },
   "outputs": [],
   "source": [
    "dtree = models[0]\n",
    "dtree[0]"
   ]
  },
  {
   "cell_type": "code",
   "execution_count": null,
   "id": "71e691b9-4b7b-446b-84d8-1f4ce5ae4a08",
   "metadata": {
    "tags": []
   },
   "outputs": [],
   "source": [
    "regr_k_frame, regr_y_frame, models = sep.stratified_cat_and_cont_categories_shuffle_split('MLP regression', 'auto_harm_topmri_regr',   MLPRegressor(random_state=1, max_iter=700), ml_matrix, X, y)\n",
    "regr_k_frame"
   ]
  },
  {
   "cell_type": "code",
   "execution_count": null,
   "id": "768c40b2-ae7e-47c8-9f41-219c59911af3",
   "metadata": {
    "tags": []
   },
   "outputs": [],
   "source": [
    "regr_k_frame.to_csv('auto_harmonized_topmri_regr_k_frame.csv')"
   ]
  },
  {
   "cell_type": "code",
   "execution_count": null,
   "id": "9f0bdbe6-c986-4ec9-bc24-b49ead575431",
   "metadata": {
    "tags": []
   },
   "outputs": [],
   "source": [
    "avg_regr = sep.avg_k_folds(regr_k_frame)\n",
    "avg_regr"
   ]
  },
  {
   "cell_type": "code",
   "execution_count": null,
   "id": "849643ac-d25a-46a8-bba2-a0538a7a81eb",
   "metadata": {
    "tags": []
   },
   "outputs": [],
   "source": [
    "regr_y_frame"
   ]
  },
  {
   "cell_type": "code",
   "execution_count": null,
   "id": "0aaea4dc-1cb7-4216-8244-8dfb937dff87",
   "metadata": {
    "tags": []
   },
   "outputs": [],
   "source": [
    "regr_y_frame.to_csv('auto_harmonized_topmri_regr_y_frame.csv')"
   ]
  },
  {
   "cell_type": "code",
   "execution_count": null,
   "id": "f79b5801-370f-45bd-b584-7392de04e995",
   "metadata": {
    "tags": []
   },
   "outputs": [],
   "source": [
    "regr = models[0]\n",
    "regr[0]"
   ]
  },
  {
   "cell_type": "markdown",
   "id": "31fbc11a-3260-40f9-8bdd-cc68b52e2f30",
   "metadata": {},
   "source": [
    "### Note I'm not actually saving the mlp or svr models here because they are not the best performers. if neccesary this can be added"
   ]
  },
  {
   "cell_type": "code",
   "execution_count": null,
   "id": "c91cc8da-cbfc-4887-863d-8ad46abdaab3",
   "metadata": {
    "tags": []
   },
   "outputs": [],
   "source": [
    "svrp2_k_frame, svrp2_y_frame, models = sep.stratified_cat_and_cont_categories_shuffle_split('support vector reg poly2', 'auto_harm_topmri_svrp2',   SVR(C=1.0, kernel='poly', degree =2, epsilon=0.2), ml_matrix, X, y)\n",
    "svrp2_k_frame"
   ]
  },
  {
   "cell_type": "code",
   "execution_count": null,
   "id": "9dc22122-3d64-4d25-baca-8555510438ea",
   "metadata": {
    "tags": []
   },
   "outputs": [],
   "source": [
    "svrp2_k_frame.to_csv('auto_harmonized_topmri_svrp2_k_frame.csv')"
   ]
  },
  {
   "cell_type": "code",
   "execution_count": null,
   "id": "055b3896-0bbc-4434-98d8-6b27419f5404",
   "metadata": {
    "tags": []
   },
   "outputs": [],
   "source": [
    "avg_svrp2 = sep.avg_k_folds(svrp2_k_frame)\n",
    "avg_svrp2"
   ]
  },
  {
   "cell_type": "code",
   "execution_count": null,
   "id": "96e59196-4faa-4817-80e3-66c8a022efdd",
   "metadata": {
    "tags": []
   },
   "outputs": [],
   "source": [
    "svrp2_y_frame"
   ]
  },
  {
   "cell_type": "code",
   "execution_count": null,
   "id": "d276f7f1-d799-470d-92c8-9dc9a41e5169",
   "metadata": {
    "tags": []
   },
   "outputs": [],
   "source": [
    "svrp2_y_frame.to_csv('auto_harmonized_topmri_svrp2_y_frame.csv')"
   ]
  },
  {
   "cell_type": "code",
   "execution_count": null,
   "id": "a3baf5e9-27a5-46bc-822b-bd6a480958e4",
   "metadata": {
    "tags": []
   },
   "outputs": [],
   "source": [
    "svrp2 = models[0]\n",
    "svrp2[0]"
   ]
  },
  {
   "cell_type": "code",
   "execution_count": null,
   "id": "2a471418-62fe-488a-9bb6-ff2f9c6a0af0",
   "metadata": {
    "tags": []
   },
   "outputs": [],
   "source": [
    "eregr_k_frame, eregr_y_frame, models = sep.stratified_cat_and_cont_categories_shuffle_split('elasticnetCV', 'auto_harm_topmri_eregr',  ElasticNetCV(cv=5, random_state=12), ml_matrix, X, y)\n",
    "eregr_k_frame"
   ]
  },
  {
   "cell_type": "code",
   "execution_count": null,
   "id": "6326422f-09d9-4a36-9cfb-e54f3e23e75e",
   "metadata": {
    "tags": []
   },
   "outputs": [],
   "source": [
    "eregr_k_frame.to_csv('auto_harmonized_topmri_eregr_k_frame.csv')"
   ]
  },
  {
   "cell_type": "code",
   "execution_count": null,
   "id": "06e0c0c7-6ed3-4e31-b2c9-744a04243b1a",
   "metadata": {
    "tags": []
   },
   "outputs": [],
   "source": [
    "avg_eregr = sep.avg_k_folds(eregr_k_frame)\n",
    "avg_eregr"
   ]
  },
  {
   "cell_type": "code",
   "execution_count": null,
   "id": "55292d3c-377f-439a-ac56-3d1e41d547d7",
   "metadata": {
    "tags": []
   },
   "outputs": [],
   "source": [
    "eregr_y_frame"
   ]
  },
  {
   "cell_type": "code",
   "execution_count": null,
   "id": "45413ec7-2c95-4643-b391-938405b54653",
   "metadata": {
    "tags": []
   },
   "outputs": [],
   "source": [
    "eregr_y_frame.to_csv('auto_harmonized_topmri_EDIS_eregr_y_frame.csv')"
   ]
  },
  {
   "cell_type": "code",
   "execution_count": null,
   "id": "eacc0e2e-f9b9-443a-bc82-b06a5327b391",
   "metadata": {
    "tags": []
   },
   "outputs": [],
   "source": [
    "eregr = models[0]\n",
    "eregr[0]"
   ]
  },
  {
   "cell_type": "code",
   "execution_count": null,
   "id": "c84cf3b8-df5a-40fc-ae32-95351b328193",
   "metadata": {
    "tags": []
   },
   "outputs": [],
   "source": [
    "etreg_k_frame, etreg_y_frame, models = sep.stratified_cat_and_cont_categories_shuffle_split('extra trees', 'auto_harm_topmri_etreg',  ExtraTreesRegressor(n_estimators=100, random_state=0), ml_matrix, X, y)\n",
    "etreg_k_frame"
   ]
  },
  {
   "cell_type": "code",
   "execution_count": null,
   "id": "3064afd4-17a2-4cfd-9d6b-84a18cd61e48",
   "metadata": {
    "tags": []
   },
   "outputs": [],
   "source": [
    "etreg_k_frame.to_csv('auto_haromized_topmri_EDIS_etreg_k_frame.csv')"
   ]
  },
  {
   "cell_type": "code",
   "execution_count": null,
   "id": "e515bf94-3e1f-4b1b-a5d1-a149fdbe4855",
   "metadata": {
    "tags": []
   },
   "outputs": [],
   "source": [
    "avg_etreg = sep.avg_k_folds(etreg_k_frame)\n",
    "avg_etreg"
   ]
  },
  {
   "cell_type": "code",
   "execution_count": null,
   "id": "15a28a6e-5c05-44a8-88a0-0715b4b71679",
   "metadata": {
    "tags": []
   },
   "outputs": [],
   "source": [
    "etreg_y_frame"
   ]
  },
  {
   "cell_type": "code",
   "execution_count": null,
   "id": "fd44626a-42f5-4297-81da-b4de8001134e",
   "metadata": {
    "tags": []
   },
   "outputs": [],
   "source": [
    "etreg_y_frame.to_csv('auto_harmonized_topmri_EDIS_etreg_y_frame.csv')"
   ]
  },
  {
   "cell_type": "code",
   "execution_count": null,
   "id": "50856e14-5fe2-40e0-ac54-14042140f94b",
   "metadata": {
    "tags": []
   },
   "outputs": [],
   "source": [
    "etreg = models[0]\n",
    "etreg[0]"
   ]
  },
  {
   "cell_type": "code",
   "execution_count": null,
   "id": "23a77557-3a44-4146-a3b4-1604b803441c",
   "metadata": {
    "tags": []
   },
   "outputs": [],
   "source": [
    "## optional save models\n",
    "#joblib.dump(etreg[0], ('../result_models/'+ 'auto_harm_topmri_EDIS_etreg0.sav'))\n",
    "#joblib.dump(etreg[1], ('../result_models/'+ 'auto_harm_topmri_EDIS_etreg1.sav'))\n",
    "#joblib.dump(etreg[2], ('../result_models/'+ 'auto_harm_topmri_EDIS_etreg2.sav'))\n",
    "#joblib.dump(etreg[3], ('../result_models/'+ 'auto_harm_topmri_EDIS_etreg3.sav'))\n",
    "#joblib.dump(etreg[4], ('../result_models/'+ 'auto_harm_topmri_EDIS_etreg4.sav'))"
   ]
  },
  {
   "cell_type": "markdown",
   "id": "13dea877-0cea-49ac-8d39-7ad3072e4c28",
   "metadata": {},
   "source": [
    "Show results ON AVERAGE for each model"
   ]
  },
  {
   "cell_type": "code",
   "execution_count": null,
   "id": "0cf667b7-dfc0-4f48-adb0-9f85941bf9e9",
   "metadata": {
    "tags": []
   },
   "outputs": [],
   "source": [
    "topmri_based_auto_harmonized_on_testtopmri =pd.concat([avg_linr,\n",
    "                   avg_llreg,\n",
    "                   avg_dtree,\n",
    "                   avg_regr,\n",
    "                   avg_svrp2,\n",
    "                   avg_eregr,\n",
    "                   avg_etreg],\n",
    "                  axis=0)\n",
    "topmri_based_auto_harmonized_on_testtopmri"
   ]
  },
  {
   "cell_type": "code",
   "execution_count": null,
   "id": "853f1b08-5ca3-41ca-ba59-2d2b44799a15",
   "metadata": {
    "tags": []
   },
   "outputs": [],
   "source": [
    "topmri_based_auto_harmonized_on_testtopmri.to_csv('topmri_based_auto_harmonized_on_testtopmri_AVERAGES.csv')"
   ]
  },
  {
   "cell_type": "markdown",
   "id": "d480d24e-c026-44ce-ba1d-0bfdad06b96b",
   "metadata": {},
   "source": [
    "## Now we will build  models based on the whole  autocombat harmonized TOPMRI dataset, and apply them to EDIS . "
   ]
  },
  {
   "cell_type": "code",
   "execution_count": null,
   "id": "6c191cec-1cb6-4607-95fe-06abe90a926a",
   "metadata": {
    "tags": []
   },
   "outputs": [],
   "source": [
    "ml_matrix = TOPMRI.drop('participant_id', axis=1)\n",
    "X = ml_matrix.drop('age', axis =1)\n",
    "X = X.values\n",
    "X = X.astype('float')\n",
    "y = ml_matrix['age'].values\n",
    "y=y.astype('float')\n"
   ]
  },
  {
   "cell_type": "code",
   "execution_count": null,
   "id": "a9d97f90-d8b1-4311-9be4-f59a42aa7cb6",
   "metadata": {
    "tags": []
   },
   "outputs": [],
   "source": [
    "# now we decide to do no test train split, rather take all\n",
    "X_train = X\n",
    "y_train = y"
   ]
  },
  {
   "cell_type": "code",
   "execution_count": null,
   "id": "59e649de-dc95-45cb-800a-77a6f0609be0",
   "metadata": {
    "tags": []
   },
   "outputs": [],
   "source": [
    "TOPMRIlinr = LinearRegression()\n",
    "TOPMRIlinr.fit(X_train, y_train)"
   ]
  },
  {
   "cell_type": "code",
   "execution_count": null,
   "id": "1d6ea896-1c0c-4b8c-b236-1a38d0114395",
   "metadata": {
    "tags": []
   },
   "outputs": [],
   "source": [
    "TOPMRIllreg = linear_model.LassoLars(alpha=0.01)\n",
    "TOPMRIllreg.fit(X_train, y_train)"
   ]
  },
  {
   "cell_type": "code",
   "execution_count": null,
   "id": "32f3c938-9605-47d0-8406-0bb796f43e1e",
   "metadata": {
    "tags": []
   },
   "outputs": [],
   "source": [
    "TOPMRIeregr = ElasticNetCV(cv=5, random_state=17)\n",
    "TOPMRIeregr.fit(X_train, y_train)\n"
   ]
  },
  {
   "cell_type": "code",
   "execution_count": null,
   "id": "1bd442fd-c7f8-4271-be26-d696af4b8183",
   "metadata": {
    "tags": []
   },
   "outputs": [],
   "source": [
    "TOPMRIetreg = ExtraTreesRegressor(n_estimators=100, random_state=0)\n",
    "TOPMRIetreg.fit(X_train, y_train)"
   ]
  },
  {
   "cell_type": "code",
   "execution_count": null,
   "id": "70266253-a9bf-4e36-84bc-2915004d16a7",
   "metadata": {
    "tags": []
   },
   "outputs": [],
   "source": [
    "##  Save these four best models"
   ]
  },
  {
   "cell_type": "code",
   "execution_count": null,
   "id": "34a0db45-ab19-49d3-ac56-bbfdf0528920",
   "metadata": {
    "tags": []
   },
   "outputs": [],
   "source": [
    "\n",
    "## optional save models\n",
    "#joblib.dump(TOPMRIlinr, ('../result_models/' + 'auto_harm_topmri_EDIS_linr.sav'))\n",
    "#joblib.dump(TOPMRIllreg, ('../result_models/'+ 'auto_harm_topmri_EDIS_llreg1.sav'))\n",
    "#joblib.dump(TOPMRIeregr, ('../result_models/'+ 'auto_harm_topmri_EDIS_eregr3.sav'))\n",
    "#joblib.dump(TOPMRIetreg, ('../result_models/'+ 'auto_harm_topmri_EDIS_etreg4.sav'))"
   ]
  },
  {
   "cell_type": "markdown",
   "id": "21b0853a-2d01-48b3-82a7-5c133acc9358",
   "metadata": {},
   "source": [
    "# Running whole TOPMRI model over EDIS dataset"
   ]
  },
  {
   "cell_type": "code",
   "execution_count": null,
   "id": "8b1f97eb-89fd-43e0-af4e-6653d2f054f4",
   "metadata": {
    "tags": []
   },
   "outputs": [],
   "source": [
    "EDIS_ml_matrix = EDIS.drop('participant_id', axis=1)\n",
    "X_EDIS = EDISml_matrix.drop('age', axis =1)\n",
    "X_EDIS = X_EDISvalues\n",
    "X_EDIS = X_EDIS.astype('float')\n",
    "y_EDIS= EDIS_ml_matrix['age'].values\n",
    "y_EDIS=y_EDIS.astype('float')"
   ]
  },
  {
   "cell_type": "code",
   "execution_count": null,
   "id": "3d8df8dd-1a14-4cf4-90c2-53b1511041e4",
   "metadata": {
    "tags": []
   },
   "outputs": [],
   "source": [
    "X_EDIS_test = X_EDIS\n",
    "y_EDIS_test = y_EDIS\n"
   ]
  },
  {
   "cell_type": "code",
   "execution_count": null,
   "id": "09d377ae-74d7-4707-9a88-c6f7908b16e8",
   "metadata": {
    "tags": []
   },
   "outputs": [],
   "source": [
    "y_EDIS_pred = TOPMRIlinr.predict(X_EDIS_test)"
   ]
  },
  {
   "cell_type": "code",
   "execution_count": null,
   "id": "da202a14-ce66-440c-9bd0-2c3f17f1e074",
   "metadata": {
    "tags": []
   },
   "outputs": [],
   "source": [
    "data= [[\n",
    "    'linear regression',\n",
    "    'auto_harm_topmri_EDIS_linr.sav',\n",
    "    mean_absolute_error(y_EDIS_test, y_EDIS_pred),\n",
    "    TOPMRIlinr.score(X_EDIS_test,y_EDIS_test),\n",
    "    metrics.explained_variance_score(y_EDIS_test, y_EDISpred)]]\n",
    "linr_results = pd.DataFrame(data, columns=['algorithm','file_name','mae', 'r2', 'explained_variance'])\n",
    "#linr_results"
   ]
  },
  {
   "cell_type": "code",
   "execution_count": null,
   "id": "7303ab89-fcdc-47cf-b804-20ba0b6597e9",
   "metadata": {
    "tags": []
   },
   "outputs": [],
   "source": [
    "linr_y_test = y_EDIStest\n",
    "linr_y_pred = y_EDISpred\n",
    "linr_compare = pd.DataFrame(\n",
    "    {'y_test_real_age': linr_y_test,\n",
    "     'linr_y_pred_age': linr_y_pred,\n",
    "    })\n",
    "#linr_compare = linr_compare.reset_index()\n",
    "linr_compare"
   ]
  },
  {
   "cell_type": "code",
   "execution_count": null,
   "id": "6252087f-367c-4cb6-a801-143d7f05033c",
   "metadata": {
    "tags": []
   },
   "outputs": [],
   "source": [
    "linr_compare.to_csv('whole_auto_harm_topmri_EDIS_linr_compare_on_top.csv')"
   ]
  },
  {
   "cell_type": "code",
   "execution_count": null,
   "id": "9f6894d0-ef17-45bc-a408-1d4e7039866d",
   "metadata": {
    "tags": []
   },
   "outputs": [],
   "source": [
    "y_EDIS_pred = TOPMRIllreg.predict(X_EDIS_test)"
   ]
  },
  {
   "cell_type": "code",
   "execution_count": null,
   "id": "bfcb3eec-eacf-4442-b3b3-03dca6be5539",
   "metadata": {
    "tags": []
   },
   "outputs": [],
   "source": [
    "data= [[\n",
    "    'lasso regression',\n",
    "    'auto_harm_whole_topmri_EDIS_llreg.sav',\n",
    "    mean_absolute_error(y_EDIS_test, y_EDISpred),\n",
    "    TOPMRIllreg.score(X_EDIS_test,y_EDIS_test),\n",
    "    metrics.explained_variance_score(y_EDIS_test, y_EDIS_pred)]]\n",
    "llreg_results = pd.DataFrame(data, columns=['algorithm','file_name','mae', 'r2', 'explained_variance'])\n",
    "llreg_results"
   ]
  },
  {
   "cell_type": "code",
   "execution_count": null,
   "id": "fb8a1428-3f96-4370-9e03-8b9d6a2ddca2",
   "metadata": {
    "tags": []
   },
   "outputs": [],
   "source": [
    "llreg_y_test = y_EDIS_test\n",
    "llreg_y_pred = y_EDIS_pred\n",
    "llreg_compare = pd.DataFrame(\n",
    "    {'y_test_real_age': llreg_y_test,\n",
    "     'linr_y_pred_age': llreg_y_pred,\n",
    "    })\n",
    "llreg_compare"
   ]
  },
  {
   "cell_type": "code",
   "execution_count": null,
   "id": "827b54c9-0440-4fe5-98fb-bf1114ca3bde",
   "metadata": {
    "tags": []
   },
   "outputs": [],
   "source": [
    "llreg_compare.to_csv('whole_auto_harm_topmri_EDIS_llreg_compare_on_top.csv')"
   ]
  },
  {
   "cell_type": "code",
   "execution_count": null,
   "id": "037db863-8963-4a3c-8bab-c8bd994b2bde",
   "metadata": {
    "tags": []
   },
   "outputs": [],
   "source": [
    "y_EDIS_pred = TOPMRIeregr.predict(X_EDIS_test)"
   ]
  },
  {
   "cell_type": "code",
   "execution_count": null,
   "id": "4e12b8ac-d562-48d9-b6e0-5c4cd397001e",
   "metadata": {
    "tags": []
   },
   "outputs": [],
   "source": [
    "data= [[\n",
    "    'elasticnetCV',\n",
    "    'auto_harm_whole_topmri_EDISlinr.sav',\n",
    "    mean_absolute_error(y_EDIStest, y_sEDISpred),\n",
    "    TOPMRIeregr.score (X_EDIStest, y_EDIS_test),\n",
    "    metrics.explained_variance_score(y_EDIStest, y_EDIS_pred)]]\n",
    "eregr_results = pd.DataFrame(data, columns=['algorithm','file_name','mae', 'r2', 'explained_variance'])\n",
    "#eregr_results"
   ]
  },
  {
   "cell_type": "code",
   "execution_count": null,
   "id": "c2584b1c-869b-46b9-abc0-fdf6c513e4fe",
   "metadata": {
    "tags": []
   },
   "outputs": [],
   "source": [
    "eregr_y_test = y_EDIS_test\n",
    "eregr_y_pred = y_EDIS_pred\n",
    "eregr_compare = pd.DataFrame(\n",
    "    {'y_test_real_age': eregr_y_test,\n",
    "     'linr_y_pred_age': eregr_y_pred,\n",
    "    })\n",
    "#eregr_compare = eregr_compare.reset_index()\n",
    "eregr_compare"
   ]
  },
  {
   "cell_type": "code",
   "execution_count": null,
   "id": "fb5f4380-0e58-4f04-9179-e971d11250f3",
   "metadata": {
    "tags": []
   },
   "outputs": [],
   "source": [
    "eregr_compare.to_csv('whole_auto_harm_topmri_EDIS_eregr_compare_on_top.csv')"
   ]
  },
  {
   "cell_type": "code",
   "execution_count": null,
   "id": "6a14f717-b25e-4b82-bc5c-766539af9367",
   "metadata": {
    "tags": []
   },
   "outputs": [],
   "source": [
    "y_EDIS_pred = TOPMRIetreg.predict(X_EDIStest)"
   ]
  },
  {
   "cell_type": "code",
   "execution_count": null,
   "id": "26fd8e4a-27e5-4a4f-9c8e-a4f715d83110",
   "metadata": {
    "tags": []
   },
   "outputs": [],
   "source": [
    "data= [[\n",
    "    'extra trees',\n",
    "    'auto_harm_topmri_EDIS_linr.sav',\n",
    "    mean_absolute_error(y_EDIS_test, y_EDIS_pred),\n",
    "    TOPMRIetreg.score(X_EDIS_test,y_EDIS_test),\n",
    "    metrics.explained_variance_score(y_EDIS_test, y_EDISpred)]]\n",
    "etreg_results = pd.DataFrame(data, columns=['algorithm','file_name','mae', 'r2', 'explained_variance'])\n",
    "#etreg_results"
   ]
  },
  {
   "cell_type": "code",
   "execution_count": null,
   "id": "df8f1ceb-2491-49a7-a169-2ca2dc31e6a9",
   "metadata": {
    "tags": []
   },
   "outputs": [],
   "source": [
    "etreg_y_test = y_EDIS_test\n",
    "etreg_y_pred = y_EDIS_pred\n",
    "etreg_compare = pd.DataFrame(\n",
    "    {'y_test_real_age': etreg_y_test,\n",
    "     'etreg_y_pred_age': etreg_y_pred,\n",
    "    })\n",
    "#etreg_compare = etreg_compare.reset_index()\n",
    "etreg_compare"
   ]
  },
  {
   "cell_type": "code",
   "execution_count": null,
   "id": "f709c42b-3486-41b6-964c-17e297089933",
   "metadata": {
    "tags": []
   },
   "outputs": [],
   "source": [
    "etreg_compare.to_csv('whole_auto_harm_topmri_EDIS_etreg_compare_on_top.csv')"
   ]
  },
  {
   "cell_type": "code",
   "execution_count": null,
   "id": "ac3ab2b6-601a-41b8-b395-41f0c45b8ea4",
   "metadata": {
    "tags": []
   },
   "outputs": [],
   "source": [
    "topmri_based_auto_combat_harmonized_on_EDIS =pd.concat([linr_results,\n",
    "                   llreg_results,\n",
    "                   eregr_results,\n",
    "                  etreg_results],\n",
    "                  axis=0)\n",
    "topmri_based_auto_combat_harmonized_on_EDIS"
   ]
  },
  {
   "cell_type": "code",
   "execution_count": null,
   "id": "c39fe68c-ad0d-4e34-adb1-c81ad5a85324",
   "metadata": {
    "tags": []
   },
   "outputs": [],
   "source": [
    "topmri_based_auto_combat_harmonized_on_EDIS.to_csv('topmri_based_auto_combat_harmonized_on_EDIS.csv')"
   ]
  },
  {
   "cell_type": "code",
   "execution_count": null,
   "id": "97e56f25-7cbf-4095-8183-355a479b2a27",
   "metadata": {},
   "outputs": [],
   "source": []
  }
 ],
 "metadata": {
  "kernelspec": {
   "display_name": "Python 3 (ipykernel)",
   "language": "python",
   "name": "python3"
  },
  "language_info": {
   "codemirror_mode": {
    "name": "ipython",
    "version": 3
   },
   "file_extension": ".py",
   "mimetype": "text/x-python",
   "name": "python",
   "nbconvert_exporter": "python",
   "pygments_lexer": "ipython3",
   "version": "3.11.6"
  }
 },
 "nbformat": 4,
 "nbformat_minor": 5
}
