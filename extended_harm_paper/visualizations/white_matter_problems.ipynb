{
 "cells": [
  {
   "cell_type": "markdown",
   "id": "44b352d6-3894-4435-8ce2-46694a10a10c",
   "metadata": {},
   "source": [
    "# White matter problems visualized"
   ]
  },
  {
   "cell_type": "markdown",
   "id": "b5b78175-db66-4542-b0f3-dc5c2d30b130",
   "metadata": {},
   "source": [
    "We know from experts, literature and personal experience some people below 50 have white matter hyperintensities. Some texts sayt you are allowed 1 per decade, while being 'normal'. Further migriainers are known to have a few extras. Expert opinion is that about 10% of people between 20 and 40 will have them.\n",
    "So in that range we should mostly see zeros unless we have a software problem. Or radiologists are in an under or overcounting conspiracy.\n",
    "Let's examine this parameter in our data"
   ]
  },
  {
   "cell_type": "code",
   "execution_count": null,
   "id": "1cfbfc07-1f63-4b5e-a4cb-eebb7693018f",
   "metadata": {
    "tags": []
   },
   "outputs": [],
   "source": [
    "import os       # using operating system dependent functionality (folders)\n",
    "import sys\n",
    "import glob\n",
    "from functools import reduce\n",
    "\n",
    "import pandas as pd # data analysis and manipulation\n",
    "import numpy as np    # numerical computing (manipulating and performing operations on arrays of data)\n",
    "import matplotlib.pyplot as plt\n",
    "import ipywidgets as widgets\n",
    "from ipywidgets import interactive\n",
    "import seaborn as sns\n",
    "from ipywidgets import Layout, Button, Box, FloatText, Textarea, Dropdown, Label, IntSlider\n",
    "\n",
    "sys.path.insert(0, '../../') # path to functions\n",
    "import cvasl.harmony as har"
   ]
  },
  {
   "cell_type": "code",
   "execution_count": null,
   "id": "399e1d9b-63f9-44aa-b92e-a5e6b74a8bc7",
   "metadata": {
    "tags": []
   },
   "outputs": [],
   "source": [
    "filepath_mri_for_ids = '../../open_work/internal_results/cleaned_pvc2s' \n",
    "filename_mri_for_ids = os.path.join(filepath_mri_for_ids,'StrokeMRI_pvc2c.csv') \n",
    "\n",
    "filepath_top_for_ids = '../../open_work/internal_results/cleaned_pvc2s/' \n",
    "filename_top_for_ids = os.path.join(filepath_top_for_ids,'TOP_pvc2c.csv') \n",
    "\n",
    "TOP = pd.read_csv(filename_top_for_ids )\n",
    "\n",
    "MRI = pd.read_csv(filename_mri_for_ids) \n",
    "# filepath_topmri = '../../open_work/internal_results/harmonized_pvc2s/requested_open_harm/' \n",
    "# filename_topmri = os.path.join(filepath_topmri,'Rtopmri_opn_harmonized.csv') \n",
    "# filepath_sabre = '../../open_work/internal_results/cleaned_pvc2s'   \n",
    "# filename_sabre = os.path.join(filepath_topmri,'SABRE_pvc2_cleaned.csv') \n",
    "# filepath_insight46 = '../open_work/internal_results/harmonized_pvc2s/requested_open_harm/' \n",
    "# filename_insight46 =  os.path.join(filepath_topmri,'Insight46_pvc2c.csv') \n",
    "# # # read in data\n",
    "# # TOP = pd.read_csv(filename_top)\n",
    "# # StrokeMRI = pd.read_csv(filename_mri)\n",
    "# TOPMRI = pd.read_csv(filename_topmri)\n",
    "# SABRE = pd.read_csv(filename_sabre)\n",
    "# #Insight46 = pd.read_csv(filename_insight46)\n",
    "# # take extra column off\n",
    "# TOPMRI = TOPMRI.drop(TOPMRI.columns[0],axis=1)\n",
    "# #SABRE = SABRE.drop(SABRE.columns[0],axis=1)\n",
    "# #StrokeMRI = StrokeMRI.drop(StrokeMRI.columns[0],axis=1)\n",
    "# #Insight46 = Insight46.drop(Insight46.columns[0],axis=1)\n",
    "# IDS_TOP =  pd.read_csv(filename_top_for_ids)\n",
    "# IDS_MRI =  pd.read_csv(filename_mri_for_ids)"
   ]
  },
  {
   "cell_type": "markdown",
   "id": "9d67b127-77af-4084-82dd-5e40296ff7bb",
   "metadata": {},
   "source": [
    "So we decided to distort this parameter for reasons that elude me still. What does distortion mean?"
   ]
  },
  {
   "cell_type": "code",
   "execution_count": null,
   "id": "a94c5681-a96e-42b7-a7d5-364395572073",
   "metadata": {
    "tags": []
   },
   "outputs": [],
   "source": [
    "TOP.head(3)"
   ]
  },
  {
   "cell_type": "code",
   "execution_count": null,
   "id": "b918a95c-6f4b-430f-b14f-304d6230af74",
   "metadata": {
    "tags": []
   },
   "outputs": [],
   "source": [
    "TOP.age.describe()"
   ]
  },
  {
   "cell_type": "code",
   "execution_count": null,
   "id": "fd1cdc59-6253-4213-a2d4-2461472fd6cf",
   "metadata": {
    "tags": []
   },
   "outputs": [],
   "source": [
    "MRI.age.describe()"
   ]
  },
  {
   "cell_type": "code",
   "execution_count": null,
   "id": "47cc2bef-001a-4e83-bf0a-ae4d2415f392",
   "metadata": {
    "tags": []
   },
   "outputs": [],
   "source": [
    "har.show_diff_on_var(\n",
    "    TOP,\n",
    "    'top',\n",
    "    MRI,\n",
    "    'mri',\n",
    "    'age',\n",
    "    'wmh_count')"
   ]
  },
  {
   "cell_type": "code",
   "execution_count": null,
   "id": "3e7abbaa-bb5a-4504-b25a-4c8738edf469",
   "metadata": {
    "tags": []
   },
   "outputs": [],
   "source": [
    "TOP.wmh_count.describe()"
   ]
  },
  {
   "cell_type": "code",
   "execution_count": null,
   "id": "775d3479-ad18-493c-acb2-c75ad2a4e4cb",
   "metadata": {
    "tags": []
   },
   "outputs": [],
   "source": [
    "MRI.wmh_count.describe()"
   ]
  },
  {
   "cell_type": "markdown",
   "id": "0f883538-acbb-46e5-a349-54acf0457898",
   "metadata": {},
   "source": [
    "We hide this nehind ratios that are then manipulated, but findamentally if you want a better model fix the inputs."
   ]
  },
  {
   "cell_type": "markdown",
   "id": "fb411ca1-e9b9-4c5e-b6d3-a297a5b8b519",
   "metadata": {},
   "source": [
    "## OK let's look at later datasets\n",
    "potentially pre-and post harmonization\n",
    "\n",
    "We will start with the harmonized\n",
    "We don't know that the mistakes are uniform"
   ]
  },
  {
   "cell_type": "code",
   "execution_count": null,
   "id": "ff3ba204-f814-47e5-ac15-46cbcbaa6739",
   "metadata": {
    "tags": []
   },
   "outputs": [],
   "source": [
    "# filepath_topmri = '../../open_work/internal_results/harmonized_pvc2s/requested_open_harm/' \n",
    "# filepath_sabre = '../open_work/internal_results/harmonized_pvc2s/requested_open_harm/' \n",
    "# filename_sabre = os.path.join(filepath_topmri,'Rsabre_opn_harmonized.csv') \n",
    "# filepath_insight46 = '../open_work/internal_results/harmonized_pvc2s/requested_open_harm/' \n",
    "# filename_insight46 =  os.path.join(filepath_topmri,'Rinsight_opn_harmonized.csv') \n",
    "filepath_sabre = '../../open_work/internal_results/cleaned_pvc2s'   \n",
    "filename_sabre = os.path.join(filepath_sabre,'SABRE_pvc2_cleaned.csv') \n",
    "SABRE = pd.read_csv(filename_sabre)\n",
    "filepath_insight46 = '../../open_work/internal_results/cleaned_pvc2s'   \n",
    "filename_insight46 = os.path.join(filepath_sabre,'Insight46_pvc2c.csv') \n",
    "Insight46 = pd.read_csv(filename_insight46)\n",
    "\n",
    "SABRE = SABRE.drop(SABRE.columns[0],axis=1)\n",
    "\n",
    "Insight46 = Insight46.drop(Insight46.columns[0],axis=1)\n"
   ]
  },
  {
   "cell_type": "code",
   "execution_count": null,
   "id": "b8475558-8214-4ff8-ba0a-575387119950",
   "metadata": {
    "tags": []
   },
   "outputs": [],
   "source": [
    "#"
   ]
  },
  {
   "cell_type": "code",
   "execution_count": null,
   "id": "ef27f010-c6ab-4f76-b95f-ecd5c245812a",
   "metadata": {
    "tags": []
   },
   "outputs": [],
   "source": [
    "har.show_diff_on_var(\n",
    "    TOP,\n",
    "    'TOP',\n",
    "    SABRE,\n",
    "    'Sabre',\n",
    "    'age',\n",
    "    'wmh_count')"
   ]
  },
  {
   "cell_type": "code",
   "execution_count": null,
   "id": "fff148d9-3380-44b3-b901-3c11b529239d",
   "metadata": {
    "tags": []
   },
   "outputs": [],
   "source": [
    "SABRE.wmh_count.describe()"
   ]
  },
  {
   "cell_type": "code",
   "execution_count": null,
   "id": "c58db7f4-01b2-4c1a-94bb-9497373557bd",
   "metadata": {
    "tags": []
   },
   "outputs": [],
   "source": [
    "SABRE.age.describe()"
   ]
  },
  {
   "cell_type": "code",
   "execution_count": null,
   "id": "b52cc142-1440-4bee-bbce-ecec16cd38cf",
   "metadata": {
    "tags": []
   },
   "outputs": [],
   "source": [
    "HELIUS= pd.read_csv('C:/Users/CandaceMoore/Desktop/our_datasets_unprocessed/HELIUS/TrainingDataComplete.csv')\n",
    "HELIUS.columns = HELIUS.columns.str.lower()"
   ]
  },
  {
   "cell_type": "code",
   "execution_count": null,
   "id": "62041973-4bee-4f2b-8148-c43093eb4d44",
   "metadata": {
    "tags": []
   },
   "outputs": [],
   "source": []
  },
  {
   "cell_type": "code",
   "execution_count": null,
   "id": "7f6133f2-df56-4cfd-88ae-8a111d9f5c35",
   "metadata": {
    "tags": []
   },
   "outputs": [],
   "source": [
    "har.show_diff_on_var(\n",
    "    TOP,\n",
    "    'TOP',\n",
    "    HELIUS,\n",
    "    'HELIUS',\n",
    "    'age',\n",
    "    'wmh_count')"
   ]
  },
  {
   "cell_type": "code",
   "execution_count": null,
   "id": "b7257fbb-ac6a-44c3-adf1-577c6da2c284",
   "metadata": {},
   "outputs": [],
   "source": []
  }
 ],
 "metadata": {
  "kernelspec": {
   "display_name": "Python 3 (ipykernel)",
   "language": "python",
   "name": "python3"
  },
  "language_info": {
   "codemirror_mode": {
    "name": "ipython",
    "version": 3
   },
   "file_extension": ".py",
   "mimetype": "text/x-python",
   "name": "python",
   "nbconvert_exporter": "python",
   "pygments_lexer": "ipython3",
   "version": "3.9.18"
  }
 },
 "nbformat": 4,
 "nbformat_minor": 5
}
