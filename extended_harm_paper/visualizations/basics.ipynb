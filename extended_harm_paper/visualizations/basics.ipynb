{
 "cells": [
  {
   "cell_type": "markdown",
   "id": "2ae1267c-22e0-4330-bfcc-87967a9d56c5",
   "metadata": {},
   "source": [
    "# Various experimental visualizations"
   ]
  },
  {
   "cell_type": "markdown",
   "id": "df8420ff-434a-4df3-a1a0-91f4e6a8a5a7",
   "metadata": {},
   "source": [
    "## How at baseline do datasets differ, \n",
    "\n",
    "We will use different datasets now for convenience"
   ]
  },
  {
   "cell_type": "code",
   "execution_count": null,
   "id": "5c507261-8565-4c3e-bd33-61f7206590c3",
   "metadata": {
    "tags": []
   },
   "outputs": [],
   "source": [
    "import os       # using operating system dependent functionality (folders)\n",
    "import sys\n",
    "import glob\n",
    "from functools import reduce\n",
    "\n",
    "import pandas as pd # data analysis and manipulation\n",
    "import numpy as np    # numerical computing (manipulating and performing operations on arrays of data)\n",
    "import matplotlib.pyplot as plt\n",
    "import ipywidgets as widgets\n",
    "from ipywidgets import interactive\n",
    "import seaborn as sns\n",
    "\n",
    "sys.path.insert(0, '../../') # path to functions\n",
    "import cvasl.seperated as sep\n",
    "from cvasl.file_handler import Config\n",
    "import cvasl.harmony as har"
   ]
  },
  {
   "cell_type": "code",
   "execution_count": null,
   "id": "c4eb3db2-b48c-4491-a785-c1c24619f83b",
   "metadata": {
    "tags": []
   },
   "outputs": [],
   "source": [
    "base_path = 'C:/Projects/cvasl/open_work/internal_results/cleaned_pvc2s'"
   ]
  },
  {
   "cell_type": "code",
   "execution_count": null,
   "id": "4d42e94d-5c2e-4a3c-8193-55ba3fb23f6b",
   "metadata": {
    "tags": []
   },
   "outputs": [],
   "source": [
    "SAB_s= 'SABRE_pvc2_cleaned.csv'\n",
    "SAB_path = os.path.join(base_path, SAB_s)\n",
    "SAB = pd.read_csv(SAB_path)\n"
   ]
  },
  {
   "cell_type": "code",
   "execution_count": null,
   "id": "ed1a97c7-1d00-49d5-be20-6e5f69cc1dfb",
   "metadata": {
    "tags": []
   },
   "outputs": [],
   "source": [
    "INI_s= 'Insight46_pvc2c.csv'\n",
    "INI_path = os.path.join(base_path, INI_s)\n",
    "INI = pd.read_csv(INI_path)\n"
   ]
  },
  {
   "cell_type": "code",
   "execution_count": null,
   "id": "9da36b53-e8f5-4db2-9f2b-60c44c7fb25b",
   "metadata": {
    "tags": []
   },
   "outputs": [],
   "source": [
    "TOP_s= 'TOP_pvc2c.csv'\n",
    "TOP_path = os.path.join(base_path, TOP_s)\n",
    "TOP = pd.read_csv(TOP_path)\n"
   ]
  },
  {
   "cell_type": "code",
   "execution_count": null,
   "id": "9a313e7b-a6f7-4561-9987-f79caf537f24",
   "metadata": {
    "tags": []
   },
   "outputs": [],
   "source": [
    "MRI_s= 'StrokeMRI_pvc2c.csv'\n",
    "MRI_path = os.path.join(base_path, MRI_s)\n",
    "MRI = pd.read_csv(MRI_path)"
   ]
  },
  {
   "cell_type": "code",
   "execution_count": null,
   "id": "d7e496c1-ed80-4898-b386-0123125a5907",
   "metadata": {
    "tags": []
   },
   "outputs": [],
   "source": [
    "#MRI = MRI.sort_values(by='age')"
   ]
  },
  {
   "cell_type": "code",
   "execution_count": null,
   "id": "6c3c71ae-4d5d-40f9-9c38-0fdf5e2d76c1",
   "metadata": {
    "tags": []
   },
   "outputs": [],
   "source": [
    "TOPMRI = pd.concat([TOP, MRI])\n",
    "#TOPMRI"
   ]
  },
  {
   "cell_type": "code",
   "execution_count": null,
   "id": "fa47dac5-99fd-4ae3-b23f-ee442baa1fa1",
   "metadata": {
    "tags": []
   },
   "outputs": [],
   "source": [
    "TOPMRI.age.hist(ls='dashed', lw=3, fc=(0, 0, 1, 0.5))\n",
    "#TOP.age.hist(ls='dotted', lw=3, fc=(1, 0, 0, 0.3))\n",
    "INI.age.hist(ls='dotted', lw=3, fc=(0, 1, 0, 0.3))\n",
    "SAB.age.hist(ls='dotted', lw=3, fc=(1, 0, 0, 0.3))"
   ]
  },
  {
   "cell_type": "code",
   "execution_count": null,
   "id": "6c796345-81c7-415b-8969-2243c0f4ac23",
   "metadata": {
    "tags": []
   },
   "outputs": [],
   "source": [
    "plt.scatter(TOPMRI['age'], TOPMRI['gm_vol'], alpha=0.2 )\n",
    "plt.scatter(SAB['age'], SAB['gm_vol'],alpha=0.2 )\n",
    "plt.scatter(INI['age'], INI['gm_vol'],alpha=0.2 )"
   ]
  },
  {
   "cell_type": "code",
   "execution_count": null,
   "id": "22917f8c-8e8a-45e8-9f57-b851789f6917",
   "metadata": {},
   "outputs": [],
   "source": []
  }
 ],
 "metadata": {
  "kernelspec": {
   "display_name": "Python 3 (ipykernel)",
   "language": "python",
   "name": "python3"
  },
  "language_info": {
   "codemirror_mode": {
    "name": "ipython",
    "version": 3
   },
   "file_extension": ".py",
   "mimetype": "text/x-python",
   "name": "python",
   "nbconvert_exporter": "python",
   "pygments_lexer": "ipython3",
   "version": "3.9.18"
  }
 },
 "nbformat": 4,
 "nbformat_minor": 5
}
