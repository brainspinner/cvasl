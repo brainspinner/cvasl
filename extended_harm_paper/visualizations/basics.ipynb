{
 "cells": [
  {
   "cell_type": "markdown",
   "id": "2ae1267c-22e0-4330-bfcc-87967a9d56c5",
   "metadata": {},
   "source": [
    "# Various experimental visualizations"
   ]
  },
  {
   "cell_type": "markdown",
   "id": "df8420ff-434a-4df3-a1a0-91f4e6a8a5a7",
   "metadata": {},
   "source": [
    "## How at baseline do datasets differ, \n",
    "\n",
    "We will use different datasets now for convenience; must be run in graphing_env environment"
   ]
  },
  {
   "cell_type": "code",
   "execution_count": null,
   "id": "5c507261-8565-4c3e-bd33-61f7206590c3",
   "metadata": {
    "tags": []
   },
   "outputs": [],
   "source": [
    "import os       # using operating system dependent functionality (folders)\n",
    "import sys\n",
    "import glob\n",
    "from functools import reduce\n",
    "\n",
    "import pandas as pd # data analysis and manipulation\n",
    "import numpy as np    # numerical computing (manipulating and performing operations on arrays of data)\n",
    "import matplotlib.pyplot as plt\n",
    "import ipywidgets as widgets\n",
    "from ipywidgets import interactive\n",
    "import seaborn as sns\n",
    "from ipywidgets import Layout, Button, Box, FloatText, Textarea, Dropdown, Label, IntSlider\n",
    "\n",
    "sys.path.insert(0, '../../') # path to functions\n",
    "import cvasl.harmony as har"
   ]
  },
  {
   "cell_type": "code",
   "execution_count": null,
   "id": "67d5aff0-2853-49fb-9ed4-92f94556708f",
   "metadata": {
    "tags": []
   },
   "outputs": [],
   "source": [
    "datasets_names = ['EDIS', 'SABRE', 'Insight46', 'TOP', 'StrokeMRI', 'HELIUS','TOPMRI']"
   ]
  },
  {
   "cell_type": "code",
   "execution_count": null,
   "id": "51ca6641-13eb-458d-b793-c0f7d602650a",
   "metadata": {
    "tags": []
   },
   "outputs": [],
   "source": [
    "# form_item_layout = Layout(\n",
    "#     display='flex',\n",
    "#     flex_flow='row',\n",
    "#     justify_content='space-between'\n",
    "# )\n",
    "\n",
    "# form_items = [\n",
    "    \n",
    "#     Box([Label(value='Dataset1'),\n",
    "#          Dropdown(options=datasets_names)], layout=form_item_layout),\n",
    "#     Box([Label(value='Label dataset 1'),\n",
    "#          Textarea()], layout=form_item_layout),\n",
    "#     Box([Label(value='Dataset2'),\n",
    "#          Dropdown(options=datasets_names)], layout=form_item_layout),\n",
    "#     Box([Label(value='label dataset 2'),\n",
    "#          Textarea()], layout=form_item_layout),\n",
    "#     Box([Label(value='feature1'),\n",
    "#          Dropdown(options=list(features))], layout=form_item_layout),\n",
    "#     Box([Label(value='feature2'),\n",
    "#          Dropdown(options=list(features))], layout=form_item_layout),\n",
    "    \n",
    "# ]\n",
    "\n",
    "# form = Box(form_items, layout=Layout(\n",
    "#     display='flex',\n",
    "#     flex_flow='column',\n",
    "#     border='solid 2px',\n",
    "#     align_items='stretch',\n",
    "#     width='60%'\n",
    "# ))\n",
    "\n",
    "\n",
    "# form"
   ]
  },
  {
   "cell_type": "code",
   "execution_count": null,
   "id": "84ab556f-d230-4b1d-a44a-d415770a3093",
   "metadata": {
    "tags": []
   },
   "outputs": [],
   "source": [
    "#Dataset2.value"
   ]
  },
  {
   "cell_type": "code",
   "execution_count": null,
   "id": "ea243c48-6d7a-426d-9afe-910d328f36a2",
   "metadata": {
    "tags": []
   },
   "outputs": [],
   "source": [
    "#features"
   ]
  },
  {
   "cell_type": "code",
   "execution_count": null,
   "id": "f5827237-4eca-45cb-b6b9-d27e5f9e2636",
   "metadata": {
    "tags": []
   },
   "outputs": [],
   "source": [
    "# Datasets for this work\n",
    "EDIS_path = '../our_datasets/EDIS/'\n",
    "HELIUS_path = '../our_datasets/HELIUS/'\n",
    "Insight46_path = '../our_datasets/Insight46/'\n",
    "SABRE_path = '../our_datasets/SABRE/'\n",
    "MRI_path = '../our_datasets/StrokeMRI/'\n",
    "TOP_path = '../our_datasets/TOP/'\n",
    "file_name = 'TrainingDataComplete.csv'\n",
    "\n",
    "TOP_file = os.path.join(TOP_path, file_name)\n",
    "MRI_file = os.path.join(MRI_path, file_name)\n",
    "EDIS_file = os.path.join(EDIS_path, file_name)\n",
    "HELIUS_file = os.path.join(HELIUS_path, file_name)\n",
    "Insight46_file = os.path.join(Insight46_path, file_name)\n",
    "SABRE_file = os.path.join(SABRE_path, file_name)\n",
    "\n",
    "EDIS_n = pd.read_csv(EDIS_file, index_col=0)\n",
    "HELIUS_n = pd.read_csv(HELIUS_file, index_col=0)\n",
    "Insight46_n = pd.read_csv(Insight46_file, index_col=0)\n",
    "SABRE_n = pd.read_csv(SABRE_file, index_col=0)\n",
    "TOP_n = pd.read_csv(TOP_file, index_col=0)\n",
    "MRI_n = pd.read_csv(MRI_file, index_col=0)"
   ]
  },
  {
   "cell_type": "code",
   "execution_count": null,
   "id": "af4314f7-38d5-4176-9032-b13d5b02630c",
   "metadata": {
    "tags": []
   },
   "outputs": [],
   "source": [
    "HELIUS = HELIUS_n.drop(['ID', 'Site'], axis=1)\n",
    "Insight46 = Insight46_n.drop(['ID', 'Site'], axis=1)\n",
    "EDIS = EDIS_n.drop(['ID', 'Site'], axis=1)\n",
    "SABRE = SABRE_n.drop(['ID', 'Site'], axis=1)\n",
    "StrokeMRI = MRI_n.drop(['ID', 'Site'], axis=1)"
   ]
  },
  {
   "cell_type": "code",
   "execution_count": null,
   "id": "4d42e94d-5c2e-4a3c-8193-55ba3fb23f6b",
   "metadata": {
    "tags": []
   },
   "outputs": [],
   "source": [
    "# features = EDIS.columns\n",
    "# features =list(features)"
   ]
  },
  {
   "cell_type": "code",
   "execution_count": null,
   "id": "a6dd9101-504b-49f9-981d-d32f94ecbf61",
   "metadata": {
    "tags": []
   },
   "outputs": [],
   "source": [
    "TOP = TOP_n.drop(['ID', 'Site'], axis=1)\n",
    "TOP.head(2)"
   ]
  },
  {
   "cell_type": "code",
   "execution_count": null,
   "id": "ee6b132a-7d0b-4384-86e6-15747ec7b502",
   "metadata": {
    "tags": []
   },
   "outputs": [],
   "source": [
    "TOP.columns"
   ]
  },
  {
   "cell_type": "code",
   "execution_count": null,
   "id": "8aebfadf-cfbc-4272-8abf-f98ff6bd4849",
   "metadata": {
    "tags": []
   },
   "outputs": [],
   "source": [
    "HELIUS.head(3)"
   ]
  },
  {
   "cell_type": "code",
   "execution_count": null,
   "id": "980a3d17-60ca-439b-9a14-c535788137f8",
   "metadata": {},
   "outputs": [],
   "source": [
    "TOPMRI= pd.concat([TOP, StrokeMRI], sort=False)"
   ]
  },
  {
   "cell_type": "code",
   "execution_count": null,
   "id": "73d261ff-2e01-4e41-ac82-9e09eb1a4f88",
   "metadata": {
    "tags": []
   },
   "outputs": [],
   "source": [
    "TOP.columns = TOP.columns.str.lower() \n",
    "TOPMRI.columns = TOPMRI.columns.str.lower()\n",
    "StrokeMRI.columns = StrokeMRI.columns.str.lower() \n",
    "Insight46.columns = Insight46.columns.str.lower() \n",
    "EDIS.columns = EDIS.columns.str.lower() \n",
    "SABRE.columns= SABRE.columns.str.lower() \n",
    "HELIUS.columns= HELIUS.columns.str.lower() "
   ]
  },
  {
   "cell_type": "code",
   "execution_count": null,
   "id": "583a2b92-4474-4d08-addc-b876d201ab57",
   "metadata": {
    "tags": []
   },
   "outputs": [],
   "source": [
    "EDIS.columns"
   ]
  },
  {
   "cell_type": "code",
   "execution_count": null,
   "id": "6117c0fc-43f0-4522-b6b0-a3df17064e38",
   "metadata": {},
   "outputs": [],
   "source": [
    "features = EDIS.columns\n",
    "features =list(features)"
   ]
  },
  {
   "cell_type": "code",
   "execution_count": null,
   "id": "33a4388e-7f72-4a8e-ad8c-60c6782a3e4d",
   "metadata": {
    "tags": []
   },
   "outputs": [],
   "source": [
    "datasets = [EDIS, SABRE, Insight46, TOP, StrokeMRI, HELIUS, TOPMRI]\n",
    "for qset in datasets:\n",
    "    print(qset.sex.unique())"
   ]
  },
  {
   "cell_type": "code",
   "execution_count": null,
   "id": "1fce5f4d-b0b5-4d3c-92e1-ec7c7f142847",
   "metadata": {
    "tags": []
   },
   "outputs": [],
   "source": [
    "sex_mapping = {1:0,2:1}\n",
    "Insight46 = Insight46.assign(sex = Insight46.sex.map(sex_mapping))\n",
    "EDIS =EDIS.assign(sex = EDIS.sex.map(sex_mapping))\n",
    "SABRE=SABRE.assign(sex = SABRE.sex.map(sex_mapping))"
   ]
  },
  {
   "cell_type": "code",
   "execution_count": null,
   "id": "f09717ad-5e75-45ee-ac67-3efa7683b7c1",
   "metadata": {
    "tags": []
   },
   "outputs": [],
   "source": [
    "# check and rename known repeater in HELIUS and SABRE\n",
    "sabres = set(SABRE.participant_id)\n",
    "heliar = set(HELIUS.participant_id)\n",
    "x = sabres.intersection(heliar)\n",
    "print(x)"
   ]
  },
  {
   "cell_type": "code",
   "execution_count": null,
   "id": "3e8fbeda-42fa-4b07-a52e-fd1127a1671f",
   "metadata": {},
   "outputs": [],
   "source": [
    "dataset_dictionary= {\n",
    "    'SABRE':SABRE,\n",
    "    'EDIS':EDIS,\n",
    "    'TOP':TOP,\n",
    "    'HELIUS':HELIUS,\n",
    "    'StrokeMRI':StrokeMRI,\n",
    "    'Insight46':Insight46,\n",
    "    'TOPMRI': TOPMRI\n",
    "    \n",
    "}"
   ]
  },
  {
   "cell_type": "code",
   "execution_count": null,
   "id": "8c3d7efe-6506-47e6-afdf-f70474a816fa",
   "metadata": {
    "tags": []
   },
   "outputs": [],
   "source": [
    "HELIUS.loc[HELIUS['participant_id']=='sub-153852_1', 'participant_id'] = 'sub-153852_1H'"
   ]
  },
  {
   "cell_type": "code",
   "execution_count": null,
   "id": "7b7dd828-6e03-48da-804f-239f787f7a64",
   "metadata": {
    "tags": []
   },
   "outputs": [],
   "source": [
    "sabres = set(SABRE.participant_id)\n",
    "heliar = set(HELIUS.participant_id)\n",
    "x = sabres.intersection(heliar)\n",
    "print(x)"
   ]
  },
  {
   "cell_type": "code",
   "execution_count": null,
   "id": "ac996dd8-a433-4ded-b4e6-54e7470542d1",
   "metadata": {
    "tags": []
   },
   "outputs": [],
   "source": []
  },
  {
   "cell_type": "code",
   "execution_count": null,
   "id": "358cbe94-39ff-40b9-af81-b90348bed4d1",
   "metadata": {
    "tags": []
   },
   "outputs": [],
   "source": [
    "# make mixed StrokeMRI and TOP dataset\n",
    "mixed_data = pd.concat([TOP, StrokeMRI], sort=False)\n"
   ]
  },
  {
   "cell_type": "code",
   "execution_count": null,
   "id": "fa47dac5-99fd-4ae3-b23f-ee442baa1fa1",
   "metadata": {
    "tags": []
   },
   "outputs": [],
   "source": [
    "mixed_data.age.hist(ls='dashed', lw=3, fc=(0, 0, 1, 0.5)) # blue as in RGB\n",
    "#TOP.age.hist(ls='dotted', lw=3, fc=(1, 0, 0, 0.3))\n",
    "Insight46.age.hist(ls='dotted', lw=3, fc=(0, 1, 0, 0.3))\n",
    "EDIS.age.hist(ls='dotted', lw=3, fc=(1, 0, 0, 0.3))"
   ]
  },
  {
   "cell_type": "code",
   "execution_count": null,
   "id": "6c796345-81c7-415b-8969-2243c0f4ac23",
   "metadata": {
    "tags": []
   },
   "outputs": [],
   "source": [
    "plt.scatter(mixed_data['age'], mixed_data['gm_vol'], alpha=0.2 )\n",
    "plt.scatter(SABRE['age'], SABRE['gm_vol'],alpha=0.2 )\n",
    "plt.scatter(Insight46['age'], Insight46['gm_vol'],alpha=0.2 )"
   ]
  },
  {
   "cell_type": "code",
   "execution_count": null,
   "id": "8624a9ae-12b4-486a-a00c-aa2632cd1959",
   "metadata": {
    "tags": []
   },
   "outputs": [],
   "source": [
    "mixed_data.columns"
   ]
  },
  {
   "cell_type": "code",
   "execution_count": null,
   "id": "e54102ad-9178-4de9-94ec-644c6d635df3",
   "metadata": {
    "tags": []
   },
   "outputs": [],
   "source": [
    "numeric_columns = [ 'age', 'sex', 'gm_vol', 'wm_vol', 'csf_vol',\n",
    "       'gm_icvratio', 'gmwm_icvratio', 'wmhvol_wmvol', 'wmh_count',\n",
    "       'aca_b_cov', 'mca_b_cov', 'pca_b_cov', 'totalgm_b_cov', 'aca_b_cbf',\n",
    "       'mca_b_cbf', 'pca_b_cbf', 'totalgm_b_cbf']\n",
    "len(numeric_columns)"
   ]
  },
  {
   "cell_type": "code",
   "execution_count": null,
   "id": "7c1c1b5e-294f-4f2f-b163-b92a3a7129f6",
   "metadata": {
    "tags": []
   },
   "outputs": [],
   "source": [
    "mixed_data_np= mixed_data[numeric_columns]"
   ]
  },
  {
   "cell_type": "code",
   "execution_count": null,
   "id": "f5f4cce9-7171-4620-978f-64d71f87dafb",
   "metadata": {
    "tags": []
   },
   "outputs": [],
   "source": [
    "mixed_data_np =mixed_data_np.reset_index()\n",
    "mixed_data_np.index"
   ]
  },
  {
   "cell_type": "markdown",
   "id": "140b3d03-332b-4c80-9099-1cf1c1a1400a",
   "metadata": {},
   "source": [
    "## Reccomend joinplot for excluded data"
   ]
  },
  {
   "cell_type": "code",
   "execution_count": null,
   "id": "43b20e99-29d8-41d4-9bd9-a7989765ec84",
   "metadata": {
    "tags": []
   },
   "outputs": [],
   "source": [
    "Dataset1 = widgets.Select(\n",
    "    options=datasets_names,\n",
    "    value='EDIS',\n",
    "    description='Dataset 1:',\n",
    "    disabled=False\n",
    ")\n",
    "Dataset2 = widgets.Select(\n",
    "    options=datasets_names,\n",
    "    value='SABRE',\n",
    "    description='Dataset 2:',\n",
    "    disabled=False\n",
    ")\n",
    "Feature1 = widgets.Select(\n",
    "    options=features,\n",
    "    value='age',\n",
    "    description='Feature 1:',\n",
    "    disabled=False\n",
    ")\n",
    "Feature2 = widgets.Select(\n",
    "    options=features,\n",
    "    value='gm_vol',\n",
    "    description='Feature 2:',\n",
    "    disabled=False\n",
    ")\n",
    "label_dataset1 = widgets.Textarea(\n",
    "    value='EDIS',\n",
    "    placeholder='Type something',\n",
    "    description='label dataset1:',\n",
    "    disabled=False\n",
    ")\n",
    "label_dataset2 = widgets.Textarea(\n",
    "    value='SABRE',\n",
    "    placeholder='Type something',\n",
    "    description='String:',\n",
    "    disabled=False\n",
    ")\n",
    "box2 = Box(children=[label_dataset1, label_dataset2])\n",
    "\n",
    "box = Box(children=[Dataset1, Dataset2, Feature1, Feature2])\n",
    "box"
   ]
  },
  {
   "cell_type": "code",
   "execution_count": null,
   "id": "23f95c7e-5402-4021-9455-bf655cfc7627",
   "metadata": {
    "tags": []
   },
   "outputs": [],
   "source": [
    "box2"
   ]
  },
  {
   "cell_type": "code",
   "execution_count": null,
   "id": "30ea6fb9-f457-4d21-824a-e3b92e14c4de",
   "metadata": {
    "tags": []
   },
   "outputs": [],
   "source": [
    "har.show_diff_on_var(\n",
    "    dataset_dictionary[Dataset1.value],\n",
    "    label_dataset1.value,\n",
    "    dataset_dictionary[Dataset2.value],\n",
    "    label_dataset2.value,\n",
    "    Feature1.value,\n",
    "    Feature2.value)"
   ]
  },
  {
   "cell_type": "code",
   "execution_count": null,
   "id": "fe7ea75f-4e9a-4e53-bad1-342b85dbcd93",
   "metadata": {
    "tags": []
   },
   "outputs": [],
   "source": [
    "har.show_diff_on_var3(EDIS,\n",
    "    'EDIS',\n",
    "    TOPMRI,\n",
    "    'TOPMRI',              \n",
    "    SABRE,\n",
    "    'SABRE',\n",
    "    'age',\n",
    "    'gm_vol',\n",
    ")"
   ]
  },
  {
   "cell_type": "code",
   "execution_count": null,
   "id": "e9afc40e-54c0-45cf-98bb-4fac18dc2672",
   "metadata": {
    "tags": []
   },
   "outputs": [],
   "source": [
    "har.show_diff_on_var5(EDIS,\n",
    "    'EDIS',\n",
    "    TOPMRI,\n",
    "    'TOPMRI',   \n",
    "    HELIUS,\n",
    "    'HELIUS',\n",
    "    Insight46,\n",
    "    'Insight46', \n",
    "    SABRE,\n",
    "    'SABRE',\n",
    "    'age',\n",
    "    'gm_vol',\n",
    ")"
   ]
  },
  {
   "cell_type": "code",
   "execution_count": null,
   "id": "fa69594e-322d-4f5d-921b-1d7a7685b7ab",
   "metadata": {},
   "outputs": [],
   "source": []
  }
 ],
 "metadata": {
  "kernelspec": {
   "display_name": "Python 3 (ipykernel)",
   "language": "python",
   "name": "python3"
  },
  "language_info": {
   "codemirror_mode": {
    "name": "ipython",
    "version": 3
   },
   "file_extension": ".py",
   "mimetype": "text/x-python",
   "name": "python",
   "nbconvert_exporter": "python",
   "pygments_lexer": "ipython3",
   "version": "3.11.9"
  }
 },
 "nbformat": 4,
 "nbformat_minor": 5
}
