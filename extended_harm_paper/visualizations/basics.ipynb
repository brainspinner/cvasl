{
 "cells": [
  {
   "cell_type": "markdown",
   "id": "2ae1267c-22e0-4330-bfcc-87967a9d56c5",
   "metadata": {},
   "source": [
    "# Various experimental visualizations"
   ]
  },
  {
   "cell_type": "markdown",
   "id": "df8420ff-434a-4df3-a1a0-91f4e6a8a5a7",
   "metadata": {},
   "source": [
    "## How at baseline do datasets differ, \n",
    "\n",
    "We will use different datasets now for convenience; must be run in graphing_env environment"
   ]
  },
  {
   "cell_type": "code",
   "execution_count": null,
   "id": "5c507261-8565-4c3e-bd33-61f7206590c3",
   "metadata": {
    "tags": []
   },
   "outputs": [],
   "source": [
    "import os       # using operating system dependent functionality (folders)\n",
    "import sys\n",
    "import glob\n",
    "from functools import reduce\n",
    "\n",
    "import pandas as pd # data analysis and manipulation\n",
    "import numpy as np    # numerical computing (manipulating and performing operations on arrays of data)\n",
    "import matplotlib.pyplot as plt\n",
    "import ipywidgets as widgets\n",
    "from ipywidgets import interactive\n",
    "import seaborn as sns\n",
    "from ipywidgets import Layout, Button, Box, FloatText, Textarea, Dropdown, Label, IntSlider\n",
    "\n",
    "sys.path.insert(0, '../../') # path to functions\n",
    "import cvasl.harmony as har"
   ]
  },
  {
   "cell_type": "code",
   "execution_count": null,
   "id": "f5827237-4eca-45cb-b6b9-d27e5f9e2636",
   "metadata": {
    "tags": []
   },
   "outputs": [],
   "source": [
    "# Datasets for this work\n",
    "EDIS_path = '../our_datasets/EDIS/'\n",
    "HELIUS_path = '../our_datasets/HELIUS/'\n",
    "Insight46_path = '../our_datasets/Insight46/'\n",
    "SABRE_path = '../our_datasets/SABRE/'\n",
    "MRI_path = '../our_datasets/StrokeMRI/'\n",
    "TOP_path = '../our_datasets/TOP/'\n",
    "file_name = 'TrainingDataComplete.csv'\n",
    "\n",
    "TOP_file = os.path.join(TOP_path, file_name)\n",
    "MRI_file = os.path.join(MRI_path, file_name)\n",
    "EDIS_file = os.path.join(EDIS_path, file_name)\n",
    "HELIUS_file = os.path.join(HELIUS_path, file_name)\n",
    "Insight46_file = os.path.join(Insight46_path, file_name)\n",
    "SABRE_file = os.path.join(SABRE_path, file_name)\n",
    "\n",
    "EDIS_n = pd.read_csv(EDIS_file, index_col=0)\n",
    "HELIUS_n = pd.read_csv(HELIUS_file, index_col=0)\n",
    "Insight46_n = pd.read_csv(Insight46_file, index_col=0)\n",
    "SABRE_n = pd.read_csv(SABRE_file, index_col=0)\n",
    "TOP_n = pd.read_csv(TOP_file, index_col=0)\n",
    "MRI_n = pd.read_csv(MRI_file, index_col=0)"
   ]
  },
  {
   "cell_type": "code",
   "execution_count": null,
   "id": "af4314f7-38d5-4176-9032-b13d5b02630c",
   "metadata": {
    "tags": []
   },
   "outputs": [],
   "source": [
    "HELIUS = HELIUS_n.drop(['ID', 'Site'], axis=1)\n",
    "Insight46 = Insight46_n.drop(['ID', 'Site'], axis=1)\n",
    "EDIS = EDIS_n.drop(['ID', 'Site'], axis=1)\n",
    "SABRE = SABRE_n.drop(['ID', 'Site'], axis=1)\n",
    "StrokeMRI = MRI_n.drop(['ID', 'Site'], axis=1)\n",
    "TOP = TOP_n.drop(['ID', 'Site'], axis=1)\n",
    "#TOP.head(2)"
   ]
  },
  {
   "cell_type": "code",
   "execution_count": null,
   "id": "67d5aff0-2853-49fb-9ed4-92f94556708f",
   "metadata": {
    "tags": []
   },
   "outputs": [],
   "source": [
    "datasets_names = ['EDIS', 'SABRE', 'Insight46', 'TOP', 'StrokeMRI', 'HELIUS','TOPMRI']"
   ]
  },
  {
   "cell_type": "code",
   "execution_count": null,
   "id": "980a3d17-60ca-439b-9a14-c535788137f8",
   "metadata": {},
   "outputs": [],
   "source": [
    "TOPMRI= pd.concat([TOP, StrokeMRI], sort=False)"
   ]
  },
  {
   "cell_type": "code",
   "execution_count": null,
   "id": "73d261ff-2e01-4e41-ac82-9e09eb1a4f88",
   "metadata": {
    "tags": []
   },
   "outputs": [],
   "source": [
    "TOP.columns = TOP.columns.str.lower() \n",
    "TOPMRI.columns = TOPMRI.columns.str.lower()\n",
    "StrokeMRI.columns = StrokeMRI.columns.str.lower() \n",
    "Insight46.columns = Insight46.columns.str.lower() \n",
    "EDIS.columns = EDIS.columns.str.lower() \n",
    "SABRE.columns= SABRE.columns.str.lower() \n",
    "HELIUS.columns= HELIUS.columns.str.lower() "
   ]
  },
  {
   "cell_type": "code",
   "execution_count": null,
   "id": "6117c0fc-43f0-4522-b6b0-a3df17064e38",
   "metadata": {},
   "outputs": [],
   "source": [
    "features = EDIS.columns\n",
    "features =list(features)"
   ]
  },
  {
   "cell_type": "code",
   "execution_count": null,
   "id": "33a4388e-7f72-4a8e-ad8c-60c6782a3e4d",
   "metadata": {
    "tags": []
   },
   "outputs": [],
   "source": [
    "datasets = [EDIS, SABRE, Insight46, TOP, StrokeMRI, HELIUS, TOPMRI]\n",
    "for qset in datasets:\n",
    "    print(qset.sex.unique())"
   ]
  },
  {
   "cell_type": "code",
   "execution_count": null,
   "id": "1fce5f4d-b0b5-4d3c-92e1-ec7c7f142847",
   "metadata": {
    "tags": []
   },
   "outputs": [],
   "source": [
    "sex_mapping = {1:0,2:1}\n",
    "Insight46 = Insight46.assign(sex = Insight46.sex.map(sex_mapping))\n",
    "EDIS =EDIS.assign(sex = EDIS.sex.map(sex_mapping))\n",
    "SABRE=SABRE.assign(sex = SABRE.sex.map(sex_mapping))"
   ]
  },
  {
   "cell_type": "code",
   "execution_count": null,
   "id": "f09717ad-5e75-45ee-ac67-3efa7683b7c1",
   "metadata": {
    "tags": []
   },
   "outputs": [],
   "source": [
    "# check and rename known repeater in HELIUS and SABRE\n",
    "sabres = set(SABRE.participant_id)\n",
    "heliar = set(HELIUS.participant_id)\n",
    "x = sabres.intersection(heliar)\n",
    "print(x)"
   ]
  },
  {
   "cell_type": "code",
   "execution_count": null,
   "id": "8c3d7efe-6506-47e6-afdf-f70474a816fa",
   "metadata": {
    "tags": []
   },
   "outputs": [],
   "source": [
    "# replace one repeating patient number to seperate it!\n",
    "HELIUS.loc[HELIUS['participant_id']=='sub-153852_1', 'participant_id'] = 'sub-153852_1H'"
   ]
  },
  {
   "cell_type": "code",
   "execution_count": null,
   "id": "3e8fbeda-42fa-4b07-a52e-fd1127a1671f",
   "metadata": {},
   "outputs": [],
   "source": [
    "dataset_dictionary= {\n",
    "    'SABRE':SABRE,\n",
    "    'EDIS':EDIS,\n",
    "    'TOP':TOP,\n",
    "    'HELIUS':HELIUS,\n",
    "    'StrokeMRI':StrokeMRI,\n",
    "    'Insight46':Insight46,\n",
    "    'TOPMRI': TOPMRI\n",
    "    \n",
    "}"
   ]
  },
  {
   "cell_type": "code",
   "execution_count": null,
   "id": "7b7dd828-6e03-48da-804f-239f787f7a64",
   "metadata": {
    "tags": []
   },
   "outputs": [],
   "source": [
    "# made sure no patients repeat now!\n",
    "sabres = set(SABRE.participant_id)\n",
    "heliar = set(HELIUS.participant_id)\n",
    "x = sabres.intersection(heliar)\n",
    "print(x)"
   ]
  },
  {
   "cell_type": "markdown",
   "id": "140b3d03-332b-4c80-9099-1cf1c1a1400a",
   "metadata": {},
   "source": [
    "## Reccomended plotting about excluded data"
   ]
  },
  {
   "cell_type": "markdown",
   "id": "b344ef8e-eadd-4a48-b24f-899cff9886d1",
   "metadata": {},
   "source": [
    "### plotting widgets for any two datasets"
   ]
  },
  {
   "cell_type": "code",
   "execution_count": null,
   "id": "43b20e99-29d8-41d4-9bd9-a7989765ec84",
   "metadata": {
    "tags": []
   },
   "outputs": [],
   "source": [
    "Dataset1 = widgets.Select(\n",
    "    options=datasets_names,\n",
    "    value='EDIS',\n",
    "    description='Dataset 1:',\n",
    "    disabled=False\n",
    ")\n",
    "Dataset2 = widgets.Select(\n",
    "    options=datasets_names,\n",
    "    value='SABRE',\n",
    "    description='Dataset 2:',\n",
    "    disabled=False\n",
    ")\n",
    "Feature1 = widgets.Select(\n",
    "    options=features,\n",
    "    value='age',\n",
    "    description='Feature 1:',\n",
    "    disabled=False\n",
    ")\n",
    "Feature2 = widgets.Select(\n",
    "    options=features,\n",
    "    value='gm_vol',\n",
    "    description='Feature 2:',\n",
    "    disabled=False\n",
    ")\n",
    "label_dataset1 = widgets.Textarea(\n",
    "    value='EDIS',\n",
    "    placeholder='Type something',\n",
    "    description='label dataset1:',\n",
    "    disabled=False\n",
    ")\n",
    "label_dataset2 = widgets.Textarea(\n",
    "    value='SABRE',\n",
    "    placeholder='Type something',\n",
    "    description='String:',\n",
    "    disabled=False\n",
    ")\n",
    "box2 = Box(children=[label_dataset1, label_dataset2])\n",
    "\n",
    "box = Box(children=[Dataset1, Dataset2, Feature1, Feature2])\n",
    "box"
   ]
  },
  {
   "cell_type": "code",
   "execution_count": null,
   "id": "23f95c7e-5402-4021-9455-bf655cfc7627",
   "metadata": {
    "tags": []
   },
   "outputs": [],
   "source": [
    "box2"
   ]
  },
  {
   "cell_type": "code",
   "execution_count": null,
   "id": "30ea6fb9-f457-4d21-824a-e3b92e14c4de",
   "metadata": {
    "tags": []
   },
   "outputs": [],
   "source": [
    "# can not do it on more than one (it on three) and add linear regressions and hues! too bad\n",
    "har.show_diff_on_var(\n",
    "    dataset_dictionary[Dataset1.value],\n",
    "    label_dataset1.value,\n",
    "    dataset_dictionary[Dataset2.value],\n",
    "    label_dataset2.value,\n",
    "    Feature1.value,\n",
    "    Feature2.value)"
   ]
  },
  {
   "cell_type": "code",
   "execution_count": null,
   "id": "9817fc0b-06b4-4bea-b39a-cf18e14b0b86",
   "metadata": {
    "tags": []
   },
   "outputs": [],
   "source": [
    "sns.regplot(x=dataset_dictionary[Dataset1.value][Feature1.value], y=dataset_dictionary[Dataset1.value][Feature2.value], scatter_kws={'alpha':0.2})\n",
    "sns.regplot(x=dataset_dictionary[Dataset2.value][Feature1.value], y=dataset_dictionary[Dataset2.value][Feature2.value], scatter_kws={'alpha':0.2})"
   ]
  },
  {
   "cell_type": "code",
   "execution_count": null,
   "id": "fe7ea75f-4e9a-4e53-bad1-342b85dbcd93",
   "metadata": {
    "tags": []
   },
   "outputs": [],
   "source": [
    "# # can not do it on more than one (it on three) and add linear regressions and hues! too bad\n",
    "# har.show_diff_on_var3(EDIS,\n",
    "#     'EDIS',\n",
    "#     TOPMRI,\n",
    "#     'TOPMRI',              \n",
    "#     SABRE,\n",
    "#     'SABRE',\n",
    "#     'age',\n",
    "#     'gm_vol',\n",
    "# )"
   ]
  },
  {
   "cell_type": "markdown",
   "id": "b68709d8-8d11-4189-85bd-e3f2a2c98b52",
   "metadata": {},
   "source": [
    "# Reccomended plotting about demographics of all datasets"
   ]
  },
  {
   "cell_type": "code",
   "execution_count": null,
   "id": "c029dc1a-578a-439e-af8f-dc542a18ce3d",
   "metadata": {
    "tags": []
   },
   "outputs": [],
   "source": [
    "# here we will pick the features for a joinplot of all datasets\n",
    "Feature1 = widgets.Select(\n",
    "    options=features,\n",
    "    value='age',\n",
    "    description='Feature 1:',\n",
    "    disabled=False\n",
    ")\n",
    "Feature2 = widgets.Select(\n",
    "    options=features,\n",
    "    value='gm_vol',\n",
    "    description='Feature 2:',\n",
    "    disabled=False\n",
    ")\n",
    "box = Box(children=[Feature1, Feature2])\n",
    "box"
   ]
  },
  {
   "cell_type": "code",
   "execution_count": null,
   "id": "e9afc40e-54c0-45cf-98bb-4fac18dc2672",
   "metadata": {
    "tags": []
   },
   "outputs": [],
   "source": [
    "# add a drop down box for the feature\n",
    "har.show_diff_on_var5(EDIS,\n",
    "    'EDIS',\n",
    "    TOPMRI,\n",
    "    'TOPMRI',   \n",
    "    HELIUS,\n",
    "    'HELIUS',\n",
    "    Insight46,\n",
    "    'Insight46', \n",
    "    SABRE,\n",
    "    'SABRE',\n",
    "    Feature1.value,\n",
    "    Feature2.value,\n",
    ")"
   ]
  },
  {
   "cell_type": "code",
   "execution_count": null,
   "id": "74604f3d-934c-4dbc-a6e3-444359adb5bf",
   "metadata": {
    "tags": []
   },
   "outputs": [],
   "source": [
    "sns.regplot(x=HELIUS[Feature1.value], y=HELIUS[Feature2.value], scatter_kws={'alpha':0.1})\n",
    "sns.regplot(x=EDIS[Feature1.value], y=EDIS[Feature2.value], scatter_kws={'alpha':0.1})\n",
    "sns.regplot(x=SABRE[Feature1.value], y=SABRE[Feature2.value], scatter_kws={'alpha':0.1})\n",
    "sns.regplot(x=TOPMRI[Feature1.value], y=TOPMRI[Feature2.value], scatter_kws={'alpha':0.1})\n",
    "sns.regplot(x=Insight46[Feature1.value], y=Insight46[Feature2.value], scatter_kws={'alpha':0.1})\n"
   ]
  },
  {
   "cell_type": "markdown",
   "id": "80402701-277a-4ebb-9ba0-075801d87c4f",
   "metadata": {},
   "source": [
    "OK, now we need some graphs about harmonization...let's build on what we have"
   ]
  },
  {
   "cell_type": "code",
   "execution_count": null,
   "id": "c1551e96-7c96-4706-9de4-de13224d321d",
   "metadata": {
    "tags": []
   },
   "outputs": [],
   "source": [
    "neuro_harm_HELIUS= pd.read_csv('../../extended_harm_paper/harmonizations/harm_results/5neuro_harm_HELIUS.csv', index_col=0)\n",
    "neuro_harm_topmri= pd.read_csv('../../extended_harm_paper/harmonizations/harm_results/5neuro_harm_topmri.csv', index_col=0)\n",
    "neuro_harm_INSI  = pd.read_csv('../../extended_harm_paper/harmonizations/harm_results/5neuro_harm_INSI.csv', index_col=0)\n",
    "neuro_harm_SABRE = pd.read_csv('../../extended_harm_paper/harmonizations/harm_results/5neuro_harm_SABRE.csv', index_col=0)\n",
    "neuro_harm_EDIS  = pd.read_csv('../../extended_harm_paper/harmonizations/harm_results/5neuro_harm_EDIS.csv', index_col=0)"
   ]
  },
  {
   "cell_type": "code",
   "execution_count": null,
   "id": "95a7c11f-9e6f-42c5-9071-90bf8558df67",
   "metadata": {
    "tags": []
   },
   "outputs": [],
   "source": [
    "neuro_harm_HELIUS.columns = neuro_harm_HELIUS.columns.str.lower()\n",
    "neuro_harm_topmri.columns= neuro_harm_topmri.columns.str.lower()\n",
    "neuro_harm_INSI.columns= neuro_harm_INSI.columns.str.lower()\n",
    "neuro_harm_SABRE.columns= neuro_harm_SABRE.columns.str.lower()\n",
    "neuro_harm_EDIS.columns= neuro_harm_EDIS.columns.str.lower()"
   ]
  },
  {
   "cell_type": "code",
   "execution_count": null,
   "id": "f2de6577-fd5c-4da5-8164-8e96cc78d6f0",
   "metadata": {
    "tags": []
   },
   "outputs": [],
   "source": [
    "def general_compare_harm_one_site_violins(\n",
    "        unharmonized_df,\n",
    "        harmonized_df,\n",
    "        feature_list,\n",
    "        chosen_feature=\"sex\"\n",
    "):\n",
    "    \"\"\"\n",
    "    Create a violin plot on single site harmonization by features,\n",
    "    split on a binary feature of choice which defaults to sex.\n",
    "    \"\"\"\n",
    "    for feat in feature_list:\n",
    "        unharmonized_df['harmonization']= 'No'\n",
    "        harmonized_df['harmonization']= 'Yes'\n",
    "        complete_merg = pd.concat(\n",
    "            [unharmonized_df, harmonized_df]).reset_index(drop=True)\n",
    "        complete_merg[feat] = complete_merg[feat].astype('float64')\n",
    "        sns.set_style(\"whitegrid\")\n",
    "        y_axis = feat\n",
    "        g = sns.catplot(\n",
    "            data=complete_merg,\n",
    "            x='harmonization', y=y_axis, hue=chosen_feature,\n",
    "            split=True, inner='quartile', kind='violin',\n",
    "            height=5, aspect=0.6, palette=['pink', 'blue'], alpha=0.4)\n",
    "\n",
    "        lowest_on_graph = complete_merg[y_axis].min() - 0.5\n",
    "        plt.ylim((lowest_on_graph, complete_merg[y_axis].max() * 1.5))\n",
    "        plt.title(feat)\n",
    "        plt.show()"
   ]
  },
  {
   "cell_type": "code",
   "execution_count": null,
   "id": "4121bf06-bd06-4b1a-977a-319c090bd69a",
   "metadata": {
    "tags": []
   },
   "outputs": [],
   "source": [
    "general_compare_harm_one_site_violins(\n",
    "        HELIUS,\n",
    "        neuro_harm_HELIUS,\n",
    "        ['gm_vol'],\n",
    "        chosen_feature=\"sex\"\n",
    ")"
   ]
  },
  {
   "cell_type": "code",
   "execution_count": null,
   "id": "d32aaaa6-c14e-411e-b393-4de200ad238f",
   "metadata": {
    "tags": []
   },
   "outputs": [],
   "source": [
    "### There is better code in R. to be added..."
   ]
  },
  {
   "cell_type": "code",
   "execution_count": null,
   "id": "258167a7-14ef-465d-b1e2-d54c44808c1d",
   "metadata": {
    "tags": []
   },
   "outputs": [],
   "source": []
  },
  {
   "cell_type": "code",
   "execution_count": null,
   "id": "db6b2f7d-34f6-4d64-ba60-841e01f308d0",
   "metadata": {},
   "outputs": [],
   "source": []
  },
  {
   "cell_type": "code",
   "execution_count": null,
   "id": "a801f03c-4f0e-40da-aff3-622ac1c8ab1d",
   "metadata": {},
   "outputs": [],
   "source": []
  }
 ],
 "metadata": {
  "kernelspec": {
   "display_name": "Python 3 (ipykernel)",
   "language": "python",
   "name": "python3"
  },
  "language_info": {
   "codemirror_mode": {
    "name": "ipython",
    "version": 3
   },
   "file_extension": ".py",
   "mimetype": "text/x-python",
   "name": "python",
   "nbconvert_exporter": "python",
   "pygments_lexer": "ipython3",
   "version": "3.11.9"
  }
 },
 "nbformat": 4,
 "nbformat_minor": 5
}
