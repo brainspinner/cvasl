{
 "cells": [
  {
   "cell_type": "markdown",
   "id": "2ae1267c-22e0-4330-bfcc-87967a9d56c5",
   "metadata": {},
   "source": [
    "# Various experimental visualizations"
   ]
  },
  {
   "cell_type": "markdown",
   "id": "df8420ff-434a-4df3-a1a0-91f4e6a8a5a7",
   "metadata": {},
   "source": [
    "## How at baseline do datasets differ, \n",
    "\n",
    "We will use different datasets now for convenience"
   ]
  },
  {
   "cell_type": "code",
   "execution_count": null,
   "id": "5c507261-8565-4c3e-bd33-61f7206590c3",
   "metadata": {
    "tags": []
   },
   "outputs": [],
   "source": [
    "import os       # using operating system dependent functionality (folders)\n",
    "import sys\n",
    "import glob\n",
    "from functools import reduce\n",
    "\n",
    "import pandas as pd # data analysis and manipulation\n",
    "import numpy as np    # numerical computing (manipulating and performing operations on arrays of data)\n",
    "import matplotlib.pyplot as plt\n",
    "import ipywidgets as widgets\n",
    "from ipywidgets import interactive\n",
    "import seaborn as sns\n",
    "\n",
    "sys.path.insert(0, '../../') # path to functions\n",
    "import cvasl.seperated as sep\n",
    "from cvasl.file_handler import Config\n",
    "import cvasl.harmony as har"
   ]
  },
  {
   "cell_type": "code",
   "execution_count": null,
   "id": "f5827237-4eca-45cb-b6b9-d27e5f9e2636",
   "metadata": {
    "tags": []
   },
   "outputs": [],
   "source": [
    "# Datasets for this work\n",
    "EDIS_path = '../our_datasets/EDIS/'\n",
    "HELIUS_path = '../our_datasets/HELIUS/'\n",
    "Insight46_path = '../our_datasets/Insight46/'\n",
    "SABRE_path = '../our_datasets/SABRE/'\n",
    "MRI_path = '../our_datasets/StrokeMRI/'\n",
    "TOP_path = '../our_datasets/TOP/'\n",
    "file_name = 'TrainingDataComplete.csv'\n",
    "\n",
    "TOP_file = os.path.join(TOP_path, file_name)\n",
    "MRI_file = os.path.join(MRI_path, file_name)\n",
    "EDIS_file = os.path.join(EDIS_path, file_name)\n",
    "HELIUS_file = os.path.join(HELIUS_path, file_name)\n",
    "Insight46_file = os.path.join(Insight46_path, file_name)\n",
    "SABRE_file = os.path.join(SABRE_path, file_name)\n",
    "\n",
    "EDIS_n = pd.read_csv(EDIS_file, index_col=0)\n",
    "HELIUS_n = pd.read_csv(HELIUS_file, index_col=0)\n",
    "Insight46_n = pd.read_csv(Insight46_file, index_col=0)\n",
    "SABRE_n = pd.read_csv(SABRE_file, index_col=0)\n",
    "TOP_n = pd.read_csv(TOP_file, index_col=0)\n",
    "MRI_n = pd.read_csv(MRI_file, index_col=0)"
   ]
  },
  {
   "cell_type": "code",
   "execution_count": null,
   "id": "af4314f7-38d5-4176-9032-b13d5b02630c",
   "metadata": {
    "tags": []
   },
   "outputs": [],
   "source": [
    "HELIUS = HELIUS_n.drop(['ID', 'Site'], axis=1)\n",
    "Insight46 = Insight46_n.drop(['ID', 'Site'], axis=1)\n",
    "EDIS = EDIS_n.drop(['ID', 'Site'], axis=1)\n",
    "SABRE = SABRE_n.drop(['ID', 'Site'], axis=1)\n",
    "StrokeMRI = MRI_n.drop(['ID', 'Site'], axis=1)"
   ]
  },
  {
   "cell_type": "code",
   "execution_count": null,
   "id": "4d42e94d-5c2e-4a3c-8193-55ba3fb23f6b",
   "metadata": {
    "tags": []
   },
   "outputs": [],
   "source": []
  },
  {
   "cell_type": "code",
   "execution_count": null,
   "id": "a6dd9101-504b-49f9-981d-d32f94ecbf61",
   "metadata": {
    "tags": []
   },
   "outputs": [],
   "source": [
    "TOP = TOP_n.drop(['ID', 'Site'], axis=1)\n",
    "TOP.head(2)"
   ]
  },
  {
   "cell_type": "code",
   "execution_count": null,
   "id": "ee6b132a-7d0b-4384-86e6-15747ec7b502",
   "metadata": {
    "tags": []
   },
   "outputs": [],
   "source": [
    "TOP.columns"
   ]
  },
  {
   "cell_type": "code",
   "execution_count": null,
   "id": "8aebfadf-cfbc-4272-8abf-f98ff6bd4849",
   "metadata": {
    "tags": []
   },
   "outputs": [],
   "source": [
    "HELIUS.head(3)"
   ]
  },
  {
   "cell_type": "code",
   "execution_count": null,
   "id": "73d261ff-2e01-4e41-ac82-9e09eb1a4f88",
   "metadata": {
    "tags": []
   },
   "outputs": [],
   "source": [
    "TOP.columns = TOP.columns.str.lower() \n",
    "StrokeMRI.columns = StrokeMRI.columns.str.lower() \n",
    "Insight46.columns = Insight46.columns.str.lower() \n",
    "EDIS.columns = EDIS.columns.str.lower() \n",
    "SABRE.columns= SABRE.columns.str.lower() \n",
    "HELIUS.columns= HELIUS.columns.str.lower() "
   ]
  },
  {
   "cell_type": "code",
   "execution_count": null,
   "id": "583a2b92-4474-4d08-addc-b876d201ab57",
   "metadata": {
    "tags": []
   },
   "outputs": [],
   "source": [
    "EDIS.columns"
   ]
  },
  {
   "cell_type": "code",
   "execution_count": null,
   "id": "33a4388e-7f72-4a8e-ad8c-60c6782a3e4d",
   "metadata": {
    "tags": []
   },
   "outputs": [],
   "source": [
    "datasets = [EDIS, SABRE, Insight46, TOP, StrokeMRI, HELIUS]\n",
    "for qset in datasets:\n",
    "    print(qset.sex.unique())"
   ]
  },
  {
   "cell_type": "code",
   "execution_count": null,
   "id": "1fce5f4d-b0b5-4d3c-92e1-ec7c7f142847",
   "metadata": {
    "tags": []
   },
   "outputs": [],
   "source": [
    "sex_mapping = {1:0,2:1}\n",
    "Insight46 = Insight46.assign(sex = Insight46.sex.map(sex_mapping))\n",
    "EDIS =EDIS.assign(sex = EDIS.sex.map(sex_mapping))\n",
    "SABRE=SABRE.assign(sex = SABRE.sex.map(sex_mapping))"
   ]
  },
  {
   "cell_type": "code",
   "execution_count": null,
   "id": "f09717ad-5e75-45ee-ac67-3efa7683b7c1",
   "metadata": {
    "tags": []
   },
   "outputs": [],
   "source": [
    "# check and rename known repeater in HELIUS and SABRE\n",
    "sabres = set(SABRE.participant_id)\n",
    "heliar = set(HELIUS.participant_id)\n",
    "x = sabres.intersection(heliar)\n",
    "print(x)"
   ]
  },
  {
   "cell_type": "code",
   "execution_count": null,
   "id": "3e8fbeda-42fa-4b07-a52e-fd1127a1671f",
   "metadata": {},
   "outputs": [],
   "source": []
  },
  {
   "cell_type": "code",
   "execution_count": null,
   "id": "8c3d7efe-6506-47e6-afdf-f70474a816fa",
   "metadata": {
    "tags": []
   },
   "outputs": [],
   "source": [
    "HELIUS.loc[HELIUS['participant_id']=='sub-153852_1', 'participant_id'] = 'sub-153852_1H'"
   ]
  },
  {
   "cell_type": "code",
   "execution_count": null,
   "id": "7b7dd828-6e03-48da-804f-239f787f7a64",
   "metadata": {
    "tags": []
   },
   "outputs": [],
   "source": [
    "sabres = set(SABRE.participant_id)\n",
    "heliar = set(HELIUS.participant_id)\n",
    "x = sabres.intersection(heliar)\n",
    "print(x)"
   ]
  },
  {
   "cell_type": "code",
   "execution_count": null,
   "id": "358cbe94-39ff-40b9-af81-b90348bed4d1",
   "metadata": {
    "tags": []
   },
   "outputs": [],
   "source": [
    "# make mixed StrokeMRI and TOP dataset\n",
    "mixed_data = pd.concat([TOP, StrokeMRI], sort=False)"
   ]
  },
  {
   "cell_type": "code",
   "execution_count": null,
   "id": "fa47dac5-99fd-4ae3-b23f-ee442baa1fa1",
   "metadata": {
    "tags": []
   },
   "outputs": [],
   "source": [
    "mixed_data.age.hist(ls='dashed', lw=3, fc=(0, 0, 1, 0.5)) # blue as in RGB\n",
    "#TOP.age.hist(ls='dotted', lw=3, fc=(1, 0, 0, 0.3))\n",
    "Insight46.age.hist(ls='dotted', lw=3, fc=(0, 1, 0, 0.3))\n",
    "EDIS.age.hist(ls='dotted', lw=3, fc=(1, 0, 0, 0.3))"
   ]
  },
  {
   "cell_type": "code",
   "execution_count": null,
   "id": "6c796345-81c7-415b-8969-2243c0f4ac23",
   "metadata": {
    "tags": []
   },
   "outputs": [],
   "source": [
    "plt.scatter(mixed_data['age'], mixed_data['gm_vol'], alpha=0.2 )\n",
    "plt.scatter(SABRE['age'], SABRE['gm_vol'],alpha=0.2 )\n",
    "plt.scatter(Insight46['age'], Insight46['gm_vol'],alpha=0.2 )"
   ]
  },
  {
   "cell_type": "code",
   "execution_count": null,
   "id": "8624a9ae-12b4-486a-a00c-aa2632cd1959",
   "metadata": {
    "tags": []
   },
   "outputs": [],
   "source": [
    "mixed_data.columns"
   ]
  },
  {
   "cell_type": "code",
   "execution_count": null,
   "id": "e54102ad-9178-4de9-94ec-644c6d635df3",
   "metadata": {
    "tags": []
   },
   "outputs": [],
   "source": [
    "numeric_columns = [ 'age', 'sex', 'gm_vol', 'wm_vol', 'csf_vol',\n",
    "       'gm_icvratio', 'gmwm_icvratio', 'wmhvol_wmvol', 'wmh_count',\n",
    "       'aca_b_cov', 'mca_b_cov', 'pca_b_cov', 'totalgm_b_cov', 'aca_b_cbf',\n",
    "       'mca_b_cbf', 'pca_b_cbf', 'totalgm_b_cbf']\n",
    "len(numeric_columns)"
   ]
  },
  {
   "cell_type": "code",
   "execution_count": null,
   "id": "7c1c1b5e-294f-4f2f-b163-b92a3a7129f6",
   "metadata": {
    "tags": []
   },
   "outputs": [],
   "source": [
    "mixed_data_np= mixed_data[numeric_columns]"
   ]
  },
  {
   "cell_type": "markdown",
   "id": "140b3d03-332b-4c80-9099-1cf1c1a1400a",
   "metadata": {},
   "source": [
    "## Reccomend joinplot for excluded data"
   ]
  },
  {
   "cell_type": "code",
   "execution_count": null,
   "id": "3b8962c3-d727-48b2-8137-71e8383efdf9",
   "metadata": {
    "tags": []
   },
   "outputs": [],
   "source": [
    "plt.scatter(mixed_data['age'], mixed_data['gm_vol'],\n",
    "            alpha=0.4, edgecolors='w')\n",
    "\n",
    "plt.xlabel('Age')\n",
    "plt.ylabel('GM VOL')\n",
    "plt.title('Example graph for excluded data',y=1.05)\n",
    "\n",
    "\n",
    "# Joint Plot\n",
    "jp = sns.jointplot( data = mixed_data, x='age', y='gm_vol',\n",
    "                   kind='reg', space=0, size=5, ratio=4)"
   ]
  },
  {
   "cell_type": "code",
   "execution_count": null,
   "id": "22917f8c-8e8a-45e8-9f57-b851789f6917",
   "metadata": {
    "tags": []
   },
   "outputs": [],
   "source": [
    "mixed_data[numeric_columns].hist(bins=15, color='steelblue', edgecolor='black', linewidth=1.0,\n",
    "           xlabelsize=8, ylabelsize=8, grid=False)    \n",
    "plt.tight_layout(rect=(0, 0, 1.2, 1.2))   "
   ]
  },
  {
   "cell_type": "code",
   "execution_count": null,
   "id": "16d6d41b-21c0-4713-8be3-0590a100a1bc",
   "metadata": {
    "tags": []
   },
   "outputs": [],
   "source": [
    "## Harmonized outputs plotting"
   ]
  },
  {
   "cell_type": "code",
   "execution_count": null,
   "id": "5c9972a7-8128-4576-99cd-a8a46fc6858d",
   "metadata": {},
   "outputs": [],
   "source": []
  }
 ],
 "metadata": {
  "kernelspec": {
   "display_name": "Python 3 (ipykernel)",
   "language": "python",
   "name": "python3"
  },
  "language_info": {
   "codemirror_mode": {
    "name": "ipython",
    "version": 3
   },
   "file_extension": ".py",
   "mimetype": "text/x-python",
   "name": "python",
   "nbconvert_exporter": "python",
   "pygments_lexer": "ipython3",
   "version": "3.9.18"
  }
 },
 "nbformat": 4,
 "nbformat_minor": 5
}
