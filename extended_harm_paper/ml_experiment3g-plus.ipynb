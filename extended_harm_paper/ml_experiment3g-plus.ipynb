{
 "cells": [
  {
   "cell_type": "markdown",
   "id": "e8edc98e-5785-4d1c-baed-02bfc4721f60",
   "metadata": {},
   "source": [
    "# ML testing: experiment #3g- harmonized with ComBat++\n",
    "\n",
    "This notebook involves testing for the clinical harmonization paper. This notebook shows mixed_dataset (TOP + StrokeMRI) based models with ComBat++ harmonization to Insight 46 and Sabre datasets (the strokeMRI and TOP become one dataset)"
   ]
  },
  {
   "cell_type": "markdown",
   "id": "c1b6df2b-bbfc-4ac4-b7fd-edc6f86f76ff",
   "metadata": {},
   "source": [
    "Data: StrokeMRI, TOP, SABRE, Insight46, EDIS, (HELIUS pending)\n",
    "\n",
    "Harmonisation: Combat++\n",
    "\n",
    "Training data: Norment whichh is StrokeMRI and TOP togehter\n",
    "\n",
    "Testing data: test set from Norment\n",
    "\n",
    "Futher data applied to: SABRE, Insight46, EDIS, (HELIUS pending)\n",
    "\n",
    "Validation method: K-fold, double-stratified\n",
    "\n",
    "Brain-age algorithms: LR, lasso, extra trees, elasticCV net fully tested (but not optimized parameters), additionals partly\n",
    "\n",
    "Outputs: SubjectID, real age, predicted age of validation and testing sets"
   ]
  },
  {
   "cell_type": "markdown",
   "id": "be45db67-b24a-409e-bb35-ca468a779ec2",
   "metadata": {
    "tags": []
   },
   "source": [
    "### import libraries"
   ]
  },
  {
   "cell_type": "code",
   "execution_count": 150,
   "id": "514ef9ea-48df-4f68-b440-77ee12cddefe",
   "metadata": {
    "tags": []
   },
   "outputs": [],
   "source": [
    "import os       # using operating system dependent functionality (folders)\n",
    "import sys\n",
    "\n",
    "import glob\n",
    "from functools import reduce\n",
    "\n",
    "import pandas as pd # data analysis and manipulation\n",
    "import numpy as np    # numerical computing (manipulating and performing operations on arrays of data)\n",
    "import matplotlib.pyplot as plt\n",
    "\n",
    "# # demo stuff\n",
    "# import ipywidgets as widgets\n",
    "# import seaborn \n",
    "\n",
    "# ml stuff\n",
    "from sklearn.model_selection import train_test_split\n",
    "from sklearn.preprocessing import StandardScaler\n",
    "#from sklearn.svm import SVC\n",
    "from sklearn.metrics import accuracy_score\n",
    "#from sklearn.linear_model import LogisticRegression\n",
    "from sklearn.linear_model import LinearRegression\n",
    "from sklearn import linear_model\n",
    "from sklearn import tree\n",
    "from sklearn import metrics\n",
    "from sklearn.linear_model import SGDRegressor\n",
    "from sklearn.metrics import confusion_matrix\n",
    "from sklearn.metrics import mean_absolute_error\n",
    "from sklearn.neighbors import KNeighborsClassifier\n",
    "from sklearn.svm import SVR\n",
    "from sklearn.neural_network import MLPRegressor\n",
    "from sklearn.linear_model import ElasticNetCV\n",
    "from sklearn.ensemble import ExtraTreesRegressor\n",
    "from sklearn.model_selection import StratifiedShuffleSplit\n",
    "from sklearn.model_selection import cross_val_score\n",
    "\n",
    "import joblib\n",
    "\n",
    "sys.path.insert(0, '../') # path to functions\n",
    "import cvasl.seperated as sep\n",
    "from cvasl.file_handler import Config"
   ]
  },
  {
   "cell_type": "markdown",
   "id": "b0e7da24-0537-44b4-85fb-e69c68c5ec9a",
   "metadata": {
    "tags": []
   },
   "source": [
    "### import data"
   ]
  },
  {
   "cell_type": "code",
   "execution_count": 151,
   "id": "e3af5181-2b5e-4514-87c0-b8df9924b7da",
   "metadata": {
    "tags": []
   },
   "outputs": [],
   "source": [
    "filepath_mri_for_ids = os.path.join('/home/radv/mdijsselhof/my-scratch/CBAdatasets/eScience/','our_datasets/StrokeMRI/' )\n",
    "filename_mri_for_ids = os.path.join(filepath_mri_for_ids,'TrainingDataComplete.csv') \n",
    "\n",
    "filepath_top_for_ids = os.path.join('/home/radv/mdijsselhof/my-scratch/CBAdatasets/eScience/','our_datasets/TOP/')\n",
    "filename_top_for_ids = os.path.join(filepath_top_for_ids,'TrainingDataComplete.csv') \n",
    "\n",
    "\n",
    "filepath_topmri = 'harmonizations/harm_results/plus/' \n",
    "filename_topmri = os.path.join(filepath_topmri,'plus_harmonized5_topmri.csv') \n",
    "\n",
    "filepath_sabre = 'harmonizations/harm_results/plus/'\n",
    "filename_sabre = os.path.join(filepath_topmri,'plus_harmonized5_sabre.csv') \n",
    "\n",
    "filepath_edis = 'harmonizations/harm_results/plus/'\n",
    "filename_edis = os.path.join(filepath_topmri,'plus_harmonized5_edis.csv') \n",
    "\n",
    "filepath_helius = 'harmonizations/harm_results/plus/'\n",
    "filename_helius = os.path.join(filepath_topmri,'plus_harmonized5_helius.csv') \n",
    "\n",
    "filepath_insight46 = 'harmonizations/harm_results/plus/'\n",
    "filename_insight46 =  os.path.join(filepath_topmri,'plus_harmonized5_insight.csv') \n",
    "\n",
    "\n",
    "\n",
    "# read in data\n",
    "\n",
    "TOPMRI = pd.read_csv(filename_topmri, index_col=0)\n",
    "SABRE = pd.read_csv(filename_sabre, index_col=0)\n",
    "Insight46 = pd.read_csv(filename_insight46, index_col=0)\n",
    "EDIS=  pd.read_csv(filename_edis, index_col=0)\n",
    "HELIUS =  pd.read_csv(filename_helius, index_col=0)"
   ]
  },
  {
   "cell_type": "code",
   "execution_count": 152,
   "id": "af90266f-856a-4b7f-8cb0-3ba486f61826",
   "metadata": {
    "tags": []
   },
   "outputs": [],
   "source": [
    "datasets = [\n",
    "    TOPMRI,\n",
    "    SABRE,\n",
    "    Insight46,\n",
    "    EDIS,\n",
    "    HELIUS,\n",
    "]\n",
    "for data in datasets:\n",
    "    data.columns = data.columns.str.lower()\n",
    "\n",
    "TOPMRI = TOPMRI.drop(['id', 'site'], axis=1)\n",
    "SABRE= SABRE.drop(['id', 'site'], axis=1)\n",
    "Insight46= Insight46.drop(['id', 'site'], axis=1)\n",
    "EDIS= EDIS.drop(['id', 'site'], axis=1)\n",
    "HELIUS = HELIUS.drop(['id', 'site'], axis=1)"
   ]
  },
  {
   "cell_type": "code",
   "execution_count": 153,
   "id": "7f7294fb-a579-42f4-9ba1-8913334d02cd",
   "metadata": {
    "tags": []
   },
   "outputs": [
    {
     "data": {
      "text/html": [
       "<div>\n",
       "<style scoped>\n",
       "    .dataframe tbody tr th:only-of-type {\n",
       "        vertical-align: middle;\n",
       "    }\n",
       "\n",
       "    .dataframe tbody tr th {\n",
       "        vertical-align: top;\n",
       "    }\n",
       "\n",
       "    .dataframe thead th {\n",
       "        text-align: right;\n",
       "    }\n",
       "</style>\n",
       "<table border=\"1\" class=\"dataframe\">\n",
       "  <thead>\n",
       "    <tr style=\"text-align: right;\">\n",
       "      <th></th>\n",
       "      <th>participant_id</th>\n",
       "      <th>age</th>\n",
       "      <th>sex</th>\n",
       "      <th>gm_vol</th>\n",
       "      <th>wm_vol</th>\n",
       "      <th>csf_vol</th>\n",
       "      <th>gm_icvratio</th>\n",
       "      <th>gmwm_icvratio</th>\n",
       "      <th>wmhvol_wmvol</th>\n",
       "      <th>wmh_count</th>\n",
       "      <th>deepwm_b_cov</th>\n",
       "      <th>aca_b_cov</th>\n",
       "      <th>mca_b_cov</th>\n",
       "      <th>pca_b_cov</th>\n",
       "      <th>totalgm_b_cov</th>\n",
       "      <th>deepwm_b_cbf</th>\n",
       "      <th>aca_b_cbf</th>\n",
       "      <th>mca_b_cbf</th>\n",
       "      <th>pca_b_cbf</th>\n",
       "      <th>totalgm_b_cbf</th>\n",
       "    </tr>\n",
       "  </thead>\n",
       "  <tbody>\n",
       "    <tr>\n",
       "      <th>1</th>\n",
       "      <td>sub-0668_1</td>\n",
       "      <td>50.400000</td>\n",
       "      <td>1</td>\n",
       "      <td>0.641295</td>\n",
       "      <td>0.495326</td>\n",
       "      <td>0.267765</td>\n",
       "      <td>0.456277</td>\n",
       "      <td>0.812151</td>\n",
       "      <td>-0.003504</td>\n",
       "      <td>14.095155</td>\n",
       "      <td>1.307450</td>\n",
       "      <td>0.298414</td>\n",
       "      <td>0.383769</td>\n",
       "      <td>0.766132</td>\n",
       "      <td>0.626313</td>\n",
       "      <td>17.897126</td>\n",
       "      <td>84.305987</td>\n",
       "      <td>77.900374</td>\n",
       "      <td>53.169370</td>\n",
       "      <td>68.612307</td>\n",
       "    </tr>\n",
       "    <tr>\n",
       "      <th>2</th>\n",
       "      <td>sub-0532_1</td>\n",
       "      <td>37.020000</td>\n",
       "      <td>1</td>\n",
       "      <td>0.717819</td>\n",
       "      <td>0.604665</td>\n",
       "      <td>0.326666</td>\n",
       "      <td>0.432841</td>\n",
       "      <td>0.803615</td>\n",
       "      <td>-0.004214</td>\n",
       "      <td>20.980256</td>\n",
       "      <td>0.107729</td>\n",
       "      <td>0.391102</td>\n",
       "      <td>0.721035</td>\n",
       "      <td>0.505814</td>\n",
       "      <td>0.611645</td>\n",
       "      <td>17.180514</td>\n",
       "      <td>95.715073</td>\n",
       "      <td>87.690683</td>\n",
       "      <td>63.897942</td>\n",
       "      <td>76.855858</td>\n",
       "    </tr>\n",
       "    <tr>\n",
       "      <th>3</th>\n",
       "      <td>sub-0529_1</td>\n",
       "      <td>30.570000</td>\n",
       "      <td>1</td>\n",
       "      <td>0.664766</td>\n",
       "      <td>0.469301</td>\n",
       "      <td>0.297046</td>\n",
       "      <td>0.466218</td>\n",
       "      <td>0.788410</td>\n",
       "      <td>-0.000441</td>\n",
       "      <td>16.839277</td>\n",
       "      <td>-0.038462</td>\n",
       "      <td>0.675109</td>\n",
       "      <td>0.429992</td>\n",
       "      <td>0.418169</td>\n",
       "      <td>0.468490</td>\n",
       "      <td>19.038816</td>\n",
       "      <td>103.575974</td>\n",
       "      <td>97.644834</td>\n",
       "      <td>68.868748</td>\n",
       "      <td>84.178769</td>\n",
       "    </tr>\n",
       "    <tr>\n",
       "      <th>4</th>\n",
       "      <td>sub-0393_1</td>\n",
       "      <td>47.050000</td>\n",
       "      <td>1</td>\n",
       "      <td>0.652443</td>\n",
       "      <td>0.514877</td>\n",
       "      <td>0.221586</td>\n",
       "      <td>0.468642</td>\n",
       "      <td>0.845659</td>\n",
       "      <td>-0.000756</td>\n",
       "      <td>23.934273</td>\n",
       "      <td>0.889728</td>\n",
       "      <td>0.405073</td>\n",
       "      <td>0.598978</td>\n",
       "      <td>0.409987</td>\n",
       "      <td>0.645396</td>\n",
       "      <td>19.807745</td>\n",
       "      <td>86.763994</td>\n",
       "      <td>78.039526</td>\n",
       "      <td>57.132865</td>\n",
       "      <td>70.239474</td>\n",
       "    </tr>\n",
       "    <tr>\n",
       "      <th>5</th>\n",
       "      <td>sub-0593_1</td>\n",
       "      <td>44.630000</td>\n",
       "      <td>1</td>\n",
       "      <td>0.660608</td>\n",
       "      <td>0.498725</td>\n",
       "      <td>0.283818</td>\n",
       "      <td>0.457973</td>\n",
       "      <td>0.804583</td>\n",
       "      <td>-0.001428</td>\n",
       "      <td>32.663858</td>\n",
       "      <td>0.316437</td>\n",
       "      <td>0.487874</td>\n",
       "      <td>0.223292</td>\n",
       "      <td>0.392470</td>\n",
       "      <td>0.255708</td>\n",
       "      <td>17.036103</td>\n",
       "      <td>76.528153</td>\n",
       "      <td>74.119399</td>\n",
       "      <td>63.811988</td>\n",
       "      <td>67.523163</td>\n",
       "    </tr>\n",
       "    <tr>\n",
       "      <th>...</th>\n",
       "      <td>...</td>\n",
       "      <td>...</td>\n",
       "      <td>...</td>\n",
       "      <td>...</td>\n",
       "      <td>...</td>\n",
       "      <td>...</td>\n",
       "      <td>...</td>\n",
       "      <td>...</td>\n",
       "      <td>...</td>\n",
       "      <td>...</td>\n",
       "      <td>...</td>\n",
       "      <td>...</td>\n",
       "      <td>...</td>\n",
       "      <td>...</td>\n",
       "      <td>...</td>\n",
       "      <td>...</td>\n",
       "      <td>...</td>\n",
       "      <td>...</td>\n",
       "      <td>...</td>\n",
       "      <td>...</td>\n",
       "    </tr>\n",
       "    <tr>\n",
       "      <th>1103</th>\n",
       "      <td>sub-5928501_1</td>\n",
       "      <td>67.178082</td>\n",
       "      <td>1</td>\n",
       "      <td>0.569080</td>\n",
       "      <td>0.459421</td>\n",
       "      <td>0.331738</td>\n",
       "      <td>0.417177</td>\n",
       "      <td>0.756094</td>\n",
       "      <td>0.005316</td>\n",
       "      <td>26.593239</td>\n",
       "      <td>2.450828</td>\n",
       "      <td>0.212169</td>\n",
       "      <td>0.216974</td>\n",
       "      <td>0.579333</td>\n",
       "      <td>0.597770</td>\n",
       "      <td>17.573698</td>\n",
       "      <td>64.541612</td>\n",
       "      <td>56.398009</td>\n",
       "      <td>36.994968</td>\n",
       "      <td>45.879171</td>\n",
       "    </tr>\n",
       "    <tr>\n",
       "      <th>1104</th>\n",
       "      <td>sub-5910502_1</td>\n",
       "      <td>67.794521</td>\n",
       "      <td>1</td>\n",
       "      <td>0.563406</td>\n",
       "      <td>0.455411</td>\n",
       "      <td>0.349609</td>\n",
       "      <td>0.410541</td>\n",
       "      <td>0.743386</td>\n",
       "      <td>-0.002700</td>\n",
       "      <td>28.739947</td>\n",
       "      <td>2.134161</td>\n",
       "      <td>0.344434</td>\n",
       "      <td>0.448625</td>\n",
       "      <td>0.662398</td>\n",
       "      <td>0.524295</td>\n",
       "      <td>15.803213</td>\n",
       "      <td>61.631364</td>\n",
       "      <td>56.238856</td>\n",
       "      <td>47.714656</td>\n",
       "      <td>49.731201</td>\n",
       "    </tr>\n",
       "    <tr>\n",
       "      <th>1105</th>\n",
       "      <td>sub-5931002_1</td>\n",
       "      <td>54.769863</td>\n",
       "      <td>0</td>\n",
       "      <td>0.667830</td>\n",
       "      <td>0.571669</td>\n",
       "      <td>0.426031</td>\n",
       "      <td>0.398485</td>\n",
       "      <td>0.742887</td>\n",
       "      <td>0.007069</td>\n",
       "      <td>37.467708</td>\n",
       "      <td>1.728236</td>\n",
       "      <td>1.151203</td>\n",
       "      <td>0.914687</td>\n",
       "      <td>0.770296</td>\n",
       "      <td>0.869043</td>\n",
       "      <td>17.149113</td>\n",
       "      <td>61.355881</td>\n",
       "      <td>54.057235</td>\n",
       "      <td>40.778592</td>\n",
       "      <td>49.074896</td>\n",
       "    </tr>\n",
       "    <tr>\n",
       "      <th>1106</th>\n",
       "      <td>sub-5925701_1</td>\n",
       "      <td>66.639344</td>\n",
       "      <td>1</td>\n",
       "      <td>0.582834</td>\n",
       "      <td>0.486575</td>\n",
       "      <td>0.352920</td>\n",
       "      <td>0.408098</td>\n",
       "      <td>0.752543</td>\n",
       "      <td>0.002577</td>\n",
       "      <td>26.608980</td>\n",
       "      <td>2.786829</td>\n",
       "      <td>0.163598</td>\n",
       "      <td>1.104606</td>\n",
       "      <td>1.123917</td>\n",
       "      <td>1.018356</td>\n",
       "      <td>16.129733</td>\n",
       "      <td>51.182443</td>\n",
       "      <td>53.649762</td>\n",
       "      <td>34.115713</td>\n",
       "      <td>41.587339</td>\n",
       "    </tr>\n",
       "    <tr>\n",
       "      <th>1107</th>\n",
       "      <td>sub-5934201_1</td>\n",
       "      <td>45.336986</td>\n",
       "      <td>1</td>\n",
       "      <td>0.624696</td>\n",
       "      <td>0.459498</td>\n",
       "      <td>0.308476</td>\n",
       "      <td>0.449323</td>\n",
       "      <td>0.776041</td>\n",
       "      <td>-0.002622</td>\n",
       "      <td>9.913650</td>\n",
       "      <td>0.924308</td>\n",
       "      <td>0.232432</td>\n",
       "      <td>0.275573</td>\n",
       "      <td>0.409435</td>\n",
       "      <td>0.213777</td>\n",
       "      <td>17.756544</td>\n",
       "      <td>91.729659</td>\n",
       "      <td>81.583569</td>\n",
       "      <td>71.903589</td>\n",
       "      <td>78.020853</td>\n",
       "    </tr>\n",
       "  </tbody>\n",
       "</table>\n",
       "<p>1107 rows × 20 columns</p>\n",
       "</div>"
      ],
      "text/plain": [
       "     participant_id        age  sex    gm_vol    wm_vol   csf_vol  \\\n",
       "1        sub-0668_1  50.400000    1  0.641295  0.495326  0.267765   \n",
       "2        sub-0532_1  37.020000    1  0.717819  0.604665  0.326666   \n",
       "3        sub-0529_1  30.570000    1  0.664766  0.469301  0.297046   \n",
       "4        sub-0393_1  47.050000    1  0.652443  0.514877  0.221586   \n",
       "5        sub-0593_1  44.630000    1  0.660608  0.498725  0.283818   \n",
       "...             ...        ...  ...       ...       ...       ...   \n",
       "1103  sub-5928501_1  67.178082    1  0.569080  0.459421  0.331738   \n",
       "1104  sub-5910502_1  67.794521    1  0.563406  0.455411  0.349609   \n",
       "1105  sub-5931002_1  54.769863    0  0.667830  0.571669  0.426031   \n",
       "1106  sub-5925701_1  66.639344    1  0.582834  0.486575  0.352920   \n",
       "1107  sub-5934201_1  45.336986    1  0.624696  0.459498  0.308476   \n",
       "\n",
       "      gm_icvratio  gmwm_icvratio  wmhvol_wmvol  wmh_count  deepwm_b_cov  \\\n",
       "1        0.456277       0.812151     -0.003504  14.095155      1.307450   \n",
       "2        0.432841       0.803615     -0.004214  20.980256      0.107729   \n",
       "3        0.466218       0.788410     -0.000441  16.839277     -0.038462   \n",
       "4        0.468642       0.845659     -0.000756  23.934273      0.889728   \n",
       "5        0.457973       0.804583     -0.001428  32.663858      0.316437   \n",
       "...           ...            ...           ...        ...           ...   \n",
       "1103     0.417177       0.756094      0.005316  26.593239      2.450828   \n",
       "1104     0.410541       0.743386     -0.002700  28.739947      2.134161   \n",
       "1105     0.398485       0.742887      0.007069  37.467708      1.728236   \n",
       "1106     0.408098       0.752543      0.002577  26.608980      2.786829   \n",
       "1107     0.449323       0.776041     -0.002622   9.913650      0.924308   \n",
       "\n",
       "      aca_b_cov  mca_b_cov  pca_b_cov  totalgm_b_cov  deepwm_b_cbf  \\\n",
       "1      0.298414   0.383769   0.766132       0.626313     17.897126   \n",
       "2      0.391102   0.721035   0.505814       0.611645     17.180514   \n",
       "3      0.675109   0.429992   0.418169       0.468490     19.038816   \n",
       "4      0.405073   0.598978   0.409987       0.645396     19.807745   \n",
       "5      0.487874   0.223292   0.392470       0.255708     17.036103   \n",
       "...         ...        ...        ...            ...           ...   \n",
       "1103   0.212169   0.216974   0.579333       0.597770     17.573698   \n",
       "1104   0.344434   0.448625   0.662398       0.524295     15.803213   \n",
       "1105   1.151203   0.914687   0.770296       0.869043     17.149113   \n",
       "1106   0.163598   1.104606   1.123917       1.018356     16.129733   \n",
       "1107   0.232432   0.275573   0.409435       0.213777     17.756544   \n",
       "\n",
       "       aca_b_cbf  mca_b_cbf  pca_b_cbf  totalgm_b_cbf  \n",
       "1      84.305987  77.900374  53.169370      68.612307  \n",
       "2      95.715073  87.690683  63.897942      76.855858  \n",
       "3     103.575974  97.644834  68.868748      84.178769  \n",
       "4      86.763994  78.039526  57.132865      70.239474  \n",
       "5      76.528153  74.119399  63.811988      67.523163  \n",
       "...          ...        ...        ...            ...  \n",
       "1103   64.541612  56.398009  36.994968      45.879171  \n",
       "1104   61.631364  56.238856  47.714656      49.731201  \n",
       "1105   61.355881  54.057235  40.778592      49.074896  \n",
       "1106   51.182443  53.649762  34.115713      41.587339  \n",
       "1107   91.729659  81.583569  71.903589      78.020853  \n",
       "\n",
       "[1107 rows x 20 columns]"
      ]
     },
     "execution_count": 153,
     "metadata": {},
     "output_type": "execute_result"
    }
   ],
   "source": [
    "TOPMRI"
   ]
  },
  {
   "cell_type": "code",
   "execution_count": 154,
   "id": "560ceebf-d982-4469-854e-40eb1f63f7b0",
   "metadata": {
    "tags": []
   },
   "outputs": [],
   "source": [
    "\n",
    "IDS_TOP =  pd.read_csv(filename_top_for_ids)\n",
    "IDS_MRI =  pd.read_csv(filename_mri_for_ids)"
   ]
  },
  {
   "cell_type": "code",
   "execution_count": 155,
   "id": "ca8cbc27-dd08-48d1-b3b7-95289e48670b",
   "metadata": {
    "tags": []
   },
   "outputs": [
    {
     "data": {
      "text/html": [
       "<div>\n",
       "<style scoped>\n",
       "    .dataframe tbody tr th:only-of-type {\n",
       "        vertical-align: middle;\n",
       "    }\n",
       "\n",
       "    .dataframe tbody tr th {\n",
       "        vertical-align: top;\n",
       "    }\n",
       "\n",
       "    .dataframe thead th {\n",
       "        text-align: right;\n",
       "    }\n",
       "</style>\n",
       "<table border=\"1\" class=\"dataframe\">\n",
       "  <thead>\n",
       "    <tr style=\"text-align: right;\">\n",
       "      <th></th>\n",
       "      <th>participant_id</th>\n",
       "      <th>age</th>\n",
       "      <th>sex</th>\n",
       "      <th>gm_vol</th>\n",
       "      <th>wm_vol</th>\n",
       "      <th>csf_vol</th>\n",
       "      <th>gm_icvratio</th>\n",
       "      <th>gmwm_icvratio</th>\n",
       "      <th>wmhvol_wmvol</th>\n",
       "      <th>wmh_count</th>\n",
       "      <th>deepwm_b_cov</th>\n",
       "      <th>aca_b_cov</th>\n",
       "      <th>mca_b_cov</th>\n",
       "      <th>pca_b_cov</th>\n",
       "      <th>totalgm_b_cov</th>\n",
       "      <th>deepwm_b_cbf</th>\n",
       "      <th>aca_b_cbf</th>\n",
       "      <th>mca_b_cbf</th>\n",
       "      <th>pca_b_cbf</th>\n",
       "      <th>totalgm_b_cbf</th>\n",
       "    </tr>\n",
       "  </thead>\n",
       "  <tbody>\n",
       "    <tr>\n",
       "      <th>2071</th>\n",
       "      <td>sub-301662_1</td>\n",
       "      <td>79</td>\n",
       "      <td>1</td>\n",
       "      <td>0.556867</td>\n",
       "      <td>0.417756</td>\n",
       "      <td>0.419472</td>\n",
       "      <td>0.398236</td>\n",
       "      <td>0.699720</td>\n",
       "      <td>0.022870</td>\n",
       "      <td>27.955998</td>\n",
       "      <td>1.291436</td>\n",
       "      <td>0.625854</td>\n",
       "      <td>0.573227</td>\n",
       "      <td>0.691617</td>\n",
       "      <td>0.590015</td>\n",
       "      <td>19.318080</td>\n",
       "      <td>73.889850</td>\n",
       "      <td>64.460118</td>\n",
       "      <td>48.225298</td>\n",
       "      <td>59.542263</td>\n",
       "    </tr>\n",
       "    <tr>\n",
       "      <th>2072</th>\n",
       "      <td>sub-600024_1</td>\n",
       "      <td>70</td>\n",
       "      <td>2</td>\n",
       "      <td>0.509263</td>\n",
       "      <td>0.459559</td>\n",
       "      <td>0.330275</td>\n",
       "      <td>0.393774</td>\n",
       "      <td>0.745938</td>\n",
       "      <td>0.024958</td>\n",
       "      <td>32.532622</td>\n",
       "      <td>1.661724</td>\n",
       "      <td>0.341594</td>\n",
       "      <td>0.371011</td>\n",
       "      <td>0.421151</td>\n",
       "      <td>0.398835</td>\n",
       "      <td>15.001009</td>\n",
       "      <td>61.310531</td>\n",
       "      <td>57.554514</td>\n",
       "      <td>44.953459</td>\n",
       "      <td>50.293292</td>\n",
       "    </tr>\n",
       "    <tr>\n",
       "      <th>2073</th>\n",
       "      <td>sub-600134_1</td>\n",
       "      <td>62</td>\n",
       "      <td>1</td>\n",
       "      <td>0.655138</td>\n",
       "      <td>0.621189</td>\n",
       "      <td>0.430547</td>\n",
       "      <td>0.385792</td>\n",
       "      <td>0.743326</td>\n",
       "      <td>0.058942</td>\n",
       "      <td>82.439470</td>\n",
       "      <td>-1.402007</td>\n",
       "      <td>0.350801</td>\n",
       "      <td>0.383971</td>\n",
       "      <td>0.360651</td>\n",
       "      <td>0.410913</td>\n",
       "      <td>35.830425</td>\n",
       "      <td>118.723728</td>\n",
       "      <td>104.449677</td>\n",
       "      <td>84.418909</td>\n",
       "      <td>91.652377</td>\n",
       "    </tr>\n",
       "  </tbody>\n",
       "</table>\n",
       "</div>"
      ],
      "text/plain": [
       "     participant_id  age  sex    gm_vol    wm_vol   csf_vol  gm_icvratio  \\\n",
       "2071   sub-301662_1   79    1  0.556867  0.417756  0.419472     0.398236   \n",
       "2072   sub-600024_1   70    2  0.509263  0.459559  0.330275     0.393774   \n",
       "2073   sub-600134_1   62    1  0.655138  0.621189  0.430547     0.385792   \n",
       "\n",
       "      gmwm_icvratio  wmhvol_wmvol  wmh_count  deepwm_b_cov  aca_b_cov  \\\n",
       "2071       0.699720      0.022870  27.955998      1.291436   0.625854   \n",
       "2072       0.745938      0.024958  32.532622      1.661724   0.341594   \n",
       "2073       0.743326      0.058942  82.439470     -1.402007   0.350801   \n",
       "\n",
       "      mca_b_cov  pca_b_cov  totalgm_b_cov  deepwm_b_cbf   aca_b_cbf  \\\n",
       "2071   0.573227   0.691617       0.590015     19.318080   73.889850   \n",
       "2072   0.371011   0.421151       0.398835     15.001009   61.310531   \n",
       "2073   0.383971   0.360651       0.410913     35.830425  118.723728   \n",
       "\n",
       "       mca_b_cbf  pca_b_cbf  totalgm_b_cbf  \n",
       "2071   64.460118  48.225298      59.542263  \n",
       "2072   57.554514  44.953459      50.293292  \n",
       "2073  104.449677  84.418909      91.652377  "
      ]
     },
     "execution_count": 155,
     "metadata": {},
     "output_type": "execute_result"
    }
   ],
   "source": [
    "coly = TOPMRI.columns\n",
    "#SABRE = SABRE.assign(sex = SABRE.sex.map(sex_mapping))\n",
    "SABRE = SABRE[coly]\n",
    "SABRE.head(3)"
   ]
  },
  {
   "cell_type": "code",
   "execution_count": 156,
   "id": "38548448-86cc-42bc-9d18-f4575fbd91d1",
   "metadata": {
    "tags": []
   },
   "outputs": [],
   "source": [
    "SABRE =SABRE.dropna()\n",
    "#SABRE.isna().sum()"
   ]
  },
  {
   "cell_type": "markdown",
   "id": "df9a9850-d70d-47ba-9754-dd0345061d40",
   "metadata": {},
   "source": [
    "# Now we need to break up the TOP and StrokeMRI datasets as well, and format them like the others"
   ]
  },
  {
   "cell_type": "code",
   "execution_count": null,
   "id": "f94c2338-b8ed-43a4-81fd-8dbf2cb6b5f7",
   "metadata": {
    "tags": []
   },
   "outputs": [],
   "source": []
  },
  {
   "cell_type": "code",
   "execution_count": 157,
   "id": "0bc77985-9a12-46fc-970d-1e3c0ff780fb",
   "metadata": {
    "tags": []
   },
   "outputs": [
    {
     "data": {
      "text/html": [
       "<div>\n",
       "<style scoped>\n",
       "    .dataframe tbody tr th:only-of-type {\n",
       "        vertical-align: middle;\n",
       "    }\n",
       "\n",
       "    .dataframe tbody tr th {\n",
       "        vertical-align: top;\n",
       "    }\n",
       "\n",
       "    .dataframe thead th {\n",
       "        text-align: right;\n",
       "    }\n",
       "</style>\n",
       "<table border=\"1\" class=\"dataframe\">\n",
       "  <thead>\n",
       "    <tr style=\"text-align: right;\">\n",
       "      <th></th>\n",
       "      <th>participant_id</th>\n",
       "      <th>age</th>\n",
       "      <th>sex</th>\n",
       "      <th>gm_vol</th>\n",
       "      <th>wm_vol</th>\n",
       "      <th>csf_vol</th>\n",
       "      <th>gm_icvratio</th>\n",
       "      <th>gmwm_icvratio</th>\n",
       "      <th>wmhvol_wmvol</th>\n",
       "      <th>wmh_count</th>\n",
       "      <th>deepwm_b_cov</th>\n",
       "      <th>aca_b_cov</th>\n",
       "      <th>mca_b_cov</th>\n",
       "      <th>pca_b_cov</th>\n",
       "      <th>totalgm_b_cov</th>\n",
       "      <th>deepwm_b_cbf</th>\n",
       "      <th>aca_b_cbf</th>\n",
       "      <th>mca_b_cbf</th>\n",
       "      <th>pca_b_cbf</th>\n",
       "      <th>totalgm_b_cbf</th>\n",
       "    </tr>\n",
       "  </thead>\n",
       "  <tbody>\n",
       "    <tr>\n",
       "      <th>1</th>\n",
       "      <td>sub-0668_1</td>\n",
       "      <td>50.40</td>\n",
       "      <td>1</td>\n",
       "      <td>0.641295</td>\n",
       "      <td>0.495326</td>\n",
       "      <td>0.267765</td>\n",
       "      <td>0.456277</td>\n",
       "      <td>0.812151</td>\n",
       "      <td>-0.003504</td>\n",
       "      <td>14.095155</td>\n",
       "      <td>1.307450</td>\n",
       "      <td>0.298414</td>\n",
       "      <td>0.383769</td>\n",
       "      <td>0.766132</td>\n",
       "      <td>0.626313</td>\n",
       "      <td>17.897126</td>\n",
       "      <td>84.305987</td>\n",
       "      <td>77.900374</td>\n",
       "      <td>53.169370</td>\n",
       "      <td>68.612307</td>\n",
       "    </tr>\n",
       "    <tr>\n",
       "      <th>2</th>\n",
       "      <td>sub-0532_1</td>\n",
       "      <td>37.02</td>\n",
       "      <td>1</td>\n",
       "      <td>0.717819</td>\n",
       "      <td>0.604665</td>\n",
       "      <td>0.326666</td>\n",
       "      <td>0.432841</td>\n",
       "      <td>0.803615</td>\n",
       "      <td>-0.004214</td>\n",
       "      <td>20.980256</td>\n",
       "      <td>0.107729</td>\n",
       "      <td>0.391102</td>\n",
       "      <td>0.721035</td>\n",
       "      <td>0.505814</td>\n",
       "      <td>0.611645</td>\n",
       "      <td>17.180514</td>\n",
       "      <td>95.715073</td>\n",
       "      <td>87.690683</td>\n",
       "      <td>63.897942</td>\n",
       "      <td>76.855858</td>\n",
       "    </tr>\n",
       "    <tr>\n",
       "      <th>3</th>\n",
       "      <td>sub-0529_1</td>\n",
       "      <td>30.57</td>\n",
       "      <td>1</td>\n",
       "      <td>0.664766</td>\n",
       "      <td>0.469301</td>\n",
       "      <td>0.297046</td>\n",
       "      <td>0.466218</td>\n",
       "      <td>0.788410</td>\n",
       "      <td>-0.000441</td>\n",
       "      <td>16.839277</td>\n",
       "      <td>-0.038462</td>\n",
       "      <td>0.675109</td>\n",
       "      <td>0.429992</td>\n",
       "      <td>0.418169</td>\n",
       "      <td>0.468490</td>\n",
       "      <td>19.038816</td>\n",
       "      <td>103.575974</td>\n",
       "      <td>97.644834</td>\n",
       "      <td>68.868748</td>\n",
       "      <td>84.178769</td>\n",
       "    </tr>\n",
       "  </tbody>\n",
       "</table>\n",
       "</div>"
      ],
      "text/plain": [
       "  participant_id    age  sex    gm_vol    wm_vol   csf_vol  gm_icvratio  \\\n",
       "1     sub-0668_1  50.40    1  0.641295  0.495326  0.267765     0.456277   \n",
       "2     sub-0532_1  37.02    1  0.717819  0.604665  0.326666     0.432841   \n",
       "3     sub-0529_1  30.57    1  0.664766  0.469301  0.297046     0.466218   \n",
       "\n",
       "   gmwm_icvratio  wmhvol_wmvol  wmh_count  deepwm_b_cov  aca_b_cov  mca_b_cov  \\\n",
       "1       0.812151     -0.003504  14.095155      1.307450   0.298414   0.383769   \n",
       "2       0.803615     -0.004214  20.980256      0.107729   0.391102   0.721035   \n",
       "3       0.788410     -0.000441  16.839277     -0.038462   0.675109   0.429992   \n",
       "\n",
       "   pca_b_cov  totalgm_b_cov  deepwm_b_cbf   aca_b_cbf  mca_b_cbf  pca_b_cbf  \\\n",
       "1   0.766132       0.626313     17.897126   84.305987  77.900374  53.169370   \n",
       "2   0.505814       0.611645     17.180514   95.715073  87.690683  63.897942   \n",
       "3   0.418169       0.468490     19.038816  103.575974  97.644834  68.868748   \n",
       "\n",
       "   totalgm_b_cbf  \n",
       "1      68.612307  \n",
       "2      76.855858  \n",
       "3      84.178769  "
      ]
     },
     "execution_count": 157,
     "metadata": {},
     "output_type": "execute_result"
    }
   ],
   "source": [
    "set_top_ids = set(IDS_TOP.participant_id)\n",
    "set_mri_ids = set(IDS_MRI.participant_id)\n",
    "StrokeMRI = TOPMRI[TOPMRI['participant_id'].isin(list(set_mri_ids))]\n",
    "TOP = TOPMRI[TOPMRI['participant_id'].isin(list(set_top_ids))]\n",
    "TOP.head(3)"
   ]
  },
  {
   "cell_type": "code",
   "execution_count": 158,
   "id": "c56a2b92-7302-434a-bc15-1fcd859a13af",
   "metadata": {
    "tags": []
   },
   "outputs": [
    {
     "data": {
      "text/html": [
       "<div>\n",
       "<style scoped>\n",
       "    .dataframe tbody tr th:only-of-type {\n",
       "        vertical-align: middle;\n",
       "    }\n",
       "\n",
       "    .dataframe tbody tr th {\n",
       "        vertical-align: top;\n",
       "    }\n",
       "\n",
       "    .dataframe thead th {\n",
       "        text-align: right;\n",
       "    }\n",
       "</style>\n",
       "<table border=\"1\" class=\"dataframe\">\n",
       "  <thead>\n",
       "    <tr style=\"text-align: right;\">\n",
       "      <th></th>\n",
       "      <th>participant_id</th>\n",
       "      <th>age</th>\n",
       "      <th>sex</th>\n",
       "      <th>gm_vol</th>\n",
       "      <th>wm_vol</th>\n",
       "      <th>csf_vol</th>\n",
       "      <th>gm_icvratio</th>\n",
       "      <th>gmwm_icvratio</th>\n",
       "      <th>wmhvol_wmvol</th>\n",
       "      <th>wmh_count</th>\n",
       "      <th>deepwm_b_cov</th>\n",
       "      <th>aca_b_cov</th>\n",
       "      <th>mca_b_cov</th>\n",
       "      <th>pca_b_cov</th>\n",
       "      <th>totalgm_b_cov</th>\n",
       "      <th>deepwm_b_cbf</th>\n",
       "      <th>aca_b_cbf</th>\n",
       "      <th>mca_b_cbf</th>\n",
       "      <th>pca_b_cbf</th>\n",
       "      <th>totalgm_b_cbf</th>\n",
       "    </tr>\n",
       "  </thead>\n",
       "  <tbody>\n",
       "    <tr>\n",
       "      <th>530</th>\n",
       "      <td>sub-5917601_1</td>\n",
       "      <td>70.713706</td>\n",
       "      <td>1</td>\n",
       "      <td>0.644244</td>\n",
       "      <td>0.451751</td>\n",
       "      <td>0.467093</td>\n",
       "      <td>0.414706</td>\n",
       "      <td>0.698754</td>\n",
       "      <td>0.015742</td>\n",
       "      <td>14.583978</td>\n",
       "      <td>3.497514</td>\n",
       "      <td>1.116753</td>\n",
       "      <td>0.182737</td>\n",
       "      <td>1.229468</td>\n",
       "      <td>0.811530</td>\n",
       "      <td>35.244011</td>\n",
       "      <td>81.763867</td>\n",
       "      <td>74.529554</td>\n",
       "      <td>57.826735</td>\n",
       "      <td>64.238336</td>\n",
       "    </tr>\n",
       "    <tr>\n",
       "      <th>531</th>\n",
       "      <td>sub-5931802_1</td>\n",
       "      <td>47.583562</td>\n",
       "      <td>1</td>\n",
       "      <td>0.640465</td>\n",
       "      <td>0.509745</td>\n",
       "      <td>0.327423</td>\n",
       "      <td>0.432539</td>\n",
       "      <td>0.778008</td>\n",
       "      <td>-0.000574</td>\n",
       "      <td>23.918683</td>\n",
       "      <td>0.598289</td>\n",
       "      <td>0.186089</td>\n",
       "      <td>0.247395</td>\n",
       "      <td>0.258075</td>\n",
       "      <td>0.267070</td>\n",
       "      <td>21.268037</td>\n",
       "      <td>86.813536</td>\n",
       "      <td>80.142934</td>\n",
       "      <td>64.422286</td>\n",
       "      <td>71.101230</td>\n",
       "    </tr>\n",
       "    <tr>\n",
       "      <th>532</th>\n",
       "      <td>sub-5911901_1</td>\n",
       "      <td>74.104110</td>\n",
       "      <td>1</td>\n",
       "      <td>0.566288</td>\n",
       "      <td>0.499349</td>\n",
       "      <td>0.466122</td>\n",
       "      <td>0.367301</td>\n",
       "      <td>0.693324</td>\n",
       "      <td>0.040484</td>\n",
       "      <td>39.379186</td>\n",
       "      <td>2.065545</td>\n",
       "      <td>0.150218</td>\n",
       "      <td>0.496044</td>\n",
       "      <td>0.899257</td>\n",
       "      <td>0.340432</td>\n",
       "      <td>22.800846</td>\n",
       "      <td>68.624718</td>\n",
       "      <td>59.403358</td>\n",
       "      <td>56.218983</td>\n",
       "      <td>57.203324</td>\n",
       "    </tr>\n",
       "  </tbody>\n",
       "</table>\n",
       "</div>"
      ],
      "text/plain": [
       "    participant_id        age  sex    gm_vol    wm_vol   csf_vol  gm_icvratio  \\\n",
       "530  sub-5917601_1  70.713706    1  0.644244  0.451751  0.467093     0.414706   \n",
       "531  sub-5931802_1  47.583562    1  0.640465  0.509745  0.327423     0.432539   \n",
       "532  sub-5911901_1  74.104110    1  0.566288  0.499349  0.466122     0.367301   \n",
       "\n",
       "     gmwm_icvratio  wmhvol_wmvol  wmh_count  deepwm_b_cov  aca_b_cov  \\\n",
       "530       0.698754      0.015742  14.583978      3.497514   1.116753   \n",
       "531       0.778008     -0.000574  23.918683      0.598289   0.186089   \n",
       "532       0.693324      0.040484  39.379186      2.065545   0.150218   \n",
       "\n",
       "     mca_b_cov  pca_b_cov  totalgm_b_cov  deepwm_b_cbf  aca_b_cbf  mca_b_cbf  \\\n",
       "530   0.182737   1.229468       0.811530     35.244011  81.763867  74.529554   \n",
       "531   0.247395   0.258075       0.267070     21.268037  86.813536  80.142934   \n",
       "532   0.496044   0.899257       0.340432     22.800846  68.624718  59.403358   \n",
       "\n",
       "     pca_b_cbf  totalgm_b_cbf  \n",
       "530  57.826735      64.238336  \n",
       "531  64.422286      71.101230  \n",
       "532  56.218983      57.203324  "
      ]
     },
     "execution_count": 158,
     "metadata": {},
     "output_type": "execute_result"
    }
   ],
   "source": [
    "StrokeMRI.head(3) "
   ]
  },
  {
   "cell_type": "code",
   "execution_count": 159,
   "id": "1461b00d-2c3f-4516-ad00-35dff6b128a5",
   "metadata": {
    "tags": []
   },
   "outputs": [
    {
     "data": {
      "text/html": [
       "<div>\n",
       "<style scoped>\n",
       "    .dataframe tbody tr th:only-of-type {\n",
       "        vertical-align: middle;\n",
       "    }\n",
       "\n",
       "    .dataframe tbody tr th {\n",
       "        vertical-align: top;\n",
       "    }\n",
       "\n",
       "    .dataframe thead th {\n",
       "        text-align: right;\n",
       "    }\n",
       "</style>\n",
       "<table border=\"1\" class=\"dataframe\">\n",
       "  <thead>\n",
       "    <tr style=\"text-align: right;\">\n",
       "      <th></th>\n",
       "      <th>participant_id</th>\n",
       "      <th>age</th>\n",
       "      <th>sex</th>\n",
       "      <th>gm_vol</th>\n",
       "      <th>wm_vol</th>\n",
       "      <th>csf_vol</th>\n",
       "      <th>gm_icvratio</th>\n",
       "      <th>gmwm_icvratio</th>\n",
       "      <th>wmhvol_wmvol</th>\n",
       "      <th>wmh_count</th>\n",
       "      <th>deepwm_b_cov</th>\n",
       "      <th>aca_b_cov</th>\n",
       "      <th>mca_b_cov</th>\n",
       "      <th>pca_b_cov</th>\n",
       "      <th>totalgm_b_cov</th>\n",
       "      <th>deepwm_b_cbf</th>\n",
       "      <th>aca_b_cbf</th>\n",
       "      <th>mca_b_cbf</th>\n",
       "      <th>pca_b_cbf</th>\n",
       "      <th>totalgm_b_cbf</th>\n",
       "    </tr>\n",
       "  </thead>\n",
       "  <tbody>\n",
       "    <tr>\n",
       "      <th>1</th>\n",
       "      <td>sub-0668_1</td>\n",
       "      <td>50.40</td>\n",
       "      <td>1</td>\n",
       "      <td>0.641295</td>\n",
       "      <td>0.495326</td>\n",
       "      <td>0.267765</td>\n",
       "      <td>0.456277</td>\n",
       "      <td>0.812151</td>\n",
       "      <td>-0.003504</td>\n",
       "      <td>14.095155</td>\n",
       "      <td>1.307450</td>\n",
       "      <td>0.298414</td>\n",
       "      <td>0.383769</td>\n",
       "      <td>0.766132</td>\n",
       "      <td>0.626313</td>\n",
       "      <td>17.897126</td>\n",
       "      <td>84.305987</td>\n",
       "      <td>77.900374</td>\n",
       "      <td>53.169370</td>\n",
       "      <td>68.612307</td>\n",
       "    </tr>\n",
       "    <tr>\n",
       "      <th>2</th>\n",
       "      <td>sub-0532_1</td>\n",
       "      <td>37.02</td>\n",
       "      <td>1</td>\n",
       "      <td>0.717819</td>\n",
       "      <td>0.604665</td>\n",
       "      <td>0.326666</td>\n",
       "      <td>0.432841</td>\n",
       "      <td>0.803615</td>\n",
       "      <td>-0.004214</td>\n",
       "      <td>20.980256</td>\n",
       "      <td>0.107729</td>\n",
       "      <td>0.391102</td>\n",
       "      <td>0.721035</td>\n",
       "      <td>0.505814</td>\n",
       "      <td>0.611645</td>\n",
       "      <td>17.180514</td>\n",
       "      <td>95.715073</td>\n",
       "      <td>87.690683</td>\n",
       "      <td>63.897942</td>\n",
       "      <td>76.855858</td>\n",
       "    </tr>\n",
       "    <tr>\n",
       "      <th>3</th>\n",
       "      <td>sub-0529_1</td>\n",
       "      <td>30.57</td>\n",
       "      <td>1</td>\n",
       "      <td>0.664766</td>\n",
       "      <td>0.469301</td>\n",
       "      <td>0.297046</td>\n",
       "      <td>0.466218</td>\n",
       "      <td>0.788410</td>\n",
       "      <td>-0.000441</td>\n",
       "      <td>16.839277</td>\n",
       "      <td>-0.038462</td>\n",
       "      <td>0.675109</td>\n",
       "      <td>0.429992</td>\n",
       "      <td>0.418169</td>\n",
       "      <td>0.468490</td>\n",
       "      <td>19.038816</td>\n",
       "      <td>103.575974</td>\n",
       "      <td>97.644834</td>\n",
       "      <td>68.868748</td>\n",
       "      <td>84.178769</td>\n",
       "    </tr>\n",
       "  </tbody>\n",
       "</table>\n",
       "</div>"
      ],
      "text/plain": [
       "  participant_id    age  sex    gm_vol    wm_vol   csf_vol  gm_icvratio  \\\n",
       "1     sub-0668_1  50.40    1  0.641295  0.495326  0.267765     0.456277   \n",
       "2     sub-0532_1  37.02    1  0.717819  0.604665  0.326666     0.432841   \n",
       "3     sub-0529_1  30.57    1  0.664766  0.469301  0.297046     0.466218   \n",
       "\n",
       "   gmwm_icvratio  wmhvol_wmvol  wmh_count  deepwm_b_cov  aca_b_cov  mca_b_cov  \\\n",
       "1       0.812151     -0.003504  14.095155      1.307450   0.298414   0.383769   \n",
       "2       0.803615     -0.004214  20.980256      0.107729   0.391102   0.721035   \n",
       "3       0.788410     -0.000441  16.839277     -0.038462   0.675109   0.429992   \n",
       "\n",
       "   pca_b_cov  totalgm_b_cov  deepwm_b_cbf   aca_b_cbf  mca_b_cbf  pca_b_cbf  \\\n",
       "1   0.766132       0.626313     17.897126   84.305987  77.900374  53.169370   \n",
       "2   0.505814       0.611645     17.180514   95.715073  87.690683  63.897942   \n",
       "3   0.418169       0.468490     19.038816  103.575974  97.644834  68.868748   \n",
       "\n",
       "   totalgm_b_cbf  \n",
       "1      68.612307  \n",
       "2      76.855858  \n",
       "3      84.178769  "
      ]
     },
     "execution_count": 159,
     "metadata": {},
     "output_type": "execute_result"
    }
   ],
   "source": [
    "TOP.head(3)"
   ]
  },
  {
   "cell_type": "code",
   "execution_count": 160,
   "id": "b9efbca7-4d32-4371-94ea-42cd3cb9ba3b",
   "metadata": {
    "tags": []
   },
   "outputs": [
    {
     "name": "stdout",
     "output_type": "stream",
     "text": [
      "set()\n"
     ]
    }
   ],
   "source": [
    "# check for any duplicated patients between stroke and mri\n",
    "strokers = set(StrokeMRI.participant_id)\n",
    "topers = set(TOP.participant_id)\n",
    "z = strokers.intersection(topers)\n",
    "print(z) "
   ]
  },
  {
   "cell_type": "code",
   "execution_count": 161,
   "id": "e59d0741-040c-4265-a2b5-5dfbd37214e1",
   "metadata": {
    "tags": []
   },
   "outputs": [
    {
     "data": {
      "text/html": [
       "<div>\n",
       "<style scoped>\n",
       "    .dataframe tbody tr th:only-of-type {\n",
       "        vertical-align: middle;\n",
       "    }\n",
       "\n",
       "    .dataframe tbody tr th {\n",
       "        vertical-align: top;\n",
       "    }\n",
       "\n",
       "    .dataframe thead th {\n",
       "        text-align: right;\n",
       "    }\n",
       "</style>\n",
       "<table border=\"1\" class=\"dataframe\">\n",
       "  <thead>\n",
       "    <tr style=\"text-align: right;\">\n",
       "      <th></th>\n",
       "      <th>participant_id</th>\n",
       "      <th>age</th>\n",
       "      <th>sex</th>\n",
       "      <th>gm_vol</th>\n",
       "      <th>wm_vol</th>\n",
       "      <th>csf_vol</th>\n",
       "      <th>gm_icvratio</th>\n",
       "      <th>gmwm_icvratio</th>\n",
       "      <th>wmhvol_wmvol</th>\n",
       "      <th>wmh_count</th>\n",
       "      <th>deepwm_b_cov</th>\n",
       "      <th>aca_b_cov</th>\n",
       "      <th>mca_b_cov</th>\n",
       "      <th>pca_b_cov</th>\n",
       "      <th>totalgm_b_cov</th>\n",
       "      <th>deepwm_b_cbf</th>\n",
       "      <th>aca_b_cbf</th>\n",
       "      <th>mca_b_cbf</th>\n",
       "      <th>pca_b_cbf</th>\n",
       "      <th>totalgm_b_cbf</th>\n",
       "    </tr>\n",
       "  </thead>\n",
       "  <tbody>\n",
       "    <tr>\n",
       "      <th>1</th>\n",
       "      <td>sub-0668_1</td>\n",
       "      <td>50.40</td>\n",
       "      <td>1</td>\n",
       "      <td>0.641295</td>\n",
       "      <td>0.495326</td>\n",
       "      <td>0.267765</td>\n",
       "      <td>0.456277</td>\n",
       "      <td>0.812151</td>\n",
       "      <td>-0.003504</td>\n",
       "      <td>14.095155</td>\n",
       "      <td>1.307450</td>\n",
       "      <td>0.298414</td>\n",
       "      <td>0.383769</td>\n",
       "      <td>0.766132</td>\n",
       "      <td>0.626313</td>\n",
       "      <td>17.897126</td>\n",
       "      <td>84.305987</td>\n",
       "      <td>77.900374</td>\n",
       "      <td>53.169370</td>\n",
       "      <td>68.612307</td>\n",
       "    </tr>\n",
       "    <tr>\n",
       "      <th>2</th>\n",
       "      <td>sub-0532_1</td>\n",
       "      <td>37.02</td>\n",
       "      <td>1</td>\n",
       "      <td>0.717819</td>\n",
       "      <td>0.604665</td>\n",
       "      <td>0.326666</td>\n",
       "      <td>0.432841</td>\n",
       "      <td>0.803615</td>\n",
       "      <td>-0.004214</td>\n",
       "      <td>20.980256</td>\n",
       "      <td>0.107729</td>\n",
       "      <td>0.391102</td>\n",
       "      <td>0.721035</td>\n",
       "      <td>0.505814</td>\n",
       "      <td>0.611645</td>\n",
       "      <td>17.180514</td>\n",
       "      <td>95.715073</td>\n",
       "      <td>87.690683</td>\n",
       "      <td>63.897942</td>\n",
       "      <td>76.855858</td>\n",
       "    </tr>\n",
       "    <tr>\n",
       "      <th>3</th>\n",
       "      <td>sub-0529_1</td>\n",
       "      <td>30.57</td>\n",
       "      <td>1</td>\n",
       "      <td>0.664766</td>\n",
       "      <td>0.469301</td>\n",
       "      <td>0.297046</td>\n",
       "      <td>0.466218</td>\n",
       "      <td>0.788410</td>\n",
       "      <td>-0.000441</td>\n",
       "      <td>16.839277</td>\n",
       "      <td>-0.038462</td>\n",
       "      <td>0.675109</td>\n",
       "      <td>0.429992</td>\n",
       "      <td>0.418169</td>\n",
       "      <td>0.468490</td>\n",
       "      <td>19.038816</td>\n",
       "      <td>103.575974</td>\n",
       "      <td>97.644834</td>\n",
       "      <td>68.868748</td>\n",
       "      <td>84.178769</td>\n",
       "    </tr>\n",
       "  </tbody>\n",
       "</table>\n",
       "</div>"
      ],
      "text/plain": [
       "  participant_id    age  sex    gm_vol    wm_vol   csf_vol  gm_icvratio  \\\n",
       "1     sub-0668_1  50.40    1  0.641295  0.495326  0.267765     0.456277   \n",
       "2     sub-0532_1  37.02    1  0.717819  0.604665  0.326666     0.432841   \n",
       "3     sub-0529_1  30.57    1  0.664766  0.469301  0.297046     0.466218   \n",
       "\n",
       "   gmwm_icvratio  wmhvol_wmvol  wmh_count  deepwm_b_cov  aca_b_cov  mca_b_cov  \\\n",
       "1       0.812151     -0.003504  14.095155      1.307450   0.298414   0.383769   \n",
       "2       0.803615     -0.004214  20.980256      0.107729   0.391102   0.721035   \n",
       "3       0.788410     -0.000441  16.839277     -0.038462   0.675109   0.429992   \n",
       "\n",
       "   pca_b_cov  totalgm_b_cov  deepwm_b_cbf   aca_b_cbf  mca_b_cbf  pca_b_cbf  \\\n",
       "1   0.766132       0.626313     17.897126   84.305987  77.900374  53.169370   \n",
       "2   0.505814       0.611645     17.180514   95.715073  87.690683  63.897942   \n",
       "3   0.418169       0.468490     19.038816  103.575974  97.644834  68.868748   \n",
       "\n",
       "   totalgm_b_cbf  \n",
       "1      68.612307  \n",
       "2      76.855858  \n",
       "3      84.178769  "
      ]
     },
     "execution_count": 161,
     "metadata": {},
     "output_type": "execute_result"
    }
   ],
   "source": [
    "# make mixed StrokeMRI and TOP dataset\n",
    "#mixed_data = pd.concat([TOP, StrokeMRI], sort=False)\n",
    "mixed_data = TOPMRI\n",
    "mixed_data.head(3)"
   ]
  },
  {
   "cell_type": "code",
   "execution_count": 162,
   "id": "9fab1e25-3616-45fc-be91-eb1bb3e1e412",
   "metadata": {
    "tags": []
   },
   "outputs": [],
   "source": [
    "output_folder = '3_ComBatPlusPlus'\n",
    "\n",
    "os.makedirs(output_folder, exist_ok=True)"
   ]
  },
  {
   "cell_type": "markdown",
   "id": "f0c08947-d926-416e-92c4-7a644618a456",
   "metadata": {},
   "source": [
    "## Build ML models"
   ]
  },
  {
   "cell_type": "code",
   "execution_count": 163,
   "id": "0e8b41eb-3b29-46e2-9627-85627d2d7da8",
   "metadata": {
    "tags": []
   },
   "outputs": [],
   "source": [
    "ml_matrix = mixed_data.drop('participant_id', axis=1)\n",
    "X = ml_matrix.drop('age', axis =1)\n",
    "X = X.values\n",
    "y = ml_matrix['age'].values\n",
    "y=y.astype('float')"
   ]
  },
  {
   "cell_type": "code",
   "execution_count": 164,
   "id": "2a8cf471-55c9-4d99-8379-f83d2a69701b",
   "metadata": {
    "tags": []
   },
   "outputs": [
    {
     "name": "stderr",
     "output_type": "stream",
     "text": [
      "/scratch/radv/mdijsselhof/cvasl/extended_harm_paper/../cvasl/seperated.py:1055: FutureWarning: The behavior of DataFrame concatenation with empty or all-NA entries is deprecated. In a future version, this will no longer exclude empty or all-NA columns when determining the result dtypes. To retain the old behavior, exclude the relevant entries before the concat operation.\n",
      "  mod_results = pd.concat([mod_results, mod_results_current_fold])\n",
      "/scratch/radv/mdijsselhof/cvasl/extended_harm_paper/../cvasl/seperated.py:1055: FutureWarning: The behavior of DataFrame concatenation with empty or all-NA entries is deprecated. In a future version, this will no longer exclude empty or all-NA columns when determining the result dtypes. To retain the old behavior, exclude the relevant entries before the concat operation.\n",
      "  mod_results = pd.concat([mod_results, mod_results_current_fold])\n",
      "/scratch/radv/mdijsselhof/cvasl/extended_harm_paper/../cvasl/seperated.py:1055: FutureWarning: The behavior of DataFrame concatenation with empty or all-NA entries is deprecated. In a future version, this will no longer exclude empty or all-NA columns when determining the result dtypes. To retain the old behavior, exclude the relevant entries before the concat operation.\n",
      "  mod_results = pd.concat([mod_results, mod_results_current_fold])\n",
      "/scratch/radv/mdijsselhof/cvasl/extended_harm_paper/../cvasl/seperated.py:1055: FutureWarning: The behavior of DataFrame concatenation with empty or all-NA entries is deprecated. In a future version, this will no longer exclude empty or all-NA columns when determining the result dtypes. To retain the old behavior, exclude the relevant entries before the concat operation.\n",
      "  mod_results = pd.concat([mod_results, mod_results_current_fold])\n",
      "/scratch/radv/mdijsselhof/cvasl/extended_harm_paper/../cvasl/seperated.py:1055: FutureWarning: The behavior of DataFrame concatenation with empty or all-NA entries is deprecated. In a future version, this will no longer exclude empty or all-NA columns when determining the result dtypes. To retain the old behavior, exclude the relevant entries before the concat operation.\n",
      "  mod_results = pd.concat([mod_results, mod_results_current_fold])\n"
     ]
    }
   ],
   "source": [
    "linr_k_frame, linr_y_frame, models = sep.stratified_cat_and_cont_categories_shuffle_split('linear regression', 'req_neuroharm_mix_linr', LinearRegression(), ml_matrix, X[:,1:], y)"
   ]
  },
  {
   "cell_type": "code",
   "execution_count": 165,
   "id": "17a12acc-d5c6-4396-a7b8-0a0e47db7d32",
   "metadata": {
    "tags": []
   },
   "outputs": [
    {
     "data": {
      "text/plain": [
       "Index(['participant_id', 'age', 'sex', 'gm_vol', 'wm_vol', 'csf_vol',\n",
       "       'gm_icvratio', 'gmwm_icvratio', 'wmhvol_wmvol', 'wmh_count',\n",
       "       'deepwm_b_cov', 'aca_b_cov', 'mca_b_cov', 'pca_b_cov', 'totalgm_b_cov',\n",
       "       'deepwm_b_cbf', 'aca_b_cbf', 'mca_b_cbf', 'pca_b_cbf', 'totalgm_b_cbf'],\n",
       "      dtype='object')"
      ]
     },
     "execution_count": 165,
     "metadata": {},
     "output_type": "execute_result"
    }
   ],
   "source": [
    "mixed_data.columns"
   ]
  },
  {
   "cell_type": "code",
   "execution_count": 166,
   "id": "7ff12459-1935-4999-9b3d-82602f802e9a",
   "metadata": {
    "tags": []
   },
   "outputs": [
    {
     "data": {
      "text/html": [
       "<div>\n",
       "<style scoped>\n",
       "    .dataframe tbody tr th:only-of-type {\n",
       "        vertical-align: middle;\n",
       "    }\n",
       "\n",
       "    .dataframe tbody tr th {\n",
       "        vertical-align: top;\n",
       "    }\n",
       "\n",
       "    .dataframe thead th {\n",
       "        text-align: right;\n",
       "    }\n",
       "</style>\n",
       "<table border=\"1\" class=\"dataframe\">\n",
       "  <thead>\n",
       "    <tr style=\"text-align: right;\">\n",
       "      <th></th>\n",
       "      <th>algorithm</th>\n",
       "      <th>fold</th>\n",
       "      <th>file_name</th>\n",
       "      <th>mae</th>\n",
       "      <th>r2</th>\n",
       "      <th>explained_variance</th>\n",
       "    </tr>\n",
       "  </thead>\n",
       "  <tbody>\n",
       "    <tr>\n",
       "      <th>0</th>\n",
       "      <td>linear regression-0</td>\n",
       "      <td>0</td>\n",
       "      <td>req_neuroharm_mix_linr.0</td>\n",
       "      <td>2.912454</td>\n",
       "      <td>0.953720</td>\n",
       "      <td>0.953751</td>\n",
       "    </tr>\n",
       "    <tr>\n",
       "      <th>0</th>\n",
       "      <td>linear regression-1</td>\n",
       "      <td>1</td>\n",
       "      <td>req_neuroharm_mix_linr.1</td>\n",
       "      <td>2.852651</td>\n",
       "      <td>0.958185</td>\n",
       "      <td>0.958336</td>\n",
       "    </tr>\n",
       "    <tr>\n",
       "      <th>0</th>\n",
       "      <td>linear regression-2</td>\n",
       "      <td>2</td>\n",
       "      <td>req_neuroharm_mix_linr.2</td>\n",
       "      <td>2.805440</td>\n",
       "      <td>0.954104</td>\n",
       "      <td>0.954170</td>\n",
       "    </tr>\n",
       "    <tr>\n",
       "      <th>0</th>\n",
       "      <td>linear regression-3</td>\n",
       "      <td>3</td>\n",
       "      <td>req_neuroharm_mix_linr.3</td>\n",
       "      <td>2.981037</td>\n",
       "      <td>0.951810</td>\n",
       "      <td>0.952139</td>\n",
       "    </tr>\n",
       "    <tr>\n",
       "      <th>0</th>\n",
       "      <td>linear regression-4</td>\n",
       "      <td>4</td>\n",
       "      <td>req_neuroharm_mix_linr.4</td>\n",
       "      <td>2.808857</td>\n",
       "      <td>0.954923</td>\n",
       "      <td>0.954978</td>\n",
       "    </tr>\n",
       "  </tbody>\n",
       "</table>\n",
       "</div>"
      ],
      "text/plain": [
       "             algorithm fold                 file_name       mae        r2  \\\n",
       "0  linear regression-0    0  req_neuroharm_mix_linr.0  2.912454  0.953720   \n",
       "0  linear regression-1    1  req_neuroharm_mix_linr.1  2.852651  0.958185   \n",
       "0  linear regression-2    2  req_neuroharm_mix_linr.2  2.805440  0.954104   \n",
       "0  linear regression-3    3  req_neuroharm_mix_linr.3  2.981037  0.951810   \n",
       "0  linear regression-4    4  req_neuroharm_mix_linr.4  2.808857  0.954923   \n",
       "\n",
       "   explained_variance  \n",
       "0            0.953751  \n",
       "0            0.958336  \n",
       "0            0.954170  \n",
       "0            0.952139  \n",
       "0            0.954978  "
      ]
     },
     "execution_count": 166,
     "metadata": {},
     "output_type": "execute_result"
    }
   ],
   "source": [
    "linr_k_frame"
   ]
  },
  {
   "cell_type": "code",
   "execution_count": 167,
   "id": "94ce29f7-42f7-415c-a9f4-881c7993f619",
   "metadata": {
    "tags": []
   },
   "outputs": [],
   "source": [
    "linr_k_frame.to_csv(output_folder + 'linr_k_frame_combatplusplus_harm.csv')"
   ]
  },
  {
   "cell_type": "code",
   "execution_count": 168,
   "id": "2082e609-ae7d-4dcb-9fc8-140b6161398a",
   "metadata": {
    "tags": []
   },
   "outputs": [
    {
     "data": {
      "text/html": [
       "<div>\n",
       "<style scoped>\n",
       "    .dataframe tbody tr th:only-of-type {\n",
       "        vertical-align: middle;\n",
       "    }\n",
       "\n",
       "    .dataframe tbody tr th {\n",
       "        vertical-align: top;\n",
       "    }\n",
       "\n",
       "    .dataframe thead th {\n",
       "        text-align: right;\n",
       "    }\n",
       "</style>\n",
       "<table border=\"1\" class=\"dataframe\">\n",
       "  <thead>\n",
       "    <tr style=\"text-align: right;\">\n",
       "      <th></th>\n",
       "      <th>algorithm</th>\n",
       "      <th>file_name</th>\n",
       "      <th>mae</th>\n",
       "      <th>r2</th>\n",
       "      <th>explained_variance</th>\n",
       "    </tr>\n",
       "  </thead>\n",
       "  <tbody>\n",
       "    <tr>\n",
       "      <th>0</th>\n",
       "      <td>0    linear regression-0\n",
       "0    linear regressio...</td>\n",
       "      <td>0    req_neuroharm_mix_linr.0\n",
       "0    req_neuroha...</td>\n",
       "      <td>2.872088</td>\n",
       "      <td>0.954548</td>\n",
       "      <td>0.954675</td>\n",
       "    </tr>\n",
       "  </tbody>\n",
       "</table>\n",
       "</div>"
      ],
      "text/plain": [
       "                                           algorithm  \\\n",
       "0  0    linear regression-0\n",
       "0    linear regressio...   \n",
       "\n",
       "                                           file_name       mae        r2  \\\n",
       "0  0    req_neuroharm_mix_linr.0\n",
       "0    req_neuroha...  2.872088  0.954548   \n",
       "\n",
       "   explained_variance  \n",
       "0            0.954675  "
      ]
     },
     "execution_count": 168,
     "metadata": {},
     "output_type": "execute_result"
    }
   ],
   "source": [
    "avg_linr = sep.avg_k_folds(linr_k_frame)\n",
    "avg_linr"
   ]
  },
  {
   "cell_type": "code",
   "execution_count": 169,
   "id": "b0133c79-6eaa-45d6-bc65-1c65fcf2947f",
   "metadata": {
    "tags": []
   },
   "outputs": [
    {
     "data": {
      "text/html": [
       "<div>\n",
       "<style scoped>\n",
       "    .dataframe tbody tr th:only-of-type {\n",
       "        vertical-align: middle;\n",
       "    }\n",
       "\n",
       "    .dataframe tbody tr th {\n",
       "        vertical-align: top;\n",
       "    }\n",
       "\n",
       "    .dataframe thead th {\n",
       "        text-align: right;\n",
       "    }\n",
       "</style>\n",
       "<table border=\"1\" class=\"dataframe\">\n",
       "  <thead>\n",
       "    <tr style=\"text-align: right;\">\n",
       "      <th></th>\n",
       "      <th>y_test</th>\n",
       "      <th>y_pred</th>\n",
       "    </tr>\n",
       "  </thead>\n",
       "  <tbody>\n",
       "    <tr>\n",
       "      <th>0</th>\n",
       "      <td>27.550000</td>\n",
       "      <td>33.328492</td>\n",
       "    </tr>\n",
       "    <tr>\n",
       "      <th>1</th>\n",
       "      <td>52.495890</td>\n",
       "      <td>55.177301</td>\n",
       "    </tr>\n",
       "    <tr>\n",
       "      <th>2</th>\n",
       "      <td>31.372603</td>\n",
       "      <td>29.813501</td>\n",
       "    </tr>\n",
       "    <tr>\n",
       "      <th>3</th>\n",
       "      <td>50.345205</td>\n",
       "      <td>51.703607</td>\n",
       "    </tr>\n",
       "    <tr>\n",
       "      <th>4</th>\n",
       "      <td>77.593735</td>\n",
       "      <td>72.553437</td>\n",
       "    </tr>\n",
       "    <tr>\n",
       "      <th>...</th>\n",
       "      <td>...</td>\n",
       "      <td>...</td>\n",
       "    </tr>\n",
       "    <tr>\n",
       "      <th>272</th>\n",
       "      <td>69.424658</td>\n",
       "      <td>76.551467</td>\n",
       "    </tr>\n",
       "    <tr>\n",
       "      <th>273</th>\n",
       "      <td>48.730000</td>\n",
       "      <td>45.529257</td>\n",
       "    </tr>\n",
       "    <tr>\n",
       "      <th>274</th>\n",
       "      <td>60.183060</td>\n",
       "      <td>65.210404</td>\n",
       "    </tr>\n",
       "    <tr>\n",
       "      <th>275</th>\n",
       "      <td>40.355191</td>\n",
       "      <td>36.026198</td>\n",
       "    </tr>\n",
       "    <tr>\n",
       "      <th>276</th>\n",
       "      <td>69.506557</td>\n",
       "      <td>66.259086</td>\n",
       "    </tr>\n",
       "  </tbody>\n",
       "</table>\n",
       "<p>1385 rows × 2 columns</p>\n",
       "</div>"
      ],
      "text/plain": [
       "        y_test     y_pred\n",
       "0    27.550000  33.328492\n",
       "1    52.495890  55.177301\n",
       "2    31.372603  29.813501\n",
       "3    50.345205  51.703607\n",
       "4    77.593735  72.553437\n",
       "..         ...        ...\n",
       "272  69.424658  76.551467\n",
       "273  48.730000  45.529257\n",
       "274  60.183060  65.210404\n",
       "275  40.355191  36.026198\n",
       "276  69.506557  66.259086\n",
       "\n",
       "[1385 rows x 2 columns]"
      ]
     },
     "execution_count": 169,
     "metadata": {},
     "output_type": "execute_result"
    }
   ],
   "source": [
    "linr_y_frame.to_csv(output_folder + 'linr_y_frame_combatplusplus_harm.csv')\n",
    "linr_y_frame"
   ]
  },
  {
   "cell_type": "code",
   "execution_count": 170,
   "id": "cd2f9ed2-027c-4655-bd16-ace93cab8709",
   "metadata": {
    "tags": []
   },
   "outputs": [],
   "source": [
    "linr_y_frame.to_csv(output_folder + 'linr_y_frame_combatplusplus_harm.csv')"
   ]
  },
  {
   "cell_type": "code",
   "execution_count": 171,
   "id": "c3b05bdb-866c-4e1d-ac49-ca0a9af68bb5",
   "metadata": {
    "tags": []
   },
   "outputs": [
    {
     "data": {
      "text/html": [
       "<style>#sk-container-id-15 {color: black;}#sk-container-id-15 pre{padding: 0;}#sk-container-id-15 div.sk-toggleable {background-color: white;}#sk-container-id-15 label.sk-toggleable__label {cursor: pointer;display: block;width: 100%;margin-bottom: 0;padding: 0.3em;box-sizing: border-box;text-align: center;}#sk-container-id-15 label.sk-toggleable__label-arrow:before {content: \"▸\";float: left;margin-right: 0.25em;color: #696969;}#sk-container-id-15 label.sk-toggleable__label-arrow:hover:before {color: black;}#sk-container-id-15 div.sk-estimator:hover label.sk-toggleable__label-arrow:before {color: black;}#sk-container-id-15 div.sk-toggleable__content {max-height: 0;max-width: 0;overflow: hidden;text-align: left;background-color: #f0f8ff;}#sk-container-id-15 div.sk-toggleable__content pre {margin: 0.2em;color: black;border-radius: 0.25em;background-color: #f0f8ff;}#sk-container-id-15 input.sk-toggleable__control:checked~div.sk-toggleable__content {max-height: 200px;max-width: 100%;overflow: auto;}#sk-container-id-15 input.sk-toggleable__control:checked~label.sk-toggleable__label-arrow:before {content: \"▾\";}#sk-container-id-15 div.sk-estimator input.sk-toggleable__control:checked~label.sk-toggleable__label {background-color: #d4ebff;}#sk-container-id-15 div.sk-label input.sk-toggleable__control:checked~label.sk-toggleable__label {background-color: #d4ebff;}#sk-container-id-15 input.sk-hidden--visually {border: 0;clip: rect(1px 1px 1px 1px);clip: rect(1px, 1px, 1px, 1px);height: 1px;margin: -1px;overflow: hidden;padding: 0;position: absolute;width: 1px;}#sk-container-id-15 div.sk-estimator {font-family: monospace;background-color: #f0f8ff;border: 1px dotted black;border-radius: 0.25em;box-sizing: border-box;margin-bottom: 0.5em;}#sk-container-id-15 div.sk-estimator:hover {background-color: #d4ebff;}#sk-container-id-15 div.sk-parallel-item::after {content: \"\";width: 100%;border-bottom: 1px solid gray;flex-grow: 1;}#sk-container-id-15 div.sk-label:hover label.sk-toggleable__label {background-color: #d4ebff;}#sk-container-id-15 div.sk-serial::before {content: \"\";position: absolute;border-left: 1px solid gray;box-sizing: border-box;top: 0;bottom: 0;left: 50%;z-index: 0;}#sk-container-id-15 div.sk-serial {display: flex;flex-direction: column;align-items: center;background-color: white;padding-right: 0.2em;padding-left: 0.2em;position: relative;}#sk-container-id-15 div.sk-item {position: relative;z-index: 1;}#sk-container-id-15 div.sk-parallel {display: flex;align-items: stretch;justify-content: center;background-color: white;position: relative;}#sk-container-id-15 div.sk-item::before, #sk-container-id-15 div.sk-parallel-item::before {content: \"\";position: absolute;border-left: 1px solid gray;box-sizing: border-box;top: 0;bottom: 0;left: 50%;z-index: -1;}#sk-container-id-15 div.sk-parallel-item {display: flex;flex-direction: column;z-index: 1;position: relative;background-color: white;}#sk-container-id-15 div.sk-parallel-item:first-child::after {align-self: flex-end;width: 50%;}#sk-container-id-15 div.sk-parallel-item:last-child::after {align-self: flex-start;width: 50%;}#sk-container-id-15 div.sk-parallel-item:only-child::after {width: 0;}#sk-container-id-15 div.sk-dashed-wrapped {border: 1px dashed gray;margin: 0 0.4em 0.5em 0.4em;box-sizing: border-box;padding-bottom: 0.4em;background-color: white;}#sk-container-id-15 div.sk-label label {font-family: monospace;font-weight: bold;display: inline-block;line-height: 1.2em;}#sk-container-id-15 div.sk-label-container {text-align: center;}#sk-container-id-15 div.sk-container {/* jupyter's `normalize.less` sets `[hidden] { display: none; }` but bootstrap.min.css set `[hidden] { display: none !important; }` so we also need the `!important` here to be able to override the default hidden behavior on the sphinx rendered scikit-learn.org. See: https://github.com/scikit-learn/scikit-learn/issues/21755 */display: inline-block !important;position: relative;}#sk-container-id-15 div.sk-text-repr-fallback {display: none;}</style><div id=\"sk-container-id-15\" class=\"sk-top-container\"><div class=\"sk-text-repr-fallback\"><pre>LinearRegression()</pre><b>In a Jupyter environment, please rerun this cell to show the HTML representation or trust the notebook. <br />On GitHub, the HTML representation is unable to render, please try loading this page with nbviewer.org.</b></div><div class=\"sk-container\" hidden><div class=\"sk-item\"><div class=\"sk-estimator sk-toggleable\"><input class=\"sk-toggleable__control sk-hidden--visually\" id=\"sk-estimator-id-15\" type=\"checkbox\" checked><label for=\"sk-estimator-id-15\" class=\"sk-toggleable__label sk-toggleable__label-arrow\">LinearRegression</label><div class=\"sk-toggleable__content\"><pre>LinearRegression()</pre></div></div></div></div></div>"
      ],
      "text/plain": [
       "LinearRegression()"
      ]
     },
     "execution_count": 171,
     "metadata": {},
     "output_type": "execute_result"
    }
   ],
   "source": [
    "linr = models[0]\n",
    "linr[0]"
   ]
  },
  {
   "cell_type": "code",
   "execution_count": 172,
   "id": "5a2029b1-6758-4f63-9f69-37ae9b4b53a4",
   "metadata": {
    "tags": []
   },
   "outputs": [],
   "source": [
    "# check if model folder exists and if not , then create\n",
    "model_folder = '../result_models/'\n",
    "if not os.path.exists(model_folder):\n",
    "    os.makedirs(model_folder)"
   ]
  },
  {
   "cell_type": "code",
   "execution_count": 173,
   "id": "38457549-93e9-40f5-9b61-106ac0867bb2",
   "metadata": {
    "tags": []
   },
   "outputs": [],
   "source": [
    "## optional save models\n",
    "#joblib.dump(linr[0], ('../result_models/'+ 'unharm_mix_linr0.sav'))\n",
    "#joblib.dump(linr[1], ('../result_models/'+ 'unharm_mix_linr1.sav'))\n",
    "#joblib.dump(linr[2], ('../result_models/'+ 'unharm_mix_linr2.sav'))\n",
    "#joblib.dump(linr[3], ('../result_models/'+ 'unharm_mix_linr3.sav'))\n",
    "#joblib.dump(linr[4], ('../result_models/'+ 'unharm_mix_linr4.sav'))"
   ]
  },
  {
   "cell_type": "code",
   "execution_count": 174,
   "id": "2fd550f0-6b41-4c28-8945-0e86f237cdd3",
   "metadata": {
    "tags": []
   },
   "outputs": [
    {
     "name": "stderr",
     "output_type": "stream",
     "text": [
      "/scratch/radv/mdijsselhof/cvasl/extended_harm_paper/../cvasl/seperated.py:1055: FutureWarning: The behavior of DataFrame concatenation with empty or all-NA entries is deprecated. In a future version, this will no longer exclude empty or all-NA columns when determining the result dtypes. To retain the old behavior, exclude the relevant entries before the concat operation.\n",
      "  mod_results = pd.concat([mod_results, mod_results_current_fold])\n",
      "/scratch/radv/mdijsselhof/cvasl/extended_harm_paper/../cvasl/seperated.py:1055: FutureWarning: The behavior of DataFrame concatenation with empty or all-NA entries is deprecated. In a future version, this will no longer exclude empty or all-NA columns when determining the result dtypes. To retain the old behavior, exclude the relevant entries before the concat operation.\n",
      "  mod_results = pd.concat([mod_results, mod_results_current_fold])\n",
      "/scratch/radv/mdijsselhof/cvasl/extended_harm_paper/../cvasl/seperated.py:1055: FutureWarning: The behavior of DataFrame concatenation with empty or all-NA entries is deprecated. In a future version, this will no longer exclude empty or all-NA columns when determining the result dtypes. To retain the old behavior, exclude the relevant entries before the concat operation.\n",
      "  mod_results = pd.concat([mod_results, mod_results_current_fold])\n",
      "/scratch/radv/mdijsselhof/cvasl/extended_harm_paper/../cvasl/seperated.py:1055: FutureWarning: The behavior of DataFrame concatenation with empty or all-NA entries is deprecated. In a future version, this will no longer exclude empty or all-NA columns when determining the result dtypes. To retain the old behavior, exclude the relevant entries before the concat operation.\n",
      "  mod_results = pd.concat([mod_results, mod_results_current_fold])\n",
      "/scratch/radv/mdijsselhof/cvasl/extended_harm_paper/../cvasl/seperated.py:1055: FutureWarning: The behavior of DataFrame concatenation with empty or all-NA entries is deprecated. In a future version, this will no longer exclude empty or all-NA columns when determining the result dtypes. To retain the old behavior, exclude the relevant entries before the concat operation.\n",
      "  mod_results = pd.concat([mod_results, mod_results_current_fold])\n"
     ]
    },
    {
     "data": {
      "text/html": [
       "<div>\n",
       "<style scoped>\n",
       "    .dataframe tbody tr th:only-of-type {\n",
       "        vertical-align: middle;\n",
       "    }\n",
       "\n",
       "    .dataframe tbody tr th {\n",
       "        vertical-align: top;\n",
       "    }\n",
       "\n",
       "    .dataframe thead th {\n",
       "        text-align: right;\n",
       "    }\n",
       "</style>\n",
       "<table border=\"1\" class=\"dataframe\">\n",
       "  <thead>\n",
       "    <tr style=\"text-align: right;\">\n",
       "      <th></th>\n",
       "      <th>algorithm</th>\n",
       "      <th>fold</th>\n",
       "      <th>file_name</th>\n",
       "      <th>mae</th>\n",
       "      <th>r2</th>\n",
       "      <th>explained_variance</th>\n",
       "    </tr>\n",
       "  </thead>\n",
       "  <tbody>\n",
       "    <tr>\n",
       "      <th>0</th>\n",
       "      <td>lasso regression-0</td>\n",
       "      <td>0</td>\n",
       "      <td>unharm_mix_llreg.0</td>\n",
       "      <td>3.167097</td>\n",
       "      <td>0.945834</td>\n",
       "      <td>0.945982</td>\n",
       "    </tr>\n",
       "    <tr>\n",
       "      <th>0</th>\n",
       "      <td>lasso regression-1</td>\n",
       "      <td>1</td>\n",
       "      <td>unharm_mix_llreg.1</td>\n",
       "      <td>3.005264</td>\n",
       "      <td>0.951740</td>\n",
       "      <td>0.951767</td>\n",
       "    </tr>\n",
       "    <tr>\n",
       "      <th>0</th>\n",
       "      <td>lasso regression-2</td>\n",
       "      <td>2</td>\n",
       "      <td>unharm_mix_llreg.2</td>\n",
       "      <td>2.917516</td>\n",
       "      <td>0.950897</td>\n",
       "      <td>0.951087</td>\n",
       "    </tr>\n",
       "    <tr>\n",
       "      <th>0</th>\n",
       "      <td>lasso regression-3</td>\n",
       "      <td>3</td>\n",
       "      <td>unharm_mix_llreg.3</td>\n",
       "      <td>3.313136</td>\n",
       "      <td>0.939982</td>\n",
       "      <td>0.940521</td>\n",
       "    </tr>\n",
       "    <tr>\n",
       "      <th>0</th>\n",
       "      <td>lasso regression-4</td>\n",
       "      <td>4</td>\n",
       "      <td>unharm_mix_llreg.4</td>\n",
       "      <td>3.012993</td>\n",
       "      <td>0.950917</td>\n",
       "      <td>0.951012</td>\n",
       "    </tr>\n",
       "  </tbody>\n",
       "</table>\n",
       "</div>"
      ],
      "text/plain": [
       "            algorithm fold           file_name       mae        r2  \\\n",
       "0  lasso regression-0    0  unharm_mix_llreg.0  3.167097  0.945834   \n",
       "0  lasso regression-1    1  unharm_mix_llreg.1  3.005264  0.951740   \n",
       "0  lasso regression-2    2  unharm_mix_llreg.2  2.917516  0.950897   \n",
       "0  lasso regression-3    3  unharm_mix_llreg.3  3.313136  0.939982   \n",
       "0  lasso regression-4    4  unharm_mix_llreg.4  3.012993  0.950917   \n",
       "\n",
       "   explained_variance  \n",
       "0            0.945982  \n",
       "0            0.951767  \n",
       "0            0.951087  \n",
       "0            0.940521  \n",
       "0            0.951012  "
      ]
     },
     "execution_count": 174,
     "metadata": {},
     "output_type": "execute_result"
    }
   ],
   "source": [
    "llreg_k_frame, llreg_y_frame, models = sep.stratified_cat_and_cont_categories_shuffle_split('lasso regression', 'unharm_mix_llreg',  linear_model.LassoLars(alpha=0.01), ml_matrix, X[:,1:], y)\n",
    "llreg_k_frame"
   ]
  },
  {
   "cell_type": "code",
   "execution_count": 175,
   "id": "46abddfe-e9ae-4f08-b869-5fc5d3dbda14",
   "metadata": {
    "tags": []
   },
   "outputs": [],
   "source": [
    "llreg_k_frame.to_csv(output_folder + 'llreg_k_frame_combatplusplus_harm.csv')"
   ]
  },
  {
   "cell_type": "code",
   "execution_count": 176,
   "id": "677564bc-7d69-4961-a7e4-563117cf9999",
   "metadata": {
    "tags": []
   },
   "outputs": [
    {
     "data": {
      "text/html": [
       "<div>\n",
       "<style scoped>\n",
       "    .dataframe tbody tr th:only-of-type {\n",
       "        vertical-align: middle;\n",
       "    }\n",
       "\n",
       "    .dataframe tbody tr th {\n",
       "        vertical-align: top;\n",
       "    }\n",
       "\n",
       "    .dataframe thead th {\n",
       "        text-align: right;\n",
       "    }\n",
       "</style>\n",
       "<table border=\"1\" class=\"dataframe\">\n",
       "  <thead>\n",
       "    <tr style=\"text-align: right;\">\n",
       "      <th></th>\n",
       "      <th>algorithm</th>\n",
       "      <th>file_name</th>\n",
       "      <th>mae</th>\n",
       "      <th>r2</th>\n",
       "      <th>explained_variance</th>\n",
       "    </tr>\n",
       "  </thead>\n",
       "  <tbody>\n",
       "    <tr>\n",
       "      <th>0</th>\n",
       "      <td>0    lasso regression-0\n",
       "0    lasso regression-...</td>\n",
       "      <td>0    unharm_mix_llreg.0\n",
       "0    unharm_mix_llreg....</td>\n",
       "      <td>3.083201</td>\n",
       "      <td>0.947874</td>\n",
       "      <td>0.948074</td>\n",
       "    </tr>\n",
       "  </tbody>\n",
       "</table>\n",
       "</div>"
      ],
      "text/plain": [
       "                                           algorithm  \\\n",
       "0  0    lasso regression-0\n",
       "0    lasso regression-...   \n",
       "\n",
       "                                           file_name       mae        r2  \\\n",
       "0  0    unharm_mix_llreg.0\n",
       "0    unharm_mix_llreg....  3.083201  0.947874   \n",
       "\n",
       "   explained_variance  \n",
       "0            0.948074  "
      ]
     },
     "execution_count": 176,
     "metadata": {},
     "output_type": "execute_result"
    }
   ],
   "source": [
    "avg_llreg = sep.avg_k_folds(llreg_k_frame)\n",
    "avg_llreg"
   ]
  },
  {
   "cell_type": "code",
   "execution_count": 177,
   "id": "16b37956-2e32-4c2b-bb26-956c6951dd54",
   "metadata": {
    "tags": []
   },
   "outputs": [
    {
     "data": {
      "text/html": [
       "<div>\n",
       "<style scoped>\n",
       "    .dataframe tbody tr th:only-of-type {\n",
       "        vertical-align: middle;\n",
       "    }\n",
       "\n",
       "    .dataframe tbody tr th {\n",
       "        vertical-align: top;\n",
       "    }\n",
       "\n",
       "    .dataframe thead th {\n",
       "        text-align: right;\n",
       "    }\n",
       "</style>\n",
       "<table border=\"1\" class=\"dataframe\">\n",
       "  <thead>\n",
       "    <tr style=\"text-align: right;\">\n",
       "      <th></th>\n",
       "      <th>y_test</th>\n",
       "      <th>y_pred</th>\n",
       "    </tr>\n",
       "  </thead>\n",
       "  <tbody>\n",
       "    <tr>\n",
       "      <th>0</th>\n",
       "      <td>27.550000</td>\n",
       "      <td>36.831496</td>\n",
       "    </tr>\n",
       "    <tr>\n",
       "      <th>1</th>\n",
       "      <td>52.495890</td>\n",
       "      <td>54.520112</td>\n",
       "    </tr>\n",
       "    <tr>\n",
       "      <th>2</th>\n",
       "      <td>31.372603</td>\n",
       "      <td>30.362388</td>\n",
       "    </tr>\n",
       "    <tr>\n",
       "      <th>3</th>\n",
       "      <td>50.345205</td>\n",
       "      <td>52.035684</td>\n",
       "    </tr>\n",
       "    <tr>\n",
       "      <th>4</th>\n",
       "      <td>77.593735</td>\n",
       "      <td>72.587939</td>\n",
       "    </tr>\n",
       "    <tr>\n",
       "      <th>...</th>\n",
       "      <td>...</td>\n",
       "      <td>...</td>\n",
       "    </tr>\n",
       "    <tr>\n",
       "      <th>272</th>\n",
       "      <td>69.424658</td>\n",
       "      <td>73.064995</td>\n",
       "    </tr>\n",
       "    <tr>\n",
       "      <th>273</th>\n",
       "      <td>48.730000</td>\n",
       "      <td>45.402442</td>\n",
       "    </tr>\n",
       "    <tr>\n",
       "      <th>274</th>\n",
       "      <td>60.183060</td>\n",
       "      <td>63.298349</td>\n",
       "    </tr>\n",
       "    <tr>\n",
       "      <th>275</th>\n",
       "      <td>40.355191</td>\n",
       "      <td>37.498809</td>\n",
       "    </tr>\n",
       "    <tr>\n",
       "      <th>276</th>\n",
       "      <td>69.506557</td>\n",
       "      <td>65.004835</td>\n",
       "    </tr>\n",
       "  </tbody>\n",
       "</table>\n",
       "<p>1385 rows × 2 columns</p>\n",
       "</div>"
      ],
      "text/plain": [
       "        y_test     y_pred\n",
       "0    27.550000  36.831496\n",
       "1    52.495890  54.520112\n",
       "2    31.372603  30.362388\n",
       "3    50.345205  52.035684\n",
       "4    77.593735  72.587939\n",
       "..         ...        ...\n",
       "272  69.424658  73.064995\n",
       "273  48.730000  45.402442\n",
       "274  60.183060  63.298349\n",
       "275  40.355191  37.498809\n",
       "276  69.506557  65.004835\n",
       "\n",
       "[1385 rows x 2 columns]"
      ]
     },
     "execution_count": 177,
     "metadata": {},
     "output_type": "execute_result"
    }
   ],
   "source": [
    "llreg_y_frame"
   ]
  },
  {
   "cell_type": "code",
   "execution_count": 178,
   "id": "a558c561-1c3e-41f8-b7bb-3cfa85aecada",
   "metadata": {
    "tags": []
   },
   "outputs": [],
   "source": [
    "llreg_y_frame.to_csv(output_folder + 'llreg_y_frame_combatplusplus_harm.csv')"
   ]
  },
  {
   "cell_type": "code",
   "execution_count": 179,
   "id": "5ef586e4-4a58-4c39-86bc-1a7062b2615a",
   "metadata": {
    "tags": []
   },
   "outputs": [
    {
     "data": {
      "text/html": [
       "<style>#sk-container-id-16 {color: black;}#sk-container-id-16 pre{padding: 0;}#sk-container-id-16 div.sk-toggleable {background-color: white;}#sk-container-id-16 label.sk-toggleable__label {cursor: pointer;display: block;width: 100%;margin-bottom: 0;padding: 0.3em;box-sizing: border-box;text-align: center;}#sk-container-id-16 label.sk-toggleable__label-arrow:before {content: \"▸\";float: left;margin-right: 0.25em;color: #696969;}#sk-container-id-16 label.sk-toggleable__label-arrow:hover:before {color: black;}#sk-container-id-16 div.sk-estimator:hover label.sk-toggleable__label-arrow:before {color: black;}#sk-container-id-16 div.sk-toggleable__content {max-height: 0;max-width: 0;overflow: hidden;text-align: left;background-color: #f0f8ff;}#sk-container-id-16 div.sk-toggleable__content pre {margin: 0.2em;color: black;border-radius: 0.25em;background-color: #f0f8ff;}#sk-container-id-16 input.sk-toggleable__control:checked~div.sk-toggleable__content {max-height: 200px;max-width: 100%;overflow: auto;}#sk-container-id-16 input.sk-toggleable__control:checked~label.sk-toggleable__label-arrow:before {content: \"▾\";}#sk-container-id-16 div.sk-estimator input.sk-toggleable__control:checked~label.sk-toggleable__label {background-color: #d4ebff;}#sk-container-id-16 div.sk-label input.sk-toggleable__control:checked~label.sk-toggleable__label {background-color: #d4ebff;}#sk-container-id-16 input.sk-hidden--visually {border: 0;clip: rect(1px 1px 1px 1px);clip: rect(1px, 1px, 1px, 1px);height: 1px;margin: -1px;overflow: hidden;padding: 0;position: absolute;width: 1px;}#sk-container-id-16 div.sk-estimator {font-family: monospace;background-color: #f0f8ff;border: 1px dotted black;border-radius: 0.25em;box-sizing: border-box;margin-bottom: 0.5em;}#sk-container-id-16 div.sk-estimator:hover {background-color: #d4ebff;}#sk-container-id-16 div.sk-parallel-item::after {content: \"\";width: 100%;border-bottom: 1px solid gray;flex-grow: 1;}#sk-container-id-16 div.sk-label:hover label.sk-toggleable__label {background-color: #d4ebff;}#sk-container-id-16 div.sk-serial::before {content: \"\";position: absolute;border-left: 1px solid gray;box-sizing: border-box;top: 0;bottom: 0;left: 50%;z-index: 0;}#sk-container-id-16 div.sk-serial {display: flex;flex-direction: column;align-items: center;background-color: white;padding-right: 0.2em;padding-left: 0.2em;position: relative;}#sk-container-id-16 div.sk-item {position: relative;z-index: 1;}#sk-container-id-16 div.sk-parallel {display: flex;align-items: stretch;justify-content: center;background-color: white;position: relative;}#sk-container-id-16 div.sk-item::before, #sk-container-id-16 div.sk-parallel-item::before {content: \"\";position: absolute;border-left: 1px solid gray;box-sizing: border-box;top: 0;bottom: 0;left: 50%;z-index: -1;}#sk-container-id-16 div.sk-parallel-item {display: flex;flex-direction: column;z-index: 1;position: relative;background-color: white;}#sk-container-id-16 div.sk-parallel-item:first-child::after {align-self: flex-end;width: 50%;}#sk-container-id-16 div.sk-parallel-item:last-child::after {align-self: flex-start;width: 50%;}#sk-container-id-16 div.sk-parallel-item:only-child::after {width: 0;}#sk-container-id-16 div.sk-dashed-wrapped {border: 1px dashed gray;margin: 0 0.4em 0.5em 0.4em;box-sizing: border-box;padding-bottom: 0.4em;background-color: white;}#sk-container-id-16 div.sk-label label {font-family: monospace;font-weight: bold;display: inline-block;line-height: 1.2em;}#sk-container-id-16 div.sk-label-container {text-align: center;}#sk-container-id-16 div.sk-container {/* jupyter's `normalize.less` sets `[hidden] { display: none; }` but bootstrap.min.css set `[hidden] { display: none !important; }` so we also need the `!important` here to be able to override the default hidden behavior on the sphinx rendered scikit-learn.org. See: https://github.com/scikit-learn/scikit-learn/issues/21755 */display: inline-block !important;position: relative;}#sk-container-id-16 div.sk-text-repr-fallback {display: none;}</style><div id=\"sk-container-id-16\" class=\"sk-top-container\"><div class=\"sk-text-repr-fallback\"><pre>LassoLars(alpha=0.01)</pre><b>In a Jupyter environment, please rerun this cell to show the HTML representation or trust the notebook. <br />On GitHub, the HTML representation is unable to render, please try loading this page with nbviewer.org.</b></div><div class=\"sk-container\" hidden><div class=\"sk-item\"><div class=\"sk-estimator sk-toggleable\"><input class=\"sk-toggleable__control sk-hidden--visually\" id=\"sk-estimator-id-16\" type=\"checkbox\" checked><label for=\"sk-estimator-id-16\" class=\"sk-toggleable__label sk-toggleable__label-arrow\">LassoLars</label><div class=\"sk-toggleable__content\"><pre>LassoLars(alpha=0.01)</pre></div></div></div></div></div>"
      ],
      "text/plain": [
       "LassoLars(alpha=0.01)"
      ]
     },
     "execution_count": 179,
     "metadata": {},
     "output_type": "execute_result"
    }
   ],
   "source": [
    "llreg = models[0]\n",
    "llreg[0]"
   ]
  },
  {
   "cell_type": "code",
   "execution_count": 180,
   "id": "771f7170-67c2-42e0-a0e3-a0c35203f206",
   "metadata": {
    "tags": []
   },
   "outputs": [],
   "source": [
    "## optional save models\n",
    "#joblib.dump(linr[0], ('../result_models/'+ 'unharm_mix_linr0.sav'))\n",
    "#joblib.dump(linr[1], ('../result_models/'+ 'unharm_mix_linr1.sav'))\n",
    "#joblib.dump(linr[2], ('../result_models/'+ 'unharm_mix_linr2.sav'))\n",
    "#joblib.dump(linr[3], ('../result_models/'+ 'unharm_mix_linr3.sav'))\n",
    "#joblib.dump(linr[4], ('../result_models/'+ 'unharm_mix_linr4.sav'))"
   ]
  },
  {
   "cell_type": "code",
   "execution_count": 181,
   "id": "bdfcdfe1-a080-42f9-89bc-2d0ee14f08d1",
   "metadata": {
    "tags": []
   },
   "outputs": [
    {
     "name": "stderr",
     "output_type": "stream",
     "text": [
      "/scratch/radv/mdijsselhof/cvasl/extended_harm_paper/../cvasl/seperated.py:1055: FutureWarning: The behavior of DataFrame concatenation with empty or all-NA entries is deprecated. In a future version, this will no longer exclude empty or all-NA columns when determining the result dtypes. To retain the old behavior, exclude the relevant entries before the concat operation.\n",
      "  mod_results = pd.concat([mod_results, mod_results_current_fold])\n",
      "/scratch/radv/mdijsselhof/cvasl/extended_harm_paper/../cvasl/seperated.py:1055: FutureWarning: The behavior of DataFrame concatenation with empty or all-NA entries is deprecated. In a future version, this will no longer exclude empty or all-NA columns when determining the result dtypes. To retain the old behavior, exclude the relevant entries before the concat operation.\n",
      "  mod_results = pd.concat([mod_results, mod_results_current_fold])\n",
      "/scratch/radv/mdijsselhof/cvasl/extended_harm_paper/../cvasl/seperated.py:1055: FutureWarning: The behavior of DataFrame concatenation with empty or all-NA entries is deprecated. In a future version, this will no longer exclude empty or all-NA columns when determining the result dtypes. To retain the old behavior, exclude the relevant entries before the concat operation.\n",
      "  mod_results = pd.concat([mod_results, mod_results_current_fold])\n",
      "/scratch/radv/mdijsselhof/cvasl/extended_harm_paper/../cvasl/seperated.py:1055: FutureWarning: The behavior of DataFrame concatenation with empty or all-NA entries is deprecated. In a future version, this will no longer exclude empty or all-NA columns when determining the result dtypes. To retain the old behavior, exclude the relevant entries before the concat operation.\n",
      "  mod_results = pd.concat([mod_results, mod_results_current_fold])\n",
      "/scratch/radv/mdijsselhof/cvasl/extended_harm_paper/../cvasl/seperated.py:1055: FutureWarning: The behavior of DataFrame concatenation with empty or all-NA entries is deprecated. In a future version, this will no longer exclude empty or all-NA columns when determining the result dtypes. To retain the old behavior, exclude the relevant entries before the concat operation.\n",
      "  mod_results = pd.concat([mod_results, mod_results_current_fold])\n"
     ]
    },
    {
     "data": {
      "text/html": [
       "<div>\n",
       "<style scoped>\n",
       "    .dataframe tbody tr th:only-of-type {\n",
       "        vertical-align: middle;\n",
       "    }\n",
       "\n",
       "    .dataframe tbody tr th {\n",
       "        vertical-align: top;\n",
       "    }\n",
       "\n",
       "    .dataframe thead th {\n",
       "        text-align: right;\n",
       "    }\n",
       "</style>\n",
       "<table border=\"1\" class=\"dataframe\">\n",
       "  <thead>\n",
       "    <tr style=\"text-align: right;\">\n",
       "      <th></th>\n",
       "      <th>algorithm</th>\n",
       "      <th>fold</th>\n",
       "      <th>file_name</th>\n",
       "      <th>mae</th>\n",
       "      <th>r2</th>\n",
       "      <th>explained_variance</th>\n",
       "    </tr>\n",
       "  </thead>\n",
       "  <tbody>\n",
       "    <tr>\n",
       "      <th>0</th>\n",
       "      <td>decision tree-0</td>\n",
       "      <td>0</td>\n",
       "      <td>unharm_mix_dtree.0</td>\n",
       "      <td>4.462672</td>\n",
       "      <td>0.891351</td>\n",
       "      <td>0.891528</td>\n",
       "    </tr>\n",
       "    <tr>\n",
       "      <th>0</th>\n",
       "      <td>decision tree-1</td>\n",
       "      <td>1</td>\n",
       "      <td>unharm_mix_dtree.1</td>\n",
       "      <td>4.083627</td>\n",
       "      <td>0.910416</td>\n",
       "      <td>0.910596</td>\n",
       "    </tr>\n",
       "    <tr>\n",
       "      <th>0</th>\n",
       "      <td>decision tree-2</td>\n",
       "      <td>2</td>\n",
       "      <td>unharm_mix_dtree.2</td>\n",
       "      <td>4.580262</td>\n",
       "      <td>0.871544</td>\n",
       "      <td>0.873685</td>\n",
       "    </tr>\n",
       "    <tr>\n",
       "      <th>0</th>\n",
       "      <td>decision tree-3</td>\n",
       "      <td>3</td>\n",
       "      <td>unharm_mix_dtree.3</td>\n",
       "      <td>4.410002</td>\n",
       "      <td>0.885069</td>\n",
       "      <td>0.885229</td>\n",
       "    </tr>\n",
       "    <tr>\n",
       "      <th>0</th>\n",
       "      <td>decision tree-4</td>\n",
       "      <td>4</td>\n",
       "      <td>unharm_mix_dtree.4</td>\n",
       "      <td>4.464044</td>\n",
       "      <td>0.883201</td>\n",
       "      <td>0.883409</td>\n",
       "    </tr>\n",
       "  </tbody>\n",
       "</table>\n",
       "</div>"
      ],
      "text/plain": [
       "         algorithm fold           file_name       mae        r2  \\\n",
       "0  decision tree-0    0  unharm_mix_dtree.0  4.462672  0.891351   \n",
       "0  decision tree-1    1  unharm_mix_dtree.1  4.083627  0.910416   \n",
       "0  decision tree-2    2  unharm_mix_dtree.2  4.580262  0.871544   \n",
       "0  decision tree-3    3  unharm_mix_dtree.3  4.410002  0.885069   \n",
       "0  decision tree-4    4  unharm_mix_dtree.4  4.464044  0.883201   \n",
       "\n",
       "   explained_variance  \n",
       "0            0.891528  \n",
       "0            0.910596  \n",
       "0            0.873685  \n",
       "0            0.885229  \n",
       "0            0.883409  "
      ]
     },
     "execution_count": 181,
     "metadata": {},
     "output_type": "execute_result"
    }
   ],
   "source": [
    "dtree_k_frame, dtree_y_frame, models = sep.stratified_cat_and_cont_categories_shuffle_split('decision tree', 'unharm_mix_dtree',  tree.DecisionTreeRegressor(), ml_matrix, X[:,1:], y)\n",
    "dtree_k_frame"
   ]
  },
  {
   "cell_type": "code",
   "execution_count": 182,
   "id": "cbbaceeb-2a59-4b71-a31d-847e8923a626",
   "metadata": {
    "tags": []
   },
   "outputs": [],
   "source": [
    "dtree_k_frame.to_csv(output_folder + 'dtree_k_frame_combatplusplus_harm.csv')"
   ]
  },
  {
   "cell_type": "code",
   "execution_count": 183,
   "id": "789640fb-2a27-435e-ac25-50ef1015e215",
   "metadata": {
    "tags": []
   },
   "outputs": [
    {
     "data": {
      "text/html": [
       "<div>\n",
       "<style scoped>\n",
       "    .dataframe tbody tr th:only-of-type {\n",
       "        vertical-align: middle;\n",
       "    }\n",
       "\n",
       "    .dataframe tbody tr th {\n",
       "        vertical-align: top;\n",
       "    }\n",
       "\n",
       "    .dataframe thead th {\n",
       "        text-align: right;\n",
       "    }\n",
       "</style>\n",
       "<table border=\"1\" class=\"dataframe\">\n",
       "  <thead>\n",
       "    <tr style=\"text-align: right;\">\n",
       "      <th></th>\n",
       "      <th>algorithm</th>\n",
       "      <th>file_name</th>\n",
       "      <th>mae</th>\n",
       "      <th>r2</th>\n",
       "      <th>explained_variance</th>\n",
       "    </tr>\n",
       "  </thead>\n",
       "  <tbody>\n",
       "    <tr>\n",
       "      <th>0</th>\n",
       "      <td>0    decision tree-0\n",
       "0    decision tree-1\n",
       "0   ...</td>\n",
       "      <td>0    unharm_mix_dtree.0\n",
       "0    unharm_mix_dtree....</td>\n",
       "      <td>4.400121</td>\n",
       "      <td>0.888316</td>\n",
       "      <td>0.888889</td>\n",
       "    </tr>\n",
       "  </tbody>\n",
       "</table>\n",
       "</div>"
      ],
      "text/plain": [
       "                                           algorithm  \\\n",
       "0  0    decision tree-0\n",
       "0    decision tree-1\n",
       "0   ...   \n",
       "\n",
       "                                           file_name       mae        r2  \\\n",
       "0  0    unharm_mix_dtree.0\n",
       "0    unharm_mix_dtree....  4.400121  0.888316   \n",
       "\n",
       "   explained_variance  \n",
       "0            0.888889  "
      ]
     },
     "execution_count": 183,
     "metadata": {},
     "output_type": "execute_result"
    }
   ],
   "source": [
    "avg_dtree = sep.avg_k_folds(dtree_k_frame)\n",
    "avg_dtree"
   ]
  },
  {
   "cell_type": "code",
   "execution_count": 184,
   "id": "fad10001-55db-4c26-a2bc-a8a2bbcf5dd7",
   "metadata": {
    "tags": []
   },
   "outputs": [
    {
     "data": {
      "text/html": [
       "<div>\n",
       "<style scoped>\n",
       "    .dataframe tbody tr th:only-of-type {\n",
       "        vertical-align: middle;\n",
       "    }\n",
       "\n",
       "    .dataframe tbody tr th {\n",
       "        vertical-align: top;\n",
       "    }\n",
       "\n",
       "    .dataframe thead th {\n",
       "        text-align: right;\n",
       "    }\n",
       "</style>\n",
       "<table border=\"1\" class=\"dataframe\">\n",
       "  <thead>\n",
       "    <tr style=\"text-align: right;\">\n",
       "      <th></th>\n",
       "      <th>y_test</th>\n",
       "      <th>y_pred</th>\n",
       "    </tr>\n",
       "  </thead>\n",
       "  <tbody>\n",
       "    <tr>\n",
       "      <th>0</th>\n",
       "      <td>27.550000</td>\n",
       "      <td>36.540000</td>\n",
       "    </tr>\n",
       "    <tr>\n",
       "      <th>1</th>\n",
       "      <td>52.495890</td>\n",
       "      <td>53.760289</td>\n",
       "    </tr>\n",
       "    <tr>\n",
       "      <th>2</th>\n",
       "      <td>31.372603</td>\n",
       "      <td>31.350000</td>\n",
       "    </tr>\n",
       "    <tr>\n",
       "      <th>3</th>\n",
       "      <td>50.345205</td>\n",
       "      <td>51.130000</td>\n",
       "    </tr>\n",
       "    <tr>\n",
       "      <th>4</th>\n",
       "      <td>77.593735</td>\n",
       "      <td>70.456808</td>\n",
       "    </tr>\n",
       "    <tr>\n",
       "      <th>...</th>\n",
       "      <td>...</td>\n",
       "      <td>...</td>\n",
       "    </tr>\n",
       "    <tr>\n",
       "      <th>272</th>\n",
       "      <td>69.424658</td>\n",
       "      <td>69.986301</td>\n",
       "    </tr>\n",
       "    <tr>\n",
       "      <th>273</th>\n",
       "      <td>48.730000</td>\n",
       "      <td>46.512329</td>\n",
       "    </tr>\n",
       "    <tr>\n",
       "      <th>274</th>\n",
       "      <td>60.183060</td>\n",
       "      <td>61.972176</td>\n",
       "    </tr>\n",
       "    <tr>\n",
       "      <th>275</th>\n",
       "      <td>40.355191</td>\n",
       "      <td>35.767760</td>\n",
       "    </tr>\n",
       "    <tr>\n",
       "      <th>276</th>\n",
       "      <td>69.506557</td>\n",
       "      <td>67.128767</td>\n",
       "    </tr>\n",
       "  </tbody>\n",
       "</table>\n",
       "<p>1385 rows × 2 columns</p>\n",
       "</div>"
      ],
      "text/plain": [
       "        y_test     y_pred\n",
       "0    27.550000  36.540000\n",
       "1    52.495890  53.760289\n",
       "2    31.372603  31.350000\n",
       "3    50.345205  51.130000\n",
       "4    77.593735  70.456808\n",
       "..         ...        ...\n",
       "272  69.424658  69.986301\n",
       "273  48.730000  46.512329\n",
       "274  60.183060  61.972176\n",
       "275  40.355191  35.767760\n",
       "276  69.506557  67.128767\n",
       "\n",
       "[1385 rows x 2 columns]"
      ]
     },
     "execution_count": 184,
     "metadata": {},
     "output_type": "execute_result"
    }
   ],
   "source": [
    "dtree_y_frame"
   ]
  },
  {
   "cell_type": "code",
   "execution_count": 185,
   "id": "919ad464-3185-4060-af96-610eff249880",
   "metadata": {
    "tags": []
   },
   "outputs": [],
   "source": [
    "dtree_y_frame.to_csv(output_folder + 'dtree_y_frame_combatplusplus_harm.csv')"
   ]
  },
  {
   "cell_type": "code",
   "execution_count": 186,
   "id": "31cc0344-f68d-44c4-afd4-d9ee1b4b6ac4",
   "metadata": {
    "tags": []
   },
   "outputs": [
    {
     "data": {
      "text/html": [
       "<style>#sk-container-id-17 {color: black;}#sk-container-id-17 pre{padding: 0;}#sk-container-id-17 div.sk-toggleable {background-color: white;}#sk-container-id-17 label.sk-toggleable__label {cursor: pointer;display: block;width: 100%;margin-bottom: 0;padding: 0.3em;box-sizing: border-box;text-align: center;}#sk-container-id-17 label.sk-toggleable__label-arrow:before {content: \"▸\";float: left;margin-right: 0.25em;color: #696969;}#sk-container-id-17 label.sk-toggleable__label-arrow:hover:before {color: black;}#sk-container-id-17 div.sk-estimator:hover label.sk-toggleable__label-arrow:before {color: black;}#sk-container-id-17 div.sk-toggleable__content {max-height: 0;max-width: 0;overflow: hidden;text-align: left;background-color: #f0f8ff;}#sk-container-id-17 div.sk-toggleable__content pre {margin: 0.2em;color: black;border-radius: 0.25em;background-color: #f0f8ff;}#sk-container-id-17 input.sk-toggleable__control:checked~div.sk-toggleable__content {max-height: 200px;max-width: 100%;overflow: auto;}#sk-container-id-17 input.sk-toggleable__control:checked~label.sk-toggleable__label-arrow:before {content: \"▾\";}#sk-container-id-17 div.sk-estimator input.sk-toggleable__control:checked~label.sk-toggleable__label {background-color: #d4ebff;}#sk-container-id-17 div.sk-label input.sk-toggleable__control:checked~label.sk-toggleable__label {background-color: #d4ebff;}#sk-container-id-17 input.sk-hidden--visually {border: 0;clip: rect(1px 1px 1px 1px);clip: rect(1px, 1px, 1px, 1px);height: 1px;margin: -1px;overflow: hidden;padding: 0;position: absolute;width: 1px;}#sk-container-id-17 div.sk-estimator {font-family: monospace;background-color: #f0f8ff;border: 1px dotted black;border-radius: 0.25em;box-sizing: border-box;margin-bottom: 0.5em;}#sk-container-id-17 div.sk-estimator:hover {background-color: #d4ebff;}#sk-container-id-17 div.sk-parallel-item::after {content: \"\";width: 100%;border-bottom: 1px solid gray;flex-grow: 1;}#sk-container-id-17 div.sk-label:hover label.sk-toggleable__label {background-color: #d4ebff;}#sk-container-id-17 div.sk-serial::before {content: \"\";position: absolute;border-left: 1px solid gray;box-sizing: border-box;top: 0;bottom: 0;left: 50%;z-index: 0;}#sk-container-id-17 div.sk-serial {display: flex;flex-direction: column;align-items: center;background-color: white;padding-right: 0.2em;padding-left: 0.2em;position: relative;}#sk-container-id-17 div.sk-item {position: relative;z-index: 1;}#sk-container-id-17 div.sk-parallel {display: flex;align-items: stretch;justify-content: center;background-color: white;position: relative;}#sk-container-id-17 div.sk-item::before, #sk-container-id-17 div.sk-parallel-item::before {content: \"\";position: absolute;border-left: 1px solid gray;box-sizing: border-box;top: 0;bottom: 0;left: 50%;z-index: -1;}#sk-container-id-17 div.sk-parallel-item {display: flex;flex-direction: column;z-index: 1;position: relative;background-color: white;}#sk-container-id-17 div.sk-parallel-item:first-child::after {align-self: flex-end;width: 50%;}#sk-container-id-17 div.sk-parallel-item:last-child::after {align-self: flex-start;width: 50%;}#sk-container-id-17 div.sk-parallel-item:only-child::after {width: 0;}#sk-container-id-17 div.sk-dashed-wrapped {border: 1px dashed gray;margin: 0 0.4em 0.5em 0.4em;box-sizing: border-box;padding-bottom: 0.4em;background-color: white;}#sk-container-id-17 div.sk-label label {font-family: monospace;font-weight: bold;display: inline-block;line-height: 1.2em;}#sk-container-id-17 div.sk-label-container {text-align: center;}#sk-container-id-17 div.sk-container {/* jupyter's `normalize.less` sets `[hidden] { display: none; }` but bootstrap.min.css set `[hidden] { display: none !important; }` so we also need the `!important` here to be able to override the default hidden behavior on the sphinx rendered scikit-learn.org. See: https://github.com/scikit-learn/scikit-learn/issues/21755 */display: inline-block !important;position: relative;}#sk-container-id-17 div.sk-text-repr-fallback {display: none;}</style><div id=\"sk-container-id-17\" class=\"sk-top-container\"><div class=\"sk-text-repr-fallback\"><pre>DecisionTreeRegressor()</pre><b>In a Jupyter environment, please rerun this cell to show the HTML representation or trust the notebook. <br />On GitHub, the HTML representation is unable to render, please try loading this page with nbviewer.org.</b></div><div class=\"sk-container\" hidden><div class=\"sk-item\"><div class=\"sk-estimator sk-toggleable\"><input class=\"sk-toggleable__control sk-hidden--visually\" id=\"sk-estimator-id-17\" type=\"checkbox\" checked><label for=\"sk-estimator-id-17\" class=\"sk-toggleable__label sk-toggleable__label-arrow\">DecisionTreeRegressor</label><div class=\"sk-toggleable__content\"><pre>DecisionTreeRegressor()</pre></div></div></div></div></div>"
      ],
      "text/plain": [
       "DecisionTreeRegressor()"
      ]
     },
     "execution_count": 186,
     "metadata": {},
     "output_type": "execute_result"
    }
   ],
   "source": [
    "dtree = models[0]\n",
    "dtree[0]"
   ]
  },
  {
   "cell_type": "code",
   "execution_count": 187,
   "id": "ff9bc510-7768-4fb0-b7c9-9ccb29a03431",
   "metadata": {
    "tags": []
   },
   "outputs": [
    {
     "name": "stderr",
     "output_type": "stream",
     "text": [
      "/scratch/radv/mdijsselhof/cvasl/extended_harm_paper/../cvasl/seperated.py:1055: FutureWarning: The behavior of DataFrame concatenation with empty or all-NA entries is deprecated. In a future version, this will no longer exclude empty or all-NA columns when determining the result dtypes. To retain the old behavior, exclude the relevant entries before the concat operation.\n",
      "  mod_results = pd.concat([mod_results, mod_results_current_fold])\n",
      "/scratch/radv/mdijsselhof/cvasl/extended_harm_paper/../cvasl/seperated.py:1055: FutureWarning: The behavior of DataFrame concatenation with empty or all-NA entries is deprecated. In a future version, this will no longer exclude empty or all-NA columns when determining the result dtypes. To retain the old behavior, exclude the relevant entries before the concat operation.\n",
      "  mod_results = pd.concat([mod_results, mod_results_current_fold])\n",
      "/scratch/radv/mdijsselhof/cvasl/extended_harm_paper/../cvasl/seperated.py:1055: FutureWarning: The behavior of DataFrame concatenation with empty or all-NA entries is deprecated. In a future version, this will no longer exclude empty or all-NA columns when determining the result dtypes. To retain the old behavior, exclude the relevant entries before the concat operation.\n",
      "  mod_results = pd.concat([mod_results, mod_results_current_fold])\n",
      "/scratch/radv/mdijsselhof/cvasl/extended_harm_paper/../cvasl/seperated.py:1055: FutureWarning: The behavior of DataFrame concatenation with empty or all-NA entries is deprecated. In a future version, this will no longer exclude empty or all-NA columns when determining the result dtypes. To retain the old behavior, exclude the relevant entries before the concat operation.\n",
      "  mod_results = pd.concat([mod_results, mod_results_current_fold])\n",
      "/scratch/radv/mdijsselhof/cvasl/extended_harm_paper/../cvasl/seperated.py:1055: FutureWarning: The behavior of DataFrame concatenation with empty or all-NA entries is deprecated. In a future version, this will no longer exclude empty or all-NA columns when determining the result dtypes. To retain the old behavior, exclude the relevant entries before the concat operation.\n",
      "  mod_results = pd.concat([mod_results, mod_results_current_fold])\n"
     ]
    },
    {
     "data": {
      "text/html": [
       "<div>\n",
       "<style scoped>\n",
       "    .dataframe tbody tr th:only-of-type {\n",
       "        vertical-align: middle;\n",
       "    }\n",
       "\n",
       "    .dataframe tbody tr th {\n",
       "        vertical-align: top;\n",
       "    }\n",
       "\n",
       "    .dataframe thead th {\n",
       "        text-align: right;\n",
       "    }\n",
       "</style>\n",
       "<table border=\"1\" class=\"dataframe\">\n",
       "  <thead>\n",
       "    <tr style=\"text-align: right;\">\n",
       "      <th></th>\n",
       "      <th>algorithm</th>\n",
       "      <th>fold</th>\n",
       "      <th>file_name</th>\n",
       "      <th>mae</th>\n",
       "      <th>r2</th>\n",
       "      <th>explained_variance</th>\n",
       "    </tr>\n",
       "  </thead>\n",
       "  <tbody>\n",
       "    <tr>\n",
       "      <th>0</th>\n",
       "      <td>MLP regression-0</td>\n",
       "      <td>0</td>\n",
       "      <td>unharm_mix_regr.0</td>\n",
       "      <td>3.142912</td>\n",
       "      <td>0.932530</td>\n",
       "      <td>0.932689</td>\n",
       "    </tr>\n",
       "    <tr>\n",
       "      <th>0</th>\n",
       "      <td>MLP regression-1</td>\n",
       "      <td>1</td>\n",
       "      <td>unharm_mix_regr.1</td>\n",
       "      <td>2.946391</td>\n",
       "      <td>0.949682</td>\n",
       "      <td>0.951722</td>\n",
       "    </tr>\n",
       "    <tr>\n",
       "      <th>0</th>\n",
       "      <td>MLP regression-2</td>\n",
       "      <td>2</td>\n",
       "      <td>unharm_mix_regr.2</td>\n",
       "      <td>3.169527</td>\n",
       "      <td>0.942787</td>\n",
       "      <td>0.947939</td>\n",
       "    </tr>\n",
       "    <tr>\n",
       "      <th>0</th>\n",
       "      <td>MLP regression-3</td>\n",
       "      <td>3</td>\n",
       "      <td>unharm_mix_regr.3</td>\n",
       "      <td>3.377538</td>\n",
       "      <td>0.930903</td>\n",
       "      <td>0.938797</td>\n",
       "    </tr>\n",
       "    <tr>\n",
       "      <th>0</th>\n",
       "      <td>MLP regression-4</td>\n",
       "      <td>4</td>\n",
       "      <td>unharm_mix_regr.4</td>\n",
       "      <td>2.761971</td>\n",
       "      <td>0.953925</td>\n",
       "      <td>0.953977</td>\n",
       "    </tr>\n",
       "  </tbody>\n",
       "</table>\n",
       "</div>"
      ],
      "text/plain": [
       "          algorithm fold          file_name       mae        r2  \\\n",
       "0  MLP regression-0    0  unharm_mix_regr.0  3.142912  0.932530   \n",
       "0  MLP regression-1    1  unharm_mix_regr.1  2.946391  0.949682   \n",
       "0  MLP regression-2    2  unharm_mix_regr.2  3.169527  0.942787   \n",
       "0  MLP regression-3    3  unharm_mix_regr.3  3.377538  0.930903   \n",
       "0  MLP regression-4    4  unharm_mix_regr.4  2.761971  0.953925   \n",
       "\n",
       "   explained_variance  \n",
       "0            0.932689  \n",
       "0            0.951722  \n",
       "0            0.947939  \n",
       "0            0.938797  \n",
       "0            0.953977  "
      ]
     },
     "execution_count": 187,
     "metadata": {},
     "output_type": "execute_result"
    }
   ],
   "source": [
    "regr_k_frame, regr_y_frame, models = sep.stratified_cat_and_cont_categories_shuffle_split('MLP regression', 'unharm_mix_regr',   MLPRegressor(random_state=1, max_iter=700), ml_matrix, X[:,1:], y)\n",
    "regr_k_frame"
   ]
  },
  {
   "cell_type": "code",
   "execution_count": 188,
   "id": "02504ba2-9d88-4ef8-8c7f-c5b572fe96a6",
   "metadata": {
    "tags": []
   },
   "outputs": [],
   "source": [
    "regr_k_frame.to_csv(output_folder + 'regr_k_frame_combatplusplus_harm.csv')"
   ]
  },
  {
   "cell_type": "code",
   "execution_count": 189,
   "id": "33e2d523-3a35-4a4a-913b-196cf9dff8e0",
   "metadata": {
    "tags": []
   },
   "outputs": [
    {
     "data": {
      "text/html": [
       "<div>\n",
       "<style scoped>\n",
       "    .dataframe tbody tr th:only-of-type {\n",
       "        vertical-align: middle;\n",
       "    }\n",
       "\n",
       "    .dataframe tbody tr th {\n",
       "        vertical-align: top;\n",
       "    }\n",
       "\n",
       "    .dataframe thead th {\n",
       "        text-align: right;\n",
       "    }\n",
       "</style>\n",
       "<table border=\"1\" class=\"dataframe\">\n",
       "  <thead>\n",
       "    <tr style=\"text-align: right;\">\n",
       "      <th></th>\n",
       "      <th>algorithm</th>\n",
       "      <th>file_name</th>\n",
       "      <th>mae</th>\n",
       "      <th>r2</th>\n",
       "      <th>explained_variance</th>\n",
       "    </tr>\n",
       "  </thead>\n",
       "  <tbody>\n",
       "    <tr>\n",
       "      <th>0</th>\n",
       "      <td>0    MLP regression-0\n",
       "0    MLP regression-1\n",
       "0 ...</td>\n",
       "      <td>0    unharm_mix_regr.0\n",
       "0    unharm_mix_regr.1\n",
       "...</td>\n",
       "      <td>3.079668</td>\n",
       "      <td>0.941966</td>\n",
       "      <td>0.945025</td>\n",
       "    </tr>\n",
       "  </tbody>\n",
       "</table>\n",
       "</div>"
      ],
      "text/plain": [
       "                                           algorithm  \\\n",
       "0  0    MLP regression-0\n",
       "0    MLP regression-1\n",
       "0 ...   \n",
       "\n",
       "                                           file_name       mae        r2  \\\n",
       "0  0    unharm_mix_regr.0\n",
       "0    unharm_mix_regr.1\n",
       "...  3.079668  0.941966   \n",
       "\n",
       "   explained_variance  \n",
       "0            0.945025  "
      ]
     },
     "execution_count": 189,
     "metadata": {},
     "output_type": "execute_result"
    }
   ],
   "source": [
    "avg_regr = sep.avg_k_folds(regr_k_frame)\n",
    "avg_regr"
   ]
  },
  {
   "cell_type": "code",
   "execution_count": 190,
   "id": "8653b179-eb05-45d3-82fd-83bee512bb96",
   "metadata": {
    "tags": []
   },
   "outputs": [
    {
     "data": {
      "text/html": [
       "<div>\n",
       "<style scoped>\n",
       "    .dataframe tbody tr th:only-of-type {\n",
       "        vertical-align: middle;\n",
       "    }\n",
       "\n",
       "    .dataframe tbody tr th {\n",
       "        vertical-align: top;\n",
       "    }\n",
       "\n",
       "    .dataframe thead th {\n",
       "        text-align: right;\n",
       "    }\n",
       "</style>\n",
       "<table border=\"1\" class=\"dataframe\">\n",
       "  <thead>\n",
       "    <tr style=\"text-align: right;\">\n",
       "      <th></th>\n",
       "      <th>y_test</th>\n",
       "      <th>y_pred</th>\n",
       "    </tr>\n",
       "  </thead>\n",
       "  <tbody>\n",
       "    <tr>\n",
       "      <th>0</th>\n",
       "      <td>27.550000</td>\n",
       "      <td>32.982025</td>\n",
       "    </tr>\n",
       "    <tr>\n",
       "      <th>1</th>\n",
       "      <td>52.495890</td>\n",
       "      <td>52.631526</td>\n",
       "    </tr>\n",
       "    <tr>\n",
       "      <th>2</th>\n",
       "      <td>31.372603</td>\n",
       "      <td>27.677244</td>\n",
       "    </tr>\n",
       "    <tr>\n",
       "      <th>3</th>\n",
       "      <td>50.345205</td>\n",
       "      <td>47.952510</td>\n",
       "    </tr>\n",
       "    <tr>\n",
       "      <th>4</th>\n",
       "      <td>77.593735</td>\n",
       "      <td>75.333054</td>\n",
       "    </tr>\n",
       "    <tr>\n",
       "      <th>...</th>\n",
       "      <td>...</td>\n",
       "      <td>...</td>\n",
       "    </tr>\n",
       "    <tr>\n",
       "      <th>272</th>\n",
       "      <td>69.424658</td>\n",
       "      <td>70.870590</td>\n",
       "    </tr>\n",
       "    <tr>\n",
       "      <th>273</th>\n",
       "      <td>48.730000</td>\n",
       "      <td>47.846619</td>\n",
       "    </tr>\n",
       "    <tr>\n",
       "      <th>274</th>\n",
       "      <td>60.183060</td>\n",
       "      <td>60.713790</td>\n",
       "    </tr>\n",
       "    <tr>\n",
       "      <th>275</th>\n",
       "      <td>40.355191</td>\n",
       "      <td>37.155308</td>\n",
       "    </tr>\n",
       "    <tr>\n",
       "      <th>276</th>\n",
       "      <td>69.506557</td>\n",
       "      <td>69.945857</td>\n",
       "    </tr>\n",
       "  </tbody>\n",
       "</table>\n",
       "<p>1385 rows × 2 columns</p>\n",
       "</div>"
      ],
      "text/plain": [
       "        y_test     y_pred\n",
       "0    27.550000  32.982025\n",
       "1    52.495890  52.631526\n",
       "2    31.372603  27.677244\n",
       "3    50.345205  47.952510\n",
       "4    77.593735  75.333054\n",
       "..         ...        ...\n",
       "272  69.424658  70.870590\n",
       "273  48.730000  47.846619\n",
       "274  60.183060  60.713790\n",
       "275  40.355191  37.155308\n",
       "276  69.506557  69.945857\n",
       "\n",
       "[1385 rows x 2 columns]"
      ]
     },
     "execution_count": 190,
     "metadata": {},
     "output_type": "execute_result"
    }
   ],
   "source": [
    "regr_y_frame"
   ]
  },
  {
   "cell_type": "code",
   "execution_count": 191,
   "id": "c15d707a-5f9a-45a9-ba0f-0be5b1a9df6e",
   "metadata": {
    "tags": []
   },
   "outputs": [],
   "source": [
    "regr_y_frame.to_csv(output_folder + 'regr_y_frame_combatplusplus_harm.csv')"
   ]
  },
  {
   "cell_type": "code",
   "execution_count": 192,
   "id": "134f09b0-87ab-4910-b25a-9679e24d0100",
   "metadata": {
    "tags": []
   },
   "outputs": [
    {
     "data": {
      "text/html": [
       "<style>#sk-container-id-18 {color: black;}#sk-container-id-18 pre{padding: 0;}#sk-container-id-18 div.sk-toggleable {background-color: white;}#sk-container-id-18 label.sk-toggleable__label {cursor: pointer;display: block;width: 100%;margin-bottom: 0;padding: 0.3em;box-sizing: border-box;text-align: center;}#sk-container-id-18 label.sk-toggleable__label-arrow:before {content: \"▸\";float: left;margin-right: 0.25em;color: #696969;}#sk-container-id-18 label.sk-toggleable__label-arrow:hover:before {color: black;}#sk-container-id-18 div.sk-estimator:hover label.sk-toggleable__label-arrow:before {color: black;}#sk-container-id-18 div.sk-toggleable__content {max-height: 0;max-width: 0;overflow: hidden;text-align: left;background-color: #f0f8ff;}#sk-container-id-18 div.sk-toggleable__content pre {margin: 0.2em;color: black;border-radius: 0.25em;background-color: #f0f8ff;}#sk-container-id-18 input.sk-toggleable__control:checked~div.sk-toggleable__content {max-height: 200px;max-width: 100%;overflow: auto;}#sk-container-id-18 input.sk-toggleable__control:checked~label.sk-toggleable__label-arrow:before {content: \"▾\";}#sk-container-id-18 div.sk-estimator input.sk-toggleable__control:checked~label.sk-toggleable__label {background-color: #d4ebff;}#sk-container-id-18 div.sk-label input.sk-toggleable__control:checked~label.sk-toggleable__label {background-color: #d4ebff;}#sk-container-id-18 input.sk-hidden--visually {border: 0;clip: rect(1px 1px 1px 1px);clip: rect(1px, 1px, 1px, 1px);height: 1px;margin: -1px;overflow: hidden;padding: 0;position: absolute;width: 1px;}#sk-container-id-18 div.sk-estimator {font-family: monospace;background-color: #f0f8ff;border: 1px dotted black;border-radius: 0.25em;box-sizing: border-box;margin-bottom: 0.5em;}#sk-container-id-18 div.sk-estimator:hover {background-color: #d4ebff;}#sk-container-id-18 div.sk-parallel-item::after {content: \"\";width: 100%;border-bottom: 1px solid gray;flex-grow: 1;}#sk-container-id-18 div.sk-label:hover label.sk-toggleable__label {background-color: #d4ebff;}#sk-container-id-18 div.sk-serial::before {content: \"\";position: absolute;border-left: 1px solid gray;box-sizing: border-box;top: 0;bottom: 0;left: 50%;z-index: 0;}#sk-container-id-18 div.sk-serial {display: flex;flex-direction: column;align-items: center;background-color: white;padding-right: 0.2em;padding-left: 0.2em;position: relative;}#sk-container-id-18 div.sk-item {position: relative;z-index: 1;}#sk-container-id-18 div.sk-parallel {display: flex;align-items: stretch;justify-content: center;background-color: white;position: relative;}#sk-container-id-18 div.sk-item::before, #sk-container-id-18 div.sk-parallel-item::before {content: \"\";position: absolute;border-left: 1px solid gray;box-sizing: border-box;top: 0;bottom: 0;left: 50%;z-index: -1;}#sk-container-id-18 div.sk-parallel-item {display: flex;flex-direction: column;z-index: 1;position: relative;background-color: white;}#sk-container-id-18 div.sk-parallel-item:first-child::after {align-self: flex-end;width: 50%;}#sk-container-id-18 div.sk-parallel-item:last-child::after {align-self: flex-start;width: 50%;}#sk-container-id-18 div.sk-parallel-item:only-child::after {width: 0;}#sk-container-id-18 div.sk-dashed-wrapped {border: 1px dashed gray;margin: 0 0.4em 0.5em 0.4em;box-sizing: border-box;padding-bottom: 0.4em;background-color: white;}#sk-container-id-18 div.sk-label label {font-family: monospace;font-weight: bold;display: inline-block;line-height: 1.2em;}#sk-container-id-18 div.sk-label-container {text-align: center;}#sk-container-id-18 div.sk-container {/* jupyter's `normalize.less` sets `[hidden] { display: none; }` but bootstrap.min.css set `[hidden] { display: none !important; }` so we also need the `!important` here to be able to override the default hidden behavior on the sphinx rendered scikit-learn.org. See: https://github.com/scikit-learn/scikit-learn/issues/21755 */display: inline-block !important;position: relative;}#sk-container-id-18 div.sk-text-repr-fallback {display: none;}</style><div id=\"sk-container-id-18\" class=\"sk-top-container\"><div class=\"sk-text-repr-fallback\"><pre>MLPRegressor(max_iter=700, random_state=1)</pre><b>In a Jupyter environment, please rerun this cell to show the HTML representation or trust the notebook. <br />On GitHub, the HTML representation is unable to render, please try loading this page with nbviewer.org.</b></div><div class=\"sk-container\" hidden><div class=\"sk-item\"><div class=\"sk-estimator sk-toggleable\"><input class=\"sk-toggleable__control sk-hidden--visually\" id=\"sk-estimator-id-18\" type=\"checkbox\" checked><label for=\"sk-estimator-id-18\" class=\"sk-toggleable__label sk-toggleable__label-arrow\">MLPRegressor</label><div class=\"sk-toggleable__content\"><pre>MLPRegressor(max_iter=700, random_state=1)</pre></div></div></div></div></div>"
      ],
      "text/plain": [
       "MLPRegressor(max_iter=700, random_state=1)"
      ]
     },
     "execution_count": 192,
     "metadata": {},
     "output_type": "execute_result"
    }
   ],
   "source": [
    "regr = models[0]\n",
    "regr[0]"
   ]
  },
  {
   "cell_type": "code",
   "execution_count": 193,
   "id": "4255d797-bcd4-4323-bac5-393c539cd4fd",
   "metadata": {
    "tags": []
   },
   "outputs": [
    {
     "name": "stderr",
     "output_type": "stream",
     "text": [
      "/scratch/radv/mdijsselhof/cvasl/extended_harm_paper/../cvasl/seperated.py:1055: FutureWarning: The behavior of DataFrame concatenation with empty or all-NA entries is deprecated. In a future version, this will no longer exclude empty or all-NA columns when determining the result dtypes. To retain the old behavior, exclude the relevant entries before the concat operation.\n",
      "  mod_results = pd.concat([mod_results, mod_results_current_fold])\n",
      "/scratch/radv/mdijsselhof/cvasl/extended_harm_paper/../cvasl/seperated.py:1055: FutureWarning: The behavior of DataFrame concatenation with empty or all-NA entries is deprecated. In a future version, this will no longer exclude empty or all-NA columns when determining the result dtypes. To retain the old behavior, exclude the relevant entries before the concat operation.\n",
      "  mod_results = pd.concat([mod_results, mod_results_current_fold])\n",
      "/scratch/radv/mdijsselhof/cvasl/extended_harm_paper/../cvasl/seperated.py:1055: FutureWarning: The behavior of DataFrame concatenation with empty or all-NA entries is deprecated. In a future version, this will no longer exclude empty or all-NA columns when determining the result dtypes. To retain the old behavior, exclude the relevant entries before the concat operation.\n",
      "  mod_results = pd.concat([mod_results, mod_results_current_fold])\n",
      "/scratch/radv/mdijsselhof/cvasl/extended_harm_paper/../cvasl/seperated.py:1055: FutureWarning: The behavior of DataFrame concatenation with empty or all-NA entries is deprecated. In a future version, this will no longer exclude empty or all-NA columns when determining the result dtypes. To retain the old behavior, exclude the relevant entries before the concat operation.\n",
      "  mod_results = pd.concat([mod_results, mod_results_current_fold])\n",
      "/scratch/radv/mdijsselhof/cvasl/extended_harm_paper/../cvasl/seperated.py:1055: FutureWarning: The behavior of DataFrame concatenation with empty or all-NA entries is deprecated. In a future version, this will no longer exclude empty or all-NA columns when determining the result dtypes. To retain the old behavior, exclude the relevant entries before the concat operation.\n",
      "  mod_results = pd.concat([mod_results, mod_results_current_fold])\n"
     ]
    },
    {
     "data": {
      "text/html": [
       "<div>\n",
       "<style scoped>\n",
       "    .dataframe tbody tr th:only-of-type {\n",
       "        vertical-align: middle;\n",
       "    }\n",
       "\n",
       "    .dataframe tbody tr th {\n",
       "        vertical-align: top;\n",
       "    }\n",
       "\n",
       "    .dataframe thead th {\n",
       "        text-align: right;\n",
       "    }\n",
       "</style>\n",
       "<table border=\"1\" class=\"dataframe\">\n",
       "  <thead>\n",
       "    <tr style=\"text-align: right;\">\n",
       "      <th></th>\n",
       "      <th>algorithm</th>\n",
       "      <th>fold</th>\n",
       "      <th>file_name</th>\n",
       "      <th>mae</th>\n",
       "      <th>r2</th>\n",
       "      <th>explained_variance</th>\n",
       "    </tr>\n",
       "  </thead>\n",
       "  <tbody>\n",
       "    <tr>\n",
       "      <th>0</th>\n",
       "      <td>support vector reg poly2-0</td>\n",
       "      <td>0</td>\n",
       "      <td>unharm_mix_svrp2.0</td>\n",
       "      <td>11.450985</td>\n",
       "      <td>0.350904</td>\n",
       "      <td>0.357836</td>\n",
       "    </tr>\n",
       "    <tr>\n",
       "      <th>0</th>\n",
       "      <td>support vector reg poly2-1</td>\n",
       "      <td>1</td>\n",
       "      <td>unharm_mix_svrp2.1</td>\n",
       "      <td>12.059076</td>\n",
       "      <td>0.230519</td>\n",
       "      <td>0.234980</td>\n",
       "    </tr>\n",
       "    <tr>\n",
       "      <th>0</th>\n",
       "      <td>support vector reg poly2-2</td>\n",
       "      <td>2</td>\n",
       "      <td>unharm_mix_svrp2.2</td>\n",
       "      <td>11.378245</td>\n",
       "      <td>0.315521</td>\n",
       "      <td>0.326349</td>\n",
       "    </tr>\n",
       "    <tr>\n",
       "      <th>0</th>\n",
       "      <td>support vector reg poly2-3</td>\n",
       "      <td>3</td>\n",
       "      <td>unharm_mix_svrp2.3</td>\n",
       "      <td>11.820058</td>\n",
       "      <td>0.307657</td>\n",
       "      <td>0.311640</td>\n",
       "    </tr>\n",
       "    <tr>\n",
       "      <th>0</th>\n",
       "      <td>support vector reg poly2-4</td>\n",
       "      <td>4</td>\n",
       "      <td>unharm_mix_svrp2.4</td>\n",
       "      <td>11.636808</td>\n",
       "      <td>0.313669</td>\n",
       "      <td>0.318306</td>\n",
       "    </tr>\n",
       "  </tbody>\n",
       "</table>\n",
       "</div>"
      ],
      "text/plain": [
       "                    algorithm fold           file_name        mae        r2  \\\n",
       "0  support vector reg poly2-0    0  unharm_mix_svrp2.0  11.450985  0.350904   \n",
       "0  support vector reg poly2-1    1  unharm_mix_svrp2.1  12.059076  0.230519   \n",
       "0  support vector reg poly2-2    2  unharm_mix_svrp2.2  11.378245  0.315521   \n",
       "0  support vector reg poly2-3    3  unharm_mix_svrp2.3  11.820058  0.307657   \n",
       "0  support vector reg poly2-4    4  unharm_mix_svrp2.4  11.636808  0.313669   \n",
       "\n",
       "   explained_variance  \n",
       "0            0.357836  \n",
       "0            0.234980  \n",
       "0            0.326349  \n",
       "0            0.311640  \n",
       "0            0.318306  "
      ]
     },
     "execution_count": 193,
     "metadata": {},
     "output_type": "execute_result"
    }
   ],
   "source": [
    "svrp2_k_frame, svrp2_y_frame, models = sep.stratified_cat_and_cont_categories_shuffle_split('support vector reg poly2', 'unharm_mix_svrp2',   SVR(C=1.0, kernel='poly', degree =2, epsilon=0.2), ml_matrix, X[:,1:], y)\n",
    "svrp2_k_frame"
   ]
  },
  {
   "cell_type": "code",
   "execution_count": 194,
   "id": "c35222e5-a276-4187-9f4e-4ce2f59baee5",
   "metadata": {
    "tags": []
   },
   "outputs": [],
   "source": [
    "svrp2_k_frame.to_csv(output_folder + 'svrp2_k_frame_combatplusplus_harm.csv')"
   ]
  },
  {
   "cell_type": "code",
   "execution_count": 195,
   "id": "cd4d587b-0386-413b-a1d8-2210e62a8e5f",
   "metadata": {
    "tags": []
   },
   "outputs": [
    {
     "data": {
      "text/html": [
       "<div>\n",
       "<style scoped>\n",
       "    .dataframe tbody tr th:only-of-type {\n",
       "        vertical-align: middle;\n",
       "    }\n",
       "\n",
       "    .dataframe tbody tr th {\n",
       "        vertical-align: top;\n",
       "    }\n",
       "\n",
       "    .dataframe thead th {\n",
       "        text-align: right;\n",
       "    }\n",
       "</style>\n",
       "<table border=\"1\" class=\"dataframe\">\n",
       "  <thead>\n",
       "    <tr style=\"text-align: right;\">\n",
       "      <th></th>\n",
       "      <th>algorithm</th>\n",
       "      <th>file_name</th>\n",
       "      <th>mae</th>\n",
       "      <th>r2</th>\n",
       "      <th>explained_variance</th>\n",
       "    </tr>\n",
       "  </thead>\n",
       "  <tbody>\n",
       "    <tr>\n",
       "      <th>0</th>\n",
       "      <td>0    support vector reg poly2-0\n",
       "0    support v...</td>\n",
       "      <td>0    unharm_mix_svrp2.0\n",
       "0    unharm_mix_svrp2....</td>\n",
       "      <td>11.669035</td>\n",
       "      <td>0.303654</td>\n",
       "      <td>0.309822</td>\n",
       "    </tr>\n",
       "  </tbody>\n",
       "</table>\n",
       "</div>"
      ],
      "text/plain": [
       "                                           algorithm  \\\n",
       "0  0    support vector reg poly2-0\n",
       "0    support v...   \n",
       "\n",
       "                                           file_name        mae        r2  \\\n",
       "0  0    unharm_mix_svrp2.0\n",
       "0    unharm_mix_svrp2....  11.669035  0.303654   \n",
       "\n",
       "   explained_variance  \n",
       "0            0.309822  "
      ]
     },
     "execution_count": 195,
     "metadata": {},
     "output_type": "execute_result"
    }
   ],
   "source": [
    "avg_svrp2 = sep.avg_k_folds(svrp2_k_frame)\n",
    "avg_svrp2"
   ]
  },
  {
   "cell_type": "code",
   "execution_count": 196,
   "id": "93c133a2-fc16-4558-8f0e-d348b6d4b950",
   "metadata": {
    "tags": []
   },
   "outputs": [
    {
     "data": {
      "text/html": [
       "<div>\n",
       "<style scoped>\n",
       "    .dataframe tbody tr th:only-of-type {\n",
       "        vertical-align: middle;\n",
       "    }\n",
       "\n",
       "    .dataframe tbody tr th {\n",
       "        vertical-align: top;\n",
       "    }\n",
       "\n",
       "    .dataframe thead th {\n",
       "        text-align: right;\n",
       "    }\n",
       "</style>\n",
       "<table border=\"1\" class=\"dataframe\">\n",
       "  <thead>\n",
       "    <tr style=\"text-align: right;\">\n",
       "      <th></th>\n",
       "      <th>y_test</th>\n",
       "      <th>y_pred</th>\n",
       "    </tr>\n",
       "  </thead>\n",
       "  <tbody>\n",
       "    <tr>\n",
       "      <th>0</th>\n",
       "      <td>27.550000</td>\n",
       "      <td>46.098574</td>\n",
       "    </tr>\n",
       "    <tr>\n",
       "      <th>1</th>\n",
       "      <td>52.495890</td>\n",
       "      <td>50.973043</td>\n",
       "    </tr>\n",
       "    <tr>\n",
       "      <th>2</th>\n",
       "      <td>31.372603</td>\n",
       "      <td>43.203618</td>\n",
       "    </tr>\n",
       "    <tr>\n",
       "      <th>3</th>\n",
       "      <td>50.345205</td>\n",
       "      <td>52.561105</td>\n",
       "    </tr>\n",
       "    <tr>\n",
       "      <th>4</th>\n",
       "      <td>77.593735</td>\n",
       "      <td>55.215942</td>\n",
       "    </tr>\n",
       "    <tr>\n",
       "      <th>...</th>\n",
       "      <td>...</td>\n",
       "      <td>...</td>\n",
       "    </tr>\n",
       "    <tr>\n",
       "      <th>272</th>\n",
       "      <td>69.424658</td>\n",
       "      <td>62.551680</td>\n",
       "    </tr>\n",
       "    <tr>\n",
       "      <th>273</th>\n",
       "      <td>48.730000</td>\n",
       "      <td>48.099129</td>\n",
       "    </tr>\n",
       "    <tr>\n",
       "      <th>274</th>\n",
       "      <td>60.183060</td>\n",
       "      <td>48.128574</td>\n",
       "    </tr>\n",
       "    <tr>\n",
       "      <th>275</th>\n",
       "      <td>40.355191</td>\n",
       "      <td>52.571359</td>\n",
       "    </tr>\n",
       "    <tr>\n",
       "      <th>276</th>\n",
       "      <td>69.506557</td>\n",
       "      <td>49.504345</td>\n",
       "    </tr>\n",
       "  </tbody>\n",
       "</table>\n",
       "<p>1385 rows × 2 columns</p>\n",
       "</div>"
      ],
      "text/plain": [
       "        y_test     y_pred\n",
       "0    27.550000  46.098574\n",
       "1    52.495890  50.973043\n",
       "2    31.372603  43.203618\n",
       "3    50.345205  52.561105\n",
       "4    77.593735  55.215942\n",
       "..         ...        ...\n",
       "272  69.424658  62.551680\n",
       "273  48.730000  48.099129\n",
       "274  60.183060  48.128574\n",
       "275  40.355191  52.571359\n",
       "276  69.506557  49.504345\n",
       "\n",
       "[1385 rows x 2 columns]"
      ]
     },
     "execution_count": 196,
     "metadata": {},
     "output_type": "execute_result"
    }
   ],
   "source": [
    "svrp2_y_frame"
   ]
  },
  {
   "cell_type": "code",
   "execution_count": 197,
   "id": "542d2bec-b870-451b-9c89-2c98d6324eae",
   "metadata": {
    "tags": []
   },
   "outputs": [],
   "source": [
    "svrp2_y_frame.to_csv(output_folder + 'svrp2_y_frame_combatplusplus_harm.csv')"
   ]
  },
  {
   "cell_type": "code",
   "execution_count": 198,
   "id": "559c3544-c9ac-46a4-94d1-ea9bd597c63a",
   "metadata": {
    "tags": []
   },
   "outputs": [
    {
     "data": {
      "text/html": [
       "<style>#sk-container-id-19 {color: black;}#sk-container-id-19 pre{padding: 0;}#sk-container-id-19 div.sk-toggleable {background-color: white;}#sk-container-id-19 label.sk-toggleable__label {cursor: pointer;display: block;width: 100%;margin-bottom: 0;padding: 0.3em;box-sizing: border-box;text-align: center;}#sk-container-id-19 label.sk-toggleable__label-arrow:before {content: \"▸\";float: left;margin-right: 0.25em;color: #696969;}#sk-container-id-19 label.sk-toggleable__label-arrow:hover:before {color: black;}#sk-container-id-19 div.sk-estimator:hover label.sk-toggleable__label-arrow:before {color: black;}#sk-container-id-19 div.sk-toggleable__content {max-height: 0;max-width: 0;overflow: hidden;text-align: left;background-color: #f0f8ff;}#sk-container-id-19 div.sk-toggleable__content pre {margin: 0.2em;color: black;border-radius: 0.25em;background-color: #f0f8ff;}#sk-container-id-19 input.sk-toggleable__control:checked~div.sk-toggleable__content {max-height: 200px;max-width: 100%;overflow: auto;}#sk-container-id-19 input.sk-toggleable__control:checked~label.sk-toggleable__label-arrow:before {content: \"▾\";}#sk-container-id-19 div.sk-estimator input.sk-toggleable__control:checked~label.sk-toggleable__label {background-color: #d4ebff;}#sk-container-id-19 div.sk-label input.sk-toggleable__control:checked~label.sk-toggleable__label {background-color: #d4ebff;}#sk-container-id-19 input.sk-hidden--visually {border: 0;clip: rect(1px 1px 1px 1px);clip: rect(1px, 1px, 1px, 1px);height: 1px;margin: -1px;overflow: hidden;padding: 0;position: absolute;width: 1px;}#sk-container-id-19 div.sk-estimator {font-family: monospace;background-color: #f0f8ff;border: 1px dotted black;border-radius: 0.25em;box-sizing: border-box;margin-bottom: 0.5em;}#sk-container-id-19 div.sk-estimator:hover {background-color: #d4ebff;}#sk-container-id-19 div.sk-parallel-item::after {content: \"\";width: 100%;border-bottom: 1px solid gray;flex-grow: 1;}#sk-container-id-19 div.sk-label:hover label.sk-toggleable__label {background-color: #d4ebff;}#sk-container-id-19 div.sk-serial::before {content: \"\";position: absolute;border-left: 1px solid gray;box-sizing: border-box;top: 0;bottom: 0;left: 50%;z-index: 0;}#sk-container-id-19 div.sk-serial {display: flex;flex-direction: column;align-items: center;background-color: white;padding-right: 0.2em;padding-left: 0.2em;position: relative;}#sk-container-id-19 div.sk-item {position: relative;z-index: 1;}#sk-container-id-19 div.sk-parallel {display: flex;align-items: stretch;justify-content: center;background-color: white;position: relative;}#sk-container-id-19 div.sk-item::before, #sk-container-id-19 div.sk-parallel-item::before {content: \"\";position: absolute;border-left: 1px solid gray;box-sizing: border-box;top: 0;bottom: 0;left: 50%;z-index: -1;}#sk-container-id-19 div.sk-parallel-item {display: flex;flex-direction: column;z-index: 1;position: relative;background-color: white;}#sk-container-id-19 div.sk-parallel-item:first-child::after {align-self: flex-end;width: 50%;}#sk-container-id-19 div.sk-parallel-item:last-child::after {align-self: flex-start;width: 50%;}#sk-container-id-19 div.sk-parallel-item:only-child::after {width: 0;}#sk-container-id-19 div.sk-dashed-wrapped {border: 1px dashed gray;margin: 0 0.4em 0.5em 0.4em;box-sizing: border-box;padding-bottom: 0.4em;background-color: white;}#sk-container-id-19 div.sk-label label {font-family: monospace;font-weight: bold;display: inline-block;line-height: 1.2em;}#sk-container-id-19 div.sk-label-container {text-align: center;}#sk-container-id-19 div.sk-container {/* jupyter's `normalize.less` sets `[hidden] { display: none; }` but bootstrap.min.css set `[hidden] { display: none !important; }` so we also need the `!important` here to be able to override the default hidden behavior on the sphinx rendered scikit-learn.org. See: https://github.com/scikit-learn/scikit-learn/issues/21755 */display: inline-block !important;position: relative;}#sk-container-id-19 div.sk-text-repr-fallback {display: none;}</style><div id=\"sk-container-id-19\" class=\"sk-top-container\"><div class=\"sk-text-repr-fallback\"><pre>SVR(degree=2, epsilon=0.2, kernel=&#x27;poly&#x27;)</pre><b>In a Jupyter environment, please rerun this cell to show the HTML representation or trust the notebook. <br />On GitHub, the HTML representation is unable to render, please try loading this page with nbviewer.org.</b></div><div class=\"sk-container\" hidden><div class=\"sk-item\"><div class=\"sk-estimator sk-toggleable\"><input class=\"sk-toggleable__control sk-hidden--visually\" id=\"sk-estimator-id-19\" type=\"checkbox\" checked><label for=\"sk-estimator-id-19\" class=\"sk-toggleable__label sk-toggleable__label-arrow\">SVR</label><div class=\"sk-toggleable__content\"><pre>SVR(degree=2, epsilon=0.2, kernel=&#x27;poly&#x27;)</pre></div></div></div></div></div>"
      ],
      "text/plain": [
       "SVR(degree=2, epsilon=0.2, kernel='poly')"
      ]
     },
     "execution_count": 198,
     "metadata": {},
     "output_type": "execute_result"
    }
   ],
   "source": [
    "svrp2 = models[0]\n",
    "svrp2[0]"
   ]
  },
  {
   "cell_type": "code",
   "execution_count": 199,
   "id": "61060fc3-0e43-4efc-ad98-a7914137adec",
   "metadata": {
    "tags": []
   },
   "outputs": [
    {
     "name": "stderr",
     "output_type": "stream",
     "text": [
      "/scratch/radv/mdijsselhof/cvasl/extended_harm_paper/../cvasl/seperated.py:1055: FutureWarning: The behavior of DataFrame concatenation with empty or all-NA entries is deprecated. In a future version, this will no longer exclude empty or all-NA columns when determining the result dtypes. To retain the old behavior, exclude the relevant entries before the concat operation.\n",
      "  mod_results = pd.concat([mod_results, mod_results_current_fold])\n",
      "/scratch/radv/mdijsselhof/cvasl/extended_harm_paper/../cvasl/seperated.py:1055: FutureWarning: The behavior of DataFrame concatenation with empty or all-NA entries is deprecated. In a future version, this will no longer exclude empty or all-NA columns when determining the result dtypes. To retain the old behavior, exclude the relevant entries before the concat operation.\n",
      "  mod_results = pd.concat([mod_results, mod_results_current_fold])\n",
      "/scratch/radv/mdijsselhof/cvasl/extended_harm_paper/../cvasl/seperated.py:1055: FutureWarning: The behavior of DataFrame concatenation with empty or all-NA entries is deprecated. In a future version, this will no longer exclude empty or all-NA columns when determining the result dtypes. To retain the old behavior, exclude the relevant entries before the concat operation.\n",
      "  mod_results = pd.concat([mod_results, mod_results_current_fold])\n",
      "/scratch/radv/mdijsselhof/cvasl/extended_harm_paper/../cvasl/seperated.py:1055: FutureWarning: The behavior of DataFrame concatenation with empty or all-NA entries is deprecated. In a future version, this will no longer exclude empty or all-NA columns when determining the result dtypes. To retain the old behavior, exclude the relevant entries before the concat operation.\n",
      "  mod_results = pd.concat([mod_results, mod_results_current_fold])\n",
      "/scratch/radv/mdijsselhof/cvasl/extended_harm_paper/../cvasl/seperated.py:1055: FutureWarning: The behavior of DataFrame concatenation with empty or all-NA entries is deprecated. In a future version, this will no longer exclude empty or all-NA columns when determining the result dtypes. To retain the old behavior, exclude the relevant entries before the concat operation.\n",
      "  mod_results = pd.concat([mod_results, mod_results_current_fold])\n"
     ]
    },
    {
     "data": {
      "text/html": [
       "<div>\n",
       "<style scoped>\n",
       "    .dataframe tbody tr th:only-of-type {\n",
       "        vertical-align: middle;\n",
       "    }\n",
       "\n",
       "    .dataframe tbody tr th {\n",
       "        vertical-align: top;\n",
       "    }\n",
       "\n",
       "    .dataframe thead th {\n",
       "        text-align: right;\n",
       "    }\n",
       "</style>\n",
       "<table border=\"1\" class=\"dataframe\">\n",
       "  <thead>\n",
       "    <tr style=\"text-align: right;\">\n",
       "      <th></th>\n",
       "      <th>algorithm</th>\n",
       "      <th>fold</th>\n",
       "      <th>file_name</th>\n",
       "      <th>mae</th>\n",
       "      <th>r2</th>\n",
       "      <th>explained_variance</th>\n",
       "    </tr>\n",
       "  </thead>\n",
       "  <tbody>\n",
       "    <tr>\n",
       "      <th>0</th>\n",
       "      <td>elasticnetCV-0</td>\n",
       "      <td>0</td>\n",
       "      <td>unharm_mix_eregr.0</td>\n",
       "      <td>3.397519</td>\n",
       "      <td>0.939041</td>\n",
       "      <td>0.939056</td>\n",
       "    </tr>\n",
       "    <tr>\n",
       "      <th>0</th>\n",
       "      <td>elasticnetCV-1</td>\n",
       "      <td>1</td>\n",
       "      <td>unharm_mix_eregr.1</td>\n",
       "      <td>3.479249</td>\n",
       "      <td>0.937144</td>\n",
       "      <td>0.937156</td>\n",
       "    </tr>\n",
       "    <tr>\n",
       "      <th>0</th>\n",
       "      <td>elasticnetCV-2</td>\n",
       "      <td>2</td>\n",
       "      <td>unharm_mix_eregr.2</td>\n",
       "      <td>3.363955</td>\n",
       "      <td>0.935070</td>\n",
       "      <td>0.935333</td>\n",
       "    </tr>\n",
       "    <tr>\n",
       "      <th>0</th>\n",
       "      <td>elasticnetCV-3</td>\n",
       "      <td>3</td>\n",
       "      <td>unharm_mix_eregr.3</td>\n",
       "      <td>3.547136</td>\n",
       "      <td>0.933188</td>\n",
       "      <td>0.933377</td>\n",
       "    </tr>\n",
       "    <tr>\n",
       "      <th>0</th>\n",
       "      <td>elasticnetCV-4</td>\n",
       "      <td>4</td>\n",
       "      <td>unharm_mix_eregr.4</td>\n",
       "      <td>3.485565</td>\n",
       "      <td>0.936355</td>\n",
       "      <td>0.936407</td>\n",
       "    </tr>\n",
       "  </tbody>\n",
       "</table>\n",
       "</div>"
      ],
      "text/plain": [
       "        algorithm fold           file_name       mae        r2  \\\n",
       "0  elasticnetCV-0    0  unharm_mix_eregr.0  3.397519  0.939041   \n",
       "0  elasticnetCV-1    1  unharm_mix_eregr.1  3.479249  0.937144   \n",
       "0  elasticnetCV-2    2  unharm_mix_eregr.2  3.363955  0.935070   \n",
       "0  elasticnetCV-3    3  unharm_mix_eregr.3  3.547136  0.933188   \n",
       "0  elasticnetCV-4    4  unharm_mix_eregr.4  3.485565  0.936355   \n",
       "\n",
       "   explained_variance  \n",
       "0            0.939056  \n",
       "0            0.937156  \n",
       "0            0.935333  \n",
       "0            0.933377  \n",
       "0            0.936407  "
      ]
     },
     "execution_count": 199,
     "metadata": {},
     "output_type": "execute_result"
    }
   ],
   "source": [
    "eregr_k_frame, eregr_y_frame, models = sep.stratified_cat_and_cont_categories_shuffle_split('elasticnetCV', 'unharm_mix_eregr',  ElasticNetCV(cv=5, random_state=12), ml_matrix, X[:,1:], y)\n",
    "eregr_k_frame"
   ]
  },
  {
   "cell_type": "code",
   "execution_count": 200,
   "id": "163fa474-0978-48c5-ba7d-d79038319fed",
   "metadata": {
    "tags": []
   },
   "outputs": [],
   "source": [
    "eregr_k_frame.to_csv(output_folder + 'eregr_k_frame_combatplusplus_harm.csv')"
   ]
  },
  {
   "cell_type": "code",
   "execution_count": 201,
   "id": "ce1bb2eb-b10b-4a04-9d30-f96fa1e1ff3b",
   "metadata": {
    "tags": []
   },
   "outputs": [
    {
     "data": {
      "text/html": [
       "<div>\n",
       "<style scoped>\n",
       "    .dataframe tbody tr th:only-of-type {\n",
       "        vertical-align: middle;\n",
       "    }\n",
       "\n",
       "    .dataframe tbody tr th {\n",
       "        vertical-align: top;\n",
       "    }\n",
       "\n",
       "    .dataframe thead th {\n",
       "        text-align: right;\n",
       "    }\n",
       "</style>\n",
       "<table border=\"1\" class=\"dataframe\">\n",
       "  <thead>\n",
       "    <tr style=\"text-align: right;\">\n",
       "      <th></th>\n",
       "      <th>algorithm</th>\n",
       "      <th>file_name</th>\n",
       "      <th>mae</th>\n",
       "      <th>r2</th>\n",
       "      <th>explained_variance</th>\n",
       "    </tr>\n",
       "  </thead>\n",
       "  <tbody>\n",
       "    <tr>\n",
       "      <th>0</th>\n",
       "      <td>0    elasticnetCV-0\n",
       "0    elasticnetCV-1\n",
       "0    e...</td>\n",
       "      <td>0    unharm_mix_eregr.0\n",
       "0    unharm_mix_eregr....</td>\n",
       "      <td>3.454685</td>\n",
       "      <td>0.93616</td>\n",
       "      <td>0.936266</td>\n",
       "    </tr>\n",
       "  </tbody>\n",
       "</table>\n",
       "</div>"
      ],
      "text/plain": [
       "                                           algorithm  \\\n",
       "0  0    elasticnetCV-0\n",
       "0    elasticnetCV-1\n",
       "0    e...   \n",
       "\n",
       "                                           file_name       mae       r2  \\\n",
       "0  0    unharm_mix_eregr.0\n",
       "0    unharm_mix_eregr....  3.454685  0.93616   \n",
       "\n",
       "   explained_variance  \n",
       "0            0.936266  "
      ]
     },
     "execution_count": 201,
     "metadata": {},
     "output_type": "execute_result"
    }
   ],
   "source": [
    "avg_eregr = sep.avg_k_folds(eregr_k_frame)\n",
    "avg_eregr"
   ]
  },
  {
   "cell_type": "code",
   "execution_count": 202,
   "id": "ab97ad53-ab96-4eb3-9c4a-80bc6093bb86",
   "metadata": {
    "tags": []
   },
   "outputs": [
    {
     "data": {
      "text/html": [
       "<div>\n",
       "<style scoped>\n",
       "    .dataframe tbody tr th:only-of-type {\n",
       "        vertical-align: middle;\n",
       "    }\n",
       "\n",
       "    .dataframe tbody tr th {\n",
       "        vertical-align: top;\n",
       "    }\n",
       "\n",
       "    .dataframe thead th {\n",
       "        text-align: right;\n",
       "    }\n",
       "</style>\n",
       "<table border=\"1\" class=\"dataframe\">\n",
       "  <thead>\n",
       "    <tr style=\"text-align: right;\">\n",
       "      <th></th>\n",
       "      <th>y_test</th>\n",
       "      <th>y_pred</th>\n",
       "    </tr>\n",
       "  </thead>\n",
       "  <tbody>\n",
       "    <tr>\n",
       "      <th>0</th>\n",
       "      <td>27.550000</td>\n",
       "      <td>36.053251</td>\n",
       "    </tr>\n",
       "    <tr>\n",
       "      <th>1</th>\n",
       "      <td>52.495890</td>\n",
       "      <td>54.011852</td>\n",
       "    </tr>\n",
       "    <tr>\n",
       "      <th>2</th>\n",
       "      <td>31.372603</td>\n",
       "      <td>32.092267</td>\n",
       "    </tr>\n",
       "    <tr>\n",
       "      <th>3</th>\n",
       "      <td>50.345205</td>\n",
       "      <td>52.455351</td>\n",
       "    </tr>\n",
       "    <tr>\n",
       "      <th>4</th>\n",
       "      <td>77.593735</td>\n",
       "      <td>74.665858</td>\n",
       "    </tr>\n",
       "    <tr>\n",
       "      <th>...</th>\n",
       "      <td>...</td>\n",
       "      <td>...</td>\n",
       "    </tr>\n",
       "    <tr>\n",
       "      <th>272</th>\n",
       "      <td>69.424658</td>\n",
       "      <td>73.237986</td>\n",
       "    </tr>\n",
       "    <tr>\n",
       "      <th>273</th>\n",
       "      <td>48.730000</td>\n",
       "      <td>46.372930</td>\n",
       "    </tr>\n",
       "    <tr>\n",
       "      <th>274</th>\n",
       "      <td>60.183060</td>\n",
       "      <td>62.348250</td>\n",
       "    </tr>\n",
       "    <tr>\n",
       "      <th>275</th>\n",
       "      <td>40.355191</td>\n",
       "      <td>40.421878</td>\n",
       "    </tr>\n",
       "    <tr>\n",
       "      <th>276</th>\n",
       "      <td>69.506557</td>\n",
       "      <td>65.367786</td>\n",
       "    </tr>\n",
       "  </tbody>\n",
       "</table>\n",
       "<p>1385 rows × 2 columns</p>\n",
       "</div>"
      ],
      "text/plain": [
       "        y_test     y_pred\n",
       "0    27.550000  36.053251\n",
       "1    52.495890  54.011852\n",
       "2    31.372603  32.092267\n",
       "3    50.345205  52.455351\n",
       "4    77.593735  74.665858\n",
       "..         ...        ...\n",
       "272  69.424658  73.237986\n",
       "273  48.730000  46.372930\n",
       "274  60.183060  62.348250\n",
       "275  40.355191  40.421878\n",
       "276  69.506557  65.367786\n",
       "\n",
       "[1385 rows x 2 columns]"
      ]
     },
     "execution_count": 202,
     "metadata": {},
     "output_type": "execute_result"
    }
   ],
   "source": [
    "eregr_y_frame"
   ]
  },
  {
   "cell_type": "code",
   "execution_count": 203,
   "id": "d3dac004-7b05-4fb6-a124-8c02bd432f22",
   "metadata": {
    "tags": []
   },
   "outputs": [],
   "source": [
    "eregr_y_frame.to_csv(output_folder + 'eregr_y_frame_combatplusplus_harm.csv')"
   ]
  },
  {
   "cell_type": "code",
   "execution_count": 204,
   "id": "5cc6f720-a67e-4354-b036-4533b08f2000",
   "metadata": {
    "tags": []
   },
   "outputs": [
    {
     "data": {
      "text/html": [
       "<style>#sk-container-id-20 {color: black;}#sk-container-id-20 pre{padding: 0;}#sk-container-id-20 div.sk-toggleable {background-color: white;}#sk-container-id-20 label.sk-toggleable__label {cursor: pointer;display: block;width: 100%;margin-bottom: 0;padding: 0.3em;box-sizing: border-box;text-align: center;}#sk-container-id-20 label.sk-toggleable__label-arrow:before {content: \"▸\";float: left;margin-right: 0.25em;color: #696969;}#sk-container-id-20 label.sk-toggleable__label-arrow:hover:before {color: black;}#sk-container-id-20 div.sk-estimator:hover label.sk-toggleable__label-arrow:before {color: black;}#sk-container-id-20 div.sk-toggleable__content {max-height: 0;max-width: 0;overflow: hidden;text-align: left;background-color: #f0f8ff;}#sk-container-id-20 div.sk-toggleable__content pre {margin: 0.2em;color: black;border-radius: 0.25em;background-color: #f0f8ff;}#sk-container-id-20 input.sk-toggleable__control:checked~div.sk-toggleable__content {max-height: 200px;max-width: 100%;overflow: auto;}#sk-container-id-20 input.sk-toggleable__control:checked~label.sk-toggleable__label-arrow:before {content: \"▾\";}#sk-container-id-20 div.sk-estimator input.sk-toggleable__control:checked~label.sk-toggleable__label {background-color: #d4ebff;}#sk-container-id-20 div.sk-label input.sk-toggleable__control:checked~label.sk-toggleable__label {background-color: #d4ebff;}#sk-container-id-20 input.sk-hidden--visually {border: 0;clip: rect(1px 1px 1px 1px);clip: rect(1px, 1px, 1px, 1px);height: 1px;margin: -1px;overflow: hidden;padding: 0;position: absolute;width: 1px;}#sk-container-id-20 div.sk-estimator {font-family: monospace;background-color: #f0f8ff;border: 1px dotted black;border-radius: 0.25em;box-sizing: border-box;margin-bottom: 0.5em;}#sk-container-id-20 div.sk-estimator:hover {background-color: #d4ebff;}#sk-container-id-20 div.sk-parallel-item::after {content: \"\";width: 100%;border-bottom: 1px solid gray;flex-grow: 1;}#sk-container-id-20 div.sk-label:hover label.sk-toggleable__label {background-color: #d4ebff;}#sk-container-id-20 div.sk-serial::before {content: \"\";position: absolute;border-left: 1px solid gray;box-sizing: border-box;top: 0;bottom: 0;left: 50%;z-index: 0;}#sk-container-id-20 div.sk-serial {display: flex;flex-direction: column;align-items: center;background-color: white;padding-right: 0.2em;padding-left: 0.2em;position: relative;}#sk-container-id-20 div.sk-item {position: relative;z-index: 1;}#sk-container-id-20 div.sk-parallel {display: flex;align-items: stretch;justify-content: center;background-color: white;position: relative;}#sk-container-id-20 div.sk-item::before, #sk-container-id-20 div.sk-parallel-item::before {content: \"\";position: absolute;border-left: 1px solid gray;box-sizing: border-box;top: 0;bottom: 0;left: 50%;z-index: -1;}#sk-container-id-20 div.sk-parallel-item {display: flex;flex-direction: column;z-index: 1;position: relative;background-color: white;}#sk-container-id-20 div.sk-parallel-item:first-child::after {align-self: flex-end;width: 50%;}#sk-container-id-20 div.sk-parallel-item:last-child::after {align-self: flex-start;width: 50%;}#sk-container-id-20 div.sk-parallel-item:only-child::after {width: 0;}#sk-container-id-20 div.sk-dashed-wrapped {border: 1px dashed gray;margin: 0 0.4em 0.5em 0.4em;box-sizing: border-box;padding-bottom: 0.4em;background-color: white;}#sk-container-id-20 div.sk-label label {font-family: monospace;font-weight: bold;display: inline-block;line-height: 1.2em;}#sk-container-id-20 div.sk-label-container {text-align: center;}#sk-container-id-20 div.sk-container {/* jupyter's `normalize.less` sets `[hidden] { display: none; }` but bootstrap.min.css set `[hidden] { display: none !important; }` so we also need the `!important` here to be able to override the default hidden behavior on the sphinx rendered scikit-learn.org. See: https://github.com/scikit-learn/scikit-learn/issues/21755 */display: inline-block !important;position: relative;}#sk-container-id-20 div.sk-text-repr-fallback {display: none;}</style><div id=\"sk-container-id-20\" class=\"sk-top-container\"><div class=\"sk-text-repr-fallback\"><pre>ElasticNetCV(cv=5, random_state=12)</pre><b>In a Jupyter environment, please rerun this cell to show the HTML representation or trust the notebook. <br />On GitHub, the HTML representation is unable to render, please try loading this page with nbviewer.org.</b></div><div class=\"sk-container\" hidden><div class=\"sk-item\"><div class=\"sk-estimator sk-toggleable\"><input class=\"sk-toggleable__control sk-hidden--visually\" id=\"sk-estimator-id-20\" type=\"checkbox\" checked><label for=\"sk-estimator-id-20\" class=\"sk-toggleable__label sk-toggleable__label-arrow\">ElasticNetCV</label><div class=\"sk-toggleable__content\"><pre>ElasticNetCV(cv=5, random_state=12)</pre></div></div></div></div></div>"
      ],
      "text/plain": [
       "ElasticNetCV(cv=5, random_state=12)"
      ]
     },
     "execution_count": 204,
     "metadata": {},
     "output_type": "execute_result"
    }
   ],
   "source": [
    "eregr = models[0]\n",
    "eregr[0]"
   ]
  },
  {
   "cell_type": "code",
   "execution_count": 205,
   "id": "10a28950-8781-416b-8224-e0b14716900b",
   "metadata": {
    "tags": []
   },
   "outputs": [
    {
     "name": "stderr",
     "output_type": "stream",
     "text": [
      "/scratch/radv/mdijsselhof/cvasl/extended_harm_paper/../cvasl/seperated.py:1055: FutureWarning: The behavior of DataFrame concatenation with empty or all-NA entries is deprecated. In a future version, this will no longer exclude empty or all-NA columns when determining the result dtypes. To retain the old behavior, exclude the relevant entries before the concat operation.\n",
      "  mod_results = pd.concat([mod_results, mod_results_current_fold])\n",
      "/scratch/radv/mdijsselhof/cvasl/extended_harm_paper/../cvasl/seperated.py:1055: FutureWarning: The behavior of DataFrame concatenation with empty or all-NA entries is deprecated. In a future version, this will no longer exclude empty or all-NA columns when determining the result dtypes. To retain the old behavior, exclude the relevant entries before the concat operation.\n",
      "  mod_results = pd.concat([mod_results, mod_results_current_fold])\n",
      "/scratch/radv/mdijsselhof/cvasl/extended_harm_paper/../cvasl/seperated.py:1055: FutureWarning: The behavior of DataFrame concatenation with empty or all-NA entries is deprecated. In a future version, this will no longer exclude empty or all-NA columns when determining the result dtypes. To retain the old behavior, exclude the relevant entries before the concat operation.\n",
      "  mod_results = pd.concat([mod_results, mod_results_current_fold])\n",
      "/scratch/radv/mdijsselhof/cvasl/extended_harm_paper/../cvasl/seperated.py:1055: FutureWarning: The behavior of DataFrame concatenation with empty or all-NA entries is deprecated. In a future version, this will no longer exclude empty or all-NA columns when determining the result dtypes. To retain the old behavior, exclude the relevant entries before the concat operation.\n",
      "  mod_results = pd.concat([mod_results, mod_results_current_fold])\n",
      "/scratch/radv/mdijsselhof/cvasl/extended_harm_paper/../cvasl/seperated.py:1055: FutureWarning: The behavior of DataFrame concatenation with empty or all-NA entries is deprecated. In a future version, this will no longer exclude empty or all-NA columns when determining the result dtypes. To retain the old behavior, exclude the relevant entries before the concat operation.\n",
      "  mod_results = pd.concat([mod_results, mod_results_current_fold])\n"
     ]
    },
    {
     "data": {
      "text/html": [
       "<div>\n",
       "<style scoped>\n",
       "    .dataframe tbody tr th:only-of-type {\n",
       "        vertical-align: middle;\n",
       "    }\n",
       "\n",
       "    .dataframe tbody tr th {\n",
       "        vertical-align: top;\n",
       "    }\n",
       "\n",
       "    .dataframe thead th {\n",
       "        text-align: right;\n",
       "    }\n",
       "</style>\n",
       "<table border=\"1\" class=\"dataframe\">\n",
       "  <thead>\n",
       "    <tr style=\"text-align: right;\">\n",
       "      <th></th>\n",
       "      <th>algorithm</th>\n",
       "      <th>fold</th>\n",
       "      <th>file_name</th>\n",
       "      <th>mae</th>\n",
       "      <th>r2</th>\n",
       "      <th>explained_variance</th>\n",
       "    </tr>\n",
       "  </thead>\n",
       "  <tbody>\n",
       "    <tr>\n",
       "      <th>0</th>\n",
       "      <td>extra trees-0</td>\n",
       "      <td>0</td>\n",
       "      <td>unharm_mix_etreg.0</td>\n",
       "      <td>3.058213</td>\n",
       "      <td>0.945463</td>\n",
       "      <td>0.945695</td>\n",
       "    </tr>\n",
       "    <tr>\n",
       "      <th>0</th>\n",
       "      <td>extra trees-1</td>\n",
       "      <td>1</td>\n",
       "      <td>unharm_mix_etreg.1</td>\n",
       "      <td>3.070389</td>\n",
       "      <td>0.950881</td>\n",
       "      <td>0.951022</td>\n",
       "    </tr>\n",
       "    <tr>\n",
       "      <th>0</th>\n",
       "      <td>extra trees-2</td>\n",
       "      <td>2</td>\n",
       "      <td>unharm_mix_etreg.2</td>\n",
       "      <td>2.878715</td>\n",
       "      <td>0.949451</td>\n",
       "      <td>0.949481</td>\n",
       "    </tr>\n",
       "    <tr>\n",
       "      <th>0</th>\n",
       "      <td>extra trees-3</td>\n",
       "      <td>3</td>\n",
       "      <td>unharm_mix_etreg.3</td>\n",
       "      <td>2.948716</td>\n",
       "      <td>0.949529</td>\n",
       "      <td>0.949532</td>\n",
       "    </tr>\n",
       "    <tr>\n",
       "      <th>0</th>\n",
       "      <td>extra trees-4</td>\n",
       "      <td>4</td>\n",
       "      <td>unharm_mix_etreg.4</td>\n",
       "      <td>2.960794</td>\n",
       "      <td>0.948077</td>\n",
       "      <td>0.948198</td>\n",
       "    </tr>\n",
       "  </tbody>\n",
       "</table>\n",
       "</div>"
      ],
      "text/plain": [
       "       algorithm fold           file_name       mae        r2  \\\n",
       "0  extra trees-0    0  unharm_mix_etreg.0  3.058213  0.945463   \n",
       "0  extra trees-1    1  unharm_mix_etreg.1  3.070389  0.950881   \n",
       "0  extra trees-2    2  unharm_mix_etreg.2  2.878715  0.949451   \n",
       "0  extra trees-3    3  unharm_mix_etreg.3  2.948716  0.949529   \n",
       "0  extra trees-4    4  unharm_mix_etreg.4  2.960794  0.948077   \n",
       "\n",
       "   explained_variance  \n",
       "0            0.945695  \n",
       "0            0.951022  \n",
       "0            0.949481  \n",
       "0            0.949532  \n",
       "0            0.948198  "
      ]
     },
     "execution_count": 205,
     "metadata": {},
     "output_type": "execute_result"
    }
   ],
   "source": [
    "etreg_k_frame, etreg_y_frame, models = sep.stratified_cat_and_cont_categories_shuffle_split('extra trees', 'unharm_mix_etreg',  ExtraTreesRegressor(n_estimators=100, random_state=0), ml_matrix, X[:,1:], y)\n",
    "etreg_k_frame"
   ]
  },
  {
   "cell_type": "code",
   "execution_count": 206,
   "id": "e9e5bfdc-1716-4f5c-851c-141a0583d957",
   "metadata": {
    "tags": []
   },
   "outputs": [],
   "source": [
    "etreg_k_frame.to_csv(output_folder + 'etreg_k_frame_combatplusplus_harm.csv')"
   ]
  },
  {
   "cell_type": "code",
   "execution_count": 207,
   "id": "54cb4f91-5126-4971-b5eb-57cd2dcce9b5",
   "metadata": {
    "tags": []
   },
   "outputs": [
    {
     "data": {
      "text/html": [
       "<div>\n",
       "<style scoped>\n",
       "    .dataframe tbody tr th:only-of-type {\n",
       "        vertical-align: middle;\n",
       "    }\n",
       "\n",
       "    .dataframe tbody tr th {\n",
       "        vertical-align: top;\n",
       "    }\n",
       "\n",
       "    .dataframe thead th {\n",
       "        text-align: right;\n",
       "    }\n",
       "</style>\n",
       "<table border=\"1\" class=\"dataframe\">\n",
       "  <thead>\n",
       "    <tr style=\"text-align: right;\">\n",
       "      <th></th>\n",
       "      <th>algorithm</th>\n",
       "      <th>file_name</th>\n",
       "      <th>mae</th>\n",
       "      <th>r2</th>\n",
       "      <th>explained_variance</th>\n",
       "    </tr>\n",
       "  </thead>\n",
       "  <tbody>\n",
       "    <tr>\n",
       "      <th>0</th>\n",
       "      <td>0    extra trees-0\n",
       "0    extra trees-1\n",
       "0    ext...</td>\n",
       "      <td>0    unharm_mix_etreg.0\n",
       "0    unharm_mix_etreg....</td>\n",
       "      <td>2.983365</td>\n",
       "      <td>0.94868</td>\n",
       "      <td>0.948785</td>\n",
       "    </tr>\n",
       "  </tbody>\n",
       "</table>\n",
       "</div>"
      ],
      "text/plain": [
       "                                           algorithm  \\\n",
       "0  0    extra trees-0\n",
       "0    extra trees-1\n",
       "0    ext...   \n",
       "\n",
       "                                           file_name       mae       r2  \\\n",
       "0  0    unharm_mix_etreg.0\n",
       "0    unharm_mix_etreg....  2.983365  0.94868   \n",
       "\n",
       "   explained_variance  \n",
       "0            0.948785  "
      ]
     },
     "execution_count": 207,
     "metadata": {},
     "output_type": "execute_result"
    }
   ],
   "source": [
    "avg_etreg = sep.avg_k_folds(etreg_k_frame)\n",
    "avg_etreg"
   ]
  },
  {
   "cell_type": "code",
   "execution_count": 208,
   "id": "7b074414-9bc5-4d73-ba5c-671d4b9fe854",
   "metadata": {
    "tags": []
   },
   "outputs": [
    {
     "data": {
      "text/html": [
       "<div>\n",
       "<style scoped>\n",
       "    .dataframe tbody tr th:only-of-type {\n",
       "        vertical-align: middle;\n",
       "    }\n",
       "\n",
       "    .dataframe tbody tr th {\n",
       "        vertical-align: top;\n",
       "    }\n",
       "\n",
       "    .dataframe thead th {\n",
       "        text-align: right;\n",
       "    }\n",
       "</style>\n",
       "<table border=\"1\" class=\"dataframe\">\n",
       "  <thead>\n",
       "    <tr style=\"text-align: right;\">\n",
       "      <th></th>\n",
       "      <th>y_test</th>\n",
       "      <th>y_pred</th>\n",
       "    </tr>\n",
       "  </thead>\n",
       "  <tbody>\n",
       "    <tr>\n",
       "      <th>0</th>\n",
       "      <td>27.550000</td>\n",
       "      <td>34.035759</td>\n",
       "    </tr>\n",
       "    <tr>\n",
       "      <th>1</th>\n",
       "      <td>52.495890</td>\n",
       "      <td>53.672680</td>\n",
       "    </tr>\n",
       "    <tr>\n",
       "      <th>2</th>\n",
       "      <td>31.372603</td>\n",
       "      <td>31.715975</td>\n",
       "    </tr>\n",
       "    <tr>\n",
       "      <th>3</th>\n",
       "      <td>50.345205</td>\n",
       "      <td>49.618281</td>\n",
       "    </tr>\n",
       "    <tr>\n",
       "      <th>4</th>\n",
       "      <td>77.593735</td>\n",
       "      <td>73.981688</td>\n",
       "    </tr>\n",
       "    <tr>\n",
       "      <th>...</th>\n",
       "      <td>...</td>\n",
       "      <td>...</td>\n",
       "    </tr>\n",
       "    <tr>\n",
       "      <th>272</th>\n",
       "      <td>69.424658</td>\n",
       "      <td>70.400182</td>\n",
       "    </tr>\n",
       "    <tr>\n",
       "      <th>273</th>\n",
       "      <td>48.730000</td>\n",
       "      <td>45.429596</td>\n",
       "    </tr>\n",
       "    <tr>\n",
       "      <th>274</th>\n",
       "      <td>60.183060</td>\n",
       "      <td>65.769061</td>\n",
       "    </tr>\n",
       "    <tr>\n",
       "      <th>275</th>\n",
       "      <td>40.355191</td>\n",
       "      <td>37.094277</td>\n",
       "    </tr>\n",
       "    <tr>\n",
       "      <th>276</th>\n",
       "      <td>69.506557</td>\n",
       "      <td>69.008150</td>\n",
       "    </tr>\n",
       "  </tbody>\n",
       "</table>\n",
       "<p>1385 rows × 2 columns</p>\n",
       "</div>"
      ],
      "text/plain": [
       "        y_test     y_pred\n",
       "0    27.550000  34.035759\n",
       "1    52.495890  53.672680\n",
       "2    31.372603  31.715975\n",
       "3    50.345205  49.618281\n",
       "4    77.593735  73.981688\n",
       "..         ...        ...\n",
       "272  69.424658  70.400182\n",
       "273  48.730000  45.429596\n",
       "274  60.183060  65.769061\n",
       "275  40.355191  37.094277\n",
       "276  69.506557  69.008150\n",
       "\n",
       "[1385 rows x 2 columns]"
      ]
     },
     "execution_count": 208,
     "metadata": {},
     "output_type": "execute_result"
    }
   ],
   "source": [
    "etreg_y_frame"
   ]
  },
  {
   "cell_type": "code",
   "execution_count": 209,
   "id": "ed83e2b9-17f7-4349-909a-5c1ea652b87e",
   "metadata": {
    "tags": []
   },
   "outputs": [],
   "source": [
    "etreg_y_frame.to_csv(output_folder + 'etreg_y_frame_combatplusplus_harm.csv')"
   ]
  },
  {
   "cell_type": "code",
   "execution_count": 210,
   "id": "24a210ff-abd1-4a33-8d59-da26e937ca0a",
   "metadata": {
    "tags": []
   },
   "outputs": [
    {
     "data": {
      "text/html": [
       "<style>#sk-container-id-21 {color: black;}#sk-container-id-21 pre{padding: 0;}#sk-container-id-21 div.sk-toggleable {background-color: white;}#sk-container-id-21 label.sk-toggleable__label {cursor: pointer;display: block;width: 100%;margin-bottom: 0;padding: 0.3em;box-sizing: border-box;text-align: center;}#sk-container-id-21 label.sk-toggleable__label-arrow:before {content: \"▸\";float: left;margin-right: 0.25em;color: #696969;}#sk-container-id-21 label.sk-toggleable__label-arrow:hover:before {color: black;}#sk-container-id-21 div.sk-estimator:hover label.sk-toggleable__label-arrow:before {color: black;}#sk-container-id-21 div.sk-toggleable__content {max-height: 0;max-width: 0;overflow: hidden;text-align: left;background-color: #f0f8ff;}#sk-container-id-21 div.sk-toggleable__content pre {margin: 0.2em;color: black;border-radius: 0.25em;background-color: #f0f8ff;}#sk-container-id-21 input.sk-toggleable__control:checked~div.sk-toggleable__content {max-height: 200px;max-width: 100%;overflow: auto;}#sk-container-id-21 input.sk-toggleable__control:checked~label.sk-toggleable__label-arrow:before {content: \"▾\";}#sk-container-id-21 div.sk-estimator input.sk-toggleable__control:checked~label.sk-toggleable__label {background-color: #d4ebff;}#sk-container-id-21 div.sk-label input.sk-toggleable__control:checked~label.sk-toggleable__label {background-color: #d4ebff;}#sk-container-id-21 input.sk-hidden--visually {border: 0;clip: rect(1px 1px 1px 1px);clip: rect(1px, 1px, 1px, 1px);height: 1px;margin: -1px;overflow: hidden;padding: 0;position: absolute;width: 1px;}#sk-container-id-21 div.sk-estimator {font-family: monospace;background-color: #f0f8ff;border: 1px dotted black;border-radius: 0.25em;box-sizing: border-box;margin-bottom: 0.5em;}#sk-container-id-21 div.sk-estimator:hover {background-color: #d4ebff;}#sk-container-id-21 div.sk-parallel-item::after {content: \"\";width: 100%;border-bottom: 1px solid gray;flex-grow: 1;}#sk-container-id-21 div.sk-label:hover label.sk-toggleable__label {background-color: #d4ebff;}#sk-container-id-21 div.sk-serial::before {content: \"\";position: absolute;border-left: 1px solid gray;box-sizing: border-box;top: 0;bottom: 0;left: 50%;z-index: 0;}#sk-container-id-21 div.sk-serial {display: flex;flex-direction: column;align-items: center;background-color: white;padding-right: 0.2em;padding-left: 0.2em;position: relative;}#sk-container-id-21 div.sk-item {position: relative;z-index: 1;}#sk-container-id-21 div.sk-parallel {display: flex;align-items: stretch;justify-content: center;background-color: white;position: relative;}#sk-container-id-21 div.sk-item::before, #sk-container-id-21 div.sk-parallel-item::before {content: \"\";position: absolute;border-left: 1px solid gray;box-sizing: border-box;top: 0;bottom: 0;left: 50%;z-index: -1;}#sk-container-id-21 div.sk-parallel-item {display: flex;flex-direction: column;z-index: 1;position: relative;background-color: white;}#sk-container-id-21 div.sk-parallel-item:first-child::after {align-self: flex-end;width: 50%;}#sk-container-id-21 div.sk-parallel-item:last-child::after {align-self: flex-start;width: 50%;}#sk-container-id-21 div.sk-parallel-item:only-child::after {width: 0;}#sk-container-id-21 div.sk-dashed-wrapped {border: 1px dashed gray;margin: 0 0.4em 0.5em 0.4em;box-sizing: border-box;padding-bottom: 0.4em;background-color: white;}#sk-container-id-21 div.sk-label label {font-family: monospace;font-weight: bold;display: inline-block;line-height: 1.2em;}#sk-container-id-21 div.sk-label-container {text-align: center;}#sk-container-id-21 div.sk-container {/* jupyter's `normalize.less` sets `[hidden] { display: none; }` but bootstrap.min.css set `[hidden] { display: none !important; }` so we also need the `!important` here to be able to override the default hidden behavior on the sphinx rendered scikit-learn.org. See: https://github.com/scikit-learn/scikit-learn/issues/21755 */display: inline-block !important;position: relative;}#sk-container-id-21 div.sk-text-repr-fallback {display: none;}</style><div id=\"sk-container-id-21\" class=\"sk-top-container\"><div class=\"sk-text-repr-fallback\"><pre>ExtraTreesRegressor(random_state=0)</pre><b>In a Jupyter environment, please rerun this cell to show the HTML representation or trust the notebook. <br />On GitHub, the HTML representation is unable to render, please try loading this page with nbviewer.org.</b></div><div class=\"sk-container\" hidden><div class=\"sk-item\"><div class=\"sk-estimator sk-toggleable\"><input class=\"sk-toggleable__control sk-hidden--visually\" id=\"sk-estimator-id-21\" type=\"checkbox\" checked><label for=\"sk-estimator-id-21\" class=\"sk-toggleable__label sk-toggleable__label-arrow\">ExtraTreesRegressor</label><div class=\"sk-toggleable__content\"><pre>ExtraTreesRegressor(random_state=0)</pre></div></div></div></div></div>"
      ],
      "text/plain": [
       "ExtraTreesRegressor(random_state=0)"
      ]
     },
     "execution_count": 210,
     "metadata": {},
     "output_type": "execute_result"
    }
   ],
   "source": [
    "etreg = models[0]\n",
    "etreg[0]"
   ]
  },
  {
   "cell_type": "code",
   "execution_count": 211,
   "id": "011b5aee-6c87-48fe-96be-93decfd2f2bf",
   "metadata": {
    "tags": []
   },
   "outputs": [],
   "source": [
    "## optional save models\n",
    "#joblib.dump(etreg[0], ('../result_models/'+ 'unharm_mix_etreg0.sav'))\n",
    "#joblib.dump(etreg[1], ('../result_models/'+ 'unharm_mix_etreg1.sav'))\n",
    "#joblib.dump(etreg[2], ('../result_models/'+ 'unharm_mix_etreg2.sav'))\n",
    "#joblib.dump(etreg[3], ('../result_models/'+ 'unharm_mix_etreg3.sav'))\n",
    "#joblib.dump(etreg[4], ('../result_models/'+ 'unharm_mix_etreg4.sav'))"
   ]
  },
  {
   "cell_type": "markdown",
   "id": "010653f4-8e57-454a-aaaf-4fa6991ab63c",
   "metadata": {},
   "source": [
    "Show results ON AVERAGE for each model"
   ]
  },
  {
   "cell_type": "code",
   "execution_count": 212,
   "id": "23f651de-64b1-44c5-9bbb-ce606c51aa9f",
   "metadata": {
    "tags": []
   },
   "outputs": [
    {
     "data": {
      "text/html": [
       "<div>\n",
       "<style scoped>\n",
       "    .dataframe tbody tr th:only-of-type {\n",
       "        vertical-align: middle;\n",
       "    }\n",
       "\n",
       "    .dataframe tbody tr th {\n",
       "        vertical-align: top;\n",
       "    }\n",
       "\n",
       "    .dataframe thead th {\n",
       "        text-align: right;\n",
       "    }\n",
       "</style>\n",
       "<table border=\"1\" class=\"dataframe\">\n",
       "  <thead>\n",
       "    <tr style=\"text-align: right;\">\n",
       "      <th></th>\n",
       "      <th>algorithm</th>\n",
       "      <th>file_name</th>\n",
       "      <th>mae</th>\n",
       "      <th>r2</th>\n",
       "      <th>explained_variance</th>\n",
       "    </tr>\n",
       "  </thead>\n",
       "  <tbody>\n",
       "    <tr>\n",
       "      <th>0</th>\n",
       "      <td>0    linear regression-0\n",
       "0    linear regressio...</td>\n",
       "      <td>0    req_neuroharm_mix_linr.0\n",
       "0    req_neuroha...</td>\n",
       "      <td>2.872088</td>\n",
       "      <td>0.954548</td>\n",
       "      <td>0.954675</td>\n",
       "    </tr>\n",
       "    <tr>\n",
       "      <th>0</th>\n",
       "      <td>0    lasso regression-0\n",
       "0    lasso regression-...</td>\n",
       "      <td>0    unharm_mix_llreg.0\n",
       "0    unharm_mix_llreg....</td>\n",
       "      <td>3.083201</td>\n",
       "      <td>0.947874</td>\n",
       "      <td>0.948074</td>\n",
       "    </tr>\n",
       "    <tr>\n",
       "      <th>0</th>\n",
       "      <td>0    decision tree-0\n",
       "0    decision tree-1\n",
       "0   ...</td>\n",
       "      <td>0    unharm_mix_dtree.0\n",
       "0    unharm_mix_dtree....</td>\n",
       "      <td>4.400121</td>\n",
       "      <td>0.888316</td>\n",
       "      <td>0.888889</td>\n",
       "    </tr>\n",
       "    <tr>\n",
       "      <th>0</th>\n",
       "      <td>0    MLP regression-0\n",
       "0    MLP regression-1\n",
       "0 ...</td>\n",
       "      <td>0    unharm_mix_regr.0\n",
       "0    unharm_mix_regr.1\n",
       "...</td>\n",
       "      <td>3.079668</td>\n",
       "      <td>0.941966</td>\n",
       "      <td>0.945025</td>\n",
       "    </tr>\n",
       "    <tr>\n",
       "      <th>0</th>\n",
       "      <td>0    support vector reg poly2-0\n",
       "0    support v...</td>\n",
       "      <td>0    unharm_mix_svrp2.0\n",
       "0    unharm_mix_svrp2....</td>\n",
       "      <td>11.669035</td>\n",
       "      <td>0.303654</td>\n",
       "      <td>0.309822</td>\n",
       "    </tr>\n",
       "    <tr>\n",
       "      <th>0</th>\n",
       "      <td>0    elasticnetCV-0\n",
       "0    elasticnetCV-1\n",
       "0    e...</td>\n",
       "      <td>0    unharm_mix_eregr.0\n",
       "0    unharm_mix_eregr....</td>\n",
       "      <td>3.454685</td>\n",
       "      <td>0.936160</td>\n",
       "      <td>0.936266</td>\n",
       "    </tr>\n",
       "    <tr>\n",
       "      <th>0</th>\n",
       "      <td>0    extra trees-0\n",
       "0    extra trees-1\n",
       "0    ext...</td>\n",
       "      <td>0    unharm_mix_etreg.0\n",
       "0    unharm_mix_etreg....</td>\n",
       "      <td>2.983365</td>\n",
       "      <td>0.948680</td>\n",
       "      <td>0.948785</td>\n",
       "    </tr>\n",
       "  </tbody>\n",
       "</table>\n",
       "</div>"
      ],
      "text/plain": [
       "                                           algorithm  \\\n",
       "0  0    linear regression-0\n",
       "0    linear regressio...   \n",
       "0  0    lasso regression-0\n",
       "0    lasso regression-...   \n",
       "0  0    decision tree-0\n",
       "0    decision tree-1\n",
       "0   ...   \n",
       "0  0    MLP regression-0\n",
       "0    MLP regression-1\n",
       "0 ...   \n",
       "0  0    support vector reg poly2-0\n",
       "0    support v...   \n",
       "0  0    elasticnetCV-0\n",
       "0    elasticnetCV-1\n",
       "0    e...   \n",
       "0  0    extra trees-0\n",
       "0    extra trees-1\n",
       "0    ext...   \n",
       "\n",
       "                                           file_name        mae        r2  \\\n",
       "0  0    req_neuroharm_mix_linr.0\n",
       "0    req_neuroha...   2.872088  0.954548   \n",
       "0  0    unharm_mix_llreg.0\n",
       "0    unharm_mix_llreg....   3.083201  0.947874   \n",
       "0  0    unharm_mix_dtree.0\n",
       "0    unharm_mix_dtree....   4.400121  0.888316   \n",
       "0  0    unharm_mix_regr.0\n",
       "0    unharm_mix_regr.1\n",
       "...   3.079668  0.941966   \n",
       "0  0    unharm_mix_svrp2.0\n",
       "0    unharm_mix_svrp2....  11.669035  0.303654   \n",
       "0  0    unharm_mix_eregr.0\n",
       "0    unharm_mix_eregr....   3.454685  0.936160   \n",
       "0  0    unharm_mix_etreg.0\n",
       "0    unharm_mix_etreg....   2.983365  0.948680   \n",
       "\n",
       "   explained_variance  \n",
       "0            0.954675  \n",
       "0            0.948074  \n",
       "0            0.888889  \n",
       "0            0.945025  \n",
       "0            0.309822  \n",
       "0            0.936266  \n",
       "0            0.948785  "
      ]
     },
     "execution_count": 212,
     "metadata": {},
     "output_type": "execute_result"
    }
   ],
   "source": [
    "mixed_based_combatplusplus_harmonized_on_testmix =pd.concat([avg_linr,\n",
    "                   avg_llreg,\n",
    "                   avg_dtree,\n",
    "                   avg_regr,\n",
    "                   avg_svrp2,\n",
    "                   avg_eregr,\n",
    "                   avg_etreg],\n",
    "                  axis=0)\n",
    "mixed_based_combatplusplus_harmonized_on_testmix"
   ]
  },
  {
   "cell_type": "code",
   "execution_count": 213,
   "id": "5c596467-d829-466a-b89c-e06a590e9040",
   "metadata": {
    "tags": []
   },
   "outputs": [],
   "source": [
    "mixed_based_combatplusplus_harmonized_on_testmix.to_csv(output_folder + 'mixed_based_combatplusplus_harmonized_on_testmix.csv')"
   ]
  },
  {
   "cell_type": "markdown",
   "id": "335561d1-d08d-42c8-a609-88d24e5d5b8e",
   "metadata": {},
   "source": [
    "# Running mixed model over SABRE dataset"
   ]
  },
  {
   "cell_type": "markdown",
   "id": "dd9fe7cc-6afb-4f4d-aa20-35d4d6238d3d",
   "metadata": {},
   "source": [
    "## Here we will do an example of running  models made of the entire StrokeMRI and TOP dataset mixed as one"
   ]
  },
  {
   "cell_type": "markdown",
   "id": "d589fe7c-0e57-4e35-b108-f83a32e68863",
   "metadata": {
    "tags": []
   },
   "source": [
    "#### Build new models"
   ]
  },
  {
   "cell_type": "code",
   "execution_count": 214,
   "id": "678c5c90-f4e2-4da4-9eb3-c9c8aa450ac5",
   "metadata": {
    "tags": []
   },
   "outputs": [
    {
     "data": {
      "text/html": [
       "<div>\n",
       "<style scoped>\n",
       "    .dataframe tbody tr th:only-of-type {\n",
       "        vertical-align: middle;\n",
       "    }\n",
       "\n",
       "    .dataframe tbody tr th {\n",
       "        vertical-align: top;\n",
       "    }\n",
       "\n",
       "    .dataframe thead th {\n",
       "        text-align: right;\n",
       "    }\n",
       "</style>\n",
       "<table border=\"1\" class=\"dataframe\">\n",
       "  <thead>\n",
       "    <tr style=\"text-align: right;\">\n",
       "      <th></th>\n",
       "      <th>participant_id</th>\n",
       "      <th>age</th>\n",
       "      <th>sex</th>\n",
       "      <th>gm_vol</th>\n",
       "      <th>wm_vol</th>\n",
       "      <th>csf_vol</th>\n",
       "      <th>gm_icvratio</th>\n",
       "      <th>gmwm_icvratio</th>\n",
       "      <th>wmhvol_wmvol</th>\n",
       "      <th>wmh_count</th>\n",
       "      <th>deepwm_b_cov</th>\n",
       "      <th>aca_b_cov</th>\n",
       "      <th>mca_b_cov</th>\n",
       "      <th>pca_b_cov</th>\n",
       "      <th>totalgm_b_cov</th>\n",
       "      <th>deepwm_b_cbf</th>\n",
       "      <th>aca_b_cbf</th>\n",
       "      <th>mca_b_cbf</th>\n",
       "      <th>pca_b_cbf</th>\n",
       "      <th>totalgm_b_cbf</th>\n",
       "    </tr>\n",
       "  </thead>\n",
       "  <tbody>\n",
       "    <tr>\n",
       "      <th>1</th>\n",
       "      <td>sub-0668_1</td>\n",
       "      <td>50.40</td>\n",
       "      <td>1</td>\n",
       "      <td>0.641295</td>\n",
       "      <td>0.495326</td>\n",
       "      <td>0.267765</td>\n",
       "      <td>0.456277</td>\n",
       "      <td>0.812151</td>\n",
       "      <td>-0.003504</td>\n",
       "      <td>14.095155</td>\n",
       "      <td>1.307450</td>\n",
       "      <td>0.298414</td>\n",
       "      <td>0.383769</td>\n",
       "      <td>0.766132</td>\n",
       "      <td>0.626313</td>\n",
       "      <td>17.897126</td>\n",
       "      <td>84.305987</td>\n",
       "      <td>77.900374</td>\n",
       "      <td>53.169370</td>\n",
       "      <td>68.612307</td>\n",
       "    </tr>\n",
       "    <tr>\n",
       "      <th>2</th>\n",
       "      <td>sub-0532_1</td>\n",
       "      <td>37.02</td>\n",
       "      <td>1</td>\n",
       "      <td>0.717819</td>\n",
       "      <td>0.604665</td>\n",
       "      <td>0.326666</td>\n",
       "      <td>0.432841</td>\n",
       "      <td>0.803615</td>\n",
       "      <td>-0.004214</td>\n",
       "      <td>20.980256</td>\n",
       "      <td>0.107729</td>\n",
       "      <td>0.391102</td>\n",
       "      <td>0.721035</td>\n",
       "      <td>0.505814</td>\n",
       "      <td>0.611645</td>\n",
       "      <td>17.180514</td>\n",
       "      <td>95.715073</td>\n",
       "      <td>87.690683</td>\n",
       "      <td>63.897942</td>\n",
       "      <td>76.855858</td>\n",
       "    </tr>\n",
       "    <tr>\n",
       "      <th>3</th>\n",
       "      <td>sub-0529_1</td>\n",
       "      <td>30.57</td>\n",
       "      <td>1</td>\n",
       "      <td>0.664766</td>\n",
       "      <td>0.469301</td>\n",
       "      <td>0.297046</td>\n",
       "      <td>0.466218</td>\n",
       "      <td>0.788410</td>\n",
       "      <td>-0.000441</td>\n",
       "      <td>16.839277</td>\n",
       "      <td>-0.038462</td>\n",
       "      <td>0.675109</td>\n",
       "      <td>0.429992</td>\n",
       "      <td>0.418169</td>\n",
       "      <td>0.468490</td>\n",
       "      <td>19.038816</td>\n",
       "      <td>103.575974</td>\n",
       "      <td>97.644834</td>\n",
       "      <td>68.868748</td>\n",
       "      <td>84.178769</td>\n",
       "    </tr>\n",
       "  </tbody>\n",
       "</table>\n",
       "</div>"
      ],
      "text/plain": [
       "  participant_id    age  sex    gm_vol    wm_vol   csf_vol  gm_icvratio  \\\n",
       "1     sub-0668_1  50.40    1  0.641295  0.495326  0.267765     0.456277   \n",
       "2     sub-0532_1  37.02    1  0.717819  0.604665  0.326666     0.432841   \n",
       "3     sub-0529_1  30.57    1  0.664766  0.469301  0.297046     0.466218   \n",
       "\n",
       "   gmwm_icvratio  wmhvol_wmvol  wmh_count  deepwm_b_cov  aca_b_cov  mca_b_cov  \\\n",
       "1       0.812151     -0.003504  14.095155      1.307450   0.298414   0.383769   \n",
       "2       0.803615     -0.004214  20.980256      0.107729   0.391102   0.721035   \n",
       "3       0.788410     -0.000441  16.839277     -0.038462   0.675109   0.429992   \n",
       "\n",
       "   pca_b_cov  totalgm_b_cov  deepwm_b_cbf   aca_b_cbf  mca_b_cbf  pca_b_cbf  \\\n",
       "1   0.766132       0.626313     17.897126   84.305987  77.900374  53.169370   \n",
       "2   0.505814       0.611645     17.180514   95.715073  87.690683  63.897942   \n",
       "3   0.418169       0.468490     19.038816  103.575974  97.644834  68.868748   \n",
       "\n",
       "   totalgm_b_cbf  \n",
       "1      68.612307  \n",
       "2      76.855858  \n",
       "3      84.178769  "
      ]
     },
     "execution_count": 214,
     "metadata": {},
     "output_type": "execute_result"
    }
   ],
   "source": [
    "TOPMRI.head(3)"
   ]
  },
  {
   "cell_type": "code",
   "execution_count": 215,
   "id": "e858ce7d-8da7-41e2-b92b-111485afa697",
   "metadata": {
    "tags": []
   },
   "outputs": [],
   "source": [
    "ml_matrix = TOPMRI.drop('participant_id', axis=1)\n",
    "X = ml_matrix.drop('age', axis =1)\n",
    "X = X.values\n",
    "X = X.astype('float')\n",
    "y = ml_matrix['age'].values\n",
    "y=y.astype('float')"
   ]
  },
  {
   "cell_type": "code",
   "execution_count": 216,
   "id": "9b2f7283-a05d-411a-82f4-6df5dcf3216c",
   "metadata": {
    "tags": []
   },
   "outputs": [],
   "source": [
    "# now we decide to do no test train split, rather take all\n",
    "X_train = X\n",
    "y_train = y"
   ]
  },
  {
   "cell_type": "code",
   "execution_count": 217,
   "id": "649bf038-fb3c-419c-8385-dd478c30d042",
   "metadata": {
    "tags": []
   },
   "outputs": [
    {
     "data": {
      "text/html": [
       "<style>#sk-container-id-22 {color: black;}#sk-container-id-22 pre{padding: 0;}#sk-container-id-22 div.sk-toggleable {background-color: white;}#sk-container-id-22 label.sk-toggleable__label {cursor: pointer;display: block;width: 100%;margin-bottom: 0;padding: 0.3em;box-sizing: border-box;text-align: center;}#sk-container-id-22 label.sk-toggleable__label-arrow:before {content: \"▸\";float: left;margin-right: 0.25em;color: #696969;}#sk-container-id-22 label.sk-toggleable__label-arrow:hover:before {color: black;}#sk-container-id-22 div.sk-estimator:hover label.sk-toggleable__label-arrow:before {color: black;}#sk-container-id-22 div.sk-toggleable__content {max-height: 0;max-width: 0;overflow: hidden;text-align: left;background-color: #f0f8ff;}#sk-container-id-22 div.sk-toggleable__content pre {margin: 0.2em;color: black;border-radius: 0.25em;background-color: #f0f8ff;}#sk-container-id-22 input.sk-toggleable__control:checked~div.sk-toggleable__content {max-height: 200px;max-width: 100%;overflow: auto;}#sk-container-id-22 input.sk-toggleable__control:checked~label.sk-toggleable__label-arrow:before {content: \"▾\";}#sk-container-id-22 div.sk-estimator input.sk-toggleable__control:checked~label.sk-toggleable__label {background-color: #d4ebff;}#sk-container-id-22 div.sk-label input.sk-toggleable__control:checked~label.sk-toggleable__label {background-color: #d4ebff;}#sk-container-id-22 input.sk-hidden--visually {border: 0;clip: rect(1px 1px 1px 1px);clip: rect(1px, 1px, 1px, 1px);height: 1px;margin: -1px;overflow: hidden;padding: 0;position: absolute;width: 1px;}#sk-container-id-22 div.sk-estimator {font-family: monospace;background-color: #f0f8ff;border: 1px dotted black;border-radius: 0.25em;box-sizing: border-box;margin-bottom: 0.5em;}#sk-container-id-22 div.sk-estimator:hover {background-color: #d4ebff;}#sk-container-id-22 div.sk-parallel-item::after {content: \"\";width: 100%;border-bottom: 1px solid gray;flex-grow: 1;}#sk-container-id-22 div.sk-label:hover label.sk-toggleable__label {background-color: #d4ebff;}#sk-container-id-22 div.sk-serial::before {content: \"\";position: absolute;border-left: 1px solid gray;box-sizing: border-box;top: 0;bottom: 0;left: 50%;z-index: 0;}#sk-container-id-22 div.sk-serial {display: flex;flex-direction: column;align-items: center;background-color: white;padding-right: 0.2em;padding-left: 0.2em;position: relative;}#sk-container-id-22 div.sk-item {position: relative;z-index: 1;}#sk-container-id-22 div.sk-parallel {display: flex;align-items: stretch;justify-content: center;background-color: white;position: relative;}#sk-container-id-22 div.sk-item::before, #sk-container-id-22 div.sk-parallel-item::before {content: \"\";position: absolute;border-left: 1px solid gray;box-sizing: border-box;top: 0;bottom: 0;left: 50%;z-index: -1;}#sk-container-id-22 div.sk-parallel-item {display: flex;flex-direction: column;z-index: 1;position: relative;background-color: white;}#sk-container-id-22 div.sk-parallel-item:first-child::after {align-self: flex-end;width: 50%;}#sk-container-id-22 div.sk-parallel-item:last-child::after {align-self: flex-start;width: 50%;}#sk-container-id-22 div.sk-parallel-item:only-child::after {width: 0;}#sk-container-id-22 div.sk-dashed-wrapped {border: 1px dashed gray;margin: 0 0.4em 0.5em 0.4em;box-sizing: border-box;padding-bottom: 0.4em;background-color: white;}#sk-container-id-22 div.sk-label label {font-family: monospace;font-weight: bold;display: inline-block;line-height: 1.2em;}#sk-container-id-22 div.sk-label-container {text-align: center;}#sk-container-id-22 div.sk-container {/* jupyter's `normalize.less` sets `[hidden] { display: none; }` but bootstrap.min.css set `[hidden] { display: none !important; }` so we also need the `!important` here to be able to override the default hidden behavior on the sphinx rendered scikit-learn.org. See: https://github.com/scikit-learn/scikit-learn/issues/21755 */display: inline-block !important;position: relative;}#sk-container-id-22 div.sk-text-repr-fallback {display: none;}</style><div id=\"sk-container-id-22\" class=\"sk-top-container\"><div class=\"sk-text-repr-fallback\"><pre>LinearRegression()</pre><b>In a Jupyter environment, please rerun this cell to show the HTML representation or trust the notebook. <br />On GitHub, the HTML representation is unable to render, please try loading this page with nbviewer.org.</b></div><div class=\"sk-container\" hidden><div class=\"sk-item\"><div class=\"sk-estimator sk-toggleable\"><input class=\"sk-toggleable__control sk-hidden--visually\" id=\"sk-estimator-id-22\" type=\"checkbox\" checked><label for=\"sk-estimator-id-22\" class=\"sk-toggleable__label sk-toggleable__label-arrow\">LinearRegression</label><div class=\"sk-toggleable__content\"><pre>LinearRegression()</pre></div></div></div></div></div>"
      ],
      "text/plain": [
       "LinearRegression()"
      ]
     },
     "execution_count": 217,
     "metadata": {},
     "output_type": "execute_result"
    }
   ],
   "source": [
    "MIXlinr = LinearRegression()\n",
    "MIXlinr.fit(X_train, y_train)"
   ]
  },
  {
   "cell_type": "code",
   "execution_count": 218,
   "id": "5d4a180c-930a-4f7e-9e4d-03776b64ac44",
   "metadata": {
    "tags": []
   },
   "outputs": [
    {
     "data": {
      "text/html": [
       "<style>#sk-container-id-23 {color: black;}#sk-container-id-23 pre{padding: 0;}#sk-container-id-23 div.sk-toggleable {background-color: white;}#sk-container-id-23 label.sk-toggleable__label {cursor: pointer;display: block;width: 100%;margin-bottom: 0;padding: 0.3em;box-sizing: border-box;text-align: center;}#sk-container-id-23 label.sk-toggleable__label-arrow:before {content: \"▸\";float: left;margin-right: 0.25em;color: #696969;}#sk-container-id-23 label.sk-toggleable__label-arrow:hover:before {color: black;}#sk-container-id-23 div.sk-estimator:hover label.sk-toggleable__label-arrow:before {color: black;}#sk-container-id-23 div.sk-toggleable__content {max-height: 0;max-width: 0;overflow: hidden;text-align: left;background-color: #f0f8ff;}#sk-container-id-23 div.sk-toggleable__content pre {margin: 0.2em;color: black;border-radius: 0.25em;background-color: #f0f8ff;}#sk-container-id-23 input.sk-toggleable__control:checked~div.sk-toggleable__content {max-height: 200px;max-width: 100%;overflow: auto;}#sk-container-id-23 input.sk-toggleable__control:checked~label.sk-toggleable__label-arrow:before {content: \"▾\";}#sk-container-id-23 div.sk-estimator input.sk-toggleable__control:checked~label.sk-toggleable__label {background-color: #d4ebff;}#sk-container-id-23 div.sk-label input.sk-toggleable__control:checked~label.sk-toggleable__label {background-color: #d4ebff;}#sk-container-id-23 input.sk-hidden--visually {border: 0;clip: rect(1px 1px 1px 1px);clip: rect(1px, 1px, 1px, 1px);height: 1px;margin: -1px;overflow: hidden;padding: 0;position: absolute;width: 1px;}#sk-container-id-23 div.sk-estimator {font-family: monospace;background-color: #f0f8ff;border: 1px dotted black;border-radius: 0.25em;box-sizing: border-box;margin-bottom: 0.5em;}#sk-container-id-23 div.sk-estimator:hover {background-color: #d4ebff;}#sk-container-id-23 div.sk-parallel-item::after {content: \"\";width: 100%;border-bottom: 1px solid gray;flex-grow: 1;}#sk-container-id-23 div.sk-label:hover label.sk-toggleable__label {background-color: #d4ebff;}#sk-container-id-23 div.sk-serial::before {content: \"\";position: absolute;border-left: 1px solid gray;box-sizing: border-box;top: 0;bottom: 0;left: 50%;z-index: 0;}#sk-container-id-23 div.sk-serial {display: flex;flex-direction: column;align-items: center;background-color: white;padding-right: 0.2em;padding-left: 0.2em;position: relative;}#sk-container-id-23 div.sk-item {position: relative;z-index: 1;}#sk-container-id-23 div.sk-parallel {display: flex;align-items: stretch;justify-content: center;background-color: white;position: relative;}#sk-container-id-23 div.sk-item::before, #sk-container-id-23 div.sk-parallel-item::before {content: \"\";position: absolute;border-left: 1px solid gray;box-sizing: border-box;top: 0;bottom: 0;left: 50%;z-index: -1;}#sk-container-id-23 div.sk-parallel-item {display: flex;flex-direction: column;z-index: 1;position: relative;background-color: white;}#sk-container-id-23 div.sk-parallel-item:first-child::after {align-self: flex-end;width: 50%;}#sk-container-id-23 div.sk-parallel-item:last-child::after {align-self: flex-start;width: 50%;}#sk-container-id-23 div.sk-parallel-item:only-child::after {width: 0;}#sk-container-id-23 div.sk-dashed-wrapped {border: 1px dashed gray;margin: 0 0.4em 0.5em 0.4em;box-sizing: border-box;padding-bottom: 0.4em;background-color: white;}#sk-container-id-23 div.sk-label label {font-family: monospace;font-weight: bold;display: inline-block;line-height: 1.2em;}#sk-container-id-23 div.sk-label-container {text-align: center;}#sk-container-id-23 div.sk-container {/* jupyter's `normalize.less` sets `[hidden] { display: none; }` but bootstrap.min.css set `[hidden] { display: none !important; }` so we also need the `!important` here to be able to override the default hidden behavior on the sphinx rendered scikit-learn.org. See: https://github.com/scikit-learn/scikit-learn/issues/21755 */display: inline-block !important;position: relative;}#sk-container-id-23 div.sk-text-repr-fallback {display: none;}</style><div id=\"sk-container-id-23\" class=\"sk-top-container\"><div class=\"sk-text-repr-fallback\"><pre>LassoLars(alpha=0.01)</pre><b>In a Jupyter environment, please rerun this cell to show the HTML representation or trust the notebook. <br />On GitHub, the HTML representation is unable to render, please try loading this page with nbviewer.org.</b></div><div class=\"sk-container\" hidden><div class=\"sk-item\"><div class=\"sk-estimator sk-toggleable\"><input class=\"sk-toggleable__control sk-hidden--visually\" id=\"sk-estimator-id-23\" type=\"checkbox\" checked><label for=\"sk-estimator-id-23\" class=\"sk-toggleable__label sk-toggleable__label-arrow\">LassoLars</label><div class=\"sk-toggleable__content\"><pre>LassoLars(alpha=0.01)</pre></div></div></div></div></div>"
      ],
      "text/plain": [
       "LassoLars(alpha=0.01)"
      ]
     },
     "execution_count": 218,
     "metadata": {},
     "output_type": "execute_result"
    }
   ],
   "source": [
    "MIXllreg = linear_model.LassoLars(alpha=0.01)\n",
    "MIXllreg.fit(X_train, y_train)"
   ]
  },
  {
   "cell_type": "code",
   "execution_count": 219,
   "id": "3daae9f9-f5dd-49a1-8488-0b754288b78f",
   "metadata": {
    "tags": []
   },
   "outputs": [
    {
     "data": {
      "text/html": [
       "<style>#sk-container-id-24 {color: black;}#sk-container-id-24 pre{padding: 0;}#sk-container-id-24 div.sk-toggleable {background-color: white;}#sk-container-id-24 label.sk-toggleable__label {cursor: pointer;display: block;width: 100%;margin-bottom: 0;padding: 0.3em;box-sizing: border-box;text-align: center;}#sk-container-id-24 label.sk-toggleable__label-arrow:before {content: \"▸\";float: left;margin-right: 0.25em;color: #696969;}#sk-container-id-24 label.sk-toggleable__label-arrow:hover:before {color: black;}#sk-container-id-24 div.sk-estimator:hover label.sk-toggleable__label-arrow:before {color: black;}#sk-container-id-24 div.sk-toggleable__content {max-height: 0;max-width: 0;overflow: hidden;text-align: left;background-color: #f0f8ff;}#sk-container-id-24 div.sk-toggleable__content pre {margin: 0.2em;color: black;border-radius: 0.25em;background-color: #f0f8ff;}#sk-container-id-24 input.sk-toggleable__control:checked~div.sk-toggleable__content {max-height: 200px;max-width: 100%;overflow: auto;}#sk-container-id-24 input.sk-toggleable__control:checked~label.sk-toggleable__label-arrow:before {content: \"▾\";}#sk-container-id-24 div.sk-estimator input.sk-toggleable__control:checked~label.sk-toggleable__label {background-color: #d4ebff;}#sk-container-id-24 div.sk-label input.sk-toggleable__control:checked~label.sk-toggleable__label {background-color: #d4ebff;}#sk-container-id-24 input.sk-hidden--visually {border: 0;clip: rect(1px 1px 1px 1px);clip: rect(1px, 1px, 1px, 1px);height: 1px;margin: -1px;overflow: hidden;padding: 0;position: absolute;width: 1px;}#sk-container-id-24 div.sk-estimator {font-family: monospace;background-color: #f0f8ff;border: 1px dotted black;border-radius: 0.25em;box-sizing: border-box;margin-bottom: 0.5em;}#sk-container-id-24 div.sk-estimator:hover {background-color: #d4ebff;}#sk-container-id-24 div.sk-parallel-item::after {content: \"\";width: 100%;border-bottom: 1px solid gray;flex-grow: 1;}#sk-container-id-24 div.sk-label:hover label.sk-toggleable__label {background-color: #d4ebff;}#sk-container-id-24 div.sk-serial::before {content: \"\";position: absolute;border-left: 1px solid gray;box-sizing: border-box;top: 0;bottom: 0;left: 50%;z-index: 0;}#sk-container-id-24 div.sk-serial {display: flex;flex-direction: column;align-items: center;background-color: white;padding-right: 0.2em;padding-left: 0.2em;position: relative;}#sk-container-id-24 div.sk-item {position: relative;z-index: 1;}#sk-container-id-24 div.sk-parallel {display: flex;align-items: stretch;justify-content: center;background-color: white;position: relative;}#sk-container-id-24 div.sk-item::before, #sk-container-id-24 div.sk-parallel-item::before {content: \"\";position: absolute;border-left: 1px solid gray;box-sizing: border-box;top: 0;bottom: 0;left: 50%;z-index: -1;}#sk-container-id-24 div.sk-parallel-item {display: flex;flex-direction: column;z-index: 1;position: relative;background-color: white;}#sk-container-id-24 div.sk-parallel-item:first-child::after {align-self: flex-end;width: 50%;}#sk-container-id-24 div.sk-parallel-item:last-child::after {align-self: flex-start;width: 50%;}#sk-container-id-24 div.sk-parallel-item:only-child::after {width: 0;}#sk-container-id-24 div.sk-dashed-wrapped {border: 1px dashed gray;margin: 0 0.4em 0.5em 0.4em;box-sizing: border-box;padding-bottom: 0.4em;background-color: white;}#sk-container-id-24 div.sk-label label {font-family: monospace;font-weight: bold;display: inline-block;line-height: 1.2em;}#sk-container-id-24 div.sk-label-container {text-align: center;}#sk-container-id-24 div.sk-container {/* jupyter's `normalize.less` sets `[hidden] { display: none; }` but bootstrap.min.css set `[hidden] { display: none !important; }` so we also need the `!important` here to be able to override the default hidden behavior on the sphinx rendered scikit-learn.org. See: https://github.com/scikit-learn/scikit-learn/issues/21755 */display: inline-block !important;position: relative;}#sk-container-id-24 div.sk-text-repr-fallback {display: none;}</style><div id=\"sk-container-id-24\" class=\"sk-top-container\"><div class=\"sk-text-repr-fallback\"><pre>ElasticNetCV(cv=5, random_state=17)</pre><b>In a Jupyter environment, please rerun this cell to show the HTML representation or trust the notebook. <br />On GitHub, the HTML representation is unable to render, please try loading this page with nbviewer.org.</b></div><div class=\"sk-container\" hidden><div class=\"sk-item\"><div class=\"sk-estimator sk-toggleable\"><input class=\"sk-toggleable__control sk-hidden--visually\" id=\"sk-estimator-id-24\" type=\"checkbox\" checked><label for=\"sk-estimator-id-24\" class=\"sk-toggleable__label sk-toggleable__label-arrow\">ElasticNetCV</label><div class=\"sk-toggleable__content\"><pre>ElasticNetCV(cv=5, random_state=17)</pre></div></div></div></div></div>"
      ],
      "text/plain": [
       "ElasticNetCV(cv=5, random_state=17)"
      ]
     },
     "execution_count": 219,
     "metadata": {},
     "output_type": "execute_result"
    }
   ],
   "source": [
    "MIXeregr = ElasticNetCV(cv=5, random_state=17)\n",
    "MIXeregr.fit(X_train, y_train)\n"
   ]
  },
  {
   "cell_type": "code",
   "execution_count": 220,
   "id": "96720f02-42e7-4100-819d-791e9c6e75e9",
   "metadata": {
    "tags": []
   },
   "outputs": [
    {
     "data": {
      "text/html": [
       "<style>#sk-container-id-25 {color: black;}#sk-container-id-25 pre{padding: 0;}#sk-container-id-25 div.sk-toggleable {background-color: white;}#sk-container-id-25 label.sk-toggleable__label {cursor: pointer;display: block;width: 100%;margin-bottom: 0;padding: 0.3em;box-sizing: border-box;text-align: center;}#sk-container-id-25 label.sk-toggleable__label-arrow:before {content: \"▸\";float: left;margin-right: 0.25em;color: #696969;}#sk-container-id-25 label.sk-toggleable__label-arrow:hover:before {color: black;}#sk-container-id-25 div.sk-estimator:hover label.sk-toggleable__label-arrow:before {color: black;}#sk-container-id-25 div.sk-toggleable__content {max-height: 0;max-width: 0;overflow: hidden;text-align: left;background-color: #f0f8ff;}#sk-container-id-25 div.sk-toggleable__content pre {margin: 0.2em;color: black;border-radius: 0.25em;background-color: #f0f8ff;}#sk-container-id-25 input.sk-toggleable__control:checked~div.sk-toggleable__content {max-height: 200px;max-width: 100%;overflow: auto;}#sk-container-id-25 input.sk-toggleable__control:checked~label.sk-toggleable__label-arrow:before {content: \"▾\";}#sk-container-id-25 div.sk-estimator input.sk-toggleable__control:checked~label.sk-toggleable__label {background-color: #d4ebff;}#sk-container-id-25 div.sk-label input.sk-toggleable__control:checked~label.sk-toggleable__label {background-color: #d4ebff;}#sk-container-id-25 input.sk-hidden--visually {border: 0;clip: rect(1px 1px 1px 1px);clip: rect(1px, 1px, 1px, 1px);height: 1px;margin: -1px;overflow: hidden;padding: 0;position: absolute;width: 1px;}#sk-container-id-25 div.sk-estimator {font-family: monospace;background-color: #f0f8ff;border: 1px dotted black;border-radius: 0.25em;box-sizing: border-box;margin-bottom: 0.5em;}#sk-container-id-25 div.sk-estimator:hover {background-color: #d4ebff;}#sk-container-id-25 div.sk-parallel-item::after {content: \"\";width: 100%;border-bottom: 1px solid gray;flex-grow: 1;}#sk-container-id-25 div.sk-label:hover label.sk-toggleable__label {background-color: #d4ebff;}#sk-container-id-25 div.sk-serial::before {content: \"\";position: absolute;border-left: 1px solid gray;box-sizing: border-box;top: 0;bottom: 0;left: 50%;z-index: 0;}#sk-container-id-25 div.sk-serial {display: flex;flex-direction: column;align-items: center;background-color: white;padding-right: 0.2em;padding-left: 0.2em;position: relative;}#sk-container-id-25 div.sk-item {position: relative;z-index: 1;}#sk-container-id-25 div.sk-parallel {display: flex;align-items: stretch;justify-content: center;background-color: white;position: relative;}#sk-container-id-25 div.sk-item::before, #sk-container-id-25 div.sk-parallel-item::before {content: \"\";position: absolute;border-left: 1px solid gray;box-sizing: border-box;top: 0;bottom: 0;left: 50%;z-index: -1;}#sk-container-id-25 div.sk-parallel-item {display: flex;flex-direction: column;z-index: 1;position: relative;background-color: white;}#sk-container-id-25 div.sk-parallel-item:first-child::after {align-self: flex-end;width: 50%;}#sk-container-id-25 div.sk-parallel-item:last-child::after {align-self: flex-start;width: 50%;}#sk-container-id-25 div.sk-parallel-item:only-child::after {width: 0;}#sk-container-id-25 div.sk-dashed-wrapped {border: 1px dashed gray;margin: 0 0.4em 0.5em 0.4em;box-sizing: border-box;padding-bottom: 0.4em;background-color: white;}#sk-container-id-25 div.sk-label label {font-family: monospace;font-weight: bold;display: inline-block;line-height: 1.2em;}#sk-container-id-25 div.sk-label-container {text-align: center;}#sk-container-id-25 div.sk-container {/* jupyter's `normalize.less` sets `[hidden] { display: none; }` but bootstrap.min.css set `[hidden] { display: none !important; }` so we also need the `!important` here to be able to override the default hidden behavior on the sphinx rendered scikit-learn.org. See: https://github.com/scikit-learn/scikit-learn/issues/21755 */display: inline-block !important;position: relative;}#sk-container-id-25 div.sk-text-repr-fallback {display: none;}</style><div id=\"sk-container-id-25\" class=\"sk-top-container\"><div class=\"sk-text-repr-fallback\"><pre>ExtraTreesRegressor(random_state=0)</pre><b>In a Jupyter environment, please rerun this cell to show the HTML representation or trust the notebook. <br />On GitHub, the HTML representation is unable to render, please try loading this page with nbviewer.org.</b></div><div class=\"sk-container\" hidden><div class=\"sk-item\"><div class=\"sk-estimator sk-toggleable\"><input class=\"sk-toggleable__control sk-hidden--visually\" id=\"sk-estimator-id-25\" type=\"checkbox\" checked><label for=\"sk-estimator-id-25\" class=\"sk-toggleable__label sk-toggleable__label-arrow\">ExtraTreesRegressor</label><div class=\"sk-toggleable__content\"><pre>ExtraTreesRegressor(random_state=0)</pre></div></div></div></div></div>"
      ],
      "text/plain": [
       "ExtraTreesRegressor(random_state=0)"
      ]
     },
     "execution_count": 220,
     "metadata": {},
     "output_type": "execute_result"
    }
   ],
   "source": [
    "MIXetreg = ExtraTreesRegressor(n_estimators=100, random_state=0)\n",
    "MIXetreg.fit(X_train, y_train)"
   ]
  },
  {
   "cell_type": "code",
   "execution_count": 221,
   "id": "f184d4bd-d652-4fe4-aff3-9305b3dcdfab",
   "metadata": {
    "tags": []
   },
   "outputs": [],
   "source": [
    "##  Save these four best models"
   ]
  },
  {
   "cell_type": "code",
   "execution_count": 222,
   "id": "b3af3169-f33a-4097-b802-faca8ac35282",
   "metadata": {
    "tags": []
   },
   "outputs": [],
   "source": [
    "## optional save models\n",
    "#joblib.dump(MIXlinr, ('../result_models/'+  'neuro_harm_mix_MIXlinr.sav'))\n",
    "#joblib.dump(MIXllreg, ('../result_models/'+ 'neuro_harmm_mix_MIXllreg.sav'))\n",
    "#joblib.dump(MIXeregr, ('../result_models/'+ 'neuro_harm_mix_MIXeregr.sav'))\n",
    "#joblib.dump(MIXetreg, ('../result_models/'+ 'neuro_harm_mix_MIXetreg.sav'))"
   ]
  },
  {
   "cell_type": "code",
   "execution_count": 223,
   "id": "4541d92f-cf01-4f5a-97cb-6ba4b4c4b0f9",
   "metadata": {
    "tags": []
   },
   "outputs": [],
   "source": [
    "sabre_ml_matrix = SABRE.drop('participant_id', axis=1)\n",
    "X_sabre = sabre_ml_matrix.drop('age', axis =1)\n",
    "X_sabre = X_sabre.values\n",
    "X_sabre = X_sabre.astype('float')\n",
    "y_sabre = sabre_ml_matrix['age'].values\n",
    "y_sabre=y_sabre.astype('float')"
   ]
  },
  {
   "cell_type": "code",
   "execution_count": 224,
   "id": "35936c03-d11e-456f-9883-3ab5c7da1fd9",
   "metadata": {
    "tags": []
   },
   "outputs": [],
   "source": [
    "X_sabre_test = X_sabre\n",
    "y_sabre_test = y_sabre"
   ]
  },
  {
   "cell_type": "code",
   "execution_count": 225,
   "id": "f1358a3f-ca42-434b-8f43-bb6ac2a12daf",
   "metadata": {
    "tags": []
   },
   "outputs": [],
   "source": [
    "y_sabre_pred = MIXlinr.predict(X_sabre_test)"
   ]
  },
  {
   "cell_type": "code",
   "execution_count": 226,
   "id": "6e5993c5-1d7e-4850-88c9-aad5b7e0c24e",
   "metadata": {
    "tags": []
   },
   "outputs": [
    {
     "data": {
      "text/html": [
       "<div>\n",
       "<style scoped>\n",
       "    .dataframe tbody tr th:only-of-type {\n",
       "        vertical-align: middle;\n",
       "    }\n",
       "\n",
       "    .dataframe tbody tr th {\n",
       "        vertical-align: top;\n",
       "    }\n",
       "\n",
       "    .dataframe thead th {\n",
       "        text-align: right;\n",
       "    }\n",
       "</style>\n",
       "<table border=\"1\" class=\"dataframe\">\n",
       "  <thead>\n",
       "    <tr style=\"text-align: right;\">\n",
       "      <th></th>\n",
       "      <th>algorithm</th>\n",
       "      <th>file_name</th>\n",
       "      <th>mae</th>\n",
       "      <th>r2</th>\n",
       "      <th>explained_variance</th>\n",
       "    </tr>\n",
       "  </thead>\n",
       "  <tbody>\n",
       "    <tr>\n",
       "      <th>0</th>\n",
       "      <td>Linear Reg</td>\n",
       "      <td>unharm_mix_linr0.sav</td>\n",
       "      <td>21.425112</td>\n",
       "      <td>-17.875008</td>\n",
       "      <td>-11.14368</td>\n",
       "    </tr>\n",
       "  </tbody>\n",
       "</table>\n",
       "</div>"
      ],
      "text/plain": [
       "    algorithm             file_name        mae         r2  explained_variance\n",
       "0  Linear Reg  unharm_mix_linr0.sav  21.425112 -17.875008           -11.14368"
      ]
     },
     "execution_count": 226,
     "metadata": {},
     "output_type": "execute_result"
    }
   ],
   "source": [
    "data= [[\n",
    "    'Linear Reg',\n",
    "    'unharm_mix_linr0.sav',\n",
    "    mean_absolute_error(y_sabre_test, y_sabre_pred),\n",
    "    MIXlinr.score(X_sabre_test,y_sabre_test),\n",
    "    metrics.explained_variance_score(y_sabre_test, y_sabre_pred)]]\n",
    "linr_results_sabre = pd.DataFrame(data, columns=['algorithm','file_name','mae', 'r2', 'explained_variance'])\n",
    "linr_results_sabre"
   ]
  },
  {
   "cell_type": "code",
   "execution_count": 227,
   "id": "cb2b4ade-6a6b-4d5a-afdb-a983d8123576",
   "metadata": {
    "tags": []
   },
   "outputs": [
    {
     "data": {
      "text/html": [
       "<div>\n",
       "<style scoped>\n",
       "    .dataframe tbody tr th:only-of-type {\n",
       "        vertical-align: middle;\n",
       "    }\n",
       "\n",
       "    .dataframe tbody tr th {\n",
       "        vertical-align: top;\n",
       "    }\n",
       "\n",
       "    .dataframe thead th {\n",
       "        text-align: right;\n",
       "    }\n",
       "</style>\n",
       "<table border=\"1\" class=\"dataframe\">\n",
       "  <thead>\n",
       "    <tr style=\"text-align: right;\">\n",
       "      <th></th>\n",
       "      <th>real</th>\n",
       "      <th>predicted</th>\n",
       "    </tr>\n",
       "  </thead>\n",
       "  <tbody>\n",
       "    <tr>\n",
       "      <th>0</th>\n",
       "      <td>79.0</td>\n",
       "      <td>58.665962</td>\n",
       "    </tr>\n",
       "    <tr>\n",
       "      <th>1</th>\n",
       "      <td>70.0</td>\n",
       "      <td>63.829092</td>\n",
       "    </tr>\n",
       "    <tr>\n",
       "      <th>2</th>\n",
       "      <td>62.0</td>\n",
       "      <td>23.017629</td>\n",
       "    </tr>\n",
       "    <tr>\n",
       "      <th>3</th>\n",
       "      <td>78.0</td>\n",
       "      <td>38.027621</td>\n",
       "    </tr>\n",
       "    <tr>\n",
       "      <th>4</th>\n",
       "      <td>68.0</td>\n",
       "      <td>111.214922</td>\n",
       "    </tr>\n",
       "    <tr>\n",
       "      <th>...</th>\n",
       "      <td>...</td>\n",
       "      <td>...</td>\n",
       "    </tr>\n",
       "    <tr>\n",
       "      <th>701</th>\n",
       "      <td>66.0</td>\n",
       "      <td>52.644945</td>\n",
       "    </tr>\n",
       "    <tr>\n",
       "      <th>702</th>\n",
       "      <td>72.0</td>\n",
       "      <td>54.407969</td>\n",
       "    </tr>\n",
       "    <tr>\n",
       "      <th>703</th>\n",
       "      <td>73.0</td>\n",
       "      <td>48.409064</td>\n",
       "    </tr>\n",
       "    <tr>\n",
       "      <th>704</th>\n",
       "      <td>65.0</td>\n",
       "      <td>50.098924</td>\n",
       "    </tr>\n",
       "    <tr>\n",
       "      <th>705</th>\n",
       "      <td>70.0</td>\n",
       "      <td>54.352091</td>\n",
       "    </tr>\n",
       "  </tbody>\n",
       "</table>\n",
       "<p>706 rows × 2 columns</p>\n",
       "</div>"
      ],
      "text/plain": [
       "     real   predicted\n",
       "0    79.0   58.665962\n",
       "1    70.0   63.829092\n",
       "2    62.0   23.017629\n",
       "3    78.0   38.027621\n",
       "4    68.0  111.214922\n",
       "..    ...         ...\n",
       "701  66.0   52.644945\n",
       "702  72.0   54.407969\n",
       "703  73.0   48.409064\n",
       "704  65.0   50.098924\n",
       "705  70.0   54.352091\n",
       "\n",
       "[706 rows x 2 columns]"
      ]
     },
     "execution_count": 227,
     "metadata": {},
     "output_type": "execute_result"
    }
   ],
   "source": [
    "data = {'real': y_sabre_test, 'predicted': y_sabre_pred}\n",
    "y_frame_linr_sabre = pd.DataFrame(data)\n",
    "y_frame_linr_sabre"
   ]
  },
  {
   "cell_type": "code",
   "execution_count": 228,
   "id": "4770f05f-3e13-4683-9291-1a2a3dbe4ac4",
   "metadata": {
    "tags": []
   },
   "outputs": [],
   "source": [
    "y_frame_linr_sabre.to_csv(output_folder + 'y_frame_linr_sabre_combatplusplus_harm.csv')"
   ]
  },
  {
   "cell_type": "code",
   "execution_count": 229,
   "id": "2c88fdc5-bf6b-4269-af94-b7ef2aceab7f",
   "metadata": {
    "tags": []
   },
   "outputs": [],
   "source": [
    "y_sabre_pred = MIXllreg.predict(X_sabre_test)"
   ]
  },
  {
   "cell_type": "code",
   "execution_count": 230,
   "id": "3d6d882e-a2b1-4aea-b121-f256425fd927",
   "metadata": {
    "tags": []
   },
   "outputs": [
    {
     "data": {
      "text/html": [
       "<div>\n",
       "<style scoped>\n",
       "    .dataframe tbody tr th:only-of-type {\n",
       "        vertical-align: middle;\n",
       "    }\n",
       "\n",
       "    .dataframe tbody tr th {\n",
       "        vertical-align: top;\n",
       "    }\n",
       "\n",
       "    .dataframe thead th {\n",
       "        text-align: right;\n",
       "    }\n",
       "</style>\n",
       "<table border=\"1\" class=\"dataframe\">\n",
       "  <thead>\n",
       "    <tr style=\"text-align: right;\">\n",
       "      <th></th>\n",
       "      <th>algorithm</th>\n",
       "      <th>file_name</th>\n",
       "      <th>mae</th>\n",
       "      <th>r2</th>\n",
       "      <th>explained_variance</th>\n",
       "    </tr>\n",
       "  </thead>\n",
       "  <tbody>\n",
       "    <tr>\n",
       "      <th>0</th>\n",
       "      <td>Lasso</td>\n",
       "      <td>unharm_mix_lassor0.sav</td>\n",
       "      <td>24.976871</td>\n",
       "      <td>-25.207671</td>\n",
       "      <td>-16.368406</td>\n",
       "    </tr>\n",
       "  </tbody>\n",
       "</table>\n",
       "</div>"
      ],
      "text/plain": [
       "  algorithm               file_name        mae         r2  explained_variance\n",
       "0     Lasso  unharm_mix_lassor0.sav  24.976871 -25.207671          -16.368406"
      ]
     },
     "execution_count": 230,
     "metadata": {},
     "output_type": "execute_result"
    }
   ],
   "source": [
    "data= [[\n",
    "    'Lasso',\n",
    "    'unharm_mix_lassor0.sav',\n",
    "    mean_absolute_error(y_sabre_test, y_sabre_pred),\n",
    "    MIXllreg.score(X_sabre_test,y_sabre_test),\n",
    "    metrics.explained_variance_score(y_sabre_test, y_sabre_pred)]]\n",
    "llreg_results_sabre = pd.DataFrame(data, columns=['algorithm','file_name','mae', 'r2', 'explained_variance'])\n",
    "llreg_results_sabre"
   ]
  },
  {
   "cell_type": "code",
   "execution_count": 231,
   "id": "a5b5e69a-7299-4e27-ac4a-fab61b8a3f82",
   "metadata": {
    "tags": []
   },
   "outputs": [
    {
     "data": {
      "text/html": [
       "<div>\n",
       "<style scoped>\n",
       "    .dataframe tbody tr th:only-of-type {\n",
       "        vertical-align: middle;\n",
       "    }\n",
       "\n",
       "    .dataframe tbody tr th {\n",
       "        vertical-align: top;\n",
       "    }\n",
       "\n",
       "    .dataframe thead th {\n",
       "        text-align: right;\n",
       "    }\n",
       "</style>\n",
       "<table border=\"1\" class=\"dataframe\">\n",
       "  <thead>\n",
       "    <tr style=\"text-align: right;\">\n",
       "      <th></th>\n",
       "      <th>real</th>\n",
       "      <th>predicted</th>\n",
       "    </tr>\n",
       "  </thead>\n",
       "  <tbody>\n",
       "    <tr>\n",
       "      <th>0</th>\n",
       "      <td>79.0</td>\n",
       "      <td>53.579122</td>\n",
       "    </tr>\n",
       "    <tr>\n",
       "      <th>1</th>\n",
       "      <td>70.0</td>\n",
       "      <td>63.923730</td>\n",
       "    </tr>\n",
       "    <tr>\n",
       "      <th>2</th>\n",
       "      <td>62.0</td>\n",
       "      <td>27.407571</td>\n",
       "    </tr>\n",
       "    <tr>\n",
       "      <th>3</th>\n",
       "      <td>78.0</td>\n",
       "      <td>29.656713</td>\n",
       "    </tr>\n",
       "    <tr>\n",
       "      <th>4</th>\n",
       "      <td>68.0</td>\n",
       "      <td>127.410981</td>\n",
       "    </tr>\n",
       "    <tr>\n",
       "      <th>...</th>\n",
       "      <td>...</td>\n",
       "      <td>...</td>\n",
       "    </tr>\n",
       "    <tr>\n",
       "      <th>701</th>\n",
       "      <td>66.0</td>\n",
       "      <td>50.771191</td>\n",
       "    </tr>\n",
       "    <tr>\n",
       "      <th>702</th>\n",
       "      <td>72.0</td>\n",
       "      <td>53.756473</td>\n",
       "    </tr>\n",
       "    <tr>\n",
       "      <th>703</th>\n",
       "      <td>73.0</td>\n",
       "      <td>45.854572</td>\n",
       "    </tr>\n",
       "    <tr>\n",
       "      <th>704</th>\n",
       "      <td>65.0</td>\n",
       "      <td>47.504042</td>\n",
       "    </tr>\n",
       "    <tr>\n",
       "      <th>705</th>\n",
       "      <td>70.0</td>\n",
       "      <td>53.775816</td>\n",
       "    </tr>\n",
       "  </tbody>\n",
       "</table>\n",
       "<p>706 rows × 2 columns</p>\n",
       "</div>"
      ],
      "text/plain": [
       "     real   predicted\n",
       "0    79.0   53.579122\n",
       "1    70.0   63.923730\n",
       "2    62.0   27.407571\n",
       "3    78.0   29.656713\n",
       "4    68.0  127.410981\n",
       "..    ...         ...\n",
       "701  66.0   50.771191\n",
       "702  72.0   53.756473\n",
       "703  73.0   45.854572\n",
       "704  65.0   47.504042\n",
       "705  70.0   53.775816\n",
       "\n",
       "[706 rows x 2 columns]"
      ]
     },
     "execution_count": 231,
     "metadata": {},
     "output_type": "execute_result"
    }
   ],
   "source": [
    "data = {'real': y_sabre_test, 'predicted': y_sabre_pred}\n",
    "y_frame_llreg_sabre = pd.DataFrame(data)\n",
    "y_frame_llreg_sabre"
   ]
  },
  {
   "cell_type": "code",
   "execution_count": 232,
   "id": "6037ddb4-32a7-4a2d-b10a-5bdbf6207f44",
   "metadata": {
    "tags": []
   },
   "outputs": [],
   "source": [
    "y_frame_llreg_sabre.to_csv(output_folder + 'y_frame_llreg_sabre_combatplusplus_harm.csv')"
   ]
  },
  {
   "cell_type": "code",
   "execution_count": 233,
   "id": "1f291391-1fc2-483a-a20d-28aee059c53b",
   "metadata": {
    "tags": []
   },
   "outputs": [],
   "source": [
    "y_sabre_pred = MIXeregr.predict(X_sabre_test)"
   ]
  },
  {
   "cell_type": "code",
   "execution_count": 234,
   "id": "0aa78f2a-5de4-43c4-b326-f59d7ec9b2ef",
   "metadata": {
    "tags": []
   },
   "outputs": [
    {
     "data": {
      "text/html": [
       "<div>\n",
       "<style scoped>\n",
       "    .dataframe tbody tr th:only-of-type {\n",
       "        vertical-align: middle;\n",
       "    }\n",
       "\n",
       "    .dataframe tbody tr th {\n",
       "        vertical-align: top;\n",
       "    }\n",
       "\n",
       "    .dataframe thead th {\n",
       "        text-align: right;\n",
       "    }\n",
       "</style>\n",
       "<table border=\"1\" class=\"dataframe\">\n",
       "  <thead>\n",
       "    <tr style=\"text-align: right;\">\n",
       "      <th></th>\n",
       "      <th>algorithm</th>\n",
       "      <th>file_name</th>\n",
       "      <th>mae</th>\n",
       "      <th>r2</th>\n",
       "      <th>explained_variance</th>\n",
       "    </tr>\n",
       "  </thead>\n",
       "  <tbody>\n",
       "    <tr>\n",
       "      <th>0</th>\n",
       "      <td>ElasticnetCV</td>\n",
       "      <td>harm_mix_elasticregr.sav</td>\n",
       "      <td>24.44974</td>\n",
       "      <td>-22.89107</td>\n",
       "      <td>-13.870428</td>\n",
       "    </tr>\n",
       "  </tbody>\n",
       "</table>\n",
       "</div>"
      ],
      "text/plain": [
       "      algorithm                 file_name       mae        r2  \\\n",
       "0  ElasticnetCV  harm_mix_elasticregr.sav  24.44974 -22.89107   \n",
       "\n",
       "   explained_variance  \n",
       "0          -13.870428  "
      ]
     },
     "execution_count": 234,
     "metadata": {},
     "output_type": "execute_result"
    }
   ],
   "source": [
    "data= [[\n",
    "    'ElasticnetCV',\n",
    "    'harm_mix_elasticregr.sav',\n",
    "    mean_absolute_error(y_sabre_test, y_sabre_pred),\n",
    "    MIXeregr.score(X_sabre_test,y_sabre_test),\n",
    "    metrics.explained_variance_score(y_sabre_test, y_sabre_pred)]]\n",
    "eregr_results_sabre = pd.DataFrame(data, columns=['algorithm','file_name','mae', 'r2', 'explained_variance'])\n",
    "eregr_results_sabre"
   ]
  },
  {
   "cell_type": "code",
   "execution_count": 235,
   "id": "e402811e-90fe-4666-87fd-42639ddfc9e6",
   "metadata": {
    "tags": []
   },
   "outputs": [
    {
     "data": {
      "text/html": [
       "<div>\n",
       "<style scoped>\n",
       "    .dataframe tbody tr th:only-of-type {\n",
       "        vertical-align: middle;\n",
       "    }\n",
       "\n",
       "    .dataframe tbody tr th {\n",
       "        vertical-align: top;\n",
       "    }\n",
       "\n",
       "    .dataframe thead th {\n",
       "        text-align: right;\n",
       "    }\n",
       "</style>\n",
       "<table border=\"1\" class=\"dataframe\">\n",
       "  <thead>\n",
       "    <tr style=\"text-align: right;\">\n",
       "      <th></th>\n",
       "      <th>real</th>\n",
       "      <th>predicted</th>\n",
       "    </tr>\n",
       "  </thead>\n",
       "  <tbody>\n",
       "    <tr>\n",
       "      <th>0</th>\n",
       "      <td>79.0</td>\n",
       "      <td>52.751833</td>\n",
       "    </tr>\n",
       "    <tr>\n",
       "      <th>1</th>\n",
       "      <td>70.0</td>\n",
       "      <td>62.040210</td>\n",
       "    </tr>\n",
       "    <tr>\n",
       "      <th>2</th>\n",
       "      <td>62.0</td>\n",
       "      <td>31.558614</td>\n",
       "    </tr>\n",
       "    <tr>\n",
       "      <th>3</th>\n",
       "      <td>78.0</td>\n",
       "      <td>30.076063</td>\n",
       "    </tr>\n",
       "    <tr>\n",
       "      <th>4</th>\n",
       "      <td>68.0</td>\n",
       "      <td>121.989971</td>\n",
       "    </tr>\n",
       "    <tr>\n",
       "      <th>...</th>\n",
       "      <td>...</td>\n",
       "      <td>...</td>\n",
       "    </tr>\n",
       "    <tr>\n",
       "      <th>701</th>\n",
       "      <td>66.0</td>\n",
       "      <td>50.354234</td>\n",
       "    </tr>\n",
       "    <tr>\n",
       "      <th>702</th>\n",
       "      <td>72.0</td>\n",
       "      <td>50.457100</td>\n",
       "    </tr>\n",
       "    <tr>\n",
       "      <th>703</th>\n",
       "      <td>73.0</td>\n",
       "      <td>44.103966</td>\n",
       "    </tr>\n",
       "    <tr>\n",
       "      <th>704</th>\n",
       "      <td>65.0</td>\n",
       "      <td>47.938406</td>\n",
       "    </tr>\n",
       "    <tr>\n",
       "      <th>705</th>\n",
       "      <td>70.0</td>\n",
       "      <td>53.408827</td>\n",
       "    </tr>\n",
       "  </tbody>\n",
       "</table>\n",
       "<p>706 rows × 2 columns</p>\n",
       "</div>"
      ],
      "text/plain": [
       "     real   predicted\n",
       "0    79.0   52.751833\n",
       "1    70.0   62.040210\n",
       "2    62.0   31.558614\n",
       "3    78.0   30.076063\n",
       "4    68.0  121.989971\n",
       "..    ...         ...\n",
       "701  66.0   50.354234\n",
       "702  72.0   50.457100\n",
       "703  73.0   44.103966\n",
       "704  65.0   47.938406\n",
       "705  70.0   53.408827\n",
       "\n",
       "[706 rows x 2 columns]"
      ]
     },
     "execution_count": 235,
     "metadata": {},
     "output_type": "execute_result"
    }
   ],
   "source": [
    "data = {'real': y_sabre_test, 'predicted': y_sabre_pred}\n",
    "y_frame_eregr_sabre = pd.DataFrame(data)\n",
    "y_frame_eregr_sabre"
   ]
  },
  {
   "cell_type": "code",
   "execution_count": 236,
   "id": "5eea397e-8ba2-46e6-aa72-5299f74c55f4",
   "metadata": {
    "tags": []
   },
   "outputs": [],
   "source": [
    "y_frame_eregr_sabre.to_csv(output_folder + 'y_frame_eregr_sabre_combatplusplus_harm.csv')"
   ]
  },
  {
   "cell_type": "code",
   "execution_count": 237,
   "id": "83b9e294-b91f-4965-a9ec-71a9f2098de1",
   "metadata": {
    "tags": []
   },
   "outputs": [],
   "source": [
    "y_sabre_pred = MIXetreg.predict(X_sabre_test)"
   ]
  },
  {
   "cell_type": "code",
   "execution_count": 238,
   "id": "a461bfd1-bbfe-46ba-905c-e9279da37432",
   "metadata": {
    "tags": []
   },
   "outputs": [
    {
     "data": {
      "text/html": [
       "<div>\n",
       "<style scoped>\n",
       "    .dataframe tbody tr th:only-of-type {\n",
       "        vertical-align: middle;\n",
       "    }\n",
       "\n",
       "    .dataframe tbody tr th {\n",
       "        vertical-align: top;\n",
       "    }\n",
       "\n",
       "    .dataframe thead th {\n",
       "        text-align: right;\n",
       "    }\n",
       "</style>\n",
       "<table border=\"1\" class=\"dataframe\">\n",
       "  <thead>\n",
       "    <tr style=\"text-align: right;\">\n",
       "      <th></th>\n",
       "      <th>algorithm</th>\n",
       "      <th>file_name</th>\n",
       "      <th>mae</th>\n",
       "      <th>r2</th>\n",
       "      <th>explained_variance</th>\n",
       "    </tr>\n",
       "  </thead>\n",
       "  <tbody>\n",
       "    <tr>\n",
       "      <th>0</th>\n",
       "      <td>Extra trees</td>\n",
       "      <td>harm_mix_etreg.sav</td>\n",
       "      <td>22.817574</td>\n",
       "      <td>-15.435786</td>\n",
       "      <td>-3.99278</td>\n",
       "    </tr>\n",
       "  </tbody>\n",
       "</table>\n",
       "</div>"
      ],
      "text/plain": [
       "     algorithm           file_name        mae         r2  explained_variance\n",
       "0  Extra trees  harm_mix_etreg.sav  22.817574 -15.435786            -3.99278"
      ]
     },
     "execution_count": 238,
     "metadata": {},
     "output_type": "execute_result"
    }
   ],
   "source": [
    "data= [[\n",
    "    'Extra trees',\n",
    "    'harm_mix_etreg.sav',\n",
    "    mean_absolute_error(y_sabre_test, y_sabre_pred),\n",
    "    MIXetreg.score(X_sabre_test,y_sabre_test),\n",
    "    metrics.explained_variance_score(y_sabre_test, y_sabre_pred)]]\n",
    "etreg_results_sabre = pd.DataFrame(data, columns=['algorithm','file_name','mae', 'r2', 'explained_variance'])\n",
    "etreg_results_sabre"
   ]
  },
  {
   "cell_type": "code",
   "execution_count": 239,
   "id": "ac524ce4-6808-496b-b9b9-481b6479e886",
   "metadata": {
    "tags": []
   },
   "outputs": [
    {
     "data": {
      "text/html": [
       "<div>\n",
       "<style scoped>\n",
       "    .dataframe tbody tr th:only-of-type {\n",
       "        vertical-align: middle;\n",
       "    }\n",
       "\n",
       "    .dataframe tbody tr th {\n",
       "        vertical-align: top;\n",
       "    }\n",
       "\n",
       "    .dataframe thead th {\n",
       "        text-align: right;\n",
       "    }\n",
       "</style>\n",
       "<table border=\"1\" class=\"dataframe\">\n",
       "  <thead>\n",
       "    <tr style=\"text-align: right;\">\n",
       "      <th></th>\n",
       "      <th>real</th>\n",
       "      <th>predicted</th>\n",
       "    </tr>\n",
       "  </thead>\n",
       "  <tbody>\n",
       "    <tr>\n",
       "      <th>0</th>\n",
       "      <td>79.0</td>\n",
       "      <td>57.319292</td>\n",
       "    </tr>\n",
       "    <tr>\n",
       "      <th>1</th>\n",
       "      <td>70.0</td>\n",
       "      <td>62.472767</td>\n",
       "    </tr>\n",
       "    <tr>\n",
       "      <th>2</th>\n",
       "      <td>62.0</td>\n",
       "      <td>31.354030</td>\n",
       "    </tr>\n",
       "    <tr>\n",
       "      <th>3</th>\n",
       "      <td>78.0</td>\n",
       "      <td>32.915544</td>\n",
       "    </tr>\n",
       "    <tr>\n",
       "      <th>4</th>\n",
       "      <td>68.0</td>\n",
       "      <td>72.260113</td>\n",
       "    </tr>\n",
       "    <tr>\n",
       "      <th>...</th>\n",
       "      <td>...</td>\n",
       "      <td>...</td>\n",
       "    </tr>\n",
       "    <tr>\n",
       "      <th>701</th>\n",
       "      <td>66.0</td>\n",
       "      <td>46.372093</td>\n",
       "    </tr>\n",
       "    <tr>\n",
       "      <th>702</th>\n",
       "      <td>72.0</td>\n",
       "      <td>53.639005</td>\n",
       "    </tr>\n",
       "    <tr>\n",
       "      <th>703</th>\n",
       "      <td>73.0</td>\n",
       "      <td>49.048715</td>\n",
       "    </tr>\n",
       "    <tr>\n",
       "      <th>704</th>\n",
       "      <td>65.0</td>\n",
       "      <td>43.025937</td>\n",
       "    </tr>\n",
       "    <tr>\n",
       "      <th>705</th>\n",
       "      <td>70.0</td>\n",
       "      <td>50.776429</td>\n",
       "    </tr>\n",
       "  </tbody>\n",
       "</table>\n",
       "<p>706 rows × 2 columns</p>\n",
       "</div>"
      ],
      "text/plain": [
       "     real  predicted\n",
       "0    79.0  57.319292\n",
       "1    70.0  62.472767\n",
       "2    62.0  31.354030\n",
       "3    78.0  32.915544\n",
       "4    68.0  72.260113\n",
       "..    ...        ...\n",
       "701  66.0  46.372093\n",
       "702  72.0  53.639005\n",
       "703  73.0  49.048715\n",
       "704  65.0  43.025937\n",
       "705  70.0  50.776429\n",
       "\n",
       "[706 rows x 2 columns]"
      ]
     },
     "execution_count": 239,
     "metadata": {},
     "output_type": "execute_result"
    }
   ],
   "source": [
    "data = {'real': y_sabre_test, 'predicted': y_sabre_pred}\n",
    "y_frame_etregr_sabre = pd.DataFrame(data)\n",
    "y_frame_etregr_sabre"
   ]
  },
  {
   "cell_type": "code",
   "execution_count": 240,
   "id": "580fe45c-6428-4465-951d-851d251a1e37",
   "metadata": {
    "tags": []
   },
   "outputs": [],
   "source": [
    "y_frame_etregr_sabre.to_csv(output_folder + 'y_frame_etregr_sabre_combatplusplus_harm.csv')"
   ]
  },
  {
   "cell_type": "code",
   "execution_count": 241,
   "id": "372532aa-b0af-4c75-bb71-b22fce54cc10",
   "metadata": {
    "tags": []
   },
   "outputs": [
    {
     "data": {
      "text/html": [
       "<div>\n",
       "<style scoped>\n",
       "    .dataframe tbody tr th:only-of-type {\n",
       "        vertical-align: middle;\n",
       "    }\n",
       "\n",
       "    .dataframe tbody tr th {\n",
       "        vertical-align: top;\n",
       "    }\n",
       "\n",
       "    .dataframe thead th {\n",
       "        text-align: right;\n",
       "    }\n",
       "</style>\n",
       "<table border=\"1\" class=\"dataframe\">\n",
       "  <thead>\n",
       "    <tr style=\"text-align: right;\">\n",
       "      <th></th>\n",
       "      <th>algorithm</th>\n",
       "      <th>file_name</th>\n",
       "      <th>mae</th>\n",
       "      <th>r2</th>\n",
       "      <th>explained_variance</th>\n",
       "    </tr>\n",
       "  </thead>\n",
       "  <tbody>\n",
       "    <tr>\n",
       "      <th>0</th>\n",
       "      <td>Linear Reg</td>\n",
       "      <td>unharm_mix_linr0.sav</td>\n",
       "      <td>21.425112</td>\n",
       "      <td>-17.875008</td>\n",
       "      <td>-11.143680</td>\n",
       "    </tr>\n",
       "    <tr>\n",
       "      <th>0</th>\n",
       "      <td>Lasso</td>\n",
       "      <td>unharm_mix_lassor0.sav</td>\n",
       "      <td>24.976871</td>\n",
       "      <td>-25.207671</td>\n",
       "      <td>-16.368406</td>\n",
       "    </tr>\n",
       "    <tr>\n",
       "      <th>0</th>\n",
       "      <td>ElasticnetCV</td>\n",
       "      <td>harm_mix_elasticregr.sav</td>\n",
       "      <td>24.449740</td>\n",
       "      <td>-22.891070</td>\n",
       "      <td>-13.870428</td>\n",
       "    </tr>\n",
       "    <tr>\n",
       "      <th>0</th>\n",
       "      <td>Extra trees</td>\n",
       "      <td>harm_mix_etreg.sav</td>\n",
       "      <td>22.817574</td>\n",
       "      <td>-15.435786</td>\n",
       "      <td>-3.992780</td>\n",
       "    </tr>\n",
       "  </tbody>\n",
       "</table>\n",
       "</div>"
      ],
      "text/plain": [
       "      algorithm                 file_name        mae         r2  \\\n",
       "0    Linear Reg      unharm_mix_linr0.sav  21.425112 -17.875008   \n",
       "0         Lasso    unharm_mix_lassor0.sav  24.976871 -25.207671   \n",
       "0  ElasticnetCV  harm_mix_elasticregr.sav  24.449740 -22.891070   \n",
       "0   Extra trees        harm_mix_etreg.sav  22.817574 -15.435786   \n",
       "\n",
       "   explained_variance  \n",
       "0          -11.143680  \n",
       "0          -16.368406  \n",
       "0          -13.870428  \n",
       "0           -3.992780  "
      ]
     },
     "execution_count": 241,
     "metadata": {},
     "output_type": "execute_result"
    }
   ],
   "source": [
    "mix_based_combatplusplus_on_sabre =pd.concat([linr_results_sabre,\n",
    "                   llreg_results_sabre,\n",
    "                   eregr_results_sabre,\n",
    "                  etreg_results_sabre],\n",
    "                  axis=0)\n",
    "mix_based_combatplusplus_on_sabre"
   ]
  },
  {
   "cell_type": "code",
   "execution_count": 242,
   "id": "cddc58e4-76cb-420c-8ba8-a07552a7096d",
   "metadata": {
    "tags": []
   },
   "outputs": [],
   "source": [
    "mix_based_combatplusplus_on_sabre.to_csv(output_folder + 'mix_based_combatplusplus_on_sabre.csv')"
   ]
  },
  {
   "cell_type": "markdown",
   "id": "643a2b97-1246-4efb-9291-498b8adf606d",
   "metadata": {},
   "source": [
    "# Running mixed model over Insight46 dataset"
   ]
  },
  {
   "cell_type": "markdown",
   "id": "c24060d3-81f2-4bfb-aee6-ef9042bef95c",
   "metadata": {},
   "source": [
    "## Here we will do an example of running all the [0] models"
   ]
  },
  {
   "cell_type": "code",
   "execution_count": 243,
   "id": "5f2bae9e-f6c1-4c54-b01f-bb4eb228c121",
   "metadata": {
    "tags": []
   },
   "outputs": [],
   "source": [
    "insight_ml_matrix = Insight46.drop('participant_id', axis=1)\n",
    "X_insight = insight_ml_matrix.drop('age', axis =1)\n",
    "X_insight = X_insight.values\n",
    "X_insight = X_insight.astype('float')\n",
    "y_insight = insight_ml_matrix['age'].values\n",
    "y_insight= y_insight.astype('float')"
   ]
  },
  {
   "cell_type": "code",
   "execution_count": 244,
   "id": "4c42319d-fe4d-4786-9ec9-54b0809a40dd",
   "metadata": {
    "tags": []
   },
   "outputs": [],
   "source": [
    "X_insight_test = X_insight\n",
    "y_insight_test = y_insight"
   ]
  },
  {
   "cell_type": "code",
   "execution_count": 245,
   "id": "42bd7c73-cf15-4e24-98d2-dc84cbdfd341",
   "metadata": {
    "tags": []
   },
   "outputs": [],
   "source": [
    "y_insight_pred = MIXlinr.predict(X_insight_test)"
   ]
  },
  {
   "cell_type": "code",
   "execution_count": 246,
   "id": "82ad38c7-49c7-455d-b2b0-ac4c1fa0a49a",
   "metadata": {
    "tags": []
   },
   "outputs": [
    {
     "data": {
      "text/html": [
       "<div>\n",
       "<style scoped>\n",
       "    .dataframe tbody tr th:only-of-type {\n",
       "        vertical-align: middle;\n",
       "    }\n",
       "\n",
       "    .dataframe tbody tr th {\n",
       "        vertical-align: top;\n",
       "    }\n",
       "\n",
       "    .dataframe thead th {\n",
       "        text-align: right;\n",
       "    }\n",
       "</style>\n",
       "<table border=\"1\" class=\"dataframe\">\n",
       "  <thead>\n",
       "    <tr style=\"text-align: right;\">\n",
       "      <th></th>\n",
       "      <th>algorithm</th>\n",
       "      <th>file_name</th>\n",
       "      <th>mae</th>\n",
       "      <th>r2</th>\n",
       "      <th>explained_variance</th>\n",
       "    </tr>\n",
       "  </thead>\n",
       "  <tbody>\n",
       "    <tr>\n",
       "      <th>0</th>\n",
       "      <td>Linear Reg</td>\n",
       "      <td>neuroharm_mix_linr0.sav</td>\n",
       "      <td>19.910157</td>\n",
       "      <td>-702.018643</td>\n",
       "      <td>-490.031098</td>\n",
       "    </tr>\n",
       "  </tbody>\n",
       "</table>\n",
       "</div>"
      ],
      "text/plain": [
       "    algorithm                file_name        mae          r2  \\\n",
       "0  Linear Reg  neuroharm_mix_linr0.sav  19.910157 -702.018643   \n",
       "\n",
       "   explained_variance  \n",
       "0         -490.031098  "
      ]
     },
     "execution_count": 246,
     "metadata": {},
     "output_type": "execute_result"
    }
   ],
   "source": [
    "data= [[\n",
    "    'Linear Reg',\n",
    "    'neuroharm_mix_linr0.sav',\n",
    "    mean_absolute_error(y_insight_test, y_insight_pred),\n",
    "    MIXlinr.score(X_insight_test,y_insight_test),\n",
    "    metrics.explained_variance_score(y_insight_test, y_insight_pred)]]\n",
    "linr_results_insight = pd.DataFrame(data, columns=['algorithm','file_name','mae', 'r2', 'explained_variance'])\n",
    "linr_results_insight"
   ]
  },
  {
   "cell_type": "code",
   "execution_count": 247,
   "id": "ad393371-6d37-4ab8-88ea-52c87b2f16f1",
   "metadata": {
    "tags": []
   },
   "outputs": [
    {
     "data": {
      "text/html": [
       "<div>\n",
       "<style scoped>\n",
       "    .dataframe tbody tr th:only-of-type {\n",
       "        vertical-align: middle;\n",
       "    }\n",
       "\n",
       "    .dataframe tbody tr th {\n",
       "        vertical-align: top;\n",
       "    }\n",
       "\n",
       "    .dataframe thead th {\n",
       "        text-align: right;\n",
       "    }\n",
       "</style>\n",
       "<table border=\"1\" class=\"dataframe\">\n",
       "  <thead>\n",
       "    <tr style=\"text-align: right;\">\n",
       "      <th></th>\n",
       "      <th>real</th>\n",
       "      <th>predicted</th>\n",
       "    </tr>\n",
       "  </thead>\n",
       "  <tbody>\n",
       "    <tr>\n",
       "      <th>0</th>\n",
       "      <td>71.072222</td>\n",
       "      <td>55.594385</td>\n",
       "    </tr>\n",
       "    <tr>\n",
       "      <th>1</th>\n",
       "      <td>73.000000</td>\n",
       "      <td>61.132867</td>\n",
       "    </tr>\n",
       "    <tr>\n",
       "      <th>2</th>\n",
       "      <td>74.000000</td>\n",
       "      <td>51.512148</td>\n",
       "    </tr>\n",
       "    <tr>\n",
       "      <th>3</th>\n",
       "      <td>71.644444</td>\n",
       "      <td>54.374416</td>\n",
       "    </tr>\n",
       "    <tr>\n",
       "      <th>4</th>\n",
       "      <td>71.694444</td>\n",
       "      <td>52.162341</td>\n",
       "    </tr>\n",
       "    <tr>\n",
       "      <th>...</th>\n",
       "      <td>...</td>\n",
       "      <td>...</td>\n",
       "    </tr>\n",
       "    <tr>\n",
       "      <th>612</th>\n",
       "      <td>72.000000</td>\n",
       "      <td>54.085965</td>\n",
       "    </tr>\n",
       "    <tr>\n",
       "      <th>613</th>\n",
       "      <td>73.000000</td>\n",
       "      <td>163.091964</td>\n",
       "    </tr>\n",
       "    <tr>\n",
       "      <th>614</th>\n",
       "      <td>72.000000</td>\n",
       "      <td>52.648401</td>\n",
       "    </tr>\n",
       "    <tr>\n",
       "      <th>615</th>\n",
       "      <td>70.605556</td>\n",
       "      <td>50.694045</td>\n",
       "    </tr>\n",
       "    <tr>\n",
       "      <th>616</th>\n",
       "      <td>72.000000</td>\n",
       "      <td>46.719066</td>\n",
       "    </tr>\n",
       "  </tbody>\n",
       "</table>\n",
       "<p>617 rows × 2 columns</p>\n",
       "</div>"
      ],
      "text/plain": [
       "          real   predicted\n",
       "0    71.072222   55.594385\n",
       "1    73.000000   61.132867\n",
       "2    74.000000   51.512148\n",
       "3    71.644444   54.374416\n",
       "4    71.694444   52.162341\n",
       "..         ...         ...\n",
       "612  72.000000   54.085965\n",
       "613  73.000000  163.091964\n",
       "614  72.000000   52.648401\n",
       "615  70.605556   50.694045\n",
       "616  72.000000   46.719066\n",
       "\n",
       "[617 rows x 2 columns]"
      ]
     },
     "execution_count": 247,
     "metadata": {},
     "output_type": "execute_result"
    }
   ],
   "source": [
    "data = {'real': y_insight_test, 'predicted': y_insight_pred}\n",
    "y_frame_linr_insight = pd.DataFrame(data)\n",
    "y_frame_linr_insight"
   ]
  },
  {
   "cell_type": "code",
   "execution_count": 248,
   "id": "6f82d394-fd25-47e2-a272-699c60dbed50",
   "metadata": {
    "tags": []
   },
   "outputs": [],
   "source": [
    "y_frame_linr_insight.to_csv(output_folder + 'y_frame_linr_insight_combatplusplus_harm.csv')"
   ]
  },
  {
   "cell_type": "code",
   "execution_count": 249,
   "id": "d8e8db53-ee07-45dc-9b10-56744505445f",
   "metadata": {
    "tags": []
   },
   "outputs": [],
   "source": [
    "y_insight_pred = MIXllreg.predict(X_insight_test)"
   ]
  },
  {
   "cell_type": "code",
   "execution_count": 250,
   "id": "8afdfb64-e596-418c-b160-e32d55ba5bc7",
   "metadata": {
    "tags": []
   },
   "outputs": [
    {
     "data": {
      "text/html": [
       "<div>\n",
       "<style scoped>\n",
       "    .dataframe tbody tr th:only-of-type {\n",
       "        vertical-align: middle;\n",
       "    }\n",
       "\n",
       "    .dataframe tbody tr th {\n",
       "        vertical-align: top;\n",
       "    }\n",
       "\n",
       "    .dataframe thead th {\n",
       "        text-align: right;\n",
       "    }\n",
       "</style>\n",
       "<table border=\"1\" class=\"dataframe\">\n",
       "  <thead>\n",
       "    <tr style=\"text-align: right;\">\n",
       "      <th></th>\n",
       "      <th>algorithm</th>\n",
       "      <th>file_name</th>\n",
       "      <th>mae</th>\n",
       "      <th>r2</th>\n",
       "      <th>explained_variance</th>\n",
       "    </tr>\n",
       "  </thead>\n",
       "  <tbody>\n",
       "    <tr>\n",
       "      <th>0</th>\n",
       "      <td>Lasso</td>\n",
       "      <td>neuroharm_mix_lassor0.sav</td>\n",
       "      <td>22.777167</td>\n",
       "      <td>-947.405923</td>\n",
       "      <td>-670.978145</td>\n",
       "    </tr>\n",
       "  </tbody>\n",
       "</table>\n",
       "</div>"
      ],
      "text/plain": [
       "  algorithm                  file_name        mae          r2  \\\n",
       "0     Lasso  neuroharm_mix_lassor0.sav  22.777167 -947.405923   \n",
       "\n",
       "   explained_variance  \n",
       "0         -670.978145  "
      ]
     },
     "execution_count": 250,
     "metadata": {},
     "output_type": "execute_result"
    }
   ],
   "source": [
    "data= [[\n",
    "    'Lasso',\n",
    "    'neuroharm_mix_lassor0.sav',\n",
    "    mean_absolute_error(y_insight_test, y_insight_pred),\n",
    "    MIXllreg.score(X_insight_test,y_insight_test),\n",
    "    metrics.explained_variance_score(y_insight_test, y_insight_pred)]]\n",
    "llreg_results_insight = pd.DataFrame(data, columns=['algorithm','file_name','mae', 'r2', 'explained_variance'])\n",
    "llreg_results_insight"
   ]
  },
  {
   "cell_type": "code",
   "execution_count": 251,
   "id": "2939ac22-531b-4850-bfc5-63d480aec109",
   "metadata": {
    "tags": []
   },
   "outputs": [
    {
     "data": {
      "text/html": [
       "<div>\n",
       "<style scoped>\n",
       "    .dataframe tbody tr th:only-of-type {\n",
       "        vertical-align: middle;\n",
       "    }\n",
       "\n",
       "    .dataframe tbody tr th {\n",
       "        vertical-align: top;\n",
       "    }\n",
       "\n",
       "    .dataframe thead th {\n",
       "        text-align: right;\n",
       "    }\n",
       "</style>\n",
       "<table border=\"1\" class=\"dataframe\">\n",
       "  <thead>\n",
       "    <tr style=\"text-align: right;\">\n",
       "      <th></th>\n",
       "      <th>real</th>\n",
       "      <th>predicted</th>\n",
       "    </tr>\n",
       "  </thead>\n",
       "  <tbody>\n",
       "    <tr>\n",
       "      <th>0</th>\n",
       "      <td>71.072222</td>\n",
       "      <td>50.076866</td>\n",
       "    </tr>\n",
       "    <tr>\n",
       "      <th>1</th>\n",
       "      <td>73.000000</td>\n",
       "      <td>48.735794</td>\n",
       "    </tr>\n",
       "    <tr>\n",
       "      <th>2</th>\n",
       "      <td>74.000000</td>\n",
       "      <td>49.777718</td>\n",
       "    </tr>\n",
       "    <tr>\n",
       "      <th>3</th>\n",
       "      <td>71.644444</td>\n",
       "      <td>52.662767</td>\n",
       "    </tr>\n",
       "    <tr>\n",
       "      <th>4</th>\n",
       "      <td>71.694444</td>\n",
       "      <td>48.847716</td>\n",
       "    </tr>\n",
       "    <tr>\n",
       "      <th>...</th>\n",
       "      <td>...</td>\n",
       "      <td>...</td>\n",
       "    </tr>\n",
       "    <tr>\n",
       "      <th>612</th>\n",
       "      <td>72.000000</td>\n",
       "      <td>46.947165</td>\n",
       "    </tr>\n",
       "    <tr>\n",
       "      <th>613</th>\n",
       "      <td>73.000000</td>\n",
       "      <td>181.496506</td>\n",
       "    </tr>\n",
       "    <tr>\n",
       "      <th>614</th>\n",
       "      <td>72.000000</td>\n",
       "      <td>47.881773</td>\n",
       "    </tr>\n",
       "    <tr>\n",
       "      <th>615</th>\n",
       "      <td>70.605556</td>\n",
       "      <td>50.248099</td>\n",
       "    </tr>\n",
       "    <tr>\n",
       "      <th>616</th>\n",
       "      <td>72.000000</td>\n",
       "      <td>44.397958</td>\n",
       "    </tr>\n",
       "  </tbody>\n",
       "</table>\n",
       "<p>617 rows × 2 columns</p>\n",
       "</div>"
      ],
      "text/plain": [
       "          real   predicted\n",
       "0    71.072222   50.076866\n",
       "1    73.000000   48.735794\n",
       "2    74.000000   49.777718\n",
       "3    71.644444   52.662767\n",
       "4    71.694444   48.847716\n",
       "..         ...         ...\n",
       "612  72.000000   46.947165\n",
       "613  73.000000  181.496506\n",
       "614  72.000000   47.881773\n",
       "615  70.605556   50.248099\n",
       "616  72.000000   44.397958\n",
       "\n",
       "[617 rows x 2 columns]"
      ]
     },
     "execution_count": 251,
     "metadata": {},
     "output_type": "execute_result"
    }
   ],
   "source": [
    "data = {'real': y_insight_test, 'predicted': y_insight_pred}\n",
    "y_frame_llreg_insight = pd.DataFrame(data)\n",
    "y_frame_llreg_insight"
   ]
  },
  {
   "cell_type": "code",
   "execution_count": 252,
   "id": "52927fa4-47b9-4b8b-92e1-1cf37a0fb538",
   "metadata": {
    "tags": []
   },
   "outputs": [],
   "source": [
    "y_frame_llreg_insight.to_csv(output_folder + 'y_frame_llreg_insight_combatplusplus_harm.csv')"
   ]
  },
  {
   "cell_type": "code",
   "execution_count": 253,
   "id": "8b6c730c-edb7-41a7-9c25-cb9fde019ac1",
   "metadata": {
    "tags": []
   },
   "outputs": [],
   "source": [
    "y_insight_pred = MIXeregr.predict(X_insight_test)"
   ]
  },
  {
   "cell_type": "code",
   "execution_count": 254,
   "id": "a5e4906c-6e64-4cb7-a9e2-53c02ad1c838",
   "metadata": {
    "tags": []
   },
   "outputs": [
    {
     "data": {
      "text/html": [
       "<div>\n",
       "<style scoped>\n",
       "    .dataframe tbody tr th:only-of-type {\n",
       "        vertical-align: middle;\n",
       "    }\n",
       "\n",
       "    .dataframe tbody tr th {\n",
       "        vertical-align: top;\n",
       "    }\n",
       "\n",
       "    .dataframe thead th {\n",
       "        text-align: right;\n",
       "    }\n",
       "</style>\n",
       "<table border=\"1\" class=\"dataframe\">\n",
       "  <thead>\n",
       "    <tr style=\"text-align: right;\">\n",
       "      <th></th>\n",
       "      <th>algorithm</th>\n",
       "      <th>file_name</th>\n",
       "      <th>mae</th>\n",
       "      <th>r2</th>\n",
       "      <th>explained_variance</th>\n",
       "    </tr>\n",
       "  </thead>\n",
       "  <tbody>\n",
       "    <tr>\n",
       "      <th>0</th>\n",
       "      <td>ElasticnetCV</td>\n",
       "      <td>neuroharm_mix_elasticregr.sav</td>\n",
       "      <td>22.798186</td>\n",
       "      <td>-895.989315</td>\n",
       "      <td>-614.255842</td>\n",
       "    </tr>\n",
       "  </tbody>\n",
       "</table>\n",
       "</div>"
      ],
      "text/plain": [
       "      algorithm                      file_name        mae          r2  \\\n",
       "0  ElasticnetCV  neuroharm_mix_elasticregr.sav  22.798186 -895.989315   \n",
       "\n",
       "   explained_variance  \n",
       "0         -614.255842  "
      ]
     },
     "execution_count": 254,
     "metadata": {},
     "output_type": "execute_result"
    }
   ],
   "source": [
    "data= [[\n",
    "    'ElasticnetCV',\n",
    "    'neuroharm_mix_elasticregr.sav',\n",
    "    mean_absolute_error(y_insight_test, y_insight_pred),\n",
    "    MIXeregr.score(X_insight_test,y_insight_test),\n",
    "    metrics.explained_variance_score(y_insight_test, y_insight_pred)]]\n",
    "eregr_results_insight = pd.DataFrame(data, columns=['algorithm','file_name','mae', 'r2', 'explained_variance'])\n",
    "eregr_results_insight"
   ]
  },
  {
   "cell_type": "code",
   "execution_count": 255,
   "id": "cb590c30-ccc5-4fa0-80ff-792a7ad8a3d3",
   "metadata": {
    "tags": []
   },
   "outputs": [
    {
     "data": {
      "text/html": [
       "<div>\n",
       "<style scoped>\n",
       "    .dataframe tbody tr th:only-of-type {\n",
       "        vertical-align: middle;\n",
       "    }\n",
       "\n",
       "    .dataframe tbody tr th {\n",
       "        vertical-align: top;\n",
       "    }\n",
       "\n",
       "    .dataframe thead th {\n",
       "        text-align: right;\n",
       "    }\n",
       "</style>\n",
       "<table border=\"1\" class=\"dataframe\">\n",
       "  <thead>\n",
       "    <tr style=\"text-align: right;\">\n",
       "      <th></th>\n",
       "      <th>real</th>\n",
       "      <th>predicted</th>\n",
       "    </tr>\n",
       "  </thead>\n",
       "  <tbody>\n",
       "    <tr>\n",
       "      <th>0</th>\n",
       "      <td>71.072222</td>\n",
       "      <td>47.956888</td>\n",
       "    </tr>\n",
       "    <tr>\n",
       "      <th>1</th>\n",
       "      <td>73.000000</td>\n",
       "      <td>48.963306</td>\n",
       "    </tr>\n",
       "    <tr>\n",
       "      <th>2</th>\n",
       "      <td>74.000000</td>\n",
       "      <td>50.274671</td>\n",
       "    </tr>\n",
       "    <tr>\n",
       "      <th>3</th>\n",
       "      <td>71.644444</td>\n",
       "      <td>52.992207</td>\n",
       "    </tr>\n",
       "    <tr>\n",
       "      <th>4</th>\n",
       "      <td>71.694444</td>\n",
       "      <td>46.627563</td>\n",
       "    </tr>\n",
       "    <tr>\n",
       "      <th>...</th>\n",
       "      <td>...</td>\n",
       "      <td>...</td>\n",
       "    </tr>\n",
       "    <tr>\n",
       "      <th>612</th>\n",
       "      <td>72.000000</td>\n",
       "      <td>48.031817</td>\n",
       "    </tr>\n",
       "    <tr>\n",
       "      <th>613</th>\n",
       "      <td>73.000000</td>\n",
       "      <td>171.946251</td>\n",
       "    </tr>\n",
       "    <tr>\n",
       "      <th>614</th>\n",
       "      <td>72.000000</td>\n",
       "      <td>46.914868</td>\n",
       "    </tr>\n",
       "    <tr>\n",
       "      <th>615</th>\n",
       "      <td>70.605556</td>\n",
       "      <td>50.358815</td>\n",
       "    </tr>\n",
       "    <tr>\n",
       "      <th>616</th>\n",
       "      <td>72.000000</td>\n",
       "      <td>45.150377</td>\n",
       "    </tr>\n",
       "  </tbody>\n",
       "</table>\n",
       "<p>617 rows × 2 columns</p>\n",
       "</div>"
      ],
      "text/plain": [
       "          real   predicted\n",
       "0    71.072222   47.956888\n",
       "1    73.000000   48.963306\n",
       "2    74.000000   50.274671\n",
       "3    71.644444   52.992207\n",
       "4    71.694444   46.627563\n",
       "..         ...         ...\n",
       "612  72.000000   48.031817\n",
       "613  73.000000  171.946251\n",
       "614  72.000000   46.914868\n",
       "615  70.605556   50.358815\n",
       "616  72.000000   45.150377\n",
       "\n",
       "[617 rows x 2 columns]"
      ]
     },
     "execution_count": 255,
     "metadata": {},
     "output_type": "execute_result"
    }
   ],
   "source": [
    "data = {'real': y_insight_test, 'predicted': y_insight_pred}\n",
    "y_frame_eregr_insight = pd.DataFrame(data)\n",
    "y_frame_eregr_insight"
   ]
  },
  {
   "cell_type": "code",
   "execution_count": 256,
   "id": "0fe55428-c65c-4960-87d6-5b25b9c04b39",
   "metadata": {
    "tags": []
   },
   "outputs": [],
   "source": [
    "y_frame_eregr_insight.to_csv(output_folder + 'y_frame_eregr_insight_combatplusplus_harm.csv')"
   ]
  },
  {
   "cell_type": "code",
   "execution_count": 257,
   "id": "b5359618-4501-4bb8-9550-673eb3cd45df",
   "metadata": {
    "tags": []
   },
   "outputs": [],
   "source": [
    "y_insight_pred = MIXetreg.predict(X_insight_test)"
   ]
  },
  {
   "cell_type": "code",
   "execution_count": 258,
   "id": "942eea1e-720b-4de9-95cc-b5ede54cb44f",
   "metadata": {
    "tags": []
   },
   "outputs": [
    {
     "data": {
      "text/html": [
       "<div>\n",
       "<style scoped>\n",
       "    .dataframe tbody tr th:only-of-type {\n",
       "        vertical-align: middle;\n",
       "    }\n",
       "\n",
       "    .dataframe tbody tr th {\n",
       "        vertical-align: top;\n",
       "    }\n",
       "\n",
       "    .dataframe thead th {\n",
       "        text-align: right;\n",
       "    }\n",
       "</style>\n",
       "<table border=\"1\" class=\"dataframe\">\n",
       "  <thead>\n",
       "    <tr style=\"text-align: right;\">\n",
       "      <th></th>\n",
       "      <th>algorithm</th>\n",
       "      <th>file_name</th>\n",
       "      <th>mae</th>\n",
       "      <th>r2</th>\n",
       "      <th>explained_variance</th>\n",
       "    </tr>\n",
       "  </thead>\n",
       "  <tbody>\n",
       "    <tr>\n",
       "      <th>0</th>\n",
       "      <td>Extra trees</td>\n",
       "      <td>neuroharm_mix_etreg.sav</td>\n",
       "      <td>22.552031</td>\n",
       "      <td>-380.305874</td>\n",
       "      <td>-27.849622</td>\n",
       "    </tr>\n",
       "  </tbody>\n",
       "</table>\n",
       "</div>"
      ],
      "text/plain": [
       "     algorithm                file_name        mae          r2  \\\n",
       "0  Extra trees  neuroharm_mix_etreg.sav  22.552031 -380.305874   \n",
       "\n",
       "   explained_variance  \n",
       "0          -27.849622  "
      ]
     },
     "execution_count": 258,
     "metadata": {},
     "output_type": "execute_result"
    }
   ],
   "source": [
    "data= [[\n",
    "    'Extra trees',\n",
    "    'neuroharm_mix_etreg.sav',\n",
    "    mean_absolute_error(y_insight_test, y_insight_pred),\n",
    "    MIXetreg.score(X_insight_test,y_insight_test),\n",
    "    metrics.explained_variance_score(y_insight_test, y_insight_pred)]]\n",
    "etreg_results_insight = pd.DataFrame(data, columns=['algorithm','file_name','mae', 'r2', 'explained_variance'])\n",
    "etreg_results_insight"
   ]
  },
  {
   "cell_type": "code",
   "execution_count": 259,
   "id": "67c47485-9cf5-4193-85de-3548ef214648",
   "metadata": {
    "tags": []
   },
   "outputs": [
    {
     "data": {
      "text/html": [
       "<div>\n",
       "<style scoped>\n",
       "    .dataframe tbody tr th:only-of-type {\n",
       "        vertical-align: middle;\n",
       "    }\n",
       "\n",
       "    .dataframe tbody tr th {\n",
       "        vertical-align: top;\n",
       "    }\n",
       "\n",
       "    .dataframe thead th {\n",
       "        text-align: right;\n",
       "    }\n",
       "</style>\n",
       "<table border=\"1\" class=\"dataframe\">\n",
       "  <thead>\n",
       "    <tr style=\"text-align: right;\">\n",
       "      <th></th>\n",
       "      <th>real</th>\n",
       "      <th>predicted</th>\n",
       "    </tr>\n",
       "  </thead>\n",
       "  <tbody>\n",
       "    <tr>\n",
       "      <th>0</th>\n",
       "      <td>71.072222</td>\n",
       "      <td>47.756026</td>\n",
       "    </tr>\n",
       "    <tr>\n",
       "      <th>1</th>\n",
       "      <td>73.000000</td>\n",
       "      <td>49.942385</td>\n",
       "    </tr>\n",
       "    <tr>\n",
       "      <th>2</th>\n",
       "      <td>74.000000</td>\n",
       "      <td>48.712318</td>\n",
       "    </tr>\n",
       "    <tr>\n",
       "      <th>3</th>\n",
       "      <td>71.644444</td>\n",
       "      <td>51.073842</td>\n",
       "    </tr>\n",
       "    <tr>\n",
       "      <th>4</th>\n",
       "      <td>71.694444</td>\n",
       "      <td>46.477476</td>\n",
       "    </tr>\n",
       "    <tr>\n",
       "      <th>...</th>\n",
       "      <td>...</td>\n",
       "      <td>...</td>\n",
       "    </tr>\n",
       "    <tr>\n",
       "      <th>612</th>\n",
       "      <td>72.000000</td>\n",
       "      <td>43.917790</td>\n",
       "    </tr>\n",
       "    <tr>\n",
       "      <th>613</th>\n",
       "      <td>73.000000</td>\n",
       "      <td>79.009308</td>\n",
       "    </tr>\n",
       "    <tr>\n",
       "      <th>614</th>\n",
       "      <td>72.000000</td>\n",
       "      <td>44.255815</td>\n",
       "    </tr>\n",
       "    <tr>\n",
       "      <th>615</th>\n",
       "      <td>70.605556</td>\n",
       "      <td>44.055838</td>\n",
       "    </tr>\n",
       "    <tr>\n",
       "      <th>616</th>\n",
       "      <td>72.000000</td>\n",
       "      <td>43.911229</td>\n",
       "    </tr>\n",
       "  </tbody>\n",
       "</table>\n",
       "<p>617 rows × 2 columns</p>\n",
       "</div>"
      ],
      "text/plain": [
       "          real  predicted\n",
       "0    71.072222  47.756026\n",
       "1    73.000000  49.942385\n",
       "2    74.000000  48.712318\n",
       "3    71.644444  51.073842\n",
       "4    71.694444  46.477476\n",
       "..         ...        ...\n",
       "612  72.000000  43.917790\n",
       "613  73.000000  79.009308\n",
       "614  72.000000  44.255815\n",
       "615  70.605556  44.055838\n",
       "616  72.000000  43.911229\n",
       "\n",
       "[617 rows x 2 columns]"
      ]
     },
     "execution_count": 259,
     "metadata": {},
     "output_type": "execute_result"
    }
   ],
   "source": [
    "data = {'real': y_insight_test, 'predicted': y_insight_pred}\n",
    "y_frame_etreg_insight = pd.DataFrame(data)\n",
    "y_frame_etreg_insight"
   ]
  },
  {
   "cell_type": "code",
   "execution_count": 260,
   "id": "59f0a5e9-c3a6-42f8-8a40-8684e7e67d65",
   "metadata": {
    "tags": []
   },
   "outputs": [],
   "source": [
    "y_frame_etreg_insight.to_csv(output_folder + 'y_frame_etreg_insight_combatplusplus_harm.csv')"
   ]
  },
  {
   "cell_type": "code",
   "execution_count": 261,
   "id": "94f68e7c-6f54-47bc-8679-9c4b19629ae0",
   "metadata": {
    "tags": []
   },
   "outputs": [
    {
     "data": {
      "text/html": [
       "<div>\n",
       "<style scoped>\n",
       "    .dataframe tbody tr th:only-of-type {\n",
       "        vertical-align: middle;\n",
       "    }\n",
       "\n",
       "    .dataframe tbody tr th {\n",
       "        vertical-align: top;\n",
       "    }\n",
       "\n",
       "    .dataframe thead th {\n",
       "        text-align: right;\n",
       "    }\n",
       "</style>\n",
       "<table border=\"1\" class=\"dataframe\">\n",
       "  <thead>\n",
       "    <tr style=\"text-align: right;\">\n",
       "      <th></th>\n",
       "      <th>algorithm</th>\n",
       "      <th>file_name</th>\n",
       "      <th>mae</th>\n",
       "      <th>r2</th>\n",
       "      <th>explained_variance</th>\n",
       "    </tr>\n",
       "  </thead>\n",
       "  <tbody>\n",
       "    <tr>\n",
       "      <th>0</th>\n",
       "      <td>Linear Reg</td>\n",
       "      <td>neuroharm_mix_linr0.sav</td>\n",
       "      <td>19.910157</td>\n",
       "      <td>-702.018643</td>\n",
       "      <td>-490.031098</td>\n",
       "    </tr>\n",
       "    <tr>\n",
       "      <th>0</th>\n",
       "      <td>Lasso</td>\n",
       "      <td>neuroharm_mix_lassor0.sav</td>\n",
       "      <td>22.777167</td>\n",
       "      <td>-947.405923</td>\n",
       "      <td>-670.978145</td>\n",
       "    </tr>\n",
       "    <tr>\n",
       "      <th>0</th>\n",
       "      <td>ElasticnetCV</td>\n",
       "      <td>neuroharm_mix_elasticregr.sav</td>\n",
       "      <td>22.798186</td>\n",
       "      <td>-895.989315</td>\n",
       "      <td>-614.255842</td>\n",
       "    </tr>\n",
       "    <tr>\n",
       "      <th>0</th>\n",
       "      <td>Extra trees</td>\n",
       "      <td>neuroharm_mix_etreg.sav</td>\n",
       "      <td>22.552031</td>\n",
       "      <td>-380.305874</td>\n",
       "      <td>-27.849622</td>\n",
       "    </tr>\n",
       "  </tbody>\n",
       "</table>\n",
       "</div>"
      ],
      "text/plain": [
       "      algorithm                      file_name        mae          r2  \\\n",
       "0    Linear Reg        neuroharm_mix_linr0.sav  19.910157 -702.018643   \n",
       "0         Lasso      neuroharm_mix_lassor0.sav  22.777167 -947.405923   \n",
       "0  ElasticnetCV  neuroharm_mix_elasticregr.sav  22.798186 -895.989315   \n",
       "0   Extra trees        neuroharm_mix_etreg.sav  22.552031 -380.305874   \n",
       "\n",
       "   explained_variance  \n",
       "0         -490.031098  \n",
       "0         -670.978145  \n",
       "0         -614.255842  \n",
       "0          -27.849622  "
      ]
     },
     "execution_count": 261,
     "metadata": {},
     "output_type": "execute_result"
    }
   ],
   "source": [
    "mix_based_combatplusplus_on_insight =pd.concat([linr_results_insight,\n",
    "                   llreg_results_insight,\n",
    "                   eregr_results_insight,\n",
    "                   etreg_results_insight],\n",
    "                  axis=0)\n",
    "mix_based_combatplusplus_on_insight"
   ]
  },
  {
   "cell_type": "code",
   "execution_count": 262,
   "id": "066b9518-4dc5-40b9-9391-2c0b3cc8b14e",
   "metadata": {
    "tags": []
   },
   "outputs": [],
   "source": [
    "mix_based_combatplusplus_on_insight.to_csv(output_folder + 'mix_based_combatplusplus_on_insight.csv')"
   ]
  },
  {
   "cell_type": "code",
   "execution_count": null,
   "id": "f9a90039-a07d-4d42-b1d9-b332e9635a12",
   "metadata": {},
   "outputs": [],
   "source": []
  }
 ],
 "metadata": {
  "kernelspec": {
   "display_name": "Python 3 (ipykernel)",
   "language": "python",
   "name": "python3"
  },
  "language_info": {
   "codemirror_mode": {
    "name": "ipython",
    "version": 3
   },
   "file_extension": ".py",
   "mimetype": "text/x-python",
   "name": "python",
   "nbconvert_exporter": "python",
   "pygments_lexer": "ipython3",
   "version": "3.11.7"
  }
 },
 "nbformat": 4,
 "nbformat_minor": 5
}
