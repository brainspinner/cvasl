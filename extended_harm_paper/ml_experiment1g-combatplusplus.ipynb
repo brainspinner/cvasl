{
 "cells": [
  {
   "cell_type": "markdown",
   "id": "0",
   "metadata": {},
   "source": [
    "# ML testing: experiment #1g- harmonized with combat++\n",
    "\n",
    "This notebook involves testing for the MRI conference abstract. This notebook shows harmonized StrokeMRI and TOP based models, and how they perform on each other, once harmonized by combat++"
   ]
  },
  {
   "cell_type": "markdown",
   "id": "1",
   "metadata": {
    "tags": []
   },
   "source": [
    "Data: StrokeMRI, TOP\n",
    "\n",
    "Harmonisation: combat++\n",
    "\n",
    "Training data: StrokeMRI and/or TOP\n",
    "\n",
    "Testing data: StrokeMRI and/or TOP test subsets\n",
    "\n",
    "Futher data applied to: none\n",
    "\n",
    "Validation method: K-fold double-stratified\n",
    "\n",
    "Brain-age algorithms: LR, lasso, extra trees, elasticCV net fully tested (but not optimized parameters), additionals partly\n",
    "\n",
    "Outputs: ? what do we want to have here?"
   ]
  },
  {
   "cell_type": "markdown",
   "id": "2",
   "metadata": {
    "tags": []
   },
   "source": [
    "### import libraries"
   ]
  },
  {
   "cell_type": "code",
   "execution_count": null,
   "id": "3",
   "metadata": {
    "tags": []
   },
   "outputs": [],
   "source": [
    "import os       # using operating system dependent functionality (folders)\n",
    "import sys\n",
    "import glob\n",
    "from functools import reduce\n",
    "\n",
    "import pandas as pd # data analysis and manipulation\n",
    "import numpy as np    # numerical computing (manipulating and performing operations on arrays of data)\n",
    "import matplotlib.pyplot as plt\n",
    " \n",
    "# # demo stuff\n",
    "import ipywidgets as widgets\n",
    "from ipywidgets import interactive\n",
    "# import seaborn \n",
    "\n",
    "# ml stuff\n",
    "from sklearn.model_selection import train_test_split\n",
    "from sklearn.preprocessing import StandardScaler\n",
    "from sklearn.svm import SVC\n",
    "from sklearn.metrics import accuracy_score\n",
    "from sklearn.linear_model import LogisticRegression\n",
    "from sklearn.linear_model import LinearRegression\n",
    "from sklearn import linear_model\n",
    "from sklearn import tree\n",
    "from sklearn import metrics\n",
    "from sklearn.linear_model import SGDRegressor\n",
    "from sklearn.metrics import confusion_matrix\n",
    "from sklearn.metrics import mean_absolute_error\n",
    "#from sklearn.neighbors import KNeighborsClassifier\n",
    "from sklearn.neural_network import MLPRegressor\n",
    "from sklearn.svm import SVR\n",
    "from sklearn.linear_model import ElasticNetCV\n",
    "from sklearn.ensemble import ExtraTreesRegressor\n",
    "\n",
    "import joblib\n",
    "\n",
    "sys.path.insert(0, '../') # path to functions\n",
    "import cvasl.seperated as sep\n",
    "from cvasl.file_handler import Config"
   ]
  },
  {
   "cell_type": "markdown",
   "id": "4",
   "metadata": {
    "tags": []
   },
   "source": [
    "### import data"
   ]
  },
  {
   "cell_type": "code",
   "execution_count": null,
   "id": "5",
   "metadata": {
    "tags": []
   },
   "outputs": [],
   "source": [
    "filepath_mri = 'harmonizations/harm_results/plus/'\n",
    "filename_mri = os.path.join(filepath_mri,'plus_harmonized_mri_from_v1.csv') \n",
    "\n",
    "filepath_top = 'harmonizations/harm_results/plus/'\n",
    "filename_top = os.path.join(filepath_top,'plus_harmonized_top_from_v1.csv') "
   ]
  },
  {
   "cell_type": "code",
   "execution_count": null,
   "id": "6",
   "metadata": {
    "tags": []
   },
   "outputs": [],
   "source": [
    "TOP = pd.read_csv(filename_top, index_col=0)\n",
    "StrokeMRI = pd.read_csv(filename_mri, index_col=0)"
   ]
  },
  {
   "cell_type": "code",
   "execution_count": null,
   "id": "7",
   "metadata": {
    "tags": []
   },
   "outputs": [],
   "source": [
    "TOP"
   ]
  },
  {
   "cell_type": "code",
   "execution_count": null,
   "id": "8",
   "metadata": {
    "tags": []
   },
   "outputs": [],
   "source": [
    "TOP = TOP.drop(TOP.columns[0],axis=1)\n",
    "TOP = TOP.drop(['ID', 'Site'], axis=1)\n",
    "StrokeMRI = StrokeMRI.drop(StrokeMRI.columns[0],axis=1)\n",
    "StrokeMRI = StrokeMRI.drop(['ID', 'Site'], axis=1)\n",
    "StrokeMRI"
   ]
  },
  {
   "cell_type": "code",
   "execution_count": null,
   "id": "151dbfca-63bc-4d5d-b0b7-911ab047e9d4",
   "metadata": {
    "tags": []
   },
   "outputs": [],
   "source": [
    "TOP"
   ]
  },
  {
   "cell_type": "code",
   "execution_count": null,
   "id": "9",
   "metadata": {
    "tags": []
   },
   "outputs": [],
   "source": [
    "TOP.columns = TOP.columns.str.lower() \n",
    "StrokeMRI.columns = StrokeMRI.columns.str.lower() "
   ]
  },
  {
   "cell_type": "code",
   "execution_count": null,
   "id": "10",
   "metadata": {
    "tags": []
   },
   "outputs": [],
   "source": [
    "# # Now we need to flip the sex back to numbers for a correlation\n",
    "# sex_mapping = {'F':0,'M':1}\n",
    "# TOP = TOP.assign(sex = TOP.sex.map(sex_mapping))\n",
    "TOP.head(3)"
   ]
  },
  {
   "cell_type": "code",
   "execution_count": null,
   "id": "11",
   "metadata": {
    "tags": []
   },
   "outputs": [],
   "source": [
    "# StrokeMRI = StrokeMRI.assign(sex = StrokeMRI.sex.map(sex_mapping))\n",
    "StrokeMRI.tail(3)"
   ]
  },
  {
   "cell_type": "code",
   "execution_count": null,
   "id": "12",
   "metadata": {
    "tags": []
   },
   "outputs": [],
   "source": [
    "#give a checkbox for out put folder\n",
    "loged_feat = widgets.ToggleButton(\n",
    "    value=False,\n",
    "    description='Click me if features logged',\n",
    "    disabled=False,\n",
    "    button_style='', # 'success', 'info', 'warning', 'danger' or ''\n",
    "    tooltip='Description',\n",
    "    icon='check' # (FontAwesome names without the `fa-` prefix)\n",
    ")\n",
    "loged_feat"
   ]
  },
  {
   "cell_type": "code",
   "execution_count": null,
   "id": "13",
   "metadata": {},
   "outputs": [],
   "source": []
  },
  {
   "cell_type": "code",
   "execution_count": null,
   "id": "14",
   "metadata": {
    "tags": []
   },
   "outputs": [],
   "source": [
    "loged_feat.value"
   ]
  },
  {
   "cell_type": "code",
   "execution_count": null,
   "id": "15",
   "metadata": {
    "tags": []
   },
   "outputs": [],
   "source": [
    "if loged_feat.value == False:\n",
    "    output_folder = '1g_no_log_outputs'\n",
    "else:\n",
    "    output_folder = '1g_loged_outputs'\n",
    "\n",
    "os.makedirs(output_folder, exist_ok=True)"
   ]
  },
  {
   "cell_type": "markdown",
   "id": "16",
   "metadata": {},
   "source": [
    "## Build ML models based on combat_plusp_ StrokeMRI"
   ]
  },
  {
   "cell_type": "code",
   "execution_count": null,
   "id": "17",
   "metadata": {
    "tags": []
   },
   "outputs": [],
   "source": [
    "ml_matrix = StrokeMRI.drop('participant_id', axis=1)\n",
    "X = ml_matrix.drop('age', axis =1)\n",
    "X = X.values\n",
    "X = X.astype('float')\n",
    "y = ml_matrix['age'].values\n",
    "y=y.astype('float')\n"
   ]
  },
  {
   "cell_type": "code",
   "execution_count": null,
   "id": "18",
   "metadata": {
    "tags": []
   },
   "outputs": [],
   "source": [
    "linr_k_frame, linr_y_frame, models = sep.stratified_cat_and_cont_categories_shuffle_split('linear regression', 'combat_plusp_harm_mri_linr', LinearRegression(), ml_matrix, X, y)"
   ]
  },
  {
   "cell_type": "code",
   "execution_count": null,
   "id": "19",
   "metadata": {
    "tags": []
   },
   "outputs": [],
   "source": [
    "linr_k_frame"
   ]
  },
  {
   "cell_type": "code",
   "execution_count": null,
   "id": "20",
   "metadata": {
    "tags": []
   },
   "outputs": [],
   "source": [
    "linr_k_frame.to_csv(output_folder + '/combat_plusp_harmonized_mri_linr_k_frame.csv')"
   ]
  },
  {
   "cell_type": "code",
   "execution_count": null,
   "id": "21",
   "metadata": {
    "tags": []
   },
   "outputs": [],
   "source": [
    "avg_linr = sep.avg_k_folds(linr_k_frame)\n",
    "avg_linr"
   ]
  },
  {
   "cell_type": "code",
   "execution_count": null,
   "id": "22",
   "metadata": {
    "tags": []
   },
   "outputs": [],
   "source": [
    "linr_y_frame"
   ]
  },
  {
   "cell_type": "code",
   "execution_count": null,
   "id": "23",
   "metadata": {
    "tags": []
   },
   "outputs": [],
   "source": [
    "linr_y_frame.to_csv(output_folder + '/combat_plusp_harmonized_mri_linr_y_frame.csv')"
   ]
  },
  {
   "cell_type": "code",
   "execution_count": null,
   "id": "24",
   "metadata": {
    "tags": []
   },
   "outputs": [],
   "source": [
    "linr = models[0]\n",
    "linr[0]"
   ]
  },
  {
   "cell_type": "code",
   "execution_count": null,
   "id": "25",
   "metadata": {
    "tags": []
   },
   "outputs": [],
   "source": [
    "# check if model folder exists and if not , then create\n",
    "model_folder = '../result_models/'\n",
    "if not os.path.exists(model_folder):\n",
    "    os.makedirs(model_folder)"
   ]
  },
  {
   "cell_type": "code",
   "execution_count": null,
   "id": "26",
   "metadata": {
    "tags": []
   },
   "outputs": [],
   "source": [
    "## optional save models\n",
    "#joblib.dump(linr[0], ('../result_models/'+ 'combat_plusp_harm_mri_linr0.sav'))\n",
    "#joblib.dump(linr[1], ('../result_models/'+ 'combat_plusp_harm_mri_linr1.sav'))\n",
    "#joblib.dump(linr[2], ('../result_models/'+ 'combat_plusp_harm_mri_linr2.sav'))\n",
    "#joblib.dump(linr[3], ('../result_models/'+ 'combat_plusp_harm_mri_linr3.sav'))\n",
    "#joblib.dump(linr[4], ('../result_models/'+ 'combat_plusp_harm_mri_linr4.sav'))"
   ]
  },
  {
   "cell_type": "code",
   "execution_count": null,
   "id": "27",
   "metadata": {
    "tags": []
   },
   "outputs": [],
   "source": [
    "llreg_k_frame, llreg_y_frame, models = sep.stratified_cat_and_cont_categories_shuffle_split('lasso regression', 'combat_plusp_harm_mri_llreg',  linear_model.LassoLars(alpha=0.01), ml_matrix, X, y)\n",
    "llreg_k_frame"
   ]
  },
  {
   "cell_type": "code",
   "execution_count": null,
   "id": "28",
   "metadata": {
    "tags": []
   },
   "outputs": [],
   "source": [
    "llreg_k_frame.to_csv(output_folder + '/combat_plusp_harmonized_mri_llreg_k_frame.csv')"
   ]
  },
  {
   "cell_type": "code",
   "execution_count": null,
   "id": "29",
   "metadata": {
    "tags": []
   },
   "outputs": [],
   "source": [
    "avg_llreg = sep.avg_k_folds(llreg_k_frame)\n",
    "avg_llreg"
   ]
  },
  {
   "cell_type": "code",
   "execution_count": null,
   "id": "30",
   "metadata": {
    "tags": []
   },
   "outputs": [],
   "source": [
    "llreg_y_frame"
   ]
  },
  {
   "cell_type": "code",
   "execution_count": null,
   "id": "31",
   "metadata": {
    "tags": []
   },
   "outputs": [],
   "source": [
    "llreg_y_frame.to_csv(output_folder + '/combat_plusp_harmonized_mri_llreg_y_frame.csv')"
   ]
  },
  {
   "cell_type": "code",
   "execution_count": null,
   "id": "32",
   "metadata": {
    "tags": []
   },
   "outputs": [],
   "source": [
    "llreg = models[0]\n",
    "llreg[0]"
   ]
  },
  {
   "cell_type": "code",
   "execution_count": null,
   "id": "33",
   "metadata": {
    "tags": []
   },
   "outputs": [],
   "source": [
    "## optional save models\n",
    "#joblib.dump(llreg[0], ('../result_models/'+ 'combat_plusp_harm_mri_llreg0.sav'))\n",
    "#joblib.dump(llreg[1], ('../result_models/'+ 'combat_plusp_harm_mri_llreg1.sav'))\n",
    "#joblib.dump(llreg[2], ('../result_models/'+ 'combat_plusp_harm_mri_llreg2.sav'))\n",
    "#joblib.dump(llreg[3], ('../result_models/'+ 'combat_plusp_harm_mri_llreg3.sav'))\n",
    "#joblib.dump(llreg[4], ('../result_models/'+ 'combat_plusp_harm_mri_llreg4.sav'))"
   ]
  },
  {
   "cell_type": "code",
   "execution_count": null,
   "id": "34",
   "metadata": {
    "tags": []
   },
   "outputs": [],
   "source": [
    "dtree_k_frame, dtree_y_frame, models = sep.stratified_cat_and_cont_categories_shuffle_split('decision tree', 'combat_plusp_harm_mri_dtree',  tree.DecisionTreeRegressor(), ml_matrix, X, y)\n",
    "dtree_k_frame"
   ]
  },
  {
   "cell_type": "code",
   "execution_count": null,
   "id": "35",
   "metadata": {
    "tags": []
   },
   "outputs": [],
   "source": [
    "dtree_k_frame.to_csv(output_folder + '/combat_plusp_harmonized_mri_dtree_k_frame.csv')"
   ]
  },
  {
   "cell_type": "code",
   "execution_count": null,
   "id": "36",
   "metadata": {
    "tags": []
   },
   "outputs": [],
   "source": [
    "avg_dtree = sep.avg_k_folds(dtree_k_frame)\n",
    "avg_dtree"
   ]
  },
  {
   "cell_type": "code",
   "execution_count": null,
   "id": "37",
   "metadata": {
    "tags": []
   },
   "outputs": [],
   "source": [
    "dtree_y_frame"
   ]
  },
  {
   "cell_type": "code",
   "execution_count": null,
   "id": "38",
   "metadata": {
    "tags": []
   },
   "outputs": [],
   "source": [
    "dtree_y_frame.to_csv(output_folder + '/combat_plusp_harmonized_mri_dtree_y_frame.csv')"
   ]
  },
  {
   "cell_type": "code",
   "execution_count": null,
   "id": "39",
   "metadata": {
    "tags": []
   },
   "outputs": [],
   "source": [
    "dtree = models[0]\n",
    "dtree[0]"
   ]
  },
  {
   "cell_type": "code",
   "execution_count": null,
   "id": "40",
   "metadata": {
    "tags": []
   },
   "outputs": [],
   "source": [
    "regr_k_frame, regr_y_frame, models = sep.stratified_cat_and_cont_categories_shuffle_split('MLP regression', 'combat_plusp_harm_mri_regr',   MLPRegressor(random_state=1, max_iter=700), ml_matrix, X, y)\n",
    "regr_k_frame"
   ]
  },
  {
   "cell_type": "code",
   "execution_count": null,
   "id": "41",
   "metadata": {
    "tags": []
   },
   "outputs": [],
   "source": [
    "regr_k_frame.to_csv(output_folder + '/combat_plusp_harmonized_mri_regr_k_frame.csv')"
   ]
  },
  {
   "cell_type": "code",
   "execution_count": null,
   "id": "42",
   "metadata": {
    "tags": []
   },
   "outputs": [],
   "source": [
    "avg_regr = sep.avg_k_folds(regr_k_frame)\n",
    "avg_regr"
   ]
  },
  {
   "cell_type": "code",
   "execution_count": null,
   "id": "43",
   "metadata": {
    "tags": []
   },
   "outputs": [],
   "source": [
    "regr_y_frame"
   ]
  },
  {
   "cell_type": "code",
   "execution_count": null,
   "id": "44",
   "metadata": {
    "tags": []
   },
   "outputs": [],
   "source": [
    "regr_y_frame.to_csv(output_folder + '/combat_plusp_harmonized_mri_regr_y_frame.csv')"
   ]
  },
  {
   "cell_type": "code",
   "execution_count": null,
   "id": "45",
   "metadata": {
    "tags": []
   },
   "outputs": [],
   "source": [
    "regr = models[0]\n",
    "regr[0]"
   ]
  },
  {
   "cell_type": "markdown",
   "id": "46",
   "metadata": {},
   "source": [
    "### Note I'm not actually saving the mlp or svr models here because they are not the best performers. if neccesary this can be added"
   ]
  },
  {
   "cell_type": "code",
   "execution_count": null,
   "id": "47",
   "metadata": {
    "tags": []
   },
   "outputs": [],
   "source": [
    "svrp2_k_frame, svrp2_y_frame, models = sep.stratified_cat_and_cont_categories_shuffle_split('support vector reg poly2', 'combat_plusp_harm_mri_svrp2',   SVR(C=1.0, kernel='poly', degree =2, epsilon=0.2), ml_matrix, X, y)\n",
    "svrp2_k_frame"
   ]
  },
  {
   "cell_type": "code",
   "execution_count": null,
   "id": "48",
   "metadata": {
    "tags": []
   },
   "outputs": [],
   "source": [
    "svrp2_k_frame.to_csv(output_folder + '/combat_plusp_harmonized_mri_svrp2_k_frame.csv')"
   ]
  },
  {
   "cell_type": "code",
   "execution_count": null,
   "id": "49",
   "metadata": {
    "tags": []
   },
   "outputs": [],
   "source": [
    "avg_svrp2 = sep.avg_k_folds(svrp2_k_frame)\n",
    "avg_svrp2"
   ]
  },
  {
   "cell_type": "code",
   "execution_count": null,
   "id": "50",
   "metadata": {
    "tags": []
   },
   "outputs": [],
   "source": [
    "svrp2_y_frame"
   ]
  },
  {
   "cell_type": "code",
   "execution_count": null,
   "id": "51",
   "metadata": {
    "tags": []
   },
   "outputs": [],
   "source": [
    "svrp2_y_frame.to_csv(output_folder + '/combat_plusp_harmonized_mrisvrp2_y_frame.csv')"
   ]
  },
  {
   "cell_type": "code",
   "execution_count": null,
   "id": "52",
   "metadata": {
    "tags": []
   },
   "outputs": [],
   "source": [
    "svrp2 = models[0]\n",
    "svrp2[0]"
   ]
  },
  {
   "cell_type": "code",
   "execution_count": null,
   "id": "53",
   "metadata": {
    "tags": []
   },
   "outputs": [],
   "source": [
    "eregr_k_frame, eregr_y_frame, models = sep.stratified_cat_and_cont_categories_shuffle_split('elasticnetCV', 'combat_plusp_harm_mix_eregr',  ElasticNetCV(cv=5, random_state=12), ml_matrix, X, y)\n",
    "eregr_k_frame"
   ]
  },
  {
   "cell_type": "code",
   "execution_count": null,
   "id": "54",
   "metadata": {
    "tags": []
   },
   "outputs": [],
   "source": [
    "eregr_k_frame.to_csv(output_folder + '/combat_plusp_harmonized_eregr_k_frame.csv')"
   ]
  },
  {
   "cell_type": "code",
   "execution_count": null,
   "id": "55",
   "metadata": {
    "tags": []
   },
   "outputs": [],
   "source": [
    "avg_eregr = sep.avg_k_folds(eregr_k_frame)\n",
    "avg_eregr"
   ]
  },
  {
   "cell_type": "code",
   "execution_count": null,
   "id": "56",
   "metadata": {
    "tags": []
   },
   "outputs": [],
   "source": [
    "eregr_y_frame"
   ]
  },
  {
   "cell_type": "code",
   "execution_count": null,
   "id": "57",
   "metadata": {
    "tags": []
   },
   "outputs": [],
   "source": [
    "eregr_y_frame.to_csv(output_folder + '/combat_plusp_harmonized_mri_eregr_y_frame.csv')"
   ]
  },
  {
   "cell_type": "code",
   "execution_count": null,
   "id": "58",
   "metadata": {
    "tags": []
   },
   "outputs": [],
   "source": [
    "eregr = models[0]\n",
    "eregr[0]"
   ]
  },
  {
   "cell_type": "code",
   "execution_count": null,
   "id": "59",
   "metadata": {
    "tags": []
   },
   "outputs": [],
   "source": [
    "etreg_k_frame, etreg_y_frame, models = sep.stratified_cat_and_cont_categories_shuffle_split('extra trees', 'combat_plusp_harm_mri_etreg',  ExtraTreesRegressor(n_estimators=100, random_state=0), ml_matrix, X, y)\n",
    "etreg_k_frame"
   ]
  },
  {
   "cell_type": "code",
   "execution_count": null,
   "id": "60",
   "metadata": {
    "tags": []
   },
   "outputs": [],
   "source": [
    "etreg_k_frame.to_csv(output_folder + '/combat_plusp_haromized_etreg_k_frame.csv')"
   ]
  },
  {
   "cell_type": "code",
   "execution_count": null,
   "id": "61",
   "metadata": {
    "tags": []
   },
   "outputs": [],
   "source": [
    "avg_etreg = sep.avg_k_folds(etreg_k_frame)\n",
    "avg_etreg"
   ]
  },
  {
   "cell_type": "code",
   "execution_count": null,
   "id": "62",
   "metadata": {
    "tags": []
   },
   "outputs": [],
   "source": [
    "etreg_y_frame"
   ]
  },
  {
   "cell_type": "code",
   "execution_count": null,
   "id": "63",
   "metadata": {
    "tags": []
   },
   "outputs": [],
   "source": [
    "etreg_y_frame.to_csv(output_folder + '/combat_plusp_harmonized_etreg_y_frame.csv')"
   ]
  },
  {
   "cell_type": "code",
   "execution_count": null,
   "id": "64",
   "metadata": {
    "tags": []
   },
   "outputs": [],
   "source": [
    "etreg = models[0]\n",
    "etreg[0]"
   ]
  },
  {
   "cell_type": "code",
   "execution_count": null,
   "id": "65",
   "metadata": {
    "tags": []
   },
   "outputs": [],
   "source": [
    "## optional save models\n",
    "#joblib.dump(etreg[0], ('../result_models/'+ 'combat_plusp_harm_mri_etreg0.sav'))\n",
    "#joblib.dump(etreg[1], ('../result_models/'+ 'combat_plusp_harm_mri_etreg1.sav'))\n",
    "#joblib.dump(etreg[2], ('../result_models/'+ 'combat_plusp_harm_mri_etreg2.sav'))\n",
    "#joblib.dump(etreg[3], ('../result_models/'+ 'combat_plusp_harm_mri_etreg3.sav'))\n",
    "#joblib.dump(etreg[4], ('../result_models/'+ 'combat_plusp_harm_mri_etreg4.sav'))"
   ]
  },
  {
   "cell_type": "markdown",
   "id": "66",
   "metadata": {},
   "source": [
    "Show results ON AVERAGE for each model"
   ]
  },
  {
   "cell_type": "code",
   "execution_count": null,
   "id": "67",
   "metadata": {
    "tags": []
   },
   "outputs": [],
   "source": [
    "mri_based_combat_plusp_harmonized_on_testmri =pd.concat([avg_linr,\n",
    "                   avg_llreg,\n",
    "                   avg_dtree,\n",
    "                   avg_regr,\n",
    "                   avg_svrp2,\n",
    "                   avg_eregr,\n",
    "                   avg_etreg],\n",
    "                  axis=0)\n",
    "mri_based_combat_plusp_harmonized_on_testmri"
   ]
  },
  {
   "cell_type": "code",
   "execution_count": null,
   "id": "68",
   "metadata": {
    "tags": []
   },
   "outputs": [],
   "source": [
    "mri_based_combat_plusp_harmonized_on_testmri.to_csv(output_folder + '/mri_based_combat_plusp_harm_on_testmri_AVERAGES.csv')"
   ]
  },
  {
   "cell_type": "markdown",
   "id": "69",
   "metadata": {},
   "source": [
    "## Now we will build  models based on the whole  combat_plusp_ harmonized StrokeMRI dataset, and apply them to TOP . "
   ]
  },
  {
   "cell_type": "code",
   "execution_count": null,
   "id": "70",
   "metadata": {
    "tags": []
   },
   "outputs": [],
   "source": [
    "ml_matrix = StrokeMRI.drop('participant_id', axis=1)\n",
    "X = ml_matrix.drop('age', axis =1)\n",
    "X = X.values\n",
    "X = X.astype('float')\n",
    "y = ml_matrix['age'].values\n",
    "y=y.astype('float')\n"
   ]
  },
  {
   "cell_type": "code",
   "execution_count": null,
   "id": "71",
   "metadata": {
    "tags": []
   },
   "outputs": [],
   "source": [
    "# now we decide to do no test train split, rather take all\n",
    "X_train = X\n",
    "y_train = y"
   ]
  },
  {
   "cell_type": "code",
   "execution_count": null,
   "id": "72",
   "metadata": {
    "tags": []
   },
   "outputs": [],
   "source": [
    "MRIlinr = LinearRegression()\n",
    "MRIlinr.fit(X_train, y_train)"
   ]
  },
  {
   "cell_type": "code",
   "execution_count": null,
   "id": "73",
   "metadata": {
    "tags": []
   },
   "outputs": [],
   "source": [
    "MRIllreg = linear_model.LassoLars(alpha=0.01)\n",
    "MRIllreg.fit(X_train, y_train)"
   ]
  },
  {
   "cell_type": "code",
   "execution_count": null,
   "id": "74",
   "metadata": {
    "tags": []
   },
   "outputs": [],
   "source": [
    "MRIeregr = ElasticNetCV(cv=5, random_state=17)\n",
    "MRIeregr.fit(X_train, y_train)\n"
   ]
  },
  {
   "cell_type": "code",
   "execution_count": null,
   "id": "75",
   "metadata": {
    "tags": []
   },
   "outputs": [],
   "source": [
    "MRIetreg = ExtraTreesRegressor(n_estimators=100, random_state=0)\n",
    "MRIetreg.fit(X_train, y_train)"
   ]
  },
  {
   "cell_type": "code",
   "execution_count": null,
   "id": "76",
   "metadata": {
    "tags": []
   },
   "outputs": [],
   "source": [
    "##  Save these four best models"
   ]
  },
  {
   "cell_type": "code",
   "execution_count": null,
   "id": "77",
   "metadata": {
    "tags": []
   },
   "outputs": [],
   "source": [
    "\n",
    "## optional save models\n",
    "#joblib.dump(MRIlinr, ('../result_models/' + 'combat_plusp_harm_whole_mri_linr.sav'))\n",
    "#joblib.dump(MRIllreg, ('../result_models/'+ 'combat_plusp_harm_whole_mri_llreg1.sav'))\n",
    "#joblib.dump(MRIeregr, ('../result_models/'+ 'combat_plusp_harm_whole_mri_eregr3.sav'))\n",
    "#joblib.dump(MRIetreg, ('../result_models/'+ 'combat_plusp_harm_whole_mri_etreg4.sav'))"
   ]
  },
  {
   "cell_type": "markdown",
   "id": "78",
   "metadata": {},
   "source": [
    "# Running whole MRI model over TOP dataset"
   ]
  },
  {
   "cell_type": "code",
   "execution_count": null,
   "id": "79",
   "metadata": {
    "tags": []
   },
   "outputs": [],
   "source": [
    "top_ml_matrix = TOP.drop('participant_id', axis=1)\n",
    "X_top = top_ml_matrix.drop('age', axis =1)\n",
    "X_top = X_top.values\n",
    "X_top = X_top.astype('float')\n",
    "y_top = top_ml_matrix['age'].values\n",
    "y_top=y_top.astype('float')"
   ]
  },
  {
   "cell_type": "code",
   "execution_count": null,
   "id": "80",
   "metadata": {
    "tags": []
   },
   "outputs": [],
   "source": [
    "X_top_test = X_top\n",
    "y_top_test = y_top\n"
   ]
  },
  {
   "cell_type": "code",
   "execution_count": null,
   "id": "81",
   "metadata": {
    "tags": []
   },
   "outputs": [],
   "source": [
    "y_top_pred = MRIlinr.predict(X_top_test)"
   ]
  },
  {
   "cell_type": "code",
   "execution_count": null,
   "id": "82",
   "metadata": {
    "tags": []
   },
   "outputs": [],
   "source": [
    "# print('R2 score Linear regression: %.3f' % linr.score(X_top_test,y_top_test))\n",
    "# print('Explained variance score: %.3f'  % metrics.explained_variance_score(y_top_test, y_top_pred))\n",
    "# print('The mean absolute error: %.3f' % mean_absolute_error(y_top_test, y_top_pred))"
   ]
  },
  {
   "cell_type": "code",
   "execution_count": null,
   "id": "83",
   "metadata": {
    "tags": []
   },
   "outputs": [],
   "source": [
    "data= [[\n",
    "    'linear regression',\n",
    "    'combat_plusp_harm_whole_mri_linr.sav',\n",
    "    mean_absolute_error(y_top_test, y_top_pred),\n",
    "    MRIlinr.score(X_top_test,y_top_test),\n",
    "    metrics.explained_variance_score(y_top_test, y_top_pred)]]\n",
    "linr_results = pd.DataFrame(data, columns=['algorithm','file_name','mae', 'r2', 'explained_variance'])\n",
    "#linr_results"
   ]
  },
  {
   "cell_type": "code",
   "execution_count": null,
   "id": "84",
   "metadata": {
    "tags": []
   },
   "outputs": [],
   "source": [
    "linr_y_test = y_top_test\n",
    "linr_y_pred = y_top_pred\n",
    "linr_compare = pd.DataFrame(\n",
    "    {'y_test_real_age': linr_y_test,\n",
    "     'linr_y_pred_age': linr_y_pred,\n",
    "    })\n",
    "linr_compare = linr_compare.reset_index()\n",
    "linr_compare"
   ]
  },
  {
   "cell_type": "code",
   "execution_count": null,
   "id": "85",
   "metadata": {
    "tags": []
   },
   "outputs": [],
   "source": [
    "linr_compare.to_csv(output_folder + '/whole_combat_plusp_harm_mri_linr_compare_on_top.csv')"
   ]
  },
  {
   "cell_type": "code",
   "execution_count": null,
   "id": "86",
   "metadata": {
    "tags": []
   },
   "outputs": [],
   "source": [
    "y_top_pred = MRIllreg.predict(X_top_test)"
   ]
  },
  {
   "cell_type": "code",
   "execution_count": null,
   "id": "87",
   "metadata": {
    "tags": []
   },
   "outputs": [],
   "source": [
    "data= [[\n",
    "    'lasso regression',\n",
    "    'combat_pluspharm_whole_mri_llreg.sav',\n",
    "    mean_absolute_error(y_top_test, y_top_pred),\n",
    "    MRIllreg.score(X_top_test,y_top_test),\n",
    "    metrics.explained_variance_score(y_top_test, y_top_pred)]]\n",
    "llreg_results = pd.DataFrame(data, columns=['algorithm','file_name','mae', 'r2', 'explained_variance'])\n",
    "llreg_results"
   ]
  },
  {
   "cell_type": "code",
   "execution_count": null,
   "id": "88",
   "metadata": {
    "tags": []
   },
   "outputs": [],
   "source": [
    "llreg_y_test = y_top_test\n",
    "llreg_y_pred = y_top_pred\n",
    "llreg_compare = pd.DataFrame(\n",
    "    {'y_test_real_age': llreg_y_test,\n",
    "     'linr_y_pred_age': llreg_y_pred,\n",
    "    })\n",
    "#llreg_compare = llreg_compare.reset_index()\n",
    "llreg_compare"
   ]
  },
  {
   "cell_type": "code",
   "execution_count": null,
   "id": "89",
   "metadata": {
    "tags": []
   },
   "outputs": [],
   "source": [
    "llreg_compare.to_csv(output_folder + '/whole_combat_plusp_harm_mri_llreg_compare_on_top.csv')"
   ]
  },
  {
   "cell_type": "code",
   "execution_count": null,
   "id": "90",
   "metadata": {
    "tags": []
   },
   "outputs": [],
   "source": [
    "y_top_pred = MRIeregr.predict(X_top_test)"
   ]
  },
  {
   "cell_type": "code",
   "execution_count": null,
   "id": "91",
   "metadata": {
    "tags": []
   },
   "outputs": [],
   "source": [
    "data= [[\n",
    "    'elasticnetCV',\n",
    "    'combat_pluspharm_whole_mri_linr.sav',\n",
    "    mean_absolute_error(y_top_test, y_top_pred),\n",
    "    MRIeregr.score(X_top_test,y_top_test),\n",
    "    metrics.explained_variance_score(y_top_test, y_top_pred)]]\n",
    "eregr_results = pd.DataFrame(data, columns=['algorithm','file_name','mae', 'r2', 'explained_variance'])\n",
    "#eregr_results"
   ]
  },
  {
   "cell_type": "code",
   "execution_count": null,
   "id": "92",
   "metadata": {
    "tags": []
   },
   "outputs": [],
   "source": [
    "eregr_y_test = y_top_test\n",
    "eregr_y_pred = y_top_pred\n",
    "eregr_compare = pd.DataFrame(\n",
    "    {'y_test_real_age': eregr_y_test,\n",
    "     'linr_y_pred_age': eregr_y_pred,\n",
    "    })\n",
    "#eregr_compare = eregr_compare.reset_index()\n",
    "eregr_compare"
   ]
  },
  {
   "cell_type": "code",
   "execution_count": null,
   "id": "93",
   "metadata": {
    "tags": []
   },
   "outputs": [],
   "source": [
    "eregr_compare.to_csv(output_folder + '/whole_combat_plusp_harm_mri_eregr_compare_on_top.csv')"
   ]
  },
  {
   "cell_type": "code",
   "execution_count": null,
   "id": "94",
   "metadata": {
    "tags": []
   },
   "outputs": [],
   "source": [
    "y_top_pred = MRIetreg.predict(X_top_test)"
   ]
  },
  {
   "cell_type": "code",
   "execution_count": null,
   "id": "95",
   "metadata": {
    "tags": []
   },
   "outputs": [],
   "source": [
    "data= [[\n",
    "    'extra trees',\n",
    "    'neruo_harm_mri_linr.sav',\n",
    "    mean_absolute_error(y_top_test, y_top_pred),\n",
    "    MRIetreg.score(X_top_test,y_top_test),\n",
    "    metrics.explained_variance_score(y_top_test, y_top_pred)]]\n",
    "etreg_results = pd.DataFrame(data, columns=['algorithm','file_name','mae', 'r2', 'explained_variance'])\n",
    "#etreg_results"
   ]
  },
  {
   "cell_type": "code",
   "execution_count": null,
   "id": "96",
   "metadata": {
    "tags": []
   },
   "outputs": [],
   "source": [
    "etreg_y_test = y_top_test\n",
    "etreg_y_pred = y_top_pred\n",
    "etreg_compare = pd.DataFrame(\n",
    "    {'y_test_real_age': etreg_y_test,\n",
    "     'linr_y_pred_age': etreg_y_pred,\n",
    "    })\n",
    "#etreg_compare = etreg_compare.reset_index()\n",
    "etreg_compare"
   ]
  },
  {
   "cell_type": "code",
   "execution_count": null,
   "id": "97",
   "metadata": {
    "tags": []
   },
   "outputs": [],
   "source": [
    "etreg_compare.to_csv(output_folder + '/whole_combat_plusp_harm_mri_etreg_compare_on_top.csv')"
   ]
  },
  {
   "cell_type": "code",
   "execution_count": null,
   "id": "98",
   "metadata": {
    "tags": []
   },
   "outputs": [],
   "source": [
    "mri_based_combat_plusp__harmonized_on_top =pd.concat([linr_results,\n",
    "                   llreg_results,\n",
    "                   eregr_results,\n",
    "                  etreg_results],\n",
    "                  axis=0)\n",
    "mri_based_combat_plusp__harmonized_on_top"
   ]
  },
  {
   "cell_type": "markdown",
   "id": "99",
   "metadata": {},
   "source": [
    "## Now we will run the exact opposite process.\n",
    "1. We will explore TOP based models via k-folded results, \n",
    "2. We will make a general unahrmonized TOP model (based off all TOP)\n",
    "3. We will apply the best of these model to the StrokeMRI dataset"
   ]
  },
  {
   "cell_type": "markdown",
   "id": "100",
   "metadata": {},
   "source": [
    "### Build ML models based on neruocombat harmonized TOP "
   ]
  },
  {
   "cell_type": "code",
   "execution_count": null,
   "id": "101",
   "metadata": {
    "tags": []
   },
   "outputs": [],
   "source": [
    "ml_matrix = TOP.drop('participant_id', axis=1)\n",
    "X = ml_matrix.drop('age', axis =1)\n",
    "X = X.values\n",
    "X = X.astype('float')\n",
    "y = ml_matrix['age'].values\n",
    "y=y.astype('float')\n"
   ]
  },
  {
   "cell_type": "code",
   "execution_count": null,
   "id": "102",
   "metadata": {
    "tags": []
   },
   "outputs": [],
   "source": [
    "linr_k_frame, linr_y_frame, models = sep.stratified_cat_and_cont_categories_shuffle_split('linear regression', 'combat_plusp_harm_top_linr', LinearRegression(), ml_matrix, X, y)"
   ]
  },
  {
   "cell_type": "code",
   "execution_count": null,
   "id": "103",
   "metadata": {
    "tags": []
   },
   "outputs": [],
   "source": [
    "linr_k_frame"
   ]
  },
  {
   "cell_type": "code",
   "execution_count": null,
   "id": "104",
   "metadata": {
    "tags": []
   },
   "outputs": [],
   "source": [
    "linr_k_frame.to_csv(output_folder + '/combat_plusp_harmonized_top_linr_k_frame.csv')"
   ]
  },
  {
   "cell_type": "code",
   "execution_count": null,
   "id": "105",
   "metadata": {
    "tags": []
   },
   "outputs": [],
   "source": [
    "avg_linr = sep.avg_k_folds(linr_k_frame)\n",
    "avg_linr"
   ]
  },
  {
   "cell_type": "code",
   "execution_count": null,
   "id": "106",
   "metadata": {
    "tags": []
   },
   "outputs": [],
   "source": [
    "linr_y_frame"
   ]
  },
  {
   "cell_type": "code",
   "execution_count": null,
   "id": "107",
   "metadata": {
    "tags": []
   },
   "outputs": [],
   "source": [
    "linr_y_frame.to_csv(output_folder + '/combat_plusp_harmonized_top_linr_y_frame.csv')"
   ]
  },
  {
   "cell_type": "code",
   "execution_count": null,
   "id": "108",
   "metadata": {
    "tags": []
   },
   "outputs": [],
   "source": [
    "linr = models[0]\n",
    "linr[0]"
   ]
  },
  {
   "cell_type": "code",
   "execution_count": null,
   "id": "109",
   "metadata": {
    "tags": []
   },
   "outputs": [],
   "source": [
    "# check if model folder exists and if not , then create\n",
    "model_folder = '../result_models/'\n",
    "if not os.path.exists(model_folder):\n",
    "    os.makedirs(model_folder)"
   ]
  },
  {
   "cell_type": "code",
   "execution_count": null,
   "id": "110",
   "metadata": {
    "tags": []
   },
   "outputs": [],
   "source": [
    "## optional save models\n",
    "#joblib.dump(linr[0], ('../result_models/'+ 'combat_plusp_harm_top_linr0.sav'))\n",
    "#joblib.dump(linr[1], ('../result_models/'+ 'combat_plusp_harm_top_linr1.sav'))\n",
    "#joblib.dump(linr[2], ('../result_models/'+ 'combat_plusp_harm_top_linr2.sav'))\n",
    "#joblib.dump(linr[3], ('../result_models/'+ 'combat_plusp_harm_top_linr3.sav'))\n",
    "#joblib.dump(linr[4], ('../result_models/'+ 'combat_plusp_harm_top_linr4.sav'))"
   ]
  },
  {
   "cell_type": "code",
   "execution_count": null,
   "id": "111",
   "metadata": {
    "tags": []
   },
   "outputs": [],
   "source": [
    "llreg_k_frame, llreg_y_frame, models = sep.stratified_cat_and_cont_categories_shuffle_split('lasso regression', 'combat_plusp_harm_top_llreg',  linear_model.LassoLars(alpha=0.01), ml_matrix, X, y)\n",
    "llreg_k_frame"
   ]
  },
  {
   "cell_type": "code",
   "execution_count": null,
   "id": "112",
   "metadata": {
    "tags": []
   },
   "outputs": [],
   "source": [
    "llreg_k_frame.to_csv(output_folder + '/combat_plusp_harmonized_top_llreg_k_frame.csv')"
   ]
  },
  {
   "cell_type": "code",
   "execution_count": null,
   "id": "113",
   "metadata": {
    "tags": []
   },
   "outputs": [],
   "source": [
    "avg_llreg = sep.avg_k_folds(llreg_k_frame)\n",
    "avg_llreg"
   ]
  },
  {
   "cell_type": "code",
   "execution_count": null,
   "id": "114",
   "metadata": {
    "tags": []
   },
   "outputs": [],
   "source": [
    "llreg_y_frame"
   ]
  },
  {
   "cell_type": "code",
   "execution_count": null,
   "id": "115",
   "metadata": {
    "tags": []
   },
   "outputs": [],
   "source": [
    "llreg_y_frame.to_csv(output_folder + '/combat_plusp_harmonized_top_llreg_y_frame.csv')"
   ]
  },
  {
   "cell_type": "code",
   "execution_count": null,
   "id": "116",
   "metadata": {
    "tags": []
   },
   "outputs": [],
   "source": [
    "llreg = models[0]\n",
    "llreg[0]"
   ]
  },
  {
   "cell_type": "code",
   "execution_count": null,
   "id": "117",
   "metadata": {
    "tags": []
   },
   "outputs": [],
   "source": [
    "## optional save models\n",
    "#joblib.dump(llreg[0], ('../result_models/'+ 'combat_plusp_harm_top_llreg0.sav'))\n",
    "#joblib.dump(llreg[1], ('../result_models/'+ 'combat_plusp_harm_top_llreg1.sav'))\n",
    "#joblib.dump(llreg[2], ('../result_models/'+ 'combat_plusp_harm_top_llreg2.sav'))\n",
    "#joblib.dump(llreg[3], ('../result_models/'+ 'combat_plusp_harm_top_llreg3.sav'))\n",
    "#joblib.dump(llreg[4], ('../result_models/'+ 'combat_plusp_harm_top_llreg4.sav'))"
   ]
  },
  {
   "cell_type": "code",
   "execution_count": null,
   "id": "118",
   "metadata": {
    "tags": []
   },
   "outputs": [],
   "source": [
    "dtree_k_frame, dtree_y_frame, models = sep.stratified_cat_and_cont_categories_shuffle_split('decision tree', 'combat_plusp_harm_top_dtree',  tree.DecisionTreeRegressor(), ml_matrix, X, y)\n",
    "dtree_k_frame"
   ]
  },
  {
   "cell_type": "code",
   "execution_count": null,
   "id": "119",
   "metadata": {
    "tags": []
   },
   "outputs": [],
   "source": [
    "dtree_k_frame.to_csv(output_folder + '/combat_plusp_harmonized_top_dtree_k_frame.csv')"
   ]
  },
  {
   "cell_type": "code",
   "execution_count": null,
   "id": "120",
   "metadata": {
    "tags": []
   },
   "outputs": [],
   "source": [
    "avg_dtree = sep.avg_k_folds(dtree_k_frame)\n",
    "avg_dtree"
   ]
  },
  {
   "cell_type": "code",
   "execution_count": null,
   "id": "121",
   "metadata": {
    "tags": []
   },
   "outputs": [],
   "source": [
    "dtree_y_frame"
   ]
  },
  {
   "cell_type": "code",
   "execution_count": null,
   "id": "122",
   "metadata": {
    "tags": []
   },
   "outputs": [],
   "source": [
    "dtree_y_frame.to_csv(output_folder + '/combat_plusp_harmonized_top_dtree_y_frame.csv')"
   ]
  },
  {
   "cell_type": "code",
   "execution_count": null,
   "id": "123",
   "metadata": {
    "tags": []
   },
   "outputs": [],
   "source": [
    "dtree = models[0]\n",
    "dtree[0]"
   ]
  },
  {
   "cell_type": "code",
   "execution_count": null,
   "id": "124",
   "metadata": {
    "tags": []
   },
   "outputs": [],
   "source": [
    "regr_k_frame, regr_y_frame, models = sep.stratified_cat_and_cont_categories_shuffle_split('MLP regression', 'combat_plusp_harm_top_regr',   MLPRegressor(random_state=1, max_iter=700), ml_matrix, X, y)\n",
    "regr_k_frame"
   ]
  },
  {
   "cell_type": "code",
   "execution_count": null,
   "id": "125",
   "metadata": {
    "tags": []
   },
   "outputs": [],
   "source": [
    "regr_k_frame.to_csv(output_folder + '/combat_plusp_harmonized_top_regr_k_frame.csv')"
   ]
  },
  {
   "cell_type": "code",
   "execution_count": null,
   "id": "126",
   "metadata": {
    "tags": []
   },
   "outputs": [],
   "source": [
    "avg_regr = sep.avg_k_folds(regr_k_frame)\n",
    "avg_regr"
   ]
  },
  {
   "cell_type": "code",
   "execution_count": null,
   "id": "127",
   "metadata": {
    "tags": []
   },
   "outputs": [],
   "source": [
    "regr_y_frame"
   ]
  },
  {
   "cell_type": "code",
   "execution_count": null,
   "id": "128",
   "metadata": {
    "tags": []
   },
   "outputs": [],
   "source": [
    "regr_y_frame.to_csv(output_folder + '/combat_plusp_harmonized_top_regr_y_frame.csv')"
   ]
  },
  {
   "cell_type": "code",
   "execution_count": null,
   "id": "129",
   "metadata": {
    "tags": []
   },
   "outputs": [],
   "source": [
    "regr = models[0]\n",
    "regr[0]"
   ]
  },
  {
   "cell_type": "markdown",
   "id": "130",
   "metadata": {},
   "source": [
    "### Note I'm not actually saving the mlp or svr models here because they are not the best performers. if neccesary this can be added"
   ]
  },
  {
   "cell_type": "code",
   "execution_count": null,
   "id": "131",
   "metadata": {
    "tags": []
   },
   "outputs": [],
   "source": [
    "svrp2_k_frame, svrp2_y_frame, models = sep.stratified_cat_and_cont_categories_shuffle_split('support vector reg poly2', 'combat_plusp_harm_top_svrp2',   SVR(C=1.0, kernel='poly', degree =2, epsilon=0.2), ml_matrix, X, y)\n",
    "svrp2_k_frame"
   ]
  },
  {
   "cell_type": "code",
   "execution_count": null,
   "id": "132",
   "metadata": {
    "tags": []
   },
   "outputs": [],
   "source": [
    "svrp2_k_frame.to_csv(output_folder + '/combat_plusp_harmonized_top_svrp2_k_frame.csv')"
   ]
  },
  {
   "cell_type": "code",
   "execution_count": null,
   "id": "133",
   "metadata": {
    "tags": []
   },
   "outputs": [],
   "source": [
    "avg_svrp2 = sep.avg_k_folds(svrp2_k_frame)\n",
    "avg_svrp2"
   ]
  },
  {
   "cell_type": "code",
   "execution_count": null,
   "id": "134",
   "metadata": {
    "tags": []
   },
   "outputs": [],
   "source": [
    "svrp2_y_frame"
   ]
  },
  {
   "cell_type": "code",
   "execution_count": null,
   "id": "135",
   "metadata": {
    "tags": []
   },
   "outputs": [],
   "source": [
    "svrp2_y_frame.to_csv(output_folder + '/combat_plusp_harmonized_top_svrp2_y_frame.csv')"
   ]
  },
  {
   "cell_type": "code",
   "execution_count": null,
   "id": "136",
   "metadata": {
    "tags": []
   },
   "outputs": [],
   "source": [
    "svrp2 = models[0]\n",
    "svrp2[0]"
   ]
  },
  {
   "cell_type": "code",
   "execution_count": null,
   "id": "137",
   "metadata": {
    "tags": []
   },
   "outputs": [],
   "source": [
    "eregr_k_frame, eregr_y_frame, models = sep.stratified_cat_and_cont_categories_shuffle_split('elasticnetCV', 'combat_plusp_harm_top_eregr',  ElasticNetCV(cv=5, random_state=12), ml_matrix, X, y)\n",
    "eregr_k_frame"
   ]
  },
  {
   "cell_type": "code",
   "execution_count": null,
   "id": "138",
   "metadata": {
    "tags": []
   },
   "outputs": [],
   "source": [
    "eregr_k_frame.to_csv(output_folder + '/combat_plusp_harmonized_top_eregr_k_frame.csv')"
   ]
  },
  {
   "cell_type": "code",
   "execution_count": null,
   "id": "139",
   "metadata": {
    "tags": []
   },
   "outputs": [],
   "source": [
    "avg_eregr = sep.avg_k_folds(eregr_k_frame)\n",
    "avg_eregr"
   ]
  },
  {
   "cell_type": "code",
   "execution_count": null,
   "id": "140",
   "metadata": {
    "tags": []
   },
   "outputs": [],
   "source": [
    "eregr_y_frame"
   ]
  },
  {
   "cell_type": "code",
   "execution_count": null,
   "id": "141",
   "metadata": {
    "tags": []
   },
   "outputs": [],
   "source": [
    "eregr_y_frame.to_csv(output_folder + '/combat_plusp_harmonized_top_eregr_y_frame.csv')"
   ]
  },
  {
   "cell_type": "code",
   "execution_count": null,
   "id": "142",
   "metadata": {
    "tags": []
   },
   "outputs": [],
   "source": [
    "eregr = models[0]\n",
    "eregr[0]"
   ]
  },
  {
   "cell_type": "code",
   "execution_count": null,
   "id": "143",
   "metadata": {
    "tags": []
   },
   "outputs": [],
   "source": [
    "etreg_k_frame, etreg_y_frame, models = sep.stratified_cat_and_cont_categories_shuffle_split('extra trees', 'combat_plusp_harm_top_etreg',  ExtraTreesRegressor(n_estimators=100, random_state=0), ml_matrix, X, y)\n",
    "etreg_k_frame"
   ]
  },
  {
   "cell_type": "code",
   "execution_count": null,
   "id": "144",
   "metadata": {
    "tags": []
   },
   "outputs": [],
   "source": [
    "etreg_k_frame.to_csv(output_folder + '/combat_plusp_haromized_top_etreg_k_frame.csv')"
   ]
  },
  {
   "cell_type": "code",
   "execution_count": null,
   "id": "145",
   "metadata": {
    "tags": []
   },
   "outputs": [],
   "source": [
    "avg_etreg = sep.avg_k_folds(etreg_k_frame)\n",
    "avg_etreg"
   ]
  },
  {
   "cell_type": "code",
   "execution_count": null,
   "id": "146",
   "metadata": {
    "tags": []
   },
   "outputs": [],
   "source": [
    "etreg_y_frame"
   ]
  },
  {
   "cell_type": "code",
   "execution_count": null,
   "id": "147",
   "metadata": {
    "tags": []
   },
   "outputs": [],
   "source": [
    "etreg_y_frame.to_csv(output_folder + '/combat_plusp_harmonized_top_etreg_y_frame.csv')"
   ]
  },
  {
   "cell_type": "code",
   "execution_count": null,
   "id": "148",
   "metadata": {
    "tags": []
   },
   "outputs": [],
   "source": [
    "etreg = models[0]\n",
    "etreg[0]"
   ]
  },
  {
   "cell_type": "code",
   "execution_count": null,
   "id": "149",
   "metadata": {
    "tags": []
   },
   "outputs": [],
   "source": [
    "## optional save models\n",
    "#joblib.dump(etreg[0], ('../result_models/'+ 'combat_plusp_harm_top_etreg0.sav'))\n",
    "#joblib.dump(etreg[1], ('../result_models/'+ 'combat_plusp_harm_top_etreg1.sav'))\n",
    "#joblib.dump(etreg[2], ('../result_models/'+ 'combat_plusp_harm_top_etreg2.sav'))\n",
    "#joblib.dump(etreg[3], ('../result_models/'+ 'combat_plusp_harm_top_etreg3.sav'))\n",
    "#joblib.dump(etreg[4], ('../result_models/'+ 'combat_plusp_harm_top_etreg4.sav'))"
   ]
  },
  {
   "cell_type": "markdown",
   "id": "150",
   "metadata": {},
   "source": [
    "Show results ON AVERAGE for each model"
   ]
  },
  {
   "cell_type": "code",
   "execution_count": null,
   "id": "151",
   "metadata": {
    "tags": []
   },
   "outputs": [],
   "source": [
    "top_based_combat_plusp_harmonized_on_testtop =pd.concat([avg_linr,\n",
    "                   avg_llreg,\n",
    "                   avg_dtree,\n",
    "                   avg_regr,\n",
    "                   avg_svrp2,\n",
    "                   avg_eregr,\n",
    "                   avg_etreg],\n",
    "                  axis=0)\n",
    "top_based_combat_plusp_harmonized_on_testtop"
   ]
  },
  {
   "cell_type": "code",
   "execution_count": null,
   "id": "152",
   "metadata": {
    "tags": []
   },
   "outputs": [],
   "source": [
    "top_based_combat_plusp_harmonized_on_testtop.to_csv(output_folder + '/top_based_combat_plusp_harmonized_on_topt_AVERAGES.csv')"
   ]
  },
  {
   "cell_type": "markdown",
   "id": "153",
   "metadata": {},
   "source": [
    "## Now we will build  models based on the whole harmonized StrokeTOP dataset, and apply them to StrokeMRI. "
   ]
  },
  {
   "cell_type": "code",
   "execution_count": null,
   "id": "154",
   "metadata": {
    "tags": []
   },
   "outputs": [],
   "source": [
    "ml_matrix = TOP.drop('participant_id', axis=1)\n",
    "X = ml_matrix.drop('age', axis =1)\n",
    "X = X.values\n",
    "X = X.astype('float')\n",
    "y = ml_matrix['age'].values\n",
    "y=y.astype('float')"
   ]
  },
  {
   "cell_type": "code",
   "execution_count": null,
   "id": "155",
   "metadata": {
    "tags": []
   },
   "outputs": [],
   "source": [
    "# now we decide to do no test train split, rather take all\n",
    "X_train = X\n",
    "y_train = y"
   ]
  },
  {
   "cell_type": "code",
   "execution_count": null,
   "id": "156",
   "metadata": {
    "tags": []
   },
   "outputs": [],
   "source": [
    "TOPlinr = LinearRegression()\n",
    "TOPlinr.fit(X_train, y_train)"
   ]
  },
  {
   "cell_type": "code",
   "execution_count": null,
   "id": "157",
   "metadata": {
    "tags": []
   },
   "outputs": [],
   "source": [
    "TOPllreg = linear_model.LassoLars(alpha=0.01)\n",
    "TOPllreg.fit(X_train, y_train)"
   ]
  },
  {
   "cell_type": "code",
   "execution_count": null,
   "id": "158",
   "metadata": {
    "tags": []
   },
   "outputs": [],
   "source": [
    "TOPeregr = ElasticNetCV(cv=5, random_state=17)\n",
    "TOPeregr.fit(X_train, y_train)"
   ]
  },
  {
   "cell_type": "code",
   "execution_count": null,
   "id": "159",
   "metadata": {
    "tags": []
   },
   "outputs": [],
   "source": [
    "TOPetreg = ExtraTreesRegressor(n_estimators=100, random_state=0)\n",
    "TOPetreg.fit(X_train, y_train)"
   ]
  },
  {
   "cell_type": "markdown",
   "id": "160",
   "metadata": {
    "tags": []
   },
   "source": [
    "##  Save these four best models"
   ]
  },
  {
   "cell_type": "code",
   "execution_count": null,
   "id": "161",
   "metadata": {
    "tags": []
   },
   "outputs": [],
   "source": [
    "## optional save models\n",
    "#joblib.dump(TOPlinr, ('../result_models/' + 'combat_plusp_harm_whole_top_linr.sav'))\n",
    "#joblib.dump(TOPllreg, ('../result_models/'+ 'combat_plusp_harm_whole_top_llreg1.sav'))\n",
    "#joblib.dump(TOPeregr, ('../result_models/'+ 'combat_plusp_harm_whole_top_eregr3.sav'))\n",
    "#joblib.dump(TOPetreg, ('../result_models/'+ 'combat_plusp_harm_whole_top_etreg4.sav'))"
   ]
  },
  {
   "cell_type": "markdown",
   "id": "162",
   "metadata": {},
   "source": [
    "# Running whole TOP model over MRI dataset"
   ]
  },
  {
   "cell_type": "code",
   "execution_count": null,
   "id": "163",
   "metadata": {
    "tags": []
   },
   "outputs": [],
   "source": [
    "mri_ml_matrix = StrokeMRI.drop('participant_id', axis=1)\n",
    "X_mri = mri_ml_matrix.drop('age', axis =1)\n",
    "X_mri = X_mri.values\n",
    "X_mri = X_mri.astype('float')\n",
    "y_mri = mri_ml_matrix['age'].values\n",
    "y_mri= y_mri.astype('float')"
   ]
  },
  {
   "cell_type": "code",
   "execution_count": null,
   "id": "164",
   "metadata": {
    "tags": []
   },
   "outputs": [],
   "source": [
    "X_mri_test = X_mri\n",
    "y_mri_test = y_mri\n"
   ]
  },
  {
   "cell_type": "code",
   "execution_count": null,
   "id": "165",
   "metadata": {
    "tags": []
   },
   "outputs": [],
   "source": [
    "y_mri_pred = TOPlinr.predict(X_mri_test)"
   ]
  },
  {
   "cell_type": "code",
   "execution_count": null,
   "id": "166",
   "metadata": {
    "tags": []
   },
   "outputs": [],
   "source": [
    "data= [[\n",
    "    'linear regression',\n",
    "    'combat_plusp_harm_whole_top_linr.sav',\n",
    "    mean_absolute_error(y_mri_test, y_mri_pred),\n",
    "    TOPlinr.score(X_mri_test,y_mri_test),\n",
    "    metrics.explained_variance_score(y_mri_test, y_mri_pred)]]\n",
    "linr_results = pd.DataFrame(data, columns=['algorithm','file_name','mae', 'r2', 'explained_variance'])\n",
    "#linr_results"
   ]
  },
  {
   "cell_type": "code",
   "execution_count": null,
   "id": "167",
   "metadata": {
    "tags": []
   },
   "outputs": [],
   "source": [
    "linr_y_test = y_mri_test\n",
    "linr_y_pred = y_mri_pred\n",
    "linr_compare = pd.DataFrame(\n",
    "    {'y_test_real_age': linr_y_test,\n",
    "     'linr_y_pred_age': linr_y_pred,\n",
    "    })\n",
    "#linr_compare = linr_compare.reset_index()\n",
    "linr_compare"
   ]
  },
  {
   "cell_type": "code",
   "execution_count": null,
   "id": "168",
   "metadata": {
    "tags": []
   },
   "outputs": [],
   "source": [
    "linr_compare.to_csv(output_folder + '/whole_combat_plusp__harm_top_linr_compare_on_mti.csv')"
   ]
  },
  {
   "cell_type": "code",
   "execution_count": null,
   "id": "169",
   "metadata": {
    "tags": []
   },
   "outputs": [],
   "source": [
    "y_mri_pred = TOPllreg.predict(X_mri_test)"
   ]
  },
  {
   "cell_type": "code",
   "execution_count": null,
   "id": "170",
   "metadata": {
    "tags": []
   },
   "outputs": [],
   "source": [
    "data= [[\n",
    "    'lasso regression',\n",
    "    'combat_plusp_harm_whole_top_llreg.sav',\n",
    "    mean_absolute_error(y_mri_test, y_mri_pred),\n",
    "    TOPllreg.score(X_mri_test,y_mri_test),\n",
    "    metrics.explained_variance_score(y_mri_test, y_mri_pred)]]\n",
    "llreg_results = pd.DataFrame(data, columns=['algorithm','file_name','mae', 'r2', 'explained_variance'])\n",
    "llreg_results"
   ]
  },
  {
   "cell_type": "code",
   "execution_count": null,
   "id": "171",
   "metadata": {
    "tags": []
   },
   "outputs": [],
   "source": [
    "llreg_y_test = y_mri_test\n",
    "llreg_y_pred = y_mri_pred\n",
    "llreg_compare = pd.DataFrame(\n",
    "    {'y_test_real_age': llreg_y_test,\n",
    "     'linr_y_pred_age': llreg_y_pred,\n",
    "    })\n",
    "#llreg_compare = llreg_compare.reset_index()\n",
    "llreg_compare"
   ]
  },
  {
   "cell_type": "code",
   "execution_count": null,
   "id": "172",
   "metadata": {
    "tags": []
   },
   "outputs": [],
   "source": [
    "llreg_compare.to_csv(output_folder + '/whole_combat_plusp_harm_top_llreg_compare_on_mri.csv')"
   ]
  },
  {
   "cell_type": "code",
   "execution_count": null,
   "id": "173",
   "metadata": {
    "tags": []
   },
   "outputs": [],
   "source": [
    "y_mri_pred = TOPeregr.predict(X_mri_test)"
   ]
  },
  {
   "cell_type": "code",
   "execution_count": null,
   "id": "174",
   "metadata": {
    "tags": []
   },
   "outputs": [],
   "source": [
    "data= [[\n",
    "    'elasticnetCV',\n",
    "    'combat_plusp_harm_whole_top_linr.sav',\n",
    "    mean_absolute_error(y_mri_test, y_mri_pred),\n",
    "    TOPeregr.score(X_mri_test,y_mri_test),\n",
    "    metrics.explained_variance_score(y_mri_test, y_mri_pred)]]\n",
    "eregr_results = pd.DataFrame(data, columns=['algorithm','file_name','mae', 'r2', 'explained_variance'])\n",
    "#eregr_results"
   ]
  },
  {
   "cell_type": "code",
   "execution_count": null,
   "id": "175",
   "metadata": {
    "tags": []
   },
   "outputs": [],
   "source": [
    "eregr_y_test = y_mri_test\n",
    "eregr_y_pred = y_mri_pred\n",
    "eregr_compare = pd.DataFrame(\n",
    "    {'y_test_real_age': eregr_y_test,\n",
    "     'linr_y_pred_age': eregr_y_pred,\n",
    "    })\n",
    "eregr_compare"
   ]
  },
  {
   "cell_type": "code",
   "execution_count": null,
   "id": "176",
   "metadata": {
    "tags": []
   },
   "outputs": [],
   "source": [
    "eregr_compare.to_csv(output_folder + '/whole_combat_plusp_harm_top_eregr_compare_on_mri.csv')"
   ]
  },
  {
   "cell_type": "code",
   "execution_count": null,
   "id": "177",
   "metadata": {
    "tags": []
   },
   "outputs": [],
   "source": [
    "y_mri_pred = TOPetreg.predict(X_mri_test)"
   ]
  },
  {
   "cell_type": "code",
   "execution_count": null,
   "id": "178",
   "metadata": {
    "tags": []
   },
   "outputs": [],
   "source": [
    "data= [[\n",
    "    'extra trees',\n",
    "    'combat_plusp_harm_mri_linr.sav',\n",
    "    mean_absolute_error(y_mri_test, y_mri_pred),\n",
    "    TOPetreg.score(X_mri_test,y_mri_test),\n",
    "    metrics.explained_variance_score(y_mri_test, y_mri_pred)]]\n",
    "etreg_results = pd.DataFrame(data, columns=['algorithm','file_name','mae', 'r2', 'explained_variance'])\n",
    "#etreg_results"
   ]
  },
  {
   "cell_type": "code",
   "execution_count": null,
   "id": "179",
   "metadata": {
    "tags": []
   },
   "outputs": [],
   "source": [
    "etreg_y_test = y_mri_test\n",
    "etreg_y_pred = y_mri_pred\n",
    "etreg_compare = pd.DataFrame(\n",
    "    {'y_test_real_age': etreg_y_test,\n",
    "     'linr_y_pred_age': etreg_y_pred,\n",
    "    })\n",
    "#etreg_compare = etreg_compare.reset_index()\n",
    "etreg_compare"
   ]
  },
  {
   "cell_type": "code",
   "execution_count": null,
   "id": "180",
   "metadata": {
    "tags": []
   },
   "outputs": [],
   "source": [
    "etreg_compare.to_csv(output_folder + '/whole_combat_plusptharm_top_etreg_compare_on_mri.csv')"
   ]
  },
  {
   "cell_type": "markdown",
   "id": "181",
   "metadata": {},
   "source": [
    "compile csvs of results"
   ]
  },
  {
   "cell_type": "code",
   "execution_count": null,
   "id": "182",
   "metadata": {
    "tags": []
   },
   "outputs": [],
   "source": [
    "top_based_combat_plusp_harmonized_on_mri =pd.concat([linr_results,\n",
    "                   llreg_results,\n",
    "                   eregr_results,\n",
    "                  etreg_results],\n",
    "                  axis=0)\n",
    "top_based_combat_plusp_harmonized_on_mri"
   ]
  },
  {
   "cell_type": "code",
   "execution_count": null,
   "id": "183",
   "metadata": {
    "tags": []
   },
   "outputs": [],
   "source": [
    "top_based_combat_plusp_harmonized_on_mri.to_csv(output_folder + '/whole_top_based_combat_plus-harmonized_on_mri.csv')"
   ]
  },
  {
   "cell_type": "code",
   "execution_count": null,
   "id": "184",
   "metadata": {},
   "outputs": [],
   "source": []
  }
 ],
 "metadata": {
  "kernelspec": {
   "display_name": "Python 3 (ipykernel)",
   "language": "python",
   "name": "python3"
  },
  "language_info": {
   "codemirror_mode": {
    "name": "ipython",
    "version": 3
   },
   "file_extension": ".py",
   "mimetype": "text/x-python",
   "name": "python",
   "nbconvert_exporter": "python",
   "pygments_lexer": "ipython3",
   "version": "3.11.6"
  }
 },
 "nbformat": 4,
 "nbformat_minor": 5
}
