{
 "cells": [
  {
   "cell_type": "markdown",
   "id": "daa2ca7b-efdd-467f-b7cd-9646d10b4c44",
   "metadata": {},
   "source": [
    "# Changing columns on input data"
   ]
  },
  {
   "cell_type": "code",
   "execution_count": null,
   "id": "eca0da29-9c93-4c1f-8f3c-82c63f85a8fd",
   "metadata": {
    "tags": []
   },
   "outputs": [],
   "source": [
    "import os       # using operating system dependent functionality (folders)\n",
    "import sys\n",
    "import glob\n",
    "#from functools import reduce\n",
    "\n",
    "import pandas as pd # data analysis and manipulation\n",
    "#import numpy as np    # numerical computing (manipulating and performing operations on arrays of data)\n",
    "\n",
    "\n",
    "sys.path.insert(0, '../') # path to functions\n",
    "import cvasl.seperated as sep\n",
    "# from cvasl.file_handler import Config\n",
    "# import cvasl.harmony as har"
   ]
  },
  {
   "cell_type": "code",
   "execution_count": null,
   "id": "0a26617d-3f42-4370-afec-660fe6411009",
   "metadata": {
    "tags": []
   },
   "outputs": [],
   "source": [
    "# Datasets for this work\n",
    "\n",
    "MRI_path = 'our_datasets/StrokeMRI/'\n",
    "TOP_path = 'our_datasets/TOP/'\n",
    "file_name = 'TrainingDataComplete.csv'\n",
    "\n",
    "TOP_file = os.path.join(TOP_path, file_name)\n",
    "MRI_file = os.path.join(MRI_path, file_name)\n",
    "\n",
    "\n",
    "\n",
    "TOP_n = pd.read_csv(TOP_file)\n",
    "MRI_n = pd.read_csv(MRI_file)"
   ]
  },
  {
   "cell_type": "code",
   "execution_count": null,
   "id": "25c15940-2cad-4968-b034-55bec6c87ad4",
   "metadata": {
    "tags": []
   },
   "outputs": [],
   "source": [
    "TOP_n"
   ]
  },
  {
   "cell_type": "code",
   "execution_count": null,
   "id": "41d0148a-2429-4e6f-a3f9-54662ab7427e",
   "metadata": {
    "tags": []
   },
   "outputs": [],
   "source": [
    "#TOP_n = TOP_n.drop(['DeepWM_B_CoV','DeepWM_B_CBF'], axis=1)"
   ]
  },
  {
   "cell_type": "code",
   "execution_count": null,
   "id": "341b4c0e-d5af-4881-8235-e8f5daeaf63b",
   "metadata": {
    "tags": []
   },
   "outputs": [],
   "source": [
    "os.getcwd()"
   ]
  },
  {
   "cell_type": "code",
   "execution_count": null,
   "id": "b1d356d1-4e2a-4e49-a1d8-e111e9b20ba1",
   "metadata": {
    "tags": []
   },
   "outputs": [],
   "source": [
    "TOP_n.columns"
   ]
  },
  {
   "cell_type": "code",
   "execution_count": null,
   "id": "d893b975-d317-4f35-914c-92dc39274073",
   "metadata": {
    "tags": []
   },
   "outputs": [],
   "source": []
  },
  {
   "cell_type": "code",
   "execution_count": null,
   "id": "1e24da45-a190-4804-b120-27f722bc9b06",
   "metadata": {
    "tags": []
   },
   "outputs": [],
   "source": [
    "# output_folder = 'reduced2_outputs'\n",
    "\n",
    "# os.makedirs(output_folder, exist_ok=True)"
   ]
  },
  {
   "cell_type": "code",
   "execution_count": null,
   "id": "9315eb7f-5409-4748-9668-e0b048b8aa8a",
   "metadata": {
    "tags": []
   },
   "outputs": [],
   "source": [
    "#TOP_n.to_csv(output_folder + '/TOP_n.csv')"
   ]
  },
  {
   "cell_type": "code",
   "execution_count": null,
   "id": "1eff1e16-287e-4a48-818d-3351467dda99",
   "metadata": {},
   "outputs": [],
   "source": []
  },
  {
   "cell_type": "code",
   "execution_count": null,
   "id": "a4a1dad6-992d-4528-a46d-94b79754a897",
   "metadata": {},
   "outputs": [],
   "source": [
    "# def folder_chain_out_columns(datasets_folder, columns, output_folder):\n",
    "#     directory_list = glob.glob(os.path.join(datasets_folder, '**/*.csv'), recursive=True)\n",
    "#     for frame in directory_list:\n",
    "#         # print(frame)\n",
    "#         framed = pd.read_csv(frame)\n",
    "#         output = framed.drop(columns, axis=1)\n",
    "#         relpath = os.path.dirname(frame)\n",
    "#         subpath = os.path.relpath(relpath, datasets_folder)\n",
    "#         parent = os.path.join(output_folder, subpath)\n",
    "#         try:\n",
    "#             # print('creating parent:', parent)\n",
    "#             os.makedirs(parent)\n",
    "#         except FileExistsError:\n",
    "#             pass\n",
    "#         output.to_csv(os.path.join(parent, os.path.basename(frame)))\n",
    "#         print('created file:',os.path.join(parent, os.path.basename(frame)) )\n",
    "        \n",
    "    "
   ]
  },
  {
   "cell_type": "code",
   "execution_count": null,
   "id": "e756a0a3-7521-40aa-9263-5dc3cba6e2b6",
   "metadata": {
    "tags": []
   },
   "outputs": [],
   "source": [
    "sep.folder_chain_out_columns('our_datasets', ['DeepWM_B_CoV','DeepWM_B_CBF'], 'stripped_down_2')"
   ]
  },
  {
   "cell_type": "code",
   "execution_count": null,
   "id": "61dff789-31c5-436e-b9a9-0566f8716d1a",
   "metadata": {},
   "outputs": [],
   "source": []
  }
 ],
 "metadata": {
  "kernelspec": {
   "display_name": "Python 3 (ipykernel)",
   "language": "python",
   "name": "python3"
  },
  "language_info": {
   "codemirror_mode": {
    "name": "ipython",
    "version": 3
   },
   "file_extension": ".py",
   "mimetype": "text/x-python",
   "name": "python",
   "nbconvert_exporter": "python",
   "pygments_lexer": "ipython3",
   "version": "3.11.6"
  }
 },
 "nbformat": 4,
 "nbformat_minor": 5
}
