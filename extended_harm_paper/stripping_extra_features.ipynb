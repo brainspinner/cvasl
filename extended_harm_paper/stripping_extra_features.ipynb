{
 "cells": [
  {
   "cell_type": "markdown",
   "id": "0",
   "metadata": {},
   "source": [
    "# Changing columns on input data"
   ]
  },
  {
   "cell_type": "code",
   "execution_count": null,
   "id": "1",
   "metadata": {
    "tags": []
   },
   "outputs": [],
   "source": [
    "import os       # using operating system dependent functionality (folders)\n",
    "import sys\n",
    "import glob\n",
    "#from functools import reduce\n",
    "\n",
    "import pandas as pd # data analysis and manipulation\n",
    "#import numpy as np    # numerical computing (manipulating and performing operations on arrays of data)\n",
    "\n",
    "\n",
    "sys.path.insert(0, '../') # path to functions\n",
    "import cvasl.seperated as sep\n",
    "# from cvasl.file_handler import Config\n",
    "# import cvasl.harmony as har"
   ]
  },
  {
   "cell_type": "code",
   "execution_count": null,
   "id": "2",
   "metadata": {
    "tags": []
   },
   "outputs": [],
   "source": [
    "# Datasets for this work\n",
    "\n",
    "MRI_path = 'our_datasets/StrokeMRI/'\n",
    "TOP_path = 'our_datasets/TOP/'\n",
    "file_name = 'TrainingDataComplete.csv'\n",
    "\n",
    "TOP_file = os.path.join(TOP_path, file_name)\n",
    "MRI_file = os.path.join(MRI_path, file_name)\n",
    "\n",
    "\n",
    "\n",
    "TOP_n = pd.read_csv(TOP_file)\n",
    "MRI_n = pd.read_csv(MRI_file)"
   ]
  },
  {
   "cell_type": "code",
   "execution_count": null,
   "id": "3",
   "metadata": {
    "tags": []
   },
   "outputs": [],
   "source": [
    "TOP_n"
   ]
  },
  {
   "cell_type": "code",
   "execution_count": null,
   "id": "4",
   "metadata": {
    "tags": []
   },
   "outputs": [],
   "source": [
    "#TOP_n = TOP_n.drop(['DeepWM_B_CoV','DeepWM_B_CBF'], axis=1)"
   ]
  },
  {
   "cell_type": "code",
   "execution_count": null,
   "id": "5",
   "metadata": {
    "tags": []
   },
   "outputs": [],
   "source": [
    "os.getcwd()"
   ]
  },
  {
   "cell_type": "code",
   "execution_count": null,
   "id": "6",
   "metadata": {
    "tags": []
   },
   "outputs": [],
   "source": [
    "TOP_n.columns"
   ]
  },
  {
   "cell_type": "code",
   "execution_count": null,
   "id": "7",
   "metadata": {
    "tags": []
   },
   "outputs": [],
   "source": []
  },
  {
   "cell_type": "code",
   "execution_count": null,
   "id": "8",
   "metadata": {
    "tags": []
   },
   "outputs": [],
   "source": [
    "# output_folder = 'reduced2_outputs'\n",
    "\n",
    "# os.makedirs(output_folder, exist_ok=True)"
   ]
  },
  {
   "cell_type": "code",
   "execution_count": null,
   "id": "9",
   "metadata": {
    "tags": []
   },
   "outputs": [],
   "source": [
    "#TOP_n.to_csv(output_folder + '/TOP_n.csv')"
   ]
  },
  {
   "cell_type": "code",
   "execution_count": null,
   "id": "10",
   "metadata": {},
   "outputs": [],
   "source": []
  },
  {
   "cell_type": "code",
   "execution_count": null,
   "id": "11",
   "metadata": {},
   "outputs": [],
   "source": [
    "# def folder_chain_out_columns(datasets_folder, columns, output_folder):\n",
    "#     directory_list = glob.glob(os.path.join(datasets_folder, '**/*.csv'), recursive=True)\n",
    "#     for frame in directory_list:\n",
    "#         # print(frame)\n",
    "#         framed = pd.read_csv(frame)\n",
    "#         output = framed.drop(columns, axis=1)\n",
    "#         relpath = os.path.dirname(frame)\n",
    "#         subpath = os.path.relpath(relpath, datasets_folder)\n",
    "#         parent = os.path.join(output_folder, subpath)\n",
    "#         try:\n",
    "#             # print('creating parent:', parent)\n",
    "#             os.makedirs(parent)\n",
    "#         except FileExistsError:\n",
    "#             pass\n",
    "#         output.to_csv(os.path.join(parent, os.path.basename(frame)))\n",
    "#         print('created file:',os.path.join(parent, os.path.basename(frame)) )\n",
    "        \n",
    "    "
   ]
  },
  {
   "cell_type": "code",
   "execution_count": null,
   "id": "12",
   "metadata": {
    "tags": []
   },
   "outputs": [],
   "source": [
    "sep.folder_chain_out_columns('our_datasets', ['DeepWM_B_CoV','DeepWM_B_CBF'], 'stripped_down_2')"
   ]
  },
  {
   "cell_type": "code",
   "execution_count": null,
   "id": "13",
   "metadata": {},
   "outputs": [],
   "source": []
  }
 ],
 "metadata": {
  "kernelspec": {
   "display_name": "Python 3 (ipykernel)",
   "language": "python",
   "name": "python3"
  },
  "language_info": {
   "codemirror_mode": {
    "name": "ipython",
    "version": 3
   },
   "file_extension": ".py",
   "mimetype": "text/x-python",
   "name": "python",
   "nbconvert_exporter": "python",
   "pygments_lexer": "ipython3",
   "version": "3.11.6"
  }
 },
 "nbformat": 4,
 "nbformat_minor": 5
}
