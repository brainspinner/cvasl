{
 "cells": [
  {
   "cell_type": "markdown",
   "id": "0313a6ad-6179-4449-aa1e-49395b892903",
   "metadata": {
    "tags": []
   },
   "source": [
    "# Data check\n",
    "We will take a look at data sent in January 2024"
   ]
  },
  {
   "cell_type": "markdown",
   "id": "dde0751c-dd28-41dd-b749-72a8460495b4",
   "metadata": {},
   "source": [
    "## The notebooks in this folder deal with new datasets. This is a temporary notebok to discuss the data we have"
   ]
  },
  {
   "cell_type": "markdown",
   "id": "9608d9cc-9750-4617-b575-d19f3001b4f6",
   "metadata": {
    "tags": []
   },
   "source": [
    "## There are a few irregularities to discuss"
   ]
  },
  {
   "cell_type": "markdown",
   "id": "4ba2ca18-8eaf-430b-a549-57fe9125ce4f",
   "metadata": {},
   "source": [
    "### Load libraries"
   ]
  },
  {
   "cell_type": "code",
   "execution_count": null,
   "id": "707bd291-0a52-49ef-9043-ab3170c26335",
   "metadata": {
    "tags": []
   },
   "outputs": [],
   "source": [
    "import os       # using operating system dependent functionality (folders)\n",
    "import sys\n",
    "import glob\n",
    "from functools import reduce\n",
    "\n",
    "import pandas as pd # data analysis and manipulation\n",
    "import numpy as np    # numerical computing (manipulating and performing operations on arrays of data)\n",
    "import matplotlib.pyplot as plt\n",
    "import ipywidgets as widgets\n",
    "from ipywidgets import interactive\n",
    "import seaborn as sns\n",
    "\n",
    "sys.path.insert(0, '../') # path to functions\n",
    "import cvasl.seperated as sep\n",
    "from cvasl.file_handler import Config\n",
    "import cvasl.harmony as har\n"
   ]
  },
  {
   "cell_type": "code",
   "execution_count": null,
   "id": "ee21c3eb-11fc-4a62-8932-0f971b36aa0a",
   "metadata": {
    "tags": []
   },
   "outputs": [],
   "source": [
    "# Datasets for this work\n",
    "EDIS_path = 'our_datasets/EDIS/'\n",
    "HELIUS_path = 'our_datasets/HELIUS/'\n",
    "Insight46_path = 'our_datasets/Insight46/'\n",
    "SABRE_path = 'our_datasets/SABRE/'\n",
    "MRI_path = 'our_datasets/StrokeMRI/'\n",
    "TOP_path = 'our_datasets/TOP/'\n",
    "file_name = 'TrainingDataComplete.csv'\n",
    "\n",
    "TOP_file = os.path.join(TOP_path, file_name)\n",
    "MRI_file = os.path.join(MRI_path, file_name)\n",
    "EDIS_file = os.path.join(EDIS_path, file_name)\n",
    "#HELIUS_file = os.path.join(HELIUS_path, file_name)\n",
    "Insight46_file = os.path.join(Insight46_path, file_name)\n",
    "SABRE_file = os.path.join(SABRE_path, file_name)\n",
    "\n",
    "EDIS = pd.read_csv(EDIS_file)\n",
    "#HELIUS = pd.read_csv(HELIUS_file)\n",
    "Insight46 = pd.read_csv(Insight46_file)\n",
    "SABRE = pd.read_csv(SABRE_file)\n",
    "TOP = pd.read_csv(TOP_file)\n",
    "MRI = pd.read_csv(MRI_file)"
   ]
  },
  {
   "cell_type": "code",
   "execution_count": null,
   "id": "db5135a4-d73f-436a-aecb-09d136c85bdc",
   "metadata": {
    "tags": []
   },
   "outputs": [],
   "source": [
    "#example old datasets\n",
    "filepath_mri_old = '../open_work/internal_results/cleaned_pvc2s/' \n",
    "filename_mri_old = os.path.join(filepath_mri_old,'StrokeMRI_pvc2c.csv') \n",
    "filepath_top_old = '../open_work/internal_results/cleaned_pvc2s/' \n",
    "filename_top_old = os.path.join(filepath_top_old,'TOP_pvc2c.csv') \n",
    "TOP_old = pd.read_csv(filename_top_old)\n",
    "StrokeMRI_old = pd.read_csv(filename_mri_old)\n",
    "TOP_old = TOP_old.drop(TOP_old.columns[0],axis=1)\n",
    "StrokeMRI_old = StrokeMRI_old.drop(StrokeMRI_old.columns[0],axis=1)\n",
    "\n",
    "# Now we need to flip the sex back to numbers for a correlation\n",
    "# sex_mapping = {'F':0,'M':1}\n",
    "# TOP = TOP.assign(sex = TOP.sex.map(sex_mapping))\n",
    "# StrokeMRI = StrokeMRI.assign(sex = StrokeMRI.sex.map(sex_mapping))\n",
    "#TOP_old.head(3)"
   ]
  },
  {
   "cell_type": "code",
   "execution_count": null,
   "id": "4f09df72-ad6c-4264-a2d0-7bb23d9ab4f4",
   "metadata": {
    "tags": []
   },
   "outputs": [],
   "source": [
    "TOP.shape"
   ]
  },
  {
   "cell_type": "code",
   "execution_count": null,
   "id": "cc730050-d1ae-4185-af08-bf6ffe663310",
   "metadata": {
    "tags": []
   },
   "outputs": [],
   "source": [
    "TOP.columns"
   ]
  },
  {
   "cell_type": "code",
   "execution_count": null,
   "id": "d7d85e5b-98d0-411b-87fb-2221e02db0cc",
   "metadata": {
    "tags": []
   },
   "outputs": [],
   "source": [
    "## SO one minor note...this is not what we agreed to. We agreed to everything lower case. We can fix this with a re funciton to lower case everything"
   ]
  },
  {
   "cell_type": "code",
   "execution_count": null,
   "id": "9db5e4b3-f17b-4fd0-86b7-03dd450f36c0",
   "metadata": {
    "tags": []
   },
   "outputs": [],
   "source": [
    "# make every column lower case\n",
    "TOP.columns = TOP.columns.str.lower() "
   ]
  },
  {
   "cell_type": "code",
   "execution_count": null,
   "id": "0dede0e1-ef8a-465e-ae7c-a1587c22204e",
   "metadata": {
    "tags": []
   },
   "outputs": [],
   "source": [
    "set_top_columns = set(TOP.columns)\n"
   ]
  },
  {
   "cell_type": "code",
   "execution_count": null,
   "id": "1b86d0c4-436d-4aea-be3f-39690f5d0c28",
   "metadata": {
    "tags": []
   },
   "outputs": [],
   "source": [
    "## But let's compare to old dataset"
   ]
  },
  {
   "cell_type": "code",
   "execution_count": null,
   "id": "922dd5fc-d7b9-4470-a57f-0ce7f1207099",
   "metadata": {
    "tags": []
   },
   "outputs": [],
   "source": [
    "set_old_top_columns = set(TOP_old.columns)"
   ]
  },
  {
   "cell_type": "code",
   "execution_count": null,
   "id": "3cc60404-ab0b-46e2-8db6-a3095f19bb64",
   "metadata": {
    "tags": []
   },
   "outputs": [],
   "source": [
    "# what was added new in this version of top\n",
    "set_top_columns - set_old_top_columns "
   ]
  },
  {
   "cell_type": "code",
   "execution_count": null,
   "id": "094d8222-400d-41d1-81b3-3099b5553aca",
   "metadata": {
    "tags": []
   },
   "outputs": [],
   "source": [
    "# what we lost in this version of top\n",
    "set_old_top_columns - set_top_columns"
   ]
  },
  {
   "cell_type": "code",
   "execution_count": null,
   "id": "7ae25ba1-8a76-4932-be05-1e35addad46c",
   "metadata": {},
   "outputs": [],
   "source": [
    "# we must discuss this with scientists"
   ]
  }
 ],
 "metadata": {
  "kernelspec": {
   "display_name": "Python 3 (ipykernel)",
   "language": "python",
   "name": "python3"
  },
  "language_info": {
   "codemirror_mode": {
    "name": "ipython",
    "version": 3
   },
   "file_extension": ".py",
   "mimetype": "text/x-python",
   "name": "python",
   "nbconvert_exporter": "python",
   "pygments_lexer": "ipython3",
   "version": "3.7.12"
  }
 },
 "nbformat": 4,
 "nbformat_minor": 5
}
