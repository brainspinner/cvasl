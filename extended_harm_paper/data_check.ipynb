{
 "cells": [
  {
   "cell_type": "markdown",
   "id": "0",
   "metadata": {
    "tags": []
   },
   "source": [
    "# Data check\n",
    "We will take a look at data sent in January 2024"
   ]
  },
  {
   "cell_type": "markdown",
   "id": "1",
   "metadata": {},
   "source": [
    "## The notebooks in this folder deal with new datasets. This is a temporary notebok to discuss the data we have"
   ]
  },
  {
   "cell_type": "markdown",
   "id": "2",
   "metadata": {
    "tags": []
   },
   "source": [
    "## There are a few irregularities to discuss"
   ]
  },
  {
   "cell_type": "markdown",
   "id": "3",
   "metadata": {},
   "source": [
    "### Load libraries"
   ]
  },
  {
   "cell_type": "code",
   "execution_count": null,
   "id": "4",
   "metadata": {
    "tags": []
   },
   "outputs": [],
   "source": [
    "import os       # using operating system dependent functionality (folders)\n",
    "import sys\n",
    "import glob\n",
    "from functools import reduce\n",
    "\n",
    "import pandas as pd # data analysis and manipulation\n",
    "import numpy as np    # numerical computing (manipulating and performing operations on arrays of data)\n",
    "import matplotlib.pyplot as plt\n",
    "import ipywidgets as widgets\n",
    "from ipywidgets import interactive\n",
    "import seaborn as sns\n",
    "\n",
    "sys.path.insert(0, '../') # path to functions\n",
    "import cvasl.seperated as sep\n",
    "from cvasl.file_handler import Config\n",
    "import cvasl.harmony as har\n"
   ]
  },
  {
   "cell_type": "code",
   "execution_count": null,
   "id": "5",
   "metadata": {
    "tags": []
   },
   "outputs": [],
   "source": [
    "# Datasets for this work\n",
    "EDIS_path = 'our_datasets/EDIS/'\n",
    "HELIUS_path = 'our_datasets/HELIUS/'\n",
    "Insight46_path = 'our_datasets/Insight46/'\n",
    "SABRE_path = 'our_datasets/SABRE/'\n",
    "MRI_path = 'our_datasets/StrokeMRI/'\n",
    "TOP_path = 'our_datasets/TOP/'\n",
    "file_name = 'TrainingDataComplete.csv'\n",
    "\n",
    "TOP_file = os.path.join(TOP_path, file_name)\n",
    "MRI_file = os.path.join(MRI_path, file_name)\n",
    "EDIS_file = os.path.join(EDIS_path, file_name)\n",
    "#HELIUS_file = os.path.join(HELIUS_path, file_name)\n",
    "Insight46_file = os.path.join(Insight46_path, file_name)\n",
    "SABRE_file = os.path.join(SABRE_path, file_name)\n",
    "\n",
    "EDIS = pd.read_csv(EDIS_file)\n",
    "#HELIUS = pd.read_csv(HELIUS_file)\n",
    "Insight46 = pd.read_csv(Insight46_file)\n",
    "SABRE = pd.read_csv(SABRE_file)\n",
    "TOP = pd.read_csv(TOP_file)\n",
    "MRI = pd.read_csv(MRI_file)"
   ]
  },
  {
   "cell_type": "code",
   "execution_count": null,
   "id": "6",
   "metadata": {
    "tags": []
   },
   "outputs": [],
   "source": [
    "#example old datasets\n",
    "filepath_mri_old = '../open_work/internal_results/cleaned_pvc2s/' \n",
    "filename_mri_old = os.path.join(filepath_mri_old,'StrokeMRI_pvc2c.csv') \n",
    "filepath_top_old = '../open_work/internal_results/cleaned_pvc2s/' \n",
    "filename_top_old = os.path.join(filepath_top_old,'TOP_pvc2c.csv') \n",
    "TOP_old = pd.read_csv(filename_top_old)\n",
    "StrokeMRI_old = pd.read_csv(filename_mri_old)\n",
    "TOP_old = TOP_old.drop(TOP_old.columns[0],axis=1)\n",
    "StrokeMRI_old = StrokeMRI_old.drop(StrokeMRI_old.columns[0],axis=1)\n",
    "\n",
    "# Now we need to flip the sex back to numbers for a correlation\n",
    "# sex_mapping = {'F':0,'M':1}\n",
    "# TOP = TOP.assign(sex = TOP.sex.map(sex_mapping))\n",
    "# StrokeMRI = StrokeMRI.assign(sex = StrokeMRI.sex.map(sex_mapping))\n",
    "#TOP_old.head(3)"
   ]
  },
  {
   "cell_type": "code",
   "execution_count": null,
   "id": "7",
   "metadata": {
    "tags": []
   },
   "outputs": [],
   "source": [
    "TOP.shape"
   ]
  },
  {
   "cell_type": "code",
   "execution_count": null,
   "id": "8",
   "metadata": {
    "tags": []
   },
   "outputs": [],
   "source": [
    "TOP.columns"
   ]
  },
  {
   "cell_type": "code",
   "execution_count": null,
   "id": "9",
   "metadata": {
    "tags": []
   },
   "outputs": [],
   "source": [
    "## SO one minor note...this is not what we agreed to. We agreed to everything lower case. We can fix this with a re funciton to lower case everything"
   ]
  },
  {
   "cell_type": "code",
   "execution_count": null,
   "id": "10",
   "metadata": {
    "tags": []
   },
   "outputs": [],
   "source": [
    "# make every column lower case\n",
    "TOP.columns = TOP.columns.str.lower() "
   ]
  },
  {
   "cell_type": "code",
   "execution_count": null,
   "id": "11",
   "metadata": {
    "tags": []
   },
   "outputs": [],
   "source": [
    "set_top_columns = set(TOP.columns)\n"
   ]
  },
  {
   "cell_type": "code",
   "execution_count": null,
   "id": "12",
   "metadata": {
    "tags": []
   },
   "outputs": [],
   "source": [
    "## But let's compare to old dataset"
   ]
  },
  {
   "cell_type": "code",
   "execution_count": null,
   "id": "13",
   "metadata": {
    "tags": []
   },
   "outputs": [],
   "source": [
    "set_old_top_columns = set(TOP_old.columns)"
   ]
  },
  {
   "cell_type": "code",
   "execution_count": null,
   "id": "14",
   "metadata": {
    "tags": []
   },
   "outputs": [],
   "source": [
    "# what was added new in this version of top\n",
    "set_top_columns - set_old_top_columns "
   ]
  },
  {
   "cell_type": "code",
   "execution_count": null,
   "id": "15",
   "metadata": {
    "tags": []
   },
   "outputs": [],
   "source": [
    "# what we lost in this version of top\n",
    "set_old_top_columns - set_top_columns"
   ]
  },
  {
   "cell_type": "code",
   "execution_count": null,
   "id": "16",
   "metadata": {
    "tags": []
   },
   "outputs": [],
   "source": [
    "# we must discuss this with scientists"
   ]
  },
  {
   "cell_type": "markdown",
   "id": "17",
   "metadata": {},
   "source": [
    "# Examine what harmonization outcomes are negative"
   ]
  },
  {
   "cell_type": "code",
   "execution_count": null,
   "id": "19",
   "metadata": {
    "tags": []
   },
   "outputs": [],
   "source": [
    "negs = har.negative_harm_outcomes(\n",
    "    'harmonizations/harm_results',\n",
    "    'csv',\n",
    "    number_columns=[\n",
    "        'sex',\n",
    "        'gm_vol',\n",
    "        'wm_vol',\n",
    "        'csf_vol',\n",
    "        'gm_icvratio',\n",
    "        'gmwm_icvratio',\n",
    "        'wmhvol_wmvol',\n",
    "        'wmh_count',\n",
    "        #'deepwm_b_cov',\n",
    "        'aca_b_cov',\n",
    "        'mca_b_cov',\n",
    "        'pca_b_cov',\n",
    "        'totalgm_b_cov',\n",
    "        #'deepwm_b_cbf',\n",
    "        'aca_b_cbf',\n",
    "        'mca_b_cbf',\n",
    "        'pca_b_cbf',\n",
    "        'totalgm_b_cbf',]\n",
    ") \n",
    "#negs"
   ]
  },
  {
   "cell_type": "code",
   "execution_count": null,
   "id": "20",
   "metadata": {
    "tags": []
   },
   "outputs": [],
   "source": [
    "negs"
   ]
  },
  {
   "cell_type": "code",
   "execution_count": null,
   "id": "21",
   "metadata": {},
   "outputs": [],
   "source": []
  }
 ],
 "metadata": {
  "kernelspec": {
   "display_name": "Python 3 (ipykernel)",
   "language": "python",
   "name": "python3"
  },
  "language_info": {
   "codemirror_mode": {
    "name": "ipython",
    "version": 3
   },
   "file_extension": ".py",
   "mimetype": "text/x-python",
   "name": "python",
   "nbconvert_exporter": "python",
   "pygments_lexer": "ipython3",
   "version": "3.11.6"
  }
 },
 "nbformat": 4,
 "nbformat_minor": 5
}
