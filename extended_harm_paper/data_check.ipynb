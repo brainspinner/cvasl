{
 "cells": [
  {
   "cell_type": "markdown",
   "id": "0",
   "metadata": {
    "tags": []
   },
   "source": [
    "# Data check\n",
    "We will take a look at data sent in January 2024 (loaded into unprocessed); then look at it again after processing is applied"
   ]
  },
  {
   "cell_type": "markdown",
   "id": "1",
   "metadata": {},
   "source": [
    "## The notebooks in this folder deal with new datasets. This is a temporary notebok to discuss the data we have"
   ]
  },
  {
   "cell_type": "markdown",
   "id": "2",
   "metadata": {
    "tags": []
   },
   "source": [
    "## There are unprocessed (except dropping two columns with deep wm ) harmonizeddatasets we will look at"
   ]
  },
  {
   "cell_type": "markdown",
   "id": "3",
   "metadata": {},
   "source": [
    "### Load libraries"
   ]
  },
  {
   "cell_type": "code",
   "execution_count": null,
   "id": "4",
   "metadata": {
    "tags": []
   },
   "outputs": [],
   "source": [
    "import os       # using operating system dependent functionality (folders)\n",
    "import sys\n",
    "import glob\n",
    "from functools import reduce\n",
    "\n",
    "import pandas as pd # data analysis and manipulation\n",
    "import numpy as np    # numerical computing (manipulating and performing operations on arrays of data)\n",
    "import matplotlib.pyplot as plt\n",
    "import ipywidgets as widgets\n",
    "from ipywidgets import interactive\n",
    "import seaborn as sns\n",
    "\n",
    "sys.path.insert(0, '../') # path to functions\n",
    "import cvasl.seperated as sep\n",
    "from cvasl.file_handler import Config\n",
    "import cvasl.harmony as har\n"
   ]
  },
  {
   "cell_type": "code",
   "execution_count": null,
   "id": "5",
   "metadata": {
    "tags": []
   },
   "outputs": [],
   "source": [
    "# Unprocessed Datasets for this work\n",
    "EDIS_path =    'our_datasets_unprocessed/EDIS/'\n",
    "HELIUS_pat =   'our_datasets_unprocessed/HELIUS/'\n",
    "Insight46_path='our_datasets_unprocessed/Insight46/'\n",
    "SABRE_path =   'our_datasets_unprocessed/SABRE/'\n",
    "MRI_path =     'our_datasets_unprocessed/StrokeMRI/'\n",
    "TOP_path =     'our_datasets_unprocessed/TOP/'\n",
    "file_name = 'TrainingDataComplete.csv'\n",
    "\n",
    "TOP_file = os.path.join(TOP_path, file_name)\n",
    "MRI_file = os.path.join(MRI_path, file_name)\n",
    "EDIS_file = os.path.join(EDIS_path, file_name)\n",
    "#HELIUS_file = os.path.join(HELIUS_path, file_name)\n",
    "Insight46_file = os.path.join(Insight46_path, file_name)\n",
    "SABRE_file = os.path.join(SABRE_path, file_name)\n",
    "\n",
    "EDIS = pd.read_csv(EDIS_file)\n",
    "#HELIUS = pd.read_csv(HELIUS_file)\n",
    "Insight46 = pd.read_csv(Insight46_file)\n",
    "SABRE = pd.read_csv(SABRE_file)\n",
    "TOP = pd.read_csv(TOP_file)\n",
    "MRI = pd.read_csv(MRI_file)"
   ]
  },
  {
   "cell_type": "code",
   "execution_count": null,
   "id": "6",
   "metadata": {
    "tags": []
   },
   "outputs": [],
   "source": [
    "# #example old datasets\n",
    "# filepath_mri_old = '../open_work/internal_results/cleaned_pvc2s/' \n",
    "# filename_mri_old = os.path.join(filepath_mri_old,'StrokeMRI_pvc2c.csv') \n",
    "# filepath_top_old = '../open_work/internal_results/cleaned_pvc2s/' \n",
    "# filename_top_old = os.path.join(filepath_top_old,'TOP_pvc2c.csv') \n",
    "# TOP_old = pd.read_csv(filename_top_old)\n",
    "# StrokeMRI_old = pd.read_csv(filename_mri_old)\n",
    "# TOP_old = TOP_old.drop(TOP_old.columns[0],axis=1)\n",
    "# StrokeMRI_old = StrokeMRI_old.drop(StrokeMRI_old.columns[0],axis=1)"
   ]
  },
  {
   "cell_type": "code",
   "execution_count": null,
   "id": "7",
   "metadata": {
    "tags": []
   },
   "outputs": [],
   "source": [
    "TOP.shape"
   ]
  },
  {
   "cell_type": "code",
   "execution_count": null,
   "id": "8",
   "metadata": {
    "tags": []
   },
   "outputs": [],
   "source": [
    "TOP.columns"
   ]
  },
  {
   "cell_type": "markdown",
   "id": "f2110714-8b98-45a7-9ad9-5b41166757dd",
   "metadata": {
    "tags": []
   },
   "source": [
    "## SO one minor note...this was not what we agreed to. We agreed to everything lower case but this was already fixed with the harmonizations"
   ]
  },
  {
   "cell_type": "code",
   "execution_count": null,
   "id": "16",
   "metadata": {
    "tags": []
   },
   "outputs": [],
   "source": [
    "# we must discuss this with scientists"
   ]
  },
  {
   "cell_type": "markdown",
   "id": "17",
   "metadata": {},
   "source": [
    "# Examine what harmonization outcomes are negative"
   ]
  },
  {
   "cell_type": "code",
   "execution_count": null,
   "id": "19",
   "metadata": {
    "tags": []
   },
   "outputs": [],
   "source": [
    "# negs = har.negative_harm_outcomes(\n",
    "#     'harmonizations/harm_results',\n",
    "#     'csv',\n",
    "#     number_columns=[\n",
    "#         'sex',\n",
    "#         'gm_vol',\n",
    "#         'wm_vol',\n",
    "#         'csf_vol',\n",
    "#         'gm_icvratio',\n",
    "#         'gmwm_icvratio',\n",
    "#         'wmhvol_wmvol',\n",
    "#         'wmh_count',\n",
    "#         #'deepwm_b_cov',\n",
    "#         'aca_b_cov',\n",
    "#         'mca_b_cov',\n",
    "#         'pca_b_cov',\n",
    "#         'totalgm_b_cov',\n",
    "#         #'deepwm_b_cbf',\n",
    "#         'aca_b_cbf',\n",
    "#         'mca_b_cbf',\n",
    "#         'pca_b_cbf',\n",
    "#         'totalgm_b_cbf',]\n",
    "# ) \n",
    "# #negs"
   ]
  },
  {
   "cell_type": "code",
   "execution_count": null,
   "id": "20",
   "metadata": {
    "tags": []
   },
   "outputs": [],
   "source": [
    "# negs"
   ]
  },
  {
   "cell_type": "markdown",
   "id": "be9578d5-27ac-4a32-9e07-241921ed2d92",
   "metadata": {},
   "source": [
    "# we were asked to preprocess before performing the harmonization.\n",
    "\n",
    "Therefore we will make the files in our_data which create these proprocessed and deposited into the folder named holder_preprocessed"
   ]
  },
  {
   "cell_type": "markdown",
   "id": "7d9cb722-091f-45ca-8a1a-ab4cfd95b9fa",
   "metadata": {
    "tags": []
   },
   "source": [
    "## First let's review unprocessed"
   ]
  },
  {
   "cell_type": "code",
   "execution_count": null,
   "id": "51a71e4a-2d9b-4f5e-a02b-d4b216ee0440",
   "metadata": {
    "tags": []
   },
   "outputs": [],
   "source": [
    "def review_for_any_negatives(folder, file_extension, numeric_columns):\n",
    "    files = '**/*.' + file_extension\n",
    "\n",
    "    suspects = glob.glob(\n",
    "        os.path.join(folder, files),\n",
    "        recursive=True,\n",
    "    )\n",
    "    \n",
    "    for file in suspects:\n",
    "        read = pd.read_csv(file, index_col=0)\n",
    "        print(file)\n",
    "        negatives = (read[numeric_columns] < 0).values.any()\n",
    "        print(negatives)"
   ]
  },
  {
   "cell_type": "code",
   "execution_count": null,
   "id": "be718f72-3226-4b67-86ba-ea4bfc31fa47",
   "metadata": {
    "tags": []
   },
   "outputs": [],
   "source": [
    "Insight46.columns"
   ]
  },
  {
   "cell_type": "code",
   "execution_count": null,
   "id": "d622f298-14f9-43c8-9c98-42fc45171bbc",
   "metadata": {
    "tags": []
   },
   "outputs": [],
   "source": [
    "review_for_any_negatives('our_datasets_unprocessed',\n",
    "           'csv',\n",
    "              ['Age', 'Sex', 'Site', 'GM_vol', 'WM_vol',\n",
    "       'CSF_vol', 'GM_ICVRatio', 'GMWM_ICVRatio', 'WMHvol_WMvol', 'WMH_count',\n",
    "       'ACA_B_CoV', 'MCA_B_CoV', 'PCA_B_CoV', 'TotalGM_B_CoV', 'ACA_B_CBF',\n",
    "       'MCA_B_CBF', 'PCA_B_CBF', 'TotalGM_B_CBF'])"
   ]
  },
  {
   "cell_type": "code",
   "execution_count": null,
   "id": "5b6f4bd9-88b7-4688-95f6-42388bc9052e",
   "metadata": {
    "tags": []
   },
   "outputs": [],
   "source": [
    "Insight46 = pd.read_csv('our_datasets_unprocessed\\Insight46\\TrainingDataComplete.csv', index_col=0)\n",
    "# Insight46[Insight46['Age', 'Sex', 'Site', 'GM_vol', 'WM_vol',\n",
    "#        'CSF_vol', 'GM_ICVRatio', 'GMWM_ICVRatio', 'WMHvol_WMvol', 'WMH_count',\n",
    "#        'ACA_B_CoV', 'MCA_B_CoV', 'PCA_B_CoV', 'TotalGM_B_CoV', 'ACA_B_CBF',\n",
    "#        'MCA_B_CBF', 'PCA_B_CBF', 'TotalGM_B_CBF']] "
   ]
  },
  {
   "cell_type": "code",
   "execution_count": null,
   "id": "b8ebff48-96ce-42a7-adcd-3d6d9b7fb6d5",
   "metadata": {
    "tags": []
   },
   "outputs": [],
   "source": [
    "cols = ['Age', 'Sex', 'GM_vol', 'WM_vol',\n",
    "       'CSF_vol', 'GM_ICVRatio', 'GMWM_ICVRatio', 'WMHvol_WMvol', 'WMH_count',\n",
    "       'ACA_B_CoV', 'MCA_B_CoV', 'PCA_B_CoV', 'TotalGM_B_CoV', 'ACA_B_CBF',\n",
    "       'MCA_B_CBF', 'PCA_B_CBF', 'TotalGM_B_CBF']\n",
    "\n",
    "#Insight46.loc[Insight46['Age'] < 0 | Insight46['Sex'] < 0]\n",
    "#df.loc[df['favorite_color'] == 'yellow']\n",
    "#mult_conditions_query.head()\n",
    "negative_insight = Insight46[Insight46[cols] < 0].any(axis=1)\n",
    "positive_insight = Insight46[Insight46[cols] > 0].any(axis=1)\n"
   ]
  },
  {
   "cell_type": "code",
   "execution_count": null,
   "id": "63c7cb5b-71e7-462f-9a48-2256c478c99c",
   "metadata": {
    "tags": []
   },
   "outputs": [],
   "source": [
    "Insight46[negative_insight]"
   ]
  },
  {
   "cell_type": "code",
   "execution_count": null,
   "id": "e27d022f-e209-47e4-b253-5cfe0c3a7aaa",
   "metadata": {
    "tags": []
   },
   "outputs": [],
   "source": [
    "negative_sabre = SABRE[SABRE[cols] < 0].any(axis=1)\n",
    "positive_sabre = SABRE[~negative_sabre]"
   ]
  },
  {
   "cell_type": "code",
   "execution_count": null,
   "id": "cb641ae3-aa58-413d-a5c4-822147598339",
   "metadata": {
    "tags": []
   },
   "outputs": [],
   "source": [
    "SABRE[negative_sabre]"
   ]
  },
  {
   "cell_type": "code",
   "execution_count": null,
   "id": "b093b058-947a-4f35-859b-c2b61530854a",
   "metadata": {
    "tags": []
   },
   "outputs": [],
   "source": [
    "SABRE"
   ]
  },
  {
   "cell_type": "code",
   "execution_count": null,
   "id": "53f09ee8-5ad0-4db6-8748-458e66eb9546",
   "metadata": {},
   "outputs": [],
   "source": [
    "positive_sabre"
   ]
  },
  {
   "cell_type": "code",
   "execution_count": null,
   "id": "283dc40a-6cdb-49c7-aaa5-1e157851d88c",
   "metadata": {
    "tags": []
   },
   "outputs": [],
   "source": [
    "def positive_sets(\n",
    "    folder,\n",
    "    file_extension,\n",
    "    outcome_folder,\n",
    "    numerical_columns=['Age', 'Sex', 'Site', 'GM_vol', 'WM_vol',\n",
    "       'CSF_vol', 'GM_ICVRatio', 'GMWM_ICVRatio', 'WMHvol_WMvol', 'WMH_count',\n",
    "       'ACA_B_CoV', 'MCA_B_CoV', 'PCA_B_CoV', 'TotalGM_B_CoV', 'ACA_B_CBF',\n",
    "       'MCA_B_CBF', 'PCA_B_CBF', 'TotalGM_B_CBF'],\n",
    "    \n",
    "    \n",
    "):\n",
    "    \"\"\"\n",
    "    This function given a directory will\n",
    "    search all subdirectory for noted file extension\n",
    "    Copies of the files will be filtereddown to only positive \n",
    "    entries\n",
    "    \"\"\"\n",
    "    if not os.path.exists(outcome_folder):\n",
    "            os.makedirs(outcome_folder)\n",
    "    files = '**/*.' + file_extension\n",
    "\n",
    "    suspects = glob.glob(\n",
    "        os.path.join(folder, files),\n",
    "        recursive=True,\n",
    "    )\n",
    "    read_names = []\n",
    "    for file in suspects:\n",
    "        read = pd.read_csv(file, index_col=0)\n",
    "        filenames1 = os.path.split(file)[0]\n",
    "        filenames = os.path.split(filenames1)[-1]\n",
    "        if not os.path.exists(os.path.join(outcome_folder, filenames)):\n",
    "            os.makedirs(os.path.join(outcome_folder, filenames))\n",
    "        read_name = os.path.join(outcome_folder, filenames, os.path.basename(file).split('/')[-1])\n",
    "        negative_read = read[read[cols] < 0].any(axis=1)\n",
    "        positive_read = read[~negative_read]\n",
    "        positive_read.to_csv(read_name)\n",
    "        read_names.append(read_name)\n",
    "    return read_names"
   ]
  },
  {
   "cell_type": "code",
   "execution_count": null,
   "id": "31ccccb6-1e5f-4278-992a-a2008f3b37bf",
   "metadata": {
    "tags": []
   },
   "outputs": [],
   "source": [
    "positive_sets('our_datasets_unprocessed',\n",
    "           'csv', 'our_datasets_pos')"
   ]
  },
  {
   "cell_type": "code",
   "execution_count": null,
   "id": "b39b5c1a-13bb-4731-8e9a-591d7a890bc9",
   "metadata": {
    "tags": []
   },
   "outputs": [],
   "source": [
    "edis_pos= pd.read_csv('our_datasets_pos\\\\EDIS\\\\TrainingDataComplete.csv')\n",
    "helius_pos= pd.read_csv('our_datasets_pos\\\\HELIUS\\\\TrainingDataComplete.csv')\n",
    "insi_pos= pd.read_csv('our_datasets_pos\\\\Insight46\\\\TrainingDataComplete.csv')\n",
    "sabre_pos=pd.read_csv('our_datasets_pos\\\\SABRE\\\\TrainingDataComplete.csv')\n",
    "stro_pos= pd.read_csv('our_datasets_pos\\\\StrokeMRI\\\\TrainingDataComplete.csv')\n",
    "top_pos= pd.read_csv('our_datasets_pos\\\\TOP\\\\TrainingDataComplete.csv')"
   ]
  },
  {
   "cell_type": "code",
   "execution_count": null,
   "id": "12be4eb6-5154-4579-b872-edb0d4c77252",
   "metadata": {
    "tags": []
   },
   "outputs": [],
   "source": [
    "insi_pos.describe()"
   ]
  },
  {
   "cell_type": "code",
   "execution_count": null,
   "id": "5ce5ecfa-4b50-482b-9164-d79616f0dcbc",
   "metadata": {
    "tags": []
   },
   "outputs": [],
   "source": [
    "def preprocess(\n",
    "    folder,\n",
    "    file_extension,\n",
    "    outcome_folder,\n",
    "    log_columns=[],\n",
    "    plus_one_log_columns = []\n",
    "    \n",
    "):\n",
    "    \"\"\"\n",
    "    This function given a directory will\n",
    "    search all subdirectory for noted file extension\n",
    "    Copies of the files will be processed as specified\n",
    "    which is the specified columns turned to log or +1 then log\n",
    "    then put in the outcome folder\n",
    "    \"\"\"\n",
    "    if not os.path.exists(outcome_folder):\n",
    "            os.makedirs(outcome_folder)\n",
    "    files = '**/*.' + file_extension\n",
    "\n",
    "    suspects = glob.glob(\n",
    "        os.path.join(folder, files),\n",
    "        recursive=True,\n",
    "    )\n",
    "    read_names = []\n",
    "    for file in suspects:\n",
    "        read = pd.read_csv(file, index_col=0)\n",
    "        filenames1 = os.path.split(file)[0]\n",
    "        filenames = os.path.split(filenames1)[-1]\n",
    "        if not os.path.exists(os.path.join(outcome_folder, filenames)):\n",
    "            os.makedirs(os.path.join(outcome_folder, filenames))\n",
    "        read_name = os.path.join(outcome_folder, filenames, os.path.basename(file).split('/')[-1])\n",
    "        read[plus_one_log_columns] = read[plus_one_log_columns].apply(lambda x: x + 1, axis=1)\n",
    "        read[plus_one_log_columns] = read[plus_one_log_columns].apply(lambda x: np.log(x), axis=1)\n",
    "        read[log_columns] = read[log_columns].apply(lambda x: np.log(x), axis=1)\n",
    "        read.to_csv(read_name)\n",
    "        read_names.append(read_name)\n",
    "    return read_names"
   ]
  },
  {
   "cell_type": "code",
   "execution_count": null,
   "id": "7707ed18-49cb-4925-a9f1-f527759257e5",
   "metadata": {
    "tags": []
   },
   "outputs": [],
   "source": [
    "sep.preprocess('our_datasets_pos',\n",
    "           'csv', 'our_datasets_healed',\n",
    "           log_cols=['ACA_B_CoV','MCA_B_CoV','PCA_B_CoV','TotalGM_B_CoV'],\n",
    "           plus_one_log_columns = ['WMH_count','WMHvol_WMvol'])"
   ]
  },
  {
   "cell_type": "code",
   "execution_count": null,
   "id": "a4496c36-a002-4ab9-bf21-09f6155fa6e0",
   "metadata": {},
   "outputs": [],
   "source": []
  }
 ],
 "metadata": {
  "kernelspec": {
   "display_name": "Python 3 (ipykernel)",
   "language": "python",
   "name": "python3"
  },
  "language_info": {
   "codemirror_mode": {
    "name": "ipython",
    "version": 3
   },
   "file_extension": ".py",
   "mimetype": "text/x-python",
   "name": "python",
   "nbconvert_exporter": "python",
   "pygments_lexer": "ipython3",
   "version": "3.11.6"
  }
 },
 "nbformat": 4,
 "nbformat_minor": 5
}
