{
 "cells": [
  {
   "cell_type": "markdown",
   "id": "0313a6ad-6179-4449-aa1e-49395b892903",
   "metadata": {
    "tags": []
   },
   "source": [
    "# Data check\n",
    "We will take a look at data sent in January 2024"
   ]
  },
  {
   "cell_type": "markdown",
   "id": "dde0751c-dd28-41dd-b749-72a8460495b4",
   "metadata": {},
   "source": [
    "## The notebooks in this folder deal with new datasets. This is a temporary notebok to discuss the data we have"
   ]
  },
  {
   "cell_type": "markdown",
   "id": "9608d9cc-9750-4617-b575-d19f3001b4f6",
   "metadata": {
    "tags": []
   },
   "source": [
    "## There are a few irregularities to discuss"
   ]
  },
  {
   "cell_type": "markdown",
   "id": "4ba2ca18-8eaf-430b-a549-57fe9125ce4f",
   "metadata": {},
   "source": [
    "### Load libraries"
   ]
  },
  {
   "cell_type": "code",
   "execution_count": 4,
   "id": "707bd291-0a52-49ef-9043-ab3170c26335",
   "metadata": {
    "tags": []
   },
   "outputs": [],
   "source": [
    "import os       # using operating system dependent functionality (folders)\n",
    "import sys\n",
    "import glob\n",
    "from functools import reduce\n",
    "\n",
    "import pandas as pd # data analysis and manipulation\n",
    "import numpy as np    # numerical computing (manipulating and performing operations on arrays of data)\n",
    "import matplotlib.pyplot as plt\n",
    "import ipywidgets as widgets\n",
    "from ipywidgets import interactive\n",
    "import seaborn as sns\n",
    "\n",
    "sys.path.insert(0, '../') # path to functions\n",
    "import cvasl.seperated as sep\n",
    "from cvasl.file_handler import Config\n",
    "import cvasl.harmony as har\n"
   ]
  },
  {
   "cell_type": "code",
   "execution_count": 11,
   "id": "ee21c3eb-11fc-4a62-8932-0f971b36aa0a",
   "metadata": {
    "tags": []
   },
   "outputs": [],
   "source": [
    "# Datasets for this work\n",
    "EDIS_path = 'our_datasets/EDIS/'\n",
    "HELIUS_path = 'our_datasets/HELIUS/'\n",
    "Insight46_path = 'our_datasets/Insight46/'\n",
    "SABRE_path = 'our_datasets/SABRE/'\n",
    "MRI_path = 'our_datasets/StrokeMRI/'\n",
    "TOP_path = 'our_datasets/TOP/'\n",
    "file_name = 'TrainingDataComplete.csv'\n",
    "\n",
    "TOP_file = os.path.join(TOP_path, file_name)\n",
    "MRI_file = os.path.join(MRI_path, file_name)\n",
    "EDIS_file = os.path.join(EDIS_path, file_name)\n",
    "#HELIUS_file = os.path.join(HELIUS_path, file_name)\n",
    "Insight46_file = os.path.join(Insight46_path, file_name)\n",
    "SABRE_file = os.path.join(SABRE_path, file_name)\n",
    "\n",
    "EDIS = pd.read_csv(EDIS_file)\n",
    "#HELIUS = pd.read_csv(HELIUS_file)\n",
    "Insight46 = pd.read_csv(Insight46_file)\n",
    "SABRE = pd.read_csv(SABRE_file)\n",
    "TOP = pd.read_csv(TOP_file)\n",
    "MRI = pd.read_csv(MRI_file)"
   ]
  },
  {
   "cell_type": "code",
   "execution_count": 15,
   "id": "db5135a4-d73f-436a-aecb-09d136c85bdc",
   "metadata": {
    "tags": []
   },
   "outputs": [
    {
     "data": {
      "text/html": [
       "<div>\n",
       "<style scoped>\n",
       "    .dataframe tbody tr th:only-of-type {\n",
       "        vertical-align: middle;\n",
       "    }\n",
       "\n",
       "    .dataframe tbody tr th {\n",
       "        vertical-align: top;\n",
       "    }\n",
       "\n",
       "    .dataframe thead th {\n",
       "        text-align: right;\n",
       "    }\n",
       "</style>\n",
       "<table border=\"1\" class=\"dataframe\">\n",
       "  <thead>\n",
       "    <tr style=\"text-align: right;\">\n",
       "      <th></th>\n",
       "      <th>participant_id</th>\n",
       "      <th>age</th>\n",
       "      <th>sex</th>\n",
       "      <th>gm_vol</th>\n",
       "      <th>wm_vol</th>\n",
       "      <th>csf_vol</th>\n",
       "      <th>gm_ivc_ratio</th>\n",
       "      <th>gmwm_ivc_ratio</th>\n",
       "      <th>wmh_vol</th>\n",
       "      <th>wmh_count</th>\n",
       "      <th>deepwm_b_cov</th>\n",
       "      <th>aca_b_cov</th>\n",
       "      <th>mca_b_cov</th>\n",
       "      <th>pca_b_cov</th>\n",
       "      <th>totalgm_b_cov</th>\n",
       "      <th>deepwm_b</th>\n",
       "      <th>aca_b</th>\n",
       "      <th>mca_b</th>\n",
       "      <th>pca_b</th>\n",
       "      <th>totalgm_b</th>\n",
       "    </tr>\n",
       "  </thead>\n",
       "  <tbody>\n",
       "    <tr>\n",
       "      <th>0</th>\n",
       "      <td>sub-0001_1_ses-1_run-1</td>\n",
       "      <td>43.49</td>\n",
       "      <td>M</td>\n",
       "      <td>0.71736</td>\n",
       "      <td>0.52803</td>\n",
       "      <td>0.31812</td>\n",
       "      <td>0.45881</td>\n",
       "      <td>0.79653</td>\n",
       "      <td>1.743</td>\n",
       "      <td>24.0</td>\n",
       "      <td>8.7620</td>\n",
       "      <td>2.2748</td>\n",
       "      <td>2.3205</td>\n",
       "      <td>2.6858</td>\n",
       "      <td>2.4316</td>\n",
       "      <td>22.1022</td>\n",
       "      <td>80.4744</td>\n",
       "      <td>68.3224</td>\n",
       "      <td>52.4614</td>\n",
       "      <td>60.6981</td>\n",
       "    </tr>\n",
       "    <tr>\n",
       "      <th>1</th>\n",
       "      <td>sub-0002_1_ses-1_run-1</td>\n",
       "      <td>38.30</td>\n",
       "      <td>F</td>\n",
       "      <td>0.72383</td>\n",
       "      <td>0.62394</td>\n",
       "      <td>0.25673</td>\n",
       "      <td>0.45112</td>\n",
       "      <td>0.83999</td>\n",
       "      <td>1.629</td>\n",
       "      <td>23.0</td>\n",
       "      <td>9.0749</td>\n",
       "      <td>1.7564</td>\n",
       "      <td>2.3989</td>\n",
       "      <td>1.5982</td>\n",
       "      <td>1.9738</td>\n",
       "      <td>23.5401</td>\n",
       "      <td>87.3972</td>\n",
       "      <td>78.0359</td>\n",
       "      <td>63.9932</td>\n",
       "      <td>71.6047</td>\n",
       "    </tr>\n",
       "    <tr>\n",
       "      <th>2</th>\n",
       "      <td>sub-0019_1_ses-1_run-1</td>\n",
       "      <td>32.30</td>\n",
       "      <td>M</td>\n",
       "      <td>0.71224</td>\n",
       "      <td>0.53295</td>\n",
       "      <td>0.33594</td>\n",
       "      <td>0.45046</td>\n",
       "      <td>0.78753</td>\n",
       "      <td>0.621</td>\n",
       "      <td>13.0</td>\n",
       "      <td>8.8791</td>\n",
       "      <td>1.9850</td>\n",
       "      <td>1.8702</td>\n",
       "      <td>2.1648</td>\n",
       "      <td>2.1723</td>\n",
       "      <td>27.5573</td>\n",
       "      <td>94.0855</td>\n",
       "      <td>86.3816</td>\n",
       "      <td>62.6012</td>\n",
       "      <td>74.0588</td>\n",
       "    </tr>\n",
       "  </tbody>\n",
       "</table>\n",
       "</div>"
      ],
      "text/plain": [
       "           participant_id    age sex   gm_vol   wm_vol  csf_vol  gm_ivc_ratio  \\\n",
       "0  sub-0001_1_ses-1_run-1  43.49   M  0.71736  0.52803  0.31812       0.45881   \n",
       "1  sub-0002_1_ses-1_run-1  38.30   F  0.72383  0.62394  0.25673       0.45112   \n",
       "2  sub-0019_1_ses-1_run-1  32.30   M  0.71224  0.53295  0.33594       0.45046   \n",
       "\n",
       "   gmwm_ivc_ratio  wmh_vol  wmh_count  deepwm_b_cov  aca_b_cov  mca_b_cov  \\\n",
       "0         0.79653    1.743       24.0        8.7620     2.2748     2.3205   \n",
       "1         0.83999    1.629       23.0        9.0749     1.7564     2.3989   \n",
       "2         0.78753    0.621       13.0        8.8791     1.9850     1.8702   \n",
       "\n",
       "   pca_b_cov  totalgm_b_cov  deepwm_b    aca_b    mca_b    pca_b  totalgm_b  \n",
       "0     2.6858         2.4316   22.1022  80.4744  68.3224  52.4614    60.6981  \n",
       "1     1.5982         1.9738   23.5401  87.3972  78.0359  63.9932    71.6047  \n",
       "2     2.1648         2.1723   27.5573  94.0855  86.3816  62.6012    74.0588  "
      ]
     },
     "execution_count": 15,
     "metadata": {},
     "output_type": "execute_result"
    }
   ],
   "source": [
    "#example old datasets\n",
    "filepath_mri_old = '../open_work/internal_results/cleaned_pvc2s/' \n",
    "filename_mri_old = os.path.join(filepath_mri_old,'StrokeMRI_pvc2c.csv') \n",
    "filepath_top_old = '../open_work/internal_results/cleaned_pvc2s/' \n",
    "filename_top_old = os.path.join(filepath_top_old,'TOP_pvc2c.csv') \n",
    "TOP_old = pd.read_csv(filename_top_old)\n",
    "StrokeMRI_old = pd.read_csv(filename_mri_old)\n",
    "TOP_old = TOP_old.drop(TOP_old.columns[0],axis=1)\n",
    "StrokeMRI_old = StrokeMRI_old.drop(StrokeMRI_old.columns[0],axis=1)\n",
    "\n",
    "# Now we need to flip the sex back to numbers for a correlation\n",
    "# sex_mapping = {'F':0,'M':1}\n",
    "# TOP = TOP.assign(sex = TOP.sex.map(sex_mapping))\n",
    "# StrokeMRI = StrokeMRI.assign(sex = StrokeMRI.sex.map(sex_mapping))\n",
    "#TOP_old.head(3)"
   ]
  },
  {
   "cell_type": "code",
   "execution_count": 12,
   "id": "4f09df72-ad6c-4264-a2d0-7bb23d9ab4f4",
   "metadata": {
    "tags": []
   },
   "outputs": [
    {
     "data": {
      "text/plain": [
       "(529, 22)"
      ]
     },
     "execution_count": 12,
     "metadata": {},
     "output_type": "execute_result"
    }
   ],
   "source": [
    "TOP.shape"
   ]
  },
  {
   "cell_type": "code",
   "execution_count": 13,
   "id": "cc730050-d1ae-4185-af08-bf6ffe663310",
   "metadata": {
    "tags": []
   },
   "outputs": [
    {
     "data": {
      "text/plain": [
       "Index(['participant_id', 'ID', 'Age', 'Sex', 'Site', 'GM_vol', 'WM_vol',\n",
       "       'CSF_vol', 'GM_ICVRatio', 'GMWM_ICVRatio', 'WMHvol_WMvol', 'WMH_count',\n",
       "       'DeepWM_B_CoV', 'ACA_B_CoV', 'MCA_B_CoV', 'PCA_B_CoV', 'TotalGM_B_CoV',\n",
       "       'DeepWM_B_CBF', 'ACA_B_CBF', 'MCA_B_CBF', 'PCA_B_CBF', 'TotalGM_B_CBF'],\n",
       "      dtype='object')"
      ]
     },
     "execution_count": 13,
     "metadata": {},
     "output_type": "execute_result"
    }
   ],
   "source": [
    "TOP.columns"
   ]
  },
  {
   "cell_type": "code",
   "execution_count": 8,
   "id": "d7d85e5b-98d0-411b-87fb-2221e02db0cc",
   "metadata": {
    "tags": []
   },
   "outputs": [],
   "source": [
    "## SO one minor note...this is not what we agreed to. We agreed to everything lower case. We can fix this with a re funciton to lower case everything"
   ]
  },
  {
   "cell_type": "code",
   "execution_count": 17,
   "id": "9db5e4b3-f17b-4fd0-86b7-03dd450f36c0",
   "metadata": {
    "tags": []
   },
   "outputs": [],
   "source": [
    "# make every column lower case\n",
    "TOP.columns = TOP.columns.str.lower() "
   ]
  },
  {
   "cell_type": "code",
   "execution_count": 21,
   "id": "0dede0e1-ef8a-465e-ae7c-a1587c22204e",
   "metadata": {
    "tags": []
   },
   "outputs": [],
   "source": [
    "set_top_columns = set(TOP.columns)\n"
   ]
  },
  {
   "cell_type": "code",
   "execution_count": 9,
   "id": "1b86d0c4-436d-4aea-be3f-39690f5d0c28",
   "metadata": {
    "tags": []
   },
   "outputs": [],
   "source": [
    "## But let's compare to old dataset"
   ]
  },
  {
   "cell_type": "code",
   "execution_count": 22,
   "id": "922dd5fc-d7b9-4470-a57f-0ce7f1207099",
   "metadata": {
    "tags": []
   },
   "outputs": [],
   "source": [
    "set_old_top_columns = set(TOP_old.columns)"
   ]
  },
  {
   "cell_type": "code",
   "execution_count": 24,
   "id": "3cc60404-ab0b-46e2-8db6-a3095f19bb64",
   "metadata": {
    "tags": []
   },
   "outputs": [
    {
     "data": {
      "text/plain": [
       "{'aca_b_cbf',\n",
       " 'deepwm_b_cbf',\n",
       " 'gm_icvratio',\n",
       " 'gmwm_icvratio',\n",
       " 'id',\n",
       " 'mca_b_cbf',\n",
       " 'pca_b_cbf',\n",
       " 'site',\n",
       " 'totalgm_b_cbf',\n",
       " 'wmhvol_wmvol'}"
      ]
     },
     "execution_count": 24,
     "metadata": {},
     "output_type": "execute_result"
    }
   ],
   "source": [
    "# what was added new in this version of top\n",
    "set_top_columns - set_old_top_columns "
   ]
  },
  {
   "cell_type": "code",
   "execution_count": 23,
   "id": "094d8222-400d-41d1-81b3-3099b5553aca",
   "metadata": {
    "tags": []
   },
   "outputs": [
    {
     "data": {
      "text/plain": [
       "{'aca_b',\n",
       " 'deepwm_b',\n",
       " 'gm_ivc_ratio',\n",
       " 'gmwm_ivc_ratio',\n",
       " 'mca_b',\n",
       " 'pca_b',\n",
       " 'totalgm_b',\n",
       " 'wmh_vol'}"
      ]
     },
     "execution_count": 23,
     "metadata": {},
     "output_type": "execute_result"
    }
   ],
   "source": [
    "# what we lost in this version of top\n",
    "set_old_top_columns - set_top_columns"
   ]
  },
  {
   "cell_type": "code",
   "execution_count": null,
   "id": "7ae25ba1-8a76-4932-be05-1e35addad46c",
   "metadata": {},
   "outputs": [],
   "source": [
    "# we must discuss this with scientists"
   ]
  }
 ],
 "metadata": {
  "kernelspec": {
   "display_name": "Python 3 (ipykernel)",
   "language": "python",
   "name": "python3"
  },
  "language_info": {
   "codemirror_mode": {
    "name": "ipython",
    "version": 3
   },
   "file_extension": ".py",
   "mimetype": "text/x-python",
   "name": "python",
   "nbconvert_exporter": "python",
   "pygments_lexer": "ipython3",
   "version": "3.11.6"
  }
 },
 "nbformat": 4,
 "nbformat_minor": 5
}
