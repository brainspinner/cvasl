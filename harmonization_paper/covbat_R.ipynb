{
 "cells": [
  {
   "cell_type": "markdown",
   "id": "358eea53-ef20-4b06-86ec-9bd2d8a6f6a4",
   "metadata": {},
   "source": [
    "# CovBat implementation -R"
   ]
  },
  {
   "cell_type": "markdown",
   "id": "44252dc6-685d-40e6-8a81-c36d56cd1022",
   "metadata": {},
   "source": [
    "This notebook applies CovBat as it is written in R\n",
    "The notebook has to be run from an R kernel, and should be run in the `rland` environment. To set up the correct environment see Renvironment.yml"
   ]
  },
  {
   "cell_type": "code",
   "execution_count": null,
   "id": "33046eaa-fe4d-424f-b479-39b4f4500d91",
   "metadata": {},
   "outputs": [],
   "source": [
    "library(CovBat)\n"
   ]
  },
  {
   "cell_type": "code",
   "execution_count": null,
   "id": "c155b84e-8e9b-41ac-bba7-708656b11791",
   "metadata": {},
   "outputs": [],
   "source": []
  }
 ],
 "metadata": {
  "kernelspec": {
   "display_name": "R",
   "language": "R",
   "name": "ir"
  },
  "language_info": {
   "codemirror_mode": "r",
   "file_extension": ".r",
   "mimetype": "text/x-r-source",
   "name": "R",
   "pygments_lexer": "r",
   "version": "4.1.3"
  }
 },
 "nbformat": 4,
 "nbformat_minor": 5
}
