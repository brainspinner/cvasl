{
 "cells": [
  {
   "cell_type": "markdown",
   "id": "a97abf6b-2f60-4841-8699-69af3dc45bae",
   "metadata": {},
   "source": [
    "# Comparing polynomial equations (that estimate age related brain changes)"
   ]
  },
  {
   "cell_type": "markdown",
   "id": "418b7cd5-261d-4ee2-bfea-9639c460acdf",
   "metadata": {},
   "source": [
    "This notebook covers comparing the TOP and StrokeMRI datasets, ina first demo\n",
    "The environment is the normal cvasl environment (mrilander)"
   ]
  },
  {
   "cell_type": "code",
   "execution_count": null,
   "id": "3a246a5a-841c-461f-9c00-c3168d6a1e03",
   "metadata": {
    "tags": []
   },
   "outputs": [],
   "source": [
    "import os       # using operating system dependent functionality (folders)\n",
    "import glob\n",
    "import pandas as pd # data analysis and manipulation\n",
    "import numpy as np    # numerical computing (manipulating and performing operations on arrays of data)\n",
    "\n",
    "\n",
    "import matplotlib.pyplot as plt\n",
    "import seaborn as sns\n",
    "\n",
    "import sys\n",
    "sys.path.insert(0, '../') # path to functions\n",
    "from cvasl import file_handler as fh # \n",
    "from cvasl import mold #\n",
    "from cvasl import carve\n",
    "from cvasl import seperated\n",
    "from cvasl.file_handler import Config"
   ]
  },
  {
   "cell_type": "code",
   "execution_count": null,
   "id": "b1025351-1d06-4505-afaf-12f527bb71b3",
   "metadata": {
    "tags": []
   },
   "outputs": [],
   "source": [
    "# set up data pull\n",
    "config = Config.from_file()\n",
    "root_mri_directory = config.get_directory('raw_data')"
   ]
  },
  {
   "cell_type": "code",
   "execution_count": null,
   "id": "6c87a5c9-9a45-455e-927f-ba9465081101",
   "metadata": {
    "tags": []
   },
   "outputs": [],
   "source": []
  },
  {
   "cell_type": "markdown",
   "id": "aa288388-0cce-4059-82ab-450630b0f1b6",
   "metadata": {},
   "source": [
    "## Let's look through the top and stroke MRI datasets and derive our optimal second degree equasions. We will start with TOP"
   ]
  },
  {
   "cell_type": "code",
   "execution_count": null,
   "id": "09af2f9c-7d9e-410d-9236-7ac18fe2b160",
   "metadata": {
    "tags": []
   },
   "outputs": [],
   "source": []
  },
  {
   "cell_type": "code",
   "execution_count": null,
   "id": "d2db7108-b553-4bbf-a147-613c7bbc06ac",
   "metadata": {
    "tags": []
   },
   "outputs": [],
   "source": [
    "top = os.path.join(root_mri_directory, 'assembled/top_stitched.csv')\n",
    "stroke_mri = os.path.join(root_mri_directory, 'assembled/StrokeMRI_stitched.csv')"
   ]
  },
  {
   "cell_type": "code",
   "execution_count": null,
   "id": "b29dc54e-71b5-454e-a0ff-f6575f2b5a9f",
   "metadata": {
    "tags": []
   },
   "outputs": [],
   "source": [
    "dataframe_top = pd.read_csv(top)\n",
    "dataframe_stroke_mri = pd.read_csv(stroke_mri)"
   ]
  },
  {
   "cell_type": "code",
   "execution_count": null,
   "id": "0b329a80-f215-4345-9747-5e63acb3abc4",
   "metadata": {
    "tags": []
   },
   "outputs": [],
   "source": [
    "#dataframe_top.columns"
   ]
  },
  {
   "cell_type": "code",
   "execution_count": null,
   "id": "bcd78838-9840-48f5-ab24-95fdfe1a8d64",
   "metadata": {
    "tags": []
   },
   "outputs": [],
   "source": [
    "top_polynomial = seperated.polyfit_and_show(\n",
    "        dataframe_top,\n",
    "        'Age',\n",
    "        'GM_vol_Liter',\n",
    "        2,\n",
    "        color1='purple',\n",
    ")"
   ]
  },
  {
   "cell_type": "markdown",
   "id": "2619affe-c3de-42cb-b7b5-e2695dfbc7b5",
   "metadata": {},
   "source": [
    "# Now we derive some facts about the distribution of data in top dataset compared to it's idealized polynomial"
   ]
  },
  {
   "cell_type": "markdown",
   "id": "0a41f6d4-20d4-4347-bcb8-f7a41023e2e3",
   "metadata": {},
   "source": [
    "Our x axis is age, our y axis is the dependant variable. We want to ask how much this dependant variable varies from the derived polynomial"
   ]
  },
  {
   "cell_type": "markdown",
   "id": "6ddf2731-9367-4a09-aad3-db736794bdfd",
   "metadata": {
    "tags": []
   },
   "source": [
    "First, we want to say for each point what is the difference in y on the polynomial versus y on reality"
   ]
  },
  {
   "cell_type": "code",
   "execution_count": null,
   "id": "ab96a2ca-bbb7-41b0-a506-368515e857aa",
   "metadata": {
    "tags": []
   },
   "outputs": [],
   "source": [
    "def derived_function(column,a,b,c):\n",
    "    list_output = []\n",
    "    for value in column:\n",
    "        output = a * (value**2) + b* value + c\n",
    "        list_output.append(output)\n",
    "    return list_output"
   ]
  },
  {
   "cell_type": "code",
   "execution_count": null,
   "id": "efff1520-d37c-4059-aaa0-a354a6dda1d1",
   "metadata": {
    "tags": []
   },
   "outputs": [],
   "source": [
    "estimated_by_top = derived_function(dataframe_top['Age'], -1.18633655e-05, -2.15086048e-03,  7.95379583e-01)"
   ]
  },
  {
   "cell_type": "code",
   "execution_count": null,
   "id": "bad2b13e-0a04-4556-b6af-4d2b995909ca",
   "metadata": {
    "tags": []
   },
   "outputs": [],
   "source": [
    "dataframe_for_difference_top = dataframe_top[['Age', 'GM_vol_Liter']]\n",
    "dataframe_for_difference_top['predicted'] = estimated_by_top\n",
    "dataframe_for_difference_top.sort_values(by=['Age'])"
   ]
  },
  {
   "cell_type": "code",
   "execution_count": null,
   "id": "197d2bb3-86fc-46ec-b245-06fbf0be5024",
   "metadata": {
    "tags": []
   },
   "outputs": [],
   "source": [
    "dataframe_for_difference_top['differences'] = dataframe_for_difference_top['predicted'] - dataframe_for_difference_top['GM_vol_Liter']\n",
    "dataframe_for_difference_top['absolute_differences'] = abs(dataframe_for_difference_top['differences'])\n",
    "dataframe_for_difference_top.describe()"
   ]
  },
  {
   "cell_type": "markdown",
   "id": "370a75cf-f651-4fcc-ba42-289f53b9bcb1",
   "metadata": {},
   "source": [
    "So we see our mean absolute diference and max difference from this ideal polynomial i.e. .046591 and 0.224849.We also see other aspects of distribution."
   ]
  },
  {
   "cell_type": "markdown",
   "id": "2f4c5479-b3cd-469e-a00a-f82e3049461b",
   "metadata": {
    "tags": []
   },
   "source": [
    "## We can ask if the polynomial will work for the other dataset (in this case StrokeMRI)."
   ]
  },
  {
   "cell_type": "code",
   "execution_count": null,
   "id": "afe7e49b-58f4-4c23-96c7-d08d16209373",
   "metadata": {
    "tags": []
   },
   "outputs": [],
   "source": [
    "estimated_stroke_mri = derived_function(dataframe_stroke_mri['Age'], -1.18633655e-05, -2.15086048e-03,  7.95379583e-01)"
   ]
  },
  {
   "cell_type": "code",
   "execution_count": null,
   "id": "6602e23d-13ef-4743-a502-48a636d8ac28",
   "metadata": {
    "tags": []
   },
   "outputs": [],
   "source": [
    "#dataframe_stroke_mri"
   ]
  },
  {
   "cell_type": "code",
   "execution_count": null,
   "id": "0ce0b8cd-8281-42fb-af2b-8552327d302e",
   "metadata": {
    "tags": []
   },
   "outputs": [],
   "source": [
    "dataframe_for_difference_mri = dataframe_stroke_mri[['Age', 'GM_vol']]\n",
    "dataframe_for_difference_mri['predicted'] = estimated_stroke_mri\n",
    "dataframe_for_difference_mri.sort_values(by=['Age'])"
   ]
  },
  {
   "cell_type": "code",
   "execution_count": null,
   "id": "362c11be-f580-4778-89f3-edf5b867a822",
   "metadata": {
    "tags": []
   },
   "outputs": [],
   "source": [
    "dataframe_for_difference_mri['differences'] = dataframe_for_difference_mri['predicted'] - dataframe_for_difference_mri['GM_vol']\n",
    "dataframe_for_difference_mri['absolute_differences'] = abs(dataframe_for_difference_mri['differences'])\n",
    "dataframe_for_difference_mri.describe()"
   ]
  },
  {
   "cell_type": "markdown",
   "id": "a004a670-4bb2-4f79-97f5-99f68c80ee20",
   "metadata": {},
   "source": [
    "So our max difference is actually lower...So in this case one \"fits \" within the distribution of the other..let's already automate that check a bit:"
   ]
  },
  {
   "cell_type": "code",
   "execution_count": null,
   "id": "4cd016f1-99ee-4b3b-a644-08a524c356a8",
   "metadata": {
    "tags": []
   },
   "outputs": [],
   "source": [
    "top_dif_dist = dataframe_for_difference_top.describe()\n",
    "mri_dif_dist = dataframe_for_difference_mri.describe()"
   ]
  },
  {
   "cell_type": "code",
   "execution_count": null,
   "id": "5c7370b6-3296-49ad-a7a8-8a9bade64849",
   "metadata": {
    "tags": []
   },
   "outputs": [],
   "source": [
    "# if this number is positive or zero we are golden!\n",
    "outer_top_minus_outer_mri_top_poly =top_dif_dist['absolute_differences']['max'] - mri_dif_dist['absolute_differences']['max']\n",
    "outer_top_minus_outer_mri_top_poly"
   ]
  },
  {
   "cell_type": "markdown",
   "id": "8712cba7-5f2e-4d26-9856-6b4825e0e15c",
   "metadata": {},
   "source": [
    "Now we need to do this for every column, and this is R1 , experiment one.\n",
    "\n",
    "But we should also do what we just did the other way (see if a strokeMRI derived polynomial will correctly fit the topd dataset)"
   ]
  },
  {
   "cell_type": "markdown",
   "id": "74506410-9c28-414e-9c70-8e52d63b5dc4",
   "metadata": {},
   "source": [
    " Let's do an example for R1, experiment 2"
   ]
  },
  {
   "cell_type": "code",
   "execution_count": null,
   "id": "3b541d0d-541d-480f-acf7-602898fa7db2",
   "metadata": {
    "tags": []
   },
   "outputs": [],
   "source": [
    "mri_polynomial = seperated.polyfit_and_show(\n",
    "        dataframe_stroke_mri,\n",
    "        'Age',\n",
    "        'GM_vol',\n",
    "        2,\n",
    "        color1='purple',\n",
    ")"
   ]
  },
  {
   "cell_type": "markdown",
   "id": "3d9a1096-5c31-4ac1-a4e2-8ecbecbab172",
   "metadata": {
    "tags": []
   },
   "source": []
  },
  {
   "cell_type": "code",
   "execution_count": null,
   "id": "3485bf8b-5491-4d41-addc-6adc0486737c",
   "metadata": {
    "tags": []
   },
   "outputs": [],
   "source": [
    "estimated_by_mri = derived_function(dataframe_stroke_mri['Age'], 5.86414915e-06, -3.40033403e-03 , 8.07896885e-01)"
   ]
  },
  {
   "cell_type": "code",
   "execution_count": null,
   "id": "9d1becec-b1dd-41ac-8998-12e0a8e7432f",
   "metadata": {
    "tags": []
   },
   "outputs": [],
   "source": [
    "reverse_dataframe_for_difference_mri = dataframe_stroke_mri[['Age', 'GM_vol']]\n",
    "reverse_dataframe_for_difference_mri['predicted'] = estimated_by_mri\n",
    "reverse_dataframe_for_difference_mri.sort_values(by=['Age'])"
   ]
  },
  {
   "cell_type": "code",
   "execution_count": null,
   "id": "f392de68-fa45-4378-82d4-584243f8b94b",
   "metadata": {
    "tags": []
   },
   "outputs": [],
   "source": [
    "reverse_dataframe_for_difference_mri['differences'] = reverse_dataframe_for_difference_mri['predicted'] - reverse_dataframe_for_difference_mri['GM_vol']\n",
    "reverse_dataframe_for_difference_mri['absolute_differences'] = abs(reverse_dataframe_for_difference_mri['differences'])\n",
    "reverse_dataframe_for_difference_mri.describe()"
   ]
  },
  {
   "cell_type": "code",
   "execution_count": null,
   "id": "d813746c-4455-4b0e-861e-e5c0986f0375",
   "metadata": {
    "tags": []
   },
   "outputs": [],
   "source": [
    "estimated_by_mri_to_top = derived_function(dataframe_top['Age'], 5.86414915e-06, -3.40033403e-03 , 8.07896885e-01)"
   ]
  },
  {
   "cell_type": "code",
   "execution_count": null,
   "id": "86a25115-ae18-4c00-b324-47ca57f31f9d",
   "metadata": {
    "tags": []
   },
   "outputs": [],
   "source": [
    "reverse_dataframe_for_difference_top = dataframe_top[['Age', 'GM_vol_Liter']]\n",
    "reverse_dataframe_for_difference_top['predicted'] = estimated_by_mri_to_top\n",
    "reverse_dataframe_for_difference_top.sort_values(by=['Age'])"
   ]
  },
  {
   "cell_type": "code",
   "execution_count": null,
   "id": "d50a5e2b-f657-4436-9d7b-2e857e6aa62c",
   "metadata": {
    "tags": []
   },
   "outputs": [],
   "source": [
    "reverse_dataframe_for_difference_top['differences'] = reverse_dataframe_for_difference_top['predicted'] - reverse_dataframe_for_difference_top['GM_vol_Liter']\n",
    "reverse_dataframe_for_difference_top['absolute_differences'] = abs(reverse_dataframe_for_difference_top['differences'])\n",
    "reverse_dataframe_for_difference_top.describe()"
   ]
  },
  {
   "cell_type": "markdown",
   "id": "725b8991-6600-4a45-9405-470edcd770ed",
   "metadata": {},
   "source": [
    "So here our max difference was 0.215926...very close, and the same with the 50, and 75% of the distributions...close not perfect but close."
   ]
  },
  {
   "cell_type": "markdown",
   "id": "bfe13b3e-e9a8-42f0-8cfb-f4940843d789",
   "metadata": {
    "tags": []
   },
   "source": [
    "## Histogram comparison\n",
    "\n",
    "We examined the polynomials and the distributions at a coarse level. But we can use hisograms to be more exact."
   ]
  },
  {
   "cell_type": "markdown",
   "id": "c2d226a1-f977-4e78-bd0e-b9cb42d68e24",
   "metadata": {},
   "source": [
    "Let's look at the differences of each off the perfectly fit TOP polynomial. We saw with the describe method 0.25 is probably a good absolute difference; but let's check visually"
   ]
  },
  {
   "cell_type": "code",
   "execution_count": null,
   "id": "9bcccbb2-2ab5-4e2c-8158-8de429cfc45a",
   "metadata": {
    "tags": []
   },
   "outputs": [],
   "source": [
    "dataframe_for_difference_top.hist(column='differences')"
   ]
  },
  {
   "cell_type": "code",
   "execution_count": null,
   "id": "c41bc3dc-a02b-48ea-b766-891f4e69c76d",
   "metadata": {
    "tags": []
   },
   "outputs": [],
   "source": [
    "dataframe_for_difference_mri.hist(column='differences')"
   ]
  },
  {
   "cell_type": "markdown",
   "id": "8b3dc5d1-f045-43b7-abcd-97a69cbdd9ca",
   "metadata": {},
   "source": [
    "## Precision histogram comparison.\n",
    "Let's state the obvious. The datasets are not the same size. One has 588 people, one has 533 or so. We will need to compendate for this.\n",
    "But first let's now make histograms onto the same scale in terms of the limits."
   ]
  },
  {
   "cell_type": "code",
   "execution_count": null,
   "id": "bd7267c9-cf0f-4823-a80d-b00980757542",
   "metadata": {
    "tags": []
   },
   "outputs": [],
   "source": [
    "top_dif_histogram , bin_edges= np.histogram(dataframe_for_difference_top.differences, bins=10, range=(-0.25, 0.25), density=None, weights=None)\n",
    "mri_dif_histogram , bin_edges = np.histogram(dataframe_for_difference_mri.differences, bins=10, range=(-0.25, 0.25), density=None, weights=None)\n",
    "#dataframe_for_difference_mri"
   ]
  },
  {
   "cell_type": "code",
   "execution_count": null,
   "id": "17983eae-e840-481f-a386-dd8c1e77dd58",
   "metadata": {
    "tags": []
   },
   "outputs": [],
   "source": [
    "1000/len(dataframe_for_difference_top)"
   ]
  },
  {
   "cell_type": "code",
   "execution_count": null,
   "id": "1cef2d8d-f1e3-4bf1-84fe-650f56cb28f9",
   "metadata": {
    "tags": []
   },
   "outputs": [],
   "source": [
    "# rescale values\n",
    "multiplier = len(dataframe_for_difference_top)/len(dataframe_for_difference_mri)\n",
    "multiplier"
   ]
  },
  {
   "cell_type": "code",
   "execution_count": null,
   "id": "08551903-5d3e-48d9-ac04-8b46dc159a33",
   "metadata": {
    "tags": []
   },
   "outputs": [],
   "source": [
    "#Now we must rescale the values in dataframe_for_difference_mri\n",
    "scaled_mri_dif_histogram = mri_dif_histogram * multiplier"
   ]
  },
  {
   "cell_type": "markdown",
   "id": "f684227b-be90-427f-bd67-368c425fb50a",
   "metadata": {
    "tags": []
   },
   "source": [
    "Again, let's inspect visually"
   ]
  },
  {
   "cell_type": "code",
   "execution_count": null,
   "id": "098e104f-61bb-4807-8d8b-f48b5a912791",
   "metadata": {
    "tags": []
   },
   "outputs": [],
   "source": [
    "plt.figure(figsize=[10,6])\n",
    "\n",
    "plt.bar(bin_edges[:10], top_dif_histogram, width = 0.03, color='#0504aa',alpha=0.5)\n",
    "plt.xlim(min(bin_edges), max(bin_edges))\n",
    "plt.grid(axis='y', alpha=0.75)\n",
    "#plt.xlabel('Value Difference',fontsize=15)\n",
    "#plt.ylabel('Frequency',fontsize=15)\n",
    "plt.xticks(fontsize=15)\n",
    "plt.yticks(fontsize=15)\n",
    "plt.ylabel('Frequency',fontsize=15)\n",
    "#plt.title('Difference from Polynomial Distribution Histograms',fontsize=15)\n",
    "#plt.show()\n",
    "plt.bar(bin_edges[:10], scaled_mri_dif_histogram, width = 0.03, color='#FF00FF',alpha=0.5)\n",
    "plt.xlim(min(bin_edges), max(bin_edges))\n",
    "plt.grid(axis='y', alpha=0.75)\n",
    "plt.xlabel('Residuals Scaled',fontsize=15)\n",
    "plt.ylabel('Frequency',fontsize=15)\n",
    "plt.xticks(fontsize=15)\n",
    "plt.yticks(fontsize=15)\n",
    "plt.ylabel('Frequency',fontsize=15)\n",
    "plt.title('Difference from Polynomial Distribution Histogram',fontsize=15)\n",
    "plt.show()"
   ]
  },
  {
   "cell_type": "markdown",
   "id": "67178550-e37b-4b24-a509-225df5a1695a",
   "metadata": {},
   "source": [
    "## violin plot between harmonized and non-harmonized dataset!"
   ]
  },
  {
   "cell_type": "markdown",
   "id": "00c92ba5-a6fc-46a5-833b-eb95eb7dd0bd",
   "metadata": {},
   "source": [
    "## add check by features e.g. sex"
   ]
  },
  {
   "cell_type": "markdown",
   "id": "4cb1f88a-1f95-4708-858b-421326baf139",
   "metadata": {
    "tags": []
   },
   "source": [
    "## Try to find something like Dice score, calculate integral of difference of histograms?"
   ]
  },
  {
   "cell_type": "markdown",
   "id": "f35cb71d-c512-4e7d-81a7-07a78599b891",
   "metadata": {},
   "source": [
    "# So we want our histogram to be comparable to other histograms...we can scale every histogram to a 100 patient population,not so coincidentally, "
   ]
  },
  {
   "cell_type": "code",
   "execution_count": null,
   "id": "414cf178-d330-4edb-8737-e49e2761df53",
   "metadata": {
    "tags": []
   },
   "outputs": [],
   "source": [
    "scaled_histogram_difference = top_dif_histogram - scaled_mri_dif_histogram\n",
    "hundred_scaled_histo_diff = scaled_histogram_difference * (100 / len(dataframe_for_difference_top))"
   ]
  },
  {
   "cell_type": "code",
   "execution_count": null,
   "id": "19735ea5-6aae-4284-874b-3781b3f250a6",
   "metadata": {
    "tags": []
   },
   "outputs": [],
   "source": [
    "hundred_scaled_histo_diff"
   ]
  },
  {
   "cell_type": "code",
   "execution_count": null,
   "id": "82480701-1233-4c9d-ab2f-eab951d05611",
   "metadata": {
    "tags": []
   },
   "outputs": [],
   "source": [
    "plt.figure(figsize=[10,6])\n",
    "\n",
    "plt.bar(bin_edges[:10], hundred_scaled_histo_diff, width = 0.03, color='#0504aa',alpha=0.5)\n",
    "plt.xlim(min(bin_edges), max(bin_edges))\n",
    "plt.grid(axis='y', alpha=0.75)\n",
    "plt.xlabel('Value Difference between two distributions',fontsize=15)\n",
    "#plt.ylabel('Frequency',fontsize=15)\n",
    "plt.xticks(fontsize=15)\n",
    "plt.yticks(fontsize=15)\n",
    "plt.ylabel('Frequency',fontsize=15)\n",
    "plt.title('\"Residuals\" from Polynomial Distribution Histograms both datasets',fontsize=15)\n",
    "#plt.show()"
   ]
  },
  {
   "cell_type": "markdown",
   "id": "f3c03c6a-ea3b-48b4-b754-78d22cbbc8c9",
   "metadata": {},
   "source": [
    "### So we see the distribution over deciles can differ  but always under 10% of the total patient population. Not impressive, so this supports them having essentially the same population, in a \"street logic\" sense...this is not a scientific approach, just a reality check 'man on the street' kind of test"
   ]
  },
  {
   "cell_type": "markdown",
   "id": "6fbfd8b3-37c1-4680-96e0-fb8f1d3346a5",
   "metadata": {
    "tags": []
   },
   "source": [
    "## Now let's be more precise and think about histograms of residuals"
   ]
  },
  {
   "cell_type": "markdown",
   "id": "2071393e-df95-4b39-8948-8336a7996e9e",
   "metadata": {},
   "source": [
    "### Must consult with scientists on precise mechanism to compare across datasets"
   ]
  },
  {
   "cell_type": "markdown",
   "id": "ecb461cc-5481-452d-9189-85f57c17e015",
   "metadata": {},
   "source": [
    "Let's move on to R1, medthod 2"
   ]
  },
  {
   "cell_type": "markdown",
   "id": "a80238c7-1385-45cd-b6b1-d7e781d95b5e",
   "metadata": {},
   "source": [
    "## Comparing our polynomials with a transformation matrix"
   ]
  },
  {
   "cell_type": "code",
   "execution_count": null,
   "id": "51097558-0aab-42be-825f-cfa490cc5215",
   "metadata": {
    "tags": []
   },
   "outputs": [],
   "source": [
    "comparable_matrix = seperated.generate_transformation_matrix(tuple(top_polynomial),tuple(mri_polynomial))\n",
    "comparable_matrix"
   ]
  },
  {
   "cell_type": "markdown",
   "id": "03bc9391-5790-4b85-970a-1864ec54c7a1",
   "metadata": {},
   "source": [
    "OK, so we did not do well in terms of a transformation matrix. Our equasions did not come close to an identity matrix, but they give us some idea of what we may expact for things coming off the same machine. In truth this is not so far from an identity matrix (order of magnitude wise)"
   ]
  },
  {
   "cell_type": "markdown",
   "id": "c03692cb-60c8-42db-ab88-1c41330b682c",
   "metadata": {},
   "source": [
    "# Now on to more sophisticated comparison algorithms i.e. COMBAT or method 3"
   ]
  },
  {
   "cell_type": "markdown",
   "id": "26b85df0-4501-4bd9-af44-8bbab06ddad0",
   "metadata": {},
   "source": [
    "unh, neurocombat is a Python 3.7 tool, and not updated for 2 years...https://github.com/Jfortin1/ComBatHarmonization/tree/master/Python it depends on numpy==1.16.5 and pandas==1.0.3"
   ]
  },
  {
   "cell_type": "code",
   "execution_count": null,
   "id": "13856cef-6aee-4210-b5e8-c3dd4ef50ea1",
   "metadata": {
    "tags": []
   },
   "outputs": [],
   "source": [
    "print(np.__version__)"
   ]
  },
  {
   "cell_type": "code",
   "execution_count": null,
   "id": "22e380de-8b27-4015-a39e-03bb790699ae",
   "metadata": {
    "tags": []
   },
   "outputs": [],
   "source": [
    "print(pd.__version__)"
   ]
  },
  {
   "cell_type": "markdown",
   "id": "14f73322-053d-4572-b06f-8db624d49bf9",
   "metadata": {},
   "source": [
    "So in short we will need to check especially if the pandas underlying it will create problems for it now.\n"
   ]
  },
  {
   "cell_type": "code",
   "execution_count": null,
   "id": "17d90394-bedd-4c26-96ba-a100ba4087b4",
   "metadata": {},
   "outputs": [],
   "source": []
  },
  {
   "cell_type": "markdown",
   "id": "1d95aee7-27a3-406f-8aa7-887fc155625f",
   "metadata": {},
   "source": [
    "This will need some work before we apply the algorithms...but probably our best bet, because it was made for MRI derived values or brain MRI...we will alo create a seperate environment for the COMBAT experiments...it does seem to build in a combo of mamba and pip. "
   ]
  },
  {
   "cell_type": "markdown",
   "id": "f86f8ef4-b294-4b7a-b544-ab7d4e39c431",
   "metadata": {},
   "source": [
    "## Generating transformed data with our matrix and equasions"
   ]
  },
  {
   "cell_type": "markdown",
   "id": "0631e7cb-7ba5-4ece-ad10-82e2a087d73f",
   "metadata": {},
   "source": [
    "We have now seen we could transform the data of one into the data on the other...Let's try\n",
    "first a graph of the diffent polynomials"
   ]
  },
  {
   "cell_type": "code",
   "execution_count": null,
   "id": "f916c0cd-f282-4d5b-9498-635f89d5ef2e",
   "metadata": {
    "tags": []
   },
   "outputs": [],
   "source": [
    "top_polynomial1 = seperated.polyfit_and_show(\n",
    "        dataframe_top,\n",
    "        'Age',\n",
    "        'GM_vol_Liter',\n",
    "        2,\n",
    "        color1='purple',\n",
    ")\n",
    "mri_polynomial2 = seperated.polyfit_and_show(\n",
    "        dataframe_stroke_mri,\n",
    "        'Age',\n",
    "        'GM_vol',\n",
    "        2,\n",
    "        color1='orange',\n",
    ")"
   ]
  },
  {
   "cell_type": "markdown",
   "id": "a69607d9-050a-4be1-a258-7c6a78b60e24",
   "metadata": {},
   "source": [
    "# Add histograms of residuals\n",
    "to be added"
   ]
  },
  {
   "cell_type": "code",
   "execution_count": null,
   "id": "f3911d56-b713-47e2-9d65-acc9fde49350",
   "metadata": {
    "tags": []
   },
   "outputs": [],
   "source": [
    "# generate mri_polynomial from top_polynomial and transformation_matrix\n",
    "matrix1 = seperated.generate_transformation_matrix(top_polynomial1,mri_polynomial2)\n",
    "pol_made_mri_from_top = (top_polynomial1 * matrix1).sum(axis=1)     \n",
    "#pol_made_mri_from_top\n",
    "matrix2 = seperated.generate_transformation_matrix(mri_polynomial2, top_polynomial1)\n",
    "pol_made_mri_topish = (mri_polynomial2 * matrix2).sum(axis=1)     \n",
    "pol_made_mri_topish"
   ]
  },
  {
   "cell_type": "code",
   "execution_count": null,
   "id": "c74f17fd-4b54-4354-a856-2a0524da4000",
   "metadata": {
    "tags": []
   },
   "outputs": [],
   "source": [
    "pol_made_mri_from_top "
   ]
  },
  {
   "cell_type": "markdown",
   "id": "96fce6a5-6b50-416c-b29d-e037129f9e03",
   "metadata": {},
   "source": [
    "# Now let's use a  synthetic set to prove a point about how this would transform "
   ]
  },
  {
   "cell_type": "markdown",
   "id": "cfa63508-48ce-4f0f-b6ab-f9646defcb2a",
   "metadata": {
    "tags": []
   },
   "source": [
    "IN both cases the first number in the awway is very close to zero...so we have something close to a line. Therefore we can use simple arethmatic approaches. "
   ]
  },
  {
   "cell_type": "code",
   "execution_count": null,
   "id": "20477ad8-740b-4244-bb28-7be9712505ce",
   "metadata": {
    "tags": []
   },
   "outputs": [],
   "source": [
    "synthetic_set = dataframe_stroke_mri\n",
    "synthetic_set['GM_vol2']= synthetic_set['GM_vol'] + 0.2\n",
    "#synthetic_set[['GM_vol2','GM_vol']]\n",
    "random_noise = []\n",
    "for value in synthetic_set['GM_vol2']:\n",
    "    value = np.random.randint(12)/120\n",
    "    random_noise.append(value)\n",
    "synthetic_set['GM_vol_adder']= random_noise\n",
    "synthetic_set['GM_vol3'] =  synthetic_set['GM_vol'] + synthetic_set['GM_vol_adder']\n",
    "\n"
   ]
  },
  {
   "cell_type": "code",
   "execution_count": null,
   "id": "1535df8b-8115-4736-90cc-194b261d6419",
   "metadata": {
    "tags": []
   },
   "outputs": [],
   "source": [
    "synthetic_polynomial1 = seperated.polyfit_and_show(\n",
    "        synthetic_set,\n",
    "        'Age',\n",
    "        'GM_vol3',\n",
    "        2,\n",
    "        color1='purple',\n",
    ")\n",
    "mri_polynomial2 = seperated.polyfit_and_show(\n",
    "        dataframe_stroke_mri,\n",
    "        'Age',\n",
    "        'GM_vol',\n",
    "        2,\n",
    "        color1='orange',\n",
    ")"
   ]
  },
  {
   "cell_type": "markdown",
   "id": "a2cfc9d3-19be-4695-b905-709914acd645",
   "metadata": {},
   "source": [
    "Let's see how our transformation matrix does at identifying these purposely different dataset,\n",
    "remembering we want to think in terms of difference from an identity matrix"
   ]
  },
  {
   "cell_type": "code",
   "execution_count": null,
   "id": "7019ce04-40a1-47ea-8a3b-5a0bc63872f0",
   "metadata": {
    "tags": []
   },
   "outputs": [],
   "source": [
    "identity_matrix_3 =np.array([[1,0,0],[0,1,0],[0,0,1]] )\n",
    "identity_matrix_3"
   ]
  },
  {
   "cell_type": "code",
   "execution_count": null,
   "id": "ebc942da-4b0d-4a14-9978-9cf6a7a9cd28",
   "metadata": {
    "tags": []
   },
   "outputs": [],
   "source": [
    "purposely_different_matrix =seperated.generate_transformation_matrix(tuple(synthetic_polynomial1),tuple(mri_polynomial2))\n",
    "purposely_different_matrix"
   ]
  },
  {
   "cell_type": "code",
   "execution_count": null,
   "id": "21b77a01-b131-461f-8348-bfbb5eb63d51",
   "metadata": {
    "tags": []
   },
   "outputs": [],
   "source": [
    "identity_matrix_3 - purposely_different_matrix"
   ]
  },
  {
   "cell_type": "code",
   "execution_count": null,
   "id": "c708aaa8-8ec0-4c06-86f8-1ff30d9ad486",
   "metadata": {
    "tags": []
   },
   "outputs": [],
   "source": [
    "identity_matrix_3 - comparable_matrix"
   ]
  },
  {
   "cell_type": "markdown",
   "id": "215d4bf0-5946-401c-affd-d45860a928c6",
   "metadata": {
    "tags": []
   },
   "source": [
    "It looks like a linear algebra based method is not identifying translated datasets well! Notive the term in the bottom right is the closes, and this is where we would expect translation information"
   ]
  },
  {
   "cell_type": "markdown",
   "id": "2d718afd-ac07-4c2f-aafd-b526abc42ca9",
   "metadata": {},
   "source": [
    "# This must now be automatied for every parameter over these datasets."
   ]
  },
  {
   "cell_type": "code",
   "execution_count": null,
   "id": "c4acb853-b4fc-4936-9977-91fb62f4a0d6",
   "metadata": {},
   "outputs": [],
   "source": []
  }
 ],
 "metadata": {
  "kernelspec": {
   "display_name": "Python 3 (ipykernel)",
   "language": "python",
   "name": "python3"
  },
  "language_info": {
   "codemirror_mode": {
    "name": "ipython",
    "version": 3
   },
   "file_extension": ".py",
   "mimetype": "text/x-python",
   "name": "python",
   "nbconvert_exporter": "python",
   "pygments_lexer": "ipython3",
   "version": "3.9.16"
  }
 },
 "nbformat": 4,
 "nbformat_minor": 5
}
