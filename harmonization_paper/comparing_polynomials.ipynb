{
 "cells": [
  {
   "cell_type": "markdown",
   "id": "0",
   "metadata": {},
   "source": [
    "# Comparing polynomial equations (that estimate age related brain changes)"
   ]
  },
  {
   "cell_type": "markdown",
   "id": "1",
   "metadata": {},
   "source": [
    "This notebook covers comparing the TOP and StrokeMRI datasets, ina first demo\n",
    "The environment is the normal cvasl environment (mrilander)"
   ]
  },
  {
   "cell_type": "code",
   "execution_count": null,
   "id": "2",
   "metadata": {
    "tags": []
   },
   "outputs": [],
   "source": [
    "import os       # using operating system dependent functionality (folders)\n",
    "import glob\n",
    "import pandas as pd # data analysis and manipulation\n",
    "import numpy as np    # numerical computing (manipulating and performing operations on arrays of data)\n",
    "\n",
    "\n",
    "import matplotlib.pyplot as plt\n",
    "import seaborn as sns\n",
    "\n",
    "import sys\n",
    "sys.path.insert(0, '../') # path to functions\n",
    "from cvasl import file_handler as fh # \n",
    "from cvasl import mold #\n",
    "from cvasl import carve\n",
    "from cvasl import seperated\n",
    "from cvasl.file_handler import Config"
   ]
  },
  {
   "cell_type": "code",
   "execution_count": null,
   "id": "3",
   "metadata": {
    "tags": []
   },
   "outputs": [],
   "source": [
    "# set up data pull\n",
    "config = Config.from_file()\n",
    "root_mri_directory = config.get_directory('raw_data')"
   ]
  },
  {
   "cell_type": "code",
   "execution_count": null,
   "id": "4",
   "metadata": {
    "tags": []
   },
   "outputs": [],
   "source": []
  },
  {
   "cell_type": "markdown",
   "id": "5",
   "metadata": {},
   "source": [
    "## Let's look through the top and stroke MRI datasets and derive our optimal second degree equasions. We will start with TOP"
   ]
  },
  {
   "cell_type": "code",
   "execution_count": null,
   "id": "6",
   "metadata": {
    "tags": []
   },
   "outputs": [],
   "source": []
  },
  {
   "cell_type": "code",
   "execution_count": null,
   "id": "7",
   "metadata": {
    "tags": []
   },
   "outputs": [],
   "source": [
    "top = os.path.join(root_mri_directory, 'assembled/top_stitched.csv')\n",
    "stroke_mri = os.path.join(root_mri_directory, 'assembled/StrokeMRI_stitched.csv')"
   ]
  },
  {
   "cell_type": "code",
   "execution_count": null,
   "id": "8",
   "metadata": {
    "tags": []
   },
   "outputs": [],
   "source": [
    "dataframe_top = pd.read_csv(top)\n",
    "dataframe_stroke_mri = pd.read_csv(stroke_mri)"
   ]
  },
  {
   "cell_type": "code",
   "execution_count": null,
   "id": "9",
   "metadata": {
    "tags": []
   },
   "outputs": [],
   "source": [
    "#dataframe_top.columns"
   ]
  },
  {
   "cell_type": "code",
   "execution_count": null,
   "id": "10",
   "metadata": {
    "tags": []
   },
   "outputs": [],
   "source": [
    "top_polynomial = seperated.polyfit_and_show(\n",
    "        dataframe_top,\n",
    "        'Age',\n",
    "        'GM_vol_Liter',\n",
    "        2,\n",
    "        color1='purple',\n",
    ")"
   ]
  },
  {
   "cell_type": "markdown",
   "id": "11",
   "metadata": {},
   "source": [
    "# Now we derive some facts about the distribution of data in top dataset compared to it's idealized polynomial"
   ]
  },
  {
   "cell_type": "markdown",
   "id": "12",
   "metadata": {},
   "source": [
    "Our x axis is age, our y axis is the dependant variable. We want to ask how much this dependant variable varies from the derived polynomial"
   ]
  },
  {
   "cell_type": "markdown",
   "id": "13",
   "metadata": {
    "tags": []
   },
   "source": [
    "First, we want to say for each point what is the difference in y on the polynomial versus y on reality"
   ]
  },
  {
   "cell_type": "code",
   "execution_count": null,
   "id": "14",
   "metadata": {
    "tags": []
   },
   "outputs": [],
   "source": [
    "def derived_function(column,a,b,c):\n",
    "    list_output = []\n",
    "    for value in column:\n",
    "        output = a * (value**2) + b* value + c\n",
    "        list_output.append(output)\n",
    "    return list_output"
   ]
  },
  {
   "cell_type": "code",
   "execution_count": null,
   "id": "15",
   "metadata": {
    "tags": []
   },
   "outputs": [],
   "source": [
    "estimated_by_top = derived_function(dataframe_top['Age'], -1.18633655e-05, -2.15086048e-03,  7.95379583e-01)"
   ]
  },
  {
   "cell_type": "code",
   "execution_count": null,
   "id": "16",
   "metadata": {
    "tags": []
   },
   "outputs": [],
   "source": [
    "dataframe_for_difference_top = dataframe_top[['Age', 'GM_vol_Liter']]\n",
    "dataframe_for_difference_top['predicted'] = estimated_by_top\n",
    "dataframe_for_difference_top.sort_values(by=['Age'])"
   ]
  },
  {
   "cell_type": "code",
   "execution_count": null,
   "id": "17",
   "metadata": {
    "tags": []
   },
   "outputs": [],
   "source": [
    "dataframe_for_difference_top['differences'] = dataframe_for_difference_top['predicted'] - dataframe_for_difference_top['GM_vol_Liter']\n",
    "dataframe_for_difference_top['absolute_differences'] = abs(dataframe_for_difference_top['differences'])\n",
    "dataframe_for_difference_top.describe()"
   ]
  },
  {
   "cell_type": "markdown",
   "id": "18",
   "metadata": {},
   "source": [
    "So we see our mean absolute diference and max difference from this ideal polynomial i.e. .046591 and 0.224849.We also see other aspects of distribution."
   ]
  },
  {
   "cell_type": "markdown",
   "id": "19",
   "metadata": {
    "tags": []
   },
   "source": [
    "## We can ask if the polynomial will work for the other dataset (in this case StrokeMRI)."
   ]
  },
  {
   "cell_type": "code",
   "execution_count": null,
   "id": "20",
   "metadata": {
    "tags": []
   },
   "outputs": [],
   "source": [
    "estimated_stroke_mri = derived_function(dataframe_stroke_mri['Age'], -1.18633655e-05, -2.15086048e-03,  7.95379583e-01)"
   ]
  },
  {
   "cell_type": "code",
   "execution_count": null,
   "id": "21",
   "metadata": {
    "tags": []
   },
   "outputs": [],
   "source": [
    "#dataframe_stroke_mri"
   ]
  },
  {
   "cell_type": "code",
   "execution_count": null,
   "id": "22",
   "metadata": {
    "tags": []
   },
   "outputs": [],
   "source": [
    "dataframe_for_difference_mri = dataframe_stroke_mri[['Age', 'GM_vol']]\n",
    "dataframe_for_difference_mri['predicted'] = estimated_stroke_mri\n",
    "dataframe_for_difference_mri.sort_values(by=['Age'])"
   ]
  },
  {
   "cell_type": "code",
   "execution_count": null,
   "id": "23",
   "metadata": {
    "tags": []
   },
   "outputs": [],
   "source": [
    "dataframe_for_difference_mri['differences'] = dataframe_for_difference_mri['predicted'] - dataframe_for_difference_mri['GM_vol']\n",
    "dataframe_for_difference_mri['absolute_differences'] = abs(dataframe_for_difference_mri['differences'])\n",
    "dataframe_for_difference_mri.describe()"
   ]
  },
  {
   "cell_type": "markdown",
   "id": "24",
   "metadata": {},
   "source": [
    "So our max difference is actually lower...So in this case one \"fits \" within the distribution of the other..let's already automate that check a bit:"
   ]
  },
  {
   "cell_type": "code",
   "execution_count": null,
   "id": "25",
   "metadata": {
    "tags": []
   },
   "outputs": [],
   "source": [
    "top_dif_dist = dataframe_for_difference_top.describe()\n",
    "mri_dif_dist = dataframe_for_difference_mri.describe()"
   ]
  },
  {
   "cell_type": "code",
   "execution_count": null,
   "id": "26",
   "metadata": {
    "tags": []
   },
   "outputs": [],
   "source": [
    "# if this number is positive or zero we are golden!\n",
    "outer_top_minus_outer_mri_top_poly =top_dif_dist['absolute_differences']['max'] - mri_dif_dist['absolute_differences']['max']\n",
    "outer_top_minus_outer_mri_top_poly"
   ]
  },
  {
   "cell_type": "markdown",
   "id": "27",
   "metadata": {},
   "source": [
    "Now we need to do this for every column, and this is R1 , experiment one.\n",
    "\n",
    "But we should also do what we just did the other way (see if a strokeMRI derived polynomial will correctly fit the topd dataset)"
   ]
  },
  {
   "cell_type": "markdown",
   "id": "28",
   "metadata": {},
   "source": [
    " Let's do an example for R1, experiment 2"
   ]
  },
  {
   "cell_type": "code",
   "execution_count": null,
   "id": "29",
   "metadata": {
    "tags": []
   },
   "outputs": [],
   "source": [
    "mri_polynomial = seperated.polyfit_and_show(\n",
    "        dataframe_stroke_mri,\n",
    "        'Age',\n",
    "        'GM_vol',\n",
    "        2,\n",
    "        color1='purple',\n",
    ")"
   ]
  },
  {
   "cell_type": "markdown",
   "id": "30",
   "metadata": {
    "tags": []
   },
   "source": []
  },
  {
   "cell_type": "code",
   "execution_count": null,
   "id": "31",
   "metadata": {
    "tags": []
   },
   "outputs": [],
   "source": [
    "estimated_by_mri = derived_function(dataframe_stroke_mri['Age'], 5.86414915e-06, -3.40033403e-03 , 8.07896885e-01)"
   ]
  },
  {
   "cell_type": "code",
   "execution_count": null,
   "id": "32",
   "metadata": {
    "tags": []
   },
   "outputs": [],
   "source": [
    "reverse_dataframe_for_difference_mri = dataframe_stroke_mri[['Age', 'GM_vol']]\n",
    "reverse_dataframe_for_difference_mri['predicted'] = estimated_by_mri\n",
    "reverse_dataframe_for_difference_mri.sort_values(by=['Age'])"
   ]
  },
  {
   "cell_type": "code",
   "execution_count": null,
   "id": "33",
   "metadata": {
    "tags": []
   },
   "outputs": [],
   "source": [
    "reverse_dataframe_for_difference_mri['differences'] = reverse_dataframe_for_difference_mri['predicted'] - reverse_dataframe_for_difference_mri['GM_vol']\n",
    "reverse_dataframe_for_difference_mri['absolute_differences'] = abs(reverse_dataframe_for_difference_mri['differences'])\n",
    "reverse_dataframe_for_difference_mri.describe()"
   ]
  },
  {
   "cell_type": "code",
   "execution_count": null,
   "id": "34",
   "metadata": {
    "tags": []
   },
   "outputs": [],
   "source": [
    "estimated_by_mri_to_top = derived_function(dataframe_top['Age'], 5.86414915e-06, -3.40033403e-03 , 8.07896885e-01)"
   ]
  },
  {
   "cell_type": "code",
   "execution_count": null,
   "id": "35",
   "metadata": {
    "tags": []
   },
   "outputs": [],
   "source": [
    "reverse_dataframe_for_difference_top = dataframe_top[['Age', 'GM_vol_Liter']]\n",
    "reverse_dataframe_for_difference_top['predicted'] = estimated_by_mri_to_top\n",
    "reverse_dataframe_for_difference_top.sort_values(by=['Age'])"
   ]
  },
  {
   "cell_type": "code",
   "execution_count": null,
   "id": "36",
   "metadata": {
    "tags": []
   },
   "outputs": [],
   "source": [
    "reverse_dataframe_for_difference_top['differences'] = reverse_dataframe_for_difference_top['predicted'] - reverse_dataframe_for_difference_top['GM_vol_Liter']\n",
    "reverse_dataframe_for_difference_top['absolute_differences'] = abs(reverse_dataframe_for_difference_top['differences'])\n",
    "reverse_dataframe_for_difference_top.describe()"
   ]
  },
  {
   "cell_type": "markdown",
   "id": "37",
   "metadata": {},
   "source": [
    "So here our max difference was 0.215926...very close, and the same with the 50, and 75% of the distributions...close not perfect but close."
   ]
  },
  {
   "cell_type": "markdown",
   "id": "38",
   "metadata": {
    "tags": []
   },
   "source": [
    "## Histogram comparison\n",
    "\n",
    "We examined the polynomials and the distributions at a coarse level. But we can use hisograms to be more exact."
   ]
  },
  {
   "cell_type": "markdown",
   "id": "39",
   "metadata": {},
   "source": [
    "Let's look at the differences of each off the perfectly fit TOP polynomial. We saw with the describe method 0.25 is probably a good absolute difference; but let's check visually"
   ]
  },
  {
   "cell_type": "code",
   "execution_count": null,
   "id": "40",
   "metadata": {
    "tags": []
   },
   "outputs": [],
   "source": [
    "dataframe_for_difference_top.hist(column='differences')"
   ]
  },
  {
   "cell_type": "code",
   "execution_count": null,
   "id": "41",
   "metadata": {
    "tags": []
   },
   "outputs": [],
   "source": [
    "dataframe_for_difference_mri.hist(column='differences')"
   ]
  },
  {
   "cell_type": "markdown",
   "id": "42",
   "metadata": {},
   "source": [
    "## Precision histogram comparison.\n",
    "Let's state the obvious. The datasets are not the same size. One has 588 people, one has 533 or so. We will need to compendate for this.\n",
    "But first let's now make histograms onto the same scale in terms of the limits."
   ]
  },
  {
   "cell_type": "code",
   "execution_count": null,
   "id": "43",
   "metadata": {
    "tags": []
   },
   "outputs": [],
   "source": [
    "top_dif_histogram , bin_edges= np.histogram(dataframe_for_difference_top.differences, bins=10, range=(-0.25, 0.25), density=None, weights=None)\n",
    "mri_dif_histogram , bin_edges = np.histogram(dataframe_for_difference_mri.differences, bins=10, range=(-0.25, 0.25), density=None, weights=None)\n",
    "#dataframe_for_difference_mri"
   ]
  },
  {
   "cell_type": "code",
   "execution_count": null,
   "id": "44",
   "metadata": {
    "tags": []
   },
   "outputs": [],
   "source": [
    "1000/len(dataframe_for_difference_top)"
   ]
  },
  {
   "cell_type": "code",
   "execution_count": null,
   "id": "45",
   "metadata": {
    "tags": []
   },
   "outputs": [],
   "source": [
    "# rescale values\n",
    "multiplier = len(dataframe_for_difference_top)/len(dataframe_for_difference_mri)\n",
    "multiplier"
   ]
  },
  {
   "cell_type": "code",
   "execution_count": null,
   "id": "46",
   "metadata": {
    "tags": []
   },
   "outputs": [],
   "source": [
    "#Now we must rescale the values in dataframe_for_difference_mri\n",
    "scaled_mri_dif_histogram = mri_dif_histogram * multiplier"
   ]
  },
  {
   "cell_type": "markdown",
   "id": "47",
   "metadata": {
    "tags": []
   },
   "source": [
    "Again, let's inspect visually"
   ]
  },
  {
   "cell_type": "code",
   "execution_count": null,
   "id": "48",
   "metadata": {
    "tags": []
   },
   "outputs": [],
   "source": [
    "plt.figure(figsize=[10,6])\n",
    "\n",
    "plt.bar(bin_edges[:10], top_dif_histogram, width = 0.03, color='#0504aa',alpha=0.5)\n",
    "plt.xlim(min(bin_edges), max(bin_edges))\n",
    "plt.grid(axis='y', alpha=0.75)\n",
    "#plt.xlabel('Value Difference',fontsize=15)\n",
    "#plt.ylabel('Frequency',fontsize=15)\n",
    "plt.xticks(fontsize=15)\n",
    "plt.yticks(fontsize=15)\n",
    "plt.ylabel('Frequency',fontsize=15)\n",
    "#plt.title('Difference from Polynomial Distribution Histograms',fontsize=15)\n",
    "#plt.show()\n",
    "plt.bar(bin_edges[:10], scaled_mri_dif_histogram, width = 0.03, color='#FF00FF',alpha=0.5)\n",
    "plt.xlim(min(bin_edges), max(bin_edges))\n",
    "plt.grid(axis='y', alpha=0.75)\n",
    "plt.xlabel('Residuals Scaled',fontsize=15)\n",
    "plt.ylabel('Frequency',fontsize=15)\n",
    "plt.xticks(fontsize=15)\n",
    "plt.yticks(fontsize=15)\n",
    "plt.ylabel('Frequency',fontsize=15)\n",
    "plt.title('Difference from Polynomial Distribution Histogram',fontsize=15)\n",
    "plt.show()"
   ]
  },
  {
   "cell_type": "markdown",
   "id": "49",
   "metadata": {},
   "source": [
    "## violin plot between harmonized and non-harmonized dataset!"
   ]
  },
  {
   "cell_type": "markdown",
   "id": "50",
   "metadata": {},
   "source": [
    "## add check by features e.g. sex"
   ]
  },
  {
   "cell_type": "markdown",
   "id": "51",
   "metadata": {
    "tags": []
   },
   "source": [
    "## Try to find something like Dice score, calculate integral of difference of histograms?"
   ]
  },
  {
   "cell_type": "markdown",
   "id": "52",
   "metadata": {},
   "source": [
    "# So we want our histogram to be comparable to other histograms...we can scale every histogram to a 100 patient population,not so coincidentally, "
   ]
  },
  {
   "cell_type": "code",
   "execution_count": null,
   "id": "53",
   "metadata": {
    "tags": []
   },
   "outputs": [],
   "source": [
    "scaled_histogram_difference = top_dif_histogram - scaled_mri_dif_histogram\n",
    "hundred_scaled_histo_diff = scaled_histogram_difference * (100 / len(dataframe_for_difference_top))"
   ]
  },
  {
   "cell_type": "code",
   "execution_count": null,
   "id": "54",
   "metadata": {
    "tags": []
   },
   "outputs": [],
   "source": [
    "hundred_scaled_histo_diff"
   ]
  },
  {
   "cell_type": "code",
   "execution_count": null,
   "id": "55",
   "metadata": {
    "tags": []
   },
   "outputs": [],
   "source": [
    "plt.figure(figsize=[10,6])\n",
    "\n",
    "plt.bar(bin_edges[:10], hundred_scaled_histo_diff, width = 0.03, color='#0504aa',alpha=0.5)\n",
    "plt.xlim(min(bin_edges), max(bin_edges))\n",
    "plt.grid(axis='y', alpha=0.75)\n",
    "plt.xlabel('Value Difference between two distributions',fontsize=15)\n",
    "#plt.ylabel('Frequency',fontsize=15)\n",
    "plt.xticks(fontsize=15)\n",
    "plt.yticks(fontsize=15)\n",
    "plt.ylabel('Frequency',fontsize=15)\n",
    "plt.title('\"Residuals\" from Polynomial Distribution Histograms both datasets',fontsize=15)\n",
    "#plt.show()"
   ]
  },
  {
   "cell_type": "markdown",
   "id": "56",
   "metadata": {},
   "source": [
    "### So we see the distribution over deciles can differ  but always under 10% of the total patient population. Not impressive, so this supports them having essentially the same population, in a \"street logic\" sense...this is not a scientific approach, just a reality check 'man on the street' kind of test"
   ]
  },
  {
   "cell_type": "markdown",
   "id": "57",
   "metadata": {
    "tags": []
   },
   "source": [
    "## Now let's be more precise and think about histograms of residuals"
   ]
  },
  {
   "cell_type": "markdown",
   "id": "58",
   "metadata": {},
   "source": [
    "### Must consult with scientists on precise mechanism to compare across datasets"
   ]
  },
  {
   "cell_type": "markdown",
   "id": "59",
   "metadata": {},
   "source": [
    "Let's move on to R1, medthod 2"
   ]
  },
  {
   "cell_type": "markdown",
   "id": "60",
   "metadata": {},
   "source": [
    "## Comparing our polynomials with a transformation matrix"
   ]
  },
  {
   "cell_type": "code",
   "execution_count": null,
   "id": "61",
   "metadata": {
    "tags": []
   },
   "outputs": [],
   "source": [
    "comparable_matrix = seperated.generate_transformation_matrix(tuple(top_polynomial),tuple(mri_polynomial))\n",
    "comparable_matrix"
   ]
  },
  {
   "cell_type": "markdown",
   "id": "62",
   "metadata": {},
   "source": [
    "OK, so we did not do well in terms of a transformation matrix. Our equasions did not come close to an identity matrix, but they give us some idea of what we may expact for things coming off the same machine. In truth this is not so far from an identity matrix (order of magnitude wise)"
   ]
  },
  {
   "cell_type": "markdown",
   "id": "63",
   "metadata": {},
   "source": [
    "# Now on to more sophisticated comparison algorithms i.e. COMBAT or method 3"
   ]
  },
  {
   "cell_type": "markdown",
   "id": "64",
   "metadata": {},
   "source": [
    "unh, neurocombat is a Python 3.7 tool, and not updated for 2 years...https://github.com/Jfortin1/ComBatHarmonization/tree/master/Python it depends on numpy==1.16.5 and pandas==1.0.3"
   ]
  },
  {
   "cell_type": "code",
   "execution_count": null,
   "id": "65",
   "metadata": {
    "tags": []
   },
   "outputs": [],
   "source": [
    "print(np.__version__)"
   ]
  },
  {
   "cell_type": "code",
   "execution_count": null,
   "id": "66",
   "metadata": {
    "tags": []
   },
   "outputs": [],
   "source": [
    "print(pd.__version__)"
   ]
  },
  {
   "cell_type": "markdown",
   "id": "67",
   "metadata": {},
   "source": [
    "So in short we will need to check especially if the pandas underlying it will create problems for it now.\n"
   ]
  },
  {
   "cell_type": "code",
   "execution_count": null,
   "id": "68",
   "metadata": {},
   "outputs": [],
   "source": []
  },
  {
   "cell_type": "markdown",
   "id": "69",
   "metadata": {},
   "source": [
    "This will need some work before we apply the algorithms...but probably our best bet, because it was made for MRI derived values or brain MRI...we will alo create a seperate environment for the COMBAT experiments...it does seem to build in a combo of mamba and pip. "
   ]
  },
  {
   "cell_type": "markdown",
   "id": "70",
   "metadata": {},
   "source": [
    "## Generating transformed data with our matrix and equasions"
   ]
  },
  {
   "cell_type": "markdown",
   "id": "71",
   "metadata": {},
   "source": [
    "We have now seen we could transform the data of one into the data on the other...Let's try\n",
    "first a graph of the diffent polynomials"
   ]
  },
  {
   "cell_type": "code",
   "execution_count": null,
   "id": "72",
   "metadata": {
    "tags": []
   },
   "outputs": [],
   "source": [
    "top_polynomial1 = seperated.polyfit_and_show(\n",
    "        dataframe_top,\n",
    "        'Age',\n",
    "        'GM_vol_Liter',\n",
    "        2,\n",
    "        color1='purple',\n",
    ")\n",
    "mri_polynomial2 = seperated.polyfit_and_show(\n",
    "        dataframe_stroke_mri,\n",
    "        'Age',\n",
    "        'GM_vol',\n",
    "        2,\n",
    "        color1='orange',\n",
    ")"
   ]
  },
  {
   "cell_type": "markdown",
   "id": "73",
   "metadata": {},
   "source": [
    "# Add histograms of residuals\n",
    "to be added"
   ]
  },
  {
   "cell_type": "code",
   "execution_count": null,
   "id": "74",
   "metadata": {
    "tags": []
   },
   "outputs": [],
   "source": [
    "# generate mri_polynomial from top_polynomial and transformation_matrix\n",
    "matrix1 = seperated.generate_transformation_matrix(top_polynomial1,mri_polynomial2)\n",
    "pol_made_mri_from_top = (top_polynomial1 * matrix1).sum(axis=1)     \n",
    "#pol_made_mri_from_top\n",
    "matrix2 = seperated.generate_transformation_matrix(mri_polynomial2, top_polynomial1)\n",
    "pol_made_mri_topish = (mri_polynomial2 * matrix2).sum(axis=1)     \n",
    "pol_made_mri_topish"
   ]
  },
  {
   "cell_type": "code",
   "execution_count": null,
   "id": "75",
   "metadata": {
    "tags": []
   },
   "outputs": [],
   "source": [
    "pol_made_mri_from_top "
   ]
  },
  {
   "cell_type": "markdown",
   "id": "76",
   "metadata": {},
   "source": [
    "# Now let's use a  synthetic set to prove a point about how this would transform "
   ]
  },
  {
   "cell_type": "markdown",
   "id": "77",
   "metadata": {
    "tags": []
   },
   "source": [
    "IN both cases the first number in the awway is very close to zero...so we have something close to a line. Therefore we can use simple arethmatic approaches. "
   ]
  },
  {
   "cell_type": "code",
   "execution_count": null,
   "id": "78",
   "metadata": {
    "tags": []
   },
   "outputs": [],
   "source": [
    "synthetic_set = dataframe_stroke_mri\n",
    "synthetic_set['GM_vol2']= synthetic_set['GM_vol'] + 0.2\n",
    "#synthetic_set[['GM_vol2','GM_vol']]\n",
    "random_noise = []\n",
    "for value in synthetic_set['GM_vol2']:\n",
    "    value = np.random.randint(12)/120\n",
    "    random_noise.append(value)\n",
    "synthetic_set['GM_vol_adder']= random_noise\n",
    "synthetic_set['GM_vol3'] =  synthetic_set['GM_vol'] + synthetic_set['GM_vol_adder']\n",
    "\n"
   ]
  },
  {
   "cell_type": "code",
   "execution_count": null,
   "id": "79",
   "metadata": {
    "tags": []
   },
   "outputs": [],
   "source": [
    "synthetic_polynomial1 = seperated.polyfit_and_show(\n",
    "        synthetic_set,\n",
    "        'Age',\n",
    "        'GM_vol3',\n",
    "        2,\n",
    "        color1='purple',\n",
    ")\n",
    "mri_polynomial2 = seperated.polyfit_and_show(\n",
    "        dataframe_stroke_mri,\n",
    "        'Age',\n",
    "        'GM_vol',\n",
    "        2,\n",
    "        color1='orange',\n",
    ")"
   ]
  },
  {
   "cell_type": "markdown",
   "id": "80",
   "metadata": {},
   "source": [
    "Let's see how our transformation matrix does at identifying these purposely different dataset,\n",
    "remembering we want to think in terms of difference from an identity matrix"
   ]
  },
  {
   "cell_type": "code",
   "execution_count": null,
   "id": "81",
   "metadata": {
    "tags": []
   },
   "outputs": [],
   "source": [
    "identity_matrix_3 =np.array([[1,0,0],[0,1,0],[0,0,1]] )\n",
    "identity_matrix_3"
   ]
  },
  {
   "cell_type": "code",
   "execution_count": null,
   "id": "82",
   "metadata": {
    "tags": []
   },
   "outputs": [],
   "source": [
    "purposely_different_matrix =seperated.generate_transformation_matrix(tuple(synthetic_polynomial1),tuple(mri_polynomial2))\n",
    "purposely_different_matrix"
   ]
  },
  {
   "cell_type": "code",
   "execution_count": null,
   "id": "83",
   "metadata": {
    "tags": []
   },
   "outputs": [],
   "source": [
    "identity_matrix_3 - purposely_different_matrix"
   ]
  },
  {
   "cell_type": "code",
   "execution_count": null,
   "id": "84",
   "metadata": {
    "tags": []
   },
   "outputs": [],
   "source": [
    "identity_matrix_3 - comparable_matrix"
   ]
  },
  {
   "cell_type": "markdown",
   "id": "85",
   "metadata": {
    "tags": []
   },
   "source": [
    "It looks like a linear algebra based method is not identifying translated datasets well! Notive the term in the bottom right is the closes, and this is where we would expect translation information"
   ]
  },
  {
   "cell_type": "markdown",
   "id": "86",
   "metadata": {},
   "source": [
    "# This must now be automatied for every parameter over these datasets."
   ]
  },
  {
   "cell_type": "code",
   "execution_count": null,
   "id": "87",
   "metadata": {},
   "outputs": [],
   "source": []
  }
 ],
 "metadata": {
  "kernelspec": {
   "display_name": "Python 3 (ipykernel)",
   "language": "python",
   "name": "python3"
  },
  "language_info": {
   "codemirror_mode": {
    "name": "ipython",
    "version": 3
   },
   "file_extension": ".py",
   "mimetype": "text/x-python",
   "name": "python",
   "nbconvert_exporter": "python",
   "pygments_lexer": "ipython3",
   "version": "3.9.16"
  }
 },
 "nbformat": 4,
 "nbformat_minor": 5
}
