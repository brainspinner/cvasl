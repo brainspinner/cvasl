{
 "cells": [
  {
   "cell_type": "markdown",
   "id": "0",
   "metadata": {},
   "source": [
    "# ML manual k-fold testing\n",
    "This notebook involves testing for k-folding functions towards the aim of creating a function that handles categorical and continous variables (which must be made categorical)"
   ]
  },
  {
   "cell_type": "markdown",
   "id": "1",
   "metadata": {
    "tags": []
   },
   "source": [
    "### import libraries"
   ]
  },
  {
   "cell_type": "code",
   "execution_count": null,
   "id": "2",
   "metadata": {
    "tags": []
   },
   "outputs": [],
   "source": [
    "import os       # using operating system dependent functionality (folders)\n",
    "import sys\n",
    "import glob\n",
    "from functools import reduce\n",
    "\n",
    "import pandas as pd # data analysis and manipulation\n",
    "import numpy as np    # numerical computing (manipulating and performing operations on arrays of data)\n",
    "import matplotlib.pyplot as plt\n",
    "import ipywidgets as widgets\n",
    "from ipywidgets import interactive\n",
    "import seaborn as sns\n",
    "\n",
    "# ml stuff\n",
    "from sklearn.model_selection import train_test_split\n",
    "from sklearn.preprocessing import StandardScaler\n",
    "from sklearn.svm import SVC\n",
    "from sklearn import metrics\n",
    "from sklearn.metrics import accuracy_score\n",
    "#from sklearn.linear_model import LogisticRegression\n",
    "from sklearn.linear_model import LinearRegression\n",
    "from sklearn import linear_model\n",
    "\n",
    "from sklearn.metrics import mean_absolute_error\n",
    "\n",
    "from sklearn.ensemble import ExtraTreesRegressor\n",
    "from sklearn.model_selection import StratifiedShuffleSplit\n",
    "import joblib\n",
    "\n",
    "sys.path.insert(0, '../') # path to functions\n",
    "import cvasl.seperated as sep\n",
    "from cvasl.file_handler import Config\n",
    "import cvasl.harmony as har"
   ]
  },
  {
   "cell_type": "markdown",
   "id": "3",
   "metadata": {},
   "source": [
    "# Part one: the specific example that mattered to us, splitting on age and sedx"
   ]
  },
  {
   "cell_type": "markdown",
   "id": "4",
   "metadata": {
    "tags": []
   },
   "source": [
    "### import data , clean and prep"
   ]
  },
  {
   "cell_type": "code",
   "execution_count": null,
   "id": "5",
   "metadata": {
    "tags": []
   },
   "outputs": [],
   "source": [
    "filepath_mri = '../open_work/internal_results/cleaned_pvc2s/' \n",
    "filename_mri = os.path.join(filepath_mri,'StrokeMRI_pvc2c.csv') \n",
    "filepath_top = '../open_work/internal_results/cleaned_pvc2s/' \n",
    "filename_top = os.path.join(filepath_top,'TOP_pvc2c.csv') \n",
    "TOP = pd.read_csv(filename_top)\n",
    "StrokeMRI = pd.read_csv(filename_mri)\n",
    "TOP = TOP.drop(TOP.columns[0],axis=1)\n",
    "StrokeMRI = StrokeMRI.drop(StrokeMRI.columns[0],axis=1)\n",
    "\n",
    "# Now we need to flip the sex back to numbers for a correlation\n",
    "sex_mapping = {'F':0,'M':1}\n",
    "TOP = TOP.assign(sex = TOP.sex.map(sex_mapping))\n",
    "StrokeMRI = StrokeMRI.assign(sex = StrokeMRI.sex.map(sex_mapping))\n",
    "TOP.head(3)"
   ]
  },
  {
   "cell_type": "code",
   "execution_count": null,
   "id": "6",
   "metadata": {
    "tags": []
   },
   "outputs": [],
   "source": [
    "StrokeMRI.head(3)"
   ]
  },
  {
   "cell_type": "markdown",
   "id": "7",
   "metadata": {},
   "source": [
    "## add binned column on age"
   ]
  },
  {
   "cell_type": "code",
   "execution_count": null,
   "id": "8",
   "metadata": {
    "tags": []
   },
   "outputs": [],
   "source": [
    "StrokeMRI = sep.bin_dataset(StrokeMRI, 'age', num_bins=4, graph = False)\n"
   ]
  },
  {
   "cell_type": "markdown",
   "id": "9",
   "metadata": {},
   "source": [
    "## Build ML models based on StrokeMRI"
   ]
  },
  {
   "cell_type": "code",
   "execution_count": null,
   "id": "10",
   "metadata": {
    "tags": []
   },
   "outputs": [],
   "source": [
    "ml_matrix = StrokeMRI.drop('participant_id', axis=1)\n",
    "X = ml_matrix.drop('age', axis =1)\n",
    "X = X.values\n",
    "X = X.astype('float')\n",
    "y = ml_matrix['age'].values\n",
    "y=y.astype('float')\n"
   ]
  },
  {
   "cell_type": "code",
   "execution_count": null,
   "id": "11",
   "metadata": {
    "tags": []
   },
   "outputs": [],
   "source": [
    "ml_matrix"
   ]
  },
  {
   "cell_type": "code",
   "execution_count": null,
   "id": "12",
   "metadata": {
    "tags": []
   },
   "outputs": [],
   "source": [
    "type(ml_matrix['binned'][0])"
   ]
  },
  {
   "cell_type": "code",
   "execution_count": null,
   "id": "13",
   "metadata": {
    "tags": []
   },
   "outputs": [],
   "source": [
    "ml_matrix['fuse_bin']= ml_matrix['sex']* len(ml_matrix['binned'].unique()) + pd.to_numeric(ml_matrix['binned'])"
   ]
  },
  {
   "cell_type": "markdown",
   "id": "14",
   "metadata": {},
   "source": [
    "### So now we have a category where 0 to 3 are sex category 0 progressing in age, and 4 to 7 are sex category 1 progressing in age"
   ]
  },
  {
   "cell_type": "code",
   "execution_count": null,
   "id": "15",
   "metadata": {
    "tags": []
   },
   "outputs": [],
   "source": [
    "linr_k_frame, linr_y_frame, models = sep.stratified_one_category_shuffle_split('linear regression', 'unharm_mri_linr', LinearRegression(), ml_matrix, X, y, category=['fuse_bin'], printed=True)"
   ]
  },
  {
   "cell_type": "code",
   "execution_count": null,
   "id": "16",
   "metadata": {
    "tags": []
   },
   "outputs": [],
   "source": [
    "linr_k_frame"
   ]
  },
  {
   "cell_type": "code",
   "execution_count": null,
   "id": "17",
   "metadata": {
    "tags": []
   },
   "outputs": [],
   "source": [
    "avg_linr = sep.avg_k_folds(linr_k_frame)\n",
    "avg_linr"
   ]
  },
  {
   "cell_type": "code",
   "execution_count": null,
   "id": "18",
   "metadata": {},
   "outputs": [],
   "source": [
    "linr_y_frame"
   ]
  },
  {
   "cell_type": "code",
   "execution_count": null,
   "id": "19",
   "metadata": {
    "tags": []
   },
   "outputs": [],
   "source": [
    "linr = models[0]\n",
    "linr[0]"
   ]
  },
  {
   "cell_type": "markdown",
   "id": "20",
   "metadata": {
    "tags": []
   },
   "source": [
    "# Now we will do the same thing with TOP but build this into a more general function"
   ]
  },
  {
   "cell_type": "code",
   "execution_count": null,
   "id": "21",
   "metadata": {},
   "outputs": [],
   "source": [
    "\n",
    "def stratified_cat_and_cont_categories_shuffle_split(\n",
    "        model_name,\n",
    "        model_file_name,\n",
    "        scikit_model,\n",
    "        our_ml_matrix,\n",
    "        our_x,\n",
    "        our_y,\n",
    "        cat_category='sex',\n",
    "        cont_category='age',\n",
    "        splits=5,\n",
    "        test_size_p=0.25,\n",
    "        printed=False\n",
    "):\n",
    "    \"\"\"\n",
    "    This takes a sci-kit learn coded model and\n",
    "    creates a dataframe based on (stratified) k-folds of results on\n",
    "    our_ml_matrix, and it's X component\n",
    "    returns a dataframe of fold results\n",
    "    and raw y_test versus y_pred\n",
    "    as well as a tuple with models\n",
    "    and then the training data from the model.\n",
    "    This is a twist on Stratified Shuffle Split\n",
    "    to allow it's stratification on a categorical\n",
    "    and continous variable.\n",
    "    The random state in the StratifiedShuffleSplit is set, so\n",
    "    the results should be reproducible.\n",
    "\n",
    "    :param model_name: name of model\n",
    "    :type model_name: str\n",
    "    :param model_file_name: name offile where specific model will be stored\n",
    "    :type model_file_name: str\n",
    "    :param skikit_model: name of skikit-model\n",
    "    :type skikit_model: str\n",
    "    :param our_ml_matrix: dataframe to work over\n",
    "    :type our_ml_matrix: `~pd.DataFrame`\n",
    "    :param our_x: X or features columnfor machine learning\n",
    "    :type our_x: dataframe\n",
    "    :param our_y: y or label column for machine learning\n",
    "    :type our_y: class:`~pandas.core.series.Series`\n",
    "    :param cat_category: categorical variable (column) to be stratified on eg. sex\n",
    "    :type cat_category: str\n",
    "    :param cont_category: continuuous variable (column) to be stratified on eg. age\n",
    "    :type cont_category: str\n",
    "    :param splits: number of folds desired\n",
    "    :type splits: int\n",
    "    :param test_size_p: percent to put into test\n",
    "    :type test_size_p: float\n",
    "    :param printed: printed information on folds option\n",
    "    :type printed: bool\n",
    "\n",
    "\n",
    "    :returns: dataframe, y dataframe, and models\n",
    "    :rtype: tuple\n",
    "    \"\"\"\n",
    "    our_ml_matrix = sep.bin_dataset(our_ml_matrix, cont_category, num_bins=4, graph = False)\n",
    "    our_ml_matrix['fuse_bin']= our_ml_matrix[cat_category]* len(our_ml_matrix['binned'].unique()) + pd.to_numeric(our_ml_matrix['binned'])\n",
    "    y_split = our_ml_matrix['fuse_bin'].values\n",
    "    sss = StratifiedShuffleSplit(\n",
    "        n_splits=splits,\n",
    "        test_size=test_size_p,\n",
    "        random_state=12\n",
    "    )\n",
    "\n",
    "    X = our_x\n",
    "    # TODO: (makeda)finish split and put back index so everything is traceable\n",
    "    y = our_y\n",
    "    sss.get_n_splits(X, y_split)\n",
    "\n",
    "    unique, counts = np.unique(y_split, return_counts=True)\n",
    "\n",
    "    y_frame = []\n",
    "    all_mod_results = []\n",
    "    models = []\n",
    "    for i, (train_index, test_index) in enumerate(sss.split(X, y_split)):\n",
    "        unique, counts = np.unique(y_split[train_index], return_counts=True)\n",
    "        unique, counts = np.unique(y_split[test_index], return_counts=True)\n",
    "        cols = [\n",
    "            'algorithm',\n",
    "            'fold',\n",
    "            'file_name',\n",
    "            'mae',\n",
    "            'r2',\n",
    "            'explained_variance',\n",
    "        ]\n",
    "        mod_results = pd.DataFrame(columns=cols)\n",
    "        current_fold_X_train = X[train_index][:, 1:]\n",
    "        current_fold_y_train = y[train_index]\n",
    "        current_fold_X_test = X[test_index][:, 1:]\n",
    "        current_fold_y_test = y[test_index]\n",
    "        scikit_model.fit(current_fold_X_train, current_fold_y_train)\n",
    "        current_fold_y_pred = scikit_model.predict(current_fold_X_test)\n",
    "        if printed:\n",
    "            print(f\"\\nFold {i}:\")\n",
    "            print(\n",
    "                f'Train shapes: X {X[train_index].shape}',\n",
    "                f' y {y[train_index].shape}'\n",
    "            )\n",
    "            unique_train, counts_train = np.unique(\n",
    "                y_split[train_index], return_counts=True\n",
    "            )\n",
    "            bins = our_ml_matrix['binned']\n",
    "            print(\n",
    "                f'Category classes: {unique_train}',\n",
    "                f'Made of categorical: {our_ml_matrix[cat_category].unique()} ',\n",
    "                f'and continous binned to: {bins.unique()} ',\n",
    "                f'percentages: {100*counts_train/y[train_index].shape[0]}',\n",
    "            )\n",
    "            print(\n",
    "                f'\\nTest shapes: X {X[test_index].shape}',\n",
    "                f'  y {y[test_index].shape}'\n",
    "            )\n",
    "            unique_test, counts_test = np.unique(\n",
    "                y_split[test_index], return_counts=True\n",
    "            )\n",
    "            print(\n",
    "                f'Category classes: {unique_test},'\n",
    "                f'percentages: {100*counts_test/y[test_index].shape[0]}'\n",
    "            )\n",
    "\n",
    "        data = [[\n",
    "            f'{model_name}-{i}',\n",
    "            i,\n",
    "            f'{model_file_name}.{i}',\n",
    "            mean_absolute_error(current_fold_y_test, current_fold_y_pred),\n",
    "            scikit_model.score(current_fold_X_test, current_fold_y_test),\n",
    "            metrics.explained_variance_score(\n",
    "                current_fold_y_test,\n",
    "                current_fold_y_pred\n",
    "            )]]\n",
    "        mod_results_current_fold = pd.DataFrame(data, columns=cols)\n",
    "        mod_results = pd.concat([mod_results, mod_results_current_fold])\n",
    "        mod_results.reset_index(drop=True, inplace=True)\n",
    "        all_mod_results.append(mod_results)\n",
    "        y_frame_now = pd.DataFrame(\n",
    "            {\n",
    "                'y_test': list(current_fold_y_test),\n",
    "                'y_pred': list(current_fold_y_pred),\n",
    "            })\n",
    "\n",
    "        y_frame.append(y_frame_now)\n",
    "\n",
    "        models.append((scikit_model, X[train_index][:, 0]))\n",
    "\n",
    "    df = pd.concat(all_mod_results)\n",
    "    y_frame = pd.concat([\n",
    "        y_frame[0],\n",
    "        y_frame[1],\n",
    "        y_frame[2],\n",
    "        y_frame[3],\n",
    "        y_frame[4],\n",
    "    ], axis=0)\n",
    "    return df, y_frame, models\n"
   ]
  },
  {
   "cell_type": "code",
   "execution_count": null,
   "id": "22",
   "metadata": {
    "tags": []
   },
   "outputs": [],
   "source": [
    "ml_matrix = TOP.drop('participant_id', axis=1)\n",
    "X = ml_matrix.drop('age', axis =1)\n",
    "X = X.values\n",
    "X = X.astype('float')\n",
    "y = ml_matrix['age'].values\n",
    "y=y.astype('float')\n"
   ]
  },
  {
   "cell_type": "code",
   "execution_count": null,
   "id": "23",
   "metadata": {
    "tags": []
   },
   "outputs": [],
   "source": [
    "linr_k_frame, linr_y_frame, models = stratified_cat_and_cont_categories_shuffle_split('linear regression', 'unharm_mri_linr', LinearRegression(), ml_matrix, X, y, printed=True)"
   ]
  },
  {
   "cell_type": "markdown",
   "id": "24",
   "metadata": {},
   "source": [
    "# "
   ]
  },
  {
   "cell_type": "code",
   "execution_count": null,
   "id": "25",
   "metadata": {},
   "outputs": [],
   "source": []
  }
 ],
 "metadata": {
  "kernelspec": {
   "display_name": "Python 3 (ipykernel)",
   "language": "python",
   "name": "python3"
  },
  "language_info": {
   "codemirror_mode": {
    "name": "ipython",
    "version": 3
   },
   "file_extension": ".py",
   "mimetype": "text/x-python",
   "name": "python",
   "nbconvert_exporter": "python",
   "pygments_lexer": "ipython3",
   "version": "3.11.6"
  }
 },
 "nbformat": 4,
 "nbformat_minor": 5
}
