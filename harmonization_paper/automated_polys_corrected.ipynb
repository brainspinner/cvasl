{
 "cells": [
  {
   "cell_type": "markdown",
   "id": "cd789dc2-a575-479a-9f4f-8a68e6b0e0c1",
   "metadata": {
    "tags": []
   },
   "source": [
    "# Generalized polynomial based work"
   ]
  },
  {
   "cell_type": "markdown",
   "id": "1a52862f-39fb-4942-adb9-87b5db955c7e",
   "metadata": {},
   "source": [
    "This notebook covers comparing two datasets, one of which will be considered the \"base\" dataset, and one will be the dataset which we compare to.\n",
    "The environment is the normal cvasl environment (mrilander)."
   ]
  },
  {
   "cell_type": "markdown",
   "id": "bce1f2c0-365b-486a-84a0-e58f943fe145",
   "metadata": {},
   "source": [
    "### import needed libraries"
   ]
  },
  {
   "cell_type": "code",
   "execution_count": null,
   "id": "19be1065-b373-430d-8a98-5d3d64cdbcec",
   "metadata": {
    "tags": []
   },
   "outputs": [],
   "source": [
    "import os       # using operating system dependent functionality (folders)\n",
    "import glob\n",
    "import pandas as pd # data analysis and manipulation\n",
    "import numpy as np    # numerical computing (manipulating and performing operations on arrays of data)\n",
    "\n",
    "import matplotlib.pyplot as plt\n",
    "import seaborn as sns\n",
    "\n",
    "import sys\n",
    "sys.path.insert(0, '../') # path to functions\n",
    "from cvasl import file_handler as fh # \n",
    "from cvasl import mold #\n",
    "from cvasl import carve\n",
    "from cvasl import seperated\n",
    "from cvasl.file_handler import Config"
   ]
  },
  {
   "cell_type": "markdown",
   "id": "9f4432b0-b490-4612-982f-e5e6289eac2e",
   "metadata": {},
   "source": [
    "### get data"
   ]
  },
  {
   "cell_type": "code",
   "execution_count": null,
   "id": "af823c12-1711-444f-b6e3-f1888637be9c",
   "metadata": {
    "tags": []
   },
   "outputs": [],
   "source": [
    "# set up data pull\n",
    "config = Config()\n",
    "root_mri_directory = config.get_directory('raw_data')"
   ]
  },
  {
   "cell_type": "markdown",
   "id": "4e87bb8a-8e68-40b0-a450-bd4b3e0ad457",
   "metadata": {},
   "source": [
    "## Setting the base and comapared datasets\n",
    "In this example we will use the TOP dataset as our base, and mriStroke as the other dataset.\n",
    "This is highly problematic for anything stratified by gender, but we will overlook that for now,\n",
    "as both datasets have about 50% women."
   ]
  },
  {
   "cell_type": "code",
   "execution_count": null,
   "id": "594d88b6-efdd-4b61-860d-107f588f8671",
   "metadata": {
    "tags": []
   },
   "outputs": [],
   "source": [
    "base = os.path.join(root_mri_directory, 'assembled/top_stitched.csv')\n",
    "compared = os.path.join(root_mri_directory, 'assembled/StrokeMRI_stitched.csv')\n",
    "# in the future the below should be base_data and the tricks will skip\n",
    "our_top_data = pd.read_csv(base)\n",
    "dataframe_compared = pd.read_csv(compared)"
   ]
  },
  {
   "cell_type": "code",
   "execution_count": null,
   "id": "4d666f70-48ee-4916-ab98-0feed52f0afc",
   "metadata": {
    "tags": []
   },
   "outputs": [],
   "source": [
    "our_top_data.describe()"
   ]
  },
  {
   "cell_type": "markdown",
   "id": "4bd9f8c7-fe1d-4df8-81d8-980086ca0239",
   "metadata": {},
   "source": [
    "We may have a mistake in our_top_data, white matter hyperintensities...also the total flows have outlier max values. Let's look"
   ]
  },
  {
   "cell_type": "markdown",
   "id": "a45b3289-b234-4401-a6b1-fe41e69cd67b",
   "metadata": {
    "tags": []
   },
   "source": [
    "### temporary trick to deal with data inconsistency"
   ]
  },
  {
   "cell_type": "code",
   "execution_count": null,
   "id": "c5a2747b-a08a-4d7d-9689-25ef01b7eb7d",
   "metadata": {
    "tags": []
   },
   "outputs": [],
   "source": [
    "our_top_data['GM_vol'] = our_top_data['GM_vol_Liter']\n",
    "our_top_data['WM_vol'] = our_top_data['WM_vol_Liter']\n",
    "our_top_data['CSF_vol'] = our_top_data['CSF_vol_Liter']\n",
    "our_top_data['GM_ICVRatio'] = our_top_data['GM_ICVRatio_ratio GM/ICV'] \n",
    "our_top_data['WMH_vol'] = our_top_data['GMWM_ICVRatio_ratio (GM+WM)/ICV']\n",
    "our_top_data['WMH_count'] = our_top_data['WMH_count_n lesions (integer)']\n",
    "our_top_data['DeepWM_B'] = our_top_data['DeepWM_B_SD/mean']\n",
    "our_top_data['DeepWM_L'] = our_top_data['DeepWM_L_SD/mean']\n",
    "our_top_data['DeepWM_L'] = our_top_data['DeepWM_R_SD/mean']\n",
    "our_top_data['ACA_B']= our_top_data['ACA_B_SD/mean']    \n",
    "our_top_data['ACA_L']= our_top_data['ACA_L_SD/mean']           \n",
    "our_top_data['ACA_R']= our_top_data['ACA_R_SD/mean']            \n",
    "our_top_data['MCA_B']= our_top_data['MCA_B_SD/mean']      "
   ]
  },
  {
   "cell_type": "code",
   "execution_count": null,
   "id": "44c59156-0b83-41df-9c1d-e955ee23b25d",
   "metadata": {
    "tags": []
   },
   "outputs": [],
   "source": [
    "plt.scatter(our_top_data['Age'],our_top_data['WMH_count'])"
   ]
  },
  {
   "cell_type": "code",
   "execution_count": null,
   "id": "ba2bb6c7-b723-452f-beda-731e723bf0a1",
   "metadata": {
    "tags": []
   },
   "outputs": [],
   "source": [
    "our_top_data[our_top_data['WMH_count'] > 100]"
   ]
  },
  {
   "cell_type": "code",
   "execution_count": null,
   "id": "a71bacd5-93da-4cd1-a54d-382186a96f1e",
   "metadata": {},
   "outputs": [],
   "source": []
  },
  {
   "cell_type": "code",
   "execution_count": null,
   "id": "f5702627-3951-483f-8948-97a19df2abae",
   "metadata": {
    "tags": []
   },
   "outputs": [],
   "source": [
    "our_top_data[our_top_data['WMH_count'] > 100]['Age']"
   ]
  },
  {
   "cell_type": "markdown",
   "id": "277d1680-7939-48d0-8149-eb4078aad654",
   "metadata": {},
   "source": [
    "# Needs scientist decision\n",
    "Someone with 570 WMH at age of 41 is abnormal, is there a mistake in the data? Also note the volumes are not particularly large.Or a sick patient?\n",
    "Should we  drop such outliers? Automatically?"
   ]
  },
  {
   "cell_type": "code",
   "execution_count": null,
   "id": "1521aad7-dab9-44dd-b68b-bdb7068f1a5d",
   "metadata": {
    "tags": []
   },
   "outputs": [],
   "source": [
    "plt.scatter(dataframe_compared['Age'],dataframe_compared['WMH_count'])"
   ]
  },
  {
   "cell_type": "markdown",
   "id": "a45b07c3-f6e5-474e-95b5-d32a483f32e5",
   "metadata": {},
   "source": [
    "## Moving on..."
   ]
  },
  {
   "cell_type": "code",
   "execution_count": null,
   "id": "01004489-398d-4701-8694-f701f23ee3dc",
   "metadata": {
    "tags": []
   },
   "outputs": [],
   "source": [
    "# now we find common columns; this will be easier when all is same formatted\n",
    "shared_columns = (\n",
    "        dataframe_compared.columns.intersection(our_top_data.columns)).to_list()"
   ]
  },
  {
   "cell_type": "code",
   "execution_count": null,
   "id": "ffdb0b12-2b0e-4d0f-9d50-5e006e73fe15",
   "metadata": {
    "tags": []
   },
   "outputs": [],
   "source": [
    "shared_columns"
   ]
  },
  {
   "cell_type": "markdown",
   "id": "c9871e84-bd88-471b-95ad-4b2f14333e06",
   "metadata": {},
   "source": [
    "### create base polynomials"
   ]
  },
  {
   "cell_type": "code",
   "execution_count": null,
   "id": "e88fea80-5092-42e2-a3a4-500a79652deb",
   "metadata": {
    "tags": []
   },
   "outputs": [],
   "source": [
    "# find common columns"
   ]
  },
  {
   "cell_type": "code",
   "execution_count": null,
   "id": "5fae36fc-6591-4ad4-8526-af5dc69a942e",
   "metadata": {
    "tags": []
   },
   "outputs": [],
   "source": [
    "special_data_column = 'Age'"
   ]
  },
  {
   "cell_type": "code",
   "execution_count": null,
   "id": "20fe7883-6576-4c87-80c3-e5eb67158ce1",
   "metadata": {
    "tags": []
   },
   "outputs": [],
   "source": [
    "other_columns = [\n",
    "    'GM_vol',\n",
    "     'WM_vol',\n",
    "     'CSF_vol',\n",
    "     'GM_ICVRatio',\n",
    "     'WMH_vol',\n",
    "     'WMH_count',\n",
    "     'DeepWM_B',\n",
    "     'DeepWM_L',\n",
    "     'ACA_B',\n",
    "     'ACA_L',\n",
    "     'ACA_R',\n",
    "     'MCA_B', ]"
   ]
  },
  {
   "cell_type": "code",
   "execution_count": null,
   "id": "ed2b4203-1a15-4bc0-ab57-bbcc9d0c52a5",
   "metadata": {
    "tags": []
   },
   "outputs": [],
   "source": [
    "our_top_data"
   ]
  },
  {
   "cell_type": "code",
   "execution_count": null,
   "id": "d185ca9c-2934-4606-a3a1-ba2360ec78de",
   "metadata": {
    "tags": []
   },
   "outputs": [],
   "source": [
    "# below functions must go into main library"
   ]
  },
  {
   "cell_type": "code",
   "execution_count": null,
   "id": "afc82246-fe9c-4d32-b7c6-7d3ceb31b72f",
   "metadata": {
    "tags": []
   },
   "outputs": [],
   "source": [
    "\n",
    "\n",
    "def polyfit_second_degree_to_df(\n",
    "        dataframe,\n",
    "        special_column_name,\n",
    "        other_column_names,\n",
    "):\n",
    "    \"\"\"\n",
    "    This function creates a polynomial for two columns.\n",
    "    It returns the coefficients\n",
    "    \n",
    "    :param dataframe: dataframe variable\n",
    "    :type dataframe: pandas.dataFrame\n",
    "    :param special_column_name: string of column you want to graph against\n",
    "    :type  special_column_name: str\n",
    "    :param other_column_name: string of column you want to graph\n",
    "    :type other_column_name: str\n",
    "    :param degree_poly: either 1,2 or 3 only\n",
    "    :type  degree_poly: int\n",
    "\n",
    "\n",
    "    :returns: coeffiects\n",
    "    :rtype: :class:`~numpy.ndarray`\n",
    "    \"\"\"\n",
    "    list_as = []\n",
    "    list_bs = []\n",
    "    list_cs = []\n",
    "    list_columns = []\n",
    "    dataframe = dataframe.dropna()\n",
    "    for interest_column_name in other_column_names:\n",
    "        xscat = np.array(pd.to_numeric(dataframe[special_column_name]))\n",
    "        yscat = np.array(pd.to_numeric(dataframe[interest_column_name]))\n",
    "        coefficients = np.polyfit(xscat, yscat, 2 ) #2 = degree_poly\n",
    "        list_columns.append(interest_column_name)\n",
    "        list_as.append(coefficients[0])\n",
    "        list_bs.append(coefficients[1])\n",
    "        list_cs.append(coefficients[2])\n",
    "    d = {'column':list_columns,'coefficient_a':list_as, 'coefficient_b':list_bs, 'coefficient_c':list_cs}\n",
    "    coefficien_dataframe = pd.DataFrame(d)\n",
    "   \n",
    "    return coefficien_dataframe\n"
   ]
  },
  {
   "cell_type": "code",
   "execution_count": null,
   "id": "73f86190-63f9-47fc-a610-f04b8d6075fc",
   "metadata": {
    "tags": []
   },
   "outputs": [],
   "source": [
    "def derived_function(column, a, b, c):\n",
    "    return a * (column**2) + b * column + c\n"
   ]
  },
  {
   "cell_type": "code",
   "execution_count": null,
   "id": "7a5ef4a1-76bc-4cb2-9750-832fb35dc65b",
   "metadata": {
    "tags": []
   },
   "outputs": [],
   "source": [
    "cos_dataframe = polyfit_second_degree_to_df(\n",
    "        our_top_data,#dataframe_base,\n",
    "        special_data_column,\n",
    "        other_columns,\n",
    ")\n",
    "cos_dataframe"
   ]
  },
  {
   "cell_type": "code",
   "execution_count": null,
   "id": "268e51c7-7882-4aa0-92e0-579d607a1650",
   "metadata": {
    "tags": []
   },
   "outputs": [],
   "source": [
    "projected_columns = []\n",
    "coefficients = ['coefficient_a', 'coefficient_b', 'coefficient_c']\n",
    "for column in our_top_data[shared_columns].columns:\n",
    "    projected_columns.append(column + '_projected')\n",
    "    row = cos_dataframe[cos_dataframe['column'] == column]\n",
    "    if row.empty:\n",
    "        # The columns that appear \"weird\" below (eg. `Series([], dtype: float64)`)\n",
    "        # are the columns not found in `cos_dataframe`, so they don't have associated coefficients..\n",
    "        print('skipping', column)\n",
    "        continue\n",
    "    a, b, c = row[coefficients].values.flatten().tolist()\n",
    "    our_top_data[column + '_projected'] = derived_function(our_top_data['Age'], a, b, c)\n",
    "our_top_data"
   ]
  },
  {
   "cell_type": "code",
   "execution_count": null,
   "id": "e3a78d83-c321-40d9-b5f5-7764bf6761fc",
   "metadata": {
    "tags": []
   },
   "outputs": [],
   "source": [
    "shared_columns_new =  ['GM_vol',\n",
    " 'WM_vol',\n",
    " 'CSF_vol',\n",
    " 'GM_ICVRatio',\n",
    " 'WMH_vol',\n",
    " 'WMH_count',\n",
    " 'DeepWM_B',\n",
    " 'DeepWM_L',\n",
    " 'ACA_B',\n",
    " 'ACA_L',\n",
    " 'ACA_R',\n",
    " 'MCA_B',]"
   ]
  },
  {
   "cell_type": "code",
   "execution_count": null,
   "id": "d9a0e245-335a-476b-b532-1d4323add883",
   "metadata": {
    "tags": []
   },
   "outputs": [],
   "source": [
    "difference_columns = []\n",
    "for column in our_top_data[shared_columns_new].columns:\n",
    "    difference_columns.append(column+ '_diff')\n",
    "    our_top_data[column + '_diff'] = our_top_data[column] - our_top_data[column + '_projected']\n",
    "    our_top_data[column + '_abs_diff'] = abs(our_top_data[column] - our_top_data[column + '_projected'])\n",
    "our_top_data    "
   ]
  },
  {
   "cell_type": "markdown",
   "id": "68471e00-b2d3-4307-a7bc-9734a1c3d44d",
   "metadata": {},
   "source": [
    "## Now we want to do the same to the compared dataframe"
   ]
  },
  {
   "cell_type": "code",
   "execution_count": null,
   "id": "51663339-c6dd-4ac6-ba73-7f80ebd4c523",
   "metadata": {
    "tags": []
   },
   "outputs": [],
   "source": [
    "#dataframe_compared\n",
    "\n",
    "projected_columns = []\n",
    "coefficients = ['coefficient_a', 'coefficient_b', 'coefficient_c']\n",
    "for column in dataframe_compared[shared_columns].columns:\n",
    "    projected_columns.append(column + '_projected')\n",
    "    row = cos_dataframe[cos_dataframe['column'] == column]\n",
    "    if row.empty:\n",
    "        # The columns that appear \"weird\" below (eg. `Series([], dtype: float64)`)\n",
    "        # are the columns not found in `cos_dataframe`, so they don't have associated coefficients..\n",
    "        print('skipping', column)\n",
    "        continue\n",
    "    a, b, c = row[coefficients].values.flatten().tolist()\n",
    "    dataframe_compared[column + '_projected'] = derived_function(dataframe_compared['Age'], a, b, c)\n",
    "difference_columns = []\n",
    "for column in dataframe_compared[shared_columns_new].columns:\n",
    "    difference_columns.append(column+ '_diff')\n",
    "    dataframe_compared[column + '_diff'] = dataframe_compared[column] - dataframe_compared[column + '_projected']\n",
    "    dataframe_compared[column + '_abs_diff'] = abs(dataframe_compared[column] - dataframe_compared[column + '_projected'])\n",
    "dataframe_compared"
   ]
  },
  {
   "cell_type": "code",
   "execution_count": null,
   "id": "2f04453f-8775-4ded-9d5f-11ec0a199733",
   "metadata": {
    "tags": []
   },
   "outputs": [],
   "source": [
    "shared_columns_rel = ['GM_vol',\n",
    " 'WM_vol',\n",
    " 'CSF_vol',\n",
    " 'GM_ICVRatio',\n",
    " 'WMH_vol',\n",
    " 'WMH_count',\n",
    " 'DeepWM_B',\n",
    " 'DeepWM_L',\n",
    " 'ACA_B',\n",
    " 'ACA_L',\n",
    " 'ACA_R',\n",
    " 'MCA_B',]"
   ]
  },
  {
   "cell_type": "code",
   "execution_count": null,
   "id": "ba3581ee-c7a7-45bb-9a7c-197cec48bc44",
   "metadata": {
    "tags": []
   },
   "outputs": [],
   "source": [
    "for column in our_top_data[shared_columns_rel].columns:\n",
    "    plt.figure()\n",
    "    plt.title('base_dataframe ' +column)\n",
    "    plt.scatter(our_top_data['Age'],our_top_data[column])\n",
    "    plt.scatter(our_top_data['Age'],our_top_data[column + '_projected'])"
   ]
  },
  {
   "cell_type": "code",
   "execution_count": null,
   "id": "60dc98e0-788e-4797-a5db-72e7e8a01398",
   "metadata": {},
   "outputs": [],
   "source": [
    "for column in dataframe_compared[shared_columns_rel].columns:\n",
    "    plt.figure()\n",
    "    plt.title('compared ' +column)\n",
    "    plt.scatter(dataframe_compared['Age'],dataframe_compared[column], color='purple')\n",
    "    plt.scatter(dataframe_compared['Age'],dataframe_compared[column + '_projected'])"
   ]
  },
  {
   "cell_type": "code",
   "execution_count": null,
   "id": "df81993e-b20a-41b5-a006-db062bfea82a",
   "metadata": {},
   "outputs": [],
   "source": []
  },
  {
   "cell_type": "code",
   "execution_count": null,
   "id": "fcf8cd1e-6c03-402a-809f-9c1d76d8fe58",
   "metadata": {},
   "outputs": [],
   "source": []
  },
  {
   "cell_type": "markdown",
   "id": "fc54301b-3ca6-4ef8-b748-46108cae46e9",
   "metadata": {
    "tags": []
   },
   "source": [
    "## describe the differences in base dataframe, the compared dataframe"
   ]
  },
  {
   "cell_type": "code",
   "execution_count": null,
   "id": "06e0f055-40f1-4c8d-b8ee-cb419911bf91",
   "metadata": {
    "tags": []
   },
   "outputs": [],
   "source": [
    "list_diff_dc =dataframe_compared.columns[dataframe_compared.columns.str.contains(\"diff\")].to_list()\n",
    "list_diff_top = our_top_data.columns[our_top_data.columns.str.contains(\"diff\")].to_list()"
   ]
  },
  {
   "cell_type": "code",
   "execution_count": null,
   "id": "91e7bcd3-a651-4a95-a918-5e2191df3678",
   "metadata": {
    "tags": []
   },
   "outputs": [],
   "source": [
    "our_top_data[list_diff_top].describe()"
   ]
  },
  {
   "cell_type": "code",
   "execution_count": null,
   "id": "fb3e7d78-ec39-44ab-9b0a-ad842c62676e",
   "metadata": {
    "tags": []
   },
   "outputs": [],
   "source": [
    "dataframe_compared[list_diff_dc].describe()"
   ]
  },
  {
   "cell_type": "code",
   "execution_count": null,
   "id": "48a3214a-03fe-4c92-8c52-084670b03a1d",
   "metadata": {
    "tags": []
   },
   "outputs": [],
   "source": [
    "dataframe_compared[list_diff_dc].describe().loc['max']"
   ]
  },
  {
   "cell_type": "code",
   "execution_count": null,
   "id": "d56fdd2c-ee38-47f2-a42d-b0b364b5e997",
   "metadata": {
    "tags": []
   },
   "outputs": [],
   "source": [
    "our_top_data[list_diff_dc].describe().loc['max'] "
   ]
  },
  {
   "cell_type": "code",
   "execution_count": null,
   "id": "c7ec5abc-ac66-4d4b-bc7c-b4616f4bb651",
   "metadata": {
    "tags": []
   },
   "outputs": [],
   "source": [
    "# if this number is positive or zero we are golden!\n",
    "outer_top_minus_outer_mri_top_poly = our_top_data[list_diff_dc].describe().loc['max'] - dataframe_compared[list_diff_dc].describe().loc['max'] \n",
    "outer_top_minus_outer_mri_top_poly"
   ]
  },
  {
   "cell_type": "markdown",
   "id": "435787da-41a8-4b5f-9d2e-f23e29bbebbd",
   "metadata": {},
   "source": [
    "We need to look into:\n",
    "\n",
    "WM_vol_diff              -0.001561\n",
    "WM_vol_abs_diff          -0.001561\n",
    "CSF_vol_diff             -0.031943\n",
    "CSF_vol_abs_diff         -0.031943\n",
    "GM_ICVRatio_diff          0.011487\n",
    "GM_ICVRatio_abs_diff     -0.021200\n",
    "WMH_vol_diff            -64.375789\n",
    "WMH_vol_abs_diff        -64.356226"
   ]
  },
  {
   "cell_type": "code",
   "execution_count": null,
   "id": "e92e5b2c-c454-4c21-a27b-441d59ba4a16",
   "metadata": {
    "tags": []
   },
   "outputs": [],
   "source": [
    "# #our_top_data[['Age', 'GM_vol', 'GM_vol_projected']].sort_values(by='Age')\n",
    "# plt.scatter(our_top_data['Age'],our_top_data[ 'GM_vol'])\n",
    "# plt.scatter(our_top_data['Age'],our_top_data[ 'GM_vol_projected'])"
   ]
  },
  {
   "cell_type": "code",
   "execution_count": null,
   "id": "2080d6e5-1dd6-4847-9789-5effbc252978",
   "metadata": {
    "tags": []
   },
   "outputs": [],
   "source": [
    "# #cos_dataframe[1]['coefficient_a']\n",
    "# cos_dataframe.loc[cos_dataframe['column'] == \"GM_vol\", 'coefficient_a']"
   ]
  },
  {
   "cell_type": "code",
   "execution_count": null,
   "id": "54ec4f31-39c3-4780-abcb-60248ff3d38a",
   "metadata": {
    "tags": []
   },
   "outputs": [],
   "source": [
    "# # extract multipliers and make new columns\n",
    "# coef_a = cos_dataframe.loc[cos_dataframe['column'] == \"GM_vol\", 'coefficient_a']\n",
    "# coef_b = cos_dataframe.loc[cos_dataframe['column'] == \"GM_vol\", 'coefficient_b']\n",
    "# coef_c = cos_dataframe.loc[cos_dataframe['column'] == \"GM_vol\", 'coefficient_c']\n",
    "# our_top_data['GM_vol_projected'] = derived_function(our_top_data['Age'], coef_a, coef_b,  coef_c)"
   ]
  },
  {
   "cell_type": "code",
   "execution_count": null,
   "id": "eea7c3a3-2858-4cb2-8eec-a8fad484044a",
   "metadata": {
    "tags": []
   },
   "outputs": [],
   "source": [
    "#for column in our_top_data[projected_columns].columns:\n"
   ]
  },
  {
   "cell_type": "code",
   "execution_count": null,
   "id": "c41381e8-057e-4dd0-a9cc-6730c172906c",
   "metadata": {},
   "outputs": [],
   "source": [
    "# coef_a = cos_dataframe.loc[cos_dataframe['column'] == \"WM_vol\", 'coefficient_a']\n",
    "# coef_b = cos_dataframe.loc[cos_dataframe['column'] == \"WM_vol\", 'coefficient_b']\n",
    "# coef_c = cos_dataframe.loc[cos_dataframe['column'] == \"WM_vol\", 'coefficient_c']\n",
    "# our_top_data['WM_vol_projected'] = derived_function(our_top_data['Age'], coef_a, coef_b,  coef_c)"
   ]
  },
  {
   "cell_type": "code",
   "execution_count": null,
   "id": "40899449-ed62-4382-9c9c-8b71e6f1570b",
   "metadata": {
    "tags": []
   },
   "outputs": [],
   "source": [
    "# coef_a = cos_dataframe.loc[cos_dataframe['column'] == \"WMH_vol\", 'coefficient_a']\n",
    "# coef_b = cos_dataframe.loc[cos_dataframe['column'] == \"WMH_vol\", 'coefficient_b']\n",
    "# coef_c = cos_dataframe.loc[cos_dataframe['column'] == \"WMH_vol\", 'coefficient_c']\n",
    "# our_top_data['WMH_vol_projected'] = derived_function(our_top_data['Age'], coef_a, coef_b,  coef_c)"
   ]
  },
  {
   "cell_type": "code",
   "execution_count": null,
   "id": "e6adee42-2fb3-496d-a584-c2efa948e571",
   "metadata": {},
   "outputs": [],
   "source": []
  }
 ],
 "metadata": {
  "kernelspec": {
   "display_name": "Python 3 (ipykernel)",
   "language": "python",
   "name": "python3"
  },
  "language_info": {
   "codemirror_mode": {
    "name": "ipython",
    "version": 3
   },
   "file_extension": ".py",
   "mimetype": "text/x-python",
   "name": "python",
   "nbconvert_exporter": "python",
   "pygments_lexer": "ipython3",
   "version": "3.9.16"
  }
 },
 "nbformat": 4,
 "nbformat_minor": 5
}
