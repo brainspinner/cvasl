{
 "cells": [
  {
   "cell_type": "markdown",
   "id": "0",
   "metadata": {},
   "source": [
    "# Neurocombat TOP, SABRE and StrokeMRI harmonized datasets"
   ]
  },
  {
   "cell_type": "markdown",
   "id": "1",
   "metadata": {},
   "source": [
    "This notebook creates datasets from the above hamornized as if each is indpeendant and from a different \"batch\""
   ]
  },
  {
   "cell_type": "markdown",
   "id": "2",
   "metadata": {},
   "source": [
    "Note this must be run in the `neuron` environment"
   ]
  },
  {
   "cell_type": "markdown",
   "id": "3",
   "metadata": {
    "tags": []
   },
   "source": [
    "## import libraries"
   ]
  },
  {
   "cell_type": "code",
   "execution_count": null,
   "id": "4",
   "metadata": {
    "tags": []
   },
   "outputs": [],
   "source": [
    "import os\n",
    "\n",
    "import pandas as pd\n",
    "import numpy as np\n",
    "\n",
    "from neuroCombat import neuroCombat"
   ]
  },
  {
   "cell_type": "markdown",
   "id": "5",
   "metadata": {},
   "source": [
    "## Let's see how we would apply this to our data\n",
    "We will have to flip it on it's side to make it work"
   ]
  },
  {
   "cell_type": "code",
   "execution_count": null,
   "id": "6",
   "metadata": {},
   "outputs": [],
   "source": []
  },
  {
   "cell_type": "code",
   "execution_count": null,
   "id": "7",
   "metadata": {
    "tags": []
   },
   "outputs": [],
   "source": [
    "filepath = '../open_work/internal_results/cleaned_pvc2s/' \n",
    "filename_mri = os.path.join(filepath,'StrokeMRI_pvc2c.csv') \n",
    "filename_top = os.path.join(filepath,'TOP_pvc2c.csv') \n",
    "filename_sabre = os.path.join(filepath,'SABRE_pvc2_cleaned.csv') "
   ]
  },
  {
   "cell_type": "code",
   "execution_count": null,
   "id": "8",
   "metadata": {
    "tags": []
   },
   "outputs": [],
   "source": [
    "# Now we must clean SABRE down to be like the other datasets, including dropping NAns\n",
    "MRI = pd.read_csv(filename_mri)\n",
    "TOP = pd.read_csv(filename_top)\n",
    "SABRE =  pd.read_csv(filename_sabre)\n",
    "coly = TOP.columns\n",
    "SABRE = SABRE[coly]\n",
    "SABRE= SABRE.dropna()\n",
    "SABRE.head(3)"
   ]
  },
  {
   "cell_type": "code",
   "execution_count": null,
   "id": "9",
   "metadata": {
    "tags": []
   },
   "outputs": [],
   "source": []
  },
  {
   "cell_type": "code",
   "execution_count": null,
   "id": "10",
   "metadata": {
    "tags": []
   },
   "outputs": [],
   "source": [
    "def prep3way_for_neurocombat(dataframe1, dataframe2, dataframe3):\n",
    "    \"\"\"\n",
    "    \"\"\"\n",
    "    one_selection = dataframe1.drop(['Unnamed: 0'],axis=1)\n",
    "    two_selection = dataframe2.drop(['Unnamed: 0'],axis=1)\n",
    "    thr_selection = dataframe3.drop(['Unnamed: 0'],axis=1)\n",
    "    \n",
    "    one_selection = one_selection.set_index('participant_id')\n",
    "    two_selection = two_selection.set_index('participant_id')\n",
    "    thr_selection = thr_selection.set_index('participant_id')\n",
    "    \n",
    "    one_selection = one_selection.T\n",
    "    two_selection = two_selection.T\n",
    "    thr_selection = thr_selection.T\n",
    "    \n",
    "    all_togetherF = pd.concat([one_selection, two_selection, thr_selection], axis=1, join=\"inner\")\n",
    "    print(\"Nan count\",all_togetherF.isna().sum().sum())\n",
    "    features_only = all_togetherF[2:]\n",
    "    dictionary_features_len = len(features_only.T.columns)\n",
    "    number = 0\n",
    "    made_keys = [] \n",
    "    made_vals = [] \n",
    "    for n in features_only.T.columns:\n",
    "\n",
    "        made_keys.append(number)\n",
    "        made_vals.append(n)\n",
    "        number +=1\n",
    "    feature_dictF = dict(map(lambda i,j : (i,j) , made_keys,made_vals))\n",
    "    ftF = features_only.reset_index()\n",
    "    ftF = ftF.rename(columns={\"index\": \"A\"})\n",
    "    ftF = ftF.drop(['A'], axis=1)\n",
    "    ftF = ftF.dropna()\n",
    "    btF = all_togetherF.reset_index()\n",
    "    btF = btF.rename(columns={\"index\": \"A\"})\n",
    "    btF = btF.drop(['A'], axis=1)\n",
    "    btF = btF.dropna()\n",
    "    len1 = len(one_selection.columns)\n",
    "    len2 = len(two_selection.columns)\n",
    "    len3 = len(thr_selection.columns)\n",
    "    return all_togetherF, ftF, btF, feature_dictF, len1, len2, len3\n",
    "    "
   ]
  },
  {
   "cell_type": "code",
   "execution_count": null,
   "id": "11",
   "metadata": {
    "tags": []
   },
   "outputs": [],
   "source": [
    "all_togetherF, ftF, btF, feature_dictF, len1, len2, len3 = prep3way_for_neurocombat(TOP, MRI, SABRE)"
   ]
  },
  {
   "cell_type": "code",
   "execution_count": null,
   "id": "12",
   "metadata": {
    "tags": []
   },
   "outputs": [],
   "source": [
    "ftF.to_csv('ftF_top_mri_sabre.csv')"
   ]
  },
  {
   "cell_type": "code",
   "execution_count": null,
   "id": "13",
   "metadata": {
    "tags": []
   },
   "outputs": [],
   "source": [
    "data = np.genfromtxt('ftF_top_mri_sabre.csv', delimiter=\",\", skip_header=1)\n",
    "data = data[:, 1:]\n",
    "data"
   ]
  },
  {
   "cell_type": "code",
   "execution_count": null,
   "id": "14",
   "metadata": {
    "tags": []
   },
   "outputs": [],
   "source": [
    "# Specifying the batch (scanner variable) as well as a sex covariate to preserve:\n",
    "first_columns_as_one = [1] * len1\n",
    "middle_columns_as_two = [2] * len2\n",
    "last_columns_as_three = [3] * len3\n",
    "covars = {'batch':first_columns_as_one + middle_columns_as_two + last_columns_as_three,\n",
    "          'sex':all_togetherF.loc['sex',:].values.tolist(),\n",
    "           'age':all_togetherF.loc['age',:].values.tolist(),} \n",
    "covars = pd.DataFrame(covars) "
   ]
  },
  {
   "cell_type": "code",
   "execution_count": null,
   "id": "15",
   "metadata": {
    "tags": []
   },
   "outputs": [],
   "source": [
    "# specifify sex as categorical\n",
    "categorical_cols = ['sex']\n",
    "# To specify the name of the variable that encodes for the scanner/batch covariate:\n",
    "batch_col_mine = 'batch'\n",
    "our_continuous_col=['age']\n",
    "#Harmonization step:\n",
    "data_combat = neuroCombat(dat=data,\n",
    "    covars=covars,\n",
    "    batch_col=batch_col_mine,\n",
    "    continuous_cols=our_continuous_col,\n",
    "    categorical_cols=categorical_cols)[\"data\"]\n"
   ]
  },
  {
   "cell_type": "code",
   "execution_count": null,
   "id": "16",
   "metadata": {
    "tags": []
   },
   "outputs": [],
   "source": [
    "neurocombat = pd.DataFrame(data_combat)\n",
    "#neurocombat"
   ]
  },
  {
   "cell_type": "code",
   "execution_count": null,
   "id": "17",
   "metadata": {
    "tags": []
   },
   "outputs": [],
   "source": [
    "def make_topper(btF, row0,row1):\n",
    "    \"\"\"\n",
    "    This function makes top rows for something harmonized\n",
    "    out of the btF part produced with prep_for_neurocombat(dataframename1, dataframename2)\n",
    "    \"\"\"\n",
    "    topperF = btF.head(2)\n",
    "    topperF = topperF.rename_axis(None, axis=\"columns\")\n",
    "    topperF = topperF.reset_index(drop=False)\n",
    "    topperF = topperF.rename(columns={\"index\": \"char\"})\n",
    "    topperF['char'][0] = row0 # 'age'\n",
    "    topperF['char'][1] = row1 # 'sex'\n",
    "    return topperF"
   ]
  },
  {
   "cell_type": "code",
   "execution_count": null,
   "id": "18",
   "metadata": {
    "tags": []
   },
   "outputs": [],
   "source": [
    "topperF = make_topper(btF,'age', 'sex')"
   ]
  },
  {
   "cell_type": "code",
   "execution_count": null,
   "id": "19",
   "metadata": {
    "tags": []
   },
   "outputs": [],
   "source": [
    "bottom = neurocombat.reset_index(drop=False)\n",
    "bottom = bottom.rename(columns={\"index\": \"char\"})\n",
    "bottom.columns = topperF.columns"
   ]
  },
  {
   "cell_type": "code",
   "execution_count": null,
   "id": "20",
   "metadata": {
    "tags": []
   },
   "outputs": [],
   "source": [
    "back_together = pd.concat([topperF, bottom])\n",
    "back_together = back_together.T\n",
    "#back_together"
   ]
  },
  {
   "cell_type": "code",
   "execution_count": null,
   "id": "21",
   "metadata": {
    "tags": []
   },
   "outputs": [],
   "source": [
    "new_header = back_together.iloc[0] #grab the first row for the header\n",
    "back_together.columns = new_header #set the header row as the df header\n",
    "back_together = back_together[1:]\n",
    "#back_together"
   ]
  },
  {
   "cell_type": "code",
   "execution_count": null,
   "id": "22",
   "metadata": {
    "tags": []
   },
   "outputs": [],
   "source": [
    "neuro_harm_top =back_together.head(len1)\n",
    "neuro_harm_mri =back_together.head(len1 + len2).tail(len2)\n",
    "neuro_harm_sabre =back_together.tail(len3)"
   ]
  },
  {
   "cell_type": "code",
   "execution_count": null,
   "id": "23",
   "metadata": {
    "tags": []
   },
   "outputs": [],
   "source": [
    "neuro_harm_top = neuro_harm_top.rename(feature_dictF, axis='columns')\n",
    "neuro_harm_mri = neuro_harm_mri.rename(feature_dictF, axis='columns')\n",
    "neuro_harm_sabre = neuro_harm_sabre.rename(feature_dictF, axis='columns')"
   ]
  },
  {
   "cell_type": "code",
   "execution_count": null,
   "id": "24",
   "metadata": {
    "tags": []
   },
   "outputs": [],
   "source": [
    "neuro_harm_top = neuro_harm_top.reset_index()\n",
    "neuro_harm_mri = neuro_harm_mri.reset_index()\n",
    "neuro_harm_sabre = neuro_harm_sabre.reset_index()\n",
    "\n",
    "neuro_harm_top = neuro_harm_top.rename(columns={'index':'participant_id'})\n",
    "neuro_harm_mri = neuro_harm_mri.rename(columns={'index':'participant_id'})\n",
    "neuro_harm_sabre = neuro_harm_sabre.rename(columns={'index':'participant_id'})\n",
    "\n",
    "neuro_harm_mri"
   ]
  },
  {
   "cell_type": "code",
   "execution_count": null,
   "id": "25",
   "metadata": {},
   "outputs": [],
   "source": [
    "# save off newly harmonized sets"
   ]
  },
  {
   "cell_type": "code",
   "execution_count": null,
   "id": "26",
   "metadata": {
    "tags": []
   },
   "outputs": [],
   "source": [
    "neuro_harm_mri.to_csv('neuro_harm3way_mri.csv')\n",
    "neuro_harm_top.to_csv('neuro_harm3way_top.csv')\n",
    "neuro_harm_sabre.to_csv('neuro_harm3way_sabre.csv')"
   ]
  },
  {
   "cell_type": "code",
   "execution_count": null,
   "id": "27",
   "metadata": {
    "tags": []
   },
   "outputs": [],
   "source": [
    "# Now we can concatenate the datasets, to show the difference harmonization made\n",
    "neuro_harm_mri.head(3)"
   ]
  },
  {
   "cell_type": "code",
   "execution_count": null,
   "id": "28",
   "metadata": {
    "tags": []
   },
   "outputs": [],
   "source": [
    "mri_selection = MRI.drop(['Unnamed: 0'],axis=1)\n",
    "top_selection = TOP.drop(['Unnamed: 0'],axis=1)\n",
    "sab_selection = SABRE.drop(['Unnamed: 0'],axis=1)\n",
    "    \n",
    "mri_selection = mri_selection.set_index('participant_id')\n",
    "top_selection = top_selection.set_index('participant_id')\n",
    "sab_selection = sab_selection.set_index('participant_id')"
   ]
  },
  {
   "cell_type": "code",
   "execution_count": null,
   "id": "29",
   "metadata": {
    "tags": []
   },
   "outputs": [],
   "source": [
    "mri_selection.columns"
   ]
  },
  {
   "cell_type": "code",
   "execution_count": null,
   "id": "30",
   "metadata": {
    "tags": []
   },
   "outputs": [],
   "source": [
    "rename_dict = {\n",
    "    'age': 'age_unharm', # will be the key on merge\n",
    "    'sex':'sex_unharm',\n",
    "    'gm_vol' :'gm_vol_unharm',\n",
    "    'wm_vol' :'wm_vol_unharm',\n",
    "    'csf_vol':'csf_vol_unharm',\n",
    "    'gm_ivc_ratio': 'gm_ivc_ratio_unharm',\n",
    "    'gmwm_ivc_ratio': 'gmwm_ivc_ratio_unharm',\n",
    "    'wmh_vol' :'wmh_vol_unharm',\n",
    "    'wmh_count' : 'wmh_count_unharm',\n",
    "    'deepwm_b_cov':'deepwm_b_cov_unharm',\n",
    "    'aca_b_cov': 'aca_b_cov_unharm',\n",
    "    'mca_b_cov': 'mca_b_cov_unharm',\n",
    "    'pca_b_cov': 'pca_b_cov_unharm',\n",
    "    'totalgm_b_cov':'totalgm_b_cov_unharm',\n",
    "    'deepwm_b':'deepwm_b_unharm',\n",
    "    'aca_b':'aca_b_unharm',\n",
    "    'mca_b':'mca_b_unharm',\n",
    "    'pca_b':'pca_b_unharm',\n",
    "    'totalgm_b':'totalgm_b_unharm', \n",
    "\n",
    "}\n",
    "mri_selection = mri_selection.rename(columns = rename_dict)\n",
    "top_selection = top_selection.rename(columns = rename_dict)\n",
    "sab_selection = sab_selection.rename(columns = rename_dict)"
   ]
  },
  {
   "cell_type": "code",
   "execution_count": null,
   "id": "31",
   "metadata": {
    "tags": []
   },
   "outputs": [],
   "source": [
    "mri_selection = mri_selection.reset_index()\n",
    "top_selection = top_selection.reset_index()\n",
    "sab_selection = sab_selection.reset_index()\n",
    "top_selection"
   ]
  },
  {
   "cell_type": "code",
   "execution_count": null,
   "id": "32",
   "metadata": {
    "tags": []
   },
   "outputs": [],
   "source": [
    "neuro_harm_mriR = neuro_harm_mri.reset_index()\n",
    "neuro_harm_topR = neuro_harm_top.reset_index()\n",
    "neuro_harm_sabreR = neuro_harm_sabre.reset_index()"
   ]
  },
  {
   "cell_type": "code",
   "execution_count": null,
   "id": "33",
   "metadata": {
    "tags": []
   },
   "outputs": [],
   "source": [
    "#mri_selection\n",
    "neuro_harm_mriR = neuro_harm_mriR.rename(columns = {'index':'participant_id'})\n",
    "neuro_harm_topR = neuro_harm_topR.rename(columns = {'index':'participant_id'})\n",
    "neuro_harm_sabreR = neuro_harm_sabreR.rename(columns = {'index':'participant_id'})"
   ]
  },
  {
   "cell_type": "code",
   "execution_count": null,
   "id": "34",
   "metadata": {
    "tags": []
   },
   "outputs": [],
   "source": [
    "mri_selection.head(3)"
   ]
  },
  {
   "cell_type": "code",
   "execution_count": null,
   "id": "35",
   "metadata": {
    "tags": []
   },
   "outputs": [],
   "source": [
    "neuro_harm_mriR.head(3)"
   ]
  },
  {
   "cell_type": "code",
   "execution_count": null,
   "id": "36",
   "metadata": {},
   "outputs": [],
   "source": [
    "The above needs correction, but is not relevant currently. Below will not run."
   ]
  },
  {
   "cell_type": "code",
   "execution_count": null,
   "id": "37",
   "metadata": {
    "tags": []
   },
   "outputs": [],
   "source": [
    "mri_selection = mri_selection.merge(neuro_harm_mriR, how= 'inner',left_on=['participant_id'], right_on=['participant_id'])\n",
    "top_selection = top_selection.merge(neuro_harm_topR,  how= 'inner',)\n",
    "sab_selection = sab_selection.merge(neuro_harm_sabreR, how= 'inner',)\n",
    "top_selection"
   ]
  },
  {
   "cell_type": "code",
   "execution_count": null,
   "id": "38",
   "metadata": {
    "tags": []
   },
   "outputs": [],
   "source": [
    "sab_selection"
   ]
  },
  {
   "cell_type": "code",
   "execution_count": null,
   "id": "39",
   "metadata": {
    "tags": []
   },
   "outputs": [],
   "source": [
    "mri_selection.to_csv('neuro_harm3way_mri_before_after.csv')\n",
    "top_selection.to_csv('neuro_harm3way_top_before_after.csv')\n",
    "sab_selection.to_csv('neuro_harm3way_sabre_before_after.csv')"
   ]
  },
  {
   "cell_type": "code",
   "execution_count": null,
   "id": "40",
   "metadata": {},
   "outputs": [],
   "source": []
  }
 ],
 "metadata": {
  "kernelspec": {
   "display_name": "Python 3 (ipykernel)",
   "language": "python",
   "name": "python3"
  },
  "language_info": {
   "codemirror_mode": {
    "name": "ipython",
    "version": 3
   },
   "file_extension": ".py",
   "mimetype": "text/x-python",
   "name": "python",
   "nbconvert_exporter": "python",
   "pygments_lexer": "ipython3",
   "version": "3.7.12"
  }
 },
 "nbformat": 4,
 "nbformat_minor": 5
}
