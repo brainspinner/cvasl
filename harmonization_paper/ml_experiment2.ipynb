{
 "cells": [
  {
   "cell_type": "markdown",
   "id": "17c2670f-473c-4541-ad14-b8c9ab69460a",
   "metadata": {},
   "source": [
    "# ML testing: experiment #2\n",
    "\n",
    "This notebook involves testing for the MRI conference abstract. This notebook shows unharmonized StrokeMRI based models"
   ]
  },
  {
   "cell_type": "markdown",
   "id": "8ce48aa5-f972-4526-9147-b1cf9dd2d520",
   "metadata": {
    "tags": []
   },
   "source": [
    "### import libraries"
   ]
  },
  {
   "cell_type": "code",
   "execution_count": null,
   "id": "e9e6bc02-836a-4ce0-9372-4d68955c2255",
   "metadata": {
    "tags": []
   },
   "outputs": [],
   "source": [
    "import os       # using operating system dependent functionality (folders)\n",
    "import sys\n",
    "\n",
    "import glob\n",
    "\n",
    "import pandas as pd # data analysis and manipulation\n",
    "import numpy as np    # numerical computing (manipulating and performing operations on arrays of data)\n",
    "import matplotlib.pyplot as plt\n",
    "\n",
    "# # demo stuff\n",
    "# import ipywidgets as widgets\n",
    "# import seaborn \n",
    "\n",
    "# ml stuff\n",
    "from sklearn.model_selection import train_test_split\n",
    "from sklearn.preprocessing import StandardScaler\n",
    "from sklearn.svm import SVC\n",
    "from sklearn.metrics import accuracy_score\n",
    "from sklearn.linear_model import LogisticRegression\n",
    "from sklearn.linear_model import LinearRegression\n",
    "from sklearn import linear_model\n",
    "from sklearn import tree\n",
    "from sklearn import metrics\n",
    "from sklearn.linear_model import SGDRegressor\n",
    "from sklearn.metrics import confusion_matrix\n",
    "from sklearn.metrics import mean_absolute_error\n",
    "#from sklearn.neighbors import KNeighborsClassifier\n",
    "from sklearn.neural_network import MLPRegressor\n",
    "from sklearn.svm import SVR\n",
    "from sklearn.linear_model import ElasticNetCV\n",
    "from sklearn.ensemble import ExtraTreesRegressor\n",
    "\n",
    "import joblib\n",
    "\n",
    "sys.path.insert(0, '../') # path to functions\n",
    "import cvasl.seperated as sep\n",
    "from cvasl.file_handler import Config"
   ]
  },
  {
   "cell_type": "markdown",
   "id": "4e33d332-690f-4eaa-88ab-cebccdd592b4",
   "metadata": {
    "tags": []
   },
   "source": [
    "### import data"
   ]
  },
  {
   "cell_type": "code",
   "execution_count": null,
   "id": "3a06909f-f7a2-4fe4-851f-d3ed89fbf36f",
   "metadata": {
    "tags": []
   },
   "outputs": [],
   "source": [
    "filepath_mri = '../open_work/internal_results/cleaned_pvc2s/' \n",
    "filename_mri = os.path.join(filepath_mri,'StrokeMRI_pvc2c.csv') \n",
    "\n",
    "filepath_top = '../open_work/internal_results/cleaned_pvc2s/' \n",
    "filename_top = os.path.join(filepath_top,'TOP_pvc2c.csv') \n",
    "\n",
    "filepath_sabre = '../open_work/internal_results/cleaned_pvc2s/' \n",
    "filename_sabre = os.path.join(filepath_top,'SABRE_pvc2_cleaned.csv') "
   ]
  },
  {
   "cell_type": "code",
   "execution_count": null,
   "id": "802a336b-5978-42d4-9a9f-21df2566a6bb",
   "metadata": {
    "tags": []
   },
   "outputs": [],
   "source": [
    "TOP = pd.read_csv(filename_top)\n",
    "StrokeMRI = pd.read_csv(filename_mri)\n",
    "SABRE = pd.read_csv(filename_sabre)"
   ]
  },
  {
   "cell_type": "code",
   "execution_count": null,
   "id": "e732ea6f-2de9-4e9d-a258-07578a0c5f02",
   "metadata": {
    "tags": []
   },
   "outputs": [],
   "source": [
    "TOP = TOP.drop(TOP.columns[0],axis=1)\n",
    "SABRE = SABRE.drop(SABRE.columns[0],axis=1)\n",
    "#SABRE"
   ]
  },
  {
   "cell_type": "code",
   "execution_count": null,
   "id": "8e700448-3176-4e45-8499-80f7ab4c2861",
   "metadata": {
    "tags": []
   },
   "outputs": [],
   "source": [
    "StrokeMRI = StrokeMRI.drop(StrokeMRI.columns[0],axis=1)\n",
    "#StrokeMRI"
   ]
  },
  {
   "cell_type": "code",
   "execution_count": null,
   "id": "0ae63f17-d738-4878-b969-f88b3b6da5e6",
   "metadata": {
    "tags": []
   },
   "outputs": [],
   "source": [
    "# Now we need to flip the sex back to numbers for a correlation\n",
    "sex_mapping = {'F':0,'M':1}\n",
    "TOP = TOP.assign(sex = TOP.sex.map(sex_mapping))\n",
    "TOP.head(3)"
   ]
  },
  {
   "cell_type": "code",
   "execution_count": null,
   "id": "29d4dd0e-6015-4979-a51b-2f0594fba3cb",
   "metadata": {
    "tags": []
   },
   "outputs": [],
   "source": [
    "StrokeMRI = StrokeMRI.assign(sex = StrokeMRI.sex.map(sex_mapping))\n",
    "StrokeMRI.head(3)"
   ]
  },
  {
   "cell_type": "code",
   "execution_count": null,
   "id": "8d70b6fb-a441-4cf7-858b-437becfc67d3",
   "metadata": {
    "tags": []
   },
   "outputs": [],
   "source": [
    "coly = TOP.columns\n",
    "SABRE = SABRE.assign(sex = SABRE.sex.map(sex_mapping))\n",
    "SABRE = SABRE[coly]\n",
    "SABRE.head(3)"
   ]
  },
  {
   "cell_type": "code",
   "execution_count": null,
   "id": "b3aa4ac5-4f01-41ea-9f7a-e7b67b6132dd",
   "metadata": {
    "tags": []
   },
   "outputs": [],
   "source": [
    "SABRE =SABRE.dropna()\n",
    "#SABRE.isna().sum()"
   ]
  },
  {
   "cell_type": "markdown",
   "id": "c761d603-d738-4cf7-81d0-6e85d995bac0",
   "metadata": {},
   "source": [
    "## Build ML models"
   ]
  },
  {
   "cell_type": "code",
   "execution_count": null,
   "id": "b62c8355-3372-4d8c-af41-a9485113b0dd",
   "metadata": {
    "tags": []
   },
   "outputs": [],
   "source": [
    "ml_matrix = StrokeMRI.drop('participant_id', axis=1)\n",
    "X = ml_matrix.drop('age', axis =1)\n",
    "X = X.values\n",
    "X = X.astype('float')\n",
    "y = ml_matrix['age'].values\n",
    "y=y.astype('float')\n"
   ]
  },
  {
   "cell_type": "code",
   "execution_count": null,
   "id": "d7da37ac-2c9d-4c87-9327-e71b33dd810f",
   "metadata": {
    "tags": []
   },
   "outputs": [],
   "source": [
    "X_train, X_test, y_train, y_test = train_test_split(X, y, test_size=0.25, random_state=12)"
   ]
  },
  {
   "cell_type": "code",
   "execution_count": null,
   "id": "d9566466-6890-422a-a380-3413916f3bf5",
   "metadata": {
    "tags": []
   },
   "outputs": [],
   "source": [
    "linr = LinearRegression()\n",
    "linr.fit(X_train, y_train)"
   ]
  },
  {
   "cell_type": "code",
   "execution_count": null,
   "id": "0b8484c0-45c9-44a0-a9de-bd09e67ab4d0",
   "metadata": {
    "tags": []
   },
   "outputs": [],
   "source": [
    "y_pred = linr.predict(X_test)"
   ]
  },
  {
   "cell_type": "code",
   "execution_count": null,
   "id": "92d17129-53bd-4f4e-89b2-7cd88fc95108",
   "metadata": {
    "tags": []
   },
   "outputs": [],
   "source": [
    "print('R2 score Linear regression: %.3f' % linr.score(X_test,y_test))\n",
    "print('Explained variance score: %.3f'  % metrics.explained_variance_score(y_test, y_pred))\n",
    "print('MAE: % .3f' % mean_absolute_error(y_test, y_pred))"
   ]
  },
  {
   "cell_type": "code",
   "execution_count": null,
   "id": "f4200fa2-177c-4bcb-8615-8833f39b9ab7",
   "metadata": {
    "tags": []
   },
   "outputs": [],
   "source": [
    "llreg = linear_model.LassoLars(alpha=0.01)\n",
    "llreg.fit(X_train, y_train)"
   ]
  },
  {
   "cell_type": "code",
   "execution_count": null,
   "id": "8e307985-5d49-42ff-852f-a995610ac2cd",
   "metadata": {
    "tags": []
   },
   "outputs": [],
   "source": [
    "y_pred = llreg.predict(X_test)\n",
    "print('R2 score Lasso regression: %.3f' % llreg.score(X_test,y_test))\n",
    "print('Explained variance score: %.3f'  % metrics.explained_variance_score(y_test, y_pred))\n",
    "print('The mean absolute error: %.3f' % mean_absolute_error(y_test, y_pred))"
   ]
  },
  {
   "cell_type": "code",
   "execution_count": null,
   "id": "1805c074-5d60-4cb1-a016-d3ea8874a152",
   "metadata": {
    "tags": []
   },
   "outputs": [],
   "source": [
    "dtree = tree.DecisionTreeRegressor()\n",
    "dtree.fit(X_train, y_train)"
   ]
  },
  {
   "cell_type": "code",
   "execution_count": null,
   "id": "7c443f8b-59b2-4391-9331-b2d93c593223",
   "metadata": {
    "tags": []
   },
   "outputs": [],
   "source": [
    "y_pred = dtree.predict(X_test)\n",
    "print('R2 score dtree regression: %.3f' % dtree.score(X_test,y_test))\n",
    "print('Explained variance score: %.3f'  % metrics.explained_variance_score(y_test, y_pred))\n",
    "print('The mean absolute error: %.3f' % mean_absolute_error(y_test, y_pred))"
   ]
  },
  {
   "cell_type": "code",
   "execution_count": null,
   "id": "be8636c7-8640-408b-a3e0-5bc188ef363e",
   "metadata": {
    "tags": []
   },
   "outputs": [],
   "source": [
    "regr = MLPRegressor(random_state=1, max_iter=900)\n",
    "regr.fit(X_train, y_train)"
   ]
  },
  {
   "cell_type": "code",
   "execution_count": null,
   "id": "49e566c7-dc3c-4189-b2d7-19935ae74da5",
   "metadata": {
    "tags": []
   },
   "outputs": [],
   "source": [
    "y_pred = regr.predict(X_test)"
   ]
  },
  {
   "cell_type": "code",
   "execution_count": null,
   "id": "317f2d91-bccc-4676-bb9c-5adc0c8b6b6f",
   "metadata": {
    "tags": []
   },
   "outputs": [],
   "source": [
    "print('R2 score neural network mlp regression: %.3f' % regr.score(X_test,y_test))\n",
    "print('Explained variance score: %.3f'  % metrics.explained_variance_score(y_test, y_pred))\n",
    "print('MAE: % .3f' % mean_absolute_error(y_test, y_pred))"
   ]
  },
  {
   "cell_type": "code",
   "execution_count": null,
   "id": "7d4b4e40-b6cc-4037-948d-cee15e53122f",
   "metadata": {
    "tags": []
   },
   "outputs": [],
   "source": [
    "svr_rbf = SVR(C=1.0, epsilon=0.2)\n",
    "svr_rbf.fit(X_train, y_train)"
   ]
  },
  {
   "cell_type": "code",
   "execution_count": null,
   "id": "86bbeeeb-23f7-4f2c-925a-4cc05e873936",
   "metadata": {
    "tags": []
   },
   "outputs": [],
   "source": [
    "y_pred = svr_rbf.predict(X_test)"
   ]
  },
  {
   "cell_type": "code",
   "execution_count": null,
   "id": "92886bee-0034-4ac2-8030-5b1a7cd3887d",
   "metadata": {
    "tags": []
   },
   "outputs": [],
   "source": [
    "print('R2 score SVR RBF regression: %.3f' % svr_rbf.score(X_test,y_test))\n",
    "print('Explained variance score: %.3f'  % metrics.explained_variance_score(y_test, y_pred))\n",
    "print('MAE: % .3f' % mean_absolute_error(y_test, y_pred))"
   ]
  },
  {
   "cell_type": "code",
   "execution_count": null,
   "id": "79e25d8c-f020-4412-9330-8e0e17d3b447",
   "metadata": {
    "tags": []
   },
   "outputs": [],
   "source": [
    "svr_p2 = SVR(C=1.0, kernel='poly', degree =2, epsilon=0.2)\n",
    "svr_p2.fit(X_train, y_train)"
   ]
  },
  {
   "cell_type": "code",
   "execution_count": null,
   "id": "368f69cf-8f0a-4833-ab26-37d4a5d86ed9",
   "metadata": {
    "tags": []
   },
   "outputs": [],
   "source": [
    "y_pred = svr_p2.predict(X_test)"
   ]
  },
  {
   "cell_type": "code",
   "execution_count": null,
   "id": "c039f32f-26cf-4376-8d9b-22493458c720",
   "metadata": {
    "tags": []
   },
   "outputs": [],
   "source": [
    "print('R2 score SVR 2nd degree poly kernel regression: %.3f' % svr_p2.score(X_test,y_test))\n",
    "print('Explained variance score: %.3f'  % metrics.explained_variance_score(y_test, y_pred))\n",
    "print('MAE: % .3f' % mean_absolute_error(y_test, y_pred))"
   ]
  },
  {
   "cell_type": "code",
   "execution_count": null,
   "id": "0120e722-8645-4d58-b1c9-122c924270d4",
   "metadata": {
    "tags": []
   },
   "outputs": [],
   "source": [
    "eregr = ElasticNetCV(cv=5, random_state=12)\n",
    "eregr.fit(X_train, y_train)"
   ]
  },
  {
   "cell_type": "code",
   "execution_count": null,
   "id": "3a15e098-0b13-4c91-8bff-53aed42e5068",
   "metadata": {
    "tags": []
   },
   "outputs": [],
   "source": [
    "y_pred = eregr.predict(X_test)\n",
    "print('R2 score elasticnetcv regression: %.3f' % eregr.score(X_test,y_test))\n",
    "print('Explained variance score: %.3f'  % metrics.explained_variance_score(y_test, y_pred))\n",
    "print('MAE: % .3f' % mean_absolute_error(y_test, y_pred))"
   ]
  },
  {
   "cell_type": "code",
   "execution_count": null,
   "id": "269d8ab7-64de-4632-b7e9-a7632f8c3b3e",
   "metadata": {
    "tags": []
   },
   "outputs": [],
   "source": [
    "etreg = ExtraTreesRegressor(n_estimators=100, random_state=0)\n",
    "etreg.fit(X_train, y_train)"
   ]
  },
  {
   "cell_type": "code",
   "execution_count": null,
   "id": "5188af5f-6602-4c42-9be6-9fe1f7c08f44",
   "metadata": {
    "tags": []
   },
   "outputs": [],
   "source": [
    "y_pred = etreg.predict(X_test)\n",
    "print('R2 score extra trees regression: %.3f' % etreg.score(X_test,y_test))\n",
    "print('Explained variance score: %.3f'  % metrics.explained_variance_score(y_test, y_pred))\n",
    "print('MAE: % .3f' % mean_absolute_error(y_test, y_pred))"
   ]
  },
  {
   "cell_type": "markdown",
   "id": "43451697-5158-4118-92dc-dbd6124f96df",
   "metadata": {},
   "source": [
    "## Save off models"
   ]
  },
  {
   "cell_type": "code",
   "execution_count": null,
   "id": "ce99d481-52b9-4616-af7f-0e19e7b1fdea",
   "metadata": {
    "tags": []
   },
   "outputs": [],
   "source": [
    "# check if model folder exists and if not , then create\n",
    "model_folder = '../result_models/'\n",
    "if not os.path.exists(model_folder):\n",
    "    os.makedirs(model_folder)"
   ]
  },
  {
   "cell_type": "code",
   "execution_count": null,
   "id": "00e4f73c-0694-4018-8f0d-2572251c7c58",
   "metadata": {
    "tags": []
   },
   "outputs": [],
   "source": [
    "joblib.dump(linr, ('../result_models/'+ 'unharm_mri_linr.sav'))\n",
    "joblib.dump(llreg, ('../result_models/'+ 'unharm_mri_lassor.sav'))\n",
    "joblib.dump(dtree, ('../result_models/'+ 'unharm_mri_dtree.sav'))\n",
    "joblib.dump(regr, ('../result_models/'+ 'unharm_mri_regr.sav'))"
   ]
  },
  {
   "cell_type": "code",
   "execution_count": null,
   "id": "1e8fd22e-7930-4897-bb72-bbc6cf80f2e3",
   "metadata": {},
   "outputs": [],
   "source": [
    "joblib.dump(svr_p2, ('../result_models/'+ 'unharm_mri_svrp2.sav'))"
   ]
  },
  {
   "cell_type": "code",
   "execution_count": null,
   "id": "68483110-868b-44dc-84d1-0638b2f9d3b9",
   "metadata": {
    "tags": []
   },
   "outputs": [],
   "source": [
    "joblib.dump(eregr, ('../result_models/'+ 'unharm_mri_eregr.sav'))\n",
    "joblib.dump(etreg, ('../result_models/'+ 'unharm_mri_etreg.sav'))"
   ]
  },
  {
   "cell_type": "markdown",
   "id": "3648054f-7a9b-4f70-bec5-e5afe25b6553",
   "metadata": {},
   "source": [
    "## Run models on other dataset (TOP)"
   ]
  },
  {
   "cell_type": "code",
   "execution_count": null,
   "id": "8b1f97eb-89fd-43e0-af4e-6653d2f054f4",
   "metadata": {
    "tags": []
   },
   "outputs": [],
   "source": [
    "top_ml_matrix = TOP.drop('participant_id', axis=1)\n",
    "X_top = top_ml_matrix.drop('age', axis =1)\n",
    "X_top = X_top.values\n",
    "X_top = X_top.astype('float')\n",
    "y_top = top_ml_matrix['age'].values\n",
    "y_top=y_top.astype('float')"
   ]
  },
  {
   "cell_type": "code",
   "execution_count": null,
   "id": "3d8df8dd-1a14-4cf4-90c2-53b1511041e4",
   "metadata": {
    "tags": []
   },
   "outputs": [],
   "source": [
    "X_top_test = X_top\n",
    "y_top_test = y_top\n"
   ]
  },
  {
   "cell_type": "code",
   "execution_count": null,
   "id": "016d1a53-c1bb-4f78-a7ad-f1fc571cac86",
   "metadata": {
    "tags": []
   },
   "outputs": [],
   "source": [
    "y_top_pred = linr.predict(X_top_test)\n",
    "print('R2 score Linear regression: %.3f' % linr.score(X_top_test,y_top_test))\n",
    "print('Explained variance score: %.3f'  % metrics.explained_variance_score(y_top_test, y_top_pred))\n",
    "print('The mean absolute error: %.3f' % mean_absolute_error(y_top_test, y_top_pred))"
   ]
  },
  {
   "cell_type": "code",
   "execution_count": null,
   "id": "80f58fa2-d071-4584-b2fa-5a9a724cd31e",
   "metadata": {
    "tags": []
   },
   "outputs": [],
   "source": [
    "y_top_pred = llreg.predict(X_top_test)\n",
    "print('R2 score Lasso regression: %.3f' % llreg.score(X_top_test,y_top_test))\n",
    "print('Explained variance score: %.3f'  % metrics.explained_variance_score(y_top_test, y_top_pred))\n",
    "print('The mean absolute error: %.3f' % mean_absolute_error(y_top_test, y_top_pred))"
   ]
  },
  {
   "cell_type": "code",
   "execution_count": null,
   "id": "9924446a-4c1b-4291-9908-9ba61ebe54f3",
   "metadata": {
    "tags": []
   },
   "outputs": [],
   "source": [
    "y_top_pred = dtree.predict(X_top_test)\n",
    "print('R2 score decision tree regression: %.3f' % dtree.score(X_top_test,y_top_test))\n",
    "print('Explained variance score: %.3f'  % metrics.explained_variance_score(y_top_test, y_top_pred))\n",
    "print('The mean absolute error: %.3f' % mean_absolute_error(y_top_test, y_top_pred))"
   ]
  },
  {
   "cell_type": "code",
   "execution_count": null,
   "id": "ac618c06-efdd-4a1e-b0d8-a28124bc0273",
   "metadata": {},
   "outputs": [],
   "source": [
    "y_top_pred = regr.predict(X_top_test)\n",
    "print('R2 score MLP regression: %.3f' % dtree.score(X_top_test,y_top_test))\n",
    "print('Explained variance score: %.3f'  % metrics.explained_variance_score(y_top_test, y_top_pred))\n",
    "print('The mean absolute error: %.3f' % mean_absolute_error(y_top_test, y_top_pred))"
   ]
  },
  {
   "cell_type": "code",
   "execution_count": null,
   "id": "be6bcff4-d660-4dd2-924d-26a1d9f2206c",
   "metadata": {
    "tags": []
   },
   "outputs": [],
   "source": [
    "y_top_pred = svr_p2.predict(X_top_test)\n",
    "print('R2 score SVR poly2 regression: %.3f' % svr_p2.score(X_top_test,y_top_test))\n",
    "print('Explained variance score: %.3f'  % metrics.explained_variance_score(y_top_test, y_top_pred))\n",
    "print('The mean absolute error: %.3f' % mean_absolute_error(y_top_test, y_top_pred))"
   ]
  },
  {
   "cell_type": "code",
   "execution_count": null,
   "id": "3ceaa2a8-4d45-47e9-9c35-d1c9577d3828",
   "metadata": {},
   "outputs": [],
   "source": [
    "y_top_pred = eregr.predict(X_top_test)\n",
    "print('R2 score elasticCV net : %.3f' % eregr.score(X_top_test,y_top_test))\n",
    "print('Explained variance score: %.3f'  % metrics.explained_variance_score(y_top_test, y_top_pred))\n",
    "print('The mean absolute error: %.3f' % mean_absolute_error(y_top_test, y_top_pred))"
   ]
  },
  {
   "cell_type": "code",
   "execution_count": null,
   "id": "8cc22b75-98ff-4411-96a1-eb6d3bf04574",
   "metadata": {
    "tags": []
   },
   "outputs": [],
   "source": [
    "y_top_pred = etreg.predict(X_top_test)\n",
    "print('R2 score extra tree: %.3f' % etreg.score(X_top_test,y_top_test))\n",
    "print('Explained variance score: %.3f'  % metrics.explained_variance_score(y_top_test, y_top_pred))\n",
    "print('The mean absolute error: %.3f' % mean_absolute_error(y_top_test, y_top_pred))"
   ]
  },
  {
   "cell_type": "code",
   "execution_count": null,
   "id": "6b884915-3982-4461-962b-407b1a6f2136",
   "metadata": {},
   "outputs": [],
   "source": []
  },
  {
   "cell_type": "markdown",
   "id": "32d5eb2b-f447-4c90-ac1b-e4c688d92b4e",
   "metadata": {},
   "source": [
    "## Run models on other datasets"
   ]
  },
  {
   "cell_type": "code",
   "execution_count": null,
   "id": "4541d92f-cf01-4f5a-97cb-6ba4b4c4b0f9",
   "metadata": {
    "tags": []
   },
   "outputs": [],
   "source": [
    "sabre_ml_matrix = SABRE.drop('participant_id', axis=1)\n",
    "X_sabre = sabre_ml_matrix.drop('age', axis =1)\n",
    "X_sabre = X_sabre.values\n",
    "X_sabre = X_sabre.astype('float')\n",
    "y_sabre = sabre_ml_matrix['age'].values\n",
    "y_sabre=y_sabre.astype('float')"
   ]
  },
  {
   "cell_type": "code",
   "execution_count": null,
   "id": "35936c03-d11e-456f-9883-3ab5c7da1fd9",
   "metadata": {
    "tags": []
   },
   "outputs": [],
   "source": [
    "X_sabre_test = X_sabre\n",
    "y_sabre_test = y_sabre"
   ]
  },
  {
   "cell_type": "code",
   "execution_count": null,
   "id": "f1358a3f-ca42-434b-8f43-bb6ac2a12daf",
   "metadata": {
    "tags": []
   },
   "outputs": [],
   "source": [
    "y_sabre_pred = linr.predict(X_sabre_test)"
   ]
  },
  {
   "cell_type": "code",
   "execution_count": null,
   "id": "62c6d2c6-3525-4fb3-9448-e60bd187107b",
   "metadata": {
    "tags": []
   },
   "outputs": [],
   "source": [
    "print('R2 score Linear regression: %.3f' % linr.score(X_sabre_test,y_sabre_test))\n",
    "print('Explained variance score: %.3f'  % metrics.explained_variance_score(y_sabre_test, y_sabre_pred))\n",
    "print('The mean absolute error: %.3f' % mean_absolute_error(y_sabre_test, y_sabre_pred))"
   ]
  },
  {
   "cell_type": "code",
   "execution_count": null,
   "id": "98c2c598-5564-4ff5-b56f-457e5a1840cf",
   "metadata": {},
   "outputs": [],
   "source": []
  },
  {
   "cell_type": "code",
   "execution_count": null,
   "id": "6e5993c5-1d7e-4850-88c9-aad5b7e0c24e",
   "metadata": {
    "tags": []
   },
   "outputs": [],
   "source": [
    "data= [[\n",
    "    'Linear Reg',\n",
    "    'unharm_top_linr.sav',\n",
    "    mean_absolute_error(y_sabre_test, y_sabre_pred),\n",
    "    linr.score(X_sabre_test,y_sabre_test),\n",
    "    metrics.explained_variance_score(y_sabre_test, y_sabre_pred)]]\n",
    "linr_results_sabre = pd.DataFrame(data, columns=['algorithm','file_name','mae', 'r2', 'explained_variance'])\n",
    "linr_results_sabre"
   ]
  },
  {
   "cell_type": "code",
   "execution_count": null,
   "id": "9bbc2443-e2b0-409a-a9ca-67367bea0c4e",
   "metadata": {
    "tags": []
   },
   "outputs": [],
   "source": [
    "y_sabre_pred = llreg.predict(X_sabre_test)"
   ]
  },
  {
   "cell_type": "code",
   "execution_count": null,
   "id": "dd4bc817-37c9-4adc-b902-7d9f7109ae06",
   "metadata": {
    "tags": []
   },
   "outputs": [],
   "source": [
    "print('R2 score Lasso regression: %.3f' % llreg.score(X_sabre_test,y_sabre_test))\n",
    "print('Explained variance score: %.3f'  % metrics.explained_variance_score(y_sabre_test, y_sabre_pred))\n",
    "print('The mean absolute error: %.3f' % mean_absolute_error(y_sabre_test, y_sabre_pred))"
   ]
  },
  {
   "cell_type": "code",
   "execution_count": null,
   "id": "beceeaf4-ba59-41ba-be51-9d41c4821409",
   "metadata": {},
   "outputs": [],
   "source": []
  },
  {
   "cell_type": "code",
   "execution_count": null,
   "id": "a1243288-43ee-4e21-b498-00f676f653bb",
   "metadata": {
    "tags": []
   },
   "outputs": [],
   "source": [
    "data= [[\n",
    "    'Lasso',\n",
    "    'unharm_top_lassor.sav',\n",
    "    mean_absolute_error(y_sabre_test, y_sabre_pred),\n",
    "    llreg.score(X_sabre_test,y_sabre_test),\n",
    "    metrics.explained_variance_score(y_sabre_test, y_sabre_pred)]]\n",
    "llreg_results_sabre = pd.DataFrame(data, columns=['algorithm','file_name','mae', 'r2', 'explained_variance'])\n",
    "llreg_results_sabre"
   ]
  },
  {
   "cell_type": "code",
   "execution_count": null,
   "id": "ab02c196-7ae4-44c0-8908-42c7e7d91705",
   "metadata": {
    "tags": []
   },
   "outputs": [],
   "source": [
    "y_sabre_pred = dtree.predict(X_sabre_test)"
   ]
  },
  {
   "cell_type": "code",
   "execution_count": null,
   "id": "8af0fac3-9a72-405e-9700-80e1cebe9154",
   "metadata": {
    "tags": []
   },
   "outputs": [],
   "source": [
    "print('R2 score Decision tree: %.3f' % dtree.score(X_sabre_test,y_sabre_test))\n",
    "print('Explained variance score: %.3f'  % metrics.explained_variance_score(y_sabre_test, y_sabre_pred))\n",
    "print('The mean absolute error: %.3f' % mean_absolute_error(y_sabre_test, y_sabre_pred))"
   ]
  },
  {
   "cell_type": "code",
   "execution_count": null,
   "id": "e2889533-55c5-491e-8ce3-9da4b6fb5e26",
   "metadata": {},
   "outputs": [],
   "source": []
  },
  {
   "cell_type": "code",
   "execution_count": null,
   "id": "c3443bb0-a398-4fe0-b289-cd68da08cbee",
   "metadata": {
    "tags": []
   },
   "outputs": [],
   "source": [
    "data= [[\n",
    "    'Decision tree',\n",
    "    'unharm_top_svrp2.sav',\n",
    "    mean_absolute_error(y_sabre_test, y_sabre_pred),\n",
    "    dtree.score(X_sabre_test,y_sabre_test),\n",
    "    metrics.explained_variance_score(y_sabre_test, y_sabre_pred)]]\n",
    "dtree_results_sabre = pd.DataFrame(data, columns=['algorithm','file_name','mae', 'r2', 'explained_variance'])\n",
    "dtree_results_sabre"
   ]
  },
  {
   "cell_type": "code",
   "execution_count": null,
   "id": "cffc8aa1-d031-4ec3-9cfa-77bc4f4bebdf",
   "metadata": {
    "tags": []
   },
   "outputs": [],
   "source": [
    "y_sabre_pred = regr.predict(X_sabre_test)"
   ]
  },
  {
   "cell_type": "code",
   "execution_count": null,
   "id": "9275de54-9900-49cf-bddb-dd4eca6df42d",
   "metadata": {
    "tags": []
   },
   "outputs": [],
   "source": [
    "print('R2 score MLP regression: %.3f' % regr.score(X_sabre_test,y_sabre_test))\n",
    "print('Explained variance score: %.3f'  % metrics.explained_variance_score(y_sabre_test, y_sabre_pred))\n",
    "print('The mean absolute error: %.3f' % mean_absolute_error(y_sabre_test, y_sabre_pred))"
   ]
  },
  {
   "cell_type": "code",
   "execution_count": null,
   "id": "b8cab482-9678-4740-a161-ca799a84a612",
   "metadata": {
    "tags": []
   },
   "outputs": [],
   "source": [
    "data= [[\n",
    "    'MLP regression',\n",
    "    'unharm_top_regr.sav',\n",
    "    mean_absolute_error(y_sabre_test, y_sabre_pred),\n",
    "    regr.score(X_sabre_test,y_sabre_test),\n",
    "    metrics.explained_variance_score(y_sabre_test, y_sabre_pred)]]\n",
    "regr_results_sabre = pd.DataFrame(data, columns=['algorithm','file_name','mae', 'r2', 'explained_variance'])\n",
    "regr_results_sabre"
   ]
  },
  {
   "cell_type": "code",
   "execution_count": null,
   "id": "5dec0c74-f8db-4ef5-bb07-e60329c0b7b0",
   "metadata": {},
   "outputs": [],
   "source": []
  },
  {
   "cell_type": "code",
   "execution_count": null,
   "id": "b4f8aea2-eb81-4403-87c6-736a6d75fc92",
   "metadata": {
    "tags": []
   },
   "outputs": [],
   "source": [
    "y_sabre_pred = svr_p2.predict(X_sabre_test)"
   ]
  },
  {
   "cell_type": "code",
   "execution_count": null,
   "id": "34c12f82-d266-462c-9abb-64b011a06f8a",
   "metadata": {
    "tags": []
   },
   "outputs": [],
   "source": [
    "print('R2 score SVR polynomial regression: %.3f' % svr_p2.score(X_sabre_test,y_sabre_test))\n",
    "print('Explained variance score: %.3f'  % metrics.explained_variance_score(y_sabre_test, y_sabre_pred))\n",
    "print('The mean absolute error: %.3f' % mean_absolute_error(y_sabre_test, y_sabre_pred))"
   ]
  },
  {
   "cell_type": "code",
   "execution_count": null,
   "id": "c461ecb8-5e81-499c-9c8d-8c37ba90f3b8",
   "metadata": {
    "tags": []
   },
   "outputs": [],
   "source": [
    "data= [[\n",
    "    'Svr P2',\n",
    "    'unharm_top_svrp2.sav',\n",
    "    mean_absolute_error(y_sabre_test, y_sabre_pred),\n",
    "    svr_p2.score(X_sabre_test,y_sabre_test),\n",
    "    metrics.explained_variance_score(y_sabre_test, y_sabre_pred)]]\n",
    "svr_p2_results_sabre = pd.DataFrame(data, columns=['algorithm','file_name','mae', 'r2', 'explained_variance'])\n",
    "svr_p2_results_sabre"
   ]
  },
  {
   "cell_type": "code",
   "execution_count": null,
   "id": "87c3bac1-a19f-4525-9ac6-db5e3bb9814c",
   "metadata": {
    "tags": []
   },
   "outputs": [],
   "source": [
    "y_sabre_pred = eregr.predict(X_sabre_test)"
   ]
  },
  {
   "cell_type": "code",
   "execution_count": null,
   "id": "1f44199c-913f-4ec2-b4a1-36ff3b2f1f1b",
   "metadata": {
    "tags": []
   },
   "outputs": [],
   "source": [
    "print('R2 score ElasticNet CV : %.3f' % eregr.score(X_sabre_test,y_sabre_test))\n",
    "print('Explained variance score: %.3f'  % metrics.explained_variance_score(y_sabre_test, y_sabre_pred))\n",
    "print('The mean absolute error: %.3f' % mean_absolute_error(y_sabre_test, y_sabre_pred))"
   ]
  },
  {
   "cell_type": "code",
   "execution_count": null,
   "id": "287b58ed-b213-4c67-a528-3400b410d849",
   "metadata": {
    "tags": []
   },
   "outputs": [],
   "source": [
    "data= [[\n",
    "    'ElasticnetCV',\n",
    "    'unharm_top_elasticregr.sav',\n",
    "    mean_absolute_error(y_sabre_test, y_sabre_pred),\n",
    "    eregr.score(X_sabre_test,y_sabre_test),\n",
    "    metrics.explained_variance_score(y_sabre_test, y_sabre_pred)]]\n",
    "eregr_results_sabre = pd.DataFrame(data, columns=['algorithm','file_name','mae', 'r2', 'explained_variance'])\n",
    "eregr_results_sabre"
   ]
  },
  {
   "cell_type": "code",
   "execution_count": null,
   "id": "d722dc43-a450-4881-b498-2b0de0928a05",
   "metadata": {},
   "outputs": [],
   "source": []
  },
  {
   "cell_type": "code",
   "execution_count": null,
   "id": "2fc42858-8a8c-4dd7-9dd1-7a8afe9384ca",
   "metadata": {
    "tags": []
   },
   "outputs": [],
   "source": [
    "y_sabre_pred = etreg.predict(X_sabre_test)"
   ]
  },
  {
   "cell_type": "code",
   "execution_count": null,
   "id": "5793d788-13cf-4495-8bab-af5f32ceeb8a",
   "metadata": {
    "tags": []
   },
   "outputs": [],
   "source": [
    "print('R2 score extra tree regression: %.3f' % etreg.score(X_sabre_test,y_sabre_test))\n",
    "print('Explained variance score: %.3f'  % metrics.explained_variance_score(y_sabre_test, y_sabre_pred))\n",
    "print('The mean absolute error: %.3f' % mean_absolute_error(y_sabre_test, y_sabre_pred))"
   ]
  },
  {
   "cell_type": "code",
   "execution_count": null,
   "id": "1f4109eb-6ad7-4a8a-88c8-c5f7c4748a24",
   "metadata": {
    "tags": []
   },
   "outputs": [],
   "source": [
    "data= [[\n",
    "    'Extra trees',\n",
    "    'unharm_top_etreg.sav',\n",
    "    mean_absolute_error(y_sabre_test, y_sabre_pred),\n",
    "    etreg.score(X_sabre_test,y_sabre_test),\n",
    "    metrics.explained_variance_score(y_sabre_test, y_sabre_pred)]]\n",
    "etreg_results_sabre = pd.DataFrame(data, columns=['algorithm','file_name','mae', 'r2', 'explained_variance'])\n",
    "etreg_results_sabre"
   ]
  },
  {
   "cell_type": "code",
   "execution_count": null,
   "id": "1e33e89b-5b58-45bc-8080-ace88cd987ab",
   "metadata": {
    "tags": []
   },
   "outputs": [],
   "source": [
    "mri_based_unharmonized_on_sabre =pd.concat([linr_results_sabre,\n",
    "                   llreg_results_sabre,\n",
    "                   dtree_results_sabre,\n",
    "                   regr_results_sabre,\n",
    "                   svr_p2_results_sabre,\n",
    "                   eregr_results_sabre,\n",
    "                  etreg_results_sabre],\n",
    "                  axis=0)\n",
    "mri_based_unharmonized_on_sabre"
   ]
  }
 ],
 "metadata": {
  "kernelspec": {
   "display_name": "Python 3 (ipykernel)",
   "language": "python",
   "name": "python3"
  },
  "language_info": {
   "codemirror_mode": {
    "name": "ipython",
    "version": 3
   },
   "file_extension": ".py",
   "mimetype": "text/x-python",
   "name": "python",
   "nbconvert_exporter": "python",
   "pygments_lexer": "ipython3",
   "version": "3.9.18"
  }
 },
 "nbformat": 4,
 "nbformat_minor": 5
}
