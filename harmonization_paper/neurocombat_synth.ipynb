{
 "cells": [
  {
   "cell_type": "markdown",
   "id": "0",
   "metadata": {},
   "source": [
    "# Neurocombat harmonized synthetic datasets"
   ]
  },
  {
   "cell_type": "markdown",
   "id": "1",
   "metadata": {},
   "source": [
    "Note this must be run in the `neuron` environment"
   ]
  },
  {
   "cell_type": "markdown",
   "id": "2",
   "metadata": {},
   "source": [
    "## import libraries"
   ]
  },
  {
   "cell_type": "code",
   "execution_count": null,
   "id": "3",
   "metadata": {
    "tags": []
   },
   "outputs": [],
   "source": [
    "import os\n",
    "\n",
    "import pandas as pd\n",
    "import numpy as np\n",
    "\n",
    "from neuroCombat import neuroCombat"
   ]
  },
  {
   "cell_type": "markdown",
   "id": "4",
   "metadata": {},
   "source": [
    "## Let's make perturbed data\n",
    "We will use our example data and perturb it"
   ]
  },
  {
   "cell_type": "code",
   "execution_count": null,
   "id": "5",
   "metadata": {
    "tags": []
   },
   "outputs": [],
   "source": [
    "# filepath = '../open_work/internal_results/cleaned_pvc2s/' \n",
    "# filename_mri = os.path.join(filepath,'StrokeMRI_pvc2c.csv') \n",
    "# mri= pd.read_csv(filename_mri)\n",
    "# mri"
   ]
  },
  {
   "cell_type": "code",
   "execution_count": null,
   "id": "6",
   "metadata": {
    "tags": []
   },
   "outputs": [],
   "source": [
    "filename_standard = os.path.join('../researcher_interface/sample_sep_values/showable_standard.csv') \n",
    "standard = pd.read_csv(filename_standard)"
   ]
  },
  {
   "cell_type": "code",
   "execution_count": null,
   "id": "7",
   "metadata": {
    "tags": []
   },
   "outputs": [],
   "source": [
    "standard.head(3)"
   ]
  },
  {
   "cell_type": "code",
   "execution_count": null,
   "id": "8",
   "metadata": {
    "tags": []
   },
   "outputs": [],
   "source": [
    "alt_standard = standard.copy(deep=True)\n",
    "#alt_standard"
   ]
  },
  {
   "cell_type": "code",
   "execution_count": null,
   "id": "9",
   "metadata": {
    "tags": []
   },
   "outputs": [],
   "source": [
    "list_participants = []\n",
    "\n",
    "for i in range(len(alt_standard)):\n",
    "    list_participants.append(i+ 100)"
   ]
  },
  {
   "cell_type": "code",
   "execution_count": null,
   "id": "10",
   "metadata": {
    "tags": []
   },
   "outputs": [],
   "source": [
    "alt_standard['participant_id'] = list_participants \n",
    "#alt_standard['participant_id']\n"
   ]
  },
  {
   "cell_type": "code",
   "execution_count": null,
   "id": "11",
   "metadata": {
    "tags": []
   },
   "outputs": [],
   "source": [
    "# alt_standard = alt_standard.drop(['session_id','run_id'], axis=1)\n",
    "# standard = standard.drop(['session_id','run_id'], axis=1)\n",
    "# #two_selection = our_2_frame.drop(['Unnamed: 0'],axis=1)"
   ]
  },
  {
   "cell_type": "code",
   "execution_count": null,
   "id": "12",
   "metadata": {
    "tags": []
   },
   "outputs": [],
   "source": [
    "alt_standard[ 'site'] = 1\n",
    "standard['site'] = 2"
   ]
  },
  {
   "cell_type": "code",
   "execution_count": null,
   "id": "13",
   "metadata": {
    "tags": []
   },
   "outputs": [],
   "source": [
    "#alt_standard.isna().sum()\n",
    "number_columns = ['gm_vol',\n",
    "                  'wm_vol',\n",
    "                  'csf_vol',\n",
    "                  'gm_icv_ratio', \n",
    "                  'gmwm_icv_ratio',\n",
    "                  'wmh_vol',\n",
    "                  'wmh_count',\n",
    "                  'cbf_gm_pvc0',\n",
    "                  'cbf_gm_pvc2',\n",
    "                  'cbf_wm_pvc0',\n",
    "                  'cbf_wm_pvc2',\n",
    "                  'cbf_aca_pvc0',\n",
    "                  'cbf_mca_pvc0',\n",
    "                  'cbf_pca_pvc0',\n",
    "                  'cbf_aca_pvc2', 'cbf_mca_pvc2', 'cbf_pca_pvc2', 'cov_gm_pvc0',\n",
    "                  'cov_gm_pvc2', 'cov_wm_pvc0', 'cov_wm_pvc2', 'cov_aca_pvc0',\n",
    "                  'cov_mca_pvc0', 'cov_pca_pvc0', 'cov_aca_pvc2', 'cov_mca_pvc2',\n",
    "                  'cov_pca_pvc2', 'Additional_1', 'Additional_2']"
   ]
  },
  {
   "cell_type": "code",
   "execution_count": null,
   "id": "14",
   "metadata": {
    "tags": []
   },
   "outputs": [],
   "source": [
    "alt_standard[number_columns] = alt_standard[number_columns] * 10 + 2"
   ]
  },
  {
   "cell_type": "code",
   "execution_count": null,
   "id": "15",
   "metadata": {
    "tags": []
   },
   "outputs": [],
   "source": [
    "standard[number_columns] = standard[number_columns] * 5 + 2"
   ]
  },
  {
   "cell_type": "code",
   "execution_count": null,
   "id": "16",
   "metadata": {
    "tags": []
   },
   "outputs": [],
   "source": [
    "standard.describe()"
   ]
  },
  {
   "cell_type": "code",
   "execution_count": null,
   "id": "17",
   "metadata": {
    "tags": []
   },
   "outputs": [],
   "source": [
    "alt_standard.describe()"
   ]
  },
  {
   "cell_type": "code",
   "execution_count": null,
   "id": "18",
   "metadata": {
    "tags": []
   },
   "outputs": [],
   "source": [
    "def prep_for_neurocombat_synth(our_2_frame, our_1_frame):\n",
    "    \"\"\"\n",
    "    This function takes two dataframes in the cvasl format,\n",
    "    then turns them into three items needed for the \n",
    "    neurocombat algorithm with re-identification.\n",
    "    \n",
    "    \"\"\"\n",
    "    #our_1_frame = pd.read_csv(dataframename1)\n",
    "    #our_2_frame = pd.read_csv(dataframename2)\n",
    "    two_selection = our_2_frame.drop(['session_id','run_id'],axis=1)\n",
    "    one_selection = our_1_frame.drop(['session_id','run_id'],axis=1)\n",
    "    one_selection = one_selection.set_index('participant_id')\n",
    "    two_selection = two_selection.set_index('participant_id')\n",
    "    one_selection = one_selection.T\n",
    "    two_selection = two_selection.T\n",
    "    both_togetherF = pd.concat([one_selection, two_selection], axis=1, join=\"inner\")\n",
    "    print(\"Nan count\",both_togetherF.isna().sum().sum())\n",
    "    features_only = both_togetherF[2:]\n",
    "    dictionary_features_len = len(features_only.T.columns)\n",
    "    number = 0\n",
    "    made_keys = [] \n",
    "    made_vals = [] \n",
    "    for n in features_only.T.columns:\n",
    "\n",
    "        made_keys.append(number)\n",
    "        made_vals.append(n)\n",
    "        number +=1\n",
    "    feature_dictF = dict(map(lambda i,j : (i,j) , made_keys,made_vals))\n",
    "    ftF = features_only.reset_index()\n",
    "    ftF = ftF.rename(columns={\"index\": \"A\"})\n",
    "    ftF = ftF.drop(['A'], axis=1)\n",
    "    ftF = ftF.dropna()\n",
    "    btF = both_togetherF.reset_index()\n",
    "    btF = btF.rename(columns={\"index\": \"A\"})\n",
    "    btF = btF.drop(['A'], axis=1)\n",
    "    btF = btF.dropna()\n",
    "    len1 = len(one_selection.columns)\n",
    "    len2 = len(two_selection.columns)\n",
    "    return both_togetherF, ftF, btF, feature_dictF, len1, len2"
   ]
  },
  {
   "cell_type": "code",
   "execution_count": null,
   "id": "19",
   "metadata": {
    "tags": []
   },
   "outputs": [],
   "source": [
    "both_togetherF, ftF, btF, feature_dictF, len1, len2 = prep_for_neurocombat_synth(standard, alt_standard)"
   ]
  },
  {
   "cell_type": "code",
   "execution_count": null,
   "id": "20",
   "metadata": {
    "tags": []
   },
   "outputs": [],
   "source": [
    "# our_mri_data = pd.read_csv(filename_mri)\n",
    "# our_top_data = pd.read_csv(filename_top)"
   ]
  },
  {
   "cell_type": "code",
   "execution_count": null,
   "id": "21",
   "metadata": {
    "tags": []
   },
   "outputs": [],
   "source": [
    "# # save off csv\n",
    "# both_together.to_csv('both_top_mri_together.csv')"
   ]
  },
  {
   "cell_type": "code",
   "execution_count": null,
   "id": "22",
   "metadata": {
    "tags": []
   },
   "outputs": [],
   "source": [
    "# # make and save of csv of features only\n",
    "# features_only = both_together[2:]\n",
    "# #features_only.to_csv('features_only_top_mri.csv')"
   ]
  },
  {
   "cell_type": "code",
   "execution_count": null,
   "id": "23",
   "metadata": {
    "tags": []
   },
   "outputs": [],
   "source": [
    "ftF.to_csv('ftF_synth.csv')"
   ]
  },
  {
   "cell_type": "code",
   "execution_count": null,
   "id": "24",
   "metadata": {
    "tags": []
   },
   "outputs": [],
   "source": [
    "data = np.genfromtxt('ftF_synth.csv', delimiter=\",\", skip_header=1)\n",
    "data = data[:, 1:]\n",
    "data"
   ]
  },
  {
   "cell_type": "code",
   "execution_count": null,
   "id": "25",
   "metadata": {
    "tags": []
   },
   "outputs": [],
   "source": [
    "# Specifying the batch (scanner variable) as well as a sex covariate to preserve:\n",
    "first_columns_as_one = [1] * len1\n",
    "last_columns_as_two = [2] * len2\n",
    "covars = {'batch':first_columns_as_one + last_columns_as_two,\n",
    "          'sex':both_togetherF.loc['sex',:].values.tolist(),\n",
    "           'age':both_togetherF.loc['age',:].values.tolist(),} \n",
    "covars = pd.DataFrame(covars) "
   ]
  },
  {
   "cell_type": "code",
   "execution_count": null,
   "id": "26",
   "metadata": {
    "tags": []
   },
   "outputs": [],
   "source": [
    "# specifify sex as categorical\n",
    "categorical_cols = ['sex']\n",
    "# To specify the name of the variable that encodes for the scanner/batch covariate:\n",
    "batch_col_mine = 'batch'\n",
    "\n",
    "#Harmonization step:\n",
    "data_combat = neuroCombat(dat=data,\n",
    "    covars=covars,\n",
    "    batch_col=batch_col_mine,\n",
    "    categorical_cols=categorical_cols)[\"data\"]"
   ]
  },
  {
   "cell_type": "code",
   "execution_count": null,
   "id": "27",
   "metadata": {
    "tags": []
   },
   "outputs": [],
   "source": [
    "neurocombat = pd.DataFrame(data_combat)\n",
    "neurocombat"
   ]
  },
  {
   "cell_type": "code",
   "execution_count": null,
   "id": "28",
   "metadata": {
    "tags": []
   },
   "outputs": [],
   "source": [
    "def make_topper(btF, row0,row1):\n",
    "    \"\"\"\n",
    "    This function makes top rows for something harmonized\n",
    "    out of the btF part produced with prep_for_neurocombat(dataframename1, dataframename2)\n",
    "    \"\"\"\n",
    "    topperF = btF.head(2)\n",
    "    topperF = topperF.rename_axis(None, axis=\"columns\")\n",
    "    topperF = topperF.reset_index(drop=False)\n",
    "    topperF = topperF.rename(columns={\"index\": \"char\"})\n",
    "    topperF['char'][0] = row0#'age'\n",
    "    topperF['char'][1] = row1#'sex'\n",
    "    return topperF"
   ]
  },
  {
   "cell_type": "code",
   "execution_count": null,
   "id": "29",
   "metadata": {
    "tags": []
   },
   "outputs": [],
   "source": [
    "topperF = make_topper(btF,'age', 'sex')"
   ]
  },
  {
   "cell_type": "code",
   "execution_count": null,
   "id": "30",
   "metadata": {
    "tags": []
   },
   "outputs": [],
   "source": [
    "bottom = neurocombat.reset_index(drop=False)\n",
    "bottom = bottom.rename(columns={\"index\": \"char\"})\n",
    "bottom.columns = topperF.columns"
   ]
  },
  {
   "cell_type": "code",
   "execution_count": null,
   "id": "31",
   "metadata": {
    "tags": []
   },
   "outputs": [],
   "source": [
    "back_together = pd.concat([topperF, bottom])\n",
    "back_together = back_together.T\n",
    "#back_together"
   ]
  },
  {
   "cell_type": "code",
   "execution_count": null,
   "id": "32",
   "metadata": {
    "tags": []
   },
   "outputs": [],
   "source": [
    "new_header = back_together.iloc[0] #grab the first row for the header\n",
    "back_together.columns = new_header #set the header row as the df header\n",
    "back_together = back_together[1:]\n",
    "#back_together"
   ]
  },
  {
   "cell_type": "code",
   "execution_count": null,
   "id": "33",
   "metadata": {
    "tags": []
   },
   "outputs": [],
   "source": [
    "neuro_harm_top =back_together.tail(len2)\n",
    "neuro_harm_mri =back_together.head(len1)"
   ]
  },
  {
   "cell_type": "code",
   "execution_count": null,
   "id": "34",
   "metadata": {
    "tags": []
   },
   "outputs": [],
   "source": [
    "neuro_harm_top_synth = neuro_harm_top.rename(feature_dictF, axis='columns')\n",
    "neuro_harm_mri_synth = neuro_harm_mri.rename(feature_dictF, axis='columns')"
   ]
  },
  {
   "cell_type": "code",
   "execution_count": null,
   "id": "35",
   "metadata": {
    "tags": []
   },
   "outputs": [],
   "source": [
    "neuro_harm_mri_synth"
   ]
  },
  {
   "cell_type": "code",
   "execution_count": null,
   "id": "36",
   "metadata": {
    "tags": []
   },
   "outputs": [],
   "source": [
    "neuro_harm_top_synth"
   ]
  },
  {
   "cell_type": "code",
   "execution_count": null,
   "id": "37",
   "metadata": {
    "tags": []
   },
   "outputs": [],
   "source": [
    "# neuro_harm_mri.to_csv('neuro_harm_mri.csv')\n",
    "# neuro_harm_top.to_csv('neuro_harm_top.csv')"
   ]
  },
  {
   "cell_type": "markdown",
   "id": "38",
   "metadata": {},
   "source": [
    "# Investigate neurocombat results"
   ]
  },
  {
   "cell_type": "markdown",
   "id": "39",
   "metadata": {},
   "source": []
  },
  {
   "cell_type": "code",
   "execution_count": null,
   "id": "40",
   "metadata": {
    "tags": []
   },
   "outputs": [],
   "source": []
  },
  {
   "cell_type": "code",
   "execution_count": null,
   "id": "41",
   "metadata": {
    "tags": []
   },
   "outputs": [],
   "source": []
  },
  {
   "cell_type": "code",
   "execution_count": null,
   "id": "42",
   "metadata": {
    "tags": []
   },
   "outputs": [],
   "source": []
  },
  {
   "cell_type": "code",
   "execution_count": null,
   "id": "43",
   "metadata": {
    "tags": []
   },
   "outputs": [],
   "source": []
  },
  {
   "cell_type": "code",
   "execution_count": null,
   "id": "44",
   "metadata": {
    "tags": []
   },
   "outputs": [],
   "source": []
  }
 ],
 "metadata": {
  "kernelspec": {
   "display_name": "Python 3 (ipykernel)",
   "language": "python",
   "name": "python3"
  },
  "language_info": {
   "codemirror_mode": {
    "name": "ipython",
    "version": 3
   },
   "file_extension": ".py",
   "mimetype": "text/x-python",
   "name": "python",
   "nbconvert_exporter": "python",
   "pygments_lexer": "ipython3",
   "version": "3.7.12"
  }
 },
 "nbformat": 4,
 "nbformat_minor": 5
}
