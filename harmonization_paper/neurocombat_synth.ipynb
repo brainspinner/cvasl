{
 "cells": [
  {
   "cell_type": "markdown",
   "id": "7a33816b-aebe-4619-ad1f-a13d8d1e1c08",
   "metadata": {},
   "source": [
    "# Neurocombat harmonized synthetic datasets"
   ]
  },
  {
   "cell_type": "markdown",
   "id": "7f765dc9-a0ac-498a-8c6a-72d1dbf11ad5",
   "metadata": {},
   "source": [
    "Note this must be run in the `neuron` environment"
   ]
  },
  {
   "cell_type": "markdown",
   "id": "0b8443b2-c77a-4cde-80cc-d17253eeda50",
   "metadata": {},
   "source": [
    "## import libraries"
   ]
  },
  {
   "cell_type": "code",
   "execution_count": null,
   "id": "6c43d78c-4b3d-4483-aa81-6155993812c1",
   "metadata": {
    "tags": []
   },
   "outputs": [],
   "source": [
    "import os\n",
    "\n",
    "import pandas as pd\n",
    "import numpy as np\n",
    "\n",
    "from neuroCombat import neuroCombat"
   ]
  },
  {
   "cell_type": "markdown",
   "id": "47358f71-117f-4423-be78-bf1334bad921",
   "metadata": {},
   "source": [
    "## Let's make perturbed data\n",
    "We will use our example data and perturb it"
   ]
  },
  {
   "cell_type": "code",
   "execution_count": null,
   "id": "e7c50732-bade-4b0d-b2ff-3ab0d547ae54",
   "metadata": {
    "tags": []
   },
   "outputs": [],
   "source": [
    "# filepath = '../open_work/internal_results/cleaned_pvc2s/' \n",
    "# filename_mri = os.path.join(filepath,'StrokeMRI_pvc2c.csv') \n",
    "# mri= pd.read_csv(filename_mri)\n",
    "# mri"
   ]
  },
  {
   "cell_type": "code",
   "execution_count": null,
   "id": "b3f0435c-df16-408e-a483-e7e30a32320d",
   "metadata": {
    "tags": []
   },
   "outputs": [],
   "source": [
    "filename_standard = os.path.join('../researcher_interface/sample_sep_values/showable_standard.csv') \n",
    "standard = pd.read_csv(filename_standard)"
   ]
  },
  {
   "cell_type": "code",
   "execution_count": null,
   "id": "f7035abc-2b26-4e1c-a427-17da4ced367f",
   "metadata": {
    "tags": []
   },
   "outputs": [],
   "source": [
    "standard.head(3)"
   ]
  },
  {
   "cell_type": "code",
   "execution_count": null,
   "id": "a7550bdd-257d-439f-84a7-4ff3f9b84e80",
   "metadata": {
    "tags": []
   },
   "outputs": [],
   "source": [
    "alt_standard = standard.copy(deep=True)\n",
    "#alt_standard"
   ]
  },
  {
   "cell_type": "code",
   "execution_count": null,
   "id": "c3734db5-4e30-4759-b60f-18e0e939dd29",
   "metadata": {
    "tags": []
   },
   "outputs": [],
   "source": [
    "list_participants = []\n",
    "\n",
    "for i in range(len(alt_standard)):\n",
    "    list_participants.append(i+ 100)"
   ]
  },
  {
   "cell_type": "code",
   "execution_count": null,
   "id": "bcd12f2f-cea8-44a1-98d2-06f5d36e109b",
   "metadata": {
    "tags": []
   },
   "outputs": [],
   "source": [
    "alt_standard['participant_id'] = list_participants \n",
    "#alt_standard['participant_id']\n"
   ]
  },
  {
   "cell_type": "code",
   "execution_count": null,
   "id": "f8d1250c-6e14-47be-a8ae-788a782085d6",
   "metadata": {
    "tags": []
   },
   "outputs": [],
   "source": [
    "# alt_standard = alt_standard.drop(['session_id','run_id'], axis=1)\n",
    "# standard = standard.drop(['session_id','run_id'], axis=1)\n",
    "# #two_selection = our_2_frame.drop(['Unnamed: 0'],axis=1)"
   ]
  },
  {
   "cell_type": "code",
   "execution_count": null,
   "id": "898f320a-e79d-462a-91a0-3df337b8a513",
   "metadata": {
    "tags": []
   },
   "outputs": [],
   "source": [
    "alt_standard[ 'site'] = 1\n",
    "standard['site'] = 2"
   ]
  },
  {
   "cell_type": "code",
   "execution_count": null,
   "id": "a804660d-0f4f-4f53-bba1-c84245e34c14",
   "metadata": {
    "tags": []
   },
   "outputs": [],
   "source": [
    "#alt_standard.isna().sum()\n",
    "number_columns = ['gm_vol',\n",
    "                  'wm_vol',\n",
    "                  'csf_vol',\n",
    "                  'gm_icv_ratio', \n",
    "                  'gmwm_icv_ratio',\n",
    "                  'wmh_vol',\n",
    "                  'wmh_count',\n",
    "                  'cbf_gm_pvc0',\n",
    "                  'cbf_gm_pvc2',\n",
    "                  'cbf_wm_pvc0',\n",
    "                  'cbf_wm_pvc2',\n",
    "                  'cbf_aca_pvc0',\n",
    "                  'cbf_mca_pvc0',\n",
    "                  'cbf_pca_pvc0',\n",
    "                  'cbf_aca_pvc2', 'cbf_mca_pvc2', 'cbf_pca_pvc2', 'cov_gm_pvc0',\n",
    "                  'cov_gm_pvc2', 'cov_wm_pvc0', 'cov_wm_pvc2', 'cov_aca_pvc0',\n",
    "                  'cov_mca_pvc0', 'cov_pca_pvc0', 'cov_aca_pvc2', 'cov_mca_pvc2',\n",
    "                  'cov_pca_pvc2', 'Additional_1', 'Additional_2']"
   ]
  },
  {
   "cell_type": "code",
   "execution_count": null,
   "id": "304d8755-9697-4697-9756-382988d214eb",
   "metadata": {
    "tags": []
   },
   "outputs": [],
   "source": [
    "alt_standard[number_columns] = alt_standard[number_columns] * 10 + 2"
   ]
  },
  {
   "cell_type": "code",
   "execution_count": null,
   "id": "e4f7417c-1107-4f86-9882-095032266c0e",
   "metadata": {
    "tags": []
   },
   "outputs": [],
   "source": [
    "standard[number_columns] = standard[number_columns] * 5 + 2"
   ]
  },
  {
   "cell_type": "code",
   "execution_count": null,
   "id": "df3fe923-2cad-4109-8462-4d61d108364e",
   "metadata": {
    "tags": []
   },
   "outputs": [],
   "source": [
    "standard.describe()"
   ]
  },
  {
   "cell_type": "code",
   "execution_count": null,
   "id": "0f69f634-5b8a-4330-8614-bd85f3cc36ea",
   "metadata": {
    "tags": []
   },
   "outputs": [],
   "source": [
    "alt_standard.describe()"
   ]
  },
  {
   "cell_type": "code",
   "execution_count": null,
   "id": "318acdb5",
   "metadata": {
    "tags": []
   },
   "outputs": [],
   "source": [
    "def prep_for_neurocombat_synth(our_2_frame, our_1_frame):\n",
    "    \"\"\"\n",
    "    This function takes two dataframes in the cvasl format,\n",
    "    then turns them into three items needed for the \n",
    "    neurocombat algorithm with re-identification.\n",
    "    \n",
    "    \"\"\"\n",
    "    #our_1_frame = pd.read_csv(dataframename1)\n",
    "    #our_2_frame = pd.read_csv(dataframename2)\n",
    "    two_selection = our_2_frame.drop(['session_id','run_id'],axis=1)\n",
    "    one_selection = our_1_frame.drop(['session_id','run_id'],axis=1)\n",
    "    one_selection = one_selection.set_index('participant_id')\n",
    "    two_selection = two_selection.set_index('participant_id')\n",
    "    one_selection = one_selection.T\n",
    "    two_selection = two_selection.T\n",
    "    both_togetherF = pd.concat([one_selection, two_selection], axis=1, join=\"inner\")\n",
    "    print(\"Nan count\",both_togetherF.isna().sum().sum())\n",
    "    features_only = both_togetherF[2:]\n",
    "    dictionary_features_len = len(features_only.T.columns)\n",
    "    number = 0\n",
    "    made_keys = [] \n",
    "    made_vals = [] \n",
    "    for n in features_only.T.columns:\n",
    "\n",
    "        made_keys.append(number)\n",
    "        made_vals.append(n)\n",
    "        number +=1\n",
    "    feature_dictF = dict(map(lambda i,j : (i,j) , made_keys,made_vals))\n",
    "    ftF = features_only.reset_index()\n",
    "    ftF = ftF.rename(columns={\"index\": \"A\"})\n",
    "    ftF = ftF.drop(['A'], axis=1)\n",
    "    ftF = ftF.dropna()\n",
    "    btF = both_togetherF.reset_index()\n",
    "    btF = btF.rename(columns={\"index\": \"A\"})\n",
    "    btF = btF.drop(['A'], axis=1)\n",
    "    btF = btF.dropna()\n",
    "    len1 = len(one_selection.columns)\n",
    "    len2 = len(two_selection.columns)\n",
    "    return both_togetherF, ftF, btF, feature_dictF, len1, len2"
   ]
  },
  {
   "cell_type": "code",
   "execution_count": null,
   "id": "afb9b058",
   "metadata": {
    "tags": []
   },
   "outputs": [],
   "source": [
    "both_togetherF, ftF, btF, feature_dictF, len1, len2 = prep_for_neurocombat_synth(standard, alt_standard)"
   ]
  },
  {
   "cell_type": "code",
   "execution_count": null,
   "id": "0994afd5-bd15-4b70-88b3-e64fb297e81f",
   "metadata": {
    "tags": []
   },
   "outputs": [],
   "source": [
    "# our_mri_data = pd.read_csv(filename_mri)\n",
    "# our_top_data = pd.read_csv(filename_top)"
   ]
  },
  {
   "cell_type": "code",
   "execution_count": null,
   "id": "bb5f07aa-d902-4997-be96-32f9383f6074",
   "metadata": {
    "tags": []
   },
   "outputs": [],
   "source": [
    "# # save off csv\n",
    "# both_together.to_csv('both_top_mri_together.csv')"
   ]
  },
  {
   "cell_type": "code",
   "execution_count": null,
   "id": "add96e2c-ad39-4a97-bedb-62c3c67ef7c5",
   "metadata": {
    "tags": []
   },
   "outputs": [],
   "source": [
    "# # make and save of csv of features only\n",
    "# features_only = both_together[2:]\n",
    "# #features_only.to_csv('features_only_top_mri.csv')"
   ]
  },
  {
   "cell_type": "code",
   "execution_count": null,
   "id": "6c9d178c",
   "metadata": {
    "tags": []
   },
   "outputs": [],
   "source": [
    "ftF.to_csv('ftF_synth.csv')"
   ]
  },
  {
   "cell_type": "code",
   "execution_count": null,
   "id": "7c219d10-f86a-41b7-9cad-6f0dda6534ba",
   "metadata": {
    "tags": []
   },
   "outputs": [],
   "source": [
    "data = np.genfromtxt('ftF_synth.csv', delimiter=\",\", skip_header=1)\n",
    "data = data[:, 1:]\n",
    "data"
   ]
  },
  {
   "cell_type": "code",
   "execution_count": null,
   "id": "0822a85f",
   "metadata": {
    "tags": []
   },
   "outputs": [],
   "source": [
    "# Specifying the batch (scanner variable) as well as a sex covariate to preserve:\n",
    "first_columns_as_one = [1] * len1\n",
    "last_columns_as_two = [2] * len2\n",
    "covars = {'batch':first_columns_as_one + last_columns_as_two,\n",
    "          'sex':both_togetherF.loc['sex',:].values.tolist(),\n",
    "           'age':both_togetherF.loc['age',:].values.tolist(),} \n",
    "covars = pd.DataFrame(covars) "
   ]
  },
  {
   "cell_type": "code",
   "execution_count": null,
   "id": "c9b12ab3-c95d-400a-8d59-6f2cc0169570",
   "metadata": {
    "tags": []
   },
   "outputs": [],
   "source": [
    "# specifify sex as categorical\n",
    "categorical_cols = ['sex']\n",
    "# To specify the name of the variable that encodes for the scanner/batch covariate:\n",
    "batch_col_mine = 'batch'\n",
    "\n",
    "#Harmonization step:\n",
    "data_combat = neuroCombat(dat=data,\n",
    "    covars=covars,\n",
    "    batch_col=batch_col_mine,\n",
    "    categorical_cols=categorical_cols)[\"data\"]"
   ]
  },
  {
   "cell_type": "code",
   "execution_count": null,
   "id": "1081f339-db19-4920-b672-034732bb683d",
   "metadata": {
    "tags": []
   },
   "outputs": [],
   "source": [
    "neurocombat = pd.DataFrame(data_combat)\n",
    "neurocombat"
   ]
  },
  {
   "cell_type": "code",
   "execution_count": null,
   "id": "1e338673-9a75-4673-83fd-de4628184213",
   "metadata": {
    "tags": []
   },
   "outputs": [],
   "source": [
    "def make_topper(btF, row0,row1):\n",
    "    \"\"\"\n",
    "    This function makes top rows for something harmonized\n",
    "    out of the btF part produced with prep_for_neurocombat(dataframename1, dataframename2)\n",
    "    \"\"\"\n",
    "    topperF = btF.head(2)\n",
    "    topperF = topperF.rename_axis(None, axis=\"columns\")\n",
    "    topperF = topperF.reset_index(drop=False)\n",
    "    topperF = topperF.rename(columns={\"index\": \"char\"})\n",
    "    topperF['char'][0] = row0#'age'\n",
    "    topperF['char'][1] = row1#'sex'\n",
    "    return topperF"
   ]
  },
  {
   "cell_type": "code",
   "execution_count": null,
   "id": "e13498a9-4d84-448d-a0db-a0306d4cd22c",
   "metadata": {
    "tags": []
   },
   "outputs": [],
   "source": [
    "topperF = make_topper(btF,'age', 'sex')"
   ]
  },
  {
   "cell_type": "code",
   "execution_count": null,
   "id": "4221e474-acd6-4a77-be9f-20f283015f18",
   "metadata": {
    "tags": []
   },
   "outputs": [],
   "source": [
    "bottom = neurocombat.reset_index(drop=False)\n",
    "bottom = bottom.rename(columns={\"index\": \"char\"})\n",
    "bottom.columns = topperF.columns"
   ]
  },
  {
   "cell_type": "code",
   "execution_count": null,
   "id": "e777f7f0-c411-477e-bedb-aef5bd99e3c8",
   "metadata": {
    "tags": []
   },
   "outputs": [],
   "source": [
    "back_together = pd.concat([topperF, bottom])\n",
    "back_together = back_together.T\n",
    "#back_together"
   ]
  },
  {
   "cell_type": "code",
   "execution_count": null,
   "id": "fbeeec53-6d33-4fa2-a173-de19b79c435b",
   "metadata": {
    "tags": []
   },
   "outputs": [],
   "source": [
    "new_header = back_together.iloc[0] #grab the first row for the header\n",
    "back_together.columns = new_header #set the header row as the df header\n",
    "back_together = back_together[1:]\n",
    "#back_together"
   ]
  },
  {
   "cell_type": "code",
   "execution_count": null,
   "id": "57dbb033-c216-4df9-b1e4-db93783c4e7b",
   "metadata": {
    "tags": []
   },
   "outputs": [],
   "source": [
    "neuro_harm_top =back_together.tail(len2)\n",
    "neuro_harm_mri =back_together.head(len1)"
   ]
  },
  {
   "cell_type": "code",
   "execution_count": null,
   "id": "ce61d0b9-28fd-43c1-ba3f-8b43453ecd0b",
   "metadata": {
    "tags": []
   },
   "outputs": [],
   "source": [
    "neuro_harm_top_synth = neuro_harm_top.rename(feature_dictF, axis='columns')\n",
    "neuro_harm_mri_synth = neuro_harm_mri.rename(feature_dictF, axis='columns')"
   ]
  },
  {
   "cell_type": "code",
   "execution_count": null,
   "id": "6017d260-0c4c-4d7f-9d1c-75708480aa46",
   "metadata": {
    "tags": []
   },
   "outputs": [],
   "source": [
    "neuro_harm_mri_synth"
   ]
  },
  {
   "cell_type": "code",
   "execution_count": null,
   "id": "8b9af0d8-35fd-4929-a8b8-7c60d68bb640",
   "metadata": {
    "tags": []
   },
   "outputs": [],
   "source": [
    "neuro_harm_top_synth"
   ]
  },
  {
   "cell_type": "code",
   "execution_count": null,
   "id": "613ddb0a-008a-42d4-a6a9-c88be60e8f21",
   "metadata": {
    "tags": []
   },
   "outputs": [],
   "source": [
    "# neuro_harm_mri.to_csv('neuro_harm_mri.csv')\n",
    "# neuro_harm_top.to_csv('neuro_harm_top.csv')"
   ]
  },
  {
   "cell_type": "markdown",
   "id": "3a5db039",
   "metadata": {},
   "source": [
    "# Investigate neurocombat results"
   ]
  },
  {
   "cell_type": "markdown",
   "id": "bcf7f258-5ee6-4e8d-8b0b-12b55e38b6e9",
   "metadata": {},
   "source": []
  },
  {
   "cell_type": "code",
   "execution_count": null,
   "id": "d9d6b7a4-16d4-4119-927d-3a11116aeff5",
   "metadata": {
    "tags": []
   },
   "outputs": [],
   "source": []
  },
  {
   "cell_type": "code",
   "execution_count": null,
   "id": "630c2040-a7ab-4af2-96dc-e1d05ef1a5e9",
   "metadata": {
    "tags": []
   },
   "outputs": [],
   "source": []
  },
  {
   "cell_type": "code",
   "execution_count": null,
   "id": "719a887a-439c-476a-b4a6-2bf9ab3bba78",
   "metadata": {
    "tags": []
   },
   "outputs": [],
   "source": []
  },
  {
   "cell_type": "code",
   "execution_count": null,
   "id": "6c3bd1fe-8280-42d0-a3cc-290abfe7f83c",
   "metadata": {
    "tags": []
   },
   "outputs": [],
   "source": []
  },
  {
   "cell_type": "code",
   "execution_count": null,
   "id": "0fbf4d5c-1688-4b05-809c-be65178e25ea",
   "metadata": {
    "tags": []
   },
   "outputs": [],
   "source": []
  }
 ],
 "metadata": {
  "kernelspec": {
   "display_name": "Python 3 (ipykernel)",
   "language": "python",
   "name": "python3"
  },
  "language_info": {
   "codemirror_mode": {
    "name": "ipython",
    "version": 3
   },
   "file_extension": ".py",
   "mimetype": "text/x-python",
   "name": "python",
   "nbconvert_exporter": "python",
   "pygments_lexer": "ipython3",
   "version": "3.7.12"
  }
 },
 "nbformat": 4,
 "nbformat_minor": 5
}
