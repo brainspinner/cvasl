{
 "cells": [
  {
   "cell_type": "markdown",
   "id": "e8edc98e-5785-4d1c-baed-02bfc4721f60",
   "metadata": {},
   "source": [
    "# ML testing: experiment #6\n",
    "\n",
    "This notebook involves testing for the MRI conference abstract. This notebook shows mixed_dataset (TOP + StrokeMRI) based models after hharmonization with neurharmony"
   ]
  },
  {
   "cell_type": "markdown",
   "id": "be45db67-b24a-409e-bb35-ca468a779ec2",
   "metadata": {
    "tags": []
   },
   "source": [
    "### import libraries"
   ]
  },
  {
   "cell_type": "code",
   "execution_count": 1,
   "id": "514ef9ea-48df-4f68-b440-77ee12cddefe",
   "metadata": {
    "tags": []
   },
   "outputs": [],
   "source": [
    "import os       # using operating system dependent functionality (folders)\n",
    "import sys\n",
    "\n",
    "import glob\n",
    "\n",
    "import pandas as pd # data analysis and manipulation\n",
    "import numpy as np    # numerical computing (manipulating and performing operations on arrays of data)\n",
    "import matplotlib.pyplot as plt\n",
    "\n",
    "# demo stuff\n",
    "import ipywidgets as widgets\n",
    "import seaborn \n",
    "\n",
    "# ml stuff\n",
    "from sklearn.model_selection import train_test_split\n",
    "from sklearn.preprocessing import StandardScaler\n",
    "#from sklearn.svm import SVC\n",
    "from sklearn.metrics import accuracy_score\n",
    "#from sklearn.linear_model import LogisticRegression\n",
    "from sklearn.linear_model import LinearRegression\n",
    "from sklearn import linear_model\n",
    "from sklearn import tree\n",
    "from sklearn import metrics\n",
    "from sklearn.linear_model import SGDRegressor\n",
    "from sklearn.metrics import confusion_matrix\n",
    "from sklearn.metrics import mean_absolute_error\n",
    "from sklearn.neighbors import KNeighborsClassifier\n",
    "from sklearn.svm import SVR\n",
    "from sklearn.neural_network import MLPRegressor\n",
    "\n",
    "import joblib\n",
    "\n",
    "sys.path.insert(0, '../') # path to functions\n",
    "import cvasl.seperated as sep\n",
    "from cvasl.file_handler import Config"
   ]
  },
  {
   "cell_type": "markdown",
   "id": "b0e7da24-0537-44b4-85fb-e69c68c5ec9a",
   "metadata": {
    "tags": []
   },
   "source": [
    "### import data"
   ]
  },
  {
   "cell_type": "code",
   "execution_count": 2,
   "id": "e8b2675d-4011-44c4-9180-5980c0c60dac",
   "metadata": {
    "tags": []
   },
   "outputs": [],
   "source": [
    "filepath_mri = '../open_work/internal_results/harmonized_pvc2s/' \n",
    "filename_mri = os.path.join(filepath_mri,'neuro_harm_mri.csv') \n",
    "\n",
    "filepath_top = '../open_work/internal_results/harmonized_pvc2s/' \n",
    "filename_top = os.path.join(filepath_top,'neuro_harm_top.csv') "
   ]
  },
  {
   "cell_type": "code",
   "execution_count": 3,
   "id": "6aa791f2-8373-4bcf-aa39-1b1adc7a3c00",
   "metadata": {
    "tags": []
   },
   "outputs": [],
   "source": [
    "TOP = pd.read_csv(filename_top)\n",
    "StrokeMRI = pd.read_csv(filename_mri)"
   ]
  },
  {
   "cell_type": "code",
   "execution_count": 4,
   "id": "ffc73bcd-dd95-47a8-bc17-f4e9de240a52",
   "metadata": {
    "tags": []
   },
   "outputs": [
    {
     "data": {
      "text/html": [
       "<div>\n",
       "<style scoped>\n",
       "    .dataframe tbody tr th:only-of-type {\n",
       "        vertical-align: middle;\n",
       "    }\n",
       "\n",
       "    .dataframe tbody tr th {\n",
       "        vertical-align: top;\n",
       "    }\n",
       "\n",
       "    .dataframe thead th {\n",
       "        text-align: right;\n",
       "    }\n",
       "</style>\n",
       "<table border=\"1\" class=\"dataframe\">\n",
       "  <thead>\n",
       "    <tr style=\"text-align: right;\">\n",
       "      <th></th>\n",
       "      <th>participant_id</th>\n",
       "      <th>age</th>\n",
       "      <th>sex</th>\n",
       "      <th>gm_vol</th>\n",
       "      <th>wm_vol</th>\n",
       "      <th>csf_vol</th>\n",
       "      <th>gm_ivc_ratio</th>\n",
       "      <th>gmwm_ivc_ratio</th>\n",
       "      <th>wmh_vol</th>\n",
       "      <th>wmh_count</th>\n",
       "      <th>deepwm_b_cov</th>\n",
       "      <th>aca_b_cov</th>\n",
       "      <th>mca_b_cov</th>\n",
       "      <th>pca_b_cov</th>\n",
       "      <th>totalgm_b_cov</th>\n",
       "      <th>deepwm_b</th>\n",
       "      <th>aca_b</th>\n",
       "      <th>mca_b</th>\n",
       "      <th>pca_b</th>\n",
       "      <th>totalgm_b</th>\n",
       "    </tr>\n",
       "  </thead>\n",
       "  <tbody>\n",
       "    <tr>\n",
       "      <th>0</th>\n",
       "      <td>sub-0001_1_ses-1_run-1</td>\n",
       "      <td>43.49</td>\n",
       "      <td>M</td>\n",
       "      <td>0.686888</td>\n",
       "      <td>0.519514</td>\n",
       "      <td>0.357149</td>\n",
       "      <td>0.438598</td>\n",
       "      <td>0.438598</td>\n",
       "      <td>0.186430</td>\n",
       "      <td>28.325901</td>\n",
       "      <td>7.733488</td>\n",
       "      <td>2.446866</td>\n",
       "      <td>2.358709</td>\n",
       "      <td>3.021907</td>\n",
       "      <td>2.511524</td>\n",
       "      <td>23.045935</td>\n",
       "      <td>76.893372</td>\n",
       "      <td>65.199130</td>\n",
       "      <td>50.374181</td>\n",
       "      <td>57.699251</td>\n",
       "    </tr>\n",
       "    <tr>\n",
       "      <th>1</th>\n",
       "      <td>sub-0002_1_ses-1_run-1</td>\n",
       "      <td>38.30</td>\n",
       "      <td>F</td>\n",
       "      <td>0.696452</td>\n",
       "      <td>0.618740</td>\n",
       "      <td>0.297726</td>\n",
       "      <td>0.427895</td>\n",
       "      <td>0.427895</td>\n",
       "      <td>8.315378</td>\n",
       "      <td>29.731818</td>\n",
       "      <td>8.122519</td>\n",
       "      <td>1.830924</td>\n",
       "      <td>2.452607</td>\n",
       "      <td>1.609489</td>\n",
       "      <td>1.988648</td>\n",
       "      <td>24.215803</td>\n",
       "      <td>83.688537</td>\n",
       "      <td>74.211362</td>\n",
       "      <td>61.291006</td>\n",
       "      <td>67.849267</td>\n",
       "    </tr>\n",
       "    <tr>\n",
       "      <th>2</th>\n",
       "      <td>sub-0019_1_ses-1_run-1</td>\n",
       "      <td>32.30</td>\n",
       "      <td>M</td>\n",
       "      <td>0.681526</td>\n",
       "      <td>0.524535</td>\n",
       "      <td>0.379375</td>\n",
       "      <td>0.429206</td>\n",
       "      <td>0.429206</td>\n",
       "      <td>-3.405104</td>\n",
       "      <td>7.743664</td>\n",
       "      <td>7.874985</td>\n",
       "      <td>2.076195</td>\n",
       "      <td>1.857048</td>\n",
       "      <td>2.348879</td>\n",
       "      <td>2.207727</td>\n",
       "      <td>27.096383</td>\n",
       "      <td>88.954234</td>\n",
       "      <td>80.633545</td>\n",
       "      <td>59.213314</td>\n",
       "      <td>69.173143</td>\n",
       "    </tr>\n",
       "  </tbody>\n",
       "</table>\n",
       "</div>"
      ],
      "text/plain": [
       "           participant_id    age sex    gm_vol    wm_vol   csf_vol  \\\n",
       "0  sub-0001_1_ses-1_run-1  43.49   M  0.686888  0.519514  0.357149   \n",
       "1  sub-0002_1_ses-1_run-1  38.30   F  0.696452  0.618740  0.297726   \n",
       "2  sub-0019_1_ses-1_run-1  32.30   M  0.681526  0.524535  0.379375   \n",
       "\n",
       "   gm_ivc_ratio  gmwm_ivc_ratio   wmh_vol  wmh_count  deepwm_b_cov  aca_b_cov  \\\n",
       "0      0.438598        0.438598  0.186430  28.325901      7.733488   2.446866   \n",
       "1      0.427895        0.427895  8.315378  29.731818      8.122519   1.830924   \n",
       "2      0.429206        0.429206 -3.405104   7.743664      7.874985   2.076195   \n",
       "\n",
       "   mca_b_cov  pca_b_cov  totalgm_b_cov   deepwm_b      aca_b      mca_b  \\\n",
       "0   2.358709   3.021907       2.511524  23.045935  76.893372  65.199130   \n",
       "1   2.452607   1.609489       1.988648  24.215803  83.688537  74.211362   \n",
       "2   1.857048   2.348879       2.207727  27.096383  88.954234  80.633545   \n",
       "\n",
       "       pca_b  totalgm_b  \n",
       "0  50.374181  57.699251  \n",
       "1  61.291006  67.849267  \n",
       "2  59.213314  69.173143  "
      ]
     },
     "execution_count": 4,
     "metadata": {},
     "output_type": "execute_result"
    }
   ],
   "source": [
    "TOP = TOP.rename(columns={\"Unnamed: 0\": \"participant_id\"})\n",
    "TOP.head(3)#TOP"
   ]
  },
  {
   "cell_type": "code",
   "execution_count": 5,
   "id": "545f346f-9d06-4cfa-b232-ec5784d655b2",
   "metadata": {
    "tags": []
   },
   "outputs": [
    {
     "data": {
      "text/html": [
       "<div>\n",
       "<style scoped>\n",
       "    .dataframe tbody tr th:only-of-type {\n",
       "        vertical-align: middle;\n",
       "    }\n",
       "\n",
       "    .dataframe tbody tr th {\n",
       "        vertical-align: top;\n",
       "    }\n",
       "\n",
       "    .dataframe thead th {\n",
       "        text-align: right;\n",
       "    }\n",
       "</style>\n",
       "<table border=\"1\" class=\"dataframe\">\n",
       "  <thead>\n",
       "    <tr style=\"text-align: right;\">\n",
       "      <th></th>\n",
       "      <th>participant_id</th>\n",
       "      <th>age</th>\n",
       "      <th>sex</th>\n",
       "      <th>gm_vol</th>\n",
       "      <th>wm_vol</th>\n",
       "      <th>csf_vol</th>\n",
       "      <th>gm_ivc_ratio</th>\n",
       "      <th>gmwm_ivc_ratio</th>\n",
       "      <th>wmh_vol</th>\n",
       "      <th>wmh_count</th>\n",
       "      <th>deepwm_b_cov</th>\n",
       "      <th>aca_b_cov</th>\n",
       "      <th>mca_b_cov</th>\n",
       "      <th>pca_b_cov</th>\n",
       "      <th>totalgm_b_cov</th>\n",
       "      <th>deepwm_b</th>\n",
       "      <th>aca_b</th>\n",
       "      <th>mca_b</th>\n",
       "      <th>pca_b</th>\n",
       "      <th>totalgm_b</th>\n",
       "    </tr>\n",
       "  </thead>\n",
       "  <tbody>\n",
       "    <tr>\n",
       "      <th>0</th>\n",
       "      <td>sub-59082_1_ses-1_run-1</td>\n",
       "      <td>43.172603</td>\n",
       "      <td>F</td>\n",
       "      <td>0.676570</td>\n",
       "      <td>0.502153</td>\n",
       "      <td>0.274844</td>\n",
       "      <td>0.464791</td>\n",
       "      <td>0.464791</td>\n",
       "      <td>-0.741153</td>\n",
       "      <td>21.019972</td>\n",
       "      <td>8.940170</td>\n",
       "      <td>1.679010</td>\n",
       "      <td>1.972876</td>\n",
       "      <td>1.677336</td>\n",
       "      <td>1.910629</td>\n",
       "      <td>28.288935</td>\n",
       "      <td>112.407756</td>\n",
       "      <td>99.711380</td>\n",
       "      <td>79.901797</td>\n",
       "      <td>93.408254</td>\n",
       "    </tr>\n",
       "    <tr>\n",
       "      <th>1</th>\n",
       "      <td>sub-59083_1_ses-1_run-1</td>\n",
       "      <td>66.367123</td>\n",
       "      <td>F</td>\n",
       "      <td>0.636007</td>\n",
       "      <td>0.493854</td>\n",
       "      <td>0.368881</td>\n",
       "      <td>0.423664</td>\n",
       "      <td>0.423664</td>\n",
       "      <td>8.895530</td>\n",
       "      <td>21.780841</td>\n",
       "      <td>5.230700</td>\n",
       "      <td>1.881776</td>\n",
       "      <td>1.733382</td>\n",
       "      <td>2.456991</td>\n",
       "      <td>1.881870</td>\n",
       "      <td>23.811992</td>\n",
       "      <td>78.760008</td>\n",
       "      <td>67.858413</td>\n",
       "      <td>69.958931</td>\n",
       "      <td>71.725258</td>\n",
       "    </tr>\n",
       "    <tr>\n",
       "      <th>2</th>\n",
       "      <td>sub-59085_1_ses-1_run-1</td>\n",
       "      <td>55.838356</td>\n",
       "      <td>F</td>\n",
       "      <td>0.647562</td>\n",
       "      <td>0.544655</td>\n",
       "      <td>0.295151</td>\n",
       "      <td>0.436396</td>\n",
       "      <td>0.436396</td>\n",
       "      <td>2.935053</td>\n",
       "      <td>25.585188</td>\n",
       "      <td>6.401311</td>\n",
       "      <td>1.752890</td>\n",
       "      <td>1.979178</td>\n",
       "      <td>1.987917</td>\n",
       "      <td>1.942573</td>\n",
       "      <td>30.412874</td>\n",
       "      <td>85.100774</td>\n",
       "      <td>77.584112</td>\n",
       "      <td>64.082736</td>\n",
       "      <td>68.226467</td>\n",
       "    </tr>\n",
       "  </tbody>\n",
       "</table>\n",
       "</div>"
      ],
      "text/plain": [
       "            participant_id        age sex    gm_vol    wm_vol   csf_vol  \\\n",
       "0  sub-59082_1_ses-1_run-1  43.172603   F  0.676570  0.502153  0.274844   \n",
       "1  sub-59083_1_ses-1_run-1  66.367123   F  0.636007  0.493854  0.368881   \n",
       "2  sub-59085_1_ses-1_run-1  55.838356   F  0.647562  0.544655  0.295151   \n",
       "\n",
       "   gm_ivc_ratio  gmwm_ivc_ratio   wmh_vol  wmh_count  deepwm_b_cov  aca_b_cov  \\\n",
       "0      0.464791        0.464791 -0.741153  21.019972      8.940170   1.679010   \n",
       "1      0.423664        0.423664  8.895530  21.780841      5.230700   1.881776   \n",
       "2      0.436396        0.436396  2.935053  25.585188      6.401311   1.752890   \n",
       "\n",
       "   mca_b_cov  pca_b_cov  totalgm_b_cov   deepwm_b       aca_b      mca_b  \\\n",
       "0   1.972876   1.677336       1.910629  28.288935  112.407756  99.711380   \n",
       "1   1.733382   2.456991       1.881870  23.811992   78.760008  67.858413   \n",
       "2   1.979178   1.987917       1.942573  30.412874   85.100774  77.584112   \n",
       "\n",
       "       pca_b  totalgm_b  \n",
       "0  79.901797  93.408254  \n",
       "1  69.958931  71.725258  \n",
       "2  64.082736  68.226467  "
      ]
     },
     "execution_count": 5,
     "metadata": {},
     "output_type": "execute_result"
    }
   ],
   "source": [
    "StrokeMRI = StrokeMRI.rename(columns={\"Unnamed: 0\": \"participant_id\"})\n",
    "StrokeMRI.head(3)"
   ]
  },
  {
   "cell_type": "code",
   "execution_count": 6,
   "id": "5739dc25-1f43-45b7-a544-78860839b16b",
   "metadata": {
    "tags": []
   },
   "outputs": [
    {
     "data": {
      "text/html": [
       "<div>\n",
       "<style scoped>\n",
       "    .dataframe tbody tr th:only-of-type {\n",
       "        vertical-align: middle;\n",
       "    }\n",
       "\n",
       "    .dataframe tbody tr th {\n",
       "        vertical-align: top;\n",
       "    }\n",
       "\n",
       "    .dataframe thead th {\n",
       "        text-align: right;\n",
       "    }\n",
       "</style>\n",
       "<table border=\"1\" class=\"dataframe\">\n",
       "  <thead>\n",
       "    <tr style=\"text-align: right;\">\n",
       "      <th></th>\n",
       "      <th>participant_id</th>\n",
       "      <th>age</th>\n",
       "      <th>sex</th>\n",
       "      <th>gm_vol</th>\n",
       "      <th>wm_vol</th>\n",
       "      <th>csf_vol</th>\n",
       "      <th>gm_ivc_ratio</th>\n",
       "      <th>gmwm_ivc_ratio</th>\n",
       "      <th>wmh_vol</th>\n",
       "      <th>wmh_count</th>\n",
       "      <th>deepwm_b_cov</th>\n",
       "      <th>aca_b_cov</th>\n",
       "      <th>mca_b_cov</th>\n",
       "      <th>pca_b_cov</th>\n",
       "      <th>totalgm_b_cov</th>\n",
       "      <th>deepwm_b</th>\n",
       "      <th>aca_b</th>\n",
       "      <th>mca_b</th>\n",
       "      <th>pca_b</th>\n",
       "      <th>totalgm_b</th>\n",
       "    </tr>\n",
       "  </thead>\n",
       "  <tbody>\n",
       "    <tr>\n",
       "      <th>0</th>\n",
       "      <td>sub-0001_1_ses-1_run-1</td>\n",
       "      <td>43.49</td>\n",
       "      <td>1</td>\n",
       "      <td>0.686888</td>\n",
       "      <td>0.519514</td>\n",
       "      <td>0.357149</td>\n",
       "      <td>0.438598</td>\n",
       "      <td>0.438598</td>\n",
       "      <td>0.186430</td>\n",
       "      <td>28.325901</td>\n",
       "      <td>7.733488</td>\n",
       "      <td>2.446866</td>\n",
       "      <td>2.358709</td>\n",
       "      <td>3.021907</td>\n",
       "      <td>2.511524</td>\n",
       "      <td>23.045935</td>\n",
       "      <td>76.893372</td>\n",
       "      <td>65.199130</td>\n",
       "      <td>50.374181</td>\n",
       "      <td>57.699251</td>\n",
       "    </tr>\n",
       "    <tr>\n",
       "      <th>1</th>\n",
       "      <td>sub-0002_1_ses-1_run-1</td>\n",
       "      <td>38.30</td>\n",
       "      <td>0</td>\n",
       "      <td>0.696452</td>\n",
       "      <td>0.618740</td>\n",
       "      <td>0.297726</td>\n",
       "      <td>0.427895</td>\n",
       "      <td>0.427895</td>\n",
       "      <td>8.315378</td>\n",
       "      <td>29.731818</td>\n",
       "      <td>8.122519</td>\n",
       "      <td>1.830924</td>\n",
       "      <td>2.452607</td>\n",
       "      <td>1.609489</td>\n",
       "      <td>1.988648</td>\n",
       "      <td>24.215803</td>\n",
       "      <td>83.688537</td>\n",
       "      <td>74.211362</td>\n",
       "      <td>61.291006</td>\n",
       "      <td>67.849267</td>\n",
       "    </tr>\n",
       "    <tr>\n",
       "      <th>2</th>\n",
       "      <td>sub-0019_1_ses-1_run-1</td>\n",
       "      <td>32.30</td>\n",
       "      <td>1</td>\n",
       "      <td>0.681526</td>\n",
       "      <td>0.524535</td>\n",
       "      <td>0.379375</td>\n",
       "      <td>0.429206</td>\n",
       "      <td>0.429206</td>\n",
       "      <td>-3.405104</td>\n",
       "      <td>7.743664</td>\n",
       "      <td>7.874985</td>\n",
       "      <td>2.076195</td>\n",
       "      <td>1.857048</td>\n",
       "      <td>2.348879</td>\n",
       "      <td>2.207727</td>\n",
       "      <td>27.096383</td>\n",
       "      <td>88.954234</td>\n",
       "      <td>80.633545</td>\n",
       "      <td>59.213314</td>\n",
       "      <td>69.173143</td>\n",
       "    </tr>\n",
       "  </tbody>\n",
       "</table>\n",
       "</div>"
      ],
      "text/plain": [
       "           participant_id    age  sex    gm_vol    wm_vol   csf_vol  \\\n",
       "0  sub-0001_1_ses-1_run-1  43.49    1  0.686888  0.519514  0.357149   \n",
       "1  sub-0002_1_ses-1_run-1  38.30    0  0.696452  0.618740  0.297726   \n",
       "2  sub-0019_1_ses-1_run-1  32.30    1  0.681526  0.524535  0.379375   \n",
       "\n",
       "   gm_ivc_ratio  gmwm_ivc_ratio   wmh_vol  wmh_count  deepwm_b_cov  aca_b_cov  \\\n",
       "0      0.438598        0.438598  0.186430  28.325901      7.733488   2.446866   \n",
       "1      0.427895        0.427895  8.315378  29.731818      8.122519   1.830924   \n",
       "2      0.429206        0.429206 -3.405104   7.743664      7.874985   2.076195   \n",
       "\n",
       "   mca_b_cov  pca_b_cov  totalgm_b_cov   deepwm_b      aca_b      mca_b  \\\n",
       "0   2.358709   3.021907       2.511524  23.045935  76.893372  65.199130   \n",
       "1   2.452607   1.609489       1.988648  24.215803  83.688537  74.211362   \n",
       "2   1.857048   2.348879       2.207727  27.096383  88.954234  80.633545   \n",
       "\n",
       "       pca_b  totalgm_b  \n",
       "0  50.374181  57.699251  \n",
       "1  61.291006  67.849267  \n",
       "2  59.213314  69.173143  "
      ]
     },
     "execution_count": 6,
     "metadata": {},
     "output_type": "execute_result"
    }
   ],
   "source": [
    "# Now we need to flip the sex back to numbers for a correlation\n",
    "sex_mapping = {'F':0,'M':1}\n",
    "TOP = TOP.assign(sex = TOP.sex.map(sex_mapping))\n",
    "TOP.head(3)"
   ]
  },
  {
   "cell_type": "code",
   "execution_count": 7,
   "id": "98319176-a064-4081-b873-a16cc98d4194",
   "metadata": {
    "tags": []
   },
   "outputs": [
    {
     "data": {
      "text/html": [
       "<div>\n",
       "<style scoped>\n",
       "    .dataframe tbody tr th:only-of-type {\n",
       "        vertical-align: middle;\n",
       "    }\n",
       "\n",
       "    .dataframe tbody tr th {\n",
       "        vertical-align: top;\n",
       "    }\n",
       "\n",
       "    .dataframe thead th {\n",
       "        text-align: right;\n",
       "    }\n",
       "</style>\n",
       "<table border=\"1\" class=\"dataframe\">\n",
       "  <thead>\n",
       "    <tr style=\"text-align: right;\">\n",
       "      <th></th>\n",
       "      <th>participant_id</th>\n",
       "      <th>age</th>\n",
       "      <th>sex</th>\n",
       "      <th>gm_vol</th>\n",
       "      <th>wm_vol</th>\n",
       "      <th>csf_vol</th>\n",
       "      <th>gm_ivc_ratio</th>\n",
       "      <th>gmwm_ivc_ratio</th>\n",
       "      <th>wmh_vol</th>\n",
       "      <th>wmh_count</th>\n",
       "      <th>deepwm_b_cov</th>\n",
       "      <th>aca_b_cov</th>\n",
       "      <th>mca_b_cov</th>\n",
       "      <th>pca_b_cov</th>\n",
       "      <th>totalgm_b_cov</th>\n",
       "      <th>deepwm_b</th>\n",
       "      <th>aca_b</th>\n",
       "      <th>mca_b</th>\n",
       "      <th>pca_b</th>\n",
       "      <th>totalgm_b</th>\n",
       "    </tr>\n",
       "  </thead>\n",
       "  <tbody>\n",
       "    <tr>\n",
       "      <th>0</th>\n",
       "      <td>sub-59082_1_ses-1_run-1</td>\n",
       "      <td>43.172603</td>\n",
       "      <td>0</td>\n",
       "      <td>0.676570</td>\n",
       "      <td>0.502153</td>\n",
       "      <td>0.274844</td>\n",
       "      <td>0.464791</td>\n",
       "      <td>0.464791</td>\n",
       "      <td>-0.741153</td>\n",
       "      <td>21.019972</td>\n",
       "      <td>8.940170</td>\n",
       "      <td>1.679010</td>\n",
       "      <td>1.972876</td>\n",
       "      <td>1.677336</td>\n",
       "      <td>1.910629</td>\n",
       "      <td>28.288935</td>\n",
       "      <td>112.407756</td>\n",
       "      <td>99.711380</td>\n",
       "      <td>79.901797</td>\n",
       "      <td>93.408254</td>\n",
       "    </tr>\n",
       "    <tr>\n",
       "      <th>1</th>\n",
       "      <td>sub-59083_1_ses-1_run-1</td>\n",
       "      <td>66.367123</td>\n",
       "      <td>0</td>\n",
       "      <td>0.636007</td>\n",
       "      <td>0.493854</td>\n",
       "      <td>0.368881</td>\n",
       "      <td>0.423664</td>\n",
       "      <td>0.423664</td>\n",
       "      <td>8.895530</td>\n",
       "      <td>21.780841</td>\n",
       "      <td>5.230700</td>\n",
       "      <td>1.881776</td>\n",
       "      <td>1.733382</td>\n",
       "      <td>2.456991</td>\n",
       "      <td>1.881870</td>\n",
       "      <td>23.811992</td>\n",
       "      <td>78.760008</td>\n",
       "      <td>67.858413</td>\n",
       "      <td>69.958931</td>\n",
       "      <td>71.725258</td>\n",
       "    </tr>\n",
       "    <tr>\n",
       "      <th>2</th>\n",
       "      <td>sub-59085_1_ses-1_run-1</td>\n",
       "      <td>55.838356</td>\n",
       "      <td>0</td>\n",
       "      <td>0.647562</td>\n",
       "      <td>0.544655</td>\n",
       "      <td>0.295151</td>\n",
       "      <td>0.436396</td>\n",
       "      <td>0.436396</td>\n",
       "      <td>2.935053</td>\n",
       "      <td>25.585188</td>\n",
       "      <td>6.401311</td>\n",
       "      <td>1.752890</td>\n",
       "      <td>1.979178</td>\n",
       "      <td>1.987917</td>\n",
       "      <td>1.942573</td>\n",
       "      <td>30.412874</td>\n",
       "      <td>85.100774</td>\n",
       "      <td>77.584112</td>\n",
       "      <td>64.082736</td>\n",
       "      <td>68.226467</td>\n",
       "    </tr>\n",
       "  </tbody>\n",
       "</table>\n",
       "</div>"
      ],
      "text/plain": [
       "            participant_id        age  sex    gm_vol    wm_vol   csf_vol  \\\n",
       "0  sub-59082_1_ses-1_run-1  43.172603    0  0.676570  0.502153  0.274844   \n",
       "1  sub-59083_1_ses-1_run-1  66.367123    0  0.636007  0.493854  0.368881   \n",
       "2  sub-59085_1_ses-1_run-1  55.838356    0  0.647562  0.544655  0.295151   \n",
       "\n",
       "   gm_ivc_ratio  gmwm_ivc_ratio   wmh_vol  wmh_count  deepwm_b_cov  aca_b_cov  \\\n",
       "0      0.464791        0.464791 -0.741153  21.019972      8.940170   1.679010   \n",
       "1      0.423664        0.423664  8.895530  21.780841      5.230700   1.881776   \n",
       "2      0.436396        0.436396  2.935053  25.585188      6.401311   1.752890   \n",
       "\n",
       "   mca_b_cov  pca_b_cov  totalgm_b_cov   deepwm_b       aca_b      mca_b  \\\n",
       "0   1.972876   1.677336       1.910629  28.288935  112.407756  99.711380   \n",
       "1   1.733382   2.456991       1.881870  23.811992   78.760008  67.858413   \n",
       "2   1.979178   1.987917       1.942573  30.412874   85.100774  77.584112   \n",
       "\n",
       "       pca_b  totalgm_b  \n",
       "0  79.901797  93.408254  \n",
       "1  69.958931  71.725258  \n",
       "2  64.082736  68.226467  "
      ]
     },
     "execution_count": 7,
     "metadata": {},
     "output_type": "execute_result"
    }
   ],
   "source": [
    "StrokeMRI = StrokeMRI.assign(sex = StrokeMRI.sex.map(sex_mapping))\n",
    "StrokeMRI.head(3)"
   ]
  },
  {
   "cell_type": "code",
   "execution_count": 8,
   "id": "b9efbca7-4d32-4371-94ea-42cd3cb9ba3b",
   "metadata": {
    "tags": []
   },
   "outputs": [
    {
     "name": "stdout",
     "output_type": "stream",
     "text": [
      "set()\n"
     ]
    }
   ],
   "source": [
    "# check for any duplicated patients\n",
    "strokers = set(StrokeMRI.participant_id)\n",
    "topers = set(TOP.participant_id)\n",
    "z = strokers.intersection(topers)\n",
    "print(z) "
   ]
  },
  {
   "cell_type": "code",
   "execution_count": 9,
   "id": "e59d0741-040c-4265-a2b5-5dfbd37214e1",
   "metadata": {
    "tags": []
   },
   "outputs": [],
   "source": [
    "# make mixed dataset\n",
    "mixed_data = pd.concat([TOP, StrokeMRI], sort=False)\n"
   ]
  },
  {
   "cell_type": "markdown",
   "id": "f0c08947-d926-416e-92c4-7a644618a456",
   "metadata": {},
   "source": [
    "## Build ML models"
   ]
  },
  {
   "cell_type": "markdown",
   "id": "342956e4-4d11-45dd-94ce-f480813e5a4c",
   "metadata": {},
   "source": [
    "# keeping patient ID until right when model is fed, then use patient ID as key to what went where"
   ]
  },
  {
   "cell_type": "code",
   "execution_count": 10,
   "id": "0e8b41eb-3b29-46e2-9627-85627d2d7da8",
   "metadata": {
    "tags": []
   },
   "outputs": [],
   "source": [
    "ml_matrix = mixed_data #.drop('participant_id', axis=1)\n",
    "X = ml_matrix.drop('age', axis =1)\n",
    "X = X.values\n",
    "y = ml_matrix['age'].values\n",
    "y=y.astype('float')\n"
   ]
  },
  {
   "cell_type": "code",
   "execution_count": 11,
   "id": "6b707d30-686b-492d-96c1-4a5e01a166d2",
   "metadata": {
    "tags": []
   },
   "outputs": [],
   "source": [
    "X_train, X_test, y_train, y_test = train_test_split(X, y, test_size=0.25, random_state=12)"
   ]
  },
  {
   "cell_type": "code",
   "execution_count": 12,
   "id": "a745e96c-b85b-4235-98b2-fcab31e0cb51",
   "metadata": {
    "tags": []
   },
   "outputs": [
    {
     "data": {
      "text/plain": [
       "(780, 18)"
      ]
     },
     "execution_count": 12,
     "metadata": {},
     "output_type": "execute_result"
    }
   ],
   "source": [
    "X_train_cut = X_train[:,1:]\n",
    "X_train_cut = X_train_cut.astype('float')\n",
    "X_train_cut.shape"
   ]
  },
  {
   "cell_type": "code",
   "execution_count": 13,
   "id": "94c3b19b-57b2-4f79-95da-9fc45bcf6ff9",
   "metadata": {
    "tags": []
   },
   "outputs": [
    {
     "data": {
      "text/plain": [
       "(261, 18)"
      ]
     },
     "execution_count": 13,
     "metadata": {},
     "output_type": "execute_result"
    }
   ],
   "source": [
    "X_test_cut = X_test[:,1:]\n",
    "X_test_cut = X_test_cut.astype('float')\n",
    "X_test_cut.shape"
   ]
  },
  {
   "cell_type": "code",
   "execution_count": 14,
   "id": "7c5c0b26-3c14-46e4-8d38-90f00160bb35",
   "metadata": {
    "tags": []
   },
   "outputs": [],
   "source": [
    "# svr_poly = SVR(kernel=\"poly\", C=100, gamma=\"auto\", degree=2, epsilon=0.1, coef0=1)\n",
    "# svr_poly.fit(X_train_cut, y_train)"
   ]
  },
  {
   "cell_type": "code",
   "execution_count": 15,
   "id": "f6d0509d-bc28-4d64-82e8-9a5b653f843d",
   "metadata": {
    "tags": []
   },
   "outputs": [],
   "source": [
    "# y_pred = svr_poly.predict(X_test_cut)"
   ]
  },
  {
   "cell_type": "code",
   "execution_count": 16,
   "id": "8f07354f-01af-4c8f-82b8-ea8408fb0011",
   "metadata": {
    "tags": []
   },
   "outputs": [],
   "source": [
    "# print('R2 score SV polynomial regression: %.3f' % svr_poly.score(X_test_cut,y_test))\n",
    "# print('Explained variance score: %.3f'  % metrics.explained_variance_score(y_test, y_pred))\n",
    "# print('MAE: % .3f' % mean_absolute_error(y_test, y_pred))"
   ]
  },
  {
   "cell_type": "code",
   "execution_count": 17,
   "id": "ae678f74-7a54-47a1-ba93-289b12b263f2",
   "metadata": {
    "tags": []
   },
   "outputs": [
    {
     "data": {
      "text/html": [
       "<style>#sk-container-id-1 {color: black;background-color: white;}#sk-container-id-1 pre{padding: 0;}#sk-container-id-1 div.sk-toggleable {background-color: white;}#sk-container-id-1 label.sk-toggleable__label {cursor: pointer;display: block;width: 100%;margin-bottom: 0;padding: 0.3em;box-sizing: border-box;text-align: center;}#sk-container-id-1 label.sk-toggleable__label-arrow:before {content: \"▸\";float: left;margin-right: 0.25em;color: #696969;}#sk-container-id-1 label.sk-toggleable__label-arrow:hover:before {color: black;}#sk-container-id-1 div.sk-estimator:hover label.sk-toggleable__label-arrow:before {color: black;}#sk-container-id-1 div.sk-toggleable__content {max-height: 0;max-width: 0;overflow: hidden;text-align: left;background-color: #f0f8ff;}#sk-container-id-1 div.sk-toggleable__content pre {margin: 0.2em;color: black;border-radius: 0.25em;background-color: #f0f8ff;}#sk-container-id-1 input.sk-toggleable__control:checked~div.sk-toggleable__content {max-height: 200px;max-width: 100%;overflow: auto;}#sk-container-id-1 input.sk-toggleable__control:checked~label.sk-toggleable__label-arrow:before {content: \"▾\";}#sk-container-id-1 div.sk-estimator input.sk-toggleable__control:checked~label.sk-toggleable__label {background-color: #d4ebff;}#sk-container-id-1 div.sk-label input.sk-toggleable__control:checked~label.sk-toggleable__label {background-color: #d4ebff;}#sk-container-id-1 input.sk-hidden--visually {border: 0;clip: rect(1px 1px 1px 1px);clip: rect(1px, 1px, 1px, 1px);height: 1px;margin: -1px;overflow: hidden;padding: 0;position: absolute;width: 1px;}#sk-container-id-1 div.sk-estimator {font-family: monospace;background-color: #f0f8ff;border: 1px dotted black;border-radius: 0.25em;box-sizing: border-box;margin-bottom: 0.5em;}#sk-container-id-1 div.sk-estimator:hover {background-color: #d4ebff;}#sk-container-id-1 div.sk-parallel-item::after {content: \"\";width: 100%;border-bottom: 1px solid gray;flex-grow: 1;}#sk-container-id-1 div.sk-label:hover label.sk-toggleable__label {background-color: #d4ebff;}#sk-container-id-1 div.sk-serial::before {content: \"\";position: absolute;border-left: 1px solid gray;box-sizing: border-box;top: 0;bottom: 0;left: 50%;z-index: 0;}#sk-container-id-1 div.sk-serial {display: flex;flex-direction: column;align-items: center;background-color: white;padding-right: 0.2em;padding-left: 0.2em;position: relative;}#sk-container-id-1 div.sk-item {position: relative;z-index: 1;}#sk-container-id-1 div.sk-parallel {display: flex;align-items: stretch;justify-content: center;background-color: white;position: relative;}#sk-container-id-1 div.sk-item::before, #sk-container-id-1 div.sk-parallel-item::before {content: \"\";position: absolute;border-left: 1px solid gray;box-sizing: border-box;top: 0;bottom: 0;left: 50%;z-index: -1;}#sk-container-id-1 div.sk-parallel-item {display: flex;flex-direction: column;z-index: 1;position: relative;background-color: white;}#sk-container-id-1 div.sk-parallel-item:first-child::after {align-self: flex-end;width: 50%;}#sk-container-id-1 div.sk-parallel-item:last-child::after {align-self: flex-start;width: 50%;}#sk-container-id-1 div.sk-parallel-item:only-child::after {width: 0;}#sk-container-id-1 div.sk-dashed-wrapped {border: 1px dashed gray;margin: 0 0.4em 0.5em 0.4em;box-sizing: border-box;padding-bottom: 0.4em;background-color: white;}#sk-container-id-1 div.sk-label label {font-family: monospace;font-weight: bold;display: inline-block;line-height: 1.2em;}#sk-container-id-1 div.sk-label-container {text-align: center;}#sk-container-id-1 div.sk-container {/* jupyter's `normalize.less` sets `[hidden] { display: none; }` but bootstrap.min.css set `[hidden] { display: none !important; }` so we also need the `!important` here to be able to override the default hidden behavior on the sphinx rendered scikit-learn.org. See: https://github.com/scikit-learn/scikit-learn/issues/21755 */display: inline-block !important;position: relative;}#sk-container-id-1 div.sk-text-repr-fallback {display: none;}</style><div id=\"sk-container-id-1\" class=\"sk-top-container\"><div class=\"sk-text-repr-fallback\"><pre>MLPRegressor(max_iter=700, random_state=1)</pre><b>In a Jupyter environment, please rerun this cell to show the HTML representation or trust the notebook. <br />On GitHub, the HTML representation is unable to render, please try loading this page with nbviewer.org.</b></div><div class=\"sk-container\" hidden><div class=\"sk-item\"><div class=\"sk-estimator sk-toggleable\"><input class=\"sk-toggleable__control sk-hidden--visually\" id=\"sk-estimator-id-1\" type=\"checkbox\" checked><label for=\"sk-estimator-id-1\" class=\"sk-toggleable__label sk-toggleable__label-arrow\">MLPRegressor</label><div class=\"sk-toggleable__content\"><pre>MLPRegressor(max_iter=700, random_state=1)</pre></div></div></div></div></div>"
      ],
      "text/plain": [
       "MLPRegressor(max_iter=700, random_state=1)"
      ]
     },
     "execution_count": 17,
     "metadata": {},
     "output_type": "execute_result"
    }
   ],
   "source": [
    "\n",
    "regr = MLPRegressor(random_state=1, max_iter=700)\n",
    "regr.fit(X_train_cut, y_train)"
   ]
  },
  {
   "cell_type": "code",
   "execution_count": 18,
   "id": "3dffbf12-aa8b-4ee4-adc2-b10c7e7077d0",
   "metadata": {
    "tags": []
   },
   "outputs": [],
   "source": [
    "y_pred = regr.predict(X_test_cut)"
   ]
  },
  {
   "cell_type": "code",
   "execution_count": 19,
   "id": "2bdd28e8-3fc0-4c1d-ae8e-de49e0e553d6",
   "metadata": {
    "tags": []
   },
   "outputs": [
    {
     "name": "stdout",
     "output_type": "stream",
     "text": [
      "R2 score neural network mlp regression: 0.295\n",
      "Explained variance score: 0.298\n",
      "MAE:  12.390\n"
     ]
    }
   ],
   "source": [
    "print('R2 score neural network mlp regression: %.3f' % regr.score(X_test_cut,y_test))\n",
    "print('Explained variance score: %.3f'  % metrics.explained_variance_score(y_test, y_pred))\n",
    "print('MAE: % .3f' % mean_absolute_error(y_test, y_pred))"
   ]
  },
  {
   "cell_type": "code",
   "execution_count": 20,
   "id": "2276d281-3098-4318-b82e-d9c797b47776",
   "metadata": {
    "tags": []
   },
   "outputs": [
    {
     "data": {
      "text/html": [
       "<style>#sk-container-id-2 {color: black;background-color: white;}#sk-container-id-2 pre{padding: 0;}#sk-container-id-2 div.sk-toggleable {background-color: white;}#sk-container-id-2 label.sk-toggleable__label {cursor: pointer;display: block;width: 100%;margin-bottom: 0;padding: 0.3em;box-sizing: border-box;text-align: center;}#sk-container-id-2 label.sk-toggleable__label-arrow:before {content: \"▸\";float: left;margin-right: 0.25em;color: #696969;}#sk-container-id-2 label.sk-toggleable__label-arrow:hover:before {color: black;}#sk-container-id-2 div.sk-estimator:hover label.sk-toggleable__label-arrow:before {color: black;}#sk-container-id-2 div.sk-toggleable__content {max-height: 0;max-width: 0;overflow: hidden;text-align: left;background-color: #f0f8ff;}#sk-container-id-2 div.sk-toggleable__content pre {margin: 0.2em;color: black;border-radius: 0.25em;background-color: #f0f8ff;}#sk-container-id-2 input.sk-toggleable__control:checked~div.sk-toggleable__content {max-height: 200px;max-width: 100%;overflow: auto;}#sk-container-id-2 input.sk-toggleable__control:checked~label.sk-toggleable__label-arrow:before {content: \"▾\";}#sk-container-id-2 div.sk-estimator input.sk-toggleable__control:checked~label.sk-toggleable__label {background-color: #d4ebff;}#sk-container-id-2 div.sk-label input.sk-toggleable__control:checked~label.sk-toggleable__label {background-color: #d4ebff;}#sk-container-id-2 input.sk-hidden--visually {border: 0;clip: rect(1px 1px 1px 1px);clip: rect(1px, 1px, 1px, 1px);height: 1px;margin: -1px;overflow: hidden;padding: 0;position: absolute;width: 1px;}#sk-container-id-2 div.sk-estimator {font-family: monospace;background-color: #f0f8ff;border: 1px dotted black;border-radius: 0.25em;box-sizing: border-box;margin-bottom: 0.5em;}#sk-container-id-2 div.sk-estimator:hover {background-color: #d4ebff;}#sk-container-id-2 div.sk-parallel-item::after {content: \"\";width: 100%;border-bottom: 1px solid gray;flex-grow: 1;}#sk-container-id-2 div.sk-label:hover label.sk-toggleable__label {background-color: #d4ebff;}#sk-container-id-2 div.sk-serial::before {content: \"\";position: absolute;border-left: 1px solid gray;box-sizing: border-box;top: 0;bottom: 0;left: 50%;z-index: 0;}#sk-container-id-2 div.sk-serial {display: flex;flex-direction: column;align-items: center;background-color: white;padding-right: 0.2em;padding-left: 0.2em;position: relative;}#sk-container-id-2 div.sk-item {position: relative;z-index: 1;}#sk-container-id-2 div.sk-parallel {display: flex;align-items: stretch;justify-content: center;background-color: white;position: relative;}#sk-container-id-2 div.sk-item::before, #sk-container-id-2 div.sk-parallel-item::before {content: \"\";position: absolute;border-left: 1px solid gray;box-sizing: border-box;top: 0;bottom: 0;left: 50%;z-index: -1;}#sk-container-id-2 div.sk-parallel-item {display: flex;flex-direction: column;z-index: 1;position: relative;background-color: white;}#sk-container-id-2 div.sk-parallel-item:first-child::after {align-self: flex-end;width: 50%;}#sk-container-id-2 div.sk-parallel-item:last-child::after {align-self: flex-start;width: 50%;}#sk-container-id-2 div.sk-parallel-item:only-child::after {width: 0;}#sk-container-id-2 div.sk-dashed-wrapped {border: 1px dashed gray;margin: 0 0.4em 0.5em 0.4em;box-sizing: border-box;padding-bottom: 0.4em;background-color: white;}#sk-container-id-2 div.sk-label label {font-family: monospace;font-weight: bold;display: inline-block;line-height: 1.2em;}#sk-container-id-2 div.sk-label-container {text-align: center;}#sk-container-id-2 div.sk-container {/* jupyter's `normalize.less` sets `[hidden] { display: none; }` but bootstrap.min.css set `[hidden] { display: none !important; }` so we also need the `!important` here to be able to override the default hidden behavior on the sphinx rendered scikit-learn.org. See: https://github.com/scikit-learn/scikit-learn/issues/21755 */display: inline-block !important;position: relative;}#sk-container-id-2 div.sk-text-repr-fallback {display: none;}</style><div id=\"sk-container-id-2\" class=\"sk-top-container\"><div class=\"sk-text-repr-fallback\"><pre>LinearRegression()</pre><b>In a Jupyter environment, please rerun this cell to show the HTML representation or trust the notebook. <br />On GitHub, the HTML representation is unable to render, please try loading this page with nbviewer.org.</b></div><div class=\"sk-container\" hidden><div class=\"sk-item\"><div class=\"sk-estimator sk-toggleable\"><input class=\"sk-toggleable__control sk-hidden--visually\" id=\"sk-estimator-id-2\" type=\"checkbox\" checked><label for=\"sk-estimator-id-2\" class=\"sk-toggleable__label sk-toggleable__label-arrow\">LinearRegression</label><div class=\"sk-toggleable__content\"><pre>LinearRegression()</pre></div></div></div></div></div>"
      ],
      "text/plain": [
       "LinearRegression()"
      ]
     },
     "execution_count": 20,
     "metadata": {},
     "output_type": "execute_result"
    }
   ],
   "source": [
    "linr = LinearRegression()\n",
    "linr.fit(X_train_cut, y_train)"
   ]
  },
  {
   "cell_type": "code",
   "execution_count": 21,
   "id": "b5a5a422-47de-48a8-b6d3-6fd3f2df7323",
   "metadata": {
    "tags": []
   },
   "outputs": [],
   "source": [
    "y_pred = linr.predict(X_test_cut)"
   ]
  },
  {
   "cell_type": "code",
   "execution_count": 22,
   "id": "e9826378-18ef-4f08-b6c5-ddafcc4ea6b2",
   "metadata": {
    "tags": []
   },
   "outputs": [
    {
     "name": "stdout",
     "output_type": "stream",
     "text": [
      "R2 score Linear regression: 0.430\n",
      "Explained variance score: 0.431\n",
      "MAE:  11.832\n"
     ]
    }
   ],
   "source": [
    "print('R2 score Linear regression: %.3f' % linr.score(X_test_cut,y_test))\n",
    "print('Explained variance score: %.3f'  % metrics.explained_variance_score(y_test, y_pred))\n",
    "print('MAE: % .3f' % mean_absolute_error(y_test, y_pred))"
   ]
  },
  {
   "cell_type": "code",
   "execution_count": 23,
   "id": "03c76cd8-d6b0-47ad-a24e-496fab3398ac",
   "metadata": {
    "tags": []
   },
   "outputs": [
    {
     "data": {
      "text/html": [
       "<style>#sk-container-id-3 {color: black;background-color: white;}#sk-container-id-3 pre{padding: 0;}#sk-container-id-3 div.sk-toggleable {background-color: white;}#sk-container-id-3 label.sk-toggleable__label {cursor: pointer;display: block;width: 100%;margin-bottom: 0;padding: 0.3em;box-sizing: border-box;text-align: center;}#sk-container-id-3 label.sk-toggleable__label-arrow:before {content: \"▸\";float: left;margin-right: 0.25em;color: #696969;}#sk-container-id-3 label.sk-toggleable__label-arrow:hover:before {color: black;}#sk-container-id-3 div.sk-estimator:hover label.sk-toggleable__label-arrow:before {color: black;}#sk-container-id-3 div.sk-toggleable__content {max-height: 0;max-width: 0;overflow: hidden;text-align: left;background-color: #f0f8ff;}#sk-container-id-3 div.sk-toggleable__content pre {margin: 0.2em;color: black;border-radius: 0.25em;background-color: #f0f8ff;}#sk-container-id-3 input.sk-toggleable__control:checked~div.sk-toggleable__content {max-height: 200px;max-width: 100%;overflow: auto;}#sk-container-id-3 input.sk-toggleable__control:checked~label.sk-toggleable__label-arrow:before {content: \"▾\";}#sk-container-id-3 div.sk-estimator input.sk-toggleable__control:checked~label.sk-toggleable__label {background-color: #d4ebff;}#sk-container-id-3 div.sk-label input.sk-toggleable__control:checked~label.sk-toggleable__label {background-color: #d4ebff;}#sk-container-id-3 input.sk-hidden--visually {border: 0;clip: rect(1px 1px 1px 1px);clip: rect(1px, 1px, 1px, 1px);height: 1px;margin: -1px;overflow: hidden;padding: 0;position: absolute;width: 1px;}#sk-container-id-3 div.sk-estimator {font-family: monospace;background-color: #f0f8ff;border: 1px dotted black;border-radius: 0.25em;box-sizing: border-box;margin-bottom: 0.5em;}#sk-container-id-3 div.sk-estimator:hover {background-color: #d4ebff;}#sk-container-id-3 div.sk-parallel-item::after {content: \"\";width: 100%;border-bottom: 1px solid gray;flex-grow: 1;}#sk-container-id-3 div.sk-label:hover label.sk-toggleable__label {background-color: #d4ebff;}#sk-container-id-3 div.sk-serial::before {content: \"\";position: absolute;border-left: 1px solid gray;box-sizing: border-box;top: 0;bottom: 0;left: 50%;z-index: 0;}#sk-container-id-3 div.sk-serial {display: flex;flex-direction: column;align-items: center;background-color: white;padding-right: 0.2em;padding-left: 0.2em;position: relative;}#sk-container-id-3 div.sk-item {position: relative;z-index: 1;}#sk-container-id-3 div.sk-parallel {display: flex;align-items: stretch;justify-content: center;background-color: white;position: relative;}#sk-container-id-3 div.sk-item::before, #sk-container-id-3 div.sk-parallel-item::before {content: \"\";position: absolute;border-left: 1px solid gray;box-sizing: border-box;top: 0;bottom: 0;left: 50%;z-index: -1;}#sk-container-id-3 div.sk-parallel-item {display: flex;flex-direction: column;z-index: 1;position: relative;background-color: white;}#sk-container-id-3 div.sk-parallel-item:first-child::after {align-self: flex-end;width: 50%;}#sk-container-id-3 div.sk-parallel-item:last-child::after {align-self: flex-start;width: 50%;}#sk-container-id-3 div.sk-parallel-item:only-child::after {width: 0;}#sk-container-id-3 div.sk-dashed-wrapped {border: 1px dashed gray;margin: 0 0.4em 0.5em 0.4em;box-sizing: border-box;padding-bottom: 0.4em;background-color: white;}#sk-container-id-3 div.sk-label label {font-family: monospace;font-weight: bold;display: inline-block;line-height: 1.2em;}#sk-container-id-3 div.sk-label-container {text-align: center;}#sk-container-id-3 div.sk-container {/* jupyter's `normalize.less` sets `[hidden] { display: none; }` but bootstrap.min.css set `[hidden] { display: none !important; }` so we also need the `!important` here to be able to override the default hidden behavior on the sphinx rendered scikit-learn.org. See: https://github.com/scikit-learn/scikit-learn/issues/21755 */display: inline-block !important;position: relative;}#sk-container-id-3 div.sk-text-repr-fallback {display: none;}</style><div id=\"sk-container-id-3\" class=\"sk-top-container\"><div class=\"sk-text-repr-fallback\"><pre>LassoLars(alpha=0.01)</pre><b>In a Jupyter environment, please rerun this cell to show the HTML representation or trust the notebook. <br />On GitHub, the HTML representation is unable to render, please try loading this page with nbviewer.org.</b></div><div class=\"sk-container\" hidden><div class=\"sk-item\"><div class=\"sk-estimator sk-toggleable\"><input class=\"sk-toggleable__control sk-hidden--visually\" id=\"sk-estimator-id-3\" type=\"checkbox\" checked><label for=\"sk-estimator-id-3\" class=\"sk-toggleable__label sk-toggleable__label-arrow\">LassoLars</label><div class=\"sk-toggleable__content\"><pre>LassoLars(alpha=0.01)</pre></div></div></div></div></div>"
      ],
      "text/plain": [
       "LassoLars(alpha=0.01)"
      ]
     },
     "execution_count": 23,
     "metadata": {},
     "output_type": "execute_result"
    }
   ],
   "source": [
    "llreg = linear_model.LassoLars(alpha=0.01)\n",
    "llreg.fit(X_train_cut, y_train)"
   ]
  },
  {
   "cell_type": "code",
   "execution_count": 24,
   "id": "c9302487-5646-48e3-b596-4e6cfad6e13c",
   "metadata": {
    "tags": []
   },
   "outputs": [
    {
     "name": "stdout",
     "output_type": "stream",
     "text": [
      "R2 score Lasso regression: 0.432\n",
      "Explained variance score: 0.432\n",
      "The mean absolute error: 11.810\n"
     ]
    }
   ],
   "source": [
    "y_pred = llreg.predict(X_test_cut)\n",
    "print('R2 score Lasso regression: %.3f' % llreg.score(X_test_cut,y_test))\n",
    "print('Explained variance score: %.3f'  % metrics.explained_variance_score(y_test, y_pred))\n",
    "print('The mean absolute error: %.3f' % mean_absolute_error(y_test, y_pred))"
   ]
  },
  {
   "cell_type": "code",
   "execution_count": 25,
   "id": "0b844270-90d8-496d-86c5-dcc41155d477",
   "metadata": {
    "tags": []
   },
   "outputs": [
    {
     "data": {
      "text/html": [
       "<style>#sk-container-id-4 {color: black;background-color: white;}#sk-container-id-4 pre{padding: 0;}#sk-container-id-4 div.sk-toggleable {background-color: white;}#sk-container-id-4 label.sk-toggleable__label {cursor: pointer;display: block;width: 100%;margin-bottom: 0;padding: 0.3em;box-sizing: border-box;text-align: center;}#sk-container-id-4 label.sk-toggleable__label-arrow:before {content: \"▸\";float: left;margin-right: 0.25em;color: #696969;}#sk-container-id-4 label.sk-toggleable__label-arrow:hover:before {color: black;}#sk-container-id-4 div.sk-estimator:hover label.sk-toggleable__label-arrow:before {color: black;}#sk-container-id-4 div.sk-toggleable__content {max-height: 0;max-width: 0;overflow: hidden;text-align: left;background-color: #f0f8ff;}#sk-container-id-4 div.sk-toggleable__content pre {margin: 0.2em;color: black;border-radius: 0.25em;background-color: #f0f8ff;}#sk-container-id-4 input.sk-toggleable__control:checked~div.sk-toggleable__content {max-height: 200px;max-width: 100%;overflow: auto;}#sk-container-id-4 input.sk-toggleable__control:checked~label.sk-toggleable__label-arrow:before {content: \"▾\";}#sk-container-id-4 div.sk-estimator input.sk-toggleable__control:checked~label.sk-toggleable__label {background-color: #d4ebff;}#sk-container-id-4 div.sk-label input.sk-toggleable__control:checked~label.sk-toggleable__label {background-color: #d4ebff;}#sk-container-id-4 input.sk-hidden--visually {border: 0;clip: rect(1px 1px 1px 1px);clip: rect(1px, 1px, 1px, 1px);height: 1px;margin: -1px;overflow: hidden;padding: 0;position: absolute;width: 1px;}#sk-container-id-4 div.sk-estimator {font-family: monospace;background-color: #f0f8ff;border: 1px dotted black;border-radius: 0.25em;box-sizing: border-box;margin-bottom: 0.5em;}#sk-container-id-4 div.sk-estimator:hover {background-color: #d4ebff;}#sk-container-id-4 div.sk-parallel-item::after {content: \"\";width: 100%;border-bottom: 1px solid gray;flex-grow: 1;}#sk-container-id-4 div.sk-label:hover label.sk-toggleable__label {background-color: #d4ebff;}#sk-container-id-4 div.sk-serial::before {content: \"\";position: absolute;border-left: 1px solid gray;box-sizing: border-box;top: 0;bottom: 0;left: 50%;z-index: 0;}#sk-container-id-4 div.sk-serial {display: flex;flex-direction: column;align-items: center;background-color: white;padding-right: 0.2em;padding-left: 0.2em;position: relative;}#sk-container-id-4 div.sk-item {position: relative;z-index: 1;}#sk-container-id-4 div.sk-parallel {display: flex;align-items: stretch;justify-content: center;background-color: white;position: relative;}#sk-container-id-4 div.sk-item::before, #sk-container-id-4 div.sk-parallel-item::before {content: \"\";position: absolute;border-left: 1px solid gray;box-sizing: border-box;top: 0;bottom: 0;left: 50%;z-index: -1;}#sk-container-id-4 div.sk-parallel-item {display: flex;flex-direction: column;z-index: 1;position: relative;background-color: white;}#sk-container-id-4 div.sk-parallel-item:first-child::after {align-self: flex-end;width: 50%;}#sk-container-id-4 div.sk-parallel-item:last-child::after {align-self: flex-start;width: 50%;}#sk-container-id-4 div.sk-parallel-item:only-child::after {width: 0;}#sk-container-id-4 div.sk-dashed-wrapped {border: 1px dashed gray;margin: 0 0.4em 0.5em 0.4em;box-sizing: border-box;padding-bottom: 0.4em;background-color: white;}#sk-container-id-4 div.sk-label label {font-family: monospace;font-weight: bold;display: inline-block;line-height: 1.2em;}#sk-container-id-4 div.sk-label-container {text-align: center;}#sk-container-id-4 div.sk-container {/* jupyter's `normalize.less` sets `[hidden] { display: none; }` but bootstrap.min.css set `[hidden] { display: none !important; }` so we also need the `!important` here to be able to override the default hidden behavior on the sphinx rendered scikit-learn.org. See: https://github.com/scikit-learn/scikit-learn/issues/21755 */display: inline-block !important;position: relative;}#sk-container-id-4 div.sk-text-repr-fallback {display: none;}</style><div id=\"sk-container-id-4\" class=\"sk-top-container\"><div class=\"sk-text-repr-fallback\"><pre>DecisionTreeRegressor()</pre><b>In a Jupyter environment, please rerun this cell to show the HTML representation or trust the notebook. <br />On GitHub, the HTML representation is unable to render, please try loading this page with nbviewer.org.</b></div><div class=\"sk-container\" hidden><div class=\"sk-item\"><div class=\"sk-estimator sk-toggleable\"><input class=\"sk-toggleable__control sk-hidden--visually\" id=\"sk-estimator-id-4\" type=\"checkbox\" checked><label for=\"sk-estimator-id-4\" class=\"sk-toggleable__label sk-toggleable__label-arrow\">DecisionTreeRegressor</label><div class=\"sk-toggleable__content\"><pre>DecisionTreeRegressor()</pre></div></div></div></div></div>"
      ],
      "text/plain": [
       "DecisionTreeRegressor()"
      ]
     },
     "execution_count": 25,
     "metadata": {},
     "output_type": "execute_result"
    }
   ],
   "source": [
    "dtree = tree.DecisionTreeRegressor()\n",
    "dtree.fit(X_train_cut, y_train)"
   ]
  },
  {
   "cell_type": "code",
   "execution_count": 26,
   "id": "f0d65dba-520c-4520-a412-aa803a2875e0",
   "metadata": {
    "tags": []
   },
   "outputs": [
    {
     "name": "stdout",
     "output_type": "stream",
     "text": [
      "R2 score dtree regression: 0.521\n",
      "Explained variance score: 0.524\n",
      "The mean absolute error: 8.877\n"
     ]
    }
   ],
   "source": [
    "y_pred = dtree.predict(X_test_cut)\n",
    "print('R2 score dtree regression: %.3f' % dtree.score(X_test_cut,y_test))\n",
    "print('Explained variance score: %.3f'  % metrics.explained_variance_score(y_test, y_pred))\n",
    "print('The mean absolute error: %.3f' % mean_absolute_error(y_test, y_pred))"
   ]
  },
  {
   "cell_type": "markdown",
   "id": "222453bb-be5e-49ab-a6d6-fc517455d231",
   "metadata": {},
   "source": [
    "## Save off models"
   ]
  },
  {
   "cell_type": "code",
   "execution_count": 27,
   "id": "e92a5088-213d-43aa-a4d6-57f9a423de28",
   "metadata": {
    "tags": []
   },
   "outputs": [],
   "source": [
    "# check if model folder exists and if not , then create\n",
    "model_folder = '../result_models/'\n",
    "if not os.path.exists(model_folder):\n",
    "    os.makedirs(model_folder)"
   ]
  },
  {
   "cell_type": "code",
   "execution_count": 28,
   "id": "84df2c8c-e56c-4600-803c-6b4c59aa66ea",
   "metadata": {
    "tags": []
   },
   "outputs": [
    {
     "data": {
      "text/plain": [
       "['../result_models/neuroharm_mixed_dtree.sav']"
      ]
     },
     "execution_count": 28,
     "metadata": {},
     "output_type": "execute_result"
    }
   ],
   "source": [
    "joblib.dump(linr, ('../result_models/'+  'neuroharm_mixed_linr.sav'))\n",
    "joblib.dump(llreg, ('../result_models/'+ 'neuroharm_mixed_lassor.sav'))\n",
    "joblib.dump(dtree, ('../result_models/'+ 'neuroharm_mixed_dtree.sav'))\n"
   ]
  },
  {
   "cell_type": "markdown",
   "id": "3564dee9-7ed4-4e52-afce-447a173946da",
   "metadata": {},
   "source": [
    "## Run models on other datasets (TOP, StrokeMRI)\n",
    "but without re-running the training data"
   ]
  },
  {
   "cell_type": "markdown",
   "id": "09bf11e8-12e1-4c65-9fe4-c206dc5e1427",
   "metadata": {},
   "source": [
    "# # Here we check tht no rows once patient IDs were pulled \n",
    "(if not we can map them back)"
   ]
  },
  {
   "cell_type": "code",
   "execution_count": 29,
   "id": "11e2c971-278c-43ca-847d-aa2e760d8ec3",
   "metadata": {
    "tags": []
   },
   "outputs": [
    {
     "data": {
      "text/plain": [
       "0"
      ]
     },
     "execution_count": 29,
     "metadata": {},
     "output_type": "execute_result"
    }
   ],
   "source": [
    "X_train_pandas = pd.DataFrame(X_train)\n",
    "X_train_pandas.duplicated().sum()"
   ]
  },
  {
   "cell_type": "markdown",
   "id": "d1d824a7-0b4d-48cb-8b81-d9110dbc4051",
   "metadata": {
    "tags": []
   },
   "source": [
    "top_ml_matrix\n",
    "needs to be mapped to top rows in X_train,\n",
    "we will use ese MD5 hashes"
   ]
  },
  {
   "cell_type": "markdown",
   "id": "ddc9c725-9485-4c29-8026-a05e59ca890c",
   "metadata": {},
   "source": [
    "now we need to make a dataframe of TOP minus what is in X_train"
   ]
  },
  {
   "cell_type": "code",
   "execution_count": 30,
   "id": "c7858f16-6fff-4f4c-aa5c-039c96f6ca3f",
   "metadata": {
    "tags": []
   },
   "outputs": [
    {
     "data": {
      "text/html": [
       "<div>\n",
       "<style scoped>\n",
       "    .dataframe tbody tr th:only-of-type {\n",
       "        vertical-align: middle;\n",
       "    }\n",
       "\n",
       "    .dataframe tbody tr th {\n",
       "        vertical-align: top;\n",
       "    }\n",
       "\n",
       "    .dataframe thead th {\n",
       "        text-align: right;\n",
       "    }\n",
       "</style>\n",
       "<table border=\"1\" class=\"dataframe\">\n",
       "  <thead>\n",
       "    <tr style=\"text-align: right;\">\n",
       "      <th></th>\n",
       "      <th>0</th>\n",
       "      <th>1</th>\n",
       "      <th>2</th>\n",
       "      <th>3</th>\n",
       "      <th>4</th>\n",
       "      <th>5</th>\n",
       "      <th>6</th>\n",
       "      <th>7</th>\n",
       "      <th>8</th>\n",
       "      <th>9</th>\n",
       "      <th>10</th>\n",
       "      <th>11</th>\n",
       "      <th>12</th>\n",
       "      <th>13</th>\n",
       "      <th>14</th>\n",
       "      <th>15</th>\n",
       "      <th>16</th>\n",
       "      <th>17</th>\n",
       "      <th>18</th>\n",
       "    </tr>\n",
       "  </thead>\n",
       "  <tbody>\n",
       "    <tr>\n",
       "      <th>0</th>\n",
       "      <td>sub-59168_2_ses-2_run-1</td>\n",
       "      <td>0</td>\n",
       "      <td>0.605017</td>\n",
       "      <td>0.449813</td>\n",
       "      <td>0.288131</td>\n",
       "      <td>0.448148</td>\n",
       "      <td>0.448148</td>\n",
       "      <td>0.302075</td>\n",
       "      <td>23.30258</td>\n",
       "      <td>6.942208</td>\n",
       "      <td>2.252019</td>\n",
       "      <td>1.954243</td>\n",
       "      <td>1.937277</td>\n",
       "      <td>2.007259</td>\n",
       "      <td>13.014561</td>\n",
       "      <td>63.513005</td>\n",
       "      <td>56.664025</td>\n",
       "      <td>43.755446</td>\n",
       "      <td>51.329217</td>\n",
       "    </tr>\n",
       "    <tr>\n",
       "      <th>1</th>\n",
       "      <td>sub-1109_1_ses-1_run-1</td>\n",
       "      <td>0</td>\n",
       "      <td>0.583783</td>\n",
       "      <td>0.472448</td>\n",
       "      <td>0.284729</td>\n",
       "      <td>0.436545</td>\n",
       "      <td>0.436545</td>\n",
       "      <td>10.668121</td>\n",
       "      <td>18.505143</td>\n",
       "      <td>5.624757</td>\n",
       "      <td>1.774006</td>\n",
       "      <td>1.663407</td>\n",
       "      <td>1.827674</td>\n",
       "      <td>1.632012</td>\n",
       "      <td>22.58214</td>\n",
       "      <td>63.815685</td>\n",
       "      <td>55.800519</td>\n",
       "      <td>53.608393</td>\n",
       "      <td>54.711491</td>\n",
       "    </tr>\n",
       "    <tr>\n",
       "      <th>2</th>\n",
       "      <td>sub-59292_1_ses-1_run-1</td>\n",
       "      <td>0</td>\n",
       "      <td>0.622192</td>\n",
       "      <td>0.533153</td>\n",
       "      <td>0.301958</td>\n",
       "      <td>0.427729</td>\n",
       "      <td>0.427729</td>\n",
       "      <td>1.550339</td>\n",
       "      <td>17.976494</td>\n",
       "      <td>7.305474</td>\n",
       "      <td>1.602761</td>\n",
       "      <td>1.941455</td>\n",
       "      <td>1.802546</td>\n",
       "      <td>1.787806</td>\n",
       "      <td>39.764443</td>\n",
       "      <td>124.840078</td>\n",
       "      <td>109.945685</td>\n",
       "      <td>98.692307</td>\n",
       "      <td>103.927888</td>\n",
       "    </tr>\n",
       "  </tbody>\n",
       "</table>\n",
       "</div>"
      ],
      "text/plain": [
       "                        0  1         2         3         4         5   \\\n",
       "0  sub-59168_2_ses-2_run-1  0  0.605017  0.449813  0.288131  0.448148   \n",
       "1   sub-1109_1_ses-1_run-1  0  0.583783  0.472448  0.284729  0.436545   \n",
       "2  sub-59292_1_ses-1_run-1  0  0.622192  0.533153  0.301958  0.427729   \n",
       "\n",
       "         6          7          8         9         10        11        12  \\\n",
       "0  0.448148   0.302075   23.30258  6.942208  2.252019  1.954243  1.937277   \n",
       "1  0.436545  10.668121  18.505143  5.624757  1.774006  1.663407  1.827674   \n",
       "2  0.427729   1.550339  17.976494  7.305474  1.602761  1.941455  1.802546   \n",
       "\n",
       "         13         14          15          16         17          18  \n",
       "0  2.007259  13.014561   63.513005   56.664025  43.755446   51.329217  \n",
       "1  1.632012   22.58214   63.815685   55.800519  53.608393   54.711491  \n",
       "2  1.787806  39.764443  124.840078  109.945685  98.692307  103.927888  "
      ]
     },
     "execution_count": 30,
     "metadata": {},
     "output_type": "execute_result"
    }
   ],
   "source": [
    "X_train_pandas.head(3)"
   ]
  },
  {
   "cell_type": "code",
   "execution_count": 31,
   "id": "5d188cad-e115-4f7a-92a1-6b39d76cb6d9",
   "metadata": {
    "tags": []
   },
   "outputs": [],
   "source": [
    "#X_train_pandas[0]"
   ]
  },
  {
   "cell_type": "code",
   "execution_count": 32,
   "id": "3e50840c-74f8-4a4f-8fbc-969874418016",
   "metadata": {
    "tags": []
   },
   "outputs": [],
   "source": [
    "trained_subjects = set(X_train_pandas[0])\n",
    "#trained_subjects "
   ]
  },
  {
   "cell_type": "code",
   "execution_count": 33,
   "id": "4bcb0f94-5cf7-410d-a849-f6b6cc0abafa",
   "metadata": {
    "tags": []
   },
   "outputs": [],
   "source": [
    "TOP_subjects = set(TOP.participant_id)\n",
    "#TOP_subjects"
   ]
  },
  {
   "cell_type": "code",
   "execution_count": 34,
   "id": "fc60f509-54df-4c6e-baf4-edc7bc81b860",
   "metadata": {
    "tags": []
   },
   "outputs": [
    {
     "name": "stdout",
     "output_type": "stream",
     "text": [
      "132\n"
     ]
    }
   ],
   "source": [
    "# take trained subjects out of top subjects\n",
    "# we can use set math here\n",
    "\n",
    "new_top=(trained_subjects^TOP_subjects)&TOP_subjects\n",
    "print(len(new_top))\n",
    "#print(new_top)"
   ]
  },
  {
   "cell_type": "markdown",
   "id": "67e014ce-ad99-4c51-bcfb-7f1e575c154b",
   "metadata": {},
   "source": [
    "filter down to only top where they are in new_top set"
   ]
  },
  {
   "cell_type": "code",
   "execution_count": 35,
   "id": "7b2d287e-c721-4ee1-ba42-906c8a7a515b",
   "metadata": {
    "tags": []
   },
   "outputs": [
    {
     "data": {
      "text/html": [
       "<div>\n",
       "<style scoped>\n",
       "    .dataframe tbody tr th:only-of-type {\n",
       "        vertical-align: middle;\n",
       "    }\n",
       "\n",
       "    .dataframe tbody tr th {\n",
       "        vertical-align: top;\n",
       "    }\n",
       "\n",
       "    .dataframe thead th {\n",
       "        text-align: right;\n",
       "    }\n",
       "</style>\n",
       "<table border=\"1\" class=\"dataframe\">\n",
       "  <thead>\n",
       "    <tr style=\"text-align: right;\">\n",
       "      <th></th>\n",
       "      <th>participant_id</th>\n",
       "      <th>age</th>\n",
       "      <th>sex</th>\n",
       "      <th>gm_vol</th>\n",
       "      <th>wm_vol</th>\n",
       "      <th>csf_vol</th>\n",
       "      <th>gm_ivc_ratio</th>\n",
       "      <th>gmwm_ivc_ratio</th>\n",
       "      <th>wmh_vol</th>\n",
       "      <th>wmh_count</th>\n",
       "      <th>deepwm_b_cov</th>\n",
       "      <th>aca_b_cov</th>\n",
       "      <th>mca_b_cov</th>\n",
       "      <th>pca_b_cov</th>\n",
       "      <th>totalgm_b_cov</th>\n",
       "      <th>deepwm_b</th>\n",
       "      <th>aca_b</th>\n",
       "      <th>mca_b</th>\n",
       "      <th>pca_b</th>\n",
       "      <th>totalgm_b</th>\n",
       "    </tr>\n",
       "  </thead>\n",
       "  <tbody>\n",
       "    <tr>\n",
       "      <th>3</th>\n",
       "      <td>sub-0020_1_ses-1_run-1</td>\n",
       "      <td>21.97</td>\n",
       "      <td>0</td>\n",
       "      <td>0.640511</td>\n",
       "      <td>0.425481</td>\n",
       "      <td>0.301480</td>\n",
       "      <td>0.473023</td>\n",
       "      <td>0.473023</td>\n",
       "      <td>5.456875</td>\n",
       "      <td>29.731818</td>\n",
       "      <td>4.658326</td>\n",
       "      <td>1.970725</td>\n",
       "      <td>1.907052</td>\n",
       "      <td>1.663744</td>\n",
       "      <td>1.871019</td>\n",
       "      <td>26.919418</td>\n",
       "      <td>95.144721</td>\n",
       "      <td>85.064305</td>\n",
       "      <td>64.854624</td>\n",
       "      <td>74.297067</td>\n",
       "    </tr>\n",
       "    <tr>\n",
       "      <th>10</th>\n",
       "      <td>sub-0033_1_ses-1_run-1</td>\n",
       "      <td>29.21</td>\n",
       "      <td>1</td>\n",
       "      <td>0.563881</td>\n",
       "      <td>0.423140</td>\n",
       "      <td>0.270977</td>\n",
       "      <td>0.448665</td>\n",
       "      <td>0.448665</td>\n",
       "      <td>-1.977453</td>\n",
       "      <td>9.614776</td>\n",
       "      <td>6.754611</td>\n",
       "      <td>1.720233</td>\n",
       "      <td>2.239393</td>\n",
       "      <td>2.119197</td>\n",
       "      <td>1.999064</td>\n",
       "      <td>24.418236</td>\n",
       "      <td>88.162588</td>\n",
       "      <td>80.559617</td>\n",
       "      <td>69.174795</td>\n",
       "      <td>73.376781</td>\n",
       "    </tr>\n",
       "    <tr>\n",
       "      <th>12</th>\n",
       "      <td>sub-0035_1_ses-1_run-1</td>\n",
       "      <td>31.25</td>\n",
       "      <td>1</td>\n",
       "      <td>0.675241</td>\n",
       "      <td>0.544896</td>\n",
       "      <td>0.306137</td>\n",
       "      <td>0.439577</td>\n",
       "      <td>0.439577</td>\n",
       "      <td>2.843270</td>\n",
       "      <td>22.712563</td>\n",
       "      <td>8.425626</td>\n",
       "      <td>1.707826</td>\n",
       "      <td>2.037971</td>\n",
       "      <td>1.960564</td>\n",
       "      <td>1.894440</td>\n",
       "      <td>24.690736</td>\n",
       "      <td>97.831056</td>\n",
       "      <td>88.025214</td>\n",
       "      <td>63.860663</td>\n",
       "      <td>74.267851</td>\n",
       "    </tr>\n",
       "    <tr>\n",
       "      <th>13</th>\n",
       "      <td>sub-0036_1_ses-1_run-1</td>\n",
       "      <td>44.57</td>\n",
       "      <td>1</td>\n",
       "      <td>0.761285</td>\n",
       "      <td>0.661437</td>\n",
       "      <td>0.483895</td>\n",
       "      <td>0.395428</td>\n",
       "      <td>0.395428</td>\n",
       "      <td>3.208185</td>\n",
       "      <td>33.939238</td>\n",
       "      <td>8.624156</td>\n",
       "      <td>1.695036</td>\n",
       "      <td>1.884788</td>\n",
       "      <td>2.102275</td>\n",
       "      <td>1.836211</td>\n",
       "      <td>27.078860</td>\n",
       "      <td>89.158659</td>\n",
       "      <td>83.260845</td>\n",
       "      <td>64.005282</td>\n",
       "      <td>73.996391</td>\n",
       "    </tr>\n",
       "    <tr>\n",
       "      <th>14</th>\n",
       "      <td>sub-0037_1_ses-1_run-1</td>\n",
       "      <td>46.06</td>\n",
       "      <td>0</td>\n",
       "      <td>0.626140</td>\n",
       "      <td>0.564250</td>\n",
       "      <td>0.449292</td>\n",
       "      <td>0.380552</td>\n",
       "      <td>0.380552</td>\n",
       "      <td>11.932521</td>\n",
       "      <td>33.474043</td>\n",
       "      <td>3.932838</td>\n",
       "      <td>2.270536</td>\n",
       "      <td>2.032718</td>\n",
       "      <td>2.782184</td>\n",
       "      <td>2.506732</td>\n",
       "      <td>24.468255</td>\n",
       "      <td>68.138725</td>\n",
       "      <td>59.313927</td>\n",
       "      <td>41.273898</td>\n",
       "      <td>49.524292</td>\n",
       "    </tr>\n",
       "    <tr>\n",
       "      <th>...</th>\n",
       "      <td>...</td>\n",
       "      <td>...</td>\n",
       "      <td>...</td>\n",
       "      <td>...</td>\n",
       "      <td>...</td>\n",
       "      <td>...</td>\n",
       "      <td>...</td>\n",
       "      <td>...</td>\n",
       "      <td>...</td>\n",
       "      <td>...</td>\n",
       "      <td>...</td>\n",
       "      <td>...</td>\n",
       "      <td>...</td>\n",
       "      <td>...</td>\n",
       "      <td>...</td>\n",
       "      <td>...</td>\n",
       "      <td>...</td>\n",
       "      <td>...</td>\n",
       "      <td>...</td>\n",
       "      <td>...</td>\n",
       "    </tr>\n",
       "    <tr>\n",
       "      <th>508</th>\n",
       "      <td>sub-1139_1_ses-1_run-1</td>\n",
       "      <td>44.44</td>\n",
       "      <td>1</td>\n",
       "      <td>0.661248</td>\n",
       "      <td>0.610887</td>\n",
       "      <td>0.346710</td>\n",
       "      <td>0.403549</td>\n",
       "      <td>0.403549</td>\n",
       "      <td>14.050010</td>\n",
       "      <td>26.454788</td>\n",
       "      <td>7.158680</td>\n",
       "      <td>1.969905</td>\n",
       "      <td>1.847467</td>\n",
       "      <td>1.720031</td>\n",
       "      <td>1.982076</td>\n",
       "      <td>25.688071</td>\n",
       "      <td>89.007312</td>\n",
       "      <td>76.396756</td>\n",
       "      <td>54.397112</td>\n",
       "      <td>65.724629</td>\n",
       "    </tr>\n",
       "    <tr>\n",
       "      <th>512</th>\n",
       "      <td>sub-1149_1_ses-1_run-1</td>\n",
       "      <td>31.61</td>\n",
       "      <td>1</td>\n",
       "      <td>0.719096</td>\n",
       "      <td>0.564685</td>\n",
       "      <td>0.304016</td>\n",
       "      <td>0.449790</td>\n",
       "      <td>0.449790</td>\n",
       "      <td>-0.136872</td>\n",
       "      <td>18.970339</td>\n",
       "      <td>8.059136</td>\n",
       "      <td>2.149741</td>\n",
       "      <td>2.097351</td>\n",
       "      <td>1.437256</td>\n",
       "      <td>1.903461</td>\n",
       "      <td>21.321166</td>\n",
       "      <td>68.366740</td>\n",
       "      <td>60.864397</td>\n",
       "      <td>44.203055</td>\n",
       "      <td>53.021223</td>\n",
       "    </tr>\n",
       "    <tr>\n",
       "      <th>513</th>\n",
       "      <td>sub-1152_1_ses-1_run-1</td>\n",
       "      <td>29.42</td>\n",
       "      <td>1</td>\n",
       "      <td>0.798102</td>\n",
       "      <td>0.586995</td>\n",
       "      <td>0.411667</td>\n",
       "      <td>0.443075</td>\n",
       "      <td>0.443075</td>\n",
       "      <td>-2.617655</td>\n",
       "      <td>11.485889</td>\n",
       "      <td>6.969696</td>\n",
       "      <td>2.397366</td>\n",
       "      <td>2.431457</td>\n",
       "      <td>1.937829</td>\n",
       "      <td>2.422716</td>\n",
       "      <td>27.185261</td>\n",
       "      <td>110.554725</td>\n",
       "      <td>95.942155</td>\n",
       "      <td>70.270555</td>\n",
       "      <td>85.597210</td>\n",
       "    </tr>\n",
       "    <tr>\n",
       "      <th>519</th>\n",
       "      <td>sub-1159_1_ses-1_run-1</td>\n",
       "      <td>36.76</td>\n",
       "      <td>0</td>\n",
       "      <td>0.717369</td>\n",
       "      <td>0.515374</td>\n",
       "      <td>0.354513</td>\n",
       "      <td>0.453789</td>\n",
       "      <td>0.453789</td>\n",
       "      <td>6.762887</td>\n",
       "      <td>20.376256</td>\n",
       "      <td>6.377191</td>\n",
       "      <td>1.736658</td>\n",
       "      <td>1.947493</td>\n",
       "      <td>2.056839</td>\n",
       "      <td>1.926085</td>\n",
       "      <td>26.616773</td>\n",
       "      <td>86.408879</td>\n",
       "      <td>78.156115</td>\n",
       "      <td>69.049372</td>\n",
       "      <td>72.271894</td>\n",
       "    </tr>\n",
       "    <tr>\n",
       "      <th>526</th>\n",
       "      <td>sub-1169_1_ses-1_run-1</td>\n",
       "      <td>34.05</td>\n",
       "      <td>0</td>\n",
       "      <td>0.649927</td>\n",
       "      <td>0.501453</td>\n",
       "      <td>0.352081</td>\n",
       "      <td>0.433800</td>\n",
       "      <td>0.433800</td>\n",
       "      <td>9.576576</td>\n",
       "      <td>31.602931</td>\n",
       "      <td>5.620045</td>\n",
       "      <td>2.016132</td>\n",
       "      <td>2.175206</td>\n",
       "      <td>2.128792</td>\n",
       "      <td>2.261398</td>\n",
       "      <td>22.051396</td>\n",
       "      <td>71.991775</td>\n",
       "      <td>67.972966</td>\n",
       "      <td>45.652581</td>\n",
       "      <td>56.086654</td>\n",
       "    </tr>\n",
       "  </tbody>\n",
       "</table>\n",
       "<p>132 rows × 20 columns</p>\n",
       "</div>"
      ],
      "text/plain": [
       "             participant_id    age  sex    gm_vol    wm_vol   csf_vol  \\\n",
       "3    sub-0020_1_ses-1_run-1  21.97    0  0.640511  0.425481  0.301480   \n",
       "10   sub-0033_1_ses-1_run-1  29.21    1  0.563881  0.423140  0.270977   \n",
       "12   sub-0035_1_ses-1_run-1  31.25    1  0.675241  0.544896  0.306137   \n",
       "13   sub-0036_1_ses-1_run-1  44.57    1  0.761285  0.661437  0.483895   \n",
       "14   sub-0037_1_ses-1_run-1  46.06    0  0.626140  0.564250  0.449292   \n",
       "..                      ...    ...  ...       ...       ...       ...   \n",
       "508  sub-1139_1_ses-1_run-1  44.44    1  0.661248  0.610887  0.346710   \n",
       "512  sub-1149_1_ses-1_run-1  31.61    1  0.719096  0.564685  0.304016   \n",
       "513  sub-1152_1_ses-1_run-1  29.42    1  0.798102  0.586995  0.411667   \n",
       "519  sub-1159_1_ses-1_run-1  36.76    0  0.717369  0.515374  0.354513   \n",
       "526  sub-1169_1_ses-1_run-1  34.05    0  0.649927  0.501453  0.352081   \n",
       "\n",
       "     gm_ivc_ratio  gmwm_ivc_ratio    wmh_vol  wmh_count  deepwm_b_cov  \\\n",
       "3        0.473023        0.473023   5.456875  29.731818      4.658326   \n",
       "10       0.448665        0.448665  -1.977453   9.614776      6.754611   \n",
       "12       0.439577        0.439577   2.843270  22.712563      8.425626   \n",
       "13       0.395428        0.395428   3.208185  33.939238      8.624156   \n",
       "14       0.380552        0.380552  11.932521  33.474043      3.932838   \n",
       "..            ...             ...        ...        ...           ...   \n",
       "508      0.403549        0.403549  14.050010  26.454788      7.158680   \n",
       "512      0.449790        0.449790  -0.136872  18.970339      8.059136   \n",
       "513      0.443075        0.443075  -2.617655  11.485889      6.969696   \n",
       "519      0.453789        0.453789   6.762887  20.376256      6.377191   \n",
       "526      0.433800        0.433800   9.576576  31.602931      5.620045   \n",
       "\n",
       "     aca_b_cov  mca_b_cov  pca_b_cov  totalgm_b_cov   deepwm_b       aca_b  \\\n",
       "3     1.970725   1.907052   1.663744       1.871019  26.919418   95.144721   \n",
       "10    1.720233   2.239393   2.119197       1.999064  24.418236   88.162588   \n",
       "12    1.707826   2.037971   1.960564       1.894440  24.690736   97.831056   \n",
       "13    1.695036   1.884788   2.102275       1.836211  27.078860   89.158659   \n",
       "14    2.270536   2.032718   2.782184       2.506732  24.468255   68.138725   \n",
       "..         ...        ...        ...            ...        ...         ...   \n",
       "508   1.969905   1.847467   1.720031       1.982076  25.688071   89.007312   \n",
       "512   2.149741   2.097351   1.437256       1.903461  21.321166   68.366740   \n",
       "513   2.397366   2.431457   1.937829       2.422716  27.185261  110.554725   \n",
       "519   1.736658   1.947493   2.056839       1.926085  26.616773   86.408879   \n",
       "526   2.016132   2.175206   2.128792       2.261398  22.051396   71.991775   \n",
       "\n",
       "         mca_b      pca_b  totalgm_b  \n",
       "3    85.064305  64.854624  74.297067  \n",
       "10   80.559617  69.174795  73.376781  \n",
       "12   88.025214  63.860663  74.267851  \n",
       "13   83.260845  64.005282  73.996391  \n",
       "14   59.313927  41.273898  49.524292  \n",
       "..         ...        ...        ...  \n",
       "508  76.396756  54.397112  65.724629  \n",
       "512  60.864397  44.203055  53.021223  \n",
       "513  95.942155  70.270555  85.597210  \n",
       "519  78.156115  69.049372  72.271894  \n",
       "526  67.972966  45.652581  56.086654  \n",
       "\n",
       "[132 rows x 20 columns]"
      ]
     },
     "execution_count": 35,
     "metadata": {},
     "output_type": "execute_result"
    }
   ],
   "source": [
    "TOP_new = TOP[TOP['participant_id'].isin(list(new_top))]\n",
    "TOP_new"
   ]
  },
  {
   "cell_type": "code",
   "execution_count": 36,
   "id": "a9a1641f-afe5-4c48-ac0c-d4af9d507315",
   "metadata": {
    "tags": []
   },
   "outputs": [],
   "source": [
    "top_ml_matrix = TOP_new.drop('participant_id', axis=1) \n",
    "\n",
    "X_top = top_ml_matrix.drop('age', axis =1)\n",
    "\n",
    "X_top = X_top.values\n",
    "X_top = X_top.astype('float')\n",
    "y_top = top_ml_matrix['age'].values\n",
    "y_top=y_top.astype('float')"
   ]
  },
  {
   "cell_type": "code",
   "execution_count": 37,
   "id": "335ae861-0fdc-41b5-8306-acd4745ca20f",
   "metadata": {
    "tags": []
   },
   "outputs": [],
   "source": [
    "# X_top_train, X_top_test, y_top_train, y_top_test = train_test_split(\n",
    "#     X_top, y_top, test_size=0.99, random_state=42)"
   ]
  },
  {
   "cell_type": "code",
   "execution_count": 38,
   "id": "93f90ccb-465b-4fa4-b563-c0ea604f2ba0",
   "metadata": {
    "tags": []
   },
   "outputs": [],
   "source": [
    "X_top_test = X_top\n",
    "y_top_test = y_top"
   ]
  },
  {
   "cell_type": "code",
   "execution_count": 39,
   "id": "79fd0d34-0b2b-4213-b106-553fc92df6ed",
   "metadata": {
    "tags": []
   },
   "outputs": [
    {
     "name": "stdout",
     "output_type": "stream",
     "text": [
      "R2 score Linear regression: -0.879\n",
      "Explained variance score: 0.592\n",
      "The mean absolute error: 11.343\n"
     ]
    }
   ],
   "source": [
    "y_top_pred = linr.predict(X_top_test)\n",
    "print('R2 score Linear regression: %.3f' % linr.score(X_top_test,y_top_test))\n",
    "print('Explained variance score: %.3f'  % metrics.explained_variance_score(y_top_test, y_top_pred))\n",
    "print('The mean absolute error: %.3f' % mean_absolute_error(y_top_test, y_top_pred))"
   ]
  },
  {
   "cell_type": "code",
   "execution_count": 40,
   "id": "2e7239f1-30a5-4b09-9465-4b1f04dd37e9",
   "metadata": {
    "tags": []
   },
   "outputs": [
    {
     "name": "stdout",
     "output_type": "stream",
     "text": [
      "R2 score Lasso linear regression: -0.865\n",
      "Explained variance score: 0.579\n",
      "The mean absolute error: 11.243\n"
     ]
    }
   ],
   "source": [
    "y_top_pred = llreg.predict(X_top_test)\n",
    "print('R2 score Lasso linear regression: %.3f' % llreg.score(X_top_test,y_top_test))\n",
    "print('Explained variance score: %.3f'  % metrics.explained_variance_score(y_top_test, y_top_pred))\n",
    "print('The mean absolute error: %.3f' % mean_absolute_error(y_top_test, y_top_pred))"
   ]
  },
  {
   "cell_type": "code",
   "execution_count": 41,
   "id": "e5720c7b-abae-4bc6-a1f4-0b9fbe3c01ea",
   "metadata": {
    "tags": []
   },
   "outputs": [
    {
     "name": "stdout",
     "output_type": "stream",
     "text": [
      "R2 score Lasso linear regression: -0.865\n",
      "Explained variance score: -0.619\n",
      "The mean absolute error: 9.146\n"
     ]
    }
   ],
   "source": [
    "y_top_pred = dtree.predict(X_top_test)\n",
    "print('R2 score Lasso linear regression: %.3f' % dtree.score(X_top_test,y_top_test))\n",
    "print('Explained variance score: %.3f'  % metrics.explained_variance_score(y_top_test, y_top_pred))\n",
    "print('The mean absolute error: %.3f' % mean_absolute_error(y_top_test, y_top_pred))"
   ]
  },
  {
   "cell_type": "code",
   "execution_count": 42,
   "id": "d60fbddc-d765-4138-8e19-986cccf47665",
   "metadata": {
    "tags": []
   },
   "outputs": [
    {
     "name": "stdout",
     "output_type": "stream",
     "text": [
      "R2 score Lasso linear regression: -1.420\n",
      "Explained variance score: -0.012\n",
      "The mean absolute error: 12.163\n"
     ]
    }
   ],
   "source": [
    "y_top_pred = regr.predict(X_top_test)\n",
    "print('R2 score Lasso linear regression: %.3f' % regr.score(X_top_test,y_top_test))\n",
    "print('Explained variance score: %.3f'  % metrics.explained_variance_score(y_top_test, y_top_pred))\n",
    "print('The mean absolute error: %.3f' % mean_absolute_error(y_top_test, y_top_pred))"
   ]
  },
  {
   "cell_type": "code",
   "execution_count": 43,
   "id": "a24edd93-aaa9-4886-a867-61da425b11d6",
   "metadata": {
    "tags": []
   },
   "outputs": [],
   "source": [
    "StrokeMRI_subjects = set(StrokeMRI.participant_id)\n",
    "#StrokeMRI_subjects"
   ]
  },
  {
   "cell_type": "code",
   "execution_count": 44,
   "id": "fa9f364f-66a6-43d7-9f70-e226f5eaa949",
   "metadata": {
    "tags": []
   },
   "outputs": [
    {
     "name": "stdout",
     "output_type": "stream",
     "text": [
      "129\n"
     ]
    }
   ],
   "source": [
    "# take trained subjects out of top subjects\n",
    "# we can use set math here\n",
    "\n",
    "new_mri=(trained_subjects^StrokeMRI_subjects)&StrokeMRI_subjects\n",
    "print(len(new_mri))\n",
    "#print(new_mri)"
   ]
  },
  {
   "cell_type": "code",
   "execution_count": 45,
   "id": "32c90a0d-5766-4f2a-8569-1e8f206b2159",
   "metadata": {
    "tags": []
   },
   "outputs": [
    {
     "data": {
      "text/html": [
       "<div>\n",
       "<style scoped>\n",
       "    .dataframe tbody tr th:only-of-type {\n",
       "        vertical-align: middle;\n",
       "    }\n",
       "\n",
       "    .dataframe tbody tr th {\n",
       "        vertical-align: top;\n",
       "    }\n",
       "\n",
       "    .dataframe thead th {\n",
       "        text-align: right;\n",
       "    }\n",
       "</style>\n",
       "<table border=\"1\" class=\"dataframe\">\n",
       "  <thead>\n",
       "    <tr style=\"text-align: right;\">\n",
       "      <th></th>\n",
       "      <th>participant_id</th>\n",
       "      <th>age</th>\n",
       "      <th>sex</th>\n",
       "      <th>gm_vol</th>\n",
       "      <th>wm_vol</th>\n",
       "      <th>csf_vol</th>\n",
       "      <th>gm_ivc_ratio</th>\n",
       "      <th>gmwm_ivc_ratio</th>\n",
       "      <th>wmh_vol</th>\n",
       "      <th>wmh_count</th>\n",
       "      <th>deepwm_b_cov</th>\n",
       "      <th>aca_b_cov</th>\n",
       "      <th>mca_b_cov</th>\n",
       "      <th>pca_b_cov</th>\n",
       "      <th>totalgm_b_cov</th>\n",
       "      <th>deepwm_b</th>\n",
       "      <th>aca_b</th>\n",
       "      <th>mca_b</th>\n",
       "      <th>pca_b</th>\n",
       "      <th>totalgm_b</th>\n",
       "    </tr>\n",
       "  </thead>\n",
       "  <tbody>\n",
       "    <tr>\n",
       "      <th>1</th>\n",
       "      <td>sub-59083_1_ses-1_run-1</td>\n",
       "      <td>66.367123</td>\n",
       "      <td>0</td>\n",
       "      <td>0.636007</td>\n",
       "      <td>0.493854</td>\n",
       "      <td>0.368881</td>\n",
       "      <td>0.423664</td>\n",
       "      <td>0.423664</td>\n",
       "      <td>8.895530</td>\n",
       "      <td>21.780841</td>\n",
       "      <td>5.230700</td>\n",
       "      <td>1.881776</td>\n",
       "      <td>1.733382</td>\n",
       "      <td>2.456991</td>\n",
       "      <td>1.881870</td>\n",
       "      <td>23.811992</td>\n",
       "      <td>78.760008</td>\n",
       "      <td>67.858413</td>\n",
       "      <td>69.958931</td>\n",
       "      <td>71.725258</td>\n",
       "    </tr>\n",
       "    <tr>\n",
       "      <th>6</th>\n",
       "      <td>sub-59089_1_ses-1_run-1</td>\n",
       "      <td>58.419178</td>\n",
       "      <td>0</td>\n",
       "      <td>0.626644</td>\n",
       "      <td>0.435998</td>\n",
       "      <td>0.269895</td>\n",
       "      <td>0.467296</td>\n",
       "      <td>0.467296</td>\n",
       "      <td>5.581747</td>\n",
       "      <td>50.693879</td>\n",
       "      <td>4.139946</td>\n",
       "      <td>1.809928</td>\n",
       "      <td>1.821890</td>\n",
       "      <td>1.889586</td>\n",
       "      <td>1.853376</td>\n",
       "      <td>38.734255</td>\n",
       "      <td>91.486700</td>\n",
       "      <td>82.825130</td>\n",
       "      <td>70.367017</td>\n",
       "      <td>75.449422</td>\n",
       "    </tr>\n",
       "    <tr>\n",
       "      <th>9</th>\n",
       "      <td>sub-59090_2_ses-2_run-1</td>\n",
       "      <td>74.610959</td>\n",
       "      <td>0</td>\n",
       "      <td>0.563621</td>\n",
       "      <td>0.443640</td>\n",
       "      <td>0.384711</td>\n",
       "      <td>0.402810</td>\n",
       "      <td>0.402810</td>\n",
       "      <td>3.111932</td>\n",
       "      <td>24.063449</td>\n",
       "      <td>5.245837</td>\n",
       "      <td>1.716077</td>\n",
       "      <td>1.861623</td>\n",
       "      <td>1.783419</td>\n",
       "      <td>1.723828</td>\n",
       "      <td>58.026723</td>\n",
       "      <td>133.025386</td>\n",
       "      <td>112.393036</td>\n",
       "      <td>108.079982</td>\n",
       "      <td>111.291044</td>\n",
       "    </tr>\n",
       "    <tr>\n",
       "      <th>10</th>\n",
       "      <td>sub-59091_1_ses-1_run-1</td>\n",
       "      <td>74.063014</td>\n",
       "      <td>1</td>\n",
       "      <td>0.612484</td>\n",
       "      <td>0.494760</td>\n",
       "      <td>0.566308</td>\n",
       "      <td>0.366976</td>\n",
       "      <td>0.366976</td>\n",
       "      <td>36.358214</td>\n",
       "      <td>17.354338</td>\n",
       "      <td>3.402415</td>\n",
       "      <td>1.811599</td>\n",
       "      <td>1.778184</td>\n",
       "      <td>1.857674</td>\n",
       "      <td>1.584919</td>\n",
       "      <td>41.890708</td>\n",
       "      <td>74.569836</td>\n",
       "      <td>73.527304</td>\n",
       "      <td>68.132662</td>\n",
       "      <td>70.282666</td>\n",
       "    </tr>\n",
       "    <tr>\n",
       "      <th>11</th>\n",
       "      <td>sub-59092_1_ses-1_run-1</td>\n",
       "      <td>50.668493</td>\n",
       "      <td>0</td>\n",
       "      <td>0.662956</td>\n",
       "      <td>0.509168</td>\n",
       "      <td>0.284715</td>\n",
       "      <td>0.454709</td>\n",
       "      <td>0.454709</td>\n",
       "      <td>0.706371</td>\n",
       "      <td>18.737363</td>\n",
       "      <td>8.483565</td>\n",
       "      <td>1.751789</td>\n",
       "      <td>2.010600</td>\n",
       "      <td>2.068385</td>\n",
       "      <td>1.911779</td>\n",
       "      <td>15.725192</td>\n",
       "      <td>89.671440</td>\n",
       "      <td>79.734944</td>\n",
       "      <td>60.205009</td>\n",
       "      <td>68.324521</td>\n",
       "    </tr>\n",
       "    <tr>\n",
       "      <th>...</th>\n",
       "      <td>...</td>\n",
       "      <td>...</td>\n",
       "      <td>...</td>\n",
       "      <td>...</td>\n",
       "      <td>...</td>\n",
       "      <td>...</td>\n",
       "      <td>...</td>\n",
       "      <td>...</td>\n",
       "      <td>...</td>\n",
       "      <td>...</td>\n",
       "      <td>...</td>\n",
       "      <td>...</td>\n",
       "      <td>...</td>\n",
       "      <td>...</td>\n",
       "      <td>...</td>\n",
       "      <td>...</td>\n",
       "      <td>...</td>\n",
       "      <td>...</td>\n",
       "      <td>...</td>\n",
       "      <td>...</td>\n",
       "    </tr>\n",
       "    <tr>\n",
       "      <th>487</th>\n",
       "      <td>sub-59421_1_ses-1_run-1</td>\n",
       "      <td>73.868493</td>\n",
       "      <td>1</td>\n",
       "      <td>0.603016</td>\n",
       "      <td>0.546355</td>\n",
       "      <td>0.331890</td>\n",
       "      <td>0.409083</td>\n",
       "      <td>0.409083</td>\n",
       "      <td>3.468017</td>\n",
       "      <td>21.158685</td>\n",
       "      <td>7.323267</td>\n",
       "      <td>1.982546</td>\n",
       "      <td>2.134685</td>\n",
       "      <td>1.793721</td>\n",
       "      <td>1.933302</td>\n",
       "      <td>19.306673</td>\n",
       "      <td>62.429296</td>\n",
       "      <td>55.348937</td>\n",
       "      <td>45.185982</td>\n",
       "      <td>50.503463</td>\n",
       "    </tr>\n",
       "    <tr>\n",
       "      <th>491</th>\n",
       "      <td>sub-59425_1_ses-1_run-1</td>\n",
       "      <td>79.624658</td>\n",
       "      <td>0</td>\n",
       "      <td>0.548935</td>\n",
       "      <td>0.427915</td>\n",
       "      <td>0.377477</td>\n",
       "      <td>0.402592</td>\n",
       "      <td>0.402592</td>\n",
       "      <td>22.713066</td>\n",
       "      <td>30.150405</td>\n",
       "      <td>3.636628</td>\n",
       "      <td>2.329791</td>\n",
       "      <td>1.906380</td>\n",
       "      <td>1.768084</td>\n",
       "      <td>1.664009</td>\n",
       "      <td>20.435037</td>\n",
       "      <td>60.320924</td>\n",
       "      <td>49.909828</td>\n",
       "      <td>47.560408</td>\n",
       "      <td>49.658677</td>\n",
       "    </tr>\n",
       "    <tr>\n",
       "      <th>499</th>\n",
       "      <td>sub-59430_2_ses-2_run-1</td>\n",
       "      <td>80.528767</td>\n",
       "      <td>1</td>\n",
       "      <td>0.639960</td>\n",
       "      <td>0.464681</td>\n",
       "      <td>0.576753</td>\n",
       "      <td>0.380334</td>\n",
       "      <td>0.380334</td>\n",
       "      <td>15.791823</td>\n",
       "      <td>56.919548</td>\n",
       "      <td>4.458982</td>\n",
       "      <td>2.414228</td>\n",
       "      <td>2.182364</td>\n",
       "      <td>2.353542</td>\n",
       "      <td>2.456893</td>\n",
       "      <td>34.790202</td>\n",
       "      <td>81.562730</td>\n",
       "      <td>78.162646</td>\n",
       "      <td>50.150927</td>\n",
       "      <td>60.305079</td>\n",
       "    </tr>\n",
       "    <tr>\n",
       "      <th>501</th>\n",
       "      <td>sub-59431_2_ses-2_run-1</td>\n",
       "      <td>69.221918</td>\n",
       "      <td>0</td>\n",
       "      <td>0.644384</td>\n",
       "      <td>0.507394</td>\n",
       "      <td>0.316144</td>\n",
       "      <td>0.438637</td>\n",
       "      <td>0.438637</td>\n",
       "      <td>1.342415</td>\n",
       "      <td>18.737363</td>\n",
       "      <td>7.244147</td>\n",
       "      <td>1.905387</td>\n",
       "      <td>1.982284</td>\n",
       "      <td>1.906185</td>\n",
       "      <td>2.075484</td>\n",
       "      <td>21.630727</td>\n",
       "      <td>80.526579</td>\n",
       "      <td>77.460373</td>\n",
       "      <td>56.040592</td>\n",
       "      <td>65.024965</td>\n",
       "    </tr>\n",
       "    <tr>\n",
       "      <th>509</th>\n",
       "      <td>sub-59440_1_ses-1_run-1</td>\n",
       "      <td>73.928767</td>\n",
       "      <td>1</td>\n",
       "      <td>0.607324</td>\n",
       "      <td>0.535029</td>\n",
       "      <td>0.461714</td>\n",
       "      <td>0.380380</td>\n",
       "      <td>0.380380</td>\n",
       "      <td>18.886131</td>\n",
       "      <td>52.354332</td>\n",
       "      <td>3.914171</td>\n",
       "      <td>1.961558</td>\n",
       "      <td>2.015942</td>\n",
       "      <td>1.849164</td>\n",
       "      <td>2.064177</td>\n",
       "      <td>31.465296</td>\n",
       "      <td>88.048387</td>\n",
       "      <td>78.422005</td>\n",
       "      <td>57.689421</td>\n",
       "      <td>63.441921</td>\n",
       "    </tr>\n",
       "  </tbody>\n",
       "</table>\n",
       "<p>129 rows × 20 columns</p>\n",
       "</div>"
      ],
      "text/plain": [
       "              participant_id        age  sex    gm_vol    wm_vol   csf_vol  \\\n",
       "1    sub-59083_1_ses-1_run-1  66.367123    0  0.636007  0.493854  0.368881   \n",
       "6    sub-59089_1_ses-1_run-1  58.419178    0  0.626644  0.435998  0.269895   \n",
       "9    sub-59090_2_ses-2_run-1  74.610959    0  0.563621  0.443640  0.384711   \n",
       "10   sub-59091_1_ses-1_run-1  74.063014    1  0.612484  0.494760  0.566308   \n",
       "11   sub-59092_1_ses-1_run-1  50.668493    0  0.662956  0.509168  0.284715   \n",
       "..                       ...        ...  ...       ...       ...       ...   \n",
       "487  sub-59421_1_ses-1_run-1  73.868493    1  0.603016  0.546355  0.331890   \n",
       "491  sub-59425_1_ses-1_run-1  79.624658    0  0.548935  0.427915  0.377477   \n",
       "499  sub-59430_2_ses-2_run-1  80.528767    1  0.639960  0.464681  0.576753   \n",
       "501  sub-59431_2_ses-2_run-1  69.221918    0  0.644384  0.507394  0.316144   \n",
       "509  sub-59440_1_ses-1_run-1  73.928767    1  0.607324  0.535029  0.461714   \n",
       "\n",
       "     gm_ivc_ratio  gmwm_ivc_ratio    wmh_vol  wmh_count  deepwm_b_cov  \\\n",
       "1        0.423664        0.423664   8.895530  21.780841      5.230700   \n",
       "6        0.467296        0.467296   5.581747  50.693879      4.139946   \n",
       "9        0.402810        0.402810   3.111932  24.063449      5.245837   \n",
       "10       0.366976        0.366976  36.358214  17.354338      3.402415   \n",
       "11       0.454709        0.454709   0.706371  18.737363      8.483565   \n",
       "..            ...             ...        ...        ...           ...   \n",
       "487      0.409083        0.409083   3.468017  21.158685      7.323267   \n",
       "491      0.402592        0.402592  22.713066  30.150405      3.636628   \n",
       "499      0.380334        0.380334  15.791823  56.919548      4.458982   \n",
       "501      0.438637        0.438637   1.342415  18.737363      7.244147   \n",
       "509      0.380380        0.380380  18.886131  52.354332      3.914171   \n",
       "\n",
       "     aca_b_cov  mca_b_cov  pca_b_cov  totalgm_b_cov   deepwm_b       aca_b  \\\n",
       "1     1.881776   1.733382   2.456991       1.881870  23.811992   78.760008   \n",
       "6     1.809928   1.821890   1.889586       1.853376  38.734255   91.486700   \n",
       "9     1.716077   1.861623   1.783419       1.723828  58.026723  133.025386   \n",
       "10    1.811599   1.778184   1.857674       1.584919  41.890708   74.569836   \n",
       "11    1.751789   2.010600   2.068385       1.911779  15.725192   89.671440   \n",
       "..         ...        ...        ...            ...        ...         ...   \n",
       "487   1.982546   2.134685   1.793721       1.933302  19.306673   62.429296   \n",
       "491   2.329791   1.906380   1.768084       1.664009  20.435037   60.320924   \n",
       "499   2.414228   2.182364   2.353542       2.456893  34.790202   81.562730   \n",
       "501   1.905387   1.982284   1.906185       2.075484  21.630727   80.526579   \n",
       "509   1.961558   2.015942   1.849164       2.064177  31.465296   88.048387   \n",
       "\n",
       "          mca_b       pca_b   totalgm_b  \n",
       "1     67.858413   69.958931   71.725258  \n",
       "6     82.825130   70.367017   75.449422  \n",
       "9    112.393036  108.079982  111.291044  \n",
       "10    73.527304   68.132662   70.282666  \n",
       "11    79.734944   60.205009   68.324521  \n",
       "..          ...         ...         ...  \n",
       "487   55.348937   45.185982   50.503463  \n",
       "491   49.909828   47.560408   49.658677  \n",
       "499   78.162646   50.150927   60.305079  \n",
       "501   77.460373   56.040592   65.024965  \n",
       "509   78.422005   57.689421   63.441921  \n",
       "\n",
       "[129 rows x 20 columns]"
      ]
     },
     "execution_count": 45,
     "metadata": {},
     "output_type": "execute_result"
    }
   ],
   "source": [
    "StrokeMRI_new = StrokeMRI[StrokeMRI['participant_id'].isin(list(new_mri))]\n",
    "StrokeMRI_new"
   ]
  },
  {
   "cell_type": "code",
   "execution_count": 46,
   "id": "ae3a47ad-e982-4d52-9680-c0e3db7b7bc2",
   "metadata": {
    "tags": []
   },
   "outputs": [],
   "source": [
    "strokemri_ml_matrix = StrokeMRI_new.drop('participant_id', axis=1) \n",
    "\n",
    "X_mri = strokemri_ml_matrix.drop('age', axis =1)\n",
    "X_mri = X_mri.values\n",
    "X_mri = X_mri.astype('float')\n",
    "y_mri = strokemri_ml_matrix['age'].values\n",
    "y_mri=y_mri.astype('float')"
   ]
  },
  {
   "cell_type": "code",
   "execution_count": 47,
   "id": "081d7d47-ab65-4cd7-a944-ba6984bade1e",
   "metadata": {
    "tags": []
   },
   "outputs": [],
   "source": [
    "X_mri_test = X_mri\n",
    "y_mri_test = y_mri"
   ]
  },
  {
   "cell_type": "code",
   "execution_count": 48,
   "id": "c63d38f7-1cf5-421f-922c-72cb45cfc59c",
   "metadata": {
    "tags": []
   },
   "outputs": [
    {
     "name": "stdout",
     "output_type": "stream",
     "text": [
      "R2 score Linear regression: 0.158\n",
      "Explained variance score: 0.786\n",
      "The mean absolute error: 12.332\n"
     ]
    }
   ],
   "source": [
    "y_mri_pred = linr.predict(X_mri_test)\n",
    "print('R2 score Linear regression: %.3f' % linr.score(X_mri_test,y_mri_test))\n",
    "print('Explained variance score: %.3f'  % metrics.explained_variance_score(y_mri_test, y_mri_pred))\n",
    "print('The mean absolute error: %.3f' % mean_absolute_error(y_mri_test, y_mri_pred))"
   ]
  },
  {
   "cell_type": "code",
   "execution_count": 49,
   "id": "24341e48-be46-4720-b7b0-17ba006e117a",
   "metadata": {
    "tags": []
   },
   "outputs": [
    {
     "name": "stdout",
     "output_type": "stream",
     "text": [
      "R2 score Lasso-linear regression: 0.156\n",
      "Explained variance score: 0.787\n",
      "The mean absolute error: 12.390\n"
     ]
    }
   ],
   "source": [
    "y_mri_pred = llreg.predict(X_mri_test)\n",
    "print('R2 score Lasso-linear regression: %.3f' % llreg.score(X_mri_test,y_mri_test))\n",
    "print('Explained variance score: %.3f'  % metrics.explained_variance_score(y_mri_test, y_mri_pred))\n",
    "print('The mean absolute error: %.3f' % mean_absolute_error(y_mri_test, y_mri_pred))"
   ]
  },
  {
   "cell_type": "code",
   "execution_count": 50,
   "id": "e8778b82-1627-46c8-920f-a20471bd6f06",
   "metadata": {
    "tags": []
   },
   "outputs": [
    {
     "name": "stdout",
     "output_type": "stream",
     "text": [
      "R2 score decision tree regression: 0.403\n",
      "Explained variance score: 0.444\n",
      "The mean absolute error: 8.601\n"
     ]
    }
   ],
   "source": [
    "y_mri_pred = dtree.predict(X_mri_test)\n",
    "print('R2 score decision tree regression: %.3f' % dtree.score(X_mri_test,y_mri_test))\n",
    "print('Explained variance score: %.3f'  % metrics.explained_variance_score(y_mri_test, y_mri_pred))\n",
    "print('The mean absolute error: %.3f' % mean_absolute_error(y_mri_test, y_mri_pred))"
   ]
  },
  {
   "cell_type": "code",
   "execution_count": 51,
   "id": "fbbc74e1-1f3d-48d3-a9be-5559c417a399",
   "metadata": {
    "tags": []
   },
   "outputs": [
    {
     "name": "stdout",
     "output_type": "stream",
     "text": [
      "R2 score Lasso linear regression: -0.006\n",
      "Explained variance score: 0.371\n",
      "The mean absolute error: 12.622\n"
     ]
    }
   ],
   "source": [
    "y_mri_pred = regr.predict(X_mri_test)\n",
    "print('R2 score Lasso linear regression: %.3f' % regr.score(X_mri_test,y_mri_test))\n",
    "print('Explained variance score: %.3f'  % metrics.explained_variance_score(y_mri_test, y_mri_pred))\n",
    "print('The mean absolute error: %.3f' % mean_absolute_error(y_mri_test, y_mri_pred))"
   ]
  },
  {
   "cell_type": "code",
   "execution_count": null,
   "id": "72f218b2-f17f-4fd5-8f7e-a90d3ad9f378",
   "metadata": {},
   "outputs": [],
   "source": []
  }
 ],
 "metadata": {
  "kernelspec": {
   "display_name": "Python 3 (ipykernel)",
   "language": "python",
   "name": "python3"
  },
  "language_info": {
   "codemirror_mode": {
    "name": "ipython",
    "version": 3
   },
   "file_extension": ".py",
   "mimetype": "text/x-python",
   "name": "python",
   "nbconvert_exporter": "python",
   "pygments_lexer": "ipython3",
   "version": "3.9.18"
  }
 },
 "nbformat": 4,
 "nbformat_minor": 5
}
