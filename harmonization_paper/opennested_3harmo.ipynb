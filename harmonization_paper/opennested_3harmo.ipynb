{
 "cells": [
  {
   "cell_type": "code",
   "execution_count": null,
   "id": "8e94dfce-b592-494a-b935-e6eaeea6ea82",
   "metadata": {},
   "outputs": [],
   "source": []
  },
  {
   "cell_type": "markdown",
   "id": "9a717116-2d71-4240-ac03-7e458bfe1601",
   "metadata": {},
   "source": [
    "# Open nested combat: TOP, SABRE and StrokeMRI open nested-harmonized datasets, each as it's own batch"
   ]
  },
  {
   "cell_type": "markdown",
   "id": "a251bb28-f300-40d1-a6ce-05b05089dcef",
   "metadata": {},
   "source": [
    "Note this must be run in the `opnc` environment"
   ]
  },
  {
   "cell_type": "markdown",
   "id": "5749d99f-b8cc-4f17-bdc6-d44f1c4495c9",
   "metadata": {},
   "source": [
    "## import libraries"
   ]
  },
  {
   "cell_type": "code",
   "execution_count": null,
   "id": "63a78cdf-190d-4e84-bb91-efd55ac80c25",
   "metadata": {
    "tags": []
   },
   "outputs": [],
   "source": [
    "import os\n",
    "import sys\n",
    "from itertools import permutations\n",
    "\n",
    "import pandas as pd\n",
    "import numpy as np\n",
    "import matplotlib.pyplot as plt\n",
    "import seaborn as sns\n",
    "import ipywidgets as widgets\n",
    "\n",
    "import neuroCombat as nC\n",
    "from sklearn.preprocessing import LabelEncoder\n",
    "from sklearn.mixture import GaussianMixture\n",
    "from scipy.stats import ranksums, ttest_ind, ttest_rel, ks_2samp, anderson_ksamp\n",
    "\n",
    "sys.path.insert(0, '../') # path to cvasl functions\n",
    "import cvasl.seperated as sep"
   ]
  },
  {
   "cell_type": "markdown",
   "id": "692f8678-7b43-4a18-9583-6277a250b92e",
   "metadata": {},
   "source": [
    "## Read in our data"
   ]
  },
  {
   "cell_type": "code",
   "execution_count": null,
   "id": "1475d2ad-b59b-4ac6-9e1f-c1822f169319",
   "metadata": {
    "tags": []
   },
   "outputs": [],
   "source": [
    "filepath = '../open_work/internal_results/cleaned_pvc2s/' \n",
    "filename_mri = os.path.join(filepath,'StrokeMRI_pvc2c.csv') \n",
    "filename_top = os.path.join(filepath,'TOP_pvc2c.csv') \n",
    "filename_sabre = os.path.join(filepath,'SABRE_pvc2_cleaned.csv') "
   ]
  },
  {
   "cell_type": "code",
   "execution_count": null,
   "id": "ae28a705-8423-42da-ac21-78baf43d1e5b",
   "metadata": {},
   "outputs": [],
   "source": [
    "mri = pd.read_csv(filename_mri)\n",
    "top = pd.read_csv(filename_top)\n",
    "sabre = pd.read_csv(filename_sabre)"
   ]
  },
  {
   "cell_type": "code",
   "execution_count": null,
   "id": "e79978d7-e22b-466f-a9d4-11160f453e9b",
   "metadata": {},
   "outputs": [],
   "source": [
    "# clean up sabre to be like others\n",
    "coly = top.columns\n",
    "sabre = sabre[coly]\n",
    "sabre = sabre.dropna()"
   ]
  },
  {
   "cell_type": "code",
   "execution_count": null,
   "id": "b916e98d-8ccf-42d5-b7a7-fddf187bbbb7",
   "metadata": {},
   "outputs": [],
   "source": [
    "sabre.isna().sum().sum()"
   ]
  },
  {
   "cell_type": "markdown",
   "id": "300b3c5e-7120-4701-bb51-ff7fe24a3f9a",
   "metadata": {},
   "source": [
    "## Below are functions out of the Hannah Horng Opn-combat library\n",
    "The library is here https://github.com/hannah-horng/opnested-combat\n",
    "As the library is unreleased and unversioned, we are using the MIT lisenced functions directly to version control them"
   ]
  },
  {
   "cell_type": "code",
   "execution_count": null,
   "id": "703a3d3c-e956-4ee1-8062-f40b0fb9c2b0",
   "metadata": {},
   "outputs": [],
   "source": [
    "# functions from opncombat\n",
    "def OPNestedComBat(dat, covars, batch_list, filepath, categorical_cols=None, continuous_cols=None, return_estimates=False):\n",
    "    \"\"\"\n",
    "    Completes sequential OPNested ComBat harmonization on an input DataFrame. Order is determined by running through all\n",
    "    possible permutations of the order, then picking the order with the lowest number of features with significant\n",
    "    differences in distribution.\n",
    "\n",
    "    Arguments\n",
    "    ---------\n",
    "    dat : DataFrame of original data with shape (features, samples)\n",
    "    covars : DataFrame with shape (samples, covariates) corresponding to original data. All variables should be label-\n",
    "        encoded (i.e. strings converted to integer designations)\n",
    "    batch_list : list of strings indicating batch effect column names within covars (i.e. ['Manufacturer', 'CE'...])\n",
    "    filepath : root directory path for saving KS test p-values and kernel density plots created during harmonization\n",
    "    categorical_cols : string or list of strings of categorical variables to adjust for\n",
    "    continuous_cols : string or list of strings of continuous variables to adjust for\n",
    "    return_estimates : if True, function will return both output_df and final_estimates\n",
    "\n",
    "    Returns\n",
    "    -------\n",
    "    output_df : DataFrame with shape (features, samples) that has been sequentially harmonized with Nested ComBat\n",
    "    final_estimates : list of dictionaries of estimates from iterative harmonization, used if user is deriving estimates\n",
    "        from training data that need to be applied to a separate validation dataset\n",
    "\n",
    "    \"\"\"\n",
    "    if not os.path.exists(filepath):\n",
    "        os.makedirs(filepath)\n",
    "\n",
    "    perm_list = list(permutations(np.arange(len(batch_list))))\n",
    "    count_dict = {}\n",
    "    feature_dict = {}\n",
    "    estimate_dict = {}\n",
    "    c = 0\n",
    "    for order in perm_list:\n",
    "        c += 1\n",
    "        n_dat = dat.copy()\n",
    "        estimate_list = []\n",
    "        print('Iteration ' + str(c) + ' of ' + str(len(perm_list)))\n",
    "        for i in order:\n",
    "            batch_col = batch_list[i]\n",
    "            output = nC.neuroCombat(n_dat, covars, batch_col, continuous_cols=continuous_cols,\n",
    "                                    categorical_cols=categorical_cols)\n",
    "            output_df = pd.DataFrame.from_records(output['data'].T)\n",
    "            n_dat = output_df.T\n",
    "            estimate_list.append(output['estimates'])\n",
    "        output_df.columns = dat.index\n",
    "        feature_dict[str(order)] = n_dat\n",
    "        count_dict[str(order)] = 0\n",
    "        estimate_dict[str(order)] = estimate_list\n",
    "        for batch_col in batch_list:\n",
    "            p_list = []\n",
    "            # print(batch_col)\n",
    "            for j in range(len(output_df.columns)):\n",
    "                feature = output_df.iloc[:, j]\n",
    "                # print(j)\n",
    "                split_col = [feature[covars[batch_col] == i] for i in covars[batch_col].unique()]\n",
    "                p_list.append(anderson_ksamp(split_col).significance_level)\n",
    "            count_dict[str(order)] += np.sum(np.asarray(p_list) < 0.05)\n",
    "    if len(batch_list) != 1:\n",
    "        best_order = [key for key, value in count_dict.items() if value == min(count_dict.values())][0]\n",
    "        best_order_list = list(map(int, best_order[1:-1].split(', ')))\n",
    "        order = [batch_list[i] for i in best_order_list]\n",
    "        n_dat = feature_dict[best_order]\n",
    "        final_estimate = estimate_dict[best_order] \n",
    "\n",
    "    print('Final Order: ' + str(order))\n",
    "\n",
    "    txt_path = filepath + 'order.txt'\n",
    "    with open(txt_path, 'w') as f:\n",
    "        for item in order:\n",
    "            f.write(\"%s\\n\" % item)\n",
    "\n",
    "    output_df = pd.DataFrame.from_records(n_dat.T)\n",
    "    output_df.columns = dat.index\n",
    "    if return_estimates:\n",
    "        return output_df, final_estimate\n",
    "    else:\n",
    "        return output_df\n",
    "\n",
    "\n",
    "def feature_ad(dat, output_df, covars, batch_list, filepath):\n",
    "    \"\"\"\n",
    "    Computes AD test p-values separated by batch effect groups for a dataset (intended to assess differences in\n",
    "    distribution to all batch effects in batch_list following harmonization NestedComBat\n",
    "\n",
    "    Arguments\n",
    "    ---------\n",
    "    dat : DataFrame of original data with shape (samples, features)\n",
    "    output_df: DataFrame of harmonized data with shape (samples, features)\n",
    "    covars : DataFrame with shape (samples, covariates) corresponding to original data. All variables should be label-\n",
    "            encoded (i.e. strings converted to integer designations)\n",
    "    batch_list : list of strings indicating batch effect column names within covars (i.e. ['Manufacturer', 'CE'...])\n",
    "    filepath : write destination for kernel density plots and p-values\n",
    "\n",
    "    If a feature is all the same value, the AD test cannot be completed.\n",
    "\n",
    "    \"\"\"\n",
    "    p_df_original = pd.DataFrame()\n",
    "    p_df_combat = pd.DataFrame()\n",
    "    for batch_col in batch_list:\n",
    "\n",
    "        # Computing KS Test P-Values\n",
    "        p_list_original = []\n",
    "        p_list_combat = []\n",
    "        for j in range(len(output_df.columns)):\n",
    "            feature_original = dat.iloc[:, j]\n",
    "            feature_combat = output_df.iloc[:, j]\n",
    "            try:\n",
    "                split_col_original = [feature_original[covars[batch_col] == i] for i in covars[batch_col].unique()]\n",
    "                p_list_original.append(anderson_ksamp(split_col_original).significance_level)\n",
    "                split_col_combat = [feature_combat[covars[batch_col] == i] for i in covars[batch_col].unique()]\n",
    "                p_list_combat.append(anderson_ksamp(split_col_combat).significance_level)\n",
    "            except ValueError:\n",
    "                print('Feature is all same value: ' + output_df.columns[j])\n",
    "\n",
    "        p_df_original[batch_col] = p_list_original\n",
    "        p_df_combat[batch_col] = p_list_combat\n",
    "\n",
    "    p_df_original.index = dat.columns\n",
    "    p_df_combat.index = output_df.columns\n",
    "    p_df_original.to_csv(filepath + 'p_values_original.csv')\n",
    "    p_df_combat.to_csv(filepath + 'p_values_combat.csv')\n",
    "    \n",
    "\n",
    "def feature_histograms(dat, output_df, covars, batch_list, filepath):\n",
    "    \"\"\"\n",
    "    Plots kernel density plots and computes KS test p-values separated by batch effect groups for a dataset (intended\n",
    "    to assess differences in distribution to all batch effects in batch_list following harmonization with\n",
    "    NestedComBat\n",
    "\n",
    "    Arguments\n",
    "    ---------\n",
    "    dat : DataFrame of original data with shape (samples, features)\n",
    "    output_df: DataFrame of harmonized data with shape (samples, features)\n",
    "    covars : DataFrame with shape (samples, covariates) corresponding to original data. All variables should be label-\n",
    "        encoded (i.e. strings converted to integer designations)\n",
    "    batch_list : list of strings indicating batch effect column names within covars (i.e. ['Manufacturer', 'CE'...])\n",
    "    filepath : write destination for kernel density plots and p-values\n",
    "    ad : KS test for binary batch effects if False, Anderson-Darling test for categorical batch effects if True\n",
    "\n",
    "    \"\"\"\n",
    "    for batch_col in batch_list:\n",
    "        filepath3 = filepath + batch_col + '/'\n",
    "        if not os.path.exists(filepath3):\n",
    "            os.makedirs(filepath3)\n",
    "\n",
    "        # Plotting Kernel Density Plots\n",
    "        for col in output_df:\n",
    "            feature_original = dat[col]\n",
    "            feature_combat = output_df[col]\n",
    "\n",
    "            try:\n",
    "\n",
    "                plt.figure()\n",
    "                for i in covars[batch_col].unique():\n",
    "                    feature_original[covars[batch_col] == i].plot.kde(color='r', alpha=0.75)\n",
    "                for i in covars[batch_col].unique():\n",
    "                    feature_combat[covars[batch_col] == i].plot.kde(color='b', alpha=0.5)\n",
    "                    if max(feature_combat[covars[batch_col] == i]) > 1:\n",
    "                        plt.xlim([0, 200])\n",
    "                plt.xlabel(col)\n",
    "                plt.ylabel('Density')\n",
    "                leg = ['Original', 'ComBat']\n",
    "                plt.legend(leg)\n",
    "                ax = plt.gca()\n",
    "                leg = ax.get_legend()\n",
    "                leg.legendHandles[0].set_color('r')\n",
    "                leg.legendHandles[1].set_color('b')\n",
    "\n",
    "                filename = filepath3 + 'histogram_' + col + \".png\"\n",
    "                plt.savefig(filename, bbox_inches='tight')\n",
    "                plt.close()\n",
    "                plt.close('all')\n",
    "            except np.linalg.linalg.LinAlgError:\n",
    "                print('Failed to plot: ' + col)\n",
    "\n",
    "\n",
    "def GMMSplit(dat, caseno, filepath):\n",
    "    \"\"\"\n",
    "    Completes Gaussian Mixture model fitting and ComBat harmonization by the resulting sample grouping. The assumption\n",
    "    here is that there is an unknown batch effect causing bimodality such that we can estimate the sample groupings for\n",
    "    this hidden batch effect from the distribution. This function will take in a dataset, determine the best 2-component\n",
    "    Gaussian mixture model, and use the resulting sample grouping to harmonize the data with ComBat.\n",
    "\n",
    "    Arguments\n",
    "    ---------\n",
    "    dat : DataFrame of original data with shape (features, samples)\n",
    "    caseno : DataFrame/Series containing sample IDs (should be aligned with dat and covars), used to return sample\n",
    "        grouping assignments.\n",
    "    filepath : root directory path for saving the grouping and corresponding kernel density plots\n",
    "    -------\n",
    "    new_dat : DataFrame with shape (features, samples) that has been sequentially harmonized with Nested ComBat\n",
    "\n",
    "    \"\"\"\n",
    "    # GENERATING GMM GROUPING\n",
    "    data_keys = list(dat.T.keys())\n",
    "    aic_values = []\n",
    "    predictions = []\n",
    "    col_list = []\n",
    "    final_keys = []\n",
    "    filepath2 = filepath+'GMM_Split/'\n",
    "    if not os.path.exists(filepath2):\n",
    "        os.makedirs(filepath2)\n",
    "\n",
    "    for i in range(len(data_keys)):\n",
    "        # print(col)\n",
    "        feature = dat.T.iloc[:, i]\n",
    "        X = pd.DataFrame({0: feature, 1: feature})\n",
    "        gmix = GaussianMixture(n_components=2)\n",
    "        col = data_keys[i]\n",
    "        try:\n",
    "            gmix.fit(X)\n",
    "            results = gmix.predict(X)\n",
    "            cluster_0 = X[results == 0].iloc[:, 0]\n",
    "            cluster_1 = X[results == 1].iloc[:, 0]\n",
    "            # print(len(cluster_0))\n",
    "            if len(cluster_0) <= .25*len(caseno) or len(cluster_1) <= .25*len(caseno):\n",
    "                print('Clusters unbalanced: ' + data_keys[i])\n",
    "            else:\n",
    "                try:\n",
    "                    plt.figure()\n",
    "                    cluster_0.plot.kde()\n",
    "                    cluster_1.plot.kde()\n",
    "                    X.iloc[:, 0].plot.kde()\n",
    "                    plt.legend(['Cluster 0', 'Cluster 1', 'Original'])\n",
    "                    plt.xlabel(data_keys[i])\n",
    "                    filename = filepath2 + 'histogram_' + data_keys[i] + \".png\"\n",
    "                    plt.savefig(filename, bbox_inches='tight')\n",
    "                    plt.close()\n",
    "                except:\n",
    "                    plt.close()\n",
    "                    print('Failed to plot: ' + col)\n",
    "                final_keys.append(col)\n",
    "                predictions.append(results)\n",
    "                aic_values.append(gmix.aic(X))\n",
    "                col_list.append(col)\n",
    "        except ValueError:\n",
    "            print('Failed to fit: ' + col)\n",
    "            # aic_values.append(np.nan)\n",
    "\n",
    "    # Returning AIC values\n",
    "    gaussian_df = pd.DataFrame({'Feature': final_keys, 'AIC': aic_values})\n",
    "    best_fit = gaussian_df[gaussian_df['AIC'] == min(gaussian_df['AIC'])]['Feature'].iloc[0].strip(' ')\n",
    "    best_fit_n = gaussian_df[gaussian_df['AIC'] == min(gaussian_df['AIC'])]['Feature'].index[0]\n",
    "    gaussian_df.to_csv(filepath2 + 'GaussianMixture_aic_values.csv')\n",
    "\n",
    "    # Returning patient split\n",
    "    predictions_df = pd.DataFrame()\n",
    "    predictions_df['Patient'] = caseno\n",
    "    predictions_df['Grouping'] = predictions[best_fit_n]\n",
    "    predictions_df.to_csv(filepath2 + best_fit + '_split.csv')\n",
    "\n",
    "    return predictions_df"
   ]
  },
  {
   "cell_type": "code",
   "execution_count": null,
   "id": "9d00cdd3-1e68-4fb6-a62b-47324d2c68e4",
   "metadata": {},
   "outputs": [],
   "source": []
  },
  {
   "cell_type": "code",
   "execution_count": null,
   "id": "ea9ead2b-0b7b-4c6a-aff7-02727dcfe284",
   "metadata": {},
   "outputs": [],
   "source": [
    "top_batch_testing_df = top[['participant_id','age', 'sex']]\n",
    "top_batch_testing_df['site'] = 1\n",
    "column_to_move = top_batch_testing_df.pop(\"site\")\n",
    "top_batch_testing_df.insert(1, \"site\", column_to_move)\n",
    "#top_batch_testing_df.head(3)"
   ]
  },
  {
   "cell_type": "code",
   "execution_count": null,
   "id": "1a667fda-d581-4607-a3e9-c186af2b80d7",
   "metadata": {},
   "outputs": [],
   "source": [
    "mri_batch_testing_df = mri[['participant_id','age', 'sex']]\n",
    "mri_batch_testing_df['site'] = 2\n",
    "column_to_move = mri_batch_testing_df.pop(\"site\")\n",
    "mri_batch_testing_df.insert(1, \"site\", column_to_move)\n",
    "#mri_batch_testing_df.head(3)"
   ]
  },
  {
   "cell_type": "code",
   "execution_count": null,
   "id": "f593b774-67a0-4437-8640-cb13f677d110",
   "metadata": {},
   "outputs": [],
   "source": [
    "sabre_batch_testing_df = sabre[['participant_id','age', 'sex']]\n",
    "sabre_batch_testing_df['site'] = 3\n",
    "column_to_move = sabre_batch_testing_df.pop(\"site\")\n",
    "sabre_batch_testing_df.insert(1, \"site\", column_to_move)\n",
    "#sabre_batch_testing_df.head(3)"
   ]
  },
  {
   "cell_type": "code",
   "execution_count": null,
   "id": "6c569603-4e29-4971-a285-af4a87cbd993",
   "metadata": {},
   "outputs": [],
   "source": [
    "batch_testing_df = pd.concat(\n",
    "    [top_batch_testing_df, mri_batch_testing_df, sabre_batch_testing_df],\n",
    "    ignore_index=True)\n",
    "batch_testing_df = sep.recode_sex_to_numeric(batch_testing_df)\n",
    "#batch_testing_df.tail(5)"
   ]
  },
  {
   "cell_type": "code",
   "execution_count": null,
   "id": "8a16ae76-df82-4a42-b1e9-cd31f7302a47",
   "metadata": {},
   "outputs": [],
   "source": [
    "# Loading in batch effects\n",
    "batch_testing_list = ['site']\n",
    "# Loading in clinical covariates\n",
    "categorical_testing_cols = ['sex']\n",
    "continuous_testing_cols = ['age']"
   ]
  },
  {
   "cell_type": "code",
   "execution_count": null,
   "id": "2818081b-073e-489b-bf59-7fc69590b9a3",
   "metadata": {},
   "outputs": [],
   "source": [
    "# ASL\n",
    "data_testing_df = pd.concat([top,mri,sabre])\n",
    "#data_testing_df = # ASL\n",
    "data_testing_df = data_testing_df.drop(columns=['Unnamed: 0','age','sex'])  \n",
    "data_testing_df.tail(3)"
   ]
  },
  {
   "cell_type": "code",
   "execution_count": null,
   "id": "d1e8f245-b3fe-4622-b0bd-dcb01a52b396",
   "metadata": {},
   "outputs": [],
   "source": [
    "#caseno_testing "
   ]
  },
  {
   "cell_type": "code",
   "execution_count": null,
   "id": "293e1e17-31b8-48c3-ba4f-df7bddedb868",
   "metadata": {},
   "outputs": [],
   "source": [
    "data_testing_df = data_testing_df.reset_index(drop=True)\n",
    "data_testing_df = data_testing_df.dropna()\n",
    "data_testing_df = data_testing_df.merge(batch_testing_df['participant_id'], \n",
    "                                        left_on='participant_id', right_on='participant_id')\n",
    "dat_testing = data_testing_df.iloc[:, 1:]\n",
    "dat_testing = dat_testing.T.apply(pd.to_numeric)\n",
    "caseno_testing = data_testing_df['participant_id']\n",
    "covars_testing = batch_testing_df.drop('participant_id',1)"
   ]
  },
  {
   "cell_type": "code",
   "execution_count": null,
   "id": "4d32a006-6daf-43fb-94b8-e9d3ddbae34b",
   "metadata": {},
   "outputs": [],
   "source": [
    "data_testing_df.shape"
   ]
  },
  {
   "cell_type": "code",
   "execution_count": null,
   "id": "cd590381-2fc6-4ac2-95f2-3075e1c251a9",
   "metadata": {},
   "outputs": [],
   "source": [
    "# Merging batch effects, clinical covariates\n",
    "covars_testing_string = pd.DataFrame()\n",
    "covars_testing_string[categorical_testing_cols] = covars_testing[categorical_testing_cols].copy()\n",
    "covars_testing_quant = covars_testing[continuous_testing_cols]\n",
    "#covars_testing_quant"
   ]
  },
  {
   "cell_type": "code",
   "execution_count": null,
   "id": "704fcccb-236d-4555-bdc6-dba843c2289d",
   "metadata": {},
   "outputs": [],
   "source": [
    "# Encoding categorical variables\n",
    "covars_testing_cat = pd.DataFrame()\n",
    "for col_testing in covars_testing_string:\n",
    "    stringcol_testing = covars_testing_string[col_testing]\n",
    "    le = LabelEncoder()\n",
    "    le.fit(list(stringcol_testing))\n",
    "    covars_testing_cat[col_testing] = le.transform(stringcol_testing)\n",
    "#covars_testing_cat"
   ]
  },
  {
   "cell_type": "code",
   "execution_count": null,
   "id": "a1247556-4f0e-4f59-938f-6801954d30c7",
   "metadata": {},
   "outputs": [],
   "source": [
    "covars_testing_final = pd.concat([covars_testing_cat, covars_testing_quant], axis=1)\n",
    "#covars_testing_final"
   ]
  },
  {
   "cell_type": "code",
   "execution_count": null,
   "id": "664301a6-ac7c-44b4-a775-ea0b24e73959",
   "metadata": {},
   "outputs": [],
   "source": [
    "# # # FOR GMM COMBAT VARIANTS:\n",
    "# # # Adding GMM Split to batch effects\n",
    "filepath2 = 'Testing/OPPNComBat/ResultTesting'\n",
    "if not os.path.exists(filepath2):\n",
    "    os.makedirs(filepath2)\n",
    "gmm_testing_df = GMMSplit(dat_testing, caseno_testing, filepath2)"
   ]
  },
  {
   "cell_type": "code",
   "execution_count": null,
   "id": "b18d6f85-7371-4c27-923a-280943571da4",
   "metadata": {},
   "outputs": [],
   "source": [
    "batch_testing_df.head(2)"
   ]
  },
  {
   "cell_type": "code",
   "execution_count": null,
   "id": "9f85486d-81ef-4379-a4a3-87f1bdca3a2e",
   "metadata": {},
   "outputs": [],
   "source": [
    "gmm_testing_df.head(2)"
   ]
  },
  {
   "cell_type": "code",
   "execution_count": null,
   "id": "3872b996-fd43-42a2-8f5d-f6c198933adf",
   "metadata": {},
   "outputs": [],
   "source": [
    "gmm_testing_df_merge = batch_testing_df.merge(gmm_testing_df, right_on='Patient', left_on='participant_id')\n",
    "gmm_testing_df_merge['GMM'] = gmm_testing_df_merge['Grouping'] \n",
    "gmm_testing_df_merge"
   ]
  },
  {
   "cell_type": "code",
   "execution_count": null,
   "id": "050e143b-a9a3-4ea6-a996-c3b7614d79f8",
   "metadata": {},
   "outputs": [],
   "source": [
    "covars_testing_final = gmm_testing_df_merge.drop(['participant_id','Patient','Grouping'],1)\n",
    "categorical_testing_cols = categorical_testing_cols + ['GMM']"
   ]
  },
  {
   "cell_type": "code",
   "execution_count": null,
   "id": "70589367-6531-4e1a-bf6c-cdbab8bfcc45",
   "metadata": {},
   "outputs": [],
   "source": [
    "output_testing_df = OPNestedComBat(dat_testing,\n",
    "                                   covars_testing_final,\n",
    "                                   batch_testing_list,\n",
    "                                   filepath2, categorical_cols=categorical_testing_cols,\n",
    "                                  continuous_cols=continuous_testing_cols)"
   ]
  },
  {
   "cell_type": "code",
   "execution_count": null,
   "id": "6286fa95-b916-44a3-a86c-fef547df5f29",
   "metadata": {},
   "outputs": [],
   "source": []
  },
  {
   "cell_type": "code",
   "execution_count": null,
   "id": "b9ba5cb0-0862-49ee-bea6-87494f608a76",
   "metadata": {},
   "outputs": [],
   "source": [
    "# compute the AD test p-values to measure harmonziation performance\n",
    "feature_ad(dat_testing.T, output_testing_df, covars_testing_final, batch_testing_list, filepath2)\n",
    "# plot kernel density plots to visualize distributions before and after harmonization\n",
    "feature_histograms(dat_testing.T, output_testing_df, covars_testing_final, batch_testing_list, filepath2)"
   ]
  },
  {
   "cell_type": "code",
   "execution_count": null,
   "id": "55322a87-a06a-475f-8555-d68cace86a20",
   "metadata": {},
   "outputs": [],
   "source": [
    "write_testing_df = pd.concat([caseno_testing, output_testing_df], axis=1) \n",
    "write_testing_df.to_csv(filepath2+'/Mfeatures_testing_NestedComBat.csv') # write results fo file\n",
    "dat_testing_input = dat_testing.transpose()\n",
    "dat_testing_input.to_csv(filepath2+'/Mfeatures_input_testing_NestedComBat.csv')\n",
    "covars_testing_final.to_csv(filepath2+'/Mcovars_input_testing_NestedComBat.csv')"
   ]
  },
  {
   "cell_type": "code",
   "execution_count": null,
   "id": "b4e1dec7-a309-46d8-b9e6-2b459dca6aec",
   "metadata": {},
   "outputs": [],
   "source": [
    "# write harmonized dataset \n",
    "complete_harmonised = pd.concat([write_testing_df, covars_testing_final], axis=1) \n",
    "complete_harmonised.head(3)"
   ]
  },
  {
   "cell_type": "code",
   "execution_count": null,
   "id": "3e049d97-8d90-48a5-85d6-1f972bfa3d46",
   "metadata": {},
   "outputs": [],
   "source": [
    "complete_harmonised.shape"
   ]
  },
  {
   "cell_type": "markdown",
   "id": "b398f34e-5357-4f46-af83-ac815c4f0212",
   "metadata": {},
   "source": [
    "# split dataframe back up into parts for running\n",
    "## from complete_harmonised"
   ]
  },
  {
   "cell_type": "code",
   "execution_count": null,
   "id": "6a5bd8c7-4768-4a7f-9e57-9ab2c4748863",
   "metadata": {},
   "outputs": [],
   "source": [
    "mri_opn_harmonized = complete_harmonised[complete_harmonised['site'] == 2]\n",
    "mri_opn_harmonized = mri_opn_harmonized.drop(columns=['site', 'GMM',])\n",
    "#mri_opn_harmonized.head(3)"
   ]
  },
  {
   "cell_type": "code",
   "execution_count": null,
   "id": "53910801-b034-40d8-b9e7-7f5ea2cdd4e9",
   "metadata": {},
   "outputs": [],
   "source": [
    "top_opn_harmonized = complete_harmonised[complete_harmonised['site'] == 1]\n",
    "top_opn_harmonized = top_opn_harmonized.drop(columns=['site', 'GMM',])\n",
    "#top_opn_harmonized.head(3)"
   ]
  },
  {
   "cell_type": "code",
   "execution_count": null,
   "id": "62d43f52-b0e6-4c72-86f8-bf3aafc05b4b",
   "metadata": {},
   "outputs": [],
   "source": [
    "sabre_opn_harmonized = complete_harmonised[complete_harmonised['site'] == 3]\n",
    "sabre_opn_harmonized = sabre_opn_harmonized.drop(columns=['site', 'GMM',])\n",
    "#top_opn_harmonized.head(3)"
   ]
  },
  {
   "cell_type": "code",
   "execution_count": null,
   "id": "58207e99-f016-469d-ac2e-e87817f800e1",
   "metadata": {},
   "outputs": [],
   "source": [
    "top_opn_harmonized.to_csv('top_opn_harmonized.csv')\n",
    "mri_opn_harmonized.to_csv('mri_opn_harmonized.csv')\n",
    "sabre_opn_harmonized.to_csv('sabre_opn_harmonized.csv')"
   ]
  },
  {
   "cell_type": "code",
   "execution_count": null,
   "id": "623fc729-1ea5-4fac-913b-ff9c8c031b41",
   "metadata": {},
   "outputs": [],
   "source": [
    "#top_opn_harmonized"
   ]
  },
  {
   "cell_type": "code",
   "execution_count": null,
   "id": "4a62da5e-bb5b-4d6a-baf7-452ae02a7baf",
   "metadata": {},
   "outputs": [],
   "source": [
    "def visualize_harmonized(original_df_together, complete_harmonized, feature):\n",
    "    case_no_testing = dat_testing_input['participant_id']\n",
    "    complete_nonharmonised = pd.concat([caseno_testing, dat_testing_input], axis=1) \n",
    "    complete_nonharmonised = pd.concat([complete_nonharmonised, covars_testing_final], axis=1) \n",
    "    complete_nonharmonised['Harmonised'] = 'UH'\n",
    "    complete_harmonised_nonharmonised_merged = complete_harmonised.append(complete_nonharmonised)\n",
    "    complete_harmonised_nonharmonised_merged['Harmonised_sex'] = np.nan\n",
    "    complete_harmonised_nonharmonised_merged['Harmonised_sex'] = np.where((complete_harmonised_nonharmonised_merged['sex'] == 0) & (complete_harmonised_nonharmonised_merged['Harmonised'] == 'H'), 'H_Male', complete_harmonised_nonharmonised_merged['Harmonised_sex'])\n",
    "    complete_harmonised_nonharmonised_merged['Harmonised_sex'] = np.where((complete_harmonised_nonharmonised_merged['sex'] == 1) & (complete_harmonised_nonharmonised_merged['Harmonised'] == 'H'), 'H_Female', complete_harmonised_nonharmonised_merged['Harmonised_sex'])\n",
    "    complete_harmonised_nonharmonised_merged['Harmonised_sex'] = np.where((complete_harmonised_nonharmonised_merged['sex'] == 0) & (complete_harmonised_nonharmonised_merged['Harmonised'] == 'UH'), 'UH_Male', complete_harmonised_nonharmonised_merged['Harmonised_sex'])\n",
    "    complete_harmonised_nonharmonised_merged['Harmonised_sex'] = np.where((complete_harmonised_nonharmonised_merged['sex'] == 1) & (complete_harmonised_nonharmonised_merged['Harmonised'] == 'UH'), 'UH_Female', complete_harmonised_nonharmonised_merged['Harmonised_sex'])\n",
    "    complete_harmonised_nonharmonised_merged['Harmonisation'] = complete_harmonised_nonharmonised_merged['Harmonised']\n",
    "    y_axis = feature\n",
    "    viz_data = complete_harmonised_nonharmonised_merged\n",
    "    sns.set_style(\"whitegrid\")\n",
    "    sns.catplot(data = complete_harmonised_nonharmonised_merged, x = 'Harmonisation', y = y_axis, hue =\"sex\", \n",
    "    split=True, inner = 'quartile', kind = 'violin', \n",
    "    col = 'site', height = 5, aspect = 0.6)\n",
    "    plt.ylim((viz_data[y_axis].min(),viz_data[y_axis].max()))\n",
    "    plt.show()"
   ]
  },
  {
   "cell_type": "code",
   "execution_count": null,
   "id": "a5f4231e-bbb1-4833-9d18-b487bba7f0b2",
   "metadata": {},
   "outputs": [],
   "source": [
    "# visualisation prep\n",
    "complete_harmonised['Harmonised'] = 'H'\n",
    "complete_nonharmonised = pd.concat([caseno_testing, dat_testing_input], axis=1) \n",
    "complete_nonharmonised = pd.concat([complete_nonharmonised, covars_testing_final], axis=1) \n",
    "complete_nonharmonised['Harmonised'] = 'UH'\n",
    "complete_harmonised_nonharmonised_merged = complete_harmonised.append(complete_nonharmonised)"
   ]
  },
  {
   "cell_type": "code",
   "execution_count": null,
   "id": "4986f88e-e815-4fd5-86c4-7b3c97d91145",
   "metadata": {},
   "outputs": [],
   "source": [
    "complete_harmonised_nonharmonised_merged['Harmonised_sex'] = np.nan\n",
    "complete_harmonised_nonharmonised_merged['Harmonised_sex'] = np.where((complete_harmonised_nonharmonised_merged['sex'] == 0) & (complete_harmonised_nonharmonised_merged['Harmonised'] == 'H'), 'H_Male', complete_harmonised_nonharmonised_merged['Harmonised_sex'])\n",
    "complete_harmonised_nonharmonised_merged['Harmonised_sex'] = np.where((complete_harmonised_nonharmonised_merged['sex'] == 1) & (complete_harmonised_nonharmonised_merged['Harmonised'] == 'H'), 'H_Female', complete_harmonised_nonharmonised_merged['Harmonised_sex'])\n",
    "complete_harmonised_nonharmonised_merged['Harmonised_sex'] = np.where((complete_harmonised_nonharmonised_merged['sex'] == 0) & (complete_harmonised_nonharmonised_merged['Harmonised'] == 'UH'), 'UH_Male', complete_harmonised_nonharmonised_merged['Harmonised_sex'])\n",
    "complete_harmonised_nonharmonised_merged['Harmonised_sex'] = np.where((complete_harmonised_nonharmonised_merged['sex'] == 1) & (complete_harmonised_nonharmonised_merged['Harmonised'] == 'UH'), 'UH_Female', complete_harmonised_nonharmonised_merged['Harmonised_sex'])\n",
    "complete_harmonised_nonharmonised_merged['Harmonisation'] = complete_harmonised_nonharmonised_merged['Harmonised']\n"
   ]
  },
  {
   "cell_type": "code",
   "execution_count": null,
   "id": "911a87a0-09ef-44c3-809a-fb2fd7443c33",
   "metadata": {},
   "outputs": [],
   "source": [
    "features = widgets.Dropdown(\n",
    "    options=complete_harmonised_nonharmonised_merged.columns.tolist(),\n",
    "    value='gm_vol',\n",
    "    description='Feature',\n",
    "    disabled=False\n",
    ")\n",
    "features"
   ]
  },
  {
   "cell_type": "code",
   "execution_count": null,
   "id": "d12976e6-73b0-4734-b8d5-be2cc75e6c58",
   "metadata": {},
   "outputs": [],
   "source": [
    "feature =features.value\n",
    "y_axis = feature\n",
    "viz_data = complete_harmonised_nonharmonised_merged\n",
    "sns.set_style(\"whitegrid\")\n",
    "sns.catplot(data = complete_harmonised_nonharmonised_merged, x = 'Harmonisation', y = y_axis, hue =\"sex\", \n",
    "split=True, inner = 'quartile', kind = 'violin', \n",
    "col = 'site', height = 5, aspect = 0.6)\n",
    "plt.ylim((viz_data[y_axis].min(),viz_data[y_axis].max()))\n",
    "plt.show()"
   ]
  },
  {
   "cell_type": "code",
   "execution_count": null,
   "id": "f3ca26ca-1d5a-459d-8b3f-e5ea5a9f6b29",
   "metadata": {},
   "outputs": [],
   "source": []
  }
 ],
 "metadata": {
  "kernelspec": {
   "display_name": "Python 3 (ipykernel)",
   "language": "python",
   "name": "python3"
  },
  "language_info": {
   "codemirror_mode": {
    "name": "ipython",
    "version": 3
   },
   "file_extension": ".py",
   "mimetype": "text/x-python",
   "name": "python",
   "nbconvert_exporter": "python",
   "pygments_lexer": "ipython3",
   "version": "3.8.0"
  }
 },
 "nbformat": 4,
 "nbformat_minor": 5
}
