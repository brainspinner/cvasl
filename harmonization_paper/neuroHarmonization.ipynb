{
 "cells": [
  {
   "cell_type": "markdown",
   "id": "9997da3b-8443-4c79-ac52-af5736e26e13",
   "metadata": {},
   "source": [
    "This is a notebook to apply neuroHarmonize: a ComBat-GAM  non-linear allowing algorithm over our data to create neuroHarmonized datasets. It should be run in the `neurogam` environment."
   ]
  },
  {
   "cell_type": "code",
   "execution_count": null,
   "id": "03b5ca10-ae41-4ae2-9f28-452ee020fe9e",
   "metadata": {},
   "outputs": [],
   "source": [
    "import os\n",
    "from neuroHarmonize import harmonizationLearn\n",
    "import pandas as pd\n",
    "import numpy as np\n"
   ]
  },
  {
   "cell_type": "code",
   "execution_count": null,
   "id": "336d8879-a32c-403c-9ca3-7e396643d6ac",
   "metadata": {},
   "outputs": [],
   "source": [
    "filepath = '../open_work/internal_results/cleaned_pvc2s/' \n",
    "filename_mri = os.path.join(filepath,'StrokeMRI_pvc2c.csv') \n",
    "filename_top = os.path.join(filepath,'TOP_pvc2c.csv') \n",
    "filename_sabre = os.path.join(filepath,'SABRE_pvc2_cleaned.csv') \n",
    "filename_insight46 =  os.path.join(filepath,'Insight46_pvc2c.csv') "
   ]
  },
  {
   "cell_type": "code",
   "execution_count": null,
   "id": "38162ef2-bf66-455c-9291-56c00f34f9f5",
   "metadata": {
    "tags": []
   },
   "outputs": [],
   "source": [
    "# Now we must clean SABRE down to be like the other datasets, including dropping NAns\n",
    "MRI = pd.read_csv(filename_mri)\n",
    "TOP = pd.read_csv(filename_top)\n",
    "Insight46 = pd.read_csv(filename_insight46)\n",
    "\n",
    "SABRE =  pd.read_csv(filename_sabre)\n",
    "coly = TOP.columns\n",
    "# SABRE = SABRE[coly]\n",
    "# SABRE= SABRE.dropna()\n",
    "SABRE.tail(3)"
   ]
  },
  {
   "cell_type": "code",
   "execution_count": null,
   "id": "481d0bec-fe99-4fc3-9cb7-a6a04e906220",
   "metadata": {
    "tags": []
   },
   "outputs": [],
   "source": [
    "TOP['site'] = 0\n",
    "MRI['site'] = 1\n",
    "MRI.head(3)"
   ]
  },
  {
   "cell_type": "markdown",
   "id": "df0aefd6-b695-4c74-90f8-78910afe58a8",
   "metadata": {
    "tags": []
   },
   "source": [
    "# Here we will harmonize just TOP and StrokeMRI"
   ]
  },
  {
   "cell_type": "code",
   "execution_count": null,
   "id": "2053e1f0-d9dd-4595-8c98-b151f64c2549",
   "metadata": {
    "tags": []
   },
   "outputs": [],
   "source": [
    "TOPMRI = pd.concat([TOP, MRI])\n",
    "TOPMRI.head(3) "
   ]
  },
  {
   "cell_type": "code",
   "execution_count": null,
   "id": "d0bd5191-99bf-425a-bf14-5cb1bbdecf4c",
   "metadata": {
    "tags": []
   },
   "outputs": [],
   "source": [
    "sex_mapping = {'F':0,'M':1}\n",
    "TOPMRI = TOPMRI.assign(sex = TOPMRI.sex.map(sex_mapping))\n",
    "TOPMRI.head(2) "
   ]
  },
  {
   "cell_type": "code",
   "execution_count": null,
   "id": "4ce172d4-90dc-481a-83d2-890c6d1d99d1",
   "metadata": {},
   "outputs": [],
   "source": []
  },
  {
   "cell_type": "code",
   "execution_count": null,
   "id": "36ee3f92-6da1-4846-abd4-ad25b1c3c0d9",
   "metadata": {},
   "outputs": [],
   "source": [
    "TOPMRI.columns"
   ]
  },
  {
   "cell_type": "code",
   "execution_count": null,
   "id": "3db841b7-678c-4e09-af54-6270ddee4f54",
   "metadata": {},
   "outputs": [],
   "source": [
    "TOPMRI_features = TOPMRI[[ 'gm_vol', 'wm_vol',\n",
    "       'csf_vol', 'gm_ivc_ratio', 'gmwm_ivc_ratio', 'wmh_vol', 'wmh_count',\n",
    "       'deepwm_b_cov', 'aca_b_cov', 'mca_b_cov', 'pca_b_cov', 'totalgm_b_cov',\n",
    "       'deepwm_b', 'aca_b', 'mca_b', 'pca_b', 'totalgm_b',]]\n",
    "TOPMRI_covariates = TOPMRI[['age', 'sex','site']]\n",
    "TOPMRI_covariates = TOPMRI_covariates.rename(columns={'site': 'SITE'})\n",
    "TOPMRI_covariates"
   ]
  },
  {
   "cell_type": "code",
   "execution_count": null,
   "id": "74d86adc-95b7-47f4-892d-0280f3b6a3d1",
   "metadata": {},
   "outputs": [],
   "source": [
    "TOPMRI_covariates.reset_index()"
   ]
  },
  {
   "cell_type": "code",
   "execution_count": null,
   "id": "a2634ceb-7c82-41dc-b1a9-ec7ccc88a740",
   "metadata": {},
   "outputs": [],
   "source": [
    "TOPMRI_features_array = np.array(TOPMRI_features)\n",
    "TOPMRI_features_array\n"
   ]
  },
  {
   "cell_type": "code",
   "execution_count": null,
   "id": "dbc045fb-3b47-4d6c-a7c7-9996ea9eb844",
   "metadata": {},
   "outputs": [],
   "source": []
  },
  {
   "cell_type": "code",
   "execution_count": null,
   "id": "7153672b-9250-497b-b0f0-8c29f1ad6977",
   "metadata": {},
   "outputs": [],
   "source": [
    "# run harmonization and store the adjusted data\n",
    "my_model, my_data_adj = harmonizationLearn(TOPMRI_features_array, TOPMRI_covariates)"
   ]
  },
  {
   "cell_type": "code",
   "execution_count": null,
   "id": "44fcac73-3420-41e2-aa03-1c7225e8c8e8",
   "metadata": {},
   "outputs": [],
   "source": [
    "my_data_adj"
   ]
  },
  {
   "cell_type": "code",
   "execution_count": null,
   "id": "6148d845-0629-4b36-865e-e3379b05c63f",
   "metadata": {},
   "outputs": [],
   "source": [
    "neuroharmonized_topmri = pd.DataFrame(my_data_adj, columns = ['gm_vol', 'wm_vol',\n",
    "       'csf_vol', 'gm_ivc_ratio', 'gmwm_ivc_ratio', 'wmh_vol', 'wmh_count',\n",
    "       'deepwm_b_cov', 'aca_b_cov', 'mca_b_cov', 'pca_b_cov', 'totalgm_b_cov',\n",
    "       'deepwm_b', 'aca_b', 'mca_b', 'pca_b', 'totalgm_b'])"
   ]
  },
  {
   "cell_type": "code",
   "execution_count": null,
   "id": "d2de6062-94ad-4c7a-975b-4f31043d37dd",
   "metadata": {},
   "outputs": [],
   "source": []
  },
  {
   "cell_type": "code",
   "execution_count": null,
   "id": "e2252038-8b95-4e8c-b4fe-589afad8af96",
   "metadata": {},
   "outputs": [],
   "source": [
    "neuroharmonized_topmri =pd.concat([neuroharmonized_topmri, TOPMRI_covariates.reset_index() ], axis=1)\n",
    "neuroharmonized_topmri = neuroharmonized_topmri.drop('index', axis=1)"
   ]
  },
  {
   "cell_type": "code",
   "execution_count": null,
   "id": "d9871566-a5f2-4306-9ee8-a6b353c007b7",
   "metadata": {},
   "outputs": [],
   "source": [
    "neuroharmonized_topmri = pd.concat([neuroharmonized_topmri, TOPMRI.participant_id.reset_index()], axis=1)\n",
    "neuroharmonized_topmri = neuroharmonized_topmri.drop('index', axis=1)"
   ]
  },
  {
   "cell_type": "code",
   "execution_count": null,
   "id": "19b12217-e073-449e-aab7-e23a008fa441",
   "metadata": {},
   "outputs": [],
   "source": [
    "neuroharmonized_topmri"
   ]
  },
  {
   "cell_type": "code",
   "execution_count": null,
   "id": "fdc1e622-df63-4b6f-8c90-23768c6639c6",
   "metadata": {},
   "outputs": [],
   "source": []
  },
  {
   "cell_type": "code",
   "execution_count": null,
   "id": "f495ff5d-5a23-4f4f-8cfd-15f4688cd65b",
   "metadata": {},
   "outputs": [],
   "source": []
  }
 ],
 "metadata": {
  "kernelspec": {
   "display_name": "Python 3 (ipykernel)",
   "language": "python",
   "name": "python3"
  },
  "language_info": {
   "codemirror_mode": {
    "name": "ipython",
    "version": 3
   },
   "file_extension": ".py",
   "mimetype": "text/x-python",
   "name": "python",
   "nbconvert_exporter": "python",
   "pygments_lexer": "ipython3",
   "version": "3.11.7"
  }
 },
 "nbformat": 4,
 "nbformat_minor": 5
}
