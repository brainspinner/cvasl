{
 "cells": [
  {
   "cell_type": "markdown",
   "id": "fd86f536-129b-427b-a2fb-8744acdc1c14",
   "metadata": {},
   "source": [
    "# Neuroharmonize datasets"
   ]
  },
  {
   "cell_type": "markdown",
   "id": "9997da3b-8443-4c79-ac52-af5736e26e13",
   "metadata": {},
   "source": [
    "This is a notebook to apply neuroHarmonize: a ComBat-GAM  non-linear allowing algorithm over our data to create neuroHarmonized datasets. It should be run in the `neurogamy` environment."
   ]
  },
  {
   "cell_type": "code",
   "execution_count": null,
   "id": "03b5ca10-ae41-4ae2-9f28-452ee020fe9e",
   "metadata": {},
   "outputs": [],
   "source": [
    "import os\n",
    "from neuroHarmonize import harmonizationLearn\n",
    "import pandas as pd\n",
    "import numpy as np\n"
   ]
  },
  {
   "cell_type": "code",
   "execution_count": null,
   "id": "336d8879-a32c-403c-9ca3-7e396643d6ac",
   "metadata": {},
   "outputs": [],
   "source": [
    "filepath = '../open_work/internal_results/cleaned_pvc2s/' \n",
    "filename_mri = os.path.join(filepath,'StrokeMRI_pvc2c.csv') \n",
    "filename_top = os.path.join(filepath,'TOP_pvc2c.csv') \n",
    "filename_sabre = os.path.join(filepath,'SABRE_pvc2_cleaned.csv') \n",
    "filename_insight46 =  os.path.join(filepath,'Insight46_pvc2c.csv') "
   ]
  },
  {
   "cell_type": "code",
   "execution_count": null,
   "id": "38162ef2-bf66-455c-9291-56c00f34f9f5",
   "metadata": {
    "tags": []
   },
   "outputs": [],
   "source": [
    "# Now we must clean SABRE down to be like the other datasets, including dropping NAns\n",
    "MRI = pd.read_csv(filename_mri)\n",
    "TOP = pd.read_csv(filename_top)\n",
    "Insight46 = pd.read_csv(filename_insight46)\n",
    "SABRE =  pd.read_csv(filename_sabre)\n",
    "SABRE.tail(3)"
   ]
  },
  {
   "cell_type": "code",
   "execution_count": null,
   "id": "481d0bec-fe99-4fc3-9cb7-a6a04e906220",
   "metadata": {
    "tags": []
   },
   "outputs": [],
   "source": [
    "TOP['site'] = 0\n",
    "MRI['site'] = 1\n",
    "MRI.head(3)"
   ]
  },
  {
   "cell_type": "markdown",
   "id": "df0aefd6-b695-4c74-90f8-78910afe58a8",
   "metadata": {
    "tags": []
   },
   "source": [
    "# Here we will harmonize just TOP and StrokeMRI"
   ]
  },
  {
   "cell_type": "code",
   "execution_count": null,
   "id": "2053e1f0-d9dd-4595-8c98-b151f64c2549",
   "metadata": {
    "tags": []
   },
   "outputs": [],
   "source": [
    "TOPMRI = pd.concat([TOP, MRI])\n",
    "TOPMRI.head(3) "
   ]
  },
  {
   "cell_type": "code",
   "execution_count": null,
   "id": "d0bd5191-99bf-425a-bf14-5cb1bbdecf4c",
   "metadata": {
    "tags": []
   },
   "outputs": [],
   "source": [
    "sex_mapping = {'F':0,'M':1}\n",
    "TOPMRI = TOPMRI.assign(sex = TOPMRI.sex.map(sex_mapping))\n",
    "TOPMRI.head(2) "
   ]
  },
  {
   "cell_type": "code",
   "execution_count": null,
   "id": "36ee3f92-6da1-4846-abd4-ad25b1c3c0d9",
   "metadata": {},
   "outputs": [],
   "source": [
    "TOPMRI.columns"
   ]
  },
  {
   "cell_type": "code",
   "execution_count": null,
   "id": "3db841b7-678c-4e09-af54-6270ddee4f54",
   "metadata": {},
   "outputs": [],
   "source": [
    "TOPMRI_features = TOPMRI[[ \n",
    "    'gm_vol',\n",
    "    'wm_vol',\n",
    "    'csf_vol',\n",
    "    'gm_ivc_ratio',\n",
    "    'gmwm_ivc_ratio',\n",
    "    'wmh_vol',\n",
    "    'wmh_count',\n",
    "    'deepwm_b_cov',\n",
    "    'aca_b_cov',\n",
    "    'mca_b_cov',\n",
    "    'pca_b_cov',\n",
    "    'totalgm_b_cov',\n",
    "    'deepwm_b',\n",
    "    'aca_b',\n",
    "    'mca_b',\n",
    "    'pca_b',\n",
    "    'totalgm_b',\n",
    "]]\n",
    "TOPMRI_covariates = TOPMRI[['age', 'sex','site']]\n",
    "TOPMRI_covariates = TOPMRI_covariates.rename(columns={'site': 'SITE'})\n",
    "TOPMRI_covariates.head(3)"
   ]
  },
  {
   "cell_type": "code",
   "execution_count": null,
   "id": "74d86adc-95b7-47f4-892d-0280f3b6a3d1",
   "metadata": {},
   "outputs": [],
   "source": [
    "#TOPMRI_covariates.reset_index()"
   ]
  },
  {
   "cell_type": "code",
   "execution_count": null,
   "id": "a2634ceb-7c82-41dc-b1a9-ec7ccc88a740",
   "metadata": {},
   "outputs": [],
   "source": [
    "TOPMRI_features_array = np.array(TOPMRI_features)\n",
    "TOPMRI_features_array\n"
   ]
  },
  {
   "cell_type": "code",
   "execution_count": null,
   "id": "7153672b-9250-497b-b0f0-8c29f1ad6977",
   "metadata": {},
   "outputs": [],
   "source": [
    "# run harmonization and PUT the adjusted data into my_ad_data vaiable\n",
    "my_model, my_data_adj = harmonizationLearn(TOPMRI_features_array, TOPMRI_covariates)"
   ]
  },
  {
   "cell_type": "code",
   "execution_count": null,
   "id": "6148d845-0629-4b36-865e-e3379b05c63f",
   "metadata": {},
   "outputs": [],
   "source": [
    "# turn adjusted data into dataframe with column names, then add covariates, then participant IDs\n",
    "neuroharmonized_topmri = pd.DataFrame(\n",
    "    my_data_adj, \n",
    "    columns = ['gm_vol', 'wm_vol',\n",
    "       'csf_vol', 'gm_ivc_ratio', 'gmwm_ivc_ratio', 'wmh_vol', 'wmh_count',\n",
    "       'deepwm_b_cov', 'aca_b_cov', 'mca_b_cov', 'pca_b_cov', 'totalgm_b_cov',\n",
    "       'deepwm_b', 'aca_b', 'mca_b', 'pca_b', 'totalgm_b']\n",
    ")\n",
    "neuroharmonized_topmri =pd.concat([neuroharmonized_topmri, TOPMRI_covariates.reset_index()], axis=1)\n",
    "neuroharmonized_topmri = neuroharmonized_topmri.drop('index', axis=1)\n",
    "neuroharmonized_topmri = pd.concat([neuroharmonized_topmri, TOPMRI.participant_id.reset_index()], axis=1)\n",
    "neuroharmonized_topmri = neuroharmonized_topmri.drop('index', axis=1)\n",
    "neuroharmonized_topmri.head(3)"
   ]
  },
  {
   "cell_type": "code",
   "execution_count": null,
   "id": "e2252038-8b95-4e8c-b4fe-589afad8af96",
   "metadata": {},
   "outputs": [],
   "source": [
    "# create adjusted csvs\n",
    "top_neuroharm_to_stroke = neuroharmonized_topmri[neuroharmonized_topmri.SITE == 0]\n",
    "stroke_neuroharm_to_top = neuroharmonized_topmri[neuroharmonized_topmri.SITE == 1] "
   ]
  },
  {
   "cell_type": "code",
   "execution_count": null,
   "id": "f44f1ec5-3d22-4846-bb1f-f8365ae2ad22",
   "metadata": {},
   "outputs": [],
   "source": [
    "TOP.head(3)"
   ]
  },
  {
   "cell_type": "code",
   "execution_count": null,
   "id": "d9871566-a5f2-4306-9ee8-a6b353c007b7",
   "metadata": {},
   "outputs": [],
   "source": [
    "# reorganize to familair pattern\n",
    "column_to_move1 = stroke_neuroharm_to_top.pop(\"participant_id\")\n",
    "column_to_move2 = stroke_neuroharm_to_top.pop(\"age\")\n",
    "column_to_move3 = stroke_neuroharm_to_top.pop(\"sex\")\n",
    "tcolumn_to_move1 = top_neuroharm_to_stroke.pop(\"participant_id\")\n",
    "tcolumn_to_move2 = top_neuroharm_to_stroke.pop(\"age\")\n",
    "tcolumn_to_move3 = top_neuroharm_to_stroke.pop(\"sex\")\n",
    "stroke_neuroharm_to_top.insert(0, \"participant_id\", column_to_move1)\n",
    "stroke_neuroharm_to_top.insert(1, \"age\", column_to_move2)\n",
    "stroke_neuroharm_to_top.insert(2, \"sex\", column_to_move3)\n",
    "top_neuroharm_to_stroke.insert(0, \"participant_id\", tcolumn_to_move1)\n",
    "top_neuroharm_to_stroke.insert(1, \"age\", tcolumn_to_move2)\n",
    "top_neuroharm_to_stroke.insert(2, \"sex\", tcolumn_to_move3)"
   ]
  },
  {
   "cell_type": "code",
   "execution_count": null,
   "id": "c4c140b9-422f-4e4e-a45c-191035dec2a1",
   "metadata": {},
   "outputs": [],
   "source": [
    "top_neuroharm_to_stroke = top_neuroharm_to_stroke.drop('SITE', axis=1)\n",
    "stroke_neuroharm_to_top = stroke_neuroharm_to_top.drop('SITE', axis=1)\n",
    "stroke_neuroharm_to_top.columns"
   ]
  },
  {
   "cell_type": "code",
   "execution_count": null,
   "id": "19b12217-e073-449e-aab7-e23a008fa441",
   "metadata": {},
   "outputs": [],
   "source": [
    "top_neuroharm_to_stroke.to_csv('../open_work/internal_results/neurocharm/top_neuroharm_to_stroke.csv')\n",
    "stroke_neuroharm_to_top.to_csv('../open_work/internal_results/neurocharm/stroke_neuroharm_to_top.csv')"
   ]
  },
  {
   "cell_type": "markdown",
   "id": "8da1e854-0fc4-4216-a32b-3329a642eff3",
   "metadata": {},
   "source": [
    "# Now we join top and StrokeMRI to one dataset and harmonize to other datasets individually"
   ]
  },
  {
   "cell_type": "code",
   "execution_count": null,
   "id": "e19f53dc-a041-4b23-9ef0-69212008f6d1",
   "metadata": {},
   "outputs": [],
   "source": [
    "unified_TOPMRI = TOPMRI.copy(deep=True)\n",
    "unified_TOPMRI = unified_TOPMRI.reset_index()\n",
    "unified_TOPMRI['site'] = 0\n",
    "unified_TOPMRI= unified_TOPMRI.drop('index', axis=1)\n",
    "unified_TOPMRI= unified_TOPMRI.drop('Unnamed: 0', axis=1)"
   ]
  },
  {
   "cell_type": "code",
   "execution_count": null,
   "id": "6a6ee293-a097-4f14-b616-b6c7056b6022",
   "metadata": {},
   "outputs": [],
   "source": [
    "SABRE = SABRE.drop('Unnamed: 0', axis=1)\n",
    "SABRE = SABRE.assign(sex = SABRE.sex.map(sex_mapping))\n",
    "SABRE['site'] = 2\n",
    "SABRE.head(2) "
   ]
  },
  {
   "cell_type": "code",
   "execution_count": null,
   "id": "07415423-41a2-4842-ae58-099ad6d75107",
   "metadata": {},
   "outputs": [],
   "source": [
    "TOPMRIvsSABRE= pd.concat([unified_TOPMRI, SABRE])\n",
    "TOPMRIvsSABRE = TOPMRIvsSABRE.reset_index()"
   ]
  },
  {
   "cell_type": "code",
   "execution_count": null,
   "id": "eb34ccca-f591-4dd8-afd6-8e206c8534e8",
   "metadata": {},
   "outputs": [],
   "source": [
    "TOPMRIvsSABRE_covariates = TOPMRIvsSABRE[['age', 'sex','site']]\n",
    "TOPMRIvsSABRE_covariates = TOPMRIvsSABRE_covariates.rename(columns={'site': 'SITE'})\n",
    "TOPMRIvsSABRE_covariates.head(3)"
   ]
  },
  {
   "cell_type": "code",
   "execution_count": null,
   "id": "3e4a287e-adfd-461c-b5b8-4a4c4ea24783",
   "metadata": {},
   "outputs": [],
   "source": [
    " TOPMRIvsSABRE_features = TOPMRIvsSABRE[[ \n",
    "     'gm_vol',\n",
    "     'wm_vol',\n",
    "     'csf_vol',\n",
    "     'gm_ivc_ratio',\n",
    "     'gmwm_ivc_ratio',\n",
    "     'wmh_vol',\n",
    "     'wmh_count',\n",
    "     'deepwm_b_cov',\n",
    "     'aca_b_cov',\n",
    "     'mca_b_cov',\n",
    "     'pca_b_cov',\n",
    "     'totalgm_b_cov',\n",
    "     'deepwm_b',\n",
    "     'aca_b',\n",
    "     'mca_b',\n",
    "     'pca_b',\n",
    "     'totalgm_b',\n",
    "]]\n",
    "TOPMRIvsSABRE_features_array = np.array(TOPMRIvsSABRE_features)"
   ]
  },
  {
   "cell_type": "code",
   "execution_count": null,
   "id": "2d6adf91-903c-4b3e-a2ba-5f0cc35c876e",
   "metadata": {},
   "outputs": [],
   "source": [
    "my_model2, my_data_adj2 = harmonizationLearn(TOPMRIvsSABRE_features_array, TOPMRIvsSABRE_covariates)"
   ]
  },
  {
   "cell_type": "code",
   "execution_count": null,
   "id": "442c2a44-7f7e-4629-aeee-1c191a1e8e52",
   "metadata": {},
   "outputs": [],
   "source": [
    "my_data_adj2"
   ]
  },
  {
   "cell_type": "code",
   "execution_count": null,
   "id": "d95ef251-3db6-40ac-bbb6-3e1b662166a6",
   "metadata": {},
   "outputs": [],
   "source": [
    "# turn adjusted data into dataframe with column names, then add covariates, then participant IDs\n",
    "neuroharmonized_topmrivsabre = pd.DataFrame(\n",
    "    my_data_adj2, \n",
    "    columns = ['gm_vol', 'wm_vol',\n",
    "       'csf_vol', 'gm_ivc_ratio', 'gmwm_ivc_ratio', 'wmh_vol', 'wmh_count',\n",
    "       'deepwm_b_cov', 'aca_b_cov', 'mca_b_cov', 'pca_b_cov', 'totalgm_b_cov',\n",
    "       'deepwm_b', 'aca_b', 'mca_b', 'pca_b', 'totalgm_b']\n",
    ")\n",
    "neuroharmonized_topmrivsabre =pd.concat([neuroharmonized_topmrivsabre, TOPMRIvsSABRE_covariates.reset_index()], axis=1)\n",
    "neuroharmonized_topmrivsabre = neuroharmonized_topmrivsabre.drop('index', axis=1)\n",
    "neuroharmonized_topmrivsabre = pd.concat([neuroharmonized_topmrivsabre, TOPMRIvsSABRE.participant_id.reset_index()], axis=1)\n",
    "neuroharmonized_topmrivsabre = neuroharmonized_topmrivsabre.drop('index', axis=1)\n",
    "neuroharmonized_topmrivsabre.head(3)"
   ]
  },
  {
   "cell_type": "code",
   "execution_count": null,
   "id": "0498e9e8-6ae4-4aa2-9991-1567e24659e6",
   "metadata": {},
   "outputs": [],
   "source": [
    "# reorganize to familair pattern\n",
    "column_to_move1 = neuroharmonized_topmrivsabre.pop(\"participant_id\")\n",
    "column_to_move2 = neuroharmonized_topmrivsabre.pop(\"age\")\n",
    "column_to_move3 = neuroharmonized_topmrivsabre.pop(\"sex\")\n",
    "neuroharmonized_topmrivsabre.insert(0, \"participant_id\", column_to_move1)\n",
    "neuroharmonized_topmrivsabre.insert(1, \"age\", column_to_move2)\n",
    "neuroharmonized_topmrivsabre.insert(2, \"sex\", column_to_move3)"
   ]
  },
  {
   "cell_type": "code",
   "execution_count": null,
   "id": "95aecced-a954-491e-ba25-1378c8244fc4",
   "metadata": {},
   "outputs": [],
   "source": [
    "# create adjusted csvs\n",
    "sabre_vs_topmri_only = neuroharmonized_topmrivsabre[neuroharmonized_topmrivsabre.SITE == 2]\n",
    "topmri_vs_sabre_only = neuroharmonized_topmrivsabre[neuroharmonized_topmrivsabre.SITE == 0] "
   ]
  },
  {
   "cell_type": "code",
   "execution_count": null,
   "id": "13134cd6-3f44-4b74-bf0d-b444cbf3895b",
   "metadata": {},
   "outputs": [],
   "source": [
    "#topmri_vs_sabre_only"
   ]
  },
  {
   "cell_type": "code",
   "execution_count": null,
   "id": "c569dd7f-9fde-4d2f-bc03-204ab04bfa6a",
   "metadata": {},
   "outputs": [],
   "source": [
    "sabre_vs_topmri_only = sabre_vs_topmri_only.drop('SITE', axis=1)\n",
    "topmri_vs_sabre_only  = topmri_vs_sabre_only .drop('SITE', axis=1)\n",
    "#topmri_vs_sabre_only.columns"
   ]
  },
  {
   "cell_type": "code",
   "execution_count": null,
   "id": "057c54f5-e3d0-4833-a879-72dfc1cdba6f",
   "metadata": {},
   "outputs": [],
   "source": [
    "sabre_vs_topmri_only.to_csv('../open_work/internal_results/neurocharm/sabre_vs_topmri_only.csv') \n",
    "topmri_vs_sabre_only.to_csv('../open_work/internal_results/neurocharm/topmri_vs_sabre_only.csv') "
   ]
  },
  {
   "cell_type": "code",
   "execution_count": null,
   "id": "7f6a9a4d-4764-4c4e-88ed-29c30859bf4b",
   "metadata": {},
   "outputs": [],
   "source": [
    "Insight46 = Insight46.drop('Unnamed: 0', axis=1)\n",
    "Insight46 = Insight46.assign(sex = Insight46.sex.map(sex_mapping))\n",
    "Insight46['site'] = 3\n",
    "Insight46.head(2) "
   ]
  },
  {
   "cell_type": "code",
   "execution_count": null,
   "id": "792eb16d-8c02-4d06-a154-cf1631bf9f4b",
   "metadata": {},
   "outputs": [],
   "source": [
    "TOPMRIvsInsight46= pd.concat([unified_TOPMRI, Insight46])\n",
    "TOPMRIvsInsight46 = TOPMRIvsInsight46.reset_index()"
   ]
  },
  {
   "cell_type": "code",
   "execution_count": null,
   "id": "6d529fad-0615-4f8a-af5d-0592926bcaed",
   "metadata": {},
   "outputs": [],
   "source": [
    "TOPMRIvsInsight_covariates = TOPMRIvsInsight46[['age', 'sex','site']]\n",
    "TOPMRIvsInsight_covariates = TOPMRIvsInsight_covariates .rename(columns={'site': 'SITE'})\n",
    "TOPMRIvsInsight_covariates.head(3)"
   ]
  },
  {
   "cell_type": "code",
   "execution_count": null,
   "id": "5cbe2bcd-b891-47ff-b6c8-3ed30d50a0c3",
   "metadata": {},
   "outputs": [],
   "source": [
    " TOPMRIvsInsight_features = TOPMRIvsInsight46[[ \n",
    "     'gm_vol',\n",
    "     'wm_vol',\n",
    "     'csf_vol',\n",
    "     'gm_ivc_ratio',\n",
    "     'gmwm_ivc_ratio',\n",
    "     'wmh_vol',\n",
    "     'wmh_count',\n",
    "     'deepwm_b_cov',\n",
    "     'aca_b_cov',\n",
    "     'mca_b_cov',\n",
    "     'pca_b_cov',\n",
    "     'totalgm_b_cov',\n",
    "     'deepwm_b',\n",
    "     'aca_b',\n",
    "     'mca_b',\n",
    "     'pca_b',\n",
    "     'totalgm_b',\n",
    "]]\n",
    "TOPMRIvsInsight_features_array = np.array(TOPMRIvsInsight_features)"
   ]
  },
  {
   "cell_type": "code",
   "execution_count": null,
   "id": "c137bb28-481e-457b-88be-7d238ccff30e",
   "metadata": {},
   "outputs": [],
   "source": [
    "my_model3, my_data_adj3 = harmonizationLearn(TOPMRIvsInsight_features_array, TOPMRIvsInsight_covariates)"
   ]
  },
  {
   "cell_type": "code",
   "execution_count": null,
   "id": "5f86de32-d9e6-4dcb-b18f-cd94ba32ab4d",
   "metadata": {},
   "outputs": [],
   "source": [
    "my_data_adj3"
   ]
  },
  {
   "cell_type": "code",
   "execution_count": null,
   "id": "3e1917de-4fb8-4ced-bf19-496863c74aab",
   "metadata": {},
   "outputs": [],
   "source": [
    "# turn adjusted data into dataframe with column names, then add covariates, then participant IDs\n",
    "neuroharmonized_topmrivinsight = pd.DataFrame(\n",
    "    my_data_adj3, \n",
    "    columns = ['gm_vol', 'wm_vol',\n",
    "       'csf_vol', 'gm_ivc_ratio', 'gmwm_ivc_ratio', 'wmh_vol', 'wmh_count',\n",
    "       'deepwm_b_cov', 'aca_b_cov', 'mca_b_cov', 'pca_b_cov', 'totalgm_b_cov',\n",
    "       'deepwm_b', 'aca_b', 'mca_b', 'pca_b', 'totalgm_b']\n",
    ")\n",
    "neuroharmonized_topmrivinsight = pd.concat([neuroharmonized_topmrivinsight, TOPMRIvsInsight_covariates.reset_index()], axis=1)\n",
    "neuroharmonized_topmrivinsight = neuroharmonized_topmrivinsight.drop('index', axis=1)\n",
    "neuroharmonized_topmrivinsight = pd.concat([neuroharmonized_topmrivinsight, TOPMRIvsInsight46.participant_id.reset_index()], axis=1)\n",
    "neuroharmonized_topmrivinsight = neuroharmonized_topmrivinsight.drop('index', axis=1)\n",
    "neuroharmonized_topmrivinsight.head(3)"
   ]
  },
  {
   "cell_type": "code",
   "execution_count": null,
   "id": "a9ca3cda-f8b5-4a81-81cf-9faa8f3460ef",
   "metadata": {
    "tags": []
   },
   "outputs": [],
   "source": [
    "#neuroharmonized_topmrivinsight"
   ]
  },
  {
   "cell_type": "code",
   "execution_count": null,
   "id": "c1870a1a-f49e-434f-bf62-0542e0e4f0b7",
   "metadata": {},
   "outputs": [],
   "source": [
    "# reorganize to familair pattern\n",
    "column_to_move1 = neuroharmonized_topmrivinsight.pop(\"participant_id\")\n",
    "column_to_move2 = neuroharmonized_topmrivinsight.pop(\"age\")\n",
    "column_to_move3 = neuroharmonized_topmrivinsight.pop(\"sex\")\n",
    "neuroharmonized_topmrivinsight.insert(0, \"participant_id\", column_to_move1)\n",
    "neuroharmonized_topmrivinsight.insert(1, \"age\", column_to_move2)\n",
    "neuroharmonized_topmrivinsight.insert(2, \"sex\", column_to_move3)"
   ]
  },
  {
   "cell_type": "code",
   "execution_count": null,
   "id": "1e75554a-4108-481c-ac85-882be23af348",
   "metadata": {},
   "outputs": [],
   "source": [
    "# create adjusted csvs\n",
    "insight_vs_topmri_only = neuroharmonized_topmrivinsight[neuroharmonized_topmrivinsight.SITE == 3]\n",
    "topmri_vs_insight_only = neuroharmonized_topmrivinsight[neuroharmonized_topmrivinsight.SITE == 0] "
   ]
  },
  {
   "cell_type": "code",
   "execution_count": null,
   "id": "e22bab6f-04f9-4220-bd31-6002a8b02c4e",
   "metadata": {},
   "outputs": [],
   "source": [
    "insight_vs_topmri_only  = insight_vs_topmri_only.drop('SITE', axis=1)\n",
    "topmri_vs_insight_only  = topmri_vs_insight_only.drop('SITE', axis=1)\n"
   ]
  },
  {
   "cell_type": "code",
   "execution_count": null,
   "id": "e2731a7b-7529-4224-a20c-97f40f63e8fd",
   "metadata": {
    "tags": []
   },
   "outputs": [],
   "source": [
    "#insight_vs_topmri_only"
   ]
  },
  {
   "cell_type": "code",
   "execution_count": null,
   "id": "2db39b00-b917-4b3b-8645-ab8b3cbce064",
   "metadata": {},
   "outputs": [],
   "source": [
    "insight_vs_topmri_only.to_csv('../open_work/internal_results/neurocharm/insight_vs_topmri_only.csv') \n",
    "topmri_vs_insight_only.to_csv('../open_work/internal_results/neurocharm/topmri_vs_insight_only.csv') "
   ]
  },
  {
   "cell_type": "markdown",
   "id": "f133e172-8d2e-40a0-be25-fd93457a6b17",
   "metadata": {},
   "source": [
    "# Now we will do three way harmonization- TOPMRI vs. SAbre vs. Insigh46"
   ]
  },
  {
   "cell_type": "code",
   "execution_count": null,
   "id": "f2b2659c-7d68-4d4c-839f-b455762a66c3",
   "metadata": {},
   "outputs": [],
   "source": [
    "TOPMRIvsSABRvsInisght = pd.concat([unified_TOPMRI, SABRE, Insight46])\n",
    "TOPMRIvsSABRvsInisght = TOPMRIvsSABRvsInisght.reset_index()"
   ]
  },
  {
   "cell_type": "code",
   "execution_count": null,
   "id": "cb4e0373-c448-4247-90e9-99c3e4c408f6",
   "metadata": {},
   "outputs": [],
   "source": [
    "TOPMRIvsSABRvsInisght_covariates = TOPMRIvsSABRvsInisght[['age', 'sex','site']]\n",
    "TOPMRIvsSABRvsInisght_covariates = TOPMRIvsSABRvsInisght_covariates.rename(columns={'site': 'SITE'})\n",
    "TOPMRIvsSABRvsInisght_covariates.head(3)"
   ]
  },
  {
   "cell_type": "code",
   "execution_count": null,
   "id": "24a2408a-a610-4405-b95e-43e21fb27524",
   "metadata": {},
   "outputs": [],
   "source": [
    "TOPMRIvsSABRvsInisght_features = TOPMRIvsSABRvsInisght[[ \n",
    "     'gm_vol',\n",
    "     'wm_vol',\n",
    "     'csf_vol',\n",
    "     'gm_ivc_ratio',\n",
    "     'gmwm_ivc_ratio',\n",
    "     'wmh_vol',\n",
    "     'wmh_count',\n",
    "     'deepwm_b_cov',\n",
    "     'aca_b_cov',\n",
    "     'mca_b_cov',\n",
    "     'pca_b_cov',\n",
    "     'totalgm_b_cov',\n",
    "     'deepwm_b',\n",
    "     'aca_b',\n",
    "     'mca_b',\n",
    "     'pca_b',\n",
    "     'totalgm_b',\n",
    "]]\n",
    "TOPMRIvsSABRvsInisght_features_array = np.array(TOPMRIvsSABRvsInisght_features)"
   ]
  },
  {
   "cell_type": "code",
   "execution_count": null,
   "id": "af032a97-a583-446d-9b0c-3d376637a2c0",
   "metadata": {},
   "outputs": [],
   "source": [
    "my_model4, my_data_adj4 = harmonizationLearn(TOPMRIvsSABRvsInisght_features_array, TOPMRIvsSABRvsInisght_covariates)"
   ]
  },
  {
   "cell_type": "code",
   "execution_count": null,
   "id": "d0d9e69a-3728-4415-8b5e-4661a11b8b55",
   "metadata": {},
   "outputs": [],
   "source": [
    "my_data_adj4"
   ]
  },
  {
   "cell_type": "code",
   "execution_count": null,
   "id": "9f644770-cc6c-4d15-982d-d9e97ae087c8",
   "metadata": {},
   "outputs": [],
   "source": [
    "# turn adjusted data into dataframe with column names, then add covariates, then participant IDs\n",
    "neuroharmonized_topmrivsabrevinsight = pd.DataFrame(\n",
    "    my_data_adj4, \n",
    "    columns = ['gm_vol', 'wm_vol',\n",
    "       'csf_vol', 'gm_ivc_ratio', 'gmwm_ivc_ratio', 'wmh_vol', 'wmh_count',\n",
    "       'deepwm_b_cov', 'aca_b_cov', 'mca_b_cov', 'pca_b_cov', 'totalgm_b_cov',\n",
    "       'deepwm_b', 'aca_b', 'mca_b', 'pca_b', 'totalgm_b']\n",
    ")\n",
    "neuroharmonized_topmrivsabrevinsight =pd.concat([neuroharmonized_topmrivsabrevinsight, TOPMRIvsSABRvsInisght_covariates .reset_index()], axis=1)\n",
    "neuroharmonized_topmrivsabrevinsight = neuroharmonized_topmrivsabrevinsight.drop('index', axis=1)\n",
    "neuroharmonized_topmrivsabrevinsight = pd.concat([neuroharmonized_topmrivsabrevinsight, TOPMRIvsSABRvsInisght.participant_id.reset_index()], axis=1)\n",
    "neuroharmonized_topmrivsabrevinsight = neuroharmonized_topmrivsabrevinsight.drop('index', axis=1)\n",
    "neuroharmonized_topmrivsabrevinsight.head(3)"
   ]
  },
  {
   "cell_type": "code",
   "execution_count": null,
   "id": "02c6e2b9-fcd4-42ad-ab13-e3c4420f4d38",
   "metadata": {},
   "outputs": [],
   "source": [
    "# reorganize to familair pattern\n",
    "column_to_move1 = neuroharmonized_topmrivsabrevinsight.pop(\"participant_id\")\n",
    "column_to_move2 = neuroharmonized_topmrivsabrevinsight.pop(\"age\")\n",
    "column_to_move3 = neuroharmonized_topmrivsabrevinsight.pop(\"sex\")\n",
    "neuroharmonized_topmrivsabrevinsight.insert(0, \"participant_id\", column_to_move1)\n",
    "neuroharmonized_topmrivsabrevinsight.insert(1, \"age\", column_to_move2)\n",
    "neuroharmonized_topmrivsabrevinsight.insert(2, \"sex\", column_to_move3)"
   ]
  },
  {
   "cell_type": "code",
   "execution_count": null,
   "id": "31b3a188-354a-4476-bacb-34ca41064f27",
   "metadata": {},
   "outputs": [],
   "source": [
    "# create adjusted csvs\n",
    "insight_vs_topmri_3way = neuroharmonized_topmrivsabrevinsight[neuroharmonized_topmrivsabrevinsight.SITE == 3]\n",
    "sabre_vs_topmri_3way = neuroharmonized_topmrivsabrevinsight[neuroharmonized_topmrivsabrevinsight.SITE == 2]\n",
    "topmri_vs_sabre_3way = neuroharmonized_topmrivsabrevinsight[neuroharmonized_topmrivsabrevinsight.SITE == 0] "
   ]
  },
  {
   "cell_type": "code",
   "execution_count": null,
   "id": "213f2569-6de5-4c35-9ba9-2aeb5c848336",
   "metadata": {},
   "outputs": [],
   "source": [
    "insight_vs_topmri_3way = insight_vs_topmri_3way.drop('SITE', axis=1)\n",
    "sabre_vs_topmri_3way = sabre_vs_topmri_3way.drop('SITE', axis=1) \n",
    "topmri_vs_sabre_3way = topmri_vs_sabre_3way.drop('SITE', axis=1)  "
   ]
  },
  {
   "cell_type": "code",
   "execution_count": null,
   "id": "92bf067a-737a-468c-a4c1-6009ea2b464f",
   "metadata": {},
   "outputs": [],
   "source": [
    "#insight_vs_topmri_3way "
   ]
  },
  {
   "cell_type": "code",
   "execution_count": null,
   "id": "79baaf72-e5a1-43e8-b07a-a34e7e2e34c5",
   "metadata": {},
   "outputs": [],
   "source": [
    "insight_vs_topmri_3way.to_csv('../open_work/internal_results/neurocharm/insight_vs_topmri_3way.csv')\n",
    "sabre_vs_topmri_3way.to_csv(  '../open_work/internal_results/neurocharm/sabre_vs_topmri_3way.csv')\n",
    "topmri_vs_sabre_3way.to_csv(  '../open_work/internal_results/neurocharm/topmri_vs_sabre_3way.csv')"
   ]
  },
  {
   "cell_type": "code",
   "execution_count": null,
   "id": "9ccc97fb-d0f4-435b-8ef1-9f1d6826c350",
   "metadata": {},
   "outputs": [],
   "source": []
  }
 ],
 "metadata": {
  "kernelspec": {
   "display_name": "Python 3 (ipykernel)",
   "language": "python",
   "name": "python3"
  },
  "language_info": {
   "codemirror_mode": {
    "name": "ipython",
    "version": 3
   },
   "file_extension": ".py",
   "mimetype": "text/x-python",
   "name": "python",
   "nbconvert_exporter": "python",
   "pygments_lexer": "ipython3",
   "version": "3.12.1"
  }
 },
 "nbformat": 4,
 "nbformat_minor": 5
}
