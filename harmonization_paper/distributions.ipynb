{
 "cells": [
  {
   "cell_type": "markdown",
   "id": "0",
   "metadata": {},
   "source": [
    "# This notebook examines the cleanded TOP and MRI datasets and makes alternative distributions"
   ]
  },
  {
   "cell_type": "markdown",
   "id": "1",
   "metadata": {},
   "source": [
    "Note this must be run in the normal 'mrilanding' environment"
   ]
  },
  {
   "cell_type": "markdown",
   "id": "2",
   "metadata": {},
   "source": [
    "## import libraries and data"
   ]
  },
  {
   "cell_type": "code",
   "execution_count": null,
   "id": "3",
   "metadata": {},
   "outputs": [],
   "source": [
    "import os \n",
    "import pandas as pd\n",
    "import numpy as np"
   ]
  },
  {
   "cell_type": "code",
   "execution_count": null,
   "id": "4",
   "metadata": {},
   "outputs": [],
   "source": [
    "import matplotlib.pyplot as plt"
   ]
  },
  {
   "cell_type": "code",
   "execution_count": null,
   "id": "5",
   "metadata": {
    "tags": []
   },
   "outputs": [],
   "source": [
    "filepath_mri = '../open_work/internal_results/cleaned_pvc2s/' \n",
    "filename_mri = os.path.join(filepath_mri,'StrokeMRI_pvc2c.csv') \n",
    "stroke_mri = pd.read_csv(filename_mri )\n",
    "filepath_top = '../open_work/internal_results/cleaned_pvc2s/' \n",
    "filename_top = os.path.join(filepath_top,'TOP_pvc2c.csv') \n",
    "top = pd.read_csv(filename_top)"
   ]
  },
  {
   "cell_type": "markdown",
   "id": "6",
   "metadata": {},
   "source": [
    "## Let's see the distributions"
   ]
  },
  {
   "cell_type": "code",
   "execution_count": null,
   "id": "7",
   "metadata": {},
   "outputs": [],
   "source": [
    "top.describe()"
   ]
  },
  {
   "cell_type": "code",
   "execution_count": null,
   "id": "8",
   "metadata": {
    "tags": []
   },
   "outputs": [],
   "source": [
    "stroke_mri.describe()"
   ]
  },
  {
   "cell_type": "code",
   "execution_count": null,
   "id": "9",
   "metadata": {},
   "outputs": [],
   "source": [
    "numeric_columns = [\n",
    "    'age',\n",
    "    'gm_vol',\n",
    "    'wm_vol',\n",
    "    'csf_vol',\n",
    "    'gm_ivc_ratio',\n",
    "    'gmwm_ivc_ratio',\n",
    "    'wmh_vol',\n",
    "    'wmh_count',\n",
    "    'deepwm_b_cov',\n",
    "    'aca_b_cov',\n",
    "    'mca_b_cov',\n",
    "    'pca_b_cov',\n",
    "    'totalgm_b_cov',\n",
    "    'deepwm_b', \n",
    "    'aca_b', \n",
    "    'mca_b', \n",
    "    'pca_b', \n",
    "    'totalgm_b', \n",
    "]"
   ]
  },
  {
   "cell_type": "code",
   "execution_count": null,
   "id": "10",
   "metadata": {
    "tags": []
   },
   "outputs": [],
   "source": [
    "# does anything have a negative number or zero in stroke mri?\n",
    "(stroke_mri[numeric_columns] < 0).sum().sum() + (stroke_mri[numeric_columns] == 0).sum().sum()"
   ]
  },
  {
   "cell_type": "code",
   "execution_count": null,
   "id": "11",
   "metadata": {
    "tags": []
   },
   "outputs": [],
   "source": [
    "# does anything have a negative number or zero in top?\n",
    "(top[numeric_columns] < 0).sum().sum() + (top[numeric_columns] == 0).sum().sum()"
   ]
  },
  {
   "cell_type": "code",
   "execution_count": null,
   "id": "12",
   "metadata": {},
   "outputs": [],
   "source": [
    "fig, axis = plt.subplots(len(numeric_columns), 1, figsize=(7,15))\n",
    "fig.tight_layout()\n",
    "fig.suptitle('TOP distributions ', fontsize=20)\n",
    "top[numeric_columns].hist(ax = axis, color='orange', alpha=0.8,)"
   ]
  },
  {
   "cell_type": "code",
   "execution_count": null,
   "id": "13",
   "metadata": {
    "tags": []
   },
   "outputs": [],
   "source": [
    "fig, axis = plt.subplots(len(numeric_columns), 1, figsize=(7,15))\n",
    "fig.tight_layout()\n",
    "fig.suptitle('StrokeMRI distributions ', fontsize=20)\n",
    "stroke_mri[numeric_columns].hist(ax = axis, alpha=0.8)"
   ]
  },
  {
   "cell_type": "code",
   "execution_count": null,
   "id": "14",
   "metadata": {},
   "outputs": [],
   "source": []
  },
  {
   "cell_type": "code",
   "execution_count": null,
   "id": "15",
   "metadata": {
    "tags": []
   },
   "outputs": [],
   "source": [
    "fig, axis = plt.subplots(len(numeric_columns), 1, figsize=(7,15))\n",
    "fig.tight_layout()\n",
    "fig.suptitle('both distributions ', fontsize=20)\n",
    "top[numeric_columns].hist(ax = axis, color='orange', alpha=0.6,)\n",
    "stroke_mri[numeric_columns].hist(ax = axis, color='blue', alpha=0.6,)"
   ]
  },
  {
   "cell_type": "code",
   "execution_count": null,
   "id": "16",
   "metadata": {
    "tags": []
   },
   "outputs": [],
   "source": [
    "#top['deepwm_b'].describe()"
   ]
  },
  {
   "cell_type": "code",
   "execution_count": null,
   "id": "17",
   "metadata": {
    "tags": []
   },
   "outputs": [],
   "source": [
    "#stroke_mri['deepwm_b'].describe()"
   ]
  },
  {
   "cell_type": "code",
   "execution_count": null,
   "id": "18",
   "metadata": {
    "tags": []
   },
   "outputs": [],
   "source": [
    "stroke_mri['wmh_count'].describe()"
   ]
  },
  {
   "cell_type": "code",
   "execution_count": null,
   "id": "19",
   "metadata": {
    "tags": []
   },
   "outputs": [],
   "source": [
    "top['wmh_count'].describe()"
   ]
  },
  {
   "cell_type": "code",
   "execution_count": null,
   "id": "20",
   "metadata": {
    "tags": []
   },
   "outputs": [],
   "source": [
    "top['wmh_vol'].hist()"
   ]
  },
  {
   "cell_type": "code",
   "execution_count": null,
   "id": "21",
   "metadata": {
    "tags": []
   },
   "outputs": [],
   "source": [
    "stroke_mri['wmh_vol'].hist()"
   ]
  },
  {
   "cell_type": "code",
   "execution_count": null,
   "id": "22",
   "metadata": {
    "tags": []
   },
   "outputs": [],
   "source": [
    "stroke_mri['log_base2_wmh_vol'] = np.log2(stroke_mri['wmh_vol'])\n",
    "#data['logarithm_base2'] = np.log2(data['Salary'])\n",
    "stroke_mri['log_base2_wmh_vol'].hist()"
   ]
  },
  {
   "cell_type": "code",
   "execution_count": null,
   "id": "23",
   "metadata": {
    "tags": []
   },
   "outputs": [],
   "source": [
    "stroke_mri['log_base10_wmh_vol'] = np.log10(stroke_mri['wmh_vol'])\n",
    "stroke_mri['log_base10_wmh_vol'].hist(color='orange', alpha=0.6, )\n",
    "stroke_mri['log_base2_wmh_vol'].hist(color='blue', alpha=0.6, )"
   ]
  },
  {
   "cell_type": "markdown",
   "id": "24",
   "metadata": {},
   "source": [
    "So a log base 10 should better distribute out WMH, but will make some values negative,\n",
    "\n",
    "but what about in the case of why_count, where one was normally distributed and the otehr not?"
   ]
  },
  {
   "cell_type": "code",
   "execution_count": null,
   "id": "25",
   "metadata": {
    "tags": []
   },
   "outputs": [],
   "source": [
    "stroke_mri['log_base10_wmh_count'] = np.log10(stroke_mri['wmh_count'])\n",
    "top['log_base10_wmh_count'] = np.log10(top['wmh_count'])\n",
    "stroke_mri['log_base10_wmh_count'].hist(color='orange', alpha=0.6, )\n",
    "top['log_base10_wmh_count'].hist(color='blue', alpha=0.6, )"
   ]
  },
  {
   "cell_type": "markdown",
   "id": "26",
   "metadata": {},
   "source": [
    "Still looks OK. Let us try using the log base 10 for both, and see if it improves harmonized predictions"
   ]
  },
  {
   "cell_type": "code",
   "execution_count": null,
   "id": "27",
   "metadata": {
    "tags": []
   },
   "outputs": [],
   "source": [
    "stroke_mri['wmh_vol'].describe()"
   ]
  },
  {
   "cell_type": "code",
   "execution_count": null,
   "id": "28",
   "metadata": {
    "tags": []
   },
   "outputs": [],
   "source": [
    "top['wmh_vol'].describe()"
   ]
  },
  {
   "cell_type": "markdown",
   "id": "29",
   "metadata": {},
   "source": [
    "### luckily for us the counts on wmh_vol are never absolutely zero, and the same for count...no worries about log zero"
   ]
  },
  {
   "cell_type": "code",
   "execution_count": null,
   "id": "30",
   "metadata": {
    "tags": []
   },
   "outputs": [],
   "source": [
    "top['log_base10_wmh_vol'] = np.log10(top['wmh_vol'])\n",
    "stroke_mri['wmh_count'] = stroke_mri['log_base10_wmh_count']\n",
    "stroke_mri['wmh_vol'] = stroke_mri['log_base10_wmh_vol']\n",
    "top['wmh_count'] = top['log_base10_wmh_count']\n",
    "top['wmh_vol'] = top['log_base10_wmh_vol']"
   ]
  },
  {
   "cell_type": "code",
   "execution_count": null,
   "id": "31",
   "metadata": {
    "tags": []
   },
   "outputs": [],
   "source": [
    "list_of_parameters = [\n",
    "    'participant_id', \n",
    "    'age',\n",
    "    'sex',\n",
    "    'gm_vol',\n",
    "    'wm_vol',\n",
    "    'csf_vol',\n",
    "    'gm_ivc_ratio',\n",
    "    'gmwm_ivc_ratio',\n",
    "    'wmh_vol',\n",
    "    'wmh_count',\n",
    "    'deepwm_b_cov',\n",
    "    'aca_b_cov',\n",
    "    'mca_b_cov',\n",
    "    'pca_b_cov',\n",
    "    'totalgm_b_cov',\n",
    "    'deepwm_b', \n",
    "    'aca_b', # we \n",
    "    'mca_b', # we \n",
    "    'pca_b', # we \n",
    "    'totalgm_b', \n",
    "]\n",
    "top_loged = top[list_of_parameters]\n",
    "stroke_mri_loged = stroke_mri[list_of_parameters]"
   ]
  },
  {
   "cell_type": "code",
   "execution_count": null,
   "id": "32",
   "metadata": {
    "tags": []
   },
   "outputs": [],
   "source": [
    "# check to make sure no log 0 is recoded to a Nan or something bizzare\n",
    "print('top Nan numbers')\n",
    "print(top_loged.isna().sum().sum())\n",
    "print('strokeMRI nan numbers')\n",
    "print(stroke_mri_loged.isna().sum().sum())\n"
   ]
  },
  {
   "cell_type": "code",
   "execution_count": null,
   "id": "33",
   "metadata": {},
   "outputs": [],
   "source": [
    "# save off log based datasets\n",
    "\n",
    "top_loged.to_csv('top_loged_mon.csv')\n",
    "stroke_mri_loged.to_csv('stroke_loged_mon.csv')"
   ]
  },
  {
   "cell_type": "code",
   "execution_count": null,
   "id": "34",
   "metadata": {},
   "outputs": [],
   "source": [
    "top_loged.describe()"
   ]
  },
  {
   "cell_type": "code",
   "execution_count": null,
   "id": "35",
   "metadata": {
    "tags": []
   },
   "outputs": [],
   "source": [
    "stroke_mri_loged.describe()"
   ]
  },
  {
   "cell_type": "code",
   "execution_count": null,
   "id": "36",
   "metadata": {},
   "outputs": [],
   "source": []
  }
 ],
 "metadata": {
  "kernelspec": {
   "display_name": "Python 3 (ipykernel)",
   "language": "python",
   "name": "python3"
  },
  "language_info": {
   "codemirror_mode": {
    "name": "ipython",
    "version": 3
   },
   "file_extension": ".py",
   "mimetype": "text/x-python",
   "name": "python",
   "nbconvert_exporter": "python",
   "pygments_lexer": "ipython3",
   "version": "3.9.18"
  }
 },
 "nbformat": 4,
 "nbformat_minor": 5
}
