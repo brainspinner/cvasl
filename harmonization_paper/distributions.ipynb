{
 "cells": [
  {
   "cell_type": "markdown",
   "id": "2b2555c8-e15b-4ddb-a72f-9b979c0e5ce6",
   "metadata": {},
   "source": [
    "# This notebook examines the cleanded TOP and MRI datasets and makes alternative distributions"
   ]
  },
  {
   "cell_type": "markdown",
   "id": "eec76253-715b-4d9f-ac25-e68974bd1e1e",
   "metadata": {},
   "source": [
    "Note this must be run in the normal 'mrilanding' environment"
   ]
  },
  {
   "cell_type": "markdown",
   "id": "b3fd00be-b88d-490a-b27f-27fc0ecac3fb",
   "metadata": {},
   "source": [
    "## import libraries and data"
   ]
  },
  {
   "cell_type": "code",
   "execution_count": null,
   "id": "c9aa23bd-c56a-4a5e-ab09-e3b3194a49d1",
   "metadata": {},
   "outputs": [],
   "source": [
    "import os \n",
    "import pandas as pd\n",
    "import numpy as np"
   ]
  },
  {
   "cell_type": "code",
   "execution_count": null,
   "id": "d0cbd407-f17b-4841-b70b-c71882cb209e",
   "metadata": {},
   "outputs": [],
   "source": [
    "import matplotlib.pyplot as plt"
   ]
  },
  {
   "cell_type": "code",
   "execution_count": null,
   "id": "a72a4631-9ece-423d-a436-f9caca0f364b",
   "metadata": {
    "tags": []
   },
   "outputs": [],
   "source": [
    "filepath_mri = '../open_work/internal_results/cleaned_pvc2s/' \n",
    "filename_mri = os.path.join(filepath_mri,'StrokeMRI_pvc2c.csv') \n",
    "stroke_mri = pd.read_csv(filename_mri )\n",
    "filepath_top = '../open_work/internal_results/cleaned_pvc2s/' \n",
    "filename_top = os.path.join(filepath_top,'TOP_pvc2c.csv') \n",
    "top = pd.read_csv(filename_top)"
   ]
  },
  {
   "cell_type": "markdown",
   "id": "103f6490-192e-4895-84e3-cb5a38c01f5e",
   "metadata": {},
   "source": [
    "## Let's see the distributions"
   ]
  },
  {
   "cell_type": "code",
   "execution_count": null,
   "id": "f65d65e1-c369-4dc6-a1d9-8aa66b97fea3",
   "metadata": {},
   "outputs": [],
   "source": [
    "top.head(3)"
   ]
  },
  {
   "cell_type": "code",
   "execution_count": null,
   "id": "9b910d19-9844-4705-b356-e0b84569c90a",
   "metadata": {},
   "outputs": [],
   "source": [
    "numeric_columns = [\n",
    "    'age',\n",
    "    'gm_vol',\n",
    "    'wm_vol',\n",
    "    'csf_vol',\n",
    "    'gm_ivc_ratio',\n",
    "    'gmwm_ivc_ratio',\n",
    "    'wmh_vol',\n",
    "    'wmh_count',\n",
    "    'deepwm_b_cov',\n",
    "    'aca_b_cov',\n",
    "    'mca_b_cov',\n",
    "    'pca_b_cov',\n",
    "    'totalgm_b_cov',\n",
    "    'deepwm_b', \n",
    "    'aca_b', \n",
    "    'mca_b', \n",
    "    'pca_b', \n",
    "    'totalgm_b', \n",
    "]"
   ]
  },
  {
   "cell_type": "code",
   "execution_count": null,
   "id": "b0ee442a-7403-4ac4-8d6a-341546d7b36f",
   "metadata": {},
   "outputs": [],
   "source": [
    "fig, axis = plt.subplots(len(numeric_columns), 1, figsize=(7,15))\n",
    "fig.tight_layout()\n",
    "fig.suptitle('TOP distributions ', fontsize=20)\n",
    "top[numeric_columns].hist(ax = axis, color='orange', alpha=0.8,)"
   ]
  },
  {
   "cell_type": "code",
   "execution_count": null,
   "id": "7fb3d1a6-edd1-44f1-a8c5-0e9ebfca808b",
   "metadata": {
    "tags": []
   },
   "outputs": [],
   "source": [
    "fig, axis = plt.subplots(len(numeric_columns), 1, figsize=(7,15))\n",
    "fig.tight_layout()\n",
    "fig.suptitle('StrokeMRI distributions ', fontsize=20)\n",
    "stroke_mri[numeric_columns].hist(ax = axis, alpha=0.8)"
   ]
  },
  {
   "cell_type": "code",
   "execution_count": null,
   "id": "e2d89e14-05fe-4212-a502-88e09e9549b4",
   "metadata": {
    "tags": []
   },
   "outputs": [],
   "source": [
    "fig, axis = plt.subplots(len(numeric_columns), 1, figsize=(7,15))\n",
    "fig.tight_layout()\n",
    "fig.suptitle('both distributions ', fontsize=20)\n",
    "top[numeric_columns].hist(ax = axis, color='orange', alpha=0.6,)\n",
    "stroke_mri[numeric_columns].hist(ax = axis, color='blue', alpha=0.6,)"
   ]
  },
  {
   "cell_type": "code",
   "execution_count": null,
   "id": "2645a2e9-133d-4942-a9dc-f7944b64315b",
   "metadata": {
    "tags": []
   },
   "outputs": [],
   "source": [
    "#top['deepwm_b'].describe()"
   ]
  },
  {
   "cell_type": "code",
   "execution_count": null,
   "id": "c4915591-044a-40e0-bdf4-0357a90cb5e6",
   "metadata": {
    "tags": []
   },
   "outputs": [],
   "source": [
    "#stroke_mri['deepwm_b'].describe()"
   ]
  },
  {
   "cell_type": "code",
   "execution_count": null,
   "id": "9d5bed80-e903-4865-a0ae-7e6d59ff7b59",
   "metadata": {
    "tags": []
   },
   "outputs": [],
   "source": [
    "stroke_mri['wmh_count'].describe()"
   ]
  },
  {
   "cell_type": "code",
   "execution_count": null,
   "id": "a458a30f-2b65-48c9-baf7-9f1da072de4a",
   "metadata": {
    "tags": []
   },
   "outputs": [],
   "source": [
    "top['wmh_count'].describe()"
   ]
  },
  {
   "cell_type": "code",
   "execution_count": null,
   "id": "99a38f66-545a-4e58-aa64-26b16723112c",
   "metadata": {
    "tags": []
   },
   "outputs": [],
   "source": [
    "top['wmh_vol'].hist()"
   ]
  },
  {
   "cell_type": "code",
   "execution_count": null,
   "id": "c41abb3f-b654-4c2e-affc-025efa62c329",
   "metadata": {
    "tags": []
   },
   "outputs": [],
   "source": [
    "stroke_mri['wmh_vol'].hist()"
   ]
  },
  {
   "cell_type": "code",
   "execution_count": null,
   "id": "385cb74a-1dc1-49e0-a9da-57d62047f28a",
   "metadata": {
    "tags": []
   },
   "outputs": [],
   "source": [
    "stroke_mri['log_base2_wmh_vol'] = np.log2(stroke_mri['wmh_vol'])\n",
    "#data['logarithm_base2'] = np.log2(data['Salary'])\n",
    "stroke_mri['log_base2_wmh_vol'].hist()"
   ]
  },
  {
   "cell_type": "code",
   "execution_count": null,
   "id": "74ed7688-1ada-4f14-8e6d-913067a38f23",
   "metadata": {
    "tags": []
   },
   "outputs": [],
   "source": [
    "stroke_mri['log_base10_wmh_vol'] = np.log10(stroke_mri['wmh_vol'])\n",
    "stroke_mri['log_base10_wmh_vol'].hist(color='orange', alpha=0.6, )\n",
    "stroke_mri['log_base2_wmh_vol'].hist(color='blue', alpha=0.6, )"
   ]
  },
  {
   "cell_type": "markdown",
   "id": "8363b96e-58c6-4b00-b556-60dff1dc70d9",
   "metadata": {},
   "source": [
    "So a log base 10 should better distribute out WMH, but will make some values negative,\n",
    "\n",
    "but what about in the case of why_count, where one was normally distributed and the otehr not?"
   ]
  },
  {
   "cell_type": "code",
   "execution_count": null,
   "id": "d22574b6-652e-4c28-a9d9-5f8d1d99f7b4",
   "metadata": {
    "tags": []
   },
   "outputs": [],
   "source": [
    "stroke_mri['log_base10_wmh_count'] = np.log10(stroke_mri['wmh_count'])\n",
    "top['log_base10_wmh_count'] = np.log10(top['wmh_count'])\n",
    "stroke_mri['log_base10_wmh_count'].hist(color='orange', alpha=0.6, )\n",
    "top['log_base10_wmh_count'].hist(color='blue', alpha=0.6, )"
   ]
  },
  {
   "cell_type": "markdown",
   "id": "a0706a38-ea47-4675-a827-03f9672a1147",
   "metadata": {},
   "source": [
    "Still looks OK. Let us try using the log base 10 for both, and see if it improves harmonized predictions"
   ]
  },
  {
   "cell_type": "code",
   "execution_count": null,
   "id": "64a6de7c-badd-4061-981a-3f5669c7af76",
   "metadata": {
    "tags": []
   },
   "outputs": [],
   "source": [
    "top['log_base10_wmh_vol'] = np.log10(top['wmh_vol'])\n",
    "stroke_mri['wmh_count'] = stroke_mri['log_base10_wmh_count']\n",
    "stroke_mri['wmh_vol'] = stroke_mri['log_base10_wmh_vol']\n",
    "top['wmh_count'] = top['log_base10_wmh_count']\n",
    "top['wmh_vol'] = top['log_base10_wmh_vol']"
   ]
  },
  {
   "cell_type": "code",
   "execution_count": null,
   "id": "15c6387f-96af-4bcc-a56a-be37ce3d3dbf",
   "metadata": {
    "tags": []
   },
   "outputs": [],
   "source": [
    "list_of_parameters = [\n",
    "    'participant_id', \n",
    "    'age',\n",
    "    'sex',\n",
    "    'gm_vol',\n",
    "    'wm_vol',\n",
    "    'csf_vol',\n",
    "    'gm_ivc_ratio',\n",
    "    'gmwm_ivc_ratio',\n",
    "    'wmh_vol',\n",
    "    'wmh_count',\n",
    "    'deepwm_b_cov',\n",
    "    'aca_b_cov',\n",
    "    'mca_b_cov',\n",
    "    'pca_b_cov',\n",
    "    'totalgm_b_cov',\n",
    "    'deepwm_b', \n",
    "    'aca_b', # we \n",
    "    'mca_b', # we \n",
    "    'pca_b', # we \n",
    "    'totalgm_b', \n",
    "]\n",
    "top_loged = top[list_of_parameters]\n",
    "stroke_mri_loged = stroke_mri[list_of_parameters]"
   ]
  },
  {
   "cell_type": "code",
   "execution_count": null,
   "id": "676973c8-6f3c-406b-996d-9c02ebee440c",
   "metadata": {},
   "outputs": [],
   "source": [
    "# save off log based datasets\n",
    "\n"
   ]
  }
 ],
 "metadata": {
  "kernelspec": {
   "display_name": "Python 3 (ipykernel)",
   "language": "python",
   "name": "python3"
  },
  "language_info": {
   "codemirror_mode": {
    "name": "ipython",
    "version": 3
   },
   "file_extension": ".py",
   "mimetype": "text/x-python",
   "name": "python",
   "nbconvert_exporter": "python",
   "pygments_lexer": "ipython3",
   "version": "3.9.18"
  }
 },
 "nbformat": 4,
 "nbformat_minor": 5
}
