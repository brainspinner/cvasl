{
 "cells": [
  {
   "cell_type": "markdown",
   "id": "492cd0d2-e297-42f1-8047-30b03c427a44",
   "metadata": {},
   "source": [
    "# Polynomial Harmonization algorithm"
   ]
  },
  {
   "cell_type": "markdown",
   "id": "1b16a13c-bbce-4078-a79a-46e3bcc739a0",
   "metadata": {},
   "source": [
    "## Import libraries"
   ]
  },
  {
   "cell_type": "code",
   "execution_count": null,
   "id": "9d267ba6-d1d7-468c-a77e-d7a3caf27a6d",
   "metadata": {
    "tags": []
   },
   "outputs": [],
   "source": [
    "import os       # using operating system dependent functionality (folders)\n",
    "import glob\n",
    "import pandas as pd # data analysis and manipulation\n",
    "import numpy as np    # numerical computing (manipulating and performing operations on arrays of data)\n",
    "\n",
    "import matplotlib.pyplot as plt\n",
    "import seaborn as sns\n",
    "from scipy.stats import skew\n",
    "\n",
    "import sys\n",
    "sys.path.insert(0, '../') # path to our library functions\n",
    "\n",
    "from cvasl import seperated\n"
   ]
  },
  {
   "cell_type": "markdown",
   "id": "e15e1a8e-c78b-46bb-8b21-2963fd29e7b4",
   "metadata": {
    "tags": []
   },
   "source": [
    "### get data"
   ]
  },
  {
   "cell_type": "code",
   "execution_count": null,
   "id": "6d3e1a36-e3f6-4ba6-a56b-ba52e7934e4e",
   "metadata": {
    "tags": []
   },
   "outputs": [],
   "source": [
    "filepath_mri = '../open_work/internal_results/cleaned_pvc2s/' \n",
    "filename_mri = os.path.join(filepath_mri,'StrokeMRI_pvc2c.csv') \n",
    "\n",
    "filepath_top = '../open_work/internal_results/cleaned_pvc2s/' \n",
    "filename_top = os.path.join(filepath_top,'TOP_pvc2c.csv') "
   ]
  },
  {
   "cell_type": "code",
   "execution_count": null,
   "id": "72cc6e13-0729-49f8-a751-eb6c018eec7e",
   "metadata": {
    "tags": []
   },
   "outputs": [],
   "source": [
    "TOP = pd.read_csv(filename_top)\n",
    "StrokeMRI = pd.read_csv(filename_mri)"
   ]
  },
  {
   "cell_type": "code",
   "execution_count": null,
   "id": "b5d2bfc5-6c74-435a-8b8b-bc7285ba7640",
   "metadata": {
    "tags": []
   },
   "outputs": [],
   "source": [
    "TOP = TOP.drop(TOP.columns[0],axis=1)\n",
    "#TOP\n",
    "StrokeMRI = StrokeMRI.drop(StrokeMRI.columns[0],axis=1)\n",
    "#StrokeMRI"
   ]
  },
  {
   "cell_type": "code",
   "execution_count": null,
   "id": "1be362ad-6f38-44e7-b538-30cecefe9bfe",
   "metadata": {
    "tags": []
   },
   "outputs": [],
   "source": [
    "TOP"
   ]
  },
  {
   "cell_type": "code",
   "execution_count": null,
   "id": "580ff6d0-ef4a-4a36-ae18-413b1e326d89",
   "metadata": {
    "tags": []
   },
   "outputs": [],
   "source": [
    "StrokeMRI"
   ]
  },
  {
   "cell_type": "code",
   "execution_count": null,
   "id": "aa40b8f7-051e-4785-adb6-21c663b1460a",
   "metadata": {
    "tags": []
   },
   "outputs": [],
   "source": [
    "# identify polynomial columns\n",
    "poly_columns = ['gm_vol', 'wm_vol', 'csf_vol',\n",
    "       'gm_ivc_ratio', 'gmwm_ivc_ratio', 'wmh_vol', 'wmh_count',\n",
    "       'deepwm_b_cov', 'aca_b_cov', 'mca_b_cov', 'pca_b_cov', 'totalgm_b_cov',\n",
    "       'deepwm_b', 'aca_b', 'mca_b', 'pca_b', 'totalgm_b']"
   ]
  },
  {
   "cell_type": "code",
   "execution_count": null,
   "id": "bc124652-9808-4e39-9ef2-09ec98fcd7ae",
   "metadata": {
    "tags": []
   },
   "outputs": [],
   "source": [
    "TOP_polys = seperated.polyfit_second_degree_to_df(\n",
    "        TOP,\n",
    "        'age',\n",
    "        poly_columns,\n",
    ")\n",
    "#TOP_polys"
   ]
  },
  {
   "cell_type": "code",
   "execution_count": null,
   "id": "397772bd-ebd3-4ad5-9a6e-afdc8ad1676c",
   "metadata": {
    "tags": []
   },
   "outputs": [],
   "source": [
    "MRI_polys = seperated.polyfit_second_degree_to_df(\n",
    "        StrokeMRI,\n",
    "        'age',\n",
    "        poly_columns,\n",
    ")\n",
    "MRI_polys"
   ]
  },
  {
   "cell_type": "code",
   "execution_count": null,
   "id": "7e373384-21b8-4232-b5c0-36a0d33280fd",
   "metadata": {
    "tags": []
   },
   "outputs": [],
   "source": []
  },
  {
   "cell_type": "markdown",
   "id": "daff4dbb-327a-4518-95e7-dc98a35813f4",
   "metadata": {
    "tags": []
   },
   "source": [
    "# Home made Harmonizartion aglorithm #1"
   ]
  },
  {
   "cell_type": "markdown",
   "id": "9ab7acc9-9e91-4246-aef5-0d5dd6a70632",
   "metadata": {
    "tags": []
   },
   "source": [
    "1. take polynomials of top and mri\n",
    "2. assume we want to harmonize all values as if they had been shot on the strokeMRI machine\n",
    "3. take the difference betwen top point and top polynomial for each point\n",
    "4. make harmonized TOp dataset by adding the differences to the stroke MRI polynomial (at the same age)\n",
    "5. test the harmonized for 'ML harmony'"
   ]
  },
  {
   "cell_type": "code",
   "execution_count": null,
   "id": "20aeabdf-d823-4441-8826-65c129101d41",
   "metadata": {
    "tags": []
   },
   "outputs": [],
   "source": [
    "coefficients = ['coefficient_a', 'coefficient_b', 'coefficient_c']\n",
    "for column in TOP[poly_columns].columns:\n",
    "\n",
    "    row = TOP_polys[TOP_polys['column'] == column]\n",
    "    if row.empty:\n",
    "        # The columns that appear \"weird\" below (eg. `Series([], dtype: float64)`)\n",
    "        # are the columns not found, so they don't have associated coefficients..\n",
    "        print('skipping', column)\n",
    "        continue\n",
    "    a, b, c = row[coefficients].values.flatten().tolist()\n",
    "    TOP[column + '_projected'] = seperated.derived_function(TOP['age'], a, b, c)\n",
    "TOP"
   ]
  },
  {
   "cell_type": "code",
   "execution_count": null,
   "id": "90fbde9e-54b7-4fc5-bb94-b06a87526adb",
   "metadata": {
    "tags": []
   },
   "outputs": [],
   "source": [
    "#TOP['age']"
   ]
  },
  {
   "cell_type": "code",
   "execution_count": null,
   "id": "c6cb8eed-ec55-44d5-92d0-e796a9b9d652",
   "metadata": {
    "tags": []
   },
   "outputs": [],
   "source": [
    "\n",
    "coefficients = ['coefficient_a', 'coefficient_b', 'coefficient_c']\n",
    "for column in TOP[poly_columns].columns:\n",
    "    row = MRI_polys[MRI_polys['column'] == column]\n",
    "    a_mri, b_mri, c_mri = row[coefficients].values.flatten().tolist()\n",
    "    TOP[column + '_diff'] = TOP[column] - TOP[column + '_projected']\n",
    "    TOP[column + '_mri_projected'] = TOP[column + '_diff'] + seperated.derived_function(TOP['age'], a_mri, b_mri, c_mri)\n"
   ]
  },
  {
   "cell_type": "code",
   "execution_count": null,
   "id": "26199c25-3845-45e0-be5f-b09d08e88130",
   "metadata": {
    "tags": []
   },
   "outputs": [],
   "source": [
    "TOP"
   ]
  },
  {
   "cell_type": "code",
   "execution_count": null,
   "id": "589684ba-98e8-4c0b-bcba-76ef9c0ea854",
   "metadata": {
    "tags": []
   },
   "outputs": [],
   "source": [
    "TOP_mri_homemade_harmonized = TOP[[\n",
    "    'participant_id',\n",
    "    'age',\n",
    "    'sex',\n",
    "    'gm_vol_mri_projected',\n",
    "    'wm_vol_mri_projected', \n",
    "    'csf_vol_mri_projected', \n",
    "    'gm_ivc_ratio_mri_projected', \n",
    "    'gmwm_ivc_ratio_mri_projected',\n",
    "    'wmh_vol_mri_projected',\n",
    "    'wmh_count_mri_projected', \n",
    "    'deepwm_b_cov_mri_projected', \n",
    "    'aca_b_cov_mri_projected',\n",
    "    'mca_b_cov_mri_projected',\n",
    "    'pca_b_cov_mri_projected', \n",
    "    'totalgm_b_cov_mri_projected', \n",
    "    'deepwm_b_mri_projected',\n",
    "    'aca_b_mri_projected',\n",
    "    'mca_b_mri_projected', \n",
    "    'pca_b_mri_projected',\n",
    "    'totalgm_b_mri_projected',]]\n",
    "len(TOP_mri_homemade_harmonized )"
   ]
  },
  {
   "cell_type": "code",
   "execution_count": null,
   "id": "029f30c7-2177-47b6-913c-44289142f6f2",
   "metadata": {
    "tags": []
   },
   "outputs": [],
   "source": [
    "TOP_mri_homemade_harmonized =TOP_mri_homemade_harmonized.rename(columns={\n",
    "    'gm_vol_mri_projected':'gm_vol',\n",
    "    'wm_vol_mri_projected':'wm_vol', \n",
    "    'csf_vol_mri_projected':'csf_vol',\n",
    "    'gm_ivc_ratio_mri_projected':'gm_ivc_ratio', \n",
    "    'gmwm_ivc_ratio_mri_projected':'gmwm_ivc_ratio',\n",
    "    'wmh_vol_mri_projected':'wmh_vol',\n",
    "    'wmh_count_mri_projected':'wmh_count', \n",
    "    'deepwm_b_cov_mri_projected': 'deepwm_b_cov', \n",
    "    'aca_b_cov_mri_projected':'aca_b_cov',\n",
    "    'mca_b_cov_mri_projected':'mca_b_cov',\n",
    "    'pca_b_cov_mri_projected':'pca_b_cov', \n",
    "    'totalgm_b_cov_mri_projected':'totalgm_b_cov', \n",
    "    'deepwm_b_mri_projected':'deepwm_b',\n",
    "    'aca_b_mri_projected':'aca_b',\n",
    "    'mca_b_mri_projected':'mca_b', \n",
    "    'pca_b_mri_projected':'pca_b',\n",
    "    'totalgm_b_mri_projected':'totalgm_b',\n",
    "})\n",
    "len(TOP_mri_homemade_harmonized )"
   ]
  },
  {
   "cell_type": "code",
   "execution_count": null,
   "id": "b15b3255-e08d-43d3-9a07-e2d86afa25f1",
   "metadata": {
    "tags": []
   },
   "outputs": [],
   "source": [
    "TOP_mri_homemade_harmonized "
   ]
  },
  {
   "cell_type": "code",
   "execution_count": null,
   "id": "4723eaf6-6b11-46f7-a552-5a47b922ac09",
   "metadata": {
    "tags": []
   },
   "outputs": [],
   "source": [
    "TOP_mri_homemade_harmonized.to_csv('TOP_mri_homemade_harmonized.csv') "
   ]
  },
  {
   "cell_type": "code",
   "execution_count": null,
   "id": "a5f94f0c-cb70-4d35-b367-46a3113e724c",
   "metadata": {},
   "outputs": [],
   "source": []
  },
  {
   "cell_type": "code",
   "execution_count": null,
   "id": "0c6af665-af93-4cbf-ae2e-c8338c03f918",
   "metadata": {},
   "outputs": [],
   "source": []
  }
 ],
 "metadata": {
  "kernelspec": {
   "display_name": "Python 3 (ipykernel)",
   "language": "python",
   "name": "python3"
  },
  "language_info": {
   "codemirror_mode": {
    "name": "ipython",
    "version": 3
   },
   "file_extension": ".py",
   "mimetype": "text/x-python",
   "name": "python",
   "nbconvert_exporter": "python",
   "pygments_lexer": "ipython3",
   "version": "3.9.18"
  }
 },
 "nbformat": 4,
 "nbformat_minor": 5
}
