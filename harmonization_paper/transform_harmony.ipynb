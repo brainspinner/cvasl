{
 "cells": [
  {
   "cell_type": "markdown",
   "id": "0",
   "metadata": {},
   "source": [
    "# Polynomial Harmonization algorithm"
   ]
  },
  {
   "cell_type": "markdown",
   "id": "1",
   "metadata": {},
   "source": [
    "## Import libraries"
   ]
  },
  {
   "cell_type": "code",
   "execution_count": null,
   "id": "2",
   "metadata": {
    "tags": []
   },
   "outputs": [],
   "source": [
    "import os       # using operating system dependent functionality (folders)\n",
    "import glob\n",
    "import pandas as pd # data analysis and manipulation\n",
    "import numpy as np    # numerical computing (manipulating and performing operations on arrays of data)\n",
    "\n",
    "import matplotlib.pyplot as plt\n",
    "import seaborn as sns\n",
    "from scipy.stats import skew\n",
    "\n",
    "import sys\n",
    "sys.path.insert(0, '../') # path to our library functions\n",
    "\n",
    "from cvasl import seperated\n"
   ]
  },
  {
   "cell_type": "markdown",
   "id": "3",
   "metadata": {
    "tags": []
   },
   "source": [
    "### get data"
   ]
  },
  {
   "cell_type": "code",
   "execution_count": null,
   "id": "4",
   "metadata": {
    "tags": []
   },
   "outputs": [],
   "source": [
    "filepath_mri = '../open_work/internal_results/cleaned_pvc2s/' \n",
    "filename_mri = os.path.join(filepath_mri,'StrokeMRI_pvc2c.csv') \n",
    "\n",
    "filepath_top = '../open_work/internal_results/cleaned_pvc2s/' \n",
    "filename_top = os.path.join(filepath_top,'TOP_pvc2c.csv') "
   ]
  },
  {
   "cell_type": "code",
   "execution_count": null,
   "id": "5",
   "metadata": {
    "tags": []
   },
   "outputs": [],
   "source": [
    "TOP = pd.read_csv(filename_top)\n",
    "StrokeMRI = pd.read_csv(filename_mri)"
   ]
  },
  {
   "cell_type": "code",
   "execution_count": null,
   "id": "6",
   "metadata": {
    "tags": []
   },
   "outputs": [],
   "source": [
    "TOP = TOP.drop(TOP.columns[0],axis=1)\n",
    "#TOP\n",
    "StrokeMRI = StrokeMRI.drop(StrokeMRI.columns[0],axis=1)\n",
    "#StrokeMRI"
   ]
  },
  {
   "cell_type": "code",
   "execution_count": null,
   "id": "7",
   "metadata": {
    "tags": []
   },
   "outputs": [],
   "source": [
    "TOP"
   ]
  },
  {
   "cell_type": "code",
   "execution_count": null,
   "id": "8",
   "metadata": {
    "tags": []
   },
   "outputs": [],
   "source": [
    "StrokeMRI"
   ]
  },
  {
   "cell_type": "code",
   "execution_count": null,
   "id": "9",
   "metadata": {
    "tags": []
   },
   "outputs": [],
   "source": [
    "# identify polynomial columns\n",
    "poly_columns = ['gm_vol', 'wm_vol', 'csf_vol',\n",
    "       'gm_ivc_ratio', 'gmwm_ivc_ratio', 'wmh_vol', 'wmh_count',\n",
    "       'deepwm_b_cov', 'aca_b_cov', 'mca_b_cov', 'pca_b_cov', 'totalgm_b_cov',\n",
    "       'deepwm_b', 'aca_b', 'mca_b', 'pca_b', 'totalgm_b']"
   ]
  },
  {
   "cell_type": "code",
   "execution_count": null,
   "id": "10",
   "metadata": {
    "tags": []
   },
   "outputs": [],
   "source": [
    "TOP_polys = seperated.polyfit_second_degree_to_df(\n",
    "        TOP,\n",
    "        'age',\n",
    "        poly_columns,\n",
    ")\n",
    "#TOP_polys"
   ]
  },
  {
   "cell_type": "code",
   "execution_count": null,
   "id": "11",
   "metadata": {
    "tags": []
   },
   "outputs": [],
   "source": [
    "MRI_polys = seperated.polyfit_second_degree_to_df(\n",
    "        StrokeMRI,\n",
    "        'age',\n",
    "        poly_columns,\n",
    ")\n",
    "MRI_polys"
   ]
  },
  {
   "cell_type": "code",
   "execution_count": null,
   "id": "12",
   "metadata": {
    "tags": []
   },
   "outputs": [],
   "source": []
  },
  {
   "cell_type": "markdown",
   "id": "13",
   "metadata": {
    "tags": []
   },
   "source": [
    "# Home made Harmonizartion aglorithm #1"
   ]
  },
  {
   "cell_type": "markdown",
   "id": "14",
   "metadata": {
    "tags": []
   },
   "source": [
    "1. take polynomials of top and mri\n",
    "2. assume we want to harmonize all values as if they had been shot on the strokeMRI machine\n",
    "3. take the difference betwen top point and top polynomial for each point\n",
    "4. make harmonized TOp dataset by adding the differences to the stroke MRI polynomial (at the same age)\n",
    "5. test the harmonized for 'ML harmony'"
   ]
  },
  {
   "cell_type": "code",
   "execution_count": null,
   "id": "15",
   "metadata": {
    "tags": []
   },
   "outputs": [],
   "source": [
    "coefficients = ['coefficient_a', 'coefficient_b', 'coefficient_c']\n",
    "for column in TOP[poly_columns].columns:\n",
    "\n",
    "    row = TOP_polys[TOP_polys['column'] == column]\n",
    "    if row.empty:\n",
    "        # The columns that appear \"weird\" below (eg. `Series([], dtype: float64)`)\n",
    "        # are the columns not found, so they don't have associated coefficients..\n",
    "        print('skipping', column)\n",
    "        continue\n",
    "    a, b, c = row[coefficients].values.flatten().tolist()\n",
    "    TOP[column + '_projected'] = seperated.derived_function(TOP['age'], a, b, c)\n",
    "TOP"
   ]
  },
  {
   "cell_type": "code",
   "execution_count": null,
   "id": "16",
   "metadata": {
    "tags": []
   },
   "outputs": [],
   "source": [
    "#TOP['age']"
   ]
  },
  {
   "cell_type": "code",
   "execution_count": null,
   "id": "17",
   "metadata": {
    "tags": []
   },
   "outputs": [],
   "source": [
    "\n",
    "coefficients = ['coefficient_a', 'coefficient_b', 'coefficient_c']\n",
    "for column in TOP[poly_columns].columns:\n",
    "    row = MRI_polys[MRI_polys['column'] == column]\n",
    "    a_mri, b_mri, c_mri = row[coefficients].values.flatten().tolist()\n",
    "    TOP[column + '_diff'] = TOP[column] - TOP[column + '_projected']\n",
    "    TOP[column + '_mri_projected'] = TOP[column + '_diff'] + seperated.derived_function(TOP['age'], a_mri, b_mri, c_mri)\n"
   ]
  },
  {
   "cell_type": "code",
   "execution_count": null,
   "id": "18",
   "metadata": {
    "tags": []
   },
   "outputs": [],
   "source": [
    "TOP"
   ]
  },
  {
   "cell_type": "code",
   "execution_count": null,
   "id": "19",
   "metadata": {
    "tags": []
   },
   "outputs": [],
   "source": [
    "TOP_mri_homemade_harmonized = TOP[[\n",
    "    'participant_id',\n",
    "    'age',\n",
    "    'sex',\n",
    "    'gm_vol_mri_projected',\n",
    "    'wm_vol_mri_projected', \n",
    "    'csf_vol_mri_projected', \n",
    "    'gm_ivc_ratio_mri_projected', \n",
    "    'gmwm_ivc_ratio_mri_projected',\n",
    "    'wmh_vol_mri_projected',\n",
    "    'wmh_count_mri_projected', \n",
    "    'deepwm_b_cov_mri_projected', \n",
    "    'aca_b_cov_mri_projected',\n",
    "    'mca_b_cov_mri_projected',\n",
    "    'pca_b_cov_mri_projected', \n",
    "    'totalgm_b_cov_mri_projected', \n",
    "    'deepwm_b_mri_projected',\n",
    "    'aca_b_mri_projected',\n",
    "    'mca_b_mri_projected', \n",
    "    'pca_b_mri_projected',\n",
    "    'totalgm_b_mri_projected',]]\n",
    "len(TOP_mri_homemade_harmonized )"
   ]
  },
  {
   "cell_type": "code",
   "execution_count": null,
   "id": "20",
   "metadata": {
    "tags": []
   },
   "outputs": [],
   "source": [
    "TOP_mri_homemade_harmonized =TOP_mri_homemade_harmonized.rename(columns={\n",
    "    'gm_vol_mri_projected':'gm_vol',\n",
    "    'wm_vol_mri_projected':'wm_vol', \n",
    "    'csf_vol_mri_projected':'csf_vol',\n",
    "    'gm_ivc_ratio_mri_projected':'gm_ivc_ratio', \n",
    "    'gmwm_ivc_ratio_mri_projected':'gmwm_ivc_ratio',\n",
    "    'wmh_vol_mri_projected':'wmh_vol',\n",
    "    'wmh_count_mri_projected':'wmh_count', \n",
    "    'deepwm_b_cov_mri_projected': 'deepwm_b_cov', \n",
    "    'aca_b_cov_mri_projected':'aca_b_cov',\n",
    "    'mca_b_cov_mri_projected':'mca_b_cov',\n",
    "    'pca_b_cov_mri_projected':'pca_b_cov', \n",
    "    'totalgm_b_cov_mri_projected':'totalgm_b_cov', \n",
    "    'deepwm_b_mri_projected':'deepwm_b',\n",
    "    'aca_b_mri_projected':'aca_b',\n",
    "    'mca_b_mri_projected':'mca_b', \n",
    "    'pca_b_mri_projected':'pca_b',\n",
    "    'totalgm_b_mri_projected':'totalgm_b',\n",
    "})\n",
    "len(TOP_mri_homemade_harmonized )"
   ]
  },
  {
   "cell_type": "code",
   "execution_count": null,
   "id": "21",
   "metadata": {
    "tags": []
   },
   "outputs": [],
   "source": [
    "TOP_mri_homemade_harmonized "
   ]
  },
  {
   "cell_type": "code",
   "execution_count": null,
   "id": "22",
   "metadata": {
    "tags": []
   },
   "outputs": [],
   "source": [
    "TOP_mri_homemade_harmonized.to_csv('TOP_mri_homemade_harmonized.csv') "
   ]
  },
  {
   "cell_type": "code",
   "execution_count": null,
   "id": "23",
   "metadata": {},
   "outputs": [],
   "source": []
  },
  {
   "cell_type": "code",
   "execution_count": null,
   "id": "24",
   "metadata": {},
   "outputs": [],
   "source": []
  }
 ],
 "metadata": {
  "kernelspec": {
   "display_name": "Python 3 (ipykernel)",
   "language": "python",
   "name": "python3"
  },
  "language_info": {
   "codemirror_mode": {
    "name": "ipython",
    "version": 3
   },
   "file_extension": ".py",
   "mimetype": "text/x-python",
   "name": "python",
   "nbconvert_exporter": "python",
   "pygments_lexer": "ipython3",
   "version": "3.9.18"
  }
 },
 "nbformat": 4,
 "nbformat_minor": 5
}
