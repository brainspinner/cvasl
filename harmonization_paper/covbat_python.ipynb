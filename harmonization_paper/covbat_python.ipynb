{
 "cells": [
  {
   "cell_type": "markdown",
   "id": "59efe52d-6d80-49de-aef1-5452c0d52c8e",
   "metadata": {},
   "source": [
    "# CovBat implementation -Python"
   ]
  },
  {
   "cell_type": "code",
   "execution_count": null,
   "id": "3a6bab91-9abc-4140-af5b-62aa6e00a9b5",
   "metadata": {},
   "outputs": [],
   "source": [
    "!python --version\n"
   ]
  },
  {
   "cell_type": "markdown",
   "id": "959af07b-1ab5-46bd-8e9b-7abc36715cf2",
   "metadata": {},
   "source": [
    "It would appear ths implementation will have to account for sex using the model parameter which must be built. To be implemented."
   ]
  }
 ],
 "metadata": {
  "kernelspec": {
   "display_name": "Python 3 (ipykernel)",
   "language": "python",
   "name": "python3"
  },
  "language_info": {
   "codemirror_mode": {
    "name": "ipython",
    "version": 3
   },
   "file_extension": ".py",
   "mimetype": "text/x-python",
   "name": "python",
   "nbconvert_exporter": "python",
   "pygments_lexer": "ipython3",
   "version": "3.12.1"
  }
 },
 "nbformat": 4,
 "nbformat_minor": 5
}
