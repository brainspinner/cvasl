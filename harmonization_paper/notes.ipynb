{
 "cells": [
  {
   "cell_type": "code",
   "execution_count": 1,
   "id": "18c1e375-5f2c-49f0-907b-0b930fb4a015",
   "metadata": {
    "tags": []
   },
   "outputs": [
    {
     "ename": "SyntaxError",
     "evalue": "invalid syntax (427165693.py, line 1)",
     "output_type": "error",
     "traceback": [
      "\u001b[1;36m  Cell \u001b[1;32mIn[1], line 1\u001b[1;36m\u001b[0m\n\u001b[1;33m    first notebook\u001b[0m\n\u001b[1;37m          ^\u001b[0m\n\u001b[1;31mSyntaxError\u001b[0m\u001b[1;31m:\u001b[0m invalid syntax\n"
     ]
    }
   ],
   "source": [
    "first notebook\n",
    "\n",
    "1. train in top and test in stroke mri (unharmonized\n",
    "                                       2/ train in strokemri and test in top ungharmonized\n",
    "                                    3. harmonized to eacg other , by neurocombat and opencomat, then)\n",
    "retuls with the same thing- train in top,, test in stroke mri\n",
    "and 2. train in mri and test in top"
   ]
  },
  {
   "cell_type": "code",
   "execution_count": 2,
   "id": "e72dd2d7-d95d-480a-af6d-234d5c8d02d7",
   "metadata": {
    "tags": []
   },
   "outputs": [
    {
     "ename": "SyntaxError",
     "evalue": "invalid syntax (2435791990.py, line 1)",
     "output_type": "error",
     "traceback": [
      "\u001b[1;36m  Cell \u001b[1;32mIn[2], line 1\u001b[1;36m\u001b[0m\n\u001b[1;33m    second notebook\u001b[0m\n\u001b[1;37m           ^\u001b[0m\n\u001b[1;31mSyntaxError\u001b[0m\u001b[1;31m:\u001b[0m invalid syntax\n"
     ]
    }
   ],
   "source": [
    "second notebook\n",
    "harmonize 2 way between topmri and sabre,\n",
    "then test mixed based on sabre\n",
    "\n",
    "harmonize 2 way between topmri and insight,\n",
    "then test mixed based on insight"
   ]
  },
  {
   "cell_type": "code",
   "execution_count": null,
   "id": "a62e414a-e410-481e-ba06-a1ec2db67086",
   "metadata": {},
   "outputs": [],
   "source": []
  }
 ],
 "metadata": {
  "kernelspec": {
   "display_name": "Python 3 (ipykernel)",
   "language": "python",
   "name": "python3"
  },
  "language_info": {
   "codemirror_mode": {
    "name": "ipython",
    "version": 3
   },
   "file_extension": ".py",
   "mimetype": "text/x-python",
   "name": "python",
   "nbconvert_exporter": "python",
   "pygments_lexer": "ipython3",
   "version": "3.9.18"
  }
 },
 "nbformat": 4,
 "nbformat_minor": 5
}
