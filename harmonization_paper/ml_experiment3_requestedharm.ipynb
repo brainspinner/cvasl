{
 "cells": [
  {
   "cell_type": "markdown",
   "id": "e8edc98e-5785-4d1c-baed-02bfc4721f60",
   "metadata": {},
   "source": [
    "# ML testing: experiment #3-requested harm (neurocomat)\n",
    "\n",
    "This notebook involves testing for the MRI conference abstract. This notebook shows mixed_dataset (TOP + StrokeMRI) based models with neurocombat harmonization to Insight 46 and Sabre datasets (the strokeMRI and TOP become one dataset)"
   ]
  },
  {
   "cell_type": "markdown",
   "id": "be45db67-b24a-409e-bb35-ca468a779ec2",
   "metadata": {
    "tags": []
   },
   "source": [
    "### import libraries"
   ]
  },
  {
   "cell_type": "code",
   "execution_count": 1,
   "id": "514ef9ea-48df-4f68-b440-77ee12cddefe",
   "metadata": {
    "tags": []
   },
   "outputs": [],
   "source": [
    "import os       # using operating system dependent functionality (folders)\n",
    "import sys\n",
    "\n",
    "import glob\n",
    "from functools import reduce\n",
    "\n",
    "import pandas as pd # data analysis and manipulation\n",
    "import numpy as np    # numerical computing (manipulating and performing operations on arrays of data)\n",
    "import matplotlib.pyplot as plt\n",
    "\n",
    "# # demo stuff\n",
    "# import ipywidgets as widgets\n",
    "# import seaborn \n",
    "\n",
    "# ml stuff\n",
    "from sklearn.model_selection import train_test_split\n",
    "from sklearn.preprocessing import StandardScaler\n",
    "#from sklearn.svm import SVC\n",
    "from sklearn.metrics import accuracy_score\n",
    "#from sklearn.linear_model import LogisticRegression\n",
    "from sklearn.linear_model import LinearRegression\n",
    "from sklearn import linear_model\n",
    "from sklearn import tree\n",
    "from sklearn import metrics\n",
    "from sklearn.linear_model import SGDRegressor\n",
    "from sklearn.metrics import confusion_matrix\n",
    "from sklearn.metrics import mean_absolute_error\n",
    "from sklearn.neighbors import KNeighborsClassifier\n",
    "from sklearn.svm import SVR\n",
    "from sklearn.neural_network import MLPRegressor\n",
    "from sklearn.linear_model import ElasticNetCV\n",
    "from sklearn.ensemble import ExtraTreesRegressor\n",
    "from sklearn.model_selection import StratifiedShuffleSplit\n",
    "from sklearn.model_selection import cross_val_score\n",
    "\n",
    "import joblib\n",
    "\n",
    "sys.path.insert(0, '../') # path to functions\n",
    "import cvasl.seperated as sep\n",
    "from cvasl.file_handler import Config"
   ]
  },
  {
   "cell_type": "markdown",
   "id": "b0e7da24-0537-44b4-85fb-e69c68c5ec9a",
   "metadata": {
    "tags": []
   },
   "source": [
    "### import data"
   ]
  },
  {
   "cell_type": "code",
   "execution_count": 2,
   "id": "5c2a832f-0e28-4000-9f9e-65edb0e578bc",
   "metadata": {
    "tags": []
   },
   "outputs": [],
   "source": [
    "filepath_mri_for_ids = '../open_work/internal_results/cleaned_pvc2s' \n",
    "filename_mri_for_ids = os.path.join(filepath_mri_for_ids,'StrokeMRI_pvc2c.csv') \n",
    "\n",
    "filepath_top_for_ids = '../open_work/internal_results/cleaned_pvc2s/' \n",
    "filename_top_for_ids = os.path.join(filepath_top_for_ids,'TOP_pvc2c.csv') \n",
    "\n",
    "filepath_topmri = '../open_work/internal_results/harmonized_pvc2s/requested_harm/' \n",
    "filename_topmri = os.path.join(filepath_topmri,'Rneuro_harm3way_topmri.csv') \n",
    "filepath_sabre = '../open_work/internal_results/harmonized_pvc2s/requested_harm/' \n",
    "filename_sabre = os.path.join(filepath_topmri,'Rneuro_harm3way_sabre.csv') \n",
    "filepath_insight46 = '../open_work/internal_results/harmonized_pvc2s/requested_harm/' \n",
    "filename_insight46 =  os.path.join(filepath_topmri,'Rneuro_harm3way_insight.csv') \n",
    "# read in data\n",
    "# TOP = pd.read_csv(filename_top)\n",
    "# StrokeMRI = pd.read_csv(filename_mri)\n",
    "TOPMRI = pd.read_csv(filename_topmri)\n",
    "SABRE = pd.read_csv(filename_sabre)\n",
    "Insight46 = pd.read_csv(filename_insight46)\n",
    "# take extra column off\n",
    "TOPMRI = TOPMRI.drop(TOPMRI.columns[0],axis=1)\n",
    "SABRE = SABRE.drop(SABRE.columns[0],axis=1)\n",
    "#StrokeMRI = StrokeMRI.drop(StrokeMRI.columns[0],axis=1)\n",
    "Insight46 = Insight46.drop(Insight46.columns[0],axis=1)\n",
    "IDS_TOP =  pd.read_csv(filename_top_for_ids)\n",
    "IDS_MRI =  pd.read_csv(filename_mri_for_ids)"
   ]
  },
  {
   "cell_type": "code",
   "execution_count": 3,
   "id": "61fa79d5-1fa5-401d-9ffd-1fb2762e03a2",
   "metadata": {
    "tags": []
   },
   "outputs": [
    {
     "data": {
      "text/html": [
       "<div>\n",
       "<style scoped>\n",
       "    .dataframe tbody tr th:only-of-type {\n",
       "        vertical-align: middle;\n",
       "    }\n",
       "\n",
       "    .dataframe tbody tr th {\n",
       "        vertical-align: top;\n",
       "    }\n",
       "\n",
       "    .dataframe thead th {\n",
       "        text-align: right;\n",
       "    }\n",
       "</style>\n",
       "<table border=\"1\" class=\"dataframe\">\n",
       "  <thead>\n",
       "    <tr style=\"text-align: right;\">\n",
       "      <th></th>\n",
       "      <th>participant_id</th>\n",
       "      <th>age</th>\n",
       "      <th>sex</th>\n",
       "      <th>gm_vol</th>\n",
       "      <th>wm_vol</th>\n",
       "      <th>csf_vol</th>\n",
       "      <th>gm_ivc_ratio</th>\n",
       "      <th>gmwm_ivc_ratio</th>\n",
       "      <th>wmh_vol</th>\n",
       "      <th>wmh_count</th>\n",
       "      <th>deepwm_b_cov</th>\n",
       "      <th>aca_b_cov</th>\n",
       "      <th>mca_b_cov</th>\n",
       "      <th>pca_b_cov</th>\n",
       "      <th>totalgm_b_cov</th>\n",
       "      <th>deepwm_b</th>\n",
       "      <th>aca_b</th>\n",
       "      <th>mca_b</th>\n",
       "      <th>pca_b</th>\n",
       "      <th>totalgm_b</th>\n",
       "    </tr>\n",
       "  </thead>\n",
       "  <tbody>\n",
       "    <tr>\n",
       "      <th>0</th>\n",
       "      <td>sub-0001_1_ses-1_run-1</td>\n",
       "      <td>43.49</td>\n",
       "      <td>1</td>\n",
       "      <td>0.689489</td>\n",
       "      <td>0.508614</td>\n",
       "      <td>0.277173</td>\n",
       "      <td>0.464584</td>\n",
       "      <td>0.464584</td>\n",
       "      <td>-2.815951</td>\n",
       "      <td>20.392622</td>\n",
       "      <td>21.711238</td>\n",
       "      <td>3.864851</td>\n",
       "      <td>3.899129</td>\n",
       "      <td>5.620340</td>\n",
       "      <td>4.367357</td>\n",
       "      <td>17.903946</td>\n",
       "      <td>75.351056</td>\n",
       "      <td>63.920141</td>\n",
       "      <td>49.334352</td>\n",
       "      <td>57.364434</td>\n",
       "    </tr>\n",
       "    <tr>\n",
       "      <th>1</th>\n",
       "      <td>sub-0002_1_ses-1_run-1</td>\n",
       "      <td>38.30</td>\n",
       "      <td>0</td>\n",
       "      <td>0.696103</td>\n",
       "      <td>0.605490</td>\n",
       "      <td>0.220125</td>\n",
       "      <td>0.453424</td>\n",
       "      <td>0.453424</td>\n",
       "      <td>-1.921805</td>\n",
       "      <td>20.378450</td>\n",
       "      <td>23.111355</td>\n",
       "      <td>2.908789</td>\n",
       "      <td>4.986781</td>\n",
       "      <td>2.169642</td>\n",
       "      <td>3.265270</td>\n",
       "      <td>19.353158</td>\n",
       "      <td>82.275813</td>\n",
       "      <td>73.601804</td>\n",
       "      <td>61.074299</td>\n",
       "      <td>68.184063</td>\n",
       "    </tr>\n",
       "    <tr>\n",
       "      <th>2</th>\n",
       "      <td>sub-0019_1_ses-1_run-1</td>\n",
       "      <td>32.30</td>\n",
       "      <td>1</td>\n",
       "      <td>0.684261</td>\n",
       "      <td>0.513501</td>\n",
       "      <td>0.304087</td>\n",
       "      <td>0.453051</td>\n",
       "      <td>0.453051</td>\n",
       "      <td>-3.306224</td>\n",
       "      <td>7.729002</td>\n",
       "      <td>15.244295</td>\n",
       "      <td>2.969291</td>\n",
       "      <td>1.960339</td>\n",
       "      <td>3.873684</td>\n",
       "      <td>3.389996</td>\n",
       "      <td>22.329981</td>\n",
       "      <td>88.908492</td>\n",
       "      <td>81.812966</td>\n",
       "      <td>59.787357</td>\n",
       "      <td>70.534912</td>\n",
       "    </tr>\n",
       "  </tbody>\n",
       "</table>\n",
       "</div>"
      ],
      "text/plain": [
       "           participant_id    age  sex    gm_vol    wm_vol   csf_vol  \\\n",
       "0  sub-0001_1_ses-1_run-1  43.49    1  0.689489  0.508614  0.277173   \n",
       "1  sub-0002_1_ses-1_run-1  38.30    0  0.696103  0.605490  0.220125   \n",
       "2  sub-0019_1_ses-1_run-1  32.30    1  0.684261  0.513501  0.304087   \n",
       "\n",
       "   gm_ivc_ratio  gmwm_ivc_ratio   wmh_vol  wmh_count  deepwm_b_cov  aca_b_cov  \\\n",
       "0      0.464584        0.464584 -2.815951  20.392622     21.711238   3.864851   \n",
       "1      0.453424        0.453424 -1.921805  20.378450     23.111355   2.908789   \n",
       "2      0.453051        0.453051 -3.306224   7.729002     15.244295   2.969291   \n",
       "\n",
       "   mca_b_cov  pca_b_cov  totalgm_b_cov   deepwm_b      aca_b      mca_b  \\\n",
       "0   3.899129   5.620340       4.367357  17.903946  75.351056  63.920141   \n",
       "1   4.986781   2.169642       3.265270  19.353158  82.275813  73.601804   \n",
       "2   1.960339   3.873684       3.389996  22.329981  88.908492  81.812966   \n",
       "\n",
       "       pca_b  totalgm_b  \n",
       "0  49.334352  57.364434  \n",
       "1  61.074299  68.184063  \n",
       "2  59.787357  70.534912  "
      ]
     },
     "execution_count": 3,
     "metadata": {},
     "output_type": "execute_result"
    }
   ],
   "source": [
    "# Now we need to flip the sex back to numbers for a correlation\n",
    "sex_mapping = {'F':0,'M':1}\n",
    "TOPMRI = TOPMRI.assign(sex = TOPMRI.sex.map(sex_mapping))\n",
    "TOPMRI.head(3)"
   ]
  },
  {
   "cell_type": "code",
   "execution_count": 4,
   "id": "0c902084-c9b8-49a7-aab3-00b86c8a9726",
   "metadata": {},
   "outputs": [],
   "source": [
    "Insight46 = Insight46.assign(sex = Insight46.sex.map(sex_mapping))\n",
    "#Insight46.head(3)"
   ]
  },
  {
   "cell_type": "code",
   "execution_count": 5,
   "id": "ca8cbc27-dd08-48d1-b3b7-95289e48670b",
   "metadata": {
    "tags": []
   },
   "outputs": [
    {
     "data": {
      "text/html": [
       "<div>\n",
       "<style scoped>\n",
       "    .dataframe tbody tr th:only-of-type {\n",
       "        vertical-align: middle;\n",
       "    }\n",
       "\n",
       "    .dataframe tbody tr th {\n",
       "        vertical-align: top;\n",
       "    }\n",
       "\n",
       "    .dataframe thead th {\n",
       "        text-align: right;\n",
       "    }\n",
       "</style>\n",
       "<table border=\"1\" class=\"dataframe\">\n",
       "  <thead>\n",
       "    <tr style=\"text-align: right;\">\n",
       "      <th></th>\n",
       "      <th>participant_id</th>\n",
       "      <th>age</th>\n",
       "      <th>sex</th>\n",
       "      <th>gm_vol</th>\n",
       "      <th>wm_vol</th>\n",
       "      <th>csf_vol</th>\n",
       "      <th>gm_ivc_ratio</th>\n",
       "      <th>gmwm_ivc_ratio</th>\n",
       "      <th>wmh_vol</th>\n",
       "      <th>wmh_count</th>\n",
       "      <th>deepwm_b_cov</th>\n",
       "      <th>aca_b_cov</th>\n",
       "      <th>mca_b_cov</th>\n",
       "      <th>pca_b_cov</th>\n",
       "      <th>totalgm_b_cov</th>\n",
       "      <th>deepwm_b</th>\n",
       "      <th>aca_b</th>\n",
       "      <th>mca_b</th>\n",
       "      <th>pca_b</th>\n",
       "      <th>totalgm_b</th>\n",
       "    </tr>\n",
       "  </thead>\n",
       "  <tbody>\n",
       "    <tr>\n",
       "      <th>0</th>\n",
       "      <td>sub-100096_1_ses-1_run-1</td>\n",
       "      <td>78</td>\n",
       "      <td>1</td>\n",
       "      <td>0.610012</td>\n",
       "      <td>0.482679</td>\n",
       "      <td>0.468053</td>\n",
       "      <td>0.387788</td>\n",
       "      <td>0.387788</td>\n",
       "      <td>9.071137</td>\n",
       "      <td>23.835812</td>\n",
       "      <td>6.123046</td>\n",
       "      <td>2.646049</td>\n",
       "      <td>2.824262</td>\n",
       "      <td>3.364733</td>\n",
       "      <td>2.815808</td>\n",
       "      <td>24.110961</td>\n",
       "      <td>84.664600</td>\n",
       "      <td>75.440922</td>\n",
       "      <td>50.074196</td>\n",
       "      <td>63.486280</td>\n",
       "    </tr>\n",
       "    <tr>\n",
       "      <th>1</th>\n",
       "      <td>sub-100331_1_ses-1_run-1</td>\n",
       "      <td>71</td>\n",
       "      <td>1</td>\n",
       "      <td>0.587432</td>\n",
       "      <td>0.460086</td>\n",
       "      <td>0.521217</td>\n",
       "      <td>0.370808</td>\n",
       "      <td>0.370808</td>\n",
       "      <td>5.741298</td>\n",
       "      <td>25.789411</td>\n",
       "      <td>8.420838</td>\n",
       "      <td>3.567374</td>\n",
       "      <td>3.018827</td>\n",
       "      <td>3.007536</td>\n",
       "      <td>2.901729</td>\n",
       "      <td>17.390889</td>\n",
       "      <td>44.479919</td>\n",
       "      <td>37.446087</td>\n",
       "      <td>31.890621</td>\n",
       "      <td>35.017552</td>\n",
       "    </tr>\n",
       "    <tr>\n",
       "      <th>2</th>\n",
       "      <td>sub-102285_1_ses-1_run-1</td>\n",
       "      <td>72</td>\n",
       "      <td>1</td>\n",
       "      <td>0.617110</td>\n",
       "      <td>0.524304</td>\n",
       "      <td>0.408980</td>\n",
       "      <td>0.397435</td>\n",
       "      <td>0.397435</td>\n",
       "      <td>6.510194</td>\n",
       "      <td>27.461341</td>\n",
       "      <td>11.441511</td>\n",
       "      <td>3.521370</td>\n",
       "      <td>3.312764</td>\n",
       "      <td>3.073432</td>\n",
       "      <td>3.131330</td>\n",
       "      <td>22.453420</td>\n",
       "      <td>61.511213</td>\n",
       "      <td>50.596122</td>\n",
       "      <td>40.008961</td>\n",
       "      <td>45.734230</td>\n",
       "    </tr>\n",
       "  </tbody>\n",
       "</table>\n",
       "</div>"
      ],
      "text/plain": [
       "             participant_id  age  sex    gm_vol    wm_vol   csf_vol  \\\n",
       "0  sub-100096_1_ses-1_run-1   78    1  0.610012  0.482679  0.468053   \n",
       "1  sub-100331_1_ses-1_run-1   71    1  0.587432  0.460086  0.521217   \n",
       "2  sub-102285_1_ses-1_run-1   72    1  0.617110  0.524304  0.408980   \n",
       "\n",
       "   gm_ivc_ratio  gmwm_ivc_ratio   wmh_vol  wmh_count  deepwm_b_cov  aca_b_cov  \\\n",
       "0      0.387788        0.387788  9.071137  23.835812      6.123046   2.646049   \n",
       "1      0.370808        0.370808  5.741298  25.789411      8.420838   3.567374   \n",
       "2      0.397435        0.397435  6.510194  27.461341     11.441511   3.521370   \n",
       "\n",
       "   mca_b_cov  pca_b_cov  totalgm_b_cov   deepwm_b      aca_b      mca_b  \\\n",
       "0   2.824262   3.364733       2.815808  24.110961  84.664600  75.440922   \n",
       "1   3.018827   3.007536       2.901729  17.390889  44.479919  37.446087   \n",
       "2   3.312764   3.073432       3.131330  22.453420  61.511213  50.596122   \n",
       "\n",
       "       pca_b  totalgm_b  \n",
       "0  50.074196  63.486280  \n",
       "1  31.890621  35.017552  \n",
       "2  40.008961  45.734230  "
      ]
     },
     "execution_count": 5,
     "metadata": {},
     "output_type": "execute_result"
    }
   ],
   "source": [
    "coly = TOPMRI.columns\n",
    "SABRE = SABRE.assign(sex = SABRE.sex.map(sex_mapping))\n",
    "SABRE = SABRE[coly]\n",
    "SABRE.head(3)"
   ]
  },
  {
   "cell_type": "code",
   "execution_count": 6,
   "id": "38548448-86cc-42bc-9d18-f4575fbd91d1",
   "metadata": {
    "tags": []
   },
   "outputs": [],
   "source": [
    "SABRE =SABRE.dropna()\n",
    "#SABRE.isna().sum()"
   ]
  },
  {
   "cell_type": "markdown",
   "id": "df9a9850-d70d-47ba-9754-dd0345061d40",
   "metadata": {},
   "source": [
    "# Now we need to break up the top and MRI datasets as well, and format them like the others"
   ]
  },
  {
   "cell_type": "code",
   "execution_count": null,
   "id": "e8417675-13b8-42f3-b214-ff7f3c30bf7e",
   "metadata": {
    "tags": []
   },
   "outputs": [],
   "source": []
  },
  {
   "cell_type": "code",
   "execution_count": 7,
   "id": "0bc77985-9a12-46fc-970d-1e3c0ff780fb",
   "metadata": {
    "tags": []
   },
   "outputs": [
    {
     "data": {
      "text/html": [
       "<div>\n",
       "<style scoped>\n",
       "    .dataframe tbody tr th:only-of-type {\n",
       "        vertical-align: middle;\n",
       "    }\n",
       "\n",
       "    .dataframe tbody tr th {\n",
       "        vertical-align: top;\n",
       "    }\n",
       "\n",
       "    .dataframe thead th {\n",
       "        text-align: right;\n",
       "    }\n",
       "</style>\n",
       "<table border=\"1\" class=\"dataframe\">\n",
       "  <thead>\n",
       "    <tr style=\"text-align: right;\">\n",
       "      <th></th>\n",
       "      <th>participant_id</th>\n",
       "      <th>age</th>\n",
       "      <th>sex</th>\n",
       "      <th>gm_vol</th>\n",
       "      <th>wm_vol</th>\n",
       "      <th>csf_vol</th>\n",
       "      <th>gm_ivc_ratio</th>\n",
       "      <th>gmwm_ivc_ratio</th>\n",
       "      <th>wmh_vol</th>\n",
       "      <th>wmh_count</th>\n",
       "      <th>deepwm_b_cov</th>\n",
       "      <th>aca_b_cov</th>\n",
       "      <th>mca_b_cov</th>\n",
       "      <th>pca_b_cov</th>\n",
       "      <th>totalgm_b_cov</th>\n",
       "      <th>deepwm_b</th>\n",
       "      <th>aca_b</th>\n",
       "      <th>mca_b</th>\n",
       "      <th>pca_b</th>\n",
       "      <th>totalgm_b</th>\n",
       "    </tr>\n",
       "  </thead>\n",
       "  <tbody>\n",
       "    <tr>\n",
       "      <th>0</th>\n",
       "      <td>sub-0001_1_ses-1_run-1</td>\n",
       "      <td>43.49</td>\n",
       "      <td>1</td>\n",
       "      <td>0.689489</td>\n",
       "      <td>0.508614</td>\n",
       "      <td>0.277173</td>\n",
       "      <td>0.464584</td>\n",
       "      <td>0.464584</td>\n",
       "      <td>-2.815951</td>\n",
       "      <td>20.392622</td>\n",
       "      <td>21.711238</td>\n",
       "      <td>3.864851</td>\n",
       "      <td>3.899129</td>\n",
       "      <td>5.620340</td>\n",
       "      <td>4.367357</td>\n",
       "      <td>17.903946</td>\n",
       "      <td>75.351056</td>\n",
       "      <td>63.920141</td>\n",
       "      <td>49.334352</td>\n",
       "      <td>57.364434</td>\n",
       "    </tr>\n",
       "    <tr>\n",
       "      <th>1</th>\n",
       "      <td>sub-0002_1_ses-1_run-1</td>\n",
       "      <td>38.30</td>\n",
       "      <td>0</td>\n",
       "      <td>0.696103</td>\n",
       "      <td>0.605490</td>\n",
       "      <td>0.220125</td>\n",
       "      <td>0.453424</td>\n",
       "      <td>0.453424</td>\n",
       "      <td>-1.921805</td>\n",
       "      <td>20.378450</td>\n",
       "      <td>23.111355</td>\n",
       "      <td>2.908789</td>\n",
       "      <td>4.986781</td>\n",
       "      <td>2.169642</td>\n",
       "      <td>3.265270</td>\n",
       "      <td>19.353158</td>\n",
       "      <td>82.275813</td>\n",
       "      <td>73.601804</td>\n",
       "      <td>61.074299</td>\n",
       "      <td>68.184063</td>\n",
       "    </tr>\n",
       "    <tr>\n",
       "      <th>2</th>\n",
       "      <td>sub-0019_1_ses-1_run-1</td>\n",
       "      <td>32.30</td>\n",
       "      <td>1</td>\n",
       "      <td>0.684261</td>\n",
       "      <td>0.513501</td>\n",
       "      <td>0.304087</td>\n",
       "      <td>0.453051</td>\n",
       "      <td>0.453051</td>\n",
       "      <td>-3.306224</td>\n",
       "      <td>7.729002</td>\n",
       "      <td>15.244295</td>\n",
       "      <td>2.969291</td>\n",
       "      <td>1.960339</td>\n",
       "      <td>3.873684</td>\n",
       "      <td>3.389996</td>\n",
       "      <td>22.329981</td>\n",
       "      <td>88.908492</td>\n",
       "      <td>81.812966</td>\n",
       "      <td>59.787357</td>\n",
       "      <td>70.534912</td>\n",
       "    </tr>\n",
       "  </tbody>\n",
       "</table>\n",
       "</div>"
      ],
      "text/plain": [
       "           participant_id    age  sex    gm_vol    wm_vol   csf_vol  \\\n",
       "0  sub-0001_1_ses-1_run-1  43.49    1  0.689489  0.508614  0.277173   \n",
       "1  sub-0002_1_ses-1_run-1  38.30    0  0.696103  0.605490  0.220125   \n",
       "2  sub-0019_1_ses-1_run-1  32.30    1  0.684261  0.513501  0.304087   \n",
       "\n",
       "   gm_ivc_ratio  gmwm_ivc_ratio   wmh_vol  wmh_count  deepwm_b_cov  aca_b_cov  \\\n",
       "0      0.464584        0.464584 -2.815951  20.392622     21.711238   3.864851   \n",
       "1      0.453424        0.453424 -1.921805  20.378450     23.111355   2.908789   \n",
       "2      0.453051        0.453051 -3.306224   7.729002     15.244295   2.969291   \n",
       "\n",
       "   mca_b_cov  pca_b_cov  totalgm_b_cov   deepwm_b      aca_b      mca_b  \\\n",
       "0   3.899129   5.620340       4.367357  17.903946  75.351056  63.920141   \n",
       "1   4.986781   2.169642       3.265270  19.353158  82.275813  73.601804   \n",
       "2   1.960339   3.873684       3.389996  22.329981  88.908492  81.812966   \n",
       "\n",
       "       pca_b  totalgm_b  \n",
       "0  49.334352  57.364434  \n",
       "1  61.074299  68.184063  \n",
       "2  59.787357  70.534912  "
      ]
     },
     "execution_count": 7,
     "metadata": {},
     "output_type": "execute_result"
    }
   ],
   "source": [
    "set_top_ids = set(IDS_TOP.participant_id)\n",
    "set_mri_ids = set(IDS_MRI.participant_id)\n",
    "StrokeMRI = TOPMRI[TOPMRI['participant_id'].isin(list(set_mri_ids))]\n",
    "TOP = TOPMRI[TOPMRI['participant_id'].isin(list(set_top_ids))]\n",
    "TOP.head(3)"
   ]
  },
  {
   "cell_type": "code",
   "execution_count": 8,
   "id": "6e755c84-ff13-43ba-933d-22d56b1ded12",
   "metadata": {
    "tags": []
   },
   "outputs": [
    {
     "data": {
      "text/html": [
       "<div>\n",
       "<style scoped>\n",
       "    .dataframe tbody tr th:only-of-type {\n",
       "        vertical-align: middle;\n",
       "    }\n",
       "\n",
       "    .dataframe tbody tr th {\n",
       "        vertical-align: top;\n",
       "    }\n",
       "\n",
       "    .dataframe thead th {\n",
       "        text-align: right;\n",
       "    }\n",
       "</style>\n",
       "<table border=\"1\" class=\"dataframe\">\n",
       "  <thead>\n",
       "    <tr style=\"text-align: right;\">\n",
       "      <th></th>\n",
       "      <th>participant_id</th>\n",
       "      <th>age</th>\n",
       "      <th>sex</th>\n",
       "      <th>gm_vol</th>\n",
       "      <th>wm_vol</th>\n",
       "      <th>csf_vol</th>\n",
       "      <th>gm_ivc_ratio</th>\n",
       "      <th>gmwm_ivc_ratio</th>\n",
       "      <th>wmh_vol</th>\n",
       "      <th>wmh_count</th>\n",
       "      <th>deepwm_b_cov</th>\n",
       "      <th>aca_b_cov</th>\n",
       "      <th>mca_b_cov</th>\n",
       "      <th>pca_b_cov</th>\n",
       "      <th>totalgm_b_cov</th>\n",
       "      <th>deepwm_b</th>\n",
       "      <th>aca_b</th>\n",
       "      <th>mca_b</th>\n",
       "      <th>pca_b</th>\n",
       "      <th>totalgm_b</th>\n",
       "    </tr>\n",
       "  </thead>\n",
       "  <tbody>\n",
       "    <tr>\n",
       "      <th>527</th>\n",
       "      <td>sub-59082_1_ses-1_run-1</td>\n",
       "      <td>43.172603</td>\n",
       "      <td>NaN</td>\n",
       "      <td>0.619625</td>\n",
       "      <td>0.475143</td>\n",
       "      <td>0.282154</td>\n",
       "      <td>0.447639</td>\n",
       "      <td>0.447639</td>\n",
       "      <td>-2.768004</td>\n",
       "      <td>21.237884</td>\n",
       "      <td>21.007739</td>\n",
       "      <td>2.694430</td>\n",
       "      <td>3.116515</td>\n",
       "      <td>2.494894</td>\n",
       "      <td>3.001890</td>\n",
       "      <td>22.072651</td>\n",
       "      <td>99.092903</td>\n",
       "      <td>85.901007</td>\n",
       "      <td>71.422761</td>\n",
       "      <td>80.740415</td>\n",
       "    </tr>\n",
       "    <tr>\n",
       "      <th>528</th>\n",
       "      <td>sub-59083_1_ses-1_run-1</td>\n",
       "      <td>66.367123</td>\n",
       "      <td>NaN</td>\n",
       "      <td>0.577321</td>\n",
       "      <td>0.466753</td>\n",
       "      <td>0.394898</td>\n",
       "      <td>0.402171</td>\n",
       "      <td>0.402171</td>\n",
       "      <td>11.695904</td>\n",
       "      <td>20.710557</td>\n",
       "      <td>14.234537</td>\n",
       "      <td>3.145519</td>\n",
       "      <td>1.878500</td>\n",
       "      <td>5.508759</td>\n",
       "      <td>2.754050</td>\n",
       "      <td>20.647118</td>\n",
       "      <td>70.595906</td>\n",
       "      <td>60.898762</td>\n",
       "      <td>63.114804</td>\n",
       "      <td>63.590018</td>\n",
       "    </tr>\n",
       "    <tr>\n",
       "      <th>529</th>\n",
       "      <td>sub-59085_1_ses-1_run-1</td>\n",
       "      <td>55.838356</td>\n",
       "      <td>NaN</td>\n",
       "      <td>0.589340</td>\n",
       "      <td>0.518880</td>\n",
       "      <td>0.302086</td>\n",
       "      <td>0.415564</td>\n",
       "      <td>0.415564</td>\n",
       "      <td>2.449953</td>\n",
       "      <td>27.648636</td>\n",
       "      <td>14.348818</td>\n",
       "      <td>2.771326</td>\n",
       "      <td>3.100342</td>\n",
       "      <td>3.604489</td>\n",
       "      <td>3.081356</td>\n",
       "      <td>22.857563</td>\n",
       "      <td>75.977349</td>\n",
       "      <td>68.547695</td>\n",
       "      <td>57.958144</td>\n",
       "      <td>60.921869</td>\n",
       "    </tr>\n",
       "  </tbody>\n",
       "</table>\n",
       "</div>"
      ],
      "text/plain": [
       "              participant_id        age  sex    gm_vol    wm_vol   csf_vol  \\\n",
       "527  sub-59082_1_ses-1_run-1  43.172603  NaN  0.619625  0.475143  0.282154   \n",
       "528  sub-59083_1_ses-1_run-1  66.367123  NaN  0.577321  0.466753  0.394898   \n",
       "529  sub-59085_1_ses-1_run-1  55.838356  NaN  0.589340  0.518880  0.302086   \n",
       "\n",
       "     gm_ivc_ratio  gmwm_ivc_ratio    wmh_vol  wmh_count  deepwm_b_cov  \\\n",
       "527      0.447639        0.447639  -2.768004  21.237884     21.007739   \n",
       "528      0.402171        0.402171  11.695904  20.710557     14.234537   \n",
       "529      0.415564        0.415564   2.449953  27.648636     14.348818   \n",
       "\n",
       "     aca_b_cov  mca_b_cov  pca_b_cov  totalgm_b_cov   deepwm_b      aca_b  \\\n",
       "527   2.694430   3.116515   2.494894       3.001890  22.072651  99.092903   \n",
       "528   3.145519   1.878500   5.508759       2.754050  20.647118  70.595906   \n",
       "529   2.771326   3.100342   3.604489       3.081356  22.857563  75.977349   \n",
       "\n",
       "         mca_b      pca_b  totalgm_b  \n",
       "527  85.901007  71.422761  80.740415  \n",
       "528  60.898762  63.114804  63.590018  \n",
       "529  68.547695  57.958144  60.921869  "
      ]
     },
     "execution_count": 8,
     "metadata": {},
     "output_type": "execute_result"
    }
   ],
   "source": [
    "StrokeMRI = StrokeMRI.assign(sex = StrokeMRI.sex.map(sex_mapping))\n",
    "StrokeMRI.head(3)"
   ]
  },
  {
   "cell_type": "code",
   "execution_count": 9,
   "id": "1461b00d-2c3f-4516-ad00-35dff6b128a5",
   "metadata": {
    "tags": []
   },
   "outputs": [
    {
     "data": {
      "text/html": [
       "<div>\n",
       "<style scoped>\n",
       "    .dataframe tbody tr th:only-of-type {\n",
       "        vertical-align: middle;\n",
       "    }\n",
       "\n",
       "    .dataframe tbody tr th {\n",
       "        vertical-align: top;\n",
       "    }\n",
       "\n",
       "    .dataframe thead th {\n",
       "        text-align: right;\n",
       "    }\n",
       "</style>\n",
       "<table border=\"1\" class=\"dataframe\">\n",
       "  <thead>\n",
       "    <tr style=\"text-align: right;\">\n",
       "      <th></th>\n",
       "      <th>participant_id</th>\n",
       "      <th>age</th>\n",
       "      <th>sex</th>\n",
       "      <th>gm_vol</th>\n",
       "      <th>wm_vol</th>\n",
       "      <th>csf_vol</th>\n",
       "      <th>gm_ivc_ratio</th>\n",
       "      <th>gmwm_ivc_ratio</th>\n",
       "      <th>wmh_vol</th>\n",
       "      <th>wmh_count</th>\n",
       "      <th>deepwm_b_cov</th>\n",
       "      <th>aca_b_cov</th>\n",
       "      <th>mca_b_cov</th>\n",
       "      <th>pca_b_cov</th>\n",
       "      <th>totalgm_b_cov</th>\n",
       "      <th>deepwm_b</th>\n",
       "      <th>aca_b</th>\n",
       "      <th>mca_b</th>\n",
       "      <th>pca_b</th>\n",
       "      <th>totalgm_b</th>\n",
       "    </tr>\n",
       "  </thead>\n",
       "  <tbody>\n",
       "    <tr>\n",
       "      <th>0</th>\n",
       "      <td>sub-0001_1_ses-1_run-1</td>\n",
       "      <td>43.49</td>\n",
       "      <td>NaN</td>\n",
       "      <td>0.689489</td>\n",
       "      <td>0.508614</td>\n",
       "      <td>0.277173</td>\n",
       "      <td>0.464584</td>\n",
       "      <td>0.464584</td>\n",
       "      <td>-2.815951</td>\n",
       "      <td>20.392622</td>\n",
       "      <td>21.711238</td>\n",
       "      <td>3.864851</td>\n",
       "      <td>3.899129</td>\n",
       "      <td>5.620340</td>\n",
       "      <td>4.367357</td>\n",
       "      <td>17.903946</td>\n",
       "      <td>75.351056</td>\n",
       "      <td>63.920141</td>\n",
       "      <td>49.334352</td>\n",
       "      <td>57.364434</td>\n",
       "    </tr>\n",
       "    <tr>\n",
       "      <th>1</th>\n",
       "      <td>sub-0002_1_ses-1_run-1</td>\n",
       "      <td>38.30</td>\n",
       "      <td>NaN</td>\n",
       "      <td>0.696103</td>\n",
       "      <td>0.605490</td>\n",
       "      <td>0.220125</td>\n",
       "      <td>0.453424</td>\n",
       "      <td>0.453424</td>\n",
       "      <td>-1.921805</td>\n",
       "      <td>20.378450</td>\n",
       "      <td>23.111355</td>\n",
       "      <td>2.908789</td>\n",
       "      <td>4.986781</td>\n",
       "      <td>2.169642</td>\n",
       "      <td>3.265270</td>\n",
       "      <td>19.353158</td>\n",
       "      <td>82.275813</td>\n",
       "      <td>73.601804</td>\n",
       "      <td>61.074299</td>\n",
       "      <td>68.184063</td>\n",
       "    </tr>\n",
       "    <tr>\n",
       "      <th>2</th>\n",
       "      <td>sub-0019_1_ses-1_run-1</td>\n",
       "      <td>32.30</td>\n",
       "      <td>NaN</td>\n",
       "      <td>0.684261</td>\n",
       "      <td>0.513501</td>\n",
       "      <td>0.304087</td>\n",
       "      <td>0.453051</td>\n",
       "      <td>0.453051</td>\n",
       "      <td>-3.306224</td>\n",
       "      <td>7.729002</td>\n",
       "      <td>15.244295</td>\n",
       "      <td>2.969291</td>\n",
       "      <td>1.960339</td>\n",
       "      <td>3.873684</td>\n",
       "      <td>3.389996</td>\n",
       "      <td>22.329981</td>\n",
       "      <td>88.908492</td>\n",
       "      <td>81.812966</td>\n",
       "      <td>59.787357</td>\n",
       "      <td>70.534912</td>\n",
       "    </tr>\n",
       "  </tbody>\n",
       "</table>\n",
       "</div>"
      ],
      "text/plain": [
       "           participant_id    age  sex    gm_vol    wm_vol   csf_vol  \\\n",
       "0  sub-0001_1_ses-1_run-1  43.49  NaN  0.689489  0.508614  0.277173   \n",
       "1  sub-0002_1_ses-1_run-1  38.30  NaN  0.696103  0.605490  0.220125   \n",
       "2  sub-0019_1_ses-1_run-1  32.30  NaN  0.684261  0.513501  0.304087   \n",
       "\n",
       "   gm_ivc_ratio  gmwm_ivc_ratio   wmh_vol  wmh_count  deepwm_b_cov  aca_b_cov  \\\n",
       "0      0.464584        0.464584 -2.815951  20.392622     21.711238   3.864851   \n",
       "1      0.453424        0.453424 -1.921805  20.378450     23.111355   2.908789   \n",
       "2      0.453051        0.453051 -3.306224   7.729002     15.244295   2.969291   \n",
       "\n",
       "   mca_b_cov  pca_b_cov  totalgm_b_cov   deepwm_b      aca_b      mca_b  \\\n",
       "0   3.899129   5.620340       4.367357  17.903946  75.351056  63.920141   \n",
       "1   4.986781   2.169642       3.265270  19.353158  82.275813  73.601804   \n",
       "2   1.960339   3.873684       3.389996  22.329981  88.908492  81.812966   \n",
       "\n",
       "       pca_b  totalgm_b  \n",
       "0  49.334352  57.364434  \n",
       "1  61.074299  68.184063  \n",
       "2  59.787357  70.534912  "
      ]
     },
     "execution_count": 9,
     "metadata": {},
     "output_type": "execute_result"
    }
   ],
   "source": [
    "TOP = TOP.assign(sex = TOP.sex.map(sex_mapping))\n",
    "TOP.head(3)"
   ]
  },
  {
   "cell_type": "code",
   "execution_count": 10,
   "id": "b9efbca7-4d32-4371-94ea-42cd3cb9ba3b",
   "metadata": {
    "tags": []
   },
   "outputs": [
    {
     "name": "stdout",
     "output_type": "stream",
     "text": [
      "set()\n"
     ]
    }
   ],
   "source": [
    "# check for any duplicated patients between stroke and mri\n",
    "strokers = set(StrokeMRI.participant_id)\n",
    "topers = set(TOP.participant_id)\n",
    "z = strokers.intersection(topers)\n",
    "print(z) "
   ]
  },
  {
   "cell_type": "code",
   "execution_count": 11,
   "id": "e59d0741-040c-4265-a2b5-5dfbd37214e1",
   "metadata": {
    "tags": []
   },
   "outputs": [],
   "source": [
    "# make mixed StrokeMRI and TOP dataset\n",
    "#mixed_data = pd.concat([TOP, StrokeMRI], sort=False)\n",
    "mixed_data = TOPMRI"
   ]
  },
  {
   "cell_type": "markdown",
   "id": "f0c08947-d926-416e-92c4-7a644618a456",
   "metadata": {},
   "source": [
    "## Build ML models"
   ]
  },
  {
   "cell_type": "markdown",
   "id": "342956e4-4d11-45dd-94ce-f480813e5a4c",
   "metadata": {},
   "source": [
    "# keeping patient ID until right when model is fed, then use patient ID as key to what went where"
   ]
  },
  {
   "cell_type": "code",
   "execution_count": 12,
   "id": "0e8b41eb-3b29-46e2-9627-85627d2d7da8",
   "metadata": {
    "tags": []
   },
   "outputs": [],
   "source": [
    "ml_matrix = mixed_data #.drop('participant_id', axis=1)\n",
    "X = ml_matrix.drop('age', axis =1)\n",
    "X = X.values\n",
    "y = ml_matrix['age'].values\n",
    "y=y.astype('float')\n"
   ]
  },
  {
   "cell_type": "code",
   "execution_count": 13,
   "id": "6b707d30-686b-492d-96c1-4a5e01a166d2",
   "metadata": {
    "tags": []
   },
   "outputs": [],
   "source": [
    "#X_train, X_test, y_train, y_test = train_test_split(X, y, test_size=0.25, random_state=12)"
   ]
  },
  {
   "cell_type": "code",
   "execution_count": 14,
   "id": "a745e96c-b85b-4235-98b2-fcab31e0cb51",
   "metadata": {
    "tags": []
   },
   "outputs": [],
   "source": [
    "# X_train_cut = X_train[:,1:]\n",
    "# X_train_cut = X_train_cut.astype('float')\n",
    "# X_train_cut.shape"
   ]
  },
  {
   "cell_type": "code",
   "execution_count": 15,
   "id": "94c3b19b-57b2-4f79-95da-9fc45bcf6ff9",
   "metadata": {
    "tags": []
   },
   "outputs": [],
   "source": [
    "# X_test_cut = X_test[:,1:]\n",
    "# X_test_cut = X_test_cut.astype('float')\n",
    "# X_test_cut.shape"
   ]
  },
  {
   "cell_type": "code",
   "execution_count": 16,
   "id": "2a8cf471-55c9-4d99-8379-f83d2a69701b",
   "metadata": {
    "tags": []
   },
   "outputs": [
    {
     "name": "stdout",
     "output_type": "stream",
     "text": [
      "StratifiedShuffleSplit(n_splits=5, random_state=12, test_size=0.25,\n",
      "            train_size=None)\n",
      "Whole dataset shape: X (1041, 18), y (1041,)\n",
      "Classes: [0 1], percentages: [54.75504323 45.24495677]\n",
      "\n",
      "Fold 0:\n",
      "Train shapes: X (780, 18)  y (780,)\n",
      "Sex classes: [0 1] percentages: [54.74358974 45.25641026]\n",
      "\n",
      "Test shapes: X (261, 18)   y (261,)\n",
      "Sex classes: [0 1],percentages: [54.78927203 45.21072797]\n",
      "\n",
      "Fold 1:\n",
      "Train shapes: X (780, 18)  y (780,)\n",
      "Sex classes: [0 1] percentages: [54.74358974 45.25641026]\n",
      "\n",
      "Test shapes: X (261, 18)   y (261,)\n",
      "Sex classes: [0 1],percentages: [54.78927203 45.21072797]\n",
      "\n",
      "Fold 2:\n",
      "Train shapes: X (780, 18)  y (780,)\n",
      "Sex classes: [0 1] percentages: [54.74358974 45.25641026]\n",
      "\n",
      "Test shapes: X (261, 18)   y (261,)\n",
      "Sex classes: [0 1],percentages: [54.78927203 45.21072797]\n",
      "\n",
      "Fold 3:\n",
      "Train shapes: X (780, 18)  y (780,)\n",
      "Sex classes: [0 1] percentages: [54.74358974 45.25641026]\n",
      "\n",
      "Test shapes: X (261, 18)   y (261,)\n",
      "Sex classes: [0 1],percentages: [54.78927203 45.21072797]\n",
      "\n",
      "Fold 4:\n",
      "Train shapes: X (780, 18)  y (780,)\n",
      "Sex classes: [0 1] percentages: [54.74358974 45.25641026]\n",
      "\n",
      "Test shapes: X (261, 18)   y (261,)\n",
      "Sex classes: [0 1],percentages: [54.78927203 45.21072797]\n"
     ]
    }
   ],
   "source": [
    "linr_k_frame, linr_y_frame, models = sep.frame_a_model_sex_split('linear regression', 'req_neuroharm_mix_linr', LinearRegression(), ml_matrix, X[:,1:], y)"
   ]
  },
  {
   "cell_type": "code",
   "execution_count": 17,
   "id": "7ff12459-1935-4999-9b3d-82602f802e9a",
   "metadata": {
    "tags": []
   },
   "outputs": [
    {
     "data": {
      "text/html": [
       "<div>\n",
       "<style scoped>\n",
       "    .dataframe tbody tr th:only-of-type {\n",
       "        vertical-align: middle;\n",
       "    }\n",
       "\n",
       "    .dataframe tbody tr th {\n",
       "        vertical-align: top;\n",
       "    }\n",
       "\n",
       "    .dataframe thead th {\n",
       "        text-align: right;\n",
       "    }\n",
       "</style>\n",
       "<table border=\"1\" class=\"dataframe\">\n",
       "  <thead>\n",
       "    <tr style=\"text-align: right;\">\n",
       "      <th></th>\n",
       "      <th>algorithm</th>\n",
       "      <th>fold</th>\n",
       "      <th>file_name</th>\n",
       "      <th>mae</th>\n",
       "      <th>r2</th>\n",
       "      <th>explained_variance</th>\n",
       "    </tr>\n",
       "  </thead>\n",
       "  <tbody>\n",
       "    <tr>\n",
       "      <th>0</th>\n",
       "      <td>linear regression0</td>\n",
       "      <td>0</td>\n",
       "      <td>req_neuroharm_mix_linr0.sav</td>\n",
       "      <td>4.907224</td>\n",
       "      <td>0.862544</td>\n",
       "      <td>0.863021</td>\n",
       "    </tr>\n",
       "    <tr>\n",
       "      <th>0</th>\n",
       "      <td>linear regression1</td>\n",
       "      <td>1</td>\n",
       "      <td>req_neuroharm_mix_linr1.sav</td>\n",
       "      <td>5.667130</td>\n",
       "      <td>-0.344027</td>\n",
       "      <td>-0.342165</td>\n",
       "    </tr>\n",
       "    <tr>\n",
       "      <th>0</th>\n",
       "      <td>linear regression2</td>\n",
       "      <td>2</td>\n",
       "      <td>req_neuroharm_mix_linr2.sav</td>\n",
       "      <td>5.153548</td>\n",
       "      <td>0.852971</td>\n",
       "      <td>0.853906</td>\n",
       "    </tr>\n",
       "    <tr>\n",
       "      <th>0</th>\n",
       "      <td>linear regression3</td>\n",
       "      <td>3</td>\n",
       "      <td>req_neuroharm_mix_linr3.sav</td>\n",
       "      <td>4.625221</td>\n",
       "      <td>0.886533</td>\n",
       "      <td>0.887310</td>\n",
       "    </tr>\n",
       "    <tr>\n",
       "      <th>0</th>\n",
       "      <td>linear regression4</td>\n",
       "      <td>4</td>\n",
       "      <td>req_neuroharm_mix_linr4.sav</td>\n",
       "      <td>5.779041</td>\n",
       "      <td>-0.601456</td>\n",
       "      <td>-0.587740</td>\n",
       "    </tr>\n",
       "  </tbody>\n",
       "</table>\n",
       "</div>"
      ],
      "text/plain": [
       "            algorithm fold                    file_name       mae        r2  \\\n",
       "0  linear regression0    0  req_neuroharm_mix_linr0.sav  4.907224  0.862544   \n",
       "0  linear regression1    1  req_neuroharm_mix_linr1.sav  5.667130 -0.344027   \n",
       "0  linear regression2    2  req_neuroharm_mix_linr2.sav  5.153548  0.852971   \n",
       "0  linear regression3    3  req_neuroharm_mix_linr3.sav  4.625221  0.886533   \n",
       "0  linear regression4    4  req_neuroharm_mix_linr4.sav  5.779041 -0.601456   \n",
       "\n",
       "   explained_variance  \n",
       "0            0.863021  \n",
       "0           -0.342165  \n",
       "0            0.853906  \n",
       "0            0.887310  \n",
       "0           -0.587740  "
      ]
     },
     "execution_count": 17,
     "metadata": {},
     "output_type": "execute_result"
    }
   ],
   "source": [
    "linr_k_frame"
   ]
  },
  {
   "cell_type": "code",
   "execution_count": 18,
   "id": "2082e609-ae7d-4dcb-9fc8-140b6161398a",
   "metadata": {
    "tags": []
   },
   "outputs": [
    {
     "data": {
      "text/html": [
       "<div>\n",
       "<style scoped>\n",
       "    .dataframe tbody tr th:only-of-type {\n",
       "        vertical-align: middle;\n",
       "    }\n",
       "\n",
       "    .dataframe tbody tr th {\n",
       "        vertical-align: top;\n",
       "    }\n",
       "\n",
       "    .dataframe thead th {\n",
       "        text-align: right;\n",
       "    }\n",
       "</style>\n",
       "<table border=\"1\" class=\"dataframe\">\n",
       "  <thead>\n",
       "    <tr style=\"text-align: right;\">\n",
       "      <th></th>\n",
       "      <th>algorithm</th>\n",
       "      <th>file_name</th>\n",
       "      <th>mae</th>\n",
       "      <th>r2</th>\n",
       "      <th>explained_variance</th>\n",
       "    </tr>\n",
       "  </thead>\n",
       "  <tbody>\n",
       "    <tr>\n",
       "      <th>0</th>\n",
       "      <td>0    linear regression0\n",
       "0    linear regression...</td>\n",
       "      <td>0    req_neuroharm_mix_linr0.sav\n",
       "0    req_neur...</td>\n",
       "      <td>5.226433</td>\n",
       "      <td>0.331313</td>\n",
       "      <td>0.334867</td>\n",
       "    </tr>\n",
       "  </tbody>\n",
       "</table>\n",
       "</div>"
      ],
      "text/plain": [
       "                                           algorithm  \\\n",
       "0  0    linear regression0\n",
       "0    linear regression...   \n",
       "\n",
       "                                           file_name       mae        r2  \\\n",
       "0  0    req_neuroharm_mix_linr0.sav\n",
       "0    req_neur...  5.226433  0.331313   \n",
       "\n",
       "   explained_variance  \n",
       "0            0.334867  "
      ]
     },
     "execution_count": 18,
     "metadata": {},
     "output_type": "execute_result"
    }
   ],
   "source": [
    "avg_linr = sep.avg_k_folds(linr_k_frame)\n",
    "avg_linr"
   ]
  },
  {
   "cell_type": "code",
   "execution_count": 19,
   "id": "b0133c79-6eaa-45d6-bc65-1c65fcf2947f",
   "metadata": {
    "tags": []
   },
   "outputs": [
    {
     "data": {
      "text/html": [
       "<div>\n",
       "<style scoped>\n",
       "    .dataframe tbody tr th:only-of-type {\n",
       "        vertical-align: middle;\n",
       "    }\n",
       "\n",
       "    .dataframe tbody tr th {\n",
       "        vertical-align: top;\n",
       "    }\n",
       "\n",
       "    .dataframe thead th {\n",
       "        text-align: right;\n",
       "    }\n",
       "</style>\n",
       "<table border=\"1\" class=\"dataframe\">\n",
       "  <thead>\n",
       "    <tr style=\"text-align: right;\">\n",
       "      <th></th>\n",
       "      <th>y_test</th>\n",
       "      <th>y_pred</th>\n",
       "    </tr>\n",
       "  </thead>\n",
       "  <tbody>\n",
       "    <tr>\n",
       "      <th>0</th>\n",
       "      <td>38.080000</td>\n",
       "      <td>50.662307</td>\n",
       "    </tr>\n",
       "    <tr>\n",
       "      <th>1</th>\n",
       "      <td>67.178082</td>\n",
       "      <td>66.197434</td>\n",
       "    </tr>\n",
       "    <tr>\n",
       "      <th>2</th>\n",
       "      <td>23.200000</td>\n",
       "      <td>31.688230</td>\n",
       "    </tr>\n",
       "    <tr>\n",
       "      <th>3</th>\n",
       "      <td>75.106849</td>\n",
       "      <td>91.367033</td>\n",
       "    </tr>\n",
       "    <tr>\n",
       "      <th>4</th>\n",
       "      <td>74.235616</td>\n",
       "      <td>66.210258</td>\n",
       "    </tr>\n",
       "    <tr>\n",
       "      <th>...</th>\n",
       "      <td>...</td>\n",
       "      <td>...</td>\n",
       "    </tr>\n",
       "    <tr>\n",
       "      <th>256</th>\n",
       "      <td>40.355191</td>\n",
       "      <td>39.324983</td>\n",
       "    </tr>\n",
       "    <tr>\n",
       "      <th>257</th>\n",
       "      <td>56.063014</td>\n",
       "      <td>58.133112</td>\n",
       "    </tr>\n",
       "    <tr>\n",
       "      <th>258</th>\n",
       "      <td>76.002740</td>\n",
       "      <td>73.307233</td>\n",
       "    </tr>\n",
       "    <tr>\n",
       "      <th>259</th>\n",
       "      <td>72.605479</td>\n",
       "      <td>57.862048</td>\n",
       "    </tr>\n",
       "    <tr>\n",
       "      <th>260</th>\n",
       "      <td>41.940000</td>\n",
       "      <td>50.826972</td>\n",
       "    </tr>\n",
       "  </tbody>\n",
       "</table>\n",
       "<p>1305 rows × 2 columns</p>\n",
       "</div>"
      ],
      "text/plain": [
       "        y_test     y_pred\n",
       "0    38.080000  50.662307\n",
       "1    67.178082  66.197434\n",
       "2    23.200000  31.688230\n",
       "3    75.106849  91.367033\n",
       "4    74.235616  66.210258\n",
       "..         ...        ...\n",
       "256  40.355191  39.324983\n",
       "257  56.063014  58.133112\n",
       "258  76.002740  73.307233\n",
       "259  72.605479  57.862048\n",
       "260  41.940000  50.826972\n",
       "\n",
       "[1305 rows x 2 columns]"
      ]
     },
     "execution_count": 19,
     "metadata": {},
     "output_type": "execute_result"
    }
   ],
   "source": [
    "linr_y_frame"
   ]
  },
  {
   "cell_type": "code",
   "execution_count": 20,
   "id": "c3b05bdb-866c-4e1d-ac49-ca0a9af68bb5",
   "metadata": {
    "tags": []
   },
   "outputs": [
    {
     "data": {
      "text/html": [
       "<style>#sk-container-id-1 {color: black;background-color: white;}#sk-container-id-1 pre{padding: 0;}#sk-container-id-1 div.sk-toggleable {background-color: white;}#sk-container-id-1 label.sk-toggleable__label {cursor: pointer;display: block;width: 100%;margin-bottom: 0;padding: 0.3em;box-sizing: border-box;text-align: center;}#sk-container-id-1 label.sk-toggleable__label-arrow:before {content: \"▸\";float: left;margin-right: 0.25em;color: #696969;}#sk-container-id-1 label.sk-toggleable__label-arrow:hover:before {color: black;}#sk-container-id-1 div.sk-estimator:hover label.sk-toggleable__label-arrow:before {color: black;}#sk-container-id-1 div.sk-toggleable__content {max-height: 0;max-width: 0;overflow: hidden;text-align: left;background-color: #f0f8ff;}#sk-container-id-1 div.sk-toggleable__content pre {margin: 0.2em;color: black;border-radius: 0.25em;background-color: #f0f8ff;}#sk-container-id-1 input.sk-toggleable__control:checked~div.sk-toggleable__content {max-height: 200px;max-width: 100%;overflow: auto;}#sk-container-id-1 input.sk-toggleable__control:checked~label.sk-toggleable__label-arrow:before {content: \"▾\";}#sk-container-id-1 div.sk-estimator input.sk-toggleable__control:checked~label.sk-toggleable__label {background-color: #d4ebff;}#sk-container-id-1 div.sk-label input.sk-toggleable__control:checked~label.sk-toggleable__label {background-color: #d4ebff;}#sk-container-id-1 input.sk-hidden--visually {border: 0;clip: rect(1px 1px 1px 1px);clip: rect(1px, 1px, 1px, 1px);height: 1px;margin: -1px;overflow: hidden;padding: 0;position: absolute;width: 1px;}#sk-container-id-1 div.sk-estimator {font-family: monospace;background-color: #f0f8ff;border: 1px dotted black;border-radius: 0.25em;box-sizing: border-box;margin-bottom: 0.5em;}#sk-container-id-1 div.sk-estimator:hover {background-color: #d4ebff;}#sk-container-id-1 div.sk-parallel-item::after {content: \"\";width: 100%;border-bottom: 1px solid gray;flex-grow: 1;}#sk-container-id-1 div.sk-label:hover label.sk-toggleable__label {background-color: #d4ebff;}#sk-container-id-1 div.sk-serial::before {content: \"\";position: absolute;border-left: 1px solid gray;box-sizing: border-box;top: 0;bottom: 0;left: 50%;z-index: 0;}#sk-container-id-1 div.sk-serial {display: flex;flex-direction: column;align-items: center;background-color: white;padding-right: 0.2em;padding-left: 0.2em;position: relative;}#sk-container-id-1 div.sk-item {position: relative;z-index: 1;}#sk-container-id-1 div.sk-parallel {display: flex;align-items: stretch;justify-content: center;background-color: white;position: relative;}#sk-container-id-1 div.sk-item::before, #sk-container-id-1 div.sk-parallel-item::before {content: \"\";position: absolute;border-left: 1px solid gray;box-sizing: border-box;top: 0;bottom: 0;left: 50%;z-index: -1;}#sk-container-id-1 div.sk-parallel-item {display: flex;flex-direction: column;z-index: 1;position: relative;background-color: white;}#sk-container-id-1 div.sk-parallel-item:first-child::after {align-self: flex-end;width: 50%;}#sk-container-id-1 div.sk-parallel-item:last-child::after {align-self: flex-start;width: 50%;}#sk-container-id-1 div.sk-parallel-item:only-child::after {width: 0;}#sk-container-id-1 div.sk-dashed-wrapped {border: 1px dashed gray;margin: 0 0.4em 0.5em 0.4em;box-sizing: border-box;padding-bottom: 0.4em;background-color: white;}#sk-container-id-1 div.sk-label label {font-family: monospace;font-weight: bold;display: inline-block;line-height: 1.2em;}#sk-container-id-1 div.sk-label-container {text-align: center;}#sk-container-id-1 div.sk-container {/* jupyter's `normalize.less` sets `[hidden] { display: none; }` but bootstrap.min.css set `[hidden] { display: none !important; }` so we also need the `!important` here to be able to override the default hidden behavior on the sphinx rendered scikit-learn.org. See: https://github.com/scikit-learn/scikit-learn/issues/21755 */display: inline-block !important;position: relative;}#sk-container-id-1 div.sk-text-repr-fallback {display: none;}</style><div id=\"sk-container-id-1\" class=\"sk-top-container\"><div class=\"sk-text-repr-fallback\"><pre>LinearRegression()</pre><b>In a Jupyter environment, please rerun this cell to show the HTML representation or trust the notebook. <br />On GitHub, the HTML representation is unable to render, please try loading this page with nbviewer.org.</b></div><div class=\"sk-container\" hidden><div class=\"sk-item\"><div class=\"sk-estimator sk-toggleable\"><input class=\"sk-toggleable__control sk-hidden--visually\" id=\"sk-estimator-id-1\" type=\"checkbox\" checked><label for=\"sk-estimator-id-1\" class=\"sk-toggleable__label sk-toggleable__label-arrow\">LinearRegression</label><div class=\"sk-toggleable__content\"><pre>LinearRegression()</pre></div></div></div></div></div>"
      ],
      "text/plain": [
       "LinearRegression()"
      ]
     },
     "execution_count": 20,
     "metadata": {},
     "output_type": "execute_result"
    }
   ],
   "source": [
    "linr = models\n",
    "linr[0]"
   ]
  },
  {
   "cell_type": "code",
   "execution_count": 21,
   "id": "5a2029b1-6758-4f63-9f69-37ae9b4b53a4",
   "metadata": {},
   "outputs": [],
   "source": [
    "# check if model folder exists and if not , then create\n",
    "model_folder = '../result_models/'\n",
    "if not os.path.exists(model_folder):\n",
    "    os.makedirs(model_folder)"
   ]
  },
  {
   "cell_type": "code",
   "execution_count": 22,
   "id": "38457549-93e9-40f5-9b61-106ac0867bb2",
   "metadata": {
    "tags": []
   },
   "outputs": [],
   "source": [
    "## optional save models\n",
    "#joblib.dump(linr[0], ('../result_models/'+ 'unharm_mix_linr0.sav'))\n",
    "#joblib.dump(linr[1], ('../result_models/'+ 'unharm_mix_linr1.sav'))\n",
    "#joblib.dump(linr[2], ('../result_models/'+ 'unharm_mix_linr2.sav'))\n",
    "#joblib.dump(linr[3], ('../result_models/'+ 'unharm_mix_linr3.sav'))\n",
    "#joblib.dump(linr[4], ('../result_models/'+ 'unharm_mix_linr4.sav'))"
   ]
  },
  {
   "cell_type": "code",
   "execution_count": null,
   "id": "17b80594-22e7-42f5-9c93-f014e984d58c",
   "metadata": {},
   "outputs": [],
   "source": []
  },
  {
   "cell_type": "code",
   "execution_count": 23,
   "id": "2fd550f0-6b41-4c28-8945-0e86f237cdd3",
   "metadata": {
    "tags": []
   },
   "outputs": [
    {
     "name": "stdout",
     "output_type": "stream",
     "text": [
      "StratifiedShuffleSplit(n_splits=5, random_state=12, test_size=0.25,\n",
      "            train_size=None)\n",
      "Whole dataset shape: X (1041, 18), y (1041,)\n",
      "Classes: [0 1], percentages: [54.75504323 45.24495677]\n",
      "\n",
      "Fold 0:\n",
      "Train shapes: X (780, 18)  y (780,)\n",
      "Sex classes: [0 1] percentages: [54.74358974 45.25641026]\n",
      "\n",
      "Test shapes: X (261, 18)   y (261,)\n",
      "Sex classes: [0 1],percentages: [54.78927203 45.21072797]\n",
      "\n",
      "Fold 1:\n",
      "Train shapes: X (780, 18)  y (780,)\n",
      "Sex classes: [0 1] percentages: [54.74358974 45.25641026]\n",
      "\n",
      "Test shapes: X (261, 18)   y (261,)\n",
      "Sex classes: [0 1],percentages: [54.78927203 45.21072797]\n",
      "\n",
      "Fold 2:\n",
      "Train shapes: X (780, 18)  y (780,)\n",
      "Sex classes: [0 1] percentages: [54.74358974 45.25641026]\n",
      "\n",
      "Test shapes: X (261, 18)   y (261,)\n",
      "Sex classes: [0 1],percentages: [54.78927203 45.21072797]\n",
      "\n",
      "Fold 3:\n",
      "Train shapes: X (780, 18)  y (780,)\n",
      "Sex classes: [0 1] percentages: [54.74358974 45.25641026]\n",
      "\n",
      "Test shapes: X (261, 18)   y (261,)\n",
      "Sex classes: [0 1],percentages: [54.78927203 45.21072797]\n",
      "\n",
      "Fold 4:\n",
      "Train shapes: X (780, 18)  y (780,)\n",
      "Sex classes: [0 1] percentages: [54.74358974 45.25641026]\n",
      "\n",
      "Test shapes: X (261, 18)   y (261,)\n",
      "Sex classes: [0 1],percentages: [54.78927203 45.21072797]\n"
     ]
    },
    {
     "data": {
      "text/html": [
       "<div>\n",
       "<style scoped>\n",
       "    .dataframe tbody tr th:only-of-type {\n",
       "        vertical-align: middle;\n",
       "    }\n",
       "\n",
       "    .dataframe tbody tr th {\n",
       "        vertical-align: top;\n",
       "    }\n",
       "\n",
       "    .dataframe thead th {\n",
       "        text-align: right;\n",
       "    }\n",
       "</style>\n",
       "<table border=\"1\" class=\"dataframe\">\n",
       "  <thead>\n",
       "    <tr style=\"text-align: right;\">\n",
       "      <th></th>\n",
       "      <th>algorithm</th>\n",
       "      <th>fold</th>\n",
       "      <th>file_name</th>\n",
       "      <th>mae</th>\n",
       "      <th>r2</th>\n",
       "      <th>explained_variance</th>\n",
       "    </tr>\n",
       "  </thead>\n",
       "  <tbody>\n",
       "    <tr>\n",
       "      <th>0</th>\n",
       "      <td>lasso regression0</td>\n",
       "      <td>0</td>\n",
       "      <td>unharm_mix_llreg0.sav</td>\n",
       "      <td>4.922952</td>\n",
       "      <td>0.861883</td>\n",
       "      <td>0.862269</td>\n",
       "    </tr>\n",
       "    <tr>\n",
       "      <th>0</th>\n",
       "      <td>lasso regression1</td>\n",
       "      <td>1</td>\n",
       "      <td>unharm_mix_llreg1.sav</td>\n",
       "      <td>5.701518</td>\n",
       "      <td>-0.396692</td>\n",
       "      <td>-0.394752</td>\n",
       "    </tr>\n",
       "    <tr>\n",
       "      <th>0</th>\n",
       "      <td>lasso regression2</td>\n",
       "      <td>2</td>\n",
       "      <td>unharm_mix_llreg2.sav</td>\n",
       "      <td>5.128703</td>\n",
       "      <td>0.855639</td>\n",
       "      <td>0.856553</td>\n",
       "    </tr>\n",
       "    <tr>\n",
       "      <th>0</th>\n",
       "      <td>lasso regression3</td>\n",
       "      <td>3</td>\n",
       "      <td>unharm_mix_llreg3.sav</td>\n",
       "      <td>4.609045</td>\n",
       "      <td>0.886746</td>\n",
       "      <td>0.887593</td>\n",
       "    </tr>\n",
       "    <tr>\n",
       "      <th>0</th>\n",
       "      <td>lasso regression4</td>\n",
       "      <td>4</td>\n",
       "      <td>unharm_mix_llreg4.sav</td>\n",
       "      <td>5.806644</td>\n",
       "      <td>-0.681163</td>\n",
       "      <td>-0.667155</td>\n",
       "    </tr>\n",
       "  </tbody>\n",
       "</table>\n",
       "</div>"
      ],
      "text/plain": [
       "           algorithm fold              file_name       mae        r2  \\\n",
       "0  lasso regression0    0  unharm_mix_llreg0.sav  4.922952  0.861883   \n",
       "0  lasso regression1    1  unharm_mix_llreg1.sav  5.701518 -0.396692   \n",
       "0  lasso regression2    2  unharm_mix_llreg2.sav  5.128703  0.855639   \n",
       "0  lasso regression3    3  unharm_mix_llreg3.sav  4.609045  0.886746   \n",
       "0  lasso regression4    4  unharm_mix_llreg4.sav  5.806644 -0.681163   \n",
       "\n",
       "   explained_variance  \n",
       "0            0.862269  \n",
       "0           -0.394752  \n",
       "0            0.856553  \n",
       "0            0.887593  \n",
       "0           -0.667155  "
      ]
     },
     "execution_count": 23,
     "metadata": {},
     "output_type": "execute_result"
    }
   ],
   "source": [
    "llreg_k_frame, llreg_y_frame, models = sep.frame_a_model_sex_split('lasso regression', 'unharm_mix_llreg',  linear_model.LassoLars(alpha=0.01), ml_matrix, X[:,1:], y)\n",
    "llreg_k_frame"
   ]
  },
  {
   "cell_type": "code",
   "execution_count": 24,
   "id": "677564bc-7d69-4961-a7e4-563117cf9999",
   "metadata": {
    "tags": []
   },
   "outputs": [
    {
     "data": {
      "text/html": [
       "<div>\n",
       "<style scoped>\n",
       "    .dataframe tbody tr th:only-of-type {\n",
       "        vertical-align: middle;\n",
       "    }\n",
       "\n",
       "    .dataframe tbody tr th {\n",
       "        vertical-align: top;\n",
       "    }\n",
       "\n",
       "    .dataframe thead th {\n",
       "        text-align: right;\n",
       "    }\n",
       "</style>\n",
       "<table border=\"1\" class=\"dataframe\">\n",
       "  <thead>\n",
       "    <tr style=\"text-align: right;\">\n",
       "      <th></th>\n",
       "      <th>algorithm</th>\n",
       "      <th>file_name</th>\n",
       "      <th>mae</th>\n",
       "      <th>r2</th>\n",
       "      <th>explained_variance</th>\n",
       "    </tr>\n",
       "  </thead>\n",
       "  <tbody>\n",
       "    <tr>\n",
       "      <th>0</th>\n",
       "      <td>0    lasso regression0\n",
       "0    lasso regression1\n",
       "...</td>\n",
       "      <td>0    unharm_mix_llreg0.sav\n",
       "0    unharm_mix_llr...</td>\n",
       "      <td>5.233773</td>\n",
       "      <td>0.305283</td>\n",
       "      <td>0.308902</td>\n",
       "    </tr>\n",
       "  </tbody>\n",
       "</table>\n",
       "</div>"
      ],
      "text/plain": [
       "                                           algorithm  \\\n",
       "0  0    lasso regression0\n",
       "0    lasso regression1\n",
       "...   \n",
       "\n",
       "                                           file_name       mae        r2  \\\n",
       "0  0    unharm_mix_llreg0.sav\n",
       "0    unharm_mix_llr...  5.233773  0.305283   \n",
       "\n",
       "   explained_variance  \n",
       "0            0.308902  "
      ]
     },
     "execution_count": 24,
     "metadata": {},
     "output_type": "execute_result"
    }
   ],
   "source": [
    "avg_llreg = sep.avg_k_folds(llreg_k_frame)\n",
    "avg_llreg.to_csv()"
   ]
  },
  {
   "cell_type": "code",
   "execution_count": 25,
   "id": "16b37956-2e32-4c2b-bb26-956c6951dd54",
   "metadata": {
    "tags": []
   },
   "outputs": [
    {
     "data": {
      "text/html": [
       "<div>\n",
       "<style scoped>\n",
       "    .dataframe tbody tr th:only-of-type {\n",
       "        vertical-align: middle;\n",
       "    }\n",
       "\n",
       "    .dataframe tbody tr th {\n",
       "        vertical-align: top;\n",
       "    }\n",
       "\n",
       "    .dataframe thead th {\n",
       "        text-align: right;\n",
       "    }\n",
       "</style>\n",
       "<table border=\"1\" class=\"dataframe\">\n",
       "  <thead>\n",
       "    <tr style=\"text-align: right;\">\n",
       "      <th></th>\n",
       "      <th>y_test</th>\n",
       "      <th>y_pred</th>\n",
       "    </tr>\n",
       "  </thead>\n",
       "  <tbody>\n",
       "    <tr>\n",
       "      <th>0</th>\n",
       "      <td>38.080000</td>\n",
       "      <td>51.037285</td>\n",
       "    </tr>\n",
       "    <tr>\n",
       "      <th>1</th>\n",
       "      <td>67.178082</td>\n",
       "      <td>66.338822</td>\n",
       "    </tr>\n",
       "    <tr>\n",
       "      <th>2</th>\n",
       "      <td>23.200000</td>\n",
       "      <td>31.383782</td>\n",
       "    </tr>\n",
       "    <tr>\n",
       "      <th>3</th>\n",
       "      <td>75.106849</td>\n",
       "      <td>90.301189</td>\n",
       "    </tr>\n",
       "    <tr>\n",
       "      <th>4</th>\n",
       "      <td>74.235616</td>\n",
       "      <td>65.788601</td>\n",
       "    </tr>\n",
       "    <tr>\n",
       "      <th>...</th>\n",
       "      <td>...</td>\n",
       "      <td>...</td>\n",
       "    </tr>\n",
       "    <tr>\n",
       "      <th>256</th>\n",
       "      <td>40.355191</td>\n",
       "      <td>39.525150</td>\n",
       "    </tr>\n",
       "    <tr>\n",
       "      <th>257</th>\n",
       "      <td>56.063014</td>\n",
       "      <td>57.848191</td>\n",
       "    </tr>\n",
       "    <tr>\n",
       "      <th>258</th>\n",
       "      <td>76.002740</td>\n",
       "      <td>72.621692</td>\n",
       "    </tr>\n",
       "    <tr>\n",
       "      <th>259</th>\n",
       "      <td>72.605479</td>\n",
       "      <td>57.721708</td>\n",
       "    </tr>\n",
       "    <tr>\n",
       "      <th>260</th>\n",
       "      <td>41.940000</td>\n",
       "      <td>50.731573</td>\n",
       "    </tr>\n",
       "  </tbody>\n",
       "</table>\n",
       "<p>1305 rows × 2 columns</p>\n",
       "</div>"
      ],
      "text/plain": [
       "        y_test     y_pred\n",
       "0    38.080000  51.037285\n",
       "1    67.178082  66.338822\n",
       "2    23.200000  31.383782\n",
       "3    75.106849  90.301189\n",
       "4    74.235616  65.788601\n",
       "..         ...        ...\n",
       "256  40.355191  39.525150\n",
       "257  56.063014  57.848191\n",
       "258  76.002740  72.621692\n",
       "259  72.605479  57.721708\n",
       "260  41.940000  50.731573\n",
       "\n",
       "[1305 rows x 2 columns]"
      ]
     },
     "execution_count": 25,
     "metadata": {},
     "output_type": "execute_result"
    }
   ],
   "source": [
    "llreg_y_frame"
   ]
  },
  {
   "cell_type": "code",
   "execution_count": 26,
   "id": "5ef586e4-4a58-4c39-86bc-1a7062b2615a",
   "metadata": {
    "tags": []
   },
   "outputs": [
    {
     "data": {
      "text/html": [
       "<style>#sk-container-id-2 {color: black;background-color: white;}#sk-container-id-2 pre{padding: 0;}#sk-container-id-2 div.sk-toggleable {background-color: white;}#sk-container-id-2 label.sk-toggleable__label {cursor: pointer;display: block;width: 100%;margin-bottom: 0;padding: 0.3em;box-sizing: border-box;text-align: center;}#sk-container-id-2 label.sk-toggleable__label-arrow:before {content: \"▸\";float: left;margin-right: 0.25em;color: #696969;}#sk-container-id-2 label.sk-toggleable__label-arrow:hover:before {color: black;}#sk-container-id-2 div.sk-estimator:hover label.sk-toggleable__label-arrow:before {color: black;}#sk-container-id-2 div.sk-toggleable__content {max-height: 0;max-width: 0;overflow: hidden;text-align: left;background-color: #f0f8ff;}#sk-container-id-2 div.sk-toggleable__content pre {margin: 0.2em;color: black;border-radius: 0.25em;background-color: #f0f8ff;}#sk-container-id-2 input.sk-toggleable__control:checked~div.sk-toggleable__content {max-height: 200px;max-width: 100%;overflow: auto;}#sk-container-id-2 input.sk-toggleable__control:checked~label.sk-toggleable__label-arrow:before {content: \"▾\";}#sk-container-id-2 div.sk-estimator input.sk-toggleable__control:checked~label.sk-toggleable__label {background-color: #d4ebff;}#sk-container-id-2 div.sk-label input.sk-toggleable__control:checked~label.sk-toggleable__label {background-color: #d4ebff;}#sk-container-id-2 input.sk-hidden--visually {border: 0;clip: rect(1px 1px 1px 1px);clip: rect(1px, 1px, 1px, 1px);height: 1px;margin: -1px;overflow: hidden;padding: 0;position: absolute;width: 1px;}#sk-container-id-2 div.sk-estimator {font-family: monospace;background-color: #f0f8ff;border: 1px dotted black;border-radius: 0.25em;box-sizing: border-box;margin-bottom: 0.5em;}#sk-container-id-2 div.sk-estimator:hover {background-color: #d4ebff;}#sk-container-id-2 div.sk-parallel-item::after {content: \"\";width: 100%;border-bottom: 1px solid gray;flex-grow: 1;}#sk-container-id-2 div.sk-label:hover label.sk-toggleable__label {background-color: #d4ebff;}#sk-container-id-2 div.sk-serial::before {content: \"\";position: absolute;border-left: 1px solid gray;box-sizing: border-box;top: 0;bottom: 0;left: 50%;z-index: 0;}#sk-container-id-2 div.sk-serial {display: flex;flex-direction: column;align-items: center;background-color: white;padding-right: 0.2em;padding-left: 0.2em;position: relative;}#sk-container-id-2 div.sk-item {position: relative;z-index: 1;}#sk-container-id-2 div.sk-parallel {display: flex;align-items: stretch;justify-content: center;background-color: white;position: relative;}#sk-container-id-2 div.sk-item::before, #sk-container-id-2 div.sk-parallel-item::before {content: \"\";position: absolute;border-left: 1px solid gray;box-sizing: border-box;top: 0;bottom: 0;left: 50%;z-index: -1;}#sk-container-id-2 div.sk-parallel-item {display: flex;flex-direction: column;z-index: 1;position: relative;background-color: white;}#sk-container-id-2 div.sk-parallel-item:first-child::after {align-self: flex-end;width: 50%;}#sk-container-id-2 div.sk-parallel-item:last-child::after {align-self: flex-start;width: 50%;}#sk-container-id-2 div.sk-parallel-item:only-child::after {width: 0;}#sk-container-id-2 div.sk-dashed-wrapped {border: 1px dashed gray;margin: 0 0.4em 0.5em 0.4em;box-sizing: border-box;padding-bottom: 0.4em;background-color: white;}#sk-container-id-2 div.sk-label label {font-family: monospace;font-weight: bold;display: inline-block;line-height: 1.2em;}#sk-container-id-2 div.sk-label-container {text-align: center;}#sk-container-id-2 div.sk-container {/* jupyter's `normalize.less` sets `[hidden] { display: none; }` but bootstrap.min.css set `[hidden] { display: none !important; }` so we also need the `!important` here to be able to override the default hidden behavior on the sphinx rendered scikit-learn.org. See: https://github.com/scikit-learn/scikit-learn/issues/21755 */display: inline-block !important;position: relative;}#sk-container-id-2 div.sk-text-repr-fallback {display: none;}</style><div id=\"sk-container-id-2\" class=\"sk-top-container\"><div class=\"sk-text-repr-fallback\"><pre>LassoLars(alpha=0.01)</pre><b>In a Jupyter environment, please rerun this cell to show the HTML representation or trust the notebook. <br />On GitHub, the HTML representation is unable to render, please try loading this page with nbviewer.org.</b></div><div class=\"sk-container\" hidden><div class=\"sk-item\"><div class=\"sk-estimator sk-toggleable\"><input class=\"sk-toggleable__control sk-hidden--visually\" id=\"sk-estimator-id-2\" type=\"checkbox\" checked><label for=\"sk-estimator-id-2\" class=\"sk-toggleable__label sk-toggleable__label-arrow\">LassoLars</label><div class=\"sk-toggleable__content\"><pre>LassoLars(alpha=0.01)</pre></div></div></div></div></div>"
      ],
      "text/plain": [
       "LassoLars(alpha=0.01)"
      ]
     },
     "execution_count": 26,
     "metadata": {},
     "output_type": "execute_result"
    }
   ],
   "source": [
    "llreg = models\n",
    "llreg[0]"
   ]
  },
  {
   "cell_type": "code",
   "execution_count": 27,
   "id": "771f7170-67c2-42e0-a0e3-a0c35203f206",
   "metadata": {},
   "outputs": [],
   "source": [
    "## optional save models\n",
    "#joblib.dump(linr[0], ('../result_models/'+ 'unharm_mix_linr0.sav'))\n",
    "#joblib.dump(linr[1], ('../result_models/'+ 'unharm_mix_linr1.sav'))\n",
    "#joblib.dump(linr[2], ('../result_models/'+ 'unharm_mix_linr2.sav'))\n",
    "#joblib.dump(linr[3], ('../result_models/'+ 'unharm_mix_linr3.sav'))\n",
    "#joblib.dump(linr[4], ('../result_models/'+ 'unharm_mix_linr4.sav'))"
   ]
  },
  {
   "cell_type": "code",
   "execution_count": null,
   "id": "200c1af0-f464-4c5e-9f0d-5620699d0130",
   "metadata": {},
   "outputs": [],
   "source": []
  },
  {
   "cell_type": "code",
   "execution_count": 28,
   "id": "bdfcdfe1-a080-42f9-89bc-2d0ee14f08d1",
   "metadata": {
    "tags": []
   },
   "outputs": [
    {
     "name": "stdout",
     "output_type": "stream",
     "text": [
      "StratifiedShuffleSplit(n_splits=5, random_state=12, test_size=0.25,\n",
      "            train_size=None)\n",
      "Whole dataset shape: X (1041, 18), y (1041,)\n",
      "Classes: [0 1], percentages: [54.75504323 45.24495677]\n",
      "\n",
      "Fold 0:\n",
      "Train shapes: X (780, 18)  y (780,)\n",
      "Sex classes: [0 1] percentages: [54.74358974 45.25641026]\n",
      "\n",
      "Test shapes: X (261, 18)   y (261,)\n",
      "Sex classes: [0 1],percentages: [54.78927203 45.21072797]\n",
      "\n",
      "Fold 1:\n",
      "Train shapes: X (780, 18)  y (780,)\n",
      "Sex classes: [0 1] percentages: [54.74358974 45.25641026]\n",
      "\n",
      "Test shapes: X (261, 18)   y (261,)\n",
      "Sex classes: [0 1],percentages: [54.78927203 45.21072797]\n",
      "\n",
      "Fold 2:\n",
      "Train shapes: X (780, 18)  y (780,)\n",
      "Sex classes: [0 1] percentages: [54.74358974 45.25641026]\n",
      "\n",
      "Test shapes: X (261, 18)   y (261,)\n",
      "Sex classes: [0 1],percentages: [54.78927203 45.21072797]\n",
      "\n",
      "Fold 3:\n",
      "Train shapes: X (780, 18)  y (780,)\n",
      "Sex classes: [0 1] percentages: [54.74358974 45.25641026]\n",
      "\n",
      "Test shapes: X (261, 18)   y (261,)\n",
      "Sex classes: [0 1],percentages: [54.78927203 45.21072797]\n",
      "\n",
      "Fold 4:\n",
      "Train shapes: X (780, 18)  y (780,)\n",
      "Sex classes: [0 1] percentages: [54.74358974 45.25641026]\n",
      "\n",
      "Test shapes: X (261, 18)   y (261,)\n",
      "Sex classes: [0 1],percentages: [54.78927203 45.21072797]\n"
     ]
    },
    {
     "data": {
      "text/html": [
       "<div>\n",
       "<style scoped>\n",
       "    .dataframe tbody tr th:only-of-type {\n",
       "        vertical-align: middle;\n",
       "    }\n",
       "\n",
       "    .dataframe tbody tr th {\n",
       "        vertical-align: top;\n",
       "    }\n",
       "\n",
       "    .dataframe thead th {\n",
       "        text-align: right;\n",
       "    }\n",
       "</style>\n",
       "<table border=\"1\" class=\"dataframe\">\n",
       "  <thead>\n",
       "    <tr style=\"text-align: right;\">\n",
       "      <th></th>\n",
       "      <th>algorithm</th>\n",
       "      <th>fold</th>\n",
       "      <th>file_name</th>\n",
       "      <th>mae</th>\n",
       "      <th>r2</th>\n",
       "      <th>explained_variance</th>\n",
       "    </tr>\n",
       "  </thead>\n",
       "  <tbody>\n",
       "    <tr>\n",
       "      <th>0</th>\n",
       "      <td>decision tree0</td>\n",
       "      <td>0</td>\n",
       "      <td>unharm_mix_dtree0.sav</td>\n",
       "      <td>7.072803</td>\n",
       "      <td>0.661246</td>\n",
       "      <td>0.662258</td>\n",
       "    </tr>\n",
       "    <tr>\n",
       "      <th>0</th>\n",
       "      <td>decision tree1</td>\n",
       "      <td>1</td>\n",
       "      <td>unharm_mix_dtree1.sav</td>\n",
       "      <td>7.317756</td>\n",
       "      <td>0.696412</td>\n",
       "      <td>0.698877</td>\n",
       "    </tr>\n",
       "    <tr>\n",
       "      <th>0</th>\n",
       "      <td>decision tree2</td>\n",
       "      <td>2</td>\n",
       "      <td>unharm_mix_dtree2.sav</td>\n",
       "      <td>6.766366</td>\n",
       "      <td>0.712137</td>\n",
       "      <td>0.712137</td>\n",
       "    </tr>\n",
       "    <tr>\n",
       "      <th>0</th>\n",
       "      <td>decision tree3</td>\n",
       "      <td>3</td>\n",
       "      <td>unharm_mix_dtree3.sav</td>\n",
       "      <td>6.168171</td>\n",
       "      <td>0.774932</td>\n",
       "      <td>0.774977</td>\n",
       "    </tr>\n",
       "    <tr>\n",
       "      <th>0</th>\n",
       "      <td>decision tree4</td>\n",
       "      <td>4</td>\n",
       "      <td>unharm_mix_dtree4.sav</td>\n",
       "      <td>6.846643</td>\n",
       "      <td>0.698744</td>\n",
       "      <td>0.700950</td>\n",
       "    </tr>\n",
       "  </tbody>\n",
       "</table>\n",
       "</div>"
      ],
      "text/plain": [
       "        algorithm fold              file_name       mae        r2  \\\n",
       "0  decision tree0    0  unharm_mix_dtree0.sav  7.072803  0.661246   \n",
       "0  decision tree1    1  unharm_mix_dtree1.sav  7.317756  0.696412   \n",
       "0  decision tree2    2  unharm_mix_dtree2.sav  6.766366  0.712137   \n",
       "0  decision tree3    3  unharm_mix_dtree3.sav  6.168171  0.774932   \n",
       "0  decision tree4    4  unharm_mix_dtree4.sav  6.846643  0.698744   \n",
       "\n",
       "   explained_variance  \n",
       "0            0.662258  \n",
       "0            0.698877  \n",
       "0            0.712137  \n",
       "0            0.774977  \n",
       "0            0.700950  "
      ]
     },
     "execution_count": 28,
     "metadata": {},
     "output_type": "execute_result"
    }
   ],
   "source": [
    "dtree_k_frame, dtree_y_frame, models = sep.frame_a_model_sex_split('decision tree', 'unharm_mix_dtree',  tree.DecisionTreeRegressor(), ml_matrix, X[:,1:], y)\n",
    "dtree_k_frame"
   ]
  },
  {
   "cell_type": "code",
   "execution_count": 29,
   "id": "789640fb-2a27-435e-ac25-50ef1015e215",
   "metadata": {
    "tags": []
   },
   "outputs": [
    {
     "data": {
      "text/html": [
       "<div>\n",
       "<style scoped>\n",
       "    .dataframe tbody tr th:only-of-type {\n",
       "        vertical-align: middle;\n",
       "    }\n",
       "\n",
       "    .dataframe tbody tr th {\n",
       "        vertical-align: top;\n",
       "    }\n",
       "\n",
       "    .dataframe thead th {\n",
       "        text-align: right;\n",
       "    }\n",
       "</style>\n",
       "<table border=\"1\" class=\"dataframe\">\n",
       "  <thead>\n",
       "    <tr style=\"text-align: right;\">\n",
       "      <th></th>\n",
       "      <th>algorithm</th>\n",
       "      <th>file_name</th>\n",
       "      <th>mae</th>\n",
       "      <th>r2</th>\n",
       "      <th>explained_variance</th>\n",
       "    </tr>\n",
       "  </thead>\n",
       "  <tbody>\n",
       "    <tr>\n",
       "      <th>0</th>\n",
       "      <td>0    decision tree0\n",
       "0    decision tree1\n",
       "0    d...</td>\n",
       "      <td>0    unharm_mix_dtree0.sav\n",
       "0    unharm_mix_dtr...</td>\n",
       "      <td>6.834348</td>\n",
       "      <td>0.708694</td>\n",
       "      <td>0.70984</td>\n",
       "    </tr>\n",
       "  </tbody>\n",
       "</table>\n",
       "</div>"
      ],
      "text/plain": [
       "                                           algorithm  \\\n",
       "0  0    decision tree0\n",
       "0    decision tree1\n",
       "0    d...   \n",
       "\n",
       "                                           file_name       mae        r2  \\\n",
       "0  0    unharm_mix_dtree0.sav\n",
       "0    unharm_mix_dtr...  6.834348  0.708694   \n",
       "\n",
       "   explained_variance  \n",
       "0             0.70984  "
      ]
     },
     "execution_count": 29,
     "metadata": {},
     "output_type": "execute_result"
    }
   ],
   "source": [
    "avg_dtree = sep.avg_k_folds(dtree_k_frame)\n",
    "avg_dtree"
   ]
  },
  {
   "cell_type": "code",
   "execution_count": 30,
   "id": "fad10001-55db-4c26-a2bc-a8a2bbcf5dd7",
   "metadata": {
    "tags": []
   },
   "outputs": [
    {
     "data": {
      "text/html": [
       "<div>\n",
       "<style scoped>\n",
       "    .dataframe tbody tr th:only-of-type {\n",
       "        vertical-align: middle;\n",
       "    }\n",
       "\n",
       "    .dataframe tbody tr th {\n",
       "        vertical-align: top;\n",
       "    }\n",
       "\n",
       "    .dataframe thead th {\n",
       "        text-align: right;\n",
       "    }\n",
       "</style>\n",
       "<table border=\"1\" class=\"dataframe\">\n",
       "  <thead>\n",
       "    <tr style=\"text-align: right;\">\n",
       "      <th></th>\n",
       "      <th>y_test</th>\n",
       "      <th>y_pred</th>\n",
       "    </tr>\n",
       "  </thead>\n",
       "  <tbody>\n",
       "    <tr>\n",
       "      <th>0</th>\n",
       "      <td>38.080000</td>\n",
       "      <td>46.200000</td>\n",
       "    </tr>\n",
       "    <tr>\n",
       "      <th>1</th>\n",
       "      <td>67.178082</td>\n",
       "      <td>66.216438</td>\n",
       "    </tr>\n",
       "    <tr>\n",
       "      <th>2</th>\n",
       "      <td>23.200000</td>\n",
       "      <td>28.050000</td>\n",
       "    </tr>\n",
       "    <tr>\n",
       "      <th>3</th>\n",
       "      <td>75.106849</td>\n",
       "      <td>80.624658</td>\n",
       "    </tr>\n",
       "    <tr>\n",
       "      <th>4</th>\n",
       "      <td>74.235616</td>\n",
       "      <td>50.660000</td>\n",
       "    </tr>\n",
       "    <tr>\n",
       "      <th>...</th>\n",
       "      <td>...</td>\n",
       "      <td>...</td>\n",
       "    </tr>\n",
       "    <tr>\n",
       "      <th>256</th>\n",
       "      <td>40.355191</td>\n",
       "      <td>38.740000</td>\n",
       "    </tr>\n",
       "    <tr>\n",
       "      <th>257</th>\n",
       "      <td>56.063014</td>\n",
       "      <td>54.471233</td>\n",
       "    </tr>\n",
       "    <tr>\n",
       "      <th>258</th>\n",
       "      <td>76.002740</td>\n",
       "      <td>78.800000</td>\n",
       "    </tr>\n",
       "    <tr>\n",
       "      <th>259</th>\n",
       "      <td>72.605479</td>\n",
       "      <td>62.777506</td>\n",
       "    </tr>\n",
       "    <tr>\n",
       "      <th>260</th>\n",
       "      <td>41.940000</td>\n",
       "      <td>65.772438</td>\n",
       "    </tr>\n",
       "  </tbody>\n",
       "</table>\n",
       "<p>1305 rows × 2 columns</p>\n",
       "</div>"
      ],
      "text/plain": [
       "        y_test     y_pred\n",
       "0    38.080000  46.200000\n",
       "1    67.178082  66.216438\n",
       "2    23.200000  28.050000\n",
       "3    75.106849  80.624658\n",
       "4    74.235616  50.660000\n",
       "..         ...        ...\n",
       "256  40.355191  38.740000\n",
       "257  56.063014  54.471233\n",
       "258  76.002740  78.800000\n",
       "259  72.605479  62.777506\n",
       "260  41.940000  65.772438\n",
       "\n",
       "[1305 rows x 2 columns]"
      ]
     },
     "execution_count": 30,
     "metadata": {},
     "output_type": "execute_result"
    }
   ],
   "source": [
    "dtree_y_frame"
   ]
  },
  {
   "cell_type": "code",
   "execution_count": 31,
   "id": "31cc0344-f68d-44c4-afd4-d9ee1b4b6ac4",
   "metadata": {
    "tags": []
   },
   "outputs": [
    {
     "data": {
      "text/html": [
       "<style>#sk-container-id-3 {color: black;background-color: white;}#sk-container-id-3 pre{padding: 0;}#sk-container-id-3 div.sk-toggleable {background-color: white;}#sk-container-id-3 label.sk-toggleable__label {cursor: pointer;display: block;width: 100%;margin-bottom: 0;padding: 0.3em;box-sizing: border-box;text-align: center;}#sk-container-id-3 label.sk-toggleable__label-arrow:before {content: \"▸\";float: left;margin-right: 0.25em;color: #696969;}#sk-container-id-3 label.sk-toggleable__label-arrow:hover:before {color: black;}#sk-container-id-3 div.sk-estimator:hover label.sk-toggleable__label-arrow:before {color: black;}#sk-container-id-3 div.sk-toggleable__content {max-height: 0;max-width: 0;overflow: hidden;text-align: left;background-color: #f0f8ff;}#sk-container-id-3 div.sk-toggleable__content pre {margin: 0.2em;color: black;border-radius: 0.25em;background-color: #f0f8ff;}#sk-container-id-3 input.sk-toggleable__control:checked~div.sk-toggleable__content {max-height: 200px;max-width: 100%;overflow: auto;}#sk-container-id-3 input.sk-toggleable__control:checked~label.sk-toggleable__label-arrow:before {content: \"▾\";}#sk-container-id-3 div.sk-estimator input.sk-toggleable__control:checked~label.sk-toggleable__label {background-color: #d4ebff;}#sk-container-id-3 div.sk-label input.sk-toggleable__control:checked~label.sk-toggleable__label {background-color: #d4ebff;}#sk-container-id-3 input.sk-hidden--visually {border: 0;clip: rect(1px 1px 1px 1px);clip: rect(1px, 1px, 1px, 1px);height: 1px;margin: -1px;overflow: hidden;padding: 0;position: absolute;width: 1px;}#sk-container-id-3 div.sk-estimator {font-family: monospace;background-color: #f0f8ff;border: 1px dotted black;border-radius: 0.25em;box-sizing: border-box;margin-bottom: 0.5em;}#sk-container-id-3 div.sk-estimator:hover {background-color: #d4ebff;}#sk-container-id-3 div.sk-parallel-item::after {content: \"\";width: 100%;border-bottom: 1px solid gray;flex-grow: 1;}#sk-container-id-3 div.sk-label:hover label.sk-toggleable__label {background-color: #d4ebff;}#sk-container-id-3 div.sk-serial::before {content: \"\";position: absolute;border-left: 1px solid gray;box-sizing: border-box;top: 0;bottom: 0;left: 50%;z-index: 0;}#sk-container-id-3 div.sk-serial {display: flex;flex-direction: column;align-items: center;background-color: white;padding-right: 0.2em;padding-left: 0.2em;position: relative;}#sk-container-id-3 div.sk-item {position: relative;z-index: 1;}#sk-container-id-3 div.sk-parallel {display: flex;align-items: stretch;justify-content: center;background-color: white;position: relative;}#sk-container-id-3 div.sk-item::before, #sk-container-id-3 div.sk-parallel-item::before {content: \"\";position: absolute;border-left: 1px solid gray;box-sizing: border-box;top: 0;bottom: 0;left: 50%;z-index: -1;}#sk-container-id-3 div.sk-parallel-item {display: flex;flex-direction: column;z-index: 1;position: relative;background-color: white;}#sk-container-id-3 div.sk-parallel-item:first-child::after {align-self: flex-end;width: 50%;}#sk-container-id-3 div.sk-parallel-item:last-child::after {align-self: flex-start;width: 50%;}#sk-container-id-3 div.sk-parallel-item:only-child::after {width: 0;}#sk-container-id-3 div.sk-dashed-wrapped {border: 1px dashed gray;margin: 0 0.4em 0.5em 0.4em;box-sizing: border-box;padding-bottom: 0.4em;background-color: white;}#sk-container-id-3 div.sk-label label {font-family: monospace;font-weight: bold;display: inline-block;line-height: 1.2em;}#sk-container-id-3 div.sk-label-container {text-align: center;}#sk-container-id-3 div.sk-container {/* jupyter's `normalize.less` sets `[hidden] { display: none; }` but bootstrap.min.css set `[hidden] { display: none !important; }` so we also need the `!important` here to be able to override the default hidden behavior on the sphinx rendered scikit-learn.org. See: https://github.com/scikit-learn/scikit-learn/issues/21755 */display: inline-block !important;position: relative;}#sk-container-id-3 div.sk-text-repr-fallback {display: none;}</style><div id=\"sk-container-id-3\" class=\"sk-top-container\"><div class=\"sk-text-repr-fallback\"><pre>DecisionTreeRegressor()</pre><b>In a Jupyter environment, please rerun this cell to show the HTML representation or trust the notebook. <br />On GitHub, the HTML representation is unable to render, please try loading this page with nbviewer.org.</b></div><div class=\"sk-container\" hidden><div class=\"sk-item\"><div class=\"sk-estimator sk-toggleable\"><input class=\"sk-toggleable__control sk-hidden--visually\" id=\"sk-estimator-id-3\" type=\"checkbox\" checked><label for=\"sk-estimator-id-3\" class=\"sk-toggleable__label sk-toggleable__label-arrow\">DecisionTreeRegressor</label><div class=\"sk-toggleable__content\"><pre>DecisionTreeRegressor()</pre></div></div></div></div></div>"
      ],
      "text/plain": [
       "DecisionTreeRegressor()"
      ]
     },
     "execution_count": 31,
     "metadata": {},
     "output_type": "execute_result"
    }
   ],
   "source": [
    "dtree = models\n",
    "dtree[0]"
   ]
  },
  {
   "cell_type": "code",
   "execution_count": null,
   "id": "a03a1ff9-e85d-4ea9-a8da-d019d3dc81da",
   "metadata": {},
   "outputs": [],
   "source": []
  },
  {
   "cell_type": "code",
   "execution_count": 32,
   "id": "ff9bc510-7768-4fb0-b7c9-9ccb29a03431",
   "metadata": {
    "tags": []
   },
   "outputs": [
    {
     "name": "stdout",
     "output_type": "stream",
     "text": [
      "StratifiedShuffleSplit(n_splits=5, random_state=12, test_size=0.25,\n",
      "            train_size=None)\n",
      "Whole dataset shape: X (1041, 18), y (1041,)\n",
      "Classes: [0 1], percentages: [54.75504323 45.24495677]\n",
      "\n",
      "Fold 0:\n",
      "Train shapes: X (780, 18)  y (780,)\n",
      "Sex classes: [0 1] percentages: [54.74358974 45.25641026]\n",
      "\n",
      "Test shapes: X (261, 18)   y (261,)\n",
      "Sex classes: [0 1],percentages: [54.78927203 45.21072797]\n",
      "\n",
      "Fold 1:\n",
      "Train shapes: X (780, 18)  y (780,)\n",
      "Sex classes: [0 1] percentages: [54.74358974 45.25641026]\n",
      "\n",
      "Test shapes: X (261, 18)   y (261,)\n",
      "Sex classes: [0 1],percentages: [54.78927203 45.21072797]\n",
      "\n",
      "Fold 2:\n",
      "Train shapes: X (780, 18)  y (780,)\n",
      "Sex classes: [0 1] percentages: [54.74358974 45.25641026]\n",
      "\n",
      "Test shapes: X (261, 18)   y (261,)\n",
      "Sex classes: [0 1],percentages: [54.78927203 45.21072797]\n",
      "\n",
      "Fold 3:\n",
      "Train shapes: X (780, 18)  y (780,)\n",
      "Sex classes: [0 1] percentages: [54.74358974 45.25641026]\n",
      "\n",
      "Test shapes: X (261, 18)   y (261,)\n",
      "Sex classes: [0 1],percentages: [54.78927203 45.21072797]\n",
      "\n",
      "Fold 4:\n",
      "Train shapes: X (780, 18)  y (780,)\n",
      "Sex classes: [0 1] percentages: [54.74358974 45.25641026]\n",
      "\n",
      "Test shapes: X (261, 18)   y (261,)\n",
      "Sex classes: [0 1],percentages: [54.78927203 45.21072797]\n"
     ]
    },
    {
     "data": {
      "text/html": [
       "<div>\n",
       "<style scoped>\n",
       "    .dataframe tbody tr th:only-of-type {\n",
       "        vertical-align: middle;\n",
       "    }\n",
       "\n",
       "    .dataframe tbody tr th {\n",
       "        vertical-align: top;\n",
       "    }\n",
       "\n",
       "    .dataframe thead th {\n",
       "        text-align: right;\n",
       "    }\n",
       "</style>\n",
       "<table border=\"1\" class=\"dataframe\">\n",
       "  <thead>\n",
       "    <tr style=\"text-align: right;\">\n",
       "      <th></th>\n",
       "      <th>algorithm</th>\n",
       "      <th>fold</th>\n",
       "      <th>file_name</th>\n",
       "      <th>mae</th>\n",
       "      <th>r2</th>\n",
       "      <th>explained_variance</th>\n",
       "    </tr>\n",
       "  </thead>\n",
       "  <tbody>\n",
       "    <tr>\n",
       "      <th>0</th>\n",
       "      <td>MLP regression0</td>\n",
       "      <td>0</td>\n",
       "      <td>unharm_mix_regr0.sav</td>\n",
       "      <td>5.285466</td>\n",
       "      <td>0.840498</td>\n",
       "      <td>0.840876</td>\n",
       "    </tr>\n",
       "    <tr>\n",
       "      <th>0</th>\n",
       "      <td>MLP regression1</td>\n",
       "      <td>1</td>\n",
       "      <td>unharm_mix_regr1.sav</td>\n",
       "      <td>7.549306</td>\n",
       "      <td>-4.055033</td>\n",
       "      <td>-4.036220</td>\n",
       "    </tr>\n",
       "    <tr>\n",
       "      <th>0</th>\n",
       "      <td>MLP regression2</td>\n",
       "      <td>2</td>\n",
       "      <td>unharm_mix_regr2.sav</td>\n",
       "      <td>4.723158</td>\n",
       "      <td>0.864878</td>\n",
       "      <td>0.864923</td>\n",
       "    </tr>\n",
       "    <tr>\n",
       "      <th>0</th>\n",
       "      <td>MLP regression3</td>\n",
       "      <td>3</td>\n",
       "      <td>unharm_mix_regr3.sav</td>\n",
       "      <td>5.189101</td>\n",
       "      <td>0.851124</td>\n",
       "      <td>0.851503</td>\n",
       "    </tr>\n",
       "    <tr>\n",
       "      <th>0</th>\n",
       "      <td>MLP regression4</td>\n",
       "      <td>4</td>\n",
       "      <td>unharm_mix_regr4.sav</td>\n",
       "      <td>7.045555</td>\n",
       "      <td>-2.593745</td>\n",
       "      <td>-2.577774</td>\n",
       "    </tr>\n",
       "  </tbody>\n",
       "</table>\n",
       "</div>"
      ],
      "text/plain": [
       "         algorithm fold             file_name       mae        r2  \\\n",
       "0  MLP regression0    0  unharm_mix_regr0.sav  5.285466  0.840498   \n",
       "0  MLP regression1    1  unharm_mix_regr1.sav  7.549306 -4.055033   \n",
       "0  MLP regression2    2  unharm_mix_regr2.sav  4.723158  0.864878   \n",
       "0  MLP regression3    3  unharm_mix_regr3.sav  5.189101  0.851124   \n",
       "0  MLP regression4    4  unharm_mix_regr4.sav  7.045555 -2.593745   \n",
       "\n",
       "   explained_variance  \n",
       "0            0.840876  \n",
       "0           -4.036220  \n",
       "0            0.864923  \n",
       "0            0.851503  \n",
       "0           -2.577774  "
      ]
     },
     "execution_count": 32,
     "metadata": {},
     "output_type": "execute_result"
    }
   ],
   "source": [
    "regr_k_frame, regr_y_frame, models = sep.frame_a_model_sex_split('MLP regression', 'unharm_mix_regr',   MLPRegressor(random_state=1, max_iter=700), ml_matrix, X[:,1:], y)\n",
    "regr_k_frame"
   ]
  },
  {
   "cell_type": "code",
   "execution_count": 33,
   "id": "33e2d523-3a35-4a4a-913b-196cf9dff8e0",
   "metadata": {
    "tags": []
   },
   "outputs": [
    {
     "data": {
      "text/html": [
       "<div>\n",
       "<style scoped>\n",
       "    .dataframe tbody tr th:only-of-type {\n",
       "        vertical-align: middle;\n",
       "    }\n",
       "\n",
       "    .dataframe tbody tr th {\n",
       "        vertical-align: top;\n",
       "    }\n",
       "\n",
       "    .dataframe thead th {\n",
       "        text-align: right;\n",
       "    }\n",
       "</style>\n",
       "<table border=\"1\" class=\"dataframe\">\n",
       "  <thead>\n",
       "    <tr style=\"text-align: right;\">\n",
       "      <th></th>\n",
       "      <th>algorithm</th>\n",
       "      <th>file_name</th>\n",
       "      <th>mae</th>\n",
       "      <th>r2</th>\n",
       "      <th>explained_variance</th>\n",
       "    </tr>\n",
       "  </thead>\n",
       "  <tbody>\n",
       "    <tr>\n",
       "      <th>0</th>\n",
       "      <td>0    MLP regression0\n",
       "0    MLP regression1\n",
       "0   ...</td>\n",
       "      <td>0    unharm_mix_regr0.sav\n",
       "0    unharm_mix_regr...</td>\n",
       "      <td>5.958517</td>\n",
       "      <td>-0.818456</td>\n",
       "      <td>-0.811339</td>\n",
       "    </tr>\n",
       "  </tbody>\n",
       "</table>\n",
       "</div>"
      ],
      "text/plain": [
       "                                           algorithm  \\\n",
       "0  0    MLP regression0\n",
       "0    MLP regression1\n",
       "0   ...   \n",
       "\n",
       "                                           file_name       mae        r2  \\\n",
       "0  0    unharm_mix_regr0.sav\n",
       "0    unharm_mix_regr...  5.958517 -0.818456   \n",
       "\n",
       "   explained_variance  \n",
       "0           -0.811339  "
      ]
     },
     "execution_count": 33,
     "metadata": {},
     "output_type": "execute_result"
    }
   ],
   "source": [
    "avg_regr = sep.avg_k_folds(regr_k_frame)\n",
    "avg_regr"
   ]
  },
  {
   "cell_type": "code",
   "execution_count": 34,
   "id": "8653b179-eb05-45d3-82fd-83bee512bb96",
   "metadata": {
    "tags": []
   },
   "outputs": [
    {
     "data": {
      "text/html": [
       "<div>\n",
       "<style scoped>\n",
       "    .dataframe tbody tr th:only-of-type {\n",
       "        vertical-align: middle;\n",
       "    }\n",
       "\n",
       "    .dataframe tbody tr th {\n",
       "        vertical-align: top;\n",
       "    }\n",
       "\n",
       "    .dataframe thead th {\n",
       "        text-align: right;\n",
       "    }\n",
       "</style>\n",
       "<table border=\"1\" class=\"dataframe\">\n",
       "  <thead>\n",
       "    <tr style=\"text-align: right;\">\n",
       "      <th></th>\n",
       "      <th>y_test</th>\n",
       "      <th>y_pred</th>\n",
       "    </tr>\n",
       "  </thead>\n",
       "  <tbody>\n",
       "    <tr>\n",
       "      <th>0</th>\n",
       "      <td>38.080000</td>\n",
       "      <td>48.065042</td>\n",
       "    </tr>\n",
       "    <tr>\n",
       "      <th>1</th>\n",
       "      <td>67.178082</td>\n",
       "      <td>71.795376</td>\n",
       "    </tr>\n",
       "    <tr>\n",
       "      <th>2</th>\n",
       "      <td>23.200000</td>\n",
       "      <td>27.598261</td>\n",
       "    </tr>\n",
       "    <tr>\n",
       "      <th>3</th>\n",
       "      <td>75.106849</td>\n",
       "      <td>80.106396</td>\n",
       "    </tr>\n",
       "    <tr>\n",
       "      <th>4</th>\n",
       "      <td>74.235616</td>\n",
       "      <td>58.644881</td>\n",
       "    </tr>\n",
       "    <tr>\n",
       "      <th>...</th>\n",
       "      <td>...</td>\n",
       "      <td>...</td>\n",
       "    </tr>\n",
       "    <tr>\n",
       "      <th>256</th>\n",
       "      <td>40.355191</td>\n",
       "      <td>39.314347</td>\n",
       "    </tr>\n",
       "    <tr>\n",
       "      <th>257</th>\n",
       "      <td>56.063014</td>\n",
       "      <td>48.034392</td>\n",
       "    </tr>\n",
       "    <tr>\n",
       "      <th>258</th>\n",
       "      <td>76.002740</td>\n",
       "      <td>80.304902</td>\n",
       "    </tr>\n",
       "    <tr>\n",
       "      <th>259</th>\n",
       "      <td>72.605479</td>\n",
       "      <td>60.230711</td>\n",
       "    </tr>\n",
       "    <tr>\n",
       "      <th>260</th>\n",
       "      <td>41.940000</td>\n",
       "      <td>47.021286</td>\n",
       "    </tr>\n",
       "  </tbody>\n",
       "</table>\n",
       "<p>1305 rows × 2 columns</p>\n",
       "</div>"
      ],
      "text/plain": [
       "        y_test     y_pred\n",
       "0    38.080000  48.065042\n",
       "1    67.178082  71.795376\n",
       "2    23.200000  27.598261\n",
       "3    75.106849  80.106396\n",
       "4    74.235616  58.644881\n",
       "..         ...        ...\n",
       "256  40.355191  39.314347\n",
       "257  56.063014  48.034392\n",
       "258  76.002740  80.304902\n",
       "259  72.605479  60.230711\n",
       "260  41.940000  47.021286\n",
       "\n",
       "[1305 rows x 2 columns]"
      ]
     },
     "execution_count": 34,
     "metadata": {},
     "output_type": "execute_result"
    }
   ],
   "source": [
    "regr_y_frame"
   ]
  },
  {
   "cell_type": "code",
   "execution_count": 35,
   "id": "134f09b0-87ab-4910-b25a-9679e24d0100",
   "metadata": {
    "tags": []
   },
   "outputs": [
    {
     "data": {
      "text/html": [
       "<style>#sk-container-id-4 {color: black;background-color: white;}#sk-container-id-4 pre{padding: 0;}#sk-container-id-4 div.sk-toggleable {background-color: white;}#sk-container-id-4 label.sk-toggleable__label {cursor: pointer;display: block;width: 100%;margin-bottom: 0;padding: 0.3em;box-sizing: border-box;text-align: center;}#sk-container-id-4 label.sk-toggleable__label-arrow:before {content: \"▸\";float: left;margin-right: 0.25em;color: #696969;}#sk-container-id-4 label.sk-toggleable__label-arrow:hover:before {color: black;}#sk-container-id-4 div.sk-estimator:hover label.sk-toggleable__label-arrow:before {color: black;}#sk-container-id-4 div.sk-toggleable__content {max-height: 0;max-width: 0;overflow: hidden;text-align: left;background-color: #f0f8ff;}#sk-container-id-4 div.sk-toggleable__content pre {margin: 0.2em;color: black;border-radius: 0.25em;background-color: #f0f8ff;}#sk-container-id-4 input.sk-toggleable__control:checked~div.sk-toggleable__content {max-height: 200px;max-width: 100%;overflow: auto;}#sk-container-id-4 input.sk-toggleable__control:checked~label.sk-toggleable__label-arrow:before {content: \"▾\";}#sk-container-id-4 div.sk-estimator input.sk-toggleable__control:checked~label.sk-toggleable__label {background-color: #d4ebff;}#sk-container-id-4 div.sk-label input.sk-toggleable__control:checked~label.sk-toggleable__label {background-color: #d4ebff;}#sk-container-id-4 input.sk-hidden--visually {border: 0;clip: rect(1px 1px 1px 1px);clip: rect(1px, 1px, 1px, 1px);height: 1px;margin: -1px;overflow: hidden;padding: 0;position: absolute;width: 1px;}#sk-container-id-4 div.sk-estimator {font-family: monospace;background-color: #f0f8ff;border: 1px dotted black;border-radius: 0.25em;box-sizing: border-box;margin-bottom: 0.5em;}#sk-container-id-4 div.sk-estimator:hover {background-color: #d4ebff;}#sk-container-id-4 div.sk-parallel-item::after {content: \"\";width: 100%;border-bottom: 1px solid gray;flex-grow: 1;}#sk-container-id-4 div.sk-label:hover label.sk-toggleable__label {background-color: #d4ebff;}#sk-container-id-4 div.sk-serial::before {content: \"\";position: absolute;border-left: 1px solid gray;box-sizing: border-box;top: 0;bottom: 0;left: 50%;z-index: 0;}#sk-container-id-4 div.sk-serial {display: flex;flex-direction: column;align-items: center;background-color: white;padding-right: 0.2em;padding-left: 0.2em;position: relative;}#sk-container-id-4 div.sk-item {position: relative;z-index: 1;}#sk-container-id-4 div.sk-parallel {display: flex;align-items: stretch;justify-content: center;background-color: white;position: relative;}#sk-container-id-4 div.sk-item::before, #sk-container-id-4 div.sk-parallel-item::before {content: \"\";position: absolute;border-left: 1px solid gray;box-sizing: border-box;top: 0;bottom: 0;left: 50%;z-index: -1;}#sk-container-id-4 div.sk-parallel-item {display: flex;flex-direction: column;z-index: 1;position: relative;background-color: white;}#sk-container-id-4 div.sk-parallel-item:first-child::after {align-self: flex-end;width: 50%;}#sk-container-id-4 div.sk-parallel-item:last-child::after {align-self: flex-start;width: 50%;}#sk-container-id-4 div.sk-parallel-item:only-child::after {width: 0;}#sk-container-id-4 div.sk-dashed-wrapped {border: 1px dashed gray;margin: 0 0.4em 0.5em 0.4em;box-sizing: border-box;padding-bottom: 0.4em;background-color: white;}#sk-container-id-4 div.sk-label label {font-family: monospace;font-weight: bold;display: inline-block;line-height: 1.2em;}#sk-container-id-4 div.sk-label-container {text-align: center;}#sk-container-id-4 div.sk-container {/* jupyter's `normalize.less` sets `[hidden] { display: none; }` but bootstrap.min.css set `[hidden] { display: none !important; }` so we also need the `!important` here to be able to override the default hidden behavior on the sphinx rendered scikit-learn.org. See: https://github.com/scikit-learn/scikit-learn/issues/21755 */display: inline-block !important;position: relative;}#sk-container-id-4 div.sk-text-repr-fallback {display: none;}</style><div id=\"sk-container-id-4\" class=\"sk-top-container\"><div class=\"sk-text-repr-fallback\"><pre>MLPRegressor(max_iter=700, random_state=1)</pre><b>In a Jupyter environment, please rerun this cell to show the HTML representation or trust the notebook. <br />On GitHub, the HTML representation is unable to render, please try loading this page with nbviewer.org.</b></div><div class=\"sk-container\" hidden><div class=\"sk-item\"><div class=\"sk-estimator sk-toggleable\"><input class=\"sk-toggleable__control sk-hidden--visually\" id=\"sk-estimator-id-4\" type=\"checkbox\" checked><label for=\"sk-estimator-id-4\" class=\"sk-toggleable__label sk-toggleable__label-arrow\">MLPRegressor</label><div class=\"sk-toggleable__content\"><pre>MLPRegressor(max_iter=700, random_state=1)</pre></div></div></div></div></div>"
      ],
      "text/plain": [
       "MLPRegressor(max_iter=700, random_state=1)"
      ]
     },
     "execution_count": 35,
     "metadata": {},
     "output_type": "execute_result"
    }
   ],
   "source": [
    "regr = models\n",
    "regr[0]"
   ]
  },
  {
   "cell_type": "code",
   "execution_count": null,
   "id": "095deab9-54f5-452e-bb15-5acc5d3ed06b",
   "metadata": {},
   "outputs": [],
   "source": []
  },
  {
   "cell_type": "code",
   "execution_count": 36,
   "id": "4255d797-bcd4-4323-bac5-393c539cd4fd",
   "metadata": {
    "tags": []
   },
   "outputs": [
    {
     "name": "stdout",
     "output_type": "stream",
     "text": [
      "StratifiedShuffleSplit(n_splits=5, random_state=12, test_size=0.25,\n",
      "            train_size=None)\n",
      "Whole dataset shape: X (1041, 18), y (1041,)\n",
      "Classes: [0 1], percentages: [54.75504323 45.24495677]\n",
      "\n",
      "Fold 0:\n",
      "Train shapes: X (780, 18)  y (780,)\n",
      "Sex classes: [0 1] percentages: [54.74358974 45.25641026]\n",
      "\n",
      "Test shapes: X (261, 18)   y (261,)\n",
      "Sex classes: [0 1],percentages: [54.78927203 45.21072797]\n",
      "\n",
      "Fold 1:\n",
      "Train shapes: X (780, 18)  y (780,)\n",
      "Sex classes: [0 1] percentages: [54.74358974 45.25641026]\n",
      "\n",
      "Test shapes: X (261, 18)   y (261,)\n",
      "Sex classes: [0 1],percentages: [54.78927203 45.21072797]\n",
      "\n",
      "Fold 2:\n",
      "Train shapes: X (780, 18)  y (780,)\n",
      "Sex classes: [0 1] percentages: [54.74358974 45.25641026]\n",
      "\n",
      "Test shapes: X (261, 18)   y (261,)\n",
      "Sex classes: [0 1],percentages: [54.78927203 45.21072797]\n",
      "\n",
      "Fold 3:\n",
      "Train shapes: X (780, 18)  y (780,)\n",
      "Sex classes: [0 1] percentages: [54.74358974 45.25641026]\n",
      "\n",
      "Test shapes: X (261, 18)   y (261,)\n",
      "Sex classes: [0 1],percentages: [54.78927203 45.21072797]\n",
      "\n",
      "Fold 4:\n",
      "Train shapes: X (780, 18)  y (780,)\n",
      "Sex classes: [0 1] percentages: [54.74358974 45.25641026]\n",
      "\n",
      "Test shapes: X (261, 18)   y (261,)\n",
      "Sex classes: [0 1],percentages: [54.78927203 45.21072797]\n"
     ]
    },
    {
     "data": {
      "text/html": [
       "<div>\n",
       "<style scoped>\n",
       "    .dataframe tbody tr th:only-of-type {\n",
       "        vertical-align: middle;\n",
       "    }\n",
       "\n",
       "    .dataframe tbody tr th {\n",
       "        vertical-align: top;\n",
       "    }\n",
       "\n",
       "    .dataframe thead th {\n",
       "        text-align: right;\n",
       "    }\n",
       "</style>\n",
       "<table border=\"1\" class=\"dataframe\">\n",
       "  <thead>\n",
       "    <tr style=\"text-align: right;\">\n",
       "      <th></th>\n",
       "      <th>algorithm</th>\n",
       "      <th>fold</th>\n",
       "      <th>file_name</th>\n",
       "      <th>mae</th>\n",
       "      <th>r2</th>\n",
       "      <th>explained_variance</th>\n",
       "    </tr>\n",
       "  </thead>\n",
       "  <tbody>\n",
       "    <tr>\n",
       "      <th>0</th>\n",
       "      <td>support vector reg poly20</td>\n",
       "      <td>0</td>\n",
       "      <td>unharm_mix_svrp20.sav</td>\n",
       "      <td>10.023877</td>\n",
       "      <td>0.459398</td>\n",
       "      <td>0.461176</td>\n",
       "    </tr>\n",
       "    <tr>\n",
       "      <th>0</th>\n",
       "      <td>support vector reg poly21</td>\n",
       "      <td>1</td>\n",
       "      <td>unharm_mix_svrp21.sav</td>\n",
       "      <td>12.112316</td>\n",
       "      <td>-1.461124</td>\n",
       "      <td>-1.411434</td>\n",
       "    </tr>\n",
       "    <tr>\n",
       "      <th>0</th>\n",
       "      <td>support vector reg poly22</td>\n",
       "      <td>2</td>\n",
       "      <td>unharm_mix_svrp22.sav</td>\n",
       "      <td>10.126550</td>\n",
       "      <td>0.461354</td>\n",
       "      <td>0.464082</td>\n",
       "    </tr>\n",
       "    <tr>\n",
       "      <th>0</th>\n",
       "      <td>support vector reg poly23</td>\n",
       "      <td>3</td>\n",
       "      <td>unharm_mix_svrp23.sav</td>\n",
       "      <td>10.456102</td>\n",
       "      <td>0.478268</td>\n",
       "      <td>0.478678</td>\n",
       "    </tr>\n",
       "    <tr>\n",
       "      <th>0</th>\n",
       "      <td>support vector reg poly24</td>\n",
       "      <td>4</td>\n",
       "      <td>unharm_mix_svrp24.sav</td>\n",
       "      <td>12.296433</td>\n",
       "      <td>-2.016337</td>\n",
       "      <td>-2.016333</td>\n",
       "    </tr>\n",
       "  </tbody>\n",
       "</table>\n",
       "</div>"
      ],
      "text/plain": [
       "                   algorithm fold              file_name        mae        r2  \\\n",
       "0  support vector reg poly20    0  unharm_mix_svrp20.sav  10.023877  0.459398   \n",
       "0  support vector reg poly21    1  unharm_mix_svrp21.sav  12.112316 -1.461124   \n",
       "0  support vector reg poly22    2  unharm_mix_svrp22.sav  10.126550  0.461354   \n",
       "0  support vector reg poly23    3  unharm_mix_svrp23.sav  10.456102  0.478268   \n",
       "0  support vector reg poly24    4  unharm_mix_svrp24.sav  12.296433 -2.016337   \n",
       "\n",
       "   explained_variance  \n",
       "0            0.461176  \n",
       "0           -1.411434  \n",
       "0            0.464082  \n",
       "0            0.478678  \n",
       "0           -2.016333  "
      ]
     },
     "execution_count": 36,
     "metadata": {},
     "output_type": "execute_result"
    }
   ],
   "source": [
    "svrp2_k_frame, svrp2_y_frame, models = sep.frame_a_model_sex_split('support vector reg poly2', 'unharm_mix_svrp2',   SVR(C=1.0, kernel='poly', degree =2, epsilon=0.2), ml_matrix, X[:,1:], y)\n",
    "svrp2_k_frame"
   ]
  },
  {
   "cell_type": "code",
   "execution_count": 37,
   "id": "cd4d587b-0386-413b-a1d8-2210e62a8e5f",
   "metadata": {
    "tags": []
   },
   "outputs": [
    {
     "data": {
      "text/html": [
       "<div>\n",
       "<style scoped>\n",
       "    .dataframe tbody tr th:only-of-type {\n",
       "        vertical-align: middle;\n",
       "    }\n",
       "\n",
       "    .dataframe tbody tr th {\n",
       "        vertical-align: top;\n",
       "    }\n",
       "\n",
       "    .dataframe thead th {\n",
       "        text-align: right;\n",
       "    }\n",
       "</style>\n",
       "<table border=\"1\" class=\"dataframe\">\n",
       "  <thead>\n",
       "    <tr style=\"text-align: right;\">\n",
       "      <th></th>\n",
       "      <th>algorithm</th>\n",
       "      <th>file_name</th>\n",
       "      <th>mae</th>\n",
       "      <th>r2</th>\n",
       "      <th>explained_variance</th>\n",
       "    </tr>\n",
       "  </thead>\n",
       "  <tbody>\n",
       "    <tr>\n",
       "      <th>0</th>\n",
       "      <td>0    support vector reg poly20\n",
       "0    support ve...</td>\n",
       "      <td>0    unharm_mix_svrp20.sav\n",
       "0    unharm_mix_svr...</td>\n",
       "      <td>11.003056</td>\n",
       "      <td>-0.415688</td>\n",
       "      <td>-0.404766</td>\n",
       "    </tr>\n",
       "  </tbody>\n",
       "</table>\n",
       "</div>"
      ],
      "text/plain": [
       "                                           algorithm  \\\n",
       "0  0    support vector reg poly20\n",
       "0    support ve...   \n",
       "\n",
       "                                           file_name        mae        r2  \\\n",
       "0  0    unharm_mix_svrp20.sav\n",
       "0    unharm_mix_svr...  11.003056 -0.415688   \n",
       "\n",
       "   explained_variance  \n",
       "0           -0.404766  "
      ]
     },
     "execution_count": 37,
     "metadata": {},
     "output_type": "execute_result"
    }
   ],
   "source": [
    "avg_svrp2 = sep.avg_k_folds(svrp2_k_frame)\n",
    "avg_svrp2"
   ]
  },
  {
   "cell_type": "code",
   "execution_count": 38,
   "id": "93c133a2-fc16-4558-8f0e-d348b6d4b950",
   "metadata": {
    "tags": []
   },
   "outputs": [
    {
     "data": {
      "text/html": [
       "<div>\n",
       "<style scoped>\n",
       "    .dataframe tbody tr th:only-of-type {\n",
       "        vertical-align: middle;\n",
       "    }\n",
       "\n",
       "    .dataframe tbody tr th {\n",
       "        vertical-align: top;\n",
       "    }\n",
       "\n",
       "    .dataframe thead th {\n",
       "        text-align: right;\n",
       "    }\n",
       "</style>\n",
       "<table border=\"1\" class=\"dataframe\">\n",
       "  <thead>\n",
       "    <tr style=\"text-align: right;\">\n",
       "      <th></th>\n",
       "      <th>y_test</th>\n",
       "      <th>y_pred</th>\n",
       "    </tr>\n",
       "  </thead>\n",
       "  <tbody>\n",
       "    <tr>\n",
       "      <th>0</th>\n",
       "      <td>38.080000</td>\n",
       "      <td>49.619623</td>\n",
       "    </tr>\n",
       "    <tr>\n",
       "      <th>1</th>\n",
       "      <td>67.178082</td>\n",
       "      <td>54.321574</td>\n",
       "    </tr>\n",
       "    <tr>\n",
       "      <th>2</th>\n",
       "      <td>23.200000</td>\n",
       "      <td>33.592315</td>\n",
       "    </tr>\n",
       "    <tr>\n",
       "      <th>3</th>\n",
       "      <td>75.106849</td>\n",
       "      <td>66.519037</td>\n",
       "    </tr>\n",
       "    <tr>\n",
       "      <th>4</th>\n",
       "      <td>74.235616</td>\n",
       "      <td>53.390149</td>\n",
       "    </tr>\n",
       "    <tr>\n",
       "      <th>...</th>\n",
       "      <td>...</td>\n",
       "      <td>...</td>\n",
       "    </tr>\n",
       "    <tr>\n",
       "      <th>256</th>\n",
       "      <td>40.355191</td>\n",
       "      <td>53.015840</td>\n",
       "    </tr>\n",
       "    <tr>\n",
       "      <th>257</th>\n",
       "      <td>56.063014</td>\n",
       "      <td>56.213827</td>\n",
       "    </tr>\n",
       "    <tr>\n",
       "      <th>258</th>\n",
       "      <td>76.002740</td>\n",
       "      <td>62.142213</td>\n",
       "    </tr>\n",
       "    <tr>\n",
       "      <th>259</th>\n",
       "      <td>72.605479</td>\n",
       "      <td>41.745342</td>\n",
       "    </tr>\n",
       "    <tr>\n",
       "      <th>260</th>\n",
       "      <td>41.940000</td>\n",
       "      <td>48.973597</td>\n",
       "    </tr>\n",
       "  </tbody>\n",
       "</table>\n",
       "<p>1305 rows × 2 columns</p>\n",
       "</div>"
      ],
      "text/plain": [
       "        y_test     y_pred\n",
       "0    38.080000  49.619623\n",
       "1    67.178082  54.321574\n",
       "2    23.200000  33.592315\n",
       "3    75.106849  66.519037\n",
       "4    74.235616  53.390149\n",
       "..         ...        ...\n",
       "256  40.355191  53.015840\n",
       "257  56.063014  56.213827\n",
       "258  76.002740  62.142213\n",
       "259  72.605479  41.745342\n",
       "260  41.940000  48.973597\n",
       "\n",
       "[1305 rows x 2 columns]"
      ]
     },
     "execution_count": 38,
     "metadata": {},
     "output_type": "execute_result"
    }
   ],
   "source": [
    "svrp2_y_frame"
   ]
  },
  {
   "cell_type": "code",
   "execution_count": 39,
   "id": "559c3544-c9ac-46a4-94d1-ea9bd597c63a",
   "metadata": {
    "tags": []
   },
   "outputs": [
    {
     "data": {
      "text/html": [
       "<style>#sk-container-id-5 {color: black;background-color: white;}#sk-container-id-5 pre{padding: 0;}#sk-container-id-5 div.sk-toggleable {background-color: white;}#sk-container-id-5 label.sk-toggleable__label {cursor: pointer;display: block;width: 100%;margin-bottom: 0;padding: 0.3em;box-sizing: border-box;text-align: center;}#sk-container-id-5 label.sk-toggleable__label-arrow:before {content: \"▸\";float: left;margin-right: 0.25em;color: #696969;}#sk-container-id-5 label.sk-toggleable__label-arrow:hover:before {color: black;}#sk-container-id-5 div.sk-estimator:hover label.sk-toggleable__label-arrow:before {color: black;}#sk-container-id-5 div.sk-toggleable__content {max-height: 0;max-width: 0;overflow: hidden;text-align: left;background-color: #f0f8ff;}#sk-container-id-5 div.sk-toggleable__content pre {margin: 0.2em;color: black;border-radius: 0.25em;background-color: #f0f8ff;}#sk-container-id-5 input.sk-toggleable__control:checked~div.sk-toggleable__content {max-height: 200px;max-width: 100%;overflow: auto;}#sk-container-id-5 input.sk-toggleable__control:checked~label.sk-toggleable__label-arrow:before {content: \"▾\";}#sk-container-id-5 div.sk-estimator input.sk-toggleable__control:checked~label.sk-toggleable__label {background-color: #d4ebff;}#sk-container-id-5 div.sk-label input.sk-toggleable__control:checked~label.sk-toggleable__label {background-color: #d4ebff;}#sk-container-id-5 input.sk-hidden--visually {border: 0;clip: rect(1px 1px 1px 1px);clip: rect(1px, 1px, 1px, 1px);height: 1px;margin: -1px;overflow: hidden;padding: 0;position: absolute;width: 1px;}#sk-container-id-5 div.sk-estimator {font-family: monospace;background-color: #f0f8ff;border: 1px dotted black;border-radius: 0.25em;box-sizing: border-box;margin-bottom: 0.5em;}#sk-container-id-5 div.sk-estimator:hover {background-color: #d4ebff;}#sk-container-id-5 div.sk-parallel-item::after {content: \"\";width: 100%;border-bottom: 1px solid gray;flex-grow: 1;}#sk-container-id-5 div.sk-label:hover label.sk-toggleable__label {background-color: #d4ebff;}#sk-container-id-5 div.sk-serial::before {content: \"\";position: absolute;border-left: 1px solid gray;box-sizing: border-box;top: 0;bottom: 0;left: 50%;z-index: 0;}#sk-container-id-5 div.sk-serial {display: flex;flex-direction: column;align-items: center;background-color: white;padding-right: 0.2em;padding-left: 0.2em;position: relative;}#sk-container-id-5 div.sk-item {position: relative;z-index: 1;}#sk-container-id-5 div.sk-parallel {display: flex;align-items: stretch;justify-content: center;background-color: white;position: relative;}#sk-container-id-5 div.sk-item::before, #sk-container-id-5 div.sk-parallel-item::before {content: \"\";position: absolute;border-left: 1px solid gray;box-sizing: border-box;top: 0;bottom: 0;left: 50%;z-index: -1;}#sk-container-id-5 div.sk-parallel-item {display: flex;flex-direction: column;z-index: 1;position: relative;background-color: white;}#sk-container-id-5 div.sk-parallel-item:first-child::after {align-self: flex-end;width: 50%;}#sk-container-id-5 div.sk-parallel-item:last-child::after {align-self: flex-start;width: 50%;}#sk-container-id-5 div.sk-parallel-item:only-child::after {width: 0;}#sk-container-id-5 div.sk-dashed-wrapped {border: 1px dashed gray;margin: 0 0.4em 0.5em 0.4em;box-sizing: border-box;padding-bottom: 0.4em;background-color: white;}#sk-container-id-5 div.sk-label label {font-family: monospace;font-weight: bold;display: inline-block;line-height: 1.2em;}#sk-container-id-5 div.sk-label-container {text-align: center;}#sk-container-id-5 div.sk-container {/* jupyter's `normalize.less` sets `[hidden] { display: none; }` but bootstrap.min.css set `[hidden] { display: none !important; }` so we also need the `!important` here to be able to override the default hidden behavior on the sphinx rendered scikit-learn.org. See: https://github.com/scikit-learn/scikit-learn/issues/21755 */display: inline-block !important;position: relative;}#sk-container-id-5 div.sk-text-repr-fallback {display: none;}</style><div id=\"sk-container-id-5\" class=\"sk-top-container\"><div class=\"sk-text-repr-fallback\"><pre>SVR(degree=2, epsilon=0.2, kernel=&#x27;poly&#x27;)</pre><b>In a Jupyter environment, please rerun this cell to show the HTML representation or trust the notebook. <br />On GitHub, the HTML representation is unable to render, please try loading this page with nbviewer.org.</b></div><div class=\"sk-container\" hidden><div class=\"sk-item\"><div class=\"sk-estimator sk-toggleable\"><input class=\"sk-toggleable__control sk-hidden--visually\" id=\"sk-estimator-id-5\" type=\"checkbox\" checked><label for=\"sk-estimator-id-5\" class=\"sk-toggleable__label sk-toggleable__label-arrow\">SVR</label><div class=\"sk-toggleable__content\"><pre>SVR(degree=2, epsilon=0.2, kernel=&#x27;poly&#x27;)</pre></div></div></div></div></div>"
      ],
      "text/plain": [
       "SVR(degree=2, epsilon=0.2, kernel='poly')"
      ]
     },
     "execution_count": 39,
     "metadata": {},
     "output_type": "execute_result"
    }
   ],
   "source": [
    "svrp2 = models\n",
    "svrp2[0]"
   ]
  },
  {
   "cell_type": "code",
   "execution_count": null,
   "id": "ca9dce61-1647-4287-852e-60e28b1d3680",
   "metadata": {},
   "outputs": [],
   "source": []
  },
  {
   "cell_type": "code",
   "execution_count": 40,
   "id": "61060fc3-0e43-4efc-ad98-a7914137adec",
   "metadata": {
    "tags": []
   },
   "outputs": [
    {
     "name": "stdout",
     "output_type": "stream",
     "text": [
      "StratifiedShuffleSplit(n_splits=5, random_state=12, test_size=0.25,\n",
      "            train_size=None)\n",
      "Whole dataset shape: X (1041, 18), y (1041,)\n",
      "Classes: [0 1], percentages: [54.75504323 45.24495677]\n",
      "\n",
      "Fold 0:\n",
      "Train shapes: X (780, 18)  y (780,)\n",
      "Sex classes: [0 1] percentages: [54.74358974 45.25641026]\n",
      "\n",
      "Test shapes: X (261, 18)   y (261,)\n",
      "Sex classes: [0 1],percentages: [54.78927203 45.21072797]\n",
      "\n",
      "Fold 1:\n",
      "Train shapes: X (780, 18)  y (780,)\n",
      "Sex classes: [0 1] percentages: [54.74358974 45.25641026]\n",
      "\n",
      "Test shapes: X (261, 18)   y (261,)\n",
      "Sex classes: [0 1],percentages: [54.78927203 45.21072797]\n",
      "\n",
      "Fold 2:\n",
      "Train shapes: X (780, 18)  y (780,)\n",
      "Sex classes: [0 1] percentages: [54.74358974 45.25641026]\n",
      "\n",
      "Test shapes: X (261, 18)   y (261,)\n",
      "Sex classes: [0 1],percentages: [54.78927203 45.21072797]\n",
      "\n",
      "Fold 3:\n",
      "Train shapes: X (780, 18)  y (780,)\n",
      "Sex classes: [0 1] percentages: [54.74358974 45.25641026]\n",
      "\n",
      "Test shapes: X (261, 18)   y (261,)\n",
      "Sex classes: [0 1],percentages: [54.78927203 45.21072797]\n",
      "\n",
      "Fold 4:\n",
      "Train shapes: X (780, 18)  y (780,)\n",
      "Sex classes: [0 1] percentages: [54.74358974 45.25641026]\n",
      "\n",
      "Test shapes: X (261, 18)   y (261,)\n",
      "Sex classes: [0 1],percentages: [54.78927203 45.21072797]\n"
     ]
    },
    {
     "data": {
      "text/html": [
       "<div>\n",
       "<style scoped>\n",
       "    .dataframe tbody tr th:only-of-type {\n",
       "        vertical-align: middle;\n",
       "    }\n",
       "\n",
       "    .dataframe tbody tr th {\n",
       "        vertical-align: top;\n",
       "    }\n",
       "\n",
       "    .dataframe thead th {\n",
       "        text-align: right;\n",
       "    }\n",
       "</style>\n",
       "<table border=\"1\" class=\"dataframe\">\n",
       "  <thead>\n",
       "    <tr style=\"text-align: right;\">\n",
       "      <th></th>\n",
       "      <th>algorithm</th>\n",
       "      <th>fold</th>\n",
       "      <th>file_name</th>\n",
       "      <th>mae</th>\n",
       "      <th>r2</th>\n",
       "      <th>explained_variance</th>\n",
       "    </tr>\n",
       "  </thead>\n",
       "  <tbody>\n",
       "    <tr>\n",
       "      <th>0</th>\n",
       "      <td>elasticnetCV0</td>\n",
       "      <td>0</td>\n",
       "      <td>unharm_mix_eregr0.sav</td>\n",
       "      <td>8.717609</td>\n",
       "      <td>0.578495</td>\n",
       "      <td>0.579203</td>\n",
       "    </tr>\n",
       "    <tr>\n",
       "      <th>0</th>\n",
       "      <td>elasticnetCV1</td>\n",
       "      <td>1</td>\n",
       "      <td>unharm_mix_eregr1.sav</td>\n",
       "      <td>7.678320</td>\n",
       "      <td>-1.817407</td>\n",
       "      <td>-1.805408</td>\n",
       "    </tr>\n",
       "    <tr>\n",
       "      <th>0</th>\n",
       "      <td>elasticnetCV2</td>\n",
       "      <td>2</td>\n",
       "      <td>unharm_mix_eregr2.sav</td>\n",
       "      <td>8.978482</td>\n",
       "      <td>0.576246</td>\n",
       "      <td>0.576271</td>\n",
       "    </tr>\n",
       "    <tr>\n",
       "      <th>0</th>\n",
       "      <td>elasticnetCV3</td>\n",
       "      <td>3</td>\n",
       "      <td>unharm_mix_eregr3.sav</td>\n",
       "      <td>9.464145</td>\n",
       "      <td>0.579055</td>\n",
       "      <td>0.580040</td>\n",
       "    </tr>\n",
       "    <tr>\n",
       "      <th>0</th>\n",
       "      <td>elasticnetCV4</td>\n",
       "      <td>4</td>\n",
       "      <td>unharm_mix_eregr4.sav</td>\n",
       "      <td>7.841744</td>\n",
       "      <td>-2.150874</td>\n",
       "      <td>-2.130226</td>\n",
       "    </tr>\n",
       "  </tbody>\n",
       "</table>\n",
       "</div>"
      ],
      "text/plain": [
       "       algorithm fold              file_name       mae        r2  \\\n",
       "0  elasticnetCV0    0  unharm_mix_eregr0.sav  8.717609  0.578495   \n",
       "0  elasticnetCV1    1  unharm_mix_eregr1.sav  7.678320 -1.817407   \n",
       "0  elasticnetCV2    2  unharm_mix_eregr2.sav  8.978482  0.576246   \n",
       "0  elasticnetCV3    3  unharm_mix_eregr3.sav  9.464145  0.579055   \n",
       "0  elasticnetCV4    4  unharm_mix_eregr4.sav  7.841744 -2.150874   \n",
       "\n",
       "   explained_variance  \n",
       "0            0.579203  \n",
       "0           -1.805408  \n",
       "0            0.576271  \n",
       "0            0.580040  \n",
       "0           -2.130226  "
      ]
     },
     "execution_count": 40,
     "metadata": {},
     "output_type": "execute_result"
    }
   ],
   "source": [
    "eregr_k_frame, eregr_y_frame, models = sep.frame_a_model_sex_split('elasticnetCV', 'unharm_mix_eregr',  ElasticNetCV(cv=5, random_state=12), ml_matrix, X[:,1:], y)\n",
    "eregr_k_frame"
   ]
  },
  {
   "cell_type": "code",
   "execution_count": 41,
   "id": "ce1bb2eb-b10b-4a04-9d30-f96fa1e1ff3b",
   "metadata": {
    "tags": []
   },
   "outputs": [
    {
     "data": {
      "text/html": [
       "<div>\n",
       "<style scoped>\n",
       "    .dataframe tbody tr th:only-of-type {\n",
       "        vertical-align: middle;\n",
       "    }\n",
       "\n",
       "    .dataframe tbody tr th {\n",
       "        vertical-align: top;\n",
       "    }\n",
       "\n",
       "    .dataframe thead th {\n",
       "        text-align: right;\n",
       "    }\n",
       "</style>\n",
       "<table border=\"1\" class=\"dataframe\">\n",
       "  <thead>\n",
       "    <tr style=\"text-align: right;\">\n",
       "      <th></th>\n",
       "      <th>algorithm</th>\n",
       "      <th>file_name</th>\n",
       "      <th>mae</th>\n",
       "      <th>r2</th>\n",
       "      <th>explained_variance</th>\n",
       "    </tr>\n",
       "  </thead>\n",
       "  <tbody>\n",
       "    <tr>\n",
       "      <th>0</th>\n",
       "      <td>0    elasticnetCV0\n",
       "0    elasticnetCV1\n",
       "0    ela...</td>\n",
       "      <td>0    unharm_mix_eregr0.sav\n",
       "0    unharm_mix_ere...</td>\n",
       "      <td>8.53606</td>\n",
       "      <td>-0.446897</td>\n",
       "      <td>-0.440024</td>\n",
       "    </tr>\n",
       "  </tbody>\n",
       "</table>\n",
       "</div>"
      ],
      "text/plain": [
       "                                           algorithm  \\\n",
       "0  0    elasticnetCV0\n",
       "0    elasticnetCV1\n",
       "0    ela...   \n",
       "\n",
       "                                           file_name      mae        r2  \\\n",
       "0  0    unharm_mix_eregr0.sav\n",
       "0    unharm_mix_ere...  8.53606 -0.446897   \n",
       "\n",
       "   explained_variance  \n",
       "0           -0.440024  "
      ]
     },
     "execution_count": 41,
     "metadata": {},
     "output_type": "execute_result"
    }
   ],
   "source": [
    "avg_eregr = sep.avg_k_folds(eregr_k_frame)\n",
    "avg_eregr"
   ]
  },
  {
   "cell_type": "code",
   "execution_count": 42,
   "id": "ab97ad53-ab96-4eb3-9c4a-80bc6093bb86",
   "metadata": {
    "tags": []
   },
   "outputs": [
    {
     "data": {
      "text/html": [
       "<div>\n",
       "<style scoped>\n",
       "    .dataframe tbody tr th:only-of-type {\n",
       "        vertical-align: middle;\n",
       "    }\n",
       "\n",
       "    .dataframe tbody tr th {\n",
       "        vertical-align: top;\n",
       "    }\n",
       "\n",
       "    .dataframe thead th {\n",
       "        text-align: right;\n",
       "    }\n",
       "</style>\n",
       "<table border=\"1\" class=\"dataframe\">\n",
       "  <thead>\n",
       "    <tr style=\"text-align: right;\">\n",
       "      <th></th>\n",
       "      <th>y_test</th>\n",
       "      <th>y_pred</th>\n",
       "    </tr>\n",
       "  </thead>\n",
       "  <tbody>\n",
       "    <tr>\n",
       "      <th>0</th>\n",
       "      <td>38.080000</td>\n",
       "      <td>55.138073</td>\n",
       "    </tr>\n",
       "    <tr>\n",
       "      <th>1</th>\n",
       "      <td>67.178082</td>\n",
       "      <td>59.017011</td>\n",
       "    </tr>\n",
       "    <tr>\n",
       "      <th>2</th>\n",
       "      <td>23.200000</td>\n",
       "      <td>29.489444</td>\n",
       "    </tr>\n",
       "    <tr>\n",
       "      <th>3</th>\n",
       "      <td>75.106849</td>\n",
       "      <td>78.031706</td>\n",
       "    </tr>\n",
       "    <tr>\n",
       "      <th>4</th>\n",
       "      <td>74.235616</td>\n",
       "      <td>61.596004</td>\n",
       "    </tr>\n",
       "    <tr>\n",
       "      <th>...</th>\n",
       "      <td>...</td>\n",
       "      <td>...</td>\n",
       "    </tr>\n",
       "    <tr>\n",
       "      <th>256</th>\n",
       "      <td>40.355191</td>\n",
       "      <td>42.527965</td>\n",
       "    </tr>\n",
       "    <tr>\n",
       "      <th>257</th>\n",
       "      <td>56.063014</td>\n",
       "      <td>54.481011</td>\n",
       "    </tr>\n",
       "    <tr>\n",
       "      <th>258</th>\n",
       "      <td>76.002740</td>\n",
       "      <td>62.114563</td>\n",
       "    </tr>\n",
       "    <tr>\n",
       "      <th>259</th>\n",
       "      <td>72.605479</td>\n",
       "      <td>56.817766</td>\n",
       "    </tr>\n",
       "    <tr>\n",
       "      <th>260</th>\n",
       "      <td>41.940000</td>\n",
       "      <td>49.032371</td>\n",
       "    </tr>\n",
       "  </tbody>\n",
       "</table>\n",
       "<p>1305 rows × 2 columns</p>\n",
       "</div>"
      ],
      "text/plain": [
       "        y_test     y_pred\n",
       "0    38.080000  55.138073\n",
       "1    67.178082  59.017011\n",
       "2    23.200000  29.489444\n",
       "3    75.106849  78.031706\n",
       "4    74.235616  61.596004\n",
       "..         ...        ...\n",
       "256  40.355191  42.527965\n",
       "257  56.063014  54.481011\n",
       "258  76.002740  62.114563\n",
       "259  72.605479  56.817766\n",
       "260  41.940000  49.032371\n",
       "\n",
       "[1305 rows x 2 columns]"
      ]
     },
     "execution_count": 42,
     "metadata": {},
     "output_type": "execute_result"
    }
   ],
   "source": [
    "eregr_y_frame"
   ]
  },
  {
   "cell_type": "code",
   "execution_count": 43,
   "id": "5cc6f720-a67e-4354-b036-4533b08f2000",
   "metadata": {
    "tags": []
   },
   "outputs": [
    {
     "data": {
      "text/html": [
       "<style>#sk-container-id-6 {color: black;background-color: white;}#sk-container-id-6 pre{padding: 0;}#sk-container-id-6 div.sk-toggleable {background-color: white;}#sk-container-id-6 label.sk-toggleable__label {cursor: pointer;display: block;width: 100%;margin-bottom: 0;padding: 0.3em;box-sizing: border-box;text-align: center;}#sk-container-id-6 label.sk-toggleable__label-arrow:before {content: \"▸\";float: left;margin-right: 0.25em;color: #696969;}#sk-container-id-6 label.sk-toggleable__label-arrow:hover:before {color: black;}#sk-container-id-6 div.sk-estimator:hover label.sk-toggleable__label-arrow:before {color: black;}#sk-container-id-6 div.sk-toggleable__content {max-height: 0;max-width: 0;overflow: hidden;text-align: left;background-color: #f0f8ff;}#sk-container-id-6 div.sk-toggleable__content pre {margin: 0.2em;color: black;border-radius: 0.25em;background-color: #f0f8ff;}#sk-container-id-6 input.sk-toggleable__control:checked~div.sk-toggleable__content {max-height: 200px;max-width: 100%;overflow: auto;}#sk-container-id-6 input.sk-toggleable__control:checked~label.sk-toggleable__label-arrow:before {content: \"▾\";}#sk-container-id-6 div.sk-estimator input.sk-toggleable__control:checked~label.sk-toggleable__label {background-color: #d4ebff;}#sk-container-id-6 div.sk-label input.sk-toggleable__control:checked~label.sk-toggleable__label {background-color: #d4ebff;}#sk-container-id-6 input.sk-hidden--visually {border: 0;clip: rect(1px 1px 1px 1px);clip: rect(1px, 1px, 1px, 1px);height: 1px;margin: -1px;overflow: hidden;padding: 0;position: absolute;width: 1px;}#sk-container-id-6 div.sk-estimator {font-family: monospace;background-color: #f0f8ff;border: 1px dotted black;border-radius: 0.25em;box-sizing: border-box;margin-bottom: 0.5em;}#sk-container-id-6 div.sk-estimator:hover {background-color: #d4ebff;}#sk-container-id-6 div.sk-parallel-item::after {content: \"\";width: 100%;border-bottom: 1px solid gray;flex-grow: 1;}#sk-container-id-6 div.sk-label:hover label.sk-toggleable__label {background-color: #d4ebff;}#sk-container-id-6 div.sk-serial::before {content: \"\";position: absolute;border-left: 1px solid gray;box-sizing: border-box;top: 0;bottom: 0;left: 50%;z-index: 0;}#sk-container-id-6 div.sk-serial {display: flex;flex-direction: column;align-items: center;background-color: white;padding-right: 0.2em;padding-left: 0.2em;position: relative;}#sk-container-id-6 div.sk-item {position: relative;z-index: 1;}#sk-container-id-6 div.sk-parallel {display: flex;align-items: stretch;justify-content: center;background-color: white;position: relative;}#sk-container-id-6 div.sk-item::before, #sk-container-id-6 div.sk-parallel-item::before {content: \"\";position: absolute;border-left: 1px solid gray;box-sizing: border-box;top: 0;bottom: 0;left: 50%;z-index: -1;}#sk-container-id-6 div.sk-parallel-item {display: flex;flex-direction: column;z-index: 1;position: relative;background-color: white;}#sk-container-id-6 div.sk-parallel-item:first-child::after {align-self: flex-end;width: 50%;}#sk-container-id-6 div.sk-parallel-item:last-child::after {align-self: flex-start;width: 50%;}#sk-container-id-6 div.sk-parallel-item:only-child::after {width: 0;}#sk-container-id-6 div.sk-dashed-wrapped {border: 1px dashed gray;margin: 0 0.4em 0.5em 0.4em;box-sizing: border-box;padding-bottom: 0.4em;background-color: white;}#sk-container-id-6 div.sk-label label {font-family: monospace;font-weight: bold;display: inline-block;line-height: 1.2em;}#sk-container-id-6 div.sk-label-container {text-align: center;}#sk-container-id-6 div.sk-container {/* jupyter's `normalize.less` sets `[hidden] { display: none; }` but bootstrap.min.css set `[hidden] { display: none !important; }` so we also need the `!important` here to be able to override the default hidden behavior on the sphinx rendered scikit-learn.org. See: https://github.com/scikit-learn/scikit-learn/issues/21755 */display: inline-block !important;position: relative;}#sk-container-id-6 div.sk-text-repr-fallback {display: none;}</style><div id=\"sk-container-id-6\" class=\"sk-top-container\"><div class=\"sk-text-repr-fallback\"><pre>ElasticNetCV(cv=5, random_state=12)</pre><b>In a Jupyter environment, please rerun this cell to show the HTML representation or trust the notebook. <br />On GitHub, the HTML representation is unable to render, please try loading this page with nbviewer.org.</b></div><div class=\"sk-container\" hidden><div class=\"sk-item\"><div class=\"sk-estimator sk-toggleable\"><input class=\"sk-toggleable__control sk-hidden--visually\" id=\"sk-estimator-id-6\" type=\"checkbox\" checked><label for=\"sk-estimator-id-6\" class=\"sk-toggleable__label sk-toggleable__label-arrow\">ElasticNetCV</label><div class=\"sk-toggleable__content\"><pre>ElasticNetCV(cv=5, random_state=12)</pre></div></div></div></div></div>"
      ],
      "text/plain": [
       "ElasticNetCV(cv=5, random_state=12)"
      ]
     },
     "execution_count": 43,
     "metadata": {},
     "output_type": "execute_result"
    }
   ],
   "source": [
    "eregr = models\n",
    "eregr[0]"
   ]
  },
  {
   "cell_type": "code",
   "execution_count": null,
   "id": "30540041-80d6-401a-9ad4-1b936f32a424",
   "metadata": {},
   "outputs": [],
   "source": []
  },
  {
   "cell_type": "code",
   "execution_count": 44,
   "id": "10a28950-8781-416b-8224-e0b14716900b",
   "metadata": {
    "tags": []
   },
   "outputs": [
    {
     "name": "stdout",
     "output_type": "stream",
     "text": [
      "StratifiedShuffleSplit(n_splits=5, random_state=12, test_size=0.25,\n",
      "            train_size=None)\n",
      "Whole dataset shape: X (1041, 18), y (1041,)\n",
      "Classes: [0 1], percentages: [54.75504323 45.24495677]\n",
      "\n",
      "Fold 0:\n",
      "Train shapes: X (780, 18)  y (780,)\n",
      "Sex classes: [0 1] percentages: [54.74358974 45.25641026]\n",
      "\n",
      "Test shapes: X (261, 18)   y (261,)\n",
      "Sex classes: [0 1],percentages: [54.78927203 45.21072797]\n",
      "\n",
      "Fold 1:\n",
      "Train shapes: X (780, 18)  y (780,)\n",
      "Sex classes: [0 1] percentages: [54.74358974 45.25641026]\n",
      "\n",
      "Test shapes: X (261, 18)   y (261,)\n",
      "Sex classes: [0 1],percentages: [54.78927203 45.21072797]\n",
      "\n",
      "Fold 2:\n",
      "Train shapes: X (780, 18)  y (780,)\n",
      "Sex classes: [0 1] percentages: [54.74358974 45.25641026]\n",
      "\n",
      "Test shapes: X (261, 18)   y (261,)\n",
      "Sex classes: [0 1],percentages: [54.78927203 45.21072797]\n",
      "\n",
      "Fold 3:\n",
      "Train shapes: X (780, 18)  y (780,)\n",
      "Sex classes: [0 1] percentages: [54.74358974 45.25641026]\n",
      "\n",
      "Test shapes: X (261, 18)   y (261,)\n",
      "Sex classes: [0 1],percentages: [54.78927203 45.21072797]\n",
      "\n",
      "Fold 4:\n",
      "Train shapes: X (780, 18)  y (780,)\n",
      "Sex classes: [0 1] percentages: [54.74358974 45.25641026]\n",
      "\n",
      "Test shapes: X (261, 18)   y (261,)\n",
      "Sex classes: [0 1],percentages: [54.78927203 45.21072797]\n"
     ]
    },
    {
     "data": {
      "text/html": [
       "<div>\n",
       "<style scoped>\n",
       "    .dataframe tbody tr th:only-of-type {\n",
       "        vertical-align: middle;\n",
       "    }\n",
       "\n",
       "    .dataframe tbody tr th {\n",
       "        vertical-align: top;\n",
       "    }\n",
       "\n",
       "    .dataframe thead th {\n",
       "        text-align: right;\n",
       "    }\n",
       "</style>\n",
       "<table border=\"1\" class=\"dataframe\">\n",
       "  <thead>\n",
       "    <tr style=\"text-align: right;\">\n",
       "      <th></th>\n",
       "      <th>algorithm</th>\n",
       "      <th>fold</th>\n",
       "      <th>file_name</th>\n",
       "      <th>mae</th>\n",
       "      <th>r2</th>\n",
       "      <th>explained_variance</th>\n",
       "    </tr>\n",
       "  </thead>\n",
       "  <tbody>\n",
       "    <tr>\n",
       "      <th>0</th>\n",
       "      <td>extra trees0</td>\n",
       "      <td>0</td>\n",
       "      <td>unharm_mix_etreg0.sav</td>\n",
       "      <td>4.926510</td>\n",
       "      <td>0.849962</td>\n",
       "      <td>0.850545</td>\n",
       "    </tr>\n",
       "    <tr>\n",
       "      <th>0</th>\n",
       "      <td>extra trees1</td>\n",
       "      <td>1</td>\n",
       "      <td>unharm_mix_etreg1.sav</td>\n",
       "      <td>4.551437</td>\n",
       "      <td>0.876696</td>\n",
       "      <td>0.878988</td>\n",
       "    </tr>\n",
       "    <tr>\n",
       "      <th>0</th>\n",
       "      <td>extra trees2</td>\n",
       "      <td>2</td>\n",
       "      <td>unharm_mix_etreg2.sav</td>\n",
       "      <td>4.877461</td>\n",
       "      <td>0.854953</td>\n",
       "      <td>0.855709</td>\n",
       "    </tr>\n",
       "    <tr>\n",
       "      <th>0</th>\n",
       "      <td>extra trees3</td>\n",
       "      <td>3</td>\n",
       "      <td>unharm_mix_etreg3.sav</td>\n",
       "      <td>4.604740</td>\n",
       "      <td>0.881923</td>\n",
       "      <td>0.882351</td>\n",
       "    </tr>\n",
       "    <tr>\n",
       "      <th>0</th>\n",
       "      <td>extra trees4</td>\n",
       "      <td>4</td>\n",
       "      <td>unharm_mix_etreg4.sav</td>\n",
       "      <td>4.460143</td>\n",
       "      <td>0.872858</td>\n",
       "      <td>0.874461</td>\n",
       "    </tr>\n",
       "  </tbody>\n",
       "</table>\n",
       "</div>"
      ],
      "text/plain": [
       "      algorithm fold              file_name       mae        r2  \\\n",
       "0  extra trees0    0  unharm_mix_etreg0.sav  4.926510  0.849962   \n",
       "0  extra trees1    1  unharm_mix_etreg1.sav  4.551437  0.876696   \n",
       "0  extra trees2    2  unharm_mix_etreg2.sav  4.877461  0.854953   \n",
       "0  extra trees3    3  unharm_mix_etreg3.sav  4.604740  0.881923   \n",
       "0  extra trees4    4  unharm_mix_etreg4.sav  4.460143  0.872858   \n",
       "\n",
       "   explained_variance  \n",
       "0            0.850545  \n",
       "0            0.878988  \n",
       "0            0.855709  \n",
       "0            0.882351  \n",
       "0            0.874461  "
      ]
     },
     "execution_count": 44,
     "metadata": {},
     "output_type": "execute_result"
    }
   ],
   "source": [
    "etreg_k_frame, etreg_y_frame, models = sep.frame_a_model_sex_split('extra trees', 'unharm_mix_etreg',  ExtraTreesRegressor(n_estimators=100, random_state=0), ml_matrix, X[:,1:], y)\n",
    "etreg_k_frame"
   ]
  },
  {
   "cell_type": "code",
   "execution_count": 45,
   "id": "54cb4f91-5126-4971-b5eb-57cd2dcce9b5",
   "metadata": {
    "tags": []
   },
   "outputs": [
    {
     "data": {
      "text/html": [
       "<div>\n",
       "<style scoped>\n",
       "    .dataframe tbody tr th:only-of-type {\n",
       "        vertical-align: middle;\n",
       "    }\n",
       "\n",
       "    .dataframe tbody tr th {\n",
       "        vertical-align: top;\n",
       "    }\n",
       "\n",
       "    .dataframe thead th {\n",
       "        text-align: right;\n",
       "    }\n",
       "</style>\n",
       "<table border=\"1\" class=\"dataframe\">\n",
       "  <thead>\n",
       "    <tr style=\"text-align: right;\">\n",
       "      <th></th>\n",
       "      <th>algorithm</th>\n",
       "      <th>file_name</th>\n",
       "      <th>mae</th>\n",
       "      <th>r2</th>\n",
       "      <th>explained_variance</th>\n",
       "    </tr>\n",
       "  </thead>\n",
       "  <tbody>\n",
       "    <tr>\n",
       "      <th>0</th>\n",
       "      <td>0    extra trees0\n",
       "0    extra trees1\n",
       "0    extra...</td>\n",
       "      <td>0    unharm_mix_etreg0.sav\n",
       "0    unharm_mix_etr...</td>\n",
       "      <td>4.684058</td>\n",
       "      <td>0.867278</td>\n",
       "      <td>0.868411</td>\n",
       "    </tr>\n",
       "  </tbody>\n",
       "</table>\n",
       "</div>"
      ],
      "text/plain": [
       "                                           algorithm  \\\n",
       "0  0    extra trees0\n",
       "0    extra trees1\n",
       "0    extra...   \n",
       "\n",
       "                                           file_name       mae        r2  \\\n",
       "0  0    unharm_mix_etreg0.sav\n",
       "0    unharm_mix_etr...  4.684058  0.867278   \n",
       "\n",
       "   explained_variance  \n",
       "0            0.868411  "
      ]
     },
     "execution_count": 45,
     "metadata": {},
     "output_type": "execute_result"
    }
   ],
   "source": [
    "avg_etreg = sep.avg_k_folds(etreg_k_frame)\n",
    "avg_etreg"
   ]
  },
  {
   "cell_type": "code",
   "execution_count": 46,
   "id": "7b074414-9bc5-4d73-ba5c-671d4b9fe854",
   "metadata": {
    "tags": []
   },
   "outputs": [
    {
     "data": {
      "text/html": [
       "<div>\n",
       "<style scoped>\n",
       "    .dataframe tbody tr th:only-of-type {\n",
       "        vertical-align: middle;\n",
       "    }\n",
       "\n",
       "    .dataframe tbody tr th {\n",
       "        vertical-align: top;\n",
       "    }\n",
       "\n",
       "    .dataframe thead th {\n",
       "        text-align: right;\n",
       "    }\n",
       "</style>\n",
       "<table border=\"1\" class=\"dataframe\">\n",
       "  <thead>\n",
       "    <tr style=\"text-align: right;\">\n",
       "      <th></th>\n",
       "      <th>y_test</th>\n",
       "      <th>y_pred</th>\n",
       "    </tr>\n",
       "  </thead>\n",
       "  <tbody>\n",
       "    <tr>\n",
       "      <th>0</th>\n",
       "      <td>38.080000</td>\n",
       "      <td>50.653862</td>\n",
       "    </tr>\n",
       "    <tr>\n",
       "      <th>1</th>\n",
       "      <td>67.178082</td>\n",
       "      <td>63.747678</td>\n",
       "    </tr>\n",
       "    <tr>\n",
       "      <th>2</th>\n",
       "      <td>23.200000</td>\n",
       "      <td>40.448400</td>\n",
       "    </tr>\n",
       "    <tr>\n",
       "      <th>3</th>\n",
       "      <td>75.106849</td>\n",
       "      <td>79.089953</td>\n",
       "    </tr>\n",
       "    <tr>\n",
       "      <th>4</th>\n",
       "      <td>74.235616</td>\n",
       "      <td>65.628041</td>\n",
       "    </tr>\n",
       "    <tr>\n",
       "      <th>...</th>\n",
       "      <td>...</td>\n",
       "      <td>...</td>\n",
       "    </tr>\n",
       "    <tr>\n",
       "      <th>256</th>\n",
       "      <td>40.355191</td>\n",
       "      <td>34.598201</td>\n",
       "    </tr>\n",
       "    <tr>\n",
       "      <th>257</th>\n",
       "      <td>56.063014</td>\n",
       "      <td>52.312300</td>\n",
       "    </tr>\n",
       "    <tr>\n",
       "      <th>258</th>\n",
       "      <td>76.002740</td>\n",
       "      <td>77.014414</td>\n",
       "    </tr>\n",
       "    <tr>\n",
       "      <th>259</th>\n",
       "      <td>72.605479</td>\n",
       "      <td>60.694474</td>\n",
       "    </tr>\n",
       "    <tr>\n",
       "      <th>260</th>\n",
       "      <td>41.940000</td>\n",
       "      <td>52.917930</td>\n",
       "    </tr>\n",
       "  </tbody>\n",
       "</table>\n",
       "<p>1305 rows × 2 columns</p>\n",
       "</div>"
      ],
      "text/plain": [
       "        y_test     y_pred\n",
       "0    38.080000  50.653862\n",
       "1    67.178082  63.747678\n",
       "2    23.200000  40.448400\n",
       "3    75.106849  79.089953\n",
       "4    74.235616  65.628041\n",
       "..         ...        ...\n",
       "256  40.355191  34.598201\n",
       "257  56.063014  52.312300\n",
       "258  76.002740  77.014414\n",
       "259  72.605479  60.694474\n",
       "260  41.940000  52.917930\n",
       "\n",
       "[1305 rows x 2 columns]"
      ]
     },
     "execution_count": 46,
     "metadata": {},
     "output_type": "execute_result"
    }
   ],
   "source": [
    "etreg_y_frame"
   ]
  },
  {
   "cell_type": "code",
   "execution_count": 47,
   "id": "24a210ff-abd1-4a33-8d59-da26e937ca0a",
   "metadata": {
    "tags": []
   },
   "outputs": [
    {
     "data": {
      "text/html": [
       "<style>#sk-container-id-7 {color: black;background-color: white;}#sk-container-id-7 pre{padding: 0;}#sk-container-id-7 div.sk-toggleable {background-color: white;}#sk-container-id-7 label.sk-toggleable__label {cursor: pointer;display: block;width: 100%;margin-bottom: 0;padding: 0.3em;box-sizing: border-box;text-align: center;}#sk-container-id-7 label.sk-toggleable__label-arrow:before {content: \"▸\";float: left;margin-right: 0.25em;color: #696969;}#sk-container-id-7 label.sk-toggleable__label-arrow:hover:before {color: black;}#sk-container-id-7 div.sk-estimator:hover label.sk-toggleable__label-arrow:before {color: black;}#sk-container-id-7 div.sk-toggleable__content {max-height: 0;max-width: 0;overflow: hidden;text-align: left;background-color: #f0f8ff;}#sk-container-id-7 div.sk-toggleable__content pre {margin: 0.2em;color: black;border-radius: 0.25em;background-color: #f0f8ff;}#sk-container-id-7 input.sk-toggleable__control:checked~div.sk-toggleable__content {max-height: 200px;max-width: 100%;overflow: auto;}#sk-container-id-7 input.sk-toggleable__control:checked~label.sk-toggleable__label-arrow:before {content: \"▾\";}#sk-container-id-7 div.sk-estimator input.sk-toggleable__control:checked~label.sk-toggleable__label {background-color: #d4ebff;}#sk-container-id-7 div.sk-label input.sk-toggleable__control:checked~label.sk-toggleable__label {background-color: #d4ebff;}#sk-container-id-7 input.sk-hidden--visually {border: 0;clip: rect(1px 1px 1px 1px);clip: rect(1px, 1px, 1px, 1px);height: 1px;margin: -1px;overflow: hidden;padding: 0;position: absolute;width: 1px;}#sk-container-id-7 div.sk-estimator {font-family: monospace;background-color: #f0f8ff;border: 1px dotted black;border-radius: 0.25em;box-sizing: border-box;margin-bottom: 0.5em;}#sk-container-id-7 div.sk-estimator:hover {background-color: #d4ebff;}#sk-container-id-7 div.sk-parallel-item::after {content: \"\";width: 100%;border-bottom: 1px solid gray;flex-grow: 1;}#sk-container-id-7 div.sk-label:hover label.sk-toggleable__label {background-color: #d4ebff;}#sk-container-id-7 div.sk-serial::before {content: \"\";position: absolute;border-left: 1px solid gray;box-sizing: border-box;top: 0;bottom: 0;left: 50%;z-index: 0;}#sk-container-id-7 div.sk-serial {display: flex;flex-direction: column;align-items: center;background-color: white;padding-right: 0.2em;padding-left: 0.2em;position: relative;}#sk-container-id-7 div.sk-item {position: relative;z-index: 1;}#sk-container-id-7 div.sk-parallel {display: flex;align-items: stretch;justify-content: center;background-color: white;position: relative;}#sk-container-id-7 div.sk-item::before, #sk-container-id-7 div.sk-parallel-item::before {content: \"\";position: absolute;border-left: 1px solid gray;box-sizing: border-box;top: 0;bottom: 0;left: 50%;z-index: -1;}#sk-container-id-7 div.sk-parallel-item {display: flex;flex-direction: column;z-index: 1;position: relative;background-color: white;}#sk-container-id-7 div.sk-parallel-item:first-child::after {align-self: flex-end;width: 50%;}#sk-container-id-7 div.sk-parallel-item:last-child::after {align-self: flex-start;width: 50%;}#sk-container-id-7 div.sk-parallel-item:only-child::after {width: 0;}#sk-container-id-7 div.sk-dashed-wrapped {border: 1px dashed gray;margin: 0 0.4em 0.5em 0.4em;box-sizing: border-box;padding-bottom: 0.4em;background-color: white;}#sk-container-id-7 div.sk-label label {font-family: monospace;font-weight: bold;display: inline-block;line-height: 1.2em;}#sk-container-id-7 div.sk-label-container {text-align: center;}#sk-container-id-7 div.sk-container {/* jupyter's `normalize.less` sets `[hidden] { display: none; }` but bootstrap.min.css set `[hidden] { display: none !important; }` so we also need the `!important` here to be able to override the default hidden behavior on the sphinx rendered scikit-learn.org. See: https://github.com/scikit-learn/scikit-learn/issues/21755 */display: inline-block !important;position: relative;}#sk-container-id-7 div.sk-text-repr-fallback {display: none;}</style><div id=\"sk-container-id-7\" class=\"sk-top-container\"><div class=\"sk-text-repr-fallback\"><pre>ExtraTreesRegressor(random_state=0)</pre><b>In a Jupyter environment, please rerun this cell to show the HTML representation or trust the notebook. <br />On GitHub, the HTML representation is unable to render, please try loading this page with nbviewer.org.</b></div><div class=\"sk-container\" hidden><div class=\"sk-item\"><div class=\"sk-estimator sk-toggleable\"><input class=\"sk-toggleable__control sk-hidden--visually\" id=\"sk-estimator-id-7\" type=\"checkbox\" checked><label for=\"sk-estimator-id-7\" class=\"sk-toggleable__label sk-toggleable__label-arrow\">ExtraTreesRegressor</label><div class=\"sk-toggleable__content\"><pre>ExtraTreesRegressor(random_state=0)</pre></div></div></div></div></div>"
      ],
      "text/plain": [
       "ExtraTreesRegressor(random_state=0)"
      ]
     },
     "execution_count": 47,
     "metadata": {},
     "output_type": "execute_result"
    }
   ],
   "source": [
    "etreg = models\n",
    "etreg[0]"
   ]
  },
  {
   "cell_type": "code",
   "execution_count": 48,
   "id": "011b5aee-6c87-48fe-96be-93decfd2f2bf",
   "metadata": {},
   "outputs": [],
   "source": [
    "## optional save models\n",
    "#joblib.dump(linr[0], ('../result_models/'+ 'unharm_mix_etreg0.sav'))\n",
    "#joblib.dump(linr[1], ('../result_models/'+ 'unharm_mix_etreg1.sav'))\n",
    "#joblib.dump(linr[2], ('../result_models/'+ 'unharm_mix_etreg2.sav'))\n",
    "#joblib.dump(linr[3], ('../result_models/'+ 'unharm_mix_etreg3.sav'))\n",
    "#joblib.dump(linr[4], ('../result_models/'+ 'unharm_mix_etreg4.sav'))"
   ]
  },
  {
   "cell_type": "markdown",
   "id": "010653f4-8e57-454a-aaaf-4fa6991ab63c",
   "metadata": {},
   "source": [
    "Show results ON AVERAGE for each model"
   ]
  },
  {
   "cell_type": "code",
   "execution_count": 49,
   "id": "23f651de-64b1-44c5-9bbb-ce606c51aa9f",
   "metadata": {
    "tags": []
   },
   "outputs": [
    {
     "data": {
      "text/html": [
       "<div>\n",
       "<style scoped>\n",
       "    .dataframe tbody tr th:only-of-type {\n",
       "        vertical-align: middle;\n",
       "    }\n",
       "\n",
       "    .dataframe tbody tr th {\n",
       "        vertical-align: top;\n",
       "    }\n",
       "\n",
       "    .dataframe thead th {\n",
       "        text-align: right;\n",
       "    }\n",
       "</style>\n",
       "<table border=\"1\" class=\"dataframe\">\n",
       "  <thead>\n",
       "    <tr style=\"text-align: right;\">\n",
       "      <th></th>\n",
       "      <th>algorithm</th>\n",
       "      <th>file_name</th>\n",
       "      <th>mae</th>\n",
       "      <th>r2</th>\n",
       "      <th>explained_variance</th>\n",
       "    </tr>\n",
       "  </thead>\n",
       "  <tbody>\n",
       "    <tr>\n",
       "      <th>0</th>\n",
       "      <td>0    linear regression0\n",
       "0    linear regression...</td>\n",
       "      <td>0    req_neuroharm_mix_linr0.sav\n",
       "0    req_neur...</td>\n",
       "      <td>5.226433</td>\n",
       "      <td>0.331313</td>\n",
       "      <td>0.334867</td>\n",
       "    </tr>\n",
       "    <tr>\n",
       "      <th>0</th>\n",
       "      <td>0    lasso regression0\n",
       "0    lasso regression1\n",
       "...</td>\n",
       "      <td>0    unharm_mix_llreg0.sav\n",
       "0    unharm_mix_llr...</td>\n",
       "      <td>5.233773</td>\n",
       "      <td>0.305283</td>\n",
       "      <td>0.308902</td>\n",
       "    </tr>\n",
       "    <tr>\n",
       "      <th>0</th>\n",
       "      <td>0    decision tree0\n",
       "0    decision tree1\n",
       "0    d...</td>\n",
       "      <td>0    unharm_mix_dtree0.sav\n",
       "0    unharm_mix_dtr...</td>\n",
       "      <td>6.834348</td>\n",
       "      <td>0.708694</td>\n",
       "      <td>0.709840</td>\n",
       "    </tr>\n",
       "    <tr>\n",
       "      <th>0</th>\n",
       "      <td>0    MLP regression0\n",
       "0    MLP regression1\n",
       "0   ...</td>\n",
       "      <td>0    unharm_mix_regr0.sav\n",
       "0    unharm_mix_regr...</td>\n",
       "      <td>5.958517</td>\n",
       "      <td>-0.818456</td>\n",
       "      <td>-0.811339</td>\n",
       "    </tr>\n",
       "    <tr>\n",
       "      <th>0</th>\n",
       "      <td>0    support vector reg poly20\n",
       "0    support ve...</td>\n",
       "      <td>0    unharm_mix_svrp20.sav\n",
       "0    unharm_mix_svr...</td>\n",
       "      <td>11.003056</td>\n",
       "      <td>-0.415688</td>\n",
       "      <td>-0.404766</td>\n",
       "    </tr>\n",
       "    <tr>\n",
       "      <th>0</th>\n",
       "      <td>0    elasticnetCV0\n",
       "0    elasticnetCV1\n",
       "0    ela...</td>\n",
       "      <td>0    unharm_mix_eregr0.sav\n",
       "0    unharm_mix_ere...</td>\n",
       "      <td>8.536060</td>\n",
       "      <td>-0.446897</td>\n",
       "      <td>-0.440024</td>\n",
       "    </tr>\n",
       "    <tr>\n",
       "      <th>0</th>\n",
       "      <td>0    extra trees0\n",
       "0    extra trees1\n",
       "0    extra...</td>\n",
       "      <td>0    unharm_mix_etreg0.sav\n",
       "0    unharm_mix_etr...</td>\n",
       "      <td>4.684058</td>\n",
       "      <td>0.867278</td>\n",
       "      <td>0.868411</td>\n",
       "    </tr>\n",
       "  </tbody>\n",
       "</table>\n",
       "</div>"
      ],
      "text/plain": [
       "                                           algorithm  \\\n",
       "0  0    linear regression0\n",
       "0    linear regression...   \n",
       "0  0    lasso regression0\n",
       "0    lasso regression1\n",
       "...   \n",
       "0  0    decision tree0\n",
       "0    decision tree1\n",
       "0    d...   \n",
       "0  0    MLP regression0\n",
       "0    MLP regression1\n",
       "0   ...   \n",
       "0  0    support vector reg poly20\n",
       "0    support ve...   \n",
       "0  0    elasticnetCV0\n",
       "0    elasticnetCV1\n",
       "0    ela...   \n",
       "0  0    extra trees0\n",
       "0    extra trees1\n",
       "0    extra...   \n",
       "\n",
       "                                           file_name        mae        r2  \\\n",
       "0  0    req_neuroharm_mix_linr0.sav\n",
       "0    req_neur...   5.226433  0.331313   \n",
       "0  0    unharm_mix_llreg0.sav\n",
       "0    unharm_mix_llr...   5.233773  0.305283   \n",
       "0  0    unharm_mix_dtree0.sav\n",
       "0    unharm_mix_dtr...   6.834348  0.708694   \n",
       "0  0    unharm_mix_regr0.sav\n",
       "0    unharm_mix_regr...   5.958517 -0.818456   \n",
       "0  0    unharm_mix_svrp20.sav\n",
       "0    unharm_mix_svr...  11.003056 -0.415688   \n",
       "0  0    unharm_mix_eregr0.sav\n",
       "0    unharm_mix_ere...   8.536060 -0.446897   \n",
       "0  0    unharm_mix_etreg0.sav\n",
       "0    unharm_mix_etr...   4.684058  0.867278   \n",
       "\n",
       "   explained_variance  \n",
       "0            0.334867  \n",
       "0            0.308902  \n",
       "0            0.709840  \n",
       "0           -0.811339  \n",
       "0           -0.404766  \n",
       "0           -0.440024  \n",
       "0            0.868411  "
      ]
     },
     "execution_count": 49,
     "metadata": {},
     "output_type": "execute_result"
    }
   ],
   "source": [
    "mixed_based_unharmonized_on_testmix =pd.concat([avg_linr,\n",
    "                   avg_llreg,\n",
    "                   avg_dtree,\n",
    "                   avg_regr,\n",
    "                   avg_svrp2,\n",
    "                   avg_eregr,\n",
    "                   avg_etreg],\n",
    "                  axis=0)\n",
    "mixed_based_unharmonized_on_testmix.to_csv()"
   ]
  },
  {
   "cell_type": "code",
   "execution_count": 50,
   "id": "0c6e61e5-b314-4be9-bd69-a67a27f6146d",
   "metadata": {},
   "outputs": [],
   "source": [
    "# data_frames1 = [linr_y_frame, llreg_y_frame, dtree_y_frame,]# regr_compare, ]#etreg_compare, svrp2_compare,]\n",
    "# real_versus_projected_y1 = reduce(lambda  left,right: pd.merge(left,right,on=[\"index\"],\n",
    "#                                             how='outer'), data_frames1)\n",
    "# #real_versus_projected_y1\n",
    "# data_frames2 = [eregr_y_frame, svrp2_y_frame, etreg_y_frame,]\n",
    "# real_versus_projected_y2 = reduce(lambda  left,right: pd.merge(left,right,on=[\"index\"],\n",
    "#                                             how='outer'), data_frames2)\n",
    "# #real_versus_projected_y2\n",
    "# real_versus_projected_y2 = sep.drop_y(real_versus_projected_y2 )\n",
    "# real_versus_projected_y1 = sep.drop_y(real_versus_projected_y1 )\n",
    "# #real_versus_projected_y1"
   ]
  },
  {
   "cell_type": "code",
   "execution_count": 51,
   "id": "6c4ab177-23c4-4208-80da-dcaf0e565f5d",
   "metadata": {
    "tags": []
   },
   "outputs": [],
   "source": [
    "# data_frames1 = [linr_compare, llreg_compare, dtree_compare,]# regr_compare, ]#etreg_compare, svrp2_compare,]\n",
    "# real_versus_projected_y1 = reduce(lambda  left,right: pd.merge(left,right,on=[\"index\"],\n",
    "#                                             how='outer'), data_frames1)\n",
    "# #real_versus_projected_y1\n",
    "# data_frames2 = [eregr_compare, svrp2_compare, etreg_compare,]\n",
    "# real_versus_projected_y2 = reduce(lambda  left,right: pd.merge(left,right,on=[\"index\"],\n",
    "#                                             how='outer'), data_frames2)\n",
    "# #real_versus_projected_y2\n",
    "# real_versus_projected_y2 = sep.drop_y(real_versus_projected_y2 )\n",
    "# real_versus_projected_y1 = sep.drop_y(real_versus_projected_y1 )\n",
    "# #real_versus_projected_y1"
   ]
  },
  {
   "cell_type": "code",
   "execution_count": 52,
   "id": "d3b786ff-21de-46bc-a4b2-5ca1f94f10b9",
   "metadata": {
    "tags": []
   },
   "outputs": [],
   "source": [
    "# data_frames3 = [real_versus_projected_y1, real_versus_projected_y2,]\n",
    "# real_versus_projected_y3_mixed_on_mixed = reduce(lambda  left,right: pd.merge(left,right,on=[\"index\"],\n",
    "#                                             how='outer'), data_frames3)\n",
    "# real_versus_projected_y3_mixed_on_mixed.head(3)"
   ]
  },
  {
   "cell_type": "markdown",
   "id": "222453bb-be5e-49ab-a6d6-fc517455d231",
   "metadata": {},
   "source": [
    "## Save off models and csv (optional, must uncomment)"
   ]
  },
  {
   "cell_type": "code",
   "execution_count": 53,
   "id": "a6a6dac7-ac00-4ecd-b337-89a025c006e8",
   "metadata": {
    "tags": []
   },
   "outputs": [],
   "source": [
    "# # optionally save of csvs of algorithms and results\n",
    "# mixed_based_unharmonized_on_testmix.to_csv('mixed_based_unharmonized_on_testmix.csv')\n",
    "# real_versus_projected_y3_mixed_on_mixed.to_csv('real_versus_projected_y3_mixed_on_mixed.csv')"
   ]
  },
  {
   "cell_type": "code",
   "execution_count": null,
   "id": "e92a5088-213d-43aa-a4d6-57f9a423de28",
   "metadata": {
    "tags": []
   },
   "outputs": [],
   "source": [
    "# # check if model folder exists and if not , then create\n",
    "# model_folder = '../result_models/'\n",
    "# if not os.path.exists(model_folder):\n",
    "#     os.makedirs(model_folder)"
   ]
  },
  {
   "cell_type": "code",
   "execution_count": null,
   "id": "e6c46c30-af6b-43e4-b6ce-25042bf12170",
   "metadata": {},
   "outputs": [],
   "source": [
    "# make a model based on 80% of top and stroke together"
   ]
  },
  {
   "cell_type": "markdown",
   "id": "3564dee9-7ed4-4e52-afce-447a173946da",
   "metadata": {},
   "source": [
    "## Run models on other datasets (TOP, StrokeMRI)\n",
    "but without re-running the training data"
   ]
  },
  {
   "cell_type": "code",
   "execution_count": null,
   "id": "316d658b-6794-4c77-8237-02ff41e57ba7",
   "metadata": {},
   "outputs": [],
   "source": [
    "# These cells must be rewritten, or the cells above, but skip to running over sabre"
   ]
  },
  {
   "cell_type": "code",
   "execution_count": null,
   "id": "6d169732-6f90-4ba8-8c49-dd22c6ba8bc0",
   "metadata": {
    "tags": []
   },
   "outputs": [],
   "source": [
    "# def frame_a_model_sex_split_2(\n",
    "#         model_name,\n",
    "#         model_file_name,\n",
    "#         scikit_model,\n",
    "#         our_ml_matrix,\n",
    "#         our_x,\n",
    "#         our_y,\n",
    "# ):\n",
    "#     \"\"\"\n",
    "#     This takes a sci-kit learn coded model and\n",
    "#     creates a dataframe based on k-folds of results on\n",
    "#     our_ml_matrix, and it's X component\n",
    "#     returns a dataframe of fold results\n",
    "#     and raw y_test versus y_pred\n",
    "#     \"\"\"\n",
    "#     y_split = our_ml_matrix['sex'].values\n",
    "#     # 5 folds as example, you can change this\n",
    "#     sss = StratifiedShuffleSplit(n_splits=5, test_size=0.25, random_state=12)\n",
    "\n",
    "#     X = our_x\n",
    "#     y = our_y\n",
    "#     sss.get_n_splits(X, y_split)\n",
    "\n",
    "#     unique, counts = np.unique(y_split, return_counts=True)\n",
    "\n",
    "#     y_frame = []\n",
    "#     all_mod_results = []\n",
    "#     models = []\n",
    "#     for i, (train_index, test_index) in enumerate(sss.split(X, y_split)):\n",
    "#         unique, counts = np.unique(y_split[train_index], return_counts=True)\n",
    "#         unique, counts = np.unique(y_split[test_index], return_counts=True)\n",
    "#         cols = [\n",
    "#             'algorithm',\n",
    "#             'fold',\n",
    "#             'file_name',\n",
    "#             'mae',\n",
    "#             'r2',\n",
    "#             'explained_variance',\n",
    "#         ]\n",
    "#         mod_results = pd.DataFrame(columns=cols)\n",
    "#         current_fold_X_train = X[train_index][:, 1:]\n",
    "#         current_fold_y_train = y[train_index]\n",
    "#         current_fold_X_test = X[test_index][:, 1:]\n",
    "#         current_fold_y_test = y[test_index]\n",
    "#         scikit_model.fit(current_fold_X_train, current_fold_y_train)\n",
    "#         current_fold_y_pred = scikit_model.predict(current_fold_X_test)\n",
    "\n",
    "#         data = [[\n",
    "#             f'{model_name}-{i}',\n",
    "#             i,\n",
    "#             f'{model_file_name}.{i}',\n",
    "#             mean_absolute_error(current_fold_y_test, current_fold_y_pred),\n",
    "#             scikit_model.score(current_fold_X_test, current_fold_y_test),\n",
    "#             metrics.explained_variance_score(\n",
    "#                 current_fold_y_test,\n",
    "#                 current_fold_y_pred\n",
    "#             )]]\n",
    "#         mod_results_current_fold = pd.DataFrame(data, columns=cols)\n",
    "#         mod_results = pd.concat([mod_results, mod_results_current_fold])\n",
    "#         mod_results.reset_index(drop=True, inplace=True)\n",
    "#         all_mod_results.append(mod_results)\n",
    "#         y_frame_now = pd.DataFrame(\n",
    "#             {\n",
    "#                 'y_test': list(current_fold_y_test),\n",
    "#                 'y_pred': list(current_fold_y_pred),\n",
    "#             })\n",
    "\n",
    "#         y_frame.append(y_frame_now)\n",
    "\n",
    "#         models.append((scikit_model, X[train_index][:, 0]))\n",
    "\n",
    "#     df = pd.concat(all_mod_results)\n",
    "#     y_frame = pd.concat([\n",
    "#         y_frame[0],\n",
    "#         y_frame[1],\n",
    "#         y_frame[2],\n",
    "#         y_frame[3],\n",
    "#         y_frame[4],\n",
    "#     ], axis=0)\n",
    "\n",
    "#     return df, y_frame, models"
   ]
  },
  {
   "cell_type": "code",
   "execution_count": 54,
   "id": "fb2abccb-4c85-4e2a-b810-9e898b880ba8",
   "metadata": {
    "tags": []
   },
   "outputs": [],
   "source": [
    "o_split,  oy_frame, omodels = sep.frame_a_model_sex_split_2('linear regression', 'req_neuroharm_mix_linr', LinearRegression(), ml_matrix, X, y)"
   ]
  },
  {
   "cell_type": "markdown",
   "id": "ddc9c725-9485-4c29-8026-a05e59ca890c",
   "metadata": {},
   "source": [
    "now we need to make a dataframe of TOP minus what is in X_train"
   ]
  },
  {
   "cell_type": "code",
   "execution_count": 55,
   "id": "9ca8e0dc-22fc-4eae-86e0-a70d00ad1556",
   "metadata": {
    "tags": []
   },
   "outputs": [
    {
     "data": {
      "text/html": [
       "<div>\n",
       "<style scoped>\n",
       "    .dataframe tbody tr th:only-of-type {\n",
       "        vertical-align: middle;\n",
       "    }\n",
       "\n",
       "    .dataframe tbody tr th {\n",
       "        vertical-align: top;\n",
       "    }\n",
       "\n",
       "    .dataframe thead th {\n",
       "        text-align: right;\n",
       "    }\n",
       "</style>\n",
       "<table border=\"1\" class=\"dataframe\">\n",
       "  <thead>\n",
       "    <tr style=\"text-align: right;\">\n",
       "      <th></th>\n",
       "      <th>algorithm</th>\n",
       "      <th>fold</th>\n",
       "      <th>file_name</th>\n",
       "      <th>mae</th>\n",
       "      <th>r2</th>\n",
       "      <th>explained_variance</th>\n",
       "    </tr>\n",
       "  </thead>\n",
       "  <tbody>\n",
       "    <tr>\n",
       "      <th>0</th>\n",
       "      <td>linear regression-0</td>\n",
       "      <td>0</td>\n",
       "      <td>req_neuroharm_mix_linr.0</td>\n",
       "      <td>4.907224</td>\n",
       "      <td>0.862544</td>\n",
       "      <td>0.863021</td>\n",
       "    </tr>\n",
       "    <tr>\n",
       "      <th>0</th>\n",
       "      <td>linear regression-1</td>\n",
       "      <td>1</td>\n",
       "      <td>req_neuroharm_mix_linr.1</td>\n",
       "      <td>5.667130</td>\n",
       "      <td>-0.344027</td>\n",
       "      <td>-0.342165</td>\n",
       "    </tr>\n",
       "    <tr>\n",
       "      <th>0</th>\n",
       "      <td>linear regression-2</td>\n",
       "      <td>2</td>\n",
       "      <td>req_neuroharm_mix_linr.2</td>\n",
       "      <td>5.153548</td>\n",
       "      <td>0.852971</td>\n",
       "      <td>0.853906</td>\n",
       "    </tr>\n",
       "    <tr>\n",
       "      <th>0</th>\n",
       "      <td>linear regression-3</td>\n",
       "      <td>3</td>\n",
       "      <td>req_neuroharm_mix_linr.3</td>\n",
       "      <td>4.625221</td>\n",
       "      <td>0.886533</td>\n",
       "      <td>0.887310</td>\n",
       "    </tr>\n",
       "    <tr>\n",
       "      <th>0</th>\n",
       "      <td>linear regression-4</td>\n",
       "      <td>4</td>\n",
       "      <td>req_neuroharm_mix_linr.4</td>\n",
       "      <td>5.779041</td>\n",
       "      <td>-0.601456</td>\n",
       "      <td>-0.587740</td>\n",
       "    </tr>\n",
       "  </tbody>\n",
       "</table>\n",
       "</div>"
      ],
      "text/plain": [
       "             algorithm fold                 file_name       mae        r2  \\\n",
       "0  linear regression-0    0  req_neuroharm_mix_linr.0  4.907224  0.862544   \n",
       "0  linear regression-1    1  req_neuroharm_mix_linr.1  5.667130 -0.344027   \n",
       "0  linear regression-2    2  req_neuroharm_mix_linr.2  5.153548  0.852971   \n",
       "0  linear regression-3    3  req_neuroharm_mix_linr.3  4.625221  0.886533   \n",
       "0  linear regression-4    4  req_neuroharm_mix_linr.4  5.779041 -0.601456   \n",
       "\n",
       "   explained_variance  \n",
       "0            0.863021  \n",
       "0           -0.342165  \n",
       "0            0.853906  \n",
       "0            0.887310  \n",
       "0           -0.587740  "
      ]
     },
     "execution_count": 55,
     "metadata": {},
     "output_type": "execute_result"
    }
   ],
   "source": [
    "o_split"
   ]
  },
  {
   "cell_type": "code",
   "execution_count": 56,
   "id": "a9c74a19-74b2-4c7d-9c7d-cdb7264b6b7f",
   "metadata": {
    "tags": []
   },
   "outputs": [
    {
     "data": {
      "text/html": [
       "<div>\n",
       "<style scoped>\n",
       "    .dataframe tbody tr th:only-of-type {\n",
       "        vertical-align: middle;\n",
       "    }\n",
       "\n",
       "    .dataframe tbody tr th {\n",
       "        vertical-align: top;\n",
       "    }\n",
       "\n",
       "    .dataframe thead th {\n",
       "        text-align: right;\n",
       "    }\n",
       "</style>\n",
       "<table border=\"1\" class=\"dataframe\">\n",
       "  <thead>\n",
       "    <tr style=\"text-align: right;\">\n",
       "      <th></th>\n",
       "      <th>y_test</th>\n",
       "      <th>y_pred</th>\n",
       "    </tr>\n",
       "  </thead>\n",
       "  <tbody>\n",
       "    <tr>\n",
       "      <th>0</th>\n",
       "      <td>38.080000</td>\n",
       "      <td>50.662307</td>\n",
       "    </tr>\n",
       "    <tr>\n",
       "      <th>1</th>\n",
       "      <td>67.178082</td>\n",
       "      <td>66.197434</td>\n",
       "    </tr>\n",
       "    <tr>\n",
       "      <th>2</th>\n",
       "      <td>23.200000</td>\n",
       "      <td>31.688230</td>\n",
       "    </tr>\n",
       "    <tr>\n",
       "      <th>3</th>\n",
       "      <td>75.106849</td>\n",
       "      <td>91.367033</td>\n",
       "    </tr>\n",
       "    <tr>\n",
       "      <th>4</th>\n",
       "      <td>74.235616</td>\n",
       "      <td>66.210258</td>\n",
       "    </tr>\n",
       "    <tr>\n",
       "      <th>...</th>\n",
       "      <td>...</td>\n",
       "      <td>...</td>\n",
       "    </tr>\n",
       "    <tr>\n",
       "      <th>256</th>\n",
       "      <td>40.355191</td>\n",
       "      <td>39.324983</td>\n",
       "    </tr>\n",
       "    <tr>\n",
       "      <th>257</th>\n",
       "      <td>56.063014</td>\n",
       "      <td>58.133112</td>\n",
       "    </tr>\n",
       "    <tr>\n",
       "      <th>258</th>\n",
       "      <td>76.002740</td>\n",
       "      <td>73.307233</td>\n",
       "    </tr>\n",
       "    <tr>\n",
       "      <th>259</th>\n",
       "      <td>72.605479</td>\n",
       "      <td>57.862048</td>\n",
       "    </tr>\n",
       "    <tr>\n",
       "      <th>260</th>\n",
       "      <td>41.940000</td>\n",
       "      <td>50.826972</td>\n",
       "    </tr>\n",
       "  </tbody>\n",
       "</table>\n",
       "<p>1305 rows × 2 columns</p>\n",
       "</div>"
      ],
      "text/plain": [
       "        y_test     y_pred\n",
       "0    38.080000  50.662307\n",
       "1    67.178082  66.197434\n",
       "2    23.200000  31.688230\n",
       "3    75.106849  91.367033\n",
       "4    74.235616  66.210258\n",
       "..         ...        ...\n",
       "256  40.355191  39.324983\n",
       "257  56.063014  58.133112\n",
       "258  76.002740  73.307233\n",
       "259  72.605479  57.862048\n",
       "260  41.940000  50.826972\n",
       "\n",
       "[1305 rows x 2 columns]"
      ]
     },
     "execution_count": 56,
     "metadata": {},
     "output_type": "execute_result"
    }
   ],
   "source": [
    "oy_frame"
   ]
  },
  {
   "cell_type": "code",
   "execution_count": 58,
   "id": "2ec5a34c-28b6-43ca-a35b-10bf51b40eff",
   "metadata": {
    "tags": []
   },
   "outputs": [],
   "source": [
    "olinr = omodels\n",
    "## we can print off arrays of everything it was run on\n",
    "#olinr[0][0] # that is the model itself\n",
    "#olinr[0][1] # that is what it was trained on"
   ]
  },
  {
   "cell_type": "code",
   "execution_count": null,
   "id": "c7858f16-6fff-4f4c-aa5c-039c96f6ca3f",
   "metadata": {
    "tags": []
   },
   "outputs": [],
   "source": [
    "X_train_pandas.head(3)"
   ]
  },
  {
   "cell_type": "code",
   "execution_count": null,
   "id": "3e50840c-74f8-4a4f-8fbc-969874418016",
   "metadata": {
    "tags": []
   },
   "outputs": [],
   "source": [
    "trained_subjects = set(X_train_pandas[0])\n",
    "#trained_subjects "
   ]
  },
  {
   "cell_type": "code",
   "execution_count": null,
   "id": "4bcb0f94-5cf7-410d-a849-f6b6cc0abafa",
   "metadata": {
    "tags": []
   },
   "outputs": [],
   "source": [
    "TOP_subjects = set(TOP.participant_id)\n",
    "#TOP_subjects"
   ]
  },
  {
   "cell_type": "code",
   "execution_count": null,
   "id": "fc60f509-54df-4c6e-baf4-edc7bc81b860",
   "metadata": {
    "tags": []
   },
   "outputs": [],
   "source": [
    "# take trained subjects out of top subjects\n",
    "# we can use set math here\n",
    "new_top=(trained_subjects^TOP_subjects)&TOP_subjects\n",
    "print(len(new_top))\n",
    "#print(new_top)"
   ]
  },
  {
   "cell_type": "markdown",
   "id": "67e014ce-ad99-4c51-bcfb-7f1e575c154b",
   "metadata": {},
   "source": [
    "filter down to only top where they are in new_top set"
   ]
  },
  {
   "cell_type": "code",
   "execution_count": null,
   "id": "7b2d287e-c721-4ee1-ba42-906c8a7a515b",
   "metadata": {
    "tags": []
   },
   "outputs": [],
   "source": [
    "TOP_new = TOP[TOP['participant_id'].isin(list(new_top))]\n",
    "#TOP_new"
   ]
  },
  {
   "cell_type": "code",
   "execution_count": null,
   "id": "a9a1641f-afe5-4c48-ac0c-d4af9d507315",
   "metadata": {
    "tags": []
   },
   "outputs": [],
   "source": [
    "top_ml_matrix = TOP_new.drop('participant_id', axis=1) \n",
    "\n",
    "X_top = top_ml_matrix.drop('age', axis =1)\n",
    "\n",
    "X_top = X_top.values\n",
    "X_top = X_top.astype('float')\n",
    "y_top = top_ml_matrix['age'].values\n",
    "y_top=y_top.astype('float')"
   ]
  },
  {
   "cell_type": "code",
   "execution_count": null,
   "id": "93f90ccb-465b-4fa4-b563-c0ea604f2ba0",
   "metadata": {
    "tags": []
   },
   "outputs": [],
   "source": [
    "X_top_test = X_top\n",
    "y_top_test = y_top"
   ]
  },
  {
   "cell_type": "code",
   "execution_count": null,
   "id": "0f0f0f7c-238d-4416-b7cc-853d7a49f438",
   "metadata": {
    "tags": []
   },
   "outputs": [],
   "source": [
    "y_top_pred = linr.predict(X_top_test)"
   ]
  },
  {
   "cell_type": "code",
   "execution_count": null,
   "id": "d363eb17-ac89-475e-aca5-21e6e657bcf6",
   "metadata": {
    "tags": []
   },
   "outputs": [],
   "source": [
    "print('R2 score Linear regression: %.3f' % linr.score(X_top_test,y_top_test))\n",
    "print('Explained variance score: %.3f'  % metrics.explained_variance_score(y_top_test, y_top_pred))\n",
    "print('The mean absolute error: %.3f' % mean_absolute_error(y_top_test, y_top_pred))"
   ]
  },
  {
   "cell_type": "code",
   "execution_count": null,
   "id": "267bb825-839d-4010-8af3-1e742adf9ef3",
   "metadata": {
    "tags": []
   },
   "outputs": [],
   "source": [
    "data= [[\n",
    "    'linear regression',\n",
    "    'unharm_mixed_linr.sav',\n",
    "    mean_absolute_error(y_top_test, y_top_pred),\n",
    "    linr.score(X_top_test,y_top_test),\n",
    "    metrics.explained_variance_score(y_top_test, y_top_pred)]]\n",
    "linr_results_top = pd.DataFrame(data, columns=['algorithm','file_name','mae', 'r2', 'explained_variance'])\n",
    "linr_results_top"
   ]
  },
  {
   "cell_type": "code",
   "execution_count": null,
   "id": "b8c8d3d6-935a-4270-88a5-0a1241154f22",
   "metadata": {
    "tags": []
   },
   "outputs": [],
   "source": [
    "linr_y_test = y_top_test\n",
    "linr_y_pred = y_top_pred\n",
    "linr_compare = pd.DataFrame(\n",
    "    {'y_test_real_age': linr_y_test,\n",
    "     'linr_y_pred_age': linr_y_pred,\n",
    "    })\n",
    "linr_compare = linr_compare.reset_index()\n",
    "#linr_compare"
   ]
  },
  {
   "cell_type": "code",
   "execution_count": null,
   "id": "f7d16438-153f-4786-97f5-fabcd01a6866",
   "metadata": {},
   "outputs": [],
   "source": [
    "y_top_pred = llreg.predict(X_top_test)"
   ]
  },
  {
   "cell_type": "code",
   "execution_count": null,
   "id": "dc629155-5f4e-40a6-b0b0-299be6d2cd90",
   "metadata": {},
   "outputs": [],
   "source": [
    "print('R2 score Lasso linear regression: %.3f' % llreg.score(X_top_test,y_top_test))\n",
    "print('Explained variance score: %.3f'  % metrics.explained_variance_score(y_top_test, y_top_pred))\n",
    "print('The mean absolute error: %.3f' % mean_absolute_error(y_top_test, y_top_pred))"
   ]
  },
  {
   "cell_type": "code",
   "execution_count": null,
   "id": "f5c0d01d-4506-459b-9453-e0fe7746fbca",
   "metadata": {},
   "outputs": [],
   "source": []
  },
  {
   "cell_type": "code",
   "execution_count": null,
   "id": "fad5a217-84ed-4b0b-8497-e9857aa654e4",
   "metadata": {
    "tags": []
   },
   "outputs": [],
   "source": [
    "data= [[\n",
    "    'lasso regression',\n",
    "    'unharm_mixed_llregr.sav',\n",
    "    mean_absolute_error(y_top_test, y_top_pred),\n",
    "    llreg.score(X_top_test,y_top_test),\n",
    "    metrics.explained_variance_score(y_top_test, y_top_pred)]]\n",
    "llreg_results_top = pd.DataFrame(data, columns=['algorithm','file_name','mae', 'r2', 'explained_variance'])\n",
    "llreg_results_top"
   ]
  },
  {
   "cell_type": "code",
   "execution_count": null,
   "id": "e32ddcd6-a391-4545-961e-4760c47acde5",
   "metadata": {
    "tags": []
   },
   "outputs": [],
   "source": [
    "llreg_y_test = y_top_test\n",
    "llreg_y_pred = y_top_pred\n",
    "llreg_compare = pd.DataFrame(\n",
    "    {'y_test_real_age': llreg_y_test,\n",
    "     'linr_y_pred_age': llreg_y_pred,\n",
    "    })\n",
    "llreg_compare = llreg_compare.reset_index()\n",
    "#llreg_compare"
   ]
  },
  {
   "cell_type": "code",
   "execution_count": null,
   "id": "2f8161ef-c2f3-4654-a60d-2182cf1779f0",
   "metadata": {
    "tags": []
   },
   "outputs": [],
   "source": [
    "y_top_pred = dtree.predict(X_top_test)"
   ]
  },
  {
   "cell_type": "code",
   "execution_count": null,
   "id": "e5b8d534-47cc-408b-88ba-fb0cec6ab419",
   "metadata": {
    "tags": []
   },
   "outputs": [],
   "source": [
    "print('R2 score decision tree regression: %.3f' % dtree.score(X_top_test,y_top_test))\n",
    "print('Explained variance score: %.3f'  % metrics.explained_variance_score(y_top_test, y_top_pred))\n",
    "print('The mean absolute error: %.3f' % mean_absolute_error(y_top_test, y_top_pred))"
   ]
  },
  {
   "cell_type": "code",
   "execution_count": null,
   "id": "c94cbf41-afed-4c15-85f8-d42c0c47f811",
   "metadata": {},
   "outputs": [],
   "source": []
  },
  {
   "cell_type": "code",
   "execution_count": null,
   "id": "f19c19ca-d913-4d79-8ae4-2758ab843662",
   "metadata": {
    "tags": []
   },
   "outputs": [],
   "source": [
    "data= [[\n",
    "    'decision tree',\n",
    "    'unharm_mixed_dtree.sav',\n",
    "    mean_absolute_error(y_top_test, y_top_pred),\n",
    "    dtree.score(X_top_test,y_top_test),\n",
    "    metrics.explained_variance_score(y_top_test, y_top_pred)]]\n",
    "dtree_results_top = pd.DataFrame(data, columns=['algorithm','file_name','mae', 'r2', 'explained_variance'])\n",
    "dtree_results_top"
   ]
  },
  {
   "cell_type": "code",
   "execution_count": null,
   "id": "2ea3cc21-fd5d-4695-ab89-0ad4554c585e",
   "metadata": {
    "tags": []
   },
   "outputs": [],
   "source": [
    "dtree_y_test = y_top_test\n",
    "dtree_y_pred = y_top_pred\n",
    "dtree_compare = pd.DataFrame(\n",
    "    {'y_test_real_age': dtree_y_test,\n",
    "     'linr_y_pred_age': dtree_y_pred,\n",
    "    })\n",
    "dtree_compare = linr_compare.reset_index()\n",
    "#dtree_compare"
   ]
  },
  {
   "cell_type": "code",
   "execution_count": null,
   "id": "9275589e-dd8d-43c0-b5ff-b3873b063e7c",
   "metadata": {
    "tags": []
   },
   "outputs": [],
   "source": [
    "y_top_pred = eregr.predict(X_top_test)"
   ]
  },
  {
   "cell_type": "code",
   "execution_count": null,
   "id": "fc8c1e25-4778-44df-b81c-9cd0dbcbc40b",
   "metadata": {
    "tags": []
   },
   "outputs": [],
   "source": [
    "print('R2 score ElasticnetCV regression: %.3f' % eregr.score(X_top_test,y_top_test))\n",
    "print('Explained variance score: %.3f'  % metrics.explained_variance_score(y_top_test, y_top_pred))\n",
    "print('The mean absolute error: %.3f' % mean_absolute_error(y_top_test, y_top_pred))"
   ]
  },
  {
   "cell_type": "code",
   "execution_count": null,
   "id": "00147bec-b609-442e-9d1e-f545e16405ef",
   "metadata": {
    "tags": []
   },
   "outputs": [],
   "source": [
    "data= [[\n",
    "    'elasticnetCV',\n",
    "    'unharm_mixed_eregr.sav',\n",
    "    mean_absolute_error(y_top_test, y_top_pred),\n",
    "    linr.score(X_top_test,y_top_test),\n",
    "    metrics.explained_variance_score(y_top_test, y_top_pred)]]\n",
    "eregr_results_top = pd.DataFrame(data, columns=['algorithm','file_name','mae', 'r2', 'explained_variance'])\n",
    "eregr_results_top"
   ]
  },
  {
   "cell_type": "code",
   "execution_count": null,
   "id": "9fc82c9a-7fae-404f-89c3-d9b82059f764",
   "metadata": {
    "tags": []
   },
   "outputs": [],
   "source": [
    "eregr_y_test = y_top_test\n",
    "eregr_y_pred = y_top_pred\n",
    "eregr_compare = pd.DataFrame(\n",
    "    {'y_test_real_age': eregr_y_test,\n",
    "     'linr_y_pred_age': eregr_y_pred,\n",
    "    })\n",
    "eregr_compare = linr_compare.reset_index()\n",
    "#eregr_compare"
   ]
  },
  {
   "cell_type": "code",
   "execution_count": null,
   "id": "e2eb516e-3f8f-4bc0-9a2f-d862f87cf671",
   "metadata": {
    "tags": []
   },
   "outputs": [],
   "source": [
    "y_top_pred = svr_p2.predict(X_top_test)"
   ]
  },
  {
   "cell_type": "code",
   "execution_count": null,
   "id": "08e620a6-5e79-4659-ba9a-c7127c2ee0d2",
   "metadata": {
    "tags": []
   },
   "outputs": [],
   "source": [
    "print('R2 score SVR poly 2 regression: %.3f' % svr_p2.score(X_top_test,y_top_test))\n",
    "print('Explained variance score: %.3f'  % metrics.explained_variance_score(y_top_test, y_top_pred))\n",
    "print('The mean absolute error: %.3f' % mean_absolute_error(y_top_test, y_top_pred))"
   ]
  },
  {
   "cell_type": "code",
   "execution_count": null,
   "id": "d34d3eab-ed59-4f41-b985-3e8a667c42ce",
   "metadata": {
    "tags": []
   },
   "outputs": [],
   "source": [
    "data= [[\n",
    "    'SVR polynom degree 2',\n",
    "    'unharm_mixed_svrp2.sav',\n",
    "    mean_absolute_error(y_top_test, y_top_pred),\n",
    "    svr_p2.score(X_top_test,y_top_test),\n",
    "    metrics.explained_variance_score(y_top_test, y_top_pred)]]\n",
    "svrp2_results_top = pd.DataFrame(data, columns=['algorithm','file_name','mae', 'r2', 'explained_variance'])\n",
    "#svrp2_results_top"
   ]
  },
  {
   "cell_type": "code",
   "execution_count": null,
   "id": "4e4abb12-7f6b-4c81-b998-fc109418924a",
   "metadata": {
    "tags": []
   },
   "outputs": [],
   "source": [
    "svrp2_y_test = y_top_test\n",
    "svrp2_y_pred = y_top_pred\n",
    "svrp2_compare = pd.DataFrame(\n",
    "    {'y_test_real_age': svrp2_y_test,\n",
    "     'linr_y_pred_age': svrp2_y_pred,\n",
    "    })\n",
    "svrp2_compare = linr_compare.reset_index()\n",
    "#svrp2_compare"
   ]
  },
  {
   "cell_type": "code",
   "execution_count": null,
   "id": "98591fac-bd83-4fd2-960d-681b13cb7600",
   "metadata": {
    "tags": []
   },
   "outputs": [],
   "source": [
    "y_top_pred = etreg.predict(X_top_test)"
   ]
  },
  {
   "cell_type": "code",
   "execution_count": null,
   "id": "8600a9d6-1796-4ce0-9571-fc1afd5d663d",
   "metadata": {
    "tags": []
   },
   "outputs": [],
   "source": [
    "print('R2 score Extra trees: %.3f' % etreg.score(X_top_test,y_top_test))\n",
    "print('Explained variance score: %.3f'  % metrics.explained_variance_score(y_top_test, y_top_pred))\n",
    "print('The mean absolute error: %.3f' % mean_absolute_error(y_top_test, y_top_pred))"
   ]
  },
  {
   "cell_type": "code",
   "execution_count": null,
   "id": "f6c9003c-f23f-4dfa-b66b-4e9e268d30e6",
   "metadata": {
    "tags": []
   },
   "outputs": [],
   "source": [
    "data= [[\n",
    "    'extra trees',\n",
    "    'unharm_mixed_ereg.sav',\n",
    "    mean_absolute_error(y_top_test, y_top_pred),\n",
    "    etreg.score(X_top_test,y_top_test),\n",
    "    metrics.explained_variance_score(y_top_test, y_top_pred)]]\n",
    "etreg_results_top = pd.DataFrame(data, columns=['algorithm','file_name','mae', 'r2', 'explained_variance'])\n",
    "etreg_results_top"
   ]
  },
  {
   "cell_type": "code",
   "execution_count": null,
   "id": "b448779a-7c8e-4d68-9fdc-bb260002594e",
   "metadata": {
    "tags": []
   },
   "outputs": [],
   "source": [
    "etreg_y_test = y_top_test\n",
    "etreg_y_pred = y_top_pred\n",
    "etreg_compare = pd.DataFrame(\n",
    "    {'y_test_real_age': etreg_y_test,\n",
    "     'linr_y_pred_age': etreg_y_pred,\n",
    "    })\n",
    "etreg_compare = linr_compare.reset_index()\n",
    "#etreg_compare"
   ]
  },
  {
   "cell_type": "code",
   "execution_count": null,
   "id": "568b8203-b0a4-40ba-93a4-64053d50afbc",
   "metadata": {
    "tags": []
   },
   "outputs": [],
   "source": [
    "y_top_pred = regr.predict(X_top_test)"
   ]
  },
  {
   "cell_type": "code",
   "execution_count": null,
   "id": "7bb07df5-c164-499f-982b-eaf42333a204",
   "metadata": {
    "tags": []
   },
   "outputs": [],
   "source": [
    "print('R2 score MLP regression: %.3f' % regr.score(X_top_test,y_top_test))\n",
    "print('Explained variance score: %.3f'  % metrics.explained_variance_score(y_top_test, y_top_pred))\n",
    "print('The mean absolute error: %.3f' % mean_absolute_error(y_top_test, y_top_pred))"
   ]
  },
  {
   "cell_type": "code",
   "execution_count": null,
   "id": "f2dbe571-c066-49d8-b663-dccf7bf1f2ae",
   "metadata": {
    "tags": []
   },
   "outputs": [],
   "source": [
    "data= [[\n",
    "    'multilayered percentron',\n",
    "    'unharm_mixed_regr.sav',\n",
    "    mean_absolute_error(y_top_test, y_top_pred),\n",
    "    regr.score(X_top_test,y_top_test),\n",
    "    metrics.explained_variance_score(y_top_test, y_top_pred)]]\n",
    "regr_results_top = pd.DataFrame(data, columns=['algorithm','file_name','mae', 'r2', 'explained_variance'])\n",
    "#regr_results_top"
   ]
  },
  {
   "cell_type": "code",
   "execution_count": null,
   "id": "257f3326-30ba-433b-b634-c637e51cdd17",
   "metadata": {
    "tags": []
   },
   "outputs": [],
   "source": [
    "regr_y_test = y_top_test\n",
    "regr_y_pred = y_top_pred\n",
    "regr_compare = pd.DataFrame(\n",
    "    {'y_test_real_age': regr_y_test,\n",
    "     'linr_y_pred_age': regr_y_pred,\n",
    "    })\n",
    "regr_compare = linr_compare.reset_index()\n",
    "#regr_compare"
   ]
  },
  {
   "cell_type": "code",
   "execution_count": null,
   "id": "2f45a1c7-1515-480b-92da-87e3bc4649df",
   "metadata": {},
   "outputs": [],
   "source": [
    "# Compile results of mixed on TOP"
   ]
  },
  {
   "cell_type": "code",
   "execution_count": null,
   "id": "be30970c-f1b9-4bdb-bade-8b8c49959a2a",
   "metadata": {
    "tags": []
   },
   "outputs": [],
   "source": [
    "mixed_based_unharmonized_on_top =pd.concat([linr_results_top,\n",
    "                   llreg_results_top,\n",
    "                   dtree_results_top,\n",
    "                   regr_results_top,\n",
    "                   svrp2_results_top,\n",
    "                   eregr_results_top,\n",
    "                  etreg_results_top],\n",
    "                  axis=0)\n",
    "mixed_based_unharmonized_on_top"
   ]
  },
  {
   "cell_type": "code",
   "execution_count": null,
   "id": "d5346ad2-c9bb-4ae2-a2b8-397fea2bd2f2",
   "metadata": {},
   "outputs": [],
   "source": []
  },
  {
   "cell_type": "code",
   "execution_count": null,
   "id": "b6126690-767c-42f6-865f-4664d4af4fcf",
   "metadata": {
    "tags": []
   },
   "outputs": [],
   "source": [
    "data_frames1 = [linr_compare, llreg_compare, dtree_compare,]# regr_compare, ]#etreg_compare, svrp2_compare,]\n",
    "real_versus_projected_y1 = reduce(lambda  left,right: pd.merge(left,right,on=[\"index\"],\n",
    "                                            how='outer'), data_frames1)\n",
    "#real_versus_projected_y1\n",
    "data_frames2 = [eregr_compare, svrp2_compare, etreg_compare,]\n",
    "real_versus_projected_y2 = reduce(lambda  left,right: pd.merge(left,right,on=[\"index\"],\n",
    "                                            how='outer'), data_frames2)\n",
    "#real_versus_projected_y2\n",
    "real_versus_projected_y2 = sep.drop_y(real_versus_projected_y2 )\n",
    "real_versus_projected_y1 = sep.drop_y(real_versus_projected_y1 )\n",
    "#real_versus_projected_y1"
   ]
  },
  {
   "cell_type": "code",
   "execution_count": null,
   "id": "add4a609-9445-49e7-ad79-78d361ac5d62",
   "metadata": {
    "tags": []
   },
   "outputs": [],
   "source": [
    "data_frames3 = [real_versus_projected_y1, real_versus_projected_y2,]\n",
    "real_versus_projected_y3_mixed_on_top = reduce(lambda  left,right: pd.merge(left,right,on=[\"index\"],\n",
    "                                            how='outer'), data_frames3)\n",
    "real_versus_projected_y3_mixed_on_top.head(3)"
   ]
  },
  {
   "cell_type": "markdown",
   "id": "495993f9-3c8b-414f-beef-ee949afc430e",
   "metadata": {},
   "source": [
    "## Save off csvs of results \n",
    "optional, you must uncomment"
   ]
  },
  {
   "cell_type": "code",
   "execution_count": null,
   "id": "6f4fd654-e96a-4a8d-9dfd-5fcb6ee91112",
   "metadata": {
    "tags": []
   },
   "outputs": [],
   "source": [
    "## optionally save of csvs of algorithms and results\n",
    "#mixed_based_unharmonized_on_top.to_csv('mixed_based_unharmonized_on_top.csv')\n",
    "#real_versus_projected_y3_mixed_on_top.to_csv('real_versus_projected_y3_mixed_on_top.csv')"
   ]
  },
  {
   "cell_type": "markdown",
   "id": "d59ac976-bbb9-4352-b3e5-f9f551709aef",
   "metadata": {},
   "source": [
    "# Mixed algorithm on stroke MRI subjects (not in training)"
   ]
  },
  {
   "cell_type": "code",
   "execution_count": null,
   "id": "a24edd93-aaa9-4886-a867-61da425b11d6",
   "metadata": {
    "tags": []
   },
   "outputs": [],
   "source": [
    "StrokeMRI_subjects = set(StrokeMRI.participant_id)\n",
    "#StrokeMRI_subjects"
   ]
  },
  {
   "cell_type": "code",
   "execution_count": null,
   "id": "fa9f364f-66a6-43d7-9f70-e226f5eaa949",
   "metadata": {
    "tags": []
   },
   "outputs": [],
   "source": [
    "# take trained subjects out of top subjects\n",
    "# we can use set math here\n",
    "new_mri=(trained_subjects^StrokeMRI_subjects)&StrokeMRI_subjects"
   ]
  },
  {
   "cell_type": "code",
   "execution_count": null,
   "id": "32c90a0d-5766-4f2a-8569-1e8f206b2159",
   "metadata": {
    "tags": []
   },
   "outputs": [],
   "source": [
    "StrokeMRI_new = StrokeMRI[StrokeMRI['participant_id'].isin(list(new_mri))]\n",
    "#StrokeMRI_new"
   ]
  },
  {
   "cell_type": "code",
   "execution_count": null,
   "id": "ae3a47ad-e982-4d52-9680-c0e3db7b7bc2",
   "metadata": {
    "tags": []
   },
   "outputs": [],
   "source": [
    "strokemri_ml_matrix = StrokeMRI_new.drop('participant_id', axis=1) \n",
    "X_mri = strokemri_ml_matrix.drop('age', axis =1)\n",
    "X_mri = X_mri.values\n",
    "X_mri = X_mri.astype('float')\n",
    "y_mri = strokemri_ml_matrix['age'].values\n",
    "y_mri=y_mri.astype('float')"
   ]
  },
  {
   "cell_type": "code",
   "execution_count": null,
   "id": "081d7d47-ab65-4cd7-a944-ba6984bade1e",
   "metadata": {
    "tags": []
   },
   "outputs": [],
   "source": [
    "X_mri_test = X_mri\n",
    "y_mri_test = y_mri"
   ]
  },
  {
   "cell_type": "code",
   "execution_count": null,
   "id": "2246791f-a36d-4f99-bf3e-b6f50cf19b1d",
   "metadata": {
    "tags": []
   },
   "outputs": [],
   "source": [
    "y_mri_pred = linr.predict(X_mri_test)"
   ]
  },
  {
   "cell_type": "code",
   "execution_count": null,
   "id": "2cf3dbd7-ed59-4aa9-91f5-2df91a7ed723",
   "metadata": {
    "tags": []
   },
   "outputs": [],
   "source": [
    "print('R2 score Linear regression: %.3f' % linr.score(X_mri_test,y_mri_test))\n",
    "print('Explained variance score: %.3f'  % metrics.explained_variance_score(y_mri_test, y_mri_pred))\n",
    "print('The mean absolute error: %.3f' % mean_absolute_error(y_mri_test, y_mri_pred))"
   ]
  },
  {
   "cell_type": "code",
   "execution_count": null,
   "id": "a24d189a-70df-4827-9cbb-1947c969ac22",
   "metadata": {},
   "outputs": [],
   "source": []
  },
  {
   "cell_type": "code",
   "execution_count": null,
   "id": "68303cc7-dd89-4ccb-9738-367750be8a7d",
   "metadata": {
    "tags": []
   },
   "outputs": [],
   "source": [
    "data= [[\n",
    "    'linear regression',\n",
    "    'unharm_mixed_linr.sav',\n",
    "    mean_absolute_error(y_mri_test, y_mri_pred),\n",
    "    linr.score(X_mri_test,y_mri_test),\n",
    "    metrics.explained_variance_score(y_mri_test, y_mri_pred)]]\n",
    "linr_results_mri = pd.DataFrame(data, columns=['algorithm','file_name','mae', 'r2', 'explained_variance'])\n",
    "linr_results_mri"
   ]
  },
  {
   "cell_type": "code",
   "execution_count": null,
   "id": "36f6160b-c799-42c2-9f15-14c5adb30f6e",
   "metadata": {
    "tags": []
   },
   "outputs": [],
   "source": [
    "linr_y_test = y_mri_test\n",
    "linr_y_pred = y_mri_pred\n",
    "linr_compare = pd.DataFrame(\n",
    "    {'y_test_real_age': linr_y_test,\n",
    "     'linr_y_pred_age': linr_y_pred,\n",
    "    })\n",
    "linr_compare_mri = linr_compare.reset_index()\n",
    "#linr_compare_mri"
   ]
  },
  {
   "cell_type": "code",
   "execution_count": null,
   "id": "5261a4f6-23e8-4fbb-a3c9-ded743fb29f5",
   "metadata": {
    "tags": []
   },
   "outputs": [],
   "source": [
    "y_mri_pred = llreg.predict(X_mri_test)"
   ]
  },
  {
   "cell_type": "code",
   "execution_count": null,
   "id": "808a999b-4c8f-4a0a-b08e-c5b2b29cf598",
   "metadata": {
    "tags": []
   },
   "outputs": [],
   "source": [
    "print('R2 score Lasso-linear regression: %.3f' % llreg.score(X_mri_test,y_mri_test))\n",
    "print('Explained variance score: %.3f'  % metrics.explained_variance_score(y_mri_test, y_mri_pred))\n",
    "print('The mean absolute error: %.3f' % mean_absolute_error(y_mri_test, y_mri_pred))"
   ]
  },
  {
   "cell_type": "code",
   "execution_count": null,
   "id": "8bb0239f-4bcb-43ab-96f7-197ceeb12077",
   "metadata": {
    "tags": []
   },
   "outputs": [],
   "source": [
    "data= [[\n",
    "    'lasso regression',\n",
    "    'unharm_mixed_llreg.sav',\n",
    "    mean_absolute_error(y_mri_test, y_mri_pred),\n",
    "    llreg.score(X_mri_test,y_mri_test),\n",
    "    metrics.explained_variance_score(y_mri_test, y_mri_pred)]]\n",
    "llreg_results_mri = pd.DataFrame(data, columns=['algorithm','file_name','mae', 'r2', 'explained_variance'])\n",
    "#llreg_results_mri"
   ]
  },
  {
   "cell_type": "code",
   "execution_count": null,
   "id": "62a438b0-c1f4-4fd4-accc-25436ddf50bd",
   "metadata": {
    "tags": []
   },
   "outputs": [],
   "source": [
    "llreg_y_test = y_mri_test\n",
    "llreg_y_pred = y_mri_pred\n",
    "llreg_compare = pd.DataFrame(\n",
    "    {'y_test_real_age': llreg_y_test,\n",
    "     'llreg_y_pred_age': llreg_y_pred,\n",
    "    })\n",
    "llreg_compare_mri = llreg_compare.reset_index()\n",
    "#llreg_compare_mri"
   ]
  },
  {
   "cell_type": "code",
   "execution_count": null,
   "id": "c290764e-a2fb-4410-ab02-577a8893dc68",
   "metadata": {
    "tags": []
   },
   "outputs": [],
   "source": [
    "y_mri_pred = dtree.predict(X_mri_test)"
   ]
  },
  {
   "cell_type": "code",
   "execution_count": null,
   "id": "edb472a2-6f7b-44e2-9ac7-bdfadc5f1061",
   "metadata": {
    "tags": []
   },
   "outputs": [],
   "source": [
    "print('R2 score decision tree regression: %.3f' % dtree.score(X_mri_test,y_mri_test))\n",
    "print('Explained variance score: %.3f'  % metrics.explained_variance_score(y_mri_test, y_mri_pred))\n",
    "print('The mean absolute error: %.3f' % mean_absolute_error(y_mri_test, y_mri_pred))"
   ]
  },
  {
   "cell_type": "code",
   "execution_count": null,
   "id": "9fa27521-c6bf-46ef-a3ca-b351b79bd802",
   "metadata": {
    "tags": []
   },
   "outputs": [],
   "source": [
    "data= [[\n",
    "    'decision tree',\n",
    "    'unharm_mixed_dtree.sav',\n",
    "    mean_absolute_error(y_mri_test, y_mri_pred),\n",
    "    dtree.score(X_mri_test,y_mri_test),\n",
    "    metrics.explained_variance_score(y_mri_test, y_mri_pred)]]\n",
    "dtree_results_mri = pd.DataFrame(data, columns=['algorithm','file_name','mae', 'r2', 'explained_variance'])\n",
    "dtree_results_mri"
   ]
  },
  {
   "cell_type": "code",
   "execution_count": null,
   "id": "f0cb4a08-df34-45f0-b66e-a55271ddcefd",
   "metadata": {
    "tags": []
   },
   "outputs": [],
   "source": [
    "dtree_y_test = y_mri_test\n",
    "dtree_y_pred = y_mri_pred\n",
    "dtree_compare = pd.DataFrame(\n",
    "    {'y_test_real_age': dtree_y_test,\n",
    "     'dtree_y_pred_age': dtree_y_pred,\n",
    "    })\n",
    "dtree_compare_mri = dtree_compare.reset_index()\n",
    "#dtree_compare_mri"
   ]
  },
  {
   "cell_type": "code",
   "execution_count": null,
   "id": "c849b199-f2c9-4223-8139-e697d77ddadc",
   "metadata": {
    "tags": []
   },
   "outputs": [],
   "source": [
    "y_mri_pred = regr.predict(X_mri_test)"
   ]
  },
  {
   "cell_type": "code",
   "execution_count": null,
   "id": "71e4d3b0-8448-4a14-b0f7-a3cc33898818",
   "metadata": {
    "tags": []
   },
   "outputs": [],
   "source": [
    "print('R2 score MLP regression: %.3f' % regr.score(X_mri_test,y_mri_test))\n",
    "print('Explained variance score: %.3f'  % metrics.explained_variance_score(y_mri_test, y_mri_pred))\n",
    "print('The mean absolute error: %.3f' % mean_absolute_error(y_mri_test, y_mri_pred))"
   ]
  },
  {
   "cell_type": "code",
   "execution_count": null,
   "id": "7bb0867c-1798-4d15-b80f-6510fdf16a4a",
   "metadata": {
    "tags": []
   },
   "outputs": [],
   "source": [
    "data= [[\n",
    "    'multilayered perceptron',\n",
    "    'unharm_mixed_regr.sav',\n",
    "    mean_absolute_error(y_mri_test, y_mri_pred),\n",
    "    regr.score(X_mri_test,y_mri_test),\n",
    "    metrics.explained_variance_score(y_mri_test, y_mri_pred)]]\n",
    "regr_results_mri = pd.DataFrame(data, columns=['algorithm','file_name','mae', 'r2', 'explained_variance'])\n",
    "regr_results_mri"
   ]
  },
  {
   "cell_type": "code",
   "execution_count": null,
   "id": "ba3f74f4-1868-4f32-b08d-81f1bf95ee00",
   "metadata": {
    "tags": []
   },
   "outputs": [],
   "source": [
    "regr_y_test = y_mri_test\n",
    "regr_y_pred = y_mri_pred\n",
    "regr_compare = pd.DataFrame(\n",
    "    {'y_test_real_age': regr_y_test,\n",
    "     'linr_y_pred_age': regr_y_pred,\n",
    "    })\n",
    "regr_compare_mri = regr_compare.reset_index()\n",
    "#regr_compare_mri"
   ]
  },
  {
   "cell_type": "code",
   "execution_count": null,
   "id": "7a92fe5a-abba-4a13-a828-545ed467e8fd",
   "metadata": {},
   "outputs": [],
   "source": [
    "y_mri_pred = svr_p2.predict(X_mri_test)"
   ]
  },
  {
   "cell_type": "code",
   "execution_count": null,
   "id": "bf006ee3-8542-4379-aaf9-991bec644378",
   "metadata": {},
   "outputs": [],
   "source": [
    "print('R2 score SVR poly2 regression: %.3f' % svr_p2.score(X_mri_test,y_mri_test))\n",
    "print('Explained variance score: %.3f'  % metrics.explained_variance_score(y_mri_test, y_mri_pred))\n",
    "print('The mean absolute error: %.3f' % mean_absolute_error(y_mri_test, y_mri_pred))"
   ]
  },
  {
   "cell_type": "code",
   "execution_count": null,
   "id": "1808788c-d8e4-4f54-ba66-55e4c2416c78",
   "metadata": {},
   "outputs": [],
   "source": []
  },
  {
   "cell_type": "code",
   "execution_count": null,
   "id": "b6ce96ad-fc2c-42d9-a1e3-c15158f30d01",
   "metadata": {
    "tags": []
   },
   "outputs": [],
   "source": [
    "data= [[\n",
    "    'svr poly degree 2',\n",
    "    'unharm_mixed_svrp2.sav',\n",
    "    mean_absolute_error(y_mri_test, y_mri_pred),\n",
    "    svr_p2.score(X_mri_test,y_mri_test),\n",
    "    metrics.explained_variance_score(y_mri_test, y_mri_pred)]]\n",
    "svrp2_results_mri = pd.DataFrame(data, columns=['algorithm','file_name','mae', 'r2', 'explained_variance'])\n",
    "svrp2_results_mri"
   ]
  },
  {
   "cell_type": "code",
   "execution_count": null,
   "id": "cba1da31-2def-4524-80e1-aacd03ace209",
   "metadata": {
    "tags": []
   },
   "outputs": [],
   "source": [
    "svrp2_y_test = y_mri_test\n",
    "svrp2_y_pred = y_mri_pred\n",
    "svrp2_compare = pd.DataFrame(\n",
    "    {'y_test_real_age': svrp2_y_test,\n",
    "     'svrp2_y_pred_age': svrp2_y_pred,\n",
    "    })\n",
    "svrp2_compare_mri = svrp2_compare.reset_index()\n",
    "#svrp2_compare_mri"
   ]
  },
  {
   "cell_type": "code",
   "execution_count": null,
   "id": "61a69ba1-fea5-46e2-bf29-860a0a406f40",
   "metadata": {
    "tags": []
   },
   "outputs": [],
   "source": [
    "y_mri_pred = etreg.predict(X_mri_test)"
   ]
  },
  {
   "cell_type": "code",
   "execution_count": null,
   "id": "1ce238f7-ddc0-4a51-90c7-77bfa9e15f42",
   "metadata": {
    "tags": []
   },
   "outputs": [],
   "source": [
    "print('R2 score Extra tree regression: %.3f' % etreg.score(X_mri_test,y_mri_test))\n",
    "print('Explained variance score: %.3f'  % metrics.explained_variance_score(y_mri_test, y_mri_pred))\n",
    "print('The mean absolute error: %.3f' % mean_absolute_error(y_mri_test, y_mri_pred))"
   ]
  },
  {
   "cell_type": "code",
   "execution_count": null,
   "id": "8a41e1ff-d19b-4505-bed2-cc95d2e0452e",
   "metadata": {
    "tags": []
   },
   "outputs": [],
   "source": [
    "data= [[\n",
    "    'extra trees',\n",
    "    'unharm_mixed_etreg.sav',\n",
    "    mean_absolute_error(y_mri_test, y_mri_pred),\n",
    "    etreg.score(X_mri_test,y_mri_test),\n",
    "    metrics.explained_variance_score(y_mri_test, y_mri_pred)]]\n",
    "etreg_results_mri = pd.DataFrame(data, columns=['algorithm','file_name','mae', 'r2', 'explained_variance'])\n",
    "etreg_results_mri"
   ]
  },
  {
   "cell_type": "code",
   "execution_count": null,
   "id": "76ca966d-e8ea-4a3c-9017-39e4052b9e92",
   "metadata": {
    "tags": []
   },
   "outputs": [],
   "source": [
    "etreg_y_test = y_mri_test\n",
    "etreg_y_pred = y_mri_pred\n",
    "etreg_compare = pd.DataFrame(\n",
    "    {'y_test_real_age': etreg_y_test,\n",
    "     'etreg_y_pred_age': etreg_y_pred,\n",
    "    })\n",
    "etreg_compare_mri = etreg_compare.reset_index()\n",
    "#etreg_compare_mri"
   ]
  },
  {
   "cell_type": "code",
   "execution_count": null,
   "id": "c48c7cfc-b978-4a05-8710-104bed11d89d",
   "metadata": {},
   "outputs": [],
   "source": []
  },
  {
   "cell_type": "code",
   "execution_count": null,
   "id": "408c6ebd-22aa-4873-a2c9-9b786cbacf5b",
   "metadata": {
    "tags": []
   },
   "outputs": [],
   "source": [
    "y_mri_pred = eregr.predict(X_mri_test)"
   ]
  },
  {
   "cell_type": "code",
   "execution_count": null,
   "id": "456357a9-c0c9-4564-a6ea-b4a847e7b823",
   "metadata": {
    "tags": []
   },
   "outputs": [],
   "source": [
    "print('R2 score elasticnetCV: %.3f' % eregr.score(X_mri_test,y_mri_test))\n",
    "print('Explained variance score: %.3f'  % metrics.explained_variance_score(y_mri_test, y_mri_pred))\n",
    "print('The mean absolute error: %.3f' % mean_absolute_error(y_mri_test, y_mri_pred))"
   ]
  },
  {
   "cell_type": "code",
   "execution_count": null,
   "id": "a118c3ee-32e7-4d90-a5c8-34cef5226e66",
   "metadata": {
    "tags": []
   },
   "outputs": [],
   "source": [
    "data= [[\n",
    "    'elasticnet CV',\n",
    "    'unharm_mixed_eregr.sav',\n",
    "    mean_absolute_error(y_mri_test, y_mri_pred),\n",
    "    eregr.score(X_mri_test,y_mri_test),\n",
    "    metrics.explained_variance_score(y_mri_test, y_mri_pred)]]\n",
    "eregr_results_mri = pd.DataFrame(data, columns=['algorithm','file_name','mae', 'r2', 'explained_variance'])\n",
    "eregr_results_mri"
   ]
  },
  {
   "cell_type": "code",
   "execution_count": null,
   "id": "bcae73f7-4d87-4bc0-ae3f-02cff9b7940e",
   "metadata": {
    "tags": []
   },
   "outputs": [],
   "source": [
    "eregr_y_test = y_mri_test\n",
    "eregr_y_pred = y_mri_pred\n",
    "eregr_compare = pd.DataFrame(\n",
    "    {'y_test_real_age': eregr_y_test,\n",
    "     'etreg_y_pred_age': eregr_y_pred,\n",
    "    })\n",
    "eregr_compare_mri = eregr_compare.reset_index()\n",
    "#etreg_compare_mri"
   ]
  },
  {
   "cell_type": "code",
   "execution_count": null,
   "id": "79a1916a-e9af-4467-9675-92d7df2354c4",
   "metadata": {},
   "outputs": [],
   "source": [
    "# Agregate mixed results on MRI and optional save"
   ]
  },
  {
   "cell_type": "code",
   "execution_count": null,
   "id": "bc2ff726-4a3a-46e3-a516-c0c9f77c33d3",
   "metadata": {},
   "outputs": [],
   "source": []
  },
  {
   "cell_type": "code",
   "execution_count": null,
   "id": "2e20999d-60a3-4b2b-8546-7607ab828cca",
   "metadata": {
    "tags": []
   },
   "outputs": [],
   "source": [
    "mixed_based_unharmonized_on_mri =pd.concat([linr_results_mri,\n",
    "                   llreg_results_mri,\n",
    "                   dtree_results_mri,\n",
    "                   regr_results_mri,\n",
    "                   svrp2_results_mri,\n",
    "                   eregr_results_mri,\n",
    "                   etreg_results_mri],\n",
    "                   axis=0)\n",
    "mixed_based_unharmonized_on_mri"
   ]
  },
  {
   "cell_type": "code",
   "execution_count": null,
   "id": "aada36b2-abe9-49ff-9f56-ca19ede2a4bd",
   "metadata": {},
   "outputs": [],
   "source": []
  },
  {
   "cell_type": "code",
   "execution_count": null,
   "id": "34c24815-6d51-4440-b153-260974df15b6",
   "metadata": {
    "tags": []
   },
   "outputs": [],
   "source": [
    "data_frames1 = [linr_compare_mri, llreg_compare_mri, dtree_compare_mri,]# regr_compare, ]#etreg_compare, svrp2_compare,]\n",
    "real_versus_projected_y1 = reduce(lambda  left,right: pd.merge(left,right,on=[\"index\"],\n",
    "                                            how='outer'), data_frames1)\n",
    "#real_versus_projected_y1\n",
    "data_frames2 = [eregr_compare_mri, svrp2_compare_mri, etreg_compare_mri,]\n",
    "real_versus_projected_y2 = reduce(lambda  left,right: pd.merge(left,right,on=[\"index\"],\n",
    "                                            how='outer'), data_frames2)\n",
    "#real_versus_projected_y2\n",
    "real_versus_projected_y2 = sep.drop_y(real_versus_projected_y2 )\n",
    "real_versus_projected_y1 = sep.drop_y(real_versus_projected_y1 )\n",
    "#real_versus_projected_y1"
   ]
  },
  {
   "cell_type": "code",
   "execution_count": null,
   "id": "6f750f8f-2333-4cd1-a1f1-c9c91dfaf11b",
   "metadata": {
    "tags": []
   },
   "outputs": [],
   "source": [
    "data_frames3 = [real_versus_projected_y1, real_versus_projected_y2,]\n",
    "real_versus_projected_y3_mixed_on_mri = reduce(lambda  left,right: pd.merge(left,right,on=[\"index\"],\n",
    "                                            how='outer'), data_frames3)\n",
    "real_versus_projected_y3_mixed_on_mri.head(3)"
   ]
  },
  {
   "cell_type": "code",
   "execution_count": null,
   "id": "695ade4b-e9ac-44a4-8c85-88d6e38727a6",
   "metadata": {},
   "outputs": [],
   "source": [
    "# # optionally save of csvs of algorithms and results\n",
    "# mixed_based_unharmonized_on_mri.to_csv('mixed_based_unharmonized_on_mri.csv')\n",
    "# real_versus_projected_y3_mixed_on_mri.to_csv('real_versus_projected_y3_mixed_on_mri.csv')"
   ]
  },
  {
   "cell_type": "markdown",
   "id": "335561d1-d08d-42c8-a609-88d24e5d5b8e",
   "metadata": {},
   "source": [
    "# Running mixed model over SABRE dataset"
   ]
  },
  {
   "cell_type": "markdown",
   "id": "2478ae6b-0db2-44e3-aab2-d011b998d249",
   "metadata": {},
   "source": [
    "## Here we will do an example of running allthe [0] models"
   ]
  },
  {
   "cell_type": "code",
   "execution_count": null,
   "id": "c1e76019-394d-481e-b5b5-d50453ffce8a",
   "metadata": {},
   "outputs": [],
   "source": []
  },
  {
   "cell_type": "code",
   "execution_count": null,
   "id": "4541d92f-cf01-4f5a-97cb-6ba4b4c4b0f9",
   "metadata": {
    "tags": []
   },
   "outputs": [],
   "source": [
    "sabre_ml_matrix = SABRE.drop('participant_id', axis=1)\n",
    "X_sabre = sabre_ml_matrix.drop('age', axis =1)\n",
    "X_sabre = X_sabre.values\n",
    "X_sabre = X_sabre.astype('float')\n",
    "y_sabre = sabre_ml_matrix['age'].values\n",
    "y_sabre=y_sabre.astype('float')"
   ]
  },
  {
   "cell_type": "code",
   "execution_count": null,
   "id": "35936c03-d11e-456f-9883-3ab5c7da1fd9",
   "metadata": {
    "tags": []
   },
   "outputs": [],
   "source": [
    "X_sabre_test = X_sabre\n",
    "y_sabre_test = y_sabre"
   ]
  },
  {
   "cell_type": "code",
   "execution_count": null,
   "id": "f1358a3f-ca42-434b-8f43-bb6ac2a12daf",
   "metadata": {
    "tags": []
   },
   "outputs": [],
   "source": [
    "y_sabre_pred = linr[0].predict(X_sabre_test)"
   ]
  },
  {
   "cell_type": "code",
   "execution_count": null,
   "id": "6e5993c5-1d7e-4850-88c9-aad5b7e0c24e",
   "metadata": {
    "tags": []
   },
   "outputs": [],
   "source": [
    "data= [[\n",
    "    'Linear Reg',\n",
    "    'unharm_mix_linr0.sav',\n",
    "    mean_absolute_error(y_sabre_test, y_sabre_pred),\n",
    "    linr[0].score(X_sabre_test,y_sabre_test),\n",
    "    metrics.explained_variance_score(y_sabre_test, y_sabre_pred)]]\n",
    "linr_results_sabre = pd.DataFrame(data, columns=['algorithm','file_name','mae', 'r2', 'explained_variance'])\n",
    "linr_results_sabre"
   ]
  },
  {
   "cell_type": "code",
   "execution_count": null,
   "id": "cb2b4ade-6a6b-4d5a-afdb-a983d8123576",
   "metadata": {
    "tags": []
   },
   "outputs": [],
   "source": [
    "data = {'real': y_sabre_test, 'predicted': y_sabre_pred}\n",
    "y_frame_linr_sabre = pd.DataFrame(data)\n",
    "y_frame_linr_sabre"
   ]
  },
  {
   "cell_type": "code",
   "execution_count": null,
   "id": "2c88fdc5-bf6b-4269-af94-b7ef2aceab7f",
   "metadata": {
    "tags": []
   },
   "outputs": [],
   "source": [
    "y_sabre_pred = llreg[0].predict(X_sabre_test)"
   ]
  },
  {
   "cell_type": "code",
   "execution_count": null,
   "id": "3d6d882e-a2b1-4aea-b121-f256425fd927",
   "metadata": {
    "tags": []
   },
   "outputs": [],
   "source": [
    "data= [[\n",
    "    'Lasso',\n",
    "    'unharm_mix_lassor0.sav',\n",
    "    mean_absolute_error(y_sabre_test, y_sabre_pred),\n",
    "    llreg[0].score(X_sabre_test,y_sabre_test),\n",
    "    metrics.explained_variance_score(y_sabre_test, y_sabre_pred)]]\n",
    "llreg_results_sabre = pd.DataFrame(data, columns=['algorithm','file_name','mae', 'r2', 'explained_variance'])\n",
    "llreg_results_sabre"
   ]
  },
  {
   "cell_type": "code",
   "execution_count": null,
   "id": "a5b5e69a-7299-4e27-ac4a-fab61b8a3f82",
   "metadata": {
    "tags": []
   },
   "outputs": [],
   "source": [
    "data = {'real': y_sabre_test, 'predicted': y_sabre_pred}\n",
    "y_frame_llreg_sabre = pd.DataFrame(data)\n",
    "y_frame_llreg_sabre"
   ]
  },
  {
   "cell_type": "code",
   "execution_count": null,
   "id": "bdd89ef4-fedc-42fb-9190-01eb69d6db4c",
   "metadata": {
    "tags": []
   },
   "outputs": [],
   "source": [
    "y_sabre_pred = dtree[0].predict(X_sabre_test)"
   ]
  },
  {
   "cell_type": "code",
   "execution_count": null,
   "id": "4d1784b4-49b9-4ef8-90cb-5504bf3c64e3",
   "metadata": {
    "tags": []
   },
   "outputs": [],
   "source": [
    "data= [[\n",
    "    'Decision tree',\n",
    "    'unharm_mix_dtree0.sav',\n",
    "    mean_absolute_error(y_sabre_test, y_sabre_pred),\n",
    "    dtree[0].score(X_sabre_test,y_sabre_test),\n",
    "    metrics.explained_variance_score(y_sabre_test, y_sabre_pred)]]\n",
    "dtree_results_sabre = pd.DataFrame(data, columns=['algorithm','file_name','mae', 'r2', 'explained_variance'])\n",
    "dtree_results_sabre"
   ]
  },
  {
   "cell_type": "code",
   "execution_count": null,
   "id": "4d45c4b5-2180-453a-972c-b969519de0d0",
   "metadata": {
    "tags": []
   },
   "outputs": [],
   "source": [
    "data = {'real': y_sabre_test, 'predicted': y_sabre_pred}\n",
    "y_frame_dtree_sabre = pd.DataFrame(data)\n",
    "y_frame_dtree_sabre"
   ]
  },
  {
   "cell_type": "code",
   "execution_count": null,
   "id": "380d9650-6f8a-4c23-b6b3-233a5ea23631",
   "metadata": {
    "tags": []
   },
   "outputs": [],
   "source": [
    "y_sabre_pred = regr[0].predict(X_sabre_test)"
   ]
  },
  {
   "cell_type": "code",
   "execution_count": null,
   "id": "8776d543-6bfc-4880-9673-8df3a9ed689b",
   "metadata": {
    "tags": []
   },
   "outputs": [],
   "source": [
    "data= [[\n",
    "    'MLP regression',\n",
    "    'unharm_mix_regr0.sav',\n",
    "    mean_absolute_error(y_sabre_test, y_sabre_pred),\n",
    "    regr[0].score(X_sabre_test,y_sabre_test),\n",
    "    metrics.explained_variance_score(y_sabre_test, y_sabre_pred)]]\n",
    "regr_results_sabre = pd.DataFrame(data, columns=['algorithm','file_name','mae', 'r2', 'explained_variance'])\n",
    "regr_results_sabre"
   ]
  },
  {
   "cell_type": "code",
   "execution_count": null,
   "id": "0067976c-19d2-4efa-ac2c-04cb2351e200",
   "metadata": {
    "tags": []
   },
   "outputs": [],
   "source": [
    "y_sabre_pred = svrp2[0].predict(X_sabre_test)"
   ]
  },
  {
   "cell_type": "code",
   "execution_count": null,
   "id": "9fa00ccb-a7bf-4934-83f7-9709dfbcbd5c",
   "metadata": {
    "tags": []
   },
   "outputs": [],
   "source": [
    "data= [[\n",
    "    'Svr P2',\n",
    "    'unharm_mri_svrp20.sav',\n",
    "    mean_absolute_error(y_sabre_test, y_sabre_pred),\n",
    "    svrp2[0].score(X_sabre_test,y_sabre_test),\n",
    "    metrics.explained_variance_score(y_sabre_test, y_sabre_pred)]]\n",
    "svr_p2_results_sabre = pd.DataFrame(data, columns=['algorithm','file_name','mae', 'r2', 'explained_variance'])\n",
    "svr_p2_results_sabre"
   ]
  },
  {
   "cell_type": "code",
   "execution_count": null,
   "id": "1f291391-1fc2-483a-a20d-28aee059c53b",
   "metadata": {
    "tags": []
   },
   "outputs": [],
   "source": [
    "y_sabre_pred = eregr[0].predict(X_sabre_test)"
   ]
  },
  {
   "cell_type": "code",
   "execution_count": null,
   "id": "cf4d5280-3950-4476-9f94-d61994808ec9",
   "metadata": {},
   "outputs": [],
   "source": []
  },
  {
   "cell_type": "code",
   "execution_count": null,
   "id": "0aa78f2a-5de4-43c4-b326-f59d7ec9b2ef",
   "metadata": {
    "tags": []
   },
   "outputs": [],
   "source": [
    "data= [[\n",
    "    'ElasticnetCV',\n",
    "    'harm_mix_elasticregr.sav',\n",
    "    mean_absolute_error(y_sabre_test, y_sabre_pred),\n",
    "    eregr[0].score(X_sabre_test,y_sabre_test),\n",
    "    metrics.explained_variance_score(y_sabre_test, y_sabre_pred)]]\n",
    "eregr_results_sabre = pd.DataFrame(data, columns=['algorithm','file_name','mae', 'r2', 'explained_variance'])\n",
    "eregr_results_sabre"
   ]
  },
  {
   "cell_type": "code",
   "execution_count": null,
   "id": "83b9e294-b91f-4965-a9ec-71a9f2098de1",
   "metadata": {
    "tags": []
   },
   "outputs": [],
   "source": [
    "y_sabre_pred = etreg[0].predict(X_sabre_test)"
   ]
  },
  {
   "cell_type": "code",
   "execution_count": null,
   "id": "a461bfd1-bbfe-46ba-905c-e9279da37432",
   "metadata": {
    "tags": []
   },
   "outputs": [],
   "source": [
    "data= [[\n",
    "    'Extra trees',\n",
    "    'harm_mix_etreg.sav',\n",
    "    mean_absolute_error(y_sabre_test, y_sabre_pred),\n",
    "    etreg[0].score(X_sabre_test,y_sabre_test),\n",
    "    metrics.explained_variance_score(y_sabre_test, y_sabre_pred)]]\n",
    "etreg_results_sabre = pd.DataFrame(data, columns=['algorithm','file_name','mae', 'r2', 'explained_variance'])\n",
    "etreg_results_sabre"
   ]
  },
  {
   "cell_type": "code",
   "execution_count": null,
   "id": "ac524ce4-6808-496b-b9b9-481b6479e886",
   "metadata": {},
   "outputs": [],
   "source": [
    "data = {'real': y_sabre_test, 'predicted': y_sabre_pred}\n",
    "y_frame_etregr_sabre = pd.DataFrame(data)\n",
    "y_frame_etregr_sabre"
   ]
  },
  {
   "cell_type": "code",
   "execution_count": null,
   "id": "372532aa-b0af-4c75-bb71-b22fce54cc10",
   "metadata": {
    "tags": []
   },
   "outputs": [],
   "source": [
    "mix_based_neuroharmonized_on_sabre =pd.concat([linr_results_sabre,\n",
    "                   llreg_results_sabre,\n",
    "                   dtree_results_sabre,\n",
    "                   regr_results_sabre,\n",
    "                   svr_p2_results_sabre,\n",
    "                   eregr_results_sabre,\n",
    "                  etreg_results_sabre],\n",
    "                  axis=0)\n",
    "mix_based_neuroharmonized_on_sabre"
   ]
  },
  {
   "cell_type": "code",
   "execution_count": null,
   "id": "cddc58e4-76cb-420c-8ba8-a07552a7096d",
   "metadata": {},
   "outputs": [],
   "source": []
  },
  {
   "cell_type": "markdown",
   "id": "643a2b97-1246-4efb-9291-498b8adf606d",
   "metadata": {},
   "source": [
    "# Running mixed model over Insight46 dataset"
   ]
  },
  {
   "cell_type": "markdown",
   "id": "c24060d3-81f2-4bfb-aee6-ef9042bef95c",
   "metadata": {},
   "source": [
    "## Here we will do an example of running allthe [0] models"
   ]
  },
  {
   "cell_type": "code",
   "execution_count": null,
   "id": "5f2bae9e-f6c1-4c54-b01f-bb4eb228c121",
   "metadata": {
    "tags": []
   },
   "outputs": [],
   "source": [
    "insight_ml_matrix = Insight46.drop('participant_id', axis=1)\n",
    "X_insight = insight_ml_matrix.drop('age', axis =1)\n",
    "X_insight = X_insight.values\n",
    "X_insight = X_insight.astype('float')\n",
    "y_insight = insight_ml_matrix['age'].values\n",
    "y_insight= y_insight.astype('float')"
   ]
  },
  {
   "cell_type": "code",
   "execution_count": null,
   "id": "4c42319d-fe4d-4786-9ec9-54b0809a40dd",
   "metadata": {
    "tags": []
   },
   "outputs": [],
   "source": [
    "X_insight_test = X_insight\n",
    "y_insight_test = y_insight"
   ]
  },
  {
   "cell_type": "code",
   "execution_count": null,
   "id": "42bd7c73-cf15-4e24-98d2-dc84cbdfd341",
   "metadata": {
    "tags": []
   },
   "outputs": [],
   "source": [
    "y_insight_pred = linr[0].predict(X_insight_test)"
   ]
  },
  {
   "cell_type": "code",
   "execution_count": null,
   "id": "82ad38c7-49c7-455d-b2b0-ac4c1fa0a49a",
   "metadata": {
    "tags": []
   },
   "outputs": [],
   "source": [
    "data= [[\n",
    "    'Linear Reg',\n",
    "    'neuroharm_mix_linr0.sav',\n",
    "    mean_absolute_error(y_insight_test, y_insight_pred),\n",
    "    linr[0].score(X_insight_test,y_insight_test),\n",
    "    metrics.explained_variance_score(y_insight_test, y_insight_pred)]]\n",
    "linr_results_insight = pd.DataFrame(data, columns=['algorithm','file_name','mae', 'r2', 'explained_variance'])\n",
    "linr_results_insight"
   ]
  },
  {
   "cell_type": "code",
   "execution_count": null,
   "id": "ad393371-6d37-4ab8-88ea-52c87b2f16f1",
   "metadata": {
    "tags": []
   },
   "outputs": [],
   "source": [
    "data = {'real': y_insight_test, 'predicted': y_insight_pred}\n",
    "y_frame_linr_insight = pd.DataFrame(data)\n",
    "y_frame_linr_insight"
   ]
  },
  {
   "cell_type": "code",
   "execution_count": null,
   "id": "6f82d394-fd25-47e2-a272-699c60dbed50",
   "metadata": {},
   "outputs": [],
   "source": []
  },
  {
   "cell_type": "code",
   "execution_count": null,
   "id": "d8e8db53-ee07-45dc-9b10-56744505445f",
   "metadata": {
    "tags": []
   },
   "outputs": [],
   "source": [
    "y_insight_pred = llreg[0].predict(X_insight_test)"
   ]
  },
  {
   "cell_type": "code",
   "execution_count": null,
   "id": "8afdfb64-e596-418c-b160-e32d55ba5bc7",
   "metadata": {
    "tags": []
   },
   "outputs": [],
   "source": [
    "data= [[\n",
    "    'Lasso',\n",
    "    'neuroharm_mix_lassor0.sav',\n",
    "    mean_absolute_error(y_insight_test, y_insight_pred),\n",
    "    llreg[0].score(X_insight_test,y_insight_test),\n",
    "    metrics.explained_variance_score(y_insight_test, y_insight_pred)]]\n",
    "llreg_results_insight = pd.DataFrame(data, columns=['algorithm','file_name','mae', 'r2', 'explained_variance'])\n",
    "llreg_results_insight"
   ]
  },
  {
   "cell_type": "code",
   "execution_count": null,
   "id": "2939ac22-531b-4850-bfc5-63d480aec109",
   "metadata": {
    "tags": []
   },
   "outputs": [],
   "source": [
    "data = {'real': y_insight_test, 'predicted': y_insight_pred}\n",
    "y_frame_llreg_insight = pd.DataFrame(data)\n",
    "y_frame_llreg_insight"
   ]
  },
  {
   "cell_type": "code",
   "execution_count": null,
   "id": "18c5ad2c-a7c4-46c8-a926-8fdc9c1171ad",
   "metadata": {
    "tags": []
   },
   "outputs": [],
   "source": [
    "y_insight_pred = dtree[0].predict(X_insight_test)"
   ]
  },
  {
   "cell_type": "code",
   "execution_count": null,
   "id": "244f0eb2-7a65-47e4-b5a5-a2f517504da2",
   "metadata": {
    "tags": []
   },
   "outputs": [],
   "source": [
    "data= [[\n",
    "    'Decision tree',\n",
    "    'neuroharm_mix_dtree0.sav',\n",
    "    mean_absolute_error(y_insight_test, y_insight_pred),\n",
    "    dtree[0].score(X_insight_test,y_insight_test),\n",
    "    metrics.explained_variance_score(y_insight_test, y_insight_pred)]]\n",
    "dtree_results_insight = pd.DataFrame(data, columns=['algorithm','file_name','mae', 'r2', 'explained_variance'])\n",
    "dtree_results_insight"
   ]
  },
  {
   "cell_type": "code",
   "execution_count": null,
   "id": "a4ef2e42-91ae-41f4-af59-626cf3438079",
   "metadata": {
    "tags": []
   },
   "outputs": [],
   "source": [
    "data = {'real': y_insight_test, 'predicted': y_insight_pred}\n",
    "y_frame_dtree_insight = pd.DataFrame(data)\n",
    "y_frame_dtree_insight"
   ]
  },
  {
   "cell_type": "code",
   "execution_count": null,
   "id": "5c16b346-bfb3-42d3-af0d-e3b660a29ea7",
   "metadata": {
    "tags": []
   },
   "outputs": [],
   "source": [
    "y_insight_pred = regr[0].predict(X_insight_test)"
   ]
  },
  {
   "cell_type": "code",
   "execution_count": null,
   "id": "7a9b8d65-154d-479d-bd14-7862fbf3f97b",
   "metadata": {
    "tags": []
   },
   "outputs": [],
   "source": [
    "data= [[\n",
    "    'MLP regression',\n",
    "    'neuroharm_mix_regr0.sav',\n",
    "    mean_absolute_error(y_insight_test, y_insight_pred),\n",
    "    regr[0].score(X_insight_test,y_insight_test),\n",
    "    metrics.explained_variance_score(y_insight_test, y_insight_pred)]]\n",
    "regr_results_insight = pd.DataFrame(data, columns=['algorithm','file_name','mae', 'r2', 'explained_variance'])\n",
    "regr_results_insight"
   ]
  },
  {
   "cell_type": "code",
   "execution_count": null,
   "id": "e8e8c707-9674-4c8a-8d13-5e53cc2a59c1",
   "metadata": {
    "tags": []
   },
   "outputs": [],
   "source": [
    "y_insight_pred = svrp2[0].predict(X_insight_test)"
   ]
  },
  {
   "cell_type": "code",
   "execution_count": null,
   "id": "ab6396d1-4727-4bf4-8d64-2f22836fb7a4",
   "metadata": {
    "tags": []
   },
   "outputs": [],
   "source": [
    "data= [[\n",
    "    'Svr P2',\n",
    "    'neuroharm_mix_svrp20.sav',\n",
    "    mean_absolute_error(y_insight_test, y_insight_pred),\n",
    "    svrp2[0].score(X_insight_test,y_insight_test),\n",
    "    metrics.explained_variance_score(y_insight_test, y_insight_pred)]]\n",
    "svr_p2_results_insight = pd.DataFrame(data, columns=['algorithm','file_name','mae', 'r2', 'explained_variance'])\n",
    "svr_p2_results_insight"
   ]
  },
  {
   "cell_type": "code",
   "execution_count": null,
   "id": "5a04ac26-0818-4cd5-bb7b-55de1dcaa24f",
   "metadata": {},
   "outputs": [],
   "source": []
  },
  {
   "cell_type": "code",
   "execution_count": null,
   "id": "8b6c730c-edb7-41a7-9c25-cb9fde019ac1",
   "metadata": {
    "tags": []
   },
   "outputs": [],
   "source": [
    "y_insight_pred = eregr[0].predict(X_insight_test)"
   ]
  },
  {
   "cell_type": "code",
   "execution_count": null,
   "id": "701a933c-df3d-4516-88ce-7a8bdb5fb4c2",
   "metadata": {},
   "outputs": [],
   "source": []
  },
  {
   "cell_type": "code",
   "execution_count": null,
   "id": "a5e4906c-6e64-4cb7-a9e2-53c02ad1c838",
   "metadata": {
    "tags": []
   },
   "outputs": [],
   "source": [
    "data= [[\n",
    "    'ElasticnetCV',\n",
    "    'neuroharm_mix_elasticregr.sav',\n",
    "    mean_absolute_error(y_insight_test, y_insight_pred),\n",
    "    eregr[0].score(X_insight_test,y_insight_test),\n",
    "    metrics.explained_variance_score(y_insight_test, y_insight_pred)]]\n",
    "eregr_results_insight = pd.DataFrame(data, columns=['algorithm','file_name','mae', 'r2', 'explained_variance'])\n",
    "eregr_results_insight"
   ]
  },
  {
   "cell_type": "code",
   "execution_count": null,
   "id": "b5359618-4501-4bb8-9550-673eb3cd45df",
   "metadata": {
    "tags": []
   },
   "outputs": [],
   "source": [
    "y_insight_pred = etreg[0].predict(X_insight_test)"
   ]
  },
  {
   "cell_type": "code",
   "execution_count": null,
   "id": "942eea1e-720b-4de9-95cc-b5ede54cb44f",
   "metadata": {
    "tags": []
   },
   "outputs": [],
   "source": [
    "data= [[\n",
    "    'Extra trees',\n",
    "    'neuroharm_mix_etreg.sav',\n",
    "    mean_absolute_error(y_insight_test, y_insight_pred),\n",
    "    etreg[0].score(X_insight_test,y_insight_test),\n",
    "    metrics.explained_variance_score(y_insight_test, y_insight_pred)]]\n",
    "etreg_results_insight = pd.DataFrame(data, columns=['algorithm','file_name','mae', 'r2', 'explained_variance'])\n",
    "etreg_results_insight"
   ]
  },
  {
   "cell_type": "code",
   "execution_count": null,
   "id": "67c47485-9cf5-4193-85de-3548ef214648",
   "metadata": {},
   "outputs": [],
   "source": [
    "data = {'real': y_insight_test, 'predicted': y_insight_pred}\n",
    "y_frame_etregr_insight = pd.DataFrame(data)\n",
    "y_frame_etregr_insight"
   ]
  },
  {
   "cell_type": "code",
   "execution_count": null,
   "id": "94f68e7c-6f54-47bc-8679-9c4b19629ae0",
   "metadata": {
    "tags": []
   },
   "outputs": [],
   "source": [
    "mix_based_neuroharmonized_on_insight =pd.concat([linr_results_insight,\n",
    "                   llreg_results_insight,\n",
    "                   dtree_results_insight,\n",
    "                   regr_results_insight,\n",
    "                   svr_p2_results_insight,\n",
    "                   eregr_results_insight,\n",
    "                   etreg_results_insight],\n",
    "                  axis=0)\n",
    "mix_based_neuroharmonized_on_insight"
   ]
  },
  {
   "cell_type": "code",
   "execution_count": null,
   "id": "066b9518-4dc5-40b9-9391-2c0b3cc8b14e",
   "metadata": {},
   "outputs": [],
   "source": []
  }
 ],
 "metadata": {
  "kernelspec": {
   "display_name": "Python 3 (ipykernel)",
   "language": "python",
   "name": "python3"
  },
  "language_info": {
   "codemirror_mode": {
    "name": "ipython",
    "version": 3
   },
   "file_extension": ".py",
   "mimetype": "text/x-python",
   "name": "python",
   "nbconvert_exporter": "python",
   "pygments_lexer": "ipython3",
   "version": "3.9.18"
  }
 },
 "nbformat": 4,
 "nbformat_minor": 5
}
