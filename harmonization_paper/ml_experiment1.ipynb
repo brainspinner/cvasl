{
 "cells": [
  {
   "cell_type": "markdown",
   "id": "aa8204b7-5f41-4480-92f8-20b1edf48e97",
   "metadata": {},
   "source": [
    "# ML testing: experiment #1\n",
    "\n",
    "This notebook involves testing for the MRI conference abstract. This notebook shows TOP based models"
   ]
  },
  {
   "cell_type": "markdown",
   "id": "217c1e25-2583-4cf1-a9a5-a03a69db83d5",
   "metadata": {},
   "source": [
    "### import libraries"
   ]
  },
  {
   "cell_type": "code",
   "execution_count": 1,
   "id": "f0f97a5e-5bee-4bb5-9a24-6fd022e220c7",
   "metadata": {
    "tags": []
   },
   "outputs": [],
   "source": [
    "import os       # using operating system dependent functionality (folders)\n",
    "import sys\n",
    "\n",
    "import glob\n",
    "\n",
    "import pandas as pd # data analysis and manipulation\n",
    "import numpy as np    # numerical computing (manipulating and performing operations on arrays of data)\n",
    "import matplotlib.pyplot as plt\n",
    "\n",
    "# demo stuff\n",
    "#import ipywidgets as widgets\n",
    "#import seaborn \n",
    "\n",
    "# ml stuff\n",
    "from sklearn.model_selection import train_test_split\n",
    "from sklearn.preprocessing import StandardScaler\n",
    "from sklearn.svm import SVC\n",
    "from sklearn.metrics import accuracy_score\n",
    "from sklearn.linear_model import LogisticRegression\n",
    "from sklearn.linear_model import LinearRegression\n",
    "from sklearn import linear_model\n",
    "from sklearn import tree\n",
    "from sklearn import metrics\n",
    "from sklearn.linear_model import SGDRegressor\n",
    "#from sklearn.metrics import confusion_matrix\n",
    "from sklearn.metrics import mean_absolute_error\n",
    "from sklearn.neural_network import MLPRegressor\n",
    "from sklearn.linear_model import ElasticNetCV\n",
    "from sklearn.ensemble import ExtraTreesRegressor\n",
    "\n",
    "import joblib\n",
    "\n",
    "sys.path.insert(0, '../') # path to functions\n",
    "import cvasl.seperated as sep\n",
    "from cvasl.file_handler import Config"
   ]
  },
  {
   "cell_type": "markdown",
   "id": "eb4dd67a-f2c4-423d-a312-c2cb4e53bd7a",
   "metadata": {
    "tags": []
   },
   "source": [
    "### import data"
   ]
  },
  {
   "cell_type": "code",
   "execution_count": 2,
   "id": "3a06909f-f7a2-4fe4-851f-d3ed89fbf36f",
   "metadata": {
    "tags": []
   },
   "outputs": [],
   "source": [
    "filepath_mri = '../open_work/internal_results/cleaned_pvc2s/' \n",
    "filename_mri = os.path.join(filepath_mri,'StrokeMRI_pvc2c.csv') \n",
    "\n",
    "filepath_top = '../open_work/internal_results/cleaned_pvc2s/' \n",
    "filename_top = os.path.join(filepath_top,'TOP_pvc2c.csv') "
   ]
  },
  {
   "cell_type": "code",
   "execution_count": 3,
   "id": "802a336b-5978-42d4-9a9f-21df2566a6bb",
   "metadata": {
    "tags": []
   },
   "outputs": [],
   "source": [
    "TOP = pd.read_csv(filename_top)\n",
    "StrokeMRI = pd.read_csv(filename_mri)"
   ]
  },
  {
   "cell_type": "code",
   "execution_count": 4,
   "id": "e732ea6f-2de9-4e9d-a258-07578a0c5f02",
   "metadata": {
    "tags": []
   },
   "outputs": [],
   "source": [
    "TOP = TOP.drop(TOP.columns[0],axis=1)\n",
    "#TOP"
   ]
  },
  {
   "cell_type": "code",
   "execution_count": 5,
   "id": "8e700448-3176-4e45-8499-80f7ab4c2861",
   "metadata": {
    "tags": []
   },
   "outputs": [
    {
     "data": {
      "text/html": [
       "<div>\n",
       "<style scoped>\n",
       "    .dataframe tbody tr th:only-of-type {\n",
       "        vertical-align: middle;\n",
       "    }\n",
       "\n",
       "    .dataframe tbody tr th {\n",
       "        vertical-align: top;\n",
       "    }\n",
       "\n",
       "    .dataframe thead th {\n",
       "        text-align: right;\n",
       "    }\n",
       "</style>\n",
       "<table border=\"1\" class=\"dataframe\">\n",
       "  <thead>\n",
       "    <tr style=\"text-align: right;\">\n",
       "      <th></th>\n",
       "      <th>participant_id</th>\n",
       "      <th>age</th>\n",
       "      <th>sex</th>\n",
       "      <th>gm_vol</th>\n",
       "      <th>wm_vol</th>\n",
       "      <th>csf_vol</th>\n",
       "      <th>gm_ivc_ratio</th>\n",
       "      <th>gmwm_ivc_ratio</th>\n",
       "      <th>wmh_vol</th>\n",
       "      <th>wmh_count</th>\n",
       "      <th>deepwm_b_cov</th>\n",
       "      <th>aca_b_cov</th>\n",
       "      <th>mca_b_cov</th>\n",
       "      <th>pca_b_cov</th>\n",
       "      <th>totalgm_b_cov</th>\n",
       "      <th>deepwm_b</th>\n",
       "      <th>aca_b</th>\n",
       "      <th>mca_b</th>\n",
       "      <th>pca_b</th>\n",
       "      <th>totalgm_b</th>\n",
       "    </tr>\n",
       "  </thead>\n",
       "  <tbody>\n",
       "    <tr>\n",
       "      <th>0</th>\n",
       "      <td>sub-59082_1_ses-1_run-1</td>\n",
       "      <td>43.172603</td>\n",
       "      <td>F</td>\n",
       "      <td>0.64754</td>\n",
       "      <td>0.49441</td>\n",
       "      <td>0.31320</td>\n",
       "      <td>0.44500</td>\n",
       "      <td>0.44500</td>\n",
       "      <td>1.249</td>\n",
       "      <td>24.0</td>\n",
       "      <td>8.0434</td>\n",
       "      <td>1.7273</td>\n",
       "      <td>1.9776</td>\n",
       "      <td>1.7141</td>\n",
       "      <td>1.9140</td>\n",
       "      <td>26.8262</td>\n",
       "      <td>104.3155</td>\n",
       "      <td>90.5047</td>\n",
       "      <td>73.8758</td>\n",
       "      <td>84.4527</td>\n",
       "    </tr>\n",
       "    <tr>\n",
       "      <th>1</th>\n",
       "      <td>sub-59083_1_ses-1_run-1</td>\n",
       "      <td>66.367123</td>\n",
       "      <td>F</td>\n",
       "      <td>0.60517</td>\n",
       "      <td>0.48594</td>\n",
       "      <td>0.42304</td>\n",
       "      <td>0.39968</td>\n",
       "      <td>0.39968</td>\n",
       "      <td>14.597</td>\n",
       "      <td>25.0</td>\n",
       "      <td>3.7791</td>\n",
       "      <td>1.9669</td>\n",
       "      <td>1.7154</td>\n",
       "      <td>2.6394</td>\n",
       "      <td>1.8815</td>\n",
       "      <td>24.9597</td>\n",
       "      <td>75.7051</td>\n",
       "      <td>65.3032</td>\n",
       "      <td>65.6771</td>\n",
       "      <td>67.1158</td>\n",
       "    </tr>\n",
       "    <tr>\n",
       "      <th>2</th>\n",
       "      <td>sub-59085_1_ses-1_run-1</td>\n",
       "      <td>55.838356</td>\n",
       "      <td>F</td>\n",
       "      <td>0.61724</td>\n",
       "      <td>0.53779</td>\n",
       "      <td>0.33692</td>\n",
       "      <td>0.41371</td>\n",
       "      <td>0.41371</td>\n",
       "      <td>6.341</td>\n",
       "      <td>30.0</td>\n",
       "      <td>5.1248</td>\n",
       "      <td>1.8146</td>\n",
       "      <td>1.9845</td>\n",
       "      <td>2.0827</td>\n",
       "      <td>1.9501</td>\n",
       "      <td>27.7117</td>\n",
       "      <td>81.0966</td>\n",
       "      <td>72.9980</td>\n",
       "      <td>60.8317</td>\n",
       "      <td>64.3183</td>\n",
       "    </tr>\n",
       "    <tr>\n",
       "      <th>3</th>\n",
       "      <td>sub-59086_1_ses-1_run-1</td>\n",
       "      <td>48.238356</td>\n",
       "      <td>F</td>\n",
       "      <td>0.63402</td>\n",
       "      <td>0.48542</td>\n",
       "      <td>0.29969</td>\n",
       "      <td>0.44677</td>\n",
       "      <td>0.44677</td>\n",
       "      <td>3.070</td>\n",
       "      <td>23.0</td>\n",
       "      <td>5.0993</td>\n",
       "      <td>1.6616</td>\n",
       "      <td>1.9321</td>\n",
       "      <td>2.0319</td>\n",
       "      <td>1.7644</td>\n",
       "      <td>24.9029</td>\n",
       "      <td>75.6702</td>\n",
       "      <td>70.6205</td>\n",
       "      <td>55.1641</td>\n",
       "      <td>61.8921</td>\n",
       "    </tr>\n",
       "    <tr>\n",
       "      <th>4</th>\n",
       "      <td>sub-59087_1_ses-1_run-1</td>\n",
       "      <td>58.616438</td>\n",
       "      <td>F</td>\n",
       "      <td>0.57348</td>\n",
       "      <td>0.45642</td>\n",
       "      <td>0.35190</td>\n",
       "      <td>0.41502</td>\n",
       "      <td>0.41502</td>\n",
       "      <td>1.761</td>\n",
       "      <td>23.0</td>\n",
       "      <td>6.6565</td>\n",
       "      <td>2.0185</td>\n",
       "      <td>1.8745</td>\n",
       "      <td>2.0016</td>\n",
       "      <td>1.9140</td>\n",
       "      <td>18.5264</td>\n",
       "      <td>63.3017</td>\n",
       "      <td>53.8047</td>\n",
       "      <td>44.1930</td>\n",
       "      <td>49.1181</td>\n",
       "    </tr>\n",
       "    <tr>\n",
       "      <th>...</th>\n",
       "      <td>...</td>\n",
       "      <td>...</td>\n",
       "      <td>...</td>\n",
       "      <td>...</td>\n",
       "      <td>...</td>\n",
       "      <td>...</td>\n",
       "      <td>...</td>\n",
       "      <td>...</td>\n",
       "      <td>...</td>\n",
       "      <td>...</td>\n",
       "      <td>...</td>\n",
       "      <td>...</td>\n",
       "      <td>...</td>\n",
       "      <td>...</td>\n",
       "      <td>...</td>\n",
       "      <td>...</td>\n",
       "      <td>...</td>\n",
       "      <td>...</td>\n",
       "      <td>...</td>\n",
       "      <td>...</td>\n",
       "    </tr>\n",
       "    <tr>\n",
       "      <th>509</th>\n",
       "      <td>sub-59440_1_ses-1_run-1</td>\n",
       "      <td>73.928767</td>\n",
       "      <td>M</td>\n",
       "      <td>0.57259</td>\n",
       "      <td>0.52662</td>\n",
       "      <td>0.51982</td>\n",
       "      <td>0.35366</td>\n",
       "      <td>0.35366</td>\n",
       "      <td>26.949</td>\n",
       "      <td>64.0</td>\n",
       "      <td>2.2578</td>\n",
       "      <td>2.0305</td>\n",
       "      <td>2.0193</td>\n",
       "      <td>1.9228</td>\n",
       "      <td>2.0773</td>\n",
       "      <td>27.9190</td>\n",
       "      <td>82.7343</td>\n",
       "      <td>72.6401</td>\n",
       "      <td>54.3780</td>\n",
       "      <td>59.3805</td>\n",
       "    </tr>\n",
       "    <tr>\n",
       "      <th>510</th>\n",
       "      <td>sub-59440_2_ses-2_run-1</td>\n",
       "      <td>74.769863</td>\n",
       "      <td>M</td>\n",
       "      <td>0.57528</td>\n",
       "      <td>0.50907</td>\n",
       "      <td>0.52840</td>\n",
       "      <td>0.35671</td>\n",
       "      <td>0.35671</td>\n",
       "      <td>22.915</td>\n",
       "      <td>32.0</td>\n",
       "      <td>2.3344</td>\n",
       "      <td>2.5824</td>\n",
       "      <td>2.6416</td>\n",
       "      <td>2.2723</td>\n",
       "      <td>2.6217</td>\n",
       "      <td>28.7051</td>\n",
       "      <td>82.7827</td>\n",
       "      <td>76.7499</td>\n",
       "      <td>65.4477</td>\n",
       "      <td>61.8818</td>\n",
       "    </tr>\n",
       "    <tr>\n",
       "      <th>511</th>\n",
       "      <td>sub-59441_2_ses-2_run-1</td>\n",
       "      <td>74.512329</td>\n",
       "      <td>M</td>\n",
       "      <td>0.58675</td>\n",
       "      <td>0.47585</td>\n",
       "      <td>0.42899</td>\n",
       "      <td>0.39337</td>\n",
       "      <td>0.39337</td>\n",
       "      <td>5.249</td>\n",
       "      <td>30.0</td>\n",
       "      <td>3.8390</td>\n",
       "      <td>1.8317</td>\n",
       "      <td>1.8702</td>\n",
       "      <td>1.6799</td>\n",
       "      <td>1.7434</td>\n",
       "      <td>27.1356</td>\n",
       "      <td>66.0938</td>\n",
       "      <td>63.8049</td>\n",
       "      <td>52.7282</td>\n",
       "      <td>54.3541</td>\n",
       "    </tr>\n",
       "    <tr>\n",
       "      <th>512</th>\n",
       "      <td>sub-59442_1_ses-1_run-1</td>\n",
       "      <td>67.526027</td>\n",
       "      <td>M</td>\n",
       "      <td>0.63929</td>\n",
       "      <td>0.55235</td>\n",
       "      <td>0.39661</td>\n",
       "      <td>0.40251</td>\n",
       "      <td>0.40251</td>\n",
       "      <td>8.612</td>\n",
       "      <td>9.0</td>\n",
       "      <td>4.9303</td>\n",
       "      <td>1.6693</td>\n",
       "      <td>1.9822</td>\n",
       "      <td>2.1802</td>\n",
       "      <td>1.8634</td>\n",
       "      <td>24.0485</td>\n",
       "      <td>71.8750</td>\n",
       "      <td>65.1286</td>\n",
       "      <td>56.4845</td>\n",
       "      <td>59.2195</td>\n",
       "    </tr>\n",
       "    <tr>\n",
       "      <th>513</th>\n",
       "      <td>sub-59442_2_ses-2_run-1</td>\n",
       "      <td>68.410959</td>\n",
       "      <td>M</td>\n",
       "      <td>0.62909</td>\n",
       "      <td>0.53857</td>\n",
       "      <td>0.43070</td>\n",
       "      <td>0.39358</td>\n",
       "      <td>0.39358</td>\n",
       "      <td>8.944</td>\n",
       "      <td>15.0</td>\n",
       "      <td>4.2372</td>\n",
       "      <td>1.6986</td>\n",
       "      <td>2.1143</td>\n",
       "      <td>2.1375</td>\n",
       "      <td>1.9200</td>\n",
       "      <td>26.6148</td>\n",
       "      <td>82.6297</td>\n",
       "      <td>70.4016</td>\n",
       "      <td>58.7551</td>\n",
       "      <td>64.2534</td>\n",
       "    </tr>\n",
       "  </tbody>\n",
       "</table>\n",
       "<p>514 rows × 20 columns</p>\n",
       "</div>"
      ],
      "text/plain": [
       "              participant_id        age sex   gm_vol   wm_vol  csf_vol  \\\n",
       "0    sub-59082_1_ses-1_run-1  43.172603   F  0.64754  0.49441  0.31320   \n",
       "1    sub-59083_1_ses-1_run-1  66.367123   F  0.60517  0.48594  0.42304   \n",
       "2    sub-59085_1_ses-1_run-1  55.838356   F  0.61724  0.53779  0.33692   \n",
       "3    sub-59086_1_ses-1_run-1  48.238356   F  0.63402  0.48542  0.29969   \n",
       "4    sub-59087_1_ses-1_run-1  58.616438   F  0.57348  0.45642  0.35190   \n",
       "..                       ...        ...  ..      ...      ...      ...   \n",
       "509  sub-59440_1_ses-1_run-1  73.928767   M  0.57259  0.52662  0.51982   \n",
       "510  sub-59440_2_ses-2_run-1  74.769863   M  0.57528  0.50907  0.52840   \n",
       "511  sub-59441_2_ses-2_run-1  74.512329   M  0.58675  0.47585  0.42899   \n",
       "512  sub-59442_1_ses-1_run-1  67.526027   M  0.63929  0.55235  0.39661   \n",
       "513  sub-59442_2_ses-2_run-1  68.410959   M  0.62909  0.53857  0.43070   \n",
       "\n",
       "     gm_ivc_ratio  gmwm_ivc_ratio  wmh_vol  wmh_count  deepwm_b_cov  \\\n",
       "0         0.44500         0.44500    1.249       24.0        8.0434   \n",
       "1         0.39968         0.39968   14.597       25.0        3.7791   \n",
       "2         0.41371         0.41371    6.341       30.0        5.1248   \n",
       "3         0.44677         0.44677    3.070       23.0        5.0993   \n",
       "4         0.41502         0.41502    1.761       23.0        6.6565   \n",
       "..            ...             ...      ...        ...           ...   \n",
       "509       0.35366         0.35366   26.949       64.0        2.2578   \n",
       "510       0.35671         0.35671   22.915       32.0        2.3344   \n",
       "511       0.39337         0.39337    5.249       30.0        3.8390   \n",
       "512       0.40251         0.40251    8.612        9.0        4.9303   \n",
       "513       0.39358         0.39358    8.944       15.0        4.2372   \n",
       "\n",
       "     aca_b_cov  mca_b_cov  pca_b_cov  totalgm_b_cov  deepwm_b     aca_b  \\\n",
       "0       1.7273     1.9776     1.7141         1.9140   26.8262  104.3155   \n",
       "1       1.9669     1.7154     2.6394         1.8815   24.9597   75.7051   \n",
       "2       1.8146     1.9845     2.0827         1.9501   27.7117   81.0966   \n",
       "3       1.6616     1.9321     2.0319         1.7644   24.9029   75.6702   \n",
       "4       2.0185     1.8745     2.0016         1.9140   18.5264   63.3017   \n",
       "..         ...        ...        ...            ...       ...       ...   \n",
       "509     2.0305     2.0193     1.9228         2.0773   27.9190   82.7343   \n",
       "510     2.5824     2.6416     2.2723         2.6217   28.7051   82.7827   \n",
       "511     1.8317     1.8702     1.6799         1.7434   27.1356   66.0938   \n",
       "512     1.6693     1.9822     2.1802         1.8634   24.0485   71.8750   \n",
       "513     1.6986     2.1143     2.1375         1.9200   26.6148   82.6297   \n",
       "\n",
       "       mca_b    pca_b  totalgm_b  \n",
       "0    90.5047  73.8758    84.4527  \n",
       "1    65.3032  65.6771    67.1158  \n",
       "2    72.9980  60.8317    64.3183  \n",
       "3    70.6205  55.1641    61.8921  \n",
       "4    53.8047  44.1930    49.1181  \n",
       "..       ...      ...        ...  \n",
       "509  72.6401  54.3780    59.3805  \n",
       "510  76.7499  65.4477    61.8818  \n",
       "511  63.8049  52.7282    54.3541  \n",
       "512  65.1286  56.4845    59.2195  \n",
       "513  70.4016  58.7551    64.2534  \n",
       "\n",
       "[514 rows x 20 columns]"
      ]
     },
     "execution_count": 5,
     "metadata": {},
     "output_type": "execute_result"
    }
   ],
   "source": [
    "StrokeMRI = StrokeMRI.drop(StrokeMRI.columns[0],axis=1)\n",
    "StrokeMRI"
   ]
  },
  {
   "cell_type": "code",
   "execution_count": null,
   "id": "0ae63f17-d738-4878-b969-f88b3b6da5e6",
   "metadata": {
    "tags": []
   },
   "outputs": [],
   "source": [
    "# Now we need to flip the sex back to numbers for a correlation\n",
    "sex_mapping = {'F':0,'M':1}\n",
    "TOP = TOP.assign(sex = TOP.sex.map(sex_mapping))\n",
    "TOP.head(3)"
   ]
  },
  {
   "cell_type": "code",
   "execution_count": null,
   "id": "6126920e-1d65-4f75-a8cb-cd42298ec88a",
   "metadata": {
    "tags": []
   },
   "outputs": [],
   "source": [
    "StrokeMRI = StrokeMRI.assign(sex = StrokeMRI.sex.map(sex_mapping))\n",
    "StrokeMRI.head(3)"
   ]
  },
  {
   "cell_type": "markdown",
   "id": "083b9ca3-8a8a-44fb-a034-cfb3600bc8e9",
   "metadata": {},
   "source": [
    "## Build ML models"
   ]
  },
  {
   "cell_type": "code",
   "execution_count": null,
   "id": "968aef2a-9640-4de3-b37e-aa50ed5a3f35",
   "metadata": {
    "tags": []
   },
   "outputs": [],
   "source": [
    "ml_matrix = TOP.drop('participant_id', axis=1)\n",
    "X = ml_matrix.drop('age', axis =1)\n",
    "X = X.values\n",
    "X = X.astype('float')\n",
    "y = ml_matrix['age'].values\n",
    "y=y.astype('float')\n"
   ]
  },
  {
   "cell_type": "code",
   "execution_count": null,
   "id": "c40a9fdc-ac01-4632-a8a9-89484279da70",
   "metadata": {
    "tags": []
   },
   "outputs": [],
   "source": [
    "X_train, X_test, y_train, y_test = train_test_split(X, y, test_size=0.25, random_state=12)"
   ]
  },
  {
   "cell_type": "code",
   "execution_count": null,
   "id": "69bdae34-0830-4825-8d81-42c904e92231",
   "metadata": {
    "tags": []
   },
   "outputs": [],
   "source": [
    "linr = LinearRegression()\n",
    "linr.fit(X_train, y_train)"
   ]
  },
  {
   "cell_type": "code",
   "execution_count": null,
   "id": "d692c4d9-b192-447d-9efc-0df32dabb1a3",
   "metadata": {
    "tags": []
   },
   "outputs": [],
   "source": [
    "y_pred = linr.predict(X_test)"
   ]
  },
  {
   "cell_type": "code",
   "execution_count": null,
   "id": "18d66afa-70ad-4844-a7b6-5f0180160d70",
   "metadata": {
    "tags": []
   },
   "outputs": [],
   "source": [
    "print('R2 score Linear regression: %.3f' % linr.score(X_test,y_test))\n",
    "print('Explained variance score: %.3f'  % metrics.explained_variance_score(y_test, y_pred))\n",
    "print('MAE: % .3f' % mean_absolute_error(y_test, y_pred))"
   ]
  },
  {
   "cell_type": "code",
   "execution_count": null,
   "id": "d8dfe4b5-b5e7-43ad-90ca-c9967d4ebd8d",
   "metadata": {
    "tags": []
   },
   "outputs": [],
   "source": [
    "llreg = linear_model.LassoLars(alpha=0.01)\n",
    "llreg.fit(X_train, y_train)"
   ]
  },
  {
   "cell_type": "code",
   "execution_count": null,
   "id": "bdc3b77f-3278-4b2b-8804-ec1ff2e0dd3e",
   "metadata": {
    "tags": []
   },
   "outputs": [],
   "source": [
    "y_pred = llreg.predict(X_test)\n",
    "print('R2 score Lasso regression: %.3f' % llreg.score(X_test,y_test))\n",
    "print('Explained variance score: %.3f'  % metrics.explained_variance_score(y_test, y_pred))\n",
    "print('The mean absolute error: %.3f' % mean_absolute_error(y_test, y_pred))"
   ]
  },
  {
   "cell_type": "code",
   "execution_count": null,
   "id": "8217f04c-a150-492b-bd10-7f99b6088bab",
   "metadata": {
    "tags": []
   },
   "outputs": [],
   "source": [
    "dtree = tree.DecisionTreeRegressor()\n",
    "dtree.fit(X_train, y_train)"
   ]
  },
  {
   "cell_type": "code",
   "execution_count": null,
   "id": "087e0f4f-daba-4722-be1f-e0a2e0a92476",
   "metadata": {
    "tags": []
   },
   "outputs": [],
   "source": [
    "y_pred = dtree.predict(X_test)\n",
    "print('R2 score dtree regression: %.3f' % dtree.score(X_test,y_test))\n",
    "print('Explained variance score: %.3f'  % metrics.explained_variance_score(y_test, y_pred))\n",
    "print('The mean absolute error: %.3f' % mean_absolute_error(y_test, y_pred))"
   ]
  },
  {
   "cell_type": "code",
   "execution_count": null,
   "id": "2af2849a-bc96-40ae-9a89-9d89bf4bd5ef",
   "metadata": {
    "tags": []
   },
   "outputs": [],
   "source": [
    "regr = MLPRegressor(random_state=1, max_iter=900)\n",
    "regr.fit(X_train, y_train)"
   ]
  },
  {
   "cell_type": "code",
   "execution_count": null,
   "id": "9e4eea60-572a-40ff-8f59-99157abf25d9",
   "metadata": {
    "tags": []
   },
   "outputs": [],
   "source": [
    "y_pred = regr.predict(X_test)"
   ]
  },
  {
   "cell_type": "code",
   "execution_count": null,
   "id": "20693cd4-506f-42c3-ad30-03611708397d",
   "metadata": {
    "tags": []
   },
   "outputs": [],
   "source": [
    "print('R2 score neural network mlp regression: %.3f' % regr.score(X_test,y_test))\n",
    "print('Explained variance score: %.3f'  % metrics.explained_variance_score(y_test, y_pred))\n",
    "print('MAE: % .3f' % mean_absolute_error(y_test, y_pred))"
   ]
  },
  {
   "cell_type": "code",
   "execution_count": null,
   "id": "1e5a46aa-ebf4-45e5-b7c2-e77945ec9ad6",
   "metadata": {
    "tags": []
   },
   "outputs": [],
   "source": [
    "eregr = ElasticNetCV(cv=5, random_state=12)\n",
    "eregr.fit(X_train, y_train)"
   ]
  },
  {
   "cell_type": "code",
   "execution_count": null,
   "id": "b870e102-9ca4-4cde-ba44-c5e2c1a050d5",
   "metadata": {
    "tags": []
   },
   "outputs": [],
   "source": [
    "y_pred = eregr.predict(X_test)\n",
    "print('R2 score elasticnetcv regression: %.3f' % eregr.score(X_test,y_test))\n",
    "print('Explained variance score: %.3f'  % metrics.explained_variance_score(y_test, y_pred))\n",
    "print('MAE: % .3f' % mean_absolute_error(y_test, y_pred))"
   ]
  },
  {
   "cell_type": "code",
   "execution_count": null,
   "id": "4fba8a89-2cce-430a-91fa-ddcf32374e10",
   "metadata": {
    "tags": []
   },
   "outputs": [],
   "source": [
    "etreg = ExtraTreesRegressor(n_estimators=100, random_state=0)\n",
    "etreg.fit(X_train, y_train)"
   ]
  },
  {
   "cell_type": "code",
   "execution_count": null,
   "id": "3b977aaa-6209-421d-afa4-8d94aa235df6",
   "metadata": {
    "tags": []
   },
   "outputs": [],
   "source": [
    "y_pred = etreg.predict(X_test)\n",
    "print('R2 score elasticnetcv regression: %.3f' % etreg.score(X_test,y_test))\n",
    "print('Explained variance score: %.3f'  % metrics.explained_variance_score(y_test, y_pred))\n",
    "print('MAE: % .3f' % mean_absolute_error(y_test, y_pred))"
   ]
  },
  {
   "cell_type": "code",
   "execution_count": null,
   "id": "23aeec88-a86e-43fc-ac91-763a5f77f151",
   "metadata": {},
   "outputs": [],
   "source": [
    "## SAve off models"
   ]
  },
  {
   "cell_type": "code",
   "execution_count": null,
   "id": "8c8eae0b-c6a8-4364-bb3a-29f93b91f9f1",
   "metadata": {
    "tags": []
   },
   "outputs": [],
   "source": [
    "# check if model folder exists and if not , then create\n",
    "model_folder = '../result_models/'\n",
    "if not os.path.exists(model_folder):\n",
    "    os.makedirs(model_folder)"
   ]
  },
  {
   "cell_type": "code",
   "execution_count": null,
   "id": "04696bd8-8855-4248-994c-246cc43e7e04",
   "metadata": {
    "tags": []
   },
   "outputs": [],
   "source": [
    "# joblib.dump(linr, ('../result_models/'+ 'unharm_top_linr.sav'))\n",
    "# joblib.dump(llreg, ('../result_models/'+ 'unharm_top_lassor.sav'))\n",
    "# joblib.dump(dtree, ('../result_models/'+ 'unharm_top_dtree.sav'))\n",
    "# joblib.dump(regr, ('../result_models/'+ 'unharm_top_regr.sav'))"
   ]
  },
  {
   "cell_type": "code",
   "execution_count": null,
   "id": "ec97db55-e277-491f-a156-db3849e53346",
   "metadata": {
    "tags": []
   },
   "outputs": [],
   "source": [
    "# joblib.dump(eregr, ('../result_models/'+ 'unharm_top_extratree.sav'))\n",
    "# joblib.dump(etreg, ('../result_models/'+ 'unharm_top_elasticregr.sav'))"
   ]
  },
  {
   "cell_type": "markdown",
   "id": "086e5125-f695-495a-9444-83bdabc087b7",
   "metadata": {},
   "source": [
    "## Run models on other dataset"
   ]
  },
  {
   "cell_type": "code",
   "execution_count": null,
   "id": "757d3aba-a735-49f8-a399-bc7354172d36",
   "metadata": {
    "tags": []
   },
   "outputs": [],
   "source": [
    "mri_ml_matrix = StrokeMRI.drop('participant_id', axis=1)\n",
    "X_mri = mri_ml_matrix.drop('age', axis =1)\n",
    "X_mri = X_mri.values\n",
    "X_mri = X_mri.astype('float')\n",
    "y_mri = mri_ml_matrix['age'].values\n",
    "y_mri=y_mri.astype('float')"
   ]
  },
  {
   "cell_type": "code",
   "execution_count": null,
   "id": "a74e916f-8341-4be7-b245-223de1472036",
   "metadata": {
    "tags": []
   },
   "outputs": [],
   "source": [
    "X_mri_test = X_mri\n",
    "y_mri_test = y_mri"
   ]
  },
  {
   "cell_type": "code",
   "execution_count": null,
   "id": "336e1485-da87-4d78-9b32-953c26715417",
   "metadata": {
    "tags": []
   },
   "outputs": [],
   "source": [
    "y_mri_pred = linr.predict(X_mri_test)\n",
    "print('R2 score Linear regression: %.3f' % linr.score(X_mri_test,y_mri_test))\n",
    "print('Explained variance score: %.3f'  % metrics.explained_variance_score(y_mri_test, y_mri_pred))\n",
    "print('The mean absolute error: %.3f' % mean_absolute_error(y_mri_test, y_mri_pred))"
   ]
  },
  {
   "cell_type": "code",
   "execution_count": null,
   "id": "7ff5179d-e02d-4f29-b9a5-910bb1c79817",
   "metadata": {
    "tags": []
   },
   "outputs": [],
   "source": [
    "y_mri_pred = llreg.predict(X_mri_test)\n",
    "print('R2 score Lasso regression: %.3f' % llreg.score(X_mri_test,y_mri_test))\n",
    "print('Explained variance score: %.3f'  % metrics.explained_variance_score(y_mri_test, y_mri_pred))\n",
    "print('The mean absolute error: %.3f' % mean_absolute_error(y_mri_test, y_mri_pred))"
   ]
  },
  {
   "cell_type": "code",
   "execution_count": null,
   "id": "670bd20f-5014-49d4-a784-25579882f5fa",
   "metadata": {
    "tags": []
   },
   "outputs": [],
   "source": [
    "y_mri_pred = dtree.predict(X_mri_test)\n",
    "print('R2 score Decision tree: %.3f' % dtree.score(X_mri_test,y_mri_test))\n",
    "print('Explained variance score: %.3f'  % metrics.explained_variance_score(y_mri_test, y_mri_pred))\n",
    "print('The mean absolute error: %.3f' % mean_absolute_error(y_mri_test, y_mri_pred))"
   ]
  },
  {
   "cell_type": "code",
   "execution_count": null,
   "id": "57290800-adf8-4d9a-85db-593657750290",
   "metadata": {
    "tags": []
   },
   "outputs": [],
   "source": [
    "y_mri_pred = regr.predict(X_mri_test)\n",
    "print('R2 score MLP regression: %.3f' % regr.score(X_mri_test,y_mri_test))\n",
    "print('Explained variance score: %.3f'  % metrics.explained_variance_score(y_mri_test, y_mri_pred))\n",
    "print('The mean absolute error: %.3f' % mean_absolute_error(y_mri_test, y_mri_pred))"
   ]
  },
  {
   "cell_type": "code",
   "execution_count": null,
   "id": "d9ec92f0-3e45-4263-a8b0-af3d9ead7358",
   "metadata": {
    "tags": []
   },
   "outputs": [],
   "source": [
    "# plt.figure(figsize=(10,10))\n",
    "# plt.scatter(y_test, y_pred, c='crimson')\n",
    "# plt.yscale('log')\n",
    "# plt.xscale('log')\n",
    "\n",
    "# p1 = max(max(y_pred), max(y_test))\n",
    "# p2 = min(min(y_pred), min(y_test))\n",
    "# plt.plot([p1, p2], [p1, p2], 'b-')\n",
    "# plt.xlabel('True Values', fontsize=15)\n",
    "# plt.ylabel('Predictions', fontsize=15)\n",
    "# plt.axis('equal')\n",
    "# plt.show()"
   ]
  },
  {
   "cell_type": "code",
   "execution_count": null,
   "id": "5e5c2370-6272-4f0e-bb76-f729d2139e36",
   "metadata": {},
   "outputs": [],
   "source": []
  }
 ],
 "metadata": {
  "kernelspec": {
   "display_name": "Python 3 (ipykernel)",
   "language": "python",
   "name": "python3"
  },
  "language_info": {
   "codemirror_mode": {
    "name": "ipython",
    "version": 3
   },
   "file_extension": ".py",
   "mimetype": "text/x-python",
   "name": "python",
   "nbconvert_exporter": "python",
   "pygments_lexer": "ipython3",
   "version": "3.9.18"
  }
 },
 "nbformat": 4,
 "nbformat_minor": 5
}
