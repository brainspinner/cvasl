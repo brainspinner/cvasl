{
 "cells": [
  {
   "cell_type": "code",
   "execution_count": null,
   "id": "0ff0b9d5-002d-4ca7-9ad5-c40b8644c7a0",
   "metadata": {},
   "outputs": [],
   "source": []
  },
  {
   "cell_type": "markdown",
   "id": "604acea9-be23-4ccf-b2ce-5fef82da1d5e",
   "metadata": {},
   "source": [
    "# Autocombat TOP+StrokeMRI, SABREand Insight46 harmonized datasets"
   ]
  },
  {
   "cell_type": "markdown",
   "id": "6be48a75-b0ca-4569-8338-8ecd58080534",
   "metadata": {},
   "source": [
    "This notebook creates datasets from the above hamornized as if each of 1. a blended TOP and StrokeMRI 2.SABRE and 3. Insight  is indpendant and from a different \"batch\" (TOP and StrokeMRI are same acquisition on same machine, so same batch)"
   ]
  },
  {
   "cell_type": "markdown",
   "id": "66db7fb5-0dc0-4bd9-849c-9fbe51468d75",
   "metadata": {},
   "source": [
    "Note this must be run in the `comscani` environment"
   ]
  },
  {
   "cell_type": "markdown",
   "id": "2b2ba894-728c-4b71-8334-94d38d283994",
   "metadata": {
    "tags": []
   },
   "source": [
    "## import libraries"
   ]
  },
  {
   "cell_type": "code",
   "execution_count": 1,
   "id": "5a67c404-5823-48be-a6c6-e473868a477d",
   "metadata": {
    "tags": []
   },
   "outputs": [],
   "source": [
    "import os\n",
    "\n",
    "import pandas as pd\n",
    "import numpy as np\n",
    "\n",
    "from neuroCombat import neuroCombat"
   ]
  },
  {
   "cell_type": "markdown",
   "id": "ab3b1fd4-f61b-4adb-9f1c-4115fdf8ccd3",
   "metadata": {},
   "source": [
    "## Let's see how we would apply this to our data\n",
    "We will have to flip it on it's side to make it work"
   ]
  },
  {
   "cell_type": "code",
   "execution_count": null,
   "id": "f208e53a-b0d7-492a-ab55-840d078baa54",
   "metadata": {},
   "outputs": [],
   "source": []
  },
  {
   "cell_type": "code",
   "execution_count": null,
   "id": "88429e1f-40b7-405b-abec-df96cc086398",
   "metadata": {
    "tags": []
   },
   "outputs": [],
   "source": [
    "filepath = '../open_work/internal_results/cleaned_pvc2s/' \n",
    "filename_mri = os.path.join(filepath,'StrokeMRI_pvc2c.csv') \n",
    "filename_top = os.path.join(filepath,'TOP_pvc2c.csv') \n",
    "filename_sabre = os.path.join(filepath,'SABRE_pvc2_cleaned.csv') \n",
    "filename_insight46 =  os.path.join(filepath,'Insight46_pvc2c.csv') "
   ]
  },
  {
   "cell_type": "code",
   "execution_count": null,
   "id": "266f4cf9-74d1-4ef0-abbf-4f0fc7d04ddb",
   "metadata": {
    "tags": []
   },
   "outputs": [],
   "source": [
    "# Now we must clean SABRE down to be like the other datasets, including dropping NAns\n",
    "MRI = pd.read_csv(filename_mri)\n",
    "TOP = pd.read_csv(filename_top)\n",
    "Insight46 = pd.read_csv(filename_insight46)\n",
    "\n",
    "SABRE =  pd.read_csv(filename_sabre)\n",
    "coly = TOP.columns\n",
    "SABRE = SABRE[coly]\n",
    "SABRE= SABRE.dropna()\n",
    "SABRE.tail(3)"
   ]
  }
 ],
 "metadata": {
  "kernelspec": {
   "display_name": "Python 3 (ipykernel)",
   "language": "python",
   "name": "python3"
  },
  "language_info": {
   "codemirror_mode": {
    "name": "ipython",
    "version": 3
   },
   "file_extension": ".py",
   "mimetype": "text/x-python",
   "name": "python",
   "nbconvert_exporter": "python",
   "pygments_lexer": "ipython3",
   "version": "3.7.7"
  }
 },
 "nbformat": 4,
 "nbformat_minor": 5
}
