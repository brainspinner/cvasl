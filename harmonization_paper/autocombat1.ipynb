{
 "cells": [
  {
   "cell_type": "markdown",
   "id": "0",
   "metadata": {},
   "source": [
    "# Autocombat TOP+StrokeMRI, SABREand Insight46 harmonized datasets"
   ]
  },
  {
   "cell_type": "markdown",
   "id": "1",
   "metadata": {},
   "source": [
    "This notebook creates datasets from the above hamornized as if each of 1. a blended TOP and StrokeMRI 2.SABRE and 3. Insight  is indpendant and from a different \"batch\" (TOP and StrokeMRI are same acquisition on same machine, so same batch)"
   ]
  },
  {
   "cell_type": "markdown",
   "id": "2",
   "metadata": {},
   "source": [
    "Note this must be run in the `comscan` ( `comscan6`) environment"
   ]
  },
  {
   "cell_type": "markdown",
   "id": "3",
   "metadata": {
    "tags": []
   },
   "source": [
    "## import libraries"
   ]
  },
  {
   "cell_type": "code",
   "execution_count": null,
   "id": "4",
   "metadata": {
    "tags": []
   },
   "outputs": [],
   "source": [
    "import os\n",
    "\n",
    "import pandas as pd\n",
    "import numpy as np"
   ]
  },
  {
   "cell_type": "code",
   "execution_count": null,
   "id": "5",
   "metadata": {
    "tags": []
   },
   "outputs": [],
   "source": [
    "import ComScan"
   ]
  },
  {
   "cell_type": "markdown",
   "id": "6",
   "metadata": {},
   "source": [
    "## Let's see how we would apply this to our data\n",
    "We will have to flip it on it's side to make it work"
   ]
  },
  {
   "cell_type": "code",
   "execution_count": null,
   "id": "7",
   "metadata": {},
   "outputs": [],
   "source": [
    "!python --version"
   ]
  },
  {
   "cell_type": "code",
   "execution_count": null,
   "id": "8",
   "metadata": {
    "tags": []
   },
   "outputs": [],
   "source": [
    "filepath = '../open_work/internal_results/cleaned_pvc2s/' \n",
    "filename_mri = os.path.join(filepath,'StrokeMRI_pvc2c.csv') \n",
    "filename_top = os.path.join(filepath,'TOP_pvc2c.csv') \n",
    "filename_sabre = os.path.join(filepath,'SABRE_pvc2_cleaned.csv') \n",
    "filename_insight46 =  os.path.join(filepath,'Insight46_pvc2c.csv') "
   ]
  },
  {
   "cell_type": "code",
   "execution_count": null,
   "id": "9",
   "metadata": {
    "tags": []
   },
   "outputs": [],
   "source": [
    "# Now we must clean SABRE down to be like the other datasets, including dropping NAns\n",
    "MRI = pd.read_csv(filename_mri)\n",
    "TOP = pd.read_csv(filename_top)\n",
    "Insight46 = pd.read_csv(filename_insight46)\n",
    "\n",
    "SABRE =  pd.read_csv(filename_sabre)\n",
    "coly = TOP.columns\n",
    "# SABRE = SABRE[coly]\n",
    "# SABRE= SABRE.dropna()\n",
    "SABRE.tail(3)"
   ]
  },
  {
   "cell_type": "code",
   "execution_count": null,
   "id": "10",
   "metadata": {
    "tags": []
   },
   "outputs": [],
   "source": [
    "TOP['site'] = 0\n",
    "MRI['site'] = 1\n",
    "MRI.head(3)"
   ]
  },
  {
   "cell_type": "markdown",
   "id": "11",
   "metadata": {
    "tags": []
   },
   "source": [
    "# Here we will harmonize just TOP and StrokeMRI"
   ]
  },
  {
   "cell_type": "code",
   "execution_count": null,
   "id": "12",
   "metadata": {
    "tags": []
   },
   "outputs": [],
   "source": [
    "TOPMRI = pd.concat([TOP, MRI])\n",
    "TOPMRI.head(3) "
   ]
  },
  {
   "cell_type": "code",
   "execution_count": null,
   "id": "13",
   "metadata": {
    "tags": []
   },
   "outputs": [],
   "source": [
    "sex_mapping = {'F':0,'M':1}\n",
    "TOPMRI = TOPMRI.assign(sex = TOPMRI.sex.map(sex_mapping))\n",
    "TOPMRI.head(2) "
   ]
  },
  {
   "cell_type": "markdown",
   "id": "14",
   "metadata": {
    "tags": []
   },
   "source": [
    "## Now very importantly, we have our sites pre-defined. This means that the AutoCOmbat module will execute it's own version of combat (without clustering). Therefore we can implement the Autocombat neurocombat module's combat, without a need for clustering\n",
    "If you don't believe me just read the documentation and the code itself\n",
    "\n",
    "classComScan.neurocombat.Combat(features, sites, discrete_covariates=None, continuous_covariates=None, ref_site=None, empirical_bayes=True, parametric=True, mean_only=False, return_only_features=False, raise_ref_site=True, copy=True)"
   ]
  },
  {
   "cell_type": "code",
   "execution_count": null,
   "id": "15",
   "metadata": {
    "tags": []
   },
   "outputs": [],
   "source": [
    "TOPMRI['decade']=(TOPMRI['age']/10).round()\n",
    "#TOPMRI['decade']"
   ]
  },
  {
   "cell_type": "code",
   "execution_count": null,
   "id": "16",
   "metadata": {
    "tags": []
   },
   "outputs": [],
   "source": [
    "TOPMRI = TOPMRI.sort_values(by='age')\n",
    "TOPMRI.reset_index(inplace=True)\n",
    "TOPMRI['fine_grain'] = TOPMRI['age'].rolling(2).sum()/2\n",
    "#TOPMRI"
   ]
  },
  {
   "cell_type": "code",
   "execution_count": null,
   "id": "17",
   "metadata": {
    "tags": []
   },
   "outputs": [],
   "source": [
    "TOPMRI[2:].fine_grain.iloc[::2] = TOPMRI[:].fine_grain.iloc[1::2]\n",
    "#TOPMRI['fine_grain']"
   ]
  },
  {
   "cell_type": "code",
   "execution_count": null,
   "id": "18",
   "metadata": {
    "tags": []
   },
   "outputs": [],
   "source": [
    "TOPMRI['fine_grain'][0] = TOPMRI['fine_grain'][1]\n",
    "TOPMRI['fine_grain']"
   ]
  },
  {
   "cell_type": "code",
   "execution_count": null,
   "id": "19",
   "metadata": {
    "tags": []
   },
   "outputs": [],
   "source": [
    "TOPMRI['decade'].unique()"
   ]
  },
  {
   "cell_type": "code",
   "execution_count": null,
   "id": "20",
   "metadata": {
    "tags": []
   },
   "outputs": [],
   "source": [
    "combat = ComScan.neurocombat.Combat(features=['gm_vol', 'wm_vol',\n",
    "       'csf_vol', 'gm_ivc_ratio', 'gmwm_ivc_ratio', 'wmh_vol', 'wmh_count',\n",
    "       'deepwm_b_cov', 'aca_b_cov', 'mca_b_cov', 'pca_b_cov', 'totalgm_b_cov',\n",
    "       'deepwm_b', 'aca_b', 'mca_b', 'pca_b', 'totalgm_b',], sites=[ \"site\"], discrete_covariates=['sex'],continuous_covariates=['decade'],)\n",
    "\n",
    "fg_combat = ComScan.neurocombat.Combat(features=['gm_vol', 'wm_vol',\n",
    "       'csf_vol', 'gm_ivc_ratio', 'gmwm_ivc_ratio', 'wmh_vol', 'wmh_count',\n",
    "       'deepwm_b_cov', 'aca_b_cov', 'mca_b_cov', 'pca_b_cov', 'totalgm_b_cov',\n",
    "       'deepwm_b', 'aca_b', 'mca_b', 'pca_b', 'totalgm_b',], sites=[ \"site\"], discrete_covariates=['sex'],continuous_covariates=['fine_grain'],)\n"
   ]
  },
  {
   "cell_type": "code",
   "execution_count": null,
   "id": "21",
   "metadata": {
    "tags": []
   },
   "outputs": [],
   "source": [
    "print(combat.fit(TOPMRI))\n",
    "print(fg_combat.fit(TOPMRI))"
   ]
  },
  {
   "cell_type": "code",
   "execution_count": null,
   "id": "22",
   "metadata": {
    "tags": []
   },
   "outputs": [],
   "source": [
    "print(combat.gamma_star_)\n",
    "print(fg_combat.gamma_star_)"
   ]
  },
  {
   "cell_type": "code",
   "execution_count": null,
   "id": "23",
   "metadata": {
    "tags": []
   },
   "outputs": [],
   "source": [
    "#print(combat.transform(TOPMRI))"
   ]
  },
  {
   "cell_type": "code",
   "execution_count": null,
   "id": "24",
   "metadata": {
    "tags": []
   },
   "outputs": [],
   "source": [
    "TOPMRI.head(3)"
   ]
  },
  {
   "cell_type": "code",
   "execution_count": null,
   "id": "25",
   "metadata": {
    "tags": []
   },
   "outputs": [],
   "source": [
    "transformed_TOPMRI= combat.transform(TOPMRI)\n",
    "transformed_TOPMRI.head(3)"
   ]
  },
  {
   "cell_type": "code",
   "execution_count": null,
   "id": "26",
   "metadata": {
    "tags": []
   },
   "outputs": [],
   "source": [
    "fg_transformed_TOPMRI= fg_combat.transform(TOPMRI)\n",
    "fg_transformed_TOPMRI.head(3)"
   ]
  },
  {
   "cell_type": "code",
   "execution_count": null,
   "id": "27",
   "metadata": {
    "tags": []
   },
   "outputs": [],
   "source": [
    "transformed_TOPMRI.columns"
   ]
  },
  {
   "cell_type": "code",
   "execution_count": null,
   "id": "28",
   "metadata": {
    "tags": []
   },
   "outputs": [],
   "source": [
    "TOP_transformed = transformed_TOPMRI[ transformed_TOPMRI['site']==0]\n",
    "TOP_transformed = TOP_transformed.drop(['site', 'decade', 'Unnamed: 0','fine_grain', 'index'], axis=1)\n",
    "TOP_transformed.head(3)"
   ]
  },
  {
   "cell_type": "code",
   "execution_count": null,
   "id": "29",
   "metadata": {
    "tags": []
   },
   "outputs": [],
   "source": [
    "fg_TOP_transformed = fg_transformed_TOPMRI[ fg_transformed_TOPMRI['site']==0]\n",
    "fg_TOP_transformed = fg_TOP_transformed.drop(['site', 'decade', 'Unnamed: 0','fine_grain', 'index'], axis=1)\n",
    "fg_TOP_transformed.head(3)"
   ]
  },
  {
   "cell_type": "code",
   "execution_count": null,
   "id": "30",
   "metadata": {
    "tags": []
   },
   "outputs": [],
   "source": [
    "MRI_transformed = transformed_TOPMRI[ transformed_TOPMRI['site']==1]\n",
    "MRI_transformed = MRI_transformed.drop(['site', 'decade', 'Unnamed: 0', 'index', 'fine_grain'], axis=1)\n",
    "MRI_transformed.head(3)"
   ]
  },
  {
   "cell_type": "code",
   "execution_count": null,
   "id": "31",
   "metadata": {
    "tags": []
   },
   "outputs": [],
   "source": [
    "fg_MRI_transformed = fg_transformed_TOPMRI[fg_transformed_TOPMRI['site']==1]\n",
    "fg_MRI_transformed = fg_MRI_transformed.drop(['site', 'decade', 'Unnamed: 0', 'index', 'fine_grain'], axis=1)\n",
    "fg_MRI_transformed.head(3)"
   ]
  },
  {
   "cell_type": "code",
   "execution_count": null,
   "id": "32",
   "metadata": {
    "tags": []
   },
   "outputs": [],
   "source": [
    "TOP_transformed.to_csv('../open_work/internal_results/autocombat/autocom_harm_top1.csv')\n",
    "MRI_transformed.to_csv('../open_work/internal_results/autocombat/autocom_harm_mri1.csv')\n",
    "\n",
    "fg_TOP_transformed.to_csv('../open_work/internal_results/autocombat/fg_autocom_harm_top1.csv')\n",
    "fg_MRI_transformed.to_csv('../open_work/internal_results/autocombat/fg_autocom_harm_mri1.csv')"
   ]
  },
  {
   "cell_type": "code",
   "execution_count": null,
   "id": "33",
   "metadata": {},
   "outputs": [],
   "source": []
  },
  {
   "cell_type": "markdown",
   "id": "34",
   "metadata": {},
   "source": [
    "# Now we will harmonize TOPMRI as one dataset agains sabre"
   ]
  },
  {
   "cell_type": "code",
   "execution_count": null,
   "id": "35",
   "metadata": {
    "tags": []
   },
   "outputs": [],
   "source": [
    "TOPMRI4 = TOPMRI.copy()\n",
    "TOPMRI4['site'] = 0\n",
    "TOPMRI4.site.unique()"
   ]
  },
  {
   "cell_type": "code",
   "execution_count": null,
   "id": "36",
   "metadata": {
    "tags": []
   },
   "outputs": [],
   "source": [
    "TOPMRI4.columns"
   ]
  },
  {
   "cell_type": "code",
   "execution_count": null,
   "id": "37",
   "metadata": {
    "tags": []
   },
   "outputs": [],
   "source": [
    "SABRE['site'] = 1"
   ]
  },
  {
   "cell_type": "code",
   "execution_count": null,
   "id": "38",
   "metadata": {
    "tags": []
   },
   "outputs": [],
   "source": [
    "#SABRE.isna().sum()"
   ]
  },
  {
   "cell_type": "code",
   "execution_count": null,
   "id": "39",
   "metadata": {
    "tags": []
   },
   "outputs": [],
   "source": [
    "SABRE['decade']=(SABRE['age']/10).round()\n",
    "#SABRE['decade']"
   ]
  },
  {
   "cell_type": "code",
   "execution_count": null,
   "id": "40",
   "metadata": {
    "tags": []
   },
   "outputs": [],
   "source": [
    "SABRE = SABRE.assign(sex = SABRE.sex.map(sex_mapping))\n",
    "SABRE.head(3) "
   ]
  },
  {
   "cell_type": "code",
   "execution_count": null,
   "id": "41",
   "metadata": {
    "tags": []
   },
   "outputs": [],
   "source": [
    "TOPMRI4SABRE =pd.concat([TOPMRI4, SABRE])"
   ]
  },
  {
   "cell_type": "code",
   "execution_count": null,
   "id": "42",
   "metadata": {
    "tags": []
   },
   "outputs": [],
   "source": [
    "TOPMRI4SABRE = TOPMRI4SABRE.sort_values(by='age')\n",
    "TOPMRI4SABRE.reset_index(inplace=True)\n",
    "TOPMRI4SABRE['fine_grain'] = TOPMRI4SABRE['age'].rolling(2).sum()/2\n",
    "TOPMRI4SABRE.head(5)"
   ]
  },
  {
   "cell_type": "code",
   "execution_count": null,
   "id": "43",
   "metadata": {
    "tags": []
   },
   "outputs": [],
   "source": [
    "TOPMRI4SABRE[:].fine_grain.iloc[::2] = TOPMRI4SABRE[:].fine_grain.iloc[1::2]\n",
    "TOPMRI4SABRE['fine_grain']"
   ]
  },
  {
   "cell_type": "code",
   "execution_count": null,
   "id": "44",
   "metadata": {
    "tags": []
   },
   "outputs": [],
   "source": [
    "print(combat.fit(TOPMRI4SABRE))\n",
    "print(fg_combat.fit(TOPMRI4SABRE))"
   ]
  },
  {
   "cell_type": "code",
   "execution_count": null,
   "id": "45",
   "metadata": {
    "tags": []
   },
   "outputs": [],
   "source": [
    "print(combat.gamma_star_)\n",
    "print(fg_combat.gamma_star_)\n"
   ]
  },
  {
   "cell_type": "code",
   "execution_count": null,
   "id": "46",
   "metadata": {
    "tags": []
   },
   "outputs": [],
   "source": [
    "transformed_TOPMRI4SABRE= combat.transform(TOPMRI4SABRE)\n",
    "transformed_TOPMRI4SABRE.head(3)"
   ]
  },
  {
   "cell_type": "code",
   "execution_count": null,
   "id": "47",
   "metadata": {
    "tags": []
   },
   "outputs": [],
   "source": [
    "fg_transformed_TOPMRI4SABRE= fg_combat.transform(TOPMRI4SABRE)\n",
    "fg_transformed_TOPMRI4SABRE.head(3)"
   ]
  },
  {
   "cell_type": "code",
   "execution_count": null,
   "id": "48",
   "metadata": {
    "tags": []
   },
   "outputs": [],
   "source": [
    "TOPMRI4_transformed = transformed_TOPMRI4SABRE[ transformed_TOPMRI4SABRE['site']==0]\n",
    "TOPMRI4_transformed = TOPMRI4_transformed.drop(['site', 'decade', 'Unnamed: 0', 'fine_grain', 'index', 'level_0'], axis=1)\n",
    "TOPMRI4_transformed.head(2)"
   ]
  },
  {
   "cell_type": "code",
   "execution_count": null,
   "id": "49",
   "metadata": {
    "tags": []
   },
   "outputs": [],
   "source": [
    "fg_TOPMRI4_transformed = fg_transformed_TOPMRI4SABRE[fg_transformed_TOPMRI4SABRE['site']==0]\n",
    "fg_TOPMRI4_transformed = fg_TOPMRI4_transformed.drop(['site', 'decade', 'Unnamed: 0', 'fine_grain', 'index','level_0'], axis=1)\n",
    "fg_TOPMRI4_transformed.head(3)"
   ]
  },
  {
   "cell_type": "code",
   "execution_count": null,
   "id": "50",
   "metadata": {
    "tags": []
   },
   "outputs": [],
   "source": [
    "SABRE_transformed = transformed_TOPMRI4SABRE[ transformed_TOPMRI4SABRE['site']==1]\n",
    "SABRE_transformed = SABRE_transformed.drop(['site', 'decade', 'Unnamed: 0', 'fine_grain', 'index', 'level_0'], axis=1)\n",
    "SABRE_transformed.head(2)"
   ]
  },
  {
   "cell_type": "code",
   "execution_count": null,
   "id": "51",
   "metadata": {
    "tags": []
   },
   "outputs": [],
   "source": [
    "fg_SABRE_transformed = fg_transformed_TOPMRI4SABRE[fg_transformed_TOPMRI4SABRE['site']==1]\n",
    "fg_SABRE_transformed = fg_SABRE_transformed.drop(['site', 'decade', 'Unnamed: 0', 'fine_grain', 'index', 'level_0'], axis=1)\n",
    "fg_SABRE_transformed.head(3)"
   ]
  },
  {
   "cell_type": "code",
   "execution_count": null,
   "id": "52",
   "metadata": {
    "tags": []
   },
   "outputs": [],
   "source": [
    "TOPMRI4_transformed.to_csv('../open_work/internal_results/autocombat/autocom_harm_top_and_mri_against_sabre.csv')\n",
    "SABRE_transformed.to_csv('../open_work/internal_results/autocombat/autocom_harm_sabre_against_top_and_mri.csv')\n",
    "\n",
    "fg_TOPMRI4_transformed.to_csv('../open_work/internal_results/autocombat/fg_autocom_harm_top_and_mri_against_sabre.csv')\n",
    "fg_SABRE_transformed.to_csv('../open_work/internal_results/autocombat/fg_autocom_harm_sabre_against_top_and_mri.csv')"
   ]
  },
  {
   "cell_type": "markdown",
   "id": "53",
   "metadata": {},
   "source": [
    "# Now the same with TOPMRI and Inisght46"
   ]
  },
  {
   "cell_type": "code",
   "execution_count": null,
   "id": "54",
   "metadata": {
    "tags": []
   },
   "outputs": [],
   "source": [
    "Insight46['site'] = 1"
   ]
  },
  {
   "cell_type": "code",
   "execution_count": null,
   "id": "55",
   "metadata": {
    "tags": []
   },
   "outputs": [],
   "source": [
    "Insight46.isna().sum()"
   ]
  },
  {
   "cell_type": "code",
   "execution_count": null,
   "id": "56",
   "metadata": {
    "tags": []
   },
   "outputs": [],
   "source": [
    "Insight46['decade']=(Insight46['age']/10).round()\n",
    "Insight46['decade']"
   ]
  },
  {
   "cell_type": "code",
   "execution_count": null,
   "id": "57",
   "metadata": {
    "tags": []
   },
   "outputs": [],
   "source": [
    "Insight46 = Insight46.assign(sex = Insight46.sex.map(sex_mapping))\n",
    "Insight46.head(3) "
   ]
  },
  {
   "cell_type": "code",
   "execution_count": null,
   "id": "58",
   "metadata": {
    "tags": []
   },
   "outputs": [],
   "source": [
    "Insight46.head(3)"
   ]
  },
  {
   "cell_type": "code",
   "execution_count": null,
   "id": "59",
   "metadata": {
    "tags": []
   },
   "outputs": [],
   "source": [
    "TOPMRI4Insight =pd.concat([TOPMRI4, Insight46])"
   ]
  },
  {
   "cell_type": "code",
   "execution_count": null,
   "id": "60",
   "metadata": {
    "tags": []
   },
   "outputs": [],
   "source": [
    "TOPMRI4Insight = TOPMRI4Insight.sort_values(by='age')\n",
    "TOPMRI4Insight.reset_index(inplace=True)\n",
    "TOPMRI4Insight['fine_grain'] = TOPMRI4Insight['age'].rolling(2).sum()/2\n",
    "TOPMRI4Insight.head(3)"
   ]
  },
  {
   "cell_type": "code",
   "execution_count": null,
   "id": "61",
   "metadata": {
    "tags": []
   },
   "outputs": [],
   "source": [
    "TOPMRI4Insight[2:].fine_grain.iloc[::2] = TOPMRI4Insight[:].fine_grain.iloc[1::2]\n",
    "TOPMRI4Insight['fine_grain']"
   ]
  },
  {
   "cell_type": "code",
   "execution_count": null,
   "id": "62",
   "metadata": {
    "tags": []
   },
   "outputs": [],
   "source": [
    "TOPMRI4Insight['fine_grain'][0] = TOPMRI4Insight['fine_grain'][1]\n",
    "TOPMRI4Insight['fine_grain']"
   ]
  },
  {
   "cell_type": "code",
   "execution_count": null,
   "id": "63",
   "metadata": {
    "tags": []
   },
   "outputs": [],
   "source": [
    "print(combat.fit(TOPMRI4Insight))\n",
    "print(fg_combat.fit(TOPMRI4Insight))"
   ]
  },
  {
   "cell_type": "code",
   "execution_count": null,
   "id": "64",
   "metadata": {
    "tags": []
   },
   "outputs": [],
   "source": [
    "print(combat.gamma_star_)\n",
    "print(fg_combat.gamma_star_)\n"
   ]
  },
  {
   "cell_type": "code",
   "execution_count": null,
   "id": "65",
   "metadata": {
    "tags": []
   },
   "outputs": [],
   "source": [
    "transformed_TOPMRI4Insight= combat.transform(TOPMRI4Insight)\n",
    "transformed_TOPMRI4Insight.head(3)"
   ]
  },
  {
   "cell_type": "code",
   "execution_count": null,
   "id": "66",
   "metadata": {
    "tags": []
   },
   "outputs": [],
   "source": [
    "fg_transformed_TOPMRI4Insight= fg_combat.transform(TOPMRI4Insight)\n",
    "fg_transformed_TOPMRI4Insight.head(3)"
   ]
  },
  {
   "cell_type": "code",
   "execution_count": null,
   "id": "67",
   "metadata": {
    "tags": []
   },
   "outputs": [],
   "source": [
    "TOPMRI4_transformed = transformed_TOPMRI4Insight[ transformed_TOPMRI4Insight['site']==0]\n",
    "TOPMRI4_transformed = TOPMRI4_transformed.drop(['site', 'decade', 'Unnamed: 0', 'fine_grain', 'index', 'level_0'], axis=1)\n",
    "TOPMRI4_transformed.head(2)"
   ]
  },
  {
   "cell_type": "code",
   "execution_count": null,
   "id": "68",
   "metadata": {
    "tags": []
   },
   "outputs": [],
   "source": [
    "fg_TOPMRI4_transformed = fg_transformed_TOPMRI4Insight[fg_transformed_TOPMRI4Insight['site']==0]\n",
    "fg_TOPMRI4_transformed = fg_TOPMRI4_transformed.drop(['site', 'decade', 'Unnamed: 0', 'fine_grain', 'index', 'level_0'], axis=1)\n",
    "fg_TOPMRI4_transformed.head(3)"
   ]
  },
  {
   "cell_type": "code",
   "execution_count": null,
   "id": "69",
   "metadata": {
    "tags": []
   },
   "outputs": [],
   "source": [
    "Insight_transformed = transformed_TOPMRI4Insight[ transformed_TOPMRI4Insight['site']==1]\n",
    "Insight_transformed = Insight_transformed.drop(['site', 'decade', 'Unnamed: 0', 'fine_grain', 'index', 'level_0'], axis=1)\n",
    "Insight_transformed.head(2)"
   ]
  },
  {
   "cell_type": "code",
   "execution_count": null,
   "id": "70",
   "metadata": {
    "tags": []
   },
   "outputs": [],
   "source": [
    "fg_Insight_transformed = fg_transformed_TOPMRI4Insight[fg_transformed_TOPMRI4Insight['site']==1]\n",
    "fg_Insight_transformed = fg_Insight_transformed.drop(['site', 'decade', 'Unnamed: 0', 'fine_grain', 'index', 'level_0'], axis=1)\n",
    "fg_Insight_transformed.head(3)"
   ]
  },
  {
   "cell_type": "code",
   "execution_count": null,
   "id": "71",
   "metadata": {
    "tags": []
   },
   "outputs": [],
   "source": [
    "TOPMRI4_transformed.to_csv('../open_work/internal_results/autocombat/autocom_harm_top_and_mri_against_insight.csv')\n",
    "Insight_transformed.to_csv('../open_work/internal_results/autocombat/autocom_harm_insight_against_top_and_mri.csv')\n",
    "\n",
    "fg_TOPMRI4_transformed.to_csv('../open_work/internal_results/autocombat/fg_autocom_harm_top_and_mri_against_insight.csv')\n",
    "fg_Insight_transformed.to_csv('../open_work/internal_results/autocombat/fg_autocom_harm_insight_against_top_and_mri.csv')"
   ]
  },
  {
   "cell_type": "code",
   "execution_count": null,
   "id": "72",
   "metadata": {},
   "outputs": [],
   "source": []
  },
  {
   "cell_type": "markdown",
   "id": "73",
   "metadata": {},
   "source": [
    "# Now we harmonize TOPMRI against both SABRE and Insight"
   ]
  },
  {
   "cell_type": "code",
   "execution_count": null,
   "id": "74",
   "metadata": {
    "tags": []
   },
   "outputs": [],
   "source": [
    "Insight46['site'] = 3"
   ]
  },
  {
   "cell_type": "code",
   "execution_count": null,
   "id": "75",
   "metadata": {
    "tags": []
   },
   "outputs": [],
   "source": [
    "SABRE['site'] = 4"
   ]
  },
  {
   "cell_type": "code",
   "execution_count": null,
   "id": "76",
   "metadata": {
    "tags": []
   },
   "outputs": [],
   "source": [
    "TOPMRI6ALL =pd.concat([TOPMRI4, Insight46, SABRE])"
   ]
  },
  {
   "cell_type": "code",
   "execution_count": null,
   "id": "77",
   "metadata": {
    "tags": []
   },
   "outputs": [],
   "source": [
    "TOPMRI6ALL = TOPMRI6ALL.sort_values(by='age')\n",
    "TOPMRI6ALL.reset_index(inplace=True)\n",
    "TOPMRI6ALL['fine_grain'] = TOPMRI6ALL['age'].rolling(2).sum()/2\n",
    "TOPMRI6ALL.head(3)"
   ]
  },
  {
   "cell_type": "code",
   "execution_count": null,
   "id": "78",
   "metadata": {
    "tags": []
   },
   "outputs": [],
   "source": [
    "TOPMRI6ALL[:].fine_grain.iloc[::2] = TOPMRI6ALL[:].fine_grain.iloc[1::2]\n",
    "TOPMRI6ALL['fine_grain']"
   ]
  },
  {
   "cell_type": "code",
   "execution_count": null,
   "id": "79",
   "metadata": {},
   "outputs": [],
   "source": []
  },
  {
   "cell_type": "code",
   "execution_count": null,
   "id": "80",
   "metadata": {
    "tags": []
   },
   "outputs": [],
   "source": [
    "print(combat.fit(TOPMRI6ALL))\n",
    "print(fg_combat.fit(TOPMRI6ALL))"
   ]
  },
  {
   "cell_type": "code",
   "execution_count": null,
   "id": "81",
   "metadata": {
    "tags": []
   },
   "outputs": [],
   "source": [
    "print(combat.gamma_star_)\n",
    "print(fg_combat.gamma_star_)"
   ]
  },
  {
   "cell_type": "code",
   "execution_count": null,
   "id": "82",
   "metadata": {
    "tags": []
   },
   "outputs": [],
   "source": [
    "transformed_TOPMRI6ALL= combat.transform(TOPMRI6ALL)\n",
    "transformed_TOPMRI6ALL.head(3)"
   ]
  },
  {
   "cell_type": "code",
   "execution_count": null,
   "id": "83",
   "metadata": {
    "tags": []
   },
   "outputs": [],
   "source": [
    "fg_transformed_TOPMRI6ALL= fg_combat.transform(TOPMRI6ALL)\n",
    "fg_transformed_TOPMRI6ALL.head(3)"
   ]
  },
  {
   "cell_type": "code",
   "execution_count": null,
   "id": "84",
   "metadata": {
    "tags": []
   },
   "outputs": [],
   "source": [
    "TOPMRI6_transformed =  transformed_TOPMRI6ALL[ transformed_TOPMRI6ALL['site']==0]\n",
    "TOPMRI6_transformed.head(2) "
   ]
  },
  {
   "cell_type": "code",
   "execution_count": null,
   "id": "85",
   "metadata": {
    "tags": []
   },
   "outputs": [],
   "source": [
    "TOPMRI6_transformed.columns"
   ]
  },
  {
   "cell_type": "code",
   "execution_count": null,
   "id": "86",
   "metadata": {
    "tags": []
   },
   "outputs": [],
   "source": [
    "fg_TOPMRI6_transformed =  fg_transformed_TOPMRI6ALL[ fg_transformed_TOPMRI6ALL['site']==0]\n",
    "fg_TOPMRI6_transformed.head(2) "
   ]
  },
  {
   "cell_type": "code",
   "execution_count": null,
   "id": "87",
   "metadata": {
    "tags": []
   },
   "outputs": [],
   "source": [
    "TOPMRI6_transformed =TOPMRI6_transformed.drop(['site', 'decade', 'Unnamed: 0', 'fine_grain', 'index','level_0'], axis=1)\n",
    "TOPMRI6_transformed.head(2)"
   ]
  },
  {
   "cell_type": "code",
   "execution_count": null,
   "id": "88",
   "metadata": {
    "tags": []
   },
   "outputs": [],
   "source": [
    "fg_TOPMRI6_transformed =fg_TOPMRI6_transformed.drop(['site', 'decade', 'Unnamed: 0', 'fine_grain', 'index','level_0'], axis=1)\n",
    "fg_TOPMRI6_transformed.head(2)"
   ]
  },
  {
   "cell_type": "code",
   "execution_count": null,
   "id": "89",
   "metadata": {
    "tags": []
   },
   "outputs": [],
   "source": [
    "Inisght2_transformed = transformed_TOPMRI6ALL[ transformed_TOPMRI6ALL['site']==3]\n",
    "Inisght2_transformed = Inisght2_transformed.drop(['site', 'decade', 'Unnamed: 0', 'index', 'fine_grain', 'level_0'], axis=1)\n",
    "Inisght2_transformed.head(2)"
   ]
  },
  {
   "cell_type": "code",
   "execution_count": null,
   "id": "90",
   "metadata": {
    "tags": []
   },
   "outputs": [],
   "source": [
    "fg_Inisght2_transformed = fg_transformed_TOPMRI6ALL[fg_transformed_TOPMRI6ALL['site']==3]\n",
    "fg_Inisght2_transformed = fg_Inisght2_transformed.drop(['site', 'decade', 'Unnamed: 0', 'index', 'fine_grain', 'level_0'], axis=1)\n",
    "fg_Inisght2_transformed.head(2)"
   ]
  },
  {
   "cell_type": "code",
   "execution_count": null,
   "id": "91",
   "metadata": {},
   "outputs": [],
   "source": [
    "SABRE2_transformed = transformed_TOPMRI6ALL[ transformed_TOPMRI6ALL['site']==4]\n",
    "SABRE2_transformed = SABRE2_transformed.drop(['site', 'decade', 'Unnamed: 0', 'fine_grain', 'index', 'level_0'], axis=1)\n",
    "SABRE2_transformed.head(3)"
   ]
  },
  {
   "cell_type": "code",
   "execution_count": null,
   "id": "92",
   "metadata": {
    "tags": []
   },
   "outputs": [],
   "source": [
    "fg_SABRE2_transformed = fg_transformed_TOPMRI6ALL[fg_transformed_TOPMRI6ALL['site']==4]\n",
    "fg_SABRE2_transformed = fg_SABRE2_transformed.drop(['site', 'decade', 'Unnamed: 0', 'fine_grain', 'index', 'level_0'], axis=1)\n",
    "fg_SABRE2_transformed.head(3)"
   ]
  },
  {
   "cell_type": "code",
   "execution_count": null,
   "id": "93",
   "metadata": {
    "tags": []
   },
   "outputs": [],
   "source": [
    "TOPMRI6_transformed.to_csv('../open_work/internal_results/autocombat/autocom_harm_top_and_mri_against_inisght_w_sabre.csv')\n",
    "Inisght2_transformed.to_csv('../open_work/internal_results/autocombat/autocom_harm_insight_against_top_and_mri_w_sabre.csv')\n",
    "SABRE2_transformed.to_csv('../open_work/internal_results/autocombat/autocom_harm_sabret_against_top_and_mri_w_insight.csv')"
   ]
  },
  {
   "cell_type": "code",
   "execution_count": null,
   "id": "94",
   "metadata": {
    "tags": []
   },
   "outputs": [],
   "source": [
    "fg_TOPMRI6_transformed.to_csv('../open_work/internal_results/autocombat/fg_autocom_harm_top_and_mri_against_inisght_w_sabre.csv')\n",
    "fg_Inisght2_transformed.to_csv('../open_work/internal_results/autocombat/fg_autocom_harm_insight_against_top_and_mri_w_sabre.csv')\n",
    "fg_SABRE2_transformed.to_csv('../open_work/internal_results/autocombat/fg_autocom_harm_sabret_against_top_and_mri_w_insight.csv')"
   ]
  },
  {
   "cell_type": "code",
   "execution_count": null,
   "id": "95",
   "metadata": {},
   "outputs": [],
   "source": []
  }
 ],
 "metadata": {
  "kernelspec": {
   "display_name": "Python 3 (ipykernel)",
   "language": "python",
   "name": "python3"
  },
  "language_info": {
   "codemirror_mode": {
    "name": "ipython",
    "version": 3
   },
   "file_extension": ".py",
   "mimetype": "text/x-python",
   "name": "python",
   "nbconvert_exporter": "python",
   "pygments_lexer": "ipython3",
   "version": "3.9.18"
  }
 },
 "nbformat": 4,
 "nbformat_minor": 5
}
