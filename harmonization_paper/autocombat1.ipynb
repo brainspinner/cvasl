{
 "cells": [
  {
   "cell_type": "markdown",
   "id": "604acea9-be23-4ccf-b2ce-5fef82da1d5e",
   "metadata": {},
   "source": [
    "# Autocombat TOP+StrokeMRI, SABREand Insight46 harmonized datasets"
   ]
  },
  {
   "cell_type": "markdown",
   "id": "6be48a75-b0ca-4569-8338-8ecd58080534",
   "metadata": {},
   "source": [
    "This notebook creates datasets from the above hamornized as if each of 1. a blended TOP and StrokeMRI 2.SABRE and 3. Insight  is indpendant and from a different \"batch\" (TOP and StrokeMRI are same acquisition on same machine, so same batch)"
   ]
  },
  {
   "cell_type": "markdown",
   "id": "66db7fb5-0dc0-4bd9-849c-9fbe51468d75",
   "metadata": {},
   "source": [
    "Note this must be run in the `comscan` ( `comscan6`) environment"
   ]
  },
  {
   "cell_type": "markdown",
   "id": "2b2ba894-728c-4b71-8334-94d38d283994",
   "metadata": {
    "tags": []
   },
   "source": [
    "## import libraries"
   ]
  },
  {
   "cell_type": "code",
   "execution_count": null,
   "id": "5a67c404-5823-48be-a6c6-e473868a477d",
   "metadata": {
    "tags": []
   },
   "outputs": [],
   "source": [
    "import os\n",
    "\n",
    "import pandas as pd\n",
    "import numpy as np"
   ]
  },
  {
   "cell_type": "code",
   "execution_count": null,
   "id": "7c9b146f-5110-459c-a1a6-bb8d22f92bb8",
   "metadata": {
    "tags": []
   },
   "outputs": [],
   "source": [
    "import ComScan"
   ]
  },
  {
   "cell_type": "markdown",
   "id": "ab3b1fd4-f61b-4adb-9f1c-4115fdf8ccd3",
   "metadata": {},
   "source": [
    "## Let's see how we would apply this to our data\n",
    "We will have to flip it on it's side to make it work"
   ]
  },
  {
   "cell_type": "code",
   "execution_count": null,
   "id": "f208e53a-b0d7-492a-ab55-840d078baa54",
   "metadata": {},
   "outputs": [],
   "source": [
    "!python --version"
   ]
  },
  {
   "cell_type": "code",
   "execution_count": null,
   "id": "88429e1f-40b7-405b-abec-df96cc086398",
   "metadata": {
    "tags": []
   },
   "outputs": [],
   "source": [
    "filepath = '../open_work/internal_results/cleaned_pvc2s/' \n",
    "filename_mri = os.path.join(filepath,'StrokeMRI_pvc2c.csv') \n",
    "filename_top = os.path.join(filepath,'TOP_pvc2c.csv') \n",
    "filename_sabre = os.path.join(filepath,'SABRE_pvc2_cleaned.csv') \n",
    "filename_insight46 =  os.path.join(filepath,'Insight46_pvc2c.csv') "
   ]
  },
  {
   "cell_type": "code",
   "execution_count": null,
   "id": "266f4cf9-74d1-4ef0-abbf-4f0fc7d04ddb",
   "metadata": {
    "tags": []
   },
   "outputs": [],
   "source": [
    "# Now we must clean SABRE down to be like the other datasets, including dropping NAns\n",
    "MRI = pd.read_csv(filename_mri)\n",
    "TOP = pd.read_csv(filename_top)\n",
    "Insight46 = pd.read_csv(filename_insight46)\n",
    "\n",
    "SABRE =  pd.read_csv(filename_sabre)\n",
    "coly = TOP.columns\n",
    "# SABRE = SABRE[coly]\n",
    "# SABRE= SABRE.dropna()\n",
    "SABRE.tail(3)"
   ]
  },
  {
   "cell_type": "code",
   "execution_count": null,
   "id": "8fdc0792-bcde-493a-b5de-2a0bb6400bc0",
   "metadata": {
    "tags": []
   },
   "outputs": [],
   "source": [
    "TOP['site'] = 0\n",
    "MRI['site'] = 1\n",
    "MRI.head(3)"
   ]
  },
  {
   "cell_type": "markdown",
   "id": "4ba00cab-9822-4bb8-9c3d-4bcb325eab06",
   "metadata": {
    "tags": []
   },
   "source": [
    "# Here we will harmonize just TOP and StrokeMRI"
   ]
  },
  {
   "cell_type": "code",
   "execution_count": null,
   "id": "79503930-143f-48b9-af20-b0d0cbca7356",
   "metadata": {
    "tags": []
   },
   "outputs": [],
   "source": [
    "TOPMRI = pd.concat([TOP, MRI])\n",
    "TOPMRI.head(3) "
   ]
  },
  {
   "cell_type": "code",
   "execution_count": null,
   "id": "e8f37ebb-b55f-440f-a1d5-48768fb13f22",
   "metadata": {
    "tags": []
   },
   "outputs": [],
   "source": [
    "sex_mapping = {'F':0,'M':1}\n",
    "TOPMRI = TOPMRI.assign(sex = TOPMRI.sex.map(sex_mapping))\n",
    "TOPMRI.head(2) "
   ]
  },
  {
   "cell_type": "markdown",
   "id": "5d862be7-8487-4423-a39e-c95e7bfdde46",
   "metadata": {
    "tags": []
   },
   "source": [
    "## Now very importantly, we have our sites pre-defined. This means that the AutoCOmbat module will execute it's own version of combat (without clustering). Therefore we can implement the Autocombat neurocombat module's combat, without a need for clustering\n",
    "If you don't believe me just read the documentation and the code itself\n",
    "\n",
    "classComScan.neurocombat.Combat(features, sites, discrete_covariates=None, continuous_covariates=None, ref_site=None, empirical_bayes=True, parametric=True, mean_only=False, return_only_features=False, raise_ref_site=True, copy=True)"
   ]
  },
  {
   "cell_type": "code",
   "execution_count": null,
   "id": "5c0ad830-0b81-4698-b255-7350f722a19e",
   "metadata": {
    "tags": []
   },
   "outputs": [],
   "source": [
    "TOPMRI['decade']=(TOPMRI['age']/10).round()\n",
    "#TOPMRI['decade']"
   ]
  },
  {
   "cell_type": "code",
   "execution_count": null,
   "id": "b0d220ef-48b0-4a7d-b703-cc8c5776ebe2",
   "metadata": {
    "tags": []
   },
   "outputs": [],
   "source": [
    "TOPMRI = TOPMRI.sort_values(by='age')\n",
    "TOPMRI.reset_index(inplace=True)\n",
    "TOPMRI['fine_grain'] = TOPMRI['age'].rolling(2).sum()/2\n",
    "#TOPMRI"
   ]
  },
  {
   "cell_type": "code",
   "execution_count": null,
   "id": "626cfefc-b671-4826-8875-6248e18c735a",
   "metadata": {
    "tags": []
   },
   "outputs": [],
   "source": [
    "TOPMRI[2:].fine_grain.iloc[::2] = TOPMRI[:].fine_grain.iloc[1::2]\n",
    "#TOPMRI['fine_grain']"
   ]
  },
  {
   "cell_type": "code",
   "execution_count": null,
   "id": "3ea21f68-ba6d-45dc-bd9c-b0002c3fc186",
   "metadata": {
    "tags": []
   },
   "outputs": [],
   "source": [
    "TOPMRI['fine_grain'][0] = TOPMRI['fine_grain'][1]\n",
    "TOPMRI['fine_grain']"
   ]
  },
  {
   "cell_type": "code",
   "execution_count": null,
   "id": "40157ad6-8d36-4423-bef0-6b54b0b87dbb",
   "metadata": {
    "tags": []
   },
   "outputs": [],
   "source": [
    "TOPMRI['decade'].unique()"
   ]
  },
  {
   "cell_type": "code",
   "execution_count": null,
   "id": "f6e217d5-7539-4cb3-9a1e-7b9e541d169f",
   "metadata": {
    "tags": []
   },
   "outputs": [],
   "source": [
    "combat = ComScan.neurocombat.Combat(features=['gm_vol', 'wm_vol',\n",
    "       'csf_vol', 'gm_ivc_ratio', 'gmwm_ivc_ratio', 'wmh_vol', 'wmh_count',\n",
    "       'deepwm_b_cov', 'aca_b_cov', 'mca_b_cov', 'pca_b_cov', 'totalgm_b_cov',\n",
    "       'deepwm_b', 'aca_b', 'mca_b', 'pca_b', 'totalgm_b',], sites=[ \"site\"], discrete_covariates=['sex'],continuous_covariates=['decade'],)\n",
    "\n",
    "fg_combat = ComScan.neurocombat.Combat(features=['gm_vol', 'wm_vol',\n",
    "       'csf_vol', 'gm_ivc_ratio', 'gmwm_ivc_ratio', 'wmh_vol', 'wmh_count',\n",
    "       'deepwm_b_cov', 'aca_b_cov', 'mca_b_cov', 'pca_b_cov', 'totalgm_b_cov',\n",
    "       'deepwm_b', 'aca_b', 'mca_b', 'pca_b', 'totalgm_b',], sites=[ \"site\"], discrete_covariates=['sex'],continuous_covariates=['fine_grain'],)\n"
   ]
  },
  {
   "cell_type": "code",
   "execution_count": null,
   "id": "854a95d2-cca6-4eea-9824-660e07e8ea80",
   "metadata": {
    "tags": []
   },
   "outputs": [],
   "source": [
    "print(combat.fit(TOPMRI))\n",
    "print(fg_combat.fit(TOPMRI))"
   ]
  },
  {
   "cell_type": "code",
   "execution_count": null,
   "id": "d211dde1-d228-479e-817b-eed21bca645e",
   "metadata": {
    "tags": []
   },
   "outputs": [],
   "source": [
    "print(combat.gamma_star_)\n",
    "print(fg_combat.gamma_star_)"
   ]
  },
  {
   "cell_type": "code",
   "execution_count": null,
   "id": "46487ffa-8cfd-4555-ab93-3bc6da7c3c09",
   "metadata": {
    "tags": []
   },
   "outputs": [],
   "source": [
    "#print(combat.transform(TOPMRI))"
   ]
  },
  {
   "cell_type": "code",
   "execution_count": null,
   "id": "46ca3c20-0f20-453e-b12c-0f5c93587800",
   "metadata": {
    "tags": []
   },
   "outputs": [],
   "source": [
    "TOPMRI.head(3)"
   ]
  },
  {
   "cell_type": "code",
   "execution_count": null,
   "id": "53830f73-bd54-4cb4-8c8f-d82bc0f5f7fd",
   "metadata": {
    "tags": []
   },
   "outputs": [],
   "source": [
    "transformed_TOPMRI= combat.transform(TOPMRI)\n",
    "transformed_TOPMRI.head(3)"
   ]
  },
  {
   "cell_type": "code",
   "execution_count": null,
   "id": "f73b1fc8-d87c-421b-8a34-3da8132f3c80",
   "metadata": {
    "tags": []
   },
   "outputs": [],
   "source": [
    "fg_transformed_TOPMRI= fg_combat.transform(TOPMRI)\n",
    "fg_transformed_TOPMRI.head(3)"
   ]
  },
  {
   "cell_type": "code",
   "execution_count": null,
   "id": "a44fa2d5-4e6b-4c32-a1d8-f00ba886b287",
   "metadata": {
    "tags": []
   },
   "outputs": [],
   "source": [
    "transformed_TOPMRI.columns"
   ]
  },
  {
   "cell_type": "code",
   "execution_count": null,
   "id": "39be6865-4b6b-4968-afe1-f49330dcf56a",
   "metadata": {
    "tags": []
   },
   "outputs": [],
   "source": [
    "TOP_transformed = transformed_TOPMRI[ transformed_TOPMRI['site']==0]\n",
    "TOP_transformed = TOP_transformed.drop(['site', 'decade', 'Unnamed: 0','fine_grain', 'index'], axis=1)\n",
    "TOP_transformed.head(3)"
   ]
  },
  {
   "cell_type": "code",
   "execution_count": null,
   "id": "7cfbaa71-68da-4621-9b65-3f07f72c778e",
   "metadata": {
    "tags": []
   },
   "outputs": [],
   "source": [
    "fg_TOP_transformed = fg_transformed_TOPMRI[ fg_transformed_TOPMRI['site']==0]\n",
    "fg_TOP_transformed = fg_TOP_transformed.drop(['site', 'decade', 'Unnamed: 0','fine_grain', 'index'], axis=1)\n",
    "fg_TOP_transformed.head(3)"
   ]
  },
  {
   "cell_type": "code",
   "execution_count": null,
   "id": "bfb61522-2bc6-4bf8-89a8-263fa458cd3e",
   "metadata": {
    "tags": []
   },
   "outputs": [],
   "source": [
    "MRI_transformed = transformed_TOPMRI[ transformed_TOPMRI['site']==1]\n",
    "MRI_transformed = MRI_transformed.drop(['site', 'decade', 'Unnamed: 0', 'index', 'fine_grain'], axis=1)\n",
    "MRI_transformed.head(3)"
   ]
  },
  {
   "cell_type": "code",
   "execution_count": null,
   "id": "dc4909f9-56d8-497f-84b7-4d9ffb9a0ff0",
   "metadata": {
    "tags": []
   },
   "outputs": [],
   "source": [
    "fg_MRI_transformed = fg_transformed_TOPMRI[fg_transformed_TOPMRI['site']==1]\n",
    "fg_MRI_transformed = fg_MRI_transformed.drop(['site', 'decade', 'Unnamed: 0', 'index', 'fine_grain'], axis=1)\n",
    "fg_MRI_transformed.head(3)"
   ]
  },
  {
   "cell_type": "code",
   "execution_count": null,
   "id": "6e6ccc42-16e4-4e5d-af0e-b7b7d629c01f",
   "metadata": {
    "tags": []
   },
   "outputs": [],
   "source": [
    "TOP_transformed.to_csv('../open_work/internal_results/autocombat/autocom_harm_top1.csv')\n",
    "MRI_transformed.to_csv('../open_work/internal_results/autocombat/autocom_harm_mri1.csv')\n",
    "\n",
    "fg_TOP_transformed.to_csv('../open_work/internal_results/autocombat/fg_autocom_harm_top1.csv')\n",
    "fg_MRI_transformed.to_csv('../open_work/internal_results/autocombat/fg_autocom_harm_mri1.csv')"
   ]
  },
  {
   "cell_type": "code",
   "execution_count": null,
   "id": "3b3bd8af-c0ee-49c2-8d14-ae9ef7593b05",
   "metadata": {},
   "outputs": [],
   "source": []
  },
  {
   "cell_type": "markdown",
   "id": "b3a8c893-3e7f-4a99-90cd-6b0b1aa5e9b0",
   "metadata": {},
   "source": [
    "# Now we will harmonize TOPMRI as one dataset agains sabre"
   ]
  },
  {
   "cell_type": "code",
   "execution_count": null,
   "id": "0603a341-9339-42be-a884-71643bec8e90",
   "metadata": {
    "tags": []
   },
   "outputs": [],
   "source": [
    "TOPMRI4 = TOPMRI.copy()\n",
    "TOPMRI4['site'] = 0\n",
    "TOPMRI4.site.unique()"
   ]
  },
  {
   "cell_type": "code",
   "execution_count": null,
   "id": "535d60b2-ec16-4e6f-a3a5-7d233212bef6",
   "metadata": {
    "tags": []
   },
   "outputs": [],
   "source": [
    "TOPMRI4.columns"
   ]
  },
  {
   "cell_type": "code",
   "execution_count": null,
   "id": "e070e492-399c-43d7-b234-081d0c7a576b",
   "metadata": {
    "tags": []
   },
   "outputs": [],
   "source": [
    "SABRE['site'] = 1"
   ]
  },
  {
   "cell_type": "code",
   "execution_count": null,
   "id": "53972531-ce7d-404a-93f6-18a6bb6c348f",
   "metadata": {
    "tags": []
   },
   "outputs": [],
   "source": [
    "#SABRE.isna().sum()"
   ]
  },
  {
   "cell_type": "code",
   "execution_count": null,
   "id": "f29b613a-814f-48bf-83db-ade00258221a",
   "metadata": {
    "tags": []
   },
   "outputs": [],
   "source": [
    "SABRE['decade']=(SABRE['age']/10).round()\n",
    "#SABRE['decade']"
   ]
  },
  {
   "cell_type": "code",
   "execution_count": null,
   "id": "9fe87efb-a102-4492-9caa-84ea46405f5a",
   "metadata": {
    "tags": []
   },
   "outputs": [],
   "source": [
    "SABRE = SABRE.assign(sex = SABRE.sex.map(sex_mapping))\n",
    "SABRE.head(3) "
   ]
  },
  {
   "cell_type": "code",
   "execution_count": null,
   "id": "ee0b5329-9a42-4552-aa31-58911176ee22",
   "metadata": {
    "tags": []
   },
   "outputs": [],
   "source": [
    "TOPMRI4SABRE =pd.concat([TOPMRI4, SABRE])"
   ]
  },
  {
   "cell_type": "code",
   "execution_count": null,
   "id": "52d2db9f-d53e-45f9-b7e0-09fdb202d857",
   "metadata": {
    "tags": []
   },
   "outputs": [],
   "source": [
    "TOPMRI4SABRE = TOPMRI4SABRE.sort_values(by='age')\n",
    "TOPMRI4SABRE.reset_index(inplace=True)\n",
    "TOPMRI4SABRE['fine_grain'] = TOPMRI4SABRE['age'].rolling(2).sum()/2\n",
    "TOPMRI4SABRE.head(5)"
   ]
  },
  {
   "cell_type": "code",
   "execution_count": null,
   "id": "ba518b9e-200d-431f-a99d-d33e39fbd5d5",
   "metadata": {
    "tags": []
   },
   "outputs": [],
   "source": [
    "TOPMRI4SABRE[:].fine_grain.iloc[::2] = TOPMRI4SABRE[:].fine_grain.iloc[1::2]\n",
    "TOPMRI4SABRE['fine_grain']"
   ]
  },
  {
   "cell_type": "code",
   "execution_count": null,
   "id": "388982de-440b-449c-a1d6-86a284cf8606",
   "metadata": {
    "tags": []
   },
   "outputs": [],
   "source": [
    "print(combat.fit(TOPMRI4SABRE))\n",
    "print(fg_combat.fit(TOPMRI4SABRE))"
   ]
  },
  {
   "cell_type": "code",
   "execution_count": null,
   "id": "288a2773-328b-4cd5-9b6e-e45be676c9a2",
   "metadata": {
    "tags": []
   },
   "outputs": [],
   "source": [
    "print(combat.gamma_star_)\n",
    "print(fg_combat.gamma_star_)\n"
   ]
  },
  {
   "cell_type": "code",
   "execution_count": null,
   "id": "6fb1af98-77c0-4f03-ad80-d86259c7dc02",
   "metadata": {
    "tags": []
   },
   "outputs": [],
   "source": [
    "transformed_TOPMRI4SABRE= combat.transform(TOPMRI4SABRE)\n",
    "transformed_TOPMRI4SABRE.head(3)"
   ]
  },
  {
   "cell_type": "code",
   "execution_count": null,
   "id": "e402d385-6256-40f5-989e-a1887c3a7695",
   "metadata": {
    "tags": []
   },
   "outputs": [],
   "source": [
    "fg_transformed_TOPMRI4SABRE= fg_combat.transform(TOPMRI4SABRE)\n",
    "fg_transformed_TOPMRI4SABRE.head(3)"
   ]
  },
  {
   "cell_type": "code",
   "execution_count": null,
   "id": "0be8a267-b8cd-4606-b2fc-c8c1bdb567ac",
   "metadata": {
    "tags": []
   },
   "outputs": [],
   "source": [
    "TOPMRI4_transformed = transformed_TOPMRI4SABRE[ transformed_TOPMRI4SABRE['site']==0]\n",
    "TOPMRI4_transformed = TOPMRI4_transformed.drop(['site', 'decade', 'Unnamed: 0', 'fine_grain', 'index', 'level_0'], axis=1)\n",
    "TOPMRI4_transformed.head(2)"
   ]
  },
  {
   "cell_type": "code",
   "execution_count": null,
   "id": "c6cf02f6-c6f8-491f-9675-9f7c8d792593",
   "metadata": {
    "tags": []
   },
   "outputs": [],
   "source": [
    "fg_TOPMRI4_transformed = fg_transformed_TOPMRI4SABRE[fg_transformed_TOPMRI4SABRE['site']==0]\n",
    "fg_TOPMRI4_transformed = fg_TOPMRI4_transformed.drop(['site', 'decade', 'Unnamed: 0', 'fine_grain', 'index','level_0'], axis=1)\n",
    "fg_TOPMRI4_transformed.head(3)"
   ]
  },
  {
   "cell_type": "code",
   "execution_count": null,
   "id": "e9095db3-396d-43c7-bf7a-511b32ded5e7",
   "metadata": {
    "tags": []
   },
   "outputs": [],
   "source": [
    "SABRE_transformed = transformed_TOPMRI4SABRE[ transformed_TOPMRI4SABRE['site']==1]\n",
    "SABRE_transformed = SABRE_transformed.drop(['site', 'decade', 'Unnamed: 0', 'fine_grain', 'index', 'level_0'], axis=1)\n",
    "SABRE_transformed.head(2)"
   ]
  },
  {
   "cell_type": "code",
   "execution_count": null,
   "id": "e445077d-84cb-48a8-8f95-3fbc0c100baa",
   "metadata": {
    "tags": []
   },
   "outputs": [],
   "source": [
    "fg_SABRE_transformed = fg_transformed_TOPMRI4SABRE[fg_transformed_TOPMRI4SABRE['site']==1]\n",
    "fg_SABRE_transformed = fg_SABRE_transformed.drop(['site', 'decade', 'Unnamed: 0', 'fine_grain', 'index', 'level_0'], axis=1)\n",
    "fg_SABRE_transformed.head(3)"
   ]
  },
  {
   "cell_type": "code",
   "execution_count": null,
   "id": "66aa28d5-d427-435c-9a32-26d1bec80041",
   "metadata": {
    "tags": []
   },
   "outputs": [],
   "source": [
    "TOPMRI4_transformed.to_csv('../open_work/internal_results/autocombat/autocom_harm_top_and_mri_against_sabre.csv')\n",
    "SABRE_transformed.to_csv('../open_work/internal_results/autocombat/autocom_harm_sabre_against_top_and_mri.csv')\n",
    "\n",
    "fg_TOPMRI4_transformed.to_csv('../open_work/internal_results/autocombat/fg_autocom_harm_top_and_mri_against_sabre.csv')\n",
    "fg_SABRE_transformed.to_csv('../open_work/internal_results/autocombat/fg_autocom_harm_sabre_against_top_and_mri.csv')"
   ]
  },
  {
   "cell_type": "markdown",
   "id": "e3ba93b5-02f2-4eec-96d4-81670902e2dc",
   "metadata": {},
   "source": [
    "# Now the same with TOPMRI and Inisght46"
   ]
  },
  {
   "cell_type": "code",
   "execution_count": null,
   "id": "f989d585-34e5-4002-b570-6d916e81d33d",
   "metadata": {
    "tags": []
   },
   "outputs": [],
   "source": [
    "Insight46['site'] = 1"
   ]
  },
  {
   "cell_type": "code",
   "execution_count": null,
   "id": "3f5d2965-9f1a-4532-beb4-104fcc930a55",
   "metadata": {
    "tags": []
   },
   "outputs": [],
   "source": [
    "Insight46.isna().sum()"
   ]
  },
  {
   "cell_type": "code",
   "execution_count": null,
   "id": "9fe3d93b-2d1f-4fe6-943f-e691ff116d63",
   "metadata": {
    "tags": []
   },
   "outputs": [],
   "source": [
    "Insight46['decade']=(Insight46['age']/10).round()\n",
    "Insight46['decade']"
   ]
  },
  {
   "cell_type": "code",
   "execution_count": null,
   "id": "8e5be146-a01b-4619-b123-af81cd335bd4",
   "metadata": {
    "tags": []
   },
   "outputs": [],
   "source": [
    "Insight46 = Insight46.assign(sex = Insight46.sex.map(sex_mapping))\n",
    "Insight46.head(3) "
   ]
  },
  {
   "cell_type": "code",
   "execution_count": null,
   "id": "81632ed7-5fe8-4b71-9b98-581fca83d77a",
   "metadata": {
    "tags": []
   },
   "outputs": [],
   "source": [
    "Insight46.head(3)"
   ]
  },
  {
   "cell_type": "code",
   "execution_count": null,
   "id": "f879bedb-7ea3-4d3e-a447-91b731d5b45e",
   "metadata": {
    "tags": []
   },
   "outputs": [],
   "source": [
    "TOPMRI4Insight =pd.concat([TOPMRI4, Insight46])"
   ]
  },
  {
   "cell_type": "code",
   "execution_count": null,
   "id": "df38116b-88ec-4fac-b2bd-3d1f51d98259",
   "metadata": {
    "tags": []
   },
   "outputs": [],
   "source": [
    "TOPMRI4Insight = TOPMRI4Insight.sort_values(by='age')\n",
    "TOPMRI4Insight.reset_index(inplace=True)\n",
    "TOPMRI4Insight['fine_grain'] = TOPMRI4Insight['age'].rolling(2).sum()/2\n",
    "TOPMRI4Insight.head(3)"
   ]
  },
  {
   "cell_type": "code",
   "execution_count": null,
   "id": "08175f8c-52c6-48af-b56d-6bb24b4e8c1b",
   "metadata": {
    "tags": []
   },
   "outputs": [],
   "source": [
    "TOPMRI4Insight[2:].fine_grain.iloc[::2] = TOPMRI4Insight[:].fine_grain.iloc[1::2]\n",
    "TOPMRI4Insight['fine_grain']"
   ]
  },
  {
   "cell_type": "code",
   "execution_count": null,
   "id": "944b2c15-963f-4552-a675-e3c7b5d89d1d",
   "metadata": {
    "tags": []
   },
   "outputs": [],
   "source": [
    "TOPMRI4Insight['fine_grain'][0] = TOPMRI4Insight['fine_grain'][1]\n",
    "TOPMRI4Insight['fine_grain']"
   ]
  },
  {
   "cell_type": "code",
   "execution_count": null,
   "id": "2d193c2b-d23e-4ddf-87f1-72adc16d7ae3",
   "metadata": {
    "tags": []
   },
   "outputs": [],
   "source": [
    "print(combat.fit(TOPMRI4Insight))\n",
    "print(fg_combat.fit(TOPMRI4Insight))"
   ]
  },
  {
   "cell_type": "code",
   "execution_count": null,
   "id": "23af1f71-2318-4352-89fb-71f54a12002f",
   "metadata": {
    "tags": []
   },
   "outputs": [],
   "source": [
    "print(combat.gamma_star_)\n",
    "print(fg_combat.gamma_star_)\n"
   ]
  },
  {
   "cell_type": "code",
   "execution_count": null,
   "id": "c55e8106-907d-408a-8e38-283f4b31567b",
   "metadata": {
    "tags": []
   },
   "outputs": [],
   "source": [
    "transformed_TOPMRI4Insight= combat.transform(TOPMRI4Insight)\n",
    "transformed_TOPMRI4Insight.head(3)"
   ]
  },
  {
   "cell_type": "code",
   "execution_count": null,
   "id": "4a5b8fac-9cbe-4467-8056-8b2d8c06eb7f",
   "metadata": {
    "tags": []
   },
   "outputs": [],
   "source": [
    "fg_transformed_TOPMRI4Insight= fg_combat.transform(TOPMRI4Insight)\n",
    "fg_transformed_TOPMRI4Insight.head(3)"
   ]
  },
  {
   "cell_type": "code",
   "execution_count": null,
   "id": "fb8020d4-020f-4555-bf9b-66e0aded07d0",
   "metadata": {
    "tags": []
   },
   "outputs": [],
   "source": [
    "TOPMRI4_transformed = transformed_TOPMRI4Insight[ transformed_TOPMRI4Insight['site']==0]\n",
    "TOPMRI4_transformed = TOPMRI4_transformed.drop(['site', 'decade', 'Unnamed: 0', 'fine_grain', 'index', 'level_0'], axis=1)\n",
    "TOPMRI4_transformed.head(2)"
   ]
  },
  {
   "cell_type": "code",
   "execution_count": null,
   "id": "473bcf37-a8ef-42d9-b698-1ef003e542b5",
   "metadata": {
    "tags": []
   },
   "outputs": [],
   "source": [
    "fg_TOPMRI4_transformed = fg_transformed_TOPMRI4Insight[fg_transformed_TOPMRI4Insight['site']==0]\n",
    "fg_TOPMRI4_transformed = fg_TOPMRI4_transformed.drop(['site', 'decade', 'Unnamed: 0', 'fine_grain', 'index', 'level_0'], axis=1)\n",
    "fg_TOPMRI4_transformed.head(3)"
   ]
  },
  {
   "cell_type": "code",
   "execution_count": null,
   "id": "67111aba-05cf-4866-a71d-b355f7df99b6",
   "metadata": {
    "tags": []
   },
   "outputs": [],
   "source": [
    "Insight_transformed = transformed_TOPMRI4Insight[ transformed_TOPMRI4Insight['site']==1]\n",
    "Insight_transformed = Insight_transformed.drop(['site', 'decade', 'Unnamed: 0', 'fine_grain', 'index', 'level_0'], axis=1)\n",
    "Insight_transformed.head(2)"
   ]
  },
  {
   "cell_type": "code",
   "execution_count": null,
   "id": "2377a033-b402-45a1-b8ab-bdc50d048651",
   "metadata": {
    "tags": []
   },
   "outputs": [],
   "source": [
    "fg_Insight_transformed = fg_transformed_TOPMRI4Insight[fg_transformed_TOPMRI4Insight['site']==1]\n",
    "fg_Insight_transformed = fg_Insight_transformed.drop(['site', 'decade', 'Unnamed: 0', 'fine_grain', 'index', 'level_0'], axis=1)\n",
    "fg_Insight_transformed.head(3)"
   ]
  },
  {
   "cell_type": "code",
   "execution_count": null,
   "id": "643d1e21-051f-451c-919a-ce50ee1cb613",
   "metadata": {
    "tags": []
   },
   "outputs": [],
   "source": [
    "TOPMRI4_transformed.to_csv('../open_work/internal_results/autocombat/autocom_harm_top_and_mri_against_insight.csv')\n",
    "Insight_transformed.to_csv('../open_work/internal_results/autocombat/autocom_harm_insight_against_top_and_mri.csv')\n",
    "\n",
    "fg_TOPMRI4_transformed.to_csv('../open_work/internal_results/autocombat/fg_autocom_harm_top_and_mri_against_insight.csv')\n",
    "fg_Insight_transformed.to_csv('../open_work/internal_results/autocombat/fg_autocom_harm_insight_against_top_and_mri.csv')"
   ]
  },
  {
   "cell_type": "code",
   "execution_count": null,
   "id": "aa4d6f15-87ca-4d36-be54-7d878712af39",
   "metadata": {},
   "outputs": [],
   "source": []
  },
  {
   "cell_type": "markdown",
   "id": "fe8a79ce-95e4-406c-99a7-77288233b9a9",
   "metadata": {},
   "source": [
    "# Now we harmonize TOPMRI against both SABRE and Insight"
   ]
  },
  {
   "cell_type": "code",
   "execution_count": null,
   "id": "aa6c4a24-fa06-44ed-afcd-c48ec2400e36",
   "metadata": {
    "tags": []
   },
   "outputs": [],
   "source": [
    "Insight46['site'] = 3"
   ]
  },
  {
   "cell_type": "code",
   "execution_count": null,
   "id": "d5ba5453-e40d-4e99-b610-ea10c2b7942a",
   "metadata": {
    "tags": []
   },
   "outputs": [],
   "source": [
    "SABRE['site'] = 4"
   ]
  },
  {
   "cell_type": "code",
   "execution_count": null,
   "id": "6ed8f725-6ac8-4d78-8626-2a2cb3eaa250",
   "metadata": {
    "tags": []
   },
   "outputs": [],
   "source": [
    "TOPMRI6ALL =pd.concat([TOPMRI4, Insight46, SABRE])"
   ]
  },
  {
   "cell_type": "code",
   "execution_count": null,
   "id": "0bdc7bb1-594f-4909-a37e-481c3f77f463",
   "metadata": {
    "tags": []
   },
   "outputs": [],
   "source": [
    "TOPMRI6ALL = TOPMRI6ALL.sort_values(by='age')\n",
    "TOPMRI6ALL.reset_index(inplace=True)\n",
    "TOPMRI6ALL['fine_grain'] = TOPMRI6ALL['age'].rolling(2).sum()/2\n",
    "TOPMRI6ALL.head(3)"
   ]
  },
  {
   "cell_type": "code",
   "execution_count": null,
   "id": "ef445782-7b64-4191-a133-f810c3544373",
   "metadata": {
    "tags": []
   },
   "outputs": [],
   "source": [
    "TOPMRI6ALL[:].fine_grain.iloc[::2] = TOPMRI6ALL[:].fine_grain.iloc[1::2]\n",
    "TOPMRI6ALL['fine_grain']"
   ]
  },
  {
   "cell_type": "code",
   "execution_count": null,
   "id": "7a997175-417f-47c8-88c0-7a98bacdf583",
   "metadata": {},
   "outputs": [],
   "source": []
  },
  {
   "cell_type": "code",
   "execution_count": null,
   "id": "55d5489b-f63b-4bb3-b0e7-d39f76da555e",
   "metadata": {
    "tags": []
   },
   "outputs": [],
   "source": [
    "print(combat.fit(TOPMRI6ALL))\n",
    "print(fg_combat.fit(TOPMRI6ALL))"
   ]
  },
  {
   "cell_type": "code",
   "execution_count": null,
   "id": "997e8ea5-3ab7-4de3-a25c-7b4e55e1cc8b",
   "metadata": {
    "tags": []
   },
   "outputs": [],
   "source": [
    "print(combat.gamma_star_)\n",
    "print(fg_combat.gamma_star_)"
   ]
  },
  {
   "cell_type": "code",
   "execution_count": null,
   "id": "afec670c-8713-40e4-abaf-c8734dcd30a6",
   "metadata": {
    "tags": []
   },
   "outputs": [],
   "source": [
    "transformed_TOPMRI6ALL= combat.transform(TOPMRI6ALL)\n",
    "transformed_TOPMRI6ALL.head(3)"
   ]
  },
  {
   "cell_type": "code",
   "execution_count": null,
   "id": "dd81d364-ba6c-45c4-ac06-6c6b1697f6ed",
   "metadata": {
    "tags": []
   },
   "outputs": [],
   "source": [
    "fg_transformed_TOPMRI6ALL= fg_combat.transform(TOPMRI6ALL)\n",
    "fg_transformed_TOPMRI6ALL.head(3)"
   ]
  },
  {
   "cell_type": "code",
   "execution_count": null,
   "id": "3b552a48-fa28-4edd-bf72-914f848d6d3d",
   "metadata": {
    "tags": []
   },
   "outputs": [],
   "source": [
    "TOPMRI6_transformed =  transformed_TOPMRI6ALL[ transformed_TOPMRI6ALL['site']==0]\n",
    "TOPMRI6_transformed.head(2) "
   ]
  },
  {
   "cell_type": "code",
   "execution_count": null,
   "id": "874973d9-df1b-4c19-9b18-7d45b938c5ab",
   "metadata": {
    "tags": []
   },
   "outputs": [],
   "source": [
    "TOPMRI6_transformed.columns"
   ]
  },
  {
   "cell_type": "code",
   "execution_count": null,
   "id": "85627e4c-364a-43ff-a984-e61345f85382",
   "metadata": {
    "tags": []
   },
   "outputs": [],
   "source": [
    "fg_TOPMRI6_transformed =  fg_transformed_TOPMRI6ALL[ fg_transformed_TOPMRI6ALL['site']==0]\n",
    "fg_TOPMRI6_transformed.head(2) "
   ]
  },
  {
   "cell_type": "code",
   "execution_count": null,
   "id": "5d9d8ecd-9132-4348-9a72-bcb1c8b3ebd7",
   "metadata": {
    "tags": []
   },
   "outputs": [],
   "source": [
    "TOPMRI6_transformed =TOPMRI6_transformed.drop(['site', 'decade', 'Unnamed: 0', 'fine_grain', 'index','level_0'], axis=1)\n",
    "TOPMRI6_transformed.head(2)"
   ]
  },
  {
   "cell_type": "code",
   "execution_count": null,
   "id": "94014ab9-2ac0-40c9-8759-c2857f88cd15",
   "metadata": {
    "tags": []
   },
   "outputs": [],
   "source": [
    "fg_TOPMRI6_transformed =fg_TOPMRI6_transformed.drop(['site', 'decade', 'Unnamed: 0', 'fine_grain', 'index','level_0'], axis=1)\n",
    "fg_TOPMRI6_transformed.head(2)"
   ]
  },
  {
   "cell_type": "code",
   "execution_count": null,
   "id": "2e73e25c-a07a-47e5-a7f5-4108c220e454",
   "metadata": {
    "tags": []
   },
   "outputs": [],
   "source": [
    "Inisght2_transformed = transformed_TOPMRI6ALL[ transformed_TOPMRI6ALL['site']==3]\n",
    "Inisght2_transformed = Inisght2_transformed.drop(['site', 'decade', 'Unnamed: 0', 'index', 'fine_grain', 'level_0'], axis=1)\n",
    "Inisght2_transformed.head(2)"
   ]
  },
  {
   "cell_type": "code",
   "execution_count": null,
   "id": "65a5aee9-04e5-4d9a-b69d-d6e9e5cf2ed9",
   "metadata": {
    "tags": []
   },
   "outputs": [],
   "source": [
    "fg_Inisght2_transformed = fg_transformed_TOPMRI6ALL[fg_transformed_TOPMRI6ALL['site']==3]\n",
    "fg_Inisght2_transformed = fg_Inisght2_transformed.drop(['site', 'decade', 'Unnamed: 0', 'index', 'fine_grain', 'level_0'], axis=1)\n",
    "fg_Inisght2_transformed.head(2)"
   ]
  },
  {
   "cell_type": "code",
   "execution_count": null,
   "id": "9928554d-a272-48d3-a9f0-fc2ede74530f",
   "metadata": {},
   "outputs": [],
   "source": [
    "SABRE2_transformed = transformed_TOPMRI6ALL[ transformed_TOPMRI6ALL['site']==4]\n",
    "SABRE2_transformed = SABRE2_transformed.drop(['site', 'decade', 'Unnamed: 0', 'fine_grain', 'index', 'level_0'], axis=1)\n",
    "SABRE2_transformed.head(3)"
   ]
  },
  {
   "cell_type": "code",
   "execution_count": null,
   "id": "b4dc9511-15bf-4d27-b9cf-3b97b8cb1a16",
   "metadata": {
    "tags": []
   },
   "outputs": [],
   "source": [
    "fg_SABRE2_transformed = fg_transformed_TOPMRI6ALL[fg_transformed_TOPMRI6ALL['site']==4]\n",
    "fg_SABRE2_transformed = fg_SABRE2_transformed.drop(['site', 'decade', 'Unnamed: 0', 'fine_grain', 'index', 'level_0'], axis=1)\n",
    "fg_SABRE2_transformed.head(3)"
   ]
  },
  {
   "cell_type": "code",
   "execution_count": null,
   "id": "a51109c9-9b91-4da0-abf6-37269aa7d479",
   "metadata": {
    "tags": []
   },
   "outputs": [],
   "source": [
    "TOPMRI6_transformed.to_csv('../open_work/internal_results/autocombat/autocom_harm_top_and_mri_against_inisght_w_sabre.csv')\n",
    "Inisght2_transformed.to_csv('../open_work/internal_results/autocombat/autocom_harm_insight_against_top_and_mri_w_sabre.csv')\n",
    "SABRE2_transformed.to_csv('../open_work/internal_results/autocombat/autocom_harm_sabret_against_top_and_mri_w_insight.csv')"
   ]
  },
  {
   "cell_type": "code",
   "execution_count": null,
   "id": "c153c904-9f71-413f-ba69-b9873767d441",
   "metadata": {
    "tags": []
   },
   "outputs": [],
   "source": [
    "fg_TOPMRI6_transformed.to_csv('../open_work/internal_results/autocombat/fg_autocom_harm_top_and_mri_against_inisght_w_sabre.csv')\n",
    "fg_Inisght2_transformed.to_csv('../open_work/internal_results/autocombat/fg_autocom_harm_insight_against_top_and_mri_w_sabre.csv')\n",
    "fg_SABRE2_transformed.to_csv('../open_work/internal_results/autocombat/fg_autocom_harm_sabret_against_top_and_mri_w_insight.csv')"
   ]
  },
  {
   "cell_type": "code",
   "execution_count": null,
   "id": "9a3bfb2b-38ae-447e-94a1-6b27ce401a1f",
   "metadata": {},
   "outputs": [],
   "source": []
  }
 ],
 "metadata": {
  "kernelspec": {
   "display_name": "Python 3 (ipykernel)",
   "language": "python",
   "name": "python3"
  },
  "language_info": {
   "codemirror_mode": {
    "name": "ipython",
    "version": 3
   },
   "file_extension": ".py",
   "mimetype": "text/x-python",
   "name": "python",
   "nbconvert_exporter": "python",
   "pygments_lexer": "ipython3",
   "version": "3.9.18"
  }
 },
 "nbformat": 4,
 "nbformat_minor": 5
}
