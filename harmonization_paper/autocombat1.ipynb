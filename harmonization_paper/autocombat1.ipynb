{
 "cells": [
  {
   "cell_type": "code",
   "execution_count": null,
   "id": "0ff0b9d5-002d-4ca7-9ad5-c40b8644c7a0",
   "metadata": {},
   "outputs": [],
   "source": []
  },
  {
   "cell_type": "markdown",
   "id": "604acea9-be23-4ccf-b2ce-5fef82da1d5e",
   "metadata": {},
   "source": [
    "# Autocombat TOP+StrokeMRI, SABREand Insight46 harmonized datasets"
   ]
  },
  {
   "cell_type": "markdown",
   "id": "6be48a75-b0ca-4569-8338-8ecd58080534",
   "metadata": {},
   "source": [
    "This notebook creates datasets from the above hamornized as if each of 1. a blended TOP and StrokeMRI 2.SABRE and 3. Insight  is indpendant and from a different \"batch\" (TOP and StrokeMRI are same acquisition on same machine, so same batch)"
   ]
  },
  {
   "cell_type": "markdown",
   "id": "66db7fb5-0dc0-4bd9-849c-9fbe51468d75",
   "metadata": {},
   "source": [
    "Note this must be run in the `comscan` ( `comscan6`) environment"
   ]
  },
  {
   "cell_type": "markdown",
   "id": "2b2ba894-728c-4b71-8334-94d38d283994",
   "metadata": {
    "tags": []
   },
   "source": [
    "## import libraries"
   ]
  },
  {
   "cell_type": "code",
   "execution_count": null,
   "id": "5a67c404-5823-48be-a6c6-e473868a477d",
   "metadata": {
    "tags": []
   },
   "outputs": [],
   "source": [
    "import os\n",
    "\n",
    "import pandas as pd\n",
    "import numpy as np\n",
    "\n"
   ]
  },
  {
   "cell_type": "code",
   "execution_count": null,
   "id": "7c9b146f-5110-459c-a1a6-bb8d22f92bb8",
   "metadata": {
    "tags": []
   },
   "outputs": [],
   "source": [
    "import ComScan\n"
   ]
  },
  {
   "cell_type": "markdown",
   "id": "ab3b1fd4-f61b-4adb-9f1c-4115fdf8ccd3",
   "metadata": {},
   "source": [
    "## Let's see how we would apply this to our data\n",
    "We will have to flip it on it's side to make it work"
   ]
  },
  {
   "cell_type": "code",
   "execution_count": null,
   "id": "f208e53a-b0d7-492a-ab55-840d078baa54",
   "metadata": {},
   "outputs": [],
   "source": [
    "!python --version"
   ]
  },
  {
   "cell_type": "code",
   "execution_count": null,
   "id": "88429e1f-40b7-405b-abec-df96cc086398",
   "metadata": {
    "tags": []
   },
   "outputs": [],
   "source": [
    "filepath = '../open_work/internal_results/cleaned_pvc2s/' \n",
    "filename_mri = os.path.join(filepath,'StrokeMRI_pvc2c.csv') \n",
    "filename_top = os.path.join(filepath,'TOP_pvc2c.csv') \n",
    "filename_sabre = os.path.join(filepath,'SABRE_pvc2_cleaned.csv') \n",
    "filename_insight46 =  os.path.join(filepath,'Insight46_pvc2c.csv') "
   ]
  },
  {
   "cell_type": "code",
   "execution_count": null,
   "id": "266f4cf9-74d1-4ef0-abbf-4f0fc7d04ddb",
   "metadata": {
    "tags": []
   },
   "outputs": [],
   "source": [
    "# Now we must clean SABRE down to be like the other datasets, including dropping NAns\n",
    "MRI = pd.read_csv(filename_mri)\n",
    "TOP = pd.read_csv(filename_top)\n",
    "Insight46 = pd.read_csv(filename_insight46)\n",
    "\n",
    "SABRE =  pd.read_csv(filename_sabre)\n",
    "coly = TOP.columns\n",
    "SABRE = SABRE[coly]\n",
    "SABRE= SABRE.dropna()\n",
    "SABRE.tail(3)"
   ]
  },
  {
   "cell_type": "code",
   "execution_count": null,
   "id": "8fdc0792-bcde-493a-b5de-2a0bb6400bc0",
   "metadata": {
    "tags": []
   },
   "outputs": [],
   "source": [
    "TOP['site'] = 0\n",
    "MRI['site'] = 1\n",
    "MRI"
   ]
  },
  {
   "cell_type": "code",
   "execution_count": null,
   "id": "6c34b317-f7da-483b-be8f-bd6981ad68c0",
   "metadata": {
    "tags": []
   },
   "outputs": [],
   "source": [
    "#TOP.age.describe()"
   ]
  },
  {
   "cell_type": "code",
   "execution_count": null,
   "id": "722da587-bfc3-4cc2-99ca-64bf315258bb",
   "metadata": {
    "tags": []
   },
   "outputs": [],
   "source": [
    "# Here we will harmonize just TOP and StrokeMRI"
   ]
  },
  {
   "cell_type": "code",
   "execution_count": null,
   "id": "79503930-143f-48b9-af20-b0d0cbca7356",
   "metadata": {
    "tags": []
   },
   "outputs": [],
   "source": [
    "TOPMRI = pd.concat([TOP, MRI])\n",
    "TOPMRI "
   ]
  },
  {
   "cell_type": "code",
   "execution_count": null,
   "id": "e8f37ebb-b55f-440f-a1d5-48768fb13f22",
   "metadata": {
    "tags": []
   },
   "outputs": [],
   "source": [
    "# data = pd.DataFrame([{\"features_1\": 0.97, \"features_2\": 2, \"sites\": 0},\n",
    "# {\"features_1\": 1.35, \"features_2\": 1.01, \"sites\": 1}, {\"features_1\": 1.43, \"features_2\": 1.09, \"sites\": 1},\n",
    "# {\"features_1\": 0.85, \"features_2\": 2.3, \"sites\": 0}])\n",
    "# data\n",
    "sex_mapping = {'F':0,'M':1}\n",
    "TOPMRI = TOPMRI.assign(sex = TOPMRI.sex.map(sex_mapping))\n",
    "\n",
    "TOPMRI "
   ]
  },
  {
   "cell_type": "code",
   "execution_count": null,
   "id": "a299b122-d1a5-4508-a16a-78b68c771f8d",
   "metadata": {
    "tags": []
   },
   "outputs": [],
   "source": [
    "# TOPMRI= TOPMRI.reset_index()\n",
    "# TOPMRI[]"
   ]
  },
  {
   "cell_type": "markdown",
   "id": "5d862be7-8487-4423-a39e-c95e7bfdde46",
   "metadata": {
    "tags": []
   },
   "source": [
    "## Now very importantly, we have our sites pre-defined. This means that the AutoCOmbat module will execute it's own version of combat (without clustering). Therefore we can implement the Autocombat neurocombat module's combat, without a need for clustering\n",
    "If you don't believe me just read the documentation and the code itself\n",
    "\n",
    "classComScan.neurocombat.Combat(features, sites, discrete_covariates=None, continuous_covariates=None, ref_site=None, empirical_bayes=True, parametric=True, mean_only=False, return_only_features=False, raise_ref_site=True, copy=True)"
   ]
  },
  {
   "cell_type": "code",
   "execution_count": null,
   "id": "5c0ad830-0b81-4698-b255-7350f722a19e",
   "metadata": {
    "tags": []
   },
   "outputs": [],
   "source": [
    "TOPMRI['decade']=(TOPMRI['age']/10).round()\n",
    "TOPMRI['decade']"
   ]
  },
  {
   "cell_type": "code",
   "execution_count": null,
   "id": "b0d220ef-48b0-4a7d-b703-cc8c5776ebe2",
   "metadata": {
    "tags": []
   },
   "outputs": [],
   "source": [
    "# TOPMRI['decade']=(TOPMRI['age']/10).round()\n",
    "# TOPMRI['decade']"
   ]
  },
  {
   "cell_type": "code",
   "execution_count": null,
   "id": "40157ad6-8d36-4423-bef0-6b54b0b87dbb",
   "metadata": {
    "tags": []
   },
   "outputs": [],
   "source": [
    "TOPMRI['decade'].unique()"
   ]
  },
  {
   "cell_type": "code",
   "execution_count": null,
   "id": "f6e217d5-7539-4cb3-9a1e-7b9e541d169f",
   "metadata": {
    "tags": []
   },
   "outputs": [],
   "source": [
    "#auto_combat = ComScan.neurocombat.AutoCombat(features=[\"features_1\"], sites_features=[\"site_features_0\", \"site_features_1\"],\n",
    "#continuous_cluster_features=[\"site_features_0\", \"site_features_1\"], size_min=2)\n",
    "combat = ComScan.neurocombat.Combat(features=['gm_vol', 'wm_vol',\n",
    "       'csf_vol', 'gm_ivc_ratio', 'gmwm_ivc_ratio', 'wmh_vol', 'wmh_count',\n",
    "       'deepwm_b_cov', 'aca_b_cov', 'mca_b_cov', 'pca_b_cov', 'totalgm_b_cov',\n",
    "       'deepwm_b', 'aca_b', 'mca_b', 'pca_b', 'totalgm_b',], sites=[ \"site\"], discrete_covariates=['sex'],continuous_covariates=['decade'],)\n"
   ]
  },
  {
   "cell_type": "code",
   "execution_count": null,
   "id": "854a95d2-cca6-4eea-9824-660e07e8ea80",
   "metadata": {
    "tags": []
   },
   "outputs": [],
   "source": [
    "print(combat.fit(TOPMRI))"
   ]
  },
  {
   "cell_type": "code",
   "execution_count": null,
   "id": "d211dde1-d228-479e-817b-eed21bca645e",
   "metadata": {
    "tags": []
   },
   "outputs": [],
   "source": [
    "print(combat.gamma_star_)"
   ]
  },
  {
   "cell_type": "code",
   "execution_count": null,
   "id": "46487ffa-8cfd-4555-ab93-3bc6da7c3c09",
   "metadata": {
    "tags": []
   },
   "outputs": [],
   "source": [
    "print(combat.transform(TOPMRI))"
   ]
  },
  {
   "cell_type": "code",
   "execution_count": null,
   "id": "46ca3c20-0f20-453e-b12c-0f5c93587800",
   "metadata": {
    "tags": []
   },
   "outputs": [],
   "source": [
    "TOPMRI"
   ]
  },
  {
   "cell_type": "code",
   "execution_count": null,
   "id": "53830f73-bd54-4cb4-8c8f-d82bc0f5f7fd",
   "metadata": {
    "tags": []
   },
   "outputs": [],
   "source": [
    "transformed_TOPMRI= combat.transform(TOPMRI)\n",
    "transformed_TOPMRI"
   ]
  },
  {
   "cell_type": "code",
   "execution_count": null,
   "id": "39be6865-4b6b-4968-afe1-f49330dcf56a",
   "metadata": {
    "tags": []
   },
   "outputs": [],
   "source": [
    "TOP_transformed = transformed_TOPMRI[ transformed_TOPMRI['site']==0]\n",
    "TOP_transformed = TOP_transformed.drop(['site', 'decade', 'Unnamed: 0'], axis=1)\n",
    "TOP_transformed"
   ]
  },
  {
   "cell_type": "code",
   "execution_count": null,
   "id": "bfb61522-2bc6-4bf8-89a8-263fa458cd3e",
   "metadata": {
    "tags": []
   },
   "outputs": [],
   "source": [
    "MRI_transformed = transformed_TOPMRI[ transformed_TOPMRI['site']==1]\n",
    "MRI_transformed = MRI_transformed.drop(['site', 'decade', 'Unnamed: 0'], axis=1)\n",
    "MRI_transformed"
   ]
  },
  {
   "cell_type": "code",
   "execution_count": null,
   "id": "8cb3d53a-27b1-4a6b-862e-001cb2c94646",
   "metadata": {
    "tags": []
   },
   "outputs": [],
   "source": [
    "TOP_transformed.to_csv('../open_work/internal_results/autocombat/autocom_harm_top1.csv')"
   ]
  },
  {
   "cell_type": "code",
   "execution_count": null,
   "id": "0bda8547-fa7d-4bd2-ace2-7c056c13f85c",
   "metadata": {
    "tags": []
   },
   "outputs": [],
   "source": [
    "MRI_transformed.to_csv('../open_work/internal_results/autocombat/autocom_harm_mri1.csv')"
   ]
  },
  {
   "cell_type": "code",
   "execution_count": null,
   "id": "cb5d09be-84f6-47f6-b8fe-501f75c8c320",
   "metadata": {},
   "outputs": [],
   "source": []
  }
 ],
 "metadata": {
  "kernelspec": {
   "display_name": "Python 3 (ipykernel)",
   "language": "python",
   "name": "python3"
  },
  "language_info": {
   "codemirror_mode": {
    "name": "ipython",
    "version": 3
   },
   "file_extension": ".py",
   "mimetype": "text/x-python",
   "name": "python",
   "nbconvert_exporter": "python",
   "pygments_lexer": "ipython3",
   "version": "3.7.12"
  }
 },
 "nbformat": 4,
 "nbformat_minor": 5
}
