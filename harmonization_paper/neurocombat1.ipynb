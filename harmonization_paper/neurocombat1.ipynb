{
 "cells": [
  {
   "cell_type": "markdown",
   "id": "2b2555c8-e15b-4ddb-a72f-9b979c0e5ce6",
   "metadata": {},
   "source": [
    "# Neurocombat TOP versus StrokeMRI"
   ]
  },
  {
   "cell_type": "markdown",
   "id": "eec76253-715b-4d9f-ac25-e68974bd1e1e",
   "metadata": {},
   "source": [
    "Note this must be run in the `neurocombaty` environment"
   ]
  },
  {
   "cell_type": "markdown",
   "id": "b3fd00be-b88d-490a-b27f-27fc0ecac3fb",
   "metadata": {},
   "source": [
    "## import libraries"
   ]
  },
  {
   "cell_type": "code",
   "execution_count": null,
   "id": "c9aa23bd-c56a-4a5e-ab09-e3b3194a49d1",
   "metadata": {},
   "outputs": [],
   "source": [
    "from neuroCombat import neuroCombat\n",
    "import pandas as pd\n",
    "import numpy as np"
   ]
  },
  {
   "cell_type": "code",
   "execution_count": null,
   "id": "d0cbd407-f17b-4841-b70b-c71882cb209e",
   "metadata": {},
   "outputs": [],
   "source": [
    "import matplotlib.pyplot as plt"
   ]
  },
  {
   "cell_type": "markdown",
   "id": "103f6490-192e-4895-84e3-cb5a38c01f5e",
   "metadata": {},
   "source": [
    "## Let's see how we would apply this to our data\n",
    "We will have to flip it on it's side to make it work"
   ]
  },
  {
   "cell_type": "code",
   "execution_count": null,
   "id": "f65d65e1-c369-4dc6-a1d9-8aa66b97fea3",
   "metadata": {},
   "outputs": [],
   "source": [
    "needs to be replaced with more current sets"
   ]
  },
  {
   "cell_type": "code",
   "execution_count": null,
   "id": "9b910d19-9844-4705-b356-e0b84569c90a",
   "metadata": {},
   "outputs": [],
   "source": [
    "our_mri_data = pd.read_csv('C:/Projects/brainspin/not_pushed/data_anonymized/assembled/StrokeMRI_stitched.csv')\n",
    "our_top_data = pd.read_csv('C:/Projects/brainspin/not_pushed/data_anonymized/assembled/top_stitched.csv')"
   ]
  },
  {
   "cell_type": "code",
   "execution_count": null,
   "id": "9c491f28-76bb-444d-9f91-2fd54b8000f7",
   "metadata": {},
   "outputs": [],
   "source": [
    "our_mri_data"
   ]
  },
  {
   "cell_type": "code",
   "execution_count": null,
   "id": "10829120-bbfd-4ab0-a03f-d77c926ccb53",
   "metadata": {},
   "outputs": [],
   "source": [
    "# mri_transposed = our_mri_data.T\n",
    "# mri_transposed.shape"
   ]
  },
  {
   "cell_type": "code",
   "execution_count": null,
   "id": "54276a6a-9fae-4af7-bb33-7a80d0fcfca2",
   "metadata": {},
   "outputs": [],
   "source": [
    "# top_transposed = our_top_data.T\n",
    "# top_transposed.shape"
   ]
  },
  {
   "cell_type": "markdown",
   "id": "7784e7df-415d-4f35-8eb9-7d5a999f718c",
   "metadata": {},
   "source": [
    "We only need a set of common columns, so now we must reshape to get common columns. We will have to begin by renaming columns the same thing."
   ]
  },
  {
   "cell_type": "code",
   "execution_count": null,
   "id": "5ebdaade-f523-4b6f-a008-68cca4509d26",
   "metadata": {},
   "outputs": [],
   "source": []
  },
  {
   "cell_type": "code",
   "execution_count": null,
   "id": "493a339c-50b6-4f8f-b46e-4a632d315b1e",
   "metadata": {},
   "outputs": [],
   "source": [
    "#shared_columns"
   ]
  },
  {
   "cell_type": "code",
   "execution_count": null,
   "id": "027e7f6d-8178-407e-963b-0d44d184a0e3",
   "metadata": {},
   "outputs": [],
   "source": [
    "our_mri_data.columns"
   ]
  },
  {
   "cell_type": "code",
   "execution_count": null,
   "id": "3d49262e-734e-4400-a273-4bb71ee8451b",
   "metadata": {},
   "outputs": [],
   "source": [
    "# for column in our_top_data.columns:\n",
    "#     print(column)"
   ]
  },
  {
   "cell_type": "code",
   "execution_count": null,
   "id": "eedab794-34be-4f4f-85bc-aae122eb4cc3",
   "metadata": {},
   "outputs": [],
   "source": [
    "our_top_data['GM_vol'] = our_top_data['GM_vol_Liter']\n",
    "our_top_data['WM_vol'] = our_top_data['WM_vol_Liter']\n",
    "our_top_data['CSF_vol'] = our_top_data['CSF_vol_Liter']\n",
    "our_top_data['GM_ICVRatio'] = our_top_data['GM_ICVRatio_ratio GM/ICV'] \n",
    "our_top_data['WMH_vol'] = our_top_data['GMWM_ICVRatio_ratio (GM+WM)/ICV']\n",
    "our_top_data['WMH_count'] = our_top_data['WMH_count_n lesions (integer)']\n",
    "our_top_data['DeepWM_B'] = our_top_data['DeepWM_B_SD/mean']\n",
    "our_top_data['DeepWM_L'] = our_top_data['DeepWM_L_SD/mean']\n",
    "our_top_data['DeepWM_L'] = our_top_data['DeepWM_R_SD/mean']\n",
    "our_top_data['ACA_B']= our_top_data['ACA_B_SD/mean']    \n",
    "our_top_data['ACA_L']= our_top_data['ACA_L_SD/mean']           \n",
    "our_top_data['ACA_R']= our_top_data['ACA_R_SD/mean']            \n",
    "our_top_data['MCA_B']= our_top_data['MCA_B_SD/mean']            "
   ]
  },
  {
   "cell_type": "code",
   "execution_count": null,
   "id": "ca486658-04c4-4ca5-93e1-43015004c3d1",
   "metadata": {},
   "outputs": [],
   "source": [
    "shared_columns = (\n",
    "        our_mri_data.columns.intersection(our_top_data.columns)).to_list()"
   ]
  },
  {
   "cell_type": "code",
   "execution_count": null,
   "id": "c430c46d-7563-4f41-aa57-949f5d3ed9e6",
   "metadata": {},
   "outputs": [],
   "source": [
    "shared_columns"
   ]
  },
  {
   "cell_type": "code",
   "execution_count": null,
   "id": "c38e4bd5-62b7-42b3-b2a3-4d311b4eefc2",
   "metadata": {},
   "outputs": [],
   "source": [
    "top_selection = our_top_data[shared_columns].drop(['Unnamed: 0','renumber'],axis=1)\n",
    "mri_selection = our_mri_data[shared_columns].drop(['Unnamed: 0','renumber'],axis=1)\n"
   ]
  },
  {
   "cell_type": "code",
   "execution_count": null,
   "id": "87ff3b37-4aac-4e18-9eae-a6849d90e9ed",
   "metadata": {},
   "outputs": [],
   "source": [
    "top_selection = top_selection.dropna(axis=0)\n",
    "mri_selection = mri_selection.dropna(axis=0)"
   ]
  },
  {
   "cell_type": "code",
   "execution_count": null,
   "id": "7971c206-a233-443d-88c5-58073e819394",
   "metadata": {},
   "outputs": [],
   "source": [
    "top_selection = top_selection.T\n",
    "mri_selection = mri_selection.T\n",
    "#mri_selection"
   ]
  },
  {
   "cell_type": "code",
   "execution_count": null,
   "id": "9d4b2415-8846-469a-97b7-1dd5bed46bb6",
   "metadata": {},
   "outputs": [],
   "source": [
    "mri_selection"
   ]
  },
  {
   "cell_type": "code",
   "execution_count": null,
   "id": "36b775a1-36ef-49b1-9807-f1fb8d6dbc00",
   "metadata": {},
   "outputs": [],
   "source": [
    "top_selection = top_selection.rename(columns={x:y for x,y in zip(top_selection.columns,range(len(mri_selection.columns),(len(top_selection.columns)+ len(mri_selection.columns))))})"
   ]
  },
  {
   "cell_type": "code",
   "execution_count": null,
   "id": "230f299c-62e3-47a0-b3b6-c6cd1b2d2b88",
   "metadata": {},
   "outputs": [],
   "source": [
    "both_together = pd.concat([ mri_selection, top_selection], axis=1, join=\"inner\")\n",
    "both_together"
   ]
  },
  {
   "cell_type": "code",
   "execution_count": null,
   "id": "c809bb31-665d-4588-bb67-2c2fce942e57",
   "metadata": {},
   "outputs": [],
   "source": [
    "# make sure there are no NaNs\n",
    "both_together.isna().sum().sum()"
   ]
  },
  {
   "cell_type": "code",
   "execution_count": null,
   "id": "6a224fd1-53a1-46a8-9055-3cbba5f7daab",
   "metadata": {},
   "outputs": [],
   "source": [
    "# save off csv\n",
    "both_together.to_csv('both_together.csv')"
   ]
  },
  {
   "cell_type": "code",
   "execution_count": null,
   "id": "852466e4-a9b8-450d-8a13-bfaaef3f14b8",
   "metadata": {},
   "outputs": [],
   "source": [
    "# make and save of csv of features only\n",
    "features_only = both_together[:12]\n",
    "features_only.to_csv('features_only.csv')"
   ]
  },
  {
   "cell_type": "code",
   "execution_count": null,
   "id": "fa640ace-2b0b-40ef-9733-e4743d97ee33",
   "metadata": {},
   "outputs": [],
   "source": [
    "features_only.T.columns"
   ]
  },
  {
   "cell_type": "markdown",
   "id": "c5087cbc-cd96-4350-9e00-40ed004f1f1e",
   "metadata": {},
   "source": [
    "So that will map to 0,1,2,3,4,5,6,7,8,9,10,11,"
   ]
  },
  {
   "cell_type": "code",
   "execution_count": null,
   "id": "b0ee442a-7403-4ac4-8d6a-341546d7b36f",
   "metadata": {},
   "outputs": [],
   "source": [
    "# neurocombat hates NaNs in the data, let's impute them , or better replace them with 1000"
   ]
  },
  {
   "cell_type": "code",
   "execution_count": null,
   "id": "1d5d69bb-c93d-470f-b3dc-06ce09742cae",
   "metadata": {},
   "outputs": [],
   "source": [
    "ft = features_only.reset_index()\n",
    "ft = ft.rename(columns={\"index\": \"A\"})\n",
    "ft = ft.drop(['A'], axis=1)\n",
    "ft = ft.dropna()"
   ]
  },
  {
   "cell_type": "code",
   "execution_count": null,
   "id": "84923cf8-2e32-4363-842f-2ea8d6c9804a",
   "metadata": {},
   "outputs": [],
   "source": [
    "bt= both_together.reset_index()\n",
    "bt = bt.rename(columns={\"index\": \"A\"})\n",
    "\n",
    "bt = bt.drop(['A'], axis=1)\n",
    "bt = bt.dropna()"
   ]
  },
  {
   "cell_type": "code",
   "execution_count": null,
   "id": "66037dae-45bd-4a58-b0d1-8e13e2adce6c",
   "metadata": {},
   "outputs": [],
   "source": [
    "bt"
   ]
  },
  {
   "cell_type": "code",
   "execution_count": null,
   "id": "64bb4a40-d52f-45f1-a25f-56b17d59b57d",
   "metadata": {},
   "outputs": [],
   "source": [
    "ft"
   ]
  },
  {
   "cell_type": "code",
   "execution_count": null,
   "id": "10acd3ca-a234-4fe6-8f38-32d76923bad4",
   "metadata": {},
   "outputs": [],
   "source": [
    "ft.to_csv('ft.csv')"
   ]
  },
  {
   "cell_type": "code",
   "execution_count": null,
   "id": "18220e3b-9e86-4e8b-bf12-cdad94c59909",
   "metadata": {},
   "outputs": [],
   "source": [
    "data = np.genfromtxt('ft.csv', delimiter=\",\", skip_header=1)\n",
    "data"
   ]
  },
  {
   "cell_type": "code",
   "execution_count": null,
   "id": "843b0c3c-d360-49cd-b34b-c345bba7c4ec",
   "metadata": {},
   "outputs": [],
   "source": [
    "# array_from_both_together = both_together.to_numpy()\n",
    "# data = array_from_both_together"
   ]
  },
  {
   "cell_type": "code",
   "execution_count": null,
   "id": "f62eb6c2-af85-413f-9809-e195632c6268",
   "metadata": {},
   "outputs": [],
   "source": [
    "data = data[:, 1:]"
   ]
  },
  {
   "cell_type": "code",
   "execution_count": null,
   "id": "cf7db3df-5227-41af-88e9-9af111c8baca",
   "metadata": {},
   "outputs": [],
   "source": [
    "data.shape"
   ]
  },
  {
   "cell_type": "code",
   "execution_count": null,
   "id": "3d728503-258b-4c79-93fc-1b760f14d6c3",
   "metadata": {},
   "outputs": [],
   "source": [
    "data"
   ]
  },
  {
   "cell_type": "code",
   "execution_count": null,
   "id": "8c6e5642-23d5-4b8e-b10b-46a5b74962c8",
   "metadata": {},
   "outputs": [],
   "source": [
    "# Specifying the batch (scanner variable) as well as a sex covariate to preserve:\n",
    "first_columns_as_one = [1] * len(mri_selection.columns)\n",
    "last_columns_as_two = [2] * len(top_selection.columns)\n",
    "covars = {'Batch':first_columns_as_one + last_columns_as_two,\n",
    "          'Sex':both_together.loc['Sex',:].values.tolist(),\n",
    "           'Age':both_together.loc['Age',:].values.tolist(),} \n",
    "covars = pd.DataFrame(covars) "
   ]
  },
  {
   "cell_type": "code",
   "execution_count": null,
   "id": "4de34a0c-64aa-4671-ad5c-d1c20dedf5d5",
   "metadata": {},
   "outputs": [],
   "source": []
  },
  {
   "cell_type": "code",
   "execution_count": null,
   "id": "96fe9352-be40-47a2-a66e-95ff937fc7d4",
   "metadata": {},
   "outputs": [],
   "source": [
    "#covars['Sex'] = covars['Sex'] + 1"
   ]
  },
  {
   "cell_type": "code",
   "execution_count": null,
   "id": "97a45ef0-cfb9-4e3e-8998-f74f7601a233",
   "metadata": {},
   "outputs": [],
   "source": [
    "covars"
   ]
  },
  {
   "cell_type": "code",
   "execution_count": null,
   "id": "e7c5c89b-a6f0-4fe9-9f73-531cdfb0d3ac",
   "metadata": {},
   "outputs": [],
   "source": [
    "# specifify sex as categorical\n",
    "categorical_cols = ['Sex']\n",
    "# To specify the name of the variable that encodes for the scanner/batch covariate:\n",
    "batch_col_mine = 'Batch'\n",
    "\n",
    "#Harmonization step:\n",
    "data_combat = neuroCombat(dat=data,\n",
    "    covars=covars,\n",
    "    batch_col=batch_col_mine,\n",
    "    categorical_cols=categorical_cols)[\"data\"]"
   ]
  },
  {
   "cell_type": "code",
   "execution_count": null,
   "id": "a3f390ff-c6ad-4048-9404-e98c3d572fd3",
   "metadata": {},
   "outputs": [],
   "source": [
    "data_combat"
   ]
  },
  {
   "cell_type": "code",
   "execution_count": null,
   "id": "4fe00de7-854d-4bd3-bd09-e597ce18193b",
   "metadata": {},
   "outputs": [],
   "source": [
    "data"
   ]
  },
  {
   "cell_type": "code",
   "execution_count": null,
   "id": "219d9bf9-4f4f-457c-b609-d4e6592d44a4",
   "metadata": {},
   "outputs": [],
   "source": [
    "data - data_combat"
   ]
  },
  {
   "cell_type": "markdown",
   "id": "77a6d1bd-5a49-4ec9-8074-24703619aa92",
   "metadata": {},
   "source": [
    "### So that is the absolute difference, but let;s look at a percent"
   ]
  },
  {
   "cell_type": "code",
   "execution_count": null,
   "id": "dd95596d-57e7-4123-ab98-c60982aca1e2",
   "metadata": {},
   "outputs": [],
   "source": [
    "changes_in_percent = (data - data_combat)/data"
   ]
  },
  {
   "cell_type": "code",
   "execution_count": null,
   "id": "019815d0-5b6d-46c8-9ee0-c42cc8999f53",
   "metadata": {},
   "outputs": [],
   "source": [
    "tweak = pd.DataFrame(changes_in_percent)\n",
    "tweak"
   ]
  },
  {
   "cell_type": "code",
   "execution_count": null,
   "id": "4e4b60a6-2ed7-472f-ae4f-5f31e91a19ca",
   "metadata": {},
   "outputs": [],
   "source": [
    "tweak_describe = tweak.describe()"
   ]
  },
  {
   "cell_type": "code",
   "execution_count": null,
   "id": "16231978-87a1-4ee1-a00c-dc275ce4704e",
   "metadata": {},
   "outputs": [],
   "source": [
    "maxes = tweak_describe.tail(1)"
   ]
  },
  {
   "cell_type": "code",
   "execution_count": null,
   "id": "e765749d-94e2-475f-9076-ddb779b32f13",
   "metadata": {},
   "outputs": [],
   "source": [
    "maxes.T.describe()"
   ]
  },
  {
   "cell_type": "code",
   "execution_count": null,
   "id": "ace0b6df-1555-419d-b8ab-4b61df3d3dcb",
   "metadata": {},
   "outputs": [],
   "source": [
    "# plt.imshow(tweak, cmap =\"RdYlBu\")\n",
    "# plt.colorbar()\n",
    "  "
   ]
  },
  {
   "cell_type": "code",
   "execution_count": null,
   "id": "6b08ed60-b99d-4aa5-ac71-65070100a4df",
   "metadata": {},
   "outputs": [],
   "source": []
  },
  {
   "cell_type": "code",
   "execution_count": null,
   "id": "c90eb5f6-d974-4ef9-8d7f-45841e6a0513",
   "metadata": {},
   "outputs": [],
   "source": [
    "print(type(both_together.T.columns.tolist()))"
   ]
  },
  {
   "cell_type": "markdown",
   "id": "b39a1462-2dd1-41db-a1ed-f843ebde0ab9",
   "metadata": {},
   "source": [
    "So essentially neurocombat makes a tiny tweak in the data, but the tweak is so small, we could say it recognizes there is no need for remapping the data...it would only change at max about 4% to any value, and in most cases it would change 1 or less percent."
   ]
  },
  {
   "cell_type": "markdown",
   "id": "893f87fb-90de-4cb4-8c76-0dbfe630f38d",
   "metadata": {},
   "source": [
    "# SUPER IMPORTANT: this notebook is not done. It does not have the ASL values. Before this cane be done data should be mapped into the ideal format, then we can easily have all thecorrect common columsn!"
   ]
  },
  {
   "cell_type": "code",
   "execution_count": null,
   "id": "f0a850fb-d7b2-4e70-ba53-4b307db9449a",
   "metadata": {},
   "outputs": [],
   "source": [
    "# rename combat_data\n",
    "data_combat_panda = pd.DataFrame(data_combat)\n",
    "data_combat_mri= data_combat_panda.loc[ :, :515]\n",
    "data_combat_top= data_combat_panda.loc[ :, 516:]\n",
    "data_combat_mri['type'] = features_only.T.columns.tolist()\n",
    "data_combat_top['type'] = features_only.T.columns.tolist()"
   ]
  },
  {
   "cell_type": "code",
   "execution_count": null,
   "id": "5b0e1104-3d6b-4012-a4d5-10a71f7e2f15",
   "metadata": {},
   "outputs": [],
   "source": [
    "\n",
    "data_combat_mri"
   ]
  },
  {
   "cell_type": "code",
   "execution_count": null,
   "id": "96fea252-1237-49b4-9c14-2db3f4684ff8",
   "metadata": {},
   "outputs": [],
   "source": [
    "data_combat_top"
   ]
  },
  {
   "cell_type": "code",
   "execution_count": null,
   "id": "4154f402-2259-484d-a8da-2515388c237e",
   "metadata": {},
   "outputs": [],
   "source": [
    "for df in [data_combat_top,data_combat_mri]:\n",
    "    # shift column 'type' to first position\n",
    "    first_column = df.pop('type')\n",
    "    # insert column using insert(position,column_name,first_column) function\n",
    "    df.insert(0, 'type', first_column)\n",
    "    "
   ]
  },
  {
   "cell_type": "code",
   "execution_count": null,
   "id": "5278eb87-3805-4407-ae35-f968b4f82bc4",
   "metadata": {},
   "outputs": [],
   "source": [
    "data_combat_top"
   ]
  },
  {
   "cell_type": "code",
   "execution_count": null,
   "id": "96c9f05f-31fa-415c-9f01-16207d56377f",
   "metadata": {},
   "outputs": [],
   "source": [
    "top_selection"
   ]
  },
  {
   "cell_type": "code",
   "execution_count": null,
   "id": "e98ebced-fb02-47a5-8675-ed7ab756ede4",
   "metadata": {},
   "outputs": [],
   "source": [
    "# violin plot of TOP\n",
    "complete_harmonised_nonharmonised_merged = complete_harmonised.append(complete_nonharmonised)\n",
    "\n",
    "sns.set_style(\"whitegrid\")\n",
    "sns.catplot(data = complete_harmonised_nonharmonised_merged, x = 'Harmonisation', y = \"TotalGM_B_CBF\", hue =\"Sex\", \n",
    "split=True, inner = 'quartile', kind = 'violin', \n",
    "col = 'Site', height = 5, aspect = 0.6)\n",
    "plt.ylim((-20,150))\n",
    "plt.show()"
   ]
  }
 ],
 "metadata": {
  "kernelspec": {
   "display_name": "Python 3 (ipykernel)",
   "language": "python",
   "name": "python3"
  },
  "language_info": {
   "codemirror_mode": {
    "name": "ipython",
    "version": 3
   },
   "file_extension": ".py",
   "mimetype": "text/x-python",
   "name": "python",
   "nbconvert_exporter": "python",
   "pygments_lexer": "ipython3",
   "version": "3.9.16"
  }
 },
 "nbformat": 4,
 "nbformat_minor": 5
}
