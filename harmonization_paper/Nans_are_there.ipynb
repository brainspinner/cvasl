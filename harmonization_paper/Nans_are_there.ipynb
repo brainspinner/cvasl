{
 "cells": [
  {
   "cell_type": "markdown",
   "id": "63b9527f-5bc9-43fe-a5ab-0603b13386c9",
   "metadata": {},
   "source": [
    "# Insight 46 and our experiments"
   ]
  },
  {
   "cell_type": "markdown",
   "id": "39733733-1e6c-4fa5-92eb-2c66d65a6b2c",
   "metadata": {},
   "source": [
    "First let's look at a typical file for our program. The TOP file I prepared and compare it. You will need to change the filepath."
   ]
  },
  {
   "cell_type": "code",
   "execution_count": null,
   "id": "90b8fe7f-4525-487d-9dee-5440f3940458",
   "metadata": {
    "tags": []
   },
   "outputs": [],
   "source": [
    "import os\n",
    "\n",
    "import pandas as pd\n",
    "import numpy as np"
   ]
  },
  {
   "cell_type": "code",
   "execution_count": null,
   "id": "67fffd09-89bf-46d1-b82f-088803022598",
   "metadata": {
    "tags": []
   },
   "outputs": [],
   "source": [
    "\n",
    "filepath= '../open_work/internal_results/cleaned_pvc2s/' # here change it to wherever you put the file \n",
    "filename_top = os.path.join(filepath,'TOP_pvc2c.csv') \n",
    "\n",
    "filename_insight46 = os.path.join(filepath,'Insight46_pvc2c.csv') \n",
    "# read in data\n",
    "TOP = pd.read_csv(filename_top)\n",
    "\n",
    "Insight46 = pd.read_csv(filename_insight46)\n",
    "# take extra column off\n",
    "TOP = TOP.drop(TOP.columns[0],axis=1)\n",
    "\n",
    "Insight46 = Insight46.drop(Insight46.columns[0],axis=1)"
   ]
  },
  {
   "cell_type": "code",
   "execution_count": null,
   "id": "e1010247-e1bb-485f-a651-74312efba6e9",
   "metadata": {},
   "outputs": [],
   "source": [
    "TOP.head(3)"
   ]
  },
  {
   "cell_type": "code",
   "execution_count": null,
   "id": "744968be-2db7-4e63-a975-bf7f2918a84b",
   "metadata": {
    "tags": []
   },
   "outputs": [],
   "source": [
    "Insight46.head(3)"
   ]
  },
  {
   "cell_type": "code",
   "execution_count": null,
   "id": "a291e710-942c-4568-86d2-b9fb62f5affa",
   "metadata": {
    "tags": []
   },
   "outputs": [],
   "source": [
    "## SO Nans don't matter in columns we don't use...let's see columns we will use. \n",
    "TOP.columns"
   ]
  },
  {
   "cell_type": "code",
   "execution_count": null,
   "id": "ef79bbb7-ff1e-418a-875e-d9c53fbf5ddc",
   "metadata": {
    "tags": []
   },
   "outputs": [],
   "source": [
    "coly = TOP.columns\n",
    "\n",
    "\n",
    "Insight46 = Insight46[coly]\n",
    "\n",
    "Insight46"
   ]
  },
  {
   "cell_type": "code",
   "execution_count": null,
   "id": "f2d53000-631b-4964-95de-4429b4b30c03",
   "metadata": {
    "tags": []
   },
   "outputs": [],
   "source": [
    "Insight46.isna().sum()"
   ]
  },
  {
   "cell_type": "markdown",
   "id": "d271576c-9604-4244-9c6e-7a96d1969b23",
   "metadata": {},
   "source": [
    "# Now just to prove a point"
   ]
  },
  {
   "cell_type": "code",
   "execution_count": null,
   "id": "49c57173-aff1-492e-b840-e4c0d6c97715",
   "metadata": {
    "tags": []
   },
   "outputs": [],
   "source": [
    "Insight46 = Insight46.dropna()\n",
    "Insight46.head(3)"
   ]
  }
 ],
 "metadata": {
  "kernelspec": {
   "display_name": "Python 3 (ipykernel)",
   "language": "python",
   "name": "python3"
  },
  "language_info": {
   "codemirror_mode": {
    "name": "ipython",
    "version": 3
   },
   "file_extension": ".py",
   "mimetype": "text/x-python",
   "name": "python",
   "nbconvert_exporter": "python",
   "pygments_lexer": "ipython3",
   "version": "3.9.18"
  }
 },
 "nbformat": 4,
 "nbformat_minor": 5
}
