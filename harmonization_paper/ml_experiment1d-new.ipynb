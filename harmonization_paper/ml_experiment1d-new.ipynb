{
 "cells": [
  {
   "cell_type": "markdown",
   "id": "0",
   "metadata": {},
   "source": [
    "# ML testing: experiment #1d- harmonized on Autocombat algorithm,\n",
    "\n",
    "This notebook involves testing for the MRI conference abstract. This notebook shows harmonized StrokeMRI and TOP based models, and how they perform on each other"
   ]
  },
  {
   "cell_type": "markdown",
   "id": "1",
   "metadata": {
    "tags": []
   },
   "source": [
    "### import libraries"
   ]
  },
  {
   "cell_type": "code",
   "execution_count": null,
   "id": "2",
   "metadata": {
    "tags": []
   },
   "outputs": [],
   "source": [
    "import os       # using operating system dependent functionality (folders)\n",
    "import sys\n",
    "import glob\n",
    "from functools import reduce\n",
    "\n",
    "import pandas as pd # data analysis and manipulation\n",
    "import numpy as np    # numerical computing (manipulating and performing operations on arrays of data)\n",
    "import matplotlib.pyplot as plt\n",
    "import ipywidgets as widgets\n",
    "from ipywidgets import interactive\n",
    "import seaborn as sns\n",
    "\n",
    "# ml stuff\n",
    "from sklearn.model_selection import train_test_split\n",
    "from sklearn.preprocessing import StandardScaler\n",
    "from sklearn.svm import SVC\n",
    "from sklearn.metrics import accuracy_score\n",
    "from sklearn.linear_model import LogisticRegression\n",
    "from sklearn.linear_model import LinearRegression\n",
    "from sklearn import linear_model\n",
    "from sklearn import tree\n",
    "from sklearn import metrics\n",
    "from sklearn.linear_model import SGDRegressor\n",
    "from sklearn.metrics import confusion_matrix\n",
    "from sklearn.metrics import mean_absolute_error\n",
    "from sklearn.neural_network import MLPRegressor\n",
    "from sklearn.svm import SVR\n",
    "from sklearn.linear_model import ElasticNetCV\n",
    "from sklearn.ensemble import ExtraTreesRegressor\n",
    "import joblib\n",
    "\n",
    "sys.path.insert(0, '../') # path to functions\n",
    "import cvasl.seperated as sep\n",
    "from cvasl.file_handler import Config\n",
    "import cvasl.harmony as har"
   ]
  },
  {
   "cell_type": "markdown",
   "id": "3",
   "metadata": {
    "tags": []
   },
   "source": [
    "### import data , clean and prep"
   ]
  },
  {
   "cell_type": "code",
   "execution_count": null,
   "id": "4",
   "metadata": {
    "tags": []
   },
   "outputs": [],
   "source": [
    "filepath_mri = '../open_work/internal_results/autocombat' \n",
    "filename_mri = os.path.join(filepath_mri,'autocom_harm_mri1.csv')\n",
    "\n",
    "filepath_top = '../open_work/internal_results/autocombat' \n",
    "\n",
    "filename_top = os.path.join(filepath_mri,'autocom_harm_top1.csv') \n",
    "TOP = pd.read_csv(filename_top)\n",
    "StrokeMRI = pd.read_csv(filename_mri)\n",
    "TOP = TOP.drop(TOP.columns[0],axis=1)\n",
    "StrokeMRI = StrokeMRI.drop(StrokeMRI.columns[0],axis=1)\n",
    "\n",
    "\n",
    "TOP.head(3)"
   ]
  },
  {
   "cell_type": "code",
   "execution_count": null,
   "id": "5",
   "metadata": {
    "tags": []
   },
   "outputs": [],
   "source": [
    "StrokeMRI.head(3)"
   ]
  },
  {
   "cell_type": "markdown",
   "id": "6",
   "metadata": {},
   "source": [
    "## choose whether to log columns"
   ]
  },
  {
   "cell_type": "code",
   "execution_count": null,
   "id": "7",
   "metadata": {
    "tags": []
   },
   "outputs": [],
   "source": [
    "# examine distributions visually\n",
    "possibilities = StrokeMRI.columns.to_list()\n",
    "def see_feature_on_two(a):\n",
    "    sns.displot(StrokeMRI, x= a, hue= 'sex'), plt.title('StrokeMRI')\n",
    "    sns.displot(TOP, x= a, hue= 'sex'), plt.title('TOP')\n",
    "    return a\n",
    "w = interactive(see_feature_on_two,\n",
    "                a=widgets.Dropdown(\n",
    "                    options= possibilities,\n",
    "                    value='age',\n",
    "                    description='feature',\n",
    "                    disabled=False))\n",
    "w"
   ]
  },
  {
   "cell_type": "code",
   "execution_count": null,
   "id": "8",
   "metadata": {
    "tags": []
   },
   "outputs": [],
   "source": [
    "data = StrokeMRI\n",
    "features_to_log = widgets.SelectMultiple(\n",
    "    options=data.columns.tolist(),\n",
    "    value=[],\n",
    "    description='Features',\n",
    "    disabled=False\n",
    ")\n",
    "features_to_log"
   ]
  },
  {
   "cell_type": "code",
   "execution_count": null,
   "id": "9",
   "metadata": {
    "tags": []
   },
   "outputs": [],
   "source": [
    "list(features_to_log.value)"
   ]
  },
  {
   "cell_type": "code",
   "execution_count": null,
   "id": "10",
   "metadata": {
    "tags": []
   },
   "outputs": [],
   "source": [
    "if len(features_to_log.value) == 0:\n",
    "    output_folder = '1d_no_log_outputs'\n",
    "else:\n",
    "    output_folder = '1d_loged_outputs'\n",
    "\n",
    "os.makedirs(output_folder, exist_ok=True)"
   ]
  },
  {
   "cell_type": "code",
   "execution_count": null,
   "id": "11",
   "metadata": {
    "tags": []
   },
   "outputs": [],
   "source": [
    "StrokeMRI = har.log_out_columns(StrokeMRI, list(features_to_log.value))\n",
    "TOP = har.log_out_columns(TOP, list(features_to_log.value))"
   ]
  },
  {
   "cell_type": "markdown",
   "id": "12",
   "metadata": {},
   "source": [
    "## add binned column on age"
   ]
  },
  {
   "cell_type": "code",
   "execution_count": null,
   "id": "13",
   "metadata": {
    "tags": []
   },
   "outputs": [],
   "source": [
    "!python --version"
   ]
  },
  {
   "cell_type": "code",
   "execution_count": null,
   "id": "14",
   "metadata": {
    "tags": []
   },
   "outputs": [],
   "source": [
    "StrokeMRI = sep.bin_dataset(StrokeMRI, 'age', num_bins=4, graph = True)\n",
    "TOP =  sep.bin_dataset(TOP, 'age', num_bins=4, graph = True)"
   ]
  },
  {
   "cell_type": "code",
   "execution_count": null,
   "id": "15",
   "metadata": {
    "tags": []
   },
   "outputs": [],
   "source": []
  },
  {
   "cell_type": "markdown",
   "id": "16",
   "metadata": {},
   "source": [
    "## Build ML models based on StrokeMRI"
   ]
  },
  {
   "cell_type": "code",
   "execution_count": null,
   "id": "17",
   "metadata": {
    "tags": []
   },
   "outputs": [],
   "source": [
    "ml_matrix = StrokeMRI.drop('participant_id', axis=1)\n",
    "X = ml_matrix.drop('age', axis =1)\n",
    "X = X.values\n",
    "X = X.astype('float')\n",
    "y = ml_matrix['age'].values\n",
    "y=y.astype('float')\n"
   ]
  },
  {
   "cell_type": "code",
   "execution_count": null,
   "id": "18",
   "metadata": {
    "tags": []
   },
   "outputs": [],
   "source": [
    "linr_k_frame, linr_y_frame, models = sep.stratified_one_category_shuffle_split('linear regression', 'autoharm_mri_linr', LinearRegression(), ml_matrix, X, y, printed=True)"
   ]
  },
  {
   "cell_type": "code",
   "execution_count": null,
   "id": "19",
   "metadata": {
    "tags": []
   },
   "outputs": [],
   "source": [
    "linr_k_frame"
   ]
  },
  {
   "cell_type": "code",
   "execution_count": null,
   "id": "20",
   "metadata": {
    "tags": []
   },
   "outputs": [],
   "source": [
    "linr_k_frame.to_csv(output_folder + '/autoharmonized_mri_linr_k_frame.csv')"
   ]
  },
  {
   "cell_type": "code",
   "execution_count": null,
   "id": "21",
   "metadata": {
    "tags": []
   },
   "outputs": [],
   "source": [
    "avg_linr = sep.avg_k_folds(linr_k_frame)\n",
    "avg_linr"
   ]
  },
  {
   "cell_type": "code",
   "execution_count": null,
   "id": "22",
   "metadata": {},
   "outputs": [],
   "source": [
    "linr_y_frame"
   ]
  },
  {
   "cell_type": "code",
   "execution_count": null,
   "id": "23",
   "metadata": {
    "tags": []
   },
   "outputs": [],
   "source": [
    "linr_y_frame.to_csv(output_folder +'/autoharmonized_mri_linr_y_frame.csv')"
   ]
  },
  {
   "cell_type": "code",
   "execution_count": null,
   "id": "24",
   "metadata": {
    "tags": []
   },
   "outputs": [],
   "source": [
    "linr = models[0]\n",
    "linr[0]"
   ]
  },
  {
   "cell_type": "code",
   "execution_count": null,
   "id": "25",
   "metadata": {
    "tags": []
   },
   "outputs": [],
   "source": [
    "#models"
   ]
  },
  {
   "cell_type": "code",
   "execution_count": null,
   "id": "26",
   "metadata": {},
   "outputs": [],
   "source": [
    "# check if model folder exists and if not , then create\n",
    "model_folder = 'result_models/'\n",
    "if not os.path.exists(output_folder + model_folder):\n",
    "    os.makedirs(output_folder + model_folder)"
   ]
  },
  {
   "cell_type": "code",
   "execution_count": null,
   "id": "27",
   "metadata": {
    "tags": []
   },
   "outputs": [],
   "source": [
    "## optional save models\n",
    "#joblib.dump(linr[0], ('../result_models/'+ 'autoharm_mri_linr0.sav'))\n",
    "#joblib.dump(linr[1], ('../result_models/'+ 'autoharm_mri_linr1.sav'))\n",
    "#joblib.dump(linr[2], ('../result_models/'+ 'autoharm_mri_linr2.sav'))\n",
    "#joblib.dump(linr[3], ('../result_models/'+ 'autoharm_mri_linr3.sav'))\n",
    "#joblib.dump(linr[4], ('../result_models/'+ 'autoharm_mri_linr4.sav'))"
   ]
  },
  {
   "cell_type": "code",
   "execution_count": null,
   "id": "28",
   "metadata": {
    "tags": []
   },
   "outputs": [],
   "source": [
    "llreg_k_frame, llreg_y_frame, models =  sep.stratified_one_category_shuffle_split('lasso regression', 'autoharm_mri_llreg',  linear_model.LassoLars(alpha=0.01), ml_matrix, X, y)\n",
    "llreg_k_frame"
   ]
  },
  {
   "cell_type": "code",
   "execution_count": null,
   "id": "29",
   "metadata": {},
   "outputs": [],
   "source": [
    "llreg_k_frame.to_csv(output_folder +'/autoharmonized_mri_llreg_k_frame.csv')"
   ]
  },
  {
   "cell_type": "code",
   "execution_count": null,
   "id": "30",
   "metadata": {
    "tags": []
   },
   "outputs": [],
   "source": [
    "avg_llreg = sep.avg_k_folds(llreg_k_frame)\n",
    "avg_llreg"
   ]
  },
  {
   "cell_type": "code",
   "execution_count": null,
   "id": "31",
   "metadata": {
    "tags": []
   },
   "outputs": [],
   "source": [
    "llreg_y_frame"
   ]
  },
  {
   "cell_type": "code",
   "execution_count": null,
   "id": "32",
   "metadata": {},
   "outputs": [],
   "source": [
    "llreg_y_frame.to_csv(output_folder +'/autoharmonized_mri_llreg_y_frame.csv')"
   ]
  },
  {
   "cell_type": "code",
   "execution_count": null,
   "id": "33",
   "metadata": {
    "tags": []
   },
   "outputs": [],
   "source": [
    "llreg = models[0]\n",
    "llreg[0]"
   ]
  },
  {
   "cell_type": "code",
   "execution_count": null,
   "id": "34",
   "metadata": {},
   "outputs": [],
   "source": [
    "## optional save models\n",
    "#joblib.dump(llreg[0], ('../result_models/'+ 'autoharm_mri_llreg0.sav'))\n",
    "#joblib.dump(llreg[1], ('../result_models/'+ 'autoharm_mri_llreg1.sav'))\n",
    "#joblib.dump(llreg[2], ('../result_models/'+ 'autoharm_mri_llreg2.sav'))\n",
    "#joblib.dump(llreg[3], ('../result_models/'+ 'autoharm_mri_llreg3.sav'))\n",
    "#joblib.dump(llreg[4], ('../result_models/'+ 'autoharm_mri_llreg4.sav'))"
   ]
  },
  {
   "cell_type": "code",
   "execution_count": null,
   "id": "35",
   "metadata": {
    "tags": []
   },
   "outputs": [],
   "source": [
    "dtree_k_frame, dtree_y_frame, models = sep.stratified_one_category_shuffle_split('decision tree', 'autoharm_mri_dtree',  tree.DecisionTreeRegressor(), ml_matrix, X, y)\n",
    "dtree_k_frame"
   ]
  },
  {
   "cell_type": "code",
   "execution_count": null,
   "id": "36",
   "metadata": {},
   "outputs": [],
   "source": [
    "dtree_k_frame.to_csv(output_folder +'/autoharmonized_mri_dtree_k_frame.csv')"
   ]
  },
  {
   "cell_type": "code",
   "execution_count": null,
   "id": "37",
   "metadata": {
    "tags": []
   },
   "outputs": [],
   "source": [
    "avg_dtree = sep.avg_k_folds(dtree_k_frame)\n",
    "avg_dtree"
   ]
  },
  {
   "cell_type": "code",
   "execution_count": null,
   "id": "38",
   "metadata": {
    "tags": []
   },
   "outputs": [],
   "source": [
    "dtree_y_frame"
   ]
  },
  {
   "cell_type": "code",
   "execution_count": null,
   "id": "39",
   "metadata": {},
   "outputs": [],
   "source": [
    "dtree_y_frame.to_csv(output_folder +'/autoharmonized_mri_dtree_y_frame.csv')"
   ]
  },
  {
   "cell_type": "code",
   "execution_count": null,
   "id": "40",
   "metadata": {
    "tags": []
   },
   "outputs": [],
   "source": [
    "dtree = models[0]\n",
    "dtree[0]"
   ]
  },
  {
   "cell_type": "code",
   "execution_count": null,
   "id": "41",
   "metadata": {
    "tags": []
   },
   "outputs": [],
   "source": [
    "regr_k_frame, regr_y_frame, models = sep.stratified_one_category_shuffle_split('MLP regression', 'autoharm_mri_regr',   MLPRegressor(random_state=1, max_iter=700), ml_matrix, X, y)\n",
    "regr_k_frame"
   ]
  },
  {
   "cell_type": "code",
   "execution_count": null,
   "id": "42",
   "metadata": {},
   "outputs": [],
   "source": [
    "regr_k_frame.to_csv(output_folder +'/autoharmonized_mri_regr_k_frame.csv')"
   ]
  },
  {
   "cell_type": "code",
   "execution_count": null,
   "id": "43",
   "metadata": {
    "tags": []
   },
   "outputs": [],
   "source": [
    "avg_regr = sep.avg_k_folds(regr_k_frame)\n",
    "avg_regr"
   ]
  },
  {
   "cell_type": "code",
   "execution_count": null,
   "id": "44",
   "metadata": {
    "tags": []
   },
   "outputs": [],
   "source": [
    "regr_y_frame"
   ]
  },
  {
   "cell_type": "code",
   "execution_count": null,
   "id": "45",
   "metadata": {},
   "outputs": [],
   "source": [
    "regr_y_frame.to_csv(output_folder +'/autoharmonized_mri_regr_y_frame.csv')"
   ]
  },
  {
   "cell_type": "code",
   "execution_count": null,
   "id": "46",
   "metadata": {
    "tags": []
   },
   "outputs": [],
   "source": [
    "regr = models[0]\n",
    "regr[0]"
   ]
  },
  {
   "cell_type": "markdown",
   "id": "47",
   "metadata": {},
   "source": [
    "### Note I'm not actually saving the mlp or svr models here because they are not the best performers. if neccesary this can be added"
   ]
  },
  {
   "cell_type": "code",
   "execution_count": null,
   "id": "48",
   "metadata": {
    "tags": []
   },
   "outputs": [],
   "source": [
    "svrp2_k_frame, svrp2_y_frame, models = sep.stratified_one_category_shuffle_split('support vector reg poly2', 'uautoharm_mri_svrp2',   SVR(C=1.0, kernel='poly', degree =2, epsilon=0.2), ml_matrix, X, y)\n",
    "svrp2_k_frame"
   ]
  },
  {
   "cell_type": "code",
   "execution_count": null,
   "id": "49",
   "metadata": {
    "tags": []
   },
   "outputs": [],
   "source": [
    "svrp2_k_frame.to_csv(output_folder +'/autoharmonized_mri_svrp2_k_frame.csv')"
   ]
  },
  {
   "cell_type": "code",
   "execution_count": null,
   "id": "50",
   "metadata": {
    "tags": []
   },
   "outputs": [],
   "source": [
    "avg_svrp2 = sep.avg_k_folds(svrp2_k_frame)\n",
    "avg_svrp2"
   ]
  },
  {
   "cell_type": "code",
   "execution_count": null,
   "id": "51",
   "metadata": {
    "tags": []
   },
   "outputs": [],
   "source": [
    "svrp2_y_frame"
   ]
  },
  {
   "cell_type": "code",
   "execution_count": null,
   "id": "52",
   "metadata": {
    "tags": []
   },
   "outputs": [],
   "source": [
    "svrp2_y_frame.to_csv(output_folder +'/autoharmonized_mrisvrp2_y_frame.csv')"
   ]
  },
  {
   "cell_type": "code",
   "execution_count": null,
   "id": "53",
   "metadata": {
    "tags": []
   },
   "outputs": [],
   "source": [
    "svrp2 = models[0]\n",
    "svrp2[0]"
   ]
  },
  {
   "cell_type": "code",
   "execution_count": null,
   "id": "54",
   "metadata": {
    "tags": []
   },
   "outputs": [],
   "source": [
    "eregr_k_frame, eregr_y_frame, models = sep.stratified_one_category_shuffle_split('elasticnetCV', 'autoharm_mix_eregr',  ElasticNetCV(cv=5, random_state=12), ml_matrix, X, y)\n",
    "eregr_k_frame"
   ]
  },
  {
   "cell_type": "code",
   "execution_count": null,
   "id": "55",
   "metadata": {},
   "outputs": [],
   "source": [
    "eregr_k_frame.to_csv(output_folder +'/autoharmonized_eregr_k_frame.csv')"
   ]
  },
  {
   "cell_type": "code",
   "execution_count": null,
   "id": "56",
   "metadata": {
    "tags": []
   },
   "outputs": [],
   "source": [
    "avg_eregr = sep.avg_k_folds(eregr_k_frame)\n",
    "avg_eregr"
   ]
  },
  {
   "cell_type": "code",
   "execution_count": null,
   "id": "57",
   "metadata": {
    "tags": []
   },
   "outputs": [],
   "source": [
    "eregr_y_frame"
   ]
  },
  {
   "cell_type": "code",
   "execution_count": null,
   "id": "58",
   "metadata": {
    "tags": []
   },
   "outputs": [],
   "source": [
    "eregr_y_frame.to_csv(output_folder +'/autoharmonized_mri_eregr_y_frame.csv')"
   ]
  },
  {
   "cell_type": "code",
   "execution_count": null,
   "id": "59",
   "metadata": {
    "tags": []
   },
   "outputs": [],
   "source": [
    "eregr = models[0]\n",
    "eregr[0]"
   ]
  },
  {
   "cell_type": "code",
   "execution_count": null,
   "id": "60",
   "metadata": {
    "tags": []
   },
   "outputs": [],
   "source": [
    "etreg_k_frame, etreg_y_frame, models = sep.stratified_one_category_shuffle_split('extra trees', 'autoharm_mri_etreg',  ExtraTreesRegressor(n_estimators=100, random_state=0), ml_matrix, X, y)\n",
    "etreg_k_frame"
   ]
  },
  {
   "cell_type": "code",
   "execution_count": null,
   "id": "61",
   "metadata": {},
   "outputs": [],
   "source": [
    "etreg_k_frame.to_csv(output_folder +'/autoharomized_etreg_k_frame.csv')"
   ]
  },
  {
   "cell_type": "code",
   "execution_count": null,
   "id": "62",
   "metadata": {
    "tags": []
   },
   "outputs": [],
   "source": [
    "avg_etreg = sep.avg_k_folds(etreg_k_frame)\n",
    "avg_etreg"
   ]
  },
  {
   "cell_type": "code",
   "execution_count": null,
   "id": "63",
   "metadata": {
    "tags": []
   },
   "outputs": [],
   "source": [
    "etreg_y_frame"
   ]
  },
  {
   "cell_type": "code",
   "execution_count": null,
   "id": "64",
   "metadata": {},
   "outputs": [],
   "source": [
    "etreg_y_frame.to_csv(output_folder +'/autoharmonized_etreg_y_frame.csv')"
   ]
  },
  {
   "cell_type": "code",
   "execution_count": null,
   "id": "65",
   "metadata": {
    "tags": []
   },
   "outputs": [],
   "source": [
    "etreg = models[0]\n",
    "etreg[0]"
   ]
  },
  {
   "cell_type": "code",
   "execution_count": null,
   "id": "66",
   "metadata": {},
   "outputs": [],
   "source": [
    "## optional save models\n",
    "#joblib.dump(etreg[0], ('../result_models/'+ 'autoharm_mri_etreg0.sav'))\n",
    "#joblib.dump(etreg[1], ('../result_models/'+ 'autoharm_mri_etreg1.sav'))\n",
    "#joblib.dump(etreg[2], ('../result_models/'+ 'autoharm_mri_etreg2.sav'))\n",
    "#joblib.dump(etreg[3], ('../result_models/'+ 'autoharm_mri_etreg3.sav'))\n",
    "#joblib.dump(etreg[4], ('../result_models/'+ 'autoharm_mri_etreg4.sav'))"
   ]
  },
  {
   "cell_type": "markdown",
   "id": "67",
   "metadata": {},
   "source": [
    "Show results ON AVERAGE for each model"
   ]
  },
  {
   "cell_type": "code",
   "execution_count": null,
   "id": "68",
   "metadata": {
    "tags": []
   },
   "outputs": [],
   "source": [
    "mri_based_autoharmonized_on_testmri =pd.concat([avg_linr,\n",
    "                   avg_llreg,\n",
    "                   avg_dtree,\n",
    "                   avg_regr,\n",
    "                   avg_svrp2,\n",
    "                   avg_eregr,\n",
    "                   avg_etreg],\n",
    "                  axis=0)\n",
    "mri_based_autoharmonized_on_testmri"
   ]
  },
  {
   "cell_type": "code",
   "execution_count": null,
   "id": "69",
   "metadata": {
    "tags": []
   },
   "outputs": [],
   "source": [
    "mri_based_autoharmonized_on_testmri.to_csv(output_folder + '/mri_based_autoharmonized_on_testmri_AVERAGES.csv')"
   ]
  },
  {
   "cell_type": "markdown",
   "id": "70",
   "metadata": {},
   "source": [
    "## Now we will build  models based on the whole auto-harmonized StrokeMRI dataset, and apply them to TOP. "
   ]
  },
  {
   "cell_type": "code",
   "execution_count": null,
   "id": "71",
   "metadata": {
    "tags": []
   },
   "outputs": [],
   "source": [
    "ml_matrix = StrokeMRI.drop('participant_id', axis=1)\n",
    "X = ml_matrix.drop('age', axis =1)\n",
    "X = X.values\n",
    "X = X.astype('float')\n",
    "y = ml_matrix['age'].values\n",
    "y=y.astype('float')\n"
   ]
  },
  {
   "cell_type": "code",
   "execution_count": null,
   "id": "72",
   "metadata": {
    "tags": []
   },
   "outputs": [],
   "source": [
    "# now we decide to do no test train split, rather take all\n",
    "X_train = X\n",
    "y_train = y"
   ]
  },
  {
   "cell_type": "code",
   "execution_count": null,
   "id": "73",
   "metadata": {
    "tags": []
   },
   "outputs": [],
   "source": [
    "MRIlinr = LinearRegression()\n",
    "MRIlinr.fit(X_train, y_train)"
   ]
  },
  {
   "cell_type": "code",
   "execution_count": null,
   "id": "74",
   "metadata": {
    "tags": []
   },
   "outputs": [],
   "source": [
    "MRIllreg = linear_model.LassoLars(alpha=0.01)\n",
    "MRIllreg.fit(X_train, y_train)"
   ]
  },
  {
   "cell_type": "code",
   "execution_count": null,
   "id": "75",
   "metadata": {
    "tags": []
   },
   "outputs": [],
   "source": [
    "MRIeregr = ElasticNetCV(cv=5, random_state=17)\n",
    "MRIeregr.fit(X_train, y_train)\n"
   ]
  },
  {
   "cell_type": "code",
   "execution_count": null,
   "id": "76",
   "metadata": {
    "tags": []
   },
   "outputs": [],
   "source": [
    "MRIetreg = ExtraTreesRegressor(n_estimators=100, random_state=0)\n",
    "MRIetreg.fit(X_train, y_train)"
   ]
  },
  {
   "cell_type": "code",
   "execution_count": null,
   "id": "77",
   "metadata": {},
   "outputs": [],
   "source": [
    "##  Save these four best models"
   ]
  },
  {
   "cell_type": "code",
   "execution_count": null,
   "id": "78",
   "metadata": {},
   "outputs": [],
   "source": []
  },
  {
   "cell_type": "code",
   "execution_count": null,
   "id": "79",
   "metadata": {},
   "outputs": [],
   "source": [
    "\n",
    "## optional save models\n",
    "#joblib.dump(MRIlinr, ('../result_models/' + 'autoharm_whole_mri_linr.sav'))\n",
    "#joblib.dump(MRIllreg, ('../result_models/'+ 'autoharm_whole_mri_llreg1.sav'))\n",
    "#joblib.dump(MRIeregr, ('../result_models/'+ 'autoharm_whole_mri_eregr3.sav'))\n",
    "#joblib.dump(MRIetreg, ('../result_models/'+ 'autoharm_whole_mri_etreg4.sav'))"
   ]
  },
  {
   "cell_type": "markdown",
   "id": "80",
   "metadata": {},
   "source": [
    "# Running whole MRI model over TOP dataset"
   ]
  },
  {
   "cell_type": "code",
   "execution_count": null,
   "id": "81",
   "metadata": {
    "tags": []
   },
   "outputs": [],
   "source": [
    "top_ml_matrix = TOP.drop('participant_id', axis=1)\n",
    "X_top = top_ml_matrix.drop('age', axis =1)\n",
    "X_top = X_top.values\n",
    "X_top = X_top.astype('float')\n",
    "y_top = top_ml_matrix['age'].values\n",
    "y_top=y_top.astype('float')"
   ]
  },
  {
   "cell_type": "code",
   "execution_count": null,
   "id": "82",
   "metadata": {
    "tags": []
   },
   "outputs": [],
   "source": [
    "X_top_test = X_top\n",
    "y_top_test = y_top\n"
   ]
  },
  {
   "cell_type": "code",
   "execution_count": null,
   "id": "83",
   "metadata": {
    "tags": []
   },
   "outputs": [],
   "source": [
    "y_top_pred = MRIlinr.predict(X_top_test)"
   ]
  },
  {
   "cell_type": "code",
   "execution_count": null,
   "id": "84",
   "metadata": {
    "tags": []
   },
   "outputs": [],
   "source": [
    "# print('R2 score Linear regression: %.3f' % linr.score(X_top_test,y_top_test))\n",
    "# print('Explained variance score: %.3f'  % metrics.explained_variance_score(y_top_test, y_top_pred))\n",
    "# print('The mean absolute error: %.3f' % mean_absolute_error(y_top_test, y_top_pred))"
   ]
  },
  {
   "cell_type": "code",
   "execution_count": null,
   "id": "85",
   "metadata": {
    "tags": []
   },
   "outputs": [],
   "source": [
    "data= [[\n",
    "    'linear regression',\n",
    "    'autoharm_whole_mri_linr.sav',\n",
    "    mean_absolute_error(y_top_test, y_top_pred),\n",
    "    MRIlinr.score(X_top_test,y_top_test),\n",
    "    metrics.explained_variance_score(y_top_test, y_top_pred)]]\n",
    "linr_results = pd.DataFrame(data, columns=['algorithm','file_name','mae', 'r2', 'explained_variance'])\n",
    "#linr_results"
   ]
  },
  {
   "cell_type": "code",
   "execution_count": null,
   "id": "86",
   "metadata": {
    "tags": []
   },
   "outputs": [],
   "source": [
    "linr_y_test = y_top_test\n",
    "linr_y_pred = y_top_pred\n",
    "linr_compare = pd.DataFrame(\n",
    "    {'y_test_real_age': linr_y_test,\n",
    "     'linr_y_pred_age': linr_y_pred,\n",
    "    })\n",
    "linr_compare = linr_compare.reset_index()\n",
    "linr_compare"
   ]
  },
  {
   "cell_type": "code",
   "execution_count": null,
   "id": "87",
   "metadata": {},
   "outputs": [],
   "source": [
    "linr_compare.to_csv(output_folder +'/whole_mri_linr_compare_on_top.csv')"
   ]
  },
  {
   "cell_type": "code",
   "execution_count": null,
   "id": "88",
   "metadata": {
    "tags": []
   },
   "outputs": [],
   "source": [
    "y_top_pred = MRIllreg.predict(X_top_test)"
   ]
  },
  {
   "cell_type": "code",
   "execution_count": null,
   "id": "89",
   "metadata": {
    "tags": []
   },
   "outputs": [],
   "source": [
    "data= [[\n",
    "    'lasso regression',\n",
    "    'autoharm_whole_mri_llreg.sav',\n",
    "    mean_absolute_error(y_top_test, y_top_pred),\n",
    "    MRIllreg.score(X_top_test,y_top_test),\n",
    "    metrics.explained_variance_score(y_top_test, y_top_pred)]]\n",
    "llreg_results = pd.DataFrame(data, columns=['algorithm','file_name','mae', 'r2', 'explained_variance'])\n",
    "llreg_results"
   ]
  },
  {
   "cell_type": "code",
   "execution_count": null,
   "id": "90",
   "metadata": {
    "tags": []
   },
   "outputs": [],
   "source": [
    "llreg_y_test = y_top_test\n",
    "llreg_y_pred = y_top_pred\n",
    "llreg_compare = pd.DataFrame(\n",
    "    {'y_test_real_age': llreg_y_test,\n",
    "     'linr_y_pred_age': llreg_y_pred,\n",
    "    })\n",
    "#llreg_compare = llreg_compare.reset_index()\n",
    "llreg_compare"
   ]
  },
  {
   "cell_type": "code",
   "execution_count": null,
   "id": "91",
   "metadata": {},
   "outputs": [],
   "source": [
    "llreg_compare.to_csv(output_folder +'/auto_whole_mri_llreg_compare_on_top.csv')"
   ]
  },
  {
   "cell_type": "code",
   "execution_count": null,
   "id": "92",
   "metadata": {
    "tags": []
   },
   "outputs": [],
   "source": [
    "y_top_pred = MRIeregr.predict(X_top_test)"
   ]
  },
  {
   "cell_type": "code",
   "execution_count": null,
   "id": "93",
   "metadata": {
    "tags": []
   },
   "outputs": [],
   "source": [
    "data= [[\n",
    "    'elasticnetCV',\n",
    "    'autoharm_whole_mri_linr.sav',\n",
    "    mean_absolute_error(y_top_test, y_top_pred),\n",
    "    MRIeregr.score(X_top_test,y_top_test),\n",
    "    metrics.explained_variance_score(y_top_test, y_top_pred)]]\n",
    "eregr_results = pd.DataFrame(data, columns=['algorithm','file_name','mae', 'r2', 'explained_variance'])\n",
    "#eregr_results"
   ]
  },
  {
   "cell_type": "code",
   "execution_count": null,
   "id": "94",
   "metadata": {
    "tags": []
   },
   "outputs": [],
   "source": [
    "eregr_y_test = y_top_test\n",
    "eregr_y_pred = y_top_pred\n",
    "eregr_compare = pd.DataFrame(\n",
    "    {'y_test_real_age': eregr_y_test,\n",
    "     'linr_y_pred_age': eregr_y_pred,\n",
    "    })\n",
    "#eregr_compare = eregr_compare.reset_index()\n",
    "eregr_compare"
   ]
  },
  {
   "cell_type": "code",
   "execution_count": null,
   "id": "95",
   "metadata": {},
   "outputs": [],
   "source": [
    "eregr_compare.to_csv(output_folder +'/auto_whole_mri_eregr_compare_on_top.csv')"
   ]
  },
  {
   "cell_type": "code",
   "execution_count": null,
   "id": "96",
   "metadata": {
    "tags": []
   },
   "outputs": [],
   "source": [
    "y_top_pred = MRIetreg.predict(X_top_test)"
   ]
  },
  {
   "cell_type": "code",
   "execution_count": null,
   "id": "97",
   "metadata": {
    "tags": []
   },
   "outputs": [],
   "source": [
    "data= [[\n",
    "    'extra trees',\n",
    "    'autoharm_mri_linr.sav',\n",
    "    mean_absolute_error(y_top_test, y_top_pred),\n",
    "    MRIetreg.score(X_top_test,y_top_test),\n",
    "    metrics.explained_variance_score(y_top_test, y_top_pred)]]\n",
    "etreg_results = pd.DataFrame(data, columns=['algorithm','file_name','mae', 'r2', 'explained_variance'])\n",
    "#etreg_results"
   ]
  },
  {
   "cell_type": "code",
   "execution_count": null,
   "id": "98",
   "metadata": {
    "tags": []
   },
   "outputs": [],
   "source": [
    "etreg_y_test = y_top_test\n",
    "etreg_y_pred = y_top_pred\n",
    "etreg_compare = pd.DataFrame(\n",
    "    {'y_test_real_age': etreg_y_test,\n",
    "     'linr_y_pred_age': etreg_y_pred,\n",
    "    })\n",
    "#etreg_compare = etreg_compare.reset_index()\n",
    "etreg_compare"
   ]
  },
  {
   "cell_type": "code",
   "execution_count": null,
   "id": "99",
   "metadata": {},
   "outputs": [],
   "source": [
    "etreg_compare.to_csv(output_folder +'/autowhole_mri_etreg_compare_on_top.csv')"
   ]
  },
  {
   "cell_type": "code",
   "execution_count": null,
   "id": "100",
   "metadata": {},
   "outputs": [],
   "source": [
    "mri_based_autoharmonized_on_top =pd.concat([linr_results,\n",
    "                   llreg_results,\n",
    "                   eregr_results,\n",
    "                  etreg_results],\n",
    "                  axis=0)\n",
    "mri_based_autoharmonized_on_top"
   ]
  },
  {
   "cell_type": "markdown",
   "id": "101",
   "metadata": {},
   "source": [
    "## Now we will run the exact opposite process.\n",
    "1. We will explore TOP based models via k-folded results, \n",
    "2. We will make a general unahrmonized TOP model (based off all TOP)\n",
    "3. We will apply the best of these model to the StrokeMRI dataset"
   ]
  },
  {
   "cell_type": "markdown",
   "id": "102",
   "metadata": {},
   "source": [
    "### Build ML models based on TOP"
   ]
  },
  {
   "cell_type": "code",
   "execution_count": null,
   "id": "103",
   "metadata": {
    "tags": []
   },
   "outputs": [],
   "source": [
    "ml_matrix = TOP.drop('participant_id', axis=1)\n",
    "X = ml_matrix.drop('age', axis =1)\n",
    "X = X.values\n",
    "X = X.astype('float')\n",
    "y = ml_matrix['age'].values\n",
    "y=y.astype('float')\n"
   ]
  },
  {
   "cell_type": "code",
   "execution_count": null,
   "id": "104",
   "metadata": {
    "tags": []
   },
   "outputs": [],
   "source": [
    "linr_k_frame, linr_y_frame, models = sep.stratified_one_category_shuffle_split('linear regression', 'autoharm_top_linr', LinearRegression(), ml_matrix, X, y)"
   ]
  },
  {
   "cell_type": "code",
   "execution_count": null,
   "id": "105",
   "metadata": {},
   "outputs": [],
   "source": [
    "linr_k_frame"
   ]
  },
  {
   "cell_type": "code",
   "execution_count": null,
   "id": "106",
   "metadata": {
    "tags": []
   },
   "outputs": [],
   "source": [
    "linr_k_frame.to_csv(output_folder +'/autoharmonized_top_linr_k_frame.csv')"
   ]
  },
  {
   "cell_type": "code",
   "execution_count": null,
   "id": "107",
   "metadata": {
    "tags": []
   },
   "outputs": [],
   "source": [
    "avg_linr = sep.avg_k_folds(linr_k_frame)\n",
    "avg_linr"
   ]
  },
  {
   "cell_type": "code",
   "execution_count": null,
   "id": "108",
   "metadata": {},
   "outputs": [],
   "source": [
    "linr_y_frame"
   ]
  },
  {
   "cell_type": "code",
   "execution_count": null,
   "id": "109",
   "metadata": {
    "tags": []
   },
   "outputs": [],
   "source": [
    "linr_y_frame.to_csv(output_folder +'/autoharmonized_top_linr_y_frame.csv')"
   ]
  },
  {
   "cell_type": "code",
   "execution_count": null,
   "id": "110",
   "metadata": {
    "tags": []
   },
   "outputs": [],
   "source": [
    "linr = models[0]\n",
    "linr[0]"
   ]
  },
  {
   "cell_type": "code",
   "execution_count": null,
   "id": "111",
   "metadata": {},
   "outputs": [],
   "source": [
    "# check if model folder exists and if not , then create\n",
    "model_folder = 'result_models/'\n",
    "if not os.path.exists(output_folder + model_folder):\n",
    "    os.makedirs(output_folder + model_folder)"
   ]
  },
  {
   "cell_type": "code",
   "execution_count": null,
   "id": "112",
   "metadata": {
    "tags": []
   },
   "outputs": [],
   "source": [
    "## optional save models\n",
    "#joblib.dump(linr[0], ('../result_models/'+ 'autoharm_top_linr0.sav'))\n",
    "#joblib.dump(linr[1], ('../result_models/'+ 'autoharm_top_linr1.sav'))\n",
    "#joblib.dump(linr[2], ('../result_models/'+ 'autoharm_top_linr2.sav'))\n",
    "#joblib.dump(linr[3], ('../result_models/'+ 'autoharm_top_linr3.sav'))\n",
    "#joblib.dump(linr[4], ('../result_models/'+ 'autoharm_top_linr4.sav'))"
   ]
  },
  {
   "cell_type": "code",
   "execution_count": null,
   "id": "113",
   "metadata": {
    "tags": []
   },
   "outputs": [],
   "source": [
    "llreg_k_frame, llreg_y_frame, models = sep.stratified_one_category_shuffle_split('lasso regression', 'autoharm_top_llreg',  linear_model.LassoLars(alpha=0.01), ml_matrix, X, y)\n",
    "llreg_k_frame"
   ]
  },
  {
   "cell_type": "code",
   "execution_count": null,
   "id": "114",
   "metadata": {},
   "outputs": [],
   "source": [
    "llreg_k_frame.to_csv(output_folder +'/autoharmonized_top_llreg_k_frame.csv')"
   ]
  },
  {
   "cell_type": "code",
   "execution_count": null,
   "id": "115",
   "metadata": {
    "tags": []
   },
   "outputs": [],
   "source": [
    "avg_llreg = sep.avg_k_folds(llreg_k_frame)\n",
    "avg_llreg"
   ]
  },
  {
   "cell_type": "code",
   "execution_count": null,
   "id": "116",
   "metadata": {
    "tags": []
   },
   "outputs": [],
   "source": [
    "llreg_y_frame"
   ]
  },
  {
   "cell_type": "code",
   "execution_count": null,
   "id": "117",
   "metadata": {},
   "outputs": [],
   "source": [
    "llreg_y_frame.to_csv(output_folder +'/autoharmonized_top_llreg_y_frame.csv')"
   ]
  },
  {
   "cell_type": "code",
   "execution_count": null,
   "id": "118",
   "metadata": {
    "tags": []
   },
   "outputs": [],
   "source": [
    "llreg = models[0]\n",
    "llreg[0]"
   ]
  },
  {
   "cell_type": "code",
   "execution_count": null,
   "id": "119",
   "metadata": {},
   "outputs": [],
   "source": [
    "## optional save models\n",
    "#joblib.dump(llreg[0], ('../result_models/'+ 'autoharm_top_llreg0.sav'))\n",
    "#joblib.dump(llreg[1], ('../result_models/'+ 'autoharm_top_llreg1.sav'))\n",
    "#joblib.dump(llreg[2], ('../result_models/'+ 'autoharm_top_llreg2.sav'))\n",
    "#joblib.dump(llreg[3], ('../result_models/'+ 'autoharm_top_llreg3.sav'))\n",
    "#joblib.dump(llreg[4], ('../result_models/'+ 'autoharm_top_llreg4.sav'))"
   ]
  },
  {
   "cell_type": "code",
   "execution_count": null,
   "id": "120",
   "metadata": {
    "tags": []
   },
   "outputs": [],
   "source": [
    "dtree_k_frame, dtree_y_frame, models = sep.stratified_one_category_shuffle_split('decision tree', 'autoharm_top_dtree',  tree.DecisionTreeRegressor(), ml_matrix, X, y)\n",
    "dtree_k_frame"
   ]
  },
  {
   "cell_type": "code",
   "execution_count": null,
   "id": "121",
   "metadata": {},
   "outputs": [],
   "source": [
    "dtree_k_frame.to_csv(output_folder +'/autoharmonized_top_dtree_k_frame.csv')"
   ]
  },
  {
   "cell_type": "code",
   "execution_count": null,
   "id": "122",
   "metadata": {
    "tags": []
   },
   "outputs": [],
   "source": [
    "avg_dtree = sep.avg_k_folds(dtree_k_frame)\n",
    "avg_dtree"
   ]
  },
  {
   "cell_type": "code",
   "execution_count": null,
   "id": "123",
   "metadata": {
    "tags": []
   },
   "outputs": [],
   "source": [
    "dtree_y_frame"
   ]
  },
  {
   "cell_type": "code",
   "execution_count": null,
   "id": "124",
   "metadata": {},
   "outputs": [],
   "source": [
    "dtree_y_frame.to_csv(output_folder +'/autoharmonized_top_dtree_y_frame.csv')"
   ]
  },
  {
   "cell_type": "code",
   "execution_count": null,
   "id": "125",
   "metadata": {
    "tags": []
   },
   "outputs": [],
   "source": [
    "dtree = models[0]\n",
    "dtree[0]"
   ]
  },
  {
   "cell_type": "code",
   "execution_count": null,
   "id": "126",
   "metadata": {
    "tags": []
   },
   "outputs": [],
   "source": [
    "regr_k_frame, regr_y_frame, models = sep.stratified_one_category_shuffle_split('MLP regression', 'autoharm_top_regr',   MLPRegressor(random_state=1, max_iter=700), ml_matrix, X, y)\n",
    "regr_k_frame"
   ]
  },
  {
   "cell_type": "code",
   "execution_count": null,
   "id": "127",
   "metadata": {},
   "outputs": [],
   "source": [
    "regr_k_frame.to_csv(output_folder +'/autoharmonized_top_regr_k_frame.csv')"
   ]
  },
  {
   "cell_type": "code",
   "execution_count": null,
   "id": "128",
   "metadata": {
    "tags": []
   },
   "outputs": [],
   "source": [
    "avg_regr = sep.avg_k_folds(regr_k_frame)\n",
    "avg_regr"
   ]
  },
  {
   "cell_type": "code",
   "execution_count": null,
   "id": "129",
   "metadata": {
    "tags": []
   },
   "outputs": [],
   "source": [
    "regr_y_frame"
   ]
  },
  {
   "cell_type": "code",
   "execution_count": null,
   "id": "130",
   "metadata": {},
   "outputs": [],
   "source": [
    "regr_y_frame.to_csv(output_folder +'/autoharmonized_top_regr_y_frame.csv')"
   ]
  },
  {
   "cell_type": "code",
   "execution_count": null,
   "id": "131",
   "metadata": {
    "tags": []
   },
   "outputs": [],
   "source": [
    "regr = models[0]\n",
    "regr[0]"
   ]
  },
  {
   "cell_type": "markdown",
   "id": "132",
   "metadata": {},
   "source": [
    "### Note I'm not actually saving the mlp or svr models here because they are not the best performers. if neccesary this can be added"
   ]
  },
  {
   "cell_type": "code",
   "execution_count": null,
   "id": "133",
   "metadata": {
    "tags": []
   },
   "outputs": [],
   "source": [
    "svrp2_k_frame, svrp2_y_frame, models = sep.stratified_one_category_shuffle_split('support vector reg poly2', 'autoharm_top_svrp2',   SVR(C=1.0, kernel='poly', degree =2, epsilon=0.2), ml_matrix, X, y)\n",
    "svrp2_k_frame"
   ]
  },
  {
   "cell_type": "code",
   "execution_count": null,
   "id": "134",
   "metadata": {
    "tags": []
   },
   "outputs": [],
   "source": [
    "svrp2_k_frame.to_csv(output_folder +'/autoharmonized_top_svrp2_k_frame.csv')"
   ]
  },
  {
   "cell_type": "code",
   "execution_count": null,
   "id": "135",
   "metadata": {
    "tags": []
   },
   "outputs": [],
   "source": [
    "avg_svrp2 = sep.avg_k_folds(svrp2_k_frame)\n",
    "avg_svrp2"
   ]
  },
  {
   "cell_type": "code",
   "execution_count": null,
   "id": "136",
   "metadata": {
    "tags": []
   },
   "outputs": [],
   "source": [
    "svrp2_y_frame"
   ]
  },
  {
   "cell_type": "code",
   "execution_count": null,
   "id": "137",
   "metadata": {
    "tags": []
   },
   "outputs": [],
   "source": [
    "svrp2_y_frame.to_csv(output_folder +'/autoharmonized_top_svrp2_y_frame.csv')"
   ]
  },
  {
   "cell_type": "code",
   "execution_count": null,
   "id": "138",
   "metadata": {
    "tags": []
   },
   "outputs": [],
   "source": [
    "svrp2 = models[0]\n",
    "svrp2[0]"
   ]
  },
  {
   "cell_type": "code",
   "execution_count": null,
   "id": "139",
   "metadata": {
    "tags": []
   },
   "outputs": [],
   "source": [
    "eregr_k_frame, eregr_y_frame, models = sep.stratified_one_category_shuffle_split('elasticnetCV', 'autoharm_top_eregr',  ElasticNetCV(cv=5, random_state=12), ml_matrix, X, y)\n",
    "eregr_k_frame"
   ]
  },
  {
   "cell_type": "code",
   "execution_count": null,
   "id": "140",
   "metadata": {},
   "outputs": [],
   "source": [
    "eregr_k_frame.to_csv(output_folder +'/autoharmonized_top_eregr_k_frame.csv')"
   ]
  },
  {
   "cell_type": "code",
   "execution_count": null,
   "id": "141",
   "metadata": {
    "tags": []
   },
   "outputs": [],
   "source": [
    "avg_eregr = sep.avg_k_folds(eregr_k_frame)\n",
    "avg_eregr"
   ]
  },
  {
   "cell_type": "code",
   "execution_count": null,
   "id": "142",
   "metadata": {
    "tags": []
   },
   "outputs": [],
   "source": [
    "eregr_y_frame"
   ]
  },
  {
   "cell_type": "code",
   "execution_count": null,
   "id": "143",
   "metadata": {
    "tags": []
   },
   "outputs": [],
   "source": [
    "eregr_y_frame.to_csv(output_folder +'/autoharmonized_top_eregr_y_frame.csv')"
   ]
  },
  {
   "cell_type": "code",
   "execution_count": null,
   "id": "144",
   "metadata": {
    "tags": []
   },
   "outputs": [],
   "source": [
    "eregr = models[0]\n",
    "eregr[0]"
   ]
  },
  {
   "cell_type": "code",
   "execution_count": null,
   "id": "145",
   "metadata": {
    "tags": []
   },
   "outputs": [],
   "source": [
    "etreg_k_frame, etreg_y_frame, models = sep.stratified_one_category_shuffle_split('extra trees', 'autoharm_top_etreg',  ExtraTreesRegressor(n_estimators=100, random_state=0), ml_matrix, X, y)\n",
    "etreg_k_frame"
   ]
  },
  {
   "cell_type": "code",
   "execution_count": null,
   "id": "146",
   "metadata": {},
   "outputs": [],
   "source": [
    "etreg_k_frame.to_csv(output_folder +'/unharomized_top_etreg_k_frame.csv')"
   ]
  },
  {
   "cell_type": "code",
   "execution_count": null,
   "id": "147",
   "metadata": {
    "tags": []
   },
   "outputs": [],
   "source": [
    "avg_etreg = sep.avg_k_folds(etreg_k_frame)\n",
    "avg_etreg"
   ]
  },
  {
   "cell_type": "code",
   "execution_count": null,
   "id": "148",
   "metadata": {
    "tags": []
   },
   "outputs": [],
   "source": [
    "etreg_y_frame"
   ]
  },
  {
   "cell_type": "code",
   "execution_count": null,
   "id": "149",
   "metadata": {},
   "outputs": [],
   "source": [
    "etreg_y_frame.to_csv(output_folder +'/autoharmonized_top_etreg_y_frame.csv')"
   ]
  },
  {
   "cell_type": "code",
   "execution_count": null,
   "id": "150",
   "metadata": {
    "tags": []
   },
   "outputs": [],
   "source": [
    "etreg = models[0]\n",
    "etreg[0]"
   ]
  },
  {
   "cell_type": "code",
   "execution_count": null,
   "id": "151",
   "metadata": {},
   "outputs": [],
   "source": [
    "## optional save models\n",
    "#joblib.dump(etreg[0], ('../result_models/'+ 'autoharm_top_etreg0.sav'))\n",
    "#joblib.dump(etreg[1], ('../result_models/'+ 'autoharm_top_etreg1.sav'))\n",
    "#joblib.dump(etreg[2], ('../result_models/'+ 'autoharm_top_etreg2.sav'))\n",
    "#joblib.dump(etreg[3], ('../result_models/'+ 'autoharm_top_etreg3.sav'))\n",
    "#joblib.dump(etreg[4], ('../result_models/'+ 'autoharm_top_etreg4.sav'))"
   ]
  },
  {
   "cell_type": "markdown",
   "id": "152",
   "metadata": {},
   "source": [
    "Show results ON AVERAGE for each model"
   ]
  },
  {
   "cell_type": "code",
   "execution_count": null,
   "id": "153",
   "metadata": {
    "tags": []
   },
   "outputs": [],
   "source": [
    "top_based_autoharmonized_on_testtop =pd.concat([avg_linr,\n",
    "                   avg_llreg,\n",
    "                   avg_dtree,\n",
    "                   avg_regr,\n",
    "                   avg_svrp2,\n",
    "                   avg_eregr,\n",
    "                   avg_etreg],\n",
    "                  axis=0)\n",
    "top_based_autoharmonized_on_testtop"
   ]
  },
  {
   "cell_type": "code",
   "execution_count": null,
   "id": "154",
   "metadata": {
    "tags": []
   },
   "outputs": [],
   "source": [
    "top_based_autoharmonized_on_testtop.to_csv(output_folder + '/top_based_autoharmonized_on_testtop_AVERAGES.csv')"
   ]
  },
  {
   "cell_type": "markdown",
   "id": "155",
   "metadata": {},
   "source": [
    "## Now we will build  models based on the whole autoharmonized StrokeTOP dataset, and apply them to StrokeMRI. "
   ]
  },
  {
   "cell_type": "code",
   "execution_count": null,
   "id": "156",
   "metadata": {},
   "outputs": [],
   "source": []
  },
  {
   "cell_type": "code",
   "execution_count": null,
   "id": "157",
   "metadata": {
    "tags": []
   },
   "outputs": [],
   "source": [
    "ml_matrix = TOP.drop('participant_id', axis=1)\n",
    "X = ml_matrix.drop('age', axis =1)\n",
    "X = X.values\n",
    "X = X.astype('float')\n",
    "y = ml_matrix['age'].values\n",
    "y=y.astype('float')"
   ]
  },
  {
   "cell_type": "code",
   "execution_count": null,
   "id": "158",
   "metadata": {
    "tags": []
   },
   "outputs": [],
   "source": [
    "# now we decide to do no test train split, rather take all\n",
    "X_train = X\n",
    "y_train = y"
   ]
  },
  {
   "cell_type": "code",
   "execution_count": null,
   "id": "159",
   "metadata": {
    "tags": []
   },
   "outputs": [],
   "source": [
    "TOPlinr = LinearRegression()\n",
    "TOPlinr.fit(X_train, y_train)"
   ]
  },
  {
   "cell_type": "code",
   "execution_count": null,
   "id": "160",
   "metadata": {
    "tags": []
   },
   "outputs": [],
   "source": [
    "TOPllreg = linear_model.LassoLars(alpha=0.01)\n",
    "TOPllreg.fit(X_train, y_train)"
   ]
  },
  {
   "cell_type": "code",
   "execution_count": null,
   "id": "161",
   "metadata": {
    "tags": []
   },
   "outputs": [],
   "source": [
    "TOPeregr = ElasticNetCV(cv=5, random_state=17)\n",
    "TOPeregr.fit(X_train, y_train)\n"
   ]
  },
  {
   "cell_type": "code",
   "execution_count": null,
   "id": "162",
   "metadata": {
    "tags": []
   },
   "outputs": [],
   "source": [
    "TOPetreg = ExtraTreesRegressor(n_estimators=100, random_state=0)\n",
    "TOPetreg.fit(X_train, y_train)"
   ]
  },
  {
   "cell_type": "code",
   "execution_count": null,
   "id": "163",
   "metadata": {},
   "outputs": [],
   "source": [
    "##  Save these four best models"
   ]
  },
  {
   "cell_type": "code",
   "execution_count": null,
   "id": "164",
   "metadata": {},
   "outputs": [],
   "source": [
    "## optional save models\n",
    "#joblib.dump(TOPlinr, ('../result_models/' + 'autoharm_whole_top_linr.sav'))\n",
    "#joblib.dump(TOPllreg, ('../result_models/'+ 'autoharm_whole_top_llreg1.sav'))\n",
    "#joblib.dump(TOPeregr, ('../result_models/'+ 'autoharm_whole_top_eregr3.sav'))\n",
    "#joblib.dump(TOPetreg, ('../result_models/'+ 'autoharm_whole_top_etreg4.sav'))"
   ]
  },
  {
   "cell_type": "markdown",
   "id": "165",
   "metadata": {},
   "source": [
    "# Running whole TOP model over MRI dataset"
   ]
  },
  {
   "cell_type": "code",
   "execution_count": null,
   "id": "166",
   "metadata": {
    "tags": []
   },
   "outputs": [],
   "source": [
    "mri_ml_matrix = StrokeMRI.drop('participant_id', axis=1)\n",
    "X_mri = mri_ml_matrix.drop('age', axis =1)\n",
    "X_mri = X_mri.values\n",
    "X_mri = X_mri.astype('float')\n",
    "y_mri = mri_ml_matrix['age'].values\n",
    "y_mri= y_mri.astype('float')"
   ]
  },
  {
   "cell_type": "code",
   "execution_count": null,
   "id": "167",
   "metadata": {
    "tags": []
   },
   "outputs": [],
   "source": [
    "X_mri_test = X_mri\n",
    "y_mri_test = y_mri\n"
   ]
  },
  {
   "cell_type": "code",
   "execution_count": null,
   "id": "168",
   "metadata": {
    "tags": []
   },
   "outputs": [],
   "source": [
    "y_mri_pred = TOPlinr.predict(X_mri_test)"
   ]
  },
  {
   "cell_type": "code",
   "execution_count": null,
   "id": "169",
   "metadata": {
    "tags": []
   },
   "outputs": [],
   "source": [
    "data= [[\n",
    "    'linear regression',\n",
    "    'autoharm_whole_top_linr.sav',\n",
    "    mean_absolute_error(y_mri_test, y_mri_pred),\n",
    "    TOPlinr.score(X_mri_test,y_mri_test),\n",
    "    metrics.explained_variance_score(y_mri_test, y_mri_pred)]]\n",
    "linr_results = pd.DataFrame(data, columns=['algorithm','file_name','mae', 'r2', 'explained_variance'])\n",
    "#linr_results"
   ]
  },
  {
   "cell_type": "code",
   "execution_count": null,
   "id": "170",
   "metadata": {
    "tags": []
   },
   "outputs": [],
   "source": [
    "linr_y_test = y_mri_test\n",
    "linr_y_pred = y_mri_pred\n",
    "linr_compare = pd.DataFrame(\n",
    "    {'y_test_real_age': linr_y_test,\n",
    "     'linr_y_pred_age': linr_y_pred,\n",
    "    })\n",
    "linr_compare = linr_compare.reset_index()\n",
    "linr_compare"
   ]
  },
  {
   "cell_type": "code",
   "execution_count": null,
   "id": "171",
   "metadata": {},
   "outputs": [],
   "source": [
    "linr_compare.to_csv(output_folder +'/autowhole_top_linr_compare_on_mti.csv')"
   ]
  },
  {
   "cell_type": "code",
   "execution_count": null,
   "id": "172",
   "metadata": {
    "tags": []
   },
   "outputs": [],
   "source": [
    "y_mri_pred = TOPllreg.predict(X_mri_test)"
   ]
  },
  {
   "cell_type": "code",
   "execution_count": null,
   "id": "173",
   "metadata": {
    "tags": []
   },
   "outputs": [],
   "source": [
    "data= [[\n",
    "    'lasso regression',\n",
    "    'autoharm_whole_top_llreg.sav',\n",
    "    mean_absolute_error(y_mri_test, y_mri_pred),\n",
    "    TOPllreg.score(X_mri_test,y_mri_test),\n",
    "    metrics.explained_variance_score(y_mri_test, y_mri_pred)]]\n",
    "llreg_results = pd.DataFrame(data, columns=['algorithm','file_name','mae', 'r2', 'explained_variance'])\n",
    "llreg_results"
   ]
  },
  {
   "cell_type": "code",
   "execution_count": null,
   "id": "174",
   "metadata": {
    "tags": []
   },
   "outputs": [],
   "source": [
    "llreg_y_test = y_mri_test\n",
    "llreg_y_pred = y_mri_pred\n",
    "llreg_compare = pd.DataFrame(\n",
    "    {'y_test_real_age': llreg_y_test,\n",
    "     'linr_y_pred_age': llreg_y_pred,\n",
    "    })\n",
    "#llreg_compare = llreg_compare.reset_index()\n",
    "llreg_compare"
   ]
  },
  {
   "cell_type": "code",
   "execution_count": null,
   "id": "175",
   "metadata": {},
   "outputs": [],
   "source": [
    "llreg_compare.to_csv(output_folder +'/autowhole_top_llreg_compare_on_mri.csv')"
   ]
  },
  {
   "cell_type": "code",
   "execution_count": null,
   "id": "176",
   "metadata": {
    "tags": []
   },
   "outputs": [],
   "source": [
    "y_mri_pred = TOPeregr.predict(X_mri_test)"
   ]
  },
  {
   "cell_type": "code",
   "execution_count": null,
   "id": "177",
   "metadata": {
    "tags": []
   },
   "outputs": [],
   "source": [
    "data= [[\n",
    "    'elasticnetCV',\n",
    "    'autoharm_whole_top_linr.sav',\n",
    "    mean_absolute_error(y_mri_test, y_mri_pred),\n",
    "    TOPeregr.score(X_mri_test,y_mri_test),\n",
    "    metrics.explained_variance_score(y_mri_test, y_mri_pred)]]\n",
    "eregr_results = pd.DataFrame(data, columns=['algorithm','file_name','mae', 'r2', 'explained_variance'])\n",
    "#eregr_results"
   ]
  },
  {
   "cell_type": "code",
   "execution_count": null,
   "id": "178",
   "metadata": {
    "tags": []
   },
   "outputs": [],
   "source": [
    "eregr_y_test = y_mri_test\n",
    "eregr_y_pred = y_mri_pred\n",
    "eregr_compare = pd.DataFrame(\n",
    "    {'y_test_real_age': eregr_y_test,\n",
    "     'linr_y_pred_age': eregr_y_pred,\n",
    "    })\n",
    "eregr_compare"
   ]
  },
  {
   "cell_type": "code",
   "execution_count": null,
   "id": "179",
   "metadata": {},
   "outputs": [],
   "source": [
    "eregr_compare.to_csv(output_folder +'/autowhole_top_eregr_compare_on_mri.csv')"
   ]
  },
  {
   "cell_type": "code",
   "execution_count": null,
   "id": "180",
   "metadata": {
    "tags": []
   },
   "outputs": [],
   "source": [
    "y_mri_pred = TOPetreg.predict(X_mri_test)"
   ]
  },
  {
   "cell_type": "code",
   "execution_count": null,
   "id": "181",
   "metadata": {
    "tags": []
   },
   "outputs": [],
   "source": [
    "data= [[\n",
    "    'extra trees',\n",
    "    'autoharm_mri_linr.sav',\n",
    "    mean_absolute_error(y_mri_test, y_mri_pred),\n",
    "    TOPetreg.score(X_mri_test,y_mri_test),\n",
    "    metrics.explained_variance_score(y_mri_test, y_mri_pred)]]\n",
    "etreg_results = pd.DataFrame(data, columns=['algorithm','file_name','mae', 'r2', 'explained_variance'])\n",
    "#etreg_results"
   ]
  },
  {
   "cell_type": "code",
   "execution_count": null,
   "id": "182",
   "metadata": {
    "tags": []
   },
   "outputs": [],
   "source": [
    "etreg_y_test = y_mri_test\n",
    "etreg_y_pred = y_mri_pred\n",
    "etreg_compare = pd.DataFrame(\n",
    "    {'y_test_real_age': etreg_y_test,\n",
    "     'linr_y_pred_age': etreg_y_pred,\n",
    "    })\n",
    "#etreg_compare = etreg_compare.reset_index()\n",
    "etreg_compare"
   ]
  },
  {
   "cell_type": "code",
   "execution_count": null,
   "id": "183",
   "metadata": {},
   "outputs": [],
   "source": [
    "etreg_compare.to_csv(output_folder +'/autowhole_top_etreg_compare_on_mri.csv')"
   ]
  },
  {
   "cell_type": "markdown",
   "id": "184",
   "metadata": {},
   "source": [
    "compile csvs of results"
   ]
  },
  {
   "cell_type": "code",
   "execution_count": null,
   "id": "185",
   "metadata": {},
   "outputs": [],
   "source": [
    "top_based_autoharmonized_on_mri =pd.concat([linr_results,\n",
    "                   llreg_results,\n",
    "                   eregr_results,\n",
    "                  etreg_results],\n",
    "                  axis=0)\n",
    "top_based_autoharmonized_on_mri"
   ]
  },
  {
   "cell_type": "code",
   "execution_count": null,
   "id": "186",
   "metadata": {
    "tags": []
   },
   "outputs": [],
   "source": [
    "top_based_autoharmonized_on_mri.to_csv(output_folder +'/autowhole_top_based_autoharmonized_on_mri.csv')"
   ]
  },
  {
   "cell_type": "code",
   "execution_count": null,
   "id": "187",
   "metadata": {},
   "outputs": [],
   "source": []
  }
 ],
 "metadata": {
  "kernelspec": {
   "display_name": "Python 3 (ipykernel)",
   "language": "python",
   "name": "python3"
  },
  "language_info": {
   "codemirror_mode": {
    "name": "ipython",
    "version": 3
   },
   "file_extension": ".py",
   "mimetype": "text/x-python",
   "name": "python",
   "nbconvert_exporter": "python",
   "pygments_lexer": "ipython3",
   "version": "3.9.18"
  }
 },
 "nbformat": 4,
 "nbformat_minor": 5
}
