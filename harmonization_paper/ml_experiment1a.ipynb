{
 "cells": [
  {
   "cell_type": "markdown",
   "id": "17c2670f-473c-4541-ad14-b8c9ab69460a",
   "metadata": {},
   "source": [
    "# ML testing: experiment #1- unharmonized\n",
    "\n",
    "This notebook involves testing for the MRI conference abstract. This notebook shows unharmonized StrokeMRI and TOP based models, and how they perform on each other"
   ]
  },
  {
   "cell_type": "markdown",
   "id": "8ce48aa5-f972-4526-9147-b1cf9dd2d520",
   "metadata": {
    "tags": []
   },
   "source": [
    "### import libraries"
   ]
  },
  {
   "cell_type": "code",
   "execution_count": null,
   "id": "e9e6bc02-836a-4ce0-9372-4d68955c2255",
   "metadata": {
    "tags": []
   },
   "outputs": [],
   "source": [
    "import os       # using operating system dependent functionality (folders)\n",
    "import sys\n",
    "import glob\n",
    "from functools import reduce\n",
    "\n",
    "import pandas as pd # data analysis and manipulation\n",
    "import numpy as np    # numerical computing (manipulating and performing operations on arrays of data)\n",
    "import matplotlib.pyplot as plt\n",
    "import ipywidgets as widgets\n",
    "from ipywidgets import interactive\n",
    "import seaborn as sns\n",
    "\n",
    "# ml stuff\n",
    "from sklearn.model_selection import train_test_split\n",
    "from sklearn.preprocessing import StandardScaler\n",
    "from sklearn.svm import SVC\n",
    "from sklearn.metrics import accuracy_score\n",
    "from sklearn.linear_model import LogisticRegression\n",
    "from sklearn.linear_model import LinearRegression\n",
    "from sklearn import linear_model\n",
    "from sklearn import tree\n",
    "from sklearn import metrics\n",
    "from sklearn.linear_model import SGDRegressor\n",
    "from sklearn.metrics import confusion_matrix\n",
    "from sklearn.metrics import mean_absolute_error\n",
    "#from sklearn.neighbors import KNeighborsClassifier\n",
    "from sklearn.neural_network import MLPRegressor\n",
    "from sklearn.svm import SVR\n",
    "from sklearn.linear_model import ElasticNetCV\n",
    "from sklearn.ensemble import ExtraTreesRegressor\n",
    "import joblib\n",
    "\n",
    "sys.path.insert(0, '../') # path to functions\n",
    "import cvasl.seperated as sep\n",
    "from cvasl.file_handler import Config\n",
    "import cvasl.harmony as har"
   ]
  },
  {
   "cell_type": "markdown",
   "id": "4e33d332-690f-4eaa-88ab-cebccdd592b4",
   "metadata": {
    "tags": []
   },
   "source": [
    "### import data , put sex numerical"
   ]
  },
  {
   "cell_type": "code",
   "execution_count": null,
   "id": "29a6a194-66b6-4990-bf3f-cccbb953321a",
   "metadata": {
    "tags": []
   },
   "outputs": [],
   "source": [
    "filepath_mri = '../open_work/internal_results/cleaned_pvc2s/' \n",
    "filename_mri = os.path.join(filepath_mri,'StrokeMRI_pvc2c.csv') \n",
    "filepath_top = '../open_work/internal_results/cleaned_pvc2s/' \n",
    "filename_top = os.path.join(filepath_top,'TOP_pvc2c.csv') \n",
    "TOP = pd.read_csv(filename_top)\n",
    "StrokeMRI = pd.read_csv(filename_mri)\n",
    "TOP = TOP.drop(TOP.columns[0],axis=1)\n",
    "StrokeMRI = StrokeMRI.drop(StrokeMRI.columns[0],axis=1)\n",
    "\n",
    "# Now we need to flip the sex back to numbers for a correlation\n",
    "sex_mapping = {'F':0,'M':1}\n",
    "TOP = TOP.assign(sex = TOP.sex.map(sex_mapping))\n",
    "StrokeMRI = StrokeMRI.assign(sex = StrokeMRI.sex.map(sex_mapping))\n",
    "TOP.head(3)"
   ]
  },
  {
   "cell_type": "code",
   "execution_count": null,
   "id": "29d4dd0e-6015-4979-a51b-2f0594fba3cb",
   "metadata": {
    "tags": []
   },
   "outputs": [],
   "source": [
    "StrokeMRI.head(3)"
   ]
  },
  {
   "cell_type": "markdown",
   "id": "ed0273f6-0409-4e26-8ce5-e7b653e37a83",
   "metadata": {},
   "source": [
    "## choose whether to log columns"
   ]
  },
  {
   "cell_type": "code",
   "execution_count": null,
   "id": "5b1edf0a-b0df-491a-97ac-08282d86672d",
   "metadata": {
    "tags": []
   },
   "outputs": [],
   "source": [
    "# examine distributions visually\n",
    "possibilities = StrokeMRI.columns.to_list()\n",
    "def see_feature_on_two(a):\n",
    "    sns.displot(StrokeMRI, x= a, hue= 'sex'), plt.title('StrokeMRI')\n",
    "    sns.displot(TOP, x= a, hue= 'sex'), plt.title('TOP')\n",
    "    return a\n",
    "w = interactive(see_feature_on_two,\n",
    "                a=widgets.Dropdown(\n",
    "                    options= possibilities,\n",
    "                    value='age',\n",
    "                    description='feature',\n",
    "                    disabled=False))\n",
    "w"
   ]
  },
  {
   "cell_type": "code",
   "execution_count": null,
   "id": "1623801f-b4ce-44df-8e9f-7792564ab5ae",
   "metadata": {
    "tags": []
   },
   "outputs": [],
   "source": [
    "data = StrokeMRI\n",
    "features_to_log = widgets.SelectMultiple(\n",
    "    options=data.columns.tolist(),\n",
    "    value=[],\n",
    "    description='Features',\n",
    "    disabled=False\n",
    ")\n",
    "features_to_log"
   ]
  },
  {
   "cell_type": "code",
   "execution_count": null,
   "id": "2ef2d849-8023-4796-8144-885e61916d62",
   "metadata": {
    "tags": []
   },
   "outputs": [],
   "source": [
    "list(features_to_log.value)"
   ]
  },
  {
   "cell_type": "code",
   "execution_count": null,
   "id": "fa49865b-24d9-467b-b3b3-7fd131337773",
   "metadata": {
    "tags": []
   },
   "outputs": [],
   "source": [
    "StrokeMRI = har.log_out_columns(StrokeMRI, list(features_to_log.value))\n",
    "TOP = har.log_out_columns(TOP, list(features_to_log.value))"
   ]
  },
  {
   "cell_type": "markdown",
   "id": "783772ea-407d-41a3-ab94-86ed4d35030c",
   "metadata": {},
   "source": [
    "## add binned column on age"
   ]
  },
  {
   "cell_type": "code",
   "execution_count": null,
   "id": "e3d4311a-9eac-480b-adbd-2dd8e2c4733e",
   "metadata": {
    "tags": []
   },
   "outputs": [],
   "source": [
    "StrokeMRI = har.bin_dataset(StrokeMRI, 'age', num_bins=4, graph = True)\n",
    "TOP =  har.bin_dataset(TOP, 'age', num_bins=4, graph = True)\n",
    "TOP.columns"
   ]
  },
  {
   "cell_type": "code",
   "execution_count": null,
   "id": "9878a36e-fd02-4f2c-96eb-8bf7e7bf17de",
   "metadata": {
    "tags": []
   },
   "outputs": [],
   "source": [
    "StrokeMRI[['age','binned']].sort_values(by='age')\n",
    "#loc[StrokeMRI['binned'] == 3]"
   ]
  },
  {
   "cell_type": "code",
   "execution_count": null,
   "id": "4f0d1aa9-9247-4ecc-8809-ee831f0e71a7",
   "metadata": {
    "tags": []
   },
   "outputs": [],
   "source": [
    "StrokeMRI.head(3)"
   ]
  },
  {
   "cell_type": "code",
   "execution_count": null,
   "id": "7007db12-4510-4b41-a259-deceb02bdc4c",
   "metadata": {
    "tags": []
   },
   "outputs": [],
   "source": [
    "StrokeMRI.isna().sum()"
   ]
  },
  {
   "cell_type": "code",
   "execution_count": null,
   "id": "0e37475d-02db-4a67-8a12-17fce086a9dd",
   "metadata": {},
   "outputs": [],
   "source": [
    "## need definitioin for stiff binning and choice"
   ]
  },
  {
   "cell_type": "code",
   "execution_count": null,
   "id": "b3b41897-662c-41ce-9d33-838290ce0912",
   "metadata": {
    "tags": []
   },
   "outputs": [],
   "source": [
    "# def static_bin_age(dataframe):\n",
    "#     dataframe['static_bin_age'] = 0\n",
    "#     dataframe.loc[dataframe['age'] > 40]['static_bin_age'] = 1\n",
    "#     #dataframe['static_bin_age']= 0\n",
    "#     return dataframe\n",
    "    \n",
    "    \n",
    "# StrokeMRI = static_bin_age(StrokeMRI)\n",
    "# TOP =  static_bin_age(TOP)\n",
    "# TOP"
   ]
  },
  {
   "cell_type": "markdown",
   "id": "c761d603-d738-4cf7-81d0-6e85d995bac0",
   "metadata": {},
   "source": [
    "## Build ML models based on StrokeMRI"
   ]
  },
  {
   "cell_type": "code",
   "execution_count": null,
   "id": "b62c8355-3372-4d8c-af41-a9485113b0dd",
   "metadata": {
    "tags": []
   },
   "outputs": [],
   "source": [
    "ml_matrix = StrokeMRI.drop('participant_id', axis=1)\n",
    "X = ml_matrix.drop('age', axis =1)\n",
    "X = X.values\n",
    "X = X.astype('float')\n",
    "y = ml_matrix['age'].values\n",
    "y=y.astype('float')\n"
   ]
  },
  {
   "cell_type": "code",
   "execution_count": null,
   "id": "a5fadd93-9a3a-47c2-b3bd-5c7dc054804f",
   "metadata": {
    "tags": []
   },
   "outputs": [],
   "source": [
    "linr_k_frame, linr_y_frame, models = sep.stratified_one_category_shuffle_split('linear regression', 'unharm_mri_linr', LinearRegression(), ml_matrix, X, y, printed=True)"
   ]
  },
  {
   "cell_type": "code",
   "execution_count": null,
   "id": "68b55928-35f9-4e4b-8628-bc167cdb6e88",
   "metadata": {
    "tags": []
   },
   "outputs": [],
   "source": [
    "linr_k_frame"
   ]
  },
  {
   "cell_type": "code",
   "execution_count": null,
   "id": "b8506d3f-4c5e-4174-9849-56b8bd5f7a9c",
   "metadata": {
    "tags": []
   },
   "outputs": [],
   "source": [
    "linr_k_frame.to_csv('unharmonized_mri_linr_k_frame.csv')"
   ]
  },
  {
   "cell_type": "code",
   "execution_count": null,
   "id": "b438ae2a-b66d-4d26-b379-b9f6378b703a",
   "metadata": {
    "tags": []
   },
   "outputs": [],
   "source": [
    "avg_linr = sep.avg_k_folds(linr_k_frame)\n",
    "avg_linr"
   ]
  },
  {
   "cell_type": "code",
   "execution_count": null,
   "id": "cc070a73-3794-40da-9feb-8201cff99996",
   "metadata": {},
   "outputs": [],
   "source": [
    "linr_y_frame"
   ]
  },
  {
   "cell_type": "code",
   "execution_count": null,
   "id": "eeec7baa-b00b-478e-8d7d-a6ff24c6fd3e",
   "metadata": {
    "tags": []
   },
   "outputs": [],
   "source": [
    "linr_y_frame.to_csv('unharmonized_mri_linr_y_frame.csv')"
   ]
  },
  {
   "cell_type": "code",
   "execution_count": null,
   "id": "30941bb3-c7d1-4e0d-8372-63194cef8f6c",
   "metadata": {
    "tags": []
   },
   "outputs": [],
   "source": [
    "linr = models[0]\n",
    "linr[0]"
   ]
  },
  {
   "cell_type": "code",
   "execution_count": null,
   "id": "ca63b245-260b-46c7-8fd2-084bde9766e3",
   "metadata": {
    "tags": []
   },
   "outputs": [],
   "source": [
    "#models"
   ]
  },
  {
   "cell_type": "code",
   "execution_count": null,
   "id": "5a2029b1-6758-4f63-9f69-37ae9b4b53a4",
   "metadata": {},
   "outputs": [],
   "source": [
    "# check if model folder exists and if not , then create\n",
    "model_folder = '../result_models/'\n",
    "if not os.path.exists(model_folder):\n",
    "    os.makedirs(model_folder)"
   ]
  },
  {
   "cell_type": "code",
   "execution_count": null,
   "id": "38457549-93e9-40f5-9b61-106ac0867bb2",
   "metadata": {
    "tags": []
   },
   "outputs": [],
   "source": [
    "## optional save models\n",
    "#joblib.dump(linr[0], ('../result_models/'+ 'unharm_mri_linr0.sav'))\n",
    "#joblib.dump(linr[1], ('../result_models/'+ 'unharm_mri_linr1.sav'))\n",
    "#joblib.dump(linr[2], ('../result_models/'+ 'unharm_mri_linr2.sav'))\n",
    "#joblib.dump(linr[3], ('../result_models/'+ 'unharm_mri_linr3.sav'))\n",
    "#joblib.dump(linr[4], ('../result_models/'+ 'unharm_mri_linr4.sav'))"
   ]
  },
  {
   "cell_type": "code",
   "execution_count": null,
   "id": "137600f9-503d-4477-b0b9-2bcd4e24d131",
   "metadata": {},
   "outputs": [],
   "source": [
    "# llreg_k_frame, llreg_y_frame, models = sep.frame_a_model_sex_split('lasso regression', 'unharm_mri_llreg',  linear_model.LassoLars(alpha=0.01), ml_matrix, X, y)\n",
    "# llreg_k_frame"
   ]
  },
  {
   "cell_type": "code",
   "execution_count": null,
   "id": "2fd550f0-6b41-4c28-8945-0e86f237cdd3",
   "metadata": {
    "tags": []
   },
   "outputs": [],
   "source": [
    "llreg_k_frame, llreg_y_frame, models =  sep.stratified_one_category_shuffle_split('lasso regression', 'unharm_mri_llreg',  linear_model.LassoLars(alpha=0.01), ml_matrix, X, y)\n",
    "llreg_k_frame"
   ]
  },
  {
   "cell_type": "code",
   "execution_count": null,
   "id": "5e1638e5-57bc-447f-94f2-b5f9c631f5f9",
   "metadata": {},
   "outputs": [],
   "source": [
    "llreg_k_frame.to_csv('unharmonized_mri_llreg_k_frame.csv')"
   ]
  },
  {
   "cell_type": "code",
   "execution_count": null,
   "id": "677564bc-7d69-4961-a7e4-563117cf9999",
   "metadata": {
    "tags": []
   },
   "outputs": [],
   "source": [
    "avg_llreg = sep.avg_k_folds(llreg_k_frame)\n",
    "avg_llreg"
   ]
  },
  {
   "cell_type": "code",
   "execution_count": null,
   "id": "16b37956-2e32-4c2b-bb26-956c6951dd54",
   "metadata": {
    "tags": []
   },
   "outputs": [],
   "source": [
    "llreg_y_frame"
   ]
  },
  {
   "cell_type": "code",
   "execution_count": null,
   "id": "ab60d46f-4d45-4a1f-af21-e05e4d33928b",
   "metadata": {},
   "outputs": [],
   "source": [
    "llreg_y_frame.to_csv('unharmonized_mri_llreg_y_frame.csv')"
   ]
  },
  {
   "cell_type": "code",
   "execution_count": null,
   "id": "145e276b-3be5-49bd-969c-2b9ed9dddece",
   "metadata": {
    "tags": []
   },
   "outputs": [],
   "source": [
    "llreg = models[0]\n",
    "llreg[0]"
   ]
  },
  {
   "cell_type": "code",
   "execution_count": null,
   "id": "ea0576e1-178d-4be7-abe3-1f67f3e02e52",
   "metadata": {},
   "outputs": [],
   "source": [
    "## optional save models\n",
    "#joblib.dump(llreg[0], ('../result_models/'+ 'unharm_mri_llreg0.sav'))\n",
    "#joblib.dump(llreg[1], ('../result_models/'+ 'unharm_mri_llreg1.sav'))\n",
    "#joblib.dump(llreg[2], ('../result_models/'+ 'unharm_mri_llreg2.sav'))\n",
    "#joblib.dump(llreg[3], ('../result_models/'+ 'unharm_mri_llreg3.sav'))\n",
    "#joblib.dump(llreg[4], ('../result_models/'+ 'unharm_mri_llreg4.sav'))"
   ]
  },
  {
   "cell_type": "code",
   "execution_count": null,
   "id": "0599ec3d-1885-4f70-9416-2621433da782",
   "metadata": {
    "tags": []
   },
   "outputs": [],
   "source": [
    "dtree_k_frame, dtree_y_frame, models = sep.stratified_one_category_shuffle_split('decision tree', 'unharm_mri_dtree',  tree.DecisionTreeRegressor(), ml_matrix, X, y)\n",
    "dtree_k_frame"
   ]
  },
  {
   "cell_type": "code",
   "execution_count": null,
   "id": "091a9366-e436-4bb0-b883-e0d522f510c5",
   "metadata": {},
   "outputs": [],
   "source": [
    "dtree_k_frame.to_csv('unharmonized_mri_dtree_k_frame.csv')"
   ]
  },
  {
   "cell_type": "code",
   "execution_count": null,
   "id": "ca644340-de30-41a8-8018-db9f5b8c36d5",
   "metadata": {
    "tags": []
   },
   "outputs": [],
   "source": [
    "avg_dtree = sep.avg_k_folds(dtree_k_frame)\n",
    "avg_dtree"
   ]
  },
  {
   "cell_type": "code",
   "execution_count": null,
   "id": "778f2a66-3cbe-424d-8cf0-1e0f74e576af",
   "metadata": {
    "tags": []
   },
   "outputs": [],
   "source": [
    "dtree_y_frame"
   ]
  },
  {
   "cell_type": "code",
   "execution_count": null,
   "id": "aaf6bac8-011b-4386-a269-c518b9ed6d24",
   "metadata": {},
   "outputs": [],
   "source": [
    "dtree_y_frame.to_csv('unharmonized_mri_dtree_y_frame.csv')"
   ]
  },
  {
   "cell_type": "code",
   "execution_count": null,
   "id": "5b70d456-593f-4385-bd67-a42edfe850e0",
   "metadata": {
    "tags": []
   },
   "outputs": [],
   "source": [
    "dtree = models[0]\n",
    "dtree[0]"
   ]
  },
  {
   "cell_type": "code",
   "execution_count": null,
   "id": "71e691b9-4b7b-446b-84d8-1f4ce5ae4a08",
   "metadata": {
    "tags": []
   },
   "outputs": [],
   "source": [
    "regr_k_frame, regr_y_frame, models = sep.stratified_one_category_shuffle_split('MLP regression', 'unharm_mri_regr',   MLPRegressor(random_state=1, max_iter=700), ml_matrix, X, y)\n",
    "regr_k_frame"
   ]
  },
  {
   "cell_type": "code",
   "execution_count": null,
   "id": "768c40b2-ae7e-47c8-9f41-219c59911af3",
   "metadata": {},
   "outputs": [],
   "source": [
    "regr_k_frame.to_csv('unharmonized_mri_regr_k_frame.csv')"
   ]
  },
  {
   "cell_type": "code",
   "execution_count": null,
   "id": "9f0bdbe6-c986-4ec9-bc24-b49ead575431",
   "metadata": {
    "tags": []
   },
   "outputs": [],
   "source": [
    "avg_regr = sep.avg_k_folds(regr_k_frame)\n",
    "avg_regr"
   ]
  },
  {
   "cell_type": "code",
   "execution_count": null,
   "id": "849643ac-d25a-46a8-bba2-a0538a7a81eb",
   "metadata": {
    "tags": []
   },
   "outputs": [],
   "source": [
    "regr_y_frame"
   ]
  },
  {
   "cell_type": "code",
   "execution_count": null,
   "id": "0aaea4dc-1cb7-4216-8244-8dfb937dff87",
   "metadata": {},
   "outputs": [],
   "source": [
    "regr_y_frame.to_csv('unharmonized_mri_regr_y_frame.csv')"
   ]
  },
  {
   "cell_type": "code",
   "execution_count": null,
   "id": "f79b5801-370f-45bd-b584-7392de04e995",
   "metadata": {
    "tags": []
   },
   "outputs": [],
   "source": [
    "regr = models[0]\n",
    "regr[0]"
   ]
  },
  {
   "cell_type": "markdown",
   "id": "31fbc11a-3260-40f9-8bdd-cc68b52e2f30",
   "metadata": {},
   "source": [
    "### Note I'm not actually saving the mlp or svr models here because they are not the best performers. if neccesary this can be added"
   ]
  },
  {
   "cell_type": "code",
   "execution_count": null,
   "id": "c91cc8da-cbfc-4887-863d-8ad46abdaab3",
   "metadata": {
    "tags": []
   },
   "outputs": [],
   "source": [
    "svrp2_k_frame, svrp2_y_frame, models = sep.stratified_one_category_shuffle_split('support vector reg poly2', 'unharm_mri_svrp2',   SVR(C=1.0, kernel='poly', degree =2, epsilon=0.2), ml_matrix, X, y)\n",
    "svrp2_k_frame"
   ]
  },
  {
   "cell_type": "code",
   "execution_count": null,
   "id": "9dc22122-3d64-4d25-baca-8555510438ea",
   "metadata": {
    "tags": []
   },
   "outputs": [],
   "source": [
    "svrp2_k_frame.to_csv('unharmonized_mri_svrp2_k_frame.csv')"
   ]
  },
  {
   "cell_type": "code",
   "execution_count": null,
   "id": "055b3896-0bbc-4434-98d8-6b27419f5404",
   "metadata": {
    "tags": []
   },
   "outputs": [],
   "source": [
    "avg_svrp2 = sep.avg_k_folds(svrp2_k_frame)\n",
    "avg_svrp2"
   ]
  },
  {
   "cell_type": "code",
   "execution_count": null,
   "id": "96e59196-4faa-4817-80e3-66c8a022efdd",
   "metadata": {
    "tags": []
   },
   "outputs": [],
   "source": [
    "svrp2_y_frame"
   ]
  },
  {
   "cell_type": "code",
   "execution_count": null,
   "id": "d276f7f1-d799-470d-92c8-9dc9a41e5169",
   "metadata": {
    "tags": []
   },
   "outputs": [],
   "source": [
    "svrp2_y_frame.to_csv('unharmonized_mrisvrp2_y_frame.csv')"
   ]
  },
  {
   "cell_type": "code",
   "execution_count": null,
   "id": "a3baf5e9-27a5-46bc-822b-bd6a480958e4",
   "metadata": {
    "tags": []
   },
   "outputs": [],
   "source": [
    "svrp2 = models[0]\n",
    "svrp2[0]"
   ]
  },
  {
   "cell_type": "code",
   "execution_count": null,
   "id": "2a471418-62fe-488a-9bb6-ff2f9c6a0af0",
   "metadata": {
    "tags": []
   },
   "outputs": [],
   "source": [
    "eregr_k_frame, eregr_y_frame, models = sep.stratified_one_category_shuffle_split('elasticnetCV', 'unharm_mix_eregr',  ElasticNetCV(cv=5, random_state=12), ml_matrix, X, y)\n",
    "eregr_k_frame"
   ]
  },
  {
   "cell_type": "code",
   "execution_count": null,
   "id": "6326422f-09d9-4a36-9cfb-e54f3e23e75e",
   "metadata": {},
   "outputs": [],
   "source": [
    "eregr_k_frame.to_csv('unharmonized_eregr_k_frame.csv')"
   ]
  },
  {
   "cell_type": "code",
   "execution_count": null,
   "id": "06e0c0c7-6ed3-4e31-b2c9-744a04243b1a",
   "metadata": {
    "tags": []
   },
   "outputs": [],
   "source": [
    "avg_eregr = sep.avg_k_folds(eregr_k_frame)\n",
    "avg_eregr"
   ]
  },
  {
   "cell_type": "code",
   "execution_count": null,
   "id": "55292d3c-377f-439a-ac56-3d1e41d547d7",
   "metadata": {
    "tags": []
   },
   "outputs": [],
   "source": [
    "eregr_y_frame"
   ]
  },
  {
   "cell_type": "code",
   "execution_count": null,
   "id": "45413ec7-2c95-4643-b391-938405b54653",
   "metadata": {
    "tags": []
   },
   "outputs": [],
   "source": [
    "eregr_y_frame.to_csv('unharmonized_mri_eregr_y_frame.csv')"
   ]
  },
  {
   "cell_type": "code",
   "execution_count": null,
   "id": "eacc0e2e-f9b9-443a-bc82-b06a5327b391",
   "metadata": {
    "tags": []
   },
   "outputs": [],
   "source": [
    "eregr = models[0]\n",
    "eregr[0]"
   ]
  },
  {
   "cell_type": "code",
   "execution_count": null,
   "id": "c84cf3b8-df5a-40fc-ae32-95351b328193",
   "metadata": {
    "tags": []
   },
   "outputs": [],
   "source": [
    "etreg_k_frame, etreg_y_frame, models = sep.stratified_one_category_shuffle_split('extra trees', 'unharm_mri_etreg',  ExtraTreesRegressor(n_estimators=100, random_state=0), ml_matrix, X, y)\n",
    "etreg_k_frame"
   ]
  },
  {
   "cell_type": "code",
   "execution_count": null,
   "id": "3064afd4-17a2-4cfd-9d6b-84a18cd61e48",
   "metadata": {},
   "outputs": [],
   "source": [
    "etreg_k_frame.to_csv('unharomized_etreg_k_frame.csv')"
   ]
  },
  {
   "cell_type": "code",
   "execution_count": null,
   "id": "e515bf94-3e1f-4b1b-a5d1-a149fdbe4855",
   "metadata": {
    "tags": []
   },
   "outputs": [],
   "source": [
    "avg_etreg = sep.avg_k_folds(etreg_k_frame)\n",
    "avg_etreg"
   ]
  },
  {
   "cell_type": "code",
   "execution_count": null,
   "id": "15a28a6e-5c05-44a8-88a0-0715b4b71679",
   "metadata": {
    "tags": []
   },
   "outputs": [],
   "source": [
    "etreg_y_frame"
   ]
  },
  {
   "cell_type": "code",
   "execution_count": null,
   "id": "fd44626a-42f5-4297-81da-b4de8001134e",
   "metadata": {},
   "outputs": [],
   "source": [
    "etreg_y_frame.to_csv('unharmonized_etreg_y_frame.csv')"
   ]
  },
  {
   "cell_type": "code",
   "execution_count": null,
   "id": "50856e14-5fe2-40e0-ac54-14042140f94b",
   "metadata": {
    "tags": []
   },
   "outputs": [],
   "source": [
    "etreg = models[0]\n",
    "etreg[0]"
   ]
  },
  {
   "cell_type": "code",
   "execution_count": null,
   "id": "23a77557-3a44-4146-a3b4-1604b803441c",
   "metadata": {},
   "outputs": [],
   "source": [
    "## optional save models\n",
    "#joblib.dump(etreg[0], ('../result_models/'+ 'unharm_mri_etreg0.sav'))\n",
    "#joblib.dump(etreg[1], ('../result_models/'+ 'unharm_mri_etreg1.sav'))\n",
    "#joblib.dump(etreg[2], ('../result_models/'+ 'unharm_mri_etreg2.sav'))\n",
    "#joblib.dump(etreg[3], ('../result_models/'+ 'unharm_mri_etreg3.sav'))\n",
    "#joblib.dump(etreg[4], ('../result_models/'+ 'unharm_mri_etreg4.sav'))"
   ]
  },
  {
   "cell_type": "markdown",
   "id": "13dea877-0cea-49ac-8d39-7ad3072e4c28",
   "metadata": {},
   "source": [
    "Show results ON AVERAGE for each model"
   ]
  },
  {
   "cell_type": "code",
   "execution_count": null,
   "id": "0cf667b7-dfc0-4f48-adb0-9f85941bf9e9",
   "metadata": {
    "tags": []
   },
   "outputs": [],
   "source": [
    "mri_based_unharmonized_on_testmri =pd.concat([avg_linr,\n",
    "                   avg_llreg,\n",
    "                   avg_dtree,\n",
    "                   avg_regr,\n",
    "                   avg_svrp2,\n",
    "                   avg_eregr,\n",
    "                   avg_etreg],\n",
    "                  axis=0)\n",
    "mri_based_unharmonized_on_testmri"
   ]
  },
  {
   "cell_type": "code",
   "execution_count": null,
   "id": "853f1b08-5ca3-41ca-ba59-2d2b44799a15",
   "metadata": {
    "tags": []
   },
   "outputs": [],
   "source": [
    "mri_based_unharmonized_on_testmri.to_csv('mri_based_unharmonized_on_testmri_AVERAGES.csv')"
   ]
  },
  {
   "cell_type": "markdown",
   "id": "d480d24e-c026-44ce-ba1d-0bfdad06b96b",
   "metadata": {},
   "source": [
    "## Now we will build  models based on the whole unharmonized StrokeMRI dataset, and apply them to TOP. "
   ]
  },
  {
   "cell_type": "code",
   "execution_count": null,
   "id": "6c191cec-1cb6-4607-95fe-06abe90a926a",
   "metadata": {
    "tags": []
   },
   "outputs": [],
   "source": [
    "ml_matrix = StrokeMRI.drop('participant_id', axis=1)\n",
    "X = ml_matrix.drop('age', axis =1)\n",
    "X = X.values\n",
    "X = X.astype('float')\n",
    "y = ml_matrix['age'].values\n",
    "y=y.astype('float')\n"
   ]
  },
  {
   "cell_type": "code",
   "execution_count": null,
   "id": "a9d97f90-d8b1-4311-9be4-f59a42aa7cb6",
   "metadata": {
    "tags": []
   },
   "outputs": [],
   "source": [
    "# now we decide to do no test train split, rather take all\n",
    "X_train = X\n",
    "y_train = y"
   ]
  },
  {
   "cell_type": "code",
   "execution_count": null,
   "id": "59e649de-dc95-45cb-800a-77a6f0609be0",
   "metadata": {
    "tags": []
   },
   "outputs": [],
   "source": [
    "MRIlinr = LinearRegression()\n",
    "MRIlinr.fit(X_train, y_train)"
   ]
  },
  {
   "cell_type": "code",
   "execution_count": null,
   "id": "1d6ea896-1c0c-4b8c-b236-1a38d0114395",
   "metadata": {
    "tags": []
   },
   "outputs": [],
   "source": [
    "MRIllreg = linear_model.LassoLars(alpha=0.01)\n",
    "MRIllreg.fit(X_train, y_train)"
   ]
  },
  {
   "cell_type": "code",
   "execution_count": null,
   "id": "32f3c938-9605-47d0-8406-0bb796f43e1e",
   "metadata": {
    "tags": []
   },
   "outputs": [],
   "source": [
    "MRIeregr = ElasticNetCV(cv=5, random_state=17)\n",
    "MRIeregr.fit(X_train, y_train)\n"
   ]
  },
  {
   "cell_type": "code",
   "execution_count": null,
   "id": "1bd442fd-c7f8-4271-be26-d696af4b8183",
   "metadata": {
    "tags": []
   },
   "outputs": [],
   "source": [
    "MRIetreg = ExtraTreesRegressor(n_estimators=100, random_state=0)\n",
    "MRIetreg.fit(X_train, y_train)"
   ]
  },
  {
   "cell_type": "code",
   "execution_count": null,
   "id": "70266253-a9bf-4e36-84bc-2915004d16a7",
   "metadata": {},
   "outputs": [],
   "source": [
    "##  Save these four best models"
   ]
  },
  {
   "cell_type": "code",
   "execution_count": null,
   "id": "e4627596-b53a-4296-af07-c74c57fbf9fd",
   "metadata": {},
   "outputs": [],
   "source": []
  },
  {
   "cell_type": "code",
   "execution_count": null,
   "id": "34a0db45-ab19-49d3-ac56-bbfdf0528920",
   "metadata": {},
   "outputs": [],
   "source": [
    "\n",
    "## optional save models\n",
    "#joblib.dump(MRIlinr, ('../result_models/' + 'unharm_whole_mri_linr.sav'))\n",
    "#joblib.dump(MRIllreg, ('../result_models/'+ 'unharm_whole_mri_llreg1.sav'))\n",
    "#joblib.dump(MRIeregr, ('../result_models/'+ 'unharm_whole_mri_eregr3.sav'))\n",
    "#joblib.dump(MRIetreg, ('../result_models/'+ 'unharm_whole_mri_etreg4.sav'))"
   ]
  },
  {
   "cell_type": "markdown",
   "id": "21b0853a-2d01-48b3-82a7-5c133acc9358",
   "metadata": {},
   "source": [
    "# Running whole MRI model over TOP dataset"
   ]
  },
  {
   "cell_type": "code",
   "execution_count": null,
   "id": "8b1f97eb-89fd-43e0-af4e-6653d2f054f4",
   "metadata": {
    "tags": []
   },
   "outputs": [],
   "source": [
    "top_ml_matrix = TOP.drop('participant_id', axis=1)\n",
    "X_top = top_ml_matrix.drop('age', axis =1)\n",
    "X_top = X_top.values\n",
    "X_top = X_top.astype('float')\n",
    "y_top = top_ml_matrix['age'].values\n",
    "y_top=y_top.astype('float')"
   ]
  },
  {
   "cell_type": "code",
   "execution_count": null,
   "id": "3d8df8dd-1a14-4cf4-90c2-53b1511041e4",
   "metadata": {
    "tags": []
   },
   "outputs": [],
   "source": [
    "X_top_test = X_top\n",
    "y_top_test = y_top\n"
   ]
  },
  {
   "cell_type": "code",
   "execution_count": null,
   "id": "09d377ae-74d7-4707-9a88-c6f7908b16e8",
   "metadata": {
    "tags": []
   },
   "outputs": [],
   "source": [
    "y_top_pred = MRIlinr.predict(X_top_test)"
   ]
  },
  {
   "cell_type": "code",
   "execution_count": null,
   "id": "c36f5995-2942-40a3-8a9d-d89c4a6277c6",
   "metadata": {
    "tags": []
   },
   "outputs": [],
   "source": [
    "# print('R2 score Linear regression: %.3f' % linr.score(X_top_test,y_top_test))\n",
    "# print('Explained variance score: %.3f'  % metrics.explained_variance_score(y_top_test, y_top_pred))\n",
    "# print('The mean absolute error: %.3f' % mean_absolute_error(y_top_test, y_top_pred))"
   ]
  },
  {
   "cell_type": "code",
   "execution_count": null,
   "id": "da202a14-ce66-440c-9bd0-2c3f17f1e074",
   "metadata": {
    "tags": []
   },
   "outputs": [],
   "source": [
    "data= [[\n",
    "    'linear regression',\n",
    "    'unharm_whole_mri_linr.sav',\n",
    "    mean_absolute_error(y_top_test, y_top_pred),\n",
    "    MRIlinr.score(X_top_test,y_top_test),\n",
    "    metrics.explained_variance_score(y_top_test, y_top_pred)]]\n",
    "linr_results = pd.DataFrame(data, columns=['algorithm','file_name','mae', 'r2', 'explained_variance'])\n",
    "#linr_results"
   ]
  },
  {
   "cell_type": "code",
   "execution_count": null,
   "id": "7303ab89-fcdc-47cf-b804-20ba0b6597e9",
   "metadata": {
    "tags": []
   },
   "outputs": [],
   "source": [
    "linr_y_test = y_top_test\n",
    "linr_y_pred = y_top_pred\n",
    "linr_compare = pd.DataFrame(\n",
    "    {'y_test_real_age': linr_y_test,\n",
    "     'linr_y_pred_age': linr_y_pred,\n",
    "    })\n",
    "linr_compare = linr_compare.reset_index()\n",
    "linr_compare"
   ]
  },
  {
   "cell_type": "code",
   "execution_count": null,
   "id": "6252087f-367c-4cb6-a801-143d7f05033c",
   "metadata": {},
   "outputs": [],
   "source": [
    "linr_compare.to_csv('whole_mri_linr_compare_on_top.csv')"
   ]
  },
  {
   "cell_type": "code",
   "execution_count": null,
   "id": "9f6894d0-ef17-45bc-a408-1d4e7039866d",
   "metadata": {
    "tags": []
   },
   "outputs": [],
   "source": [
    "y_top_pred = MRIllreg.predict(X_top_test)"
   ]
  },
  {
   "cell_type": "code",
   "execution_count": null,
   "id": "bfcb3eec-eacf-4442-b3b3-03dca6be5539",
   "metadata": {
    "tags": []
   },
   "outputs": [],
   "source": [
    "data= [[\n",
    "    'lasso regression',\n",
    "    'unharm_whole_mri_llreg.sav',\n",
    "    mean_absolute_error(y_top_test, y_top_pred),\n",
    "    MRIllreg.score(X_top_test,y_top_test),\n",
    "    metrics.explained_variance_score(y_top_test, y_top_pred)]]\n",
    "llreg_results = pd.DataFrame(data, columns=['algorithm','file_name','mae', 'r2', 'explained_variance'])\n",
    "llreg_results"
   ]
  },
  {
   "cell_type": "code",
   "execution_count": null,
   "id": "fb8a1428-3f96-4370-9e03-8b9d6a2ddca2",
   "metadata": {
    "tags": []
   },
   "outputs": [],
   "source": [
    "llreg_y_test = y_top_test\n",
    "llreg_y_pred = y_top_pred\n",
    "llreg_compare = pd.DataFrame(\n",
    "    {'y_test_real_age': llreg_y_test,\n",
    "     'linr_y_pred_age': llreg_y_pred,\n",
    "    })\n",
    "#llreg_compare = llreg_compare.reset_index()\n",
    "llreg_compare"
   ]
  },
  {
   "cell_type": "code",
   "execution_count": null,
   "id": "827b54c9-0440-4fe5-98fb-bf1114ca3bde",
   "metadata": {},
   "outputs": [],
   "source": [
    "llreg_compare.to_csv('whole_mri_llreg_compare_on_top.csv')"
   ]
  },
  {
   "cell_type": "code",
   "execution_count": null,
   "id": "037db863-8963-4a3c-8bab-c8bd994b2bde",
   "metadata": {
    "tags": []
   },
   "outputs": [],
   "source": [
    "y_top_pred = MRIeregr.predict(X_top_test)"
   ]
  },
  {
   "cell_type": "code",
   "execution_count": null,
   "id": "4e12b8ac-d562-48d9-b6e0-5c4cd397001e",
   "metadata": {
    "tags": []
   },
   "outputs": [],
   "source": [
    "data= [[\n",
    "    'elasticnetCV',\n",
    "    'unharm_whole_mri_linr.sav',\n",
    "    mean_absolute_error(y_top_test, y_top_pred),\n",
    "    MRIeregr.score(X_top_test,y_top_test),\n",
    "    metrics.explained_variance_score(y_top_test, y_top_pred)]]\n",
    "eregr_results = pd.DataFrame(data, columns=['algorithm','file_name','mae', 'r2', 'explained_variance'])\n",
    "#eregr_results"
   ]
  },
  {
   "cell_type": "code",
   "execution_count": null,
   "id": "c2584b1c-869b-46b9-abc0-fdf6c513e4fe",
   "metadata": {
    "tags": []
   },
   "outputs": [],
   "source": [
    "eregr_y_test = y_top_test\n",
    "eregr_y_pred = y_top_pred\n",
    "eregr_compare = pd.DataFrame(\n",
    "    {'y_test_real_age': eregr_y_test,\n",
    "     'linr_y_pred_age': eregr_y_pred,\n",
    "    })\n",
    "#eregr_compare = eregr_compare.reset_index()\n",
    "eregr_compare"
   ]
  },
  {
   "cell_type": "code",
   "execution_count": null,
   "id": "fb5f4380-0e58-4f04-9179-e971d11250f3",
   "metadata": {},
   "outputs": [],
   "source": [
    "eregr_compare.to_csv('whole_mri_eregr_compare_on_top.csv')"
   ]
  },
  {
   "cell_type": "code",
   "execution_count": null,
   "id": "6a14f717-b25e-4b82-bc5c-766539af9367",
   "metadata": {
    "tags": []
   },
   "outputs": [],
   "source": [
    "y_top_pred = MRIetreg.predict(X_top_test)"
   ]
  },
  {
   "cell_type": "code",
   "execution_count": null,
   "id": "26fd8e4a-27e5-4a4f-9c8e-a4f715d83110",
   "metadata": {
    "tags": []
   },
   "outputs": [],
   "source": [
    "data= [[\n",
    "    'extra trees',\n",
    "    'unharm_mri_linr.sav',\n",
    "    mean_absolute_error(y_top_test, y_top_pred),\n",
    "    MRIetreg.score(X_top_test,y_top_test),\n",
    "    metrics.explained_variance_score(y_top_test, y_top_pred)]]\n",
    "etreg_results = pd.DataFrame(data, columns=['algorithm','file_name','mae', 'r2', 'explained_variance'])\n",
    "#etreg_results"
   ]
  },
  {
   "cell_type": "code",
   "execution_count": null,
   "id": "df8f1ceb-2491-49a7-a169-2ca2dc31e6a9",
   "metadata": {
    "tags": []
   },
   "outputs": [],
   "source": [
    "etreg_y_test = y_top_test\n",
    "etreg_y_pred = y_top_pred\n",
    "etreg_compare = pd.DataFrame(\n",
    "    {'y_test_real_age': etreg_y_test,\n",
    "     'linr_y_pred_age': etreg_y_pred,\n",
    "    })\n",
    "#etreg_compare = etreg_compare.reset_index()\n",
    "etreg_compare"
   ]
  },
  {
   "cell_type": "code",
   "execution_count": null,
   "id": "f709c42b-3486-41b6-964c-17e297089933",
   "metadata": {},
   "outputs": [],
   "source": [
    "etreg_compare.to_csv('whole_mri_etreg_compare_on_top.csv')"
   ]
  },
  {
   "cell_type": "code",
   "execution_count": null,
   "id": "ac3ab2b6-601a-41b8-b395-41f0c45b8ea4",
   "metadata": {},
   "outputs": [],
   "source": [
    "mri_based_unharmonized_on_top =pd.concat([linr_results,\n",
    "                   llreg_results,\n",
    "                   eregr_results,\n",
    "                  etreg_results],\n",
    "                  axis=0)\n",
    "mri_based_unharmonized_on_top"
   ]
  },
  {
   "cell_type": "markdown",
   "id": "df71938d-b22c-4ba9-bbeb-582d1933583d",
   "metadata": {},
   "source": [
    "## Now we will run the exact opposite process.\n",
    "1. We will explore TOP based models via k-folded results, \n",
    "2. We will make a general unahrmonized TOP model (based off all TOP)\n",
    "3. We will apply the best of these model to the StrokeMRI dataset"
   ]
  },
  {
   "cell_type": "markdown",
   "id": "8aaa7610-6680-456d-b565-caaa9d717c70",
   "metadata": {},
   "source": [
    "### Build ML models based on TOP"
   ]
  },
  {
   "cell_type": "code",
   "execution_count": null,
   "id": "bed4d1ea-b224-4ac5-8773-adefce51f156",
   "metadata": {
    "tags": []
   },
   "outputs": [],
   "source": [
    "ml_matrix = TOP.drop('participant_id', axis=1)\n",
    "X = ml_matrix.drop('age', axis =1)\n",
    "X = X.values\n",
    "X = X.astype('float')\n",
    "y = ml_matrix['age'].values\n",
    "y=y.astype('float')\n"
   ]
  },
  {
   "cell_type": "code",
   "execution_count": null,
   "id": "80981c39-c805-428d-bc22-5c0f383d230e",
   "metadata": {
    "tags": []
   },
   "outputs": [],
   "source": [
    "linr_k_frame, linr_y_frame, models = sep.stratified_one_category_shuffle_split('linear regression', 'unharm_top_linr', LinearRegression(), ml_matrix, X, y)"
   ]
  },
  {
   "cell_type": "code",
   "execution_count": null,
   "id": "9a017fbf-dc30-4405-bb18-dbb385bebf8e",
   "metadata": {},
   "outputs": [],
   "source": [
    "linr_k_frame"
   ]
  },
  {
   "cell_type": "code",
   "execution_count": null,
   "id": "28ac9ab2-892a-4c27-a91b-f9330ee36649",
   "metadata": {
    "tags": []
   },
   "outputs": [],
   "source": [
    "linr_k_frame.to_csv('unharmonized_top_linr_k_frame.csv')"
   ]
  },
  {
   "cell_type": "code",
   "execution_count": null,
   "id": "b660e8ac-7cbe-41c7-85dc-c4be01a4b144",
   "metadata": {
    "tags": []
   },
   "outputs": [],
   "source": [
    "avg_linr = sep.avg_k_folds(linr_k_frame)\n",
    "avg_linr"
   ]
  },
  {
   "cell_type": "code",
   "execution_count": null,
   "id": "278ec534-af4d-4b43-acfa-498085069bb4",
   "metadata": {},
   "outputs": [],
   "source": [
    "linr_y_frame"
   ]
  },
  {
   "cell_type": "code",
   "execution_count": null,
   "id": "ec8d5f44-ac0a-4a13-9686-92374ce9d86e",
   "metadata": {
    "tags": []
   },
   "outputs": [],
   "source": [
    "linr_y_frame.to_csv('unharmonized_top_linr_y_frame.csv')"
   ]
  },
  {
   "cell_type": "code",
   "execution_count": null,
   "id": "1e4e3ff5-5671-47eb-ab33-50c867b005e4",
   "metadata": {
    "tags": []
   },
   "outputs": [],
   "source": [
    "linr = models[0]\n",
    "linr[0]"
   ]
  },
  {
   "cell_type": "code",
   "execution_count": null,
   "id": "82b0e503-7d9d-4b76-a3ed-716bfb714efd",
   "metadata": {},
   "outputs": [],
   "source": [
    "# check if model folder exists and if not , then create\n",
    "model_folder = '../result_models/'\n",
    "if not os.path.exists(model_folder):\n",
    "    os.makedirs(model_folder)"
   ]
  },
  {
   "cell_type": "code",
   "execution_count": null,
   "id": "287385a6-2ebc-483f-b0c0-1e33a649dfdc",
   "metadata": {
    "tags": []
   },
   "outputs": [],
   "source": [
    "## optional save models\n",
    "#joblib.dump(linr[0], ('../result_models/'+ 'unharm_top_linr0.sav'))\n",
    "#joblib.dump(linr[1], ('../result_models/'+ 'unharm_top_linr1.sav'))\n",
    "#joblib.dump(linr[2], ('../result_models/'+ 'unharm_top_linr2.sav'))\n",
    "#joblib.dump(linr[3], ('../result_models/'+ 'unharm_top_linr3.sav'))\n",
    "#joblib.dump(linr[4], ('../result_models/'+ 'unharm_top_linr4.sav'))"
   ]
  },
  {
   "cell_type": "code",
   "execution_count": null,
   "id": "51ef8c46-e4cb-401a-866c-0d6d597baa5c",
   "metadata": {
    "tags": []
   },
   "outputs": [],
   "source": [
    "llreg_k_frame, llreg_y_frame, models = sep.stratified_one_category_shuffle_split('lasso regression', 'unharm_top_llreg',  linear_model.LassoLars(alpha=0.01), ml_matrix, X, y)\n",
    "llreg_k_frame"
   ]
  },
  {
   "cell_type": "code",
   "execution_count": null,
   "id": "66c9bfd9-38e4-4dc1-b986-6a4cae851952",
   "metadata": {},
   "outputs": [],
   "source": [
    "llreg_k_frame.to_csv('unharmonized_top_llreg_k_frame.csv')"
   ]
  },
  {
   "cell_type": "code",
   "execution_count": null,
   "id": "ec52351c-5f10-4370-88bf-04fb3850859d",
   "metadata": {
    "tags": []
   },
   "outputs": [],
   "source": [
    "avg_llreg = sep.avg_k_folds(llreg_k_frame)\n",
    "avg_llreg"
   ]
  },
  {
   "cell_type": "code",
   "execution_count": null,
   "id": "e4cb04d6-bd61-4e00-8835-e036efa595fb",
   "metadata": {
    "tags": []
   },
   "outputs": [],
   "source": [
    "llreg_y_frame"
   ]
  },
  {
   "cell_type": "code",
   "execution_count": null,
   "id": "5a957fe8-6dc1-46bf-8d2f-1c8d9e912e28",
   "metadata": {},
   "outputs": [],
   "source": [
    "llreg_y_frame.to_csv('unharmonized_top_llreg_y_frame.csv')"
   ]
  },
  {
   "cell_type": "code",
   "execution_count": null,
   "id": "7c1ade1c-67ff-44d5-b618-8b1b20290b1d",
   "metadata": {
    "tags": []
   },
   "outputs": [],
   "source": [
    "llreg = models[0]\n",
    "llreg[0]"
   ]
  },
  {
   "cell_type": "code",
   "execution_count": null,
   "id": "e39084ba-30fc-4956-9277-257730567eea",
   "metadata": {},
   "outputs": [],
   "source": [
    "## optional save models\n",
    "#joblib.dump(llreg[0], ('../result_models/'+ 'unharm_top_llreg0.sav'))\n",
    "#joblib.dump(llreg[1], ('../result_models/'+ 'unharm_top_llreg1.sav'))\n",
    "#joblib.dump(llreg[2], ('../result_models/'+ 'unharm_top_llreg2.sav'))\n",
    "#joblib.dump(llreg[3], ('../result_models/'+ 'unharm_top_llreg3.sav'))\n",
    "#joblib.dump(llreg[4], ('../result_models/'+ 'unharm_top_llreg4.sav'))"
   ]
  },
  {
   "cell_type": "code",
   "execution_count": null,
   "id": "94a60e3b-2dbd-47ff-ac17-6abe1cbaf922",
   "metadata": {
    "tags": []
   },
   "outputs": [],
   "source": [
    "dtree_k_frame, dtree_y_frame, models = sep.stratified_one_category_shuffle_split('decision tree', 'unharm_top_dtree',  tree.DecisionTreeRegressor(), ml_matrix, X, y)\n",
    "dtree_k_frame"
   ]
  },
  {
   "cell_type": "code",
   "execution_count": null,
   "id": "832fc6da-e5b1-444f-8829-2d269608d4c9",
   "metadata": {},
   "outputs": [],
   "source": [
    "dtree_k_frame.to_csv('unharmonized_top_dtree_k_frame.csv')"
   ]
  },
  {
   "cell_type": "code",
   "execution_count": null,
   "id": "e252e7d6-c54d-439e-9124-b61a70f40211",
   "metadata": {
    "tags": []
   },
   "outputs": [],
   "source": [
    "avg_dtree = sep.avg_k_folds(dtree_k_frame)\n",
    "avg_dtree"
   ]
  },
  {
   "cell_type": "code",
   "execution_count": null,
   "id": "ea68e30b-c536-4f58-bf72-52804a8fd4ef",
   "metadata": {
    "tags": []
   },
   "outputs": [],
   "source": [
    "dtree_y_frame"
   ]
  },
  {
   "cell_type": "code",
   "execution_count": null,
   "id": "7bebe82f-2f38-43b6-a70c-9770de76f53b",
   "metadata": {},
   "outputs": [],
   "source": [
    "dtree_y_frame.to_csv('unharmonized_top_dtree_y_frame.csv')"
   ]
  },
  {
   "cell_type": "code",
   "execution_count": null,
   "id": "c864e07f-af8c-4e39-8163-b6bce6a289eb",
   "metadata": {
    "tags": []
   },
   "outputs": [],
   "source": [
    "dtree = models[0]\n",
    "dtree[0]"
   ]
  },
  {
   "cell_type": "code",
   "execution_count": null,
   "id": "34366522-f7b3-44a1-8985-7b8f87330c19",
   "metadata": {
    "tags": []
   },
   "outputs": [],
   "source": [
    "regr_k_frame, regr_y_frame, models = sep.stratified_one_category_shuffle_split('MLP regression', 'unharm_top_regr',   MLPRegressor(random_state=1, max_iter=700), ml_matrix, X, y)\n",
    "regr_k_frame"
   ]
  },
  {
   "cell_type": "code",
   "execution_count": null,
   "id": "a03c836a-20b2-4b93-84a4-9c6a3c1d8658",
   "metadata": {},
   "outputs": [],
   "source": [
    "regr_k_frame.to_csv('unharmonized_top_regr_k_frame.csv')"
   ]
  },
  {
   "cell_type": "code",
   "execution_count": null,
   "id": "a8d13fee-6545-4853-a297-8c51973a0f47",
   "metadata": {
    "tags": []
   },
   "outputs": [],
   "source": [
    "avg_regr = sep.avg_k_folds(regr_k_frame)\n",
    "avg_regr"
   ]
  },
  {
   "cell_type": "code",
   "execution_count": null,
   "id": "89dc63ae-afcc-4d7a-b07c-dd4466230c01",
   "metadata": {
    "tags": []
   },
   "outputs": [],
   "source": [
    "regr_y_frame"
   ]
  },
  {
   "cell_type": "code",
   "execution_count": null,
   "id": "cde0f482-a15d-4cba-ab51-c56d0cc72953",
   "metadata": {},
   "outputs": [],
   "source": [
    "regr_y_frame.to_csv('unharmonized_top_regr_y_frame.csv')"
   ]
  },
  {
   "cell_type": "code",
   "execution_count": null,
   "id": "2d668f4e-fd4c-4ea4-af98-ce7f3a6362ed",
   "metadata": {
    "tags": []
   },
   "outputs": [],
   "source": [
    "regr = models[0]\n",
    "regr[0]"
   ]
  },
  {
   "cell_type": "markdown",
   "id": "d198e999-79eb-41ec-bd57-d8269b9c4904",
   "metadata": {},
   "source": [
    "### Note I'm not actually saving the mlp or svr models here because they are not the best performers. if neccesary this can be added"
   ]
  },
  {
   "cell_type": "code",
   "execution_count": null,
   "id": "58ea797e-8561-41cd-9b61-a7f14909c1fc",
   "metadata": {
    "tags": []
   },
   "outputs": [],
   "source": [
    "svrp2_k_frame, svrp2_y_frame, models = sep.stratified_one_category_shuffle_split('support vector reg poly2', 'unharm_top_svrp2',   SVR(C=1.0, kernel='poly', degree =2, epsilon=0.2), ml_matrix, X, y)\n",
    "svrp2_k_frame"
   ]
  },
  {
   "cell_type": "code",
   "execution_count": null,
   "id": "b87fe601-9218-4a9c-920e-198379b94992",
   "metadata": {
    "tags": []
   },
   "outputs": [],
   "source": [
    "svrp2_k_frame.to_csv('unharmonized_top_svrp2_k_frame.csv')"
   ]
  },
  {
   "cell_type": "code",
   "execution_count": null,
   "id": "faa31eaf-1702-4e67-8c88-619f33f295c2",
   "metadata": {
    "tags": []
   },
   "outputs": [],
   "source": [
    "avg_svrp2 = sep.avg_k_folds(svrp2_k_frame)\n",
    "avg_svrp2"
   ]
  },
  {
   "cell_type": "code",
   "execution_count": null,
   "id": "42d11abe-8f2f-49d0-a597-9f02274c68f4",
   "metadata": {
    "tags": []
   },
   "outputs": [],
   "source": [
    "svrp2_y_frame"
   ]
  },
  {
   "cell_type": "code",
   "execution_count": null,
   "id": "e414bb2f-bac1-4f13-ae25-b27e7573738c",
   "metadata": {
    "tags": []
   },
   "outputs": [],
   "source": [
    "svrp2_y_frame.to_csv('unharmonized_top_svrp2_y_frame.csv')"
   ]
  },
  {
   "cell_type": "code",
   "execution_count": null,
   "id": "1d289815-b0ba-47c5-92e7-edc9b2c8039b",
   "metadata": {
    "tags": []
   },
   "outputs": [],
   "source": [
    "svrp2 = models[0]\n",
    "svrp2[0]"
   ]
  },
  {
   "cell_type": "code",
   "execution_count": null,
   "id": "9dd50b50-a975-43eb-968e-19be2b3f54df",
   "metadata": {
    "tags": []
   },
   "outputs": [],
   "source": [
    "eregr_k_frame, eregr_y_frame, models = sep.stratified_one_category_shuffle_split('elasticnetCV', 'unharm_top_eregr',  ElasticNetCV(cv=5, random_state=12), ml_matrix, X, y)\n",
    "eregr_k_frame"
   ]
  },
  {
   "cell_type": "code",
   "execution_count": null,
   "id": "219fe0ee-df70-495a-af67-5286b38f04f1",
   "metadata": {},
   "outputs": [],
   "source": [
    "eregr_k_frame.to_csv('unharmonized_top_eregr_k_frame.csv')"
   ]
  },
  {
   "cell_type": "code",
   "execution_count": null,
   "id": "05d7b9c5-3489-4ebf-a880-ec3981d3233b",
   "metadata": {
    "tags": []
   },
   "outputs": [],
   "source": [
    "avg_eregr = sep.avg_k_folds(eregr_k_frame)\n",
    "avg_eregr"
   ]
  },
  {
   "cell_type": "code",
   "execution_count": null,
   "id": "7169ac3f-b4b6-4ba2-b134-d1d19b20fa7a",
   "metadata": {
    "tags": []
   },
   "outputs": [],
   "source": [
    "eregr_y_frame"
   ]
  },
  {
   "cell_type": "code",
   "execution_count": null,
   "id": "7317caca-0ce5-4bf5-9f29-eb16c2a61a3a",
   "metadata": {
    "tags": []
   },
   "outputs": [],
   "source": [
    "eregr_y_frame.to_csv('unharmonized_top_eregr_y_frame.csv')"
   ]
  },
  {
   "cell_type": "code",
   "execution_count": null,
   "id": "d10882f0-9556-4eca-9e5d-cf38f107ecd3",
   "metadata": {
    "tags": []
   },
   "outputs": [],
   "source": [
    "eregr = models[0]\n",
    "eregr[0]"
   ]
  },
  {
   "cell_type": "code",
   "execution_count": null,
   "id": "4f35b7a5-99f8-42e2-826f-8cecd29ee015",
   "metadata": {
    "tags": []
   },
   "outputs": [],
   "source": [
    "etreg_k_frame, etreg_y_frame, models = sep.stratified_one_category_shuffle_split('extra trees', 'unharm_top_etreg',  ExtraTreesRegressor(n_estimators=100, random_state=0), ml_matrix, X, y)\n",
    "etreg_k_frame"
   ]
  },
  {
   "cell_type": "code",
   "execution_count": null,
   "id": "26faf749-2df8-4cab-bece-ff8d3d510ae7",
   "metadata": {},
   "outputs": [],
   "source": [
    "etreg_k_frame.to_csv('unharomized_top_etreg_k_frame.csv')"
   ]
  },
  {
   "cell_type": "code",
   "execution_count": null,
   "id": "8c28cef5-ca7e-403a-83f2-1641b04e1c42",
   "metadata": {
    "tags": []
   },
   "outputs": [],
   "source": [
    "avg_etreg = sep.avg_k_folds(etreg_k_frame)\n",
    "avg_etreg"
   ]
  },
  {
   "cell_type": "code",
   "execution_count": null,
   "id": "4c5ea545-4945-46eb-9105-c96b4b412da9",
   "metadata": {
    "tags": []
   },
   "outputs": [],
   "source": [
    "etreg_y_frame"
   ]
  },
  {
   "cell_type": "code",
   "execution_count": null,
   "id": "672f9426-e53f-4e27-a6b1-62ba1c7fc5e7",
   "metadata": {},
   "outputs": [],
   "source": [
    "etreg_y_frame.to_csv('unharmonized_top_etreg_y_frame.csv')"
   ]
  },
  {
   "cell_type": "code",
   "execution_count": null,
   "id": "32825aa1-4910-429a-964a-2b98945dead2",
   "metadata": {
    "tags": []
   },
   "outputs": [],
   "source": [
    "etreg = models[0]\n",
    "etreg[0]"
   ]
  },
  {
   "cell_type": "code",
   "execution_count": null,
   "id": "5f77ab55-a25f-42b1-a004-bd709625c6b0",
   "metadata": {},
   "outputs": [],
   "source": [
    "## optional save models\n",
    "#joblib.dump(etreg[0], ('../result_models/'+ 'unharm_top_etreg0.sav'))\n",
    "#joblib.dump(etreg[1], ('../result_models/'+ 'unharm_top_etreg1.sav'))\n",
    "#joblib.dump(etreg[2], ('../result_models/'+ 'unharm_top_etreg2.sav'))\n",
    "#joblib.dump(etreg[3], ('../result_models/'+ 'unharm_top_etreg3.sav'))\n",
    "#joblib.dump(etreg[4], ('../result_models/'+ 'unharm_top_etreg4.sav'))"
   ]
  },
  {
   "cell_type": "markdown",
   "id": "63b7a9b2-e911-4a34-9cd4-205d99afb710",
   "metadata": {},
   "source": [
    "Show results ON AVERAGE for each model"
   ]
  },
  {
   "cell_type": "code",
   "execution_count": null,
   "id": "fe8db746-fe86-47a7-a7d2-2af9f95865de",
   "metadata": {
    "tags": []
   },
   "outputs": [],
   "source": [
    "top_based_unharmonized_on_testtop =pd.concat([avg_linr,\n",
    "                   avg_llreg,\n",
    "                   avg_dtree,\n",
    "                   avg_regr,\n",
    "                   avg_svrp2,\n",
    "                   avg_eregr,\n",
    "                   avg_etreg],\n",
    "                  axis=0)\n",
    "top_based_unharmonized_on_testtop"
   ]
  },
  {
   "cell_type": "code",
   "execution_count": null,
   "id": "bfdf399a-2d28-45bf-9477-70ef273072f2",
   "metadata": {
    "tags": []
   },
   "outputs": [],
   "source": [
    "top_based_unharmonized_on_testtop.to_csv('top_based_unharmonized_on_testtop_AVERAGES.csv')"
   ]
  },
  {
   "cell_type": "markdown",
   "id": "b2066ec9-2eb8-4b3f-92c2-f898170023d0",
   "metadata": {},
   "source": [
    "## Now we will build  models based on the whole unharmonized StrokeTOP dataset, and apply them to StrokeMRI. "
   ]
  },
  {
   "cell_type": "code",
   "execution_count": null,
   "id": "23a37b11-725b-48e7-bb0b-9e6d8a8556a1",
   "metadata": {},
   "outputs": [],
   "source": []
  },
  {
   "cell_type": "code",
   "execution_count": null,
   "id": "af493611-4677-45b0-89c4-d2ec17eff6b0",
   "metadata": {
    "tags": []
   },
   "outputs": [],
   "source": [
    "ml_matrix = TOP.drop('participant_id', axis=1)\n",
    "X = ml_matrix.drop('age', axis =1)\n",
    "X = X.values\n",
    "X = X.astype('float')\n",
    "y = ml_matrix['age'].values\n",
    "y=y.astype('float')"
   ]
  },
  {
   "cell_type": "code",
   "execution_count": null,
   "id": "28b6a152-5ab1-495a-aa8e-b6405608a4b4",
   "metadata": {
    "tags": []
   },
   "outputs": [],
   "source": [
    "# now we decide to do no test train split, rather take all\n",
    "X_train = X\n",
    "y_train = y"
   ]
  },
  {
   "cell_type": "code",
   "execution_count": null,
   "id": "ed620175-a37f-495c-a718-5c2b86eff5b8",
   "metadata": {
    "tags": []
   },
   "outputs": [],
   "source": [
    "TOPlinr = LinearRegression()\n",
    "TOPlinr.fit(X_train, y_train)"
   ]
  },
  {
   "cell_type": "code",
   "execution_count": null,
   "id": "85054bbf-0d54-418b-9ffa-5c1fdee9d1fe",
   "metadata": {
    "tags": []
   },
   "outputs": [],
   "source": [
    "TOPllreg = linear_model.LassoLars(alpha=0.01)\n",
    "TOPllreg.fit(X_train, y_train)"
   ]
  },
  {
   "cell_type": "code",
   "execution_count": null,
   "id": "27c850f6-c88d-4c25-8143-e50e90acb39e",
   "metadata": {
    "tags": []
   },
   "outputs": [],
   "source": [
    "TOPeregr = ElasticNetCV(cv=5, random_state=17)\n",
    "TOPeregr.fit(X_train, y_train)\n"
   ]
  },
  {
   "cell_type": "code",
   "execution_count": null,
   "id": "5ed15811-5115-4579-b9e6-8c7b5461248e",
   "metadata": {
    "tags": []
   },
   "outputs": [],
   "source": [
    "TOPetreg = ExtraTreesRegressor(n_estimators=100, random_state=0)\n",
    "TOPetreg.fit(X_train, y_train)"
   ]
  },
  {
   "cell_type": "code",
   "execution_count": null,
   "id": "7281f1d1-6770-449c-b164-9cba401a5007",
   "metadata": {},
   "outputs": [],
   "source": [
    "##  Save these four best models"
   ]
  },
  {
   "cell_type": "code",
   "execution_count": null,
   "id": "88080b33-5f92-4718-90d9-994fc75fdd5b",
   "metadata": {},
   "outputs": [],
   "source": [
    "## optional save models\n",
    "#joblib.dump(TOPlinr, ('../result_models/' + 'unharm_whole_top_linr.sav'))\n",
    "#joblib.dump(TOPllreg, ('../result_models/'+ 'unharm_whole_top_llreg1.sav'))\n",
    "#joblib.dump(TOPeregr, ('../result_models/'+ 'unharm_whole_top_eregr3.sav'))\n",
    "#joblib.dump(TOPetreg, ('../result_models/'+ 'unharm_whole_top_etreg4.sav'))"
   ]
  },
  {
   "cell_type": "markdown",
   "id": "17e6797a-b1c4-4587-8255-c1a274056cd9",
   "metadata": {},
   "source": [
    "# Running whole TOP model over MRI dataset"
   ]
  },
  {
   "cell_type": "code",
   "execution_count": null,
   "id": "58270c70-d51a-4698-8e39-8aec5d3070d8",
   "metadata": {
    "tags": []
   },
   "outputs": [],
   "source": [
    "mri_ml_matrix = StrokeMRI.drop('participant_id', axis=1)\n",
    "X_mri = mri_ml_matrix.drop('age', axis =1)\n",
    "X_mri = X_mri.values\n",
    "X_mri = X_mri.astype('float')\n",
    "y_mri = mri_ml_matrix['age'].values\n",
    "y_mri= y_mri.astype('float')"
   ]
  },
  {
   "cell_type": "code",
   "execution_count": null,
   "id": "c22a6eb7-7de4-4fbb-afb6-6e208392348e",
   "metadata": {
    "tags": []
   },
   "outputs": [],
   "source": [
    "X_mri_test = X_mri\n",
    "y_mri_test = y_mri\n"
   ]
  },
  {
   "cell_type": "code",
   "execution_count": null,
   "id": "13002f7e-b403-4615-b180-1454d027d307",
   "metadata": {
    "tags": []
   },
   "outputs": [],
   "source": [
    "y_mri_pred = TOPlinr.predict(X_mri_test)"
   ]
  },
  {
   "cell_type": "code",
   "execution_count": null,
   "id": "534dbf58-0b0c-4b0e-909e-54437fbc44cd",
   "metadata": {
    "tags": []
   },
   "outputs": [],
   "source": [
    "data= [[\n",
    "    'linear regression',\n",
    "    'unharm_whole_top_linr.sav',\n",
    "    mean_absolute_error(y_mri_test, y_mri_pred),\n",
    "    TOPlinr.score(X_mri_test,y_mri_test),\n",
    "    metrics.explained_variance_score(y_mri_test, y_mri_pred)]]\n",
    "linr_results = pd.DataFrame(data, columns=['algorithm','file_name','mae', 'r2', 'explained_variance'])\n",
    "#linr_results"
   ]
  },
  {
   "cell_type": "code",
   "execution_count": null,
   "id": "593a7024-6f93-4e83-b916-cf7193221684",
   "metadata": {
    "tags": []
   },
   "outputs": [],
   "source": [
    "linr_y_test = y_mri_test\n",
    "linr_y_pred = y_mri_pred\n",
    "linr_compare = pd.DataFrame(\n",
    "    {'y_test_real_age': linr_y_test,\n",
    "     'linr_y_pred_age': linr_y_pred,\n",
    "    })\n",
    "linr_compare = linr_compare.reset_index()\n",
    "linr_compare"
   ]
  },
  {
   "cell_type": "code",
   "execution_count": null,
   "id": "8f9f7c30-eb1a-4bd9-a4b8-19214150eced",
   "metadata": {},
   "outputs": [],
   "source": [
    "linr_compare.to_csv('whole_top_linr_compare_on_mti.csv')"
   ]
  },
  {
   "cell_type": "code",
   "execution_count": null,
   "id": "05a656da-8593-44f4-becf-07789df67474",
   "metadata": {
    "tags": []
   },
   "outputs": [],
   "source": [
    "y_mri_pred = TOPllreg.predict(X_mri_test)"
   ]
  },
  {
   "cell_type": "code",
   "execution_count": null,
   "id": "5d88fe6b-1ec5-457a-80e1-f6767f0da768",
   "metadata": {
    "tags": []
   },
   "outputs": [],
   "source": [
    "data= [[\n",
    "    'lasso regression',\n",
    "    'unharm_whole_top_llreg.sav',\n",
    "    mean_absolute_error(y_mri_test, y_mri_pred),\n",
    "    TOPllreg.score(X_mri_test,y_mri_test),\n",
    "    metrics.explained_variance_score(y_mri_test, y_mri_pred)]]\n",
    "llreg_results = pd.DataFrame(data, columns=['algorithm','file_name','mae', 'r2', 'explained_variance'])\n",
    "llreg_results"
   ]
  },
  {
   "cell_type": "code",
   "execution_count": null,
   "id": "54dba885-ad51-4cf1-befd-9d052be4f03e",
   "metadata": {
    "tags": []
   },
   "outputs": [],
   "source": [
    "llreg_y_test = y_mri_test\n",
    "llreg_y_pred = y_mri_pred\n",
    "llreg_compare = pd.DataFrame(\n",
    "    {'y_test_real_age': llreg_y_test,\n",
    "     'linr_y_pred_age': llreg_y_pred,\n",
    "    })\n",
    "#llreg_compare = llreg_compare.reset_index()\n",
    "llreg_compare"
   ]
  },
  {
   "cell_type": "code",
   "execution_count": null,
   "id": "efa01949-8c6a-42bd-90eb-5206058a13e7",
   "metadata": {},
   "outputs": [],
   "source": [
    "llreg_compare.to_csv('whole_top_llreg_compare_on_mri.csv')"
   ]
  },
  {
   "cell_type": "code",
   "execution_count": null,
   "id": "09cc2d37-72ff-4d0d-9bd3-6e0f0841ee8a",
   "metadata": {
    "tags": []
   },
   "outputs": [],
   "source": [
    "y_mri_pred = TOPeregr.predict(X_mri_test)"
   ]
  },
  {
   "cell_type": "code",
   "execution_count": null,
   "id": "aaee7ca2-2c91-4bbf-8b66-cd07d6d4246a",
   "metadata": {
    "tags": []
   },
   "outputs": [],
   "source": [
    "data= [[\n",
    "    'elasticnetCV',\n",
    "    'unharm_whole_top_linr.sav',\n",
    "    mean_absolute_error(y_mri_test, y_mri_pred),\n",
    "    TOPeregr.score(X_mri_test,y_mri_test),\n",
    "    metrics.explained_variance_score(y_mri_test, y_mri_pred)]]\n",
    "eregr_results = pd.DataFrame(data, columns=['algorithm','file_name','mae', 'r2', 'explained_variance'])\n",
    "#eregr_results"
   ]
  },
  {
   "cell_type": "code",
   "execution_count": null,
   "id": "dbf88ae4-811e-4c83-b57a-839bb1ab1772",
   "metadata": {
    "tags": []
   },
   "outputs": [],
   "source": [
    "eregr_y_test = y_mri_test\n",
    "eregr_y_pred = y_mri_pred\n",
    "eregr_compare = pd.DataFrame(\n",
    "    {'y_test_real_age': eregr_y_test,\n",
    "     'linr_y_pred_age': eregr_y_pred,\n",
    "    })\n",
    "eregr_compare"
   ]
  },
  {
   "cell_type": "code",
   "execution_count": null,
   "id": "ca9ba457-4abb-40a4-9bc6-f1647c94294d",
   "metadata": {},
   "outputs": [],
   "source": [
    "eregr_compare.to_csv('whole_top_eregr_compare_on_mri.csv')"
   ]
  },
  {
   "cell_type": "code",
   "execution_count": null,
   "id": "c3386d48-4204-4d35-bba9-34bfa6d3c50d",
   "metadata": {
    "tags": []
   },
   "outputs": [],
   "source": [
    "y_mri_pred = TOPetreg.predict(X_mri_test)"
   ]
  },
  {
   "cell_type": "code",
   "execution_count": null,
   "id": "318f285d-936a-4e5a-b132-26946b564962",
   "metadata": {
    "tags": []
   },
   "outputs": [],
   "source": [
    "data= [[\n",
    "    'extra trees',\n",
    "    'unharm_mri_linr.sav',\n",
    "    mean_absolute_error(y_mri_test, y_mri_pred),\n",
    "    TOPetreg.score(X_mri_test,y_mri_test),\n",
    "    metrics.explained_variance_score(y_mri_test, y_mri_pred)]]\n",
    "etreg_results = pd.DataFrame(data, columns=['algorithm','file_name','mae', 'r2', 'explained_variance'])\n",
    "#etreg_results"
   ]
  },
  {
   "cell_type": "code",
   "execution_count": null,
   "id": "284677d1-1862-403c-88c7-7b9001d9d61f",
   "metadata": {
    "tags": []
   },
   "outputs": [],
   "source": [
    "etreg_y_test = y_mri_test\n",
    "etreg_y_pred = y_mri_pred\n",
    "etreg_compare = pd.DataFrame(\n",
    "    {'y_test_real_age': etreg_y_test,\n",
    "     'linr_y_pred_age': etreg_y_pred,\n",
    "    })\n",
    "#etreg_compare = etreg_compare.reset_index()\n",
    "etreg_compare"
   ]
  },
  {
   "cell_type": "code",
   "execution_count": null,
   "id": "5c6be3cb-540a-4a90-9bb3-0f1aeb898ee5",
   "metadata": {},
   "outputs": [],
   "source": [
    "etreg_compare.to_csv('whole_top_etreg_compare_on_mri.csv')"
   ]
  },
  {
   "cell_type": "markdown",
   "id": "95b6f8ad-28db-4451-a414-01d409792004",
   "metadata": {},
   "source": [
    "compile csvs of results"
   ]
  },
  {
   "cell_type": "code",
   "execution_count": null,
   "id": "764cb0e6-824c-4412-9fdc-f9dedfad354a",
   "metadata": {},
   "outputs": [],
   "source": [
    "top_based_unharmonized_on_mri =pd.concat([linr_results,\n",
    "                   llreg_results,\n",
    "                   eregr_results,\n",
    "                  etreg_results],\n",
    "                  axis=0)\n",
    "top_based_unharmonized_on_mri"
   ]
  },
  {
   "cell_type": "code",
   "execution_count": null,
   "id": "5ff1a87d-87b9-44e5-9b7b-4f1140927ff8",
   "metadata": {
    "tags": []
   },
   "outputs": [],
   "source": [
    "top_based_unharmonized_on_mri.to_csv('whole_top_based_unharmonized_on_mri.csv')"
   ]
  },
  {
   "cell_type": "code",
   "execution_count": null,
   "id": "c39fe68c-ad0d-4e34-adb1-c81ad5a85324",
   "metadata": {},
   "outputs": [],
   "source": []
  }
 ],
 "metadata": {
  "kernelspec": {
   "display_name": "Python 3 (ipykernel)",
   "language": "python",
   "name": "python3"
  },
  "language_info": {
   "codemirror_mode": {
    "name": "ipython",
    "version": 3
   },
   "file_extension": ".py",
   "mimetype": "text/x-python",
   "name": "python",
   "nbconvert_exporter": "python",
   "pygments_lexer": "ipython3",
   "version": "3.11.6"
  }
 },
 "nbformat": 4,
 "nbformat_minor": 5
}
