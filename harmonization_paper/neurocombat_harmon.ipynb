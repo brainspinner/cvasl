{
 "cells": [
  {
   "cell_type": "markdown",
   "id": "7a33816b-aebe-4619-ad1f-a13d8d1e1c08",
   "metadata": {},
   "source": [
    "# Neurocombat TOP and StrokeMRI harmonized datasets"
   ]
  },
  {
   "cell_type": "markdown",
   "id": "7f765dc9-a0ac-498a-8c6a-72d1dbf11ad5",
   "metadata": {},
   "source": [
    "Note this must be run in the `neuron` environment"
   ]
  },
  {
   "cell_type": "markdown",
   "id": "0b8443b2-c77a-4cde-80cc-d17253eeda50",
   "metadata": {
    "tags": []
   },
   "source": [
    "## import libraries"
   ]
  },
  {
   "cell_type": "code",
   "execution_count": 1,
   "id": "6c43d78c-4b3d-4483-aa81-6155993812c1",
   "metadata": {
    "tags": []
   },
   "outputs": [],
   "source": [
    "import os\n",
    "\n",
    "import pandas as pd\n",
    "import numpy as np\n",
    "\n",
    "from neuroCombat import neuroCombat"
   ]
  },
  {
   "cell_type": "markdown",
   "id": "47358f71-117f-4423-be78-bf1334bad921",
   "metadata": {},
   "source": [
    "## Let's see how we would apply this to our data\n",
    "We will have to flip it on it's side to make it work"
   ]
  },
  {
   "cell_type": "code",
   "execution_count": 2,
   "id": "b3f0435c-df16-408e-a483-e7e30a32320d",
   "metadata": {
    "tags": []
   },
   "outputs": [],
   "source": [
    "filepath = '../open_work/internal_results/cleaned_pvc2s/' \n",
    "filename_mri = os.path.join(filepath,'StrokeMRI_pvc2c.csv') \n",
    "filename_top = os.path.join(filepath,'TOP_pvc2c.csv') "
   ]
  },
  {
   "cell_type": "code",
   "execution_count": 3,
   "id": "318acdb5",
   "metadata": {
    "tags": []
   },
   "outputs": [],
   "source": [
    "def prep_for_neurocombat(dataframename1, dataframename2):\n",
    "    \"\"\"\n",
    "    This function takes two dataframes in the cvasl format,\n",
    "    then turns them into three items needed for the \n",
    "    neurocombat algorithm with re-identification.\n",
    "    \n",
    "    \"\"\"\n",
    "    our_1_frame = pd.read_csv(dataframename1)\n",
    "    our_2_frame = pd.read_csv(dataframename2)\n",
    "    two_selection = our_2_frame.drop(['Unnamed: 0'],axis=1)\n",
    "    one_selection = our_1_frame.drop(['Unnamed: 0'],axis=1)\n",
    "    one_selection = one_selection.set_index('participant_id')\n",
    "    two_selection = two_selection.set_index('participant_id')\n",
    "    one_selection = one_selection.T\n",
    "    two_selection = two_selection.T\n",
    "    both_togetherF = pd.concat([one_selection, two_selection], axis=1, join=\"inner\")\n",
    "    print(\"Nan count\",both_togetherF.isna().sum().sum())\n",
    "    features_only = both_togetherF[2:]\n",
    "    dictionary_features_len = len(features_only.T.columns)\n",
    "    number = 0\n",
    "    made_keys = [] \n",
    "    made_vals = [] \n",
    "    for n in features_only.T.columns:\n",
    "\n",
    "        made_keys.append(number)\n",
    "        made_vals.append(n)\n",
    "        number +=1\n",
    "    feature_dictF = dict(map(lambda i,j : (i,j) , made_keys,made_vals))\n",
    "    ftF = features_only.reset_index()\n",
    "    ftF = ftF.rename(columns={\"index\": \"A\"})\n",
    "    ftF = ftF.drop(['A'], axis=1)\n",
    "    ftF = ftF.dropna()\n",
    "    btF = both_togetherF.reset_index()\n",
    "    btF = btF.rename(columns={\"index\": \"A\"})\n",
    "    btF = btF.drop(['A'], axis=1)\n",
    "    btF = btF.dropna()\n",
    "    len1 = len(one_selection.columns)\n",
    "    len2 = len(two_selection.columns)\n",
    "    return both_togetherF, ftF, btF, feature_dictF, len1, len2"
   ]
  },
  {
   "cell_type": "code",
   "execution_count": 4,
   "id": "afb9b058",
   "metadata": {
    "tags": []
   },
   "outputs": [
    {
     "name": "stdout",
     "output_type": "stream",
     "text": [
      "Nan count 0\n"
     ]
    }
   ],
   "source": [
    "both_togetherF, ftF, btF, feature_dictF, len1, len2 = prep_for_neurocombat(filename_mri, filename_top)"
   ]
  },
  {
   "cell_type": "code",
   "execution_count": 5,
   "id": "0994afd5-bd15-4b70-88b3-e64fb297e81f",
   "metadata": {
    "tags": []
   },
   "outputs": [],
   "source": [
    "our_mri_data = pd.read_csv(filename_mri)\n",
    "our_top_data = pd.read_csv(filename_top)"
   ]
  },
  {
   "cell_type": "code",
   "execution_count": 6,
   "id": "bb5f07aa-d902-4997-be96-32f9383f6074",
   "metadata": {
    "tags": []
   },
   "outputs": [],
   "source": [
    "# # save off csv\n",
    "# both_together.to_csv('both_top_mri_together.csv')"
   ]
  },
  {
   "cell_type": "code",
   "execution_count": 7,
   "id": "add96e2c-ad39-4a97-bedb-62c3c67ef7c5",
   "metadata": {
    "tags": []
   },
   "outputs": [],
   "source": [
    "# # make and save of csv of features only\n",
    "# features_only = both_together[2:]\n",
    "# #features_only.to_csv('features_only_top_mri.csv')"
   ]
  },
  {
   "cell_type": "code",
   "execution_count": 8,
   "id": "6c9d178c",
   "metadata": {
    "tags": []
   },
   "outputs": [],
   "source": [
    "ftF.to_csv('ftF_top_mri.csv')"
   ]
  },
  {
   "cell_type": "code",
   "execution_count": 9,
   "id": "7c219d10-f86a-41b7-9cad-6f0dda6534ba",
   "metadata": {
    "tags": []
   },
   "outputs": [
    {
     "data": {
      "text/plain": [
       "array([[ 0.64754,  0.60517,  0.61724, ...,  0.73473,  0.71094,  0.67941],\n",
       "       [ 0.49441,  0.48594,  0.53779, ...,  0.53549,  0.60974,  0.50902],\n",
       "       [ 0.3132 ,  0.42304,  0.33692, ...,  0.35985,  0.3748 ,  0.30031],\n",
       "       ...,\n",
       "       [90.5047 , 65.3032 , 72.998  , ..., 63.441  , 56.621  , 70.7366 ],\n",
       "       [73.8758 , 65.6771 , 60.8317 , ..., 43.3879 , 43.5347 , 46.0536 ],\n",
       "       [84.4527 , 67.1158 , 64.3183 , ..., 54.4204 , 51.4417 , 57.9078 ]])"
      ]
     },
     "execution_count": 9,
     "metadata": {},
     "output_type": "execute_result"
    }
   ],
   "source": [
    "data = np.genfromtxt('ftF_top_mri.csv', delimiter=\",\", skip_header=1)\n",
    "data = data[:, 1:]\n",
    "data"
   ]
  },
  {
   "cell_type": "code",
   "execution_count": 10,
   "id": "0822a85f",
   "metadata": {
    "tags": []
   },
   "outputs": [],
   "source": [
    "# Specifying the batch (scanner variable) as well as a sex covariate to preserve:\n",
    "first_columns_as_one = [1] * len1\n",
    "last_columns_as_two = [2] * len2\n",
    "covars = {'batch':first_columns_as_one + last_columns_as_two,\n",
    "          'sex':both_togetherF.loc['sex',:].values.tolist(),\n",
    "           'age':both_togetherF.loc['age',:].values.tolist(),} \n",
    "covars = pd.DataFrame(covars) "
   ]
  },
  {
   "cell_type": "code",
   "execution_count": 11,
   "id": "c9b12ab3-c95d-400a-8d59-6f2cc0169570",
   "metadata": {
    "tags": []
   },
   "outputs": [
    {
     "name": "stdout",
     "output_type": "stream",
     "text": [
      "[neuroCombat] Creating design matrix\n",
      "[neuroCombat] Standardizing data across features\n",
      "[neuroCombat] Fitting L/S model and finding priors\n",
      "[neuroCombat] Finding parametric adjustments\n",
      "[neuroCombat] Final adjustment of data\n"
     ]
    }
   ],
   "source": [
    "# specifify sex as categorical\n",
    "categorical_cols = ['sex']\n",
    "# To specify the name of the variable that encodes for the scanner/batch covariate:\n",
    "batch_col_mine = 'batch'\n",
    "\n",
    "#Harmonization step:\n",
    "data_combat = neuroCombat(dat=data,\n",
    "    covars=covars,\n",
    "    batch_col=batch_col_mine,\n",
    "    categorical_cols=categorical_cols)[\"data\"]"
   ]
  },
  {
   "cell_type": "code",
   "execution_count": 12,
   "id": "1081f339-db19-4920-b672-034732bb683d",
   "metadata": {
    "tags": []
   },
   "outputs": [
    {
     "data": {
      "text/html": [
       "<div>\n",
       "<style scoped>\n",
       "    .dataframe tbody tr th:only-of-type {\n",
       "        vertical-align: middle;\n",
       "    }\n",
       "\n",
       "    .dataframe tbody tr th {\n",
       "        vertical-align: top;\n",
       "    }\n",
       "\n",
       "    .dataframe thead th {\n",
       "        text-align: right;\n",
       "    }\n",
       "</style>\n",
       "<table border=\"1\" class=\"dataframe\">\n",
       "  <thead>\n",
       "    <tr style=\"text-align: right;\">\n",
       "      <th></th>\n",
       "      <th>0</th>\n",
       "      <th>1</th>\n",
       "      <th>2</th>\n",
       "      <th>3</th>\n",
       "      <th>4</th>\n",
       "      <th>5</th>\n",
       "      <th>6</th>\n",
       "      <th>7</th>\n",
       "      <th>8</th>\n",
       "      <th>9</th>\n",
       "      <th>...</th>\n",
       "      <th>1031</th>\n",
       "      <th>1032</th>\n",
       "      <th>1033</th>\n",
       "      <th>1034</th>\n",
       "      <th>1035</th>\n",
       "      <th>1036</th>\n",
       "      <th>1037</th>\n",
       "      <th>1038</th>\n",
       "      <th>1039</th>\n",
       "      <th>1040</th>\n",
       "    </tr>\n",
       "  </thead>\n",
       "  <tbody>\n",
       "    <tr>\n",
       "      <th>0</th>\n",
       "      <td>0.676570</td>\n",
       "      <td>0.636007</td>\n",
       "      <td>0.647562</td>\n",
       "      <td>0.663626</td>\n",
       "      <td>0.605668</td>\n",
       "      <td>0.680628</td>\n",
       "      <td>0.626644</td>\n",
       "      <td>0.613528</td>\n",
       "      <td>0.577465</td>\n",
       "      <td>0.563621</td>\n",
       "      <td>...</td>\n",
       "      <td>0.614335</td>\n",
       "      <td>0.633073</td>\n",
       "      <td>0.717369</td>\n",
       "      <td>0.745197</td>\n",
       "      <td>0.733885</td>\n",
       "      <td>0.757390</td>\n",
       "      <td>0.687591</td>\n",
       "      <td>0.705082</td>\n",
       "      <td>0.680164</td>\n",
       "      <td>0.649927</td>\n",
       "    </tr>\n",
       "    <tr>\n",
       "      <th>1</th>\n",
       "      <td>0.502153</td>\n",
       "      <td>0.493854</td>\n",
       "      <td>0.544655</td>\n",
       "      <td>0.493344</td>\n",
       "      <td>0.464931</td>\n",
       "      <td>0.522262</td>\n",
       "      <td>0.435998</td>\n",
       "      <td>0.430110</td>\n",
       "      <td>0.442327</td>\n",
       "      <td>0.443640</td>\n",
       "      <td>...</td>\n",
       "      <td>0.528495</td>\n",
       "      <td>0.555632</td>\n",
       "      <td>0.515374</td>\n",
       "      <td>0.565981</td>\n",
       "      <td>0.505001</td>\n",
       "      <td>0.487033</td>\n",
       "      <td>0.477970</td>\n",
       "      <td>0.527127</td>\n",
       "      <td>0.602906</td>\n",
       "      <td>0.501453</td>\n",
       "    </tr>\n",
       "    <tr>\n",
       "      <th>2</th>\n",
       "      <td>0.274844</td>\n",
       "      <td>0.368881</td>\n",
       "      <td>0.295151</td>\n",
       "      <td>0.263278</td>\n",
       "      <td>0.307976</td>\n",
       "      <td>0.319630</td>\n",
       "      <td>0.269895</td>\n",
       "      <td>0.272079</td>\n",
       "      <td>0.372366</td>\n",
       "      <td>0.384711</td>\n",
       "      <td>...</td>\n",
       "      <td>0.398009</td>\n",
       "      <td>0.421258</td>\n",
       "      <td>0.354513</td>\n",
       "      <td>0.267210</td>\n",
       "      <td>0.352634</td>\n",
       "      <td>0.284442</td>\n",
       "      <td>0.315811</td>\n",
       "      <td>0.409197</td>\n",
       "      <td>0.427843</td>\n",
       "      <td>0.352081</td>\n",
       "    </tr>\n",
       "    <tr>\n",
       "      <th>3</th>\n",
       "      <td>0.464791</td>\n",
       "      <td>0.423664</td>\n",
       "      <td>0.436396</td>\n",
       "      <td>0.466397</td>\n",
       "      <td>0.437585</td>\n",
       "      <td>0.447869</td>\n",
       "      <td>0.467296</td>\n",
       "      <td>0.463140</td>\n",
       "      <td>0.412475</td>\n",
       "      <td>0.402810</td>\n",
       "      <td>...</td>\n",
       "      <td>0.397182</td>\n",
       "      <td>0.391029</td>\n",
       "      <td>0.453789</td>\n",
       "      <td>0.468496</td>\n",
       "      <td>0.461567</td>\n",
       "      <td>0.498028</td>\n",
       "      <td>0.466881</td>\n",
       "      <td>0.429521</td>\n",
       "      <td>0.394168</td>\n",
       "      <td>0.433800</td>\n",
       "    </tr>\n",
       "    <tr>\n",
       "      <th>4</th>\n",
       "      <td>0.464791</td>\n",
       "      <td>0.423664</td>\n",
       "      <td>0.436396</td>\n",
       "      <td>0.466397</td>\n",
       "      <td>0.437585</td>\n",
       "      <td>0.447869</td>\n",
       "      <td>0.467296</td>\n",
       "      <td>0.463140</td>\n",
       "      <td>0.412475</td>\n",
       "      <td>0.402810</td>\n",
       "      <td>...</td>\n",
       "      <td>0.397182</td>\n",
       "      <td>0.391029</td>\n",
       "      <td>0.453789</td>\n",
       "      <td>0.468496</td>\n",
       "      <td>0.461567</td>\n",
       "      <td>0.498028</td>\n",
       "      <td>0.466881</td>\n",
       "      <td>0.429521</td>\n",
       "      <td>0.394168</td>\n",
       "      <td>0.433800</td>\n",
       "    </tr>\n",
       "    <tr>\n",
       "      <th>5</th>\n",
       "      <td>-0.741153</td>\n",
       "      <td>8.895530</td>\n",
       "      <td>2.935053</td>\n",
       "      <td>0.573531</td>\n",
       "      <td>-0.371511</td>\n",
       "      <td>0.555642</td>\n",
       "      <td>5.581747</td>\n",
       "      <td>9.718561</td>\n",
       "      <td>1.179975</td>\n",
       "      <td>3.111932</td>\n",
       "      <td>...</td>\n",
       "      <td>9.757454</td>\n",
       "      <td>0.026380</td>\n",
       "      <td>6.762887</td>\n",
       "      <td>-1.375663</td>\n",
       "      <td>5.365667</td>\n",
       "      <td>7.681578</td>\n",
       "      <td>7.662372</td>\n",
       "      <td>7.203047</td>\n",
       "      <td>7.955285</td>\n",
       "      <td>9.576576</td>\n",
       "    </tr>\n",
       "    <tr>\n",
       "      <th>6</th>\n",
       "      <td>21.019972</td>\n",
       "      <td>21.780841</td>\n",
       "      <td>25.585188</td>\n",
       "      <td>20.259102</td>\n",
       "      <td>20.259102</td>\n",
       "      <td>17.354338</td>\n",
       "      <td>50.693879</td>\n",
       "      <td>52.215618</td>\n",
       "      <td>21.019972</td>\n",
       "      <td>24.063449</td>\n",
       "      <td>...</td>\n",
       "      <td>7.743664</td>\n",
       "      <td>30.197013</td>\n",
       "      <td>20.376256</td>\n",
       "      <td>26.454788</td>\n",
       "      <td>20.841451</td>\n",
       "      <td>20.376256</td>\n",
       "      <td>20.376256</td>\n",
       "      <td>20.841451</td>\n",
       "      <td>32.068126</td>\n",
       "      <td>31.602931</td>\n",
       "    </tr>\n",
       "    <tr>\n",
       "      <th>7</th>\n",
       "      <td>8.940170</td>\n",
       "      <td>5.230700</td>\n",
       "      <td>6.401311</td>\n",
       "      <td>6.379128</td>\n",
       "      <td>7.733720</td>\n",
       "      <td>7.780655</td>\n",
       "      <td>4.139946</td>\n",
       "      <td>3.629495</td>\n",
       "      <td>5.516807</td>\n",
       "      <td>5.245837</td>\n",
       "      <td>...</td>\n",
       "      <td>4.642914</td>\n",
       "      <td>5.574062</td>\n",
       "      <td>6.377191</td>\n",
       "      <td>9.005146</td>\n",
       "      <td>5.725829</td>\n",
       "      <td>7.077788</td>\n",
       "      <td>5.235671</td>\n",
       "      <td>2.663893</td>\n",
       "      <td>8.657506</td>\n",
       "      <td>5.620045</td>\n",
       "    </tr>\n",
       "    <tr>\n",
       "      <th>8</th>\n",
       "      <td>1.679010</td>\n",
       "      <td>1.881776</td>\n",
       "      <td>1.752890</td>\n",
       "      <td>1.623410</td>\n",
       "      <td>1.925444</td>\n",
       "      <td>1.925000</td>\n",
       "      <td>1.809928</td>\n",
       "      <td>1.768884</td>\n",
       "      <td>1.785217</td>\n",
       "      <td>1.716077</td>\n",
       "      <td>...</td>\n",
       "      <td>2.031684</td>\n",
       "      <td>1.777919</td>\n",
       "      <td>1.736658</td>\n",
       "      <td>2.025160</td>\n",
       "      <td>1.859267</td>\n",
       "      <td>2.091085</td>\n",
       "      <td>1.483916</td>\n",
       "      <td>1.894825</td>\n",
       "      <td>1.813732</td>\n",
       "      <td>2.016132</td>\n",
       "    </tr>\n",
       "    <tr>\n",
       "      <th>9</th>\n",
       "      <td>1.972876</td>\n",
       "      <td>1.733382</td>\n",
       "      <td>1.979178</td>\n",
       "      <td>1.931316</td>\n",
       "      <td>1.878704</td>\n",
       "      <td>1.944880</td>\n",
       "      <td>1.821890</td>\n",
       "      <td>1.687255</td>\n",
       "      <td>2.010782</td>\n",
       "      <td>1.861623</td>\n",
       "      <td>...</td>\n",
       "      <td>2.000205</td>\n",
       "      <td>2.033181</td>\n",
       "      <td>1.947493</td>\n",
       "      <td>1.965557</td>\n",
       "      <td>1.894592</td>\n",
       "      <td>2.139222</td>\n",
       "      <td>1.949944</td>\n",
       "      <td>2.021260</td>\n",
       "      <td>1.939711</td>\n",
       "      <td>2.175206</td>\n",
       "    </tr>\n",
       "    <tr>\n",
       "      <th>10</th>\n",
       "      <td>1.677336</td>\n",
       "      <td>2.456991</td>\n",
       "      <td>1.987917</td>\n",
       "      <td>1.945113</td>\n",
       "      <td>1.919583</td>\n",
       "      <td>1.588211</td>\n",
       "      <td>1.889586</td>\n",
       "      <td>1.664444</td>\n",
       "      <td>1.837935</td>\n",
       "      <td>1.783419</td>\n",
       "      <td>...</td>\n",
       "      <td>1.728040</td>\n",
       "      <td>1.794051</td>\n",
       "      <td>2.056839</td>\n",
       "      <td>2.141933</td>\n",
       "      <td>1.920906</td>\n",
       "      <td>2.491788</td>\n",
       "      <td>1.461190</td>\n",
       "      <td>2.169965</td>\n",
       "      <td>1.835001</td>\n",
       "      <td>2.128792</td>\n",
       "    </tr>\n",
       "    <tr>\n",
       "      <th>11</th>\n",
       "      <td>1.910629</td>\n",
       "      <td>1.881870</td>\n",
       "      <td>1.942573</td>\n",
       "      <td>1.778249</td>\n",
       "      <td>1.910629</td>\n",
       "      <td>1.948256</td>\n",
       "      <td>1.853376</td>\n",
       "      <td>1.640913</td>\n",
       "      <td>1.808247</td>\n",
       "      <td>1.723828</td>\n",
       "      <td>...</td>\n",
       "      <td>1.847107</td>\n",
       "      <td>1.822035</td>\n",
       "      <td>1.926085</td>\n",
       "      <td>2.190738</td>\n",
       "      <td>1.982427</td>\n",
       "      <td>2.187587</td>\n",
       "      <td>1.837394</td>\n",
       "      <td>1.944936</td>\n",
       "      <td>1.780443</td>\n",
       "      <td>2.261398</td>\n",
       "    </tr>\n",
       "    <tr>\n",
       "      <th>12</th>\n",
       "      <td>28.288935</td>\n",
       "      <td>23.811992</td>\n",
       "      <td>30.412874</td>\n",
       "      <td>23.675753</td>\n",
       "      <td>8.381232</td>\n",
       "      <td>14.960932</td>\n",
       "      <td>38.734255</td>\n",
       "      <td>43.541481</td>\n",
       "      <td>46.263386</td>\n",
       "      <td>58.026723</td>\n",
       "      <td>...</td>\n",
       "      <td>23.965084</td>\n",
       "      <td>24.943708</td>\n",
       "      <td>26.616773</td>\n",
       "      <td>25.115598</td>\n",
       "      <td>27.541145</td>\n",
       "      <td>28.291868</td>\n",
       "      <td>25.840631</td>\n",
       "      <td>22.580977</td>\n",
       "      <td>22.275584</td>\n",
       "      <td>22.051396</td>\n",
       "    </tr>\n",
       "    <tr>\n",
       "      <th>13</th>\n",
       "      <td>112.407756</td>\n",
       "      <td>78.760008</td>\n",
       "      <td>85.100774</td>\n",
       "      <td>78.718964</td>\n",
       "      <td>64.172779</td>\n",
       "      <td>77.407803</td>\n",
       "      <td>91.486700</td>\n",
       "      <td>94.810618</td>\n",
       "      <td>117.261267</td>\n",
       "      <td>133.025386</td>\n",
       "      <td>...</td>\n",
       "      <td>78.526729</td>\n",
       "      <td>79.078330</td>\n",
       "      <td>86.408879</td>\n",
       "      <td>85.955301</td>\n",
       "      <td>100.358404</td>\n",
       "      <td>110.342749</td>\n",
       "      <td>83.384160</td>\n",
       "      <td>66.139515</td>\n",
       "      <td>60.046835</td>\n",
       "      <td>71.991775</td>\n",
       "    </tr>\n",
       "    <tr>\n",
       "      <th>14</th>\n",
       "      <td>99.711380</td>\n",
       "      <td>67.858413</td>\n",
       "      <td>77.584112</td>\n",
       "      <td>74.579115</td>\n",
       "      <td>53.325097</td>\n",
       "      <td>67.640417</td>\n",
       "      <td>82.825130</td>\n",
       "      <td>83.679295</td>\n",
       "      <td>101.041541</td>\n",
       "      <td>112.393036</td>\n",
       "      <td>...</td>\n",
       "      <td>65.869522</td>\n",
       "      <td>68.273501</td>\n",
       "      <td>78.156115</td>\n",
       "      <td>76.376159</td>\n",
       "      <td>90.155190</td>\n",
       "      <td>99.374847</td>\n",
       "      <td>80.764356</td>\n",
       "      <td>61.027209</td>\n",
       "      <td>55.198450</td>\n",
       "      <td>67.972966</td>\n",
       "    </tr>\n",
       "    <tr>\n",
       "      <th>15</th>\n",
       "      <td>79.901797</td>\n",
       "      <td>69.958931</td>\n",
       "      <td>64.082736</td>\n",
       "      <td>57.209428</td>\n",
       "      <td>43.904370</td>\n",
       "      <td>49.796323</td>\n",
       "      <td>70.367017</td>\n",
       "      <td>70.170554</td>\n",
       "      <td>94.308627</td>\n",
       "      <td>108.079982</td>\n",
       "      <td>...</td>\n",
       "      <td>52.252578</td>\n",
       "      <td>52.913782</td>\n",
       "      <td>69.049372</td>\n",
       "      <td>53.201713</td>\n",
       "      <td>74.075031</td>\n",
       "      <td>78.846446</td>\n",
       "      <td>63.418455</td>\n",
       "      <td>42.464570</td>\n",
       "      <td>42.592540</td>\n",
       "      <td>45.652581</td>\n",
       "    </tr>\n",
       "    <tr>\n",
       "      <th>16</th>\n",
       "      <td>93.408254</td>\n",
       "      <td>71.725258</td>\n",
       "      <td>68.226467</td>\n",
       "      <td>65.192056</td>\n",
       "      <td>49.215810</td>\n",
       "      <td>60.306580</td>\n",
       "      <td>75.449422</td>\n",
       "      <td>77.534188</td>\n",
       "      <td>98.916519</td>\n",
       "      <td>111.291044</td>\n",
       "      <td>...</td>\n",
       "      <td>60.337765</td>\n",
       "      <td>62.767766</td>\n",
       "      <td>72.271894</td>\n",
       "      <td>66.970890</td>\n",
       "      <td>82.392246</td>\n",
       "      <td>89.182975</td>\n",
       "      <td>72.571093</td>\n",
       "      <td>52.308093</td>\n",
       "      <td>49.750047</td>\n",
       "      <td>56.086654</td>\n",
       "    </tr>\n",
       "  </tbody>\n",
       "</table>\n",
       "<p>17 rows × 1041 columns</p>\n",
       "</div>"
      ],
      "text/plain": [
       "          0          1          2          3          4          5     \\\n",
       "0     0.676570   0.636007   0.647562   0.663626   0.605668   0.680628   \n",
       "1     0.502153   0.493854   0.544655   0.493344   0.464931   0.522262   \n",
       "2     0.274844   0.368881   0.295151   0.263278   0.307976   0.319630   \n",
       "3     0.464791   0.423664   0.436396   0.466397   0.437585   0.447869   \n",
       "4     0.464791   0.423664   0.436396   0.466397   0.437585   0.447869   \n",
       "5    -0.741153   8.895530   2.935053   0.573531  -0.371511   0.555642   \n",
       "6    21.019972  21.780841  25.585188  20.259102  20.259102  17.354338   \n",
       "7     8.940170   5.230700   6.401311   6.379128   7.733720   7.780655   \n",
       "8     1.679010   1.881776   1.752890   1.623410   1.925444   1.925000   \n",
       "9     1.972876   1.733382   1.979178   1.931316   1.878704   1.944880   \n",
       "10    1.677336   2.456991   1.987917   1.945113   1.919583   1.588211   \n",
       "11    1.910629   1.881870   1.942573   1.778249   1.910629   1.948256   \n",
       "12   28.288935  23.811992  30.412874  23.675753   8.381232  14.960932   \n",
       "13  112.407756  78.760008  85.100774  78.718964  64.172779  77.407803   \n",
       "14   99.711380  67.858413  77.584112  74.579115  53.325097  67.640417   \n",
       "15   79.901797  69.958931  64.082736  57.209428  43.904370  49.796323   \n",
       "16   93.408254  71.725258  68.226467  65.192056  49.215810  60.306580   \n",
       "\n",
       "         6          7           8           9     ...       1031       1032  \\\n",
       "0    0.626644   0.613528    0.577465    0.563621  ...   0.614335   0.633073   \n",
       "1    0.435998   0.430110    0.442327    0.443640  ...   0.528495   0.555632   \n",
       "2    0.269895   0.272079    0.372366    0.384711  ...   0.398009   0.421258   \n",
       "3    0.467296   0.463140    0.412475    0.402810  ...   0.397182   0.391029   \n",
       "4    0.467296   0.463140    0.412475    0.402810  ...   0.397182   0.391029   \n",
       "5    5.581747   9.718561    1.179975    3.111932  ...   9.757454   0.026380   \n",
       "6   50.693879  52.215618   21.019972   24.063449  ...   7.743664  30.197013   \n",
       "7    4.139946   3.629495    5.516807    5.245837  ...   4.642914   5.574062   \n",
       "8    1.809928   1.768884    1.785217    1.716077  ...   2.031684   1.777919   \n",
       "9    1.821890   1.687255    2.010782    1.861623  ...   2.000205   2.033181   \n",
       "10   1.889586   1.664444    1.837935    1.783419  ...   1.728040   1.794051   \n",
       "11   1.853376   1.640913    1.808247    1.723828  ...   1.847107   1.822035   \n",
       "12  38.734255  43.541481   46.263386   58.026723  ...  23.965084  24.943708   \n",
       "13  91.486700  94.810618  117.261267  133.025386  ...  78.526729  79.078330   \n",
       "14  82.825130  83.679295  101.041541  112.393036  ...  65.869522  68.273501   \n",
       "15  70.367017  70.170554   94.308627  108.079982  ...  52.252578  52.913782   \n",
       "16  75.449422  77.534188   98.916519  111.291044  ...  60.337765  62.767766   \n",
       "\n",
       "         1033       1034        1035        1036       1037       1038  \\\n",
       "0    0.717369   0.745197    0.733885    0.757390   0.687591   0.705082   \n",
       "1    0.515374   0.565981    0.505001    0.487033   0.477970   0.527127   \n",
       "2    0.354513   0.267210    0.352634    0.284442   0.315811   0.409197   \n",
       "3    0.453789   0.468496    0.461567    0.498028   0.466881   0.429521   \n",
       "4    0.453789   0.468496    0.461567    0.498028   0.466881   0.429521   \n",
       "5    6.762887  -1.375663    5.365667    7.681578   7.662372   7.203047   \n",
       "6   20.376256  26.454788   20.841451   20.376256  20.376256  20.841451   \n",
       "7    6.377191   9.005146    5.725829    7.077788   5.235671   2.663893   \n",
       "8    1.736658   2.025160    1.859267    2.091085   1.483916   1.894825   \n",
       "9    1.947493   1.965557    1.894592    2.139222   1.949944   2.021260   \n",
       "10   2.056839   2.141933    1.920906    2.491788   1.461190   2.169965   \n",
       "11   1.926085   2.190738    1.982427    2.187587   1.837394   1.944936   \n",
       "12  26.616773  25.115598   27.541145   28.291868  25.840631  22.580977   \n",
       "13  86.408879  85.955301  100.358404  110.342749  83.384160  66.139515   \n",
       "14  78.156115  76.376159   90.155190   99.374847  80.764356  61.027209   \n",
       "15  69.049372  53.201713   74.075031   78.846446  63.418455  42.464570   \n",
       "16  72.271894  66.970890   82.392246   89.182975  72.571093  52.308093   \n",
       "\n",
       "         1039       1040  \n",
       "0    0.680164   0.649927  \n",
       "1    0.602906   0.501453  \n",
       "2    0.427843   0.352081  \n",
       "3    0.394168   0.433800  \n",
       "4    0.394168   0.433800  \n",
       "5    7.955285   9.576576  \n",
       "6   32.068126  31.602931  \n",
       "7    8.657506   5.620045  \n",
       "8    1.813732   2.016132  \n",
       "9    1.939711   2.175206  \n",
       "10   1.835001   2.128792  \n",
       "11   1.780443   2.261398  \n",
       "12  22.275584  22.051396  \n",
       "13  60.046835  71.991775  \n",
       "14  55.198450  67.972966  \n",
       "15  42.592540  45.652581  \n",
       "16  49.750047  56.086654  \n",
       "\n",
       "[17 rows x 1041 columns]"
      ]
     },
     "execution_count": 12,
     "metadata": {},
     "output_type": "execute_result"
    }
   ],
   "source": [
    "neurocombat = pd.DataFrame(data_combat)\n",
    "neurocombat"
   ]
  },
  {
   "cell_type": "code",
   "execution_count": 13,
   "id": "1e338673-9a75-4673-83fd-de4628184213",
   "metadata": {
    "tags": []
   },
   "outputs": [],
   "source": [
    "def make_topper(btF, row0,row1):\n",
    "    \"\"\"\n",
    "    This function makes top rows for something harmonized\n",
    "    out of the btF part produced with prep_for_neurocombat(dataframename1, dataframename2)\n",
    "    \"\"\"\n",
    "    topperF = btF.head(2)\n",
    "    topperF = topperF.rename_axis(None, axis=\"columns\")\n",
    "    topperF = topperF.reset_index(drop=False)\n",
    "    topperF = topperF.rename(columns={\"index\": \"char\"})\n",
    "    topperF['char'][0] = row0#'age'\n",
    "    topperF['char'][1] = row1#'sex'\n",
    "    return topperF"
   ]
  },
  {
   "cell_type": "code",
   "execution_count": 14,
   "id": "e13498a9-4d84-448d-a0db-a0306d4cd22c",
   "metadata": {
    "tags": []
   },
   "outputs": [
    {
     "name": "stderr",
     "output_type": "stream",
     "text": [
      "C:\\ProgramData\\miniconda3\\envs\\neuron\\lib\\site-packages\\ipykernel_launcher.py:10: SettingWithCopyWarning: \n",
      "A value is trying to be set on a copy of a slice from a DataFrame\n",
      "\n",
      "See the caveats in the documentation: https://pandas.pydata.org/pandas-docs/stable/user_guide/indexing.html#returning-a-view-versus-a-copy\n",
      "  # Remove the CWD from sys.path while we load stuff.\n",
      "C:\\ProgramData\\miniconda3\\envs\\neuron\\lib\\site-packages\\pandas\\core\\indexing.py:671: SettingWithCopyWarning: \n",
      "A value is trying to be set on a copy of a slice from a DataFrame\n",
      "\n",
      "See the caveats in the documentation: https://pandas.pydata.org/pandas-docs/stable/user_guide/indexing.html#returning-a-view-versus-a-copy\n",
      "  self._setitem_with_indexer(indexer, value)\n"
     ]
    }
   ],
   "source": [
    "topperF = make_topper(btF,'age', 'sex')"
   ]
  },
  {
   "cell_type": "code",
   "execution_count": 15,
   "id": "4221e474-acd6-4a77-be9f-20f283015f18",
   "metadata": {
    "tags": []
   },
   "outputs": [],
   "source": [
    "bottom = neurocombat.reset_index(drop=False)\n",
    "bottom = bottom.rename(columns={\"index\": \"char\"})\n",
    "bottom.columns = topperF.columns"
   ]
  },
  {
   "cell_type": "code",
   "execution_count": 16,
   "id": "e777f7f0-c411-477e-bedb-aef5bd99e3c8",
   "metadata": {
    "tags": []
   },
   "outputs": [],
   "source": [
    "back_together = pd.concat([topperF, bottom])\n",
    "back_together = back_together.T\n",
    "#back_together"
   ]
  },
  {
   "cell_type": "code",
   "execution_count": 17,
   "id": "fbeeec53-6d33-4fa2-a173-de19b79c435b",
   "metadata": {
    "tags": []
   },
   "outputs": [],
   "source": [
    "new_header = back_together.iloc[0] #grab the first row for the header\n",
    "back_together.columns = new_header #set the header row as the df header\n",
    "back_together = back_together[1:]\n",
    "#back_together"
   ]
  },
  {
   "cell_type": "code",
   "execution_count": 18,
   "id": "57dbb033-c216-4df9-b1e4-db93783c4e7b",
   "metadata": {
    "tags": []
   },
   "outputs": [],
   "source": [
    "neuro_harm_top =back_together.tail(len2)\n",
    "neuro_harm_mri =back_together.head(len1)"
   ]
  },
  {
   "cell_type": "code",
   "execution_count": 19,
   "id": "ce61d0b9-28fd-43c1-ba3f-8b43453ecd0b",
   "metadata": {
    "tags": []
   },
   "outputs": [],
   "source": [
    "neuro_harm_top = neuro_harm_top.rename(feature_dictF, axis='columns')\n",
    "neuro_harm_mri = neuro_harm_mri.rename(feature_dictF, axis='columns')"
   ]
  },
  {
   "cell_type": "code",
   "execution_count": null,
   "id": "31bf4520-c85e-4129-9315-cc6f9af93a9f",
   "metadata": {},
   "outputs": [],
   "source": [
    "Save off to harmonized csv files"
   ]
  },
  {
   "cell_type": "code",
   "execution_count": 20,
   "id": "613ddb0a-008a-42d4-a6a9-c88be60e8f21",
   "metadata": {
    "tags": []
   },
   "outputs": [],
   "source": [
    "# neuro_harm_mri.to_csv('neuro_harm_mri_mon.csv')\n",
    "# neuro_harm_top.to_csv('neuro_harm_top_mon.csv')"
   ]
  },
  {
   "cell_type": "markdown",
   "id": "560aefeb-461c-41d2-b8d7-0689cc56cfe8",
   "metadata": {},
   "source": [
    "Here we will also save off a version without white matter columns...optional"
   ]
  },
  {
   "cell_type": "code",
   "execution_count": 24,
   "id": "2e9829a6-f5ce-408e-8c33-d631e30147b6",
   "metadata": {
    "tags": []
   },
   "outputs": [],
   "source": [
    "# neuro_harm_mri_less = neuro_harm_mri.drop(columns=['wmh_vol', 'wmh_count'])\n",
    "# neuro_harm_top_less = neuro_harm_top.drop(columns=['wmh_vol', 'wmh_count'])\n",
    "# neuro_harm_mri_less.to_csv('less_neuro_harm_mri_mon.csv')\n",
    "# neuro_harm_top_less.to_csv('less_neuro_harm_top_mon.csv')"
   ]
  },
  {
   "cell_type": "markdown",
   "id": "3a5db039",
   "metadata": {},
   "source": [
    "# Investigate neurocombat results"
   ]
  },
  {
   "cell_type": "code",
   "execution_count": null,
   "id": "9ed2ca84-469f-4590-930d-8641fbd98847",
   "metadata": {
    "tags": []
   },
   "outputs": [],
   "source": [
    "neuro_harm_mri.head(3) "
   ]
  },
  {
   "cell_type": "markdown",
   "id": "c528109f-d367-48c1-a4d9-54c9d16c48af",
   "metadata": {},
   "source": [
    "## We see neuroharmoney added negative numbers \n"
   ]
  },
  {
   "cell_type": "markdown",
   "id": "9274bc7e-4934-45aa-902b-2a2120b0718f",
   "metadata": {},
   "source": [
    "## let's see how many negative numbers we have"
   ]
  },
  {
   "cell_type": "code",
   "execution_count": null,
   "id": "6ea3fc95-ede0-4d9d-bc1f-e8c0808052e7",
   "metadata": {
    "tags": []
   },
   "outputs": [],
   "source": [
    "number_columns = ['gm_vol',\n",
    "                  'wm_vol',\n",
    "                  'csf_vol',\n",
    "                  'gm_ivc_ratio', \n",
    "                  'gmwm_ivc_ratio',\n",
    "                  'wmh_vol',\n",
    "                  'wmh_count',\n",
    "                  'deepwm_b_cov',\n",
    "                  'aca_b_cov',\n",
    "                  'mca_b_cov',\n",
    "                  'pca_b_cov',\n",
    "                  'totalgm_b_cov',\n",
    "                  'deepwm_b',\n",
    "                  'aca_b',\n",
    "                  'mca_b',\n",
    "                  'pca_b',\n",
    "                  'totalgm_b',]"
   ]
  },
  {
   "cell_type": "code",
   "execution_count": null,
   "id": "13aecde2-42b9-431a-940c-d679c3802cf7",
   "metadata": {
    "tags": []
   },
   "outputs": [],
   "source": [
    "(neuro_harm_mri[number_columns] < 0).sum()"
   ]
  },
  {
   "cell_type": "code",
   "execution_count": null,
   "id": "2f2e6c44-3d4c-4222-8b28-5f732cca8f07",
   "metadata": {
    "tags": []
   },
   "outputs": [],
   "source": [
    "#our_top_data.head(3)\n",
    "big_top = our_top_data.rename(columns={\"Unnamed: 0\": \"level_0\"})\n",
    "big_top.head(3)"
   ]
  },
  {
   "cell_type": "code",
   "execution_count": null,
   "id": "ba0ea7a9-07e1-4b66-999b-1f4c92881636",
   "metadata": {
    "tags": []
   },
   "outputs": [],
   "source": [
    "new_harm_top = neuro_harm_top.reset_index()\n",
    "new_harm_top = new_harm_top.reset_index()\n",
    "new_harm_top = new_harm_top.rename(columns={\"index\": \"participant_id\"})\n",
    "new_harm_top.head(3) "
   ]
  },
  {
   "cell_type": "code",
   "execution_count": null,
   "id": "b57303a4-cc46-47d0-83b7-18764545b715",
   "metadata": {
    "tags": []
   },
   "outputs": [],
   "source": [
    "# difference in harmonized and original - raw\n",
    "raw_differences = big_top[number_columns] - new_harm_top[number_columns]"
   ]
  },
  {
   "cell_type": "code",
   "execution_count": null,
   "id": "53014c63-6150-48d9-b2ae-b8e9069aa886",
   "metadata": {
    "tags": []
   },
   "outputs": [],
   "source": [
    "# difference in harmonized and original - raw\n",
    "differences = (big_top[number_columns] - new_harm_top[number_columns])/big_top[number_columns]\n",
    "differences"
   ]
  },
  {
   "cell_type": "code",
   "execution_count": null,
   "id": "3be4a3c3-bfcb-4acf-b905-3805657b6a80",
   "metadata": {
    "tags": []
   },
   "outputs": [],
   "source": [
    "differences_n = differences.apply(pd.to_numeric) #"
   ]
  },
  {
   "cell_type": "code",
   "execution_count": null,
   "id": "a552bfad-c9b7-4323-bfba-3ae8bd540359",
   "metadata": {
    "tags": []
   },
   "outputs": [],
   "source": [
    "differences_n.describe()"
   ]
  },
  {
   "cell_type": "markdown",
   "id": "bcf7f258-5ee6-4e8d-8b0b-12b55e38b6e9",
   "metadata": {},
   "source": [
    "## Now we can use the versions of TOP and StrokeMRI with log base 10 revision of white matter hyperintensity count, as well as white matter hyperintensity  volume"
   ]
  },
  {
   "cell_type": "code",
   "execution_count": null,
   "id": "3c7418f2-9fe2-4f61-b8c8-97a8b912358d",
   "metadata": {
    "tags": []
   },
   "outputs": [],
   "source": [
    "log_filepath = '../open_work/internal_results/loggy/' \n",
    "log_filename_mri = os.path.join(log_filepath,'stroke_loged_mon.csv') \n",
    "log_filename_top = os.path.join(log_filepath,'top_loged_mon.csv') "
   ]
  },
  {
   "cell_type": "code",
   "execution_count": null,
   "id": "a483539b-effb-4dc0-8999-0fec98e6b0f4",
   "metadata": {
    "tags": []
   },
   "outputs": [],
   "source": [
    "log_mri_data = pd.read_csv(log_filename_mri)\n",
    "log_top_data = pd.read_csv(log_filename_top)"
   ]
  },
  {
   "cell_type": "code",
   "execution_count": null,
   "id": "ba0818b1",
   "metadata": {
    "tags": []
   },
   "outputs": [],
   "source": [
    "log_both_togetherF, log_ftF, log_btF, log_feature_dictF, log_len1, log_len2 = prep_for_neurocombat(\n",
    "    log_filename_mri,\n",
    "    log_filename_top)"
   ]
  },
  {
   "cell_type": "code",
   "execution_count": null,
   "id": "1d34b711-1237-40d4-ae60-9e28c3a217ff",
   "metadata": {
    "tags": []
   },
   "outputs": [],
   "source": [
    "# # make and save of csv of features only\n",
    "# log_features_only = log_both_together[2:]\n",
    "# #log_features_only.to_csv('log_features_only_top_mri.csv')"
   ]
  },
  {
   "cell_type": "code",
   "execution_count": null,
   "id": "282735a0-b085-4ffa-b347-dfeac2083904",
   "metadata": {
    "tags": []
   },
   "outputs": [],
   "source": [
    "\n",
    "log_ftF.to_csv('log_ftF_top_mri.csv')"
   ]
  },
  {
   "cell_type": "code",
   "execution_count": null,
   "id": "d9d6b7a4-16d4-4119-927d-3a11116aeff5",
   "metadata": {
    "tags": []
   },
   "outputs": [],
   "source": [
    "log_data = np.genfromtxt('log_ftF_top_mri.csv', delimiter=\",\", skip_header=1)\n",
    "log_data = log_data[:, 1:]"
   ]
  },
  {
   "cell_type": "code",
   "execution_count": null,
   "id": "630c2040-a7ab-4af2-96dc-e1d05ef1a5e9",
   "metadata": {
    "tags": []
   },
   "outputs": [],
   "source": [
    "# Specifying the batch (scanner variable) as well as a sex covariate to preserve:\n",
    "first_columns_as_one = [1] * log_len1\n",
    "last_columns_as_two = [2] * log_len2\n",
    "covars = {'batch':first_columns_as_one + last_columns_as_two,\n",
    "          'sex':log_both_togetherF.loc['sex',:].values.tolist(),\n",
    "           'age':log_both_togetherF.loc['age',:].values.tolist(),} \n",
    "covars = pd.DataFrame(covars) "
   ]
  },
  {
   "cell_type": "code",
   "execution_count": null,
   "id": "114a74da-fc9a-466e-ae4e-08d83aa3256e",
   "metadata": {
    "tags": []
   },
   "outputs": [],
   "source": [
    "# specifify sex as categorical\n",
    "categorical_cols = ['sex']\n",
    "# To specify the name of the variable that encodes for the scanner/batch covariate:\n",
    "batch_col_mine = 'batch'\n",
    "\n",
    "#Harmonization step:\n",
    "log_data_combat = neuroCombat(dat=log_data,\n",
    "    covars=covars,\n",
    "    batch_col=batch_col_mine,\n",
    "    categorical_cols=categorical_cols)[\"data\"]"
   ]
  },
  {
   "cell_type": "code",
   "execution_count": null,
   "id": "2797e7f4-800e-43a9-ad00-09011323cbd5",
   "metadata": {
    "tags": []
   },
   "outputs": [],
   "source": [
    "log_data_combat"
   ]
  },
  {
   "cell_type": "code",
   "execution_count": null,
   "id": "e219cd5c-2911-45f4-954b-54f01eb960d4",
   "metadata": {
    "tags": []
   },
   "outputs": [],
   "source": [
    "log_neurocombat = pd.DataFrame(log_data_combat)\n",
    "#log_neurocombat"
   ]
  },
  {
   "cell_type": "code",
   "execution_count": null,
   "id": "b7c53787-6636-4b02-9e76-97bae2017379",
   "metadata": {
    "tags": []
   },
   "outputs": [],
   "source": [
    "log_topperF = make_topper(log_btF,'age', 'sex')"
   ]
  },
  {
   "cell_type": "code",
   "execution_count": null,
   "id": "3b64b914-2c72-46a7-8950-f33cbd81a89a",
   "metadata": {
    "tags": []
   },
   "outputs": [],
   "source": [
    "log_bottom = log_neurocombat.reset_index(drop=False)\n",
    "log_bottom = log_bottom.rename(columns={\"index\": \"char\"})\n",
    "log_bottom.columns = log_topperF.columns\n",
    "#log_bottom"
   ]
  },
  {
   "cell_type": "code",
   "execution_count": null,
   "id": "37659124-7793-4d8e-9831-b2f067245c98",
   "metadata": {
    "tags": []
   },
   "outputs": [],
   "source": [
    "log_back_together = pd.concat([log_topperF, log_bottom])\n",
    "log_back_together = log_back_together.T\n",
    "#log_back_together"
   ]
  },
  {
   "cell_type": "code",
   "execution_count": null,
   "id": "bbf8f68c-6f56-4cbd-83cf-123647218175",
   "metadata": {
    "tags": []
   },
   "outputs": [],
   "source": [
    "log_new_header = log_back_together.iloc[0] #grab the first row for the header\n",
    "log_back_together.columns = new_header #set the header row as the df header\n",
    "log_back_together = log_back_together[1:]\n",
    "#log_back_together"
   ]
  },
  {
   "cell_type": "code",
   "execution_count": null,
   "id": "522191ea-d7a2-4a7b-acf5-e6147a1397f6",
   "metadata": {
    "tags": []
   },
   "outputs": [],
   "source": [
    "log_back_together.head(514).tail(5)"
   ]
  },
  {
   "cell_type": "code",
   "execution_count": null,
   "id": "1ae9271e-a5df-4e1d-b0bf-38c791010d68",
   "metadata": {
    "tags": []
   },
   "outputs": [],
   "source": [
    "log_back_together.tail(527).head(5)"
   ]
  },
  {
   "cell_type": "code",
   "execution_count": null,
   "id": "08b406b7-8fce-4a83-989d-f4c3a39f21ba",
   "metadata": {
    "tags": []
   },
   "outputs": [],
   "source": []
  },
  {
   "cell_type": "code",
   "execution_count": null,
   "id": "6e20a3f6-8a25-4b3b-b90a-2a7438d83e12",
   "metadata": {
    "tags": []
   },
   "outputs": [],
   "source": [
    "log_neuro_harm_top =log_back_together.tail(log_len2)\n",
    "log_neuro_harm_mri =log_back_together.head(log_len1)"
   ]
  },
  {
   "cell_type": "code",
   "execution_count": null,
   "id": "719a887a-439c-476a-b4a6-2bf9ab3bba78",
   "metadata": {
    "tags": []
   },
   "outputs": [],
   "source": [
    "log_neuro_harm_top = log_neuro_harm_top.rename(log_feature_dictF, axis='columns')\n",
    "log_neuro_harm_mri = log_neuro_harm_mri.rename(log_feature_dictF, axis='columns')"
   ]
  },
  {
   "cell_type": "code",
   "execution_count": null,
   "id": "a3bb1c10-4e88-422f-b380-6a542e315796",
   "metadata": {
    "tags": []
   },
   "outputs": [],
   "source": [
    "(log_neuro_harm_mri[number_columns] < 0).sum()"
   ]
  },
  {
   "cell_type": "code",
   "execution_count": null,
   "id": "6c3bd1fe-8280-42d0-a3cc-290abfe7f83c",
   "metadata": {
    "tags": []
   },
   "outputs": [],
   "source": [
    "## There are still negative numbers in the outcome...but there is a difference"
   ]
  },
  {
   "cell_type": "code",
   "execution_count": null,
   "id": "55be6d53-d807-4397-b41d-23e7ad352ab9",
   "metadata": {
    "tags": []
   },
   "outputs": [],
   "source": [
    "# log_neuro_harm_mri.to_csv('log_neuro_harm_mri_mon.csv')\n",
    "# log_neuro_harm_top.to_csv('log_neuro_harm_top_mon.csv')"
   ]
  },
  {
   "cell_type": "code",
   "execution_count": null,
   "id": "40b3e8c1-1016-42f9-94c5-bc5d3b502ce4",
   "metadata": {
    "tags": []
   },
   "outputs": [],
   "source": [
    "log_neuro_harm_mri.head(3)"
   ]
  },
  {
   "cell_type": "code",
   "execution_count": null,
   "id": "dd71d58e-5374-40ba-9c6d-cbd93c9f49cb",
   "metadata": {
    "tags": []
   },
   "outputs": [],
   "source": [
    "neuro_harm_mri.head(3)"
   ]
  },
  {
   "cell_type": "code",
   "execution_count": null,
   "id": "0fbf4d5c-1688-4b05-809c-be65178e25ea",
   "metadata": {
    "tags": []
   },
   "outputs": [],
   "source": [
    "dif_log_to_reg = log_neuro_harm_mri[number_columns] - neuro_harm_mri[number_columns]\n",
    "dif_log_to_reg "
   ]
  },
  {
   "cell_type": "code",
   "execution_count": null,
   "id": "1204dc18-151c-4d18-b13e-e538620cbcb3",
   "metadata": {
    "tags": []
   },
   "outputs": [],
   "source": [
    "dif_log_to_reg.sum().sum()"
   ]
  },
  {
   "cell_type": "markdown",
   "id": "f0e42b6c-2454-4163-be64-a5f075e46097",
   "metadata": {},
   "source": [
    "# So changing the two columns to theirlog made la difference in the harmarmonized outcomes...now let's look at how this plays out when we make models..."
   ]
  }
 ],
 "metadata": {
  "kernelspec": {
   "display_name": "Python 3 (ipykernel)",
   "language": "python",
   "name": "python3"
  },
  "language_info": {
   "codemirror_mode": {
    "name": "ipython",
    "version": 3
   },
   "file_extension": ".py",
   "mimetype": "text/x-python",
   "name": "python",
   "nbconvert_exporter": "python",
   "pygments_lexer": "ipython3",
   "version": "3.7.12"
  }
 },
 "nbformat": 4,
 "nbformat_minor": 5
}
