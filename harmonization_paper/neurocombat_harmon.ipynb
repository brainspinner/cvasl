{
 "cells": [
  {
   "cell_type": "markdown",
   "id": "7a33816b-aebe-4619-ad1f-a13d8d1e1c08",
   "metadata": {},
   "source": [
    "# Neurocombat TOP and StrokeMRI harmonized datasets"
   ]
  },
  {
   "cell_type": "markdown",
   "id": "7f765dc9-a0ac-498a-8c6a-72d1dbf11ad5",
   "metadata": {},
   "source": [
    "Note this must be run in the `neurocombaty` environment"
   ]
  },
  {
   "cell_type": "markdown",
   "id": "0b8443b2-c77a-4cde-80cc-d17253eeda50",
   "metadata": {},
   "source": [
    "## import libraries"
   ]
  },
  {
   "cell_type": "code",
   "execution_count": null,
   "id": "6c43d78c-4b3d-4483-aa81-6155993812c1",
   "metadata": {},
   "outputs": [],
   "source": [
    "import os\n",
    "\n",
    "import pandas as pd\n",
    "import numpy as np\n",
    "import matplotlib.pyplot as plt\n",
    "\n",
    "from neuroCombat import neuroCombat"
   ]
  },
  {
   "cell_type": "markdown",
   "id": "47358f71-117f-4423-be78-bf1334bad921",
   "metadata": {},
   "source": [
    "## Let's see how we would apply this to our data\n",
    "We will have to flip it on it's side to make it work"
   ]
  },
  {
   "cell_type": "code",
   "execution_count": null,
   "id": "b3f0435c-df16-408e-a483-e7e30a32320d",
   "metadata": {
    "tags": []
   },
   "outputs": [],
   "source": [
    "filepath = '../open_work/internal_results/cleaned_pvc2s/' \n",
    "filename_mri = os.path.join(filepath,'StrokeMRI_pvc2c.csv') \n",
    "filename_top = os.path.join(filepath,'TOP_pvc2c.csv') "
   ]
  },
  {
   "cell_type": "code",
   "execution_count": null,
   "id": "0994afd5-bd15-4b70-88b3-e64fb297e81f",
   "metadata": {
    "tags": []
   },
   "outputs": [],
   "source": [
    "our_mri_data = pd.read_csv(filename_mri)\n",
    "our_top_data = pd.read_csv(filename_top)"
   ]
  },
  {
   "cell_type": "code",
   "execution_count": null,
   "id": "64d525ec-edeb-4d4d-a1b4-98e1f1de43f6",
   "metadata": {
    "tags": []
   },
   "outputs": [],
   "source": [
    "top_selection = our_top_data.drop(['Unnamed: 0'],axis=1)\n",
    "mri_selection = our_mri_data.drop(['Unnamed: 0'],axis=1)"
   ]
  },
  {
   "cell_type": "code",
   "execution_count": null,
   "id": "646945c0-22e7-4092-8b2f-c2213dcdd2de",
   "metadata": {
    "tags": []
   },
   "outputs": [],
   "source": [
    "#mri_selection.isna().sum()\n",
    "#top_selection.isna().sum()"
   ]
  },
  {
   "cell_type": "code",
   "execution_count": null,
   "id": "1f21cd14-7f66-469d-a62e-eae70b71777e",
   "metadata": {
    "tags": []
   },
   "outputs": [],
   "source": [
    "mri_selection = mri_selection.set_index('participant_id')\n",
    "top_selection = top_selection.set_index('participant_id')"
   ]
  },
  {
   "cell_type": "code",
   "execution_count": null,
   "id": "680d2540-c34e-412e-bf76-08407cf30a4f",
   "metadata": {
    "tags": []
   },
   "outputs": [],
   "source": [
    "top_selection = top_selection.T\n",
    "mri_selection = mri_selection.T\n",
    "#mri_selection"
   ]
  },
  {
   "cell_type": "code",
   "execution_count": null,
   "id": "149fbb1f-cab6-434a-88ba-935350aa183e",
   "metadata": {
    "tags": []
   },
   "outputs": [],
   "source": [
    "both_together = pd.concat([ mri_selection, top_selection], axis=1, join=\"inner\")\n",
    "both_together"
   ]
  },
  {
   "cell_type": "code",
   "execution_count": null,
   "id": "a1c432cd-8087-4691-b83c-5ae1b42846c5",
   "metadata": {
    "tags": []
   },
   "outputs": [],
   "source": [
    "# make sure there are no NaNs\n",
    "both_together.isna().sum().sum()"
   ]
  },
  {
   "cell_type": "code",
   "execution_count": null,
   "id": "bb5f07aa-d902-4997-be96-32f9383f6074",
   "metadata": {
    "tags": []
   },
   "outputs": [],
   "source": [
    "# # save off csv\n",
    "# both_together.to_csv('both_top_mri_together.csv')"
   ]
  },
  {
   "cell_type": "code",
   "execution_count": null,
   "id": "add96e2c-ad39-4a97-bedb-62c3c67ef7c5",
   "metadata": {
    "tags": []
   },
   "outputs": [],
   "source": [
    "# make and save of csv of features only\n",
    "features_only = both_together[2:]\n",
    "features_only.to_csv('features_only_top_mri.csv')"
   ]
  },
  {
   "cell_type": "code",
   "execution_count": null,
   "id": "c9ecdd64-960e-4d3b-94d6-9b0dfa6f1df3",
   "metadata": {
    "tags": []
   },
   "outputs": [],
   "source": [
    "features_only.T.columns"
   ]
  },
  {
   "cell_type": "code",
   "execution_count": null,
   "id": "4466425d-0537-4473-adba-7c5e1d2e011e",
   "metadata": {
    "tags": []
   },
   "outputs": [],
   "source": [
    "dictionary_features_len = len(features_only.T.columns)\n",
    "number = 0\n",
    "made_keys = [] \n",
    "made_vals = [] \n",
    "for n in features_only.T.columns:\n",
    "    number +=1\n",
    "    made_keys.append(n)\n",
    "    made_vals.append(number)"
   ]
  },
  {
   "cell_type": "code",
   "execution_count": null,
   "id": "2d8ddec0-6f4a-438f-a90a-a50547802ba8",
   "metadata": {
    "tags": []
   },
   "outputs": [],
   "source": [
    "feature_dict = dict(map(lambda i,j : (i,j) , made_keys,made_vals))"
   ]
  },
  {
   "cell_type": "code",
   "execution_count": null,
   "id": "9a5e27ca-34af-4ad0-84ff-28cb1f47e4d8",
   "metadata": {
    "tags": []
   },
   "outputs": [],
   "source": [
    "ft = features_only.reset_index()\n",
    "ft = ft.rename(columns={\"index\": \"A\"})\n",
    "ft = ft.drop(['A'], axis=1)\n",
    "ft = ft.dropna()"
   ]
  },
  {
   "cell_type": "code",
   "execution_count": null,
   "id": "348ac350-2ca5-4190-82fd-c62c1c55d52b",
   "metadata": {
    "tags": []
   },
   "outputs": [],
   "source": [
    "bt= both_together.reset_index()\n",
    "bt = bt.rename(columns={\"index\": \"A\"})\n",
    "bt = bt.drop(['A'], axis=1)\n",
    "bt = bt.dropna()"
   ]
  },
  {
   "cell_type": "code",
   "execution_count": null,
   "id": "6452cca6-6d4e-449e-b625-848e53c9e8cf",
   "metadata": {
    "tags": []
   },
   "outputs": [],
   "source": [
    "bt.head(3)"
   ]
  },
  {
   "cell_type": "code",
   "execution_count": null,
   "id": "baa3ea74-7998-4b9d-8741-0b5737ca0d08",
   "metadata": {
    "tags": []
   },
   "outputs": [],
   "source": [
    "ft.to_csv('ft_top_mri.csv')"
   ]
  },
  {
   "cell_type": "code",
   "execution_count": null,
   "id": "7c219d10-f86a-41b7-9cad-6f0dda6534ba",
   "metadata": {
    "tags": []
   },
   "outputs": [],
   "source": [
    "data = np.genfromtxt('ft_top_mri.csv', delimiter=\",\", skip_header=1)\n",
    "data"
   ]
  },
  {
   "cell_type": "code",
   "execution_count": null,
   "id": "84f8d221-6578-4dbb-a005-39573d86408d",
   "metadata": {
    "tags": []
   },
   "outputs": [],
   "source": [
    "data = data[:, 1:]\n",
    "#data"
   ]
  },
  {
   "cell_type": "code",
   "execution_count": null,
   "id": "d390f393-e561-457a-9bed-c445b7ac1de5",
   "metadata": {
    "tags": []
   },
   "outputs": [],
   "source": [
    "# Specifying the batch (scanner variable) as well as a sex covariate to preserve:\n",
    "first_columns_as_one = [1] * len(mri_selection.columns)\n",
    "last_columns_as_two = [2] * len(top_selection.columns)\n",
    "covars = {'batch':first_columns_as_one + last_columns_as_two,\n",
    "          'sex':both_together.loc['sex',:].values.tolist(),\n",
    "           'age':both_together.loc['age',:].values.tolist(),} \n",
    "covars = pd.DataFrame(covars) "
   ]
  },
  {
   "cell_type": "code",
   "execution_count": null,
   "id": "c9f3462f-8e14-478f-b743-4675cb69aa2f",
   "metadata": {
    "tags": []
   },
   "outputs": [],
   "source": [
    "#covars"
   ]
  },
  {
   "cell_type": "code",
   "execution_count": null,
   "id": "0f126a06-fc41-48d9-a066-b51654c5766c",
   "metadata": {
    "tags": []
   },
   "outputs": [],
   "source": [
    "covars.shape"
   ]
  },
  {
   "cell_type": "code",
   "execution_count": null,
   "id": "b27c7524-7e94-4150-be00-da68fadc10bb",
   "metadata": {
    "tags": []
   },
   "outputs": [],
   "source": [
    "data.shape"
   ]
  },
  {
   "cell_type": "code",
   "execution_count": null,
   "id": "c9b12ab3-c95d-400a-8d59-6f2cc0169570",
   "metadata": {
    "tags": []
   },
   "outputs": [],
   "source": [
    "# specifify sex as categorical\n",
    "categorical_cols = ['sex']\n",
    "# To specify the name of the variable that encodes for the scanner/batch covariate:\n",
    "batch_col_mine = 'batch'\n",
    "\n",
    "#Harmonization step:\n",
    "data_combat = neuroCombat(dat=data,\n",
    "    covars=covars,\n",
    "    batch_col=batch_col_mine,\n",
    "    categorical_cols=categorical_cols)[\"data\"]"
   ]
  },
  {
   "cell_type": "code",
   "execution_count": null,
   "id": "60f485c5-9936-47d3-8da8-89e71e2b49b8",
   "metadata": {
    "tags": []
   },
   "outputs": [],
   "source": [
    "data_combat"
   ]
  },
  {
   "cell_type": "code",
   "execution_count": null,
   "id": "a21e2ca4-2c99-4b17-9eef-421220c7fe1a",
   "metadata": {
    "tags": []
   },
   "outputs": [],
   "source": [
    "data_combat.shape"
   ]
  },
  {
   "cell_type": "code",
   "execution_count": null,
   "id": "1081f339-db19-4920-b672-034732bb683d",
   "metadata": {
    "tags": []
   },
   "outputs": [],
   "source": [
    "neurocombat = pd.DataFrame(data_combat)\n",
    "neurocombat"
   ]
  },
  {
   "cell_type": "code",
   "execution_count": null,
   "id": "1df639b5-4d9d-4bf9-9b57-3699833243c8",
   "metadata": {},
   "outputs": [],
   "source": [
    "topper = bt.head(2)"
   ]
  },
  {
   "cell_type": "code",
   "execution_count": null,
   "id": "a40b5274-7dad-4a14-a324-729e671709d3",
   "metadata": {
    "tags": []
   },
   "outputs": [],
   "source": [
    "topper = topper.rename_axis(None, axis=\"columns\")"
   ]
  },
  {
   "cell_type": "code",
   "execution_count": null,
   "id": "be9cbe53-95e5-4a48-ab9d-0a40be93859c",
   "metadata": {
    "tags": []
   },
   "outputs": [],
   "source": [
    "topper"
   ]
  },
  {
   "cell_type": "code",
   "execution_count": null,
   "id": "89f8ab0a-d175-4ae9-8ae2-f3c8429ad3c3",
   "metadata": {
    "tags": []
   },
   "outputs": [],
   "source": [
    "topper = topper.reset_index(drop=True)\n",
    "topper"
   ]
  },
  {
   "cell_type": "code",
   "execution_count": null,
   "id": "6092605f-79b5-467d-bd0c-262cb0ffae06",
   "metadata": {
    "tags": []
   },
   "outputs": [],
   "source": [
    "topper.index"
   ]
  },
  {
   "cell_type": "code",
   "execution_count": null,
   "id": "26bb604d-103a-49a6-9c64-c89b47c68438",
   "metadata": {},
   "outputs": [],
   "source": []
  }
 ],
 "metadata": {
  "kernelspec": {
   "display_name": "Python 3 (ipykernel)",
   "language": "python",
   "name": "python3"
  },
  "language_info": {
   "codemirror_mode": {
    "name": "ipython",
    "version": 3
   },
   "file_extension": ".py",
   "mimetype": "text/x-python",
   "name": "python",
   "nbconvert_exporter": "python",
   "pygments_lexer": "ipython3",
   "version": "3.7.12"
  }
 },
 "nbformat": 4,
 "nbformat_minor": 5
}
