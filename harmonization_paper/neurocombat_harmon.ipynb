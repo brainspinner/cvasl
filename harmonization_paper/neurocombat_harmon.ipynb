{
 "cells": [
  {
   "cell_type": "markdown",
   "id": "7a33816b-aebe-4619-ad1f-a13d8d1e1c08",
   "metadata": {},
   "source": [
    "# Neurocombat TOP and StrokeMRI harmonized datasets"
   ]
  },
  {
   "cell_type": "markdown",
   "id": "7f765dc9-a0ac-498a-8c6a-72d1dbf11ad5",
   "metadata": {},
   "source": [
    "Note this must be run in the `neuron` environment"
   ]
  },
  {
   "cell_type": "markdown",
   "id": "0b8443b2-c77a-4cde-80cc-d17253eeda50",
   "metadata": {},
   "source": [
    "## import libraries"
   ]
  },
  {
   "cell_type": "code",
   "execution_count": null,
   "id": "6c43d78c-4b3d-4483-aa81-6155993812c1",
   "metadata": {},
   "outputs": [],
   "source": [
    "import os\n",
    "\n",
    "import pandas as pd\n",
    "import numpy as np\n",
    "\n",
    "from neuroCombat import neuroCombat"
   ]
  },
  {
   "cell_type": "markdown",
   "id": "47358f71-117f-4423-be78-bf1334bad921",
   "metadata": {},
   "source": [
    "## Let's see how we would apply this to our data\n",
    "We will have to flip it on it's side to make it work"
   ]
  },
  {
   "cell_type": "code",
   "execution_count": null,
   "id": "b3f0435c-df16-408e-a483-e7e30a32320d",
   "metadata": {
    "tags": []
   },
   "outputs": [],
   "source": [
    "filepath = '../open_work/internal_results/cleaned_pvc2s/' \n",
    "filename_mri = os.path.join(filepath,'StrokeMRI_pvc2c.csv') \n",
    "filename_top = os.path.join(filepath,'TOP_pvc2c.csv') "
   ]
  },
  {
   "cell_type": "code",
   "execution_count": null,
   "id": "0994afd5-bd15-4b70-88b3-e64fb297e81f",
   "metadata": {
    "tags": []
   },
   "outputs": [],
   "source": [
    "our_mri_data = pd.read_csv(filename_mri)\n",
    "our_top_data = pd.read_csv(filename_top)"
   ]
  },
  {
   "cell_type": "code",
   "execution_count": null,
   "id": "97849083-81e9-4893-a843-b872c78c6dd6",
   "metadata": {
    "tags": []
   },
   "outputs": [],
   "source": [
    "print(\"Our StrokeMRI data is\", len(our_mri_data), \"patients\")\n",
    "print(\"Our TOP data is\", len(our_top_data), \"patients\")"
   ]
  },
  {
   "cell_type": "code",
   "execution_count": null,
   "id": "a870f30d-ae20-4698-b362-3b2f090f24a9",
   "metadata": {
    "tags": []
   },
   "outputs": [],
   "source": [
    "our_top_data.head(3)"
   ]
  },
  {
   "cell_type": "code",
   "execution_count": null,
   "id": "99042e63-58fb-4f6d-ae7f-a39bbbc7d133",
   "metadata": {
    "tags": []
   },
   "outputs": [],
   "source": [
    "our_mri_data.head(3)"
   ]
  },
  {
   "cell_type": "code",
   "execution_count": null,
   "id": "64d525ec-edeb-4d4d-a1b4-98e1f1de43f6",
   "metadata": {
    "tags": []
   },
   "outputs": [],
   "source": [
    "top_selection = our_top_data.drop(['Unnamed: 0'],axis=1)\n",
    "mri_selection = our_mri_data.drop(['Unnamed: 0'],axis=1)"
   ]
  },
  {
   "cell_type": "code",
   "execution_count": null,
   "id": "646945c0-22e7-4092-8b2f-c2213dcdd2de",
   "metadata": {
    "tags": []
   },
   "outputs": [],
   "source": [
    "#mri_selection.isna().sum()\n",
    "#top_selection.isna().sum()"
   ]
  },
  {
   "cell_type": "code",
   "execution_count": null,
   "id": "1f21cd14-7f66-469d-a62e-eae70b71777e",
   "metadata": {
    "tags": []
   },
   "outputs": [],
   "source": [
    "mri_selection = mri_selection.set_index('participant_id')\n",
    "top_selection = top_selection.set_index('participant_id')"
   ]
  },
  {
   "cell_type": "code",
   "execution_count": null,
   "id": "680d2540-c34e-412e-bf76-08407cf30a4f",
   "metadata": {
    "tags": []
   },
   "outputs": [],
   "source": [
    "top_selection = top_selection.T\n",
    "mri_selection = mri_selection.T\n",
    "#mri_selection"
   ]
  },
  {
   "cell_type": "code",
   "execution_count": null,
   "id": "149fbb1f-cab6-434a-88ba-935350aa183e",
   "metadata": {
    "tags": []
   },
   "outputs": [],
   "source": [
    "both_together = pd.concat([ mri_selection, top_selection], axis=1, join=\"inner\")\n",
    "both_together"
   ]
  },
  {
   "cell_type": "code",
   "execution_count": null,
   "id": "a1c432cd-8087-4691-b83c-5ae1b42846c5",
   "metadata": {
    "tags": []
   },
   "outputs": [],
   "source": [
    "# make sure there are no NaNs\n",
    "both_together.isna().sum().sum()"
   ]
  },
  {
   "cell_type": "code",
   "execution_count": null,
   "id": "bb5f07aa-d902-4997-be96-32f9383f6074",
   "metadata": {
    "tags": []
   },
   "outputs": [],
   "source": [
    "# # save off csv\n",
    "# both_together.to_csv('both_top_mri_together.csv')"
   ]
  },
  {
   "cell_type": "code",
   "execution_count": null,
   "id": "add96e2c-ad39-4a97-bedb-62c3c67ef7c5",
   "metadata": {
    "tags": []
   },
   "outputs": [],
   "source": [
    "# make and save of csv of features only\n",
    "features_only = both_together[2:]\n",
    "#features_only.to_csv('features_only_top_mri.csv')"
   ]
  },
  {
   "cell_type": "code",
   "execution_count": null,
   "id": "c9ecdd64-960e-4d3b-94d6-9b0dfa6f1df3",
   "metadata": {
    "tags": []
   },
   "outputs": [],
   "source": [
    "features_only.T.columns"
   ]
  },
  {
   "cell_type": "code",
   "execution_count": null,
   "id": "4466425d-0537-4473-adba-7c5e1d2e011e",
   "metadata": {
    "tags": []
   },
   "outputs": [],
   "source": [
    "dictionary_features_len = len(features_only.T.columns)\n",
    "number = 0\n",
    "made_keys = [] \n",
    "made_vals = [] \n",
    "for n in features_only.T.columns:\n",
    "    \n",
    "    made_keys.append(number)\n",
    "    made_vals.append(n)\n",
    "    number +=1"
   ]
  },
  {
   "cell_type": "code",
   "execution_count": null,
   "id": "2d8ddec0-6f4a-438f-a90a-a50547802ba8",
   "metadata": {
    "tags": []
   },
   "outputs": [],
   "source": [
    "feature_dict = dict(map(lambda i,j : (i,j) , made_keys,made_vals))"
   ]
  },
  {
   "cell_type": "code",
   "execution_count": null,
   "id": "9a5e27ca-34af-4ad0-84ff-28cb1f47e4d8",
   "metadata": {
    "tags": []
   },
   "outputs": [],
   "source": [
    "ft = features_only.reset_index()\n",
    "ft = ft.rename(columns={\"index\": \"A\"})\n",
    "ft = ft.drop(['A'], axis=1)\n",
    "ft = ft.dropna()"
   ]
  },
  {
   "cell_type": "code",
   "execution_count": null,
   "id": "348ac350-2ca5-4190-82fd-c62c1c55d52b",
   "metadata": {
    "tags": []
   },
   "outputs": [],
   "source": [
    "bt= both_together.reset_index()\n",
    "bt = bt.rename(columns={\"index\": \"A\"})\n",
    "bt = bt.drop(['A'], axis=1)\n",
    "bt = bt.dropna()"
   ]
  },
  {
   "cell_type": "code",
   "execution_count": null,
   "id": "6452cca6-6d4e-449e-b625-848e53c9e8cf",
   "metadata": {
    "tags": []
   },
   "outputs": [],
   "source": [
    "bt.head(3)"
   ]
  },
  {
   "cell_type": "code",
   "execution_count": null,
   "id": "baa3ea74-7998-4b9d-8741-0b5737ca0d08",
   "metadata": {
    "tags": []
   },
   "outputs": [],
   "source": [
    "#ft.to_csv('ft_top_mri.csv')"
   ]
  },
  {
   "cell_type": "code",
   "execution_count": null,
   "id": "7c219d10-f86a-41b7-9cad-6f0dda6534ba",
   "metadata": {
    "tags": []
   },
   "outputs": [],
   "source": [
    "data = np.genfromtxt('ft_top_mri.csv', delimiter=\",\", skip_header=1)\n",
    "data"
   ]
  },
  {
   "cell_type": "code",
   "execution_count": null,
   "id": "84f8d221-6578-4dbb-a005-39573d86408d",
   "metadata": {
    "tags": []
   },
   "outputs": [],
   "source": [
    "data = data[:, 1:]\n",
    "#data"
   ]
  },
  {
   "cell_type": "code",
   "execution_count": null,
   "id": "d390f393-e561-457a-9bed-c445b7ac1de5",
   "metadata": {
    "tags": []
   },
   "outputs": [],
   "source": [
    "# Specifying the batch (scanner variable) as well as a sex covariate to preserve:\n",
    "first_columns_as_one = [1] * len(mri_selection.columns)\n",
    "last_columns_as_two = [2] * len(top_selection.columns)\n",
    "covars = {'batch':first_columns_as_one + last_columns_as_two,\n",
    "          'sex':both_together.loc['sex',:].values.tolist(),\n",
    "           'age':both_together.loc['age',:].values.tolist(),} \n",
    "covars = pd.DataFrame(covars) "
   ]
  },
  {
   "cell_type": "code",
   "execution_count": null,
   "id": "c9f3462f-8e14-478f-b743-4675cb69aa2f",
   "metadata": {
    "tags": []
   },
   "outputs": [],
   "source": [
    "#covars"
   ]
  },
  {
   "cell_type": "code",
   "execution_count": null,
   "id": "0f126a06-fc41-48d9-a066-b51654c5766c",
   "metadata": {
    "tags": []
   },
   "outputs": [],
   "source": [
    "covars.shape"
   ]
  },
  {
   "cell_type": "code",
   "execution_count": null,
   "id": "b27c7524-7e94-4150-be00-da68fadc10bb",
   "metadata": {
    "tags": []
   },
   "outputs": [],
   "source": [
    "data.shape"
   ]
  },
  {
   "cell_type": "code",
   "execution_count": null,
   "id": "c9b12ab3-c95d-400a-8d59-6f2cc0169570",
   "metadata": {
    "tags": []
   },
   "outputs": [],
   "source": [
    "# specifify sex as categorical\n",
    "categorical_cols = ['sex']\n",
    "# To specify the name of the variable that encodes for the scanner/batch covariate:\n",
    "batch_col_mine = 'batch'\n",
    "\n",
    "#Harmonization step:\n",
    "data_combat = neuroCombat(dat=data,\n",
    "    covars=covars,\n",
    "    batch_col=batch_col_mine,\n",
    "    categorical_cols=categorical_cols)[\"data\"]"
   ]
  },
  {
   "cell_type": "code",
   "execution_count": null,
   "id": "60f485c5-9936-47d3-8da8-89e71e2b49b8",
   "metadata": {
    "tags": []
   },
   "outputs": [],
   "source": [
    "data_combat"
   ]
  },
  {
   "cell_type": "code",
   "execution_count": null,
   "id": "a21e2ca4-2c99-4b17-9eef-421220c7fe1a",
   "metadata": {
    "tags": []
   },
   "outputs": [],
   "source": [
    "data_combat.shape"
   ]
  },
  {
   "cell_type": "code",
   "execution_count": null,
   "id": "1081f339-db19-4920-b672-034732bb683d",
   "metadata": {
    "tags": []
   },
   "outputs": [],
   "source": [
    "neurocombat = pd.DataFrame(data_combat)\n",
    "neurocombat"
   ]
  },
  {
   "cell_type": "code",
   "execution_count": null,
   "id": "1df639b5-4d9d-4bf9-9b57-3699833243c8",
   "metadata": {},
   "outputs": [],
   "source": [
    "topper = bt.head(2)"
   ]
  },
  {
   "cell_type": "code",
   "execution_count": null,
   "id": "a40b5274-7dad-4a14-a324-729e671709d3",
   "metadata": {
    "tags": []
   },
   "outputs": [],
   "source": [
    "topper = topper.rename_axis(None, axis=\"columns\")"
   ]
  },
  {
   "cell_type": "code",
   "execution_count": null,
   "id": "be9cbe53-95e5-4a48-ab9d-0a40be93859c",
   "metadata": {
    "tags": []
   },
   "outputs": [],
   "source": [
    "topper"
   ]
  },
  {
   "cell_type": "code",
   "execution_count": null,
   "id": "89f8ab0a-d175-4ae9-8ae2-f3c8429ad3c3",
   "metadata": {
    "tags": []
   },
   "outputs": [],
   "source": [
    "topper = topper.reset_index(drop=False)\n",
    "topper = topper.rename(columns={\"index\": \"char\"})"
   ]
  },
  {
   "cell_type": "code",
   "execution_count": null,
   "id": "6092605f-79b5-467d-bd0c-262cb0ffae06",
   "metadata": {
    "tags": []
   },
   "outputs": [],
   "source": [
    "topper['char'][0] = 'age'\n",
    "topper['char'][1] = 'sex'"
   ]
  },
  {
   "cell_type": "code",
   "execution_count": null,
   "id": "26bb604d-103a-49a6-9c64-c89b47c68438",
   "metadata": {},
   "outputs": [],
   "source": [
    "topper"
   ]
  },
  {
   "cell_type": "code",
   "execution_count": null,
   "id": "4221e474-acd6-4a77-be9f-20f283015f18",
   "metadata": {
    "tags": []
   },
   "outputs": [],
   "source": [
    "bottom = neurocombat.reset_index(drop=False)\n",
    "bottom = bottom.rename(columns={\"index\": \"char\"})\n",
    "bottom.columns = topper.columns\n",
    "#bottom = bottom.set_index('char', inplace=True)\n",
    "#set_index('Name', inplace=True)\n",
    "bottom"
   ]
  },
  {
   "cell_type": "code",
   "execution_count": null,
   "id": "b279fd86-b818-48e4-bddf-c95e111186ce",
   "metadata": {
    "tags": []
   },
   "outputs": [],
   "source": []
  },
  {
   "cell_type": "code",
   "execution_count": null,
   "id": "e777f7f0-c411-477e-bedb-aef5bd99e3c8",
   "metadata": {
    "tags": []
   },
   "outputs": [],
   "source": [
    "back_together = pd.concat([topper, bottom])\n",
    "back_together = back_together.T\n",
    "back_together"
   ]
  },
  {
   "cell_type": "code",
   "execution_count": null,
   "id": "fbeeec53-6d33-4fa2-a173-de19b79c435b",
   "metadata": {
    "tags": []
   },
   "outputs": [],
   "source": [
    "new_header = back_together.iloc[0] #grab the first row for the header\n",
    "back_together.columns = new_header #set the header row as the df header\n",
    "back_together = back_together[1:]\n",
    "back_together"
   ]
  },
  {
   "cell_type": "code",
   "execution_count": null,
   "id": "46547b1e-9091-49f1-bab4-06b980864d16",
   "metadata": {
    "tags": []
   },
   "outputs": [],
   "source": [
    "back_together.head(514).tail(10)"
   ]
  },
  {
   "cell_type": "code",
   "execution_count": null,
   "id": "8e479b0d-82f9-4f86-8d0e-c5e469e0bfed",
   "metadata": {
    "tags": []
   },
   "outputs": [],
   "source": [
    "back_together.tail(527).head(10)"
   ]
  },
  {
   "cell_type": "code",
   "execution_count": null,
   "id": "57dbb033-c216-4df9-b1e4-db93783c4e7b",
   "metadata": {
    "tags": []
   },
   "outputs": [],
   "source": [
    "neuro_harm_top =back_together.tail(527)\n",
    "neuro_harm_mri =back_together.head(514)"
   ]
  },
  {
   "cell_type": "code",
   "execution_count": null,
   "id": "ce61d0b9-28fd-43c1-ba3f-8b43453ecd0b",
   "metadata": {
    "tags": []
   },
   "outputs": [],
   "source": [
    "neuro_harm_top = neuro_harm_top.rename(feature_dict, axis='columns')\n",
    "neuro_harm_mri = neuro_harm_mri.rename(feature_dict, axis='columns')"
   ]
  },
  {
   "cell_type": "code",
   "execution_count": null,
   "id": "613ddb0a-008a-42d4-a6a9-c88be60e8f21",
   "metadata": {
    "tags": []
   },
   "outputs": [],
   "source": [
    "# neuro_harm_mri.to_csv('neuro_harm_mri.csv')\n",
    "# neuro_harm_top.to_csv('neuro_harm_top.csv')"
   ]
  },
  {
   "cell_type": "code",
   "execution_count": null,
   "id": "8c6d08dd-0f75-4b32-a28b-48d57ea99f19",
   "metadata": {},
   "outputs": [],
   "source": [
    "# Investigate neuroharmoney results"
   ]
  },
  {
   "cell_type": "code",
   "execution_count": null,
   "id": "9ed2ca84-469f-4590-930d-8641fbd98847",
   "metadata": {
    "tags": []
   },
   "outputs": [],
   "source": [
    "neuro_harm_mri.tail(3) "
   ]
  },
  {
   "cell_type": "markdown",
   "id": "c528109f-d367-48c1-a4d9-54c9d16c48af",
   "metadata": {},
   "source": [
    "## We see neuroharmoney added negative numbers \n",
    "let's compare to the original"
   ]
  },
  {
   "cell_type": "code",
   "execution_count": null,
   "id": "6b8542f3-375a-477c-8646-1be9f076051f",
   "metadata": {},
   "outputs": [],
   "source": [
    "mri_selection.T.tail(3)"
   ]
  },
  {
   "cell_type": "markdown",
   "id": "9274bc7e-4934-45aa-902b-2a2120b0718f",
   "metadata": {},
   "source": [
    "## let's see how many negative numbers we have"
   ]
  },
  {
   "cell_type": "code",
   "execution_count": null,
   "id": "6ea3fc95-ede0-4d9d-bc1f-e8c0808052e7",
   "metadata": {
    "tags": []
   },
   "outputs": [],
   "source": [
    "number_columns = ['gm_vol',\n",
    "                  'wm_vol',\n",
    "                  'csf_vol',\n",
    "                  'gm_ivc_ratio', \n",
    "                  'gmwm_ivc_ratio',\n",
    "                  'wmh_vol',\n",
    "                  'wmh_count',\n",
    "                  'deepwm_b_cov',\n",
    "                  'aca_b_cov',\n",
    "                  'mca_b_cov',\n",
    "                  'pca_b_cov',\n",
    "                  'totalgm_b_cov',\n",
    "                  'deepwm_b',\n",
    "                  'aca_b',\n",
    "                  'mca_b',\n",
    "                  'pca_b',\n",
    "                  'totalgm_b',]"
   ]
  },
  {
   "cell_type": "code",
   "execution_count": null,
   "id": "13aecde2-42b9-431a-940c-d679c3802cf7",
   "metadata": {
    "tags": []
   },
   "outputs": [],
   "source": [
    "(neuro_harm_mri[number_columns] < 0).sum()"
   ]
  },
  {
   "cell_type": "code",
   "execution_count": null,
   "id": "2f2e6c44-3d4c-4222-8b28-5f732cca8f07",
   "metadata": {
    "tags": []
   },
   "outputs": [],
   "source": [
    "#our_top_data.head(3)\n",
    "big_top = our_top_data.rename(columns={\"Unnamed: 0\": \"level_0\"})\n",
    "big_top.head(3)"
   ]
  },
  {
   "cell_type": "code",
   "execution_count": null,
   "id": "ba0ea7a9-07e1-4b66-999b-1f4c92881636",
   "metadata": {
    "tags": []
   },
   "outputs": [],
   "source": [
    "new_harm_top = neuro_harm_top.reset_index()\n",
    "new_harm_top = new_harm_top.reset_index()\n",
    "new_harm_top = new_harm_top.rename(columns={\"index\": \"participant_id\"})\n",
    "new_harm_top.head(3) "
   ]
  },
  {
   "cell_type": "code",
   "execution_count": null,
   "id": "b57303a4-cc46-47d0-83b7-18764545b715",
   "metadata": {
    "tags": []
   },
   "outputs": [],
   "source": [
    "# difference in harmonized and original - raw\n",
    "raw_differences = big_top[number_columns] - new_harm_top[number_columns]"
   ]
  },
  {
   "cell_type": "code",
   "execution_count": null,
   "id": "53014c63-6150-48d9-b2ae-b8e9069aa886",
   "metadata": {
    "tags": []
   },
   "outputs": [],
   "source": [
    "# difference in harmonized and original - raw\n",
    "differences = (big_top[number_columns] - new_harm_top[number_columns])/big_top[number_columns]\n",
    "differences"
   ]
  },
  {
   "cell_type": "code",
   "execution_count": null,
   "id": "3be4a3c3-bfcb-4acf-b905-3805657b6a80",
   "metadata": {},
   "outputs": [],
   "source": [
    "differences_n = differences.apply(pd.to_numeric) #"
   ]
  },
  {
   "cell_type": "code",
   "execution_count": null,
   "id": "a552bfad-c9b7-4323-bfba-3ae8bd540359",
   "metadata": {
    "tags": []
   },
   "outputs": [],
   "source": [
    "differences_n.describe()"
   ]
  },
  {
   "cell_type": "markdown",
   "id": "bcf7f258-5ee6-4e8d-8b0b-12b55e38b6e9",
   "metadata": {},
   "source": [
    "## Now we can use the versions of TOP with log base 10 revision of white matter hyperintensity count, as well as white matter hyperintensity  volume"
   ]
  },
  {
   "cell_type": "code",
   "execution_count": null,
   "id": "3c7418f2-9fe2-4f61-b8c8-97a8b912358d",
   "metadata": {},
   "outputs": [],
   "source": [
    "log_filepath = '../open_work/internal_results/loggy/' \n",
    "log_filename_mri = os.path.join(log_filepath,'stroke_loged.csv') \n",
    "log_filename_top = os.path.join(log_filepath,'top_loged.csv') "
   ]
  },
  {
   "cell_type": "code",
   "execution_count": null,
   "id": "a483539b-effb-4dc0-8999-0fec98e6b0f4",
   "metadata": {
    "tags": []
   },
   "outputs": [],
   "source": [
    "log_mri_data = pd.read_csv(log_filename_mri)\n",
    "log_top_data = pd.read_csv(log_filename_top)"
   ]
  },
  {
   "cell_type": "code",
   "execution_count": null,
   "id": "3f2b2aa7-cc1c-456d-a8da-e7a021ad65a5",
   "metadata": {
    "tags": []
   },
   "outputs": [],
   "source": [
    "#log_top_data.head(3)"
   ]
  },
  {
   "cell_type": "code",
   "execution_count": null,
   "id": "fbe4533e-f2aa-4f83-a6d6-7364218ed0f1",
   "metadata": {
    "tags": []
   },
   "outputs": [],
   "source": [
    "#log_mri_data.head(3)"
   ]
  },
  {
   "cell_type": "code",
   "execution_count": null,
   "id": "a55ca793-c318-49f5-9130-1b734f86e283",
   "metadata": {
    "tags": []
   },
   "outputs": [],
   "source": [
    "log_top_selection = log_top_data.drop(['Unnamed: 0'],axis=1)\n",
    "log_mri_selection = log_mri_data.drop(['Unnamed: 0'],axis=1)"
   ]
  },
  {
   "cell_type": "code",
   "execution_count": null,
   "id": "07579c78-20e4-43a3-b807-55d73ca650e6",
   "metadata": {
    "tags": []
   },
   "outputs": [],
   "source": [
    "log_mri_selection = log_mri_selection.set_index('participant_id')\n",
    "log_top_selection = log_top_selection.set_index('participant_id')"
   ]
  },
  {
   "cell_type": "code",
   "execution_count": null,
   "id": "e3594b29-f999-465b-899f-9ab49cae1c23",
   "metadata": {
    "tags": []
   },
   "outputs": [],
   "source": [
    "log_top_selection = log_top_selection.T\n",
    "log_mri_selection = log_mri_selection.T\n",
    "#log_mri_selection"
   ]
  },
  {
   "cell_type": "code",
   "execution_count": null,
   "id": "b371fe44-51e9-4199-97ae-80972c5f3d3b",
   "metadata": {
    "tags": []
   },
   "outputs": [],
   "source": [
    "log_both_together = pd.concat([log_mri_selection, log_top_selection], axis=1, join=\"inner\")\n",
    "log_both_together"
   ]
  },
  {
   "cell_type": "code",
   "execution_count": null,
   "id": "eedf75dc-a226-4d4c-853c-fbdb0f937b7d",
   "metadata": {
    "tags": []
   },
   "outputs": [],
   "source": [
    "# make sure there are no NaNs\n",
    "log_both_together.isna().sum().sum()"
   ]
  },
  {
   "cell_type": "code",
   "execution_count": null,
   "id": "1d34b711-1237-40d4-ae60-9e28c3a217ff",
   "metadata": {
    "tags": []
   },
   "outputs": [],
   "source": [
    "# make and save of csv of features only\n",
    "log_features_only = log_both_together[2:]\n",
    "#log_features_only.to_csv('log_features_only_top_mri.csv')"
   ]
  },
  {
   "cell_type": "code",
   "execution_count": null,
   "id": "129deb17-1e51-4253-8383-cac19cda64d6",
   "metadata": {
    "tags": []
   },
   "outputs": [],
   "source": [
    "#log_features_only.T.columns"
   ]
  },
  {
   "cell_type": "code",
   "execution_count": null,
   "id": "8d8f3f41-64f9-4dd4-bf26-373c15b964f3",
   "metadata": {
    "tags": []
   },
   "outputs": [],
   "source": [
    "#features_only.T.columns\n",
    "## so we can use same features dictionary"
   ]
  },
  {
   "cell_type": "code",
   "execution_count": null,
   "id": "4d9cdd8e-ae6a-4c3e-baee-5e25964df543",
   "metadata": {
    "tags": []
   },
   "outputs": [],
   "source": [
    "log_ft = log_features_only.reset_index()\n",
    "log_ft = log_ft.rename(columns={\"index\": \"A\"})\n",
    "log_ft = log_ft.drop(['A'], axis=1)\n",
    "log_ft = log_ft.dropna()"
   ]
  },
  {
   "cell_type": "code",
   "execution_count": null,
   "id": "8b8c54ca-c567-40e1-8bb2-cadc4e0c4378",
   "metadata": {
    "tags": []
   },
   "outputs": [],
   "source": [
    "log_bt = log_both_together.reset_index()\n",
    "log_bt = log_bt.rename(columns={\"index\": \"A\"})\n",
    "log_bt = log_bt.drop(['A'], axis=1)\n",
    "log_bt = log_bt.dropna()"
   ]
  },
  {
   "cell_type": "code",
   "execution_count": null,
   "id": "282735a0-b085-4ffa-b347-dfeac2083904",
   "metadata": {
    "tags": []
   },
   "outputs": [],
   "source": [
    "log_ft.to_csv('log_ft_top_mri.csv')"
   ]
  },
  {
   "cell_type": "code",
   "execution_count": null,
   "id": "d9d6b7a4-16d4-4119-927d-3a11116aeff5",
   "metadata": {
    "tags": []
   },
   "outputs": [],
   "source": [
    "log_data = np.genfromtxt('log_ft_top_mri.csv', delimiter=\",\", skip_header=1)\n",
    "#log_data"
   ]
  },
  {
   "cell_type": "code",
   "execution_count": null,
   "id": "569c315e-4b97-482d-8fd1-92312660e76a",
   "metadata": {
    "tags": []
   },
   "outputs": [],
   "source": [
    "log_data = log_data[:, 1:]\n",
    "#log_data"
   ]
  },
  {
   "cell_type": "code",
   "execution_count": null,
   "id": "630c2040-a7ab-4af2-96dc-e1d05ef1a5e9",
   "metadata": {
    "tags": []
   },
   "outputs": [],
   "source": [
    "# Specifying the batch (scanner variable) as well as a sex covariate to preserve:\n",
    "first_columns_as_one = [1] * len(log_mri_selection.columns)\n",
    "last_columns_as_two = [2] * len(log_top_selection.columns)\n",
    "covars = {'batch':first_columns_as_one + last_columns_as_two,\n",
    "          'sex':log_both_together.loc['sex',:].values.tolist(),\n",
    "           'age':log_both_together.loc['age',:].values.tolist(),} \n",
    "covars = pd.DataFrame(covars) "
   ]
  },
  {
   "cell_type": "code",
   "execution_count": null,
   "id": "114a74da-fc9a-466e-ae4e-08d83aa3256e",
   "metadata": {
    "tags": []
   },
   "outputs": [],
   "source": [
    "# specifify sex as categorical\n",
    "categorical_cols = ['sex']\n",
    "# To specify the name of the variable that encodes for the scanner/batch covariate:\n",
    "batch_col_mine = 'batch'\n",
    "\n",
    "#Harmonization step:\n",
    "log_data_combat = neuroCombat(dat=log_data,\n",
    "    covars=covars,\n",
    "    batch_col=batch_col_mine,\n",
    "    categorical_cols=categorical_cols)[\"data\"]"
   ]
  },
  {
   "cell_type": "code",
   "execution_count": null,
   "id": "2797e7f4-800e-43a9-ad00-09011323cbd5",
   "metadata": {
    "tags": []
   },
   "outputs": [],
   "source": [
    "log_data_combat"
   ]
  },
  {
   "cell_type": "code",
   "execution_count": null,
   "id": "e219cd5c-2911-45f4-954b-54f01eb960d4",
   "metadata": {
    "tags": []
   },
   "outputs": [],
   "source": [
    "log_neurocombat = pd.DataFrame(data_combat)\n",
    "log_neurocombat"
   ]
  },
  {
   "cell_type": "code",
   "execution_count": null,
   "id": "b7c53787-6636-4b02-9e76-97bae2017379",
   "metadata": {
    "tags": []
   },
   "outputs": [],
   "source": [
    "log_topper = log_bt.head(2)"
   ]
  },
  {
   "cell_type": "code",
   "execution_count": null,
   "id": "321eb8a3-6a9a-4a54-8723-c3f2a8f7888e",
   "metadata": {
    "tags": []
   },
   "outputs": [],
   "source": [
    "log_topper = log_topper.rename_axis(None, axis=\"columns\")\n",
    "log_topper"
   ]
  },
  {
   "cell_type": "code",
   "execution_count": null,
   "id": "574da444-c6a7-46d0-a21d-93714214b211",
   "metadata": {
    "tags": []
   },
   "outputs": [],
   "source": [
    "log_topper = log_topper.reset_index(drop=False)\n",
    "log_topper = log_topper.rename(columns={\"index\": \"char\"})"
   ]
  },
  {
   "cell_type": "code",
   "execution_count": null,
   "id": "75a7cb94-09f0-4326-9e89-8c1dbff2c93c",
   "metadata": {
    "tags": []
   },
   "outputs": [],
   "source": [
    "log_topper['char'][0] = 'age'\n",
    "log_topper['char'][1] = 'sex'"
   ]
  },
  {
   "cell_type": "code",
   "execution_count": null,
   "id": "3b64b914-2c72-46a7-8950-f33cbd81a89a",
   "metadata": {
    "tags": []
   },
   "outputs": [],
   "source": [
    "log_bottom = log_neurocombat.reset_index(drop=False)\n",
    "log_bottom = log_bottom.rename(columns={\"index\": \"char\"})\n",
    "log_bottom.columns = topper.columns\n",
    "log_bottom"
   ]
  },
  {
   "cell_type": "code",
   "execution_count": null,
   "id": "37659124-7793-4d8e-9831-b2f067245c98",
   "metadata": {
    "tags": []
   },
   "outputs": [],
   "source": [
    "log_back_together = pd.concat([log_topper, log_bottom])\n",
    "log_back_together = log_back_together.T\n",
    "log_back_together"
   ]
  },
  {
   "cell_type": "code",
   "execution_count": null,
   "id": "bbf8f68c-6f56-4cbd-83cf-123647218175",
   "metadata": {
    "tags": []
   },
   "outputs": [],
   "source": [
    "log_new_header = log_back_together.iloc[0] #grab the first row for the header\n",
    "log_back_together.columns = new_header #set the header row as the df header\n",
    "log_back_together = log_back_together[1:]\n",
    "log_back_together"
   ]
  },
  {
   "cell_type": "code",
   "execution_count": null,
   "id": "522191ea-d7a2-4a7b-acf5-e6147a1397f6",
   "metadata": {
    "tags": []
   },
   "outputs": [],
   "source": [
    "log_back_together.head(514).tail(5)"
   ]
  },
  {
   "cell_type": "code",
   "execution_count": null,
   "id": "1ae9271e-a5df-4e1d-b0bf-38c791010d68",
   "metadata": {
    "tags": []
   },
   "outputs": [],
   "source": [
    "log_back_together.tail(527).head(5)"
   ]
  },
  {
   "cell_type": "code",
   "execution_count": null,
   "id": "6e20a3f6-8a25-4b3b-b90a-2a7438d83e12",
   "metadata": {
    "tags": []
   },
   "outputs": [],
   "source": [
    "log_neuro_harm_top =log_back_together.tail(527)\n",
    "log_neuro_harm_mri =log_back_together.head(514)"
   ]
  },
  {
   "cell_type": "code",
   "execution_count": null,
   "id": "719a887a-439c-476a-b4a6-2bf9ab3bba78",
   "metadata": {
    "tags": []
   },
   "outputs": [],
   "source": [
    "log_neuro_harm_top = log_neuro_harm_top.rename(feature_dict, axis='columns')\n",
    "log_neuro_harm_mri = log_neuro_harm_mri.rename(feature_dict, axis='columns')"
   ]
  },
  {
   "cell_type": "code",
   "execution_count": null,
   "id": "55be6d53-d807-4397-b41d-23e7ad352ab9",
   "metadata": {
    "tags": []
   },
   "outputs": [],
   "source": [
    "# log_neuro_harm_mri.to_csv('log_neuro_harm_mri.csv')\n",
    "# log_neuro_harm_top.to_csv('log_neuro_harm_top.csv')"
   ]
  },
  {
   "cell_type": "code",
   "execution_count": null,
   "id": "a3bb1c10-4e88-422f-b380-6a542e315796",
   "metadata": {
    "tags": []
   },
   "outputs": [],
   "source": [
    "#log_neuro_harm_mri\n",
    "(log_neuro_harm_mri[number_columns] < 0).sum()"
   ]
  },
  {
   "cell_type": "code",
   "execution_count": null,
   "id": "6c3bd1fe-8280-42d0-a3cc-290abfe7f83c",
   "metadata": {
    "tags": []
   },
   "outputs": [],
   "source": [
    "## There are still negative numbers in the outcome...but we can test to see if there is a difference"
   ]
  },
  {
   "cell_type": "code",
   "execution_count": null,
   "id": "40b3e8c1-1016-42f9-94c5-bc5d3b502ce4",
   "metadata": {
    "tags": []
   },
   "outputs": [],
   "source": [
    "log_neuro_harm_mri.head(3)# - neuro_harm_mri"
   ]
  },
  {
   "cell_type": "code",
   "execution_count": null,
   "id": "dd71d58e-5374-40ba-9c6d-cbd93c9f49cb",
   "metadata": {
    "tags": []
   },
   "outputs": [],
   "source": [
    "neuro_harm_mri.head(3)"
   ]
  },
  {
   "cell_type": "code",
   "execution_count": null,
   "id": "0fbf4d5c-1688-4b05-809c-be65178e25ea",
   "metadata": {
    "tags": []
   },
   "outputs": [],
   "source": [
    "dif_log_to_reg = log_neuro_harm_mri[number_columns] - neuro_harm_mri[number_columns]\n",
    "dif_log_to_reg "
   ]
  },
  {
   "cell_type": "code",
   "execution_count": null,
   "id": "1204dc18-151c-4d18-b13e-e538620cbcb3",
   "metadata": {
    "tags": []
   },
   "outputs": [],
   "source": [
    "dif_log_to_reg.sum().sum()"
   ]
  },
  {
   "cell_type": "markdown",
   "id": "f0e42b6c-2454-4163-be64-a5f075e46097",
   "metadata": {},
   "source": [
    "# So changing the two columns to theirlog made literally no difference in the harmarmonized outcomes? Is there a bug??"
   ]
  }
 ],
 "metadata": {
  "kernelspec": {
   "display_name": "Python 3 (ipykernel)",
   "language": "python",
   "name": "python3"
  },
  "language_info": {
   "codemirror_mode": {
    "name": "ipython",
    "version": 3
   },
   "file_extension": ".py",
   "mimetype": "text/x-python",
   "name": "python",
   "nbconvert_exporter": "python",
   "pygments_lexer": "ipython3",
   "version": "3.7.12"
  }
 },
 "nbformat": 4,
 "nbformat_minor": 5
}
