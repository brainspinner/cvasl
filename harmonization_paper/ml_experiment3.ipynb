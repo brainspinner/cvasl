{
 "cells": [
  {
   "cell_type": "markdown",
   "id": "e8edc98e-5785-4d1c-baed-02bfc4721f60",
   "metadata": {},
   "source": [
    "# ML testing: experiment #3\n",
    "\n",
    "This notebook involves testing for the MRI conference abstract. This notebook shows mixed_dataset (TOP + StrokeMRI) based models without harmonization, applied to Insight 46 and Sabre datasets (as wekk as a test set of mixed TOP and StrokeMRI)"
   ]
  },
  {
   "cell_type": "markdown",
   "id": "be45db67-b24a-409e-bb35-ca468a779ec2",
   "metadata": {
    "tags": []
   },
   "source": [
    "### import libraries"
   ]
  },
  {
   "cell_type": "code",
   "execution_count": null,
   "id": "514ef9ea-48df-4f68-b440-77ee12cddefe",
   "metadata": {
    "tags": []
   },
   "outputs": [],
   "source": [
    "import os       # using operating system dependent functionality (folders)\n",
    "import sys\n",
    "\n",
    "import glob\n",
    "from functools import reduce\n",
    "\n",
    "import pandas as pd # data analysis and manipulation\n",
    "import numpy as np    # numerical computing (manipulating and performing operations on arrays of data)\n",
    "import matplotlib.pyplot as plt\n",
    "\n",
    "# # demo stuff\n",
    "# import ipywidgets as widgets\n",
    "# import seaborn \n",
    "\n",
    "# ml stuff\n",
    "from sklearn.model_selection import train_test_split\n",
    "from sklearn.preprocessing import StandardScaler\n",
    "#from sklearn.svm import SVC\n",
    "from sklearn.metrics import accuracy_score\n",
    "#from sklearn.linear_model import LogisticRegression\n",
    "from sklearn.linear_model import LinearRegression\n",
    "from sklearn import linear_model\n",
    "from sklearn import tree\n",
    "from sklearn import metrics\n",
    "from sklearn.linear_model import SGDRegressor\n",
    "from sklearn.metrics import confusion_matrix\n",
    "from sklearn.metrics import mean_absolute_error\n",
    "from sklearn.neighbors import KNeighborsClassifier\n",
    "from sklearn.svm import SVR\n",
    "from sklearn.neural_network import MLPRegressor\n",
    "from sklearn.linear_model import ElasticNetCV\n",
    "from sklearn.ensemble import ExtraTreesRegressor\n",
    "from sklearn.model_selection import StratifiedShuffleSplit\n",
    "from sklearn.model_selection import cross_val_score\n",
    "\n",
    "import joblib\n",
    "\n",
    "sys.path.insert(0, '../') # path to functions\n",
    "import cvasl.seperated as sep\n",
    "from cvasl.file_handler import Config"
   ]
  },
  {
   "cell_type": "markdown",
   "id": "b0e7da24-0537-44b4-85fb-e69c68c5ec9a",
   "metadata": {
    "tags": []
   },
   "source": [
    "### import data"
   ]
  },
  {
   "cell_type": "code",
   "execution_count": null,
   "id": "5c2a832f-0e28-4000-9f9e-65edb0e578bc",
   "metadata": {
    "tags": []
   },
   "outputs": [],
   "source": [
    "filepath_mri = '../open_work/internal_results/cleaned_pvc2s/' \n",
    "filename_mri = os.path.join(filepath_mri,'StrokeMRI_pvc2c.csv') \n",
    "\n",
    "filepath_top = '../open_work/internal_results/cleaned_pvc2s/' \n",
    "filename_top = os.path.join(filepath_top,'TOP_pvc2c.csv') \n",
    "\n",
    "filepath_sabre = '../open_work/internal_results/cleaned_pvc2s/' \n",
    "filename_sabre = os.path.join(filepath_top,'SABRE_pvc2_cleaned.csv') \n",
    "filepath_insight46 = '../open_work/internal_results/cleaned_pvc2s/' \n",
    "filename_insight46 =  os.path.join(filepath_top,'Insight46_pvc2c.csv') \n",
    "# read in data\n",
    "TOP = pd.read_csv(filename_top)\n",
    "StrokeMRI = pd.read_csv(filename_mri)\n",
    "SABRE = pd.read_csv(filename_sabre)\n",
    "Insight46 = pd.read_csv(filename_insight46)\n",
    "# take extra column off\n",
    "TOP = TOP.drop(TOP.columns[0],axis=1)\n",
    "SABRE = SABRE.drop(SABRE.columns[0],axis=1)\n",
    "StrokeMRI = StrokeMRI.drop(StrokeMRI.columns[0],axis=1)\n",
    "Insight46 = Insight46.drop(Insight46.columns[0],axis=1)"
   ]
  },
  {
   "cell_type": "code",
   "execution_count": null,
   "id": "05f9f972-9eab-4298-8dff-3238de42bb75",
   "metadata": {
    "tags": []
   },
   "outputs": [],
   "source": [
    "# TOP = pd.read_csv(filename_top)\n",
    "# StrokeMRI = pd.read_csv(filename_mri)\n",
    "# SABRE = pd.read_csv(filename_sabre)"
   ]
  },
  {
   "cell_type": "code",
   "execution_count": null,
   "id": "6c3d2216-9fad-4e4b-b872-b71cc60c0893",
   "metadata": {
    "tags": []
   },
   "outputs": [],
   "source": [
    "# TOP = TOP.drop(TOP.columns[0],axis=1)\n",
    "# SABRE = SABRE.drop(SABRE.columns[0],axis=1)\n",
    "# #SABRE"
   ]
  },
  {
   "cell_type": "code",
   "execution_count": null,
   "id": "22d98c29-02f3-442a-8f53-ef75d9a0da0e",
   "metadata": {
    "tags": []
   },
   "outputs": [],
   "source": [
    "# StrokeMRI = StrokeMRI.drop(StrokeMRI.columns[0],axis=1)\n",
    "# #StrokeMRI"
   ]
  },
  {
   "cell_type": "code",
   "execution_count": null,
   "id": "61fa79d5-1fa5-401d-9ffd-1fb2762e03a2",
   "metadata": {
    "tags": []
   },
   "outputs": [],
   "source": [
    "# Now we need to flip the sex back to numbers for a correlation\n",
    "sex_mapping = {'F':0,'M':1}\n",
    "TOP = TOP.assign(sex = TOP.sex.map(sex_mapping))\n",
    "TOP.head(3)"
   ]
  },
  {
   "cell_type": "code",
   "execution_count": null,
   "id": "6e755c84-ff13-43ba-933d-22d56b1ded12",
   "metadata": {
    "tags": []
   },
   "outputs": [],
   "source": [
    "StrokeMRI = StrokeMRI.assign(sex = StrokeMRI.sex.map(sex_mapping))\n",
    "StrokeMRI.head(3)"
   ]
  },
  {
   "cell_type": "code",
   "execution_count": null,
   "id": "0c902084-c9b8-49a7-aab3-00b86c8a9726",
   "metadata": {},
   "outputs": [],
   "source": [
    "Insight46 = Insight46.assign(sex = Insight46.sex.map(sex_mapping))\n",
    "#Insight46.head(3)"
   ]
  },
  {
   "cell_type": "code",
   "execution_count": null,
   "id": "ca8cbc27-dd08-48d1-b3b7-95289e48670b",
   "metadata": {
    "tags": []
   },
   "outputs": [],
   "source": [
    "coly = TOP.columns\n",
    "SABRE = SABRE.assign(sex = SABRE.sex.map(sex_mapping))\n",
    "SABRE = SABRE[coly]\n",
    "SABRE.head(3)"
   ]
  },
  {
   "cell_type": "code",
   "execution_count": null,
   "id": "38548448-86cc-42bc-9d18-f4575fbd91d1",
   "metadata": {
    "tags": []
   },
   "outputs": [],
   "source": [
    "SABRE =SABRE.dropna()\n",
    "#SABRE.isna().sum()"
   ]
  },
  {
   "cell_type": "code",
   "execution_count": null,
   "id": "81a18649-6f97-4b55-a01b-bf6a3906fb5e",
   "metadata": {},
   "outputs": [],
   "source": []
  },
  {
   "cell_type": "code",
   "execution_count": null,
   "id": "b9efbca7-4d32-4371-94ea-42cd3cb9ba3b",
   "metadata": {
    "tags": []
   },
   "outputs": [],
   "source": [
    "# check for any duplicated patients between stroke and mri\n",
    "strokers = set(StrokeMRI.participant_id)\n",
    "topers = set(TOP.participant_id)\n",
    "z = strokers.intersection(topers)\n",
    "print(z) "
   ]
  },
  {
   "cell_type": "code",
   "execution_count": null,
   "id": "e59d0741-040c-4265-a2b5-5dfbd37214e1",
   "metadata": {
    "tags": []
   },
   "outputs": [],
   "source": [
    "# make mixed StrokeMRI and TOP dataset\n",
    "mixed_data = pd.concat([TOP, StrokeMRI], sort=False)\n"
   ]
  },
  {
   "cell_type": "markdown",
   "id": "f0c08947-d926-416e-92c4-7a644618a456",
   "metadata": {},
   "source": [
    "## Build ML models"
   ]
  },
  {
   "cell_type": "markdown",
   "id": "342956e4-4d11-45dd-94ce-f480813e5a4c",
   "metadata": {},
   "source": [
    "# keeping patient ID until right when model is fed, then use patient ID as key to what went where"
   ]
  },
  {
   "cell_type": "code",
   "execution_count": null,
   "id": "0e8b41eb-3b29-46e2-9627-85627d2d7da8",
   "metadata": {
    "tags": []
   },
   "outputs": [],
   "source": [
    "ml_matrix = mixed_data #.drop('participant_id', axis=1)\n",
    "X = ml_matrix.drop('age', axis =1)\n",
    "X = X.values\n",
    "y = ml_matrix['age'].values\n",
    "y=y.astype('float')\n"
   ]
  },
  {
   "cell_type": "code",
   "execution_count": null,
   "id": "6b707d30-686b-492d-96c1-4a5e01a166d2",
   "metadata": {
    "tags": []
   },
   "outputs": [],
   "source": [
    "#X_train, X_test, y_train, y_test = train_test_split(X, y, test_size=0.25, random_state=12)"
   ]
  },
  {
   "cell_type": "code",
   "execution_count": null,
   "id": "a745e96c-b85b-4235-98b2-fcab31e0cb51",
   "metadata": {
    "tags": []
   },
   "outputs": [],
   "source": [
    "# X_train_cut = X_train[:,1:]\n",
    "# X_train_cut = X_train_cut.astype('float')\n",
    "# X_train_cut.shape"
   ]
  },
  {
   "cell_type": "code",
   "execution_count": null,
   "id": "94c3b19b-57b2-4f79-95da-9fc45bcf6ff9",
   "metadata": {
    "tags": []
   },
   "outputs": [],
   "source": [
    "# X_test_cut = X_test[:,1:]\n",
    "# X_test_cut = X_test_cut.astype('float')\n",
    "# X_test_cut.shape"
   ]
  },
  {
   "cell_type": "code",
   "execution_count": null,
   "id": "2a8cf471-55c9-4d99-8379-f83d2a69701b",
   "metadata": {
    "tags": []
   },
   "outputs": [],
   "source": [
    "linr_k_frame, linr_y_frame, models = sep.frame_a_model_sex_split('linear regression', 'unharm_mix_linr', LinearRegression(), ml_matrix, X[:,1:], y)"
   ]
  },
  {
   "cell_type": "code",
   "execution_count": null,
   "id": "7ff12459-1935-4999-9b3d-82602f802e9a",
   "metadata": {
    "tags": []
   },
   "outputs": [],
   "source": [
    "linr_k_frame"
   ]
  },
  {
   "cell_type": "code",
   "execution_count": null,
   "id": "2082e609-ae7d-4dcb-9fc8-140b6161398a",
   "metadata": {
    "tags": []
   },
   "outputs": [],
   "source": [
    "avg_linr = sep.avg_k_folds(linr_k_frame)\n",
    "avg_linr"
   ]
  },
  {
   "cell_type": "code",
   "execution_count": null,
   "id": "b0133c79-6eaa-45d6-bc65-1c65fcf2947f",
   "metadata": {
    "tags": []
   },
   "outputs": [],
   "source": [
    "linr_y_frame"
   ]
  },
  {
   "cell_type": "code",
   "execution_count": null,
   "id": "c3b05bdb-866c-4e1d-ac49-ca0a9af68bb5",
   "metadata": {
    "tags": []
   },
   "outputs": [],
   "source": [
    "linr = models\n",
    "linr[0]"
   ]
  },
  {
   "cell_type": "code",
   "execution_count": null,
   "id": "5a2029b1-6758-4f63-9f69-37ae9b4b53a4",
   "metadata": {},
   "outputs": [],
   "source": [
    "# check if model folder exists and if not , then create\n",
    "model_folder = '../result_models/'\n",
    "if not os.path.exists(model_folder):\n",
    "    os.makedirs(model_folder)"
   ]
  },
  {
   "cell_type": "code",
   "execution_count": null,
   "id": "38457549-93e9-40f5-9b61-106ac0867bb2",
   "metadata": {
    "tags": []
   },
   "outputs": [],
   "source": [
    "## optional save models\n",
    "#joblib.dump(linr[0], ('../result_models/'+ 'unharm_mix_linr0.sav'))\n",
    "#joblib.dump(linr[1], ('../result_models/'+ 'unharm_mix_linr1.sav'))\n",
    "#joblib.dump(linr[2], ('../result_models/'+ 'unharm_mix_linr2.sav'))\n",
    "#joblib.dump(linr[3], ('../result_models/'+ 'unharm_mix_linr3.sav'))\n",
    "#joblib.dump(linr[4], ('../result_models/'+ 'unharm_mix_linr4.sav'))"
   ]
  },
  {
   "cell_type": "code",
   "execution_count": null,
   "id": "17b80594-22e7-42f5-9c93-f014e984d58c",
   "metadata": {},
   "outputs": [],
   "source": []
  },
  {
   "cell_type": "code",
   "execution_count": null,
   "id": "2fd550f0-6b41-4c28-8945-0e86f237cdd3",
   "metadata": {
    "tags": []
   },
   "outputs": [],
   "source": [
    "llreg_k_frame, llreg_y_frame, models = sep.frame_a_model_sex_split('lasso regression', 'unharm_mix_llreg',  linear_model.LassoLars(alpha=0.01), ml_matrix, X[:,1:], y)\n",
    "llreg_k_frame"
   ]
  },
  {
   "cell_type": "code",
   "execution_count": null,
   "id": "677564bc-7d69-4961-a7e4-563117cf9999",
   "metadata": {
    "tags": []
   },
   "outputs": [],
   "source": [
    "avg_llreg = sep.avg_k_folds(llreg_k_frame)\n",
    "avg_llreg"
   ]
  },
  {
   "cell_type": "code",
   "execution_count": null,
   "id": "16b37956-2e32-4c2b-bb26-956c6951dd54",
   "metadata": {
    "tags": []
   },
   "outputs": [],
   "source": [
    "llreg_y_frame"
   ]
  },
  {
   "cell_type": "code",
   "execution_count": null,
   "id": "5ef586e4-4a58-4c39-86bc-1a7062b2615a",
   "metadata": {
    "tags": []
   },
   "outputs": [],
   "source": [
    "llreg = models\n",
    "llreg[0]"
   ]
  },
  {
   "cell_type": "code",
   "execution_count": null,
   "id": "771f7170-67c2-42e0-a0e3-a0c35203f206",
   "metadata": {},
   "outputs": [],
   "source": [
    "## optional save models\n",
    "#joblib.dump(linr[0], ('../result_models/'+ 'unharm_mix_linr0.sav'))\n",
    "#joblib.dump(linr[1], ('../result_models/'+ 'unharm_mix_linr1.sav'))\n",
    "#joblib.dump(linr[2], ('../result_models/'+ 'unharm_mix_linr2.sav'))\n",
    "#joblib.dump(linr[3], ('../result_models/'+ 'unharm_mix_linr3.sav'))\n",
    "#joblib.dump(linr[4], ('../result_models/'+ 'unharm_mix_linr4.sav'))"
   ]
  },
  {
   "cell_type": "code",
   "execution_count": null,
   "id": "200c1af0-f464-4c5e-9f0d-5620699d0130",
   "metadata": {},
   "outputs": [],
   "source": []
  },
  {
   "cell_type": "code",
   "execution_count": null,
   "id": "bdfcdfe1-a080-42f9-89bc-2d0ee14f08d1",
   "metadata": {
    "tags": []
   },
   "outputs": [],
   "source": [
    "dtree_k_frame, dtree_y_frame, models = sep.frame_a_model_sex_split('decision tree', 'unharm_mix_dtree',  tree.DecisionTreeRegressor(), ml_matrix, X[:,1:], y)\n",
    "dtree_k_frame"
   ]
  },
  {
   "cell_type": "code",
   "execution_count": null,
   "id": "789640fb-2a27-435e-ac25-50ef1015e215",
   "metadata": {
    "tags": []
   },
   "outputs": [],
   "source": [
    "avg_dtree = sep.avg_k_folds(dtree_k_frame)\n",
    "avg_dtree"
   ]
  },
  {
   "cell_type": "code",
   "execution_count": null,
   "id": "fad10001-55db-4c26-a2bc-a8a2bbcf5dd7",
   "metadata": {
    "tags": []
   },
   "outputs": [],
   "source": [
    "dtree_y_frame"
   ]
  },
  {
   "cell_type": "code",
   "execution_count": null,
   "id": "31cc0344-f68d-44c4-afd4-d9ee1b4b6ac4",
   "metadata": {
    "tags": []
   },
   "outputs": [],
   "source": [
    "dtree = models\n",
    "dtree[0]"
   ]
  },
  {
   "cell_type": "code",
   "execution_count": null,
   "id": "a03a1ff9-e85d-4ea9-a8da-d019d3dc81da",
   "metadata": {},
   "outputs": [],
   "source": []
  },
  {
   "cell_type": "code",
   "execution_count": null,
   "id": "ff9bc510-7768-4fb0-b7c9-9ccb29a03431",
   "metadata": {
    "tags": []
   },
   "outputs": [],
   "source": [
    "regr_k_frame, regr_y_frame, models = sep.frame_a_model_sex_split('MLP regression', 'unharm_mix_regr',   MLPRegressor(random_state=1, max_iter=700), ml_matrix, X[:,1:], y)\n",
    "regr_k_frame"
   ]
  },
  {
   "cell_type": "code",
   "execution_count": null,
   "id": "33e2d523-3a35-4a4a-913b-196cf9dff8e0",
   "metadata": {
    "tags": []
   },
   "outputs": [],
   "source": [
    "avg_regr = sep.avg_k_folds(regr_k_frame)\n",
    "avg_regr"
   ]
  },
  {
   "cell_type": "code",
   "execution_count": null,
   "id": "8653b179-eb05-45d3-82fd-83bee512bb96",
   "metadata": {
    "tags": []
   },
   "outputs": [],
   "source": [
    "regr_y_frame"
   ]
  },
  {
   "cell_type": "code",
   "execution_count": null,
   "id": "134f09b0-87ab-4910-b25a-9679e24d0100",
   "metadata": {
    "tags": []
   },
   "outputs": [],
   "source": [
    "regr = models\n",
    "regr[0]"
   ]
  },
  {
   "cell_type": "code",
   "execution_count": null,
   "id": "095deab9-54f5-452e-bb15-5acc5d3ed06b",
   "metadata": {},
   "outputs": [],
   "source": []
  },
  {
   "cell_type": "code",
   "execution_count": null,
   "id": "4255d797-bcd4-4323-bac5-393c539cd4fd",
   "metadata": {
    "tags": []
   },
   "outputs": [],
   "source": [
    "svrp2_k_frame, svrp2_y_frame, models = sep.frame_a_model_sex_split('support vector reg poly2', 'unharm_mix_svrp2',   SVR(C=1.0, kernel='poly', degree =2, epsilon=0.2), ml_matrix, X[:,1:], y)\n",
    "svrp2_k_frame"
   ]
  },
  {
   "cell_type": "code",
   "execution_count": null,
   "id": "cd4d587b-0386-413b-a1d8-2210e62a8e5f",
   "metadata": {
    "tags": []
   },
   "outputs": [],
   "source": [
    "avg_svrp2 = sep.avg_k_folds(svrp2_k_frame)\n",
    "avg_svrp2"
   ]
  },
  {
   "cell_type": "code",
   "execution_count": null,
   "id": "93c133a2-fc16-4558-8f0e-d348b6d4b950",
   "metadata": {
    "tags": []
   },
   "outputs": [],
   "source": [
    "svrp2_y_frame"
   ]
  },
  {
   "cell_type": "code",
   "execution_count": null,
   "id": "559c3544-c9ac-46a4-94d1-ea9bd597c63a",
   "metadata": {
    "tags": []
   },
   "outputs": [],
   "source": [
    "svrp2 = models\n",
    "svrp2[0]"
   ]
  },
  {
   "cell_type": "code",
   "execution_count": null,
   "id": "ca9dce61-1647-4287-852e-60e28b1d3680",
   "metadata": {},
   "outputs": [],
   "source": []
  },
  {
   "cell_type": "code",
   "execution_count": null,
   "id": "61060fc3-0e43-4efc-ad98-a7914137adec",
   "metadata": {
    "tags": []
   },
   "outputs": [],
   "source": [
    "eregr_k_frame, eregr_y_frame, models = sep.frame_a_model_sex_split('elasticnetCV', 'unharm_mix_eregr',  ElasticNetCV(cv=5, random_state=12), ml_matrix, X[:,1:], y)\n",
    "eregr_k_frame"
   ]
  },
  {
   "cell_type": "code",
   "execution_count": null,
   "id": "ce1bb2eb-b10b-4a04-9d30-f96fa1e1ff3b",
   "metadata": {
    "tags": []
   },
   "outputs": [],
   "source": [
    "avg_eregr = sep.avg_k_folds(eregr_k_frame)\n",
    "avg_eregr"
   ]
  },
  {
   "cell_type": "code",
   "execution_count": null,
   "id": "ab97ad53-ab96-4eb3-9c4a-80bc6093bb86",
   "metadata": {
    "tags": []
   },
   "outputs": [],
   "source": [
    "eregr_y_frame"
   ]
  },
  {
   "cell_type": "code",
   "execution_count": null,
   "id": "5cc6f720-a67e-4354-b036-4533b08f2000",
   "metadata": {
    "tags": []
   },
   "outputs": [],
   "source": [
    "eregr = models\n",
    "eregr[0]"
   ]
  },
  {
   "cell_type": "code",
   "execution_count": null,
   "id": "30540041-80d6-401a-9ad4-1b936f32a424",
   "metadata": {},
   "outputs": [],
   "source": []
  },
  {
   "cell_type": "code",
   "execution_count": null,
   "id": "10a28950-8781-416b-8224-e0b14716900b",
   "metadata": {
    "tags": []
   },
   "outputs": [],
   "source": [
    "etreg_k_frame, etreg_y_frame, models = sep.frame_a_model_sex_split('extra trees', 'unharm_mix_etreg',  ExtraTreesRegressor(n_estimators=100, random_state=0), ml_matrix, X[:,1:], y)\n",
    "etreg_k_frame"
   ]
  },
  {
   "cell_type": "code",
   "execution_count": null,
   "id": "54cb4f91-5126-4971-b5eb-57cd2dcce9b5",
   "metadata": {
    "tags": []
   },
   "outputs": [],
   "source": [
    "avg_etreg = sep.avg_k_folds(etreg_k_frame)\n",
    "avg_etreg"
   ]
  },
  {
   "cell_type": "code",
   "execution_count": null,
   "id": "7b074414-9bc5-4d73-ba5c-671d4b9fe854",
   "metadata": {
    "tags": []
   },
   "outputs": [],
   "source": [
    "etreg_y_frame"
   ]
  },
  {
   "cell_type": "code",
   "execution_count": null,
   "id": "24a210ff-abd1-4a33-8d59-da26e937ca0a",
   "metadata": {
    "tags": []
   },
   "outputs": [],
   "source": [
    "etreg = models\n",
    "etreg[0]"
   ]
  },
  {
   "cell_type": "code",
   "execution_count": null,
   "id": "011b5aee-6c87-48fe-96be-93decfd2f2bf",
   "metadata": {},
   "outputs": [],
   "source": [
    "## optional save models\n",
    "#joblib.dump(linr[0], ('../result_models/'+ 'unharm_mix_etreg0.sav'))\n",
    "#joblib.dump(linr[1], ('../result_models/'+ 'unharm_mix_etreg1.sav'))\n",
    "#joblib.dump(linr[2], ('../result_models/'+ 'unharm_mix_etreg2.sav'))\n",
    "#joblib.dump(linr[3], ('../result_models/'+ 'unharm_mix_etreg3.sav'))\n",
    "#joblib.dump(linr[4], ('../result_models/'+ 'unharm_mix_etreg4.sav'))"
   ]
  },
  {
   "cell_type": "markdown",
   "id": "010653f4-8e57-454a-aaaf-4fa6991ab63c",
   "metadata": {},
   "source": [
    "Show results ON AVERAGE for each model"
   ]
  },
  {
   "cell_type": "code",
   "execution_count": null,
   "id": "23f651de-64b1-44c5-9bbb-ce606c51aa9f",
   "metadata": {
    "tags": []
   },
   "outputs": [],
   "source": [
    "mixed_based_unharmonized_on_testmix =pd.concat([avg_linr,\n",
    "                   avg_llreg,\n",
    "                   avg_dtree,\n",
    "                   avg_regr,\n",
    "                   avg_svrp2,\n",
    "                   avg_eregr,\n",
    "                   avg_etreg],\n",
    "                  axis=0)\n",
    "mixed_based_unharmonized_on_testmix"
   ]
  },
  {
   "cell_type": "code",
   "execution_count": null,
   "id": "0c6e61e5-b314-4be9-bd69-a67a27f6146d",
   "metadata": {},
   "outputs": [],
   "source": [
    "# data_frames1 = [linr_y_frame, llreg_y_frame, dtree_y_frame,]# regr_compare, ]#etreg_compare, svrp2_compare,]\n",
    "# real_versus_projected_y1 = reduce(lambda  left,right: pd.merge(left,right,on=[\"index\"],\n",
    "#                                             how='outer'), data_frames1)\n",
    "# #real_versus_projected_y1\n",
    "# data_frames2 = [eregr_y_frame, svrp2_y_frame, etreg_y_frame,]\n",
    "# real_versus_projected_y2 = reduce(lambda  left,right: pd.merge(left,right,on=[\"index\"],\n",
    "#                                             how='outer'), data_frames2)\n",
    "# #real_versus_projected_y2\n",
    "# real_versus_projected_y2 = sep.drop_y(real_versus_projected_y2 )\n",
    "# real_versus_projected_y1 = sep.drop_y(real_versus_projected_y1 )\n",
    "# #real_versus_projected_y1"
   ]
  },
  {
   "cell_type": "code",
   "execution_count": null,
   "id": "6c4ab177-23c4-4208-80da-dcaf0e565f5d",
   "metadata": {
    "tags": []
   },
   "outputs": [],
   "source": [
    "# data_frames1 = [linr_compare, llreg_compare, dtree_compare,]# regr_compare, ]#etreg_compare, svrp2_compare,]\n",
    "# real_versus_projected_y1 = reduce(lambda  left,right: pd.merge(left,right,on=[\"index\"],\n",
    "#                                             how='outer'), data_frames1)\n",
    "# #real_versus_projected_y1\n",
    "# data_frames2 = [eregr_compare, svrp2_compare, etreg_compare,]\n",
    "# real_versus_projected_y2 = reduce(lambda  left,right: pd.merge(left,right,on=[\"index\"],\n",
    "#                                             how='outer'), data_frames2)\n",
    "# #real_versus_projected_y2\n",
    "# real_versus_projected_y2 = sep.drop_y(real_versus_projected_y2 )\n",
    "# real_versus_projected_y1 = sep.drop_y(real_versus_projected_y1 )\n",
    "# #real_versus_projected_y1"
   ]
  },
  {
   "cell_type": "code",
   "execution_count": null,
   "id": "d3b786ff-21de-46bc-a4b2-5ca1f94f10b9",
   "metadata": {
    "tags": []
   },
   "outputs": [],
   "source": [
    "# data_frames3 = [real_versus_projected_y1, real_versus_projected_y2,]\n",
    "# real_versus_projected_y3_mixed_on_mixed = reduce(lambda  left,right: pd.merge(left,right,on=[\"index\"],\n",
    "#                                             how='outer'), data_frames3)\n",
    "# real_versus_projected_y3_mixed_on_mixed.head(3)"
   ]
  },
  {
   "cell_type": "markdown",
   "id": "222453bb-be5e-49ab-a6d6-fc517455d231",
   "metadata": {},
   "source": [
    "## Save off models and csv (optional, must uncomment)"
   ]
  },
  {
   "cell_type": "code",
   "execution_count": null,
   "id": "a6a6dac7-ac00-4ecd-b337-89a025c006e8",
   "metadata": {
    "tags": []
   },
   "outputs": [],
   "source": [
    "# # optionally save of csvs of algorithms and results\n",
    "# mixed_based_unharmonized_on_testmix.to_csv('mixed_based_unharmonized_on_testmix.csv')\n",
    "# real_versus_projected_y3_mixed_on_mixed.to_csv('real_versus_projected_y3_mixed_on_mixed.csv')"
   ]
  },
  {
   "cell_type": "code",
   "execution_count": null,
   "id": "e92a5088-213d-43aa-a4d6-57f9a423de28",
   "metadata": {
    "tags": []
   },
   "outputs": [],
   "source": [
    "# # check if model folder exists and if not , then create\n",
    "# model_folder = '../result_models/'\n",
    "# if not os.path.exists(model_folder):\n",
    "#     os.makedirs(model_folder)"
   ]
  },
  {
   "cell_type": "code",
   "execution_count": null,
   "id": "84df2c8c-e56c-4600-803c-6b4c59aa66ea",
   "metadata": {
    "tags": []
   },
   "outputs": [],
   "source": [
    "# joblib.dump(linr, ('../result_models/'+ 'unharm_mixed_linr.sav'))\n",
    "# joblib.dump(llreg, ('../result_models/'+ 'unharm_mixed_lassor.sav'))\n",
    "# joblib.dump(dtree, ('../result_models/'+ 'unharm_mixed_dtree.sav'))\n",
    "# joblib.dump(regr, ('../result_models/'+'unharm_mixed_regr.sav'))\n",
    "# joblib.dump(svr_p2, ('../result_models/'+'unharm_mixed_svrp2.sav'))\n",
    "# joblib.dump(eregr, ('../result_models/'+ 'unharm_mixed_elasticnet.sav'))\n",
    "# joblib.dump(etreg, ('../result_models/'+ 'unharm_mixed_extratree.sav'))"
   ]
  },
  {
   "cell_type": "markdown",
   "id": "3564dee9-7ed4-4e52-afce-447a173946da",
   "metadata": {},
   "source": [
    "## Run models on other datasets (TOP, StrokeMRI)\n",
    "but without re-running the training data"
   ]
  },
  {
   "cell_type": "code",
   "execution_count": null,
   "id": "316d658b-6794-4c77-8237-02ff41e57ba7",
   "metadata": {},
   "outputs": [],
   "source": [
    "# These cells must be rewritten, or the cells above, but skip to running over sabre"
   ]
  },
  {
   "cell_type": "markdown",
   "id": "09bf11e8-12e1-4c65-9fe4-c206dc5e1427",
   "metadata": {},
   "source": [
    "# # Here we check that no rows are duplicated once patient IDs were pulled \n",
    "(if not we can map them back)"
   ]
  },
  {
   "cell_type": "code",
   "execution_count": null,
   "id": "11e2c971-278c-43ca-847d-aa2e760d8ec3",
   "metadata": {
    "tags": []
   },
   "outputs": [],
   "source": [
    "X_train_pandas = pd.DataFrame(X_train)\n",
    "X_train_pandas.duplicated().sum()"
   ]
  },
  {
   "cell_type": "markdown",
   "id": "d1d824a7-0b4d-48cb-8b81-d9110dbc4051",
   "metadata": {
    "tags": []
   },
   "source": [
    "top_ml_matrix\n",
    "needs to be mapped to top rows in X_train,\n",
    "we will use ese MD5 hashes"
   ]
  },
  {
   "cell_type": "markdown",
   "id": "ddc9c725-9485-4c29-8026-a05e59ca890c",
   "metadata": {},
   "source": [
    "now we need to make a dataframe of TOP minus what is in X_train"
   ]
  },
  {
   "cell_type": "code",
   "execution_count": null,
   "id": "c7858f16-6fff-4f4c-aa5c-039c96f6ca3f",
   "metadata": {
    "tags": []
   },
   "outputs": [],
   "source": [
    "X_train_pandas.head(3)"
   ]
  },
  {
   "cell_type": "code",
   "execution_count": null,
   "id": "3e50840c-74f8-4a4f-8fbc-969874418016",
   "metadata": {
    "tags": []
   },
   "outputs": [],
   "source": [
    "trained_subjects = set(X_train_pandas[0])\n",
    "#trained_subjects "
   ]
  },
  {
   "cell_type": "code",
   "execution_count": null,
   "id": "4bcb0f94-5cf7-410d-a849-f6b6cc0abafa",
   "metadata": {
    "tags": []
   },
   "outputs": [],
   "source": [
    "TOP_subjects = set(TOP.participant_id)\n",
    "#TOP_subjects"
   ]
  },
  {
   "cell_type": "code",
   "execution_count": null,
   "id": "fc60f509-54df-4c6e-baf4-edc7bc81b860",
   "metadata": {
    "tags": []
   },
   "outputs": [],
   "source": [
    "# take trained subjects out of top subjects\n",
    "# we can use set math here\n",
    "new_top=(trained_subjects^TOP_subjects)&TOP_subjects\n",
    "print(len(new_top))\n",
    "#print(new_top)"
   ]
  },
  {
   "cell_type": "markdown",
   "id": "67e014ce-ad99-4c51-bcfb-7f1e575c154b",
   "metadata": {},
   "source": [
    "filter down to only top where they are in new_top set"
   ]
  },
  {
   "cell_type": "code",
   "execution_count": null,
   "id": "7b2d287e-c721-4ee1-ba42-906c8a7a515b",
   "metadata": {
    "tags": []
   },
   "outputs": [],
   "source": [
    "TOP_new = TOP[TOP['participant_id'].isin(list(new_top))]\n",
    "#TOP_new"
   ]
  },
  {
   "cell_type": "code",
   "execution_count": null,
   "id": "a9a1641f-afe5-4c48-ac0c-d4af9d507315",
   "metadata": {
    "tags": []
   },
   "outputs": [],
   "source": [
    "top_ml_matrix = TOP_new.drop('participant_id', axis=1) \n",
    "\n",
    "X_top = top_ml_matrix.drop('age', axis =1)\n",
    "\n",
    "X_top = X_top.values\n",
    "X_top = X_top.astype('float')\n",
    "y_top = top_ml_matrix['age'].values\n",
    "y_top=y_top.astype('float')"
   ]
  },
  {
   "cell_type": "code",
   "execution_count": null,
   "id": "93f90ccb-465b-4fa4-b563-c0ea604f2ba0",
   "metadata": {
    "tags": []
   },
   "outputs": [],
   "source": [
    "X_top_test = X_top\n",
    "y_top_test = y_top"
   ]
  },
  {
   "cell_type": "code",
   "execution_count": null,
   "id": "0f0f0f7c-238d-4416-b7cc-853d7a49f438",
   "metadata": {
    "tags": []
   },
   "outputs": [],
   "source": [
    "y_top_pred = linr.predict(X_top_test)"
   ]
  },
  {
   "cell_type": "code",
   "execution_count": null,
   "id": "d363eb17-ac89-475e-aca5-21e6e657bcf6",
   "metadata": {
    "tags": []
   },
   "outputs": [],
   "source": [
    "print('R2 score Linear regression: %.3f' % linr.score(X_top_test,y_top_test))\n",
    "print('Explained variance score: %.3f'  % metrics.explained_variance_score(y_top_test, y_top_pred))\n",
    "print('The mean absolute error: %.3f' % mean_absolute_error(y_top_test, y_top_pred))"
   ]
  },
  {
   "cell_type": "code",
   "execution_count": null,
   "id": "267bb825-839d-4010-8af3-1e742adf9ef3",
   "metadata": {
    "tags": []
   },
   "outputs": [],
   "source": [
    "data= [[\n",
    "    'linear regression',\n",
    "    'unharm_mixed_linr.sav',\n",
    "    mean_absolute_error(y_top_test, y_top_pred),\n",
    "    linr.score(X_top_test,y_top_test),\n",
    "    metrics.explained_variance_score(y_top_test, y_top_pred)]]\n",
    "linr_results_top = pd.DataFrame(data, columns=['algorithm','file_name','mae', 'r2', 'explained_variance'])\n",
    "linr_results_top"
   ]
  },
  {
   "cell_type": "code",
   "execution_count": null,
   "id": "b8c8d3d6-935a-4270-88a5-0a1241154f22",
   "metadata": {
    "tags": []
   },
   "outputs": [],
   "source": [
    "linr_y_test = y_top_test\n",
    "linr_y_pred = y_top_pred\n",
    "linr_compare = pd.DataFrame(\n",
    "    {'y_test_real_age': linr_y_test,\n",
    "     'linr_y_pred_age': linr_y_pred,\n",
    "    })\n",
    "linr_compare = linr_compare.reset_index()\n",
    "#linr_compare"
   ]
  },
  {
   "cell_type": "code",
   "execution_count": null,
   "id": "f7d16438-153f-4786-97f5-fabcd01a6866",
   "metadata": {},
   "outputs": [],
   "source": [
    "y_top_pred = llreg.predict(X_top_test)"
   ]
  },
  {
   "cell_type": "code",
   "execution_count": null,
   "id": "dc629155-5f4e-40a6-b0b0-299be6d2cd90",
   "metadata": {},
   "outputs": [],
   "source": [
    "print('R2 score Lasso linear regression: %.3f' % llreg.score(X_top_test,y_top_test))\n",
    "print('Explained variance score: %.3f'  % metrics.explained_variance_score(y_top_test, y_top_pred))\n",
    "print('The mean absolute error: %.3f' % mean_absolute_error(y_top_test, y_top_pred))"
   ]
  },
  {
   "cell_type": "code",
   "execution_count": null,
   "id": "f5c0d01d-4506-459b-9453-e0fe7746fbca",
   "metadata": {},
   "outputs": [],
   "source": []
  },
  {
   "cell_type": "code",
   "execution_count": null,
   "id": "fad5a217-84ed-4b0b-8497-e9857aa654e4",
   "metadata": {
    "tags": []
   },
   "outputs": [],
   "source": [
    "data= [[\n",
    "    'lasso regression',\n",
    "    'unharm_mixed_llregr.sav',\n",
    "    mean_absolute_error(y_top_test, y_top_pred),\n",
    "    llreg.score(X_top_test,y_top_test),\n",
    "    metrics.explained_variance_score(y_top_test, y_top_pred)]]\n",
    "llreg_results_top = pd.DataFrame(data, columns=['algorithm','file_name','mae', 'r2', 'explained_variance'])\n",
    "llreg_results_top"
   ]
  },
  {
   "cell_type": "code",
   "execution_count": null,
   "id": "e32ddcd6-a391-4545-961e-4760c47acde5",
   "metadata": {
    "tags": []
   },
   "outputs": [],
   "source": [
    "llreg_y_test = y_top_test\n",
    "llreg_y_pred = y_top_pred\n",
    "llreg_compare = pd.DataFrame(\n",
    "    {'y_test_real_age': llreg_y_test,\n",
    "     'linr_y_pred_age': llreg_y_pred,\n",
    "    })\n",
    "llreg_compare = llreg_compare.reset_index()\n",
    "#llreg_compare"
   ]
  },
  {
   "cell_type": "code",
   "execution_count": null,
   "id": "2f8161ef-c2f3-4654-a60d-2182cf1779f0",
   "metadata": {
    "tags": []
   },
   "outputs": [],
   "source": [
    "y_top_pred = dtree.predict(X_top_test)"
   ]
  },
  {
   "cell_type": "code",
   "execution_count": null,
   "id": "e5b8d534-47cc-408b-88ba-fb0cec6ab419",
   "metadata": {
    "tags": []
   },
   "outputs": [],
   "source": [
    "print('R2 score decision tree regression: %.3f' % dtree.score(X_top_test,y_top_test))\n",
    "print('Explained variance score: %.3f'  % metrics.explained_variance_score(y_top_test, y_top_pred))\n",
    "print('The mean absolute error: %.3f' % mean_absolute_error(y_top_test, y_top_pred))"
   ]
  },
  {
   "cell_type": "code",
   "execution_count": null,
   "id": "c94cbf41-afed-4c15-85f8-d42c0c47f811",
   "metadata": {},
   "outputs": [],
   "source": []
  },
  {
   "cell_type": "code",
   "execution_count": null,
   "id": "f19c19ca-d913-4d79-8ae4-2758ab843662",
   "metadata": {
    "tags": []
   },
   "outputs": [],
   "source": [
    "data= [[\n",
    "    'decision tree',\n",
    "    'unharm_mixed_dtree.sav',\n",
    "    mean_absolute_error(y_top_test, y_top_pred),\n",
    "    dtree.score(X_top_test,y_top_test),\n",
    "    metrics.explained_variance_score(y_top_test, y_top_pred)]]\n",
    "dtree_results_top = pd.DataFrame(data, columns=['algorithm','file_name','mae', 'r2', 'explained_variance'])\n",
    "dtree_results_top"
   ]
  },
  {
   "cell_type": "code",
   "execution_count": null,
   "id": "2ea3cc21-fd5d-4695-ab89-0ad4554c585e",
   "metadata": {
    "tags": []
   },
   "outputs": [],
   "source": [
    "dtree_y_test = y_top_test\n",
    "dtree_y_pred = y_top_pred\n",
    "dtree_compare = pd.DataFrame(\n",
    "    {'y_test_real_age': dtree_y_test,\n",
    "     'linr_y_pred_age': dtree_y_pred,\n",
    "    })\n",
    "dtree_compare = linr_compare.reset_index()\n",
    "#dtree_compare"
   ]
  },
  {
   "cell_type": "code",
   "execution_count": null,
   "id": "9275589e-dd8d-43c0-b5ff-b3873b063e7c",
   "metadata": {
    "tags": []
   },
   "outputs": [],
   "source": [
    "y_top_pred = eregr.predict(X_top_test)"
   ]
  },
  {
   "cell_type": "code",
   "execution_count": null,
   "id": "fc8c1e25-4778-44df-b81c-9cd0dbcbc40b",
   "metadata": {
    "tags": []
   },
   "outputs": [],
   "source": [
    "print('R2 score ElasticnetCV regression: %.3f' % eregr.score(X_top_test,y_top_test))\n",
    "print('Explained variance score: %.3f'  % metrics.explained_variance_score(y_top_test, y_top_pred))\n",
    "print('The mean absolute error: %.3f' % mean_absolute_error(y_top_test, y_top_pred))"
   ]
  },
  {
   "cell_type": "code",
   "execution_count": null,
   "id": "00147bec-b609-442e-9d1e-f545e16405ef",
   "metadata": {
    "tags": []
   },
   "outputs": [],
   "source": [
    "data= [[\n",
    "    'elasticnetCV',\n",
    "    'unharm_mixed_eregr.sav',\n",
    "    mean_absolute_error(y_top_test, y_top_pred),\n",
    "    linr.score(X_top_test,y_top_test),\n",
    "    metrics.explained_variance_score(y_top_test, y_top_pred)]]\n",
    "eregr_results_top = pd.DataFrame(data, columns=['algorithm','file_name','mae', 'r2', 'explained_variance'])\n",
    "eregr_results_top"
   ]
  },
  {
   "cell_type": "code",
   "execution_count": null,
   "id": "9fc82c9a-7fae-404f-89c3-d9b82059f764",
   "metadata": {
    "tags": []
   },
   "outputs": [],
   "source": [
    "eregr_y_test = y_top_test\n",
    "eregr_y_pred = y_top_pred\n",
    "eregr_compare = pd.DataFrame(\n",
    "    {'y_test_real_age': eregr_y_test,\n",
    "     'linr_y_pred_age': eregr_y_pred,\n",
    "    })\n",
    "eregr_compare = linr_compare.reset_index()\n",
    "#eregr_compare"
   ]
  },
  {
   "cell_type": "code",
   "execution_count": null,
   "id": "e2eb516e-3f8f-4bc0-9a2f-d862f87cf671",
   "metadata": {
    "tags": []
   },
   "outputs": [],
   "source": [
    "y_top_pred = svr_p2.predict(X_top_test)"
   ]
  },
  {
   "cell_type": "code",
   "execution_count": null,
   "id": "08e620a6-5e79-4659-ba9a-c7127c2ee0d2",
   "metadata": {
    "tags": []
   },
   "outputs": [],
   "source": [
    "print('R2 score SVR poly 2 regression: %.3f' % svr_p2.score(X_top_test,y_top_test))\n",
    "print('Explained variance score: %.3f'  % metrics.explained_variance_score(y_top_test, y_top_pred))\n",
    "print('The mean absolute error: %.3f' % mean_absolute_error(y_top_test, y_top_pred))"
   ]
  },
  {
   "cell_type": "code",
   "execution_count": null,
   "id": "d34d3eab-ed59-4f41-b985-3e8a667c42ce",
   "metadata": {
    "tags": []
   },
   "outputs": [],
   "source": [
    "data= [[\n",
    "    'SVR polynom degree 2',\n",
    "    'unharm_mixed_svrp2.sav',\n",
    "    mean_absolute_error(y_top_test, y_top_pred),\n",
    "    svr_p2.score(X_top_test,y_top_test),\n",
    "    metrics.explained_variance_score(y_top_test, y_top_pred)]]\n",
    "svrp2_results_top = pd.DataFrame(data, columns=['algorithm','file_name','mae', 'r2', 'explained_variance'])\n",
    "#svrp2_results_top"
   ]
  },
  {
   "cell_type": "code",
   "execution_count": null,
   "id": "4e4abb12-7f6b-4c81-b998-fc109418924a",
   "metadata": {
    "tags": []
   },
   "outputs": [],
   "source": [
    "svrp2_y_test = y_top_test\n",
    "svrp2_y_pred = y_top_pred\n",
    "svrp2_compare = pd.DataFrame(\n",
    "    {'y_test_real_age': svrp2_y_test,\n",
    "     'linr_y_pred_age': svrp2_y_pred,\n",
    "    })\n",
    "svrp2_compare = linr_compare.reset_index()\n",
    "#svrp2_compare"
   ]
  },
  {
   "cell_type": "code",
   "execution_count": null,
   "id": "98591fac-bd83-4fd2-960d-681b13cb7600",
   "metadata": {
    "tags": []
   },
   "outputs": [],
   "source": [
    "y_top_pred = etreg.predict(X_top_test)"
   ]
  },
  {
   "cell_type": "code",
   "execution_count": null,
   "id": "8600a9d6-1796-4ce0-9571-fc1afd5d663d",
   "metadata": {
    "tags": []
   },
   "outputs": [],
   "source": [
    "print('R2 score Extra trees: %.3f' % etreg.score(X_top_test,y_top_test))\n",
    "print('Explained variance score: %.3f'  % metrics.explained_variance_score(y_top_test, y_top_pred))\n",
    "print('The mean absolute error: %.3f' % mean_absolute_error(y_top_test, y_top_pred))"
   ]
  },
  {
   "cell_type": "code",
   "execution_count": null,
   "id": "f6c9003c-f23f-4dfa-b66b-4e9e268d30e6",
   "metadata": {
    "tags": []
   },
   "outputs": [],
   "source": [
    "data= [[\n",
    "    'extra trees',\n",
    "    'unharm_mixed_ereg.sav',\n",
    "    mean_absolute_error(y_top_test, y_top_pred),\n",
    "    etreg.score(X_top_test,y_top_test),\n",
    "    metrics.explained_variance_score(y_top_test, y_top_pred)]]\n",
    "etreg_results_top = pd.DataFrame(data, columns=['algorithm','file_name','mae', 'r2', 'explained_variance'])\n",
    "etreg_results_top"
   ]
  },
  {
   "cell_type": "code",
   "execution_count": null,
   "id": "b448779a-7c8e-4d68-9fdc-bb260002594e",
   "metadata": {
    "tags": []
   },
   "outputs": [],
   "source": [
    "etreg_y_test = y_top_test\n",
    "etreg_y_pred = y_top_pred\n",
    "etreg_compare = pd.DataFrame(\n",
    "    {'y_test_real_age': etreg_y_test,\n",
    "     'linr_y_pred_age': etreg_y_pred,\n",
    "    })\n",
    "etreg_compare = linr_compare.reset_index()\n",
    "#etreg_compare"
   ]
  },
  {
   "cell_type": "code",
   "execution_count": null,
   "id": "568b8203-b0a4-40ba-93a4-64053d50afbc",
   "metadata": {
    "tags": []
   },
   "outputs": [],
   "source": [
    "y_top_pred = regr.predict(X_top_test)"
   ]
  },
  {
   "cell_type": "code",
   "execution_count": null,
   "id": "7bb07df5-c164-499f-982b-eaf42333a204",
   "metadata": {
    "tags": []
   },
   "outputs": [],
   "source": [
    "print('R2 score MLP regression: %.3f' % regr.score(X_top_test,y_top_test))\n",
    "print('Explained variance score: %.3f'  % metrics.explained_variance_score(y_top_test, y_top_pred))\n",
    "print('The mean absolute error: %.3f' % mean_absolute_error(y_top_test, y_top_pred))"
   ]
  },
  {
   "cell_type": "code",
   "execution_count": null,
   "id": "f2dbe571-c066-49d8-b663-dccf7bf1f2ae",
   "metadata": {
    "tags": []
   },
   "outputs": [],
   "source": [
    "data= [[\n",
    "    'multilayered percentron',\n",
    "    'unharm_mixed_regr.sav',\n",
    "    mean_absolute_error(y_top_test, y_top_pred),\n",
    "    regr.score(X_top_test,y_top_test),\n",
    "    metrics.explained_variance_score(y_top_test, y_top_pred)]]\n",
    "regr_results_top = pd.DataFrame(data, columns=['algorithm','file_name','mae', 'r2', 'explained_variance'])\n",
    "#regr_results_top"
   ]
  },
  {
   "cell_type": "code",
   "execution_count": null,
   "id": "257f3326-30ba-433b-b634-c637e51cdd17",
   "metadata": {
    "tags": []
   },
   "outputs": [],
   "source": [
    "regr_y_test = y_top_test\n",
    "regr_y_pred = y_top_pred\n",
    "regr_compare = pd.DataFrame(\n",
    "    {'y_test_real_age': regr_y_test,\n",
    "     'linr_y_pred_age': regr_y_pred,\n",
    "    })\n",
    "regr_compare = linr_compare.reset_index()\n",
    "#regr_compare"
   ]
  },
  {
   "cell_type": "code",
   "execution_count": null,
   "id": "2f45a1c7-1515-480b-92da-87e3bc4649df",
   "metadata": {},
   "outputs": [],
   "source": [
    "# Compile results of mixed on TOP"
   ]
  },
  {
   "cell_type": "code",
   "execution_count": null,
   "id": "be30970c-f1b9-4bdb-bade-8b8c49959a2a",
   "metadata": {
    "tags": []
   },
   "outputs": [],
   "source": [
    "mixed_based_unharmonized_on_top =pd.concat([linr_results_top,\n",
    "                   llreg_results_top,\n",
    "                   dtree_results_top,\n",
    "                   regr_results_top,\n",
    "                   svrp2_results_top,\n",
    "                   eregr_results_top,\n",
    "                  etreg_results_top],\n",
    "                  axis=0)\n",
    "mixed_based_unharmonized_on_top"
   ]
  },
  {
   "cell_type": "code",
   "execution_count": null,
   "id": "d5346ad2-c9bb-4ae2-a2b8-397fea2bd2f2",
   "metadata": {},
   "outputs": [],
   "source": []
  },
  {
   "cell_type": "code",
   "execution_count": null,
   "id": "b6126690-767c-42f6-865f-4664d4af4fcf",
   "metadata": {
    "tags": []
   },
   "outputs": [],
   "source": [
    "data_frames1 = [linr_compare, llreg_compare, dtree_compare,]# regr_compare, ]#etreg_compare, svrp2_compare,]\n",
    "real_versus_projected_y1 = reduce(lambda  left,right: pd.merge(left,right,on=[\"index\"],\n",
    "                                            how='outer'), data_frames1)\n",
    "#real_versus_projected_y1\n",
    "data_frames2 = [eregr_compare, svrp2_compare, etreg_compare,]\n",
    "real_versus_projected_y2 = reduce(lambda  left,right: pd.merge(left,right,on=[\"index\"],\n",
    "                                            how='outer'), data_frames2)\n",
    "#real_versus_projected_y2\n",
    "real_versus_projected_y2 = sep.drop_y(real_versus_projected_y2 )\n",
    "real_versus_projected_y1 = sep.drop_y(real_versus_projected_y1 )\n",
    "#real_versus_projected_y1"
   ]
  },
  {
   "cell_type": "code",
   "execution_count": null,
   "id": "add4a609-9445-49e7-ad79-78d361ac5d62",
   "metadata": {
    "tags": []
   },
   "outputs": [],
   "source": [
    "data_frames3 = [real_versus_projected_y1, real_versus_projected_y2,]\n",
    "real_versus_projected_y3_mixed_on_top = reduce(lambda  left,right: pd.merge(left,right,on=[\"index\"],\n",
    "                                            how='outer'), data_frames3)\n",
    "real_versus_projected_y3_mixed_on_top.head(3)"
   ]
  },
  {
   "cell_type": "markdown",
   "id": "495993f9-3c8b-414f-beef-ee949afc430e",
   "metadata": {},
   "source": [
    "## Save off csvs of results \n",
    "optional, you must uncomment"
   ]
  },
  {
   "cell_type": "code",
   "execution_count": null,
   "id": "6f4fd654-e96a-4a8d-9dfd-5fcb6ee91112",
   "metadata": {
    "tags": []
   },
   "outputs": [],
   "source": [
    "## optionally save of csvs of algorithms and results\n",
    "#mixed_based_unharmonized_on_top.to_csv('mixed_based_unharmonized_on_top.csv')\n",
    "#real_versus_projected_y3_mixed_on_top.to_csv('real_versus_projected_y3_mixed_on_top.csv')"
   ]
  },
  {
   "cell_type": "markdown",
   "id": "d59ac976-bbb9-4352-b3e5-f9f551709aef",
   "metadata": {},
   "source": [
    "# Mixed algorithm on stroke MRI subjects (not in training)"
   ]
  },
  {
   "cell_type": "code",
   "execution_count": null,
   "id": "a24edd93-aaa9-4886-a867-61da425b11d6",
   "metadata": {
    "tags": []
   },
   "outputs": [],
   "source": [
    "StrokeMRI_subjects = set(StrokeMRI.participant_id)\n",
    "#StrokeMRI_subjects"
   ]
  },
  {
   "cell_type": "code",
   "execution_count": null,
   "id": "fa9f364f-66a6-43d7-9f70-e226f5eaa949",
   "metadata": {
    "tags": []
   },
   "outputs": [],
   "source": [
    "# take trained subjects out of top subjects\n",
    "# we can use set math here\n",
    "new_mri=(trained_subjects^StrokeMRI_subjects)&StrokeMRI_subjects"
   ]
  },
  {
   "cell_type": "code",
   "execution_count": null,
   "id": "32c90a0d-5766-4f2a-8569-1e8f206b2159",
   "metadata": {
    "tags": []
   },
   "outputs": [],
   "source": [
    "StrokeMRI_new = StrokeMRI[StrokeMRI['participant_id'].isin(list(new_mri))]\n",
    "#StrokeMRI_new"
   ]
  },
  {
   "cell_type": "code",
   "execution_count": null,
   "id": "ae3a47ad-e982-4d52-9680-c0e3db7b7bc2",
   "metadata": {
    "tags": []
   },
   "outputs": [],
   "source": [
    "strokemri_ml_matrix = StrokeMRI_new.drop('participant_id', axis=1) \n",
    "X_mri = strokemri_ml_matrix.drop('age', axis =1)\n",
    "X_mri = X_mri.values\n",
    "X_mri = X_mri.astype('float')\n",
    "y_mri = strokemri_ml_matrix['age'].values\n",
    "y_mri=y_mri.astype('float')"
   ]
  },
  {
   "cell_type": "code",
   "execution_count": null,
   "id": "081d7d47-ab65-4cd7-a944-ba6984bade1e",
   "metadata": {
    "tags": []
   },
   "outputs": [],
   "source": [
    "X_mri_test = X_mri\n",
    "y_mri_test = y_mri"
   ]
  },
  {
   "cell_type": "code",
   "execution_count": null,
   "id": "2246791f-a36d-4f99-bf3e-b6f50cf19b1d",
   "metadata": {
    "tags": []
   },
   "outputs": [],
   "source": [
    "y_mri_pred = linr.predict(X_mri_test)"
   ]
  },
  {
   "cell_type": "code",
   "execution_count": null,
   "id": "2cf3dbd7-ed59-4aa9-91f5-2df91a7ed723",
   "metadata": {
    "tags": []
   },
   "outputs": [],
   "source": [
    "print('R2 score Linear regression: %.3f' % linr.score(X_mri_test,y_mri_test))\n",
    "print('Explained variance score: %.3f'  % metrics.explained_variance_score(y_mri_test, y_mri_pred))\n",
    "print('The mean absolute error: %.3f' % mean_absolute_error(y_mri_test, y_mri_pred))"
   ]
  },
  {
   "cell_type": "code",
   "execution_count": null,
   "id": "a24d189a-70df-4827-9cbb-1947c969ac22",
   "metadata": {},
   "outputs": [],
   "source": []
  },
  {
   "cell_type": "code",
   "execution_count": null,
   "id": "68303cc7-dd89-4ccb-9738-367750be8a7d",
   "metadata": {
    "tags": []
   },
   "outputs": [],
   "source": [
    "data= [[\n",
    "    'linear regression',\n",
    "    'unharm_mixed_linr.sav',\n",
    "    mean_absolute_error(y_mri_test, y_mri_pred),\n",
    "    linr.score(X_mri_test,y_mri_test),\n",
    "    metrics.explained_variance_score(y_mri_test, y_mri_pred)]]\n",
    "linr_results_mri = pd.DataFrame(data, columns=['algorithm','file_name','mae', 'r2', 'explained_variance'])\n",
    "linr_results_mri"
   ]
  },
  {
   "cell_type": "code",
   "execution_count": null,
   "id": "36f6160b-c799-42c2-9f15-14c5adb30f6e",
   "metadata": {
    "tags": []
   },
   "outputs": [],
   "source": [
    "linr_y_test = y_mri_test\n",
    "linr_y_pred = y_mri_pred\n",
    "linr_compare = pd.DataFrame(\n",
    "    {'y_test_real_age': linr_y_test,\n",
    "     'linr_y_pred_age': linr_y_pred,\n",
    "    })\n",
    "linr_compare_mri = linr_compare.reset_index()\n",
    "#linr_compare_mri"
   ]
  },
  {
   "cell_type": "code",
   "execution_count": null,
   "id": "5261a4f6-23e8-4fbb-a3c9-ded743fb29f5",
   "metadata": {
    "tags": []
   },
   "outputs": [],
   "source": [
    "y_mri_pred = llreg.predict(X_mri_test)"
   ]
  },
  {
   "cell_type": "code",
   "execution_count": null,
   "id": "808a999b-4c8f-4a0a-b08e-c5b2b29cf598",
   "metadata": {
    "tags": []
   },
   "outputs": [],
   "source": [
    "print('R2 score Lasso-linear regression: %.3f' % llreg.score(X_mri_test,y_mri_test))\n",
    "print('Explained variance score: %.3f'  % metrics.explained_variance_score(y_mri_test, y_mri_pred))\n",
    "print('The mean absolute error: %.3f' % mean_absolute_error(y_mri_test, y_mri_pred))"
   ]
  },
  {
   "cell_type": "code",
   "execution_count": null,
   "id": "8bb0239f-4bcb-43ab-96f7-197ceeb12077",
   "metadata": {
    "tags": []
   },
   "outputs": [],
   "source": [
    "data= [[\n",
    "    'lasso regression',\n",
    "    'unharm_mixed_llreg.sav',\n",
    "    mean_absolute_error(y_mri_test, y_mri_pred),\n",
    "    llreg.score(X_mri_test,y_mri_test),\n",
    "    metrics.explained_variance_score(y_mri_test, y_mri_pred)]]\n",
    "llreg_results_mri = pd.DataFrame(data, columns=['algorithm','file_name','mae', 'r2', 'explained_variance'])\n",
    "#llreg_results_mri"
   ]
  },
  {
   "cell_type": "code",
   "execution_count": null,
   "id": "62a438b0-c1f4-4fd4-accc-25436ddf50bd",
   "metadata": {
    "tags": []
   },
   "outputs": [],
   "source": [
    "llreg_y_test = y_mri_test\n",
    "llreg_y_pred = y_mri_pred\n",
    "llreg_compare = pd.DataFrame(\n",
    "    {'y_test_real_age': llreg_y_test,\n",
    "     'llreg_y_pred_age': llreg_y_pred,\n",
    "    })\n",
    "llreg_compare_mri = llreg_compare.reset_index()\n",
    "#llreg_compare_mri"
   ]
  },
  {
   "cell_type": "code",
   "execution_count": null,
   "id": "c290764e-a2fb-4410-ab02-577a8893dc68",
   "metadata": {
    "tags": []
   },
   "outputs": [],
   "source": [
    "y_mri_pred = dtree.predict(X_mri_test)"
   ]
  },
  {
   "cell_type": "code",
   "execution_count": null,
   "id": "edb472a2-6f7b-44e2-9ac7-bdfadc5f1061",
   "metadata": {
    "tags": []
   },
   "outputs": [],
   "source": [
    "print('R2 score decision tree regression: %.3f' % dtree.score(X_mri_test,y_mri_test))\n",
    "print('Explained variance score: %.3f'  % metrics.explained_variance_score(y_mri_test, y_mri_pred))\n",
    "print('The mean absolute error: %.3f' % mean_absolute_error(y_mri_test, y_mri_pred))"
   ]
  },
  {
   "cell_type": "code",
   "execution_count": null,
   "id": "9fa27521-c6bf-46ef-a3ca-b351b79bd802",
   "metadata": {
    "tags": []
   },
   "outputs": [],
   "source": [
    "data= [[\n",
    "    'decision tree',\n",
    "    'unharm_mixed_dtree.sav',\n",
    "    mean_absolute_error(y_mri_test, y_mri_pred),\n",
    "    dtree.score(X_mri_test,y_mri_test),\n",
    "    metrics.explained_variance_score(y_mri_test, y_mri_pred)]]\n",
    "dtree_results_mri = pd.DataFrame(data, columns=['algorithm','file_name','mae', 'r2', 'explained_variance'])\n",
    "dtree_results_mri"
   ]
  },
  {
   "cell_type": "code",
   "execution_count": null,
   "id": "f0cb4a08-df34-45f0-b66e-a55271ddcefd",
   "metadata": {
    "tags": []
   },
   "outputs": [],
   "source": [
    "dtree_y_test = y_mri_test\n",
    "dtree_y_pred = y_mri_pred\n",
    "dtree_compare = pd.DataFrame(\n",
    "    {'y_test_real_age': dtree_y_test,\n",
    "     'dtree_y_pred_age': dtree_y_pred,\n",
    "    })\n",
    "dtree_compare_mri = dtree_compare.reset_index()\n",
    "#dtree_compare_mri"
   ]
  },
  {
   "cell_type": "code",
   "execution_count": null,
   "id": "c849b199-f2c9-4223-8139-e697d77ddadc",
   "metadata": {
    "tags": []
   },
   "outputs": [],
   "source": [
    "y_mri_pred = regr.predict(X_mri_test)"
   ]
  },
  {
   "cell_type": "code",
   "execution_count": null,
   "id": "71e4d3b0-8448-4a14-b0f7-a3cc33898818",
   "metadata": {
    "tags": []
   },
   "outputs": [],
   "source": [
    "print('R2 score MLP regression: %.3f' % regr.score(X_mri_test,y_mri_test))\n",
    "print('Explained variance score: %.3f'  % metrics.explained_variance_score(y_mri_test, y_mri_pred))\n",
    "print('The mean absolute error: %.3f' % mean_absolute_error(y_mri_test, y_mri_pred))"
   ]
  },
  {
   "cell_type": "code",
   "execution_count": null,
   "id": "7bb0867c-1798-4d15-b80f-6510fdf16a4a",
   "metadata": {
    "tags": []
   },
   "outputs": [],
   "source": [
    "data= [[\n",
    "    'multilayered perceptron',\n",
    "    'unharm_mixed_regr.sav',\n",
    "    mean_absolute_error(y_mri_test, y_mri_pred),\n",
    "    regr.score(X_mri_test,y_mri_test),\n",
    "    metrics.explained_variance_score(y_mri_test, y_mri_pred)]]\n",
    "regr_results_mri = pd.DataFrame(data, columns=['algorithm','file_name','mae', 'r2', 'explained_variance'])\n",
    "regr_results_mri"
   ]
  },
  {
   "cell_type": "code",
   "execution_count": null,
   "id": "ba3f74f4-1868-4f32-b08d-81f1bf95ee00",
   "metadata": {
    "tags": []
   },
   "outputs": [],
   "source": [
    "regr_y_test = y_mri_test\n",
    "regr_y_pred = y_mri_pred\n",
    "regr_compare = pd.DataFrame(\n",
    "    {'y_test_real_age': regr_y_test,\n",
    "     'linr_y_pred_age': regr_y_pred,\n",
    "    })\n",
    "regr_compare_mri = regr_compare.reset_index()\n",
    "#regr_compare_mri"
   ]
  },
  {
   "cell_type": "code",
   "execution_count": null,
   "id": "7a92fe5a-abba-4a13-a828-545ed467e8fd",
   "metadata": {},
   "outputs": [],
   "source": [
    "y_mri_pred = svr_p2.predict(X_mri_test)"
   ]
  },
  {
   "cell_type": "code",
   "execution_count": null,
   "id": "bf006ee3-8542-4379-aaf9-991bec644378",
   "metadata": {},
   "outputs": [],
   "source": [
    "print('R2 score SVR poly2 regression: %.3f' % svr_p2.score(X_mri_test,y_mri_test))\n",
    "print('Explained variance score: %.3f'  % metrics.explained_variance_score(y_mri_test, y_mri_pred))\n",
    "print('The mean absolute error: %.3f' % mean_absolute_error(y_mri_test, y_mri_pred))"
   ]
  },
  {
   "cell_type": "code",
   "execution_count": null,
   "id": "1808788c-d8e4-4f54-ba66-55e4c2416c78",
   "metadata": {},
   "outputs": [],
   "source": []
  },
  {
   "cell_type": "code",
   "execution_count": null,
   "id": "b6ce96ad-fc2c-42d9-a1e3-c15158f30d01",
   "metadata": {
    "tags": []
   },
   "outputs": [],
   "source": [
    "data= [[\n",
    "    'svr poly degree 2',\n",
    "    'unharm_mixed_svrp2.sav',\n",
    "    mean_absolute_error(y_mri_test, y_mri_pred),\n",
    "    svr_p2.score(X_mri_test,y_mri_test),\n",
    "    metrics.explained_variance_score(y_mri_test, y_mri_pred)]]\n",
    "svrp2_results_mri = pd.DataFrame(data, columns=['algorithm','file_name','mae', 'r2', 'explained_variance'])\n",
    "svrp2_results_mri"
   ]
  },
  {
   "cell_type": "code",
   "execution_count": null,
   "id": "cba1da31-2def-4524-80e1-aacd03ace209",
   "metadata": {
    "tags": []
   },
   "outputs": [],
   "source": [
    "svrp2_y_test = y_mri_test\n",
    "svrp2_y_pred = y_mri_pred\n",
    "svrp2_compare = pd.DataFrame(\n",
    "    {'y_test_real_age': svrp2_y_test,\n",
    "     'svrp2_y_pred_age': svrp2_y_pred,\n",
    "    })\n",
    "svrp2_compare_mri = svrp2_compare.reset_index()\n",
    "#svrp2_compare_mri"
   ]
  },
  {
   "cell_type": "code",
   "execution_count": null,
   "id": "61a69ba1-fea5-46e2-bf29-860a0a406f40",
   "metadata": {
    "tags": []
   },
   "outputs": [],
   "source": [
    "y_mri_pred = etreg.predict(X_mri_test)"
   ]
  },
  {
   "cell_type": "code",
   "execution_count": null,
   "id": "1ce238f7-ddc0-4a51-90c7-77bfa9e15f42",
   "metadata": {
    "tags": []
   },
   "outputs": [],
   "source": [
    "print('R2 score Extra tree regression: %.3f' % etreg.score(X_mri_test,y_mri_test))\n",
    "print('Explained variance score: %.3f'  % metrics.explained_variance_score(y_mri_test, y_mri_pred))\n",
    "print('The mean absolute error: %.3f' % mean_absolute_error(y_mri_test, y_mri_pred))"
   ]
  },
  {
   "cell_type": "code",
   "execution_count": null,
   "id": "8a41e1ff-d19b-4505-bed2-cc95d2e0452e",
   "metadata": {
    "tags": []
   },
   "outputs": [],
   "source": [
    "data= [[\n",
    "    'extra trees',\n",
    "    'unharm_mixed_etreg.sav',\n",
    "    mean_absolute_error(y_mri_test, y_mri_pred),\n",
    "    etreg.score(X_mri_test,y_mri_test),\n",
    "    metrics.explained_variance_score(y_mri_test, y_mri_pred)]]\n",
    "etreg_results_mri = pd.DataFrame(data, columns=['algorithm','file_name','mae', 'r2', 'explained_variance'])\n",
    "etreg_results_mri"
   ]
  },
  {
   "cell_type": "code",
   "execution_count": null,
   "id": "76ca966d-e8ea-4a3c-9017-39e4052b9e92",
   "metadata": {
    "tags": []
   },
   "outputs": [],
   "source": [
    "etreg_y_test = y_mri_test\n",
    "etreg_y_pred = y_mri_pred\n",
    "etreg_compare = pd.DataFrame(\n",
    "    {'y_test_real_age': etreg_y_test,\n",
    "     'etreg_y_pred_age': etreg_y_pred,\n",
    "    })\n",
    "etreg_compare_mri = etreg_compare.reset_index()\n",
    "#etreg_compare_mri"
   ]
  },
  {
   "cell_type": "code",
   "execution_count": null,
   "id": "c48c7cfc-b978-4a05-8710-104bed11d89d",
   "metadata": {},
   "outputs": [],
   "source": []
  },
  {
   "cell_type": "code",
   "execution_count": null,
   "id": "408c6ebd-22aa-4873-a2c9-9b786cbacf5b",
   "metadata": {
    "tags": []
   },
   "outputs": [],
   "source": [
    "y_mri_pred = eregr.predict(X_mri_test)"
   ]
  },
  {
   "cell_type": "code",
   "execution_count": null,
   "id": "456357a9-c0c9-4564-a6ea-b4a847e7b823",
   "metadata": {
    "tags": []
   },
   "outputs": [],
   "source": [
    "print('R2 score elasticnetCV: %.3f' % eregr.score(X_mri_test,y_mri_test))\n",
    "print('Explained variance score: %.3f'  % metrics.explained_variance_score(y_mri_test, y_mri_pred))\n",
    "print('The mean absolute error: %.3f' % mean_absolute_error(y_mri_test, y_mri_pred))"
   ]
  },
  {
   "cell_type": "code",
   "execution_count": null,
   "id": "a118c3ee-32e7-4d90-a5c8-34cef5226e66",
   "metadata": {
    "tags": []
   },
   "outputs": [],
   "source": [
    "data= [[\n",
    "    'elasticnet CV',\n",
    "    'unharm_mixed_eregr.sav',\n",
    "    mean_absolute_error(y_mri_test, y_mri_pred),\n",
    "    eregr.score(X_mri_test,y_mri_test),\n",
    "    metrics.explained_variance_score(y_mri_test, y_mri_pred)]]\n",
    "eregr_results_mri = pd.DataFrame(data, columns=['algorithm','file_name','mae', 'r2', 'explained_variance'])\n",
    "eregr_results_mri"
   ]
  },
  {
   "cell_type": "code",
   "execution_count": null,
   "id": "bcae73f7-4d87-4bc0-ae3f-02cff9b7940e",
   "metadata": {
    "tags": []
   },
   "outputs": [],
   "source": [
    "eregr_y_test = y_mri_test\n",
    "eregr_y_pred = y_mri_pred\n",
    "eregr_compare = pd.DataFrame(\n",
    "    {'y_test_real_age': eregr_y_test,\n",
    "     'etreg_y_pred_age': eregr_y_pred,\n",
    "    })\n",
    "eregr_compare_mri = eregr_compare.reset_index()\n",
    "#etreg_compare_mri"
   ]
  },
  {
   "cell_type": "code",
   "execution_count": null,
   "id": "79a1916a-e9af-4467-9675-92d7df2354c4",
   "metadata": {},
   "outputs": [],
   "source": [
    "# Agregate mixed results on MRI and optional save"
   ]
  },
  {
   "cell_type": "code",
   "execution_count": null,
   "id": "bc2ff726-4a3a-46e3-a516-c0c9f77c33d3",
   "metadata": {},
   "outputs": [],
   "source": []
  },
  {
   "cell_type": "code",
   "execution_count": null,
   "id": "2e20999d-60a3-4b2b-8546-7607ab828cca",
   "metadata": {
    "tags": []
   },
   "outputs": [],
   "source": [
    "mixed_based_unharmonized_on_mri =pd.concat([linr_results_mri,\n",
    "                   llreg_results_mri,\n",
    "                   dtree_results_mri,\n",
    "                   regr_results_mri,\n",
    "                   svrp2_results_mri,\n",
    "                   eregr_results_mri,\n",
    "                   etreg_results_mri],\n",
    "                   axis=0)\n",
    "mixed_based_unharmonized_on_mri"
   ]
  },
  {
   "cell_type": "code",
   "execution_count": null,
   "id": "aada36b2-abe9-49ff-9f56-ca19ede2a4bd",
   "metadata": {},
   "outputs": [],
   "source": []
  },
  {
   "cell_type": "code",
   "execution_count": null,
   "id": "34c24815-6d51-4440-b153-260974df15b6",
   "metadata": {
    "tags": []
   },
   "outputs": [],
   "source": [
    "data_frames1 = [linr_compare_mri, llreg_compare_mri, dtree_compare_mri,]# regr_compare, ]#etreg_compare, svrp2_compare,]\n",
    "real_versus_projected_y1 = reduce(lambda  left,right: pd.merge(left,right,on=[\"index\"],\n",
    "                                            how='outer'), data_frames1)\n",
    "#real_versus_projected_y1\n",
    "data_frames2 = [eregr_compare_mri, svrp2_compare_mri, etreg_compare_mri,]\n",
    "real_versus_projected_y2 = reduce(lambda  left,right: pd.merge(left,right,on=[\"index\"],\n",
    "                                            how='outer'), data_frames2)\n",
    "#real_versus_projected_y2\n",
    "real_versus_projected_y2 = sep.drop_y(real_versus_projected_y2 )\n",
    "real_versus_projected_y1 = sep.drop_y(real_versus_projected_y1 )\n",
    "#real_versus_projected_y1"
   ]
  },
  {
   "cell_type": "code",
   "execution_count": null,
   "id": "6f750f8f-2333-4cd1-a1f1-c9c91dfaf11b",
   "metadata": {
    "tags": []
   },
   "outputs": [],
   "source": [
    "data_frames3 = [real_versus_projected_y1, real_versus_projected_y2,]\n",
    "real_versus_projected_y3_mixed_on_mri = reduce(lambda  left,right: pd.merge(left,right,on=[\"index\"],\n",
    "                                            how='outer'), data_frames3)\n",
    "real_versus_projected_y3_mixed_on_mri.head(3)"
   ]
  },
  {
   "cell_type": "code",
   "execution_count": null,
   "id": "695ade4b-e9ac-44a4-8c85-88d6e38727a6",
   "metadata": {},
   "outputs": [],
   "source": [
    "# # optionally save of csvs of algorithms and results\n",
    "# mixed_based_unharmonized_on_mri.to_csv('mixed_based_unharmonized_on_mri.csv')\n",
    "# real_versus_projected_y3_mixed_on_mri.to_csv('real_versus_projected_y3_mixed_on_mri.csv')"
   ]
  },
  {
   "cell_type": "markdown",
   "id": "335561d1-d08d-42c8-a609-88d24e5d5b8e",
   "metadata": {},
   "source": [
    "# Running mixed model over SABRE dataset"
   ]
  },
  {
   "cell_type": "markdown",
   "id": "2478ae6b-0db2-44e3-aab2-d011b998d249",
   "metadata": {},
   "source": [
    "## Here we will do an example of running allthe [0] models"
   ]
  },
  {
   "cell_type": "code",
   "execution_count": null,
   "id": "c1e76019-394d-481e-b5b5-d50453ffce8a",
   "metadata": {},
   "outputs": [],
   "source": []
  },
  {
   "cell_type": "code",
   "execution_count": null,
   "id": "4541d92f-cf01-4f5a-97cb-6ba4b4c4b0f9",
   "metadata": {
    "tags": []
   },
   "outputs": [],
   "source": [
    "sabre_ml_matrix = SABRE.drop('participant_id', axis=1)\n",
    "X_sabre = sabre_ml_matrix.drop('age', axis =1)\n",
    "X_sabre = X_sabre.values\n",
    "X_sabre = X_sabre.astype('float')\n",
    "y_sabre = sabre_ml_matrix['age'].values\n",
    "y_sabre=y_sabre.astype('float')"
   ]
  },
  {
   "cell_type": "code",
   "execution_count": null,
   "id": "35936c03-d11e-456f-9883-3ab5c7da1fd9",
   "metadata": {
    "tags": []
   },
   "outputs": [],
   "source": [
    "X_sabre_test = X_sabre\n",
    "y_sabre_test = y_sabre"
   ]
  },
  {
   "cell_type": "code",
   "execution_count": null,
   "id": "f1358a3f-ca42-434b-8f43-bb6ac2a12daf",
   "metadata": {
    "tags": []
   },
   "outputs": [],
   "source": [
    "y_sabre_pred = linr[0].predict(X_sabre_test)"
   ]
  },
  {
   "cell_type": "code",
   "execution_count": null,
   "id": "6e5993c5-1d7e-4850-88c9-aad5b7e0c24e",
   "metadata": {
    "tags": []
   },
   "outputs": [],
   "source": [
    "data= [[\n",
    "    'Linear Reg',\n",
    "    'unharm_mix_linr0.sav',\n",
    "    mean_absolute_error(y_sabre_test, y_sabre_pred),\n",
    "    linr[0].score(X_sabre_test,y_sabre_test),\n",
    "    metrics.explained_variance_score(y_sabre_test, y_sabre_pred)]]\n",
    "linr_results_sabre = pd.DataFrame(data, columns=['algorithm','file_name','mae', 'r2', 'explained_variance'])\n",
    "linr_results_sabre"
   ]
  },
  {
   "cell_type": "code",
   "execution_count": null,
   "id": "cb2b4ade-6a6b-4d5a-afdb-a983d8123576",
   "metadata": {
    "tags": []
   },
   "outputs": [],
   "source": [
    "data = {'real': y_sabre_test, 'predicted': y_sabre_pred}\n",
    "y_frame_linr_sabre = pd.DataFrame(data)\n",
    "y_frame_linr_sabre"
   ]
  },
  {
   "cell_type": "code",
   "execution_count": null,
   "id": "2c88fdc5-bf6b-4269-af94-b7ef2aceab7f",
   "metadata": {
    "tags": []
   },
   "outputs": [],
   "source": [
    "y_sabre_pred = llreg[0].predict(X_sabre_test)"
   ]
  },
  {
   "cell_type": "code",
   "execution_count": null,
   "id": "3d6d882e-a2b1-4aea-b121-f256425fd927",
   "metadata": {
    "tags": []
   },
   "outputs": [],
   "source": [
    "data= [[\n",
    "    'Lasso',\n",
    "    'unharm_mix_lassor0.sav',\n",
    "    mean_absolute_error(y_sabre_test, y_sabre_pred),\n",
    "    llreg[0].score(X_sabre_test,y_sabre_test),\n",
    "    metrics.explained_variance_score(y_sabre_test, y_sabre_pred)]]\n",
    "llreg_results_sabre = pd.DataFrame(data, columns=['algorithm','file_name','mae', 'r2', 'explained_variance'])\n",
    "llreg_results_sabre"
   ]
  },
  {
   "cell_type": "code",
   "execution_count": null,
   "id": "a5b5e69a-7299-4e27-ac4a-fab61b8a3f82",
   "metadata": {
    "tags": []
   },
   "outputs": [],
   "source": [
    "data = {'real': y_sabre_test, 'predicted': y_sabre_pred}\n",
    "y_frame_llreg_sabre = pd.DataFrame(data)\n",
    "y_frame_llreg_sabre"
   ]
  },
  {
   "cell_type": "code",
   "execution_count": null,
   "id": "bdd89ef4-fedc-42fb-9190-01eb69d6db4c",
   "metadata": {
    "tags": []
   },
   "outputs": [],
   "source": [
    "y_sabre_pred = dtree[0].predict(X_sabre_test)"
   ]
  },
  {
   "cell_type": "code",
   "execution_count": null,
   "id": "4d1784b4-49b9-4ef8-90cb-5504bf3c64e3",
   "metadata": {
    "tags": []
   },
   "outputs": [],
   "source": [
    "data= [[\n",
    "    'Decision tree',\n",
    "    'unharm_mix_dtree0.sav',\n",
    "    mean_absolute_error(y_sabre_test, y_sabre_pred),\n",
    "    dtree[0].score(X_sabre_test,y_sabre_test),\n",
    "    metrics.explained_variance_score(y_sabre_test, y_sabre_pred)]]\n",
    "dtree_results_sabre = pd.DataFrame(data, columns=['algorithm','file_name','mae', 'r2', 'explained_variance'])\n",
    "dtree_results_sabre"
   ]
  },
  {
   "cell_type": "code",
   "execution_count": null,
   "id": "4d45c4b5-2180-453a-972c-b969519de0d0",
   "metadata": {
    "tags": []
   },
   "outputs": [],
   "source": [
    "data = {'real': y_sabre_test, 'predicted': y_sabre_pred}\n",
    "y_frame_dtree_sabre = pd.DataFrame(data)\n",
    "y_frame_dtree_sabre"
   ]
  },
  {
   "cell_type": "code",
   "execution_count": null,
   "id": "380d9650-6f8a-4c23-b6b3-233a5ea23631",
   "metadata": {
    "tags": []
   },
   "outputs": [],
   "source": [
    "y_sabre_pred = regr[0].predict(X_sabre_test)"
   ]
  },
  {
   "cell_type": "code",
   "execution_count": null,
   "id": "8776d543-6bfc-4880-9673-8df3a9ed689b",
   "metadata": {
    "tags": []
   },
   "outputs": [],
   "source": [
    "data= [[\n",
    "    'MLP regression',\n",
    "    'unharm_mix_regr0.sav',\n",
    "    mean_absolute_error(y_sabre_test, y_sabre_pred),\n",
    "    regr[0].score(X_sabre_test,y_sabre_test),\n",
    "    metrics.explained_variance_score(y_sabre_test, y_sabre_pred)]]\n",
    "regr_results_sabre = pd.DataFrame(data, columns=['algorithm','file_name','mae', 'r2', 'explained_variance'])\n",
    "regr_results_sabre"
   ]
  },
  {
   "cell_type": "code",
   "execution_count": null,
   "id": "0067976c-19d2-4efa-ac2c-04cb2351e200",
   "metadata": {
    "tags": []
   },
   "outputs": [],
   "source": [
    "y_sabre_pred = svrp2[0].predict(X_sabre_test)"
   ]
  },
  {
   "cell_type": "code",
   "execution_count": null,
   "id": "9fa00ccb-a7bf-4934-83f7-9709dfbcbd5c",
   "metadata": {
    "tags": []
   },
   "outputs": [],
   "source": [
    "data= [[\n",
    "    'Svr P2',\n",
    "    'unharm_mri_svrp20.sav',\n",
    "    mean_absolute_error(y_sabre_test, y_sabre_pred),\n",
    "    svrp2[0].score(X_sabre_test,y_sabre_test),\n",
    "    metrics.explained_variance_score(y_sabre_test, y_sabre_pred)]]\n",
    "svr_p2_results_sabre = pd.DataFrame(data, columns=['algorithm','file_name','mae', 'r2', 'explained_variance'])\n",
    "svr_p2_results_sabre"
   ]
  },
  {
   "cell_type": "code",
   "execution_count": null,
   "id": "1f291391-1fc2-483a-a20d-28aee059c53b",
   "metadata": {
    "tags": []
   },
   "outputs": [],
   "source": [
    "y_sabre_pred = eregr[0].predict(X_sabre_test)"
   ]
  },
  {
   "cell_type": "code",
   "execution_count": null,
   "id": "cf4d5280-3950-4476-9f94-d61994808ec9",
   "metadata": {},
   "outputs": [],
   "source": []
  },
  {
   "cell_type": "code",
   "execution_count": null,
   "id": "0aa78f2a-5de4-43c4-b326-f59d7ec9b2ef",
   "metadata": {
    "tags": []
   },
   "outputs": [],
   "source": [
    "data= [[\n",
    "    'ElasticnetCV',\n",
    "    'unharm_mri_elasticregr.sav',\n",
    "    mean_absolute_error(y_sabre_test, y_sabre_pred),\n",
    "    eregr[0].score(X_sabre_test,y_sabre_test),\n",
    "    metrics.explained_variance_score(y_sabre_test, y_sabre_pred)]]\n",
    "eregr_results_sabre = pd.DataFrame(data, columns=['algorithm','file_name','mae', 'r2', 'explained_variance'])\n",
    "eregr_results_sabre"
   ]
  },
  {
   "cell_type": "code",
   "execution_count": null,
   "id": "83b9e294-b91f-4965-a9ec-71a9f2098de1",
   "metadata": {
    "tags": []
   },
   "outputs": [],
   "source": [
    "y_sabre_pred = etreg[0].predict(X_sabre_test)"
   ]
  },
  {
   "cell_type": "code",
   "execution_count": null,
   "id": "a461bfd1-bbfe-46ba-905c-e9279da37432",
   "metadata": {
    "tags": []
   },
   "outputs": [],
   "source": [
    "data= [[\n",
    "    'Extra trees',\n",
    "    'unharm_mri_etreg.sav',\n",
    "    mean_absolute_error(y_sabre_test, y_sabre_pred),\n",
    "    etreg[0].score(X_sabre_test,y_sabre_test),\n",
    "    metrics.explained_variance_score(y_sabre_test, y_sabre_pred)]]\n",
    "etreg_results_sabre = pd.DataFrame(data, columns=['algorithm','file_name','mae', 'r2', 'explained_variance'])\n",
    "etreg_results_sabre"
   ]
  },
  {
   "cell_type": "code",
   "execution_count": null,
   "id": "ac524ce4-6808-496b-b9b9-481b6479e886",
   "metadata": {},
   "outputs": [],
   "source": [
    "data = {'real': y_sabre_test, 'predicted': y_sabre_pred}\n",
    "y_frame_etregr_sabre = pd.DataFrame(data)\n",
    "y_frame_etregr_sabre"
   ]
  },
  {
   "cell_type": "code",
   "execution_count": null,
   "id": "372532aa-b0af-4c75-bb71-b22fce54cc10",
   "metadata": {
    "tags": []
   },
   "outputs": [],
   "source": [
    "mix_based_unharmonized_on_sabre =pd.concat([linr_results_sabre,\n",
    "                   llreg_results_sabre,\n",
    "                   dtree_results_sabre,\n",
    "                   regr_results_sabre,\n",
    "                   svr_p2_results_sabre,\n",
    "                   eregr_results_sabre,\n",
    "                  etreg_results_sabre],\n",
    "                  axis=0)\n",
    "mix_based_unharmonized_on_sabre"
   ]
  },
  {
   "cell_type": "code",
   "execution_count": null,
   "id": "cddc58e4-76cb-420c-8ba8-a07552a7096d",
   "metadata": {},
   "outputs": [],
   "source": []
  },
  {
   "cell_type": "markdown",
   "id": "643a2b97-1246-4efb-9291-498b8adf606d",
   "metadata": {},
   "source": [
    "# Running mixed model over Insight46 dataset"
   ]
  },
  {
   "cell_type": "markdown",
   "id": "c24060d3-81f2-4bfb-aee6-ef9042bef95c",
   "metadata": {},
   "source": [
    "## Here we will do an example of running allthe [0] models"
   ]
  },
  {
   "cell_type": "code",
   "execution_count": null,
   "id": "5f2bae9e-f6c1-4c54-b01f-bb4eb228c121",
   "metadata": {
    "tags": []
   },
   "outputs": [],
   "source": [
    "insight_ml_matrix = Insight46.drop('participant_id', axis=1)\n",
    "X_insight = insight_ml_matrix.drop('age', axis =1)\n",
    "X_insight = X_insight.values\n",
    "X_insight = X_insight.astype('float')\n",
    "y_insight = insight_ml_matrix['age'].values\n",
    "y_insight= y_insight.astype('float')"
   ]
  },
  {
   "cell_type": "code",
   "execution_count": null,
   "id": "4c42319d-fe4d-4786-9ec9-54b0809a40dd",
   "metadata": {
    "tags": []
   },
   "outputs": [],
   "source": [
    "X_insight_test = X_insight\n",
    "y_insight_test = y_insight"
   ]
  },
  {
   "cell_type": "code",
   "execution_count": null,
   "id": "42bd7c73-cf15-4e24-98d2-dc84cbdfd341",
   "metadata": {
    "tags": []
   },
   "outputs": [],
   "source": [
    "y_insight_pred = linr[0].predict(X_insight_test)"
   ]
  },
  {
   "cell_type": "code",
   "execution_count": null,
   "id": "82ad38c7-49c7-455d-b2b0-ac4c1fa0a49a",
   "metadata": {
    "tags": []
   },
   "outputs": [],
   "source": [
    "data= [[\n",
    "    'Linear Reg',\n",
    "    'unharm_mix_linr0.sav',\n",
    "    mean_absolute_error(y_insight_test, y_insight_pred),\n",
    "    linr[0].score(X_insight_test,y_insight_test),\n",
    "    metrics.explained_variance_score(y_insight_test, y_insight_pred)]]\n",
    "linr_results_insight = pd.DataFrame(data, columns=['algorithm','file_name','mae', 'r2', 'explained_variance'])\n",
    "linr_results_insight"
   ]
  },
  {
   "cell_type": "code",
   "execution_count": null,
   "id": "ad393371-6d37-4ab8-88ea-52c87b2f16f1",
   "metadata": {
    "tags": []
   },
   "outputs": [],
   "source": [
    "data = {'real': y_insight_test, 'predicted': y_insight_pred}\n",
    "y_frame_linr_insight = pd.DataFrame(data)\n",
    "y_frame_linr_insight"
   ]
  },
  {
   "cell_type": "code",
   "execution_count": null,
   "id": "6f82d394-fd25-47e2-a272-699c60dbed50",
   "metadata": {},
   "outputs": [],
   "source": []
  },
  {
   "cell_type": "code",
   "execution_count": null,
   "id": "d8e8db53-ee07-45dc-9b10-56744505445f",
   "metadata": {
    "tags": []
   },
   "outputs": [],
   "source": [
    "y_insight_pred = llreg[0].predict(X_insight_test)"
   ]
  },
  {
   "cell_type": "code",
   "execution_count": null,
   "id": "8afdfb64-e596-418c-b160-e32d55ba5bc7",
   "metadata": {
    "tags": []
   },
   "outputs": [],
   "source": [
    "data= [[\n",
    "    'Lasso',\n",
    "    'unharm_mix_lassor0.sav',\n",
    "    mean_absolute_error(y_insight_test, y_insight_pred),\n",
    "    llreg[0].score(X_insight_test,y_insight_test),\n",
    "    metrics.explained_variance_score(y_insight_test, y_insight_pred)]]\n",
    "llreg_results_insight = pd.DataFrame(data, columns=['algorithm','file_name','mae', 'r2', 'explained_variance'])\n",
    "llreg_results_insight"
   ]
  },
  {
   "cell_type": "code",
   "execution_count": null,
   "id": "2939ac22-531b-4850-bfc5-63d480aec109",
   "metadata": {
    "tags": []
   },
   "outputs": [],
   "source": [
    "data = {'real': y_insight_test, 'predicted': y_insight_pred}\n",
    "y_frame_llreg_insight = pd.DataFrame(data)\n",
    "y_frame_llreg_insight"
   ]
  },
  {
   "cell_type": "code",
   "execution_count": null,
   "id": "18c5ad2c-a7c4-46c8-a926-8fdc9c1171ad",
   "metadata": {
    "tags": []
   },
   "outputs": [],
   "source": [
    "y_insight_pred = dtree[0].predict(X_insight_test)"
   ]
  },
  {
   "cell_type": "code",
   "execution_count": null,
   "id": "244f0eb2-7a65-47e4-b5a5-a2f517504da2",
   "metadata": {
    "tags": []
   },
   "outputs": [],
   "source": [
    "data= [[\n",
    "    'Decision tree',\n",
    "    'unharm_mix_dtree0.sav',\n",
    "    mean_absolute_error(y_insight_test, y_insight_pred),\n",
    "    dtree[0].score(X_insight_test,y_insight_test),\n",
    "    metrics.explained_variance_score(y_insight_test, y_insight_pred)]]\n",
    "dtree_results_insight = pd.DataFrame(data, columns=['algorithm','file_name','mae', 'r2', 'explained_variance'])\n",
    "dtree_results_insight"
   ]
  },
  {
   "cell_type": "code",
   "execution_count": null,
   "id": "a4ef2e42-91ae-41f4-af59-626cf3438079",
   "metadata": {
    "tags": []
   },
   "outputs": [],
   "source": [
    "data = {'real': y_insight_test, 'predicted': y_insight_pred}\n",
    "y_frame_dtree_insight = pd.DataFrame(data)\n",
    "y_frame_dtree_insight"
   ]
  },
  {
   "cell_type": "code",
   "execution_count": null,
   "id": "5c16b346-bfb3-42d3-af0d-e3b660a29ea7",
   "metadata": {
    "tags": []
   },
   "outputs": [],
   "source": [
    "y_insight_pred = regr[0].predict(X_insight_test)"
   ]
  },
  {
   "cell_type": "code",
   "execution_count": null,
   "id": "7a9b8d65-154d-479d-bd14-7862fbf3f97b",
   "metadata": {
    "tags": []
   },
   "outputs": [],
   "source": [
    "data= [[\n",
    "    'MLP regression',\n",
    "    'unharm_mix_regr0.sav',\n",
    "    mean_absolute_error(y_insight_test, y_insight_pred),\n",
    "    regr[0].score(X_insight_test,y_insight_test),\n",
    "    metrics.explained_variance_score(y_insight_test, y_insight_pred)]]\n",
    "regr_results_insight = pd.DataFrame(data, columns=['algorithm','file_name','mae', 'r2', 'explained_variance'])\n",
    "regr_results_insight"
   ]
  },
  {
   "cell_type": "code",
   "execution_count": null,
   "id": "e8e8c707-9674-4c8a-8d13-5e53cc2a59c1",
   "metadata": {
    "tags": []
   },
   "outputs": [],
   "source": [
    "y_insight_pred = svrp2[0].predict(X_insight_test)"
   ]
  },
  {
   "cell_type": "code",
   "execution_count": null,
   "id": "ab6396d1-4727-4bf4-8d64-2f22836fb7a4",
   "metadata": {
    "tags": []
   },
   "outputs": [],
   "source": [
    "data= [[\n",
    "    'Svr P2',\n",
    "    'unharm_mri_svrp20.sav',\n",
    "    mean_absolute_error(y_insight_test, y_insight_pred),\n",
    "    svrp2[0].score(X_insight_test,y_insight_test),\n",
    "    metrics.explained_variance_score(y_insight_test, y_insight_pred)]]\n",
    "svr_p2_results_insight = pd.DataFrame(data, columns=['algorithm','file_name','mae', 'r2', 'explained_variance'])\n",
    "svr_p2_results_insight"
   ]
  },
  {
   "cell_type": "code",
   "execution_count": null,
   "id": "5a04ac26-0818-4cd5-bb7b-55de1dcaa24f",
   "metadata": {},
   "outputs": [],
   "source": []
  },
  {
   "cell_type": "code",
   "execution_count": null,
   "id": "8b6c730c-edb7-41a7-9c25-cb9fde019ac1",
   "metadata": {
    "tags": []
   },
   "outputs": [],
   "source": [
    "y_insight_pred = eregr[0].predict(X_insight_test)"
   ]
  },
  {
   "cell_type": "code",
   "execution_count": null,
   "id": "701a933c-df3d-4516-88ce-7a8bdb5fb4c2",
   "metadata": {},
   "outputs": [],
   "source": []
  },
  {
   "cell_type": "code",
   "execution_count": null,
   "id": "a5e4906c-6e64-4cb7-a9e2-53c02ad1c838",
   "metadata": {
    "tags": []
   },
   "outputs": [],
   "source": [
    "data= [[\n",
    "    'ElasticnetCV',\n",
    "    'unharm_mri_elasticregr.sav',\n",
    "    mean_absolute_error(y_insight_test, y_insight_pred),\n",
    "    eregr[0].score(X_insight_test,y_insight_test),\n",
    "    metrics.explained_variance_score(y_insight_test, y_insight_pred)]]\n",
    "eregr_results_insight = pd.DataFrame(data, columns=['algorithm','file_name','mae', 'r2', 'explained_variance'])\n",
    "eregr_results_insight"
   ]
  },
  {
   "cell_type": "code",
   "execution_count": null,
   "id": "b5359618-4501-4bb8-9550-673eb3cd45df",
   "metadata": {
    "tags": []
   },
   "outputs": [],
   "source": [
    "y_insight_pred = etreg[0].predict(X_insight_test)"
   ]
  },
  {
   "cell_type": "code",
   "execution_count": null,
   "id": "942eea1e-720b-4de9-95cc-b5ede54cb44f",
   "metadata": {
    "tags": []
   },
   "outputs": [],
   "source": [
    "data= [[\n",
    "    'Extra trees',\n",
    "    'unharm_mri_etreg.sav',\n",
    "    mean_absolute_error(y_insight_test, y_insight_pred),\n",
    "    etreg[0].score(X_insight_test,y_insight_test),\n",
    "    metrics.explained_variance_score(y_insight_test, y_insight_pred)]]\n",
    "etreg_results_insight = pd.DataFrame(data, columns=['algorithm','file_name','mae', 'r2', 'explained_variance'])\n",
    "etreg_results_insight"
   ]
  },
  {
   "cell_type": "code",
   "execution_count": null,
   "id": "67c47485-9cf5-4193-85de-3548ef214648",
   "metadata": {},
   "outputs": [],
   "source": [
    "data = {'real': y_insight_test, 'predicted': y_insight_pred}\n",
    "y_frame_etregr_insight = pd.DataFrame(data)\n",
    "y_frame_etregr_insight"
   ]
  },
  {
   "cell_type": "code",
   "execution_count": null,
   "id": "94f68e7c-6f54-47bc-8679-9c4b19629ae0",
   "metadata": {
    "tags": []
   },
   "outputs": [],
   "source": [
    "mix_based_unharmonized_on_insight =pd.concat([linr_results_insight,\n",
    "                   llreg_results_insight,\n",
    "                   dtree_results_insight,\n",
    "                   regr_results_insight,\n",
    "                   svr_p2_results_insight,\n",
    "                   eregr_results_insight,\n",
    "                   etreg_results_insight],\n",
    "                  axis=0)\n",
    "mix_based_unharmonized_on_insight"
   ]
  },
  {
   "cell_type": "code",
   "execution_count": null,
   "id": "066b9518-4dc5-40b9-9391-2c0b3cc8b14e",
   "metadata": {},
   "outputs": [],
   "source": []
  }
 ],
 "metadata": {
  "kernelspec": {
   "display_name": "Python 3 (ipykernel)",
   "language": "python",
   "name": "python3"
  },
  "language_info": {
   "codemirror_mode": {
    "name": "ipython",
    "version": 3
   },
   "file_extension": ".py",
   "mimetype": "text/x-python",
   "name": "python",
   "nbconvert_exporter": "python",
   "pygments_lexer": "ipython3",
   "version": "3.9.18"
  }
 },
 "nbformat": 4,
 "nbformat_minor": 5
}
