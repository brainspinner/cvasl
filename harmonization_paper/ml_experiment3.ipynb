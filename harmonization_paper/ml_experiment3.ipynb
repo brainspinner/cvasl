{
 "cells": [
  {
   "cell_type": "markdown",
   "id": "e8edc98e-5785-4d1c-baed-02bfc4721f60",
   "metadata": {},
   "source": [
    "# ML testing: experiment #3\n",
    "\n",
    "This notebook involves testing for the MRI conference abstract. This notebook shows mixed_dataset (TOP + StrokeMRI) based models"
   ]
  },
  {
   "cell_type": "markdown",
   "id": "be45db67-b24a-409e-bb35-ca468a779ec2",
   "metadata": {
    "tags": []
   },
   "source": [
    "### import libraries"
   ]
  },
  {
   "cell_type": "code",
   "execution_count": 1,
   "id": "514ef9ea-48df-4f68-b440-77ee12cddefe",
   "metadata": {
    "tags": []
   },
   "outputs": [],
   "source": [
    "import os       # using operating system dependent functionality (folders)\n",
    "import sys\n",
    "\n",
    "import glob\n",
    "from functools import reduce\n",
    "\n",
    "import pandas as pd # data analysis and manipulation\n",
    "import numpy as np    # numerical computing (manipulating and performing operations on arrays of data)\n",
    "import matplotlib.pyplot as plt\n",
    "\n",
    "# # demo stuff\n",
    "# import ipywidgets as widgets\n",
    "# import seaborn \n",
    "\n",
    "# ml stuff\n",
    "from sklearn.model_selection import train_test_split\n",
    "from sklearn.preprocessing import StandardScaler\n",
    "#from sklearn.svm import SVC\n",
    "from sklearn.metrics import accuracy_score\n",
    "#from sklearn.linear_model import LogisticRegression\n",
    "from sklearn.linear_model import LinearRegression\n",
    "from sklearn import linear_model\n",
    "from sklearn import tree\n",
    "from sklearn import metrics\n",
    "from sklearn.linear_model import SGDRegressor\n",
    "from sklearn.metrics import confusion_matrix\n",
    "from sklearn.metrics import mean_absolute_error\n",
    "from sklearn.neighbors import KNeighborsClassifier\n",
    "from sklearn.svm import SVR\n",
    "from sklearn.neural_network import MLPRegressor\n",
    "from sklearn.linear_model import ElasticNetCV\n",
    "from sklearn.ensemble import ExtraTreesRegressor\n",
    "\n",
    "import joblib\n",
    "\n",
    "sys.path.insert(0, '../') # path to functions\n",
    "import cvasl.seperated as sep\n",
    "from cvasl.file_handler import Config"
   ]
  },
  {
   "cell_type": "markdown",
   "id": "b0e7da24-0537-44b4-85fb-e69c68c5ec9a",
   "metadata": {
    "tags": []
   },
   "source": [
    "### import data"
   ]
  },
  {
   "cell_type": "code",
   "execution_count": 2,
   "id": "5c2a832f-0e28-4000-9f9e-65edb0e578bc",
   "metadata": {
    "tags": []
   },
   "outputs": [],
   "source": [
    "filepath_mri = '../open_work/internal_results/cleaned_pvc2s/' \n",
    "filename_mri = os.path.join(filepath_mri,'StrokeMRI_pvc2c.csv') \n",
    "\n",
    "filepath_top = '../open_work/internal_results/cleaned_pvc2s/' \n",
    "filename_top = os.path.join(filepath_top,'TOP_pvc2c.csv') \n",
    "\n",
    "filepath_sabre = '../open_work/internal_results/cleaned_pvc2s/' \n",
    "filename_sabre = os.path.join(filepath_top,'SABRE_pvc2_cleaned.csv') "
   ]
  },
  {
   "cell_type": "code",
   "execution_count": 3,
   "id": "05f9f972-9eab-4298-8dff-3238de42bb75",
   "metadata": {
    "tags": []
   },
   "outputs": [],
   "source": [
    "TOP = pd.read_csv(filename_top)\n",
    "StrokeMRI = pd.read_csv(filename_mri)\n",
    "SABRE = pd.read_csv(filename_sabre)"
   ]
  },
  {
   "cell_type": "code",
   "execution_count": 4,
   "id": "6c3d2216-9fad-4e4b-b872-b71cc60c0893",
   "metadata": {
    "tags": []
   },
   "outputs": [],
   "source": [
    "TOP = TOP.drop(TOP.columns[0],axis=1)\n",
    "SABRE = SABRE.drop(SABRE.columns[0],axis=1)\n",
    "#SABRE"
   ]
  },
  {
   "cell_type": "code",
   "execution_count": 5,
   "id": "22d98c29-02f3-442a-8f53-ef75d9a0da0e",
   "metadata": {
    "tags": []
   },
   "outputs": [],
   "source": [
    "StrokeMRI = StrokeMRI.drop(StrokeMRI.columns[0],axis=1)\n",
    "#StrokeMRI"
   ]
  },
  {
   "cell_type": "code",
   "execution_count": 6,
   "id": "61fa79d5-1fa5-401d-9ffd-1fb2762e03a2",
   "metadata": {
    "tags": []
   },
   "outputs": [
    {
     "data": {
      "text/html": [
       "<div>\n",
       "<style scoped>\n",
       "    .dataframe tbody tr th:only-of-type {\n",
       "        vertical-align: middle;\n",
       "    }\n",
       "\n",
       "    .dataframe tbody tr th {\n",
       "        vertical-align: top;\n",
       "    }\n",
       "\n",
       "    .dataframe thead th {\n",
       "        text-align: right;\n",
       "    }\n",
       "</style>\n",
       "<table border=\"1\" class=\"dataframe\">\n",
       "  <thead>\n",
       "    <tr style=\"text-align: right;\">\n",
       "      <th></th>\n",
       "      <th>participant_id</th>\n",
       "      <th>age</th>\n",
       "      <th>sex</th>\n",
       "      <th>gm_vol</th>\n",
       "      <th>wm_vol</th>\n",
       "      <th>csf_vol</th>\n",
       "      <th>gm_ivc_ratio</th>\n",
       "      <th>gmwm_ivc_ratio</th>\n",
       "      <th>wmh_vol</th>\n",
       "      <th>wmh_count</th>\n",
       "      <th>deepwm_b_cov</th>\n",
       "      <th>aca_b_cov</th>\n",
       "      <th>mca_b_cov</th>\n",
       "      <th>pca_b_cov</th>\n",
       "      <th>totalgm_b_cov</th>\n",
       "      <th>deepwm_b</th>\n",
       "      <th>aca_b</th>\n",
       "      <th>mca_b</th>\n",
       "      <th>pca_b</th>\n",
       "      <th>totalgm_b</th>\n",
       "    </tr>\n",
       "  </thead>\n",
       "  <tbody>\n",
       "    <tr>\n",
       "      <th>0</th>\n",
       "      <td>sub-0001_1_ses-1_run-1</td>\n",
       "      <td>43.49</td>\n",
       "      <td>1</td>\n",
       "      <td>0.71736</td>\n",
       "      <td>0.52803</td>\n",
       "      <td>0.31812</td>\n",
       "      <td>0.45881</td>\n",
       "      <td>0.45881</td>\n",
       "      <td>1.743</td>\n",
       "      <td>24.0</td>\n",
       "      <td>8.7620</td>\n",
       "      <td>2.2748</td>\n",
       "      <td>2.3205</td>\n",
       "      <td>2.6858</td>\n",
       "      <td>2.4316</td>\n",
       "      <td>22.1022</td>\n",
       "      <td>80.4744</td>\n",
       "      <td>68.3224</td>\n",
       "      <td>52.4614</td>\n",
       "      <td>60.6981</td>\n",
       "    </tr>\n",
       "    <tr>\n",
       "      <th>1</th>\n",
       "      <td>sub-0002_1_ses-1_run-1</td>\n",
       "      <td>38.30</td>\n",
       "      <td>0</td>\n",
       "      <td>0.72383</td>\n",
       "      <td>0.62394</td>\n",
       "      <td>0.25673</td>\n",
       "      <td>0.45112</td>\n",
       "      <td>0.45112</td>\n",
       "      <td>1.629</td>\n",
       "      <td>23.0</td>\n",
       "      <td>9.0749</td>\n",
       "      <td>1.7564</td>\n",
       "      <td>2.3989</td>\n",
       "      <td>1.5982</td>\n",
       "      <td>1.9738</td>\n",
       "      <td>23.5401</td>\n",
       "      <td>87.3972</td>\n",
       "      <td>78.0359</td>\n",
       "      <td>63.9932</td>\n",
       "      <td>71.6047</td>\n",
       "    </tr>\n",
       "    <tr>\n",
       "      <th>2</th>\n",
       "      <td>sub-0019_1_ses-1_run-1</td>\n",
       "      <td>32.30</td>\n",
       "      <td>1</td>\n",
       "      <td>0.71224</td>\n",
       "      <td>0.53295</td>\n",
       "      <td>0.33594</td>\n",
       "      <td>0.45046</td>\n",
       "      <td>0.45046</td>\n",
       "      <td>0.621</td>\n",
       "      <td>13.0</td>\n",
       "      <td>8.8791</td>\n",
       "      <td>1.9850</td>\n",
       "      <td>1.8702</td>\n",
       "      <td>2.1648</td>\n",
       "      <td>2.1723</td>\n",
       "      <td>27.5573</td>\n",
       "      <td>94.0855</td>\n",
       "      <td>86.3816</td>\n",
       "      <td>62.6012</td>\n",
       "      <td>74.0588</td>\n",
       "    </tr>\n",
       "  </tbody>\n",
       "</table>\n",
       "</div>"
      ],
      "text/plain": [
       "           participant_id    age  sex   gm_vol   wm_vol  csf_vol  \\\n",
       "0  sub-0001_1_ses-1_run-1  43.49    1  0.71736  0.52803  0.31812   \n",
       "1  sub-0002_1_ses-1_run-1  38.30    0  0.72383  0.62394  0.25673   \n",
       "2  sub-0019_1_ses-1_run-1  32.30    1  0.71224  0.53295  0.33594   \n",
       "\n",
       "   gm_ivc_ratio  gmwm_ivc_ratio  wmh_vol  wmh_count  deepwm_b_cov  aca_b_cov  \\\n",
       "0       0.45881         0.45881    1.743       24.0        8.7620     2.2748   \n",
       "1       0.45112         0.45112    1.629       23.0        9.0749     1.7564   \n",
       "2       0.45046         0.45046    0.621       13.0        8.8791     1.9850   \n",
       "\n",
       "   mca_b_cov  pca_b_cov  totalgm_b_cov  deepwm_b    aca_b    mca_b    pca_b  \\\n",
       "0     2.3205     2.6858         2.4316   22.1022  80.4744  68.3224  52.4614   \n",
       "1     2.3989     1.5982         1.9738   23.5401  87.3972  78.0359  63.9932   \n",
       "2     1.8702     2.1648         2.1723   27.5573  94.0855  86.3816  62.6012   \n",
       "\n",
       "   totalgm_b  \n",
       "0    60.6981  \n",
       "1    71.6047  \n",
       "2    74.0588  "
      ]
     },
     "execution_count": 6,
     "metadata": {},
     "output_type": "execute_result"
    }
   ],
   "source": [
    "# Now we need to flip the sex back to numbers for a correlation\n",
    "sex_mapping = {'F':0,'M':1}\n",
    "TOP = TOP.assign(sex = TOP.sex.map(sex_mapping))\n",
    "TOP.head(3)"
   ]
  },
  {
   "cell_type": "code",
   "execution_count": 7,
   "id": "6e755c84-ff13-43ba-933d-22d56b1ded12",
   "metadata": {
    "tags": []
   },
   "outputs": [
    {
     "data": {
      "text/html": [
       "<div>\n",
       "<style scoped>\n",
       "    .dataframe tbody tr th:only-of-type {\n",
       "        vertical-align: middle;\n",
       "    }\n",
       "\n",
       "    .dataframe tbody tr th {\n",
       "        vertical-align: top;\n",
       "    }\n",
       "\n",
       "    .dataframe thead th {\n",
       "        text-align: right;\n",
       "    }\n",
       "</style>\n",
       "<table border=\"1\" class=\"dataframe\">\n",
       "  <thead>\n",
       "    <tr style=\"text-align: right;\">\n",
       "      <th></th>\n",
       "      <th>participant_id</th>\n",
       "      <th>age</th>\n",
       "      <th>sex</th>\n",
       "      <th>gm_vol</th>\n",
       "      <th>wm_vol</th>\n",
       "      <th>csf_vol</th>\n",
       "      <th>gm_ivc_ratio</th>\n",
       "      <th>gmwm_ivc_ratio</th>\n",
       "      <th>wmh_vol</th>\n",
       "      <th>wmh_count</th>\n",
       "      <th>deepwm_b_cov</th>\n",
       "      <th>aca_b_cov</th>\n",
       "      <th>mca_b_cov</th>\n",
       "      <th>pca_b_cov</th>\n",
       "      <th>totalgm_b_cov</th>\n",
       "      <th>deepwm_b</th>\n",
       "      <th>aca_b</th>\n",
       "      <th>mca_b</th>\n",
       "      <th>pca_b</th>\n",
       "      <th>totalgm_b</th>\n",
       "    </tr>\n",
       "  </thead>\n",
       "  <tbody>\n",
       "    <tr>\n",
       "      <th>0</th>\n",
       "      <td>sub-59082_1_ses-1_run-1</td>\n",
       "      <td>43.172603</td>\n",
       "      <td>0</td>\n",
       "      <td>0.64754</td>\n",
       "      <td>0.49441</td>\n",
       "      <td>0.31320</td>\n",
       "      <td>0.44500</td>\n",
       "      <td>0.44500</td>\n",
       "      <td>1.249</td>\n",
       "      <td>24.0</td>\n",
       "      <td>8.0434</td>\n",
       "      <td>1.7273</td>\n",
       "      <td>1.9776</td>\n",
       "      <td>1.7141</td>\n",
       "      <td>1.9140</td>\n",
       "      <td>26.8262</td>\n",
       "      <td>104.3155</td>\n",
       "      <td>90.5047</td>\n",
       "      <td>73.8758</td>\n",
       "      <td>84.4527</td>\n",
       "    </tr>\n",
       "    <tr>\n",
       "      <th>1</th>\n",
       "      <td>sub-59083_1_ses-1_run-1</td>\n",
       "      <td>66.367123</td>\n",
       "      <td>0</td>\n",
       "      <td>0.60517</td>\n",
       "      <td>0.48594</td>\n",
       "      <td>0.42304</td>\n",
       "      <td>0.39968</td>\n",
       "      <td>0.39968</td>\n",
       "      <td>14.597</td>\n",
       "      <td>25.0</td>\n",
       "      <td>3.7791</td>\n",
       "      <td>1.9669</td>\n",
       "      <td>1.7154</td>\n",
       "      <td>2.6394</td>\n",
       "      <td>1.8815</td>\n",
       "      <td>24.9597</td>\n",
       "      <td>75.7051</td>\n",
       "      <td>65.3032</td>\n",
       "      <td>65.6771</td>\n",
       "      <td>67.1158</td>\n",
       "    </tr>\n",
       "    <tr>\n",
       "      <th>2</th>\n",
       "      <td>sub-59085_1_ses-1_run-1</td>\n",
       "      <td>55.838356</td>\n",
       "      <td>0</td>\n",
       "      <td>0.61724</td>\n",
       "      <td>0.53779</td>\n",
       "      <td>0.33692</td>\n",
       "      <td>0.41371</td>\n",
       "      <td>0.41371</td>\n",
       "      <td>6.341</td>\n",
       "      <td>30.0</td>\n",
       "      <td>5.1248</td>\n",
       "      <td>1.8146</td>\n",
       "      <td>1.9845</td>\n",
       "      <td>2.0827</td>\n",
       "      <td>1.9501</td>\n",
       "      <td>27.7117</td>\n",
       "      <td>81.0966</td>\n",
       "      <td>72.9980</td>\n",
       "      <td>60.8317</td>\n",
       "      <td>64.3183</td>\n",
       "    </tr>\n",
       "  </tbody>\n",
       "</table>\n",
       "</div>"
      ],
      "text/plain": [
       "            participant_id        age  sex   gm_vol   wm_vol  csf_vol  \\\n",
       "0  sub-59082_1_ses-1_run-1  43.172603    0  0.64754  0.49441  0.31320   \n",
       "1  sub-59083_1_ses-1_run-1  66.367123    0  0.60517  0.48594  0.42304   \n",
       "2  sub-59085_1_ses-1_run-1  55.838356    0  0.61724  0.53779  0.33692   \n",
       "\n",
       "   gm_ivc_ratio  gmwm_ivc_ratio  wmh_vol  wmh_count  deepwm_b_cov  aca_b_cov  \\\n",
       "0       0.44500         0.44500    1.249       24.0        8.0434     1.7273   \n",
       "1       0.39968         0.39968   14.597       25.0        3.7791     1.9669   \n",
       "2       0.41371         0.41371    6.341       30.0        5.1248     1.8146   \n",
       "\n",
       "   mca_b_cov  pca_b_cov  totalgm_b_cov  deepwm_b     aca_b    mca_b    pca_b  \\\n",
       "0     1.9776     1.7141         1.9140   26.8262  104.3155  90.5047  73.8758   \n",
       "1     1.7154     2.6394         1.8815   24.9597   75.7051  65.3032  65.6771   \n",
       "2     1.9845     2.0827         1.9501   27.7117   81.0966  72.9980  60.8317   \n",
       "\n",
       "   totalgm_b  \n",
       "0    84.4527  \n",
       "1    67.1158  \n",
       "2    64.3183  "
      ]
     },
     "execution_count": 7,
     "metadata": {},
     "output_type": "execute_result"
    }
   ],
   "source": [
    "StrokeMRI = StrokeMRI.assign(sex = StrokeMRI.sex.map(sex_mapping))\n",
    "StrokeMRI.head(3)"
   ]
  },
  {
   "cell_type": "code",
   "execution_count": null,
   "id": "0c902084-c9b8-49a7-aab3-00b86c8a9726",
   "metadata": {},
   "outputs": [],
   "source": []
  },
  {
   "cell_type": "code",
   "execution_count": 8,
   "id": "ca8cbc27-dd08-48d1-b3b7-95289e48670b",
   "metadata": {
    "tags": []
   },
   "outputs": [
    {
     "data": {
      "text/html": [
       "<div>\n",
       "<style scoped>\n",
       "    .dataframe tbody tr th:only-of-type {\n",
       "        vertical-align: middle;\n",
       "    }\n",
       "\n",
       "    .dataframe tbody tr th {\n",
       "        vertical-align: top;\n",
       "    }\n",
       "\n",
       "    .dataframe thead th {\n",
       "        text-align: right;\n",
       "    }\n",
       "</style>\n",
       "<table border=\"1\" class=\"dataframe\">\n",
       "  <thead>\n",
       "    <tr style=\"text-align: right;\">\n",
       "      <th></th>\n",
       "      <th>participant_id</th>\n",
       "      <th>age</th>\n",
       "      <th>sex</th>\n",
       "      <th>gm_vol</th>\n",
       "      <th>wm_vol</th>\n",
       "      <th>csf_vol</th>\n",
       "      <th>gm_ivc_ratio</th>\n",
       "      <th>gmwm_ivc_ratio</th>\n",
       "      <th>wmh_vol</th>\n",
       "      <th>wmh_count</th>\n",
       "      <th>deepwm_b_cov</th>\n",
       "      <th>aca_b_cov</th>\n",
       "      <th>mca_b_cov</th>\n",
       "      <th>pca_b_cov</th>\n",
       "      <th>totalgm_b_cov</th>\n",
       "      <th>deepwm_b</th>\n",
       "      <th>aca_b</th>\n",
       "      <th>mca_b</th>\n",
       "      <th>pca_b</th>\n",
       "      <th>totalgm_b</th>\n",
       "    </tr>\n",
       "  </thead>\n",
       "  <tbody>\n",
       "    <tr>\n",
       "      <th>0</th>\n",
       "      <td>sub-100096_1_ses-1_run-1</td>\n",
       "      <td>78</td>\n",
       "      <td>1</td>\n",
       "      <td>0.56201</td>\n",
       "      <td>0.44945</td>\n",
       "      <td>0.42419</td>\n",
       "      <td>0.39147</td>\n",
       "      <td>0.39147</td>\n",
       "      <td>4.621</td>\n",
       "      <td>19.0</td>\n",
       "      <td>13.6710</td>\n",
       "      <td>3.5865</td>\n",
       "      <td>3.8956</td>\n",
       "      <td>4.3534</td>\n",
       "      <td>3.6690</td>\n",
       "      <td>15.3022</td>\n",
       "      <td>71.6047</td>\n",
       "      <td>62.0948</td>\n",
       "      <td>43.2926</td>\n",
       "      <td>54.7345</td>\n",
       "    </tr>\n",
       "    <tr>\n",
       "      <th>1</th>\n",
       "      <td>sub-100331_1_ses-1_run-1</td>\n",
       "      <td>71</td>\n",
       "      <td>1</td>\n",
       "      <td>0.53812</td>\n",
       "      <td>0.42593</td>\n",
       "      <td>0.49319</td>\n",
       "      <td>0.36927</td>\n",
       "      <td>0.36927</td>\n",
       "      <td>1.085</td>\n",
       "      <td>22.0</td>\n",
       "      <td>16.3956</td>\n",
       "      <td>4.3543</td>\n",
       "      <td>4.1134</td>\n",
       "      <td>3.8613</td>\n",
       "      <td>3.7593</td>\n",
       "      <td>11.3323</td>\n",
       "      <td>37.0396</td>\n",
       "      <td>30.0755</td>\n",
       "      <td>25.5827</td>\n",
       "      <td>29.7665</td>\n",
       "    </tr>\n",
       "    <tr>\n",
       "      <th>2</th>\n",
       "      <td>sub-102285_1_ses-1_run-1</td>\n",
       "      <td>72</td>\n",
       "      <td>1</td>\n",
       "      <td>0.56881</td>\n",
       "      <td>0.49224</td>\n",
       "      <td>0.35808</td>\n",
       "      <td>0.40082</td>\n",
       "      <td>0.40082</td>\n",
       "      <td>1.956</td>\n",
       "      <td>24.0</td>\n",
       "      <td>20.5471</td>\n",
       "      <td>4.3167</td>\n",
       "      <td>4.4410</td>\n",
       "      <td>3.9533</td>\n",
       "      <td>3.9991</td>\n",
       "      <td>14.2770</td>\n",
       "      <td>51.7767</td>\n",
       "      <td>41.2339</td>\n",
       "      <td>33.5018</td>\n",
       "      <td>39.2296</td>\n",
       "    </tr>\n",
       "  </tbody>\n",
       "</table>\n",
       "</div>"
      ],
      "text/plain": [
       "             participant_id  age  sex   gm_vol   wm_vol  csf_vol  \\\n",
       "0  sub-100096_1_ses-1_run-1   78    1  0.56201  0.44945  0.42419   \n",
       "1  sub-100331_1_ses-1_run-1   71    1  0.53812  0.42593  0.49319   \n",
       "2  sub-102285_1_ses-1_run-1   72    1  0.56881  0.49224  0.35808   \n",
       "\n",
       "   gm_ivc_ratio  gmwm_ivc_ratio  wmh_vol  wmh_count  deepwm_b_cov  aca_b_cov  \\\n",
       "0       0.39147         0.39147    4.621       19.0       13.6710     3.5865   \n",
       "1       0.36927         0.36927    1.085       22.0       16.3956     4.3543   \n",
       "2       0.40082         0.40082    1.956       24.0       20.5471     4.3167   \n",
       "\n",
       "   mca_b_cov  pca_b_cov  totalgm_b_cov  deepwm_b    aca_b    mca_b    pca_b  \\\n",
       "0     3.8956     4.3534         3.6690   15.3022  71.6047  62.0948  43.2926   \n",
       "1     4.1134     3.8613         3.7593   11.3323  37.0396  30.0755  25.5827   \n",
       "2     4.4410     3.9533         3.9991   14.2770  51.7767  41.2339  33.5018   \n",
       "\n",
       "   totalgm_b  \n",
       "0    54.7345  \n",
       "1    29.7665  \n",
       "2    39.2296  "
      ]
     },
     "execution_count": 8,
     "metadata": {},
     "output_type": "execute_result"
    }
   ],
   "source": [
    "coly = TOP.columns\n",
    "SABRE = SABRE.assign(sex = SABRE.sex.map(sex_mapping))\n",
    "SABRE = SABRE[coly]\n",
    "SABRE.head(3)"
   ]
  },
  {
   "cell_type": "code",
   "execution_count": 9,
   "id": "38548448-86cc-42bc-9d18-f4575fbd91d1",
   "metadata": {
    "tags": []
   },
   "outputs": [],
   "source": [
    "SABRE =SABRE.dropna()\n",
    "#SABRE.isna().sum()"
   ]
  },
  {
   "cell_type": "code",
   "execution_count": null,
   "id": "81a18649-6f97-4b55-a01b-bf6a3906fb5e",
   "metadata": {},
   "outputs": [],
   "source": []
  },
  {
   "cell_type": "code",
   "execution_count": 10,
   "id": "b9efbca7-4d32-4371-94ea-42cd3cb9ba3b",
   "metadata": {
    "tags": []
   },
   "outputs": [
    {
     "name": "stdout",
     "output_type": "stream",
     "text": [
      "set()\n"
     ]
    }
   ],
   "source": [
    "# check for any duplicated patients between stroke and mri\n",
    "strokers = set(StrokeMRI.participant_id)\n",
    "topers = set(TOP.participant_id)\n",
    "z = strokers.intersection(topers)\n",
    "print(z) "
   ]
  },
  {
   "cell_type": "code",
   "execution_count": 11,
   "id": "e59d0741-040c-4265-a2b5-5dfbd37214e1",
   "metadata": {
    "tags": []
   },
   "outputs": [],
   "source": [
    "# make mixed StrokeMRI and TOP dataset\n",
    "mixed_data = pd.concat([TOP, StrokeMRI], sort=False)\n"
   ]
  },
  {
   "cell_type": "markdown",
   "id": "f0c08947-d926-416e-92c4-7a644618a456",
   "metadata": {},
   "source": [
    "## Build ML models"
   ]
  },
  {
   "cell_type": "markdown",
   "id": "342956e4-4d11-45dd-94ce-f480813e5a4c",
   "metadata": {},
   "source": [
    "# keeping patient ID until right when model is fed, then use patient ID as key to what went where"
   ]
  },
  {
   "cell_type": "code",
   "execution_count": 12,
   "id": "0e8b41eb-3b29-46e2-9627-85627d2d7da8",
   "metadata": {
    "tags": []
   },
   "outputs": [],
   "source": [
    "ml_matrix = mixed_data #.drop('participant_id', axis=1)\n",
    "X = ml_matrix.drop('age', axis =1)\n",
    "X = X.values\n",
    "y = ml_matrix['age'].values\n",
    "y=y.astype('float')\n"
   ]
  },
  {
   "cell_type": "code",
   "execution_count": 13,
   "id": "6b707d30-686b-492d-96c1-4a5e01a166d2",
   "metadata": {
    "tags": []
   },
   "outputs": [],
   "source": [
    "X_train, X_test, y_train, y_test = train_test_split(X, y, test_size=0.25, random_state=12)"
   ]
  },
  {
   "cell_type": "code",
   "execution_count": 14,
   "id": "a745e96c-b85b-4235-98b2-fcab31e0cb51",
   "metadata": {
    "tags": []
   },
   "outputs": [
    {
     "data": {
      "text/plain": [
       "(780, 18)"
      ]
     },
     "execution_count": 14,
     "metadata": {},
     "output_type": "execute_result"
    }
   ],
   "source": [
    "X_train_cut = X_train[:,1:]\n",
    "X_train_cut = X_train_cut.astype('float')\n",
    "X_train_cut.shape"
   ]
  },
  {
   "cell_type": "code",
   "execution_count": 15,
   "id": "94c3b19b-57b2-4f79-95da-9fc45bcf6ff9",
   "metadata": {
    "tags": []
   },
   "outputs": [
    {
     "data": {
      "text/plain": [
       "(261, 18)"
      ]
     },
     "execution_count": 15,
     "metadata": {},
     "output_type": "execute_result"
    }
   ],
   "source": [
    "X_test_cut = X_test[:,1:]\n",
    "X_test_cut = X_test_cut.astype('float')\n",
    "X_test_cut.shape"
   ]
  },
  {
   "cell_type": "code",
   "execution_count": 16,
   "id": "ae678f74-7a54-47a1-ba93-289b12b263f2",
   "metadata": {
    "tags": []
   },
   "outputs": [],
   "source": [
    "\n",
    "# regr = MLPRegressor(random_state=1, max_iter=700)\n",
    "# regr.fit(X_train_cut, y_train)"
   ]
  },
  {
   "cell_type": "code",
   "execution_count": 17,
   "id": "3dffbf12-aa8b-4ee4-adc2-b10c7e7077d0",
   "metadata": {
    "tags": []
   },
   "outputs": [],
   "source": [
    "# y_pred = regr.predict(X_test_cut)"
   ]
  },
  {
   "cell_type": "code",
   "execution_count": 18,
   "id": "2bdd28e8-3fc0-4c1d-ae8e-de49e0e553d6",
   "metadata": {
    "tags": []
   },
   "outputs": [],
   "source": [
    "# print('R2 score neural network mlp regression: %.3f' % regr.score(X_test_cut,y_test))\n",
    "# print('Explained variance score: %.3f'  % metrics.explained_variance_score(y_test, y_pred))\n",
    "# print('MAE: % .3f' % mean_absolute_error(y_test, y_pred))"
   ]
  },
  {
   "cell_type": "code",
   "execution_count": 19,
   "id": "2276d281-3098-4318-b82e-d9c797b47776",
   "metadata": {
    "tags": []
   },
   "outputs": [
    {
     "data": {
      "text/html": [
       "<style>#sk-container-id-1 {color: black;background-color: white;}#sk-container-id-1 pre{padding: 0;}#sk-container-id-1 div.sk-toggleable {background-color: white;}#sk-container-id-1 label.sk-toggleable__label {cursor: pointer;display: block;width: 100%;margin-bottom: 0;padding: 0.3em;box-sizing: border-box;text-align: center;}#sk-container-id-1 label.sk-toggleable__label-arrow:before {content: \"▸\";float: left;margin-right: 0.25em;color: #696969;}#sk-container-id-1 label.sk-toggleable__label-arrow:hover:before {color: black;}#sk-container-id-1 div.sk-estimator:hover label.sk-toggleable__label-arrow:before {color: black;}#sk-container-id-1 div.sk-toggleable__content {max-height: 0;max-width: 0;overflow: hidden;text-align: left;background-color: #f0f8ff;}#sk-container-id-1 div.sk-toggleable__content pre {margin: 0.2em;color: black;border-radius: 0.25em;background-color: #f0f8ff;}#sk-container-id-1 input.sk-toggleable__control:checked~div.sk-toggleable__content {max-height: 200px;max-width: 100%;overflow: auto;}#sk-container-id-1 input.sk-toggleable__control:checked~label.sk-toggleable__label-arrow:before {content: \"▾\";}#sk-container-id-1 div.sk-estimator input.sk-toggleable__control:checked~label.sk-toggleable__label {background-color: #d4ebff;}#sk-container-id-1 div.sk-label input.sk-toggleable__control:checked~label.sk-toggleable__label {background-color: #d4ebff;}#sk-container-id-1 input.sk-hidden--visually {border: 0;clip: rect(1px 1px 1px 1px);clip: rect(1px, 1px, 1px, 1px);height: 1px;margin: -1px;overflow: hidden;padding: 0;position: absolute;width: 1px;}#sk-container-id-1 div.sk-estimator {font-family: monospace;background-color: #f0f8ff;border: 1px dotted black;border-radius: 0.25em;box-sizing: border-box;margin-bottom: 0.5em;}#sk-container-id-1 div.sk-estimator:hover {background-color: #d4ebff;}#sk-container-id-1 div.sk-parallel-item::after {content: \"\";width: 100%;border-bottom: 1px solid gray;flex-grow: 1;}#sk-container-id-1 div.sk-label:hover label.sk-toggleable__label {background-color: #d4ebff;}#sk-container-id-1 div.sk-serial::before {content: \"\";position: absolute;border-left: 1px solid gray;box-sizing: border-box;top: 0;bottom: 0;left: 50%;z-index: 0;}#sk-container-id-1 div.sk-serial {display: flex;flex-direction: column;align-items: center;background-color: white;padding-right: 0.2em;padding-left: 0.2em;position: relative;}#sk-container-id-1 div.sk-item {position: relative;z-index: 1;}#sk-container-id-1 div.sk-parallel {display: flex;align-items: stretch;justify-content: center;background-color: white;position: relative;}#sk-container-id-1 div.sk-item::before, #sk-container-id-1 div.sk-parallel-item::before {content: \"\";position: absolute;border-left: 1px solid gray;box-sizing: border-box;top: 0;bottom: 0;left: 50%;z-index: -1;}#sk-container-id-1 div.sk-parallel-item {display: flex;flex-direction: column;z-index: 1;position: relative;background-color: white;}#sk-container-id-1 div.sk-parallel-item:first-child::after {align-self: flex-end;width: 50%;}#sk-container-id-1 div.sk-parallel-item:last-child::after {align-self: flex-start;width: 50%;}#sk-container-id-1 div.sk-parallel-item:only-child::after {width: 0;}#sk-container-id-1 div.sk-dashed-wrapped {border: 1px dashed gray;margin: 0 0.4em 0.5em 0.4em;box-sizing: border-box;padding-bottom: 0.4em;background-color: white;}#sk-container-id-1 div.sk-label label {font-family: monospace;font-weight: bold;display: inline-block;line-height: 1.2em;}#sk-container-id-1 div.sk-label-container {text-align: center;}#sk-container-id-1 div.sk-container {/* jupyter's `normalize.less` sets `[hidden] { display: none; }` but bootstrap.min.css set `[hidden] { display: none !important; }` so we also need the `!important` here to be able to override the default hidden behavior on the sphinx rendered scikit-learn.org. See: https://github.com/scikit-learn/scikit-learn/issues/21755 */display: inline-block !important;position: relative;}#sk-container-id-1 div.sk-text-repr-fallback {display: none;}</style><div id=\"sk-container-id-1\" class=\"sk-top-container\"><div class=\"sk-text-repr-fallback\"><pre>LinearRegression()</pre><b>In a Jupyter environment, please rerun this cell to show the HTML representation or trust the notebook. <br />On GitHub, the HTML representation is unable to render, please try loading this page with nbviewer.org.</b></div><div class=\"sk-container\" hidden><div class=\"sk-item\"><div class=\"sk-estimator sk-toggleable\"><input class=\"sk-toggleable__control sk-hidden--visually\" id=\"sk-estimator-id-1\" type=\"checkbox\" checked><label for=\"sk-estimator-id-1\" class=\"sk-toggleable__label sk-toggleable__label-arrow\">LinearRegression</label><div class=\"sk-toggleable__content\"><pre>LinearRegression()</pre></div></div></div></div></div>"
      ],
      "text/plain": [
       "LinearRegression()"
      ]
     },
     "execution_count": 19,
     "metadata": {},
     "output_type": "execute_result"
    }
   ],
   "source": [
    "linr = LinearRegression()\n",
    "linr.fit(X_train_cut, y_train)"
   ]
  },
  {
   "cell_type": "code",
   "execution_count": 20,
   "id": "b5a5a422-47de-48a8-b6d3-6fd3f2df7323",
   "metadata": {
    "tags": []
   },
   "outputs": [],
   "source": [
    "y_pred = linr.predict(X_test_cut)"
   ]
  },
  {
   "cell_type": "code",
   "execution_count": 21,
   "id": "e9826378-18ef-4f08-b6c5-ddafcc4ea6b2",
   "metadata": {
    "tags": []
   },
   "outputs": [
    {
     "name": "stdout",
     "output_type": "stream",
     "text": [
      "R2 score Linear regression: 0.861\n",
      "Explained variance score: 0.861\n",
      "MAE:  5.253\n"
     ]
    }
   ],
   "source": [
    "print('R2 score Linear regression: %.3f' % linr.score(X_test_cut,y_test))\n",
    "print('Explained variance score: %.3f'  % metrics.explained_variance_score(y_test, y_pred))\n",
    "print('MAE: % .3f' % mean_absolute_error(y_test, y_pred))"
   ]
  },
  {
   "cell_type": "code",
   "execution_count": null,
   "id": "f77d963f-847f-430c-a3bf-c5924755b804",
   "metadata": {},
   "outputs": [],
   "source": []
  },
  {
   "cell_type": "code",
   "execution_count": 22,
   "id": "91f1c552-a8c6-42d5-939d-be29d54cfb72",
   "metadata": {
    "tags": []
   },
   "outputs": [],
   "source": [
    "data= [[\n",
    "    'linear regression',\n",
    "    'unharm_mixed_linr.sav',\n",
    "    mean_absolute_error(y_test, y_pred),\n",
    "    linr.score(X_test_cut,y_test),\n",
    "    metrics.explained_variance_score(y_test, y_pred)]]\n",
    "linr_results = pd.DataFrame(data, columns=['algorithm','file_name','mae', 'r2', 'explained_variance'])\n",
    "#linr_results"
   ]
  },
  {
   "cell_type": "code",
   "execution_count": 23,
   "id": "e2663e68-2a2a-44b2-a1ef-91487bfc4eb7",
   "metadata": {
    "tags": []
   },
   "outputs": [],
   "source": [
    "linr_y_test = y_test\n",
    "linr_y_pred = y_pred\n",
    "linr_compare = pd.DataFrame(\n",
    "    {'y_test_real_age': linr_y_test,\n",
    "     'linr_y_pred_age': linr_y_pred,\n",
    "    })\n",
    "linr_compare = linr_compare.reset_index()\n",
    "#linr_compare"
   ]
  },
  {
   "cell_type": "code",
   "execution_count": 24,
   "id": "03c76cd8-d6b0-47ad-a24e-496fab3398ac",
   "metadata": {
    "tags": []
   },
   "outputs": [
    {
     "name": "stderr",
     "output_type": "stream",
     "text": [
      "C:\\Users\\makeda\\.conda\\envs\\mrilanding\\lib\\site-packages\\sklearn\\linear_model\\_least_angle.py:648: ConvergenceWarning: Regressors in active set degenerate. Dropping a regressor, after 19 iterations, i.e. alpha=1.097e-02, with an active set of 15 regressors, and the smallest cholesky pivot element being 2.220e-16. Reduce max_iter or increase eps parameters.\n",
      "  warnings.warn(\n",
      "C:\\Users\\makeda\\.conda\\envs\\mrilanding\\lib\\site-packages\\sklearn\\linear_model\\_least_angle.py:648: ConvergenceWarning: Regressors in active set degenerate. Dropping a regressor, after 20 iterations, i.e. alpha=1.067e-02, with an active set of 16 regressors, and the smallest cholesky pivot element being 2.220e-16. Reduce max_iter or increase eps parameters.\n",
      "  warnings.warn(\n"
     ]
    },
    {
     "data": {
      "text/html": [
       "<style>#sk-container-id-2 {color: black;background-color: white;}#sk-container-id-2 pre{padding: 0;}#sk-container-id-2 div.sk-toggleable {background-color: white;}#sk-container-id-2 label.sk-toggleable__label {cursor: pointer;display: block;width: 100%;margin-bottom: 0;padding: 0.3em;box-sizing: border-box;text-align: center;}#sk-container-id-2 label.sk-toggleable__label-arrow:before {content: \"▸\";float: left;margin-right: 0.25em;color: #696969;}#sk-container-id-2 label.sk-toggleable__label-arrow:hover:before {color: black;}#sk-container-id-2 div.sk-estimator:hover label.sk-toggleable__label-arrow:before {color: black;}#sk-container-id-2 div.sk-toggleable__content {max-height: 0;max-width: 0;overflow: hidden;text-align: left;background-color: #f0f8ff;}#sk-container-id-2 div.sk-toggleable__content pre {margin: 0.2em;color: black;border-radius: 0.25em;background-color: #f0f8ff;}#sk-container-id-2 input.sk-toggleable__control:checked~div.sk-toggleable__content {max-height: 200px;max-width: 100%;overflow: auto;}#sk-container-id-2 input.sk-toggleable__control:checked~label.sk-toggleable__label-arrow:before {content: \"▾\";}#sk-container-id-2 div.sk-estimator input.sk-toggleable__control:checked~label.sk-toggleable__label {background-color: #d4ebff;}#sk-container-id-2 div.sk-label input.sk-toggleable__control:checked~label.sk-toggleable__label {background-color: #d4ebff;}#sk-container-id-2 input.sk-hidden--visually {border: 0;clip: rect(1px 1px 1px 1px);clip: rect(1px, 1px, 1px, 1px);height: 1px;margin: -1px;overflow: hidden;padding: 0;position: absolute;width: 1px;}#sk-container-id-2 div.sk-estimator {font-family: monospace;background-color: #f0f8ff;border: 1px dotted black;border-radius: 0.25em;box-sizing: border-box;margin-bottom: 0.5em;}#sk-container-id-2 div.sk-estimator:hover {background-color: #d4ebff;}#sk-container-id-2 div.sk-parallel-item::after {content: \"\";width: 100%;border-bottom: 1px solid gray;flex-grow: 1;}#sk-container-id-2 div.sk-label:hover label.sk-toggleable__label {background-color: #d4ebff;}#sk-container-id-2 div.sk-serial::before {content: \"\";position: absolute;border-left: 1px solid gray;box-sizing: border-box;top: 0;bottom: 0;left: 50%;z-index: 0;}#sk-container-id-2 div.sk-serial {display: flex;flex-direction: column;align-items: center;background-color: white;padding-right: 0.2em;padding-left: 0.2em;position: relative;}#sk-container-id-2 div.sk-item {position: relative;z-index: 1;}#sk-container-id-2 div.sk-parallel {display: flex;align-items: stretch;justify-content: center;background-color: white;position: relative;}#sk-container-id-2 div.sk-item::before, #sk-container-id-2 div.sk-parallel-item::before {content: \"\";position: absolute;border-left: 1px solid gray;box-sizing: border-box;top: 0;bottom: 0;left: 50%;z-index: -1;}#sk-container-id-2 div.sk-parallel-item {display: flex;flex-direction: column;z-index: 1;position: relative;background-color: white;}#sk-container-id-2 div.sk-parallel-item:first-child::after {align-self: flex-end;width: 50%;}#sk-container-id-2 div.sk-parallel-item:last-child::after {align-self: flex-start;width: 50%;}#sk-container-id-2 div.sk-parallel-item:only-child::after {width: 0;}#sk-container-id-2 div.sk-dashed-wrapped {border: 1px dashed gray;margin: 0 0.4em 0.5em 0.4em;box-sizing: border-box;padding-bottom: 0.4em;background-color: white;}#sk-container-id-2 div.sk-label label {font-family: monospace;font-weight: bold;display: inline-block;line-height: 1.2em;}#sk-container-id-2 div.sk-label-container {text-align: center;}#sk-container-id-2 div.sk-container {/* jupyter's `normalize.less` sets `[hidden] { display: none; }` but bootstrap.min.css set `[hidden] { display: none !important; }` so we also need the `!important` here to be able to override the default hidden behavior on the sphinx rendered scikit-learn.org. See: https://github.com/scikit-learn/scikit-learn/issues/21755 */display: inline-block !important;position: relative;}#sk-container-id-2 div.sk-text-repr-fallback {display: none;}</style><div id=\"sk-container-id-2\" class=\"sk-top-container\"><div class=\"sk-text-repr-fallback\"><pre>LassoLars(alpha=0.01)</pre><b>In a Jupyter environment, please rerun this cell to show the HTML representation or trust the notebook. <br />On GitHub, the HTML representation is unable to render, please try loading this page with nbviewer.org.</b></div><div class=\"sk-container\" hidden><div class=\"sk-item\"><div class=\"sk-estimator sk-toggleable\"><input class=\"sk-toggleable__control sk-hidden--visually\" id=\"sk-estimator-id-2\" type=\"checkbox\" checked><label for=\"sk-estimator-id-2\" class=\"sk-toggleable__label sk-toggleable__label-arrow\">LassoLars</label><div class=\"sk-toggleable__content\"><pre>LassoLars(alpha=0.01)</pre></div></div></div></div></div>"
      ],
      "text/plain": [
       "LassoLars(alpha=0.01)"
      ]
     },
     "execution_count": 24,
     "metadata": {},
     "output_type": "execute_result"
    }
   ],
   "source": [
    "llreg = linear_model.LassoLars(alpha=0.01)\n",
    "llreg.fit(X_train_cut, y_train)"
   ]
  },
  {
   "cell_type": "code",
   "execution_count": 25,
   "id": "c9302487-5646-48e3-b596-4e6cfad6e13c",
   "metadata": {
    "tags": []
   },
   "outputs": [
    {
     "name": "stdout",
     "output_type": "stream",
     "text": [
      "R2 score Lasso regression: 0.856\n",
      "Explained variance score: 0.856\n",
      "The mean absolute error: 5.361\n"
     ]
    }
   ],
   "source": [
    "y_pred = llreg.predict(X_test_cut)\n",
    "print('R2 score Lasso regression: %.3f' % llreg.score(X_test_cut,y_test))\n",
    "print('Explained variance score: %.3f'  % metrics.explained_variance_score(y_test, y_pred))\n",
    "print('The mean absolute error: %.3f' % mean_absolute_error(y_test, y_pred))"
   ]
  },
  {
   "cell_type": "code",
   "execution_count": null,
   "id": "8c38b099-231b-4cb7-8abe-081534ff5324",
   "metadata": {},
   "outputs": [],
   "source": []
  },
  {
   "cell_type": "code",
   "execution_count": 26,
   "id": "192ac9c0-a7c8-4f5d-aa58-4e5f3239b841",
   "metadata": {
    "tags": []
   },
   "outputs": [],
   "source": [
    "data= [[\n",
    "    'lasso linear regression',\n",
    "    'unharm_mixed_lassor.sav',\n",
    "    mean_absolute_error(y_test, y_pred),\n",
    "    llreg.score(X_test_cut,y_test),\n",
    "    metrics.explained_variance_score(y_test, y_pred)]]\n",
    "llreg_results = pd.DataFrame(data, columns=['algorithm','file_name','mae', 'r2', 'explained_variance'])\n",
    "#llreg_results"
   ]
  },
  {
   "cell_type": "code",
   "execution_count": 27,
   "id": "47a6b737-d4f5-4222-9983-c9be51f5c408",
   "metadata": {
    "tags": []
   },
   "outputs": [],
   "source": [
    "llreg_y_test = y_test\n",
    "llreg_y_pred = y_pred\n",
    "llreg_compare = pd.DataFrame(\n",
    "    {'y_test_real_age': llreg_y_test,\n",
    "     'lasso_y_pred_age': llreg_y_pred,\n",
    "    })\n",
    "llreg_compare = llreg_compare.reset_index()\n",
    "#llreg_compare"
   ]
  },
  {
   "cell_type": "code",
   "execution_count": 28,
   "id": "0b844270-90d8-496d-86c5-dcc41155d477",
   "metadata": {
    "tags": []
   },
   "outputs": [
    {
     "data": {
      "text/html": [
       "<style>#sk-container-id-3 {color: black;background-color: white;}#sk-container-id-3 pre{padding: 0;}#sk-container-id-3 div.sk-toggleable {background-color: white;}#sk-container-id-3 label.sk-toggleable__label {cursor: pointer;display: block;width: 100%;margin-bottom: 0;padding: 0.3em;box-sizing: border-box;text-align: center;}#sk-container-id-3 label.sk-toggleable__label-arrow:before {content: \"▸\";float: left;margin-right: 0.25em;color: #696969;}#sk-container-id-3 label.sk-toggleable__label-arrow:hover:before {color: black;}#sk-container-id-3 div.sk-estimator:hover label.sk-toggleable__label-arrow:before {color: black;}#sk-container-id-3 div.sk-toggleable__content {max-height: 0;max-width: 0;overflow: hidden;text-align: left;background-color: #f0f8ff;}#sk-container-id-3 div.sk-toggleable__content pre {margin: 0.2em;color: black;border-radius: 0.25em;background-color: #f0f8ff;}#sk-container-id-3 input.sk-toggleable__control:checked~div.sk-toggleable__content {max-height: 200px;max-width: 100%;overflow: auto;}#sk-container-id-3 input.sk-toggleable__control:checked~label.sk-toggleable__label-arrow:before {content: \"▾\";}#sk-container-id-3 div.sk-estimator input.sk-toggleable__control:checked~label.sk-toggleable__label {background-color: #d4ebff;}#sk-container-id-3 div.sk-label input.sk-toggleable__control:checked~label.sk-toggleable__label {background-color: #d4ebff;}#sk-container-id-3 input.sk-hidden--visually {border: 0;clip: rect(1px 1px 1px 1px);clip: rect(1px, 1px, 1px, 1px);height: 1px;margin: -1px;overflow: hidden;padding: 0;position: absolute;width: 1px;}#sk-container-id-3 div.sk-estimator {font-family: monospace;background-color: #f0f8ff;border: 1px dotted black;border-radius: 0.25em;box-sizing: border-box;margin-bottom: 0.5em;}#sk-container-id-3 div.sk-estimator:hover {background-color: #d4ebff;}#sk-container-id-3 div.sk-parallel-item::after {content: \"\";width: 100%;border-bottom: 1px solid gray;flex-grow: 1;}#sk-container-id-3 div.sk-label:hover label.sk-toggleable__label {background-color: #d4ebff;}#sk-container-id-3 div.sk-serial::before {content: \"\";position: absolute;border-left: 1px solid gray;box-sizing: border-box;top: 0;bottom: 0;left: 50%;z-index: 0;}#sk-container-id-3 div.sk-serial {display: flex;flex-direction: column;align-items: center;background-color: white;padding-right: 0.2em;padding-left: 0.2em;position: relative;}#sk-container-id-3 div.sk-item {position: relative;z-index: 1;}#sk-container-id-3 div.sk-parallel {display: flex;align-items: stretch;justify-content: center;background-color: white;position: relative;}#sk-container-id-3 div.sk-item::before, #sk-container-id-3 div.sk-parallel-item::before {content: \"\";position: absolute;border-left: 1px solid gray;box-sizing: border-box;top: 0;bottom: 0;left: 50%;z-index: -1;}#sk-container-id-3 div.sk-parallel-item {display: flex;flex-direction: column;z-index: 1;position: relative;background-color: white;}#sk-container-id-3 div.sk-parallel-item:first-child::after {align-self: flex-end;width: 50%;}#sk-container-id-3 div.sk-parallel-item:last-child::after {align-self: flex-start;width: 50%;}#sk-container-id-3 div.sk-parallel-item:only-child::after {width: 0;}#sk-container-id-3 div.sk-dashed-wrapped {border: 1px dashed gray;margin: 0 0.4em 0.5em 0.4em;box-sizing: border-box;padding-bottom: 0.4em;background-color: white;}#sk-container-id-3 div.sk-label label {font-family: monospace;font-weight: bold;display: inline-block;line-height: 1.2em;}#sk-container-id-3 div.sk-label-container {text-align: center;}#sk-container-id-3 div.sk-container {/* jupyter's `normalize.less` sets `[hidden] { display: none; }` but bootstrap.min.css set `[hidden] { display: none !important; }` so we also need the `!important` here to be able to override the default hidden behavior on the sphinx rendered scikit-learn.org. See: https://github.com/scikit-learn/scikit-learn/issues/21755 */display: inline-block !important;position: relative;}#sk-container-id-3 div.sk-text-repr-fallback {display: none;}</style><div id=\"sk-container-id-3\" class=\"sk-top-container\"><div class=\"sk-text-repr-fallback\"><pre>DecisionTreeRegressor()</pre><b>In a Jupyter environment, please rerun this cell to show the HTML representation or trust the notebook. <br />On GitHub, the HTML representation is unable to render, please try loading this page with nbviewer.org.</b></div><div class=\"sk-container\" hidden><div class=\"sk-item\"><div class=\"sk-estimator sk-toggleable\"><input class=\"sk-toggleable__control sk-hidden--visually\" id=\"sk-estimator-id-3\" type=\"checkbox\" checked><label for=\"sk-estimator-id-3\" class=\"sk-toggleable__label sk-toggleable__label-arrow\">DecisionTreeRegressor</label><div class=\"sk-toggleable__content\"><pre>DecisionTreeRegressor()</pre></div></div></div></div></div>"
      ],
      "text/plain": [
       "DecisionTreeRegressor()"
      ]
     },
     "execution_count": 28,
     "metadata": {},
     "output_type": "execute_result"
    }
   ],
   "source": [
    "dtree = tree.DecisionTreeRegressor()\n",
    "dtree.fit(X_train_cut, y_train)"
   ]
  },
  {
   "cell_type": "code",
   "execution_count": 29,
   "id": "f0d65dba-520c-4520-a412-aa803a2875e0",
   "metadata": {
    "tags": []
   },
   "outputs": [
    {
     "name": "stdout",
     "output_type": "stream",
     "text": [
      "R2 score dtree regression: 0.763\n",
      "Explained variance score: 0.764\n",
      "The mean absolute error: 6.543\n"
     ]
    }
   ],
   "source": [
    "y_pred = dtree.predict(X_test_cut)\n",
    "print('R2 score dtree regression: %.3f' % dtree.score(X_test_cut,y_test))\n",
    "print('Explained variance score: %.3f'  % metrics.explained_variance_score(y_test, y_pred))\n",
    "print('The mean absolute error: %.3f' % mean_absolute_error(y_test, y_pred))"
   ]
  },
  {
   "cell_type": "code",
   "execution_count": 30,
   "id": "df4e15d6-325b-412c-82ad-2ec27f1217bb",
   "metadata": {
    "tags": []
   },
   "outputs": [],
   "source": [
    "data= [[\n",
    "    'decision tree',\n",
    "    'unharm_mixed_dtree.sav',\n",
    "    mean_absolute_error(y_test, y_pred),\n",
    "    dtree.score(X_test_cut,y_test),\n",
    "    metrics.explained_variance_score(y_test, y_pred)]]\n",
    "dtree_results = pd.DataFrame(data, columns=['algorithm','file_name','mae', 'r2', 'explained_variance'])\n",
    "#dtree_results"
   ]
  },
  {
   "cell_type": "code",
   "execution_count": 31,
   "id": "233d7581-b41a-467d-96da-f4c3747a8f82",
   "metadata": {
    "tags": []
   },
   "outputs": [],
   "source": [
    "dtree_y_test = y_test\n",
    "dtree_y_pred = y_pred\n",
    "dtree_compare = pd.DataFrame(\n",
    "    {'y_test_real_age': dtree_y_test,\n",
    "     'dtree_y_pred_age': dtree_y_pred,\n",
    "    })\n",
    "dtree_compare = dtree_compare.reset_index()\n",
    "#dtree_compare"
   ]
  },
  {
   "cell_type": "code",
   "execution_count": 32,
   "id": "6c92e773-30a4-4a74-b94b-1df02b1ea4b1",
   "metadata": {
    "tags": []
   },
   "outputs": [
    {
     "data": {
      "text/html": [
       "<style>#sk-container-id-4 {color: black;background-color: white;}#sk-container-id-4 pre{padding: 0;}#sk-container-id-4 div.sk-toggleable {background-color: white;}#sk-container-id-4 label.sk-toggleable__label {cursor: pointer;display: block;width: 100%;margin-bottom: 0;padding: 0.3em;box-sizing: border-box;text-align: center;}#sk-container-id-4 label.sk-toggleable__label-arrow:before {content: \"▸\";float: left;margin-right: 0.25em;color: #696969;}#sk-container-id-4 label.sk-toggleable__label-arrow:hover:before {color: black;}#sk-container-id-4 div.sk-estimator:hover label.sk-toggleable__label-arrow:before {color: black;}#sk-container-id-4 div.sk-toggleable__content {max-height: 0;max-width: 0;overflow: hidden;text-align: left;background-color: #f0f8ff;}#sk-container-id-4 div.sk-toggleable__content pre {margin: 0.2em;color: black;border-radius: 0.25em;background-color: #f0f8ff;}#sk-container-id-4 input.sk-toggleable__control:checked~div.sk-toggleable__content {max-height: 200px;max-width: 100%;overflow: auto;}#sk-container-id-4 input.sk-toggleable__control:checked~label.sk-toggleable__label-arrow:before {content: \"▾\";}#sk-container-id-4 div.sk-estimator input.sk-toggleable__control:checked~label.sk-toggleable__label {background-color: #d4ebff;}#sk-container-id-4 div.sk-label input.sk-toggleable__control:checked~label.sk-toggleable__label {background-color: #d4ebff;}#sk-container-id-4 input.sk-hidden--visually {border: 0;clip: rect(1px 1px 1px 1px);clip: rect(1px, 1px, 1px, 1px);height: 1px;margin: -1px;overflow: hidden;padding: 0;position: absolute;width: 1px;}#sk-container-id-4 div.sk-estimator {font-family: monospace;background-color: #f0f8ff;border: 1px dotted black;border-radius: 0.25em;box-sizing: border-box;margin-bottom: 0.5em;}#sk-container-id-4 div.sk-estimator:hover {background-color: #d4ebff;}#sk-container-id-4 div.sk-parallel-item::after {content: \"\";width: 100%;border-bottom: 1px solid gray;flex-grow: 1;}#sk-container-id-4 div.sk-label:hover label.sk-toggleable__label {background-color: #d4ebff;}#sk-container-id-4 div.sk-serial::before {content: \"\";position: absolute;border-left: 1px solid gray;box-sizing: border-box;top: 0;bottom: 0;left: 50%;z-index: 0;}#sk-container-id-4 div.sk-serial {display: flex;flex-direction: column;align-items: center;background-color: white;padding-right: 0.2em;padding-left: 0.2em;position: relative;}#sk-container-id-4 div.sk-item {position: relative;z-index: 1;}#sk-container-id-4 div.sk-parallel {display: flex;align-items: stretch;justify-content: center;background-color: white;position: relative;}#sk-container-id-4 div.sk-item::before, #sk-container-id-4 div.sk-parallel-item::before {content: \"\";position: absolute;border-left: 1px solid gray;box-sizing: border-box;top: 0;bottom: 0;left: 50%;z-index: -1;}#sk-container-id-4 div.sk-parallel-item {display: flex;flex-direction: column;z-index: 1;position: relative;background-color: white;}#sk-container-id-4 div.sk-parallel-item:first-child::after {align-self: flex-end;width: 50%;}#sk-container-id-4 div.sk-parallel-item:last-child::after {align-self: flex-start;width: 50%;}#sk-container-id-4 div.sk-parallel-item:only-child::after {width: 0;}#sk-container-id-4 div.sk-dashed-wrapped {border: 1px dashed gray;margin: 0 0.4em 0.5em 0.4em;box-sizing: border-box;padding-bottom: 0.4em;background-color: white;}#sk-container-id-4 div.sk-label label {font-family: monospace;font-weight: bold;display: inline-block;line-height: 1.2em;}#sk-container-id-4 div.sk-label-container {text-align: center;}#sk-container-id-4 div.sk-container {/* jupyter's `normalize.less` sets `[hidden] { display: none; }` but bootstrap.min.css set `[hidden] { display: none !important; }` so we also need the `!important` here to be able to override the default hidden behavior on the sphinx rendered scikit-learn.org. See: https://github.com/scikit-learn/scikit-learn/issues/21755 */display: inline-block !important;position: relative;}#sk-container-id-4 div.sk-text-repr-fallback {display: none;}</style><div id=\"sk-container-id-4\" class=\"sk-top-container\"><div class=\"sk-text-repr-fallback\"><pre>MLPRegressor(max_iter=700, random_state=1)</pre><b>In a Jupyter environment, please rerun this cell to show the HTML representation or trust the notebook. <br />On GitHub, the HTML representation is unable to render, please try loading this page with nbviewer.org.</b></div><div class=\"sk-container\" hidden><div class=\"sk-item\"><div class=\"sk-estimator sk-toggleable\"><input class=\"sk-toggleable__control sk-hidden--visually\" id=\"sk-estimator-id-4\" type=\"checkbox\" checked><label for=\"sk-estimator-id-4\" class=\"sk-toggleable__label sk-toggleable__label-arrow\">MLPRegressor</label><div class=\"sk-toggleable__content\"><pre>MLPRegressor(max_iter=700, random_state=1)</pre></div></div></div></div></div>"
      ],
      "text/plain": [
       "MLPRegressor(max_iter=700, random_state=1)"
      ]
     },
     "execution_count": 32,
     "metadata": {},
     "output_type": "execute_result"
    }
   ],
   "source": [
    "regr = MLPRegressor(random_state=1, max_iter=700)\n",
    "regr.fit(X_train_cut, y_train)"
   ]
  },
  {
   "cell_type": "code",
   "execution_count": 33,
   "id": "522ae061-afc8-41b2-9c7e-a8b1124509ed",
   "metadata": {
    "tags": []
   },
   "outputs": [],
   "source": [
    "y_pred = regr.predict(X_test_cut)"
   ]
  },
  {
   "cell_type": "code",
   "execution_count": 34,
   "id": "1ff63a4c-fc71-4d39-96c4-1ff56c7e5f10",
   "metadata": {
    "tags": []
   },
   "outputs": [],
   "source": [
    "# print('R2 score neural network mlp regression: %.3f' % regr.score(X_test_cut,y_test))\n",
    "# print('Explained variance score: %.3f'  % metrics.explained_variance_score(y_test, y_pred))\n",
    "# print('MAE: % .3f' % mean_absolute_error(y_test, y_pred))"
   ]
  },
  {
   "cell_type": "code",
   "execution_count": 35,
   "id": "5a5d8b4d-f146-4627-95cd-423153418de0",
   "metadata": {
    "tags": []
   },
   "outputs": [
    {
     "data": {
      "text/html": [
       "<div>\n",
       "<style scoped>\n",
       "    .dataframe tbody tr th:only-of-type {\n",
       "        vertical-align: middle;\n",
       "    }\n",
       "\n",
       "    .dataframe tbody tr th {\n",
       "        vertical-align: top;\n",
       "    }\n",
       "\n",
       "    .dataframe thead th {\n",
       "        text-align: right;\n",
       "    }\n",
       "</style>\n",
       "<table border=\"1\" class=\"dataframe\">\n",
       "  <thead>\n",
       "    <tr style=\"text-align: right;\">\n",
       "      <th></th>\n",
       "      <th>algorithm</th>\n",
       "      <th>file_name</th>\n",
       "      <th>mae</th>\n",
       "      <th>r2</th>\n",
       "      <th>explained_variance</th>\n",
       "    </tr>\n",
       "  </thead>\n",
       "  <tbody>\n",
       "    <tr>\n",
       "      <th>0</th>\n",
       "      <td>MLP regression</td>\n",
       "      <td>unharm_mixed_regr.sav</td>\n",
       "      <td>6.808033</td>\n",
       "      <td>0.773869</td>\n",
       "      <td>0.77388</td>\n",
       "    </tr>\n",
       "  </tbody>\n",
       "</table>\n",
       "</div>"
      ],
      "text/plain": [
       "        algorithm              file_name       mae        r2  \\\n",
       "0  MLP regression  unharm_mixed_regr.sav  6.808033  0.773869   \n",
       "\n",
       "   explained_variance  \n",
       "0             0.77388  "
      ]
     },
     "execution_count": 35,
     "metadata": {},
     "output_type": "execute_result"
    }
   ],
   "source": [
    "data= [[\n",
    "    'MLP regression',\n",
    "    'unharm_mixed_regr.sav',\n",
    "    mean_absolute_error(y_test, y_pred),\n",
    "    regr.score(X_test_cut,y_test),\n",
    "    metrics.explained_variance_score(y_test, y_pred)]]\n",
    "regr_results = pd.DataFrame(data, columns=['algorithm','file_name','mae', 'r2', 'explained_variance'])\n",
    "regr_results"
   ]
  },
  {
   "cell_type": "code",
   "execution_count": 36,
   "id": "38a3e8a3-0420-49b3-90f7-5b5d2f67e71c",
   "metadata": {
    "tags": []
   },
   "outputs": [],
   "source": [
    "regr_y_test = y_test\n",
    "regr_y_pred = y_pred\n",
    "regr_compare = pd.DataFrame(\n",
    "    {'y_test_real_age': regr_y_test,\n",
    "     'regr_y_pred_age': regr_y_pred,\n",
    "    })\n",
    "regr_compare = regr_compare.reset_index()\n",
    "#regr_compare"
   ]
  },
  {
   "cell_type": "code",
   "execution_count": 37,
   "id": "5c8e4225-7e32-4840-ad98-e5464a4adf77",
   "metadata": {
    "tags": []
   },
   "outputs": [
    {
     "data": {
      "text/html": [
       "<style>#sk-container-id-5 {color: black;background-color: white;}#sk-container-id-5 pre{padding: 0;}#sk-container-id-5 div.sk-toggleable {background-color: white;}#sk-container-id-5 label.sk-toggleable__label {cursor: pointer;display: block;width: 100%;margin-bottom: 0;padding: 0.3em;box-sizing: border-box;text-align: center;}#sk-container-id-5 label.sk-toggleable__label-arrow:before {content: \"▸\";float: left;margin-right: 0.25em;color: #696969;}#sk-container-id-5 label.sk-toggleable__label-arrow:hover:before {color: black;}#sk-container-id-5 div.sk-estimator:hover label.sk-toggleable__label-arrow:before {color: black;}#sk-container-id-5 div.sk-toggleable__content {max-height: 0;max-width: 0;overflow: hidden;text-align: left;background-color: #f0f8ff;}#sk-container-id-5 div.sk-toggleable__content pre {margin: 0.2em;color: black;border-radius: 0.25em;background-color: #f0f8ff;}#sk-container-id-5 input.sk-toggleable__control:checked~div.sk-toggleable__content {max-height: 200px;max-width: 100%;overflow: auto;}#sk-container-id-5 input.sk-toggleable__control:checked~label.sk-toggleable__label-arrow:before {content: \"▾\";}#sk-container-id-5 div.sk-estimator input.sk-toggleable__control:checked~label.sk-toggleable__label {background-color: #d4ebff;}#sk-container-id-5 div.sk-label input.sk-toggleable__control:checked~label.sk-toggleable__label {background-color: #d4ebff;}#sk-container-id-5 input.sk-hidden--visually {border: 0;clip: rect(1px 1px 1px 1px);clip: rect(1px, 1px, 1px, 1px);height: 1px;margin: -1px;overflow: hidden;padding: 0;position: absolute;width: 1px;}#sk-container-id-5 div.sk-estimator {font-family: monospace;background-color: #f0f8ff;border: 1px dotted black;border-radius: 0.25em;box-sizing: border-box;margin-bottom: 0.5em;}#sk-container-id-5 div.sk-estimator:hover {background-color: #d4ebff;}#sk-container-id-5 div.sk-parallel-item::after {content: \"\";width: 100%;border-bottom: 1px solid gray;flex-grow: 1;}#sk-container-id-5 div.sk-label:hover label.sk-toggleable__label {background-color: #d4ebff;}#sk-container-id-5 div.sk-serial::before {content: \"\";position: absolute;border-left: 1px solid gray;box-sizing: border-box;top: 0;bottom: 0;left: 50%;z-index: 0;}#sk-container-id-5 div.sk-serial {display: flex;flex-direction: column;align-items: center;background-color: white;padding-right: 0.2em;padding-left: 0.2em;position: relative;}#sk-container-id-5 div.sk-item {position: relative;z-index: 1;}#sk-container-id-5 div.sk-parallel {display: flex;align-items: stretch;justify-content: center;background-color: white;position: relative;}#sk-container-id-5 div.sk-item::before, #sk-container-id-5 div.sk-parallel-item::before {content: \"\";position: absolute;border-left: 1px solid gray;box-sizing: border-box;top: 0;bottom: 0;left: 50%;z-index: -1;}#sk-container-id-5 div.sk-parallel-item {display: flex;flex-direction: column;z-index: 1;position: relative;background-color: white;}#sk-container-id-5 div.sk-parallel-item:first-child::after {align-self: flex-end;width: 50%;}#sk-container-id-5 div.sk-parallel-item:last-child::after {align-self: flex-start;width: 50%;}#sk-container-id-5 div.sk-parallel-item:only-child::after {width: 0;}#sk-container-id-5 div.sk-dashed-wrapped {border: 1px dashed gray;margin: 0 0.4em 0.5em 0.4em;box-sizing: border-box;padding-bottom: 0.4em;background-color: white;}#sk-container-id-5 div.sk-label label {font-family: monospace;font-weight: bold;display: inline-block;line-height: 1.2em;}#sk-container-id-5 div.sk-label-container {text-align: center;}#sk-container-id-5 div.sk-container {/* jupyter's `normalize.less` sets `[hidden] { display: none; }` but bootstrap.min.css set `[hidden] { display: none !important; }` so we also need the `!important` here to be able to override the default hidden behavior on the sphinx rendered scikit-learn.org. See: https://github.com/scikit-learn/scikit-learn/issues/21755 */display: inline-block !important;position: relative;}#sk-container-id-5 div.sk-text-repr-fallback {display: none;}</style><div id=\"sk-container-id-5\" class=\"sk-top-container\"><div class=\"sk-text-repr-fallback\"><pre>SVR(degree=2, epsilon=0.2, kernel=&#x27;poly&#x27;)</pre><b>In a Jupyter environment, please rerun this cell to show the HTML representation or trust the notebook. <br />On GitHub, the HTML representation is unable to render, please try loading this page with nbviewer.org.</b></div><div class=\"sk-container\" hidden><div class=\"sk-item\"><div class=\"sk-estimator sk-toggleable\"><input class=\"sk-toggleable__control sk-hidden--visually\" id=\"sk-estimator-id-5\" type=\"checkbox\" checked><label for=\"sk-estimator-id-5\" class=\"sk-toggleable__label sk-toggleable__label-arrow\">SVR</label><div class=\"sk-toggleable__content\"><pre>SVR(degree=2, epsilon=0.2, kernel=&#x27;poly&#x27;)</pre></div></div></div></div></div>"
      ],
      "text/plain": [
       "SVR(degree=2, epsilon=0.2, kernel='poly')"
      ]
     },
     "execution_count": 37,
     "metadata": {},
     "output_type": "execute_result"
    }
   ],
   "source": [
    "svr_p2 = SVR(C=1.0, kernel='poly', degree =2, epsilon=0.2)\n",
    "svr_p2.fit(X_train_cut, y_train)"
   ]
  },
  {
   "cell_type": "code",
   "execution_count": 38,
   "id": "50732139-6971-44a9-9edc-7bc009a60e1f",
   "metadata": {
    "tags": []
   },
   "outputs": [],
   "source": [
    "y_pred = svr_p2.predict(X_test_cut)"
   ]
  },
  {
   "cell_type": "code",
   "execution_count": 39,
   "id": "907d28af-e47d-42c9-8833-3f4abc536727",
   "metadata": {
    "tags": []
   },
   "outputs": [],
   "source": [
    "# print('R2 score SVR 2nd degree poly kernel regression: %.3f' % svr_p2.score(X_test_cut,y_test))\n",
    "# print('Explained variance score: %.3f'  % metrics.explained_variance_score(y_test, y_pred))\n",
    "# print('MAE: % .3f' % mean_absolute_error(y_test, y_pred))"
   ]
  },
  {
   "cell_type": "code",
   "execution_count": 40,
   "id": "91c265bc-af83-4f21-aff4-22e024a71162",
   "metadata": {
    "tags": []
   },
   "outputs": [],
   "source": [
    "data= [[\n",
    "    'SVR poly2',\n",
    "    'unharm_mixed_svrp2.sav',\n",
    "    mean_absolute_error(y_test, y_pred),\n",
    "    svr_p2.score(X_test_cut,y_test),\n",
    "    metrics.explained_variance_score(y_test, y_pred)]]\n",
    "svr_p2_results = pd.DataFrame(data, columns=['algorithm','file_name','mae', 'r2', 'explained_variance'])\n",
    "#svr_p2_results"
   ]
  },
  {
   "cell_type": "code",
   "execution_count": 41,
   "id": "72a05520-00ef-4668-a23c-a373e0e5eb4a",
   "metadata": {
    "tags": []
   },
   "outputs": [],
   "source": [
    "svrp2_y_test = y_test\n",
    "svrp2_y_pred = y_pred\n",
    "svrp2_compare = pd.DataFrame(\n",
    "    {'y_test_real_age': svrp2_y_test,\n",
    "     'svrp2_y_pred_age': svrp2_y_pred,\n",
    "    })\n",
    "svrp2_compare = svrp2_compare.reset_index()\n",
    "#svrp2_compare"
   ]
  },
  {
   "cell_type": "code",
   "execution_count": 42,
   "id": "8a86a114-dc29-4a91-9c73-4c38a5aeb59f",
   "metadata": {
    "tags": []
   },
   "outputs": [
    {
     "data": {
      "text/html": [
       "<style>#sk-container-id-6 {color: black;background-color: white;}#sk-container-id-6 pre{padding: 0;}#sk-container-id-6 div.sk-toggleable {background-color: white;}#sk-container-id-6 label.sk-toggleable__label {cursor: pointer;display: block;width: 100%;margin-bottom: 0;padding: 0.3em;box-sizing: border-box;text-align: center;}#sk-container-id-6 label.sk-toggleable__label-arrow:before {content: \"▸\";float: left;margin-right: 0.25em;color: #696969;}#sk-container-id-6 label.sk-toggleable__label-arrow:hover:before {color: black;}#sk-container-id-6 div.sk-estimator:hover label.sk-toggleable__label-arrow:before {color: black;}#sk-container-id-6 div.sk-toggleable__content {max-height: 0;max-width: 0;overflow: hidden;text-align: left;background-color: #f0f8ff;}#sk-container-id-6 div.sk-toggleable__content pre {margin: 0.2em;color: black;border-radius: 0.25em;background-color: #f0f8ff;}#sk-container-id-6 input.sk-toggleable__control:checked~div.sk-toggleable__content {max-height: 200px;max-width: 100%;overflow: auto;}#sk-container-id-6 input.sk-toggleable__control:checked~label.sk-toggleable__label-arrow:before {content: \"▾\";}#sk-container-id-6 div.sk-estimator input.sk-toggleable__control:checked~label.sk-toggleable__label {background-color: #d4ebff;}#sk-container-id-6 div.sk-label input.sk-toggleable__control:checked~label.sk-toggleable__label {background-color: #d4ebff;}#sk-container-id-6 input.sk-hidden--visually {border: 0;clip: rect(1px 1px 1px 1px);clip: rect(1px, 1px, 1px, 1px);height: 1px;margin: -1px;overflow: hidden;padding: 0;position: absolute;width: 1px;}#sk-container-id-6 div.sk-estimator {font-family: monospace;background-color: #f0f8ff;border: 1px dotted black;border-radius: 0.25em;box-sizing: border-box;margin-bottom: 0.5em;}#sk-container-id-6 div.sk-estimator:hover {background-color: #d4ebff;}#sk-container-id-6 div.sk-parallel-item::after {content: \"\";width: 100%;border-bottom: 1px solid gray;flex-grow: 1;}#sk-container-id-6 div.sk-label:hover label.sk-toggleable__label {background-color: #d4ebff;}#sk-container-id-6 div.sk-serial::before {content: \"\";position: absolute;border-left: 1px solid gray;box-sizing: border-box;top: 0;bottom: 0;left: 50%;z-index: 0;}#sk-container-id-6 div.sk-serial {display: flex;flex-direction: column;align-items: center;background-color: white;padding-right: 0.2em;padding-left: 0.2em;position: relative;}#sk-container-id-6 div.sk-item {position: relative;z-index: 1;}#sk-container-id-6 div.sk-parallel {display: flex;align-items: stretch;justify-content: center;background-color: white;position: relative;}#sk-container-id-6 div.sk-item::before, #sk-container-id-6 div.sk-parallel-item::before {content: \"\";position: absolute;border-left: 1px solid gray;box-sizing: border-box;top: 0;bottom: 0;left: 50%;z-index: -1;}#sk-container-id-6 div.sk-parallel-item {display: flex;flex-direction: column;z-index: 1;position: relative;background-color: white;}#sk-container-id-6 div.sk-parallel-item:first-child::after {align-self: flex-end;width: 50%;}#sk-container-id-6 div.sk-parallel-item:last-child::after {align-self: flex-start;width: 50%;}#sk-container-id-6 div.sk-parallel-item:only-child::after {width: 0;}#sk-container-id-6 div.sk-dashed-wrapped {border: 1px dashed gray;margin: 0 0.4em 0.5em 0.4em;box-sizing: border-box;padding-bottom: 0.4em;background-color: white;}#sk-container-id-6 div.sk-label label {font-family: monospace;font-weight: bold;display: inline-block;line-height: 1.2em;}#sk-container-id-6 div.sk-label-container {text-align: center;}#sk-container-id-6 div.sk-container {/* jupyter's `normalize.less` sets `[hidden] { display: none; }` but bootstrap.min.css set `[hidden] { display: none !important; }` so we also need the `!important` here to be able to override the default hidden behavior on the sphinx rendered scikit-learn.org. See: https://github.com/scikit-learn/scikit-learn/issues/21755 */display: inline-block !important;position: relative;}#sk-container-id-6 div.sk-text-repr-fallback {display: none;}</style><div id=\"sk-container-id-6\" class=\"sk-top-container\"><div class=\"sk-text-repr-fallback\"><pre>ElasticNetCV(cv=5, random_state=12)</pre><b>In a Jupyter environment, please rerun this cell to show the HTML representation or trust the notebook. <br />On GitHub, the HTML representation is unable to render, please try loading this page with nbviewer.org.</b></div><div class=\"sk-container\" hidden><div class=\"sk-item\"><div class=\"sk-estimator sk-toggleable\"><input class=\"sk-toggleable__control sk-hidden--visually\" id=\"sk-estimator-id-6\" type=\"checkbox\" checked><label for=\"sk-estimator-id-6\" class=\"sk-toggleable__label sk-toggleable__label-arrow\">ElasticNetCV</label><div class=\"sk-toggleable__content\"><pre>ElasticNetCV(cv=5, random_state=12)</pre></div></div></div></div></div>"
      ],
      "text/plain": [
       "ElasticNetCV(cv=5, random_state=12)"
      ]
     },
     "execution_count": 42,
     "metadata": {},
     "output_type": "execute_result"
    }
   ],
   "source": [
    "eregr = ElasticNetCV(cv=5, random_state=12)\n",
    "eregr.fit(X_train_cut, y_train)"
   ]
  },
  {
   "cell_type": "code",
   "execution_count": 43,
   "id": "3a6f7a02-99e7-4d29-ba90-044f2f7c1191",
   "metadata": {
    "tags": []
   },
   "outputs": [],
   "source": [
    "y_pred = eregr.predict(X_test_cut)"
   ]
  },
  {
   "cell_type": "code",
   "execution_count": 44,
   "id": "802cd3a6-c6f9-4996-8870-99cd0737a385",
   "metadata": {
    "tags": []
   },
   "outputs": [],
   "source": [
    "# print('R2 score elasticnetcv regression: %.3f' % eregr.score(X_test_cut,y_test))\n",
    "# print('Explained variance score: %.3f'  % metrics.explained_variance_score(y_test, y_pred))\n",
    "# print('MAE: % .3f' % mean_absolute_error(y_test, y_pred))"
   ]
  },
  {
   "cell_type": "code",
   "execution_count": 45,
   "id": "d4ab0b70-ed51-4d4e-aa0e-c8f8852d434a",
   "metadata": {
    "tags": []
   },
   "outputs": [],
   "source": [
    "data= [[\n",
    "    'Elastic_netCV',\n",
    "    'unharm_mixed_eregr.sav',\n",
    "    mean_absolute_error(y_test, y_pred),\n",
    "    eregr.score(X_test_cut,y_test),\n",
    "    metrics.explained_variance_score(y_test, y_pred)]]\n",
    "eregr_results = pd.DataFrame(data, columns=['algorithm','file_name','mae', 'r2', 'explained_variance'])\n",
    "#eregr_results"
   ]
  },
  {
   "cell_type": "code",
   "execution_count": 46,
   "id": "f068be20-154a-4233-bacd-471bb1c4f5ea",
   "metadata": {
    "tags": []
   },
   "outputs": [],
   "source": [
    "eregr_y_test = y_test\n",
    "eregr_y_pred = y_pred\n",
    "eregr_compare = pd.DataFrame(\n",
    "    {'y_test_real_age': eregr_y_test,\n",
    "     'eregr_y_pred_age': eregr_y_pred,\n",
    "    })\n",
    "eregr_compare = eregr_compare.reset_index()\n",
    "#eregr_compare"
   ]
  },
  {
   "cell_type": "code",
   "execution_count": 47,
   "id": "5caad995-037d-4ede-b4ec-9e9bcf88f43f",
   "metadata": {
    "tags": []
   },
   "outputs": [
    {
     "data": {
      "text/html": [
       "<style>#sk-container-id-7 {color: black;background-color: white;}#sk-container-id-7 pre{padding: 0;}#sk-container-id-7 div.sk-toggleable {background-color: white;}#sk-container-id-7 label.sk-toggleable__label {cursor: pointer;display: block;width: 100%;margin-bottom: 0;padding: 0.3em;box-sizing: border-box;text-align: center;}#sk-container-id-7 label.sk-toggleable__label-arrow:before {content: \"▸\";float: left;margin-right: 0.25em;color: #696969;}#sk-container-id-7 label.sk-toggleable__label-arrow:hover:before {color: black;}#sk-container-id-7 div.sk-estimator:hover label.sk-toggleable__label-arrow:before {color: black;}#sk-container-id-7 div.sk-toggleable__content {max-height: 0;max-width: 0;overflow: hidden;text-align: left;background-color: #f0f8ff;}#sk-container-id-7 div.sk-toggleable__content pre {margin: 0.2em;color: black;border-radius: 0.25em;background-color: #f0f8ff;}#sk-container-id-7 input.sk-toggleable__control:checked~div.sk-toggleable__content {max-height: 200px;max-width: 100%;overflow: auto;}#sk-container-id-7 input.sk-toggleable__control:checked~label.sk-toggleable__label-arrow:before {content: \"▾\";}#sk-container-id-7 div.sk-estimator input.sk-toggleable__control:checked~label.sk-toggleable__label {background-color: #d4ebff;}#sk-container-id-7 div.sk-label input.sk-toggleable__control:checked~label.sk-toggleable__label {background-color: #d4ebff;}#sk-container-id-7 input.sk-hidden--visually {border: 0;clip: rect(1px 1px 1px 1px);clip: rect(1px, 1px, 1px, 1px);height: 1px;margin: -1px;overflow: hidden;padding: 0;position: absolute;width: 1px;}#sk-container-id-7 div.sk-estimator {font-family: monospace;background-color: #f0f8ff;border: 1px dotted black;border-radius: 0.25em;box-sizing: border-box;margin-bottom: 0.5em;}#sk-container-id-7 div.sk-estimator:hover {background-color: #d4ebff;}#sk-container-id-7 div.sk-parallel-item::after {content: \"\";width: 100%;border-bottom: 1px solid gray;flex-grow: 1;}#sk-container-id-7 div.sk-label:hover label.sk-toggleable__label {background-color: #d4ebff;}#sk-container-id-7 div.sk-serial::before {content: \"\";position: absolute;border-left: 1px solid gray;box-sizing: border-box;top: 0;bottom: 0;left: 50%;z-index: 0;}#sk-container-id-7 div.sk-serial {display: flex;flex-direction: column;align-items: center;background-color: white;padding-right: 0.2em;padding-left: 0.2em;position: relative;}#sk-container-id-7 div.sk-item {position: relative;z-index: 1;}#sk-container-id-7 div.sk-parallel {display: flex;align-items: stretch;justify-content: center;background-color: white;position: relative;}#sk-container-id-7 div.sk-item::before, #sk-container-id-7 div.sk-parallel-item::before {content: \"\";position: absolute;border-left: 1px solid gray;box-sizing: border-box;top: 0;bottom: 0;left: 50%;z-index: -1;}#sk-container-id-7 div.sk-parallel-item {display: flex;flex-direction: column;z-index: 1;position: relative;background-color: white;}#sk-container-id-7 div.sk-parallel-item:first-child::after {align-self: flex-end;width: 50%;}#sk-container-id-7 div.sk-parallel-item:last-child::after {align-self: flex-start;width: 50%;}#sk-container-id-7 div.sk-parallel-item:only-child::after {width: 0;}#sk-container-id-7 div.sk-dashed-wrapped {border: 1px dashed gray;margin: 0 0.4em 0.5em 0.4em;box-sizing: border-box;padding-bottom: 0.4em;background-color: white;}#sk-container-id-7 div.sk-label label {font-family: monospace;font-weight: bold;display: inline-block;line-height: 1.2em;}#sk-container-id-7 div.sk-label-container {text-align: center;}#sk-container-id-7 div.sk-container {/* jupyter's `normalize.less` sets `[hidden] { display: none; }` but bootstrap.min.css set `[hidden] { display: none !important; }` so we also need the `!important` here to be able to override the default hidden behavior on the sphinx rendered scikit-learn.org. See: https://github.com/scikit-learn/scikit-learn/issues/21755 */display: inline-block !important;position: relative;}#sk-container-id-7 div.sk-text-repr-fallback {display: none;}</style><div id=\"sk-container-id-7\" class=\"sk-top-container\"><div class=\"sk-text-repr-fallback\"><pre>ExtraTreesRegressor(random_state=0)</pre><b>In a Jupyter environment, please rerun this cell to show the HTML representation or trust the notebook. <br />On GitHub, the HTML representation is unable to render, please try loading this page with nbviewer.org.</b></div><div class=\"sk-container\" hidden><div class=\"sk-item\"><div class=\"sk-estimator sk-toggleable\"><input class=\"sk-toggleable__control sk-hidden--visually\" id=\"sk-estimator-id-7\" type=\"checkbox\" checked><label for=\"sk-estimator-id-7\" class=\"sk-toggleable__label sk-toggleable__label-arrow\">ExtraTreesRegressor</label><div class=\"sk-toggleable__content\"><pre>ExtraTreesRegressor(random_state=0)</pre></div></div></div></div></div>"
      ],
      "text/plain": [
       "ExtraTreesRegressor(random_state=0)"
      ]
     },
     "execution_count": 47,
     "metadata": {},
     "output_type": "execute_result"
    }
   ],
   "source": [
    "etreg = ExtraTreesRegressor(n_estimators=100, random_state=0)\n",
    "etreg.fit(X_train_cut, y_train)"
   ]
  },
  {
   "cell_type": "code",
   "execution_count": 48,
   "id": "2d15ae7b-7240-417f-92c0-55048c7258b2",
   "metadata": {
    "tags": []
   },
   "outputs": [],
   "source": [
    "y_pred = etreg.predict(X_test_cut)"
   ]
  },
  {
   "cell_type": "code",
   "execution_count": 49,
   "id": "d40d80ab-7ea3-4094-a75d-279e9f5526d9",
   "metadata": {
    "tags": []
   },
   "outputs": [],
   "source": [
    "# print('R2 score extra trees regression: %.3f' % etreg.score(X_test_cut,y_test))\n",
    "# print('Explained variance score: %.3f'  % metrics.explained_variance_score(y_test, y_pred))\n",
    "# print('MAE: % .3f' % mean_absolute_error(y_test, y_pred))"
   ]
  },
  {
   "cell_type": "code",
   "execution_count": 50,
   "id": "4cffada3-61a4-41fd-aa44-064c186daa2d",
   "metadata": {
    "tags": []
   },
   "outputs": [],
   "source": [
    "data= [[\n",
    "    'Extra trees',\n",
    "    'unharm_mixed_etreg.sav',\n",
    "    mean_absolute_error(y_test, y_pred),\n",
    "    etreg.score(X_test_cut,y_test),\n",
    "    metrics.explained_variance_score(y_test, y_pred)]]\n",
    "etreg_results = pd.DataFrame(data, columns=['algorithm','file_name','mae', 'r2', 'explained_variance'])\n",
    "#etreg_results"
   ]
  },
  {
   "cell_type": "code",
   "execution_count": 51,
   "id": "261b62e8-c03b-439e-9aaf-5242f0667212",
   "metadata": {
    "tags": []
   },
   "outputs": [],
   "source": [
    "etreg_y_test = y_test\n",
    "etreg_y_pred = y_pred\n",
    "etreg_compare = pd.DataFrame(\n",
    "    {'y_test_real_age': etreg_y_test,\n",
    "     'etreg_y_pred_age': etreg_y_pred,\n",
    "    })\n",
    "etreg_compare = etreg_compare.reset_index()\n",
    "#etreg_compare"
   ]
  },
  {
   "cell_type": "markdown",
   "id": "010653f4-8e57-454a-aaaf-4fa6991ab63c",
   "metadata": {},
   "source": [
    "Show results"
   ]
  },
  {
   "cell_type": "code",
   "execution_count": 52,
   "id": "23f651de-64b1-44c5-9bbb-ce606c51aa9f",
   "metadata": {
    "tags": []
   },
   "outputs": [
    {
     "data": {
      "text/html": [
       "<div>\n",
       "<style scoped>\n",
       "    .dataframe tbody tr th:only-of-type {\n",
       "        vertical-align: middle;\n",
       "    }\n",
       "\n",
       "    .dataframe tbody tr th {\n",
       "        vertical-align: top;\n",
       "    }\n",
       "\n",
       "    .dataframe thead th {\n",
       "        text-align: right;\n",
       "    }\n",
       "</style>\n",
       "<table border=\"1\" class=\"dataframe\">\n",
       "  <thead>\n",
       "    <tr style=\"text-align: right;\">\n",
       "      <th></th>\n",
       "      <th>algorithm</th>\n",
       "      <th>file_name</th>\n",
       "      <th>mae</th>\n",
       "      <th>r2</th>\n",
       "      <th>explained_variance</th>\n",
       "    </tr>\n",
       "  </thead>\n",
       "  <tbody>\n",
       "    <tr>\n",
       "      <th>0</th>\n",
       "      <td>linear regression</td>\n",
       "      <td>unharm_mixed_linr.sav</td>\n",
       "      <td>5.253070</td>\n",
       "      <td>0.861353</td>\n",
       "      <td>0.861373</td>\n",
       "    </tr>\n",
       "    <tr>\n",
       "      <th>0</th>\n",
       "      <td>lasso linear regression</td>\n",
       "      <td>unharm_mixed_lassor.sav</td>\n",
       "      <td>5.361406</td>\n",
       "      <td>0.856111</td>\n",
       "      <td>0.856167</td>\n",
       "    </tr>\n",
       "    <tr>\n",
       "      <th>0</th>\n",
       "      <td>decision tree</td>\n",
       "      <td>unharm_mixed_dtree.sav</td>\n",
       "      <td>6.543134</td>\n",
       "      <td>0.763440</td>\n",
       "      <td>0.763864</td>\n",
       "    </tr>\n",
       "    <tr>\n",
       "      <th>0</th>\n",
       "      <td>MLP regression</td>\n",
       "      <td>unharm_mixed_regr.sav</td>\n",
       "      <td>6.808033</td>\n",
       "      <td>0.773869</td>\n",
       "      <td>0.773880</td>\n",
       "    </tr>\n",
       "    <tr>\n",
       "      <th>0</th>\n",
       "      <td>SVR poly2</td>\n",
       "      <td>unharm_mixed_svrp2.sav</td>\n",
       "      <td>10.975952</td>\n",
       "      <td>0.437402</td>\n",
       "      <td>0.437957</td>\n",
       "    </tr>\n",
       "    <tr>\n",
       "      <th>0</th>\n",
       "      <td>Elastic_netCV</td>\n",
       "      <td>unharm_mixed_eregr.sav</td>\n",
       "      <td>7.369944</td>\n",
       "      <td>0.736649</td>\n",
       "      <td>0.737776</td>\n",
       "    </tr>\n",
       "    <tr>\n",
       "      <th>0</th>\n",
       "      <td>Extra trees</td>\n",
       "      <td>unharm_mixed_etreg.sav</td>\n",
       "      <td>4.743476</td>\n",
       "      <td>0.882034</td>\n",
       "      <td>0.882654</td>\n",
       "    </tr>\n",
       "  </tbody>\n",
       "</table>\n",
       "</div>"
      ],
      "text/plain": [
       "                 algorithm                file_name        mae        r2  \\\n",
       "0        linear regression    unharm_mixed_linr.sav   5.253070  0.861353   \n",
       "0  lasso linear regression  unharm_mixed_lassor.sav   5.361406  0.856111   \n",
       "0            decision tree   unharm_mixed_dtree.sav   6.543134  0.763440   \n",
       "0           MLP regression    unharm_mixed_regr.sav   6.808033  0.773869   \n",
       "0                SVR poly2   unharm_mixed_svrp2.sav  10.975952  0.437402   \n",
       "0            Elastic_netCV   unharm_mixed_eregr.sav   7.369944  0.736649   \n",
       "0              Extra trees   unharm_mixed_etreg.sav   4.743476  0.882034   \n",
       "\n",
       "   explained_variance  \n",
       "0            0.861373  \n",
       "0            0.856167  \n",
       "0            0.763864  \n",
       "0            0.773880  \n",
       "0            0.437957  \n",
       "0            0.737776  \n",
       "0            0.882654  "
      ]
     },
     "execution_count": 52,
     "metadata": {},
     "output_type": "execute_result"
    }
   ],
   "source": [
    "mixed_based_unharmonized_on_testmix =pd.concat([linr_results,\n",
    "                   llreg_results,\n",
    "                   dtree_results,\n",
    "                   regr_results,\n",
    "                   svr_p2_results,\n",
    "                   eregr_results,\n",
    "                  etreg_results],\n",
    "                  axis=0)\n",
    "mixed_based_unharmonized_on_testmix"
   ]
  },
  {
   "cell_type": "code",
   "execution_count": null,
   "id": "0c6e61e5-b314-4be9-bd69-a67a27f6146d",
   "metadata": {},
   "outputs": [],
   "source": []
  },
  {
   "cell_type": "code",
   "execution_count": 53,
   "id": "6c4ab177-23c4-4208-80da-dcaf0e565f5d",
   "metadata": {
    "tags": []
   },
   "outputs": [],
   "source": [
    "data_frames1 = [linr_compare, llreg_compare, dtree_compare,]# regr_compare, ]#etreg_compare, svrp2_compare,]\n",
    "real_versus_projected_y1 = reduce(lambda  left,right: pd.merge(left,right,on=[\"index\"],\n",
    "                                            how='outer'), data_frames1)\n",
    "#real_versus_projected_y1\n",
    "data_frames2 = [eregr_compare, svrp2_compare, etreg_compare,]\n",
    "real_versus_projected_y2 = reduce(lambda  left,right: pd.merge(left,right,on=[\"index\"],\n",
    "                                            how='outer'), data_frames2)\n",
    "#real_versus_projected_y2\n",
    "real_versus_projected_y2 = sep.drop_y(real_versus_projected_y2 )\n",
    "real_versus_projected_y1 = sep.drop_y(real_versus_projected_y1 )\n",
    "#real_versus_projected_y1"
   ]
  },
  {
   "cell_type": "code",
   "execution_count": 54,
   "id": "d3b786ff-21de-46bc-a4b2-5ca1f94f10b9",
   "metadata": {
    "tags": []
   },
   "outputs": [
    {
     "data": {
      "text/html": [
       "<div>\n",
       "<style scoped>\n",
       "    .dataframe tbody tr th:only-of-type {\n",
       "        vertical-align: middle;\n",
       "    }\n",
       "\n",
       "    .dataframe tbody tr th {\n",
       "        vertical-align: top;\n",
       "    }\n",
       "\n",
       "    .dataframe thead th {\n",
       "        text-align: right;\n",
       "    }\n",
       "</style>\n",
       "<table border=\"1\" class=\"dataframe\">\n",
       "  <thead>\n",
       "    <tr style=\"text-align: right;\">\n",
       "      <th></th>\n",
       "      <th>index</th>\n",
       "      <th>y_test_real_age_x_x</th>\n",
       "      <th>linr_y_pred_age</th>\n",
       "      <th>lasso_y_pred_age</th>\n",
       "      <th>y_test_real_age_x</th>\n",
       "      <th>dtree_y_pred_age</th>\n",
       "      <th>y_test_real_age_x_y</th>\n",
       "      <th>eregr_y_pred_age</th>\n",
       "      <th>svrp2_y_pred_age</th>\n",
       "      <th>y_test_real_age_y</th>\n",
       "      <th>etreg_y_pred_age</th>\n",
       "    </tr>\n",
       "  </thead>\n",
       "  <tbody>\n",
       "    <tr>\n",
       "      <th>0</th>\n",
       "      <td>0</td>\n",
       "      <td>29.42</td>\n",
       "      <td>25.628465</td>\n",
       "      <td>25.330146</td>\n",
       "      <td>29.42</td>\n",
       "      <td>38.890000</td>\n",
       "      <td>29.42</td>\n",
       "      <td>27.742639</td>\n",
       "      <td>29.816640</td>\n",
       "      <td>29.42</td>\n",
       "      <td>29.844436</td>\n",
       "    </tr>\n",
       "    <tr>\n",
       "      <th>1</th>\n",
       "      <td>1</td>\n",
       "      <td>37.50</td>\n",
       "      <td>32.650346</td>\n",
       "      <td>32.147437</td>\n",
       "      <td>37.50</td>\n",
       "      <td>51.353425</td>\n",
       "      <td>37.50</td>\n",
       "      <td>31.115372</td>\n",
       "      <td>40.351748</td>\n",
       "      <td>37.50</td>\n",
       "      <td>33.906639</td>\n",
       "    </tr>\n",
       "    <tr>\n",
       "      <th>2</th>\n",
       "      <td>2</td>\n",
       "      <td>31.61</td>\n",
       "      <td>33.951288</td>\n",
       "      <td>34.248512</td>\n",
       "      <td>31.61</td>\n",
       "      <td>31.940000</td>\n",
       "      <td>31.61</td>\n",
       "      <td>39.979275</td>\n",
       "      <td>49.406561</td>\n",
       "      <td>31.61</td>\n",
       "      <td>31.748603</td>\n",
       "    </tr>\n",
       "  </tbody>\n",
       "</table>\n",
       "</div>"
      ],
      "text/plain": [
       "   index  y_test_real_age_x_x  linr_y_pred_age  lasso_y_pred_age  \\\n",
       "0      0                29.42        25.628465         25.330146   \n",
       "1      1                37.50        32.650346         32.147437   \n",
       "2      2                31.61        33.951288         34.248512   \n",
       "\n",
       "   y_test_real_age_x  dtree_y_pred_age  y_test_real_age_x_y  eregr_y_pred_age  \\\n",
       "0              29.42         38.890000                29.42         27.742639   \n",
       "1              37.50         51.353425                37.50         31.115372   \n",
       "2              31.61         31.940000                31.61         39.979275   \n",
       "\n",
       "   svrp2_y_pred_age  y_test_real_age_y  etreg_y_pred_age  \n",
       "0         29.816640              29.42         29.844436  \n",
       "1         40.351748              37.50         33.906639  \n",
       "2         49.406561              31.61         31.748603  "
      ]
     },
     "execution_count": 54,
     "metadata": {},
     "output_type": "execute_result"
    }
   ],
   "source": [
    "data_frames3 = [real_versus_projected_y1, real_versus_projected_y2,]\n",
    "real_versus_projected_y3_mixed_on_mixed = reduce(lambda  left,right: pd.merge(left,right,on=[\"index\"],\n",
    "                                            how='outer'), data_frames3)\n",
    "real_versus_projected_y3_mixed_on_mixed.head(3)"
   ]
  },
  {
   "cell_type": "markdown",
   "id": "222453bb-be5e-49ab-a6d6-fc517455d231",
   "metadata": {},
   "source": [
    "## Save off models and csv (optional, must uncomment)"
   ]
  },
  {
   "cell_type": "code",
   "execution_count": 55,
   "id": "a6a6dac7-ac00-4ecd-b337-89a025c006e8",
   "metadata": {
    "tags": []
   },
   "outputs": [],
   "source": [
    "# # optionally save of csvs of algorithms and results\n",
    "# mixed_based_unharmonized_on_testmix.to_csv('mixed_based_unharmonized_on_mri.csv')\n",
    "# real_versus_projected_y3_mixed_on_mixed.to_csv('real_versus_projected_y3_mixed_on_mixed.csv')"
   ]
  },
  {
   "cell_type": "code",
   "execution_count": 56,
   "id": "e92a5088-213d-43aa-a4d6-57f9a423de28",
   "metadata": {
    "tags": []
   },
   "outputs": [],
   "source": [
    "# check if model folder exists and if not , then create\n",
    "model_folder = '../result_models/'\n",
    "if not os.path.exists(model_folder):\n",
    "    os.makedirs(model_folder)"
   ]
  },
  {
   "cell_type": "code",
   "execution_count": 57,
   "id": "84df2c8c-e56c-4600-803c-6b4c59aa66ea",
   "metadata": {
    "tags": []
   },
   "outputs": [],
   "source": [
    "# joblib.dump(linr, ('../result_models/'+ 'unharm_mixed_linr.sav'))\n",
    "# joblib.dump(llreg, ('../result_models/'+ 'unharm_mixed_lassor.sav'))\n",
    "# joblib.dump(dtree, ('../result_models/'+ 'unharm_mixed_dtree.sav'))\n",
    "# joblib.dump(regr, ('../result_models/'+'unharm_mixed_regr.sav'))\n",
    "# joblib.dump(svr_p2, ('../result_models/'+'unharm_mixed_svrp2.sav'))\n",
    "# joblib.dump(eregr, ('../result_models/'+ 'unharm_mixed_elasticnet.sav'))\n",
    "# joblib.dump(etreg, ('../result_models/'+ 'unharm_mixed_extratree.sav'))"
   ]
  },
  {
   "cell_type": "markdown",
   "id": "3564dee9-7ed4-4e52-afce-447a173946da",
   "metadata": {},
   "source": [
    "## Run models on other datasets (TOP, StrokeMRI)\n",
    "but without re-running the training data"
   ]
  },
  {
   "cell_type": "markdown",
   "id": "09bf11e8-12e1-4c65-9fe4-c206dc5e1427",
   "metadata": {},
   "source": [
    "# # Here we check that no rows are duplicated once patient IDs were pulled \n",
    "(if not we can map them back)"
   ]
  },
  {
   "cell_type": "code",
   "execution_count": 58,
   "id": "11e2c971-278c-43ca-847d-aa2e760d8ec3",
   "metadata": {
    "tags": []
   },
   "outputs": [
    {
     "data": {
      "text/plain": [
       "0"
      ]
     },
     "execution_count": 58,
     "metadata": {},
     "output_type": "execute_result"
    }
   ],
   "source": [
    "X_train_pandas = pd.DataFrame(X_train)\n",
    "X_train_pandas.duplicated().sum()"
   ]
  },
  {
   "cell_type": "markdown",
   "id": "d1d824a7-0b4d-48cb-8b81-d9110dbc4051",
   "metadata": {
    "tags": []
   },
   "source": [
    "top_ml_matrix\n",
    "needs to be mapped to top rows in X_train,\n",
    "we will use ese MD5 hashes"
   ]
  },
  {
   "cell_type": "markdown",
   "id": "ddc9c725-9485-4c29-8026-a05e59ca890c",
   "metadata": {},
   "source": [
    "now we need to make a dataframe of TOP minus what is in X_train"
   ]
  },
  {
   "cell_type": "code",
   "execution_count": 59,
   "id": "c7858f16-6fff-4f4c-aa5c-039c96f6ca3f",
   "metadata": {
    "tags": []
   },
   "outputs": [
    {
     "data": {
      "text/html": [
       "<div>\n",
       "<style scoped>\n",
       "    .dataframe tbody tr th:only-of-type {\n",
       "        vertical-align: middle;\n",
       "    }\n",
       "\n",
       "    .dataframe tbody tr th {\n",
       "        vertical-align: top;\n",
       "    }\n",
       "\n",
       "    .dataframe thead th {\n",
       "        text-align: right;\n",
       "    }\n",
       "</style>\n",
       "<table border=\"1\" class=\"dataframe\">\n",
       "  <thead>\n",
       "    <tr style=\"text-align: right;\">\n",
       "      <th></th>\n",
       "      <th>0</th>\n",
       "      <th>1</th>\n",
       "      <th>2</th>\n",
       "      <th>3</th>\n",
       "      <th>4</th>\n",
       "      <th>5</th>\n",
       "      <th>6</th>\n",
       "      <th>7</th>\n",
       "      <th>8</th>\n",
       "      <th>9</th>\n",
       "      <th>10</th>\n",
       "      <th>11</th>\n",
       "      <th>12</th>\n",
       "      <th>13</th>\n",
       "      <th>14</th>\n",
       "      <th>15</th>\n",
       "      <th>16</th>\n",
       "      <th>17</th>\n",
       "      <th>18</th>\n",
       "    </tr>\n",
       "  </thead>\n",
       "  <tbody>\n",
       "    <tr>\n",
       "      <th>0</th>\n",
       "      <td>sub-59168_2_ses-2_run-1</td>\n",
       "      <td>0</td>\n",
       "      <td>0.5728</td>\n",
       "      <td>0.44099</td>\n",
       "      <td>0.32872</td>\n",
       "      <td>0.42666</td>\n",
       "      <td>0.42666</td>\n",
       "      <td>2.694</td>\n",
       "      <td>27.0</td>\n",
       "      <td>5.7466</td>\n",
       "      <td>2.4044</td>\n",
       "      <td>1.9572</td>\n",
       "      <td>2.0226</td>\n",
       "      <td>2.0232</td>\n",
       "      <td>20.4581</td>\n",
       "      <td>62.7407</td>\n",
       "      <td>56.4464</td>\n",
       "      <td>44.0702</td>\n",
       "      <td>50.8079</td>\n",
       "    </tr>\n",
       "    <tr>\n",
       "      <th>1</th>\n",
       "      <td>sub-1109_1_ses-1_run-1</td>\n",
       "      <td>0</td>\n",
       "      <td>0.61626</td>\n",
       "      <td>0.4806</td>\n",
       "      <td>0.24631</td>\n",
       "      <td>0.45881</td>\n",
       "      <td>0.45881</td>\n",
       "      <td>2.364</td>\n",
       "      <td>17.0</td>\n",
       "      <td>7.0078</td>\n",
       "      <td>1.7119</td>\n",
       "      <td>1.6905</td>\n",
       "      <td>1.7671</td>\n",
       "      <td>1.6694</td>\n",
       "      <td>21.3399</td>\n",
       "      <td>64.97</td>\n",
       "      <td>56.4941</td>\n",
       "      <td>55.1801</td>\n",
       "      <td>56.3065</td>\n",
       "    </tr>\n",
       "    <tr>\n",
       "      <th>2</th>\n",
       "      <td>sub-59292_1_ses-1_run-1</td>\n",
       "      <td>0</td>\n",
       "      <td>0.59074</td>\n",
       "      <td>0.52605</td>\n",
       "      <td>0.34487</td>\n",
       "      <td>0.40416</td>\n",
       "      <td>0.40416</td>\n",
       "      <td>4.423</td>\n",
       "      <td>20.0</td>\n",
       "      <td>6.1642</td>\n",
       "      <td>1.6372</td>\n",
       "      <td>1.9432</td>\n",
       "      <td>1.8627</td>\n",
       "      <td>1.7752</td>\n",
       "      <td>31.6105</td>\n",
       "      <td>114.8866</td>\n",
       "      <td>98.6019</td>\n",
       "      <td>89.3701</td>\n",
       "      <td>92.8638</td>\n",
       "    </tr>\n",
       "  </tbody>\n",
       "</table>\n",
       "</div>"
      ],
      "text/plain": [
       "                        0  1        2        3        4        5        6   \\\n",
       "0  sub-59168_2_ses-2_run-1  0   0.5728  0.44099  0.32872  0.42666  0.42666   \n",
       "1   sub-1109_1_ses-1_run-1  0  0.61626   0.4806  0.24631  0.45881  0.45881   \n",
       "2  sub-59292_1_ses-1_run-1  0  0.59074  0.52605  0.34487  0.40416  0.40416   \n",
       "\n",
       "      7     8       9       10      11      12      13       14        15  \\\n",
       "0  2.694  27.0  5.7466  2.4044  1.9572  2.0226  2.0232  20.4581   62.7407   \n",
       "1  2.364  17.0  7.0078  1.7119  1.6905  1.7671  1.6694  21.3399     64.97   \n",
       "2  4.423  20.0  6.1642  1.6372  1.9432  1.8627  1.7752  31.6105  114.8866   \n",
       "\n",
       "        16       17       18  \n",
       "0  56.4464  44.0702  50.8079  \n",
       "1  56.4941  55.1801  56.3065  \n",
       "2  98.6019  89.3701  92.8638  "
      ]
     },
     "execution_count": 59,
     "metadata": {},
     "output_type": "execute_result"
    }
   ],
   "source": [
    "X_train_pandas.head(3)"
   ]
  },
  {
   "cell_type": "code",
   "execution_count": 60,
   "id": "3e50840c-74f8-4a4f-8fbc-969874418016",
   "metadata": {
    "tags": []
   },
   "outputs": [],
   "source": [
    "trained_subjects = set(X_train_pandas[0])\n",
    "#trained_subjects "
   ]
  },
  {
   "cell_type": "code",
   "execution_count": 61,
   "id": "4bcb0f94-5cf7-410d-a849-f6b6cc0abafa",
   "metadata": {
    "tags": []
   },
   "outputs": [],
   "source": [
    "TOP_subjects = set(TOP.participant_id)\n",
    "#TOP_subjects"
   ]
  },
  {
   "cell_type": "code",
   "execution_count": 62,
   "id": "fc60f509-54df-4c6e-baf4-edc7bc81b860",
   "metadata": {
    "tags": []
   },
   "outputs": [
    {
     "name": "stdout",
     "output_type": "stream",
     "text": [
      "132\n"
     ]
    }
   ],
   "source": [
    "# take trained subjects out of top subjects\n",
    "# we can use set math here\n",
    "new_top=(trained_subjects^TOP_subjects)&TOP_subjects\n",
    "print(len(new_top))\n",
    "#print(new_top)"
   ]
  },
  {
   "cell_type": "markdown",
   "id": "67e014ce-ad99-4c51-bcfb-7f1e575c154b",
   "metadata": {},
   "source": [
    "filter down to only top where they are in new_top set"
   ]
  },
  {
   "cell_type": "code",
   "execution_count": 63,
   "id": "7b2d287e-c721-4ee1-ba42-906c8a7a515b",
   "metadata": {
    "tags": []
   },
   "outputs": [
    {
     "data": {
      "text/html": [
       "<div>\n",
       "<style scoped>\n",
       "    .dataframe tbody tr th:only-of-type {\n",
       "        vertical-align: middle;\n",
       "    }\n",
       "\n",
       "    .dataframe tbody tr th {\n",
       "        vertical-align: top;\n",
       "    }\n",
       "\n",
       "    .dataframe thead th {\n",
       "        text-align: right;\n",
       "    }\n",
       "</style>\n",
       "<table border=\"1\" class=\"dataframe\">\n",
       "  <thead>\n",
       "    <tr style=\"text-align: right;\">\n",
       "      <th></th>\n",
       "      <th>participant_id</th>\n",
       "      <th>age</th>\n",
       "      <th>sex</th>\n",
       "      <th>gm_vol</th>\n",
       "      <th>wm_vol</th>\n",
       "      <th>csf_vol</th>\n",
       "      <th>gm_ivc_ratio</th>\n",
       "      <th>gmwm_ivc_ratio</th>\n",
       "      <th>wmh_vol</th>\n",
       "      <th>wmh_count</th>\n",
       "      <th>deepwm_b_cov</th>\n",
       "      <th>aca_b_cov</th>\n",
       "      <th>mca_b_cov</th>\n",
       "      <th>pca_b_cov</th>\n",
       "      <th>totalgm_b_cov</th>\n",
       "      <th>deepwm_b</th>\n",
       "      <th>aca_b</th>\n",
       "      <th>mca_b</th>\n",
       "      <th>pca_b</th>\n",
       "      <th>totalgm_b</th>\n",
       "    </tr>\n",
       "  </thead>\n",
       "  <tbody>\n",
       "    <tr>\n",
       "      <th>3</th>\n",
       "      <td>sub-0020_1_ses-1_run-1</td>\n",
       "      <td>21.97</td>\n",
       "      <td>0</td>\n",
       "      <td>0.67042</td>\n",
       "      <td>0.43458</td>\n",
       "      <td>0.25974</td>\n",
       "      <td>0.49124</td>\n",
       "      <td>0.49124</td>\n",
       "      <td>0.736</td>\n",
       "      <td>23.0</td>\n",
       "      <td>6.2080</td>\n",
       "      <td>1.8657</td>\n",
       "      <td>1.9092</td>\n",
       "      <td>1.6402</td>\n",
       "      <td>1.8734</td>\n",
       "      <td>27.1813</td>\n",
       "      <td>100.3259</td>\n",
       "      <td>90.7345</td>\n",
       "      <td>68.0812</td>\n",
       "      <td>79.1128</td>\n",
       "    </tr>\n",
       "    <tr>\n",
       "      <th>10</th>\n",
       "      <td>sub-0033_1_ses-1_run-1</td>\n",
       "      <td>29.21</td>\n",
       "      <td>1</td>\n",
       "      <td>0.59992</td>\n",
       "      <td>0.43360</td>\n",
       "      <td>0.24903</td>\n",
       "      <td>0.46776</td>\n",
       "      <td>0.46776</td>\n",
       "      <td>1.067</td>\n",
       "      <td>14.0</td>\n",
       "      <td>7.9519</td>\n",
       "      <td>1.7067</td>\n",
       "      <td>2.2134</td>\n",
       "      <td>1.9870</td>\n",
       "      <td>1.9942</td>\n",
       "      <td>23.9504</td>\n",
       "      <td>93.1921</td>\n",
       "      <td>86.2951</td>\n",
       "      <td>74.0285</td>\n",
       "      <td>78.9537</td>\n",
       "    </tr>\n",
       "    <tr>\n",
       "      <th>12</th>\n",
       "      <td>sub-0035_1_ses-1_run-1</td>\n",
       "      <td>31.25</td>\n",
       "      <td>1</td>\n",
       "      <td>0.70624</td>\n",
       "      <td>0.55290</td>\n",
       "      <td>0.27722</td>\n",
       "      <td>0.45968</td>\n",
       "      <td>0.45968</td>\n",
       "      <td>2.573</td>\n",
       "      <td>21.0</td>\n",
       "      <td>9.3348</td>\n",
       "      <td>1.6970</td>\n",
       "      <td>2.0326</td>\n",
       "      <td>1.8642</td>\n",
       "      <td>1.9049</td>\n",
       "      <td>24.3174</td>\n",
       "      <td>104.1033</td>\n",
       "      <td>95.0303</td>\n",
       "      <td>67.9324</td>\n",
       "      <td>79.9913</td>\n",
       "    </tr>\n",
       "    <tr>\n",
       "      <th>13</th>\n",
       "      <td>sub-0036_1_ses-1_run-1</td>\n",
       "      <td>44.57</td>\n",
       "      <td>1</td>\n",
       "      <td>0.78839</td>\n",
       "      <td>0.66709</td>\n",
       "      <td>0.41974</td>\n",
       "      <td>0.42043</td>\n",
       "      <td>0.42043</td>\n",
       "      <td>2.687</td>\n",
       "      <td>27.0</td>\n",
       "      <td>9.4991</td>\n",
       "      <td>1.6870</td>\n",
       "      <td>1.8951</td>\n",
       "      <td>1.9739</td>\n",
       "      <td>1.8552</td>\n",
       "      <td>27.5337</td>\n",
       "      <td>94.3162</td>\n",
       "      <td>89.4557</td>\n",
       "      <td>68.0983</td>\n",
       "      <td>79.6752</td>\n",
       "    </tr>\n",
       "    <tr>\n",
       "      <th>14</th>\n",
       "      <td>sub-0037_1_ses-1_run-1</td>\n",
       "      <td>46.06</td>\n",
       "      <td>0</td>\n",
       "      <td>0.65670</td>\n",
       "      <td>0.57055</td>\n",
       "      <td>0.37825</td>\n",
       "      <td>0.40903</td>\n",
       "      <td>0.40903</td>\n",
       "      <td>2.759</td>\n",
       "      <td>25.0</td>\n",
       "      <td>5.6076</td>\n",
       "      <td>2.1001</td>\n",
       "      <td>2.0220</td>\n",
       "      <td>2.5060</td>\n",
       "      <td>2.4160</td>\n",
       "      <td>23.8801</td>\n",
       "      <td>69.8487</td>\n",
       "      <td>60.6050</td>\n",
       "      <td>41.0306</td>\n",
       "      <td>50.2663</td>\n",
       "    </tr>\n",
       "    <tr>\n",
       "      <th>...</th>\n",
       "      <td>...</td>\n",
       "      <td>...</td>\n",
       "      <td>...</td>\n",
       "      <td>...</td>\n",
       "      <td>...</td>\n",
       "      <td>...</td>\n",
       "      <td>...</td>\n",
       "      <td>...</td>\n",
       "      <td>...</td>\n",
       "      <td>...</td>\n",
       "      <td>...</td>\n",
       "      <td>...</td>\n",
       "      <td>...</td>\n",
       "      <td>...</td>\n",
       "      <td>...</td>\n",
       "      <td>...</td>\n",
       "      <td>...</td>\n",
       "      <td>...</td>\n",
       "      <td>...</td>\n",
       "      <td>...</td>\n",
       "    </tr>\n",
       "    <tr>\n",
       "      <th>508</th>\n",
       "      <td>sub-1139_1_ses-1_run-1</td>\n",
       "      <td>44.44</td>\n",
       "      <td>1</td>\n",
       "      <td>0.69288</td>\n",
       "      <td>0.61756</td>\n",
       "      <td>0.30975</td>\n",
       "      <td>0.42765</td>\n",
       "      <td>0.42765</td>\n",
       "      <td>6.074</td>\n",
       "      <td>23.0</td>\n",
       "      <td>8.2863</td>\n",
       "      <td>1.9019</td>\n",
       "      <td>1.8616</td>\n",
       "      <td>1.6780</td>\n",
       "      <td>1.9797</td>\n",
       "      <td>25.6606</td>\n",
       "      <td>94.1454</td>\n",
       "      <td>81.4243</td>\n",
       "      <td>57.0763</td>\n",
       "      <td>70.0432</td>\n",
       "    </tr>\n",
       "    <tr>\n",
       "      <th>512</th>\n",
       "      <td>sub-1149_1_ses-1_run-1</td>\n",
       "      <td>31.61</td>\n",
       "      <td>1</td>\n",
       "      <td>0.74811</td>\n",
       "      <td>0.57229</td>\n",
       "      <td>0.27552</td>\n",
       "      <td>0.46876</td>\n",
       "      <td>0.46876</td>\n",
       "      <td>1.642</td>\n",
       "      <td>19.0</td>\n",
       "      <td>9.0315</td>\n",
       "      <td>2.0425</td>\n",
       "      <td>2.0859</td>\n",
       "      <td>1.4591</td>\n",
       "      <td>1.9126</td>\n",
       "      <td>19.7793</td>\n",
       "      <td>70.8518</td>\n",
       "      <td>63.2505</td>\n",
       "      <td>45.3822</td>\n",
       "      <td>55.2508</td>\n",
       "    </tr>\n",
       "    <tr>\n",
       "      <th>513</th>\n",
       "      <td>sub-1152_1_ses-1_run-1</td>\n",
       "      <td>29.42</td>\n",
       "      <td>1</td>\n",
       "      <td>0.82354</td>\n",
       "      <td>0.59415</td>\n",
       "      <td>0.36183</td>\n",
       "      <td>0.46279</td>\n",
       "      <td>0.46279</td>\n",
       "      <td>0.867</td>\n",
       "      <td>15.0</td>\n",
       "      <td>8.1299</td>\n",
       "      <td>2.2361</td>\n",
       "      <td>2.3858</td>\n",
       "      <td>1.8466</td>\n",
       "      <td>2.3558</td>\n",
       "      <td>27.6770</td>\n",
       "      <td>118.4624</td>\n",
       "      <td>104.2936</td>\n",
       "      <td>75.2855</td>\n",
       "      <td>93.1837</td>\n",
       "    </tr>\n",
       "    <tr>\n",
       "      <th>519</th>\n",
       "      <td>sub-1159_1_ses-1_run-1</td>\n",
       "      <td>36.76</td>\n",
       "      <td>0</td>\n",
       "      <td>0.74380</td>\n",
       "      <td>0.52266</td>\n",
       "      <td>0.30226</td>\n",
       "      <td>0.47414</td>\n",
       "      <td>0.47414</td>\n",
       "      <td>1.144</td>\n",
       "      <td>18.0</td>\n",
       "      <td>7.6305</td>\n",
       "      <td>1.6827</td>\n",
       "      <td>1.9455</td>\n",
       "      <td>1.9445</td>\n",
       "      <td>1.9204</td>\n",
       "      <td>26.7737</td>\n",
       "      <td>90.4672</td>\n",
       "      <td>82.6515</td>\n",
       "      <td>72.8932</td>\n",
       "      <td>76.7546</td>\n",
       "    </tr>\n",
       "    <tr>\n",
       "      <th>526</th>\n",
       "      <td>sub-1169_1_ses-1_run-1</td>\n",
       "      <td>34.05</td>\n",
       "      <td>0</td>\n",
       "      <td>0.67941</td>\n",
       "      <td>0.50902</td>\n",
       "      <td>0.30031</td>\n",
       "      <td>0.45637</td>\n",
       "      <td>0.45637</td>\n",
       "      <td>2.023</td>\n",
       "      <td>24.0</td>\n",
       "      <td>7.0039</td>\n",
       "      <td>1.9012</td>\n",
       "      <td>2.1499</td>\n",
       "      <td>2.0002</td>\n",
       "      <td>2.2066</td>\n",
       "      <td>20.6251</td>\n",
       "      <td>74.1970</td>\n",
       "      <td>70.7366</td>\n",
       "      <td>46.0536</td>\n",
       "      <td>57.9078</td>\n",
       "    </tr>\n",
       "  </tbody>\n",
       "</table>\n",
       "<p>132 rows × 20 columns</p>\n",
       "</div>"
      ],
      "text/plain": [
       "             participant_id    age  sex   gm_vol   wm_vol  csf_vol  \\\n",
       "3    sub-0020_1_ses-1_run-1  21.97    0  0.67042  0.43458  0.25974   \n",
       "10   sub-0033_1_ses-1_run-1  29.21    1  0.59992  0.43360  0.24903   \n",
       "12   sub-0035_1_ses-1_run-1  31.25    1  0.70624  0.55290  0.27722   \n",
       "13   sub-0036_1_ses-1_run-1  44.57    1  0.78839  0.66709  0.41974   \n",
       "14   sub-0037_1_ses-1_run-1  46.06    0  0.65670  0.57055  0.37825   \n",
       "..                      ...    ...  ...      ...      ...      ...   \n",
       "508  sub-1139_1_ses-1_run-1  44.44    1  0.69288  0.61756  0.30975   \n",
       "512  sub-1149_1_ses-1_run-1  31.61    1  0.74811  0.57229  0.27552   \n",
       "513  sub-1152_1_ses-1_run-1  29.42    1  0.82354  0.59415  0.36183   \n",
       "519  sub-1159_1_ses-1_run-1  36.76    0  0.74380  0.52266  0.30226   \n",
       "526  sub-1169_1_ses-1_run-1  34.05    0  0.67941  0.50902  0.30031   \n",
       "\n",
       "     gm_ivc_ratio  gmwm_ivc_ratio  wmh_vol  wmh_count  deepwm_b_cov  \\\n",
       "3         0.49124         0.49124    0.736       23.0        6.2080   \n",
       "10        0.46776         0.46776    1.067       14.0        7.9519   \n",
       "12        0.45968         0.45968    2.573       21.0        9.3348   \n",
       "13        0.42043         0.42043    2.687       27.0        9.4991   \n",
       "14        0.40903         0.40903    2.759       25.0        5.6076   \n",
       "..            ...             ...      ...        ...           ...   \n",
       "508       0.42765         0.42765    6.074       23.0        8.2863   \n",
       "512       0.46876         0.46876    1.642       19.0        9.0315   \n",
       "513       0.46279         0.46279    0.867       15.0        8.1299   \n",
       "519       0.47414         0.47414    1.144       18.0        7.6305   \n",
       "526       0.45637         0.45637    2.023       24.0        7.0039   \n",
       "\n",
       "     aca_b_cov  mca_b_cov  pca_b_cov  totalgm_b_cov  deepwm_b     aca_b  \\\n",
       "3       1.8657     1.9092     1.6402         1.8734   27.1813  100.3259   \n",
       "10      1.7067     2.2134     1.9870         1.9942   23.9504   93.1921   \n",
       "12      1.6970     2.0326     1.8642         1.9049   24.3174  104.1033   \n",
       "13      1.6870     1.8951     1.9739         1.8552   27.5337   94.3162   \n",
       "14      2.1001     2.0220     2.5060         2.4160   23.8801   69.8487   \n",
       "..         ...        ...        ...            ...       ...       ...   \n",
       "508     1.9019     1.8616     1.6780         1.9797   25.6606   94.1454   \n",
       "512     2.0425     2.0859     1.4591         1.9126   19.7793   70.8518   \n",
       "513     2.2361     2.3858     1.8466         2.3558   27.6770  118.4624   \n",
       "519     1.6827     1.9455     1.9445         1.9204   26.7737   90.4672   \n",
       "526     1.9012     2.1499     2.0002         2.2066   20.6251   74.1970   \n",
       "\n",
       "        mca_b    pca_b  totalgm_b  \n",
       "3     90.7345  68.0812    79.1128  \n",
       "10    86.2951  74.0285    78.9537  \n",
       "12    95.0303  67.9324    79.9913  \n",
       "13    89.4557  68.0983    79.6752  \n",
       "14    60.6050  41.0306    50.2663  \n",
       "..        ...      ...        ...  \n",
       "508   81.4243  57.0763    70.0432  \n",
       "512   63.2505  45.3822    55.2508  \n",
       "513  104.2936  75.2855    93.1837  \n",
       "519   82.6515  72.8932    76.7546  \n",
       "526   70.7366  46.0536    57.9078  \n",
       "\n",
       "[132 rows x 20 columns]"
      ]
     },
     "execution_count": 63,
     "metadata": {},
     "output_type": "execute_result"
    }
   ],
   "source": [
    "TOP_new = TOP[TOP['participant_id'].isin(list(new_top))]\n",
    "TOP_new"
   ]
  },
  {
   "cell_type": "code",
   "execution_count": 64,
   "id": "a9a1641f-afe5-4c48-ac0c-d4af9d507315",
   "metadata": {
    "tags": []
   },
   "outputs": [],
   "source": [
    "top_ml_matrix = TOP_new.drop('participant_id', axis=1) \n",
    "\n",
    "X_top = top_ml_matrix.drop('age', axis =1)\n",
    "\n",
    "X_top = X_top.values\n",
    "X_top = X_top.astype('float')\n",
    "y_top = top_ml_matrix['age'].values\n",
    "y_top=y_top.astype('float')"
   ]
  },
  {
   "cell_type": "code",
   "execution_count": 65,
   "id": "93f90ccb-465b-4fa4-b563-c0ea604f2ba0",
   "metadata": {
    "tags": []
   },
   "outputs": [],
   "source": [
    "X_top_test = X_top\n",
    "y_top_test = y_top"
   ]
  },
  {
   "cell_type": "code",
   "execution_count": 66,
   "id": "0f0f0f7c-238d-4416-b7cc-853d7a49f438",
   "metadata": {
    "tags": []
   },
   "outputs": [],
   "source": [
    "y_top_pred = linr.predict(X_top_test)"
   ]
  },
  {
   "cell_type": "code",
   "execution_count": 67,
   "id": "d363eb17-ac89-475e-aca5-21e6e657bcf6",
   "metadata": {
    "tags": []
   },
   "outputs": [
    {
     "name": "stdout",
     "output_type": "stream",
     "text": [
      "R2 score Linear regression: 0.549\n",
      "Explained variance score: 0.592\n",
      "The mean absolute error: 5.005\n"
     ]
    }
   ],
   "source": [
    "print('R2 score Linear regression: %.3f' % linr.score(X_top_test,y_top_test))\n",
    "print('Explained variance score: %.3f'  % metrics.explained_variance_score(y_top_test, y_top_pred))\n",
    "print('The mean absolute error: %.3f' % mean_absolute_error(y_top_test, y_top_pred))"
   ]
  },
  {
   "cell_type": "code",
   "execution_count": 68,
   "id": "267bb825-839d-4010-8af3-1e742adf9ef3",
   "metadata": {
    "tags": []
   },
   "outputs": [
    {
     "data": {
      "text/html": [
       "<div>\n",
       "<style scoped>\n",
       "    .dataframe tbody tr th:only-of-type {\n",
       "        vertical-align: middle;\n",
       "    }\n",
       "\n",
       "    .dataframe tbody tr th {\n",
       "        vertical-align: top;\n",
       "    }\n",
       "\n",
       "    .dataframe thead th {\n",
       "        text-align: right;\n",
       "    }\n",
       "</style>\n",
       "<table border=\"1\" class=\"dataframe\">\n",
       "  <thead>\n",
       "    <tr style=\"text-align: right;\">\n",
       "      <th></th>\n",
       "      <th>algorithm</th>\n",
       "      <th>file_name</th>\n",
       "      <th>mae</th>\n",
       "      <th>r2</th>\n",
       "      <th>explained_variance</th>\n",
       "    </tr>\n",
       "  </thead>\n",
       "  <tbody>\n",
       "    <tr>\n",
       "      <th>0</th>\n",
       "      <td>linear regression</td>\n",
       "      <td>unharm_mixed_linr.sav</td>\n",
       "      <td>5.005188</td>\n",
       "      <td>0.549408</td>\n",
       "      <td>0.592446</td>\n",
       "    </tr>\n",
       "  </tbody>\n",
       "</table>\n",
       "</div>"
      ],
      "text/plain": [
       "           algorithm              file_name       mae        r2  \\\n",
       "0  linear regression  unharm_mixed_linr.sav  5.005188  0.549408   \n",
       "\n",
       "   explained_variance  \n",
       "0            0.592446  "
      ]
     },
     "execution_count": 68,
     "metadata": {},
     "output_type": "execute_result"
    }
   ],
   "source": [
    "data= [[\n",
    "    'linear regression',\n",
    "    'unharm_mixed_linr.sav',\n",
    "    mean_absolute_error(y_top_test, y_top_pred),\n",
    "    linr.score(X_top_test,y_top_test),\n",
    "    metrics.explained_variance_score(y_top_test, y_top_pred)]]\n",
    "linr_results_top = pd.DataFrame(data, columns=['algorithm','file_name','mae', 'r2', 'explained_variance'])\n",
    "linr_results_top"
   ]
  },
  {
   "cell_type": "code",
   "execution_count": 69,
   "id": "b8c8d3d6-935a-4270-88a5-0a1241154f22",
   "metadata": {
    "tags": []
   },
   "outputs": [],
   "source": [
    "linr_y_test = y_top_test\n",
    "linr_y_pred = y_top_pred\n",
    "linr_compare = pd.DataFrame(\n",
    "    {'y_test_real_age': linr_y_test,\n",
    "     'linr_y_pred_age': linr_y_pred,\n",
    "    })\n",
    "linr_compare = linr_compare.reset_index()\n",
    "#linr_compare"
   ]
  },
  {
   "cell_type": "code",
   "execution_count": 70,
   "id": "f7d16438-153f-4786-97f5-fabcd01a6866",
   "metadata": {},
   "outputs": [],
   "source": [
    "y_top_pred = llreg.predict(X_top_test)"
   ]
  },
  {
   "cell_type": "code",
   "execution_count": 71,
   "id": "dc629155-5f4e-40a6-b0b0-299be6d2cd90",
   "metadata": {},
   "outputs": [
    {
     "name": "stdout",
     "output_type": "stream",
     "text": [
      "R2 score Lasso linear regression: 0.530\n",
      "Explained variance score: 0.575\n",
      "The mean absolute error: 5.103\n"
     ]
    }
   ],
   "source": [
    "print('R2 score Lasso linear regression: %.3f' % llreg.score(X_top_test,y_top_test))\n",
    "print('Explained variance score: %.3f'  % metrics.explained_variance_score(y_top_test, y_top_pred))\n",
    "print('The mean absolute error: %.3f' % mean_absolute_error(y_top_test, y_top_pred))"
   ]
  },
  {
   "cell_type": "code",
   "execution_count": null,
   "id": "f5c0d01d-4506-459b-9453-e0fe7746fbca",
   "metadata": {},
   "outputs": [],
   "source": []
  },
  {
   "cell_type": "code",
   "execution_count": 72,
   "id": "fad5a217-84ed-4b0b-8497-e9857aa654e4",
   "metadata": {
    "tags": []
   },
   "outputs": [
    {
     "data": {
      "text/html": [
       "<div>\n",
       "<style scoped>\n",
       "    .dataframe tbody tr th:only-of-type {\n",
       "        vertical-align: middle;\n",
       "    }\n",
       "\n",
       "    .dataframe tbody tr th {\n",
       "        vertical-align: top;\n",
       "    }\n",
       "\n",
       "    .dataframe thead th {\n",
       "        text-align: right;\n",
       "    }\n",
       "</style>\n",
       "<table border=\"1\" class=\"dataframe\">\n",
       "  <thead>\n",
       "    <tr style=\"text-align: right;\">\n",
       "      <th></th>\n",
       "      <th>algorithm</th>\n",
       "      <th>file_name</th>\n",
       "      <th>mae</th>\n",
       "      <th>r2</th>\n",
       "      <th>explained_variance</th>\n",
       "    </tr>\n",
       "  </thead>\n",
       "  <tbody>\n",
       "    <tr>\n",
       "      <th>0</th>\n",
       "      <td>lasso regression</td>\n",
       "      <td>unharm_mixed_llregr.sav</td>\n",
       "      <td>5.102596</td>\n",
       "      <td>0.529979</td>\n",
       "      <td>0.574695</td>\n",
       "    </tr>\n",
       "  </tbody>\n",
       "</table>\n",
       "</div>"
      ],
      "text/plain": [
       "          algorithm                file_name       mae        r2  \\\n",
       "0  lasso regression  unharm_mixed_llregr.sav  5.102596  0.529979   \n",
       "\n",
       "   explained_variance  \n",
       "0            0.574695  "
      ]
     },
     "execution_count": 72,
     "metadata": {},
     "output_type": "execute_result"
    }
   ],
   "source": [
    "data= [[\n",
    "    'lasso regression',\n",
    "    'unharm_mixed_llregr.sav',\n",
    "    mean_absolute_error(y_top_test, y_top_pred),\n",
    "    llreg.score(X_top_test,y_top_test),\n",
    "    metrics.explained_variance_score(y_top_test, y_top_pred)]]\n",
    "llreg_results_top = pd.DataFrame(data, columns=['algorithm','file_name','mae', 'r2', 'explained_variance'])\n",
    "llreg_results_top"
   ]
  },
  {
   "cell_type": "code",
   "execution_count": 73,
   "id": "e32ddcd6-a391-4545-961e-4760c47acde5",
   "metadata": {
    "tags": []
   },
   "outputs": [],
   "source": [
    "llreg_y_test = y_top_test\n",
    "llreg_y_pred = y_top_pred\n",
    "llreg_compare = pd.DataFrame(\n",
    "    {'y_test_real_age': llreg_y_test,\n",
    "     'linr_y_pred_age': llreg_y_pred,\n",
    "    })\n",
    "llreg_compare = llreg_compare.reset_index()\n",
    "#llreg_compare"
   ]
  },
  {
   "cell_type": "code",
   "execution_count": 74,
   "id": "2f8161ef-c2f3-4654-a60d-2182cf1779f0",
   "metadata": {
    "tags": []
   },
   "outputs": [],
   "source": [
    "y_top_pred = dtree.predict(X_top_test)"
   ]
  },
  {
   "cell_type": "code",
   "execution_count": 75,
   "id": "e5b8d534-47cc-408b-88ba-fb0cec6ab419",
   "metadata": {
    "tags": []
   },
   "outputs": [
    {
     "name": "stdout",
     "output_type": "stream",
     "text": [
      "R2 score decision tree regression: 0.079\n",
      "Explained variance score: 0.195\n",
      "The mean absolute error: 6.821\n"
     ]
    }
   ],
   "source": [
    "print('R2 score decision tree regression: %.3f' % dtree.score(X_top_test,y_top_test))\n",
    "print('Explained variance score: %.3f'  % metrics.explained_variance_score(y_top_test, y_top_pred))\n",
    "print('The mean absolute error: %.3f' % mean_absolute_error(y_top_test, y_top_pred))"
   ]
  },
  {
   "cell_type": "code",
   "execution_count": null,
   "id": "c94cbf41-afed-4c15-85f8-d42c0c47f811",
   "metadata": {},
   "outputs": [],
   "source": []
  },
  {
   "cell_type": "code",
   "execution_count": 76,
   "id": "f19c19ca-d913-4d79-8ae4-2758ab843662",
   "metadata": {
    "tags": []
   },
   "outputs": [
    {
     "data": {
      "text/html": [
       "<div>\n",
       "<style scoped>\n",
       "    .dataframe tbody tr th:only-of-type {\n",
       "        vertical-align: middle;\n",
       "    }\n",
       "\n",
       "    .dataframe tbody tr th {\n",
       "        vertical-align: top;\n",
       "    }\n",
       "\n",
       "    .dataframe thead th {\n",
       "        text-align: right;\n",
       "    }\n",
       "</style>\n",
       "<table border=\"1\" class=\"dataframe\">\n",
       "  <thead>\n",
       "    <tr style=\"text-align: right;\">\n",
       "      <th></th>\n",
       "      <th>algorithm</th>\n",
       "      <th>file_name</th>\n",
       "      <th>mae</th>\n",
       "      <th>r2</th>\n",
       "      <th>explained_variance</th>\n",
       "    </tr>\n",
       "  </thead>\n",
       "  <tbody>\n",
       "    <tr>\n",
       "      <th>0</th>\n",
       "      <td>decision tree</td>\n",
       "      <td>unharm_mixed_dtree.sav</td>\n",
       "      <td>6.820605</td>\n",
       "      <td>0.079168</td>\n",
       "      <td>0.19454</td>\n",
       "    </tr>\n",
       "  </tbody>\n",
       "</table>\n",
       "</div>"
      ],
      "text/plain": [
       "       algorithm               file_name       mae        r2  \\\n",
       "0  decision tree  unharm_mixed_dtree.sav  6.820605  0.079168   \n",
       "\n",
       "   explained_variance  \n",
       "0             0.19454  "
      ]
     },
     "execution_count": 76,
     "metadata": {},
     "output_type": "execute_result"
    }
   ],
   "source": [
    "data= [[\n",
    "    'decision tree',\n",
    "    'unharm_mixed_dtree.sav',\n",
    "    mean_absolute_error(y_top_test, y_top_pred),\n",
    "    dtree.score(X_top_test,y_top_test),\n",
    "    metrics.explained_variance_score(y_top_test, y_top_pred)]]\n",
    "dtree_results_top = pd.DataFrame(data, columns=['algorithm','file_name','mae', 'r2', 'explained_variance'])\n",
    "dtree_results_top"
   ]
  },
  {
   "cell_type": "code",
   "execution_count": 77,
   "id": "2ea3cc21-fd5d-4695-ab89-0ad4554c585e",
   "metadata": {
    "tags": []
   },
   "outputs": [],
   "source": [
    "dtree_y_test = y_top_test\n",
    "dtree_y_pred = y_top_pred\n",
    "dtree_compare = pd.DataFrame(\n",
    "    {'y_test_real_age': dtree_y_test,\n",
    "     'linr_y_pred_age': dtree_y_pred,\n",
    "    })\n",
    "dtree_compare = linr_compare.reset_index()\n",
    "#dtree_compare"
   ]
  },
  {
   "cell_type": "code",
   "execution_count": 78,
   "id": "9275589e-dd8d-43c0-b5ff-b3873b063e7c",
   "metadata": {
    "tags": []
   },
   "outputs": [],
   "source": [
    "y_top_pred = eregr.predict(X_top_test)"
   ]
  },
  {
   "cell_type": "code",
   "execution_count": 79,
   "id": "fc8c1e25-4778-44df-b81c-9cd0dbcbc40b",
   "metadata": {
    "tags": []
   },
   "outputs": [
    {
     "name": "stdout",
     "output_type": "stream",
     "text": [
      "R2 score ElasticnetCV regression: 0.085\n",
      "Explained variance score: 0.171\n",
      "The mean absolute error: 7.100\n"
     ]
    }
   ],
   "source": [
    "print('R2 score ElasticnetCV regression: %.3f' % eregr.score(X_top_test,y_top_test))\n",
    "print('Explained variance score: %.3f'  % metrics.explained_variance_score(y_top_test, y_top_pred))\n",
    "print('The mean absolute error: %.3f' % mean_absolute_error(y_top_test, y_top_pred))"
   ]
  },
  {
   "cell_type": "code",
   "execution_count": 80,
   "id": "00147bec-b609-442e-9d1e-f545e16405ef",
   "metadata": {
    "tags": []
   },
   "outputs": [
    {
     "data": {
      "text/html": [
       "<div>\n",
       "<style scoped>\n",
       "    .dataframe tbody tr th:only-of-type {\n",
       "        vertical-align: middle;\n",
       "    }\n",
       "\n",
       "    .dataframe tbody tr th {\n",
       "        vertical-align: top;\n",
       "    }\n",
       "\n",
       "    .dataframe thead th {\n",
       "        text-align: right;\n",
       "    }\n",
       "</style>\n",
       "<table border=\"1\" class=\"dataframe\">\n",
       "  <thead>\n",
       "    <tr style=\"text-align: right;\">\n",
       "      <th></th>\n",
       "      <th>algorithm</th>\n",
       "      <th>file_name</th>\n",
       "      <th>mae</th>\n",
       "      <th>r2</th>\n",
       "      <th>explained_variance</th>\n",
       "    </tr>\n",
       "  </thead>\n",
       "  <tbody>\n",
       "    <tr>\n",
       "      <th>0</th>\n",
       "      <td>elasticnetCV</td>\n",
       "      <td>unharm_mixed_eregr.sav</td>\n",
       "      <td>7.099925</td>\n",
       "      <td>0.549408</td>\n",
       "      <td>0.170972</td>\n",
       "    </tr>\n",
       "  </tbody>\n",
       "</table>\n",
       "</div>"
      ],
      "text/plain": [
       "      algorithm               file_name       mae        r2  \\\n",
       "0  elasticnetCV  unharm_mixed_eregr.sav  7.099925  0.549408   \n",
       "\n",
       "   explained_variance  \n",
       "0            0.170972  "
      ]
     },
     "execution_count": 80,
     "metadata": {},
     "output_type": "execute_result"
    }
   ],
   "source": [
    "data= [[\n",
    "    'elasticnetCV',\n",
    "    'unharm_mixed_eregr.sav',\n",
    "    mean_absolute_error(y_top_test, y_top_pred),\n",
    "    linr.score(X_top_test,y_top_test),\n",
    "    metrics.explained_variance_score(y_top_test, y_top_pred)]]\n",
    "eregr_results_top = pd.DataFrame(data, columns=['algorithm','file_name','mae', 'r2', 'explained_variance'])\n",
    "eregr_results_top"
   ]
  },
  {
   "cell_type": "code",
   "execution_count": 81,
   "id": "9fc82c9a-7fae-404f-89c3-d9b82059f764",
   "metadata": {
    "tags": []
   },
   "outputs": [],
   "source": [
    "eregr_y_test = y_top_test\n",
    "eregr_y_pred = y_top_pred\n",
    "eregr_compare = pd.DataFrame(\n",
    "    {'y_test_real_age': eregr_y_test,\n",
    "     'linr_y_pred_age': eregr_y_pred,\n",
    "    })\n",
    "eregr_compare = linr_compare.reset_index()\n",
    "#eregr_compare"
   ]
  },
  {
   "cell_type": "code",
   "execution_count": 82,
   "id": "e2eb516e-3f8f-4bc0-9a2f-d862f87cf671",
   "metadata": {
    "tags": []
   },
   "outputs": [],
   "source": [
    "y_top_pred = svr_p2.predict(X_top_test)"
   ]
  },
  {
   "cell_type": "code",
   "execution_count": 83,
   "id": "08e620a6-5e79-4659-ba9a-c7127c2ee0d2",
   "metadata": {
    "tags": []
   },
   "outputs": [
    {
     "name": "stdout",
     "output_type": "stream",
     "text": [
      "R2 score SVR poly 2 regression: -0.589\n",
      "Explained variance score: 0.146\n",
      "The mean absolute error: 9.514\n"
     ]
    }
   ],
   "source": [
    "print('R2 score SVR poly 2 regression: %.3f' % svr_p2.score(X_top_test,y_top_test))\n",
    "print('Explained variance score: %.3f'  % metrics.explained_variance_score(y_top_test, y_top_pred))\n",
    "print('The mean absolute error: %.3f' % mean_absolute_error(y_top_test, y_top_pred))"
   ]
  },
  {
   "cell_type": "code",
   "execution_count": 84,
   "id": "d34d3eab-ed59-4f41-b985-3e8a667c42ce",
   "metadata": {
    "tags": []
   },
   "outputs": [],
   "source": [
    "data= [[\n",
    "    'SVR polynom degree 2',\n",
    "    'unharm_mixed_svrp2.sav',\n",
    "    mean_absolute_error(y_top_test, y_top_pred),\n",
    "    svr_p2.score(X_top_test,y_top_test),\n",
    "    metrics.explained_variance_score(y_top_test, y_top_pred)]]\n",
    "svrp2_results_top = pd.DataFrame(data, columns=['algorithm','file_name','mae', 'r2', 'explained_variance'])\n",
    "#svrp2_results_top"
   ]
  },
  {
   "cell_type": "code",
   "execution_count": 85,
   "id": "4e4abb12-7f6b-4c81-b998-fc109418924a",
   "metadata": {
    "tags": []
   },
   "outputs": [],
   "source": [
    "svrp2_y_test = y_top_test\n",
    "svrp2_y_pred = y_top_pred\n",
    "svrp2_compare = pd.DataFrame(\n",
    "    {'y_test_real_age': svrp2_y_test,\n",
    "     'linr_y_pred_age': svrp2_y_pred,\n",
    "    })\n",
    "svrp2_compare = linr_compare.reset_index()\n",
    "#svrp2_compare"
   ]
  },
  {
   "cell_type": "code",
   "execution_count": 86,
   "id": "98591fac-bd83-4fd2-960d-681b13cb7600",
   "metadata": {
    "tags": []
   },
   "outputs": [],
   "source": [
    "y_top_pred = etreg.predict(X_top_test)"
   ]
  },
  {
   "cell_type": "code",
   "execution_count": 87,
   "id": "8600a9d6-1796-4ce0-9571-fc1afd5d663d",
   "metadata": {
    "tags": []
   },
   "outputs": [
    {
     "name": "stdout",
     "output_type": "stream",
     "text": [
      "R2 score Extra trees: 0.573\n",
      "Explained variance score: 0.646\n",
      "The mean absolute error: 4.709\n"
     ]
    }
   ],
   "source": [
    "print('R2 score Extra trees: %.3f' % etreg.score(X_top_test,y_top_test))\n",
    "print('Explained variance score: %.3f'  % metrics.explained_variance_score(y_top_test, y_top_pred))\n",
    "print('The mean absolute error: %.3f' % mean_absolute_error(y_top_test, y_top_pred))"
   ]
  },
  {
   "cell_type": "code",
   "execution_count": 88,
   "id": "f6c9003c-f23f-4dfa-b66b-4e9e268d30e6",
   "metadata": {
    "tags": []
   },
   "outputs": [
    {
     "data": {
      "text/html": [
       "<div>\n",
       "<style scoped>\n",
       "    .dataframe tbody tr th:only-of-type {\n",
       "        vertical-align: middle;\n",
       "    }\n",
       "\n",
       "    .dataframe tbody tr th {\n",
       "        vertical-align: top;\n",
       "    }\n",
       "\n",
       "    .dataframe thead th {\n",
       "        text-align: right;\n",
       "    }\n",
       "</style>\n",
       "<table border=\"1\" class=\"dataframe\">\n",
       "  <thead>\n",
       "    <tr style=\"text-align: right;\">\n",
       "      <th></th>\n",
       "      <th>algorithm</th>\n",
       "      <th>file_name</th>\n",
       "      <th>mae</th>\n",
       "      <th>r2</th>\n",
       "      <th>explained_variance</th>\n",
       "    </tr>\n",
       "  </thead>\n",
       "  <tbody>\n",
       "    <tr>\n",
       "      <th>0</th>\n",
       "      <td>extra trees</td>\n",
       "      <td>unharm_mixed_ereg.sav</td>\n",
       "      <td>4.709006</td>\n",
       "      <td>0.57338</td>\n",
       "      <td>0.645582</td>\n",
       "    </tr>\n",
       "  </tbody>\n",
       "</table>\n",
       "</div>"
      ],
      "text/plain": [
       "     algorithm              file_name       mae       r2  explained_variance\n",
       "0  extra trees  unharm_mixed_ereg.sav  4.709006  0.57338            0.645582"
      ]
     },
     "execution_count": 88,
     "metadata": {},
     "output_type": "execute_result"
    }
   ],
   "source": [
    "data= [[\n",
    "    'extra trees',\n",
    "    'unharm_mixed_ereg.sav',\n",
    "    mean_absolute_error(y_top_test, y_top_pred),\n",
    "    etreg.score(X_top_test,y_top_test),\n",
    "    metrics.explained_variance_score(y_top_test, y_top_pred)]]\n",
    "etreg_results_top = pd.DataFrame(data, columns=['algorithm','file_name','mae', 'r2', 'explained_variance'])\n",
    "etreg_results_top"
   ]
  },
  {
   "cell_type": "code",
   "execution_count": 89,
   "id": "b448779a-7c8e-4d68-9fdc-bb260002594e",
   "metadata": {
    "tags": []
   },
   "outputs": [],
   "source": [
    "etreg_y_test = y_top_test\n",
    "etreg_y_pred = y_top_pred\n",
    "etreg_compare = pd.DataFrame(\n",
    "    {'y_test_real_age': etreg_y_test,\n",
    "     'linr_y_pred_age': etreg_y_pred,\n",
    "    })\n",
    "etreg_compare = linr_compare.reset_index()\n",
    "#etreg_compare"
   ]
  },
  {
   "cell_type": "code",
   "execution_count": 90,
   "id": "568b8203-b0a4-40ba-93a4-64053d50afbc",
   "metadata": {
    "tags": []
   },
   "outputs": [],
   "source": [
    "y_top_pred = regr.predict(X_top_test)"
   ]
  },
  {
   "cell_type": "code",
   "execution_count": 91,
   "id": "7bb07df5-c164-499f-982b-eaf42333a204",
   "metadata": {
    "tags": []
   },
   "outputs": [
    {
     "name": "stdout",
     "output_type": "stream",
     "text": [
      "R2 score MLP regression: 0.252\n",
      "Explained variance score: 0.317\n",
      "The mean absolute error: 6.392\n"
     ]
    }
   ],
   "source": [
    "print('R2 score MLP regression: %.3f' % regr.score(X_top_test,y_top_test))\n",
    "print('Explained variance score: %.3f'  % metrics.explained_variance_score(y_top_test, y_top_pred))\n",
    "print('The mean absolute error: %.3f' % mean_absolute_error(y_top_test, y_top_pred))"
   ]
  },
  {
   "cell_type": "code",
   "execution_count": 92,
   "id": "f2dbe571-c066-49d8-b663-dccf7bf1f2ae",
   "metadata": {
    "tags": []
   },
   "outputs": [
    {
     "data": {
      "text/html": [
       "<div>\n",
       "<style scoped>\n",
       "    .dataframe tbody tr th:only-of-type {\n",
       "        vertical-align: middle;\n",
       "    }\n",
       "\n",
       "    .dataframe tbody tr th {\n",
       "        vertical-align: top;\n",
       "    }\n",
       "\n",
       "    .dataframe thead th {\n",
       "        text-align: right;\n",
       "    }\n",
       "</style>\n",
       "<table border=\"1\" class=\"dataframe\">\n",
       "  <thead>\n",
       "    <tr style=\"text-align: right;\">\n",
       "      <th></th>\n",
       "      <th>algorithm</th>\n",
       "      <th>file_name</th>\n",
       "      <th>mae</th>\n",
       "      <th>r2</th>\n",
       "      <th>explained_variance</th>\n",
       "    </tr>\n",
       "  </thead>\n",
       "  <tbody>\n",
       "    <tr>\n",
       "      <th>0</th>\n",
       "      <td>multilayered percentron</td>\n",
       "      <td>unharm_mixed_regr.sav</td>\n",
       "      <td>6.391926</td>\n",
       "      <td>0.252078</td>\n",
       "      <td>0.317296</td>\n",
       "    </tr>\n",
       "  </tbody>\n",
       "</table>\n",
       "</div>"
      ],
      "text/plain": [
       "                 algorithm              file_name       mae        r2  \\\n",
       "0  multilayered percentron  unharm_mixed_regr.sav  6.391926  0.252078   \n",
       "\n",
       "   explained_variance  \n",
       "0            0.317296  "
      ]
     },
     "execution_count": 92,
     "metadata": {},
     "output_type": "execute_result"
    }
   ],
   "source": [
    "data= [[\n",
    "    'multilayered percentron',\n",
    "    'unharm_mixed_regr.sav',\n",
    "    mean_absolute_error(y_top_test, y_top_pred),\n",
    "    regr.score(X_top_test,y_top_test),\n",
    "    metrics.explained_variance_score(y_top_test, y_top_pred)]]\n",
    "regr_results_top = pd.DataFrame(data, columns=['algorithm','file_name','mae', 'r2', 'explained_variance'])\n",
    "#regr_results_top"
   ]
  },
  {
   "cell_type": "code",
   "execution_count": 93,
   "id": "257f3326-30ba-433b-b634-c637e51cdd17",
   "metadata": {
    "tags": []
   },
   "outputs": [],
   "source": [
    "regr_y_test = y_top_test\n",
    "regr_y_pred = y_top_pred\n",
    "regr_compare = pd.DataFrame(\n",
    "    {'y_test_real_age': regr_y_test,\n",
    "     'linr_y_pred_age': regr_y_pred,\n",
    "    })\n",
    "regr_compare = linr_compare.reset_index()\n",
    "#regr_compare"
   ]
  },
  {
   "cell_type": "code",
   "execution_count": 94,
   "id": "2f45a1c7-1515-480b-92da-87e3bc4649df",
   "metadata": {},
   "outputs": [],
   "source": [
    "# Compile results of mixed on TOP"
   ]
  },
  {
   "cell_type": "code",
   "execution_count": 95,
   "id": "be30970c-f1b9-4bdb-bade-8b8c49959a2a",
   "metadata": {
    "tags": []
   },
   "outputs": [
    {
     "data": {
      "text/html": [
       "<div>\n",
       "<style scoped>\n",
       "    .dataframe tbody tr th:only-of-type {\n",
       "        vertical-align: middle;\n",
       "    }\n",
       "\n",
       "    .dataframe tbody tr th {\n",
       "        vertical-align: top;\n",
       "    }\n",
       "\n",
       "    .dataframe thead th {\n",
       "        text-align: right;\n",
       "    }\n",
       "</style>\n",
       "<table border=\"1\" class=\"dataframe\">\n",
       "  <thead>\n",
       "    <tr style=\"text-align: right;\">\n",
       "      <th></th>\n",
       "      <th>algorithm</th>\n",
       "      <th>file_name</th>\n",
       "      <th>mae</th>\n",
       "      <th>r2</th>\n",
       "      <th>explained_variance</th>\n",
       "    </tr>\n",
       "  </thead>\n",
       "  <tbody>\n",
       "    <tr>\n",
       "      <th>0</th>\n",
       "      <td>linear regression</td>\n",
       "      <td>unharm_mixed_linr.sav</td>\n",
       "      <td>5.005188</td>\n",
       "      <td>0.549408</td>\n",
       "      <td>0.592446</td>\n",
       "    </tr>\n",
       "    <tr>\n",
       "      <th>0</th>\n",
       "      <td>lasso regression</td>\n",
       "      <td>unharm_mixed_llregr.sav</td>\n",
       "      <td>5.102596</td>\n",
       "      <td>0.529979</td>\n",
       "      <td>0.574695</td>\n",
       "    </tr>\n",
       "    <tr>\n",
       "      <th>0</th>\n",
       "      <td>decision tree</td>\n",
       "      <td>unharm_mixed_dtree.sav</td>\n",
       "      <td>6.820605</td>\n",
       "      <td>0.079168</td>\n",
       "      <td>0.194540</td>\n",
       "    </tr>\n",
       "    <tr>\n",
       "      <th>0</th>\n",
       "      <td>multilayered percentron</td>\n",
       "      <td>unharm_mixed_regr.sav</td>\n",
       "      <td>6.391926</td>\n",
       "      <td>0.252078</td>\n",
       "      <td>0.317296</td>\n",
       "    </tr>\n",
       "    <tr>\n",
       "      <th>0</th>\n",
       "      <td>SVR polynom degree 2</td>\n",
       "      <td>unharm_mixed_svrp2.sav</td>\n",
       "      <td>9.513721</td>\n",
       "      <td>-0.588973</td>\n",
       "      <td>0.145511</td>\n",
       "    </tr>\n",
       "    <tr>\n",
       "      <th>0</th>\n",
       "      <td>elasticnetCV</td>\n",
       "      <td>unharm_mixed_eregr.sav</td>\n",
       "      <td>7.099925</td>\n",
       "      <td>0.549408</td>\n",
       "      <td>0.170972</td>\n",
       "    </tr>\n",
       "    <tr>\n",
       "      <th>0</th>\n",
       "      <td>extra trees</td>\n",
       "      <td>unharm_mixed_ereg.sav</td>\n",
       "      <td>4.709006</td>\n",
       "      <td>0.573380</td>\n",
       "      <td>0.645582</td>\n",
       "    </tr>\n",
       "  </tbody>\n",
       "</table>\n",
       "</div>"
      ],
      "text/plain": [
       "                 algorithm                file_name       mae        r2  \\\n",
       "0        linear regression    unharm_mixed_linr.sav  5.005188  0.549408   \n",
       "0         lasso regression  unharm_mixed_llregr.sav  5.102596  0.529979   \n",
       "0            decision tree   unharm_mixed_dtree.sav  6.820605  0.079168   \n",
       "0  multilayered percentron    unharm_mixed_regr.sav  6.391926  0.252078   \n",
       "0     SVR polynom degree 2   unharm_mixed_svrp2.sav  9.513721 -0.588973   \n",
       "0             elasticnetCV   unharm_mixed_eregr.sav  7.099925  0.549408   \n",
       "0              extra trees    unharm_mixed_ereg.sav  4.709006  0.573380   \n",
       "\n",
       "   explained_variance  \n",
       "0            0.592446  \n",
       "0            0.574695  \n",
       "0            0.194540  \n",
       "0            0.317296  \n",
       "0            0.145511  \n",
       "0            0.170972  \n",
       "0            0.645582  "
      ]
     },
     "execution_count": 95,
     "metadata": {},
     "output_type": "execute_result"
    }
   ],
   "source": [
    "mixed_based_unharmonized_on_top =pd.concat([linr_results_top,\n",
    "                   llreg_results_top,\n",
    "                   dtree_results_top,\n",
    "                   regr_results_top,\n",
    "                   svrp2_results_top,\n",
    "                   eregr_results_top,\n",
    "                  etreg_results_top],\n",
    "                  axis=0)\n",
    "mixed_based_unharmonized_on_top"
   ]
  },
  {
   "cell_type": "code",
   "execution_count": null,
   "id": "d5346ad2-c9bb-4ae2-a2b8-397fea2bd2f2",
   "metadata": {},
   "outputs": [],
   "source": []
  },
  {
   "cell_type": "code",
   "execution_count": 96,
   "id": "b6126690-767c-42f6-865f-4664d4af4fcf",
   "metadata": {
    "tags": []
   },
   "outputs": [],
   "source": [
    "data_frames1 = [linr_compare, llreg_compare, dtree_compare,]# regr_compare, ]#etreg_compare, svrp2_compare,]\n",
    "real_versus_projected_y1 = reduce(lambda  left,right: pd.merge(left,right,on=[\"index\"],\n",
    "                                            how='outer'), data_frames1)\n",
    "#real_versus_projected_y1\n",
    "data_frames2 = [eregr_compare, svrp2_compare, etreg_compare,]\n",
    "real_versus_projected_y2 = reduce(lambda  left,right: pd.merge(left,right,on=[\"index\"],\n",
    "                                            how='outer'), data_frames2)\n",
    "#real_versus_projected_y2\n",
    "real_versus_projected_y2 = sep.drop_y(real_versus_projected_y2 )\n",
    "real_versus_projected_y1 = sep.drop_y(real_versus_projected_y1 )\n",
    "#real_versus_projected_y1"
   ]
  },
  {
   "cell_type": "code",
   "execution_count": 97,
   "id": "add4a609-9445-49e7-ad79-78d361ac5d62",
   "metadata": {
    "tags": []
   },
   "outputs": [
    {
     "data": {
      "text/html": [
       "<div>\n",
       "<style scoped>\n",
       "    .dataframe tbody tr th:only-of-type {\n",
       "        vertical-align: middle;\n",
       "    }\n",
       "\n",
       "    .dataframe tbody tr th {\n",
       "        vertical-align: top;\n",
       "    }\n",
       "\n",
       "    .dataframe thead th {\n",
       "        text-align: right;\n",
       "    }\n",
       "</style>\n",
       "<table border=\"1\" class=\"dataframe\">\n",
       "  <thead>\n",
       "    <tr style=\"text-align: right;\">\n",
       "      <th></th>\n",
       "      <th>index</th>\n",
       "      <th>y_test_real_age_x_x</th>\n",
       "      <th>linr_y_pred_age_x_x</th>\n",
       "      <th>level_0_x</th>\n",
       "      <th>y_test_real_age_x</th>\n",
       "      <th>linr_y_pred_age_x</th>\n",
       "      <th>level_0_x</th>\n",
       "      <th>y_test_real_age_x_y</th>\n",
       "      <th>linr_y_pred_age_x_y</th>\n",
       "      <th>level_0_y</th>\n",
       "      <th>y_test_real_age_y</th>\n",
       "      <th>linr_y_pred_age_y</th>\n",
       "    </tr>\n",
       "  </thead>\n",
       "  <tbody>\n",
       "    <tr>\n",
       "      <th>0</th>\n",
       "      <td>0</td>\n",
       "      <td>21.97</td>\n",
       "      <td>34.954143</td>\n",
       "      <td>0</td>\n",
       "      <td>21.97</td>\n",
       "      <td>34.954143</td>\n",
       "      <td>0</td>\n",
       "      <td>21.97</td>\n",
       "      <td>34.954143</td>\n",
       "      <td>0</td>\n",
       "      <td>21.97</td>\n",
       "      <td>34.954143</td>\n",
       "    </tr>\n",
       "    <tr>\n",
       "      <th>1</th>\n",
       "      <td>1</td>\n",
       "      <td>29.21</td>\n",
       "      <td>34.303296</td>\n",
       "      <td>1</td>\n",
       "      <td>29.21</td>\n",
       "      <td>34.303296</td>\n",
       "      <td>1</td>\n",
       "      <td>29.21</td>\n",
       "      <td>34.303296</td>\n",
       "      <td>1</td>\n",
       "      <td>29.21</td>\n",
       "      <td>34.303296</td>\n",
       "    </tr>\n",
       "    <tr>\n",
       "      <th>2</th>\n",
       "      <td>2</td>\n",
       "      <td>31.25</td>\n",
       "      <td>34.218767</td>\n",
       "      <td>2</td>\n",
       "      <td>31.25</td>\n",
       "      <td>34.218767</td>\n",
       "      <td>2</td>\n",
       "      <td>31.25</td>\n",
       "      <td>34.218767</td>\n",
       "      <td>2</td>\n",
       "      <td>31.25</td>\n",
       "      <td>34.218767</td>\n",
       "    </tr>\n",
       "  </tbody>\n",
       "</table>\n",
       "</div>"
      ],
      "text/plain": [
       "   index  y_test_real_age_x_x  linr_y_pred_age_x_x  level_0_x  \\\n",
       "0      0                21.97            34.954143          0   \n",
       "1      1                29.21            34.303296          1   \n",
       "2      2                31.25            34.218767          2   \n",
       "\n",
       "   y_test_real_age_x  linr_y_pred_age_x  level_0_x  y_test_real_age_x_y  \\\n",
       "0              21.97          34.954143          0                21.97   \n",
       "1              29.21          34.303296          1                29.21   \n",
       "2              31.25          34.218767          2                31.25   \n",
       "\n",
       "   linr_y_pred_age_x_y  level_0_y  y_test_real_age_y  linr_y_pred_age_y  \n",
       "0            34.954143          0              21.97          34.954143  \n",
       "1            34.303296          1              29.21          34.303296  \n",
       "2            34.218767          2              31.25          34.218767  "
      ]
     },
     "execution_count": 97,
     "metadata": {},
     "output_type": "execute_result"
    }
   ],
   "source": [
    "data_frames3 = [real_versus_projected_y1, real_versus_projected_y2,]\n",
    "real_versus_projected_y3_mixed_on_top = reduce(lambda  left,right: pd.merge(left,right,on=[\"index\"],\n",
    "                                            how='outer'), data_frames3)\n",
    "real_versus_projected_y3_mixed_on_top.head(3)"
   ]
  },
  {
   "cell_type": "markdown",
   "id": "495993f9-3c8b-414f-beef-ee949afc430e",
   "metadata": {},
   "source": [
    "## Save off csvs of results \n",
    "optional, you must uncomment"
   ]
  },
  {
   "cell_type": "code",
   "execution_count": 98,
   "id": "6f4fd654-e96a-4a8d-9dfd-5fcb6ee91112",
   "metadata": {
    "tags": []
   },
   "outputs": [],
   "source": [
    "## optionally save of csvs of algorithms and results\n",
    "#mixed_based_unharmonized_on_top.to_csv('mixed_based_unharmonized_on_top.csv')\n",
    "#real_versus_projected_y3_mixed_on_top.to_csv('real_versus_projected_y3_mixed_on_top.csv')"
   ]
  },
  {
   "cell_type": "code",
   "execution_count": null,
   "id": "dda3d1f9-6fbf-4c5b-8be5-f647921dc5ba",
   "metadata": {},
   "outputs": [],
   "source": []
  },
  {
   "cell_type": "code",
   "execution_count": null,
   "id": "360c196d-bf98-4a45-a048-2063fc1a741c",
   "metadata": {},
   "outputs": [],
   "source": []
  },
  {
   "cell_type": "code",
   "execution_count": 99,
   "id": "a24edd93-aaa9-4886-a867-61da425b11d6",
   "metadata": {
    "tags": []
   },
   "outputs": [],
   "source": [
    "StrokeMRI_subjects = set(StrokeMRI.participant_id)\n",
    "#StrokeMRI_subjects"
   ]
  },
  {
   "cell_type": "code",
   "execution_count": 100,
   "id": "fa9f364f-66a6-43d7-9f70-e226f5eaa949",
   "metadata": {
    "tags": []
   },
   "outputs": [],
   "source": [
    "# take trained subjects out of top subjects\n",
    "# we can use set math here\n",
    "new_mri=(trained_subjects^StrokeMRI_subjects)&StrokeMRI_subjects"
   ]
  },
  {
   "cell_type": "code",
   "execution_count": 110,
   "id": "32c90a0d-5766-4f2a-8569-1e8f206b2159",
   "metadata": {
    "tags": []
   },
   "outputs": [],
   "source": [
    "StrokeMRI_new = StrokeMRI[StrokeMRI['participant_id'].isin(list(new_mri))]\n",
    "#StrokeMRI_new"
   ]
  },
  {
   "cell_type": "code",
   "execution_count": 111,
   "id": "ae3a47ad-e982-4d52-9680-c0e3db7b7bc2",
   "metadata": {
    "tags": []
   },
   "outputs": [],
   "source": [
    "strokemri_ml_matrix = StrokeMRI_new.drop('participant_id', axis=1) \n",
    "X_mri = strokemri_ml_matrix.drop('age', axis =1)\n",
    "X_mri = X_mri.values\n",
    "X_mri = X_mri.astype('float')\n",
    "y_mri = strokemri_ml_matrix['age'].values\n",
    "y_mri=y_mri.astype('float')"
   ]
  },
  {
   "cell_type": "code",
   "execution_count": 112,
   "id": "081d7d47-ab65-4cd7-a944-ba6984bade1e",
   "metadata": {
    "tags": []
   },
   "outputs": [],
   "source": [
    "X_mri_test = X_mri\n",
    "y_mri_test = y_mri"
   ]
  },
  {
   "cell_type": "code",
   "execution_count": 104,
   "id": "2246791f-a36d-4f99-bf3e-b6f50cf19b1d",
   "metadata": {
    "tags": []
   },
   "outputs": [],
   "source": [
    "y_mri_pred = linr.predict(X_mri_test)"
   ]
  },
  {
   "cell_type": "code",
   "execution_count": 104,
   "id": "2cf3dbd7-ed59-4aa9-91f5-2df91a7ed723",
   "metadata": {
    "tags": []
   },
   "outputs": [
    {
     "name": "stdout",
     "output_type": "stream",
     "text": [
      "R2 score Linear regression: 0.792\n",
      "Explained variance score: 0.812\n",
      "The mean absolute error: 5.507\n"
     ]
    }
   ],
   "source": [
    "print('R2 score Linear regression: %.3f' % linr.score(X_mri_test,y_mri_test))\n",
    "print('Explained variance score: %.3f'  % metrics.explained_variance_score(y_mri_test, y_mri_pred))\n",
    "print('The mean absolute error: %.3f' % mean_absolute_error(y_mri_test, y_mri_pred))"
   ]
  },
  {
   "cell_type": "code",
   "execution_count": 105,
   "id": "5261a4f6-23e8-4fbb-a3c9-ded743fb29f5",
   "metadata": {
    "tags": []
   },
   "outputs": [],
   "source": [
    "y_mri_pred = llreg.predict(X_mri_test)"
   ]
  },
  {
   "cell_type": "code",
   "execution_count": 105,
   "id": "808a999b-4c8f-4a0a-b08e-c5b2b29cf598",
   "metadata": {
    "tags": []
   },
   "outputs": [
    {
     "name": "stdout",
     "output_type": "stream",
     "text": [
      "R2 score Lasso-linear regression: 0.785\n",
      "Explained variance score: 0.808\n",
      "The mean absolute error: 5.626\n"
     ]
    }
   ],
   "source": [
    "print('R2 score Lasso-linear regression: %.3f' % llreg.score(X_mri_test,y_mri_test))\n",
    "print('Explained variance score: %.3f'  % metrics.explained_variance_score(y_mri_test, y_mri_pred))\n",
    "print('The mean absolute error: %.3f' % mean_absolute_error(y_mri_test, y_mri_pred))"
   ]
  },
  {
   "cell_type": "code",
   "execution_count": 106,
   "id": "c290764e-a2fb-4410-ab02-577a8893dc68",
   "metadata": {
    "tags": []
   },
   "outputs": [],
   "source": [
    "y_mri_pred = dtree.predict(X_mri_test)"
   ]
  },
  {
   "cell_type": "code",
   "execution_count": 106,
   "id": "edb472a2-6f7b-44e2-9ac7-bdfadc5f1061",
   "metadata": {
    "tags": []
   },
   "outputs": [
    {
     "name": "stdout",
     "output_type": "stream",
     "text": [
      "R2 score decision tree regression: 0.705\n",
      "Explained variance score: 0.732\n",
      "The mean absolute error: 6.259\n"
     ]
    }
   ],
   "source": [
    "print('R2 score decision tree regression: %.3f' % dtree.score(X_mri_test,y_mri_test))\n",
    "print('Explained variance score: %.3f'  % metrics.explained_variance_score(y_mri_test, y_mri_pred))\n",
    "print('The mean absolute error: %.3f' % mean_absolute_error(y_mri_test, y_mri_pred))"
   ]
  },
  {
   "cell_type": "code",
   "execution_count": 107,
   "id": "c849b199-f2c9-4223-8139-e697d77ddadc",
   "metadata": {
    "tags": []
   },
   "outputs": [],
   "source": [
    "y_mri_pred = regr.predict(X_mri_test)"
   ]
  },
  {
   "cell_type": "code",
   "execution_count": 107,
   "id": "71e4d3b0-8448-4a14-b0f7-a3cc33898818",
   "metadata": {
    "tags": []
   },
   "outputs": [
    {
     "name": "stdout",
     "output_type": "stream",
     "text": [
      "R2 score Lasso linear regression: 0.666\n",
      "Explained variance score: 0.695\n",
      "The mean absolute error: 7.234\n"
     ]
    }
   ],
   "source": [
    "print('R2 score Lasso linear regression: %.3f' % regr.score(X_mri_test,y_mri_test))\n",
    "print('Explained variance score: %.3f'  % metrics.explained_variance_score(y_mri_test, y_mri_pred))\n",
    "print('The mean absolute error: %.3f' % mean_absolute_error(y_mri_test, y_mri_pred))"
   ]
  },
  {
   "cell_type": "code",
   "execution_count": 108,
   "id": "7a92fe5a-abba-4a13-a828-545ed467e8fd",
   "metadata": {},
   "outputs": [],
   "source": [
    "y_mri_pred = svr_p2.predict(X_mri_test)"
   ]
  },
  {
   "cell_type": "code",
   "execution_count": 108,
   "id": "bf006ee3-8542-4379-aaf9-991bec644378",
   "metadata": {},
   "outputs": [
    {
     "name": "stdout",
     "output_type": "stream",
     "text": [
      "R2 score SVR poly2 regression: 0.065\n",
      "Explained variance score: 0.419\n",
      "The mean absolute error: 12.472\n"
     ]
    }
   ],
   "source": [
    "print('R2 score SVR poly2 regression: %.3f' % svr_p2.score(X_mri_test,y_mri_test))\n",
    "print('Explained variance score: %.3f'  % metrics.explained_variance_score(y_mri_test, y_mri_pred))\n",
    "print('The mean absolute error: %.3f' % mean_absolute_error(y_mri_test, y_mri_pred))"
   ]
  },
  {
   "cell_type": "code",
   "execution_count": 109,
   "id": "61a69ba1-fea5-46e2-bf29-860a0a406f40",
   "metadata": {
    "tags": []
   },
   "outputs": [],
   "source": [
    "y_mri_pred = etreg.predict(X_mri_test)"
   ]
  },
  {
   "cell_type": "code",
   "execution_count": 109,
   "id": "1ce238f7-ddc0-4a51-90c7-77bfa9e15f42",
   "metadata": {
    "tags": []
   },
   "outputs": [
    {
     "name": "stdout",
     "output_type": "stream",
     "text": [
      "R2 score Extra tree regression: 0.840\n",
      "Explained variance score: 0.852\n",
      "The mean absolute error: 4.779\n"
     ]
    }
   ],
   "source": [
    "print('R2 score Extra tree regression: %.3f' % etreg.score(X_mri_test,y_mri_test))\n",
    "print('Explained variance score: %.3f'  % metrics.explained_variance_score(y_mri_test, y_mri_pred))\n",
    "print('The mean absolute error: %.3f' % mean_absolute_error(y_mri_test, y_mri_pred))"
   ]
  },
  {
   "cell_type": "code",
   "execution_count": null,
   "id": "68e6d564-2534-4588-a202-3470aa01bbd4",
   "metadata": {},
   "outputs": [],
   "source": []
  },
  {
   "cell_type": "code",
   "execution_count": null,
   "id": "79a1916a-e9af-4467-9675-92d7df2354c4",
   "metadata": {},
   "outputs": [],
   "source": []
  },
  {
   "cell_type": "code",
   "execution_count": null,
   "id": "bc2ff726-4a3a-46e3-a516-c0c9f77c33d3",
   "metadata": {},
   "outputs": [],
   "source": []
  },
  {
   "cell_type": "code",
   "execution_count": null,
   "id": "a7ccfc84-2d79-4e3d-b116-a667bbf6ff1f",
   "metadata": {},
   "outputs": [],
   "source": []
  },
  {
   "cell_type": "markdown",
   "id": "335561d1-d08d-42c8-a609-88d24e5d5b8e",
   "metadata": {},
   "source": [
    "# Running mixed model over SABRE dataset"
   ]
  }
 ],
 "metadata": {
  "kernelspec": {
   "display_name": "Python 3 (ipykernel)",
   "language": "python",
   "name": "python3"
  },
  "language_info": {
   "codemirror_mode": {
    "name": "ipython",
    "version": 3
   },
   "file_extension": ".py",
   "mimetype": "text/x-python",
   "name": "python",
   "nbconvert_exporter": "python",
   "pygments_lexer": "ipython3",
   "version": "3.9.18"
  }
 },
 "nbformat": 4,
 "nbformat_minor": 5
}
