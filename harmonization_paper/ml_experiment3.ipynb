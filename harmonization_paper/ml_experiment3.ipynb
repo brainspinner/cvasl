{
 "cells": [
  {
   "cell_type": "markdown",
   "id": "e8edc98e-5785-4d1c-baed-02bfc4721f60",
   "metadata": {},
   "source": [
    "# ML testing: experiment #3\n",
    "\n",
    "This notebook involves testing for the MRI conference abstract. This notebook shows mixed_dataset (TOP + StrokeMRI) based models"
   ]
  },
  {
   "cell_type": "markdown",
   "id": "be45db67-b24a-409e-bb35-ca468a779ec2",
   "metadata": {
    "tags": []
   },
   "source": [
    "### import libraries"
   ]
  },
  {
   "cell_type": "code",
   "execution_count": 33,
   "id": "514ef9ea-48df-4f68-b440-77ee12cddefe",
   "metadata": {
    "tags": []
   },
   "outputs": [],
   "source": [
    "import os       # using operating system dependent functionality (folders)\n",
    "import sys\n",
    "\n",
    "import glob\n",
    "\n",
    "import pandas as pd # data analysis and manipulation\n",
    "import numpy as np    # numerical computing (manipulating and performing operations on arrays of data)\n",
    "import matplotlib.pyplot as plt\n",
    "\n",
    "# demo stuff\n",
    "import ipywidgets as widgets\n",
    "import seaborn \n",
    "\n",
    "# ml stuff\n",
    "from sklearn.model_selection import train_test_split\n",
    "from sklearn.preprocessing import StandardScaler\n",
    "#from sklearn.svm import SVC\n",
    "from sklearn.metrics import accuracy_score\n",
    "#from sklearn.linear_model import LogisticRegression\n",
    "from sklearn.linear_model import LinearRegression\n",
    "from sklearn import linear_model\n",
    "from sklearn import tree\n",
    "from sklearn import metrics\n",
    "from sklearn.linear_model import SGDRegressor\n",
    "from sklearn.metrics import confusion_matrix\n",
    "from sklearn.metrics import mean_absolute_error\n",
    "from sklearn.neighbors import KNeighborsClassifier\n",
    "from sklearn.svm import SVR\n",
    "from sklearn.neural_network import MLPRegressor\n",
    "from sklearn.linear_model import ElasticNetCV\n",
    "from sklearn.ensemble import ExtraTreesRegressor\n",
    "\n",
    "import joblib\n",
    "\n",
    "sys.path.insert(0, '../') # path to functions\n",
    "import cvasl.seperated as sep\n",
    "from cvasl.file_handler import Config"
   ]
  },
  {
   "cell_type": "markdown",
   "id": "b0e7da24-0537-44b4-85fb-e69c68c5ec9a",
   "metadata": {
    "tags": []
   },
   "source": [
    "### import data"
   ]
  },
  {
   "cell_type": "code",
   "execution_count": 2,
   "id": "e8b2675d-4011-44c4-9180-5980c0c60dac",
   "metadata": {
    "tags": []
   },
   "outputs": [],
   "source": [
    "filepath_mri = '../open_work/internal_results/cleaned_pvc2s/' \n",
    "filename_mri = os.path.join(filepath_mri,'StrokeMRI_pvc2c.csv') \n",
    "\n",
    "filepath_top = '../open_work/internal_results/cleaned_pvc2s/' \n",
    "filename_top = os.path.join(filepath_top,'TOP_pvc2c.csv') "
   ]
  },
  {
   "cell_type": "code",
   "execution_count": 3,
   "id": "6aa791f2-8373-4bcf-aa39-1b1adc7a3c00",
   "metadata": {
    "tags": []
   },
   "outputs": [],
   "source": [
    "TOP = pd.read_csv(filename_top)\n",
    "StrokeMRI = pd.read_csv(filename_mri)"
   ]
  },
  {
   "cell_type": "code",
   "execution_count": 4,
   "id": "ffc73bcd-dd95-47a8-bc17-f4e9de240a52",
   "metadata": {
    "tags": []
   },
   "outputs": [],
   "source": [
    "TOP = TOP.drop(TOP.columns[0],axis=1)\n",
    "#TOP"
   ]
  },
  {
   "cell_type": "code",
   "execution_count": 5,
   "id": "545f346f-9d06-4cfa-b232-ec5784d655b2",
   "metadata": {
    "tags": []
   },
   "outputs": [],
   "source": [
    "StrokeMRI = StrokeMRI.drop(StrokeMRI.columns[0],axis=1)\n",
    "#StrokeMRI"
   ]
  },
  {
   "cell_type": "code",
   "execution_count": 6,
   "id": "5739dc25-1f43-45b7-a544-78860839b16b",
   "metadata": {
    "tags": []
   },
   "outputs": [
    {
     "data": {
      "text/html": [
       "<div>\n",
       "<style scoped>\n",
       "    .dataframe tbody tr th:only-of-type {\n",
       "        vertical-align: middle;\n",
       "    }\n",
       "\n",
       "    .dataframe tbody tr th {\n",
       "        vertical-align: top;\n",
       "    }\n",
       "\n",
       "    .dataframe thead th {\n",
       "        text-align: right;\n",
       "    }\n",
       "</style>\n",
       "<table border=\"1\" class=\"dataframe\">\n",
       "  <thead>\n",
       "    <tr style=\"text-align: right;\">\n",
       "      <th></th>\n",
       "      <th>participant_id</th>\n",
       "      <th>age</th>\n",
       "      <th>sex</th>\n",
       "      <th>gm_vol</th>\n",
       "      <th>wm_vol</th>\n",
       "      <th>csf_vol</th>\n",
       "      <th>gm_ivc_ratio</th>\n",
       "      <th>gmwm_ivc_ratio</th>\n",
       "      <th>wmh_vol</th>\n",
       "      <th>wmh_count</th>\n",
       "      <th>deepwm_b_cov</th>\n",
       "      <th>aca_b_cov</th>\n",
       "      <th>mca_b_cov</th>\n",
       "      <th>pca_b_cov</th>\n",
       "      <th>totalgm_b_cov</th>\n",
       "      <th>deepwm_b</th>\n",
       "      <th>aca_b</th>\n",
       "      <th>mca_b</th>\n",
       "      <th>pca_b</th>\n",
       "      <th>totalgm_b</th>\n",
       "    </tr>\n",
       "  </thead>\n",
       "  <tbody>\n",
       "    <tr>\n",
       "      <th>0</th>\n",
       "      <td>sub-0001_1_ses-1_run-1</td>\n",
       "      <td>43.49</td>\n",
       "      <td>1</td>\n",
       "      <td>0.71736</td>\n",
       "      <td>0.52803</td>\n",
       "      <td>0.31812</td>\n",
       "      <td>0.45881</td>\n",
       "      <td>0.45881</td>\n",
       "      <td>1.743</td>\n",
       "      <td>24.0</td>\n",
       "      <td>8.7620</td>\n",
       "      <td>2.2748</td>\n",
       "      <td>2.3205</td>\n",
       "      <td>2.6858</td>\n",
       "      <td>2.4316</td>\n",
       "      <td>22.1022</td>\n",
       "      <td>80.4744</td>\n",
       "      <td>68.3224</td>\n",
       "      <td>52.4614</td>\n",
       "      <td>60.6981</td>\n",
       "    </tr>\n",
       "    <tr>\n",
       "      <th>1</th>\n",
       "      <td>sub-0002_1_ses-1_run-1</td>\n",
       "      <td>38.30</td>\n",
       "      <td>0</td>\n",
       "      <td>0.72383</td>\n",
       "      <td>0.62394</td>\n",
       "      <td>0.25673</td>\n",
       "      <td>0.45112</td>\n",
       "      <td>0.45112</td>\n",
       "      <td>1.629</td>\n",
       "      <td>23.0</td>\n",
       "      <td>9.0749</td>\n",
       "      <td>1.7564</td>\n",
       "      <td>2.3989</td>\n",
       "      <td>1.5982</td>\n",
       "      <td>1.9738</td>\n",
       "      <td>23.5401</td>\n",
       "      <td>87.3972</td>\n",
       "      <td>78.0359</td>\n",
       "      <td>63.9932</td>\n",
       "      <td>71.6047</td>\n",
       "    </tr>\n",
       "    <tr>\n",
       "      <th>2</th>\n",
       "      <td>sub-0019_1_ses-1_run-1</td>\n",
       "      <td>32.30</td>\n",
       "      <td>1</td>\n",
       "      <td>0.71224</td>\n",
       "      <td>0.53295</td>\n",
       "      <td>0.33594</td>\n",
       "      <td>0.45046</td>\n",
       "      <td>0.45046</td>\n",
       "      <td>0.621</td>\n",
       "      <td>13.0</td>\n",
       "      <td>8.8791</td>\n",
       "      <td>1.9850</td>\n",
       "      <td>1.8702</td>\n",
       "      <td>2.1648</td>\n",
       "      <td>2.1723</td>\n",
       "      <td>27.5573</td>\n",
       "      <td>94.0855</td>\n",
       "      <td>86.3816</td>\n",
       "      <td>62.6012</td>\n",
       "      <td>74.0588</td>\n",
       "    </tr>\n",
       "  </tbody>\n",
       "</table>\n",
       "</div>"
      ],
      "text/plain": [
       "           participant_id    age  sex   gm_vol   wm_vol  csf_vol  \\\n",
       "0  sub-0001_1_ses-1_run-1  43.49    1  0.71736  0.52803  0.31812   \n",
       "1  sub-0002_1_ses-1_run-1  38.30    0  0.72383  0.62394  0.25673   \n",
       "2  sub-0019_1_ses-1_run-1  32.30    1  0.71224  0.53295  0.33594   \n",
       "\n",
       "   gm_ivc_ratio  gmwm_ivc_ratio  wmh_vol  wmh_count  deepwm_b_cov  aca_b_cov  \\\n",
       "0       0.45881         0.45881    1.743       24.0        8.7620     2.2748   \n",
       "1       0.45112         0.45112    1.629       23.0        9.0749     1.7564   \n",
       "2       0.45046         0.45046    0.621       13.0        8.8791     1.9850   \n",
       "\n",
       "   mca_b_cov  pca_b_cov  totalgm_b_cov  deepwm_b    aca_b    mca_b    pca_b  \\\n",
       "0     2.3205     2.6858         2.4316   22.1022  80.4744  68.3224  52.4614   \n",
       "1     2.3989     1.5982         1.9738   23.5401  87.3972  78.0359  63.9932   \n",
       "2     1.8702     2.1648         2.1723   27.5573  94.0855  86.3816  62.6012   \n",
       "\n",
       "   totalgm_b  \n",
       "0    60.6981  \n",
       "1    71.6047  \n",
       "2    74.0588  "
      ]
     },
     "execution_count": 6,
     "metadata": {},
     "output_type": "execute_result"
    }
   ],
   "source": [
    "# Now we need to flip the sex back to numbers for a correlation\n",
    "sex_mapping = {'F':0,'M':1}\n",
    "TOP = TOP.assign(sex = TOP.sex.map(sex_mapping))\n",
    "TOP.head(3)"
   ]
  },
  {
   "cell_type": "code",
   "execution_count": 7,
   "id": "98319176-a064-4081-b873-a16cc98d4194",
   "metadata": {
    "tags": []
   },
   "outputs": [
    {
     "data": {
      "text/html": [
       "<div>\n",
       "<style scoped>\n",
       "    .dataframe tbody tr th:only-of-type {\n",
       "        vertical-align: middle;\n",
       "    }\n",
       "\n",
       "    .dataframe tbody tr th {\n",
       "        vertical-align: top;\n",
       "    }\n",
       "\n",
       "    .dataframe thead th {\n",
       "        text-align: right;\n",
       "    }\n",
       "</style>\n",
       "<table border=\"1\" class=\"dataframe\">\n",
       "  <thead>\n",
       "    <tr style=\"text-align: right;\">\n",
       "      <th></th>\n",
       "      <th>participant_id</th>\n",
       "      <th>age</th>\n",
       "      <th>sex</th>\n",
       "      <th>gm_vol</th>\n",
       "      <th>wm_vol</th>\n",
       "      <th>csf_vol</th>\n",
       "      <th>gm_ivc_ratio</th>\n",
       "      <th>gmwm_ivc_ratio</th>\n",
       "      <th>wmh_vol</th>\n",
       "      <th>wmh_count</th>\n",
       "      <th>deepwm_b_cov</th>\n",
       "      <th>aca_b_cov</th>\n",
       "      <th>mca_b_cov</th>\n",
       "      <th>pca_b_cov</th>\n",
       "      <th>totalgm_b_cov</th>\n",
       "      <th>deepwm_b</th>\n",
       "      <th>aca_b</th>\n",
       "      <th>mca_b</th>\n",
       "      <th>pca_b</th>\n",
       "      <th>totalgm_b</th>\n",
       "    </tr>\n",
       "  </thead>\n",
       "  <tbody>\n",
       "    <tr>\n",
       "      <th>0</th>\n",
       "      <td>sub-59082_1_ses-1_run-1</td>\n",
       "      <td>43.172603</td>\n",
       "      <td>0</td>\n",
       "      <td>0.64754</td>\n",
       "      <td>0.49441</td>\n",
       "      <td>0.31320</td>\n",
       "      <td>0.44500</td>\n",
       "      <td>0.44500</td>\n",
       "      <td>1.249</td>\n",
       "      <td>24.0</td>\n",
       "      <td>8.0434</td>\n",
       "      <td>1.7273</td>\n",
       "      <td>1.9776</td>\n",
       "      <td>1.7141</td>\n",
       "      <td>1.9140</td>\n",
       "      <td>26.8262</td>\n",
       "      <td>104.3155</td>\n",
       "      <td>90.5047</td>\n",
       "      <td>73.8758</td>\n",
       "      <td>84.4527</td>\n",
       "    </tr>\n",
       "    <tr>\n",
       "      <th>1</th>\n",
       "      <td>sub-59083_1_ses-1_run-1</td>\n",
       "      <td>66.367123</td>\n",
       "      <td>0</td>\n",
       "      <td>0.60517</td>\n",
       "      <td>0.48594</td>\n",
       "      <td>0.42304</td>\n",
       "      <td>0.39968</td>\n",
       "      <td>0.39968</td>\n",
       "      <td>14.597</td>\n",
       "      <td>25.0</td>\n",
       "      <td>3.7791</td>\n",
       "      <td>1.9669</td>\n",
       "      <td>1.7154</td>\n",
       "      <td>2.6394</td>\n",
       "      <td>1.8815</td>\n",
       "      <td>24.9597</td>\n",
       "      <td>75.7051</td>\n",
       "      <td>65.3032</td>\n",
       "      <td>65.6771</td>\n",
       "      <td>67.1158</td>\n",
       "    </tr>\n",
       "    <tr>\n",
       "      <th>2</th>\n",
       "      <td>sub-59085_1_ses-1_run-1</td>\n",
       "      <td>55.838356</td>\n",
       "      <td>0</td>\n",
       "      <td>0.61724</td>\n",
       "      <td>0.53779</td>\n",
       "      <td>0.33692</td>\n",
       "      <td>0.41371</td>\n",
       "      <td>0.41371</td>\n",
       "      <td>6.341</td>\n",
       "      <td>30.0</td>\n",
       "      <td>5.1248</td>\n",
       "      <td>1.8146</td>\n",
       "      <td>1.9845</td>\n",
       "      <td>2.0827</td>\n",
       "      <td>1.9501</td>\n",
       "      <td>27.7117</td>\n",
       "      <td>81.0966</td>\n",
       "      <td>72.9980</td>\n",
       "      <td>60.8317</td>\n",
       "      <td>64.3183</td>\n",
       "    </tr>\n",
       "  </tbody>\n",
       "</table>\n",
       "</div>"
      ],
      "text/plain": [
       "            participant_id        age  sex   gm_vol   wm_vol  csf_vol  \\\n",
       "0  sub-59082_1_ses-1_run-1  43.172603    0  0.64754  0.49441  0.31320   \n",
       "1  sub-59083_1_ses-1_run-1  66.367123    0  0.60517  0.48594  0.42304   \n",
       "2  sub-59085_1_ses-1_run-1  55.838356    0  0.61724  0.53779  0.33692   \n",
       "\n",
       "   gm_ivc_ratio  gmwm_ivc_ratio  wmh_vol  wmh_count  deepwm_b_cov  aca_b_cov  \\\n",
       "0       0.44500         0.44500    1.249       24.0        8.0434     1.7273   \n",
       "1       0.39968         0.39968   14.597       25.0        3.7791     1.9669   \n",
       "2       0.41371         0.41371    6.341       30.0        5.1248     1.8146   \n",
       "\n",
       "   mca_b_cov  pca_b_cov  totalgm_b_cov  deepwm_b     aca_b    mca_b    pca_b  \\\n",
       "0     1.9776     1.7141         1.9140   26.8262  104.3155  90.5047  73.8758   \n",
       "1     1.7154     2.6394         1.8815   24.9597   75.7051  65.3032  65.6771   \n",
       "2     1.9845     2.0827         1.9501   27.7117   81.0966  72.9980  60.8317   \n",
       "\n",
       "   totalgm_b  \n",
       "0    84.4527  \n",
       "1    67.1158  \n",
       "2    64.3183  "
      ]
     },
     "execution_count": 7,
     "metadata": {},
     "output_type": "execute_result"
    }
   ],
   "source": [
    "StrokeMRI = StrokeMRI.assign(sex = StrokeMRI.sex.map(sex_mapping))\n",
    "StrokeMRI.head(3)"
   ]
  },
  {
   "cell_type": "code",
   "execution_count": 8,
   "id": "b9efbca7-4d32-4371-94ea-42cd3cb9ba3b",
   "metadata": {
    "tags": []
   },
   "outputs": [
    {
     "name": "stdout",
     "output_type": "stream",
     "text": [
      "set()\n"
     ]
    }
   ],
   "source": [
    "# check for any duplicated patients\n",
    "strokers = set(StrokeMRI.participant_id)\n",
    "topers = set(TOP.participant_id)\n",
    "z = strokers.intersection(topers)\n",
    "print(z) "
   ]
  },
  {
   "cell_type": "code",
   "execution_count": 9,
   "id": "e59d0741-040c-4265-a2b5-5dfbd37214e1",
   "metadata": {
    "tags": []
   },
   "outputs": [],
   "source": [
    "# make mixed dataset\n",
    "mixed_data = pd.concat([TOP, StrokeMRI], sort=False)\n"
   ]
  },
  {
   "cell_type": "markdown",
   "id": "f0c08947-d926-416e-92c4-7a644618a456",
   "metadata": {},
   "source": [
    "## Build ML models"
   ]
  },
  {
   "cell_type": "markdown",
   "id": "342956e4-4d11-45dd-94ce-f480813e5a4c",
   "metadata": {},
   "source": [
    "# keeping patient ID until right when model is fed, then use patient ID as key to what went where"
   ]
  },
  {
   "cell_type": "code",
   "execution_count": 10,
   "id": "0e8b41eb-3b29-46e2-9627-85627d2d7da8",
   "metadata": {
    "tags": []
   },
   "outputs": [],
   "source": [
    "ml_matrix = mixed_data #.drop('participant_id', axis=1)\n",
    "X = ml_matrix.drop('age', axis =1)\n",
    "X = X.values\n",
    "y = ml_matrix['age'].values\n",
    "y=y.astype('float')\n"
   ]
  },
  {
   "cell_type": "code",
   "execution_count": 11,
   "id": "6b707d30-686b-492d-96c1-4a5e01a166d2",
   "metadata": {
    "tags": []
   },
   "outputs": [],
   "source": [
    "X_train, X_test, y_train, y_test = train_test_split(X, y, test_size=0.25, random_state=12)"
   ]
  },
  {
   "cell_type": "code",
   "execution_count": 12,
   "id": "a745e96c-b85b-4235-98b2-fcab31e0cb51",
   "metadata": {
    "tags": []
   },
   "outputs": [
    {
     "data": {
      "text/plain": [
       "(780, 18)"
      ]
     },
     "execution_count": 12,
     "metadata": {},
     "output_type": "execute_result"
    }
   ],
   "source": [
    "X_train_cut = X_train[:,1:]\n",
    "X_train_cut = X_train_cut.astype('float')\n",
    "X_train_cut.shape"
   ]
  },
  {
   "cell_type": "code",
   "execution_count": 13,
   "id": "94c3b19b-57b2-4f79-95da-9fc45bcf6ff9",
   "metadata": {
    "tags": []
   },
   "outputs": [
    {
     "data": {
      "text/plain": [
       "(261, 18)"
      ]
     },
     "execution_count": 13,
     "metadata": {},
     "output_type": "execute_result"
    }
   ],
   "source": [
    "X_test_cut = X_test[:,1:]\n",
    "X_test_cut = X_test_cut.astype('float')\n",
    "X_test_cut.shape"
   ]
  },
  {
   "cell_type": "code",
   "execution_count": 14,
   "id": "7c5c0b26-3c14-46e4-8d38-90f00160bb35",
   "metadata": {
    "tags": []
   },
   "outputs": [],
   "source": [
    "# svr_poly = SVR(kernel=\"poly\", C=100, gamma=\"auto\", degree=2, epsilon=0.1, coef0=1)\n",
    "# svr_poly.fit(X_train_cut, y_train)"
   ]
  },
  {
   "cell_type": "code",
   "execution_count": 15,
   "id": "f6d0509d-bc28-4d64-82e8-9a5b653f843d",
   "metadata": {},
   "outputs": [],
   "source": [
    "# y_pred = svr_poly.predict(X_test_cut)"
   ]
  },
  {
   "cell_type": "code",
   "execution_count": 16,
   "id": "8f07354f-01af-4c8f-82b8-ea8408fb0011",
   "metadata": {},
   "outputs": [],
   "source": [
    "# print('R2 score SV polynomial regression: %.3f' % svr_poly.score(X_test_cut,y_test))\n",
    "# print('Explained variance score: %.3f'  % metrics.explained_variance_score(y_test, y_pred))\n",
    "# print('MAE: % .3f' % mean_absolute_error(y_test, y_pred))"
   ]
  },
  {
   "cell_type": "code",
   "execution_count": 17,
   "id": "ae678f74-7a54-47a1-ba93-289b12b263f2",
   "metadata": {
    "tags": []
   },
   "outputs": [
    {
     "data": {
      "text/html": [
       "<style>#sk-container-id-1 {color: black;background-color: white;}#sk-container-id-1 pre{padding: 0;}#sk-container-id-1 div.sk-toggleable {background-color: white;}#sk-container-id-1 label.sk-toggleable__label {cursor: pointer;display: block;width: 100%;margin-bottom: 0;padding: 0.3em;box-sizing: border-box;text-align: center;}#sk-container-id-1 label.sk-toggleable__label-arrow:before {content: \"▸\";float: left;margin-right: 0.25em;color: #696969;}#sk-container-id-1 label.sk-toggleable__label-arrow:hover:before {color: black;}#sk-container-id-1 div.sk-estimator:hover label.sk-toggleable__label-arrow:before {color: black;}#sk-container-id-1 div.sk-toggleable__content {max-height: 0;max-width: 0;overflow: hidden;text-align: left;background-color: #f0f8ff;}#sk-container-id-1 div.sk-toggleable__content pre {margin: 0.2em;color: black;border-radius: 0.25em;background-color: #f0f8ff;}#sk-container-id-1 input.sk-toggleable__control:checked~div.sk-toggleable__content {max-height: 200px;max-width: 100%;overflow: auto;}#sk-container-id-1 input.sk-toggleable__control:checked~label.sk-toggleable__label-arrow:before {content: \"▾\";}#sk-container-id-1 div.sk-estimator input.sk-toggleable__control:checked~label.sk-toggleable__label {background-color: #d4ebff;}#sk-container-id-1 div.sk-label input.sk-toggleable__control:checked~label.sk-toggleable__label {background-color: #d4ebff;}#sk-container-id-1 input.sk-hidden--visually {border: 0;clip: rect(1px 1px 1px 1px);clip: rect(1px, 1px, 1px, 1px);height: 1px;margin: -1px;overflow: hidden;padding: 0;position: absolute;width: 1px;}#sk-container-id-1 div.sk-estimator {font-family: monospace;background-color: #f0f8ff;border: 1px dotted black;border-radius: 0.25em;box-sizing: border-box;margin-bottom: 0.5em;}#sk-container-id-1 div.sk-estimator:hover {background-color: #d4ebff;}#sk-container-id-1 div.sk-parallel-item::after {content: \"\";width: 100%;border-bottom: 1px solid gray;flex-grow: 1;}#sk-container-id-1 div.sk-label:hover label.sk-toggleable__label {background-color: #d4ebff;}#sk-container-id-1 div.sk-serial::before {content: \"\";position: absolute;border-left: 1px solid gray;box-sizing: border-box;top: 0;bottom: 0;left: 50%;z-index: 0;}#sk-container-id-1 div.sk-serial {display: flex;flex-direction: column;align-items: center;background-color: white;padding-right: 0.2em;padding-left: 0.2em;position: relative;}#sk-container-id-1 div.sk-item {position: relative;z-index: 1;}#sk-container-id-1 div.sk-parallel {display: flex;align-items: stretch;justify-content: center;background-color: white;position: relative;}#sk-container-id-1 div.sk-item::before, #sk-container-id-1 div.sk-parallel-item::before {content: \"\";position: absolute;border-left: 1px solid gray;box-sizing: border-box;top: 0;bottom: 0;left: 50%;z-index: -1;}#sk-container-id-1 div.sk-parallel-item {display: flex;flex-direction: column;z-index: 1;position: relative;background-color: white;}#sk-container-id-1 div.sk-parallel-item:first-child::after {align-self: flex-end;width: 50%;}#sk-container-id-1 div.sk-parallel-item:last-child::after {align-self: flex-start;width: 50%;}#sk-container-id-1 div.sk-parallel-item:only-child::after {width: 0;}#sk-container-id-1 div.sk-dashed-wrapped {border: 1px dashed gray;margin: 0 0.4em 0.5em 0.4em;box-sizing: border-box;padding-bottom: 0.4em;background-color: white;}#sk-container-id-1 div.sk-label label {font-family: monospace;font-weight: bold;display: inline-block;line-height: 1.2em;}#sk-container-id-1 div.sk-label-container {text-align: center;}#sk-container-id-1 div.sk-container {/* jupyter's `normalize.less` sets `[hidden] { display: none; }` but bootstrap.min.css set `[hidden] { display: none !important; }` so we also need the `!important` here to be able to override the default hidden behavior on the sphinx rendered scikit-learn.org. See: https://github.com/scikit-learn/scikit-learn/issues/21755 */display: inline-block !important;position: relative;}#sk-container-id-1 div.sk-text-repr-fallback {display: none;}</style><div id=\"sk-container-id-1\" class=\"sk-top-container\"><div class=\"sk-text-repr-fallback\"><pre>MLPRegressor(max_iter=700, random_state=1)</pre><b>In a Jupyter environment, please rerun this cell to show the HTML representation or trust the notebook. <br />On GitHub, the HTML representation is unable to render, please try loading this page with nbviewer.org.</b></div><div class=\"sk-container\" hidden><div class=\"sk-item\"><div class=\"sk-estimator sk-toggleable\"><input class=\"sk-toggleable__control sk-hidden--visually\" id=\"sk-estimator-id-1\" type=\"checkbox\" checked><label for=\"sk-estimator-id-1\" class=\"sk-toggleable__label sk-toggleable__label-arrow\">MLPRegressor</label><div class=\"sk-toggleable__content\"><pre>MLPRegressor(max_iter=700, random_state=1)</pre></div></div></div></div></div>"
      ],
      "text/plain": [
       "MLPRegressor(max_iter=700, random_state=1)"
      ]
     },
     "execution_count": 17,
     "metadata": {},
     "output_type": "execute_result"
    }
   ],
   "source": [
    "\n",
    "regr = MLPRegressor(random_state=1, max_iter=700)\n",
    "regr.fit(X_train_cut, y_train)"
   ]
  },
  {
   "cell_type": "code",
   "execution_count": 18,
   "id": "3dffbf12-aa8b-4ee4-adc2-b10c7e7077d0",
   "metadata": {
    "tags": []
   },
   "outputs": [],
   "source": [
    "y_pred = regr.predict(X_test_cut)"
   ]
  },
  {
   "cell_type": "code",
   "execution_count": 19,
   "id": "2bdd28e8-3fc0-4c1d-ae8e-de49e0e553d6",
   "metadata": {
    "tags": []
   },
   "outputs": [
    {
     "name": "stdout",
     "output_type": "stream",
     "text": [
      "R2 score neural network mlp regression: 0.774\n",
      "Explained variance score: 0.774\n",
      "MAE:  6.808\n"
     ]
    }
   ],
   "source": [
    "print('R2 score neural network mlp regression: %.3f' % regr.score(X_test_cut,y_test))\n",
    "print('Explained variance score: %.3f'  % metrics.explained_variance_score(y_test, y_pred))\n",
    "print('MAE: % .3f' % mean_absolute_error(y_test, y_pred))"
   ]
  },
  {
   "cell_type": "code",
   "execution_count": 20,
   "id": "2276d281-3098-4318-b82e-d9c797b47776",
   "metadata": {
    "tags": []
   },
   "outputs": [
    {
     "data": {
      "text/html": [
       "<style>#sk-container-id-2 {color: black;background-color: white;}#sk-container-id-2 pre{padding: 0;}#sk-container-id-2 div.sk-toggleable {background-color: white;}#sk-container-id-2 label.sk-toggleable__label {cursor: pointer;display: block;width: 100%;margin-bottom: 0;padding: 0.3em;box-sizing: border-box;text-align: center;}#sk-container-id-2 label.sk-toggleable__label-arrow:before {content: \"▸\";float: left;margin-right: 0.25em;color: #696969;}#sk-container-id-2 label.sk-toggleable__label-arrow:hover:before {color: black;}#sk-container-id-2 div.sk-estimator:hover label.sk-toggleable__label-arrow:before {color: black;}#sk-container-id-2 div.sk-toggleable__content {max-height: 0;max-width: 0;overflow: hidden;text-align: left;background-color: #f0f8ff;}#sk-container-id-2 div.sk-toggleable__content pre {margin: 0.2em;color: black;border-radius: 0.25em;background-color: #f0f8ff;}#sk-container-id-2 input.sk-toggleable__control:checked~div.sk-toggleable__content {max-height: 200px;max-width: 100%;overflow: auto;}#sk-container-id-2 input.sk-toggleable__control:checked~label.sk-toggleable__label-arrow:before {content: \"▾\";}#sk-container-id-2 div.sk-estimator input.sk-toggleable__control:checked~label.sk-toggleable__label {background-color: #d4ebff;}#sk-container-id-2 div.sk-label input.sk-toggleable__control:checked~label.sk-toggleable__label {background-color: #d4ebff;}#sk-container-id-2 input.sk-hidden--visually {border: 0;clip: rect(1px 1px 1px 1px);clip: rect(1px, 1px, 1px, 1px);height: 1px;margin: -1px;overflow: hidden;padding: 0;position: absolute;width: 1px;}#sk-container-id-2 div.sk-estimator {font-family: monospace;background-color: #f0f8ff;border: 1px dotted black;border-radius: 0.25em;box-sizing: border-box;margin-bottom: 0.5em;}#sk-container-id-2 div.sk-estimator:hover {background-color: #d4ebff;}#sk-container-id-2 div.sk-parallel-item::after {content: \"\";width: 100%;border-bottom: 1px solid gray;flex-grow: 1;}#sk-container-id-2 div.sk-label:hover label.sk-toggleable__label {background-color: #d4ebff;}#sk-container-id-2 div.sk-serial::before {content: \"\";position: absolute;border-left: 1px solid gray;box-sizing: border-box;top: 0;bottom: 0;left: 50%;z-index: 0;}#sk-container-id-2 div.sk-serial {display: flex;flex-direction: column;align-items: center;background-color: white;padding-right: 0.2em;padding-left: 0.2em;position: relative;}#sk-container-id-2 div.sk-item {position: relative;z-index: 1;}#sk-container-id-2 div.sk-parallel {display: flex;align-items: stretch;justify-content: center;background-color: white;position: relative;}#sk-container-id-2 div.sk-item::before, #sk-container-id-2 div.sk-parallel-item::before {content: \"\";position: absolute;border-left: 1px solid gray;box-sizing: border-box;top: 0;bottom: 0;left: 50%;z-index: -1;}#sk-container-id-2 div.sk-parallel-item {display: flex;flex-direction: column;z-index: 1;position: relative;background-color: white;}#sk-container-id-2 div.sk-parallel-item:first-child::after {align-self: flex-end;width: 50%;}#sk-container-id-2 div.sk-parallel-item:last-child::after {align-self: flex-start;width: 50%;}#sk-container-id-2 div.sk-parallel-item:only-child::after {width: 0;}#sk-container-id-2 div.sk-dashed-wrapped {border: 1px dashed gray;margin: 0 0.4em 0.5em 0.4em;box-sizing: border-box;padding-bottom: 0.4em;background-color: white;}#sk-container-id-2 div.sk-label label {font-family: monospace;font-weight: bold;display: inline-block;line-height: 1.2em;}#sk-container-id-2 div.sk-label-container {text-align: center;}#sk-container-id-2 div.sk-container {/* jupyter's `normalize.less` sets `[hidden] { display: none; }` but bootstrap.min.css set `[hidden] { display: none !important; }` so we also need the `!important` here to be able to override the default hidden behavior on the sphinx rendered scikit-learn.org. See: https://github.com/scikit-learn/scikit-learn/issues/21755 */display: inline-block !important;position: relative;}#sk-container-id-2 div.sk-text-repr-fallback {display: none;}</style><div id=\"sk-container-id-2\" class=\"sk-top-container\"><div class=\"sk-text-repr-fallback\"><pre>LinearRegression()</pre><b>In a Jupyter environment, please rerun this cell to show the HTML representation or trust the notebook. <br />On GitHub, the HTML representation is unable to render, please try loading this page with nbviewer.org.</b></div><div class=\"sk-container\" hidden><div class=\"sk-item\"><div class=\"sk-estimator sk-toggleable\"><input class=\"sk-toggleable__control sk-hidden--visually\" id=\"sk-estimator-id-2\" type=\"checkbox\" checked><label for=\"sk-estimator-id-2\" class=\"sk-toggleable__label sk-toggleable__label-arrow\">LinearRegression</label><div class=\"sk-toggleable__content\"><pre>LinearRegression()</pre></div></div></div></div></div>"
      ],
      "text/plain": [
       "LinearRegression()"
      ]
     },
     "execution_count": 20,
     "metadata": {},
     "output_type": "execute_result"
    }
   ],
   "source": [
    "linr = LinearRegression()\n",
    "linr.fit(X_train_cut, y_train)"
   ]
  },
  {
   "cell_type": "code",
   "execution_count": 21,
   "id": "b5a5a422-47de-48a8-b6d3-6fd3f2df7323",
   "metadata": {
    "tags": []
   },
   "outputs": [],
   "source": [
    "y_pred = linr.predict(X_test_cut)"
   ]
  },
  {
   "cell_type": "code",
   "execution_count": 22,
   "id": "e9826378-18ef-4f08-b6c5-ddafcc4ea6b2",
   "metadata": {
    "tags": []
   },
   "outputs": [
    {
     "name": "stdout",
     "output_type": "stream",
     "text": [
      "R2 score Linear regression: 0.861\n",
      "Explained variance score: 0.861\n",
      "MAE:  5.253\n"
     ]
    }
   ],
   "source": [
    "print('R2 score Linear regression: %.3f' % linr.score(X_test_cut,y_test))\n",
    "print('Explained variance score: %.3f'  % metrics.explained_variance_score(y_test, y_pred))\n",
    "print('MAE: % .3f' % mean_absolute_error(y_test, y_pred))"
   ]
  },
  {
   "cell_type": "code",
   "execution_count": 23,
   "id": "03c76cd8-d6b0-47ad-a24e-496fab3398ac",
   "metadata": {
    "tags": []
   },
   "outputs": [
    {
     "name": "stderr",
     "output_type": "stream",
     "text": [
      "C:\\Users\\makeda\\.conda\\envs\\mrilanding\\lib\\site-packages\\sklearn\\linear_model\\_least_angle.py:648: ConvergenceWarning: Regressors in active set degenerate. Dropping a regressor, after 19 iterations, i.e. alpha=1.097e-02, with an active set of 15 regressors, and the smallest cholesky pivot element being 2.220e-16. Reduce max_iter or increase eps parameters.\n",
      "  warnings.warn(\n",
      "C:\\Users\\makeda\\.conda\\envs\\mrilanding\\lib\\site-packages\\sklearn\\linear_model\\_least_angle.py:648: ConvergenceWarning: Regressors in active set degenerate. Dropping a regressor, after 20 iterations, i.e. alpha=1.067e-02, with an active set of 16 regressors, and the smallest cholesky pivot element being 2.220e-16. Reduce max_iter or increase eps parameters.\n",
      "  warnings.warn(\n"
     ]
    },
    {
     "data": {
      "text/html": [
       "<style>#sk-container-id-3 {color: black;background-color: white;}#sk-container-id-3 pre{padding: 0;}#sk-container-id-3 div.sk-toggleable {background-color: white;}#sk-container-id-3 label.sk-toggleable__label {cursor: pointer;display: block;width: 100%;margin-bottom: 0;padding: 0.3em;box-sizing: border-box;text-align: center;}#sk-container-id-3 label.sk-toggleable__label-arrow:before {content: \"▸\";float: left;margin-right: 0.25em;color: #696969;}#sk-container-id-3 label.sk-toggleable__label-arrow:hover:before {color: black;}#sk-container-id-3 div.sk-estimator:hover label.sk-toggleable__label-arrow:before {color: black;}#sk-container-id-3 div.sk-toggleable__content {max-height: 0;max-width: 0;overflow: hidden;text-align: left;background-color: #f0f8ff;}#sk-container-id-3 div.sk-toggleable__content pre {margin: 0.2em;color: black;border-radius: 0.25em;background-color: #f0f8ff;}#sk-container-id-3 input.sk-toggleable__control:checked~div.sk-toggleable__content {max-height: 200px;max-width: 100%;overflow: auto;}#sk-container-id-3 input.sk-toggleable__control:checked~label.sk-toggleable__label-arrow:before {content: \"▾\";}#sk-container-id-3 div.sk-estimator input.sk-toggleable__control:checked~label.sk-toggleable__label {background-color: #d4ebff;}#sk-container-id-3 div.sk-label input.sk-toggleable__control:checked~label.sk-toggleable__label {background-color: #d4ebff;}#sk-container-id-3 input.sk-hidden--visually {border: 0;clip: rect(1px 1px 1px 1px);clip: rect(1px, 1px, 1px, 1px);height: 1px;margin: -1px;overflow: hidden;padding: 0;position: absolute;width: 1px;}#sk-container-id-3 div.sk-estimator {font-family: monospace;background-color: #f0f8ff;border: 1px dotted black;border-radius: 0.25em;box-sizing: border-box;margin-bottom: 0.5em;}#sk-container-id-3 div.sk-estimator:hover {background-color: #d4ebff;}#sk-container-id-3 div.sk-parallel-item::after {content: \"\";width: 100%;border-bottom: 1px solid gray;flex-grow: 1;}#sk-container-id-3 div.sk-label:hover label.sk-toggleable__label {background-color: #d4ebff;}#sk-container-id-3 div.sk-serial::before {content: \"\";position: absolute;border-left: 1px solid gray;box-sizing: border-box;top: 0;bottom: 0;left: 50%;z-index: 0;}#sk-container-id-3 div.sk-serial {display: flex;flex-direction: column;align-items: center;background-color: white;padding-right: 0.2em;padding-left: 0.2em;position: relative;}#sk-container-id-3 div.sk-item {position: relative;z-index: 1;}#sk-container-id-3 div.sk-parallel {display: flex;align-items: stretch;justify-content: center;background-color: white;position: relative;}#sk-container-id-3 div.sk-item::before, #sk-container-id-3 div.sk-parallel-item::before {content: \"\";position: absolute;border-left: 1px solid gray;box-sizing: border-box;top: 0;bottom: 0;left: 50%;z-index: -1;}#sk-container-id-3 div.sk-parallel-item {display: flex;flex-direction: column;z-index: 1;position: relative;background-color: white;}#sk-container-id-3 div.sk-parallel-item:first-child::after {align-self: flex-end;width: 50%;}#sk-container-id-3 div.sk-parallel-item:last-child::after {align-self: flex-start;width: 50%;}#sk-container-id-3 div.sk-parallel-item:only-child::after {width: 0;}#sk-container-id-3 div.sk-dashed-wrapped {border: 1px dashed gray;margin: 0 0.4em 0.5em 0.4em;box-sizing: border-box;padding-bottom: 0.4em;background-color: white;}#sk-container-id-3 div.sk-label label {font-family: monospace;font-weight: bold;display: inline-block;line-height: 1.2em;}#sk-container-id-3 div.sk-label-container {text-align: center;}#sk-container-id-3 div.sk-container {/* jupyter's `normalize.less` sets `[hidden] { display: none; }` but bootstrap.min.css set `[hidden] { display: none !important; }` so we also need the `!important` here to be able to override the default hidden behavior on the sphinx rendered scikit-learn.org. See: https://github.com/scikit-learn/scikit-learn/issues/21755 */display: inline-block !important;position: relative;}#sk-container-id-3 div.sk-text-repr-fallback {display: none;}</style><div id=\"sk-container-id-3\" class=\"sk-top-container\"><div class=\"sk-text-repr-fallback\"><pre>LassoLars(alpha=0.01)</pre><b>In a Jupyter environment, please rerun this cell to show the HTML representation or trust the notebook. <br />On GitHub, the HTML representation is unable to render, please try loading this page with nbviewer.org.</b></div><div class=\"sk-container\" hidden><div class=\"sk-item\"><div class=\"sk-estimator sk-toggleable\"><input class=\"sk-toggleable__control sk-hidden--visually\" id=\"sk-estimator-id-3\" type=\"checkbox\" checked><label for=\"sk-estimator-id-3\" class=\"sk-toggleable__label sk-toggleable__label-arrow\">LassoLars</label><div class=\"sk-toggleable__content\"><pre>LassoLars(alpha=0.01)</pre></div></div></div></div></div>"
      ],
      "text/plain": [
       "LassoLars(alpha=0.01)"
      ]
     },
     "execution_count": 23,
     "metadata": {},
     "output_type": "execute_result"
    }
   ],
   "source": [
    "llreg = linear_model.LassoLars(alpha=0.01)\n",
    "llreg.fit(X_train_cut, y_train)"
   ]
  },
  {
   "cell_type": "code",
   "execution_count": 24,
   "id": "c9302487-5646-48e3-b596-4e6cfad6e13c",
   "metadata": {
    "tags": []
   },
   "outputs": [
    {
     "name": "stdout",
     "output_type": "stream",
     "text": [
      "R2 score Lasso regression: 0.856\n",
      "Explained variance score: 0.856\n",
      "The mean absolute error: 5.361\n"
     ]
    }
   ],
   "source": [
    "y_pred = llreg.predict(X_test_cut)\n",
    "print('R2 score Lasso regression: %.3f' % llreg.score(X_test_cut,y_test))\n",
    "print('Explained variance score: %.3f'  % metrics.explained_variance_score(y_test, y_pred))\n",
    "print('The mean absolute error: %.3f' % mean_absolute_error(y_test, y_pred))"
   ]
  },
  {
   "cell_type": "code",
   "execution_count": 25,
   "id": "0b844270-90d8-496d-86c5-dcc41155d477",
   "metadata": {
    "tags": []
   },
   "outputs": [
    {
     "data": {
      "text/html": [
       "<style>#sk-container-id-4 {color: black;background-color: white;}#sk-container-id-4 pre{padding: 0;}#sk-container-id-4 div.sk-toggleable {background-color: white;}#sk-container-id-4 label.sk-toggleable__label {cursor: pointer;display: block;width: 100%;margin-bottom: 0;padding: 0.3em;box-sizing: border-box;text-align: center;}#sk-container-id-4 label.sk-toggleable__label-arrow:before {content: \"▸\";float: left;margin-right: 0.25em;color: #696969;}#sk-container-id-4 label.sk-toggleable__label-arrow:hover:before {color: black;}#sk-container-id-4 div.sk-estimator:hover label.sk-toggleable__label-arrow:before {color: black;}#sk-container-id-4 div.sk-toggleable__content {max-height: 0;max-width: 0;overflow: hidden;text-align: left;background-color: #f0f8ff;}#sk-container-id-4 div.sk-toggleable__content pre {margin: 0.2em;color: black;border-radius: 0.25em;background-color: #f0f8ff;}#sk-container-id-4 input.sk-toggleable__control:checked~div.sk-toggleable__content {max-height: 200px;max-width: 100%;overflow: auto;}#sk-container-id-4 input.sk-toggleable__control:checked~label.sk-toggleable__label-arrow:before {content: \"▾\";}#sk-container-id-4 div.sk-estimator input.sk-toggleable__control:checked~label.sk-toggleable__label {background-color: #d4ebff;}#sk-container-id-4 div.sk-label input.sk-toggleable__control:checked~label.sk-toggleable__label {background-color: #d4ebff;}#sk-container-id-4 input.sk-hidden--visually {border: 0;clip: rect(1px 1px 1px 1px);clip: rect(1px, 1px, 1px, 1px);height: 1px;margin: -1px;overflow: hidden;padding: 0;position: absolute;width: 1px;}#sk-container-id-4 div.sk-estimator {font-family: monospace;background-color: #f0f8ff;border: 1px dotted black;border-radius: 0.25em;box-sizing: border-box;margin-bottom: 0.5em;}#sk-container-id-4 div.sk-estimator:hover {background-color: #d4ebff;}#sk-container-id-4 div.sk-parallel-item::after {content: \"\";width: 100%;border-bottom: 1px solid gray;flex-grow: 1;}#sk-container-id-4 div.sk-label:hover label.sk-toggleable__label {background-color: #d4ebff;}#sk-container-id-4 div.sk-serial::before {content: \"\";position: absolute;border-left: 1px solid gray;box-sizing: border-box;top: 0;bottom: 0;left: 50%;z-index: 0;}#sk-container-id-4 div.sk-serial {display: flex;flex-direction: column;align-items: center;background-color: white;padding-right: 0.2em;padding-left: 0.2em;position: relative;}#sk-container-id-4 div.sk-item {position: relative;z-index: 1;}#sk-container-id-4 div.sk-parallel {display: flex;align-items: stretch;justify-content: center;background-color: white;position: relative;}#sk-container-id-4 div.sk-item::before, #sk-container-id-4 div.sk-parallel-item::before {content: \"\";position: absolute;border-left: 1px solid gray;box-sizing: border-box;top: 0;bottom: 0;left: 50%;z-index: -1;}#sk-container-id-4 div.sk-parallel-item {display: flex;flex-direction: column;z-index: 1;position: relative;background-color: white;}#sk-container-id-4 div.sk-parallel-item:first-child::after {align-self: flex-end;width: 50%;}#sk-container-id-4 div.sk-parallel-item:last-child::after {align-self: flex-start;width: 50%;}#sk-container-id-4 div.sk-parallel-item:only-child::after {width: 0;}#sk-container-id-4 div.sk-dashed-wrapped {border: 1px dashed gray;margin: 0 0.4em 0.5em 0.4em;box-sizing: border-box;padding-bottom: 0.4em;background-color: white;}#sk-container-id-4 div.sk-label label {font-family: monospace;font-weight: bold;display: inline-block;line-height: 1.2em;}#sk-container-id-4 div.sk-label-container {text-align: center;}#sk-container-id-4 div.sk-container {/* jupyter's `normalize.less` sets `[hidden] { display: none; }` but bootstrap.min.css set `[hidden] { display: none !important; }` so we also need the `!important` here to be able to override the default hidden behavior on the sphinx rendered scikit-learn.org. See: https://github.com/scikit-learn/scikit-learn/issues/21755 */display: inline-block !important;position: relative;}#sk-container-id-4 div.sk-text-repr-fallback {display: none;}</style><div id=\"sk-container-id-4\" class=\"sk-top-container\"><div class=\"sk-text-repr-fallback\"><pre>DecisionTreeRegressor()</pre><b>In a Jupyter environment, please rerun this cell to show the HTML representation or trust the notebook. <br />On GitHub, the HTML representation is unable to render, please try loading this page with nbviewer.org.</b></div><div class=\"sk-container\" hidden><div class=\"sk-item\"><div class=\"sk-estimator sk-toggleable\"><input class=\"sk-toggleable__control sk-hidden--visually\" id=\"sk-estimator-id-4\" type=\"checkbox\" checked><label for=\"sk-estimator-id-4\" class=\"sk-toggleable__label sk-toggleable__label-arrow\">DecisionTreeRegressor</label><div class=\"sk-toggleable__content\"><pre>DecisionTreeRegressor()</pre></div></div></div></div></div>"
      ],
      "text/plain": [
       "DecisionTreeRegressor()"
      ]
     },
     "execution_count": 25,
     "metadata": {},
     "output_type": "execute_result"
    }
   ],
   "source": [
    "dtree = tree.DecisionTreeRegressor()\n",
    "dtree.fit(X_train_cut, y_train)"
   ]
  },
  {
   "cell_type": "code",
   "execution_count": 26,
   "id": "f0d65dba-520c-4520-a412-aa803a2875e0",
   "metadata": {
    "tags": []
   },
   "outputs": [
    {
     "name": "stdout",
     "output_type": "stream",
     "text": [
      "R2 score dtree regression: 0.773\n",
      "Explained variance score: 0.773\n",
      "The mean absolute error: 6.312\n"
     ]
    }
   ],
   "source": [
    "y_pred = dtree.predict(X_test_cut)\n",
    "print('R2 score dtree regression: %.3f' % dtree.score(X_test_cut,y_test))\n",
    "print('Explained variance score: %.3f'  % metrics.explained_variance_score(y_test, y_pred))\n",
    "print('The mean absolute error: %.3f' % mean_absolute_error(y_test, y_pred))"
   ]
  },
  {
   "cell_type": "code",
   "execution_count": 28,
   "id": "5c8e4225-7e32-4840-ad98-e5464a4adf77",
   "metadata": {
    "tags": []
   },
   "outputs": [
    {
     "data": {
      "text/html": [
       "<style>#sk-container-id-5 {color: black;background-color: white;}#sk-container-id-5 pre{padding: 0;}#sk-container-id-5 div.sk-toggleable {background-color: white;}#sk-container-id-5 label.sk-toggleable__label {cursor: pointer;display: block;width: 100%;margin-bottom: 0;padding: 0.3em;box-sizing: border-box;text-align: center;}#sk-container-id-5 label.sk-toggleable__label-arrow:before {content: \"▸\";float: left;margin-right: 0.25em;color: #696969;}#sk-container-id-5 label.sk-toggleable__label-arrow:hover:before {color: black;}#sk-container-id-5 div.sk-estimator:hover label.sk-toggleable__label-arrow:before {color: black;}#sk-container-id-5 div.sk-toggleable__content {max-height: 0;max-width: 0;overflow: hidden;text-align: left;background-color: #f0f8ff;}#sk-container-id-5 div.sk-toggleable__content pre {margin: 0.2em;color: black;border-radius: 0.25em;background-color: #f0f8ff;}#sk-container-id-5 input.sk-toggleable__control:checked~div.sk-toggleable__content {max-height: 200px;max-width: 100%;overflow: auto;}#sk-container-id-5 input.sk-toggleable__control:checked~label.sk-toggleable__label-arrow:before {content: \"▾\";}#sk-container-id-5 div.sk-estimator input.sk-toggleable__control:checked~label.sk-toggleable__label {background-color: #d4ebff;}#sk-container-id-5 div.sk-label input.sk-toggleable__control:checked~label.sk-toggleable__label {background-color: #d4ebff;}#sk-container-id-5 input.sk-hidden--visually {border: 0;clip: rect(1px 1px 1px 1px);clip: rect(1px, 1px, 1px, 1px);height: 1px;margin: -1px;overflow: hidden;padding: 0;position: absolute;width: 1px;}#sk-container-id-5 div.sk-estimator {font-family: monospace;background-color: #f0f8ff;border: 1px dotted black;border-radius: 0.25em;box-sizing: border-box;margin-bottom: 0.5em;}#sk-container-id-5 div.sk-estimator:hover {background-color: #d4ebff;}#sk-container-id-5 div.sk-parallel-item::after {content: \"\";width: 100%;border-bottom: 1px solid gray;flex-grow: 1;}#sk-container-id-5 div.sk-label:hover label.sk-toggleable__label {background-color: #d4ebff;}#sk-container-id-5 div.sk-serial::before {content: \"\";position: absolute;border-left: 1px solid gray;box-sizing: border-box;top: 0;bottom: 0;left: 50%;z-index: 0;}#sk-container-id-5 div.sk-serial {display: flex;flex-direction: column;align-items: center;background-color: white;padding-right: 0.2em;padding-left: 0.2em;position: relative;}#sk-container-id-5 div.sk-item {position: relative;z-index: 1;}#sk-container-id-5 div.sk-parallel {display: flex;align-items: stretch;justify-content: center;background-color: white;position: relative;}#sk-container-id-5 div.sk-item::before, #sk-container-id-5 div.sk-parallel-item::before {content: \"\";position: absolute;border-left: 1px solid gray;box-sizing: border-box;top: 0;bottom: 0;left: 50%;z-index: -1;}#sk-container-id-5 div.sk-parallel-item {display: flex;flex-direction: column;z-index: 1;position: relative;background-color: white;}#sk-container-id-5 div.sk-parallel-item:first-child::after {align-self: flex-end;width: 50%;}#sk-container-id-5 div.sk-parallel-item:last-child::after {align-self: flex-start;width: 50%;}#sk-container-id-5 div.sk-parallel-item:only-child::after {width: 0;}#sk-container-id-5 div.sk-dashed-wrapped {border: 1px dashed gray;margin: 0 0.4em 0.5em 0.4em;box-sizing: border-box;padding-bottom: 0.4em;background-color: white;}#sk-container-id-5 div.sk-label label {font-family: monospace;font-weight: bold;display: inline-block;line-height: 1.2em;}#sk-container-id-5 div.sk-label-container {text-align: center;}#sk-container-id-5 div.sk-container {/* jupyter's `normalize.less` sets `[hidden] { display: none; }` but bootstrap.min.css set `[hidden] { display: none !important; }` so we also need the `!important` here to be able to override the default hidden behavior on the sphinx rendered scikit-learn.org. See: https://github.com/scikit-learn/scikit-learn/issues/21755 */display: inline-block !important;position: relative;}#sk-container-id-5 div.sk-text-repr-fallback {display: none;}</style><div id=\"sk-container-id-5\" class=\"sk-top-container\"><div class=\"sk-text-repr-fallback\"><pre>SVR(degree=2, epsilon=0.2, kernel=&#x27;poly&#x27;)</pre><b>In a Jupyter environment, please rerun this cell to show the HTML representation or trust the notebook. <br />On GitHub, the HTML representation is unable to render, please try loading this page with nbviewer.org.</b></div><div class=\"sk-container\" hidden><div class=\"sk-item\"><div class=\"sk-estimator sk-toggleable\"><input class=\"sk-toggleable__control sk-hidden--visually\" id=\"sk-estimator-id-5\" type=\"checkbox\" checked><label for=\"sk-estimator-id-5\" class=\"sk-toggleable__label sk-toggleable__label-arrow\">SVR</label><div class=\"sk-toggleable__content\"><pre>SVR(degree=2, epsilon=0.2, kernel=&#x27;poly&#x27;)</pre></div></div></div></div></div>"
      ],
      "text/plain": [
       "SVR(degree=2, epsilon=0.2, kernel='poly')"
      ]
     },
     "execution_count": 28,
     "metadata": {},
     "output_type": "execute_result"
    }
   ],
   "source": [
    "svr_p2 = SVR(C=1.0, kernel='poly', degree =2, epsilon=0.2)\n",
    "svr_p2.fit(X_train_cut, y_train)"
   ]
  },
  {
   "cell_type": "code",
   "execution_count": 31,
   "id": "34dfcef4-ce7d-451c-adc6-8a93f46e2f88",
   "metadata": {
    "tags": []
   },
   "outputs": [
    {
     "name": "stdout",
     "output_type": "stream",
     "text": [
      "R2 score SVR 2nd degree poly kernel regression: 0.437\n",
      "Explained variance score: 0.438\n",
      "MAE:  10.976\n"
     ]
    }
   ],
   "source": [
    "y_pred = svr_p2.predict(X_test_cut)\n",
    "print('R2 score SVR 2nd degree poly kernel regression: %.3f' % svr_p2.score(X_test_cut,y_test))\n",
    "print('Explained variance score: %.3f'  % metrics.explained_variance_score(y_test, y_pred))\n",
    "print('MAE: % .3f' % mean_absolute_error(y_test, y_pred))"
   ]
  },
  {
   "cell_type": "code",
   "execution_count": 34,
   "id": "8a86a114-dc29-4a91-9c73-4c38a5aeb59f",
   "metadata": {
    "tags": []
   },
   "outputs": [
    {
     "data": {
      "text/html": [
       "<style>#sk-container-id-6 {color: black;background-color: white;}#sk-container-id-6 pre{padding: 0;}#sk-container-id-6 div.sk-toggleable {background-color: white;}#sk-container-id-6 label.sk-toggleable__label {cursor: pointer;display: block;width: 100%;margin-bottom: 0;padding: 0.3em;box-sizing: border-box;text-align: center;}#sk-container-id-6 label.sk-toggleable__label-arrow:before {content: \"▸\";float: left;margin-right: 0.25em;color: #696969;}#sk-container-id-6 label.sk-toggleable__label-arrow:hover:before {color: black;}#sk-container-id-6 div.sk-estimator:hover label.sk-toggleable__label-arrow:before {color: black;}#sk-container-id-6 div.sk-toggleable__content {max-height: 0;max-width: 0;overflow: hidden;text-align: left;background-color: #f0f8ff;}#sk-container-id-6 div.sk-toggleable__content pre {margin: 0.2em;color: black;border-radius: 0.25em;background-color: #f0f8ff;}#sk-container-id-6 input.sk-toggleable__control:checked~div.sk-toggleable__content {max-height: 200px;max-width: 100%;overflow: auto;}#sk-container-id-6 input.sk-toggleable__control:checked~label.sk-toggleable__label-arrow:before {content: \"▾\";}#sk-container-id-6 div.sk-estimator input.sk-toggleable__control:checked~label.sk-toggleable__label {background-color: #d4ebff;}#sk-container-id-6 div.sk-label input.sk-toggleable__control:checked~label.sk-toggleable__label {background-color: #d4ebff;}#sk-container-id-6 input.sk-hidden--visually {border: 0;clip: rect(1px 1px 1px 1px);clip: rect(1px, 1px, 1px, 1px);height: 1px;margin: -1px;overflow: hidden;padding: 0;position: absolute;width: 1px;}#sk-container-id-6 div.sk-estimator {font-family: monospace;background-color: #f0f8ff;border: 1px dotted black;border-radius: 0.25em;box-sizing: border-box;margin-bottom: 0.5em;}#sk-container-id-6 div.sk-estimator:hover {background-color: #d4ebff;}#sk-container-id-6 div.sk-parallel-item::after {content: \"\";width: 100%;border-bottom: 1px solid gray;flex-grow: 1;}#sk-container-id-6 div.sk-label:hover label.sk-toggleable__label {background-color: #d4ebff;}#sk-container-id-6 div.sk-serial::before {content: \"\";position: absolute;border-left: 1px solid gray;box-sizing: border-box;top: 0;bottom: 0;left: 50%;z-index: 0;}#sk-container-id-6 div.sk-serial {display: flex;flex-direction: column;align-items: center;background-color: white;padding-right: 0.2em;padding-left: 0.2em;position: relative;}#sk-container-id-6 div.sk-item {position: relative;z-index: 1;}#sk-container-id-6 div.sk-parallel {display: flex;align-items: stretch;justify-content: center;background-color: white;position: relative;}#sk-container-id-6 div.sk-item::before, #sk-container-id-6 div.sk-parallel-item::before {content: \"\";position: absolute;border-left: 1px solid gray;box-sizing: border-box;top: 0;bottom: 0;left: 50%;z-index: -1;}#sk-container-id-6 div.sk-parallel-item {display: flex;flex-direction: column;z-index: 1;position: relative;background-color: white;}#sk-container-id-6 div.sk-parallel-item:first-child::after {align-self: flex-end;width: 50%;}#sk-container-id-6 div.sk-parallel-item:last-child::after {align-self: flex-start;width: 50%;}#sk-container-id-6 div.sk-parallel-item:only-child::after {width: 0;}#sk-container-id-6 div.sk-dashed-wrapped {border: 1px dashed gray;margin: 0 0.4em 0.5em 0.4em;box-sizing: border-box;padding-bottom: 0.4em;background-color: white;}#sk-container-id-6 div.sk-label label {font-family: monospace;font-weight: bold;display: inline-block;line-height: 1.2em;}#sk-container-id-6 div.sk-label-container {text-align: center;}#sk-container-id-6 div.sk-container {/* jupyter's `normalize.less` sets `[hidden] { display: none; }` but bootstrap.min.css set `[hidden] { display: none !important; }` so we also need the `!important` here to be able to override the default hidden behavior on the sphinx rendered scikit-learn.org. See: https://github.com/scikit-learn/scikit-learn/issues/21755 */display: inline-block !important;position: relative;}#sk-container-id-6 div.sk-text-repr-fallback {display: none;}</style><div id=\"sk-container-id-6\" class=\"sk-top-container\"><div class=\"sk-text-repr-fallback\"><pre>ElasticNetCV(cv=5, random_state=12)</pre><b>In a Jupyter environment, please rerun this cell to show the HTML representation or trust the notebook. <br />On GitHub, the HTML representation is unable to render, please try loading this page with nbviewer.org.</b></div><div class=\"sk-container\" hidden><div class=\"sk-item\"><div class=\"sk-estimator sk-toggleable\"><input class=\"sk-toggleable__control sk-hidden--visually\" id=\"sk-estimator-id-6\" type=\"checkbox\" checked><label for=\"sk-estimator-id-6\" class=\"sk-toggleable__label sk-toggleable__label-arrow\">ElasticNetCV</label><div class=\"sk-toggleable__content\"><pre>ElasticNetCV(cv=5, random_state=12)</pre></div></div></div></div></div>"
      ],
      "text/plain": [
       "ElasticNetCV(cv=5, random_state=12)"
      ]
     },
     "execution_count": 34,
     "metadata": {},
     "output_type": "execute_result"
    }
   ],
   "source": [
    "eregr = ElasticNetCV(cv=5, random_state=12)\n",
    "eregr.fit(X_train_cut, y_train)"
   ]
  },
  {
   "cell_type": "code",
   "execution_count": 35,
   "id": "4ea5a854-6b8e-481e-93c4-1aae75f8dad9",
   "metadata": {
    "tags": []
   },
   "outputs": [
    {
     "name": "stdout",
     "output_type": "stream",
     "text": [
      "R2 score elasticnetcv regression: 0.737\n",
      "Explained variance score: 0.738\n",
      "MAE:  7.370\n"
     ]
    }
   ],
   "source": [
    "y_pred = eregr.predict(X_test_cut)\n",
    "print('R2 score elasticnetcv regression: %.3f' % eregr.score(X_test_cut,y_test))\n",
    "print('Explained variance score: %.3f'  % metrics.explained_variance_score(y_test, y_pred))\n",
    "print('MAE: % .3f' % mean_absolute_error(y_test, y_pred))"
   ]
  },
  {
   "cell_type": "code",
   "execution_count": 37,
   "id": "5caad995-037d-4ede-b4ec-9e9bcf88f43f",
   "metadata": {
    "tags": []
   },
   "outputs": [
    {
     "data": {
      "text/html": [
       "<style>#sk-container-id-7 {color: black;background-color: white;}#sk-container-id-7 pre{padding: 0;}#sk-container-id-7 div.sk-toggleable {background-color: white;}#sk-container-id-7 label.sk-toggleable__label {cursor: pointer;display: block;width: 100%;margin-bottom: 0;padding: 0.3em;box-sizing: border-box;text-align: center;}#sk-container-id-7 label.sk-toggleable__label-arrow:before {content: \"▸\";float: left;margin-right: 0.25em;color: #696969;}#sk-container-id-7 label.sk-toggleable__label-arrow:hover:before {color: black;}#sk-container-id-7 div.sk-estimator:hover label.sk-toggleable__label-arrow:before {color: black;}#sk-container-id-7 div.sk-toggleable__content {max-height: 0;max-width: 0;overflow: hidden;text-align: left;background-color: #f0f8ff;}#sk-container-id-7 div.sk-toggleable__content pre {margin: 0.2em;color: black;border-radius: 0.25em;background-color: #f0f8ff;}#sk-container-id-7 input.sk-toggleable__control:checked~div.sk-toggleable__content {max-height: 200px;max-width: 100%;overflow: auto;}#sk-container-id-7 input.sk-toggleable__control:checked~label.sk-toggleable__label-arrow:before {content: \"▾\";}#sk-container-id-7 div.sk-estimator input.sk-toggleable__control:checked~label.sk-toggleable__label {background-color: #d4ebff;}#sk-container-id-7 div.sk-label input.sk-toggleable__control:checked~label.sk-toggleable__label {background-color: #d4ebff;}#sk-container-id-7 input.sk-hidden--visually {border: 0;clip: rect(1px 1px 1px 1px);clip: rect(1px, 1px, 1px, 1px);height: 1px;margin: -1px;overflow: hidden;padding: 0;position: absolute;width: 1px;}#sk-container-id-7 div.sk-estimator {font-family: monospace;background-color: #f0f8ff;border: 1px dotted black;border-radius: 0.25em;box-sizing: border-box;margin-bottom: 0.5em;}#sk-container-id-7 div.sk-estimator:hover {background-color: #d4ebff;}#sk-container-id-7 div.sk-parallel-item::after {content: \"\";width: 100%;border-bottom: 1px solid gray;flex-grow: 1;}#sk-container-id-7 div.sk-label:hover label.sk-toggleable__label {background-color: #d4ebff;}#sk-container-id-7 div.sk-serial::before {content: \"\";position: absolute;border-left: 1px solid gray;box-sizing: border-box;top: 0;bottom: 0;left: 50%;z-index: 0;}#sk-container-id-7 div.sk-serial {display: flex;flex-direction: column;align-items: center;background-color: white;padding-right: 0.2em;padding-left: 0.2em;position: relative;}#sk-container-id-7 div.sk-item {position: relative;z-index: 1;}#sk-container-id-7 div.sk-parallel {display: flex;align-items: stretch;justify-content: center;background-color: white;position: relative;}#sk-container-id-7 div.sk-item::before, #sk-container-id-7 div.sk-parallel-item::before {content: \"\";position: absolute;border-left: 1px solid gray;box-sizing: border-box;top: 0;bottom: 0;left: 50%;z-index: -1;}#sk-container-id-7 div.sk-parallel-item {display: flex;flex-direction: column;z-index: 1;position: relative;background-color: white;}#sk-container-id-7 div.sk-parallel-item:first-child::after {align-self: flex-end;width: 50%;}#sk-container-id-7 div.sk-parallel-item:last-child::after {align-self: flex-start;width: 50%;}#sk-container-id-7 div.sk-parallel-item:only-child::after {width: 0;}#sk-container-id-7 div.sk-dashed-wrapped {border: 1px dashed gray;margin: 0 0.4em 0.5em 0.4em;box-sizing: border-box;padding-bottom: 0.4em;background-color: white;}#sk-container-id-7 div.sk-label label {font-family: monospace;font-weight: bold;display: inline-block;line-height: 1.2em;}#sk-container-id-7 div.sk-label-container {text-align: center;}#sk-container-id-7 div.sk-container {/* jupyter's `normalize.less` sets `[hidden] { display: none; }` but bootstrap.min.css set `[hidden] { display: none !important; }` so we also need the `!important` here to be able to override the default hidden behavior on the sphinx rendered scikit-learn.org. See: https://github.com/scikit-learn/scikit-learn/issues/21755 */display: inline-block !important;position: relative;}#sk-container-id-7 div.sk-text-repr-fallback {display: none;}</style><div id=\"sk-container-id-7\" class=\"sk-top-container\"><div class=\"sk-text-repr-fallback\"><pre>ExtraTreesRegressor(random_state=0)</pre><b>In a Jupyter environment, please rerun this cell to show the HTML representation or trust the notebook. <br />On GitHub, the HTML representation is unable to render, please try loading this page with nbviewer.org.</b></div><div class=\"sk-container\" hidden><div class=\"sk-item\"><div class=\"sk-estimator sk-toggleable\"><input class=\"sk-toggleable__control sk-hidden--visually\" id=\"sk-estimator-id-7\" type=\"checkbox\" checked><label for=\"sk-estimator-id-7\" class=\"sk-toggleable__label sk-toggleable__label-arrow\">ExtraTreesRegressor</label><div class=\"sk-toggleable__content\"><pre>ExtraTreesRegressor(random_state=0)</pre></div></div></div></div></div>"
      ],
      "text/plain": [
       "ExtraTreesRegressor(random_state=0)"
      ]
     },
     "execution_count": 37,
     "metadata": {},
     "output_type": "execute_result"
    }
   ],
   "source": [
    "etreg = ExtraTreesRegressor(n_estimators=100, random_state=0)\n",
    "etreg.fit(X_train_cut, y_train)"
   ]
  },
  {
   "cell_type": "code",
   "execution_count": 38,
   "id": "a8dad90d-03bf-476a-b5d8-65fc595f8608",
   "metadata": {
    "tags": []
   },
   "outputs": [
    {
     "name": "stdout",
     "output_type": "stream",
     "text": [
      "R2 score extra trees regression: 0.882\n",
      "Explained variance score: 0.883\n",
      "MAE:  4.743\n"
     ]
    }
   ],
   "source": [
    "y_pred = etreg.predict(X_test_cut)\n",
    "print('R2 score extra trees regression: %.3f' % etreg.score(X_test_cut,y_test))\n",
    "print('Explained variance score: %.3f'  % metrics.explained_variance_score(y_test, y_pred))\n",
    "print('MAE: % .3f' % mean_absolute_error(y_test, y_pred))"
   ]
  },
  {
   "cell_type": "markdown",
   "id": "222453bb-be5e-49ab-a6d6-fc517455d231",
   "metadata": {},
   "source": [
    "## Save off models"
   ]
  },
  {
   "cell_type": "code",
   "execution_count": 39,
   "id": "e92a5088-213d-43aa-a4d6-57f9a423de28",
   "metadata": {
    "tags": []
   },
   "outputs": [],
   "source": [
    "# check if model folder exists and if not , then create\n",
    "model_folder = '../result_models/'\n",
    "if not os.path.exists(model_folder):\n",
    "    os.makedirs(model_folder)"
   ]
  },
  {
   "cell_type": "code",
   "execution_count": 41,
   "id": "84df2c8c-e56c-4600-803c-6b4c59aa66ea",
   "metadata": {
    "tags": []
   },
   "outputs": [
    {
     "data": {
      "text/plain": [
       "['../result_models/unharm_mixed_extratree.sav']"
      ]
     },
     "execution_count": 41,
     "metadata": {},
     "output_type": "execute_result"
    }
   ],
   "source": [
    "# joblib.dump(linr, ('../result_models/'+ 'unharm_mixed_linr.sav'))\n",
    "# joblib.dump(llreg, ('../result_models/'+ 'unharm_mixed_lassor.sav'))\n",
    "# joblib.dump(dtree, ('../result_models/'+ 'unharm_mixed_dtree.sav'))\n",
    "# joblib.dump(regr, ('../result_models/'+'unharm_mixed_regr.sav'))\n",
    "# joblib.dump(svr_p2, ('../result_models/'+'unharm_mixed_svrp2.sav'))\n",
    "# joblib.dump(eregr, ('../result_models/'+ 'unharm_mixed_elasticnet.sav'))\n",
    "# joblib.dump(etreg, ('../result_models/'+ 'unharm_mixed_extratree.sav'))"
   ]
  },
  {
   "cell_type": "markdown",
   "id": "3564dee9-7ed4-4e52-afce-447a173946da",
   "metadata": {},
   "source": [
    "## Run models on other datasets (TOP, StrokeMRI)\n",
    "but without re-running the training data"
   ]
  },
  {
   "cell_type": "markdown",
   "id": "09bf11e8-12e1-4c65-9fe4-c206dc5e1427",
   "metadata": {},
   "source": [
    "# # Here we check tht no rows once patient IDs were pulled \n",
    "(if not we can map them back)"
   ]
  },
  {
   "cell_type": "code",
   "execution_count": 42,
   "id": "11e2c971-278c-43ca-847d-aa2e760d8ec3",
   "metadata": {
    "tags": []
   },
   "outputs": [
    {
     "data": {
      "text/plain": [
       "0"
      ]
     },
     "execution_count": 42,
     "metadata": {},
     "output_type": "execute_result"
    }
   ],
   "source": [
    "X_train_pandas = pd.DataFrame(X_train)\n",
    "X_train_pandas.duplicated().sum()"
   ]
  },
  {
   "cell_type": "markdown",
   "id": "d1d824a7-0b4d-48cb-8b81-d9110dbc4051",
   "metadata": {
    "tags": []
   },
   "source": [
    "top_ml_matrix\n",
    "needs to be mapped to top rows in X_train,\n",
    "we will use ese MD5 hashes"
   ]
  },
  {
   "cell_type": "markdown",
   "id": "ddc9c725-9485-4c29-8026-a05e59ca890c",
   "metadata": {},
   "source": [
    "now we need to make a dataframe of TOP minus what is in X_train"
   ]
  },
  {
   "cell_type": "code",
   "execution_count": 43,
   "id": "c7858f16-6fff-4f4c-aa5c-039c96f6ca3f",
   "metadata": {
    "tags": []
   },
   "outputs": [
    {
     "data": {
      "text/html": [
       "<div>\n",
       "<style scoped>\n",
       "    .dataframe tbody tr th:only-of-type {\n",
       "        vertical-align: middle;\n",
       "    }\n",
       "\n",
       "    .dataframe tbody tr th {\n",
       "        vertical-align: top;\n",
       "    }\n",
       "\n",
       "    .dataframe thead th {\n",
       "        text-align: right;\n",
       "    }\n",
       "</style>\n",
       "<table border=\"1\" class=\"dataframe\">\n",
       "  <thead>\n",
       "    <tr style=\"text-align: right;\">\n",
       "      <th></th>\n",
       "      <th>0</th>\n",
       "      <th>1</th>\n",
       "      <th>2</th>\n",
       "      <th>3</th>\n",
       "      <th>4</th>\n",
       "      <th>5</th>\n",
       "      <th>6</th>\n",
       "      <th>7</th>\n",
       "      <th>8</th>\n",
       "      <th>9</th>\n",
       "      <th>10</th>\n",
       "      <th>11</th>\n",
       "      <th>12</th>\n",
       "      <th>13</th>\n",
       "      <th>14</th>\n",
       "      <th>15</th>\n",
       "      <th>16</th>\n",
       "      <th>17</th>\n",
       "      <th>18</th>\n",
       "    </tr>\n",
       "  </thead>\n",
       "  <tbody>\n",
       "    <tr>\n",
       "      <th>0</th>\n",
       "      <td>sub-59168_2_ses-2_run-1</td>\n",
       "      <td>0</td>\n",
       "      <td>0.5728</td>\n",
       "      <td>0.44099</td>\n",
       "      <td>0.32872</td>\n",
       "      <td>0.42666</td>\n",
       "      <td>0.42666</td>\n",
       "      <td>2.694</td>\n",
       "      <td>27.0</td>\n",
       "      <td>5.7466</td>\n",
       "      <td>2.4044</td>\n",
       "      <td>1.9572</td>\n",
       "      <td>2.0226</td>\n",
       "      <td>2.0232</td>\n",
       "      <td>20.4581</td>\n",
       "      <td>62.7407</td>\n",
       "      <td>56.4464</td>\n",
       "      <td>44.0702</td>\n",
       "      <td>50.8079</td>\n",
       "    </tr>\n",
       "    <tr>\n",
       "      <th>1</th>\n",
       "      <td>sub-1109_1_ses-1_run-1</td>\n",
       "      <td>0</td>\n",
       "      <td>0.61626</td>\n",
       "      <td>0.4806</td>\n",
       "      <td>0.24631</td>\n",
       "      <td>0.45881</td>\n",
       "      <td>0.45881</td>\n",
       "      <td>2.364</td>\n",
       "      <td>17.0</td>\n",
       "      <td>7.0078</td>\n",
       "      <td>1.7119</td>\n",
       "      <td>1.6905</td>\n",
       "      <td>1.7671</td>\n",
       "      <td>1.6694</td>\n",
       "      <td>21.3399</td>\n",
       "      <td>64.97</td>\n",
       "      <td>56.4941</td>\n",
       "      <td>55.1801</td>\n",
       "      <td>56.3065</td>\n",
       "    </tr>\n",
       "    <tr>\n",
       "      <th>2</th>\n",
       "      <td>sub-59292_1_ses-1_run-1</td>\n",
       "      <td>0</td>\n",
       "      <td>0.59074</td>\n",
       "      <td>0.52605</td>\n",
       "      <td>0.34487</td>\n",
       "      <td>0.40416</td>\n",
       "      <td>0.40416</td>\n",
       "      <td>4.423</td>\n",
       "      <td>20.0</td>\n",
       "      <td>6.1642</td>\n",
       "      <td>1.6372</td>\n",
       "      <td>1.9432</td>\n",
       "      <td>1.8627</td>\n",
       "      <td>1.7752</td>\n",
       "      <td>31.6105</td>\n",
       "      <td>114.8866</td>\n",
       "      <td>98.6019</td>\n",
       "      <td>89.3701</td>\n",
       "      <td>92.8638</td>\n",
       "    </tr>\n",
       "  </tbody>\n",
       "</table>\n",
       "</div>"
      ],
      "text/plain": [
       "                        0  1        2        3        4        5        6   \\\n",
       "0  sub-59168_2_ses-2_run-1  0   0.5728  0.44099  0.32872  0.42666  0.42666   \n",
       "1   sub-1109_1_ses-1_run-1  0  0.61626   0.4806  0.24631  0.45881  0.45881   \n",
       "2  sub-59292_1_ses-1_run-1  0  0.59074  0.52605  0.34487  0.40416  0.40416   \n",
       "\n",
       "      7     8       9       10      11      12      13       14        15  \\\n",
       "0  2.694  27.0  5.7466  2.4044  1.9572  2.0226  2.0232  20.4581   62.7407   \n",
       "1  2.364  17.0  7.0078  1.7119  1.6905  1.7671  1.6694  21.3399     64.97   \n",
       "2  4.423  20.0  6.1642  1.6372  1.9432  1.8627  1.7752  31.6105  114.8866   \n",
       "\n",
       "        16       17       18  \n",
       "0  56.4464  44.0702  50.8079  \n",
       "1  56.4941  55.1801  56.3065  \n",
       "2  98.6019  89.3701  92.8638  "
      ]
     },
     "execution_count": 43,
     "metadata": {},
     "output_type": "execute_result"
    }
   ],
   "source": [
    "X_train_pandas.head(3)"
   ]
  },
  {
   "cell_type": "code",
   "execution_count": 44,
   "id": "5d188cad-e115-4f7a-92a1-6b39d76cb6d9",
   "metadata": {
    "tags": []
   },
   "outputs": [],
   "source": [
    "#X_train_pandas[0]"
   ]
  },
  {
   "cell_type": "code",
   "execution_count": 45,
   "id": "3e50840c-74f8-4a4f-8fbc-969874418016",
   "metadata": {
    "tags": []
   },
   "outputs": [],
   "source": [
    "trained_subjects = set(X_train_pandas[0])\n",
    "#trained_subjects "
   ]
  },
  {
   "cell_type": "code",
   "execution_count": 46,
   "id": "4bcb0f94-5cf7-410d-a849-f6b6cc0abafa",
   "metadata": {
    "tags": []
   },
   "outputs": [],
   "source": [
    "TOP_subjects = set(TOP.participant_id)\n",
    "#TOP_subjects"
   ]
  },
  {
   "cell_type": "code",
   "execution_count": 47,
   "id": "fc60f509-54df-4c6e-baf4-edc7bc81b860",
   "metadata": {
    "tags": []
   },
   "outputs": [
    {
     "name": "stdout",
     "output_type": "stream",
     "text": [
      "132\n"
     ]
    }
   ],
   "source": [
    "# take trained subjects out of top subjects\n",
    "# we can use set math here\n",
    "\n",
    "new_top=(trained_subjects^TOP_subjects)&TOP_subjects\n",
    "print(len(new_top))\n",
    "#print(new_top)"
   ]
  },
  {
   "cell_type": "markdown",
   "id": "67e014ce-ad99-4c51-bcfb-7f1e575c154b",
   "metadata": {},
   "source": [
    "filter down to only top where they are in new_top set"
   ]
  },
  {
   "cell_type": "code",
   "execution_count": 48,
   "id": "7b2d287e-c721-4ee1-ba42-906c8a7a515b",
   "metadata": {
    "tags": []
   },
   "outputs": [
    {
     "data": {
      "text/html": [
       "<div>\n",
       "<style scoped>\n",
       "    .dataframe tbody tr th:only-of-type {\n",
       "        vertical-align: middle;\n",
       "    }\n",
       "\n",
       "    .dataframe tbody tr th {\n",
       "        vertical-align: top;\n",
       "    }\n",
       "\n",
       "    .dataframe thead th {\n",
       "        text-align: right;\n",
       "    }\n",
       "</style>\n",
       "<table border=\"1\" class=\"dataframe\">\n",
       "  <thead>\n",
       "    <tr style=\"text-align: right;\">\n",
       "      <th></th>\n",
       "      <th>participant_id</th>\n",
       "      <th>age</th>\n",
       "      <th>sex</th>\n",
       "      <th>gm_vol</th>\n",
       "      <th>wm_vol</th>\n",
       "      <th>csf_vol</th>\n",
       "      <th>gm_ivc_ratio</th>\n",
       "      <th>gmwm_ivc_ratio</th>\n",
       "      <th>wmh_vol</th>\n",
       "      <th>wmh_count</th>\n",
       "      <th>deepwm_b_cov</th>\n",
       "      <th>aca_b_cov</th>\n",
       "      <th>mca_b_cov</th>\n",
       "      <th>pca_b_cov</th>\n",
       "      <th>totalgm_b_cov</th>\n",
       "      <th>deepwm_b</th>\n",
       "      <th>aca_b</th>\n",
       "      <th>mca_b</th>\n",
       "      <th>pca_b</th>\n",
       "      <th>totalgm_b</th>\n",
       "    </tr>\n",
       "  </thead>\n",
       "  <tbody>\n",
       "    <tr>\n",
       "      <th>3</th>\n",
       "      <td>sub-0020_1_ses-1_run-1</td>\n",
       "      <td>21.97</td>\n",
       "      <td>0</td>\n",
       "      <td>0.67042</td>\n",
       "      <td>0.43458</td>\n",
       "      <td>0.25974</td>\n",
       "      <td>0.49124</td>\n",
       "      <td>0.49124</td>\n",
       "      <td>0.736</td>\n",
       "      <td>23.0</td>\n",
       "      <td>6.2080</td>\n",
       "      <td>1.8657</td>\n",
       "      <td>1.9092</td>\n",
       "      <td>1.6402</td>\n",
       "      <td>1.8734</td>\n",
       "      <td>27.1813</td>\n",
       "      <td>100.3259</td>\n",
       "      <td>90.7345</td>\n",
       "      <td>68.0812</td>\n",
       "      <td>79.1128</td>\n",
       "    </tr>\n",
       "    <tr>\n",
       "      <th>10</th>\n",
       "      <td>sub-0033_1_ses-1_run-1</td>\n",
       "      <td>29.21</td>\n",
       "      <td>1</td>\n",
       "      <td>0.59992</td>\n",
       "      <td>0.43360</td>\n",
       "      <td>0.24903</td>\n",
       "      <td>0.46776</td>\n",
       "      <td>0.46776</td>\n",
       "      <td>1.067</td>\n",
       "      <td>14.0</td>\n",
       "      <td>7.9519</td>\n",
       "      <td>1.7067</td>\n",
       "      <td>2.2134</td>\n",
       "      <td>1.9870</td>\n",
       "      <td>1.9942</td>\n",
       "      <td>23.9504</td>\n",
       "      <td>93.1921</td>\n",
       "      <td>86.2951</td>\n",
       "      <td>74.0285</td>\n",
       "      <td>78.9537</td>\n",
       "    </tr>\n",
       "    <tr>\n",
       "      <th>12</th>\n",
       "      <td>sub-0035_1_ses-1_run-1</td>\n",
       "      <td>31.25</td>\n",
       "      <td>1</td>\n",
       "      <td>0.70624</td>\n",
       "      <td>0.55290</td>\n",
       "      <td>0.27722</td>\n",
       "      <td>0.45968</td>\n",
       "      <td>0.45968</td>\n",
       "      <td>2.573</td>\n",
       "      <td>21.0</td>\n",
       "      <td>9.3348</td>\n",
       "      <td>1.6970</td>\n",
       "      <td>2.0326</td>\n",
       "      <td>1.8642</td>\n",
       "      <td>1.9049</td>\n",
       "      <td>24.3174</td>\n",
       "      <td>104.1033</td>\n",
       "      <td>95.0303</td>\n",
       "      <td>67.9324</td>\n",
       "      <td>79.9913</td>\n",
       "    </tr>\n",
       "    <tr>\n",
       "      <th>13</th>\n",
       "      <td>sub-0036_1_ses-1_run-1</td>\n",
       "      <td>44.57</td>\n",
       "      <td>1</td>\n",
       "      <td>0.78839</td>\n",
       "      <td>0.66709</td>\n",
       "      <td>0.41974</td>\n",
       "      <td>0.42043</td>\n",
       "      <td>0.42043</td>\n",
       "      <td>2.687</td>\n",
       "      <td>27.0</td>\n",
       "      <td>9.4991</td>\n",
       "      <td>1.6870</td>\n",
       "      <td>1.8951</td>\n",
       "      <td>1.9739</td>\n",
       "      <td>1.8552</td>\n",
       "      <td>27.5337</td>\n",
       "      <td>94.3162</td>\n",
       "      <td>89.4557</td>\n",
       "      <td>68.0983</td>\n",
       "      <td>79.6752</td>\n",
       "    </tr>\n",
       "    <tr>\n",
       "      <th>14</th>\n",
       "      <td>sub-0037_1_ses-1_run-1</td>\n",
       "      <td>46.06</td>\n",
       "      <td>0</td>\n",
       "      <td>0.65670</td>\n",
       "      <td>0.57055</td>\n",
       "      <td>0.37825</td>\n",
       "      <td>0.40903</td>\n",
       "      <td>0.40903</td>\n",
       "      <td>2.759</td>\n",
       "      <td>25.0</td>\n",
       "      <td>5.6076</td>\n",
       "      <td>2.1001</td>\n",
       "      <td>2.0220</td>\n",
       "      <td>2.5060</td>\n",
       "      <td>2.4160</td>\n",
       "      <td>23.8801</td>\n",
       "      <td>69.8487</td>\n",
       "      <td>60.6050</td>\n",
       "      <td>41.0306</td>\n",
       "      <td>50.2663</td>\n",
       "    </tr>\n",
       "    <tr>\n",
       "      <th>...</th>\n",
       "      <td>...</td>\n",
       "      <td>...</td>\n",
       "      <td>...</td>\n",
       "      <td>...</td>\n",
       "      <td>...</td>\n",
       "      <td>...</td>\n",
       "      <td>...</td>\n",
       "      <td>...</td>\n",
       "      <td>...</td>\n",
       "      <td>...</td>\n",
       "      <td>...</td>\n",
       "      <td>...</td>\n",
       "      <td>...</td>\n",
       "      <td>...</td>\n",
       "      <td>...</td>\n",
       "      <td>...</td>\n",
       "      <td>...</td>\n",
       "      <td>...</td>\n",
       "      <td>...</td>\n",
       "      <td>...</td>\n",
       "    </tr>\n",
       "    <tr>\n",
       "      <th>508</th>\n",
       "      <td>sub-1139_1_ses-1_run-1</td>\n",
       "      <td>44.44</td>\n",
       "      <td>1</td>\n",
       "      <td>0.69288</td>\n",
       "      <td>0.61756</td>\n",
       "      <td>0.30975</td>\n",
       "      <td>0.42765</td>\n",
       "      <td>0.42765</td>\n",
       "      <td>6.074</td>\n",
       "      <td>23.0</td>\n",
       "      <td>8.2863</td>\n",
       "      <td>1.9019</td>\n",
       "      <td>1.8616</td>\n",
       "      <td>1.6780</td>\n",
       "      <td>1.9797</td>\n",
       "      <td>25.6606</td>\n",
       "      <td>94.1454</td>\n",
       "      <td>81.4243</td>\n",
       "      <td>57.0763</td>\n",
       "      <td>70.0432</td>\n",
       "    </tr>\n",
       "    <tr>\n",
       "      <th>512</th>\n",
       "      <td>sub-1149_1_ses-1_run-1</td>\n",
       "      <td>31.61</td>\n",
       "      <td>1</td>\n",
       "      <td>0.74811</td>\n",
       "      <td>0.57229</td>\n",
       "      <td>0.27552</td>\n",
       "      <td>0.46876</td>\n",
       "      <td>0.46876</td>\n",
       "      <td>1.642</td>\n",
       "      <td>19.0</td>\n",
       "      <td>9.0315</td>\n",
       "      <td>2.0425</td>\n",
       "      <td>2.0859</td>\n",
       "      <td>1.4591</td>\n",
       "      <td>1.9126</td>\n",
       "      <td>19.7793</td>\n",
       "      <td>70.8518</td>\n",
       "      <td>63.2505</td>\n",
       "      <td>45.3822</td>\n",
       "      <td>55.2508</td>\n",
       "    </tr>\n",
       "    <tr>\n",
       "      <th>513</th>\n",
       "      <td>sub-1152_1_ses-1_run-1</td>\n",
       "      <td>29.42</td>\n",
       "      <td>1</td>\n",
       "      <td>0.82354</td>\n",
       "      <td>0.59415</td>\n",
       "      <td>0.36183</td>\n",
       "      <td>0.46279</td>\n",
       "      <td>0.46279</td>\n",
       "      <td>0.867</td>\n",
       "      <td>15.0</td>\n",
       "      <td>8.1299</td>\n",
       "      <td>2.2361</td>\n",
       "      <td>2.3858</td>\n",
       "      <td>1.8466</td>\n",
       "      <td>2.3558</td>\n",
       "      <td>27.6770</td>\n",
       "      <td>118.4624</td>\n",
       "      <td>104.2936</td>\n",
       "      <td>75.2855</td>\n",
       "      <td>93.1837</td>\n",
       "    </tr>\n",
       "    <tr>\n",
       "      <th>519</th>\n",
       "      <td>sub-1159_1_ses-1_run-1</td>\n",
       "      <td>36.76</td>\n",
       "      <td>0</td>\n",
       "      <td>0.74380</td>\n",
       "      <td>0.52266</td>\n",
       "      <td>0.30226</td>\n",
       "      <td>0.47414</td>\n",
       "      <td>0.47414</td>\n",
       "      <td>1.144</td>\n",
       "      <td>18.0</td>\n",
       "      <td>7.6305</td>\n",
       "      <td>1.6827</td>\n",
       "      <td>1.9455</td>\n",
       "      <td>1.9445</td>\n",
       "      <td>1.9204</td>\n",
       "      <td>26.7737</td>\n",
       "      <td>90.4672</td>\n",
       "      <td>82.6515</td>\n",
       "      <td>72.8932</td>\n",
       "      <td>76.7546</td>\n",
       "    </tr>\n",
       "    <tr>\n",
       "      <th>526</th>\n",
       "      <td>sub-1169_1_ses-1_run-1</td>\n",
       "      <td>34.05</td>\n",
       "      <td>0</td>\n",
       "      <td>0.67941</td>\n",
       "      <td>0.50902</td>\n",
       "      <td>0.30031</td>\n",
       "      <td>0.45637</td>\n",
       "      <td>0.45637</td>\n",
       "      <td>2.023</td>\n",
       "      <td>24.0</td>\n",
       "      <td>7.0039</td>\n",
       "      <td>1.9012</td>\n",
       "      <td>2.1499</td>\n",
       "      <td>2.0002</td>\n",
       "      <td>2.2066</td>\n",
       "      <td>20.6251</td>\n",
       "      <td>74.1970</td>\n",
       "      <td>70.7366</td>\n",
       "      <td>46.0536</td>\n",
       "      <td>57.9078</td>\n",
       "    </tr>\n",
       "  </tbody>\n",
       "</table>\n",
       "<p>132 rows × 20 columns</p>\n",
       "</div>"
      ],
      "text/plain": [
       "             participant_id    age  sex   gm_vol   wm_vol  csf_vol  \\\n",
       "3    sub-0020_1_ses-1_run-1  21.97    0  0.67042  0.43458  0.25974   \n",
       "10   sub-0033_1_ses-1_run-1  29.21    1  0.59992  0.43360  0.24903   \n",
       "12   sub-0035_1_ses-1_run-1  31.25    1  0.70624  0.55290  0.27722   \n",
       "13   sub-0036_1_ses-1_run-1  44.57    1  0.78839  0.66709  0.41974   \n",
       "14   sub-0037_1_ses-1_run-1  46.06    0  0.65670  0.57055  0.37825   \n",
       "..                      ...    ...  ...      ...      ...      ...   \n",
       "508  sub-1139_1_ses-1_run-1  44.44    1  0.69288  0.61756  0.30975   \n",
       "512  sub-1149_1_ses-1_run-1  31.61    1  0.74811  0.57229  0.27552   \n",
       "513  sub-1152_1_ses-1_run-1  29.42    1  0.82354  0.59415  0.36183   \n",
       "519  sub-1159_1_ses-1_run-1  36.76    0  0.74380  0.52266  0.30226   \n",
       "526  sub-1169_1_ses-1_run-1  34.05    0  0.67941  0.50902  0.30031   \n",
       "\n",
       "     gm_ivc_ratio  gmwm_ivc_ratio  wmh_vol  wmh_count  deepwm_b_cov  \\\n",
       "3         0.49124         0.49124    0.736       23.0        6.2080   \n",
       "10        0.46776         0.46776    1.067       14.0        7.9519   \n",
       "12        0.45968         0.45968    2.573       21.0        9.3348   \n",
       "13        0.42043         0.42043    2.687       27.0        9.4991   \n",
       "14        0.40903         0.40903    2.759       25.0        5.6076   \n",
       "..            ...             ...      ...        ...           ...   \n",
       "508       0.42765         0.42765    6.074       23.0        8.2863   \n",
       "512       0.46876         0.46876    1.642       19.0        9.0315   \n",
       "513       0.46279         0.46279    0.867       15.0        8.1299   \n",
       "519       0.47414         0.47414    1.144       18.0        7.6305   \n",
       "526       0.45637         0.45637    2.023       24.0        7.0039   \n",
       "\n",
       "     aca_b_cov  mca_b_cov  pca_b_cov  totalgm_b_cov  deepwm_b     aca_b  \\\n",
       "3       1.8657     1.9092     1.6402         1.8734   27.1813  100.3259   \n",
       "10      1.7067     2.2134     1.9870         1.9942   23.9504   93.1921   \n",
       "12      1.6970     2.0326     1.8642         1.9049   24.3174  104.1033   \n",
       "13      1.6870     1.8951     1.9739         1.8552   27.5337   94.3162   \n",
       "14      2.1001     2.0220     2.5060         2.4160   23.8801   69.8487   \n",
       "..         ...        ...        ...            ...       ...       ...   \n",
       "508     1.9019     1.8616     1.6780         1.9797   25.6606   94.1454   \n",
       "512     2.0425     2.0859     1.4591         1.9126   19.7793   70.8518   \n",
       "513     2.2361     2.3858     1.8466         2.3558   27.6770  118.4624   \n",
       "519     1.6827     1.9455     1.9445         1.9204   26.7737   90.4672   \n",
       "526     1.9012     2.1499     2.0002         2.2066   20.6251   74.1970   \n",
       "\n",
       "        mca_b    pca_b  totalgm_b  \n",
       "3     90.7345  68.0812    79.1128  \n",
       "10    86.2951  74.0285    78.9537  \n",
       "12    95.0303  67.9324    79.9913  \n",
       "13    89.4557  68.0983    79.6752  \n",
       "14    60.6050  41.0306    50.2663  \n",
       "..        ...      ...        ...  \n",
       "508   81.4243  57.0763    70.0432  \n",
       "512   63.2505  45.3822    55.2508  \n",
       "513  104.2936  75.2855    93.1837  \n",
       "519   82.6515  72.8932    76.7546  \n",
       "526   70.7366  46.0536    57.9078  \n",
       "\n",
       "[132 rows x 20 columns]"
      ]
     },
     "execution_count": 48,
     "metadata": {},
     "output_type": "execute_result"
    }
   ],
   "source": [
    "TOP_new = TOP[TOP['participant_id'].isin(list(new_top))]\n",
    "TOP_new"
   ]
  },
  {
   "cell_type": "code",
   "execution_count": 49,
   "id": "a9a1641f-afe5-4c48-ac0c-d4af9d507315",
   "metadata": {
    "tags": []
   },
   "outputs": [],
   "source": [
    "top_ml_matrix = TOP_new.drop('participant_id', axis=1) \n",
    "\n",
    "X_top = top_ml_matrix.drop('age', axis =1)\n",
    "\n",
    "X_top = X_top.values\n",
    "X_top = X_top.astype('float')\n",
    "y_top = top_ml_matrix['age'].values\n",
    "y_top=y_top.astype('float')"
   ]
  },
  {
   "cell_type": "code",
   "execution_count": 50,
   "id": "335ae861-0fdc-41b5-8306-acd4745ca20f",
   "metadata": {
    "tags": []
   },
   "outputs": [],
   "source": [
    "# X_top_train, X_top_test, y_top_train, y_top_test = train_test_split(\n",
    "#     X_top, y_top, test_size=0.99, random_state=42)"
   ]
  },
  {
   "cell_type": "code",
   "execution_count": 51,
   "id": "93f90ccb-465b-4fa4-b563-c0ea604f2ba0",
   "metadata": {
    "tags": []
   },
   "outputs": [],
   "source": [
    "X_top_test = X_top\n",
    "y_top_test = y_top"
   ]
  },
  {
   "cell_type": "code",
   "execution_count": 52,
   "id": "79fd0d34-0b2b-4213-b106-553fc92df6ed",
   "metadata": {
    "tags": []
   },
   "outputs": [
    {
     "name": "stdout",
     "output_type": "stream",
     "text": [
      "R2 score Linear regression: 0.549\n",
      "Explained variance score: 0.592\n",
      "The mean absolute error: 5.005\n"
     ]
    }
   ],
   "source": [
    "y_top_pred = linr.predict(X_top_test)\n",
    "print('R2 score Linear regression: %.3f' % linr.score(X_top_test,y_top_test))\n",
    "print('Explained variance score: %.3f'  % metrics.explained_variance_score(y_top_test, y_top_pred))\n",
    "print('The mean absolute error: %.3f' % mean_absolute_error(y_top_test, y_top_pred))"
   ]
  },
  {
   "cell_type": "code",
   "execution_count": 53,
   "id": "2e7239f1-30a5-4b09-9465-4b1f04dd37e9",
   "metadata": {},
   "outputs": [
    {
     "name": "stdout",
     "output_type": "stream",
     "text": [
      "R2 score Lasso linear regression: 0.530\n",
      "Explained variance score: 0.575\n",
      "The mean absolute error: 5.103\n"
     ]
    }
   ],
   "source": [
    "y_top_pred = llreg.predict(X_top_test)\n",
    "print('R2 score Lasso linear regression: %.3f' % llreg.score(X_top_test,y_top_test))\n",
    "print('Explained variance score: %.3f'  % metrics.explained_variance_score(y_top_test, y_top_pred))\n",
    "print('The mean absolute error: %.3f' % mean_absolute_error(y_top_test, y_top_pred))"
   ]
  },
  {
   "cell_type": "code",
   "execution_count": 54,
   "id": "e5720c7b-abae-4bc6-a1f4-0b9fbe3c01ea",
   "metadata": {
    "tags": []
   },
   "outputs": [
    {
     "name": "stdout",
     "output_type": "stream",
     "text": [
      "R2 score Lasso linear regression: 0.152\n",
      "Explained variance score: 0.243\n",
      "The mean absolute error: 6.593\n"
     ]
    }
   ],
   "source": [
    "y_top_pred = dtree.predict(X_top_test)\n",
    "print('R2 score decision tree regression: %.3f' % dtree.score(X_top_test,y_top_test))\n",
    "print('Explained variance score: %.3f'  % metrics.explained_variance_score(y_top_test, y_top_pred))\n",
    "print('The mean absolute error: %.3f' % mean_absolute_error(y_top_test, y_top_pred))"
   ]
  },
  {
   "cell_type": "code",
   "execution_count": 58,
   "id": "d60fbddc-d765-4138-8e19-986cccf47665",
   "metadata": {
    "tags": []
   },
   "outputs": [
    {
     "name": "stdout",
     "output_type": "stream",
     "text": [
      "R2 score Lasso linear regression: 0.085\n",
      "Explained variance score: 0.171\n",
      "The mean absolute error: 7.100\n"
     ]
    }
   ],
   "source": [
    "y_top_pred = eregr.predict(X_top_test)\n",
    "print('R2 score ElasticnetCV regression: %.3f' % eregr.score(X_top_test,y_top_test))\n",
    "print('Explained variance score: %.3f'  % metrics.explained_variance_score(y_top_test, y_top_pred))\n",
    "print('The mean absolute error: %.3f' % mean_absolute_error(y_top_test, y_top_pred))"
   ]
  },
  {
   "cell_type": "code",
   "execution_count": 56,
   "id": "638a1c9e-f735-441a-8842-8dd5fb8fc1f5",
   "metadata": {
    "tags": []
   },
   "outputs": [
    {
     "name": "stdout",
     "output_type": "stream",
     "text": [
      "R2 score SVR poly 2 regression: -0.589\n",
      "Explained variance score: 0.146\n",
      "The mean absolute error: 9.514\n"
     ]
    }
   ],
   "source": [
    "y_top_pred = svr_p2.predict(X_top_test)\n",
    "print('R2 score SVR poly 2 regression: %.3f' % svr_p2.score(X_top_test,y_top_test))\n",
    "print('Explained variance score: %.3f'  % metrics.explained_variance_score(y_top_test, y_top_pred))\n",
    "print('The mean absolute error: %.3f' % mean_absolute_error(y_top_test, y_top_pred))"
   ]
  },
  {
   "cell_type": "code",
   "execution_count": 57,
   "id": "ea88f942-ad25-4a74-913e-147f14ca39d4",
   "metadata": {
    "tags": []
   },
   "outputs": [
    {
     "name": "stdout",
     "output_type": "stream",
     "text": [
      "R2 score Extra treen: 0.573\n",
      "Explained variance score: 0.646\n",
      "The mean absolute error: 4.709\n"
     ]
    }
   ],
   "source": [
    "y_top_pred = etreg.predict(X_top_test)\n",
    "print('R2 score Extra treen: %.3f' % etreg.score(X_top_test,y_top_test))\n",
    "print('Explained variance score: %.3f'  % metrics.explained_variance_score(y_top_test, y_top_pred))\n",
    "print('The mean absolute error: %.3f' % mean_absolute_error(y_top_test, y_top_pred))"
   ]
  },
  {
   "cell_type": "code",
   "execution_count": 60,
   "id": "ac2e278a-8c29-4a64-a8e3-94a7bfea8ab1",
   "metadata": {
    "tags": []
   },
   "outputs": [
    {
     "name": "stdout",
     "output_type": "stream",
     "text": [
      "R2 score MLP regression: 0.252\n",
      "Explained variance score: 0.317\n",
      "The mean absolute error: 6.392\n"
     ]
    }
   ],
   "source": [
    "y_top_pred = regr.predict(X_top_test)\n",
    "print('R2 score MLP regression: %.3f' % regr.score(X_top_test,y_top_test))\n",
    "print('Explained variance score: %.3f'  % metrics.explained_variance_score(y_top_test, y_top_pred))\n",
    "print('The mean absolute error: %.3f' % mean_absolute_error(y_top_test, y_top_pred))"
   ]
  },
  {
   "cell_type": "code",
   "execution_count": 61,
   "id": "a24edd93-aaa9-4886-a867-61da425b11d6",
   "metadata": {
    "tags": []
   },
   "outputs": [],
   "source": [
    "StrokeMRI_subjects = set(StrokeMRI.participant_id)\n",
    "#StrokeMRI_subjects"
   ]
  },
  {
   "cell_type": "code",
   "execution_count": 62,
   "id": "fa9f364f-66a6-43d7-9f70-e226f5eaa949",
   "metadata": {
    "tags": []
   },
   "outputs": [
    {
     "name": "stdout",
     "output_type": "stream",
     "text": [
      "129\n"
     ]
    }
   ],
   "source": [
    "# take trained subjects out of top subjects\n",
    "# we can use set math here\n",
    "\n",
    "new_mri=(trained_subjects^StrokeMRI_subjects)&StrokeMRI_subjects\n",
    "print(len(new_mri))\n",
    "#print(new_mri)"
   ]
  },
  {
   "cell_type": "code",
   "execution_count": 63,
   "id": "32c90a0d-5766-4f2a-8569-1e8f206b2159",
   "metadata": {
    "tags": []
   },
   "outputs": [
    {
     "data": {
      "text/html": [
       "<div>\n",
       "<style scoped>\n",
       "    .dataframe tbody tr th:only-of-type {\n",
       "        vertical-align: middle;\n",
       "    }\n",
       "\n",
       "    .dataframe tbody tr th {\n",
       "        vertical-align: top;\n",
       "    }\n",
       "\n",
       "    .dataframe thead th {\n",
       "        text-align: right;\n",
       "    }\n",
       "</style>\n",
       "<table border=\"1\" class=\"dataframe\">\n",
       "  <thead>\n",
       "    <tr style=\"text-align: right;\">\n",
       "      <th></th>\n",
       "      <th>participant_id</th>\n",
       "      <th>age</th>\n",
       "      <th>sex</th>\n",
       "      <th>gm_vol</th>\n",
       "      <th>wm_vol</th>\n",
       "      <th>csf_vol</th>\n",
       "      <th>gm_ivc_ratio</th>\n",
       "      <th>gmwm_ivc_ratio</th>\n",
       "      <th>wmh_vol</th>\n",
       "      <th>wmh_count</th>\n",
       "      <th>deepwm_b_cov</th>\n",
       "      <th>aca_b_cov</th>\n",
       "      <th>mca_b_cov</th>\n",
       "      <th>pca_b_cov</th>\n",
       "      <th>totalgm_b_cov</th>\n",
       "      <th>deepwm_b</th>\n",
       "      <th>aca_b</th>\n",
       "      <th>mca_b</th>\n",
       "      <th>pca_b</th>\n",
       "      <th>totalgm_b</th>\n",
       "    </tr>\n",
       "  </thead>\n",
       "  <tbody>\n",
       "    <tr>\n",
       "      <th>1</th>\n",
       "      <td>sub-59083_1_ses-1_run-1</td>\n",
       "      <td>66.367123</td>\n",
       "      <td>0</td>\n",
       "      <td>0.60517</td>\n",
       "      <td>0.48594</td>\n",
       "      <td>0.42304</td>\n",
       "      <td>0.39968</td>\n",
       "      <td>0.39968</td>\n",
       "      <td>14.597</td>\n",
       "      <td>25.0</td>\n",
       "      <td>3.7791</td>\n",
       "      <td>1.9669</td>\n",
       "      <td>1.7154</td>\n",
       "      <td>2.6394</td>\n",
       "      <td>1.8815</td>\n",
       "      <td>24.9597</td>\n",
       "      <td>75.7051</td>\n",
       "      <td>65.3032</td>\n",
       "      <td>65.6771</td>\n",
       "      <td>67.1158</td>\n",
       "    </tr>\n",
       "    <tr>\n",
       "      <th>6</th>\n",
       "      <td>sub-59089_1_ses-1_run-1</td>\n",
       "      <td>58.419178</td>\n",
       "      <td>0</td>\n",
       "      <td>0.59539</td>\n",
       "      <td>0.42689</td>\n",
       "      <td>0.30742</td>\n",
       "      <td>0.44776</td>\n",
       "      <td>0.44776</td>\n",
       "      <td>10.007</td>\n",
       "      <td>63.0</td>\n",
       "      <td>2.5252</td>\n",
       "      <td>1.8820</td>\n",
       "      <td>1.8123</td>\n",
       "      <td>1.9660</td>\n",
       "      <td>1.8493</td>\n",
       "      <td>31.1810</td>\n",
       "      <td>86.5265</td>\n",
       "      <td>77.1446</td>\n",
       "      <td>66.0136</td>\n",
       "      <td>70.0935</td>\n",
       "    </tr>\n",
       "    <tr>\n",
       "      <th>9</th>\n",
       "      <td>sub-59090_2_ses-2_run-1</td>\n",
       "      <td>74.610959</td>\n",
       "      <td>0</td>\n",
       "      <td>0.52956</td>\n",
       "      <td>0.43469</td>\n",
       "      <td>0.44153</td>\n",
       "      <td>0.37670</td>\n",
       "      <td>0.37670</td>\n",
       "      <td>6.586</td>\n",
       "      <td>28.0</td>\n",
       "      <td>3.7965</td>\n",
       "      <td>1.7711</td>\n",
       "      <td>1.8558</td>\n",
       "      <td>1.8400</td>\n",
       "      <td>1.7029</td>\n",
       "      <td>39.2243</td>\n",
       "      <td>121.8465</td>\n",
       "      <td>100.5382</td>\n",
       "      <td>97.1110</td>\n",
       "      <td>98.7511</td>\n",
       "    </tr>\n",
       "    <tr>\n",
       "      <th>10</th>\n",
       "      <td>sub-59091_1_ses-1_run-1</td>\n",
       "      <td>74.063014</td>\n",
       "      <td>1</td>\n",
       "      <td>0.57798</td>\n",
       "      <td>0.48552</td>\n",
       "      <td>0.64199</td>\n",
       "      <td>0.33889</td>\n",
       "      <td>0.33889</td>\n",
       "      <td>51.150</td>\n",
       "      <td>18.0</td>\n",
       "      <td>1.6695</td>\n",
       "      <td>1.8533</td>\n",
       "      <td>1.7590</td>\n",
       "      <td>1.9329</td>\n",
       "      <td>1.5357</td>\n",
       "      <td>32.2655</td>\n",
       "      <td>71.2736</td>\n",
       "      <td>68.7675</td>\n",
       "      <td>62.9893</td>\n",
       "      <td>64.8501</td>\n",
       "    </tr>\n",
       "    <tr>\n",
       "      <th>11</th>\n",
       "      <td>sub-59092_1_ses-1_run-1</td>\n",
       "      <td>50.668493</td>\n",
       "      <td>0</td>\n",
       "      <td>0.63332</td>\n",
       "      <td>0.50157</td>\n",
       "      <td>0.32473</td>\n",
       "      <td>0.43389</td>\n",
       "      <td>0.43389</td>\n",
       "      <td>3.254</td>\n",
       "      <td>21.0</td>\n",
       "      <td>7.5185</td>\n",
       "      <td>1.8133</td>\n",
       "      <td>2.0189</td>\n",
       "      <td>2.1782</td>\n",
       "      <td>1.9153</td>\n",
       "      <td>21.5882</td>\n",
       "      <td>84.9830</td>\n",
       "      <td>74.6997</td>\n",
       "      <td>57.6342</td>\n",
       "      <td>64.3967</td>\n",
       "    </tr>\n",
       "    <tr>\n",
       "      <th>...</th>\n",
       "      <td>...</td>\n",
       "      <td>...</td>\n",
       "      <td>...</td>\n",
       "      <td>...</td>\n",
       "      <td>...</td>\n",
       "      <td>...</td>\n",
       "      <td>...</td>\n",
       "      <td>...</td>\n",
       "      <td>...</td>\n",
       "      <td>...</td>\n",
       "      <td>...</td>\n",
       "      <td>...</td>\n",
       "      <td>...</td>\n",
       "      <td>...</td>\n",
       "      <td>...</td>\n",
       "      <td>...</td>\n",
       "      <td>...</td>\n",
       "      <td>...</td>\n",
       "      <td>...</td>\n",
       "      <td>...</td>\n",
       "    </tr>\n",
       "    <tr>\n",
       "      <th>487</th>\n",
       "      <td>sub-59421_1_ses-1_run-1</td>\n",
       "      <td>73.868493</td>\n",
       "      <td>1</td>\n",
       "      <td>0.56809</td>\n",
       "      <td>0.53818</td>\n",
       "      <td>0.36818</td>\n",
       "      <td>0.38529</td>\n",
       "      <td>0.38529</td>\n",
       "      <td>5.593</td>\n",
       "      <td>23.0</td>\n",
       "      <td>6.1768</td>\n",
       "      <td>2.0553</td>\n",
       "      <td>2.1493</td>\n",
       "      <td>1.8570</td>\n",
       "      <td>1.9294</td>\n",
       "      <td>22.8499</td>\n",
       "      <td>60.9506</td>\n",
       "      <td>54.3851</td>\n",
       "      <td>44.0679</td>\n",
       "      <td>49.0354</td>\n",
       "    </tr>\n",
       "    <tr>\n",
       "      <th>491</th>\n",
       "      <td>sub-59425_1_ses-1_run-1</td>\n",
       "      <td>79.624658</td>\n",
       "      <td>0</td>\n",
       "      <td>0.51422</td>\n",
       "      <td>0.41864</td>\n",
       "      <td>0.43308</td>\n",
       "      <td>0.37646</td>\n",
       "      <td>0.37646</td>\n",
       "      <td>33.736</td>\n",
       "      <td>36.0</td>\n",
       "      <td>1.9466</td>\n",
       "      <td>2.4963</td>\n",
       "      <td>1.9048</td>\n",
       "      <td>1.8218</td>\n",
       "      <td>1.6353</td>\n",
       "      <td>23.5518</td>\n",
       "      <td>60.0265</td>\n",
       "      <td>51.1026</td>\n",
       "      <td>47.2077</td>\n",
       "      <td>49.4722</td>\n",
       "    </tr>\n",
       "    <tr>\n",
       "      <th>499</th>\n",
       "      <td>sub-59430_2_ses-2_run-1</td>\n",
       "      <td>80.528767</td>\n",
       "      <td>1</td>\n",
       "      <td>0.60668</td>\n",
       "      <td>0.45482</td>\n",
       "      <td>0.65419</td>\n",
       "      <td>0.35361</td>\n",
       "      <td>0.35361</td>\n",
       "      <td>22.663</td>\n",
       "      <td>70.0</td>\n",
       "      <td>2.8841</td>\n",
       "      <td>2.5654</td>\n",
       "      <td>2.2015</td>\n",
       "      <td>2.5214</td>\n",
       "      <td>2.5211</td>\n",
       "      <td>29.3052</td>\n",
       "      <td>77.2196</td>\n",
       "      <td>72.4349</td>\n",
       "      <td>48.1619</td>\n",
       "      <td>56.8724</td>\n",
       "    </tr>\n",
       "    <tr>\n",
       "      <th>501</th>\n",
       "      <td>sub-59431_2_ses-2_run-1</td>\n",
       "      <td>69.221918</td>\n",
       "      <td>0</td>\n",
       "      <td>0.61392</td>\n",
       "      <td>0.49976</td>\n",
       "      <td>0.36144</td>\n",
       "      <td>0.41618</td>\n",
       "      <td>0.41618</td>\n",
       "      <td>4.135</td>\n",
       "      <td>21.0</td>\n",
       "      <td>6.0937</td>\n",
       "      <td>1.9948</td>\n",
       "      <td>1.9879</td>\n",
       "      <td>1.9857</td>\n",
       "      <td>2.1003</td>\n",
       "      <td>24.0503</td>\n",
       "      <td>77.2072</td>\n",
       "      <td>72.9001</td>\n",
       "      <td>54.2003</td>\n",
       "      <td>61.7585</td>\n",
       "    </tr>\n",
       "    <tr>\n",
       "      <th>509</th>\n",
       "      <td>sub-59440_1_ses-1_run-1</td>\n",
       "      <td>73.928767</td>\n",
       "      <td>1</td>\n",
       "      <td>0.57259</td>\n",
       "      <td>0.52662</td>\n",
       "      <td>0.51982</td>\n",
       "      <td>0.35366</td>\n",
       "      <td>0.35366</td>\n",
       "      <td>26.949</td>\n",
       "      <td>64.0</td>\n",
       "      <td>2.2578</td>\n",
       "      <td>2.0305</td>\n",
       "      <td>2.0193</td>\n",
       "      <td>1.9228</td>\n",
       "      <td>2.0773</td>\n",
       "      <td>27.9190</td>\n",
       "      <td>82.7343</td>\n",
       "      <td>72.6401</td>\n",
       "      <td>54.3780</td>\n",
       "      <td>59.3805</td>\n",
       "    </tr>\n",
       "  </tbody>\n",
       "</table>\n",
       "<p>129 rows × 20 columns</p>\n",
       "</div>"
      ],
      "text/plain": [
       "              participant_id        age  sex   gm_vol   wm_vol  csf_vol  \\\n",
       "1    sub-59083_1_ses-1_run-1  66.367123    0  0.60517  0.48594  0.42304   \n",
       "6    sub-59089_1_ses-1_run-1  58.419178    0  0.59539  0.42689  0.30742   \n",
       "9    sub-59090_2_ses-2_run-1  74.610959    0  0.52956  0.43469  0.44153   \n",
       "10   sub-59091_1_ses-1_run-1  74.063014    1  0.57798  0.48552  0.64199   \n",
       "11   sub-59092_1_ses-1_run-1  50.668493    0  0.63332  0.50157  0.32473   \n",
       "..                       ...        ...  ...      ...      ...      ...   \n",
       "487  sub-59421_1_ses-1_run-1  73.868493    1  0.56809  0.53818  0.36818   \n",
       "491  sub-59425_1_ses-1_run-1  79.624658    0  0.51422  0.41864  0.43308   \n",
       "499  sub-59430_2_ses-2_run-1  80.528767    1  0.60668  0.45482  0.65419   \n",
       "501  sub-59431_2_ses-2_run-1  69.221918    0  0.61392  0.49976  0.36144   \n",
       "509  sub-59440_1_ses-1_run-1  73.928767    1  0.57259  0.52662  0.51982   \n",
       "\n",
       "     gm_ivc_ratio  gmwm_ivc_ratio  wmh_vol  wmh_count  deepwm_b_cov  \\\n",
       "1         0.39968         0.39968   14.597       25.0        3.7791   \n",
       "6         0.44776         0.44776   10.007       63.0        2.5252   \n",
       "9         0.37670         0.37670    6.586       28.0        3.7965   \n",
       "10        0.33889         0.33889   51.150       18.0        1.6695   \n",
       "11        0.43389         0.43389    3.254       21.0        7.5185   \n",
       "..            ...             ...      ...        ...           ...   \n",
       "487       0.38529         0.38529    5.593       23.0        6.1768   \n",
       "491       0.37646         0.37646   33.736       36.0        1.9466   \n",
       "499       0.35361         0.35361   22.663       70.0        2.8841   \n",
       "501       0.41618         0.41618    4.135       21.0        6.0937   \n",
       "509       0.35366         0.35366   26.949       64.0        2.2578   \n",
       "\n",
       "     aca_b_cov  mca_b_cov  pca_b_cov  totalgm_b_cov  deepwm_b     aca_b  \\\n",
       "1       1.9669     1.7154     2.6394         1.8815   24.9597   75.7051   \n",
       "6       1.8820     1.8123     1.9660         1.8493   31.1810   86.5265   \n",
       "9       1.7711     1.8558     1.8400         1.7029   39.2243  121.8465   \n",
       "10      1.8533     1.7590     1.9329         1.5357   32.2655   71.2736   \n",
       "11      1.8133     2.0189     2.1782         1.9153   21.5882   84.9830   \n",
       "..         ...        ...        ...            ...       ...       ...   \n",
       "487     2.0553     2.1493     1.8570         1.9294   22.8499   60.9506   \n",
       "491     2.4963     1.9048     1.8218         1.6353   23.5518   60.0265   \n",
       "499     2.5654     2.2015     2.5214         2.5211   29.3052   77.2196   \n",
       "501     1.9948     1.9879     1.9857         2.1003   24.0503   77.2072   \n",
       "509     2.0305     2.0193     1.9228         2.0773   27.9190   82.7343   \n",
       "\n",
       "        mca_b    pca_b  totalgm_b  \n",
       "1     65.3032  65.6771    67.1158  \n",
       "6     77.1446  66.0136    70.0935  \n",
       "9    100.5382  97.1110    98.7511  \n",
       "10    68.7675  62.9893    64.8501  \n",
       "11    74.6997  57.6342    64.3967  \n",
       "..        ...      ...        ...  \n",
       "487   54.3851  44.0679    49.0354  \n",
       "491   51.1026  47.2077    49.4722  \n",
       "499   72.4349  48.1619    56.8724  \n",
       "501   72.9001  54.2003    61.7585  \n",
       "509   72.6401  54.3780    59.3805  \n",
       "\n",
       "[129 rows x 20 columns]"
      ]
     },
     "execution_count": 63,
     "metadata": {},
     "output_type": "execute_result"
    }
   ],
   "source": [
    "StrokeMRI_new = StrokeMRI[StrokeMRI['participant_id'].isin(list(new_mri))]\n",
    "StrokeMRI_new"
   ]
  },
  {
   "cell_type": "code",
   "execution_count": 64,
   "id": "ae3a47ad-e982-4d52-9680-c0e3db7b7bc2",
   "metadata": {
    "tags": []
   },
   "outputs": [],
   "source": [
    "strokemri_ml_matrix = StrokeMRI_new.drop('participant_id', axis=1) \n",
    "\n",
    "X_mri = strokemri_ml_matrix.drop('age', axis =1)\n",
    "X_mri = X_mri.values\n",
    "X_mri = X_mri.astype('float')\n",
    "y_mri = strokemri_ml_matrix['age'].values\n",
    "y_mri=y_mri.astype('float')"
   ]
  },
  {
   "cell_type": "code",
   "execution_count": 65,
   "id": "081d7d47-ab65-4cd7-a944-ba6984bade1e",
   "metadata": {
    "tags": []
   },
   "outputs": [],
   "source": [
    "X_mri_test = X_mri\n",
    "y_mri_test = y_mri"
   ]
  },
  {
   "cell_type": "code",
   "execution_count": 66,
   "id": "c63d38f7-1cf5-421f-922c-72cb45cfc59c",
   "metadata": {
    "tags": []
   },
   "outputs": [
    {
     "name": "stdout",
     "output_type": "stream",
     "text": [
      "R2 score Linear regression: 0.792\n",
      "Explained variance score: 0.812\n",
      "The mean absolute error: 5.507\n"
     ]
    }
   ],
   "source": [
    "y_mri_pred = linr.predict(X_mri_test)\n",
    "print('R2 score Linear regression: %.3f' % linr.score(X_mri_test,y_mri_test))\n",
    "print('Explained variance score: %.3f'  % metrics.explained_variance_score(y_mri_test, y_mri_pred))\n",
    "print('The mean absolute error: %.3f' % mean_absolute_error(y_mri_test, y_mri_pred))"
   ]
  },
  {
   "cell_type": "code",
   "execution_count": 67,
   "id": "24341e48-be46-4720-b7b0-17ba006e117a",
   "metadata": {
    "tags": []
   },
   "outputs": [
    {
     "name": "stdout",
     "output_type": "stream",
     "text": [
      "R2 score Lasso-linear regression: 0.785\n",
      "Explained variance score: 0.808\n",
      "The mean absolute error: 5.626\n"
     ]
    }
   ],
   "source": [
    "y_mri_pred = llreg.predict(X_mri_test)\n",
    "print('R2 score Lasso-linear regression: %.3f' % llreg.score(X_mri_test,y_mri_test))\n",
    "print('Explained variance score: %.3f'  % metrics.explained_variance_score(y_mri_test, y_mri_pred))\n",
    "print('The mean absolute error: %.3f' % mean_absolute_error(y_mri_test, y_mri_pred))"
   ]
  },
  {
   "cell_type": "code",
   "execution_count": 68,
   "id": "e8778b82-1627-46c8-920f-a20471bd6f06",
   "metadata": {
    "tags": []
   },
   "outputs": [
    {
     "name": "stdout",
     "output_type": "stream",
     "text": [
      "R2 score decision tree regression: 0.704\n",
      "Explained variance score: 0.735\n",
      "The mean absolute error: 6.024\n"
     ]
    }
   ],
   "source": [
    "y_mri_pred = dtree.predict(X_mri_test)\n",
    "print('R2 score decision tree regression: %.3f' % dtree.score(X_mri_test,y_mri_test))\n",
    "print('Explained variance score: %.3f'  % metrics.explained_variance_score(y_mri_test, y_mri_pred))\n",
    "print('The mean absolute error: %.3f' % mean_absolute_error(y_mri_test, y_mri_pred))"
   ]
  },
  {
   "cell_type": "code",
   "execution_count": 69,
   "id": "fbbc74e1-1f3d-48d3-a9be-5559c417a399",
   "metadata": {
    "tags": []
   },
   "outputs": [
    {
     "name": "stdout",
     "output_type": "stream",
     "text": [
      "R2 score Lasso linear regression: 0.666\n",
      "Explained variance score: 0.695\n",
      "The mean absolute error: 7.234\n"
     ]
    }
   ],
   "source": [
    "y_mri_pred = regr.predict(X_mri_test)\n",
    "print('R2 score Lasso linear regression: %.3f' % regr.score(X_mri_test,y_mri_test))\n",
    "print('Explained variance score: %.3f'  % metrics.explained_variance_score(y_mri_test, y_mri_pred))\n",
    "print('The mean absolute error: %.3f' % mean_absolute_error(y_mri_test, y_mri_pred))"
   ]
  },
  {
   "cell_type": "code",
   "execution_count": 70,
   "id": "72f218b2-f17f-4fd5-8f7e-a90d3ad9f378",
   "metadata": {},
   "outputs": [
    {
     "name": "stdout",
     "output_type": "stream",
     "text": [
      "R2 score SVR poly2 regression: 0.065\n",
      "Explained variance score: 0.419\n",
      "The mean absolute error: 12.472\n"
     ]
    }
   ],
   "source": [
    "y_mri_pred = svr_p2.predict(X_mri_test)\n",
    "print('R2 score SVR poly2 regression: %.3f' % svr_p2.score(X_mri_test,y_mri_test))\n",
    "print('Explained variance score: %.3f'  % metrics.explained_variance_score(y_mri_test, y_mri_pred))\n",
    "print('The mean absolute error: %.3f' % mean_absolute_error(y_mri_test, y_mri_pred))"
   ]
  },
  {
   "cell_type": "code",
   "execution_count": 71,
   "id": "e35c492d-1373-4a7d-9a45-5cf5e71b083d",
   "metadata": {
    "tags": []
   },
   "outputs": [
    {
     "name": "stdout",
     "output_type": "stream",
     "text": [
      "R2 score Extra tree regression: 0.840\n",
      "Explained variance score: 0.852\n",
      "The mean absolute error: 4.779\n"
     ]
    }
   ],
   "source": [
    "y_mri_pred = etreg.predict(X_mri_test)\n",
    "print('R2 score Extra tree regression: %.3f' % etreg.score(X_mri_test,y_mri_test))\n",
    "print('Explained variance score: %.3f'  % metrics.explained_variance_score(y_mri_test, y_mri_pred))\n",
    "print('The mean absolute error: %.3f' % mean_absolute_error(y_mri_test, y_mri_pred))"
   ]
  },
  {
   "cell_type": "code",
   "execution_count": null,
   "id": "68e6d564-2534-4588-a202-3470aa01bbd4",
   "metadata": {},
   "outputs": [],
   "source": []
  }
 ],
 "metadata": {
  "kernelspec": {
   "display_name": "Python 3 (ipykernel)",
   "language": "python",
   "name": "python3"
  },
  "language_info": {
   "codemirror_mode": {
    "name": "ipython",
    "version": 3
   },
   "file_extension": ".py",
   "mimetype": "text/x-python",
   "name": "python",
   "nbconvert_exporter": "python",
   "pygments_lexer": "ipython3",
   "version": "3.9.18"
  }
 },
 "nbformat": 4,
 "nbformat_minor": 5
}
