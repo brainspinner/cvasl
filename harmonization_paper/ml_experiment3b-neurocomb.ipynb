{
 "cells": [
  {
   "cell_type": "markdown",
   "id": "e8edc98e-5785-4d1c-baed-02bfc4721f60",
   "metadata": {},
   "source": [
    "# ML testing: experiment #3b-requested harm (neurocombat)\n",
    "\n",
    "This notebook involves testing for the MRI conference abstract. This notebook shows mixed_dataset (TOP + StrokeMRI) based models with neurocombat harmonization to Insight 46 and Sabre datasets (the strokeMRI and TOP become one dataset)"
   ]
  },
  {
   "cell_type": "markdown",
   "id": "be45db67-b24a-409e-bb35-ca468a779ec2",
   "metadata": {
    "tags": []
   },
   "source": [
    "### import libraries"
   ]
  },
  {
   "cell_type": "code",
   "execution_count": null,
   "id": "514ef9ea-48df-4f68-b440-77ee12cddefe",
   "metadata": {
    "tags": []
   },
   "outputs": [],
   "source": [
    "import os       # using operating system dependent functionality (folders)\n",
    "import sys\n",
    "\n",
    "import glob\n",
    "from functools import reduce\n",
    "\n",
    "import pandas as pd # data analysis and manipulation\n",
    "import numpy as np    # numerical computing (manipulating and performing operations on arrays of data)\n",
    "import matplotlib.pyplot as plt\n",
    "\n",
    "# # demo stuff\n",
    "# import ipywidgets as widgets\n",
    "# import seaborn \n",
    "\n",
    "# ml stuff\n",
    "from sklearn.model_selection import train_test_split\n",
    "from sklearn.preprocessing import StandardScaler\n",
    "#from sklearn.svm import SVC\n",
    "from sklearn.metrics import accuracy_score\n",
    "#from sklearn.linear_model import LogisticRegression\n",
    "from sklearn.linear_model import LinearRegression\n",
    "from sklearn import linear_model\n",
    "from sklearn import tree\n",
    "from sklearn import metrics\n",
    "from sklearn.linear_model import SGDRegressor\n",
    "from sklearn.metrics import confusion_matrix\n",
    "from sklearn.metrics import mean_absolute_error\n",
    "from sklearn.neighbors import KNeighborsClassifier\n",
    "from sklearn.svm import SVR\n",
    "from sklearn.neural_network import MLPRegressor\n",
    "from sklearn.linear_model import ElasticNetCV\n",
    "from sklearn.ensemble import ExtraTreesRegressor\n",
    "from sklearn.model_selection import StratifiedShuffleSplit\n",
    "from sklearn.model_selection import cross_val_score\n",
    "\n",
    "import joblib\n",
    "\n",
    "sys.path.insert(0, '../') # path to functions\n",
    "import cvasl.seperated as sep\n",
    "from cvasl.file_handler import Config"
   ]
  },
  {
   "cell_type": "markdown",
   "id": "b0e7da24-0537-44b4-85fb-e69c68c5ec9a",
   "metadata": {
    "tags": []
   },
   "source": [
    "### import data"
   ]
  },
  {
   "cell_type": "code",
   "execution_count": null,
   "id": "5c2a832f-0e28-4000-9f9e-65edb0e578bc",
   "metadata": {
    "tags": []
   },
   "outputs": [],
   "source": [
    "filepath_mri_for_ids = '../open_work/internal_results/cleaned_pvc2s' \n",
    "filename_mri_for_ids = os.path.join(filepath_mri_for_ids,'StrokeMRI_pvc2c.csv') \n",
    "\n",
    "filepath_top_for_ids = '../open_work/internal_results/cleaned_pvc2s/' \n",
    "filename_top_for_ids = os.path.join(filepath_top_for_ids,'TOP_pvc2c.csv') \n",
    "\n",
    "filepath_topmri = '../open_work/internal_results/harmonized_pvc2s/requested_harm/' \n",
    "filename_topmri = os.path.join(filepath_topmri,'Rneuro_harm3way_topmri.csv') \n",
    "filepath_sabre = '../open_work/internal_results/harmonized_pvc2s/requested_harm/' \n",
    "filename_sabre = os.path.join(filepath_topmri,'Rneuro_harm3way_sabre.csv') \n",
    "filepath_insight46 = '../open_work/internal_results/harmonized_pvc2s/requested_harm/' \n",
    "filename_insight46 =  os.path.join(filepath_topmri,'Rneuro_harm3way_insight.csv') \n",
    "# read in data\n",
    "# TOP = pd.read_csv(filename_top)\n",
    "# StrokeMRI = pd.read_csv(filename_mri)\n",
    "TOPMRI = pd.read_csv(filename_topmri)\n",
    "SABRE = pd.read_csv(filename_sabre)\n",
    "Insight46 = pd.read_csv(filename_insight46)\n",
    "# take extra column off\n",
    "TOPMRI = TOPMRI.drop(TOPMRI.columns[0],axis=1)\n",
    "SABRE = SABRE.drop(SABRE.columns[0],axis=1)\n",
    "#StrokeMRI = StrokeMRI.drop(StrokeMRI.columns[0],axis=1)\n",
    "Insight46 = Insight46.drop(Insight46.columns[0],axis=1)\n",
    "IDS_TOP =  pd.read_csv(filename_top_for_ids)\n",
    "IDS_MRI =  pd.read_csv(filename_mri_for_ids)"
   ]
  },
  {
   "cell_type": "code",
   "execution_count": null,
   "id": "61fa79d5-1fa5-401d-9ffd-1fb2762e03a2",
   "metadata": {
    "tags": []
   },
   "outputs": [],
   "source": [
    "# Now we need to flip the sex back to numbers for a correlation\n",
    "sex_mapping = {'F':0,'M':1}\n",
    "TOPMRI = TOPMRI.assign(sex = TOPMRI.sex.map(sex_mapping))\n",
    "TOPMRI.head(3)"
   ]
  },
  {
   "cell_type": "code",
   "execution_count": null,
   "id": "0c902084-c9b8-49a7-aab3-00b86c8a9726",
   "metadata": {
    "tags": []
   },
   "outputs": [],
   "source": [
    "Insight46 = Insight46.assign(sex = Insight46.sex.map(sex_mapping))\n",
    "#Insight46.head(3)"
   ]
  },
  {
   "cell_type": "code",
   "execution_count": null,
   "id": "ca8cbc27-dd08-48d1-b3b7-95289e48670b",
   "metadata": {
    "tags": []
   },
   "outputs": [],
   "source": [
    "coly = TOPMRI.columns\n",
    "SABRE = SABRE.assign(sex = SABRE.sex.map(sex_mapping))\n",
    "SABRE = SABRE[coly]\n",
    "SABRE.head(3)"
   ]
  },
  {
   "cell_type": "code",
   "execution_count": null,
   "id": "38548448-86cc-42bc-9d18-f4575fbd91d1",
   "metadata": {
    "tags": []
   },
   "outputs": [],
   "source": [
    "SABRE =SABRE.dropna()\n",
    "#SABRE.isna().sum()"
   ]
  },
  {
   "cell_type": "markdown",
   "id": "df9a9850-d70d-47ba-9754-dd0345061d40",
   "metadata": {},
   "source": [
    "# Now we need to break up the top and MRI datasets as well, and format them like the others"
   ]
  },
  {
   "cell_type": "code",
   "execution_count": null,
   "id": "0bc77985-9a12-46fc-970d-1e3c0ff780fb",
   "metadata": {
    "tags": []
   },
   "outputs": [],
   "source": [
    "set_top_ids = set(IDS_TOP.participant_id)\n",
    "set_mri_ids = set(IDS_MRI.participant_id)\n",
    "StrokeMRI = TOPMRI[TOPMRI['participant_id'].isin(list(set_mri_ids))]\n",
    "TOP = TOPMRI[TOPMRI['participant_id'].isin(list(set_top_ids))]\n",
    "TOP.head(3)"
   ]
  },
  {
   "cell_type": "code",
   "execution_count": null,
   "id": "6e755c84-ff13-43ba-933d-22d56b1ded12",
   "metadata": {
    "tags": []
   },
   "outputs": [],
   "source": [
    "StrokeMRI = StrokeMRI.assign(sex = StrokeMRI.sex.map(sex_mapping))\n",
    "StrokeMRI.head(3)"
   ]
  },
  {
   "cell_type": "code",
   "execution_count": null,
   "id": "1461b00d-2c3f-4516-ad00-35dff6b128a5",
   "metadata": {
    "tags": []
   },
   "outputs": [],
   "source": [
    "TOP = TOP.assign(sex = TOP.sex.map(sex_mapping))\n",
    "TOP.head(3)"
   ]
  },
  {
   "cell_type": "code",
   "execution_count": null,
   "id": "b9efbca7-4d32-4371-94ea-42cd3cb9ba3b",
   "metadata": {
    "tags": []
   },
   "outputs": [],
   "source": [
    "# check for any duplicated patients between stroke and mri\n",
    "strokers = set(StrokeMRI.participant_id)\n",
    "topers = set(TOP.participant_id)\n",
    "z = strokers.intersection(topers)\n",
    "print(z) "
   ]
  },
  {
   "cell_type": "code",
   "execution_count": null,
   "id": "e59d0741-040c-4265-a2b5-5dfbd37214e1",
   "metadata": {
    "tags": []
   },
   "outputs": [],
   "source": [
    "# make mixed StrokeMRI and TOP dataset\n",
    "#mixed_data = pd.concat([TOP, StrokeMRI], sort=False)\n",
    "mixed_data = TOPMRI"
   ]
  },
  {
   "cell_type": "markdown",
   "id": "f0c08947-d926-416e-92c4-7a644618a456",
   "metadata": {},
   "source": [
    "## Build ML models"
   ]
  },
  {
   "cell_type": "code",
   "execution_count": null,
   "id": "0e8b41eb-3b29-46e2-9627-85627d2d7da8",
   "metadata": {
    "tags": []
   },
   "outputs": [],
   "source": [
    "ml_matrix = mixed_data #.drop('participant_id', axis=1)\n",
    "X = ml_matrix.drop('age', axis =1)\n",
    "X = X.values\n",
    "y = ml_matrix['age'].values\n",
    "y=y.astype('float')"
   ]
  },
  {
   "cell_type": "code",
   "execution_count": null,
   "id": "2a8cf471-55c9-4d99-8379-f83d2a69701b",
   "metadata": {
    "tags": []
   },
   "outputs": [],
   "source": [
    "linr_k_frame, linr_y_frame, models = sep.stratified_one_category_shuffle_split('linear regression', 'req_neurocomb_mix_linr', LinearRegression(), ml_matrix, X[:,1:], y)"
   ]
  },
  {
   "cell_type": "code",
   "execution_count": null,
   "id": "7ff12459-1935-4999-9b3d-82602f802e9a",
   "metadata": {
    "tags": []
   },
   "outputs": [],
   "source": [
    "linr_k_frame"
   ]
  },
  {
   "cell_type": "code",
   "execution_count": null,
   "id": "94ce29f7-42f7-415c-a9f4-881c7993f619",
   "metadata": {
    "tags": []
   },
   "outputs": [],
   "source": [
    "linr_k_frame.to_csv('linr_k_frame_neuro_comb.csv')"
   ]
  },
  {
   "cell_type": "code",
   "execution_count": null,
   "id": "2082e609-ae7d-4dcb-9fc8-140b6161398a",
   "metadata": {
    "tags": []
   },
   "outputs": [],
   "source": [
    "avg_linr = sep.avg_k_folds(linr_k_frame)\n",
    "avg_linr"
   ]
  },
  {
   "cell_type": "code",
   "execution_count": null,
   "id": "b0133c79-6eaa-45d6-bc65-1c65fcf2947f",
   "metadata": {
    "tags": []
   },
   "outputs": [],
   "source": [
    "linr_y_frame.to_csv('linr_y_frame_neuro_comb.csv')\n",
    "linr_y_frame"
   ]
  },
  {
   "cell_type": "code",
   "execution_count": null,
   "id": "cd2f9ed2-027c-4655-bd16-ace93cab8709",
   "metadata": {
    "tags": []
   },
   "outputs": [],
   "source": [
    "linr_y_frame.to_csv('linr_y_frame_neuro_comb.csv')"
   ]
  },
  {
   "cell_type": "code",
   "execution_count": null,
   "id": "c3b05bdb-866c-4e1d-ac49-ca0a9af68bb5",
   "metadata": {
    "tags": []
   },
   "outputs": [],
   "source": [
    "linr = models[0]\n",
    "linr[0]"
   ]
  },
  {
   "cell_type": "code",
   "execution_count": null,
   "id": "5a2029b1-6758-4f63-9f69-37ae9b4b53a4",
   "metadata": {
    "tags": []
   },
   "outputs": [],
   "source": [
    "# check if model folder exists and if not , then create\n",
    "model_folder = '../result_models/'\n",
    "if not os.path.exists(model_folder):\n",
    "    os.makedirs(model_folder)"
   ]
  },
  {
   "cell_type": "code",
   "execution_count": null,
   "id": "38457549-93e9-40f5-9b61-106ac0867bb2",
   "metadata": {
    "tags": []
   },
   "outputs": [],
   "source": [
    "## optional save models\n",
    "#joblib.dump(linr[0], ('../result_models/'+ 'comb_harm_mix_linr0.sav'))\n",
    "#joblib.dump(linr[1], ('../result_models/'+ 'comb_harm_mix_linr1.sav'))\n",
    "#joblib.dump(linr[2], ('../result_models/'+ 'comb_harm_mix_linr2.sav'))\n",
    "#joblib.dump(linr[3], ('../result_models/'+ 'comb_harm_mix_linr3.sav'))\n",
    "#joblib.dump(linr[4], ('../result_models/'+ 'comb_harm_mix_linr4.sav'))"
   ]
  },
  {
   "cell_type": "code",
   "execution_count": null,
   "id": "2fd550f0-6b41-4c28-8945-0e86f237cdd3",
   "metadata": {
    "tags": []
   },
   "outputs": [],
   "source": [
    "llreg_k_frame, llreg_y_frame, models = sep.stratified_one_category_shuffle_split('lasso regression', 'comb_harm_mix_llreg',  linear_model.LassoLars(alpha=0.01), ml_matrix, X[:,1:], y)\n",
    "llreg_k_frame"
   ]
  },
  {
   "cell_type": "code",
   "execution_count": null,
   "id": "46abddfe-e9ae-4f08-b869-5fc5d3dbda14",
   "metadata": {
    "tags": []
   },
   "outputs": [],
   "source": [
    "llreg_k_frame.to_csv('llreg_k_frame_neuro_comb.csv')"
   ]
  },
  {
   "cell_type": "code",
   "execution_count": null,
   "id": "677564bc-7d69-4961-a7e4-563117cf9999",
   "metadata": {
    "tags": []
   },
   "outputs": [],
   "source": [
    "avg_llreg = sep.avg_k_folds(llreg_k_frame)\n",
    "avg_llreg"
   ]
  },
  {
   "cell_type": "code",
   "execution_count": null,
   "id": "16b37956-2e32-4c2b-bb26-956c6951dd54",
   "metadata": {
    "tags": []
   },
   "outputs": [],
   "source": [
    "llreg_y_frame"
   ]
  },
  {
   "cell_type": "code",
   "execution_count": null,
   "id": "a558c561-1c3e-41f8-b7bb-3cfa85aecada",
   "metadata": {
    "tags": []
   },
   "outputs": [],
   "source": [
    "llreg_y_frame.to_csv('llreg_y_frame_neuro_comb.csv')"
   ]
  },
  {
   "cell_type": "code",
   "execution_count": null,
   "id": "5ef586e4-4a58-4c39-86bc-1a7062b2615a",
   "metadata": {
    "tags": []
   },
   "outputs": [],
   "source": [
    "llreg = models[0]\n",
    "llreg[0]"
   ]
  },
  {
   "cell_type": "code",
   "execution_count": null,
   "id": "771f7170-67c2-42e0-a0e3-a0c35203f206",
   "metadata": {
    "tags": []
   },
   "outputs": [],
   "source": [
    "## optional save models\n",
    "#joblib.dump(linr[0], ('../result_models/'+ 'comb_harm_mix_linr0.sav'))\n",
    "#joblib.dump(linr[1], ('../result_models/'+ 'comb_harm_mix_linr1.sav'))\n",
    "#joblib.dump(linr[2], ('../result_models/'+ 'comb_harm_mix_linr2.sav'))\n",
    "#joblib.dump(linr[3], ('../result_models/'+ 'comb_harm_mix_linr3.sav'))\n",
    "#joblib.dump(linr[4], ('../result_models/'+ 'comb_harm_mix_linr4.sav'))"
   ]
  },
  {
   "cell_type": "code",
   "execution_count": null,
   "id": "bdfcdfe1-a080-42f9-89bc-2d0ee14f08d1",
   "metadata": {
    "tags": []
   },
   "outputs": [],
   "source": [
    "dtree_k_frame, dtree_y_frame, models = sep.stratified_one_category_shuffle_split('decision tree', 'comb_harm_mix_dtree',  tree.DecisionTreeRegressor(), ml_matrix, X[:,1:], y)\n",
    "dtree_k_frame"
   ]
  },
  {
   "cell_type": "code",
   "execution_count": null,
   "id": "cbbaceeb-2a59-4b71-a31d-847e8923a626",
   "metadata": {
    "tags": []
   },
   "outputs": [],
   "source": [
    "dtree_k_frame.to_csv('dtree_k_frame_neuro_comb.csv')"
   ]
  },
  {
   "cell_type": "code",
   "execution_count": null,
   "id": "789640fb-2a27-435e-ac25-50ef1015e215",
   "metadata": {
    "tags": []
   },
   "outputs": [],
   "source": [
    "avg_dtree = sep.avg_k_folds(dtree_k_frame)\n",
    "avg_dtree"
   ]
  },
  {
   "cell_type": "code",
   "execution_count": null,
   "id": "fad10001-55db-4c26-a2bc-a8a2bbcf5dd7",
   "metadata": {
    "tags": []
   },
   "outputs": [],
   "source": [
    "dtree_y_frame"
   ]
  },
  {
   "cell_type": "code",
   "execution_count": null,
   "id": "919ad464-3185-4060-af96-610eff249880",
   "metadata": {
    "tags": []
   },
   "outputs": [],
   "source": [
    "dtree_y_frame.to_csv('dtree_y_frame_neuro_comb.csv')"
   ]
  },
  {
   "cell_type": "code",
   "execution_count": null,
   "id": "31cc0344-f68d-44c4-afd4-d9ee1b4b6ac4",
   "metadata": {
    "tags": []
   },
   "outputs": [],
   "source": [
    "dtree = models[0]\n",
    "dtree[0]"
   ]
  },
  {
   "cell_type": "code",
   "execution_count": null,
   "id": "ff9bc510-7768-4fb0-b7c9-9ccb29a03431",
   "metadata": {
    "tags": []
   },
   "outputs": [],
   "source": [
    "regr_k_frame, regr_y_frame, models = sep.stratified_one_category_shuffle_split('MLP regression', 'comb_harm_mix_regr',   MLPRegressor(random_state=1, max_iter=700), ml_matrix, X[:,1:], y)\n",
    "regr_k_frame"
   ]
  },
  {
   "cell_type": "code",
   "execution_count": null,
   "id": "02504ba2-9d88-4ef8-8c7f-c5b572fe96a6",
   "metadata": {
    "tags": []
   },
   "outputs": [],
   "source": [
    "regr_k_frame.to_csv('regr_k_frame_neuro_comb.csv')"
   ]
  },
  {
   "cell_type": "code",
   "execution_count": null,
   "id": "33e2d523-3a35-4a4a-913b-196cf9dff8e0",
   "metadata": {
    "tags": []
   },
   "outputs": [],
   "source": [
    "avg_regr = sep.avg_k_folds(regr_k_frame)\n",
    "avg_regr"
   ]
  },
  {
   "cell_type": "code",
   "execution_count": null,
   "id": "8653b179-eb05-45d3-82fd-83bee512bb96",
   "metadata": {
    "tags": []
   },
   "outputs": [],
   "source": [
    "regr_y_frame"
   ]
  },
  {
   "cell_type": "code",
   "execution_count": null,
   "id": "c15d707a-5f9a-45a9-ba0f-0be5b1a9df6e",
   "metadata": {
    "tags": []
   },
   "outputs": [],
   "source": [
    "regr_y_frame.to_csv('regr_y_frame_neuro_comb.csv')"
   ]
  },
  {
   "cell_type": "code",
   "execution_count": null,
   "id": "134f09b0-87ab-4910-b25a-9679e24d0100",
   "metadata": {
    "tags": []
   },
   "outputs": [],
   "source": [
    "regr = models[0]\n",
    "regr[0]"
   ]
  },
  {
   "cell_type": "code",
   "execution_count": null,
   "id": "4255d797-bcd4-4323-bac5-393c539cd4fd",
   "metadata": {
    "tags": []
   },
   "outputs": [],
   "source": [
    "svrp2_k_frame, svrp2_y_frame, models = sep.stratified_one_category_shuffle_split('support vector reg poly2', 'combharm_mix_svrp2',   SVR(C=1.0, kernel='poly', degree =2, epsilon=0.2), ml_matrix, X[:,1:], y)\n",
    "svrp2_k_frame"
   ]
  },
  {
   "cell_type": "code",
   "execution_count": null,
   "id": "c35222e5-a276-4187-9f4e-4ce2f59baee5",
   "metadata": {
    "tags": []
   },
   "outputs": [],
   "source": [
    "svrp2_k_frame.to_csv('svrp2_k_frame_neuro_comb.csv')"
   ]
  },
  {
   "cell_type": "code",
   "execution_count": null,
   "id": "cd4d587b-0386-413b-a1d8-2210e62a8e5f",
   "metadata": {
    "tags": []
   },
   "outputs": [],
   "source": [
    "avg_svrp2 = sep.avg_k_folds(svrp2_k_frame)\n",
    "avg_svrp2"
   ]
  },
  {
   "cell_type": "code",
   "execution_count": null,
   "id": "93c133a2-fc16-4558-8f0e-d348b6d4b950",
   "metadata": {
    "tags": []
   },
   "outputs": [],
   "source": [
    "svrp2_y_frame"
   ]
  },
  {
   "cell_type": "code",
   "execution_count": null,
   "id": "542d2bec-b870-451b-9c89-2c98d6324eae",
   "metadata": {
    "tags": []
   },
   "outputs": [],
   "source": [
    "svrp2_y_frame.to_csv('svrp2_y_frame_neuro_comb.csv')"
   ]
  },
  {
   "cell_type": "code",
   "execution_count": null,
   "id": "559c3544-c9ac-46a4-94d1-ea9bd597c63a",
   "metadata": {
    "tags": []
   },
   "outputs": [],
   "source": [
    "svrp2 = models[0]\n",
    "svrp2[0]"
   ]
  },
  {
   "cell_type": "code",
   "execution_count": null,
   "id": "61060fc3-0e43-4efc-ad98-a7914137adec",
   "metadata": {
    "tags": []
   },
   "outputs": [],
   "source": [
    "eregr_k_frame, eregr_y_frame, models = sep.stratified_one_category_shuffle_split('elasticnetCV', 'combharm_mix_eregr',  ElasticNetCV(cv=5, random_state=12), ml_matrix, X[:,1:], y)\n",
    "eregr_k_frame"
   ]
  },
  {
   "cell_type": "code",
   "execution_count": null,
   "id": "163fa474-0978-48c5-ba7d-d79038319fed",
   "metadata": {
    "tags": []
   },
   "outputs": [],
   "source": [
    "eregr_k_frame.to_csv('eregr_k_frame_neuro_comb.csv')"
   ]
  },
  {
   "cell_type": "code",
   "execution_count": null,
   "id": "ce1bb2eb-b10b-4a04-9d30-f96fa1e1ff3b",
   "metadata": {
    "tags": []
   },
   "outputs": [],
   "source": [
    "avg_eregr = sep.avg_k_folds(eregr_k_frame)\n",
    "avg_eregr"
   ]
  },
  {
   "cell_type": "code",
   "execution_count": null,
   "id": "ab97ad53-ab96-4eb3-9c4a-80bc6093bb86",
   "metadata": {
    "tags": []
   },
   "outputs": [],
   "source": [
    "eregr_y_frame"
   ]
  },
  {
   "cell_type": "code",
   "execution_count": null,
   "id": "d3dac004-7b05-4fb6-a124-8c02bd432f22",
   "metadata": {
    "tags": []
   },
   "outputs": [],
   "source": [
    "eregr_y_frame.to_csv('eregr_y_frame_neuro_comb.csv')"
   ]
  },
  {
   "cell_type": "code",
   "execution_count": null,
   "id": "5cc6f720-a67e-4354-b036-4533b08f2000",
   "metadata": {
    "tags": []
   },
   "outputs": [],
   "source": [
    "eregr = models[0]\n",
    "eregr[0]"
   ]
  },
  {
   "cell_type": "code",
   "execution_count": null,
   "id": "10a28950-8781-416b-8224-e0b14716900b",
   "metadata": {
    "tags": []
   },
   "outputs": [],
   "source": [
    "etreg_k_frame, etreg_y_frame, models = sep.stratified_one_category_shuffle_split('extra trees', 'comb_harm_mix_etreg',  ExtraTreesRegressor(n_estimators=100, random_state=0), ml_matrix, X[:,1:], y)\n",
    "etreg_k_frame"
   ]
  },
  {
   "cell_type": "code",
   "execution_count": null,
   "id": "e9e5bfdc-1716-4f5c-851c-141a0583d957",
   "metadata": {
    "tags": []
   },
   "outputs": [],
   "source": [
    "etreg_k_frame.to_csv('etreg_k_frame_neuro_comb.csv')"
   ]
  },
  {
   "cell_type": "code",
   "execution_count": null,
   "id": "54cb4f91-5126-4971-b5eb-57cd2dcce9b5",
   "metadata": {
    "tags": []
   },
   "outputs": [],
   "source": [
    "avg_etreg = sep.avg_k_folds(etreg_k_frame)\n",
    "avg_etreg"
   ]
  },
  {
   "cell_type": "code",
   "execution_count": null,
   "id": "7b074414-9bc5-4d73-ba5c-671d4b9fe854",
   "metadata": {
    "tags": []
   },
   "outputs": [],
   "source": [
    "etreg_y_frame"
   ]
  },
  {
   "cell_type": "code",
   "execution_count": null,
   "id": "ed83e2b9-17f7-4349-909a-5c1ea652b87e",
   "metadata": {
    "tags": []
   },
   "outputs": [],
   "source": [
    "etreg_y_frame.to_csv('etreg_y_frame_neuro_comb.csv')"
   ]
  },
  {
   "cell_type": "code",
   "execution_count": null,
   "id": "24a210ff-abd1-4a33-8d59-da26e937ca0a",
   "metadata": {
    "tags": []
   },
   "outputs": [],
   "source": [
    "etreg = models[0]\n",
    "etreg[0]"
   ]
  },
  {
   "cell_type": "code",
   "execution_count": null,
   "id": "011b5aee-6c87-48fe-96be-93decfd2f2bf",
   "metadata": {
    "tags": []
   },
   "outputs": [],
   "source": [
    "## optional save models\n",
    "#joblib.dump(etreg[0], ('../result_models/'+ 'comb_harm_mix_etreg0.sav'))\n",
    "#joblib.dump(etreg[1], ('../result_models/'+ 'comb_harm_mix_etreg1.sav'))\n",
    "#joblib.dump(etreg[2], ('../result_models/'+ 'comb_harm_mix_etreg2.sav'))\n",
    "#joblib.dump(etreg[3], ('../result_models/'+ 'comb_harm_mix_etreg3.sav'))\n",
    "#joblib.dump(etreg[4], ('../result_models/'+ 'comb_harm_mix_etreg4.sav'))"
   ]
  },
  {
   "cell_type": "markdown",
   "id": "010653f4-8e57-454a-aaaf-4fa6991ab63c",
   "metadata": {},
   "source": [
    "Show results ON AVERAGE for each model"
   ]
  },
  {
   "cell_type": "code",
   "execution_count": null,
   "id": "23f651de-64b1-44c5-9bbb-ce606c51aa9f",
   "metadata": {
    "tags": []
   },
   "outputs": [],
   "source": [
    "mixed_based_neuro_harmonized_on_testmix =pd.concat([avg_linr,\n",
    "                   avg_llreg,\n",
    "                   avg_dtree,\n",
    "                   avg_regr,\n",
    "                   avg_svrp2,\n",
    "                   avg_eregr,\n",
    "                   avg_etreg],\n",
    "                  axis=0)\n",
    "mixed_based_neuro_harmonized_on_testmix"
   ]
  },
  {
   "cell_type": "code",
   "execution_count": null,
   "id": "5c596467-d829-466a-b89c-e06a590e9040",
   "metadata": {
    "tags": []
   },
   "outputs": [],
   "source": [
    "mixed_based_neuro_harmonized_on_testmix.to_csv('mixed_based_neurocomb_harmonized_on_testmix.csv')"
   ]
  },
  {
   "cell_type": "markdown",
   "id": "335561d1-d08d-42c8-a609-88d24e5d5b8e",
   "metadata": {},
   "source": [
    "# Running mixed model over SABRE dataset"
   ]
  },
  {
   "cell_type": "markdown",
   "id": "dd9fe7cc-6afb-4f4d-aa20-35d4d6238d3d",
   "metadata": {},
   "source": [
    "## Here we will do an example of running  models made of the entire StrokeMRI and TOP dataset mixed as one"
   ]
  },
  {
   "cell_type": "markdown",
   "id": "d589fe7c-0e57-4e35-b108-f83a32e68863",
   "metadata": {
    "tags": []
   },
   "source": [
    "#### Build new models"
   ]
  },
  {
   "cell_type": "code",
   "execution_count": null,
   "id": "678c5c90-f4e2-4da4-9eb3-c9c8aa450ac5",
   "metadata": {
    "tags": []
   },
   "outputs": [],
   "source": [
    "TOPMRI.head(3)"
   ]
  },
  {
   "cell_type": "code",
   "execution_count": null,
   "id": "e858ce7d-8da7-41e2-b92b-111485afa697",
   "metadata": {
    "tags": []
   },
   "outputs": [],
   "source": [
    "ml_matrix = TOPMRI.drop('participant_id', axis=1)\n",
    "X = ml_matrix.drop('age', axis =1)\n",
    "X = X.values\n",
    "X = X.astype('float')\n",
    "y = ml_matrix['age'].values\n",
    "y=y.astype('float')"
   ]
  },
  {
   "cell_type": "code",
   "execution_count": null,
   "id": "9b2f7283-a05d-411a-82f4-6df5dcf3216c",
   "metadata": {
    "tags": []
   },
   "outputs": [],
   "source": [
    "# now we decide to do no test train split, rather take all\n",
    "X_train = X\n",
    "y_train = y"
   ]
  },
  {
   "cell_type": "code",
   "execution_count": null,
   "id": "649bf038-fb3c-419c-8385-dd478c30d042",
   "metadata": {
    "tags": []
   },
   "outputs": [],
   "source": [
    "MIXlinr = LinearRegression()\n",
    "MIXlinr.fit(X_train, y_train)"
   ]
  },
  {
   "cell_type": "code",
   "execution_count": null,
   "id": "5d4a180c-930a-4f7e-9e4d-03776b64ac44",
   "metadata": {
    "tags": []
   },
   "outputs": [],
   "source": [
    "MIXllreg = linear_model.LassoLars(alpha=0.01)\n",
    "MIXllreg.fit(X_train, y_train)"
   ]
  },
  {
   "cell_type": "code",
   "execution_count": null,
   "id": "3daae9f9-f5dd-49a1-8488-0b754288b78f",
   "metadata": {
    "tags": []
   },
   "outputs": [],
   "source": [
    "MIXeregr = ElasticNetCV(cv=5, random_state=17)\n",
    "MIXeregr.fit(X_train, y_train)\n"
   ]
  },
  {
   "cell_type": "code",
   "execution_count": null,
   "id": "96720f02-42e7-4100-819d-791e9c6e75e9",
   "metadata": {
    "tags": []
   },
   "outputs": [],
   "source": [
    "MIXetreg = ExtraTreesRegressor(n_estimators=100, random_state=0)\n",
    "MIXetreg.fit(X_train, y_train)"
   ]
  },
  {
   "cell_type": "code",
   "execution_count": null,
   "id": "f184d4bd-d652-4fe4-aff3-9305b3dcdfab",
   "metadata": {
    "tags": []
   },
   "outputs": [],
   "source": [
    "##  Save these four best models"
   ]
  },
  {
   "cell_type": "code",
   "execution_count": null,
   "id": "b3af3169-f33a-4097-b802-faca8ac35282",
   "metadata": {
    "tags": []
   },
   "outputs": [],
   "source": [
    "## optional save models\n",
    "#joblib.dump(MIXlinr, ('../result_models/'+  'neurocomb_harm_mix_MIXlinr.sav'))\n",
    "#joblib.dump(MIXllreg, ('../result_models/'+ 'neurocomb_harmm_mix_MIXllreg.sav'))\n",
    "#joblib.dump(MIXeregr, ('../result_models/'+ 'neurocomb_harm_mix_MIXeregr.sav'))\n",
    "#joblib.dump(MIXetreg, ('../result_models/'+ 'neurocomb_harm_mix_MIXetreg.sav'))"
   ]
  },
  {
   "cell_type": "code",
   "execution_count": null,
   "id": "4541d92f-cf01-4f5a-97cb-6ba4b4c4b0f9",
   "metadata": {
    "tags": []
   },
   "outputs": [],
   "source": [
    "sabre_ml_matrix = SABRE.drop('participant_id', axis=1)\n",
    "X_sabre = sabre_ml_matrix.drop('age', axis =1)\n",
    "X_sabre = X_sabre.values\n",
    "X_sabre = X_sabre.astype('float')\n",
    "y_sabre = sabre_ml_matrix['age'].values\n",
    "y_sabre=y_sabre.astype('float')"
   ]
  },
  {
   "cell_type": "code",
   "execution_count": null,
   "id": "35936c03-d11e-456f-9883-3ab5c7da1fd9",
   "metadata": {
    "tags": []
   },
   "outputs": [],
   "source": [
    "X_sabre_test = X_sabre\n",
    "y_sabre_test = y_sabre"
   ]
  },
  {
   "cell_type": "code",
   "execution_count": null,
   "id": "f1358a3f-ca42-434b-8f43-bb6ac2a12daf",
   "metadata": {
    "tags": []
   },
   "outputs": [],
   "source": [
    "y_sabre_pred = MIXlinr.predict(X_sabre_test)"
   ]
  },
  {
   "cell_type": "code",
   "execution_count": null,
   "id": "6e5993c5-1d7e-4850-88c9-aad5b7e0c24e",
   "metadata": {
    "tags": []
   },
   "outputs": [],
   "source": [
    "data= [[\n",
    "    'Linear Reg',\n",
    "    'combharm_mix_linr0.sav',\n",
    "    mean_absolute_error(y_sabre_test, y_sabre_pred),\n",
    "    MIXlinr.score(X_sabre_test,y_sabre_test),\n",
    "    metrics.explained_variance_score(y_sabre_test, y_sabre_pred)]]\n",
    "linr_results_sabre = pd.DataFrame(data, columns=['algorithm','file_name','mae', 'r2', 'explained_variance'])\n",
    "linr_results_sabre"
   ]
  },
  {
   "cell_type": "code",
   "execution_count": null,
   "id": "cb2b4ade-6a6b-4d5a-afdb-a983d8123576",
   "metadata": {
    "tags": []
   },
   "outputs": [],
   "source": [
    "data = {'real': y_sabre_test, 'predicted': y_sabre_pred}\n",
    "y_frame_linr_sabre = pd.DataFrame(data)\n",
    "y_frame_linr_sabre"
   ]
  },
  {
   "cell_type": "code",
   "execution_count": null,
   "id": "4770f05f-3e13-4683-9291-1a2a3dbe4ac4",
   "metadata": {
    "tags": []
   },
   "outputs": [],
   "source": [
    "y_frame_linr_sabre.to_csv('y_frame_linr_sabre_neurocomb_harm.csv')"
   ]
  },
  {
   "cell_type": "code",
   "execution_count": null,
   "id": "2c88fdc5-bf6b-4269-af94-b7ef2aceab7f",
   "metadata": {
    "tags": []
   },
   "outputs": [],
   "source": [
    "y_sabre_pred = MIXllreg.predict(X_sabre_test)"
   ]
  },
  {
   "cell_type": "code",
   "execution_count": null,
   "id": "3d6d882e-a2b1-4aea-b121-f256425fd927",
   "metadata": {
    "tags": []
   },
   "outputs": [],
   "source": [
    "data= [[\n",
    "    'Lasso',\n",
    "    'comb_harm_mix_lassor0.sav',\n",
    "    mean_absolute_error(y_sabre_test, y_sabre_pred),\n",
    "    MIXllreg.score(X_sabre_test,y_sabre_test),\n",
    "    metrics.explained_variance_score(y_sabre_test, y_sabre_pred)]]\n",
    "llreg_results_sabre = pd.DataFrame(data, columns=['algorithm','file_name','mae', 'r2', 'explained_variance'])\n",
    "llreg_results_sabre"
   ]
  },
  {
   "cell_type": "code",
   "execution_count": null,
   "id": "a5b5e69a-7299-4e27-ac4a-fab61b8a3f82",
   "metadata": {
    "tags": []
   },
   "outputs": [],
   "source": [
    "data = {'real': y_sabre_test, 'predicted': y_sabre_pred}\n",
    "y_frame_llreg_sabre = pd.DataFrame(data)\n",
    "y_frame_llreg_sabre"
   ]
  },
  {
   "cell_type": "code",
   "execution_count": null,
   "id": "6037ddb4-32a7-4a2d-b10a-5bdbf6207f44",
   "metadata": {
    "tags": []
   },
   "outputs": [],
   "source": [
    "y_frame_llreg_sabre.to_csv('y_frame_llreg_sabre_neurocomb_harm.csv')"
   ]
  },
  {
   "cell_type": "code",
   "execution_count": null,
   "id": "1f291391-1fc2-483a-a20d-28aee059c53b",
   "metadata": {
    "tags": []
   },
   "outputs": [],
   "source": [
    "y_sabre_pred = MIXeregr.predict(X_sabre_test)"
   ]
  },
  {
   "cell_type": "code",
   "execution_count": null,
   "id": "0aa78f2a-5de4-43c4-b326-f59d7ec9b2ef",
   "metadata": {
    "tags": []
   },
   "outputs": [],
   "source": [
    "data= [[\n",
    "    'ElasticnetCV',\n",
    "    'harm_mix_elasticregr.sav',\n",
    "    mean_absolute_error(y_sabre_test, y_sabre_pred),\n",
    "    MIXeregr.score(X_sabre_test,y_sabre_test),\n",
    "    metrics.explained_variance_score(y_sabre_test, y_sabre_pred)]]\n",
    "eregr_results_sabre = pd.DataFrame(data, columns=['algorithm','file_name','mae', 'r2', 'explained_variance'])\n",
    "eregr_results_sabre"
   ]
  },
  {
   "cell_type": "code",
   "execution_count": null,
   "id": "e402811e-90fe-4666-87fd-42639ddfc9e6",
   "metadata": {
    "tags": []
   },
   "outputs": [],
   "source": [
    "data = {'real': y_sabre_test, 'predicted': y_sabre_pred}\n",
    "y_frame_eregr_sabre = pd.DataFrame(data)\n",
    "y_frame_eregr_sabre"
   ]
  },
  {
   "cell_type": "code",
   "execution_count": null,
   "id": "5eea397e-8ba2-46e6-aa72-5299f74c55f4",
   "metadata": {
    "tags": []
   },
   "outputs": [],
   "source": [
    "y_frame_eregr_sabre.to_csv('y_frame_eregr_sabre_neurocomb_harm.csv')"
   ]
  },
  {
   "cell_type": "code",
   "execution_count": null,
   "id": "83b9e294-b91f-4965-a9ec-71a9f2098de1",
   "metadata": {
    "tags": []
   },
   "outputs": [],
   "source": [
    "y_sabre_pred = MIXetreg.predict(X_sabre_test)"
   ]
  },
  {
   "cell_type": "code",
   "execution_count": null,
   "id": "a461bfd1-bbfe-46ba-905c-e9279da37432",
   "metadata": {
    "tags": []
   },
   "outputs": [],
   "source": [
    "data= [[\n",
    "    'Extra trees',\n",
    "    'combharm_mix_etreg.sav',\n",
    "    mean_absolute_error(y_sabre_test, y_sabre_pred),\n",
    "    MIXetreg.score(X_sabre_test,y_sabre_test),\n",
    "    metrics.explained_variance_score(y_sabre_test, y_sabre_pred)]]\n",
    "etreg_results_sabre = pd.DataFrame(data, columns=['algorithm','file_name','mae', 'r2', 'explained_variance'])\n",
    "etreg_results_sabre"
   ]
  },
  {
   "cell_type": "code",
   "execution_count": null,
   "id": "ac524ce4-6808-496b-b9b9-481b6479e886",
   "metadata": {
    "tags": []
   },
   "outputs": [],
   "source": [
    "data = {'real': y_sabre_test, 'predicted': y_sabre_pred}\n",
    "y_frame_etregr_sabre = pd.DataFrame(data)\n",
    "y_frame_etregr_sabre"
   ]
  },
  {
   "cell_type": "code",
   "execution_count": null,
   "id": "580fe45c-6428-4465-951d-851d251a1e37",
   "metadata": {
    "tags": []
   },
   "outputs": [],
   "source": [
    "y_frame_etregr_sabre.to_csv('y_frame_etregr_sabre_neurocomb_harm.csv')"
   ]
  },
  {
   "cell_type": "code",
   "execution_count": null,
   "id": "372532aa-b0af-4c75-bb71-b22fce54cc10",
   "metadata": {
    "tags": []
   },
   "outputs": [],
   "source": [
    "mix_based_neuroharmonized_on_sabre =pd.concat([linr_results_sabre,\n",
    "                   llreg_results_sabre,\n",
    "                   eregr_results_sabre,\n",
    "                  etreg_results_sabre],\n",
    "                  axis=0)\n",
    "mix_based_neuroharmonized_on_sabre"
   ]
  },
  {
   "cell_type": "code",
   "execution_count": null,
   "id": "cddc58e4-76cb-420c-8ba8-a07552a7096d",
   "metadata": {
    "tags": []
   },
   "outputs": [],
   "source": [
    "mix_based_neuroharmonized_on_sabre.to_csv('mix_based_neurocomb_harmonized_on_sabre.csv')"
   ]
  },
  {
   "cell_type": "markdown",
   "id": "643a2b97-1246-4efb-9291-498b8adf606d",
   "metadata": {},
   "source": [
    "# Running mixed model over Insight46 dataset"
   ]
  },
  {
   "cell_type": "markdown",
   "id": "c24060d3-81f2-4bfb-aee6-ef9042bef95c",
   "metadata": {},
   "source": [
    "## Here we will do an example of running allthe [0] models"
   ]
  },
  {
   "cell_type": "code",
   "execution_count": null,
   "id": "5f2bae9e-f6c1-4c54-b01f-bb4eb228c121",
   "metadata": {
    "tags": []
   },
   "outputs": [],
   "source": [
    "insight_ml_matrix = Insight46.drop('participant_id', axis=1)\n",
    "X_insight = insight_ml_matrix.drop('age', axis =1)\n",
    "X_insight = X_insight.values\n",
    "X_insight = X_insight.astype('float')\n",
    "y_insight = insight_ml_matrix['age'].values\n",
    "y_insight= y_insight.astype('float')"
   ]
  },
  {
   "cell_type": "code",
   "execution_count": null,
   "id": "4c42319d-fe4d-4786-9ec9-54b0809a40dd",
   "metadata": {
    "tags": []
   },
   "outputs": [],
   "source": [
    "X_insight_test = X_insight\n",
    "y_insight_test = y_insight"
   ]
  },
  {
   "cell_type": "code",
   "execution_count": null,
   "id": "42bd7c73-cf15-4e24-98d2-dc84cbdfd341",
   "metadata": {
    "tags": []
   },
   "outputs": [],
   "source": [
    "y_insight_pred = MIXlinr.predict(X_insight_test)"
   ]
  },
  {
   "cell_type": "code",
   "execution_count": null,
   "id": "82ad38c7-49c7-455d-b2b0-ac4c1fa0a49a",
   "metadata": {
    "tags": []
   },
   "outputs": [],
   "source": [
    "data= [[\n",
    "    'Linear Reg',\n",
    "    'neurocomb_harm_mix_linr0.sav',\n",
    "    mean_absolute_error(y_insight_test, y_insight_pred),\n",
    "    MIXlinr.score(X_insight_test,y_insight_test),\n",
    "    metrics.explained_variance_score(y_insight_test, y_insight_pred)]]\n",
    "linr_results_insight = pd.DataFrame(data, columns=['algorithm','file_name','mae', 'r2', 'explained_variance'])\n",
    "linr_results_insight"
   ]
  },
  {
   "cell_type": "code",
   "execution_count": null,
   "id": "ad393371-6d37-4ab8-88ea-52c87b2f16f1",
   "metadata": {
    "tags": []
   },
   "outputs": [],
   "source": [
    "data = {'real': y_insight_test, 'predicted': y_insight_pred}\n",
    "y_frame_linr_insight = pd.DataFrame(data)\n",
    "y_frame_linr_insight"
   ]
  },
  {
   "cell_type": "code",
   "execution_count": null,
   "id": "6f82d394-fd25-47e2-a272-699c60dbed50",
   "metadata": {
    "tags": []
   },
   "outputs": [],
   "source": [
    "y_frame_linr_insight.to_csv('y_frame_linr_insight_neurocomb_harm.csv')"
   ]
  },
  {
   "cell_type": "code",
   "execution_count": null,
   "id": "d8e8db53-ee07-45dc-9b10-56744505445f",
   "metadata": {
    "tags": []
   },
   "outputs": [],
   "source": [
    "y_insight_pred = MIXllreg.predict(X_insight_test)"
   ]
  },
  {
   "cell_type": "code",
   "execution_count": null,
   "id": "8afdfb64-e596-418c-b160-e32d55ba5bc7",
   "metadata": {
    "tags": []
   },
   "outputs": [],
   "source": [
    "data= [[\n",
    "    'Lasso',\n",
    "    'neuroharm_mix_lassor0.sav',\n",
    "    mean_absolute_error(y_insight_test, y_insight_pred),\n",
    "    MIXllreg.score(X_insight_test,y_insight_test),\n",
    "    metrics.explained_variance_score(y_insight_test, y_insight_pred)]]\n",
    "llreg_results_insight = pd.DataFrame(data, columns=['algorithm','file_name','mae', 'r2', 'explained_variance'])\n",
    "llreg_results_insight"
   ]
  },
  {
   "cell_type": "code",
   "execution_count": null,
   "id": "2939ac22-531b-4850-bfc5-63d480aec109",
   "metadata": {
    "tags": []
   },
   "outputs": [],
   "source": [
    "data = {'real': y_insight_test, 'predicted': y_insight_pred}\n",
    "y_frame_llreg_insight = pd.DataFrame(data)\n",
    "y_frame_llreg_insight"
   ]
  },
  {
   "cell_type": "code",
   "execution_count": null,
   "id": "52927fa4-47b9-4b8b-92e1-1cf37a0fb538",
   "metadata": {
    "tags": []
   },
   "outputs": [],
   "source": [
    "y_frame_llreg_insight.to_csv('y_frame_llreg_insight_neurocomb_harm.csv')"
   ]
  },
  {
   "cell_type": "code",
   "execution_count": null,
   "id": "8b6c730c-edb7-41a7-9c25-cb9fde019ac1",
   "metadata": {
    "tags": []
   },
   "outputs": [],
   "source": [
    "y_insight_pred = MIXeregr.predict(X_insight_test)"
   ]
  },
  {
   "cell_type": "code",
   "execution_count": null,
   "id": "a5e4906c-6e64-4cb7-a9e2-53c02ad1c838",
   "metadata": {
    "tags": []
   },
   "outputs": [],
   "source": [
    "data= [[\n",
    "    'ElasticnetCV',\n",
    "    'neurocomb_mix_elasticregr.sav',\n",
    "    mean_absolute_error(y_insight_test, y_insight_pred),\n",
    "    MIXeregr.score(X_insight_test,y_insight_test),\n",
    "    metrics.explained_variance_score(y_insight_test, y_insight_pred)]]\n",
    "eregr_results_insight = pd.DataFrame(data, columns=['algorithm','file_name','mae', 'r2', 'explained_variance'])\n",
    "eregr_results_insight"
   ]
  },
  {
   "cell_type": "code",
   "execution_count": null,
   "id": "cb590c30-ccc5-4fa0-80ff-792a7ad8a3d3",
   "metadata": {
    "tags": []
   },
   "outputs": [],
   "source": [
    "data = {'real': y_insight_test, 'predicted': y_insight_pred}\n",
    "y_frame_eregr_insight = pd.DataFrame(data)\n",
    "y_frame_eregr_insight"
   ]
  },
  {
   "cell_type": "code",
   "execution_count": null,
   "id": "0fe55428-c65c-4960-87d6-5b25b9c04b39",
   "metadata": {
    "tags": []
   },
   "outputs": [],
   "source": [
    "y_frame_eregr_insight.to_csv('y_frame_eregr_insight_neuro_harm.csv')"
   ]
  },
  {
   "cell_type": "code",
   "execution_count": null,
   "id": "b5359618-4501-4bb8-9550-673eb3cd45df",
   "metadata": {
    "tags": []
   },
   "outputs": [],
   "source": [
    "y_insight_pred = MIXetreg.predict(X_insight_test)"
   ]
  },
  {
   "cell_type": "code",
   "execution_count": null,
   "id": "942eea1e-720b-4de9-95cc-b5ede54cb44f",
   "metadata": {
    "tags": []
   },
   "outputs": [],
   "source": [
    "data= [[\n",
    "    'Extra trees',\n",
    "    'neurocomb_mix_etreg.sav',\n",
    "    mean_absolute_error(y_insight_test, y_insight_pred),\n",
    "    MIXetreg.score(X_insight_test,y_insight_test),\n",
    "    metrics.explained_variance_score(y_insight_test, y_insight_pred)]]\n",
    "etreg_results_insight = pd.DataFrame(data, columns=['algorithm','file_name','mae', 'r2', 'explained_variance'])\n",
    "etreg_results_insight"
   ]
  },
  {
   "cell_type": "code",
   "execution_count": null,
   "id": "67c47485-9cf5-4193-85de-3548ef214648",
   "metadata": {
    "tags": []
   },
   "outputs": [],
   "source": [
    "data = {'real': y_insight_test, 'predicted': y_insight_pred}\n",
    "y_frame_etreg_insight = pd.DataFrame(data)\n",
    "y_frame_etreg_insight"
   ]
  },
  {
   "cell_type": "code",
   "execution_count": null,
   "id": "59f0a5e9-c3a6-42f8-8a40-8684e7e67d65",
   "metadata": {
    "tags": []
   },
   "outputs": [],
   "source": [
    "y_frame_etreg_insight.to_csv('y_frame_etreg_insight_neuro_comb.csv')"
   ]
  },
  {
   "cell_type": "code",
   "execution_count": null,
   "id": "94f68e7c-6f54-47bc-8679-9c4b19629ae0",
   "metadata": {
    "tags": []
   },
   "outputs": [],
   "source": [
    "mix_based_neuroharmonized_on_insight =pd.concat([linr_results_insight,\n",
    "                   llreg_results_insight,\n",
    "                   eregr_results_insight,\n",
    "                   etreg_results_insight],\n",
    "                  axis=0)\n",
    "mix_based_neuroharmonized_on_insight"
   ]
  },
  {
   "cell_type": "code",
   "execution_count": null,
   "id": "066b9518-4dc5-40b9-9391-2c0b3cc8b14e",
   "metadata": {
    "tags": []
   },
   "outputs": [],
   "source": [
    "mix_based_neuroharmonized_on_insight.to_csv('mix_based_neurocomb_harmonized_on_insight.csv')"
   ]
  },
  {
   "cell_type": "code",
   "execution_count": null,
   "id": "f9a90039-a07d-4d42-b1d9-b332e9635a12",
   "metadata": {},
   "outputs": [],
   "source": []
  }
 ],
 "metadata": {
  "kernelspec": {
   "display_name": "Python 3 (ipykernel)",
   "language": "python",
   "name": "python3"
  },
  "language_info": {
   "codemirror_mode": {
    "name": "ipython",
    "version": 3
   },
   "file_extension": ".py",
   "mimetype": "text/x-python",
   "name": "python",
   "nbconvert_exporter": "python",
   "pygments_lexer": "ipython3",
   "version": "3.11.6"
  }
 },
 "nbformat": 4,
 "nbformat_minor": 5
}
