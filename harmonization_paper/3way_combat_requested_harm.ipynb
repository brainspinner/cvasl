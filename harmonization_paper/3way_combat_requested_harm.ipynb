{
 "cells": [
  {
   "cell_type": "markdown",
   "id": "50e2db5a-8562-4fac-a4e9-e2907abb112b",
   "metadata": {},
   "source": [
    "# Neurocombat TOP+StrokeMRI, SABREand Insight46 harmonized datasets"
   ]
  },
  {
   "cell_type": "markdown",
   "id": "02f4a44f-100c-46f7-ac80-03ae235ba741",
   "metadata": {},
   "source": [
    "This notebook creates datasets from the above hamornized as if each of 1. a blended TOP and StrokeMRI 2.SABRE and 3. Insight  is indpendant and from a different \"batch\" (TOP and StrokeMRI are same acquisition on same machine, so same batch)"
   ]
  },
  {
   "cell_type": "markdown",
   "id": "c932a670-dd91-4f28-a616-5c90df591452",
   "metadata": {},
   "source": [
    "Note this must be run in the `neuron` environment"
   ]
  },
  {
   "cell_type": "markdown",
   "id": "eca4489b-788c-4761-88b3-36a7b455ba2b",
   "metadata": {
    "tags": []
   },
   "source": [
    "## import libraries"
   ]
  },
  {
   "cell_type": "code",
   "execution_count": null,
   "id": "bf3b8c51-858f-4148-ad99-643b602b94b6",
   "metadata": {
    "tags": []
   },
   "outputs": [],
   "source": [
    "import os\n",
    "\n",
    "import pandas as pd\n",
    "import numpy as np\n",
    "\n",
    "from neuroCombat import neuroCombat"
   ]
  },
  {
   "cell_type": "markdown",
   "id": "3f320e26-58c8-4af2-a9fa-78f8f2894acf",
   "metadata": {},
   "source": [
    "## Let's see how we would apply this to our data\n",
    "We will have to flip it on it's side to make it work"
   ]
  },
  {
   "cell_type": "code",
   "execution_count": null,
   "id": "cd7a0bbf-12b2-4f29-8c4d-e4091d12410a",
   "metadata": {},
   "outputs": [],
   "source": []
  },
  {
   "cell_type": "code",
   "execution_count": null,
   "id": "b3f0435c-df16-408e-a483-e7e30a32320d",
   "metadata": {
    "tags": []
   },
   "outputs": [],
   "source": [
    "filepath = '../open_work/internal_results/cleaned_pvc2s/' \n",
    "filename_mri = os.path.join(filepath,'StrokeMRI_pvc2c.csv') \n",
    "filename_top = os.path.join(filepath,'TOP_pvc2c.csv') \n",
    "filename_sabre = os.path.join(filepath,'SABRE_pvc2_cleaned.csv') \n",
    "filename_insight46 =  os.path.join(filepath'Insight46_pvc2c.csv') "
   ]
  },
  {
   "cell_type": "code",
   "execution_count": null,
   "id": "ee98b2ac-e566-47a6-aadf-782decb2658a",
   "metadata": {
    "tags": []
   },
   "outputs": [],
   "source": [
    "# Now we must clean SABRE down to be like the other datasets, including dropping NAns\n",
    "MRI = pd.read_csv(filename_mri)\n",
    "TOP = pd.read_csv(filename_top)\n",
    "Insight46 = pd.read_csv(filename_insight46)\n",
    "\n",
    "SABRE =  pd.read_csv(filename_sabre)\n",
    "coly = TOP.columns\n",
    "SABRE = SABRE[coly]\n",
    "SABRE= SABRE.dropna()\n",
    "SABRE.head(3)"
   ]
  },
  {
   "cell_type": "code",
   "execution_count": null,
   "id": "7df4d454-f726-46c4-8a65-d4fd4f7a33a1",
   "metadata": {
    "tags": []
   },
   "outputs": [],
   "source": [
    "TOPMRI = pd.concat([TOP,MRI])\n",
    "TOPMRI"
   ]
  },
  {
   "cell_type": "code",
   "execution_count": null,
   "id": "af393b5a-0922-42ac-b1df-8e46ec01c630",
   "metadata": {
    "tags": []
   },
   "outputs": [],
   "source": [
    "def prep3way_for_neurocombat(dataframe1, dataframe2, dataframe3):\n",
    "    \"\"\"\n",
    "    \"\"\"\n",
    "    one_selection = dataframe1.drop(['Unnamed: 0'],axis=1)\n",
    "    two_selection = dataframe2.drop(['Unnamed: 0'],axis=1)\n",
    "    thr_selection = dataframe3.drop(['Unnamed: 0'],axis=1)\n",
    "    \n",
    "    one_selection = one_selection.set_index('participant_id')\n",
    "    two_selection = two_selection.set_index('participant_id')\n",
    "    thr_selection = thr_selection.set_index('participant_id')\n",
    "    \n",
    "    one_selection = one_selection.T\n",
    "    two_selection = two_selection.T\n",
    "    thr_selection = thr_selection.T\n",
    "    \n",
    "    all_togetherF = pd.concat([one_selection, two_selection, thr_selection], axis=1, join=\"inner\")\n",
    "    print(\"Nan count\",all_togetherF.isna().sum().sum())\n",
    "    features_only = all_togetherF[2:]\n",
    "    dictionary_features_len = len(features_only.T.columns)\n",
    "    number = 0\n",
    "    made_keys = [] \n",
    "    made_vals = [] \n",
    "    for n in features_only.T.columns:\n",
    "\n",
    "        made_keys.append(number)\n",
    "        made_vals.append(n)\n",
    "        number +=1\n",
    "    feature_dictF = dict(map(lambda i,j : (i,j) , made_keys,made_vals))\n",
    "    ftF = features_only.reset_index()\n",
    "    ftF = ftF.rename(columns={\"index\": \"A\"})\n",
    "    ftF = ftF.drop(['A'], axis=1)\n",
    "    ftF = ftF.dropna()\n",
    "    btF = all_togetherF.reset_index()\n",
    "    btF = btF.rename(columns={\"index\": \"A\"})\n",
    "    btF = btF.drop(['A'], axis=1)\n",
    "    btF = btF.dropna()\n",
    "    len1 = len(one_selection.columns)\n",
    "    len2 = len(two_selection.columns)\n",
    "    len3 = len(thr_selection.columns)\n",
    "    return all_togetherF, ftF, btF, feature_dictF, len1, len2, len3\n",
    "    "
   ]
  },
  {
   "cell_type": "code",
   "execution_count": null,
   "id": "fa1cdca4-10dd-464c-8623-6fa2599f3318",
   "metadata": {
    "tags": []
   },
   "outputs": [],
   "source": [
    "all_togetherF, ftF, btF, feature_dictF, len1, len2, len3 = prep3way_for_neurocombat(TOP, MRI, SABRE)"
   ]
  },
  {
   "cell_type": "code",
   "execution_count": null,
   "id": "73a3434c-71e8-4769-b43f-e479aba2dbc6",
   "metadata": {
    "tags": []
   },
   "outputs": [],
   "source": [
    "ftF.to_csv('ftF_top_mri_sabre.csv')"
   ]
  },
  {
   "cell_type": "code",
   "execution_count": null,
   "id": "0e41bdc8-a80f-4158-8ba6-8acd4cce68cc",
   "metadata": {
    "tags": []
   },
   "outputs": [],
   "source": [
    "data = np.genfromtxt('ftF_top_mri_sabre.csv', delimiter=\",\", skip_header=1)\n",
    "data = data[:, 1:]\n",
    "data"
   ]
  },
  {
   "cell_type": "code",
   "execution_count": null,
   "id": "1e819b96-99ba-4b49-81fc-395c805b9e80",
   "metadata": {
    "tags": []
   },
   "outputs": [],
   "source": [
    "# Specifying the batch (scanner variable) as well as a sex covariate to preserve:\n",
    "first_columns_as_one = [1] * len1\n",
    "middle_columns_as_two = [2] * len2\n",
    "last_columns_as_three = [3] * len3\n",
    "covars = {'batch':first_columns_as_one + middle_columns_as_two + last_columns_as_three,\n",
    "          'sex':all_togetherF.loc['sex',:].values.tolist(),\n",
    "           'age':all_togetherF.loc['age',:].values.tolist(),} \n",
    "covars = pd.DataFrame(covars) "
   ]
  },
  {
   "cell_type": "code",
   "execution_count": null,
   "id": "8b0cc970-3668-49fe-8596-c8664fc9e372",
   "metadata": {
    "tags": []
   },
   "outputs": [],
   "source": [
    "# specifify sex as categorical\n",
    "categorical_cols = ['sex']\n",
    "# To specify the name of the variable that encodes for the scanner/batch covariate:\n",
    "batch_col_mine = 'batch'\n",
    "our_continuous_col=['age']\n",
    "#Harmonization step:\n",
    "data_combat = neuroCombat(dat=data,\n",
    "    covars=covars,\n",
    "    batch_col=batch_col_mine,\n",
    "    continuous_cols=our_continuous_col,\n",
    "    categorical_cols=categorical_cols)[\"data\"]\n"
   ]
  },
  {
   "cell_type": "code",
   "execution_count": null,
   "id": "f5694299-36da-4fb4-90fb-504d60b19fca",
   "metadata": {
    "tags": []
   },
   "outputs": [],
   "source": [
    "neurocombat = pd.DataFrame(data_combat)\n",
    "#neurocombat"
   ]
  },
  {
   "cell_type": "code",
   "execution_count": null,
   "id": "0cd10dc3-b5f8-416a-bd8b-73da6181d44e",
   "metadata": {
    "tags": []
   },
   "outputs": [],
   "source": [
    "def make_topper(btF, row0,row1):\n",
    "    \"\"\"\n",
    "    This function makes top rows for something harmonized\n",
    "    out of the btF part produced with prep_for_neurocombat(dataframename1, dataframename2)\n",
    "    \"\"\"\n",
    "    topperF = btF.head(2)\n",
    "    topperF = topperF.rename_axis(None, axis=\"columns\")\n",
    "    topperF = topperF.reset_index(drop=False)\n",
    "    topperF = topperF.rename(columns={\"index\": \"char\"})\n",
    "    topperF['char'][0] = row0 # 'age'\n",
    "    topperF['char'][1] = row1 # 'sex'\n",
    "    return topperF"
   ]
  },
  {
   "cell_type": "code",
   "execution_count": null,
   "id": "f3be6105-bec6-4d9b-ae1a-9efad1259e81",
   "metadata": {
    "tags": []
   },
   "outputs": [],
   "source": [
    "topperF = make_topper(btF,'age', 'sex')"
   ]
  },
  {
   "cell_type": "code",
   "execution_count": null,
   "id": "3469521b-237a-492e-89cb-2b2bb319e776",
   "metadata": {
    "tags": []
   },
   "outputs": [],
   "source": [
    "bottom = neurocombat.reset_index(drop=False)\n",
    "bottom = bottom.rename(columns={\"index\": \"char\"})\n",
    "bottom.columns = topperF.columns"
   ]
  },
  {
   "cell_type": "code",
   "execution_count": null,
   "id": "d27d5978-7aba-4ad6-b13d-781ec5368f0c",
   "metadata": {
    "tags": []
   },
   "outputs": [],
   "source": [
    "back_together = pd.concat([topperF, bottom])\n",
    "back_together = back_together.T\n",
    "#back_together"
   ]
  },
  {
   "cell_type": "code",
   "execution_count": null,
   "id": "572b75dc-8923-4dcf-9638-1bd3ea74056d",
   "metadata": {
    "tags": []
   },
   "outputs": [],
   "source": [
    "new_header = back_together.iloc[0] #grab the first row for the header\n",
    "back_together.columns = new_header #set the header row as the df header\n",
    "back_together = back_together[1:]\n",
    "#back_together"
   ]
  },
  {
   "cell_type": "code",
   "execution_count": null,
   "id": "0bde50d5-2405-49e3-8c79-62108b1a29d4",
   "metadata": {
    "tags": []
   },
   "outputs": [],
   "source": [
    "neuro_harm_top =back_together.head(len1)\n",
    "neuro_harm_mri =back_together.head(len1 + len2).tail(len2)\n",
    "neuro_harm_sabre =back_together.tail(len3)"
   ]
  },
  {
   "cell_type": "code",
   "execution_count": null,
   "id": "f6b412c2-f05c-4cf4-88d2-d8d7d6fe12e1",
   "metadata": {
    "tags": []
   },
   "outputs": [],
   "source": [
    "neuro_harm_top = neuro_harm_top.rename(feature_dictF, axis='columns')\n",
    "neuro_harm_mri = neuro_harm_mri.rename(feature_dictF, axis='columns')\n",
    "neuro_harm_sabre = neuro_harm_sabre.rename(feature_dictF, axis='columns')"
   ]
  },
  {
   "cell_type": "code",
   "execution_count": null,
   "id": "a10d137b-d38d-444d-bbb3-0ab3c1e2a322",
   "metadata": {
    "tags": []
   },
   "outputs": [],
   "source": [
    "neuro_harm_top = neuro_harm_top.reset_index()\n",
    "neuro_harm_mri = neuro_harm_mri.reset_index()\n",
    "neuro_harm_sabre = neuro_harm_sabre.reset_index()\n",
    "\n",
    "neuro_harm_top = neuro_harm_top.rename(columns={'index':'participant_id'})\n",
    "neuro_harm_mri = neuro_harm_mri.rename(columns={'index':'participant_id'})\n",
    "neuro_harm_sabre = neuro_harm_sabre.rename(columns={'index':'participant_id'})\n",
    "\n",
    "neuro_harm_mri"
   ]
  },
  {
   "cell_type": "code",
   "execution_count": null,
   "id": "bee248c7-a943-48c0-9c55-347352b11ab6",
   "metadata": {},
   "outputs": [],
   "source": [
    "# save off newly harmonized sets"
   ]
  },
  {
   "cell_type": "code",
   "execution_count": null,
   "id": "4bd65c4a-099d-4345-bf39-8c29a2944ee5",
   "metadata": {
    "tags": []
   },
   "outputs": [],
   "source": [
    "neuro_harm_mri.to_csv('neuro_harm3way_mri.csv')\n",
    "neuro_harm_top.to_csv('neuro_harm3way_top.csv')\n",
    "neuro_harm_sabre.to_csv('neuro_harm3way_sabre.csv')"
   ]
  },
  {
   "cell_type": "code",
   "execution_count": null,
   "id": "2e4a69e7-9fb0-4657-a6d7-6e01755630ad",
   "metadata": {
    "tags": []
   },
   "outputs": [],
   "source": [
    "# Now we can concatenate the datasets, to show the difference harmonization made\n",
    "neuro_harm_mri.head(3)"
   ]
  },
  {
   "cell_type": "code",
   "execution_count": null,
   "id": "bd9dc591-88c8-4d93-87b0-b2839e6cb69e",
   "metadata": {
    "tags": []
   },
   "outputs": [],
   "source": [
    "mri_selection = MRI.drop(['Unnamed: 0'],axis=1)\n",
    "top_selection = TOP.drop(['Unnamed: 0'],axis=1)\n",
    "sab_selection = SABRE.drop(['Unnamed: 0'],axis=1)\n",
    "    \n",
    "mri_selection = mri_selection.set_index('participant_id')\n",
    "top_selection = top_selection.set_index('participant_id')\n",
    "sab_selection = sab_selection.set_index('participant_id')"
   ]
  },
  {
   "cell_type": "code",
   "execution_count": null,
   "id": "73ba9b01-bf59-4474-beb3-8b649f2cde20",
   "metadata": {
    "tags": []
   },
   "outputs": [],
   "source": [
    "mri_selection.columns"
   ]
  },
  {
   "cell_type": "code",
   "execution_count": null,
   "id": "4728c2dd-5cde-495b-8184-d5f3c52fbbda",
   "metadata": {
    "tags": []
   },
   "outputs": [],
   "source": [
    "rename_dict = {\n",
    "    'age': 'age_unharm', # will be the key on merge\n",
    "    'sex':'sex_unharm',\n",
    "    'gm_vol' :'gm_vol_unharm',\n",
    "    'wm_vol' :'wm_vol_unharm',\n",
    "    'csf_vol':'csf_vol_unharm',\n",
    "    'gm_ivc_ratio': 'gm_ivc_ratio_unharm',\n",
    "    'gmwm_ivc_ratio': 'gmwm_ivc_ratio_unharm',\n",
    "    'wmh_vol' :'wmh_vol_unharm',\n",
    "    'wmh_count' : 'wmh_count_unharm',\n",
    "    'deepwm_b_cov':'deepwm_b_cov_unharm',\n",
    "    'aca_b_cov': 'aca_b_cov_unharm',\n",
    "    'mca_b_cov': 'mca_b_cov_unharm',\n",
    "    'pca_b_cov': 'pca_b_cov_unharm',\n",
    "    'totalgm_b_cov':'totalgm_b_cov_unharm',\n",
    "    'deepwm_b':'deepwm_b_unharm',\n",
    "    'aca_b':'aca_b_unharm',\n",
    "    'mca_b':'mca_b_unharm',\n",
    "    'pca_b':'pca_b_unharm',\n",
    "    'totalgm_b':'totalgm_b_unharm', \n",
    "\n",
    "}\n",
    "mri_selection = mri_selection.rename(columns = rename_dict)\n",
    "top_selection = top_selection.rename(columns = rename_dict)\n",
    "sab_selection = sab_selection.rename(columns = rename_dict)"
   ]
  },
  {
   "cell_type": "code",
   "execution_count": null,
   "id": "f2c494b2-8994-4ef3-902d-1c8b10e44b8a",
   "metadata": {
    "tags": []
   },
   "outputs": [],
   "source": [
    "mri_selection = mri_selection.reset_index()\n",
    "top_selection = top_selection.reset_index()\n",
    "sab_selection = sab_selection.reset_index()\n",
    "top_selection"
   ]
  },
  {
   "cell_type": "code",
   "execution_count": null,
   "id": "9d6e953a-78d0-498e-9587-e1003c9b2548",
   "metadata": {
    "tags": []
   },
   "outputs": [],
   "source": [
    "neuro_harm_mriR = neuro_harm_mri.reset_index()\n",
    "neuro_harm_topR = neuro_harm_top.reset_index()\n",
    "neuro_harm_sabreR = neuro_harm_sabre.reset_index()"
   ]
  },
  {
   "cell_type": "code",
   "execution_count": null,
   "id": "118bc131-da11-4301-8aad-d3fac6e06f44",
   "metadata": {
    "tags": []
   },
   "outputs": [],
   "source": [
    "#mri_selection\n",
    "neuro_harm_mriR = neuro_harm_mriR.rename(columns = {'index':'participant_id'})\n",
    "neuro_harm_topR = neuro_harm_topR.rename(columns = {'index':'participant_id'})\n",
    "neuro_harm_sabreR = neuro_harm_sabreR.rename(columns = {'index':'participant_id'})"
   ]
  },
  {
   "cell_type": "code",
   "execution_count": null,
   "id": "07bcc6ab-a5d2-4c50-8997-d2cfc39fbd88",
   "metadata": {
    "tags": []
   },
   "outputs": [],
   "source": [
    "mri_selection = mri_selection.merge(neuro_harm_mriR, how= 'inner',)\n",
    "top_selection = top_selection.merge(neuro_harm_topR,  how= 'inner',)\n",
    "sab_selection = sab_selection.merge(neuro_harm_sabreR, how= 'inner',)\n",
    "top_selection"
   ]
  },
  {
   "cell_type": "code",
   "execution_count": null,
   "id": "67375faa-6f32-40c8-88dd-7f60f542487f",
   "metadata": {
    "tags": []
   },
   "outputs": [],
   "source": [
    "sab_selection"
   ]
  },
  {
   "cell_type": "code",
   "execution_count": null,
   "id": "78a3fbf5-b8bb-406e-8e7c-8ec7b0bb2a0a",
   "metadata": {
    "tags": []
   },
   "outputs": [],
   "source": [
    "mri_selection.to_csv('neuro_harm3way_mri_before_after.csv')\n",
    "top_selection.to_csv('neuro_harm3way_top_before_after.csv')\n",
    "sab_selection.to_csv('neuro_harm3way_sabre_before_after.csv')"
   ]
  },
  {
   "cell_type": "code",
   "execution_count": null,
   "id": "1b18e30f-b7d3-48bb-8690-56662c96038f",
   "metadata": {},
   "outputs": [],
   "source": []
  }
 ],
 "metadata": {
  "kernelspec": {
   "display_name": "Python 3 (ipykernel)",
   "language": "python",
   "name": "python3"
  },
  "language_info": {
   "codemirror_mode": {
    "name": "ipython",
    "version": 3
   },
   "file_extension": ".py",
   "mimetype": "text/x-python",
   "name": "python",
   "nbconvert_exporter": "python",
   "pygments_lexer": "ipython3",
   "version": "3.9.18"
  }
 },
 "nbformat": 4,
 "nbformat_minor": 5
}
