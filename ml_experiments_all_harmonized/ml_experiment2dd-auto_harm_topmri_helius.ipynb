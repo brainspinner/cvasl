{
 "cells": [
  {
   "cell_type": "markdown",
   "id": "0",
   "metadata": {},
   "source": [
    "# ML testing: experiment #2dc- harmonized with auto combat (TOPMRI on HELIUS)\n",
    "\n",
    "This notebook involves testing of the autoombat algorithm and ML for age prediction. This notebook shows harmonized StrokeMRI+TOP based models, and how they perform on HELIUSUS.  The autocombat algorithm requires that samples are not unique even in continous variables. Therefore before harmonization, a variable for age group was created, and then removed after harmonization. Age group can currently be split by tens or by twos, a more fine grained split. A widget allows the choice. \n"
   ]
  },
  {
   "cell_type": "markdown",
   "id": "1",
   "metadata": {},
   "source": [
    "Data: StrokeMRI, TOP, HELIUS\n",
    "\n",
    "Harmonisation: Auto-combat\n",
    "\n",
    "Training data: StrokeMRI and TOP together\n",
    "\n",
    "Testing data: StrokeMRI and TOP together, test subsets\n",
    "\n",
    "Futher data applied to: HELIUS\n",
    "\n",
    "Validation method: K-fold double-stratified\n",
    "\n",
    "Brain-age algorithms: LR, lasso, extra trees, elasticCV net fully tested (but not optimized parameters), additionals partly\n",
    "\n",
    "Outputs: ? what do we want to have here?"
   ]
  },
  {
   "cell_type": "markdown",
   "id": "2",
   "metadata": {
    "tags": []
   },
   "source": [
    "### import libraries"
   ]
  },
  {
   "cell_type": "code",
   "execution_count": 1,
   "id": "3",
   "metadata": {
    "tags": []
   },
   "outputs": [],
   "source": [
    "import os       # using operating system dependent functionality (folders)\n",
    "import sys\n",
    "import glob\n",
    "from functools import reduce\n",
    "\n",
    "import pandas as pd # data analysis and manipulation\n",
    "import numpy as np    # numerical computing (manipulating and performing operations on arrays of data)\n",
    "import matplotlib.pyplot as plt\n",
    "\n",
    "# # demo stuff\n",
    "import ipywidgets as widgets\n",
    "# import seaborn \n",
    "\n",
    "# ml stuff\n",
    "from sklearn.model_selection import train_test_split\n",
    "from sklearn.preprocessing import StandardScaler\n",
    "from sklearn.svm import SVC\n",
    "from sklearn.metrics import accuracy_score\n",
    "from sklearn.linear_model import LogisticRegression\n",
    "from sklearn.linear_model import LinearRegression\n",
    "from sklearn import linear_model\n",
    "from sklearn import tree\n",
    "from sklearn import metrics\n",
    "from sklearn.linear_model import SGDRegressor\n",
    "from sklearn.metrics import confusion_matrix\n",
    "from sklearn.metrics import mean_absolute_error\n",
    "#from sklearn.neighbors import KNeighborsClassifier\n",
    "from sklearn.neural_network import MLPRegressor\n",
    "from sklearn.svm import SVR\n",
    "from sklearn.linear_model import ElasticNetCV\n",
    "from sklearn.ensemble import ExtraTreesRegressor\n",
    "\n",
    "import joblib\n",
    "\n",
    "sys.path.insert(0, '../') # path to functions\n",
    "import cvasl.seperated as sep\n",
    "from cvasl.file_handler import Config"
   ]
  },
  {
   "cell_type": "markdown",
   "id": "4",
   "metadata": {
    "tags": []
   },
   "source": [
    "### import data"
   ]
  },
  {
   "cell_type": "code",
   "execution_count": null,
   "id": "5",
   "metadata": {},
   "outputs": [],
   "source": []
  },
  {
   "cell_type": "code",
   "execution_count": 2,
   "id": "6",
   "metadata": {
    "tags": []
   },
   "outputs": [
    {
     "data": {
      "application/vnd.jupyter.widget-view+json": {
       "model_id": "45619484ee344cd183058f2877327d3b",
       "version_major": 2,
       "version_minor": 0
      },
      "text/plain": [
       "Dropdown(description='split on age', options=('split_into_tens', 'split_into_twos'), value='split_into_tens')"
      ]
     },
     "execution_count": 2,
     "metadata": {},
     "output_type": "execute_result"
    }
   ],
   "source": [
    "# pick how you want the data split by age for autocombat \n",
    "possibilities = ['split_into_tens','split_into_twos']\n",
    "\n",
    "split = widgets.Dropdown(options= possibilities,\n",
    "                    value='split_into_tens',\n",
    "                    description='split on age',\n",
    "                    disabled=False)\n",
    "split"
   ]
  },
  {
   "cell_type": "code",
   "execution_count": 3,
   "id": "7",
   "metadata": {
    "tags": []
   },
   "outputs": [],
   "source": [
    "filepath = 'harmonizations/harm_results/autocombat/'  \n",
    "\n",
    "if split.value == 'split_into_tens':\n",
    "    filename_topmri = os.path.join(filepath, 'autocom_harm_topmri_v_h.csv')\n",
    "    filename_helius = os.path.join(filepath,'autocom_harm_HELIUS.csv') \n",
    "else: \n",
    "    filename_topmri = os.path.join(filepath, 'fg_autocom_harm_topmri_v_h.csv')\n",
    "    filename_helius = os.path.join(filepath,'fg_autocom_harm_HELIUS1.csv') "
   ]
  },
  {
   "cell_type": "code",
   "execution_count": 4,
   "id": "8",
   "metadata": {
    "tags": []
   },
   "outputs": [],
   "source": [
    "TOPMRI = pd.read_csv(filename_topmri)\n",
    "HELIUS= pd.read_csv(filename_helius)"
   ]
  },
  {
   "cell_type": "code",
   "execution_count": 5,
   "id": "9",
   "metadata": {
    "tags": []
   },
   "outputs": [
    {
     "data": {
      "text/html": [
       "<div>\n",
       "<style scoped>\n",
       "    .dataframe tbody tr th:only-of-type {\n",
       "        vertical-align: middle;\n",
       "    }\n",
       "\n",
       "    .dataframe tbody tr th {\n",
       "        vertical-align: top;\n",
       "    }\n",
       "\n",
       "    .dataframe thead th {\n",
       "        text-align: right;\n",
       "    }\n",
       "</style>\n",
       "<table border=\"1\" class=\"dataframe\">\n",
       "  <thead>\n",
       "    <tr style=\"text-align: right;\">\n",
       "      <th></th>\n",
       "      <th>participant_id</th>\n",
       "      <th>age</th>\n",
       "      <th>sex</th>\n",
       "      <th>gm_vol</th>\n",
       "      <th>wm_vol</th>\n",
       "      <th>csf_vol</th>\n",
       "      <th>gm_icvratio</th>\n",
       "      <th>gmwm_icvratio</th>\n",
       "      <th>wmhvol_wmvol</th>\n",
       "      <th>wmh_count</th>\n",
       "      <th>aca_b_cov</th>\n",
       "      <th>mca_b_cov</th>\n",
       "      <th>pca_b_cov</th>\n",
       "      <th>totalgm_b_cov</th>\n",
       "      <th>aca_b_cbf</th>\n",
       "      <th>mca_b_cbf</th>\n",
       "      <th>pca_b_cbf</th>\n",
       "      <th>totalgm_b_cbf</th>\n",
       "    </tr>\n",
       "  </thead>\n",
       "  <tbody>\n",
       "    <tr>\n",
       "      <th>0</th>\n",
       "      <td>sub-207605_1</td>\n",
       "      <td>39.0</td>\n",
       "      <td>1</td>\n",
       "      <td>0.699977</td>\n",
       "      <td>0.552782</td>\n",
       "      <td>0.285122</td>\n",
       "      <td>0.455446</td>\n",
       "      <td>0.817184</td>\n",
       "      <td>0.011864</td>\n",
       "      <td>3.061378</td>\n",
       "      <td>-1.216813</td>\n",
       "      <td>-1.157043</td>\n",
       "      <td>-1.071701</td>\n",
       "      <td>-1.054588</td>\n",
       "      <td>80.436367</td>\n",
       "      <td>74.837550</td>\n",
       "      <td>57.247185</td>\n",
       "      <td>63.822860</td>\n",
       "    </tr>\n",
       "    <tr>\n",
       "      <th>1</th>\n",
       "      <td>sub-142310_1</td>\n",
       "      <td>41.0</td>\n",
       "      <td>0</td>\n",
       "      <td>0.631171</td>\n",
       "      <td>0.499824</td>\n",
       "      <td>0.339141</td>\n",
       "      <td>0.425034</td>\n",
       "      <td>0.768820</td>\n",
       "      <td>0.009510</td>\n",
       "      <td>3.011773</td>\n",
       "      <td>-1.473246</td>\n",
       "      <td>-1.372576</td>\n",
       "      <td>-1.517795</td>\n",
       "      <td>-1.378591</td>\n",
       "      <td>91.149244</td>\n",
       "      <td>81.495367</td>\n",
       "      <td>66.907085</td>\n",
       "      <td>73.555564</td>\n",
       "    </tr>\n",
       "    <tr>\n",
       "      <th>2</th>\n",
       "      <td>sub-163538_1</td>\n",
       "      <td>41.0</td>\n",
       "      <td>0</td>\n",
       "      <td>0.686535</td>\n",
       "      <td>0.612683</td>\n",
       "      <td>0.365870</td>\n",
       "      <td>0.408590</td>\n",
       "      <td>0.780585</td>\n",
       "      <td>0.012602</td>\n",
       "      <td>3.801654</td>\n",
       "      <td>-1.502907</td>\n",
       "      <td>-1.338490</td>\n",
       "      <td>-1.315878</td>\n",
       "      <td>-1.267576</td>\n",
       "      <td>94.764790</td>\n",
       "      <td>83.659810</td>\n",
       "      <td>63.951053</td>\n",
       "      <td>73.359603</td>\n",
       "    </tr>\n",
       "  </tbody>\n",
       "</table>\n",
       "</div>"
      ],
      "text/plain": [
       "  participant_id   age  sex    gm_vol    wm_vol   csf_vol  gm_icvratio  \\\n",
       "0   sub-207605_1  39.0    1  0.699977  0.552782  0.285122     0.455446   \n",
       "1   sub-142310_1  41.0    0  0.631171  0.499824  0.339141     0.425034   \n",
       "2   sub-163538_1  41.0    0  0.686535  0.612683  0.365870     0.408590   \n",
       "\n",
       "   gmwm_icvratio  wmhvol_wmvol  wmh_count  aca_b_cov  mca_b_cov  pca_b_cov  \\\n",
       "0       0.817184      0.011864   3.061378  -1.216813  -1.157043  -1.071701   \n",
       "1       0.768820      0.009510   3.011773  -1.473246  -1.372576  -1.517795   \n",
       "2       0.780585      0.012602   3.801654  -1.502907  -1.338490  -1.315878   \n",
       "\n",
       "   totalgm_b_cov  aca_b_cbf  mca_b_cbf  pca_b_cbf  totalgm_b_cbf  \n",
       "0      -1.054588  80.436367  74.837550  57.247185      63.822860  \n",
       "1      -1.378591  91.149244  81.495367  66.907085      73.555564  \n",
       "2      -1.267576  94.764790  83.659810  63.951053      73.359603  "
      ]
     },
     "execution_count": 5,
     "metadata": {},
     "output_type": "execute_result"
    }
   ],
   "source": [
    "TOPMRI = TOPMRI.drop(TOPMRI.columns[0],axis=1)\n",
    "HELIUS = HELIUS.drop(HELIUS.columns[0],axis=1)\n",
    "HELIUS.head(3)"
   ]
  },
  {
   "cell_type": "code",
   "execution_count": 6,
   "id": "10",
   "metadata": {
    "tags": []
   },
   "outputs": [
    {
     "data": {
      "text/html": [
       "<div>\n",
       "<style scoped>\n",
       "    .dataframe tbody tr th:only-of-type {\n",
       "        vertical-align: middle;\n",
       "    }\n",
       "\n",
       "    .dataframe tbody tr th {\n",
       "        vertical-align: top;\n",
       "    }\n",
       "\n",
       "    .dataframe thead th {\n",
       "        text-align: right;\n",
       "    }\n",
       "</style>\n",
       "<table border=\"1\" class=\"dataframe\">\n",
       "  <thead>\n",
       "    <tr style=\"text-align: right;\">\n",
       "      <th></th>\n",
       "      <th>participant_id</th>\n",
       "      <th>age</th>\n",
       "      <th>sex</th>\n",
       "      <th>gm_vol</th>\n",
       "      <th>wm_vol</th>\n",
       "      <th>csf_vol</th>\n",
       "      <th>gm_icvratio</th>\n",
       "      <th>gmwm_icvratio</th>\n",
       "      <th>wmhvol_wmvol</th>\n",
       "      <th>wmh_count</th>\n",
       "      <th>aca_b_cov</th>\n",
       "      <th>mca_b_cov</th>\n",
       "      <th>pca_b_cov</th>\n",
       "      <th>totalgm_b_cov</th>\n",
       "      <th>aca_b_cbf</th>\n",
       "      <th>mca_b_cbf</th>\n",
       "      <th>pca_b_cbf</th>\n",
       "      <th>totalgm_b_cbf</th>\n",
       "    </tr>\n",
       "  </thead>\n",
       "  <tbody>\n",
       "    <tr>\n",
       "      <th>0</th>\n",
       "      <td>sub-0386_1</td>\n",
       "      <td>17.72</td>\n",
       "      <td>0</td>\n",
       "      <td>0.721490</td>\n",
       "      <td>0.508297</td>\n",
       "      <td>0.261765</td>\n",
       "      <td>0.481656</td>\n",
       "      <td>0.822599</td>\n",
       "      <td>-0.000853</td>\n",
       "      <td>3.058211</td>\n",
       "      <td>-1.609578</td>\n",
       "      <td>-1.378041</td>\n",
       "      <td>-1.289478</td>\n",
       "      <td>-1.315064</td>\n",
       "      <td>91.800203</td>\n",
       "      <td>88.406787</td>\n",
       "      <td>67.132154</td>\n",
       "      <td>76.671131</td>\n",
       "    </tr>\n",
       "    <tr>\n",
       "      <th>1</th>\n",
       "      <td>sub-0337_1</td>\n",
       "      <td>18.15</td>\n",
       "      <td>1</td>\n",
       "      <td>0.684754</td>\n",
       "      <td>0.428084</td>\n",
       "      <td>0.171019</td>\n",
       "      <td>0.527823</td>\n",
       "      <td>0.862277</td>\n",
       "      <td>-0.000692</td>\n",
       "      <td>3.010848</td>\n",
       "      <td>-1.478056</td>\n",
       "      <td>-1.381734</td>\n",
       "      <td>-1.450733</td>\n",
       "      <td>-1.351722</td>\n",
       "      <td>96.342320</td>\n",
       "      <td>89.814694</td>\n",
       "      <td>67.101798</td>\n",
       "      <td>81.364618</td>\n",
       "    </tr>\n",
       "    <tr>\n",
       "      <th>2</th>\n",
       "      <td>sub-0239_1</td>\n",
       "      <td>18.40</td>\n",
       "      <td>0</td>\n",
       "      <td>0.672020</td>\n",
       "      <td>0.452412</td>\n",
       "      <td>0.230010</td>\n",
       "      <td>0.493561</td>\n",
       "      <td>0.827667</td>\n",
       "      <td>0.036596</td>\n",
       "      <td>5.157816</td>\n",
       "      <td>-1.461353</td>\n",
       "      <td>-1.257479</td>\n",
       "      <td>-1.558360</td>\n",
       "      <td>-1.245212</td>\n",
       "      <td>109.543958</td>\n",
       "      <td>105.324892</td>\n",
       "      <td>74.527566</td>\n",
       "      <td>90.329177</td>\n",
       "    </tr>\n",
       "  </tbody>\n",
       "</table>\n",
       "</div>"
      ],
      "text/plain": [
       "  participant_id    age  sex    gm_vol    wm_vol   csf_vol  gm_icvratio  \\\n",
       "0     sub-0386_1  17.72    0  0.721490  0.508297  0.261765     0.481656   \n",
       "1     sub-0337_1  18.15    1  0.684754  0.428084  0.171019     0.527823   \n",
       "2     sub-0239_1  18.40    0  0.672020  0.452412  0.230010     0.493561   \n",
       "\n",
       "   gmwm_icvratio  wmhvol_wmvol  wmh_count  aca_b_cov  mca_b_cov  pca_b_cov  \\\n",
       "0       0.822599     -0.000853   3.058211  -1.609578  -1.378041  -1.289478   \n",
       "1       0.862277     -0.000692   3.010848  -1.478056  -1.381734  -1.450733   \n",
       "2       0.827667      0.036596   5.157816  -1.461353  -1.257479  -1.558360   \n",
       "\n",
       "   totalgm_b_cov   aca_b_cbf   mca_b_cbf  pca_b_cbf  totalgm_b_cbf  \n",
       "0      -1.315064   91.800203   88.406787  67.132154      76.671131  \n",
       "1      -1.351722   96.342320   89.814694  67.101798      81.364618  \n",
       "2      -1.245212  109.543958  105.324892  74.527566      90.329177  "
      ]
     },
     "execution_count": 6,
     "metadata": {},
     "output_type": "execute_result"
    }
   ],
   "source": [
    "TOPMRI.head(3)"
   ]
  },
  {
   "cell_type": "code",
   "execution_count": 7,
   "id": "52ff298d-83c3-45d2-80ff-3be8a044485a",
   "metadata": {
    "tags": []
   },
   "outputs": [],
   "source": [
    "output_folder = '2dd_loged_outputs'\n",
    "os.makedirs(output_folder, exist_ok=True)"
   ]
  },
  {
   "cell_type": "markdown",
   "id": "11",
   "metadata": {},
   "source": [
    "## Build ML models based on auto combat StrokeMRI-TOP mixed set (TOPMRI)"
   ]
  },
  {
   "cell_type": "code",
   "execution_count": 8,
   "id": "12",
   "metadata": {
    "tags": []
   },
   "outputs": [],
   "source": [
    "ml_matrix = TOPMRI.drop('participant_id', axis=1)\n",
    "X = ml_matrix.drop('age', axis =1)\n",
    "X = X.values\n",
    "X = X.astype('float')\n",
    "y = ml_matrix['age'].values\n",
    "y=y.astype('float')"
   ]
  },
  {
   "cell_type": "code",
   "execution_count": 9,
   "id": "13",
   "metadata": {
    "tags": []
   },
   "outputs": [
    {
     "name": "stderr",
     "output_type": "stream",
     "text": [
      "C:\\Projects\\cvasl\\ml_experiments_all_harmonized\\..\\cvasl\\seperated.py:1097: FutureWarning: The behavior of DataFrame concatenation with empty or all-NA entries is deprecated. In a future version, this will no longer exclude empty or all-NA columns when determining the result dtypes. To retain the old behavior, exclude the relevant entries before the concat operation.\n",
      "  mod_results = pd.concat([mod_results, mod_results_current_fold])\n",
      "C:\\Projects\\cvasl\\ml_experiments_all_harmonized\\..\\cvasl\\seperated.py:1097: FutureWarning: The behavior of DataFrame concatenation with empty or all-NA entries is deprecated. In a future version, this will no longer exclude empty or all-NA columns when determining the result dtypes. To retain the old behavior, exclude the relevant entries before the concat operation.\n",
      "  mod_results = pd.concat([mod_results, mod_results_current_fold])\n",
      "C:\\Projects\\cvasl\\ml_experiments_all_harmonized\\..\\cvasl\\seperated.py:1097: FutureWarning: The behavior of DataFrame concatenation with empty or all-NA entries is deprecated. In a future version, this will no longer exclude empty or all-NA columns when determining the result dtypes. To retain the old behavior, exclude the relevant entries before the concat operation.\n",
      "  mod_results = pd.concat([mod_results, mod_results_current_fold])\n",
      "C:\\Projects\\cvasl\\ml_experiments_all_harmonized\\..\\cvasl\\seperated.py:1097: FutureWarning: The behavior of DataFrame concatenation with empty or all-NA entries is deprecated. In a future version, this will no longer exclude empty or all-NA columns when determining the result dtypes. To retain the old behavior, exclude the relevant entries before the concat operation.\n",
      "  mod_results = pd.concat([mod_results, mod_results_current_fold])\n",
      "C:\\Projects\\cvasl\\ml_experiments_all_harmonized\\..\\cvasl\\seperated.py:1097: FutureWarning: The behavior of DataFrame concatenation with empty or all-NA entries is deprecated. In a future version, this will no longer exclude empty or all-NA columns when determining the result dtypes. To retain the old behavior, exclude the relevant entries before the concat operation.\n",
      "  mod_results = pd.concat([mod_results, mod_results_current_fold])\n"
     ]
    }
   ],
   "source": [
    "linr_k_frame, linr_y_frame, models = sep.stratified_cat_and_cont_categories_shuffle_split('linear regression', 'auto_harm_topmri_linr', LinearRegression(), ml_matrix, X, y)"
   ]
  },
  {
   "cell_type": "code",
   "execution_count": 10,
   "id": "14",
   "metadata": {
    "tags": []
   },
   "outputs": [
    {
     "data": {
      "text/html": [
       "<div>\n",
       "<style scoped>\n",
       "    .dataframe tbody tr th:only-of-type {\n",
       "        vertical-align: middle;\n",
       "    }\n",
       "\n",
       "    .dataframe tbody tr th {\n",
       "        vertical-align: top;\n",
       "    }\n",
       "\n",
       "    .dataframe thead th {\n",
       "        text-align: right;\n",
       "    }\n",
       "</style>\n",
       "<table border=\"1\" class=\"dataframe\">\n",
       "  <thead>\n",
       "    <tr style=\"text-align: right;\">\n",
       "      <th></th>\n",
       "      <th>algorithm</th>\n",
       "      <th>fold</th>\n",
       "      <th>file_name</th>\n",
       "      <th>mae</th>\n",
       "      <th>r2</th>\n",
       "      <th>explained_variance</th>\n",
       "    </tr>\n",
       "  </thead>\n",
       "  <tbody>\n",
       "    <tr>\n",
       "      <th>0</th>\n",
       "      <td>linear regression-0</td>\n",
       "      <td>0</td>\n",
       "      <td>auto_harm_topmri_linr.0</td>\n",
       "      <td>6.019386</td>\n",
       "      <td>0.735471</td>\n",
       "      <td>0.736588</td>\n",
       "    </tr>\n",
       "    <tr>\n",
       "      <th>0</th>\n",
       "      <td>linear regression-1</td>\n",
       "      <td>1</td>\n",
       "      <td>auto_harm_topmri_linr.1</td>\n",
       "      <td>6.417635</td>\n",
       "      <td>0.763341</td>\n",
       "      <td>0.764641</td>\n",
       "    </tr>\n",
       "    <tr>\n",
       "      <th>0</th>\n",
       "      <td>linear regression-2</td>\n",
       "      <td>2</td>\n",
       "      <td>auto_harm_topmri_linr.2</td>\n",
       "      <td>5.992828</td>\n",
       "      <td>0.784781</td>\n",
       "      <td>0.785247</td>\n",
       "    </tr>\n",
       "    <tr>\n",
       "      <th>0</th>\n",
       "      <td>linear regression-3</td>\n",
       "      <td>3</td>\n",
       "      <td>auto_harm_topmri_linr.3</td>\n",
       "      <td>5.739361</td>\n",
       "      <td>0.835429</td>\n",
       "      <td>0.835833</td>\n",
       "    </tr>\n",
       "    <tr>\n",
       "      <th>0</th>\n",
       "      <td>linear regression-4</td>\n",
       "      <td>4</td>\n",
       "      <td>auto_harm_topmri_linr.4</td>\n",
       "      <td>5.906160</td>\n",
       "      <td>0.802398</td>\n",
       "      <td>0.802415</td>\n",
       "    </tr>\n",
       "  </tbody>\n",
       "</table>\n",
       "</div>"
      ],
      "text/plain": [
       "             algorithm fold                file_name       mae        r2  \\\n",
       "0  linear regression-0    0  auto_harm_topmri_linr.0  6.019386  0.735471   \n",
       "0  linear regression-1    1  auto_harm_topmri_linr.1  6.417635  0.763341   \n",
       "0  linear regression-2    2  auto_harm_topmri_linr.2  5.992828  0.784781   \n",
       "0  linear regression-3    3  auto_harm_topmri_linr.3  5.739361  0.835429   \n",
       "0  linear regression-4    4  auto_harm_topmri_linr.4  5.906160  0.802398   \n",
       "\n",
       "   explained_variance  \n",
       "0            0.736588  \n",
       "0            0.764641  \n",
       "0            0.785247  \n",
       "0            0.835833  \n",
       "0            0.802415  "
      ]
     },
     "execution_count": 10,
     "metadata": {},
     "output_type": "execute_result"
    }
   ],
   "source": [
    "linr_k_frame"
   ]
  },
  {
   "cell_type": "code",
   "execution_count": 11,
   "id": "15",
   "metadata": {
    "tags": []
   },
   "outputs": [],
   "source": [
    "linr_k_frame.to_csv(output_folder + '/auto_harmonized_topmri_linr_k_frame.csv')"
   ]
  },
  {
   "cell_type": "code",
   "execution_count": 12,
   "id": "16",
   "metadata": {
    "tags": []
   },
   "outputs": [
    {
     "data": {
      "text/html": [
       "<div>\n",
       "<style scoped>\n",
       "    .dataframe tbody tr th:only-of-type {\n",
       "        vertical-align: middle;\n",
       "    }\n",
       "\n",
       "    .dataframe tbody tr th {\n",
       "        vertical-align: top;\n",
       "    }\n",
       "\n",
       "    .dataframe thead th {\n",
       "        text-align: right;\n",
       "    }\n",
       "</style>\n",
       "<table border=\"1\" class=\"dataframe\">\n",
       "  <thead>\n",
       "    <tr style=\"text-align: right;\">\n",
       "      <th></th>\n",
       "      <th>algorithm</th>\n",
       "      <th>file_name</th>\n",
       "      <th>mae</th>\n",
       "      <th>r2</th>\n",
       "      <th>explained_variance</th>\n",
       "    </tr>\n",
       "  </thead>\n",
       "  <tbody>\n",
       "    <tr>\n",
       "      <th>0</th>\n",
       "      <td>0    linear regression-0\n",
       "0    linear regressio...</td>\n",
       "      <td>0    auto_harm_topmri_linr.0\n",
       "0    auto_harm_to...</td>\n",
       "      <td>6.015074</td>\n",
       "      <td>0.784284</td>\n",
       "      <td>0.784945</td>\n",
       "    </tr>\n",
       "  </tbody>\n",
       "</table>\n",
       "</div>"
      ],
      "text/plain": [
       "                                           algorithm  \\\n",
       "0  0    linear regression-0\n",
       "0    linear regressio...   \n",
       "\n",
       "                                           file_name       mae        r2  \\\n",
       "0  0    auto_harm_topmri_linr.0\n",
       "0    auto_harm_to...  6.015074  0.784284   \n",
       "\n",
       "   explained_variance  \n",
       "0            0.784945  "
      ]
     },
     "execution_count": 12,
     "metadata": {},
     "output_type": "execute_result"
    }
   ],
   "source": [
    "avg_linr = sep.avg_k_folds(linr_k_frame)\n",
    "avg_linr"
   ]
  },
  {
   "cell_type": "code",
   "execution_count": 13,
   "id": "17",
   "metadata": {
    "tags": []
   },
   "outputs": [
    {
     "data": {
      "text/html": [
       "<div>\n",
       "<style scoped>\n",
       "    .dataframe tbody tr th:only-of-type {\n",
       "        vertical-align: middle;\n",
       "    }\n",
       "\n",
       "    .dataframe tbody tr th {\n",
       "        vertical-align: top;\n",
       "    }\n",
       "\n",
       "    .dataframe thead th {\n",
       "        text-align: right;\n",
       "    }\n",
       "</style>\n",
       "<table border=\"1\" class=\"dataframe\">\n",
       "  <thead>\n",
       "    <tr style=\"text-align: right;\">\n",
       "      <th></th>\n",
       "      <th>y_test</th>\n",
       "      <th>y_pred</th>\n",
       "    </tr>\n",
       "  </thead>\n",
       "  <tbody>\n",
       "    <tr>\n",
       "      <th>0</th>\n",
       "      <td>31.940000</td>\n",
       "      <td>33.910106</td>\n",
       "    </tr>\n",
       "    <tr>\n",
       "      <th>1</th>\n",
       "      <td>67.178082</td>\n",
       "      <td>65.341509</td>\n",
       "    </tr>\n",
       "    <tr>\n",
       "      <th>2</th>\n",
       "      <td>74.448087</td>\n",
       "      <td>56.836596</td>\n",
       "    </tr>\n",
       "    <tr>\n",
       "      <th>3</th>\n",
       "      <td>53.189041</td>\n",
       "      <td>45.242783</td>\n",
       "    </tr>\n",
       "    <tr>\n",
       "      <th>4</th>\n",
       "      <td>46.750000</td>\n",
       "      <td>42.440208</td>\n",
       "    </tr>\n",
       "    <tr>\n",
       "      <th>...</th>\n",
       "      <td>...</td>\n",
       "      <td>...</td>\n",
       "    </tr>\n",
       "    <tr>\n",
       "      <th>217</th>\n",
       "      <td>18.150000</td>\n",
       "      <td>16.539463</td>\n",
       "    </tr>\n",
       "    <tr>\n",
       "      <th>218</th>\n",
       "      <td>70.715068</td>\n",
       "      <td>62.934239</td>\n",
       "    </tr>\n",
       "    <tr>\n",
       "      <th>219</th>\n",
       "      <td>66.208219</td>\n",
       "      <td>52.927250</td>\n",
       "    </tr>\n",
       "    <tr>\n",
       "      <th>220</th>\n",
       "      <td>23.930000</td>\n",
       "      <td>29.372465</td>\n",
       "    </tr>\n",
       "    <tr>\n",
       "      <th>221</th>\n",
       "      <td>28.561644</td>\n",
       "      <td>26.624939</td>\n",
       "    </tr>\n",
       "  </tbody>\n",
       "</table>\n",
       "<p>1110 rows × 2 columns</p>\n",
       "</div>"
      ],
      "text/plain": [
       "        y_test     y_pred\n",
       "0    31.940000  33.910106\n",
       "1    67.178082  65.341509\n",
       "2    74.448087  56.836596\n",
       "3    53.189041  45.242783\n",
       "4    46.750000  42.440208\n",
       "..         ...        ...\n",
       "217  18.150000  16.539463\n",
       "218  70.715068  62.934239\n",
       "219  66.208219  52.927250\n",
       "220  23.930000  29.372465\n",
       "221  28.561644  26.624939\n",
       "\n",
       "[1110 rows x 2 columns]"
      ]
     },
     "execution_count": 13,
     "metadata": {},
     "output_type": "execute_result"
    }
   ],
   "source": [
    "linr_y_frame"
   ]
  },
  {
   "cell_type": "code",
   "execution_count": 14,
   "id": "18",
   "metadata": {
    "tags": []
   },
   "outputs": [],
   "source": [
    "linr_y_frame.to_csv(output_folder + '/auto_harmonized_topmri_linr_y_frame.csv')"
   ]
  },
  {
   "cell_type": "code",
   "execution_count": 15,
   "id": "19",
   "metadata": {
    "tags": []
   },
   "outputs": [
    {
     "data": {
      "text/html": [
       "<style>#sk-container-id-1 {color: black;}#sk-container-id-1 pre{padding: 0;}#sk-container-id-1 div.sk-toggleable {background-color: white;}#sk-container-id-1 label.sk-toggleable__label {cursor: pointer;display: block;width: 100%;margin-bottom: 0;padding: 0.3em;box-sizing: border-box;text-align: center;}#sk-container-id-1 label.sk-toggleable__label-arrow:before {content: \"▸\";float: left;margin-right: 0.25em;color: #696969;}#sk-container-id-1 label.sk-toggleable__label-arrow:hover:before {color: black;}#sk-container-id-1 div.sk-estimator:hover label.sk-toggleable__label-arrow:before {color: black;}#sk-container-id-1 div.sk-toggleable__content {max-height: 0;max-width: 0;overflow: hidden;text-align: left;background-color: #f0f8ff;}#sk-container-id-1 div.sk-toggleable__content pre {margin: 0.2em;color: black;border-radius: 0.25em;background-color: #f0f8ff;}#sk-container-id-1 input.sk-toggleable__control:checked~div.sk-toggleable__content {max-height: 200px;max-width: 100%;overflow: auto;}#sk-container-id-1 input.sk-toggleable__control:checked~label.sk-toggleable__label-arrow:before {content: \"▾\";}#sk-container-id-1 div.sk-estimator input.sk-toggleable__control:checked~label.sk-toggleable__label {background-color: #d4ebff;}#sk-container-id-1 div.sk-label input.sk-toggleable__control:checked~label.sk-toggleable__label {background-color: #d4ebff;}#sk-container-id-1 input.sk-hidden--visually {border: 0;clip: rect(1px 1px 1px 1px);clip: rect(1px, 1px, 1px, 1px);height: 1px;margin: -1px;overflow: hidden;padding: 0;position: absolute;width: 1px;}#sk-container-id-1 div.sk-estimator {font-family: monospace;background-color: #f0f8ff;border: 1px dotted black;border-radius: 0.25em;box-sizing: border-box;margin-bottom: 0.5em;}#sk-container-id-1 div.sk-estimator:hover {background-color: #d4ebff;}#sk-container-id-1 div.sk-parallel-item::after {content: \"\";width: 100%;border-bottom: 1px solid gray;flex-grow: 1;}#sk-container-id-1 div.sk-label:hover label.sk-toggleable__label {background-color: #d4ebff;}#sk-container-id-1 div.sk-serial::before {content: \"\";position: absolute;border-left: 1px solid gray;box-sizing: border-box;top: 0;bottom: 0;left: 50%;z-index: 0;}#sk-container-id-1 div.sk-serial {display: flex;flex-direction: column;align-items: center;background-color: white;padding-right: 0.2em;padding-left: 0.2em;position: relative;}#sk-container-id-1 div.sk-item {position: relative;z-index: 1;}#sk-container-id-1 div.sk-parallel {display: flex;align-items: stretch;justify-content: center;background-color: white;position: relative;}#sk-container-id-1 div.sk-item::before, #sk-container-id-1 div.sk-parallel-item::before {content: \"\";position: absolute;border-left: 1px solid gray;box-sizing: border-box;top: 0;bottom: 0;left: 50%;z-index: -1;}#sk-container-id-1 div.sk-parallel-item {display: flex;flex-direction: column;z-index: 1;position: relative;background-color: white;}#sk-container-id-1 div.sk-parallel-item:first-child::after {align-self: flex-end;width: 50%;}#sk-container-id-1 div.sk-parallel-item:last-child::after {align-self: flex-start;width: 50%;}#sk-container-id-1 div.sk-parallel-item:only-child::after {width: 0;}#sk-container-id-1 div.sk-dashed-wrapped {border: 1px dashed gray;margin: 0 0.4em 0.5em 0.4em;box-sizing: border-box;padding-bottom: 0.4em;background-color: white;}#sk-container-id-1 div.sk-label label {font-family: monospace;font-weight: bold;display: inline-block;line-height: 1.2em;}#sk-container-id-1 div.sk-label-container {text-align: center;}#sk-container-id-1 div.sk-container {/* jupyter's `normalize.less` sets `[hidden] { display: none; }` but bootstrap.min.css set `[hidden] { display: none !important; }` so we also need the `!important` here to be able to override the default hidden behavior on the sphinx rendered scikit-learn.org. See: https://github.com/scikit-learn/scikit-learn/issues/21755 */display: inline-block !important;position: relative;}#sk-container-id-1 div.sk-text-repr-fallback {display: none;}</style><div id=\"sk-container-id-1\" class=\"sk-top-container\"><div class=\"sk-text-repr-fallback\"><pre>LinearRegression()</pre><b>In a Jupyter environment, please rerun this cell to show the HTML representation or trust the notebook. <br />On GitHub, the HTML representation is unable to render, please try loading this page with nbviewer.org.</b></div><div class=\"sk-container\" hidden><div class=\"sk-item\"><div class=\"sk-estimator sk-toggleable\"><input class=\"sk-toggleable__control sk-hidden--visually\" id=\"sk-estimator-id-1\" type=\"checkbox\" checked><label for=\"sk-estimator-id-1\" class=\"sk-toggleable__label sk-toggleable__label-arrow\">LinearRegression</label><div class=\"sk-toggleable__content\"><pre>LinearRegression()</pre></div></div></div></div></div>"
      ],
      "text/plain": [
       "LinearRegression()"
      ]
     },
     "execution_count": 15,
     "metadata": {},
     "output_type": "execute_result"
    }
   ],
   "source": [
    "linr = models[0]\n",
    "linr[0]"
   ]
  },
  {
   "cell_type": "code",
   "execution_count": 16,
   "id": "20",
   "metadata": {
    "tags": []
   },
   "outputs": [],
   "source": [
    "# check if model folder exists and if not , then create\n",
    "model_folder = '../result_models/'\n",
    "if not os.path.exists(model_folder):\n",
    "    os.makedirs(model_folder)"
   ]
  },
  {
   "cell_type": "code",
   "execution_count": 17,
   "id": "21",
   "metadata": {
    "tags": []
   },
   "outputs": [],
   "source": [
    "## optional save models\n",
    "#joblib.dump(linr[0], ('../result_models/'+ 'auto_harm_topmri_HELIUSUS_linr0.sav'))\n",
    "#joblib.dump(linr[1], ('../result_models/'+ 'auto_harm_topmri_HELIUS_linr1.sav'))\n",
    "#joblib.dump(linr[2], ('../result_models/'+ 'auto_harm_topmri_HELIUSUS_linr2.sav'))\n",
    "#joblib.dump(linr[3], ('../result_models/'+ 'auto_harm_topmri_HELIUS_linr3.sav'))\n",
    "#joblib.dump(linr[4], ('../result_models/'+ 'auto_harm_topmri_HELIUSUS_linr4.sav'))"
   ]
  },
  {
   "cell_type": "code",
   "execution_count": 18,
   "id": "22",
   "metadata": {
    "tags": []
   },
   "outputs": [
    {
     "name": "stderr",
     "output_type": "stream",
     "text": [
      "C:\\Projects\\cvasl\\ml_experiments_all_harmonized\\..\\cvasl\\seperated.py:1097: FutureWarning: The behavior of DataFrame concatenation with empty or all-NA entries is deprecated. In a future version, this will no longer exclude empty or all-NA columns when determining the result dtypes. To retain the old behavior, exclude the relevant entries before the concat operation.\n",
      "  mod_results = pd.concat([mod_results, mod_results_current_fold])\n",
      "C:\\Projects\\cvasl\\ml_experiments_all_harmonized\\..\\cvasl\\seperated.py:1097: FutureWarning: The behavior of DataFrame concatenation with empty or all-NA entries is deprecated. In a future version, this will no longer exclude empty or all-NA columns when determining the result dtypes. To retain the old behavior, exclude the relevant entries before the concat operation.\n",
      "  mod_results = pd.concat([mod_results, mod_results_current_fold])\n",
      "C:\\Projects\\cvasl\\ml_experiments_all_harmonized\\..\\cvasl\\seperated.py:1097: FutureWarning: The behavior of DataFrame concatenation with empty or all-NA entries is deprecated. In a future version, this will no longer exclude empty or all-NA columns when determining the result dtypes. To retain the old behavior, exclude the relevant entries before the concat operation.\n",
      "  mod_results = pd.concat([mod_results, mod_results_current_fold])\n",
      "C:\\Projects\\cvasl\\ml_experiments_all_harmonized\\..\\cvasl\\seperated.py:1097: FutureWarning: The behavior of DataFrame concatenation with empty or all-NA entries is deprecated. In a future version, this will no longer exclude empty or all-NA columns when determining the result dtypes. To retain the old behavior, exclude the relevant entries before the concat operation.\n",
      "  mod_results = pd.concat([mod_results, mod_results_current_fold])\n",
      "C:\\Projects\\cvasl\\ml_experiments_all_harmonized\\..\\cvasl\\seperated.py:1097: FutureWarning: The behavior of DataFrame concatenation with empty or all-NA entries is deprecated. In a future version, this will no longer exclude empty or all-NA columns when determining the result dtypes. To retain the old behavior, exclude the relevant entries before the concat operation.\n",
      "  mod_results = pd.concat([mod_results, mod_results_current_fold])\n"
     ]
    },
    {
     "data": {
      "text/html": [
       "<div>\n",
       "<style scoped>\n",
       "    .dataframe tbody tr th:only-of-type {\n",
       "        vertical-align: middle;\n",
       "    }\n",
       "\n",
       "    .dataframe tbody tr th {\n",
       "        vertical-align: top;\n",
       "    }\n",
       "\n",
       "    .dataframe thead th {\n",
       "        text-align: right;\n",
       "    }\n",
       "</style>\n",
       "<table border=\"1\" class=\"dataframe\">\n",
       "  <thead>\n",
       "    <tr style=\"text-align: right;\">\n",
       "      <th></th>\n",
       "      <th>algorithm</th>\n",
       "      <th>fold</th>\n",
       "      <th>file_name</th>\n",
       "      <th>mae</th>\n",
       "      <th>r2</th>\n",
       "      <th>explained_variance</th>\n",
       "    </tr>\n",
       "  </thead>\n",
       "  <tbody>\n",
       "    <tr>\n",
       "      <th>0</th>\n",
       "      <td>lasso regression-0</td>\n",
       "      <td>0</td>\n",
       "      <td>auto_harm_topmri_llreg.0</td>\n",
       "      <td>6.051026</td>\n",
       "      <td>0.726887</td>\n",
       "      <td>0.727915</td>\n",
       "    </tr>\n",
       "    <tr>\n",
       "      <th>0</th>\n",
       "      <td>lasso regression-1</td>\n",
       "      <td>1</td>\n",
       "      <td>auto_harm_topmri_llreg.1</td>\n",
       "      <td>6.464910</td>\n",
       "      <td>0.759762</td>\n",
       "      <td>0.761750</td>\n",
       "    </tr>\n",
       "    <tr>\n",
       "      <th>0</th>\n",
       "      <td>lasso regression-2</td>\n",
       "      <td>2</td>\n",
       "      <td>auto_harm_topmri_llreg.2</td>\n",
       "      <td>5.996762</td>\n",
       "      <td>0.784011</td>\n",
       "      <td>0.784487</td>\n",
       "    </tr>\n",
       "    <tr>\n",
       "      <th>0</th>\n",
       "      <td>lasso regression-3</td>\n",
       "      <td>3</td>\n",
       "      <td>auto_harm_topmri_llreg.3</td>\n",
       "      <td>5.845306</td>\n",
       "      <td>0.827409</td>\n",
       "      <td>0.827816</td>\n",
       "    </tr>\n",
       "    <tr>\n",
       "      <th>0</th>\n",
       "      <td>lasso regression-4</td>\n",
       "      <td>4</td>\n",
       "      <td>auto_harm_topmri_llreg.4</td>\n",
       "      <td>5.941891</td>\n",
       "      <td>0.800276</td>\n",
       "      <td>0.800283</td>\n",
       "    </tr>\n",
       "  </tbody>\n",
       "</table>\n",
       "</div>"
      ],
      "text/plain": [
       "            algorithm fold                 file_name       mae        r2  \\\n",
       "0  lasso regression-0    0  auto_harm_topmri_llreg.0  6.051026  0.726887   \n",
       "0  lasso regression-1    1  auto_harm_topmri_llreg.1  6.464910  0.759762   \n",
       "0  lasso regression-2    2  auto_harm_topmri_llreg.2  5.996762  0.784011   \n",
       "0  lasso regression-3    3  auto_harm_topmri_llreg.3  5.845306  0.827409   \n",
       "0  lasso regression-4    4  auto_harm_topmri_llreg.4  5.941891  0.800276   \n",
       "\n",
       "   explained_variance  \n",
       "0            0.727915  \n",
       "0            0.761750  \n",
       "0            0.784487  \n",
       "0            0.827816  \n",
       "0            0.800283  "
      ]
     },
     "execution_count": 18,
     "metadata": {},
     "output_type": "execute_result"
    }
   ],
   "source": [
    "llreg_k_frame, llreg_y_frame, models = sep.stratified_cat_and_cont_categories_shuffle_split('lasso regression', 'auto_harm_topmri_llreg',  linear_model.LassoLars(alpha=0.01), ml_matrix, X, y)\n",
    "llreg_k_frame"
   ]
  },
  {
   "cell_type": "code",
   "execution_count": 19,
   "id": "23",
   "metadata": {
    "tags": []
   },
   "outputs": [],
   "source": [
    "llreg_k_frame.to_csv(output_folder + '/auto_harmonized_topmri_llreg_k_frame.csv')"
   ]
  },
  {
   "cell_type": "code",
   "execution_count": 20,
   "id": "24",
   "metadata": {
    "tags": []
   },
   "outputs": [
    {
     "data": {
      "text/html": [
       "<div>\n",
       "<style scoped>\n",
       "    .dataframe tbody tr th:only-of-type {\n",
       "        vertical-align: middle;\n",
       "    }\n",
       "\n",
       "    .dataframe tbody tr th {\n",
       "        vertical-align: top;\n",
       "    }\n",
       "\n",
       "    .dataframe thead th {\n",
       "        text-align: right;\n",
       "    }\n",
       "</style>\n",
       "<table border=\"1\" class=\"dataframe\">\n",
       "  <thead>\n",
       "    <tr style=\"text-align: right;\">\n",
       "      <th></th>\n",
       "      <th>algorithm</th>\n",
       "      <th>file_name</th>\n",
       "      <th>mae</th>\n",
       "      <th>r2</th>\n",
       "      <th>explained_variance</th>\n",
       "    </tr>\n",
       "  </thead>\n",
       "  <tbody>\n",
       "    <tr>\n",
       "      <th>0</th>\n",
       "      <td>0    lasso regression-0\n",
       "0    lasso regression-...</td>\n",
       "      <td>0    auto_harm_topmri_llreg.0\n",
       "0    auto_harm_t...</td>\n",
       "      <td>6.059979</td>\n",
       "      <td>0.779669</td>\n",
       "      <td>0.78045</td>\n",
       "    </tr>\n",
       "  </tbody>\n",
       "</table>\n",
       "</div>"
      ],
      "text/plain": [
       "                                           algorithm  \\\n",
       "0  0    lasso regression-0\n",
       "0    lasso regression-...   \n",
       "\n",
       "                                           file_name       mae        r2  \\\n",
       "0  0    auto_harm_topmri_llreg.0\n",
       "0    auto_harm_t...  6.059979  0.779669   \n",
       "\n",
       "   explained_variance  \n",
       "0             0.78045  "
      ]
     },
     "execution_count": 20,
     "metadata": {},
     "output_type": "execute_result"
    }
   ],
   "source": [
    "avg_llreg = sep.avg_k_folds(llreg_k_frame)\n",
    "avg_llreg"
   ]
  },
  {
   "cell_type": "code",
   "execution_count": 21,
   "id": "25",
   "metadata": {
    "tags": []
   },
   "outputs": [
    {
     "data": {
      "text/html": [
       "<div>\n",
       "<style scoped>\n",
       "    .dataframe tbody tr th:only-of-type {\n",
       "        vertical-align: middle;\n",
       "    }\n",
       "\n",
       "    .dataframe tbody tr th {\n",
       "        vertical-align: top;\n",
       "    }\n",
       "\n",
       "    .dataframe thead th {\n",
       "        text-align: right;\n",
       "    }\n",
       "</style>\n",
       "<table border=\"1\" class=\"dataframe\">\n",
       "  <thead>\n",
       "    <tr style=\"text-align: right;\">\n",
       "      <th></th>\n",
       "      <th>y_test</th>\n",
       "      <th>y_pred</th>\n",
       "    </tr>\n",
       "  </thead>\n",
       "  <tbody>\n",
       "    <tr>\n",
       "      <th>0</th>\n",
       "      <td>31.940000</td>\n",
       "      <td>33.131852</td>\n",
       "    </tr>\n",
       "    <tr>\n",
       "      <th>1</th>\n",
       "      <td>67.178082</td>\n",
       "      <td>65.089970</td>\n",
       "    </tr>\n",
       "    <tr>\n",
       "      <th>2</th>\n",
       "      <td>74.448087</td>\n",
       "      <td>56.476769</td>\n",
       "    </tr>\n",
       "    <tr>\n",
       "      <th>3</th>\n",
       "      <td>53.189041</td>\n",
       "      <td>45.311068</td>\n",
       "    </tr>\n",
       "    <tr>\n",
       "      <th>4</th>\n",
       "      <td>46.750000</td>\n",
       "      <td>42.466697</td>\n",
       "    </tr>\n",
       "    <tr>\n",
       "      <th>...</th>\n",
       "      <td>...</td>\n",
       "      <td>...</td>\n",
       "    </tr>\n",
       "    <tr>\n",
       "      <th>217</th>\n",
       "      <td>18.150000</td>\n",
       "      <td>20.218783</td>\n",
       "    </tr>\n",
       "    <tr>\n",
       "      <th>218</th>\n",
       "      <td>70.715068</td>\n",
       "      <td>64.378906</td>\n",
       "    </tr>\n",
       "    <tr>\n",
       "      <th>219</th>\n",
       "      <td>66.208219</td>\n",
       "      <td>53.036900</td>\n",
       "    </tr>\n",
       "    <tr>\n",
       "      <th>220</th>\n",
       "      <td>23.930000</td>\n",
       "      <td>28.187983</td>\n",
       "    </tr>\n",
       "    <tr>\n",
       "      <th>221</th>\n",
       "      <td>28.561644</td>\n",
       "      <td>27.671454</td>\n",
       "    </tr>\n",
       "  </tbody>\n",
       "</table>\n",
       "<p>1110 rows × 2 columns</p>\n",
       "</div>"
      ],
      "text/plain": [
       "        y_test     y_pred\n",
       "0    31.940000  33.131852\n",
       "1    67.178082  65.089970\n",
       "2    74.448087  56.476769\n",
       "3    53.189041  45.311068\n",
       "4    46.750000  42.466697\n",
       "..         ...        ...\n",
       "217  18.150000  20.218783\n",
       "218  70.715068  64.378906\n",
       "219  66.208219  53.036900\n",
       "220  23.930000  28.187983\n",
       "221  28.561644  27.671454\n",
       "\n",
       "[1110 rows x 2 columns]"
      ]
     },
     "execution_count": 21,
     "metadata": {},
     "output_type": "execute_result"
    }
   ],
   "source": [
    "llreg_y_frame"
   ]
  },
  {
   "cell_type": "code",
   "execution_count": 22,
   "id": "26",
   "metadata": {
    "tags": []
   },
   "outputs": [],
   "source": [
    "llreg_y_frame.to_csv(output_folder + '/auto_harmonized_topmri_llreg_y_frame.csv')"
   ]
  },
  {
   "cell_type": "code",
   "execution_count": 23,
   "id": "27",
   "metadata": {
    "tags": []
   },
   "outputs": [
    {
     "data": {
      "text/html": [
       "<style>#sk-container-id-2 {color: black;}#sk-container-id-2 pre{padding: 0;}#sk-container-id-2 div.sk-toggleable {background-color: white;}#sk-container-id-2 label.sk-toggleable__label {cursor: pointer;display: block;width: 100%;margin-bottom: 0;padding: 0.3em;box-sizing: border-box;text-align: center;}#sk-container-id-2 label.sk-toggleable__label-arrow:before {content: \"▸\";float: left;margin-right: 0.25em;color: #696969;}#sk-container-id-2 label.sk-toggleable__label-arrow:hover:before {color: black;}#sk-container-id-2 div.sk-estimator:hover label.sk-toggleable__label-arrow:before {color: black;}#sk-container-id-2 div.sk-toggleable__content {max-height: 0;max-width: 0;overflow: hidden;text-align: left;background-color: #f0f8ff;}#sk-container-id-2 div.sk-toggleable__content pre {margin: 0.2em;color: black;border-radius: 0.25em;background-color: #f0f8ff;}#sk-container-id-2 input.sk-toggleable__control:checked~div.sk-toggleable__content {max-height: 200px;max-width: 100%;overflow: auto;}#sk-container-id-2 input.sk-toggleable__control:checked~label.sk-toggleable__label-arrow:before {content: \"▾\";}#sk-container-id-2 div.sk-estimator input.sk-toggleable__control:checked~label.sk-toggleable__label {background-color: #d4ebff;}#sk-container-id-2 div.sk-label input.sk-toggleable__control:checked~label.sk-toggleable__label {background-color: #d4ebff;}#sk-container-id-2 input.sk-hidden--visually {border: 0;clip: rect(1px 1px 1px 1px);clip: rect(1px, 1px, 1px, 1px);height: 1px;margin: -1px;overflow: hidden;padding: 0;position: absolute;width: 1px;}#sk-container-id-2 div.sk-estimator {font-family: monospace;background-color: #f0f8ff;border: 1px dotted black;border-radius: 0.25em;box-sizing: border-box;margin-bottom: 0.5em;}#sk-container-id-2 div.sk-estimator:hover {background-color: #d4ebff;}#sk-container-id-2 div.sk-parallel-item::after {content: \"\";width: 100%;border-bottom: 1px solid gray;flex-grow: 1;}#sk-container-id-2 div.sk-label:hover label.sk-toggleable__label {background-color: #d4ebff;}#sk-container-id-2 div.sk-serial::before {content: \"\";position: absolute;border-left: 1px solid gray;box-sizing: border-box;top: 0;bottom: 0;left: 50%;z-index: 0;}#sk-container-id-2 div.sk-serial {display: flex;flex-direction: column;align-items: center;background-color: white;padding-right: 0.2em;padding-left: 0.2em;position: relative;}#sk-container-id-2 div.sk-item {position: relative;z-index: 1;}#sk-container-id-2 div.sk-parallel {display: flex;align-items: stretch;justify-content: center;background-color: white;position: relative;}#sk-container-id-2 div.sk-item::before, #sk-container-id-2 div.sk-parallel-item::before {content: \"\";position: absolute;border-left: 1px solid gray;box-sizing: border-box;top: 0;bottom: 0;left: 50%;z-index: -1;}#sk-container-id-2 div.sk-parallel-item {display: flex;flex-direction: column;z-index: 1;position: relative;background-color: white;}#sk-container-id-2 div.sk-parallel-item:first-child::after {align-self: flex-end;width: 50%;}#sk-container-id-2 div.sk-parallel-item:last-child::after {align-self: flex-start;width: 50%;}#sk-container-id-2 div.sk-parallel-item:only-child::after {width: 0;}#sk-container-id-2 div.sk-dashed-wrapped {border: 1px dashed gray;margin: 0 0.4em 0.5em 0.4em;box-sizing: border-box;padding-bottom: 0.4em;background-color: white;}#sk-container-id-2 div.sk-label label {font-family: monospace;font-weight: bold;display: inline-block;line-height: 1.2em;}#sk-container-id-2 div.sk-label-container {text-align: center;}#sk-container-id-2 div.sk-container {/* jupyter's `normalize.less` sets `[hidden] { display: none; }` but bootstrap.min.css set `[hidden] { display: none !important; }` so we also need the `!important` here to be able to override the default hidden behavior on the sphinx rendered scikit-learn.org. See: https://github.com/scikit-learn/scikit-learn/issues/21755 */display: inline-block !important;position: relative;}#sk-container-id-2 div.sk-text-repr-fallback {display: none;}</style><div id=\"sk-container-id-2\" class=\"sk-top-container\"><div class=\"sk-text-repr-fallback\"><pre>LassoLars(alpha=0.01)</pre><b>In a Jupyter environment, please rerun this cell to show the HTML representation or trust the notebook. <br />On GitHub, the HTML representation is unable to render, please try loading this page with nbviewer.org.</b></div><div class=\"sk-container\" hidden><div class=\"sk-item\"><div class=\"sk-estimator sk-toggleable\"><input class=\"sk-toggleable__control sk-hidden--visually\" id=\"sk-estimator-id-2\" type=\"checkbox\" checked><label for=\"sk-estimator-id-2\" class=\"sk-toggleable__label sk-toggleable__label-arrow\">LassoLars</label><div class=\"sk-toggleable__content\"><pre>LassoLars(alpha=0.01)</pre></div></div></div></div></div>"
      ],
      "text/plain": [
       "LassoLars(alpha=0.01)"
      ]
     },
     "execution_count": 23,
     "metadata": {},
     "output_type": "execute_result"
    }
   ],
   "source": [
    "llreg = models[0]\n",
    "llreg[0]"
   ]
  },
  {
   "cell_type": "code",
   "execution_count": 24,
   "id": "28",
   "metadata": {
    "tags": []
   },
   "outputs": [],
   "source": [
    "## optional save models\n",
    "#joblib.dump(llreg[0], ('../result_models/'+ 'auto_harm_topmri_HELIUSUS_llreg0.sav'))\n",
    "#joblib.dump(llreg[1], ('../result_models/'+ 'auto_harm_topmri_HELIUS_llreg1.sav'))\n",
    "#joblib.dump(llreg[2], ('../result_models/'+ 'auto_harm_topmri_HELIUS_llreg2.sav'))\n",
    "#joblib.dump(llreg[3], ('../result_models/'+ 'auto_harm_topmri_HELIUS_llreg3.sav'))\n",
    "#joblib.dump(llreg[4], ('../result_models/'+ 'auto_harm_topmri_HELIUS_llreg4.sav'))"
   ]
  },
  {
   "cell_type": "code",
   "execution_count": 25,
   "id": "29",
   "metadata": {
    "tags": []
   },
   "outputs": [
    {
     "name": "stderr",
     "output_type": "stream",
     "text": [
      "C:\\Projects\\cvasl\\ml_experiments_all_harmonized\\..\\cvasl\\seperated.py:1097: FutureWarning: The behavior of DataFrame concatenation with empty or all-NA entries is deprecated. In a future version, this will no longer exclude empty or all-NA columns when determining the result dtypes. To retain the old behavior, exclude the relevant entries before the concat operation.\n",
      "  mod_results = pd.concat([mod_results, mod_results_current_fold])\n",
      "C:\\Projects\\cvasl\\ml_experiments_all_harmonized\\..\\cvasl\\seperated.py:1097: FutureWarning: The behavior of DataFrame concatenation with empty or all-NA entries is deprecated. In a future version, this will no longer exclude empty or all-NA columns when determining the result dtypes. To retain the old behavior, exclude the relevant entries before the concat operation.\n",
      "  mod_results = pd.concat([mod_results, mod_results_current_fold])\n",
      "C:\\Projects\\cvasl\\ml_experiments_all_harmonized\\..\\cvasl\\seperated.py:1097: FutureWarning: The behavior of DataFrame concatenation with empty or all-NA entries is deprecated. In a future version, this will no longer exclude empty or all-NA columns when determining the result dtypes. To retain the old behavior, exclude the relevant entries before the concat operation.\n",
      "  mod_results = pd.concat([mod_results, mod_results_current_fold])\n",
      "C:\\Projects\\cvasl\\ml_experiments_all_harmonized\\..\\cvasl\\seperated.py:1097: FutureWarning: The behavior of DataFrame concatenation with empty or all-NA entries is deprecated. In a future version, this will no longer exclude empty or all-NA columns when determining the result dtypes. To retain the old behavior, exclude the relevant entries before the concat operation.\n",
      "  mod_results = pd.concat([mod_results, mod_results_current_fold])\n",
      "C:\\Projects\\cvasl\\ml_experiments_all_harmonized\\..\\cvasl\\seperated.py:1097: FutureWarning: The behavior of DataFrame concatenation with empty or all-NA entries is deprecated. In a future version, this will no longer exclude empty or all-NA columns when determining the result dtypes. To retain the old behavior, exclude the relevant entries before the concat operation.\n",
      "  mod_results = pd.concat([mod_results, mod_results_current_fold])\n"
     ]
    },
    {
     "data": {
      "text/html": [
       "<div>\n",
       "<style scoped>\n",
       "    .dataframe tbody tr th:only-of-type {\n",
       "        vertical-align: middle;\n",
       "    }\n",
       "\n",
       "    .dataframe tbody tr th {\n",
       "        vertical-align: top;\n",
       "    }\n",
       "\n",
       "    .dataframe thead th {\n",
       "        text-align: right;\n",
       "    }\n",
       "</style>\n",
       "<table border=\"1\" class=\"dataframe\">\n",
       "  <thead>\n",
       "    <tr style=\"text-align: right;\">\n",
       "      <th></th>\n",
       "      <th>algorithm</th>\n",
       "      <th>fold</th>\n",
       "      <th>file_name</th>\n",
       "      <th>mae</th>\n",
       "      <th>r2</th>\n",
       "      <th>explained_variance</th>\n",
       "    </tr>\n",
       "  </thead>\n",
       "  <tbody>\n",
       "    <tr>\n",
       "      <th>0</th>\n",
       "      <td>decision tree-0</td>\n",
       "      <td>0</td>\n",
       "      <td>auto_harm_topmri_dtree.0</td>\n",
       "      <td>6.986556</td>\n",
       "      <td>0.694660</td>\n",
       "      <td>0.695553</td>\n",
       "    </tr>\n",
       "    <tr>\n",
       "      <th>0</th>\n",
       "      <td>decision tree-1</td>\n",
       "      <td>1</td>\n",
       "      <td>auto_harm_topmri_dtree.1</td>\n",
       "      <td>7.051548</td>\n",
       "      <td>0.694991</td>\n",
       "      <td>0.695101</td>\n",
       "    </tr>\n",
       "    <tr>\n",
       "      <th>0</th>\n",
       "      <td>decision tree-2</td>\n",
       "      <td>2</td>\n",
       "      <td>auto_harm_topmri_dtree.2</td>\n",
       "      <td>6.938686</td>\n",
       "      <td>0.681425</td>\n",
       "      <td>0.681679</td>\n",
       "    </tr>\n",
       "    <tr>\n",
       "      <th>0</th>\n",
       "      <td>decision tree-3</td>\n",
       "      <td>3</td>\n",
       "      <td>auto_harm_topmri_dtree.3</td>\n",
       "      <td>6.700420</td>\n",
       "      <td>0.745621</td>\n",
       "      <td>0.745946</td>\n",
       "    </tr>\n",
       "    <tr>\n",
       "      <th>0</th>\n",
       "      <td>decision tree-4</td>\n",
       "      <td>4</td>\n",
       "      <td>auto_harm_topmri_dtree.4</td>\n",
       "      <td>7.259061</td>\n",
       "      <td>0.677964</td>\n",
       "      <td>0.678038</td>\n",
       "    </tr>\n",
       "  </tbody>\n",
       "</table>\n",
       "</div>"
      ],
      "text/plain": [
       "         algorithm fold                 file_name       mae        r2  \\\n",
       "0  decision tree-0    0  auto_harm_topmri_dtree.0  6.986556  0.694660   \n",
       "0  decision tree-1    1  auto_harm_topmri_dtree.1  7.051548  0.694991   \n",
       "0  decision tree-2    2  auto_harm_topmri_dtree.2  6.938686  0.681425   \n",
       "0  decision tree-3    3  auto_harm_topmri_dtree.3  6.700420  0.745621   \n",
       "0  decision tree-4    4  auto_harm_topmri_dtree.4  7.259061  0.677964   \n",
       "\n",
       "   explained_variance  \n",
       "0            0.695553  \n",
       "0            0.695101  \n",
       "0            0.681679  \n",
       "0            0.745946  \n",
       "0            0.678038  "
      ]
     },
     "execution_count": 25,
     "metadata": {},
     "output_type": "execute_result"
    }
   ],
   "source": [
    "dtree_k_frame, dtree_y_frame, models = sep.stratified_cat_and_cont_categories_shuffle_split('decision tree', 'auto_harm_topmri_dtree',  tree.DecisionTreeRegressor(), ml_matrix, X, y)\n",
    "dtree_k_frame"
   ]
  },
  {
   "cell_type": "code",
   "execution_count": 26,
   "id": "30",
   "metadata": {
    "tags": []
   },
   "outputs": [],
   "source": [
    "dtree_k_frame.to_csv(output_folder + '/auto_harmonized_topmri_dtree_k_frame.csv')"
   ]
  },
  {
   "cell_type": "code",
   "execution_count": 27,
   "id": "31",
   "metadata": {
    "tags": []
   },
   "outputs": [
    {
     "data": {
      "text/html": [
       "<div>\n",
       "<style scoped>\n",
       "    .dataframe tbody tr th:only-of-type {\n",
       "        vertical-align: middle;\n",
       "    }\n",
       "\n",
       "    .dataframe tbody tr th {\n",
       "        vertical-align: top;\n",
       "    }\n",
       "\n",
       "    .dataframe thead th {\n",
       "        text-align: right;\n",
       "    }\n",
       "</style>\n",
       "<table border=\"1\" class=\"dataframe\">\n",
       "  <thead>\n",
       "    <tr style=\"text-align: right;\">\n",
       "      <th></th>\n",
       "      <th>algorithm</th>\n",
       "      <th>file_name</th>\n",
       "      <th>mae</th>\n",
       "      <th>r2</th>\n",
       "      <th>explained_variance</th>\n",
       "    </tr>\n",
       "  </thead>\n",
       "  <tbody>\n",
       "    <tr>\n",
       "      <th>0</th>\n",
       "      <td>0    decision tree-0\n",
       "0    decision tree-1\n",
       "0   ...</td>\n",
       "      <td>0    auto_harm_topmri_dtree.0\n",
       "0    auto_harm_t...</td>\n",
       "      <td>6.987254</td>\n",
       "      <td>0.698932</td>\n",
       "      <td>0.699263</td>\n",
       "    </tr>\n",
       "  </tbody>\n",
       "</table>\n",
       "</div>"
      ],
      "text/plain": [
       "                                           algorithm  \\\n",
       "0  0    decision tree-0\n",
       "0    decision tree-1\n",
       "0   ...   \n",
       "\n",
       "                                           file_name       mae        r2  \\\n",
       "0  0    auto_harm_topmri_dtree.0\n",
       "0    auto_harm_t...  6.987254  0.698932   \n",
       "\n",
       "   explained_variance  \n",
       "0            0.699263  "
      ]
     },
     "execution_count": 27,
     "metadata": {},
     "output_type": "execute_result"
    }
   ],
   "source": [
    "avg_dtree = sep.avg_k_folds(dtree_k_frame)\n",
    "avg_dtree"
   ]
  },
  {
   "cell_type": "code",
   "execution_count": 28,
   "id": "32",
   "metadata": {
    "tags": []
   },
   "outputs": [
    {
     "data": {
      "text/html": [
       "<div>\n",
       "<style scoped>\n",
       "    .dataframe tbody tr th:only-of-type {\n",
       "        vertical-align: middle;\n",
       "    }\n",
       "\n",
       "    .dataframe tbody tr th {\n",
       "        vertical-align: top;\n",
       "    }\n",
       "\n",
       "    .dataframe thead th {\n",
       "        text-align: right;\n",
       "    }\n",
       "</style>\n",
       "<table border=\"1\" class=\"dataframe\">\n",
       "  <thead>\n",
       "    <tr style=\"text-align: right;\">\n",
       "      <th></th>\n",
       "      <th>y_test</th>\n",
       "      <th>y_pred</th>\n",
       "    </tr>\n",
       "  </thead>\n",
       "  <tbody>\n",
       "    <tr>\n",
       "      <th>0</th>\n",
       "      <td>31.940000</td>\n",
       "      <td>44.350000</td>\n",
       "    </tr>\n",
       "    <tr>\n",
       "      <th>1</th>\n",
       "      <td>67.178082</td>\n",
       "      <td>51.660000</td>\n",
       "    </tr>\n",
       "    <tr>\n",
       "      <th>2</th>\n",
       "      <td>74.448087</td>\n",
       "      <td>66.446575</td>\n",
       "    </tr>\n",
       "    <tr>\n",
       "      <th>3</th>\n",
       "      <td>53.189041</td>\n",
       "      <td>40.650000</td>\n",
       "    </tr>\n",
       "    <tr>\n",
       "      <th>4</th>\n",
       "      <td>46.750000</td>\n",
       "      <td>56.632083</td>\n",
       "    </tr>\n",
       "    <tr>\n",
       "      <th>...</th>\n",
       "      <td>...</td>\n",
       "      <td>...</td>\n",
       "    </tr>\n",
       "    <tr>\n",
       "      <th>217</th>\n",
       "      <td>18.150000</td>\n",
       "      <td>26.340000</td>\n",
       "    </tr>\n",
       "    <tr>\n",
       "      <th>218</th>\n",
       "      <td>70.715068</td>\n",
       "      <td>72.205479</td>\n",
       "    </tr>\n",
       "    <tr>\n",
       "      <th>219</th>\n",
       "      <td>66.208219</td>\n",
       "      <td>65.523288</td>\n",
       "    </tr>\n",
       "    <tr>\n",
       "      <th>220</th>\n",
       "      <td>23.930000</td>\n",
       "      <td>37.160000</td>\n",
       "    </tr>\n",
       "    <tr>\n",
       "      <th>221</th>\n",
       "      <td>28.561644</td>\n",
       "      <td>23.370000</td>\n",
       "    </tr>\n",
       "  </tbody>\n",
       "</table>\n",
       "<p>1110 rows × 2 columns</p>\n",
       "</div>"
      ],
      "text/plain": [
       "        y_test     y_pred\n",
       "0    31.940000  44.350000\n",
       "1    67.178082  51.660000\n",
       "2    74.448087  66.446575\n",
       "3    53.189041  40.650000\n",
       "4    46.750000  56.632083\n",
       "..         ...        ...\n",
       "217  18.150000  26.340000\n",
       "218  70.715068  72.205479\n",
       "219  66.208219  65.523288\n",
       "220  23.930000  37.160000\n",
       "221  28.561644  23.370000\n",
       "\n",
       "[1110 rows x 2 columns]"
      ]
     },
     "execution_count": 28,
     "metadata": {},
     "output_type": "execute_result"
    }
   ],
   "source": [
    "dtree_y_frame"
   ]
  },
  {
   "cell_type": "code",
   "execution_count": 29,
   "id": "33",
   "metadata": {
    "tags": []
   },
   "outputs": [],
   "source": [
    "dtree_y_frame.to_csv(output_folder + '/auto_harmonized_topmri_dtree_y_frame.csv')"
   ]
  },
  {
   "cell_type": "code",
   "execution_count": 30,
   "id": "34",
   "metadata": {
    "tags": []
   },
   "outputs": [
    {
     "data": {
      "text/html": [
       "<style>#sk-container-id-3 {color: black;}#sk-container-id-3 pre{padding: 0;}#sk-container-id-3 div.sk-toggleable {background-color: white;}#sk-container-id-3 label.sk-toggleable__label {cursor: pointer;display: block;width: 100%;margin-bottom: 0;padding: 0.3em;box-sizing: border-box;text-align: center;}#sk-container-id-3 label.sk-toggleable__label-arrow:before {content: \"▸\";float: left;margin-right: 0.25em;color: #696969;}#sk-container-id-3 label.sk-toggleable__label-arrow:hover:before {color: black;}#sk-container-id-3 div.sk-estimator:hover label.sk-toggleable__label-arrow:before {color: black;}#sk-container-id-3 div.sk-toggleable__content {max-height: 0;max-width: 0;overflow: hidden;text-align: left;background-color: #f0f8ff;}#sk-container-id-3 div.sk-toggleable__content pre {margin: 0.2em;color: black;border-radius: 0.25em;background-color: #f0f8ff;}#sk-container-id-3 input.sk-toggleable__control:checked~div.sk-toggleable__content {max-height: 200px;max-width: 100%;overflow: auto;}#sk-container-id-3 input.sk-toggleable__control:checked~label.sk-toggleable__label-arrow:before {content: \"▾\";}#sk-container-id-3 div.sk-estimator input.sk-toggleable__control:checked~label.sk-toggleable__label {background-color: #d4ebff;}#sk-container-id-3 div.sk-label input.sk-toggleable__control:checked~label.sk-toggleable__label {background-color: #d4ebff;}#sk-container-id-3 input.sk-hidden--visually {border: 0;clip: rect(1px 1px 1px 1px);clip: rect(1px, 1px, 1px, 1px);height: 1px;margin: -1px;overflow: hidden;padding: 0;position: absolute;width: 1px;}#sk-container-id-3 div.sk-estimator {font-family: monospace;background-color: #f0f8ff;border: 1px dotted black;border-radius: 0.25em;box-sizing: border-box;margin-bottom: 0.5em;}#sk-container-id-3 div.sk-estimator:hover {background-color: #d4ebff;}#sk-container-id-3 div.sk-parallel-item::after {content: \"\";width: 100%;border-bottom: 1px solid gray;flex-grow: 1;}#sk-container-id-3 div.sk-label:hover label.sk-toggleable__label {background-color: #d4ebff;}#sk-container-id-3 div.sk-serial::before {content: \"\";position: absolute;border-left: 1px solid gray;box-sizing: border-box;top: 0;bottom: 0;left: 50%;z-index: 0;}#sk-container-id-3 div.sk-serial {display: flex;flex-direction: column;align-items: center;background-color: white;padding-right: 0.2em;padding-left: 0.2em;position: relative;}#sk-container-id-3 div.sk-item {position: relative;z-index: 1;}#sk-container-id-3 div.sk-parallel {display: flex;align-items: stretch;justify-content: center;background-color: white;position: relative;}#sk-container-id-3 div.sk-item::before, #sk-container-id-3 div.sk-parallel-item::before {content: \"\";position: absolute;border-left: 1px solid gray;box-sizing: border-box;top: 0;bottom: 0;left: 50%;z-index: -1;}#sk-container-id-3 div.sk-parallel-item {display: flex;flex-direction: column;z-index: 1;position: relative;background-color: white;}#sk-container-id-3 div.sk-parallel-item:first-child::after {align-self: flex-end;width: 50%;}#sk-container-id-3 div.sk-parallel-item:last-child::after {align-self: flex-start;width: 50%;}#sk-container-id-3 div.sk-parallel-item:only-child::after {width: 0;}#sk-container-id-3 div.sk-dashed-wrapped {border: 1px dashed gray;margin: 0 0.4em 0.5em 0.4em;box-sizing: border-box;padding-bottom: 0.4em;background-color: white;}#sk-container-id-3 div.sk-label label {font-family: monospace;font-weight: bold;display: inline-block;line-height: 1.2em;}#sk-container-id-3 div.sk-label-container {text-align: center;}#sk-container-id-3 div.sk-container {/* jupyter's `normalize.less` sets `[hidden] { display: none; }` but bootstrap.min.css set `[hidden] { display: none !important; }` so we also need the `!important` here to be able to override the default hidden behavior on the sphinx rendered scikit-learn.org. See: https://github.com/scikit-learn/scikit-learn/issues/21755 */display: inline-block !important;position: relative;}#sk-container-id-3 div.sk-text-repr-fallback {display: none;}</style><div id=\"sk-container-id-3\" class=\"sk-top-container\"><div class=\"sk-text-repr-fallback\"><pre>DecisionTreeRegressor()</pre><b>In a Jupyter environment, please rerun this cell to show the HTML representation or trust the notebook. <br />On GitHub, the HTML representation is unable to render, please try loading this page with nbviewer.org.</b></div><div class=\"sk-container\" hidden><div class=\"sk-item\"><div class=\"sk-estimator sk-toggleable\"><input class=\"sk-toggleable__control sk-hidden--visually\" id=\"sk-estimator-id-3\" type=\"checkbox\" checked><label for=\"sk-estimator-id-3\" class=\"sk-toggleable__label sk-toggleable__label-arrow\">DecisionTreeRegressor</label><div class=\"sk-toggleable__content\"><pre>DecisionTreeRegressor()</pre></div></div></div></div></div>"
      ],
      "text/plain": [
       "DecisionTreeRegressor()"
      ]
     },
     "execution_count": 30,
     "metadata": {},
     "output_type": "execute_result"
    }
   ],
   "source": [
    "dtree = models[0]\n",
    "dtree[0]"
   ]
  },
  {
   "cell_type": "code",
   "execution_count": 31,
   "id": "35",
   "metadata": {
    "tags": []
   },
   "outputs": [
    {
     "name": "stderr",
     "output_type": "stream",
     "text": [
      "C:\\Projects\\cvasl\\ml_experiments_all_harmonized\\..\\cvasl\\seperated.py:1097: FutureWarning: The behavior of DataFrame concatenation with empty or all-NA entries is deprecated. In a future version, this will no longer exclude empty or all-NA columns when determining the result dtypes. To retain the old behavior, exclude the relevant entries before the concat operation.\n",
      "  mod_results = pd.concat([mod_results, mod_results_current_fold])\n",
      "C:\\Projects\\cvasl\\ml_experiments_all_harmonized\\..\\cvasl\\seperated.py:1097: FutureWarning: The behavior of DataFrame concatenation with empty or all-NA entries is deprecated. In a future version, this will no longer exclude empty or all-NA columns when determining the result dtypes. To retain the old behavior, exclude the relevant entries before the concat operation.\n",
      "  mod_results = pd.concat([mod_results, mod_results_current_fold])\n",
      "C:\\Projects\\cvasl\\ml_experiments_all_harmonized\\..\\cvasl\\seperated.py:1097: FutureWarning: The behavior of DataFrame concatenation with empty or all-NA entries is deprecated. In a future version, this will no longer exclude empty or all-NA columns when determining the result dtypes. To retain the old behavior, exclude the relevant entries before the concat operation.\n",
      "  mod_results = pd.concat([mod_results, mod_results_current_fold])\n",
      "C:\\Projects\\cvasl\\ml_experiments_all_harmonized\\..\\cvasl\\seperated.py:1097: FutureWarning: The behavior of DataFrame concatenation with empty or all-NA entries is deprecated. In a future version, this will no longer exclude empty or all-NA columns when determining the result dtypes. To retain the old behavior, exclude the relevant entries before the concat operation.\n",
      "  mod_results = pd.concat([mod_results, mod_results_current_fold])\n",
      "C:\\Projects\\cvasl\\ml_experiments_all_harmonized\\..\\cvasl\\seperated.py:1097: FutureWarning: The behavior of DataFrame concatenation with empty or all-NA entries is deprecated. In a future version, this will no longer exclude empty or all-NA columns when determining the result dtypes. To retain the old behavior, exclude the relevant entries before the concat operation.\n",
      "  mod_results = pd.concat([mod_results, mod_results_current_fold])\n"
     ]
    },
    {
     "data": {
      "text/html": [
       "<div>\n",
       "<style scoped>\n",
       "    .dataframe tbody tr th:only-of-type {\n",
       "        vertical-align: middle;\n",
       "    }\n",
       "\n",
       "    .dataframe tbody tr th {\n",
       "        vertical-align: top;\n",
       "    }\n",
       "\n",
       "    .dataframe thead th {\n",
       "        text-align: right;\n",
       "    }\n",
       "</style>\n",
       "<table border=\"1\" class=\"dataframe\">\n",
       "  <thead>\n",
       "    <tr style=\"text-align: right;\">\n",
       "      <th></th>\n",
       "      <th>algorithm</th>\n",
       "      <th>fold</th>\n",
       "      <th>file_name</th>\n",
       "      <th>mae</th>\n",
       "      <th>r2</th>\n",
       "      <th>explained_variance</th>\n",
       "    </tr>\n",
       "  </thead>\n",
       "  <tbody>\n",
       "    <tr>\n",
       "      <th>0</th>\n",
       "      <td>MLP regression-0</td>\n",
       "      <td>0</td>\n",
       "      <td>auto_harm_topmri_regr.0</td>\n",
       "      <td>7.598647</td>\n",
       "      <td>0.677573</td>\n",
       "      <td>0.683343</td>\n",
       "    </tr>\n",
       "    <tr>\n",
       "      <th>0</th>\n",
       "      <td>MLP regression-1</td>\n",
       "      <td>1</td>\n",
       "      <td>auto_harm_topmri_regr.1</td>\n",
       "      <td>8.574429</td>\n",
       "      <td>0.607757</td>\n",
       "      <td>0.610866</td>\n",
       "    </tr>\n",
       "    <tr>\n",
       "      <th>0</th>\n",
       "      <td>MLP regression-2</td>\n",
       "      <td>2</td>\n",
       "      <td>auto_harm_topmri_regr.2</td>\n",
       "      <td>8.534308</td>\n",
       "      <td>0.582714</td>\n",
       "      <td>0.605163</td>\n",
       "    </tr>\n",
       "    <tr>\n",
       "      <th>0</th>\n",
       "      <td>MLP regression-3</td>\n",
       "      <td>3</td>\n",
       "      <td>auto_harm_topmri_regr.3</td>\n",
       "      <td>8.259865</td>\n",
       "      <td>0.658293</td>\n",
       "      <td>0.662879</td>\n",
       "    </tr>\n",
       "    <tr>\n",
       "      <th>0</th>\n",
       "      <td>MLP regression-4</td>\n",
       "      <td>4</td>\n",
       "      <td>auto_harm_topmri_regr.4</td>\n",
       "      <td>8.356809</td>\n",
       "      <td>0.630129</td>\n",
       "      <td>0.630142</td>\n",
       "    </tr>\n",
       "  </tbody>\n",
       "</table>\n",
       "</div>"
      ],
      "text/plain": [
       "          algorithm fold                file_name       mae        r2  \\\n",
       "0  MLP regression-0    0  auto_harm_topmri_regr.0  7.598647  0.677573   \n",
       "0  MLP regression-1    1  auto_harm_topmri_regr.1  8.574429  0.607757   \n",
       "0  MLP regression-2    2  auto_harm_topmri_regr.2  8.534308  0.582714   \n",
       "0  MLP regression-3    3  auto_harm_topmri_regr.3  8.259865  0.658293   \n",
       "0  MLP regression-4    4  auto_harm_topmri_regr.4  8.356809  0.630129   \n",
       "\n",
       "   explained_variance  \n",
       "0            0.683343  \n",
       "0            0.610866  \n",
       "0            0.605163  \n",
       "0            0.662879  \n",
       "0            0.630142  "
      ]
     },
     "execution_count": 31,
     "metadata": {},
     "output_type": "execute_result"
    }
   ],
   "source": [
    "regr_k_frame, regr_y_frame, models = sep.stratified_cat_and_cont_categories_shuffle_split('MLP regression', 'auto_harm_topmri_regr',   MLPRegressor(random_state=1, max_iter=700), ml_matrix, X, y)\n",
    "regr_k_frame"
   ]
  },
  {
   "cell_type": "code",
   "execution_count": 32,
   "id": "36",
   "metadata": {
    "tags": []
   },
   "outputs": [],
   "source": [
    "regr_k_frame.to_csv(output_folder + '/auto_harmonized_topmri_regr_k_frame.csv')"
   ]
  },
  {
   "cell_type": "code",
   "execution_count": 33,
   "id": "37",
   "metadata": {
    "tags": []
   },
   "outputs": [
    {
     "data": {
      "text/html": [
       "<div>\n",
       "<style scoped>\n",
       "    .dataframe tbody tr th:only-of-type {\n",
       "        vertical-align: middle;\n",
       "    }\n",
       "\n",
       "    .dataframe tbody tr th {\n",
       "        vertical-align: top;\n",
       "    }\n",
       "\n",
       "    .dataframe thead th {\n",
       "        text-align: right;\n",
       "    }\n",
       "</style>\n",
       "<table border=\"1\" class=\"dataframe\">\n",
       "  <thead>\n",
       "    <tr style=\"text-align: right;\">\n",
       "      <th></th>\n",
       "      <th>algorithm</th>\n",
       "      <th>file_name</th>\n",
       "      <th>mae</th>\n",
       "      <th>r2</th>\n",
       "      <th>explained_variance</th>\n",
       "    </tr>\n",
       "  </thead>\n",
       "  <tbody>\n",
       "    <tr>\n",
       "      <th>0</th>\n",
       "      <td>0    MLP regression-0\n",
       "0    MLP regression-1\n",
       "0 ...</td>\n",
       "      <td>0    auto_harm_topmri_regr.0\n",
       "0    auto_harm_to...</td>\n",
       "      <td>8.264812</td>\n",
       "      <td>0.631293</td>\n",
       "      <td>0.638478</td>\n",
       "    </tr>\n",
       "  </tbody>\n",
       "</table>\n",
       "</div>"
      ],
      "text/plain": [
       "                                           algorithm  \\\n",
       "0  0    MLP regression-0\n",
       "0    MLP regression-1\n",
       "0 ...   \n",
       "\n",
       "                                           file_name       mae        r2  \\\n",
       "0  0    auto_harm_topmri_regr.0\n",
       "0    auto_harm_to...  8.264812  0.631293   \n",
       "\n",
       "   explained_variance  \n",
       "0            0.638478  "
      ]
     },
     "execution_count": 33,
     "metadata": {},
     "output_type": "execute_result"
    }
   ],
   "source": [
    "avg_regr = sep.avg_k_folds(regr_k_frame)\n",
    "avg_regr"
   ]
  },
  {
   "cell_type": "code",
   "execution_count": 34,
   "id": "38",
   "metadata": {
    "tags": []
   },
   "outputs": [
    {
     "data": {
      "text/html": [
       "<div>\n",
       "<style scoped>\n",
       "    .dataframe tbody tr th:only-of-type {\n",
       "        vertical-align: middle;\n",
       "    }\n",
       "\n",
       "    .dataframe tbody tr th {\n",
       "        vertical-align: top;\n",
       "    }\n",
       "\n",
       "    .dataframe thead th {\n",
       "        text-align: right;\n",
       "    }\n",
       "</style>\n",
       "<table border=\"1\" class=\"dataframe\">\n",
       "  <thead>\n",
       "    <tr style=\"text-align: right;\">\n",
       "      <th></th>\n",
       "      <th>y_test</th>\n",
       "      <th>y_pred</th>\n",
       "    </tr>\n",
       "  </thead>\n",
       "  <tbody>\n",
       "    <tr>\n",
       "      <th>0</th>\n",
       "      <td>31.940000</td>\n",
       "      <td>38.408203</td>\n",
       "    </tr>\n",
       "    <tr>\n",
       "      <th>1</th>\n",
       "      <td>67.178082</td>\n",
       "      <td>72.825115</td>\n",
       "    </tr>\n",
       "    <tr>\n",
       "      <th>2</th>\n",
       "      <td>74.448087</td>\n",
       "      <td>58.133981</td>\n",
       "    </tr>\n",
       "    <tr>\n",
       "      <th>3</th>\n",
       "      <td>53.189041</td>\n",
       "      <td>46.289458</td>\n",
       "    </tr>\n",
       "    <tr>\n",
       "      <th>4</th>\n",
       "      <td>46.750000</td>\n",
       "      <td>39.190618</td>\n",
       "    </tr>\n",
       "    <tr>\n",
       "      <th>...</th>\n",
       "      <td>...</td>\n",
       "      <td>...</td>\n",
       "    </tr>\n",
       "    <tr>\n",
       "      <th>217</th>\n",
       "      <td>18.150000</td>\n",
       "      <td>24.644396</td>\n",
       "    </tr>\n",
       "    <tr>\n",
       "      <th>218</th>\n",
       "      <td>70.715068</td>\n",
       "      <td>76.734094</td>\n",
       "    </tr>\n",
       "    <tr>\n",
       "      <th>219</th>\n",
       "      <td>66.208219</td>\n",
       "      <td>45.989480</td>\n",
       "    </tr>\n",
       "    <tr>\n",
       "      <th>220</th>\n",
       "      <td>23.930000</td>\n",
       "      <td>32.530456</td>\n",
       "    </tr>\n",
       "    <tr>\n",
       "      <th>221</th>\n",
       "      <td>28.561644</td>\n",
       "      <td>23.580568</td>\n",
       "    </tr>\n",
       "  </tbody>\n",
       "</table>\n",
       "<p>1110 rows × 2 columns</p>\n",
       "</div>"
      ],
      "text/plain": [
       "        y_test     y_pred\n",
       "0    31.940000  38.408203\n",
       "1    67.178082  72.825115\n",
       "2    74.448087  58.133981\n",
       "3    53.189041  46.289458\n",
       "4    46.750000  39.190618\n",
       "..         ...        ...\n",
       "217  18.150000  24.644396\n",
       "218  70.715068  76.734094\n",
       "219  66.208219  45.989480\n",
       "220  23.930000  32.530456\n",
       "221  28.561644  23.580568\n",
       "\n",
       "[1110 rows x 2 columns]"
      ]
     },
     "execution_count": 34,
     "metadata": {},
     "output_type": "execute_result"
    }
   ],
   "source": [
    "regr_y_frame"
   ]
  },
  {
   "cell_type": "code",
   "execution_count": 35,
   "id": "39",
   "metadata": {
    "tags": []
   },
   "outputs": [],
   "source": [
    "regr_y_frame.to_csv(output_folder + '/auto_harmonized_topmri_regr_y_frame.csv')"
   ]
  },
  {
   "cell_type": "code",
   "execution_count": 36,
   "id": "40",
   "metadata": {
    "tags": []
   },
   "outputs": [
    {
     "data": {
      "text/html": [
       "<style>#sk-container-id-4 {color: black;}#sk-container-id-4 pre{padding: 0;}#sk-container-id-4 div.sk-toggleable {background-color: white;}#sk-container-id-4 label.sk-toggleable__label {cursor: pointer;display: block;width: 100%;margin-bottom: 0;padding: 0.3em;box-sizing: border-box;text-align: center;}#sk-container-id-4 label.sk-toggleable__label-arrow:before {content: \"▸\";float: left;margin-right: 0.25em;color: #696969;}#sk-container-id-4 label.sk-toggleable__label-arrow:hover:before {color: black;}#sk-container-id-4 div.sk-estimator:hover label.sk-toggleable__label-arrow:before {color: black;}#sk-container-id-4 div.sk-toggleable__content {max-height: 0;max-width: 0;overflow: hidden;text-align: left;background-color: #f0f8ff;}#sk-container-id-4 div.sk-toggleable__content pre {margin: 0.2em;color: black;border-radius: 0.25em;background-color: #f0f8ff;}#sk-container-id-4 input.sk-toggleable__control:checked~div.sk-toggleable__content {max-height: 200px;max-width: 100%;overflow: auto;}#sk-container-id-4 input.sk-toggleable__control:checked~label.sk-toggleable__label-arrow:before {content: \"▾\";}#sk-container-id-4 div.sk-estimator input.sk-toggleable__control:checked~label.sk-toggleable__label {background-color: #d4ebff;}#sk-container-id-4 div.sk-label input.sk-toggleable__control:checked~label.sk-toggleable__label {background-color: #d4ebff;}#sk-container-id-4 input.sk-hidden--visually {border: 0;clip: rect(1px 1px 1px 1px);clip: rect(1px, 1px, 1px, 1px);height: 1px;margin: -1px;overflow: hidden;padding: 0;position: absolute;width: 1px;}#sk-container-id-4 div.sk-estimator {font-family: monospace;background-color: #f0f8ff;border: 1px dotted black;border-radius: 0.25em;box-sizing: border-box;margin-bottom: 0.5em;}#sk-container-id-4 div.sk-estimator:hover {background-color: #d4ebff;}#sk-container-id-4 div.sk-parallel-item::after {content: \"\";width: 100%;border-bottom: 1px solid gray;flex-grow: 1;}#sk-container-id-4 div.sk-label:hover label.sk-toggleable__label {background-color: #d4ebff;}#sk-container-id-4 div.sk-serial::before {content: \"\";position: absolute;border-left: 1px solid gray;box-sizing: border-box;top: 0;bottom: 0;left: 50%;z-index: 0;}#sk-container-id-4 div.sk-serial {display: flex;flex-direction: column;align-items: center;background-color: white;padding-right: 0.2em;padding-left: 0.2em;position: relative;}#sk-container-id-4 div.sk-item {position: relative;z-index: 1;}#sk-container-id-4 div.sk-parallel {display: flex;align-items: stretch;justify-content: center;background-color: white;position: relative;}#sk-container-id-4 div.sk-item::before, #sk-container-id-4 div.sk-parallel-item::before {content: \"\";position: absolute;border-left: 1px solid gray;box-sizing: border-box;top: 0;bottom: 0;left: 50%;z-index: -1;}#sk-container-id-4 div.sk-parallel-item {display: flex;flex-direction: column;z-index: 1;position: relative;background-color: white;}#sk-container-id-4 div.sk-parallel-item:first-child::after {align-self: flex-end;width: 50%;}#sk-container-id-4 div.sk-parallel-item:last-child::after {align-self: flex-start;width: 50%;}#sk-container-id-4 div.sk-parallel-item:only-child::after {width: 0;}#sk-container-id-4 div.sk-dashed-wrapped {border: 1px dashed gray;margin: 0 0.4em 0.5em 0.4em;box-sizing: border-box;padding-bottom: 0.4em;background-color: white;}#sk-container-id-4 div.sk-label label {font-family: monospace;font-weight: bold;display: inline-block;line-height: 1.2em;}#sk-container-id-4 div.sk-label-container {text-align: center;}#sk-container-id-4 div.sk-container {/* jupyter's `normalize.less` sets `[hidden] { display: none; }` but bootstrap.min.css set `[hidden] { display: none !important; }` so we also need the `!important` here to be able to override the default hidden behavior on the sphinx rendered scikit-learn.org. See: https://github.com/scikit-learn/scikit-learn/issues/21755 */display: inline-block !important;position: relative;}#sk-container-id-4 div.sk-text-repr-fallback {display: none;}</style><div id=\"sk-container-id-4\" class=\"sk-top-container\"><div class=\"sk-text-repr-fallback\"><pre>MLPRegressor(max_iter=700, random_state=1)</pre><b>In a Jupyter environment, please rerun this cell to show the HTML representation or trust the notebook. <br />On GitHub, the HTML representation is unable to render, please try loading this page with nbviewer.org.</b></div><div class=\"sk-container\" hidden><div class=\"sk-item\"><div class=\"sk-estimator sk-toggleable\"><input class=\"sk-toggleable__control sk-hidden--visually\" id=\"sk-estimator-id-4\" type=\"checkbox\" checked><label for=\"sk-estimator-id-4\" class=\"sk-toggleable__label sk-toggleable__label-arrow\">MLPRegressor</label><div class=\"sk-toggleable__content\"><pre>MLPRegressor(max_iter=700, random_state=1)</pre></div></div></div></div></div>"
      ],
      "text/plain": [
       "MLPRegressor(max_iter=700, random_state=1)"
      ]
     },
     "execution_count": 36,
     "metadata": {},
     "output_type": "execute_result"
    }
   ],
   "source": [
    "regr = models[0]\n",
    "regr[0]"
   ]
  },
  {
   "cell_type": "markdown",
   "id": "41",
   "metadata": {},
   "source": [
    "### Note I'm not actually saving the mlp or svr models here because they are not the best performers. if neccesary this can be added"
   ]
  },
  {
   "cell_type": "code",
   "execution_count": 37,
   "id": "42",
   "metadata": {
    "tags": []
   },
   "outputs": [
    {
     "name": "stderr",
     "output_type": "stream",
     "text": [
      "C:\\Projects\\cvasl\\ml_experiments_all_harmonized\\..\\cvasl\\seperated.py:1097: FutureWarning: The behavior of DataFrame concatenation with empty or all-NA entries is deprecated. In a future version, this will no longer exclude empty or all-NA columns when determining the result dtypes. To retain the old behavior, exclude the relevant entries before the concat operation.\n",
      "  mod_results = pd.concat([mod_results, mod_results_current_fold])\n",
      "C:\\Projects\\cvasl\\ml_experiments_all_harmonized\\..\\cvasl\\seperated.py:1097: FutureWarning: The behavior of DataFrame concatenation with empty or all-NA entries is deprecated. In a future version, this will no longer exclude empty or all-NA columns when determining the result dtypes. To retain the old behavior, exclude the relevant entries before the concat operation.\n",
      "  mod_results = pd.concat([mod_results, mod_results_current_fold])\n",
      "C:\\Projects\\cvasl\\ml_experiments_all_harmonized\\..\\cvasl\\seperated.py:1097: FutureWarning: The behavior of DataFrame concatenation with empty or all-NA entries is deprecated. In a future version, this will no longer exclude empty or all-NA columns when determining the result dtypes. To retain the old behavior, exclude the relevant entries before the concat operation.\n",
      "  mod_results = pd.concat([mod_results, mod_results_current_fold])\n",
      "C:\\Projects\\cvasl\\ml_experiments_all_harmonized\\..\\cvasl\\seperated.py:1097: FutureWarning: The behavior of DataFrame concatenation with empty or all-NA entries is deprecated. In a future version, this will no longer exclude empty or all-NA columns when determining the result dtypes. To retain the old behavior, exclude the relevant entries before the concat operation.\n",
      "  mod_results = pd.concat([mod_results, mod_results_current_fold])\n",
      "C:\\Projects\\cvasl\\ml_experiments_all_harmonized\\..\\cvasl\\seperated.py:1097: FutureWarning: The behavior of DataFrame concatenation with empty or all-NA entries is deprecated. In a future version, this will no longer exclude empty or all-NA columns when determining the result dtypes. To retain the old behavior, exclude the relevant entries before the concat operation.\n",
      "  mod_results = pd.concat([mod_results, mod_results_current_fold])\n"
     ]
    },
    {
     "data": {
      "text/html": [
       "<div>\n",
       "<style scoped>\n",
       "    .dataframe tbody tr th:only-of-type {\n",
       "        vertical-align: middle;\n",
       "    }\n",
       "\n",
       "    .dataframe tbody tr th {\n",
       "        vertical-align: top;\n",
       "    }\n",
       "\n",
       "    .dataframe thead th {\n",
       "        text-align: right;\n",
       "    }\n",
       "</style>\n",
       "<table border=\"1\" class=\"dataframe\">\n",
       "  <thead>\n",
       "    <tr style=\"text-align: right;\">\n",
       "      <th></th>\n",
       "      <th>algorithm</th>\n",
       "      <th>fold</th>\n",
       "      <th>file_name</th>\n",
       "      <th>mae</th>\n",
       "      <th>r2</th>\n",
       "      <th>explained_variance</th>\n",
       "    </tr>\n",
       "  </thead>\n",
       "  <tbody>\n",
       "    <tr>\n",
       "      <th>0</th>\n",
       "      <td>support vector reg poly2-0</td>\n",
       "      <td>0</td>\n",
       "      <td>auto_harm_topmri_svrp2.0</td>\n",
       "      <td>14.672366</td>\n",
       "      <td>-4.366201</td>\n",
       "      <td>-4.325845</td>\n",
       "    </tr>\n",
       "    <tr>\n",
       "      <th>0</th>\n",
       "      <td>support vector reg poly2-1</td>\n",
       "      <td>1</td>\n",
       "      <td>auto_harm_topmri_svrp2.1</td>\n",
       "      <td>12.434815</td>\n",
       "      <td>0.171310</td>\n",
       "      <td>0.184064</td>\n",
       "    </tr>\n",
       "    <tr>\n",
       "      <th>0</th>\n",
       "      <td>support vector reg poly2-2</td>\n",
       "      <td>2</td>\n",
       "      <td>auto_harm_topmri_svrp2.2</td>\n",
       "      <td>12.269147</td>\n",
       "      <td>0.207944</td>\n",
       "      <td>0.212277</td>\n",
       "    </tr>\n",
       "    <tr>\n",
       "      <th>0</th>\n",
       "      <td>support vector reg poly2-3</td>\n",
       "      <td>3</td>\n",
       "      <td>auto_harm_topmri_svrp2.3</td>\n",
       "      <td>13.132871</td>\n",
       "      <td>0.151488</td>\n",
       "      <td>0.164905</td>\n",
       "    </tr>\n",
       "    <tr>\n",
       "      <th>0</th>\n",
       "      <td>support vector reg poly2-4</td>\n",
       "      <td>4</td>\n",
       "      <td>auto_harm_topmri_svrp2.4</td>\n",
       "      <td>12.254816</td>\n",
       "      <td>0.225654</td>\n",
       "      <td>0.230400</td>\n",
       "    </tr>\n",
       "  </tbody>\n",
       "</table>\n",
       "</div>"
      ],
      "text/plain": [
       "                    algorithm fold                 file_name        mae  \\\n",
       "0  support vector reg poly2-0    0  auto_harm_topmri_svrp2.0  14.672366   \n",
       "0  support vector reg poly2-1    1  auto_harm_topmri_svrp2.1  12.434815   \n",
       "0  support vector reg poly2-2    2  auto_harm_topmri_svrp2.2  12.269147   \n",
       "0  support vector reg poly2-3    3  auto_harm_topmri_svrp2.3  13.132871   \n",
       "0  support vector reg poly2-4    4  auto_harm_topmri_svrp2.4  12.254816   \n",
       "\n",
       "         r2  explained_variance  \n",
       "0 -4.366201           -4.325845  \n",
       "0  0.171310            0.184064  \n",
       "0  0.207944            0.212277  \n",
       "0  0.151488            0.164905  \n",
       "0  0.225654            0.230400  "
      ]
     },
     "execution_count": 37,
     "metadata": {},
     "output_type": "execute_result"
    }
   ],
   "source": [
    "svrp2_k_frame, svrp2_y_frame, models = sep.stratified_cat_and_cont_categories_shuffle_split('support vector reg poly2', 'auto_harm_topmri_svrp2',   SVR(C=1.0, kernel='poly', degree =2, epsilon=0.2), ml_matrix, X, y)\n",
    "svrp2_k_frame"
   ]
  },
  {
   "cell_type": "code",
   "execution_count": 38,
   "id": "43",
   "metadata": {
    "tags": []
   },
   "outputs": [],
   "source": [
    "svrp2_k_frame.to_csv(output_folder + '/auto_harmonized_topmri_svrp2_k_frame.csv')"
   ]
  },
  {
   "cell_type": "code",
   "execution_count": 39,
   "id": "44",
   "metadata": {
    "tags": []
   },
   "outputs": [
    {
     "data": {
      "text/html": [
       "<div>\n",
       "<style scoped>\n",
       "    .dataframe tbody tr th:only-of-type {\n",
       "        vertical-align: middle;\n",
       "    }\n",
       "\n",
       "    .dataframe tbody tr th {\n",
       "        vertical-align: top;\n",
       "    }\n",
       "\n",
       "    .dataframe thead th {\n",
       "        text-align: right;\n",
       "    }\n",
       "</style>\n",
       "<table border=\"1\" class=\"dataframe\">\n",
       "  <thead>\n",
       "    <tr style=\"text-align: right;\">\n",
       "      <th></th>\n",
       "      <th>algorithm</th>\n",
       "      <th>file_name</th>\n",
       "      <th>mae</th>\n",
       "      <th>r2</th>\n",
       "      <th>explained_variance</th>\n",
       "    </tr>\n",
       "  </thead>\n",
       "  <tbody>\n",
       "    <tr>\n",
       "      <th>0</th>\n",
       "      <td>0    support vector reg poly2-0\n",
       "0    support v...</td>\n",
       "      <td>0    auto_harm_topmri_svrp2.0\n",
       "0    auto_harm_t...</td>\n",
       "      <td>12.952803</td>\n",
       "      <td>-0.721961</td>\n",
       "      <td>-0.70684</td>\n",
       "    </tr>\n",
       "  </tbody>\n",
       "</table>\n",
       "</div>"
      ],
      "text/plain": [
       "                                           algorithm  \\\n",
       "0  0    support vector reg poly2-0\n",
       "0    support v...   \n",
       "\n",
       "                                           file_name        mae        r2  \\\n",
       "0  0    auto_harm_topmri_svrp2.0\n",
       "0    auto_harm_t...  12.952803 -0.721961   \n",
       "\n",
       "   explained_variance  \n",
       "0            -0.70684  "
      ]
     },
     "execution_count": 39,
     "metadata": {},
     "output_type": "execute_result"
    }
   ],
   "source": [
    "avg_svrp2 = sep.avg_k_folds(svrp2_k_frame)\n",
    "avg_svrp2"
   ]
  },
  {
   "cell_type": "code",
   "execution_count": 40,
   "id": "45",
   "metadata": {
    "tags": []
   },
   "outputs": [
    {
     "data": {
      "text/html": [
       "<div>\n",
       "<style scoped>\n",
       "    .dataframe tbody tr th:only-of-type {\n",
       "        vertical-align: middle;\n",
       "    }\n",
       "\n",
       "    .dataframe tbody tr th {\n",
       "        vertical-align: top;\n",
       "    }\n",
       "\n",
       "    .dataframe thead th {\n",
       "        text-align: right;\n",
       "    }\n",
       "</style>\n",
       "<table border=\"1\" class=\"dataframe\">\n",
       "  <thead>\n",
       "    <tr style=\"text-align: right;\">\n",
       "      <th></th>\n",
       "      <th>y_test</th>\n",
       "      <th>y_pred</th>\n",
       "    </tr>\n",
       "  </thead>\n",
       "  <tbody>\n",
       "    <tr>\n",
       "      <th>0</th>\n",
       "      <td>31.940000</td>\n",
       "      <td>49.919381</td>\n",
       "    </tr>\n",
       "    <tr>\n",
       "      <th>1</th>\n",
       "      <td>67.178082</td>\n",
       "      <td>56.334035</td>\n",
       "    </tr>\n",
       "    <tr>\n",
       "      <th>2</th>\n",
       "      <td>74.448087</td>\n",
       "      <td>51.899517</td>\n",
       "    </tr>\n",
       "    <tr>\n",
       "      <th>3</th>\n",
       "      <td>53.189041</td>\n",
       "      <td>47.208653</td>\n",
       "    </tr>\n",
       "    <tr>\n",
       "      <th>4</th>\n",
       "      <td>46.750000</td>\n",
       "      <td>47.020939</td>\n",
       "    </tr>\n",
       "    <tr>\n",
       "      <th>...</th>\n",
       "      <td>...</td>\n",
       "      <td>...</td>\n",
       "    </tr>\n",
       "    <tr>\n",
       "      <th>217</th>\n",
       "      <td>18.150000</td>\n",
       "      <td>40.029240</td>\n",
       "    </tr>\n",
       "    <tr>\n",
       "      <th>218</th>\n",
       "      <td>70.715068</td>\n",
       "      <td>54.865394</td>\n",
       "    </tr>\n",
       "    <tr>\n",
       "      <th>219</th>\n",
       "      <td>66.208219</td>\n",
       "      <td>43.954541</td>\n",
       "    </tr>\n",
       "    <tr>\n",
       "      <th>220</th>\n",
       "      <td>23.930000</td>\n",
       "      <td>47.300297</td>\n",
       "    </tr>\n",
       "    <tr>\n",
       "      <th>221</th>\n",
       "      <td>28.561644</td>\n",
       "      <td>39.695783</td>\n",
       "    </tr>\n",
       "  </tbody>\n",
       "</table>\n",
       "<p>1110 rows × 2 columns</p>\n",
       "</div>"
      ],
      "text/plain": [
       "        y_test     y_pred\n",
       "0    31.940000  49.919381\n",
       "1    67.178082  56.334035\n",
       "2    74.448087  51.899517\n",
       "3    53.189041  47.208653\n",
       "4    46.750000  47.020939\n",
       "..         ...        ...\n",
       "217  18.150000  40.029240\n",
       "218  70.715068  54.865394\n",
       "219  66.208219  43.954541\n",
       "220  23.930000  47.300297\n",
       "221  28.561644  39.695783\n",
       "\n",
       "[1110 rows x 2 columns]"
      ]
     },
     "execution_count": 40,
     "metadata": {},
     "output_type": "execute_result"
    }
   ],
   "source": [
    "svrp2_y_frame"
   ]
  },
  {
   "cell_type": "code",
   "execution_count": 41,
   "id": "46",
   "metadata": {
    "tags": []
   },
   "outputs": [],
   "source": [
    "svrp2_y_frame.to_csv(output_folder + '/auto_harmonized_topmri_svrp2_y_frame.csv')"
   ]
  },
  {
   "cell_type": "code",
   "execution_count": 42,
   "id": "47",
   "metadata": {
    "tags": []
   },
   "outputs": [
    {
     "data": {
      "text/html": [
       "<style>#sk-container-id-5 {color: black;}#sk-container-id-5 pre{padding: 0;}#sk-container-id-5 div.sk-toggleable {background-color: white;}#sk-container-id-5 label.sk-toggleable__label {cursor: pointer;display: block;width: 100%;margin-bottom: 0;padding: 0.3em;box-sizing: border-box;text-align: center;}#sk-container-id-5 label.sk-toggleable__label-arrow:before {content: \"▸\";float: left;margin-right: 0.25em;color: #696969;}#sk-container-id-5 label.sk-toggleable__label-arrow:hover:before {color: black;}#sk-container-id-5 div.sk-estimator:hover label.sk-toggleable__label-arrow:before {color: black;}#sk-container-id-5 div.sk-toggleable__content {max-height: 0;max-width: 0;overflow: hidden;text-align: left;background-color: #f0f8ff;}#sk-container-id-5 div.sk-toggleable__content pre {margin: 0.2em;color: black;border-radius: 0.25em;background-color: #f0f8ff;}#sk-container-id-5 input.sk-toggleable__control:checked~div.sk-toggleable__content {max-height: 200px;max-width: 100%;overflow: auto;}#sk-container-id-5 input.sk-toggleable__control:checked~label.sk-toggleable__label-arrow:before {content: \"▾\";}#sk-container-id-5 div.sk-estimator input.sk-toggleable__control:checked~label.sk-toggleable__label {background-color: #d4ebff;}#sk-container-id-5 div.sk-label input.sk-toggleable__control:checked~label.sk-toggleable__label {background-color: #d4ebff;}#sk-container-id-5 input.sk-hidden--visually {border: 0;clip: rect(1px 1px 1px 1px);clip: rect(1px, 1px, 1px, 1px);height: 1px;margin: -1px;overflow: hidden;padding: 0;position: absolute;width: 1px;}#sk-container-id-5 div.sk-estimator {font-family: monospace;background-color: #f0f8ff;border: 1px dotted black;border-radius: 0.25em;box-sizing: border-box;margin-bottom: 0.5em;}#sk-container-id-5 div.sk-estimator:hover {background-color: #d4ebff;}#sk-container-id-5 div.sk-parallel-item::after {content: \"\";width: 100%;border-bottom: 1px solid gray;flex-grow: 1;}#sk-container-id-5 div.sk-label:hover label.sk-toggleable__label {background-color: #d4ebff;}#sk-container-id-5 div.sk-serial::before {content: \"\";position: absolute;border-left: 1px solid gray;box-sizing: border-box;top: 0;bottom: 0;left: 50%;z-index: 0;}#sk-container-id-5 div.sk-serial {display: flex;flex-direction: column;align-items: center;background-color: white;padding-right: 0.2em;padding-left: 0.2em;position: relative;}#sk-container-id-5 div.sk-item {position: relative;z-index: 1;}#sk-container-id-5 div.sk-parallel {display: flex;align-items: stretch;justify-content: center;background-color: white;position: relative;}#sk-container-id-5 div.sk-item::before, #sk-container-id-5 div.sk-parallel-item::before {content: \"\";position: absolute;border-left: 1px solid gray;box-sizing: border-box;top: 0;bottom: 0;left: 50%;z-index: -1;}#sk-container-id-5 div.sk-parallel-item {display: flex;flex-direction: column;z-index: 1;position: relative;background-color: white;}#sk-container-id-5 div.sk-parallel-item:first-child::after {align-self: flex-end;width: 50%;}#sk-container-id-5 div.sk-parallel-item:last-child::after {align-self: flex-start;width: 50%;}#sk-container-id-5 div.sk-parallel-item:only-child::after {width: 0;}#sk-container-id-5 div.sk-dashed-wrapped {border: 1px dashed gray;margin: 0 0.4em 0.5em 0.4em;box-sizing: border-box;padding-bottom: 0.4em;background-color: white;}#sk-container-id-5 div.sk-label label {font-family: monospace;font-weight: bold;display: inline-block;line-height: 1.2em;}#sk-container-id-5 div.sk-label-container {text-align: center;}#sk-container-id-5 div.sk-container {/* jupyter's `normalize.less` sets `[hidden] { display: none; }` but bootstrap.min.css set `[hidden] { display: none !important; }` so we also need the `!important` here to be able to override the default hidden behavior on the sphinx rendered scikit-learn.org. See: https://github.com/scikit-learn/scikit-learn/issues/21755 */display: inline-block !important;position: relative;}#sk-container-id-5 div.sk-text-repr-fallback {display: none;}</style><div id=\"sk-container-id-5\" class=\"sk-top-container\"><div class=\"sk-text-repr-fallback\"><pre>SVR(degree=2, epsilon=0.2, kernel=&#x27;poly&#x27;)</pre><b>In a Jupyter environment, please rerun this cell to show the HTML representation or trust the notebook. <br />On GitHub, the HTML representation is unable to render, please try loading this page with nbviewer.org.</b></div><div class=\"sk-container\" hidden><div class=\"sk-item\"><div class=\"sk-estimator sk-toggleable\"><input class=\"sk-toggleable__control sk-hidden--visually\" id=\"sk-estimator-id-5\" type=\"checkbox\" checked><label for=\"sk-estimator-id-5\" class=\"sk-toggleable__label sk-toggleable__label-arrow\">SVR</label><div class=\"sk-toggleable__content\"><pre>SVR(degree=2, epsilon=0.2, kernel=&#x27;poly&#x27;)</pre></div></div></div></div></div>"
      ],
      "text/plain": [
       "SVR(degree=2, epsilon=0.2, kernel='poly')"
      ]
     },
     "execution_count": 42,
     "metadata": {},
     "output_type": "execute_result"
    }
   ],
   "source": [
    "svrp2 = models[0]\n",
    "svrp2[0]"
   ]
  },
  {
   "cell_type": "code",
   "execution_count": 43,
   "id": "48",
   "metadata": {
    "tags": []
   },
   "outputs": [
    {
     "name": "stderr",
     "output_type": "stream",
     "text": [
      "C:\\Projects\\cvasl\\ml_experiments_all_harmonized\\..\\cvasl\\seperated.py:1097: FutureWarning: The behavior of DataFrame concatenation with empty or all-NA entries is deprecated. In a future version, this will no longer exclude empty or all-NA columns when determining the result dtypes. To retain the old behavior, exclude the relevant entries before the concat operation.\n",
      "  mod_results = pd.concat([mod_results, mod_results_current_fold])\n",
      "C:\\Projects\\cvasl\\ml_experiments_all_harmonized\\..\\cvasl\\seperated.py:1097: FutureWarning: The behavior of DataFrame concatenation with empty or all-NA entries is deprecated. In a future version, this will no longer exclude empty or all-NA columns when determining the result dtypes. To retain the old behavior, exclude the relevant entries before the concat operation.\n",
      "  mod_results = pd.concat([mod_results, mod_results_current_fold])\n",
      "C:\\Projects\\cvasl\\ml_experiments_all_harmonized\\..\\cvasl\\seperated.py:1097: FutureWarning: The behavior of DataFrame concatenation with empty or all-NA entries is deprecated. In a future version, this will no longer exclude empty or all-NA columns when determining the result dtypes. To retain the old behavior, exclude the relevant entries before the concat operation.\n",
      "  mod_results = pd.concat([mod_results, mod_results_current_fold])\n",
      "C:\\Projects\\cvasl\\ml_experiments_all_harmonized\\..\\cvasl\\seperated.py:1097: FutureWarning: The behavior of DataFrame concatenation with empty or all-NA entries is deprecated. In a future version, this will no longer exclude empty or all-NA columns when determining the result dtypes. To retain the old behavior, exclude the relevant entries before the concat operation.\n",
      "  mod_results = pd.concat([mod_results, mod_results_current_fold])\n",
      "C:\\Projects\\cvasl\\ml_experiments_all_harmonized\\..\\cvasl\\seperated.py:1097: FutureWarning: The behavior of DataFrame concatenation with empty or all-NA entries is deprecated. In a future version, this will no longer exclude empty or all-NA columns when determining the result dtypes. To retain the old behavior, exclude the relevant entries before the concat operation.\n",
      "  mod_results = pd.concat([mod_results, mod_results_current_fold])\n"
     ]
    },
    {
     "data": {
      "text/html": [
       "<div>\n",
       "<style scoped>\n",
       "    .dataframe tbody tr th:only-of-type {\n",
       "        vertical-align: middle;\n",
       "    }\n",
       "\n",
       "    .dataframe tbody tr th {\n",
       "        vertical-align: top;\n",
       "    }\n",
       "\n",
       "    .dataframe thead th {\n",
       "        text-align: right;\n",
       "    }\n",
       "</style>\n",
       "<table border=\"1\" class=\"dataframe\">\n",
       "  <thead>\n",
       "    <tr style=\"text-align: right;\">\n",
       "      <th></th>\n",
       "      <th>algorithm</th>\n",
       "      <th>fold</th>\n",
       "      <th>file_name</th>\n",
       "      <th>mae</th>\n",
       "      <th>r2</th>\n",
       "      <th>explained_variance</th>\n",
       "    </tr>\n",
       "  </thead>\n",
       "  <tbody>\n",
       "    <tr>\n",
       "      <th>0</th>\n",
       "      <td>elasticnetCV-0</td>\n",
       "      <td>0</td>\n",
       "      <td>auto_harm_topmri_eregr.0</td>\n",
       "      <td>9.170685</td>\n",
       "      <td>0.128204</td>\n",
       "      <td>0.131838</td>\n",
       "    </tr>\n",
       "    <tr>\n",
       "      <th>0</th>\n",
       "      <td>elasticnetCV-1</td>\n",
       "      <td>1</td>\n",
       "      <td>auto_harm_topmri_eregr.1</td>\n",
       "      <td>9.857800</td>\n",
       "      <td>0.472961</td>\n",
       "      <td>0.477372</td>\n",
       "    </tr>\n",
       "    <tr>\n",
       "      <th>0</th>\n",
       "      <td>elasticnetCV-2</td>\n",
       "      <td>2</td>\n",
       "      <td>auto_harm_topmri_eregr.2</td>\n",
       "      <td>9.610719</td>\n",
       "      <td>0.479846</td>\n",
       "      <td>0.479862</td>\n",
       "    </tr>\n",
       "    <tr>\n",
       "      <th>0</th>\n",
       "      <td>elasticnetCV-3</td>\n",
       "      <td>3</td>\n",
       "      <td>auto_harm_topmri_eregr.3</td>\n",
       "      <td>9.398829</td>\n",
       "      <td>0.552105</td>\n",
       "      <td>0.552279</td>\n",
       "    </tr>\n",
       "    <tr>\n",
       "      <th>0</th>\n",
       "      <td>elasticnetCV-4</td>\n",
       "      <td>4</td>\n",
       "      <td>auto_harm_topmri_eregr.4</td>\n",
       "      <td>9.807457</td>\n",
       "      <td>0.485547</td>\n",
       "      <td>0.486537</td>\n",
       "    </tr>\n",
       "  </tbody>\n",
       "</table>\n",
       "</div>"
      ],
      "text/plain": [
       "        algorithm fold                 file_name       mae        r2  \\\n",
       "0  elasticnetCV-0    0  auto_harm_topmri_eregr.0  9.170685  0.128204   \n",
       "0  elasticnetCV-1    1  auto_harm_topmri_eregr.1  9.857800  0.472961   \n",
       "0  elasticnetCV-2    2  auto_harm_topmri_eregr.2  9.610719  0.479846   \n",
       "0  elasticnetCV-3    3  auto_harm_topmri_eregr.3  9.398829  0.552105   \n",
       "0  elasticnetCV-4    4  auto_harm_topmri_eregr.4  9.807457  0.485547   \n",
       "\n",
       "   explained_variance  \n",
       "0            0.131838  \n",
       "0            0.477372  \n",
       "0            0.479862  \n",
       "0            0.552279  \n",
       "0            0.486537  "
      ]
     },
     "execution_count": 43,
     "metadata": {},
     "output_type": "execute_result"
    }
   ],
   "source": [
    "eregr_k_frame, eregr_y_frame, models = sep.stratified_cat_and_cont_categories_shuffle_split('elasticnetCV', 'auto_harm_topmri_eregr',  ElasticNetCV(cv=5, random_state=12), ml_matrix, X, y)\n",
    "eregr_k_frame"
   ]
  },
  {
   "cell_type": "code",
   "execution_count": 44,
   "id": "49",
   "metadata": {
    "tags": []
   },
   "outputs": [],
   "source": [
    "eregr_k_frame.to_csv(output_folder + '/auto_harmonized_topmri_eregr_k_frame.csv')"
   ]
  },
  {
   "cell_type": "code",
   "execution_count": 45,
   "id": "50",
   "metadata": {
    "tags": []
   },
   "outputs": [
    {
     "data": {
      "text/html": [
       "<div>\n",
       "<style scoped>\n",
       "    .dataframe tbody tr th:only-of-type {\n",
       "        vertical-align: middle;\n",
       "    }\n",
       "\n",
       "    .dataframe tbody tr th {\n",
       "        vertical-align: top;\n",
       "    }\n",
       "\n",
       "    .dataframe thead th {\n",
       "        text-align: right;\n",
       "    }\n",
       "</style>\n",
       "<table border=\"1\" class=\"dataframe\">\n",
       "  <thead>\n",
       "    <tr style=\"text-align: right;\">\n",
       "      <th></th>\n",
       "      <th>algorithm</th>\n",
       "      <th>file_name</th>\n",
       "      <th>mae</th>\n",
       "      <th>r2</th>\n",
       "      <th>explained_variance</th>\n",
       "    </tr>\n",
       "  </thead>\n",
       "  <tbody>\n",
       "    <tr>\n",
       "      <th>0</th>\n",
       "      <td>0    elasticnetCV-0\n",
       "0    elasticnetCV-1\n",
       "0    e...</td>\n",
       "      <td>0    auto_harm_topmri_eregr.0\n",
       "0    auto_harm_t...</td>\n",
       "      <td>9.569098</td>\n",
       "      <td>0.423733</td>\n",
       "      <td>0.425578</td>\n",
       "    </tr>\n",
       "  </tbody>\n",
       "</table>\n",
       "</div>"
      ],
      "text/plain": [
       "                                           algorithm  \\\n",
       "0  0    elasticnetCV-0\n",
       "0    elasticnetCV-1\n",
       "0    e...   \n",
       "\n",
       "                                           file_name       mae        r2  \\\n",
       "0  0    auto_harm_topmri_eregr.0\n",
       "0    auto_harm_t...  9.569098  0.423733   \n",
       "\n",
       "   explained_variance  \n",
       "0            0.425578  "
      ]
     },
     "execution_count": 45,
     "metadata": {},
     "output_type": "execute_result"
    }
   ],
   "source": [
    "avg_eregr = sep.avg_k_folds(eregr_k_frame)\n",
    "avg_eregr"
   ]
  },
  {
   "cell_type": "code",
   "execution_count": 46,
   "id": "51",
   "metadata": {
    "tags": []
   },
   "outputs": [
    {
     "data": {
      "text/html": [
       "<div>\n",
       "<style scoped>\n",
       "    .dataframe tbody tr th:only-of-type {\n",
       "        vertical-align: middle;\n",
       "    }\n",
       "\n",
       "    .dataframe tbody tr th {\n",
       "        vertical-align: top;\n",
       "    }\n",
       "\n",
       "    .dataframe thead th {\n",
       "        text-align: right;\n",
       "    }\n",
       "</style>\n",
       "<table border=\"1\" class=\"dataframe\">\n",
       "  <thead>\n",
       "    <tr style=\"text-align: right;\">\n",
       "      <th></th>\n",
       "      <th>y_test</th>\n",
       "      <th>y_pred</th>\n",
       "    </tr>\n",
       "  </thead>\n",
       "  <tbody>\n",
       "    <tr>\n",
       "      <th>0</th>\n",
       "      <td>31.940000</td>\n",
       "      <td>41.234296</td>\n",
       "    </tr>\n",
       "    <tr>\n",
       "      <th>1</th>\n",
       "      <td>67.178082</td>\n",
       "      <td>70.207204</td>\n",
       "    </tr>\n",
       "    <tr>\n",
       "      <th>2</th>\n",
       "      <td>74.448087</td>\n",
       "      <td>59.999949</td>\n",
       "    </tr>\n",
       "    <tr>\n",
       "      <th>3</th>\n",
       "      <td>53.189041</td>\n",
       "      <td>47.189730</td>\n",
       "    </tr>\n",
       "    <tr>\n",
       "      <th>4</th>\n",
       "      <td>46.750000</td>\n",
       "      <td>38.441697</td>\n",
       "    </tr>\n",
       "    <tr>\n",
       "      <th>...</th>\n",
       "      <td>...</td>\n",
       "      <td>...</td>\n",
       "    </tr>\n",
       "    <tr>\n",
       "      <th>217</th>\n",
       "      <td>18.150000</td>\n",
       "      <td>28.151759</td>\n",
       "    </tr>\n",
       "    <tr>\n",
       "      <th>218</th>\n",
       "      <td>70.715068</td>\n",
       "      <td>66.440207</td>\n",
       "    </tr>\n",
       "    <tr>\n",
       "      <th>219</th>\n",
       "      <td>66.208219</td>\n",
       "      <td>44.929928</td>\n",
       "    </tr>\n",
       "    <tr>\n",
       "      <th>220</th>\n",
       "      <td>23.930000</td>\n",
       "      <td>36.183855</td>\n",
       "    </tr>\n",
       "    <tr>\n",
       "      <th>221</th>\n",
       "      <td>28.561644</td>\n",
       "      <td>28.428275</td>\n",
       "    </tr>\n",
       "  </tbody>\n",
       "</table>\n",
       "<p>1110 rows × 2 columns</p>\n",
       "</div>"
      ],
      "text/plain": [
       "        y_test     y_pred\n",
       "0    31.940000  41.234296\n",
       "1    67.178082  70.207204\n",
       "2    74.448087  59.999949\n",
       "3    53.189041  47.189730\n",
       "4    46.750000  38.441697\n",
       "..         ...        ...\n",
       "217  18.150000  28.151759\n",
       "218  70.715068  66.440207\n",
       "219  66.208219  44.929928\n",
       "220  23.930000  36.183855\n",
       "221  28.561644  28.428275\n",
       "\n",
       "[1110 rows x 2 columns]"
      ]
     },
     "execution_count": 46,
     "metadata": {},
     "output_type": "execute_result"
    }
   ],
   "source": [
    "eregr_y_frame"
   ]
  },
  {
   "cell_type": "code",
   "execution_count": 47,
   "id": "52",
   "metadata": {
    "tags": []
   },
   "outputs": [],
   "source": [
    "eregr_y_frame.to_csv(output_folder + '/auto_harmonized_topmri_HELIUSUS_eregr_y_frame.csv')"
   ]
  },
  {
   "cell_type": "code",
   "execution_count": 48,
   "id": "53",
   "metadata": {
    "tags": []
   },
   "outputs": [
    {
     "data": {
      "text/html": [
       "<style>#sk-container-id-6 {color: black;}#sk-container-id-6 pre{padding: 0;}#sk-container-id-6 div.sk-toggleable {background-color: white;}#sk-container-id-6 label.sk-toggleable__label {cursor: pointer;display: block;width: 100%;margin-bottom: 0;padding: 0.3em;box-sizing: border-box;text-align: center;}#sk-container-id-6 label.sk-toggleable__label-arrow:before {content: \"▸\";float: left;margin-right: 0.25em;color: #696969;}#sk-container-id-6 label.sk-toggleable__label-arrow:hover:before {color: black;}#sk-container-id-6 div.sk-estimator:hover label.sk-toggleable__label-arrow:before {color: black;}#sk-container-id-6 div.sk-toggleable__content {max-height: 0;max-width: 0;overflow: hidden;text-align: left;background-color: #f0f8ff;}#sk-container-id-6 div.sk-toggleable__content pre {margin: 0.2em;color: black;border-radius: 0.25em;background-color: #f0f8ff;}#sk-container-id-6 input.sk-toggleable__control:checked~div.sk-toggleable__content {max-height: 200px;max-width: 100%;overflow: auto;}#sk-container-id-6 input.sk-toggleable__control:checked~label.sk-toggleable__label-arrow:before {content: \"▾\";}#sk-container-id-6 div.sk-estimator input.sk-toggleable__control:checked~label.sk-toggleable__label {background-color: #d4ebff;}#sk-container-id-6 div.sk-label input.sk-toggleable__control:checked~label.sk-toggleable__label {background-color: #d4ebff;}#sk-container-id-6 input.sk-hidden--visually {border: 0;clip: rect(1px 1px 1px 1px);clip: rect(1px, 1px, 1px, 1px);height: 1px;margin: -1px;overflow: hidden;padding: 0;position: absolute;width: 1px;}#sk-container-id-6 div.sk-estimator {font-family: monospace;background-color: #f0f8ff;border: 1px dotted black;border-radius: 0.25em;box-sizing: border-box;margin-bottom: 0.5em;}#sk-container-id-6 div.sk-estimator:hover {background-color: #d4ebff;}#sk-container-id-6 div.sk-parallel-item::after {content: \"\";width: 100%;border-bottom: 1px solid gray;flex-grow: 1;}#sk-container-id-6 div.sk-label:hover label.sk-toggleable__label {background-color: #d4ebff;}#sk-container-id-6 div.sk-serial::before {content: \"\";position: absolute;border-left: 1px solid gray;box-sizing: border-box;top: 0;bottom: 0;left: 50%;z-index: 0;}#sk-container-id-6 div.sk-serial {display: flex;flex-direction: column;align-items: center;background-color: white;padding-right: 0.2em;padding-left: 0.2em;position: relative;}#sk-container-id-6 div.sk-item {position: relative;z-index: 1;}#sk-container-id-6 div.sk-parallel {display: flex;align-items: stretch;justify-content: center;background-color: white;position: relative;}#sk-container-id-6 div.sk-item::before, #sk-container-id-6 div.sk-parallel-item::before {content: \"\";position: absolute;border-left: 1px solid gray;box-sizing: border-box;top: 0;bottom: 0;left: 50%;z-index: -1;}#sk-container-id-6 div.sk-parallel-item {display: flex;flex-direction: column;z-index: 1;position: relative;background-color: white;}#sk-container-id-6 div.sk-parallel-item:first-child::after {align-self: flex-end;width: 50%;}#sk-container-id-6 div.sk-parallel-item:last-child::after {align-self: flex-start;width: 50%;}#sk-container-id-6 div.sk-parallel-item:only-child::after {width: 0;}#sk-container-id-6 div.sk-dashed-wrapped {border: 1px dashed gray;margin: 0 0.4em 0.5em 0.4em;box-sizing: border-box;padding-bottom: 0.4em;background-color: white;}#sk-container-id-6 div.sk-label label {font-family: monospace;font-weight: bold;display: inline-block;line-height: 1.2em;}#sk-container-id-6 div.sk-label-container {text-align: center;}#sk-container-id-6 div.sk-container {/* jupyter's `normalize.less` sets `[hidden] { display: none; }` but bootstrap.min.css set `[hidden] { display: none !important; }` so we also need the `!important` here to be able to override the default hidden behavior on the sphinx rendered scikit-learn.org. See: https://github.com/scikit-learn/scikit-learn/issues/21755 */display: inline-block !important;position: relative;}#sk-container-id-6 div.sk-text-repr-fallback {display: none;}</style><div id=\"sk-container-id-6\" class=\"sk-top-container\"><div class=\"sk-text-repr-fallback\"><pre>ElasticNetCV(cv=5, random_state=12)</pre><b>In a Jupyter environment, please rerun this cell to show the HTML representation or trust the notebook. <br />On GitHub, the HTML representation is unable to render, please try loading this page with nbviewer.org.</b></div><div class=\"sk-container\" hidden><div class=\"sk-item\"><div class=\"sk-estimator sk-toggleable\"><input class=\"sk-toggleable__control sk-hidden--visually\" id=\"sk-estimator-id-6\" type=\"checkbox\" checked><label for=\"sk-estimator-id-6\" class=\"sk-toggleable__label sk-toggleable__label-arrow\">ElasticNetCV</label><div class=\"sk-toggleable__content\"><pre>ElasticNetCV(cv=5, random_state=12)</pre></div></div></div></div></div>"
      ],
      "text/plain": [
       "ElasticNetCV(cv=5, random_state=12)"
      ]
     },
     "execution_count": 48,
     "metadata": {},
     "output_type": "execute_result"
    }
   ],
   "source": [
    "eregr = models[0]\n",
    "eregr[0]"
   ]
  },
  {
   "cell_type": "code",
   "execution_count": 49,
   "id": "54",
   "metadata": {
    "tags": []
   },
   "outputs": [
    {
     "name": "stderr",
     "output_type": "stream",
     "text": [
      "C:\\Projects\\cvasl\\ml_experiments_all_harmonized\\..\\cvasl\\seperated.py:1097: FutureWarning: The behavior of DataFrame concatenation with empty or all-NA entries is deprecated. In a future version, this will no longer exclude empty or all-NA columns when determining the result dtypes. To retain the old behavior, exclude the relevant entries before the concat operation.\n",
      "  mod_results = pd.concat([mod_results, mod_results_current_fold])\n",
      "C:\\Projects\\cvasl\\ml_experiments_all_harmonized\\..\\cvasl\\seperated.py:1097: FutureWarning: The behavior of DataFrame concatenation with empty or all-NA entries is deprecated. In a future version, this will no longer exclude empty or all-NA columns when determining the result dtypes. To retain the old behavior, exclude the relevant entries before the concat operation.\n",
      "  mod_results = pd.concat([mod_results, mod_results_current_fold])\n",
      "C:\\Projects\\cvasl\\ml_experiments_all_harmonized\\..\\cvasl\\seperated.py:1097: FutureWarning: The behavior of DataFrame concatenation with empty or all-NA entries is deprecated. In a future version, this will no longer exclude empty or all-NA columns when determining the result dtypes. To retain the old behavior, exclude the relevant entries before the concat operation.\n",
      "  mod_results = pd.concat([mod_results, mod_results_current_fold])\n",
      "C:\\Projects\\cvasl\\ml_experiments_all_harmonized\\..\\cvasl\\seperated.py:1097: FutureWarning: The behavior of DataFrame concatenation with empty or all-NA entries is deprecated. In a future version, this will no longer exclude empty or all-NA columns when determining the result dtypes. To retain the old behavior, exclude the relevant entries before the concat operation.\n",
      "  mod_results = pd.concat([mod_results, mod_results_current_fold])\n",
      "C:\\Projects\\cvasl\\ml_experiments_all_harmonized\\..\\cvasl\\seperated.py:1097: FutureWarning: The behavior of DataFrame concatenation with empty or all-NA entries is deprecated. In a future version, this will no longer exclude empty or all-NA columns when determining the result dtypes. To retain the old behavior, exclude the relevant entries before the concat operation.\n",
      "  mod_results = pd.concat([mod_results, mod_results_current_fold])\n"
     ]
    },
    {
     "data": {
      "text/html": [
       "<div>\n",
       "<style scoped>\n",
       "    .dataframe tbody tr th:only-of-type {\n",
       "        vertical-align: middle;\n",
       "    }\n",
       "\n",
       "    .dataframe tbody tr th {\n",
       "        vertical-align: top;\n",
       "    }\n",
       "\n",
       "    .dataframe thead th {\n",
       "        text-align: right;\n",
       "    }\n",
       "</style>\n",
       "<table border=\"1\" class=\"dataframe\">\n",
       "  <thead>\n",
       "    <tr style=\"text-align: right;\">\n",
       "      <th></th>\n",
       "      <th>algorithm</th>\n",
       "      <th>fold</th>\n",
       "      <th>file_name</th>\n",
       "      <th>mae</th>\n",
       "      <th>r2</th>\n",
       "      <th>explained_variance</th>\n",
       "    </tr>\n",
       "  </thead>\n",
       "  <tbody>\n",
       "    <tr>\n",
       "      <th>0</th>\n",
       "      <td>extra trees-0</td>\n",
       "      <td>0</td>\n",
       "      <td>auto_harm_topmri_etreg.0</td>\n",
       "      <td>4.984195</td>\n",
       "      <td>0.856222</td>\n",
       "      <td>0.856484</td>\n",
       "    </tr>\n",
       "    <tr>\n",
       "      <th>0</th>\n",
       "      <td>extra trees-1</td>\n",
       "      <td>1</td>\n",
       "      <td>auto_harm_topmri_etreg.1</td>\n",
       "      <td>5.355654</td>\n",
       "      <td>0.828255</td>\n",
       "      <td>0.828753</td>\n",
       "    </tr>\n",
       "    <tr>\n",
       "      <th>0</th>\n",
       "      <td>extra trees-2</td>\n",
       "      <td>2</td>\n",
       "      <td>auto_harm_topmri_etreg.2</td>\n",
       "      <td>4.915555</td>\n",
       "      <td>0.855940</td>\n",
       "      <td>0.856024</td>\n",
       "    </tr>\n",
       "    <tr>\n",
       "      <th>0</th>\n",
       "      <td>extra trees-3</td>\n",
       "      <td>3</td>\n",
       "      <td>auto_harm_topmri_etreg.3</td>\n",
       "      <td>4.947049</td>\n",
       "      <td>0.874092</td>\n",
       "      <td>0.874313</td>\n",
       "    </tr>\n",
       "    <tr>\n",
       "      <th>0</th>\n",
       "      <td>extra trees-4</td>\n",
       "      <td>4</td>\n",
       "      <td>auto_harm_topmri_etreg.4</td>\n",
       "      <td>4.975621</td>\n",
       "      <td>0.860187</td>\n",
       "      <td>0.860273</td>\n",
       "    </tr>\n",
       "  </tbody>\n",
       "</table>\n",
       "</div>"
      ],
      "text/plain": [
       "       algorithm fold                 file_name       mae        r2  \\\n",
       "0  extra trees-0    0  auto_harm_topmri_etreg.0  4.984195  0.856222   \n",
       "0  extra trees-1    1  auto_harm_topmri_etreg.1  5.355654  0.828255   \n",
       "0  extra trees-2    2  auto_harm_topmri_etreg.2  4.915555  0.855940   \n",
       "0  extra trees-3    3  auto_harm_topmri_etreg.3  4.947049  0.874092   \n",
       "0  extra trees-4    4  auto_harm_topmri_etreg.4  4.975621  0.860187   \n",
       "\n",
       "   explained_variance  \n",
       "0            0.856484  \n",
       "0            0.828753  \n",
       "0            0.856024  \n",
       "0            0.874313  \n",
       "0            0.860273  "
      ]
     },
     "execution_count": 49,
     "metadata": {},
     "output_type": "execute_result"
    }
   ],
   "source": [
    "etreg_k_frame, etreg_y_frame, models = sep.stratified_cat_and_cont_categories_shuffle_split('extra trees', 'auto_harm_topmri_etreg',  ExtraTreesRegressor(n_estimators=100, random_state=0), ml_matrix, X, y)\n",
    "etreg_k_frame"
   ]
  },
  {
   "cell_type": "code",
   "execution_count": 50,
   "id": "55",
   "metadata": {
    "tags": []
   },
   "outputs": [],
   "source": [
    "etreg_k_frame.to_csv(output_folder + '/auto_haromized_topmri_HELIUS_etreg_k_frame.csv')"
   ]
  },
  {
   "cell_type": "code",
   "execution_count": 51,
   "id": "56",
   "metadata": {
    "tags": []
   },
   "outputs": [
    {
     "data": {
      "text/html": [
       "<div>\n",
       "<style scoped>\n",
       "    .dataframe tbody tr th:only-of-type {\n",
       "        vertical-align: middle;\n",
       "    }\n",
       "\n",
       "    .dataframe tbody tr th {\n",
       "        vertical-align: top;\n",
       "    }\n",
       "\n",
       "    .dataframe thead th {\n",
       "        text-align: right;\n",
       "    }\n",
       "</style>\n",
       "<table border=\"1\" class=\"dataframe\">\n",
       "  <thead>\n",
       "    <tr style=\"text-align: right;\">\n",
       "      <th></th>\n",
       "      <th>algorithm</th>\n",
       "      <th>file_name</th>\n",
       "      <th>mae</th>\n",
       "      <th>r2</th>\n",
       "      <th>explained_variance</th>\n",
       "    </tr>\n",
       "  </thead>\n",
       "  <tbody>\n",
       "    <tr>\n",
       "      <th>0</th>\n",
       "      <td>0    extra trees-0\n",
       "0    extra trees-1\n",
       "0    ext...</td>\n",
       "      <td>0    auto_harm_topmri_etreg.0\n",
       "0    auto_harm_t...</td>\n",
       "      <td>5.035615</td>\n",
       "      <td>0.854939</td>\n",
       "      <td>0.85517</td>\n",
       "    </tr>\n",
       "  </tbody>\n",
       "</table>\n",
       "</div>"
      ],
      "text/plain": [
       "                                           algorithm  \\\n",
       "0  0    extra trees-0\n",
       "0    extra trees-1\n",
       "0    ext...   \n",
       "\n",
       "                                           file_name       mae        r2  \\\n",
       "0  0    auto_harm_topmri_etreg.0\n",
       "0    auto_harm_t...  5.035615  0.854939   \n",
       "\n",
       "   explained_variance  \n",
       "0             0.85517  "
      ]
     },
     "execution_count": 51,
     "metadata": {},
     "output_type": "execute_result"
    }
   ],
   "source": [
    "avg_etreg = sep.avg_k_folds(etreg_k_frame)\n",
    "avg_etreg"
   ]
  },
  {
   "cell_type": "code",
   "execution_count": 52,
   "id": "57",
   "metadata": {
    "tags": []
   },
   "outputs": [
    {
     "data": {
      "text/html": [
       "<div>\n",
       "<style scoped>\n",
       "    .dataframe tbody tr th:only-of-type {\n",
       "        vertical-align: middle;\n",
       "    }\n",
       "\n",
       "    .dataframe tbody tr th {\n",
       "        vertical-align: top;\n",
       "    }\n",
       "\n",
       "    .dataframe thead th {\n",
       "        text-align: right;\n",
       "    }\n",
       "</style>\n",
       "<table border=\"1\" class=\"dataframe\">\n",
       "  <thead>\n",
       "    <tr style=\"text-align: right;\">\n",
       "      <th></th>\n",
       "      <th>y_test</th>\n",
       "      <th>y_pred</th>\n",
       "    </tr>\n",
       "  </thead>\n",
       "  <tbody>\n",
       "    <tr>\n",
       "      <th>0</th>\n",
       "      <td>31.940000</td>\n",
       "      <td>35.047023</td>\n",
       "    </tr>\n",
       "    <tr>\n",
       "      <th>1</th>\n",
       "      <td>67.178082</td>\n",
       "      <td>64.858246</td>\n",
       "    </tr>\n",
       "    <tr>\n",
       "      <th>2</th>\n",
       "      <td>74.448087</td>\n",
       "      <td>63.477783</td>\n",
       "    </tr>\n",
       "    <tr>\n",
       "      <th>3</th>\n",
       "      <td>53.189041</td>\n",
       "      <td>42.216363</td>\n",
       "    </tr>\n",
       "    <tr>\n",
       "      <th>4</th>\n",
       "      <td>46.750000</td>\n",
       "      <td>45.252602</td>\n",
       "    </tr>\n",
       "    <tr>\n",
       "      <th>...</th>\n",
       "      <td>...</td>\n",
       "      <td>...</td>\n",
       "    </tr>\n",
       "    <tr>\n",
       "      <th>217</th>\n",
       "      <td>18.150000</td>\n",
       "      <td>25.145748</td>\n",
       "    </tr>\n",
       "    <tr>\n",
       "      <th>218</th>\n",
       "      <td>70.715068</td>\n",
       "      <td>71.964763</td>\n",
       "    </tr>\n",
       "    <tr>\n",
       "      <th>219</th>\n",
       "      <td>66.208219</td>\n",
       "      <td>51.860179</td>\n",
       "    </tr>\n",
       "    <tr>\n",
       "      <th>220</th>\n",
       "      <td>23.930000</td>\n",
       "      <td>29.208436</td>\n",
       "    </tr>\n",
       "    <tr>\n",
       "      <th>221</th>\n",
       "      <td>28.561644</td>\n",
       "      <td>29.748201</td>\n",
       "    </tr>\n",
       "  </tbody>\n",
       "</table>\n",
       "<p>1110 rows × 2 columns</p>\n",
       "</div>"
      ],
      "text/plain": [
       "        y_test     y_pred\n",
       "0    31.940000  35.047023\n",
       "1    67.178082  64.858246\n",
       "2    74.448087  63.477783\n",
       "3    53.189041  42.216363\n",
       "4    46.750000  45.252602\n",
       "..         ...        ...\n",
       "217  18.150000  25.145748\n",
       "218  70.715068  71.964763\n",
       "219  66.208219  51.860179\n",
       "220  23.930000  29.208436\n",
       "221  28.561644  29.748201\n",
       "\n",
       "[1110 rows x 2 columns]"
      ]
     },
     "execution_count": 52,
     "metadata": {},
     "output_type": "execute_result"
    }
   ],
   "source": [
    "etreg_y_frame"
   ]
  },
  {
   "cell_type": "code",
   "execution_count": 53,
   "id": "58",
   "metadata": {
    "tags": []
   },
   "outputs": [],
   "source": [
    "etreg_y_frame.to_csv(output_folder + '/auto_harmonized_topmri_HELIUS_etreg_y_frame.csv')"
   ]
  },
  {
   "cell_type": "code",
   "execution_count": 54,
   "id": "59",
   "metadata": {
    "tags": []
   },
   "outputs": [
    {
     "data": {
      "text/html": [
       "<style>#sk-container-id-7 {color: black;}#sk-container-id-7 pre{padding: 0;}#sk-container-id-7 div.sk-toggleable {background-color: white;}#sk-container-id-7 label.sk-toggleable__label {cursor: pointer;display: block;width: 100%;margin-bottom: 0;padding: 0.3em;box-sizing: border-box;text-align: center;}#sk-container-id-7 label.sk-toggleable__label-arrow:before {content: \"▸\";float: left;margin-right: 0.25em;color: #696969;}#sk-container-id-7 label.sk-toggleable__label-arrow:hover:before {color: black;}#sk-container-id-7 div.sk-estimator:hover label.sk-toggleable__label-arrow:before {color: black;}#sk-container-id-7 div.sk-toggleable__content {max-height: 0;max-width: 0;overflow: hidden;text-align: left;background-color: #f0f8ff;}#sk-container-id-7 div.sk-toggleable__content pre {margin: 0.2em;color: black;border-radius: 0.25em;background-color: #f0f8ff;}#sk-container-id-7 input.sk-toggleable__control:checked~div.sk-toggleable__content {max-height: 200px;max-width: 100%;overflow: auto;}#sk-container-id-7 input.sk-toggleable__control:checked~label.sk-toggleable__label-arrow:before {content: \"▾\";}#sk-container-id-7 div.sk-estimator input.sk-toggleable__control:checked~label.sk-toggleable__label {background-color: #d4ebff;}#sk-container-id-7 div.sk-label input.sk-toggleable__control:checked~label.sk-toggleable__label {background-color: #d4ebff;}#sk-container-id-7 input.sk-hidden--visually {border: 0;clip: rect(1px 1px 1px 1px);clip: rect(1px, 1px, 1px, 1px);height: 1px;margin: -1px;overflow: hidden;padding: 0;position: absolute;width: 1px;}#sk-container-id-7 div.sk-estimator {font-family: monospace;background-color: #f0f8ff;border: 1px dotted black;border-radius: 0.25em;box-sizing: border-box;margin-bottom: 0.5em;}#sk-container-id-7 div.sk-estimator:hover {background-color: #d4ebff;}#sk-container-id-7 div.sk-parallel-item::after {content: \"\";width: 100%;border-bottom: 1px solid gray;flex-grow: 1;}#sk-container-id-7 div.sk-label:hover label.sk-toggleable__label {background-color: #d4ebff;}#sk-container-id-7 div.sk-serial::before {content: \"\";position: absolute;border-left: 1px solid gray;box-sizing: border-box;top: 0;bottom: 0;left: 50%;z-index: 0;}#sk-container-id-7 div.sk-serial {display: flex;flex-direction: column;align-items: center;background-color: white;padding-right: 0.2em;padding-left: 0.2em;position: relative;}#sk-container-id-7 div.sk-item {position: relative;z-index: 1;}#sk-container-id-7 div.sk-parallel {display: flex;align-items: stretch;justify-content: center;background-color: white;position: relative;}#sk-container-id-7 div.sk-item::before, #sk-container-id-7 div.sk-parallel-item::before {content: \"\";position: absolute;border-left: 1px solid gray;box-sizing: border-box;top: 0;bottom: 0;left: 50%;z-index: -1;}#sk-container-id-7 div.sk-parallel-item {display: flex;flex-direction: column;z-index: 1;position: relative;background-color: white;}#sk-container-id-7 div.sk-parallel-item:first-child::after {align-self: flex-end;width: 50%;}#sk-container-id-7 div.sk-parallel-item:last-child::after {align-self: flex-start;width: 50%;}#sk-container-id-7 div.sk-parallel-item:only-child::after {width: 0;}#sk-container-id-7 div.sk-dashed-wrapped {border: 1px dashed gray;margin: 0 0.4em 0.5em 0.4em;box-sizing: border-box;padding-bottom: 0.4em;background-color: white;}#sk-container-id-7 div.sk-label label {font-family: monospace;font-weight: bold;display: inline-block;line-height: 1.2em;}#sk-container-id-7 div.sk-label-container {text-align: center;}#sk-container-id-7 div.sk-container {/* jupyter's `normalize.less` sets `[hidden] { display: none; }` but bootstrap.min.css set `[hidden] { display: none !important; }` so we also need the `!important` here to be able to override the default hidden behavior on the sphinx rendered scikit-learn.org. See: https://github.com/scikit-learn/scikit-learn/issues/21755 */display: inline-block !important;position: relative;}#sk-container-id-7 div.sk-text-repr-fallback {display: none;}</style><div id=\"sk-container-id-7\" class=\"sk-top-container\"><div class=\"sk-text-repr-fallback\"><pre>ExtraTreesRegressor(random_state=0)</pre><b>In a Jupyter environment, please rerun this cell to show the HTML representation or trust the notebook. <br />On GitHub, the HTML representation is unable to render, please try loading this page with nbviewer.org.</b></div><div class=\"sk-container\" hidden><div class=\"sk-item\"><div class=\"sk-estimator sk-toggleable\"><input class=\"sk-toggleable__control sk-hidden--visually\" id=\"sk-estimator-id-7\" type=\"checkbox\" checked><label for=\"sk-estimator-id-7\" class=\"sk-toggleable__label sk-toggleable__label-arrow\">ExtraTreesRegressor</label><div class=\"sk-toggleable__content\"><pre>ExtraTreesRegressor(random_state=0)</pre></div></div></div></div></div>"
      ],
      "text/plain": [
       "ExtraTreesRegressor(random_state=0)"
      ]
     },
     "execution_count": 54,
     "metadata": {},
     "output_type": "execute_result"
    }
   ],
   "source": [
    "etreg = models[0]\n",
    "etreg[0]"
   ]
  },
  {
   "cell_type": "code",
   "execution_count": 55,
   "id": "60",
   "metadata": {
    "tags": []
   },
   "outputs": [],
   "source": [
    "## optional save models\n",
    "#joblib.dump(etreg[0], ('../result_models/'+ 'auto_harm_topmri_HELIUS_etreg0.sav'))\n",
    "#joblib.dump(etreg[1], ('../result_models/'+ 'auto_harm_topmri_HELIUS_etreg1.sav'))\n",
    "#joblib.dump(etreg[2], ('../result_models/'+ 'auto_harm_topmri_HELIUS_etreg2.sav'))\n",
    "#joblib.dump(etreg[3], ('../result_models/'+ 'auto_harm_topmri_HELIUS_etreg3.sav'))\n",
    "#joblib.dump(etreg[4], ('../result_models/'+ 'auto_harm_topmri_HELIUS_etreg4.sav'))"
   ]
  },
  {
   "cell_type": "markdown",
   "id": "61",
   "metadata": {},
   "source": [
    "Show results ON AVERAGE for each model"
   ]
  },
  {
   "cell_type": "code",
   "execution_count": 56,
   "id": "62",
   "metadata": {
    "tags": []
   },
   "outputs": [
    {
     "data": {
      "text/html": [
       "<div>\n",
       "<style scoped>\n",
       "    .dataframe tbody tr th:only-of-type {\n",
       "        vertical-align: middle;\n",
       "    }\n",
       "\n",
       "    .dataframe tbody tr th {\n",
       "        vertical-align: top;\n",
       "    }\n",
       "\n",
       "    .dataframe thead th {\n",
       "        text-align: right;\n",
       "    }\n",
       "</style>\n",
       "<table border=\"1\" class=\"dataframe\">\n",
       "  <thead>\n",
       "    <tr style=\"text-align: right;\">\n",
       "      <th></th>\n",
       "      <th>algorithm</th>\n",
       "      <th>file_name</th>\n",
       "      <th>mae</th>\n",
       "      <th>r2</th>\n",
       "      <th>explained_variance</th>\n",
       "    </tr>\n",
       "  </thead>\n",
       "  <tbody>\n",
       "    <tr>\n",
       "      <th>0</th>\n",
       "      <td>0    linear regression-0\n",
       "0    linear regressio...</td>\n",
       "      <td>0    auto_harm_topmri_linr.0\n",
       "0    auto_harm_to...</td>\n",
       "      <td>6.015074</td>\n",
       "      <td>0.784284</td>\n",
       "      <td>0.784945</td>\n",
       "    </tr>\n",
       "    <tr>\n",
       "      <th>0</th>\n",
       "      <td>0    lasso regression-0\n",
       "0    lasso regression-...</td>\n",
       "      <td>0    auto_harm_topmri_llreg.0\n",
       "0    auto_harm_t...</td>\n",
       "      <td>6.059979</td>\n",
       "      <td>0.779669</td>\n",
       "      <td>0.780450</td>\n",
       "    </tr>\n",
       "    <tr>\n",
       "      <th>0</th>\n",
       "      <td>0    decision tree-0\n",
       "0    decision tree-1\n",
       "0   ...</td>\n",
       "      <td>0    auto_harm_topmri_dtree.0\n",
       "0    auto_harm_t...</td>\n",
       "      <td>6.987254</td>\n",
       "      <td>0.698932</td>\n",
       "      <td>0.699263</td>\n",
       "    </tr>\n",
       "    <tr>\n",
       "      <th>0</th>\n",
       "      <td>0    MLP regression-0\n",
       "0    MLP regression-1\n",
       "0 ...</td>\n",
       "      <td>0    auto_harm_topmri_regr.0\n",
       "0    auto_harm_to...</td>\n",
       "      <td>8.264812</td>\n",
       "      <td>0.631293</td>\n",
       "      <td>0.638478</td>\n",
       "    </tr>\n",
       "    <tr>\n",
       "      <th>0</th>\n",
       "      <td>0    support vector reg poly2-0\n",
       "0    support v...</td>\n",
       "      <td>0    auto_harm_topmri_svrp2.0\n",
       "0    auto_harm_t...</td>\n",
       "      <td>12.952803</td>\n",
       "      <td>-0.721961</td>\n",
       "      <td>-0.706840</td>\n",
       "    </tr>\n",
       "    <tr>\n",
       "      <th>0</th>\n",
       "      <td>0    elasticnetCV-0\n",
       "0    elasticnetCV-1\n",
       "0    e...</td>\n",
       "      <td>0    auto_harm_topmri_eregr.0\n",
       "0    auto_harm_t...</td>\n",
       "      <td>9.569098</td>\n",
       "      <td>0.423733</td>\n",
       "      <td>0.425578</td>\n",
       "    </tr>\n",
       "    <tr>\n",
       "      <th>0</th>\n",
       "      <td>0    extra trees-0\n",
       "0    extra trees-1\n",
       "0    ext...</td>\n",
       "      <td>0    auto_harm_topmri_etreg.0\n",
       "0    auto_harm_t...</td>\n",
       "      <td>5.035615</td>\n",
       "      <td>0.854939</td>\n",
       "      <td>0.855170</td>\n",
       "    </tr>\n",
       "  </tbody>\n",
       "</table>\n",
       "</div>"
      ],
      "text/plain": [
       "                                           algorithm  \\\n",
       "0  0    linear regression-0\n",
       "0    linear regressio...   \n",
       "0  0    lasso regression-0\n",
       "0    lasso regression-...   \n",
       "0  0    decision tree-0\n",
       "0    decision tree-1\n",
       "0   ...   \n",
       "0  0    MLP regression-0\n",
       "0    MLP regression-1\n",
       "0 ...   \n",
       "0  0    support vector reg poly2-0\n",
       "0    support v...   \n",
       "0  0    elasticnetCV-0\n",
       "0    elasticnetCV-1\n",
       "0    e...   \n",
       "0  0    extra trees-0\n",
       "0    extra trees-1\n",
       "0    ext...   \n",
       "\n",
       "                                           file_name        mae        r2  \\\n",
       "0  0    auto_harm_topmri_linr.0\n",
       "0    auto_harm_to...   6.015074  0.784284   \n",
       "0  0    auto_harm_topmri_llreg.0\n",
       "0    auto_harm_t...   6.059979  0.779669   \n",
       "0  0    auto_harm_topmri_dtree.0\n",
       "0    auto_harm_t...   6.987254  0.698932   \n",
       "0  0    auto_harm_topmri_regr.0\n",
       "0    auto_harm_to...   8.264812  0.631293   \n",
       "0  0    auto_harm_topmri_svrp2.0\n",
       "0    auto_harm_t...  12.952803 -0.721961   \n",
       "0  0    auto_harm_topmri_eregr.0\n",
       "0    auto_harm_t...   9.569098  0.423733   \n",
       "0  0    auto_harm_topmri_etreg.0\n",
       "0    auto_harm_t...   5.035615  0.854939   \n",
       "\n",
       "   explained_variance  \n",
       "0            0.784945  \n",
       "0            0.780450  \n",
       "0            0.699263  \n",
       "0            0.638478  \n",
       "0           -0.706840  \n",
       "0            0.425578  \n",
       "0            0.855170  "
      ]
     },
     "execution_count": 56,
     "metadata": {},
     "output_type": "execute_result"
    }
   ],
   "source": [
    "topmri_based_auto_harmonized_on_testtopmri =pd.concat([avg_linr,\n",
    "                   avg_llreg,\n",
    "                   avg_dtree,\n",
    "                   avg_regr,\n",
    "                   avg_svrp2,\n",
    "                   avg_eregr,\n",
    "                   avg_etreg],\n",
    "                  axis=0)\n",
    "topmri_based_auto_harmonized_on_testtopmri"
   ]
  },
  {
   "cell_type": "code",
   "execution_count": 57,
   "id": "63",
   "metadata": {
    "tags": []
   },
   "outputs": [],
   "source": [
    "topmri_based_auto_harmonized_on_testtopmri.to_csv(output_folder + '/topmri_based_auto_harmonized_on_testtopmri_AVERAGES.csv')"
   ]
  },
  {
   "cell_type": "markdown",
   "id": "64",
   "metadata": {},
   "source": [
    "## Now we will build  models based on the whole  autocombat harmonized TOPMRI dataset, and apply them to HELIUS. "
   ]
  },
  {
   "cell_type": "code",
   "execution_count": 58,
   "id": "65",
   "metadata": {
    "tags": []
   },
   "outputs": [],
   "source": [
    "ml_matrix = TOPMRI.drop('participant_id', axis=1)\n",
    "X = ml_matrix.drop('age', axis =1)\n",
    "X = X.values\n",
    "X = X.astype('float')\n",
    "y = ml_matrix['age'].values\n",
    "y=y.astype('float')\n"
   ]
  },
  {
   "cell_type": "code",
   "execution_count": 59,
   "id": "66",
   "metadata": {
    "tags": []
   },
   "outputs": [],
   "source": [
    "# now we decide to do no test train split, rather take all\n",
    "X_train = X\n",
    "y_train = y"
   ]
  },
  {
   "cell_type": "code",
   "execution_count": 60,
   "id": "67",
   "metadata": {
    "tags": []
   },
   "outputs": [
    {
     "data": {
      "text/html": [
       "<style>#sk-container-id-8 {color: black;}#sk-container-id-8 pre{padding: 0;}#sk-container-id-8 div.sk-toggleable {background-color: white;}#sk-container-id-8 label.sk-toggleable__label {cursor: pointer;display: block;width: 100%;margin-bottom: 0;padding: 0.3em;box-sizing: border-box;text-align: center;}#sk-container-id-8 label.sk-toggleable__label-arrow:before {content: \"▸\";float: left;margin-right: 0.25em;color: #696969;}#sk-container-id-8 label.sk-toggleable__label-arrow:hover:before {color: black;}#sk-container-id-8 div.sk-estimator:hover label.sk-toggleable__label-arrow:before {color: black;}#sk-container-id-8 div.sk-toggleable__content {max-height: 0;max-width: 0;overflow: hidden;text-align: left;background-color: #f0f8ff;}#sk-container-id-8 div.sk-toggleable__content pre {margin: 0.2em;color: black;border-radius: 0.25em;background-color: #f0f8ff;}#sk-container-id-8 input.sk-toggleable__control:checked~div.sk-toggleable__content {max-height: 200px;max-width: 100%;overflow: auto;}#sk-container-id-8 input.sk-toggleable__control:checked~label.sk-toggleable__label-arrow:before {content: \"▾\";}#sk-container-id-8 div.sk-estimator input.sk-toggleable__control:checked~label.sk-toggleable__label {background-color: #d4ebff;}#sk-container-id-8 div.sk-label input.sk-toggleable__control:checked~label.sk-toggleable__label {background-color: #d4ebff;}#sk-container-id-8 input.sk-hidden--visually {border: 0;clip: rect(1px 1px 1px 1px);clip: rect(1px, 1px, 1px, 1px);height: 1px;margin: -1px;overflow: hidden;padding: 0;position: absolute;width: 1px;}#sk-container-id-8 div.sk-estimator {font-family: monospace;background-color: #f0f8ff;border: 1px dotted black;border-radius: 0.25em;box-sizing: border-box;margin-bottom: 0.5em;}#sk-container-id-8 div.sk-estimator:hover {background-color: #d4ebff;}#sk-container-id-8 div.sk-parallel-item::after {content: \"\";width: 100%;border-bottom: 1px solid gray;flex-grow: 1;}#sk-container-id-8 div.sk-label:hover label.sk-toggleable__label {background-color: #d4ebff;}#sk-container-id-8 div.sk-serial::before {content: \"\";position: absolute;border-left: 1px solid gray;box-sizing: border-box;top: 0;bottom: 0;left: 50%;z-index: 0;}#sk-container-id-8 div.sk-serial {display: flex;flex-direction: column;align-items: center;background-color: white;padding-right: 0.2em;padding-left: 0.2em;position: relative;}#sk-container-id-8 div.sk-item {position: relative;z-index: 1;}#sk-container-id-8 div.sk-parallel {display: flex;align-items: stretch;justify-content: center;background-color: white;position: relative;}#sk-container-id-8 div.sk-item::before, #sk-container-id-8 div.sk-parallel-item::before {content: \"\";position: absolute;border-left: 1px solid gray;box-sizing: border-box;top: 0;bottom: 0;left: 50%;z-index: -1;}#sk-container-id-8 div.sk-parallel-item {display: flex;flex-direction: column;z-index: 1;position: relative;background-color: white;}#sk-container-id-8 div.sk-parallel-item:first-child::after {align-self: flex-end;width: 50%;}#sk-container-id-8 div.sk-parallel-item:last-child::after {align-self: flex-start;width: 50%;}#sk-container-id-8 div.sk-parallel-item:only-child::after {width: 0;}#sk-container-id-8 div.sk-dashed-wrapped {border: 1px dashed gray;margin: 0 0.4em 0.5em 0.4em;box-sizing: border-box;padding-bottom: 0.4em;background-color: white;}#sk-container-id-8 div.sk-label label {font-family: monospace;font-weight: bold;display: inline-block;line-height: 1.2em;}#sk-container-id-8 div.sk-label-container {text-align: center;}#sk-container-id-8 div.sk-container {/* jupyter's `normalize.less` sets `[hidden] { display: none; }` but bootstrap.min.css set `[hidden] { display: none !important; }` so we also need the `!important` here to be able to override the default hidden behavior on the sphinx rendered scikit-learn.org. See: https://github.com/scikit-learn/scikit-learn/issues/21755 */display: inline-block !important;position: relative;}#sk-container-id-8 div.sk-text-repr-fallback {display: none;}</style><div id=\"sk-container-id-8\" class=\"sk-top-container\"><div class=\"sk-text-repr-fallback\"><pre>LinearRegression()</pre><b>In a Jupyter environment, please rerun this cell to show the HTML representation or trust the notebook. <br />On GitHub, the HTML representation is unable to render, please try loading this page with nbviewer.org.</b></div><div class=\"sk-container\" hidden><div class=\"sk-item\"><div class=\"sk-estimator sk-toggleable\"><input class=\"sk-toggleable__control sk-hidden--visually\" id=\"sk-estimator-id-8\" type=\"checkbox\" checked><label for=\"sk-estimator-id-8\" class=\"sk-toggleable__label sk-toggleable__label-arrow\">LinearRegression</label><div class=\"sk-toggleable__content\"><pre>LinearRegression()</pre></div></div></div></div></div>"
      ],
      "text/plain": [
       "LinearRegression()"
      ]
     },
     "execution_count": 60,
     "metadata": {},
     "output_type": "execute_result"
    }
   ],
   "source": [
    "TOPMRIlinr = LinearRegression()\n",
    "TOPMRIlinr.fit(X_train, y_train)"
   ]
  },
  {
   "cell_type": "code",
   "execution_count": 61,
   "id": "68",
   "metadata": {
    "tags": []
   },
   "outputs": [
    {
     "data": {
      "text/html": [
       "<style>#sk-container-id-9 {color: black;}#sk-container-id-9 pre{padding: 0;}#sk-container-id-9 div.sk-toggleable {background-color: white;}#sk-container-id-9 label.sk-toggleable__label {cursor: pointer;display: block;width: 100%;margin-bottom: 0;padding: 0.3em;box-sizing: border-box;text-align: center;}#sk-container-id-9 label.sk-toggleable__label-arrow:before {content: \"▸\";float: left;margin-right: 0.25em;color: #696969;}#sk-container-id-9 label.sk-toggleable__label-arrow:hover:before {color: black;}#sk-container-id-9 div.sk-estimator:hover label.sk-toggleable__label-arrow:before {color: black;}#sk-container-id-9 div.sk-toggleable__content {max-height: 0;max-width: 0;overflow: hidden;text-align: left;background-color: #f0f8ff;}#sk-container-id-9 div.sk-toggleable__content pre {margin: 0.2em;color: black;border-radius: 0.25em;background-color: #f0f8ff;}#sk-container-id-9 input.sk-toggleable__control:checked~div.sk-toggleable__content {max-height: 200px;max-width: 100%;overflow: auto;}#sk-container-id-9 input.sk-toggleable__control:checked~label.sk-toggleable__label-arrow:before {content: \"▾\";}#sk-container-id-9 div.sk-estimator input.sk-toggleable__control:checked~label.sk-toggleable__label {background-color: #d4ebff;}#sk-container-id-9 div.sk-label input.sk-toggleable__control:checked~label.sk-toggleable__label {background-color: #d4ebff;}#sk-container-id-9 input.sk-hidden--visually {border: 0;clip: rect(1px 1px 1px 1px);clip: rect(1px, 1px, 1px, 1px);height: 1px;margin: -1px;overflow: hidden;padding: 0;position: absolute;width: 1px;}#sk-container-id-9 div.sk-estimator {font-family: monospace;background-color: #f0f8ff;border: 1px dotted black;border-radius: 0.25em;box-sizing: border-box;margin-bottom: 0.5em;}#sk-container-id-9 div.sk-estimator:hover {background-color: #d4ebff;}#sk-container-id-9 div.sk-parallel-item::after {content: \"\";width: 100%;border-bottom: 1px solid gray;flex-grow: 1;}#sk-container-id-9 div.sk-label:hover label.sk-toggleable__label {background-color: #d4ebff;}#sk-container-id-9 div.sk-serial::before {content: \"\";position: absolute;border-left: 1px solid gray;box-sizing: border-box;top: 0;bottom: 0;left: 50%;z-index: 0;}#sk-container-id-9 div.sk-serial {display: flex;flex-direction: column;align-items: center;background-color: white;padding-right: 0.2em;padding-left: 0.2em;position: relative;}#sk-container-id-9 div.sk-item {position: relative;z-index: 1;}#sk-container-id-9 div.sk-parallel {display: flex;align-items: stretch;justify-content: center;background-color: white;position: relative;}#sk-container-id-9 div.sk-item::before, #sk-container-id-9 div.sk-parallel-item::before {content: \"\";position: absolute;border-left: 1px solid gray;box-sizing: border-box;top: 0;bottom: 0;left: 50%;z-index: -1;}#sk-container-id-9 div.sk-parallel-item {display: flex;flex-direction: column;z-index: 1;position: relative;background-color: white;}#sk-container-id-9 div.sk-parallel-item:first-child::after {align-self: flex-end;width: 50%;}#sk-container-id-9 div.sk-parallel-item:last-child::after {align-self: flex-start;width: 50%;}#sk-container-id-9 div.sk-parallel-item:only-child::after {width: 0;}#sk-container-id-9 div.sk-dashed-wrapped {border: 1px dashed gray;margin: 0 0.4em 0.5em 0.4em;box-sizing: border-box;padding-bottom: 0.4em;background-color: white;}#sk-container-id-9 div.sk-label label {font-family: monospace;font-weight: bold;display: inline-block;line-height: 1.2em;}#sk-container-id-9 div.sk-label-container {text-align: center;}#sk-container-id-9 div.sk-container {/* jupyter's `normalize.less` sets `[hidden] { display: none; }` but bootstrap.min.css set `[hidden] { display: none !important; }` so we also need the `!important` here to be able to override the default hidden behavior on the sphinx rendered scikit-learn.org. See: https://github.com/scikit-learn/scikit-learn/issues/21755 */display: inline-block !important;position: relative;}#sk-container-id-9 div.sk-text-repr-fallback {display: none;}</style><div id=\"sk-container-id-9\" class=\"sk-top-container\"><div class=\"sk-text-repr-fallback\"><pre>LassoLars(alpha=0.01)</pre><b>In a Jupyter environment, please rerun this cell to show the HTML representation or trust the notebook. <br />On GitHub, the HTML representation is unable to render, please try loading this page with nbviewer.org.</b></div><div class=\"sk-container\" hidden><div class=\"sk-item\"><div class=\"sk-estimator sk-toggleable\"><input class=\"sk-toggleable__control sk-hidden--visually\" id=\"sk-estimator-id-9\" type=\"checkbox\" checked><label for=\"sk-estimator-id-9\" class=\"sk-toggleable__label sk-toggleable__label-arrow\">LassoLars</label><div class=\"sk-toggleable__content\"><pre>LassoLars(alpha=0.01)</pre></div></div></div></div></div>"
      ],
      "text/plain": [
       "LassoLars(alpha=0.01)"
      ]
     },
     "execution_count": 61,
     "metadata": {},
     "output_type": "execute_result"
    }
   ],
   "source": [
    "TOPMRIllreg = linear_model.LassoLars(alpha=0.01)\n",
    "TOPMRIllreg.fit(X_train, y_train)"
   ]
  },
  {
   "cell_type": "code",
   "execution_count": 62,
   "id": "69",
   "metadata": {
    "tags": []
   },
   "outputs": [
    {
     "data": {
      "text/html": [
       "<style>#sk-container-id-10 {color: black;}#sk-container-id-10 pre{padding: 0;}#sk-container-id-10 div.sk-toggleable {background-color: white;}#sk-container-id-10 label.sk-toggleable__label {cursor: pointer;display: block;width: 100%;margin-bottom: 0;padding: 0.3em;box-sizing: border-box;text-align: center;}#sk-container-id-10 label.sk-toggleable__label-arrow:before {content: \"▸\";float: left;margin-right: 0.25em;color: #696969;}#sk-container-id-10 label.sk-toggleable__label-arrow:hover:before {color: black;}#sk-container-id-10 div.sk-estimator:hover label.sk-toggleable__label-arrow:before {color: black;}#sk-container-id-10 div.sk-toggleable__content {max-height: 0;max-width: 0;overflow: hidden;text-align: left;background-color: #f0f8ff;}#sk-container-id-10 div.sk-toggleable__content pre {margin: 0.2em;color: black;border-radius: 0.25em;background-color: #f0f8ff;}#sk-container-id-10 input.sk-toggleable__control:checked~div.sk-toggleable__content {max-height: 200px;max-width: 100%;overflow: auto;}#sk-container-id-10 input.sk-toggleable__control:checked~label.sk-toggleable__label-arrow:before {content: \"▾\";}#sk-container-id-10 div.sk-estimator input.sk-toggleable__control:checked~label.sk-toggleable__label {background-color: #d4ebff;}#sk-container-id-10 div.sk-label input.sk-toggleable__control:checked~label.sk-toggleable__label {background-color: #d4ebff;}#sk-container-id-10 input.sk-hidden--visually {border: 0;clip: rect(1px 1px 1px 1px);clip: rect(1px, 1px, 1px, 1px);height: 1px;margin: -1px;overflow: hidden;padding: 0;position: absolute;width: 1px;}#sk-container-id-10 div.sk-estimator {font-family: monospace;background-color: #f0f8ff;border: 1px dotted black;border-radius: 0.25em;box-sizing: border-box;margin-bottom: 0.5em;}#sk-container-id-10 div.sk-estimator:hover {background-color: #d4ebff;}#sk-container-id-10 div.sk-parallel-item::after {content: \"\";width: 100%;border-bottom: 1px solid gray;flex-grow: 1;}#sk-container-id-10 div.sk-label:hover label.sk-toggleable__label {background-color: #d4ebff;}#sk-container-id-10 div.sk-serial::before {content: \"\";position: absolute;border-left: 1px solid gray;box-sizing: border-box;top: 0;bottom: 0;left: 50%;z-index: 0;}#sk-container-id-10 div.sk-serial {display: flex;flex-direction: column;align-items: center;background-color: white;padding-right: 0.2em;padding-left: 0.2em;position: relative;}#sk-container-id-10 div.sk-item {position: relative;z-index: 1;}#sk-container-id-10 div.sk-parallel {display: flex;align-items: stretch;justify-content: center;background-color: white;position: relative;}#sk-container-id-10 div.sk-item::before, #sk-container-id-10 div.sk-parallel-item::before {content: \"\";position: absolute;border-left: 1px solid gray;box-sizing: border-box;top: 0;bottom: 0;left: 50%;z-index: -1;}#sk-container-id-10 div.sk-parallel-item {display: flex;flex-direction: column;z-index: 1;position: relative;background-color: white;}#sk-container-id-10 div.sk-parallel-item:first-child::after {align-self: flex-end;width: 50%;}#sk-container-id-10 div.sk-parallel-item:last-child::after {align-self: flex-start;width: 50%;}#sk-container-id-10 div.sk-parallel-item:only-child::after {width: 0;}#sk-container-id-10 div.sk-dashed-wrapped {border: 1px dashed gray;margin: 0 0.4em 0.5em 0.4em;box-sizing: border-box;padding-bottom: 0.4em;background-color: white;}#sk-container-id-10 div.sk-label label {font-family: monospace;font-weight: bold;display: inline-block;line-height: 1.2em;}#sk-container-id-10 div.sk-label-container {text-align: center;}#sk-container-id-10 div.sk-container {/* jupyter's `normalize.less` sets `[hidden] { display: none; }` but bootstrap.min.css set `[hidden] { display: none !important; }` so we also need the `!important` here to be able to override the default hidden behavior on the sphinx rendered scikit-learn.org. See: https://github.com/scikit-learn/scikit-learn/issues/21755 */display: inline-block !important;position: relative;}#sk-container-id-10 div.sk-text-repr-fallback {display: none;}</style><div id=\"sk-container-id-10\" class=\"sk-top-container\"><div class=\"sk-text-repr-fallback\"><pre>ElasticNetCV(cv=5, random_state=17)</pre><b>In a Jupyter environment, please rerun this cell to show the HTML representation or trust the notebook. <br />On GitHub, the HTML representation is unable to render, please try loading this page with nbviewer.org.</b></div><div class=\"sk-container\" hidden><div class=\"sk-item\"><div class=\"sk-estimator sk-toggleable\"><input class=\"sk-toggleable__control sk-hidden--visually\" id=\"sk-estimator-id-10\" type=\"checkbox\" checked><label for=\"sk-estimator-id-10\" class=\"sk-toggleable__label sk-toggleable__label-arrow\">ElasticNetCV</label><div class=\"sk-toggleable__content\"><pre>ElasticNetCV(cv=5, random_state=17)</pre></div></div></div></div></div>"
      ],
      "text/plain": [
       "ElasticNetCV(cv=5, random_state=17)"
      ]
     },
     "execution_count": 62,
     "metadata": {},
     "output_type": "execute_result"
    }
   ],
   "source": [
    "TOPMRIeregr = ElasticNetCV(cv=5, random_state=17)\n",
    "TOPMRIeregr.fit(X_train, y_train)\n"
   ]
  },
  {
   "cell_type": "code",
   "execution_count": 63,
   "id": "70",
   "metadata": {
    "tags": []
   },
   "outputs": [
    {
     "data": {
      "text/html": [
       "<style>#sk-container-id-11 {color: black;}#sk-container-id-11 pre{padding: 0;}#sk-container-id-11 div.sk-toggleable {background-color: white;}#sk-container-id-11 label.sk-toggleable__label {cursor: pointer;display: block;width: 100%;margin-bottom: 0;padding: 0.3em;box-sizing: border-box;text-align: center;}#sk-container-id-11 label.sk-toggleable__label-arrow:before {content: \"▸\";float: left;margin-right: 0.25em;color: #696969;}#sk-container-id-11 label.sk-toggleable__label-arrow:hover:before {color: black;}#sk-container-id-11 div.sk-estimator:hover label.sk-toggleable__label-arrow:before {color: black;}#sk-container-id-11 div.sk-toggleable__content {max-height: 0;max-width: 0;overflow: hidden;text-align: left;background-color: #f0f8ff;}#sk-container-id-11 div.sk-toggleable__content pre {margin: 0.2em;color: black;border-radius: 0.25em;background-color: #f0f8ff;}#sk-container-id-11 input.sk-toggleable__control:checked~div.sk-toggleable__content {max-height: 200px;max-width: 100%;overflow: auto;}#sk-container-id-11 input.sk-toggleable__control:checked~label.sk-toggleable__label-arrow:before {content: \"▾\";}#sk-container-id-11 div.sk-estimator input.sk-toggleable__control:checked~label.sk-toggleable__label {background-color: #d4ebff;}#sk-container-id-11 div.sk-label input.sk-toggleable__control:checked~label.sk-toggleable__label {background-color: #d4ebff;}#sk-container-id-11 input.sk-hidden--visually {border: 0;clip: rect(1px 1px 1px 1px);clip: rect(1px, 1px, 1px, 1px);height: 1px;margin: -1px;overflow: hidden;padding: 0;position: absolute;width: 1px;}#sk-container-id-11 div.sk-estimator {font-family: monospace;background-color: #f0f8ff;border: 1px dotted black;border-radius: 0.25em;box-sizing: border-box;margin-bottom: 0.5em;}#sk-container-id-11 div.sk-estimator:hover {background-color: #d4ebff;}#sk-container-id-11 div.sk-parallel-item::after {content: \"\";width: 100%;border-bottom: 1px solid gray;flex-grow: 1;}#sk-container-id-11 div.sk-label:hover label.sk-toggleable__label {background-color: #d4ebff;}#sk-container-id-11 div.sk-serial::before {content: \"\";position: absolute;border-left: 1px solid gray;box-sizing: border-box;top: 0;bottom: 0;left: 50%;z-index: 0;}#sk-container-id-11 div.sk-serial {display: flex;flex-direction: column;align-items: center;background-color: white;padding-right: 0.2em;padding-left: 0.2em;position: relative;}#sk-container-id-11 div.sk-item {position: relative;z-index: 1;}#sk-container-id-11 div.sk-parallel {display: flex;align-items: stretch;justify-content: center;background-color: white;position: relative;}#sk-container-id-11 div.sk-item::before, #sk-container-id-11 div.sk-parallel-item::before {content: \"\";position: absolute;border-left: 1px solid gray;box-sizing: border-box;top: 0;bottom: 0;left: 50%;z-index: -1;}#sk-container-id-11 div.sk-parallel-item {display: flex;flex-direction: column;z-index: 1;position: relative;background-color: white;}#sk-container-id-11 div.sk-parallel-item:first-child::after {align-self: flex-end;width: 50%;}#sk-container-id-11 div.sk-parallel-item:last-child::after {align-self: flex-start;width: 50%;}#sk-container-id-11 div.sk-parallel-item:only-child::after {width: 0;}#sk-container-id-11 div.sk-dashed-wrapped {border: 1px dashed gray;margin: 0 0.4em 0.5em 0.4em;box-sizing: border-box;padding-bottom: 0.4em;background-color: white;}#sk-container-id-11 div.sk-label label {font-family: monospace;font-weight: bold;display: inline-block;line-height: 1.2em;}#sk-container-id-11 div.sk-label-container {text-align: center;}#sk-container-id-11 div.sk-container {/* jupyter's `normalize.less` sets `[hidden] { display: none; }` but bootstrap.min.css set `[hidden] { display: none !important; }` so we also need the `!important` here to be able to override the default hidden behavior on the sphinx rendered scikit-learn.org. See: https://github.com/scikit-learn/scikit-learn/issues/21755 */display: inline-block !important;position: relative;}#sk-container-id-11 div.sk-text-repr-fallback {display: none;}</style><div id=\"sk-container-id-11\" class=\"sk-top-container\"><div class=\"sk-text-repr-fallback\"><pre>ExtraTreesRegressor(random_state=0)</pre><b>In a Jupyter environment, please rerun this cell to show the HTML representation or trust the notebook. <br />On GitHub, the HTML representation is unable to render, please try loading this page with nbviewer.org.</b></div><div class=\"sk-container\" hidden><div class=\"sk-item\"><div class=\"sk-estimator sk-toggleable\"><input class=\"sk-toggleable__control sk-hidden--visually\" id=\"sk-estimator-id-11\" type=\"checkbox\" checked><label for=\"sk-estimator-id-11\" class=\"sk-toggleable__label sk-toggleable__label-arrow\">ExtraTreesRegressor</label><div class=\"sk-toggleable__content\"><pre>ExtraTreesRegressor(random_state=0)</pre></div></div></div></div></div>"
      ],
      "text/plain": [
       "ExtraTreesRegressor(random_state=0)"
      ]
     },
     "execution_count": 63,
     "metadata": {},
     "output_type": "execute_result"
    }
   ],
   "source": [
    "TOPMRIetreg = ExtraTreesRegressor(n_estimators=100, random_state=0)\n",
    "TOPMRIetreg.fit(X_train, y_train)"
   ]
  },
  {
   "cell_type": "code",
   "execution_count": 64,
   "id": "71",
   "metadata": {
    "tags": []
   },
   "outputs": [],
   "source": [
    "##  Save these four best models"
   ]
  },
  {
   "cell_type": "code",
   "execution_count": 65,
   "id": "72",
   "metadata": {
    "tags": []
   },
   "outputs": [],
   "source": [
    "\n",
    "## optional save models\n",
    "#joblib.dump(TOPMRIlinr, ('../result_models/' + 'auto_harm_topmri_HELIUS_linr.sav'))\n",
    "#joblib.dump(TOPMRIllreg, ('../result_models/'+ 'auto_harm_topmri_HELIUSUS_llreg1.sav'))\n",
    "#joblib.dump(TOPMRIeregr, ('../result_models/'+ 'auto_harm_topmri_HELIUS_eregr3.sav'))\n",
    "#joblib.dump(TOPMRIetreg, ('../result_models/'+ 'auto_harm_topmri_HELIUS_etreg4.sav'))"
   ]
  },
  {
   "cell_type": "markdown",
   "id": "73",
   "metadata": {},
   "source": [
    "# Running whole TOPMRI model over HELIUSUS dataset"
   ]
  },
  {
   "cell_type": "code",
   "execution_count": 66,
   "id": "74",
   "metadata": {
    "tags": []
   },
   "outputs": [],
   "source": [
    "HELIUS_ml_matrix = HELIUS.drop('participant_id', axis=1)\n",
    "X_HELIUS = HELIUS_ml_matrix.drop('age', axis =1)\n",
    "X_HELIUS = X_HELIUS.values\n",
    "X_HELIUS = X_HELIUS.astype('float')\n",
    "y_HELIUS= HELIUS_ml_matrix['age'].values\n",
    "y_HELIUS=y_HELIUS.astype('float')"
   ]
  },
  {
   "cell_type": "code",
   "execution_count": 67,
   "id": "75",
   "metadata": {
    "tags": []
   },
   "outputs": [],
   "source": [
    "X_HELIUS_test = X_HELIUS\n",
    "y_HELIUS_test = y_HELIUS\n"
   ]
  },
  {
   "cell_type": "code",
   "execution_count": 68,
   "id": "76",
   "metadata": {
    "tags": []
   },
   "outputs": [],
   "source": [
    "y_HELIUS_pred = TOPMRIlinr.predict(X_HELIUS_test)"
   ]
  },
  {
   "cell_type": "code",
   "execution_count": 69,
   "id": "77",
   "metadata": {
    "tags": []
   },
   "outputs": [],
   "source": [
    "data= [[\n",
    "    'linear regression',\n",
    "    'auto_harm_topmri_HELIUSUS_linr.sav',\n",
    "    mean_absolute_error(y_HELIUS_test, y_HELIUS_pred),\n",
    "    TOPMRIlinr.score(X_HELIUS_test,y_HELIUS_test),\n",
    "    metrics.explained_variance_score(y_HELIUS_test, y_HELIUS_pred)]]\n",
    "linr_results = pd.DataFrame(data, columns=['algorithm','file_name','mae', 'r2', 'explained_variance'])\n",
    "#linr_results"
   ]
  },
  {
   "cell_type": "code",
   "execution_count": 70,
   "id": "78",
   "metadata": {
    "tags": []
   },
   "outputs": [
    {
     "data": {
      "text/html": [
       "<div>\n",
       "<style scoped>\n",
       "    .dataframe tbody tr th:only-of-type {\n",
       "        vertical-align: middle;\n",
       "    }\n",
       "\n",
       "    .dataframe tbody tr th {\n",
       "        vertical-align: top;\n",
       "    }\n",
       "\n",
       "    .dataframe thead th {\n",
       "        text-align: right;\n",
       "    }\n",
       "</style>\n",
       "<table border=\"1\" class=\"dataframe\">\n",
       "  <thead>\n",
       "    <tr style=\"text-align: right;\">\n",
       "      <th></th>\n",
       "      <th>y_test_real_age</th>\n",
       "      <th>linr_y_pred_age</th>\n",
       "    </tr>\n",
       "  </thead>\n",
       "  <tbody>\n",
       "    <tr>\n",
       "      <th>0</th>\n",
       "      <td>39.0</td>\n",
       "      <td>43.641417</td>\n",
       "    </tr>\n",
       "    <tr>\n",
       "      <th>1</th>\n",
       "      <td>41.0</td>\n",
       "      <td>50.337025</td>\n",
       "    </tr>\n",
       "    <tr>\n",
       "      <th>2</th>\n",
       "      <td>41.0</td>\n",
       "      <td>53.551197</td>\n",
       "    </tr>\n",
       "    <tr>\n",
       "      <th>3</th>\n",
       "      <td>41.0</td>\n",
       "      <td>38.056219</td>\n",
       "    </tr>\n",
       "    <tr>\n",
       "      <th>4</th>\n",
       "      <td>41.0</td>\n",
       "      <td>48.572915</td>\n",
       "    </tr>\n",
       "    <tr>\n",
       "      <th>...</th>\n",
       "      <td>...</td>\n",
       "      <td>...</td>\n",
       "    </tr>\n",
       "    <tr>\n",
       "      <th>551</th>\n",
       "      <td>73.0</td>\n",
       "      <td>59.727742</td>\n",
       "    </tr>\n",
       "    <tr>\n",
       "      <th>552</th>\n",
       "      <td>73.0</td>\n",
       "      <td>75.644257</td>\n",
       "    </tr>\n",
       "    <tr>\n",
       "      <th>553</th>\n",
       "      <td>73.0</td>\n",
       "      <td>78.750854</td>\n",
       "    </tr>\n",
       "    <tr>\n",
       "      <th>554</th>\n",
       "      <td>74.0</td>\n",
       "      <td>72.542523</td>\n",
       "    </tr>\n",
       "    <tr>\n",
       "      <th>555</th>\n",
       "      <td>76.0</td>\n",
       "      <td>71.895025</td>\n",
       "    </tr>\n",
       "  </tbody>\n",
       "</table>\n",
       "<p>556 rows × 2 columns</p>\n",
       "</div>"
      ],
      "text/plain": [
       "     y_test_real_age  linr_y_pred_age\n",
       "0               39.0        43.641417\n",
       "1               41.0        50.337025\n",
       "2               41.0        53.551197\n",
       "3               41.0        38.056219\n",
       "4               41.0        48.572915\n",
       "..               ...              ...\n",
       "551             73.0        59.727742\n",
       "552             73.0        75.644257\n",
       "553             73.0        78.750854\n",
       "554             74.0        72.542523\n",
       "555             76.0        71.895025\n",
       "\n",
       "[556 rows x 2 columns]"
      ]
     },
     "execution_count": 70,
     "metadata": {},
     "output_type": "execute_result"
    }
   ],
   "source": [
    "linr_y_test = y_HELIUS_test\n",
    "linr_y_pred = y_HELIUS_pred\n",
    "linr_compare = pd.DataFrame(\n",
    "    {'y_test_real_age': linr_y_test,\n",
    "     'linr_y_pred_age': linr_y_pred,\n",
    "    })\n",
    "#linr_compare = linr_compare.reset_index()\n",
    "linr_compare"
   ]
  },
  {
   "cell_type": "code",
   "execution_count": 71,
   "id": "79",
   "metadata": {
    "tags": []
   },
   "outputs": [],
   "source": [
    "linr_compare.to_csv(output_folder + '/whole_auto_harm_topmri_HELIUSUS_linr_compare_on_top.csv')"
   ]
  },
  {
   "cell_type": "code",
   "execution_count": 72,
   "id": "80",
   "metadata": {
    "tags": []
   },
   "outputs": [],
   "source": [
    "y_HELIUS_pred = TOPMRIllreg.predict(X_HELIUS_test)"
   ]
  },
  {
   "cell_type": "code",
   "execution_count": 73,
   "id": "81",
   "metadata": {
    "tags": []
   },
   "outputs": [
    {
     "data": {
      "text/html": [
       "<div>\n",
       "<style scoped>\n",
       "    .dataframe tbody tr th:only-of-type {\n",
       "        vertical-align: middle;\n",
       "    }\n",
       "\n",
       "    .dataframe tbody tr th {\n",
       "        vertical-align: top;\n",
       "    }\n",
       "\n",
       "    .dataframe thead th {\n",
       "        text-align: right;\n",
       "    }\n",
       "</style>\n",
       "<table border=\"1\" class=\"dataframe\">\n",
       "  <thead>\n",
       "    <tr style=\"text-align: right;\">\n",
       "      <th></th>\n",
       "      <th>algorithm</th>\n",
       "      <th>file_name</th>\n",
       "      <th>mae</th>\n",
       "      <th>r2</th>\n",
       "      <th>explained_variance</th>\n",
       "    </tr>\n",
       "  </thead>\n",
       "  <tbody>\n",
       "    <tr>\n",
       "      <th>0</th>\n",
       "      <td>lasso regression</td>\n",
       "      <td>auto_harm_whole_topmri_HELIUSUS_llreg.sav</td>\n",
       "      <td>6.355752</td>\n",
       "      <td>-0.075617</td>\n",
       "      <td>0.195683</td>\n",
       "    </tr>\n",
       "  </tbody>\n",
       "</table>\n",
       "</div>"
      ],
      "text/plain": [
       "          algorithm                                  file_name       mae  \\\n",
       "0  lasso regression  auto_harm_whole_topmri_HELIUSUS_llreg.sav  6.355752   \n",
       "\n",
       "         r2  explained_variance  \n",
       "0 -0.075617            0.195683  "
      ]
     },
     "execution_count": 73,
     "metadata": {},
     "output_type": "execute_result"
    }
   ],
   "source": [
    "data= [[\n",
    "    'lasso regression',\n",
    "    'auto_harm_whole_topmri_HELIUSUS_llreg.sav',\n",
    "    mean_absolute_error(y_HELIUS_test, y_HELIUS_pred),\n",
    "    TOPMRIllreg.score(X_HELIUS_test,y_HELIUS_test),\n",
    "    metrics.explained_variance_score(y_HELIUS_test, y_HELIUS_pred)]]\n",
    "llreg_results = pd.DataFrame(data, columns=['algorithm','file_name','mae', 'r2', 'explained_variance'])\n",
    "llreg_results"
   ]
  },
  {
   "cell_type": "code",
   "execution_count": 74,
   "id": "82",
   "metadata": {
    "tags": []
   },
   "outputs": [
    {
     "data": {
      "text/html": [
       "<div>\n",
       "<style scoped>\n",
       "    .dataframe tbody tr th:only-of-type {\n",
       "        vertical-align: middle;\n",
       "    }\n",
       "\n",
       "    .dataframe tbody tr th {\n",
       "        vertical-align: top;\n",
       "    }\n",
       "\n",
       "    .dataframe thead th {\n",
       "        text-align: right;\n",
       "    }\n",
       "</style>\n",
       "<table border=\"1\" class=\"dataframe\">\n",
       "  <thead>\n",
       "    <tr style=\"text-align: right;\">\n",
       "      <th></th>\n",
       "      <th>y_test_real_age</th>\n",
       "      <th>linr_y_pred_age</th>\n",
       "    </tr>\n",
       "  </thead>\n",
       "  <tbody>\n",
       "    <tr>\n",
       "      <th>0</th>\n",
       "      <td>39.0</td>\n",
       "      <td>42.942676</td>\n",
       "    </tr>\n",
       "    <tr>\n",
       "      <th>1</th>\n",
       "      <td>41.0</td>\n",
       "      <td>47.889521</td>\n",
       "    </tr>\n",
       "    <tr>\n",
       "      <th>2</th>\n",
       "      <td>41.0</td>\n",
       "      <td>51.935128</td>\n",
       "    </tr>\n",
       "    <tr>\n",
       "      <th>3</th>\n",
       "      <td>41.0</td>\n",
       "      <td>37.459963</td>\n",
       "    </tr>\n",
       "    <tr>\n",
       "      <th>4</th>\n",
       "      <td>41.0</td>\n",
       "      <td>46.256117</td>\n",
       "    </tr>\n",
       "    <tr>\n",
       "      <th>...</th>\n",
       "      <td>...</td>\n",
       "      <td>...</td>\n",
       "    </tr>\n",
       "    <tr>\n",
       "      <th>551</th>\n",
       "      <td>73.0</td>\n",
       "      <td>57.874821</td>\n",
       "    </tr>\n",
       "    <tr>\n",
       "      <th>552</th>\n",
       "      <td>73.0</td>\n",
       "      <td>71.459768</td>\n",
       "    </tr>\n",
       "    <tr>\n",
       "      <th>553</th>\n",
       "      <td>73.0</td>\n",
       "      <td>74.244903</td>\n",
       "    </tr>\n",
       "    <tr>\n",
       "      <th>554</th>\n",
       "      <td>74.0</td>\n",
       "      <td>67.862633</td>\n",
       "    </tr>\n",
       "    <tr>\n",
       "      <th>555</th>\n",
       "      <td>76.0</td>\n",
       "      <td>67.071476</td>\n",
       "    </tr>\n",
       "  </tbody>\n",
       "</table>\n",
       "<p>556 rows × 2 columns</p>\n",
       "</div>"
      ],
      "text/plain": [
       "     y_test_real_age  linr_y_pred_age\n",
       "0               39.0        42.942676\n",
       "1               41.0        47.889521\n",
       "2               41.0        51.935128\n",
       "3               41.0        37.459963\n",
       "4               41.0        46.256117\n",
       "..               ...              ...\n",
       "551             73.0        57.874821\n",
       "552             73.0        71.459768\n",
       "553             73.0        74.244903\n",
       "554             74.0        67.862633\n",
       "555             76.0        67.071476\n",
       "\n",
       "[556 rows x 2 columns]"
      ]
     },
     "execution_count": 74,
     "metadata": {},
     "output_type": "execute_result"
    }
   ],
   "source": [
    "llreg_y_test = y_HELIUS_test\n",
    "llreg_y_pred = y_HELIUS_pred\n",
    "llreg_compare = pd.DataFrame(\n",
    "    {'y_test_real_age': llreg_y_test,\n",
    "     'linr_y_pred_age': llreg_y_pred,\n",
    "    })\n",
    "llreg_compare"
   ]
  },
  {
   "cell_type": "code",
   "execution_count": 75,
   "id": "83",
   "metadata": {
    "tags": []
   },
   "outputs": [],
   "source": [
    "llreg_compare.to_csv(output_folder + '/whole_auto_harm_topmri_HELIUS_llreg_compare_on_top.csv')"
   ]
  },
  {
   "cell_type": "code",
   "execution_count": 76,
   "id": "84",
   "metadata": {
    "tags": []
   },
   "outputs": [],
   "source": [
    "y_HELIUS_pred = TOPMRIeregr.predict(X_HELIUS_test)"
   ]
  },
  {
   "cell_type": "code",
   "execution_count": 78,
   "id": "85",
   "metadata": {
    "tags": []
   },
   "outputs": [],
   "source": [
    "data= [[\n",
    "    'elasticnetCV',\n",
    "    'auto_harm_whole_topmri_HELIUSlinr.sav',\n",
    "    mean_absolute_error(y_HELIUS_test, y_HELIUS_pred),\n",
    "    TOPMRIeregr.score (X_HELIUS_test, y_HELIUS_test),\n",
    "    metrics.explained_variance_score(y_HELIUS_test, y_HELIUS_pred)]]\n",
    "eregr_results = pd.DataFrame(data, columns=['algorithm','file_name','mae', 'r2', 'explained_variance'])\n",
    "#eregr_results"
   ]
  },
  {
   "cell_type": "code",
   "execution_count": 79,
   "id": "86",
   "metadata": {
    "tags": []
   },
   "outputs": [
    {
     "data": {
      "text/html": [
       "<div>\n",
       "<style scoped>\n",
       "    .dataframe tbody tr th:only-of-type {\n",
       "        vertical-align: middle;\n",
       "    }\n",
       "\n",
       "    .dataframe tbody tr th {\n",
       "        vertical-align: top;\n",
       "    }\n",
       "\n",
       "    .dataframe thead th {\n",
       "        text-align: right;\n",
       "    }\n",
       "</style>\n",
       "<table border=\"1\" class=\"dataframe\">\n",
       "  <thead>\n",
       "    <tr style=\"text-align: right;\">\n",
       "      <th></th>\n",
       "      <th>y_test_real_age</th>\n",
       "      <th>linr_y_pred_age</th>\n",
       "    </tr>\n",
       "  </thead>\n",
       "  <tbody>\n",
       "    <tr>\n",
       "      <th>0</th>\n",
       "      <td>39.0</td>\n",
       "      <td>55.894804</td>\n",
       "    </tr>\n",
       "    <tr>\n",
       "      <th>1</th>\n",
       "      <td>41.0</td>\n",
       "      <td>49.600154</td>\n",
       "    </tr>\n",
       "    <tr>\n",
       "      <th>2</th>\n",
       "      <td>41.0</td>\n",
       "      <td>55.519189</td>\n",
       "    </tr>\n",
       "    <tr>\n",
       "      <th>3</th>\n",
       "      <td>41.0</td>\n",
       "      <td>55.977905</td>\n",
       "    </tr>\n",
       "    <tr>\n",
       "      <th>4</th>\n",
       "      <td>41.0</td>\n",
       "      <td>37.126466</td>\n",
       "    </tr>\n",
       "    <tr>\n",
       "      <th>...</th>\n",
       "      <td>...</td>\n",
       "      <td>...</td>\n",
       "    </tr>\n",
       "    <tr>\n",
       "      <th>551</th>\n",
       "      <td>73.0</td>\n",
       "      <td>69.533703</td>\n",
       "    </tr>\n",
       "    <tr>\n",
       "      <th>552</th>\n",
       "      <td>73.0</td>\n",
       "      <td>71.957543</td>\n",
       "    </tr>\n",
       "    <tr>\n",
       "      <th>553</th>\n",
       "      <td>73.0</td>\n",
       "      <td>63.347884</td>\n",
       "    </tr>\n",
       "    <tr>\n",
       "      <th>554</th>\n",
       "      <td>74.0</td>\n",
       "      <td>62.740989</td>\n",
       "    </tr>\n",
       "    <tr>\n",
       "      <th>555</th>\n",
       "      <td>76.0</td>\n",
       "      <td>62.189606</td>\n",
       "    </tr>\n",
       "  </tbody>\n",
       "</table>\n",
       "<p>556 rows × 2 columns</p>\n",
       "</div>"
      ],
      "text/plain": [
       "     y_test_real_age  linr_y_pred_age\n",
       "0               39.0        55.894804\n",
       "1               41.0        49.600154\n",
       "2               41.0        55.519189\n",
       "3               41.0        55.977905\n",
       "4               41.0        37.126466\n",
       "..               ...              ...\n",
       "551             73.0        69.533703\n",
       "552             73.0        71.957543\n",
       "553             73.0        63.347884\n",
       "554             74.0        62.740989\n",
       "555             76.0        62.189606\n",
       "\n",
       "[556 rows x 2 columns]"
      ]
     },
     "execution_count": 79,
     "metadata": {},
     "output_type": "execute_result"
    }
   ],
   "source": [
    "eregr_y_test = y_HELIUS_test\n",
    "eregr_y_pred = y_HELIUS_pred\n",
    "eregr_compare = pd.DataFrame(\n",
    "    {'y_test_real_age': eregr_y_test,\n",
    "     'linr_y_pred_age': eregr_y_pred,\n",
    "    })\n",
    "#eregr_compare = eregr_compare.reset_index()\n",
    "eregr_compare"
   ]
  },
  {
   "cell_type": "code",
   "execution_count": 80,
   "id": "87",
   "metadata": {
    "tags": []
   },
   "outputs": [],
   "source": [
    "eregr_compare.to_csv(output_folder + '/whole_auto_harm_topmri_HELIUS_eregr_compare_on_top.csv')"
   ]
  },
  {
   "cell_type": "code",
   "execution_count": 81,
   "id": "88",
   "metadata": {
    "tags": []
   },
   "outputs": [],
   "source": [
    "y_HELIUS_pred = TOPMRIetreg.predict(X_HELIUS_test)"
   ]
  },
  {
   "cell_type": "code",
   "execution_count": 82,
   "id": "89",
   "metadata": {
    "tags": []
   },
   "outputs": [],
   "source": [
    "data= [[\n",
    "    'extra trees',\n",
    "    'auto_harm_topmri_HELIUS_linr.sav',\n",
    "    mean_absolute_error(y_HELIUS_test, y_HELIUS_pred),\n",
    "    TOPMRIetreg.score(X_HELIUS_test,y_HELIUS_test),\n",
    "    metrics.explained_variance_score(y_HELIUS_test, y_HELIUS_pred)]]\n",
    "etreg_results = pd.DataFrame(data, columns=['algorithm','file_name','mae', 'r2', 'explained_variance'])\n",
    "#etreg_results"
   ]
  },
  {
   "cell_type": "code",
   "execution_count": 83,
   "id": "90",
   "metadata": {
    "tags": []
   },
   "outputs": [
    {
     "data": {
      "text/html": [
       "<div>\n",
       "<style scoped>\n",
       "    .dataframe tbody tr th:only-of-type {\n",
       "        vertical-align: middle;\n",
       "    }\n",
       "\n",
       "    .dataframe tbody tr th {\n",
       "        vertical-align: top;\n",
       "    }\n",
       "\n",
       "    .dataframe thead th {\n",
       "        text-align: right;\n",
       "    }\n",
       "</style>\n",
       "<table border=\"1\" class=\"dataframe\">\n",
       "  <thead>\n",
       "    <tr style=\"text-align: right;\">\n",
       "      <th></th>\n",
       "      <th>y_test_real_age</th>\n",
       "      <th>etreg_y_pred_age</th>\n",
       "    </tr>\n",
       "  </thead>\n",
       "  <tbody>\n",
       "    <tr>\n",
       "      <th>0</th>\n",
       "      <td>39.0</td>\n",
       "      <td>43.755141</td>\n",
       "    </tr>\n",
       "    <tr>\n",
       "      <th>1</th>\n",
       "      <td>41.0</td>\n",
       "      <td>50.563872</td>\n",
       "    </tr>\n",
       "    <tr>\n",
       "      <th>2</th>\n",
       "      <td>41.0</td>\n",
       "      <td>49.989869</td>\n",
       "    </tr>\n",
       "    <tr>\n",
       "      <th>3</th>\n",
       "      <td>41.0</td>\n",
       "      <td>39.702638</td>\n",
       "    </tr>\n",
       "    <tr>\n",
       "      <th>4</th>\n",
       "      <td>41.0</td>\n",
       "      <td>52.088913</td>\n",
       "    </tr>\n",
       "    <tr>\n",
       "      <th>...</th>\n",
       "      <td>...</td>\n",
       "      <td>...</td>\n",
       "    </tr>\n",
       "    <tr>\n",
       "      <th>551</th>\n",
       "      <td>73.0</td>\n",
       "      <td>64.373390</td>\n",
       "    </tr>\n",
       "    <tr>\n",
       "      <th>552</th>\n",
       "      <td>73.0</td>\n",
       "      <td>70.306096</td>\n",
       "    </tr>\n",
       "    <tr>\n",
       "      <th>553</th>\n",
       "      <td>73.0</td>\n",
       "      <td>74.393662</td>\n",
       "    </tr>\n",
       "    <tr>\n",
       "      <th>554</th>\n",
       "      <td>74.0</td>\n",
       "      <td>68.590922</td>\n",
       "    </tr>\n",
       "    <tr>\n",
       "      <th>555</th>\n",
       "      <td>76.0</td>\n",
       "      <td>71.041595</td>\n",
       "    </tr>\n",
       "  </tbody>\n",
       "</table>\n",
       "<p>556 rows × 2 columns</p>\n",
       "</div>"
      ],
      "text/plain": [
       "     y_test_real_age  etreg_y_pred_age\n",
       "0               39.0         43.755141\n",
       "1               41.0         50.563872\n",
       "2               41.0         49.989869\n",
       "3               41.0         39.702638\n",
       "4               41.0         52.088913\n",
       "..               ...               ...\n",
       "551             73.0         64.373390\n",
       "552             73.0         70.306096\n",
       "553             73.0         74.393662\n",
       "554             74.0         68.590922\n",
       "555             76.0         71.041595\n",
       "\n",
       "[556 rows x 2 columns]"
      ]
     },
     "execution_count": 83,
     "metadata": {},
     "output_type": "execute_result"
    }
   ],
   "source": [
    "etreg_y_test = y_HELIUS_test\n",
    "etreg_y_pred = y_HELIUS_pred\n",
    "etreg_compare = pd.DataFrame(\n",
    "    {'y_test_real_age': etreg_y_test,\n",
    "     'etreg_y_pred_age': etreg_y_pred,\n",
    "    })\n",
    "#etreg_compare = etreg_compare.reset_index()\n",
    "etreg_compare"
   ]
  },
  {
   "cell_type": "code",
   "execution_count": 84,
   "id": "91",
   "metadata": {
    "tags": []
   },
   "outputs": [],
   "source": [
    "etreg_compare.to_csv(output_folder + '/whole_auto_harm_topmri_HELIUSUS_etreg_compare_on_top.csv')"
   ]
  },
  {
   "cell_type": "code",
   "execution_count": 85,
   "id": "92",
   "metadata": {
    "tags": []
   },
   "outputs": [
    {
     "data": {
      "text/html": [
       "<div>\n",
       "<style scoped>\n",
       "    .dataframe tbody tr th:only-of-type {\n",
       "        vertical-align: middle;\n",
       "    }\n",
       "\n",
       "    .dataframe tbody tr th {\n",
       "        vertical-align: top;\n",
       "    }\n",
       "\n",
       "    .dataframe thead th {\n",
       "        text-align: right;\n",
       "    }\n",
       "</style>\n",
       "<table border=\"1\" class=\"dataframe\">\n",
       "  <thead>\n",
       "    <tr style=\"text-align: right;\">\n",
       "      <th></th>\n",
       "      <th>algorithm</th>\n",
       "      <th>file_name</th>\n",
       "      <th>mae</th>\n",
       "      <th>r2</th>\n",
       "      <th>explained_variance</th>\n",
       "    </tr>\n",
       "  </thead>\n",
       "  <tbody>\n",
       "    <tr>\n",
       "      <th>0</th>\n",
       "      <td>linear regression</td>\n",
       "      <td>auto_harm_topmri_HELIUSUS_linr.sav</td>\n",
       "      <td>6.166411</td>\n",
       "      <td>-0.023054</td>\n",
       "      <td>0.010401</td>\n",
       "    </tr>\n",
       "    <tr>\n",
       "      <th>0</th>\n",
       "      <td>lasso regression</td>\n",
       "      <td>auto_harm_whole_topmri_HELIUSUS_llreg.sav</td>\n",
       "      <td>6.355752</td>\n",
       "      <td>-0.075617</td>\n",
       "      <td>0.195683</td>\n",
       "    </tr>\n",
       "    <tr>\n",
       "      <th>0</th>\n",
       "      <td>elasticnetCV</td>\n",
       "      <td>auto_harm_whole_topmri_HELIUSlinr.sav</td>\n",
       "      <td>8.194690</td>\n",
       "      <td>-0.843058</td>\n",
       "      <td>-0.754434</td>\n",
       "    </tr>\n",
       "    <tr>\n",
       "      <th>0</th>\n",
       "      <td>extra trees</td>\n",
       "      <td>auto_harm_topmri_HELIUS_linr.sav</td>\n",
       "      <td>5.730209</td>\n",
       "      <td>0.102870</td>\n",
       "      <td>0.105131</td>\n",
       "    </tr>\n",
       "  </tbody>\n",
       "</table>\n",
       "</div>"
      ],
      "text/plain": [
       "           algorithm                                  file_name       mae  \\\n",
       "0  linear regression         auto_harm_topmri_HELIUSUS_linr.sav  6.166411   \n",
       "0   lasso regression  auto_harm_whole_topmri_HELIUSUS_llreg.sav  6.355752   \n",
       "0       elasticnetCV      auto_harm_whole_topmri_HELIUSlinr.sav  8.194690   \n",
       "0        extra trees           auto_harm_topmri_HELIUS_linr.sav  5.730209   \n",
       "\n",
       "         r2  explained_variance  \n",
       "0 -0.023054            0.010401  \n",
       "0 -0.075617            0.195683  \n",
       "0 -0.843058           -0.754434  \n",
       "0  0.102870            0.105131  "
      ]
     },
     "execution_count": 85,
     "metadata": {},
     "output_type": "execute_result"
    }
   ],
   "source": [
    "topmri_based_auto_combat_harmonized_on_HELIUS =pd.concat([linr_results,\n",
    "                   llreg_results,\n",
    "                   eregr_results,\n",
    "                  etreg_results],\n",
    "                  axis=0)\n",
    "topmri_based_auto_combat_harmonized_on_HELIUS"
   ]
  },
  {
   "cell_type": "code",
   "execution_count": 86,
   "id": "93",
   "metadata": {
    "tags": []
   },
   "outputs": [],
   "source": [
    "topmri_based_auto_combat_harmonized_on_HELIUS.to_csv(output_folder + '/topmri_based_auto_combat_harmonized_on_HELIUS.csv')"
   ]
  },
  {
   "cell_type": "code",
   "execution_count": null,
   "id": "94",
   "metadata": {},
   "outputs": [],
   "source": []
  }
 ],
 "metadata": {
  "kernelspec": {
   "display_name": "Python 3 (ipykernel)",
   "language": "python",
   "name": "python3"
  },
  "language_info": {
   "codemirror_mode": {
    "name": "ipython",
    "version": 3
   },
   "file_extension": ".py",
   "mimetype": "text/x-python",
   "name": "python",
   "nbconvert_exporter": "python",
   "pygments_lexer": "ipython3",
   "version": "3.11.6"
  }
 },
 "nbformat": 4,
 "nbformat_minor": 5
}
