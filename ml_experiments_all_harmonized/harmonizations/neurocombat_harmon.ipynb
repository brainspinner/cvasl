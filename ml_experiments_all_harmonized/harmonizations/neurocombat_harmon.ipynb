{
 "cells": [
  {
   "cell_type": "markdown",
   "id": "0",
   "metadata": {},
   "source": [
    "#  Neurocmbat TOP and StrokeMRI harmonized datasets"
   ]
  },
  {
   "cell_type": "markdown",
   "id": "1",
   "metadata": {},
   "source": [
    "Note this must be run in the `neuron` environment"
   ]
  },
  {
   "cell_type": "markdown",
   "id": "2",
   "metadata": {
    "tags": []
   },
   "source": [
    "## import libraries"
   ]
  },
  {
   "cell_type": "code",
   "execution_count": null,
   "id": "3",
   "metadata": {
    "tags": []
   },
   "outputs": [],
   "source": [
    "import os\n",
    "import sys\n",
    "import pandas as pd\n",
    "import numpy as np\n",
    "\n",
    "\n",
    "sys.path.insert(0, '../../')  # path to functions\n",
    "import cvasl.vendor.neurocombat.neurocombat as neurocombat\n",
    "import cvasl.harmony as har"
   ]
  },
  {
   "cell_type": "markdown",
   "id": "4",
   "metadata": {},
   "source": [
    "## Let's see how we would apply this to our data\n",
    "We will have to flip it on it's side to make it work"
   ]
  },
  {
   "cell_type": "code",
   "execution_count": null,
   "id": "5",
   "metadata": {
    "tags": []
   },
   "outputs": [],
   "source": [
    "# filepath = '../open_work/internal_results/cleaned_pvc2s/' \n",
    "# filename_mri = os.path.join(filepath,'StrokeMRI_pvc2c.csv') \n",
    "# filename_top = os.path.join(filepath,'TOP_pvc2c.csv') "
   ]
  },
  {
   "cell_type": "code",
   "execution_count": null,
   "id": "6",
   "metadata": {
    "tags": []
   },
   "outputs": [],
   "source": [
    "#pd.read_csv(filename_mri)# Datasets for this work\n",
    "EDIS_path = '../our_datasets/EDIS/'\n",
    "HELIUS_path = '../our_datasets/HELIUS/'\n",
    "Insight46_path = '../our_datasets/Insight46/'\n",
    "SABRE_path = '../our_datasets/SABRE/'\n",
    "MRI_path = '../our_datasets/StrokeMRI/'\n",
    "TOP_path = '../our_datasets/TOP/'\n",
    "file_name = 'TrainingDataComplete.csv'\n",
    "\n",
    "TOP_file = os.path.join(TOP_path, file_name)\n",
    "MRI_file = os.path.join(MRI_path, file_name)\n",
    "EDIS_file = os.path.join(EDIS_path, file_name)\n",
    "#HELIUS_file = os.path.join(HELIUS_path, file_name)\n",
    "Insight46_file = os.path.join(Insight46_path, file_name)\n",
    "SABRE_file = os.path.join(SABRE_path, file_name)\n",
    "\n",
    "# EDIS = pd.read_csv(EDIS_file)\n",
    "# #HELIUS = pd.read_csv(HELIUS_file)\n",
    "# Insight46 = pd.read_csv(Insight46_file)\n",
    "# SABRE = pd.read_csv(SABRE_file)\n",
    "# TOP = pd.read_csv(TOP_file)\n",
    "# MRI = pd.read_csv(MRI_file)"
   ]
  },
  {
   "cell_type": "code",
   "execution_count": null,
   "id": "74aeb9cd-5f2b-4c57-96f1-eb53f827f837",
   "metadata": {
    "tags": []
   },
   "outputs": [],
   "source": []
  },
  {
   "cell_type": "code",
   "execution_count": null,
   "id": "7abab874-0dfe-4ce3-8a17-001e3acc7544",
   "metadata": {
    "tags": []
   },
   "outputs": [],
   "source": [
    "pd.read_csv(MRI_file)"
   ]
  },
  {
   "cell_type": "code",
   "execution_count": null,
   "id": "7206cfd3-ff46-4e13-843b-14e00d8041b8",
   "metadata": {
    "tags": []
   },
   "outputs": [],
   "source": [
    "#filename_mri"
   ]
  },
  {
   "cell_type": "code",
   "execution_count": null,
   "id": "7",
   "metadata": {},
   "outputs": [],
   "source": [
    "# below must be modified to get rid of columns we don't use\n",
    "#STOP"
   ]
  },
  {
   "cell_type": "code",
   "execution_count": null,
   "id": "8",
   "metadata": {
    "tags": []
   },
   "outputs": [],
   "source": [
    "def prep_for_neurocombat(dataframename1, dataframename2):\n",
    "    \"\"\"\n",
    "    This function takes two dataframes in the cvasl format,\n",
    "    then turns them into three items needed for the \n",
    "    neurocombat algorithm with re-identification.\n",
    "    \n",
    "    \"\"\"\n",
    "    our_1_frame = pd.read_csv(dataframename1)\n",
    "    our_2_frame = pd.read_csv(dataframename2)\n",
    "    our_1_frame.columns = our_1_frame.columns.str.lower()\n",
    "    our_2_frame.columns = our_2_frame.columns.str.lower()\n",
    "    two_selection = our_2_frame.drop(['unnamed: 0'],axis=1)\n",
    "    one_selection = our_1_frame.drop(['unnamed: 0'],axis=1)\n",
    "    one_selection = one_selection.set_index('participant_id')\n",
    "    two_selection = two_selection.set_index('participant_id')\n",
    "    one_selection = one_selection.T\n",
    "    two_selection = two_selection.T\n",
    "    both_togetherF = pd.concat([one_selection, two_selection], axis=1, join=\"inner\")\n",
    "    print(\"Nan count\",both_togetherF.isna().sum().sum())\n",
    "    features_only = both_togetherF[2:]\n",
    "    dictionary_features_len = len(features_only.T.columns)\n",
    "    number = 0\n",
    "    made_keys = [] \n",
    "    made_vals = [] \n",
    "    for n in features_only.T.columns:\n",
    "\n",
    "        made_keys.append(number)\n",
    "        made_vals.append(n)\n",
    "        number +=1\n",
    "    feature_dictF = dict(map(lambda i,j : (i,j) , made_keys,made_vals))\n",
    "    ftF = features_only.reset_index()\n",
    "    ftF = ftF.rename(columns={\"index\": \"A\"})\n",
    "    ftF = ftF.drop(['A'], axis=1)\n",
    "    ftF = ftF.dropna()\n",
    "    btF = both_togetherF.reset_index()\n",
    "    btF = btF.rename(columns={\"index\": \"A\"})\n",
    "    btF = btF.drop(['A'], axis=1)\n",
    "    btF = btF.dropna()\n",
    "    len1 = len(one_selection.columns)\n",
    "    len2 = len(two_selection.columns)\n",
    "    return both_togetherF, ftF, btF, feature_dictF, len1, len2"
   ]
  },
  {
   "cell_type": "code",
   "execution_count": null,
   "id": "9",
   "metadata": {
    "tags": []
   },
   "outputs": [],
   "source": [
    "both_togetherF, ftF, btF, feature_dictF, len1, len2 = prep_for_neurocombat(MRI_file, TOP_file)"
   ]
  },
  {
   "cell_type": "code",
   "execution_count": null,
   "id": "10",
   "metadata": {
    "tags": []
   },
   "outputs": [],
   "source": [
    "our_mri_data = pd.read_csv(MRI_file)\n",
    "our_top_data = pd.read_csv(TOP_file)"
   ]
  },
  {
   "cell_type": "code",
   "execution_count": null,
   "id": "11",
   "metadata": {
    "tags": []
   },
   "outputs": [],
   "source": [
    "# # save off csv\n",
    "# both_together.to_csv('both_top_mri_together.csv')"
   ]
  },
  {
   "cell_type": "code",
   "execution_count": null,
   "id": "12",
   "metadata": {
    "tags": []
   },
   "outputs": [],
   "source": [
    "# # make and save of csv of features only\n",
    "# features_only = both_together[2:]\n",
    "# #features_only.to_csv('features_only_top_mri.csv')"
   ]
  },
  {
   "cell_type": "code",
   "execution_count": null,
   "id": "13",
   "metadata": {
    "tags": []
   },
   "outputs": [],
   "source": [
    "ftF.to_csv('ftF_top_mri.csv')"
   ]
  },
  {
   "cell_type": "code",
   "execution_count": null,
   "id": "14",
   "metadata": {
    "tags": []
   },
   "outputs": [],
   "source": [
    "data = np.genfromtxt('ftF_top_mri.csv', delimiter=\",\", skip_header=1)\n",
    "data = data[:, 1:]\n",
    "data"
   ]
  },
  {
   "cell_type": "code",
   "execution_count": null,
   "id": "15",
   "metadata": {
    "tags": []
   },
   "outputs": [],
   "source": [
    "# Specifying the batch (scanner variable) as well as a sex covariate to preserve:\n",
    "first_columns_as_one = [1] * len1\n",
    "last_columns_as_two = [2] * len2\n",
    "covars = {'batch':first_columns_as_one + last_columns_as_two,\n",
    "          'sex':both_togetherF.loc['sex',:].values.tolist(),\n",
    "           'age':both_togetherF.loc['age',:].values.tolist(),} \n",
    "covars = pd.DataFrame(covars) "
   ]
  },
  {
   "cell_type": "code",
   "execution_count": null,
   "id": "16",
   "metadata": {
    "tags": []
   },
   "outputs": [],
   "source": [
    "# specifify sex as categorical\n",
    "categorical_cols = ['sex']\n",
    "# To specify the name of the variable that encodes for the scanner/batch covariate:\n",
    "batch_col_mine = 'batch'\n",
    "our_continuous_col=['age']\n",
    "#Harmonization step:\n",
    "data_combat = neurocombat.neuroCombat(dat=data,\n",
    "    covars=covars,\n",
    "    batch_col=batch_col_mine,\n",
    "    continuous_cols=our_continuous_col,\n",
    "    categorical_cols=categorical_cols)[\"data\"]\n",
    "\n",
    "# (n_dat, covars, batch_col, continuous_cols=continuous_cols,\n",
    "#                                     categorical_cols=categorical_cols)"
   ]
  },
  {
   "cell_type": "code",
   "execution_count": null,
   "id": "17",
   "metadata": {
    "tags": []
   },
   "outputs": [],
   "source": [
    "neurocombat = pd.DataFrame(data_combat)\n",
    "neurocombat"
   ]
  },
  {
   "cell_type": "code",
   "execution_count": null,
   "id": "18",
   "metadata": {
    "tags": []
   },
   "outputs": [],
   "source": [
    "def make_topper(btF, row0,row1):\n",
    "    \"\"\"\n",
    "    This function makes top rows for something harmonized\n",
    "    out of the btF part produced with prep_for_neurocombat(dataframename1, dataframename2)\n",
    "    \"\"\"\n",
    "    topperF = btF.head(2)\n",
    "    topperF = topperF.rename_axis(None, axis=\"columns\")\n",
    "    topperF = topperF.reset_index(drop=False)\n",
    "    topperF = topperF.rename(columns={\"index\": \"char\"})\n",
    "    topperF['char'][0] = row0#'age'\n",
    "    topperF['char'][1] = row1#'sex'\n",
    "    return topperF"
   ]
  },
  {
   "cell_type": "code",
   "execution_count": null,
   "id": "19",
   "metadata": {
    "tags": []
   },
   "outputs": [],
   "source": [
    "topperF = make_topper(btF,'age', 'sex')"
   ]
  },
  {
   "cell_type": "code",
   "execution_count": null,
   "id": "20",
   "metadata": {
    "tags": []
   },
   "outputs": [],
   "source": [
    "bottom = neurocombat.reset_index(drop=False)\n",
    "bottom = bottom.rename(columns={\"index\": \"char\"})\n",
    "bottom.columns = topperF.columns"
   ]
  },
  {
   "cell_type": "code",
   "execution_count": null,
   "id": "21",
   "metadata": {
    "tags": []
   },
   "outputs": [],
   "source": [
    "back_together = pd.concat([topperF, bottom])\n",
    "back_together = back_together.T\n",
    "#back_together"
   ]
  },
  {
   "cell_type": "code",
   "execution_count": null,
   "id": "22",
   "metadata": {
    "tags": []
   },
   "outputs": [],
   "source": [
    "new_header = back_together.iloc[0] #grab the first row for the header\n",
    "back_together.columns = new_header #set the header row as the df header\n",
    "back_together = back_together[1:]\n",
    "#back_together"
   ]
  },
  {
   "cell_type": "code",
   "execution_count": null,
   "id": "23",
   "metadata": {
    "tags": []
   },
   "outputs": [],
   "source": [
    "back_together.head(3)"
   ]
  },
  {
   "cell_type": "code",
   "execution_count": null,
   "id": "24",
   "metadata": {
    "tags": []
   },
   "outputs": [],
   "source": [
    "neuro_harm_top =back_together.tail(len2)\n",
    "neuro_harm_mri =back_together.head(len1)"
   ]
  },
  {
   "cell_type": "code",
   "execution_count": null,
   "id": "25",
   "metadata": {
    "tags": []
   },
   "outputs": [],
   "source": [
    "neuro_harm_top = neuro_harm_top.rename(feature_dictF, axis='columns')\n",
    "neuro_harm_mri = neuro_harm_mri.rename(feature_dictF, axis='columns')"
   ]
  },
  {
   "cell_type": "code",
   "execution_count": null,
   "id": "26",
   "metadata": {
    "tags": []
   },
   "outputs": [],
   "source": [
    "neuro_harm_mri = neuro_harm_mri.reset_index()\n",
    "neuro_harm_mri = neuro_harm_mri.rename(columns={\"index\": \"participant_id\"})\n",
    "neuro_harm_mri"
   ]
  },
  {
   "cell_type": "markdown",
   "id": "27",
   "metadata": {},
   "source": [
    "Save off to harmonized csv files"
   ]
  },
  {
   "cell_type": "code",
   "execution_count": null,
   "id": "28",
   "metadata": {
    "tags": []
   },
   "outputs": [],
   "source": [
    "neuro_harm_top = neuro_harm_top.reset_index()\n",
    "neuro_harm_top = neuro_harm_top.rename(columns={\"index\": \"participant_id\"})\n",
    "neuro_harm_top"
   ]
  },
  {
   "cell_type": "code",
   "execution_count": null,
   "id": "29",
   "metadata": {
    "tags": []
   },
   "outputs": [],
   "source": [
    "neuro_harm_mri.to_csv('neuro_harm_mri.csv')\n",
    "neuro_harm_top.to_csv('neuro_harm_top.csv')"
   ]
  },
  {
   "cell_type": "code",
   "execution_count": null,
   "id": "8d5dbfdc-db86-441e-b3cb-b0efca9132e3",
   "metadata": {},
   "outputs": [],
   "source": [
    "STOP\n",
    "\n",
    "merge behaviour needs evaluation and rewrite"
   ]
  },
  {
   "cell_type": "code",
   "execution_count": null,
   "id": "31",
   "metadata": {
    "tags": []
   },
   "outputs": [],
   "source": [
    "mri_selection = our_mri_data\n",
    "#mri_selection.columns = mri_selection.columns.str.lower()\n",
    "rename_dict = {\n",
    "    'age': 'age_unharm', # will be the key on merge\n",
    "    'sex':'sex_unharm',\n",
    "    'gm_vol' :'gm_vol_unharm',\n",
    "    'wm_vol' :'wm_vol_unharm',\n",
    "    'csf_vol':'csf_vol_unharm',\n",
    "    'gm_ivc_ratio': 'gm_ivc_ratio_unharm',\n",
    "    'gmwm_ivc_ratio': 'gmwm_ivc_ratio_unharm',\n",
    "    'wmh_vol' :'wmh_vol_unharm',\n",
    "    'wmh_count' : 'wmh_count_unharm',\n",
    "    'deepwm_b_cov':'deepwm_b_cov_unharm',\n",
    "    'aca_b_cov': 'aca_b_cov_unharm',\n",
    "    'mca_b_cov': 'mca_b_cov_unharm',\n",
    "    'pca_b_cov': 'pca_b_cov_unharm',\n",
    "    'totalgm_b_cov':'totalgm_b_cov_unharm',\n",
    "    'deepwm_b':'deepwm_b_unharm',\n",
    "    'aca_b':'aca_b_unharm',\n",
    "    'mca_b':'mca_b_unharm',\n",
    "    'pca_b':'pca_b_unharm',\n",
    "    'totalgm_b':'totalgm_b_unharm', \n",
    "\n",
    "}\n",
    "mri_selection = mri_selection.rename(columns = rename_dict)\n",
    "mri_selection = mri_selection.merge(neuro_harm_mri, how= 'inner',)\n",
    "mri_selection"
   ]
  },
  {
   "cell_type": "code",
   "execution_count": null,
   "id": "30",
   "metadata": {
    "tags": []
   },
   "outputs": [],
   "source": [
    "#neuro_harm_top.head(3)\n",
    "our_mri_data"
   ]
  },
  {
   "cell_type": "code",
   "execution_count": null,
   "id": "32",
   "metadata": {
    "tags": []
   },
   "outputs": [],
   "source": [
    "top_selection = our_top_data\n",
    "top_selection.columns = top_selection.columns.str.lower()\n",
    "top_selection = top_selection.rename(columns = rename_dict)\n",
    "top_selection = top_selection.merge(neuro_harm_top, how= 'inner',)\n",
    "top_selection.columns"
   ]
  },
  {
   "cell_type": "code",
   "execution_count": null,
   "id": "33",
   "metadata": {
    "tags": []
   },
   "outputs": [],
   "source": [
    "top_selection.to_csv('top_before_after_neurocombat2way.csv')\n",
    "mri_selection.to_csv('mri_before_after_neurocombat2way.csv')"
   ]
  },
  {
   "cell_type": "code",
   "execution_count": null,
   "id": "62d256a1-82f9-4101-974c-3300b7622501",
   "metadata": {
    "tags": []
   },
   "outputs": [],
   "source": [
    "top_selection"
   ]
  },
  {
   "cell_type": "markdown",
   "id": "34",
   "metadata": {},
   "source": [
    "Here we will also save off a version without white matter columns...optional"
   ]
  },
  {
   "cell_type": "code",
   "execution_count": null,
   "id": "35",
   "metadata": {
    "tags": []
   },
   "outputs": [],
   "source": []
  },
  {
   "cell_type": "code",
   "execution_count": null,
   "id": "36",
   "metadata": {
    "tags": []
   },
   "outputs": [],
   "source": [
    "# neuro_harm_mri_less = neuro_harm_mri.drop(columns=['wmh_vol', 'wmh_count'])\n",
    "# neuro_harm_top_less = neuro_harm_top.drop(columns=['wmh_vol', 'wmh_count'])\n",
    "# neuro_harm_mri_less.to_csv('less_neuro_harm_mri_mon.csv')\n",
    "# neuro_harm_top_less.to_csv('less_neuro_harm_top_mon.csv')"
   ]
  },
  {
   "cell_type": "markdown",
   "id": "37",
   "metadata": {},
   "source": [
    "# Investigate neurocombat results"
   ]
  },
  {
   "cell_type": "code",
   "execution_count": null,
   "id": "38",
   "metadata": {
    "tags": []
   },
   "outputs": [],
   "source": [
    "neuro_harm_mri.head(3) "
   ]
  },
  {
   "cell_type": "markdown",
   "id": "39",
   "metadata": {},
   "source": [
    "## We see neuroharmoney added negative numbers \n"
   ]
  },
  {
   "cell_type": "markdown",
   "id": "40",
   "metadata": {},
   "source": [
    "## let's see how many negative numbers we have"
   ]
  },
  {
   "cell_type": "code",
   "execution_count": null,
   "id": "41",
   "metadata": {
    "tags": []
   },
   "outputs": [],
   "source": [
    "number_columns = ['gm_vol',\n",
    "                  'wm_vol',\n",
    "                  'csf_vol',\n",
    "                  'gm_ivc_ratio', \n",
    "                  'gmwm_ivc_ratio',\n",
    "                  'wmh_vol',\n",
    "                  'wmh_count',\n",
    "                  'deepwm_b_cov',\n",
    "                  'aca_b_cov',\n",
    "                  'mca_b_cov',\n",
    "                  'pca_b_cov',\n",
    "                  'totalgm_b_cov',\n",
    "                  'deepwm_b',\n",
    "                  'aca_b',\n",
    "                  'mca_b',\n",
    "                  'pca_b',\n",
    "                  'totalgm_b',]"
   ]
  },
  {
   "cell_type": "code",
   "execution_count": null,
   "id": "42",
   "metadata": {
    "tags": []
   },
   "outputs": [],
   "source": [
    "(neuro_harm_mri[number_columns] < 0).sum()"
   ]
  },
  {
   "cell_type": "code",
   "execution_count": null,
   "id": "43",
   "metadata": {
    "tags": []
   },
   "outputs": [],
   "source": [
    "#our_top_data.head(3)\n",
    "big_top = our_top_data.rename(columns={\"Unnamed: 0\": \"level_0\"})\n",
    "big_top.head(3)"
   ]
  },
  {
   "cell_type": "code",
   "execution_count": null,
   "id": "44",
   "metadata": {
    "tags": []
   },
   "outputs": [],
   "source": [
    "new_harm_top = neuro_harm_top.reset_index()\n",
    "new_harm_top = new_harm_top.reset_index()\n",
    "new_harm_top = new_harm_top.rename(columns={\"index\": \"participant_id\"})\n",
    "new_harm_top.head(3) "
   ]
  },
  {
   "cell_type": "code",
   "execution_count": null,
   "id": "45",
   "metadata": {
    "tags": []
   },
   "outputs": [],
   "source": [
    "# difference in harmonized and original - raw\n",
    "raw_differences = big_top[number_columns] - new_harm_top[number_columns]"
   ]
  },
  {
   "cell_type": "code",
   "execution_count": null,
   "id": "46",
   "metadata": {
    "tags": []
   },
   "outputs": [],
   "source": [
    "# difference in harmonized and original - raw\n",
    "differences = (big_top[number_columns] - new_harm_top[number_columns])/big_top[number_columns]\n",
    "differences"
   ]
  },
  {
   "cell_type": "code",
   "execution_count": null,
   "id": "47",
   "metadata": {
    "tags": []
   },
   "outputs": [],
   "source": [
    "differences_n = differences.apply(pd.to_numeric) #"
   ]
  },
  {
   "cell_type": "code",
   "execution_count": null,
   "id": "48",
   "metadata": {
    "tags": []
   },
   "outputs": [],
   "source": [
    "differences_n.describe()"
   ]
  },
  {
   "cell_type": "markdown",
   "id": "49",
   "metadata": {},
   "source": [
    "## Now we can use the versions of TOP and StrokeMRI with log base 10 revision of white matter hyperintensity count, as well as white matter hyperintensity  volume"
   ]
  },
  {
   "cell_type": "code",
   "execution_count": null,
   "id": "50",
   "metadata": {
    "tags": []
   },
   "outputs": [],
   "source": [
    "log_filepath = '../open_work/internal_results/loggy/' \n",
    "# this needs to be redone, due to bad column\n",
    "log_filename_mri = os.path.join(log_filepath,'stroke_loged_mon.csv') \n",
    "log_filename_top = os.path.join(log_filepath,'top_loged_mon.csv') "
   ]
  },
  {
   "cell_type": "code",
   "execution_count": null,
   "id": "51",
   "metadata": {
    "tags": []
   },
   "outputs": [],
   "source": [
    "#log_mri_data = pd.read_csv(log_filename_mri)\n",
    "#log_top_data = pd.read_csv(log_filename_top)"
   ]
  },
  {
   "cell_type": "code",
   "execution_count": null,
   "id": "52",
   "metadata": {
    "tags": []
   },
   "outputs": [],
   "source": [
    "log_both_togetherF, log_ftF, log_btF, log_feature_dictF, log_len1, log_len2 = prep_for_neurocombat(\n",
    "    log_filename_mri,\n",
    "    log_filename_top)"
   ]
  },
  {
   "cell_type": "code",
   "execution_count": null,
   "id": "53",
   "metadata": {
    "tags": []
   },
   "outputs": [],
   "source": [
    "# # make and save of csv of features only\n",
    "# log_features_only = log_both_together[2:]\n",
    "# #log_features_only.to_csv('log_features_only_top_mri.csv')"
   ]
  },
  {
   "cell_type": "code",
   "execution_count": null,
   "id": "54",
   "metadata": {
    "tags": []
   },
   "outputs": [],
   "source": [
    "log_ftF.to_csv('log_ftF_top_mri.csv')"
   ]
  },
  {
   "cell_type": "code",
   "execution_count": null,
   "id": "55",
   "metadata": {
    "tags": []
   },
   "outputs": [],
   "source": [
    "log_data = np.genfromtxt('log_ftF_top_mri.csv', delimiter=\",\", skip_header=1)\n",
    "log_data = log_data[:, 1:]"
   ]
  },
  {
   "cell_type": "code",
   "execution_count": null,
   "id": "56",
   "metadata": {
    "tags": []
   },
   "outputs": [],
   "source": [
    "# Specifying the batch (scanner variable) as well as a sex covariate to preserve:\n",
    "first_columns_as_one = [1] * log_len1\n",
    "last_columns_as_two = [2] * log_len2\n",
    "covars = {'batch':first_columns_as_one + last_columns_as_two,\n",
    "          'sex':log_both_togetherF.loc['sex',:].values.tolist(),\n",
    "           'age':log_both_togetherF.loc['age',:].values.tolist(),} \n",
    "covars = pd.DataFrame(covars) "
   ]
  },
  {
   "cell_type": "code",
   "execution_count": null,
   "id": "57",
   "metadata": {
    "tags": []
   },
   "outputs": [],
   "source": [
    "# specifify sex as categorical\n",
    "categorical_cols = ['sex']\n",
    "# To specify the name of the variable that encodes for the scanner/batch covariate:\n",
    "batch_col_mine = 'batch'\n",
    "\n",
    "#Harmonization step:\n",
    "log_data_combat = neuroCombat(dat=log_data,\n",
    "    covars=covars,\n",
    "    batch_col=batch_col_mine,\n",
    "    continuous_cols=our_continuous_col,\n",
    "    categorical_cols=categorical_cols)[\"data\"]"
   ]
  },
  {
   "cell_type": "code",
   "execution_count": null,
   "id": "58",
   "metadata": {
    "tags": []
   },
   "outputs": [],
   "source": [
    "log_data_combat"
   ]
  },
  {
   "cell_type": "code",
   "execution_count": null,
   "id": "59",
   "metadata": {
    "tags": []
   },
   "outputs": [],
   "source": [
    "log_neurocombat = pd.DataFrame(log_data_combat)\n",
    "#log_neurocombat"
   ]
  },
  {
   "cell_type": "code",
   "execution_count": null,
   "id": "60",
   "metadata": {
    "tags": []
   },
   "outputs": [],
   "source": [
    "log_topperF = make_topper(log_btF,'age', 'sex')"
   ]
  },
  {
   "cell_type": "code",
   "execution_count": null,
   "id": "61",
   "metadata": {
    "tags": []
   },
   "outputs": [],
   "source": [
    "log_bottom = log_neurocombat.reset_index(drop=False)\n",
    "log_bottom = log_bottom.rename(columns={\"index\": \"char\"})\n",
    "log_bottom.columns = log_topperF.columns\n",
    "#log_bottom"
   ]
  },
  {
   "cell_type": "code",
   "execution_count": null,
   "id": "62",
   "metadata": {
    "tags": []
   },
   "outputs": [],
   "source": [
    "log_back_together = pd.concat([log_topperF, log_bottom])\n",
    "log_back_together = log_back_together.T\n",
    "#log_back_together"
   ]
  },
  {
   "cell_type": "code",
   "execution_count": null,
   "id": "63",
   "metadata": {
    "tags": []
   },
   "outputs": [],
   "source": [
    "log_new_header = log_back_together.iloc[0] #grab the first row for the header\n",
    "log_back_together.columns = new_header #set the header row as the df header\n",
    "log_back_together = log_back_together[1:]\n",
    "#log_back_together"
   ]
  },
  {
   "cell_type": "code",
   "execution_count": null,
   "id": "64",
   "metadata": {
    "tags": []
   },
   "outputs": [],
   "source": [
    "log_back_together.head(514).tail(5)"
   ]
  },
  {
   "cell_type": "code",
   "execution_count": null,
   "id": "65",
   "metadata": {
    "tags": []
   },
   "outputs": [],
   "source": [
    "log_back_together.tail(527).head(5)"
   ]
  },
  {
   "cell_type": "code",
   "execution_count": null,
   "id": "66",
   "metadata": {
    "tags": []
   },
   "outputs": [],
   "source": []
  },
  {
   "cell_type": "code",
   "execution_count": null,
   "id": "67",
   "metadata": {
    "tags": []
   },
   "outputs": [],
   "source": [
    "log_neuro_harm_top =log_back_together.tail(log_len2)\n",
    "log_neuro_harm_mri =log_back_together.head(log_len1)"
   ]
  },
  {
   "cell_type": "code",
   "execution_count": null,
   "id": "68",
   "metadata": {
    "tags": []
   },
   "outputs": [],
   "source": [
    "log_neuro_harm_top = log_neuro_harm_top.rename(log_feature_dictF, axis='columns')\n",
    "log_neuro_harm_mri = log_neuro_harm_mri.rename(log_feature_dictF, axis='columns')"
   ]
  },
  {
   "cell_type": "code",
   "execution_count": null,
   "id": "69",
   "metadata": {
    "tags": []
   },
   "outputs": [],
   "source": [
    "(log_neuro_harm_mri[number_columns] < 0).sum()"
   ]
  },
  {
   "cell_type": "code",
   "execution_count": null,
   "id": "70",
   "metadata": {
    "tags": []
   },
   "outputs": [],
   "source": [
    "## There are still negative numbers in the outcome...but there is a difference"
   ]
  },
  {
   "cell_type": "code",
   "execution_count": null,
   "id": "71",
   "metadata": {
    "tags": []
   },
   "outputs": [],
   "source": [
    "# log_neuro_harm_mri.to_csv('log_neuro_harm_mri_mon.csv')\n",
    "# log_neuro_harm_top.to_csv('log_neuro_harm_top_mon.csv')"
   ]
  },
  {
   "cell_type": "code",
   "execution_count": null,
   "id": "72",
   "metadata": {
    "tags": []
   },
   "outputs": [],
   "source": [
    "log_neuro_harm_mri.head(3)"
   ]
  },
  {
   "cell_type": "code",
   "execution_count": null,
   "id": "73",
   "metadata": {
    "tags": []
   },
   "outputs": [],
   "source": [
    "neuro_harm_mri.head(3)"
   ]
  },
  {
   "cell_type": "code",
   "execution_count": null,
   "id": "74",
   "metadata": {
    "tags": []
   },
   "outputs": [],
   "source": [
    "dif_log_to_reg = log_neuro_harm_mri[number_columns] - neuro_harm_mri[number_columns]\n",
    "dif_log_to_reg "
   ]
  },
  {
   "cell_type": "code",
   "execution_count": null,
   "id": "75",
   "metadata": {
    "tags": []
   },
   "outputs": [],
   "source": [
    "dif_log_to_reg.sum().sum()"
   ]
  },
  {
   "cell_type": "markdown",
   "id": "76",
   "metadata": {},
   "source": [
    "# So changing the two columns to theirlog made la difference in the harmarmonized outcomes...now let's look at how this plays out when we make models..."
   ]
  }
 ],
 "metadata": {
  "kernelspec": {
   "display_name": "Python 3 (ipykernel)",
   "language": "python",
   "name": "python3"
  },
  "language_info": {
   "codemirror_mode": {
    "name": "ipython",
    "version": 3
   },
   "file_extension": ".py",
   "mimetype": "text/x-python",
   "name": "python",
   "nbconvert_exporter": "python",
   "pygments_lexer": "ipython3",
   "version": "3.9.18"
  }
 },
 "nbformat": 4,
 "nbformat_minor": 5
}
