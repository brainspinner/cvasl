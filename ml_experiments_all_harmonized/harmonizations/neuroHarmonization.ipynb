{
 "cells": [
  {
   "cell_type": "markdown",
   "id": "0",
   "metadata": {},
   "source": [
    "# Neuroharmonize datasets"
   ]
  },
  {
   "cell_type": "markdown",
   "id": "1",
   "metadata": {},
   "source": [
    "This is a notebook to apply neuroHarmonize: a ComBat-GAM  non-linear allowing algorithm over our data to create neuroHarmonized datasets. It should be run in the `neurogamy` environment."
   ]
  },
  {
   "cell_type": "code",
   "execution_count": null,
   "id": "2",
   "metadata": {},
   "outputs": [],
   "source": [
    "import os\n",
    "from neuroHarmonize import harmonizationLearn\n",
    "import pandas as pd\n",
    "import numpy as np\n"
   ]
  },
  {
   "cell_type": "code",
   "execution_count": null,
   "id": "3",
   "metadata": {},
   "outputs": [],
   "source": [
    "filepath = '../open_work/internal_results/cleaned_pvc2s/' \n",
    "filename_mri = os.path.join(filepath,'StrokeMRI_pvc2c.csv') \n",
    "filename_top = os.path.join(filepath,'TOP_pvc2c.csv') \n",
    "filename_sabre = os.path.join(filepath,'SABRE_pvc2_cleaned.csv') \n",
    "filename_insight46 =  os.path.join(filepath,'Insight46_pvc2c.csv') "
   ]
  },
  {
   "cell_type": "code",
   "execution_count": null,
   "id": "4",
   "metadata": {
    "tags": []
   },
   "outputs": [],
   "source": [
    "# Now we must clean SABRE down to be like the other datasets, including dropping NAns\n",
    "MRI = pd.read_csv(filename_mri)\n",
    "TOP = pd.read_csv(filename_top)\n",
    "Insight46 = pd.read_csv(filename_insight46)\n",
    "SABRE =  pd.read_csv(filename_sabre)\n",
    "SABRE.tail(3)"
   ]
  },
  {
   "cell_type": "code",
   "execution_count": null,
   "id": "5",
   "metadata": {
    "tags": []
   },
   "outputs": [],
   "source": [
    "TOP['site'] = 0\n",
    "MRI['site'] = 1\n",
    "MRI.head(3)"
   ]
  },
  {
   "cell_type": "markdown",
   "id": "6",
   "metadata": {
    "tags": []
   },
   "source": [
    "# Here we will harmonize just TOP and StrokeMRI"
   ]
  },
  {
   "cell_type": "code",
   "execution_count": null,
   "id": "7",
   "metadata": {
    "tags": []
   },
   "outputs": [],
   "source": [
    "TOPMRI = pd.concat([TOP, MRI])\n",
    "TOPMRI.head(3) "
   ]
  },
  {
   "cell_type": "code",
   "execution_count": null,
   "id": "8",
   "metadata": {
    "tags": []
   },
   "outputs": [],
   "source": [
    "sex_mapping = {'F':0,'M':1}\n",
    "TOPMRI = TOPMRI.assign(sex = TOPMRI.sex.map(sex_mapping))\n",
    "TOPMRI.head(2) "
   ]
  },
  {
   "cell_type": "code",
   "execution_count": null,
   "id": "9",
   "metadata": {},
   "outputs": [],
   "source": [
    "TOPMRI.columns"
   ]
  },
  {
   "cell_type": "code",
   "execution_count": null,
   "id": "10",
   "metadata": {},
   "outputs": [],
   "source": [
    "TOPMRI_features = TOPMRI[[ \n",
    "    'gm_vol',\n",
    "    'wm_vol',\n",
    "    'csf_vol',\n",
    "    'gm_ivc_ratio',\n",
    "    'gmwm_ivc_ratio',\n",
    "    'wmh_vol',\n",
    "    'wmh_count',\n",
    "    'deepwm_b_cov',\n",
    "    'aca_b_cov',\n",
    "    'mca_b_cov',\n",
    "    'pca_b_cov',\n",
    "    'totalgm_b_cov',\n",
    "    'deepwm_b',\n",
    "    'aca_b',\n",
    "    'mca_b',\n",
    "    'pca_b',\n",
    "    'totalgm_b',\n",
    "]]\n",
    "TOPMRI_covariates = TOPMRI[['age', 'sex','site']]\n",
    "TOPMRI_covariates = TOPMRI_covariates.rename(columns={'site': 'SITE'})\n",
    "TOPMRI_covariates.head(3)"
   ]
  },
  {
   "cell_type": "code",
   "execution_count": null,
   "id": "11",
   "metadata": {},
   "outputs": [],
   "source": [
    "#TOPMRI_covariates.reset_index()"
   ]
  },
  {
   "cell_type": "code",
   "execution_count": null,
   "id": "12",
   "metadata": {},
   "outputs": [],
   "source": [
    "TOPMRI_features_array = np.array(TOPMRI_features)\n",
    "TOPMRI_features_array\n"
   ]
  },
  {
   "cell_type": "code",
   "execution_count": null,
   "id": "13",
   "metadata": {},
   "outputs": [],
   "source": [
    "# run harmonization and PUT the adjusted data into my_ad_data vaiable\n",
    "my_model, my_data_adj = harmonizationLearn(TOPMRI_features_array, TOPMRI_covariates)"
   ]
  },
  {
   "cell_type": "code",
   "execution_count": null,
   "id": "14",
   "metadata": {},
   "outputs": [],
   "source": [
    "# turn adjusted data into dataframe with column names, then add covariates, then participant IDs\n",
    "neuroharmonized_topmri = pd.DataFrame(\n",
    "    my_data_adj, \n",
    "    columns = ['gm_vol', 'wm_vol',\n",
    "       'csf_vol', 'gm_ivc_ratio', 'gmwm_ivc_ratio', 'wmh_vol', 'wmh_count',\n",
    "       'deepwm_b_cov', 'aca_b_cov', 'mca_b_cov', 'pca_b_cov', 'totalgm_b_cov',\n",
    "       'deepwm_b', 'aca_b', 'mca_b', 'pca_b', 'totalgm_b']\n",
    ")\n",
    "neuroharmonized_topmri =pd.concat([neuroharmonized_topmri, TOPMRI_covariates.reset_index()], axis=1)\n",
    "neuroharmonized_topmri = neuroharmonized_topmri.drop('index', axis=1)\n",
    "neuroharmonized_topmri = pd.concat([neuroharmonized_topmri, TOPMRI.participant_id.reset_index()], axis=1)\n",
    "neuroharmonized_topmri = neuroharmonized_topmri.drop('index', axis=1)\n",
    "neuroharmonized_topmri.head(3)"
   ]
  },
  {
   "cell_type": "code",
   "execution_count": null,
   "id": "15",
   "metadata": {},
   "outputs": [],
   "source": [
    "# create adjusted csvs\n",
    "top_neuroharm_to_stroke = neuroharmonized_topmri[neuroharmonized_topmri.SITE == 0]\n",
    "stroke_neuroharm_to_top = neuroharmonized_topmri[neuroharmonized_topmri.SITE == 1] "
   ]
  },
  {
   "cell_type": "code",
   "execution_count": null,
   "id": "16",
   "metadata": {},
   "outputs": [],
   "source": [
    "TOP.head(3)"
   ]
  },
  {
   "cell_type": "code",
   "execution_count": null,
   "id": "17",
   "metadata": {},
   "outputs": [],
   "source": [
    "# reorganize to familair pattern\n",
    "column_to_move1 = stroke_neuroharm_to_top.pop(\"participant_id\")\n",
    "column_to_move2 = stroke_neuroharm_to_top.pop(\"age\")\n",
    "column_to_move3 = stroke_neuroharm_to_top.pop(\"sex\")\n",
    "tcolumn_to_move1 = top_neuroharm_to_stroke.pop(\"participant_id\")\n",
    "tcolumn_to_move2 = top_neuroharm_to_stroke.pop(\"age\")\n",
    "tcolumn_to_move3 = top_neuroharm_to_stroke.pop(\"sex\")\n",
    "stroke_neuroharm_to_top.insert(0, \"participant_id\", column_to_move1)\n",
    "stroke_neuroharm_to_top.insert(1, \"age\", column_to_move2)\n",
    "stroke_neuroharm_to_top.insert(2, \"sex\", column_to_move3)\n",
    "top_neuroharm_to_stroke.insert(0, \"participant_id\", tcolumn_to_move1)\n",
    "top_neuroharm_to_stroke.insert(1, \"age\", tcolumn_to_move2)\n",
    "top_neuroharm_to_stroke.insert(2, \"sex\", tcolumn_to_move3)"
   ]
  },
  {
   "cell_type": "code",
   "execution_count": null,
   "id": "18",
   "metadata": {},
   "outputs": [],
   "source": [
    "top_neuroharm_to_stroke = top_neuroharm_to_stroke.drop('SITE', axis=1)\n",
    "stroke_neuroharm_to_top = stroke_neuroharm_to_top.drop('SITE', axis=1)\n",
    "stroke_neuroharm_to_top.columns"
   ]
  },
  {
   "cell_type": "code",
   "execution_count": null,
   "id": "19",
   "metadata": {},
   "outputs": [],
   "source": [
    "top_neuroharm_to_stroke.to_csv('../open_work/internal_results/neurocharm/top_neuroharm_to_stroke.csv')\n",
    "stroke_neuroharm_to_top.to_csv('../open_work/internal_results/neurocharm/stroke_neuroharm_to_top.csv')"
   ]
  },
  {
   "cell_type": "markdown",
   "id": "20",
   "metadata": {},
   "source": [
    "# Now we join top and StrokeMRI to one dataset and harmonize to other datasets individually"
   ]
  },
  {
   "cell_type": "code",
   "execution_count": null,
   "id": "21",
   "metadata": {},
   "outputs": [],
   "source": [
    "unified_TOPMRI = TOPMRI.copy(deep=True)\n",
    "unified_TOPMRI = unified_TOPMRI.reset_index()\n",
    "unified_TOPMRI['site'] = 0\n",
    "unified_TOPMRI= unified_TOPMRI.drop('index', axis=1)\n",
    "unified_TOPMRI= unified_TOPMRI.drop('Unnamed: 0', axis=1)"
   ]
  },
  {
   "cell_type": "code",
   "execution_count": null,
   "id": "22",
   "metadata": {},
   "outputs": [],
   "source": [
    "SABRE = SABRE.drop('Unnamed: 0', axis=1)\n",
    "SABRE = SABRE.assign(sex = SABRE.sex.map(sex_mapping))\n",
    "SABRE['site'] = 2\n",
    "SABRE.head(2) "
   ]
  },
  {
   "cell_type": "code",
   "execution_count": null,
   "id": "23",
   "metadata": {},
   "outputs": [],
   "source": [
    "TOPMRIvsSABRE= pd.concat([unified_TOPMRI, SABRE])\n",
    "TOPMRIvsSABRE = TOPMRIvsSABRE.reset_index()"
   ]
  },
  {
   "cell_type": "code",
   "execution_count": null,
   "id": "24",
   "metadata": {},
   "outputs": [],
   "source": [
    "TOPMRIvsSABRE_covariates = TOPMRIvsSABRE[['age', 'sex','site']]\n",
    "TOPMRIvsSABRE_covariates = TOPMRIvsSABRE_covariates.rename(columns={'site': 'SITE'})\n",
    "TOPMRIvsSABRE_covariates.head(3)"
   ]
  },
  {
   "cell_type": "code",
   "execution_count": null,
   "id": "25",
   "metadata": {},
   "outputs": [],
   "source": [
    " TOPMRIvsSABRE_features = TOPMRIvsSABRE[[ \n",
    "     'gm_vol',\n",
    "     'wm_vol',\n",
    "     'csf_vol',\n",
    "     'gm_ivc_ratio',\n",
    "     'gmwm_ivc_ratio',\n",
    "     'wmh_vol',\n",
    "     'wmh_count',\n",
    "     'deepwm_b_cov',\n",
    "     'aca_b_cov',\n",
    "     'mca_b_cov',\n",
    "     'pca_b_cov',\n",
    "     'totalgm_b_cov',\n",
    "     'deepwm_b',\n",
    "     'aca_b',\n",
    "     'mca_b',\n",
    "     'pca_b',\n",
    "     'totalgm_b',\n",
    "]]\n",
    "TOPMRIvsSABRE_features_array = np.array(TOPMRIvsSABRE_features)"
   ]
  },
  {
   "cell_type": "code",
   "execution_count": null,
   "id": "26",
   "metadata": {},
   "outputs": [],
   "source": [
    "my_model2, my_data_adj2 = harmonizationLearn(TOPMRIvsSABRE_features_array, TOPMRIvsSABRE_covariates)"
   ]
  },
  {
   "cell_type": "code",
   "execution_count": null,
   "id": "27",
   "metadata": {},
   "outputs": [],
   "source": [
    "my_data_adj2"
   ]
  },
  {
   "cell_type": "code",
   "execution_count": null,
   "id": "28",
   "metadata": {},
   "outputs": [],
   "source": [
    "# turn adjusted data into dataframe with column names, then add covariates, then participant IDs\n",
    "neuroharmonized_topmrivsabre = pd.DataFrame(\n",
    "    my_data_adj2, \n",
    "    columns = ['gm_vol', 'wm_vol',\n",
    "       'csf_vol', 'gm_ivc_ratio', 'gmwm_ivc_ratio', 'wmh_vol', 'wmh_count',\n",
    "       'deepwm_b_cov', 'aca_b_cov', 'mca_b_cov', 'pca_b_cov', 'totalgm_b_cov',\n",
    "       'deepwm_b', 'aca_b', 'mca_b', 'pca_b', 'totalgm_b']\n",
    ")\n",
    "neuroharmonized_topmrivsabre =pd.concat([neuroharmonized_topmrivsabre, TOPMRIvsSABRE_covariates.reset_index()], axis=1)\n",
    "neuroharmonized_topmrivsabre = neuroharmonized_topmrivsabre.drop('index', axis=1)\n",
    "neuroharmonized_topmrivsabre = pd.concat([neuroharmonized_topmrivsabre, TOPMRIvsSABRE.participant_id.reset_index()], axis=1)\n",
    "neuroharmonized_topmrivsabre = neuroharmonized_topmrivsabre.drop('index', axis=1)\n",
    "neuroharmonized_topmrivsabre.head(3)"
   ]
  },
  {
   "cell_type": "code",
   "execution_count": null,
   "id": "29",
   "metadata": {},
   "outputs": [],
   "source": [
    "# reorganize to familair pattern\n",
    "column_to_move1 = neuroharmonized_topmrivsabre.pop(\"participant_id\")\n",
    "column_to_move2 = neuroharmonized_topmrivsabre.pop(\"age\")\n",
    "column_to_move3 = neuroharmonized_topmrivsabre.pop(\"sex\")\n",
    "neuroharmonized_topmrivsabre.insert(0, \"participant_id\", column_to_move1)\n",
    "neuroharmonized_topmrivsabre.insert(1, \"age\", column_to_move2)\n",
    "neuroharmonized_topmrivsabre.insert(2, \"sex\", column_to_move3)"
   ]
  },
  {
   "cell_type": "code",
   "execution_count": null,
   "id": "30",
   "metadata": {},
   "outputs": [],
   "source": [
    "# create adjusted csvs\n",
    "sabre_vs_topmri_only = neuroharmonized_topmrivsabre[neuroharmonized_topmrivsabre.SITE == 2]\n",
    "topmri_vs_sabre_only = neuroharmonized_topmrivsabre[neuroharmonized_topmrivsabre.SITE == 0] "
   ]
  },
  {
   "cell_type": "code",
   "execution_count": null,
   "id": "31",
   "metadata": {},
   "outputs": [],
   "source": [
    "#topmri_vs_sabre_only"
   ]
  },
  {
   "cell_type": "code",
   "execution_count": null,
   "id": "32",
   "metadata": {},
   "outputs": [],
   "source": [
    "sabre_vs_topmri_only = sabre_vs_topmri_only.drop('SITE', axis=1)\n",
    "topmri_vs_sabre_only  = topmri_vs_sabre_only .drop('SITE', axis=1)\n",
    "#topmri_vs_sabre_only.columns"
   ]
  },
  {
   "cell_type": "code",
   "execution_count": null,
   "id": "33",
   "metadata": {},
   "outputs": [],
   "source": [
    "sabre_vs_topmri_only.to_csv('../open_work/internal_results/neurocharm/sabre_vs_topmri_only.csv') \n",
    "topmri_vs_sabre_only.to_csv('../open_work/internal_results/neurocharm/topmri_vs_sabre_only.csv') "
   ]
  },
  {
   "cell_type": "code",
   "execution_count": null,
   "id": "34",
   "metadata": {},
   "outputs": [],
   "source": [
    "Insight46 = Insight46.drop('Unnamed: 0', axis=1)\n",
    "Insight46 = Insight46.assign(sex = Insight46.sex.map(sex_mapping))\n",
    "Insight46['site'] = 3\n",
    "Insight46.head(2) "
   ]
  },
  {
   "cell_type": "code",
   "execution_count": null,
   "id": "35",
   "metadata": {},
   "outputs": [],
   "source": [
    "TOPMRIvsInsight46= pd.concat([unified_TOPMRI, Insight46])\n",
    "TOPMRIvsInsight46 = TOPMRIvsInsight46.reset_index()"
   ]
  },
  {
   "cell_type": "code",
   "execution_count": null,
   "id": "36",
   "metadata": {},
   "outputs": [],
   "source": [
    "TOPMRIvsInsight_covariates = TOPMRIvsInsight46[['age', 'sex','site']]\n",
    "TOPMRIvsInsight_covariates = TOPMRIvsInsight_covariates .rename(columns={'site': 'SITE'})\n",
    "TOPMRIvsInsight_covariates.head(3)"
   ]
  },
  {
   "cell_type": "code",
   "execution_count": null,
   "id": "37",
   "metadata": {},
   "outputs": [],
   "source": [
    " TOPMRIvsInsight_features = TOPMRIvsInsight46[[ \n",
    "     'gm_vol',\n",
    "     'wm_vol',\n",
    "     'csf_vol',\n",
    "     'gm_ivc_ratio',\n",
    "     'gmwm_ivc_ratio',\n",
    "     'wmh_vol',\n",
    "     'wmh_count',\n",
    "     'deepwm_b_cov',\n",
    "     'aca_b_cov',\n",
    "     'mca_b_cov',\n",
    "     'pca_b_cov',\n",
    "     'totalgm_b_cov',\n",
    "     'deepwm_b',\n",
    "     'aca_b',\n",
    "     'mca_b',\n",
    "     'pca_b',\n",
    "     'totalgm_b',\n",
    "]]\n",
    "TOPMRIvsInsight_features_array = np.array(TOPMRIvsInsight_features)"
   ]
  },
  {
   "cell_type": "code",
   "execution_count": null,
   "id": "38",
   "metadata": {},
   "outputs": [],
   "source": [
    "my_model3, my_data_adj3 = harmonizationLearn(TOPMRIvsInsight_features_array, TOPMRIvsInsight_covariates)"
   ]
  },
  {
   "cell_type": "code",
   "execution_count": null,
   "id": "39",
   "metadata": {},
   "outputs": [],
   "source": [
    "my_data_adj3"
   ]
  },
  {
   "cell_type": "code",
   "execution_count": null,
   "id": "40",
   "metadata": {},
   "outputs": [],
   "source": [
    "# turn adjusted data into dataframe with column names, then add covariates, then participant IDs\n",
    "neuroharmonized_topmrivinsight = pd.DataFrame(\n",
    "    my_data_adj3, \n",
    "    columns = ['gm_vol', 'wm_vol',\n",
    "       'csf_vol', 'gm_ivc_ratio', 'gmwm_ivc_ratio', 'wmh_vol', 'wmh_count',\n",
    "       'deepwm_b_cov', 'aca_b_cov', 'mca_b_cov', 'pca_b_cov', 'totalgm_b_cov',\n",
    "       'deepwm_b', 'aca_b', 'mca_b', 'pca_b', 'totalgm_b']\n",
    ")\n",
    "neuroharmonized_topmrivinsight = pd.concat([neuroharmonized_topmrivinsight, TOPMRIvsInsight_covariates.reset_index()], axis=1)\n",
    "neuroharmonized_topmrivinsight = neuroharmonized_topmrivinsight.drop('index', axis=1)\n",
    "neuroharmonized_topmrivinsight = pd.concat([neuroharmonized_topmrivinsight, TOPMRIvsInsight46.participant_id.reset_index()], axis=1)\n",
    "neuroharmonized_topmrivinsight = neuroharmonized_topmrivinsight.drop('index', axis=1)\n",
    "neuroharmonized_topmrivinsight.head(3)"
   ]
  },
  {
   "cell_type": "code",
   "execution_count": null,
   "id": "41",
   "metadata": {
    "tags": []
   },
   "outputs": [],
   "source": [
    "#neuroharmonized_topmrivinsight"
   ]
  },
  {
   "cell_type": "code",
   "execution_count": null,
   "id": "42",
   "metadata": {},
   "outputs": [],
   "source": [
    "# reorganize to familair pattern\n",
    "column_to_move1 = neuroharmonized_topmrivinsight.pop(\"participant_id\")\n",
    "column_to_move2 = neuroharmonized_topmrivinsight.pop(\"age\")\n",
    "column_to_move3 = neuroharmonized_topmrivinsight.pop(\"sex\")\n",
    "neuroharmonized_topmrivinsight.insert(0, \"participant_id\", column_to_move1)\n",
    "neuroharmonized_topmrivinsight.insert(1, \"age\", column_to_move2)\n",
    "neuroharmonized_topmrivinsight.insert(2, \"sex\", column_to_move3)"
   ]
  },
  {
   "cell_type": "code",
   "execution_count": null,
   "id": "43",
   "metadata": {},
   "outputs": [],
   "source": [
    "# create adjusted csvs\n",
    "insight_vs_topmri_only = neuroharmonized_topmrivinsight[neuroharmonized_topmrivinsight.SITE == 3]\n",
    "topmri_vs_insight_only = neuroharmonized_topmrivinsight[neuroharmonized_topmrivinsight.SITE == 0] "
   ]
  },
  {
   "cell_type": "code",
   "execution_count": null,
   "id": "44",
   "metadata": {},
   "outputs": [],
   "source": [
    "insight_vs_topmri_only  = insight_vs_topmri_only.drop('SITE', axis=1)\n",
    "topmri_vs_insight_only  = topmri_vs_insight_only.drop('SITE', axis=1)\n"
   ]
  },
  {
   "cell_type": "code",
   "execution_count": null,
   "id": "45",
   "metadata": {
    "tags": []
   },
   "outputs": [],
   "source": [
    "#insight_vs_topmri_only"
   ]
  },
  {
   "cell_type": "code",
   "execution_count": null,
   "id": "46",
   "metadata": {},
   "outputs": [],
   "source": [
    "insight_vs_topmri_only.to_csv('../open_work/internal_results/neurocharm/insight_vs_topmri_only.csv') \n",
    "topmri_vs_insight_only.to_csv('../open_work/internal_results/neurocharm/topmri_vs_insight_only.csv') "
   ]
  },
  {
   "cell_type": "markdown",
   "id": "47",
   "metadata": {},
   "source": [
    "# Now we will do three way harmonization- TOPMRI vs. SAbre vs. Insigh46"
   ]
  },
  {
   "cell_type": "code",
   "execution_count": null,
   "id": "48",
   "metadata": {},
   "outputs": [],
   "source": [
    "TOPMRIvsSABRvsInisght = pd.concat([unified_TOPMRI, SABRE, Insight46])\n",
    "TOPMRIvsSABRvsInisght = TOPMRIvsSABRvsInisght.reset_index()"
   ]
  },
  {
   "cell_type": "code",
   "execution_count": null,
   "id": "49",
   "metadata": {},
   "outputs": [],
   "source": [
    "TOPMRIvsSABRvsInisght_covariates = TOPMRIvsSABRvsInisght[['age', 'sex','site']]\n",
    "TOPMRIvsSABRvsInisght_covariates = TOPMRIvsSABRvsInisght_covariates.rename(columns={'site': 'SITE'})\n",
    "TOPMRIvsSABRvsInisght_covariates.head(3)"
   ]
  },
  {
   "cell_type": "code",
   "execution_count": null,
   "id": "50",
   "metadata": {},
   "outputs": [],
   "source": [
    "TOPMRIvsSABRvsInisght_features = TOPMRIvsSABRvsInisght[[ \n",
    "     'gm_vol',\n",
    "     'wm_vol',\n",
    "     'csf_vol',\n",
    "     'gm_ivc_ratio',\n",
    "     'gmwm_ivc_ratio',\n",
    "     'wmh_vol',\n",
    "     'wmh_count',\n",
    "     'deepwm_b_cov',\n",
    "     'aca_b_cov',\n",
    "     'mca_b_cov',\n",
    "     'pca_b_cov',\n",
    "     'totalgm_b_cov',\n",
    "     'deepwm_b',\n",
    "     'aca_b',\n",
    "     'mca_b',\n",
    "     'pca_b',\n",
    "     'totalgm_b',\n",
    "]]\n",
    "TOPMRIvsSABRvsInisght_features_array = np.array(TOPMRIvsSABRvsInisght_features)"
   ]
  },
  {
   "cell_type": "code",
   "execution_count": null,
   "id": "51",
   "metadata": {},
   "outputs": [],
   "source": [
    "my_model4, my_data_adj4 = harmonizationLearn(TOPMRIvsSABRvsInisght_features_array, TOPMRIvsSABRvsInisght_covariates)"
   ]
  },
  {
   "cell_type": "code",
   "execution_count": null,
   "id": "52",
   "metadata": {},
   "outputs": [],
   "source": [
    "my_data_adj4"
   ]
  },
  {
   "cell_type": "code",
   "execution_count": null,
   "id": "53",
   "metadata": {},
   "outputs": [],
   "source": [
    "# turn adjusted data into dataframe with column names, then add covariates, then participant IDs\n",
    "neuroharmonized_topmrivsabrevinsight = pd.DataFrame(\n",
    "    my_data_adj4, \n",
    "    columns = ['gm_vol', 'wm_vol',\n",
    "       'csf_vol', 'gm_ivc_ratio', 'gmwm_ivc_ratio', 'wmh_vol', 'wmh_count',\n",
    "       'deepwm_b_cov', 'aca_b_cov', 'mca_b_cov', 'pca_b_cov', 'totalgm_b_cov',\n",
    "       'deepwm_b', 'aca_b', 'mca_b', 'pca_b', 'totalgm_b']\n",
    ")\n",
    "neuroharmonized_topmrivsabrevinsight =pd.concat([neuroharmonized_topmrivsabrevinsight, TOPMRIvsSABRvsInisght_covariates .reset_index()], axis=1)\n",
    "neuroharmonized_topmrivsabrevinsight = neuroharmonized_topmrivsabrevinsight.drop('index', axis=1)\n",
    "neuroharmonized_topmrivsabrevinsight = pd.concat([neuroharmonized_topmrivsabrevinsight, TOPMRIvsSABRvsInisght.participant_id.reset_index()], axis=1)\n",
    "neuroharmonized_topmrivsabrevinsight = neuroharmonized_topmrivsabrevinsight.drop('index', axis=1)\n",
    "neuroharmonized_topmrivsabrevinsight.head(3)"
   ]
  },
  {
   "cell_type": "code",
   "execution_count": null,
   "id": "54",
   "metadata": {},
   "outputs": [],
   "source": [
    "# reorganize to familair pattern\n",
    "column_to_move1 = neuroharmonized_topmrivsabrevinsight.pop(\"participant_id\")\n",
    "column_to_move2 = neuroharmonized_topmrivsabrevinsight.pop(\"age\")\n",
    "column_to_move3 = neuroharmonized_topmrivsabrevinsight.pop(\"sex\")\n",
    "neuroharmonized_topmrivsabrevinsight.insert(0, \"participant_id\", column_to_move1)\n",
    "neuroharmonized_topmrivsabrevinsight.insert(1, \"age\", column_to_move2)\n",
    "neuroharmonized_topmrivsabrevinsight.insert(2, \"sex\", column_to_move3)"
   ]
  },
  {
   "cell_type": "code",
   "execution_count": null,
   "id": "55",
   "metadata": {},
   "outputs": [],
   "source": [
    "# create adjusted csvs\n",
    "insight_vs_topmri_3way = neuroharmonized_topmrivsabrevinsight[neuroharmonized_topmrivsabrevinsight.SITE == 3]\n",
    "sabre_vs_topmri_3way = neuroharmonized_topmrivsabrevinsight[neuroharmonized_topmrivsabrevinsight.SITE == 2]\n",
    "topmri_vs_sabre_3way = neuroharmonized_topmrivsabrevinsight[neuroharmonized_topmrivsabrevinsight.SITE == 0] "
   ]
  },
  {
   "cell_type": "code",
   "execution_count": null,
   "id": "56",
   "metadata": {},
   "outputs": [],
   "source": [
    "insight_vs_topmri_3way = insight_vs_topmri_3way.drop('SITE', axis=1)\n",
    "sabre_vs_topmri_3way = sabre_vs_topmri_3way.drop('SITE', axis=1) \n",
    "topmri_vs_sabre_3way = topmri_vs_sabre_3way.drop('SITE', axis=1)  "
   ]
  },
  {
   "cell_type": "code",
   "execution_count": null,
   "id": "57",
   "metadata": {},
   "outputs": [],
   "source": [
    "#insight_vs_topmri_3way "
   ]
  },
  {
   "cell_type": "code",
   "execution_count": null,
   "id": "58",
   "metadata": {},
   "outputs": [],
   "source": [
    "insight_vs_topmri_3way.to_csv('../open_work/internal_results/neurocharm/insight_vs_topmri_3way.csv')\n",
    "sabre_vs_topmri_3way.to_csv(  '../open_work/internal_results/neurocharm/sabre_vs_topmri_3way.csv')\n",
    "topmri_vs_sabre_3way.to_csv(  '../open_work/internal_results/neurocharm/topmri_vs_sabre_3way.csv')"
   ]
  },
  {
   "cell_type": "code",
   "execution_count": null,
   "id": "59",
   "metadata": {},
   "outputs": [],
   "source": []
  }
 ],
 "metadata": {
  "kernelspec": {
   "display_name": "Python 3 (ipykernel)",
   "language": "python",
   "name": "python3"
  },
  "language_info": {
   "codemirror_mode": {
    "name": "ipython",
    "version": 3
   },
   "file_extension": ".py",
   "mimetype": "text/x-python",
   "name": "python",
   "nbconvert_exporter": "python",
   "pygments_lexer": "ipython3",
   "version": "3.12.1"
  }
 },
 "nbformat": 4,
 "nbformat_minor": 5
}
