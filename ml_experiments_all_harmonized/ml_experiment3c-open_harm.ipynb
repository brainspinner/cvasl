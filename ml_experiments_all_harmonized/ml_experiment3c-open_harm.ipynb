{
 "cells": [
  {
   "cell_type": "markdown",
   "id": "0",
   "metadata": {},
   "source": [
    "# ML testing: experiment #3-reqd harm (open nested combat)\n",
    "\n",
    "This notebook involves testing for the clinical harmonization paper. This notebook shows mixed_dataset (TOP + StrokeMRI) based models with OPNested ComBat harmonization to Insight 46 and SABRE datasets (the StrokeMRI and TOP become one dataset)"
   ]
  },
  {
   "cell_type": "markdown",
   "id": "b49f5ed9-0a16-443f-824c-a7d16ef4d04d",
   "metadata": {},
   "source": [
    "Data: StrokeMRI, TOP, SABRE, Insight46, EDIS, HELIUS \n",
    "\n",
    "Harmonisation: Open nested combat\n",
    "\n",
    "Training data: Norment whichh is StrokeMRI and TOP togehter\n",
    "\n",
    "Testing data: test set from Norment\n",
    "\n",
    "Futher data applied to: SABRE, Insight46, EDIS, (HELIUS pending)\n",
    "\n",
    "Validation method: K-fold, double-stratified\n",
    "\n",
    "Brain-age algorithms: LR, lasso, extra trees, elasticCV net fully tested (but not optimized parameters), additionals partly\n",
    "\n",
    "Outputs: sent to output folder, predicted versus real dataframes and other artifacts"
   ]
  },
  {
   "cell_type": "markdown",
   "id": "1",
   "metadata": {
    "tags": []
   },
   "source": [
    "### import libraries"
   ]
  },
  {
   "cell_type": "code",
   "execution_count": null,
   "id": "2",
   "metadata": {
    "tags": []
   },
   "outputs": [],
   "source": [
    "import os       # using operating system dependent functionality (folders)\n",
    "import sys\n",
    "\n",
    "import glob\n",
    "from functools import reduce\n",
    "\n",
    "import pandas as pd # data analysis and manipulation\n",
    "import numpy as np    # numerical computing (manipulating and performing operations on arrays of data)\n",
    "import matplotlib.pyplot as plt\n",
    "\n",
    "# # demo stuff\n",
    "# # demo stuff\n",
    "import ipywidgets as widgets\n",
    "from ipywidgets import interactive\n",
    "\n",
    "# ml stuff\n",
    "from sklearn.model_selection import train_test_split\n",
    "from sklearn.preprocessing import StandardScaler\n",
    "from sklearn.metrics import accuracy_score\n",
    "from sklearn.linear_model import LinearRegression\n",
    "from sklearn import linear_model\n",
    "from sklearn import tree\n",
    "from sklearn import metrics\n",
    "from sklearn.linear_model import SGDRegressor\n",
    "from sklearn.metrics import confusion_matrix\n",
    "from sklearn.metrics import mean_absolute_error\n",
    "from sklearn.neighbors import KNeighborsClassifier\n",
    "from sklearn.svm import SVR\n",
    "from sklearn.neural_network import MLPRegressor\n",
    "from sklearn.linear_model import ElasticNetCV\n",
    "from sklearn.ensemble import ExtraTreesRegressor\n",
    "from sklearn.model_selection import StratifiedShuffleSplit\n",
    "from sklearn.model_selection import cross_val_score\n",
    "\n",
    "import joblib\n",
    "\n",
    "sys.path.insert(0, '../') # path to functions\n",
    "import cvasl.seperated as sep"
   ]
  },
  {
   "cell_type": "code",
   "execution_count": null,
   "id": "b75ed0bc-5c3d-4d23-b583-7500759fbda7",
   "metadata": {},
   "outputs": [],
   "source": []
  },
  {
   "cell_type": "markdown",
   "id": "3",
   "metadata": {
    "tags": []
   },
   "source": [
    "### import data"
   ]
  },
  {
   "cell_type": "code",
   "execution_count": null,
   "id": "4",
   "metadata": {
    "tags": []
   },
   "outputs": [],
   "source": [
    "filepath_mri_for_ids = 'our_datasets/StrokeMRI/'\n",
    "filename_mri_for_ids = os.path.join(filepath_mri_for_ids,'TrainingDataComplete.csv') \n",
    "\n",
    "filepath_top_for_ids = 'our_datasets/TOP/' \n",
    "filename_top_for_ids = os.path.join(filepath_top_for_ids,'TrainingDataComplete.csv') \n",
    "\n",
    "filename_topmri = 'topmri_5_opn_harmonized_to_sab.csv'\n",
    "filename_sabre ='sabre_5_opn_harmonized.csv'\n",
    "filename_edis ='edis_5_opn_harmonized.csv'\n",
    "filename_helius ='helius_5_opn_harmonized.csv'\n",
    "filename_insight46 = 'insight_5_opn_harmonized.csv'\n",
    "# read in data\n",
    "\n",
    "\n",
    "filepath_ = 'harmonizations/harm_results/open_nested_combat'\n",
    "#TOP_file = os.path.join(TOP_path, file_name)\n",
    "#MRI_file = os.path.join(filepath_ , file_name_mri)\n",
    "EDIS_file = os.path.join(filepath_ , filename_edis)\n",
    "HELIUS_file = os.path.join(filepath_ , filename_helius)\n",
    "Insight46_file = os.path.join(filepath_ , filename_insight46)\n",
    "SABRE_file = os.path.join(filepath_ , filename_sabre)\n",
    "TOPMRI_file = os.path.join(filepath_ , filename_topmri)\n",
    "\n",
    "EDIS = pd.read_csv(EDIS_file, index_col=0)\n",
    "HELIUS = pd.read_csv(HELIUS_file, index_col=0)\n",
    "Insight46 = pd.read_csv(Insight46_file, index_col=0)\n",
    "SABRE = pd.read_csv(SABRE_file, index_col=0)\n",
    "#TOP_n = pd.read_csv(TOP_file, index_col=0)\n",
    "#MRI_n = pd.read_csv(MRI_file, index_col=0)\n",
    "TOPMRI = pd.read_csv(TOPMRI_file, index_col=0)\n",
    "\n",
    "IDS_TOP =  pd.read_csv(filename_top_for_ids)\n",
    "IDS_MRI =  pd.read_csv(filename_mri_for_ids)"
   ]
  },
  {
   "cell_type": "code",
   "execution_count": null,
   "id": "5",
   "metadata": {
    "tags": []
   },
   "outputs": [],
   "source": [
    "# Now we need to flip the sex back to numbers for a correlation\n",
    "# sex_mapping = {'F':0,'M':1}\n",
    "# TOPMRI = TOPMRI.assign(sex = TOPMRI.sex.map(sex_mapping))\n",
    "TOPMRI.head(3)"
   ]
  },
  {
   "cell_type": "code",
   "execution_count": null,
   "id": "689992a8-4efb-4765-89e6-3b8a5b12496d",
   "metadata": {
    "tags": []
   },
   "outputs": [],
   "source": [
    "TOPMRI.columns"
   ]
  },
  {
   "cell_type": "code",
   "execution_count": null,
   "id": "6",
   "metadata": {
    "tags": []
   },
   "outputs": [],
   "source": [
    "#Insight46 = Insight46.assign(sex = Insight46.sex.map(sex_mapping))\n",
    "Insight46.head(3)"
   ]
  },
  {
   "cell_type": "markdown",
   "id": "eeec066c-f997-45c5-bf9f-13aba16038b3",
   "metadata": {
    "tags": []
   },
   "source": [
    "## a few data quality checks"
   ]
  },
  {
   "cell_type": "code",
   "execution_count": null,
   "id": "8",
   "metadata": {
    "tags": []
   },
   "outputs": [],
   "source": []
  },
  {
   "cell_type": "code",
   "execution_count": null,
   "id": "c87fcae5-0116-401d-85fb-83bd9bf1dd1c",
   "metadata": {
    "tags": []
   },
   "outputs": [],
   "source": [
    "datasets = [EDIS, SABRE, Insight46, TOPMRI, HELIUS]\n",
    "for qset in datasets:\n",
    "    print(qset.sex.unique())\n",
    "    print(len(qset.columns))\n",
    "    print(qset.isna().sum().sum())"
   ]
  },
  {
   "cell_type": "code",
   "execution_count": null,
   "id": "39de61c2-1004-4bed-8b0e-bdedfc2657ce",
   "metadata": {
    "tags": []
   },
   "outputs": [],
   "source": [
    "# # put columns to lower\n",
    "# TOPMRI.columns = TOPMRI.columns.str.lower() \n",
    "# Insight46.columns = Insight46.columns.str.lower() \n",
    "# EDIS.columns = EDIS.columns.str.lower() \n",
    "# SABRE.columns= SABRE.columns.str.lower() \n",
    "# HELIUS.columns= HELIUS.columns.str.lower() "
   ]
  },
  {
   "cell_type": "code",
   "execution_count": null,
   "id": "3e8a6adb-5c19-4a97-b00f-41e58e00993e",
   "metadata": {},
   "outputs": [],
   "source": []
  },
  {
   "cell_type": "code",
   "execution_count": null,
   "id": "b6b18ce8-c113-4a84-bd0e-da9c90a57c2a",
   "metadata": {
    "tags": []
   },
   "outputs": [],
   "source": [
    "#give a checkbox for out put folder\n",
    "loged_feat = widgets.ToggleButton(\n",
    "    value=False,\n",
    "    description='Click me if some features logged',\n",
    "    disabled=False,\n",
    "    button_style='', # 'success', 'info', 'warning', 'danger' or ''\n",
    "    tooltip='Description',\n",
    "    icon='check' # (FontAwesome names without the `fa-` prefix)\n",
    ")\n",
    "loged_feat"
   ]
  },
  {
   "cell_type": "code",
   "execution_count": null,
   "id": "ed0d662c-4d14-4683-88bf-d8cde395f24c",
   "metadata": {
    "tags": []
   },
   "outputs": [],
   "source": [
    "loged_feat.value"
   ]
  },
  {
   "cell_type": "code",
   "execution_count": null,
   "id": "ea928a76-08dd-4f47-9633-3f8b5ac38bd7",
   "metadata": {
    "tags": []
   },
   "outputs": [],
   "source": [
    "if loged_feat.value == False:\n",
    "    output_folder = '3c_no_log_outputs'\n",
    "else:\n",
    "    output_folder = '3c_loged_outputs'\n",
    "\n",
    "os.makedirs(output_folder, exist_ok=True)"
   ]
  },
  {
   "cell_type": "markdown",
   "id": "9",
   "metadata": {},
   "source": [
    "# Now we need to break up the top and MRI datasets as well, and format them like the others"
   ]
  },
  {
   "cell_type": "code",
   "execution_count": null,
   "id": "10",
   "metadata": {
    "tags": []
   },
   "outputs": [],
   "source": []
  },
  {
   "cell_type": "code",
   "execution_count": null,
   "id": "11",
   "metadata": {
    "tags": []
   },
   "outputs": [],
   "source": [
    "set_top_ids = set(IDS_TOP.participant_id)\n",
    "set_mri_ids = set(IDS_MRI.participant_id)\n",
    "StrokeMRI = TOPMRI[TOPMRI['participant_id'].isin(list(set_mri_ids))]\n",
    "TOP = TOPMRI[TOPMRI['participant_id'].isin(list(set_top_ids))]\n",
    "TOP.head(3)"
   ]
  },
  {
   "cell_type": "code",
   "execution_count": null,
   "id": "12",
   "metadata": {
    "tags": []
   },
   "outputs": [],
   "source": [
    "StrokeMRI.head(3)"
   ]
  },
  {
   "cell_type": "code",
   "execution_count": null,
   "id": "13",
   "metadata": {
    "tags": []
   },
   "outputs": [],
   "source": [
    "TOP.head(3)"
   ]
  },
  {
   "cell_type": "code",
   "execution_count": null,
   "id": "14",
   "metadata": {
    "tags": []
   },
   "outputs": [],
   "source": [
    "# check for any duplicated patients between stroke and mri\n",
    "strokers = set(StrokeMRI.participant_id)\n",
    "topers = set(TOP.participant_id)\n",
    "z = strokers.intersection(topers)\n",
    "print(z) "
   ]
  },
  {
   "cell_type": "code",
   "execution_count": null,
   "id": "15",
   "metadata": {
    "tags": []
   },
   "outputs": [],
   "source": [
    "mixed_data = TOPMRI"
   ]
  },
  {
   "cell_type": "code",
   "execution_count": null,
   "id": "16",
   "metadata": {
    "tags": []
   },
   "outputs": [],
   "source": [
    "\n",
    "TOPMRI"
   ]
  },
  {
   "cell_type": "markdown",
   "id": "17",
   "metadata": {},
   "source": [
    "## Build ML models"
   ]
  },
  {
   "cell_type": "markdown",
   "id": "18",
   "metadata": {},
   "source": []
  },
  {
   "cell_type": "code",
   "execution_count": null,
   "id": "0df78c75-bb42-498f-b084-463af3e3c9b6",
   "metadata": {
    "tags": []
   },
   "outputs": [],
   "source": [
    "mixed_data.columns"
   ]
  },
  {
   "cell_type": "code",
   "execution_count": null,
   "id": "413d9d45-3578-41eb-be47-5bd9f9c85da2",
   "metadata": {
    "tags": []
   },
   "outputs": [],
   "source": [
    "#mixed_data = mixed_data.drop()"
   ]
  },
  {
   "cell_type": "code",
   "execution_count": null,
   "id": "19",
   "metadata": {
    "tags": []
   },
   "outputs": [],
   "source": [
    "ml_matrix = mixed_data #.drop('participant_id', axis=1)\n",
    "X = ml_matrix.drop('age', axis =1)\n",
    "X = X.values\n",
    "y = ml_matrix['age'].values\n",
    "y=y.astype('float')\n"
   ]
  },
  {
   "cell_type": "code",
   "execution_count": null,
   "id": "20",
   "metadata": {
    "tags": []
   },
   "outputs": [],
   "source": [
    "linr_k_frame, linr_y_frame, models = sep.stratified_cat_and_cont_categories_shuffle_split('linear regression', 'opnharm_mix_linr', LinearRegression(), ml_matrix, X[:,1:], y)"
   ]
  },
  {
   "cell_type": "code",
   "execution_count": null,
   "id": "21",
   "metadata": {
    "tags": []
   },
   "outputs": [],
   "source": [
    "linr_k_frame"
   ]
  },
  {
   "cell_type": "code",
   "execution_count": null,
   "id": "22",
   "metadata": {
    "tags": []
   },
   "outputs": [],
   "source": [
    "linr_k_frame.to_csv(output_folder +'linr_k_frame_opn_harm.csv')"
   ]
  },
  {
   "cell_type": "code",
   "execution_count": null,
   "id": "23",
   "metadata": {
    "tags": []
   },
   "outputs": [],
   "source": [
    "avg_linr = sep.avg_k_folds(linr_k_frame)\n",
    "avg_linr"
   ]
  },
  {
   "cell_type": "code",
   "execution_count": null,
   "id": "24",
   "metadata": {
    "tags": []
   },
   "outputs": [],
   "source": [
    "linr_y_frame"
   ]
  },
  {
   "cell_type": "code",
   "execution_count": null,
   "id": "25",
   "metadata": {
    "tags": []
   },
   "outputs": [],
   "source": [
    "linr_y_frame.to_csv(output_folder + 'linr_y_frame_opn_harm.csv')"
   ]
  },
  {
   "cell_type": "code",
   "execution_count": null,
   "id": "26",
   "metadata": {
    "tags": []
   },
   "outputs": [],
   "source": [
    "linr = models[0]\n",
    "linr[0]"
   ]
  },
  {
   "cell_type": "code",
   "execution_count": null,
   "id": "27",
   "metadata": {
    "tags": []
   },
   "outputs": [],
   "source": [
    "# check if model folder exists and if not , then create\n",
    "model_folder = '../result_models/'\n",
    "if not os.path.exists(model_folder):\n",
    "    os.makedirs(model_folder)"
   ]
  },
  {
   "cell_type": "code",
   "execution_count": null,
   "id": "28",
   "metadata": {
    "tags": []
   },
   "outputs": [],
   "source": [
    "## optional save models\n",
    "#joblib.dump(linr[0], ('../result_models/'+ 'opnharm_mix_linr0.sav'))\n",
    "#joblib.dump(linr[1], ('../result_models/'+ 'opnharm_mix_linr1.sav'))\n",
    "#joblib.dump(linr[2], ('../result_models/'+ 'opnharm_mix_linr2.sav'))\n",
    "#joblib.dump(linr[3], ('../result_models/'+ 'opnharm_mix_linr3.sav'))\n",
    "#joblib.dump(linr[4], ('../result_models/'+ 'opnharm_mix_linr4.sav'))"
   ]
  },
  {
   "cell_type": "code",
   "execution_count": null,
   "id": "29",
   "metadata": {
    "tags": []
   },
   "outputs": [],
   "source": [
    "llreg_k_frame, llreg_y_frame, models = sep.stratified_cat_and_cont_categories_shuffle_split('lasso regression', 'opnharm_mix_llreg',  linear_model.LassoLars(alpha=0.01), ml_matrix, X[:,1:], y)\n",
    "llreg_k_frame"
   ]
  },
  {
   "cell_type": "code",
   "execution_count": null,
   "id": "30",
   "metadata": {
    "tags": []
   },
   "outputs": [],
   "source": [
    "llreg_k_frame.to_csv(output_folder + 'llreg_k_frame_opn_harm.csv')"
   ]
  },
  {
   "cell_type": "code",
   "execution_count": null,
   "id": "31",
   "metadata": {
    "tags": []
   },
   "outputs": [],
   "source": [
    "avg_llreg = sep.avg_k_folds(llreg_k_frame)\n",
    "avg_llreg"
   ]
  },
  {
   "cell_type": "code",
   "execution_count": null,
   "id": "32",
   "metadata": {
    "tags": []
   },
   "outputs": [],
   "source": [
    "llreg_y_frame"
   ]
  },
  {
   "cell_type": "code",
   "execution_count": null,
   "id": "33",
   "metadata": {
    "tags": []
   },
   "outputs": [],
   "source": [
    "llreg_y_frame.to_csv(output_folder + 'llreg_y_frame_opn_harm.csv')"
   ]
  },
  {
   "cell_type": "code",
   "execution_count": null,
   "id": "34",
   "metadata": {
    "tags": []
   },
   "outputs": [],
   "source": [
    "llreg = models[0]\n",
    "llreg[0]"
   ]
  },
  {
   "cell_type": "code",
   "execution_count": null,
   "id": "35",
   "metadata": {
    "tags": []
   },
   "outputs": [],
   "source": [
    "## optional save models\n",
    "#joblib.dump(llreg[0], ('../result_models/'+ 'opnharm_mix_linr0.sav'))\n",
    "#joblib.dump(llreg[1], ('../result_models/'+ 'opnharm_mix_linr1.sav'))\n",
    "#joblib.dump(llreg[2], ('../result_models/'+ 'opnharm_mix_linr2.sav'))\n",
    "#joblib.dump(llreg[3], ('../result_models/'+ 'opnharm_mix_linr3.sav'))\n",
    "#joblib.dump(llreg[4], ('../result_models/'+ 'opnharm_mix_linr4.sav'))"
   ]
  },
  {
   "cell_type": "code",
   "execution_count": null,
   "id": "36",
   "metadata": {
    "tags": []
   },
   "outputs": [],
   "source": [
    "dtree_k_frame, dtree_y_frame, models = sep.stratified_cat_and_cont_categories_shuffle_split('decision tree', 'opnharm_mix_dtree',  tree.DecisionTreeRegressor(), ml_matrix, X[:,1:], y)\n",
    "dtree_k_frame"
   ]
  },
  {
   "cell_type": "code",
   "execution_count": null,
   "id": "37",
   "metadata": {
    "tags": []
   },
   "outputs": [],
   "source": [
    "dtree_k_frame.to_csv(output_folder + 'dtree_k_frame_opn_harm.csv')"
   ]
  },
  {
   "cell_type": "code",
   "execution_count": null,
   "id": "38",
   "metadata": {
    "tags": []
   },
   "outputs": [],
   "source": [
    "avg_dtree = sep.avg_k_folds(dtree_k_frame)\n",
    "avg_dtree"
   ]
  },
  {
   "cell_type": "code",
   "execution_count": null,
   "id": "39",
   "metadata": {
    "tags": []
   },
   "outputs": [],
   "source": [
    "dtree_y_frame"
   ]
  },
  {
   "cell_type": "code",
   "execution_count": null,
   "id": "40",
   "metadata": {
    "tags": []
   },
   "outputs": [],
   "source": [
    "dtree_y_frame.to_csv(output_folder + 'dtree_y_frame_opn_harm.csv')"
   ]
  },
  {
   "cell_type": "code",
   "execution_count": null,
   "id": "41",
   "metadata": {
    "tags": []
   },
   "outputs": [],
   "source": [
    "dtree = models[0]\n",
    "dtree[0]"
   ]
  },
  {
   "cell_type": "code",
   "execution_count": null,
   "id": "42",
   "metadata": {
    "tags": []
   },
   "outputs": [],
   "source": [
    "regr_k_frame, regr_y_frame, models = sep.stratified_cat_and_cont_categories_shuffle_split('MLP regression', 'opnharm_mix_regr',   MLPRegressor(random_state=1, max_iter=700), ml_matrix, X[:,1:], y)\n",
    "regr_k_frame"
   ]
  },
  {
   "cell_type": "code",
   "execution_count": null,
   "id": "43",
   "metadata": {
    "tags": []
   },
   "outputs": [],
   "source": [
    "regr_k_frame.to_csv( output_folder +'regr_k_frame_opn_harm.csv')"
   ]
  },
  {
   "cell_type": "code",
   "execution_count": null,
   "id": "44",
   "metadata": {
    "tags": []
   },
   "outputs": [],
   "source": [
    "avg_regr = sep.avg_k_folds(regr_k_frame)\n",
    "avg_regr"
   ]
  },
  {
   "cell_type": "code",
   "execution_count": null,
   "id": "45",
   "metadata": {
    "tags": []
   },
   "outputs": [],
   "source": [
    "regr_y_frame"
   ]
  },
  {
   "cell_type": "code",
   "execution_count": null,
   "id": "46",
   "metadata": {
    "tags": []
   },
   "outputs": [],
   "source": [
    "regr_y_frame.to_csv(output_folder + 'regr_y_frame_opn_harm.csv')"
   ]
  },
  {
   "cell_type": "code",
   "execution_count": null,
   "id": "47",
   "metadata": {
    "tags": []
   },
   "outputs": [],
   "source": [
    "regr = models[0]\n",
    "regr[0]"
   ]
  },
  {
   "cell_type": "code",
   "execution_count": null,
   "id": "48",
   "metadata": {
    "tags": []
   },
   "outputs": [],
   "source": [
    "svrp2_k_frame, svrp2_y_frame, models = sep.stratified_cat_and_cont_categories_shuffle_split('support vector reg poly2', 'opnharm_mix_svrp2',   SVR(C=1.0, kernel='poly', degree =2, epsilon=0.2), ml_matrix, X[:,1:], y)\n",
    "svrp2_k_frame"
   ]
  },
  {
   "cell_type": "code",
   "execution_count": null,
   "id": "49",
   "metadata": {
    "tags": []
   },
   "outputs": [],
   "source": [
    "svrp2_k_frame.to_csv(output_folder + 'svrp2_k_frame_opn_harm.csv')"
   ]
  },
  {
   "cell_type": "code",
   "execution_count": null,
   "id": "50",
   "metadata": {
    "tags": []
   },
   "outputs": [],
   "source": [
    "avg_svrp2 = sep.avg_k_folds(svrp2_k_frame)\n",
    "avg_svrp2"
   ]
  },
  {
   "cell_type": "code",
   "execution_count": null,
   "id": "51",
   "metadata": {
    "tags": []
   },
   "outputs": [],
   "source": [
    "svrp2_y_frame"
   ]
  },
  {
   "cell_type": "code",
   "execution_count": null,
   "id": "52",
   "metadata": {
    "tags": []
   },
   "outputs": [],
   "source": [
    "svrp2_y_frame.to_csv(output_folder + 'svrp2_y_frame_opn_harm.csv')"
   ]
  },
  {
   "cell_type": "code",
   "execution_count": null,
   "id": "53",
   "metadata": {
    "tags": []
   },
   "outputs": [],
   "source": [
    "svrp2 = models[0]\n",
    "svrp2[0]"
   ]
  },
  {
   "cell_type": "code",
   "execution_count": null,
   "id": "54",
   "metadata": {
    "tags": []
   },
   "outputs": [],
   "source": [
    "eregr_k_frame, eregr_y_frame, models = sep.stratified_cat_and_cont_categories_shuffle_split('elasticnetCV', 'opnharm_mix_eregr',  ElasticNetCV(cv=5, random_state=12), ml_matrix, X[:,1:], y)\n",
    "eregr_k_frame"
   ]
  },
  {
   "cell_type": "code",
   "execution_count": null,
   "id": "55",
   "metadata": {
    "tags": []
   },
   "outputs": [],
   "source": [
    "eregr_k_frame.to_csv(output_folder + 'eregr_k_frame_opn_harm.csv')"
   ]
  },
  {
   "cell_type": "code",
   "execution_count": null,
   "id": "56",
   "metadata": {
    "tags": []
   },
   "outputs": [],
   "source": [
    "avg_eregr = sep.avg_k_folds(eregr_k_frame)\n",
    "avg_eregr"
   ]
  },
  {
   "cell_type": "code",
   "execution_count": null,
   "id": "57",
   "metadata": {
    "tags": []
   },
   "outputs": [],
   "source": [
    "eregr_y_frame"
   ]
  },
  {
   "cell_type": "code",
   "execution_count": null,
   "id": "58",
   "metadata": {
    "tags": []
   },
   "outputs": [],
   "source": [
    "eregr_y_frame.to_csv(output_folder + 'eregr_y_frame_opn_harm.csv')"
   ]
  },
  {
   "cell_type": "code",
   "execution_count": null,
   "id": "59",
   "metadata": {
    "tags": []
   },
   "outputs": [],
   "source": [
    "eregr = models[0]\n",
    "eregr[0]"
   ]
  },
  {
   "cell_type": "code",
   "execution_count": null,
   "id": "60",
   "metadata": {
    "tags": []
   },
   "outputs": [],
   "source": [
    "etreg_k_frame, etreg_y_frame, models = sep.stratified_cat_and_cont_categories_shuffle_split('extra trees', 'opnharm_mix_etreg',  ExtraTreesRegressor(n_estimators=100, random_state=0), ml_matrix, X[:,1:], y)\n",
    "etreg_k_frame"
   ]
  },
  {
   "cell_type": "code",
   "execution_count": null,
   "id": "61",
   "metadata": {
    "tags": []
   },
   "outputs": [],
   "source": [
    "etreg_k_frame.to_csv(output_folder + 'etreg_k_frame_opn_harm.csv')"
   ]
  },
  {
   "cell_type": "code",
   "execution_count": null,
   "id": "62",
   "metadata": {
    "tags": []
   },
   "outputs": [],
   "source": [
    "avg_etreg = sep.avg_k_folds(etreg_k_frame)\n",
    "avg_etreg"
   ]
  },
  {
   "cell_type": "code",
   "execution_count": null,
   "id": "63",
   "metadata": {
    "tags": []
   },
   "outputs": [],
   "source": [
    "etreg_y_frame"
   ]
  },
  {
   "cell_type": "code",
   "execution_count": null,
   "id": "64",
   "metadata": {
    "tags": []
   },
   "outputs": [],
   "source": [
    "etreg_y_frame.to_csv(output_folder + 'etreg_y_frame_opn_harm.csv')"
   ]
  },
  {
   "cell_type": "code",
   "execution_count": null,
   "id": "65",
   "metadata": {
    "tags": []
   },
   "outputs": [],
   "source": [
    "etreg = models[0]\n",
    "etreg[0]"
   ]
  },
  {
   "cell_type": "code",
   "execution_count": null,
   "id": "66",
   "metadata": {
    "tags": []
   },
   "outputs": [],
   "source": [
    "## optional save models\n",
    "#joblib.dump(etreg[0], ('../result_models/'+ 'opnharm_mix_etreg0.sav'))\n",
    "#joblib.dump(etreg[1], ('../result_models/'+ 'opnharm_mix_etreg1.sav'))\n",
    "#joblib.dump(etreg[2], ('../result_models/'+ 'opnharm_mix_etreg2.sav'))\n",
    "#joblib.dump(etreg[3], ('../result_models/'+ 'opnharm_mix_etreg3.sav'))\n",
    "#joblib.dump(etreg[4], ('../result_models/'+ 'opnharm_mix_etreg4.sav'))"
   ]
  },
  {
   "cell_type": "markdown",
   "id": "67",
   "metadata": {},
   "source": [
    "Show results ON AVERAGE for each model"
   ]
  },
  {
   "cell_type": "code",
   "execution_count": null,
   "id": "68",
   "metadata": {
    "tags": []
   },
   "outputs": [],
   "source": [
    "mixed_based_opnharmonized_on_testmix =pd.concat([avg_linr,\n",
    "                   avg_llreg,\n",
    "                   avg_dtree,\n",
    "                   avg_regr,\n",
    "                   avg_svrp2,\n",
    "                   avg_eregr,\n",
    "                   avg_etreg],\n",
    "                  axis=0)\n",
    "mixed_based_opnharmonized_on_testmix"
   ]
  },
  {
   "cell_type": "code",
   "execution_count": null,
   "id": "69",
   "metadata": {
    "tags": []
   },
   "outputs": [],
   "source": [
    "mixed_based_opnharmonized_on_testmix.to_csv(output_folder + 'mixed_based_opnharmonized_on_testmix.csv')"
   ]
  },
  {
   "cell_type": "markdown",
   "id": "70",
   "metadata": {},
   "source": [
    "# Running mixed model over SABRE dataset"
   ]
  },
  {
   "cell_type": "markdown",
   "id": "71",
   "metadata": {},
   "source": [
    "## Here we will do an example of running  models made of the entire StrokeMRI and TOP dataset mixed as one"
   ]
  },
  {
   "cell_type": "markdown",
   "id": "72",
   "metadata": {
    "tags": []
   },
   "source": [
    "#### Build new models"
   ]
  },
  {
   "cell_type": "code",
   "execution_count": null,
   "id": "73",
   "metadata": {
    "tags": []
   },
   "outputs": [],
   "source": [
    "TOPMRI.head(3)"
   ]
  },
  {
   "cell_type": "code",
   "execution_count": null,
   "id": "d595b364-55ae-4d30-8a89-01aaa1c92555",
   "metadata": {
    "tags": []
   },
   "outputs": [],
   "source": [
    "TOPMRI = TOPMRI.drop(['binned', 'fuse_bin'], axis=1)\n",
    "TOPMRI"
   ]
  },
  {
   "cell_type": "code",
   "execution_count": null,
   "id": "74",
   "metadata": {
    "tags": []
   },
   "outputs": [],
   "source": [
    "ml_matrix = TOPMRI.drop('participant_id', axis=1)\n",
    "X = ml_matrix.drop('age', axis =1)\n",
    "X = X.values\n",
    "X = X.astype('float')\n",
    "y = ml_matrix['age'].values\n",
    "y=y.astype('float')\n"
   ]
  },
  {
   "cell_type": "code",
   "execution_count": null,
   "id": "75",
   "metadata": {
    "tags": []
   },
   "outputs": [],
   "source": [
    "# now we decide to do no test train split, rather take all\n",
    "X_train = X\n",
    "y_train = y"
   ]
  },
  {
   "cell_type": "code",
   "execution_count": null,
   "id": "76",
   "metadata": {
    "tags": []
   },
   "outputs": [],
   "source": [
    "MIXlinr = LinearRegression()\n",
    "MIXlinr.fit(X_train, y_train)"
   ]
  },
  {
   "cell_type": "code",
   "execution_count": null,
   "id": "77",
   "metadata": {
    "tags": []
   },
   "outputs": [],
   "source": [
    "MIXllreg = linear_model.LassoLars(alpha=0.01)\n",
    "MIXllreg.fit(X_train, y_train)"
   ]
  },
  {
   "cell_type": "code",
   "execution_count": null,
   "id": "78",
   "metadata": {
    "tags": []
   },
   "outputs": [],
   "source": [
    "MIXeregr = ElasticNetCV(cv=5, random_state=17)\n",
    "MIXeregr.fit(X_train, y_train)\n"
   ]
  },
  {
   "cell_type": "code",
   "execution_count": null,
   "id": "79",
   "metadata": {
    "tags": []
   },
   "outputs": [],
   "source": [
    "MIXetreg = ExtraTreesRegressor(n_estimators=100, random_state=0)\n",
    "MIXetreg.fit(X_train, y_train)"
   ]
  },
  {
   "cell_type": "markdown",
   "id": "80",
   "metadata": {
    "tags": []
   },
   "source": [
    "##  Save these four best models"
   ]
  },
  {
   "cell_type": "code",
   "execution_count": null,
   "id": "81",
   "metadata": {
    "tags": []
   },
   "outputs": [],
   "source": [
    "\n",
    "## optional save models\n",
    "#joblib.dump(MIXlinr, ('../result_models/'+  'opn_harm_mix_MIXlinr.sav'))\n",
    "#joblib.dump(MIXllreg, ('../result_models/'+ 'opn_harmm_mix_MIXllreg.sav'))\n",
    "\n",
    "#joblib.dump(MIXeregr, ('../result_models/'+ 'opn_harm_mix_MIXeregr.sav'))\n",
    "#joblib.dump(MIXetreg, ('../result_models/'+ 'opn_harm_mix_MIXetreg.sav'))"
   ]
  },
  {
   "cell_type": "markdown",
   "id": "39dadf33-1622-44ed-9384-524c1a6aba52",
   "metadata": {
    "tags": []
   },
   "source": [
    "# Run models on SABRE"
   ]
  },
  {
   "cell_type": "code",
   "execution_count": null,
   "id": "82",
   "metadata": {
    "tags": []
   },
   "outputs": [],
   "source": [
    "sabre_ml_matrix = SABRE.drop('participant_id', axis=1)\n",
    "X_sabre = sabre_ml_matrix.drop('age', axis =1)\n",
    "X_sabre = X_sabre.values\n",
    "X_sabre = X_sabre.astype('float')\n",
    "y_sabre = sabre_ml_matrix['age'].values\n",
    "y_sabre=y_sabre.astype('float')"
   ]
  },
  {
   "cell_type": "code",
   "execution_count": null,
   "id": "83",
   "metadata": {
    "tags": []
   },
   "outputs": [],
   "source": [
    "X_sabre_test = X_sabre\n",
    "y_sabre_test = y_sabre"
   ]
  },
  {
   "cell_type": "code",
   "execution_count": null,
   "id": "84",
   "metadata": {
    "tags": []
   },
   "outputs": [],
   "source": [
    "y_sabre_pred = MIXlinr.predict(X_sabre_test)"
   ]
  },
  {
   "cell_type": "code",
   "execution_count": null,
   "id": "85",
   "metadata": {
    "tags": []
   },
   "outputs": [],
   "source": [
    "data= [[\n",
    "    'Linear Reg',\n",
    "    'opn_harm_mix_MIXlinr.sav',\n",
    "    mean_absolute_error(y_sabre_test, y_sabre_pred),\n",
    "    MIXlinr.score(X_sabre_test,y_sabre_test),\n",
    "    metrics.explained_variance_score(y_sabre_test, y_sabre_pred)]]\n",
    "linr_results_sabre = pd.DataFrame(data, columns=['algorithm','file_name','mae', 'r2', 'explained_variance'])\n",
    "linr_results_sabre"
   ]
  },
  {
   "cell_type": "code",
   "execution_count": null,
   "id": "86",
   "metadata": {
    "tags": []
   },
   "outputs": [],
   "source": [
    "data = {'real': y_sabre_test, 'predicted': y_sabre_pred}\n",
    "y_frame_linr_sabre = pd.DataFrame(data)\n",
    "y_frame_linr_sabre"
   ]
  },
  {
   "cell_type": "code",
   "execution_count": null,
   "id": "87",
   "metadata": {
    "tags": []
   },
   "outputs": [],
   "source": [
    "y_frame_linr_sabre.to_csv(output_folder + 'y_frame_linr_sabre_opn_harm.csv')"
   ]
  },
  {
   "cell_type": "code",
   "execution_count": null,
   "id": "88",
   "metadata": {
    "tags": []
   },
   "outputs": [],
   "source": [
    "y_sabre_pred = MIXllreg.predict(X_sabre_test)"
   ]
  },
  {
   "cell_type": "code",
   "execution_count": null,
   "id": "89",
   "metadata": {
    "tags": []
   },
   "outputs": [],
   "source": [
    "data= [[\n",
    "    'Lasso',\n",
    "    'opn_harmm_mix_MIXllreg.sav',\n",
    "    mean_absolute_error(y_sabre_test, y_sabre_pred),\n",
    "    MIXllreg.score(X_sabre_test,y_sabre_test),\n",
    "    metrics.explained_variance_score(y_sabre_test, y_sabre_pred)]]\n",
    "llreg_results_sabre = pd.DataFrame(data, columns=['algorithm','file_name','mae', 'r2', 'explained_variance'])\n",
    "llreg_results_sabre"
   ]
  },
  {
   "cell_type": "code",
   "execution_count": null,
   "id": "90",
   "metadata": {
    "tags": []
   },
   "outputs": [],
   "source": [
    "data = {'real': y_sabre_test, 'predicted': y_sabre_pred}\n",
    "y_frame_llreg_sabre = pd.DataFrame(data)\n",
    "y_frame_llreg_sabre"
   ]
  },
  {
   "cell_type": "code",
   "execution_count": null,
   "id": "91",
   "metadata": {
    "tags": []
   },
   "outputs": [],
   "source": [
    "y_frame_llreg_sabre.to_csv(output_folder + 'y_frame_llreg_sabre_opn_harm.csv')"
   ]
  },
  {
   "cell_type": "code",
   "execution_count": null,
   "id": "92",
   "metadata": {
    "tags": []
   },
   "outputs": [],
   "source": [
    "y_sabre_pred = MIXeregr.predict(X_sabre_test)"
   ]
  },
  {
   "cell_type": "code",
   "execution_count": null,
   "id": "93",
   "metadata": {
    "tags": []
   },
   "outputs": [],
   "source": [
    "data= [[\n",
    "    'ElasticnetCV',\n",
    "    'opn_harmm_mix_MIXeregr.sav',\n",
    "    mean_absolute_error(y_sabre_test, y_sabre_pred),\n",
    "    MIXeregr.score(X_sabre_test,y_sabre_test),\n",
    "    metrics.explained_variance_score(y_sabre_test, y_sabre_pred)]]\n",
    "eregr_results_sabre = pd.DataFrame(data, columns=['algorithm','file_name','mae', 'r2', 'explained_variance'])\n",
    "eregr_results_sabre"
   ]
  },
  {
   "cell_type": "code",
   "execution_count": null,
   "id": "94",
   "metadata": {
    "tags": []
   },
   "outputs": [],
   "source": [
    "data = {'real': y_sabre_test, 'predicted': y_sabre_pred}\n",
    "y_frame_eregr_sabre = pd.DataFrame(data)\n",
    "y_frame_eregr_sabre"
   ]
  },
  {
   "cell_type": "code",
   "execution_count": null,
   "id": "95",
   "metadata": {
    "tags": []
   },
   "outputs": [],
   "source": [
    "y_frame_eregr_sabre.to_csv(output_folder + 'y_frame_eregr_sabre_opn_harm.csv')"
   ]
  },
  {
   "cell_type": "code",
   "execution_count": null,
   "id": "96",
   "metadata": {
    "tags": []
   },
   "outputs": [],
   "source": [
    "y_sabre_pred = MIXetreg.predict(X_sabre_test)"
   ]
  },
  {
   "cell_type": "code",
   "execution_count": null,
   "id": "97",
   "metadata": {
    "tags": []
   },
   "outputs": [],
   "source": [
    "data= [[\n",
    "    'Extra trees',\n",
    "    'opn_harmm_mix_MIXetreg.sav',\n",
    "    mean_absolute_error(y_sabre_test, y_sabre_pred),\n",
    "    MIXetreg.score(X_sabre_test,y_sabre_test),\n",
    "    metrics.explained_variance_score(y_sabre_test, y_sabre_pred)]]\n",
    "etreg_results_sabre = pd.DataFrame(data, columns=['algorithm','file_name','mae', 'r2', 'explained_variance'])\n",
    "etreg_results_sabre"
   ]
  },
  {
   "cell_type": "code",
   "execution_count": null,
   "id": "98",
   "metadata": {
    "tags": []
   },
   "outputs": [],
   "source": [
    "data = {'real': y_sabre_test, 'predicted': y_sabre_pred}\n",
    "y_frame_etregr_sabre = pd.DataFrame(data)\n",
    "y_frame_etregr_sabre"
   ]
  },
  {
   "cell_type": "code",
   "execution_count": null,
   "id": "99",
   "metadata": {
    "tags": []
   },
   "outputs": [],
   "source": [
    "y_frame_etregr_sabre.to_csv(output_folder + 'y_frame_etregr_sabre_opn_harm.csv')"
   ]
  },
  {
   "cell_type": "code",
   "execution_count": null,
   "id": "100",
   "metadata": {
    "tags": []
   },
   "outputs": [],
   "source": [
    "mix_based_opnharmonized_on_sabre =pd.concat([linr_results_sabre,\n",
    "                   llreg_results_sabre,\n",
    "                   eregr_results_sabre,\n",
    "                  etreg_results_sabre],\n",
    "                  axis=0)\n",
    "mix_based_opnharmonized_on_sabre"
   ]
  },
  {
   "cell_type": "code",
   "execution_count": null,
   "id": "101",
   "metadata": {
    "tags": []
   },
   "outputs": [],
   "source": [
    "mix_based_opnharmonized_on_sabre.to_csv(output_folder + 'mix_based_opnharmonized_on_sabre_opn_harm.csv')"
   ]
  },
  {
   "cell_type": "markdown",
   "id": "102",
   "metadata": {},
   "source": [
    "# Running mixed model over Insight46 dataset"
   ]
  },
  {
   "cell_type": "code",
   "execution_count": null,
   "id": "103",
   "metadata": {
    "tags": []
   },
   "outputs": [],
   "source": [
    "insight_ml_matrix = Insight46.drop('participant_id', axis=1)\n",
    "X_insight = insight_ml_matrix.drop('age', axis =1)\n",
    "X_insight = X_insight.values\n",
    "X_insight = X_insight.astype('float')\n",
    "y_insight = insight_ml_matrix['age'].values\n",
    "y_insight= y_insight.astype('float')"
   ]
  },
  {
   "cell_type": "code",
   "execution_count": null,
   "id": "104",
   "metadata": {
    "tags": []
   },
   "outputs": [],
   "source": [
    "X_insight_test = X_insight\n",
    "y_insight_test = y_insight"
   ]
  },
  {
   "cell_type": "code",
   "execution_count": null,
   "id": "105",
   "metadata": {
    "tags": []
   },
   "outputs": [],
   "source": [
    "y_insight_pred = MIXlinr.predict(X_insight_test)"
   ]
  },
  {
   "cell_type": "code",
   "execution_count": null,
   "id": "106",
   "metadata": {
    "tags": []
   },
   "outputs": [],
   "source": [
    "data= [[\n",
    "    'Linear Reg',\n",
    "    'opn_harmm_mix_MIXllinr.sav',\n",
    "    mean_absolute_error(y_insight_test, y_insight_pred),\n",
    "    MIXlinr.score(X_insight_test,y_insight_test),\n",
    "    metrics.explained_variance_score(y_insight_test, y_insight_pred)]]\n",
    "linr_results_insight = pd.DataFrame(data, columns=['algorithm','file_name','mae', 'r2', 'explained_variance'])\n",
    "linr_results_insight"
   ]
  },
  {
   "cell_type": "code",
   "execution_count": null,
   "id": "107",
   "metadata": {
    "tags": []
   },
   "outputs": [],
   "source": [
    "data = {'real': y_insight_test, 'predicted': y_insight_pred}\n",
    "y_frame_linr_insight = pd.DataFrame(data)\n",
    "y_frame_linr_insight"
   ]
  },
  {
   "cell_type": "code",
   "execution_count": null,
   "id": "108",
   "metadata": {
    "tags": []
   },
   "outputs": [],
   "source": [
    "y_frame_linr_insight.to_csv(output_folder + 'y_frame_linr_insight_opn_harm.csv')"
   ]
  },
  {
   "cell_type": "code",
   "execution_count": null,
   "id": "109",
   "metadata": {
    "tags": []
   },
   "outputs": [],
   "source": [
    "y_insight_pred = MIXllreg.predict(X_insight_test)"
   ]
  },
  {
   "cell_type": "code",
   "execution_count": null,
   "id": "110",
   "metadata": {
    "tags": []
   },
   "outputs": [],
   "source": [
    "data= [[\n",
    "    'Lasso',\n",
    "    'opn_harmm_mix_MIXllreg.sav',\n",
    "    mean_absolute_error(y_insight_test, y_insight_pred),\n",
    "    MIXllreg.score(X_insight_test,y_insight_test),\n",
    "    metrics.explained_variance_score(y_insight_test, y_insight_pred)]]\n",
    "llreg_results_insight = pd.DataFrame(data, columns=['algorithm','file_name','mae', 'r2', 'explained_variance'])\n",
    "llreg_results_insight"
   ]
  },
  {
   "cell_type": "code",
   "execution_count": null,
   "id": "111",
   "metadata": {
    "tags": []
   },
   "outputs": [],
   "source": [
    "data = {'real': y_insight_test, 'predicted': y_insight_pred}\n",
    "y_frame_llreg_insight = pd.DataFrame(data)\n",
    "y_frame_llreg_insight"
   ]
  },
  {
   "cell_type": "code",
   "execution_count": null,
   "id": "112",
   "metadata": {
    "tags": []
   },
   "outputs": [],
   "source": [
    "y_frame_llreg_insight.to_csv(output_folder + 'y_frame_llreg_insight_opn_harm.csv')"
   ]
  },
  {
   "cell_type": "code",
   "execution_count": null,
   "id": "113",
   "metadata": {
    "tags": []
   },
   "outputs": [],
   "source": [
    "y_insight_pred = MIXeregr.predict(X_insight_test)"
   ]
  },
  {
   "cell_type": "code",
   "execution_count": null,
   "id": "114",
   "metadata": {
    "tags": []
   },
   "outputs": [],
   "source": [
    "data= [[\n",
    "    'ElasticnetCV',\n",
    "    'opn_harmm_mix_MIXeregr.sav',\n",
    "    mean_absolute_error(y_insight_test, y_insight_pred),\n",
    "    MIXeregr.score(X_insight_test,y_insight_test),\n",
    "    metrics.explained_variance_score(y_insight_test, y_insight_pred)]]\n",
    "eregr_results_insight = pd.DataFrame(data, columns=['algorithm','file_name','mae', 'r2', 'explained_variance'])\n",
    "eregr_results_insight"
   ]
  },
  {
   "cell_type": "code",
   "execution_count": null,
   "id": "115",
   "metadata": {
    "tags": []
   },
   "outputs": [],
   "source": [
    "data = {'real': y_insight_test, 'predicted': y_insight_pred}\n",
    "y_frame_eregr_insight = pd.DataFrame(data)\n",
    "y_frame_eregr_insight"
   ]
  },
  {
   "cell_type": "code",
   "execution_count": null,
   "id": "116",
   "metadata": {
    "tags": []
   },
   "outputs": [],
   "source": [
    "y_frame_eregr_insight.to_csv(output_folder + 'y_frame_eregr_insight_opn_harm.csv')"
   ]
  },
  {
   "cell_type": "code",
   "execution_count": null,
   "id": "117",
   "metadata": {
    "tags": []
   },
   "outputs": [],
   "source": [
    "y_insight_pred = MIXetreg.predict(X_insight_test)"
   ]
  },
  {
   "cell_type": "code",
   "execution_count": null,
   "id": "118",
   "metadata": {
    "tags": []
   },
   "outputs": [],
   "source": [
    "data= [[\n",
    "    'Extra trees',\n",
    "    'opnharm_mix_etreg.sav',\n",
    "    mean_absolute_error(y_insight_test, y_insight_pred),\n",
    "    MIXetreg.score(X_insight_test,y_insight_test),\n",
    "    metrics.explained_variance_score(y_insight_test, y_insight_pred)]]\n",
    "etreg_results_insight = pd.DataFrame(data, columns=['algorithm','file_name','mae', 'r2', 'explained_variance'])\n",
    "etreg_results_insight"
   ]
  },
  {
   "cell_type": "code",
   "execution_count": null,
   "id": "119",
   "metadata": {
    "tags": []
   },
   "outputs": [],
   "source": [
    "data = {'real': y_insight_test, 'predicted': y_insight_pred}\n",
    "y_frame_etreg_insight = pd.DataFrame(data)\n",
    "y_frame_etreg_insight"
   ]
  },
  {
   "cell_type": "code",
   "execution_count": null,
   "id": "120",
   "metadata": {
    "tags": []
   },
   "outputs": [],
   "source": [
    "y_frame_etreg_insight.to_csv(output_folder + 'y_frame_etreg_insight_opn_harm.csv')"
   ]
  },
  {
   "cell_type": "code",
   "execution_count": null,
   "id": "121",
   "metadata": {
    "tags": []
   },
   "outputs": [],
   "source": [
    "mix_based_opnharmonized_on_insight =pd.concat([linr_results_insight,\n",
    "                   llreg_results_insight,\n",
    "                   eregr_results_insight,\n",
    "                   etreg_results_insight],\n",
    "                  axis=0)\n",
    "mix_based_opnharmonized_on_insight"
   ]
  },
  {
   "cell_type": "code",
   "execution_count": null,
   "id": "122",
   "metadata": {
    "tags": []
   },
   "outputs": [],
   "source": [
    "mix_based_opnharmonized_on_insight.to_csv(output_folder + 'mix_based_opnharmonized_on_insight.csv')"
   ]
  },
  {
   "cell_type": "markdown",
   "id": "d4992f99-2b13-44a4-9d84-30352bfd4324",
   "metadata": {},
   "source": [
    "# Run models on EDIS"
   ]
  },
  {
   "cell_type": "code",
   "execution_count": null,
   "id": "651cde2d-5ad7-4fae-aad0-2e3a727f45ee",
   "metadata": {},
   "outputs": [],
   "source": []
  },
  {
   "cell_type": "code",
   "execution_count": null,
   "id": "adc54e52-fc04-4f09-9a01-251d14cbc542",
   "metadata": {},
   "outputs": [],
   "source": []
  },
  {
   "cell_type": "code",
   "execution_count": null,
   "id": "ae6c5f55-64ad-4018-ad78-5f92e546fb6e",
   "metadata": {
    "tags": []
   },
   "outputs": [],
   "source": [
    "edis_ml_matrix = EDIS.drop('participant_id', axis=1)\n",
    "X_edis = edis_ml_matrix.drop('age', axis =1)\n",
    "X_edis = X_edis.values\n",
    "X_edis = X_edis.astype('float')\n",
    "y_edis = edis_ml_matrix['age'].values\n",
    "y_edis=y_edis.astype('float')"
   ]
  },
  {
   "cell_type": "code",
   "execution_count": null,
   "id": "2999204e-5ca8-43b6-8731-d00b1e2794a2",
   "metadata": {
    "tags": []
   },
   "outputs": [],
   "source": [
    "X_edis_test = X_edis\n",
    "y_edis_test = y_edis"
   ]
  },
  {
   "cell_type": "code",
   "execution_count": null,
   "id": "0408b31f-84ad-461a-bd03-bab1fb9b7db5",
   "metadata": {
    "tags": []
   },
   "outputs": [],
   "source": [
    "y_edis_pred = MIXlinr.predict(X_edis_test)"
   ]
  },
  {
   "cell_type": "code",
   "execution_count": null,
   "id": "9cfb893d-8aa8-44af-8120-d343e12e767d",
   "metadata": {
    "tags": []
   },
   "outputs": [],
   "source": [
    "data= [[\n",
    "    'Linear Reg',\n",
    "    'opn_harm_mix_MIXlinr.sav',\n",
    "    mean_absolute_error(y_edis_test, y_edis_pred),\n",
    "    MIXlinr.score(X_edis_test,y_edis_test),\n",
    "    metrics.explained_variance_score(y_edis_test, y_edis_pred)]]\n",
    "linr_results_edis = pd.DataFrame(data, columns=['algorithm','file_name','mae', 'r2', 'explained_variance'])\n",
    "linr_results_edis"
   ]
  },
  {
   "cell_type": "code",
   "execution_count": null,
   "id": "1dd41229-3635-4ee8-a439-9494fb7e435b",
   "metadata": {
    "tags": []
   },
   "outputs": [],
   "source": [
    "data = {'real': y_edis_test, 'predicted': y_edis_pred}\n",
    "y_frame_linr_edis = pd.DataFrame(data)\n",
    "y_frame_linr_edis"
   ]
  },
  {
   "cell_type": "code",
   "execution_count": null,
   "id": "727ebb7f-347b-4031-8bae-69aeb79a684d",
   "metadata": {
    "tags": []
   },
   "outputs": [],
   "source": [
    "y_frame_linr_edis.to_csv(output_folder + 'y_frame_linr_edis_opn_harm.csv')"
   ]
  },
  {
   "cell_type": "code",
   "execution_count": null,
   "id": "5e03ee21-b6c4-4557-ba7a-caa99dcf69fe",
   "metadata": {
    "tags": []
   },
   "outputs": [],
   "source": [
    "y_edis_pred = MIXllreg.predict(X_edis_test)"
   ]
  },
  {
   "cell_type": "code",
   "execution_count": null,
   "id": "cbdecc50-50a2-48f7-92bc-7cf75061af3f",
   "metadata": {
    "tags": []
   },
   "outputs": [],
   "source": [
    "data= [[\n",
    "    'Lasso',\n",
    "    'opn_harmm_mix_MIXllreg.sav',\n",
    "    mean_absolute_error(y_edis_test, y_edis_pred),\n",
    "    MIXllreg.score(X_edis_test,y_edis_test),\n",
    "    metrics.explained_variance_score(y_edis_test, y_edis_pred)]]\n",
    "llreg_results_edis = pd.DataFrame(data, columns=['algorithm','file_name','mae', 'r2', 'explained_variance'])\n",
    "llreg_results_edis"
   ]
  },
  {
   "cell_type": "code",
   "execution_count": null,
   "id": "61a2fff2-89c9-4613-896f-00e0ce0dac7c",
   "metadata": {
    "tags": []
   },
   "outputs": [],
   "source": [
    "data = {'real': y_edis_test, 'predicted': y_edis_pred}\n",
    "y_frame_llreg_edis = pd.DataFrame(data)\n",
    "y_frame_llreg_edis"
   ]
  },
  {
   "cell_type": "code",
   "execution_count": null,
   "id": "79ed384b-5b40-4d26-914c-532621317f53",
   "metadata": {
    "tags": []
   },
   "outputs": [],
   "source": [
    "y_frame_llreg_edis.to_csv(output_folder + 'y_frame_llreg_edis_opn_harm.csv')"
   ]
  },
  {
   "cell_type": "code",
   "execution_count": null,
   "id": "68d6db4f-aef5-4a77-ac86-a65c8a26bbfb",
   "metadata": {
    "tags": []
   },
   "outputs": [],
   "source": [
    "y_edis_pred = MIXeregr.predict(X_edis_test)"
   ]
  },
  {
   "cell_type": "code",
   "execution_count": null,
   "id": "3d0a8596-59d2-4e57-8180-04ad09b7d391",
   "metadata": {
    "tags": []
   },
   "outputs": [],
   "source": [
    "data= [[\n",
    "    'ElasticnetCV',\n",
    "    'opn_harmm_mix_MIXeregr_edis.sav',\n",
    "    mean_absolute_error(y_edis_test, y_edis_pred),\n",
    "    MIXeregr.score(X_edis_test,y_edis_test),\n",
    "    metrics.explained_variance_score(y_edis_test, y_edis_pred)]]\n",
    "eregr_results_edis = pd.DataFrame(data, columns=['algorithm','file_name','mae', 'r2', 'explained_variance'])\n",
    "eregr_results_edis"
   ]
  },
  {
   "cell_type": "code",
   "execution_count": null,
   "id": "4403cbdd-dd3b-4e80-bbf6-8ba65b1bc41c",
   "metadata": {
    "tags": []
   },
   "outputs": [],
   "source": [
    "data = {'real': y_edis_test, 'predicted': y_edis_pred}\n",
    "y_frame_eregr_edis = pd.DataFrame(data)\n",
    "y_frame_eregr_edis"
   ]
  },
  {
   "cell_type": "code",
   "execution_count": null,
   "id": "727b4a82-7ed1-4434-ba6f-eb42087c6d2b",
   "metadata": {
    "tags": []
   },
   "outputs": [],
   "source": [
    "y_frame_eregr_edis.to_csv(output_folder + 'y_frame_eregr_edis_opn_harm.csv')"
   ]
  },
  {
   "cell_type": "code",
   "execution_count": null,
   "id": "ee1d333f-b0ba-40a1-bb1c-004e259b4b01",
   "metadata": {
    "tags": []
   },
   "outputs": [],
   "source": [
    "y_edis_pred = MIXetreg.predict(X_edis_test)"
   ]
  },
  {
   "cell_type": "code",
   "execution_count": null,
   "id": "3f4b6541-035e-4b78-bbd9-bd523aadd2f6",
   "metadata": {
    "tags": []
   },
   "outputs": [],
   "source": [
    "data= [[\n",
    "    'Extra trees',\n",
    "    'opn_harmm_mix_MIXetreg_edis.sav',\n",
    "    mean_absolute_error(y_edis_test, y_edis_pred),\n",
    "    MIXetreg.score(X_edis_test,y_edis_test),\n",
    "    metrics.explained_variance_score(y_edis_test, y_edis_pred)]]\n",
    "etreg_results_edis = pd.DataFrame(data, columns=['algorithm','file_name','mae', 'r2', 'explained_variance'])\n",
    "etreg_results_edis"
   ]
  },
  {
   "cell_type": "code",
   "execution_count": null,
   "id": "c4f90a5a-31b9-418b-93c8-387f554402ae",
   "metadata": {
    "tags": []
   },
   "outputs": [],
   "source": [
    "data = {'real': y_edis_test, 'predicted': y_edis_pred}\n",
    "y_frame_etregr_edis = pd.DataFrame(data)\n",
    "y_frame_etregr_edis"
   ]
  },
  {
   "cell_type": "code",
   "execution_count": null,
   "id": "cb6289c9-d6c6-4d5d-9e15-5480fc5fe107",
   "metadata": {
    "tags": []
   },
   "outputs": [],
   "source": [
    "y_frame_etregr_edis.to_csv(output_folder + 'y_frame_etregr_edis_opn_harm.csv')"
   ]
  },
  {
   "cell_type": "code",
   "execution_count": null,
   "id": "2f121002-6fc4-4fca-a60e-103eca98b0cb",
   "metadata": {
    "tags": []
   },
   "outputs": [],
   "source": [
    "mix_based_opnharmonized_on_edis =pd.concat([linr_results_edis,\n",
    "                   llreg_results_edis,\n",
    "                   eregr_results_edis,\n",
    "                  etreg_results_edis],\n",
    "                  axis=0)\n",
    "mix_based_opnharmonized_on_edis"
   ]
  },
  {
   "cell_type": "code",
   "execution_count": null,
   "id": "b2e30336-4c19-4fe9-8ef0-30ee29584dce",
   "metadata": {
    "tags": []
   },
   "outputs": [],
   "source": [
    "mix_based_opnharmonized_on_edis.to_csv(output_folder + 'mix_based_opnharmonized_on_edis_opn_harm.csv')"
   ]
  },
  {
   "cell_type": "code",
   "execution_count": null,
   "id": "bb7c997a-18c0-4271-b83b-f422470479b4",
   "metadata": {},
   "outputs": [],
   "source": []
  },
  {
   "cell_type": "code",
   "execution_count": null,
   "id": "784a0fee-ae2b-4ce4-b893-0d468b2c7d91",
   "metadata": {},
   "outputs": [],
   "source": []
  },
  {
   "cell_type": "markdown",
   "id": "832bc875-d758-49cd-a49d-419c76e3007e",
   "metadata": {},
   "source": [
    "# Run models on HELIUS"
   ]
  },
  {
   "cell_type": "code",
   "execution_count": null,
   "id": "5071e5ea-2935-4802-90d0-ff537b14355f",
   "metadata": {},
   "outputs": [],
   "source": []
  },
  {
   "cell_type": "code",
   "execution_count": null,
   "id": "7b059066-bcab-43a9-a5b7-5752f5b58cec",
   "metadata": {},
   "outputs": [],
   "source": []
  },
  {
   "cell_type": "code",
   "execution_count": null,
   "id": "9639c022-bf45-4d97-9892-11e7d3e27ede",
   "metadata": {
    "tags": []
   },
   "outputs": [],
   "source": [
    "helius_ml_matrix = HELIUS.drop('participant_id', axis=1)\n",
    "X_helius = helius_ml_matrix.drop('age', axis =1)\n",
    "X_helius = X_helius.values\n",
    "X_helius = X_helius.astype('float')\n",
    "y_helius = helius_ml_matrix['age'].values\n",
    "y_helius=y_helius.astype('float')"
   ]
  },
  {
   "cell_type": "code",
   "execution_count": null,
   "id": "1197a142-f744-470a-9661-eda9d7c4a90c",
   "metadata": {
    "tags": []
   },
   "outputs": [],
   "source": [
    "X_helius_test = X_helius\n",
    "y_helius_test = y_helius"
   ]
  },
  {
   "cell_type": "code",
   "execution_count": null,
   "id": "aa3f7e01-4b53-4bfd-95d1-88a30068c27d",
   "metadata": {
    "tags": []
   },
   "outputs": [],
   "source": [
    "y_helius_pred = MIXlinr.predict(X_helius_test)"
   ]
  },
  {
   "cell_type": "code",
   "execution_count": null,
   "id": "801b2cad-9562-4ebf-a805-c7d3e285d28c",
   "metadata": {
    "tags": []
   },
   "outputs": [],
   "source": [
    "data= [[\n",
    "    'Linear Reg',\n",
    "    'opn_harm_mix_MIXlinr.sav',\n",
    "    mean_absolute_error(y_helius_test, y_helius_pred),\n",
    "    MIXlinr.score(X_helius_test,y_helius_test),\n",
    "    metrics.explained_variance_score(y_helius_test, y_helius_pred)]]\n",
    "linr_results_helius = pd.DataFrame(data, columns=['algorithm','file_name','mae', 'r2', 'explained_variance'])\n",
    "linr_results_helius"
   ]
  },
  {
   "cell_type": "code",
   "execution_count": null,
   "id": "5af7d258-6a52-406e-8faf-50bd9d099fb5",
   "metadata": {
    "tags": []
   },
   "outputs": [],
   "source": [
    "data = {'real': y_helius_test, 'predicted': y_helius_pred}\n",
    "y_frame_linr_helius = pd.DataFrame(data)\n",
    "y_frame_linr_helius"
   ]
  },
  {
   "cell_type": "code",
   "execution_count": null,
   "id": "09b1924b-64fa-4462-abc9-f4245c7db690",
   "metadata": {
    "tags": []
   },
   "outputs": [],
   "source": [
    "y_frame_linr_helius.to_csv(output_folder + 'y_frame_linr_helius_opn_harm.csv')"
   ]
  },
  {
   "cell_type": "code",
   "execution_count": null,
   "id": "99406805-e605-41b7-821b-b0d34d623575",
   "metadata": {
    "tags": []
   },
   "outputs": [],
   "source": [
    "y_helius_pred = MIXllreg.predict(X_helius_test)"
   ]
  },
  {
   "cell_type": "code",
   "execution_count": null,
   "id": "d1167c1d-d7e4-41d3-a140-caf2b95649fe",
   "metadata": {
    "tags": []
   },
   "outputs": [],
   "source": [
    "data= [[\n",
    "    'Lasso',\n",
    "    'opn_harmm_mix_MIXllreg.sav',\n",
    "    mean_absolute_error(y_helius_test, y_helius_pred),\n",
    "    MIXllreg.score(X_helius_test,y_helius_test),\n",
    "    metrics.explained_variance_score(y_helius_test, y_helius_pred)]]\n",
    "llreg_results_helius = pd.DataFrame(data, columns=['algorithm','file_name','mae', 'r2', 'explained_variance'])\n",
    "llreg_results_helius"
   ]
  },
  {
   "cell_type": "code",
   "execution_count": null,
   "id": "53d8aa3d-8b5b-4707-9dae-f005ef3564c1",
   "metadata": {
    "tags": []
   },
   "outputs": [],
   "source": [
    "data = {'real': y_helius_test, 'predicted': y_helius_pred}\n",
    "y_frame_llreg_helius = pd.DataFrame(data)\n",
    "y_frame_llreg_helius"
   ]
  },
  {
   "cell_type": "code",
   "execution_count": null,
   "id": "1f690ab9-0f47-4276-8477-d74ffd020111",
   "metadata": {
    "tags": []
   },
   "outputs": [],
   "source": [
    "y_frame_llreg_helius.to_csv(output_folder + 'y_frame_llreg_helius_opn_harm.csv')"
   ]
  },
  {
   "cell_type": "code",
   "execution_count": null,
   "id": "b9fc7426-036e-4b00-9c34-8420223aff07",
   "metadata": {
    "tags": []
   },
   "outputs": [],
   "source": [
    "y_helius_pred = MIXeregr.predict(X_helius_test)"
   ]
  },
  {
   "cell_type": "code",
   "execution_count": null,
   "id": "6b9618d6-96f8-4e9f-94c4-4280bd15983f",
   "metadata": {
    "tags": []
   },
   "outputs": [],
   "source": [
    "data= [[\n",
    "    'ElasticnetCV',\n",
    "    'opn_harmm_mix_MIXeregr.sav',\n",
    "    mean_absolute_error(y_helius_test, y_helius_pred),\n",
    "    MIXeregr.score(X_helius_test,y_helius_test),\n",
    "    metrics.explained_variance_score(y_helius_test, y_helius_pred)]]\n",
    "eregr_results_helius = pd.DataFrame(data, columns=['algorithm','file_name','mae', 'r2', 'explained_variance'])\n",
    "eregr_results_helius"
   ]
  },
  {
   "cell_type": "code",
   "execution_count": null,
   "id": "15f4ff91-db9e-44ae-9a73-56b13bc3373f",
   "metadata": {
    "tags": []
   },
   "outputs": [],
   "source": [
    "data = {'real': y_helius_test, 'predicted': y_helius_pred}\n",
    "y_frame_eregr_helius = pd.DataFrame(data)\n",
    "y_frame_eregr_helius"
   ]
  },
  {
   "cell_type": "code",
   "execution_count": null,
   "id": "713868ce-c19c-4e43-953b-dc733dd6b8c0",
   "metadata": {
    "tags": []
   },
   "outputs": [],
   "source": [
    "y_frame_eregr_helius.to_csv(output_folder + 'y_frame_eregr_helius_opn_harm.csv')"
   ]
  },
  {
   "cell_type": "code",
   "execution_count": null,
   "id": "50c2724f-95d3-4fac-baf4-ef6bd8bda3c1",
   "metadata": {
    "tags": []
   },
   "outputs": [],
   "source": [
    "y_helius_pred = MIXetreg.predict(X_helius_test)"
   ]
  },
  {
   "cell_type": "code",
   "execution_count": null,
   "id": "01294b04-abcc-4e23-ad93-77eced60e89c",
   "metadata": {
    "tags": []
   },
   "outputs": [],
   "source": [
    "data= [[\n",
    "    'Extra trees',\n",
    "    'opn_harmm_mix_MIXetreg.sav',\n",
    "    mean_absolute_error(y_helius_test, y_helius_pred),\n",
    "    MIXetreg.score(X_helius_test,y_helius_test),\n",
    "    metrics.explained_variance_score(y_helius_test, y_helius_pred)]]\n",
    "etreg_results_helius = pd.DataFrame(data, columns=['algorithm','file_name','mae', 'r2', 'explained_variance'])\n",
    "etreg_results_helius"
   ]
  },
  {
   "cell_type": "code",
   "execution_count": null,
   "id": "9a7b379e-c988-421b-baf5-5ffc18c1631d",
   "metadata": {
    "tags": []
   },
   "outputs": [],
   "source": [
    "data = {'real': y_helius_test, 'predicted': y_helius_pred}\n",
    "y_frame_etregr_helius = pd.DataFrame(data)\n",
    "y_frame_etregr_helius"
   ]
  },
  {
   "cell_type": "code",
   "execution_count": null,
   "id": "159db864-e78c-4e9a-9522-80e266897603",
   "metadata": {
    "tags": []
   },
   "outputs": [],
   "source": [
    "y_frame_etregr_helius.to_csv(output_folder + 'y_frame_etregr_helius_opn_harm.csv')"
   ]
  },
  {
   "cell_type": "code",
   "execution_count": null,
   "id": "30a34430-f2a5-42df-ad72-9f5fc49a50d3",
   "metadata": {
    "tags": []
   },
   "outputs": [],
   "source": [
    "mix_based_opnharmonized_on_helius =pd.concat([linr_results_helius,\n",
    "                   llreg_results_helius,\n",
    "                   eregr_results_helius,\n",
    "                  etreg_results_helius],\n",
    "                  axis=0)\n",
    "mix_based_opnharmonized_on_helius"
   ]
  },
  {
   "cell_type": "code",
   "execution_count": null,
   "id": "2b47904b-3312-4773-be39-d4c388d4f307",
   "metadata": {
    "tags": []
   },
   "outputs": [],
   "source": [
    "mix_based_opnharmonized_on_helius.to_csv(output_folder + 'mix_based_opnharmonized_on_helius_opn_harm.csv')"
   ]
  },
  {
   "cell_type": "code",
   "execution_count": null,
   "id": "bfac2e65-4435-462a-bb07-112627ef3de4",
   "metadata": {},
   "outputs": [],
   "source": []
  },
  {
   "cell_type": "code",
   "execution_count": null,
   "id": "9f9b6715-8b71-46ae-9c39-a4c4c5b2739d",
   "metadata": {},
   "outputs": [],
   "source": []
  }
 ],
 "metadata": {
  "kernelspec": {
   "display_name": "Python 3 (ipykernel)",
   "language": "python",
   "name": "python3"
  },
  "language_info": {
   "codemirror_mode": {
    "name": "ipython",
    "version": 3
   },
   "file_extension": ".py",
   "mimetype": "text/x-python",
   "name": "python",
   "nbconvert_exporter": "python",
   "pygments_lexer": "ipython3",
   "version": "3.11.6"
  }
 },
 "nbformat": 4,
 "nbformat_minor": 5
}
