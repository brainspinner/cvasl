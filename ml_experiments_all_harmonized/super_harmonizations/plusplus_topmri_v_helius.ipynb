{
 "cells": [
  {
   "cell_type": "markdown",
   "id": "0",
   "metadata": {},
   "source": [
    "# Combat++ harmonization 2 way between TOPMRI and HELIUS datasets,\n",
    "\n",
    "# followed by 5-way harmonization for all datasets"
   ]
  },
  {
   "cell_type": "code",
   "execution_count": null,
   "id": "1",
   "metadata": {
    "vscode": {
     "languageId": "r"
    }
   },
   "outputs": [],
   "source": [
    "#sys.path.insert(0, '../../')\n",
    "source('../../cvasl/vendor/ComBat++/combatPP.R') #as pluscombat\n",
    "source(\"../../cvasl/vendor/ComBat++/utils.R\")"
   ]
  },
  {
   "cell_type": "code",
   "execution_count": null,
   "id": "2",
   "metadata": {
    "vscode": {
     "languageId": "r"
    }
   },
   "outputs": [],
   "source": [
    "library(matrixStats)"
   ]
  },
  {
   "cell_type": "code",
   "execution_count": null,
   "id": "3",
   "metadata": {
    "vscode": {
     "languageId": "r"
    }
   },
   "outputs": [],
   "source": [
    "TOP <- read.csv('../our_datasets/TOP/TrainingDataComplete.csv')\n",
    "\n",
    " \n",
    "head(TOP, 4)"
   ]
  },
  {
   "cell_type": "code",
   "execution_count": null,
   "id": "4",
   "metadata": {
    "vscode": {
     "languageId": "r"
    }
   },
   "outputs": [],
   "source": [
    "MRI <- read.csv('../our_datasets/StrokeMRI/TrainingDataComplete.csv')\n",
    "head(MRI, 4)"
   ]
  },
  {
   "cell_type": "code",
   "execution_count": null,
   "id": "5",
   "metadata": {
    "vscode": {
     "languageId": "r"
    }
   },
   "outputs": [],
   "source": [
    "HELIUS <- read.csv('../our_datasets/HELIUS/TrainingDataComplete.csv')\n",
    "head(HELIUS, 4)"
   ]
  },
  {
   "cell_type": "code",
   "execution_count": null,
   "id": "6",
   "metadata": {
    "vscode": {
     "languageId": "r"
    }
   },
   "outputs": [],
   "source": [
    "TOPMRI<- rbind(TOP, MRI)\n",
    "conditions <- c(1)\n",
    "replacement_values <- c(0)\n",
    "# Use replace() \n",
    "TOPMRI$Site <- replace(TOPMRI$Site, TOPMRI$Site %in% conditions, replacement_values)\n",
    "head(TOPMRI, 3)"
   ]
  },
  {
   "cell_type": "code",
   "execution_count": null,
   "id": "7",
   "metadata": {
    "vscode": {
     "languageId": "r"
    }
   },
   "outputs": [],
   "source": [
    "fused_dat <- rbind(TOPMRI, HELIUS)\n",
    "head(fused_dat, 3)"
   ]
  },
  {
   "cell_type": "code",
   "execution_count": null,
   "id": "8",
   "metadata": {
    "vscode": {
     "languageId": "r"
    }
   },
   "outputs": [],
   "source": [
    "age <- c((fused_dat['Age']))\n",
    "age <- as.numeric(unlist(age))\n",
    "print(typeof(age))"
   ]
  },
  {
   "cell_type": "code",
   "execution_count": null,
   "id": "9",
   "metadata": {
    "vscode": {
     "languageId": "r"
    }
   },
   "outputs": [],
   "source": [
    "#age <- c((fused_dat['Age'])) # Continuous variable\n",
    "sex <- c((fused_dat['Sex']))\n",
    "sex <- as.numeric(unlist(sex))\n",
    "sex <- as.factor(sex) # Categorical variable\n",
    "mod <- model.matrix(~age+sex)\n"
   ]
  },
  {
   "cell_type": "code",
   "execution_count": null,
   "id": "10",
   "metadata": {
    "vscode": {
     "languageId": "r"
    }
   },
   "outputs": [],
   "source": [
    "batchvector <- c(fused_dat['Site'])\n",
    "batchvector <- as.numeric(unlist(batchvector))"
   ]
  },
  {
   "cell_type": "code",
   "execution_count": null,
   "id": "11",
   "metadata": {
    "vscode": {
     "languageId": "r"
    }
   },
   "outputs": [],
   "source": [
    "head(fused_dat)"
   ]
  },
  {
   "cell_type": "code",
   "execution_count": null,
   "id": "12",
   "metadata": {
    "vscode": {
     "languageId": "r"
    }
   },
   "outputs": [],
   "source": [
    "fused_dat_m1 <- fused_dat[,-1]\n",
    "fused_dat_m1 <- fused_dat_m1[,-1]\n",
    "fused_dat_m1 <- fused_dat_m1[,-1]\n",
    "fused_dat_m1 <- fused_dat_m1[,-1]\n",
    "fused_dat_m1 <- fused_dat_m1[,-1]\n",
    "fused_dat_m1 <- fused_dat_m1[,-1]\n",
    "head(fused_dat_m1, 3)"
   ]
  },
  {
   "cell_type": "code",
   "execution_count": null,
   "id": "13",
   "metadata": {
    "vscode": {
     "languageId": "r"
    }
   },
   "outputs": [],
   "source": [
    "ta <- t(fused_dat_m1) "
   ]
  },
  {
   "cell_type": "code",
   "execution_count": null,
   "id": "14",
   "metadata": {
    "vscode": {
     "languageId": "r"
    }
   },
   "outputs": [],
   "source": [
    "#combatPP(ta, batchvector)"
   ]
  },
  {
   "cell_type": "code",
   "execution_count": null,
   "id": "15",
   "metadata": {
    "vscode": {
     "languageId": "r"
    }
   },
   "outputs": [],
   "source": [
    "data.harmonized <-combatPP(ta,  mod=mod, batchvector) # need to add mod=mod"
   ]
  },
  {
   "cell_type": "code",
   "execution_count": null,
   "id": "16",
   "metadata": {
    "vscode": {
     "languageId": "r"
    }
   },
   "outputs": [],
   "source": [
    "#data.harmonized"
   ]
  },
  {
   "cell_type": "code",
   "execution_count": null,
   "id": "17",
   "metadata": {
    "vscode": {
     "languageId": "r"
    }
   },
   "outputs": [],
   "source": [
    "new_df <- data.harmonized$dat.combat"
   ]
  },
  {
   "cell_type": "code",
   "execution_count": null,
   "id": "18",
   "metadata": {
    "vscode": {
     "languageId": "r"
    }
   },
   "outputs": [],
   "source": [
    "head(fused_dat)"
   ]
  },
  {
   "cell_type": "code",
   "execution_count": null,
   "id": "19",
   "metadata": {
    "vscode": {
     "languageId": "r"
    }
   },
   "outputs": [],
   "source": [
    "fused_dat_front <- fused_dat[c(1:6)]\n",
    "head(fused_dat_front,3) "
   ]
  },
  {
   "cell_type": "code",
   "execution_count": null,
   "id": "20",
   "metadata": {
    "vscode": {
     "languageId": "r"
    }
   },
   "outputs": [],
   "source": [
    "rollback <- t(new_df)\n",
    "head(rollback, 3)\n"
   ]
  },
  {
   "cell_type": "code",
   "execution_count": null,
   "id": "21",
   "metadata": {
    "vscode": {
     "languageId": "r"
    }
   },
   "outputs": [],
   "source": [
    "harmonized_set <- cbind(fused_dat_front, rollback)"
   ]
  },
  {
   "cell_type": "code",
   "execution_count": null,
   "id": "22",
   "metadata": {
    "vscode": {
     "languageId": "r"
    }
   },
   "outputs": [],
   "source": [
    "head(harmonized_set)"
   ]
  },
  {
   "cell_type": "code",
   "execution_count": null,
   "id": "23",
   "metadata": {
    "vscode": {
     "languageId": "r"
    }
   },
   "outputs": [],
   "source": [
    "harmonized_topmri <- harmonized_set[which(harmonized_set['Site'] == 0),] \n",
    "head(harmonized_topmri,3)"
   ]
  },
  {
   "cell_type": "code",
   "execution_count": null,
   "id": "24",
   "metadata": {
    "vscode": {
     "languageId": "r"
    }
   },
   "outputs": [],
   "source": [
    "harmonized_HELIUS <- harmonized_set[which(harmonized_set['Site'] == 1),] \n",
    "head(harmonized_HELIUS,3)"
   ]
  },
  {
   "cell_type": "code",
   "execution_count": null,
   "id": "25",
   "metadata": {
    "vscode": {
     "languageId": "r"
    }
   },
   "outputs": [],
   "source": [
    "# now save as csvs\n",
    "write.csv(harmonized_topmri, \"harm_results/plus/plus_harmonized_topmri_v_HELIUS.csv\")\n",
    "write.csv(harmonized_HELIUS, \"harm_results/plus/plus_harmonized_HELIUS_from_v1.csv\")"
   ]
  },
  {
   "cell_type": "code",
   "execution_count": null,
   "id": "26",
   "metadata": {
    "vscode": {
     "languageId": "r"
    }
   },
   "outputs": [],
   "source": []
  },
  {
   "cell_type": "markdown",
   "id": "27",
   "metadata": {},
   "source": [
    "# Now let'try a 5 way"
   ]
  },
  {
   "cell_type": "code",
   "execution_count": null,
   "id": "28",
   "metadata": {},
   "outputs": [],
   "source": [
    "head(TOPMRI, 3)"
   ]
  },
  {
   "cell_type": "code",
   "execution_count": null,
   "id": "29",
   "metadata": {},
   "outputs": [],
   "source": [
    "head(HELIUS)"
   ]
  },
  {
   "cell_type": "code",
   "execution_count": null,
   "id": "30",
   "metadata": {},
   "outputs": [],
   "source": [
    "EDIS <- read.csv('../our_datasets/EDIS/TrainingDataComplete.csv')\n",
    "conditions <- c(1)\n",
    "replacement_values <- c(2)\n",
    "# Use replace() \n",
    "EDIS$Site <- replace(EDIS$Site, EDIS$Site %in% conditions, replacement_values)\n",
    "head(EDIS, 4)"
   ]
  },
  {
   "cell_type": "code",
   "execution_count": null,
   "id": "31",
   "metadata": {},
   "outputs": [],
   "source": [
    "# recode sex in EDIS dataset\n",
    "\n",
    "conditions <- c( 1, 2)\n",
    "replacement_values <- c(1, 0)\n",
    "EDIS$Sex <- replace(EDIS$Sex, EDIS$Sex %in% conditions, replacement_values)\n",
    "head(EDIS,4)"
   ]
  },
  {
   "cell_type": "code",
   "execution_count": null,
   "id": "32",
   "metadata": {},
   "outputs": [],
   "source": [
    "SABRE <- read.csv('../our_datasets/SABRE/TrainingDataComplete.csv')\n",
    "conditions <- c(1)\n",
    "replacement_values <- c(3)\n",
    "# Use replace() \n",
    "SABRE$Site <- replace(SABRE$Site, SABRE$Site %in% conditions, replacement_values)\n",
    "head(SABRE, 4)"
   ]
  },
  {
   "cell_type": "code",
   "execution_count": null,
   "id": "33",
   "metadata": {},
   "outputs": [],
   "source": [
    "# recode sex in SABRE dataset\n",
    "\n",
    "conditions <- c( 1, 2)\n",
    "replacement_values <- c(1, 0)\n",
    "SABRE$Sex <- replace(SABRE$Sex, SABRE$Sex %in% conditions, replacement_values)\n",
    "head(SABRE,4)"
   ]
  },
  {
   "cell_type": "code",
   "execution_count": null,
   "id": "34",
   "metadata": {},
   "outputs": [],
   "source": [
    "INSI <- read.csv('../our_datasets/Insight46/TrainingDataComplete.csv')\n",
    "conditions <- c(1)\n",
    "replacement_values <- c(4)\n",
    "# Use replace() \n",
    "INSI$Site <- replace(INSI$Site, INSI$Site %in% conditions, replacement_values)\n",
    "head(INSI, 4)"
   ]
  },
  {
   "cell_type": "code",
   "execution_count": null,
   "id": "35",
   "metadata": {},
   "outputs": [],
   "source": [
    "# recode sex in INSIGHT dataset\n",
    "\n",
    "conditions <- c( 1, 2)\n",
    "replacement_values <- c(1, 0)\n",
    "INSI$Sex <- replace(INSI$Sex, INSI$Sex %in% conditions, replacement_values)\n",
    "head(INSI,4)"
   ]
  },
  {
   "cell_type": "code",
   "execution_count": null,
   "id": "36",
   "metadata": {
    "vscode": {
     "languageId": "r"
    }
   },
   "outputs": [],
   "source": [
    "five_fused_dat <- rbind(TOPMRI, HELIUS, INSI, SABRE,EDIS)\n",
    "head(five_fused_dat, 3)"
   ]
  },
  {
   "cell_type": "code",
   "execution_count": null,
   "id": "37",
   "metadata": {
    "vscode": {
     "languageId": "r"
    }
   },
   "outputs": [],
   "source": [
    "age <- c((five_fused_dat['Age']))\n",
    "age <- as.numeric(unlist(age))\n",
    "print(typeof(age))"
   ]
  },
  {
   "cell_type": "code",
   "execution_count": null,
   "id": "38",
   "metadata": {
    "vscode": {
     "languageId": "r"
    }
   },
   "outputs": [],
   "source": [
    "#age <- c((fused_dat['Age'])) # Continuous variable\n",
    "sex <- c((five_fused_dat['Sex']))\n",
    "sex <- as.numeric(unlist(sex))\n",
    "sex <- as.factor(sex) # Categorical variable\n",
    "mod <- model.matrix(~age+sex)\n"
   ]
  },
  {
   "cell_type": "code",
   "execution_count": null,
   "id": "39",
   "metadata": {
    "vscode": {
     "languageId": "r"
    }
   },
   "outputs": [],
   "source": [
    "five_batchvector <- c(five_fused_dat['Site'])\n",
    "five_batchvector <- as.numeric(unlist(five_batchvector))"
   ]
  },
  {
   "cell_type": "code",
   "execution_count": null,
   "id": "40",
   "metadata": {
    "vscode": {
     "languageId": "r"
    }
   },
   "outputs": [],
   "source": [
    "head(five_fused_dat)"
   ]
  },
  {
   "cell_type": "code",
   "execution_count": null,
   "id": "41",
   "metadata": {},
   "outputs": [],
   "source": []
  },
  {
   "cell_type": "code",
   "execution_count": null,
   "id": "42",
   "metadata": {
    "vscode": {
     "languageId": "r"
    }
   },
   "outputs": [],
   "source": [
    "five_fused_dat_m1 <- five_fused_dat[,-1]\n",
    "five_fused_dat_m1 <- five_fused_dat_m1[,-1]\n",
    "five_fused_dat_m1 <- five_fused_dat_m1[,-1]\n",
    "five_fused_dat_m1 <- five_fused_dat_m1[,-1]\n",
    "five_fused_dat_m1 <- five_fused_dat_m1[,-1]\n",
    "five_fused_dat_m1 <- five_fused_dat_m1[,-1]\n",
    "head(five_fused_dat_m1, 3)"
   ]
  },
  {
   "cell_type": "code",
   "execution_count": null,
   "id": "43",
   "metadata": {
    "vscode": {
     "languageId": "r"
    }
   },
   "outputs": [],
   "source": [
    "ta5 <- t(five_fused_dat_m1) "
   ]
  },
  {
   "cell_type": "code",
   "execution_count": null,
   "id": "44",
   "metadata": {
    "vscode": {
     "languageId": "r"
    }
   },
   "outputs": [],
   "source": [
    "#combatPP(ta, batchvector)"
   ]
  },
  {
   "cell_type": "code",
   "execution_count": null,
   "id": "45",
   "metadata": {
    "vscode": {
     "languageId": "r"
    }
   },
   "outputs": [],
   "source": [
    "data.harmonized <-combatPP(ta5,  mod=mod, five_batchvector) # need to add mod=mod"
   ]
  },
  {
   "cell_type": "code",
   "execution_count": null,
   "id": "46",
   "metadata": {
    "vscode": {
     "languageId": "r"
    }
   },
   "outputs": [],
   "source": [
    "#data.harmonized"
   ]
  },
  {
   "cell_type": "code",
   "execution_count": null,
   "id": "47",
   "metadata": {
    "vscode": {
     "languageId": "r"
    }
   },
   "outputs": [],
   "source": [
    "new_df5 <- data.harmonized$dat.combat"
   ]
  },
  {
   "cell_type": "code",
   "execution_count": null,
   "id": "48",
   "metadata": {
    "vscode": {
     "languageId": "r"
    }
   },
   "outputs": [],
   "source": [
    "head(five_fused_dat)"
   ]
  },
  {
   "cell_type": "code",
   "execution_count": null,
   "id": "49",
   "metadata": {},
   "outputs": [],
   "source": []
  },
  {
   "cell_type": "code",
   "execution_count": null,
   "id": "50",
   "metadata": {
    "vscode": {
     "languageId": "r"
    }
   },
   "outputs": [],
   "source": [
    "five_fused_dat_front <- five_fused_dat[c(1:6)]\n",
    "head(five_fused_dat_front,3) "
   ]
  },
  {
   "cell_type": "code",
   "execution_count": null,
   "id": "51",
   "metadata": {
    "vscode": {
     "languageId": "r"
    }
   },
   "outputs": [],
   "source": [
    "rollback5 <- t(new_df5)\n",
    "head(rollback5, 3)\n"
   ]
  },
  {
   "cell_type": "code",
   "execution_count": null,
   "id": "52",
   "metadata": {
    "vscode": {
     "languageId": "r"
    }
   },
   "outputs": [],
   "source": [
    "five_harmonized_set <- cbind(five_fused_dat_front, rollback5)"
   ]
  },
  {
   "cell_type": "code",
   "execution_count": null,
   "id": "53",
   "metadata": {
    "vscode": {
     "languageId": "r"
    }
   },
   "outputs": [],
   "source": [
    "head(five_harmonized_set)"
   ]
  },
  {
   "cell_type": "code",
   "execution_count": null,
   "id": "54",
   "metadata": {
    "vscode": {
     "languageId": "r"
    }
   },
   "outputs": [],
   "source": [
    "harmonized5_topmri <- five_harmonized_set[which(five_harmonized_set['Site'] == 0),] \n",
    "head(harmonized5_topmri,3)"
   ]
  },
  {
   "cell_type": "code",
   "execution_count": null,
   "id": "55",
   "metadata": {},
   "outputs": [],
   "source": [
    "harmonized5_helius <- five_harmonized_set[which(five_harmonized_set['Site'] == 1),] \n",
    "head(harmonized5_helius,3)"
   ]
  },
  {
   "cell_type": "code",
   "execution_count": null,
   "id": "56",
   "metadata": {},
   "outputs": [],
   "source": [
    "harmonized5_insight <- five_harmonized_set[which(five_harmonized_set['Site'] == 4),] \n",
    "head(harmonized5_insight,3)"
   ]
  },
  {
   "cell_type": "code",
   "execution_count": null,
   "id": "57",
   "metadata": {},
   "outputs": [],
   "source": [
    "harmonized5_edis <- five_harmonized_set[which(five_harmonized_set['Site'] == 2),] \n",
    "head(harmonized5_edis,3)"
   ]
  },
  {
   "cell_type": "code",
   "execution_count": null,
   "id": "58",
   "metadata": {},
   "outputs": [],
   "source": [
    "harmonized5_sabre <- five_harmonized_set[which(five_harmonized_set['Site'] == 3),] \n",
    "head(harmonized5_sabre,3)"
   ]
  },
  {
   "cell_type": "code",
   "execution_count": null,
   "id": "59",
   "metadata": {},
   "outputs": [],
   "source": [
    "# now save as csvs\n",
    "write.csv(harmonized5_topmri, \"harm_results/plus/plus_harmonized5_topmri.csv\")\n",
    "write.csv(harmonized5_helius, \"harm_results/plus/plus_harmonized5_helius.csv\")\n",
    "write.csv(harmonized5_sabre, \"harm_results/plus/plus_harmonized5_sabre.csv\")\n",
    "write.csv(harmonized5_insight, \"harm_results/plus/plus_harmonized5_insight.csv\")\n",
    "write.csv(harmonized5_edis, \"harm_results/plus/plus_harmonized5_edis.csv\")"
   ]
  },
  {
   "cell_type": "code",
   "execution_count": null,
   "id": "60",
   "metadata": {},
   "outputs": [],
   "source": []
  },
  {
   "cell_type": "code",
   "execution_count": null,
   "id": "61",
   "metadata": {},
   "outputs": [],
   "source": []
  }
 ],
 "metadata": {
  "kernelspec": {
   "display_name": "Python 3 (ipykernel)",
   "language": "python",
   "name": "python3"
  },
  "language_info": {
   "codemirror_mode": {
    "name": "ipython",
    "version": 3
   },
   "file_extension": ".py",
   "mimetype": "text/x-python",
   "name": "python",
   "nbconvert_exporter": "python",
   "pygments_lexer": "ipython3",
   "version": "3.11.6"
  }
 },
 "nbformat": 4,
 "nbformat_minor": 5
}
