{
 "cells": [
  {
   "cell_type": "markdown",
   "id": "0",
   "metadata": {},
   "source": [
    "# COVbat TOP and StrokeMRI  vs. HELIUS harmonized datasets"
   ]
  },
  {
   "cell_type": "markdown",
   "id": "1",
   "metadata": {},
   "source": [
    "Note this must be run in the `covbat` environment. Environment file inside vendor/covbat"
   ]
  },
  {
   "cell_type": "markdown",
   "id": "2",
   "metadata": {
    "tags": []
   },
   "source": [
    "## import libraries"
   ]
  },
  {
   "cell_type": "code",
   "execution_count": null,
   "id": "3",
   "metadata": {
    "tags": []
   },
   "outputs": [],
   "source": [
    "import os\n",
    "import sys\n",
    "\n",
    "import pandas as pd\n",
    "import numpy as np\n",
    "\n",
    "import patsy\n",
    "\n",
    "sys.path.insert(0, '../../') # path to functions\n",
    "\n",
    "import cvasl.harmony as har\n",
    "import cvasl.vendor.covbat.covbat as covbat"
   ]
  },
  {
   "cell_type": "markdown",
   "id": "4",
   "metadata": {},
   "source": [
    "impo##rt data"
   ]
  },
  {
   "cell_type": "code",
   "execution_count": null,
   "id": "5",
   "metadata": {
    "tags": []
   },
   "outputs": [],
   "source": [
    "# Datasets for this work\n",
    "MRI_path = '../our_datasets/StrokeMRI/'\n",
    "TOP_path = '../our_datasets/TOP/'\n",
    "\n",
    "HELIUS_path = '../our_datasets/HELIUS/'\n",
    "file_name = 'TrainingDataComplete.csv'\n",
    "\n",
    "TOP_file = os.path.join(TOP_path, file_name)\n",
    "MRI_file = os.path.join(MRI_path, file_name)\n",
    "HELIUS_file = os.path.join(HELIUS_path, file_name)\n",
    "\n",
    "TOP = pd.read_csv(TOP_file, index_col=0)\n",
    "MRI = pd.read_csv(MRI_file, index_col=0)\n",
    "HELIUS = pd.read_csv(HELIUS_file, index_col=0)"
   ]
  },
  {
   "cell_type": "code",
   "execution_count": null,
   "id": "6",
   "metadata": {},
   "outputs": [],
   "source": [
    "HELIUS.head(3)"
   ]
  },
  {
   "cell_type": "code",
   "execution_count": null,
   "id": "7",
   "metadata": {},
   "outputs": [],
   "source": [
    "# sex_mapping = {1:0,2:1}\n",
    "# HELIUS = HELIUS.assign(Sex = HELIUS.Sex.map(sex_mapping))\n",
    "# HELIUS.head(3)"
   ]
  },
  {
   "cell_type": "code",
   "execution_count": null,
   "id": "8",
   "metadata": {
    "tags": []
   },
   "outputs": [],
   "source": [
    "TOP = TOP.drop([ 'ID'], axis= 1)\n",
    "\n",
    "TOP.head(3)"
   ]
  },
  {
   "cell_type": "code",
   "execution_count": null,
   "id": "9",
   "metadata": {
    "tags": []
   },
   "outputs": [],
   "source": [
    "MRI = MRI.drop(['ID'],axis = 1)\n",
    "MRI.tail(5)"
   ]
  },
  {
   "cell_type": "code",
   "execution_count": null,
   "id": "10",
   "metadata": {
    "tags": []
   },
   "outputs": [],
   "source": [
    "HELIUS = HELIUS.drop(['ID'],axis = 1)\n",
    "HELIUS['Site'] = 3\n",
    "HELIUS.tail(5)"
   ]
  },
  {
   "cell_type": "code",
   "execution_count": null,
   "id": "11",
   "metadata": {
    "tags": []
   },
   "outputs": [],
   "source": [
    "TOPMRI = pd.concat([TOP, MRI])\n",
    "TOPMRI['Site'] = 2\n",
    "TOPMRI.head(3) "
   ]
  },
  {
   "cell_type": "code",
   "execution_count": null,
   "id": "12",
   "metadata": {
    "tags": []
   },
   "outputs": [],
   "source": [
    "TOPMRI.tail(3)"
   ]
  },
  {
   "cell_type": "code",
   "execution_count": null,
   "id": "13",
   "metadata": {
    "tags": []
   },
   "outputs": [],
   "source": [
    "TOPMRIHELIUS= pd.concat([TOPMRI, HELIUS])\n",
    "len(TOPMRIHELIUS)"
   ]
  },
  {
   "cell_type": "code",
   "execution_count": null,
   "id": "14",
   "metadata": {},
   "outputs": [],
   "source": []
  },
  {
   "cell_type": "code",
   "execution_count": null,
   "id": "15",
   "metadata": {
    "tags": []
   },
   "outputs": [],
   "source": [
    "phenoTOPMRIHELIUS = TOPMRIHELIUS[['participant_id','Age', 'Sex', 'Site']]\n",
    "phenoTOPMRIHELIUS = phenoTOPMRIHELIUS.set_index('participant_id')\n",
    "print(len(phenoTOPMRIHELIUS))\n",
    "phenoTOPMRIHELIUS.head(3)"
   ]
  },
  {
   "cell_type": "code",
   "execution_count": null,
   "id": "16",
   "metadata": {
    "tags": []
   },
   "outputs": [],
   "source": [
    "dat_TOPMRIHELIUS = TOPMRIHELIUS.set_index('participant_id')\n",
    "dat_TOPMRIHELIUS = dat_TOPMRIHELIUS.T "
   ]
  },
  {
   "cell_type": "code",
   "execution_count": null,
   "id": "17",
   "metadata": {
    "tags": []
   },
   "outputs": [],
   "source": [
    "dat_TOPMRIHELIUS.head(3)"
   ]
  },
  {
   "cell_type": "code",
   "execution_count": null,
   "id": "18",
   "metadata": {
    "tags": []
   },
   "outputs": [],
   "source": [
    "print(len(phenoTOPMRIHELIUS))\n",
    "phenoTOPMRIHELIUS.head(3)\n"
   ]
  },
  {
   "cell_type": "code",
   "execution_count": null,
   "id": "19",
   "metadata": {
    "tags": []
   },
   "outputs": [],
   "source": [
    "phenoTOPMRIHELIUS.isna().sum()"
   ]
  },
  {
   "cell_type": "code",
   "execution_count": null,
   "id": "20",
   "metadata": {
    "tags": []
   },
   "outputs": [],
   "source": [
    "modZ = patsy.dmatrix(\"~ Age + Sex\", phenoTOPMRIHELIUS, return_type=\"dataframe\")\n",
    "modZ.head(3)"
   ]
  },
  {
   "cell_type": "code",
   "execution_count": null,
   "id": "21",
   "metadata": {
    "tags": []
   },
   "outputs": [],
   "source": [
    "len(modZ)"
   ]
  },
  {
   "cell_type": "code",
   "execution_count": null,
   "id": "22",
   "metadata": {
    "tags": []
   },
   "outputs": [],
   "source": []
  },
  {
   "cell_type": "code",
   "execution_count": null,
   "id": "23",
   "metadata": {
    "tags": []
   },
   "outputs": [],
   "source": [
    "dat_TOPMRIHELIUS"
   ]
  },
  {
   "cell_type": "code",
   "execution_count": null,
   "id": "24",
   "metadata": {
    "tags": []
   },
   "outputs": [],
   "source": [
    "phenoTOPMRIHELIUS['Site']"
   ]
  },
  {
   "cell_type": "code",
   "execution_count": null,
   "id": "25",
   "metadata": {
    "tags": []
   },
   "outputs": [],
   "source": [
    "modZ"
   ]
  },
  {
   "cell_type": "code",
   "execution_count": null,
   "id": "26",
   "metadata": {
    "tags": []
   },
   "outputs": [],
   "source": [
    "covbatTOPMRIHELIUS = covbat.combat(dat_TOPMRIHELIUS.tail(17), phenoTOPMRIHELIUS['Site'],  model=modZ, numerical_covariates =\"Age\")"
   ]
  },
  {
   "cell_type": "code",
   "execution_count": null,
   "id": "27",
   "metadata": {
    "tags": []
   },
   "outputs": [],
   "source": [
    "dat_TOPMRIHELIUS.head(3)"
   ]
  },
  {
   "cell_type": "code",
   "execution_count": null,
   "id": "28",
   "metadata": {
    "tags": []
   },
   "outputs": [],
   "source": [
    "covbatTOPMRIHELIUS = covbatTOPMRIHELIUS[2:]\n",
    "covbatTOPMRIHELIUS.head(3)\n",
    "# covbatTOPMRIEDIS = covbatTOPMRIEDIS[2:]\n",
    "# covbatTOPMRIEDIS"
   ]
  },
  {
   "cell_type": "code",
   "execution_count": null,
   "id": "29",
   "metadata": {
    "tags": []
   },
   "outputs": [],
   "source": [
    "covbatTOPMRIHELIUS = pd.concat([dat_TOPMRIHELIUS.head(3), covbatTOPMRIHELIUS])\n",
    "covbatTOPMRIHELIUS = covbatTOPMRIHELIUS.T\n",
    "covbatTOPMRIHELIUS = covbatTOPMRIHELIUS.reset_index()"
   ]
  },
  {
   "cell_type": "code",
   "execution_count": null,
   "id": "30",
   "metadata": {
    "tags": []
   },
   "outputs": [],
   "source": [
    "covbatTOPMRIHELIUS"
   ]
  },
  {
   "cell_type": "code",
   "execution_count": null,
   "id": "31",
   "metadata": {
    "tags": []
   },
   "outputs": [],
   "source": [
    "TOPMRI_adjusted = covbatTOPMRIHELIUS[covbatTOPMRIHELIUS['Site'] == 2]\n",
    "HELIUS_adjusted   = covbatTOPMRIHELIUS[covbatTOPMRIHELIUS['Site'] == 3] "
   ]
  },
  {
   "cell_type": "code",
   "execution_count": null,
   "id": "32",
   "metadata": {
    "tags": []
   },
   "outputs": [],
   "source": [
    "TOPMRI_adjusted = TOPMRI_adjusted.drop('Site', axis=1)\n",
    "TOPMRI_adjusted.head(3)"
   ]
  },
  {
   "cell_type": "code",
   "execution_count": null,
   "id": "33",
   "metadata": {
    "tags": []
   },
   "outputs": [],
   "source": [
    "HELIUS_adjusted = HELIUS_adjusted.drop('Site', axis=1)\n",
    "HELIUS_adjusted.tail(3)"
   ]
  },
  {
   "cell_type": "code",
   "execution_count": null,
   "id": "34",
   "metadata": {
    "tags": []
   },
   "outputs": [],
   "source": [
    "TOPMRI_adjusted.to_csv('harm_results/covbat/topmri_covbat_a_helius.csv')\n",
    "HELIUS_adjusted.to_csv('harm_results/covbat/helius_covbat_a_topmri.csv')"
   ]
  },
  {
   "cell_type": "code",
   "execution_count": null,
   "id": "35",
   "metadata": {},
   "outputs": [],
   "source": []
  },
  {
   "cell_type": "code",
   "execution_count": null,
   "id": "36",
   "metadata": {},
   "outputs": [],
   "source": []
  }
 ],
 "metadata": {
  "kernelspec": {
   "display_name": "Python 3 (ipykernel)",
   "language": "python",
   "name": "python3"
  },
  "language_info": {
   "codemirror_mode": {
    "name": "ipython",
    "version": 3
   },
   "file_extension": ".py",
   "mimetype": "text/x-python",
   "name": "python",
   "nbconvert_exporter": "python",
   "pygments_lexer": "ipython3",
   "version": "3.11.7"
  }
 },
 "nbformat": 4,
 "nbformat_minor": 5
}
