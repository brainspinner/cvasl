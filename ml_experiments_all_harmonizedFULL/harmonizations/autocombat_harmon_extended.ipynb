{
 "cells": [
  {
   "cell_type": "markdown",
   "id": "0",
   "metadata": {},
   "source": [
    "# Autocombat TOP and StrokeMRI harmonized datasets"
   ]
  },
  {
   "cell_type": "markdown",
   "id": "1",
   "metadata": {},
   "source": [
    "Note this must be run in the `comscan6` environment"
   ]
  },
  {
   "cell_type": "markdown",
   "id": "2",
   "metadata": {
    "tags": []
   },
   "source": [
    "## import libraries"
   ]
  },
  {
   "cell_type": "code",
   "execution_count": null,
   "id": "3",
   "metadata": {
    "tags": []
   },
   "outputs": [],
   "source": [
    "import os\n",
    "import sys\n",
    "\n",
    "import pandas as pd\n",
    "import numpy as np\n",
    "\n",
    "sys.path.insert(0, '../../') # path to cvasl functions\n",
    "\n",
    "import cvasl.harmony as har\n",
    "import cvasl.seperated as sep\n",
    "import cvasl.vendor.comscan.neurocombat as autocombat"
   ]
  },
  {
   "cell_type": "markdown",
   "id": "4",
   "metadata": {},
   "source": [
    "## Let's see how we would apply this to our data\n",
    "We will have to flip it on it's side to make it work"
   ]
  },
  {
   "cell_type": "code",
   "execution_count": null,
   "id": "5",
   "metadata": {
    "tags": []
   },
   "outputs": [],
   "source": [
    "# Datasets for this work\n",
    "MRI = pd.read_csv('../new_data/TrainingDataComplete_StrokeMRI.csv')\n",
    "TOP = pd.read_csv('../new_data/TrainingDataComplete_TOP.csv')"
   ]
  },
  {
   "cell_type": "code",
   "execution_count": null,
   "id": "6",
   "metadata": {
    "tags": []
   },
   "outputs": [],
   "source": [
    "TOP = TOP.drop([ 'ID'], axis= 1)\n",
    "TOP['Site'] = 0\n",
    "TOP.head(3)"
   ]
  },
  {
   "cell_type": "code",
   "execution_count": null,
   "id": "7",
   "metadata": {
    "tags": []
   },
   "outputs": [],
   "source": [
    "MRI = MRI.drop(['ID'],axis = 1)\n",
    "MRI.tail(5)"
   ]
  },
  {
   "cell_type": "code",
   "execution_count": null,
   "id": "8",
   "metadata": {
    "tags": []
   },
   "outputs": [],
   "source": [
    "TOP.head(3)"
   ]
  },
  {
   "cell_type": "code",
   "execution_count": null,
   "id": "9781a83e-4e16-4ca5-9e09-87466d924038",
   "metadata": {},
   "outputs": [],
   "source": []
  },
  {
   "cell_type": "code",
   "execution_count": null,
   "id": "2e662c25-c739-4105-bcc0-09112c535e2e",
   "metadata": {
    "tags": []
   },
   "outputs": [],
   "source": [
    "datasets = [TOP, MRI]\n",
    "new_frames = sep.deal_with_readout_and_labelling(datasets, ['M0'])"
   ]
  },
  {
   "cell_type": "code",
   "execution_count": null,
   "id": "aa5c647c-9143-4651-ba68-42ac1f678712",
   "metadata": {
    "tags": []
   },
   "outputs": [],
   "source": [
    "# make sure things are inproper order\n",
    "for frame in new_frames:\n",
    "    print(len(frame))\n",
    "print(len(TOP))\n",
    "print(len(MRI))"
   ]
  },
  {
   "cell_type": "code",
   "execution_count": null,
   "id": "66d452de-0a17-4df4-a2fd-4e9b93926e51",
   "metadata": {
    "tags": []
   },
   "outputs": [],
   "source": [
    "#new_frames[0]\n",
    "TOP = new_frames[0]\n",
    "MRI = new_frames[1]\n"
   ]
  },
  {
   "cell_type": "code",
   "execution_count": null,
   "id": "5aa4b6bd-e30b-483d-b49b-ecb9d1db858a",
   "metadata": {
    "tags": []
   },
   "outputs": [],
   "source": [
    "new_frame_datasets=  [TOP, MRI, ]\n",
    "for everyone in new_frame_datasets:\n",
    "    everyone.columns =  everyone.columns.str.lower()\n",
    "TOP.head(3)"
   ]
  },
  {
   "cell_type": "code",
   "execution_count": null,
   "id": "5eabfff4-f11c-45c5-8beb-ca53fa394afd",
   "metadata": {
    "tags": []
   },
   "outputs": [],
   "source": [
    "MRI.columns = MRI.columns.str.lower()"
   ]
  },
  {
   "cell_type": "code",
   "execution_count": null,
   "id": "5cee2917-50e4-444d-bc1c-44483bc24092",
   "metadata": {
    "tags": []
   },
   "outputs": [],
   "source": [
    "TOP.columns = TOP.columns.str.lower()"
   ]
  },
  {
   "cell_type": "code",
   "execution_count": null,
   "id": "9",
   "metadata": {
    "tags": []
   },
   "outputs": [],
   "source": [
    "TOPMRI = pd.concat([TOP, MRI])\n",
    "TOPMRI.head(3) "
   ]
  },
  {
   "cell_type": "code",
   "execution_count": null,
   "id": "10",
   "metadata": {
    "tags": []
   },
   "outputs": [],
   "source": [
    "TOPMRI.columns = TOPMRI.columns.str.lower()"
   ]
  },
  {
   "cell_type": "code",
   "execution_count": null,
   "id": "11",
   "metadata": {
    "tags": []
   },
   "outputs": [],
   "source": [
    "TOPMRI['decade']=(TOPMRI['age']/10).round()\n",
    "#TOPMRI['decade']"
   ]
  },
  {
   "cell_type": "code",
   "execution_count": null,
   "id": "12",
   "metadata": {
    "tags": []
   },
   "outputs": [],
   "source": [
    "TOPMRI = TOPMRI.sort_values(by='age')\n",
    "TOPMRI.reset_index(inplace=True)\n",
    "TOPMRI['fine_grain'] = TOPMRI['age'].rolling(2).sum()/2\n",
    "#TOPMRI"
   ]
  },
  {
   "cell_type": "code",
   "execution_count": null,
   "id": "13",
   "metadata": {
    "tags": []
   },
   "outputs": [],
   "source": [
    "TOPMRI[2:].fine_grain.iloc[::2] = TOPMRI[:].fine_grain.iloc[1::2]\n",
    "#TOPMRI['fine_grain']"
   ]
  },
  {
   "cell_type": "code",
   "execution_count": null,
   "id": "14",
   "metadata": {
    "tags": []
   },
   "outputs": [],
   "source": [
    "TOPMRI['fine_grain'][0] = TOPMRI['fine_grain'][1]\n",
    "TOPMRI['fine_grain']"
   ]
  },
  {
   "cell_type": "code",
   "execution_count": null,
   "id": "15",
   "metadata": {
    "tags": []
   },
   "outputs": [],
   "source": [
    "TOPMRI['decade'].unique()"
   ]
  },
  {
   "cell_type": "code",
   "execution_count": null,
   "id": "16",
   "metadata": {
    "tags": []
   },
   "outputs": [],
   "source": [
    "TOPMRI.columns"
   ]
  },
  {
   "cell_type": "code",
   "execution_count": null,
   "id": "17",
   "metadata": {
    "tags": []
   },
   "outputs": [],
   "source": [
    "combat = autocombat.Combat(\n",
    "    features=[# 'gm_vol', 'wm_vol', 'csf_vol',\n",
    "       #'gm_icvratio', 'gmwm_icvratio', 'wmhvol_wmvol', 'wmh_count',\n",
    "        'aca_b_cov', 'mca_b_cov', 'pca_b_cov', 'totalgm_b_cov',\n",
    "        'aca_b_cbf', 'mca_b_cbf', 'pca_b_cbf', 'totalgm_b_cbf',],\n",
    "             #'ld', 'pld', 'labelling', 'readout',],\n",
    "    sites=[\"site\"], discrete_covariates=['sex'],continuous_covariates=['decade'],)\n",
    "\n",
    "fg_combat = autocombat.Combat(\n",
    "    features=[ #'gm_vol', 'wm_vol', 'csf_vol',\n",
    "       #'gm_icvratio', 'gmwm_icvratio', 'wmhvol_wmvol', 'wmh_count',\n",
    "       'aca_b_cov', 'mca_b_cov', 'pca_b_cov', 'totalgm_b_cov',\n",
    "       'aca_b_cbf', 'mca_b_cbf', 'pca_b_cbf', 'totalgm_b_cbf',],\n",
    "            # 'ld', 'pld', 'labelling', 'readout',],\n",
    "    sites=[ \"site\"], discrete_covariates=['sex'],continuous_covariates=['fine_grain'],)\n"
   ]
  },
  {
   "cell_type": "code",
   "execution_count": null,
   "id": "18",
   "metadata": {},
   "outputs": [],
   "source": [
    "print(combat.fit(TOPMRI))\n",
    "print(fg_combat.fit(TOPMRI))"
   ]
  },
  {
   "cell_type": "code",
   "execution_count": null,
   "id": "19",
   "metadata": {},
   "outputs": [],
   "source": [
    "print(combat.gamma_star_)\n",
    "print(fg_combat.gamma_star_)"
   ]
  },
  {
   "cell_type": "code",
   "execution_count": null,
   "id": "20",
   "metadata": {},
   "outputs": [],
   "source": [
    "transformed_TOPMRI= combat.transform(TOPMRI)\n",
    "transformed_TOPMRI.head(3)"
   ]
  },
  {
   "cell_type": "code",
   "execution_count": null,
   "id": "21",
   "metadata": {},
   "outputs": [],
   "source": [
    "fg_transformed_TOPMRI= fg_combat.transform(TOPMRI)\n",
    "fg_transformed_TOPMRI.head(3)"
   ]
  },
  {
   "cell_type": "code",
   "execution_count": null,
   "id": "22",
   "metadata": {
    "tags": []
   },
   "outputs": [],
   "source": [
    "TOPMRI.head(3)"
   ]
  },
  {
   "cell_type": "code",
   "execution_count": null,
   "id": "23",
   "metadata": {
    "tags": []
   },
   "outputs": [],
   "source": [
    "transformed_TOPMRI= combat.transform(TOPMRI)\n",
    "transformed_TOPMRI.head(3)"
   ]
  },
  {
   "cell_type": "code",
   "execution_count": null,
   "id": "24",
   "metadata": {
    "tags": []
   },
   "outputs": [],
   "source": [
    "fg_transformed_TOPMRI= fg_combat.transform(TOPMRI)\n",
    "fg_transformed_TOPMRI.head(3)"
   ]
  },
  {
   "cell_type": "code",
   "execution_count": null,
   "id": "25",
   "metadata": {
    "tags": []
   },
   "outputs": [],
   "source": [
    "transformed_TOPMRI.columns"
   ]
  },
  {
   "cell_type": "code",
   "execution_count": null,
   "id": "26",
   "metadata": {
    "tags": []
   },
   "outputs": [],
   "source": [
    "TOP_transformed = transformed_TOPMRI[ transformed_TOPMRI['site']==0]\n",
    "TOP_transformed = TOP_transformed.drop(['site', 'decade','fine_grain', 'index'], axis=1)\n",
    "TOP_transformed.head(3)"
   ]
  },
  {
   "cell_type": "code",
   "execution_count": null,
   "id": "27",
   "metadata": {
    "tags": []
   },
   "outputs": [],
   "source": [
    "fg_TOP_transformed = fg_transformed_TOPMRI[ fg_transformed_TOPMRI['site']==0]\n",
    "fg_TOP_transformed = fg_TOP_transformed.drop(['site', 'decade','fine_grain', 'index'], axis=1)\n",
    "fg_TOP_transformed.head(3)"
   ]
  },
  {
   "cell_type": "code",
   "execution_count": null,
   "id": "28",
   "metadata": {
    "tags": []
   },
   "outputs": [],
   "source": [
    "MRI_transformed = transformed_TOPMRI[ transformed_TOPMRI['site']==1]\n",
    "MRI_transformed = MRI_transformed.drop(['site', 'decade', 'index', 'fine_grain'], axis=1)\n",
    "MRI_transformed.head(3)"
   ]
  },
  {
   "cell_type": "code",
   "execution_count": null,
   "id": "29",
   "metadata": {
    "tags": []
   },
   "outputs": [],
   "source": [
    "fg_MRI_transformed = fg_transformed_TOPMRI[fg_transformed_TOPMRI['site']==1]\n",
    "fg_MRI_transformed = fg_MRI_transformed.drop(['site', 'decade', 'index', 'fine_grain'], axis=1)\n",
    "fg_MRI_transformed.head(3)"
   ]
  },
  {
   "cell_type": "code",
   "execution_count": null,
   "id": "30",
   "metadata": {
    "tags": []
   },
   "outputs": [],
   "source": [
    "TOP_transformed.to_csv('harm_results/autocombat/autocom_harm_top1.csv')\n",
    "MRI_transformed.to_csv('harm_results/autocombat/autocom_harm_mri1.csv')\n",
    "\n",
    "fg_TOP_transformed.to_csv('harm_results/autocombat/fg_autocom_harm_top1.csv')\n",
    "fg_MRI_transformed.to_csv('harm_results/autocombat/fg_autocom_harm_mri1.csv')"
   ]
  },
  {
   "cell_type": "markdown",
   "id": "31",
   "metadata": {},
   "source": [
    "# Data quality check"
   ]
  },
  {
   "cell_type": "code",
   "execution_count": null,
   "id": "32",
   "metadata": {
    "tags": []
   },
   "outputs": [],
   "source": [
    "#TOP"
   ]
  },
  {
   "cell_type": "code",
   "execution_count": null,
   "id": "33",
   "metadata": {
    "tags": []
   },
   "outputs": [],
   "source": [
    "#neuro_harm_top"
   ]
  },
  {
   "cell_type": "code",
   "execution_count": null,
   "id": "34",
   "metadata": {
    "tags": []
   },
   "outputs": [],
   "source": [
    "TOP_transformed.isna().sum().sum()"
   ]
  },
  {
   "cell_type": "code",
   "execution_count": null,
   "id": "35",
   "metadata": {
    "tags": []
   },
   "outputs": [],
   "source": [
    "MRI_transformed.isna().sum().sum()"
   ]
  },
  {
   "cell_type": "code",
   "execution_count": null,
   "id": "36",
   "metadata": {
    "tags": []
   },
   "outputs": [],
   "source": [
    "number_columns = ['sex', 'gm_vol', 'wm_vol', 'csf_vol',\n",
    "       'gm_icvratio', 'gmwm_icvratio', 'wmhvol_wmvol', 'wmh_count',\n",
    "       'aca_b_cov', 'mca_b_cov', 'pca_b_cov', 'totalgm_b_cov',\n",
    "       'aca_b_cbf', 'mca_b_cbf', 'pca_b_cbf', 'totalgm_b_cbf',]"
   ]
  },
  {
   "cell_type": "code",
   "execution_count": null,
   "id": "37",
   "metadata": {
    "tags": []
   },
   "outputs": [],
   "source": [
    "#neuro_harm_top.head(3)\n",
    "(TOP_transformed[number_columns] < 0).sum()"
   ]
  },
  {
   "cell_type": "code",
   "execution_count": null,
   "id": "38",
   "metadata": {
    "tags": []
   },
   "outputs": [],
   "source": [
    "(MRI_transformed[number_columns] < 0).sum()"
   ]
  },
  {
   "cell_type": "code",
   "execution_count": null,
   "id": "39",
   "metadata": {
    "tags": []
   },
   "outputs": [],
   "source": [
    "MRI_transformed"
   ]
  },
  {
   "cell_type": "code",
   "execution_count": null,
   "id": "42",
   "metadata": {},
   "outputs": [],
   "source": []
  }
 ],
 "metadata": {
  "kernelspec": {
   "display_name": "Python 3 (ipykernel)",
   "language": "python",
   "name": "python3"
  },
  "language_info": {
   "codemirror_mode": {
    "name": "ipython",
    "version": 3
   },
   "file_extension": ".py",
   "mimetype": "text/x-python",
   "name": "python",
   "nbconvert_exporter": "python",
   "pygments_lexer": "ipython3",
   "version": "3.7.12"
  }
 },
 "nbformat": 4,
 "nbformat_minor": 5
}
