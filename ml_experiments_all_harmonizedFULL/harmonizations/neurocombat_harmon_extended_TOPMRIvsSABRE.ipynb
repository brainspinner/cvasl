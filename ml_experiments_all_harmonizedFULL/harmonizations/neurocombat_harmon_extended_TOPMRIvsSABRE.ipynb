{
 "cells": [
  {
   "cell_type": "markdown",
   "id": "0",
   "metadata": {},
   "source": [
    "# Neurocombat TOPMRI and SABRE harmonized datasets"
   ]
  },
  {
   "cell_type": "markdown",
   "id": "1",
   "metadata": {},
   "source": [
    "Note this must be run in the `neuron` or `neuron_go` environment"
   ]
  },
  {
   "cell_type": "markdown",
   "id": "2",
   "metadata": {
    "tags": []
   },
   "source": [
    "## import libraries"
   ]
  },
  {
   "cell_type": "code",
   "execution_count": null,
   "id": "3",
   "metadata": {
    "tags": []
   },
   "outputs": [],
   "source": [
    "import os\n",
    "import sys\n",
    "import pandas as pd\n",
    "import numpy as np\n",
    "\n",
    "sys.path.insert(0, '../../')  # path to functions\n",
    "import cvasl.vendor.neurocombat.neurocombat as neurocombat\n",
    "import cvasl.harmony as har"
   ]
  },
  {
   "cell_type": "markdown",
   "id": "4",
   "metadata": {},
   "source": [
    "## Let's see how we would apply this to our data\n",
    "We will have to flip it on it's side to make it work"
   ]
  },
  {
   "cell_type": "code",
   "execution_count": null,
   "id": "6",
   "metadata": {
    "tags": []
   },
   "outputs": [],
   "source": [
    "# Datasets for this work\n",
    "\n",
    "SABRE = pd.read_csv('../new_data/TrainingDataComplete_SABRE.csv')\n",
    "MRI = pd.read_csv('../new_data/TrainingDataComplete_StrokeMRI.csv')\n",
    "TOP = pd.read_csv('../new_data/TrainingDataComplete_TOP.csv')"
   ]
  },
  {
   "cell_type": "code",
   "execution_count": null,
   "id": "8",
   "metadata": {
    "tags": []
   },
   "outputs": [],
   "source": [
    "TOP = TOP.drop(['Site', 'ID'], axis= 1)\n",
    "TOP.head(3)"
   ]
  },
  {
   "cell_type": "code",
   "execution_count": null,
   "id": "9",
   "metadata": {
    "tags": []
   },
   "outputs": [],
   "source": [
    "MRI = MRI.drop(['Site', 'ID'],axis = 1)\n",
    "MRI.tail(3)"
   ]
  },
  {
   "cell_type": "code",
   "execution_count": null,
   "id": "10",
   "metadata": {
    "tags": []
   },
   "outputs": [],
   "source": [
    "TOPMRI = pd.concat([MRI ,TOP])\n",
    "TOPMRI.head(3)"
   ]
  },
  {
   "cell_type": "code",
   "execution_count": null,
   "id": "11",
   "metadata": {},
   "outputs": [],
   "source": [
    "SABRE = SABRE.drop(['Site', 'ID'],axis = 1)\n",
    "SABRE.tail(3)"
   ]
  },
  {
   "cell_type": "code",
   "execution_count": null,
   "id": "12",
   "metadata": {
    "tags": []
   },
   "outputs": [],
   "source": [
    "TOPMRI.shape"
   ]
  },
  {
   "cell_type": "code",
   "execution_count": null,
   "id": "d3ee4ee0-ed3c-4b18-9b91-9858a907c382",
   "metadata": {},
   "outputs": [],
   "source": []
  },
  {
   "cell_type": "code",
   "execution_count": null,
   "id": "717f7a20-ca0d-4f69-ad08-b5e5917d1519",
   "metadata": {
    "tags": []
   },
   "outputs": [],
   "source": [
    "datasets1 = [TOPMRI,  SABRE, ]\n",
    "datasets = []\n",
    "for myset in datasets1:\n",
    "    myset = myset.drop(['LD', 'PLD', 'Labelling', 'Readout', 'M0'], axis=1)\n",
    "    datasets.append(myset)\n",
    "print(len(datasets1[0]))     \n",
    "print(len(datasets1[1]))     \n",
    "   \n",
    "TOPMRI = datasets[0]\n",
    "SABRE = datasets[1]\n",
    "print(len(TOPMRI))     \n",
    "print(len(SABRE))     "
   ]
  },
  {
   "cell_type": "code",
   "execution_count": null,
   "id": "f1516e35-191f-4e93-bad8-941332d4a7e8",
   "metadata": {
    "tags": []
   },
   "outputs": [],
   "source": [
    "TOPMRI.shape"
   ]
  },
  {
   "cell_type": "code",
   "execution_count": null,
   "id": "8f40099d-4727-4275-960d-6d5b40c79d33",
   "metadata": {
    "tags": []
   },
   "outputs": [],
   "source": [
    "TOPMRI.columns"
   ]
  },
  {
   "cell_type": "code",
   "execution_count": null,
   "id": "8a06f28c-a7ab-4c7e-94bb-fcfcb3149b29",
   "metadata": {},
   "outputs": [],
   "source": [
    "to_be_harmonized_or_covar = [\n",
    "    'Age', 'Sex','DeepWM_B_CoV', 'ACA_B_CoV', 'MCA_B_CoV', 'PCA_B_CoV', 'TotalGM_B_CoV',\n",
    "    'DeepWM_B_CBF', 'ACA_B_CBF', 'MCA_B_CBF', 'PCA_B_CBF', 'TotalGM_B_CBF',\n",
    "]\n",
    "not_harmonized= ['GM_vol', 'WM_vol', 'CSF_vol','GM_ICVRatio', 'GMWM_ICVRatio', 'WMHvol_WMvol', 'WMH_count',]\n",
    "TOPMRI_semi_features = TOPMRI.drop(to_be_harmonized_or_covar,axis=1)\n",
    "#HELIUS_semi_features = HELIUS.drop(to_be_harmonized_or_covar,axis=1)\n",
    "#HELIUS_semi_features = HELIUS.drop(to_be_harmonized_or_covar,axis=1) \n",
    "SABRE_semi_features = SABRE.drop(to_be_harmonized_or_covar,axis=1) \n",
    "#INSI_semi_features = INSI.drop(to_be_harmonized_or_covar,axis=1)\n",
    "\n",
    "TOPMRI = TOPMRI.drop(not_harmonized,axis=1)\n",
    "#HELIUS = HELIUS.drop(not_harmonized,axis=1)\n",
    "SABRE = SABRE.drop(not_harmonized,axis=1) \n"
   ]
  },
  {
   "cell_type": "code",
   "execution_count": null,
   "id": "da6f0e62-8364-45b3-871b-bb3ac448475f",
   "metadata": {
    "tags": []
   },
   "outputs": [],
   "source": [
    "TOPMRI_semi_features"
   ]
  },
  {
   "cell_type": "code",
   "execution_count": null,
   "id": "13",
   "metadata": {
    "tags": []
   },
   "outputs": [],
   "source": [
    "both_togetherF, ftF, btF, feature_dictF, len1, len2 = har.prep_for_neurocombat(TOPMRI, SABRE)"
   ]
  },
  {
   "cell_type": "code",
   "execution_count": null,
   "id": "14",
   "metadata": {
    "tags": []
   },
   "outputs": [],
   "source": [
    "both_togetherF"
   ]
  },
  {
   "cell_type": "code",
   "execution_count": null,
   "id": "18",
   "metadata": {
    "tags": []
   },
   "outputs": [],
   "source": [
    "ftF.to_csv('ftF_top_mri_sabre.csv')"
   ]
  },
  {
   "cell_type": "code",
   "execution_count": null,
   "id": "19",
   "metadata": {
    "tags": []
   },
   "outputs": [],
   "source": [
    "data = np.genfromtxt('ftF_top_mri_sabre.csv', delimiter=\",\", skip_header=1)\n",
    "data = data[:, 1:]\n",
    "data"
   ]
  },
  {
   "cell_type": "code",
   "execution_count": null,
   "id": "20",
   "metadata": {
    "tags": []
   },
   "outputs": [],
   "source": [
    "TOPMRI.head(3)"
   ]
  },
  {
   "cell_type": "code",
   "execution_count": null,
   "id": "21",
   "metadata": {
    "tags": []
   },
   "outputs": [],
   "source": [
    "both_togetherF.head(3)"
   ]
  },
  {
   "cell_type": "code",
   "execution_count": null,
   "id": "22",
   "metadata": {
    "tags": []
   },
   "outputs": [],
   "source": [
    "# Specifying the batch (scanner variable) as well as a sex covariate to preserve:\n",
    "first_columns_as_one = [1] * len1\n",
    "last_columns_as_two = [2] * len2\n",
    "covars = {'batch':first_columns_as_one + last_columns_as_two,\n",
    "          #'Site': both_togetherF.loc['Site',:].values.tolist(), \n",
    "          'Sex':both_togetherF.loc['Sex',:].values.tolist(),\n",
    "           'Age':both_togetherF.loc['Age',:].values.tolist(),} \n",
    "covars = pd.DataFrame(covars) "
   ]
  },
  {
   "cell_type": "code",
   "execution_count": null,
   "id": "23",
   "metadata": {
    "tags": []
   },
   "outputs": [],
   "source": [
    "# specifify sex as categorical\n",
    "categorical_cols = ['Sex']\n",
    "# To specify the name of the variable that encodes for the scanner/batch covariate:\n",
    "batch_col_mine = 'batch'\n",
    "our_continuous_col=['Age']\n",
    "#Harmonization step:\n",
    "data_combat = neurocombat.neuroCombat(dat=data,\n",
    "    covars=covars,\n",
    "    batch_col=batch_col_mine,\n",
    "    continuous_cols=our_continuous_col,\n",
    "    categorical_cols=categorical_cols)[\"data\"]\n",
    "\n",
    "# (n_dat, covars, batch_col, continuous_cols=continuous_cols,\n",
    "#                                     categorical_cols=categorical_cols)"
   ]
  },
  {
   "cell_type": "code",
   "execution_count": null,
   "id": "24",
   "metadata": {
    "tags": []
   },
   "outputs": [],
   "source": [
    "neurocombat = pd.DataFrame(data_combat)\n",
    "neurocombat"
   ]
  },
  {
   "cell_type": "code",
   "execution_count": null,
   "id": "25",
   "metadata": {
    "tags": []
   },
   "outputs": [],
   "source": [
    "topperF = har.make_topper(btF,'Age', 'Sex')"
   ]
  },
  {
   "cell_type": "code",
   "execution_count": null,
   "id": "26",
   "metadata": {
    "tags": []
   },
   "outputs": [],
   "source": [
    "bottom = neurocombat.reset_index(drop=False)\n",
    "bottom = bottom.rename(columns={\"index\": \"char\"})\n",
    "bottom.columns = topperF.columns"
   ]
  },
  {
   "cell_type": "code",
   "execution_count": null,
   "id": "27",
   "metadata": {
    "tags": []
   },
   "outputs": [],
   "source": [
    "back_together = pd.concat([topperF, bottom])\n",
    "back_together = back_together.T\n",
    "#back_together"
   ]
  },
  {
   "cell_type": "code",
   "execution_count": null,
   "id": "28",
   "metadata": {
    "tags": []
   },
   "outputs": [],
   "source": [
    "new_header = back_together.iloc[0] #grab the first row for the header\n",
    "back_together.columns = new_header #set the header row as the df header\n",
    "back_together = back_together[1:]\n",
    "#back_together"
   ]
  },
  {
   "cell_type": "code",
   "execution_count": null,
   "id": "29",
   "metadata": {
    "tags": []
   },
   "outputs": [],
   "source": [
    "back_together.head(3)"
   ]
  },
  {
   "cell_type": "code",
   "execution_count": null,
   "id": "30",
   "metadata": {
    "tags": []
   },
   "outputs": [],
   "source": [
    "neuro_harm_sabre =back_together.tail(len2)\n",
    "neuro_harm_topmri =back_together.head(len1)"
   ]
  },
  {
   "cell_type": "code",
   "execution_count": null,
   "id": "31",
   "metadata": {
    "tags": []
   },
   "outputs": [],
   "source": [
    "neuro_harm_topmri = neuro_harm_topmri.rename(feature_dictF, axis='columns')\n",
    "neuro_harm_sabre = neuro_harm_sabre.rename(feature_dictF, axis='columns')"
   ]
  },
  {
   "cell_type": "code",
   "execution_count": null,
   "id": "32",
   "metadata": {
    "tags": []
   },
   "outputs": [],
   "source": []
  },
  {
   "cell_type": "code",
   "execution_count": null,
   "id": "33",
   "metadata": {
    "tags": []
   },
   "outputs": [],
   "source": [
    "neuro_harm_sabre = neuro_harm_sabre.reset_index()\n",
    "neuro_harm_sabre = neuro_harm_sabre.rename(columns={\"index\": \"participant_id\"})\n",
    "neuro_harm_sabre"
   ]
  },
  {
   "cell_type": "code",
   "execution_count": null,
   "id": "35",
   "metadata": {
    "tags": []
   },
   "outputs": [],
   "source": [
    "neuro_harm_topmri = neuro_harm_topmri.reset_index()\n",
    "neuro_harm_topmri = neuro_harm_topmri.rename(columns={\"index\": \"participant_id\"})\n",
    "neuro_harm_topmri"
   ]
  },
  {
   "cell_type": "markdown",
   "id": "34",
   "metadata": {},
   "source": [
    "Save off to harmonized csv files"
   ]
  },
  {
   "cell_type": "code",
   "execution_count": null,
   "id": "36",
   "metadata": {
    "tags": []
   },
   "outputs": [],
   "source": [
    "neuro_harm_sabre.to_csv('harm_results/neuro_harm_sabre.csv')\n",
    "neuro_harm_topmri.to_csv('harm_results/neuro_harm_topmri_from_sabre.csv')"
   ]
  },
  {
   "cell_type": "code",
   "execution_count": null,
   "id": "37",
   "metadata": {
    "tags": []
   },
   "outputs": [],
   "source": [
    "#neuro_harm_sabre.columns"
   ]
  },
  {
   "cell_type": "code",
   "execution_count": null,
   "id": "38",
   "metadata": {
    "tags": []
   },
   "outputs": [],
   "source": [
    "number_columns = ['Age', 'Sex', 'GM_vol', 'WM_vol', 'CSF_vol',\n",
    "       'GM_ICVRatio', 'GMWM_ICVRatio', 'WMHvol_WMvol', 'WMH_count',\n",
    "       'ACA_B_CoV', 'MCA_B_CoV', 'PCA_B_CoV', 'TotalGM_B_CoV',\n",
    "       'ACA_B_CBF', 'MCA_B_CBF', 'PCA_B_CBF', 'TotalGM_B_CBF',]"
   ]
  },
  {
   "cell_type": "markdown",
   "id": "39",
   "metadata": {},
   "source": [
    "# Data quality check"
   ]
  },
  {
   "cell_type": "code",
   "execution_count": null,
   "id": "40",
   "metadata": {
    "tags": []
   },
   "outputs": [],
   "source": [
    "TOPMRI"
   ]
  },
  {
   "cell_type": "code",
   "execution_count": null,
   "id": "41",
   "metadata": {
    "tags": []
   },
   "outputs": [],
   "source": [
    "neuro_harm_topmri"
   ]
  },
  {
   "cell_type": "code",
   "execution_count": null,
   "id": "a07ce128-eb1d-4ad1-aa43-7fedfc3734d5",
   "metadata": {
    "tags": []
   },
   "outputs": [],
   "source": [
    "neuro_harm_sabre"
   ]
  },
  {
   "cell_type": "code",
   "execution_count": null,
   "id": "42",
   "metadata": {
    "tags": []
   },
   "outputs": [],
   "source": [
    "neuro_harm_sabre.isna().sum().sum()"
   ]
  },
  {
   "cell_type": "code",
   "execution_count": null,
   "id": "43",
   "metadata": {
    "tags": []
   },
   "outputs": [],
   "source": [
    "neuro_harm_topmri.isna().sum().sum()"
   ]
  },
  {
   "cell_type": "code",
   "execution_count": null,
   "id": "44",
   "metadata": {
    "tags": []
   },
   "outputs": [],
   "source": [
    "#neuro_harm_top.head(3)\n",
    "(neuro_harm_sabre[number_columns] < 0).sum()"
   ]
  },
  {
   "cell_type": "code",
   "execution_count": null,
   "id": "45",
   "metadata": {
    "tags": []
   },
   "outputs": [],
   "source": [
    "(neuro_harm_topmri[number_columns] < 0).sum()"
   ]
  },
  {
   "cell_type": "code",
   "execution_count": null,
   "id": "46",
   "metadata": {},
   "outputs": [],
   "source": []
  },
  {
   "cell_type": "code",
   "execution_count": null,
   "id": "47",
   "metadata": {},
   "outputs": [],
   "source": []
  },
  {
   "cell_type": "code",
   "execution_count": null,
   "id": "48",
   "metadata": {},
   "outputs": [],
   "source": []
  },
  {
   "cell_type": "code",
   "execution_count": null,
   "id": "49",
   "metadata": {},
   "outputs": [],
   "source": []
  },
  {
   "cell_type": "markdown",
   "id": "50",
   "metadata": {},
   "source": [
    "## So this new variable (WMHvol_WMvol ) is again problematic, BUT ALSO MORE \n",
    "\n",
    "specifically:\n",
    "\n",
    "DeepWM_B_CoV      \n",
    "ACA_B_CoV         \n",
    "MCA_B_CoV         \n",
    "PCA_B_CoV         \n",
    "TotalGM_B_CoV     \n",
    "DeepWM_B_CoV     \n",
    "DeepWM_B_CBF     "
   ]
  },
  {
   "cell_type": "markdown",
   "id": "51",
   "metadata": {
    "tags": []
   },
   "source": [
    " We will wait about logging it until we see other columns we may want to log across all datasets"
   ]
  }
 ],
 "metadata": {
  "kernelspec": {
   "display_name": "Python 3 (ipykernel)",
   "language": "python",
   "name": "python3"
  },
  "language_info": {
   "codemirror_mode": {
    "name": "ipython",
    "version": 3
   },
   "file_extension": ".py",
   "mimetype": "text/x-python",
   "name": "python",
   "nbconvert_exporter": "python",
   "pygments_lexer": "ipython3",
   "version": "3.7.12"
  }
 },
 "nbformat": 4,
 "nbformat_minor": 5
}
