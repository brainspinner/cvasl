{
 "cells": [
  {
   "cell_type": "markdown",
   "id": "0",
   "metadata": {},
   "source": [
    "# COVbat TOP and StrokeMRI  vs. SABRE harmonized datasets"
   ]
  },
  {
   "cell_type": "markdown",
   "id": "1",
   "metadata": {},
   "source": [
    "Note this must be run in the `covbat` environment. Environment file inside vendor/covbat"
   ]
  },
  {
   "cell_type": "markdown",
   "id": "2",
   "metadata": {
    "tags": []
   },
   "source": [
    "## import libraries"
   ]
  },
  {
   "cell_type": "code",
   "execution_count": null,
   "id": "3",
   "metadata": {
    "tags": []
   },
   "outputs": [],
   "source": [
    "import os\n",
    "import sys\n",
    "\n",
    "import pandas as pd\n",
    "import numpy as np\n",
    "\n",
    "import patsy\n",
    "\n",
    "sys.path.insert(0, '../../') # path to functions\n",
    "\n",
    "import cvasl.harmony as har\n",
    "import cvasl.vendor.covbat.covbat as covbat"
   ]
  },
  {
   "cell_type": "markdown",
   "id": "4",
   "metadata": {},
   "source": [
    "## import data"
   ]
  },
  {
   "cell_type": "code",
   "execution_count": null,
   "id": "5",
   "metadata": {
    "tags": []
   },
   "outputs": [],
   "source": [
    "# Datasets for this work\n",
    "SABRE = pd.read_csv('../new_data/TrainingDataComplete_SABRE.csv')\n",
    "\n",
    "MRI = pd.read_csv('../new_data/TrainingDataComplete_StrokeMRI.csv')\n",
    "TOP = pd.read_csv('../new_data/TrainingDataComplete_TOP.csv')\n"
   ]
  },
  {
   "cell_type": "code",
   "execution_count": null,
   "id": "6",
   "metadata": {},
   "outputs": [],
   "source": [
    "SABRE.head(3)"
   ]
  },
  {
   "cell_type": "code",
   "execution_count": null,
   "id": "8",
   "metadata": {
    "tags": []
   },
   "outputs": [],
   "source": [
    "TOP = TOP.drop([ 'ID'], axis= 1)\n",
    "\n",
    "TOP.head(3)"
   ]
  },
  {
   "cell_type": "code",
   "execution_count": null,
   "id": "9",
   "metadata": {
    "tags": []
   },
   "outputs": [],
   "source": [
    "MRI = MRI.drop(['ID'],axis = 1)\n",
    "MRI.tail(5)"
   ]
  },
  {
   "cell_type": "code",
   "execution_count": null,
   "id": "10",
   "metadata": {
    "tags": []
   },
   "outputs": [],
   "source": [
    "SABRE = SABRE.drop(['ID'],axis = 1)\n",
    "SABRE['Site'] = 3\n",
    "SABRE.tail(5)"
   ]
  },
  {
   "cell_type": "code",
   "execution_count": null,
   "id": "11",
   "metadata": {
    "tags": []
   },
   "outputs": [],
   "source": [
    "TOPMRI = pd.concat([TOP, MRI])\n",
    "TOPMRI['Site'] = 2\n",
    "TOPMRI.head(3) "
   ]
  },
  {
   "cell_type": "code",
   "execution_count": null,
   "id": "12",
   "metadata": {
    "tags": []
   },
   "outputs": [],
   "source": [
    "TOPMRI.tail(3)"
   ]
  },
  {
   "cell_type": "code",
   "execution_count": null,
   "id": "dd5dccd2-5a1e-4629-bde4-a446ba68b21f",
   "metadata": {},
   "outputs": [],
   "source": []
  },
  {
   "cell_type": "code",
   "execution_count": null,
   "id": "53c33e9f-d999-477d-9f14-914900f9e121",
   "metadata": {
    "tags": []
   },
   "outputs": [],
   "source": [
    "datasets1 = [TOPMRI, SABRE,]"
   ]
  },
  {
   "cell_type": "code",
   "execution_count": null,
   "id": "fd26f57e-f7b3-471d-b3ac-238bca212a45",
   "metadata": {
    "tags": []
   },
   "outputs": [],
   "source": [
    "datasets = []\n",
    "for myset in datasets1:\n",
    "    myset = myset.drop(['LD', 'PLD', 'Labelling', 'Readout', 'M0'], axis=1)\n",
    "    datasets.append(myset)#print(myset.columns)"
   ]
  },
  {
   "cell_type": "code",
   "execution_count": null,
   "id": "13",
   "metadata": {
    "tags": []
   },
   "outputs": [],
   "source": [
    "TOPMRISABRE = pd.concat(datasets)"
   ]
  },
  {
   "cell_type": "code",
   "execution_count": null,
   "id": "14",
   "metadata": {},
   "outputs": [],
   "source": []
  },
  {
   "cell_type": "code",
   "execution_count": null,
   "id": "15",
   "metadata": {},
   "outputs": [],
   "source": []
  },
  {
   "cell_type": "code",
   "execution_count": null,
   "id": "16",
   "metadata": {
    "tags": []
   },
   "outputs": [],
   "source": [
    "phenoTOPMRISABRE = TOPMRISABRE[['participant_id','Age', 'Sex', 'Site']]\n",
    "phenoTOPMRISABRE = phenoTOPMRISABRE.set_index('participant_id')\n",
    "phenoTOPMRISABRE.head(3)"
   ]
  },
  {
   "cell_type": "code",
   "execution_count": null,
   "id": "17",
   "metadata": {
    "tags": []
   },
   "outputs": [],
   "source": [
    "dat_TOPMRISABRE = TOPMRISABRE.set_index('participant_id')\n",
    "dat_TOPMRISABRE = dat_TOPMRISABRE.T "
   ]
  },
  {
   "cell_type": "code",
   "execution_count": null,
   "id": "18",
   "metadata": {
    "tags": []
   },
   "outputs": [],
   "source": [
    "dat_TOPMRISABRE.head(3)"
   ]
  },
  {
   "cell_type": "code",
   "execution_count": null,
   "id": "19",
   "metadata": {
    "tags": []
   },
   "outputs": [],
   "source": [
    "phenoTOPMRISABRE.head(3)"
   ]
  },
  {
   "cell_type": "code",
   "execution_count": null,
   "id": "20",
   "metadata": {
    "tags": []
   },
   "outputs": [],
   "source": [
    "modZ = patsy.dmatrix(\"~ Age + Sex\", phenoTOPMRISABRE, return_type=\"dataframe\")\n",
    "modZ.head(3)"
   ]
  },
  {
   "cell_type": "code",
   "execution_count": null,
   "id": "21",
   "metadata": {
    "tags": []
   },
   "outputs": [],
   "source": [
    "covbatTOPMRISABRE = covbat.combat(dat_TOPMRISABRE.tail(17), phenoTOPMRISABRE['Site'],  model=modZ, numerical_covariates =\"Age\")"
   ]
  },
  {
   "cell_type": "code",
   "execution_count": null,
   "id": "22",
   "metadata": {},
   "outputs": [],
   "source": [
    "covbatTOPMRISABRE = covbatTOPMRISABRE[2:]"
   ]
  },
  {
   "cell_type": "code",
   "execution_count": null,
   "id": "23",
   "metadata": {
    "tags": []
   },
   "outputs": [],
   "source": [
    "dat_TOPMRISABRE.head(3)"
   ]
  },
  {
   "cell_type": "code",
   "execution_count": null,
   "id": "24",
   "metadata": {
    "tags": []
   },
   "outputs": [],
   "source": [
    "covbatTOPMRISABRE = pd.concat([dat_TOPMRISABRE.head(3), covbatTOPMRISABRE])\n",
    "covbatTOPMRISABRE = covbatTOPMRISABRE.T\n",
    "covbatTOPMRISABRE = covbatTOPMRISABRE.reset_index()"
   ]
  },
  {
   "cell_type": "code",
   "execution_count": null,
   "id": "25",
   "metadata": {
    "tags": []
   },
   "outputs": [],
   "source": [
    "covbatTOPMRISABRE"
   ]
  },
  {
   "cell_type": "code",
   "execution_count": null,
   "id": "26",
   "metadata": {
    "tags": []
   },
   "outputs": [],
   "source": [
    "TOPMRI_adjusted = covbatTOPMRISABRE[covbatTOPMRISABRE['Site'] == 2]\n",
    "SABRE_adjusted   = covbatTOPMRISABRE[covbatTOPMRISABRE['Site'] == 3] "
   ]
  },
  {
   "cell_type": "code",
   "execution_count": null,
   "id": "27",
   "metadata": {
    "tags": []
   },
   "outputs": [],
   "source": [
    "TOPMRI_adjusted = TOPMRI_adjusted.drop('Site', axis=1)\n",
    "TOPMRI_adjusted.head(3)"
   ]
  },
  {
   "cell_type": "code",
   "execution_count": null,
   "id": "28",
   "metadata": {
    "tags": []
   },
   "outputs": [],
   "source": [
    "SABRE_adjusted = SABRE_adjusted.drop('Site', axis=1)\n",
    "SABRE_adjusted.tail(3)"
   ]
  },
  {
   "cell_type": "code",
   "execution_count": null,
   "id": "29",
   "metadata": {
    "tags": []
   },
   "outputs": [],
   "source": [
    "TOPMRI_adjusted.to_csv('harm_results/covbat/topmri_covbat_a_SABRE.csv')\n",
    "SABRE_adjusted.to_csv('harm_results/covbat/sabre_covbat_a_topmri.csv')"
   ]
  },
  {
   "cell_type": "code",
   "execution_count": null,
   "id": "30",
   "metadata": {},
   "outputs": [],
   "source": []
  }
 ],
 "metadata": {
  "kernelspec": {
   "display_name": "Python 3 (ipykernel)",
   "language": "python",
   "name": "python3"
  },
  "language_info": {
   "codemirror_mode": {
    "name": "ipython",
    "version": 3
   },
   "file_extension": ".py",
   "mimetype": "text/x-python",
   "name": "python",
   "nbconvert_exporter": "python",
   "pygments_lexer": "ipython3",
   "version": "3.11.7"
  }
 },
 "nbformat": 4,
 "nbformat_minor": 5
}
