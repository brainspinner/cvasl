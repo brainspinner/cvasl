{
 "cells": [
  {
   "cell_type": "markdown",
   "id": "0",
   "metadata": {},
   "source": [
    "# COVbat 5 way TOP and StrokeMRI  vs. EDIS , Insight, Helius and SABRE harmonized datasets"
   ]
  },
  {
   "cell_type": "markdown",
   "id": "1",
   "metadata": {},
   "source": [
    "Note this must be run in the `covbat` environment. Environment file inside vendor/covbat"
   ]
  },
  {
   "cell_type": "markdown",
   "id": "2",
   "metadata": {
    "tags": []
   },
   "source": [
    "## import libraries"
   ]
  },
  {
   "cell_type": "code",
   "execution_count": null,
   "id": "3",
   "metadata": {
    "tags": []
   },
   "outputs": [],
   "source": [
    "import os\n",
    "import sys\n",
    "\n",
    "import pandas as pd\n",
    "import numpy as np\n",
    "\n",
    "import patsy\n",
    "\n",
    "sys.path.insert(0, '../../') # path to functions\n",
    "\n",
    "import cvasl.harmony as har\n",
    "import cvasl.vendor.covbat.covbat as covbat"
   ]
  },
  {
   "cell_type": "markdown",
   "id": "4",
   "metadata": {},
   "source": [
    "import data"
   ]
  },
  {
   "cell_type": "code",
   "execution_count": null,
   "id": "5",
   "metadata": {
    "tags": []
   },
   "outputs": [],
   "source": [
    "EDIS = pd.read_csv('../new_data/TrainingDataComplete_EDIS.csv')\n",
    "HELIUS = pd.read_csv('../new_data/TrainingDataComplete_HELIUS.csv')\n",
    "SABRE = pd.read_csv('../new_data/TrainingDataComplete_SABRE.csv')\n",
    "MRI = pd.read_csv('../new_data/TrainingDataComplete_StrokeMRI.csv')\n",
    "TOP = pd.read_csv('../new_data/TrainingDataComplete_TOP.csv')\n",
    "Insight46 = pd.read_csv('../new_data/TrainingDataComplete_Insight46.csv')"
   ]
  },
  {
   "cell_type": "code",
   "execution_count": null,
   "id": "6",
   "metadata": {},
   "outputs": [],
   "source": [
    "#HELIUS"
   ]
  },
  {
   "cell_type": "markdown",
   "id": "7",
   "metadata": {},
   "source": [
    "## We found there is one participant from two seperate sights (HELIUS and SABRE) named the same. There fore we will show and switch this"
   ]
  },
  {
   "cell_type": "code",
   "execution_count": null,
   "id": "8",
   "metadata": {},
   "outputs": [],
   "source": [
    "HELIUS[HELIUS['participant_id']=='sub-153852_1']"
   ]
  },
  {
   "cell_type": "code",
   "execution_count": null,
   "id": "9",
   "metadata": {},
   "outputs": [],
   "source": [
    "SABRE[SABRE['participant_id']=='sub-153852_1']"
   ]
  },
  {
   "cell_type": "code",
   "execution_count": null,
   "id": "10",
   "metadata": {},
   "outputs": [],
   "source": [
    "HELIUS.loc[HELIUS['participant_id']=='sub-153852_1', 'participant_id'] = 'sub-153852_1H'"
   ]
  },
  {
   "cell_type": "code",
   "execution_count": null,
   "id": "11",
   "metadata": {},
   "outputs": [],
   "source": [
    "EDIS.head(3)"
   ]
  },
  {
   "cell_type": "code",
   "execution_count": null,
   "id": "15",
   "metadata": {
    "tags": []
   },
   "outputs": [],
   "source": [
    "TOP = TOP.drop([ 'ID'], axis= 1)\n",
    "\n",
    "TOP.head(3)"
   ]
  },
  {
   "cell_type": "code",
   "execution_count": null,
   "id": "16",
   "metadata": {
    "tags": []
   },
   "outputs": [],
   "source": [
    "MRI = MRI.drop(['ID'],axis = 1)\n",
    "MRI.tail(5)"
   ]
  },
  {
   "cell_type": "code",
   "execution_count": null,
   "id": "17",
   "metadata": {
    "tags": []
   },
   "outputs": [],
   "source": [
    "EDIS = EDIS.drop(['ID'],axis = 1)\n",
    "EDIS['Site'] = 1\n",
    "EDIS.tail(5)"
   ]
  },
  {
   "cell_type": "code",
   "execution_count": null,
   "id": "18",
   "metadata": {
    "tags": []
   },
   "outputs": [],
   "source": [
    "HELIUS = HELIUS.drop(['ID'],axis = 1)\n",
    "HELIUS['Site'] = 2\n",
    "HELIUS.tail(5)"
   ]
  },
  {
   "cell_type": "code",
   "execution_count": null,
   "id": "19",
   "metadata": {
    "tags": []
   },
   "outputs": [],
   "source": [
    "SABRE = SABRE.drop(['ID'],axis = 1)\n",
    "SABRE['Site'] = 3\n",
    "SABRE.tail(3)"
   ]
  },
  {
   "cell_type": "code",
   "execution_count": null,
   "id": "20",
   "metadata": {
    "tags": []
   },
   "outputs": [],
   "source": [
    "Insight46 = Insight46.drop(['ID'],axis = 1)\n",
    "Insight46['Site'] = 4\n",
    "Insight46.tail(5)"
   ]
  },
  {
   "cell_type": "code",
   "execution_count": null,
   "id": "21",
   "metadata": {
    "tags": []
   },
   "outputs": [],
   "source": [
    "TOPMRI = pd.concat([TOP, MRI])\n",
    "TOPMRI['Site'] = 0\n",
    "TOPMRI.head(3) "
   ]
  },
  {
   "cell_type": "code",
   "execution_count": null,
   "id": "22",
   "metadata": {
    "tags": []
   },
   "outputs": [],
   "source": [
    "TOPMRI.tail(3)"
   ]
  },
  {
   "cell_type": "code",
   "execution_count": null,
   "id": "4ea2b0ee-c1ff-45e4-a0dd-f3eb26a0cfdc",
   "metadata": {
    "tags": []
   },
   "outputs": [],
   "source": [
    "to_be_harmonized_or_covar = [\n",
    "    'Age', 'Sex', 'ACA_B_CoV', 'MCA_B_CoV', 'PCA_B_CoV','DeepWM_B_CoV',\n",
    "     'ACA_B_CBF', 'MCA_B_CBF', 'PCA_B_CBF', 'LD', 'PLD','DeepWM_B_CBF',\n",
    "       'Labelling', 'Readout', 'M0','TotalGM_B_CoV',\n",
    "       'TotalGM_B_CBF',\n",
    "]\n",
    "not_harmonized= ['GM_vol', 'WM_vol', 'CSF_vol','GM_ICVRatio', 'GMWM_ICVRatio', 'WMHvol_WMvol', 'WMH_count',\n",
    "                'LD', 'PLD', 'Labelling',\n",
    "       'Readout', 'M0','DeepWM_B_CoV','DeepWM_B_CBF',]\n",
    "TOPMRI_semi_features = TOPMRI.drop(to_be_harmonized_or_covar,axis=1)\n",
    "SABRE_semi_features = SABRE.drop(to_be_harmonized_or_covar,axis=1) \n",
    "EDIS_semi_features = EDIS.drop(to_be_harmonized_or_covar,axis=1)\n",
    "HELIUS_semi_features = HELIUS.drop(to_be_harmonized_or_covar,axis=1) \n",
    "Insight46_semi_features = Insight46.drop(to_be_harmonized_or_covar,axis=1) \n",
    "\n",
    "TOPMRI = TOPMRI.drop(not_harmonized,axis=1)\n",
    "SABRE = SABRE.drop(not_harmonized,axis=1) \n",
    "EDIS = EDIS.drop(not_harmonized,axis=1) \n",
    "HELIUS = HELIUS.drop(not_harmonized,axis=1) \n",
    "Insight46 = Insight46.drop(not_harmonized,axis=1) "
   ]
  },
  {
   "cell_type": "code",
   "execution_count": null,
   "id": "23",
   "metadata": {
    "tags": []
   },
   "outputs": [],
   "source": [
    "datasets = [TOPMRI, EDIS, SABRE, HELIUS, Insight46]"
   ]
  },
  {
   "cell_type": "code",
   "execution_count": null,
   "id": "24",
   "metadata": {
    "tags": []
   },
   "outputs": [],
   "source": [
    "ALLFIVE = pd.concat(datasets)"
   ]
  },
  {
   "cell_type": "code",
   "execution_count": null,
   "id": "25",
   "metadata": {},
   "outputs": [],
   "source": [
    "ALLFIVE"
   ]
  },
  {
   "cell_type": "code",
   "execution_count": null,
   "id": "26",
   "metadata": {},
   "outputs": [],
   "source": []
  },
  {
   "cell_type": "code",
   "execution_count": null,
   "id": "27",
   "metadata": {
    "tags": []
   },
   "outputs": [],
   "source": [
    "phenoALLFIVE = ALLFIVE[['participant_id','Age', 'Sex', 'Site']]\n",
    "phenoALLFIVE = phenoALLFIVE.set_index('participant_id')\n",
    "print(len(phenoALLFIVE))\n",
    "phenoALLFIVE.head(3)"
   ]
  },
  {
   "cell_type": "code",
   "execution_count": null,
   "id": "28",
   "metadata": {
    "tags": []
   },
   "outputs": [],
   "source": [
    "dat_ALLFIVE = ALLFIVE.set_index('participant_id')\n",
    "print(len(dat_ALLFIVE))\n",
    "dat_ALLFIVE = dat_ALLFIVE.T "
   ]
  },
  {
   "cell_type": "code",
   "execution_count": null,
   "id": "29",
   "metadata": {
    "tags": []
   },
   "outputs": [],
   "source": [
    "dat_ALLFIVE.head(3)"
   ]
  },
  {
   "cell_type": "code",
   "execution_count": null,
   "id": "30",
   "metadata": {
    "tags": []
   },
   "outputs": [],
   "source": [
    "print(len(phenoALLFIVE))\n",
    "phenoALLFIVE.head(3)"
   ]
  },
  {
   "cell_type": "code",
   "execution_count": null,
   "id": "31",
   "metadata": {
    "tags": []
   },
   "outputs": [],
   "source": [
    "phenoALLFIVE.isna().sum()"
   ]
  },
  {
   "cell_type": "code",
   "execution_count": null,
   "id": "32",
   "metadata": {
    "tags": []
   },
   "outputs": [],
   "source": [
    "modZ = patsy.dmatrix(\"~ Age + Sex\", phenoALLFIVE, return_type=\"dataframe\")\n",
    "print(len(modZ))\n",
    "modZ.head(3)\n"
   ]
  },
  {
   "cell_type": "code",
   "execution_count": null,
   "id": "33",
   "metadata": {
    "tags": []
   },
   "outputs": [],
   "source": [
    "dat_ALLFIVE.head(2)\n"
   ]
  },
  {
   "cell_type": "code",
   "execution_count": null,
   "id": "34",
   "metadata": {
    "tags": []
   },
   "outputs": [],
   "source": [
    "#dat_ALLFIVE.tail(17)"
   ]
  },
  {
   "cell_type": "code",
   "execution_count": null,
   "id": "35",
   "metadata": {
    "tags": []
   },
   "outputs": [],
   "source": [
    "phenoALLFIVE['Site']"
   ]
  },
  {
   "cell_type": "code",
   "execution_count": null,
   "id": "36",
   "metadata": {
    "tags": []
   },
   "outputs": [],
   "source": [
    "modZ.head(3)"
   ]
  },
  {
   "cell_type": "code",
   "execution_count": null,
   "id": "37",
   "metadata": {
    "tags": []
   },
   "outputs": [],
   "source": [
    "#modZ.isna().sum()\n",
    "dat_ALLFIVE.tail(10)"
   ]
  },
  {
   "cell_type": "code",
   "execution_count": null,
   "id": "38",
   "metadata": {
    "tags": []
   },
   "outputs": [],
   "source": [
    "modZ.shape"
   ]
  },
  {
   "cell_type": "code",
   "execution_count": null,
   "id": "39",
   "metadata": {
    "tags": []
   },
   "outputs": [],
   "source": [
    "covbatALLFIVE = covbat.combat(dat_ALLFIVE.tail(10), phenoALLFIVE['Site'],  model=modZ, numerical_covariates =\"Age\")"
   ]
  },
  {
   "cell_type": "code",
   "execution_count": null,
   "id": "40",
   "metadata": {
    "tags": []
   },
   "outputs": [],
   "source": [
    "dat_ALLFIVE.head(3)"
   ]
  },
  {
   "cell_type": "code",
   "execution_count": null,
   "id": "41",
   "metadata": {
    "tags": []
   },
   "outputs": [],
   "source": [
    "covbatALLFIVE = covbatALLFIVE[2:]\n",
    "covbatALLFIVE.head(3)"
   ]
  },
  {
   "cell_type": "code",
   "execution_count": null,
   "id": "42",
   "metadata": {},
   "outputs": [],
   "source": []
  },
  {
   "cell_type": "code",
   "execution_count": null,
   "id": "43",
   "metadata": {
    "tags": []
   },
   "outputs": [],
   "source": [
    "covbatALLFIVE = pd.concat([dat_ALLFIVE.head(3), covbatALLFIVE])\n",
    "covbatALLFIVE = covbatALLFIVE.T\n",
    "covbatALLFIVE = covbatALLFIVE.reset_index()"
   ]
  },
  {
   "cell_type": "code",
   "execution_count": null,
   "id": "44",
   "metadata": {
    "tags": []
   },
   "outputs": [],
   "source": [
    "covbatALLFIVE"
   ]
  },
  {
   "cell_type": "code",
   "execution_count": null,
   "id": "45",
   "metadata": {
    "tags": []
   },
   "outputs": [],
   "source": [
    "TOPMRI_adjusted = covbatALLFIVE[covbatALLFIVE['Site'] == 0]\n",
    "EDIS_adjusted   = covbatALLFIVE[covbatALLFIVE['Site'] == 1] \n",
    "HELIUS_adjusted = covbatALLFIVE[covbatALLFIVE['Site'] == 2] \n",
    "SABRE_adjusted  = covbatALLFIVE[covbatALLFIVE['Site'] == 3] \n",
    "Insight_adjusted= covbatALLFIVE[covbatALLFIVE['Site'] == 4] "
   ]
  },
  {
   "cell_type": "code",
   "execution_count": null,
   "id": "46",
   "metadata": {
    "tags": []
   },
   "outputs": [],
   "source": [
    "# sites = [TOPMRI_adjusted, \n",
    "#          EDIS_adjusted,\n",
    "#          HELIUS_adjusted, \n",
    "#          SABRE_adjusted,\n",
    "#          Insight_adjusted]\n",
    "# for site in sites:\n",
    "#     #print(site)\n",
    "#     site = site.drop('Site', axis=1)\n",
    "#     print(site)\n",
    "\n",
    "    "
   ]
  },
  {
   "cell_type": "code",
   "execution_count": null,
   "id": "47",
   "metadata": {},
   "outputs": [],
   "source": [
    "TOPMRI_adjusted.head(3)"
   ]
  },
  {
   "cell_type": "code",
   "execution_count": null,
   "id": "48",
   "metadata": {
    "tags": []
   },
   "outputs": [],
   "source": [
    "TOPMRI_adjusted = TOPMRI_adjusted.drop('Site', axis=1)\n",
    "TOPMRI_adjusted.head(3)"
   ]
  },
  {
   "cell_type": "code",
   "execution_count": null,
   "id": "49",
   "metadata": {
    "tags": []
   },
   "outputs": [],
   "source": [
    "EDIS_adjusted = EDIS_adjusted.drop('Site', axis=1)\n",
    "EDIS_adjusted.tail(3)"
   ]
  },
  {
   "cell_type": "code",
   "execution_count": null,
   "id": "50",
   "metadata": {},
   "outputs": [],
   "source": [
    "SABRE_adjusted = SABRE_adjusted.drop('Site', axis=1)\n",
    "SABRE_adjusted.tail(3)"
   ]
  },
  {
   "cell_type": "code",
   "execution_count": null,
   "id": "51",
   "metadata": {},
   "outputs": [],
   "source": [
    "HELIUS_adjusted = HELIUS_adjusted.drop('Site', axis=1)\n",
    "HELIUS_adjusted.tail(3)"
   ]
  },
  {
   "cell_type": "code",
   "execution_count": null,
   "id": "52",
   "metadata": {},
   "outputs": [],
   "source": [
    "Insight_adjusted = Insight_adjusted.drop('Site', axis=1)\n",
    "Insight_adjusted.tail(3)"
   ]
  },
  {
   "cell_type": "code",
   "execution_count": null,
   "id": "a3aa16d5-5804-4b9c-a4c3-d259216cca92",
   "metadata": {
    "tags": []
   },
   "outputs": [],
   "source": [
    "TOPMRI_adjusted = TOPMRI_adjusted.merge(TOPMRI_semi_features,on='participant_id')\n",
    "EDIS_adjusted = EDIS_adjusted.merge(EDIS_semi_features,on='participant_id')\n",
    "SABRE_adjusted = SABRE_adjusted.merge(SABRE_semi_features,on='participant_id')\n",
    "Insight_adjusted = Insight_adjusted.merge(Insight46_semi_features,on='participant_id')\n",
    "HELIUS_adjusted = HELIUS_adjusted.merge(HELIUS_semi_features,on='participant_id')"
   ]
  },
  {
   "cell_type": "code",
   "execution_count": null,
   "id": "e106f237-f3e9-48ea-80f3-fda319a80d84",
   "metadata": {
    "tags": []
   },
   "outputs": [],
   "source": [
    "TOPMRI_adjusted = TOPMRI_adjusted.drop('Site', axis=1)\n",
    "EDIS_adjusted = EDIS_adjusted.drop('Site', axis=1)\n",
    "SABRE_adjusted = SABRE_adjusted.drop('Site', axis=1)\n",
    "Insight_adjusted = Insight_adjusted.drop('Site', axis=1)\n",
    "HELIUS_adjusted = HELIUS_adjusted.drop('Site', axis=1)"
   ]
  },
  {
   "cell_type": "code",
   "execution_count": null,
   "id": "53",
   "metadata": {
    "tags": []
   },
   "outputs": [],
   "source": [
    "TOPMRI_adjusted.to_csv('harm_results/covbat/topmri_covbat_5way.csv')\n",
    "EDIS_adjusted.to_csv('harm_results/covbat/edis_covbat_5way.csv')\n",
    "SABRE_adjusted.to_csv('harm_results/covbat/sabre_covbat_5way.csv')\n",
    "Insight_adjusted.to_csv('harm_results/covbat/insight_covbat_5way.csv')\n",
    "HELIUS_adjusted.to_csv('harm_results/covbat/helius_covbat_5way.csv')\n"
   ]
  },
  {
   "cell_type": "code",
   "execution_count": null,
   "id": "54",
   "metadata": {},
   "outputs": [],
   "source": [
    "#HELIUS_adjusted.columns"
   ]
  },
  {
   "cell_type": "code",
   "execution_count": null,
   "id": "7b4c9867-6805-4ae6-8124-88564fa572a5",
   "metadata": {},
   "outputs": [],
   "source": []
  }
 ],
 "metadata": {
  "kernelspec": {
   "display_name": "Python 3 (ipykernel)",
   "language": "python",
   "name": "python3"
  },
  "language_info": {
   "codemirror_mode": {
    "name": "ipython",
    "version": 3
   },
   "file_extension": ".py",
   "mimetype": "text/x-python",
   "name": "python",
   "nbconvert_exporter": "python",
   "pygments_lexer": "ipython3",
   "version": "3.11.7"
  }
 },
 "nbformat": 4,
 "nbformat_minor": 5
}
