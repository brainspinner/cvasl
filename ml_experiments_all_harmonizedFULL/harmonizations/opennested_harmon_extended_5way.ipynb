{
 "cells": [
  {
   "cell_type": "markdown",
   "id": "0",
   "metadata": {},
   "source": [
    "# Open nested combat: TOP and StrokeMRI combined (topmri) and all other datasets (5 way) open nested-harmonized datasets"
   ]
  },
  {
   "cell_type": "markdown",
   "id": "1",
   "metadata": {},
   "source": [
    "Note this must be run in the `opnc` environment"
   ]
  },
  {
   "cell_type": "markdown",
   "id": "2",
   "metadata": {},
   "source": [
    "## import libraries"
   ]
  },
  {
   "cell_type": "code",
   "execution_count": null,
   "id": "3",
   "metadata": {
    "tags": []
   },
   "outputs": [],
   "source": [
    "import os\n",
    "import sys\n",
    "#from itertools import permutations\n",
    "\n",
    "import pandas as pd\n",
    "import numpy as np\n",
    "import matplotlib.pyplot as plt\n",
    "import seaborn as sns\n",
    "import ipywidgets as widgets\n",
    "\n",
    "\n",
    "from sklearn.preprocessing import LabelEncoder\n",
    "\n",
    "\n",
    "sys.path.insert(0, '../../') # path to cvasl functions\n",
    "import cvasl.seperated as sep\n",
    "import cvasl.harmony as har\n",
    "import cvasl.vendor.open_nested_combat.nest as nest"
   ]
  },
  {
   "cell_type": "markdown",
   "id": "4",
   "metadata": {},
   "source": [
    "## Read in our data"
   ]
  },
  {
   "cell_type": "code",
   "execution_count": null,
   "id": "5",
   "metadata": {},
   "outputs": [],
   "source": [
    "# Datasets for this work\n",
    "EDIS = pd.read_csv('../new_data/TrainingDataComplete_EDIS.csv')\n",
    "HELIUS = pd.read_csv('../new_data/TrainingDataComplete_HELIUS.csv')\n",
    "SABRE = pd.read_csv('../new_data/TrainingDataComplete_SABRE.csv')\n",
    "MRI = pd.read_csv('../new_data/TrainingDataComplete_StrokeMRI.csv')\n",
    "TOP = pd.read_csv('../new_data/TrainingDataComplete_TOP.csv')\n",
    "INSI = pd.read_csv('../new_data/TrainingDataComplete_Insight46.csv')"
   ]
  },
  {
   "cell_type": "code",
   "execution_count": null,
   "id": "9",
   "metadata": {
    "tags": []
   },
   "outputs": [],
   "source": [
    "TOP.head(3)"
   ]
  },
  {
   "cell_type": "code",
   "execution_count": null,
   "id": "10",
   "metadata": {
    "tags": []
   },
   "outputs": [],
   "source": [
    "MRI.tail(3)"
   ]
  },
  {
   "cell_type": "code",
   "execution_count": null,
   "id": "11",
   "metadata": {
    "tags": []
   },
   "outputs": [],
   "source": [
    "topmri = pd.concat([MRI ,TOP])\n",
    "topmri.head(3)"
   ]
  },
  {
   "cell_type": "code",
   "execution_count": null,
   "id": "12",
   "metadata": {},
   "outputs": [],
   "source": [
    "SABRE.tail(3)"
   ]
  },
  {
   "cell_type": "code",
   "execution_count": null,
   "id": "13",
   "metadata": {
    "tags": []
   },
   "outputs": [],
   "source": [
    "topmri.shape"
   ]
  },
  {
   "cell_type": "code",
   "execution_count": null,
   "id": "14",
   "metadata": {
    "tags": []
   },
   "outputs": [],
   "source": [
    "topmri.columns = topmri.columns.str.lower()\n",
    "topmri = topmri.drop(['site', 'id'], axis= 1)\n",
    "topmri.head(3)"
   ]
  },
  {
   "cell_type": "code",
   "execution_count": null,
   "id": "15",
   "metadata": {
    "tags": []
   },
   "outputs": [],
   "source": [
    "# look for sub-153852_1\n",
    "\n",
    "SABRE.columns = SABRE.columns.str.lower()\n",
    "SABRE = SABRE.drop(['site', 'id'], axis= 1)\n",
    "SABRE.tail(5)"
   ]
  },
  {
   "cell_type": "code",
   "execution_count": null,
   "id": "16",
   "metadata": {},
   "outputs": [],
   "source": [
    "SABRE[SABRE['participant_id']=='sub-153852_1']"
   ]
  },
  {
   "cell_type": "code",
   "execution_count": null,
   "id": "17",
   "metadata": {},
   "outputs": [],
   "source": [
    "#edis, insight, helis,\n",
    "EDIS.columns = EDIS.columns.str.lower()\n",
    "EDIS = EDIS.drop(['site', 'id'], axis= 1)\n",
    "EDIS.tail(3)"
   ]
  },
  {
   "cell_type": "code",
   "execution_count": null,
   "id": "18",
   "metadata": {},
   "outputs": [],
   "source": [
    "INSI.columns = INSI.columns.str.lower()\n",
    "INSI = INSI.drop(['site', 'id'], axis= 1)\n",
    "INSI.tail(3)"
   ]
  },
  {
   "cell_type": "code",
   "execution_count": null,
   "id": "19",
   "metadata": {},
   "outputs": [],
   "source": [
    "# look for sub-153852_1\n",
    "HELIUS.columns = HELIUS.columns.str.lower()\n",
    "HELIUS = HELIUS.drop(['site', 'id'], axis= 1)\n",
    "HELIUS.tail(3)"
   ]
  },
  {
   "cell_type": "code",
   "execution_count": null,
   "id": "20",
   "metadata": {},
   "outputs": [],
   "source": [
    "HELIUS[HELIUS['participant_id']=='sub-153852_1']"
   ]
  },
  {
   "cell_type": "markdown",
   "id": "21",
   "metadata": {},
   "source": [
    "as sabre participant_id'sub-153852_1' and helius of the same ID are different ages by far, we can assume they are different patients. Now let's just rename one"
   ]
  },
  {
   "cell_type": "code",
   "execution_count": null,
   "id": "22",
   "metadata": {},
   "outputs": [],
   "source": [
    "HELIUS.loc[HELIUS['participant_id']=='sub-153852_1']"
   ]
  },
  {
   "cell_type": "code",
   "execution_count": null,
   "id": "23",
   "metadata": {},
   "outputs": [],
   "source": [
    "HELIUS.loc[HELIUS['participant_id']=='sub-153852_1', 'participant_id'] = 'sub-153852_1H'"
   ]
  },
  {
   "cell_type": "code",
   "execution_count": null,
   "id": "24",
   "metadata": {},
   "outputs": [],
   "source": [
    "HELIUS[HELIUS['participant_id']=='sub-153852_1H']"
   ]
  },
  {
   "cell_type": "code",
   "execution_count": null,
   "id": "25",
   "metadata": {
    "tags": []
   },
   "outputs": [],
   "source": [
    "topmri_batch_testing_df = topmri[['participant_id','age', 'sex']]\n",
    "topmri_batch_testing_df['site'] = 0\n",
    "column_to_move = topmri_batch_testing_df.pop(\"site\")\n",
    "topmri_batch_testing_df.insert(1, \"site\", column_to_move)\n",
    "print(topmri_batch_testing_df.shape)\n",
    "print(topmri_batch_testing_df.isna().sum())\n",
    "topmri_batch_testing_df.head(3)"
   ]
  },
  {
   "cell_type": "code",
   "execution_count": null,
   "id": "26",
   "metadata": {
    "tags": []
   },
   "outputs": [],
   "source": [
    "sabre_batch_testing_df = SABRE[['participant_id','age', 'sex']]\n",
    "sabre_batch_testing_df['site'] = 1\n",
    "column_to_move = sabre_batch_testing_df.pop(\"site\")\n",
    "sabre_batch_testing_df.insert(1, \"site\", column_to_move)\n",
    "print(sabre_batch_testing_df.shape)\n",
    "print(sabre_batch_testing_df.isna().sum())\n",
    "sabre_batch_testing_df.head(3)"
   ]
  },
  {
   "cell_type": "code",
   "execution_count": null,
   "id": "27",
   "metadata": {},
   "outputs": [],
   "source": [
    "edis_batch_testing_df = EDIS[['participant_id','age', 'sex']]\n",
    "edis_batch_testing_df['site'] = 2\n",
    "column_to_move = edis_batch_testing_df.pop(\"site\")\n",
    "edis_batch_testing_df.insert(1, \"site\", column_to_move)\n",
    "print(edis_batch_testing_df.shape)\n",
    "print(edis_batch_testing_df.isna().sum())\n",
    "edis_batch_testing_df.head(3)"
   ]
  },
  {
   "cell_type": "code",
   "execution_count": null,
   "id": "28",
   "metadata": {},
   "outputs": [],
   "source": [
    "helius_batch_testing_df = HELIUS[['participant_id','age', 'sex']]\n",
    "helius_batch_testing_df['site'] = 3\n",
    "column_to_move = helius_batch_testing_df.pop(\"site\")\n",
    "helius_batch_testing_df.insert(1, \"site\", column_to_move)\n",
    "print(helius_batch_testing_df.shape)\n",
    "print(helius_batch_testing_df.isna().sum())\n",
    "helius_batch_testing_df.head(3)"
   ]
  },
  {
   "cell_type": "code",
   "execution_count": null,
   "id": "29",
   "metadata": {},
   "outputs": [],
   "source": [
    "insight_batch_testing_df = INSI[['participant_id','age', 'sex']]\n",
    "insight_batch_testing_df['site'] = 4\n",
    "column_to_move = insight_batch_testing_df.pop(\"site\")\n",
    "insight_batch_testing_df.insert(1, \"site\", column_to_move)\n",
    "print(insight_batch_testing_df.shape)\n",
    "print(insight_batch_testing_df.isna().sum())\n",
    "insight_batch_testing_df.head(3)"
   ]
  },
  {
   "cell_type": "code",
   "execution_count": null,
   "id": "30",
   "metadata": {
    "tags": []
   },
   "outputs": [],
   "source": [
    "batch_testing_df = pd.concat([topmri_batch_testing_df, sabre_batch_testing_df,edis_batch_testing_df, helius_batch_testing_df , insight_batch_testing_df], ignore_index=True)\n",
    "#batch_testing_df = sep.recode_sex_to_numeric(batch_testing_df)\n",
    "print(batch_testing_df.shape)\n",
    "print(batch_testing_df.shape)\n",
    "print(batch_testing_df.isna().sum())\n",
    "batch_testing_df.tail(5)"
   ]
  },
  {
   "cell_type": "code",
   "execution_count": null,
   "id": "31",
   "metadata": {
    "tags": []
   },
   "outputs": [],
   "source": [
    "# Loading in batch effects\n",
    "batch_testing_list = ['site']\n",
    "# Loading in clinical covariates\n",
    "categorical_testing_cols = ['sex']\n",
    "continuous_testing_cols = ['age']"
   ]
  },
  {
   "cell_type": "code",
   "execution_count": null,
   "id": "7355f7c7-46e9-4748-b59b-bc28b6acbd00",
   "metadata": {
    "tags": []
   },
   "outputs": [],
   "source": [
    "TOPMRI = topmri"
   ]
  },
  {
   "cell_type": "code",
   "execution_count": null,
   "id": "7b6bf031-7b82-4209-b439-faffe34c9216",
   "metadata": {
    "tags": []
   },
   "outputs": [],
   "source": [
    "# datasets1 = [TOPMRI, HELIUS, EDIS, SABRE, INSI]\n",
    "# datasets = []\n",
    "# for myset in datasets1:\n",
    "#     #myset = myset.drop(['LD', 'PLD', 'Labelling', 'Readout', 'M0'], axis=1)\n",
    "#     datasets.append(myset)\n",
    "# print(len(datasets1[0]))     \n",
    "# print(len(datasets1[1]))     \n",
    "# print(len(datasets1[2]))     \n",
    "# print(len(datasets1[3]))     \n",
    "# print(len(datasets1[4]))     \n",
    "# TOPMRI = datasets[0]\n",
    "# HELIUS = datasets[1] \n",
    "# EDIS   = datasets[2]\n",
    "# SABRE  = datasets[3]\n",
    "# INSI   = datasets[4]    \n",
    "# print(len(TOPMRI))     \n",
    "# print(len(HELIUS))     \n",
    "# print(len(EDIS))     \n",
    "# print(len(SABRE))     \n",
    "# print(len(INSI))    "
   ]
  },
  {
   "cell_type": "code",
   "execution_count": null,
   "id": "4fc5cf4d-8080-4921-b6d8-51303ea58dc8",
   "metadata": {
    "tags": []
   },
   "outputs": [],
   "source": [
    "TOPMRI.shape"
   ]
  },
  {
   "cell_type": "code",
   "execution_count": null,
   "id": "2d134216-263d-4a1f-a22a-c0ad0ca51731",
   "metadata": {
    "tags": []
   },
   "outputs": [],
   "source": [
    "TOPMRI.columns"
   ]
  },
  {
   "cell_type": "code",
   "execution_count": null,
   "id": "6029caa6-759f-4444-a766-2108fb72478a",
   "metadata": {},
   "outputs": [],
   "source": [
    "TOPMRI_all = TOPMRI\n",
    "HELIUS_all = HELIUS\n",
    "EDIS_all = EDIS \n",
    "SABRE_all = SABRE \n",
    "INSI_all = INSI \n",
    "to_be_harmonized_or_covar = [\n",
    "    'age', 'sex','deepWM_B_CoV', 'ACA_B_CoV', 'MCA_B_CoV', 'PCA_B_CoV', 'TotalGM_B_CoV',\n",
    "    'DeepWM_B_CBF', 'ACA_B_CBF', 'MCA_B_CBF', 'PCA_B_CBF', 'TotalGM_B_CBF',\n",
    "]\n",
    "to_be_harmonized_or_covar  = [x.lower() for x in to_be_harmonized_or_covar ]\n",
    "not_harmonized= ['GM_vol', 'WM_vol', 'CSF_vol','GM_ICVRatio', 'GMWM_ICVRatio', 'WMHvol_WMvol', 'WMH_count',\n",
    "                 'ld', 'pld', 'labelling', 'readout','M0']\n",
    "not_harmonized  = [x.lower() for x in not_harmonized ]\n",
    "TOPMRI_semi_features = TOPMRI.drop(to_be_harmonized_or_covar,axis=1)\n",
    "HELIUS_semi_features = HELIUS.drop(to_be_harmonized_or_covar,axis=1)\n",
    "EDIS_semi_features = EDIS.drop(to_be_harmonized_or_covar,axis=1) \n",
    "SABRE_semi_features = SABRE.drop(to_be_harmonized_or_covar,axis=1) \n",
    "INSI_semi_features = INSI.drop(to_be_harmonized_or_covar,axis=1)\n",
    "\n",
    "TOPMRI = TOPMRI.drop(not_harmonized,axis=1)\n",
    "HELIUS = HELIUS.drop(not_harmonized,axis=1)\n",
    "EDIS = EDIS.drop(not_harmonized,axis=1) \n",
    "SABRE= SABRE.drop(not_harmonized,axis=1) \n",
    "INSI = INSI.drop(not_harmonized,axis=1)"
   ]
  },
  {
   "cell_type": "code",
   "execution_count": null,
   "id": "fc1da589-d075-41be-af65-8746fa31e9ac",
   "metadata": {
    "tags": []
   },
   "outputs": [],
   "source": [
    "HELIUS_semi_features"
   ]
  },
  {
   "cell_type": "code",
   "execution_count": null,
   "id": "9b3988a5-39ec-409f-a7aa-dbf9c6b2bdae",
   "metadata": {
    "tags": []
   },
   "outputs": [],
   "source": [
    "TOPMRI_semi_features, EDIS_semi_features,SABRE_semi_features,INSI_semi_features = sep.deal_with_readout_and_labelling(\n",
    "    [TOPMRI_semi_features, EDIS_semi_features,SABRE_semi_features,INSI_semi_features],\n",
    "    ['m0'])"
   ]
  },
  {
   "cell_type": "code",
   "execution_count": null,
   "id": "44dd7f36-32b6-4f78-8e62-7f1dc7280588",
   "metadata": {
    "tags": []
   },
   "outputs": [],
   "source": [
    "TOPMRI_semi_features"
   ]
  },
  {
   "cell_type": "code",
   "execution_count": null,
   "id": "d7627d19-f395-4132-9ef3-b0bd0504f125",
   "metadata": {
    "tags": []
   },
   "outputs": [],
   "source": [
    "# TOPMRI_semi_features =TOPMRI_semi_features \n",
    "# HELIUS_semi_features =HELIUS_semi_features \n",
    "# EDIS_semi_features = EDIS_semi_features \n",
    "# SABRE_semi_features = SABRE_semi_features\n",
    "# INSI_semi_features = INSI_semi_features "
   ]
  },
  {
   "cell_type": "code",
   "execution_count": null,
   "id": "32",
   "metadata": {},
   "outputs": [],
   "source": [
    "#SABRE"
   ]
  },
  {
   "cell_type": "code",
   "execution_count": null,
   "id": "33",
   "metadata": {
    "tags": []
   },
   "outputs": [],
   "source": [
    "# ASL\n",
    "data_testing_df = pd.concat([TOPMRI,SABRE, HELIUS,EDIS,INSI])\n",
    "#data_testing_df = # ASL\n",
    "data_testing_df = data_testing_df.drop(columns=['age','sex']) \n",
    "print(data_testing_df.shape)\n",
    "data_testing_df.tail(3)"
   ]
  },
  {
   "cell_type": "code",
   "execution_count": null,
   "id": "34",
   "metadata": {},
   "outputs": [],
   "source": [
    "batch_testing_df"
   ]
  },
  {
   "cell_type": "code",
   "execution_count": null,
   "id": "35",
   "metadata": {
    "tags": []
   },
   "outputs": [],
   "source": [
    "data_testing_df = data_testing_df.reset_index(drop=True)\n",
    "\n",
    "print(data_testing_df.shape)\n",
    "#data_testing_df.isna().sum()\n",
    "\n",
    "data_testing_df = data_testing_df.dropna()\n",
    "print('data', data_testing_df.shape)\n",
    "print('batch', batch_testing_df.shape)\n",
    "data_testing_df = data_testing_df.merge(batch_testing_df['participant_id'], \n",
    "                                        left_on='participant_id', right_on='participant_id')\n",
    "\n",
    "print(data_testing_df.shape)\n",
    "\n",
    "dat_testing = data_testing_df.iloc[:, 1:]\n",
    "\n",
    "dat_testing = dat_testing.T.apply(pd.to_numeric)\n",
    "caseno_testing = data_testing_df['participant_id']\n",
    "covars_testing = batch_testing_df.drop('participant_id', axis=1)\n"
   ]
  },
  {
   "cell_type": "code",
   "execution_count": null,
   "id": "ecb93092-770a-4a85-aeb7-1c8c857bb733",
   "metadata": {},
   "outputs": [],
   "source": [
    "#batch_testing_df"
   ]
  },
  {
   "cell_type": "code",
   "execution_count": null,
   "id": "64ea5a01-0bb4-4f12-abf2-7befd14e0a69",
   "metadata": {},
   "outputs": [],
   "source": [
    "covars_testing "
   ]
  },
  {
   "cell_type": "code",
   "execution_count": null,
   "id": "36",
   "metadata": {},
   "outputs": [],
   "source": [
    "data_testing_df= data_testing_df.drop_duplicates()"
   ]
  },
  {
   "cell_type": "code",
   "execution_count": null,
   "id": "37",
   "metadata": {},
   "outputs": [],
   "source": [
    "# for participant in data_testing_df.participant_id:\n",
    "#     print(participant)\n",
    "data_testing_df"
   ]
  },
  {
   "cell_type": "code",
   "execution_count": null,
   "id": "38",
   "metadata": {
    "tags": []
   },
   "outputs": [],
   "source": [
    "data_testing_df.columns"
   ]
  },
  {
   "cell_type": "code",
   "execution_count": null,
   "id": "39",
   "metadata": {
    "tags": []
   },
   "outputs": [],
   "source": [
    "# Merging batch effects, clinical covariates\n",
    "covars_testing_string = pd.DataFrame()\n",
    "covars_testing_string[categorical_testing_cols] = covars_testing[categorical_testing_cols].copy()\n",
    "covars_testing_quant = covars_testing[continuous_testing_cols]\n",
    "#covars_testing_quant"
   ]
  },
  {
   "cell_type": "code",
   "execution_count": null,
   "id": "40",
   "metadata": {
    "tags": []
   },
   "outputs": [],
   "source": [
    "# Encoding categorical variables\n",
    "covars_testing_cat = pd.DataFrame()\n",
    "for col_testing in covars_testing_string:\n",
    "    stringcol_testing = covars_testing_string[col_testing]\n",
    "    le = LabelEncoder()\n",
    "    le.fit(list(stringcol_testing))\n",
    "    covars_testing_cat[col_testing] = le.transform(stringcol_testing)\n",
    "#covars_testing_cat"
   ]
  },
  {
   "cell_type": "code",
   "execution_count": null,
   "id": "41",
   "metadata": {
    "tags": []
   },
   "outputs": [],
   "source": [
    "covars_testing_final = pd.concat([covars_testing_cat, covars_testing_quant], axis=1)\n",
    "#covars_testing_final"
   ]
  },
  {
   "cell_type": "code",
   "execution_count": null,
   "id": "42",
   "metadata": {
    "tags": []
   },
   "outputs": [],
   "source": [
    "# # # FOR GMM COMBAT VARIANTS:\n",
    "# # # Adding GMM Split to batch effects\n",
    "filepath2 = 'Testing/OPPNComBat/ResultTesting'\n",
    "if not os.path.exists(filepath2):\n",
    "    os.makedirs(filepath2)\n",
    "gmm_testing_df = nest.GMMSplit(dat_testing, caseno_testing, filepath2)"
   ]
  },
  {
   "cell_type": "code",
   "execution_count": null,
   "id": "43",
   "metadata": {
    "tags": []
   },
   "outputs": [],
   "source": [
    "print(batch_testing_df.shape)\n",
    "batch_testing_df.head(2)\n"
   ]
  },
  {
   "cell_type": "code",
   "execution_count": null,
   "id": "44",
   "metadata": {
    "tags": []
   },
   "outputs": [],
   "source": [
    "print(gmm_testing_df.shape)\n",
    "gmm_testing_df.head(2)"
   ]
  },
  {
   "cell_type": "code",
   "execution_count": null,
   "id": "45",
   "metadata": {
    "tags": []
   },
   "outputs": [],
   "source": [
    "gmm_testing_df_merge = batch_testing_df.merge(gmm_testing_df, right_on='Patient', left_on='participant_id')\n",
    "gmm_testing_df_merge['GMM'] = gmm_testing_df_merge['Grouping'] \n",
    "gmm_testing_df_merge"
   ]
  },
  {
   "cell_type": "code",
   "execution_count": null,
   "id": "46",
   "metadata": {},
   "outputs": [],
   "source": [
    "gmm_testing_df_merge[gmm_testing_df_merge.participant_id.duplicated()]"
   ]
  },
  {
   "cell_type": "code",
   "execution_count": null,
   "id": "47",
   "metadata": {},
   "outputs": [],
   "source": [
    "gmm_testing_df_merge.duplicated().sum()"
   ]
  },
  {
   "cell_type": "code",
   "execution_count": null,
   "id": "48",
   "metadata": {
    "tags": []
   },
   "outputs": [],
   "source": [
    "covars_testing_final = gmm_testing_df_merge.drop(['participant_id','Patient','Grouping'],axis=1)\n",
    "categorical_testing_cols = categorical_testing_cols + ['GMM']"
   ]
  },
  {
   "cell_type": "code",
   "execution_count": null,
   "id": "49",
   "metadata": {},
   "outputs": [],
   "source": [
    "dat_testing.shape"
   ]
  },
  {
   "cell_type": "code",
   "execution_count": null,
   "id": "50",
   "metadata": {},
   "outputs": [],
   "source": [
    "covars_testing_final.shape"
   ]
  },
  {
   "cell_type": "code",
   "execution_count": null,
   "id": "51",
   "metadata": {
    "tags": []
   },
   "outputs": [],
   "source": [
    "output_testing_df = nest.OPNestedComBat(dat_testing,\n",
    "                                   covars_testing_final,\n",
    "                                   batch_testing_list,\n",
    "                                   filepath2, categorical_cols=categorical_testing_cols,\n",
    "                                  continuous_cols=continuous_testing_cols)"
   ]
  },
  {
   "cell_type": "code",
   "execution_count": null,
   "id": "52",
   "metadata": {
    "tags": []
   },
   "outputs": [],
   "source": [
    "write_testing_df = pd.concat([caseno_testing, output_testing_df], axis=1) \n",
    "write_testing_df.to_csv(filepath2+'/Mfeatures_testing_NestedComBat.csv') # write results fo file\n",
    "dat_testing_input = dat_testing.transpose()\n",
    "dat_testing_input.to_csv(filepath2+'/Mfeatures_input_testing_NestedComBat.csv')\n",
    "covars_testing_final.to_csv(filepath2+'/Mcovars_input_testing_NestedComBat.csv')"
   ]
  },
  {
   "cell_type": "code",
   "execution_count": null,
   "id": "53",
   "metadata": {
    "tags": []
   },
   "outputs": [],
   "source": [
    "# write harmonized dataset \n",
    "complete_harmonised = pd.concat([write_testing_df, covars_testing_final], axis=1) \n",
    "complete_harmonised.head(3)"
   ]
  },
  {
   "cell_type": "code",
   "execution_count": null,
   "id": "54",
   "metadata": {
    "tags": []
   },
   "outputs": [],
   "source": [
    "complete_harmonised.columns"
   ]
  },
  {
   "cell_type": "markdown",
   "id": "55",
   "metadata": {},
   "source": [
    "# split dataframe back up into parts for running\n",
    "## from complete_harmonised"
   ]
  },
  {
   "cell_type": "code",
   "execution_count": null,
   "id": "56",
   "metadata": {
    "tags": []
   },
   "outputs": [],
   "source": [
    "sabre_opn_harmonized = complete_harmonised[complete_harmonised['site'] == 1]\n",
    "sabre_opn_harmonized = sabre_opn_harmonized.drop(columns=['site', 'GMM',])\n",
    "sabre_opn_harmonized.head(3)"
   ]
  },
  {
   "cell_type": "code",
   "execution_count": null,
   "id": "57",
   "metadata": {},
   "outputs": [],
   "source": [
    "helius_opn_harmonized = complete_harmonised[complete_harmonised['site'] == 3]\n",
    "helius_opn_harmonized = helius_opn_harmonized.drop(columns=['site', 'GMM',])\n",
    "helius_opn_harmonized.head(3)"
   ]
  },
  {
   "cell_type": "code",
   "execution_count": null,
   "id": "58",
   "metadata": {},
   "outputs": [],
   "source": [
    "insight_opn_harmonized = complete_harmonised[complete_harmonised['site'] == 4]\n",
    "insight_opn_harmonized = insight_opn_harmonized.drop(columns=['site', 'GMM',])\n",
    "insight_opn_harmonized.head(3)"
   ]
  },
  {
   "cell_type": "code",
   "execution_count": null,
   "id": "59",
   "metadata": {},
   "outputs": [],
   "source": [
    "edis_opn_harmonized = complete_harmonised[complete_harmonised['site'] == 2]\n",
    "edis_opn_harmonized = edis_opn_harmonized.drop(columns=['site', 'GMM',])\n",
    "edis_opn_harmonized.head(3)"
   ]
  },
  {
   "cell_type": "code",
   "execution_count": null,
   "id": "60",
   "metadata": {
    "tags": []
   },
   "outputs": [],
   "source": [
    "topmri_opn_harmonized = complete_harmonised[complete_harmonised['site'] == 0]\n",
    "topmri_opn_harmonized = topmri_opn_harmonized.drop(columns=['site', 'GMM',])\n",
    "#top_opn_harmonized.head(3)"
   ]
  },
  {
   "cell_type": "code",
   "execution_count": null,
   "id": "72dcc680-7d54-465d-acf3-0a3bc7472f72",
   "metadata": {
    "tags": []
   },
   "outputs": [],
   "source": [
    "topmri_opn_harmonized = topmri_opn_harmonized.merge(TOPMRI_semi_features, on=\"participant_id\")\n",
    "edis_opn_harmonized   = edis_opn_harmonized.merge(EDIS_semi_features, on=\"participant_id\")\n",
    "sabre_opn_harmonized  = sabre_opn_harmonized.merge( SABRE_semi_features, on=\"participant_id\")\n",
    "helius_opn_harmonized = helius_opn_harmonized.merge(HELIUS_semi_features, on=\"participant_id\")\n",
    "insight_opn_harmonized= insight_opn_harmonized.merge(INSI_semi_features, on=\"participant_id\")\n",
    " "
   ]
  },
  {
   "cell_type": "code",
   "execution_count": null,
   "id": "16ce36a6-2977-43bd-91f8-ed96f9099bf7",
   "metadata": {
    "tags": []
   },
   "outputs": [],
   "source": [
    "helius_opn_harmonized"
   ]
  },
  {
   "cell_type": "code",
   "execution_count": null,
   "id": "61",
   "metadata": {
    "tags": []
   },
   "outputs": [],
   "source": [
    "topmri_opn_harmonized.to_csv('harm_results/open_nested_combat/topmri_5_opn_harmonized_to_sab.csv')\n",
    "sabre_opn_harmonized.to_csv('harm_results/open_nested_combat/sabre_5_opn_harmonized.csv')\n",
    "edis_opn_harmonized.to_csv('harm_results/open_nested_combat/edis_5_opn_harmonized.csv')\n",
    "helius_opn_harmonized.to_csv('harm_results/open_nested_combat/helius_5_opn_harmonized.csv')\n",
    "insight_opn_harmonized.to_csv('harm_results/open_nested_combat/insight_5_opn_harmonized.csv')"
   ]
  },
  {
   "cell_type": "markdown",
   "id": "70",
   "metadata": {},
   "source": [
    "<!-- # split dataframe back up into parts for running\n",
    "## from complete_harmonised -->"
   ]
  },
  {
   "cell_type": "code",
   "execution_count": null,
   "id": "71",
   "metadata": {},
   "outputs": [],
   "source": []
  },
  {
   "cell_type": "code",
   "execution_count": null,
   "id": "72",
   "metadata": {},
   "outputs": [],
   "source": []
  },
  {
   "cell_type": "code",
   "execution_count": null,
   "id": "73",
   "metadata": {},
   "outputs": [],
   "source": []
  }
 ],
 "metadata": {
  "kernelspec": {
   "display_name": "Python 3 (ipykernel)",
   "language": "python",
   "name": "python3"
  },
  "language_info": {
   "codemirror_mode": {
    "name": "ipython",
    "version": 3
   },
   "file_extension": ".py",
   "mimetype": "text/x-python",
   "name": "python",
   "nbconvert_exporter": "python",
   "pygments_lexer": "ipython3",
   "version": "3.8.0"
  }
 },
 "nbformat": 4,
 "nbformat_minor": 5
}
