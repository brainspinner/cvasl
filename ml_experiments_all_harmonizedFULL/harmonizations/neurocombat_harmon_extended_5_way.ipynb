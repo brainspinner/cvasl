{
 "cells": [
  {
   "cell_type": "markdown",
   "id": "0",
   "metadata": {},
   "source": [
    "# Neurocombat 5 way harmonized datasets\n",
    "includes data preparation for RELIEF implementations"
   ]
  },
  {
   "cell_type": "markdown",
   "id": "1",
   "metadata": {},
   "source": [
    "Note this must be run in the `neuron` or `neuron_go` environment"
   ]
  },
  {
   "cell_type": "markdown",
   "id": "2",
   "metadata": {
    "tags": []
   },
   "source": [
    "## import libraries"
   ]
  },
  {
   "cell_type": "code",
   "execution_count": null,
   "id": "3",
   "metadata": {
    "tags": []
   },
   "outputs": [],
   "source": [
    "import os\n",
    "import sys\n",
    "\n",
    "import pandas as pd\n",
    "import numpy as np\n",
    "\n",
    "\n",
    "sys.path.insert(0, '../../')  # path to functions\n",
    "import cvasl.vendor.neurocombat.neurocombat as neurocombat\n",
    "import cvasl.harmony as har"
   ]
  },
  {
   "cell_type": "markdown",
   "id": "4",
   "metadata": {},
   "source": [
    "## We read in our data\n"
   ]
  },
  {
   "cell_type": "code",
   "execution_count": null,
   "id": "5",
   "metadata": {
    "tags": []
   },
   "outputs": [],
   "source": [
    "# Datasets for this work\n",
    "EDIS = pd.read_csv('../new_data/TrainingDataComplete_EDIS.csv')\n",
    "HELIUS = pd.read_csv('../new_data/TrainingDataComplete_HELIUS.csv')\n",
    "SABRE = pd.read_csv('../new_data/TrainingDataComplete_SABRE.csv')\n",
    "MRI = pd.read_csv('../new_data/TrainingDataComplete_StrokeMRI.csv')\n",
    "TOP = pd.read_csv('../new_data/TrainingDataComplete_TOP.csv')\n",
    "INSI = pd.read_csv('../new_data/TrainingDataComplete_Insight46.csv')"
   ]
  },
  {
   "cell_type": "code",
   "execution_count": null,
   "id": "6",
   "metadata": {},
   "outputs": [],
   "source": []
  },
  {
   "cell_type": "code",
   "execution_count": null,
   "id": "7",
   "metadata": {
    "tags": []
   },
   "outputs": [],
   "source": [
    "## We found there is one aprticipant from two seperate sights (HELIUS and SABRE) named the same. There fore we will show and switch this"
   ]
  },
  {
   "cell_type": "code",
   "execution_count": null,
   "id": "8",
   "metadata": {
    "tags": []
   },
   "outputs": [],
   "source": [
    "HELIUS[HELIUS['participant_id']=='sub-153852_1']"
   ]
  },
  {
   "cell_type": "code",
   "execution_count": null,
   "id": "9",
   "metadata": {
    "tags": []
   },
   "outputs": [],
   "source": [
    "SABRE[SABRE['participant_id']=='sub-153852_1']"
   ]
  },
  {
   "cell_type": "code",
   "execution_count": null,
   "id": "10",
   "metadata": {
    "tags": []
   },
   "outputs": [],
   "source": [
    "HELIUS.loc[HELIUS['participant_id']=='sub-153852_1', 'participant_id'] = 'sub-153852_1H'"
   ]
  },
  {
   "cell_type": "code",
   "execution_count": null,
   "id": "12",
   "metadata": {
    "tags": []
   },
   "outputs": [],
   "source": [
    "HELIUS.head(3)"
   ]
  },
  {
   "cell_type": "code",
   "execution_count": null,
   "id": "16",
   "metadata": {
    "tags": []
   },
   "outputs": [],
   "source": [
    "TOP = TOP.drop(['Site', 'ID'], axis= 1)\n",
    "TOP.head(3)"
   ]
  },
  {
   "cell_type": "code",
   "execution_count": null,
   "id": "17",
   "metadata": {
    "tags": []
   },
   "outputs": [],
   "source": [
    "MRI = MRI.drop(['Site', 'ID'],axis = 1)\n",
    "MRI.tail(3)"
   ]
  },
  {
   "cell_type": "code",
   "execution_count": null,
   "id": "18",
   "metadata": {
    "tags": []
   },
   "outputs": [],
   "source": [
    "TOPMRI = pd.concat([TOP,MRI])\n",
    "TOPMRI.head(3)"
   ]
  },
  {
   "cell_type": "code",
   "execution_count": null,
   "id": "19",
   "metadata": {
    "tags": []
   },
   "outputs": [],
   "source": [
    "HELIUS = HELIUS.drop(['Site', 'ID'],axis = 1)\n",
    "HELIUS.tail(3)"
   ]
  },
  {
   "cell_type": "code",
   "execution_count": null,
   "id": "20",
   "metadata": {
    "tags": []
   },
   "outputs": [],
   "source": [
    "EDIS = EDIS.drop(['Site', 'ID'],axis = 1)\n",
    "INSI = INSI.drop(['Site', 'ID'],axis = 1)\n",
    "SABRE = SABRE.drop(['Site', 'ID'],axis = 1)"
   ]
  },
  {
   "cell_type": "code",
   "execution_count": null,
   "id": "21",
   "metadata": {
    "tags": []
   },
   "outputs": [],
   "source": [
    "EDIS.columns"
   ]
  },
  {
   "cell_type": "code",
   "execution_count": null,
   "id": "8bee0cf4-5529-481c-ae78-dff00061d8fa",
   "metadata": {
    "tags": []
   },
   "outputs": [],
   "source": [
    "datasets1 = [TOPMRI, HELIUS, EDIS, SABRE, INSI]\n",
    "datasets = []\n",
    "for myset in datasets1:\n",
    "    myset = myset.drop(['LD', 'PLD', 'Labelling', 'Readout', 'M0'], axis=1)\n",
    "    datasets.append(myset)\n",
    "print(len(datasets1[0]))     \n",
    "print(len(datasets1[1]))     \n",
    "print(len(datasets1[2]))     \n",
    "print(len(datasets1[3]))     \n",
    "print(len(datasets1[4]))     \n",
    "TOPMRI = datasets[0]\n",
    "HELIUS = datasets[1] \n",
    "EDIS   = datasets[2]\n",
    "SABRE  = datasets[3]\n",
    "INSI   = datasets[4]    \n",
    "print(len(TOPMRI))     \n",
    "print(len(HELIUS))     \n",
    "print(len(EDIS))     \n",
    "print(len(SABRE))     \n",
    "print(len(INSI))    "
   ]
  },
  {
   "cell_type": "code",
   "execution_count": null,
   "id": "22",
   "metadata": {
    "tags": []
   },
   "outputs": [],
   "source": [
    "TOPMRI.shape"
   ]
  },
  {
   "cell_type": "code",
   "execution_count": null,
   "id": "6517968a-560d-4a26-89b1-026b01f7b395",
   "metadata": {
    "tags": []
   },
   "outputs": [],
   "source": [
    "TOPMRI.columns"
   ]
  },
  {
   "cell_type": "code",
   "execution_count": null,
   "id": "0d68762a-0f9d-44f9-9dff-6a28f850628c",
   "metadata": {},
   "outputs": [],
   "source": [
    "TOPMRI_all = TOPMRI\n",
    "HELIUS_all = HELIUS\n",
    "EDIS_all = EDIS \n",
    "SABRE_all = SABRE \n",
    "INSI_all = INSI \n",
    "to_be_harmonized_or_covar = [\n",
    "    'Age', 'Sex','DeepWM_B_CoV', 'ACA_B_CoV', 'MCA_B_CoV', 'PCA_B_CoV', 'TotalGM_B_CoV',\n",
    "    'DeepWM_B_CBF', 'ACA_B_CBF', 'MCA_B_CBF', 'PCA_B_CBF', 'TotalGM_B_CBF',\n",
    "]\n",
    "not_harmonized= ['GM_vol', 'WM_vol', 'CSF_vol','GM_ICVRatio', 'GMWM_ICVRatio', 'WMHvol_WMvol', 'WMH_count',]\n",
    "TOPMRI_semi_features = TOPMRI.drop(to_be_harmonized_or_covar,axis=1)\n",
    "HELIUS_semi_features = HELIUS.drop(to_be_harmonized_or_covar,axis=1)\n",
    "EDIS_semi_features = EDIS.drop(to_be_harmonized_or_covar,axis=1) \n",
    "SABRE_semi_features = SABRE.drop(to_be_harmonized_or_covar,axis=1) \n",
    "INSI_semi_features = INSI.drop(to_be_harmonized_or_covar,axis=1)\n",
    "\n",
    "TOPMRI = TOPMRI.drop(not_harmonized,axis=1)\n",
    "HELIUS = HELIUS.drop(not_harmonized,axis=1)\n",
    "EDIS = EDIS.drop(not_harmonized,axis=1) \n",
    "SABRE= SABRE.drop(not_harmonized,axis=1) \n",
    "INSI = INSI.drop(not_harmonized,axis=1)"
   ]
  },
  {
   "cell_type": "code",
   "execution_count": null,
   "id": "48f0296e-9470-42b5-ad1d-97fa5f9a01bc",
   "metadata": {
    "tags": []
   },
   "outputs": [],
   "source": [
    "INSI"
   ]
  },
  {
   "cell_type": "markdown",
   "id": "23",
   "metadata": {},
   "source": [
    "# neurocombat prep"
   ]
  },
  {
   "cell_type": "code",
   "execution_count": null,
   "id": "24",
   "metadata": {
    "tags": []
   },
   "outputs": [],
   "source": [
    "all_togetherF, ftF, btF, feature_dictF, len1, len2, len3, len4, len5 = har.prep_for_neurocombat_5way(TOPMRI, HELIUS, EDIS, SABRE, INSI)"
   ]
  },
  {
   "cell_type": "code",
   "execution_count": null,
   "id": "25",
   "metadata": {
    "tags": []
   },
   "outputs": [],
   "source": [
    "all_togetherF"
   ]
  },
  {
   "cell_type": "code",
   "execution_count": null,
   "id": "d6814906-1d0d-4fee-8811-3201775c6e09",
   "metadata": {},
   "outputs": [],
   "source": [
    "len1, len2,len3,len4,len5, feature_dictF"
   ]
  },
  {
   "cell_type": "code",
   "execution_count": null,
   "id": "3b07346c-4815-4ffb-ae1a-40746f6c9622",
   "metadata": {},
   "outputs": [],
   "source": [
    "feature_dictF"
   ]
  },
  {
   "cell_type": "code",
   "execution_count": null,
   "id": "84690c2d-01d6-4cf2-8d0e-aae304547834",
   "metadata": {},
   "outputs": [],
   "source": [
    "# save mother frame for RELIEF\n",
    "all_togetherF.to_csv('all_togeherf5.csv')\n",
    "# ftF, \n",
    "# btF, \n",
    "# feature_dictF, \n",
    "# len1, \n",
    "# len2, \n",
    "# len3, len4, len5 "
   ]
  },
  {
   "cell_type": "code",
   "execution_count": null,
   "id": "26",
   "metadata": {
    "tags": []
   },
   "outputs": [],
   "source": [
    "ftF.to_csv('ftF_top5.csv')"
   ]
  },
  {
   "cell_type": "code",
   "execution_count": null,
   "id": "27",
   "metadata": {
    "tags": []
   },
   "outputs": [],
   "source": [
    "data = np.genfromtxt('ftF_top5.csv', delimiter=\",\", skip_header=1)\n",
    "data = data[:, 1:]\n",
    "data"
   ]
  },
  {
   "cell_type": "code",
   "execution_count": null,
   "id": "8593edaa-1315-4b5f-8d16-06af55900c73",
   "metadata": {},
   "outputs": [],
   "source": [
    "#save data array for RELIEF processing\n",
    "np.save('dat_var_for_RELIEF5.npy', data)"
   ]
  },
  {
   "cell_type": "code",
   "execution_count": null,
   "id": "28",
   "metadata": {
    "tags": []
   },
   "outputs": [],
   "source": [
    "data.shape"
   ]
  },
  {
   "cell_type": "code",
   "execution_count": null,
   "id": "29",
   "metadata": {
    "tags": []
   },
   "outputs": [],
   "source": [
    "# Specifying the batch (scanner variable) as well as a sex covariate to preserve:\n",
    "first_columns_as_one = [1] * len1\n",
    "second_columns_as_two = [2] * len2\n",
    "third_columns_as_three = [3] * len3\n",
    "fourth_columns_as_four = [4] * len4\n",
    "fifth_columns_as_five = [5] * len5\n",
    "covars = {'batch':first_columns_as_one + second_columns_as_two + third_columns_as_three + fourth_columns_as_four + fifth_columns_as_five,\n",
    "          #'Site': both_togetherF.loc['Site',:].values.tolist(), \n",
    "          'Sex':all_togetherF.loc['Sex',:].values.tolist(),\n",
    "           'Age':all_togetherF.loc['Age',:].values.tolist(),} \n",
    "covars = pd.DataFrame(covars) "
   ]
  },
  {
   "cell_type": "code",
   "execution_count": null,
   "id": "50958397-e45e-41eb-8d68-dac394dfcffa",
   "metadata": {},
   "outputs": [],
   "source": [
    "# save covars for RELIEF processing\n",
    "covars.to_csv('bath_and_mod_forRELIEF5.csv')\n"
   ]
  },
  {
   "cell_type": "code",
   "execution_count": null,
   "id": "30",
   "metadata": {
    "tags": []
   },
   "outputs": [],
   "source": [
    "# specifify sex as categorical\n",
    "categorical_cols = ['Sex']\n",
    "# To specify the name of the variable that encodes for the scanner/batch covariate:\n",
    "batch_col_mine = 'batch'\n",
    "our_continuous_col=['Age']\n",
    "#Harmonization step:\n",
    "data_combat = neurocombat.neuroCombat(dat=data,\n",
    "    covars=covars,\n",
    "    batch_col=batch_col_mine,\n",
    "    continuous_cols=our_continuous_col,\n",
    "    categorical_cols=categorical_cols)[\"data\"]\n",
    "\n",
    "# (n_dat, covars, batch_col, continuous_cols=continuous_cols,\n",
    "#                                     categorical_cols=categorical_cols)"
   ]
  },
  {
   "cell_type": "code",
   "execution_count": null,
   "id": "31",
   "metadata": {
    "tags": []
   },
   "outputs": [],
   "source": [
    "neurocombat = pd.DataFrame(data_combat)\n",
    "neurocombat"
   ]
  },
  {
   "cell_type": "code",
   "execution_count": null,
   "id": "32",
   "metadata": {
    "tags": []
   },
   "outputs": [],
   "source": [
    "topperF = har.make_topper(btF,'Age', 'Sex')"
   ]
  },
  {
   "cell_type": "code",
   "execution_count": null,
   "id": "33",
   "metadata": {
    "tags": []
   },
   "outputs": [],
   "source": [
    "bottom = neurocombat.reset_index(drop=False)\n",
    "bottom = bottom.rename(columns={\"index\": \"char\"})\n",
    "bottom.columns = topperF.columns"
   ]
  },
  {
   "cell_type": "code",
   "execution_count": null,
   "id": "34",
   "metadata": {
    "tags": []
   },
   "outputs": [],
   "source": [
    "back_together = pd.concat([topperF, bottom])\n",
    "back_together = back_together.T\n",
    "#back_together"
   ]
  },
  {
   "cell_type": "code",
   "execution_count": null,
   "id": "35",
   "metadata": {
    "tags": []
   },
   "outputs": [],
   "source": [
    "back_together"
   ]
  },
  {
   "cell_type": "code",
   "execution_count": null,
   "id": "36",
   "metadata": {
    "tags": []
   },
   "outputs": [],
   "source": [
    "new_header = back_together.iloc[0] #grab the first row for the header\n",
    "back_together.columns = new_header #set the header row as the df header\n",
    "back_together = back_together[1:]\n",
    "#back_together"
   ]
  },
  {
   "cell_type": "code",
   "execution_count": null,
   "id": "37",
   "metadata": {
    "tags": []
   },
   "outputs": [],
   "source": [
    "len5"
   ]
  },
  {
   "cell_type": "code",
   "execution_count": null,
   "id": "38",
   "metadata": {
    "tags": []
   },
   "outputs": [],
   "source": [
    "neuro_harm_topmri = back_together.head(len1)\n",
    "neuro_harm_HELIUS =back_together.head(len1+len2).tail(len2)\n",
    "neuro_harm_EDIS = back_together.head(len1+len2+ len3).tail(len3)\n",
    "neuro_harm_SABRE = back_together.head(len1+len2+ len3 +len4).tail(len4)\n",
    "neuro_harm_INSI = back_together.head(len1+len2+ len3 +len4+ len5).tail(len5)"
   ]
  },
  {
   "cell_type": "code",
   "execution_count": null,
   "id": "39",
   "metadata": {
    "tags": []
   },
   "outputs": [],
   "source": [
    "neuro_harm_topmri.head(3)"
   ]
  },
  {
   "cell_type": "code",
   "execution_count": null,
   "id": "40",
   "metadata": {
    "tags": []
   },
   "outputs": [],
   "source": [
    "neuro_harm_HELIUS.head(3)"
   ]
  },
  {
   "cell_type": "code",
   "execution_count": null,
   "id": "41",
   "metadata": {
    "tags": []
   },
   "outputs": [],
   "source": [
    "neuro_harm_EDIS.head(3)"
   ]
  },
  {
   "cell_type": "code",
   "execution_count": null,
   "id": "42",
   "metadata": {
    "tags": []
   },
   "outputs": [],
   "source": [
    "neuro_harm_SABRE.head(3) "
   ]
  },
  {
   "cell_type": "code",
   "execution_count": null,
   "id": "43",
   "metadata": {
    "tags": []
   },
   "outputs": [],
   "source": [
    "neuro_harm_INSI.head(3)"
   ]
  },
  {
   "cell_type": "code",
   "execution_count": null,
   "id": "44",
   "metadata": {},
   "outputs": [],
   "source": []
  },
  {
   "cell_type": "code",
   "execution_count": null,
   "id": "45",
   "metadata": {
    "tags": []
   },
   "outputs": [],
   "source": [
    "neuro_harm_topmri = neuro_harm_topmri.rename(feature_dictF, axis='columns')\n",
    "neuro_harm_EDIS = neuro_harm_EDIS.rename(feature_dictF, axis='columns')\n",
    "neuro_harm_SABRE = neuro_harm_SABRE.rename(feature_dictF, axis='columns')\n",
    "neuro_harm_INSI = neuro_harm_INSI.rename(feature_dictF, axis='columns')\n",
    "neuro_harm_HELIUS = neuro_harm_HELIUS.rename(feature_dictF, axis='columns')\n",
    "neuro_harm_HELIUS"
   ]
  },
  {
   "cell_type": "code",
   "execution_count": null,
   "id": "46",
   "metadata": {
    "tags": []
   },
   "outputs": [],
   "source": [
    "neuro_harm_EDIS = neuro_harm_EDIS.reset_index()\n",
    "neuro_harm_EDIS = neuro_harm_EDIS.rename(columns={\"index\": \"participant_id\"})\n",
    "neuro_harm_HELIUS = neuro_harm_HELIUS.reset_index()\n",
    "neuro_harm_HELIUS = neuro_harm_HELIUS.rename(columns={\"index\": \"participant_id\"})\n",
    "neuro_harm_SABRE = neuro_harm_SABRE.reset_index()\n",
    "neuro_harm_SABRE = neuro_harm_SABRE.rename(columns={\"index\": \"participant_id\"})\n",
    "neuro_harm_topmri = neuro_harm_topmri.reset_index()\n",
    "neuro_harm_topmri = neuro_harm_topmri.rename(columns={\"index\": \"participant_id\"})\n",
    "neuro_harm_INSI = neuro_harm_INSI.reset_index()\n",
    "neuro_harm_INSI = neuro_harm_INSI.rename(columns={\"index\": \"participant_id\"})"
   ]
  },
  {
   "cell_type": "code",
   "execution_count": null,
   "id": "bbba15e9-5de3-430e-8a12-f476d5d647b4",
   "metadata": {
    "tags": []
   },
   "outputs": [],
   "source": [
    "neuro_harm_EDIS = neuro_harm_EDIS.merge(EDIS_semi_features, on=\"participant_id\")\n",
    "neuro_harm_HELIUS = neuro_harm_HELIUS.merge(HELIUS_semi_features, on=\"participant_id\")\n",
    "neuro_harm_SABRE = neuro_harm_SABRE.merge( SABRE_semi_features, on=\"participant_id\")\n",
    "neuro_harm_topmri = neuro_harm_topmri.merge(TOPMRI_semi_features, on=\"participant_id\")\n",
    "neuro_harm_INSI = neuro_harm_INSI.merge(INSI_semi_features, on=\"participant_id\")\n",
    "neuro_harm_INSI"
   ]
  },
  {
   "cell_type": "code",
   "execution_count": null,
   "id": "cef2139c-dc1d-4b44-85c9-e01a303a7d3c",
   "metadata": {},
   "outputs": [],
   "source": []
  },
  {
   "cell_type": "markdown",
   "id": "47",
   "metadata": {},
   "source": [
    "Save off to harmonized csv files"
   ]
  },
  {
   "cell_type": "code",
   "execution_count": null,
   "id": "48",
   "metadata": {
    "tags": []
   },
   "outputs": [],
   "source": [
    "neuro_harm_INSI.head(3)"
   ]
  },
  {
   "cell_type": "code",
   "execution_count": null,
   "id": "49",
   "metadata": {},
   "outputs": [],
   "source": []
  },
  {
   "cell_type": "code",
   "execution_count": null,
   "id": "50",
   "metadata": {},
   "outputs": [],
   "source": []
  },
  {
   "cell_type": "code",
   "execution_count": null,
   "id": "51",
   "metadata": {
    "tags": []
   },
   "outputs": [],
   "source": [
    "neuro_harm_HELIUS.to_csv('harm_results/5neuro_harm_HELIUS.csv')\n",
    "neuro_harm_topmri.to_csv('harm_results/5neuro_harm_topmri.csv')\n",
    "neuro_harm_INSI.to_csv('harm_results/5neuro_harm_INSI.csv')\n",
    "neuro_harm_SABRE.to_csv('harm_results/5neuro_harm_SABRE.csv')\n",
    "neuro_harm_EDIS.to_csv('harm_results/5neuro_harm_EDIS.csv')"
   ]
  },
  {
   "cell_type": "code",
   "execution_count": null,
   "id": "52",
   "metadata": {
    "tags": []
   },
   "outputs": [],
   "source": [
    "neuro_harm_HELIUS.columns"
   ]
  },
  {
   "cell_type": "markdown",
   "id": "54",
   "metadata": {},
   "source": [
    "# Data quality check"
   ]
  },
  {
   "cell_type": "code",
   "execution_count": null,
   "id": "53",
   "metadata": {
    "tags": []
   },
   "outputs": [],
   "source": [
    "number_columns = ['Age', 'Sex', 'GM_vol', 'WM_vol', 'CSF_vol',\n",
    "       'GM_ICVRatio', 'GMWM_ICVRatio', 'WMHvol_WMvol', 'WMH_count',\n",
    "       'ACA_B_CoV', 'MCA_B_CoV', 'PCA_B_CoV', 'TotalGM_B_CoV',\n",
    "       'ACA_B_CBF', 'MCA_B_CBF', 'PCA_B_CBF', 'TotalGM_B_CBF',]"
   ]
  },
  {
   "cell_type": "code",
   "execution_count": null,
   "id": "55",
   "metadata": {
    "tags": []
   },
   "outputs": [],
   "source": [
    "TOPMRI"
   ]
  },
  {
   "cell_type": "code",
   "execution_count": null,
   "id": "56",
   "metadata": {
    "tags": []
   },
   "outputs": [],
   "source": [
    "neuro_harm_topmri"
   ]
  },
  {
   "cell_type": "code",
   "execution_count": null,
   "id": "57",
   "metadata": {
    "tags": []
   },
   "outputs": [],
   "source": [
    "neuro_harm_HELIUS.isna().sum().sum()"
   ]
  },
  {
   "cell_type": "code",
   "execution_count": null,
   "id": "58",
   "metadata": {
    "tags": []
   },
   "outputs": [],
   "source": [
    "neuro_harm_topmri.isna().sum().sum()"
   ]
  },
  {
   "cell_type": "code",
   "execution_count": null,
   "id": "59",
   "metadata": {
    "tags": []
   },
   "outputs": [],
   "source": [
    "#neuro_harm_top.head(3)\n",
    "(neuro_harm_HELIUS[number_columns] < 0).sum()"
   ]
  },
  {
   "cell_type": "code",
   "execution_count": null,
   "id": "60",
   "metadata": {
    "tags": []
   },
   "outputs": [],
   "source": [
    "(neuro_harm_topmri[number_columns] < 0).sum()"
   ]
  },
  {
   "cell_type": "code",
   "execution_count": null,
   "id": "61",
   "metadata": {
    "tags": []
   },
   "outputs": [],
   "source": [
    "(neuro_harm_EDIS[number_columns] < 0).sum()"
   ]
  },
  {
   "cell_type": "code",
   "execution_count": null,
   "id": "62",
   "metadata": {
    "tags": []
   },
   "outputs": [],
   "source": [
    "(neuro_harm_INSI[number_columns] < 0).sum()"
   ]
  },
  {
   "cell_type": "code",
   "execution_count": null,
   "id": "63",
   "metadata": {
    "tags": []
   },
   "outputs": [],
   "source": [
    "(neuro_harm_SABRE[number_columns] < 0).sum()"
   ]
  },
  {
   "cell_type": "code",
   "execution_count": null,
   "id": "64",
   "metadata": {},
   "outputs": [],
   "source": []
  },
  {
   "cell_type": "code",
   "execution_count": null,
   "id": "aa88ecfb-5a14-4a79-83ca-301a4877ce96",
   "metadata": {},
   "outputs": [],
   "source": []
  }
 ],
 "metadata": {
  "kernelspec": {
   "display_name": "Python 3 (ipykernel)",
   "language": "python",
   "name": "python3"
  },
  "language_info": {
   "codemirror_mode": {
    "name": "ipython",
    "version": 3
   },
   "file_extension": ".py",
   "mimetype": "text/x-python",
   "name": "python",
   "nbconvert_exporter": "python",
   "pygments_lexer": "ipython3",
   "version": "3.7.12"
  }
 },
 "nbformat": 4,
 "nbformat_minor": 5
}
