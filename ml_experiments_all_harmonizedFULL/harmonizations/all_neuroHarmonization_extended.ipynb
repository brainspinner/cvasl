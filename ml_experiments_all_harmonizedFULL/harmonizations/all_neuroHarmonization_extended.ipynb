{
 "cells": [
  {
   "cell_type": "markdown",
   "id": "0",
   "metadata": {},
   "source": [
    "# Neuroharmonize datasets"
   ]
  },
  {
   "cell_type": "markdown",
   "id": "1",
   "metadata": {},
   "source": [
    "This is a notebook to apply neuroHarmonize: a ComBat-GAM  non-linear allowing algorithm over our data to create neuroHarmonized datasets. It should be run in the `neurogamy` environment."
   ]
  },
  {
   "cell_type": "code",
   "execution_count": null,
   "id": "2",
   "metadata": {
    "tags": []
   },
   "outputs": [],
   "source": [
    "import os\n",
    "from neuroHarmonize import harmonizationLearn\n",
    "import pandas as pd\n",
    "import numpy as np"
   ]
  },
  {
   "cell_type": "code",
   "execution_count": null,
   "id": "8c22fe5d-2a92-425d-b91e-d9bb30868fda",
   "metadata": {},
   "outputs": [],
   "source": [
    "EDIS = pd.read_csv('../new_data/TrainingDataComplete_EDIS.csv')\n",
    "HELIUS = pd.read_csv('../new_data/TrainingDataComplete_HELIUS.csv')\n",
    "SABRE = pd.read_csv('../new_data/TrainingDataComplete_SABRE.csv')\n",
    "MRI = pd.read_csv('../new_data/TrainingDataComplete_StrokeMRI.csv')\n",
    "TOP = pd.read_csv('../new_data/TrainingDataComplete_TOP.csv')\n",
    "Insight46 = pd.read_csv('../new_data/TrainingDataComplete_Insight46.csv')\n",
    "#TOP"
   ]
  },
  {
   "cell_type": "code",
   "execution_count": null,
   "id": "5",
   "metadata": {
    "tags": []
   },
   "outputs": [],
   "source": [
    "HELIUS.tail(3)"
   ]
  },
  {
   "cell_type": "code",
   "execution_count": null,
   "id": "6",
   "metadata": {
    "tags": []
   },
   "outputs": [],
   "source": [
    "TOP['Site'] = 0\n",
    "MRI['Site'] = 1\n",
    "MRI.head(3)"
   ]
  },
  {
   "cell_type": "code",
   "execution_count": null,
   "id": "7",
   "metadata": {
    "tags": []
   },
   "outputs": [],
   "source": [
    "## We found there is one aprticipant from two seperate sights (HELIUS and SABRE) named the same. There fore we will show and switch this"
   ]
  },
  {
   "cell_type": "code",
   "execution_count": null,
   "id": "8",
   "metadata": {
    "tags": []
   },
   "outputs": [],
   "source": [
    "HELIUS[HELIUS['participant_id']=='sub-153852_1']"
   ]
  },
  {
   "cell_type": "code",
   "execution_count": null,
   "id": "9",
   "metadata": {
    "tags": []
   },
   "outputs": [],
   "source": [
    "SABRE[SABRE['participant_id']=='sub-153852_1']"
   ]
  },
  {
   "cell_type": "code",
   "execution_count": null,
   "id": "10",
   "metadata": {
    "tags": []
   },
   "outputs": [],
   "source": [
    "HELIUS.loc[HELIUS['participant_id']=='sub-153852_1', 'participant_id'] = 'sub-153852_1H'"
   ]
  },
  {
   "cell_type": "code",
   "execution_count": null,
   "id": "11",
   "metadata": {
    "tags": []
   },
   "outputs": [],
   "source": [
    "TOP.head(3)"
   ]
  },
  {
   "cell_type": "markdown",
   "id": "12",
   "metadata": {
    "tags": []
   },
   "source": [
    "# Here we will harmonize just TOP and StrokeMRI"
   ]
  },
  {
   "cell_type": "code",
   "execution_count": null,
   "id": "13",
   "metadata": {
    "tags": []
   },
   "outputs": [],
   "source": [
    "TOPMRI = pd.concat([TOP, MRI])\n",
    "TOPMRI.head(3) "
   ]
  },
  {
   "cell_type": "code",
   "execution_count": null,
   "id": "14",
   "metadata": {
    "tags": []
   },
   "outputs": [],
   "source": [
    "TOPMRI.tail(3)"
   ]
  },
  {
   "cell_type": "code",
   "execution_count": null,
   "id": "15",
   "metadata": {
    "tags": []
   },
   "outputs": [],
   "source": [
    "TOPMRI.columns"
   ]
  },
  {
   "cell_type": "markdown",
   "id": "eabcb300-8785-40ed-a163-38792e143a87",
   "metadata": {},
   "source": [
    "We will transform M0 to a 1 for no, and 2 for yes.  We will make 3D spiral 1, and PCASL labelling 1"
   ]
  },
  {
   "cell_type": "code",
   "execution_count": null,
   "id": "adca7141-95b0-4dc7-8652-b51d2263d463",
   "metadata": {},
   "outputs": [],
   "source": [
    "#TOPMRI.readout.unique()"
   ]
  },
  {
   "cell_type": "code",
   "execution_count": null,
   "id": "16",
   "metadata": {
    "tags": []
   },
   "outputs": [],
   "source": [
    "TOPMRI.columns= TOPMRI.columns.str.lower()"
   ]
  },
  {
   "cell_type": "code",
   "execution_count": null,
   "id": "2462a857-8b37-4d5a-ad93-e7e2bda280b9",
   "metadata": {},
   "outputs": [],
   "source": [
    "TOPMRI.labelling.unique()"
   ]
  },
  {
   "cell_type": "code",
   "execution_count": null,
   "id": "259ee385-2ebe-4dd9-9af6-291924e13ebe",
   "metadata": {},
   "outputs": [],
   "source": [
    "TOPMRI.m0 = TOPMRI.m0.replace(to_replace=['No', 'Yes'], value=[1, 2])\n",
    "TOPMRI.readout = TOPMRI.readout.replace(to_replace=['3DSpiral'], value=[1])\n",
    "TOPMRI.labelling = TOPMRI.labelling.replace(to_replace=['PCASL'], value=[1])"
   ]
  },
  {
   "cell_type": "code",
   "execution_count": null,
   "id": "a8f73c61-af30-41e8-8c5f-91851dde7981",
   "metadata": {},
   "outputs": [],
   "source": [
    "TOP.M0 = TOP.M0.replace(to_replace=['No', 'Yes'], value=[1, 2])\n",
    "TOP.Readout = TOP.Readout.replace(to_replace=['3DSpiral'], value=[1])\n",
    "TOP.Labelling = TOP.Labelling.replace(to_replace=['PCASL'], value=[1])"
   ]
  },
  {
   "cell_type": "code",
   "execution_count": null,
   "id": "da3d5a0b-10a5-4f8a-b916-7838bc922f34",
   "metadata": {},
   "outputs": [],
   "source": [
    "MRI.M0 = MRI.M0.replace(to_replace=['No', 'Yes'], value=[1, 2])\n",
    "MRI.Readout = MRI.Readout.replace(to_replace=['3DSpiral'], value=[1])\n",
    "MRI.Labelling = MRI.Labelling.replace(to_replace=['PCASL'], value=[1])"
   ]
  },
  {
   "cell_type": "code",
   "execution_count": null,
   "id": "c8bb564e-bb16-47b6-8292-9d34e5198f11",
   "metadata": {},
   "outputs": [],
   "source": [
    "HELIUS.M0 = HELIUS.M0.replace(to_replace=['No', 'Yes'], value=[1, 2])\n",
    "HELIUS.Readout = HELIUS.Readout.replace(to_replace=['2DEPI'], value=[4])\n",
    "HELIUS.Labelling = HELIUS.Labelling.replace(to_replace=['PCASL'], value=[1])\n",
    "HELIUS"
   ]
  },
  {
   "cell_type": "code",
   "execution_count": null,
   "id": "6e8f0006-bd5b-4353-a1a8-ee68f3f44244",
   "metadata": {},
   "outputs": [],
   "source": [
    "EDIS.M0 = EDIS.M0.replace(to_replace=['No', 'Yes'], value=[1, 2])\n",
    "EDIS.Readout = EDIS.Readout.replace(to_replace=['2DEPI'], value=[4])\n",
    "EDIS.Labelling = EDIS.Labelling.replace(to_replace=['PASL'], value=[1])\n"
   ]
  },
  {
   "cell_type": "code",
   "execution_count": null,
   "id": "7c64f2d6-4728-459b-bd0a-c302b454a5dc",
   "metadata": {},
   "outputs": [],
   "source": [
    "Insight46.M0 = Insight46.M0.replace(to_replace=['No', 'Yes'], value=[1, 2])\n",
    "Insight46.Readout = Insight46.Readout.replace(to_replace=['3DGRASE'], value=[3])\n",
    "Insight46.Labelling = Insight46.Labelling.replace(to_replace=['PCASL'], value=[1])\n",
    "#Insight46"
   ]
  },
  {
   "cell_type": "code",
   "execution_count": null,
   "id": "b0dd051a-ba1a-4772-b520-847ad5424e78",
   "metadata": {},
   "outputs": [],
   "source": [
    "SABRE.M0 = SABRE.M0.replace(to_replace=['No', 'Yes'], value=[1, 2])\n",
    "SABRE.Readout = SABRE.Readout.replace(to_replace=['2DEPI'], value=[2])\n",
    "SABRE.Labelling = SABRE.Labelling.replace(to_replace=['PCASL'], value=[1])"
   ]
  },
  {
   "cell_type": "code",
   "execution_count": null,
   "id": "9e8ad98e-0406-411c-a3f2-295c9a94fa07",
   "metadata": {},
   "outputs": [],
   "source": [
    "TOPMRI.m0"
   ]
  },
  {
   "cell_type": "code",
   "execution_count": null,
   "id": "d6c59660-db99-4338-991b-1963b0f535b5",
   "metadata": {},
   "outputs": [],
   "source": [
    "# for column in TOPMRI.columns:\n",
    "#     print(column)\n",
    "#     print(type(TOPMRI[column].head(1).item()))"
   ]
  },
  {
   "cell_type": "code",
   "execution_count": null,
   "id": "17",
   "metadata": {
    "tags": []
   },
   "outputs": [],
   "source": [
    "common_features = ['gm_vol', 'wm_vol',\n",
    "       'csf_vol', 'gm_icvratio', 'gmwm_icvratio', 'wmhvol_wmvol', 'wmh_count',\n",
    "       'deepwm_b_cov', 'aca_b_cov', 'mca_b_cov', 'pca_b_cov', 'totalgm_b_cov',\n",
    "       'deepwm_b_cbf', 'aca_b_cbf', 'mca_b_cbf', 'pca_b_cbf', 'totalgm_b_cbf',\n",
    "       'ld', 'pld', 'labelling', 'readout', 'm0']"
   ]
  },
  {
   "cell_type": "code",
   "execution_count": null,
   "id": "18",
   "metadata": {
    "tags": []
   },
   "outputs": [],
   "source": [
    "TOPMRI_features = TOPMRI[common_features]\n",
    "TOPMRI_covariates = TOPMRI[['age', 'sex','site']]\n",
    "TOPMRI_covariates = TOPMRI_covariates.rename(columns={'site': 'SITE'})\n",
    "TOPMRI_covariates.head(3)"
   ]
  },
  {
   "cell_type": "code",
   "execution_count": null,
   "id": "19",
   "metadata": {
    "tags": []
   },
   "outputs": [],
   "source": [
    "#TOPMRI_covariates.reset_index()"
   ]
  },
  {
   "cell_type": "code",
   "execution_count": null,
   "id": "20",
   "metadata": {
    "tags": []
   },
   "outputs": [],
   "source": [
    "TOPMRI_features_array = np.array(TOPMRI_features)\n",
    "TOPMRI_features_array\n"
   ]
  },
  {
   "cell_type": "code",
   "execution_count": null,
   "id": "21",
   "metadata": {
    "tags": []
   },
   "outputs": [],
   "source": [
    "# run harmonization and PUT the adjusted data into my_ad_data vaiable\n",
    "my_model, my_data_adj = harmonizationLearn(TOPMRI_features_array, TOPMRI_covariates)"
   ]
  },
  {
   "cell_type": "code",
   "execution_count": null,
   "id": "22",
   "metadata": {
    "tags": []
   },
   "outputs": [],
   "source": [
    "# turn adjusted data into dataframe with column names, then add covariates, then participant IDs\n",
    "neuroharmonized_topmri = pd.DataFrame(\n",
    "    my_data_adj, \n",
    "    columns = ['gm_vol', 'wm_vol',\n",
    "       'csf_vol', 'gm_icvratio', 'gmwm_icvratio', 'wmhvol_wmvol', 'wmh_count',\n",
    "       'deepwm_b_cov', 'aca_b_cov', 'mca_b_cov', 'pca_b_cov', 'totalgm_b_cov',\n",
    "       'deepwm_b_cbf', 'aca_b_cbf', 'mca_b_cbf', 'pca_b_cbf', 'totalgm_b_cbf',\n",
    "       'ld', 'pld', 'labelling', 'readout', 'm0']\n",
    ")\n",
    "\n",
    "\n",
    "neuroharmonized_topmri =pd.concat([neuroharmonized_topmri, TOPMRI_covariates.reset_index()], axis=1)\n",
    "neuroharmonized_topmri = neuroharmonized_topmri.drop('index', axis=1)\n",
    "neuroharmonized_topmri = pd.concat([neuroharmonized_topmri, TOPMRI.participant_id.reset_index()], axis=1)\n",
    "neuroharmonized_topmri = neuroharmonized_topmri.drop('index', axis=1)\n",
    "neuroharmonized_topmri.head(3)"
   ]
  },
  {
   "cell_type": "code",
   "execution_count": null,
   "id": "23",
   "metadata": {
    "tags": []
   },
   "outputs": [],
   "source": [
    "# create adjusted csvs\n",
    "top_neuroharm_to_stroke = neuroharmonized_topmri[neuroharmonized_topmri.SITE == 0]\n",
    "stroke_neuroharm_to_top = neuroharmonized_topmri[neuroharmonized_topmri.SITE == 1] "
   ]
  },
  {
   "cell_type": "code",
   "execution_count": null,
   "id": "24",
   "metadata": {
    "tags": []
   },
   "outputs": [],
   "source": [
    "TOP.head(3)"
   ]
  },
  {
   "cell_type": "code",
   "execution_count": null,
   "id": "25",
   "metadata": {
    "tags": []
   },
   "outputs": [],
   "source": [
    "# reorganize to familair pattern\n",
    "column_to_move1 = stroke_neuroharm_to_top.pop(\"participant_id\")\n",
    "column_to_move2 = stroke_neuroharm_to_top.pop(\"age\")\n",
    "column_to_move3 = stroke_neuroharm_to_top.pop(\"sex\")\n",
    "tcolumn_to_move1 = top_neuroharm_to_stroke.pop(\"participant_id\")\n",
    "tcolumn_to_move2 = top_neuroharm_to_stroke.pop(\"age\")\n",
    "tcolumn_to_move3 = top_neuroharm_to_stroke.pop(\"sex\")\n",
    "stroke_neuroharm_to_top.insert(0, \"participant_id\", column_to_move1)\n",
    "stroke_neuroharm_to_top.insert(1, \"age\", column_to_move2)\n",
    "stroke_neuroharm_to_top.insert(2, \"sex\", column_to_move3)\n",
    "top_neuroharm_to_stroke.insert(0, \"participant_id\", tcolumn_to_move1)\n",
    "top_neuroharm_to_stroke.insert(1, \"age\", tcolumn_to_move2)\n",
    "top_neuroharm_to_stroke.insert(2, \"sex\", tcolumn_to_move3)"
   ]
  },
  {
   "cell_type": "code",
   "execution_count": null,
   "id": "26",
   "metadata": {
    "tags": []
   },
   "outputs": [],
   "source": [
    "top_neuroharm_to_stroke = top_neuroharm_to_stroke.drop('SITE', axis=1)\n",
    "stroke_neuroharm_to_top = stroke_neuroharm_to_top.drop('SITE', axis=1)\n",
    "stroke_neuroharm_to_top.columns"
   ]
  },
  {
   "cell_type": "code",
   "execution_count": null,
   "id": "27",
   "metadata": {
    "tags": []
   },
   "outputs": [],
   "source": [
    "top_neuroharm_to_stroke.to_csv('harm_results/neurocharm/top_neuroharm_to_stroke.csv')\n",
    "stroke_neuroharm_to_top.to_csv('harm_results/neurocharm/stroke_neuroharm_to_top.csv')"
   ]
  },
  {
   "cell_type": "code",
   "execution_count": null,
   "id": "28",
   "metadata": {
    "tags": []
   },
   "outputs": [],
   "source": [
    "print(type(top_neuroharm_to_stroke))"
   ]
  },
  {
   "cell_type": "code",
   "execution_count": null,
   "id": "29",
   "metadata": {
    "tags": []
   },
   "outputs": [],
   "source": [
    "# (sabre_vs_topmri_only[['gm_vol', 'wm_vol', 'csf_vol',\n",
    "#        'gm_icvratio', 'gmwm_icvratio', 'wmhvol_wmvol', 'wmh_count',\n",
    "#        'deepwm_b_cov', 'aca_b_cov', 'mca_b_cov', 'pca_b_cov', 'totalgm_b_cov',\n",
    "#        'deepwm_b_cbf', 'aca_b_cbf', 'mca_b_cbf', 'pca_b_cbf', 'totalgm_b_cbf',]] <0).sum()"
   ]
  },
  {
   "cell_type": "markdown",
   "id": "30",
   "metadata": {},
   "source": [
    "# Now we join top and StrokeMRI to one dataset and harmonize to other datasets individually"
   ]
  },
  {
   "cell_type": "code",
   "execution_count": null,
   "id": "31",
   "metadata": {
    "tags": []
   },
   "outputs": [],
   "source": [
    "unified_TOPMRI = TOPMRI.copy(deep=True)\n",
    "unified_TOPMRI = unified_TOPMRI.reset_index()\n",
    "unified_TOPMRI['site'] = 0\n",
    "unified_TOPMRI= unified_TOPMRI.drop('index', axis=1)\n",
    "unified_TOPMRI.head(3)"
   ]
  },
  {
   "cell_type": "code",
   "execution_count": null,
   "id": "32",
   "metadata": {
    "tags": []
   },
   "outputs": [],
   "source": [
    "#SABRE = SABRE.drop('Unnamed: 0', axis=1)\n",
    "#SABRE = SABRE.assign(sex = SABRE.sex.map(sex_mapping))\n",
    "#SABRE['site'] = 2\n",
    "SABRE.columns = SABRE.columns.str.lower()\n",
    "SABRE.head(2) "
   ]
  },
  {
   "cell_type": "code",
   "execution_count": null,
   "id": "33",
   "metadata": {
    "tags": []
   },
   "outputs": [],
   "source": [
    "SABRE['site'] = 2\n",
    "SABRE.head(3)"
   ]
  },
  {
   "cell_type": "code",
   "execution_count": null,
   "id": "34",
   "metadata": {
    "tags": []
   },
   "outputs": [],
   "source": [
    "TOPMRIvsSABRE= pd.concat([unified_TOPMRI, SABRE])\n",
    "TOPMRIvsSABRE = TOPMRIvsSABRE.reset_index()"
   ]
  },
  {
   "cell_type": "code",
   "execution_count": null,
   "id": "35",
   "metadata": {
    "tags": []
   },
   "outputs": [],
   "source": [
    "TOPMRIvsSABRE.columns"
   ]
  },
  {
   "cell_type": "code",
   "execution_count": null,
   "id": "36",
   "metadata": {
    "tags": []
   },
   "outputs": [],
   "source": [
    "TOPMRIvsSABRE_covariates = TOPMRIvsSABRE[['age', 'sex','site']]\n",
    "TOPMRIvsSABRE_covariates = TOPMRIvsSABRE_covariates.rename(columns={'site': 'SITE'})\n",
    "TOPMRIvsSABRE_covariates.head(3)"
   ]
  },
  {
   "cell_type": "code",
   "execution_count": null,
   "id": "37",
   "metadata": {
    "tags": []
   },
   "outputs": [],
   "source": [
    " TOPMRIvsSABRE_features = TOPMRIvsSABRE[common_features]\n",
    "TOPMRIvsSABRE_features_array = np.array(TOPMRIvsSABRE_features)"
   ]
  },
  {
   "cell_type": "code",
   "execution_count": null,
   "id": "38",
   "metadata": {
    "tags": []
   },
   "outputs": [],
   "source": [
    "my_model2, my_data_adj2 = harmonizationLearn(TOPMRIvsSABRE_features_array, TOPMRIvsSABRE_covariates)"
   ]
  },
  {
   "cell_type": "code",
   "execution_count": null,
   "id": "39",
   "metadata": {
    "tags": []
   },
   "outputs": [],
   "source": [
    "my_data_adj2"
   ]
  },
  {
   "cell_type": "code",
   "execution_count": null,
   "id": "40",
   "metadata": {
    "tags": []
   },
   "outputs": [],
   "source": [
    "# turn adjusted data into dataframe with column names, then add covariates, then participant IDs\n",
    "neuroharmonized_topmrivsabre = pd.DataFrame(\n",
    "    my_data_adj2, \n",
    "    columns = common_features\n",
    ")\n",
    "neuroharmonized_topmrivsabre =pd.concat([neuroharmonized_topmrivsabre, TOPMRIvsSABRE_covariates.reset_index()], axis=1)\n",
    "neuroharmonized_topmrivsabre = neuroharmonized_topmrivsabre.drop('index', axis=1)\n",
    "neuroharmonized_topmrivsabre = pd.concat([neuroharmonized_topmrivsabre, TOPMRIvsSABRE.participant_id.reset_index()], axis=1)\n",
    "neuroharmonized_topmrivsabre = neuroharmonized_topmrivsabre.drop('index', axis=1)\n",
    "neuroharmonized_topmrivsabre.head(3)"
   ]
  },
  {
   "cell_type": "code",
   "execution_count": null,
   "id": "41",
   "metadata": {
    "tags": []
   },
   "outputs": [],
   "source": [
    "# reorganize to familair pattern\n",
    "column_to_move1 = neuroharmonized_topmrivsabre.pop(\"participant_id\")\n",
    "column_to_move2 = neuroharmonized_topmrivsabre.pop(\"age\")\n",
    "column_to_move3 = neuroharmonized_topmrivsabre.pop(\"sex\")\n",
    "neuroharmonized_topmrivsabre.insert(0, \"participant_id\", column_to_move1)\n",
    "neuroharmonized_topmrivsabre.insert(1, \"age\", column_to_move2)\n",
    "neuroharmonized_topmrivsabre.insert(2, \"sex\", column_to_move3)"
   ]
  },
  {
   "cell_type": "code",
   "execution_count": null,
   "id": "42",
   "metadata": {
    "tags": []
   },
   "outputs": [],
   "source": [
    "# create adjusted csvs\n",
    "sabre_vs_topmri_only = neuroharmonized_topmrivsabre[neuroharmonized_topmrivsabre.SITE == 2]\n",
    "topmri_vs_sabre_only = neuroharmonized_topmrivsabre[neuroharmonized_topmrivsabre.SITE == 0] "
   ]
  },
  {
   "cell_type": "code",
   "execution_count": null,
   "id": "43",
   "metadata": {
    "tags": []
   },
   "outputs": [],
   "source": [
    "#topmri_vs_sabre_only"
   ]
  },
  {
   "cell_type": "code",
   "execution_count": null,
   "id": "44",
   "metadata": {
    "tags": []
   },
   "outputs": [],
   "source": [
    "sabre_vs_topmri_only = sabre_vs_topmri_only.drop('SITE', axis=1)\n",
    "topmri_vs_sabre_only  = topmri_vs_sabre_only .drop('SITE', axis=1)\n",
    "#topmri_vs_sabre_only.columns"
   ]
  },
  {
   "cell_type": "code",
   "execution_count": null,
   "id": "45",
   "metadata": {
    "tags": []
   },
   "outputs": [],
   "source": [
    "#sabre_vs_topmri_only"
   ]
  },
  {
   "cell_type": "code",
   "execution_count": null,
   "id": "46",
   "metadata": {
    "tags": []
   },
   "outputs": [],
   "source": [
    "sabre_vs_topmri_only.to_csv('harm_results/neurocharm/sabre_vs_topmri_only.csv') \n",
    "topmri_vs_sabre_only.to_csv('harm_results/neurocharm/topmri_vs_sabre_only.csv') "
   ]
  },
  {
   "cell_type": "code",
   "execution_count": null,
   "id": "47",
   "metadata": {
    "tags": []
   },
   "outputs": [],
   "source": [
    "Insight46['Site'] = 3\n",
    "Insight46.head(2) "
   ]
  },
  {
   "cell_type": "code",
   "execution_count": null,
   "id": "48",
   "metadata": {
    "tags": []
   },
   "outputs": [],
   "source": [
    "Insight46.columns = Insight46.columns.str.lower()"
   ]
  },
  {
   "cell_type": "code",
   "execution_count": null,
   "id": "49",
   "metadata": {
    "tags": []
   },
   "outputs": [],
   "source": [
    "TOPMRIvsInsight46= pd.concat([unified_TOPMRI, Insight46])\n",
    "TOPMRIvsInsight46 = TOPMRIvsInsight46.reset_index()"
   ]
  },
  {
   "cell_type": "code",
   "execution_count": null,
   "id": "50",
   "metadata": {
    "tags": []
   },
   "outputs": [],
   "source": [
    "TOPMRIvsInsight_covariates = TOPMRIvsInsight46[['age', 'sex','site']]\n",
    "TOPMRIvsInsight_covariates = TOPMRIvsInsight_covariates .rename(columns={'site': 'SITE'})\n",
    "TOPMRIvsInsight_covariates.head(3)"
   ]
  },
  {
   "cell_type": "code",
   "execution_count": null,
   "id": "51",
   "metadata": {
    "tags": []
   },
   "outputs": [],
   "source": [
    " TOPMRIvsInsight_features = TOPMRIvsInsight46[common_features]\n",
    "TOPMRIvsInsight_features_array = np.array(TOPMRIvsInsight_features)"
   ]
  },
  {
   "cell_type": "code",
   "execution_count": null,
   "id": "52",
   "metadata": {
    "tags": []
   },
   "outputs": [],
   "source": [
    "my_model3, my_data_adj3 = harmonizationLearn(TOPMRIvsInsight_features_array, TOPMRIvsInsight_covariates)"
   ]
  },
  {
   "cell_type": "code",
   "execution_count": null,
   "id": "53",
   "metadata": {
    "tags": []
   },
   "outputs": [],
   "source": [
    "my_data_adj3"
   ]
  },
  {
   "cell_type": "code",
   "execution_count": null,
   "id": "54",
   "metadata": {
    "tags": []
   },
   "outputs": [],
   "source": [
    "# turn adjusted data into dataframe with column names, then add covariates, then participant IDs\n",
    "neuroharmonized_topmrivinsight = pd.DataFrame(\n",
    "    my_data_adj3, \n",
    "    columns = common_features\n",
    ")\n",
    "neuroharmonized_topmrivinsight = pd.concat([neuroharmonized_topmrivinsight, TOPMRIvsInsight_covariates.reset_index()], axis=1)\n",
    "neuroharmonized_topmrivinsight = neuroharmonized_topmrivinsight.drop('index', axis=1)\n",
    "neuroharmonized_topmrivinsight = pd.concat([neuroharmonized_topmrivinsight, TOPMRIvsInsight46.participant_id.reset_index()], axis=1)\n",
    "neuroharmonized_topmrivinsight = neuroharmonized_topmrivinsight.drop('index', axis=1)\n",
    "neuroharmonized_topmrivinsight.head(3)"
   ]
  },
  {
   "cell_type": "code",
   "execution_count": null,
   "id": "55",
   "metadata": {
    "tags": []
   },
   "outputs": [],
   "source": [
    "#neuroharmonized_topmrivinsight"
   ]
  },
  {
   "cell_type": "code",
   "execution_count": null,
   "id": "56",
   "metadata": {
    "tags": []
   },
   "outputs": [],
   "source": [
    "# reorganize to familair pattern\n",
    "column_to_move1 = neuroharmonized_topmrivinsight.pop(\"participant_id\")\n",
    "column_to_move2 = neuroharmonized_topmrivinsight.pop(\"age\")\n",
    "column_to_move3 = neuroharmonized_topmrivinsight.pop(\"sex\")\n",
    "neuroharmonized_topmrivinsight.insert(0, \"participant_id\", column_to_move1)\n",
    "neuroharmonized_topmrivinsight.insert(1, \"age\", column_to_move2)\n",
    "neuroharmonized_topmrivinsight.insert(2, \"sex\", column_to_move3)"
   ]
  },
  {
   "cell_type": "code",
   "execution_count": null,
   "id": "57",
   "metadata": {
    "tags": []
   },
   "outputs": [],
   "source": [
    "# create adjusted csvs\n",
    "insight_vs_topmri_only = neuroharmonized_topmrivinsight[neuroharmonized_topmrivinsight.SITE == 3]\n",
    "topmri_vs_insight_only = neuroharmonized_topmrivinsight[neuroharmonized_topmrivinsight.SITE == 0] "
   ]
  },
  {
   "cell_type": "code",
   "execution_count": null,
   "id": "58",
   "metadata": {
    "tags": []
   },
   "outputs": [],
   "source": [
    "insight_vs_topmri_only  = insight_vs_topmri_only.drop('SITE', axis=1)\n",
    "topmri_vs_insight_only  = topmri_vs_insight_only.drop('SITE', axis=1)\n"
   ]
  },
  {
   "cell_type": "code",
   "execution_count": null,
   "id": "59",
   "metadata": {
    "tags": []
   },
   "outputs": [],
   "source": [
    "insight_vs_topmri_only"
   ]
  },
  {
   "cell_type": "code",
   "execution_count": null,
   "id": "60",
   "metadata": {
    "tags": []
   },
   "outputs": [],
   "source": [
    "insight_vs_topmri_only.to_csv('harm_results/neurocharm/insight_vs_topmri_only.csv') \n",
    "topmri_vs_insight_only.to_csv('harm_results/neurocharm/topmri_vs_insight_only.csv') "
   ]
  },
  {
   "cell_type": "code",
   "execution_count": null,
   "id": "61",
   "metadata": {
    "tags": []
   },
   "outputs": [],
   "source": [
    "EDIS['Site'] = 4\n",
    "EDIS.head(2) "
   ]
  },
  {
   "cell_type": "code",
   "execution_count": null,
   "id": "62",
   "metadata": {
    "tags": []
   },
   "outputs": [],
   "source": [
    "EDIS.columns = EDIS.columns.str.lower()"
   ]
  },
  {
   "cell_type": "code",
   "execution_count": null,
   "id": "63",
   "metadata": {
    "tags": []
   },
   "outputs": [],
   "source": [
    "TOPMRIvsEDIS = pd.concat([unified_TOPMRI, EDIS])\n",
    "TOPMRIvsEDIS = TOPMRIvsEDIS.reset_index()"
   ]
  },
  {
   "cell_type": "code",
   "execution_count": null,
   "id": "64",
   "metadata": {
    "tags": []
   },
   "outputs": [],
   "source": [
    "TOPMRIvsEDIS_covariates = TOPMRIvsEDIS[['age', 'sex','site']]\n",
    "TOPMRIvsEDIS_covariates = TOPMRIvsEDIS_covariates .rename(columns={'site': 'SITE'})\n",
    "TOPMRIvsEDIS_covariates.head(3)"
   ]
  },
  {
   "cell_type": "code",
   "execution_count": null,
   "id": "65",
   "metadata": {
    "tags": []
   },
   "outputs": [],
   "source": [
    "TOPMRIvsEDIS_features = TOPMRIvsEDIS[common_features]\n",
    "TOPMRIvsEDIS_features_array = np.array(TOPMRIvsEDIS_features)"
   ]
  },
  {
   "cell_type": "code",
   "execution_count": null,
   "id": "66",
   "metadata": {
    "tags": []
   },
   "outputs": [],
   "source": [
    "my_model4, my_data_adj4 = harmonizationLearn(TOPMRIvsEDIS_features_array, TOPMRIvsEDIS_covariates)"
   ]
  },
  {
   "cell_type": "code",
   "execution_count": null,
   "id": "67",
   "metadata": {
    "tags": []
   },
   "outputs": [],
   "source": [
    "my_data_adj4"
   ]
  },
  {
   "cell_type": "code",
   "execution_count": null,
   "id": "68",
   "metadata": {
    "tags": []
   },
   "outputs": [],
   "source": [
    "# turn adjusted data into dataframe with column names, then add covariates, then participant IDs\n",
    "neuroharmonized_topmrivedis = pd.DataFrame(\n",
    "    my_data_adj4, \n",
    "    columns = common_features\n",
    ")\n",
    "neuroharmonized_topmrivedis = pd.concat([neuroharmonized_topmrivedis, TOPMRIvsEDIS_covariates.reset_index()], axis=1)\n",
    "neuroharmonized_topmrivedis = neuroharmonized_topmrivedis.drop('index', axis=1)\n",
    "neuroharmonized_topmrivedis = pd.concat([neuroharmonized_topmrivedis, TOPMRIvsEDIS.participant_id.reset_index()], axis=1)\n",
    "neuroharmonized_topmrivedis = neuroharmonized_topmrivedis.drop('index', axis=1)\n",
    "neuroharmonized_topmrivedis.head(3)"
   ]
  },
  {
   "cell_type": "code",
   "execution_count": null,
   "id": "69",
   "metadata": {},
   "outputs": [],
   "source": []
  },
  {
   "cell_type": "code",
   "execution_count": null,
   "id": "70",
   "metadata": {
    "tags": []
   },
   "outputs": [],
   "source": [
    "# reorganize to familair pattern\n",
    "column_to_move1 = neuroharmonized_topmrivedis.pop(\"participant_id\")\n",
    "column_to_move2 = neuroharmonized_topmrivedis.pop(\"age\")\n",
    "column_to_move3 = neuroharmonized_topmrivedis.pop(\"sex\")\n",
    "neuroharmonized_topmrivedis.insert(0, \"participant_id\", column_to_move1)\n",
    "neuroharmonized_topmrivedis.insert(1, \"age\", column_to_move2)\n",
    "neuroharmonized_topmrivedis.insert(2, \"sex\", column_to_move3)"
   ]
  },
  {
   "cell_type": "code",
   "execution_count": null,
   "id": "71",
   "metadata": {
    "tags": []
   },
   "outputs": [],
   "source": [
    "# create adjusted csvs\n",
    "edis_vs_topmri_only = neuroharmonized_topmrivedis[neuroharmonized_topmrivedis.SITE == 4]\n",
    "topmri_vs_edis_only = neuroharmonized_topmrivedis[neuroharmonized_topmrivedis.SITE == 0] "
   ]
  },
  {
   "cell_type": "code",
   "execution_count": null,
   "id": "72",
   "metadata": {
    "tags": []
   },
   "outputs": [],
   "source": [
    "edis_vs_topmri_only  = edis_vs_topmri_only.drop('SITE', axis=1)\n",
    "topmri_vs_edis_only  = topmri_vs_edis_only.drop('SITE', axis=1)\n"
   ]
  },
  {
   "cell_type": "code",
   "execution_count": null,
   "id": "73",
   "metadata": {
    "tags": []
   },
   "outputs": [],
   "source": [
    "#edis_vs_topmri_only"
   ]
  },
  {
   "cell_type": "code",
   "execution_count": null,
   "id": "74",
   "metadata": {
    "tags": []
   },
   "outputs": [],
   "source": [
    "edis_vs_topmri_only.to_csv('harm_results/neurocharm/edis_vs_topmri_only.csv') \n",
    "topmri_vs_edis_only.to_csv('harm_results/neurocharm/topmri_vs_edis_only.csv') "
   ]
  },
  {
   "cell_type": "code",
   "execution_count": null,
   "id": "75",
   "metadata": {
    "tags": []
   },
   "outputs": [],
   "source": [
    "HELIUS['Site'] = 5\n",
    "HELIUS.head(2) "
   ]
  },
  {
   "cell_type": "code",
   "execution_count": null,
   "id": "76",
   "metadata": {
    "tags": []
   },
   "outputs": [],
   "source": [
    "HELIUS.columns = HELIUS.columns.str.lower()"
   ]
  },
  {
   "cell_type": "code",
   "execution_count": null,
   "id": "77",
   "metadata": {
    "tags": []
   },
   "outputs": [],
   "source": [
    "TOPMRIvsHELIUS = pd.concat([unified_TOPMRI, HELIUS])\n",
    "TOPMRIvsHELIUS = TOPMRIvsHELIUS.reset_index()"
   ]
  },
  {
   "cell_type": "code",
   "execution_count": null,
   "id": "78",
   "metadata": {
    "tags": []
   },
   "outputs": [],
   "source": [
    "TOPMRIvsHELIUS_covariates = TOPMRIvsHELIUS[['age', 'sex','site']]\n",
    "TOPMRIvsHELIUS_covariates = TOPMRIvsHELIUS_covariates .rename(columns={'site': 'SITE'})\n",
    "TOPMRIvsHELIUS_covariates.head(3)"
   ]
  },
  {
   "cell_type": "code",
   "execution_count": null,
   "id": "79",
   "metadata": {
    "tags": []
   },
   "outputs": [],
   "source": [
    "TOPMRIvsHELIUS_features = TOPMRIvsHELIUS[common_features]\n",
    "TOPMRIvsHELIUS_features_array = np.array(TOPMRIvsHELIUS_features)"
   ]
  },
  {
   "cell_type": "code",
   "execution_count": null,
   "id": "80",
   "metadata": {
    "tags": []
   },
   "outputs": [],
   "source": [
    "my_model5, my_data_adj5 = harmonizationLearn(TOPMRIvsHELIUS_features_array, TOPMRIvsHELIUS_covariates)"
   ]
  },
  {
   "cell_type": "code",
   "execution_count": null,
   "id": "81",
   "metadata": {
    "tags": []
   },
   "outputs": [],
   "source": [
    "my_data_adj5"
   ]
  },
  {
   "cell_type": "code",
   "execution_count": null,
   "id": "82",
   "metadata": {
    "tags": []
   },
   "outputs": [],
   "source": [
    "# turn adjusted data into dataframe with column names, then add covariates, then participant IDs\n",
    "neuroharmonized_topmrivhelius = pd.DataFrame(\n",
    "    my_data_adj5, \n",
    "    columns = common_features\n",
    ")\n",
    "neuroharmonized_topmrivhelius = pd.concat([neuroharmonized_topmrivhelius, TOPMRIvsHELIUS_covariates.reset_index()], axis=1)\n",
    "neuroharmonized_topmrivhelius = neuroharmonized_topmrivhelius.drop('index', axis=1)\n",
    "neuroharmonized_topmrivhelius = pd.concat([neuroharmonized_topmrivhelius, TOPMRIvsHELIUS.participant_id.reset_index()], axis=1)\n",
    "neuroharmonized_topmrivhelius = neuroharmonized_topmrivhelius.drop('index', axis=1)\n",
    "neuroharmonized_topmrivhelius.head(3)"
   ]
  },
  {
   "cell_type": "code",
   "execution_count": null,
   "id": "83",
   "metadata": {
    "tags": []
   },
   "outputs": [],
   "source": [
    "# reorganize to familair pattern\n",
    "column_to_move1 = neuroharmonized_topmrivhelius.pop(\"participant_id\")\n",
    "column_to_move2 = neuroharmonized_topmrivhelius.pop(\"age\")\n",
    "column_to_move3 = neuroharmonized_topmrivhelius.pop(\"sex\")\n",
    "neuroharmonized_topmrivhelius.insert(0, \"participant_id\", column_to_move1)\n",
    "neuroharmonized_topmrivhelius.insert(1, \"age\", column_to_move2)\n",
    "neuroharmonized_topmrivhelius.insert(2, \"sex\", column_to_move3)"
   ]
  },
  {
   "cell_type": "code",
   "execution_count": null,
   "id": "84",
   "metadata": {
    "tags": []
   },
   "outputs": [],
   "source": [
    "neuroharmonized_topmrivhelius"
   ]
  },
  {
   "cell_type": "code",
   "execution_count": null,
   "id": "85",
   "metadata": {
    "tags": []
   },
   "outputs": [],
   "source": [
    "# create adjusted csvs\n",
    "helius_vs_topmri_only = neuroharmonized_topmrivhelius[neuroharmonized_topmrivhelius.SITE == 5]\n",
    "topmri_vs_helius_only = neuroharmonized_topmrivhelius[neuroharmonized_topmrivhelius.SITE == 0] "
   ]
  },
  {
   "cell_type": "code",
   "execution_count": null,
   "id": "86",
   "metadata": {
    "tags": []
   },
   "outputs": [],
   "source": [
    "helius_vs_topmri_only  = helius_vs_topmri_only.drop('SITE', axis=1)\n",
    "topmri_vs_helius_only  = topmri_vs_helius_only.drop('SITE', axis=1)\n"
   ]
  },
  {
   "cell_type": "code",
   "execution_count": null,
   "id": "87",
   "metadata": {
    "tags": []
   },
   "outputs": [],
   "source": [
    "helius_vs_topmri_only"
   ]
  },
  {
   "cell_type": "code",
   "execution_count": null,
   "id": "88",
   "metadata": {
    "tags": []
   },
   "outputs": [],
   "source": [
    "helius_vs_topmri_only.to_csv('harm_results/neurocharm/helius_vs_topmri_only.csv') \n",
    "topmri_vs_helius_only.to_csv('harm_results/neurocharm/topmri_vs_helius_only.csv') "
   ]
  },
  {
   "cell_type": "markdown",
   "id": "89",
   "metadata": {},
   "source": [
    "# Now we will do five way harmonization- TOPMRI vs. SAbre vs. Insigh46 vs. EDIS vs. others"
   ]
  },
  {
   "cell_type": "code",
   "execution_count": null,
   "id": "90",
   "metadata": {
    "tags": []
   },
   "outputs": [],
   "source": [
    "#this is all pending from here forward, we await the permissions on the other dataset"
   ]
  },
  {
   "cell_type": "code",
   "execution_count": null,
   "id": "91",
   "metadata": {
    "tags": []
   },
   "outputs": [],
   "source": [
    "TOPMRIvsSABRvsInisghvsEDISvsHELIUS = pd.concat([unified_TOPMRI, SABRE, Insight46, EDIS, HELIUS])\n",
    "TOPMRIvsSABRvsInisghvsEDISvsHELIUS = TOPMRIvsSABRvsInisghvsEDISvsHELIUS.reset_index()"
   ]
  },
  {
   "cell_type": "code",
   "execution_count": null,
   "id": "92",
   "metadata": {
    "tags": []
   },
   "outputs": [],
   "source": [
    "TOPMRIvsSABRvsInisghvsEDISvsHELIUS_covariates = TOPMRIvsSABRvsInisghvsEDISvsHELIUS[['age', 'sex','site']]\n",
    "TOPMRIvsSABRvsInisghvsEDISvsHELIUS_covariates = TOPMRIvsSABRvsInisghvsEDISvsHELIUS_covariates.rename(columns={'site': 'SITE'})\n",
    "TOPMRIvsSABRvsInisghvsEDISvsHELIUS_covariates.head(3)"
   ]
  },
  {
   "cell_type": "code",
   "execution_count": null,
   "id": "93",
   "metadata": {
    "tags": []
   },
   "outputs": [],
   "source": [
    "TOPMRIvsSABRvsInisghvsEDISvsHELIUS.columns"
   ]
  },
  {
   "cell_type": "code",
   "execution_count": null,
   "id": "94",
   "metadata": {
    "tags": []
   },
   "outputs": [],
   "source": [
    "TOPMRIvsSABRvsInisghvsEDISvsHELIUS_features = TOPMRIvsSABRvsInisghvsEDISvsHELIUS[[ \n",
    "     'gm_vol',\n",
    "       'wm_vol', 'csf_vol', 'gm_icvratio', 'gmwm_icvratio', 'wmhvol_wmvol',\n",
    "       'wmh_count', 'aca_b_cov', 'mca_b_cov', 'pca_b_cov',\n",
    "       'totalgm_b_cov', 'aca_b_cbf', 'mca_b_cbf', 'pca_b_cbf',\n",
    "       'totalgm_b_cbf'\n",
    "]]\n",
    "TOPMRIvsSABRvsInisghvsEDISvsHELIUS_features_array = np.array(TOPMRIvsSABRvsInisghvsEDISvsHELIUS_features)"
   ]
  },
  {
   "cell_type": "code",
   "execution_count": null,
   "id": "95",
   "metadata": {
    "tags": []
   },
   "outputs": [],
   "source": [
    "my_modelA, my_data_adjA = harmonizationLearn(TOPMRIvsSABRvsInisghvsEDISvsHELIUS_features_array, TOPMRIvsSABRvsInisghvsEDISvsHELIUS_covariates)"
   ]
  },
  {
   "cell_type": "code",
   "execution_count": null,
   "id": "96",
   "metadata": {
    "tags": []
   },
   "outputs": [],
   "source": [
    "my_data_adjA"
   ]
  },
  {
   "cell_type": "code",
   "execution_count": null,
   "id": "97",
   "metadata": {
    "tags": []
   },
   "outputs": [],
   "source": [
    "# turn adjusted data into dataframe with column names, then add covariates, then participant IDs\n",
    "neuroharmonized_A= pd.DataFrame(\n",
    "    my_data_adjA, \n",
    "    columns = ['gm_vol',\n",
    "       'wm_vol', 'csf_vol', 'gm_icvratio', 'gmwm_icvratio', 'wmhvol_wmvol',\n",
    "       'wmh_count', 'aca_b_cov', 'mca_b_cov', 'pca_b_cov',\n",
    "       'totalgm_b_cov','aca_b_cbf', 'mca_b_cbf', 'pca_b_cbf',\n",
    "       'totalgm_b_cbf']\n",
    ")\n",
    "neuroharmonized_A =pd.concat([neuroharmonized_A, TOPMRIvsSABRvsInisghvsEDISvsHELIUS_covariates .reset_index()], axis=1)\n",
    "neuroharmonized_A = neuroharmonized_A.drop('index', axis=1)\n",
    "neuroharmonized_A = pd.concat([neuroharmonized_A, TOPMRIvsSABRvsInisghvsEDISvsHELIUS.participant_id.reset_index()], axis=1)\n",
    "neuroharmonized_A = neuroharmonized_A.drop('index', axis=1)\n",
    "neuroharmonized_A.head(3)"
   ]
  },
  {
   "cell_type": "code",
   "execution_count": null,
   "id": "98",
   "metadata": {
    "tags": []
   },
   "outputs": [],
   "source": [
    "# reorganize to familair pattern\n",
    "column_to_move1 = neuroharmonized_A.pop(\"participant_id\")\n",
    "column_to_move2 = neuroharmonized_A.pop(\"age\")\n",
    "column_to_move3 = neuroharmonized_A.pop(\"sex\")\n",
    "neuroharmonized_A.insert(0, \"participant_id\", column_to_move1)\n",
    "neuroharmonized_A.insert(1, \"age\", column_to_move2)\n",
    "neuroharmonized_A.insert(2, \"sex\", column_to_move3)"
   ]
  },
  {
   "cell_type": "code",
   "execution_count": null,
   "id": "99",
   "metadata": {
    "tags": []
   },
   "outputs": [],
   "source": [
    "# create adjusted csvs\n",
    "insight_vs_topmri_5way= neuroharmonized_A[neuroharmonized_A.SITE == 3]\n",
    "sabre_vs_topmri_5way = neuroharmonized_A[neuroharmonized_A.SITE == 2]\n",
    "topmri_vs_sabre_5way = neuroharmonized_A[neuroharmonized_A.SITE == 0] \n",
    "edis_vs_topmri_5way= neuroharmonized_A[neuroharmonized_A.SITE == 4]\n",
    "helius_vs_topmri_5way = neuroharmonized_A[neuroharmonized_A.SITE == 5]"
   ]
  },
  {
   "cell_type": "code",
   "execution_count": null,
   "id": "100",
   "metadata": {
    "tags": []
   },
   "outputs": [],
   "source": [
    "insight_vs_topmri_5way = insight_vs_topmri_5way.drop('SITE', axis=1)\n",
    "sabre_vs_topmri_5way = sabre_vs_topmri_5way.drop('SITE', axis=1) \n",
    "topmri_vs_sabre_5way = topmri_vs_sabre_5way.drop('SITE', axis=1)  \n",
    "\n",
    "edis_vs_topmri_5way = edis_vs_topmri_5way.drop('SITE', axis=1) \n",
    "helius_vs_topmri_5way = helius_vs_topmri_5way.drop('SITE', axis=1) "
   ]
  },
  {
   "cell_type": "code",
   "execution_count": null,
   "id": "101",
   "metadata": {
    "tags": []
   },
   "outputs": [],
   "source": [
    "helius_vs_topmri_5way "
   ]
  },
  {
   "cell_type": "code",
   "execution_count": null,
   "id": "102",
   "metadata": {
    "tags": []
   },
   "outputs": [],
   "source": [
    "insight_vs_topmri_5way.to_csv('harm_results/neurocharm/insight_vs_topmri_5way.csv')\n",
    "helius_vs_topmri_5way.to_csv('harm_results/neurocharm/helius_vs_topmri_5way.csv')\n",
    "sabre_vs_topmri_5way.to_csv('harm_results/neurocharm/sabre_vs_topmri_5way.csv')\n",
    "topmri_vs_sabre_5way.to_csv('harm_results/neurocharm/topmri_vs_sabre_5way.csv')\n",
    "edis_vs_topmri_5way.to_csv('harm_results/neurocharm/edis_vs_topmri_5way.csv')"
   ]
  },
  {
   "cell_type": "code",
   "execution_count": null,
   "id": "103",
   "metadata": {},
   "outputs": [],
   "source": [
    "# end of notebook!"
   ]
  },
  {
   "cell_type": "code",
   "execution_count": null,
   "id": "104",
   "metadata": {
    "tags": []
   },
   "outputs": [],
   "source": [
    "insight_vs_topmri_5way"
   ]
  },
  {
   "cell_type": "code",
   "execution_count": null,
   "id": "3a33fa02-3626-43fc-8b10-e4657e688792",
   "metadata": {},
   "outputs": [],
   "source": []
  },
  {
   "cell_type": "code",
   "execution_count": null,
   "id": "39018bf7-6483-404b-a41a-321609807197",
   "metadata": {},
   "outputs": [],
   "source": []
  },
  {
   "cell_type": "code",
   "execution_count": null,
   "id": "149e5af2-3018-4066-946d-8d1ba37c2a6d",
   "metadata": {},
   "outputs": [],
   "source": []
  }
 ],
 "metadata": {
  "kernelspec": {
   "display_name": "Python 3 (ipykernel)",
   "language": "python",
   "name": "python3"
  },
  "language_info": {
   "codemirror_mode": {
    "name": "ipython",
    "version": 3
   },
   "file_extension": ".py",
   "mimetype": "text/x-python",
   "name": "python",
   "nbconvert_exporter": "python",
   "pygments_lexer": "ipython3",
   "version": "3.12.1"
  }
 },
 "nbformat": 4,
 "nbformat_minor": 5
}
