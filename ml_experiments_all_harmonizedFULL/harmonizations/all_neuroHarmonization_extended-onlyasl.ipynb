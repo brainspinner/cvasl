{
 "cells": [
  {
   "cell_type": "markdown",
   "id": "0",
   "metadata": {},
   "source": [
    "# Neuroharmonize datasets"
   ]
  },
  {
   "cell_type": "markdown",
   "id": "1",
   "metadata": {},
   "source": [
    "This is a notebook to apply neuroHarmonize: a ComBat-GAM  non-linear allowing algorithm over our data to create neuroHarmonized datasets. It should be run in the `neurogamy` environment, . Herewe harmonize only cvasl parameters"
   ]
  },
  {
   "cell_type": "code",
   "execution_count": null,
   "id": "2",
   "metadata": {
    "tags": []
   },
   "outputs": [],
   "source": [
    "import os\n",
    "import sys\n",
    "from neuroHarmonize import harmonizationLearn\n",
    "import pandas as pd\n",
    "import numpy as np\n",
    "\n",
    "# sys.path.insert(0, '../../') # path to functions\n",
    "\n",
    "# import cvasl.seperated as sep"
   ]
  },
  {
   "cell_type": "code",
   "execution_count": null,
   "id": "8c22fe5d-2a92-425d-b91e-d9bb30868fda",
   "metadata": {},
   "outputs": [],
   "source": [
    "EDIS = pd.read_csv('../new_data/TrainingDataComplete_EDIS.csv')\n",
    "HELIUS = pd.read_csv('../new_data/TrainingDataComplete_HELIUS.csv')\n",
    "SABRE = pd.read_csv('../new_data/TrainingDataComplete_SABRE.csv')\n",
    "MRI = pd.read_csv('../new_data/TrainingDataComplete_StrokeMRI.csv')\n",
    "TOP = pd.read_csv('../new_data/TrainingDataComplete_TOP.csv')\n",
    "Insight46 = pd.read_csv('../new_data/TrainingDataComplete_Insight46.csv')\n",
    "#TOP"
   ]
  },
  {
   "cell_type": "code",
   "execution_count": null,
   "id": "5",
   "metadata": {
    "tags": []
   },
   "outputs": [],
   "source": [
    "HELIUS.tail(3)"
   ]
  },
  {
   "cell_type": "code",
   "execution_count": null,
   "id": "6",
   "metadata": {
    "tags": []
   },
   "outputs": [],
   "source": [
    "TOP['Site'] = 0\n",
    "MRI['Site'] = 1\n",
    "MRI.head(3)"
   ]
  },
  {
   "cell_type": "code",
   "execution_count": null,
   "id": "7",
   "metadata": {
    "tags": []
   },
   "outputs": [],
   "source": [
    "## We found there is one aprticipant from two seperate sights (HELIUS and SABRE) named the same. There fore we will show and switch this"
   ]
  },
  {
   "cell_type": "code",
   "execution_count": null,
   "id": "8",
   "metadata": {
    "tags": []
   },
   "outputs": [],
   "source": [
    "HELIUS[HELIUS['participant_id']=='sub-153852_1']"
   ]
  },
  {
   "cell_type": "code",
   "execution_count": null,
   "id": "9",
   "metadata": {
    "tags": []
   },
   "outputs": [],
   "source": [
    "SABRE[SABRE['participant_id']=='sub-153852_1']"
   ]
  },
  {
   "cell_type": "code",
   "execution_count": null,
   "id": "10",
   "metadata": {
    "tags": []
   },
   "outputs": [],
   "source": [
    "HELIUS.loc[HELIUS['participant_id']=='sub-153852_1', 'participant_id'] = 'sub-153852_1H'"
   ]
  },
  {
   "cell_type": "code",
   "execution_count": null,
   "id": "11",
   "metadata": {
    "tags": []
   },
   "outputs": [],
   "source": [
    "TOP.head(3)"
   ]
  },
  {
   "cell_type": "markdown",
   "id": "12",
   "metadata": {
    "tags": []
   },
   "source": [
    "# Here we will harmonize just TOP and StrokeMRI"
   ]
  },
  {
   "cell_type": "code",
   "execution_count": null,
   "id": "13",
   "metadata": {
    "tags": []
   },
   "outputs": [],
   "source": [
    "TOPMRI = pd.concat([TOP, MRI])\n",
    "TOPMRI.head(3) "
   ]
  },
  {
   "cell_type": "code",
   "execution_count": null,
   "id": "14",
   "metadata": {
    "tags": []
   },
   "outputs": [],
   "source": [
    "TOPMRI.tail(3)"
   ]
  },
  {
   "cell_type": "code",
   "execution_count": null,
   "id": "15",
   "metadata": {
    "tags": []
   },
   "outputs": [],
   "source": [
    "TOPMRI.columns"
   ]
  },
  {
   "cell_type": "code",
   "execution_count": null,
   "id": "2462a857-8b37-4d5a-ad93-e7e2bda280b9",
   "metadata": {},
   "outputs": [],
   "source": [
    "TOPMRI.Labelling.unique()"
   ]
  },
  {
   "cell_type": "markdown",
   "id": "eabcb300-8785-40ed-a163-38792e143a87",
   "metadata": {},
   "source": [
    "We will transform M0 to a 1 for no, and 2 for yes.  We will make 3D spiral 1, and PCASL labelling 1"
   ]
  },
  {
   "cell_type": "code",
   "execution_count": null,
   "id": "ec98eb96-866a-46a1-a3d8-d5fab7772a10",
   "metadata": {},
   "outputs": [],
   "source": [
    "TOPMRI.Site.unique()"
   ]
  },
  {
   "cell_type": "code",
   "execution_count": null,
   "id": "27b91c6a-170b-4045-9d7a-2ef80ceca14d",
   "metadata": {},
   "outputs": [],
   "source": [
    "datasets = [TOPMRI, TOP, MRI, SABRE, HELIUS, EDIS, Insight46]\n",
    "\n",
    "\n",
    "def deal_with_readout_and_labelling(dataframes_list, droppies):\n",
    "    \"\"\"\n",
    "    This function takes a list of asl containing dataframes\n",
    "    of extracted MRI parameters and converts some of the ASL\n",
    "    parameters to numerical values so they can be used for\n",
    "    machine learning.\n",
    "\n",
    "\n",
    "    :param dataframes_list: list of dataframes\n",
    "    :type dataframes_list: list\n",
    "    :param droppies: list of columns to drop\n",
    "    :type droppies: list\n",
    "\n",
    "\n",
    "    :returns: list of dataframes transformed\n",
    "    :rtype: list\n",
    "    \"\"\"\n",
    "    new_frames = []\n",
    "    for frame in dataframes_list:\n",
    "        frame.M0 = frame.M0.replace(to_replace=['No', 'Yes'], value=[1, 2])\n",
    "        frame.Readout = frame.Readout.replace(\n",
    "            to_replace=['3DSpiral', '2DEPI', '3DGRASE'],\n",
    "            value=[1, 2, 3]\n",
    "        )\n",
    "        frame.Labelling = frame.Labelling.replace(\n",
    "            to_replace=['PCASL', 'PASL'],\n",
    "            value=[1, 2]\n",
    "        )\n",
    "        frame = frame.drop(droppies, axis=1)\n",
    "        new_frames.append(frame)\n",
    "    return new_frames\n",
    "\n",
    "new_frames = deal_with_readout_and_labelling(datasets, ['M0'])"
   ]
  },
  {
   "cell_type": "code",
   "execution_count": null,
   "id": "2bcbea64-f1c4-41fc-9008-9e017e9df4c8",
   "metadata": {},
   "outputs": [],
   "source": [
    "# check all is in order\n",
    "#datasets = [TOPMRI, TOP, MRI, SABRE, HELIUS, EDIS, Insight46]\n",
    "for frame in new_frames:\n",
    "    print(len(frame))\n",
    "print(len(TOPMRI))\n",
    "print(len(TOP))\n",
    "print(len(MRI))\n",
    "print(len(SABRE))\n",
    "print(len(HELIUS))\n",
    "print(len(EDIS))\n",
    "print(len(Insight46))"
   ]
  },
  {
   "cell_type": "code",
   "execution_count": null,
   "id": "53efff3c-6649-4fc0-99a3-de30f29bbd3f",
   "metadata": {},
   "outputs": [],
   "source": [
    "print(MRI.Site.unique())"
   ]
  },
  {
   "cell_type": "code",
   "execution_count": null,
   "id": "b53344e2-e2e0-43e6-81f0-d02c32996b60",
   "metadata": {},
   "outputs": [],
   "source": [
    "for frame in new_frames:\n",
    "    print(len(frame))\n",
    "print(len(TOPMRI))\n",
    "print(len(TOP))\n",
    "print(len(MRI))\n",
    "print(len(SABRE))\n",
    "print(len(HELIUS))\n",
    "print(len(EDIS))\n",
    "print(len(Insight46))"
   ]
  },
  {
   "cell_type": "code",
   "execution_count": null,
   "id": "473a9d82-e2e7-49a4-9254-12a54f5fb331",
   "metadata": {},
   "outputs": [],
   "source": [
    "#new_frames[0]\n",
    "TOPMRI = new_frames[0]\n",
    "TOP = new_frames[1]\n",
    "MRI = new_frames[2]\n",
    "SABRE = new_frames[3]\n",
    "HELIUS = new_frames[4]\n",
    "EDIS = new_frames[5]\n",
    "Insight46 = new_frames[6]"
   ]
  },
  {
   "cell_type": "code",
   "execution_count": null,
   "id": "fb841f71-5b72-4be0-858b-f1241221bf83",
   "metadata": {},
   "outputs": [],
   "source": [
    "TOPMRI.columns= TOPMRI.columns.str.lower()\n",
    "TOPMRI"
   ]
  },
  {
   "cell_type": "code",
   "execution_count": null,
   "id": "a8f73c61-af30-41e8-8c5f-91851dde7981",
   "metadata": {},
   "outputs": [],
   "source": [
    "# TOP.M0 = TOP.M0.replace(to_replace=['No', 'Yes'], value=[1, 2])\n",
    "# TOP.Readout = TOP.Readout.replace(to_replace=['3DSpiral'], value=[1])\n",
    "# TOP.Labelling = TOP.Labelling.replace(to_replace=['PCASL'], value=[1])"
   ]
  },
  {
   "cell_type": "code",
   "execution_count": null,
   "id": "da3d5a0b-10a5-4f8a-b916-7838bc922f34",
   "metadata": {},
   "outputs": [],
   "source": [
    "# MRI.M0 = MRI.M0.replace(to_replace=['No', 'Yes'], value=[1, 2])\n",
    "# MRI.Readout = MRI.Readout.replace(to_replace=['3DSpiral'], value=[1])\n",
    "# MRI.Labelling = MRI.Labelling.replace(to_replace=['PCASL'], value=[1])"
   ]
  },
  {
   "cell_type": "code",
   "execution_count": null,
   "id": "c8bb564e-bb16-47b6-8292-9d34e5198f11",
   "metadata": {},
   "outputs": [],
   "source": [
    "# HELIUS.M0 = HELIUS.M0.replace(to_replace=['No', 'Yes'], value=[1, 2])\n",
    "# HELIUS.Readout = HELIUS.Readout.replace(to_replace=['2DEPI'], value=[4])\n",
    "# HELIUS.Labelling = HELIUS.Labelling.replace(to_replace=['PCASL'], value=[1])\n",
    "# HELIUS"
   ]
  },
  {
   "cell_type": "code",
   "execution_count": null,
   "id": "6e8f0006-bd5b-4353-a1a8-ee68f3f44244",
   "metadata": {},
   "outputs": [],
   "source": [
    "# EDIS.M0 = EDIS.M0.replace(to_replace=['No', 'Yes'], value=[1, 2])\n",
    "# EDIS.Readout = EDIS.Readout.replace(to_replace=['2DEPI'], value=[4])\n",
    "# EDIS.Labelling = EDIS.Labelling.replace(to_replace=['PASL'], value=[1])\n"
   ]
  },
  {
   "cell_type": "code",
   "execution_count": null,
   "id": "7c64f2d6-4728-459b-bd0a-c302b454a5dc",
   "metadata": {},
   "outputs": [],
   "source": [
    "# Insight46.M0 = Insight46.M0.replace(to_replace=['No', 'Yes'], value=[1, 2])\n",
    "# Insight46.Readout = Insight46.Readout.replace(to_replace=['3DGRASE'], value=[3])\n",
    "# Insight46.Labelling = Insight46.Labelling.replace(to_replace=['PCASL'], value=[1])\n",
    "# #Insight46"
   ]
  },
  {
   "cell_type": "code",
   "execution_count": null,
   "id": "b0dd051a-ba1a-4772-b520-847ad5424e78",
   "metadata": {},
   "outputs": [],
   "source": [
    "# SABRE.M0 = SABRE.M0.replace(to_replace=['No', 'Yes'], value=[1, 2])\n",
    "# SABRE.Readout = SABRE.Readout.replace(to_replace=['2DEPI'], value=[2])\n",
    "# SABRE.Labelling = SABRE.Labelling.replace(to_replace=['PCASL'], value=[1])"
   ]
  },
  {
   "cell_type": "code",
   "execution_count": null,
   "id": "9e8ad98e-0406-411c-a3f2-295c9a94fa07",
   "metadata": {},
   "outputs": [],
   "source": [
    "#TOPMRI.m0"
   ]
  },
  {
   "cell_type": "code",
   "execution_count": null,
   "id": "d6c59660-db99-4338-991b-1963b0f535b5",
   "metadata": {},
   "outputs": [],
   "source": [
    "# for column in TOPMRI.columns:\n",
    "#     print(column)\n",
    "#     print(type(TOPMRI[column].head(1).item()))"
   ]
  },
  {
   "cell_type": "markdown",
   "id": "ac7e9dfe-cb28-4f1b-bbab-efb632ddf502",
   "metadata": {},
   "source": [
    "For neuroharmonize in this case we will not include labelling, readout, ld or pld or m0"
   ]
  },
  {
   "cell_type": "code",
   "execution_count": null,
   "id": "1187eaad-f528-499c-a033-9c8947396c29",
   "metadata": {
    "tags": []
   },
   "outputs": [],
   "source": [
    "# For neuroharmonization we do not use 'ld', 'pld', 'labelling', or 'readout' at all"
   ]
  },
  {
   "cell_type": "code",
   "execution_count": null,
   "id": "17",
   "metadata": {
    "tags": []
   },
   "outputs": [],
   "source": [
    "unharm_features = ['participant_id','gm_vol', 'wm_vol',\n",
    "       'csf_vol', 'gm_icvratio', 'gmwm_icvratio', 'wmhvol_wmvol', 'wmh_count',]\n",
    "       #'ld', 'pld', 'labelling', 'readout', 'm0']\n",
    "features_to_harmonize = ['deepwm_b_cov', 'aca_b_cov', 'mca_b_cov', 'pca_b_cov', 'totalgm_b_cov',\n",
    "       'deepwm_b_cbf', 'aca_b_cbf', 'mca_b_cbf', 'pca_b_cbf', 'totalgm_b_cbf',]"
   ]
  },
  {
   "cell_type": "code",
   "execution_count": null,
   "id": "6db630b9-5958-4f26-b112-94d1b13f0869",
   "metadata": {
    "tags": []
   },
   "outputs": [],
   "source": [
    "TOPMRI"
   ]
  },
  {
   "cell_type": "code",
   "execution_count": null,
   "id": "18",
   "metadata": {
    "tags": []
   },
   "outputs": [],
   "source": [
    "TOPMRI_semi_features = TOPMRI[unharm_features]\n",
    "TOPMRI_features = TOPMRI[features_to_harmonize]\n",
    "TOPMRI_covariates = TOPMRI[['age', 'sex','site']]\n",
    "TOPMRI_covariates = TOPMRI_covariates.rename(columns={'site': 'SITE'})\n",
    "TOPMRI_covariates.head(3)"
   ]
  },
  {
   "cell_type": "code",
   "execution_count": null,
   "id": "19",
   "metadata": {
    "tags": []
   },
   "outputs": [],
   "source": [
    "#TOPMRI_features "
   ]
  },
  {
   "cell_type": "code",
   "execution_count": null,
   "id": "20",
   "metadata": {
    "tags": []
   },
   "outputs": [],
   "source": [
    "TOPMRI_features_array = np.array(TOPMRI_features)\n",
    "TOPMRI_features_array\n"
   ]
  },
  {
   "cell_type": "code",
   "execution_count": null,
   "id": "21",
   "metadata": {
    "tags": []
   },
   "outputs": [],
   "source": [
    "# run harmonization and PUT the adjusted data into my_ad_data vaiable\n",
    "my_model, my_data_adj = harmonizationLearn(TOPMRI_features_array, TOPMRI_covariates)"
   ]
  },
  {
   "cell_type": "code",
   "execution_count": null,
   "id": "ac89104f-c0a9-4946-beb0-d1c26f1e560f",
   "metadata": {
    "tags": []
   },
   "outputs": [],
   "source": [
    "my_data_adj"
   ]
  },
  {
   "cell_type": "code",
   "execution_count": null,
   "id": "5e8b6478-0105-407e-ba0c-b462d3f1e584",
   "metadata": {
    "tags": []
   },
   "outputs": [],
   "source": [
    "# turn adjusted data into dataframe with column names, then add covariates, then participant IDs\n",
    "neuroharmonized_topmri = pd.DataFrame(\n",
    "    my_data_adj, \n",
    "    columns = [\n",
    "       'deepwm_b_cov', 'aca_b_cov', 'mca_b_cov', 'pca_b_cov', 'totalgm_b_cov',\n",
    "       'deepwm_b_cbf', 'aca_b_cbf', 'mca_b_cbf', 'pca_b_cbf', 'totalgm_b_cbf',]\n",
    "    #'ld', 'pld', 'labelling', 'readout', 'm0']\n",
    ")\n",
    "neuroharmonized_topmri"
   ]
  },
  {
   "cell_type": "code",
   "execution_count": null,
   "id": "041497f1-b264-40de-b787-52899700972c",
   "metadata": {
    "tags": []
   },
   "outputs": [],
   "source": [
    "neuroharmonized_topmri =pd.concat([neuroharmonized_topmri, TOPMRI_covariates.reset_index()], axis=1)\n",
    "neuroharmonized_topmri"
   ]
  },
  {
   "cell_type": "code",
   "execution_count": null,
   "id": "6d49635d-9501-4c42-b058-5112cc7aaec0",
   "metadata": {
    "tags": []
   },
   "outputs": [],
   "source": [
    "neuroharmonized_topmri = neuroharmonized_topmri.drop('index', axis=1)\n",
    "neuroharmonized_topmri = pd.concat([neuroharmonized_topmri, TOPMRI.participant_id.reset_index()], axis=1)\n",
    "neuroharmonized_topmri"
   ]
  },
  {
   "cell_type": "code",
   "execution_count": null,
   "id": "3a9c64c5-c595-4976-9276-da9fdcf05d9e",
   "metadata": {
    "tags": []
   },
   "outputs": [],
   "source": [
    "TOPMRI_semi_features"
   ]
  },
  {
   "cell_type": "code",
   "execution_count": null,
   "id": "dbc68a73-e0e5-4ecb-b5da-aa4250ffeb55",
   "metadata": {
    "tags": []
   },
   "outputs": [],
   "source": [
    "neuroharmonized_topmri = neuroharmonized_topmri.drop('index', axis=1)\n",
    "neuroharmonied_topmri = neuroharmonized_topmri.merge(TOPMRI_semi_features, on = 'participant_id')\n",
    "neuroharmonized_topmri.head(3)"
   ]
  },
  {
   "cell_type": "code",
   "execution_count": null,
   "id": "23",
   "metadata": {
    "tags": []
   },
   "outputs": [],
   "source": [
    "# create adjusted csvs\n",
    "top_neuroharm_to_stroke = neuroharmonized_topmri[neuroharmonized_topmri.SITE == 0]\n",
    "stroke_neuroharm_to_top = neuroharmonized_topmri[neuroharmonized_topmri.SITE == 1] "
   ]
  },
  {
   "cell_type": "code",
   "execution_count": null,
   "id": "24",
   "metadata": {
    "tags": []
   },
   "outputs": [],
   "source": [
    "top_neuroharm_to_stroke.head(3)"
   ]
  },
  {
   "cell_type": "code",
   "execution_count": null,
   "id": "25",
   "metadata": {
    "tags": []
   },
   "outputs": [],
   "source": [
    "# reorganize to familair pattern\n",
    "column_to_move1 = stroke_neuroharm_to_top.pop(\"participant_id\")\n",
    "column_to_move2 = stroke_neuroharm_to_top.pop(\"age\")\n",
    "column_to_move3 = stroke_neuroharm_to_top.pop(\"sex\")\n",
    "tcolumn_to_move1 = top_neuroharm_to_stroke.pop(\"participant_id\")\n",
    "tcolumn_to_move2 = top_neuroharm_to_stroke.pop(\"age\")\n",
    "tcolumn_to_move3 = top_neuroharm_to_stroke.pop(\"sex\")\n",
    "stroke_neuroharm_to_top.insert(0, \"participant_id\", column_to_move1)\n",
    "stroke_neuroharm_to_top.insert(1, \"age\", column_to_move2)\n",
    "stroke_neuroharm_to_top.insert(2, \"sex\", column_to_move3)\n",
    "top_neuroharm_to_stroke.insert(0, \"participant_id\", tcolumn_to_move1)\n",
    "top_neuroharm_to_stroke.insert(1, \"age\", tcolumn_to_move2)\n",
    "top_neuroharm_to_stroke.insert(2, \"sex\", tcolumn_to_move3)"
   ]
  },
  {
   "cell_type": "code",
   "execution_count": null,
   "id": "26",
   "metadata": {
    "tags": []
   },
   "outputs": [],
   "source": [
    "top_neuroharm_to_stroke = top_neuroharm_to_stroke.drop('SITE', axis=1)\n",
    "stroke_neuroharm_to_top = stroke_neuroharm_to_top.drop('SITE', axis=1)\n",
    "stroke_neuroharm_to_top.columns"
   ]
  },
  {
   "cell_type": "code",
   "execution_count": null,
   "id": "57c389cc-9dfa-4c5d-b8d7-75b77f5f218f",
   "metadata": {
    "tags": []
   },
   "outputs": [],
   "source": [
    "MRI"
   ]
  },
  {
   "cell_type": "code",
   "execution_count": null,
   "id": "6228d778-073c-4f53-b405-1f056938251b",
   "metadata": {
    "tags": []
   },
   "outputs": [],
   "source": [
    "#top_neuroharm_to_stroke\n",
    "stroke_neuroharm_to_top"
   ]
  },
  {
   "cell_type": "code",
   "execution_count": null,
   "id": "27",
   "metadata": {
    "tags": []
   },
   "outputs": [],
   "source": [
    "top_neuroharm_to_stroke.to_csv('harm_results/neurocharm/top_neuroharm_to_stroke.csv')\n",
    "stroke_neuroharm_to_top.to_csv('harm_results/neurocharm/stroke_neuroharm_to_top.csv')"
   ]
  },
  {
   "cell_type": "markdown",
   "id": "30",
   "metadata": {},
   "source": [
    "# Now we join top and StrokeMRI to one dataset and harmonize to other datasets individually"
   ]
  },
  {
   "cell_type": "code",
   "execution_count": null,
   "id": "31",
   "metadata": {
    "tags": []
   },
   "outputs": [],
   "source": [
    "unified_TOPMRI = TOPMRI.copy(deep=True)\n",
    "unified_TOPMRI = unified_TOPMRI.reset_index()\n",
    "unified_TOPMRI['site'] = 0\n",
    "unified_TOPMRI= unified_TOPMRI.drop('index', axis=1)\n",
    "unified_TOPMRI.head(3)"
   ]
  },
  {
   "cell_type": "code",
   "execution_count": null,
   "id": "32",
   "metadata": {
    "tags": []
   },
   "outputs": [],
   "source": [
    "#SABRE = SABRE.drop('Unnamed: 0', axis=1)\n",
    "#SABRE = SABRE.assign(sex = SABRE.sex.map(sex_mapping))\n",
    "#SABRE['site'] = 2\n",
    "SABRE.columns = SABRE.columns.str.lower()\n",
    "SABRE.head(2) "
   ]
  },
  {
   "cell_type": "code",
   "execution_count": null,
   "id": "33",
   "metadata": {
    "tags": []
   },
   "outputs": [],
   "source": [
    "SABRE['site'] = 2\n",
    "SABRE.head(3)"
   ]
  },
  {
   "cell_type": "code",
   "execution_count": null,
   "id": "34",
   "metadata": {
    "tags": []
   },
   "outputs": [],
   "source": [
    "TOPMRIvsSABRE= pd.concat([unified_TOPMRI, SABRE])\n",
    "TOPMRIvsSABRE = TOPMRIvsSABRE.reset_index()"
   ]
  },
  {
   "cell_type": "code",
   "execution_count": null,
   "id": "35",
   "metadata": {
    "tags": []
   },
   "outputs": [],
   "source": [
    "TOPMRIvsSABRE.columns"
   ]
  },
  {
   "cell_type": "code",
   "execution_count": null,
   "id": "36",
   "metadata": {
    "tags": []
   },
   "outputs": [],
   "source": [
    "TOPMRIvsSABRE_covariates = TOPMRIvsSABRE[['age', 'sex','site']]\n",
    "TOPMRIvsSABRE_covariates = TOPMRIvsSABRE_covariates.rename(columns={'site': 'SITE'})\n",
    "TOPMRIvsSABRE_covariates.head(3)"
   ]
  },
  {
   "cell_type": "code",
   "execution_count": null,
   "id": "37",
   "metadata": {
    "tags": []
   },
   "outputs": [],
   "source": [
    "TOPMRIvsSABRE_semi_features = TOPMRIvsSABRE[unharm_features]\n",
    "TOPMRIvsSABRE_features = TOPMRIvsSABRE[features_to_harmonize]\n",
    "TOPMRIvsSABRE_features_array = np.array(TOPMRIvsSABRE_features)"
   ]
  },
  {
   "cell_type": "code",
   "execution_count": null,
   "id": "38",
   "metadata": {
    "tags": []
   },
   "outputs": [],
   "source": [
    "my_model2, my_data_adj2 = harmonizationLearn(TOPMRIvsSABRE_features_array, TOPMRIvsSABRE_covariates)"
   ]
  },
  {
   "cell_type": "code",
   "execution_count": null,
   "id": "39",
   "metadata": {
    "tags": []
   },
   "outputs": [],
   "source": [
    "my_data_adj2"
   ]
  },
  {
   "cell_type": "code",
   "execution_count": null,
   "id": "20bd81c3-8fcd-4d6c-afac-f1876787dc69",
   "metadata": {
    "tags": []
   },
   "outputs": [],
   "source": []
  },
  {
   "cell_type": "code",
   "execution_count": null,
   "id": "40",
   "metadata": {
    "tags": []
   },
   "outputs": [],
   "source": [
    "# turn adjusted data into dataframe with column names, then add covariates, then participant IDs\n",
    "neuroharmonized_topmrivsabre = pd.DataFrame(\n",
    "    my_data_adj2, \n",
    "    columns = features_to_harmonize\n",
    ")\n",
    "neuroharmonized_topmrivsabre =pd.concat([neuroharmonized_topmrivsabre, TOPMRIvsSABRE_covariates.reset_index()], axis=1)\n",
    "neuroharmonized_topmrivsabre = neuroharmonized_topmrivsabre.drop('index', axis=1)\n",
    "neuroharmonized_topmrivsabre = pd.concat([neuroharmonized_topmrivsabre, TOPMRIvsSABRE.participant_id.reset_index()], axis=1)\n",
    "neuroharmonized_topmrivsabre = neuroharmonized_topmrivsabre.drop('index', axis=1)\n",
    "neuroharmonized_topmrivsabre.head(3)"
   ]
  },
  {
   "cell_type": "code",
   "execution_count": null,
   "id": "3182f047-665e-40d9-8c72-170e8d83ae37",
   "metadata": {
    "tags": []
   },
   "outputs": [],
   "source": [
    "neuroharmonied_topmrivsabre = neuroharmonized_topmrivsabre.merge(TOPMRIvsSABRE_semi_features, on = 'participant_id')\n",
    "neuroharmonied_topmrivsabre"
   ]
  },
  {
   "cell_type": "code",
   "execution_count": null,
   "id": "41",
   "metadata": {
    "tags": []
   },
   "outputs": [],
   "source": [
    "# reorganize to familair pattern\n",
    "column_to_move1 = neuroharmonized_topmrivsabre.pop(\"participant_id\")\n",
    "column_to_move2 = neuroharmonized_topmrivsabre.pop(\"age\")\n",
    "column_to_move3 = neuroharmonized_topmrivsabre.pop(\"sex\")\n",
    "neuroharmonized_topmrivsabre.insert(0, \"participant_id\", column_to_move1)\n",
    "neuroharmonized_topmrivsabre.insert(1, \"age\", column_to_move2)\n",
    "neuroharmonized_topmrivsabre.insert(2, \"sex\", column_to_move3)"
   ]
  },
  {
   "cell_type": "code",
   "execution_count": null,
   "id": "42",
   "metadata": {
    "tags": []
   },
   "outputs": [],
   "source": [
    "# create adjusted csvs\n",
    "sabre_vs_topmri_only = neuroharmonized_topmrivsabre[neuroharmonized_topmrivsabre.SITE == 2]\n",
    "topmri_vs_sabre_only = neuroharmonized_topmrivsabre[neuroharmonized_topmrivsabre.SITE == 0] "
   ]
  },
  {
   "cell_type": "code",
   "execution_count": null,
   "id": "7785985c-b0c8-4b77-9931-27e15718807b",
   "metadata": {
    "tags": []
   },
   "outputs": [],
   "source": [
    "#sabre_vs_topmri_only"
   ]
  },
  {
   "cell_type": "code",
   "execution_count": null,
   "id": "43",
   "metadata": {
    "tags": []
   },
   "outputs": [],
   "source": [
    "#topmri_vs_sabre_only"
   ]
  },
  {
   "cell_type": "code",
   "execution_count": null,
   "id": "44",
   "metadata": {
    "tags": []
   },
   "outputs": [],
   "source": [
    "sabre_vs_topmri_only = sabre_vs_topmri_only.drop('SITE', axis=1)\n",
    "topmri_vs_sabre_only  = topmri_vs_sabre_only .drop('SITE', axis=1)\n",
    "#topmri_vs_sabre_only.columns"
   ]
  },
  {
   "cell_type": "code",
   "execution_count": null,
   "id": "46",
   "metadata": {
    "tags": []
   },
   "outputs": [],
   "source": [
    "sabre_vs_topmri_only.to_csv('harm_results/neurocharm/sabre_vs_topmri_only.csv') \n",
    "topmri_vs_sabre_only.to_csv('harm_results/neurocharm/topmri_vs_sabre_only.csv') "
   ]
  },
  {
   "cell_type": "code",
   "execution_count": null,
   "id": "47",
   "metadata": {
    "tags": []
   },
   "outputs": [],
   "source": [
    "Insight46['Site'] = 3\n",
    "Insight46.head(2) "
   ]
  },
  {
   "cell_type": "code",
   "execution_count": null,
   "id": "48",
   "metadata": {
    "tags": []
   },
   "outputs": [],
   "source": [
    "Insight46.columns = Insight46.columns.str.lower()"
   ]
  },
  {
   "cell_type": "code",
   "execution_count": null,
   "id": "49",
   "metadata": {
    "tags": []
   },
   "outputs": [],
   "source": [
    "TOPMRIvsInsight46= pd.concat([unified_TOPMRI, Insight46])\n",
    "TOPMRIvsInsight46 = TOPMRIvsInsight46.reset_index()"
   ]
  },
  {
   "cell_type": "code",
   "execution_count": null,
   "id": "50",
   "metadata": {
    "tags": []
   },
   "outputs": [],
   "source": [
    "TOPMRIvsInsight_covariates = TOPMRIvsInsight46[['age', 'sex','site']]\n",
    "TOPMRIvsInsight_covariates = TOPMRIvsInsight_covariates .rename(columns={'site': 'SITE'})\n",
    "TOPMRIvsInsight_covariates.head(3)"
   ]
  },
  {
   "cell_type": "code",
   "execution_count": null,
   "id": "51",
   "metadata": {
    "tags": []
   },
   "outputs": [],
   "source": [
    "TOPMRIvsInsight_semi_features = TOPMRIvsInsight46[unharm_features]\n",
    "TOPMRIvsInsight_features = TOPMRIvsInsight46[features_to_harmonize]\n",
    "TOPMRIvsInsight_features_array = np.array(TOPMRIvsInsight_features)"
   ]
  },
  {
   "cell_type": "code",
   "execution_count": null,
   "id": "52",
   "metadata": {
    "tags": []
   },
   "outputs": [],
   "source": [
    "my_model3, my_data_adj3 = harmonizationLearn(TOPMRIvsInsight_features_array, TOPMRIvsInsight_covariates)"
   ]
  },
  {
   "cell_type": "code",
   "execution_count": null,
   "id": "53",
   "metadata": {
    "tags": []
   },
   "outputs": [],
   "source": [
    "my_data_adj3"
   ]
  },
  {
   "cell_type": "code",
   "execution_count": null,
   "id": "54",
   "metadata": {
    "tags": []
   },
   "outputs": [],
   "source": [
    "# turn adjusted data into dataframe with column names, then add covariates, then participant IDs\n",
    "neuroharmonized_topmrivinsight = pd.DataFrame(\n",
    "    my_data_adj3, \n",
    "    columns = features_to_harmonize\n",
    ")\n",
    "neuroharmonized_topmrivinsight = pd.concat([neuroharmonized_topmrivinsight, TOPMRIvsInsight_covariates.reset_index()], axis=1)\n",
    "neuroharmonized_topmrivinsight = neuroharmonized_topmrivinsight.drop('index', axis=1)\n",
    "neuroharmonized_topmrivinsight = pd.concat([neuroharmonized_topmrivinsight, TOPMRIvsInsight46.participant_id.reset_index()], axis=1)\n",
    "neuroharmonized_topmrivinsight = neuroharmonized_topmrivinsight .merge(TOPMRIvsInsight_semi_features, on='participant_id')\n",
    "neuroharmonized_topmrivinsight = neuroharmonized_topmrivinsight.drop('index', axis=1)\n",
    "neuroharmonized_topmrivinsight.head(3)"
   ]
  },
  {
   "cell_type": "code",
   "execution_count": null,
   "id": "55",
   "metadata": {
    "tags": []
   },
   "outputs": [],
   "source": [
    "#neuroharmonized_topmrivinsight"
   ]
  },
  {
   "cell_type": "code",
   "execution_count": null,
   "id": "56",
   "metadata": {
    "tags": []
   },
   "outputs": [],
   "source": [
    "# reorganize to familair pattern\n",
    "column_to_move1 = neuroharmonized_topmrivinsight.pop(\"participant_id\")\n",
    "column_to_move2 = neuroharmonized_topmrivinsight.pop(\"age\")\n",
    "column_to_move3 = neuroharmonized_topmrivinsight.pop(\"sex\")\n",
    "neuroharmonized_topmrivinsight.insert(0, \"participant_id\", column_to_move1)\n",
    "neuroharmonized_topmrivinsight.insert(1, \"age\", column_to_move2)\n",
    "neuroharmonized_topmrivinsight.insert(2, \"sex\", column_to_move3)"
   ]
  },
  {
   "cell_type": "code",
   "execution_count": null,
   "id": "57",
   "metadata": {
    "tags": []
   },
   "outputs": [],
   "source": [
    "# create adjusted csvs\n",
    "insight_vs_topmri_only = neuroharmonized_topmrivinsight[neuroharmonized_topmrivinsight.SITE == 3]\n",
    "topmri_vs_insight_only = neuroharmonized_topmrivinsight[neuroharmonized_topmrivinsight.SITE == 0] "
   ]
  },
  {
   "cell_type": "code",
   "execution_count": null,
   "id": "511df0df-a3a7-4b30-8fe5-86b6e0866a68",
   "metadata": {
    "tags": []
   },
   "outputs": [],
   "source": [
    "#insight_vs_topmri_only\n",
    "#topmri_vs_insight_only"
   ]
  },
  {
   "cell_type": "code",
   "execution_count": null,
   "id": "58",
   "metadata": {
    "tags": []
   },
   "outputs": [],
   "source": [
    "insight_vs_topmri_only  = insight_vs_topmri_only.drop('SITE', axis=1)\n",
    "topmri_vs_insight_only  = topmri_vs_insight_only.drop('SITE', axis=1)"
   ]
  },
  {
   "cell_type": "code",
   "execution_count": null,
   "id": "59",
   "metadata": {
    "tags": []
   },
   "outputs": [],
   "source": [
    "#insight_vs_topmri_only"
   ]
  },
  {
   "cell_type": "code",
   "execution_count": null,
   "id": "60",
   "metadata": {
    "tags": []
   },
   "outputs": [],
   "source": [
    "insight_vs_topmri_only.to_csv('harm_results/neurocharm/insight_vs_topmri_only.csv') \n",
    "topmri_vs_insight_only.to_csv('harm_results/neurocharm/topmri_vs_insight_only.csv') "
   ]
  },
  {
   "cell_type": "code",
   "execution_count": null,
   "id": "61",
   "metadata": {
    "tags": []
   },
   "outputs": [],
   "source": [
    "EDIS['Site'] = 4\n",
    "EDIS.head(2) "
   ]
  },
  {
   "cell_type": "code",
   "execution_count": null,
   "id": "62",
   "metadata": {
    "tags": []
   },
   "outputs": [],
   "source": [
    "EDIS.columns = EDIS.columns.str.lower()"
   ]
  },
  {
   "cell_type": "code",
   "execution_count": null,
   "id": "63",
   "metadata": {
    "tags": []
   },
   "outputs": [],
   "source": [
    "TOPMRIvsEDIS = pd.concat([unified_TOPMRI, EDIS])\n",
    "TOPMRIvsEDIS = TOPMRIvsEDIS.reset_index()"
   ]
  },
  {
   "cell_type": "code",
   "execution_count": null,
   "id": "64",
   "metadata": {
    "tags": []
   },
   "outputs": [],
   "source": [
    "TOPMRIvsEDIS_covariates = TOPMRIvsEDIS[['age', 'sex','site']]\n",
    "TOPMRIvsEDIS_covariates = TOPMRIvsEDIS_covariates .rename(columns={'site': 'SITE'})\n",
    "TOPMRIvsEDIS_covariates.head(3)"
   ]
  },
  {
   "cell_type": "code",
   "execution_count": null,
   "id": "65",
   "metadata": {
    "tags": []
   },
   "outputs": [],
   "source": [
    "TOPMRIvsEDIS_semi_features = TOPMRIvsEDIS[unharm_features]\n",
    "TOPMRIvsEDIS_features = TOPMRIvsEDIS[features_to_harmonize]\n",
    "TOPMRIvsEDIS_features_array = np.array(TOPMRIvsEDIS_features)"
   ]
  },
  {
   "cell_type": "code",
   "execution_count": null,
   "id": "66",
   "metadata": {
    "tags": []
   },
   "outputs": [],
   "source": [
    "my_model4, my_data_adj4 = harmonizationLearn(TOPMRIvsEDIS_features_array, TOPMRIvsEDIS_covariates)"
   ]
  },
  {
   "cell_type": "code",
   "execution_count": null,
   "id": "67",
   "metadata": {
    "tags": []
   },
   "outputs": [],
   "source": [
    "my_data_adj4"
   ]
  },
  {
   "cell_type": "code",
   "execution_count": null,
   "id": "68",
   "metadata": {
    "tags": []
   },
   "outputs": [],
   "source": [
    "# turn adjusted data into dataframe with column names, then add covariates, then participant IDs\n",
    "neuroharmonized_topmrivedis = pd.DataFrame(\n",
    "    my_data_adj4, \n",
    "    columns = features_to_harmonize\n",
    ")\n",
    "neuroharmonized_topmrivedis = pd.concat([neuroharmonized_topmrivedis, TOPMRIvsEDIS_covariates.reset_index()], axis=1)\n",
    "neuroharmonized_topmrivedis = neuroharmonized_topmrivedis.drop('index', axis=1)\n",
    "neuroharmonized_topmrivedis = pd.concat([neuroharmonized_topmrivedis, TOPMRIvsEDIS.participant_id.reset_index()], axis=1)\n",
    "neuroharmonized_topmrivedis = neuroharmonized_topmrivedis.drop('index', axis=1)\n",
    "neuroharmonized_topmrivedis = neuroharmonized_topmrivedis.merge(TOPMRIvsEDIS_semi_features, on ='participant_id')\n",
    "neuroharmonized_topmrivedis.head(3)"
   ]
  },
  {
   "cell_type": "code",
   "execution_count": null,
   "id": "69",
   "metadata": {},
   "outputs": [],
   "source": []
  },
  {
   "cell_type": "code",
   "execution_count": null,
   "id": "70",
   "metadata": {
    "tags": []
   },
   "outputs": [],
   "source": [
    "# reorganize to familair pattern\n",
    "column_to_move1 = neuroharmonized_topmrivedis.pop(\"participant_id\")\n",
    "column_to_move2 = neuroharmonized_topmrivedis.pop(\"age\")\n",
    "column_to_move3 = neuroharmonized_topmrivedis.pop(\"sex\")\n",
    "neuroharmonized_topmrivedis.insert(0, \"participant_id\", column_to_move1)\n",
    "neuroharmonized_topmrivedis.insert(1, \"age\", column_to_move2)\n",
    "neuroharmonized_topmrivedis.insert(2, \"sex\", column_to_move3)"
   ]
  },
  {
   "cell_type": "code",
   "execution_count": null,
   "id": "71",
   "metadata": {
    "tags": []
   },
   "outputs": [],
   "source": [
    "# create adjusted csvs\n",
    "edis_vs_topmri_only = neuroharmonized_topmrivedis[neuroharmonized_topmrivedis.SITE == 4]\n",
    "topmri_vs_edis_only = neuroharmonized_topmrivedis[neuroharmonized_topmrivedis.SITE == 0] "
   ]
  },
  {
   "cell_type": "code",
   "execution_count": null,
   "id": "9f81cbde-bd15-4a29-bb4f-31360e60e802",
   "metadata": {
    "tags": []
   },
   "outputs": [],
   "source": [
    "#edis_vs_topmri_only\n",
    "#topmri_vs_edis_only"
   ]
  },
  {
   "cell_type": "code",
   "execution_count": null,
   "id": "72",
   "metadata": {
    "tags": []
   },
   "outputs": [],
   "source": [
    "edis_vs_topmri_only  = edis_vs_topmri_only.drop('SITE', axis=1)\n",
    "topmri_vs_edis_only  = topmri_vs_edis_only.drop('SITE', axis=1)\n"
   ]
  },
  {
   "cell_type": "code",
   "execution_count": null,
   "id": "74",
   "metadata": {
    "tags": []
   },
   "outputs": [],
   "source": [
    "edis_vs_topmri_only.to_csv('harm_results/neurocharm/edis_vs_topmri_only.csv') \n",
    "topmri_vs_edis_only.to_csv('harm_results/neurocharm/topmri_vs_edis_only.csv') "
   ]
  },
  {
   "cell_type": "code",
   "execution_count": null,
   "id": "75",
   "metadata": {
    "tags": []
   },
   "outputs": [],
   "source": [
    "HELIUS['Site'] = 5\n",
    "HELIUS.head(2) "
   ]
  },
  {
   "cell_type": "code",
   "execution_count": null,
   "id": "76",
   "metadata": {
    "tags": []
   },
   "outputs": [],
   "source": [
    "HELIUS.columns = HELIUS.columns.str.lower()"
   ]
  },
  {
   "cell_type": "code",
   "execution_count": null,
   "id": "77",
   "metadata": {
    "tags": []
   },
   "outputs": [],
   "source": [
    "TOPMRIvsHELIUS = pd.concat([unified_TOPMRI, HELIUS])\n",
    "TOPMRIvsHELIUS = TOPMRIvsHELIUS.reset_index()"
   ]
  },
  {
   "cell_type": "code",
   "execution_count": null,
   "id": "78",
   "metadata": {
    "tags": []
   },
   "outputs": [],
   "source": [
    "TOPMRIvsHELIUS_covariates = TOPMRIvsHELIUS[['age', 'sex','site']]\n",
    "TOPMRIvsHELIUS_covariates = TOPMRIvsHELIUS_covariates .rename(columns={'site': 'SITE'})\n",
    "TOPMRIvsHELIUS_covariates.head(3)"
   ]
  },
  {
   "cell_type": "code",
   "execution_count": null,
   "id": "79",
   "metadata": {
    "tags": []
   },
   "outputs": [],
   "source": [
    "TOPMRIvsHELIUS_semi_features = TOPMRIvsHELIUS[unharm_features]\n",
    "TOPMRIvsHELIUS_features = TOPMRIvsHELIUS[features_to_harmonize]\n",
    "TOPMRIvsHELIUS_features_array = np.array(TOPMRIvsHELIUS_features)"
   ]
  },
  {
   "cell_type": "code",
   "execution_count": null,
   "id": "80",
   "metadata": {
    "tags": []
   },
   "outputs": [],
   "source": [
    "my_model5, my_data_adj5 = harmonizationLearn(TOPMRIvsHELIUS_features_array, TOPMRIvsHELIUS_covariates)"
   ]
  },
  {
   "cell_type": "code",
   "execution_count": null,
   "id": "81",
   "metadata": {
    "tags": []
   },
   "outputs": [],
   "source": [
    "my_data_adj5"
   ]
  },
  {
   "cell_type": "code",
   "execution_count": null,
   "id": "82",
   "metadata": {
    "tags": []
   },
   "outputs": [],
   "source": [
    "# turn adjusted data into dataframe with column names, then add covariates, then participant IDs\n",
    "neuroharmonized_topmrivhelius = pd.DataFrame(\n",
    "    my_data_adj5, \n",
    "    columns = features_to_harmonize\n",
    ")\n",
    "neuroharmonized_topmrivhelius = pd.concat([neuroharmonized_topmrivhelius, TOPMRIvsHELIUS_covariates.reset_index()], axis=1)\n",
    "neuroharmonized_topmrivhelius = neuroharmonized_topmrivhelius.drop('index', axis=1)\n",
    "neuroharmonized_topmrivhelius = pd.concat([neuroharmonized_topmrivhelius, TOPMRIvsHELIUS.participant_id.reset_index()], axis=1)\n",
    "neuroharmonized_topmrivhelius = neuroharmonized_topmrivhelius.drop('index', axis=1)\n",
    "neuroharmonized_topmrivhelius = neuroharmonized_topmrivhelius.merge(TOPMRIvsHELIUS_semi_features , on='participant_id')\n",
    "neuroharmonized_topmrivhelius.head(3)"
   ]
  },
  {
   "cell_type": "code",
   "execution_count": null,
   "id": "83",
   "metadata": {
    "tags": []
   },
   "outputs": [],
   "source": [
    "# reorganize to familair pattern\n",
    "column_to_move1 = neuroharmonized_topmrivhelius.pop(\"participant_id\")\n",
    "column_to_move2 = neuroharmonized_topmrivhelius.pop(\"age\")\n",
    "column_to_move3 = neuroharmonized_topmrivhelius.pop(\"sex\")\n",
    "neuroharmonized_topmrivhelius.insert(0, \"participant_id\", column_to_move1)\n",
    "neuroharmonized_topmrivhelius.insert(1, \"age\", column_to_move2)\n",
    "neuroharmonized_topmrivhelius.insert(2, \"sex\", column_to_move3)"
   ]
  },
  {
   "cell_type": "code",
   "execution_count": null,
   "id": "84",
   "metadata": {
    "tags": []
   },
   "outputs": [],
   "source": [
    "#neuroharmonized_topmrivhelius"
   ]
  },
  {
   "cell_type": "code",
   "execution_count": null,
   "id": "85",
   "metadata": {
    "tags": []
   },
   "outputs": [],
   "source": [
    "# create adjusted csvs\n",
    "helius_vs_topmri_only = neuroharmonized_topmrivhelius[neuroharmonized_topmrivhelius.SITE == 5]\n",
    "topmri_vs_helius_only = neuroharmonized_topmrivhelius[neuroharmonized_topmrivhelius.SITE == 0] "
   ]
  },
  {
   "cell_type": "code",
   "execution_count": null,
   "id": "86",
   "metadata": {
    "tags": []
   },
   "outputs": [],
   "source": [
    "helius_vs_topmri_only  = helius_vs_topmri_only.drop('SITE', axis=1)\n",
    "topmri_vs_helius_only  = topmri_vs_helius_only.drop('SITE', axis=1)\n"
   ]
  },
  {
   "cell_type": "code",
   "execution_count": null,
   "id": "87",
   "metadata": {
    "tags": []
   },
   "outputs": [],
   "source": [
    "#helius_vs_topmri_only"
   ]
  },
  {
   "cell_type": "code",
   "execution_count": null,
   "id": "88",
   "metadata": {
    "tags": []
   },
   "outputs": [],
   "source": [
    "helius_vs_topmri_only.to_csv('harm_results/neurocharm/helius_vs_topmri_only.csv') \n",
    "topmri_vs_helius_only.to_csv('harm_results/neurocharm/topmri_vs_helius_only.csv') "
   ]
  },
  {
   "cell_type": "markdown",
   "id": "89",
   "metadata": {},
   "source": [
    "# Now we will do five way harmonization- TOPMRI vs. SAbre vs. Insigth46 vs. EDIS vs. others"
   ]
  },
  {
   "cell_type": "code",
   "execution_count": null,
   "id": "91",
   "metadata": {
    "tags": []
   },
   "outputs": [],
   "source": [
    "TOPMRIvsSABRvsInisghvsEDISvsHELIUS = pd.concat([unified_TOPMRI, SABRE, Insight46, EDIS, HELIUS])\n",
    "TOPMRIvsSABRvsInisghvsEDISvsHELIUS = TOPMRIvsSABRvsInisghvsEDISvsHELIUS.reset_index()"
   ]
  },
  {
   "cell_type": "code",
   "execution_count": null,
   "id": "92",
   "metadata": {
    "tags": []
   },
   "outputs": [],
   "source": [
    "TOPMRIvsSABRvsInisghvsEDISvsHELIUS_covariates = TOPMRIvsSABRvsInisghvsEDISvsHELIUS[['age', 'sex','site']]\n",
    "TOPMRIvsSABRvsInisghvsEDISvsHELIUS_covariates = TOPMRIvsSABRvsInisghvsEDISvsHELIUS_covariates.rename(columns={'site': 'SITE'})\n",
    "TOPMRIvsSABRvsInisghvsEDISvsHELIUS_covariates.head(3)"
   ]
  },
  {
   "cell_type": "code",
   "execution_count": null,
   "id": "93",
   "metadata": {
    "tags": []
   },
   "outputs": [],
   "source": [
    "TOPMRIvsSABRvsInisghvsEDISvsHELIUS.columns"
   ]
  },
  {
   "cell_type": "code",
   "execution_count": null,
   "id": "94",
   "metadata": {
    "tags": []
   },
   "outputs": [],
   "source": [
    "TOPMRIvsSABRvsInisghvsEDISvsHELIUS_semi_features = TOPMRIvsSABRvsInisghvsEDISvsHELIUS[unharm_features]\n",
    "TOPMRIvsSABRvsInisghvsEDISvsHELIUS_features = TOPMRIvsSABRvsInisghvsEDISvsHELIUS[features_to_harmonize]\n",
    "TOPMRIvsSABRvsInisghvsEDISvsHELIUS_features_array = np.array(TOPMRIvsSABRvsInisghvsEDISvsHELIUS_features)"
   ]
  },
  {
   "cell_type": "code",
   "execution_count": null,
   "id": "95",
   "metadata": {
    "tags": []
   },
   "outputs": [],
   "source": [
    "my_modelA, my_data_adjA = harmonizationLearn(TOPMRIvsSABRvsInisghvsEDISvsHELIUS_features_array, TOPMRIvsSABRvsInisghvsEDISvsHELIUS_covariates)"
   ]
  },
  {
   "cell_type": "code",
   "execution_count": null,
   "id": "96",
   "metadata": {
    "tags": []
   },
   "outputs": [],
   "source": [
    "my_data_adjA"
   ]
  },
  {
   "cell_type": "code",
   "execution_count": null,
   "id": "97",
   "metadata": {
    "tags": []
   },
   "outputs": [],
   "source": [
    "# turn adjusted data into dataframe with column names, then add covariates, then participant IDs\n",
    "neuroharmonized_A= pd.DataFrame(\n",
    "    my_data_adjA, \n",
    "    columns = features_to_harmonize\n",
    ")\n",
    "neuroharmonized_A =pd.concat([neuroharmonized_A, TOPMRIvsSABRvsInisghvsEDISvsHELIUS_covariates .reset_index()], axis=1)\n",
    "neuroharmonized_A = neuroharmonized_A.drop('index', axis=1)\n",
    "neuroharmonized_A = pd.concat([neuroharmonized_A, TOPMRIvsSABRvsInisghvsEDISvsHELIUS.participant_id.reset_index()], axis=1)\n",
    "neuroharmonized_A = neuroharmonized_A.drop('index', axis=1)\n",
    "neuroharmonized_A = neuroharmonized_A.merge(TOPMRIvsSABRvsInisghvsEDISvsHELIUS_semi_features, on='participant_id') \n",
    "neuroharmonized_A.head(3)"
   ]
  },
  {
   "cell_type": "code",
   "execution_count": null,
   "id": "98",
   "metadata": {
    "tags": []
   },
   "outputs": [],
   "source": [
    "# reorganize to familair pattern\n",
    "column_to_move1 = neuroharmonized_A.pop(\"participant_id\")\n",
    "column_to_move2 = neuroharmonized_A.pop(\"age\")\n",
    "column_to_move3 = neuroharmonized_A.pop(\"sex\")\n",
    "neuroharmonized_A.insert(0, \"participant_id\", column_to_move1)\n",
    "neuroharmonized_A.insert(1, \"age\", column_to_move2)\n",
    "neuroharmonized_A.insert(2, \"sex\", column_to_move3)"
   ]
  },
  {
   "cell_type": "code",
   "execution_count": null,
   "id": "99",
   "metadata": {
    "tags": []
   },
   "outputs": [],
   "source": [
    "# create adjusted csvs\n",
    "insight_vs_topmri_5way= neuroharmonized_A[neuroharmonized_A.SITE == 3]\n",
    "sabre_vs_topmri_5way = neuroharmonized_A[neuroharmonized_A.SITE == 2]\n",
    "topmri_vs_sabre_5way = neuroharmonized_A[neuroharmonized_A.SITE == 0] \n",
    "edis_vs_topmri_5way= neuroharmonized_A[neuroharmonized_A.SITE == 4]\n",
    "helius_vs_topmri_5way = neuroharmonized_A[neuroharmonized_A.SITE == 5]"
   ]
  },
  {
   "cell_type": "code",
   "execution_count": null,
   "id": "100",
   "metadata": {
    "tags": []
   },
   "outputs": [],
   "source": [
    "insight_vs_topmri_5way = insight_vs_topmri_5way.drop('SITE', axis=1)\n",
    "sabre_vs_topmri_5way = sabre_vs_topmri_5way.drop('SITE', axis=1) \n",
    "topmri_vs_sabre_5way = topmri_vs_sabre_5way.drop('SITE', axis=1)  \n",
    "\n",
    "edis_vs_topmri_5way = edis_vs_topmri_5way.drop('SITE', axis=1) \n",
    "helius_vs_topmri_5way = helius_vs_topmri_5way.drop('SITE', axis=1) "
   ]
  },
  {
   "cell_type": "code",
   "execution_count": null,
   "id": "101",
   "metadata": {
    "tags": []
   },
   "outputs": [],
   "source": [
    "helius_vs_topmri_5way "
   ]
  },
  {
   "cell_type": "code",
   "execution_count": null,
   "id": "102",
   "metadata": {
    "tags": []
   },
   "outputs": [],
   "source": [
    "insight_vs_topmri_5way.to_csv('harm_results/neurocharm/insight_vs_topmri_5way.csv')\n",
    "helius_vs_topmri_5way.to_csv('harm_results/neurocharm/helius_vs_topmri_5way.csv')\n",
    "sabre_vs_topmri_5way.to_csv('harm_results/neurocharm/sabre_vs_topmri_5way.csv')\n",
    "topmri_vs_sabre_5way.to_csv('harm_results/neurocharm/topmri_vs_sabre_5way.csv')\n",
    "edis_vs_topmri_5way.to_csv('harm_results/neurocharm/edis_vs_topmri_5way.csv')"
   ]
  },
  {
   "cell_type": "code",
   "execution_count": null,
   "id": "103",
   "metadata": {},
   "outputs": [],
   "source": [
    "# end of notebook!"
   ]
  },
  {
   "cell_type": "code",
   "execution_count": null,
   "id": "104",
   "metadata": {
    "tags": []
   },
   "outputs": [],
   "source": [
    "#insight_vs_topmri_5way"
   ]
  }
 ],
 "metadata": {
  "kernelspec": {
   "display_name": "Python 3 (ipykernel)",
   "language": "python",
   "name": "python3"
  },
  "language_info": {
   "codemirror_mode": {
    "name": "ipython",
    "version": 3
   },
   "file_extension": ".py",
   "mimetype": "text/x-python",
   "name": "python",
   "nbconvert_exporter": "python",
   "pygments_lexer": "ipython3",
   "version": "3.12.1"
  }
 },
 "nbformat": 4,
 "nbformat_minor": 5
}
