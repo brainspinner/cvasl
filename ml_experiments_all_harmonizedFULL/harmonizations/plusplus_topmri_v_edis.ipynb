{
 "cells": [
  {
   "cell_type": "markdown",
   "id": "0",
   "metadata": {},
   "source": [
    "# Combat++ harmonization 2 way between TOPMRI and EDIS datasets"
   ]
  },
  {
   "cell_type": "code",
   "execution_count": null,
   "id": "1",
   "metadata": {
    "vscode": {
     "languageId": "r"
    }
   },
   "outputs": [],
   "source": [
    "#sys.path.insert(0, '../../')\n",
    "source('../../cvasl/vendor/ComBat++/combatPP.R') #as pluscombat\n",
    "source(\"../../cvasl/vendor/ComBat++/utils.R\")"
   ]
  },
  {
   "cell_type": "code",
   "execution_count": null,
   "id": "2",
   "metadata": {
    "vscode": {
     "languageId": "r"
    }
   },
   "outputs": [],
   "source": [
    "library(matrixStats)"
   ]
  },
  {
   "cell_type": "code",
   "execution_count": null,
   "id": "3",
   "metadata": {
    "vscode": {
     "languageId": "r"
    }
   },
   "outputs": [],
   "source": [
    "TOP <- read.csv('../our_datasets/TOP/TrainingDataComplete.csv')\n",
    "\n",
    " \n",
    "head(TOP, 4)"
   ]
  },
  {
   "cell_type": "code",
   "execution_count": null,
   "id": "4",
   "metadata": {
    "vscode": {
     "languageId": "r"
    }
   },
   "outputs": [],
   "source": [
    "MRI <- read.csv('../our_datasets/StrokeMRI/TrainingDataComplete.csv')\n",
    "head(MRI, 4)"
   ]
  },
  {
   "cell_type": "code",
   "execution_count": null,
   "id": "5",
   "metadata": {
    "vscode": {
     "languageId": "r"
    }
   },
   "outputs": [],
   "source": [
    "EDIS <- read.csv('../our_datasets/EDIS/TrainingDataComplete.csv')\n",
    "head(EDIS, 4)"
   ]
  },
  {
   "cell_type": "code",
   "execution_count": null,
   "id": "6",
   "metadata": {},
   "outputs": [],
   "source": [
    "# recode sex in EDIS dataset\n",
    "\n",
    "conditions <- c( 1, 2)\n",
    "replacement_values <- c(1, 0)\n",
    "EDIS$Sex <- replace(EDIS$Sex, EDIS$Sex %in% conditions, replacement_values)\n",
    "head(EDIS,4)"
   ]
  },
  {
   "cell_type": "code",
   "execution_count": null,
   "id": "7",
   "metadata": {
    "vscode": {
     "languageId": "r"
    }
   },
   "outputs": [],
   "source": [
    "TOPMRI<- rbind(TOP, MRI)\n",
    "conditions <- c(1)\n",
    "replacement_values <- c(0)\n",
    "# Use replace() \n",
    "TOPMRI$Site <- replace(TOPMRI$Site, TOPMRI$Site %in% conditions, replacement_values)\n",
    "head(TOPMRI, 3)"
   ]
  },
  {
   "cell_type": "code",
   "execution_count": null,
   "id": "8",
   "metadata": {
    "vscode": {
     "languageId": "r"
    }
   },
   "outputs": [],
   "source": [
    "fused_dat <- rbind(TOPMRI, EDIS)\n",
    "head(fused_dat, 3)"
   ]
  },
  {
   "cell_type": "code",
   "execution_count": null,
   "id": "9",
   "metadata": {
    "vscode": {
     "languageId": "r"
    }
   },
   "outputs": [],
   "source": [
    "age <- c((fused_dat['Age']))\n",
    "age <- as.numeric(unlist(age))\n",
    "print(typeof(age))"
   ]
  },
  {
   "cell_type": "code",
   "execution_count": null,
   "id": "10",
   "metadata": {},
   "outputs": [],
   "source": [
    "#fused_dat"
   ]
  },
  {
   "cell_type": "code",
   "execution_count": null,
   "id": "11",
   "metadata": {
    "vscode": {
     "languageId": "r"
    }
   },
   "outputs": [],
   "source": [
    "#age <- c((fused_dat['Age'])) # Continuous variable\n",
    "sex <- c((fused_dat['Sex']))\n",
    "sex <- as.numeric(unlist(sex))\n",
    "sex <- as.factor(sex) # Categorical variable\n",
    "mod <- model.matrix(~age+sex)\n"
   ]
  },
  {
   "cell_type": "code",
   "execution_count": null,
   "id": "12",
   "metadata": {
    "vscode": {
     "languageId": "r"
    }
   },
   "outputs": [],
   "source": [
    "batchvector <- c(fused_dat['Site'])\n",
    "batchvector <- as.numeric(unlist(batchvector))"
   ]
  },
  {
   "cell_type": "code",
   "execution_count": null,
   "id": "13",
   "metadata": {
    "vscode": {
     "languageId": "r"
    }
   },
   "outputs": [],
   "source": [
    "head(fused_dat)"
   ]
  },
  {
   "cell_type": "code",
   "execution_count": null,
   "id": "14",
   "metadata": {},
   "outputs": [],
   "source": [
    "#fused_dat"
   ]
  },
  {
   "cell_type": "code",
   "execution_count": null,
   "id": "15",
   "metadata": {
    "vscode": {
     "languageId": "r"
    }
   },
   "outputs": [],
   "source": [
    "fused_dat_m1 <- fused_dat[,-1]\n",
    "fused_dat_m1"
   ]
  },
  {
   "cell_type": "code",
   "execution_count": null,
   "id": "16",
   "metadata": {
    "vscode": {
     "languageId": "r"
    }
   },
   "outputs": [],
   "source": [
    "fused_dat_m1 <- fused_dat_m1[,-1]\n",
    "fused_dat_m1 <- fused_dat_m1[,-1]\n",
    "fused_dat_m1 <- fused_dat_m1[,-1]\n",
    "fused_dat_m1 <- fused_dat_m1[,-1]\n",
    "\n",
    "fused_dat_m1 <- fused_dat_m1[,-1]\n",
    "head(fused_dat_m1, 3)"
   ]
  },
  {
   "cell_type": "code",
   "execution_count": null,
   "id": "17",
   "metadata": {
    "vscode": {
     "languageId": "r"
    }
   },
   "outputs": [],
   "source": [
    "ta <- t(fused_dat_m1) "
   ]
  },
  {
   "cell_type": "code",
   "execution_count": null,
   "id": "18",
   "metadata": {
    "vscode": {
     "languageId": "r"
    }
   },
   "outputs": [],
   "source": [
    "#combatPP(ta, batchvector)"
   ]
  },
  {
   "cell_type": "code",
   "execution_count": null,
   "id": "19",
   "metadata": {
    "vscode": {
     "languageId": "r"
    }
   },
   "outputs": [],
   "source": [
    "data.harmonized <-combatPP(ta,  mod=mod, batchvector) # need to add mod=mod"
   ]
  },
  {
   "cell_type": "code",
   "execution_count": null,
   "id": "20",
   "metadata": {
    "vscode": {
     "languageId": "r"
    }
   },
   "outputs": [],
   "source": [
    "data.harmonized"
   ]
  },
  {
   "cell_type": "code",
   "execution_count": null,
   "id": "21",
   "metadata": {
    "vscode": {
     "languageId": "r"
    }
   },
   "outputs": [],
   "source": [
    "new_df <- data.harmonized$dat.combat"
   ]
  },
  {
   "cell_type": "code",
   "execution_count": null,
   "id": "22",
   "metadata": {
    "vscode": {
     "languageId": "r"
    }
   },
   "outputs": [],
   "source": [
    "head(fused_dat)"
   ]
  },
  {
   "cell_type": "code",
   "execution_count": null,
   "id": "23",
   "metadata": {},
   "outputs": [],
   "source": [
    "STOP"
   ]
  },
  {
   "cell_type": "code",
   "execution_count": null,
   "id": "24",
   "metadata": {
    "vscode": {
     "languageId": "r"
    }
   },
   "outputs": [],
   "source": [
    "fused_dat_front <- fused_dat[c(1:6)]\n",
    "head(fused_dat_front,3) "
   ]
  },
  {
   "cell_type": "code",
   "execution_count": null,
   "id": "25",
   "metadata": {
    "vscode": {
     "languageId": "r"
    }
   },
   "outputs": [],
   "source": [
    "rollback <- t(new_df)\n",
    "head(rollback, 3)\n"
   ]
  },
  {
   "cell_type": "code",
   "execution_count": null,
   "id": "26",
   "metadata": {
    "vscode": {
     "languageId": "r"
    }
   },
   "outputs": [],
   "source": [
    "harmonized_set <- cbind(fused_dat_front, rollback)"
   ]
  },
  {
   "cell_type": "code",
   "execution_count": null,
   "id": "27",
   "metadata": {
    "vscode": {
     "languageId": "r"
    }
   },
   "outputs": [],
   "source": [
    "head(harmonized_set)"
   ]
  },
  {
   "cell_type": "code",
   "execution_count": null,
   "id": "28",
   "metadata": {
    "vscode": {
     "languageId": "r"
    }
   },
   "outputs": [],
   "source": [
    "harmonized_topmri <- harmonized_set[which(harmonized_set['Site'] == 0),] \n",
    "head(harmonized_topmri,3)"
   ]
  },
  {
   "cell_type": "code",
   "execution_count": null,
   "id": "29",
   "metadata": {
    "vscode": {
     "languageId": "r"
    }
   },
   "outputs": [],
   "source": [
    "harmonized_edis <- harmonized_set[which(harmonized_set['Site'] == 1),] \n",
    "head(harmonized_edis,3)"
   ]
  },
  {
   "cell_type": "code",
   "execution_count": null,
   "id": "30",
   "metadata": {
    "vscode": {
     "languageId": "r"
    }
   },
   "outputs": [],
   "source": [
    "# now save as csvs\n",
    "write.csv(harmonized_topmri, \"harm_results/plus/plus_harmonized_topmri_v_edis.csv\")\n",
    "write.csv(harmonized_edis, \"harm_results/plus/plus_harmonized_edis_from_v1.csv\")"
   ]
  },
  {
   "cell_type": "code",
   "execution_count": null,
   "id": "31",
   "metadata": {
    "vscode": {
     "languageId": "r"
    }
   },
   "outputs": [],
   "source": []
  }
 ],
 "metadata": {
  "kernelspec": {
   "display_name": "R",
   "language": "R",
   "name": "ir"
  },
  "language_info": {
   "codemirror_mode": "r",
   "file_extension": ".r",
   "mimetype": "text/x-r-source",
   "name": "R",
   "pygments_lexer": "r",
   "version": "4.1.3"
  }
 },
 "nbformat": 4,
 "nbformat_minor": 5
}
