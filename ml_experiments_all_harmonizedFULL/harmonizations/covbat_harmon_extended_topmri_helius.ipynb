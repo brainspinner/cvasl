{
 "cells": [
  {
   "cell_type": "markdown",
   "id": "0",
   "metadata": {},
   "source": [
    "# COVbat TOP and StrokeMRI  vs. HELIUS harmonized datasets"
   ]
  },
  {
   "cell_type": "markdown",
   "id": "1",
   "metadata": {},
   "source": [
    "Note this must be run in the `covbat` environment. Environment file inside vendor/covbat"
   ]
  },
  {
   "cell_type": "markdown",
   "id": "2",
   "metadata": {
    "tags": []
   },
   "source": [
    "## import libraries"
   ]
  },
  {
   "cell_type": "code",
   "execution_count": null,
   "id": "3",
   "metadata": {
    "tags": []
   },
   "outputs": [],
   "source": [
    "import os\n",
    "import sys\n",
    "\n",
    "import pandas as pd\n",
    "import numpy as np\n",
    "\n",
    "import patsy\n",
    "\n",
    "sys.path.insert(0, '../../') # path to functions\n",
    "\n",
    "import cvasl.harmony as har\n",
    "import cvasl.vendor.covbat.covbat as covbat"
   ]
  },
  {
   "cell_type": "markdown",
   "id": "4",
   "metadata": {},
   "source": [
    "impo##rt data"
   ]
  },
  {
   "cell_type": "code",
   "execution_count": null,
   "id": "5",
   "metadata": {
    "tags": []
   },
   "outputs": [],
   "source": [
    "# Datasets for this work\n",
    "HELIUS = pd.read_csv('../new_data/TrainingDataComplete_HELIUS.csv')\n",
    "\n",
    "MRI = pd.read_csv('../new_data/TrainingDataComplete_StrokeMRI.csv')\n",
    "TOP = pd.read_csv('../new_data/TrainingDataComplete_TOP.csv')"
   ]
  },
  {
   "cell_type": "code",
   "execution_count": null,
   "id": "6",
   "metadata": {},
   "outputs": [],
   "source": [
    "HELIUS.head(3)"
   ]
  },
  {
   "cell_type": "code",
   "execution_count": null,
   "id": "7",
   "metadata": {},
   "outputs": [],
   "source": [
    "# sex_mapping = {1:0,2:1}\n",
    "# HELIUS = HELIUS.assign(Sex = HELIUS.Sex.map(sex_mapping))\n",
    "# HELIUS.head(3)"
   ]
  },
  {
   "cell_type": "code",
   "execution_count": null,
   "id": "8",
   "metadata": {
    "tags": []
   },
   "outputs": [],
   "source": [
    "TOP = TOP.drop([ 'ID'], axis= 1)\n",
    "\n",
    "TOP.head(3)"
   ]
  },
  {
   "cell_type": "code",
   "execution_count": null,
   "id": "9",
   "metadata": {
    "tags": []
   },
   "outputs": [],
   "source": [
    "MRI = MRI.drop(['ID'],axis = 1)\n",
    "MRI.tail(5)"
   ]
  },
  {
   "cell_type": "code",
   "execution_count": null,
   "id": "10",
   "metadata": {
    "tags": []
   },
   "outputs": [],
   "source": [
    "HELIUS = HELIUS.drop(['ID'],axis = 1)\n",
    "HELIUS['Site'] = 3\n",
    "HELIUS.tail(5)"
   ]
  },
  {
   "cell_type": "code",
   "execution_count": null,
   "id": "11",
   "metadata": {
    "tags": []
   },
   "outputs": [],
   "source": [
    "TOPMRI = pd.concat([TOP, MRI])\n",
    "TOPMRI['Site'] = 2\n",
    "TOPMRI.head(3) "
   ]
  },
  {
   "cell_type": "code",
   "execution_count": null,
   "id": "12",
   "metadata": {
    "tags": []
   },
   "outputs": [],
   "source": [
    "TOPMRI.tail(3)"
   ]
  },
  {
   "cell_type": "code",
   "execution_count": null,
   "id": "fc3a5cd6-b54a-4ca9-90b6-27342753d3af",
   "metadata": {},
   "outputs": [],
   "source": [
    "to_be_harmonized_or_covar = [\n",
    "    'Age', 'Sex', 'ACA_B_CoV', 'MCA_B_CoV', 'PCA_B_CoV','DeepWM_B_CoV',\n",
    "     'ACA_B_CBF', 'MCA_B_CBF', 'PCA_B_CBF', 'LD', 'PLD','DeepWM_B_CBF',\n",
    "       'Labelling', 'Readout', 'M0','TotalGM_B_CoV',\n",
    "       'TotalGM_B_CBF',\n",
    "]\n",
    "not_harmonized= ['GM_vol', 'WM_vol', 'CSF_vol','GM_ICVRatio', 'GMWM_ICVRatio', 'WMHvol_WMvol', 'WMH_count',\n",
    "                'LD', 'PLD', 'Labelling',\n",
    "       'Readout', 'M0','DeepWM_B_CoV','DeepWM_B_CBF',]\n",
    "\n",
    "TOPMRI_semi_features = TOPMRI.drop(to_be_harmonized_or_covar,axis=1)\n",
    "HELIUS_semi_features = HELIUS.drop(to_be_harmonized_or_covar,axis=1) \n",
    "\n",
    "TOPMRI = TOPMRI.drop(not_harmonized,axis=1)\n",
    "HELIUS = HELIUS.drop(not_harmonized,axis=1) "
   ]
  },
  {
   "cell_type": "code",
   "execution_count": null,
   "id": "7902bdfe-687b-4b96-9840-3d9e6e7b78ae",
   "metadata": {
    "tags": []
   },
   "outputs": [],
   "source": [
    "TOPMRI_semi_features.columns"
   ]
  },
  {
   "cell_type": "code",
   "execution_count": null,
   "id": "683f0718-8f60-437d-8055-967c5638bfaa",
   "metadata": {
    "tags": []
   },
   "outputs": [],
   "source": [
    "TOPMRI.columns"
   ]
  },
  {
   "cell_type": "code",
   "execution_count": null,
   "id": "8516fc44-a866-4079-acf8-bca7ae477edf",
   "metadata": {},
   "outputs": [],
   "source": [
    "\n",
    "# to_be_harmonized_or_covar = [\n",
    "#     'age', 'sex','deepWM_B_CoV', 'ACA_B_CoV', 'MCA_B_CoV', 'PCA_B_CoV', 'TotalGM_B_CoV',\n",
    "#     'DeepWM_B_CBF', 'ACA_B_CBF', 'MCA_B_CBF', 'PCA_B_CBF', 'TotalGM_B_CBF',\n",
    "# ]\n",
    "# to_be_harmonized_or_covar  = [x.lower() for x in to_be_harmonized_or_covar ]\n",
    "# not_harmonized= ['GM_vol', 'WM_vol', 'CSF_vol','GM_ICVRatio', 'GMWM_ICVRatio', 'WMHvol_WMvol', 'WMH_count',\n",
    "#                  'ld', 'pld', 'labelling', 'readout','M0']\n",
    "# not_harmonized  = [x.lower() for x in not_harmonized ]\n",
    "# TOPMRI_semi_features = topmri.drop(to_be_harmonized_or_covar,axis=1)\n",
    "# #HELIUS_semi_features = HELIUS.drop(to_be_harmonized_or_covar,axis=1)\n",
    "# EDIS_semi_features = EDIS.drop(to_be_harmonized_or_covar,axis=1) \n",
    "# #SABRE_semi_features = SABRE.drop(to_be_harmonized_or_covar,axis=1) \n",
    "# #INSI_semi_features = INSI.drop(to_be_harmonized_or_covar,axis=1)\n",
    "\n",
    "# TOPMRI = topmri.drop(not_harmonized,axis=1)\n",
    "# #HELIUS = HELIUS.drop(not_harmonized,axis=1)\n",
    "# EDIS = EDIS.drop(not_harmonized,axis=1) \n",
    "# #SABRE= SABRE.drop(not_harmonized,axis=1) \n",
    "# #INSI = INSI.drop(not_harmonized,axis=1)"
   ]
  },
  {
   "cell_type": "code",
   "execution_count": null,
   "id": "28f9578e-b985-431f-b344-8ac139674eff",
   "metadata": {
    "tags": []
   },
   "outputs": [],
   "source": [
    "# TOPMRI_semi_features, EDIS_semi_features, = sep.deal_with_readout_and_labelling(\n",
    "#     [TOPMRI_semi_features, EDIS_semi_features],\n",
    "#     ['m0'])"
   ]
  },
  {
   "cell_type": "code",
   "execution_count": null,
   "id": "4129bb0f-1cdb-4788-8b1d-4d81c3c71bc1",
   "metadata": {
    "tags": []
   },
   "outputs": [],
   "source": [
    "#datasets1 = [TOPMRI, HELIUS,]"
   ]
  },
  {
   "cell_type": "code",
   "execution_count": null,
   "id": "a4db9265-1d3b-4594-9209-6d73b6c2c4ec",
   "metadata": {
    "tags": []
   },
   "outputs": [],
   "source": [
    "# datasets = []\n",
    "# for myset in datasets1:\n",
    "#     myset = myset.drop(['DeepWM_B_CoV','DeepWM_B_CBF','LD', 'PLD', 'Labelling', 'Readout', 'M0'], axis=1)\n",
    "#     datasets.append(myset)#print(myset.columns)"
   ]
  },
  {
   "cell_type": "code",
   "execution_count": null,
   "id": "b314a794-8b8c-4c13-8a4e-7595d08bcbba",
   "metadata": {
    "tags": []
   },
   "outputs": [],
   "source": [
    "HELIUS.columns"
   ]
  },
  {
   "cell_type": "code",
   "execution_count": null,
   "id": "91c98469-b119-4bcd-b151-e71b9c6857b0",
   "metadata": {
    "tags": []
   },
   "outputs": [],
   "source": [
    "TOPMRIHELIUS = pd.concat([TOPMRI,HELIUS])"
   ]
  },
  {
   "cell_type": "code",
   "execution_count": null,
   "id": "3853e497-31f5-4c9f-a49f-f6d17429757e",
   "metadata": {},
   "outputs": [],
   "source": [
    "TOPMRIHELIUS.head(3)"
   ]
  },
  {
   "cell_type": "code",
   "execution_count": null,
   "id": "4667717b-d421-4c17-aaba-be1603e51adf",
   "metadata": {},
   "outputs": [],
   "source": [
    "TOPMRIHELIUS"
   ]
  },
  {
   "cell_type": "code",
   "execution_count": null,
   "id": "6f246154-0934-47b1-a975-7698999c0b04",
   "metadata": {
    "tags": []
   },
   "outputs": [],
   "source": []
  },
  {
   "cell_type": "code",
   "execution_count": null,
   "id": "13",
   "metadata": {
    "tags": []
   },
   "outputs": [],
   "source": [
    "\n",
    "len(TOPMRIHELIUS)"
   ]
  },
  {
   "cell_type": "code",
   "execution_count": null,
   "id": "14",
   "metadata": {},
   "outputs": [],
   "source": []
  },
  {
   "cell_type": "code",
   "execution_count": null,
   "id": "15",
   "metadata": {
    "tags": []
   },
   "outputs": [],
   "source": [
    "phenoTOPMRIHELIUS = TOPMRIHELIUS[['participant_id','Age', 'Sex', 'Site']]\n",
    "phenoTOPMRIHELIUS = phenoTOPMRIHELIUS.set_index('participant_id')\n",
    "print(len(phenoTOPMRIHELIUS))\n",
    "phenoTOPMRIHELIUS.head(3)"
   ]
  },
  {
   "cell_type": "code",
   "execution_count": null,
   "id": "16",
   "metadata": {
    "tags": []
   },
   "outputs": [],
   "source": [
    "dat_TOPMRIHELIUS = TOPMRIHELIUS.set_index('participant_id')\n",
    "dat_TOPMRIHELIUS = dat_TOPMRIHELIUS.T "
   ]
  },
  {
   "cell_type": "code",
   "execution_count": null,
   "id": "17",
   "metadata": {
    "tags": []
   },
   "outputs": [],
   "source": [
    "dat_TOPMRIHELIUS.head(3)"
   ]
  },
  {
   "cell_type": "code",
   "execution_count": null,
   "id": "18",
   "metadata": {
    "tags": []
   },
   "outputs": [],
   "source": [
    "print(len(phenoTOPMRIHELIUS))\n",
    "phenoTOPMRIHELIUS.head(3)\n"
   ]
  },
  {
   "cell_type": "code",
   "execution_count": null,
   "id": "19",
   "metadata": {
    "tags": []
   },
   "outputs": [],
   "source": [
    "phenoTOPMRIHELIUS.isna().sum()"
   ]
  },
  {
   "cell_type": "code",
   "execution_count": null,
   "id": "20",
   "metadata": {
    "tags": []
   },
   "outputs": [],
   "source": [
    "modZ = patsy.dmatrix(\"~ Age + Sex\", phenoTOPMRIHELIUS, return_type=\"dataframe\")\n",
    "modZ.head(3)"
   ]
  },
  {
   "cell_type": "code",
   "execution_count": null,
   "id": "21",
   "metadata": {
    "tags": []
   },
   "outputs": [],
   "source": [
    "len(modZ)"
   ]
  },
  {
   "cell_type": "code",
   "execution_count": null,
   "id": "22",
   "metadata": {
    "tags": []
   },
   "outputs": [],
   "source": []
  },
  {
   "cell_type": "code",
   "execution_count": null,
   "id": "23",
   "metadata": {
    "tags": []
   },
   "outputs": [],
   "source": [
    "dat_TOPMRIHELIUS"
   ]
  },
  {
   "cell_type": "code",
   "execution_count": null,
   "id": "24",
   "metadata": {
    "tags": []
   },
   "outputs": [],
   "source": [
    "phenoTOPMRIHELIUS['Site']"
   ]
  },
  {
   "cell_type": "code",
   "execution_count": null,
   "id": "25",
   "metadata": {
    "tags": []
   },
   "outputs": [],
   "source": [
    "modZ"
   ]
  },
  {
   "cell_type": "code",
   "execution_count": null,
   "id": "61e81ebb-f59d-4683-9487-5eca4e78442f",
   "metadata": {
    "tags": []
   },
   "outputs": [],
   "source": [
    "dat_TOPMRIHELIUS.tail(10)"
   ]
  },
  {
   "cell_type": "code",
   "execution_count": null,
   "id": "26",
   "metadata": {
    "tags": []
   },
   "outputs": [],
   "source": [
    "covbatTOPMRIHELIUS = covbat.combat(dat_TOPMRIHELIUS.tail(10), phenoTOPMRIHELIUS['Site'],  model=modZ, numerical_covariates =\"Age\")"
   ]
  },
  {
   "cell_type": "code",
   "execution_count": null,
   "id": "27",
   "metadata": {
    "tags": []
   },
   "outputs": [],
   "source": [
    "dat_TOPMRIHELIUS.head(3)"
   ]
  },
  {
   "cell_type": "code",
   "execution_count": null,
   "id": "2c142b91-5375-4b60-92b0-0885877e5ea9",
   "metadata": {
    "tags": []
   },
   "outputs": [],
   "source": [
    "covbatTOPMRIHELIUS = covbatTOPMRIHELIUS[2:]"
   ]
  },
  {
   "cell_type": "code",
   "execution_count": null,
   "id": "28",
   "metadata": {
    "tags": []
   },
   "outputs": [],
   "source": [
    "#covbatTOPMRIHELIUS = covbatTOPMRIHELIUS[2:]\n",
    "covbatTOPMRIHELIUS.head(3)\n",
    "# covbatTOPMRIEDIS = covbatTOPMRIEDIS[2:]\n",
    "# covbatTOPMRIEDIS\n",
    "#covbatTOPMRIHELIUS[2:]"
   ]
  },
  {
   "cell_type": "code",
   "execution_count": null,
   "id": "29",
   "metadata": {
    "tags": []
   },
   "outputs": [],
   "source": [
    "covbatTOPMRIHELIUS = pd.concat([dat_TOPMRIHELIUS.head(3), covbatTOPMRIHELIUS])\n",
    "covbatTOPMRIHELIUS = covbatTOPMRIHELIUS.T\n",
    "covbatTOPMRIHELIUS = covbatTOPMRIHELIUS.reset_index()"
   ]
  },
  {
   "cell_type": "code",
   "execution_count": null,
   "id": "30",
   "metadata": {
    "tags": []
   },
   "outputs": [],
   "source": [
    "covbatTOPMRIHELIUS"
   ]
  },
  {
   "cell_type": "code",
   "execution_count": null,
   "id": "959df231-9fe5-4d42-8bf0-670b2c829771",
   "metadata": {
    "tags": []
   },
   "outputs": [],
   "source": [
    "#covbatTOPMRIHELIUS.reset_index()"
   ]
  },
  {
   "cell_type": "code",
   "execution_count": null,
   "id": "31",
   "metadata": {
    "tags": []
   },
   "outputs": [],
   "source": [
    "TOPMRI_adjusted = covbatTOPMRIHELIUS[covbatTOPMRIHELIUS['Site'] == 2]\n",
    "HELIUS_adjusted   = covbatTOPMRIHELIUS[covbatTOPMRIHELIUS['Site'] == 3] "
   ]
  },
  {
   "cell_type": "code",
   "execution_count": null,
   "id": "32",
   "metadata": {
    "tags": []
   },
   "outputs": [],
   "source": [
    "TOPMRI_adjusted = TOPMRI_adjusted.drop('Site', axis=1)\n",
    "TOPMRI_adjusted.head(3)"
   ]
  },
  {
   "cell_type": "code",
   "execution_count": null,
   "id": "33",
   "metadata": {
    "tags": []
   },
   "outputs": [],
   "source": [
    "HELIUS_adjusted = HELIUS_adjusted.drop('Site', axis=1)\n",
    "HELIUS_adjusted.tail(3)"
   ]
  },
  {
   "cell_type": "code",
   "execution_count": null,
   "id": "1763c3f7-badd-4e6b-b259-4586323921a4",
   "metadata": {
    "tags": []
   },
   "outputs": [],
   "source": [
    "TOPMRI_adjusted = TOPMRI_adjusted.merge(TOPMRI_semi_features,on='participant_id')\n",
    "HELIUS_adjusted = HELIUS_adjusted.merge(HELIUS_semi_features,on='participant_id')"
   ]
  },
  {
   "cell_type": "code",
   "execution_count": null,
   "id": "cbae97bd-3698-419a-923b-884107e994b7",
   "metadata": {
    "tags": []
   },
   "outputs": [],
   "source": [
    "TOPMRI_adjusted "
   ]
  },
  {
   "cell_type": "code",
   "execution_count": null,
   "id": "e2794b0f-6439-4ee3-acfc-eb8b7b1434ff",
   "metadata": {
    "tags": []
   },
   "outputs": [],
   "source": [
    "TOPMRI_adjusted = TOPMRI_adjusted.drop('Site',axis=1)\n",
    "HELIUS_adjusted = HELIUS_adjusted.drop('Site',axis=1)"
   ]
  },
  {
   "cell_type": "code",
   "execution_count": null,
   "id": "34",
   "metadata": {
    "tags": []
   },
   "outputs": [],
   "source": [
    "TOPMRI_adjusted.to_csv('harm_results/covbat/topmri_covbat_a_helius.csv')\n",
    "HELIUS_adjusted.to_csv('harm_results/covbat/helius_covbat_a_topmri.csv')"
   ]
  },
  {
   "cell_type": "code",
   "execution_count": null,
   "id": "35",
   "metadata": {},
   "outputs": [],
   "source": [
    "TOPMRI_adjusted.columns"
   ]
  },
  {
   "cell_type": "code",
   "execution_count": null,
   "id": "36",
   "metadata": {},
   "outputs": [],
   "source": [
    "len(TOPMRI_adjusted.columns)"
   ]
  },
  {
   "cell_type": "code",
   "execution_count": null,
   "id": "7ab23503-7064-4c19-821f-31c3d3972da4",
   "metadata": {
    "tags": []
   },
   "outputs": [],
   "source": [
    "TOPMRI_adjusted.shape"
   ]
  },
  {
   "cell_type": "code",
   "execution_count": null,
   "id": "5a9c9830-f779-4b9f-97a0-3ea62d914b4d",
   "metadata": {},
   "outputs": [],
   "source": []
  }
 ],
 "metadata": {
  "kernelspec": {
   "display_name": "Python 3 (ipykernel)",
   "language": "python",
   "name": "python3"
  },
  "language_info": {
   "codemirror_mode": {
    "name": "ipython",
    "version": 3
   },
   "file_extension": ".py",
   "mimetype": "text/x-python",
   "name": "python",
   "nbconvert_exporter": "python",
   "pygments_lexer": "ipython3",
   "version": "3.11.7"
  }
 },
 "nbformat": 4,
 "nbformat_minor": 5
}
