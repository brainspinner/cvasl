{
 "cells": [
  {
   "cell_type": "markdown",
   "id": "0",
   "metadata": {},
   "source": [
    "# Autocombat TOP and StrokeMRI vs. EDIS harmonized datasets"
   ]
  },
  {
   "cell_type": "markdown",
   "id": "1",
   "metadata": {},
   "source": [
    "Note this must be run in the `comscan6` environment"
   ]
  },
  {
   "cell_type": "markdown",
   "id": "2",
   "metadata": {
    "tags": []
   },
   "source": [
    "## import libraries"
   ]
  },
  {
   "cell_type": "code",
   "execution_count": null,
   "id": "3",
   "metadata": {
    "tags": []
   },
   "outputs": [],
   "source": [
    "import os\n",
    "import sys\n",
    "\n",
    "import pandas as pd\n",
    "import numpy as np\n",
    "\n",
    "sys.path.insert(0, '../../') # path to functions\n",
    "\n",
    "import cvasl.harmony as har\n",
    "import cvasl.seperated as sep\n",
    "import cvasl.vendor.comscan.neurocombat as autocombat"
   ]
  },
  {
   "cell_type": "markdown",
   "id": "4",
   "metadata": {},
   "source": [
    "## Let's see how we would apply this to our data\n",
    "We will have to flip it on it's side to make it work"
   ]
  },
  {
   "cell_type": "code",
   "execution_count": null,
   "id": "6",
   "metadata": {},
   "outputs": [],
   "source": [
    "EDIS = pd.read_csv('../new_data/TrainingDataComplete_EDIS.csv')\n",
    "# HELIUS = pd.read_csv('../new_data/TrainingDataComplete_HELIUS.csv')\n",
    "# SABRE = pd.read_csv('../new_data/TrainingDataComplete_SABRE.csv')\n",
    "MRI = pd.read_csv('../new_data/TrainingDataComplete_StrokeMRI.csv')\n",
    "TOP = pd.read_csv('../new_data/TrainingDataComplete_TOP.csv')\n",
    "#Insight46 = pd.read_csv('../new_data/TrainingDataComplete_Insight46.csv')"
   ]
  },
  {
   "cell_type": "code",
   "execution_count": null,
   "id": "7",
   "metadata": {
    "tags": []
   },
   "outputs": [],
   "source": [
    "TOP = TOP.drop([ 'ID'], axis= 1)\n",
    "TOP.head(3)"
   ]
  },
  {
   "cell_type": "code",
   "execution_count": null,
   "id": "8",
   "metadata": {
    "tags": []
   },
   "outputs": [],
   "source": [
    "MRI = MRI.drop(['ID'],axis = 1)\n",
    "MRI.tail(5)"
   ]
  },
  {
   "cell_type": "code",
   "execution_count": null,
   "id": "9",
   "metadata": {
    "tags": []
   },
   "outputs": [],
   "source": [
    "EDIS = EDIS.drop(['ID'],axis = 1)\n",
    "EDIS.tail(5)"
   ]
  },
  {
   "cell_type": "code",
   "execution_count": null,
   "id": "10",
   "metadata": {
    "tags": []
   },
   "outputs": [],
   "source": [
    "TOPMRI = pd.concat([TOP, MRI])\n",
    "TOPMRI['Site'] = 0\n",
    "TOPMRI.head(3) "
   ]
  },
  {
   "cell_type": "code",
   "execution_count": null,
   "id": "cd38acec-0231-4970-b29e-66abb3898420",
   "metadata": {
    "tags": []
   },
   "outputs": [],
   "source": [
    "datasets = [TOPMRI, EDIS]\n",
    "new_frames = sep.deal_with_readout_and_labelling(datasets, ['M0'])"
   ]
  },
  {
   "cell_type": "code",
   "execution_count": null,
   "id": "b88e3aff-6d00-4df9-a5fe-cdf24845713b",
   "metadata": {},
   "outputs": [],
   "source": []
  },
  {
   "cell_type": "code",
   "execution_count": null,
   "id": "e31594ca-504a-4f13-aa9a-ebe675c8896a",
   "metadata": {
    "tags": []
   },
   "outputs": [],
   "source": [
    "# make sure things are inproper order\n",
    "for frame in new_frames:\n",
    "    print(len(frame))\n",
    "print(len(TOPMRI))\n",
    "print(len(EDIS))"
   ]
  },
  {
   "cell_type": "code",
   "execution_count": null,
   "id": "784efe66-8d2c-4f9d-9ba0-6fd18222cbce",
   "metadata": {},
   "outputs": [],
   "source": [
    "#new_frames[0]\n",
    "TOPMRI = new_frames[0]\n",
    "EDIS = new_frames[1]\n"
   ]
  },
  {
   "cell_type": "code",
   "execution_count": null,
   "id": "382c03ff-d892-42b0-904b-37afb4d14b79",
   "metadata": {
    "tags": []
   },
   "outputs": [],
   "source": [
    "new_frame_datasets=  [TOPMRI,  EDIS, ]\n",
    "for everyone in new_frame_datasets:\n",
    "    everyone.columns =  everyone.columns.str.lower()\n",
    "TOPMRI.head(3)"
   ]
  },
  {
   "cell_type": "code",
   "execution_count": null,
   "id": "13",
   "metadata": {
    "tags": []
   },
   "outputs": [],
   "source": [
    "TOPMRIEDIS = pd.concat([TOPMRI, EDIS])\n",
    "TOPMRIEDIS"
   ]
  },
  {
   "cell_type": "code",
   "execution_count": null,
   "id": "d4d18cb8-4ba8-4cab-b865-bdc32992470d",
   "metadata": {
    "tags": []
   },
   "outputs": [],
   "source": [
    "# make sure things are inproper order\n",
    "for frame in new_frames:\n",
    "    print(len(frame))\n",
    "print(len(TOPMRI))\n",
    "print(len(EDIS))"
   ]
  },
  {
   "cell_type": "code",
   "execution_count": null,
   "id": "ed0a0908-e90b-42f7-b4ca-5e05a14c91b5",
   "metadata": {},
   "outputs": [],
   "source": [
    "#new_frames[0]\n",
    "TOPMRI = new_frames[0]\n",
    "EDIS = new_frames[1]\n"
   ]
  },
  {
   "cell_type": "code",
   "execution_count": null,
   "id": "9aa1056d-5cd5-4fbd-9116-1527901ecfab",
   "metadata": {
    "tags": []
   },
   "outputs": [],
   "source": [
    "new_frame_datasets=  [TOPMRI,  EDIS, ]\n",
    "for everyone in new_frame_datasets:\n",
    "    everyone.columns =  everyone.columns.str.lower()\n",
    "TOPMRI.head(3)"
   ]
  },
  {
   "cell_type": "code",
   "execution_count": null,
   "id": "14",
   "metadata": {
    "tags": []
   },
   "outputs": [],
   "source": [
    "TOPMRIEDIS['decade']=(TOPMRIEDIS['age']/10).round()\n",
    "#TOPMRI['decade']"
   ]
  },
  {
   "cell_type": "code",
   "execution_count": null,
   "id": "15",
   "metadata": {
    "tags": []
   },
   "outputs": [],
   "source": [
    "TOPMRIEDIS = TOPMRIEDIS.sort_values(by='age')\n",
    "TOPMRIEDIS.reset_index(inplace=True)\n",
    "TOPMRIEDIS['fine_grain'] = TOPMRIEDIS['age'].rolling(2).sum()/2\n",
    "TOPMRIEDIS"
   ]
  },
  {
   "cell_type": "code",
   "execution_count": null,
   "id": "16",
   "metadata": {
    "tags": []
   },
   "outputs": [],
   "source": [
    "TOPMRIEDIS[2:].fine_grain.iloc[::2] = TOPMRIEDIS[:].fine_grain.iloc[1::2]\n",
    "TOPMRIEDIS['fine_grain']"
   ]
  },
  {
   "cell_type": "code",
   "execution_count": null,
   "id": "17",
   "metadata": {
    "tags": []
   },
   "outputs": [],
   "source": [
    "TOPMRIEDIS['fine_grain'][0] = TOPMRIEDIS['fine_grain'][1]\n",
    "TOPMRIEDIS['fine_grain']"
   ]
  },
  {
   "cell_type": "code",
   "execution_count": null,
   "id": "18",
   "metadata": {
    "tags": []
   },
   "outputs": [],
   "source": [
    "TOPMRIEDIS['decade'].unique()"
   ]
  },
  {
   "cell_type": "code",
   "execution_count": null,
   "id": "19",
   "metadata": {
    "tags": []
   },
   "outputs": [],
   "source": [
    "TOPMRIEDIS.columns"
   ]
  },
  {
   "cell_type": "code",
   "execution_count": null,
   "id": "20",
   "metadata": {
    "tags": []
   },
   "outputs": [],
   "source": [
    "combat = autocombat.Combat(\n",
    "    features=[# 'gm_vol', 'wm_vol', 'csf_vol',\n",
    "       #'gm_icvratio', 'gmwm_icvratio', 'wmhvol_wmvol', 'wmh_count',\n",
    "        'aca_b_cov', 'mca_b_cov', 'pca_b_cov', 'totalgm_b_cov',\n",
    "        'aca_b_cbf', 'mca_b_cbf', 'pca_b_cbf', 'totalgm_b_cbf',],\n",
    "             #'ld', 'pld', 'labelling', 'readout',],\n",
    "    sites=[\"site\"], discrete_covariates=['sex'],continuous_covariates=['decade'],)\n",
    "\n",
    "fg_combat = autocombat.Combat(\n",
    "    features=[ #'gm_vol', 'wm_vol', 'csf_vol',\n",
    "       #'gm_icvratio', 'gmwm_icvratio', 'wmhvol_wmvol', 'wmh_count',\n",
    "       'aca_b_cov', 'mca_b_cov', 'pca_b_cov', 'totalgm_b_cov',\n",
    "       'aca_b_cbf', 'mca_b_cbf', 'pca_b_cbf', 'totalgm_b_cbf',],\n",
    "            # 'ld', 'pld', 'labelling', 'readout',],\n",
    "    sites=[ \"site\"], discrete_covariates=['sex'],continuous_covariates=['fine_grain'],)\n"
   ]
  },
  {
   "cell_type": "code",
   "execution_count": null,
   "id": "21",
   "metadata": {
    "tags": []
   },
   "outputs": [],
   "source": [
    "print(combat.fit(TOPMRIEDIS))\n",
    "print(fg_combat.fit(TOPMRIEDIS))"
   ]
  },
  {
   "cell_type": "code",
   "execution_count": null,
   "id": "22",
   "metadata": {
    "tags": []
   },
   "outputs": [],
   "source": [
    "print(combat.gamma_star_)\n",
    "print(fg_combat.gamma_star_)"
   ]
  },
  {
   "cell_type": "code",
   "execution_count": null,
   "id": "23",
   "metadata": {
    "tags": []
   },
   "outputs": [],
   "source": [
    "transformed_TOPMRIEDIS= combat.transform(TOPMRIEDIS)\n",
    "transformed_TOPMRIEDIS.head(3)"
   ]
  },
  {
   "cell_type": "code",
   "execution_count": null,
   "id": "ad63a3dc-b6e4-456a-8e9f-f8ecdaaf4a4a",
   "metadata": {
    "tags": []
   },
   "outputs": [],
   "source": [
    "# check what harmonization did\n",
    "for column in ['age', 'sex', 'site', 'gm_vol', 'wm_vol',\n",
    "       'csf_vol', 'gm_icvratio', 'gmwm_icvratio', 'wmhvol_wmvol', 'wmh_count',\n",
    "       'deepwm_b_cov', 'aca_b_cov', 'mca_b_cov', 'pca_b_cov', 'totalgm_b_cov',\n",
    "       'deepwm_b_cbf', 'aca_b_cbf', 'mca_b_cbf', 'pca_b_cbf', 'totalgm_b_cbf',\n",
    "       'ld', 'pld', 'labelling', 'readout', 'decade', 'fine_grain']:\n",
    "        \n",
    "    print(column, sum(TOPMRIEDIS[column] - transformed_TOPMRIEDIS[column]))"
   ]
  },
  {
   "cell_type": "code",
   "execution_count": null,
   "id": "24",
   "metadata": {
    "tags": []
   },
   "outputs": [],
   "source": [
    "fg_transformed_TOPMRIEDIS= fg_combat.transform(TOPMRIEDIS)\n",
    "fg_transformed_TOPMRIEDIS.head(3)"
   ]
  },
  {
   "cell_type": "code",
   "execution_count": null,
   "id": "25",
   "metadata": {
    "tags": []
   },
   "outputs": [],
   "source": [
    "TOPMRIEDIS.head(3)"
   ]
  },
  {
   "cell_type": "code",
   "execution_count": null,
   "id": "26",
   "metadata": {
    "tags": []
   },
   "outputs": [],
   "source": [
    "transformed_TOPMRIEDIS= combat.transform(TOPMRIEDIS)\n",
    "transformed_TOPMRIEDIS.head(3)"
   ]
  },
  {
   "cell_type": "code",
   "execution_count": null,
   "id": "27",
   "metadata": {
    "tags": []
   },
   "outputs": [],
   "source": [
    "fg_transformed_TOPMRIEDIS= fg_combat.transform(TOPMRIEDIS)\n",
    "fg_transformed_TOPMRIEDIS.head(3)"
   ]
  },
  {
   "cell_type": "code",
   "execution_count": null,
   "id": "28",
   "metadata": {
    "tags": []
   },
   "outputs": [],
   "source": [
    "transformed_TOPMRIEDIS.columns"
   ]
  },
  {
   "cell_type": "code",
   "execution_count": null,
   "id": "29",
   "metadata": {
    "tags": []
   },
   "outputs": [],
   "source": [
    "TOPMRI_transformed = transformed_TOPMRIEDIS[ transformed_TOPMRIEDIS['site']==0]\n",
    "TOPMRI_transformed = TOPMRI_transformed.drop(['site', 'decade','fine_grain', 'index'], axis=1)\n",
    "TOPMRI_transformed.head(3)"
   ]
  },
  {
   "cell_type": "code",
   "execution_count": null,
   "id": "30",
   "metadata": {
    "tags": []
   },
   "outputs": [],
   "source": [
    "fg_TOPMRI_transformed = fg_transformed_TOPMRIEDIS[ fg_transformed_TOPMRIEDIS['site']==0]\n",
    "fg_TOPMRI_transformed = fg_TOPMRI_transformed .drop(['site', 'decade','fine_grain', 'index'], axis=1)\n",
    "fg_TOPMRI_transformed.head(3)"
   ]
  },
  {
   "cell_type": "code",
   "execution_count": null,
   "id": "31",
   "metadata": {
    "tags": []
   },
   "outputs": [],
   "source": [
    "EDIS_transformed = transformed_TOPMRIEDIS[ transformed_TOPMRIEDIS['site']==1]\n",
    "EDIS_transformed = EDIS_transformed.drop(['site', 'decade', 'index', 'fine_grain'], axis=1)\n",
    "EDIS_transformed.head(3)"
   ]
  },
  {
   "cell_type": "code",
   "execution_count": null,
   "id": "32",
   "metadata": {
    "tags": []
   },
   "outputs": [],
   "source": [
    "fg_EDIS_transformed = fg_transformed_TOPMRIEDIS[fg_transformed_TOPMRIEDIS['site']==1]\n",
    "fg_EDIS_transformed = fg_EDIS_transformed.drop(['site', 'decade', 'index', 'fine_grain'], axis=1)\n",
    "fg_EDIS_transformed.head(3)"
   ]
  },
  {
   "cell_type": "code",
   "execution_count": null,
   "id": "33",
   "metadata": {
    "tags": []
   },
   "outputs": [],
   "source": [
    "TOPMRI_transformed.to_csv('harm_results/autocombat/autocom_harm_topmri_v_e.csv')\n",
    "EDIS_transformed.to_csv('harm_results/autocombat/autocom_harm_EDIS.csv')\n",
    "\n",
    "fg_TOPMRI_transformed.to_csv('harm_results/autocombat/fg_autocom_harm_topmri_v_e.csv')\n",
    "fg_EDIS_transformed.to_csv('harm_results/autocombat/fg_autocom_harm_EDIS1.csv')"
   ]
  },
  {
   "cell_type": "markdown",
   "id": "34",
   "metadata": {},
   "source": [
    "# Data quality check"
   ]
  },
  {
   "cell_type": "code",
   "execution_count": null,
   "id": "35",
   "metadata": {
    "tags": []
   },
   "outputs": [],
   "source": [
    "TOPMRI_transformed.isna().sum().sum()"
   ]
  },
  {
   "cell_type": "code",
   "execution_count": null,
   "id": "36",
   "metadata": {
    "tags": []
   },
   "outputs": [],
   "source": [
    "EDIS_transformed.isna().sum().sum()"
   ]
  },
  {
   "cell_type": "code",
   "execution_count": null,
   "id": "37",
   "metadata": {
    "tags": []
   },
   "outputs": [],
   "source": [
    "number_columns = ['sex', 'gm_vol', 'wm_vol', 'csf_vol',\n",
    "       'gm_icvratio', 'gmwm_icvratio', 'wmhvol_wmvol', 'wmh_count',\n",
    "       'aca_b_cov', 'mca_b_cov', 'pca_b_cov', 'totalgm_b_cov',\n",
    "        'aca_b_cbf', 'mca_b_cbf', 'pca_b_cbf', 'totalgm_b_cbf',]"
   ]
  },
  {
   "cell_type": "code",
   "execution_count": null,
   "id": "38",
   "metadata": {
    "tags": []
   },
   "outputs": [],
   "source": [
    "#neuro_harm_top.head(3)\n",
    "(TOPMRI_transformed[number_columns] < 0).sum()"
   ]
  },
  {
   "cell_type": "code",
   "execution_count": null,
   "id": "39",
   "metadata": {
    "tags": []
   },
   "outputs": [],
   "source": [
    "(EDIS_transformed[number_columns] < 0).sum()"
   ]
  },
  {
   "cell_type": "code",
   "execution_count": null,
   "id": "40",
   "metadata": {
    "tags": []
   },
   "outputs": [],
   "source": [
    "EDIS_transformed"
   ]
  },
  {
   "cell_type": "markdown",
   "id": "41",
   "metadata": {},
   "source": [
    "## So some variables are again problematic, becuas they are negative"
   ]
  },
  {
   "cell_type": "markdown",
   "id": "42",
   "metadata": {
    "tags": []
   },
   "source": [
    " We will wait about logging it until we see other columns we may want to log across all datasets"
   ]
  },
  {
   "cell_type": "code",
   "execution_count": null,
   "id": "43",
   "metadata": {},
   "outputs": [],
   "source": []
  }
 ],
 "metadata": {
  "kernelspec": {
   "display_name": "Python 3 (ipykernel)",
   "language": "python",
   "name": "python3"
  },
  "language_info": {
   "codemirror_mode": {
    "name": "ipython",
    "version": 3
   },
   "file_extension": ".py",
   "mimetype": "text/x-python",
   "name": "python",
   "nbconvert_exporter": "python",
   "pygments_lexer": "ipython3",
   "version": "3.7.12"
  }
 },
 "nbformat": 4,
 "nbformat_minor": 5
}
