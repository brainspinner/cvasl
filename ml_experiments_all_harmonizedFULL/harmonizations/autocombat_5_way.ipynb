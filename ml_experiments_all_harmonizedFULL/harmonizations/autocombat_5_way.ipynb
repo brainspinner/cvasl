{
 "cells": [
  {
   "cell_type": "markdown",
   "id": "0",
   "metadata": {},
   "source": [
    "# Autocombat  5 way harmonized datasets"
   ]
  },
  {
   "cell_type": "markdown",
   "id": "1",
   "metadata": {},
   "source": [
    "Note this must be run in the `comscan6` environment"
   ]
  },
  {
   "cell_type": "markdown",
   "id": "2",
   "metadata": {
    "tags": []
   },
   "source": [
    "## import libraries"
   ]
  },
  {
   "cell_type": "code",
   "execution_count": null,
   "id": "3",
   "metadata": {
    "tags": []
   },
   "outputs": [],
   "source": [
    "import os\n",
    "import sys\n",
    "\n",
    "import pandas as pd\n",
    "import numpy as np\n",
    "\n",
    "sys.path.insert(0, '../../') # path to functions\n",
    "\n",
    "import cvasl.harmony as har\n",
    "import cvasl.seperated as sep\n",
    "import cvasl.vendor.comscan.neurocombat as autocombat"
   ]
  },
  {
   "cell_type": "markdown",
   "id": "4",
   "metadata": {},
   "source": [
    "## Let's see how we would apply this to our data\n",
    "We will have to flip it on it's side to make it work"
   ]
  },
  {
   "cell_type": "code",
   "execution_count": null,
   "id": "e942dd08-3b9f-4746-a44c-7ac9e9e19c29",
   "metadata": {
    "tags": []
   },
   "outputs": [],
   "source": [
    "EDIS = pd.read_csv('../new_data/TrainingDataComplete_EDIS.csv')\n",
    "HELIUS = pd.read_csv('../new_data/TrainingDataComplete_HELIUS.csv')\n",
    "SABRE = pd.read_csv('../new_data/TrainingDataComplete_SABRE.csv')\n",
    "MRI = pd.read_csv('../new_data/TrainingDataComplete_StrokeMRI.csv')\n",
    "TOP = pd.read_csv('../new_data/TrainingDataComplete_TOP.csv')\n",
    "Insight46 = pd.read_csv('../new_data/TrainingDataComplete_Insight46.csv')"
   ]
  },
  {
   "cell_type": "code",
   "execution_count": null,
   "id": "6",
   "metadata": {},
   "outputs": [],
   "source": [
    "## We found there is one aprticipant from two seperate sights (HELIUS and SABRE) named the same. There fore we will show and switch this"
   ]
  },
  {
   "cell_type": "code",
   "execution_count": null,
   "id": "7",
   "metadata": {},
   "outputs": [],
   "source": [
    "HELIUS[HELIUS['participant_id']=='sub-153852_1']"
   ]
  },
  {
   "cell_type": "code",
   "execution_count": null,
   "id": "8",
   "metadata": {},
   "outputs": [],
   "source": [
    "SABRE[SABRE['participant_id']=='sub-153852_1']"
   ]
  },
  {
   "cell_type": "code",
   "execution_count": null,
   "id": "9",
   "metadata": {
    "tags": []
   },
   "outputs": [],
   "source": [
    "HELIUS.loc[HELIUS['participant_id']=='sub-153852_1', 'participant_id'] = 'sub-153852_1H'"
   ]
  },
  {
   "cell_type": "code",
   "execution_count": null,
   "id": "71694013-a13d-4ad3-a778-937dae59e799",
   "metadata": {
    "tags": []
   },
   "outputs": [],
   "source": [
    "list_of_dataframes = [\n",
    "    EDIS,\n",
    "    HELIUS ,\n",
    "    SABRE,\n",
    "    MRI,\n",
    "    TOP,\n",
    "    Insight46,\n",
    "    \n",
    "]\n",
    "for frame in list_of_dataframes:\n",
    "    print(frame.Sex.unique())"
   ]
  },
  {
   "cell_type": "code",
   "execution_count": null,
   "id": "14",
   "metadata": {},
   "outputs": [],
   "source": [
    "### drop ID columns"
   ]
  },
  {
   "cell_type": "code",
   "execution_count": null,
   "id": "15",
   "metadata": {
    "tags": []
   },
   "outputs": [],
   "source": [
    "TOP = TOP.drop([ 'ID'], axis= 1)\n",
    "TOP.head(3)"
   ]
  },
  {
   "cell_type": "code",
   "execution_count": null,
   "id": "16",
   "metadata": {
    "tags": []
   },
   "outputs": [],
   "source": [
    "MRI = MRI.drop(['ID'],axis = 1)\n",
    "MRI.tail(5)"
   ]
  },
  {
   "cell_type": "code",
   "execution_count": null,
   "id": "17",
   "metadata": {
    "tags": []
   },
   "outputs": [],
   "source": [
    "EDIS = EDIS.drop(['ID'],axis = 1)\n",
    "EDIS.tail(5)"
   ]
  },
  {
   "cell_type": "code",
   "execution_count": null,
   "id": "18",
   "metadata": {
    "tags": []
   },
   "outputs": [],
   "source": [
    "SABRE = SABRE.drop(['ID'],axis = 1)\n",
    "SABRE.tail(5)"
   ]
  },
  {
   "cell_type": "code",
   "execution_count": null,
   "id": "19",
   "metadata": {
    "tags": []
   },
   "outputs": [],
   "source": [
    "HELIUS = HELIUS.drop(['ID'],axis = 1)\n",
    "HELIUS.tail(5)"
   ]
  },
  {
   "cell_type": "code",
   "execution_count": null,
   "id": "20",
   "metadata": {
    "tags": []
   },
   "outputs": [],
   "source": [
    "Insight46 = Insight46.drop(['ID'],axis = 1)\n",
    "Insight46.tail(5)"
   ]
  },
  {
   "cell_type": "code",
   "execution_count": null,
   "id": "21",
   "metadata": {
    "tags": []
   },
   "outputs": [],
   "source": [
    "TOPMRI = pd.concat([TOP, MRI])\n",
    "TOPMRI['Site'] = 0\n",
    "TOPMRI.head(3) "
   ]
  },
  {
   "cell_type": "code",
   "execution_count": null,
   "id": "87f0d14a-f317-40ea-983e-f7a1074fb17c",
   "metadata": {
    "tags": []
   },
   "outputs": [],
   "source": [
    "datasets = [TOPMRI, HELIUS, SABRE, EDIS, Insight46]\n",
    "new_frames = sep.deal_with_readout_and_labelling(datasets, ['M0'])"
   ]
  },
  {
   "cell_type": "code",
   "execution_count": null,
   "id": "d1c7e229-6ab2-4664-a306-b31d278227f4",
   "metadata": {},
   "outputs": [],
   "source": []
  },
  {
   "cell_type": "code",
   "execution_count": null,
   "id": "b53344e2-e2e0-43e6-81f0-d02c32996b60",
   "metadata": {},
   "outputs": [],
   "source": [
    "# make sure things are inproper order\n",
    "for frame in new_frames:\n",
    "    print(len(frame))\n",
    "print(len(TOPMRI))\n",
    "print(len(HELIUS))\n",
    "print(len(SABRE))\n",
    "\n",
    "print(len(EDIS))\n",
    "print(len(Insight46))"
   ]
  },
  {
   "cell_type": "code",
   "execution_count": null,
   "id": "473a9d82-e2e7-49a4-9254-12a54f5fb331",
   "metadata": {},
   "outputs": [],
   "source": [
    "#new_frames[0]\n",
    "TOPMRI = new_frames[0]\n",
    "\n",
    "SABRE = new_frames[1]\n",
    "HELIUS = new_frames[2]\n",
    "EDIS = new_frames[3]\n",
    "Insight46 = new_frames[4]"
   ]
  },
  {
   "cell_type": "code",
   "execution_count": null,
   "id": "22",
   "metadata": {
    "tags": []
   },
   "outputs": [],
   "source": [
    "new_frame_datasets=  [TOPMRI, HELIUS, SABRE, EDIS, Insight46]\n",
    "for everyone in new_frame_datasets:\n",
    "    everyone.columns =  everyone.columns.str.lower()\n",
    "TOPMRI.head(3)"
   ]
  },
  {
   "cell_type": "code",
   "execution_count": null,
   "id": "23",
   "metadata": {
    "tags": []
   },
   "outputs": [],
   "source": [
    "TOPMRI['site'] = 0\n",
    "EDIS['site'] = 1\n",
    "HELIUS['site'] = 2\n",
    "SABRE['site'] = 3\n",
    "Insight46['site'] = 4"
   ]
  },
  {
   "cell_type": "code",
   "execution_count": null,
   "id": "906b7369-6a18-45ce-9db1-3e242b81c185",
   "metadata": {
    "tags": []
   },
   "outputs": [],
   "source": [
    "Insight46.head(3)"
   ]
  },
  {
   "cell_type": "code",
   "execution_count": null,
   "id": "c108ef37-e1f5-44e6-91c2-e499e7115381",
   "metadata": {},
   "outputs": [],
   "source": []
  },
  {
   "cell_type": "code",
   "execution_count": null,
   "id": "24",
   "metadata": {
    "tags": []
   },
   "outputs": [],
   "source": [
    "FIVEDATA = pd.concat(new_frame_datasets)\n",
    "FIVEDATA.head(3)"
   ]
  },
  {
   "cell_type": "code",
   "execution_count": null,
   "id": "25",
   "metadata": {
    "tags": []
   },
   "outputs": [],
   "source": [
    "FIVEDATA['decade']=(FIVEDATA['age']/10).round()\n",
    "#FIVEDATA['decade']"
   ]
  },
  {
   "cell_type": "code",
   "execution_count": null,
   "id": "26",
   "metadata": {
    "tags": []
   },
   "outputs": [],
   "source": [
    "FIVEDATA = FIVEDATA.sort_values(by='age')\n",
    "FIVEDATA.reset_index(inplace=True)\n",
    "FIVEDATA['fine_grain'] = FIVEDATA['age'].rolling(2).sum()/2\n",
    "FIVEDATA"
   ]
  },
  {
   "cell_type": "code",
   "execution_count": null,
   "id": "27",
   "metadata": {},
   "outputs": [],
   "source": [
    "FIVEDATA.fine_grain"
   ]
  },
  {
   "cell_type": "code",
   "execution_count": null,
   "id": "28",
   "metadata": {
    "tags": []
   },
   "outputs": [],
   "source": [
    "FIVEDATA[:].fine_grain.iloc[::2] = FIVEDATA[:].fine_grain.iloc[1::2]\n",
    "FIVEDATA['fine_grain']"
   ]
  },
  {
   "cell_type": "code",
   "execution_count": null,
   "id": "31",
   "metadata": {
    "tags": []
   },
   "outputs": [],
   "source": [
    "FIVEDATA['decade'].unique()"
   ]
  },
  {
   "cell_type": "code",
   "execution_count": null,
   "id": "32",
   "metadata": {
    "tags": []
   },
   "outputs": [],
   "source": [
    "FIVEDATA.columns"
   ]
  },
  {
   "cell_type": "code",
   "execution_count": null,
   "id": "33",
   "metadata": {
    "tags": []
   },
   "outputs": [],
   "source": [
    "combat = autocombat.Combat(\n",
    "    features=[ #'gm_vol', 'wm_vol', 'csf_vol',\n",
    "       #'gm_icvratio', 'gmwm_icvratio', 'wmhvol_wmvol', 'wmh_count',\n",
    "        'aca_b_cov', 'mca_b_cov', 'pca_b_cov', 'totalgm_b_cov',\n",
    "        'aca_b_cbf', 'mca_b_cbf', 'pca_b_cbf', 'totalgm_b_cbf',],\n",
    "    sites=[ \"site\"], discrete_covariates=['sex'],continuous_covariates=['decade'],)\n",
    "\n",
    "fg_combat = autocombat.Combat(\n",
    "    features=[ #'gm_vol', 'wm_vol', 'csf_vol',\n",
    "       #'gm_icvratio', 'gmwm_icvratio', 'wmhvol_wmvol', 'wmh_count',\n",
    "       'aca_b_cov', 'mca_b_cov', 'pca_b_cov', 'totalgm_b_cov',\n",
    "       'aca_b_cbf', 'mca_b_cbf', 'pca_b_cbf', 'totalgm_b_cbf',],\n",
    "    sites=[ \"site\"], discrete_covariates=['sex'],continuous_covariates=['fine_grain'],)\n"
   ]
  },
  {
   "cell_type": "code",
   "execution_count": null,
   "id": "34",
   "metadata": {
    "tags": []
   },
   "outputs": [],
   "source": [
    "print(combat.fit(FIVEDATA))\n",
    "print(fg_combat.fit(FIVEDATA))"
   ]
  },
  {
   "cell_type": "code",
   "execution_count": null,
   "id": "35",
   "metadata": {
    "tags": []
   },
   "outputs": [],
   "source": [
    "print(combat.gamma_star_)\n",
    "print(fg_combat.gamma_star_)"
   ]
  },
  {
   "cell_type": "code",
   "execution_count": null,
   "id": "36",
   "metadata": {
    "tags": []
   },
   "outputs": [],
   "source": [
    "transformed_FIVEDATA= combat.transform(FIVEDATA)\n",
    "transformed_FIVEDATA.head(3)"
   ]
  },
  {
   "cell_type": "code",
   "execution_count": null,
   "id": "6529c9ed-1c63-4516-bb47-9c5ffeafeb73",
   "metadata": {
    "tags": []
   },
   "outputs": [],
   "source": [
    "FIVEDATA.columns"
   ]
  },
  {
   "cell_type": "code",
   "execution_count": null,
   "id": "6201ea8e-4504-4fa9-873d-d2e128eedaf8",
   "metadata": {
    "tags": []
   },
   "outputs": [],
   "source": [
    "# check what harmonization did\n",
    "for column in ['age', 'sex', 'site', 'gm_vol', 'wm_vol',\n",
    "       'csf_vol', 'gm_icvratio', 'gmwm_icvratio', 'wmhvol_wmvol', 'wmh_count',\n",
    "       'deepwm_b_cov', 'aca_b_cov', 'mca_b_cov', 'pca_b_cov', 'totalgm_b_cov',\n",
    "       'deepwm_b_cbf', 'aca_b_cbf', 'mca_b_cbf', 'pca_b_cbf', 'totalgm_b_cbf',\n",
    "       'ld', 'pld', 'labelling', 'readout', 'decade', 'fine_grain']:\n",
    "        \n",
    "    print(column, sum(FIVEDATA[column] - transformed_FIVEDATA[column]))\n",
    "    "
   ]
  },
  {
   "cell_type": "code",
   "execution_count": null,
   "id": "37",
   "metadata": {
    "tags": []
   },
   "outputs": [],
   "source": [
    "fg_transformed_FIVEDATA= fg_combat.transform(FIVEDATA)\n",
    "fg_transformed_FIVEDATA.head(3)"
   ]
  },
  {
   "cell_type": "code",
   "execution_count": null,
   "id": "38",
   "metadata": {
    "tags": []
   },
   "outputs": [],
   "source": [
    "FIVEDATA.head(3)"
   ]
  },
  {
   "cell_type": "code",
   "execution_count": null,
   "id": "39",
   "metadata": {
    "tags": []
   },
   "outputs": [],
   "source": [
    "TOPMRI_transformed = transformed_FIVEDATA[ transformed_FIVEDATA['site']==0]\n",
    "TOPMRI_transformed = TOPMRI_transformed.drop(['site', 'decade','fine_grain', 'index'], axis=1)\n",
    "TOPMRI_transformed.head(3)"
   ]
  },
  {
   "cell_type": "code",
   "execution_count": null,
   "id": "40",
   "metadata": {
    "tags": []
   },
   "outputs": [],
   "source": [
    "fg_TOPMRI_transformed = fg_transformed_FIVEDATA[fg_transformed_FIVEDATA['site']==0]\n",
    "fg_TOPMRI_transformed = fg_TOPMRI_transformed .drop(['site', 'decade','fine_grain', 'index'], axis=1)\n",
    "fg_TOPMRI_transformed.head(3)"
   ]
  },
  {
   "cell_type": "code",
   "execution_count": null,
   "id": "41",
   "metadata": {
    "tags": []
   },
   "outputs": [],
   "source": [
    "EDIS_transformed = transformed_FIVEDATA[ transformed_FIVEDATA['site']==1]\n",
    "EDIS_transformed = EDIS_transformed.drop(['site', 'decade', 'index', 'fine_grain'], axis=1)\n",
    "EDIS_transformed.head(3)"
   ]
  },
  {
   "cell_type": "code",
   "execution_count": null,
   "id": "42",
   "metadata": {
    "tags": []
   },
   "outputs": [],
   "source": [
    "HELIUS_transformed = transformed_FIVEDATA[ transformed_FIVEDATA['site']==2]\n",
    "HELIUS_transformed = HELIUS_transformed.drop(['site', 'decade', 'index', 'fine_grain'], axis=1)\n",
    "HELIUS_transformed.head(3)"
   ]
  },
  {
   "cell_type": "code",
   "execution_count": null,
   "id": "43",
   "metadata": {
    "tags": []
   },
   "outputs": [],
   "source": [
    "SABRE_transformed = transformed_FIVEDATA[ transformed_FIVEDATA['site']==3]\n",
    "SABRE_transformed = SABRE_transformed.drop(['site', 'decade', 'index', 'fine_grain'], axis=1)\n",
    "SABRE_transformed.head(3)"
   ]
  },
  {
   "cell_type": "code",
   "execution_count": null,
   "id": "44",
   "metadata": {
    "tags": []
   },
   "outputs": [],
   "source": [
    "Insight_transformed = transformed_FIVEDATA[ transformed_FIVEDATA['site']==4]\n",
    "Insight_transformed = Insight_transformed.drop(['site', 'decade', 'index', 'fine_grain'], axis=1)\n",
    "Insight_transformed.head(3)"
   ]
  },
  {
   "cell_type": "code",
   "execution_count": null,
   "id": "45",
   "metadata": {
    "tags": []
   },
   "outputs": [],
   "source": [
    "fg_EDIS_transformed = fg_transformed_FIVEDATA[fg_transformed_FIVEDATA['site']==1]\n",
    "fg_EDIS_transformed = fg_EDIS_transformed.drop(['site', 'decade', 'index', 'fine_grain'], axis=1)\n",
    "fg_EDIS_transformed.head(3)"
   ]
  },
  {
   "cell_type": "code",
   "execution_count": null,
   "id": "46",
   "metadata": {
    "tags": []
   },
   "outputs": [],
   "source": [
    "fg_HELIUS_transformed = fg_transformed_FIVEDATA[fg_transformed_FIVEDATA['site']==2]\n",
    "fg_HELIUS_transformed = fg_HELIUS_transformed.drop(['site', 'decade', 'index', 'fine_grain'], axis=1)\n",
    "fg_HELIUS_transformed.head(3)"
   ]
  },
  {
   "cell_type": "code",
   "execution_count": null,
   "id": "47",
   "metadata": {
    "tags": []
   },
   "outputs": [],
   "source": [
    "fg_SABRE_transformed = fg_transformed_FIVEDATA[fg_transformed_FIVEDATA['site']==3]\n",
    "fg_SABRE_transformed = fg_SABRE_transformed.drop(['site', 'decade', 'index', 'fine_grain'], axis=1)\n",
    "fg_SABRE_transformed.head(3)"
   ]
  },
  {
   "cell_type": "code",
   "execution_count": null,
   "id": "48",
   "metadata": {
    "tags": []
   },
   "outputs": [],
   "source": [
    "fg_Insight_transformed = fg_transformed_FIVEDATA[fg_transformed_FIVEDATA['site']==4]\n",
    "fg_Insight_transformed = fg_Insight_transformed.drop(['site', 'decade', 'index', 'fine_grain'], axis=1)\n",
    "fg_Insight_transformed.head(3)"
   ]
  },
  {
   "cell_type": "code",
   "execution_count": null,
   "id": "49",
   "metadata": {
    "tags": []
   },
   "outputs": [],
   "source": [
    "TOPMRI_transformed.to_csv('harm_results/autocombat/5autocom5_harm_topmri_v_e.csv')\n",
    "EDIS_transformed.to_csv('harm_results/autocombat/5autocom5_harm_EDIS.csv')\n",
    "HELIUS_transformed.to_csv('harm_results/autocombat/5autocom5_harm_HELIUS.csv')\n",
    "SABRE_transformed.to_csv('harm_results/autocombat/5autocom5_harm_SABRE.csv')\n",
    "Insight_transformed.to_csv('harm_results/autocombat/5autocom5_harm_Insight.csv')\n",
    "\n",
    "fg_TOPMRI_transformed.to_csv('harm_results/autocombat/5fg_autocom5_harm_topmri_v_e.csv')\n",
    "fg_EDIS_transformed.to_csv('harm_results/autocombat/5fg_autocom5_harm_EDIS1.csv')\n",
    "fg_HELIUS_transformed.to_csv('harm_results/autocombat/5fg_autocom5_harm_HELIUS.csv')\n",
    "fg_SABRE_transformed.to_csv('harm_results/autocombat/5fg_autocom5_harm_SABRE.csv')\n",
    "fg_Insight_transformed.to_csv('harm_results/autocombat/5fg_autocom5_harm_Insight.csv')"
   ]
  },
  {
   "cell_type": "code",
   "execution_count": null,
   "id": "50",
   "metadata": {},
   "outputs": [],
   "source": []
  }
 ],
 "metadata": {
  "kernelspec": {
   "display_name": "Python 3 (ipykernel)",
   "language": "python",
   "name": "python3"
  },
  "language_info": {
   "codemirror_mode": {
    "name": "ipython",
    "version": 3
   },
   "file_extension": ".py",
   "mimetype": "text/x-python",
   "name": "python",
   "nbconvert_exporter": "python",
   "pygments_lexer": "ipython3",
   "version": "3.7.12"
  }
 },
 "nbformat": 4,
 "nbformat_minor": 5
}
