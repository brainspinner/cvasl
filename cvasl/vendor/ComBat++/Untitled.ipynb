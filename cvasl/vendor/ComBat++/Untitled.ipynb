{
 "cells": [
  {
   "cell_type": "code",
   "execution_count": null,
   "id": "0",
   "metadata": {},
   "outputs": [],
   "source": [
    "source(\"utils.R\");\n",
    "source(\"combatPP.R\")\n",
    "p <- 8\n",
    "n <- 10\n",
    "batch <- c(1,1,1,1,1,2,2,2,2,2) #Batch variable for the scanner id\n",
    "dat <- matrix(runif(p*n), p, n) #Random Data matrix"
   ]
  },
  {
   "cell_type": "code",
   "execution_count": null,
   "id": "1",
   "metadata": {},
   "outputs": [],
   "source": [
    "print(typeof(batch))"
   ]
  },
  {
   "cell_type": "code",
   "execution_count": null,
   "id": "2",
   "metadata": {},
   "outputs": [],
   "source": [
    "dat"
   ]
  },
  {
   "cell_type": "code",
   "execution_count": null,
   "id": "3",
   "metadata": {},
   "outputs": [],
   "source": [
    "age <- c(82,70,68,66,80,69,72,76,74,80) # Continuous variable\n",
    "disease <- as.factor(c(1,2,1,2,1,2,1,2,1,2)) # Categorical variable\n",
    "mod <- model.matrix(~age+disease)"
   ]
  },
  {
   "cell_type": "code",
   "execution_count": null,
   "id": "4",
   "metadata": {},
   "outputs": [],
   "source": [
    "MFS <- as.factor(c(1,1,1,2,2,2,1,1,2,2)) # Categorical variable\n",
    "mod_remove <- model.matrix(~ MFS)\n",
    "\n",
    "prcomps <- princomp(t(dat))\n",
    "PCs <- predict(prcomps,t(dat))\n",
    "\n",
    "var_remove <- cbind(mod_remove,PCs[,c(1,2)])"
   ]
  },
  {
   "cell_type": "code",
   "execution_count": null,
   "id": "5",
   "metadata": {},
   "outputs": [],
   "source": [
    "data.harmonized <- combatPP( dat=dat, PC=var_remove, mod=mod, batch=batch)"
   ]
  },
  {
   "cell_type": "code",
   "execution_count": null,
   "id": "6",
   "metadata": {},
   "outputs": [],
   "source": []
  }
 ],
 "metadata": {
  "kernelspec": {
   "display_name": "R",
   "language": "R",
   "name": "ir"
  },
  "language_info": {
   "codemirror_mode": "r",
   "file_extension": ".r",
   "mimetype": "text/x-r-source",
   "name": "R",
   "pygments_lexer": "r",
   "version": "4.1.3"
  }
 },
 "nbformat": 4,
 "nbformat_minor": 5
}
