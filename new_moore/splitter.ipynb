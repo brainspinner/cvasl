{
 "cells": [
  {
   "cell_type": "markdown",
   "id": "755d1310-246a-49c2-95f8-18cff24049d0",
   "metadata": {},
   "source": [
    "# let's make a datframe split a couple ways by age, then see how harmonization with neurocombat changes it\n",
    "\n"
   ]
  },
  {
   "cell_type": "markdown",
   "id": "edab7dc9-fd87-412f-9cc7-cbb50672fc33",
   "metadata": {},
   "source": [
    "## import libraries"
   ]
  },
  {
   "cell_type": "code",
   "execution_count": null,
   "id": "d68b27c8-9fc9-45d2-b878-c254d083bd3a",
   "metadata": {
    "tags": []
   },
   "outputs": [],
   "source": [
    "import os\n",
    "\n",
    "import pandas as pd\n",
    "import numpy as np\n",
    "from neuroCombat import neuroCombat"
   ]
  },
  {
   "cell_type": "markdown",
   "id": "0c93bb9c-12b0-4551-a6f5-93a6844a0a63",
   "metadata": {},
   "source": [
    "## prepare data"
   ]
  },
  {
   "cell_type": "code",
   "execution_count": null,
   "id": "5925b329-b505-4701-99bc-c0605b77b2cd",
   "metadata": {
    "tags": []
   },
   "outputs": [],
   "source": [
    "filepath_mri = '../open_work/internal_results/cleaned_pvc2s/' \n",
    "filename_mri = os.path.join(filepath_mri,'StrokeMRI_pvc2c.csv') "
   ]
  },
  {
   "cell_type": "code",
   "execution_count": null,
   "id": "7cda32bd-d1dc-4f0e-9df5-5fad32b59bef",
   "metadata": {
    "tags": []
   },
   "outputs": [],
   "source": [
    "StrokeMRI  = pd.read_csv(filename_mri)\n",
    "#StrokeMRI = StrokeMRI.drop(StrokeMRI.columns[0],axis=1)\n",
    "#sex_mapping = {'F':0,'M':1}\n",
    "#StrokeMRI = StrokeMRI.assign(sex = StrokeMRI.sex.map(sex_mapping))\n",
    "StrokeMRI.head(3)"
   ]
  },
  {
   "cell_type": "code",
   "execution_count": null,
   "id": "aed550e5-17e7-465d-84fd-a4cb7c5032c2",
   "metadata": {
    "tags": []
   },
   "outputs": [],
   "source": [
    "StrokeMRI.age.describe()"
   ]
  },
  {
   "cell_type": "markdown",
   "id": "26479afb-fe53-457a-85b2-ed17e06a107e",
   "metadata": {
    "tags": []
   },
   "source": [
    "Note: StrokeMRI.age.plot() or more importantly  the white matter related values can not be plotted due to environment..\n",
    "\n",
    "but we must look maybe because \n",
    "# ComBat assumes vectors of regression coefficients follow independent normal distributions and some other assumptions\n",
    "\n",
    "Note: Combat-GAM GMM or Open Nestedmay leapfrog this and give better results, but let's not get ahead"
   ]
  },
  {
   "cell_type": "code",
   "execution_count": null,
   "id": "bc56d364-e939-48f7-8f65-2e077f233db4",
   "metadata": {
    "tags": []
   },
   "outputs": [],
   "source": [
    "StrokeMRI.wmh_vol.describe()"
   ]
  },
  {
   "cell_type": "code",
   "execution_count": null,
   "id": "6bc36947-e457-4de3-8f15-f41946d30937",
   "metadata": {
    "tags": []
   },
   "outputs": [],
   "source": [
    "StrokeMRI.wmh_count.describe()"
   ]
  },
  {
   "cell_type": "code",
   "execution_count": null,
   "id": "a62cf447-15f3-41b0-8387-764f2fee4fe2",
   "metadata": {
    "tags": []
   },
   "outputs": [],
   "source": [
    "def log_out_columns(dataframe, column_list): \n",
    "    for column in column_list:\n",
    "        dataframe[column]= np.log(dataframe[column])\n",
    "    return dataframe"
   ]
  },
  {
   "cell_type": "code",
   "execution_count": null,
   "id": "f3b24886-2167-45f2-a495-9aed5ec1161a",
   "metadata": {
    "tags": []
   },
   "outputs": [],
   "source": [
    "natural_loged_strokeMRI_unharmonized = log_out_columns(StrokeMRI, ['wmh_vol', 'wmh_count'])"
   ]
  },
  {
   "cell_type": "code",
   "execution_count": null,
   "id": "e20a2fc3-95f1-4f2d-b98f-c3153506e32c",
   "metadata": {
    "tags": []
   },
   "outputs": [],
   "source": [
    "def split_frame_half_balanced_by_column(frame, column):\n",
    "    \"\"\"This is useful in cases where you want to split on a columns\n",
    "    with continous values e.g. age.\"\"\"\n",
    "    df = frame.sort_values(column).reset_index()\n",
    "    rng_even = range(0, len(df),2)\n",
    "    rng_odd =  range(1, len(df),2)\n",
    "    even_rows = df.iloc[rng_even]\n",
    "    odd_rows = df.iloc[rng_odd]\n",
    "    return even_rows, odd_rows"
   ]
  },
  {
   "cell_type": "code",
   "execution_count": null,
   "id": "fbe429cf-83c7-4e5c-8659-fcd5aea5bbe6",
   "metadata": {
    "tags": []
   },
   "outputs": [],
   "source": [
    "stroke_even_unharmonized = split_frame_half_balanced_by_column(StrokeMRI, 'age')[0]\n",
    "stroke_odd_unharmonized = split_frame_half_balanced_by_column(StrokeMRI, 'age')[1]"
   ]
  },
  {
   "cell_type": "code",
   "execution_count": null,
   "id": "b2b6c182-8f70-4ea6-92f4-317c6535e1da",
   "metadata": {
    "tags": []
   },
   "outputs": [],
   "source": [
    "stroke_even_unharmonized= stroke_even_unharmonized.drop('index', axis=1)\n",
    "stroke_odd_unharmonized = stroke_odd_unharmonized.drop('index', axis=1)"
   ]
  },
  {
   "cell_type": "code",
   "execution_count": null,
   "id": "7b7240a8-5982-4c60-a107-8d2f700ca1ea",
   "metadata": {
    "tags": []
   },
   "outputs": [],
   "source": [
    "stroke_even_unharmonized.to_csv('stroke_even_unharmonized.csv')\n",
    "stroke_odd_unharmonized.to_csv('stroke_odd_unharmonized.csv') "
   ]
  },
  {
   "cell_type": "code",
   "execution_count": null,
   "id": "099b8bc9-2cdd-447b-916d-08719e61d13d",
   "metadata": {
    "tags": []
   },
   "outputs": [],
   "source": [
    "StrokeMRI.head(2)"
   ]
  },
  {
   "cell_type": "code",
   "execution_count": null,
   "id": "6c24447b-7646-4076-bb13-8164a4cde706",
   "metadata": {
    "tags": []
   },
   "outputs": [],
   "source": [
    "stroke_even_unharmonized.head(2)"
   ]
  },
  {
   "cell_type": "code",
   "execution_count": null,
   "id": "a4033479-0fbc-498e-b22a-732943d110b6",
   "metadata": {
    "tags": []
   },
   "outputs": [],
   "source": [
    "#pd.read_csv('stroke_even_unharmonized.csv')"
   ]
  },
  {
   "cell_type": "code",
   "execution_count": null,
   "id": "00243848-2e7f-4797-b55b-9670cbdba61c",
   "metadata": {
    "tags": []
   },
   "outputs": [],
   "source": [
    "def top_and_bottom_by_column(frame, column):\n",
    "    \"\"\"This is useful in cases where you want to split on a columns\n",
    "    with continous values e.g. age.; and upi\n",
    "    want the highest and lowest values seperated\"\"\"\n",
    "    df = frame.sort_values(column)#.reset_index()\n",
    "    len_first_half= len(df) // 2\n",
    "    top = df.iloc[:len_first_half]\n",
    "    bottom = df.iloc[len_first_half :]\n",
    "    return top, bottom"
   ]
  },
  {
   "cell_type": "code",
   "execution_count": null,
   "id": "4de52b64-135c-4f14-b0a5-166a3664331b",
   "metadata": {
    "tags": []
   },
   "outputs": [],
   "source": [
    "stroke_top_unharmonized = top_and_bottom_by_column(StrokeMRI, 'age')[0]\n",
    "stroke_bottom_unharmonized = top_and_bottom_by_column(StrokeMRI, 'age')[1]"
   ]
  },
  {
   "cell_type": "code",
   "execution_count": null,
   "id": "b518d92e-e63a-49a1-99d2-f3cc5449be3c",
   "metadata": {
    "tags": []
   },
   "outputs": [],
   "source": [
    "#stroke_bottom_unharmonized= stroke_bottom_unharmonized.drop('index', axis=1)\n",
    "#stroke_top_unharmonized= stroke_top_unharmonized.drop('index', axis=1)"
   ]
  },
  {
   "cell_type": "code",
   "execution_count": null,
   "id": "2324f12c-3df2-4d4d-84c7-008e4a1ad18b",
   "metadata": {
    "tags": []
   },
   "outputs": [],
   "source": [
    "stroke_top_unharmonized.to_csv('stroke_top_unharmonized.csv')\n",
    "stroke_bottom_unharmonized.to_csv('stroke_bottom_unharmonized.csv') "
   ]
  },
  {
   "cell_type": "code",
   "execution_count": null,
   "id": "31ceb3f2-1149-40fd-b2fa-f441304a471b",
   "metadata": {
    "tags": []
   },
   "outputs": [],
   "source": [
    "stroke_top_unharmonized.head(3)"
   ]
  },
  {
   "cell_type": "code",
   "execution_count": null,
   "id": "bed434c6-1670-4ca8-97b4-2421ba6a1439",
   "metadata": {
    "tags": []
   },
   "outputs": [],
   "source": [
    "def prep_for_neurocombat(dataframename1, dataframename2):\n",
    "    \"\"\"\n",
    "    This function takes two dataframes in the cvasl format,\n",
    "    then turns them into three items needed for the \n",
    "    neurocombat algorithm with re-identification.\n",
    "    \n",
    "    \"\"\"\n",
    "    # our_1_frame = pd.read_csv(dataframename1)\n",
    "    # our_2_frame = pd.read_csv(dataframename2)\n",
    "    two_selection = dataframename2.drop(['Unnamed: 0'],axis=1)\n",
    "    one_selection = dataframename1.drop(['Unnamed: 0'],axis=1)\n",
    "    # two_selection = our_2_frame.drop(['Unnamed: 0.1'],axis=1)\n",
    "    # one_selection = our_1_frame.drop(['Unnamed: 0.1'],axis=1)\n",
    "    one_selection = one_selection.set_index('participant_id')\n",
    "    two_selection = two_selection.set_index('participant_id')\n",
    "    one_selection = one_selection.T\n",
    "    two_selection = two_selection.T\n",
    "    both_togetherF = pd.concat([one_selection, two_selection], axis=1, join=\"inner\")\n",
    "    print(\"Nan count\",both_togetherF.isna().sum().sum())\n",
    "    features_only = both_togetherF[2:]\n",
    "    dictionary_features_len = len(features_only.T.columns)\n",
    "    number = 0\n",
    "    made_keys = [] \n",
    "    made_vals = [] \n",
    "    for n in features_only.T.columns:\n",
    "\n",
    "        made_keys.append(number)\n",
    "        made_vals.append(n)\n",
    "        number +=1\n",
    "    feature_dictF = dict(map(lambda i,j : (i,j) , made_keys,made_vals))\n",
    "    ftF = features_only.reset_index()\n",
    "    ftF = ftF.rename(columns={\"index\": \"A\"})\n",
    "    ftF = ftF.drop(['A'], axis=1)\n",
    "    ftF = ftF.dropna()\n",
    "    btF = both_togetherF.reset_index()\n",
    "    btF = btF.rename(columns={\"index\": \"A\"})\n",
    "    btF = btF.drop(['A'], axis=1)\n",
    "    btF = btF.dropna()\n",
    "    len1 = len(one_selection.columns)\n",
    "    len2 = len(two_selection.columns)\n",
    "    return both_togetherF, ftF, btF, feature_dictF, len1, len2"
   ]
  },
  {
   "cell_type": "code",
   "execution_count": null,
   "id": "723fafba-06bf-4b18-ac6a-011c3fdb100e",
   "metadata": {
    "tags": []
   },
   "outputs": [],
   "source": [
    "both_togetherF, ftF, btF, feature_dictF, len1, len2 = prep_for_neurocombat(stroke_even_unharmonized, stroke_odd_unharmonized)"
   ]
  },
  {
   "cell_type": "code",
   "execution_count": null,
   "id": "ec498814-b97b-4d18-bba9-0fc8abf97abc",
   "metadata": {
    "tags": []
   },
   "outputs": [],
   "source": [
    "ftF.head(3)"
   ]
  },
  {
   "cell_type": "code",
   "execution_count": null,
   "id": "d65687c2-9cd2-4db3-8ffc-bf3554b6bf5f",
   "metadata": {
    "tags": []
   },
   "outputs": [],
   "source": [
    "ftF.to_csv('ftF1_UH.csv')"
   ]
  },
  {
   "cell_type": "code",
   "execution_count": null,
   "id": "5eb7cb21-4f74-4825-ad42-37179d5f9fa2",
   "metadata": {
    "tags": []
   },
   "outputs": [],
   "source": [
    "data = np.genfromtxt('ftF1_UH.csv', delimiter=\",\", skip_header=1)\n",
    "data = data[:, 1:]\n",
    "data"
   ]
  },
  {
   "cell_type": "code",
   "execution_count": null,
   "id": "09a40ed6-169c-448b-b9a0-ce5689f96467",
   "metadata": {
    "tags": []
   },
   "outputs": [],
   "source": [
    "# Specifying the batch (scanner variable) as well as a sex covariate to preserve:\n",
    "first_columns_as_one = [1] * len1\n",
    "last_columns_as_two = [2] * len2\n",
    "covars = {'batch':first_columns_as_one + last_columns_as_two,\n",
    "          'sex':both_togetherF.loc['sex',:].values.tolist(),\n",
    "           'age':both_togetherF.loc['age',:].values.tolist(),} \n",
    "covars = pd.DataFrame(covars) "
   ]
  },
  {
   "cell_type": "code",
   "execution_count": null,
   "id": "96114ec3-0ab8-4a44-ade5-5e73fff7e198",
   "metadata": {
    "tags": []
   },
   "outputs": [],
   "source": [
    "covars"
   ]
  },
  {
   "cell_type": "code",
   "execution_count": null,
   "id": "178c6899-d7d4-4254-a3e6-80d6cd1a0fe0",
   "metadata": {
    "tags": []
   },
   "outputs": [],
   "source": [
    "data"
   ]
  },
  {
   "cell_type": "code",
   "execution_count": null,
   "id": "ee5388f8-d0d9-4e62-9ae9-316df6bb9ae4",
   "metadata": {
    "tags": []
   },
   "outputs": [],
   "source": [
    "# specifify sex as categorical\n",
    "categorical_cols = ['sex']\n",
    "# to specify the name of the variable that encodes for the scanner/batch covariate:\n",
    "batch_col_mine = 'batch'\n",
    "our_continuous_col=['age']\n",
    "# harmonization step:\n",
    "data_combat = neuroCombat(dat=data,\n",
    "    covars=covars,\n",
    "    batch_col=batch_col_mine,\n",
    "    continuous_cols=our_continuous_col,\n",
    "    categorical_cols=categorical_cols)[\"data\"]"
   ]
  },
  {
   "cell_type": "code",
   "execution_count": null,
   "id": "f41ba47c-4d24-41c0-b666-4592fcb470dc",
   "metadata": {
    "tags": []
   },
   "outputs": [],
   "source": [
    "neurocombat = pd.DataFrame(data_combat)\n",
    "neurocombat.head(2)"
   ]
  },
  {
   "cell_type": "code",
   "execution_count": null,
   "id": "ded7e905-5139-4ea7-952b-e0ae1c88ba40",
   "metadata": {
    "tags": []
   },
   "outputs": [],
   "source": [
    "def make_topper(btF, row0,row1):\n",
    "    \"\"\"\n",
    "    This function makes top rows for something harmonized\n",
    "    out of the btF part produced with prep_for_neurocombat(dataframename1, dataframename2)\n",
    "    \"\"\"\n",
    "    topperF = btF.head(2)\n",
    "    topperF = topperF.rename_axis(None, axis=\"columns\")\n",
    "    topperF = topperF.reset_index(drop=False)\n",
    "    topperF = topperF.rename(columns={\"index\": \"char\"})\n",
    "    topperF['char'][0] = row0#'age'\n",
    "    topperF['char'][1] = row1#'sex'\n",
    "    return topperF"
   ]
  },
  {
   "cell_type": "code",
   "execution_count": null,
   "id": "6e7a6ac3-0e97-4951-875c-9b1476fafdb9",
   "metadata": {
    "tags": []
   },
   "outputs": [],
   "source": [
    "topperF = make_topper(btF,'age', 'sex')"
   ]
  },
  {
   "cell_type": "code",
   "execution_count": null,
   "id": "a502f25d-9235-4a2d-90e3-9e894f52a32a",
   "metadata": {
    "tags": []
   },
   "outputs": [],
   "source": [
    "bottom = neurocombat.reset_index(drop=False)\n",
    "bottom = bottom.rename(columns={\"index\": \"char\"})\n",
    "bottom.columns = topperF.columns"
   ]
  },
  {
   "cell_type": "code",
   "execution_count": null,
   "id": "934d4e8f-55e8-45b2-ae6a-b6a2778dcd25",
   "metadata": {
    "tags": []
   },
   "outputs": [],
   "source": [
    "back_together = pd.concat([topperF, bottom])\n",
    "back_together = back_together.T\n",
    "#back_together"
   ]
  },
  {
   "cell_type": "code",
   "execution_count": null,
   "id": "263540ca-5d70-42ad-b196-5c3bc03db452",
   "metadata": {
    "tags": []
   },
   "outputs": [],
   "source": [
    "new_header = back_together.iloc[0] #grab the first row for the header\n",
    "back_together.columns = new_header #set the header row as the df header\n",
    "back_together = back_together[1:]\n",
    "#back_together"
   ]
  },
  {
   "cell_type": "code",
   "execution_count": null,
   "id": "0cbe435b-d48f-43bd-b8ed-353bc49fbdde",
   "metadata": {
    "tags": []
   },
   "outputs": [],
   "source": [
    "odds_harmonized = back_together.tail(len2)\n",
    "evens_harmonized = back_together.head(len1)"
   ]
  },
  {
   "cell_type": "code",
   "execution_count": null,
   "id": "9e50ab4c-b44d-44b4-ab5d-8cc090817545",
   "metadata": {
    "tags": []
   },
   "outputs": [],
   "source": [
    "#evens"
   ]
  },
  {
   "cell_type": "code",
   "execution_count": null,
   "id": "64f1883c-0873-4dd7-ba44-8dcb0da7125f",
   "metadata": {
    "tags": []
   },
   "outputs": [],
   "source": [
    "evens_harmonized = evens_harmonized.rename(feature_dictF, axis='columns')\n",
    "odds_harmonized= odds_harmonized.rename(feature_dictF, axis='columns')"
   ]
  },
  {
   "cell_type": "markdown",
   "id": "1c8f2f1c-587f-43ca-8210-c31d983cff31",
   "metadata": {},
   "source": [
    "Save off to harmonized csv files"
   ]
  },
  {
   "cell_type": "code",
   "execution_count": null,
   "id": "f360180a-3d81-44e8-8f70-49c4a2859ec5",
   "metadata": {
    "tags": []
   },
   "outputs": [],
   "source": [
    "evens_harmonized.head(3)"
   ]
  },
  {
   "cell_type": "code",
   "execution_count": null,
   "id": "50ce6e64-b5c8-4bc6-8577-b1d3e6800652",
   "metadata": {
    "tags": []
   },
   "outputs": [],
   "source": [
    "# evens_harmonized.to_csv('evens_harmonized.csv')\n",
    "# odds_harmonized.to_csv('odds_harmonized.csv')"
   ]
  },
  {
   "cell_type": "markdown",
   "id": "1221f759-028b-4dec-b84e-595eba143eac",
   "metadata": {},
   "source": [
    "Now we can analize the difference between these two sets:"
   ]
  },
  {
   "cell_type": "code",
   "execution_count": null,
   "id": "71eef3b4-d4d6-464c-9ae8-75c0d4cc686b",
   "metadata": {
    "tags": []
   },
   "outputs": [],
   "source": [
    "evens_harmonized.iloc[:,2:] "
   ]
  },
  {
   "cell_type": "code",
   "execution_count": null,
   "id": "84be0d2d-a26b-493d-bbe0-462201ec7845",
   "metadata": {
    "tags": []
   },
   "outputs": [],
   "source": [
    "stroke_even_unharmonized.iloc[:,4:] "
   ]
  },
  {
   "cell_type": "markdown",
   "id": "9c3d3a30-27c8-4945-8c32-a0d6e1a19327",
   "metadata": {
    "tags": []
   },
   "source": [
    "## We do see some differences, especially in the wmh volume, but n othing over 100%  at first glance"
   ]
  },
  {
   "cell_type": "code",
   "execution_count": null,
   "id": "d05b7143-5deb-4f9b-a79f-ed59c9866435",
   "metadata": {
    "tags": []
   },
   "outputs": [],
   "source": [
    "both_togetherF2, ftF2, btF2, feature_dictF2, slen1, slen2 = prep_for_neurocombat(stroke_top_unharmonized, stroke_bottom_unharmonized)"
   ]
  },
  {
   "cell_type": "code",
   "execution_count": null,
   "id": "6ed69547-0afc-45d2-97d5-6072a825f6af",
   "metadata": {
    "tags": []
   },
   "outputs": [],
   "source": [
    "ftF2.to_csv('ftF2_UH.csv')"
   ]
  },
  {
   "cell_type": "code",
   "execution_count": null,
   "id": "92029fbf-69cd-4570-870d-9935347cc05c",
   "metadata": {
    "tags": []
   },
   "outputs": [],
   "source": [
    "data2 = np.genfromtxt('ftF2_UH.csv', delimiter=\",\", skip_header=1)\n",
    "data2 = data2[:, 1:]\n",
    "data2"
   ]
  },
  {
   "cell_type": "code",
   "execution_count": null,
   "id": "c5681612-7255-4196-976f-8102a97ac4ea",
   "metadata": {},
   "outputs": [],
   "source": []
  },
  {
   "cell_type": "code",
   "execution_count": null,
   "id": "202928da-24f1-40ce-b021-5f0358d2f687",
   "metadata": {
    "tags": []
   },
   "outputs": [],
   "source": [
    "# Specifying the batch (scanner variable) as well as a sex covariate to preserve:\n",
    "first_columns_as_one = [1] * slen1\n",
    "last_columns_as_two = [2] * slen2\n",
    "covars2 = {'batch':first_columns_as_one + last_columns_as_two,\n",
    "          'sex':both_togetherF2.loc['sex',:].values.tolist(),\n",
    "           'age':both_togetherF2.loc['age',:].values.tolist(),} \n",
    "covars2 = pd.DataFrame(covars2) "
   ]
  },
  {
   "cell_type": "code",
   "execution_count": null,
   "id": "89667222-b21d-4286-8225-b72811c35bcb",
   "metadata": {
    "tags": []
   },
   "outputs": [],
   "source": [
    "covars2"
   ]
  },
  {
   "cell_type": "code",
   "execution_count": null,
   "id": "2c1ea1e5-b3e8-4a49-95f1-353625a62184",
   "metadata": {
    "tags": []
   },
   "outputs": [],
   "source": []
  },
  {
   "cell_type": "code",
   "execution_count": null,
   "id": "cd961fb8-7533-467d-9ca7-e2073f9f8224",
   "metadata": {
    "tags": []
   },
   "outputs": [],
   "source": [
    "# specifify sex as categorical\n",
    "categorical_cols = ['sex']\n",
    "# to specify the name of the variable that encodes for the scanner/batch covariate:\n",
    "batch_col_mine = 'batch'\n",
    "our_continuous_col=['age']\n",
    "# harmonization step:\n",
    "data_combat2 = neuroCombat(dat=data2,\n",
    "    covars=covars2,\n",
    "    batch_col=batch_col_mine,\n",
    "    continuous_cols=our_continuous_col,\n",
    "    categorical_cols=categorical_cols)[\"data\"]"
   ]
  },
  {
   "cell_type": "code",
   "execution_count": null,
   "id": "eb545681-7a1b-4d2d-ab9a-9626d39d5b42",
   "metadata": {
    "tags": []
   },
   "outputs": [],
   "source": [
    "neurocombat2 = pd.DataFrame(data_combat2)\n",
    "neurocombat2.head(2)"
   ]
  },
  {
   "cell_type": "code",
   "execution_count": null,
   "id": "2943a3be-a1c3-4f6e-8788-c8b8b04d203d",
   "metadata": {
    "tags": []
   },
   "outputs": [],
   "source": []
  },
  {
   "cell_type": "code",
   "execution_count": null,
   "id": "ff59a901-e5a8-4256-9c2a-2b66023ca011",
   "metadata": {
    "tags": []
   },
   "outputs": [],
   "source": [
    "topperF2 = make_topper(btF2,'age', 'sex')"
   ]
  },
  {
   "cell_type": "code",
   "execution_count": null,
   "id": "bb73c48b-1cad-4e16-93bb-0bfe27c9a128",
   "metadata": {
    "tags": []
   },
   "outputs": [],
   "source": [
    "bottom2 = neurocombat2.reset_index(drop=False)\n",
    "bottom2 = bottom2.rename(columns={\"index\": \"char\"})\n",
    "bottom2.columns = topperF2.columns"
   ]
  },
  {
   "cell_type": "code",
   "execution_count": null,
   "id": "6137c382-5c5b-4d88-9cc7-d8534cbede47",
   "metadata": {
    "tags": []
   },
   "outputs": [],
   "source": [
    "back_together2 = pd.concat([topperF2, bottom2])\n",
    "back_together2 = back_together2.T\n",
    "#back_together2"
   ]
  },
  {
   "cell_type": "code",
   "execution_count": null,
   "id": "481a6734-e6f8-442d-a056-0c84868803d0",
   "metadata": {
    "tags": []
   },
   "outputs": [],
   "source": [
    "new_header2 = back_together2.iloc[0] #grab the first row for the header\n",
    "back_together2.columns = new_header2 #set the header row as the df header\n",
    "back_together2 = back_together2[1:]\n",
    "#back_together2"
   ]
  },
  {
   "cell_type": "code",
   "execution_count": null,
   "id": "ea55d71f-5365-4ac0-8492-e522a9336a3a",
   "metadata": {
    "tags": []
   },
   "outputs": [],
   "source": [
    "bottom_harmonized = back_together2.tail(slen2)\n",
    "top_harmonized = back_together2.head(slen1)"
   ]
  },
  {
   "cell_type": "code",
   "execution_count": null,
   "id": "18771e5d-704d-4d8d-a3ef-7674a9cbc5f8",
   "metadata": {},
   "outputs": [],
   "source": []
  },
  {
   "cell_type": "code",
   "execution_count": null,
   "id": "52f057a1-5f30-41e6-bce7-58295ea76b10",
   "metadata": {
    "tags": []
   },
   "outputs": [],
   "source": [
    "top_harmonized = top_harmonized.rename(feature_dictF2, axis='columns')\n",
    "bottom_harmonized= bottom_harmonized.rename(feature_dictF2, axis='columns')"
   ]
  },
  {
   "cell_type": "markdown",
   "id": "22825a35-bc9d-4fbe-9844-4213097311e2",
   "metadata": {},
   "source": [
    "Save off to harmonized csv files"
   ]
  },
  {
   "cell_type": "code",
   "execution_count": null,
   "id": "4b4e16f9-e535-41e0-9e44-cb2d26fb104b",
   "metadata": {
    "tags": []
   },
   "outputs": [],
   "source": [
    "top_harmonized = top_harmonized.reset_index()\n",
    "top_harmonized= top_harmonized.rename(columns= {'index': 'participant_id'})\n",
    "top_harmonized"
   ]
  },
  {
   "cell_type": "code",
   "execution_count": null,
   "id": "aca9ecdb-9009-4fa7-9a0c-cc940261d1b6",
   "metadata": {
    "tags": []
   },
   "outputs": [],
   "source": [
    "top_harmonized['age'].isna().sum()"
   ]
  },
  {
   "cell_type": "code",
   "execution_count": null,
   "id": "13458404-2e30-4236-a9e4-22422118f143",
   "metadata": {
    "tags": []
   },
   "outputs": [],
   "source": [
    "stroke_top_unharmonized"
   ]
  },
  {
   "cell_type": "code",
   "execution_count": null,
   "id": "e365143e-e2f9-41a9-99bb-54a02bf3e7ec",
   "metadata": {
    "tags": []
   },
   "outputs": [],
   "source": [
    "stroke_top_unharmonized = stroke_top_unharmonized.drop('Unnamed: 0', axis=1)#.iloc[:,4:] \n",
    "#stroke_top_unharmonized = stroke_top_unharmonized.reset_index('participant_id')\n",
    "stroke_top_unharmonized"
   ]
  },
  {
   "cell_type": "markdown",
   "id": "82bb2718-03e7-4001-be00-5578c81f063a",
   "metadata": {},
   "source": [
    "## So we see in this case we got a ten fold difference on the wmh column...\n",
    "# This deserves a bit more investigation, and some graphing IMHO\n",
    "note this shows that algorithms that work well positively (correcting inherently different sets) do nor always work well on the negative test (not over-correcting well on similar or the same datasets )"
   ]
  },
  {
   "cell_type": "code",
   "execution_count": null,
   "id": "263382cf-51af-4850-99c4-9a513ddadd66",
   "metadata": {},
   "outputs": [],
   "source": [
    "#stroke_top_unharmonized.merge(top_harmonized, on= 'participant_id')"
   ]
  },
  {
   "cell_type": "code",
   "execution_count": null,
   "id": "bfbb742a-5163-4ff0-bf8e-2bf7c3adc553",
   "metadata": {
    "tags": []
   },
   "outputs": [],
   "source": [
    "stroke_top_unharmonized['age'].isna().sum()"
   ]
  },
  {
   "cell_type": "code",
   "execution_count": null,
   "id": "6fcc9c82-788e-4afb-af17-d075a0e43623",
   "metadata": {
    "tags": []
   },
   "outputs": [],
   "source": [
    "top_harmonized['age'].isna().sum()"
   ]
  },
  {
   "cell_type": "code",
   "execution_count": null,
   "id": "ea2873b3-9475-4705-92fd-211f7e4daa22",
   "metadata": {
    "tags": []
   },
   "outputs": [],
   "source": [
    "#df3 = stroke_top_unharmonized['sex']\n",
    "df4= pd.DataFrame(stroke_top_unharmonized['age'])\n",
    "df4['UH']=stroke_top_unharmonized['age']\n",
    "df4['H']= top_harmonized['age'] \n",
    "df4['age_differnce'] = stroke_top_unharmonized['age']- top_harmonized['age']\n",
    "df4"
   ]
  },
  {
   "cell_type": "code",
   "execution_count": null,
   "id": "3fabed7f-1900-4157-9e6e-ad1bb29b0b50",
   "metadata": {},
   "outputs": [],
   "source": []
  }
 ],
 "metadata": {
  "kernelspec": {
   "display_name": "Python 3 (ipykernel)",
   "language": "python",
   "name": "python3"
  },
  "language_info": {
   "codemirror_mode": {
    "name": "ipython",
    "version": 3
   },
   "file_extension": ".py",
   "mimetype": "text/x-python",
   "name": "python",
   "nbconvert_exporter": "python",
   "pygments_lexer": "ipython3",
   "version": "3.7.12"
  }
 },
 "nbformat": 4,
 "nbformat_minor": 5
}
