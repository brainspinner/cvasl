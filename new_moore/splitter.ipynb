{
 "cells": [
  {
   "cell_type": "markdown",
   "id": "755d1310-246a-49c2-95f8-18cff24049d0",
   "metadata": {},
   "source": [
    "# let's make a datframe with a column we want to split on, and do it\n",
    "\n"
   ]
  },
  {
   "cell_type": "markdown",
   "id": "edab7dc9-fd87-412f-9cc7-cbb50672fc33",
   "metadata": {},
   "source": [
    "## libraries"
   ]
  },
  {
   "cell_type": "code",
   "execution_count": null,
   "id": "d68b27c8-9fc9-45d2-b878-c254d083bd3a",
   "metadata": {
    "tags": []
   },
   "outputs": [],
   "source": [
    "import pandas as pd\n",
    "import numpy as np"
   ]
  },
  {
   "cell_type": "code",
   "execution_count": null,
   "id": "7a54fc9c-f9a5-4980-8315-5b0b8f281485",
   "metadata": {
    "tags": []
   },
   "outputs": [],
   "source": [
    "# initialize list of lists \n",
    "data = [['tom', 10, 6,'M'], \n",
    "        ['nick', 15,8, 'F'], \n",
    "        ['juli', 14,8,'F'],\n",
    "        ['lolo', 23,10, 'M'], \n",
    "        ['mimi',66,10, 'M'],\n",
    "        ['tim', 11,32, 'M'], \n",
    "        ['dick', 15,23, 'F'], \n",
    "        ['june', 24,23, 'F'],\n",
    "        ['leem', 24, 23, 'M'],\n",
    "        ['mia',69,23, 'M']] \n",
    "  \n",
    "# Create the pandas DataFrame \n",
    "df = pd.DataFrame(data, columns=['Name', 'Age', 'nonsense', 'Sex']) \n",
    "  \n",
    "# print dataframe. \n",
    "df "
   ]
  },
  {
   "cell_type": "code",
   "execution_count": null,
   "id": "aed550e5-17e7-465d-84fd-a4cb7c5032c2",
   "metadata": {
    "tags": []
   },
   "outputs": [],
   "source": [
    "df.Age.describe()"
   ]
  },
  {
   "cell_type": "code",
   "execution_count": null,
   "id": "e20a2fc3-95f1-4f2d-b98f-c3153506e32c",
   "metadata": {
    "tags": []
   },
   "outputs": [],
   "source": [
    "def split_frame_half_balanced_by_column(frame, column):\n",
    "    \"\"\"This is useful in cases where you want to split on a columns\n",
    "    with continous values e.g. age.\"\"\"\n",
    "    df = frame.sort_values(column).reset_index()\n",
    "    rng_even = range(0, len(df),2)\n",
    "    rng_odd =  range(1, len(df),2)\n",
    "    even_rows = df.iloc[rng_even]\n",
    "    odd_rows = df.iloc[rng_odd]\n",
    "    return even_rows, odd_rows"
   ]
  },
  {
   "cell_type": "code",
   "execution_count": null,
   "id": "fbe429cf-83c7-4e5c-8659-fcd5aea5bbe6",
   "metadata": {
    "tags": []
   },
   "outputs": [],
   "source": [
    "split_frame_half_balanced_by_column(df, 'Age')[0]"
   ]
  },
  {
   "cell_type": "code",
   "execution_count": null,
   "id": "00243848-2e7f-4797-b55b-9670cbdba61c",
   "metadata": {
    "tags": []
   },
   "outputs": [],
   "source": [
    "df['Sex'].unique()\n",
    "\n",
    "# rng_even = range(0, len(df),2)\n",
    "# rng_odd =  range(1, len(df),2)\n",
    "# even_rows = df.iloc[rng_even]\n",
    "# odd_rows = df.iloc[rng_odd]\n",
    "# odd_rows"
   ]
  },
  {
   "cell_type": "code",
   "execution_count": null,
   "id": "4de52b64-135c-4f14-b0a5-166a3664331b",
   "metadata": {
    "tags": []
   },
   "outputs": [],
   "source": [
    "pd.cut(df,3)"
   ]
  },
  {
   "cell_type": "code",
   "execution_count": null,
   "id": "aa0b2d36-2ac5-4b11-9037-204ab0c08a7b",
   "metadata": {
    "tags": []
   },
   "outputs": [],
   "source": [
    "\n",
    "df_1=df.groupby('Age', as_index=False, group_keys=False).apply(lambda x: x.sample(n=2))\n",
    "df_2 = df[~df.index.isin(df_1.index)]"
   ]
  },
  {
   "cell_type": "code",
   "execution_count": null,
   "id": "5d44e145-2c98-47cc-9e29-fd71a3fdcdc7",
   "metadata": {
    "tags": []
   },
   "outputs": [],
   "source": [
    "df_1=df.groupby('Age').apply(lambda x: x.sample(n=2))"
   ]
  },
  {
   "cell_type": "code",
   "execution_count": null,
   "id": "ccfa4f6b-9abf-4c36-b813-c374e0619fa9",
   "metadata": {
    "tags": []
   },
   "outputs": [],
   "source": [
    "df_1"
   ]
  },
  {
   "cell_type": "code",
   "execution_count": null,
   "id": "a110acee-b377-4a21-8743-e223df509e11",
   "metadata": {},
   "outputs": [],
   "source": []
  }
 ],
 "metadata": {
  "kernelspec": {
   "display_name": "Python 3 (ipykernel)",
   "language": "python",
   "name": "python3"
  },
  "language_info": {
   "codemirror_mode": {
    "name": "ipython",
    "version": 3
   },
   "file_extension": ".py",
   "mimetype": "text/x-python",
   "name": "python",
   "nbconvert_exporter": "python",
   "pygments_lexer": "ipython3",
   "version": "3.9.18"
  }
 },
 "nbformat": 4,
 "nbformat_minor": 5
}
