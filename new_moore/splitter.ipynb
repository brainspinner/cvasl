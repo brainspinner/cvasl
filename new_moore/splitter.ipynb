{
 "cells": [
  {
   "cell_type": "markdown",
   "id": "755d1310-246a-49c2-95f8-18cff24049d0",
   "metadata": {},
   "source": [
    "# let's make a datframe split a couple ways by age, then see how harmonization with neurocombat changes it\n",
    "\n"
   ]
  },
  {
   "cell_type": "markdown",
   "id": "edab7dc9-fd87-412f-9cc7-cbb50672fc33",
   "metadata": {},
   "source": [
    "## import libraries"
   ]
  },
  {
   "cell_type": "code",
   "execution_count": null,
   "id": "d68b27c8-9fc9-45d2-b878-c254d083bd3a",
   "metadata": {
    "tags": []
   },
   "outputs": [],
   "source": [
    "import os\n",
    "\n",
    "import pandas as pd\n",
    "import numpy as np\n"
   ]
  },
  {
   "cell_type": "markdown",
   "id": "0c93bb9c-12b0-4551-a6f5-93a6844a0a63",
   "metadata": {},
   "source": [
    "## prepare data"
   ]
  },
  {
   "cell_type": "code",
   "execution_count": null,
   "id": "5925b329-b505-4701-99bc-c0605b77b2cd",
   "metadata": {
    "tags": []
   },
   "outputs": [],
   "source": [
    "filepath_mri = '../open_work/internal_results/cleaned_pvc2s/' \n",
    "filename_mri = os.path.join(filepath_mri,'StrokeMRI_pvc2c.csv') "
   ]
  },
  {
   "cell_type": "code",
   "execution_count": null,
   "id": "7cda32bd-d1dc-4f0e-9df5-5fad32b59bef",
   "metadata": {
    "tags": []
   },
   "outputs": [],
   "source": [
    "StrokeMRI  = pd.read_csv(filename_mri)\n",
    "StrokeMRI = StrokeMRI.drop(StrokeMRI.columns[0],axis=1)\n",
    "sex_mapping = {'F':0,'M':1}\n",
    "StrokeMRI = StrokeMRI.assign(sex = StrokeMRI.sex.map(sex_mapping))\n",
    "StrokeMRI.head(3)"
   ]
  },
  {
   "cell_type": "code",
   "execution_count": null,
   "id": "aed550e5-17e7-465d-84fd-a4cb7c5032c2",
   "metadata": {
    "tags": []
   },
   "outputs": [],
   "source": [
    "StrokeMRI.age.describe()"
   ]
  },
  {
   "cell_type": "code",
   "execution_count": null,
   "id": "e20a2fc3-95f1-4f2d-b98f-c3153506e32c",
   "metadata": {
    "tags": []
   },
   "outputs": [],
   "source": [
    "def split_frame_half_balanced_by_column(frame, column):\n",
    "    \"\"\"This is useful in cases where you want to split on a columns\n",
    "    with continous values e.g. age.\"\"\"\n",
    "    df = frame.sort_values(column).reset_index()\n",
    "    rng_even = range(0, len(df),2)\n",
    "    rng_odd =  range(1, len(df),2)\n",
    "    even_rows = df.iloc[rng_even]\n",
    "    odd_rows = df.iloc[rng_odd]\n",
    "    return even_rows, odd_rows"
   ]
  },
  {
   "cell_type": "code",
   "execution_count": null,
   "id": "fbe429cf-83c7-4e5c-8659-fcd5aea5bbe6",
   "metadata": {
    "tags": []
   },
   "outputs": [],
   "source": [
    "stroke_even_unharmonized = split_frame_half_balanced_by_column(StrokeMRI, 'age')[0]\n",
    "stroke_odd_unharmonized = split_frame_half_balanced_by_column(StrokeMRI, 'age')[1]"
   ]
  },
  {
   "cell_type": "code",
   "execution_count": null,
   "id": "00243848-2e7f-4797-b55b-9670cbdba61c",
   "metadata": {
    "tags": []
   },
   "outputs": [],
   "source": [
    "def top_and_bottom_by_column(frame, column):\n",
    "    \"\"\"This is useful in cases where you want to split on a columns\n",
    "    with continous values e.g. age.; and upi\n",
    "    want the highest and lowest values seperated\"\"\"\n",
    "    df = frame.sort_values(column).reset_index()\n",
    "    len_first_half= len(df) // 2\n",
    "    top = df.iloc[:len_first_half]\n",
    "    bottom = df.iloc[len_first_half :]\n",
    "    return top, bottom"
   ]
  },
  {
   "cell_type": "code",
   "execution_count": null,
   "id": "4de52b64-135c-4f14-b0a5-166a3664331b",
   "metadata": {
    "tags": []
   },
   "outputs": [],
   "source": [
    "stroke_top_unharmonized = top_and_bottom_by_column(StrokeMRI, 'age')[0]\n",
    "stroke_bottom_unharmonized = top_and_bottom_by_column(StrokeMRI, 'age')[1]"
   ]
  },
  {
   "cell_type": "code",
   "execution_count": null,
   "id": "a110acee-b377-4a21-8743-e223df509e11",
   "metadata": {},
   "outputs": [],
   "source": []
  }
 ],
 "metadata": {
  "kernelspec": {
   "display_name": "Python 3 (ipykernel)",
   "language": "python",
   "name": "python3"
  },
  "language_info": {
   "codemirror_mode": {
    "name": "ipython",
    "version": 3
   },
   "file_extension": ".py",
   "mimetype": "text/x-python",
   "name": "python",
   "nbconvert_exporter": "python",
   "pygments_lexer": "ipython3",
   "version": "3.9.18"
  }
 },
 "nbformat": 4,
 "nbformat_minor": 5
}
