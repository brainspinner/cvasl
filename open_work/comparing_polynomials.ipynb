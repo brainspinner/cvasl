{
 "cells": [
  {
   "cell_type": "markdown",
   "id": "a97abf6b-2f60-4841-8699-69af3dc45bae",
   "metadata": {},
   "source": [
    "# Comapring polynomial equations"
   ]
  },
  {
   "cell_type": "code",
   "execution_count": null,
   "id": "3a246a5a-841c-461f-9c00-c3168d6a1e03",
   "metadata": {
    "tags": []
   },
   "outputs": [],
   "source": [
    "import os       # using operating system dependent functionality (folders)\n",
    "import glob\n",
    "import pandas as pd # data analysis and manipulation\n",
    "import numpy as np    # numerical computing (manipulating and performing operations on arrays of data)\n",
    "# import copy     # Can Copy and Deepcopy files so original file is untouched.\n",
    "# from ipywidgets import IntSlider, Output\n",
    "import ipywidgets as widgets\n",
    "# from IPython.display import display\n",
    "import matplotlib.pyplot as plt\n",
    "import seaborn as sns\n",
    "\n",
    "import sys\n",
    "sys.path.insert(0, '../') # path to functions\n",
    "from cvasl import file_handler as fh # \n",
    "from cvasl import mold #\n",
    "from cvasl import carve\n",
    "from cvasl import seperated\n",
    "from cvasl.file_handler import Config"
   ]
  },
  {
   "cell_type": "code",
   "execution_count": null,
   "id": "e667f2db-662d-4a86-84a4-32fad7e224ed",
   "metadata": {
    "tags": []
   },
   "outputs": [],
   "source": [
    "#from scipy.optimize import curve_fit"
   ]
  },
  {
   "cell_type": "markdown",
   "id": "aa288388-0cce-4059-82ab-450630b0f1b6",
   "metadata": {},
   "source": [
    "## let's look through the top and stroke MRI datasets and derive our optimal second degree equasions."
   ]
  },
  {
   "cell_type": "code",
   "execution_count": null,
   "id": "b1025351-1d06-4505-afaf-12f527bb71b3",
   "metadata": {
    "tags": []
   },
   "outputs": [],
   "source": [
    "config = Config()\n",
    "root_mri_directory = config.get_directory('raw_data')"
   ]
  },
  {
   "cell_type": "code",
   "execution_count": null,
   "id": "09af2f9c-7d9e-410d-9236-7ac18fe2b160",
   "metadata": {
    "tags": []
   },
   "outputs": [],
   "source": []
  },
  {
   "cell_type": "code",
   "execution_count": null,
   "id": "d2db7108-b553-4bbf-a147-613c7bbc06ac",
   "metadata": {
    "tags": []
   },
   "outputs": [],
   "source": [
    "top = os.path.join(root_mri_directory, 'assembled/top_stitched.csv')\n",
    "stroke_mri = os.path.join(root_mri_directory, 'assembled/StrokeMRI_stitched.csv')"
   ]
  },
  {
   "cell_type": "code",
   "execution_count": null,
   "id": "b29dc54e-71b5-454e-a0ff-f6575f2b5a9f",
   "metadata": {
    "tags": []
   },
   "outputs": [],
   "source": [
    "dataframe_top = pd.read_csv(top)\n",
    "dataframe_stroke_mri = pd.read_csv(stroke_mri)"
   ]
  },
  {
   "cell_type": "code",
   "execution_count": null,
   "id": "0b329a80-f215-4345-9747-5e63acb3abc4",
   "metadata": {
    "tags": []
   },
   "outputs": [],
   "source": [
    "dataframe_top.columns"
   ]
  },
  {
   "cell_type": "code",
   "execution_count": null,
   "id": "bcd78838-9840-48f5-ab24-95fdfe1a8d64",
   "metadata": {
    "tags": []
   },
   "outputs": [],
   "source": [
    "seperated.polyfit_and_show(\n",
    "        dataframe_top,\n",
    "        'Age',\n",
    "        'GM_vol_Liter',\n",
    "        2,\n",
    "        color1='purple',\n",
    ")"
   ]
  },
  {
   "cell_type": "markdown",
   "id": "2619affe-c3de-42cb-b7b5-e2695dfbc7b5",
   "metadata": {},
   "source": [
    "# Now we derive some facts about the distribution"
   ]
  },
  {
   "cell_type": "markdown",
   "id": "0a41f6d4-20d4-4347-bcb8-f7a41023e2e3",
   "metadata": {},
   "source": [
    "Our x axis is age, our y axis is the dependant variable. We want to ask how much this dependant variable varies from the derived polynomial"
   ]
  },
  {
   "cell_type": "markdown",
   "id": "6ddf2731-9367-4a09-aad3-db736794bdfd",
   "metadata": {
    "tags": []
   },
   "source": [
    "First, we want to say for each point what is the difference in y on the polynomial versus y on reality"
   ]
  },
  {
   "cell_type": "code",
   "execution_count": null,
   "id": "ab96a2ca-bbb7-41b0-a506-368515e857aa",
   "metadata": {
    "tags": []
   },
   "outputs": [],
   "source": [
    "def derived_function(column,a,b,c):\n",
    "    list_output = []\n",
    "    for value in column:\n",
    "        output = a * (value**2) + b* value + c\n",
    "        list_output.append(output)\n",
    "    return list_output"
   ]
  },
  {
   "cell_type": "code",
   "execution_count": null,
   "id": "efff1520-d37c-4059-aaa0-a354a6dda1d1",
   "metadata": {
    "tags": []
   },
   "outputs": [],
   "source": [
    "estimated = derived_function(dataframe_top['Age'], -1.18633655e-05, -2.15086048e-03,  7.95379583e-01)"
   ]
  },
  {
   "cell_type": "code",
   "execution_count": null,
   "id": "bad2b13e-0a04-4556-b6af-4d2b995909ca",
   "metadata": {
    "tags": []
   },
   "outputs": [],
   "source": [
    "dataframe_for_difference_top = dataframe_top[['Age', 'GM_vol_Liter']]\n",
    "dataframe_for_difference_top['predicted'] = estimated\n",
    "dataframe_for_difference_top.sort_values(by=['Age'])"
   ]
  },
  {
   "cell_type": "code",
   "execution_count": null,
   "id": "197d2bb3-86fc-46ec-b245-06fbf0be5024",
   "metadata": {
    "tags": []
   },
   "outputs": [],
   "source": [
    "dataframe_for_difference_top['differences'] = dataframe_for_difference_top['predicted'] - dataframe_for_difference_top['GM_vol_Liter']\n",
    "dataframe_for_difference_top['absolute_differences'] = abs(dataframe_for_difference_top['differences'])\n",
    "dataframe_for_difference_top.describe()"
   ]
  },
  {
   "cell_type": "markdown",
   "id": "370a75cf-f651-4fcc-ba42-289f53b9bcb1",
   "metadata": {},
   "source": [
    "So we see our mean absolute diference and max difference from this ideal polynomial i.e. .046591 and 0.224849.We also see other aspects of distribution."
   ]
  },
  {
   "cell_type": "markdown",
   "id": "2f4c5479-b3cd-469e-a00a-f82e3049461b",
   "metadata": {
    "tags": []
   },
   "source": [
    "## Now here comes the fun.. we can ask if the polynomial will work for the other dataset."
   ]
  },
  {
   "cell_type": "code",
   "execution_count": null,
   "id": "afe7e49b-58f4-4c23-96c7-d08d16209373",
   "metadata": {
    "tags": []
   },
   "outputs": [],
   "source": [
    "estimated_stroke_mri = derived_function(dataframe_stroke_mri['Age'], -1.18633655e-05, -2.15086048e-03,  7.95379583e-01)"
   ]
  },
  {
   "cell_type": "code",
   "execution_count": null,
   "id": "6602e23d-13ef-4743-a502-48a636d8ac28",
   "metadata": {
    "tags": []
   },
   "outputs": [],
   "source": [
    "#dataframe_stroke_mri"
   ]
  },
  {
   "cell_type": "code",
   "execution_count": null,
   "id": "0ce0b8cd-8281-42fb-af2b-8552327d302e",
   "metadata": {
    "tags": []
   },
   "outputs": [],
   "source": [
    "dataframe_for_difference_mri = dataframe_stroke_mri[['Age', 'GM_vol']]\n",
    "dataframe_for_difference_mri['predicted'] = estimated_stroke_mri\n",
    "dataframe_for_difference_mri.sort_values(by=['Age'])"
   ]
  },
  {
   "cell_type": "code",
   "execution_count": null,
   "id": "362c11be-f580-4778-89f3-edf5b867a822",
   "metadata": {
    "tags": []
   },
   "outputs": [],
   "source": [
    "dataframe_for_difference_mri['differences'] = dataframe_for_difference_mri['predicted'] - dataframe_for_difference_mri['GM_vol']\n",
    "dataframe_for_difference_mri['absolute_differences'] = abs(dataframe_for_difference_mri['differences'])\n",
    "dataframe_for_difference_mri.describe()"
   ]
  },
  {
   "cell_type": "markdown",
   "id": "8509e0fa-76d7-44be-b3ef-9ce89a45dc77",
   "metadata": {},
   "source": [
    "So our max difference is actually lower...So in this case one \"fits \" within the distribution of the other\n",
    "\n",
    "Now we need to do this for every column, and this is R1 "
   ]
  }
 ],
 "metadata": {
  "kernelspec": {
   "display_name": "Python 3 (ipykernel)",
   "language": "python",
   "name": "python3"
  },
  "language_info": {
   "codemirror_mode": {
    "name": "ipython",
    "version": 3
   },
   "file_extension": ".py",
   "mimetype": "text/x-python",
   "name": "python",
   "nbconvert_exporter": "python",
   "pygments_lexer": "ipython3",
   "version": "3.9.16"
  }
 },
 "nbformat": 4,
 "nbformat_minor": 5
}
