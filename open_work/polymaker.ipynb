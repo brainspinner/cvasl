{
 "cells": [
  {
   "cell_type": "markdown",
   "id": "443d08a2-f1ea-4385-aef5-3bcafcedf846",
   "metadata": {},
   "source": [
    "# Polyfitting"
   ]
  },
  {
   "cell_type": "markdown",
   "id": "4e09e255-762c-4525-b2fc-8c771fdc61d8",
   "metadata": {},
   "source": [
    "### import libraries"
   ]
  },
  {
   "cell_type": "code",
   "execution_count": null,
   "id": "e8abf613-7c4b-4579-a3af-9ff35c2682b0",
   "metadata": {
    "tags": []
   },
   "outputs": [],
   "source": [
    "import os       # using operating system dependent functionality (folders)\n",
    "import pandas as pd # data analysis and manipulation\n",
    "import numpy as np    # numerical computing (manipulating and performing operations on arrays of data)\n",
    "import seaborn\n",
    "import glob\n",
    "import matplotlib.pyplot as plt\n",
    "\n",
    "import sys\n",
    "sys.path.insert(0, '../') # path to functions\n",
    "import cvasl.seperated as sep\n",
    "from cvasl.file_handler import Config"
   ]
  },
  {
   "cell_type": "code",
   "execution_count": null,
   "id": "680fde55-288f-499c-aeaa-ccbcc3087a25",
   "metadata": {
    "tags": []
   },
   "outputs": [],
   "source": [
    "my_local = 'C:/Projects/brainspin/not_pushed/data_anonymized/assembled'"
   ]
  },
  {
   "cell_type": "code",
   "execution_count": null,
   "id": "21719a03-f049-4809-ba17-3371e919395a",
   "metadata": {
    "tags": []
   },
   "outputs": [],
   "source": [
    "# Read files into dataframes\n",
    "TOP = pd.read_csv(my_local+'/top_stitched.csv')\n",
    "StrokeMRI = pd.read_csv(my_local+'/StrokeMRI_stitched.csv')\n",
    "Insight46 = pd.read_csv(my_local+'/Insight46_stitched.csv')\n",
    "df_list = [TOP, StrokeMRI, Insight46]\n"
   ]
  },
  {
   "cell_type": "code",
   "execution_count": null,
   "id": "b8a6e8b4-e4b0-4532-b8ad-8d624731d804",
   "metadata": {
    "tags": []
   },
   "outputs": [],
   "source": [
    "\n",
    "TOP = TOP.dropna()"
   ]
  },
  {
   "cell_type": "code",
   "execution_count": null,
   "id": "2c92fae6-3e77-4d59-b39e-d8a727bc954c",
   "metadata": {
    "tags": []
   },
   "outputs": [],
   "source": [
    "TOP"
   ]
  },
  {
   "cell_type": "markdown",
   "id": "61f755bf-3e52-4825-94b4-c5a200ee8379",
   "metadata": {
    "tags": []
   },
   "source": [
    "### In the cell below you can pick columns and run our graph and polyfit on any dataframe, any two columns, you will return the coefficients"
   ]
  },
  {
   "cell_type": "code",
   "execution_count": null,
   "id": "d04e60b4-532a-4d38-9006-0241ae082928",
   "metadata": {
    "tags": []
   },
   "outputs": [],
   "source": [
    "sep.polyfit_and_show(\n",
    "        TOP,\n",
    "        'Age',\n",
    "        'GM_vol',\n",
    "        3,\n",
    "        color1='purple',\n",
    ")"
   ]
  },
  {
   "cell_type": "code",
   "execution_count": null,
   "id": "0de01a87-9399-4174-9059-57ff6b5668d0",
   "metadata": {},
   "outputs": [],
   "source": []
  }
 ],
 "metadata": {
  "kernelspec": {
   "display_name": "Python 3 (ipykernel)",
   "language": "python",
   "name": "python3"
  },
  "language_info": {
   "codemirror_mode": {
    "name": "ipython",
    "version": 3
   },
   "file_extension": ".py",
   "mimetype": "text/x-python",
   "name": "python",
   "nbconvert_exporter": "python",
   "pygments_lexer": "ipython3",
   "version": "3.9.16"
  }
 },
 "nbformat": 4,
 "nbformat_minor": 5
}
