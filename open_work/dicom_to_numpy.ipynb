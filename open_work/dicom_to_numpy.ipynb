{
 "cells": [
  {
   "cell_type": "code",
   "execution_count": 1,
   "id": "9c2aa1d5-45b6-48a9-8c77-4e5d9a91171a",
   "metadata": {
    "tags": []
   },
   "outputs": [],
   "source": [
    "#import cProfile"
   ]
  },
  {
   "cell_type": "code",
   "execution_count": null,
   "id": "72697846-bca6-48b5-955e-caf5d67e7ad1",
   "metadata": {
    "tags": []
   },
   "outputs": [],
   "source": []
  },
  {
   "cell_type": "markdown",
   "id": "643dc1d4-48a4-45ad-ad57-040032add8b0",
   "metadata": {},
   "source": [
    "# DICOM to numpy"
   ]
  },
  {
   "cell_type": "markdown",
   "id": "84309cfc-c9e5-4243-991c-f1039049755d",
   "metadata": {
    "tags": []
   },
   "source": [
    "## imports"
   ]
  },
  {
   "cell_type": "code",
   "execution_count": 2,
   "id": "f882a447-0c0f-4e7c-b1f6-992f974b3b3d",
   "metadata": {
    "tags": []
   },
   "outputs": [],
   "source": [
    "import os       # using operating system dependent functionality (folders)\n",
    "import glob\n",
    "import pandas as pd # data analysis and manipulation\n",
    "import numpy as np    # numerical computing (manipulating and performing operations on arrays of data)\n",
    "import copy     # Can Copy and Deepcopy files so original file is untouched.\n",
    "from ipywidgets import IntSlider, Output\n",
    "import ipywidgets as widgets\n",
    "from IPython.display import display\n",
    "import matplotlib.pyplot as plt\n",
    "import skimage\n",
    "import hashlib\n",
    "\n",
    "import sys\n",
    "sys.path.insert(0, '../') # path to functions\n",
    "from brainspin import file_handler as fh # \n",
    "from brainspin import mold #\n",
    "from brainspin import carve\n",
    "from brainspin.file_handler import Config"
   ]
  },
  {
   "cell_type": "code",
   "execution_count": 3,
   "id": "bfc0fc56-ecbb-4dea-88ea-7f8c50abe42e",
   "metadata": {
    "tags": []
   },
   "outputs": [],
   "source": [
    "from brainspin.carve import PydicomDicomReader"
   ]
  },
  {
   "cell_type": "code",
   "execution_count": 4,
   "id": "b64bf9be-d2bd-4bc6-8bb2-67a8cbe7489c",
   "metadata": {
    "tags": []
   },
   "outputs": [
    {
     "data": {
      "text/html": [
       "<div>\n",
       "<style scoped>\n",
       "    .dataframe tbody tr th:only-of-type {\n",
       "        vertical-align: middle;\n",
       "    }\n",
       "\n",
       "    .dataframe tbody tr th {\n",
       "        vertical-align: top;\n",
       "    }\n",
       "\n",
       "    .dataframe thead th {\n",
       "        text-align: right;\n",
       "    }\n",
       "</style>\n",
       "<table border=\"1\" class=\"dataframe\">\n",
       "  <thead>\n",
       "    <tr style=\"text-align: right;\">\n",
       "      <th></th>\n",
       "      <th>file</th>\n",
       "      <th>Manufacturer</th>\n",
       "      <th>StudyDate</th>\n",
       "      <th>ContentDate</th>\n",
       "      <th>SeriesDate</th>\n",
       "      <th>Columns</th>\n",
       "      <th>StudyTime</th>\n",
       "      <th>BitsAllocated</th>\n",
       "      <th>ReferringPhysicianName</th>\n",
       "      <th>StudyID</th>\n",
       "      <th>...</th>\n",
       "      <th>NumberOfEnergyWindows</th>\n",
       "      <th>SOPClassUID</th>\n",
       "      <th>NumberOfDetectors</th>\n",
       "      <th>PatientBirthDate</th>\n",
       "      <th>SeriesNumber</th>\n",
       "      <th>PhotometricInterpretation</th>\n",
       "      <th>ManufacturerModelName</th>\n",
       "      <th>PatientSize</th>\n",
       "      <th>PatientSex</th>\n",
       "      <th>HighBit</th>\n",
       "    </tr>\n",
       "  </thead>\n",
       "  <tbody>\n",
       "    <tr>\n",
       "      <th>0</th>\n",
       "      <td>IM-0001-0002.dcme3cbbe6b-2d21-4798-a27a-10226c...</td>\n",
       "      <td>SIEMENS NM</td>\n",
       "      <td>2001-01-31</td>\n",
       "      <td>2001-01-31</td>\n",
       "      <td>2001-01-31</td>\n",
       "      <td>256</td>\n",
       "      <td>114808.390000</td>\n",
       "      <td>16</td>\n",
       "      <td>()</td>\n",
       "      <td>1</td>\n",
       "      <td>...</td>\n",
       "      <td>1</td>\n",
       "      <td>1.2.840.10008.5.1.4.1.1.20</td>\n",
       "      <td>1</td>\n",
       "      <td>19491210</td>\n",
       "      <td>1</td>\n",
       "      <td>MONOCHROME2</td>\n",
       "      <td>IP2</td>\n",
       "      <td>1.5</td>\n",
       "      <td>F</td>\n",
       "      <td>15</td>\n",
       "    </tr>\n",
       "    <tr>\n",
       "      <th>1</th>\n",
       "      <td>IM-0001-0003.dcma8cf5740-b518-4e91-be5e-3b6cdb...</td>\n",
       "      <td>SIEMENS NM</td>\n",
       "      <td>2001-01-31</td>\n",
       "      <td>2001-01-31</td>\n",
       "      <td>2001-01-31</td>\n",
       "      <td>256</td>\n",
       "      <td>114808.390000</td>\n",
       "      <td>16</td>\n",
       "      <td>()</td>\n",
       "      <td>1</td>\n",
       "      <td>...</td>\n",
       "      <td>1</td>\n",
       "      <td>1.2.840.10008.5.1.4.1.1.20</td>\n",
       "      <td>1</td>\n",
       "      <td>19491210</td>\n",
       "      <td>1</td>\n",
       "      <td>MONOCHROME2</td>\n",
       "      <td>IP2</td>\n",
       "      <td>1.5</td>\n",
       "      <td>F</td>\n",
       "      <td>15</td>\n",
       "    </tr>\n",
       "    <tr>\n",
       "      <th>2</th>\n",
       "      <td>IM-0001-0004.dcm0a117e34-be84-4fa8-993d-249927...</td>\n",
       "      <td>SIEMENS NM</td>\n",
       "      <td>2001-01-31</td>\n",
       "      <td>2001-01-31</td>\n",
       "      <td>2001-01-31</td>\n",
       "      <td>256</td>\n",
       "      <td>114808.390000</td>\n",
       "      <td>16</td>\n",
       "      <td>()</td>\n",
       "      <td>1</td>\n",
       "      <td>...</td>\n",
       "      <td>1</td>\n",
       "      <td>1.2.840.10008.5.1.4.1.1.20</td>\n",
       "      <td>1</td>\n",
       "      <td>19491210</td>\n",
       "      <td>1</td>\n",
       "      <td>MONOCHROME2</td>\n",
       "      <td>IP2</td>\n",
       "      <td>1.5</td>\n",
       "      <td>F</td>\n",
       "      <td>15</td>\n",
       "    </tr>\n",
       "  </tbody>\n",
       "</table>\n",
       "<p>3 rows × 52 columns</p>\n",
       "</div>"
      ],
      "text/plain": [
       "                                                file Manufacturer   StudyDate  \\\n",
       "0  IM-0001-0002.dcme3cbbe6b-2d21-4798-a27a-10226c...   SIEMENS NM  2001-01-31   \n",
       "1  IM-0001-0003.dcma8cf5740-b518-4e91-be5e-3b6cdb...   SIEMENS NM  2001-01-31   \n",
       "2  IM-0001-0004.dcm0a117e34-be84-4fa8-993d-249927...   SIEMENS NM  2001-01-31   \n",
       "\n",
       "  ContentDate  SeriesDate  Columns      StudyTime  BitsAllocated  \\\n",
       "0  2001-01-31  2001-01-31      256  114808.390000             16   \n",
       "1  2001-01-31  2001-01-31      256  114808.390000             16   \n",
       "2  2001-01-31  2001-01-31      256  114808.390000             16   \n",
       "\n",
       "  ReferringPhysicianName StudyID  ... NumberOfEnergyWindows  \\\n",
       "0                     ()       1  ...                     1   \n",
       "1                     ()       1  ...                     1   \n",
       "2                     ()       1  ...                     1   \n",
       "\n",
       "                  SOPClassUID  NumberOfDetectors  PatientBirthDate  \\\n",
       "0  1.2.840.10008.5.1.4.1.1.20                  1          19491210   \n",
       "1  1.2.840.10008.5.1.4.1.1.20                  1          19491210   \n",
       "2  1.2.840.10008.5.1.4.1.1.20                  1          19491210   \n",
       "\n",
       "  SeriesNumber PhotometricInterpretation ManufacturerModelName  PatientSize  \\\n",
       "0            1               MONOCHROME2                   IP2          1.5   \n",
       "1            1               MONOCHROME2                   IP2          1.5   \n",
       "2            1               MONOCHROME2                   IP2          1.5   \n",
       "\n",
       "  PatientSex HighBit  \n",
       "0          F      15  \n",
       "1          F      15  \n",
       "2          F      15  \n",
       "\n",
       "[3 rows x 52 columns]"
      ]
     },
     "execution_count": 4,
     "metadata": {},
     "output_type": "execute_result"
    }
   ],
   "source": [
    "dicomfile_directory1 = \"../tests/dicom_example_folder\"\n",
    "source_column = 'file'\n",
    "reader = PydicomDicomReader(\n",
    "        exclude_fields=('PatientName',),\n",
    "    )\n",
    "source = carve.DirectorySource(dicomfile_directory1, source_column)\n",
    "df = reader.read(source)\n",
    "df"
   ]
  },
  {
   "cell_type": "code",
   "execution_count": 5,
   "id": "7b023dc0-b258-4e24-a02f-4a79eb23e5af",
   "metadata": {
    "tags": []
   },
   "outputs": [
    {
     "name": "stderr",
     "output_type": "stream",
     "text": [
      "..\\brainspin\\carve.py:247: UserWarning: test\\IM-0001-0002.dcme3cbbe6b-2d21-4798-a27a-10226c1ccc3e.npy is a low contrast image\n",
      "  io.imsave(\n"
     ]
    },
    {
     "ename": "ValueError",
     "evalue": "Could not find a backend to open `test\\IM-0001-0002.dcme3cbbe6b-2d21-4798-a27a-10226c1ccc3e.npy`` with iomode `wi`.",
     "output_type": "error",
     "traceback": [
      "\u001b[1;31m---------------------------------------------------------------------------\u001b[0m",
      "\u001b[1;31mValueError\u001b[0m                                Traceback (most recent call last)",
      "Cell \u001b[1;32mIn[5], line 7\u001b[0m\n\u001b[0;32m      4\u001b[0m \u001b[38;5;28;01mexcept\u001b[39;00m \u001b[38;5;167;01mFileExistsError\u001b[39;00m:\n\u001b[0;32m      5\u001b[0m     \u001b[38;5;28;01mpass\u001b[39;00m \n\u001b[1;32m----> 7\u001b[0m numpy_try \u001b[38;5;241m=\u001b[39m \u001b[43mPydicomDicomReader\u001b[49m\u001b[38;5;241;43m.\u001b[39;49m\u001b[43mrip_out_numpys\u001b[49m\u001b[43m(\u001b[49m\u001b[43mdicomfile_directory1\u001b[49m\u001b[43m,\u001b[49m\u001b[43msource\u001b[49m\u001b[43m,\u001b[49m\u001b[43moutput_folder\u001b[49m\u001b[43m)\u001b[49m\n",
      "File \u001b[1;32mC:\\Projects\\brainspin\\brainspin\\carve.py:247\u001b[0m, in \u001b[0;36mPydicomDicomReader.rip_out_numpys\u001b[1;34m(self, source, destination)\u001b[0m\n\u001b[0;32m    236\u001b[0m \u001b[38;5;250m\u001b[39m\u001b[38;5;124;03m\"\"\"\u001b[39;00m\n\u001b[0;32m    237\u001b[0m \u001b[38;5;124;03mExtract image data from DICOM files and save it as JPG in\u001b[39;00m\n\u001b[0;32m    238\u001b[0m \u001b[38;5;124;03m:code:`destination`.\u001b[39;00m\n\u001b[1;32m   (...)\u001b[0m\n\u001b[0;32m    244\u001b[0m \u001b[38;5;124;03m:type destination: Compatible with :func:`os.path.join`\u001b[39;00m\n\u001b[0;32m    245\u001b[0m \u001b[38;5;124;03m\"\"\"\u001b[39;00m\n\u001b[0;32m    246\u001b[0m \u001b[38;5;28;01mfor\u001b[39;00m key, parsed \u001b[38;5;129;01min\u001b[39;00m source\u001b[38;5;241m.\u001b[39mitems(dicom\u001b[38;5;241m.\u001b[39mdcmread):\n\u001b[1;32m--> 247\u001b[0m     \u001b[43mio\u001b[49m\u001b[38;5;241;43m.\u001b[39;49m\u001b[43mimsave\u001b[49m\u001b[43m(\u001b[49m\n\u001b[0;32m    248\u001b[0m \u001b[43m        \u001b[49m\u001b[43mrename_file\u001b[49m\u001b[43m(\u001b[49m\u001b[43mkey\u001b[49m\u001b[43m,\u001b[49m\u001b[43m \u001b[49m\u001b[43mdestination\u001b[49m\u001b[43m,\u001b[49m\u001b[43m \u001b[49m\u001b[38;5;124;43m'\u001b[39;49m\u001b[38;5;124;43mnpy\u001b[39;49m\u001b[38;5;124;43m'\u001b[39;49m\u001b[43m)\u001b[49m\u001b[43m,\u001b[49m\n\u001b[0;32m    249\u001b[0m \u001b[43m        \u001b[49m\u001b[43mparsed\u001b[49m\u001b[38;5;241;43m.\u001b[39;49m\u001b[43mpixel_array\u001b[49m\u001b[43m,\u001b[49m\n\u001b[0;32m    250\u001b[0m \u001b[43m    \u001b[49m\u001b[43m)\u001b[49m\n",
      "File \u001b[1;32m~\\anaconda3\\envs\\mamba\\envs\\with_pydicom\\lib\\site-packages\\skimage\\io\\_io.py:143\u001b[0m, in \u001b[0;36mimsave\u001b[1;34m(fname, arr, plugin, check_contrast, **plugin_args)\u001b[0m\n\u001b[0;32m    141\u001b[0m \u001b[38;5;28;01mif\u001b[39;00m check_contrast \u001b[38;5;129;01mand\u001b[39;00m is_low_contrast(arr):\n\u001b[0;32m    142\u001b[0m     warn(\u001b[38;5;124m'\u001b[39m\u001b[38;5;132;01m%s\u001b[39;00m\u001b[38;5;124m is a low contrast image\u001b[39m\u001b[38;5;124m'\u001b[39m \u001b[38;5;241m%\u001b[39m fname)\n\u001b[1;32m--> 143\u001b[0m \u001b[38;5;28;01mreturn\u001b[39;00m \u001b[43mcall_plugin\u001b[49m\u001b[43m(\u001b[49m\u001b[38;5;124;43m'\u001b[39;49m\u001b[38;5;124;43mimsave\u001b[39;49m\u001b[38;5;124;43m'\u001b[39;49m\u001b[43m,\u001b[49m\u001b[43m \u001b[49m\u001b[43mfname\u001b[49m\u001b[43m,\u001b[49m\u001b[43m \u001b[49m\u001b[43marr\u001b[49m\u001b[43m,\u001b[49m\u001b[43m \u001b[49m\u001b[43mplugin\u001b[49m\u001b[38;5;241;43m=\u001b[39;49m\u001b[43mplugin\u001b[49m\u001b[43m,\u001b[49m\u001b[43m \u001b[49m\u001b[38;5;241;43m*\u001b[39;49m\u001b[38;5;241;43m*\u001b[39;49m\u001b[43mplugin_args\u001b[49m\u001b[43m)\u001b[49m\n",
      "File \u001b[1;32m~\\anaconda3\\envs\\mamba\\envs\\with_pydicom\\lib\\site-packages\\skimage\\io\\manage_plugins.py:207\u001b[0m, in \u001b[0;36mcall_plugin\u001b[1;34m(kind, *args, **kwargs)\u001b[0m\n\u001b[0;32m    203\u001b[0m     \u001b[38;5;28;01mexcept\u001b[39;00m \u001b[38;5;167;01mIndexError\u001b[39;00m:\n\u001b[0;32m    204\u001b[0m         \u001b[38;5;28;01mraise\u001b[39;00m \u001b[38;5;167;01mRuntimeError\u001b[39;00m(\u001b[38;5;124m'\u001b[39m\u001b[38;5;124mCould not find the plugin \u001b[39m\u001b[38;5;124m\"\u001b[39m\u001b[38;5;132;01m%s\u001b[39;00m\u001b[38;5;124m\"\u001b[39m\u001b[38;5;124m for \u001b[39m\u001b[38;5;132;01m%s\u001b[39;00m\u001b[38;5;124m.\u001b[39m\u001b[38;5;124m'\u001b[39m \u001b[38;5;241m%\u001b[39m\n\u001b[0;32m    205\u001b[0m                            (plugin, kind))\n\u001b[1;32m--> 207\u001b[0m \u001b[38;5;28;01mreturn\u001b[39;00m \u001b[43mfunc\u001b[49m\u001b[43m(\u001b[49m\u001b[38;5;241;43m*\u001b[39;49m\u001b[43margs\u001b[49m\u001b[43m,\u001b[49m\u001b[43m \u001b[49m\u001b[38;5;241;43m*\u001b[39;49m\u001b[38;5;241;43m*\u001b[39;49m\u001b[43mkwargs\u001b[49m\u001b[43m)\u001b[49m\n",
      "File \u001b[1;32m~\\anaconda3\\envs\\mamba\\envs\\with_pydicom\\lib\\site-packages\\imageio\\v2.py:263\u001b[0m, in \u001b[0;36mimwrite\u001b[1;34m(uri, im, format, **kwargs)\u001b[0m\n\u001b[0;32m    261\u001b[0m imopen_args \u001b[38;5;241m=\u001b[39m decypher_format_arg(\u001b[38;5;28mformat\u001b[39m)\n\u001b[0;32m    262\u001b[0m imopen_args[\u001b[38;5;124m\"\u001b[39m\u001b[38;5;124mlegacy_mode\u001b[39m\u001b[38;5;124m\"\u001b[39m] \u001b[38;5;241m=\u001b[39m \u001b[38;5;28;01mTrue\u001b[39;00m\n\u001b[1;32m--> 263\u001b[0m \u001b[38;5;28;01mwith\u001b[39;00m \u001b[43mimopen\u001b[49m\u001b[43m(\u001b[49m\u001b[43muri\u001b[49m\u001b[43m,\u001b[49m\u001b[43m \u001b[49m\u001b[38;5;124;43m\"\u001b[39;49m\u001b[38;5;124;43mwi\u001b[39;49m\u001b[38;5;124;43m\"\u001b[39;49m\u001b[43m,\u001b[49m\u001b[43m \u001b[49m\u001b[38;5;241;43m*\u001b[39;49m\u001b[38;5;241;43m*\u001b[39;49m\u001b[43mimopen_args\u001b[49m\u001b[43m)\u001b[49m \u001b[38;5;28;01mas\u001b[39;00m file:\n\u001b[0;32m    264\u001b[0m     \u001b[38;5;28;01mreturn\u001b[39;00m file\u001b[38;5;241m.\u001b[39mwrite(im, \u001b[38;5;241m*\u001b[39m\u001b[38;5;241m*\u001b[39mkwargs)\n",
      "File \u001b[1;32m~\\anaconda3\\envs\\mamba\\envs\\with_pydicom\\lib\\site-packages\\imageio\\core\\imopen.py:298\u001b[0m, in \u001b[0;36mimopen\u001b[1;34m(uri, io_mode, plugin, extension, format_hint, legacy_mode, **kwargs)\u001b[0m\n\u001b[0;32m    292\u001b[0m         err_msg \u001b[38;5;241m+\u001b[39m\u001b[38;5;241m=\u001b[39m (\n\u001b[0;32m    293\u001b[0m             \u001b[38;5;124m\"\u001b[39m\u001b[38;5;130;01m\\n\u001b[39;00m\u001b[38;5;124mBased on the extension, the following plugins might add capable backends:\u001b[39m\u001b[38;5;130;01m\\n\u001b[39;00m\u001b[38;5;124m\"\u001b[39m\n\u001b[0;32m    294\u001b[0m             \u001b[38;5;124mf\u001b[39m\u001b[38;5;124m\"\u001b[39m\u001b[38;5;132;01m{\u001b[39;00minstall_candidates\u001b[38;5;132;01m}\u001b[39;00m\u001b[38;5;124m\"\u001b[39m\n\u001b[0;32m    295\u001b[0m         )\n\u001b[0;32m    297\u001b[0m request\u001b[38;5;241m.\u001b[39mfinish()\n\u001b[1;32m--> 298\u001b[0m \u001b[38;5;28;01mraise\u001b[39;00m err_type(err_msg)\n",
      "\u001b[1;31mValueError\u001b[0m: Could not find a backend to open `test\\IM-0001-0002.dcme3cbbe6b-2d21-4798-a27a-10226c1ccc3e.npy`` with iomode `wi`."
     ]
    }
   ],
   "source": [
    "output_folder = 'test'\n",
    "try: \n",
    "    os.mkdir(output_folder)\n",
    "except FileExistsError:\n",
    "    pass \n",
    "\n",
    "numpy_try = PydicomDicomReader.rip_out_numpys(dicomfile_directory1,source,output_folder)"
   ]
  },
  {
   "cell_type": "code",
   "execution_count": null,
   "id": "0d2530c4-1c4d-474f-9b8f-a4a7ce93a0fe",
   "metadata": {},
   "outputs": [],
   "source": []
  }
 ],
 "metadata": {
  "kernelspec": {
   "display_name": "Python 3 (ipykernel)",
   "language": "python",
   "name": "python3"
  },
  "language_info": {
   "codemirror_mode": {
    "name": "ipython",
    "version": 3
   },
   "file_extension": ".py",
   "mimetype": "text/x-python",
   "name": "python",
   "nbconvert_exporter": "python",
   "pygments_lexer": "ipython3",
   "version": "3.8.6"
  }
 },
 "nbformat": 4,
 "nbformat_minor": 5
}
