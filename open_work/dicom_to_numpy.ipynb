{
 "cells": [
  {
   "cell_type": "markdown",
   "id": "643dc1d4-48a4-45ad-ad57-040032add8b0",
   "metadata": {},
   "source": [
    "# DICOM to numpy"
   ]
  },
  {
   "cell_type": "markdown",
   "id": "84309cfc-c9e5-4243-991c-f1039049755d",
   "metadata": {
    "tags": []
   },
   "source": [
    "## imports"
   ]
  },
  {
   "cell_type": "code",
   "execution_count": null,
   "id": "f882a447-0c0f-4e7c-b1f6-992f974b3b3d",
   "metadata": {
    "tags": []
   },
   "outputs": [],
   "source": [
    "import os       # using operating system dependent functionality (folders)\n",
    "import glob\n",
    "import pandas as pd # data analysis and manipulation\n",
    "import numpy as np    # numerical computing (manipulating and performing operations on arrays of data)\n",
    "import copy     # Can Copy and Deepcopy files so original file is untouched.\n",
    "from ipywidgets import IntSlider, Output\n",
    "import ipywidgets as widgets\n",
    "from IPython.display import display\n",
    "import matplotlib.pyplot as plt\n",
    "import skimage\n",
    "import hashlib\n",
    "\n",
    "import sys\n",
    "sys.path.insert(0, '../') # path to functions\n",
    "from brainspin import file_handler as fh # \n",
    "from brainspin import mold #\n",
    "from brainspin import carve\n",
    "from brainspin.file_handler import Config"
   ]
  },
  {
   "cell_type": "code",
   "execution_count": null,
   "id": "bfc0fc56-ecbb-4dea-88ea-7f8c50abe42e",
   "metadata": {
    "tags": []
   },
   "outputs": [],
   "source": [
    "from brainspin.carve import PydicomDicomReader"
   ]
  },
  {
   "cell_type": "code",
   "execution_count": null,
   "id": "b64bf9be-d2bd-4bc6-8bb2-67a8cbe7489c",
   "metadata": {
    "tags": []
   },
   "outputs": [],
   "source": [
    "dicomfile_directory1 = \"../tests/dicom_example_folder\"\n",
    "# source_column = 'file'\n",
    "# reader = PydicomDicomReader(\n",
    "#         exclude_fields=('PatientName',),\n",
    "#     )\n",
    "# source = carve.DirectorySource(dicomfile_directory1, source_column)\n",
    "# df = reader.read(source)\n",
    "# df"
   ]
  },
  {
   "cell_type": "code",
   "execution_count": null,
   "id": "e93c7f7c-b180-4823-92a0-3dbe975aea39",
   "metadata": {
    "tags": []
   },
   "outputs": [],
   "source": []
  },
  {
   "cell_type": "code",
   "execution_count": null,
   "id": "7b023dc0-b258-4e24-a02f-4a79eb23e5af",
   "metadata": {
    "tags": []
   },
   "outputs": [],
   "source": [
    "output_folder = 'test'\n",
    "try: \n",
    "    os.mkdir(output_folder)\n",
    "except FileExistsError:\n",
    "    pass \n",
    "\n",
    "numpy_try = carve.rip_out_array_sitk(dicomfile_directory1,output_folder)"
   ]
  },
  {
   "cell_type": "code",
   "execution_count": null,
   "id": "f544b277-22a3-4525-88ea-6cf86efa2ac8",
   "metadata": {
    "tags": []
   },
   "outputs": [],
   "source": [
    "len(numpy_try)"
   ]
  },
  {
   "cell_type": "code",
   "execution_count": null,
   "id": "0d2530c4-1c4d-474f-9b8f-a4a7ce93a0fe",
   "metadata": {},
   "outputs": [],
   "source": [
    "numpy_try[0].shape"
   ]
  },
  {
   "cell_type": "code",
   "execution_count": null,
   "id": "dda1847e-6a6c-41b3-8e6e-1495e6768cab",
   "metadata": {
    "tags": []
   },
   "outputs": [],
   "source": []
  },
  {
   "cell_type": "code",
   "execution_count": null,
   "id": "3102f854-515c-481e-be08-796a2eca70ba",
   "metadata": {},
   "outputs": [],
   "source": []
  }
 ],
 "metadata": {
  "kernelspec": {
   "display_name": "Python 3 (ipykernel)",
   "language": "python",
   "name": "python3"
  },
  "language_info": {
   "codemirror_mode": {
    "name": "ipython",
    "version": 3
   },
   "file_extension": ".py",
   "mimetype": "text/x-python",
   "name": "python",
   "nbconvert_exporter": "python",
   "pygments_lexer": "ipython3",
   "version": "3.8.6"
  }
 },
 "nbformat": 4,
 "nbformat_minor": 5
}
