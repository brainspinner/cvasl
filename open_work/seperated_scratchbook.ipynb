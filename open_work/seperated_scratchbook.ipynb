{
 "cells": [
  {
   "cell_type": "markdown",
   "id": "c3a7e4b6-bbf3-48af-a6c9-4e34e8c1c364",
   "metadata": {},
   "source": [
    "# Recoding the age tsv or csvs"
   ]
  },
  {
   "cell_type": "markdown",
   "id": "74812a85-f0b1-42dd-98ad-cc65a0fbeb63",
   "metadata": {},
   "source": [
    "##  Import libraries"
   ]
  },
  {
   "cell_type": "code",
   "execution_count": null,
   "id": "8e302dea-325f-494c-97a5-7a2e22eda10d",
   "metadata": {
    "tags": []
   },
   "outputs": [],
   "source": [
    "import os       # using operating system dependent functionality (folders)\n",
    "import glob\n",
    "from string import ascii_letters\n",
    "\n",
    "\n",
    "import pandas as pd # data analysis and manipulation\n",
    "import numpy as np    # numerical computing (manipulating and performing operations on arrays of data)\n",
    "import copy     # Can Copy and Deepcopy files so original file is untouched.\n",
    "\n",
    "#import ipywidgets as widgets\n",
    "\n",
    "#import matplotlib.pyplot as plt\n",
    "#import seaborn as sns\n",
    "\n",
    "import sys\n",
    "sys.path.insert(0, '../') # path to functions\n",
    "from cvasl import file_handler as fh # \n",
    "from cvasl import mold #\n",
    "from cvasl import carve\n",
    "from cvasl.file_handler import Config"
   ]
  },
  {
   "cell_type": "code",
   "execution_count": null,
   "id": "cb9b9f89-d0c5-4963-9cec-355da36cbcf8",
   "metadata": {
    "tags": []
   },
   "outputs": [],
   "source": [
    "from cvasl import seperated"
   ]
  },
  {
   "cell_type": "code",
   "execution_count": null,
   "id": "1cce3187-02b8-429a-94b6-7f63d135fa3c",
   "metadata": {
    "tags": []
   },
   "outputs": [],
   "source": [
    "## Import age file"
   ]
  },
  {
   "cell_type": "code",
   "execution_count": null,
   "id": "bc509f0e-65d7-4343-bb78-64810f3f14f7",
   "metadata": {
    "tags": []
   },
   "outputs": [],
   "source": [
    "age_csv_place = \"C:/Projects/brainspin/age_data\"\n",
    "age_csv_pattern = os.path.join(age_csv_place, '**/*.csv')\n",
    "age_csv_files = glob.glob(age_csv_pattern, recursive=True)\n",
    "age_dataframe_example1 = pd.read_csv(age_csv_files[0])\n",
    "age_dataframe_example2 = pd.read_csv(age_csv_files[1])\n",
    "age_dataframe_example3 = pd.read_csv(age_csv_files[2])"
   ]
  },
  {
   "cell_type": "code",
   "execution_count": null,
   "id": "c9ed0cae-b80a-4ec8-93ab-8979a7da07e0",
   "metadata": {
    "tags": []
   },
   "outputs": [],
   "source": [
    "## Recode sex into new column"
   ]
  },
  {
   "cell_type": "code",
   "execution_count": null,
   "id": "a77ad6e0-3c69-4de4-a59f-fd3ad0679f29",
   "metadata": {
    "tags": []
   },
   "outputs": [],
   "source": [
    "len(age_dataframe_example3.Sex.unique())"
   ]
  },
  {
   "cell_type": "code",
   "execution_count": null,
   "id": "635b8729-a733-4cf0-af34-f2e467fb49f8",
   "metadata": {
    "tags": []
   },
   "outputs": [],
   "source": [
    "def recode_sex(whole_dataframe, string_for_sex):\n",
    "    \"\"\"\n",
    "    This function recodes sex into a new column if there \n",
    "    are two possible values. It maintains numerical older\n",
    "    butchanges the values to 0 and 1. The new column is\n",
    "    called 'sex_encoded'.\n",
    "    \n",
    "    \"\"\"\n",
    "    new_dataframe = whole_dataframe.copy()\n",
    "    dataframe_column = whole_dataframe[string_for_sex]\n",
    "    recoded = dataframe_column.copy()\n",
    "    if len(dataframe_column.unique()) == 2:\n",
    "        if recoded.unique()[0] < recoded.unique()[1]:\n",
    "            # transform smaller number to zero\n",
    "            recoded = recoded.replace(recoded.unique()[0], 0 )\n",
    "            recoded = recoded.replace(recoded.unique()[1], 1 )\n",
    "        else:\n",
    "            recoded = recoded.replace(recoded.unique()[1], 0 )\n",
    "            recoded = recoded.replace(recoded.unique()[0], 1 )\n",
    "        new_dataframe['sex_encoded'] = recoded\n",
    "    elif len(recoded.unique) < 2:\n",
    "        print('there are two sexes, you have fewer, caution, encode by hand')\n",
    "    else:\n",
    "        print('there are two sexes, you have more, caution, encode by hand')\n",
    "        \n",
    "    return new_dataframe"
   ]
  },
  {
   "cell_type": "code",
   "execution_count": null,
   "id": "26cb044d-95d3-4ff7-9e4f-e54dd4d82fe7",
   "metadata": {
    "tags": []
   },
   "outputs": [],
   "source": [
    "seperated.recode_sex(age_dataframe_example1, 'sex')"
   ]
  },
  {
   "cell_type": "code",
   "execution_count": null,
   "id": "6a084ae5-c998-4ddc-8304-7d1793317fcd",
   "metadata": {
    "tags": []
   },
   "outputs": [],
   "source": [
    "age_dataframe_example1"
   ]
  },
  {
   "cell_type": "code",
   "execution_count": null,
   "id": "39b96eab-929f-4be4-b1f8-a8b68ab19d23",
   "metadata": {},
   "outputs": [],
   "source": [
    "config = Config()\n",
    "root_mri_directory = config.get_directory('raw_data')"
   ]
  },
  {
   "cell_type": "code",
   "execution_count": null,
   "id": "ff54c0fe-204d-4e3c-87c6-783c1fbbc6fa",
   "metadata": {
    "tags": []
   },
   "outputs": [],
   "source": [
    "tsv_pattern = os.path.join(root_mri_directory, '**/*.tsv')\n",
    "tsv_files = glob.glob(tsv_pattern, recursive=True)"
   ]
  },
  {
   "cell_type": "code",
   "execution_count": null,
   "id": "4425c778-d3e1-4032-b3de-21908a91a688",
   "metadata": {
    "tags": []
   },
   "outputs": [],
   "source": [
    "dataframe_example = pd.read_csv(tsv_files[0], sep='\\t', header=[0,1])"
   ]
  },
  {
   "cell_type": "code",
   "execution_count": null,
   "id": "8c081cf1-dde2-4f26-8df7-c133e20f7ae3",
   "metadata": {
    "tags": []
   },
   "outputs": [],
   "source": [
    "dataframe_example"
   ]
  },
  {
   "cell_type": "code",
   "execution_count": null,
   "id": "d2898bd6-a3ff-4d05-8a15-9851fd757d92",
   "metadata": {
    "tags": []
   },
   "outputs": [],
   "source": [
    "dataframe_example.columns"
   ]
  },
  {
   "cell_type": "code",
   "execution_count": null,
   "id": "70953a37-0173-4a00-b181-d14bded76b17",
   "metadata": {
    "tags": []
   },
   "outputs": [],
   "source": [
    "dataframe_example[(       'participant_id',             'StudyID')]"
   ]
  },
  {
   "cell_type": "code",
   "execution_count": null,
   "id": "88c29222-9797-4439-857b-0c8b3e809abf",
   "metadata": {
    "tags": []
   },
   "outputs": [],
   "source": [
    "# peel of sub- or any other string before the numberical valuue\n",
    "\n",
    "\n",
    "\n",
    "dataframe_example[(       'participant_id',             'StudyID')] = dataframe_example[(       'participant_id',             'StudyID')].map(lambda x: x.lstrip(ascii_letters))\n",
    "\n",
    "\n",
    "dataframe_example[(       'participant_id',             'StudyID')] = dataframe_example[(       'participant_id',             'StudyID')].map(lambda x: x.lstrip('-'))\n",
    "\n",
    "dataframe_example"
   ]
  },
  {
   "cell_type": "code",
   "execution_count": null,
   "id": "f770f18a-5dc9-43e9-a1e8-3bf60dc94d24",
   "metadata": {},
   "outputs": [],
   "source": [
    "# smash down double header to single"
   ]
  },
  {
   "cell_type": "code",
   "execution_count": null,
   "id": "b739c095-ab32-44c2-a1a9-6eef97281eb0",
   "metadata": {
    "tags": []
   },
   "outputs": [],
   "source": [
    "dataframe_example.columns = [c[0] + \"_\" + c[1] for c in dataframe_example.columns]\n",
    "dataframe_example"
   ]
  },
  {
   "cell_type": "code",
   "execution_count": null,
   "id": "624bce45-d33f-4351-aaa6-74fd1e3e7c8a",
   "metadata": {},
   "outputs": [],
   "source": [
    "prepare_tsv_to_stype(sv_file)\n",
    "    if "
   ]
  }
 ],
 "metadata": {
  "kernelspec": {
   "display_name": "Python 3 (ipykernel)",
   "language": "python",
   "name": "python3"
  },
  "language_info": {
   "codemirror_mode": {
    "name": "ipython",
    "version": 3
   },
   "file_extension": ".py",
   "mimetype": "text/x-python",
   "name": "python",
   "nbconvert_exporter": "python",
   "pygments_lexer": "ipython3",
   "version": "3.9.16"
  }
 },
 "nbformat": 4,
 "nbformat_minor": 5
}
