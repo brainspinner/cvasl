{
 "cells": [
  {
   "cell_type": "markdown",
   "id": "d855cfa9-5bac-41fc-9040-2ab31aecfa7f",
   "metadata": {},
   "source": [
    "# Sample ML model testing\n",
    "This notebook will create a model based on a few features we see are well correlated in multiple datasets. It will then run this model over all existing assembled datasets."
   ]
  },
  {
   "cell_type": "markdown",
   "id": "fc9cf03a-cf3d-4c40-877a-594a451f1137",
   "metadata": {
    "tags": []
   },
   "source": [
    "### Importing libraries\n",
    "Because we want to display and interact with our data this will take a many libraries"
   ]
  },
  {
   "cell_type": "code",
   "execution_count": 2,
   "id": "5631266e-36c7-4cbf-aba8-bf09fd25a493",
   "metadata": {
    "tags": []
   },
   "outputs": [],
   "source": [
    "#basic ds\n",
    "import numpy as np\n",
    "import pandas as pd\n",
    "import matplotlib.pyplot as plt\n",
    "\n",
    "#basic system\n",
    "import sys\n",
    "import os\n",
    "import glob\n",
    "\n",
    "# math and signals\n",
    "import math\n",
    "from scipy.stats import entropy\n",
    "from scipy.signal import savgol_filter\n",
    "from scipy.signal import find_peaks\n",
    "\n",
    "# demo stuff\n",
    "import ipywidgets as widgets\n",
    "import seaborn "
   ]
  },
  {
   "cell_type": "code",
   "execution_count": 3,
   "id": "9259e56a-0c61-4549-bce7-20a3e529fb26",
   "metadata": {
    "tags": []
   },
   "outputs": [],
   "source": [
    "# ml stuff\n",
    "from sklearn.model_selection import train_test_split\n",
    "from sklearn.preprocessing import StandardScaler\n",
    "from sklearn.svm import SVC\n",
    "from sklearn.metrics import accuracy_score\n",
    "from sklearn.linear_model import LogisticRegression\n",
    "from sklearn.linear_model import LinearRegression\n",
    "from sklearn import linear_model\n",
    "from sklearn import tree\n",
    "from sklearn import metrics\n",
    "from sklearn.linear_model import SGDRegressor\n",
    "from sklearn.metrics import confusion_matrix\n",
    "import joblib"
   ]
  },
  {
   "cell_type": "markdown",
   "id": "304481fd-1b80-4201-8a00-235df66c07ad",
   "metadata": {},
   "source": [
    "## Importing and loading data\n",
    "Here we take data from hardcoded paths. This can be changed later, but this is a proof of concept about our specific datasets at this point- not something for all scientists everywhere to use without modifying."
   ]
  },
  {
   "cell_type": "code",
   "execution_count": 4,
   "id": "b9b5efb2-32ab-43e8-ba45-221f6b77ca1e",
   "metadata": {
    "tags": []
   },
   "outputs": [],
   "source": [
    "root_data_path =\"C:/Projects/brainspin/not_pushed/data_anonymized/assembled\"\n",
    "TOP_data       = os.path.join(root_data_path,'top_stitched.csv') \n",
    "StrokeMRI_data = os.path.join(root_data_path,'StrokeMRI_stitched.csv')\n",
    "Insight46_data = os.path.join(root_data_path,'Insight46_stitched.csv')\n",
    "\n",
    "TOP_frame = pd.read_csv(TOP_data)\n",
    "StrokeMRI_frame = pd.read_csv(StrokeMRI_data)\n",
    "Insight46_frame = pd.read_csv(Insight46_data)"
   ]
  },
  {
   "cell_type": "markdown",
   "id": "e6e99544-5a48-4e81-998b-f81c305ce1ce",
   "metadata": {
    "tags": []
   },
   "source": [
    "## Examining relationships in data\n",
    "\n",
    "Here we will seperate a subset of variables earlier experiments and clinical\n",
    "logic have shown to be of interest, then show heatmaps, and also examine plots."
   ]
  },
  {
   "cell_type": "code",
   "execution_count": 13,
   "id": "20e4f30c-e00a-4eb4-a434-deb57f12772b",
   "metadata": {
    "tags": []
   },
   "outputs": [
    {
     "data": {
      "text/plain": [
       "Index(['Unnamed: 0', 'session', 'LongitudinalTimePoint', 'SubjectNList',\n",
       "       'Site', 'GM_vol', 'WM_vol', 'CSF_vol', 'GM_ICVRatio', 'GMWM_ICVRatio',\n",
       "       'WMH_vol', 'WMH_count', 'renumber', 'DeepWM_B', 'DeepWM_L', 'DeepWM_R',\n",
       "       'TotalGM_B', 'TotalGM_L', 'TotalGM_R', 'DeepWM_B.1', 'DeepWM_L.1',\n",
       "       'DeepWM_R.1', 'TotalGM_B.1', 'TotalGM_L.1', 'TotalGM_R.1', 'T', 'S',\n",
       "       'A', 'r', 'a'],\n",
       "      dtype='object')"
      ]
     },
     "execution_count": 13,
     "metadata": {},
     "output_type": "execute_result"
    }
   ],
   "source": [
    "StrokeMRI_frame.columns"
   ]
  },
  {
   "cell_type": "code",
   "execution_count": null,
   "id": "05d59b08-7212-4d69-9772-814ba69f54da",
   "metadata": {},
   "outputs": [],
   "source": []
  },
  {
   "cell_type": "code",
   "execution_count": 8,
   "id": "dc85482f-eef2-431d-83c5-50e07dff1a4a",
   "metadata": {
    "tags": []
   },
   "outputs": [],
   "source": [
    "TOP_small_frame = TOP_frame[['GM_ICVRatio', 'GMWM_ICVRatio','WMH_vol', 'WMH_count',]]\n",
    "StrokeMRI_small_frame = StrokeMRI_frame[['GM_ICVRatio', 'GMWM_ICVRatio','WMH_vol', 'WMH_count',]]\n",
    "Insight46_small_frame = Insight46_frame[['GM_ICVRatio', 'GMWM_ICVRatio','WMH_vol', 'WMH_count',]]"
   ]
  },
  {
   "cell_type": "code",
   "execution_count": null,
   "id": "89863790-f621-4a3c-a7e2-bac2edb4eabd",
   "metadata": {},
   "outputs": [],
   "source": []
  }
 ],
 "metadata": {
  "kernelspec": {
   "display_name": "Python 3 (ipykernel)",
   "language": "python",
   "name": "python3"
  },
  "language_info": {
   "codemirror_mode": {
    "name": "ipython",
    "version": 3
   },
   "file_extension": ".py",
   "mimetype": "text/x-python",
   "name": "python",
   "nbconvert_exporter": "python",
   "pygments_lexer": "ipython3",
   "version": "3.9.16"
  }
 },
 "nbformat": 4,
 "nbformat_minor": 5
}
