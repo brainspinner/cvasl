{
 "cells": [
  {
   "cell_type": "markdown",
   "id": "6d1c1171-559d-4bf4-b137-46935280a47e",
   "metadata": {},
   "source": [
    "# Age, sex size conundrum"
   ]
  },
  {
   "cell_type": "code",
   "execution_count": null,
   "id": "09cd5e6f-cc7b-4cab-a348-0592d0a856ec",
   "metadata": {
    "tags": []
   },
   "outputs": [],
   "source": [
    "import plotly.express as px\n",
    "import pandas as pd"
   ]
  },
  {
   "cell_type": "markdown",
   "id": "8698c7c8-c6dd-40f1-b702-e659faab5e6a",
   "metadata": {},
   "source": [
    "## we can fix hardcoding later"
   ]
  },
  {
   "cell_type": "code",
   "execution_count": null,
   "id": "4a4cf8fe-044e-4078-8d1d-5bddddfefef4",
   "metadata": {},
   "outputs": [],
   "source": [
    "df2_string = \"C:/Projects/brainspin/not_pushed/data_anonymized/assembled/top_stitched.csv\"\n",
    "top_stitched = pd.read_csv(df2_string)\n",
    "top_stitched"
   ]
  },
  {
   "cell_type": "code",
   "execution_count": null,
   "id": "2f10da59-b7f1-4fd1-acd9-068fa94e3781",
   "metadata": {
    "tags": []
   },
   "outputs": [],
   "source": [
    "top_stitched.columns"
   ]
  },
  {
   "cell_type": "code",
   "execution_count": null,
   "id": "20fbe66d-325a-407b-87e9-42a7caa2e509",
   "metadata": {
    "tags": []
   },
   "outputs": [],
   "source": []
  },
  {
   "cell_type": "code",
   "execution_count": null,
   "id": "1b11d116-d686-4ba7-af8d-d62ae2927e70",
   "metadata": {
    "tags": []
   },
   "outputs": [],
   "source": [
    "fig = px.scatter_3d(top_stitched, x='Age', y='WM_vol_Liter', z='GM_vol_Liter',\n",
    "              color='Sex', color_continuous_scale='Plotly3', opacity=0.5)\n",
    "fig.show()"
   ]
  },
  {
   "cell_type": "code",
   "execution_count": null,
   "id": "1517ba0a-0ec8-47c0-bba0-f827380da8df",
   "metadata": {
    "tags": []
   },
   "outputs": [],
   "source": [
    "fig = px.scatter_3d(top_stitched, x='Age', y='WM_vol_Liter', z='GM_vol_Liter',\n",
    "              color='Sex', color_continuous_scale='Plotly3', opacity=0.5)\n",
    "fig.write_html(\"age_sex_size_top.html\")"
   ]
  },
  {
   "cell_type": "code",
   "execution_count": null,
   "id": "4ec9fb09-ef0c-4e91-a7c7-7efa8a80df18",
   "metadata": {
    "tags": []
   },
   "outputs": [],
   "source": [
    "df3_string = \"C:/Projects/brainspin/not_pushed/data_anonymized/assembled/StrokeMRI_stitched.csv\"\n",
    "strokemri_stitched = pd.read_csv(df3_string)\n",
    "strokemri_stitched"
   ]
  },
  {
   "cell_type": "code",
   "execution_count": null,
   "id": "b67a37b5-0d66-4a18-a930-b60d696ae186",
   "metadata": {
    "tags": []
   },
   "outputs": [],
   "source": [
    "fig = px.scatter_3d(strokemri_stitched, x='Age', y='WM_vol', z='GM_vol',\n",
    "              color='Sex', color_continuous_scale='Plotly3', opacity=0.5)\n",
    "fig.show()"
   ]
  },
  {
   "cell_type": "code",
   "execution_count": null,
   "id": "c49287b8-c5d4-42dc-bff9-75d417c459b6",
   "metadata": {},
   "outputs": [],
   "source": []
  }
 ],
 "metadata": {
  "kernelspec": {
   "display_name": "Python 3 (ipykernel)",
   "language": "python",
   "name": "python3"
  },
  "language_info": {
   "codemirror_mode": {
    "name": "ipython",
    "version": 3
   },
   "file_extension": ".py",
   "mimetype": "text/x-python",
   "name": "python",
   "nbconvert_exporter": "python",
   "pygments_lexer": "ipython3",
   "version": "3.9.16"
  }
 },
 "nbformat": 4,
 "nbformat_minor": 5
}
