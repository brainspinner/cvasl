{
 "cells": [
  {
   "cell_type": "markdown",
   "id": "a6fec917-48cc-4817-866f-18765dfb1a9b",
   "metadata": {},
   "source": [
    "# Exploring TSV files`"
   ]
  },
  {
   "cell_type": "markdown",
   "id": "2555294b-361f-4c7b-9ad3-10d856c2026c",
   "metadata": {},
   "source": [
    "### Imports"
   ]
  },
  {
   "cell_type": "code",
   "execution_count": null,
   "id": "00118c2d-23b6-4b35-bdf7-6e262ea1b0f5",
   "metadata": {},
   "outputs": [],
   "source": [
    "import os       # using operating system dependent functionality (folders)\n",
    "import glob\n",
    "import pandas as pd # data analysis and manipulation\n",
    "import numpy as np    # numerical computing (manipulating and performing operations on arrays of data)\n",
    "import copy     # Can Copy and Deepcopy files so original file is untouched.\n",
    "from ipywidgets import IntSlider, Output\n",
    "import ipywidgets as widgets\n",
    "from IPython.display import display\n",
    "import matplotlib.pyplot as plt\n",
    "import seaborn as sns\n",
    "\n",
    "import sys\n",
    "sys.path.insert(0, '../') # path to functions\n",
    "from cvasl import file_handler as fh # \n",
    "from cvasl import mold #\n",
    "from cvasl import carve\n",
    "from cvasl.file_handler import Config"
   ]
  },
  {
   "cell_type": "markdown",
   "id": "45184ed6-98b1-4278-803e-3f5e5a86b606",
   "metadata": {},
   "source": [
    "### Configure data"
   ]
  },
  {
   "cell_type": "code",
   "execution_count": null,
   "id": "65589de5-a6a2-4bb7-a62e-f2efc73551c1",
   "metadata": {},
   "outputs": [],
   "source": [
    "config = Config()\n",
    "root_mri_directory = config.get_directory('raw_data')"
   ]
  },
  {
   "cell_type": "markdown",
   "id": "e5820c2d-4dd3-4d6f-a9d8-e46de3931144",
   "metadata": {
    "tags": []
   },
   "source": [
    "### Load tsv files"
   ]
  },
  {
   "cell_type": "code",
   "execution_count": null,
   "id": "9c8a0b2f-7fb6-4dda-bc9c-b12cf34d4b3b",
   "metadata": {
    "tags": []
   },
   "outputs": [],
   "source": [
    "tsv_pattern = os.path.join(root_mri_directory, '**/*.tsv')\n",
    "tsv_files = glob.glob(tsv_pattern, recursive=True)\n"
   ]
  },
  {
   "cell_type": "markdown",
   "id": "1afaca8a-d28c-47e2-9864-8e0b6edd132b",
   "metadata": {},
   "source": [
    "### check tsv files"
   ]
  },
  {
   "cell_type": "code",
   "execution_count": null,
   "id": "2733448f-67bd-4058-83ca-24c8e45b4a6d",
   "metadata": {
    "tags": []
   },
   "outputs": [],
   "source": [
    "dataframe_example = pd.read_csv(tsv_files[0], sep='\\t')"
   ]
  },
  {
   "cell_type": "code",
   "execution_count": null,
   "id": "985b16ed-5b4e-4eee-a757-ef8584aa5cbd",
   "metadata": {
    "tags": []
   },
   "outputs": [],
   "source": [
    "dataframe_example"
   ]
  },
  {
   "cell_type": "code",
   "execution_count": null,
   "id": "bf95b2ec-2a05-4902-8c8d-5c8aaa5a150e",
   "metadata": {
    "tags": []
   },
   "outputs": [],
   "source": [
    "dataframe_example.columns"
   ]
  },
  {
   "cell_type": "code",
   "execution_count": null,
   "id": "2cd4b7e4-1bc8-4b2b-b263-b2dcfb449b76",
   "metadata": {
    "tags": []
   },
   "outputs": [],
   "source": [
    "## check tsv file diversity\n",
    "tsv_files"
   ]
  },
  {
   "cell_type": "markdown",
   "id": "e3c3423a-7446-4152-9233-3df69bb09c19",
   "metadata": {},
   "source": [
    "### Analysis"
   ]
  },
  {
   "cell_type": "markdown",
   "id": "2a16340a-2c7e-48b9-8ff3-814f22e5cced",
   "metadata": {},
   "source": [
    "Without the subject ages we can not do an analysis on anything except how subjects progress over time points, and how various parameters predict each other. But let's scan all the tev we were given to see if we have ones with age. "
   ]
  },
  {
   "cell_type": "markdown",
   "id": "b20c8a1b-aae1-4e6d-a164-c4a829ad16df",
   "metadata": {},
   "source": [
    "#### Correlations within datasets:"
   ]
  },
  {
   "cell_type": "markdown",
   "id": "f5588ceb-8f73-4b65-8067-6182ab7a69b2",
   "metadata": {},
   "source": [
    "Let's use one dataframe example:"
   ]
  },
  {
   "cell_type": "code",
   "execution_count": null,
   "id": "c80de1cd-3b42-4f36-83d7-171096343201",
   "metadata": {
    "tags": []
   },
   "outputs": [],
   "source": [
    "dataframe_example.columns"
   ]
  },
  {
   "cell_type": "code",
   "execution_count": null,
   "id": "760c1651-9812-45e0-91cc-1c085f13de6f",
   "metadata": {
    "tags": []
   },
   "outputs": [],
   "source": [
    "dataframe_example_nums_only = dataframe_example[[ \n",
    "    'SubjectNList',\n",
    "    'Site', 'GM_vol', 'WM_vol', 'CSF_vol', 'GM_ICVRatio', 'GMWM_ICVRatio',\n",
    "    'WMH_vol', 'WMH_count', 'MeanMotion', 'DeepWM_B', 'DeepWM_L',\n",
    "    'DeepWM_R']]"
   ]
  },
  {
   "cell_type": "code",
   "execution_count": null,
   "id": "30cd92ae-5e84-42a3-abb0-628db078f651",
   "metadata": {
    "tags": []
   },
   "outputs": [],
   "source": [
    "dataframe_example_nums_only"
   ]
  },
  {
   "cell_type": "code",
   "execution_count": null,
   "id": "4bf2534a-b5c2-4215-b331-5f7281aa9db9",
   "metadata": {
    "tags": []
   },
   "outputs": [],
   "source": [
    "dataframe_example_nums_only[1:].corr()"
   ]
  },
  {
   "cell_type": "code",
   "execution_count": null,
   "id": "137d1be6-c5c2-45f5-b464-a267482bb477",
   "metadata": {
    "tags": []
   },
   "outputs": [],
   "source": [
    "%matplotlib inline\n",
    "sns.heatmap(dataframe_example_nums_only[1:].corr(), annot = True)"
   ]
  },
  {
   "cell_type": "markdown",
   "id": "e71c6544-2e48-46dc-a927-777489a088d0",
   "metadata": {},
   "source": [
    "So we do see some correlations int his particular dataset that are strong an expected. The area of brain to ICV ratio negatively correlates with the CSF volume as should be expected. White matter and grey matter correlate pretty well. White matter hyperintensities in count correlate somewhat with white matter hyperintensity volume. And deep WM-L correlates between the sides of the brain and both. Basically everything we would expect. "
   ]
  },
  {
   "cell_type": "markdown",
   "id": "2c96de30-9010-4aba-974a-7149f117f8f8",
   "metadata": {},
   "source": [
    "So now we can make a super-dataset of all the datasets, and see if these correlations hold. "
   ]
  },
  {
   "cell_type": "code",
   "execution_count": null,
   "id": "12bf99db-96b7-4901-9b20-712cab19c466",
   "metadata": {
    "tags": []
   },
   "outputs": [],
   "source": [
    "dataframe_example2 = pd.read_csv(tsv_files[1], sep='\\t')\n",
    "dataframe_example2.columns.to_list()"
   ]
  },
  {
   "cell_type": "markdown",
   "id": "caf537e8-fbdd-49f5-9d81-cb2df5a1c0a5",
   "metadata": {},
   "source": [
    "More elements than first...let's see what we have in common between the two tsv:"
   ]
  },
  {
   "cell_type": "code",
   "execution_count": null,
   "id": "47f6dec4-a4f7-4abb-959c-858c501f2969",
   "metadata": {
    "tags": []
   },
   "outputs": [],
   "source": [
    "first = set(dataframe_example.columns.to_list())\n",
    "second = set(dataframe_example2.columns.to_list())"
   ]
  },
  {
   "cell_type": "code",
   "execution_count": null,
   "id": "635f76b0-4ff2-42fc-ad48-4b31545a4c6d",
   "metadata": {
    "tags": []
   },
   "outputs": [],
   "source": [
    "not_common2 =  list(set(dataframe_example2.columns.to_list()) - set(dataframe_example.columns.to_list()))"
   ]
  },
  {
   "cell_type": "code",
   "execution_count": null,
   "id": "617e369d-fede-4987-bcc2-12f22543715b",
   "metadata": {
    "tags": []
   },
   "outputs": [],
   "source": [
    "shared = list(first.intersection(second))\n",
    "shared"
   ]
  },
  {
   "cell_type": "markdown",
   "id": "4179269c-4fd9-4a0d-97c0-f35876940051",
   "metadata": {},
   "source": [
    "Not a lot...let's look at what we have in common in all or most of the tsv"
   ]
  },
  {
   "cell_type": "code",
   "execution_count": null,
   "id": "f06bc6ab-642a-483c-8422-a699cb0d42de",
   "metadata": {
    "tags": []
   },
   "outputs": [],
   "source": [
    "name_file = []\n",
    "longlesses = []\n",
    "for file in tsv_files:\n",
    "    dataframe_example = pd.read_csv(file, sep='\\t')\n",
    "    longness = len(dataframe_example.columns)\n",
    "    name_file.append(file)\n",
    "    longlesses.append(longness)\n",
    "data_tsv = pd.DataFrame([name_file, longlesses])        \n",
    "print(longlesses)        "
   ]
  },
  {
   "cell_type": "code",
   "execution_count": null,
   "id": "12fa16c5-dd9b-45b2-ae32-9a4b058562ba",
   "metadata": {
    "tags": []
   },
   "outputs": [],
   "source": [
    "data_tsv"
   ]
  },
  {
   "cell_type": "markdown",
   "id": "2e6b7e82-abb2-451e-b922-807038b0a974",
   "metadata": {},
   "source": [
    "So There may be 15 common features on most as a guess. We need to not look at the last on the list."
   ]
  },
  {
   "cell_type": "code",
   "execution_count": null,
   "id": "8cd0160e-0a74-49f2-9a7c-5f33ccb0dd1f",
   "metadata": {
    "tags": []
   },
   "outputs": [],
   "source": [
    "#print(name_file[:-1])"
   ]
  },
  {
   "cell_type": "code",
   "execution_count": null,
   "id": "90d0dd1a-4051-416b-98e4-40303eda9d83",
   "metadata": {
    "tags": []
   },
   "outputs": [],
   "source": [
    "set_of_relevant_files = name_file[:-1]"
   ]
  },
  {
   "cell_type": "code",
   "execution_count": null,
   "id": "0bcbf919-7704-4384-906f-a673b6a8fca0",
   "metadata": {
    "tags": []
   },
   "outputs": [],
   "source": [
    "name_file = []\n",
    "longlesses = []\n",
    "intersections = []\n",
    "len_intersections = []\n",
    "for file in set_of_relevant_files:\n",
    "    dataframe_example = pd.read_csv(file, sep='\\t')\n",
    "    longness = len(dataframe_example.columns)\n",
    "    name_file.append(file)\n",
    "    longlesses.append(longness)\n",
    "    dataframe_example2 = pd.read_csv(file, sep='\\t')\n",
    "    columns = dataframe_example2.columns.to_list()\n",
    "    intersection = set(columns).intersection(second)\n",
    "    intersections.append(intersection)\n",
    "    len_intersections.append(len(intersection))\n",
    "data_tsv = pd.DataFrame([name_file, longlesses, len_intersections, intersections])         "
   ]
  },
  {
   "cell_type": "code",
   "execution_count": null,
   "id": "28d8bcb0-f5b4-4fe2-9c74-0f87613516bc",
   "metadata": {
    "tags": []
   },
   "outputs": [],
   "source": [
    "data_tsv"
   ]
  },
  {
   "cell_type": "markdown",
   "id": "3ca2b855-8e9a-4120-8156-4867cb95b505",
   "metadata": {},
   "source": [
    "So we will have twelve or thireen common elements we can compare.Let's look at hope they are about the same."
   ]
  },
  {
   "cell_type": "code",
   "execution_count": null,
   "id": "5e19bec9-e86c-4f60-a34c-92d3e008c87e",
   "metadata": {
    "tags": []
   },
   "outputs": [],
   "source": [
    "data_tsv[0][3]"
   ]
  },
  {
   "cell_type": "code",
   "execution_count": null,
   "id": "3dab0ec2-b9ad-47f1-b24d-61889c616dee",
   "metadata": {
    "tags": []
   },
   "outputs": [],
   "source": [
    "data_tsv[2][3]"
   ]
  },
  {
   "cell_type": "code",
   "execution_count": null,
   "id": "768dee6a-2ac0-461b-9e45-e4afe0848658",
   "metadata": {},
   "outputs": [],
   "source": [
    "data_tsv[4][3]"
   ]
  },
  {
   "cell_type": "code",
   "execution_count": null,
   "id": "b4a277fc-3176-4229-9b5c-d37deb123a34",
   "metadata": {
    "tags": []
   },
   "outputs": [],
   "source": [
    "data_tsv[4][3].intersection(data_tsv[2][3]).intersection(data_tsv[0][3]).intersection(data_tsv[5][3]).intersection(data_tsv[3][3]).intersection(data_tsv[6][3]).intersection(data_tsv[7][3])"
   ]
  },
  {
   "cell_type": "markdown",
   "id": "6de707ea-d151-40d5-b829-b808d28958d1",
   "metadata": {},
   "source": [
    "OK, so more or less we should have the above values in every group of tsv in our supergroup.\n",
    "Let's check if we do"
   ]
  },
  {
   "cell_type": "code",
   "execution_count": null,
   "id": "5ffcc918-500c-42fa-b1ce-2eec4120cd53",
   "metadata": {
    "tags": []
   },
   "outputs": [],
   "source": [
    "list_elements = data_tsv[4][3].intersection(data_tsv[2][3]).intersection(data_tsv[0][3]).intersection(data_tsv[5][3]).intersection(data_tsv[3][3]).intersection(data_tsv[6][3]).intersection(data_tsv[7][3])"
   ]
  },
  {
   "cell_type": "code",
   "execution_count": null,
   "id": "228c7d2f-ad47-4bf8-8fce-3767f10f30d3",
   "metadata": {
    "tags": []
   },
   "outputs": [],
   "source": [
    "list_elements"
   ]
  },
  {
   "cell_type": "code",
   "execution_count": null,
   "id": "fed72c65-c71d-4170-96e4-15b2d726641c",
   "metadata": {
    "tags": []
   },
   "outputs": [],
   "source": [
    "name_file = []\n",
    "longlesses = []\n",
    "good_files = []\n",
    "for file in tsv_files:\n",
    "    dataframe_example = pd.read_csv(file, sep='\\t')\n",
    "    if set(list_elements).issubset(set(dataframe_example.columns.to_list())):\n",
    "                                   good_files.append(file)\n",
    "       \n",
    "print(good_files)        "
   ]
  },
  {
   "cell_type": "code",
   "execution_count": null,
   "id": "f3b7b23e-a781-4c30-8733-951d92d293eb",
   "metadata": {
    "tags": []
   },
   "outputs": [],
   "source": [
    "len(good_files)"
   ]
  },
  {
   "cell_type": "markdown",
   "id": "9923778b-cc8a-4d6a-af9b-9bf1d18dfe25",
   "metadata": {},
   "source": [
    "Here we must say in this set, the set of common elements is about:\n",
    "CSV_vol,  'GMWM_ICVRatio',\n",
    " 'GM_ICVRatio',\n",
    " 'GM_vol',\n",
    " 'LongitudinalTimePoint',\n",
    " 'MeanMotion',\n",
    " 'Site',\n",
    " 'SubjectNList',\n",
    " 'WMH_count',\n",
    " 'WMH_vol',\n",
    " 'WM_vol',\n",
    " 'participant_id',\n",
    " 'session'\n",
    " \n",
    " However we need something to extract the common set from any group of tsv columns"
   ]
  },
  {
   "cell_type": "code",
   "execution_count": null,
   "id": "3a8c8f69-6cff-4542-a827-9f25ed76f3f4",
   "metadata": {
    "tags": []
   },
   "outputs": [],
   "source": [
    "def make_columns(list_tsv_files):\n",
    "    columns_list = []\n",
    "    for file in list_tsv_files:\n",
    "        dataframe_example = pd.read_csv(file, sep='\\t')\n",
    "        columns= dataframe_example.columns.to_list()\n",
    "        columns_list.append(columns)\n",
    "    return columns_list\n",
    "\n",
    "a = fh.make_columns(good_files)"
   ]
  },
  {
   "cell_type": "code",
   "execution_count": null,
   "id": "67785d2c-56b1-4390-918a-a30544f2a374",
   "metadata": {
    "tags": []
   },
   "outputs": [],
   "source": [
    "\n",
    "def intersect_all(*sets):\n",
    "    result, *rest = sets\n",
    "    for remaining in rest:\n",
    "        result = set(result).intersection(remaining)\n",
    "    return result\n",
    "\n",
    "good_columns_sets = fh.intersect_all(*a)"
   ]
  },
  {
   "cell_type": "markdown",
   "id": "6c08cdfa-46b0-4f82-bb15-dc603923aa03",
   "metadata": {
    "tags": []
   },
   "source": [
    "Now we make our super tsv file"
   ]
  },
  {
   "cell_type": "code",
   "execution_count": null,
   "id": "3dddbe7e-ae61-4aa5-8970-d6b0beb3ae60",
   "metadata": {
    "tags": []
   },
   "outputs": [],
   "source": [
    "good_columns_list = list(good_columns_sets)\n",
    "good_columns_list"
   ]
  },
  {
   "cell_type": "code",
   "execution_count": null,
   "id": "184ebdfc-4bbb-4d5d-a830-d8a07f0772cb",
   "metadata": {
    "tags": []
   },
   "outputs": [],
   "source": [
    "tabs_together = []\n",
    "for file in good_files:\n",
    "    print(file)\n",
    "    tabular = pd.read_csv(file, sep='\\t')\n",
    "    tabularnow = tabular[good_columns_list]\n",
    "    tabs_together.append(tabularnow)"
   ]
  },
  {
   "cell_type": "code",
   "execution_count": null,
   "id": "3508caaa-0f31-48fd-8ed4-63556075c636",
   "metadata": {
    "tags": []
   },
   "outputs": [],
   "source": [
    "tabs_together"
   ]
  },
  {
   "cell_type": "markdown",
   "id": "ab37d37f-7fa7-4d05-bf4a-ed4ef7d29fa6",
   "metadata": {
    "tags": []
   },
   "source": [
    "now if tsvs were different we could stack 8 elements of tabular ...and make a supercomparator, but we seem tohave the same tsv over and over because the first ten with thesame columns are the same...wierd check wth scientists..looking at the names they all came from the same day. let's check all dates"
   ]
  },
  {
   "cell_type": "code",
   "execution_count": null,
   "id": "eb854715-0685-4177-852f-3e8f46f1c212",
   "metadata": {
    "tags": []
   },
   "outputs": [],
   "source": [
    "more_files = []\n",
    "for file in tsv_files:\n",
    "    dataframe_example = pd.read_csv(file, sep='\\t')\n",
    "    columns = dataframe_example.columns.to_list()\n",
    "    if len(columns) > 5:\n",
    "        more_files.append(file)\n",
    "b = fh.make_columns(more_files)       "
   ]
  },
  {
   "cell_type": "code",
   "execution_count": null,
   "id": "95843423-b7f3-4232-a8b1-a4f2f04138e1",
   "metadata": {
    "tags": []
   },
   "outputs": [],
   "source": [
    "newer_columns_sets = fh.intersect_all(*b)"
   ]
  },
  {
   "cell_type": "code",
   "execution_count": null,
   "id": "8cfef4b4-06f4-4991-9d22-bd97a8b82093",
   "metadata": {
    "tags": []
   },
   "outputs": [],
   "source": [
    "def extract_common_columns(list_tsv_files):\n",
    "    b = fh.make_columns(list_tsv_files)\n",
    "    columns_sets = fh.intersect_all(*b)\n",
    "    return columns_sets\n",
    "    "
   ]
  },
  {
   "cell_type": "code",
   "execution_count": null,
   "id": "ba9e7948-2d17-4ddf-8d5a-e56f02a0e1b3",
   "metadata": {
    "tags": []
   },
   "outputs": [],
   "source": [
    "fh.extract_common_columns(more_files)"
   ]
  },
  {
   "cell_type": "code",
   "execution_count": null,
   "id": "9c54ec2b-c597-452f-a682-55b93e903918",
   "metadata": {
    "tags": []
   },
   "outputs": [],
   "source": [
    "newer_columns_sets_list = list(newer_columns_sets)"
   ]
  },
  {
   "cell_type": "code",
   "execution_count": null,
   "id": "087225b3-5b63-4b1c-b887-dfebf53a14fc",
   "metadata": {
    "tags": []
   },
   "outputs": [],
   "source": [
    "tabs_together = []\n",
    "for file in more_files:\n",
    "    print(file)\n",
    "    tabular = pd.read_csv(file, sep='\\t')\n",
    "    tabularnow = tabular[newer_columns_sets_list]\n",
    "    tabs_together.append(tabularnow)"
   ]
  },
  {
   "cell_type": "code",
   "execution_count": null,
   "id": "057dbac1-c398-4afc-b242-dfd4f6c5bcd3",
   "metadata": {
    "tags": []
   },
   "outputs": [],
   "source": [
    "tabs_together"
   ]
  },
  {
   "cell_type": "markdown",
   "id": "339a7dbe-541f-4f9e-9fe6-31a416a8d367",
   "metadata": {},
   "source": [
    "So we have three kinds, many times duplicated over- must dicuss with scientists. UNtil then let's reduce and combine"
   ]
  },
  {
   "cell_type": "code",
   "execution_count": null,
   "id": "a62945f5-b178-419d-bda0-59ae7217f9d9",
   "metadata": {
    "tags": []
   },
   "outputs": [],
   "source": [
    "tabs_together[0]"
   ]
  },
  {
   "cell_type": "code",
   "execution_count": null,
   "id": "52ad2bf9-d5b7-4e14-89dc-eb2ce0f16b13",
   "metadata": {
    "tags": []
   },
   "outputs": [],
   "source": [
    "len(tabs_together)"
   ]
  },
  {
   "cell_type": "code",
   "execution_count": null,
   "id": "94e86dd9-a88c-4de0-b2c7-cbc8b2fcc763",
   "metadata": {
    "tags": []
   },
   "outputs": [],
   "source": [
    "tabs_together[0].equals(tabs_together[10])"
   ]
  },
  {
   "cell_type": "code",
   "execution_count": null,
   "id": "12abad17-2faf-41ab-8d13-70ba98b1bb34",
   "metadata": {
    "tags": []
   },
   "outputs": [],
   "source": [
    "def unduplicate_dataframes(list_of_dataframes):\n",
    "    duplicates = []\n",
    "    core = []\n",
    "    for frame,next_frame in zip(list_of_dataframes, list_of_dataframes[1:]):\n",
    "        if frame.equals(next_frame):\n",
    "            duplicates.append(frame)\n",
    "        else:\n",
    "            core.append(frame)\n",
    "    core.append(list_of_dataframes[0])\n",
    "    return core\n",
    "        \n",
    "    "
   ]
  },
  {
   "cell_type": "code",
   "execution_count": null,
   "id": "002c4e1d-a5cd-4cf7-8386-983b49f3a2ca",
   "metadata": {
    "tags": []
   },
   "outputs": [],
   "source": [
    "def unduplicate_dfs(list_of_dataframes):\n",
    "    \"\"\"\n",
    "    This function takes a list of dataframes\n",
    "    and should return only dataframes that are not duplicated from each other\n",
    "    but it must be improved (see TODO)\n",
    "    \"\"\"\n",
    "    # TODO: change to a rotating version so it picks off any duplicates\n",
    "    core = []\n",
    "    for frame,next_frame in zip(list_of_dataframes, list_of_dataframes[1:]):\n",
    "        if frame.equals(next_frame) == False:\n",
    "            core.append(frame)\n",
    "    core.append(list_of_dataframes[0])\n",
    "    return core\n",
    "        "
   ]
  },
  {
   "cell_type": "code",
   "execution_count": null,
   "id": "40898e22-3e9f-4447-9a05-cbb9d68a1843",
   "metadata": {
    "tags": []
   },
   "outputs": [],
   "source": [
    "properly_different_dataframes = fh.unduplicate_dfs(tabs_together)"
   ]
  },
  {
   "cell_type": "code",
   "execution_count": null,
   "id": "c08f079c-b7ea-4f64-a10f-bc920a72deb1",
   "metadata": {
    "tags": []
   },
   "outputs": [],
   "source": [
    "#check =  unduplicate_dfs(tabs_together)"
   ]
  },
  {
   "cell_type": "code",
   "execution_count": null,
   "id": "f0c63d5f-84e7-443d-9d86-df1d49443c3a",
   "metadata": {
    "tags": []
   },
   "outputs": [],
   "source": [
    "#check"
   ]
  },
  {
   "cell_type": "code",
   "execution_count": null,
   "id": "fd82165b-076c-4387-be39-60123710a5f0",
   "metadata": {
    "tags": []
   },
   "outputs": [],
   "source": [
    "bad_lines_out = []\n",
    "for frame in properly_different_dataframes:\n",
    "    frame = frame[1:]\n",
    "    bad_lines_out.append(frame)"
   ]
  },
  {
   "cell_type": "code",
   "execution_count": null,
   "id": "bb5232c6-395d-49d5-b55a-66eec7893e68",
   "metadata": {
    "tags": []
   },
   "outputs": [],
   "source": [
    "result = pd.concat(bad_lines_out)"
   ]
  },
  {
   "cell_type": "code",
   "execution_count": null,
   "id": "1c515495-6fd3-44f2-a1e9-48b4559bbad2",
   "metadata": {
    "tags": []
   },
   "outputs": [],
   "source": [
    "result"
   ]
  },
  {
   "cell_type": "code",
   "execution_count": null,
   "id": "75cb2983-2c72-4602-b50c-28c73d42c027",
   "metadata": {
    "tags": []
   },
   "outputs": [],
   "source": [
    "result_no_str= result.drop('LongitudinalTimePoint', axis=1)"
   ]
  },
  {
   "cell_type": "code",
   "execution_count": null,
   "id": "f72b55a9-4d94-45de-9b9f-49344e170f7b",
   "metadata": {
    "tags": []
   },
   "outputs": [],
   "source": [
    "%matplotlib inline\n",
    "sns.heatmap(result_no_str.corr(), annot = True)"
   ]
  },
  {
   "cell_type": "markdown",
   "id": "f6a4bc78-544f-457a-bfa3-e8fd4feb6abc",
   "metadata": {},
   "source": [
    "So we see a good correlation between grey matter and white matter volumes, and therefore unsurprisingle a good correlation on GMWM-ICVratio and GM_ICV ratio. We also see a great negative correation between CSF volume and GMWM-ICV (also also GM)ICV). These things show our datasets seems to be reflecting expected reality.\n",
    "The next step is to correlate with age."
   ]
  }
 ],
 "metadata": {
  "kernelspec": {
   "display_name": "Python 3 (ipykernel)",
   "language": "python",
   "name": "python3"
  },
  "language_info": {
   "codemirror_mode": {
    "name": "ipython",
    "version": 3
   },
   "file_extension": ".py",
   "mimetype": "text/x-python",
   "name": "python",
   "nbconvert_exporter": "python",
   "pygments_lexer": "ipython3",
   "version": "3.9.16"
  }
 },
 "nbformat": 4,
 "nbformat_minor": 5
}
