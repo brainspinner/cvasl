{
 "cells": [
  {
   "cell_type": "code",
   "execution_count": null,
   "metadata": {
    "tags": []
   },
   "outputs": [],
   "source": [
    "import os       # using operating system dependent functionality (folders)\n",
    "import pandas as pd # data analysis and manipulation\n",
    "import numpy as np    # numerical computing (manipulating and performing operations on arrays of data)\n",
    "import seaborn\n",
    "import glob\n",
    "\n",
    "import sys\n",
    "sys.path.insert(0, '../') # path to functions\n",
    "import cvasl.seperated as sep\n",
    "from cvasl.file_handler import Config"
   ]
  },
  {
   "cell_type": "markdown",
   "metadata": {},
   "source": [
    "## Read datasets into pandas dataframes\n",
    "\n",
    "We have these in our open_work"
   ]
  },
  {
   "cell_type": "code",
   "execution_count": null,
   "metadata": {
    "tags": []
   },
   "outputs": [],
   "source": [
    "# Identify files\n",
    "datasets_folder = '../open_work/internal_results'\n",
    "dataset_files = glob.glob(os.path.join(datasets_folder, '*.csv'))\n",
    "print(dataset_files)"
   ]
  },
  {
   "cell_type": "code",
   "execution_count": null,
   "metadata": {
    "tags": []
   },
   "outputs": [],
   "source": [
    "!pwd"
   ]
  },
  {
   "cell_type": "code",
   "execution_count": null,
   "metadata": {
    "tags": []
   },
   "outputs": [],
   "source": [
    "# Read files into dataframes\n",
    "TOP = pd.read_csv('../open_work/internal_results\\\\top_stitched.csv')\n",
    "StrokeMRI = pd.read_csv('../open_work/internal_results\\\\StrokeMRI_stitched.csv')\n",
    "Insight46 = pd.read_csv('../open_work/internal_results\\\\Insight46_stitched.csv')\n",
    "df_list = [TOP, StrokeMRI, Insight46]\n"
   ]
  },
  {
   "cell_type": "code",
   "execution_count": null,
   "metadata": {
    "tags": []
   },
   "outputs": [],
   "source": [
    "TOP = TOP.drop(0, axis=0)\n",
    "StrokeMRI = StrokeMRI.drop(0, axis=0)\n",
    "Insight46 = Insight46.drop(0, axis=0)\n"
   ]
  },
  {
   "cell_type": "code",
   "execution_count": null,
   "metadata": {
    "tags": []
   },
   "outputs": [],
   "source": [
    "Insight46_described = Insight46.describe()\n",
    "Insight46_described"
   ]
  },
  {
   "cell_type": "code",
   "execution_count": null,
   "metadata": {
    "tags": []
   },
   "outputs": [],
   "source": [
    "StrokeMRI_described = StrokeMRI.describe()\n",
    "StrokeMRI_described"
   ]
  },
  {
   "cell_type": "markdown",
   "metadata": {
    "tags": []
   },
   "source": [
    "TOP was produced in a way that made more data non-numeric do extra step:"
   ]
  },
  {
   "cell_type": "code",
   "execution_count": null,
   "metadata": {
    "tags": []
   },
   "outputs": [],
   "source": [
    "TOP =  TOP.apply (pd.to_numeric, errors='coerce')\n",
    "TOP_described =TOP.describe()\n",
    "TOP_described"
   ]
  },
  {
   "cell_type": "code",
   "execution_count": null,
   "metadata": {
    "tags": []
   },
   "outputs": [],
   "source": [
    "TOP"
   ]
  },
  {
   "cell_type": "markdown",
   "metadata": {},
   "source": [
    "So datasets are very incomparable by age. We must compare similar age groups. Let's see if we can break the datasets down by age group?"
   ]
  },
  {
   "cell_type": "code",
   "execution_count": null,
   "metadata": {
    "tags": []
   },
   "outputs": [],
   "source": [
    "top_grouped_sex_count = TOP.groupby(['Sex'])['GM_vol'].count()\n",
    "top_grouped_sex_mean = TOP.groupby(['Sex'])['GM_vol'].mean()\n",
    "#df.groupby([\"state\", \"gender\"])[\"last_name\"].count()\n",
    "top_grouped_sex_mean"
   ]
  },
  {
   "cell_type": "markdown",
   "metadata": {},
   "source": [
    "That's odd, I though men had bigger brains by volume. Let's see if an age split explains this"
   ]
  },
  {
   "cell_type": "code",
   "execution_count": null,
   "metadata": {
    "tags": []
   },
   "outputs": [],
   "source": [
    "top_grouped_sex_mean_age = TOP.groupby(['Sex'])['Age'].mean()\n",
    "#df.groupby([\"state\", \"gender\"])[\"last_name\"].count()\n",
    "top_grouped_sex_mean_age"
   ]
  },
  {
   "cell_type": "markdown",
   "metadata": {
    "tags": []
   },
   "source": [
    "So if women are 1s then they have bigger brains...given that the ages are close. "
   ]
  }
 ],
 "metadata": {
  "kernelspec": {
   "display_name": "Python 3 (ipykernel)",
   "language": "python",
   "name": "python3"
  },
  "language_info": {
   "codemirror_mode": {
    "name": "ipython",
    "version": 3
   },
   "file_extension": ".py",
   "mimetype": "text/x-python",
   "name": "python",
   "nbconvert_exporter": "python",
   "pygments_lexer": "ipython3",
   "version": "3.9.16"
  }
 },
 "nbformat": 4,
 "nbformat_minor": 4
}
