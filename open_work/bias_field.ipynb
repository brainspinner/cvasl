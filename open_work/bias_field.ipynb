{
 "cells": [
  {
   "cell_type": "markdown",
   "id": "0",
   "metadata": {},
   "source": [
    "# Bias field correction"
   ]
  },
  {
   "cell_type": "markdown",
   "id": "1",
   "metadata": {},
   "source": [
    "Attempt 1 : use sitk"
   ]
  },
  {
   "cell_type": "markdown",
   "id": "2",
   "metadata": {},
   "source": [
    "### import libraries"
   ]
  },
  {
   "cell_type": "code",
   "execution_count": null,
   "id": "3",
   "metadata": {
    "tags": []
   },
   "outputs": [],
   "source": [
    "import os       # using operating system dependent functionality (folders)\n",
    "import glob\n",
    "import pandas as pd # data analysis and manipulation\n",
    "import numpy as np    # numerical computing (manipulating and performing operations on arrays of data)\n",
    "import copy     # can copy and deepcopy files so original file is untouched.\n",
    "from ipywidgets import IntSlider, Output\n",
    "import ipywidgets as widgets\n",
    "from IPython.display import display\n",
    "import matplotlib.pyplot as plt\n",
    "import SimpleITK as sitk\n",
    "import skimage\n",
    "import hashlib\n",
    "import sys\n",
    "sys.path.insert(0, '../') # path to functions\n",
    "from cvasl import file_handler as fh # \n",
    "from cvasl import mold #\n",
    "from cvasl import carve\n",
    "from cvasl.file_handler import Config"
   ]
  },
  {
   "cell_type": "code",
   "execution_count": null,
   "id": "4",
   "metadata": {
    "tags": []
   },
   "outputs": [],
   "source": []
  },
  {
   "cell_type": "code",
   "execution_count": null,
   "id": "5",
   "metadata": {},
   "outputs": [],
   "source": [
    "### Let's see how it works on a 2D, then on a nifti "
   ]
  },
  {
   "cell_type": "code",
   "execution_count": null,
   "id": "6",
   "metadata": {
    "tags": []
   },
   "outputs": [],
   "source": [
    "config = Config.from_file()\n",
    "root_mri_directory = config.get_directory('raw_data')\n",
    "mri_pattern = os.path.join(root_mri_directory, '**/*.gz')\n",
    "gz_files = glob.glob(mri_pattern, recursive=True)"
   ]
  },
  {
   "cell_type": "code",
   "execution_count": null,
   "id": "7",
   "metadata": {
    "tags": []
   },
   "outputs": [],
   "source": []
  },
  {
   "cell_type": "code",
   "execution_count": null,
   "id": "8",
   "metadata": {
    "tags": []
   },
   "outputs": [],
   "source": [
    "\n",
    "def show_me_debiased(image_filename):\n",
    "    # reading in on sitk.sitkUInt8 may be wrong, but anyways\n",
    "    inputImage = sitk.ReadImage(image_filename,sitk.sitkUInt8)\n",
    "\n",
    "    maskImage = sitk.OtsuThreshold( inputImage, 0, 1, 200 )\n",
    "\n",
    "    inputImage = sitk.Cast( inputImage, sitk.sitkFloat32 )\n",
    "\n",
    "    corrector = sitk.N4BiasFieldCorrectionImageFilter();\n",
    "\n",
    "    numberFittingLevels = 4\n",
    "\n",
    "    output = corrector.Execute( inputImage, maskImage )\n",
    "\n",
    "    outputCasted = sitk.Cast(output,sitk.sitkVectorUInt8)\n",
    "    \n",
    "    return outputCasted"
   ]
  },
  {
   "cell_type": "code",
   "execution_count": null,
   "id": "9",
   "metadata": {
    "tags": []
   },
   "outputs": [],
   "source": [
    "two_d_input_string = 'test/N4BiasFieldCorrection_input_image.png'\n",
    "two_d_input = sitk.ReadImage('test/N4BiasFieldCorrection_input_image.png')\n",
    "print(two_d_input.GetPixelIDTypeAsString())\n",
    "print(two_d_input.GetOrigin())\n",
    "print(two_d_input.GetSpacing())\n",
    "print(two_d_input.GetDirection())\n",
    "print(two_d_input.GetNumberOfComponentsPerPixel())"
   ]
  },
  {
   "cell_type": "code",
   "execution_count": null,
   "id": "10",
   "metadata": {
    "tags": []
   },
   "outputs": [],
   "source": [
    "outputCasted = show_me_debiased('test/N4BiasFieldCorrection_input_image.png')\n",
    "inputImage = sitk.ReadImage('test/N4BiasFieldCorrection_input_image.png',sitk.sitkUInt8)"
   ]
  },
  {
   "cell_type": "code",
   "execution_count": null,
   "id": "11",
   "metadata": {
    "tags": []
   },
   "outputs": [],
   "source": [
    "npa = sitk.GetArrayViewFromImage(outputCasted)\n",
    "opa = sitk.GetArrayViewFromImage(inputImage)\n",
    "plt.subplot(1, 2, 1) # row 1, col 2 index 1\n",
    "plt.imshow(npa,cmap='Greys',  interpolation='nearest')\n",
    "plt.title(\"Output image\")\n",
    "plt.xlabel('X-axis ')\n",
    "plt.ylabel('Y-axis ')\n",
    "\n",
    "plt.subplot(1, 2, 2) # index 2\n",
    "plt.imshow(opa,cmap='Greys',  interpolation='nearest')\n",
    "plt.title(\"Original image\")\n",
    "plt.xlabel('X-axis ')\n",
    "plt.ylabel('Y-axis ')\n",
    "\n",
    "plt.show()"
   ]
  },
  {
   "cell_type": "code",
   "execution_count": null,
   "id": "12",
   "metadata": {
    "tags": []
   },
   "outputs": [],
   "source": [
    "outputCasted = show_me_debiased(gz_files[0])\n",
    "\n",
    "\n",
    "# Read the .nii image containing the volume with SimpleITK:\n",
    "t1_fn = gz_files[0]\n",
    "sitk_t1 = sitk.ReadImage(t1_fn)\n",
    "\n",
    "# and access the numpy array:\n",
    "t1 = sitk.GetArrayFromImage(sitk_t1)"
   ]
  },
  {
   "cell_type": "code",
   "execution_count": null,
   "id": "13",
   "metadata": {},
   "outputs": [],
   "source": [
    "# the code below currently breaks and needs fixing"
   ]
  },
  {
   "cell_type": "code",
   "execution_count": null,
   "id": "14",
   "metadata": {
    "tags": []
   },
   "outputs": [],
   "source": [
    "mold.SliceViewer(t1)"
   ]
  },
  {
   "cell_type": "code",
   "execution_count": null,
   "id": "15",
   "metadata": {
    "tags": []
   },
   "outputs": [],
   "source": [
    "#sitk.GetArrayFromImage?"
   ]
  },
  {
   "cell_type": "code",
   "execution_count": null,
   "id": "16",
   "metadata": {
    "tags": []
   },
   "outputs": [],
   "source": [
    "output = sitk.GetArrayFromImage(outputCasted)"
   ]
  },
  {
   "cell_type": "code",
   "execution_count": null,
   "id": "17",
   "metadata": {
    "tags": []
   },
   "outputs": [],
   "source": []
  },
  {
   "cell_type": "code",
   "execution_count": null,
   "id": "18",
   "metadata": {
    "tags": []
   },
   "outputs": [],
   "source": [
    "mold.SliceViewer(output)"
   ]
  },
  {
   "cell_type": "markdown",
   "id": "19",
   "metadata": {},
   "source": [
    "So above the data type was wrong, let's recast on a richer data type? Or maybe some other parameter like our mask needs a reset."
   ]
  },
  {
   "cell_type": "code",
   "execution_count": null,
   "id": "20",
   "metadata": {
    "tags": []
   },
   "outputs": [],
   "source": [
    "# sitk_t1 \n",
    "\n",
    "print(sitk_t1.GetPixelIDTypeAsString())\n",
    "print(sitk_t1.GetOrigin())\n",
    "print(sitk_t1.GetSpacing())\n",
    "print(sitk_t1.GetDirection())\n",
    "print(sitk_t1.GetNumberOfComponentsPerPixel())"
   ]
  },
  {
   "cell_type": "code",
   "execution_count": null,
   "id": "21",
   "metadata": {
    "tags": []
   },
   "outputs": [],
   "source": [
    "\n",
    "def richer_debiased(image_filename, fitting_levels, bits_in_input):\n",
    "    # \n",
    "    print(type(bits_in_input))\n",
    "    inputImage = sitk.ReadImage(image_filename,bits_in_input )\n",
    "\n",
    "    maskImage = sitk.OtsuThreshold( inputImage, 0, 1, 200 )\n",
    "\n",
    "    inputImage = sitk.Cast( inputImage, bits_in_input )\n",
    "\n",
    "    corrector = sitk.N4BiasFieldCorrectionImageFilter();\n",
    "\n",
    "    numberFittingLevels = fitting_levels\n",
    "\n",
    "    output = corrector.Execute( inputImage, maskImage )\n",
    "\n",
    "    outputCasted = sitk.Cast(output,bits_in_input)\n",
    "    \n",
    "    return outputCasted"
   ]
  },
  {
   "cell_type": "code",
   "execution_count": null,
   "id": "22",
   "metadata": {
    "tags": []
   },
   "outputs": [],
   "source": [
    "output_recasted = richer_debiased(gz_files[0], 40, sitk.sitkFloat32 )\n"
   ]
  },
  {
   "cell_type": "code",
   "execution_count": null,
   "id": "23",
   "metadata": {
    "tags": []
   },
   "outputs": [],
   "source": [
    "output2 = sitk.GetArrayFromImage(output_recasted)"
   ]
  },
  {
   "cell_type": "code",
   "execution_count": null,
   "id": "24",
   "metadata": {
    "tags": []
   },
   "outputs": [],
   "source": [
    "mold.SliceViewer(output2)"
   ]
  },
  {
   "cell_type": "markdown",
   "id": "25",
   "metadata": {},
   "source": [
    "Still needs revision to comprehend best masks"
   ]
  },
  {
   "cell_type": "code",
   "execution_count": null,
   "id": "26",
   "metadata": {},
   "outputs": [],
   "source": [
    "\n",
    "def n4_debias_sitk(image_filename, iteration_vector = [20, 10, 10, 5], masking=True):\n",
    "    \n",
    "    # \n",
    "    \n",
    "    inputImage = sitk.ReadImage(image_filename)\n",
    "    bits_in_input = inputImage.GetPixelIDTypeAsString()\n",
    "    bit_dictionary = {\"Signed 8 bit integer\": sitk.sitkInt8,\n",
    "                      \"Signed 16 bit integer\": sitk.sitkInt16,\n",
    "                      \"Signed 32 bit integer\": sitk.sitkInt32,\n",
    "                      \"Signed 64 bit integer\": sitk.sitkInt64,\n",
    "                      \"Unsigned 8 bit integer\": sitk.sitkUInt8,\n",
    "                      \"Unsigned 16 bit integer\":sitk.sitkUInt16,\n",
    "                      \"Unsigned 32 bit integer\":sitk.sitkUInt32,\n",
    "                      \"Unsigned 64 bit integer\":sitk.sitkUInt64,\n",
    "                      \"32-bit float\": sitk.sitkFloat32,\n",
    "                      \"64-bit float\": sitk.sitkFloat64,}\n",
    "    bits_ing = bit_dictionary[bits_in_input] \n",
    "    #print(bits_ing)\n",
    "\n",
    "    maskImage = sitk.OtsuThreshold( inputImage, 0, 1, 200 )\n",
    "\n",
    "    inputImage = sitk.Cast( inputImage, bits_ing )\n",
    "\n",
    "    corrector = sitk.N4BiasFieldCorrectionImageFilter();\n",
    "\n",
    "\n",
    "    \n",
    "    corrector.SetMaximumNumberOfIterations(iteration_vector)\n",
    "    \n",
    "    if masking:\n",
    "\n",
    "        output = corrector.Execute( inputImage, maskImage )\n",
    "    else:\n",
    "        output = corrector.Execute( inputImage )\n",
    "\n",
    "    outputCasted = sitk.Cast(output,bits_ing)\n",
    "    \n",
    "    return outputCasted"
   ]
  },
  {
   "cell_type": "code",
   "execution_count": null,
   "id": "27",
   "metadata": {
    "tags": []
   },
   "outputs": [],
   "source": []
  },
  {
   "cell_type": "code",
   "execution_count": null,
   "id": "28",
   "metadata": {
    "tags": []
   },
   "outputs": [],
   "source": [
    "output_recasted2 = n4_debias_sitk(gz_files[0], [20, 10, 10, 5], masking=False )\n"
   ]
  },
  {
   "cell_type": "code",
   "execution_count": null,
   "id": "29",
   "metadata": {},
   "outputs": [],
   "source": [
    "output3 = sitk.GetArrayFromImage(output_recasted2)"
   ]
  },
  {
   "cell_type": "code",
   "execution_count": null,
   "id": "30",
   "metadata": {
    "tags": []
   },
   "outputs": [],
   "source": [
    "mold.SliceViewer(output3)"
   ]
  },
  {
   "cell_type": "markdown",
   "id": "31",
   "metadata": {},
   "source": [
    "OK, now we need to do something with the number of fitting levels...\n",
    "OK, now we need to fix the mask question, and what exactly the mask should be"
   ]
  },
  {
   "cell_type": "code",
   "execution_count": null,
   "id": "32",
   "metadata": {
    "tags": []
   },
   "outputs": [],
   "source": [
    "?corrector"
   ]
  },
  {
   "cell_type": "code",
   "execution_count": null,
   "id": "33",
   "metadata": {},
   "outputs": [],
   "source": []
  }
 ],
 "metadata": {
  "kernelspec": {
   "display_name": "Python 3 (ipykernel)",
   "language": "python",
   "name": "python3"
  },
  "language_info": {
   "codemirror_mode": {
    "name": "ipython",
    "version": 3
   },
   "file_extension": ".py",
   "mimetype": "text/x-python",
   "name": "python",
   "nbconvert_exporter": "python",
   "pygments_lexer": "ipython3",
   "version": "3.9.16"
  }
 },
 "nbformat": 4,
 "nbformat_minor": 5
}
