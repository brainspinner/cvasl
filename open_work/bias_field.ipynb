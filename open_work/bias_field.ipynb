{
 "cells": [
  {
   "cell_type": "markdown",
   "id": "1040ffbf-b366-41d3-ad7c-5946b8134c31",
   "metadata": {},
   "source": [
    "# Bias field correction"
   ]
  },
  {
   "cell_type": "markdown",
   "id": "3f3d7746-5615-47a4-8b66-c589f4f205a8",
   "metadata": {},
   "source": [
    "Attempt 1 : use sitk"
   ]
  },
  {
   "cell_type": "markdown",
   "id": "3fa2912d-b2cf-4ef6-853e-a531e0ace653",
   "metadata": {},
   "source": [
    "### import libraries"
   ]
  },
  {
   "cell_type": "code",
   "execution_count": null,
   "id": "41f70b82-864c-4eef-864a-02698eb467a7",
   "metadata": {
    "tags": []
   },
   "outputs": [],
   "source": [
    "import os       # using operating system dependent functionality (folders)\n",
    "import glob\n",
    "import pandas as pd # data analysis and manipulation\n",
    "import numpy as np    # numerical computing (manipulating and performing operations on arrays of data)\n",
    "import copy     # can copy and deepcopy files so original file is untouched.\n",
    "from ipywidgets import IntSlider, Output\n",
    "import ipywidgets as widgets\n",
    "from IPython.display import display\n",
    "import matplotlib.pyplot as plt\n",
    "import SimpleITK as sitk\n",
    "import skimage\n",
    "import hashlib\n",
    "import sys\n",
    "sys.path.insert(0, '../') # path to functions\n",
    "from cvasl import file_handler as fh # \n",
    "from cvasl import mold #\n",
    "from cvasl import carve\n",
    "from cvasl.file_handler import Config"
   ]
  },
  {
   "cell_type": "code",
   "execution_count": null,
   "id": "c4bf09ce-83ef-4555-8791-7ebe1f79573a",
   "metadata": {
    "tags": []
   },
   "outputs": [],
   "source": []
  },
  {
   "cell_type": "code",
   "execution_count": null,
   "id": "50de790c-ff1e-4c8e-89c9-da130a40cd22",
   "metadata": {},
   "outputs": [],
   "source": [
    "### Let's see how it works on a 2D, then on a nifti "
   ]
  },
  {
   "cell_type": "code",
   "execution_count": null,
   "id": "d9077e08-4775-41f0-a09a-24fe8edb0da6",
   "metadata": {
    "tags": []
   },
   "outputs": [],
   "source": [
    "config = Config.from_file()\n",
    "root_mri_directory = config.get_directory('raw_data')\n",
    "mri_pattern = os.path.join(root_mri_directory, '**/*.gz')\n",
    "gz_files = glob.glob(mri_pattern, recursive=True)"
   ]
  },
  {
   "cell_type": "code",
   "execution_count": null,
   "id": "3f4e4cef-3e52-44af-b848-303673f4c73e",
   "metadata": {
    "tags": []
   },
   "outputs": [],
   "source": []
  },
  {
   "cell_type": "code",
   "execution_count": null,
   "id": "128f1a52-cec8-427f-9671-ed757b115239",
   "metadata": {
    "tags": []
   },
   "outputs": [],
   "source": [
    "\n",
    "def show_me_debiased(image_filename):\n",
    "    # reading in on sitk.sitkUInt8 may be wrong, but anyways\n",
    "    inputImage = sitk.ReadImage(image_filename,sitk.sitkUInt8)\n",
    "\n",
    "    maskImage = sitk.OtsuThreshold( inputImage, 0, 1, 200 )\n",
    "\n",
    "    inputImage = sitk.Cast( inputImage, sitk.sitkFloat32 )\n",
    "\n",
    "    corrector = sitk.N4BiasFieldCorrectionImageFilter();\n",
    "\n",
    "    numberFittingLevels = 4\n",
    "\n",
    "    output = corrector.Execute( inputImage, maskImage )\n",
    "\n",
    "    outputCasted = sitk.Cast(output,sitk.sitkVectorUInt8)\n",
    "    \n",
    "    return outputCasted"
   ]
  },
  {
   "cell_type": "code",
   "execution_count": null,
   "id": "4d163bc9-a809-4a3a-9677-5e6d1c17e898",
   "metadata": {
    "tags": []
   },
   "outputs": [],
   "source": [
    "two_d_input_string = 'test/N4BiasFieldCorrection_input_image.png'\n",
    "two_d_input = sitk.ReadImage('test/N4BiasFieldCorrection_input_image.png')\n",
    "print(two_d_input.GetPixelIDTypeAsString())\n",
    "print(two_d_input.GetOrigin())\n",
    "print(two_d_input.GetSpacing())\n",
    "print(two_d_input.GetDirection())\n",
    "print(two_d_input.GetNumberOfComponentsPerPixel())"
   ]
  },
  {
   "cell_type": "code",
   "execution_count": null,
   "id": "5c5e0499-3af9-486c-9a09-72b2efe6b42d",
   "metadata": {
    "tags": []
   },
   "outputs": [],
   "source": [
    "outputCasted = show_me_debiased('test/N4BiasFieldCorrection_input_image.png')\n",
    "inputImage = sitk.ReadImage('test/N4BiasFieldCorrection_input_image.png',sitk.sitkUInt8)"
   ]
  },
  {
   "cell_type": "code",
   "execution_count": null,
   "id": "b13dd9fc-ea7d-4365-a657-9aebbc8f3667",
   "metadata": {
    "tags": []
   },
   "outputs": [],
   "source": [
    "npa = sitk.GetArrayViewFromImage(outputCasted)\n",
    "opa = sitk.GetArrayViewFromImage(inputImage)\n",
    "plt.subplot(1, 2, 1) # row 1, col 2 index 1\n",
    "plt.imshow(npa,cmap='Greys',  interpolation='nearest')\n",
    "plt.title(\"Output image\")\n",
    "plt.xlabel('X-axis ')\n",
    "plt.ylabel('Y-axis ')\n",
    "\n",
    "plt.subplot(1, 2, 2) # index 2\n",
    "plt.imshow(opa,cmap='Greys',  interpolation='nearest')\n",
    "plt.title(\"Original image\")\n",
    "plt.xlabel('X-axis ')\n",
    "plt.ylabel('Y-axis ')\n",
    "\n",
    "plt.show()"
   ]
  },
  {
   "cell_type": "code",
   "execution_count": null,
   "id": "cc47444c-ed6d-4464-94de-5f43bdb6919d",
   "metadata": {
    "tags": []
   },
   "outputs": [],
   "source": [
    "outputCasted = show_me_debiased(gz_files[0])\n",
    "\n",
    "\n",
    "# Read the .nii image containing the volume with SimpleITK:\n",
    "t1_fn = gz_files[0]\n",
    "sitk_t1 = sitk.ReadImage(t1_fn)\n",
    "\n",
    "# and access the numpy array:\n",
    "t1 = sitk.GetArrayFromImage(sitk_t1)"
   ]
  },
  {
   "cell_type": "code",
   "execution_count": null,
   "id": "8265f1e1-29ec-4191-92b2-dadec41b2c81",
   "metadata": {},
   "outputs": [],
   "source": [
    "# the code below currently breaks and needs fixing"
   ]
  },
  {
   "cell_type": "code",
   "execution_count": null,
   "id": "72331651-02f5-4151-a9f6-43524b4d1941",
   "metadata": {
    "tags": []
   },
   "outputs": [],
   "source": [
    "mold.SliceViewer(t1)"
   ]
  },
  {
   "cell_type": "code",
   "execution_count": null,
   "id": "b57d7785-96b1-4f08-9d9b-d9cc5932cdba",
   "metadata": {
    "tags": []
   },
   "outputs": [],
   "source": [
    "#sitk.GetArrayFromImage?"
   ]
  },
  {
   "cell_type": "code",
   "execution_count": null,
   "id": "0385fcb7-e338-4781-a1d3-caefd1fdd1a6",
   "metadata": {
    "tags": []
   },
   "outputs": [],
   "source": [
    "output = sitk.GetArrayFromImage(outputCasted)"
   ]
  },
  {
   "cell_type": "code",
   "execution_count": null,
   "id": "13bc7dd2-04fc-4e7f-828c-d071078e53d9",
   "metadata": {
    "tags": []
   },
   "outputs": [],
   "source": []
  },
  {
   "cell_type": "code",
   "execution_count": null,
   "id": "4745e4e2-509a-44ed-9151-1b6adf61e71b",
   "metadata": {
    "tags": []
   },
   "outputs": [],
   "source": [
    "mold.SliceViewer(output)"
   ]
  },
  {
   "cell_type": "markdown",
   "id": "0f4349b8-5f22-4e72-83bb-0356b9fda767",
   "metadata": {},
   "source": [
    "So above the data type was wrong, let's recast on a richer data type? Or maybe some other parameter like our mask needs a reset."
   ]
  },
  {
   "cell_type": "code",
   "execution_count": null,
   "id": "e774b95b-7004-48b7-ab2c-ea555113c576",
   "metadata": {
    "tags": []
   },
   "outputs": [],
   "source": [
    "# sitk_t1 \n",
    "\n",
    "print(sitk_t1.GetPixelIDTypeAsString())\n",
    "print(sitk_t1.GetOrigin())\n",
    "print(sitk_t1.GetSpacing())\n",
    "print(sitk_t1.GetDirection())\n",
    "print(sitk_t1.GetNumberOfComponentsPerPixel())"
   ]
  },
  {
   "cell_type": "code",
   "execution_count": null,
   "id": "b2a0def5-617e-425f-aedb-c8dd9e439e64",
   "metadata": {
    "tags": []
   },
   "outputs": [],
   "source": [
    "\n",
    "def richer_debiased(image_filename, fitting_levels, bits_in_input):\n",
    "    # \n",
    "    print(type(bits_in_input))\n",
    "    inputImage = sitk.ReadImage(image_filename,bits_in_input )\n",
    "\n",
    "    maskImage = sitk.OtsuThreshold( inputImage, 0, 1, 200 )\n",
    "\n",
    "    inputImage = sitk.Cast( inputImage, bits_in_input )\n",
    "\n",
    "    corrector = sitk.N4BiasFieldCorrectionImageFilter();\n",
    "\n",
    "    numberFittingLevels = fitting_levels\n",
    "\n",
    "    output = corrector.Execute( inputImage, maskImage )\n",
    "\n",
    "    outputCasted = sitk.Cast(output,bits_in_input)\n",
    "    \n",
    "    return outputCasted"
   ]
  },
  {
   "cell_type": "code",
   "execution_count": null,
   "id": "92d07034-1dd6-4a60-a1fa-646e6e3f59d2",
   "metadata": {
    "tags": []
   },
   "outputs": [],
   "source": [
    "output_recasted = richer_debiased(gz_files[0], 40, sitk.sitkFloat32 )\n"
   ]
  },
  {
   "cell_type": "code",
   "execution_count": null,
   "id": "bb021634-a97f-44d8-9aa8-34fd66113eb3",
   "metadata": {
    "tags": []
   },
   "outputs": [],
   "source": [
    "output2 = sitk.GetArrayFromImage(output_recasted)"
   ]
  },
  {
   "cell_type": "code",
   "execution_count": null,
   "id": "dbc55b8e-865e-4026-bf6c-c0f97b9dcd1b",
   "metadata": {
    "tags": []
   },
   "outputs": [],
   "source": [
    "mold.SliceViewer(output2)"
   ]
  },
  {
   "cell_type": "markdown",
   "id": "727f2b4f-4a40-4d6e-91bf-5f1bb78467e1",
   "metadata": {},
   "source": [
    "Still needs revision to comprehend best masks"
   ]
  },
  {
   "cell_type": "code",
   "execution_count": null,
   "id": "d0976d4d-ecd8-4599-a826-836d93cfb661",
   "metadata": {},
   "outputs": [],
   "source": [
    "\n",
    "def n4_debias_sitk(image_filename, iteration_vector = [20, 10, 10, 5], masking=True):\n",
    "    \n",
    "    # \n",
    "    \n",
    "    inputImage = sitk.ReadImage(image_filename)\n",
    "    bits_in_input = inputImage.GetPixelIDTypeAsString()\n",
    "    bit_dictionary = {\"Signed 8 bit integer\": sitk.sitkInt8,\n",
    "                      \"Signed 16 bit integer\": sitk.sitkInt16,\n",
    "                      \"Signed 32 bit integer\": sitk.sitkInt32,\n",
    "                      \"Signed 64 bit integer\": sitk.sitkInt64,\n",
    "                      \"Unsigned 8 bit integer\": sitk.sitkUInt8,\n",
    "                      \"Unsigned 16 bit integer\":sitk.sitkUInt16,\n",
    "                      \"Unsigned 32 bit integer\":sitk.sitkUInt32,\n",
    "                      \"Unsigned 64 bit integer\":sitk.sitkUInt64,\n",
    "                      \"32-bit float\": sitk.sitkFloat32,\n",
    "                      \"64-bit float\": sitk.sitkFloat64,}\n",
    "    bits_ing = bit_dictionary[bits_in_input] \n",
    "    #print(bits_ing)\n",
    "\n",
    "    maskImage = sitk.OtsuThreshold( inputImage, 0, 1, 200 )\n",
    "\n",
    "    inputImage = sitk.Cast( inputImage, bits_ing )\n",
    "\n",
    "    corrector = sitk.N4BiasFieldCorrectionImageFilter();\n",
    "\n",
    "\n",
    "    \n",
    "    corrector.SetMaximumNumberOfIterations(iteration_vector)\n",
    "    \n",
    "    if masking:\n",
    "\n",
    "        output = corrector.Execute( inputImage, maskImage )\n",
    "    else:\n",
    "        output = corrector.Execute( inputImage )\n",
    "\n",
    "    outputCasted = sitk.Cast(output,bits_ing)\n",
    "    \n",
    "    return outputCasted"
   ]
  },
  {
   "cell_type": "code",
   "execution_count": null,
   "id": "f72c0ab5-13f9-4965-9856-6338eb0277d6",
   "metadata": {
    "tags": []
   },
   "outputs": [],
   "source": []
  },
  {
   "cell_type": "code",
   "execution_count": null,
   "id": "23e5538a-0857-4035-aefa-22b65bc5fd1d",
   "metadata": {
    "tags": []
   },
   "outputs": [],
   "source": [
    "output_recasted2 = n4_debias_sitk(gz_files[0], [20, 10, 10, 5], masking=False )\n"
   ]
  },
  {
   "cell_type": "code",
   "execution_count": null,
   "id": "18b46ff9-0569-4891-9c88-f78301309ba2",
   "metadata": {},
   "outputs": [],
   "source": [
    "output3 = sitk.GetArrayFromImage(output_recasted2)"
   ]
  },
  {
   "cell_type": "code",
   "execution_count": null,
   "id": "b0870eaa-ad5e-4387-91fe-c13ea8e6881b",
   "metadata": {
    "tags": []
   },
   "outputs": [],
   "source": [
    "mold.SliceViewer(output3)"
   ]
  },
  {
   "cell_type": "markdown",
   "id": "1aecbf2d-eae2-475e-958a-c0acdb191479",
   "metadata": {},
   "source": [
    "OK, now we need to do something with the number of fitting levels...\n",
    "OK, now we need to fix the mask question, and what exactly the mask should be"
   ]
  },
  {
   "cell_type": "code",
   "execution_count": null,
   "id": "da67bd36-bee8-4548-b7ef-d088b49a235b",
   "metadata": {
    "tags": []
   },
   "outputs": [],
   "source": [
    "?corrector"
   ]
  },
  {
   "cell_type": "code",
   "execution_count": null,
   "id": "ff5c22d4-d0a5-4b25-ae2a-c5a29cf90736",
   "metadata": {},
   "outputs": [],
   "source": []
  }
 ],
 "metadata": {
  "kernelspec": {
   "display_name": "Python 3 (ipykernel)",
   "language": "python",
   "name": "python3"
  },
  "language_info": {
   "codemirror_mode": {
    "name": "ipython",
    "version": 3
   },
   "file_extension": ".py",
   "mimetype": "text/x-python",
   "name": "python",
   "nbconvert_exporter": "python",
   "pygments_lexer": "ipython3",
   "version": "3.9.16"
  }
 },
 "nbformat": 4,
 "nbformat_minor": 5
}
