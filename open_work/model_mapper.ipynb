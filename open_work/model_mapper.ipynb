{
 "cells": [
  {
   "cell_type": "markdown",
   "id": "dba6321c",
   "metadata": {},
   "source": [
    "# Sample ML notebook"
   ]
  },
  {
   "cell_type": "markdown",
   "id": "2babacbb",
   "metadata": {},
   "source": [
    "Notes: this notebook is essentially a notebook to give scientists a flavor of what is possible in terms \n",
    "    of interacting with tabular data for ML. Results are not final."
   ]
  },
  {
   "cell_type": "markdown",
   "id": "1b39dc70",
   "metadata": {},
   "source": [
    "## import libraries needed"
   ]
  },
  {
   "cell_type": "code",
   "execution_count": 1,
   "id": "e8473d09",
   "metadata": {
    "tags": []
   },
   "outputs": [
    {
     "ename": "KeyboardInterrupt",
     "evalue": "",
     "output_type": "error",
     "traceback": [
      "\u001b[1;31m---------------------------------------------------------------------------\u001b[0m",
      "\u001b[1;31mKeyboardInterrupt\u001b[0m                         Traceback (most recent call last)",
      "Cell \u001b[1;32mIn[1], line 14\u001b[0m\n\u001b[0;32m     12\u001b[0m \u001b[38;5;66;03m# math and signals\u001b[39;00m\n\u001b[0;32m     13\u001b[0m \u001b[38;5;28;01mimport\u001b[39;00m \u001b[38;5;21;01mmath\u001b[39;00m\n\u001b[1;32m---> 14\u001b[0m \u001b[38;5;28;01mfrom\u001b[39;00m \u001b[38;5;21;01mscipy\u001b[39;00m\u001b[38;5;21;01m.\u001b[39;00m\u001b[38;5;21;01mstats\u001b[39;00m \u001b[38;5;28;01mimport\u001b[39;00m entropy\n\u001b[0;32m     15\u001b[0m \u001b[38;5;28;01mfrom\u001b[39;00m \u001b[38;5;21;01mscipy\u001b[39;00m\u001b[38;5;21;01m.\u001b[39;00m\u001b[38;5;21;01msignal\u001b[39;00m \u001b[38;5;28;01mimport\u001b[39;00m savgol_filter\n\u001b[0;32m     16\u001b[0m \u001b[38;5;28;01mfrom\u001b[39;00m \u001b[38;5;21;01mscipy\u001b[39;00m\u001b[38;5;21;01m.\u001b[39;00m\u001b[38;5;21;01msignal\u001b[39;00m \u001b[38;5;28;01mimport\u001b[39;00m find_peaks\n",
      "File \u001b[1;32m~\\anaconda3\\envs\\mrilearn\\lib\\site-packages\\scipy\\stats\\__init__.py:441\u001b[0m\n\u001b[0;32m      1\u001b[0m \u001b[38;5;124;03m\"\"\"\u001b[39;00m\n\u001b[0;32m      2\u001b[0m \u001b[38;5;124;03m.. _statsrefmanual:\u001b[39;00m\n\u001b[0;32m      3\u001b[0m \n\u001b[1;32m   (...)\u001b[0m\n\u001b[0;32m    438\u001b[0m \n\u001b[0;32m    439\u001b[0m \u001b[38;5;124;03m\"\"\"\u001b[39;00m\n\u001b[1;32m--> 441\u001b[0m \u001b[38;5;28;01mfrom\u001b[39;00m \u001b[38;5;21;01m.\u001b[39;00m\u001b[38;5;21;01mstats\u001b[39;00m \u001b[38;5;28;01mimport\u001b[39;00m \u001b[38;5;241m*\u001b[39m\n\u001b[0;32m    442\u001b[0m \u001b[38;5;28;01mfrom\u001b[39;00m \u001b[38;5;21;01m.\u001b[39;00m\u001b[38;5;21;01mdistributions\u001b[39;00m \u001b[38;5;28;01mimport\u001b[39;00m \u001b[38;5;241m*\u001b[39m\n\u001b[0;32m    443\u001b[0m \u001b[38;5;28;01mfrom\u001b[39;00m \u001b[38;5;21;01m.\u001b[39;00m\u001b[38;5;21;01mmorestats\u001b[39;00m \u001b[38;5;28;01mimport\u001b[39;00m \u001b[38;5;241m*\u001b[39m\n",
      "File \u001b[1;32m~\\anaconda3\\envs\\mrilearn\\lib\\site-packages\\scipy\\stats\\stats.py:37\u001b[0m\n\u001b[0;32m     34\u001b[0m \u001b[38;5;28;01mimport\u001b[39;00m \u001b[38;5;21;01mnumpy\u001b[39;00m \u001b[38;5;28;01mas\u001b[39;00m \u001b[38;5;21;01mnp\u001b[39;00m\n\u001b[0;32m     35\u001b[0m \u001b[38;5;28;01mfrom\u001b[39;00m \u001b[38;5;21;01mnumpy\u001b[39;00m \u001b[38;5;28;01mimport\u001b[39;00m array, asarray, ma\n\u001b[1;32m---> 37\u001b[0m \u001b[38;5;28;01mfrom\u001b[39;00m \u001b[38;5;21;01mscipy\u001b[39;00m\u001b[38;5;21;01m.\u001b[39;00m\u001b[38;5;21;01mspatial\u001b[39;00m\u001b[38;5;21;01m.\u001b[39;00m\u001b[38;5;21;01mdistance\u001b[39;00m \u001b[38;5;28;01mimport\u001b[39;00m cdist\n\u001b[0;32m     38\u001b[0m \u001b[38;5;28;01mfrom\u001b[39;00m \u001b[38;5;21;01mscipy\u001b[39;00m\u001b[38;5;21;01m.\u001b[39;00m\u001b[38;5;21;01mndimage\u001b[39;00m \u001b[38;5;28;01mimport\u001b[39;00m measurements\n\u001b[0;32m     39\u001b[0m \u001b[38;5;28;01mfrom\u001b[39;00m \u001b[38;5;21;01mscipy\u001b[39;00m\u001b[38;5;21;01m.\u001b[39;00m\u001b[38;5;21;01m_lib\u001b[39;00m\u001b[38;5;21;01m.\u001b[39;00m\u001b[38;5;21;01m_util\u001b[39;00m \u001b[38;5;28;01mimport\u001b[39;00m (check_random_state, MapWrapper,\n\u001b[0;32m     40\u001b[0m                               rng_integers, float_factorial)\n",
      "File \u001b[1;32m~\\anaconda3\\envs\\mrilearn\\lib\\site-packages\\scipy\\spatial\\__init__.py:101\u001b[0m\n\u001b[0;32m     99\u001b[0m \u001b[38;5;28;01mfrom\u001b[39;00m \u001b[38;5;21;01m.\u001b[39;00m\u001b[38;5;21;01m_spherical_voronoi\u001b[39;00m \u001b[38;5;28;01mimport\u001b[39;00m SphericalVoronoi\n\u001b[0;32m    100\u001b[0m \u001b[38;5;28;01mfrom\u001b[39;00m \u001b[38;5;21;01m.\u001b[39;00m\u001b[38;5;21;01m_plotutils\u001b[39;00m \u001b[38;5;28;01mimport\u001b[39;00m \u001b[38;5;241m*\u001b[39m\n\u001b[1;32m--> 101\u001b[0m \u001b[38;5;28;01mfrom\u001b[39;00m \u001b[38;5;21;01m.\u001b[39;00m\u001b[38;5;21;01m_procrustes\u001b[39;00m \u001b[38;5;28;01mimport\u001b[39;00m procrustes\n\u001b[0;32m    102\u001b[0m \u001b[38;5;28;01mfrom\u001b[39;00m \u001b[38;5;21;01m.\u001b[39;00m\u001b[38;5;21;01m_geometric_slerp\u001b[39;00m \u001b[38;5;28;01mimport\u001b[39;00m geometric_slerp\n\u001b[0;32m    104\u001b[0m __all__ \u001b[38;5;241m=\u001b[39m [s \u001b[38;5;28;01mfor\u001b[39;00m s \u001b[38;5;129;01min\u001b[39;00m \u001b[38;5;28mdir\u001b[39m() \u001b[38;5;28;01mif\u001b[39;00m \u001b[38;5;129;01mnot\u001b[39;00m s\u001b[38;5;241m.\u001b[39mstartswith(\u001b[38;5;124m'\u001b[39m\u001b[38;5;124m_\u001b[39m\u001b[38;5;124m'\u001b[39m)]\n",
      "File \u001b[1;32m~\\anaconda3\\envs\\mrilearn\\lib\\site-packages\\scipy\\spatial\\_procrustes.py:9\u001b[0m\n\u001b[0;32m      1\u001b[0m \u001b[38;5;124;03m\"\"\"\u001b[39;00m\n\u001b[0;32m      2\u001b[0m \u001b[38;5;124;03mThis module provides functions to perform full Procrustes analysis.\u001b[39;00m\n\u001b[0;32m      3\u001b[0m \n\u001b[0;32m      4\u001b[0m \u001b[38;5;124;03mThis code was originally written by Justin Kucynski and ported over from\u001b[39;00m\n\u001b[0;32m      5\u001b[0m \u001b[38;5;124;03mscikit-bio by Yoshiki Vazquez-Baeza.\u001b[39;00m\n\u001b[0;32m      6\u001b[0m \u001b[38;5;124;03m\"\"\"\u001b[39;00m\n\u001b[0;32m      8\u001b[0m \u001b[38;5;28;01mimport\u001b[39;00m \u001b[38;5;21;01mnumpy\u001b[39;00m \u001b[38;5;28;01mas\u001b[39;00m \u001b[38;5;21;01mnp\u001b[39;00m\n\u001b[1;32m----> 9\u001b[0m \u001b[38;5;28;01mfrom\u001b[39;00m \u001b[38;5;21;01mscipy\u001b[39;00m\u001b[38;5;21;01m.\u001b[39;00m\u001b[38;5;21;01mlinalg\u001b[39;00m \u001b[38;5;28;01mimport\u001b[39;00m orthogonal_procrustes\n\u001b[0;32m     12\u001b[0m __all__ \u001b[38;5;241m=\u001b[39m [\u001b[38;5;124m'\u001b[39m\u001b[38;5;124mprocrustes\u001b[39m\u001b[38;5;124m'\u001b[39m]\n\u001b[0;32m     15\u001b[0m \u001b[38;5;28;01mdef\u001b[39;00m \u001b[38;5;21mprocrustes\u001b[39m(data1, data2):\n",
      "File \u001b[1;32m~\\anaconda3\\envs\\mrilearn\\lib\\site-packages\\scipy\\linalg\\__init__.py:206\u001b[0m\n\u001b[0;32m    204\u001b[0m \u001b[38;5;28;01mfrom\u001b[39;00m \u001b[38;5;21;01m.\u001b[39;00m\u001b[38;5;21;01mdecomp_schur\u001b[39;00m \u001b[38;5;28;01mimport\u001b[39;00m \u001b[38;5;241m*\u001b[39m\n\u001b[0;32m    205\u001b[0m \u001b[38;5;28;01mfrom\u001b[39;00m \u001b[38;5;21;01m.\u001b[39;00m\u001b[38;5;21;01m_decomp_polar\u001b[39;00m \u001b[38;5;28;01mimport\u001b[39;00m \u001b[38;5;241m*\u001b[39m\n\u001b[1;32m--> 206\u001b[0m \u001b[38;5;28;01mfrom\u001b[39;00m \u001b[38;5;21;01m.\u001b[39;00m\u001b[38;5;21;01mmatfuncs\u001b[39;00m \u001b[38;5;28;01mimport\u001b[39;00m \u001b[38;5;241m*\u001b[39m\n\u001b[0;32m    207\u001b[0m \u001b[38;5;28;01mfrom\u001b[39;00m \u001b[38;5;21;01m.\u001b[39;00m\u001b[38;5;21;01mblas\u001b[39;00m \u001b[38;5;28;01mimport\u001b[39;00m \u001b[38;5;241m*\u001b[39m\n\u001b[0;32m    208\u001b[0m \u001b[38;5;28;01mfrom\u001b[39;00m \u001b[38;5;21;01m.\u001b[39;00m\u001b[38;5;21;01mlapack\u001b[39;00m \u001b[38;5;28;01mimport\u001b[39;00m \u001b[38;5;241m*\u001b[39m\n",
      "File \u001b[1;32m~\\anaconda3\\envs\\mrilearn\\lib\\site-packages\\scipy\\linalg\\matfuncs.py:21\u001b[0m\n\u001b[0;32m     19\u001b[0m \u001b[38;5;28;01mfrom\u001b[39;00m \u001b[38;5;21;01m.\u001b[39;00m\u001b[38;5;21;01mdecomp_schur\u001b[39;00m \u001b[38;5;28;01mimport\u001b[39;00m schur, rsf2csf\n\u001b[0;32m     20\u001b[0m \u001b[38;5;28;01mfrom\u001b[39;00m \u001b[38;5;21;01m.\u001b[39;00m\u001b[38;5;21;01m_expm_frechet\u001b[39;00m \u001b[38;5;28;01mimport\u001b[39;00m expm_frechet, expm_cond\n\u001b[1;32m---> 21\u001b[0m \u001b[38;5;28;01mfrom\u001b[39;00m \u001b[38;5;21;01m.\u001b[39;00m\u001b[38;5;21;01m_matfuncs_sqrtm\u001b[39;00m \u001b[38;5;28;01mimport\u001b[39;00m sqrtm\n\u001b[0;32m     23\u001b[0m eps \u001b[38;5;241m=\u001b[39m np\u001b[38;5;241m.\u001b[39mfinfo(\u001b[38;5;28mfloat\u001b[39m)\u001b[38;5;241m.\u001b[39meps\n\u001b[0;32m     24\u001b[0m feps \u001b[38;5;241m=\u001b[39m np\u001b[38;5;241m.\u001b[39mfinfo(single)\u001b[38;5;241m.\u001b[39meps\n",
      "File \u001b[1;32m~\\anaconda3\\envs\\mrilearn\\lib\\site-packages\\scipy\\linalg\\_matfuncs_sqrtm.py:24\u001b[0m\n\u001b[0;32m     20\u001b[0m \u001b[38;5;28;01mclass\u001b[39;00m \u001b[38;5;21;01mSqrtmError\u001b[39;00m(np\u001b[38;5;241m.\u001b[39mlinalg\u001b[38;5;241m.\u001b[39mLinAlgError):\n\u001b[0;32m     21\u001b[0m     \u001b[38;5;28;01mpass\u001b[39;00m\n\u001b[1;32m---> 24\u001b[0m \u001b[38;5;28;01mfrom\u001b[39;00m \u001b[38;5;21;01m.\u001b[39;00m\u001b[38;5;21;01m_matfuncs_sqrtm_triu\u001b[39;00m \u001b[38;5;28;01mimport\u001b[39;00m within_block_loop\n\u001b[0;32m     27\u001b[0m \u001b[38;5;28;01mdef\u001b[39;00m \u001b[38;5;21m_sqrtm_triu\u001b[39m(T, blocksize\u001b[38;5;241m=\u001b[39m\u001b[38;5;241m64\u001b[39m):\n\u001b[0;32m     28\u001b[0m \u001b[38;5;250m    \u001b[39m\u001b[38;5;124;03m\"\"\"\u001b[39;00m\n\u001b[0;32m     29\u001b[0m \u001b[38;5;124;03m    Matrix square root of an upper triangular matrix.\u001b[39;00m\n\u001b[0;32m     30\u001b[0m \n\u001b[1;32m   (...)\u001b[0m\n\u001b[0;32m     51\u001b[0m \n\u001b[0;32m     52\u001b[0m \u001b[38;5;124;03m    \"\"\"\u001b[39;00m\n",
      "File \u001b[1;32m<frozen importlib._bootstrap>:398\u001b[0m, in \u001b[0;36mparent\u001b[1;34m(self)\u001b[0m\n",
      "\u001b[1;31mKeyboardInterrupt\u001b[0m: "
     ]
    }
   ],
   "source": [
    "#basic ds\n",
    "import numpy as np\n",
    "import pandas as pd\n",
    "import matplotlib.pyplot as plt\n",
    "\n",
    "#basic system\n",
    "import sys\n",
    "import os\n",
    "import glob\n",
    "\n",
    "\n",
    "# math and signals\n",
    "import math\n",
    "from scipy.stats import entropy\n",
    "from scipy.signal import savgol_filter\n",
    "from scipy.signal import find_peaks\n",
    "# demo stuff\n",
    "import ipywidgets as widgets\n",
    "import seaborn "
   ]
  },
  {
   "cell_type": "code",
   "execution_count": null,
   "id": "07657003",
   "metadata": {
    "tags": []
   },
   "outputs": [],
   "source": [
    "# ml stuff\n",
    "from sklearn.model_selection import train_test_split\n",
    "from sklearn.preprocessing import StandardScaler\n",
    "from sklearn.svm import SVC\n",
    "from sklearn.metrics import accuracy_score\n",
    "from sklearn.linear_model import LogisticRegression\n",
    "from sklearn.linear_model import LinearRegression\n",
    "from sklearn import linear_model\n",
    "from sklearn import tree\n",
    "from sklearn import metrics\n",
    "from sklearn.linear_model import SGDRegressor\n",
    "from sklearn.metrics import confusion_matrix\n",
    "import joblib"
   ]
  },
  {
   "cell_type": "markdown",
   "id": "de26b283",
   "metadata": {},
   "source": [
    "## import data"
   ]
  },
  {
   "cell_type": "code",
   "execution_count": null,
   "id": "0858e4b7",
   "metadata": {
    "tags": []
   },
   "outputs": [],
   "source": [
    "our_data_now = 'internal_results/top_stitched.csv'\n",
    "our_data = pd.read_csv(our_data_now)\n",
    "our_data"
   ]
  },
  {
   "cell_type": "markdown",
   "id": "047e73da-7c52-429f-93a0-f9a52f4c124b",
   "metadata": {},
   "source": [
    "Clean Nans out of data"
   ]
  },
  {
   "cell_type": "code",
   "execution_count": null,
   "id": "59cb1e3c-a58c-448e-8c4b-ddd36a1b8979",
   "metadata": {
    "tags": []
   },
   "outputs": [],
   "source": [
    "our_data = our_data.dropna()"
   ]
  },
  {
   "cell_type": "markdown",
   "id": "513254bf",
   "metadata": {},
   "source": [
    "## pick and visualize correlations"
   ]
  },
  {
   "cell_type": "markdown",
   "id": "0d416827",
   "metadata": {},
   "source": [
    "Here you will use the 'CtrL' button on most machines, and select multiple possible columns (which may become features for machine learning) to visualize in terms of correlations"
   ]
  },
  {
   "cell_type": "code",
   "execution_count": null,
   "id": "d55102f6",
   "metadata": {
    "tags": []
   },
   "outputs": [],
   "source": [
    "features = widgets.SelectMultiple(\n",
    "    options=our_data.columns.tolist(),\n",
    "    value=['GM_vol'],\n",
    "    #rows=10,\n",
    "    description='Features',\n",
    "    disabled=False\n",
    ")\n",
    "features"
   ]
  },
  {
   "cell_type": "code",
   "execution_count": null,
   "id": "aeaa5a9f",
   "metadata": {
    "tags": []
   },
   "outputs": [],
   "source": [
    "features_list = list(features.value)\n",
    "\n",
    "features_list"
   ]
  },
  {
   "cell_type": "markdown",
   "id": "4cc73039",
   "metadata": {},
   "source": [
    "Next you will choose your label"
   ]
  },
  {
   "cell_type": "code",
   "execution_count": null,
   "id": "3873ec76",
   "metadata": {
    "tags": []
   },
   "outputs": [],
   "source": [
    "label = widgets.Dropdown(\n",
    "    options= our_data.columns.tolist(),# our_data.columns.tolist(),\n",
    "    value='Age',\n",
    "    #rows=10,\n",
    "    description='label',\n",
    "    disabled=False\n",
    ")\n",
    "label"
   ]
  },
  {
   "cell_type": "code",
   "execution_count": null,
   "id": "8675819a",
   "metadata": {
    "tags": []
   },
   "outputs": [],
   "source": [
    "label_column = label.value "
   ]
  },
  {
   "cell_type": "code",
   "execution_count": null,
   "id": "9f2149bb",
   "metadata": {
    "tags": []
   },
   "outputs": [],
   "source": [
    "x_column = [label.value]\n",
    "full_matrix = features_list + x_column"
   ]
  },
  {
   "cell_type": "code",
   "execution_count": null,
   "id": "ae42015e",
   "metadata": {
    "tags": []
   },
   "outputs": [],
   "source": [
    "our_data[full_matrix][1:]"
   ]
  },
  {
   "cell_type": "markdown",
   "id": "02765488",
   "metadata": {},
   "source": [
    "Note: pandas will default correlation method to ='pearson'. Needs discussion with scientsts if other correlation is better. Types kendall and spearman are avalable."
   ]
  },
  {
   "cell_type": "code",
   "execution_count": null,
   "id": "98c4fe7f",
   "metadata": {
    "tags": []
   },
   "outputs": [],
   "source": [
    "%matplotlib inline\n",
    "seaborn.heatmap(our_data[full_matrix][1:].corr(), annot = True)"
   ]
  },
  {
   "cell_type": "markdown",
   "id": "d71b8467",
   "metadata": {},
   "source": [
    "Now you may want to graph a relationship, to see if there are hints that a weighted correlation is interesting"
   ]
  },
  {
   "cell_type": "code",
   "execution_count": null,
   "id": "706081bf",
   "metadata": {
    "tags": []
   },
   "outputs": [],
   "source": [
    "element_a = widgets.Dropdown(\n",
    "    options= our_data.columns.tolist(),# our_data.columns.tolist(),\n",
    "    value='Age',\n",
    "    #rows=10,\n",
    "    description='x-axis',\n",
    "    disabled=False\n",
    ")\n",
    "element_a"
   ]
  },
  {
   "cell_type": "code",
   "execution_count": null,
   "id": "91a8e14c",
   "metadata": {
    "tags": []
   },
   "outputs": [],
   "source": [
    "element_b = widgets.Dropdown(\n",
    "    options= our_data.columns.tolist(),# our_data.columns.tolist(),\n",
    "    value='Age',\n",
    "    #rows=10,\n",
    "    description='y-axis',\n",
    "    disabled=False\n",
    ")\n",
    "element_b"
   ]
  },
  {
   "cell_type": "code",
   "execution_count": null,
   "id": "4340ef19",
   "metadata": {},
   "outputs": [],
   "source": [
    "#our_data[element_b.value]"
   ]
  },
  {
   "cell_type": "code",
   "execution_count": null,
   "id": "5b6c1715",
   "metadata": {
    "tags": []
   },
   "outputs": [],
   "source": [
    "our_data[element_a.value]= our_data[element_a.value].apply(pd.to_numeric)\n",
    "our_data[element_b.value]= our_data[element_b.value].apply(pd.to_numeric)\n",
    "plt.scatter(our_data[element_a.value],our_data[element_b.value])\n",
    "plt.show()"
   ]
  },
  {
   "cell_type": "code",
   "execution_count": null,
   "id": "2c9795a4",
   "metadata": {
    "tags": []
   },
   "outputs": [],
   "source": [
    "ml_matrix = our_data[full_matrix][1:]"
   ]
  },
  {
   "cell_type": "code",
   "execution_count": null,
   "id": "395e8983",
   "metadata": {
    "tags": []
   },
   "outputs": [],
   "source": [
    "#ml_matrix"
   ]
  },
  {
   "cell_type": "markdown",
   "id": "76eb5f08",
   "metadata": {},
   "source": [
    "Here we will assume you want to build a model on age, but this could also be a menu"
   ]
  },
  {
   "cell_type": "code",
   "execution_count": null,
   "id": "d6bc9776",
   "metadata": {
    "tags": []
   },
   "outputs": [],
   "source": [
    "X = ml_matrix.drop('Age', axis =1)\n",
    "X = X.values\n",
    "X = X.astype('float')"
   ]
  },
  {
   "cell_type": "code",
   "execution_count": null,
   "id": "442e72d8",
   "metadata": {
    "tags": []
   },
   "outputs": [],
   "source": [
    "y = ml_matrix['Age'].values\n",
    "y=y.astype('int')"
   ]
  },
  {
   "cell_type": "code",
   "execution_count": null,
   "id": "129b6ac8",
   "metadata": {
    "tags": []
   },
   "outputs": [],
   "source": [
    "X_train, X_test, y_train, y_test = train_test_split(X, y, test_size=0.2, random_state=42)"
   ]
  },
  {
   "cell_type": "code",
   "execution_count": null,
   "id": "b4ee9d07",
   "metadata": {
    "tags": []
   },
   "outputs": [],
   "source": [
    "X_train.shape"
   ]
  },
  {
   "cell_type": "code",
   "execution_count": null,
   "id": "e4ac6082",
   "metadata": {
    "tags": []
   },
   "outputs": [],
   "source": [
    "# scale\n",
    "sc = StandardScaler()\n",
    "sc.fit(X_train)\n",
    "X_train = sc.transform(X_train)\n",
    "X_test = sc.transform(X_test)"
   ]
  },
  {
   "cell_type": "markdown",
   "id": "4fe6a732-6eea-49f0-9adf-ac8a48bc0546",
   "metadata": {},
   "source": [
    "# Here we should add a drop down to pick your algorithm, \n",
    "Next version"
   ]
  },
  {
   "cell_type": "code",
   "execution_count": null,
   "id": "f8b44131",
   "metadata": {
    "tags": []
   },
   "outputs": [],
   "source": [
    "logr = LogisticRegression(solver='liblinear', random_state=0)\n",
    "logr.fit(X_train, y_train)"
   ]
  },
  {
   "cell_type": "code",
   "execution_count": null,
   "id": "46448cba",
   "metadata": {
    "tags": []
   },
   "outputs": [],
   "source": [
    "y_pred = logr.predict(X_test)"
   ]
  },
  {
   "cell_type": "code",
   "execution_count": null,
   "id": "b6db07e1-382c-4841-8f82-144b132e6aac",
   "metadata": {
    "tags": []
   },
   "outputs": [],
   "source": [
    "print('Accuracy: %.3f' % accuracy_score(y_test, y_pred))"
   ]
  },
  {
   "cell_type": "markdown",
   "id": "08610f2d-4dae-4b2d-84b3-6d15a3daa846",
   "metadata": {
    "tags": []
   },
   "source": [
    "Not exactly shocking that logistic regression is low... we should use a linear regression. "
   ]
  },
  {
   "cell_type": "code",
   "execution_count": null,
   "id": "44904a6e-8d89-4bf4-bf52-cfa32ea3b3fd",
   "metadata": {
    "tags": []
   },
   "outputs": [],
   "source": [
    "#ml_matrix"
   ]
  },
  {
   "cell_type": "code",
   "execution_count": null,
   "id": "2efefb02-8abe-43a0-978a-bf11be34f674",
   "metadata": {
    "tags": []
   },
   "outputs": [],
   "source": [
    "linr = LinearRegression()\n",
    "linr.fit(X_train, y_train)"
   ]
  },
  {
   "cell_type": "code",
   "execution_count": null,
   "id": "d9ff6056-3b31-4aba-9867-f904ba7d7cb4",
   "metadata": {
    "tags": []
   },
   "outputs": [],
   "source": [
    "y_pred = linr.predict(X_test)"
   ]
  },
  {
   "cell_type": "code",
   "execution_count": null,
   "id": "4bff63ff-296c-4f24-99de-288965724fe4",
   "metadata": {
    "tags": []
   },
   "outputs": [],
   "source": [
    "\n",
    "print('R2 score Linear regression: %.3f' % linr.score(X_test,y_test))\n",
    "print('Explained variance score: %.3f'  % metrics.explained_variance_score(y_test, y_pred))"
   ]
  },
  {
   "cell_type": "markdown",
   "id": "4c2c8582",
   "metadata": {},
   "source": [
    "Interesting let's try a linear regression on GM_ICV alone, to compare how much adding these other variables helped if at all? \n",
    "Also we will do a drop down menu to pick models, then run them...\n",
    "\n",
    "But then we need to figure out if the user wants to save the model"
   ]
  },
  {
   "cell_type": "code",
   "execution_count": null,
   "id": "275f9805",
   "metadata": {
    "tags": []
   },
   "outputs": [],
   "source": [
    "saving =widgets.ToggleButton(\n",
    "    value=False,\n",
    "    description='Click me to save model',\n",
    "    disabled=False,\n",
    "    button_style='success', # 'success', 'info', 'warning', 'danger' or ''\n",
    "    tooltip='Description',\n",
    "    icon='check' # (FontAwesome names without the `fa-` prefix)\n",
    ")\n",
    "\n",
    "saving"
   ]
  },
  {
   "cell_type": "code",
   "execution_count": null,
   "id": "1159c95a-3211-4c6a-b29a-bd045e790287",
   "metadata": {
    "tags": []
   },
   "outputs": [],
   "source": [
    "if saving.value:\n",
    "    print('You need to name your file, then hit enter')\n",
    "    file_given_name = input()\n",
    "    \n",
    "\n",
    "    "
   ]
  },
  {
   "cell_type": "code",
   "execution_count": null,
   "id": "f2773150-cad0-44a5-b143-a5433f83e439",
   "metadata": {
    "tags": []
   },
   "outputs": [],
   "source": []
  },
  {
   "cell_type": "code",
   "execution_count": null,
   "id": "9a28fbbf-64cf-40e5-911b-a2010b467d00",
   "metadata": {
    "tags": []
   },
   "outputs": [],
   "source": [
    "# check if model folder exists and if not , then create\n",
    "model_folder = '../result_models/'\n",
    "if not os.path.exists(model_folder):\n",
    "    os.makedirs(model_folder)"
   ]
  },
  {
   "cell_type": "code",
   "execution_count": null,
   "id": "363b272d-3dab-412d-9226-734a40ea1ebb",
   "metadata": {
    "tags": []
   },
   "outputs": [],
   "source": [
    "# save off file\n",
    "joblib.dump(linr, ('../result_models/'+file_given_name+ '.sav'))\n",
    "    "
   ]
  },
  {
   "cell_type": "code",
   "execution_count": null,
   "id": "3b8fc5f8-8693-49b5-bec6-b44cd900772e",
   "metadata": {
    "tags": []
   },
   "outputs": [],
   "source": [
    "dt = tree.DecisionTreeClassifier()\n",
    "dt.fit(X_train, y_train)"
   ]
  },
  {
   "cell_type": "code",
   "execution_count": null,
   "id": "09106e6f-2c67-4bc6-8f03-2a4e097daef8",
   "metadata": {
    "tags": []
   },
   "outputs": [],
   "source": [
    "y_pred = dt.predict(X_test)"
   ]
  },
  {
   "cell_type": "code",
   "execution_count": null,
   "id": "368aef8b-e651-40ec-bf51-b757ca5edf4e",
   "metadata": {
    "tags": []
   },
   "outputs": [],
   "source": [
    "print('Accuracy: %.3f' % accuracy_score(y_test, y_pred))"
   ]
  },
  {
   "cell_type": "markdown",
   "id": "1435088a-5c69-46ca-b454-61939d6ef261",
   "metadata": {},
   "source": [
    "Decision tree did really poorly...not a surprise, it's not a good model for a continous variable. We can also examine in which direction it went wrong a bit with some fancy graphing...if scientists request. "
   ]
  },
  {
   "cell_type": "code",
   "execution_count": null,
   "id": "4507cd67-45eb-4b18-8cbc-194c9cea9ffb",
   "metadata": {
    "tags": []
   },
   "outputs": [],
   "source": [
    "\n",
    "llreg = linear_model.LassoLars(alpha=0.01)\n",
    "llreg.fit(X_train, y_train)"
   ]
  },
  {
   "cell_type": "code",
   "execution_count": null,
   "id": "e9766d00-be60-4e9d-b335-d2e5e4443f01",
   "metadata": {
    "tags": []
   },
   "outputs": [],
   "source": [
    "y_pred = llreg.predict(X_test)\n",
    "print('R2 score Linear regression: %.3f' % llreg.score(X_test,y_test))\n",
    "print('Explained variance score: %.3f'  % metrics.explained_variance_score(y_test, y_pred))"
   ]
  },
  {
   "cell_type": "code",
   "execution_count": null,
   "id": "d7047301-971a-41da-821d-4479852a3560",
   "metadata": {
    "tags": []
   },
   "outputs": [],
   "source": [
    "\n",
    "sgdr = SGDRegressor()\n",
    "sgdr.fit(X_train, y_train)"
   ]
  },
  {
   "cell_type": "code",
   "execution_count": null,
   "id": "afea0c70-772e-495e-8261-12d665e4615d",
   "metadata": {
    "tags": []
   },
   "outputs": [],
   "source": [
    "y_pred = sgdr.predict(X_test)"
   ]
  },
  {
   "cell_type": "code",
   "execution_count": null,
   "id": "61bfbea7-02da-4aea-9acf-f5ddeec2476a",
   "metadata": {
    "tags": []
   },
   "outputs": [],
   "source": [
    "\n",
    "print('R2 score SGDR regression: %.3f' % sgdr.score(X_test,y_test))\n",
    "print('Explained variance score: %.3f'  % metrics.explained_variance_score(y_test, y_pred))"
   ]
  },
  {
   "cell_type": "markdown",
   "id": "00906b08-4e31-4c4d-81b2-bc932d0d5d92",
   "metadata": {},
   "source": [
    "# Conclusions:\n",
    "\n",
    "1. Notebook needs work with scientists for most convenient way to run experiments.\n",
    "2. linear and stochastic gradient descent regressors work best for a model based on ratios and white matter\n",
    "3. decision tree and logisic regression work poorly FOR AGE as one would predict...could be promising for sex (the code is there for that but not run)\n",
    "4. we probably want to try a Huber regressor"
   ]
  },
  {
   "cell_type": "code",
   "execution_count": null,
   "id": "627ce239-2bf4-4e30-af5e-23d2d511dde5",
   "metadata": {
    "tags": []
   },
   "outputs": [],
   "source": [
    "len(our_data)"
   ]
  },
  {
   "cell_type": "code",
   "execution_count": null,
   "id": "cad3a307-2e81-41be-ad3c-9ad6b3c3a44a",
   "metadata": {},
   "outputs": [],
   "source": []
  }
 ],
 "metadata": {
  "kernelspec": {
   "display_name": "Python 3 (ipykernel)",
   "language": "python",
   "name": "python3"
  },
  "language_info": {
   "codemirror_mode": {
    "name": "ipython",
    "version": 3
   },
   "file_extension": ".py",
   "mimetype": "text/x-python",
   "name": "python",
   "nbconvert_exporter": "python",
   "pygments_lexer": "ipython3",
   "version": "3.9.16"
  }
 },
 "nbformat": 4,
 "nbformat_minor": 5
}
