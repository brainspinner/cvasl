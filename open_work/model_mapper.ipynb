{
 "cells": [
  {
   "cell_type": "markdown",
   "id": "dba6321c",
   "metadata": {},
   "source": [
    "# Sample ML notebook"
   ]
  },
  {
   "cell_type": "markdown",
   "id": "2babacbb",
   "metadata": {},
   "source": [
    "Notes: this notebook is essentially a notebook to give scientists a flavor of what is possible in terms \n",
    "    of interacting with tabular data for ML. Results are not final."
   ]
  },
  {
   "cell_type": "markdown",
   "id": "1b39dc70",
   "metadata": {},
   "source": [
    "## import libraries needed"
   ]
  },
  {
   "cell_type": "code",
   "execution_count": null,
   "id": "e8473d09",
   "metadata": {},
   "outputs": [],
   "source": [
    "#basic ds\n",
    "import numpy as np\n",
    "import pandas as pd\n",
    "import matplotlib.pyplot as plt\n",
    "\n",
    "#basic system\n",
    "import sys\n",
    "import os\n",
    "import glob\n",
    "\n",
    "\n",
    "# math and signals\n",
    "import math\n",
    "from scipy.stats import entropy\n",
    "from scipy.signal import savgol_filter\n",
    "from scipy.signal import find_peaks\n",
    "# demo stuff\n",
    "import ipywidgets as widgets\n",
    "import seaborn "
   ]
  },
  {
   "cell_type": "code",
   "execution_count": null,
   "id": "07657003",
   "metadata": {},
   "outputs": [],
   "source": [
    "# ml stuff\n",
    "from sklearn.model_selection import train_test_split\n",
    "from sklearn.preprocessing import StandardScaler\n",
    "from sklearn.svm import SVC\n",
    "from sklearn.metrics import accuracy_score\n",
    "from sklearn.linear_model import LogisticRegression\n",
    "from sklearn.linear_model import LinearRegression\n",
    "from sklearn import tree\n",
    "from sklearn.metrics import confusion_matrix\n",
    "import joblib"
   ]
  },
  {
   "cell_type": "markdown",
   "id": "de26b283",
   "metadata": {},
   "source": [
    "## import data"
   ]
  },
  {
   "cell_type": "code",
   "execution_count": null,
   "id": "0858e4b7",
   "metadata": {},
   "outputs": [],
   "source": [
    "our_data_now = 'internal_results/top_stitched.csv'\n",
    "our_data = pd.read_csv(our_data_now)\n",
    "our_data"
   ]
  },
  {
   "cell_type": "code",
   "execution_count": null,
   "id": "59cb1e3c-a58c-448e-8c4b-ddd36a1b8979",
   "metadata": {
    "tags": []
   },
   "outputs": [],
   "source": [
    "our_data = our_data.dropna()"
   ]
  },
  {
   "cell_type": "markdown",
   "id": "513254bf",
   "metadata": {},
   "source": [
    "## pick and visualize correlations"
   ]
  },
  {
   "cell_type": "markdown",
   "id": "0d416827",
   "metadata": {},
   "source": [
    "Here you will use the 'CtrL' button on most machines, and select multiple possible columns (which may become features for machine learning) to visualize in terms of correlations"
   ]
  },
  {
   "cell_type": "code",
   "execution_count": null,
   "id": "d55102f6",
   "metadata": {},
   "outputs": [],
   "source": [
    "features = widgets.SelectMultiple(\n",
    "    options=our_data.columns.tolist(),\n",
    "    value=['GM_vol'],\n",
    "    #rows=10,\n",
    "    description='Features',\n",
    "    disabled=False\n",
    ")\n",
    "features"
   ]
  },
  {
   "cell_type": "code",
   "execution_count": null,
   "id": "aeaa5a9f",
   "metadata": {},
   "outputs": [],
   "source": [
    "features_list = list(features.value)\n",
    "\n",
    "features_list"
   ]
  },
  {
   "cell_type": "markdown",
   "id": "4cc73039",
   "metadata": {},
   "source": [
    "Next you will choose your label"
   ]
  },
  {
   "cell_type": "code",
   "execution_count": null,
   "id": "3873ec76",
   "metadata": {},
   "outputs": [],
   "source": [
    "label = widgets.Dropdown(\n",
    "    options= our_data.columns.tolist(),# our_data.columns.tolist(),\n",
    "    value='Age',\n",
    "    #rows=10,\n",
    "    description='label',\n",
    "    disabled=False\n",
    ")\n",
    "label"
   ]
  },
  {
   "cell_type": "code",
   "execution_count": null,
   "id": "8675819a",
   "metadata": {},
   "outputs": [],
   "source": [
    "label_column = label.value "
   ]
  },
  {
   "cell_type": "code",
   "execution_count": null,
   "id": "9f2149bb",
   "metadata": {},
   "outputs": [],
   "source": [
    "x_column = [label.value]\n",
    "full_matrix = features_list + x_column"
   ]
  },
  {
   "cell_type": "code",
   "execution_count": null,
   "id": "ae42015e",
   "metadata": {},
   "outputs": [],
   "source": [
    "our_data[full_matrix][1:]"
   ]
  },
  {
   "cell_type": "markdown",
   "id": "02765488",
   "metadata": {},
   "source": [
    "Note: pandas will default correlation method to ='pearson'. Needs discussion with scientsts if other correlation is better. Types kendall and spearman are avalable."
   ]
  },
  {
   "cell_type": "code",
   "execution_count": null,
   "id": "98c4fe7f",
   "metadata": {},
   "outputs": [],
   "source": [
    "%matplotlib inline\n",
    "seaborn.heatmap(our_data[full_matrix][1:].corr(), annot = True)"
   ]
  },
  {
   "cell_type": "markdown",
   "id": "d71b8467",
   "metadata": {},
   "source": [
    "Now you may want to graph a relationship, to see if there are hints that a weighted correlation is interesting"
   ]
  },
  {
   "cell_type": "code",
   "execution_count": null,
   "id": "706081bf",
   "metadata": {},
   "outputs": [],
   "source": [
    "element_a = widgets.Dropdown(\n",
    "    options= our_data.columns.tolist(),# our_data.columns.tolist(),\n",
    "    value='Age',\n",
    "    #rows=10,\n",
    "    description='x-axis',\n",
    "    disabled=False\n",
    ")\n",
    "element_a"
   ]
  },
  {
   "cell_type": "code",
   "execution_count": null,
   "id": "91a8e14c",
   "metadata": {},
   "outputs": [],
   "source": [
    "element_b = widgets.Dropdown(\n",
    "    options= our_data.columns.tolist(),# our_data.columns.tolist(),\n",
    "    value='Age',\n",
    "    #rows=10,\n",
    "    description='y-axis',\n",
    "    disabled=False\n",
    ")\n",
    "element_b"
   ]
  },
  {
   "cell_type": "code",
   "execution_count": null,
   "id": "4340ef19",
   "metadata": {},
   "outputs": [],
   "source": [
    "#our_data[element_b.value]"
   ]
  },
  {
   "cell_type": "code",
   "execution_count": null,
   "id": "5b6c1715",
   "metadata": {},
   "outputs": [],
   "source": [
    "our_data[element_a.value]= our_data[element_a.value].apply(pd.to_numeric)\n",
    "our_data[element_b.value]= our_data[element_b.value].apply(pd.to_numeric)\n",
    "plt.scatter(our_data[element_a.value],our_data[element_b.value])\n",
    "plt.show()"
   ]
  },
  {
   "cell_type": "code",
   "execution_count": null,
   "id": "2c9795a4",
   "metadata": {},
   "outputs": [],
   "source": [
    "ml_matrix = our_data[full_matrix][1:]"
   ]
  },
  {
   "cell_type": "code",
   "execution_count": null,
   "id": "395e8983",
   "metadata": {},
   "outputs": [],
   "source": [
    "ml_matrix"
   ]
  },
  {
   "cell_type": "markdown",
   "id": "76eb5f08",
   "metadata": {},
   "source": [
    "Here we will assume you want to build a model on age, but this could also be a menu"
   ]
  },
  {
   "cell_type": "code",
   "execution_count": null,
   "id": "d6bc9776",
   "metadata": {},
   "outputs": [],
   "source": [
    "X = ml_matrix.drop('Age', axis =1)\n",
    "X = X.values\n",
    "X = X.astype('float')"
   ]
  },
  {
   "cell_type": "code",
   "execution_count": null,
   "id": "442e72d8",
   "metadata": {},
   "outputs": [],
   "source": [
    "y = ml_matrix['Age'].values\n",
    "y=y.astype('int')"
   ]
  },
  {
   "cell_type": "code",
   "execution_count": null,
   "id": "129b6ac8",
   "metadata": {},
   "outputs": [],
   "source": [
    "X_train, X_test, y_train, y_test = train_test_split(X, y, test_size=0.2, random_state=42)"
   ]
  },
  {
   "cell_type": "code",
   "execution_count": null,
   "id": "b4ee9d07",
   "metadata": {},
   "outputs": [],
   "source": [
    "X_train.shape"
   ]
  },
  {
   "cell_type": "code",
   "execution_count": null,
   "id": "e4ac6082",
   "metadata": {},
   "outputs": [],
   "source": [
    "# scale\n",
    "sc = StandardScaler()\n",
    "sc.fit(X_train)\n",
    "X_train = sc.transform(X_train)\n",
    "X_test = sc.transform(X_test)"
   ]
  },
  {
   "cell_type": "code",
   "execution_count": null,
   "id": "f8b44131",
   "metadata": {},
   "outputs": [],
   "source": [
    "logr = LogisticRegression(solver='liblinear', random_state=0)\n",
    "logr.fit(X_train, y_train)"
   ]
  },
  {
   "cell_type": "code",
   "execution_count": null,
   "id": "46448cba",
   "metadata": {
    "tags": []
   },
   "outputs": [],
   "source": [
    "y_pred = logr.predict(X_test)"
   ]
  },
  {
   "cell_type": "code",
   "execution_count": null,
   "id": "b6db07e1-382c-4841-8f82-144b132e6aac",
   "metadata": {
    "tags": []
   },
   "outputs": [],
   "source": [
    "print('Accuracy: %.3f' % accuracy_score(y_test, y_pred))"
   ]
  },
  {
   "cell_type": "markdown",
   "id": "08610f2d-4dae-4b2d-84b3-6d15a3daa846",
   "metadata": {
    "tags": []
   },
   "source": [
    "Not exactly shocking that logistic regression is low... we should use a linear regression. "
   ]
  },
  {
   "cell_type": "code",
   "execution_count": null,
   "id": "44904a6e-8d89-4bf4-bf52-cfa32ea3b3fd",
   "metadata": {
    "tags": []
   },
   "outputs": [],
   "source": [
    "#ml_matrix"
   ]
  },
  {
   "cell_type": "code",
   "execution_count": null,
   "id": "2efefb02-8abe-43a0-978a-bf11be34f674",
   "metadata": {
    "tags": []
   },
   "outputs": [],
   "source": [
    "linr = LinearRegression()\n",
    "linr.fit(X_train, y_train)"
   ]
  },
  {
   "cell_type": "code",
   "execution_count": null,
   "id": "d9ff6056-3b31-4aba-9867-f904ba7d7cb4",
   "metadata": {
    "tags": []
   },
   "outputs": [],
   "source": [
    "y_pred = linr.predict(X_test)"
   ]
  },
  {
   "cell_type": "code",
   "execution_count": null,
   "id": "46e2deed-8401-4e44-88ae-d0f35b94d378",
   "metadata": {},
   "outputs": [],
   "source": []
  },
  {
   "cell_type": "code",
   "execution_count": null,
   "id": "4bff63ff-296c-4f24-99de-288965724fe4",
   "metadata": {
    "tags": []
   },
   "outputs": [],
   "source": [
    "from sklearn import metrics\n",
    "#r2_score = regressor.score(x_test,y_test)\n",
    "print('R2 score Linear regression: %.3f' % linr.score(X_test,y_test))\n",
    "print('Explained variance score: %.3f'  % metrics.explained_variance_score(y_test, y_pred))\n",
    "\n",
    "#print(r2_score*100,'%')"
   ]
  },
  {
   "cell_type": "markdown",
   "id": "4c2c8582",
   "metadata": {},
   "source": [
    "Interesting let's try a linear regression on GM_ICV alone, to compare how much adding these other variables helped if at all? \n",
    "Also we can do a drop down menu to pick models, then run them...then maybe also a drop down to "
   ]
  },
  {
   "cell_type": "code",
   "execution_count": null,
   "id": "275f9805",
   "metadata": {},
   "outputs": [],
   "source": []
  }
 ],
 "metadata": {
  "kernelspec": {
   "display_name": "Python 3 (ipykernel)",
   "language": "python",
   "name": "python3"
  },
  "language_info": {
   "codemirror_mode": {
    "name": "ipython",
    "version": 3
   },
   "file_extension": ".py",
   "mimetype": "text/x-python",
   "name": "python",
   "nbconvert_exporter": "python",
   "pygments_lexer": "ipython3",
   "version": "3.9.16"
  }
 },
 "nbformat": 4,
 "nbformat_minor": 5
}
