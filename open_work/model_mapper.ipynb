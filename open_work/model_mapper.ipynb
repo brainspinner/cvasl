{
 "cells": [
  {
   "cell_type": "markdown",
   "id": "dba6321c",
   "metadata": {},
   "source": [
    "# Sample ML notebook"
   ]
  },
  {
   "cell_type": "markdown",
   "id": "1b39dc70",
   "metadata": {},
   "source": [
    "## import libraries needed"
   ]
  },
  {
   "cell_type": "code",
   "execution_count": null,
   "id": "e8473d09",
   "metadata": {},
   "outputs": [],
   "source": [
    "#basic ds\n",
    "import numpy as np\n",
    "import pandas as pd\n",
    "import matplotlib.pyplot as plt\n",
    "\n",
    "#basic system\n",
    "import sys\n",
    "import os\n",
    "import glob\n",
    "\n",
    "\n",
    "# math and signals\n",
    "import math\n",
    "from scipy.stats import entropy\n",
    "from scipy.signal import savgol_filter\n",
    "from scipy.signal import find_peaks\n",
    "# demo stuff\n",
    "import ipywidgets as widgets\n",
    "import seaborn "
   ]
  },
  {
   "cell_type": "code",
   "execution_count": null,
   "id": "07657003",
   "metadata": {},
   "outputs": [],
   "source": [
    "# ml stuff\n",
    "from sklearn.model_selection import train_test_split\n",
    "from sklearn.preprocessing import StandardScaler\n",
    "from sklearn.svm import SVC\n",
    "from sklearn.metrics import accuracy_score\n",
    "from sklearn.linear_model import LogisticRegression\n",
    "from sklearn import tree\n",
    "from sklearn.metrics import confusion_matrix\n",
    "import joblib"
   ]
  },
  {
   "cell_type": "markdown",
   "id": "de26b283",
   "metadata": {},
   "source": [
    "## import data"
   ]
  },
  {
   "cell_type": "code",
   "execution_count": null,
   "id": "0858e4b7",
   "metadata": {},
   "outputs": [],
   "source": [
    "our_data_now = 'internal_results/top_stitched.csv'\n",
    "our_data =pd.read_csv(our_data_now)\n",
    "our_data"
   ]
  },
  {
   "cell_type": "markdown",
   "id": "513254bf",
   "metadata": {},
   "source": [
    "## pick and visualize correlations"
   ]
  },
  {
   "cell_type": "code",
   "execution_count": null,
   "id": "2ce24e73",
   "metadata": {},
   "outputs": [],
   "source": [
    "print(our_data.columns.tolist())"
   ]
  },
  {
   "cell_type": "code",
   "execution_count": null,
   "id": "d55102f6",
   "metadata": {},
   "outputs": [],
   "source": [
    "features = widgets.SelectMultiple(\n",
    "    options=our_data.columns.tolist(),\n",
    "    value=['GM_vol'],\n",
    "    #rows=10,\n",
    "    description='Features',\n",
    "    disabled=False\n",
    ")\n",
    "features"
   ]
  },
  {
   "cell_type": "code",
   "execution_count": null,
   "id": "aeaa5a9f",
   "metadata": {},
   "outputs": [],
   "source": [
    "features_list = list(features.value)\n",
    "\n",
    "features_list"
   ]
  },
  {
   "cell_type": "code",
   "execution_count": null,
   "id": "9f2149bb",
   "metadata": {},
   "outputs": [],
   "source": [
    "x_column = ['Age']\n",
    "full_matrix = features_list + x_column"
   ]
  },
  {
   "cell_type": "code",
   "execution_count": null,
   "id": "ae42015e",
   "metadata": {},
   "outputs": [],
   "source": [
    "our_data[full_matrix][1:]"
   ]
  },
  {
   "cell_type": "code",
   "execution_count": null,
   "id": "98c4fe7f",
   "metadata": {},
   "outputs": [],
   "source": [
    "%matplotlib inline\n",
    "seaborn.heatmap(our_data[full_matrix][1:].corr(), annot = True)"
   ]
  },
  {
   "cell_type": "code",
   "execution_count": null,
   "id": "2c9795a4",
   "metadata": {},
   "outputs": [],
   "source": [
    "ml_matrix = our_data[full_matrix][1:]"
   ]
  },
  {
   "cell_type": "code",
   "execution_count": null,
   "id": "d6bc9776",
   "metadata": {},
   "outputs": [],
   "source": [
    "X = ml_matrix.drop('Age', axis =1)\n",
    "X = X.values\n",
    "X = X.astype('float')"
   ]
  },
  {
   "cell_type": "code",
   "execution_count": null,
   "id": "442e72d8",
   "metadata": {},
   "outputs": [],
   "source": [
    "y = ml_matrix['Age'].values\n",
    "y=y.astype('int')"
   ]
  },
  {
   "cell_type": "code",
   "execution_count": null,
   "id": "129b6ac8",
   "metadata": {},
   "outputs": [],
   "source": [
    "X_train, X_test, y_train, y_test = train_test_split(X, y, test_size=0.2, random_state=42)"
   ]
  },
  {
   "cell_type": "code",
   "execution_count": null,
   "id": "b4ee9d07",
   "metadata": {},
   "outputs": [],
   "source": [
    "X_train.shape"
   ]
  },
  {
   "cell_type": "code",
   "execution_count": null,
   "id": "e4ac6082",
   "metadata": {},
   "outputs": [],
   "source": [
    "# scale\n",
    "sc = StandardScaler()\n",
    "sc.fit(X_train)\n",
    "X_train = sc.transform(X_train)\n",
    "X_test = sc.transform(X_test)"
   ]
  },
  {
   "cell_type": "code",
   "execution_count": null,
   "id": "6eeeea59",
   "metadata": {},
   "outputs": [],
   "source": [
    "## oops we needed to drop our NaNs out way earlier"
   ]
  },
  {
   "cell_type": "code",
   "execution_count": null,
   "id": "f8b44131",
   "metadata": {},
   "outputs": [],
   "source": [
    "lr = LogisticRegression(solver='liblinear', random_state=0)\n",
    "lr.fit(X_train, y_train)"
   ]
  },
  {
   "cell_type": "code",
   "execution_count": null,
   "id": "46448cba",
   "metadata": {},
   "outputs": [],
   "source": []
  }
 ],
 "metadata": {
  "kernelspec": {
   "display_name": "Python 3 (ipykernel)",
   "language": "python",
   "name": "python3"
  },
  "language_info": {
   "codemirror_mode": {
    "name": "ipython",
    "version": 3
   },
   "file_extension": ".py",
   "mimetype": "text/x-python",
   "name": "python",
   "nbconvert_exporter": "python",
   "pygments_lexer": "ipython3",
   "version": "3.9.16"
  }
 },
 "nbformat": 4,
 "nbformat_minor": 5
}
