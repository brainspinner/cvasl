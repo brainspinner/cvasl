{
 "cells": [
  {
   "cell_type": "code",
   "execution_count": 1,
   "id": "3a696a83-5122-4058-a10f-22c14ca77b53",
   "metadata": {
    "tags": []
   },
   "outputs": [],
   "source": [
    "# import os       # using operating system dependent functionality (folders)\n",
    "# import glob\n",
    "# import pandas as pd # data analysis and manipulation\n",
    "# import numpy as np    # numerical computing (manipulating and performing operations on arrays of data)\n",
    "# import copy     # Can Copy and Deepcopy files so original file is untouched.\n",
    "# from ipywidgets import IntSlider, Output\n",
    "# import ipywidgets as widgets\n",
    "# from IPython.display import display\n",
    "# import matplotlib.pyplot as plt\n",
    "# import SimpleITK as sitk\n",
    "# import skimage\n",
    "\n",
    "import sys\n",
    "sys.path.insert(0, '../') # path to functions\n",
    "from cvasl import file_handler as fh # \n",
    "from cvasl import mold #\n",
    "from cvasl import carve\n",
    "from cvasl.file_handler import Config"
   ]
  },
  {
   "cell_type": "code",
   "execution_count": null,
   "id": "e0db4521-4e40-4f4e-9af9-7a1b24e83676",
   "metadata": {
    "tags": []
   },
   "outputs": [],
   "source": []
  },
  {
   "cell_type": "code",
   "execution_count": 3,
   "id": "6f354601-2c3e-45b0-a831-e6ab5913cd37",
   "metadata": {
    "tags": []
   },
   "outputs": [],
   "source": [
    "#config = Config.from_file()\n",
    "root_mri_directory = Config.get_directory(Config.from_file(),'raw_data')"
   ]
  },
  {
   "cell_type": "code",
   "execution_count": 4,
   "id": "831276e2-6384-4568-8901-9c71887c1f72",
   "metadata": {
    "tags": []
   },
   "outputs": [
    {
     "data": {
      "text/plain": [
       "'C:/Projects/brainspin/not_pushed/data_anonymized/'"
      ]
     },
     "execution_count": 4,
     "metadata": {},
     "output_type": "execute_result"
    }
   ],
   "source": [
    "root_mri_directory"
   ]
  },
  {
   "cell_type": "code",
   "execution_count": null,
   "id": "6bca5a7c-c58f-43b6-bb91-785bc1912c2a",
   "metadata": {},
   "outputs": [],
   "source": []
  }
 ],
 "metadata": {
  "kernelspec": {
   "display_name": "Python 3 (ipykernel)",
   "language": "python",
   "name": "python3"
  },
  "language_info": {
   "codemirror_mode": {
    "name": "ipython",
    "version": 3
   },
   "file_extension": ".py",
   "mimetype": "text/x-python",
   "name": "python",
   "nbconvert_exporter": "python",
   "pygments_lexer": "ipython3",
   "version": "3.9.16"
  }
 },
 "nbformat": 4,
 "nbformat_minor": 5
}
