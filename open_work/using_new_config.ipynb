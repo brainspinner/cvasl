{
 "cells": [
  {
   "cell_type": "markdown",
   "id": "d7bb1e70-1bf6-4f76-a7c8-9bd40d07543c",
   "metadata": {},
   "source": [
    "# Demo of new config class\n",
    "\n",
    "This is a short notebook to demo how the new confg class works from notebooks.\n",
    "It also works from command line"
   ]
  },
  {
   "cell_type": "code",
   "execution_count": null,
   "id": "3a696a83-5122-4058-a10f-22c14ca77b53",
   "metadata": {
    "tags": []
   },
   "outputs": [],
   "source": [
    "\n",
    "import sys\n",
    "sys.path.insert(0, '../') # path to functions\n",
    "\n",
    "from cvasl.file_handler import Config"
   ]
  },
  {
   "cell_type": "markdown",
   "id": "98362fcb-569b-44f6-be75-7053e2ac85a0",
   "metadata": {
    "tags": []
   },
   "source": [
    "First we will show what to do if you have a config file set up (reccomended)\n",
    "\n",
    "1. you must initialize config from file (or no file)"
   ]
  },
  {
   "cell_type": "code",
   "execution_count": null,
   "id": "4f222032-f0f4-4be5-b91c-87a1158fd444",
   "metadata": {
    "tags": []
   },
   "outputs": [],
   "source": [
    "config = Config.from_file()"
   ]
  },
  {
   "cell_type": "code",
   "execution_count": null,
   "id": "6f354601-2c3e-45b0-a831-e6ab5913cd37",
   "metadata": {
    "tags": []
   },
   "outputs": [],
   "source": [
    "root_mri_directory = config.get_directory('raw_data')"
   ]
  },
  {
   "cell_type": "code",
   "execution_count": null,
   "id": "831276e2-6384-4568-8901-9c71887c1f72",
   "metadata": {
    "tags": []
   },
   "outputs": [],
   "source": [
    "root_mri_directory"
   ]
  },
  {
   "cell_type": "markdown",
   "id": "587a0d15-c7f5-43fe-9a27-42d6acb846e4",
   "metadata": {},
   "source": [
    "Let's show how to do it without using the existing config file, overwriting it if it exists.\n",
    "In this case we initialize config by passing a dictionary, with 'bids' then our path"
   ]
  },
  {
   "cell_type": "code",
   "execution_count": null,
   "id": "a476bdbf-9215-4a3f-a5c1-137d074af029",
   "metadata": {
    "tags": []
   },
   "outputs": [],
   "source": [
    "parsed_here = 'C:/Projects/brainspin/not_pushed/data_anonymized/'\n",
    "config = Config.no_file({ 'bids': parsed_here})"
   ]
  },
  {
   "cell_type": "code",
   "execution_count": null,
   "id": "6bca5a7c-c58f-43b6-bb91-785bc1912c2a",
   "metadata": {},
   "outputs": [],
   "source": [
    "root_mri_directory = config.get_directory('raw_data')"
   ]
  },
  {
   "cell_type": "code",
   "execution_count": null,
   "id": "d3c1028e-32ed-498a-a5f3-5c22845ca266",
   "metadata": {
    "tags": []
   },
   "outputs": [],
   "source": [
    "root_mri_directory"
   ]
  },
  {
   "cell_type": "code",
   "execution_count": null,
   "id": "82b04c09-51b3-4db5-96d1-243d6cfcfe2a",
   "metadata": {},
   "outputs": [],
   "source": []
  }
 ],
 "metadata": {
  "kernelspec": {
   "display_name": "Python 3 (ipykernel)",
   "language": "python",
   "name": "python3"
  },
  "language_info": {
   "codemirror_mode": {
    "name": "ipython",
    "version": 3
   },
   "file_extension": ".py",
   "mimetype": "text/x-python",
   "name": "python",
   "nbconvert_exporter": "python",
   "pygments_lexer": "ipython3",
   "version": "3.9.16"
  }
 },
 "nbformat": 4,
 "nbformat_minor": 5
}
