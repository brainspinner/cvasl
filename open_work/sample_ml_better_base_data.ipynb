{
 "cells": [
  {
   "cell_type": "markdown",
   "id": "d855cfa9-5bac-41fc-9040-2ab31aecfa7f",
   "metadata": {},
   "source": [
    "# Sample ML model testing\n",
    "This notebook will create a model based on a few features we see are well correlated in multiple datasets. It will then run this model over all existing assembled datasets."
   ]
  },
  {
   "cell_type": "markdown",
   "id": "fc9cf03a-cf3d-4c40-877a-594a451f1137",
   "metadata": {
    "tags": []
   },
   "source": [
    "### Importing libraries\n",
    "Because we want to display and interact with our data this will take a many libraries"
   ]
  },
  {
   "cell_type": "code",
   "execution_count": null,
   "id": "5631266e-36c7-4cbf-aba8-bf09fd25a493",
   "metadata": {
    "tags": []
   },
   "outputs": [],
   "source": [
    "#basic ds\n",
    "import numpy as np\n",
    "import pandas as pd\n",
    "import matplotlib.pyplot as plt\n",
    "\n",
    "#basic system\n",
    "import sys\n",
    "import os\n",
    "import glob\n",
    "\n",
    "# math and signals\n",
    "import math\n",
    "from scipy.stats import entropy\n",
    "from scipy.signal import savgol_filter\n",
    "from scipy.signal import find_peaks\n",
    "\n",
    "# demo stuff\n",
    "import ipywidgets as widgets\n",
    "import seaborn "
   ]
  },
  {
   "cell_type": "code",
   "execution_count": null,
   "id": "9259e56a-0c61-4549-bce7-20a3e529fb26",
   "metadata": {
    "tags": []
   },
   "outputs": [],
   "source": [
    "# ml stuff\n",
    "from sklearn.model_selection import train_test_split\n",
    "from sklearn.preprocessing import StandardScaler\n",
    "from sklearn.svm import SVC\n",
    "from sklearn.metrics import accuracy_score\n",
    "from sklearn.linear_model import LogisticRegression\n",
    "from sklearn.linear_model import LinearRegression\n",
    "from sklearn import linear_model\n",
    "from sklearn import tree\n",
    "from sklearn import metrics\n",
    "from sklearn.linear_model import SGDRegressor\n",
    "from sklearn.metrics import confusion_matrix\n",
    "import joblib"
   ]
  },
  {
   "cell_type": "markdown",
   "id": "304481fd-1b80-4201-8a00-235df66c07ad",
   "metadata": {},
   "source": [
    "## Importing and loading data\n",
    "Here we take data from hardcoded paths. This can be changed later, but this is a proof of concept about our specific datasets at this point- not something for all scientists everywhere to use without modifying."
   ]
  },
  {
   "cell_type": "code",
   "execution_count": null,
   "id": "b9b5efb2-32ab-43e8-ba45-221f6b77ca1e",
   "metadata": {
    "tags": []
   },
   "outputs": [],
   "source": [
    "root_data_path =\"C:/Projects/brainspin/not_pushed/data_anonymized/assembled\"\n",
    "TOP_data       = os.path.join(root_data_path,'top_stitched.csv') \n",
    "StrokeMRI_data = os.path.join(root_data_path,'StrokeMRI_stitched.csv')\n",
    "Insight46_data = os.path.join(root_data_path,'Insight46_stitched.csv')\n",
    "\n",
    "TOP_frame = pd.read_csv(TOP_data)\n",
    "StrokeMRI_frame = pd.read_csv(StrokeMRI_data)\n",
    "Insight46_frame = pd.read_csv(Insight46_data)"
   ]
  },
  {
   "cell_type": "markdown",
   "id": "e6e99544-5a48-4e81-998b-f81c305ce1ce",
   "metadata": {
    "tags": []
   },
   "source": [
    "## Examining relationships in data\n",
    "\n",
    "Here we will seperate a subset of variables earlier experiments and clinical\n",
    "logic have shown to be of interest, then show heatmaps, and also examine plots."
   ]
  },
  {
   "cell_type": "code",
   "execution_count": null,
   "id": "20e4f30c-e00a-4eb4-a434-deb57f12772b",
   "metadata": {
    "tags": []
   },
   "outputs": [],
   "source": [
    "#TOP_frame.columns"
   ]
  },
  {
   "cell_type": "code",
   "execution_count": null,
   "id": "05d59b08-7212-4d69-9772-814ba69f54da",
   "metadata": {},
   "outputs": [],
   "source": []
  },
  {
   "cell_type": "code",
   "execution_count": null,
   "id": "dc85482f-eef2-431d-83c5-50e07dff1a4a",
   "metadata": {
    "tags": []
   },
   "outputs": [],
   "source": [
    "TOP_small_frame = TOP_frame[['Age','Sex','GM_ICVRatio', 'GMWM_ICVRatio','WMH_vol', 'WMH_count',]]\n",
    "StrokeMRI_small_frame = StrokeMRI_frame[['Age','Sex','GM_ICVRatio', 'GMWM_ICVRatio','WMH_vol', 'WMH_count',]]\n",
    "Insight46_small_frame = Insight46_frame[['Age','Sex','GM_ICVRatio', 'GMWM_ICVRatio','WMH_vol', 'WMH_count',]]"
   ]
  },
  {
   "cell_type": "code",
   "execution_count": null,
   "id": "cbe9542c-0c7f-49d2-ad2d-f9b8fd467c60",
   "metadata": {
    "tags": []
   },
   "outputs": [],
   "source": [
    "#StrokeMRI_small_frame.head(3)"
   ]
  },
  {
   "cell_type": "code",
   "execution_count": null,
   "id": "3ab2bf10-e17b-49ed-9cfe-b289e85c2dee",
   "metadata": {
    "tags": []
   },
   "outputs": [],
   "source": [
    "#Insight46_small_frame.head(3)"
   ]
  },
  {
   "cell_type": "code",
   "execution_count": null,
   "id": "87ac08c7-4100-4cae-a9c5-c01e8f326b22",
   "metadata": {
    "tags": []
   },
   "outputs": [],
   "source": [
    "#TOP_small_frame.head(3)"
   ]
  },
  {
   "cell_type": "markdown",
   "id": "b80a078d-7cc4-4448-8f19-42416d5bb177",
   "metadata": {},
   "source": [
    "After examining the datasets we see there are small adjustments i.e. we must drop the NaN containing rows, and one moved header row from the top dataaset."
   ]
  },
  {
   "cell_type": "code",
   "execution_count": null,
   "id": "0b518d75-a4ff-432d-80b2-1aab8621b361",
   "metadata": {
    "tags": []
   },
   "outputs": [],
   "source": [
    "TOP_small_frame = TOP_small_frame[1:]\n",
    "TOP_small_frame = TOP_small_frame.dropna()\n",
    "StrokeMRI_small_frame = StrokeMRI_small_frame.dropna()\n",
    "Insight46_small_frame = Insight46_small_frame.dropna()"
   ]
  },
  {
   "cell_type": "code",
   "execution_count": null,
   "id": "c96a3965-6657-436a-98e9-af48c33d71be",
   "metadata": {
    "tags": []
   },
   "outputs": [],
   "source": [
    "TOP_small_frame = TOP_small_frame.apply( pd.to_numeric)\n",
    "StrokeMRI_small_frame = StrokeMRI_small_frame.apply(pd.to_numeric)\n",
    "Insight46_small_frame = Insight46_small_frame.apply(pd.to_numeric)\n"
   ]
  },
  {
   "cell_type": "code",
   "execution_count": null,
   "id": "89863790-f621-4a3c-a7e2-bac2edb4eabd",
   "metadata": {},
   "outputs": [],
   "source": [
    "%matplotlib inline\n",
    "seaborn.heatmap(TOP_small_frame.corr(), annot = True)"
   ]
  },
  {
   "cell_type": "code",
   "execution_count": null,
   "id": "40030460-1deb-4d17-80fb-3bf8143a88e5",
   "metadata": {
    "tags": []
   },
   "outputs": [],
   "source": [
    "%matplotlib inline\n",
    "seaborn.heatmap(Insight46_small_frame.corr(), annot = True)"
   ]
  },
  {
   "cell_type": "code",
   "execution_count": null,
   "id": "f758a00f-2c55-498f-ae65-1c5b1acbe00e",
   "metadata": {
    "tags": []
   },
   "outputs": [],
   "source": [
    "%matplotlib inline\n",
    "seaborn.heatmap(StrokeMRI_small_frame.corr(), annot = True)"
   ]
  },
  {
   "cell_type": "markdown",
   "id": "1cc40174-5743-4d22-90de-d07343339c29",
   "metadata": {},
   "source": [
    "So we see that in the StrokeMRI dataset and the TOP datasets there is strong negative correlation beweeen age and brain size relative to crainial volume. There is a postiive correlation between age and volume and count of white matter hyperintensities. The insight 46 dataset does not have these expected correlations. Let's examine a bit further"
   ]
  },
  {
   "cell_type": "code",
   "execution_count": null,
   "id": "30b53165-a809-4915-999c-a381f7327f09",
   "metadata": {
    "tags": []
   },
   "outputs": [],
   "source": [
    "Insight46_small_frame.describe()"
   ]
  },
  {
   "cell_type": "markdown",
   "id": "9cc1de47-e664-41e3-8cc4-e74062696666",
   "metadata": {},
   "source": [
    "OK....the Insight46 dataset (or what is left when we get rid of NaN containing rows) basically has very little variance in age... so the results are not so strange after all."
   ]
  },
  {
   "cell_type": "markdown",
   "id": "7bce4b7a-3bc1-419e-a218-3a9a4a93774a",
   "metadata": {},
   "source": [
    "## Model makeing and saving\n",
    "We will make a model on the TOP dataset and save it."
   ]
  },
  {
   "cell_type": "code",
   "execution_count": null,
   "id": "34cd5509-1ad3-4e6a-bf87-2545c97c53b5",
   "metadata": {
    "tags": []
   },
   "outputs": [],
   "source": [
    "ml_matrix = TOP_small_frame.copy()\n",
    "X = ml_matrix.drop('Age', axis =1)\n"
   ]
  },
  {
   "cell_type": "code",
   "execution_count": null,
   "id": "55d8ab97-b971-462b-a8ab-97eceb518736",
   "metadata": {
    "tags": []
   },
   "outputs": [],
   "source": [
    "y = ml_matrix['Age']\n",
    "#y=y.astype('int')"
   ]
  },
  {
   "cell_type": "code",
   "execution_count": null,
   "id": "f0f98fd1-f267-43a2-81ec-871d925aeaf5",
   "metadata": {
    "tags": []
   },
   "outputs": [],
   "source": [
    "#y"
   ]
  },
  {
   "cell_type": "code",
   "execution_count": null,
   "id": "7b94c388-3508-4cfb-99bb-bcaf3f9f8f77",
   "metadata": {
    "tags": []
   },
   "outputs": [],
   "source": [
    "X_train, X_test, y_train, y_test = train_test_split(X, y, test_size=0.2, random_state=42)"
   ]
  },
  {
   "cell_type": "code",
   "execution_count": null,
   "id": "e873777d-fac5-48c4-90d3-af68df2f6894",
   "metadata": {
    "tags": []
   },
   "outputs": [],
   "source": [
    "X_train.shape"
   ]
  },
  {
   "cell_type": "code",
   "execution_count": null,
   "id": "c8f5d50d-39be-4dc1-9b89-7135e542eea7",
   "metadata": {
    "tags": []
   },
   "outputs": [],
   "source": [
    "# # scale\n",
    "# sc = StandardScaler()\n",
    "# sc.fit(X_train)\n",
    "# X_train = sc.transform(X_train)\n",
    "# X_test = sc.transform(X_test)"
   ]
  },
  {
   "cell_type": "code",
   "execution_count": null,
   "id": "fb69111a-f6cc-4611-b2e6-9c00d294eedb",
   "metadata": {
    "tags": []
   },
   "outputs": [],
   "source": [
    "linr = LinearRegression()\n",
    "linr.fit(X_train, y_train)"
   ]
  },
  {
   "cell_type": "code",
   "execution_count": null,
   "id": "5788facb-d4d3-4e7e-9e00-acc0afc1ea40",
   "metadata": {
    "tags": []
   },
   "outputs": [],
   "source": [
    "y_pred = linr.predict(X_test)"
   ]
  },
  {
   "cell_type": "code",
   "execution_count": null,
   "id": "3ae25909-bac7-4c47-9156-b50105021537",
   "metadata": {
    "tags": []
   },
   "outputs": [],
   "source": [
    "\n",
    "print('R2 score : %.3f' % metrics.r2_score(y_test,y_test))\n",
    "print('Explained variance score: %.3f'  % metrics.explained_variance_score(y_test, y_pred))\n",
    "print('Mean absolute error: %.3f'  % metrics.mean_absolute_error(y_test, y_pred))"
   ]
  },
  {
   "cell_type": "markdown",
   "id": "4e4d77b8-6975-42e0-9435-6963d9785c3b",
   "metadata": {
    "tags": []
   },
   "source": [
    "## Important note: results may vary. That is why we save the models. The model saved on 17 June 2023\n",
    "had an MAE of 5.382\n",
    "\n",
    "R2 score: 1\n",
    "Explained variance score: 0.506\n",
    "Mean absolute error: 5.382\n",
    "\n",
    "Saving name was:\n",
    "    '../result_models/T1_obvious4_linearreg_notricks_noints.sav'"
   ]
  },
  {
   "cell_type": "markdown",
   "id": "916bd574-4d01-4ded-a9f9-33d5c8c8666e",
   "metadata": {},
   "source": [
    "Yeah! We have a model than can predict age within 5 years... no fancy k-folding or other optimization tricks...but that will come later."
   ]
  },
  {
   "cell_type": "markdown",
   "id": "96a83eef-d96b-4623-9a38-c97b4145b4ad",
   "metadata": {},
   "source": []
  },
  {
   "cell_type": "code",
   "execution_count": null,
   "id": "b9b16f57-61b4-48d1-9a0c-fabb923541e2",
   "metadata": {
    "tags": []
   },
   "outputs": [],
   "source": [
    "# check if model folder exists and if not , then create\n",
    "model_folder = '../result_models/'\n",
    "if not os.path.exists(model_folder):\n",
    "    os.makedirs(model_folder)"
   ]
  },
  {
   "cell_type": "code",
   "execution_count": null,
   "id": "fdfbe7e0-4c94-4354-beb8-c3e2e97bca45",
   "metadata": {},
   "outputs": [],
   "source": [
    "#file_given_name = input()"
   ]
  },
  {
   "cell_type": "code",
   "execution_count": null,
   "id": "ef2a9181-6a50-43fb-bb73-c304573803b1",
   "metadata": {
    "tags": []
   },
   "outputs": [],
   "source": [
    "# save off file\n",
    "file_given_name = 'T1_obvious4_linearreg_notricks_nointsB'\n",
    "joblib.dump(linr, ('../result_models/' + file_given_name + '.sav'))\n",
    "    "
   ]
  },
  {
   "cell_type": "markdown",
   "id": "3a3298b8-4a5e-42df-b165-92c2a951f0f3",
   "metadata": {},
   "source": [
    "## Now we can apply the model to our other datasets\n",
    "and we will pull it from the saved file because we can (as an example)"
   ]
  },
  {
   "cell_type": "markdown",
   "id": "3a9884e0-0d7e-4c4e-aea9-60b23ae5f49f",
   "metadata": {},
   "source": [
    "let's pickle save as well for convenience"
   ]
  },
  {
   "cell_type": "code",
   "execution_count": null,
   "id": "8e02b08c-0aca-4374-bebd-cf7673d85dd3",
   "metadata": {
    "tags": []
   },
   "outputs": [],
   "source": [
    "import pickle\n",
    "pickle_filename = '../result_models/pickle_T1_obvious4_linearreg_notricks_nointsB.sav'\n",
    "pickle.dump(linr, open(pickle_filename, 'wb'))"
   ]
  },
  {
   "cell_type": "code",
   "execution_count": null,
   "id": "66dbcaf4-85af-4d48-a098-45c3bd59ddc0",
   "metadata": {
    "tags": []
   },
   "outputs": [],
   "source": [
    "model_filename = '../result_models/pickle_T1_obvious4_linearreg_notricks_nointsB.sav'\n",
    "loaded_model = pickle.load(open(model_filename, 'rb'))\n"
   ]
  },
  {
   "cell_type": "raw",
   "id": "f7456ede-d3e6-4772-b721-190f227fa9ba",
   "metadata": {},
   "source": [
    "## Split other datasets \n",
    "We can start with StrokeMRI, we will test train split in case we want to later train on the data and compare"
   ]
  },
  {
   "cell_type": "code",
   "execution_count": null,
   "id": "0e8db6f6-c3c1-460a-b0a1-33162d883ef8",
   "metadata": {
    "tags": []
   },
   "outputs": [],
   "source": [
    "MRIml_matrix = StrokeMRI_small_frame.copy()\n",
    "MRIX = MRIml_matrix.drop('Age', axis =1)\n",
    "\n",
    "\n",
    "len(MRIX)"
   ]
  },
  {
   "cell_type": "code",
   "execution_count": null,
   "id": "83240ffb-db05-4530-804a-e1ecd1850cd7",
   "metadata": {
    "tags": []
   },
   "outputs": [],
   "source": [
    "MRIy = MRIml_matrix['Age']\n",
    "#MRIy=y.astype('float')\n",
    "len(MRIy)"
   ]
  },
  {
   "cell_type": "code",
   "execution_count": null,
   "id": "1ec645e6-dc6f-4005-b55f-887d0d6329f7",
   "metadata": {
    "tags": []
   },
   "outputs": [],
   "source": [
    "MRIX_train, MRIX_test, MRIy_train, MRIy_test = train_test_split(MRIX, MRIy, test_size=0.2, random_state=42)"
   ]
  },
  {
   "cell_type": "markdown",
   "id": "1c8172d4-5e4b-4326-b210-d076d770156d",
   "metadata": {
    "tags": []
   },
   "source": [
    "Here again we will scale, but actually, this is a very bad idea, probably, but this is just a demo"
   ]
  },
  {
   "cell_type": "code",
   "execution_count": null,
   "id": "f4b5c12e-af98-4602-bb33-dd907058d5a0",
   "metadata": {
    "tags": []
   },
   "outputs": [],
   "source": [
    "# # scale\n",
    "# sc = StandardScaler()\n",
    "# sc.fit(MRIX_train)\n",
    "# MRIX_train = sc.transform(MRIX_train)\n",
    "# MRIX_test = sc.transform(MRIX_test)"
   ]
  },
  {
   "cell_type": "code",
   "execution_count": null,
   "id": "9f2aa75b-3ef8-4d51-921a-8eae83f6b021",
   "metadata": {
    "tags": []
   },
   "outputs": [],
   "source": [
    "MRIy_pred = loaded_model.predict(MRIX_test)"
   ]
  },
  {
   "cell_type": "code",
   "execution_count": null,
   "id": "c27d5636-c4c5-41d5-87c6-4018ad3e6e5e",
   "metadata": {
    "tags": []
   },
   "outputs": [],
   "source": [
    "loaded_model"
   ]
  },
  {
   "cell_type": "code",
   "execution_count": null,
   "id": "e0ef9ec7-c903-4cbf-9cca-99ee59152f99",
   "metadata": {
    "tags": []
   },
   "outputs": [],
   "source": [
    "\n",
    "print('R2 score : %.3f' % metrics.r2_score(MRIy_test,MRIy_test))\n",
    "print('Explained variance score: %.3f'  % metrics.explained_variance_score(MRIy_test, MRIy_pred))\n",
    "print('Mean absolute error: %.3f'  % metrics.mean_absolute_error(MRIy_test, MRIy_pred))"
   ]
  },
  {
   "cell_type": "markdown",
   "id": "48be9e4f-94e2-48a6-8475-7958b1154792",
   "metadata": {},
   "source": [
    "Ouch...this hurts...Our model had a relatively large absolute error on the StrokeMRI dataset. It improved with getting rid of scaling. "
   ]
  },
  {
   "cell_type": "markdown",
   "id": "3d70b521-2119-41f5-9567-0a33aaef7cd1",
   "metadata": {},
   "source": [
    "This makes sense as the means of X were different. We bmust however ask if these numbers should be different- or whether they should be normalized. This tsv normalization is a possible next step."
   ]
  },
  {
   "cell_type": "markdown",
   "id": "f5ff3463-41a7-432a-9974-c15da801a0e9",
   "metadata": {},
   "source": [
    "# Trying it on the final dataset:"
   ]
  },
  {
   "cell_type": "code",
   "execution_count": null,
   "id": "4fcbc475-bfeb-45c1-abae-850a3f1b1a7a",
   "metadata": {
    "tags": []
   },
   "outputs": [],
   "source": [
    "Insight46ml_matrix = Insight46_small_frame.copy()\n",
    "Insight46X = Insight46ml_matrix.drop('Age', axis =1)\n",
    "len(Insight46X)"
   ]
  },
  {
   "cell_type": "code",
   "execution_count": null,
   "id": "24d91b15-7382-45a3-8507-72b9a631cab9",
   "metadata": {
    "tags": []
   },
   "outputs": [],
   "source": [
    "Insight46y = Insight46ml_matrix['Age']\n",
    "\n",
    "len(Insight46y)"
   ]
  },
  {
   "cell_type": "code",
   "execution_count": null,
   "id": "bf6f22e3-2e58-4a8c-99f4-28555f38a72e",
   "metadata": {
    "tags": []
   },
   "outputs": [],
   "source": [
    "Insight46X_train, Insight46X_test, Insight46y_train, Insight46y_test = train_test_split(Insight46X, Insight46y, test_size=0.2, random_state=42)"
   ]
  },
  {
   "cell_type": "code",
   "execution_count": null,
   "id": "5d3f6a3b-dee0-4514-92fe-f9a810da8d88",
   "metadata": {
    "tags": []
   },
   "outputs": [],
   "source": [
    "Insight46y_pred = loaded_model.predict(Insight46X_test)"
   ]
  },
  {
   "cell_type": "code",
   "execution_count": null,
   "id": "d37b11e0-eda1-48dc-9fc2-4c835fdbfa5e",
   "metadata": {
    "tags": []
   },
   "outputs": [],
   "source": [
    "\n",
    "print('R2 score : %.3f' % metrics.r2_score(Insight46y_test,Insight46y_test))\n",
    "print('Explained variance score: %.3f'  % metrics.explained_variance_score(Insight46y_test, Insight46y_pred))\n",
    "print('Mean absolute error: %.3f'  % metrics.mean_absolute_error(Insight46y_test, Insight46y_pred))"
   ]
  },
  {
   "cell_type": "markdown",
   "id": "d4da2c9d-72ac-405c-867b-8f27feb25850",
   "metadata": {
    "tags": []
   },
   "source": [
    "The model does even worse on the Insight 46 data. Needs disucssion with scientists about direction for a stronger model"
   ]
  },
  {
   "cell_type": "markdown",
   "id": "d8aec66f-ed67-4cf3-8abf-7116cb477c78",
   "metadata": {},
   "source": [
    "I would suggest a full dataset of all dataset for training, and kfold methods, also a fancier linear regression; but only after data cleaning with scientists "
   ]
  },
  {
   "cell_type": "markdown",
   "id": "4eb4ce68-b64d-4a0d-b81c-d439fc5bbba2",
   "metadata": {},
   "source": [
    "Now let's move on and try KNn"
   ]
  },
  {
   "cell_type": "code",
   "execution_count": null,
   "id": "d4667d68-e93b-4a5f-b488-296b396da4d4",
   "metadata": {
    "tags": []
   },
   "outputs": [],
   "source": [
    "from sklearn.neighbors import KNeighborsRegressor\n",
    "\n",
    "neigh = KNeighborsRegressor(n_neighbors=5)"
   ]
  },
  {
   "cell_type": "code",
   "execution_count": null,
   "id": "b5b2d3b5-3726-483a-ad3c-965cd4697fb2",
   "metadata": {
    "tags": []
   },
   "outputs": [],
   "source": [
    "neigh.fit(X_train, y_train)"
   ]
  },
  {
   "cell_type": "code",
   "execution_count": null,
   "id": "e493b810-3d75-4622-93f0-2b6e69814cab",
   "metadata": {
    "tags": []
   },
   "outputs": [],
   "source": [
    "y_pred = nearn.predict(X_test)"
   ]
  },
  {
   "cell_type": "code",
   "execution_count": null,
   "id": "46406fec-1601-47e3-8dd4-952529050fa5",
   "metadata": {
    "tags": []
   },
   "outputs": [],
   "source": [
    "\n",
    "print('R2 score : %.3f' % metrics.r2_score(y_test,y_test))\n",
    "print('Explained variance score: %.3f'  % metrics.explained_variance_score(y_test, y_pred))\n",
    "print('Mean absolute error: %.3f'  % metrics.mean_absolute_error(y_test, y_pred))"
   ]
  },
  {
   "cell_type": "code",
   "execution_count": null,
   "id": "7d33c345-9742-4103-bb8d-29d64fe9aee6",
   "metadata": {
    "tags": []
   },
   "outputs": [],
   "source": [
    "# Looks bad, but let's continue\n",
    "Insight46y_pred = nearn.predict(Insight46X_test)"
   ]
  },
  {
   "cell_type": "code",
   "execution_count": null,
   "id": "9487d2ef-8412-4d2f-87bc-a95fb9149ef1",
   "metadata": {
    "tags": []
   },
   "outputs": [],
   "source": [
    "\n",
    "print('R2 score : %.3f' % metrics.r2_score(Insight46y_test,Insight46y_test))\n",
    "print('Explained variance score: %.3f'  % metrics.explained_variance_score(Insight46y_test, Insight46y_pred))\n",
    "print('Mean absolute error: %.3f'  % metrics.mean_absolute_error(Insight46y_test, Insight46y_pred))"
   ]
  },
  {
   "cell_type": "markdown",
   "id": "a058dd51-1615-4d8e-a453-b9809f67182b",
   "metadata": {},
   "source": [
    "## how depressing., let's just stop here for now. Note we need to lookat code for R2 score. It seems wrong."
   ]
  }
 ],
 "metadata": {
  "kernelspec": {
   "display_name": "Python 3 (ipykernel)",
   "language": "python",
   "name": "python3"
  },
  "language_info": {
   "codemirror_mode": {
    "name": "ipython",
    "version": 3
   },
   "file_extension": ".py",
   "mimetype": "text/x-python",
   "name": "python",
   "nbconvert_exporter": "python",
   "pygments_lexer": "ipython3",
   "version": "3.9.16"
  }
 },
 "nbformat": 4,
 "nbformat_minor": 5
}
