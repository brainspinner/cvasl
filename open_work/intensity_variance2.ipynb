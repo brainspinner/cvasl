{
 "cells": [
  {
   "cell_type": "markdown",
   "metadata": {},
   "source": [
    "# Intensity variance issues across datasets: an exploration"
   ]
  },
  {
   "cell_type": "markdown",
   "metadata": {},
   "source": [
    "Intensity may vary across different datasets, and it may vary differently on different tissues. In the simplest case scenario of intensity vairnace across daatasets some are simply lighter than others. What we could expect is more complicated. Some MRI machines may match each other in intensity on some materials i.e. air; but not others i.e. certain tissues. \n",
    "We can automatically set the \"air\" around a brain MRI to zero, however the question of matching intensities in the tissues remains,\n",
    "This notebook represents initial approaches to the problem. An augemented group of datasets of can be created, which do not match in intensity distribution, and then remapped.  "
   ]
  },
  {
   "cell_type": "markdown",
   "metadata": {},
   "source": [
    "### Imports\n",
    "The data will be processed using the libraries and modules below:"
   ]
  },
  {
   "cell_type": "code",
   "execution_count": null,
   "metadata": {
    "tags": []
   },
   "outputs": [],
   "source": [
    "import os       # using operating system dependent functionality (folders)\n",
    "import glob\n",
    "import pandas as pd # data analysis and manipulation\n",
    "import numpy as np    # numerical computing (manipulating and performing operations on arrays of data)\n",
    "import copy     # Can Copy and Deepcopy files so original file is untouched.\n",
    "from ipywidgets import IntSlider, Output\n",
    "import ipywidgets as widgets\n",
    "from IPython.display import display\n",
    "import matplotlib.pyplot as plt\n",
    "import SimpleITK as sitk\n",
    "import skimage\n",
    "#import hashlib\n",
    "import sys\n",
    "sys.path.insert(0, '../') # path to functions\n",
    "from cvasl import file_handler as fh # \n",
    "from cvasl import mold #\n",
    "from cvasl import carve\n",
    "from cvasl.file_handler import Config"
   ]
  },
  {
   "cell_type": "markdown",
   "metadata": {},
   "source": [
    "### Load image files\n",
    "Use the config pathways for the different datasets, then view one image as an example."
   ]
  },
  {
   "cell_type": "code",
   "execution_count": null,
   "metadata": {
    "tags": []
   },
   "outputs": [],
   "source": [
    "config = Config.from_file()\n",
    "root_mri_directory = config.get_directory('raw_data')"
   ]
  },
  {
   "cell_type": "code",
   "execution_count": null,
   "metadata": {
    "tags": []
   },
   "outputs": [],
   "source": [
    "mri_pattern = os.path.join(root_mri_directory, '**/*.gz')\n",
    "gz_files = glob.glob(mri_pattern, recursive=True)"
   ]
  },
  {
   "cell_type": "code",
   "execution_count": null,
   "metadata": {
    "tags": []
   },
   "outputs": [],
   "source": [
    "gz_files"
   ]
  },
  {
   "cell_type": "code",
   "execution_count": null,
   "metadata": {
    "tags": []
   },
   "outputs": [],
   "source": [
    "# an example path to an mrid brain .nii image:\n",
    "t1_fn = gz_files[0]\n",
    "# read the .nii image containing the volume with SimpleITK:\n",
    "sitk_t1 = sitk.ReadImage(t1_fn)\n",
    "# and access the numpy array:\n",
    "t1 = sitk.GetArrayFromImage(sitk_t1)\n",
    "# now display it\n",
    "mold.SliceViewer(t1)"
   ]
  },
  {
   "cell_type": "markdown",
   "metadata": {
    "tags": []
   },
   "source": [
    "### Create augmented datasets\n",
    "Here we will copy our base dataset to create two seperate datasets which we will change in terms of intensity values."
   ]
  },
  {
   "cell_type": "code",
   "execution_count": null,
   "metadata": {
    "tags": []
   },
   "outputs": [],
   "source": [
    "# just make two identical array sets\n",
    "arrays_dataset_1 = []\n",
    "arrays_dataset_2 = []\n",
    "names = []\n",
    "together = []\n",
    "together_2 = []\n",
    "for file in gz_files:\n",
    "    read_file = sitk.ReadImage(file)\n",
    "    arrayed_file = sitk.GetArrayFromImage(read_file)\n",
    "    arrays_dataset_1.append(arrayed_file)\n",
    "    arrays_dataset_2.append(arrayed_file)\n",
    "    names.append(file)\n",
    "    together.append((file, arrayed_file))\n",
    "    together_2.append((file, arrayed_file))"
   ]
  },
  {
   "cell_type": "code",
   "execution_count": null,
   "metadata": {
    "tags": []
   },
   "outputs": [],
   "source": [
    "# show example of first in array_dataset\n",
    "plt.hist(together[0][1].ravel(),425,[-175,252])\n",
    "plt.title(together[0][0])\n",
    "plt.show()\n"
   ]
  },
  {
   "cell_type": "markdown",
   "metadata": {},
   "source": [
    "OK, but let's see what scale these were all on, before we go further"
   ]
  },
  {
   "cell_type": "code",
   "execution_count": null,
   "metadata": {
    "tags": []
   },
   "outputs": [],
   "source": [
    "for image in arrays_dataset_1:\n",
    "    print(image.min(), image.max(), image.shape[0]*image.shape[1]*image.shape[2])"
   ]
  },
  {
   "cell_type": "markdown",
   "metadata": {},
   "source": [
    "So our pixel values were set in floating points ranging from -177 to over 4000, and some images are very large. This richness of information is something we probably want to keep. "
   ]
  },
  {
   "cell_type": "markdown",
   "metadata": {
    "tags": []
   },
   "source": [
    "### Creating an artificially darker and/or transformed datasets"
   ]
  },
  {
   "cell_type": "markdown",
   "metadata": {},
   "source": [
    "Create transformer equasions grooup:"
   ]
  },
  {
   "cell_type": "code",
   "execution_count": null,
   "metadata": {
    "tags": []
   },
   "outputs": [],
   "source": [
    "def transformer_equasion1(pixvals):\n",
    "    pixvals = ((pixvals - pixvals.min()) / (pixvals.max()-pixvals.min())) * 100\n",
    "    return pixvals\n",
    "def transformer_equasion2(pixvals):\n",
    "    pixvals[pixvals>125]-=100\n",
    "    return pixvals"
   ]
  },
  {
   "cell_type": "markdown",
   "metadata": {},
   "source": [
    "Apply trasnformer equasions to create different groups of images"
   ]
  },
  {
   "cell_type": "code",
   "execution_count": null,
   "metadata": {
    "tags": []
   },
   "outputs": [],
   "source": [
    "darker_images = []\n",
    "original_images = []\n",
    "new_vals_images = []\n",
    "for name, image in together_2:\n",
    "    image= skimage.exposure.rescale_intensity(image, out_range=(0, 256))\n",
    "    pixvals = image.copy()\n",
    "    new_vals = transformer_equasion2(pixvals)\n",
    "    pixvals = transformer_equasion1(pixvals)\n",
    "    new_vals_images.append((name, new_vals))\n",
    "    darker_images.append((name, pixvals))\n",
    "    original_images.append((name, image))"
   ]
  },
  {
   "cell_type": "code",
   "execution_count": null,
   "metadata": {
    "tags": []
   },
   "outputs": [],
   "source": [
    "list_of_numbers_strung = []\n",
    "for i in range(len(darker_images)):\n",
    "    list_of_numbers_strung.append(str(i))\n",
    "\n",
    "\n",
    "btn = widgets.Dropdown(\n",
    "    options=list_of_numbers_strung,\n",
    "    value='0',\n",
    "    description='Picked File:',\n",
    "    disabled=False,\n",
    ")\n",
    "display(btn)"
   ]
  },
  {
   "cell_type": "code",
   "execution_count": null,
   "metadata": {
    "tags": []
   },
   "outputs": [],
   "source": [
    "\n",
    "number_chosen = int(btn.value)\n",
    "darker_chosen = darker_images[number_chosen]\n",
    "original_chosen = original_images[number_chosen]\n",
    "new_vals_chosen = new_vals_images[number_chosen]\n",
    "print(\"The files you chose are based on:\\n\", original_chosen[0])"
   ]
  },
  {
   "cell_type": "code",
   "execution_count": null,
   "metadata": {
    "tags": []
   },
   "outputs": [],
   "source": [
    "plt.hist(darker_chosen[1].ravel(),bins=100,range=  [0,255], alpha = 0.5, color= \"orange\")\n",
    "plt.hist(new_vals_chosen[1].ravel(),bins=100,range=[0,255], alpha = 0.5, color = \"blue\")\n",
    "plt.hist(original_chosen[1].ravel(),bins=100,range=[0,255], alpha = 0.5, color = \"red\")\n",
    "plt.title(\"Comparing histograms, original in red\")\n",
    "plt.show()\n"
   ]
  },
  {
   "cell_type": "code",
   "execution_count": null,
   "metadata": {
    "tags": []
   },
   "outputs": [],
   "source": [
    "# display orgiginal\n",
    "mold.SliceViewer(original_chosen[1])"
   ]
  },
  {
   "cell_type": "code",
   "execution_count": null,
   "metadata": {
    "tags": []
   },
   "outputs": [],
   "source": [
    "# display first transforemd\n",
    "mold.SliceViewer(darker_chosen[1])"
   ]
  },
  {
   "cell_type": "code",
   "execution_count": null,
   "metadata": {
    "tags": []
   },
   "outputs": [],
   "source": [
    "#  display second transformed\n",
    "mold.SliceViewer(new_vals_chosen[1])"
   ]
  },
  {
   "cell_type": "markdown",
   "metadata": {},
   "source": [
    "Now we need to save off our files so we can do a group analysus"
   ]
  }
 ],
 "metadata": {
  "kernelspec": {
   "display_name": "Python 3 (ipykernel)",
   "language": "python",
   "name": "python3"
  },
  "language_info": {
   "codemirror_mode": {
    "name": "ipython",
    "version": 3
   },
   "file_extension": ".py",
   "mimetype": "text/x-python",
   "name": "python",
   "nbconvert_exporter": "python",
   "pygments_lexer": "ipython3",
   "version": "3.9.16"
  }
 },
 "nbformat": 4,
 "nbformat_minor": 4
}
