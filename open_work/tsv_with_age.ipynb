{
 "cells": [
  {
   "cell_type": "markdown",
   "id": "a6fec917-48cc-4817-866f-18765dfb1a9b",
   "metadata": {},
   "source": [
    "# Exploring TSV files`"
   ]
  },
  {
   "cell_type": "markdown",
   "id": "2555294b-361f-4c7b-9ad3-10d856c2026c",
   "metadata": {},
   "source": [
    "### Imports"
   ]
  },
  {
   "cell_type": "code",
   "execution_count": null,
   "id": "00118c2d-23b6-4b35-bdf7-6e262ea1b0f5",
   "metadata": {},
   "outputs": [],
   "source": [
    "import os       # using operating system dependent functionality (folders)\n",
    "import glob\n",
    "import pandas as pd # data analysis and manipulation\n",
    "import numpy as np    # numerical computing (manipulating and performing operations on arrays of data)\n",
    "# import copy     # Can Copy and Deepcopy files so original file is untouched.\n",
    "# from ipywidgets import IntSlider, Output\n",
    "import ipywidgets as widgets\n",
    "# from IPython.display import display\n",
    "import matplotlib.pyplot as plt\n",
    "import seaborn as sns\n",
    "\n",
    "import sys\n",
    "sys.path.insert(0, '../') # path to functions\n",
    "from cvasl import file_handler as fh # \n",
    "from cvasl import mold #\n",
    "from cvasl import carve\n",
    "from cvasl.file_handler import Config"
   ]
  },
  {
   "cell_type": "markdown",
   "id": "45184ed6-98b1-4278-803e-3f5e5a86b606",
   "metadata": {},
   "source": [
    "### Configure data"
   ]
  },
  {
   "cell_type": "code",
   "execution_count": null,
   "id": "65589de5-a6a2-4bb7-a62e-f2efc73551c1",
   "metadata": {},
   "outputs": [],
   "source": [
    "config = Config.from_file()\n",
    "root_mri_directory = config.get_directory('raw_data')"
   ]
  },
  {
   "cell_type": "markdown",
   "id": "e5820c2d-4dd3-4d6f-a9d8-e46de3931144",
   "metadata": {
    "tags": []
   },
   "source": [
    "### Load tsv files"
   ]
  },
  {
   "cell_type": "code",
   "execution_count": null,
   "id": "9c8a0b2f-7fb6-4dda-bc9c-b12cf34d4b3b",
   "metadata": {
    "tags": []
   },
   "outputs": [],
   "source": [
    "tsv_pattern = os.path.join(root_mri_directory, '**/*.tsv')\n",
    "tsv_files = glob.glob(tsv_pattern, recursive=True)"
   ]
  },
  {
   "cell_type": "markdown",
   "id": "1afaca8a-d28c-47e2-9864-8e0b6edd132b",
   "metadata": {},
   "source": [
    "### check tsv files \n",
    "Optional commented out"
   ]
  },
  {
   "cell_type": "code",
   "execution_count": null,
   "id": "2733448f-67bd-4058-83ca-24c8e45b4a6d",
   "metadata": {
    "tags": []
   },
   "outputs": [],
   "source": [
    "dataframe_example = pd.read_csv(tsv_files[0], sep='\\t', header=[0,1])"
   ]
  },
  {
   "cell_type": "code",
   "execution_count": null,
   "id": "985b16ed-5b4e-4eee-a757-ef8584aa5cbd",
   "metadata": {
    "tags": []
   },
   "outputs": [],
   "source": [
    "dataframe_example"
   ]
  },
  {
   "cell_type": "code",
   "execution_count": null,
   "id": "bf95b2ec-2a05-4902-8c8d-5c8aaa5a150e",
   "metadata": {
    "tags": []
   },
   "outputs": [],
   "source": [
    "dataframe_example.columns"
   ]
  },
  {
   "cell_type": "code",
   "execution_count": null,
   "id": "f3a33cc6-fad8-468d-a07f-1c04d6f854cb",
   "metadata": {},
   "outputs": [],
   "source": []
  },
  {
   "cell_type": "code",
   "execution_count": null,
   "id": "2cd4b7e4-1bc8-4b2b-b263-b2dcfb449b76",
   "metadata": {
    "tags": []
   },
   "outputs": [],
   "source": [
    "## check tsv file diversity\n",
    "#tsv_files"
   ]
  },
  {
   "cell_type": "markdown",
   "id": "7c542a6d-bf76-4f79-805b-398de498d57c",
   "metadata": {},
   "source": [
    "### Adding age to analysis"
   ]
  },
  {
   "cell_type": "markdown",
   "id": "e9a8d2e2-3780-440b-bcaa-f0d618f5a90e",
   "metadata": {},
   "source": [
    "Now we want to take the csv file with age and add it to the analysis.\n",
    "For now we will hard-code the path, until we decide whether this should be part of the initialized setup on the config file"
   ]
  },
  {
   "cell_type": "code",
   "execution_count": null,
   "id": "04937f0a-53ef-4db1-8874-cb4aa9216e59",
   "metadata": {
    "tags": []
   },
   "outputs": [],
   "source": [
    "age_csv_place = \"C:/Projects/brainspin/age_data\"\n",
    "age_csv_pattern = os.path.join(age_csv_place, '**/*.csv')\n",
    "age_csv_files = glob.glob(age_csv_pattern, recursive=True)\n",
    "age_dataframe_example1 = pd.read_csv(age_csv_files[0])\n",
    "age_dataframe_example2 = pd.read_csv(age_csv_files[1])\n",
    "age_dataframe_example3 = pd.read_csv(age_csv_files[2])"
   ]
  },
  {
   "cell_type": "code",
   "execution_count": null,
   "id": "5ca9f7ab-6a07-4d7b-a2ff-6be8e6ce8677",
   "metadata": {
    "tags": []
   },
   "outputs": [],
   "source": [
    "# superset of ages....must normalize column names and values\n",
    "age_dataframe_example1 = age_dataframe_example1.rename(columns={\"ageatscandate_i46p1\": \"age\",\"participant ID\": \"participant_id\"})\n",
    "age_dataframe_example2 = age_dataframe_example2.rename(columns={\"Age\": \"age\",\"ID\": \"participant_id\", \"Sex\":\"sex\"})\n",
    "age_dataframe_example3 = age_dataframe_example3.rename(columns={\"Age\": \"age\",\"ID\": \"participant_id\", \"Sex\":\"sex\"})\n",
    "age_dataframe_example3 = age_dataframe_example3.drop(\"TP\", axis=1)"
   ]
  },
  {
   "cell_type": "code",
   "execution_count": null,
   "id": "ab24aacc-2967-441a-9fa1-5f087ab3191d",
   "metadata": {
    "tags": []
   },
   "outputs": [],
   "source": [
    "# stack on top of each otehr\n",
    "frames = [age_dataframe_example1, age_dataframe_example2, age_dataframe_example3]\n",
    "super_age_set = pd.concat(frames)\n",
    "super_age_set"
   ]
  },
  {
   "cell_type": "markdown",
   "id": "e3c3423a-7446-4152-9233-3df69bb09c19",
   "metadata": {},
   "source": [
    "### Analysis"
   ]
  },
  {
   "cell_type": "markdown",
   "id": "2a16340a-2c7e-48b9-8ff3-814f22e5cced",
   "metadata": {},
   "source": [
    "Without the subject ages we can not do an analysis on anything except how subjects progress over time points, and how various parameters predict each other. But let's scan all the tev we were given to see if we have ones with age. "
   ]
  },
  {
   "cell_type": "markdown",
   "id": "b20c8a1b-aae1-4e6d-a164-c4a829ad16df",
   "metadata": {},
   "source": [
    "#### Correlations within datasets:"
   ]
  },
  {
   "cell_type": "markdown",
   "id": "e71c6544-2e48-46dc-a927-777489a088d0",
   "metadata": {},
   "source": []
  },
  {
   "cell_type": "markdown",
   "id": "2c96de30-9010-4aba-974a-7149f117f8f8",
   "metadata": {},
   "source": [
    "So now we can make a super-dataset of all the datasets, and see if these correlations hold. "
   ]
  },
  {
   "cell_type": "code",
   "execution_count": null,
   "id": "12bf99db-96b7-4901-9b20-712cab19c466",
   "metadata": {
    "tags": []
   },
   "outputs": [],
   "source": [
    "dataframe_example2 = pd.read_csv(tsv_files[1], sep='\\t')\n",
    "dataframe_example2.columns.to_list()"
   ]
  },
  {
   "cell_type": "markdown",
   "id": "caf537e8-fbdd-49f5-9d81-cb2df5a1c0a5",
   "metadata": {},
   "source": [
    "More elements than first...let's see what we have in common between the two tsv:"
   ]
  },
  {
   "cell_type": "code",
   "execution_count": null,
   "id": "47f6dec4-a4f7-4abb-959c-858c501f2969",
   "metadata": {
    "tags": []
   },
   "outputs": [],
   "source": [
    "first = set(dataframe_example.columns.to_list())\n",
    "second = set(dataframe_example2.columns.to_list())"
   ]
  },
  {
   "cell_type": "code",
   "execution_count": null,
   "id": "635f76b0-4ff2-42fc-ad48-4b31545a4c6d",
   "metadata": {
    "tags": []
   },
   "outputs": [],
   "source": [
    "# not_common2 =  list(set(dataframe_example2.columns.to_list()) - set(dataframe_example.columns.to_list()))"
   ]
  },
  {
   "cell_type": "code",
   "execution_count": null,
   "id": "617e369d-fede-4987-bcc2-12f22543715b",
   "metadata": {
    "tags": []
   },
   "outputs": [],
   "source": [
    "# shared = list(first.intersection(second))\n",
    "# shared"
   ]
  },
  {
   "cell_type": "markdown",
   "id": "4179269c-4fd9-4a0d-97c0-f35876940051",
   "metadata": {},
   "source": [
    "Not a lot...let's look at what we have in common in all or most of the tsv"
   ]
  },
  {
   "cell_type": "code",
   "execution_count": null,
   "id": "f06bc6ab-642a-483c-8422-a699cb0d42de",
   "metadata": {
    "tags": []
   },
   "outputs": [],
   "source": [
    "name_file = []\n",
    "longlesses = []\n",
    "for file in tsv_files:\n",
    "    dataframe_example = pd.read_csv(file, sep='\\t')\n",
    "    longness = len(dataframe_example.columns)\n",
    "    name_file.append(file)\n",
    "    longlesses.append(longness)\n",
    "data_tsv = pd.DataFrame([name_file, longlesses])        \n",
    "print(longlesses)        "
   ]
  },
  {
   "cell_type": "code",
   "execution_count": null,
   "id": "12fa16c5-dd9b-45b2-ae32-9a4b058562ba",
   "metadata": {
    "tags": []
   },
   "outputs": [],
   "source": [
    "data_tsv"
   ]
  },
  {
   "cell_type": "markdown",
   "id": "2e6b7e82-abb2-451e-b922-807038b0a974",
   "metadata": {},
   "source": [
    "So There may be 15 common features on most as a guess. We need to not look at the last on the list."
   ]
  },
  {
   "cell_type": "code",
   "execution_count": null,
   "id": "8cd0160e-0a74-49f2-9a7c-5f33ccb0dd1f",
   "metadata": {
    "tags": []
   },
   "outputs": [],
   "source": [
    "#print(name_file[:-1])"
   ]
  },
  {
   "cell_type": "code",
   "execution_count": null,
   "id": "90d0dd1a-4051-416b-98e4-40303eda9d83",
   "metadata": {
    "tags": []
   },
   "outputs": [],
   "source": [
    "set_of_relevant_files = name_file[:-1]"
   ]
  },
  {
   "cell_type": "code",
   "execution_count": null,
   "id": "0bcbf919-7704-4384-906f-a673b6a8fca0",
   "metadata": {
    "tags": []
   },
   "outputs": [],
   "source": [
    "name_file = []\n",
    "longlesses = []\n",
    "intersections = []\n",
    "len_intersections = []\n",
    "for file in set_of_relevant_files:\n",
    "    dataframe_example = pd.read_csv(file, sep='\\t')\n",
    "    longness = len(dataframe_example.columns)\n",
    "    name_file.append(file)\n",
    "    longlesses.append(longness)\n",
    "    dataframe_example2 = pd.read_csv(file, sep='\\t')\n",
    "    columns = dataframe_example2.columns.to_list()\n",
    "    intersection = set(columns).intersection(second)\n",
    "    intersections.append(intersection)\n",
    "    len_intersections.append(len(intersection))\n",
    "data_tsv = pd.DataFrame([name_file, longlesses, len_intersections, intersections])         "
   ]
  },
  {
   "cell_type": "code",
   "execution_count": null,
   "id": "28d8bcb0-f5b4-4fe2-9c74-0f87613516bc",
   "metadata": {
    "tags": []
   },
   "outputs": [],
   "source": [
    "data_tsv"
   ]
  },
  {
   "cell_type": "markdown",
   "id": "3ca2b855-8e9a-4120-8156-4867cb95b505",
   "metadata": {},
   "source": [
    "So we will have twelve or thireen common elements we can compare.Let's look at hope they are about the same."
   ]
  },
  {
   "cell_type": "code",
   "execution_count": null,
   "id": "5e19bec9-e86c-4f60-a34c-92d3e008c87e",
   "metadata": {
    "tags": []
   },
   "outputs": [],
   "source": [
    "# data_tsv[0][3]"
   ]
  },
  {
   "cell_type": "code",
   "execution_count": null,
   "id": "3dab0ec2-b9ad-47f1-b24d-61889c616dee",
   "metadata": {
    "tags": []
   },
   "outputs": [],
   "source": [
    "#data_tsv[2][3]"
   ]
  },
  {
   "cell_type": "code",
   "execution_count": null,
   "id": "768dee6a-2ac0-461b-9e45-e4afe0848658",
   "metadata": {},
   "outputs": [],
   "source": [
    "#data_tsv[4][3]"
   ]
  },
  {
   "cell_type": "code",
   "execution_count": null,
   "id": "b4a277fc-3176-4229-9b5c-d37deb123a34",
   "metadata": {
    "tags": []
   },
   "outputs": [],
   "source": [
    "#data_tsv[4][3].intersection(data_tsv[2][3]).intersection(data_tsv[0][3]).intersection(data_tsv[5][3]).intersection(data_tsv[3][3]).intersection(data_tsv[6][3]).intersection(data_tsv[7][3])"
   ]
  },
  {
   "cell_type": "markdown",
   "id": "6de707ea-d151-40d5-b829-b808d28958d1",
   "metadata": {},
   "source": [
    "OK, so more or less we should have the above values in every group of tsv in our supergroup.\n",
    "Let's check if we do"
   ]
  },
  {
   "cell_type": "code",
   "execution_count": null,
   "id": "5ffcc918-500c-42fa-b1ce-2eec4120cd53",
   "metadata": {
    "tags": []
   },
   "outputs": [],
   "source": [
    "list_elements = data_tsv[4][3].intersection(data_tsv[2][3]).intersection(data_tsv[0][3]).intersection(data_tsv[5][3]).intersection(data_tsv[3][3]).intersection(data_tsv[6][3]).intersection(data_tsv[7][3])"
   ]
  },
  {
   "cell_type": "code",
   "execution_count": null,
   "id": "228c7d2f-ad47-4bf8-8fce-3767f10f30d3",
   "metadata": {
    "tags": []
   },
   "outputs": [],
   "source": [
    "#list_elements"
   ]
  },
  {
   "cell_type": "code",
   "execution_count": null,
   "id": "fed72c65-c71d-4170-96e4-15b2d726641c",
   "metadata": {
    "tags": []
   },
   "outputs": [],
   "source": [
    "name_file = []\n",
    "longlesses = []\n",
    "good_files = []\n",
    "for file in tsv_files:\n",
    "    dataframe_example = pd.read_csv(file, sep='\\t')\n",
    "    if set(list_elements).issubset(set(dataframe_example.columns.to_list())):\n",
    "                                   good_files.append(file)\n",
    "# print(good_files)        "
   ]
  },
  {
   "cell_type": "code",
   "execution_count": null,
   "id": "f3b7b23e-a781-4c30-8733-951d92d293eb",
   "metadata": {
    "tags": []
   },
   "outputs": [],
   "source": [
    "len(good_files)"
   ]
  },
  {
   "cell_type": "markdown",
   "id": "9923778b-cc8a-4d6a-af9b-9bf1d18dfe25",
   "metadata": {},
   "source": [
    "Here we must say in this set, the set of common elements is about:\n",
    "CSV_vol,  'GMWM_ICVRatio',\n",
    " 'GM_ICVRatio',\n",
    " 'GM_vol',\n",
    " 'LongitudinalTimePoint',\n",
    " 'MeanMotion',\n",
    " 'Site',\n",
    " 'SubjectNList',\n",
    " 'WMH_count',\n",
    " 'WMH_vol',\n",
    " 'WM_vol',\n",
    " 'participant_id',\n",
    " 'session'\n",
    " \n",
    " However we need something to extract the common set from any group of tsv columns"
   ]
  },
  {
   "cell_type": "code",
   "execution_count": null,
   "id": "3a8c8f69-6cff-4542-a827-9f25ed76f3f4",
   "metadata": {
    "tags": []
   },
   "outputs": [],
   "source": [
    "a = fh.extract_common_columns(good_files)"
   ]
  },
  {
   "cell_type": "code",
   "execution_count": null,
   "id": "67785d2c-56b1-4390-918a-a30544f2a374",
   "metadata": {
    "tags": []
   },
   "outputs": [],
   "source": [
    "good_columns_sets = fh.intersect_all(*a)"
   ]
  },
  {
   "cell_type": "markdown",
   "id": "6c08cdfa-46b0-4f82-bb15-dc603923aa03",
   "metadata": {
    "tags": []
   },
   "source": [
    "Now we make our super tsv file"
   ]
  },
  {
   "cell_type": "code",
   "execution_count": null,
   "id": "daf52e0d-d7ae-4213-9340-16244ac6bc82",
   "metadata": {
    "tags": []
   },
   "outputs": [],
   "source": [
    "good_columns_list = list(a)\n",
    "good_columns_list"
   ]
  },
  {
   "cell_type": "markdown",
   "id": "2439790c-74a4-423c-a785-6ac620b464af",
   "metadata": {
    "tags": []
   },
   "source": [
    "Here we see that every file should have participant_id. "
   ]
  },
  {
   "cell_type": "code",
   "execution_count": null,
   "id": "184ebdfc-4bbb-4d5d-a830-d8a07f0772cb",
   "metadata": {
    "tags": []
   },
   "outputs": [],
   "source": [
    "tabs_together = []\n",
    "for file in good_files:\n",
    "    tabular = pd.read_csv(file, sep='\\t',  header=[0,1])\n",
    "    tabularnow = tabular[good_columns_list]\n",
    "    tabs_together.append(tabularnow)"
   ]
  },
  {
   "cell_type": "code",
   "execution_count": null,
   "id": "3508caaa-0f31-48fd-8ed4-63556075c636",
   "metadata": {
    "tags": []
   },
   "outputs": [],
   "source": [
    "len(tabs_together)"
   ]
  },
  {
   "cell_type": "markdown",
   "id": "ab37d37f-7fa7-4d05-bf4a-ed4ef7d29fa6",
   "metadata": {
    "tags": []
   },
   "source": [
    "now if tsvs were different we could stack 8 elements of tabular ...and make a supercomparator, but we seem tohave the same tsv over and over because the first ten with thesame columns are the same...wierd check wth scientists..looking at the names they all came from the same day. let's check all dates"
   ]
  },
  {
   "cell_type": "markdown",
   "id": "339a7dbe-541f-4f9e-9fe6-31a416a8d367",
   "metadata": {},
   "source": [
    "So we have three kinds, many times duplicated over- must dicuss with scientists. UNtil then let's reduce and combine"
   ]
  },
  {
   "cell_type": "code",
   "execution_count": null,
   "id": "a62945f5-b178-419d-bda0-59ae7217f9d9",
   "metadata": {
    "tags": []
   },
   "outputs": [],
   "source": [
    "tabs_together[0].columns"
   ]
  },
  {
   "cell_type": "code",
   "execution_count": null,
   "id": "52ad2bf9-d5b7-4e14-89dc-eb2ce0f16b13",
   "metadata": {
    "tags": []
   },
   "outputs": [],
   "source": [
    "len(tabs_together)"
   ]
  },
  {
   "cell_type": "code",
   "execution_count": null,
   "id": "40898e22-3e9f-4447-9a05-cbb9d68a1843",
   "metadata": {
    "tags": []
   },
   "outputs": [],
   "source": [
    "properly_different_dataframes = fh.unduplicate_dfs(tabs_together)"
   ]
  },
  {
   "cell_type": "code",
   "execution_count": null,
   "id": "fd82165b-076c-4387-be39-60123710a5f0",
   "metadata": {
    "tags": []
   },
   "outputs": [],
   "source": [
    "# result = result.droplevel(1, axis=1)\n",
    "len(properly_different_dataframes)"
   ]
  },
  {
   "cell_type": "code",
   "execution_count": null,
   "id": "bb5232c6-395d-49d5-b55a-66eec7893e68",
   "metadata": {
    "tags": []
   },
   "outputs": [],
   "source": [
    "for file in properly_different_dataframes:\n",
    "    file = file.droplevel(1, axis=1)\n",
    "file    "
   ]
  },
  {
   "cell_type": "code",
   "execution_count": null,
   "id": "75cb2983-2c72-4602-b50c-28c73d42c027",
   "metadata": {
    "tags": []
   },
   "outputs": [],
   "source": [
    "result_no_str= file.drop('LongitudinalTimePoint', axis=1)\n",
    "result_no_str"
   ]
  },
  {
   "cell_type": "code",
   "execution_count": null,
   "id": "a89f79e0-0b8d-4095-8548-51f50679f0e5",
   "metadata": {
    "tags": []
   },
   "outputs": [],
   "source": [
    "super_age_set = super_age_set.drop(\"TP\", axis= 1)\n",
    "super_age_set"
   ]
  },
  {
   "cell_type": "code",
   "execution_count": null,
   "id": "35c54b18-6be5-46e1-b96c-7a24da4963d3",
   "metadata": {
    "tags": []
   },
   "outputs": [],
   "source": [
    "# Here merge with ages\n",
    "final_df = pd.merge(result_no_str,super_age_set)"
   ]
  },
  {
   "cell_type": "code",
   "execution_count": null,
   "id": "99bc1ed8-41c0-4ec8-b722-86f6669999d9",
   "metadata": {
    "tags": []
   },
   "outputs": [],
   "source": [
    "final_df"
   ]
  },
  {
   "cell_type": "code",
   "execution_count": null,
   "id": "f72b55a9-4d94-45de-9b9f-49344e170f7b",
   "metadata": {
    "tags": []
   },
   "outputs": [],
   "source": [
    "%matplotlib inline\n",
    "sns.heatmap(final_df.corr(), annot = True)"
   ]
  },
  {
   "cell_type": "markdown",
   "id": "f6a4bc78-544f-457a-bfa3-e8fd4feb6abc",
   "metadata": {},
   "source": [
    "So we see a good correlation between grey matter and white matter volumes, and therefore unsurprisingle a good correlation on GMWM-ICVratio and GM_ICV ratio. We also see a great negative correation between CSF volume and GMWM-ICV (also also GM)ICV). These things show our datasets seems to be reflecting expected reality.\n",
    "One next next step is to correlate with age.\n",
    "\n",
    "But let's keep seeing how we can look for things in our tsv.\n",
    "Below is an example"
   ]
  },
  {
   "cell_type": "code",
   "execution_count": null,
   "id": "a129217f-3026-4eec-a220-d615babd05d9",
   "metadata": {
    "tags": []
   },
   "outputs": [],
   "source": [
    "fh.find_where_column(tsv_files, ['CSF_vol', 'WM_vol'])"
   ]
  },
  {
   "cell_type": "markdown",
   "id": "51da8d85-e849-4915-9e18-77b12efec6cf",
   "metadata": {},
   "source": [
    "Now a coding scientist can continue by finding sets of tsv for specific quesitons"
   ]
  }
 ],
 "metadata": {
  "kernelspec": {
   "display_name": "Python 3 (ipykernel)",
   "language": "python",
   "name": "python3"
  },
  "language_info": {
   "codemirror_mode": {
    "name": "ipython",
    "version": 3
   },
   "file_extension": ".py",
   "mimetype": "text/x-python",
   "name": "python",
   "nbconvert_exporter": "python",
   "pygments_lexer": "ipython3",
   "version": "3.9.16"
  }
 },
 "nbformat": 4,
 "nbformat_minor": 5
}
