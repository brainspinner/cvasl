{
 "cells": [
  {
   "cell_type": "code",
   "execution_count": null,
   "metadata": {
    "tags": []
   },
   "outputs": [],
   "source": [
    "import os       # using operating system dependent functionality (folders)\n",
    "import pandas as pd # data analysis and manipulation\n",
    "import numpy as np    # numerical computing (manipulating and performing operations on arrays of data)\n",
    "import seaborn\n",
    "import glob\n",
    "import matplotlib.pyplot as plt\n",
    "\n",
    "import sys\n",
    "sys.path.insert(0, '../') # path to functions\n",
    "import cvasl.seperated as sep\n",
    "from cvasl.file_handler import Config"
   ]
  },
  {
   "cell_type": "markdown",
   "metadata": {},
   "source": [
    "## Read datasets into pandas dataframes\n",
    "\n",
    "We have these in our open_work"
   ]
  },
  {
   "cell_type": "code",
   "execution_count": null,
   "metadata": {
    "tags": []
   },
   "outputs": [],
   "source": [
    "# Identify files\n",
    "datasets_folder = 'C:/Projects/brainspin/not_pushed/data_anonymized/assembled'\n",
    "dataset_files = glob.glob(os.path.join(datasets_folder, '*.csv'))\n",
    "print(dataset_files)"
   ]
  },
  {
   "cell_type": "code",
   "execution_count": null,
   "metadata": {
    "tags": []
   },
   "outputs": [],
   "source": [
    "!pwd"
   ]
  },
  {
   "cell_type": "code",
   "execution_count": null,
   "metadata": {
    "tags": []
   },
   "outputs": [],
   "source": [
    "# Read files into dataframes\n",
    "TOP = pd.read_csv('C:/Projects/brainspin/not_pushed/data_anonymized/assembled\\\\top_stitched.csv')\n",
    "StrokeMRI = pd.read_csv('C:/Projects/brainspin/not_pushed/data_anonymized/assembled\\\\StrokeMRI_stitched.csv')\n",
    "#Insight46 = pd.read_csv('../open_work/internal_results\\\\Insight46_stitched.csv')\n",
    "df_list = [TOP, StrokeMRI] #, Insight46]\n"
   ]
  },
  {
   "cell_type": "code",
   "execution_count": null,
   "metadata": {
    "tags": []
   },
   "outputs": [],
   "source": [
    "TOP = TOP.drop(0, axis=0)\n",
    "StrokeMRI = StrokeMRI.drop(0, axis=0)\n"
   ]
  },
  {
   "cell_type": "code",
   "execution_count": null,
   "metadata": {
    "tags": []
   },
   "outputs": [],
   "source": []
  },
  {
   "cell_type": "code",
   "execution_count": null,
   "metadata": {
    "tags": []
   },
   "outputs": [],
   "source": [
    "StrokeMRI_described = StrokeMRI.describe()\n",
    "StrokeMRI_described"
   ]
  },
  {
   "cell_type": "markdown",
   "metadata": {
    "tags": []
   },
   "source": [
    "TOP was produced in a way that made more data non-numeric do extra step:"
   ]
  },
  {
   "cell_type": "code",
   "execution_count": null,
   "metadata": {
    "tags": []
   },
   "outputs": [],
   "source": [
    "TOP =  TOP.apply (pd.to_numeric, errors='coerce')\n",
    "TOP_described =TOP.describe()\n",
    "TOP_described"
   ]
  },
  {
   "cell_type": "code",
   "execution_count": null,
   "metadata": {
    "tags": []
   },
   "outputs": [],
   "source": [
    "common_columns = TOP.columns.intersection(StrokeMRI.columns).to_list()"
   ]
  },
  {
   "cell_type": "markdown",
   "metadata": {},
   "source": [
    "## Now we blend the two sets"
   ]
  },
  {
   "cell_type": "code",
   "execution_count": null,
   "metadata": {
    "tags": []
   },
   "outputs": [],
   "source": [
    "super_set = pd.concat((TOP[common_columns],StrokeMRI[common_columns]))\n",
    "super_set"
   ]
  },
  {
   "cell_type": "code",
   "execution_count": null,
   "metadata": {
    "tags": []
   },
   "outputs": [],
   "source": [
    "idx = len(super_set) - 1 if len(super_set) % 2 else len(super_set)"
   ]
  },
  {
   "cell_type": "code",
   "execution_count": null,
   "metadata": {
    "tags": []
   },
   "outputs": [],
   "source": [
    "super_set_sorted = super_set.sort_values('Age')#apply(lambda x: x.interpolate())\n",
    "#print(len(super_set_sorted))\n",
    "super_set_f= pd.DataFrame(super_set_sorted.drop('session', axis=1))\n",
    "super_set_f = super_set_f.dropna()\n",
    "super_set_f"
   ]
  },
  {
   "cell_type": "code",
   "execution_count": null,
   "metadata": {
    "tags": []
   },
   "outputs": [],
   "source": [
    "super_set_f = super_set_f.reset_index()\n",
    "super_set_f"
   ]
  },
  {
   "cell_type": "code",
   "execution_count": null,
   "metadata": {
    "tags": []
   },
   "outputs": [],
   "source": [
    "\n",
    "new_set = super_set_f[:idx].groupby(super_set_f.index[:idx] // 2).mean()\n"
   ]
  },
  {
   "cell_type": "markdown",
   "metadata": {},
   "source": [
    "So we took our two datasets and blended by simply mixing close values i.e. every adjacent on one side row in a cobined dataset, when sorted by age. Now we can add a bit of noise just for good measure. "
   ]
  },
  {
   "cell_type": "code",
   "execution_count": null,
   "metadata": {
    "tags": []
   },
   "outputs": [],
   "source": [
    "mu, sigma = 0, 0.01 \n",
    "# creating a noise with the same dimension as the dataset \n",
    "noise = np.random.normal(mu, sigma, [527,25]) \n",
    "print(noise)"
   ]
  },
  {
   "cell_type": "markdown",
   "metadata": {},
   "source": [
    "Add the two"
   ]
  },
  {
   "cell_type": "code",
   "execution_count": null,
   "metadata": {
    "tags": []
   },
   "outputs": [],
   "source": [
    "mixed_and_noise = noise+ new_set\n",
    "mixed_and_noise "
   ]
  },
  {
   "cell_type": "markdown",
   "metadata": {},
   "source": [
    "## OK, so let's look at this in terms of the way it graphs"
   ]
  },
  {
   "cell_type": "code",
   "execution_count": null,
   "metadata": {},
   "outputs": [],
   "source": [
    "sep.relate_columns_graphs(mixed_and_noise ,'Age')"
   ]
  },
  {
   "cell_type": "markdown",
   "metadata": {},
   "source": [
    "Everything looks fine except sex, we need to recode that as sex will be for us binary, and longitudinal time point, which should be an int"
   ]
  },
  {
   "cell_type": "code",
   "execution_count": null,
   "metadata": {},
   "outputs": [],
   "source": [
    "mixed_and_noise= mixed_and_noise.drop('index', axis=1)\n",
    "# as we added noise, we can just round and denoise\n",
    "mixed_and_noise['Sex'] = mixed_and_noise['Sex'].round()\n",
    "mixed_and_noise['LongitudinalTimePoint'] = mixed_and_noise['LongitudinalTimePoint'].round()\n",
    "mixed_and_noise"
   ]
  },
  {
   "cell_type": "code",
   "execution_count": null,
   "metadata": {},
   "outputs": [],
   "source": [
    "## We are done. This gives us a synthetic/augmented dataset based upon our existing ones. Pending approval"
   ]
  },
  {
   "cell_type": "code",
   "execution_count": null,
   "metadata": {},
   "outputs": [],
   "source": [
    "mixed_and_noise.to_csv('C:/Projects/brainspin/not_pushed/synthetic_set.csv')"
   ]
  },
  {
   "cell_type": "code",
   "execution_count": null,
   "metadata": {},
   "outputs": [],
   "source": [
    "\n",
    "def relate_columns_graphs_two_dfs(\n",
    "        dataframe1,\n",
    "        dataframe2,\n",
    "        special_column_name,\n",
    "        other_column_name,\n",
    "        color1='purple',\n",
    "        color2='orange',\n",
    "):\n",
    "\n",
    "    \"\"\"\n",
    "    This function is meant to be a helper function\n",
    "    for one that makes a scatter plot of all columns\n",
    "    that two dataframes have in common\n",
    "    :param dataframe1: dataframe variable\n",
    "    :type dataframe1: pandas.dataFrame\n",
    "    :param dataframe2: dataframe variable\n",
    "    :type dataframe2: pandas.dataFrame\n",
    "    :param special_column_name: str of column you graph against\n",
    "    :type  special_column_name: str\n",
    "    :param other_column_name: string of column you want to graph\n",
    "    :type  other_column_name: str\n",
    "    :returns: no return, makes artifact\n",
    "    :rtype: None.\n",
    "    \"\"\"\n",
    "    shared_columns = (\n",
    "        dataframe1.columns.intersection(dataframe2.columns)).to_list()\n",
    "\n",
    "    dataframe1 = dataframe1[shared_columns]\n",
    "    dataframe2 = dataframe2[shared_columns]\n",
    "    plt.scatter(\n",
    "        dataframe1[special_column_name],\n",
    "        dataframe1[other_column_name],\n",
    "        color=color1,\n",
    "        alpha=0.4,\n",
    "    )\n",
    "    plt.scatter(\n",
    "        dataframe2[special_column_name],\n",
    "        dataframe2[other_column_name],\n",
    "        color=color2,\n",
    "        alpha=0.4,\n",
    "    )\n",
    "    plt.xlabel(special_column_name)\n",
    "    plt.ylabel(other_column_name)\n",
    "    plt.savefig((other_column_name + \"versus\" + special_column_name + \".png\"))\n",
    "    plt.show(block=False)\n",
    "\n",
    "\n",
    "def plot_2on2_df(dataframe1,\n",
    "                 dataframe2,\n",
    "                 special_column,\n",
    "                 color1='purple',\n",
    "                 color2='orange',):\n",
    "    \"\"\"\n",
    "    This function is meant to create an artifact\n",
    "    of two datasets with comparable variables\n",
    "    in terms of graphing the variables\n",
    "    against a variable of interest\n",
    "    :param dataframe1: dataframe variable\n",
    "    :type dataframe1: pandas.dataFrame\n",
    "    :param dataframe2: dataframe variable\n",
    "    :type dataframe2: pandas.dataFrame\n",
    "    :param special_column_name: string of column you want to graph against\n",
    "    :type  special_column_name: str\n",
    "    :returns: no return, makes artifact\n",
    "    :rtype: None.\n",
    "    \"\"\"\n",
    "    shared_columns = (\n",
    "        dataframe1.columns.intersection(dataframe2.columns)).to_list()\n",
    "    for rotator_column in dataframe1[shared_columns]:\n",
    "        relate_columns_graphs_two_dfs(\n",
    "            dataframe1,\n",
    "            dataframe2,\n",
    "            special_column,\n",
    "            rotator_column,\n",
    "            color1=color1,\n",
    "            color2=color2,\n",
    "        )"
   ]
  },
  {
   "cell_type": "code",
   "execution_count": null,
   "metadata": {
    "tags": []
   },
   "outputs": [],
   "source": [
    "plot_2on2_df(mixed_and_noise, TOP, 'Age', color1='red')"
   ]
  },
  {
   "cell_type": "code",
   "execution_count": null,
   "metadata": {},
   "outputs": [],
   "source": []
  },
  {
   "cell_type": "markdown",
   "metadata": {},
   "source": [
    "Now let's do some polynomial fitting based on this dataset."
   ]
  },
  {
   "cell_type": "code",
   "execution_count": null,
   "metadata": {
    "tags": []
   },
   "outputs": [],
   "source": [
    "# Voorbeeldpunten\n",
    "x = np.array([1, 2, 3, 4, 5])\n",
    "y = np.array([2, 3, 5, 8, 13])\n",
    "\n",
    "# Graad van de polynoom\n",
    "degree = 2\n",
    "\n",
    "# Beste polynoom passen\n",
    "coefficients = np.polyfit(x, y, degree)\n",
    "\n",
    "# Coëfficiënten afdrukken\n",
    "print(\"Coëfficiënten:\", coefficients)"
   ]
  },
  {
   "cell_type": "code",
   "execution_count": null,
   "metadata": {
    "tags": []
   },
   "outputs": [],
   "source": [
    "def polyfit_and_show(\n",
    "        dataframe,\n",
    "        special_column_name,\n",
    "        other_column_name,\n",
    "        color1='purple',\n",
    "        color2='orange',\n",
    "):\n",
    "    x = np.array(dataframe[special_column_name])\n",
    "    y = np.array(dataframe[other_column_name])\n",
    "    degree = 2\n",
    "    coefficients = np.polyfit(x, y, degree)\n",
    "    print(\"Coëfficiënten 2nd degree polynomial:\", coefficients)\n",
    "    tup = (x.min(), x.max())\n",
    "    line_z = []\n",
    "    for a in tup:\n",
    "        z = coefficients[0]*(a*a) + coefficients[1]*a + coefficients[2]\n",
    "        line_z.append(z)\n",
    "    plt.plot(tup, line_z)\n",
    "    plt.scatter(\n",
    "        dataframe[special_column_name],\n",
    "        dataframe[other_column_name],\n",
    "        color=color1,\n",
    "        alpha=0.4,\n",
    "    )\n",
    "        \n",
    "    return coefficients\n",
    "    \n",
    "    "
   ]
  },
  {
   "cell_type": "code",
   "execution_count": null,
   "metadata": {
    "tags": []
   },
   "outputs": [],
   "source": [
    "polyfit_and_show(\n",
    "        mixed_and_noise,\n",
    "        'Age',\n",
    "        'GM_vol',\n",
    "\n",
    ")"
   ]
  },
  {
   "cell_type": "code",
   "execution_count": null,
   "metadata": {
    "tags": []
   },
   "outputs": [],
   "source": [
    "4^5"
   ]
  },
  {
   "cell_type": "code",
   "execution_count": null,
   "metadata": {},
   "outputs": [],
   "source": []
  }
 ],
 "metadata": {
  "kernelspec": {
   "display_name": "Python 3 (ipykernel)",
   "language": "python",
   "name": "python3"
  },
  "language_info": {
   "codemirror_mode": {
    "name": "ipython",
    "version": 3
   },
   "file_extension": ".py",
   "mimetype": "text/x-python",
   "name": "python",
   "nbconvert_exporter": "python",
   "pygments_lexer": "ipython3",
   "version": "3.9.16"
  }
 },
 "nbformat": 4,
 "nbformat_minor": 4
}
