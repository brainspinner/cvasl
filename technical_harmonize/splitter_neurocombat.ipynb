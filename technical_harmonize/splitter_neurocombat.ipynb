{
 "cells": [
  {
   "cell_type": "markdown",
   "id": "a44ec0f5-0be0-4423-94ce-253276572183",
   "metadata": {},
   "source": [
    "# Negative testing: initial experiments"
   ]
  },
  {
   "cell_type": "markdown",
   "id": "755d1310-246a-49c2-95f8-18cff24049d0",
   "metadata": {},
   "source": [
    "## let's take a cvasl datframe split a couple ways by age, then see how harmonization with neurocombat changes it\n",
    "\n"
   ]
  },
  {
   "cell_type": "markdown",
   "id": "94a62443-b917-49c6-bf31-d1ac26d4dd99",
   "metadata": {},
   "source": [
    "# Important Note: this must be run in the neuron_go environment\n",
    "\n",
    "# Important Note: this notebook was last updated on Dec 2nd 2023, to include log based values in columns of dataframe"
   ]
  },
  {
   "cell_type": "markdown",
   "id": "edab7dc9-fd87-412f-9cc7-cbb50672fc33",
   "metadata": {},
   "source": [
    "## import libraries"
   ]
  },
  {
   "cell_type": "code",
   "execution_count": 1,
   "id": "d68b27c8-9fc9-45d2-b878-c254d083bd3a",
   "metadata": {
    "tags": []
   },
   "outputs": [],
   "source": [
    "import os\n",
    "import sys\n",
    "\n",
    "import pandas as pd\n",
    "import numpy as np\n",
    "import matplotlib.pyplot as plt\n",
    "from neuroCombat import neuroCombat\n",
    "import seaborn as sns\n",
    "\n",
    "sys.path.insert(0, '../') # path to some functions\n",
    "import cvasl.harmony as har"
   ]
  },
  {
   "cell_type": "markdown",
   "id": "0c93bb9c-12b0-4551-a6f5-93a6844a0a63",
   "metadata": {},
   "source": [
    "## prepare data"
   ]
  },
  {
   "cell_type": "code",
   "execution_count": 2,
   "id": "5925b329-b505-4701-99bc-c0605b77b2cd",
   "metadata": {
    "tags": []
   },
   "outputs": [],
   "source": [
    "filepath_mri = '../open_work/internal_results/cleaned_pvc2s/' \n",
    "filename_mri = os.path.join(filepath_mri,'StrokeMRI_pvc2c.csv') "
   ]
  },
  {
   "cell_type": "code",
   "execution_count": 3,
   "id": "7cda32bd-d1dc-4f0e-9df5-5fad32b59bef",
   "metadata": {
    "tags": []
   },
   "outputs": [
    {
     "data": {
      "text/html": [
       "<div>\n",
       "<style scoped>\n",
       "    .dataframe tbody tr th:only-of-type {\n",
       "        vertical-align: middle;\n",
       "    }\n",
       "\n",
       "    .dataframe tbody tr th {\n",
       "        vertical-align: top;\n",
       "    }\n",
       "\n",
       "    .dataframe thead th {\n",
       "        text-align: right;\n",
       "    }\n",
       "</style>\n",
       "<table border=\"1\" class=\"dataframe\">\n",
       "  <thead>\n",
       "    <tr style=\"text-align: right;\">\n",
       "      <th></th>\n",
       "      <th>Unnamed: 0</th>\n",
       "      <th>participant_id</th>\n",
       "      <th>age</th>\n",
       "      <th>sex</th>\n",
       "      <th>gm_vol</th>\n",
       "      <th>wm_vol</th>\n",
       "      <th>csf_vol</th>\n",
       "      <th>gm_ivc_ratio</th>\n",
       "      <th>gmwm_ivc_ratio</th>\n",
       "      <th>wmh_vol</th>\n",
       "      <th>...</th>\n",
       "      <th>deepwm_b_cov</th>\n",
       "      <th>aca_b_cov</th>\n",
       "      <th>mca_b_cov</th>\n",
       "      <th>pca_b_cov</th>\n",
       "      <th>totalgm_b_cov</th>\n",
       "      <th>deepwm_b</th>\n",
       "      <th>aca_b</th>\n",
       "      <th>mca_b</th>\n",
       "      <th>pca_b</th>\n",
       "      <th>totalgm_b</th>\n",
       "    </tr>\n",
       "  </thead>\n",
       "  <tbody>\n",
       "    <tr>\n",
       "      <th>0</th>\n",
       "      <td>1</td>\n",
       "      <td>sub-59082_1_ses-1_run-1</td>\n",
       "      <td>43.172603</td>\n",
       "      <td>F</td>\n",
       "      <td>0.64754</td>\n",
       "      <td>0.49441</td>\n",
       "      <td>0.31320</td>\n",
       "      <td>0.44500</td>\n",
       "      <td>0.78476</td>\n",
       "      <td>1.249</td>\n",
       "      <td>...</td>\n",
       "      <td>8.0434</td>\n",
       "      <td>1.7273</td>\n",
       "      <td>1.9776</td>\n",
       "      <td>1.7141</td>\n",
       "      <td>1.9140</td>\n",
       "      <td>26.8262</td>\n",
       "      <td>104.3155</td>\n",
       "      <td>90.5047</td>\n",
       "      <td>73.8758</td>\n",
       "      <td>84.4527</td>\n",
       "    </tr>\n",
       "    <tr>\n",
       "      <th>1</th>\n",
       "      <td>2</td>\n",
       "      <td>sub-59083_1_ses-1_run-1</td>\n",
       "      <td>66.367123</td>\n",
       "      <td>F</td>\n",
       "      <td>0.60517</td>\n",
       "      <td>0.48594</td>\n",
       "      <td>0.42304</td>\n",
       "      <td>0.39968</td>\n",
       "      <td>0.72061</td>\n",
       "      <td>14.597</td>\n",
       "      <td>...</td>\n",
       "      <td>3.7791</td>\n",
       "      <td>1.9669</td>\n",
       "      <td>1.7154</td>\n",
       "      <td>2.6394</td>\n",
       "      <td>1.8815</td>\n",
       "      <td>24.9597</td>\n",
       "      <td>75.7051</td>\n",
       "      <td>65.3032</td>\n",
       "      <td>65.6771</td>\n",
       "      <td>67.1158</td>\n",
       "    </tr>\n",
       "    <tr>\n",
       "      <th>2</th>\n",
       "      <td>4</td>\n",
       "      <td>sub-59085_1_ses-1_run-1</td>\n",
       "      <td>55.838356</td>\n",
       "      <td>F</td>\n",
       "      <td>0.61724</td>\n",
       "      <td>0.53779</td>\n",
       "      <td>0.33692</td>\n",
       "      <td>0.41371</td>\n",
       "      <td>0.77417</td>\n",
       "      <td>6.341</td>\n",
       "      <td>...</td>\n",
       "      <td>5.1248</td>\n",
       "      <td>1.8146</td>\n",
       "      <td>1.9845</td>\n",
       "      <td>2.0827</td>\n",
       "      <td>1.9501</td>\n",
       "      <td>27.7117</td>\n",
       "      <td>81.0966</td>\n",
       "      <td>72.9980</td>\n",
       "      <td>60.8317</td>\n",
       "      <td>64.3183</td>\n",
       "    </tr>\n",
       "  </tbody>\n",
       "</table>\n",
       "<p>3 rows × 21 columns</p>\n",
       "</div>"
      ],
      "text/plain": [
       "   Unnamed: 0           participant_id        age sex   gm_vol   wm_vol  \\\n",
       "0           1  sub-59082_1_ses-1_run-1  43.172603   F  0.64754  0.49441   \n",
       "1           2  sub-59083_1_ses-1_run-1  66.367123   F  0.60517  0.48594   \n",
       "2           4  sub-59085_1_ses-1_run-1  55.838356   F  0.61724  0.53779   \n",
       "\n",
       "   csf_vol  gm_ivc_ratio  gmwm_ivc_ratio  wmh_vol  ...  deepwm_b_cov  \\\n",
       "0  0.31320       0.44500         0.78476    1.249  ...        8.0434   \n",
       "1  0.42304       0.39968         0.72061   14.597  ...        3.7791   \n",
       "2  0.33692       0.41371         0.77417    6.341  ...        5.1248   \n",
       "\n",
       "   aca_b_cov  mca_b_cov  pca_b_cov  totalgm_b_cov  deepwm_b     aca_b  \\\n",
       "0     1.7273     1.9776     1.7141         1.9140   26.8262  104.3155   \n",
       "1     1.9669     1.7154     2.6394         1.8815   24.9597   75.7051   \n",
       "2     1.8146     1.9845     2.0827         1.9501   27.7117   81.0966   \n",
       "\n",
       "     mca_b    pca_b  totalgm_b  \n",
       "0  90.5047  73.8758    84.4527  \n",
       "1  65.3032  65.6771    67.1158  \n",
       "2  72.9980  60.8317    64.3183  \n",
       "\n",
       "[3 rows x 21 columns]"
      ]
     },
     "execution_count": 3,
     "metadata": {},
     "output_type": "execute_result"
    }
   ],
   "source": [
    "StrokeMRI  = pd.read_csv(filename_mri)\n",
    "StrokeMRI.head(3)"
   ]
  },
  {
   "cell_type": "code",
   "execution_count": 4,
   "id": "4c518192-3365-469d-bd1f-e43b22403f1e",
   "metadata": {
    "tags": []
   },
   "outputs": [
    {
     "data": {
      "text/plain": [
       "<seaborn.axisgrid.FacetGrid at 0x13a7871ec88>"
      ]
     },
     "execution_count": 4,
     "metadata": {},
     "output_type": "execute_result"
    },
    {
     "data": {
      "image/png": "[encoded data removed]",
      "text/plain": [
       "<Figure size 562x500 with 1 Axes>"
      ]
     },
     "metadata": {},
     "output_type": "display_data"
    }
   ],
   "source": [
    "sns.displot(StrokeMRI, x='age', binwidth=3, hue= 'sex')"
   ]
  },
  {
   "cell_type": "markdown",
   "id": "26479afb-fe53-457a-85b2-ed17e06a107e",
   "metadata": {
    "tags": []
   },
   "source": [
    "# ComBat assumes vectors of regression coefficients follow independent normal distributions and some other assumptions\n",
    "\n",
    "Note: Combat-GAM GMM or Open Nestedmay leapfrog this and give better results, but let's not get ahead"
   ]
  },
  {
   "cell_type": "code",
   "execution_count": 5,
   "id": "6eb7507c-fbdd-4a60-a5d6-f33771363a04",
   "metadata": {
    "tags": []
   },
   "outputs": [
    {
     "data": {
      "text/plain": [
       "<seaborn.axisgrid.FacetGrid at 0x13a1d7d0648>"
      ]
     },
     "execution_count": 5,
     "metadata": {},
     "output_type": "execute_result"
    },
    {
     "data": {
      "image/png": "[encoded data removed]",
      "text/plain": [
       "<Figure size 562x500 with 1 Axes>"
      ]
     },
     "metadata": {},
     "output_type": "display_data"
    }
   ],
   "source": [
    "sns.displot(StrokeMRI, x='wmh_vol', hue= 'sex')"
   ]
  },
  {
   "cell_type": "code",
   "execution_count": 6,
   "id": "bc56d364-e939-48f7-8f65-2e077f233db4",
   "metadata": {
    "tags": []
   },
   "outputs": [
    {
     "data": {
      "text/plain": [
       "count    514.000000\n",
       "mean       9.745523\n",
       "std       11.589581\n",
       "min        0.553000\n",
       "25%        2.966000\n",
       "50%        5.135000\n",
       "75%       11.508750\n",
       "max       65.157000\n",
       "Name: wmh_vol, dtype: float64"
      ]
     },
     "execution_count": 6,
     "metadata": {},
     "output_type": "execute_result"
    }
   ],
   "source": [
    "StrokeMRI.wmh_vol.describe()"
   ]
  },
  {
   "cell_type": "code",
   "execution_count": 7,
   "id": "239007c1-e36a-4846-a044-fd65b9c6c808",
   "metadata": {
    "tags": []
   },
   "outputs": [
    {
     "data": {
      "text/plain": [
       "<seaborn.axisgrid.FacetGrid at 0x13a1d9b35c8>"
      ]
     },
     "execution_count": 7,
     "metadata": {},
     "output_type": "execute_result"
    },
    {
     "data": {
      "image/png": "[encoded data removed]",
      "text/plain": [
       "<Figure size 562x500 with 1 Axes>"
      ]
     },
     "metadata": {},
     "output_type": "display_data"
    }
   ],
   "source": [
    "sns.displot(StrokeMRI, x='wmh_count', hue= 'sex')"
   ]
  },
  {
   "cell_type": "code",
   "execution_count": 8,
   "id": "f3b24886-2167-45f2-a495-9aed5ec1161a",
   "metadata": {
    "tags": []
   },
   "outputs": [],
   "source": [
    "loged_StrokeMRI = har.log_out_columns(StrokeMRI, ['wmh_vol', 'wmh_count'])"
   ]
  },
  {
   "cell_type": "code",
   "execution_count": 9,
   "id": "a4b1598c-b328-427b-ad89-9a95909d594c",
   "metadata": {
    "tags": []
   },
   "outputs": [
    {
     "data": {
      "text/plain": [
       "<seaborn.axisgrid.FacetGrid at 0x13a1de25748>"
      ]
     },
     "execution_count": 9,
     "metadata": {},
     "output_type": "execute_result"
    },
    {
     "data": {
      "image/png": "[encoded data removed]",
      "text/plain": [
       "<Figure size 562x500 with 1 Axes>"
      ]
     },
     "metadata": {},
     "output_type": "display_data"
    }
   ],
   "source": [
    "sns.displot(loged_StrokeMRI, x='wmh_count', hue= 'sex')"
   ]
  },
  {
   "cell_type": "code",
   "execution_count": 10,
   "id": "09e7db03-5c8a-4b3b-9e59-dd6b20332f4c",
   "metadata": {
    "tags": []
   },
   "outputs": [
    {
     "data": {
      "text/plain": [
       "<seaborn.axisgrid.FacetGrid at 0x13a1de93ac8>"
      ]
     },
     "execution_count": 10,
     "metadata": {},
     "output_type": "execute_result"
    },
    {
     "data": {
      "image/png": "[encoded data removed]",
      "text/plain": [
       "<Figure size 562x500 with 1 Axes>"
      ]
     },
     "metadata": {},
     "output_type": "display_data"
    }
   ],
   "source": [
    "sns.displot(loged_StrokeMRI, x='wmh_vol', hue= 'sex')"
   ]
  },
  {
   "cell_type": "markdown",
   "id": "a0a7743b-c5f4-4c4c-ad1b-111911064a80",
   "metadata": {},
   "source": [
    "## Let's try using the logged vals as they are closer to normally distributed"
   ]
  },
  {
   "cell_type": "code",
   "execution_count": 11,
   "id": "fbe429cf-83c7-4e5c-8659-fcd5aea5bbe6",
   "metadata": {
    "tags": []
   },
   "outputs": [],
   "source": [
    "stroke_even_unharmonized = har.split_frame_half_balanced_by_column(loged_StrokeMRI, 'age')[0]\n",
    "stroke_odd_unharmonized = har.split_frame_half_balanced_by_column(loged_StrokeMRI, 'age')[1]"
   ]
  },
  {
   "cell_type": "code",
   "execution_count": 12,
   "id": "b2b6c182-8f70-4ea6-92f4-317c6535e1da",
   "metadata": {
    "tags": []
   },
   "outputs": [],
   "source": [
    "stroke_even_unharmonized= stroke_even_unharmonized.drop('index', axis=1)\n",
    "stroke_odd_unharmonized = stroke_odd_unharmonized.drop('index', axis=1)"
   ]
  },
  {
   "cell_type": "code",
   "execution_count": 13,
   "id": "7b7240a8-5982-4c60-a107-8d2f700ca1ea",
   "metadata": {
    "tags": []
   },
   "outputs": [],
   "source": [
    "stroke_even_unharmonized.to_csv('stroke_even_unharmonized.csv')\n",
    "stroke_odd_unharmonized.to_csv('stroke_odd_unharmonized.csv') "
   ]
  },
  {
   "cell_type": "code",
   "execution_count": 21,
   "id": "6c24447b-7646-4076-bb13-8164a4cde706",
   "metadata": {
    "tags": []
   },
   "outputs": [
    {
     "data": {
      "text/html": [
       "<div>\n",
       "<style scoped>\n",
       "    .dataframe tbody tr th:only-of-type {\n",
       "        vertical-align: middle;\n",
       "    }\n",
       "\n",
       "    .dataframe tbody tr th {\n",
       "        vertical-align: top;\n",
       "    }\n",
       "\n",
       "    .dataframe thead th {\n",
       "        text-align: right;\n",
       "    }\n",
       "</style>\n",
       "<table border=\"1\" class=\"dataframe\">\n",
       "  <thead>\n",
       "    <tr style=\"text-align: right;\">\n",
       "      <th></th>\n",
       "      <th>Unnamed: 0</th>\n",
       "      <th>participant_id</th>\n",
       "      <th>age</th>\n",
       "      <th>sex</th>\n",
       "      <th>gm_vol</th>\n",
       "      <th>wm_vol</th>\n",
       "      <th>csf_vol</th>\n",
       "      <th>gm_ivc_ratio</th>\n",
       "      <th>gmwm_ivc_ratio</th>\n",
       "      <th>wmh_vol</th>\n",
       "      <th>...</th>\n",
       "      <th>deepwm_b_cov</th>\n",
       "      <th>aca_b_cov</th>\n",
       "      <th>mca_b_cov</th>\n",
       "      <th>pca_b_cov</th>\n",
       "      <th>totalgm_b_cov</th>\n",
       "      <th>deepwm_b</th>\n",
       "      <th>aca_b</th>\n",
       "      <th>mca_b</th>\n",
       "      <th>pca_b</th>\n",
       "      <th>totalgm_b</th>\n",
       "    </tr>\n",
       "  </thead>\n",
       "  <tbody>\n",
       "    <tr>\n",
       "      <th>502</th>\n",
       "      <td>564</td>\n",
       "      <td>sub-59425_2_ses-2_run-1</td>\n",
       "      <td>80.624658</td>\n",
       "      <td>F</td>\n",
       "      <td>0.49804</td>\n",
       "      <td>0.44289</td>\n",
       "      <td>0.43743</td>\n",
       "      <td>0.36133</td>\n",
       "      <td>0.68264</td>\n",
       "      <td>3.573328</td>\n",
       "      <td>...</td>\n",
       "      <td>1.9829</td>\n",
       "      <td>2.3226</td>\n",
       "      <td>1.8878</td>\n",
       "      <td>2.2497</td>\n",
       "      <td>1.6943</td>\n",
       "      <td>21.7298</td>\n",
       "      <td>52.6921</td>\n",
       "      <td>46.4912</td>\n",
       "      <td>37.3209</td>\n",
       "      <td>42.3962</td>\n",
       "    </tr>\n",
       "    <tr>\n",
       "      <th>504</th>\n",
       "      <td>557</td>\n",
       "      <td>sub-59419_1_ses-1_run-1</td>\n",
       "      <td>81.657534</td>\n",
       "      <td>M</td>\n",
       "      <td>0.50173</td>\n",
       "      <td>0.44961</td>\n",
       "      <td>0.54970</td>\n",
       "      <td>0.33425</td>\n",
       "      <td>0.63379</td>\n",
       "      <td>4.019747</td>\n",
       "      <td>...</td>\n",
       "      <td>2.0278</td>\n",
       "      <td>3.6043</td>\n",
       "      <td>3.6783</td>\n",
       "      <td>3.1352</td>\n",
       "      <td>2.5996</td>\n",
       "      <td>29.6605</td>\n",
       "      <td>41.4430</td>\n",
       "      <td>36.2368</td>\n",
       "      <td>34.6355</td>\n",
       "      <td>33.1404</td>\n",
       "    </tr>\n",
       "    <tr>\n",
       "      <th>506</th>\n",
       "      <td>326</td>\n",
       "      <td>sub-59276_2_ses-2_run-1</td>\n",
       "      <td>83.347945</td>\n",
       "      <td>M</td>\n",
       "      <td>0.61494</td>\n",
       "      <td>0.45410</td>\n",
       "      <td>0.51456</td>\n",
       "      <td>0.38832</td>\n",
       "      <td>0.67507</td>\n",
       "      <td>3.077266</td>\n",
       "      <td>...</td>\n",
       "      <td>2.8212</td>\n",
       "      <td>3.6689</td>\n",
       "      <td>3.1018</td>\n",
       "      <td>3.1781</td>\n",
       "      <td>2.6916</td>\n",
       "      <td>24.1833</td>\n",
       "      <td>40.1696</td>\n",
       "      <td>31.6369</td>\n",
       "      <td>29.7774</td>\n",
       "      <td>30.3022</td>\n",
       "    </tr>\n",
       "    <tr>\n",
       "      <th>508</th>\n",
       "      <td>490</td>\n",
       "      <td>sub-59376_1_ses-1_run-1</td>\n",
       "      <td>84.624358</td>\n",
       "      <td>M</td>\n",
       "      <td>0.64391</td>\n",
       "      <td>0.51250</td>\n",
       "      <td>0.50601</td>\n",
       "      <td>0.38733</td>\n",
       "      <td>0.69562</td>\n",
       "      <td>3.950031</td>\n",
       "      <td>...</td>\n",
       "      <td>1.6571</td>\n",
       "      <td>1.8735</td>\n",
       "      <td>1.8043</td>\n",
       "      <td>1.5435</td>\n",
       "      <td>1.6397</td>\n",
       "      <td>29.6495</td>\n",
       "      <td>77.2704</td>\n",
       "      <td>66.3456</td>\n",
       "      <td>53.9741</td>\n",
       "      <td>60.8178</td>\n",
       "    </tr>\n",
       "    <tr>\n",
       "      <th>510</th>\n",
       "      <td>54</td>\n",
       "      <td>sub-59116_2_ses-2_run-1</td>\n",
       "      <td>85.776832</td>\n",
       "      <td>F</td>\n",
       "      <td>0.50279</td>\n",
       "      <td>0.33551</td>\n",
       "      <td>0.40553</td>\n",
       "      <td>0.40423</td>\n",
       "      <td>0.67397</td>\n",
       "      <td>2.504954</td>\n",
       "      <td>...</td>\n",
       "      <td>2.6097</td>\n",
       "      <td>1.8899</td>\n",
       "      <td>1.6466</td>\n",
       "      <td>2.1033</td>\n",
       "      <td>1.8811</td>\n",
       "      <td>24.8206</td>\n",
       "      <td>60.6278</td>\n",
       "      <td>52.4160</td>\n",
       "      <td>40.8453</td>\n",
       "      <td>47.6168</td>\n",
       "    </tr>\n",
       "    <tr>\n",
       "      <th>512</th>\n",
       "      <td>562</td>\n",
       "      <td>sub-59423_1_ses-1_run-1</td>\n",
       "      <td>92.049315</td>\n",
       "      <td>M</td>\n",
       "      <td>0.48135</td>\n",
       "      <td>0.39877</td>\n",
       "      <td>0.56566</td>\n",
       "      <td>0.33293</td>\n",
       "      <td>0.60875</td>\n",
       "      <td>3.545586</td>\n",
       "      <td>...</td>\n",
       "      <td>2.1008</td>\n",
       "      <td>2.1129</td>\n",
       "      <td>1.8008</td>\n",
       "      <td>2.4226</td>\n",
       "      <td>1.9997</td>\n",
       "      <td>33.8502</td>\n",
       "      <td>77.4641</td>\n",
       "      <td>62.7529</td>\n",
       "      <td>59.4109</td>\n",
       "      <td>56.4401</td>\n",
       "    </tr>\n",
       "  </tbody>\n",
       "</table>\n",
       "<p>6 rows × 21 columns</p>\n",
       "</div>"
      ],
      "text/plain": [
       "     Unnamed: 0           participant_id        age sex   gm_vol   wm_vol  \\\n",
       "502         564  sub-59425_2_ses-2_run-1  80.624658   F  0.49804  0.44289   \n",
       "504         557  sub-59419_1_ses-1_run-1  81.657534   M  0.50173  0.44961   \n",
       "506         326  sub-59276_2_ses-2_run-1  83.347945   M  0.61494  0.45410   \n",
       "508         490  sub-59376_1_ses-1_run-1  84.624358   M  0.64391  0.51250   \n",
       "510          54  sub-59116_2_ses-2_run-1  85.776832   F  0.50279  0.33551   \n",
       "512         562  sub-59423_1_ses-1_run-1  92.049315   M  0.48135  0.39877   \n",
       "\n",
       "     csf_vol  gm_ivc_ratio  gmwm_ivc_ratio   wmh_vol  ...  deepwm_b_cov  \\\n",
       "502  0.43743       0.36133         0.68264  3.573328  ...        1.9829   \n",
       "504  0.54970       0.33425         0.63379  4.019747  ...        2.0278   \n",
       "506  0.51456       0.38832         0.67507  3.077266  ...        2.8212   \n",
       "508  0.50601       0.38733         0.69562  3.950031  ...        1.6571   \n",
       "510  0.40553       0.40423         0.67397  2.504954  ...        2.6097   \n",
       "512  0.56566       0.33293         0.60875  3.545586  ...        2.1008   \n",
       "\n",
       "     aca_b_cov  mca_b_cov  pca_b_cov  totalgm_b_cov  deepwm_b    aca_b  \\\n",
       "502     2.3226     1.8878     2.2497         1.6943   21.7298  52.6921   \n",
       "504     3.6043     3.6783     3.1352         2.5996   29.6605  41.4430   \n",
       "506     3.6689     3.1018     3.1781         2.6916   24.1833  40.1696   \n",
       "508     1.8735     1.8043     1.5435         1.6397   29.6495  77.2704   \n",
       "510     1.8899     1.6466     2.1033         1.8811   24.8206  60.6278   \n",
       "512     2.1129     1.8008     2.4226         1.9997   33.8502  77.4641   \n",
       "\n",
       "       mca_b    pca_b  totalgm_b  \n",
       "502  46.4912  37.3209    42.3962  \n",
       "504  36.2368  34.6355    33.1404  \n",
       "506  31.6369  29.7774    30.3022  \n",
       "508  66.3456  53.9741    60.8178  \n",
       "510  52.4160  40.8453    47.6168  \n",
       "512  62.7529  59.4109    56.4401  \n",
       "\n",
       "[6 rows x 21 columns]"
      ]
     },
     "execution_count": 21,
     "metadata": {},
     "output_type": "execute_result"
    }
   ],
   "source": [
    "stroke_even_unharmonized.tail(6)"
   ]
  },
  {
   "cell_type": "code",
   "execution_count": 16,
   "id": "4de52b64-135c-4f14-b0a5-166a3664331b",
   "metadata": {
    "tags": []
   },
   "outputs": [],
   "source": [
    "stroke_top_unharmonized = har.top_and_bottom_by_column(loged_StrokeMRI, 'age')[0]\n",
    "stroke_bottom_unharmonized = har.top_and_bottom_by_column(loged_StrokeMRI, 'age')[1]"
   ]
  },
  {
   "cell_type": "code",
   "execution_count": 17,
   "id": "2324f12c-3df2-4d4d-84c7-008e4a1ad18b",
   "metadata": {
    "tags": []
   },
   "outputs": [],
   "source": [
    "stroke_top_unharmonized.to_csv('stroke_top_unharmonized.csv')\n",
    "stroke_bottom_unharmonized.to_csv('stroke_bottom_unharmonized.csv') "
   ]
  },
  {
   "cell_type": "code",
   "execution_count": null,
   "id": "1accfcfd-d1b8-4bdc-8225-fca34029ed32",
   "metadata": {},
   "outputs": [],
   "source": []
  },
  {
   "cell_type": "code",
   "execution_count": 20,
   "id": "31ceb3f2-1149-40fd-b2fa-f441304a471b",
   "metadata": {
    "tags": []
   },
   "outputs": [
    {
     "data": {
      "text/html": [
       "<div>\n",
       "<style scoped>\n",
       "    .dataframe tbody tr th:only-of-type {\n",
       "        vertical-align: middle;\n",
       "    }\n",
       "\n",
       "    .dataframe tbody tr th {\n",
       "        vertical-align: top;\n",
       "    }\n",
       "\n",
       "    .dataframe thead th {\n",
       "        text-align: right;\n",
       "    }\n",
       "</style>\n",
       "<table border=\"1\" class=\"dataframe\">\n",
       "  <thead>\n",
       "    <tr style=\"text-align: right;\">\n",
       "      <th></th>\n",
       "      <th>Unnamed: 0</th>\n",
       "      <th>participant_id</th>\n",
       "      <th>age</th>\n",
       "      <th>sex</th>\n",
       "      <th>gm_vol</th>\n",
       "      <th>wm_vol</th>\n",
       "      <th>csf_vol</th>\n",
       "      <th>gm_ivc_ratio</th>\n",
       "      <th>gmwm_ivc_ratio</th>\n",
       "      <th>wmh_vol</th>\n",
       "      <th>...</th>\n",
       "      <th>deepwm_b_cov</th>\n",
       "      <th>aca_b_cov</th>\n",
       "      <th>mca_b_cov</th>\n",
       "      <th>pca_b_cov</th>\n",
       "      <th>totalgm_b_cov</th>\n",
       "      <th>deepwm_b</th>\n",
       "      <th>aca_b</th>\n",
       "      <th>mca_b</th>\n",
       "      <th>pca_b</th>\n",
       "      <th>totalgm_b</th>\n",
       "    </tr>\n",
       "  </thead>\n",
       "  <tbody>\n",
       "    <tr>\n",
       "      <th>103</th>\n",
       "      <td>124</td>\n",
       "      <td>sub-59155_2_ses-2_run-1</td>\n",
       "      <td>64.293151</td>\n",
       "      <td>F</td>\n",
       "      <td>0.54416</td>\n",
       "      <td>0.43087</td>\n",
       "      <td>0.30275</td>\n",
       "      <td>0.42586</td>\n",
       "      <td>0.76307</td>\n",
       "      <td>0.559044</td>\n",
       "      <td>...</td>\n",
       "      <td>6.5104</td>\n",
       "      <td>1.9541</td>\n",
       "      <td>1.9661</td>\n",
       "      <td>1.8805</td>\n",
       "      <td>1.8818</td>\n",
       "      <td>22.5132</td>\n",
       "      <td>74.6704</td>\n",
       "      <td>66.0121</td>\n",
       "      <td>50.4524</td>\n",
       "      <td>57.9142</td>\n",
       "    </tr>\n",
       "    <tr>\n",
       "      <th>40</th>\n",
       "      <td>45</td>\n",
       "      <td>sub-59111_2_ses-2_run-1</td>\n",
       "      <td>64.367123</td>\n",
       "      <td>F</td>\n",
       "      <td>0.57855</td>\n",
       "      <td>0.46130</td>\n",
       "      <td>0.30358</td>\n",
       "      <td>0.43065</td>\n",
       "      <td>0.77403</td>\n",
       "      <td>1.444799</td>\n",
       "      <td>...</td>\n",
       "      <td>5.1275</td>\n",
       "      <td>1.6651</td>\n",
       "      <td>2.1264</td>\n",
       "      <td>1.6749</td>\n",
       "      <td>1.8392</td>\n",
       "      <td>27.2184</td>\n",
       "      <td>81.9694</td>\n",
       "      <td>69.0165</td>\n",
       "      <td>63.2677</td>\n",
       "      <td>67.3923</td>\n",
       "    </tr>\n",
       "    <tr>\n",
       "      <th>446</th>\n",
       "      <td>515</td>\n",
       "      <td>sub-59391_2_ses-2_run-1</td>\n",
       "      <td>64.441096</td>\n",
       "      <td>F</td>\n",
       "      <td>0.58870</td>\n",
       "      <td>0.45378</td>\n",
       "      <td>0.35242</td>\n",
       "      <td>0.42204</td>\n",
       "      <td>0.74735</td>\n",
       "      <td>2.141477</td>\n",
       "      <td>...</td>\n",
       "      <td>3.7613</td>\n",
       "      <td>2.0825</td>\n",
       "      <td>2.2581</td>\n",
       "      <td>1.9688</td>\n",
       "      <td>2.0218</td>\n",
       "      <td>26.8221</td>\n",
       "      <td>80.9290</td>\n",
       "      <td>66.5337</td>\n",
       "      <td>54.9269</td>\n",
       "      <td>60.2832</td>\n",
       "    </tr>\n",
       "    <tr>\n",
       "      <th>205</th>\n",
       "      <td>242</td>\n",
       "      <td>sub-59227_1_ses-1_run-1</td>\n",
       "      <td>64.617486</td>\n",
       "      <td>F</td>\n",
       "      <td>0.63947</td>\n",
       "      <td>0.49211</td>\n",
       "      <td>0.39936</td>\n",
       "      <td>0.41770</td>\n",
       "      <td>0.73914</td>\n",
       "      <td>1.747459</td>\n",
       "      <td>...</td>\n",
       "      <td>4.3678</td>\n",
       "      <td>2.1644</td>\n",
       "      <td>1.8519</td>\n",
       "      <td>2.1713</td>\n",
       "      <td>1.7002</td>\n",
       "      <td>25.5183</td>\n",
       "      <td>77.9773</td>\n",
       "      <td>69.3066</td>\n",
       "      <td>60.6663</td>\n",
       "      <td>65.1095</td>\n",
       "    </tr>\n",
       "    <tr>\n",
       "      <th>156</th>\n",
       "      <td>181</td>\n",
       "      <td>sub-59188_2_ses-2_run-1</td>\n",
       "      <td>64.731507</td>\n",
       "      <td>F</td>\n",
       "      <td>0.52855</td>\n",
       "      <td>0.39441</td>\n",
       "      <td>0.43657</td>\n",
       "      <td>0.38877</td>\n",
       "      <td>0.67888</td>\n",
       "      <td>1.599792</td>\n",
       "      <td>...</td>\n",
       "      <td>4.2815</td>\n",
       "      <td>1.9004</td>\n",
       "      <td>1.5720</td>\n",
       "      <td>1.8706</td>\n",
       "      <td>1.8931</td>\n",
       "      <td>28.2587</td>\n",
       "      <td>101.7275</td>\n",
       "      <td>87.5097</td>\n",
       "      <td>68.6720</td>\n",
       "      <td>73.7515</td>\n",
       "    </tr>\n",
       "    <tr>\n",
       "      <th>96</th>\n",
       "      <td>116</td>\n",
       "      <td>sub-59151_2_ses-2_run-1</td>\n",
       "      <td>64.926027</td>\n",
       "      <td>F</td>\n",
       "      <td>0.56303</td>\n",
       "      <td>0.48724</td>\n",
       "      <td>0.32181</td>\n",
       "      <td>0.41035</td>\n",
       "      <td>0.76546</td>\n",
       "      <td>1.046968</td>\n",
       "      <td>...</td>\n",
       "      <td>6.1655</td>\n",
       "      <td>1.8423</td>\n",
       "      <td>2.0260</td>\n",
       "      <td>1.7575</td>\n",
       "      <td>1.9316</td>\n",
       "      <td>23.0812</td>\n",
       "      <td>76.6777</td>\n",
       "      <td>69.8790</td>\n",
       "      <td>54.6059</td>\n",
       "      <td>61.0970</td>\n",
       "    </tr>\n",
       "  </tbody>\n",
       "</table>\n",
       "<p>6 rows × 21 columns</p>\n",
       "</div>"
      ],
      "text/plain": [
       "     Unnamed: 0           participant_id        age sex   gm_vol   wm_vol  \\\n",
       "103         124  sub-59155_2_ses-2_run-1  64.293151   F  0.54416  0.43087   \n",
       "40           45  sub-59111_2_ses-2_run-1  64.367123   F  0.57855  0.46130   \n",
       "446         515  sub-59391_2_ses-2_run-1  64.441096   F  0.58870  0.45378   \n",
       "205         242  sub-59227_1_ses-1_run-1  64.617486   F  0.63947  0.49211   \n",
       "156         181  sub-59188_2_ses-2_run-1  64.731507   F  0.52855  0.39441   \n",
       "96          116  sub-59151_2_ses-2_run-1  64.926027   F  0.56303  0.48724   \n",
       "\n",
       "     csf_vol  gm_ivc_ratio  gmwm_ivc_ratio   wmh_vol  ...  deepwm_b_cov  \\\n",
       "103  0.30275       0.42586         0.76307  0.559044  ...        6.5104   \n",
       "40   0.30358       0.43065         0.77403  1.444799  ...        5.1275   \n",
       "446  0.35242       0.42204         0.74735  2.141477  ...        3.7613   \n",
       "205  0.39936       0.41770         0.73914  1.747459  ...        4.3678   \n",
       "156  0.43657       0.38877         0.67888  1.599792  ...        4.2815   \n",
       "96   0.32181       0.41035         0.76546  1.046968  ...        6.1655   \n",
       "\n",
       "     aca_b_cov  mca_b_cov  pca_b_cov  totalgm_b_cov  deepwm_b     aca_b  \\\n",
       "103     1.9541     1.9661     1.8805         1.8818   22.5132   74.6704   \n",
       "40      1.6651     2.1264     1.6749         1.8392   27.2184   81.9694   \n",
       "446     2.0825     2.2581     1.9688         2.0218   26.8221   80.9290   \n",
       "205     2.1644     1.8519     2.1713         1.7002   25.5183   77.9773   \n",
       "156     1.9004     1.5720     1.8706         1.8931   28.2587  101.7275   \n",
       "96      1.8423     2.0260     1.7575         1.9316   23.0812   76.6777   \n",
       "\n",
       "       mca_b    pca_b  totalgm_b  \n",
       "103  66.0121  50.4524    57.9142  \n",
       "40   69.0165  63.2677    67.3923  \n",
       "446  66.5337  54.9269    60.2832  \n",
       "205  69.3066  60.6663    65.1095  \n",
       "156  87.5097  68.6720    73.7515  \n",
       "96   69.8790  54.6059    61.0970  \n",
       "\n",
       "[6 rows x 21 columns]"
      ]
     },
     "execution_count": 20,
     "metadata": {},
     "output_type": "execute_result"
    }
   ],
   "source": [
    "stroke_bottom_unharmonized.head(6)"
   ]
  },
  {
   "cell_type": "code",
   "execution_count": 22,
   "id": "723fafba-06bf-4b18-ac6a-011c3fdb100e",
   "metadata": {
    "tags": []
   },
   "outputs": [
    {
     "name": "stdout",
     "output_type": "stream",
     "text": [
      "Nan count 0\n"
     ]
    }
   ],
   "source": [
    "both_togetherF, ftF, btF, feature_dictF, len1, len2 = har.prep_for_neurocombat(stroke_even_unharmonized, stroke_odd_unharmonized)"
   ]
  },
  {
   "cell_type": "code",
   "execution_count": 23,
   "id": "ec498814-b97b-4d18-bba9-0fc8abf97abc",
   "metadata": {
    "tags": []
   },
   "outputs": [
    {
     "data": {
      "text/html": [
       "<div>\n",
       "<style scoped>\n",
       "    .dataframe tbody tr th:only-of-type {\n",
       "        vertical-align: middle;\n",
       "    }\n",
       "\n",
       "    .dataframe tbody tr th {\n",
       "        vertical-align: top;\n",
       "    }\n",
       "\n",
       "    .dataframe thead th {\n",
       "        text-align: right;\n",
       "    }\n",
       "</style>\n",
       "<table border=\"1\" class=\"dataframe\">\n",
       "  <thead>\n",
       "    <tr style=\"text-align: right;\">\n",
       "      <th>participant_id</th>\n",
       "      <th>sub-59251_1_ses-1_run-1</th>\n",
       "      <th>sub-59147_1_ses-1_run-1</th>\n",
       "      <th>sub-59266_1_ses-1_run-1</th>\n",
       "      <th>sub-59203_1_ses-1_run-1</th>\n",
       "      <th>sub-59145_1_ses-1_run-1</th>\n",
       "      <th>sub-59330_1_ses-1_run-1</th>\n",
       "      <th>sub-59266_2_ses-2_run-1</th>\n",
       "      <th>sub-59259_1_ses-1_run-1</th>\n",
       "      <th>sub-59156_2_ses-2_run-1</th>\n",
       "      <th>sub-59132_1_ses-1_run-1</th>\n",
       "      <th>...</th>\n",
       "      <th>sub-59121_2_ses-2_run-1</th>\n",
       "      <th>sub-59430_1_ses-1_run-1</th>\n",
       "      <th>sub-59274_2_ses-2_run-1</th>\n",
       "      <th>sub-59430_2_ses-2_run-1</th>\n",
       "      <th>sub-59311_2_ses-2_run-1</th>\n",
       "      <th>sub-59276_1_ses-1_run-1</th>\n",
       "      <th>sub-59116_1_ses-1_run-1</th>\n",
       "      <th>sub-59295_2_ses-2_run-1</th>\n",
       "      <th>sub-59376_2_ses-2_run-1</th>\n",
       "      <th>sub-59358_1_ses-1_run-1</th>\n",
       "    </tr>\n",
       "  </thead>\n",
       "  <tbody>\n",
       "    <tr>\n",
       "      <th>0</th>\n",
       "      <td>0.63411</td>\n",
       "      <td>0.69681</td>\n",
       "      <td>0.66222</td>\n",
       "      <td>0.74033</td>\n",
       "      <td>0.72457</td>\n",
       "      <td>0.69901</td>\n",
       "      <td>0.67701</td>\n",
       "      <td>0.83057</td>\n",
       "      <td>0.69112</td>\n",
       "      <td>0.6207</td>\n",
       "      <td>...</td>\n",
       "      <td>0.57227</td>\n",
       "      <td>0.59931</td>\n",
       "      <td>0.58286</td>\n",
       "      <td>0.60668</td>\n",
       "      <td>0.64069</td>\n",
       "      <td>0.60875</td>\n",
       "      <td>0.52201</td>\n",
       "      <td>0.63134</td>\n",
       "      <td>0.64732</td>\n",
       "      <td>0.46979</td>\n",
       "    </tr>\n",
       "    <tr>\n",
       "      <th>1</th>\n",
       "      <td>0.43188</td>\n",
       "      <td>0.45745</td>\n",
       "      <td>0.50684</td>\n",
       "      <td>0.4738</td>\n",
       "      <td>0.49672</td>\n",
       "      <td>0.56004</td>\n",
       "      <td>0.53701</td>\n",
       "      <td>0.58904</td>\n",
       "      <td>0.47556</td>\n",
       "      <td>0.42323</td>\n",
       "      <td>...</td>\n",
       "      <td>0.42548</td>\n",
       "      <td>0.48838</td>\n",
       "      <td>0.48259</td>\n",
       "      <td>0.45482</td>\n",
       "      <td>0.55084</td>\n",
       "      <td>0.48611</td>\n",
       "      <td>0.32417</td>\n",
       "      <td>0.49361</td>\n",
       "      <td>0.50652</td>\n",
       "      <td>0.35423</td>\n",
       "    </tr>\n",
       "    <tr>\n",
       "      <th>2</th>\n",
       "      <td>0.19721</td>\n",
       "      <td>0.23545</td>\n",
       "      <td>0.29944</td>\n",
       "      <td>0.30835</td>\n",
       "      <td>0.2196</td>\n",
       "      <td>0.29914</td>\n",
       "      <td>0.24229</td>\n",
       "      <td>0.26311</td>\n",
       "      <td>0.22294</td>\n",
       "      <td>0.30565</td>\n",
       "      <td>...</td>\n",
       "      <td>0.60803</td>\n",
       "      <td>0.61086</td>\n",
       "      <td>0.61895</td>\n",
       "      <td>0.65419</td>\n",
       "      <td>0.51908</td>\n",
       "      <td>0.51604</td>\n",
       "      <td>0.40673</td>\n",
       "      <td>0.48013</td>\n",
       "      <td>0.5128</td>\n",
       "      <td>0.46033</td>\n",
       "    </tr>\n",
       "  </tbody>\n",
       "</table>\n",
       "<p>3 rows × 514 columns</p>\n",
       "</div>"
      ],
      "text/plain": [
       "participant_id sub-59251_1_ses-1_run-1 sub-59147_1_ses-1_run-1  \\\n",
       "0                              0.63411                 0.69681   \n",
       "1                              0.43188                 0.45745   \n",
       "2                              0.19721                 0.23545   \n",
       "\n",
       "participant_id sub-59266_1_ses-1_run-1 sub-59203_1_ses-1_run-1  \\\n",
       "0                              0.66222                 0.74033   \n",
       "1                              0.50684                  0.4738   \n",
       "2                              0.29944                 0.30835   \n",
       "\n",
       "participant_id sub-59145_1_ses-1_run-1 sub-59330_1_ses-1_run-1  \\\n",
       "0                              0.72457                 0.69901   \n",
       "1                              0.49672                 0.56004   \n",
       "2                               0.2196                 0.29914   \n",
       "\n",
       "participant_id sub-59266_2_ses-2_run-1 sub-59259_1_ses-1_run-1  \\\n",
       "0                              0.67701                 0.83057   \n",
       "1                              0.53701                 0.58904   \n",
       "2                              0.24229                 0.26311   \n",
       "\n",
       "participant_id sub-59156_2_ses-2_run-1 sub-59132_1_ses-1_run-1  ...  \\\n",
       "0                              0.69112                  0.6207  ...   \n",
       "1                              0.47556                 0.42323  ...   \n",
       "2                              0.22294                 0.30565  ...   \n",
       "\n",
       "participant_id sub-59121_2_ses-2_run-1 sub-59430_1_ses-1_run-1  \\\n",
       "0                              0.57227                 0.59931   \n",
       "1                              0.42548                 0.48838   \n",
       "2                              0.60803                 0.61086   \n",
       "\n",
       "participant_id sub-59274_2_ses-2_run-1 sub-59430_2_ses-2_run-1  \\\n",
       "0                              0.58286                 0.60668   \n",
       "1                              0.48259                 0.45482   \n",
       "2                              0.61895                 0.65419   \n",
       "\n",
       "participant_id sub-59311_2_ses-2_run-1 sub-59276_1_ses-1_run-1  \\\n",
       "0                              0.64069                 0.60875   \n",
       "1                              0.55084                 0.48611   \n",
       "2                              0.51908                 0.51604   \n",
       "\n",
       "participant_id sub-59116_1_ses-1_run-1 sub-59295_2_ses-2_run-1  \\\n",
       "0                              0.52201                 0.63134   \n",
       "1                              0.32417                 0.49361   \n",
       "2                              0.40673                 0.48013   \n",
       "\n",
       "participant_id sub-59376_2_ses-2_run-1 sub-59358_1_ses-1_run-1  \n",
       "0                              0.64732                 0.46979  \n",
       "1                              0.50652                 0.35423  \n",
       "2                               0.5128                 0.46033  \n",
       "\n",
       "[3 rows x 514 columns]"
      ]
     },
     "execution_count": 23,
     "metadata": {},
     "output_type": "execute_result"
    }
   ],
   "source": [
    "ftF.head(3)"
   ]
  },
  {
   "cell_type": "code",
   "execution_count": 24,
   "id": "d65687c2-9cd2-4db3-8ffc-bf3554b6bf5f",
   "metadata": {
    "tags": []
   },
   "outputs": [],
   "source": [
    "ftF.to_csv('ftF1_UH.csv')"
   ]
  },
  {
   "cell_type": "code",
   "execution_count": 25,
   "id": "5eb7cb21-4f74-4825-ad42-37179d5f9fa2",
   "metadata": {
    "tags": []
   },
   "outputs": [
    {
     "data": {
      "text/plain": [
       "array([[ 0.63411,  0.69681,  0.66222, ...,  0.63134,  0.64732,  0.46979],\n",
       "       [ 0.43188,  0.45745,  0.50684, ...,  0.49361,  0.50652,  0.35423],\n",
       "       [ 0.19721,  0.23545,  0.29944, ...,  0.48013,  0.5128 ,  0.46033],\n",
       "       ...,\n",
       "       [80.2063 , 75.0336 , 72.6971 , ..., 53.8498 , 66.6457 , 49.0843 ],\n",
       "       [67.9731 , 60.6876 , 58.7849 , ..., 33.5675 , 48.0675 , 41.8283 ],\n",
       "       [74.5803 , 69.1784 , 65.74   , ..., 43.2865 , 57.7995 , 47.0884 ]])"
      ]
     },
     "execution_count": 25,
     "metadata": {},
     "output_type": "execute_result"
    }
   ],
   "source": [
    "data = np.genfromtxt('ftF1_UH.csv', delimiter=\",\", skip_header=1)\n",
    "data = data[:, 1:]\n",
    "data"
   ]
  },
  {
   "cell_type": "code",
   "execution_count": 26,
   "id": "09a40ed6-169c-448b-b9a0-ce5689f96467",
   "metadata": {
    "tags": []
   },
   "outputs": [],
   "source": [
    "# Specifying the batch (scanner variable) as well as a sex covariate to preserve:\n",
    "first_columns_as_one = [1] * len1\n",
    "last_columns_as_two = [2] * len2\n",
    "covars = {'batch':first_columns_as_one + last_columns_as_two,\n",
    "          'sex':both_togetherF.loc['sex',:].values.tolist(),\n",
    "           'age':both_togetherF.loc['age',:].values.tolist(),} \n",
    "covars = pd.DataFrame(covars) "
   ]
  },
  {
   "cell_type": "code",
   "execution_count": 27,
   "id": "96114ec3-0ab8-4a44-ade5-5e73fff7e198",
   "metadata": {
    "tags": []
   },
   "outputs": [
    {
     "data": {
      "text/html": [
       "<div>\n",
       "<style scoped>\n",
       "    .dataframe tbody tr th:only-of-type {\n",
       "        vertical-align: middle;\n",
       "    }\n",
       "\n",
       "    .dataframe tbody tr th {\n",
       "        vertical-align: top;\n",
       "    }\n",
       "\n",
       "    .dataframe thead th {\n",
       "        text-align: right;\n",
       "    }\n",
       "</style>\n",
       "<table border=\"1\" class=\"dataframe\">\n",
       "  <thead>\n",
       "    <tr style=\"text-align: right;\">\n",
       "      <th></th>\n",
       "      <th>batch</th>\n",
       "      <th>sex</th>\n",
       "      <th>age</th>\n",
       "    </tr>\n",
       "  </thead>\n",
       "  <tbody>\n",
       "    <tr>\n",
       "      <th>0</th>\n",
       "      <td>1</td>\n",
       "      <td>F</td>\n",
       "      <td>20.505464</td>\n",
       "    </tr>\n",
       "    <tr>\n",
       "      <th>1</th>\n",
       "      <td>1</td>\n",
       "      <td>F</td>\n",
       "      <td>23.483607</td>\n",
       "    </tr>\n",
       "    <tr>\n",
       "      <th>2</th>\n",
       "      <td>1</td>\n",
       "      <td>F</td>\n",
       "      <td>25.565574</td>\n",
       "    </tr>\n",
       "    <tr>\n",
       "      <th>3</th>\n",
       "      <td>1</td>\n",
       "      <td>F</td>\n",
       "      <td>26.084699</td>\n",
       "    </tr>\n",
       "    <tr>\n",
       "      <th>4</th>\n",
       "      <td>1</td>\n",
       "      <td>M</td>\n",
       "      <td>26.218744</td>\n",
       "    </tr>\n",
       "    <tr>\n",
       "      <th>...</th>\n",
       "      <td>...</td>\n",
       "      <td>...</td>\n",
       "      <td>...</td>\n",
       "    </tr>\n",
       "    <tr>\n",
       "      <th>509</th>\n",
       "      <td>2</td>\n",
       "      <td>M</td>\n",
       "      <td>81.718579</td>\n",
       "    </tr>\n",
       "    <tr>\n",
       "      <th>510</th>\n",
       "      <td>2</td>\n",
       "      <td>F</td>\n",
       "      <td>83.361644</td>\n",
       "    </tr>\n",
       "    <tr>\n",
       "      <th>511</th>\n",
       "      <td>2</td>\n",
       "      <td>M</td>\n",
       "      <td>84.873973</td>\n",
       "    </tr>\n",
       "    <tr>\n",
       "      <th>512</th>\n",
       "      <td>2</td>\n",
       "      <td>M</td>\n",
       "      <td>85.816139</td>\n",
       "    </tr>\n",
       "    <tr>\n",
       "      <th>513</th>\n",
       "      <td>2</td>\n",
       "      <td>F</td>\n",
       "      <td>94.668493</td>\n",
       "    </tr>\n",
       "  </tbody>\n",
       "</table>\n",
       "<p>514 rows × 3 columns</p>\n",
       "</div>"
      ],
      "text/plain": [
       "     batch sex        age\n",
       "0        1   F  20.505464\n",
       "1        1   F  23.483607\n",
       "2        1   F  25.565574\n",
       "3        1   F  26.084699\n",
       "4        1   M  26.218744\n",
       "..     ...  ..        ...\n",
       "509      2   M  81.718579\n",
       "510      2   F  83.361644\n",
       "511      2   M  84.873973\n",
       "512      2   M  85.816139\n",
       "513      2   F  94.668493\n",
       "\n",
       "[514 rows x 3 columns]"
      ]
     },
     "execution_count": 27,
     "metadata": {},
     "output_type": "execute_result"
    }
   ],
   "source": [
    "covars"
   ]
  },
  {
   "cell_type": "code",
   "execution_count": 29,
   "id": "178c6899-d7d4-4254-a3e6-80d6cd1a0fe0",
   "metadata": {
    "tags": []
   },
   "outputs": [
    {
     "data": {
      "text/plain": [
       "array([[ 0.63411,  0.69681,  0.66222, ...,  0.63134,  0.64732,  0.46979],\n",
       "       [ 0.43188,  0.45745,  0.50684, ...,  0.49361,  0.50652,  0.35423],\n",
       "       [ 0.19721,  0.23545,  0.29944, ...,  0.48013,  0.5128 ,  0.46033],\n",
       "       ...,\n",
       "       [80.2063 , 75.0336 , 72.6971 , ..., 53.8498 , 66.6457 , 49.0843 ],\n",
       "       [67.9731 , 60.6876 , 58.7849 , ..., 33.5675 , 48.0675 , 41.8283 ],\n",
       "       [74.5803 , 69.1784 , 65.74   , ..., 43.2865 , 57.7995 , 47.0884 ]])"
      ]
     },
     "execution_count": 29,
     "metadata": {},
     "output_type": "execute_result"
    }
   ],
   "source": [
    "data"
   ]
  },
  {
   "cell_type": "code",
   "execution_count": 30,
   "id": "ee5388f8-d0d9-4e62-9ae9-316df6bb9ae4",
   "metadata": {
    "tags": []
   },
   "outputs": [
    {
     "name": "stdout",
     "output_type": "stream",
     "text": [
      "[neuroCombat] Creating design matrix\n",
      "[neuroCombat] Standardizing data across features\n",
      "[neuroCombat] Fitting L/S model and finding priors\n",
      "[neuroCombat] Finding parametric adjustments\n",
      "[neuroCombat] Final adjustment of data\n"
     ]
    }
   ],
   "source": [
    "# specifify sex as categorical\n",
    "categorical_cols = ['sex']\n",
    "# to specify the name of the variable that encodes for the scanner/batch covariate:\n",
    "batch_col_mine = 'batch'\n",
    "our_continuous_col=['age']\n",
    "# harmonization step:\n",
    "data_combat = neuroCombat(dat=data,\n",
    "    covars=covars,\n",
    "    batch_col=batch_col_mine,\n",
    "    continuous_cols=our_continuous_col,\n",
    "    categorical_cols=categorical_cols)[\"data\"]"
   ]
  },
  {
   "cell_type": "code",
   "execution_count": 31,
   "id": "f41ba47c-4d24-41c0-b666-4592fcb470dc",
   "metadata": {
    "tags": []
   },
   "outputs": [
    {
     "data": {
      "text/html": [
       "<div>\n",
       "<style scoped>\n",
       "    .dataframe tbody tr th:only-of-type {\n",
       "        vertical-align: middle;\n",
       "    }\n",
       "\n",
       "    .dataframe tbody tr th {\n",
       "        vertical-align: top;\n",
       "    }\n",
       "\n",
       "    .dataframe thead th {\n",
       "        text-align: right;\n",
       "    }\n",
       "</style>\n",
       "<table border=\"1\" class=\"dataframe\">\n",
       "  <thead>\n",
       "    <tr style=\"text-align: right;\">\n",
       "      <th></th>\n",
       "      <th>0</th>\n",
       "      <th>1</th>\n",
       "      <th>2</th>\n",
       "      <th>3</th>\n",
       "      <th>4</th>\n",
       "      <th>5</th>\n",
       "      <th>6</th>\n",
       "      <th>7</th>\n",
       "      <th>8</th>\n",
       "      <th>9</th>\n",
       "      <th>...</th>\n",
       "      <th>504</th>\n",
       "      <th>505</th>\n",
       "      <th>506</th>\n",
       "      <th>507</th>\n",
       "      <th>508</th>\n",
       "      <th>509</th>\n",
       "      <th>510</th>\n",
       "      <th>511</th>\n",
       "      <th>512</th>\n",
       "      <th>513</th>\n",
       "    </tr>\n",
       "  </thead>\n",
       "  <tbody>\n",
       "    <tr>\n",
       "      <th>0</th>\n",
       "      <td>0.633324</td>\n",
       "      <td>0.696755</td>\n",
       "      <td>0.661873</td>\n",
       "      <td>0.740798</td>\n",
       "      <td>0.724303</td>\n",
       "      <td>0.698507</td>\n",
       "      <td>0.676872</td>\n",
       "      <td>0.83145</td>\n",
       "      <td>0.691158</td>\n",
       "      <td>0.620035</td>\n",
       "      <td>...</td>\n",
       "      <td>0.572604</td>\n",
       "      <td>0.599284</td>\n",
       "      <td>0.583034</td>\n",
       "      <td>0.606520</td>\n",
       "      <td>0.640082</td>\n",
       "      <td>0.608518</td>\n",
       "      <td>0.52211</td>\n",
       "      <td>0.630694</td>\n",
       "      <td>0.646431</td>\n",
       "      <td>0.470140</td>\n",
       "    </tr>\n",
       "    <tr>\n",
       "      <th>1</th>\n",
       "      <td>0.432330</td>\n",
       "      <td>0.457807</td>\n",
       "      <td>0.507032</td>\n",
       "      <td>0.474095</td>\n",
       "      <td>0.497133</td>\n",
       "      <td>0.560247</td>\n",
       "      <td>0.537098</td>\n",
       "      <td>0.58915</td>\n",
       "      <td>0.475841</td>\n",
       "      <td>0.423675</td>\n",
       "      <td>...</td>\n",
       "      <td>0.425266</td>\n",
       "      <td>0.488210</td>\n",
       "      <td>0.482416</td>\n",
       "      <td>0.454628</td>\n",
       "      <td>0.550715</td>\n",
       "      <td>0.485940</td>\n",
       "      <td>0.32393</td>\n",
       "      <td>0.493448</td>\n",
       "      <td>0.506368</td>\n",
       "      <td>0.354021</td>\n",
       "    </tr>\n",
       "  </tbody>\n",
       "</table>\n",
       "<p>2 rows × 514 columns</p>\n",
       "</div>"
      ],
      "text/plain": [
       "        0         1         2         3         4         5         6    \\\n",
       "0  0.633324  0.696755  0.661873  0.740798  0.724303  0.698507  0.676872   \n",
       "1  0.432330  0.457807  0.507032  0.474095  0.497133  0.560247  0.537098   \n",
       "\n",
       "       7         8         9    ...       504       505       506       507  \\\n",
       "0  0.83145  0.691158  0.620035  ...  0.572604  0.599284  0.583034  0.606520   \n",
       "1  0.58915  0.475841  0.423675  ...  0.425266  0.488210  0.482416  0.454628   \n",
       "\n",
       "        508       509      510       511       512       513  \n",
       "0  0.640082  0.608518  0.52211  0.630694  0.646431  0.470140  \n",
       "1  0.550715  0.485940  0.32393  0.493448  0.506368  0.354021  \n",
       "\n",
       "[2 rows x 514 columns]"
      ]
     },
     "execution_count": 31,
     "metadata": {},
     "output_type": "execute_result"
    }
   ],
   "source": [
    "neurocombat = pd.DataFrame(data_combat)\n",
    "neurocombat.head(2)"
   ]
  },
  {
   "cell_type": "code",
   "execution_count": 32,
   "id": "6e7a6ac3-0e97-4951-875c-9b1476fafdb9",
   "metadata": {
    "tags": []
   },
   "outputs": [
    {
     "name": "stderr",
     "output_type": "stream",
     "text": [
      "..\\cvasl\\harmony.py:163: SettingWithCopyWarning: \n",
      "A value is trying to be set on a copy of a slice from a DataFrame\n",
      "\n",
      "See the caveats in the documentation: https://pandas.pydata.org/pandas-docs/stable/user_guide/indexing.html#returning-a-view-versus-a-copy\n",
      "  topperF['char'][0] = row0  # 'age'\n",
      "C:\\Users\\CandaceMoore\\miniconda3\\envs\\neuron_go\\lib\\site-packages\\pandas\\core\\indexing.py:671: SettingWithCopyWarning: \n",
      "A value is trying to be set on a copy of a slice from a DataFrame\n",
      "\n",
      "See the caveats in the documentation: https://pandas.pydata.org/pandas-docs/stable/user_guide/indexing.html#returning-a-view-versus-a-copy\n",
      "  self._setitem_with_indexer(indexer, value)\n"
     ]
    }
   ],
   "source": [
    "topperF = har.make_topper(btF,'age', 'sex')"
   ]
  },
  {
   "cell_type": "code",
   "execution_count": 33,
   "id": "a502f25d-9235-4a2d-90e3-9e894f52a32a",
   "metadata": {
    "tags": []
   },
   "outputs": [],
   "source": [
    "bottom = neurocombat.reset_index(drop=False)\n",
    "bottom = bottom.rename(columns={\"index\": \"char\"})\n",
    "bottom.columns = topperF.columns"
   ]
  },
  {
   "cell_type": "code",
   "execution_count": 34,
   "id": "934d4e8f-55e8-45b2-ae6a-b6a2778dcd25",
   "metadata": {
    "tags": []
   },
   "outputs": [],
   "source": [
    "back_together = pd.concat([topperF, bottom])\n",
    "back_together = back_together.T\n",
    "#back_together"
   ]
  },
  {
   "cell_type": "code",
   "execution_count": 35,
   "id": "263540ca-5d70-42ad-b196-5c3bc03db452",
   "metadata": {
    "tags": []
   },
   "outputs": [],
   "source": [
    "new_header = back_together.iloc[0] #grab the first row for the header\n",
    "back_together.columns = new_header #set the header row as the df header\n",
    "back_together = back_together[1:]\n",
    "#back_together"
   ]
  },
  {
   "cell_type": "code",
   "execution_count": 36,
   "id": "0cbe435b-d48f-43bd-b8ed-353bc49fbdde",
   "metadata": {
    "tags": []
   },
   "outputs": [],
   "source": [
    "odds_harmonized = back_together.tail(len2)\n",
    "evens_harmonized = back_together.head(len1)"
   ]
  },
  {
   "cell_type": "code",
   "execution_count": 37,
   "id": "9e50ab4c-b44d-44b4-ab5d-8cc090817545",
   "metadata": {
    "tags": []
   },
   "outputs": [
    {
     "data": {
      "text/html": [
       "<div>\n",
       "<style scoped>\n",
       "    .dataframe tbody tr th:only-of-type {\n",
       "        vertical-align: middle;\n",
       "    }\n",
       "\n",
       "    .dataframe tbody tr th {\n",
       "        vertical-align: top;\n",
       "    }\n",
       "\n",
       "    .dataframe thead th {\n",
       "        text-align: right;\n",
       "    }\n",
       "</style>\n",
       "<table border=\"1\" class=\"dataframe\">\n",
       "  <thead>\n",
       "    <tr style=\"text-align: right;\">\n",
       "      <th>char</th>\n",
       "      <th>age</th>\n",
       "      <th>sex</th>\n",
       "      <th>0</th>\n",
       "      <th>1</th>\n",
       "      <th>2</th>\n",
       "      <th>3</th>\n",
       "      <th>4</th>\n",
       "      <th>5</th>\n",
       "      <th>6</th>\n",
       "      <th>7</th>\n",
       "      <th>8</th>\n",
       "      <th>9</th>\n",
       "      <th>10</th>\n",
       "      <th>11</th>\n",
       "      <th>12</th>\n",
       "      <th>13</th>\n",
       "      <th>14</th>\n",
       "      <th>15</th>\n",
       "      <th>16</th>\n",
       "    </tr>\n",
       "  </thead>\n",
       "  <tbody>\n",
       "    <tr>\n",
       "      <th>sub-59251_1_ses-1_run-1</th>\n",
       "      <td>20.5055</td>\n",
       "      <td>F</td>\n",
       "      <td>0.633324</td>\n",
       "      <td>0.43233</td>\n",
       "      <td>0.198037</td>\n",
       "      <td>0.501877</td>\n",
       "      <td>0.843369</td>\n",
       "      <td>0.670257</td>\n",
       "      <td>3.38558</td>\n",
       "      <td>8.07672</td>\n",
       "      <td>1.63941</td>\n",
       "      <td>2.0983</td>\n",
       "      <td>1.88816</td>\n",
       "      <td>1.86372</td>\n",
       "      <td>24.2287</td>\n",
       "      <td>84.9951</td>\n",
       "      <td>80.3289</td>\n",
       "      <td>67.9422</td>\n",
       "      <td>74.6714</td>\n",
       "    </tr>\n",
       "    <tr>\n",
       "      <th>sub-59147_1_ses-1_run-1</th>\n",
       "      <td>23.4836</td>\n",
       "      <td>F</td>\n",
       "      <td>0.696755</td>\n",
       "      <td>0.457807</td>\n",
       "      <td>0.236279</td>\n",
       "      <td>0.501333</td>\n",
       "      <td>0.829966</td>\n",
       "      <td>0.953062</td>\n",
       "      <td>2.94549</td>\n",
       "      <td>6.2604</td>\n",
       "      <td>1.82786</td>\n",
       "      <td>2.10325</td>\n",
       "      <td>1.68035</td>\n",
       "      <td>1.99326</td>\n",
       "      <td>23.2329</td>\n",
       "      <td>84.0915</td>\n",
       "      <td>75.2272</td>\n",
       "      <td>60.6908</td>\n",
       "      <td>69.3426</td>\n",
       "    </tr>\n",
       "    <tr>\n",
       "      <th>sub-59266_1_ses-1_run-1</th>\n",
       "      <td>25.5656</td>\n",
       "      <td>F</td>\n",
       "      <td>0.661873</td>\n",
       "      <td>0.507032</td>\n",
       "      <td>0.300272</td>\n",
       "      <td>0.450537</td>\n",
       "      <td>0.79493</td>\n",
       "      <td>1.00534</td>\n",
       "      <td>3.24919</td>\n",
       "      <td>6.86966</td>\n",
       "      <td>1.94301</td>\n",
       "      <td>2.20197</td>\n",
       "      <td>1.8817</td>\n",
       "      <td>1.90984</td>\n",
       "      <td>22.1293</td>\n",
       "      <td>79.2017</td>\n",
       "      <td>72.9187</td>\n",
       "      <td>58.7952</td>\n",
       "      <td>65.9497</td>\n",
       "    </tr>\n",
       "  </tbody>\n",
       "</table>\n",
       "</div>"
      ],
      "text/plain": [
       "char                         age sex         0         1         2         3  \\\n",
       "sub-59251_1_ses-1_run-1  20.5055   F  0.633324   0.43233  0.198037  0.501877   \n",
       "sub-59147_1_ses-1_run-1  23.4836   F  0.696755  0.457807  0.236279  0.501333   \n",
       "sub-59266_1_ses-1_run-1  25.5656   F  0.661873  0.507032  0.300272  0.450537   \n",
       "\n",
       "char                            4         5        6        7        8  \\\n",
       "sub-59251_1_ses-1_run-1  0.843369  0.670257  3.38558  8.07672  1.63941   \n",
       "sub-59147_1_ses-1_run-1  0.829966  0.953062  2.94549   6.2604  1.82786   \n",
       "sub-59266_1_ses-1_run-1   0.79493   1.00534  3.24919  6.86966  1.94301   \n",
       "\n",
       "char                           9       10       11       12       13       14  \\\n",
       "sub-59251_1_ses-1_run-1   2.0983  1.88816  1.86372  24.2287  84.9951  80.3289   \n",
       "sub-59147_1_ses-1_run-1  2.10325  1.68035  1.99326  23.2329  84.0915  75.2272   \n",
       "sub-59266_1_ses-1_run-1  2.20197   1.8817  1.90984  22.1293  79.2017  72.9187   \n",
       "\n",
       "char                          15       16  \n",
       "sub-59251_1_ses-1_run-1  67.9422  74.6714  \n",
       "sub-59147_1_ses-1_run-1  60.6908  69.3426  \n",
       "sub-59266_1_ses-1_run-1  58.7952  65.9497  "
      ]
     },
     "execution_count": 37,
     "metadata": {},
     "output_type": "execute_result"
    }
   ],
   "source": [
    "evens_harmonized.head(3)"
   ]
  },
  {
   "cell_type": "code",
   "execution_count": 38,
   "id": "64f1883c-0873-4dd7-ba44-8dcb0da7125f",
   "metadata": {
    "tags": []
   },
   "outputs": [],
   "source": [
    "evens_harmonized = evens_harmonized.rename(feature_dictF, axis='columns')\n",
    "odds_harmonized= odds_harmonized.rename(feature_dictF, axis='columns')"
   ]
  },
  {
   "cell_type": "markdown",
   "id": "1c8f2f1c-587f-43ca-8210-c31d983cff31",
   "metadata": {},
   "source": [
    "Save off to harmonized csv files"
   ]
  },
  {
   "cell_type": "code",
   "execution_count": 39,
   "id": "f360180a-3d81-44e8-8f70-49c4a2859ec5",
   "metadata": {
    "tags": []
   },
   "outputs": [
    {
     "data": {
      "text/html": [
       "<div>\n",
       "<style scoped>\n",
       "    .dataframe tbody tr th:only-of-type {\n",
       "        vertical-align: middle;\n",
       "    }\n",
       "\n",
       "    .dataframe tbody tr th {\n",
       "        vertical-align: top;\n",
       "    }\n",
       "\n",
       "    .dataframe thead th {\n",
       "        text-align: right;\n",
       "    }\n",
       "</style>\n",
       "<table border=\"1\" class=\"dataframe\">\n",
       "  <thead>\n",
       "    <tr style=\"text-align: right;\">\n",
       "      <th>char</th>\n",
       "      <th>age</th>\n",
       "      <th>sex</th>\n",
       "      <th>gm_vol</th>\n",
       "      <th>wm_vol</th>\n",
       "      <th>csf_vol</th>\n",
       "      <th>gm_ivc_ratio</th>\n",
       "      <th>gmwm_ivc_ratio</th>\n",
       "      <th>wmh_vol</th>\n",
       "      <th>wmh_count</th>\n",
       "      <th>deepwm_b_cov</th>\n",
       "      <th>aca_b_cov</th>\n",
       "      <th>mca_b_cov</th>\n",
       "      <th>pca_b_cov</th>\n",
       "      <th>totalgm_b_cov</th>\n",
       "      <th>deepwm_b</th>\n",
       "      <th>aca_b</th>\n",
       "      <th>mca_b</th>\n",
       "      <th>pca_b</th>\n",
       "      <th>totalgm_b</th>\n",
       "    </tr>\n",
       "  </thead>\n",
       "  <tbody>\n",
       "    <tr>\n",
       "      <th>sub-59251_1_ses-1_run-1</th>\n",
       "      <td>20.5055</td>\n",
       "      <td>F</td>\n",
       "      <td>0.633324</td>\n",
       "      <td>0.43233</td>\n",
       "      <td>0.198037</td>\n",
       "      <td>0.501877</td>\n",
       "      <td>0.843369</td>\n",
       "      <td>0.670257</td>\n",
       "      <td>3.38558</td>\n",
       "      <td>8.07672</td>\n",
       "      <td>1.63941</td>\n",
       "      <td>2.0983</td>\n",
       "      <td>1.88816</td>\n",
       "      <td>1.86372</td>\n",
       "      <td>24.2287</td>\n",
       "      <td>84.9951</td>\n",
       "      <td>80.3289</td>\n",
       "      <td>67.9422</td>\n",
       "      <td>74.6714</td>\n",
       "    </tr>\n",
       "    <tr>\n",
       "      <th>sub-59147_1_ses-1_run-1</th>\n",
       "      <td>23.4836</td>\n",
       "      <td>F</td>\n",
       "      <td>0.696755</td>\n",
       "      <td>0.457807</td>\n",
       "      <td>0.236279</td>\n",
       "      <td>0.501333</td>\n",
       "      <td>0.829966</td>\n",
       "      <td>0.953062</td>\n",
       "      <td>2.94549</td>\n",
       "      <td>6.2604</td>\n",
       "      <td>1.82786</td>\n",
       "      <td>2.10325</td>\n",
       "      <td>1.68035</td>\n",
       "      <td>1.99326</td>\n",
       "      <td>23.2329</td>\n",
       "      <td>84.0915</td>\n",
       "      <td>75.2272</td>\n",
       "      <td>60.6908</td>\n",
       "      <td>69.3426</td>\n",
       "    </tr>\n",
       "    <tr>\n",
       "      <th>sub-59266_1_ses-1_run-1</th>\n",
       "      <td>25.5656</td>\n",
       "      <td>F</td>\n",
       "      <td>0.661873</td>\n",
       "      <td>0.507032</td>\n",
       "      <td>0.300272</td>\n",
       "      <td>0.450537</td>\n",
       "      <td>0.79493</td>\n",
       "      <td>1.00534</td>\n",
       "      <td>3.24919</td>\n",
       "      <td>6.86966</td>\n",
       "      <td>1.94301</td>\n",
       "      <td>2.20197</td>\n",
       "      <td>1.8817</td>\n",
       "      <td>1.90984</td>\n",
       "      <td>22.1293</td>\n",
       "      <td>79.2017</td>\n",
       "      <td>72.9187</td>\n",
       "      <td>58.7952</td>\n",
       "      <td>65.9497</td>\n",
       "    </tr>\n",
       "  </tbody>\n",
       "</table>\n",
       "</div>"
      ],
      "text/plain": [
       "char                         age sex    gm_vol    wm_vol   csf_vol  \\\n",
       "sub-59251_1_ses-1_run-1  20.5055   F  0.633324   0.43233  0.198037   \n",
       "sub-59147_1_ses-1_run-1  23.4836   F  0.696755  0.457807  0.236279   \n",
       "sub-59266_1_ses-1_run-1  25.5656   F  0.661873  0.507032  0.300272   \n",
       "\n",
       "char                    gm_ivc_ratio gmwm_ivc_ratio   wmh_vol wmh_count  \\\n",
       "sub-59251_1_ses-1_run-1     0.501877       0.843369  0.670257   3.38558   \n",
       "sub-59147_1_ses-1_run-1     0.501333       0.829966  0.953062   2.94549   \n",
       "sub-59266_1_ses-1_run-1     0.450537        0.79493   1.00534   3.24919   \n",
       "\n",
       "char                    deepwm_b_cov aca_b_cov mca_b_cov pca_b_cov  \\\n",
       "sub-59251_1_ses-1_run-1      8.07672   1.63941    2.0983   1.88816   \n",
       "sub-59147_1_ses-1_run-1       6.2604   1.82786   2.10325   1.68035   \n",
       "sub-59266_1_ses-1_run-1      6.86966   1.94301   2.20197    1.8817   \n",
       "\n",
       "char                    totalgm_b_cov deepwm_b    aca_b    mca_b    pca_b  \\\n",
       "sub-59251_1_ses-1_run-1       1.86372  24.2287  84.9951  80.3289  67.9422   \n",
       "sub-59147_1_ses-1_run-1       1.99326  23.2329  84.0915  75.2272  60.6908   \n",
       "sub-59266_1_ses-1_run-1       1.90984  22.1293  79.2017  72.9187  58.7952   \n",
       "\n",
       "char                    totalgm_b  \n",
       "sub-59251_1_ses-1_run-1   74.6714  \n",
       "sub-59147_1_ses-1_run-1   69.3426  \n",
       "sub-59266_1_ses-1_run-1   65.9497  "
      ]
     },
     "execution_count": 39,
     "metadata": {},
     "output_type": "execute_result"
    }
   ],
   "source": [
    "evens_harmonized.head(3)"
   ]
  },
  {
   "cell_type": "code",
   "execution_count": 40,
   "id": "50ce6e64-b5c8-4bc6-8577-b1d3e6800652",
   "metadata": {
    "tags": []
   },
   "outputs": [],
   "source": [
    "# evens_harmonized.to_csv('evens_harmonized.csv')\n",
    "# odds_harmonized.to_csv('odds_harmonized.csv')"
   ]
  },
  {
   "cell_type": "markdown",
   "id": "1221f759-028b-4dec-b84e-595eba143eac",
   "metadata": {},
   "source": [
    "Now we can analize the difference between these two sets:"
   ]
  },
  {
   "cell_type": "code",
   "execution_count": 41,
   "id": "71eef3b4-d4d6-464c-9ae8-75c0d4cc686b",
   "metadata": {
    "tags": []
   },
   "outputs": [
    {
     "data": {
      "text/html": [
       "<div>\n",
       "<style scoped>\n",
       "    .dataframe tbody tr th:only-of-type {\n",
       "        vertical-align: middle;\n",
       "    }\n",
       "\n",
       "    .dataframe tbody tr th {\n",
       "        vertical-align: top;\n",
       "    }\n",
       "\n",
       "    .dataframe thead th {\n",
       "        text-align: right;\n",
       "    }\n",
       "</style>\n",
       "<table border=\"1\" class=\"dataframe\">\n",
       "  <thead>\n",
       "    <tr style=\"text-align: right;\">\n",
       "      <th>char</th>\n",
       "      <th>gm_vol</th>\n",
       "      <th>wm_vol</th>\n",
       "      <th>csf_vol</th>\n",
       "      <th>gm_ivc_ratio</th>\n",
       "      <th>gmwm_ivc_ratio</th>\n",
       "      <th>wmh_vol</th>\n",
       "      <th>wmh_count</th>\n",
       "      <th>deepwm_b_cov</th>\n",
       "      <th>aca_b_cov</th>\n",
       "      <th>mca_b_cov</th>\n",
       "      <th>pca_b_cov</th>\n",
       "      <th>totalgm_b_cov</th>\n",
       "      <th>deepwm_b</th>\n",
       "      <th>aca_b</th>\n",
       "      <th>mca_b</th>\n",
       "      <th>pca_b</th>\n",
       "      <th>totalgm_b</th>\n",
       "    </tr>\n",
       "  </thead>\n",
       "  <tbody>\n",
       "    <tr>\n",
       "      <th>sub-59251_1_ses-1_run-1</th>\n",
       "      <td>0.633324</td>\n",
       "      <td>0.43233</td>\n",
       "      <td>0.198037</td>\n",
       "      <td>0.501877</td>\n",
       "      <td>0.843369</td>\n",
       "      <td>0.670257</td>\n",
       "      <td>3.38558</td>\n",
       "      <td>8.07672</td>\n",
       "      <td>1.63941</td>\n",
       "      <td>2.0983</td>\n",
       "      <td>1.88816</td>\n",
       "      <td>1.86372</td>\n",
       "      <td>24.2287</td>\n",
       "      <td>84.9951</td>\n",
       "      <td>80.3289</td>\n",
       "      <td>67.9422</td>\n",
       "      <td>74.6714</td>\n",
       "    </tr>\n",
       "    <tr>\n",
       "      <th>sub-59147_1_ses-1_run-1</th>\n",
       "      <td>0.696755</td>\n",
       "      <td>0.457807</td>\n",
       "      <td>0.236279</td>\n",
       "      <td>0.501333</td>\n",
       "      <td>0.829966</td>\n",
       "      <td>0.953062</td>\n",
       "      <td>2.94549</td>\n",
       "      <td>6.2604</td>\n",
       "      <td>1.82786</td>\n",
       "      <td>2.10325</td>\n",
       "      <td>1.68035</td>\n",
       "      <td>1.99326</td>\n",
       "      <td>23.2329</td>\n",
       "      <td>84.0915</td>\n",
       "      <td>75.2272</td>\n",
       "      <td>60.6908</td>\n",
       "      <td>69.3426</td>\n",
       "    </tr>\n",
       "    <tr>\n",
       "      <th>sub-59266_1_ses-1_run-1</th>\n",
       "      <td>0.661873</td>\n",
       "      <td>0.507032</td>\n",
       "      <td>0.300272</td>\n",
       "      <td>0.450537</td>\n",
       "      <td>0.79493</td>\n",
       "      <td>1.00534</td>\n",
       "      <td>3.24919</td>\n",
       "      <td>6.86966</td>\n",
       "      <td>1.94301</td>\n",
       "      <td>2.20197</td>\n",
       "      <td>1.8817</td>\n",
       "      <td>1.90984</td>\n",
       "      <td>22.1293</td>\n",
       "      <td>79.2017</td>\n",
       "      <td>72.9187</td>\n",
       "      <td>58.7952</td>\n",
       "      <td>65.9497</td>\n",
       "    </tr>\n",
       "    <tr>\n",
       "      <th>sub-59203_1_ses-1_run-1</th>\n",
       "      <td>0.740798</td>\n",
       "      <td>0.474095</td>\n",
       "      <td>0.309183</td>\n",
       "      <td>0.486119</td>\n",
       "      <td>0.796362</td>\n",
       "      <td>0.513455</td>\n",
       "      <td>2.8942</td>\n",
       "      <td>6.35195</td>\n",
       "      <td>1.97376</td>\n",
       "      <td>2.24199</td>\n",
       "      <td>1.89913</td>\n",
       "      <td>2.03578</td>\n",
       "      <td>24.7598</td>\n",
       "      <td>98.1915</td>\n",
       "      <td>86.4039</td>\n",
       "      <td>81.1275</td>\n",
       "      <td>85.1872</td>\n",
       "    </tr>\n",
       "    <tr>\n",
       "      <th>sub-59145_1_ses-1_run-1</th>\n",
       "      <td>0.724303</td>\n",
       "      <td>0.497133</td>\n",
       "      <td>0.220423</td>\n",
       "      <td>0.502933</td>\n",
       "      <td>0.847731</td>\n",
       "      <td>1.40431</td>\n",
       "      <td>2.95248</td>\n",
       "      <td>8.5471</td>\n",
       "      <td>1.73683</td>\n",
       "      <td>2.06974</td>\n",
       "      <td>1.89653</td>\n",
       "      <td>2.03848</td>\n",
       "      <td>22.5047</td>\n",
       "      <td>86.7371</td>\n",
       "      <td>81.2422</td>\n",
       "      <td>59.4417</td>\n",
       "      <td>72.076</td>\n",
       "    </tr>\n",
       "    <tr>\n",
       "      <th>...</th>\n",
       "      <td>...</td>\n",
       "      <td>...</td>\n",
       "      <td>...</td>\n",
       "      <td>...</td>\n",
       "      <td>...</td>\n",
       "      <td>...</td>\n",
       "      <td>...</td>\n",
       "      <td>...</td>\n",
       "      <td>...</td>\n",
       "      <td>...</td>\n",
       "      <td>...</td>\n",
       "      <td>...</td>\n",
       "      <td>...</td>\n",
       "      <td>...</td>\n",
       "      <td>...</td>\n",
       "      <td>...</td>\n",
       "      <td>...</td>\n",
       "    </tr>\n",
       "    <tr>\n",
       "      <th>sub-59419_1_ses-1_run-1</th>\n",
       "      <td>0.500837</td>\n",
       "      <td>0.449966</td>\n",
       "      <td>0.550529</td>\n",
       "      <td>0.33386</td>\n",
       "      <td>0.632652</td>\n",
       "      <td>4.01477</td>\n",
       "      <td>3.27541</td>\n",
       "      <td>2.02358</td>\n",
       "      <td>3.60764</td>\n",
       "      <td>3.62993</td>\n",
       "      <td>3.07948</td>\n",
       "      <td>2.60054</td>\n",
       "      <td>29.5573</td>\n",
       "      <td>42.0442</td>\n",
       "      <td>36.6539</td>\n",
       "      <td>34.6565</td>\n",
       "      <td>33.4592</td>\n",
       "    </tr>\n",
       "    <tr>\n",
       "      <th>sub-59276_2_ses-2_run-1</th>\n",
       "      <td>0.615257</td>\n",
       "      <td>0.454435</td>\n",
       "      <td>0.515387</td>\n",
       "      <td>0.388344</td>\n",
       "      <td>0.674792</td>\n",
       "      <td>3.09109</td>\n",
       "      <td>3.23814</td>\n",
       "      <td>2.80962</td>\n",
       "      <td>3.67232</td>\n",
       "      <td>3.07101</td>\n",
       "      <td>3.12077</td>\n",
       "      <td>2.69236</td>\n",
       "      <td>24.2666</td>\n",
       "      <td>40.7873</td>\n",
       "      <td>32.1223</td>\n",
       "      <td>29.8215</td>\n",
       "      <td>30.6587</td>\n",
       "    </tr>\n",
       "    <tr>\n",
       "      <th>sub-59376_1_ses-1_run-1</th>\n",
       "      <td>0.644562</td>\n",
       "      <td>0.512644</td>\n",
       "      <td>0.506836</td>\n",
       "      <td>0.387364</td>\n",
       "      <td>0.695791</td>\n",
       "      <td>3.94897</td>\n",
       "      <td>3.02307</td>\n",
       "      <td>1.65322</td>\n",
       "      <td>1.87413</td>\n",
       "      <td>1.81316</td>\n",
       "      <td>1.57768</td>\n",
       "      <td>1.64267</td>\n",
       "      <td>29.5552</td>\n",
       "      <td>77.0555</td>\n",
       "      <td>66.2398</td>\n",
       "      <td>53.8903</td>\n",
       "      <td>60.6564</td>\n",
       "    </tr>\n",
       "    <tr>\n",
       "      <th>sub-59116_2_ses-2_run-1</th>\n",
       "      <td>0.502609</td>\n",
       "      <td>0.336023</td>\n",
       "      <td>0.406354</td>\n",
       "      <td>0.4043</td>\n",
       "      <td>0.673491</td>\n",
       "      <td>2.52273</td>\n",
       "      <td>2.91572</td>\n",
       "      <td>2.5992</td>\n",
       "      <td>1.8909</td>\n",
       "      <td>1.65732</td>\n",
       "      <td>2.10774</td>\n",
       "      <td>1.88336</td>\n",
       "      <td>24.9365</td>\n",
       "      <td>60.9433</td>\n",
       "      <td>52.653</td>\n",
       "      <td>40.8699</td>\n",
       "      <td>47.782</td>\n",
       "    </tr>\n",
       "    <tr>\n",
       "      <th>sub-59423_1_ses-1_run-1</th>\n",
       "      <td>0.480559</td>\n",
       "      <td>0.399249</td>\n",
       "      <td>0.566488</td>\n",
       "      <td>0.332672</td>\n",
       "      <td>0.607655</td>\n",
       "      <td>3.55856</td>\n",
       "      <td>4.08686</td>\n",
       "      <td>2.08745</td>\n",
       "      <td>2.11381</td>\n",
       "      <td>1.80954</td>\n",
       "      <td>2.41129</td>\n",
       "      <td>2.00195</td>\n",
       "      <td>33.6379</td>\n",
       "      <td>77.1932</td>\n",
       "      <td>62.6674</td>\n",
       "      <td>59.2889</td>\n",
       "      <td>56.3091</td>\n",
       "    </tr>\n",
       "  </tbody>\n",
       "</table>\n",
       "<p>257 rows × 17 columns</p>\n",
       "</div>"
      ],
      "text/plain": [
       "char                       gm_vol    wm_vol   csf_vol gm_ivc_ratio  \\\n",
       "sub-59251_1_ses-1_run-1  0.633324   0.43233  0.198037     0.501877   \n",
       "sub-59147_1_ses-1_run-1  0.696755  0.457807  0.236279     0.501333   \n",
       "sub-59266_1_ses-1_run-1  0.661873  0.507032  0.300272     0.450537   \n",
       "sub-59203_1_ses-1_run-1  0.740798  0.474095  0.309183     0.486119   \n",
       "sub-59145_1_ses-1_run-1  0.724303  0.497133  0.220423     0.502933   \n",
       "...                           ...       ...       ...          ...   \n",
       "sub-59419_1_ses-1_run-1  0.500837  0.449966  0.550529      0.33386   \n",
       "sub-59276_2_ses-2_run-1  0.615257  0.454435  0.515387     0.388344   \n",
       "sub-59376_1_ses-1_run-1  0.644562  0.512644  0.506836     0.387364   \n",
       "sub-59116_2_ses-2_run-1  0.502609  0.336023  0.406354       0.4043   \n",
       "sub-59423_1_ses-1_run-1  0.480559  0.399249  0.566488     0.332672   \n",
       "\n",
       "char                    gmwm_ivc_ratio   wmh_vol wmh_count deepwm_b_cov  \\\n",
       "sub-59251_1_ses-1_run-1       0.843369  0.670257   3.38558      8.07672   \n",
       "sub-59147_1_ses-1_run-1       0.829966  0.953062   2.94549       6.2604   \n",
       "sub-59266_1_ses-1_run-1        0.79493   1.00534   3.24919      6.86966   \n",
       "sub-59203_1_ses-1_run-1       0.796362  0.513455    2.8942      6.35195   \n",
       "sub-59145_1_ses-1_run-1       0.847731   1.40431   2.95248       8.5471   \n",
       "...                                ...       ...       ...          ...   \n",
       "sub-59419_1_ses-1_run-1       0.632652   4.01477   3.27541      2.02358   \n",
       "sub-59276_2_ses-2_run-1       0.674792   3.09109   3.23814      2.80962   \n",
       "sub-59376_1_ses-1_run-1       0.695791   3.94897   3.02307      1.65322   \n",
       "sub-59116_2_ses-2_run-1       0.673491   2.52273   2.91572       2.5992   \n",
       "sub-59423_1_ses-1_run-1       0.607655   3.55856   4.08686      2.08745   \n",
       "\n",
       "char                    aca_b_cov mca_b_cov pca_b_cov totalgm_b_cov deepwm_b  \\\n",
       "sub-59251_1_ses-1_run-1   1.63941    2.0983   1.88816       1.86372  24.2287   \n",
       "sub-59147_1_ses-1_run-1   1.82786   2.10325   1.68035       1.99326  23.2329   \n",
       "sub-59266_1_ses-1_run-1   1.94301   2.20197    1.8817       1.90984  22.1293   \n",
       "sub-59203_1_ses-1_run-1   1.97376   2.24199   1.89913       2.03578  24.7598   \n",
       "sub-59145_1_ses-1_run-1   1.73683   2.06974   1.89653       2.03848  22.5047   \n",
       "...                           ...       ...       ...           ...      ...   \n",
       "sub-59419_1_ses-1_run-1   3.60764   3.62993   3.07948       2.60054  29.5573   \n",
       "sub-59276_2_ses-2_run-1   3.67232   3.07101   3.12077       2.69236  24.2666   \n",
       "sub-59376_1_ses-1_run-1   1.87413   1.81316   1.57768       1.64267  29.5552   \n",
       "sub-59116_2_ses-2_run-1    1.8909   1.65732   2.10774       1.88336  24.9365   \n",
       "sub-59423_1_ses-1_run-1   2.11381   1.80954   2.41129       2.00195  33.6379   \n",
       "\n",
       "char                       aca_b    mca_b    pca_b totalgm_b  \n",
       "sub-59251_1_ses-1_run-1  84.9951  80.3289  67.9422   74.6714  \n",
       "sub-59147_1_ses-1_run-1  84.0915  75.2272  60.6908   69.3426  \n",
       "sub-59266_1_ses-1_run-1  79.2017  72.9187  58.7952   65.9497  \n",
       "sub-59203_1_ses-1_run-1  98.1915  86.4039  81.1275   85.1872  \n",
       "sub-59145_1_ses-1_run-1  86.7371  81.2422  59.4417    72.076  \n",
       "...                          ...      ...      ...       ...  \n",
       "sub-59419_1_ses-1_run-1  42.0442  36.6539  34.6565   33.4592  \n",
       "sub-59276_2_ses-2_run-1  40.7873  32.1223  29.8215   30.6587  \n",
       "sub-59376_1_ses-1_run-1  77.0555  66.2398  53.8903   60.6564  \n",
       "sub-59116_2_ses-2_run-1  60.9433   52.653  40.8699    47.782  \n",
       "sub-59423_1_ses-1_run-1  77.1932  62.6674  59.2889   56.3091  \n",
       "\n",
       "[257 rows x 17 columns]"
      ]
     },
     "execution_count": 41,
     "metadata": {},
     "output_type": "execute_result"
    }
   ],
   "source": [
    "evens_harmonized.iloc[:,2:] "
   ]
  },
  {
   "cell_type": "code",
   "execution_count": 42,
   "id": "84be0d2d-a26b-493d-bbe0-462201ec7845",
   "metadata": {
    "tags": []
   },
   "outputs": [
    {
     "data": {
      "text/html": [
       "<div>\n",
       "<style scoped>\n",
       "    .dataframe tbody tr th:only-of-type {\n",
       "        vertical-align: middle;\n",
       "    }\n",
       "\n",
       "    .dataframe tbody tr th {\n",
       "        vertical-align: top;\n",
       "    }\n",
       "\n",
       "    .dataframe thead th {\n",
       "        text-align: right;\n",
       "    }\n",
       "</style>\n",
       "<table border=\"1\" class=\"dataframe\">\n",
       "  <thead>\n",
       "    <tr style=\"text-align: right;\">\n",
       "      <th></th>\n",
       "      <th>gm_vol</th>\n",
       "      <th>wm_vol</th>\n",
       "      <th>csf_vol</th>\n",
       "      <th>gm_ivc_ratio</th>\n",
       "      <th>gmwm_ivc_ratio</th>\n",
       "      <th>wmh_vol</th>\n",
       "      <th>wmh_count</th>\n",
       "      <th>deepwm_b_cov</th>\n",
       "      <th>aca_b_cov</th>\n",
       "      <th>mca_b_cov</th>\n",
       "      <th>pca_b_cov</th>\n",
       "      <th>totalgm_b_cov</th>\n",
       "      <th>deepwm_b</th>\n",
       "      <th>aca_b</th>\n",
       "      <th>mca_b</th>\n",
       "      <th>pca_b</th>\n",
       "      <th>totalgm_b</th>\n",
       "    </tr>\n",
       "  </thead>\n",
       "  <tbody>\n",
       "    <tr>\n",
       "      <th>0</th>\n",
       "      <td>0.63411</td>\n",
       "      <td>0.43188</td>\n",
       "      <td>0.19721</td>\n",
       "      <td>0.50199</td>\n",
       "      <td>0.84388</td>\n",
       "      <td>0.677018</td>\n",
       "      <td>3.401197</td>\n",
       "      <td>8.0744</td>\n",
       "      <td>1.6380</td>\n",
       "      <td>2.0994</td>\n",
       "      <td>1.9025</td>\n",
       "      <td>1.8617</td>\n",
       "      <td>24.2828</td>\n",
       "      <td>84.7610</td>\n",
       "      <td>80.2063</td>\n",
       "      <td>67.9731</td>\n",
       "      <td>74.5803</td>\n",
       "    </tr>\n",
       "    <tr>\n",
       "      <th>2</th>\n",
       "      <td>0.69681</td>\n",
       "      <td>0.45745</td>\n",
       "      <td>0.23545</td>\n",
       "      <td>0.50141</td>\n",
       "      <td>0.83058</td>\n",
       "      <td>0.962411</td>\n",
       "      <td>2.944439</td>\n",
       "      <td>6.2468</td>\n",
       "      <td>1.8262</td>\n",
       "      <td>2.1046</td>\n",
       "      <td>1.6810</td>\n",
       "      <td>1.9915</td>\n",
       "      <td>23.2440</td>\n",
       "      <td>83.8581</td>\n",
       "      <td>75.0336</td>\n",
       "      <td>60.6876</td>\n",
       "      <td>69.1784</td>\n",
       "    </tr>\n",
       "    <tr>\n",
       "      <th>4</th>\n",
       "      <td>0.66222</td>\n",
       "      <td>0.50684</td>\n",
       "      <td>0.29944</td>\n",
       "      <td>0.45095</td>\n",
       "      <td>0.79609</td>\n",
       "      <td>1.013780</td>\n",
       "      <td>3.258097</td>\n",
       "      <td>6.8624</td>\n",
       "      <td>1.9412</td>\n",
       "      <td>2.2065</td>\n",
       "      <td>1.8932</td>\n",
       "      <td>1.9079</td>\n",
       "      <td>22.0963</td>\n",
       "      <td>78.8721</td>\n",
       "      <td>72.6971</td>\n",
       "      <td>58.7849</td>\n",
       "      <td>65.7400</td>\n",
       "    </tr>\n",
       "    <tr>\n",
       "      <th>6</th>\n",
       "      <td>0.74033</td>\n",
       "      <td>0.47380</td>\n",
       "      <td>0.30835</td>\n",
       "      <td>0.48627</td>\n",
       "      <td>0.79747</td>\n",
       "      <td>0.512225</td>\n",
       "      <td>2.890372</td>\n",
       "      <td>6.3412</td>\n",
       "      <td>1.9719</td>\n",
       "      <td>2.2478</td>\n",
       "      <td>1.9114</td>\n",
       "      <td>2.0341</td>\n",
       "      <td>24.8155</td>\n",
       "      <td>98.2967</td>\n",
       "      <td>86.4160</td>\n",
       "      <td>81.2350</td>\n",
       "      <td>85.3078</td>\n",
       "    </tr>\n",
       "    <tr>\n",
       "      <th>8</th>\n",
       "      <td>0.72457</td>\n",
       "      <td>0.49672</td>\n",
       "      <td>0.21960</td>\n",
       "      <td>0.50286</td>\n",
       "      <td>0.84759</td>\n",
       "      <td>1.410743</td>\n",
       "      <td>2.944439</td>\n",
       "      <td>8.5546</td>\n",
       "      <td>1.7357</td>\n",
       "      <td>2.0671</td>\n",
       "      <td>1.9095</td>\n",
       "      <td>2.0366</td>\n",
       "      <td>22.5310</td>\n",
       "      <td>86.7560</td>\n",
       "      <td>81.2832</td>\n",
       "      <td>59.4773</td>\n",
       "      <td>72.0887</td>\n",
       "    </tr>\n",
       "    <tr>\n",
       "      <th>...</th>\n",
       "      <td>...</td>\n",
       "      <td>...</td>\n",
       "      <td>...</td>\n",
       "      <td>...</td>\n",
       "      <td>...</td>\n",
       "      <td>...</td>\n",
       "      <td>...</td>\n",
       "      <td>...</td>\n",
       "      <td>...</td>\n",
       "      <td>...</td>\n",
       "      <td>...</td>\n",
       "      <td>...</td>\n",
       "      <td>...</td>\n",
       "      <td>...</td>\n",
       "      <td>...</td>\n",
       "      <td>...</td>\n",
       "      <td>...</td>\n",
       "    </tr>\n",
       "    <tr>\n",
       "      <th>504</th>\n",
       "      <td>0.50173</td>\n",
       "      <td>0.44961</td>\n",
       "      <td>0.54970</td>\n",
       "      <td>0.33425</td>\n",
       "      <td>0.63379</td>\n",
       "      <td>4.019747</td>\n",
       "      <td>3.258097</td>\n",
       "      <td>2.0278</td>\n",
       "      <td>3.6043</td>\n",
       "      <td>3.6783</td>\n",
       "      <td>3.1352</td>\n",
       "      <td>2.5996</td>\n",
       "      <td>29.6605</td>\n",
       "      <td>41.4430</td>\n",
       "      <td>36.2368</td>\n",
       "      <td>34.6355</td>\n",
       "      <td>33.1404</td>\n",
       "    </tr>\n",
       "    <tr>\n",
       "      <th>506</th>\n",
       "      <td>0.61494</td>\n",
       "      <td>0.45410</td>\n",
       "      <td>0.51456</td>\n",
       "      <td>0.38832</td>\n",
       "      <td>0.67507</td>\n",
       "      <td>3.077266</td>\n",
       "      <td>3.218876</td>\n",
       "      <td>2.8212</td>\n",
       "      <td>3.6689</td>\n",
       "      <td>3.1018</td>\n",
       "      <td>3.1781</td>\n",
       "      <td>2.6916</td>\n",
       "      <td>24.1833</td>\n",
       "      <td>40.1696</td>\n",
       "      <td>31.6369</td>\n",
       "      <td>29.7774</td>\n",
       "      <td>30.3022</td>\n",
       "    </tr>\n",
       "    <tr>\n",
       "      <th>508</th>\n",
       "      <td>0.64391</td>\n",
       "      <td>0.51250</td>\n",
       "      <td>0.50601</td>\n",
       "      <td>0.38733</td>\n",
       "      <td>0.69562</td>\n",
       "      <td>3.950031</td>\n",
       "      <td>2.995732</td>\n",
       "      <td>1.6571</td>\n",
       "      <td>1.8735</td>\n",
       "      <td>1.8043</td>\n",
       "      <td>1.5435</td>\n",
       "      <td>1.6397</td>\n",
       "      <td>29.6495</td>\n",
       "      <td>77.2704</td>\n",
       "      <td>66.3456</td>\n",
       "      <td>53.9741</td>\n",
       "      <td>60.8178</td>\n",
       "    </tr>\n",
       "    <tr>\n",
       "      <th>510</th>\n",
       "      <td>0.50279</td>\n",
       "      <td>0.33551</td>\n",
       "      <td>0.40553</td>\n",
       "      <td>0.40423</td>\n",
       "      <td>0.67397</td>\n",
       "      <td>2.504954</td>\n",
       "      <td>2.890372</td>\n",
       "      <td>2.6097</td>\n",
       "      <td>1.8899</td>\n",
       "      <td>1.6466</td>\n",
       "      <td>2.1033</td>\n",
       "      <td>1.8811</td>\n",
       "      <td>24.8206</td>\n",
       "      <td>60.6278</td>\n",
       "      <td>52.4160</td>\n",
       "      <td>40.8453</td>\n",
       "      <td>47.6168</td>\n",
       "    </tr>\n",
       "    <tr>\n",
       "      <th>512</th>\n",
       "      <td>0.48135</td>\n",
       "      <td>0.39877</td>\n",
       "      <td>0.56566</td>\n",
       "      <td>0.33293</td>\n",
       "      <td>0.60875</td>\n",
       "      <td>3.545586</td>\n",
       "      <td>4.094345</td>\n",
       "      <td>2.1008</td>\n",
       "      <td>2.1129</td>\n",
       "      <td>1.8008</td>\n",
       "      <td>2.4226</td>\n",
       "      <td>1.9997</td>\n",
       "      <td>33.8502</td>\n",
       "      <td>77.4641</td>\n",
       "      <td>62.7529</td>\n",
       "      <td>59.4109</td>\n",
       "      <td>56.4401</td>\n",
       "    </tr>\n",
       "  </tbody>\n",
       "</table>\n",
       "<p>257 rows × 17 columns</p>\n",
       "</div>"
      ],
      "text/plain": [
       "      gm_vol   wm_vol  csf_vol  gm_ivc_ratio  gmwm_ivc_ratio   wmh_vol  \\\n",
       "0    0.63411  0.43188  0.19721       0.50199         0.84388  0.677018   \n",
       "2    0.69681  0.45745  0.23545       0.50141         0.83058  0.962411   \n",
       "4    0.66222  0.50684  0.29944       0.45095         0.79609  1.013780   \n",
       "6    0.74033  0.47380  0.30835       0.48627         0.79747  0.512225   \n",
       "8    0.72457  0.49672  0.21960       0.50286         0.84759  1.410743   \n",
       "..       ...      ...      ...           ...             ...       ...   \n",
       "504  0.50173  0.44961  0.54970       0.33425         0.63379  4.019747   \n",
       "506  0.61494  0.45410  0.51456       0.38832         0.67507  3.077266   \n",
       "508  0.64391  0.51250  0.50601       0.38733         0.69562  3.950031   \n",
       "510  0.50279  0.33551  0.40553       0.40423         0.67397  2.504954   \n",
       "512  0.48135  0.39877  0.56566       0.33293         0.60875  3.545586   \n",
       "\n",
       "     wmh_count  deepwm_b_cov  aca_b_cov  mca_b_cov  pca_b_cov  totalgm_b_cov  \\\n",
       "0     3.401197        8.0744     1.6380     2.0994     1.9025         1.8617   \n",
       "2     2.944439        6.2468     1.8262     2.1046     1.6810         1.9915   \n",
       "4     3.258097        6.8624     1.9412     2.2065     1.8932         1.9079   \n",
       "6     2.890372        6.3412     1.9719     2.2478     1.9114         2.0341   \n",
       "8     2.944439        8.5546     1.7357     2.0671     1.9095         2.0366   \n",
       "..         ...           ...        ...        ...        ...            ...   \n",
       "504   3.258097        2.0278     3.6043     3.6783     3.1352         2.5996   \n",
       "506   3.218876        2.8212     3.6689     3.1018     3.1781         2.6916   \n",
       "508   2.995732        1.6571     1.8735     1.8043     1.5435         1.6397   \n",
       "510   2.890372        2.6097     1.8899     1.6466     2.1033         1.8811   \n",
       "512   4.094345        2.1008     2.1129     1.8008     2.4226         1.9997   \n",
       "\n",
       "     deepwm_b    aca_b    mca_b    pca_b  totalgm_b  \n",
       "0     24.2828  84.7610  80.2063  67.9731    74.5803  \n",
       "2     23.2440  83.8581  75.0336  60.6876    69.1784  \n",
       "4     22.0963  78.8721  72.6971  58.7849    65.7400  \n",
       "6     24.8155  98.2967  86.4160  81.2350    85.3078  \n",
       "8     22.5310  86.7560  81.2832  59.4773    72.0887  \n",
       "..        ...      ...      ...      ...        ...  \n",
       "504   29.6605  41.4430  36.2368  34.6355    33.1404  \n",
       "506   24.1833  40.1696  31.6369  29.7774    30.3022  \n",
       "508   29.6495  77.2704  66.3456  53.9741    60.8178  \n",
       "510   24.8206  60.6278  52.4160  40.8453    47.6168  \n",
       "512   33.8502  77.4641  62.7529  59.4109    56.4401  \n",
       "\n",
       "[257 rows x 17 columns]"
      ]
     },
     "execution_count": 42,
     "metadata": {},
     "output_type": "execute_result"
    }
   ],
   "source": [
    "stroke_even_unharmonized.iloc[:,4:] "
   ]
  },
  {
   "cell_type": "markdown",
   "id": "9c3d3a30-27c8-4945-8c32-a0d6e1a19327",
   "metadata": {
    "tags": []
   },
   "source": [
    "## We do see some differences, especially in the wmh volume, but n othing over 100%  at first glance"
   ]
  },
  {
   "cell_type": "code",
   "execution_count": 43,
   "id": "d05b7143-5deb-4f9b-a79f-ed59c9866435",
   "metadata": {
    "tags": []
   },
   "outputs": [
    {
     "name": "stdout",
     "output_type": "stream",
     "text": [
      "Nan count 0\n"
     ]
    }
   ],
   "source": [
    "both_togetherF2, ftF2, btF2, feature_dictF2, slen1, slen2 = har.prep_for_neurocombat(stroke_top_unharmonized, stroke_bottom_unharmonized)"
   ]
  },
  {
   "cell_type": "code",
   "execution_count": 44,
   "id": "6ed69547-0afc-45d2-97d5-6072a825f6af",
   "metadata": {
    "tags": []
   },
   "outputs": [],
   "source": [
    "ftF2.to_csv('ftF2_UH.csv')"
   ]
  },
  {
   "cell_type": "code",
   "execution_count": 45,
   "id": "92029fbf-69cd-4570-870d-9935347cc05c",
   "metadata": {
    "tags": []
   },
   "outputs": [
    {
     "data": {
      "text/plain": [
       "array([[ 0.63411,  0.8033 ,  0.69681, ...,  0.64732,  0.48135,  0.46979],\n",
       "       [ 0.43188,  0.53481,  0.45745, ...,  0.50652,  0.39877,  0.35423],\n",
       "       [ 0.19721,  0.22156,  0.23545, ...,  0.5128 ,  0.56566,  0.46033],\n",
       "       ...,\n",
       "       [80.2063 , 87.3676 , 75.0336 , ..., 66.6457 , 62.7529 , 49.0843 ],\n",
       "       [67.9731 , 66.4921 , 60.6876 , ..., 48.0675 , 59.4109 , 41.8283 ],\n",
       "       [74.5803 , 79.1771 , 69.1784 , ..., 57.7995 , 56.4401 , 47.0884 ]])"
      ]
     },
     "execution_count": 45,
     "metadata": {},
     "output_type": "execute_result"
    }
   ],
   "source": [
    "data2 = np.genfromtxt('ftF2_UH.csv', delimiter=\",\", skip_header=1)\n",
    "data2 = data2[:, 1:]\n",
    "data2"
   ]
  },
  {
   "cell_type": "code",
   "execution_count": null,
   "id": "c5681612-7255-4196-976f-8102a97ac4ea",
   "metadata": {},
   "outputs": [],
   "source": []
  },
  {
   "cell_type": "code",
   "execution_count": 46,
   "id": "202928da-24f1-40ce-b021-5f0358d2f687",
   "metadata": {
    "tags": []
   },
   "outputs": [],
   "source": [
    "# Specifying the batch (scanner variable) as well as a sex covariate to preserve:\n",
    "first_columns_as_one = [1] * slen1\n",
    "last_columns_as_two = [2] * slen2\n",
    "covars2 = {'batch':first_columns_as_one + last_columns_as_two,\n",
    "          'sex':both_togetherF2.loc['sex',:].values.tolist(),\n",
    "           'age':both_togetherF2.loc['age',:].values.tolist(),} \n",
    "covars2 = pd.DataFrame(covars2) "
   ]
  },
  {
   "cell_type": "code",
   "execution_count": 47,
   "id": "89667222-b21d-4286-8225-b72811c35bcb",
   "metadata": {
    "tags": []
   },
   "outputs": [
    {
     "data": {
      "text/html": [
       "<div>\n",
       "<style scoped>\n",
       "    .dataframe tbody tr th:only-of-type {\n",
       "        vertical-align: middle;\n",
       "    }\n",
       "\n",
       "    .dataframe tbody tr th {\n",
       "        vertical-align: top;\n",
       "    }\n",
       "\n",
       "    .dataframe thead th {\n",
       "        text-align: right;\n",
       "    }\n",
       "</style>\n",
       "<table border=\"1\" class=\"dataframe\">\n",
       "  <thead>\n",
       "    <tr style=\"text-align: right;\">\n",
       "      <th></th>\n",
       "      <th>batch</th>\n",
       "      <th>sex</th>\n",
       "      <th>age</th>\n",
       "    </tr>\n",
       "  </thead>\n",
       "  <tbody>\n",
       "    <tr>\n",
       "      <th>0</th>\n",
       "      <td>1</td>\n",
       "      <td>F</td>\n",
       "      <td>20.505464</td>\n",
       "    </tr>\n",
       "    <tr>\n",
       "      <th>1</th>\n",
       "      <td>1</td>\n",
       "      <td>F</td>\n",
       "      <td>20.979250</td>\n",
       "    </tr>\n",
       "    <tr>\n",
       "      <th>2</th>\n",
       "      <td>1</td>\n",
       "      <td>F</td>\n",
       "      <td>23.483607</td>\n",
       "    </tr>\n",
       "    <tr>\n",
       "      <th>3</th>\n",
       "      <td>1</td>\n",
       "      <td>F</td>\n",
       "      <td>24.562856</td>\n",
       "    </tr>\n",
       "    <tr>\n",
       "      <th>4</th>\n",
       "      <td>1</td>\n",
       "      <td>F</td>\n",
       "      <td>25.565574</td>\n",
       "    </tr>\n",
       "    <tr>\n",
       "      <th>...</th>\n",
       "      <td>...</td>\n",
       "      <td>...</td>\n",
       "      <td>...</td>\n",
       "    </tr>\n",
       "    <tr>\n",
       "      <th>509</th>\n",
       "      <td>2</td>\n",
       "      <td>M</td>\n",
       "      <td>84.873973</td>\n",
       "    </tr>\n",
       "    <tr>\n",
       "      <th>510</th>\n",
       "      <td>2</td>\n",
       "      <td>F</td>\n",
       "      <td>85.776832</td>\n",
       "    </tr>\n",
       "    <tr>\n",
       "      <th>511</th>\n",
       "      <td>2</td>\n",
       "      <td>M</td>\n",
       "      <td>85.816139</td>\n",
       "    </tr>\n",
       "    <tr>\n",
       "      <th>512</th>\n",
       "      <td>2</td>\n",
       "      <td>M</td>\n",
       "      <td>92.049315</td>\n",
       "    </tr>\n",
       "    <tr>\n",
       "      <th>513</th>\n",
       "      <td>2</td>\n",
       "      <td>F</td>\n",
       "      <td>94.668493</td>\n",
       "    </tr>\n",
       "  </tbody>\n",
       "</table>\n",
       "<p>514 rows × 3 columns</p>\n",
       "</div>"
      ],
      "text/plain": [
       "     batch sex        age\n",
       "0        1   F  20.505464\n",
       "1        1   F  20.979250\n",
       "2        1   F  23.483607\n",
       "3        1   F  24.562856\n",
       "4        1   F  25.565574\n",
       "..     ...  ..        ...\n",
       "509      2   M  84.873973\n",
       "510      2   F  85.776832\n",
       "511      2   M  85.816139\n",
       "512      2   M  92.049315\n",
       "513      2   F  94.668493\n",
       "\n",
       "[514 rows x 3 columns]"
      ]
     },
     "execution_count": 47,
     "metadata": {},
     "output_type": "execute_result"
    }
   ],
   "source": [
    "covars2"
   ]
  },
  {
   "cell_type": "code",
   "execution_count": 48,
   "id": "cd961fb8-7533-467d-9ca7-e2073f9f8224",
   "metadata": {
    "tags": []
   },
   "outputs": [
    {
     "name": "stdout",
     "output_type": "stream",
     "text": [
      "[neuroCombat] Creating design matrix\n",
      "[neuroCombat] Standardizing data across features\n",
      "[neuroCombat] Fitting L/S model and finding priors\n",
      "[neuroCombat] Finding parametric adjustments\n",
      "[neuroCombat] Final adjustment of data\n"
     ]
    }
   ],
   "source": [
    "# specifify sex as categorical\n",
    "categorical_cols = ['sex']\n",
    "# to specify the name of the variable that encodes for the scanner/batch covariate:\n",
    "batch_col_mine = 'batch'\n",
    "our_continuous_col=['age']\n",
    "# harmonization step:\n",
    "data_combat2 = neuroCombat(dat=data2,\n",
    "    covars=covars2,\n",
    "    batch_col=batch_col_mine,\n",
    "    continuous_cols=our_continuous_col,\n",
    "    categorical_cols=categorical_cols)[\"data\"]"
   ]
  },
  {
   "cell_type": "code",
   "execution_count": 49,
   "id": "eb545681-7a1b-4d2d-ab9a-9626d39d5b42",
   "metadata": {
    "tags": []
   },
   "outputs": [
    {
     "data": {
      "text/html": [
       "<div>\n",
       "<style scoped>\n",
       "    .dataframe tbody tr th:only-of-type {\n",
       "        vertical-align: middle;\n",
       "    }\n",
       "\n",
       "    .dataframe tbody tr th {\n",
       "        vertical-align: top;\n",
       "    }\n",
       "\n",
       "    .dataframe thead th {\n",
       "        text-align: right;\n",
       "    }\n",
       "</style>\n",
       "<table border=\"1\" class=\"dataframe\">\n",
       "  <thead>\n",
       "    <tr style=\"text-align: right;\">\n",
       "      <th></th>\n",
       "      <th>0</th>\n",
       "      <th>1</th>\n",
       "      <th>2</th>\n",
       "      <th>3</th>\n",
       "      <th>4</th>\n",
       "      <th>5</th>\n",
       "      <th>6</th>\n",
       "      <th>7</th>\n",
       "      <th>8</th>\n",
       "      <th>9</th>\n",
       "      <th>...</th>\n",
       "      <th>504</th>\n",
       "      <th>505</th>\n",
       "      <th>506</th>\n",
       "      <th>507</th>\n",
       "      <th>508</th>\n",
       "      <th>509</th>\n",
       "      <th>510</th>\n",
       "      <th>511</th>\n",
       "      <th>512</th>\n",
       "      <th>513</th>\n",
       "    </tr>\n",
       "  </thead>\n",
       "  <tbody>\n",
       "    <tr>\n",
       "      <th>0</th>\n",
       "      <td>0.627751</td>\n",
       "      <td>0.801774</td>\n",
       "      <td>0.692451</td>\n",
       "      <td>0.721346</td>\n",
       "      <td>0.657035</td>\n",
       "      <td>0.683678</td>\n",
       "      <td>0.737399</td>\n",
       "      <td>0.681365</td>\n",
       "      <td>0.719590</td>\n",
       "      <td>0.716046</td>\n",
       "      <td>...</td>\n",
       "      <td>0.509849</td>\n",
       "      <td>0.612427</td>\n",
       "      <td>0.618183</td>\n",
       "      <td>0.526748</td>\n",
       "      <td>0.645814</td>\n",
       "      <td>0.633738</td>\n",
       "      <td>0.508062</td>\n",
       "      <td>0.648953</td>\n",
       "      <td>0.489182</td>\n",
       "      <td>0.475461</td>\n",
       "    </tr>\n",
       "    <tr>\n",
       "      <th>1</th>\n",
       "      <td>0.418279</td>\n",
       "      <td>0.524094</td>\n",
       "      <td>0.444595</td>\n",
       "      <td>0.480893</td>\n",
       "      <td>0.495388</td>\n",
       "      <td>0.444404</td>\n",
       "      <td>0.461429</td>\n",
       "      <td>0.457923</td>\n",
       "      <td>0.483285</td>\n",
       "      <td>0.481993</td>\n",
       "      <td>...</td>\n",
       "      <td>0.463905</td>\n",
       "      <td>0.498829</td>\n",
       "      <td>0.468175</td>\n",
       "      <td>0.341220</td>\n",
       "      <td>0.524035</td>\n",
       "      <td>0.505956</td>\n",
       "      <td>0.352033</td>\n",
       "      <td>0.518294</td>\n",
       "      <td>0.415096</td>\n",
       "      <td>0.369806</td>\n",
       "    </tr>\n",
       "  </tbody>\n",
       "</table>\n",
       "<p>2 rows × 514 columns</p>\n",
       "</div>"
      ],
      "text/plain": [
       "        0         1         2         3         4         5         6    \\\n",
       "0  0.627751  0.801774  0.692451  0.721346  0.657035  0.683678  0.737399   \n",
       "1  0.418279  0.524094  0.444595  0.480893  0.495388  0.444404  0.461429   \n",
       "\n",
       "        7         8         9    ...       504       505       506       507  \\\n",
       "0  0.681365  0.719590  0.716046  ...  0.509849  0.612427  0.618183  0.526748   \n",
       "1  0.457923  0.483285  0.481993  ...  0.463905  0.498829  0.468175  0.341220   \n",
       "\n",
       "        508       509       510       511       512       513  \n",
       "0  0.645814  0.633738  0.508062  0.648953  0.489182  0.475461  \n",
       "1  0.524035  0.505956  0.352033  0.518294  0.415096  0.369806  \n",
       "\n",
       "[2 rows x 514 columns]"
      ]
     },
     "execution_count": 49,
     "metadata": {},
     "output_type": "execute_result"
    }
   ],
   "source": [
    "neurocombat2 = pd.DataFrame(data_combat2)\n",
    "neurocombat2.head(2)"
   ]
  },
  {
   "cell_type": "code",
   "execution_count": 50,
   "id": "ff59a901-e5a8-4256-9c2a-2b66023ca011",
   "metadata": {
    "scrolled": true,
    "tags": []
   },
   "outputs": [
    {
     "name": "stderr",
     "output_type": "stream",
     "text": [
      "..\\cvasl\\harmony.py:163: SettingWithCopyWarning: \n",
      "A value is trying to be set on a copy of a slice from a DataFrame\n",
      "\n",
      "See the caveats in the documentation: https://pandas.pydata.org/pandas-docs/stable/user_guide/indexing.html#returning-a-view-versus-a-copy\n",
      "  topperF['char'][0] = row0  # 'age'\n",
      "C:\\Users\\CandaceMoore\\miniconda3\\envs\\neuron_go\\lib\\site-packages\\pandas\\core\\indexing.py:671: SettingWithCopyWarning: \n",
      "A value is trying to be set on a copy of a slice from a DataFrame\n",
      "\n",
      "See the caveats in the documentation: https://pandas.pydata.org/pandas-docs/stable/user_guide/indexing.html#returning-a-view-versus-a-copy\n",
      "  self._setitem_with_indexer(indexer, value)\n"
     ]
    }
   ],
   "source": [
    "topperF2 = har.make_topper(btF2,'age', 'sex')"
   ]
  },
  {
   "cell_type": "code",
   "execution_count": 51,
   "id": "bb73c48b-1cad-4e16-93bb-0bfe27c9a128",
   "metadata": {
    "tags": []
   },
   "outputs": [],
   "source": [
    "bottom2 = neurocombat2.reset_index(drop=False)\n",
    "bottom2 = bottom2.rename(columns={\"index\": \"char\"})\n",
    "bottom2.columns = topperF2.columns"
   ]
  },
  {
   "cell_type": "code",
   "execution_count": 52,
   "id": "6137c382-5c5b-4d88-9cc7-d8534cbede47",
   "metadata": {
    "tags": []
   },
   "outputs": [],
   "source": [
    "back_together2 = pd.concat([topperF2, bottom2])\n",
    "back_together2 = back_together2.T\n",
    "#back_together2"
   ]
  },
  {
   "cell_type": "code",
   "execution_count": 53,
   "id": "481a6734-e6f8-442d-a056-0c84868803d0",
   "metadata": {
    "tags": []
   },
   "outputs": [],
   "source": [
    "new_header2 = back_together2.iloc[0] #grab the first row for the header\n",
    "back_together2.columns = new_header2 #set the header row as the df header\n",
    "back_together2 = back_together2[1:]\n",
    "#back_together2"
   ]
  },
  {
   "cell_type": "code",
   "execution_count": 54,
   "id": "ea55d71f-5365-4ac0-8492-e522a9336a3a",
   "metadata": {
    "tags": []
   },
   "outputs": [],
   "source": [
    "bottom_harmonized = back_together2.tail(slen2)\n",
    "top_harmonized = back_together2.head(slen1)"
   ]
  },
  {
   "cell_type": "code",
   "execution_count": 55,
   "id": "52f057a1-5f30-41e6-bce7-58295ea76b10",
   "metadata": {
    "tags": []
   },
   "outputs": [],
   "source": [
    "top_harmonized = top_harmonized.rename(feature_dictF2, axis='columns')\n",
    "bottom_harmonized= bottom_harmonized.rename(feature_dictF2, axis='columns')"
   ]
  },
  {
   "cell_type": "markdown",
   "id": "22825a35-bc9d-4fbe-9844-4213097311e2",
   "metadata": {},
   "source": [
    "Save off to harmonized csv files"
   ]
  },
  {
   "cell_type": "code",
   "execution_count": 56,
   "id": "4b4e16f9-e535-41e0-9e44-cb2d26fb104b",
   "metadata": {
    "tags": []
   },
   "outputs": [
    {
     "data": {
      "text/html": [
       "<div>\n",
       "<style scoped>\n",
       "    .dataframe tbody tr th:only-of-type {\n",
       "        vertical-align: middle;\n",
       "    }\n",
       "\n",
       "    .dataframe tbody tr th {\n",
       "        vertical-align: top;\n",
       "    }\n",
       "\n",
       "    .dataframe thead th {\n",
       "        text-align: right;\n",
       "    }\n",
       "</style>\n",
       "<table border=\"1\" class=\"dataframe\">\n",
       "  <thead>\n",
       "    <tr style=\"text-align: right;\">\n",
       "      <th>char</th>\n",
       "      <th>participant_id</th>\n",
       "      <th>age</th>\n",
       "      <th>sex</th>\n",
       "      <th>gm_vol</th>\n",
       "      <th>wm_vol</th>\n",
       "      <th>csf_vol</th>\n",
       "      <th>gm_ivc_ratio</th>\n",
       "      <th>gmwm_ivc_ratio</th>\n",
       "      <th>wmh_vol</th>\n",
       "      <th>wmh_count</th>\n",
       "      <th>deepwm_b_cov</th>\n",
       "      <th>aca_b_cov</th>\n",
       "      <th>mca_b_cov</th>\n",
       "      <th>pca_b_cov</th>\n",
       "      <th>totalgm_b_cov</th>\n",
       "      <th>deepwm_b</th>\n",
       "      <th>aca_b</th>\n",
       "      <th>mca_b</th>\n",
       "      <th>pca_b</th>\n",
       "      <th>totalgm_b</th>\n",
       "    </tr>\n",
       "  </thead>\n",
       "  <tbody>\n",
       "    <tr>\n",
       "      <th>0</th>\n",
       "      <td>sub-59251_1_ses-1_run-1</td>\n",
       "      <td>20.5055</td>\n",
       "      <td>F</td>\n",
       "      <td>0.627751</td>\n",
       "      <td>0.418279</td>\n",
       "      <td>0.197337</td>\n",
       "      <td>0.504383</td>\n",
       "      <td>0.840369</td>\n",
       "      <td>0.927252</td>\n",
       "      <td>3.5191</td>\n",
       "      <td>7.87831</td>\n",
       "      <td>1.66723</td>\n",
       "      <td>2.13527</td>\n",
       "      <td>1.98362</td>\n",
       "      <td>1.88372</td>\n",
       "      <td>24.8414</td>\n",
       "      <td>84.6744</td>\n",
       "      <td>80.3371</td>\n",
       "      <td>68.0118</td>\n",
       "      <td>74.5394</td>\n",
       "    </tr>\n",
       "    <tr>\n",
       "      <th>1</th>\n",
       "      <td>sub-59191_1_ses-1_run-1</td>\n",
       "      <td>20.9792</td>\n",
       "      <td>F</td>\n",
       "      <td>0.801774</td>\n",
       "      <td>0.524094</td>\n",
       "      <td>0.225621</td>\n",
       "      <td>0.519507</td>\n",
       "      <td>0.856101</td>\n",
       "      <td>0.537155</td>\n",
       "      <td>3.39167</td>\n",
       "      <td>8.505</td>\n",
       "      <td>1.81065</td>\n",
       "      <td>2.12879</td>\n",
       "      <td>1.92494</td>\n",
       "      <td>2.00571</td>\n",
       "      <td>25.5816</td>\n",
       "      <td>91.1337</td>\n",
       "      <td>88.042</td>\n",
       "      <td>66.3941</td>\n",
       "      <td>79.4319</td>\n",
       "    </tr>\n",
       "    <tr>\n",
       "      <th>2</th>\n",
       "      <td>sub-59147_1_ses-1_run-1</td>\n",
       "      <td>23.4836</td>\n",
       "      <td>F</td>\n",
       "      <td>0.692451</td>\n",
       "      <td>0.444595</td>\n",
       "      <td>0.240202</td>\n",
       "      <td>0.504603</td>\n",
       "      <td>0.826411</td>\n",
       "      <td>1.24031</td>\n",
       "      <td>2.96453</td>\n",
       "      <td>6.04958</td>\n",
       "      <td>1.9288</td>\n",
       "      <td>2.14412</td>\n",
       "      <td>1.69614</td>\n",
       "      <td>2.05695</td>\n",
       "      <td>23.5653</td>\n",
       "      <td>83.782</td>\n",
       "      <td>74.8606</td>\n",
       "      <td>60.0712</td>\n",
       "      <td>68.8697</td>\n",
       "    </tr>\n",
       "    <tr>\n",
       "      <th>3</th>\n",
       "      <td>sub-59196_1_ses-1_run-1</td>\n",
       "      <td>24.5629</td>\n",
       "      <td>F</td>\n",
       "      <td>0.721346</td>\n",
       "      <td>0.480893</td>\n",
       "      <td>0.308089</td>\n",
       "      <td>0.479837</td>\n",
       "      <td>0.798956</td>\n",
       "      <td>0.657396</td>\n",
       "      <td>3.19107</td>\n",
       "      <td>7.73239</td>\n",
       "      <td>2.06105</td>\n",
       "      <td>2.53497</td>\n",
       "      <td>1.72134</td>\n",
       "      <td>2.18803</td>\n",
       "      <td>24.6278</td>\n",
       "      <td>100.926</td>\n",
       "      <td>94.5637</td>\n",
       "      <td>66.7977</td>\n",
       "      <td>82.4306</td>\n",
       "    </tr>\n",
       "    <tr>\n",
       "      <th>4</th>\n",
       "      <td>sub-59266_1_ses-1_run-1</td>\n",
       "      <td>25.5656</td>\n",
       "      <td>F</td>\n",
       "      <td>0.657035</td>\n",
       "      <td>0.495388</td>\n",
       "      <td>0.313948</td>\n",
       "      <td>0.447286</td>\n",
       "      <td>0.788694</td>\n",
       "      <td>1.28584</td>\n",
       "      <td>3.33572</td>\n",
       "      <td>6.66578</td>\n",
       "      <td>2.08779</td>\n",
       "      <td>2.29055</td>\n",
       "      <td>1.96272</td>\n",
       "      <td>1.94436</td>\n",
       "      <td>22.1711</td>\n",
       "      <td>78.5098</td>\n",
       "      <td>72.4065</td>\n",
       "      <td>58.0328</td>\n",
       "      <td>65.2649</td>\n",
       "    </tr>\n",
       "    <tr>\n",
       "      <th>...</th>\n",
       "      <td>...</td>\n",
       "      <td>...</td>\n",
       "      <td>...</td>\n",
       "      <td>...</td>\n",
       "      <td>...</td>\n",
       "      <td>...</td>\n",
       "      <td>...</td>\n",
       "      <td>...</td>\n",
       "      <td>...</td>\n",
       "      <td>...</td>\n",
       "      <td>...</td>\n",
       "      <td>...</td>\n",
       "      <td>...</td>\n",
       "      <td>...</td>\n",
       "      <td>...</td>\n",
       "      <td>...</td>\n",
       "      <td>...</td>\n",
       "      <td>...</td>\n",
       "      <td>...</td>\n",
       "      <td>...</td>\n",
       "    </tr>\n",
       "    <tr>\n",
       "      <th>252</th>\n",
       "      <td>sub-59373_2_ses-2_run-1</td>\n",
       "      <td>63.6959</td>\n",
       "      <td>F</td>\n",
       "      <td>0.614926</td>\n",
       "      <td>0.489925</td>\n",
       "      <td>0.429993</td>\n",
       "      <td>0.401882</td>\n",
       "      <td>0.722129</td>\n",
       "      <td>1.4537</td>\n",
       "      <td>3.53254</td>\n",
       "      <td>4.24278</td>\n",
       "      <td>2.39675</td>\n",
       "      <td>2.33167</td>\n",
       "      <td>2.03204</td>\n",
       "      <td>1.96895</td>\n",
       "      <td>20.3071</td>\n",
       "      <td>57.6727</td>\n",
       "      <td>56.0761</td>\n",
       "      <td>38.9545</td>\n",
       "      <td>46.9925</td>\n",
       "    </tr>\n",
       "    <tr>\n",
       "      <th>253</th>\n",
       "      <td>sub-59140_1_ses-1_run-1</td>\n",
       "      <td>63.7158</td>\n",
       "      <td>F</td>\n",
       "      <td>0.595101</td>\n",
       "      <td>0.440891</td>\n",
       "      <td>0.347746</td>\n",
       "      <td>0.431108</td>\n",
       "      <td>0.747894</td>\n",
       "      <td>1.26322</td>\n",
       "      <td>2.9321</td>\n",
       "      <td>5.39362</td>\n",
       "      <td>2.03892</td>\n",
       "      <td>2.33182</td>\n",
       "      <td>2.69337</td>\n",
       "      <td>2.29372</td>\n",
       "      <td>23.8036</td>\n",
       "      <td>79.2305</td>\n",
       "      <td>69.6817</td>\n",
       "      <td>54.0672</td>\n",
       "      <td>61.0835</td>\n",
       "    </tr>\n",
       "    <tr>\n",
       "      <th>254</th>\n",
       "      <td>sub-59287_2_ses-2_run-1</td>\n",
       "      <td>63.7589</td>\n",
       "      <td>F</td>\n",
       "      <td>0.624279</td>\n",
       "      <td>0.494624</td>\n",
       "      <td>0.527118</td>\n",
       "      <td>0.381141</td>\n",
       "      <td>0.683923</td>\n",
       "      <td>1.50565</td>\n",
       "      <td>3.09957</td>\n",
       "      <td>5.98285</td>\n",
       "      <td>2.51657</td>\n",
       "      <td>2.03827</td>\n",
       "      <td>2.20249</td>\n",
       "      <td>2.20484</td>\n",
       "      <td>28.5006</td>\n",
       "      <td>108.293</td>\n",
       "      <td>90.9579</td>\n",
       "      <td>68.6105</td>\n",
       "      <td>80.1711</td>\n",
       "    </tr>\n",
       "    <tr>\n",
       "      <th>255</th>\n",
       "      <td>sub-59362_2_ses-2_run-1</td>\n",
       "      <td>63.7699</td>\n",
       "      <td>F</td>\n",
       "      <td>0.558619</td>\n",
       "      <td>0.367164</td>\n",
       "      <td>0.419272</td>\n",
       "      <td>0.417829</td>\n",
       "      <td>0.688643</td>\n",
       "      <td>1.57038</td>\n",
       "      <td>3.29178</td>\n",
       "      <td>2.73349</td>\n",
       "      <td>1.76413</td>\n",
       "      <td>1.97677</td>\n",
       "      <td>1.73498</td>\n",
       "      <td>1.70447</td>\n",
       "      <td>31.6586</td>\n",
       "      <td>95.9159</td>\n",
       "      <td>87.1621</td>\n",
       "      <td>70.4102</td>\n",
       "      <td>77.5529</td>\n",
       "    </tr>\n",
       "    <tr>\n",
       "      <th>256</th>\n",
       "      <td>sub-59363_2_ses-2_run-1</td>\n",
       "      <td>64.2575</td>\n",
       "      <td>F</td>\n",
       "      <td>0.691529</td>\n",
       "      <td>0.533476</td>\n",
       "      <td>0.517512</td>\n",
       "      <td>0.400395</td>\n",
       "      <td>0.707886</td>\n",
       "      <td>2.01391</td>\n",
       "      <td>3.19837</td>\n",
       "      <td>3.22628</td>\n",
       "      <td>1.65536</td>\n",
       "      <td>1.85598</td>\n",
       "      <td>2.10746</td>\n",
       "      <td>1.88342</td>\n",
       "      <td>23.4409</td>\n",
       "      <td>72.2883</td>\n",
       "      <td>63.45</td>\n",
       "      <td>56.3662</td>\n",
       "      <td>59.0376</td>\n",
       "    </tr>\n",
       "  </tbody>\n",
       "</table>\n",
       "<p>257 rows × 20 columns</p>\n",
       "</div>"
      ],
      "text/plain": [
       "char           participant_id      age sex    gm_vol    wm_vol   csf_vol  \\\n",
       "0     sub-59251_1_ses-1_run-1  20.5055   F  0.627751  0.418279  0.197337   \n",
       "1     sub-59191_1_ses-1_run-1  20.9792   F  0.801774  0.524094  0.225621   \n",
       "2     sub-59147_1_ses-1_run-1  23.4836   F  0.692451  0.444595  0.240202   \n",
       "3     sub-59196_1_ses-1_run-1  24.5629   F  0.721346  0.480893  0.308089   \n",
       "4     sub-59266_1_ses-1_run-1  25.5656   F  0.657035  0.495388  0.313948   \n",
       "..                        ...      ...  ..       ...       ...       ...   \n",
       "252   sub-59373_2_ses-2_run-1  63.6959   F  0.614926  0.489925  0.429993   \n",
       "253   sub-59140_1_ses-1_run-1  63.7158   F  0.595101  0.440891  0.347746   \n",
       "254   sub-59287_2_ses-2_run-1  63.7589   F  0.624279  0.494624  0.527118   \n",
       "255   sub-59362_2_ses-2_run-1  63.7699   F  0.558619  0.367164  0.419272   \n",
       "256   sub-59363_2_ses-2_run-1  64.2575   F  0.691529  0.533476  0.517512   \n",
       "\n",
       "char gm_ivc_ratio gmwm_ivc_ratio   wmh_vol wmh_count deepwm_b_cov aca_b_cov  \\\n",
       "0        0.504383       0.840369  0.927252    3.5191      7.87831   1.66723   \n",
       "1        0.519507       0.856101  0.537155   3.39167        8.505   1.81065   \n",
       "2        0.504603       0.826411   1.24031   2.96453      6.04958    1.9288   \n",
       "3        0.479837       0.798956  0.657396   3.19107      7.73239   2.06105   \n",
       "4        0.447286       0.788694   1.28584   3.33572      6.66578   2.08779   \n",
       "..            ...            ...       ...       ...          ...       ...   \n",
       "252      0.401882       0.722129    1.4537   3.53254      4.24278   2.39675   \n",
       "253      0.431108       0.747894   1.26322    2.9321      5.39362   2.03892   \n",
       "254      0.381141       0.683923   1.50565   3.09957      5.98285   2.51657   \n",
       "255      0.417829       0.688643   1.57038   3.29178      2.73349   1.76413   \n",
       "256      0.400395       0.707886   2.01391   3.19837      3.22628   1.65536   \n",
       "\n",
       "char mca_b_cov pca_b_cov totalgm_b_cov deepwm_b    aca_b    mca_b    pca_b  \\\n",
       "0      2.13527   1.98362       1.88372  24.8414  84.6744  80.3371  68.0118   \n",
       "1      2.12879   1.92494       2.00571  25.5816  91.1337   88.042  66.3941   \n",
       "2      2.14412   1.69614       2.05695  23.5653   83.782  74.8606  60.0712   \n",
       "3      2.53497   1.72134       2.18803  24.6278  100.926  94.5637  66.7977   \n",
       "4      2.29055   1.96272       1.94436  22.1711  78.5098  72.4065  58.0328   \n",
       "..         ...       ...           ...      ...      ...      ...      ...   \n",
       "252    2.33167   2.03204       1.96895  20.3071  57.6727  56.0761  38.9545   \n",
       "253    2.33182   2.69337       2.29372  23.8036  79.2305  69.6817  54.0672   \n",
       "254    2.03827   2.20249       2.20484  28.5006  108.293  90.9579  68.6105   \n",
       "255    1.97677   1.73498       1.70447  31.6586  95.9159  87.1621  70.4102   \n",
       "256    1.85598   2.10746       1.88342  23.4409  72.2883    63.45  56.3662   \n",
       "\n",
       "char totalgm_b  \n",
       "0      74.5394  \n",
       "1      79.4319  \n",
       "2      68.8697  \n",
       "3      82.4306  \n",
       "4      65.2649  \n",
       "..         ...  \n",
       "252    46.9925  \n",
       "253    61.0835  \n",
       "254    80.1711  \n",
       "255    77.5529  \n",
       "256    59.0376  \n",
       "\n",
       "[257 rows x 20 columns]"
      ]
     },
     "execution_count": 56,
     "metadata": {},
     "output_type": "execute_result"
    }
   ],
   "source": [
    "top_harmonized = top_harmonized.reset_index()\n",
    "top_harmonized= top_harmonized.rename(columns= {'index': 'participant_id'})\n",
    "top_harmonized"
   ]
  },
  {
   "cell_type": "code",
   "execution_count": 57,
   "id": "695e03db-01d4-4533-954d-ef1b16c76403",
   "metadata": {
    "tags": []
   },
   "outputs": [],
   "source": [
    "# change names of top and bottom so not confusing"
   ]
  },
  {
   "cell_type": "code",
   "execution_count": 58,
   "id": "aca9ecdb-9009-4fa7-9a0c-cc940261d1b6",
   "metadata": {
    "tags": []
   },
   "outputs": [
    {
     "data": {
      "text/plain": [
       "0"
      ]
     },
     "execution_count": 58,
     "metadata": {},
     "output_type": "execute_result"
    }
   ],
   "source": [
    "top_harmonized['age'].isna().sum()"
   ]
  },
  {
   "cell_type": "code",
   "execution_count": 59,
   "id": "13458404-2e30-4236-a9e4-22422118f143",
   "metadata": {
    "tags": []
   },
   "outputs": [],
   "source": [
    "#stroke_top_unharmonized"
   ]
  },
  {
   "cell_type": "code",
   "execution_count": 60,
   "id": "e365143e-e2f9-41a9-99bb-54a02bf3e7ec",
   "metadata": {
    "tags": []
   },
   "outputs": [
    {
     "data": {
      "text/html": [
       "<div>\n",
       "<style scoped>\n",
       "    .dataframe tbody tr th:only-of-type {\n",
       "        vertical-align: middle;\n",
       "    }\n",
       "\n",
       "    .dataframe tbody tr th {\n",
       "        vertical-align: top;\n",
       "    }\n",
       "\n",
       "    .dataframe thead th {\n",
       "        text-align: right;\n",
       "    }\n",
       "</style>\n",
       "<table border=\"1\" class=\"dataframe\">\n",
       "  <thead>\n",
       "    <tr style=\"text-align: right;\">\n",
       "      <th></th>\n",
       "      <th>participant_id</th>\n",
       "      <th>age</th>\n",
       "      <th>sex</th>\n",
       "      <th>gm_vol</th>\n",
       "      <th>wm_vol</th>\n",
       "      <th>csf_vol</th>\n",
       "      <th>gm_ivc_ratio</th>\n",
       "      <th>gmwm_ivc_ratio</th>\n",
       "      <th>wmh_vol</th>\n",
       "      <th>wmh_count</th>\n",
       "      <th>deepwm_b_cov</th>\n",
       "      <th>aca_b_cov</th>\n",
       "      <th>mca_b_cov</th>\n",
       "      <th>pca_b_cov</th>\n",
       "      <th>totalgm_b_cov</th>\n",
       "      <th>deepwm_b</th>\n",
       "      <th>aca_b</th>\n",
       "      <th>mca_b</th>\n",
       "      <th>pca_b</th>\n",
       "      <th>totalgm_b</th>\n",
       "    </tr>\n",
       "  </thead>\n",
       "  <tbody>\n",
       "    <tr>\n",
       "      <th>246</th>\n",
       "      <td>sub-59251_1_ses-1_run-1</td>\n",
       "      <td>20.505464</td>\n",
       "      <td>F</td>\n",
       "      <td>0.63411</td>\n",
       "      <td>0.43188</td>\n",
       "      <td>0.19721</td>\n",
       "      <td>0.50199</td>\n",
       "      <td>0.84388</td>\n",
       "      <td>0.677018</td>\n",
       "      <td>3.401197</td>\n",
       "      <td>8.0744</td>\n",
       "      <td>1.6380</td>\n",
       "      <td>2.0994</td>\n",
       "      <td>1.9025</td>\n",
       "      <td>1.8617</td>\n",
       "      <td>24.2828</td>\n",
       "      <td>84.7610</td>\n",
       "      <td>80.2063</td>\n",
       "      <td>67.9731</td>\n",
       "      <td>74.5803</td>\n",
       "    </tr>\n",
       "    <tr>\n",
       "      <th>160</th>\n",
       "      <td>sub-59191_1_ses-1_run-1</td>\n",
       "      <td>20.979250</td>\n",
       "      <td>F</td>\n",
       "      <td>0.80330</td>\n",
       "      <td>0.53481</td>\n",
       "      <td>0.22156</td>\n",
       "      <td>0.51504</td>\n",
       "      <td>0.85794</td>\n",
       "      <td>0.346423</td>\n",
       "      <td>3.295837</td>\n",
       "      <td>8.7006</td>\n",
       "      <td>1.7386</td>\n",
       "      <td>2.0947</td>\n",
       "      <td>1.8571</td>\n",
       "      <td>1.9528</td>\n",
       "      <td>24.9092</td>\n",
       "      <td>90.8018</td>\n",
       "      <td>87.3676</td>\n",
       "      <td>66.4921</td>\n",
       "      <td>79.1771</td>\n",
       "    </tr>\n",
       "    <tr>\n",
       "      <th>90</th>\n",
       "      <td>sub-59147_1_ses-1_run-1</td>\n",
       "      <td>23.483607</td>\n",
       "      <td>F</td>\n",
       "      <td>0.69681</td>\n",
       "      <td>0.45745</td>\n",
       "      <td>0.23545</td>\n",
       "      <td>0.50141</td>\n",
       "      <td>0.83058</td>\n",
       "      <td>0.962411</td>\n",
       "      <td>2.944439</td>\n",
       "      <td>6.2468</td>\n",
       "      <td>1.8262</td>\n",
       "      <td>2.1046</td>\n",
       "      <td>1.6810</td>\n",
       "      <td>1.9915</td>\n",
       "      <td>23.2440</td>\n",
       "      <td>83.8581</td>\n",
       "      <td>75.0336</td>\n",
       "      <td>60.6876</td>\n",
       "      <td>69.1784</td>\n",
       "    </tr>\n",
       "  </tbody>\n",
       "</table>\n",
       "</div>"
      ],
      "text/plain": [
       "              participant_id        age sex   gm_vol   wm_vol  csf_vol  \\\n",
       "246  sub-59251_1_ses-1_run-1  20.505464   F  0.63411  0.43188  0.19721   \n",
       "160  sub-59191_1_ses-1_run-1  20.979250   F  0.80330  0.53481  0.22156   \n",
       "90   sub-59147_1_ses-1_run-1  23.483607   F  0.69681  0.45745  0.23545   \n",
       "\n",
       "     gm_ivc_ratio  gmwm_ivc_ratio   wmh_vol  wmh_count  deepwm_b_cov  \\\n",
       "246       0.50199         0.84388  0.677018   3.401197        8.0744   \n",
       "160       0.51504         0.85794  0.346423   3.295837        8.7006   \n",
       "90        0.50141         0.83058  0.962411   2.944439        6.2468   \n",
       "\n",
       "     aca_b_cov  mca_b_cov  pca_b_cov  totalgm_b_cov  deepwm_b    aca_b  \\\n",
       "246     1.6380     2.0994     1.9025         1.8617   24.2828  84.7610   \n",
       "160     1.7386     2.0947     1.8571         1.9528   24.9092  90.8018   \n",
       "90      1.8262     2.1046     1.6810         1.9915   23.2440  83.8581   \n",
       "\n",
       "       mca_b    pca_b  totalgm_b  \n",
       "246  80.2063  67.9731    74.5803  \n",
       "160  87.3676  66.4921    79.1771  \n",
       "90   75.0336  60.6876    69.1784  "
      ]
     },
     "execution_count": 60,
     "metadata": {},
     "output_type": "execute_result"
    }
   ],
   "source": [
    "stroke_top_unharmonized = stroke_top_unharmonized.drop('Unnamed: 0', axis=1)#.iloc[:,4:] \n",
    "#stroke_top_unharmonized = stroke_top_unharmonized.reset_index('participant_id')\n",
    "stroke_top_unharmonized.head(3)"
   ]
  },
  {
   "cell_type": "markdown",
   "id": "82bb2718-03e7-4001-be00-5578c81f063a",
   "metadata": {},
   "source": [
    "## So we see in this case we got a ten fold difference on the wmh column...\n",
    "# This deserves a bit more investigation, and some graphing IMHO\n",
    "note this shows that algorithms that work well positively (correcting inherently different sets) do nor always work well on the negative test (not over-correcting well on similar or the same datasets )"
   ]
  },
  {
   "cell_type": "code",
   "execution_count": 61,
   "id": "263382cf-51af-4850-99c4-9a513ddadd66",
   "metadata": {
    "tags": []
   },
   "outputs": [],
   "source": [
    "#stroke_top_unharmonized.merge(top_harmonized, on= 'participant_id')"
   ]
  },
  {
   "cell_type": "code",
   "execution_count": 62,
   "id": "bfbb742a-5163-4ff0-bf8e-2bf7c3adc553",
   "metadata": {
    "tags": []
   },
   "outputs": [
    {
     "data": {
      "text/plain": [
       "0"
      ]
     },
     "execution_count": 62,
     "metadata": {},
     "output_type": "execute_result"
    }
   ],
   "source": [
    "stroke_top_unharmonized['age'].isna().sum()"
   ]
  },
  {
   "cell_type": "markdown",
   "id": "edfe182b-3259-4372-813e-ea0b00d22f10",
   "metadata": {
    "tags": []
   },
   "source": [
    "# rename variables so there is only one TOP"
   ]
  },
  {
   "cell_type": "code",
   "execution_count": 63,
   "id": "6fcc9c82-788e-4afb-af17-d075a0e43623",
   "metadata": {
    "tags": []
   },
   "outputs": [
    {
     "data": {
      "text/plain": [
       "0"
      ]
     },
     "execution_count": 63,
     "metadata": {},
     "output_type": "execute_result"
    }
   ],
   "source": [
    "top_harmonized['age'].isna().sum()"
   ]
  },
  {
   "cell_type": "code",
   "execution_count": 80,
   "id": "8d5370aa-9cc5-41a0-831d-3ea9f1d6debc",
   "metadata": {
    "tags": []
   },
   "outputs": [
    {
     "data": {
      "text/plain": [
       "0.0"
      ]
     },
     "execution_count": 80,
     "metadata": {},
     "output_type": "execute_result"
    }
   ],
   "source": [
    "# tso do put \n",
    "(stroke_even_unharmonized.reset_index()['age'].values  - evens_harmonized['age'].values).sum()"
   ]
  },
  {
   "cell_type": "code",
   "execution_count": null,
   "id": "8d442f6b-4a88-4af8-a6bd-5e4c79efe4be",
   "metadata": {
    "tags": []
   },
   "outputs": [],
   "source": []
  },
  {
   "cell_type": "code",
   "execution_count": 64,
   "id": "019ec305-7021-46aa-996e-ca38fef2a976",
   "metadata": {
    "tags": []
   },
   "outputs": [
    {
     "name": "stderr",
     "output_type": "stream",
     "text": [
      "C:\\Users\\CandaceMoore\\miniconda3\\envs\\neuron_go\\lib\\site-packages\\pandas\\plotting\\_matplotlib\\core.py:1192: UserWarning: FixedFormatter should only be used together with FixedLocator\n",
      "  ax.set_xticklabels(xticklabels)\n"
     ]
    },
    {
     "data": {
      "text/plain": [
       "<AxesSubplot:>"
      ]
     },
     "execution_count": 64,
     "metadata": {},
     "output_type": "execute_result"
    },
    {
     "data": {
      "image/png": "[encoded data removed]",
      "text/plain": [
       "<Figure size 640x480 with 1 Axes>"
      ]
     },
     "metadata": {},
     "output_type": "display_data"
    }
   ],
   "source": [
    "stroke_even_unharmonized.reset_index()['age'].plot(color='blue', alpha= 0.5)\n",
    "evens_harmonized['age'].plot(color= 'red', alpha= 0.5)"
   ]
  },
  {
   "cell_type": "code",
   "execution_count": 82,
   "id": "4354ef96-fc77-4f3d-89ac-60e346695906",
   "metadata": {
    "tags": []
   },
   "outputs": [
    {
     "data": {
      "text/plain": [
       "count    257.000000\n",
       "mean       1.712286\n",
       "std        0.994238\n",
       "min       -0.592397\n",
       "25%        1.016317\n",
       "50%        1.545646\n",
       "75%        2.340459\n",
       "max        4.176800\n",
       "Name: wmh_vol, dtype: float64"
      ]
     },
     "execution_count": 82,
     "metadata": {},
     "output_type": "execute_result"
    }
   ],
   "source": [
    "stroke_even_unharmonized.reset_index()['wmh_vol'].describe()"
   ]
  },
  {
   "cell_type": "code",
   "execution_count": 89,
   "id": "5cdae9df-9367-425f-8209-173601f0698d",
   "metadata": {
    "tags": []
   },
   "outputs": [],
   "source": [
    "differences = (stroke_even_unharmonized.reset_index()['wmh_vol'].values - evens_harmonized['wmh_vol'].values)#.describe()"
   ]
  },
  {
   "cell_type": "code",
   "execution_count": 97,
   "id": "0cda7836-4f70-4157-aee5-0dedd652b252",
   "metadata": {
    "tags": []
   },
   "outputs": [
    {
     "data": {
      "text/plain": [
       "0   -0.012555\n",
       "dtype: float64"
      ]
     },
     "execution_count": 97,
     "metadata": {},
     "output_type": "execute_result"
    }
   ],
   "source": [
    "diff_frame = pd.DataFrame(differences)\n",
    "diff_frame.mean()"
   ]
  },
  {
   "cell_type": "code",
   "execution_count": 107,
   "id": "9b0efc87-2709-4e7c-8688-cc92aa2752ef",
   "metadata": {
    "tags": []
   },
   "outputs": [
    {
     "data": {
      "text/plain": [
       "[<matplotlib.lines.Line2D at 0x13a1fe39148>]"
      ]
     },
     "execution_count": 107,
     "metadata": {},
     "output_type": "execute_result"
    },
    {
     "data": {
      "image/png": "[encoded data removed]",
      "text/plain": [
       "<Figure size 640x480 with 1 Axes>"
      ]
     },
     "metadata": {},
     "output_type": "display_data"
    }
   ],
   "source": [
    "plt.plot(diff_frame)"
   ]
  },
  {
   "cell_type": "code",
   "execution_count": null,
   "id": "45138cd6-0488-4727-bbe6-e8ea07ad3820",
   "metadata": {},
   "outputs": [],
   "source": [
    "# floating pont differences should be 10 to the minus 8 or 10 to the minus 16"
   ]
  },
  {
   "cell_type": "code",
   "execution_count": null,
   "id": "796dc3a6-77a5-42df-9717-8746c809884f",
   "metadata": {},
   "outputs": [],
   "source": [
    "## use creators test case, and see if we get the same kinds of results"
   ]
  },
  {
   "cell_type": "code",
   "execution_count": 108,
   "id": "90bd14a2-051d-4401-b734-47cf3fe3286a",
   "metadata": {
    "tags": []
   },
   "outputs": [
    {
     "name": "stderr",
     "output_type": "stream",
     "text": [
      "C:\\Users\\CandaceMoore\\miniconda3\\envs\\neuron_go\\lib\\site-packages\\pandas\\plotting\\_matplotlib\\core.py:1192: UserWarning: FixedFormatter should only be used together with FixedLocator\n",
      "  ax.set_xticklabels(xticklabels)\n"
     ]
    },
    {
     "data": {
      "text/plain": [
       "<AxesSubplot:>"
      ]
     },
     "execution_count": 108,
     "metadata": {},
     "output_type": "execute_result"
    },
    {
     "data": {
      "image/png": "[encoded data removed]",
      "text/plain": [
       "<Figure size 640x480 with 1 Axes>"
      ]
     },
     "metadata": {},
     "output_type": "display_data"
    }
   ],
   "source": [
    "stroke_even_unharmonized.reset_index()['wmh_vol'].plot(color='blue', alpha= 0.5)\n",
    "evens_harmonized['wmh_vol'].plot(color= 'red', alpha= 0.5)"
   ]
  },
  {
   "cell_type": "code",
   "execution_count": 109,
   "id": "c8e236ea-e288-42c3-98b6-05f7c41f16ed",
   "metadata": {
    "tags": []
   },
   "outputs": [
    {
     "name": "stderr",
     "output_type": "stream",
     "text": [
      "C:\\Users\\CandaceMoore\\miniconda3\\envs\\neuron_go\\lib\\site-packages\\pandas\\plotting\\_matplotlib\\core.py:1192: UserWarning: FixedFormatter should only be used together with FixedLocator\n",
      "  ax.set_xticklabels(xticklabels)\n"
     ]
    },
    {
     "data": {
      "text/plain": [
       "<AxesSubplot:>"
      ]
     },
     "execution_count": 109,
     "metadata": {},
     "output_type": "execute_result"
    },
    {
     "data": {
      "image/png": "[encoded data removed]",
      "text/plain": [
       "<Figure size 640x480 with 1 Axes>"
      ]
     },
     "metadata": {},
     "output_type": "display_data"
    }
   ],
   "source": [
    "stroke_even_unharmonized.reset_index()['wmh_count'].plot(color='blue', alpha= 0.5)\n",
    "evens_harmonized['wmh_count'].plot(color= 'red', alpha= 0.5)"
   ]
  },
  {
   "cell_type": "code",
   "execution_count": 110,
   "id": "ea2873b3-9475-4705-92fd-211f7e4daa22",
   "metadata": {
    "tags": []
   },
   "outputs": [
    {
     "data": {
      "text/plain": [
       "<AxesSubplot:>"
      ]
     },
     "execution_count": 110,
     "metadata": {},
     "output_type": "execute_result"
    },
    {
     "data": {
      "image/png": "[encoded data removed]",
      "text/plain": [
       "<Figure size 640x480 with 1 Axes>"
      ]
     },
     "metadata": {},
     "output_type": "display_data"
    }
   ],
   "source": [
    "stroke_top_unharmonized.reset_index()['age'].plot(color='blue', alpha= 0.5)\n",
    "top_harmonized['age'].plot(color= 'red', alpha= 0.5)"
   ]
  },
  {
   "cell_type": "code",
   "execution_count": 111,
   "id": "b9d79ad7-c5ef-43f1-b674-572feadb8fc6",
   "metadata": {
    "tags": []
   },
   "outputs": [
    {
     "data": {
      "text/plain": [
       "<AxesSubplot:>"
      ]
     },
     "execution_count": 111,
     "metadata": {},
     "output_type": "execute_result"
    },
    {
     "data": {
      "image/png": "[encoded data removed]",
      "text/plain": [
       "<Figure size 640x480 with 1 Axes>"
      ]
     },
     "metadata": {},
     "output_type": "display_data"
    }
   ],
   "source": [
    "stroke_top_unharmonized.reset_index()['wmh_vol'].plot(color='blue', alpha= 0.5)\n",
    "top_harmonized['wmh_vol'].plot(color= 'red', alpha= 0.5)"
   ]
  },
  {
   "cell_type": "code",
   "execution_count": 116,
   "id": "9a93e630-03aa-46b3-9bb9-cc3ced74607b",
   "metadata": {
    "tags": []
   },
   "outputs": [
    {
     "data": {
      "text/plain": [
       "[<matplotlib.lines.Line2D at 0x13a202c5b88>]"
      ]
     },
     "execution_count": 116,
     "metadata": {},
     "output_type": "execute_result"
    },
    {
     "data": {
      "image/png": "[encoded data removed]",
      "text/plain": [
       "<Figure size 640x480 with 1 Axes>"
      ]
     },
     "metadata": {},
     "output_type": "display_data"
    }
   ],
   "source": [
    "plt.plot(difference, stroke_top_unharmonized.reset_index()['wmh_vol'].values, '.')"
   ]
  },
  {
   "cell_type": "code",
   "execution_count": 114,
   "id": "f43f3df5-5354-438f-9725-3fb0515901bc",
   "metadata": {
    "tags": []
   },
   "outputs": [
    {
     "data": {
      "text/plain": [
       "array([-0.2502346114680454, -0.19073273575408828, -0.2779009761962078,\n",
       "       -0.18676789438945646, -0.27206409114608965, -0.13361286302867592,\n",
       "       -0.18318913132871584, -0.048235253991464, -0.2551581899160251,\n",
       "       -0.1560649314595146, -0.13689576166976547, -0.07540683837455475,\n",
       "       -0.2589696594432742, -0.11218903619085702, -0.1596078097275504,\n",
       "       -0.2274060175467827, 0.0032675659011591196, -0.06604082851634496,\n",
       "       0.026018840120377473, -0.27546857774719036, -0.030071946343110945,\n",
       "       -0.005373407006410397, -0.0008815914933376634,\n",
       "       -0.13089292941948072, -0.19296676975806593, -0.16609892509322322,\n",
       "       -0.21596697093072326, -0.28129475603213594, 0.0005169492922537655,\n",
       "       -0.044081173713790056, -0.050468135940197, -0.0373350188153191,\n",
       "       -0.18942715001782195, -0.04403105114771938, -0.20841588868951944,\n",
       "       -0.03998896077726405, -0.09827669508079556, -0.18806382606703653,\n",
       "       -0.1584017798851285, -0.06485942296175196, -0.20499293002537966,\n",
       "       -0.080271385688017, -0.14423365989336445, -0.13904635236982033,\n",
       "       -0.024730319673862244, -0.15374488844038192, -0.1884764233016165,\n",
       "       -0.19467065513504211, -0.11439294400283684, -0.26480341041417654,\n",
       "       -0.1537446731344414, 0.06979516948471837, -0.14674091198447103,\n",
       "       -0.06491792661996887, -0.28538042906138483, -0.18273753784576385,\n",
       "       -0.07856153270359378, -0.11429262191657064, 0.034879420476974454,\n",
       "       -0.0930734161972071, -0.013759101680665214, -0.23721870185817528,\n",
       "       -0.03135862315538651, -0.1721057986691783, -0.015429882335677159,\n",
       "       -0.21118710984073918, -0.041739820224302004, -0.15422256454600625,\n",
       "       -0.06160022492130707, -0.014358128116486263, -0.09422961698851884,\n",
       "       -0.09114698702983759, -0.1948762169340239, -0.18755306063782573,\n",
       "       -0.09584409364867141, -0.05496035890897699, -0.1308662961872996,\n",
       "       -0.004910753085074049, 0.058709016507486, -0.13873277981774312,\n",
       "       0.05586886495867474, 0.035778286245722934, -0.13225837663620876,\n",
       "       -0.18852180435975874, -0.1566900893897798, 0.0404619138429933,\n",
       "       -0.09270315950208419, -0.1264386384801408, -0.13531792877402915,\n",
       "       -0.19943473885732077, -0.03293267149541168, -0.00929551791730493,\n",
       "       -0.18347494411879994, -0.1711875029029455, -0.05915054225269267,\n",
       "       -0.02385187137679201, 0.053260196555792616, -0.17894459048964095,\n",
       "       -0.15344452311554435, -0.18823668490738266, -0.16801894431000752,\n",
       "       -0.2323917731080447, -0.19717104776227212, -0.02470763977846957,\n",
       "       -0.13176084610136019, -0.06697826893920222, -0.25249258172658706,\n",
       "       0.0399790260051025, -0.07363613895922638, -0.14139849693985984,\n",
       "       0.0435835319122269, -0.14310783819856976, -0.15800496969349176,\n",
       "       -0.07475999017703383, -0.009820213924529697, 0.059544668967266845,\n",
       "       -0.2917883003093964, -0.2592943228365425, -0.17807843398679468,\n",
       "       -0.005256229845327476, 0.05168676482180461, -0.1812434699604315,\n",
       "       -0.07129388468069431, -0.15409745730359292, -0.1135163910387269,\n",
       "       -0.1101274190120567, -0.038515173881090714, 0.029350433470086812,\n",
       "       0.0218587314785767, -0.1246499748762151, -0.04538712513282528,\n",
       "       -0.16822192415645199, -0.07728111843477647, -0.04439529314971802,\n",
       "       -0.17401652283157665, -0.07451172212598078, -0.0949730745852071,\n",
       "       -0.22821195239774061, -0.0070641554199223355, -0.0779709709927443,\n",
       "       -0.31858402497563665, -0.11735331292162421, -0.15433630868832826,\n",
       "       -0.12778344996409352, -0.1182680428567695, -0.2297212917423186,\n",
       "       -0.09897370195502875, -0.11665296106864198, -0.14640306489596422,\n",
       "       -0.15788268360491808, -0.1771917427945353, -0.15538029920983054,\n",
       "       -0.034301061541633704, -0.1926110639514016, -0.06814734531438349,\n",
       "       -0.1770190425498357, 0.029547245800954913, -0.1072968808142325,\n",
       "       -0.11344874637149838, -0.18946083337545194, -0.1747668735969139,\n",
       "       -0.024778648950185334, -0.11173332235503275, -0.07167445584184395,\n",
       "       -0.10575387902509226, -0.19876168693862106, -0.1236035799312194,\n",
       "       -0.05223611019968821, 0.1524390451105136, -0.24339443579217068,\n",
       "       -0.18759381496947292, -0.20219266200371178, -0.1433128073173251,\n",
       "       -0.1573256925795623, 0.028059506982028415, -0.17149888805148272,\n",
       "       -0.13776616182339407, -0.201863247382996, -0.13019209715650026,\n",
       "       0.07450260720005306, 0.08132493695253007, 0.09416595270030764,\n",
       "       -0.19077958257398486, -0.050260458792195206, -0.14554426051552816,\n",
       "       -0.16580974727766962, -0.08341345139355516, -0.06739106257369532,\n",
       "       -0.12600982849113662, -0.13428798272929732, -0.11393486595204494,\n",
       "       -0.30400336141050444, -0.0487630134705217, -0.05170841850729624,\n",
       "       0.02605722445824299, -0.18965633214337285, -0.09246578054057264,\n",
       "       -0.02733379289093474, -0.07904329186806947, -0.07761400955105247,\n",
       "       -0.26134765325121334, 0.027957734282668012, -0.18335562514389792,\n",
       "       -0.10136793413007861, 0.035315514714721274, -0.16903820981880457,\n",
       "       -0.146282203340933, -0.11641907889675851, -0.06222121283127713,\n",
       "       -0.20414741946460646, -0.09876055171082943, -0.04769088592042747,\n",
       "       -0.05151214126083192, -0.17563505505718968, 0.019670618590889144,\n",
       "       -0.08260460658053415, -0.02196258933563644, -0.10147821882195762,\n",
       "       -0.13356026031064827, -0.15498740767580976, -0.13209870058914763,\n",
       "       -0.04813994760691598, -0.08784130915001387, -0.05402153483098204,\n",
       "       -0.010179781976170865, -0.19899140557306483, -0.02204574904493173,\n",
       "       -0.034628373719121974, -0.014102014680446473, -0.32086666513598194,\n",
       "       -0.007168914503855484, -0.020517956405653903, -0.14469290100257903,\n",
       "       -0.2160755321065615, -0.10704415022985136, -0.08045769691732518,\n",
       "       -0.1453504147806468, -0.005452105583901523, -0.11019777663537456,\n",
       "       -0.1678972422772651, 0.07893844424035035, -0.03575709286405804,\n",
       "       0.04176993212495028, -0.06313933957581397, -0.08889679884713897,\n",
       "       0.027298954983638657, -0.027072683403429165, -0.19403494675312327,\n",
       "       -0.1344016560366097, -0.1400813940175336, -0.033350781062128076,\n",
       "       -0.15614016291768307, -0.0684080672658478, -0.04061724510239495,\n",
       "       -0.07557748535318654, -0.08491447880464587, -0.14642976382298034],\n",
       "      dtype=object)"
      ]
     },
     "execution_count": 114,
     "metadata": {},
     "output_type": "execute_result"
    }
   ],
   "source": [
    "difference = (stroke_top_unharmonized.reset_index()['wmh_vol'].values - top_harmonized['wmh_vol'].values)\n",
    "difference"
   ]
  },
  {
   "cell_type": "code",
   "execution_count": 112,
   "id": "259e96d3-6a35-40f5-8098-2ea3306441d3",
   "metadata": {
    "tags": []
   },
   "outputs": [
    {
     "data": {
      "text/plain": [
       "array([-0.2502346114680454, -0.19073273575408828, -0.2779009761962078,\n",
       "       -0.18676789438945646, -0.27206409114608965, -0.13361286302867592,\n",
       "       -0.18318913132871584, -0.048235253991464, -0.2551581899160251,\n",
       "       -0.1560649314595146, -0.13689576166976547, -0.07540683837455475,\n",
       "       -0.2589696594432742, -0.11218903619085702, -0.1596078097275504,\n",
       "       -0.2274060175467827, 0.0032675659011591196, -0.06604082851634496,\n",
       "       0.026018840120377473, -0.27546857774719036, -0.030071946343110945,\n",
       "       -0.005373407006410397, -0.0008815914933376634,\n",
       "       -0.13089292941948072, -0.19296676975806593, -0.16609892509322322,\n",
       "       -0.21596697093072326, -0.28129475603213594, 0.0005169492922537655,\n",
       "       -0.044081173713790056, -0.050468135940197, -0.0373350188153191,\n",
       "       -0.18942715001782195, -0.04403105114771938, -0.20841588868951944,\n",
       "       -0.03998896077726405, -0.09827669508079556, -0.18806382606703653,\n",
       "       -0.1584017798851285, -0.06485942296175196, -0.20499293002537966,\n",
       "       -0.080271385688017, -0.14423365989336445, -0.13904635236982033,\n",
       "       -0.024730319673862244, -0.15374488844038192, -0.1884764233016165,\n",
       "       -0.19467065513504211, -0.11439294400283684, -0.26480341041417654,\n",
       "       -0.1537446731344414, 0.06979516948471837, -0.14674091198447103,\n",
       "       -0.06491792661996887, -0.28538042906138483, -0.18273753784576385,\n",
       "       -0.07856153270359378, -0.11429262191657064, 0.034879420476974454,\n",
       "       -0.0930734161972071, -0.013759101680665214, -0.23721870185817528,\n",
       "       -0.03135862315538651, -0.1721057986691783, -0.015429882335677159,\n",
       "       -0.21118710984073918, -0.041739820224302004, -0.15422256454600625,\n",
       "       -0.06160022492130707, -0.014358128116486263, -0.09422961698851884,\n",
       "       -0.09114698702983759, -0.1948762169340239, -0.18755306063782573,\n",
       "       -0.09584409364867141, -0.05496035890897699, -0.1308662961872996,\n",
       "       -0.004910753085074049, 0.058709016507486, -0.13873277981774312,\n",
       "       0.05586886495867474, 0.035778286245722934, -0.13225837663620876,\n",
       "       -0.18852180435975874, -0.1566900893897798, 0.0404619138429933,\n",
       "       -0.09270315950208419, -0.1264386384801408, -0.13531792877402915,\n",
       "       -0.19943473885732077, -0.03293267149541168, -0.00929551791730493,\n",
       "       -0.18347494411879994, -0.1711875029029455, -0.05915054225269267,\n",
       "       -0.02385187137679201, 0.053260196555792616, -0.17894459048964095,\n",
       "       -0.15344452311554435, -0.18823668490738266, -0.16801894431000752,\n",
       "       -0.2323917731080447, -0.19717104776227212, -0.02470763977846957,\n",
       "       -0.13176084610136019, -0.06697826893920222, -0.25249258172658706,\n",
       "       0.0399790260051025, -0.07363613895922638, -0.14139849693985984,\n",
       "       0.0435835319122269, -0.14310783819856976, -0.15800496969349176,\n",
       "       -0.07475999017703383, -0.009820213924529697, 0.059544668967266845,\n",
       "       -0.2917883003093964, -0.2592943228365425, -0.17807843398679468,\n",
       "       -0.005256229845327476, 0.05168676482180461, -0.1812434699604315,\n",
       "       -0.07129388468069431, -0.15409745730359292, -0.1135163910387269,\n",
       "       -0.1101274190120567, -0.038515173881090714, 0.029350433470086812,\n",
       "       0.0218587314785767, -0.1246499748762151, -0.04538712513282528,\n",
       "       -0.16822192415645199, -0.07728111843477647, -0.04439529314971802,\n",
       "       -0.17401652283157665, -0.07451172212598078, -0.0949730745852071,\n",
       "       -0.22821195239774061, -0.0070641554199223355, -0.0779709709927443,\n",
       "       -0.31858402497563665, -0.11735331292162421, -0.15433630868832826,\n",
       "       -0.12778344996409352, -0.1182680428567695, -0.2297212917423186,\n",
       "       -0.09897370195502875, -0.11665296106864198, -0.14640306489596422,\n",
       "       -0.15788268360491808, -0.1771917427945353, -0.15538029920983054,\n",
       "       -0.034301061541633704, -0.1926110639514016, -0.06814734531438349,\n",
       "       -0.1770190425498357, 0.029547245800954913, -0.1072968808142325,\n",
       "       -0.11344874637149838, -0.18946083337545194, -0.1747668735969139,\n",
       "       -0.024778648950185334, -0.11173332235503275, -0.07167445584184395,\n",
       "       -0.10575387902509226, -0.19876168693862106, -0.1236035799312194,\n",
       "       -0.05223611019968821, 0.1524390451105136, -0.24339443579217068,\n",
       "       -0.18759381496947292, -0.20219266200371178, -0.1433128073173251,\n",
       "       -0.1573256925795623, 0.028059506982028415, -0.17149888805148272,\n",
       "       -0.13776616182339407, -0.201863247382996, -0.13019209715650026,\n",
       "       0.07450260720005306, 0.08132493695253007, 0.09416595270030764,\n",
       "       -0.19077958257398486, -0.050260458792195206, -0.14554426051552816,\n",
       "       -0.16580974727766962, -0.08341345139355516, -0.06739106257369532,\n",
       "       -0.12600982849113662, -0.13428798272929732, -0.11393486595204494,\n",
       "       -0.30400336141050444, -0.0487630134705217, -0.05170841850729624,\n",
       "       0.02605722445824299, -0.18965633214337285, -0.09246578054057264,\n",
       "       -0.02733379289093474, -0.07904329186806947, -0.07761400955105247,\n",
       "       -0.26134765325121334, 0.027957734282668012, -0.18335562514389792,\n",
       "       -0.10136793413007861, 0.035315514714721274, -0.16903820981880457,\n",
       "       -0.146282203340933, -0.11641907889675851, -0.06222121283127713,\n",
       "       -0.20414741946460646, -0.09876055171082943, -0.04769088592042747,\n",
       "       -0.05151214126083192, -0.17563505505718968, 0.019670618590889144,\n",
       "       -0.08260460658053415, -0.02196258933563644, -0.10147821882195762,\n",
       "       -0.13356026031064827, -0.15498740767580976, -0.13209870058914763,\n",
       "       -0.04813994760691598, -0.08784130915001387, -0.05402153483098204,\n",
       "       -0.010179781976170865, -0.19899140557306483, -0.02204574904493173,\n",
       "       -0.034628373719121974, -0.014102014680446473, -0.32086666513598194,\n",
       "       -0.007168914503855484, -0.020517956405653903, -0.14469290100257903,\n",
       "       -0.2160755321065615, -0.10704415022985136, -0.08045769691732518,\n",
       "       -0.1453504147806468, -0.005452105583901523, -0.11019777663537456,\n",
       "       -0.1678972422772651, 0.07893844424035035, -0.03575709286405804,\n",
       "       0.04176993212495028, -0.06313933957581397, -0.08889679884713897,\n",
       "       0.027298954983638657, -0.027072683403429165, -0.19403494675312327,\n",
       "       -0.1344016560366097, -0.1400813940175336, -0.033350781062128076,\n",
       "       -0.15614016291768307, -0.0684080672658478, -0.04061724510239495,\n",
       "       -0.07557748535318654, -0.08491447880464587, -0.14642976382298034],\n",
       "      dtype=object)"
      ]
     },
     "execution_count": 112,
     "metadata": {},
     "output_type": "execute_result"
    }
   ],
   "source": [
    "stroke_top_unharmonized.reset_index()['wmh_vol'].values - top_harmonized['wmh_vol'].values"
   ]
  },
  {
   "cell_type": "code",
   "execution_count": null,
   "id": "c4475d35-e9a4-4483-9d49-9889f4538047",
   "metadata": {
    "tags": []
   },
   "outputs": [],
   "source": [
    "stroke_bottom_unharmonized.reset_index()['wmh_vol'].plot(color='blue', alpha= 0.5)\n",
    "bottom_harmonized['wmh_vol'].plot(color= 'red', alpha= 0.5)"
   ]
  },
  {
   "cell_type": "code",
   "execution_count": null,
   "id": "55f1697e-8df1-4cb6-bb8f-7e272357757c",
   "metadata": {
    "tags": []
   },
   "outputs": [],
   "source": [
    "stroke_top_unharmonized.reset_index()['wmh_count'].plot(color='blue', alpha= 0.5)\n",
    "top_harmonized['wmh_count'].plot(color= 'red', alpha= 0.5)"
   ]
  },
  {
   "cell_type": "code",
   "execution_count": null,
   "id": "820a7537-14a4-413f-9bb1-251d533c9cf0",
   "metadata": {
    "tags": []
   },
   "outputs": [],
   "source": [
    "stroke_bottom_unharmonized.reset_index()['wmh_count'].plot(color='blue', alpha= 0.5)\n",
    "bottom_harmonized['wmh_count'].plot(color= 'red', alpha= 0.5)"
   ]
  },
  {
   "cell_type": "code",
   "execution_count": null,
   "id": "ab69d6df-9254-4572-84c3-52f9a8252fcd",
   "metadata": {
    "tags": []
   },
   "outputs": [],
   "source": [
    "bottom_harmonized['wmh_count'].hist(alpha = 0.5)\n",
    "\n",
    "top_harmonized['wmh_count'].hist(alpha = 0.5)"
   ]
  },
  {
   "cell_type": "markdown",
   "id": "4c8a05fe-7fa2-4ca9-aa4e-d8c4d929db0e",
   "metadata": {},
   "source": [
    "## This is not the whole story, we must apply logarithm after the data split...then do again\n",
    "\n",
    "then the features may not pull apart....\n"
   ]
  },
  {
   "cell_type": "code",
   "execution_count": null,
   "id": "cfb8c620-16e5-404b-a3d0-7dee3ddc703a",
   "metadata": {
    "tags": []
   },
   "outputs": [],
   "source": [
    "stroke_top_unharmonized_no_log = har.top_and_bottom_by_column(StrokeMRI, 'age')[0]\n",
    "stroke_bottom_unharmonized_no_log = har.top_and_bottom_by_column(StrokeMRI, 'age')[1]"
   ]
  },
  {
   "cell_type": "code",
   "execution_count": null,
   "id": "bfd18a87",
   "metadata": {
    "tags": []
   },
   "outputs": [],
   "source": [
    "stroke_top_unharmonized_proper_log = har.log_out_columns(stroke_top_unharmonized_no_log, ['wmh_vol', 'wmh_count'])\n",
    "stroke_bottom_unharmonized_proper_log = har.log_out_columns(stroke_bottom_unharmonized_no_log, ['wmh_vol', 'wmh_count'])"
   ]
  },
  {
   "cell_type": "code",
   "execution_count": null,
   "id": "deabf455",
   "metadata": {
    "tags": []
   },
   "outputs": [],
   "source": [
    "both_togetherF3, ftF3, btF3, feature_dictF3, len13, len23 = har.prep_for_neurocombat(\n",
    "    stroke_top_unharmonized_proper_log,\n",
    "    stroke_bottom_unharmonized_proper_log)"
   ]
  },
  {
   "cell_type": "code",
   "execution_count": null,
   "id": "2a85e168",
   "metadata": {
    "tags": []
   },
   "outputs": [],
   "source": [
    "ftF3.to_csv('ftF3_UH.csv')"
   ]
  },
  {
   "cell_type": "code",
   "execution_count": null,
   "id": "441cb600",
   "metadata": {
    "tags": []
   },
   "outputs": [],
   "source": [
    "data3 = np.genfromtxt('ftF3_UH.csv', delimiter=\",\", skip_header=1)\n",
    "data3 = data3[:, 1:]\n",
    "data3"
   ]
  },
  {
   "cell_type": "code",
   "execution_count": null,
   "id": "1ff580a4",
   "metadata": {},
   "outputs": [],
   "source": []
  },
  {
   "cell_type": "code",
   "execution_count": null,
   "id": "a05c3e2f",
   "metadata": {
    "tags": []
   },
   "outputs": [],
   "source": [
    "# Specifying the batch (scanner variable) as well as a sex covariate to preserve:\n",
    "first_columns_as_one = [1] * len13\n",
    "last_columns_as_two = [2] * len23\n",
    "covars3 = {'batch':first_columns_as_one + last_columns_as_two,\n",
    "          'sex':both_togetherF3.loc['sex',:].values.tolist(),\n",
    "           'age':both_togetherF3.loc['age',:].values.tolist(),} \n",
    "covars3 = pd.DataFrame(covars3) "
   ]
  },
  {
   "cell_type": "code",
   "execution_count": null,
   "id": "261947fe",
   "metadata": {},
   "outputs": [],
   "source": []
  },
  {
   "cell_type": "code",
   "execution_count": null,
   "id": "9e669af3",
   "metadata": {
    "tags": []
   },
   "outputs": [],
   "source": [
    "covars3"
   ]
  },
  {
   "cell_type": "code",
   "execution_count": null,
   "id": "e01755aa",
   "metadata": {
    "tags": []
   },
   "outputs": [],
   "source": [
    "# specifify sex as categorical\n",
    "categorical_cols = ['sex']\n",
    "# to specify the name of the variable that encodes for the scanner/batch covariate:\n",
    "batch_col_mine = 'batch'\n",
    "our_continuous_col=['age']\n",
    "# harmonization step:\n",
    "data_combat3 = neuroCombat(dat=data3,\n",
    "    covars=covars3,\n",
    "    batch_col=batch_col_mine,\n",
    "    continuous_cols=our_continuous_col,\n",
    "    categorical_cols=categorical_cols)[\"data\"]"
   ]
  },
  {
   "cell_type": "code",
   "execution_count": null,
   "id": "a5e8824e",
   "metadata": {
    "tags": []
   },
   "outputs": [],
   "source": [
    "neurocombat3 = pd.DataFrame(data_combat3)\n",
    "neurocombat3.head(2)"
   ]
  },
  {
   "cell_type": "code",
   "execution_count": null,
   "id": "dae2020a",
   "metadata": {
    "scrolled": true,
    "tags": []
   },
   "outputs": [],
   "source": [
    "topperF3 = har.make_topper(btF3,'age', 'sex')"
   ]
  },
  {
   "cell_type": "code",
   "execution_count": null,
   "id": "b7189930",
   "metadata": {
    "tags": []
   },
   "outputs": [],
   "source": [
    "bottom3 = neurocombat3.reset_index(drop=False)\n",
    "bottom3 = bottom3.rename(columns={\"index\": \"char\"})\n",
    "bottom3.columns = topperF3.columns"
   ]
  },
  {
   "cell_type": "code",
   "execution_count": null,
   "id": "60d3dad4",
   "metadata": {
    "tags": []
   },
   "outputs": [],
   "source": [
    "back_together3 = pd.concat([topperF3, bottom3])\n",
    "back_together3 = back_together3.T\n",
    "#back_together3"
   ]
  },
  {
   "cell_type": "code",
   "execution_count": null,
   "id": "d12013d7",
   "metadata": {
    "tags": []
   },
   "outputs": [],
   "source": [
    "new_header3 = back_together3.iloc[0] #grab the first row for the header\n",
    "back_together3.columns = new_header3 #set the header row as the df header\n",
    "back_together3 = back_together3[1:]\n",
    "#back_together2"
   ]
  },
  {
   "cell_type": "code",
   "execution_count": null,
   "id": "3ffa4c00",
   "metadata": {
    "tags": []
   },
   "outputs": [],
   "source": [
    "bottom_pl_harmonized = back_together3.tail(len23)\n",
    "top_pl_harmonized = back_together3.head(len13)"
   ]
  },
  {
   "cell_type": "code",
   "execution_count": null,
   "id": "0547a336",
   "metadata": {
    "tags": []
   },
   "outputs": [],
   "source": [
    "top_pl_harmonized = top_pl_harmonized.rename(feature_dictF3, axis='columns')\n",
    "bottom_pl_harmonized= bottom_pl_harmonized.rename(feature_dictF3, axis='columns')"
   ]
  },
  {
   "cell_type": "markdown",
   "id": "505fdd84",
   "metadata": {},
   "source": [
    "Save off to harmonized csv files?"
   ]
  },
  {
   "cell_type": "code",
   "execution_count": null,
   "id": "60c96cf3-ff19-4ada-9eee-ea938541577f",
   "metadata": {
    "tags": []
   },
   "outputs": [],
   "source": [
    "stroke_top_unharmonized_proper_log"
   ]
  },
  {
   "cell_type": "code",
   "execution_count": null,
   "id": "f82e0de2-1813-49de-b4ad-146bae3e05c2",
   "metadata": {
    "tags": []
   },
   "outputs": [],
   "source": [
    "#StrokeMRI['wmh_vol'].describe()"
   ]
  },
  {
   "cell_type": "code",
   "execution_count": null,
   "id": "c6be7b4d-94ae-4d63-aad1-0dcd46adb4cf",
   "metadata": {
    "tags": []
   },
   "outputs": [],
   "source": [
    "#stroke_top_unharmonized_proper_log['wmh_vol'].describe()"
   ]
  },
  {
   "cell_type": "code",
   "execution_count": null,
   "id": "a89ec0bd-f462-4c28-885c-491e44556a6e",
   "metadata": {
    "tags": []
   },
   "outputs": [],
   "source": [
    "# top_pl_harmonized['wmh_vol'].min()"
   ]
  },
  {
   "cell_type": "code",
   "execution_count": null,
   "id": "92397df6",
   "metadata": {
    "tags": []
   },
   "outputs": [],
   "source": [
    "stroke_top_unharmonized_proper_log.reset_index()['wmh_vol'].plot(color='blue', alpha= 0.5)\n",
    "top_pl_harmonized['wmh_vol'].plot(color= 'red', alpha= 0.5)"
   ]
  },
  {
   "cell_type": "code",
   "execution_count": null,
   "id": "b7ebdb82",
   "metadata": {
    "tags": []
   },
   "outputs": [],
   "source": [
    "# harmonized_dfs = [top_pl_harmonized, bottom_pl_harmonized]\n",
    "# complete_harmonised = pd.concat(harmonized_dfs)\n",
    "# complete_harmonised "
   ]
  },
  {
   "cell_type": "code",
   "execution_count": null,
   "id": "c2ad9c5c-1c16-4ecb-828a-451ee6e70acd",
   "metadata": {
    "tags": []
   },
   "outputs": [],
   "source": [
    "stroke_top_unharmonized_proper_log.head(3)"
   ]
  },
  {
   "cell_type": "code",
   "execution_count": null,
   "id": "1c787502-b2f6-4796-acfb-9ba69f45fea2",
   "metadata": {
    "tags": []
   },
   "outputs": [],
   "source": [
    "top_pl_unharm_order = stroke_top_unharmonized_proper_log.drop('Unnamed: 0', axis=1)\n",
    "top_pl_unharm_order['harmonization'] =\"UH\"\n",
    "top_pl_unharm_order['site'] = \"s\"\n",
    "top_pl_unharm_order.head(3)"
   ]
  },
  {
   "cell_type": "code",
   "execution_count": null,
   "id": "1342276a",
   "metadata": {
    "tags": []
   },
   "outputs": [],
   "source": [
    "top_pl_harm_order = top_pl_harmonized.reset_index()\n",
    "top_pl_harm_order = top_pl_harm_order.rename(columns={'index': 'participant_id'})\n",
    "top_pl_harm_order['harmonization'] = \"H\"\n",
    "top_pl_harm_order['site'] = \"s\"\n",
    "top_pl_harm_order.head(3)"
   ]
  },
  {
   "cell_type": "code",
   "execution_count": null,
   "id": "ca6e2820-499a-4eb3-a772-cab5bc883cb4",
   "metadata": {
    "tags": []
   },
   "outputs": [],
   "source": []
  },
  {
   "cell_type": "markdown",
   "id": "97653422-667b-4eca-b96c-c947b6f0f678",
   "metadata": {},
   "source": [
    "The below cell is added as a hypothetical to demo graphing capabilities"
   ]
  },
  {
   "cell_type": "code",
   "execution_count": null,
   "id": "103bc3b3-9351-4936-ac7e-11071730d7fd",
   "metadata": {
    "tags": []
   },
   "outputs": [],
   "source": [
    "top_pl_harm_order[\"batch\"] = 1\n",
    "top_pl_unharm_order[\"batch\"] = 1\n",
    "top_pl_harm_order[:40][\"batch\"] = 2\n",
    "top_pl_unharm_order[:40][\"batch\"] = 2"
   ]
  },
  {
   "cell_type": "code",
   "execution_count": null,
   "id": "09ba86ff-e7e4-4721-b60e-b991ec225e33",
   "metadata": {
    "tags": []
   },
   "outputs": [],
   "source": [
    "def compare_harm_one_site_violins(\n",
    "        unharmonized_df,\n",
    "        harmonized_df,\n",
    "        feature_list,\n",
    "        chosen_feature=\"sex\"\n",
    "):\n",
    "    \"\"\"\n",
    "    Create a violin plot on single site harmonization by features,\n",
    "    split on a binary feature of choice which defaults to sex.\n",
    "    \"\"\"\n",
    "    for feat in feature_list:\n",
    "        complete_merg = pd.concat(\n",
    "            [unharmonized_df, harmonized_df]).reset_index(drop=True)\n",
    "        complete_merg[feat] = complete_merg[feat].astype('float64')\n",
    "        sns.set_style(\"whitegrid\")\n",
    "        y_axis = feat\n",
    "        g = sns.catplot(\n",
    "            data=complete_merg,\n",
    "            x='harmonization', y=y_axis, hue=chosen_feature,\n",
    "            split=True, inner='quartile', kind='violin',\n",
    "            height=4, aspect=0.7, palette=['pink', 'blue'], alpha=0.4)\n",
    "\n",
    "        lowest_on_graph = complete_merg[y_axis].min() - 0.5\n",
    "        plt.ylim((lowest_on_graph, complete_merg[y_axis].max() * 1.5))\n",
    "        plt.title(feat)\n",
    "        plt.show()"
   ]
  },
  {
   "cell_type": "code",
   "execution_count": null,
   "id": "ea1a4bf9-45fe-4b9d-b0fd-222dd19ef8bc",
   "metadata": {
    "tags": []
   },
   "outputs": [],
   "source": [
    "compare_harm_one_site_violins(top_pl_unharm_order, top_pl_harm_order, ['gm_vol', 'wm_vol', 'wmh_count', 'wmh_vol'])"
   ]
  },
  {
   "cell_type": "code",
   "execution_count": null,
   "id": "eb768464-3263-4915-afdb-d58e38c2585d",
   "metadata": {},
   "outputs": [],
   "source": [
    "# 1. make sure not artifact of density estimate- \n",
    "2. make a plot of differences between harmonization, and real, over age, \n",
    "3. histograms, and differences\n",
    "4. compare to a case on different datasets, and see how much harmonization changed\n"
   ]
  },
  {
   "cell_type": "code",
   "execution_count": null,
   "id": "adb60bc8-3dbb-49c6-8ad5-eeadd845ccb0",
   "metadata": {
    "tags": []
   },
   "outputs": [],
   "source": [
    "# nw let's just  pretend to show other graphing\n",
    "har.compare_harm_multi_site_violins(top_pl_unharm_order, top_pl_harm_order, ['gm_vol', 'wm_vol', 'wmh_count', 'wmh_vol'])"
   ]
  },
  {
   "cell_type": "code",
   "execution_count": null,
   "id": "22771592-7d76-452b-9045-03527ad27226",
   "metadata": {},
   "outputs": [],
   "source": []
  },
  {
   "cell_type": "code",
   "execution_count": null,
   "id": "ce1ba9d9-bdfb-4245-b95c-fff34c3288f8",
   "metadata": {},
   "outputs": [],
   "source": []
  }
 ],
 "metadata": {
  "kernelspec": {
   "display_name": "Python 3 (ipykernel)",
   "language": "python",
   "name": "python3"
  },
  "language_info": {
   "codemirror_mode": {
    "name": "ipython",
    "version": 3
   },
   "file_extension": ".py",
   "mimetype": "text/x-python",
   "name": "python",
   "nbconvert_exporter": "python",
   "pygments_lexer": "ipython3",
   "version": "3.7.12"
  }
 },
 "nbformat": 4,
 "nbformat_minor": 5
}
