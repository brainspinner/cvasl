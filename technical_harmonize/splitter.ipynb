{
 "cells": [
  {
   "cell_type": "markdown",
   "id": "a44ec0f5-0be0-4423-94ce-253276572183",
   "metadata": {},
   "source": [
    "# Negative testing: initial experiments"
   ]
  },
  {
   "cell_type": "markdown",
   "id": "755d1310-246a-49c2-95f8-18cff24049d0",
   "metadata": {},
   "source": [
    "## let's take a cvasl datframe split a couple ways by age, then see how harmonization with neurocombat changes it\n",
    "\n"
   ]
  },
  {
   "cell_type": "markdown",
   "id": "94a62443-b917-49c6-bf31-d1ac26d4dd99",
   "metadata": {},
   "source": [
    "# Important Note: this must be run in the neuron_go environment\n",
    "\n",
    "# Important Note: this notebook was last updated on Dec 2nd 2023, to include log based values in columns of dataframe"
   ]
  },
  {
   "cell_type": "markdown",
   "id": "edab7dc9-fd87-412f-9cc7-cbb50672fc33",
   "metadata": {},
   "source": [
    "## import libraries"
   ]
  },
  {
   "cell_type": "code",
   "execution_count": null,
   "id": "d68b27c8-9fc9-45d2-b878-c254d083bd3a",
   "metadata": {
    "tags": []
   },
   "outputs": [],
   "source": [
    "import os\n",
    "import sys\n",
    "\n",
    "import pandas as pd\n",
    "import numpy as np\n",
    "import matplotlib.pyplot as plt\n",
    "from neuroCombat import neuroCombat\n",
    "import seaborn as sns\n",
    "\n",
    "sys.path.insert(0, '../') # path to some functions\n",
    "import cvasl.harmony as har"
   ]
  },
  {
   "cell_type": "markdown",
   "id": "0c93bb9c-12b0-4551-a6f5-93a6844a0a63",
   "metadata": {},
   "source": [
    "## prepare data"
   ]
  },
  {
   "cell_type": "code",
   "execution_count": null,
   "id": "5925b329-b505-4701-99bc-c0605b77b2cd",
   "metadata": {
    "tags": []
   },
   "outputs": [],
   "source": [
    "filepath_mri = '../open_work/internal_results/cleaned_pvc2s/' \n",
    "filename_mri = os.path.join(filepath_mri,'StrokeMRI_pvc2c.csv') "
   ]
  },
  {
   "cell_type": "code",
   "execution_count": null,
   "id": "7cda32bd-d1dc-4f0e-9df5-5fad32b59bef",
   "metadata": {
    "tags": []
   },
   "outputs": [],
   "source": [
    "StrokeMRI  = pd.read_csv(filename_mri)\n",
    "StrokeMRI.head(3)"
   ]
  },
  {
   "cell_type": "code",
   "execution_count": null,
   "id": "4c518192-3365-469d-bd1f-e43b22403f1e",
   "metadata": {
    "tags": []
   },
   "outputs": [],
   "source": [
    "sns.displot(StrokeMRI, x='age', binwidth=3, hue= 'sex')"
   ]
  },
  {
   "cell_type": "markdown",
   "id": "26479afb-fe53-457a-85b2-ed17e06a107e",
   "metadata": {
    "tags": []
   },
   "source": [
    "# ComBat assumes vectors of regression coefficients follow independent normal distributions and some other assumptions\n",
    "\n",
    "Note: Combat-GAM GMM or Open Nestedmay leapfrog this and give better results, but let's not get ahead"
   ]
  },
  {
   "cell_type": "code",
   "execution_count": null,
   "id": "6eb7507c-fbdd-4a60-a5d6-f33771363a04",
   "metadata": {
    "tags": []
   },
   "outputs": [],
   "source": [
    "sns.displot(StrokeMRI, x='wmh_vol', hue= 'sex')"
   ]
  },
  {
   "cell_type": "code",
   "execution_count": null,
   "id": "bc56d364-e939-48f7-8f65-2e077f233db4",
   "metadata": {
    "tags": []
   },
   "outputs": [],
   "source": [
    "StrokeMRI.wmh_vol.describe()"
   ]
  },
  {
   "cell_type": "code",
   "execution_count": null,
   "id": "239007c1-e36a-4846-a044-fd65b9c6c808",
   "metadata": {
    "tags": []
   },
   "outputs": [],
   "source": [
    "sns.displot(StrokeMRI, x='wmh_count', hue= 'sex')"
   ]
  },
  {
   "cell_type": "code",
   "execution_count": null,
   "id": "f3b24886-2167-45f2-a495-9aed5ec1161a",
   "metadata": {
    "tags": []
   },
   "outputs": [],
   "source": [
    "loged_StrokeMRI = har.log_out_columns(StrokeMRI, ['wmh_vol', 'wmh_count'])"
   ]
  },
  {
   "cell_type": "code",
   "execution_count": null,
   "id": "a4b1598c-b328-427b-ad89-9a95909d594c",
   "metadata": {
    "tags": []
   },
   "outputs": [],
   "source": [
    "sns.displot(loged_StrokeMRI, x='wmh_count', hue= 'sex')"
   ]
  },
  {
   "cell_type": "code",
   "execution_count": null,
   "id": "09e7db03-5c8a-4b3b-9e59-dd6b20332f4c",
   "metadata": {
    "tags": []
   },
   "outputs": [],
   "source": [
    "sns.displot(loged_StrokeMRI, x='wmh_vol', hue= 'sex')"
   ]
  },
  {
   "cell_type": "markdown",
   "id": "a0a7743b-c5f4-4c4c-ad1b-111911064a80",
   "metadata": {},
   "source": [
    "## Let's try using the logged vals as they are closer to normally distributed"
   ]
  },
  {
   "cell_type": "code",
   "execution_count": null,
   "id": "fbe429cf-83c7-4e5c-8659-fcd5aea5bbe6",
   "metadata": {
    "tags": []
   },
   "outputs": [],
   "source": [
    "stroke_even_unharmonized = har.split_frame_half_balanced_by_column(loged_StrokeMRI, 'age')[0]\n",
    "stroke_odd_unharmonized = har.split_frame_half_balanced_by_column(loged_StrokeMRI, 'age')[1]"
   ]
  },
  {
   "cell_type": "code",
   "execution_count": null,
   "id": "b2b6c182-8f70-4ea6-92f4-317c6535e1da",
   "metadata": {
    "tags": []
   },
   "outputs": [],
   "source": [
    "stroke_even_unharmonized= stroke_even_unharmonized.drop('index', axis=1)\n",
    "stroke_odd_unharmonized = stroke_odd_unharmonized.drop('index', axis=1)"
   ]
  },
  {
   "cell_type": "code",
   "execution_count": null,
   "id": "7b7240a8-5982-4c60-a107-8d2f700ca1ea",
   "metadata": {
    "tags": []
   },
   "outputs": [],
   "source": [
    "stroke_even_unharmonized.to_csv('stroke_even_unharmonized.csv')\n",
    "stroke_odd_unharmonized.to_csv('stroke_odd_unharmonized.csv') "
   ]
  },
  {
   "cell_type": "code",
   "execution_count": null,
   "id": "6c24447b-7646-4076-bb13-8164a4cde706",
   "metadata": {
    "tags": []
   },
   "outputs": [],
   "source": [
    "stroke_even_unharmonized.head(2)"
   ]
  },
  {
   "cell_type": "code",
   "execution_count": null,
   "id": "4de52b64-135c-4f14-b0a5-166a3664331b",
   "metadata": {
    "tags": []
   },
   "outputs": [],
   "source": [
    "stroke_top_unharmonized = har.top_and_bottom_by_column(loged_StrokeMRI, 'age')[0]\n",
    "stroke_bottom_unharmonized = har.top_and_bottom_by_column(loged_StrokeMRI, 'age')[1]"
   ]
  },
  {
   "cell_type": "code",
   "execution_count": null,
   "id": "2324f12c-3df2-4d4d-84c7-008e4a1ad18b",
   "metadata": {
    "tags": []
   },
   "outputs": [],
   "source": [
    "stroke_top_unharmonized.to_csv('stroke_top_unharmonized.csv')\n",
    "stroke_bottom_unharmonized.to_csv('stroke_bottom_unharmonized.csv') "
   ]
  },
  {
   "cell_type": "code",
   "execution_count": null,
   "id": "31ceb3f2-1149-40fd-b2fa-f441304a471b",
   "metadata": {
    "tags": []
   },
   "outputs": [],
   "source": [
    "stroke_top_unharmonized.head(3)"
   ]
  },
  {
   "cell_type": "code",
   "execution_count": null,
   "id": "723fafba-06bf-4b18-ac6a-011c3fdb100e",
   "metadata": {
    "tags": []
   },
   "outputs": [],
   "source": [
    "both_togetherF, ftF, btF, feature_dictF, len1, len2 = har.prep_for_neurocombat(stroke_even_unharmonized, stroke_odd_unharmonized)"
   ]
  },
  {
   "cell_type": "code",
   "execution_count": null,
   "id": "ec498814-b97b-4d18-bba9-0fc8abf97abc",
   "metadata": {
    "tags": []
   },
   "outputs": [],
   "source": [
    "ftF.head(3)"
   ]
  },
  {
   "cell_type": "code",
   "execution_count": null,
   "id": "d65687c2-9cd2-4db3-8ffc-bf3554b6bf5f",
   "metadata": {
    "tags": []
   },
   "outputs": [],
   "source": [
    "ftF.to_csv('ftF1_UH.csv')"
   ]
  },
  {
   "cell_type": "code",
   "execution_count": null,
   "id": "5eb7cb21-4f74-4825-ad42-37179d5f9fa2",
   "metadata": {
    "tags": []
   },
   "outputs": [],
   "source": [
    "data = np.genfromtxt('ftF1_UH.csv', delimiter=\",\", skip_header=1)\n",
    "data = data[:, 1:]\n",
    "data"
   ]
  },
  {
   "cell_type": "code",
   "execution_count": null,
   "id": "09a40ed6-169c-448b-b9a0-ce5689f96467",
   "metadata": {
    "tags": []
   },
   "outputs": [],
   "source": [
    "# Specifying the batch (scanner variable) as well as a sex covariate to preserve:\n",
    "first_columns_as_one = [1] * len1\n",
    "last_columns_as_two = [2] * len2\n",
    "covars = {'batch':first_columns_as_one + last_columns_as_two,\n",
    "          'sex':both_togetherF.loc['sex',:].values.tolist(),\n",
    "           'age':both_togetherF.loc['age',:].values.tolist(),} \n",
    "covars = pd.DataFrame(covars) "
   ]
  },
  {
   "cell_type": "code",
   "execution_count": null,
   "id": "96114ec3-0ab8-4a44-ade5-5e73fff7e198",
   "metadata": {
    "tags": []
   },
   "outputs": [],
   "source": [
    "covars"
   ]
  },
  {
   "cell_type": "code",
   "execution_count": null,
   "id": "178c6899-d7d4-4254-a3e6-80d6cd1a0fe0",
   "metadata": {
    "tags": []
   },
   "outputs": [],
   "source": [
    "data"
   ]
  },
  {
   "cell_type": "code",
   "execution_count": null,
   "id": "ee5388f8-d0d9-4e62-9ae9-316df6bb9ae4",
   "metadata": {
    "tags": []
   },
   "outputs": [],
   "source": [
    "# specifify sex as categorical\n",
    "categorical_cols = ['sex']\n",
    "# to specify the name of the variable that encodes for the scanner/batch covariate:\n",
    "batch_col_mine = 'batch'\n",
    "our_continuous_col=['age']\n",
    "# harmonization step:\n",
    "data_combat = neuroCombat(dat=data,\n",
    "    covars=covars,\n",
    "    batch_col=batch_col_mine,\n",
    "    continuous_cols=our_continuous_col,\n",
    "    categorical_cols=categorical_cols)[\"data\"]"
   ]
  },
  {
   "cell_type": "code",
   "execution_count": null,
   "id": "f41ba47c-4d24-41c0-b666-4592fcb470dc",
   "metadata": {
    "tags": []
   },
   "outputs": [],
   "source": [
    "neurocombat = pd.DataFrame(data_combat)\n",
    "neurocombat.head(2)"
   ]
  },
  {
   "cell_type": "code",
   "execution_count": null,
   "id": "6e7a6ac3-0e97-4951-875c-9b1476fafdb9",
   "metadata": {
    "tags": []
   },
   "outputs": [],
   "source": [
    "topperF = har.make_topper(btF,'age', 'sex')"
   ]
  },
  {
   "cell_type": "code",
   "execution_count": null,
   "id": "a502f25d-9235-4a2d-90e3-9e894f52a32a",
   "metadata": {
    "tags": []
   },
   "outputs": [],
   "source": [
    "bottom = neurocombat.reset_index(drop=False)\n",
    "bottom = bottom.rename(columns={\"index\": \"char\"})\n",
    "bottom.columns = topperF.columns"
   ]
  },
  {
   "cell_type": "code",
   "execution_count": null,
   "id": "934d4e8f-55e8-45b2-ae6a-b6a2778dcd25",
   "metadata": {
    "tags": []
   },
   "outputs": [],
   "source": [
    "back_together = pd.concat([topperF, bottom])\n",
    "back_together = back_together.T\n",
    "#back_together"
   ]
  },
  {
   "cell_type": "code",
   "execution_count": null,
   "id": "263540ca-5d70-42ad-b196-5c3bc03db452",
   "metadata": {
    "tags": []
   },
   "outputs": [],
   "source": [
    "new_header = back_together.iloc[0] #grab the first row for the header\n",
    "back_together.columns = new_header #set the header row as the df header\n",
    "back_together = back_together[1:]\n",
    "#back_together"
   ]
  },
  {
   "cell_type": "code",
   "execution_count": null,
   "id": "0cbe435b-d48f-43bd-b8ed-353bc49fbdde",
   "metadata": {
    "tags": []
   },
   "outputs": [],
   "source": [
    "odds_harmonized = back_together.tail(len2)\n",
    "evens_harmonized = back_together.head(len1)"
   ]
  },
  {
   "cell_type": "code",
   "execution_count": null,
   "id": "9e50ab4c-b44d-44b4-ab5d-8cc090817545",
   "metadata": {
    "tags": []
   },
   "outputs": [],
   "source": [
    "#evens"
   ]
  },
  {
   "cell_type": "code",
   "execution_count": null,
   "id": "64f1883c-0873-4dd7-ba44-8dcb0da7125f",
   "metadata": {
    "tags": []
   },
   "outputs": [],
   "source": [
    "evens_harmonized = evens_harmonized.rename(feature_dictF, axis='columns')\n",
    "odds_harmonized= odds_harmonized.rename(feature_dictF, axis='columns')"
   ]
  },
  {
   "cell_type": "markdown",
   "id": "1c8f2f1c-587f-43ca-8210-c31d983cff31",
   "metadata": {},
   "source": [
    "Save off to harmonized csv files"
   ]
  },
  {
   "cell_type": "code",
   "execution_count": null,
   "id": "f360180a-3d81-44e8-8f70-49c4a2859ec5",
   "metadata": {
    "tags": []
   },
   "outputs": [],
   "source": [
    "evens_harmonized.head(3)"
   ]
  },
  {
   "cell_type": "code",
   "execution_count": null,
   "id": "50ce6e64-b5c8-4bc6-8577-b1d3e6800652",
   "metadata": {
    "tags": []
   },
   "outputs": [],
   "source": [
    "# evens_harmonized.to_csv('evens_harmonized.csv')\n",
    "# odds_harmonized.to_csv('odds_harmonized.csv')"
   ]
  },
  {
   "cell_type": "markdown",
   "id": "1221f759-028b-4dec-b84e-595eba143eac",
   "metadata": {},
   "source": [
    "Now we can analize the difference between these two sets:"
   ]
  },
  {
   "cell_type": "code",
   "execution_count": null,
   "id": "71eef3b4-d4d6-464c-9ae8-75c0d4cc686b",
   "metadata": {
    "tags": []
   },
   "outputs": [],
   "source": [
    "evens_harmonized.iloc[:,2:] "
   ]
  },
  {
   "cell_type": "code",
   "execution_count": null,
   "id": "84be0d2d-a26b-493d-bbe0-462201ec7845",
   "metadata": {
    "tags": []
   },
   "outputs": [],
   "source": [
    "stroke_even_unharmonized.iloc[:,4:] "
   ]
  },
  {
   "cell_type": "markdown",
   "id": "9c3d3a30-27c8-4945-8c32-a0d6e1a19327",
   "metadata": {
    "tags": []
   },
   "source": [
    "## We do see some differences, especially in the wmh volume, but n othing over 100%  at first glance"
   ]
  },
  {
   "cell_type": "code",
   "execution_count": null,
   "id": "d05b7143-5deb-4f9b-a79f-ed59c9866435",
   "metadata": {
    "tags": []
   },
   "outputs": [],
   "source": [
    "both_togetherF2, ftF2, btF2, feature_dictF2, slen1, slen2 = har.prep_for_neurocombat(stroke_top_unharmonized, stroke_bottom_unharmonized)"
   ]
  },
  {
   "cell_type": "code",
   "execution_count": null,
   "id": "6ed69547-0afc-45d2-97d5-6072a825f6af",
   "metadata": {
    "tags": []
   },
   "outputs": [],
   "source": [
    "ftF2.to_csv('ftF2_UH.csv')"
   ]
  },
  {
   "cell_type": "code",
   "execution_count": null,
   "id": "92029fbf-69cd-4570-870d-9935347cc05c",
   "metadata": {
    "tags": []
   },
   "outputs": [],
   "source": [
    "data2 = np.genfromtxt('ftF2_UH.csv', delimiter=\",\", skip_header=1)\n",
    "data2 = data2[:, 1:]\n",
    "data2"
   ]
  },
  {
   "cell_type": "code",
   "execution_count": null,
   "id": "c5681612-7255-4196-976f-8102a97ac4ea",
   "metadata": {},
   "outputs": [],
   "source": []
  },
  {
   "cell_type": "code",
   "execution_count": null,
   "id": "202928da-24f1-40ce-b021-5f0358d2f687",
   "metadata": {
    "tags": []
   },
   "outputs": [],
   "source": [
    "# Specifying the batch (scanner variable) as well as a sex covariate to preserve:\n",
    "first_columns_as_one = [1] * slen1\n",
    "last_columns_as_two = [2] * slen2\n",
    "covars2 = {'batch':first_columns_as_one + last_columns_as_two,\n",
    "          'sex':both_togetherF2.loc['sex',:].values.tolist(),\n",
    "           'age':both_togetherF2.loc['age',:].values.tolist(),} \n",
    "covars2 = pd.DataFrame(covars2) "
   ]
  },
  {
   "cell_type": "code",
   "execution_count": null,
   "id": "89667222-b21d-4286-8225-b72811c35bcb",
   "metadata": {
    "tags": []
   },
   "outputs": [],
   "source": [
    "covars2"
   ]
  },
  {
   "cell_type": "code",
   "execution_count": null,
   "id": "cd961fb8-7533-467d-9ca7-e2073f9f8224",
   "metadata": {
    "tags": []
   },
   "outputs": [],
   "source": [
    "# specifify sex as categorical\n",
    "categorical_cols = ['sex']\n",
    "# to specify the name of the variable that encodes for the scanner/batch covariate:\n",
    "batch_col_mine = 'batch'\n",
    "our_continuous_col=['age']\n",
    "# harmonization step:\n",
    "data_combat2 = neuroCombat(dat=data2,\n",
    "    covars=covars2,\n",
    "    batch_col=batch_col_mine,\n",
    "    continuous_cols=our_continuous_col,\n",
    "    categorical_cols=categorical_cols)[\"data\"]"
   ]
  },
  {
   "cell_type": "code",
   "execution_count": null,
   "id": "eb545681-7a1b-4d2d-ab9a-9626d39d5b42",
   "metadata": {
    "tags": []
   },
   "outputs": [],
   "source": [
    "neurocombat2 = pd.DataFrame(data_combat2)\n",
    "neurocombat2.head(2)"
   ]
  },
  {
   "cell_type": "code",
   "execution_count": null,
   "id": "ff59a901-e5a8-4256-9c2a-2b66023ca011",
   "metadata": {
    "scrolled": true,
    "tags": []
   },
   "outputs": [],
   "source": [
    "topperF2 = har.make_topper(btF2,'age', 'sex')"
   ]
  },
  {
   "cell_type": "code",
   "execution_count": null,
   "id": "bb73c48b-1cad-4e16-93bb-0bfe27c9a128",
   "metadata": {
    "tags": []
   },
   "outputs": [],
   "source": [
    "bottom2 = neurocombat2.reset_index(drop=False)\n",
    "bottom2 = bottom2.rename(columns={\"index\": \"char\"})\n",
    "bottom2.columns = topperF2.columns"
   ]
  },
  {
   "cell_type": "code",
   "execution_count": null,
   "id": "6137c382-5c5b-4d88-9cc7-d8534cbede47",
   "metadata": {
    "tags": []
   },
   "outputs": [],
   "source": [
    "back_together2 = pd.concat([topperF2, bottom2])\n",
    "back_together2 = back_together2.T\n",
    "#back_together2"
   ]
  },
  {
   "cell_type": "code",
   "execution_count": null,
   "id": "481a6734-e6f8-442d-a056-0c84868803d0",
   "metadata": {
    "tags": []
   },
   "outputs": [],
   "source": [
    "new_header2 = back_together2.iloc[0] #grab the first row for the header\n",
    "back_together2.columns = new_header2 #set the header row as the df header\n",
    "back_together2 = back_together2[1:]\n",
    "#back_together2"
   ]
  },
  {
   "cell_type": "code",
   "execution_count": null,
   "id": "ea55d71f-5365-4ac0-8492-e522a9336a3a",
   "metadata": {
    "tags": []
   },
   "outputs": [],
   "source": [
    "bottom_harmonized = back_together2.tail(slen2)\n",
    "top_harmonized = back_together2.head(slen1)"
   ]
  },
  {
   "cell_type": "code",
   "execution_count": null,
   "id": "52f057a1-5f30-41e6-bce7-58295ea76b10",
   "metadata": {
    "tags": []
   },
   "outputs": [],
   "source": [
    "top_harmonized = top_harmonized.rename(feature_dictF2, axis='columns')\n",
    "bottom_harmonized= bottom_harmonized.rename(feature_dictF2, axis='columns')"
   ]
  },
  {
   "cell_type": "markdown",
   "id": "22825a35-bc9d-4fbe-9844-4213097311e2",
   "metadata": {},
   "source": [
    "Save off to harmonized csv files"
   ]
  },
  {
   "cell_type": "code",
   "execution_count": null,
   "id": "4b4e16f9-e535-41e0-9e44-cb2d26fb104b",
   "metadata": {
    "tags": []
   },
   "outputs": [],
   "source": [
    "top_harmonized = top_harmonized.reset_index()\n",
    "top_harmonized= top_harmonized.rename(columns= {'index': 'participant_id'})\n",
    "top_harmonized"
   ]
  },
  {
   "cell_type": "code",
   "execution_count": null,
   "id": "aca9ecdb-9009-4fa7-9a0c-cc940261d1b6",
   "metadata": {
    "tags": []
   },
   "outputs": [],
   "source": [
    "top_harmonized['age'].isna().sum()"
   ]
  },
  {
   "cell_type": "code",
   "execution_count": null,
   "id": "13458404-2e30-4236-a9e4-22422118f143",
   "metadata": {
    "tags": []
   },
   "outputs": [],
   "source": [
    "#stroke_top_unharmonized"
   ]
  },
  {
   "cell_type": "code",
   "execution_count": null,
   "id": "e365143e-e2f9-41a9-99bb-54a02bf3e7ec",
   "metadata": {
    "tags": []
   },
   "outputs": [],
   "source": [
    "stroke_top_unharmonized = stroke_top_unharmonized.drop('Unnamed: 0', axis=1)#.iloc[:,4:] \n",
    "#stroke_top_unharmonized = stroke_top_unharmonized.reset_index('participant_id')\n",
    "stroke_top_unharmonized.head(3)"
   ]
  },
  {
   "cell_type": "markdown",
   "id": "82bb2718-03e7-4001-be00-5578c81f063a",
   "metadata": {},
   "source": [
    "## So we see in this case we got a ten fold difference on the wmh column...\n",
    "# This deserves a bit more investigation, and some graphing IMHO\n",
    "note this shows that algorithms that work well positively (correcting inherently different sets) do nor always work well on the negative test (not over-correcting well on similar or the same datasets )"
   ]
  },
  {
   "cell_type": "code",
   "execution_count": null,
   "id": "263382cf-51af-4850-99c4-9a513ddadd66",
   "metadata": {
    "tags": []
   },
   "outputs": [],
   "source": [
    "#stroke_top_unharmonized.merge(top_harmonized, on= 'participant_id')"
   ]
  },
  {
   "cell_type": "code",
   "execution_count": null,
   "id": "bfbb742a-5163-4ff0-bf8e-2bf7c3adc553",
   "metadata": {
    "tags": []
   },
   "outputs": [],
   "source": [
    "stroke_top_unharmonized['age'].isna().sum()"
   ]
  },
  {
   "cell_type": "code",
   "execution_count": null,
   "id": "6fcc9c82-788e-4afb-af17-d075a0e43623",
   "metadata": {
    "tags": []
   },
   "outputs": [],
   "source": [
    "top_harmonized['age'].isna().sum()"
   ]
  },
  {
   "cell_type": "code",
   "execution_count": null,
   "id": "019ec305-7021-46aa-996e-ca38fef2a976",
   "metadata": {
    "tags": []
   },
   "outputs": [],
   "source": [
    "stroke_even_unharmonized.reset_index()['age'].plot(color='blue', alpha= 0.5)\n",
    "evens_harmonized['age'].plot(color= 'red', alpha= 0.5)"
   ]
  },
  {
   "cell_type": "code",
   "execution_count": null,
   "id": "90bd14a2-051d-4401-b734-47cf3fe3286a",
   "metadata": {
    "tags": []
   },
   "outputs": [],
   "source": [
    "stroke_even_unharmonized.reset_index()['wmh_vol'].plot(color='blue', alpha= 0.5)\n",
    "evens_harmonized['wmh_vol'].plot(color= 'red', alpha= 0.5)"
   ]
  },
  {
   "cell_type": "code",
   "execution_count": null,
   "id": "c8e236ea-e288-42c3-98b6-05f7c41f16ed",
   "metadata": {
    "tags": []
   },
   "outputs": [],
   "source": [
    "stroke_even_unharmonized.reset_index()['wmh_count'].plot(color='blue', alpha= 0.5)\n",
    "evens_harmonized['wmh_count'].plot(color= 'red', alpha= 0.5)"
   ]
  },
  {
   "cell_type": "code",
   "execution_count": null,
   "id": "ea2873b3-9475-4705-92fd-211f7e4daa22",
   "metadata": {
    "tags": []
   },
   "outputs": [],
   "source": [
    "stroke_top_unharmonized.reset_index()['age'].plot(color='blue', alpha= 0.5)\n",
    "top_harmonized['age'].plot(color= 'red', alpha= 0.5)"
   ]
  },
  {
   "cell_type": "code",
   "execution_count": null,
   "id": "b9d79ad7-c5ef-43f1-b674-572feadb8fc6",
   "metadata": {
    "tags": []
   },
   "outputs": [],
   "source": [
    "stroke_top_unharmonized.reset_index()['wmh_vol'].plot(color='blue', alpha= 0.5)\n",
    "top_harmonized['wmh_vol'].plot(color= 'red', alpha= 0.5)"
   ]
  },
  {
   "cell_type": "code",
   "execution_count": null,
   "id": "c4475d35-e9a4-4483-9d49-9889f4538047",
   "metadata": {
    "tags": []
   },
   "outputs": [],
   "source": [
    "stroke_bottom_unharmonized.reset_index()['wmh_vol'].plot(color='blue', alpha= 0.5)\n",
    "bottom_harmonized['wmh_vol'].plot(color= 'red', alpha= 0.5)"
   ]
  },
  {
   "cell_type": "code",
   "execution_count": null,
   "id": "55f1697e-8df1-4cb6-bb8f-7e272357757c",
   "metadata": {
    "tags": []
   },
   "outputs": [],
   "source": [
    "stroke_top_unharmonized.reset_index()['wmh_count'].plot(color='blue', alpha= 0.5)\n",
    "top_harmonized['wmh_count'].plot(color= 'red', alpha= 0.5)"
   ]
  },
  {
   "cell_type": "code",
   "execution_count": null,
   "id": "820a7537-14a4-413f-9bb1-251d533c9cf0",
   "metadata": {
    "tags": []
   },
   "outputs": [],
   "source": [
    "stroke_bottom_unharmonized.reset_index()['wmh_count'].plot(color='blue', alpha= 0.5)\n",
    "bottom_harmonized['wmh_count'].plot(color= 'red', alpha= 0.5)"
   ]
  },
  {
   "cell_type": "code",
   "execution_count": null,
   "id": "ab69d6df-9254-4572-84c3-52f9a8252fcd",
   "metadata": {
    "tags": []
   },
   "outputs": [],
   "source": [
    "bottom_harmonized['wmh_count'].hist(alpha = 0.5)\n",
    "\n",
    "top_harmonized['wmh_count'].hist(alpha = 0.5)"
   ]
  },
  {
   "cell_type": "markdown",
   "id": "4c8a05fe-7fa2-4ca9-aa4e-d8c4d929db0e",
   "metadata": {},
   "source": [
    "## This is not the whole story, we must apply logarithm after the data split...then do again\n",
    "\n",
    "then the features may not pull apart....\n"
   ]
  },
  {
   "cell_type": "code",
   "execution_count": null,
   "id": "cfb8c620-16e5-404b-a3d0-7dee3ddc703a",
   "metadata": {
    "tags": []
   },
   "outputs": [],
   "source": [
    "stroke_top_unharmonized_no_log = har.top_and_bottom_by_column(StrokeMRI, 'age')[0]\n",
    "stroke_bottom_unharmonized_no_log = har.top_and_bottom_by_column(StrokeMRI, 'age')[1]"
   ]
  },
  {
   "cell_type": "code",
   "execution_count": null,
   "id": "bfd18a87",
   "metadata": {
    "tags": []
   },
   "outputs": [],
   "source": [
    "stroke_top_unharmonized_proper_log = har.log_out_columns(stroke_top_unharmonized_no_log, ['wmh_vol', 'wmh_count'])\n",
    "stroke_bottom_unharmonized_proper_log = har.log_out_columns(stroke_bottom_unharmonized_no_log, ['wmh_vol', 'wmh_count'])"
   ]
  },
  {
   "cell_type": "code",
   "execution_count": null,
   "id": "deabf455",
   "metadata": {
    "tags": []
   },
   "outputs": [],
   "source": [
    "both_togetherF3, ftF3, btF3, feature_dictF3, len13, len23 = har.prep_for_neurocombat(\n",
    "    stroke_top_unharmonized_proper_log,\n",
    "    stroke_bottom_unharmonized_proper_log)"
   ]
  },
  {
   "cell_type": "code",
   "execution_count": null,
   "id": "2a85e168",
   "metadata": {
    "tags": []
   },
   "outputs": [],
   "source": [
    "ftF3.to_csv('ftF3_UH.csv')"
   ]
  },
  {
   "cell_type": "code",
   "execution_count": null,
   "id": "441cb600",
   "metadata": {
    "tags": []
   },
   "outputs": [],
   "source": [
    "data3 = np.genfromtxt('ftF3_UH.csv', delimiter=\",\", skip_header=1)\n",
    "data3 = data3[:, 1:]\n",
    "data3"
   ]
  },
  {
   "cell_type": "code",
   "execution_count": null,
   "id": "1ff580a4",
   "metadata": {},
   "outputs": [],
   "source": []
  },
  {
   "cell_type": "code",
   "execution_count": null,
   "id": "a05c3e2f",
   "metadata": {
    "tags": []
   },
   "outputs": [],
   "source": [
    "# Specifying the batch (scanner variable) as well as a sex covariate to preserve:\n",
    "first_columns_as_one = [1] * len13\n",
    "last_columns_as_two = [2] * len23\n",
    "covars3 = {'batch':first_columns_as_one + last_columns_as_two,\n",
    "          'sex':both_togetherF3.loc['sex',:].values.tolist(),\n",
    "           'age':both_togetherF3.loc['age',:].values.tolist(),} \n",
    "covars3 = pd.DataFrame(covars3) "
   ]
  },
  {
   "cell_type": "code",
   "execution_count": null,
   "id": "261947fe",
   "metadata": {},
   "outputs": [],
   "source": []
  },
  {
   "cell_type": "code",
   "execution_count": null,
   "id": "9e669af3",
   "metadata": {
    "tags": []
   },
   "outputs": [],
   "source": [
    "covars3"
   ]
  },
  {
   "cell_type": "code",
   "execution_count": null,
   "id": "e01755aa",
   "metadata": {
    "tags": []
   },
   "outputs": [],
   "source": [
    "# specifify sex as categorical\n",
    "categorical_cols = ['sex']\n",
    "# to specify the name of the variable that encodes for the scanner/batch covariate:\n",
    "batch_col_mine = 'batch'\n",
    "our_continuous_col=['age']\n",
    "# harmonization step:\n",
    "data_combat3 = neuroCombat(dat=data3,\n",
    "    covars=covars3,\n",
    "    batch_col=batch_col_mine,\n",
    "    continuous_cols=our_continuous_col,\n",
    "    categorical_cols=categorical_cols)[\"data\"]"
   ]
  },
  {
   "cell_type": "code",
   "execution_count": null,
   "id": "a5e8824e",
   "metadata": {
    "tags": []
   },
   "outputs": [],
   "source": [
    "neurocombat3 = pd.DataFrame(data_combat3)\n",
    "neurocombat3.head(2)"
   ]
  },
  {
   "cell_type": "code",
   "execution_count": null,
   "id": "dae2020a",
   "metadata": {
    "scrolled": true,
    "tags": []
   },
   "outputs": [],
   "source": [
    "topperF3 = har.make_topper(btF3,'age', 'sex')"
   ]
  },
  {
   "cell_type": "code",
   "execution_count": null,
   "id": "b7189930",
   "metadata": {
    "tags": []
   },
   "outputs": [],
   "source": [
    "bottom3 = neurocombat3.reset_index(drop=False)\n",
    "bottom3 = bottom3.rename(columns={\"index\": \"char\"})\n",
    "bottom3.columns = topperF3.columns"
   ]
  },
  {
   "cell_type": "code",
   "execution_count": null,
   "id": "60d3dad4",
   "metadata": {
    "tags": []
   },
   "outputs": [],
   "source": [
    "back_together3 = pd.concat([topperF3, bottom3])\n",
    "back_together3 = back_together3.T\n",
    "#back_together3"
   ]
  },
  {
   "cell_type": "code",
   "execution_count": null,
   "id": "d12013d7",
   "metadata": {
    "tags": []
   },
   "outputs": [],
   "source": [
    "new_header3 = back_together3.iloc[0] #grab the first row for the header\n",
    "back_together3.columns = new_header3 #set the header row as the df header\n",
    "back_together3 = back_together3[1:]\n",
    "#back_together2"
   ]
  },
  {
   "cell_type": "code",
   "execution_count": null,
   "id": "3ffa4c00",
   "metadata": {
    "tags": []
   },
   "outputs": [],
   "source": [
    "bottom_pl_harmonized = back_together3.tail(len23)\n",
    "top_pl_harmonized = back_together3.head(len13)"
   ]
  },
  {
   "cell_type": "code",
   "execution_count": null,
   "id": "0547a336",
   "metadata": {
    "tags": []
   },
   "outputs": [],
   "source": [
    "top_pl_harmonized = top_pl_harmonized.rename(feature_dictF3, axis='columns')\n",
    "bottom_pl_harmonized= bottom_pl_harmonized.rename(feature_dictF3, axis='columns')"
   ]
  },
  {
   "cell_type": "markdown",
   "id": "505fdd84",
   "metadata": {},
   "source": [
    "Save off to harmonized csv files?"
   ]
  },
  {
   "cell_type": "code",
   "execution_count": null,
   "id": "60c96cf3-ff19-4ada-9eee-ea938541577f",
   "metadata": {
    "tags": []
   },
   "outputs": [],
   "source": [
    "stroke_top_unharmonized_proper_log"
   ]
  },
  {
   "cell_type": "code",
   "execution_count": null,
   "id": "f82e0de2-1813-49de-b4ad-146bae3e05c2",
   "metadata": {
    "tags": []
   },
   "outputs": [],
   "source": [
    "#StrokeMRI['wmh_vol'].describe()"
   ]
  },
  {
   "cell_type": "code",
   "execution_count": null,
   "id": "c6be7b4d-94ae-4d63-aad1-0dcd46adb4cf",
   "metadata": {
    "tags": []
   },
   "outputs": [],
   "source": [
    "#stroke_top_unharmonized_proper_log['wmh_vol'].describe()"
   ]
  },
  {
   "cell_type": "code",
   "execution_count": null,
   "id": "a89ec0bd-f462-4c28-885c-491e44556a6e",
   "metadata": {
    "tags": []
   },
   "outputs": [],
   "source": [
    "# top_pl_harmonized['wmh_vol'].min()"
   ]
  },
  {
   "cell_type": "code",
   "execution_count": null,
   "id": "92397df6",
   "metadata": {
    "tags": []
   },
   "outputs": [],
   "source": [
    "stroke_top_unharmonized_proper_log.reset_index()['wmh_vol'].plot(color='blue', alpha= 0.5)\n",
    "top_pl_harmonized['wmh_vol'].plot(color= 'red', alpha= 0.5)"
   ]
  },
  {
   "cell_type": "code",
   "execution_count": null,
   "id": "b7ebdb82",
   "metadata": {
    "tags": []
   },
   "outputs": [],
   "source": [
    "# harmonized_dfs = [top_pl_harmonized, bottom_pl_harmonized]\n",
    "# complete_harmonised = pd.concat(harmonized_dfs)\n",
    "# complete_harmonised "
   ]
  },
  {
   "cell_type": "code",
   "execution_count": null,
   "id": "c2ad9c5c-1c16-4ecb-828a-451ee6e70acd",
   "metadata": {
    "tags": []
   },
   "outputs": [],
   "source": [
    "stroke_top_unharmonized_proper_log.head(3)"
   ]
  },
  {
   "cell_type": "code",
   "execution_count": null,
   "id": "1c787502-b2f6-4796-acfb-9ba69f45fea2",
   "metadata": {
    "tags": []
   },
   "outputs": [],
   "source": [
    "top_pl_unharm_order = stroke_top_unharmonized_proper_log.drop('Unnamed: 0', axis=1)\n",
    "top_pl_unharm_order['harmonization'] =\"UH\"\n",
    "top_pl_unharm_order['site'] = \"s\"\n",
    "top_pl_unharm_order.head(3)"
   ]
  },
  {
   "cell_type": "code",
   "execution_count": null,
   "id": "1342276a",
   "metadata": {
    "tags": []
   },
   "outputs": [],
   "source": [
    "top_pl_harm_order = top_pl_harmonized.reset_index()\n",
    "top_pl_harm_order = top_pl_harm_order.rename(columns={'index': 'participant_id'})\n",
    "top_pl_harm_order['harmonization'] = \"H\"\n",
    "top_pl_harm_order['site'] = \"s\"\n",
    "top_pl_harm_order.head(3)"
   ]
  },
  {
   "cell_type": "code",
   "execution_count": null,
   "id": "ca6e2820-499a-4eb3-a772-cab5bc883cb4",
   "metadata": {
    "tags": []
   },
   "outputs": [],
   "source": []
  },
  {
   "cell_type": "markdown",
   "id": "97653422-667b-4eca-b96c-c947b6f0f678",
   "metadata": {},
   "source": [
    "The below cell is added as a hypothetical to demo graphing capabilities"
   ]
  },
  {
   "cell_type": "code",
   "execution_count": null,
   "id": "103bc3b3-9351-4936-ac7e-11071730d7fd",
   "metadata": {
    "tags": []
   },
   "outputs": [],
   "source": [
    "top_pl_harm_order[\"batch\"] = 1\n",
    "top_pl_unharm_order[\"batch\"] = 1\n",
    "top_pl_harm_order[:40][\"batch\"] = 2\n",
    "top_pl_unharm_order[:40][\"batch\"] = 2"
   ]
  },
  {
   "cell_type": "code",
   "execution_count": null,
   "id": "09ba86ff-e7e4-4721-b60e-b991ec225e33",
   "metadata": {
    "tags": []
   },
   "outputs": [],
   "source": [
    "def compare_harm_one_site_violins(\n",
    "        unharmonized_df,\n",
    "        harmonized_df,\n",
    "        feature_list,\n",
    "        chosen_feature=\"sex\"\n",
    "):\n",
    "    \"\"\"\n",
    "    Create a violin plot on single site harmonization by features,\n",
    "    split on a binary feature of choice which defaults to sex.\n",
    "    \"\"\"\n",
    "    for feat in feature_list:\n",
    "        complete_merg = pd.concat(\n",
    "            [unharmonized_df, harmonized_df]).reset_index(drop=True)\n",
    "        complete_merg[feat] = complete_merg[feat].astype('float64')\n",
    "        sns.set_style(\"whitegrid\")\n",
    "        y_axis = feat\n",
    "        g = sns.catplot(\n",
    "            data=complete_merg,\n",
    "            x='harmonization', y=y_axis, hue=chosen_feature,\n",
    "            split=True, inner='quartile', kind='violin',\n",
    "            height=4, aspect=0.7, palette=['pink', 'blue'], alpha=0.4)\n",
    "\n",
    "        lowest_on_graph = complete_merg[y_axis].min() - 0.5\n",
    "        plt.ylim((lowest_on_graph, complete_merg[y_axis].max() * 1.5))\n",
    "        plt.title(feat)\n",
    "        plt.show()"
   ]
  },
  {
   "cell_type": "code",
   "execution_count": null,
   "id": "ea1a4bf9-45fe-4b9d-b0fd-222dd19ef8bc",
   "metadata": {
    "tags": []
   },
   "outputs": [],
   "source": [
    "compare_harm_one_site_violins(top_pl_unharm_order, top_pl_harm_order, ['gm_vol', 'wm_vol', 'wmh_count', 'wmh_vol'])"
   ]
  },
  {
   "cell_type": "code",
   "execution_count": null,
   "id": "adb60bc8-3dbb-49c6-8ad5-eeadd845ccb0",
   "metadata": {
    "tags": []
   },
   "outputs": [],
   "source": [
    "# nw let's just  pretend to show other graphing\n",
    "har.compare_harm_multi_site_violins(top_pl_unharm_order, top_pl_harm_order, ['gm_vol', 'wm_vol', 'wmh_count', 'wmh_vol'])"
   ]
  },
  {
   "cell_type": "code",
   "execution_count": null,
   "id": "22771592-7d76-452b-9045-03527ad27226",
   "metadata": {},
   "outputs": [],
   "source": []
  },
  {
   "cell_type": "code",
   "execution_count": null,
   "id": "ce1ba9d9-bdfb-4245-b95c-fff34c3288f8",
   "metadata": {},
   "outputs": [],
   "source": []
  }
 ],
 "metadata": {
  "kernelspec": {
   "display_name": "Python 3 (ipykernel)",
   "language": "python",
   "name": "python3"
  },
  "language_info": {
   "codemirror_mode": {
    "name": "ipython",
    "version": 3
   },
   "file_extension": ".py",
   "mimetype": "text/x-python",
   "name": "python",
   "nbconvert_exporter": "python",
   "pygments_lexer": "ipython3",
   "version": "3.11.6"
  }
 },
 "nbformat": 4,
 "nbformat_minor": 5
}
