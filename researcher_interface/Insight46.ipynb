{
 "cells": [
  {
   "cell_type": "markdown",
   "id": "87984282-43de-4b73-b855-343b03ddf8c0",
   "metadata": {},
   "source": [
    "# Assembling the Inight 46 dataset"
   ]
  },
  {
   "cell_type": "markdown",
   "id": "d486a3fe-a689-43db-b6b6-fd3caac895ec",
   "metadata": {},
   "source": [
    "### Import libraries"
   ]
  },
  {
   "cell_type": "code",
   "execution_count": null,
   "id": "d376ff33-33fa-4b75-a30e-29ba4c8b28eb",
   "metadata": {
    "tags": []
   },
   "outputs": [],
   "source": [
    "import os       # using operating system dependent functionality (folders)\n",
    "import pandas as pd # data analysis and manipulation\n",
    "import numpy as np    # numerical computing (manipulating and performing operations on arrays of data)\n",
    "import matplotlib.pyplot as plt\n",
    "\n",
    "import sys\n",
    "sys.path.insert(0, '../') # path to functions\n",
    "import cvasl.seperated as sep\n",
    "from cvasl.file_handler import Config\n"
   ]
  },
  {
   "cell_type": "markdown",
   "id": "d2e6cb44-b8b7-4823-8f41-ccb9c2792de7",
   "metadata": {},
   "source": [
    "## Read data into pandas dataframe\n",
    "\n",
    "How do we define which files should be used together?\n",
    "options:\n",
    "- all files in folder\n",
    "- based on suffix (e.g. \"n=895_06-Feb-2023_PVC2.tsv\")\n",
    "- check first columns to see whether it matches\n",
    "\n",
    "For now, we will will use the first option"
   ]
  },
  {
   "cell_type": "code",
   "execution_count": null,
   "id": "76c37516-5591-4aed-b994-8e9d6caae572",
   "metadata": {
    "tags": []
   },
   "outputs": [],
   "source": [
    "experiment_folder= 'Insight46'"
   ]
  },
  {
   "cell_type": "code",
   "execution_count": null,
   "id": "5ad9bf4f-345d-482c-8408-b17131b1c1d0",
   "metadata": {
    "tags": []
   },
   "outputs": [],
   "source": [
    "config = Config()\n",
    "root_directory = config.get_directory('raw_data')\n",
    "if os.path.isdir(os.path.join(root_directory, experiment_folder)):\n",
    "    print(\"this folder exists, we will take tsv from here\")\n",
    "else: \n",
    "    print(\"this folder does not seem to exist, try typing again\")"
   ]
  },
  {
   "cell_type": "code",
   "execution_count": null,
   "id": "c2c8c1d7-b976-452d-ab83-885899986f6d",
   "metadata": {
    "tags": []
   },
   "outputs": [],
   "source": [
    "root_directory = config.get_directory('raw_data')\n",
    "tsv_path = os.path.join(root_directory, experiment_folder)\n",
    "\n",
    "tsv_files = [os.path.join(tsv_path, file) for file in os.listdir(tsv_path) if file.endswith('.tsv')]\n",
    "tsv_files"
   ]
  },
  {
   "cell_type": "code",
   "execution_count": null,
   "id": "9a63b417-6eeb-4689-aae6-3c4171d97691",
   "metadata": {
    "tags": []
   },
   "outputs": [],
   "source": [
    "# Read files into dataframes\n",
    "dataframes = [pd.read_csv(file, sep='\\t', header=[0,1], index_col=0) for file in tsv_files]\n",
    "sample_df = dataframes[0]\n",
    "cols = sample_df.columns\n",
    "sample_df"
   ]
  },
  {
   "cell_type": "markdown",
   "id": "ae2ef75b-a586-40b8-bcb1-c8908f60007e",
   "metadata": {
    "tags": []
   },
   "source": [
    "## Copy identical columns from any file\n",
    "\n",
    "we could also read it from the data, but if it's always the same, we can just define it here"
   ]
  },
  {
   "cell_type": "code",
   "execution_count": null,
   "id": "520a3528-1c86-4086-9b53-ea030ecaa355",
   "metadata": {
    "tags": []
   },
   "outputs": [],
   "source": [
    "# how many identical columns are there in the files?\n",
    "n_identical = 11  # columns A - L\n",
    "\n",
    "stitched = sample_df[cols[:n_identical]].copy()\n",
    "stitched['renumber'] = stitched.index"
   ]
  },
  {
   "cell_type": "markdown",
   "id": "ce9e759f-dd39-4f9b-bd3c-fd2df1dc4962",
   "metadata": {},
   "source": [
    "# Caution, scientists need to confirm the above steps are legitamate, until there is a check that these are the columns that are identical."
   ]
  },
  {
   "cell_type": "code",
   "execution_count": null,
   "id": "e01be87e-b0e2-478c-8554-e0b7124d2ffa",
   "metadata": {
    "tags": []
   },
   "outputs": [],
   "source": [
    "for df in dataframes:\n",
    "    for col in df.columns[n_identical:]:\n",
    "        stitched[col] = df[col]\n",
    "\n",
    "stitched.columns"
   ]
  },
  {
   "cell_type": "markdown",
   "id": "b3e59721-1b7c-4f7d-9a45-b2ee09f4655e",
   "metadata": {
    "tags": []
   },
   "source": [
    "# Here we note that we have 391 columns...a hand check shows this is possible. Lots pf brain areas left, right and both. But needs discussion with scientists"
   ]
  },
  {
   "cell_type": "code",
   "execution_count": null,
   "id": "2266fffa-4ed0-4523-b725-121a47d94800",
   "metadata": {
    "tags": []
   },
   "outputs": [],
   "source": [
    "sexage_path = os.path.join(root_directory, 'age_data', 'Age_sex_Insight46.csv')\n",
    "sexage_df = pd.read_csv(sexage_path, index_col=0)\n",
    "sexage_df['renumber'] = sexage_df.index\n",
    "sexage_df['renumber'] = sexage_df['renumber'].apply(str)\n",
    "\n",
    "#sexage_df['renumber']\n",
    "# tp 2 then + '2_1' if 1 then 1_1\n",
    "sexage_df"
   ]
  },
  {
   "cell_type": "markdown",
   "id": "f41fd9ad-3c01-4c86-929f-c34f31221fb1",
   "metadata": {},
   "source": [
    "# Here we assume that we only have time point 1 on this dataset. This must be checked with scientists"
   ]
  },
  {
   "cell_type": "code",
   "execution_count": null,
   "id": "809cec89-d481-4550-ad7a-c3517efe7b7c",
   "metadata": {
    "tags": []
   },
   "outputs": [],
   "source": [
    "sexage_df['renumber'] = \"sub_\" +sexage_df['renumber'] + \"_1\"\n",
    "sexage_df"
   ]
  },
  {
   "cell_type": "code",
   "execution_count": null,
   "id": "efd3bf23-4674-4fd1-aa98-9d1640f7da6a",
   "metadata": {
    "tags": []
   },
   "outputs": [],
   "source": [
    "stitched = stitched.reset_index(drop=True)\n",
    "sexage_df = sexage_df.reset_index(drop=True)\n",
    "result = pd.concat([stitched, sexage_df], axis=1, join=\"inner\")\n",
    "result"
   ]
  },
  {
   "cell_type": "code",
   "execution_count": null,
   "id": "d02176e4-07e0-4b0d-be21-d81bdea72272",
   "metadata": {
    "tags": []
   },
   "outputs": [],
   "source": [
    "result.columns = [c[0]  for c in result.columns]\n",
    "result.columns"
   ]
  },
  {
   "cell_type": "code",
   "execution_count": null,
   "id": "5816f794-b425-4d0c-8daa-da492a72185f",
   "metadata": {
    "tags": []
   },
   "outputs": [],
   "source": [
    "for n in result.columns:\n",
    "    print(n)"
   ]
  },
  {
   "cell_type": "code",
   "execution_count": null,
   "id": "6be446f2-4e27-4081-8faf-fec5b9c582b5",
   "metadata": {},
   "outputs": [],
   "source": [
    "result = result.rename(columns={\"a\": \"Age\", \"s\": \"Sex\"})\n"
   ]
  },
  {
   "cell_type": "markdown",
   "id": "b00e81ca-3a69-433a-8724-7b96536d62f7",
   "metadata": {},
   "source": [
    "## Save off file"
   ]
  },
  {
   "cell_type": "code",
   "execution_count": null,
   "id": "94a6a7f1-9334-43e7-8d4f-d7eeb254042a",
   "metadata": {
    "tags": []
   },
   "outputs": [],
   "source": [
    "filepath = '../open_work/internal_results/Insight46_stitched.csv' \n",
    "result.to_csv(filepath)  "
   ]
  },
  {
   "cell_type": "code",
   "execution_count": null,
   "id": "e20b20c2-82b5-4898-b2f8-8e7cd5832206",
   "metadata": {
    "tags": []
   },
   "outputs": [],
   "source": [
    "result.columns"
   ]
  },
  {
   "cell_type": "code",
   "execution_count": null,
   "id": "9ff1ae73-07fc-49ae-8358-ee40abfed874",
   "metadata": {},
   "outputs": [],
   "source": []
  }
 ],
 "metadata": {
  "kernelspec": {
   "display_name": "Python 3 (ipykernel)",
   "language": "python",
   "name": "python3"
  },
  "language_info": {
   "codemirror_mode": {
    "name": "ipython",
    "version": 3
   },
   "file_extension": ".py",
   "mimetype": "text/x-python",
   "name": "python",
   "nbconvert_exporter": "python",
   "pygments_lexer": "ipython3",
   "version": "3.9.16"
  }
 },
 "nbformat": 4,
 "nbformat_minor": 5
}
