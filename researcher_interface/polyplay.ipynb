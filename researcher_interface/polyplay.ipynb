{
 "cells": [
  {
   "cell_type": "markdown",
   "id": "23f5f4c7-69cf-4292-a882-5c2018fc35fc",
   "metadata": {},
   "source": [
    "# Polynomial Tranformation notebook"
   ]
  },
  {
   "cell_type": "code",
   "execution_count": null,
   "id": "7adc7f43-3acb-43dc-8180-c656b6905ac9",
   "metadata": {
    "tags": []
   },
   "outputs": [],
   "source": [
    "# def calculate_transformation(polynomial1, polynomial2):\n",
    "#     \"\"\"Calculates the transformation function between two second degree polynomials.\n",
    "\n",
    "#     Args:\n",
    "#         polynomial1 (tuple): Coefficients of the first polynomial in the form (a1, b1, c1).\n",
    "#         polynomial2 (tuple): Coefficients of the second polynomial in the form (a2, b2, c2).\n",
    "\n",
    "#     Returns:\n",
    "#         tuple: Coefficients of the transformation function in the form (a, b, c).\n",
    "#     \"\"\"\n",
    "#     a1, b1, c1 = polynomial1\n",
    "#     a2, b2, c2 = polynomial2\n",
    "\n",
    "#     # Solve the linear equations to find the transformation coefficients\n",
    "#     a = a2 - a1\n",
    "#     b = b2 - b1\n",
    "#     c = c2 - c1\n",
    "\n",
    "#     transformation = (a, b, c)\n",
    "#     return transformation"
   ]
  },
  {
   "cell_type": "markdown",
   "id": "f26a2339-dba4-498d-8163-a6bfe80c764a",
   "metadata": {},
   "source": [
    "To use this function, you need to provide the coefficients of the two polynomials as tuples. The function will calculate the transformation coefficients and return them as a tuple.\n",
    "\n",
    "For example, let's say you have the first polynomial 2x^2 + 3x + 1 and the second polynomial 4x^2 - 2x - 5. You can use the function as follows:\n",
    "\n",
    "python\n",
    "\n",
    "\n",
    "polynomial1 = (2, 3, 1)\n",
    "\n",
    "polynomial2 = (4, -2, -5)\n",
    "\n",
    "transformation = calculate_transformation(polynomial1, polynomial2)\n",
    "\n",
    "print(transformation)  # Output: "
   ]
  },
  {
   "cell_type": "code",
   "execution_count": null,
   "id": "f8e32052-44c4-4c75-9770-e78f6621a17c",
   "metadata": {
    "tags": []
   },
   "outputs": [],
   "source": [
    "x = [1,2,3,4,5,6]\n",
    "results_poly1 = []\n",
    "for xs in x:\n",
    "    y = (2*xs**2 + xs*3 +1)\n",
    "    results_poly1.append(y)"
   ]
  },
  {
   "cell_type": "code",
   "execution_count": null,
   "id": "9216b225-8357-441c-8e00-b45a290fc951",
   "metadata": {
    "tags": []
   },
   "outputs": [],
   "source": [
    "x = [1,2,3,4,5,6]\n",
    "results_poly2 = []\n",
    "for xs in x:\n",
    "    y = (4*xs**2 - (2*xs) - 5)\n",
    "    results_poly2.append(y)"
   ]
  },
  {
   "cell_type": "code",
   "execution_count": null,
   "id": "b044c37a-49d6-41dc-b90e-7a0e5b309e14",
   "metadata": {
    "tags": []
   },
   "outputs": [],
   "source": [
    "results_poly1, results_poly2"
   ]
  },
  {
   "cell_type": "code",
   "execution_count": null,
   "id": "f8a06c4e-ef3e-49c7-84fe-f233552ef7f0",
   "metadata": {
    "tags": []
   },
   "outputs": [],
   "source": [
    "# calculate_transformation((2, 3, 1) , (4, -2, -5) )"
   ]
  },
  {
   "cell_type": "code",
   "execution_count": null,
   "id": "06e96771-b5ad-4e33-a4c1-825e68b241c4",
   "metadata": {
    "tags": []
   },
   "outputs": [],
   "source": [
    "#x"
   ]
  },
  {
   "cell_type": "code",
   "execution_count": null,
   "id": "2547bf29-bf87-44f2-b8b5-6a10e0ef5731",
   "metadata": {
    "tags": []
   },
   "outputs": [],
   "source": [
    "# x = results_poly1\n",
    "# results_poly_transformed = []\n",
    "# for xs in x:\n",
    "#     y = ((2+2)*xs**2 + (3-5)*xs  -(1-6))\n",
    "#     results_poly_transformed.append(y)\n",
    "# results_poly_transformed"
   ]
  },
  {
   "cell_type": "markdown",
   "id": "c9f004f3-5972-4b02-a4d5-c96e12a2dbe6",
   "metadata": {
    "tags": []
   },
   "source": [
    "# nope."
   ]
  },
  {
   "cell_type": "code",
   "execution_count": null,
   "id": "6c5a1c89-1be1-46bc-8df4-e6c61dfe9257",
   "metadata": {
    "tags": []
   },
   "outputs": [],
   "source": [
    "import numpy as np\n",
    "\n",
    "def generate_transformation_matrix(polynomial1, polynomial2):\n",
    "    \"\"\"Generates a matrix that transforms one polynomial into another.\n",
    "\n",
    "    Args:\n",
    "        polynomial1 (tuple): Coefficients of the first polynomial in the form (a1, b1, c1).\n",
    "        polynomial2 (tuple): Coefficients of the second polynomial in the form (a2, b2, c2).\n",
    "\n",
    "    Returns:\n",
    "        numpy.ndarray: Transformation matrix.\n",
    "    \"\"\"\n",
    "    a1, b1, c1 = polynomial1\n",
    "    a2, b2, c2 = polynomial2\n",
    "\n",
    "\n",
    "    v1 = np.array([a1,b1,c1])\n",
    "    v2 = np.array([a2,b2,c2])\n",
    "    m = np.array(((a2/a1,0,0), (0,b2/b1,0), (0,0,c2/c1)))\n",
    "    return m #transformation_matrix\n"
   ]
  },
  {
   "cell_type": "code",
   "execution_count": null,
   "id": "51ad0e1e-c0d1-4554-bab5-235da8bbfb74",
   "metadata": {
    "tags": []
   },
   "outputs": [],
   "source": [
    "polynomial1 = (2, 3, 1)\n",
    "polynomial2 = (4, -2, -5)\n",
    "\n",
    "transformation_matrix = generate_transformation_matrix(polynomial1, polynomial2)\n",
    "(transformation_matrix*polynomial1).sum(axis=1)"
   ]
  },
  {
   "cell_type": "code",
   "execution_count": null,
   "id": "4e3e1c88-ac82-4b1e-a063-7e07f4d9609c",
   "metadata": {
    "tags": []
   },
   "outputs": [],
   "source": [
    "polynomial2"
   ]
  },
  {
   "cell_type": "code",
   "execution_count": null,
   "id": "6d97a421-1a56-4460-afb5-083cadf8b7e8",
   "metadata": {
    "tags": []
   },
   "outputs": [],
   "source": [
    "results_poly2"
   ]
  },
  {
   "cell_type": "code",
   "execution_count": null,
   "id": "6754de38-cc48-427b-a55d-3602f17585c8",
   "metadata": {
    "tags": []
   },
   "outputs": [],
   "source": [
    "import numpy as np\n",
    "def give_transformation_output(polynomial1, polynomial2, poly2values):\n",
    "    \"\"\"\n",
    "    Given two polynomials, map the values on the second onto values on the first.\n",
    "    \n",
    "    \"\"\"\n",
    "#     a1, b1, c1 = polynomial1\n",
    "#     a2, b2, c2 = polynomial2\n",
    "    start_age_array = find_original_y_values(polynomial2, poly2values)\n",
    "\n",
    "#     v1 = np.array([a1,b1,c1])\n",
    "#     v2 = np.array([a2,b2,c2])\n",
    "#     m = np.array(((a2/a1,0,0), (0,b2/b1,0), (0,0,c2/c1))) # transformation matrix\n",
    "    transformation_matrix = generate_transformation_matrix(polynomial1, polynomial2)\n",
    "    transformed_poly = (transformation_matrix*polynomial2).sum(axis=1)\n",
    "    pile = []\n",
    "    for value in start_age_array:\n",
    "        print(start_age_array)\n",
    "        print(transformed_poly)\n",
    "        print(value)\n",
    "        new_value = transformed_poly[0]*value**2 + transformed_poly[1]*value + transformed_poly[2]\n",
    "        pile.append(new_value)\n",
    "\n",
    "        \n",
    "\n",
    "        return pile\n",
    "\n"
   ]
  },
  {
   "cell_type": "code",
   "execution_count": null,
   "id": "b5ce8a9f-2055-4bec-bf9a-eac7369eabef",
   "metadata": {
    "tags": []
   },
   "outputs": [],
   "source": [
    "give_transformation_output(polynomial1, polynomial2, results_poly2)"
   ]
  },
  {
   "cell_type": "code",
   "execution_count": null,
   "id": "db9afd02-dcb9-4284-adab-e69ebeb9f666",
   "metadata": {
    "tags": []
   },
   "outputs": [],
   "source": [
    "import numpy as np\n",
    "\n",
    "def find_original_y_values(polynomial, output_value):\n",
    "    \"\"\"Finds the original y-values of a second degree polynomial given its coefficients and an output value.\n",
    "\n",
    "    Args:\n",
    "        polynomial (tuple): Coefficients of the polynomial in the form (a, b, c).\n",
    "        output_value (float): Output value of the polynomial.\n",
    "\n",
    "    Returns:\n",
    "        list: List of original y-values corresponding to the output value.\n",
    "    \"\"\"\n",
    "    a, b, c = polynomial\n",
    "\n",
    "    \n",
    "    pile = []\n",
    "    for value in output_value:\n",
    "        # Calculate the discriminant\n",
    "        discriminant = b**2 - 4*a*(c - value)\n",
    "        # If the discriminant is negative, no real roots exist\n",
    "        if discriminant < 0:\n",
    "            return []\n",
    "        # Calculate the original y-values\n",
    "        x1 = (-b + np.sqrt(discriminant)) / (2*a)\n",
    "        pile.append(x1)\n",
    "\n",
    "    return pile\n"
   ]
  },
  {
   "cell_type": "code",
   "execution_count": null,
   "id": "dd27ef7e-fd26-4e99-a33d-829071d0d2f5",
   "metadata": {
    "tags": []
   },
   "outputs": [],
   "source": [
    "results_poly2"
   ]
  },
  {
   "cell_type": "code",
   "execution_count": null,
   "id": "f77af936-91df-4bd1-ba00-3d4bd65a4fe7",
   "metadata": {
    "tags": []
   },
   "outputs": [],
   "source": [
    "find_original_y_values( polynomial2, results_poly2)"
   ]
  },
  {
   "cell_type": "code",
   "execution_count": null,
   "id": "cf61cfb6-d9fb-4215-9eef-08dc6ef48d84",
   "metadata": {
    "tags": []
   },
   "outputs": [],
   "source": [
    "# import numpy as np\n",
    "\n",
    "# def transform_output(polynomial1, polynomial2, output_value):\n",
    "#     \"\"\"Transforms the output value of one second degree polynomial into the output value of another second degree polynomial.\n",
    "\n",
    "#     Args:\n",
    "#         polynomial1 (tuple): Coefficients of the first polynomial in the form (a1, b1, c1).\n",
    "#         polynomial2 (tuple): Coefficients of the second polynomial in the form (a2, b2, c2).\n",
    "#         output_value (float): Output value of the first polynomial.\n",
    "\n",
    "#     Returns:\n",
    "#         float: Transformed output value of the second polynomial.\n",
    "#     \"\"\"\n",
    "#     a1, b1, c1 = polynomial1\n",
    "#     a2, b2, c2 = polynomial2\n",
    "\n",
    "#     # Create the coefficient matrix A\n",
    "#     A = np.array([[a1, b1, c1], [0, a1, b1], [0, 0, a1]])\n",
    "\n",
    "#     # Create the target matrix B\n",
    "#     B = np.array([a2, b2, c2])\n",
    "\n",
    "#     # Solve the matrix equation Ax = B to find the transformation matrix\n",
    "#     transformation_matrix = np.linalg.solve(A, B)\n",
    "\n",
    "#     # Create the coefficient vector of the transformed polynomial\n",
    "#     transformed_polynomial_vector = np.dot(transformation_matrix, np.array([output_value, 1, 0]))\n",
    "\n",
    "#     # Extract the output value of the transformed polynomial\n",
    "#     transformed_output_value = transformed_polynomial_vector[0]\n",
    "#     return transformed_output_value\n"
   ]
  },
  {
   "cell_type": "code",
   "execution_count": null,
   "id": "a72b3963-6eb2-4077-b1b8-be63bdbfee1a",
   "metadata": {},
   "outputs": [],
   "source": []
  }
 ],
 "metadata": {
  "kernelspec": {
   "display_name": "Python 3 (ipykernel)",
   "language": "python",
   "name": "python3"
  },
  "language_info": {
   "codemirror_mode": {
    "name": "ipython",
    "version": 3
   },
   "file_extension": ".py",
   "mimetype": "text/x-python",
   "name": "python",
   "nbconvert_exporter": "python",
   "pygments_lexer": "ipython3",
   "version": "3.9.16"
  }
 },
 "nbformat": 4,
 "nbformat_minor": 5
}
